{
 "cells": [
  {
   "cell_type": "markdown",
   "metadata": {},
   "source": [
    "## CSV 라이브러리를 쓰세요."
   ]
  },
  {
   "cell_type": "code",
   "execution_count": 2,
   "metadata": {
    "collapsed": true
   },
   "outputs": [],
   "source": [
    "import csv\n",
    "\n",
    "rows = [\n",
    "    ['월요웹툰', '화요웹툰', '수요웹툰', '목요웹툰', '금요웹툰', '토요웹툰', '일요웹툰'],\n",
    "    ['신의 탑', '마음의소리', '고수', '기기괴괴', '덴마', '호랑이형님', '열럽전사'],\n",
    "    ['귀전구담', '노블레스', '퍼미스미션', '하루 3컷', '테러맨', '부활남', '다이스'], \n",
    "    ['히어로메이커', '하이브', 'DEY 호러채널', '마술사', '오즈랜드', '유미의세포들', '조선왕조실톡'],\n",
    "]\n",
    "\n",
    "with open('webtoon.csv', 'wt', encoding='utf8') as f:\n",
    "    writer = csv.writer(f)\n",
    "    writer.writerows(rows)"
   ]
  },
  {
   "cell_type": "code",
   "execution_count": 3,
   "metadata": {},
   "outputs": [
    {
     "name": "stdout",
     "output_type": "stream",
     "text": [
      "월요웹툰,화요웹툰,수요웹툰,목요웹툰,금요웹툰,토요웹툰,일요웹툰\n",
      "신의 탑,마음의소리,고수,기기괴괴,덴마,호랑이형님,열럽전사\n",
      "귀전구담,노블레스,퍼미스미션,하루 3컷,테러맨,부활남,다이스\n",
      "히어로메이커,하이브,DEY 호러채널,마술사,오즈랜드,유미의세포들,조선왕조실톡\n",
      "\n"
     ]
    }
   ],
   "source": [
    "with open('webtoon.csv', 'rt', encoding='utf8') as f:\n",
    "    print(f.read())"
   ]
  },
  {
   "cell_type": "markdown",
   "metadata": {},
   "source": [
    "## csv.DictWriter"
   ]
  },
  {
   "cell_type": "code",
   "execution_count": 6,
   "metadata": {
    "collapsed": true
   },
   "outputs": [],
   "source": [
    "import csv\n",
    "\n",
    "with open('webtoon_dictwriter.csv', 'wt', encoding='utf8') as f:\n",
    "    fieldnames = ['last_name', 'first_name']\n",
    "    \n",
    "    writer = csv.DictWriter(f, fieldnames=fieldnames)\n",
    "    \n",
    "    writer.writeheader()\n",
    "    \n",
    "    # 1 Row를 쓸 때\n",
    "    writer.writerow({'first_name': 'Baked', 'last_name': 'Beans'})\n",
    "    \n",
    "    # 다수 Row를 쓸 때\n",
    "    writer.writerows([\n",
    "        {'first_name': 'Lovely', 'last_name': 'Spam'},\n",
    "        {'first_name': 'Wonderful', 'last_name': 'Spam'},\n",
    "    ])"
   ]
  },
  {
   "cell_type": "code",
   "execution_count": 7,
   "metadata": {},
   "outputs": [
    {
     "name": "stdout",
     "output_type": "stream",
     "text": [
      "last_name,first_name\n",
      "Beans,Baked\n",
      "Spam,Lovely\n",
      "Spam,Wonderful\n",
      "\n"
     ]
    }
   ],
   "source": [
    "with open('webtoon_dictwriter.csv', 'rt', encoding='utf8') as f:\n",
    "    print(f.read())"
   ]
  },
  {
   "cell_type": "markdown",
   "metadata": {},
   "source": [
    "## CSV 읽기"
   ]
  },
  {
   "cell_type": "code",
   "execution_count": 9,
   "metadata": {},
   "outputs": [
    {
     "name": "stdout",
     "output_type": "stream",
     "text": [
      "['월요웹툰', '화요웹툰', '수요웹툰', '목요웹툰', '금요웹툰', '토요웹툰', '일요웹툰\\n']\n",
      "['신의 탑', '마음의소리', '고수', '기기괴괴', '덴마', '호랑이형님', '열럽전사\\n']\n",
      "['귀전구담', '노블레스', '퍼미스미션', '하루 3컷', '테러맨', '부활남', '다이스\\n']\n",
      "['히어로메이커', '하이브', 'DEY 호러채널', '마술사', '오즈랜드', '유미의세포들', '조선왕조실톡\\n']\n"
     ]
    }
   ],
   "source": [
    "with open('webtoon.csv', 'rt', encoding='utf8') as f:\n",
    "    for line in f:\n",
    "        row = line.split(',')\n",
    "        print(row) # list type"
   ]
  },
  {
   "cell_type": "code",
   "execution_count": 10,
   "metadata": {},
   "outputs": [
    {
     "name": "stdout",
     "output_type": "stream",
     "text": [
      "['월요웹툰', '화요웹툰', '수요웹툰', '목요웹툰', '금요웹툰', '토요웹툰', '일요웹툰']\n",
      "['신의 탑', '마음의소리', '고수', '기기괴괴', '덴마', '호랑이형님', '열럽전사']\n",
      "['귀전구담', '노블레스', '퍼미스미션', '하루 3컷', '테러맨', '부활남', '다이스']\n",
      "['히어로메이커', '하이브', 'DEY 호러채널', '마술사', '오즈랜드', '유미의세포들', '조선왕조실톡']\n"
     ]
    }
   ],
   "source": [
    "import csv\n",
    "with open('webtoon.csv', 'rt', encoding='utf8') as f:\n",
    "    reader = csv.reader(f)\n",
    "    for row in reader:\n",
    "        print(row) # list type"
   ]
  },
  {
   "cell_type": "code",
   "execution_count": 14,
   "metadata": {},
   "outputs": [
    {
     "name": "stdout",
     "output_type": "stream",
     "text": [
      "OrderedDict([('last_name', 'Beans'), ('first_name', 'Baked')])\n",
      "OrderedDict([('last_name', 'Spam'), ('first_name', 'Lovely')])\n",
      "OrderedDict([('last_name', 'Spam'), ('first_name', 'Wonderful')])\n"
     ]
    }
   ],
   "source": [
    "import csv\n",
    "\n",
    "with open('webtoon_dictwriter.csv', 'rt', encoding='utf8') as f:\n",
    "    # line = next(f)\n",
    "    # fieldnames = line.split(',')\n",
    "    reader = csv.DictReader(f) #, fieldnames=fieldnames)\n",
    "    for row in reader:\n",
    "        print(row) # list type"
   ]
  },
  {
   "cell_type": "markdown",
   "metadata": {},
   "source": [
    "## codecs.BOM_UTF8"
   ]
  },
  {
   "cell_type": "code",
   "execution_count": null,
   "metadata": {
    "collapsed": true
   },
   "outputs": [],
   "source": [
    "import codecs\n",
    "codecs.BOM_UTF8"
   ]
  },
  {
   "cell_type": "code",
   "execution_count": null,
   "metadata": {
    "collapsed": true
   },
   "outputs": [],
   "source": [
    "import tablib"
   ]
  },
  {
   "cell_type": "markdown",
   "metadata": {},
   "source": [
    "## tablib"
   ]
  },
  {
   "cell_type": "code",
   "execution_count": 1,
   "metadata": {
    "collapsed": true
   },
   "outputs": [],
   "source": [
    "rows = [\n",
    "    ['월요웹툰', '화요웹툰', '수요웹툰', '목요웹툰', '금요웹툰', '토요웹툰', '일요웹툰'],\n",
    "    ['신의 탑', '마음의소리', '고수', '기기괴괴', '덴마', '호랑이형님', '열럽전사'],\n",
    "    ['귀전구담', '노블레스', '퍼미스미션', '하루 3컷', '테러맨', '부활남', '다이스'], \n",
    "    ['히어로메이커', '하이브', 'DEY 호러채널', '마술사', '오즈랜드', '유미의세포들', '조선왕조실톡'],\n",
    "]\n",
    "\n",
    "import tablib\n",
    "data = tablib.Dataset()\n",
    "data.headers = rows[0]\n",
    "for row in rows[1:]:\n",
    "    data.append(row)"
   ]
  },
  {
   "cell_type": "code",
   "execution_count": 2,
   "metadata": {},
   "outputs": [
    {
     "data": {
      "text/plain": [
       "<dataset object>"
      ]
     },
     "execution_count": 2,
     "metadata": {},
     "output_type": "execute_result"
    }
   ],
   "source": [
    "data"
   ]
  },
  {
   "cell_type": "code",
   "execution_count": 3,
   "metadata": {},
   "outputs": [
    {
     "name": "stdout",
     "output_type": "stream",
     "text": [
      "[{\"\\uc6d4\\uc694\\uc6f9\\ud230\": \"\\uc2e0\\uc758 \\ud0d1\", \"\\ud654\\uc694\\uc6f9\\ud230\": \"\\ub9c8\\uc74c\\uc758\\uc18c\\ub9ac\", \"\\uc218\\uc694\\uc6f9\\ud230\": \"\\uace0\\uc218\", \"\\ubaa9\\uc694\\uc6f9\\ud230\": \"\\uae30\\uae30\\uad34\\uad34\", \"\\uae08\\uc694\\uc6f9\\ud230\": \"\\ub374\\ub9c8\", \"\\ud1a0\\uc694\\uc6f9\\ud230\": \"\\ud638\\ub791\\uc774\\ud615\\ub2d8\", \"\\uc77c\\uc694\\uc6f9\\ud230\": \"\\uc5f4\\ub7fd\\uc804\\uc0ac\"}, {\"\\uc6d4\\uc694\\uc6f9\\ud230\": \"\\uadc0\\uc804\\uad6c\\ub2f4\", \"\\ud654\\uc694\\uc6f9\\ud230\": \"\\ub178\\ube14\\ub808\\uc2a4\", \"\\uc218\\uc694\\uc6f9\\ud230\": \"\\ud37c\\ubbf8\\uc2a4\\ubbf8\\uc158\", \"\\ubaa9\\uc694\\uc6f9\\ud230\": \"\\ud558\\ub8e8 3\\ucef7\", \"\\uae08\\uc694\\uc6f9\\ud230\": \"\\ud14c\\ub7ec\\ub9e8\", \"\\ud1a0\\uc694\\uc6f9\\ud230\": \"\\ubd80\\ud65c\\ub0a8\", \"\\uc77c\\uc694\\uc6f9\\ud230\": \"\\ub2e4\\uc774\\uc2a4\"}, {\"\\uc6d4\\uc694\\uc6f9\\ud230\": \"\\ud788\\uc5b4\\ub85c\\uba54\\uc774\\ucee4\", \"\\ud654\\uc694\\uc6f9\\ud230\": \"\\ud558\\uc774\\ube0c\", \"\\uc218\\uc694\\uc6f9\\ud230\": \"DEY \\ud638\\ub7ec\\ucc44\\ub110\", \"\\ubaa9\\uc694\\uc6f9\\ud230\": \"\\ub9c8\\uc220\\uc0ac\", \"\\uae08\\uc694\\uc6f9\\ud230\": \"\\uc624\\uc988\\ub79c\\ub4dc\", \"\\ud1a0\\uc694\\uc6f9\\ud230\": \"\\uc720\\ubbf8\\uc758\\uc138\\ud3ec\\ub4e4\", \"\\uc77c\\uc694\\uc6f9\\ud230\": \"\\uc870\\uc120\\uc655\\uc870\\uc2e4\\ud1a1\"}]\n"
     ]
    }
   ],
   "source": [
    "print(data.json)"
   ]
  },
  {
   "cell_type": "code",
   "execution_count": 4,
   "metadata": {},
   "outputs": [
    {
     "name": "stdout",
     "output_type": "stream",
     "text": [
      "- {\"\\uAE08\\uC694\\uC6F9\\uD230\": \"\\uB374\\uB9C8\", \"\\uBAA9\\uC694\\uC6F9\\uD230\": \"\\uAE30\\uAE30\\\n",
      "    \\uAD34\\uAD34\", \"\\uC218\\uC694\\uC6F9\\uD230\": \"\\uACE0\\uC218\", \"\\uC6D4\\uC694\\uC6F9\\uD230\": \"\\uC2E0\\uC758\\\n",
      "    \\ \\uD0D1\", \"\\uC77C\\uC694\\uC6F9\\uD230\": \"\\uC5F4\\uB7FD\\uC804\\uC0AC\", \"\\uD1A0\\uC694\\uC6F9\\uD230\": \"\\uD638\\uB791\\\n",
      "    \\uC774\\uD615\\uB2D8\", \"\\uD654\\uC694\\uC6F9\\uD230\": \"\\uB9C8\\uC74C\\uC758\\uC18C\\uB9AC\"}\n",
      "- {\"\\uAE08\\uC694\\uC6F9\\uD230\": \"\\uD14C\\uB7EC\\uB9E8\", \"\\uBAA9\\uC694\\uC6F9\\uD230\": \"\\uD558\\uB8E8\\\n",
      "    \\ 3\\uCEF7\", \"\\uC218\\uC694\\uC6F9\\uD230\": \"\\uD37C\\uBBF8\\uC2A4\\uBBF8\\uC158\", \"\\uC6D4\\uC694\\uC6F9\\uD230\": \"\\uADC0\\uC804\\\n",
      "    \\uAD6C\\uB2F4\", \"\\uC77C\\uC694\\uC6F9\\uD230\": \"\\uB2E4\\uC774\\uC2A4\", \"\\uD1A0\\uC694\\uC6F9\\uD230\": \"\\uBD80\\uD65C\\\n",
      "    \\uB0A8\", \"\\uD654\\uC694\\uC6F9\\uD230\": \"\\uB178\\uBE14\\uB808\\uC2A4\"}\n",
      "- {\"\\uAE08\\uC694\\uC6F9\\uD230\": \"\\uC624\\uC988\\uB79C\\uB4DC\", \"\\uBAA9\\uC694\\uC6F9\\uD230\": \"\\uB9C8\\uC220\\\n",
      "    \\uC0AC\", \"\\uC218\\uC694\\uC6F9\\uD230\": \"DEY \\uD638\\uB7EC\\uCC44\\uB110\", \"\\uC6D4\\uC694\\uC6F9\\uD230\": \"\\uD788\\uC5B4\\\n",
      "    \\uB85C\\uBA54\\uC774\\uCEE4\", \"\\uC77C\\uC694\\uC6F9\\uD230\": \"\\uC870\\uC120\\uC655\\uC870\\\n",
      "    \\uC2E4\\uD1A1\", \"\\uD1A0\\uC694\\uC6F9\\uD230\": \"\\uC720\\uBBF8\\uC758\\uC138\\uD3EC\\uB4E4\",\n",
      "  \"\\uD654\\uC694\\uC6F9\\uD230\": \"\\uD558\\uC774\\uBE0C\"}\n",
      "\n"
     ]
    }
   ],
   "source": [
    "print(data.yaml)"
   ]
  },
  {
   "cell_type": "code",
   "execution_count": 6,
   "metadata": {},
   "outputs": [
    {
     "name": "stderr",
     "output_type": "stream",
     "text": [
      "/Users/jinhohyeon/anaconda/lib/python3.6/site-packages/openpyxl/worksheet/worksheet.py:303: UserWarning: Using a coordinate with ws.cell is deprecated. Use ws[coordinate] instead\n",
      "  warn(\"Using a coordinate with ws.cell is deprecated. Use ws[coordinate] instead\")\n"
     ]
    }
   ],
   "source": [
    "with open('data.xlsx', 'wb') as f:\n",
    "    f.write(data.xlsx) # excel 파일 내용"
   ]
  },
  {
   "cell_type": "code",
   "execution_count": null,
   "metadata": {
    "collapsed": true
   },
   "outputs": [],
   "source": []
  },
  {
   "cell_type": "code",
   "execution_count": null,
   "metadata": {
    "collapsed": true
   },
   "outputs": [],
   "source": []
  }
 ],
 "metadata": {
  "kernelspec": {
   "display_name": "Python 3",
   "language": "python",
   "name": "python3"
  },
  "language_info": {
   "codemirror_mode": {
    "name": "ipython",
    "version": 3
   },
   "file_extension": ".py",
   "mimetype": "text/x-python",
   "name": "python",
   "nbconvert_exporter": "python",
   "pygments_lexer": "ipython3",
   "version": "3.6.0"
  }
 },
 "nbformat": 4,
 "nbformat_minor": 2
}
