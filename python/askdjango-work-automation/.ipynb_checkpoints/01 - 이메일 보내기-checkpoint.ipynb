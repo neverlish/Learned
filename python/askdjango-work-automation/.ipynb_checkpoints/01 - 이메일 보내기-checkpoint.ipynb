{
 "cells": [
  {
   "cell_type": "code",
   "execution_count": null,
   "metadata": {
    "collapsed": true
   },
   "outputs": [],
   "source": [
    "import smptlib\n",
    "from email.message import EmailMessage\n",
    "\n",
    "import getpass\n",
    "password = getpass.getpass('Password : ')\n",
    "\n",
    "message = EmailMessage()\n",
    "message['Subject'] = '이메일 제목'\n",
    "message['From'] = 'hasblue@naver.com'\n",
    "message['To'] = 'neverlish@gmail.com' # 수신자 이메일 다수 (구분자: 콤마)\n",
    "\n",
    "message.set_content('''이메일내용\n",
    "\n",
    "안녕하세요. AskDjango입니다.\n",
    "\n",
    "이 부분에는 이메일의 내용을 쓰실 수 있으며, HTML은 불가합니다.\n",
    "HTML을 쓰시면 태그가 그대로 노출됩니다.\n",
    "\n",
    "여러분의 파이썬/장고 페이스메이커가 되겠습니다. 감사합니다;)''')\n",
    "\n",
    "with smptlib.SMTP_SSL('smtp.naver.com', 465) as server:\n",
    "    server.ehlo()\n",
    "    server.login('hasblue', password)\n",
    "    server.send_message(message)\n",
    "\n",
    "print('이메일을 발송했습니다.')"
   ]
  }
 ],
 "metadata": {
  "kernelspec": {
   "display_name": "Python 3",
   "language": "python",
   "name": "python3"
  },
  "language_info": {
   "codemirror_mode": {
    "name": "ipython",
    "version": 3
   },
   "file_extension": ".py",
   "mimetype": "text/x-python",
   "name": "python",
   "nbconvert_exporter": "python",
   "pygments_lexer": "ipython3",
   "version": "3.6.0"
  }
 },
 "nbformat": 4,
 "nbformat_minor": 2
}
