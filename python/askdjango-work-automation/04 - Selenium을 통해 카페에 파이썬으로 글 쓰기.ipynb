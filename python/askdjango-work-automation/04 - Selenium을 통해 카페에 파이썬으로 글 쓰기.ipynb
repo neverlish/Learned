{
 "cells": [
  {
   "cell_type": "markdown",
   "metadata": {},
   "source": [
    "# 네이버 검색"
   ]
  },
  {
   "cell_type": "code",
   "execution_count": 2,
   "metadata": {
    "collapsed": true
   },
   "outputs": [],
   "source": [
    "from selenium import webdriver"
   ]
  },
  {
   "cell_type": "code",
   "execution_count": 19,
   "metadata": {},
   "outputs": [],
   "source": [
    "from bs4 import BeautifulSoup\n",
    "\n",
    "def naver_blog_search(q):\n",
    "    driver = webdriver.Chrome('./chromedriver')\n",
    "    driver.get('http://www.naver.com')\n",
    "    try:\n",
    "        tag_query = driver.find_element_by_id('query')\n",
    "        tag_query.click()\n",
    "        tag_query.send_keys('AskDjango')\n",
    "        tag_query.submit()\n",
    "\n",
    "        # for tag in driver.find_elements_by_css_selector('.sh_blog_title'):\n",
    "        # for tag in driver.find_elements_by_class_name('sh_blog_title'):\n",
    "            # print(tag.text, tag.get_attribute('href'))\n",
    "\n",
    "        html = driver.page_source\n",
    "        soup = BeautifulSoup(html, 'html.parser')\n",
    "\n",
    "        for tag in soup.select('.sh_blog_title'):\n",
    "            print(tag.text, tag['href'])\n",
    "    finally:\n",
    "        drive.close()"
   ]
  },
  {
   "cell_type": "code",
   "execution_count": 20,
   "metadata": {
    "scrolled": true
   },
   "outputs": [
    {
     "name": "stdout",
     "output_type": "stream",
     "text": [
      "Askdjango) 파이썬 기본문법 정리 18) 파이썬 클래스...  http://myjorney.tistory.com/26\n",
      "Askdjango) 파이썬 기본문법 정리3)python 파이썬 들여쓰기...  http://myjorney.tistory.com/4\n",
      "Askdjango) 파이썬 기본문법 정리1_파이썬의 코드 실행방법...  http://myjorney.tistory.com/1\n",
      "Askdjango) 파이썬 기본문법 정리)2.파이썬의 기본...  http://myjorney.tistory.com/2\n",
      "Askdjango) 파이썬 기본문법 정리 17) 파이썬 file...  http://myjorney.tistory.com/23\n"
     ]
    }
   ],
   "source": [
    "naver_blog_search('장고')"
   ]
  },
  {
   "cell_type": "markdown",
   "metadata": {},
   "source": [
    "## 네이버 로그인 & 카페 글 쓰기"
   ]
  },
  {
   "cell_type": "code",
   "execution_count": 40,
   "metadata": {},
   "outputs": [
    {
     "name": "stdout",
     "output_type": "stream",
     "text": [
      "Username : hasblue\n",
      "Password : ········\n"
     ]
    }
   ],
   "source": [
    "from selenium import webdriver\n",
    "from getpass import getpass\n",
    "\n",
    "username = input('Username : ')\n",
    "password = getpass('Password : ')\n",
    "\n",
    "driver = webdriver.Chrome('./chromedriver')\n",
    "try:\n",
    "    driver.get('https://nid.naver.com/nidlogin.login') # 웹페이지 방문\n",
    "    tag_id = driver.find_element_by_name('id') # 태그 name 속성으로 태그 찾기\n",
    "    tag_id.send_keys(username)\n",
    "    tag_pw = driver.find_element_by_name('pw') # 태그 name 속성으로 태그 찾기\n",
    "    tag_pw.send_keys(password)\n",
    "    tag_pw.submit()\n",
    "finally:\n",
    "    driver.close()"
   ]
  },
  {
   "cell_type": "code",
   "execution_count": 26,
   "metadata": {},
   "outputs": [],
   "source": [
    "driver.get('https://m.cafe.naver.com/askdjango')"
   ]
  },
  {
   "cell_type": "code",
   "execution_count": 27,
   "metadata": {
    "collapsed": true
   },
   "outputs": [],
   "source": [
    "driver.find_element_by_css_selector('a[class*=WriteArticle]').click()"
   ]
  },
  {
   "cell_type": "code",
   "execution_count": 28,
   "metadata": {
    "collapsed": true
   },
   "outputs": [],
   "source": [
    "from selenium.webdriver.support.ui import Select\n",
    "select = Select(driver.find_element_by_name('menuid'))"
   ]
  },
  {
   "cell_type": "code",
   "execution_count": 29,
   "metadata": {
    "collapsed": true
   },
   "outputs": [],
   "source": [
    "select.select_by_visible_text('파이썬 자동화 연습 게시판')"
   ]
  },
  {
   "cell_type": "code",
   "execution_count": 31,
   "metadata": {},
   "outputs": [],
   "source": [
    "driver.find_element_by_name('subject').clear()\n",
    "driver.find_element_by_name('subject').send_keys('테스트 제목 by AskDjango')"
   ]
  },
  {
   "cell_type": "code",
   "execution_count": 32,
   "metadata": {
    "collapsed": true
   },
   "outputs": [],
   "source": [
    "iframe = driver.find_element_by_tag_name('iframe')\n",
    "driver.switch_to_frame(iframe)"
   ]
  },
  {
   "cell_type": "code",
   "execution_count": 34,
   "metadata": {},
   "outputs": [],
   "source": [
    "tag_body = driver.find_element_by_tag_name('body')"
   ]
  },
  {
   "cell_type": "code",
   "execution_count": 35,
   "metadata": {
    "collapsed": true
   },
   "outputs": [],
   "source": [
    "tag_body.click()"
   ]
  },
  {
   "cell_type": "code",
   "execution_count": 36,
   "metadata": {
    "collapsed": true
   },
   "outputs": [],
   "source": [
    "tag_body.send_keys('''\n",
    "마음의 소리 : http://comic.naver.com/webtoon/list.nhn?titleId=20853\n",
    "노블레스 : http://comic.naver.com/webtoon/list.nhn?titleId=25455\n",
    "신의 탑 : http://comic.naver.com/webtoon/list.nhn?titleId=183559\n",
    "하이브 : http://comic.naver.com/webtoon/list.nhn?titleId=609480\n",
    "''')"
   ]
  },
  {
   "cell_type": "code",
   "execution_count": 37,
   "metadata": {
    "collapsed": true
   },
   "outputs": [],
   "source": [
    "driver.switch_to_default_content()"
   ]
  },
  {
   "cell_type": "code",
   "execution_count": 38,
   "metadata": {
    "collapsed": true
   },
   "outputs": [],
   "source": [
    "driver.find_element_by_css_selector('[class*=Submit]').click()"
   ]
  },
  {
   "cell_type": "code",
   "execution_count": 39,
   "metadata": {
    "collapsed": true
   },
   "outputs": [],
   "source": [
    "driver.close()"
   ]
  },
  {
   "cell_type": "code",
   "execution_count": null,
   "metadata": {
    "collapsed": true
   },
   "outputs": [],
   "source": []
  }
 ],
 "metadata": {
  "kernelspec": {
   "display_name": "Python 3",
   "language": "python",
   "name": "python3"
  },
  "language_info": {
   "codemirror_mode": {
    "name": "ipython",
    "version": 3
   },
   "file_extension": ".py",
   "mimetype": "text/x-python",
   "name": "python",
   "nbconvert_exporter": "python",
   "pygments_lexer": "ipython3",
   "version": "3.6.0"
  }
 },
 "nbformat": 4,
 "nbformat_minor": 2
}
