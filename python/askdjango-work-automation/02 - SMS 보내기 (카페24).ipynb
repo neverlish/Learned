{
 "cells": [
  {
   "cell_type": "markdown",
   "metadata": {},
   "source": [
    "## SMS 잔여건수"
   ]
  },
  {
   "cell_type": "code",
   "execution_count": 14,
   "metadata": {
    "collapsed": true
   },
   "outputs": [],
   "source": [
    "from base64 import b64encode\n",
    "import requests"
   ]
  },
  {
   "cell_type": "code",
   "execution_count": 17,
   "metadata": {
    "collapsed": true
   },
   "outputs": [],
   "source": [
    "url = \"http://sslsms.cafe24.com/sms_remain.php\"\n",
    "user_id = b64encode(\"hadblue\".encode('euckr'))\n",
    "secure = b64encode(\"9527f3f8c24a248eb3c992bae2db827b\".encode('euckr'))\n",
    "mode = b64encode(\"1\".encode('euckr'))\n",
    "\n",
    "response = requests.post(url, data={\n",
    "    'user_id': user_id,\n",
    "    'secure': secure,\n",
    "    'mode': mode,\n",
    "})"
   ]
  },
  {
   "cell_type": "code",
   "execution_count": 18,
   "metadata": {},
   "outputs": [
    {
     "data": {
      "text/plain": [
       "'300'"
      ]
     },
     "execution_count": 18,
     "metadata": {},
     "output_type": "execute_result"
    }
   ],
   "source": [
    "response.text"
   ]
  },
  {
   "cell_type": "code",
   "execution_count": 24,
   "metadata": {},
   "outputs": [],
   "source": [
    "def send_sms(user_id, secure, sender, receivers, message):\n",
    "    params = {\n",
    "        'user_id': user_id,\n",
    "        'secure': secure,\n",
    "        'mode': '1',\n",
    "        'sphone1': sender[:3],\n",
    "        'sphone2': sender[3:-4],\n",
    "        'sphone3': sender[-4:],\n",
    "        'rphone': ','.join(receivers),\n",
    "        'msg': message,\n",
    "    }\n",
    "\n",
    "    data = {}\n",
    "    for key, value in params.items():\n",
    "        if isinstance(value, str):\n",
    "            value = value.encode('euckr')\n",
    "            if key == 'msg':\n",
    "                value = value[:90].decode('euckr','ignore').encode('euckr')\n",
    "        data[key] = value\n",
    "\n",
    "    response = requests.post('https://sslsms.cafe24.com/sms_sender.php', data=data)\n",
    "    return response.text"
   ]
  },
  {
   "cell_type": "code",
   "execution_count": 25,
   "metadata": {},
   "outputs": [
    {
     "data": {
      "text/plain": [
       "'success,298'"
      ]
     },
     "execution_count": 25,
     "metadata": {},
     "output_type": "execute_result"
    }
   ],
   "source": [
    "send_sms('hadblue', '9527f3f8c24a248eb3c992bae2db827b', '01087750467', ['01087750467'], '안녕하세요! SMS 보내기 테스트입니다.')"
   ]
  },
  {
   "cell_type": "code",
   "execution_count": null,
   "metadata": {
    "collapsed": true
   },
   "outputs": [],
   "source": []
  }
 ],
 "metadata": {
  "kernelspec": {
   "display_name": "Python 3",
   "language": "python",
   "name": "python3"
  },
  "language_info": {
   "codemirror_mode": {
    "name": "ipython",
    "version": 3
   },
   "file_extension": ".py",
   "mimetype": "text/x-python",
   "name": "python",
   "nbconvert_exporter": "python",
   "pygments_lexer": "ipython3",
   "version": "3.6.0"
  }
 },
 "nbformat": 4,
 "nbformat_minor": 2
}
