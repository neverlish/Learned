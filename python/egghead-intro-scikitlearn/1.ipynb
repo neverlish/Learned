{
 "cells": [
  {
   "cell_type": "markdown",
   "metadata": {},
   "source": [
    "### 1 Use Linear Regression To Estimate Continuous Values with Python and Scikit-learn"
   ]
  },
  {
   "cell_type": "code",
   "execution_count": 1,
   "metadata": {
    "collapsed": true
   },
   "outputs": [],
   "source": [
    "import matplotlib.pyplot as plt\n",
    "from sklearn import datasets\n",
    "from sklearn import metrics\n",
    "from sklearn.model_selection import train_test_split\n",
    "from sklearn.linear_model import LinearRegression"
   ]
  },
  {
   "cell_type": "code",
   "execution_count": 2,
   "metadata": {},
   "outputs": [
    {
     "name": "stdout",
     "output_type": "stream",
     "text": [
      "dict_keys(['data', 'target', 'feature_names', 'DESCR'])\n",
      "['CRIM' 'ZN' 'INDUS' 'CHAS' 'NOX' 'RM' 'AGE' 'DIS' 'RAD' 'TAX' 'PTRATIO'\n",
      " 'B' 'LSTAT']\n",
      "Boston House Prices dataset\n",
      "===========================\n",
      "\n",
      "Notes\n",
      "------\n",
      "Data Set Characteristics:  \n",
      "\n",
      "    :Number of Instances: 506 \n",
      "\n",
      "    :Number of Attributes: 13 numeric/categorical predictive\n",
      "    \n",
      "    :Median Value (attribute 14) is usually the target\n",
      "\n",
      "    :Attribute Information (in order):\n",
      "        - CRIM     per capita crime rate by town\n",
      "        - ZN       proportion of residential land zoned for lots over 25,000 sq.ft.\n",
      "        - INDUS    proportion of non-retail business acres per town\n",
      "        - CHAS     Charles River dummy variable (= 1 if tract bounds river; 0 otherwise)\n",
      "        - NOX      nitric oxides concentration (parts per 10 million)\n",
      "        - RM       average number of rooms per dwelling\n",
      "        - AGE      proportion of owner-occupied units built prior to 1940\n",
      "        - DIS      weighted distances to five Boston employment centres\n",
      "        - RAD      index of accessibility to radial highways\n",
      "        - TAX      full-value property-tax rate per $10,000\n",
      "        - PTRATIO  pupil-teacher ratio by town\n",
      "        - B        1000(Bk - 0.63)^2 where Bk is the proportion of blacks by town\n",
      "        - LSTAT    % lower status of the population\n",
      "        - MEDV     Median value of owner-occupied homes in $1000's\n",
      "\n",
      "    :Missing Attribute Values: None\n",
      "\n",
      "    :Creator: Harrison, D. and Rubinfeld, D.L.\n",
      "\n",
      "This is a copy of UCI ML housing dataset.\n",
      "http://archive.ics.uci.edu/ml/datasets/Housing\n",
      "\n",
      "\n",
      "This dataset was taken from the StatLib library which is maintained at Carnegie Mellon University.\n",
      "\n",
      "The Boston house-price data of Harrison, D. and Rubinfeld, D.L. 'Hedonic\n",
      "prices and the demand for clean air', J. Environ. Economics & Management,\n",
      "vol.5, 81-102, 1978.   Used in Belsley, Kuh & Welsch, 'Regression diagnostics\n",
      "...', Wiley, 1980.   N.B. Various transformations are used in the table on\n",
      "pages 244-261 of the latter.\n",
      "\n",
      "The Boston house-price data has been used in many machine learning papers that address regression\n",
      "problems.   \n",
      "     \n",
      "**References**\n",
      "\n",
      "   - Belsley, Kuh & Welsch, 'Regression diagnostics: Identifying Influential Data and Sources of Collinearity', Wiley, 1980. 244-261.\n",
      "   - Quinlan,R. (1993). Combining Instance-Based and Model-Based Learning. In Proceedings on the Tenth International Conference of Machine Learning, 236-243, University of Massachusetts, Amherst. Morgan Kaufmann.\n",
      "   - many more! (see http://archive.ics.uci.edu/ml/datasets/Housing)\n",
      "\n"
     ]
    }
   ],
   "source": [
    "boston = datasets.load_boston()\n",
    "print(boston.keys())\n",
    "print(boston.feature_names)\n",
    "print(boston.DESCR)"
   ]
  },
  {
   "cell_type": "code",
   "execution_count": 3,
   "metadata": {},
   "outputs": [
    {
     "name": "stdout",
     "output_type": "stream",
     "text": [
      "[[  6.32000000e-03   1.80000000e+01   2.31000000e+00   0.00000000e+00\n",
      "    5.38000000e-01   6.57500000e+00   6.52000000e+01   4.09000000e+00\n",
      "    1.00000000e+00   2.96000000e+02   1.53000000e+01   3.96900000e+02\n",
      "    4.98000000e+00]\n",
      " [  2.73100000e-02   0.00000000e+00   7.07000000e+00   0.00000000e+00\n",
      "    4.69000000e-01   6.42100000e+00   7.89000000e+01   4.96710000e+00\n",
      "    2.00000000e+00   2.42000000e+02   1.78000000e+01   3.96900000e+02\n",
      "    9.14000000e+00]\n",
      " [  2.72900000e-02   0.00000000e+00   7.07000000e+00   0.00000000e+00\n",
      "    4.69000000e-01   7.18500000e+00   6.11000000e+01   4.96710000e+00\n",
      "    2.00000000e+00   2.42000000e+02   1.78000000e+01   3.92830000e+02\n",
      "    4.03000000e+00]\n",
      " [  3.23700000e-02   0.00000000e+00   2.18000000e+00   0.00000000e+00\n",
      "    4.58000000e-01   6.99800000e+00   4.58000000e+01   6.06220000e+00\n",
      "    3.00000000e+00   2.22000000e+02   1.87000000e+01   3.94630000e+02\n",
      "    2.94000000e+00]\n",
      " [  6.90500000e-02   0.00000000e+00   2.18000000e+00   0.00000000e+00\n",
      "    4.58000000e-01   7.14700000e+00   5.42000000e+01   6.06220000e+00\n",
      "    3.00000000e+00   2.22000000e+02   1.87000000e+01   3.96900000e+02\n",
      "    5.33000000e+00]]\n"
     ]
    }
   ],
   "source": [
    "print(boston.data[:5])"
   ]
  },
  {
   "cell_type": "code",
   "execution_count": 4,
   "metadata": {},
   "outputs": [
    {
     "name": "stdout",
     "output_type": "stream",
     "text": [
      "[ 24.   21.6  34.7  33.4  36.2]\n"
     ]
    }
   ],
   "source": [
    "print(boston.target[:5])"
   ]
  },
  {
   "cell_type": "code",
   "execution_count": 5,
   "metadata": {},
   "outputs": [
    {
     "name": "stdout",
     "output_type": "stream",
     "text": [
      "(506, 13)\n"
     ]
    }
   ],
   "source": [
    "print(boston.data.shape)"
   ]
  },
  {
   "cell_type": "code",
   "execution_count": 6,
   "metadata": {},
   "outputs": [
    {
     "name": "stdout",
     "output_type": "stream",
     "text": [
      "(506,)\n"
     ]
    }
   ],
   "source": [
    "print(boston.target.shape)"
   ]
  },
  {
   "cell_type": "code",
   "execution_count": 7,
   "metadata": {},
   "outputs": [
    {
     "name": "stdout",
     "output_type": "stream",
     "text": [
      "[ 27.17996153  13.36710212  10.10783029  35.82572884  19.66499259\n",
      "  24.82099246  24.17865885  17.07716173  24.05868016  40.2474543\n",
      "  15.69810097   7.32761289  10.79667034  26.43494221  -1.00910589\n",
      "  26.59966233  20.57052916  36.87996757  19.50871382  17.89331971\n",
      "  22.5971259   19.1847765   13.11798443  -0.87578332  16.44929748\n",
      "  14.93581347  12.48942978  19.52114519  18.51656507   5.21695881\n",
      "  21.04866606  20.13992126  -7.6219315    7.72052032  12.71896762\n",
      "  30.17204151  16.01965557  20.00291583  36.72302445  18.3549664\n",
      "  25.62432501  34.82215972  29.69750523  12.59537341  21.33652421\n",
      "  24.77909366  18.50396156  13.41221548   7.62099275  23.35514067\n",
      "  23.96960611  16.44925586  12.85402548  21.15469098  36.06266296\n",
      "  16.0865282   40.2419209   34.84410906  20.4945882   26.85741536\n",
      "  35.6346901   23.78817758  23.72761679  24.10997255  18.10240187\n",
      "  32.75112202  13.71482215  22.65558809  20.65657917  17.27999352\n",
      "  18.53299789  17.25424324  28.33924038  21.96950376  18.71105923\n",
      "  21.15845414  21.93233911   6.82768846  15.47963532  19.4740164\n",
      "  33.87747266  14.02346828   8.69764849  13.32385731  15.61489081\n",
      "  23.43200396   8.04973268  21.01523258  21.4755191   13.7230382\n",
      "  23.04474903  18.85396979  43.24046205  22.40084653  17.40869773\n",
      "  18.9946742   20.41531245  21.46197757  20.68043293  14.69690981\n",
      "  15.68267105  20.72245912  11.34892139  24.35360634  23.27309854\n",
      "  30.87836713  32.73872902  23.85093127  19.43606339  27.32724153\n",
      "  30.26797797  28.40786145  24.11184688  23.9932985   17.31037959\n",
      "  26.04257879  24.76542949  24.60999593  36.07999789  19.12152031\n",
      "  24.22633992  24.25624568  19.00585835  15.62929272  37.50961623\n",
      "  25.36178986  37.21578015  18.5437575   10.91805994  21.29693959\n",
      "  30.44839295  29.14156731  25.18782209  12.94571505  32.11926316\n",
      "  22.91571186  21.80652582  20.35181447  15.14089643  27.62678753\n",
      "  13.63107236  24.07294694  17.48781861  20.29714288  31.13295007\n",
      "  20.92507264  20.64209172  20.59177077  19.14981988  34.37695383\n",
      "  33.42204173  20.97920048  34.90795455  20.03677427  26.78120815\n",
      "  10.20238791   5.35566076  20.75840997  16.1882804   29.26806671\n",
      "  32.39391126  30.22803941  21.42403582  29.88105266  15.01693919\n",
      "   5.86878476  27.34506321]\n"
     ]
    }
   ],
   "source": [
    "X = boston.data\n",
    "y = boston.target\n",
    "X_train, X_test, y_train, y_test = train_test_split(X, y, test_size=0.33, random_state=16)\n",
    "\n",
    "model = LinearRegression()\n",
    "model.fit(X_train, y_train)\n",
    "\n",
    "predictions = model.predict(X_test)\n",
    "print(predictions)"
   ]
  },
  {
   "cell_type": "code",
   "execution_count": 8,
   "metadata": {},
   "outputs": [
    {
     "data": {
      "image/png": "[encoded data removed]",
      "text/plain": [
       "<matplotlib.figure.Figure at 0x10dabe780>"
      ]
     },
     "metadata": {},
     "output_type": "display_data"
    }
   ],
   "source": [
    "plt.scatter(y_test, predictions)\n",
    "plt.xlabel('Actual prices')\n",
    "plt.ylabel('Predicted prices')\n",
    "plt.show()"
   ]
  },
  {
   "cell_type": "code",
   "execution_count": 9,
   "metadata": {},
   "outputs": [
    {
     "name": "stdout",
     "output_type": "stream",
     "text": [
      "0.64119528642\n"
     ]
    }
   ],
   "source": [
    "# r squared, coefficient of determination\n",
    "print(model.score(X_test, y_test))"
   ]
  },
  {
   "cell_type": "code",
   "execution_count": 10,
   "metadata": {},
   "outputs": [
    {
     "name": "stdout",
     "output_type": "stream",
     "text": [
      "23.4028873677\n"
     ]
    }
   ],
   "source": [
    "# mean squared error\n",
    "print(metrics.mean_squared_error(y_test, predictions))"
   ]
  }
 ],
 "metadata": {
  "kernelspec": {
   "display_name": "Python 3",
   "language": "python",
   "name": "python3"
  },
  "language_info": {
   "codemirror_mode": {
    "name": "ipython",
    "version": 3
   },
   "file_extension": ".py",
   "mimetype": "text/x-python",
   "name": "python",
   "nbconvert_exporter": "python",
   "pygments_lexer": "ipython3",
   "version": "3.6.0"
  }
 },
 "nbformat": 4,
 "nbformat_minor": 2
}
