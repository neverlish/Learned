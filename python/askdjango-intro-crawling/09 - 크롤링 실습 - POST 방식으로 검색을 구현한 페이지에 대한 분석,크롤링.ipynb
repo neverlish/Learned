{
 "cells": [
  {
   "cell_type": "code",
   "execution_count": 2,
   "metadata": {},
   "outputs": [],
   "source": [
    "import requests\n",
    "from bs4 import BeautifulSoup"
   ]
  },
  {
   "cell_type": "code",
   "execution_count": 11,
   "metadata": {
    "collapsed": true
   },
   "outputs": [],
   "source": [
    "result_url = 'https://www.bigkinds.or.kr/news/newsResult.do'"
   ]
  },
  {
   "cell_type": "code",
   "execution_count": 10,
   "metadata": {},
   "outputs": [
    {
     "name": "stdout",
     "output_type": "stream",
     "text": [
      "pageInfo bksMain\n",
      "login_chk None\n",
      "LOGIN_SN None\n",
      "LOGIN_NAME None\n",
      "indexName news\n",
      "keyword 문재인\n",
      "byLine \n",
      "searchScope 1\n",
      "searchFtr 1\n",
      "startDate 2017-04-04\n",
      "endDate 2017-07-04\n",
      "sortMethod date\n",
      "contentLength 100\n",
      "providerCode \n",
      "categoryCode \n",
      "incidentCode \n",
      "dateCode \n",
      "highlighting true\n",
      "sessionUSID \n",
      "sessionUUID test\n",
      "listMode \n",
      "categoryTab \n",
      "newsId \n",
      "filterProviderCode \n",
      "filterCategoryCode \n",
      "filterIncidentCode \n",
      "filterDateCode \n",
      "filterAnalysisCode \n",
      "startNo 1\n",
      "resultNumber 10\n",
      "topmenuoff \n",
      "resultState \n",
      "keywordJson \n",
      "keywordFilterJson \n",
      "realKeyword \n",
      "totalCount \n",
      "interval \n",
      "quotationKeyword1 \n",
      "quotationKeyword2 \n",
      "quotationKeyword3 \n",
      "searchFromUseYN N\n",
      "mainTodayPersonYn \n",
      "period 3month\n"
     ]
    },
    {
     "data": {
      "text/plain": [
       "{'LOGIN_NAME': None,\n",
       " 'LOGIN_SN': None,\n",
       " 'byLine': '',\n",
       " 'categoryCode': '',\n",
       " 'categoryTab': '',\n",
       " 'contentLength': '100',\n",
       " 'dateCode': '',\n",
       " 'endDate': '2017-07-04',\n",
       " 'filterAnalysisCode': '',\n",
       " 'filterCategoryCode': '',\n",
       " 'filterDateCode': '',\n",
       " 'filterIncidentCode': '',\n",
       " 'filterProviderCode': '',\n",
       " 'highlighting': 'true',\n",
       " 'incidentCode': '',\n",
       " 'indexName': 'news',\n",
       " 'interval': '',\n",
       " 'keyword': '문재인',\n",
       " 'keywordFilterJson': '',\n",
       " 'keywordJson': '',\n",
       " 'listMode': '',\n",
       " 'login_chk': None,\n",
       " 'mainTodayPersonYn': '',\n",
       " 'newsId': '',\n",
       " 'pageInfo': 'bksMain',\n",
       " 'period': '3month',\n",
       " 'providerCode': '',\n",
       " 'quotationKeyword1': '',\n",
       " 'quotationKeyword2': '',\n",
       " 'quotationKeyword3': '',\n",
       " 'realKeyword': '',\n",
       " 'resultNumber': '10',\n",
       " 'resultState': '',\n",
       " 'searchFromUseYN': 'N',\n",
       " 'searchFtr': '1',\n",
       " 'searchScope': '1',\n",
       " 'sessionUSID': '',\n",
       " 'sessionUUID': 'test',\n",
       " 'sortMethod': 'date',\n",
       " 'startDate': '2017-04-04',\n",
       " 'startNo': '1',\n",
       " 'topmenuoff': '',\n",
       " 'totalCount': ''}"
      ]
     },
     "execution_count": 10,
     "metadata": {},
     "output_type": "execute_result"
    }
   ],
   "source": [
    "lines = '''pageInfo:bksMain\n",
    "login_chk:null\n",
    "LOGIN_SN:null\n",
    "LOGIN_NAME:null\n",
    "indexName:news\n",
    "keyword:문재인\n",
    "byLine:\n",
    "searchScope:1\n",
    "searchFtr:1\n",
    "startDate:2017-04-04\n",
    "endDate:2017-07-04\n",
    "sortMethod:date\n",
    "contentLength:100\n",
    "providerCode:\n",
    "categoryCode:\n",
    "incidentCode:\n",
    "dateCode:\n",
    "highlighting:true\n",
    "sessionUSID:\n",
    "sessionUUID:test\n",
    "listMode:\n",
    "categoryTab:\n",
    "newsId:\n",
    "filterProviderCode:\n",
    "filterCategoryCode:\n",
    "filterIncidentCode:\n",
    "filterDateCode:\n",
    "filterAnalysisCode:\n",
    "startNo:1\n",
    "resultNumber:10\n",
    "topmenuoff:\n",
    "resultState:\n",
    "keywordJson:\n",
    "keywordFilterJson:\n",
    "realKeyword:\n",
    "totalCount:\n",
    "interval:\n",
    "quotationKeyword1:\n",
    "quotationKeyword2:\n",
    "quotationKeyword3:\n",
    "searchFromUseYN:N\n",
    "mainTodayPersonYn:\n",
    "period:3month'''.splitlines()\n",
    "\n",
    "data = {}\n",
    "for line in lines:\n",
    "    key, value = line.split(':', 1)\n",
    "    if value == 'null':\n",
    "        value = None\n",
    "    print(key, value)\n",
    "    data[key] = value\n",
    "data"
   ]
  },
  {
   "cell_type": "code",
   "execution_count": 12,
   "metadata": {},
   "outputs": [
    {
     "data": {
      "text/plain": [
       "<Response [200]>"
      ]
     },
     "execution_count": 12,
     "metadata": {},
     "output_type": "execute_result"
    }
   ],
   "source": [
    "response = requests.post(result_url, data = data)\n",
    "response"
   ]
  },
  {
   "cell_type": "code",
   "execution_count": 14,
   "metadata": {},
   "outputs": [],
   "source": [
    "html = response.text\n",
    "soup = BeautifulSoup(html, 'html.parser')"
   ]
  },
  {
   "cell_type": "code",
   "execution_count": 27,
   "metadata": {},
   "outputs": [
    {
     "name": "stdout",
     "output_type": "stream",
     "text": [
      "'세월호 참사' 기간제 교사 2명, 내일 순직심사 https://www.bigkinds.or.kr/news/detailView.do?docId=02100311.20170704155914001&returnCnt=1\n",
      "北 \"대륙간탄도미사일 발사 성공, 39분간 날아 정확히 타격\" https://www.bigkinds.or.kr/news/detailView.do?docId=02100311.20170704155815001&returnCnt=1\n",
      "[단독]'블랙리스트' 근절나선 문체부, 체육계 적폐도 손 본다 https://www.bigkinds.or.kr/news/detailView.do?docId=02100311.20170704154918001&returnCnt=1\n",
      "검찰총장에 문무일, '노무현 측근비리 사건' 등 각종 정치적 사건 수사도 https://www.bigkinds.or.kr/news/detailView.do?docId=02100311.20170704152244001&returnCnt=1\n",
      "文대통령 \"정부, 우방과 공조해 북한 도발에 단호히 대응할 것\" https://www.bigkinds.or.kr/news/detailView.do?docId=02100311.20170704151610001&returnCnt=1\n",
      "文 대통령, 검찰총장에 성완종 게이트 수사팀장 문무일 지명(속보) https://www.bigkinds.or.kr/news/detailView.do?docId=02100311.20170704150848001&returnCnt=1\n",
      "북한, 오후 3시 30분 특별 중대발표 예고...ICBM 성공 발표 가능성 https://www.bigkinds.or.kr/news/detailView.do?docId=02100311.20170704150433001&returnCnt=1\n",
      "북한, 동해상으로 탄도미사일 발사...\"EEZ에 낙하 가능성\" 항행경보 발령 https://www.bigkinds.or.kr/news/detailView.do?docId=02100311.20170704145907001&returnCnt=1\n",
      "유영민 후보자 \"시간두고 통신비 경감 기필코 달성\" 당부 https://www.bigkinds.or.kr/news/detailView.do?docId=02100311.20170704145700001&returnCnt=1\n",
      "문재인 대통령 홍준표에게 ‘축하난’ 선물 “선출직 청산은 국민이 한다” https://www.bigkinds.or.kr/news/detailView.do?docId=02100311.20170704145247001&returnCnt=1\n"
     ]
    }
   ],
   "source": [
    "for tag in soup.select('.resultList li a h3'):\n",
    "    doc_id = tag['id'].replace('news_','')\n",
    "    doc_url = 'https://www.bigkinds.or.kr/news/detailView.do?docId={}&returnCnt=1'.format(doc_id)\n",
    "    print(tag.text.strip(), doc_url)"
   ]
  },
  {
   "cell_type": "code",
   "execution_count": null,
   "metadata": {
    "collapsed": true
   },
   "outputs": [],
   "source": []
  }
 ],
 "metadata": {
  "kernelspec": {
   "display_name": "Python 3",
   "language": "python",
   "name": "python3"
  },
  "language_info": {
   "codemirror_mode": {
    "name": "ipython",
    "version": 3
   },
   "file_extension": ".py",
   "mimetype": "text/x-python",
   "name": "python",
   "nbconvert_exporter": "python",
   "pygments_lexer": "ipython3",
   "version": "3.6.0"
  }
 },
 "nbformat": 4,
 "nbformat_minor": 2
}
