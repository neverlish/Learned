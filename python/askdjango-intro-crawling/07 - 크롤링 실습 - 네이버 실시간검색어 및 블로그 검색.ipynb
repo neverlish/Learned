{
 "cells": [
  {
   "cell_type": "markdown",
   "metadata": {},
   "source": [
    "## 네이버 실시간 검색어"
   ]
  },
  {
   "cell_type": "code",
   "execution_count": 2,
   "metadata": {},
   "outputs": [],
   "source": [
    "import requests\n",
    "from bs4 import BeautifulSoup"
   ]
  },
  {
   "cell_type": "code",
   "execution_count": 4,
   "metadata": {
    "collapsed": true
   },
   "outputs": [],
   "source": [
    "html = requests.get('http://www.naver.com').text\n",
    "soup = BeautifulSoup(html, 'html.parser')"
   ]
  },
  {
   "cell_type": "code",
   "execution_count": 7,
   "metadata": {},
   "outputs": [
    {
     "name": "stdout",
     "output_type": "stream",
     "text": [
      "1 윤손하\n",
      "2 워너원\n",
      "3 지카바이러스\n",
      "4 뉴이스트\n",
      "5 김사무엘\n",
      "6 김종현\n",
      "7 황민현\n",
      "8 프로듀스 101 시즌2 순위\n",
      "9 문정인\n",
      "10 이대휘\n",
      "11 공무원시험\n",
      "12 윤소정\n",
      "13 품위있는 그녀\n",
      "14 사이버국가고시센터\n",
      "15 최고의 한방\n",
      "16 옹성우\n",
      "17 플레디스\n",
      "18 배진영\n",
      "19 패혈증\n",
      "20 기안84\n"
     ]
    }
   ],
   "source": [
    "tag_list = soup.select('.PM_CL_realtimeKeyword_rolling .ah_item .ah_k')\n",
    "for idx, tag in enumerate(tag_list, 1):\n",
    "    print(idx, tag.text)"
   ]
  },
  {
   "cell_type": "markdown",
   "metadata": {},
   "source": [
    "## 네이버 블로그 검색"
   ]
  },
  {
   "cell_type": "code",
   "execution_count": 39,
   "metadata": {},
   "outputs": [],
   "source": [
    "import requests\n",
    "from bs4 import BeautifulSoup\n",
    "from collections import OrderedDict\n",
    "from itertools import count\n",
    "\n",
    "def naver_blog_search(q, max_page=None):\n",
    "    url = \"https://search.naver.com/search.naver\"\n",
    "    \n",
    "    post_dict = OrderedDict()\n",
    "    \n",
    "    for page in count(1):\n",
    "        params = {\n",
    "            \"where\": \"post\",\n",
    "            \"query\": q,\n",
    "            \"start\": (page-1)*10 + 1, # 1, 11, 21, 31, 41\n",
    "        }\n",
    "        print(params)\n",
    "        html = requests.get(url, params=params).text\n",
    "        soup = BeautifulSoup(html, 'html.parser')\n",
    "        for tag in soup.select('.sh_blog_title'):\n",
    "            if tag['href'] in post_dict:\n",
    "                return post_dict\n",
    "            \n",
    "            # print(tag.text, tag['href'])\n",
    "            post_dict[tag['href']] = tag.text     \n",
    "        \n",
    "        if max_page and (page >= max_page):\n",
    "            break;\n",
    "    \n",
    "    return post_dict"
   ]
  },
  {
   "cell_type": "code",
   "execution_count": 40,
   "metadata": {},
   "outputs": [
    {
     "name": "stdout",
     "output_type": "stream",
     "text": [
      "{'where': 'post', 'query': 'AskDjango', 'start': 1}\n",
      "{'where': 'post', 'query': 'AskDjango', 'start': 11}\n"
     ]
    },
    {
     "data": {
      "text/plain": [
       "OrderedDict([('http://myjorney.tistory.com/26',\n",
       "              'Askdjango) 파이썬 기본문법 정리 18) 파이썬 클래스...'),\n",
       "             ('http://myjorney.tistory.com/4',\n",
       "              'Askdjango) 파이썬 기본문법 정리3)python 파이썬 들여쓰기...'),\n",
       "             ('http://myjorney.tistory.com/1',\n",
       "              'Askdjango) 파이썬 기본문법 정리1_파이썬의 코드 실행방법...'),\n",
       "             ('http://myjorney.tistory.com/2',\n",
       "              'Askdjango) 파이썬 기본문법 정리)2.파이썬의 기본...'),\n",
       "             ('http://myjorney.tistory.com/23',\n",
       "              'Askdjango) 파이썬 기본문법 정리 17) 파이썬 file...'),\n",
       "             ('http://myjorney.tistory.com/21',\n",
       "              'Askdjango) 파이썬 기본문법 정리 16) 파이썬 인코딩...'),\n",
       "             ('http://the7mincheol.blog.me/220947602901',\n",
       "              '2017.03 멜론 노래 검색기 (출처: askdjango)'),\n",
       "             ('http://myjorney.tistory.com/15',\n",
       "              'Askdjango) 파이썬 기본문법 정리 12) 파이썬 빌트인함수...'),\n",
       "             ('http://the7mincheol.blog.me/220940162131',\n",
       "              '2017.02 네이버 맞춤법 검사기 (출처: askdjango)'),\n",
       "             ('http://myjorney.tistory.com/28',\n",
       "              'Askdjango) 파이썬 기본문법 정리 19) 파이썬 호출...'),\n",
       "             ('http://blog.naver.com/lys1900?Redirect=Log&logNo=221007039328',\n",
       "              '[ Android ] FCM 푸시 관련'),\n",
       "             ('http://harryp.tistory.com/517',\n",
       "              '[컨퍼런스 정보] Saturday Azure Live, 1703 (17.03.11)'),\n",
       "             ('http://blog.naver.com/cyberpass?Redirect=Log&logNo=220962782139',\n",
       "              'Global Azure Bootcamp x Korea 2017'),\n",
       "             ('http://myjorney.tistory.com/30',\n",
       "              '<world nomade의 django 여행> Django admin url 변경을 통안...'),\n",
       "             ('http://blog.naver.com/thnam91?Redirect=Log&logNo=221024077044',\n",
       "              '자동으로 SMS 보내기'),\n",
       "             ('http://blog.naver.com/thnam91?Redirect=Log&logNo=221022895051',\n",
       "              '자동으로 이메일 보내기'),\n",
       "             ('https://dojunblog.wordpress.com/2017/05/24/%EB%82%B4%EA%B0%80-django%EB%A5%BC-%EC%B2%98%EC%9D%8C-%EC%8B%9C%EC%9E%91%ED%96%88%EB%8D%98-%EB%B0%A9%EB%B2%95/',\n",
       "              '내가 Django를 처음 시작했던 방법'),\n",
       "             ('http://blog.naver.com/thnam91?Redirect=Log&logNo=221024784006',\n",
       "              'Requests 라이브러리'),\n",
       "             ('http://month6000.tistory.com/20', 'Django 기본에 대한 괜찮은 강좌'),\n",
       "             ('http://codemath.tistory.com/34',\n",
       "              '[Django] Jupyter notebook 사용하기 - Django shell')])"
      ]
     },
     "execution_count": 40,
     "metadata": {},
     "output_type": "execute_result"
    }
   ],
   "source": [
    "result = naver_blog_search('AskDjango',2)\n",
    "result"
   ]
  },
  {
   "cell_type": "code",
   "execution_count": null,
   "metadata": {
    "collapsed": true
   },
   "outputs": [],
   "source": []
  },
  {
   "cell_type": "code",
   "execution_count": 31,
   "metadata": {},
   "outputs": [
    {
     "data": {
      "text/plain": [
       "30"
      ]
     },
     "execution_count": 31,
     "metadata": {},
     "output_type": "execute_result"
    }
   ],
   "source": [
    "len(result)"
   ]
  },
  {
   "cell_type": "code",
   "execution_count": null,
   "metadata": {
    "collapsed": true
   },
   "outputs": [],
   "source": []
  }
 ],
 "metadata": {
  "kernelspec": {
   "display_name": "Python 3",
   "language": "python",
   "name": "python3"
  },
  "language_info": {
   "codemirror_mode": {
    "name": "ipython",
    "version": 3
   },
   "file_extension": ".py",
   "mimetype": "text/x-python",
   "name": "python",
   "nbconvert_exporter": "python",
   "pygments_lexer": "ipython3",
   "version": "3.6.0"
  }
 },
 "nbformat": 4,
 "nbformat_minor": 2
}
