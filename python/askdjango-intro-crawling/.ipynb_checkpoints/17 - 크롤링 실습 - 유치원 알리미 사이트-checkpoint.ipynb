{
 "cells": [
  {
   "cell_type": "code",
   "execution_count": 2,
   "metadata": {
    "collapsed": true
   },
   "outputs": [],
   "source": [
    "import re\n",
    "from urllib.parse import urljoin\n",
    "import mechanicalsoup"
   ]
  },
  {
   "cell_type": "code",
   "execution_count": 3,
   "metadata": {
    "collapsed": true
   },
   "outputs": [],
   "source": [
    "browser = mechanicalsoup.Browser()\n",
    "\n",
    "list_url = 'http://e-childschoolinfo.moe.go.kr/kinderMt/combineFind.do'\n",
    "list_page = browser.get(list_url)"
   ]
  },
  {
   "cell_type": "code",
   "execution_count": 16,
   "metadata": {
    "collapsed": true
   },
   "outputs": [],
   "source": [
    "form_tag = list_page.soup.select('form#noticeSearch')[0]\n",
    "form_tag['action'] = urljoin(list_url, '/kinderMt/kinderChildAndStaff.do') # 영유아 및 교직원"
   ]
  },
  {
   "cell_type": "code",
   "execution_count": 21,
   "metadata": {
    "scrolled": true
   },
   "outputs": [
    {
     "name": "stdout",
     "output_type": "stream",
     "text": [
      "21세기유치원 1ecec08d-0f45-b044-e053-0a32095ab044\n",
      "AK유치원 1ecec08d-0655-b044-e053-0a32095ab044\n",
      "BK꿈사랑유치원 1ecec08c-f812-b044-e053-0a32095ab044\n",
      "BK유치원 1ecec08c-f63e-b044-e053-0a32095ab044\n",
      "J 프랜드유치원 1ecec08d-0b7e-b044-e053-0a32095ab044\n",
      "LG메트로시티유치원 1ecec08c-f65d-b044-e053-0a32095ab044\n",
      "SK뜰에유치원 1ecec08c-f85a-b044-e053-0a32095ab044\n",
      "The큰빛유치원 1ecec08d-0a2f-b044-e053-0a32095ab044\n",
      "YMCA유치원 1ecec08c-f3d9-b044-e053-0a32095ab044\n"
     ]
    }
   ],
   "source": [
    "for tr_tag in form_tag.select('table tbody tr'):\n",
    "    try:\n",
    "        detail_a_tag = tr_tag.select('a[href*=fn_detail]')[0]\n",
    "        map_a_tag = tr_tag.select('a[href*=fn_panTo]')[0]\n",
    "    except IndexError:\n",
    "        continue\n",
    "        \n",
    "    map_js_url = map_a_tag['href']\n",
    "    matched = re.search(r'javascript:fn_panTo\\(\\d+,\\s*([\\d\\.-]+),\\s*([\\d\\.-]+)\\)',map_js_url)\n",
    "    \n",
    "    lat, lng = matched.groups()\n",
    "    \n",
    "    detail_js_url = detail_a_tag['href']\n",
    "    matched = re.search(r'([0-9a-z-]{36})', detail_js_url)\n",
    "    if not matched:\n",
    "        continue\n",
    "        \n",
    "    name = detail_a_tag.text.strip()\n",
    "    if re.search('폐원', name):\n",
    "        continue\n",
    "        \n",
    "    id = matched.group(1)\n",
    "    form_tag.select('input[name=ittId]')[0]['value'] = id\n",
    "    detail_page = browser.submit(form_tag)\n",
    "    print(name, id)\n",
    "    # open('crawl-{}.html'.format(name), 'w').write(detail_page.text)"
   ]
  },
  {
   "cell_type": "code",
   "execution_count": null,
   "metadata": {
    "collapsed": true
   },
   "outputs": [],
   "source": []
  },
  {
   "cell_type": "code",
   "execution_count": null,
   "metadata": {
    "collapsed": true
   },
   "outputs": [],
   "source": []
  }
 ],
 "metadata": {
  "kernelspec": {
   "display_name": "Python 3",
   "language": "python",
   "name": "python3"
  },
  "language_info": {
   "codemirror_mode": {
    "name": "ipython",
    "version": 3
   },
   "file_extension": ".py",
   "mimetype": "text/x-python",
   "name": "python",
   "nbconvert_exporter": "python",
   "pygments_lexer": "ipython3",
   "version": "3.6.0"
  }
 },
 "nbformat": 4,
 "nbformat_minor": 2
}
