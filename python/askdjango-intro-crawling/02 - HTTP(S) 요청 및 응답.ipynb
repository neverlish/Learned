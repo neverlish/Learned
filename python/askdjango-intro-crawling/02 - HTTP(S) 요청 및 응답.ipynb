{
 "cells": [
  {
   "cell_type": "code",
   "execution_count": 1,
   "metadata": {
    "collapsed": true
   },
   "outputs": [],
   "source": [
    "import requests"
   ]
  },
  {
   "cell_type": "code",
   "execution_count": 3,
   "metadata": {
    "collapsed": true
   },
   "outputs": [],
   "source": [
    "# GET 요청 즉시 응답받음\n",
    "response = requests.get('https://askdjango.github.io/lv1')"
   ]
  },
  {
   "cell_type": "code",
   "execution_count": 4,
   "metadata": {},
   "outputs": [
    {
     "data": {
      "text/plain": [
       "<Response [200]>"
      ]
     },
     "execution_count": 4,
     "metadata": {},
     "output_type": "execute_result"
    }
   ],
   "source": [
    "response"
   ]
  },
  {
   "cell_type": "code",
   "execution_count": 5,
   "metadata": {
    "collapsed": true
   },
   "outputs": [],
   "source": [
    "html = response.text"
   ]
  },
  {
   "cell_type": "code",
   "execution_count": 7,
   "metadata": {},
   "outputs": [
    {
     "name": "stdout",
     "output_type": "stream",
     "text": [
      "<!doctype html>\n",
      "<html lang=\"ko\">\n",
      "<head>\n",
      "<meta charset=\"utf-8\" />\n",
      "<title>[레벨1] 단순 HTML 크롤링</title>\n",
      "<style>\n",
      "#logo {\n",
      "    max-width: 100%;\n",
      "}\n",
      "</style>\n",
      "</head>\n",
      "<body>\n",
      "<h1>AskDjango VOD</h1>\n",
      "\n",
      "<h2>[레벨1] 단순 HTML 크롤링</h2>\n",
      "\n",
      "<p>본 HTML에 크롤링할 데이터가 있습니다.</p>\n",
      "\n",
      "<ul id=\"course_list\">\n",
      "    <li class=\"course\"><a href=\"https://nomade.kr/vod/setup/\">개발환경 구축하기</a></li>\n",
      "    <li class=\"course\"><a href=\"https://nomade.kr/vod/python/\">파이썬 차근차근 시작하기</a></li>\n",
      "    <li class=\"course\"><a href=\"https://nomade.kr/vod/crawling/\">크롤링 차근차근 시작하기</a></li>\n",
      "    <li class=\"course\"><a href=\"https://nomade.kr/vod/automation/\">파이썬으로 업무 자동화</a></li>\n",
      "    <li class=\"course\"><a href=\"https://nomade.kr/vod/django/\">장고 - 기본편</a></li>\n",
      "    <li class=\"course\"><a href=\"https://nomade.kr/vod/djangogirls/\">장고걸스 튜토리얼</a></li>\n",
      "    <li class=\"course\"><a href=\"https://nomade.kr/vod/form/\">장고 - Form/ModelForm 잘 알고 쓰기</a></li>\n",
      "    <li class=\"course\"><a href=\"https://nomade.kr/vod/cbv/\">장고 - 클래스 기반 뷰. 잘 알고 쓰기</a></li>\n",
      "    <li class=\"course\"><a href=\"https://nomade.kr/vod/payment/\">장고 - 결제 시스템 연동</a></li>\n",
      "    <li class=\"course\"><a href=\"https://nomade.kr/vod/frontend/\">장고 - 웹 프론트엔드 시작편</a></li>\n",
      "    <li class=\"course\"><a href=\"https://nomade.kr/vod/widgets/\">장고 - 다양한 위젯 만들기</a></li>\n",
      "    <li class=\"course\"><a href=\"https://nomade.kr/vod/apiserver/\">장고 - API 서버 만들기 및 초간단 안드로이드 앱 만들기</a></li>\n",
      "    <li class=\"course\"><a href=\"https://nomade.kr/vod/hybrid/\">장고 - 하이브리드 앱 만들기</a></li>\n",
      "    <li class=\"course\"><a href=\"https://nomade.kr/vod/deploy/\">장고 - 서비스 배포하기</a></li>\n",
      "    <li class=\"course\"><a href=\"https://nomade.kr/vod/django-baemin/\">장고 - 실전편 (Feat. 배달의 민족 St. 만들기)</a></li>\n",
      "    <li class=\"course\"><a href=\"https://nomade.kr/vod/django-instagram/\">장고 - 실전편 (Feat. 인스타그램 St. 만들기)</a></li>\n",
      "</ul>\n",
      "\n",
      "<img src=\"https://nomade.kr/static/2017031408/nomadekr-og.jpg\" id=\"logo\" />\n",
      "\n",
      "<hr/>\n",
      "\n",
      "<h3>미션</h3>\n",
      "\n",
      "<ul>\n",
      "    <li>위 VOD 코스의 코스명과 URL을 크롤링</li>\n",
      "    <li>제약사항 : requests 라이브러리만을 사용하세요.</li>\n",
      "</ul>\n",
      "\n",
      "실행 예시\n",
      "\n",
      "<pre>\n",
      "    개발환경 구축하기 https://nomade.kr/vod/setup/\n",
      "    파이썬 차근차근 시작하기 https://nomade.kr/vod/python/\n",
      "    크롤링 차근차근 시작하기 https://nomade.kr/vod/crawling/\n",
      "    파이썬으로 업무 자동화 https://nomade.kr/vod/automation/\n",
      "    장고 - 기본편 https://nomade.kr/vod/django/\n",
      "    장고걸스 튜토리얼 https://nomade.kr/vod/djangogirls/\n",
      "    장고 - Form/ModelForm 잘 알고 쓰기 https://nomade.kr/vod/form/\n",
      "    장고 - 클래스 기반 뷰. 잘 알고 쓰기 https://nomade.kr/vod/cbv/\n",
      "    장고 - 결제 시스템 연동 https://nomade.kr/vod/payment/\n",
      "    장고 - 웹 프론트엔드 시작편 https://nomade.kr/vod/frontend/\n",
      "    장고 - 다양한 위젯 만들기 https://nomade.kr/vod/widgets/\n",
      "    장고 - API 서버 만들기 및 초간단 안드로이드 앱 만들기 https://nomade.kr/vod/apiserver/\n",
      "    장고 - 하이브리드 앱 만들기 https://nomade.kr/vod/hybrid/\n",
      "    장고 - 서비스 배포하기 https://nomade.kr/vod/deploy/\n",
      "    장고 - 실전편 (Feat. 배달의 민족 St. 만들기) https://nomade.kr/vod/django-baemin/\n",
      "    장고 - 실전편 (Feat. 인스타그램 St. 만들기) https://nomade.kr/vod/django-instagram/\n",
      "</pre>\n",
      "\n",
      "<p>AskDjango 크롤링 VOD를 통해 크롤링의 기본을 배우고, 꾸준히 크롤링을 연습해보세요.</p>\n",
      "\n",
      "<hr/>\n",
      "    <p><a href=\"/\">home</a></p>\n",
      "    <p>\n",
      "    여러분의 파이썬/장고 페이스메이커가 되겠습니다. &dash; <a href=\"https://nomade.kr/vod/\">AskDjango VOD</a>\n",
      "    </p>\n",
      "    <p>\n",
      "    &copy;\n",
      "    <script>document.write((new Date()).getYear() + 1900);</script>\n",
      "    SHAKEADE\n",
      "</p>\n",
      "</body>\n",
      "</html>\n",
      "\n"
     ]
    }
   ],
   "source": [
    "print(html)"
   ]
  },
  {
   "cell_type": "code",
   "execution_count": 11,
   "metadata": {},
   "outputs": [
    {
     "name": "stdout",
     "output_type": "stream",
     "text": [
      "writing to 20170528204207_6e9df8e618b97520233bbb35e7d4eaaf_IMAG01_1.jpg (245072 bytes)\n",
      "writing to 20170528204207_6e9df8e618b97520233bbb35e7d4eaaf_IMAG01_2.jpg (277346 bytes)\n",
      "writing to 20170528204207_6e9df8e618b97520233bbb35e7d4eaaf_IMAG01_3.jpg (249786 bytes)\n"
     ]
    }
   ],
   "source": [
    "import os\n",
    "import requests\n",
    "# URL 소스 : http://comic.naver.com/webtoon/detail.nhn?titleId=119874&no=1015&weekday=tue # - 덴마. 3-12화 1. 다이크(12)\n",
    "image_urls = [\n",
    "    'http://imgcomic.naver.net/webtoon/119874/1015/20170528204207_6e9df8e618b97520233bbb35e7d4eaaf_IMAG01_1.jpg',\n",
    "    'http://imgcomic.naver.net/webtoon/119874/1015/20170528204207_6e9df8e618b97520233bbb35e7d4eaaf_IMAG01_2.jpg',\n",
    "    'http://imgcomic.naver.net/webtoon/119874/1015/20170528204207_6e9df8e618b97520233bbb35e7d4eaaf_IMAG01_3.jpg',\n",
    "]\n",
    "for image_url in image_urls:\n",
    "    headers = {\n",
    "        'Referer': 'http://comic.naver.com/webtoon/detail.nhn?titleId=119874&no=1015&weekday=tue'\n",
    "    }\n",
    "    response = requests.get(image_url, headers=headers)\n",
    "    image_data = response.content\n",
    "    filename = os.path.basename(image_url)\n",
    "    with open(filename, 'wb') as f:\n",
    "        print('writing to {} ({} bytes)'.format(filename, len(image_data)))\n",
    "        f.write(image_data)\n"
   ]
  },
  {
   "cell_type": "code",
   "execution_count": null,
   "metadata": {
    "collapsed": true
   },
   "outputs": [],
   "source": []
  },
  {
   "cell_type": "code",
   "execution_count": null,
   "metadata": {
    "collapsed": true
   },
   "outputs": [],
   "source": []
  }
 ],
 "metadata": {
  "kernelspec": {
   "display_name": "Python 3",
   "language": "python",
   "name": "python3"
  },
  "language_info": {
   "codemirror_mode": {
    "name": "ipython",
    "version": 3
   },
   "file_extension": ".py",
   "mimetype": "text/x-python",
   "name": "python",
   "nbconvert_exporter": "python",
   "pygments_lexer": "ipython3",
   "version": "3.6.0"
  }
 },
 "nbformat": 4,
 "nbformat_minor": 2
}
