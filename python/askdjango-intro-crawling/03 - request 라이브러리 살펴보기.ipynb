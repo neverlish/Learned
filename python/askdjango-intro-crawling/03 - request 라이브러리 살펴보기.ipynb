{
 "cells": [
  {
   "cell_type": "code",
   "execution_count": 1,
   "metadata": {
    "collapsed": true
   },
   "outputs": [],
   "source": [
    "import requests"
   ]
  },
  {
   "cell_type": "code",
   "execution_count": 29,
   "metadata": {
    "collapsed": true
   },
   "outputs": [],
   "source": [
    "# 단순 GET 요청\n",
    "response = requests.get('http://news.naver.com/main/home.nhn')\n",
    "html = response.text"
   ]
  },
  {
   "cell_type": "code",
   "execution_count": 30,
   "metadata": {},
   "outputs": [
    {
     "data": {
      "text/plain": [
       "'text/html;charset=EUC-KR'"
      ]
     },
     "execution_count": 30,
     "metadata": {},
     "output_type": "execute_result"
    }
   ],
   "source": [
    "response.headers['Content-Type']"
   ]
  },
  {
   "cell_type": "code",
   "execution_count": 31,
   "metadata": {},
   "outputs": [
    {
     "data": {
      "text/plain": [
       "'EUC-KR'"
      ]
     },
     "execution_count": 31,
     "metadata": {},
     "output_type": "execute_result"
    }
   ],
   "source": [
    "response.encoding"
   ]
  },
  {
   "cell_type": "code",
   "execution_count": 11,
   "metadata": {
    "scrolled": true
   },
   "outputs": [
    {
     "name": "stdout",
     "output_type": "stream",
     "text": [
      "상식in뉴스\n",
      "동영상기사\n",
      "\n",
      "교육장관 후보에 김상곤…수능·자사고 등 대수술 예고\n",
      "문 대통령 '개혁 대상' 핵심 부처 인선…배경과 전망\n",
      "국회 찾는 대통령…야당에 추경·인사 협조 요청 예정\n",
      "인사청문회 줄줄이 난항 계속…국회 '공회전'\n",
      "'취임 한달' 文대통령 국정 긍정평가 89.4%…민주당 53.7%\n",
      "美 고위 당국자 \"韓 '사드배치 합의유지' 확답받았다\"\n",
      "정부서울청사 총리 비서실 불 나 진화…\"형광등 발화 추정\"\n",
      "'문재인 정부' 출범\n",
      "관련기사\n",
      "5,085건\n",
      "[靑, 장·차관 인선 발표]\n",
      "문 대통령 '개혁 대상' 핵심 부처 인선…배...\n",
      "[장·차관급 인선 관련 청와대 입장]\n",
      "주말 대규모 인선…\"최선 다해 ...\n",
      "[장·차관 누구인가]\n",
      "교육장관 후보에 김상곤…수능·자사고 등 대수...\n",
      "[정·차관급 인사 발표 여야 반응]\n",
      "장관 인사…與 \"나라다운 나라 의...\n",
      "['인사 청문' 진행 및 전망]\n",
      "인사청문회 줄줄이 난항 계속…국회 '공회...\n",
      "지구촌 화제\n",
      "뉴스, 이제 영어로 듣자!\n",
      "\n",
      "\n",
      "문재인 정부 출범\n",
      "\n",
      "조류 인플루엔자(AI) 발생\n",
      "\n",
      "'박근혜·최순실' 재판\n",
      "\n",
      "美 '트럼프 시대'\n",
      "\n",
      "세월호 인양\n",
      "\n",
      "'사드 배치' 계속되는 논란\n",
      "\n",
      "한일 '위안부 협상' 타결 이후\n",
      "\n",
      "부동산 시장 리포트\n",
      "\n",
      "가계부채는 결국 누가 갚아야 할까-태초에 빚이..\n",
      "불공정 선거 보도 기사 모음\n"
     ]
    }
   ],
   "source": [
    "from bs4 import BeautifulSoup\n",
    "soup = BeautifulSoup(html, 'html.parser')\n",
    "for tag in soup.select('a[href*=sectionList.nhn]'):\n",
    "    print(tag.text.strip())"
   ]
  },
  {
   "cell_type": "code",
   "execution_count": 15,
   "metadata": {
    "collapsed": true
   },
   "outputs": [],
   "source": [
    "# GET 요청 시에 커스템 헤더 지정\n",
    "\n",
    "request_headers = {\n",
    "    'User-Agent': ('Mozilla/5.0 (Macintosh; Intel Mac OS X 10_12_6) AppleWebKit/537.36 '\n",
    "                   '(KHTML, like Gecko) Chrome/58.0.3029.110 Safari/537.36'), \n",
    "    'Referer': 'http://news.naver.com/main/home.nhn', # 뉴스홈\n",
    "}\n",
    "response = requests.get('http://news.naver.com/main/main.nhn', headers=request_headers)"
   ]
  },
  {
   "cell_type": "code",
   "execution_count": 16,
   "metadata": {},
   "outputs": [
    {
     "data": {
      "text/plain": [
       "<Response [200]>"
      ]
     },
     "execution_count": 16,
     "metadata": {},
     "output_type": "execute_result"
    }
   ],
   "source": [
    "response"
   ]
  },
  {
   "cell_type": "code",
   "execution_count": 36,
   "metadata": {},
   "outputs": [],
   "source": [
    "# 동일 Key의 GET 인자 지정\n",
    "\n",
    "get_params = dict([('k1', 'v1'), ('k1', 'v3'), ('k2', 'v2')])\n",
    "response = requests.get('http://httpbin.org/get', params=get_params)"
   ]
  },
  {
   "cell_type": "code",
   "execution_count": 38,
   "metadata": {},
   "outputs": [
    {
     "data": {
      "text/plain": [
       "{'k1': 'v3', 'k2': 'v2'}"
      ]
     },
     "execution_count": 38,
     "metadata": {},
     "output_type": "execute_result"
    }
   ],
   "source": [
    "response.json()['args']"
   ]
  },
  {
   "cell_type": "code",
   "execution_count": 40,
   "metadata": {},
   "outputs": [
    {
     "data": {
      "text/plain": [
       "{'k1': 'v3', 'k2': 'v2'}"
      ]
     },
     "execution_count": 40,
     "metadata": {},
     "output_type": "execute_result"
    }
   ],
   "source": [
    "import json\n",
    "json.loads(response.text)['args']"
   ]
  },
  {
   "cell_type": "code",
   "execution_count": 26,
   "metadata": {},
   "outputs": [
    {
     "data": {
      "text/plain": [
       "200"
      ]
     },
     "execution_count": 26,
     "metadata": {},
     "output_type": "execute_result"
    }
   ],
   "source": [
    "response.status_code"
   ]
  },
  {
   "cell_type": "code",
   "execution_count": 27,
   "metadata": {},
   "outputs": [
    {
     "data": {
      "text/plain": [
       "True"
      ]
     },
     "execution_count": 27,
     "metadata": {},
     "output_type": "execute_result"
    }
   ],
   "source": [
    "response.ok"
   ]
  },
  {
   "cell_type": "code",
   "execution_count": 28,
   "metadata": {},
   "outputs": [
    {
     "data": {
      "text/plain": [
       "{'Connection': 'keep-alive', 'Server': 'meinheld/0.6.1', 'Date': 'Sun, 11 Jun 2017 15:28:07 GMT', 'Content-Type': 'application/json', 'Access-Control-Allow-Origin': '*', 'Access-Control-Allow-Credentials': 'true', 'X-Powered-By': 'Flask', 'X-Processed-Time': '0.00081992149353', 'Content-Length': '314', 'Via': '1.1 vegur'}"
      ]
     },
     "execution_count": 28,
     "metadata": {},
     "output_type": "execute_result"
    }
   ],
   "source": [
    "response.headers"
   ]
  },
  {
   "cell_type": "code",
   "execution_count": 32,
   "metadata": {},
   "outputs": [
    {
     "data": {
      "text/plain": [
       "'text/html;charset=EUC-KR'"
      ]
     },
     "execution_count": 32,
     "metadata": {},
     "output_type": "execute_result"
    }
   ],
   "source": [
    "response.headers['Content-Type']"
   ]
  },
  {
   "cell_type": "code",
   "execution_count": 33,
   "metadata": {},
   "outputs": [
    {
     "data": {
      "text/plain": [
       "'EUC-KR'"
      ]
     },
     "execution_count": 33,
     "metadata": {},
     "output_type": "execute_result"
    }
   ],
   "source": [
    "response.encoding"
   ]
  },
  {
   "cell_type": "markdown",
   "metadata": {},
   "source": [
    "### POST"
   ]
  },
  {
   "cell_type": "code",
   "execution_count": 44,
   "metadata": {},
   "outputs": [
    {
     "data": {
      "text/plain": [
       "{'args': {},\n",
       " 'data': '',\n",
       " 'files': {},\n",
       " 'form': {'k1': ['v1', 'v3'], 'k2': 'v2'},\n",
       " 'headers': {'Accept': '*/*',\n",
       "  'Accept-Encoding': 'gzip, deflate',\n",
       "  'Connection': 'close',\n",
       "  'Content-Length': '17',\n",
       "  'Content-Type': 'application/x-www-form-urlencoded',\n",
       "  'Host': 'httpbin.org',\n",
       "  'User-Agent': 'python-requests/2.12.4'},\n",
       " 'json': None,\n",
       " 'origin': '59.187.252.251',\n",
       " 'url': 'http://httpbin.org/post'}"
      ]
     },
     "execution_count": 44,
     "metadata": {},
     "output_type": "execute_result"
    }
   ],
   "source": [
    "data = [('k1', 'v1'), ('k1', 'v3'), ('k2', 'v2')]\n",
    "response = requests.post('http://httpbin.org/post', data=data)\n",
    "response.json()"
   ]
  },
  {
   "cell_type": "markdown",
   "metadata": {},
   "source": [
    "### JSON 요청"
   ]
  },
  {
   "cell_type": "code",
   "execution_count": 46,
   "metadata": {
    "collapsed": true
   },
   "outputs": [],
   "source": [
    "import json\n",
    "json_data = {'k1': 'v2', 'k2': [1, 2, 3], 'name': 'Ask장고'}\n",
    "json_string = json.dumps(json_data)"
   ]
  },
  {
   "cell_type": "code",
   "execution_count": 47,
   "metadata": {},
   "outputs": [
    {
     "data": {
      "text/plain": [
       "{'args': {},\n",
       " 'data': '{\"k1\": \"v2\", \"k2\": [1, 2, 3], \"name\": \"Ask\\\\uc7a5\\\\uace0\"}',\n",
       " 'files': {},\n",
       " 'form': {},\n",
       " 'headers': {'Accept': '*/*',\n",
       "  'Accept-Encoding': 'gzip, deflate',\n",
       "  'Connection': 'close',\n",
       "  'Content-Length': '56',\n",
       "  'Host': 'httpbin.org',\n",
       "  'User-Agent': 'python-requests/2.12.4'},\n",
       " 'json': {'k1': 'v2', 'k2': [1, 2, 3], 'name': 'Ask장고'},\n",
       " 'origin': '59.187.252.251',\n",
       " 'url': 'http://httpbin.org/post'}"
      ]
     },
     "execution_count": 47,
     "metadata": {},
     "output_type": "execute_result"
    }
   ],
   "source": [
    "response = requests.post('http://httpbin.org/post', data=json_string)\n",
    "response.json()"
   ]
  },
  {
   "cell_type": "code",
   "execution_count": null,
   "metadata": {
    "collapsed": true
   },
   "outputs": [],
   "source": [
    "## 파일 업로드 "
   ]
  }
 ],
 "metadata": {
  "kernelspec": {
   "display_name": "Python 3",
   "language": "python",
   "name": "python3"
  },
  "language_info": {
   "codemirror_mode": {
    "name": "ipython",
    "version": 3
   },
   "file_extension": ".py",
   "mimetype": "text/x-python",
   "name": "python",
   "nbconvert_exporter": "python",
   "pygments_lexer": "ipython3",
   "version": "3.6.0"
  }
 },
 "nbformat": 4,
 "nbformat_minor": 2
}
