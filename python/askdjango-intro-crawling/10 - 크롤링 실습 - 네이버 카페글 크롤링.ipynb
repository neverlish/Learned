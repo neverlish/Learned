{
 "cells": [
  {
   "cell_type": "code",
   "execution_count": 1,
   "metadata": {
    "collapsed": true
   },
   "outputs": [],
   "source": [
    "import requests\n",
    "from bs4 import BeautifulSoup\n",
    "from urllib.parse import urljoin"
   ]
  },
  {
   "cell_type": "code",
   "execution_count": 2,
   "metadata": {
    "collapsed": true
   },
   "outputs": [],
   "source": [
    "list_url = 'https://m.cafe.naver.com/joonggonara'\n",
    "\n",
    "html = requests.get(list_url).text\n",
    "soup = BeautifulSoup(html, 'html.parser')"
   ]
  },
  {
   "cell_type": "code",
   "execution_count": 3,
   "metadata": {
    "scrolled": true
   },
   "outputs": [
    {
     "name": "stdout",
     "output_type": "stream",
     "text": [
      "[판매완료]정품 소니 sel24f18z (칼이사) 판매합니다. https://m.cafe.naver.com/ArticleRead.nhn?clubid=10050146&articleid=392791796&page=1&boardtype=L\n",
      "None\n",
      "elo sol 스텐냄비 세트 https://m.cafe.naver.com/ArticleRead.nhn?clubid=10050146&articleid=392791795&page=1&boardtype=L\n",
      "None\n",
      "롤러블레이드 인라인 https://m.cafe.naver.com/ArticleRead.nhn?clubid=10050146&articleid=392791794&page=1&boardtype=L\n",
      "None\n",
      "[공식앱] 이지 부스트 지브라 새상품[270] https://m.cafe.naver.com/ArticleRead.nhn?clubid=10050146&articleid=392791793&page=1&boardtype=L\n",
      "None\n",
      "(거의새제품)울산 부산 브라더프린터 레이져 프린터 레이저프린터 착불 팔아요. https://m.cafe.naver.com/ArticleRead.nhn?clubid=10050146&articleid=392791792&page=1&boardtype=L\n",
      "50,000원\n",
      "아우디 A5 역조 18인치 순정휠,브레이크, 배기 판매 https://m.cafe.naver.com/ArticleRead.nhn?clubid=10050146&articleid=392791791&page=1&boardtype=L\n",
      "None\n",
      "일렉트로룩스 에르고라피도 ZB3003 무선청소기 - 배터리새것 https://m.cafe.naver.com/ArticleRead.nhn?clubid=10050146&articleid=392791790&page=1&boardtype=L\n",
      "None\n",
      "아이폰7 , 128기가 ,제트블랙 , 68만원 (101번) https://m.cafe.naver.com/ArticleRead.nhn?clubid=10050146&articleid=392791789&page=1&boardtype=L\n",
      "None\n",
      "7700K z170으로 라이젠 1600+메인보드 구해봅니다 https://m.cafe.naver.com/ArticleRead.nhn?clubid=10050146&articleid=392791788&page=1&boardtype=L\n",
      "None\n",
      "비발디 파크 대명 리조트 7/16 패밀리 오크A(취사) https://m.cafe.naver.com/ArticleRead.nhn?clubid=10050146&articleid=392791787&page=1&boardtype=L\n",
      "None\n",
      "microkey-61 korg 판매합니다 https://m.cafe.naver.com/ArticleRead.nhn?clubid=10050146&articleid=392791786&page=1&boardtype=L\n",
      "None\n",
      "90/100/110 외동딸아이 입던 옷 판매합니다 (밍크뮤, 폴로, 아디다스, paul&polley;, 베베쥬, 알로앤루, 갭, 쇼콜라, 보세 ) https://m.cafe.naver.com/ArticleRead.nhn?clubid=10050146&articleid=392791785&page=1&boardtype=L\n",
      "None\n",
      "[BMW]뉴5-SERIES528i 세단 |가솔린ㅣ2014년식| 18,165 kmㅣ오토ㅣ검정색ㅣ수원|완전 무사고 https://m.cafe.naver.com/ArticleRead.nhn?clubid=10050146&articleid=392791784&page=1&boardtype=L\n",
      "None\n",
      "300B 진공관 앰프 오디오 https://m.cafe.naver.com/ArticleRead.nhn?clubid=10050146&articleid=392791783&page=1&boardtype=L\n",
      "None\n",
      "[공식앱] 스와로브스키 목걸이 https://m.cafe.naver.com/ArticleRead.nhn?clubid=10050146&articleid=392791782&page=1&boardtype=L\n",
      "None\n",
      "설악/대천/부산/경주/한화콘도 & 켄싱턴콘도/주말 & 성수기 양도 https://m.cafe.naver.com/ArticleRead.nhn?clubid=10050146&articleid=392791781&page=1&boardtype=L\n",
      "12,345원\n",
      "[정품] 발렌시아가 스피드러너 회색 판매합니다. 41 (265~270) 사이즈 https://m.cafe.naver.com/ArticleRead.nhn?clubid=10050146&articleid=392791780&page=1&boardtype=L\n",
      "None\n",
      "갤럭시,아이폰 고가에 삽니다. 문의주세요 https://m.cafe.naver.com/ArticleRead.nhn?clubid=10050146&articleid=392791779&page=1&boardtype=L\n",
      "100,000원\n",
      "(새상품)꼼빠니아쉬폰원피스~!!! https://m.cafe.naver.com/ArticleRead.nhn?clubid=10050146&articleid=392791778&page=1&boardtype=L\n",
      "19,000원\n",
      "가죽볼타올/볼링/볼링볼타올/물소가죽 https://m.cafe.naver.com/ArticleRead.nhn?clubid=10050146&articleid=392791777&page=1&boardtype=L\n",
      "None\n"
     ]
    }
   ],
   "source": [
    "for tag in soup.select('#articleListArea li'):\n",
    "    article_url = urljoin(list_url, tag.find('a')['href'])\n",
    "    article_title = tag.find(class_='tit').text.strip()\n",
    "    print(article_title, article_url)\n",
    "    \n",
    "    html = requests.get(article_url).text\n",
    "    article_soup = BeautifulSoup(html, 'html.parser')\n",
    "    \n",
    "    try:\n",
    "        price = article_soup.select('.product_name .price')[0].text\n",
    "    except IndexError:\n",
    "        price = None\n",
    "    print(price)"
   ]
  },
  {
   "cell_type": "code",
   "execution_count": 4,
   "metadata": {
    "scrolled": true
   },
   "outputs": [
    {
     "name": "stdout",
     "output_type": "stream",
     "text": [
      "급매 절충 MS 서피스 프로4. I5. 4G ram, 128ssd https://m.cafe.naver.com/ArticleRead.nhn?clubid=10050146&articleid=392791809&page=1&boardtype=L\n",
      "20,000원\n",
      "수원   발  종아리  맛사지 정상작동 택배포함  2만팜 https://m.cafe.naver.com/ArticleRead.nhn?clubid=10050146&articleid=392791808&page=1&boardtype=L\n",
      "None\n",
      "양문형냉장고.세탁기.김치냉장고.삼성하우젠12평에어컨저렴히처분해요~~ https://m.cafe.naver.com/ArticleRead.nhn?clubid=10050146&articleid=392791807&page=1&boardtype=L\n",
      "10,000원\n",
      "서울 2012년 효성 트로이RT 백마 114만원에 판매합니다. https://m.cafe.naver.com/ArticleRead.nhn?clubid=10050146&articleid=392791806&page=1&boardtype=L\n",
      "2,000원\n",
      "오즈세컨 원피스 https://m.cafe.naver.com/ArticleRead.nhn?clubid=10050146&articleid=392791805&page=1&boardtype=L\n",
      "None\n",
      "여아 수영복 2벌 4~7세 https://m.cafe.naver.com/ArticleRead.nhn?clubid=10050146&articleid=392791804&page=1&boardtype=L\n",
      "None\n",
      "브라더 프린터기 팝니다. https://m.cafe.naver.com/ArticleRead.nhn?clubid=10050146&articleid=392791803&page=1&boardtype=L\n",
      "None\n",
      "펜션 폐업하고 남은 새제품들 커튼.침구세트 싸게 팝니다 https://m.cafe.naver.com/ArticleRead.nhn?clubid=10050146&articleid=392791802&page=1&boardtype=L\n",
      "None\n",
      "★빈폴머리띠----------택포1.2 https://m.cafe.naver.com/ArticleRead.nhn?clubid=10050146&articleid=392791801&page=1&boardtype=L\n",
      "12,000원\n",
      "레노버 요가북w(wifi) 팝니다 https://m.cafe.naver.com/ArticleRead.nhn?clubid=10050146&articleid=392791800&page=1&boardtype=L\n",
      "330,000원\n",
      "깔랑 화이트 220 (새상품) 3cm https://m.cafe.naver.com/ArticleRead.nhn?clubid=10050146&articleid=392791799&page=1&boardtype=L\n",
      "None\n",
      "[현대]아슬란 G300 모던ㅣ14/12(15년형)ㅣ52,769kmㅣ가솔린ㅣ수원 https://m.cafe.naver.com/ArticleRead.nhn?clubid=10050146&articleid=392791798&page=1&boardtype=L\n",
      "26,200,000원\n",
      "리큅 식품건조기 투명 삽니다. https://m.cafe.naver.com/ArticleRead.nhn?clubid=10050146&articleid=392791797&page=1&boardtype=L\n",
      "None\n",
      "[판매완료]정품 소니 sel24f18z (칼이사) 판매합니다. https://m.cafe.naver.com/ArticleRead.nhn?clubid=10050146&articleid=392791796&page=1&boardtype=L\n",
      "None\n",
      "elo sol 스텐냄비 세트 https://m.cafe.naver.com/ArticleRead.nhn?clubid=10050146&articleid=392791795&page=1&boardtype=L\n",
      "None\n",
      "롤러블레이드 인라인 https://m.cafe.naver.com/ArticleRead.nhn?clubid=10050146&articleid=392791794&page=1&boardtype=L\n",
      "None\n",
      "[공식앱] 이지 부스트 지브라 새상품[270] https://m.cafe.naver.com/ArticleRead.nhn?clubid=10050146&articleid=392791793&page=1&boardtype=L\n",
      "None\n",
      "(거의새제품)울산 부산 브라더프린터 레이져 프린터 레이저프린터 착불 팔아요. https://m.cafe.naver.com/ArticleRead.nhn?clubid=10050146&articleid=392791792&page=1&boardtype=L\n",
      "50,000원\n",
      "아우디 A5 역조 18인치 순정휠,브레이크, 배기 판매 https://m.cafe.naver.com/ArticleRead.nhn?clubid=10050146&articleid=392791791&page=1&boardtype=L\n",
      "None\n",
      "일렉트로룩스 에르고라피도 ZB3003 무선청소기 - 배터리새것 https://m.cafe.naver.com/ArticleRead.nhn?clubid=10050146&articleid=392791790&page=1&boardtype=L\n",
      "None\n"
     ]
    }
   ],
   "source": [
    "params = {\n",
    "    'search.clubid': '10050146',\n",
    "#     'search.menuid': '1256',\n",
    "#     'search.boardtype': 'L',\n",
    "#     'search.questionTab': 'A',\n",
    "#     'search.totalCount': 201,\n",
    "    'search.page': 1\n",
    "}\n",
    "\n",
    "list_url = 'https://m.cafe.naver.com/ArticleAllListAjax.nhn'\n",
    "html = requests.get(list_url, params=params).text\n",
    "soup = BeautifulSoup(html, 'html.parser')\n",
    "for tag in soup.select('li'):\n",
    "    article_url = urljoin(list_url, tag.find('a')['href'])\n",
    "    article_title = tag.find(class_='tit').text.strip()\n",
    "    print(article_title, article_url)\n",
    "    \n",
    "    html = requests.get(article_url).text\n",
    "    article_soup = BeautifulSoup(html, 'html.parser')\n",
    "    \n",
    "    try:\n",
    "        price = article_soup.select('.product_name .price')[0].text\n",
    "    except IndexError:\n",
    "        price = None\n",
    "    print(price)"
   ]
  },
  {
   "cell_type": "markdown",
   "metadata": {},
   "source": [
    "## MechanicalSoup을 통한 네이버 로그인"
   ]
  },
  {
   "cell_type": "code",
   "execution_count": 5,
   "metadata": {},
   "outputs": [
    {
     "name": "stdout",
     "output_type": "stream",
     "text": [
      "Username : hasblue\n",
      "Password : ········\n"
     ]
    }
   ],
   "source": [
    "from getpass import getpass\n",
    "\n",
    "username = input('Username : ')\n",
    "password = getpass('Password : ')"
   ]
  },
  {
   "cell_type": "code",
   "execution_count": 6,
   "metadata": {
    "collapsed": true
   },
   "outputs": [],
   "source": [
    "import mechanicalsoup\n",
    "\n",
    "browser = mechanicalsoup.StatefulBrowser()"
   ]
  },
  {
   "cell_type": "code",
   "execution_count": 7,
   "metadata": {},
   "outputs": [
    {
     "data": {
      "text/plain": [
       "<Response [200]>"
      ]
     },
     "execution_count": 7,
     "metadata": {},
     "output_type": "execute_result"
    }
   ],
   "source": [
    "browser.open('https://nid.naver.com/nidlogin.login?mode=number') #requests.get"
   ]
  },
  {
   "cell_type": "code",
   "execution_count": 8,
   "metadata": {},
   "outputs": [
    {
     "data": {
      "text/plain": [
       "<mechanicalsoup.form.Form at 0x11189c978>"
      ]
     },
     "execution_count": 8,
     "metadata": {},
     "output_type": "execute_result"
    }
   ],
   "source": [
    "browser.select_form('form#frmNIDLogin')"
   ]
  },
  {
   "cell_type": "code",
   "execution_count": 9,
   "metadata": {},
   "outputs": [
    {
     "data": {
      "text/plain": [
       "<Response [200]>"
      ]
     },
     "execution_count": 9,
     "metadata": {},
     "output_type": "execute_result"
    }
   ],
   "source": [
    "# browser['id'] = username\n",
    "# browser['pw'] = password\n",
    "browser['key'] = '14754730' # 네이버 일회용 로그인 번호\n",
    "browser.submit_selected()"
   ]
  },
  {
   "cell_type": "code",
   "execution_count": 10,
   "metadata": {},
   "outputs": [],
   "source": [
    "browser.launch_browser()"
   ]
  },
  {
   "cell_type": "code",
   "execution_count": 17,
   "metadata": {},
   "outputs": [
    {
     "name": "stdout",
     "output_type": "stream",
     "text": [
      "아이패드 미니4  64GB 셀룰러 팝니다. https://m.cafe.naver.com/ArticleRead.nhn?clubid=10050146&articleid=392792129&page=1&boardtype=L\n",
      "350,000원\n",
      "나이키 마지스타 X 피날레 TF  풋살화 판매합니다 https://m.cafe.naver.com/ArticleRead.nhn?clubid=10050146&articleid=392792128&page=1&boardtype=L\n",
      "None\n",
      "(30만) 브라이틀링 크로노맷 판매합니다 https://m.cafe.naver.com/ArticleRead.nhn?clubid=10050146&articleid=392792127&page=1&boardtype=L\n",
      "300,000원\n",
      "[급처] 아이나비 블랙박스 V700, 블랙골드2K, 퀀텀 급처합니다 https://m.cafe.naver.com/ArticleRead.nhn?clubid=10050146&articleid=392792126&page=1&boardtype=L\n",
      "None\n",
      "tp-03 TP03 국내정품 미개봉새제품 https://m.cafe.naver.com/ArticleRead.nhn?clubid=10050146&articleid=392792125&page=1&boardtype=L\n",
      "None\n",
      "y-3 콰사샌들 올블랙 260 사이즈 팝니다. https://m.cafe.naver.com/ArticleRead.nhn?clubid=10050146&articleid=392792124&page=1&boardtype=L\n",
      "19,000원\n",
      "샌드위치 양면팬 올리비아하슬러 가방 원더브라 팬티 속옷아이카츠 아이엠스타 이치고 라임 가챠 굿즈 피규어 페리페라 파워퍼프걸 피규어 섀도우 네일스티커 https://m.cafe.naver.com/ArticleRead.nhn?clubid=10050146&articleid=392792123&page=1&boardtype=L\n",
      "None\n",
      "미녹시딜 https://m.cafe.naver.com/ArticleRead.nhn?clubid=10050146&articleid=392792122&page=1&boardtype=L\n",
      "None\n",
      "영창피아노 https://m.cafe.naver.com/ArticleRead.nhn?clubid=10050146&articleid=392792121&page=1&boardtype=L\n",
      "500,000원\n",
      "[공식앱] [24시가능]●● 옥션 지마켓 11번가 넥슨 80프로 구매합니다. ●● https://m.cafe.naver.com/ArticleRead.nhn?clubid=10050146&articleid=392792120&page=1&boardtype=L\n",
      "None\n",
      "옷장정리합니다!가져가세요! https://m.cafe.naver.com/ArticleRead.nhn?clubid=10050146&articleid=392792119&page=1&boardtype=L\n",
      "2,000원\n",
      "인라인스케이트 판매 https://m.cafe.naver.com/ArticleRead.nhn?clubid=10050146&articleid=392792118&page=1&boardtype=L\n",
      "70,000원\n",
      "락포트 로퍼 새상품 https://m.cafe.naver.com/ArticleRead.nhn?clubid=10050146&articleid=392792117&page=1&boardtype=L\n",
      "80,000원\n",
      "맥북에어 2011MID 13인치 32만원 판매합니다. https://m.cafe.naver.com/ArticleRead.nhn?clubid=10050146&articleid=392792116&page=1&boardtype=L\n",
      "320,000원\n",
      "삼성 42인치 TV 아주 선명하게 잘 나옵니다. 저렴하게 올려요. 상태 완전 A급. https://m.cafe.naver.com/ArticleRead.nhn?clubid=10050146&articleid=392792115&page=1&boardtype=L\n",
      "18,000원\n",
      "[공식앱] 엘크라넬 새것 판매합니다 https://m.cafe.naver.com/ArticleRead.nhn?clubid=10050146&articleid=392792114&page=1&boardtype=L\n",
      "None\n",
      "키폰교환기,키폰전화기,일반전화기 등 https://m.cafe.naver.com/ArticleRead.nhn?clubid=10050146&articleid=392792113&page=1&boardtype=L\n",
      "100,000원\n",
      "마이크로 킥보드 미니투고 https://m.cafe.naver.com/ArticleRead.nhn?clubid=10050146&articleid=392792112&page=1&boardtype=L\n",
      "None\n",
      "로케트 배터리 GB100L 새제품 판매합니다 (대리점에서 구입) 6만원 https://m.cafe.naver.com/ArticleRead.nhn?clubid=10050146&articleid=392792111&page=1&boardtype=L\n",
      "None\n",
      "롯데리아 새우버거 2500원 https://m.cafe.naver.com/ArticleRead.nhn?clubid=10050146&articleid=392792110&page=1&boardtype=L\n",
      "None\n"
     ]
    }
   ],
   "source": [
    "params = {\n",
    "    'search.clubid': '10050146',\n",
    "    'search.page': 1\n",
    "}\n",
    "\n",
    "list_url = 'https://m.cafe.naver.com/ArticleAllListAjax.nhn'\n",
    "\n",
    "soup = browser.open(list_url, params=params).soup\n",
    "\n",
    "for tag in soup.select('li'):\n",
    "    article_url = urljoin(list_url, tag.find('a')['href'])\n",
    "    article_title = tag.find(class_='tit').text.strip()\n",
    "    print(article_title, article_url)\n",
    "    \n",
    "    article_soup = browser.open(article_url).soup\n",
    "    \n",
    "    try:\n",
    "        price = article_soup.select('.product_name .price')[0].text\n",
    "    except IndexError:\n",
    "        price = None\n",
    "    print(price)"
   ]
  },
  {
   "cell_type": "code",
   "execution_count": null,
   "metadata": {
    "collapsed": true
   },
   "outputs": [],
   "source": []
  }
 ],
 "metadata": {
  "kernelspec": {
   "display_name": "Python 3",
   "language": "python",
   "name": "python3"
  },
  "language_info": {
   "codemirror_mode": {
    "name": "ipython",
    "version": 3
   },
   "file_extension": ".py",
   "mimetype": "text/x-python",
   "name": "python",
   "nbconvert_exporter": "python",
   "pygments_lexer": "ipython3",
   "version": "3.6.0"
  }
 },
 "nbformat": 4,
 "nbformat_minor": 2
}
