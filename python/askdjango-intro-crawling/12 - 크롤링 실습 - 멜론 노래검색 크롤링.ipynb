{
 "cells": [
  {
   "cell_type": "code",
   "execution_count": 20,
   "metadata": {
    "scrolled": false
   },
   "outputs": [
    {
     "name": "stdout",
     "output_type": "stream",
     "text": [
      "asdaxasd\n",
      "not found\n"
     ]
    }
   ],
   "source": [
    "import requests\n",
    "import json\n",
    "\n",
    "def melon_search(q):\n",
    "    url = 'http://www.melon.com/search/keyword/index.json'\n",
    "    params = {\n",
    "        'jscallback': 'jQuery191035747813382349514_1499525369858',\n",
    "        'query': q,\n",
    "    }\n",
    "\n",
    "    response = requests.get(url, params=params).text\n",
    "    json_string = response.replace(params['jscallback'] + '(', '').replace(');', '')\n",
    "    result_dict = json.loads(json_string)\n",
    "\n",
    "    if 'SONGCONTENTS' not in result_dict:\n",
    "        print('not found')\n",
    "    else:\n",
    "        for song in result_dict['SONGCONTENTS']:\n",
    "            print('''{SONGNAME} {ALBUMNAME} {ARTISTNAME}\n",
    "        - http://www.melon.com/song/detail.htm?songId={SONGID}'''.format(**song))\n",
    "        #     print(song['SONGNAME'], song['ALBUMNAME'], song['ARTISTNAME'])\n",
    "\n",
    "if __name__ == '__main__':\n",
    "    line = input()\n",
    "    melon_search(line)"
   ]
  },
  {
   "cell_type": "code",
   "execution_count": null,
   "metadata": {
    "collapsed": true
   },
   "outputs": [],
   "source": []
  }
 ],
 "metadata": {
  "kernelspec": {
   "display_name": "Python 3",
   "language": "python",
   "name": "python3"
  },
  "language_info": {
   "codemirror_mode": {
    "name": "ipython",
    "version": 3
   },
   "file_extension": ".py",
   "mimetype": "text/x-python",
   "name": "python",
   "nbconvert_exporter": "python",
   "pygments_lexer": "ipython3",
   "version": "3.6.0"
  }
 },
 "nbformat": 4,
 "nbformat_minor": 2
}
