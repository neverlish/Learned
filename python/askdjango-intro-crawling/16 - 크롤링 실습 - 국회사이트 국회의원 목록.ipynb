{
 "cells": [
  {
   "cell_type": "code",
   "execution_count": 2,
   "metadata": {},
   "outputs": [
    {
     "name": "stdout",
     "output_type": "stream",
     "text": [
      "강길부 javascript:jsMemPop('9770276')\n",
      "강병원 javascript:jsMemPop('9770933')\n",
      "강석진 javascript:jsMemPop('9771036')\n",
      "강석호 javascript:jsMemPop('9770512')\n",
      "강창일 javascript:jsMemPop('9770279')\n",
      "강효상 javascript:jsMemPop('9771054')\n"
     ]
    }
   ],
   "source": [
    "import re\n",
    "import requests\n",
    "from bs4 import BeautifulSoup\n",
    "\n",
    "url = 'http://www.assembly.go.kr/assm/memact/congressman/memCond/memCondListAjax.do'\n",
    "\n",
    "params = {\n",
    "    'currentPage': 1,\n",
    "    'rowPerPage': 6\n",
    "}\n",
    "\n",
    "html = requests.get(url, params=params).text\n",
    "soup = BeautifulSoup(html, 'html.parser')\n",
    "\n",
    "for member_tag in soup.select('.memberna_list dl dt a'):\n",
    "    name = member_tag.text\n",
    "    link = member_tag['href']\n",
    "    matched = re.search(r'\\d+', link)\n",
    "    if matched:\n",
    "        matched.group(0)\n",
    "    \n",
    "    print(name, link)"
   ]
  },
  {
   "cell_type": "code",
   "execution_count": null,
   "metadata": {
    "collapsed": true
   },
   "outputs": [],
   "source": []
  },
  {
   "cell_type": "code",
   "execution_count": null,
   "metadata": {
    "collapsed": true
   },
   "outputs": [],
   "source": []
  }
 ],
 "metadata": {
  "kernelspec": {
   "display_name": "Python 3",
   "language": "python",
   "name": "python3"
  },
  "language_info": {
   "codemirror_mode": {
    "name": "ipython",
    "version": 3
   },
   "file_extension": ".py",
   "mimetype": "text/x-python",
   "name": "python",
   "nbconvert_exporter": "python",
   "pygments_lexer": "ipython3",
   "version": "3.6.0"
  }
 },
 "nbformat": 4,
 "nbformat_minor": 2
}
