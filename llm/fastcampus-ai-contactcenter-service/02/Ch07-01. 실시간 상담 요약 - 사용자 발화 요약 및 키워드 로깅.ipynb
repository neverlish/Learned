{
 "cells": [
  {
   "cell_type": "code",
   "execution_count": null,
   "metadata": {
    "colab": {
     "base_uri": "https://localhost:8080/"
    },
    "executionInfo": {
     "elapsed": 14975,
     "status": "ok",
     "timestamp": 1716007119517,
     "user": {
      "displayName": "Gangwoo Kim",
      "userId": "13809575073066285378"
     },
     "user_tz": -540
    },
    "id": "3nR3vuPItLFy",
    "outputId": "e75b34df-e8ec-431d-8b1b-b368bc8cd2ab"
   },
   "outputs": [
    {
     "name": "stdout",
     "output_type": "stream",
     "text": [
      "Collecting openai\n",
      "  Downloading openai-1.30.1-py3-none-any.whl (320 kB)\n",
      "\u001b[2K     \u001b[90m━━━━━━━━━━━━━━━━━━━━━━━━━━━━━━━━━━━━━━━━\u001b[0m \u001b[32m320.6/320.6 kB\u001b[0m \u001b[31m4.2 MB/s\u001b[0m eta \u001b[36m0:00:00\u001b[0m\n",
      "\u001b[?25hRequirement already satisfied: anyio<5,>=3.5.0 in /usr/local/lib/python3.10/dist-packages (from openai) (3.7.1)\n",
      "Requirement already satisfied: distro<2,>=1.7.0 in /usr/lib/python3/dist-packages (from openai) (1.7.0)\n",
      "Collecting httpx<1,>=0.23.0 (from openai)\n",
      "  Downloading httpx-0.27.0-py3-none-any.whl (75 kB)\n",
      "\u001b[2K     \u001b[90m━━━━━━━━━━━━━━━━━━━━━━━━━━━━━━━━━━━━━━━━\u001b[0m \u001b[32m75.6/75.6 kB\u001b[0m \u001b[31m7.4 MB/s\u001b[0m eta \u001b[36m0:00:00\u001b[0m\n",
      "\u001b[?25hRequirement already satisfied: pydantic<3,>=1.9.0 in /usr/local/lib/python3.10/dist-packages (from openai) (2.7.1)\n",
      "Requirement already satisfied: sniffio in /usr/local/lib/python3.10/dist-packages (from openai) (1.3.1)\n",
      "Requirement already satisfied: tqdm>4 in /usr/local/lib/python3.10/dist-packages (from openai) (4.66.4)\n",
      "Requirement already satisfied: typing-extensions<5,>=4.7 in /usr/local/lib/python3.10/dist-packages (from openai) (4.11.0)\n",
      "Requirement already satisfied: idna>=2.8 in /usr/local/lib/python3.10/dist-packages (from anyio<5,>=3.5.0->openai) (3.7)\n",
      "Requirement already satisfied: exceptiongroup in /usr/local/lib/python3.10/dist-packages (from anyio<5,>=3.5.0->openai) (1.2.1)\n",
      "Requirement already satisfied: certifi in /usr/local/lib/python3.10/dist-packages (from httpx<1,>=0.23.0->openai) (2024.2.2)\n",
      "Collecting httpcore==1.* (from httpx<1,>=0.23.0->openai)\n",
      "  Downloading httpcore-1.0.5-py3-none-any.whl (77 kB)\n",
      "\u001b[2K     \u001b[90m━━━━━━━━━━━━━━━━━━━━━━━━━━━━━━━━━━━━━━━━\u001b[0m \u001b[32m77.9/77.9 kB\u001b[0m \u001b[31m4.9 MB/s\u001b[0m eta \u001b[36m0:00:00\u001b[0m\n",
      "\u001b[?25hCollecting h11<0.15,>=0.13 (from httpcore==1.*->httpx<1,>=0.23.0->openai)\n",
      "  Downloading h11-0.14.0-py3-none-any.whl (58 kB)\n",
      "\u001b[2K     \u001b[90m━━━━━━━━━━━━━━━━━━━━━━━━━━━━━━━━━━━━━━━━\u001b[0m \u001b[32m58.3/58.3 kB\u001b[0m \u001b[31m5.2 MB/s\u001b[0m eta \u001b[36m0:00:00\u001b[0m\n",
      "\u001b[?25hRequirement already satisfied: annotated-types>=0.4.0 in /usr/local/lib/python3.10/dist-packages (from pydantic<3,>=1.9.0->openai) (0.6.0)\n",
      "Requirement already satisfied: pydantic-core==2.18.2 in /usr/local/lib/python3.10/dist-packages (from pydantic<3,>=1.9.0->openai) (2.18.2)\n",
      "Installing collected packages: h11, httpcore, httpx, openai\n",
      "Successfully installed h11-0.14.0 httpcore-1.0.5 httpx-0.27.0 openai-1.30.1\n"
     ]
    }
   ],
   "source": [
    "!pip install openai\n"
   ]
  },
  {
   "cell_type": "code",
   "execution_count": null,
   "metadata": {
    "colab": {
     "base_uri": "https://localhost:8080/"
    },
    "executionInfo": {
     "elapsed": 24190,
     "status": "ok",
     "timestamp": 1716007374623,
     "user": {
      "displayName": "Gangwoo Kim",
      "userId": "13809575073066285378"
     },
     "user_tz": -540
    },
    "id": "5-eJm0J6AiNz",
    "outputId": "39fa3842-8eb8-46d7-c60e-f0993f0d227e"
   },
   "outputs": [
    {
     "name": "stdout",
     "output_type": "stream",
     "text": [
      "Mounted at /content/drive\n"
     ]
    }
   ],
   "source": [
    "from google.colab import drive\n",
    "drive.mount('/content/drive')"
   ]
  },
  {
   "cell_type": "markdown",
   "metadata": {
    "id": "c4_dW_attOxI"
   },
   "source": [
    "### 실시간 상담 요약 - 사용자 발화 요약 및 키워드 로깅"
   ]
  },
  {
   "cell_type": "markdown",
   "metadata": {
    "id": "577h-3Qat2dJ"
   },
   "source": [
    "##### 1. multi turn 대화가 가능한 간단한 항공편 관련 상담봇 만들기"
   ]
  },
  {
   "cell_type": "code",
   "execution_count": null,
   "metadata": {
    "id": "qPb85KORtXjv"
   },
   "outputs": [],
   "source": [
    "from openai import OpenAI\n",
    "\n",
    "OPENAI_API_KEY='sk-'\n",
    "model_name=\"gpt-3.5-turbo\"\n",
    "\n",
    "client = OpenAI(\n",
    "    api_key=OPENAI_API_KEY,\n",
    ")"
   ]
  },
  {
   "cell_type": "code",
   "execution_count": null,
   "metadata": {
    "colab": {
     "base_uri": "https://localhost:8080/"
    },
    "executionInfo": {
     "elapsed": 421,
     "status": "ok",
     "timestamp": 1716008417784,
     "user": {
      "displayName": "Gangwoo Kim",
      "userId": "13809575073066285378"
     },
     "user_tz": -540
    },
    "id": "dh_CAbEIuEUP",
    "outputId": "bfa89267-3520-45de-85c0-a5611a535382"
   },
   "outputs": [
    {
     "name": "stdout",
     "output_type": "stream",
     "text": [
      "\n",
      "너는 항공편 관련 상담을 해주는 인공지능 에이전트야.\n",
      "서울과 세계 다양한 다른 나라 공항들 간에 항공편에 대해 답변해주면 돼.\n",
      "\n",
      "이용가능 항공편 \n",
      "\n",
      "항공사: 대한항공 (Korean Air)\n",
      "출발 공항: 인천국제공항 (ICN)\n",
      "도착 공항: 존 F. 케네디 국제공항 (JFK)\n",
      "출발 시간: 오후 1:30\n",
      "도착 시간: 오후 3:30\n",
      "항공사: 아시아나항공 (Asiana Airlines)\n",
      "출발 공항: 인천국제공항 (ICN)\n",
      "도착 공항: 라가디아 공항 (LGA)\n",
      "출발 시간: 오후 2:00\n",
      "도착 시간: 오후 4:00\n",
      "항공사: 유나이티드 항공 (United Airlines)\n",
      "출발 공항: 인천국제공항 (ICN)\n",
      "도착 공항: 라가디아 공항 (LGA)\n",
      "출발 시간: 오후 3:00\n",
      "도착 시간: 오후 5:00\n",
      "항공사: 아시아나항공 (Asiana Airlines)\n",
      "출발 공항: 김포국제공항 (GMP)\n",
      "도착 공항: 존 F. 케네디 국제공항 (JFK)\n",
      "출발 시간: 오후 4:00\n",
      "도착 시간: 오후 6:00\n",
      "항공사: 대한항공 (Korean Air)\n",
      "출발 공항: 인천국제공항 (ICN)\n",
      "도착 공항: 존 F. 케네디 국제공항 (JFK)\n",
      "출발 시간: 오후 5:00\n",
      "도착 시간: 오후 7:00\n",
      "항공사: 아시아나항공 (Asiana Airlines)\n",
      "출발 공항: 김포국제공항 (GMP)\n",
      "도착 공항: 라가디아 공항 (LGA)\n",
      "출발 시간: 오후 6:00\n",
      "도착 시간: 오후 8:00\n",
      "항공사: 유나이티드 항공 (United Airlines)\n",
      "출발 공항: 인천국제공항 (ICN)\n",
      "도착 공항: 존 F. 케네디 국제공항 (JFK)\n",
      "출발 시간: 오후 7:00\n",
      "도착 시간: 오후 9:00\n",
      "항공사: 아시아나항공 (Asiana Airlines)\n",
      "출발 공항: 인천국제공항 (ICN)\n",
      "도착 공항: 라가디아 공항 (LGA)\n",
      "출발 시간: 오후 8:00\n",
      "도착 시간: 오후 10:00\n",
      "항공사: 대한항공 (Korean Air)\n",
      "출발 공항: 인천국제공항 (ICN)\n",
      "도착 공항: 존 F. 케네디 국제공항 (JFK)\n",
      "출발 시간: 오후 9:00\n",
      "도착 시간: 오후 11:00\n",
      "항공사: 아시아나항공 (Asiana Airlines)\n",
      "출발 공항: 김포국제공항 (GMP)\n",
      "도착 공항: 라가디아 공항 (LGA)\n",
      "출발 시간: 오후 10:00\n",
      "도착 시간: 오후 12:00\n",
      "항공사: 유나이티드 항공 (United Airlines)\n",
      "출발 공항: 인천국제공항 (ICN)\n",
      "도착 공항: 라가디아 공항 (LGA)\n",
      "출발 시간: 오후 11:00\n",
      "도착 시간: 오전 1:00 (다음날)\n",
      "항공사: 대한항공 (Korean Air)\n",
      "출발 공항: 인천국제공항 (ICN)\n",
      "도착 공항: 존 F. 케네디 국제공항 (JFK)\n",
      "출발 시간: 오후 12:00\n",
      "도착 시간: 오전 2:00 (다음날)\n",
      "항공사: 아시아나항공 (Asiana Airlines)\n",
      "출발 공항: 김포국제공항 (GMP)\n",
      "도착 공항: 라가디아 공항 (LGA)\n",
      "출발 시간: 오전 1:00 (다음날)\n",
      "도착 시간: 오전 3:00 (다음날)\n",
      "항공사: 유나이티드 항공 (United Airlines)\n",
      "출발 공항: 인천국제공항 (ICN)\n",
      "도착 공항: 존 F. 케네디 국제공항 (JFK)\n",
      "출발 시간: 오전 2:00 (다음날)\n",
      "도착 시간: 오전 4:00 (다음날)\n",
      "항공사: 대한항공 (Korean Air)\n",
      "출발 공항: 인천국제공항 (ICN)\n",
      "도착 공항: 존 F. 케네디 국제공항 (JFK)\n",
      "출발 시간: 오전 3:00 (다음날)\n",
      "도착 시간: 오전 5:00 (다음날)\n",
      "항공사: 아시아나항공 (Asiana Airlines)\n",
      "출발 공항: 김포국제공항 (GMP)\n",
      "도착 공항: 라가디아 공항 (LGA)\n",
      "출발 시간: 오전 4:00 (다음날)\n",
      "도착 시간: 오전 6:00 (다음날)\n",
      "항공사: 유나이티드 항공 (United Airlines)\n",
      "출발 공항: 인천국제공항 (ICN)\n",
      "도착 공항: 라가디아 공항 (LGA)\n",
      "출발 시간: 오전 5:00 (다음날)\n",
      "도착 시간: 오전 7:00 (다음날)\n",
      "항공사: 대한항공 (Korean Air)\n",
      "출발 공항: 인천국제공항 (ICN)\n",
      "도착 공항: 존 F. 케네디 국제공항 (JFK)\n",
      "출발 시간: 오전 6:00 (다음날)\n",
      "도착 시간: 오전 8:00 (다음날)\n",
      "항공사: 아시아나항공 (Asiana Airlines)\n",
      "출발 공항: 김포국제공항 (GMP)\n",
      "도착 공항: 라가디아 공항 (LGA)\n",
      "출발 시간: 오전 7:00 (다음날)\n",
      "도착 시간: 오전 9:00 (다음날)\n",
      "항공사: 유나이티드 항공 (United Airlines)\n",
      "출발 공항: 인천국제공항 (ICN)\n",
      "도착 공항: 존 F. 케네디 국제공항 (JFK)\n",
      "출발 시간: 오전 8:00 (다음날)\n",
      "도착 시간: 오전 10:00 (다음날)\n",
      "\n",
      "이용 가능 항공편을 참고하여 사용자의 질의에 대해 최대한 친절하게 답변해줘\n",
      "\n"
     ]
    }
   ],
   "source": [
    "system_prompt_path = '/content/drive/MyDrive/데이터/ch0701/system_prompt_ch07_01.txt'\n",
    "\n",
    "f = open(system_prompt_path, 'r')\n",
    "system_prompt = f.read()\n",
    "print(system_prompt)\n",
    "f.close()"
   ]
  },
  {
   "cell_type": "code",
   "execution_count": null,
   "metadata": {
    "id": "sPSl_V6zuyh0"
   },
   "outputs": [],
   "source": [
    "class MultiTurnChatbot():\n",
    "  def __init__(self, system_prompt):\n",
    "    self.system_prompt = system_prompt\n",
    "    self.history = [{\n",
    "        \"role\": \"assistant\",\n",
    "        \"content\": system_prompt\n",
    "    }]\n",
    "\n",
    "  def chatbotapi(self, messages):\n",
    "    chat_completion = client.chat.completions.create(\n",
    "      messages=messages,\n",
    "      model=\"gpt-3.5-turbo\",\n",
    "    )\n",
    "    return chat_completion.choices[0].message.content\n",
    "\n",
    "  def query(self, question):\n",
    "    query_input = {\n",
    "        \"role\": \"user\",\n",
    "        \"content\": question\n",
    "    }\n",
    "\n",
    "    query_with_history = self.history + [query_input]\n",
    "\n",
    "    response = self.chatbotapi(messages=query_with_history)\n",
    "\n",
    "    self.history.append(query_input)\n",
    "    self.history.append({\n",
    "        \"role\": \"assistant\",\n",
    "        \"content\": response\n",
    "    })\n",
    "\n",
    "    return response\n",
    "\n",
    "\n",
    "multiTurnChatbot = MultiTurnChatbot(system_prompt = system_prompt)"
   ]
  },
  {
   "cell_type": "code",
   "execution_count": null,
   "metadata": {
    "colab": {
     "base_uri": "https://localhost:8080/"
    },
    "executionInfo": {
     "elapsed": 8041,
     "status": "ok",
     "timestamp": 1716008661896,
     "user": {
      "displayName": "Gangwoo Kim",
      "userId": "13809575073066285378"
     },
     "user_tz": -540
    },
    "id": "-mYlqzcAxCCc",
    "outputId": "e8b01f69-7d99-4f63-ef74-096cb55051cd"
   },
   "outputs": [
    {
     "name": "stdout",
     "output_type": "stream",
     "text": [
      "안녕하세요! 네, 오늘 인천에서 출발하는 뉴욕행 비행기를 예약할 수 있습니다. 다음은 오늘 인천에서 출발하는 뉴욕행 비행기 목록입니다:\n",
      "\n",
      "1. 대한항공 (Korean Air)\n",
      "   - 출발 공항: 인천국제공항 (ICN)\n",
      "   - 도착 공항: 존 F. 케네디 국제공항 (JFK)\n",
      "   - 출발 시간: 오후 1:30\n",
      "   - 도착 시간: 오후 3:30\n",
      "\n",
      "2. 아시아나항공 (Asiana Airlines)\n",
      "   - 출발 공항: 인천국제공항 (ICN)\n",
      "   - 도착 공항: 라가디아 공항 (LGA)\n",
      "   - 출발 시간: 오후 2:00\n",
      "   - 도착 시간: 오후 4:00\n",
      "\n",
      "3. 유나이티드 항공 (United Airlines)\n",
      "   - 출발 공항: 인천국제공항 (ICN)\n",
      "   - 도착 공항: 라가디아 공항 (LGA)\n",
      "   - 출발 시간: 오후 3:00\n",
      "   - 도착 시간: 오후 5:00\n",
      "\n",
      "원하시는 항공편을 선택하시고 예매하실 수 있습니다. 추가로 궁금한 사항이 있으시면 언제든지 물어보세요!\n"
     ]
    }
   ],
   "source": [
    "print(multiTurnChatbot.query(\"안녕하세요. 오늘 날짜로 인천에서 출발하는 뉴욕행 비행기를 예약할 수 있나요?\"))"
   ]
  },
  {
   "cell_type": "code",
   "execution_count": null,
   "metadata": {
    "colab": {
     "base_uri": "https://localhost:8080/"
    },
    "executionInfo": {
     "elapsed": 415,
     "status": "ok",
     "timestamp": 1716008678303,
     "user": {
      "displayName": "Gangwoo Kim",
      "userId": "13809575073066285378"
     },
     "user_tz": -540
    },
    "id": "KN8t8PliFkBu",
    "outputId": "da47fc83-feb5-441c-ccd1-fe399aaee150"
   },
   "outputs": [
    {
     "data": {
      "text/plain": [
       "[{'role': 'assistant',\n",
       "  'content': '\\n너는 항공편 관련 상담을 해주는 인공지능 에이전트야.\\n서울과 세계 다양한 다른 나라 공항들 간에 항공편에 대해 답변해주면 돼.\\n\\n이용가능 항공편 \\n\\n항공사: 대한항공 (Korean Air)\\n출발 공항: 인천국제공항 (ICN)\\n도착 공항: 존 F. 케네디 국제공항 (JFK)\\n출발 시간: 오후 1:30\\n도착 시간: 오후 3:30\\n항공사: 아시아나항공 (Asiana Airlines)\\n출발 공항: 인천국제공항 (ICN)\\n도착 공항: 라가디아 공항 (LGA)\\n출발 시간: 오후 2:00\\n도착 시간: 오후 4:00\\n항공사: 유나이티드 항공 (United Airlines)\\n출발 공항: 인천국제공항 (ICN)\\n도착 공항: 라가디아 공항 (LGA)\\n출발 시간: 오후 3:00\\n도착 시간: 오후 5:00\\n항공사: 아시아나항공 (Asiana Airlines)\\n출발 공항: 김포국제공항 (GMP)\\n도착 공항: 존 F. 케네디 국제공항 (JFK)\\n출발 시간: 오후 4:00\\n도착 시간: 오후 6:00\\n항공사: 대한항공 (Korean Air)\\n출발 공항: 인천국제공항 (ICN)\\n도착 공항: 존 F. 케네디 국제공항 (JFK)\\n출발 시간: 오후 5:00\\n도착 시간: 오후 7:00\\n항공사: 아시아나항공 (Asiana Airlines)\\n출발 공항: 김포국제공항 (GMP)\\n도착 공항: 라가디아 공항 (LGA)\\n출발 시간: 오후 6:00\\n도착 시간: 오후 8:00\\n항공사: 유나이티드 항공 (United Airlines)\\n출발 공항: 인천국제공항 (ICN)\\n도착 공항: 존 F. 케네디 국제공항 (JFK)\\n출발 시간: 오후 7:00\\n도착 시간: 오후 9:00\\n항공사: 아시아나항공 (Asiana Airlines)\\n출발 공항: 인천국제공항 (ICN)\\n도착 공항: 라가디아 공항 (LGA)\\n출발 시간: 오후 8:00\\n도착 시간: 오후 10:00\\n항공사: 대한항공 (Korean Air)\\n출발 공항: 인천국제공항 (ICN)\\n도착 공항: 존 F. 케네디 국제공항 (JFK)\\n출발 시간: 오후 9:00\\n도착 시간: 오후 11:00\\n항공사: 아시아나항공 (Asiana Airlines)\\n출발 공항: 김포국제공항 (GMP)\\n도착 공항: 라가디아 공항 (LGA)\\n출발 시간: 오후 10:00\\n도착 시간: 오후 12:00\\n항공사: 유나이티드 항공 (United Airlines)\\n출발 공항: 인천국제공항 (ICN)\\n도착 공항: 라가디아 공항 (LGA)\\n출발 시간: 오후 11:00\\n도착 시간: 오전 1:00 (다음날)\\n항공사: 대한항공 (Korean Air)\\n출발 공항: 인천국제공항 (ICN)\\n도착 공항: 존 F. 케네디 국제공항 (JFK)\\n출발 시간: 오후 12:00\\n도착 시간: 오전 2:00 (다음날)\\n항공사: 아시아나항공 (Asiana Airlines)\\n출발 공항: 김포국제공항 (GMP)\\n도착 공항: 라가디아 공항 (LGA)\\n출발 시간: 오전 1:00 (다음날)\\n도착 시간: 오전 3:00 (다음날)\\n항공사: 유나이티드 항공 (United Airlines)\\n출발 공항: 인천국제공항 (ICN)\\n도착 공항: 존 F. 케네디 국제공항 (JFK)\\n출발 시간: 오전 2:00 (다음날)\\n도착 시간: 오전 4:00 (다음날)\\n항공사: 대한항공 (Korean Air)\\n출발 공항: 인천국제공항 (ICN)\\n도착 공항: 존 F. 케네디 국제공항 (JFK)\\n출발 시간: 오전 3:00 (다음날)\\n도착 시간: 오전 5:00 (다음날)\\n항공사: 아시아나항공 (Asiana Airlines)\\n출발 공항: 김포국제공항 (GMP)\\n도착 공항: 라가디아 공항 (LGA)\\n출발 시간: 오전 4:00 (다음날)\\n도착 시간: 오전 6:00 (다음날)\\n항공사: 유나이티드 항공 (United Airlines)\\n출발 공항: 인천국제공항 (ICN)\\n도착 공항: 라가디아 공항 (LGA)\\n출발 시간: 오전 5:00 (다음날)\\n도착 시간: 오전 7:00 (다음날)\\n항공사: 대한항공 (Korean Air)\\n출발 공항: 인천국제공항 (ICN)\\n도착 공항: 존 F. 케네디 국제공항 (JFK)\\n출발 시간: 오전 6:00 (다음날)\\n도착 시간: 오전 8:00 (다음날)\\n항공사: 아시아나항공 (Asiana Airlines)\\n출발 공항: 김포국제공항 (GMP)\\n도착 공항: 라가디아 공항 (LGA)\\n출발 시간: 오전 7:00 (다음날)\\n도착 시간: 오전 9:00 (다음날)\\n항공사: 유나이티드 항공 (United Airlines)\\n출발 공항: 인천국제공항 (ICN)\\n도착 공항: 존 F. 케네디 국제공항 (JFK)\\n출발 시간: 오전 8:00 (다음날)\\n도착 시간: 오전 10:00 (다음날)\\n\\n이용 가능 항공편을 참고하여 사용자의 질의에 대해 최대한 친절하게 답변해줘\\n'},\n",
       " {'role': 'user', 'content': '안녕하세요. 오늘 날짜로 인천에서 출발하는 뉴욕행 비행기를 예약할 수 있나요?'},\n",
       " {'role': 'assistant',\n",
       "  'content': '안녕하세요! 네, 오늘 인천에서 출발하는 뉴욕행 비행기를 예약할 수 있습니다. 다음은 오늘 인천에서 출발하는 뉴욕행 비행기 목록입니다:\\n\\n1. 대한항공 (Korean Air)\\n   - 출발 공항: 인천국제공항 (ICN)\\n   - 도착 공항: 존 F. 케네디 국제공항 (JFK)\\n   - 출발 시간: 오후 1:30\\n   - 도착 시간: 오후 3:30\\n\\n2. 아시아나항공 (Asiana Airlines)\\n   - 출발 공항: 인천국제공항 (ICN)\\n   - 도착 공항: 라가디아 공항 (LGA)\\n   - 출발 시간: 오후 2:00\\n   - 도착 시간: 오후 4:00\\n\\n3. 유나이티드 항공 (United Airlines)\\n   - 출발 공항: 인천국제공항 (ICN)\\n   - 도착 공항: 라가디아 공항 (LGA)\\n   - 출발 시간: 오후 3:00\\n   - 도착 시간: 오후 5:00\\n\\n원하시는 항공편을 선택하시고 예매하실 수 있습니다. 추가로 궁금한 사항이 있으시면 언제든지 물어보세요!'}]"
      ]
     },
     "execution_count": 24,
     "metadata": {},
     "output_type": "execute_result"
    }
   ],
   "source": [
    "multiTurnChatbot.history"
   ]
  },
  {
   "cell_type": "code",
   "execution_count": null,
   "metadata": {
    "colab": {
     "base_uri": "https://localhost:8080/"
    },
    "executionInfo": {
     "elapsed": 389,
     "status": "ok",
     "timestamp": 1716008754760,
     "user": {
      "displayName": "Gangwoo Kim",
      "userId": "13809575073066285378"
     },
     "user_tz": -540
    },
    "id": "4CqUcYeFFoe5",
    "outputId": "23ad3a18-6d42-45eb-b7a2-a62ecc3b3895"
   },
   "outputs": [
    {
     "data": {
      "text/plain": [
       "5"
      ]
     },
     "execution_count": 31,
     "metadata": {},
     "output_type": "execute_result"
    }
   ],
   "source": [
    "len(multiTurnChatbot.history)"
   ]
  },
  {
   "cell_type": "code",
   "execution_count": null,
   "metadata": {
    "colab": {
     "base_uri": "https://localhost:8080/"
    },
    "executionInfo": {
     "elapsed": 1,
     "status": "ok",
     "timestamp": 1716008711066,
     "user": {
      "displayName": "Gangwoo Kim",
      "userId": "13809575073066285378"
     },
     "user_tz": -540
    },
    "id": "BOsR9J9EFq-S",
    "outputId": "265f5976-81d0-47d5-e88d-898d08bc6c04"
   },
   "outputs": [
    {
     "data": {
      "text/plain": [
       "{'role': 'assistant',\n",
       " 'content': '안녕하세요! 네, 오늘 인천에서 출발하는 뉴욕행 비행기를 예약할 수 있습니다. 다음은 오늘 인천에서 출발하는 뉴욕행 비행기 목록입니다:\\n\\n1. 대한항공 (Korean Air)\\n   - 출발 공항: 인천국제공항 (ICN)\\n   - 도착 공항: 존 F. 케네디 국제공항 (JFK)\\n   - 출발 시간: 오후 1:30\\n   - 도착 시간: 오후 3:30\\n\\n2. 아시아나항공 (Asiana Airlines)\\n   - 출발 공항: 인천국제공항 (ICN)\\n   - 도착 공항: 라가디아 공항 (LGA)\\n   - 출발 시간: 오후 2:00\\n   - 도착 시간: 오후 4:00\\n\\n3. 유나이티드 항공 (United Airlines)\\n   - 출발 공항: 인천국제공항 (ICN)\\n   - 도착 공항: 라가디아 공항 (LGA)\\n   - 출발 시간: 오후 3:00\\n   - 도착 시간: 오후 5:00\\n\\n원하시는 항공편을 선택하시고 예매하실 수 있습니다. 추가로 궁금한 사항이 있으시면 언제든지 물어보세요!'}"
      ]
     },
     "execution_count": 27,
     "metadata": {},
     "output_type": "execute_result"
    }
   ],
   "source": [
    "multiTurnChatbot.history[2]"
   ]
  },
  {
   "cell_type": "code",
   "execution_count": null,
   "metadata": {
    "colab": {
     "base_uri": "https://localhost:8080/"
    },
    "executionInfo": {
     "elapsed": 7081,
     "status": "ok",
     "timestamp": 1716008732272,
     "user": {
      "displayName": "Gangwoo Kim",
      "userId": "13809575073066285378"
     },
     "user_tz": -540
    },
    "id": "tiADYW_3yM96",
    "outputId": "c81a0722-642a-45ae-f5aa-6baa65bba7c4"
   },
   "outputs": [
    {
     "name": "stdout",
     "output_type": "stream",
     "text": [
      "알겠습니다! 대한항공으로 인천에서 뉴욕행 비행기를 예약해드리겠습니다.\n",
      "\n",
      "출발 공항: 인천국제공항 (ICN)\n",
      "도착 공항: 존 F. 케네디 국제공항 (JFK)\n",
      "출발 시간: 오후 1:30\n",
      "도착 시간: 오후 3:30\n",
      "\n",
      "예약을 도와드리기 위해 몇 가지 추가 정보가 필요합니다. \n",
      "1. 여행 날짜\n",
      "2. 탑승 인원 수\n",
      "3. 좌석 등급(일반석, 비즈니스석 등)\n",
      "4. 추가 서비스(수하물, 식사 등)\n",
      "\n",
      "위 정보를 알려주시면 예약을 도와드리겠습니다. 추가로 궁금한 사항이 있으시면 언제든지 물어보세요!\n"
     ]
    }
   ],
   "source": [
    "print(multiTurnChatbot.query(\"대한 항공으로 예약해주세요\"))"
   ]
  },
  {
   "cell_type": "code",
   "execution_count": null,
   "metadata": {
    "colab": {
     "base_uri": "https://localhost:8080/"
    },
    "executionInfo": {
     "elapsed": 3,
     "status": "ok",
     "timestamp": 1716008749937,
     "user": {
      "displayName": "Gangwoo Kim",
      "userId": "13809575073066285378"
     },
     "user_tz": -540
    },
    "id": "tB9EGeaful7M",
    "outputId": "ae596060-d86a-40dc-ff69-1d3e5250a1c5"
   },
   "outputs": [
    {
     "data": {
      "text/plain": [
       "{'role': 'assistant',\n",
       " 'content': '알겠습니다! 대한항공으로 인천에서 뉴욕행 비행기를 예약해드리겠습니다.\\n\\n출발 공항: 인천국제공항 (ICN)\\n도착 공항: 존 F. 케네디 국제공항 (JFK)\\n출발 시간: 오후 1:30\\n도착 시간: 오후 3:30\\n\\n예약을 도와드리기 위해 몇 가지 추가 정보가 필요합니다. \\n1. 여행 날짜\\n2. 탑승 인원 수\\n3. 좌석 등급(일반석, 비즈니스석 등)\\n4. 추가 서비스(수하물, 식사 등)\\n\\n위 정보를 알려주시면 예약을 도와드리겠습니다. 추가로 궁금한 사항이 있으시면 언제든지 물어보세요!'}"
      ]
     },
     "execution_count": 30,
     "metadata": {},
     "output_type": "execute_result"
    }
   ],
   "source": [
    "multiTurnChatbot.history[4]"
   ]
  },
  {
   "cell_type": "markdown",
   "metadata": {
    "id": "yy_aapqgyZK7"
   },
   "source": [
    "##### 2. 사용자의 발화 요약 및 키워드 로깅 하기"
   ]
  },
  {
   "cell_type": "code",
   "execution_count": null,
   "metadata": {
    "id": "KFVEwD71yglK"
   },
   "outputs": [],
   "source": [
    "sample_history = [\n",
    "    {'role': 'user',\n",
    "     'content': '안녕하세요. 오늘 날짜로 인천에서 출발하는 뉴욕행 비행기를 예약할 수 있나요?'},\n",
    "    {'role': 'assistant',\n",
    "    'content': '안녕하세요. 네, 현재는 인천에서 출발하는 뉴욕행 비행기를 예약할 수 있습니다. 출발 날짜와 시간에 따라서 좌석이 제한될 수 있으니 빠르게 예약하는 것을 권장드립니다.원하시는 날짜와 시간대를 말씀해주시면 해당하는 항공편을 찾아 예약할 수 있는 도움을 드리겠습니다.'}\n",
    " ]\n"
   ]
  },
  {
   "cell_type": "code",
   "execution_count": null,
   "metadata": {
    "colab": {
     "base_uri": "https://localhost:8080/"
    },
    "executionInfo": {
     "elapsed": 419,
     "status": "ok",
     "timestamp": 1716008858756,
     "user": {
      "displayName": "Gangwoo Kim",
      "userId": "13809575073066285378"
     },
     "user_tz": -540
    },
    "id": "dH_rGbt10Moy",
    "outputId": "01f0fec1-5504-4669-df68-486753287d00"
   },
   "outputs": [
    {
     "name": "stdout",
     "output_type": "stream",
     "text": [
      "\n",
      "주어진 사용자의 요청에 대한 키워드와 요약을 아래와 같은 형태로 정리해줘\n",
      "\n",
      "주제는 아래의 네 가지 종류 중 하나에서 골라서 기록해줘\n",
      "\n",
      "- 항공편 예약\n",
      "- 항공편 취소\n",
      "- 항공편 변경\n",
      "- 기타\n",
      "\n",
      "{\n",
      "  주제: ...\n",
      "  키워드: ...\n",
      "  요약: ...\n",
      "}\n",
      "\n",
      "입력: 안녕하세요. 오늘 날짜로 인천에서 출발하는 뉴욕행 비행기를 예약할 수 있나요?\n",
      "\n"
     ]
    }
   ],
   "source": [
    "from string import Template\n",
    "\n",
    "prompt_for_summary = Template(\"\"\"\n",
    "주어진 사용자의 요청에 대한 키워드와 요약을 아래와 같은 형태로 정리해줘\n",
    "\n",
    "주제는 아래의 네 가지 종류 중 하나에서 골라서 기록해줘\n",
    "\n",
    "- 항공편 예약\n",
    "- 항공편 취소\n",
    "- 항공편 변경\n",
    "- 기타\n",
    "\n",
    "{\n",
    "  주제: ...\n",
    "  키워드: ...\n",
    "  요약: ...\n",
    "}\n",
    "\n",
    "입력: $input\n",
    "\"\"\")\n",
    "\n",
    "print(prompt_for_summary.substitute(input=sample_history[0]['content']))"
   ]
  },
  {
   "cell_type": "code",
   "execution_count": null,
   "metadata": {
    "colab": {
     "base_uri": "https://localhost:8080/"
    },
    "executionInfo": {
     "elapsed": 2243,
     "status": "ok",
     "timestamp": 1716008947803,
     "user": {
      "displayName": "Gangwoo Kim",
      "userId": "13809575073066285378"
     },
     "user_tz": -540
    },
    "id": "GxIRydDJ0DPd",
    "outputId": "5873d296-9a96-4051-b704-ec570b3dd494"
   },
   "outputs": [
    {
     "name": "stdout",
     "output_type": "stream",
     "text": [
      "{\n",
      "  \"주제\": \"항공편 예약\",\n",
      "  \"키워드\": \"인천, 뉴욕, 비행기, 예약\",\n",
      "  \"요약\": \"인천에서 출발하는 뉴욕행 비행기 예약 문의\"\n",
      "}\n"
     ]
    }
   ],
   "source": [
    "response = client.chat.completions.create(\n",
    "  model=\"gpt-3.5-turbo-0125\",\n",
    "  response_format={ \"type\": \"json_object\" },\n",
    "  messages=[\n",
    "    {\"role\": \"system\", \"content\": \"You are a helpful assistant designed to output JSON.\"},\n",
    "    {\"role\": \"user\", \"content\": prompt_for_summary.substitute(input=sample_history[0]['content'])}\n",
    "  ]\n",
    ")\n",
    "\n",
    "print(response.choices[0].message.content)"
   ]
  },
  {
   "cell_type": "code",
   "execution_count": null,
   "metadata": {
    "colab": {
     "base_uri": "https://localhost:8080/",
     "height": 35
    },
    "executionInfo": {
     "elapsed": 470,
     "status": "ok",
     "timestamp": 1716008964626,
     "user": {
      "displayName": "Gangwoo Kim",
      "userId": "13809575073066285378"
     },
     "user_tz": -540
    },
    "id": "XvkKnaGS7clL",
    "outputId": "457ee208-795d-4bb7-bd71-8f124ee239af"
   },
   "outputs": [
    {
     "data": {
      "application/vnd.google.colaboratory.intrinsic+json": {
       "type": "string"
      },
      "text/plain": [
       "'항공편 예약'"
      ]
     },
     "execution_count": 35,
     "metadata": {},
     "output_type": "execute_result"
    }
   ],
   "source": [
    "import json\n",
    "response_json = json.loads(response.choices[0].message.content)\n",
    "response_json[\"주제\"]"
   ]
  },
  {
   "cell_type": "code",
   "execution_count": null,
   "metadata": {
    "colab": {
     "base_uri": "https://localhost:8080/",
     "height": 35
    },
    "executionInfo": {
     "elapsed": 3,
     "status": "ok",
     "timestamp": 1716008989711,
     "user": {
      "displayName": "Gangwoo Kim",
      "userId": "13809575073066285378"
     },
     "user_tz": -540
    },
    "id": "DxceCNd7Gxbx",
    "outputId": "35a7f750-2cb7-4294-a6a4-223cc3bdb4c4"
   },
   "outputs": [
    {
     "data": {
      "application/vnd.google.colaboratory.intrinsic+json": {
       "type": "string"
      },
      "text/plain": [
       "'인천, 뉴욕, 비행기, 예약'"
      ]
     },
     "execution_count": 36,
     "metadata": {},
     "output_type": "execute_result"
    }
   ],
   "source": [
    "response_json['키워드']"
   ]
  },
  {
   "cell_type": "markdown",
   "metadata": {
    "id": "VZBr8hkA03MK"
   },
   "source": [
    "##### 3. multi turn 대화가 가능한 간단한 항공편 관련 상담봇에 로깅 및 통계 기능 추가하기"
   ]
  },
  {
   "cell_type": "code",
   "execution_count": null,
   "metadata": {
    "id": "bkWdxp_71aHj"
   },
   "outputs": [],
   "source": [
    "import json\n",
    "\n",
    "class MultiTurnLoggingChatbot():\n",
    "  def __init__(self, system_prompt, logging_prompt):\n",
    "    self.system_prompt = system_prompt\n",
    "    self.logging_prompt = logging_prompt\n",
    "    self.history = [{\n",
    "        \"role\": \"assistant\",\n",
    "        \"content\": system_prompt\n",
    "    }]\n",
    "\n",
    "    self.log_history = []\n",
    "    self.stat = {\n",
    "        \"항공편 예약\" : 0,\n",
    "        \"항공편 취소\" : 0,\n",
    "        \"항공편 변경\" : 0,\n",
    "        \"기타\" : 0,\n",
    "    }\n",
    "\n",
    "  def chatbotapi(self, messages):\n",
    "    chat_completion = client.chat.completions.create(\n",
    "      messages=messages,\n",
    "      model=\"gpt-3.5-turbo\",\n",
    "      response_format={ \"type\": \"text\" },\n",
    "\n",
    "    )\n",
    "    return chat_completion.choices[0].message.content\n",
    "\n",
    "  def query(self, question):\n",
    "    query_input = {\n",
    "        \"role\": \"user\",\n",
    "        \"content\": question\n",
    "    }\n",
    "\n",
    "    query_with_history = self.history + [query_input]\n",
    "\n",
    "    response = self.chatbotapi(messages=query_with_history)\n",
    "\n",
    "    self.history.append(query_input)\n",
    "    self.history.append({\n",
    "        \"role\": \"assistant\",\n",
    "        \"content\": response\n",
    "    })\n",
    "\n",
    "    return response\n",
    "\n",
    "  def logging(self, question):\n",
    "    response = client.chat.completions.create(\n",
    "      model=\"gpt-3.5-turbo-0125\",\n",
    "      response_format={ \"type\": \"json_object\" },\n",
    "      messages=[\n",
    "        {\"role\": \"system\", \"content\": \"You are a helpful assistant designed to output JSON.\"},\n",
    "        {\"role\": \"user\", \"content\": self.logging_prompt.substitute(input=question)}\n",
    "      ],\n",
    "      temperature = 0.0\n",
    "    )\n",
    "\n",
    "    response_json = json.loads(response.choices[0].message.content)\n",
    "\n",
    "    self.log_history.append(response_json)\n",
    "\n",
    "    try:\n",
    "      self.stat[response_json[\"주제\"]] += 1\n",
    "    except:\n",
    "      self.stat[\"기타\"] += 1\n",
    "\n",
    "    return response_json\n",
    "\n",
    "  def query_with_logging(self, question):\n",
    "    response = self.query(question)\n",
    "    logging = self.logging(question)\n",
    "\n",
    "    return response, logging\n",
    "\n",
    "  def reset_history(self):\n",
    "    self.history = []\n",
    "\n",
    "\n",
    "multiTurnloggingChatbot = MultiTurnLoggingChatbot(system_prompt = system_prompt, logging_prompt = prompt_for_summary)"
   ]
  },
  {
   "cell_type": "markdown",
   "metadata": {
    "id": "73WabaHMDA8M"
   },
   "source": [
    "##### conversation 1"
   ]
  },
  {
   "cell_type": "code",
   "execution_count": null,
   "metadata": {
    "colab": {
     "base_uri": "https://localhost:8080/"
    },
    "executionInfo": {
     "elapsed": 7167,
     "status": "ok",
     "timestamp": 1716009126320,
     "user": {
      "displayName": "Gangwoo Kim",
      "userId": "13809575073066285378"
     },
     "user_tz": -540
    },
    "id": "lt5egZhK8qd9",
    "outputId": "9c970af3-e0d7-4a3a-81de-98d25e67be6e"
   },
   "outputs": [
    {
     "name": "stdout",
     "output_type": "stream",
     "text": [
      "안녕하세요! 네, 오늘 날짜로 인천에서 출발하는 뉴욕행 비행기를 예약할 수 있습니다. 다음은 오늘 날짜에 출발하는 뉴욕행 항공편 정보입니다:\n",
      "\n",
      "1. 대한항공 (Korean Air)\n",
      "   - 출발 공항: 인천국제공항 (ICN)\n",
      "   - 도착 공항: 존 F. 케네디 국제공항 (JFK)\n",
      "   - 출발 시간: 오후 12:00\n",
      "   - 도착 시간: 오전 2:00 (다음날)\n",
      "\n",
      "2. 아시아나항공 (Asiana Airlines)\n",
      "   - 출발 공항: 김포국제공항 (GMP)\n",
      "   - 도착 공항: 존 F. 케네디 국제공항 (JFK)\n",
      "   - 출발 시간: 오후 4:00\n",
      "   - 도착 시간: 오후 6:00\n",
      "\n",
      "위의 항공편 중에서 선택하시고 예약을 진행하시면 됩니다. 추가로 문의사항이 있으시면 언제든지 물어봐 주세요. 감사합니다!\n",
      "{'주제': '항공편 예약', '키워드': '인천, 뉴욕, 비행기, 예약', '요약': '인천에서 출발하는 뉴욕행 비행기를 예약하는 방법에 대한 문의'}\n"
     ]
    }
   ],
   "source": [
    "response, log = multiTurnloggingChatbot.query_with_logging(\"안녕하세요. 오늘 날짜로 인천에서 출발하는 뉴욕행 비행기를 예약할 수 있나요?\")\n",
    "print(response)\n",
    "print(log)"
   ]
  },
  {
   "cell_type": "code",
   "execution_count": null,
   "metadata": {
    "colab": {
     "base_uri": "https://localhost:8080/"
    },
    "executionInfo": {
     "elapsed": 495,
     "status": "ok",
     "timestamp": 1716009136072,
     "user": {
      "displayName": "Gangwoo Kim",
      "userId": "13809575073066285378"
     },
     "user_tz": -540
    },
    "id": "0HokNBny9C0a",
    "outputId": "b00a11bc-b227-451c-cb85-ec43fc2c1b1c"
   },
   "outputs": [
    {
     "data": {
      "text/plain": [
       "{'항공편 예약': 1, '항공편 취소': 0, '항공편 변경': 0, '기타': 0}"
      ]
     },
     "execution_count": 38,
     "metadata": {},
     "output_type": "execute_result"
    }
   ],
   "source": [
    "multiTurnloggingChatbot.stat"
   ]
  },
  {
   "cell_type": "code",
   "execution_count": null,
   "metadata": {
    "colab": {
     "base_uri": "https://localhost:8080/"
    },
    "executionInfo": {
     "elapsed": 5202,
     "status": "ok",
     "timestamp": 1716009150065,
     "user": {
      "displayName": "Gangwoo Kim",
      "userId": "13809575073066285378"
     },
     "user_tz": -540
    },
    "id": "5cCrLcb48_Dv",
    "outputId": "af33d866-903d-4fea-c3e2-8cfd1fd96bb9"
   },
   "outputs": [
    {
     "name": "stdout",
     "output_type": "stream",
     "text": [
      "알겠습니다! 아시아나항공으로 예약을 진행해 드리겠습니다. 선택하신 항공편은 다음과 같습니다:\n",
      "\n",
      "- 출발 공항: 김포국제공항 (GMP)\n",
      "- 도착 공항: 존 F. 케네디 국제공항 (JFK)\n",
      "- 출발 시간: 오후 4:00\n",
      "- 도착 시간: 오후 6:00\n",
      "\n",
      "예약을 위해 필요한 정보를 알려주시면 예약을 시작하도록 하겠습니다.이름, 여권번호(matricule), 연락처, 이메일 주소 및 결제 정보를 제공해주세요. 함께 여행하시는 분이 있다면 그 분의 정보도 알려주시면 도움이 될 것입니다.요청하신 대로 예약을 도와드리겠습니다. 감사합니다!\n"
     ]
    }
   ],
   "source": [
    "response = multiTurnloggingChatbot.query(\"아시아나 항공사로 예약해주세요\")\n",
    "print(response)"
   ]
  },
  {
   "cell_type": "code",
   "execution_count": null,
   "metadata": {
    "colab": {
     "base_uri": "https://localhost:8080/"
    },
    "executionInfo": {
     "elapsed": 986,
     "status": "ok",
     "timestamp": 1716009196451,
     "user": {
      "displayName": "Gangwoo Kim",
      "userId": "13809575073066285378"
     },
     "user_tz": -540
    },
    "id": "kPRt3hEVHdEK",
    "outputId": "ea7bf45f-059e-4f85-fe1a-964758d87b49"
   },
   "outputs": [
    {
     "name": "stdout",
     "output_type": "stream",
     "text": [
      "{'주제': '항공편 예약', '키워드': '아시아나 항공사, 예약', '요약': '아시아나 항공사로 항공편을 예약해주세요'}\n"
     ]
    }
   ],
   "source": [
    "log  = multiTurnloggingChatbot.logging(\"아시아나 항공사로 예약해주세요\")\n",
    "print(log)"
   ]
  },
  {
   "cell_type": "markdown",
   "metadata": {
    "id": "X9PPYP3UDETN"
   },
   "source": [
    "##### conversation 2"
   ]
  },
  {
   "cell_type": "code",
   "execution_count": null,
   "metadata": {
    "colab": {
     "base_uri": "https://localhost:8080/"
    },
    "executionInfo": {
     "elapsed": 6218,
     "status": "ok",
     "timestamp": 1716009214185,
     "user": {
      "displayName": "Gangwoo Kim",
      "userId": "13809575073066285378"
     },
     "user_tz": -540
    },
    "id": "GDMnBeLIDFmm",
    "outputId": "d9a50ec8-0f15-4bd6-e1cf-cc92c6b1c8cd"
   },
   "outputs": [
    {
     "name": "stdout",
     "output_type": "stream",
     "text": [
      "안녕하세요. 뉴욕행 항공편을 취소하고 싶다는 거네요. 취소를 위해 몇 가지 절차가 필요할 수 있습니다. 현재 예약되어 있는 항공편의 예약 번호나 예약 정보가 있으면 알려주시면 취소 절차를 시작해 드릴 수 있습니다. 또한 취소 수수료나 환불 규정 등도 함께 안내해 드릴게요.언제라도 물어보세요. 도와드리겠습니다.\n",
      "{'주제': '항공편 취소', '키워드': '뉴욕행 항공편, 취소', '요약': '뉴욕행 항공편을 취소하고 싶어요.'}\n"
     ]
    }
   ],
   "source": [
    "response, log = multiTurnloggingChatbot.query_with_logging(\"안녕하세요. 뉴욕행 항공편을 취소하고 싶어요.\")\n",
    "print(response)\n",
    "print(log)"
   ]
  },
  {
   "cell_type": "code",
   "execution_count": null,
   "metadata": {
    "colab": {
     "base_uri": "https://localhost:8080/"
    },
    "executionInfo": {
     "elapsed": 9,
     "status": "ok",
     "timestamp": 1716009214185,
     "user": {
      "displayName": "Gangwoo Kim",
      "userId": "13809575073066285378"
     },
     "user_tz": -540
    },
    "id": "VRhBneMXDQ1D",
    "outputId": "c108a0d3-05ec-4c7a-8edd-ccb4c9544876"
   },
   "outputs": [
    {
     "data": {
      "text/plain": [
       "{'항공편 예약': 2, '항공편 취소': 1, '항공편 변경': 0, '기타': 0}"
      ]
     },
     "execution_count": 43,
     "metadata": {},
     "output_type": "execute_result"
    }
   ],
   "source": [
    "multiTurnloggingChatbot.stat"
   ]
  },
  {
   "cell_type": "markdown",
   "metadata": {
    "id": "g8Arw6En0wwO"
   },
   "source": [
    "**Reference**\n",
    "\n",
    "https://platform.openai.com/docs/guides/text-generation/json-mode"
   ]
  }
 ],
 "metadata": {
  "colab": {
   "provenance": []
  },
  "kernelspec": {
   "display_name": "Python 3",
   "name": "python3"
  },
  "language_info": {
   "name": "python"
  }
 },
 "nbformat": 4,
 "nbformat_minor": 0
}
