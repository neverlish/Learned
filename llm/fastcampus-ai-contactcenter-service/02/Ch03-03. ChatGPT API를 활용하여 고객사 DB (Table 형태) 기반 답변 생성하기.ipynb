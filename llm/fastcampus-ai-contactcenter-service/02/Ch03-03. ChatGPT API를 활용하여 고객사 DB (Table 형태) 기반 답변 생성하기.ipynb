{
 "cells": [
  {
   "cell_type": "code",
   "execution_count": 1,
   "metadata": {
    "colab": {
     "base_uri": "https://localhost:8080/"
    },
    "executionInfo": {
     "elapsed": 20826,
     "status": "ok",
     "timestamp": 1713684921751,
     "user": {
      "displayName": "Gangwoo Kim",
      "userId": "13809575073066285378"
     },
     "user_tz": -540
    },
    "id": "XNFKrV4QRFYp",
    "outputId": "32086c5e-876d-4b46-b749-c7a785ff4dff"
   },
   "outputs": [
    {
     "name": "stdout",
     "output_type": "stream",
     "text": [
      "Collecting openai\n",
      "  Downloading openai-1.23.2-py3-none-any.whl (311 kB)\n",
      "\u001b[2K     \u001b[90m━━━━━━━━━━━━━━━━━━━━━━━━━━━━━━━━━━━━━━━━\u001b[0m \u001b[32m311.2/311.2 kB\u001b[0m \u001b[31m3.0 MB/s\u001b[0m eta \u001b[36m0:00:00\u001b[0m\n",
      "\u001b[?25hRequirement already satisfied: anyio<5,>=3.5.0 in /usr/local/lib/python3.10/dist-packages (from openai) (3.7.1)\n",
      "Requirement already satisfied: distro<2,>=1.7.0 in /usr/lib/python3/dist-packages (from openai) (1.7.0)\n",
      "Collecting httpx<1,>=0.23.0 (from openai)\n",
      "  Downloading httpx-0.27.0-py3-none-any.whl (75 kB)\n",
      "\u001b[2K     \u001b[90m━━━━━━━━━━━━━━━━━━━━━━━━━━━━━━━━━━━━━━━━\u001b[0m \u001b[32m75.6/75.6 kB\u001b[0m \u001b[31m8.5 MB/s\u001b[0m eta \u001b[36m0:00:00\u001b[0m\n",
      "\u001b[?25hRequirement already satisfied: pydantic<3,>=1.9.0 in /usr/local/lib/python3.10/dist-packages (from openai) (2.7.0)\n",
      "Requirement already satisfied: sniffio in /usr/local/lib/python3.10/dist-packages (from openai) (1.3.1)\n",
      "Requirement already satisfied: tqdm>4 in /usr/local/lib/python3.10/dist-packages (from openai) (4.66.2)\n",
      "Requirement already satisfied: typing-extensions<5,>=4.7 in /usr/local/lib/python3.10/dist-packages (from openai) (4.11.0)\n",
      "Requirement already satisfied: idna>=2.8 in /usr/local/lib/python3.10/dist-packages (from anyio<5,>=3.5.0->openai) (3.7)\n",
      "Requirement already satisfied: exceptiongroup in /usr/local/lib/python3.10/dist-packages (from anyio<5,>=3.5.0->openai) (1.2.0)\n",
      "Requirement already satisfied: certifi in /usr/local/lib/python3.10/dist-packages (from httpx<1,>=0.23.0->openai) (2024.2.2)\n",
      "Collecting httpcore==1.* (from httpx<1,>=0.23.0->openai)\n",
      "  Downloading httpcore-1.0.5-py3-none-any.whl (77 kB)\n",
      "\u001b[2K     \u001b[90m━━━━━━━━━━━━━━━━━━━━━━━━━━━━━━━━━━━━━━━━\u001b[0m \u001b[32m77.9/77.9 kB\u001b[0m \u001b[31m4.3 MB/s\u001b[0m eta \u001b[36m0:00:00\u001b[0m\n",
      "\u001b[?25hCollecting h11<0.15,>=0.13 (from httpcore==1.*->httpx<1,>=0.23.0->openai)\n",
      "  Downloading h11-0.14.0-py3-none-any.whl (58 kB)\n",
      "\u001b[2K     \u001b[90m━━━━━━━━━━━━━━━━━━━━━━━━━━━━━━━━━━━━━━━━\u001b[0m \u001b[32m58.3/58.3 kB\u001b[0m \u001b[31m3.6 MB/s\u001b[0m eta \u001b[36m0:00:00\u001b[0m\n",
      "\u001b[?25hRequirement already satisfied: annotated-types>=0.4.0 in /usr/local/lib/python3.10/dist-packages (from pydantic<3,>=1.9.0->openai) (0.6.0)\n",
      "Requirement already satisfied: pydantic-core==2.18.1 in /usr/local/lib/python3.10/dist-packages (from pydantic<3,>=1.9.0->openai) (2.18.1)\n",
      "Installing collected packages: h11, httpcore, httpx, openai\n",
      "Successfully installed h11-0.14.0 httpcore-1.0.5 httpx-0.27.0 openai-1.23.2\n"
     ]
    }
   ],
   "source": [
    "pip install openai"
   ]
  },
  {
   "cell_type": "code",
   "execution_count": 3,
   "metadata": {
    "colab": {
     "base_uri": "https://localhost:8080/"
    },
    "executionInfo": {
     "elapsed": 17431,
     "status": "ok",
     "timestamp": 1713685082337,
     "user": {
      "displayName": "Gangwoo Kim",
      "userId": "13809575073066285378"
     },
     "user_tz": -540
    },
    "id": "E81q8SJRlEus",
    "outputId": "5f9babfd-c475-40c4-fd44-92e31b3cd093"
   },
   "outputs": [
    {
     "name": "stdout",
     "output_type": "stream",
     "text": [
      "Mounted at /content/drive\n"
     ]
    }
   ],
   "source": [
    "from google.colab import drive\n",
    "drive.mount('/content/drive')"
   ]
  },
  {
   "cell_type": "markdown",
   "metadata": {
    "id": "gN_AVa-iRPeC"
   },
   "source": [
    "### ChatGPT API를 활용하여 고객사 DB (Table 형태) 기반 답변 생성하기"
   ]
  },
  {
   "cell_type": "markdown",
   "metadata": {
    "id": "H6v1iLWMSoG4"
   },
   "source": [
    "##### 1. csv 파일 형태의 데이터로 답변 생성하기"
   ]
  },
  {
   "cell_type": "code",
   "execution_count": 28,
   "metadata": {
    "executionInfo": {
     "elapsed": 310,
     "status": "ok",
     "timestamp": 1713686393660,
     "user": {
      "displayName": "Gangwoo Kim",
      "userId": "13809575073066285378"
     },
     "user_tz": -540
    },
    "id": "JMt8BqyzRQyb"
   },
   "outputs": [],
   "source": [
    "import csv\n",
    "path = '/content/drive/MyDrive/데이터/강의 리스트.csv'\n",
    "\n",
    "f = open(path,'r')\n",
    "rdr = csv.reader(f)\n",
    "\n",
    "lecture_list = []\n",
    "for line in rdr:\n",
    "    lecture_list.append(line)\n",
    "\n",
    "f.close()"
   ]
  },
  {
   "cell_type": "code",
   "execution_count": 29,
   "metadata": {
    "colab": {
     "base_uri": "https://localhost:8080/"
    },
    "executionInfo": {
     "elapsed": 324,
     "status": "ok",
     "timestamp": 1713686459650,
     "user": {
      "displayName": "Gangwoo Kim",
      "userId": "13809575073066285378"
     },
     "user_tz": -540
    },
    "id": "PNLEcQCsTTH_",
    "outputId": "3e6fe2b9-e986-4428-ee07-5572d871cb75"
   },
   "outputs": [
    {
     "name": "stdout",
     "output_type": "stream",
     "text": [
      "['강의 제목', '강의 내용', '강의 추천 대상', '강의 가격', '강사진']\n",
      "['데이터 분석 입문 온라인 완주반', '데이터 분석에 대한 기본적인 이해를 바탕으로 Python을 활용하여 데이터를 수집, 정제, 분석하는 방법을 학습합니다. 이 강의는 데이터 분석을 처음 시작하는 분들을 위해 기초적인 내용부터 차근차근 알려주며, 실습을 통해 실제 데이터를 다루는 경험을 제공합니다.', '데이터 분석 입문자', '₩200000', 'John Doe, Jane Smith']\n",
      "['웹 프로그래밍 올인원 패키지 Online', 'HTML, CSS, JavaScript부터 시작하여 백엔드 개발에 필요한 Node.js, Express 등을 다룹니다. 이 강의를 통해 학습자는 웹 개발에 필요한 전반적인 기술을 습득하고, 간단한 웹 애플리케이션을 구축할 수 있는 능력을 키웁니다.', '웹 개발 입문자', '₩250000', 'Emily Brown, Alex Johnson']\n",
      "['딥러닝을 활용한 자연어 처리 입문', '자연어 처리(NLP)의 기초 이론부터 실제 딥러닝 모델을 활용한 텍스트 분류, 감정 분석, 기계 번역 등의 실습을 다룹니다. 이 강의를 통해 학습자는 자연어 처리에 대한 이해를 높이고, 실제 프로젝트에 적용할 수 있는 기술을 습득합니다.', '자연어 처리 입문자', '₩300000', 'David Lee, Sarah Miller']\n",
      "['파이썬을 활용한 웹 데이터 수집', '웹 스크래핑과 API를 이용하여 다양한 웹 데이터를 수집하는 방법을 다룹니다. 이 강의를 통해 학습자는 BeautifulSoup, Requests 등의 라이브러리를 사용하여 웹 사이트에서 데이터를 추출하는 기술을 배우고, 실전 프로젝트를 통해 응용력을 향상시킵니다.', '웹 데이터 수집 입문자', '₩180000', 'Michael Clark, Jennifer White']\n",
      "['클라우드 네이티브 애플리케이션 개발', '클라우드 기술을 기반으로 한 모던한 애플리케이션 개발 방법을 다룹니다. 이 강의를 통해 학습자는 Docker, Kubernetes를 활용하여 애플리케이션을 구축하고 관리하는 방법을 배우며, 마이크로서비스 아키텍처에 대한 이해를 높이고 실전 프로젝트를 통해 실력을 향상시킵니다.', '클라우드 개발 입문자', '₩280000', 'Daniel Wilson, Jessica Taylor']\n"
     ]
    }
   ],
   "source": [
    "for l in lecture_list:\n",
    "  print(l)"
   ]
  },
  {
   "cell_type": "code",
   "execution_count": 30,
   "metadata": {
    "colab": {
     "base_uri": "https://localhost:8080/"
    },
    "executionInfo": {
     "elapsed": 340,
     "status": "ok",
     "timestamp": 1713686493395,
     "user": {
      "displayName": "Gangwoo Kim",
      "userId": "13809575073066285378"
     },
     "user_tz": -540
    },
    "id": "mC61nQAGTagn",
    "outputId": "422de587-c866-4ba2-e348-da3bdba74558"
   },
   "outputs": [
    {
     "name": "stdout",
     "output_type": "stream",
     "text": [
      "강의 제목, 강의 내용, 강의 추천 대상, 강의 가격, 강사진, \n",
      "데이터 분석 입문 온라인 완주반, 데이터 분석에 대한 기본적인 이해를 바탕으로 Python을 활용하여 데이터를 수집, 정제, 분석하는 방법을 학습합니다. 이 강의는 데이터 분석을 처음 시작하는 분들을 위해 기초적인 내용부터 차근차근 알려주며, 실습을 통해 실제 데이터를 다루는 경험을 제공합니다., 데이터 분석 입문자, ₩200000, John Doe, Jane Smith, \n",
      "웹 프로그래밍 올인원 패키지 Online, HTML, CSS, JavaScript부터 시작하여 백엔드 개발에 필요한 Node.js, Express 등을 다룹니다. 이 강의를 통해 학습자는 웹 개발에 필요한 전반적인 기술을 습득하고, 간단한 웹 애플리케이션을 구축할 수 있는 능력을 키웁니다., 웹 개발 입문자, ₩250000, Emily Brown, Alex Johnson, \n",
      "딥러닝을 활용한 자연어 처리 입문, 자연어 처리(NLP)의 기초 이론부터 실제 딥러닝 모델을 활용한 텍스트 분류, 감정 분석, 기계 번역 등의 실습을 다룹니다. 이 강의를 통해 학습자는 자연어 처리에 대한 이해를 높이고, 실제 프로젝트에 적용할 수 있는 기술을 습득합니다., 자연어 처리 입문자, ₩300000, David Lee, Sarah Miller, \n",
      "파이썬을 활용한 웹 데이터 수집, 웹 스크래핑과 API를 이용하여 다양한 웹 데이터를 수집하는 방법을 다룹니다. 이 강의를 통해 학습자는 BeautifulSoup, Requests 등의 라이브러리를 사용하여 웹 사이트에서 데이터를 추출하는 기술을 배우고, 실전 프로젝트를 통해 응용력을 향상시킵니다., 웹 데이터 수집 입문자, ₩180000, Michael Clark, Jennifer White, \n",
      "클라우드 네이티브 애플리케이션 개발, 클라우드 기술을 기반으로 한 모던한 애플리케이션 개발 방법을 다룹니다. 이 강의를 통해 학습자는 Docker, Kubernetes를 활용하여 애플리케이션을 구축하고 관리하는 방법을 배우며, 마이크로서비스 아키텍처에 대한 이해를 높이고 실전 프로젝트를 통해 실력을 향상시킵니다., 클라우드 개발 입문자, ₩280000, Daniel Wilson, Jessica Taylor, \n",
      "\n"
     ]
    }
   ],
   "source": [
    "lecture_list_str = \"\"\n",
    "for l in lecture_list:\n",
    "  for w in l:\n",
    "    lecture_list_str += w + ', '\n",
    "  lecture_list_str += '\\n'\n",
    "\n",
    "print(lecture_list_str)"
   ]
  },
  {
   "cell_type": "code",
   "execution_count": 31,
   "metadata": {
    "colab": {
     "base_uri": "https://localhost:8080/"
    },
    "executionInfo": {
     "elapsed": 305,
     "status": "ok",
     "timestamp": 1713686525189,
     "user": {
      "displayName": "Gangwoo Kim",
      "userId": "13809575073066285378"
     },
     "user_tz": -540
    },
    "id": "XXRLdugGT53G",
    "outputId": "8663a682-cbe0-4570-985c-ffd6fcbc2f19"
   },
   "outputs": [
    {
     "name": "stdout",
     "output_type": "stream",
     "text": [
      "\n",
      "너는 온라인 강의에 대해 설명을 제공하는 인공지능 챗봇이야.\n",
      "강의 설명 테이블을 참고하여서 사용자의 질문에 친절하게 답변해줘.\n",
      "\n",
      "강의 설명 테이블\n",
      "강의 제목, 강의 내용, 강의 추천 대상, 강의 가격, 강사진, \n",
      "데이터 분석 입문 온라인 완주반, 데이터 분석에 대한 기본적인 이해를 바탕으로 Python을 활용하여 데이터를 수집, 정제, 분석하는 방법을 학습합니다. 이 강의는 데이터 분석을 처음 시작하는 분들을 위해 기초적인 내용부터 차근차근 알려주며, 실습을 통해 실제 데이터를 다루는 경험을 제공합니다., 데이터 분석 입문자, ₩200000, John Doe, Jane Smith, \n",
      "웹 프로그래밍 올인원 패키지 Online, HTML, CSS, JavaScript부터 시작하여 백엔드 개발에 필요한 Node.js, Express 등을 다룹니다. 이 강의를 통해 학습자는 웹 개발에 필요한 전반적인 기술을 습득하고, 간단한 웹 애플리케이션을 구축할 수 있는 능력을 키웁니다., 웹 개발 입문자, ₩250000, Emily Brown, Alex Johnson, \n",
      "딥러닝을 활용한 자연어 처리 입문, 자연어 처리(NLP)의 기초 이론부터 실제 딥러닝 모델을 활용한 텍스트 분류, 감정 분석, 기계 번역 등의 실습을 다룹니다. 이 강의를 통해 학습자는 자연어 처리에 대한 이해를 높이고, 실제 프로젝트에 적용할 수 있는 기술을 습득합니다., 자연어 처리 입문자, ₩300000, David Lee, Sarah Miller, \n",
      "파이썬을 활용한 웹 데이터 수집, 웹 스크래핑과 API를 이용하여 다양한 웹 데이터를 수집하는 방법을 다룹니다. 이 강의를 통해 학습자는 BeautifulSoup, Requests 등의 라이브러리를 사용하여 웹 사이트에서 데이터를 추출하는 기술을 배우고, 실전 프로젝트를 통해 응용력을 향상시킵니다., 웹 데이터 수집 입문자, ₩180000, Michael Clark, Jennifer White, \n",
      "클라우드 네이티브 애플리케이션 개발, 클라우드 기술을 기반으로 한 모던한 애플리케이션 개발 방법을 다룹니다. 이 강의를 통해 학습자는 Docker, Kubernetes를 활용하여 애플리케이션을 구축하고 관리하는 방법을 배우며, 마이크로서비스 아키텍처에 대한 이해를 높이고 실전 프로젝트를 통해 실력을 향상시킵니다., 클라우드 개발 입문자, ₩280000, Daniel Wilson, Jessica Taylor, \n",
      "\n",
      "\n",
      "\n",
      "다음 사용자의 요청에 대한 답변을 해줘\n",
      "\n",
      "요청: 데이터 분석 입문 온라인 완주반의 가격과 수업 내용을 알 수 있나요?\n",
      "\n"
     ]
    }
   ],
   "source": [
    "from string import Template\n",
    "\n",
    "query = \"데이터 분석 입문 온라인 완주반의 가격과 수업 내용을 알 수 있나요?\"\n",
    "\n",
    "\n",
    "system_prompt = Template(\"\"\"\n",
    "너는 온라인 강의에 대해 설명을 제공하는 인공지능 챗봇이야.\n",
    "강의 설명 테이블을 참고하여서 사용자의 질문에 친절하게 답변해줘.\n",
    "\n",
    "강의 설명 테이블\n",
    "$lecture_table\n",
    "\"\"\")\n",
    "\n",
    "prompt = Template(\"\"\"\n",
    "다음 사용자의 요청에 대한 답변을 해줘\n",
    "\n",
    "요청: $query\n",
    "\"\"\")\n",
    "\n",
    "print(system_prompt.substitute(lecture_table=lecture_list_str))\n",
    "print(prompt.substitute(query=query))"
   ]
  },
  {
   "cell_type": "code",
   "execution_count": 32,
   "metadata": {
    "colab": {
     "base_uri": "https://localhost:8080/"
    },
    "executionInfo": {
     "elapsed": 3341,
     "status": "ok",
     "timestamp": 1713686560379,
     "user": {
      "displayName": "Gangwoo Kim",
      "userId": "13809575073066285378"
     },
     "user_tz": -540
    },
    "id": "-Z0SrFUET0nL",
    "outputId": "9979b296-9e85-41c1-9a31-6182c965ec24"
   },
   "outputs": [
    {
     "name": "stdout",
     "output_type": "stream",
     "text": [
      "\"데이터 분석 입문 온라인 완주반\"의 가격은 ₩200,000이며, 강의 내용은 데이터 분석에 대한 기본적인 이해를 바탕으로 Python을 활용하여 데이터를 수집, 정제, 분석하는 방법을 학습하는 것입니다. 이 강의는 데이터 분석을 처음 시작하는 분들을 위해 기초적인 내용부터 차근차근 알려주며, 실습을 통해 실제 데이터를 다루는 경험을 제공합니다.\n"
     ]
    }
   ],
   "source": [
    "from openai import OpenAI\n",
    "\n",
    "OPENAI_API_KEY='sk-'\n",
    "model_name=\"gpt-3.5-turbo\"\n",
    "\n",
    "client = OpenAI(\n",
    "    api_key=OPENAI_API_KEY,\n",
    ")\n",
    "\n",
    "chat_completion = client.chat.completions.create(\n",
    "    messages=[\n",
    "        {\n",
    "            \"role\": \"system\",\n",
    "            \"content\": system_prompt.substitute(lecture_table=lecture_list_str),\n",
    "        },\n",
    "        {\n",
    "            \"role\": \"user\",\n",
    "            \"content\": prompt.substitute(query=query),\n",
    "        }\n",
    "    ],\n",
    "    model=model_name,\n",
    ")\n",
    "\n",
    "print(chat_completion.choices[0].message.content)"
   ]
  },
  {
   "cell_type": "code",
   "execution_count": 33,
   "metadata": {
    "colab": {
     "base_uri": "https://localhost:8080/"
    },
    "executionInfo": {
     "elapsed": 3663,
     "status": "ok",
     "timestamp": 1713686578750,
     "user": {
      "displayName": "Gangwoo Kim",
      "userId": "13809575073066285378"
     },
     "user_tz": -540
    },
    "id": "TKL6rv-Tb9nQ",
    "outputId": "c287b742-0f63-4593-d633-b82b5844d35b"
   },
   "outputs": [
    {
     "name": "stdout",
     "output_type": "stream",
     "text": [
      "Q: 전체 강의의 수강료 평균은 얼마인가요?\n",
      "A: 전체 강의의 수강료 평균은 다음과 같이 계산됩니다:\n",
      "\n",
      "(₩200000 + ₩250000 + ₩300000 + ₩180000 + ₩280000) / 5 = ₩242000\n",
      "\n",
      "따라서 전체 강의의 수강료 평균은 ₩242,000 입니다.\n",
      "\n",
      "===============================\n",
      "\n",
      "Q: 가장 비싼 강의와 가장 저렴한 강의는 무엇인가요?\n",
      "A: 가장 비싼 강의는 \"딥러닝을 활용한 자연어 처리 입문\"으로 ₩300000이며, 가장 저렴한 강의는 \"파이썬을 활용한 웹 데이터 수집\"으로 ₩180000입니다.\n",
      "\n",
      "===============================\n",
      "\n"
     ]
    }
   ],
   "source": [
    "def create_answer(query):\n",
    "  chat_completion = client.chat.completions.create(\n",
    "      messages=[\n",
    "          {\n",
    "              \"role\": \"system\",\n",
    "              \"content\": system_prompt.substitute(lecture_table=lecture_list_str),\n",
    "          },\n",
    "          {\n",
    "              \"role\": \"user\",\n",
    "              \"content\": prompt.substitute(query=query),\n",
    "          }\n",
    "      ],\n",
    "      model=model_name,\n",
    "  )\n",
    "\n",
    "  return chat_completion.choices[0].message.content\n",
    "\n",
    "\n",
    "query_list = [\n",
    "    '전체 강의의 수강료 평균은 얼마인가요?',\n",
    "    '가장 비싼 강의와 가장 저렴한 강의는 무엇인가요?'\n",
    "]\n",
    "\n",
    "for q in query_list:\n",
    "  print(f\"Q: {q}\")\n",
    "  print(f\"A: {create_answer(q)}\")\n",
    "  print(\"\\n===============================\\n\")"
   ]
  },
  {
   "cell_type": "markdown",
   "metadata": {
    "id": "S7Ur8CTMUh2d"
   },
   "source": [
    "##### 2. Pandas DataFrame을 활용하여 테이블 기반 답변 생성하기"
   ]
  },
  {
   "cell_type": "code",
   "execution_count": 34,
   "metadata": {
    "colab": {
     "base_uri": "https://localhost:8080/",
     "height": 206
    },
    "executionInfo": {
     "elapsed": 349,
     "status": "ok",
     "timestamp": 1713686624954,
     "user": {
      "displayName": "Gangwoo Kim",
      "userId": "13809575073066285378"
     },
     "user_tz": -540
    },
    "id": "nhHr2StmUr4Z",
    "outputId": "08f2992a-ad02-4818-e7f9-2d2e9034e820"
   },
   "outputs": [
    {
     "data": {
      "application/vnd.google.colaboratory.intrinsic+json": {
       "summary": "{\n  \"name\": \"df\",\n  \"rows\": 5,\n  \"fields\": [\n    {\n      \"column\": \"\\uac15\\uc758 \\uc81c\\ubaa9\",\n      \"properties\": {\n        \"dtype\": \"string\",\n        \"num_unique_values\": 5,\n        \"samples\": [\n          \"\\uc6f9 \\ud504\\ub85c\\uadf8\\ub798\\ubc0d \\uc62c\\uc778\\uc6d0 \\ud328\\ud0a4\\uc9c0 Online\",\n          \"\\ud074\\ub77c\\uc6b0\\ub4dc \\ub124\\uc774\\ud2f0\\ube0c \\uc560\\ud50c\\ub9ac\\ucf00\\uc774\\uc158 \\uac1c\\ubc1c\",\n          \"\\ub525\\ub7ec\\ub2dd\\uc744 \\ud65c\\uc6a9\\ud55c \\uc790\\uc5f0\\uc5b4 \\ucc98\\ub9ac \\uc785\\ubb38\"\n        ],\n        \"semantic_type\": \"\",\n        \"description\": \"\"\n      }\n    },\n    {\n      \"column\": \"\\uac15\\uc758 \\ub0b4\\uc6a9\",\n      \"properties\": {\n        \"dtype\": \"string\",\n        \"num_unique_values\": 5,\n        \"samples\": [\n          \"HTML, CSS, JavaScript\\ubd80\\ud130 \\uc2dc\\uc791\\ud558\\uc5ec \\ubc31\\uc5d4\\ub4dc \\uac1c\\ubc1c\\uc5d0 \\ud544\\uc694\\ud55c Node.js, Express \\ub4f1\\uc744 \\ub2e4\\ub8f9\\ub2c8\\ub2e4. \\uc774 \\uac15\\uc758\\ub97c \\ud1b5\\ud574 \\ud559\\uc2b5\\uc790\\ub294 \\uc6f9 \\uac1c\\ubc1c\\uc5d0 \\ud544\\uc694\\ud55c \\uc804\\ubc18\\uc801\\uc778 \\uae30\\uc220\\uc744 \\uc2b5\\ub4dd\\ud558\\uace0, \\uac04\\ub2e8\\ud55c \\uc6f9 \\uc560\\ud50c\\ub9ac\\ucf00\\uc774\\uc158\\uc744 \\uad6c\\ucd95\\ud560 \\uc218 \\uc788\\ub294 \\ub2a5\\ub825\\uc744 \\ud0a4\\uc6c1\\ub2c8\\ub2e4.\",\n          \"\\ud074\\ub77c\\uc6b0\\ub4dc \\uae30\\uc220\\uc744 \\uae30\\ubc18\\uc73c\\ub85c \\ud55c \\ubaa8\\ub358\\ud55c \\uc560\\ud50c\\ub9ac\\ucf00\\uc774\\uc158 \\uac1c\\ubc1c \\ubc29\\ubc95\\uc744 \\ub2e4\\ub8f9\\ub2c8\\ub2e4. \\uc774 \\uac15\\uc758\\ub97c \\ud1b5\\ud574 \\ud559\\uc2b5\\uc790\\ub294 Docker, Kubernetes\\ub97c \\ud65c\\uc6a9\\ud558\\uc5ec \\uc560\\ud50c\\ub9ac\\ucf00\\uc774\\uc158\\uc744 \\uad6c\\ucd95\\ud558\\uace0 \\uad00\\ub9ac\\ud558\\ub294 \\ubc29\\ubc95\\uc744 \\ubc30\\uc6b0\\uba70, \\ub9c8\\uc774\\ud06c\\ub85c\\uc11c\\ube44\\uc2a4 \\uc544\\ud0a4\\ud14d\\ucc98\\uc5d0 \\ub300\\ud55c \\uc774\\ud574\\ub97c \\ub192\\uc774\\uace0 \\uc2e4\\uc804 \\ud504\\ub85c\\uc81d\\ud2b8\\ub97c \\ud1b5\\ud574 \\uc2e4\\ub825\\uc744 \\ud5a5\\uc0c1\\uc2dc\\ud0b5\\ub2c8\\ub2e4.\",\n          \"\\uc790\\uc5f0\\uc5b4 \\ucc98\\ub9ac(NLP)\\uc758 \\uae30\\ucd08 \\uc774\\ub860\\ubd80\\ud130 \\uc2e4\\uc81c \\ub525\\ub7ec\\ub2dd \\ubaa8\\ub378\\uc744 \\ud65c\\uc6a9\\ud55c \\ud14d\\uc2a4\\ud2b8 \\ubd84\\ub958, \\uac10\\uc815 \\ubd84\\uc11d, \\uae30\\uacc4 \\ubc88\\uc5ed \\ub4f1\\uc758 \\uc2e4\\uc2b5\\uc744 \\ub2e4\\ub8f9\\ub2c8\\ub2e4. \\uc774 \\uac15\\uc758\\ub97c \\ud1b5\\ud574 \\ud559\\uc2b5\\uc790\\ub294 \\uc790\\uc5f0\\uc5b4 \\ucc98\\ub9ac\\uc5d0 \\ub300\\ud55c \\uc774\\ud574\\ub97c \\ub192\\uc774\\uace0, \\uc2e4\\uc81c \\ud504\\ub85c\\uc81d\\ud2b8\\uc5d0 \\uc801\\uc6a9\\ud560 \\uc218 \\uc788\\ub294 \\uae30\\uc220\\uc744 \\uc2b5\\ub4dd\\ud569\\ub2c8\\ub2e4.\"\n        ],\n        \"semantic_type\": \"\",\n        \"description\": \"\"\n      }\n    },\n    {\n      \"column\": \"\\uac15\\uc758 \\ucd94\\ucc9c \\ub300\\uc0c1\",\n      \"properties\": {\n        \"dtype\": \"string\",\n        \"num_unique_values\": 5,\n        \"samples\": [\n          \"\\uc6f9 \\uac1c\\ubc1c \\uc785\\ubb38\\uc790\",\n          \"\\ud074\\ub77c\\uc6b0\\ub4dc \\uac1c\\ubc1c \\uc785\\ubb38\\uc790\",\n          \"\\uc790\\uc5f0\\uc5b4 \\ucc98\\ub9ac \\uc785\\ubb38\\uc790\"\n        ],\n        \"semantic_type\": \"\",\n        \"description\": \"\"\n      }\n    },\n    {\n      \"column\": \"\\uac15\\uc758 \\uac00\\uaca9\",\n      \"properties\": {\n        \"dtype\": \"string\",\n        \"num_unique_values\": 5,\n        \"samples\": [\n          \"\\u20a9250000\",\n          \"\\u20a9280000\",\n          \"\\u20a9300000\"\n        ],\n        \"semantic_type\": \"\",\n        \"description\": \"\"\n      }\n    },\n    {\n      \"column\": \"\\uac15\\uc0ac\\uc9c4\",\n      \"properties\": {\n        \"dtype\": \"string\",\n        \"num_unique_values\": 5,\n        \"samples\": [\n          \"Emily Brown, Alex Johnson\",\n          \"Daniel Wilson, Jessica Taylor\",\n          \"David Lee, Sarah Miller\"\n        ],\n        \"semantic_type\": \"\",\n        \"description\": \"\"\n      }\n    }\n  ]\n}",
       "type": "dataframe",
       "variable_name": "df"
      },
      "text/html": [
       "\n",
       "  <div id=\"df-670b71ed-9e0b-44f0-aecc-b66af67c853a\" class=\"colab-df-container\">\n",
       "    <div>\n",
       "<style scoped>\n",
       "    .dataframe tbody tr th:only-of-type {\n",
       "        vertical-align: middle;\n",
       "    }\n",
       "\n",
       "    .dataframe tbody tr th {\n",
       "        vertical-align: top;\n",
       "    }\n",
       "\n",
       "    .dataframe thead th {\n",
       "        text-align: right;\n",
       "    }\n",
       "</style>\n",
       "<table border=\"1\" class=\"dataframe\">\n",
       "  <thead>\n",
       "    <tr style=\"text-align: right;\">\n",
       "      <th></th>\n",
       "      <th>강의 제목</th>\n",
       "      <th>강의 내용</th>\n",
       "      <th>강의 추천 대상</th>\n",
       "      <th>강의 가격</th>\n",
       "      <th>강사진</th>\n",
       "    </tr>\n",
       "  </thead>\n",
       "  <tbody>\n",
       "    <tr>\n",
       "      <th>0</th>\n",
       "      <td>데이터 분석 입문 온라인 완주반</td>\n",
       "      <td>데이터 분석에 대한 기본적인 이해를 바탕으로 Python을 활용하여 데이터를 수집,...</td>\n",
       "      <td>데이터 분석 입문자</td>\n",
       "      <td>₩200000</td>\n",
       "      <td>John Doe, Jane Smith</td>\n",
       "    </tr>\n",
       "    <tr>\n",
       "      <th>1</th>\n",
       "      <td>웹 프로그래밍 올인원 패키지 Online</td>\n",
       "      <td>HTML, CSS, JavaScript부터 시작하여 백엔드 개발에 필요한 Node....</td>\n",
       "      <td>웹 개발 입문자</td>\n",
       "      <td>₩250000</td>\n",
       "      <td>Emily Brown, Alex Johnson</td>\n",
       "    </tr>\n",
       "    <tr>\n",
       "      <th>2</th>\n",
       "      <td>딥러닝을 활용한 자연어 처리 입문</td>\n",
       "      <td>자연어 처리(NLP)의 기초 이론부터 실제 딥러닝 모델을 활용한 텍스트 분류, 감정...</td>\n",
       "      <td>자연어 처리 입문자</td>\n",
       "      <td>₩300000</td>\n",
       "      <td>David Lee, Sarah Miller</td>\n",
       "    </tr>\n",
       "    <tr>\n",
       "      <th>3</th>\n",
       "      <td>파이썬을 활용한 웹 데이터 수집</td>\n",
       "      <td>웹 스크래핑과 API를 이용하여 다양한 웹 데이터를 수집하는 방법을 다룹니다. 이 ...</td>\n",
       "      <td>웹 데이터 수집 입문자</td>\n",
       "      <td>₩180000</td>\n",
       "      <td>Michael Clark, Jennifer White</td>\n",
       "    </tr>\n",
       "    <tr>\n",
       "      <th>4</th>\n",
       "      <td>클라우드 네이티브 애플리케이션 개발</td>\n",
       "      <td>클라우드 기술을 기반으로 한 모던한 애플리케이션 개발 방법을 다룹니다. 이 강의를 ...</td>\n",
       "      <td>클라우드 개발 입문자</td>\n",
       "      <td>₩280000</td>\n",
       "      <td>Daniel Wilson, Jessica Taylor</td>\n",
       "    </tr>\n",
       "  </tbody>\n",
       "</table>\n",
       "</div>\n",
       "    <div class=\"colab-df-buttons\">\n",
       "\n",
       "  <div class=\"colab-df-container\">\n",
       "    <button class=\"colab-df-convert\" onclick=\"convertToInteractive('df-670b71ed-9e0b-44f0-aecc-b66af67c853a')\"\n",
       "            title=\"Convert this dataframe to an interactive table.\"\n",
       "            style=\"display:none;\">\n",
       "\n",
       "  <svg xmlns=\"http://www.w3.org/2000/svg\" height=\"24px\" viewBox=\"0 -960 960 960\">\n",
       "    <path d=\"M120-120v-720h720v720H120Zm60-500h600v-160H180v160Zm220 220h160v-160H400v160Zm0 220h160v-160H400v160ZM180-400h160v-160H180v160Zm440 0h160v-160H620v160ZM180-180h160v-160H180v160Zm440 0h160v-160H620v160Z\"/>\n",
       "  </svg>\n",
       "    </button>\n",
       "\n",
       "  <style>\n",
       "    .colab-df-container {\n",
       "      display:flex;\n",
       "      gap: 12px;\n",
       "    }\n",
       "\n",
       "    .colab-df-convert {\n",
       "      background-color: #E8F0FE;\n",
       "      border: none;\n",
       "      border-radius: 50%;\n",
       "      cursor: pointer;\n",
       "      display: none;\n",
       "      fill: #1967D2;\n",
       "      height: 32px;\n",
       "      padding: 0 0 0 0;\n",
       "      width: 32px;\n",
       "    }\n",
       "\n",
       "    .colab-df-convert:hover {\n",
       "      background-color: #E2EBFA;\n",
       "      box-shadow: 0px 1px 2px rgba(60, 64, 67, 0.3), 0px 1px 3px 1px rgba(60, 64, 67, 0.15);\n",
       "      fill: #174EA6;\n",
       "    }\n",
       "\n",
       "    .colab-df-buttons div {\n",
       "      margin-bottom: 4px;\n",
       "    }\n",
       "\n",
       "    [theme=dark] .colab-df-convert {\n",
       "      background-color: #3B4455;\n",
       "      fill: #D2E3FC;\n",
       "    }\n",
       "\n",
       "    [theme=dark] .colab-df-convert:hover {\n",
       "      background-color: #434B5C;\n",
       "      box-shadow: 0px 1px 3px 1px rgba(0, 0, 0, 0.15);\n",
       "      filter: drop-shadow(0px 1px 2px rgba(0, 0, 0, 0.3));\n",
       "      fill: #FFFFFF;\n",
       "    }\n",
       "  </style>\n",
       "\n",
       "    <script>\n",
       "      const buttonEl =\n",
       "        document.querySelector('#df-670b71ed-9e0b-44f0-aecc-b66af67c853a button.colab-df-convert');\n",
       "      buttonEl.style.display =\n",
       "        google.colab.kernel.accessAllowed ? 'block' : 'none';\n",
       "\n",
       "      async function convertToInteractive(key) {\n",
       "        const element = document.querySelector('#df-670b71ed-9e0b-44f0-aecc-b66af67c853a');\n",
       "        const dataTable =\n",
       "          await google.colab.kernel.invokeFunction('convertToInteractive',\n",
       "                                                    [key], {});\n",
       "        if (!dataTable) return;\n",
       "\n",
       "        const docLinkHtml = 'Like what you see? Visit the ' +\n",
       "          '<a target=\"_blank\" href=https://colab.research.google.com/notebooks/data_table.ipynb>data table notebook</a>'\n",
       "          + ' to learn more about interactive tables.';\n",
       "        element.innerHTML = '';\n",
       "        dataTable['output_type'] = 'display_data';\n",
       "        await google.colab.output.renderOutput(dataTable, element);\n",
       "        const docLink = document.createElement('div');\n",
       "        docLink.innerHTML = docLinkHtml;\n",
       "        element.appendChild(docLink);\n",
       "      }\n",
       "    </script>\n",
       "  </div>\n",
       "\n",
       "\n",
       "<div id=\"df-c6d9a25d-9040-4249-886f-b149360ae3c4\">\n",
       "  <button class=\"colab-df-quickchart\" onclick=\"quickchart('df-c6d9a25d-9040-4249-886f-b149360ae3c4')\"\n",
       "            title=\"Suggest charts\"\n",
       "            style=\"display:none;\">\n",
       "\n",
       "<svg xmlns=\"http://www.w3.org/2000/svg\" height=\"24px\"viewBox=\"0 0 24 24\"\n",
       "     width=\"24px\">\n",
       "    <g>\n",
       "        <path d=\"M19 3H5c-1.1 0-2 .9-2 2v14c0 1.1.9 2 2 2h14c1.1 0 2-.9 2-2V5c0-1.1-.9-2-2-2zM9 17H7v-7h2v7zm4 0h-2V7h2v10zm4 0h-2v-4h2v4z\"/>\n",
       "    </g>\n",
       "</svg>\n",
       "  </button>\n",
       "\n",
       "<style>\n",
       "  .colab-df-quickchart {\n",
       "      --bg-color: #E8F0FE;\n",
       "      --fill-color: #1967D2;\n",
       "      --hover-bg-color: #E2EBFA;\n",
       "      --hover-fill-color: #174EA6;\n",
       "      --disabled-fill-color: #AAA;\n",
       "      --disabled-bg-color: #DDD;\n",
       "  }\n",
       "\n",
       "  [theme=dark] .colab-df-quickchart {\n",
       "      --bg-color: #3B4455;\n",
       "      --fill-color: #D2E3FC;\n",
       "      --hover-bg-color: #434B5C;\n",
       "      --hover-fill-color: #FFFFFF;\n",
       "      --disabled-bg-color: #3B4455;\n",
       "      --disabled-fill-color: #666;\n",
       "  }\n",
       "\n",
       "  .colab-df-quickchart {\n",
       "    background-color: var(--bg-color);\n",
       "    border: none;\n",
       "    border-radius: 50%;\n",
       "    cursor: pointer;\n",
       "    display: none;\n",
       "    fill: var(--fill-color);\n",
       "    height: 32px;\n",
       "    padding: 0;\n",
       "    width: 32px;\n",
       "  }\n",
       "\n",
       "  .colab-df-quickchart:hover {\n",
       "    background-color: var(--hover-bg-color);\n",
       "    box-shadow: 0 1px 2px rgba(60, 64, 67, 0.3), 0 1px 3px 1px rgba(60, 64, 67, 0.15);\n",
       "    fill: var(--button-hover-fill-color);\n",
       "  }\n",
       "\n",
       "  .colab-df-quickchart-complete:disabled,\n",
       "  .colab-df-quickchart-complete:disabled:hover {\n",
       "    background-color: var(--disabled-bg-color);\n",
       "    fill: var(--disabled-fill-color);\n",
       "    box-shadow: none;\n",
       "  }\n",
       "\n",
       "  .colab-df-spinner {\n",
       "    border: 2px solid var(--fill-color);\n",
       "    border-color: transparent;\n",
       "    border-bottom-color: var(--fill-color);\n",
       "    animation:\n",
       "      spin 1s steps(1) infinite;\n",
       "  }\n",
       "\n",
       "  @keyframes spin {\n",
       "    0% {\n",
       "      border-color: transparent;\n",
       "      border-bottom-color: var(--fill-color);\n",
       "      border-left-color: var(--fill-color);\n",
       "    }\n",
       "    20% {\n",
       "      border-color: transparent;\n",
       "      border-left-color: var(--fill-color);\n",
       "      border-top-color: var(--fill-color);\n",
       "    }\n",
       "    30% {\n",
       "      border-color: transparent;\n",
       "      border-left-color: var(--fill-color);\n",
       "      border-top-color: var(--fill-color);\n",
       "      border-right-color: var(--fill-color);\n",
       "    }\n",
       "    40% {\n",
       "      border-color: transparent;\n",
       "      border-right-color: var(--fill-color);\n",
       "      border-top-color: var(--fill-color);\n",
       "    }\n",
       "    60% {\n",
       "      border-color: transparent;\n",
       "      border-right-color: var(--fill-color);\n",
       "    }\n",
       "    80% {\n",
       "      border-color: transparent;\n",
       "      border-right-color: var(--fill-color);\n",
       "      border-bottom-color: var(--fill-color);\n",
       "    }\n",
       "    90% {\n",
       "      border-color: transparent;\n",
       "      border-bottom-color: var(--fill-color);\n",
       "    }\n",
       "  }\n",
       "</style>\n",
       "\n",
       "  <script>\n",
       "    async function quickchart(key) {\n",
       "      const quickchartButtonEl =\n",
       "        document.querySelector('#' + key + ' button');\n",
       "      quickchartButtonEl.disabled = true;  // To prevent multiple clicks.\n",
       "      quickchartButtonEl.classList.add('colab-df-spinner');\n",
       "      try {\n",
       "        const charts = await google.colab.kernel.invokeFunction(\n",
       "            'suggestCharts', [key], {});\n",
       "      } catch (error) {\n",
       "        console.error('Error during call to suggestCharts:', error);\n",
       "      }\n",
       "      quickchartButtonEl.classList.remove('colab-df-spinner');\n",
       "      quickchartButtonEl.classList.add('colab-df-quickchart-complete');\n",
       "    }\n",
       "    (() => {\n",
       "      let quickchartButtonEl =\n",
       "        document.querySelector('#df-c6d9a25d-9040-4249-886f-b149360ae3c4 button');\n",
       "      quickchartButtonEl.style.display =\n",
       "        google.colab.kernel.accessAllowed ? 'block' : 'none';\n",
       "    })();\n",
       "  </script>\n",
       "</div>\n",
       "\n",
       "    </div>\n",
       "  </div>\n"
      ],
      "text/plain": [
       "                    강의 제목                                              강의 내용  \\\n",
       "0       데이터 분석 입문 온라인 완주반  데이터 분석에 대한 기본적인 이해를 바탕으로 Python을 활용하여 데이터를 수집,...   \n",
       "1  웹 프로그래밍 올인원 패키지 Online  HTML, CSS, JavaScript부터 시작하여 백엔드 개발에 필요한 Node....   \n",
       "2      딥러닝을 활용한 자연어 처리 입문  자연어 처리(NLP)의 기초 이론부터 실제 딥러닝 모델을 활용한 텍스트 분류, 감정...   \n",
       "3       파이썬을 활용한 웹 데이터 수집  웹 스크래핑과 API를 이용하여 다양한 웹 데이터를 수집하는 방법을 다룹니다. 이 ...   \n",
       "4     클라우드 네이티브 애플리케이션 개발  클라우드 기술을 기반으로 한 모던한 애플리케이션 개발 방법을 다룹니다. 이 강의를 ...   \n",
       "\n",
       "       강의 추천 대상    강의 가격                            강사진  \n",
       "0    데이터 분석 입문자  ₩200000           John Doe, Jane Smith  \n",
       "1      웹 개발 입문자  ₩250000      Emily Brown, Alex Johnson  \n",
       "2    자연어 처리 입문자  ₩300000        David Lee, Sarah Miller  \n",
       "3  웹 데이터 수집 입문자  ₩180000  Michael Clark, Jennifer White  \n",
       "4   클라우드 개발 입문자  ₩280000  Daniel Wilson, Jessica Taylor  "
      ]
     },
     "execution_count": 34,
     "metadata": {},
     "output_type": "execute_result"
    }
   ],
   "source": [
    "import pandas as pd\n",
    "\n",
    "path = '/content/drive/MyDrive/데이터/강의 리스트.csv'\n",
    "\n",
    "df = pd.read_csv(path)\n",
    "df.head()"
   ]
  },
  {
   "cell_type": "code",
   "execution_count": 13,
   "metadata": {
    "colab": {
     "base_uri": "https://localhost:8080/"
    },
    "executionInfo": {
     "elapsed": 319,
     "status": "ok",
     "timestamp": 1713685235523,
     "user": {
      "displayName": "Gangwoo Kim",
      "userId": "13809575073066285378"
     },
     "user_tz": -540
    },
    "id": "1GYBAaBWU25G",
    "outputId": "60c7f840-7b76-47cb-fb74-c839ca2042e1"
   },
   "outputs": [
    {
     "name": "stdout",
     "output_type": "stream",
     "text": [
      "|    | 강의 제목                           | 강의 내용                                                                                                                                                                                                                                                          | 강의 추천 대상        | 강의 가격   | 강사진                        |\n",
      "|---:|:------------------------------------|:-------------------------------------------------------------------------------------------------------------------------------------------------------------------------------------------------------------------------------------------------------------------|:----------------------|:------------|:------------------------------|\n",
      "|  0 | 데이터 분석 입문 온라인 완주반      | 데이터 분석에 대한 기본적인 이해를 바탕으로 Python을 활용하여 데이터를 수집, 정제, 분석하는 방법을 학습합니다. 이 강의는 데이터 분석을 처음 시작하는 분들을 위해 기초적인 내용부터 차근차근 알려주며, 실습을 통해 실제 데이터를 다루는 경험을 제공합니다.          | 데이터 분석 입문자    | ₩200000     | John Doe, Jane Smith          |\n",
      "|  1 | 웹 프로그래밍 올인원 패키지 Online  | HTML, CSS, JavaScript부터 시작하여 백엔드 개발에 필요한 Node.js, Express 등을 다룹니다. 이 강의를 통해 학습자는 웹 개발에 필요한 전반적인 기술을 습득하고, 간단한 웹 애플리케이션을 구축할 수 있는 능력을 키웁니다.                                                | 웹 개발 입문자        | ₩250000     | Emily Brown, Alex Johnson     |\n",
      "|  2 | 딥러닝을 활용한 자연어 처리 입문    | 자연어 처리(NLP)의 기초 이론부터 실제 딥러닝 모델을 활용한 텍스트 분류, 감정 분석, 기계 번역 등의 실습을 다룹니다. 이 강의를 통해 학습자는 자연어 처리에 대한 이해를 높이고, 실제 프로젝트에 적용할 수 있는 기술을 습득합니다.                                     | 자연어 처리 입문자    | ₩300000     | David Lee, Sarah Miller       |\n",
      "|  3 | 파이썬을 활용한 웹 데이터 수집      | 웹 스크래핑과 API를 이용하여 다양한 웹 데이터를 수집하는 방법을 다룹니다. 이 강의를 통해 학습자는 BeautifulSoup, Requests 등의 라이브러리를 사용하여 웹 사이트에서 데이터를 추출하는 기술을 배우고, 실전 프로젝트를 통해 응용력을 향상시킵니다.                    | 웹 데이터 수집 입문자 | ₩180000     | Michael Clark, Jennifer White |\n",
      "|  4 | 클라우드 네이티브 애플리케이션 개발 | 클라우드 기술을 기반으로 한 모던한 애플리케이션 개발 방법을 다룹니다. 이 강의를 통해 학습자는 Docker, Kubernetes를 활용하여 애플리케이션을 구축하고 관리하는 방법을 배우며, 마이크로서비스 아키텍처에 대한 이해를 높이고 실전 프로젝트를 통해 실력을 향상시킵니다. | 클라우드 개발 입문자  | ₩280000     | Daniel Wilson, Jessica Taylor |\n"
     ]
    }
   ],
   "source": [
    "markdown_df = df.to_markdown()\n",
    "print(markdown_df)"
   ]
  },
  {
   "cell_type": "markdown",
   "metadata": {
    "id": "SRm3AzIosCCP"
   },
   "source": [
    "|    | 강의 제목                           | 강의 내용                                                                                                                                                                                                                                                          | 강의 추천 대상        | 강의 가격   | 강사진                        |\n",
    "|---:|:------------------------------------|:-------------------------------------------------------------------------------------------------------------------------------------------------------------------------------------------------------------------------------------------------------------------|:----------------------|:------------|:------------------------------|\n",
    "|  0 | 데이터 분석 입문 온라인 완주반      | 데이터 분석에 대한 기본적인 이해를 바탕으로 Python을 활용하여 데이터를 수집, 정제, 분석하는 방법을 학습합니다. 이 강의는 데이터 분석을 처음 시작하는 분들을 위해 기초적인 내용부터 차근차근 알려주며, 실습을 통해 실제 데이터를 다루는 경험을 제공합니다.          | 데이터 분석 입문자    | ₩200000     | John Doe, Jane Smith          |\n",
    "|  1 | 웹 프로그래밍 올인원 패키지 Online  | HTML, CSS, JavaScript부터 시작하여 백엔드 개발에 필요한 Node.js, Express 등을 다룹니다. 이 강의를 통해 학습자는 웹 개발에 필요한 전반적인 기술을 습득하고, 간단한 웹 애플리케이션을 구축할 수 있는 능력을 키웁니다.                                                | 웹 개발 입문자        | ₩250000     | Emily Brown, Alex Johnson     |\n",
    "|  2 | 딥러닝을 활용한 자연어 처리 입문    | 자연어 처리(NLP)의 기초 이론부터 실제 딥러닝 모델을 활용한 텍스트 분류, 감정 분석, 기계 번역 등의 실습을 다룹니다. 이 강의를 통해 학습자는 자연어 처리에 대한 이해를 높이고, 실제 프로젝트에 적용할 수 있는 기술을 습득합니다.                                     | 자연어 처리 입문자    | ₩300000     | David Lee, Sarah Miller       |\n",
    "|  3 | 파이썬을 활용한 웹 데이터 수집      | 웹 스크래핑과 API를 이용하여 다양한 웹 데이터를 수집하는 방법을 다룹니다. 이 강의를 통해 학습자는 BeautifulSoup, Requests 등의 라이브러리를 사용하여 웹 사이트에서 데이터를 추출하는 기술을 배우고, 실전 프로젝트를 통해 응용력을 향상시킵니다.                    | 웹 데이터 수집 입문자 | ₩180000     | Michael Clark, Jennifer White |\n",
    "|  4 | 클라우드 네이티브 애플리케이션 개발 | 클라우드 기술을 기반으로 한 모던한 애플리케이션 개발 방법을 다룹니다. 이 강의를 통해 학습자는 Docker, Kubernetes를 활용하여 애플리케이션을 구축하고 관리하는 방법을 배우며, 마이크로서비스 아키텍처에 대한 이해를 높이고 실전 프로젝트를 통해 실력을 향상시킵니다. | 클라우드 개발 입문자  | ₩280000     | Daniel Wilson, Jessica Taylor |\n"
   ]
  },
  {
   "cell_type": "code",
   "execution_count": 35,
   "metadata": {
    "colab": {
     "base_uri": "https://localhost:8080/"
    },
    "executionInfo": {
     "elapsed": 330,
     "status": "ok",
     "timestamp": 1713686758709,
     "user": {
      "displayName": "Gangwoo Kim",
      "userId": "13809575073066285378"
     },
     "user_tz": -540
    },
    "id": "DtOWLuhoVWla",
    "outputId": "4d0f446b-de52-4cb5-d7a8-30ae032b3be3"
   },
   "outputs": [
    {
     "name": "stdout",
     "output_type": "stream",
     "text": [
      "\n",
      "너는 온라인 강의에 대해 설명을 제공하는 인공지능 챗봇이야.\n",
      "강의 설명 테이블을 참고하여서 사용자의 질문에 친절하게 답변해줘.\n",
      "\n",
      "강의 설명 테이블\n",
      "|    | 강의 제목                           | 강의 내용                                                                                                                                                                                                                                                          | 강의 추천 대상        | 강의 가격   | 강사진                        |\n",
      "|---:|:------------------------------------|:-------------------------------------------------------------------------------------------------------------------------------------------------------------------------------------------------------------------------------------------------------------------|:----------------------|:------------|:------------------------------|\n",
      "|  0 | 데이터 분석 입문 온라인 완주반      | 데이터 분석에 대한 기본적인 이해를 바탕으로 Python을 활용하여 데이터를 수집, 정제, 분석하는 방법을 학습합니다. 이 강의는 데이터 분석을 처음 시작하는 분들을 위해 기초적인 내용부터 차근차근 알려주며, 실습을 통해 실제 데이터를 다루는 경험을 제공합니다.          | 데이터 분석 입문자    | ₩200000     | John Doe, Jane Smith          |\n",
      "|  1 | 웹 프로그래밍 올인원 패키지 Online  | HTML, CSS, JavaScript부터 시작하여 백엔드 개발에 필요한 Node.js, Express 등을 다룹니다. 이 강의를 통해 학습자는 웹 개발에 필요한 전반적인 기술을 습득하고, 간단한 웹 애플리케이션을 구축할 수 있는 능력을 키웁니다.                                                | 웹 개발 입문자        | ₩250000     | Emily Brown, Alex Johnson     |\n",
      "|  2 | 딥러닝을 활용한 자연어 처리 입문    | 자연어 처리(NLP)의 기초 이론부터 실제 딥러닝 모델을 활용한 텍스트 분류, 감정 분석, 기계 번역 등의 실습을 다룹니다. 이 강의를 통해 학습자는 자연어 처리에 대한 이해를 높이고, 실제 프로젝트에 적용할 수 있는 기술을 습득합니다.                                     | 자연어 처리 입문자    | ₩300000     | David Lee, Sarah Miller       |\n",
      "|  3 | 파이썬을 활용한 웹 데이터 수집      | 웹 스크래핑과 API를 이용하여 다양한 웹 데이터를 수집하는 방법을 다룹니다. 이 강의를 통해 학습자는 BeautifulSoup, Requests 등의 라이브러리를 사용하여 웹 사이트에서 데이터를 추출하는 기술을 배우고, 실전 프로젝트를 통해 응용력을 향상시킵니다.                    | 웹 데이터 수집 입문자 | ₩180000     | Michael Clark, Jennifer White |\n",
      "|  4 | 클라우드 네이티브 애플리케이션 개발 | 클라우드 기술을 기반으로 한 모던한 애플리케이션 개발 방법을 다룹니다. 이 강의를 통해 학습자는 Docker, Kubernetes를 활용하여 애플리케이션을 구축하고 관리하는 방법을 배우며, 마이크로서비스 아키텍처에 대한 이해를 높이고 실전 프로젝트를 통해 실력을 향상시킵니다. | 클라우드 개발 입문자  | ₩280000     | Daniel Wilson, Jessica Taylor |\n",
      "\n",
      "\n",
      "다음 사용자의 요청에 대한 답변을 해주고, 답변에 근거가 되는 테이블 행도 같이 markdown 형식으로 출력해줘\n",
      "\n",
      "요청: 데이터 분석 입문 온라인 완주반의 가격과 수업 내용을 알 수 있나요?\n",
      "\n"
     ]
    }
   ],
   "source": [
    "from string import Template\n",
    "\n",
    "query = \"데이터 분석 입문 온라인 완주반의 가격과 수업 내용을 알 수 있나요?\"\n",
    "\n",
    "\n",
    "system_prompt = Template(\"\"\"\n",
    "너는 온라인 강의에 대해 설명을 제공하는 인공지능 챗봇이야.\n",
    "강의 설명 테이블을 참고하여서 사용자의 질문에 친절하게 답변해줘.\n",
    "\n",
    "강의 설명 테이블\n",
    "$lecture_table\n",
    "\"\"\")\n",
    "\n",
    "prompt = Template(\"\"\"\n",
    "다음 사용자의 요청에 대한 답변을 해주고, 답변에 근거가 되는 테이블 행도 같이 markdown 형식으로 출력해줘\n",
    "\n",
    "요청: $query\n",
    "\"\"\")\n",
    "\n",
    "print(system_prompt.substitute(lecture_table=markdown_df))\n",
    "print(prompt.substitute(query=query))"
   ]
  },
  {
   "cell_type": "code",
   "execution_count": 36,
   "metadata": {
    "colab": {
     "base_uri": "https://localhost:8080/"
    },
    "executionInfo": {
     "elapsed": 6482,
     "status": "ok",
     "timestamp": 1713686777475,
     "user": {
      "displayName": "Gangwoo Kim",
      "userId": "13809575073066285378"
     },
     "user_tz": -540
    },
    "id": "A_UGJPWyVdfm",
    "outputId": "e65f98cc-4272-4389-b5f0-512da749bee4"
   },
   "outputs": [
    {
     "name": "stdout",
     "output_type": "stream",
     "text": [
      "|    | 강의 제목                          | 강의 내용                                                                                                                                                                                                                                                          | 강의 추천 대상        | 강의 가격   | 강사진                    |\n",
      "|---:|:-----------------------------------|:-------------------------------------------------------------------------------------------------------------------------------------------------------------------------------------------------------------------------------------------------------------------|:----------------------|:------------|:--------------------------|\n",
      "|  0 | 데이터 분석 입문 온라인 완주반     | 데이터 분석에 대한 기본적인 이해를 바탕으로 Python을 활용하여 데이터를 수집, 정제, 분석하는 방법을 학습합니다. 이 강의는 데이터 분석을 처음 시작하는 분들을 위해 기초적인 내용부터 차근차근 알려주며, 실습을 통해 실제 데이터를 다루는 경험을 제공합니다.        | 데이터 분석 입문자    | ₩200000     | John Doe, Jane Smith      |\n",
      "\n",
      "**데이터 분석 입문 온라인 완주반**\n",
      "- **가격**: ₩200000\n",
      "- **강의 내용**: 데이터 분석에 대한 기본적인 이해를 바탕으로 Python을 활용하여 데이터를 수집, 정제, 분석하는 방법을 학습합니다. 이 강의는 데이터 분석을 처음 시작하는 분들을 위해 기초적인 내용부터 차근차근 알려주며, 실습을 통해 실제 데이터를 다루는 경험을 제공합니다.\n"
     ]
    }
   ],
   "source": [
    "chat_completion = client.chat.completions.create(\n",
    "    messages=[\n",
    "        {\n",
    "            \"role\": \"system\",\n",
    "            \"content\": system_prompt.substitute(lecture_table=markdown_df),\n",
    "        },\n",
    "        {\n",
    "            \"role\": \"user\",\n",
    "            \"content\": prompt.substitute(query=query),\n",
    "        }\n",
    "    ],\n",
    "    model=model_name,\n",
    ")\n",
    "\n",
    "print(chat_completion.choices[0].message.content)"
   ]
  },
  {
   "cell_type": "code",
   "execution_count": 37,
   "metadata": {
    "colab": {
     "base_uri": "https://localhost:8080/"
    },
    "executionInfo": {
     "elapsed": 19954,
     "status": "ok",
     "timestamp": 1713686821367,
     "user": {
      "displayName": "Gangwoo Kim",
      "userId": "13809575073066285378"
     },
     "user_tz": -540
    },
    "id": "b8pgYYBsdLBi",
    "outputId": "4364b917-554e-4757-fb7e-403af89e9946"
   },
   "outputs": [
    {
     "name": "stdout",
     "output_type": "stream",
     "text": [
      "Q: 전체 강의의 수강료 평균은 얼마인가요?\n",
      "A: 강의 수강료의 평균은 ₩242,000 입니다.\n",
      "\n",
      "|    | 강의 제목                           | 강의 내용                                                                                                                                                                                                                                                          | 강의 추천 대상        | 강의 가격   | 강사진                        |\n",
      "|---:|:------------------------------------|:-------------------------------------------------------------------------------------------------------------------------------------------------------------------------------------------------------------------------------------------------------------------|:----------------------|:------------|:------------------------------|\n",
      "|  0 | 데이터 분석 입문 온라인 완주반      | 데이터 분석에 대한 기본적인 이해를 바탕으로 Python을 활용하여 데이터를 수집, 정제, 분석하는 방법을 학습합니다. 이 강의는 데이터 분석을 처음 시작하는 분들을 위해 기초적인 내용부터 차근차근 알려주며, 실습을 통해 실제 데이터를 다루는 경험을 제공합니다.          | 데이터 분석 입문자    | ₩200000     | John Doe, Jane Smith          |\n",
      "|  1 | 웹 프로그래밍 올인원 패키지 Online  | HTML, CSS, JavaScript부터 시작하여 백엔드 개발에 필요한 Node.js, Express 등을 다룹니다. 이 강의를 통해 학습자는 웹 개발에 필요한 전반적인 기술을 습득하고, 간단한 웹 애플리케이션을 구축할 수 있는 능력을 키웁니다.                                                | 웹 개발 입문자        | ₩250000     | Emily Brown, Alex Johnson     |\n",
      "|  2 | 딥러닝을 활용한 자연어 처리 입문    | 자연어 처리(NLP)의 기초 이론부터 실제 딥러닝 모델을 활용한 텍스트 분류, 감정 분석, 기계 번역 등의 실습을 다룹니다. 이 강의를 통해 학습자는 자연어 처리에 대한 이해를 높이고, 실제 프로젝트에 적용할 수 있는 기술을 습득합니다.                                     | 자연어 처리 입문자    | ₩300000     | David Lee, Sarah Miller       |\n",
      "|  3 | 파이썬을 활용한 웹 데이터 수집      | 웹 스크래핑과 API를 이용하여 다양한 웹 데이터를 수집하는 방법을 다룹니다. 이 강의를 통해 학습자는 BeautifulSoup, Requests 등의 라이브러리를 사용하여 웹 사이트에서 데이터를 추출하는 기술을 배우고, 실전 프로젝트를 통해 응용력을 향상시킵니다.                    | 웹 데이터 수집 입문자 | ₩180000     | Michael Clark, Jennifer White |\n",
      "|  4 | 클라우드 네이티브 애플리케이션 개발 | 클라우드 기술을 기반으로 한 모던한 애플리케이션 개발 방법을 다룹니다. 이 강의를 통해 학습자는 Docker, Kubernetes를 활용하여 애플리케이션을 구축하고 관리하는 방법을 배우며, 마이크로서비스 아키텍처에 대한 이해를 높이고 실전 프로젝트를 통해 실력을 향상시킵니다. | 클라우드 개발 입문자  | ₩280000     | Daniel Wilson, Jessica Taylor |\n",
      "\n",
      "===============================\n",
      "\n",
      "Q: 가장 비싼 강의와 가장 저렴한 강의는 무엇인가요?\n",
      "A: 가장 비싼 강의는 '딥러닝을 활용한 자연어 처리 입문'이고, 가장 저렴한 강의는 '파이썬을 활용한 웹 데이터 수집'입니다.\n",
      "\n",
      "|    | 강의 제목                           | 강의 내용                                                                                                                                                                                                                                                          | 강의 추천 대상        | 강의 가격   | 강사진                        |\n",
      "|---:|:------------------------------------|:-------------------------------------------------------------------------------------------------------------------------------------------------------------------------------------------------------------------------------------------------------------------|:----------------------|:------------|:------------------------------|\n",
      "|  2 | 딥러닝을 활용한 자연어 처리 입문    | 자연어 처리(NLP)의 기초 이론부터 실제 딥러닝 모델을 활용한 텍스트 분류, 감정 분석, 기계 번역 등의 실습을 다룹니다. 이 강의를 통해 학습자는 자연어 처리에 대한 이해를 높이고, 실제 프로젝트에 적용할 수 있는 기술을 습득합니다.                                     | 자연어 처리 입문자    | ₩300000     | David Lee, Sarah Miller       |\n",
      "|  3 | 파이썬을 활용한 웹 데이터 수집      | 웹 스크래핑과 API를 이용하여 다양한 웹 데이터를 수집하는 방법을 다룹니다. 이 강의를 통해 학습자는 BeautifulSoup, Requests 등의 라이브러리를 사용하여 웹 사이트에서 데이터를 추출하는 기술을 배우고, 실전 프로젝트를 통해 응용력을 향상시킵니다.                    | 웹 데이터 수집 입문자 | ₩180000     | Michael Clark, Jennifer White |\n",
      "\n",
      "===============================\n",
      "\n"
     ]
    }
   ],
   "source": [
    "def create_answer(query):\n",
    "  chat_completion = client.chat.completions.create(\n",
    "      messages=[\n",
    "          {\n",
    "              \"role\": \"system\",\n",
    "              \"content\": system_prompt.substitute(lecture_table=markdown_df),\n",
    "          },\n",
    "          {\n",
    "              \"role\": \"user\",\n",
    "              \"content\": prompt.substitute(query=query),\n",
    "          }\n",
    "      ],\n",
    "      model=model_name,\n",
    "  )\n",
    "\n",
    "  return chat_completion.choices[0].message.content\n",
    "\n",
    "\n",
    "query_list = [\n",
    "    '전체 강의의 수강료 평균은 얼마인가요?',\n",
    "    '가장 비싼 강의와 가장 저렴한 강의는 무엇인가요?'\n",
    "]\n",
    "\n",
    "for q in query_list:\n",
    "  print(f\"Q: {q}\")\n",
    "  print(f\"A: {create_answer(q)}\")\n",
    "  print(\"\\n===============================\\n\")"
   ]
  },
  {
   "cell_type": "code",
   "execution_count": 38,
   "metadata": {
    "colab": {
     "base_uri": "https://localhost:8080/"
    },
    "executionInfo": {
     "elapsed": 313,
     "status": "ok",
     "timestamp": 1713686840652,
     "user": {
      "displayName": "Gangwoo Kim",
      "userId": "13809575073066285378"
     },
     "user_tz": -540
    },
    "id": "SJeCjeKAYcrF",
    "outputId": "008ba455-3711-4fe5-c988-627a715ecd71"
   },
   "outputs": [
    {
     "name": "stdout",
     "output_type": "stream",
     "text": [
      "평균 가격 242000.0\n",
      "최고 가격 300000\n",
      "최저 가격 180000\n"
     ]
    }
   ],
   "source": [
    "# 평균 구하기\n",
    "print(\"평균 가격\", df['강의 가격'].str.replace('₩', '').astype(int).mean())\n",
    "\n",
    "# 최대값 구하기\n",
    "print(\"최고 가격\", df['강의 가격'].str.replace('₩', '').astype(int).max())\n",
    "print(\"최저 가격\", df['강의 가격'].str.replace('₩', '').astype(int).min())"
   ]
  }
 ],
 "metadata": {
  "colab": {
   "provenance": []
  },
  "kernelspec": {
   "display_name": "Python 3",
   "name": "python3"
  },
  "language_info": {
   "name": "python"
  }
 },
 "nbformat": 4,
 "nbformat_minor": 0
}
