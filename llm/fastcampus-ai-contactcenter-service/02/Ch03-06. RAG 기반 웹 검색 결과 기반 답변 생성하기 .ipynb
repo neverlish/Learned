{
 "cells": [
  {
   "cell_type": "code",
   "execution_count": 2,
   "metadata": {
    "colab": {
     "base_uri": "https://localhost:8080/"
    },
    "executionInfo": {
     "elapsed": 27909,
     "status": "ok",
     "timestamp": 1714279005319,
     "user": {
      "displayName": "Gangwoo Kim",
      "userId": "13809575073066285378"
     },
     "user_tz": -540
    },
    "id": "aLWbJ98QFeKN",
    "outputId": "3cbb0269-9918-436d-c93a-91e650d1a93d"
   },
   "outputs": [
    {
     "name": "stdout",
     "output_type": "stream",
     "text": [
      "Collecting langchain-community\n",
      "  Downloading langchain_community-0.0.34-py3-none-any.whl (1.9 MB)\n",
      "\u001b[2K     \u001b[90m━━━━━━━━━━━━━━━━━━━━━━━━━━━━━━━━━━━━━━━━\u001b[0m \u001b[32m1.9/1.9 MB\u001b[0m \u001b[31m10.1 MB/s\u001b[0m eta \u001b[36m0:00:00\u001b[0m\n",
      "\u001b[?25hCollecting langchain-core\n",
      "  Downloading langchain_core-0.1.46-py3-none-any.whl (299 kB)\n",
      "\u001b[2K     \u001b[90m━━━━━━━━━━━━━━━━━━━━━━━━━━━━━━━━━━━━━━━━\u001b[0m \u001b[32m299.3/299.3 kB\u001b[0m \u001b[31m9.7 MB/s\u001b[0m eta \u001b[36m0:00:00\u001b[0m\n",
      "\u001b[?25hRequirement already satisfied: PyYAML>=5.3 in /usr/local/lib/python3.10/dist-packages (from langchain-community) (6.0.1)\n",
      "Requirement already satisfied: SQLAlchemy<3,>=1.4 in /usr/local/lib/python3.10/dist-packages (from langchain-community) (2.0.29)\n",
      "Requirement already satisfied: aiohttp<4.0.0,>=3.8.3 in /usr/local/lib/python3.10/dist-packages (from langchain-community) (3.9.5)\n",
      "Collecting dataclasses-json<0.7,>=0.5.7 (from langchain-community)\n",
      "  Downloading dataclasses_json-0.6.4-py3-none-any.whl (28 kB)\n",
      "Collecting langsmith<0.2.0,>=0.1.0 (from langchain-community)\n",
      "  Downloading langsmith-0.1.51-py3-none-any.whl (115 kB)\n",
      "\u001b[2K     \u001b[90m━━━━━━━━━━━━━━━━━━━━━━━━━━━━━━━━━━━━━━━━\u001b[0m \u001b[32m116.0/116.0 kB\u001b[0m \u001b[31m9.8 MB/s\u001b[0m eta \u001b[36m0:00:00\u001b[0m\n",
      "\u001b[?25hRequirement already satisfied: numpy<2,>=1 in /usr/local/lib/python3.10/dist-packages (from langchain-community) (1.25.2)\n",
      "Requirement already satisfied: requests<3,>=2 in /usr/local/lib/python3.10/dist-packages (from langchain-community) (2.31.0)\n",
      "Requirement already satisfied: tenacity<9.0.0,>=8.1.0 in /usr/local/lib/python3.10/dist-packages (from langchain-community) (8.2.3)\n",
      "Collecting jsonpatch<2.0,>=1.33 (from langchain-core)\n",
      "  Downloading jsonpatch-1.33-py2.py3-none-any.whl (12 kB)\n",
      "Collecting packaging<24.0,>=23.2 (from langchain-core)\n",
      "  Downloading packaging-23.2-py3-none-any.whl (53 kB)\n",
      "\u001b[2K     \u001b[90m━━━━━━━━━━━━━━━━━━━━━━━━━━━━━━━━━━━━━━━━\u001b[0m \u001b[32m53.0/53.0 kB\u001b[0m \u001b[31m4.6 MB/s\u001b[0m eta \u001b[36m0:00:00\u001b[0m\n",
      "\u001b[?25hRequirement already satisfied: pydantic<3,>=1 in /usr/local/lib/python3.10/dist-packages (from langchain-core) (2.7.0)\n",
      "Requirement already satisfied: aiosignal>=1.1.2 in /usr/local/lib/python3.10/dist-packages (from aiohttp<4.0.0,>=3.8.3->langchain-community) (1.3.1)\n",
      "Requirement already satisfied: attrs>=17.3.0 in /usr/local/lib/python3.10/dist-packages (from aiohttp<4.0.0,>=3.8.3->langchain-community) (23.2.0)\n",
      "Requirement already satisfied: frozenlist>=1.1.1 in /usr/local/lib/python3.10/dist-packages (from aiohttp<4.0.0,>=3.8.3->langchain-community) (1.4.1)\n",
      "Requirement already satisfied: multidict<7.0,>=4.5 in /usr/local/lib/python3.10/dist-packages (from aiohttp<4.0.0,>=3.8.3->langchain-community) (6.0.5)\n",
      "Requirement already satisfied: yarl<2.0,>=1.0 in /usr/local/lib/python3.10/dist-packages (from aiohttp<4.0.0,>=3.8.3->langchain-community) (1.9.4)\n",
      "Requirement already satisfied: async-timeout<5.0,>=4.0 in /usr/local/lib/python3.10/dist-packages (from aiohttp<4.0.0,>=3.8.3->langchain-community) (4.0.3)\n",
      "Collecting marshmallow<4.0.0,>=3.18.0 (from dataclasses-json<0.7,>=0.5.7->langchain-community)\n",
      "  Downloading marshmallow-3.21.1-py3-none-any.whl (49 kB)\n",
      "\u001b[2K     \u001b[90m━━━━━━━━━━━━━━━━━━━━━━━━━━━━━━━━━━━━━━━━\u001b[0m \u001b[32m49.4/49.4 kB\u001b[0m \u001b[31m4.7 MB/s\u001b[0m eta \u001b[36m0:00:00\u001b[0m\n",
      "\u001b[?25hCollecting typing-inspect<1,>=0.4.0 (from dataclasses-json<0.7,>=0.5.7->langchain-community)\n",
      "  Downloading typing_inspect-0.9.0-py3-none-any.whl (8.8 kB)\n",
      "Collecting jsonpointer>=1.9 (from jsonpatch<2.0,>=1.33->langchain-core)\n",
      "  Downloading jsonpointer-2.4-py2.py3-none-any.whl (7.8 kB)\n",
      "Collecting orjson<4.0.0,>=3.9.14 (from langsmith<0.2.0,>=0.1.0->langchain-community)\n",
      "  Downloading orjson-3.10.1-cp310-cp310-manylinux_2_17_x86_64.manylinux2014_x86_64.whl (141 kB)\n",
      "\u001b[2K     \u001b[90m━━━━━━━━━━━━━━━━━━━━━━━━━━━━━━━━━━━━━━━━\u001b[0m \u001b[32m141.1/141.1 kB\u001b[0m \u001b[31m2.1 MB/s\u001b[0m eta \u001b[36m0:00:00\u001b[0m\n",
      "\u001b[?25hRequirement already satisfied: annotated-types>=0.4.0 in /usr/local/lib/python3.10/dist-packages (from pydantic<3,>=1->langchain-core) (0.6.0)\n",
      "Requirement already satisfied: pydantic-core==2.18.1 in /usr/local/lib/python3.10/dist-packages (from pydantic<3,>=1->langchain-core) (2.18.1)\n",
      "Requirement already satisfied: typing-extensions>=4.6.1 in /usr/local/lib/python3.10/dist-packages (from pydantic<3,>=1->langchain-core) (4.11.0)\n",
      "Requirement already satisfied: charset-normalizer<4,>=2 in /usr/local/lib/python3.10/dist-packages (from requests<3,>=2->langchain-community) (3.3.2)\n",
      "Requirement already satisfied: idna<4,>=2.5 in /usr/local/lib/python3.10/dist-packages (from requests<3,>=2->langchain-community) (3.7)\n",
      "Requirement already satisfied: urllib3<3,>=1.21.1 in /usr/local/lib/python3.10/dist-packages (from requests<3,>=2->langchain-community) (2.0.7)\n",
      "Requirement already satisfied: certifi>=2017.4.17 in /usr/local/lib/python3.10/dist-packages (from requests<3,>=2->langchain-community) (2024.2.2)\n",
      "Requirement already satisfied: greenlet!=0.4.17 in /usr/local/lib/python3.10/dist-packages (from SQLAlchemy<3,>=1.4->langchain-community) (3.0.3)\n",
      "Collecting mypy-extensions>=0.3.0 (from typing-inspect<1,>=0.4.0->dataclasses-json<0.7,>=0.5.7->langchain-community)\n",
      "  Downloading mypy_extensions-1.0.0-py3-none-any.whl (4.7 kB)\n",
      "Installing collected packages: packaging, orjson, mypy-extensions, jsonpointer, typing-inspect, marshmallow, jsonpatch, langsmith, dataclasses-json, langchain-core, langchain-community\n",
      "  Attempting uninstall: packaging\n",
      "    Found existing installation: packaging 24.0\n",
      "    Uninstalling packaging-24.0:\n",
      "      Successfully uninstalled packaging-24.0\n",
      "Successfully installed dataclasses-json-0.6.4 jsonpatch-1.33 jsonpointer-2.4 langchain-community-0.0.34 langchain-core-0.1.46 langsmith-0.1.51 marshmallow-3.21.1 mypy-extensions-1.0.0 orjson-3.10.1 packaging-23.2 typing-inspect-0.9.0\n",
      "Collecting openai\n",
      "  Downloading openai-1.23.6-py3-none-any.whl (311 kB)\n",
      "\u001b[2K     \u001b[90m━━━━━━━━━━━━━━━━━━━━━━━━━━━━━━━━━━━━━━━━\u001b[0m \u001b[32m311.6/311.6 kB\u001b[0m \u001b[31m5.2 MB/s\u001b[0m eta \u001b[36m0:00:00\u001b[0m\n",
      "\u001b[?25hRequirement already satisfied: anyio<5,>=3.5.0 in /usr/local/lib/python3.10/dist-packages (from openai) (3.7.1)\n",
      "Requirement already satisfied: distro<2,>=1.7.0 in /usr/lib/python3/dist-packages (from openai) (1.7.0)\n",
      "Collecting httpx<1,>=0.23.0 (from openai)\n",
      "  Downloading httpx-0.27.0-py3-none-any.whl (75 kB)\n",
      "\u001b[2K     \u001b[90m━━━━━━━━━━━━━━━━━━━━━━━━━━━━━━━━━━━━━━━━\u001b[0m \u001b[32m75.6/75.6 kB\u001b[0m \u001b[31m8.2 MB/s\u001b[0m eta \u001b[36m0:00:00\u001b[0m\n",
      "\u001b[?25hRequirement already satisfied: pydantic<3,>=1.9.0 in /usr/local/lib/python3.10/dist-packages (from openai) (2.7.0)\n",
      "Requirement already satisfied: sniffio in /usr/local/lib/python3.10/dist-packages (from openai) (1.3.1)\n",
      "Requirement already satisfied: tqdm>4 in /usr/local/lib/python3.10/dist-packages (from openai) (4.66.2)\n",
      "Requirement already satisfied: typing-extensions<5,>=4.7 in /usr/local/lib/python3.10/dist-packages (from openai) (4.11.0)\n",
      "Requirement already satisfied: idna>=2.8 in /usr/local/lib/python3.10/dist-packages (from anyio<5,>=3.5.0->openai) (3.7)\n",
      "Requirement already satisfied: exceptiongroup in /usr/local/lib/python3.10/dist-packages (from anyio<5,>=3.5.0->openai) (1.2.1)\n",
      "Requirement already satisfied: certifi in /usr/local/lib/python3.10/dist-packages (from httpx<1,>=0.23.0->openai) (2024.2.2)\n",
      "Collecting httpcore==1.* (from httpx<1,>=0.23.0->openai)\n",
      "  Downloading httpcore-1.0.5-py3-none-any.whl (77 kB)\n",
      "\u001b[2K     \u001b[90m━━━━━━━━━━━━━━━━━━━━━━━━━━━━━━━━━━━━━━━━\u001b[0m \u001b[32m77.9/77.9 kB\u001b[0m \u001b[31m9.6 MB/s\u001b[0m eta \u001b[36m0:00:00\u001b[0m\n",
      "\u001b[?25hCollecting h11<0.15,>=0.13 (from httpcore==1.*->httpx<1,>=0.23.0->openai)\n",
      "  Downloading h11-0.14.0-py3-none-any.whl (58 kB)\n",
      "\u001b[2K     \u001b[90m━━━━━━━━━━━━━━━━━━━━━━━━━━━━━━━━━━━━━━━━\u001b[0m \u001b[32m58.3/58.3 kB\u001b[0m \u001b[31m6.9 MB/s\u001b[0m eta \u001b[36m0:00:00\u001b[0m\n",
      "\u001b[?25hRequirement already satisfied: annotated-types>=0.4.0 in /usr/local/lib/python3.10/dist-packages (from pydantic<3,>=1.9.0->openai) (0.6.0)\n",
      "Requirement already satisfied: pydantic-core==2.18.1 in /usr/local/lib/python3.10/dist-packages (from pydantic<3,>=1.9.0->openai) (2.18.1)\n",
      "Installing collected packages: h11, httpcore, httpx, openai\n",
      "Successfully installed h11-0.14.0 httpcore-1.0.5 httpx-0.27.0 openai-1.23.6\n"
     ]
    }
   ],
   "source": [
    "%pip install langchain-community langchain-core\n",
    "%pip install openai"
   ]
  },
  {
   "cell_type": "markdown",
   "metadata": {
    "id": "SxOKTjIdFgx7"
   },
   "source": [
    "### RAG 기반 웹 검색 결과 기반 답변 생성하기"
   ]
  },
  {
   "cell_type": "markdown",
   "metadata": {
    "id": "WN3BfCX3FlXh"
   },
   "source": [
    "### 1. bing search api 사용해보기\n",
    "\n",
    "Bing Search API key (Free trial) 얻는 방법 [[Link]](https://learn.microsoft.com/en-us/bing/search-apis/bing-web-search/create-bing-search-service-resource)"
   ]
  },
  {
   "cell_type": "code",
   "execution_count": 22,
   "metadata": {
    "colab": {
     "base_uri": "https://localhost:8080/",
     "height": 127
    },
    "executionInfo": {
     "elapsed": 1086,
     "status": "ok",
     "timestamp": 1714282029907,
     "user": {
      "displayName": "Gangwoo Kim",
      "userId": "13809575073066285378"
     },
     "user_tz": -540
    },
    "id": "FeCJtTIsFhRa",
    "outputId": "efb97059-2744-48c0-fca0-2907dd3e1460"
   },
   "outputs": [
    {
     "data": {
      "application/vnd.google.colaboratory.intrinsic+json": {
       "type": "string"
      },
      "text/plain": [
       "'<b>딥</b> <b>러닝은</b> 머신 러닝 의 하위 분야로, 기본적으로 3개 이상의 계층으로 된 신경망입니다. 이러한 신경망은 인간의 뇌의 능력에 한참 못 미치지만 인간의 뇌의 행동을 흉내내어 대량의 데이터로부터 &quot;학습&quot;을 수행합니다. 계층이 하나인 신경망도 대략적인 예측을 ... 심층 학습(深層學習) 또는 <b>딥 러닝</b>(영어: deep structured learning, deep learning 또는 hierarchical learning)은 여러 &#39;비선형 변환기법&#39;의 조합을 통해 높은 수준의 추상화(abstractions, 다량의 데이터나 복잡한 자료들 속에서 핵심적인 내용 또는 기능을 요약하는 작업 Definition [ edit] Deep learning is a class of machine learning algorithms that [9] : 199–200 uses multiple layers to progressively extract higher-level features from the raw input. For example, in image processing, lower layers may identify edges, while higher layers may identify the concepts relevant to a human, such as digits, letters, or ... <b>딥</b> <b>러닝은</b> 인간의 두뇌에서 영감을 얻은 방식으로 데이터를 처리하도록 컴퓨터를 가르치는 인공 지능 (AI) 방식입니다. <b>딥</b> <b>러닝</b> 모델은 그림, 텍스트, 사운드 및 기타 데이터의 복잡한 패턴을 인식하여 정확한 인사이트와 예측을 생성할 수 있습니다. 이미지를 ... Specialization - 5 course series. The Deep Learning Specialization is a foundational program that will help you understand the capabilities, challenges, and consequences of deep learning and prepare you to participate in the development of leading-edge AI technology. In this Specialization, you will build and train neural network architectures ... Deep learning is a subset of machine learning that uses multi-layered neural networks, called deep neural networks, to simulate the complex decision-making power of the human brain. Some form of deep learning powers most of the artificial intelligence (AI) in our lives today. By strict definition, a deep neural network, or DNN, is a neural ... <b>딥</b> <b>러닝</b> 및 머신러닝 모델 구축. <b>딥</b> <b>러닝은</b> 자동화 및 분석 작업을 개선할 수 있는 많은 을 구동하는 요소입니다. 대부분의 사람은 매일 인터넷을 탐색하거나 휴대폰을 사용할 때 <b>딥</b> 러닝을 접합니다. 수많은 다른 애플리케이션 중에서 <b>딥</b> <b>러닝은</b> YouTube 동영상의 ... <b>딥러닝은</b> 복잡한 패턴을 인식하고 인간과 유사한 방식으로 연관성을 만들 수 있는 머신 러닝 의 한 유형입니다. 딥러닝의 기능은 사진 속 사물을 식별하거나 음성을 인식하는 것부터 자동차를 운전하거나 일러스트를 그리는 것까지 다양합니다. 기본적으로 딥 ... <b>딥러닝은</b> 인공지능 (AI) 분야에서 컴퓨터가 인간의 뇌에서 영감을 받은 심층 신경망 알고리즘을 활용하여 데이터를 처리하고 학습하는 기술을 뜻합니다. <b>딥</b> <b>러닝</b> 전문화의 첫 번째 과정에서는 신경망과 <b>딥</b> 러닝의 기본 개념을 학습합니다. 마지막에는 완전히 연결된 심층 신경망의 구축, 훈련 및 적용, 효율적인 (벡터화된) 신경망 구현, 신경망 아키텍처의 주요 파라미터 식별, 딥 러닝을 자체 애플리케이션에 적용 ...'"
      ]
     },
     "execution_count": 22,
     "metadata": {},
     "output_type": "execute_result"
    }
   ],
   "source": [
    "import os\n",
    "from langchain_community.utilities import BingSearchAPIWrapper\n",
    "\n",
    "os.environ[\"BING_SUBSCRIPTION_KEY\"] = \"\"\n",
    "os.environ[\"BING_SEARCH_URL\"] = \"https://api.bing.microsoft.com/v7.0/search\"\n",
    "\n",
    "search = BingSearchAPIWrapper()\n",
    "search.run(\"딥러닝\")"
   ]
  },
  {
   "cell_type": "markdown",
   "metadata": {
    "id": "4J6CvE32HKdb"
   },
   "source": [
    "반환할 문서 개수 정하기"
   ]
  },
  {
   "cell_type": "code",
   "execution_count": 23,
   "metadata": {
    "colab": {
     "base_uri": "https://localhost:8080/",
     "height": 127
    },
    "executionInfo": {
     "elapsed": 1157,
     "status": "ok",
     "timestamp": 1714282059012,
     "user": {
      "displayName": "Gangwoo Kim",
      "userId": "13809575073066285378"
     },
     "user_tz": -540
    },
    "id": "VY4SWbTEFx_M",
    "outputId": "d9cf646a-a8b1-4878-ecf9-340ec2111ab3"
   },
   "outputs": [
    {
     "data": {
      "application/vnd.google.colaboratory.intrinsic+json": {
       "type": "string"
      },
      "text/plain": [
       "'<b>딥</b> <b>러닝은</b> 머신 러닝 의 하위 분야로, 기본적으로 3개 이상의 계층으로 된 신경망입니다. 이러한 신경망은 인간의 뇌의 능력에 한참 못 미치지만 인간의 뇌의 행동을 흉내내어 대량의 데이터로부터 &quot;학습&quot;을 수행합니다. 계층이 하나인 신경망도 대략적인 예측을 ... 심층 학습(深層學習) 또는 <b>딥 러닝</b>(영어: deep structured learning, deep learning 또는 hierarchical learning)은 여러 &#39;비선형 변환기법&#39;의 조합을 통해 높은 수준의 추상화(abstractions, 다량의 데이터나 복잡한 자료들 속에서 핵심적인 내용 또는 기능을 요약하는 작업 Definition [ edit] Deep learning is a class of machine learning algorithms that [9] : 199–200 uses multiple layers to progressively extract higher-level features from the raw input. For example, in image processing, lower layers may identify edges, while higher layers may identify the concepts relevant to a human, such as digits, letters, or ... <b>딥</b> <b>러닝은</b> 인간의 두뇌에서 영감을 얻은 방식으로 데이터를 처리하도록 컴퓨터를 가르치는 인공 지능 (AI) 방식입니다. <b>딥</b> <b>러닝</b> 모델은 그림, 텍스트, 사운드 및 기타 데이터의 복잡한 패턴을 인식하여 정확한 인사이트와 예측을 생성할 수 있습니다. 이미지를 ... Specialization - 5 course series. The <b>Deep Learning</b> Specialization is a foundational program that will help you understand the capabilities, challenges, and consequences of <b>deep learning</b> and prepare you to participate in the development of leading-edge AI technology. In this Specialization, you will build and train neural network architectures ...'"
      ]
     },
     "execution_count": 23,
     "metadata": {},
     "output_type": "execute_result"
    }
   ],
   "source": [
    "search = BingSearchAPIWrapper(k=5)\n",
    "search.run(\"딥러닝\")"
   ]
  },
  {
   "cell_type": "markdown",
   "metadata": {
    "id": "Pbggdx24HHbp"
   },
   "source": [
    "메타데이터와 함께 결과 문서 반환하기"
   ]
  },
  {
   "cell_type": "code",
   "execution_count": 10,
   "metadata": {
    "colab": {
     "base_uri": "https://localhost:8080/"
    },
    "executionInfo": {
     "elapsed": 442,
     "status": "ok",
     "timestamp": 1714279116188,
     "user": {
      "displayName": "Gangwoo Kim",
      "userId": "13809575073066285378"
     },
     "user_tz": -540
    },
    "id": "_1O4Ak0xGED_",
    "outputId": "5b5a4778-57dc-4dcb-d6e4-301ee2317a84"
   },
   "outputs": [
    {
     "data": {
      "text/plain": [
       "[{'snippet': '심층 학습(深層學習) 또는 <b>딥 러닝</b>(영어: deep structured learning, deep learning 또는 hierarchical learning)은 여러 &#39;비선형 변환기법&#39;의 조합을 통해 높은 수준의 추상화(abstractions, 다량의 데이터나 복잡한 자료들 속에서 핵심적인 내용 또는 기능을 요약하는 작업',\n",
       "  'title': '딥 러닝 - 위키백과, 우리 모두의 백과사전',\n",
       "  'link': 'https://ko.wikipedia.org/wiki/%EB%94%A5_%EB%9F%AC%EB%8B%9D'},\n",
       " {'snippet': '<b>딥</b> <b>러닝은</b> 머신 러닝 의 하위 분야로, 기본적으로 3개 이상의 계층으로 된 신경망입니다. 이러한 신경망은 인간의 뇌의 능력에 한참 못 미치지만 인간의 뇌의 행동을 흉내내어 대량의 데이터로부터 &quot;학습&quot;을 수행합니다. 계층이 하나인 신경망도 대략적인 예측을 ...',\n",
       "  'title': '딥러닝이란 무엇인가요? | IBM',\n",
       "  'link': 'https://www.ibm.com/kr-ko/topics/deep-learning'},\n",
       " {'snippet': 'Definition [ edit] Deep learning is a class of machine learning algorithms that [9] : 199–200 uses multiple layers to progressively extract higher-level features from the raw input. For example, in image processing, lower layers may identify edges, while higher layers may identify the concepts relevant to a human, such as digits, letters, or ...',\n",
       "  'title': 'Deep learning - Wikipedia',\n",
       "  'link': 'https://en.wikipedia.org/wiki/Deep_learning'},\n",
       " {'snippet': 'Specialization - 5 course series. The Deep Learning Specialization is a foundational program that will help you understand the capabilities, challenges, and consequences of deep learning and prepare you to participate in the development of leading-edge AI technology. In this Specialization, you will build and train neural network architectures ...',\n",
       "  'title': 'Deep Learning Specialization [5 courses] (DeepLearning.AI) | Coursera',\n",
       "  'link': 'https://www.coursera.org/specializations/deep-learning'},\n",
       " {'snippet': 'An efficient and high-intensity bootcamp designed to teach you the fundamentals of deep learning as quickly as possible! MIT&#39;s introductory program on deep learning methods with applications to natural language processing, computer vision, biology, and more! Students will gain foundational knowledge of deep learning algorithms, practical ...',\n",
       "  'title': 'MIT Deep Learning 6.S191',\n",
       "  'link': 'http://introtodeeplearning.com/'}]"
      ]
     },
     "execution_count": 10,
     "metadata": {},
     "output_type": "execute_result"
    }
   ],
   "source": [
    "search = BingSearchAPIWrapper()\n",
    "search.results(\"딥러닝\", 5)"
   ]
  },
  {
   "cell_type": "code",
   "execution_count": 24,
   "metadata": {
    "colab": {
     "base_uri": "https://localhost:8080/"
    },
    "executionInfo": {
     "elapsed": 1288,
     "status": "ok",
     "timestamp": 1714282140064,
     "user": {
      "displayName": "Gangwoo Kim",
      "userId": "13809575073066285378"
     },
     "user_tz": -540
    },
    "id": "pzWQoSucH2vq",
    "outputId": "333cd28c-611e-4e12-ca01-71b1d79b07bd"
   },
   "outputs": [
    {
     "name": "stdout",
     "output_type": "stream",
     "text": [
      "\n",
      "    [0]\n",
      "    title:딥 러닝 - 위키백과, 우리 모두의 백과사전\n",
      "    content:심층 학습(深層學習) 또는 <b>딥 러닝</b>(영어: deep structured learning, deep learning 또는 hierarchical learning)은 여러 &#39;비선형 변환기법&#39;의 조합을 통해 높은 수준의 추상화(abstractions, 다량의 데이터나 복잡한 자료들 속에서 핵심적인 내용 또는 기능을 요약하는 작업\n",
      "    \n",
      "    [1]\n",
      "    title:딥러닝이란 무엇인가요? | IBM\n",
      "    content:<b>딥</b> <b>러닝은</b> 머신 러닝 의 하위 분야로, 기본적으로 3개 이상의 계층으로 된 신경망입니다. 이러한 신경망은 인간의 뇌의 능력에 한참 못 미치지만 인간의 뇌의 행동을 흉내내어 대량의 데이터로부터 &quot;학습&quot;을 수행합니다. 계층이 하나인 신경망도 대략적인 예측을 ...\n",
      "    \n",
      "    [2]\n",
      "    title:Deep learning - Wikipedia\n",
      "    content:Definition [ edit] Deep learning is a class of machine learning algorithms that [9] : 199–200 uses multiple layers to progressively extract higher-level features from the raw input. For example, in image processing, lower layers may identify edges, while higher layers may identify the concepts relevant to a human, such as digits, letters, or ...\n",
      "    \n"
     ]
    }
   ],
   "source": [
    "def web_search(query, num_doc=5):\n",
    "  results = search.results(query, num_doc)\n",
    "  docs = \"\"\n",
    "  for i, r in enumerate(results):\n",
    "    docs += f\"\"\"\n",
    "    [{i}]\n",
    "    title:{r['title']}\n",
    "    content:{r['snippet']}\n",
    "    \"\"\"\n",
    "  return docs\n",
    "\n",
    "print(web_search(\"딥러닝\", num_doc=3))"
   ]
  },
  {
   "cell_type": "markdown",
   "metadata": {
    "id": "IzmHq2w_HQnN"
   },
   "source": [
    "### 2. 웹 검색 결과 기반 답변 생성하기"
   ]
  },
  {
   "cell_type": "code",
   "execution_count": 25,
   "metadata": {
    "colab": {
     "base_uri": "https://localhost:8080/"
    },
    "executionInfo": {
     "elapsed": 4888,
     "status": "ok",
     "timestamp": 1714282169671,
     "user": {
      "displayName": "Gangwoo Kim",
      "userId": "13809575073066285378"
     },
     "user_tz": -540
    },
    "id": "Y4U9iR7CHZ0G",
    "outputId": "437957ca-c120-4c33-8b0c-027903df542a"
   },
   "outputs": [
    {
     "name": "stdout",
     "output_type": "stream",
     "text": [
      "\n",
      "    [0]\n",
      "    title:코스피 | 다음 금융\n",
      "    content:서비스 약관/정책 금융 고객센터 금융 문의하기 카카오가 제공하는 증권정보는 단순히 정보의 제공을 목적으로 하고 있으며, 사이트에서 제공되는 정보는 오류 및 지연이 발생될 수 있습니다. 제공된 정보이용에 따르는 책임은 이용자 본인에게 있으며, 카카오는 이용자의 투자결과에 따른\n",
      "    \n",
      "    [1]\n",
      "    title:코스피 차트: 한국 종합 주가 지수 — TradingView\n",
      "    content:<b>코스피</b> 조정 타겟 - 외환위기, 닷컴버블, 금융위기, 펜데믹 폭락장 저점 참고 안녕하세요, 1PERCENT입니다. <b>최근</b> 국내 증시 하락으로 인해 많이 힘드신 분들도 있으리라 생각됩니다. 역대 <b>코스피</b> <b>차트를</b> 보고 조정의 정도를 한번 예측해보겠습니다.\n",
      "    \n",
      "    [2]\n",
      "    title:코스피 및 코스닥 지수 하락 원인 - 2024.01.17\n",
      "    content:<b>코스피</b> 및 <b>코스닥</b> <b>지수</b> <b>하락</b> 원인 분석. <b>최근</b> 우리나라 증시가 아주 안 좋습니다. 1월부터 지속 지수는 하락했으며 이렇다 할 반등 없이 급락 수준으로 하락 중입니다. 이에 <b>대해</b> <b>코스피</b> 및 <b>코스닥</b> <b>지수</b> <b>분석</b> 및 그 <b>원인에</b> <b>대해</b> <b>설명해</b> 보겠습니다. 더불어 지금 하락 장에서 관심 있게 봐야 할 관심 종목 또한 소개해 드리도록 하겠습니다. 1. <b>코스피</b> <b>지수</b> 분석. 작년 8월 고점 이후 우하향입니다. 역 N자 하락 및 10월까지 하락 파동입니다. 하지만 11월 이후 다시 역 헤드 &amp; 숄더 (Inverse Head &amp; Shoulder) 출현 및 12월까지 상승했습니다.\n",
      "    \n",
      "    [3]\n",
      "    title:[국내 증시] 코스피 지수 시세 및 2023년 상반기 전망 - Mitrade\n",
      "    content:<b>최근</b> <b>코스피가</b> 반등하면서 훈풍이 불고 있는데요. 올해 국내 주식 시장 분위기는 과연 어떨까요? 전문가의 의견을 모아봤습니다. (이미지 출처 : 뉴시스) 1. 2022년 <b>코스피</b> 결산. 작년 <b>코스피</b> 기록은 처참했습니다. <b>코스피</b> 지수가 연초보다 23.7% 하락하면서 저조한 성적을 기록했습니다. 같은 기간 코스닥 지수는 33.29% 급락했습니다. G20 국가 중 하락률이 가장 컸던 나라는 러시아로 작년 약 40% 폭락했습니다. 사진에서도 볼 수 있듯 세계 증시에서도 낙폭이 유독 컸던 이유는 국내 증시에서 큰 비중을 차지하는 반도체와 수출 산업 불황 때문입니다. 반도체 대장주 삼성전자는 -25%가 넘게 주가가 빠지기도 했습니다.\n",
      "    \n",
      "    [4]\n",
      "    title:코스피 &#39;공포지수&#39; 17개월 만에 최저…코로나 이전 수준 | 연합뉴스\n",
      "    content:(서울=연합뉴스) 박원희 기자 = 일명 &#39;<b>공포지수</b>&#39;<b>라고도</b> <b>불리는</b> <b>코스피200</b> <b>변동성지수</b>(<b>VKOSPI</b>)<b>가</b> 1년 5개월 만에 최저 수준을 나타냈다.\n",
      "    \n",
      "요약하면 최근 코스피 지수는 하락하는 추세를 보이고 있습니다. 코스피는 역 N자 하락 및 10월까지 하락한 후 11월 이후에는 상승 추세를 보였으나, 다시 하락하는 추세를 보이고 있습니다. 이로 인해 코스피 지수가 전반적으로 하락하여 공포지수도 17개월 만에 최저 수준을 기록하고 있습니다. 이러한 움직임은 여러 요인에 기인한 것으로 보이며, 주식 시장의 미래 전망에 대한 관심이 높아질 수 있습니다.\n"
     ]
    }
   ],
   "source": [
    "from openai import OpenAI\n",
    "\n",
    "OPENAI_API_KEY='sk-'\n",
    "model_name=\"gpt-3.5-turbo\"\n",
    "\n",
    "client = OpenAI(\n",
    "    api_key=OPENAI_API_KEY,\n",
    ")\n",
    "\n",
    "def answer_based_web_search(query, num_doc=5):\n",
    "  related_docs = web_search(query, num_doc)\n",
    "\n",
    "  system_prompt = \"\"\"\n",
    "  너는 주어진 문서를 기반으로 사용자의 질문에 친절하게 답변해 주는 인공지능이야\n",
    "  \"\"\"\n",
    "\n",
    "  prompt = f\"\"\"\n",
    "  문서:\n",
    "  {related_docs}\n",
    "  질문: {query}\n",
    "  답변:\n",
    "  \"\"\"\n",
    "\n",
    "  chat_completion = client.chat.completions.create(\n",
    "      messages=[\n",
    "          {\n",
    "              \"role\": \"system\",\n",
    "              \"content\": system_prompt,\n",
    "          },\n",
    "          {\n",
    "              \"role\": \"user\",\n",
    "              \"content\": prompt,\n",
    "          }\n",
    "      ],\n",
    "      model=model_name,\n",
    "  )\n",
    "  return related_docs, chat_completion.choices[0].message.content\n",
    "\n",
    "related_docs, answer = answer_based_web_search(query=\"최근 코스피 지수 등락에 대해 설명해줘\")\n",
    "\n",
    "print(related_docs)\n",
    "print(answer)"
   ]
  },
  {
   "cell_type": "code",
   "execution_count": 13,
   "metadata": {
    "colab": {
     "base_uri": "https://localhost:8080/"
    },
    "executionInfo": {
     "elapsed": 10036,
     "status": "ok",
     "timestamp": 1714279172431,
     "user": {
      "displayName": "Gangwoo Kim",
      "userId": "13809575073066285378"
     },
     "user_tz": -540
    },
    "id": "M0NQEV_5KUug",
    "outputId": "2bec4304-3c9b-462c-dfff-625b3395f818"
   },
   "outputs": [
    {
     "name": "stdout",
     "output_type": "stream",
     "text": [
      "Q: 삼성 전자 관련 최근 뉴스 이슈를 요약해줘\n",
      "A: 최근 삼성전자 관련 뉴스 이슈로는 업계 최고 속도의 LPDDR5X D램 개발 성공 및 2024년 1분기 잠정실적 발표 등이 있습니다. 삼성전자는 기술 리더십을 재확인하며 계속해서 새로운 성과를 이루고 있는 것으로 보고됩니다.\n",
      "D: \n",
      "    [0]\n",
      "    title:삼성전자 뉴스룸(Samsung Newsroom Korea) – 삼성전자 뉴스룸은 삼성전자의 대표 뉴스 채널입니다.\n",
      "    content:<b>삼성전자</b> <b>뉴스</b>룸은 <b>삼성전자</b>의 대표 <b>뉴스</b> 채널입니다. 네덜란드 갤럭시 S24로 즐기는 쾨켄호프 정원의 &#39;마법 같은 밤&#39; 미국 [임직원 기고]&quot;동료들과 함께한 자원봉사 활동은 더 큰 의미가 있죠&quot; 카라 샤워즈 리테일 공급망 운영 겸 DTC 부문 관리자\n",
      "    \n",
      "    [1]\n",
      "    title:알려드립니다 – Samsung Newsroom Korea\n",
      "    content:알려드립니다. 금속노조 등의 &lt;<b>삼성</b>-<b>전자계열사</b> <b>노동안전실태</b> <b>보고서</b>&gt; <b>및</b> <b>관련</b> <b>보도가</b> 사실과 달라 바로 <b>잡습니다</b> 2024/03/04. 한국경제신문의 ‘삼성반도체, 금토일 일하면 나흘 휴무’ 보도에 대해 말씀드립니다. 2022/12/12. 아시아경제의 ‘회장님 나이가 커트라인? 부사장 연장자 8명뿐’ 보도에 대해 말씀드립니다 2022/12/07. MBC의 「삼성 반도체 공장서 오염물질 유출…처리도 조사도 ‘셀프’?」 보도에 대해 말씀드립니다 2022/08/28. 미디어오늘의 전문심리위원 보고서 관련 보도에 대해 말씀드립니다 2020/12/21. 광주사업장 산재 관련 기사에 대해 말씀드립니다 2020/08/03.\n",
      "    \n",
      "    [2]\n",
      "    title:삼성전자 반도체 뉴스룸 – 삼성전자 DS부문의 공식 뉴스 채널입니다.\n",
      "    content:<b>삼성전자는</b> 업계 최고 동작속도의 10.7Gbps LPDDR5X D램 개발에 성공하고 저전력∙고성능 D램 시장에서의 기술 리더십을 재확인했다. * Gbps (Gigabit per second): 1초당 전송되는 기가비트 단위의 데이터* LPDDR5X: Low Power Double... 문화 2024.04.15. [드림페어 Ep.1] <b>삼성전자</b> 반도체 신입사원들의 찬란한 성장을 담다! ‘드림페어 2023’ 현장.\n",
      "    \n",
      "    [3]\n",
      "    title:프레스센터 – 삼성전자 반도체 뉴스룸\n",
      "    content:<b>삼성전자</b>, 업계 최고 속도 LPDDR5X 개발 성공. 삼성전자는 업계 최고 동작속도의 10.7Gbps LPDDR5X D램 개발에 성공하고 저전력∙고성능 D램 시장에서의 기술 리더십을 재확인했다. * Gbps (Gigabit per second): 1초당 전송되는 기가비트 단위의 데이터* LPDDR5X: Low Power Double... 보도자료 2024.04.05. 삼성전자, 2024년 1분기 잠정실적 발표.\n",
      "    \n",
      "    [4]\n",
      "    title:최신 뉴스 | 삼성반도체 - Samsung Semiconductor Global\n",
      "    content:<b>삼성반도체에서</b> <b>최신</b> 산업 <b>뉴스를</b> 만나보십시오. 속보, 고객 성공 사례, 기술 리더십 및 시장 동향 등 다양한 정보를 제공합니다.\n",
      "    \n",
      "\n",
      "===============================\n",
      "\n",
      "Q: 최근 코스피 시장에서 가장 이슈가 뭐야?\n",
      "A: 가장 최근 코스피 시장에서 화제가 된 이슈는 빅스텝, HLB그룹, 폐배터리 등이었습니다. 이들이 시장에서 가장 핫한 이슈로 떠올랐던 것으로 알려져요.\n",
      "D: \n",
      "    [0]\n",
      "    title:코스피 역사적 변동성 11개월만에 최고…개미는 &#39;변동성에 베팅&#39; - 연합뉴스\n",
      "    content:미래 <b>변동성에</b> 대한 <b>시장의</b> 기대치를 보여주는 코스피200 변동성지수 (VKOSPI)도 오름세다. 이달 들어 19.21까지 내려갔던 VKOSPI는 지난 18일 23.68로 마감했다. 지난 17일에는 기초자산인 코스피200이 0.61% 오를 때 VKOSPI도 6.11% 상승하는 모습을 보였다. <b>코스피200</b> 옵션의 가격을 이용해 산출하는 VKOSPI는 통상 주가지수가 급락할 때 급등한다. 보통 지수의 하락 속도가 상승 속도보다 빠르고 급락 시 지수 반등도 크게 나오는 등 하락 국면에서 변동성이 커지기 때문이다.\n",
      "    \n",
      "    [1]\n",
      "    title:한국 주식시장의 최고 하락종목 - Investing.com\n",
      "    content:52주 최고. 52주 최저. 최다 거래. 급등주. 급락주. 가격. 성과. 기술 분석. 펀더멘탈. 시장 데이터, 속보, 분석 등 한국 <b>시장에서</b> 최고 하락 주식을 확인해 보세요.\n",
      "    \n",
      "    [2]\n",
      "    title:코스피 &#39;공포지수&#39; 17개월 만에 최저…코로나 이전 수준 | 연합뉴스\n",
      "    content:지난달 21일 <b>코스피는</b> 주말 사이 전해진 제임스 불러드 세인트루이스 연방준비은행 (연은) 총재의 금리 조기 인상 발언에 1% 가까이 하락하는 등 유동성 관련 이슈에 민감하게 반응하고 있다. 실적 개선의 동력 (모멘텀)이 둔화할 가능성도 변수다. KB증권에 따르면 <b>유가증권시장</b> <b>상장사들의</b> 영업이익 증가율은 지난 1분기 전년 대비 118.0%에서 2분기 69.1%, 3분기 37.3%, 4분기 64.0%로 점점 낮아질 것으로 전망되고 있다.\n",
      "    \n",
      "    [3]\n",
      "    title:2023년 코스피 18.7% 올랐다…27개국 25위→13위로 껑충\n",
      "    content:올해 <b>코스피가</b> <b>가장</b> 많이 오른 날은 역대 네 번째 공매도 금지일인 지난달 6일 (+5.66%)이었다. 낙폭은 미국 국채금리 상승 등으로 10개월 만에 2300선이 무너졌던 10월 26일 (-2.71%)이 가장 컸다. 또 올해 거래대금이 가장 많았던 날은 7월 26일로 36조3480억원에 달해 연중 최고치를 기록한 것으로 집계됐다. 반대로 올해 거래대금이 가장 적었던 날은 1월 20일로 5조260억원에 불과했다. 2023년 코스피 주요 이슈별 그래프. 지난 4월 24일 라덕연 하한가 사태, 10월 18일 영풍제지 사태 등 각종 사건·사고로도 다사다난했다. 자료=거래소. 11~12월 상승률, &#39;G7+亞&#39; 중 1위.\n",
      "    \n",
      "    [4]\n",
      "    title:지금 시장에서 가장 핫한 이슈와 관련주 총정리 - 매일경제\n",
      "    content:오늘 16시 기준으로 화제가 되고 있는 <b>이슈는</b> 빅스텝, HLB그룹, 폐배터리 등인 것으로 나타났으며, 기관의 경우는 XR, 아이폰, 이미지센서 등에 이목이 집중된 것으로 분석됐다. 외국인에게 이슈가 되는 것은 폐배터리, 지진, 로봇 등인 것으로 분석됐다. 투자자들은 씽크풀을 통해 AI가 실시간으로 포착한 이슈 외에도 매일 아침 투자 유망 종목을 무료로 제공받을 수 있으며, 내 종목에 대한 최적의 매매타이밍도 무료로 조회해 볼 수 있다.\n",
      "    \n",
      "\n",
      "===============================\n",
      "\n",
      "Q: 최근 주식 시장에서 많이 상승한 산업에 대해 정리해줘\n",
      "A: 최근 주식 시장에서 많이 상승한 산업은 다음과 같이 정리할 수 있습니다:\n",
      "1. AI 기술을 활용한 의료 영상 해석, 진단 지원, 신약 개발 사업을 하는 국내 업체들이 해외에서 기술력을 인정받아 큰 폭의 주가 상승세를 보였습니다.\n",
      "2. AI 기술을 다양한 산업에 활용함에 따라 AI 반도체의 사용이 확대되면서 관련주들도 주목을 받았습니다.\n",
      "3. 2차전지 관련주인 에코프로, 금양, 코스모신소재, 삼아알미늄, 영풍제지 등이 최근 한국 주식시장에서 가장 많이 상승한 종목으로 나타났습니다.\n",
      "D: \n",
      "    [0]\n",
      "    title:Google Finance - 주식 시장가, 실시간 시세, 비즈니스 뉴스\n",
      "    content:Google Finance는 실시간 시장 시세와 국제 거래소, <b>최신</b> 금융 뉴스, 분석을 제공하여 충분한 정보를 바탕으로 <b>주식</b> 거래와 투자를 결정할 수 있도록 도와 드립니다.\n",
      "    \n",
      "    [1]\n",
      "    title:한국 주식시장 최고 상승 종목 - Investing.com\n",
      "    content:<b>시장</b> 데이터, 속보, 분석 등과 더불어 한국시장에서 최고 상승한 주식을 알아봅니다.\n",
      "    \n",
      "    [2]\n",
      "    title:[마켓트렌드] 7개의 키워드로 정리하는 2023 주식시장\n",
      "    content:AI 기술을 활용해 의료 영상 해석, 진단 지원, 신약 개발 사업을 하는 국내 업체들이 해외에서 기술력을 인정받으면서 올해 큰 폭의 <b>주가</b> <b>상승세를</b> 보였습니다. 온디바이스 AI 등 다양한 <b>산업에서</b> AI 기술을 활용함에 따라 AI 반도체의 사용이 확대되면서 관련주들도 함께 주목 을 받았습니다. GPU (그래픽처리장치)와 자체 AI칩을 생산하는 엔비디아의 주가는 505.48달러 (11월 20일)까지 치솟았죠.\n",
      "    \n",
      "    [3]\n",
      "    title:주식 시장 뉴스 - Investing.com\n",
      "    content:<b>주식</b> <b>시장</b> 뉴스. 미국을 비롯한 글로벌 <b>주식</b> <b>시장</b> 뉴스. 저희 뉴스 팀은 트레이더들이 꼭 알아야 할 전 세계의 시장을 움직일 이슈를 보도합니다. 실적 발표: 동기화 금융, 견고한 1분기 실적 발표, 성장세 주목. By Investing.com • 5분 전. Synchrony Financial (SYF)은 전략적 사업 추진에 따른 상당한...\n",
      "    \n",
      "    [4]\n",
      "    title:10년간 가장 많이 오른 주식 20종목 | 텐배거의 비결은?\n",
      "    content:지난 10년간 한국 <b>주식시장에서</b> 가장 <b>많이</b> <b>상승한</b> 10개 종목은 에코프로, 금양, 코스모신소재, 삼아알미늄, 영풍제지 등으로 10개 종목 중 8개 종목이 2차전지 관련주입니다. <b>최근</b> 실적보다 앞서 주가가 큰 폭으로 상승하면서 주가 과열논란도 있지만, 2차전지가 현재 한국에서 가장 성장하고 있는 <b>산업임을</b> 주가로 확인할 수 있습니다. 그리고 2차전지와 함께 반도체, 바이오, 엔터종목이 수익률 상위 종목의 거의 대부분을 차지하고 있습니다. 이들 몇 개 업종에 최고 수익률 종목이 집중되어 있다는 점 외에도, 대부분 시총 1,000억원 미만의 소형주에서 텐배거 이상의 종목들이 나왔다는 점도 주목할 만합니다.\n",
      "    \n",
      "\n",
      "===============================\n",
      "\n"
     ]
    }
   ],
   "source": [
    "query_list = [\"삼성 전자 관련 최근 뉴스 이슈를 요약해줘\",\n",
    "              \"최근 코스피 시장에서 가장 이슈가 뭐야?\",\n",
    "              \"최근 주식 시장에서 많이 상승한 산업에 대해 정리해줘\"]\n",
    "\n",
    "for q in query_list:\n",
    "  print(f\"Q: {q}\")\n",
    "  related_docs, answer = answer_based_web_search(q)\n",
    "  print(f\"A: {answer}\")\n",
    "  print(f\"D: {related_docs}\")\n",
    "  print(\"\\n===============================\\n\")"
   ]
  }
 ],
 "metadata": {
  "colab": {
   "provenance": []
  },
  "kernelspec": {
   "display_name": "Python 3",
   "name": "python3"
  },
  "language_info": {
   "name": "python"
  }
 },
 "nbformat": 4,
 "nbformat_minor": 0
}
