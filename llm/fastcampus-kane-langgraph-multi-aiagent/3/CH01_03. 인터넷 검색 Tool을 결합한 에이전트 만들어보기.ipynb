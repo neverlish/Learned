{
 "cells": [
  {
   "cell_type": "markdown",
   "id": "67e29164-e999-4d7a-85bc-2e32f3629456",
   "metadata": {},
   "source": [
    "#### **상태 설정**"
   ]
  },
  {
   "cell_type": "code",
   "execution_count": 1,
   "id": "8cf7e07c-617c-4b16-8efc-4ddf6f055eb8",
   "metadata": {
    "scrolled": true
   },
   "outputs": [],
   "source": [
    "from typing import Annotated\n",
    "from typing_extensions import TypedDict\n",
    "from langgraph.graph.message import add_messages\n",
    "\n",
    "class State(TypedDict):\n",
    "    messages: Annotated[list, add_messages]"
   ]
  },
  {
   "cell_type": "markdown",
   "id": "0882f558-5612-4acd-88fc-4a9728849499",
   "metadata": {},
   "source": [
    "#### **ToolNode로 도구 노드 구축**"
   ]
  },
  {
   "cell_type": "code",
   "execution_count": 2,
   "id": "c2761aad-b474-46d1-9ae4-4ec6a23db6d0",
   "metadata": {},
   "outputs": [],
   "source": [
    "from langchain_community.tools.tavily_search import TavilySearchResults\n",
    "from langgraph.prebuilt import ToolNode, tools_condition\n",
    "\n",
    "tool = TavilySearchResults(max_results=2)\n",
    "tools = [tool]\n",
    "tool_node = ToolNode(tools)"
   ]
  },
  {
   "cell_type": "markdown",
   "id": "ac8da11e-b181-4ad0-8eaf-872bc88cc08c",
   "metadata": {
    "jp-MarkdownHeadingCollapsed": true
   },
   "source": [
    "#### **Tool Node가 무엇일까**"
   ]
  },
  {
   "cell_type": "code",
   "execution_count": 3,
   "id": "1986281a-557b-4373-bbd4-4bffe84456d9",
   "metadata": {},
   "outputs": [],
   "source": [
    "import json\n",
    "\n",
    "from langchain_core.messages import ToolMessage\n",
    "\n",
    "class BasicToolNode:\n",
    "    \"\"\"A node that runs the tools requested in the last AIMessage.\"\"\"\n",
    "\n",
    "    def __init__(self, tools: list) -> None:\n",
    "        self.tools_by_name = {tool.name: tool for tool in tools}\n",
    "\n",
    "    def __call__(self, inputs: dict):\n",
    "        if messages := inputs.get(\"messages\", []):\n",
    "            message = messages[-1]\n",
    "        else:\n",
    "            raise ValueError(\"No message found in input\")\n",
    "        outputs = []\n",
    "        for tool_call in message.tool_calls:\n",
    "            tool_result = self.tools_by_name[tool_call[\"name\"]].invoke(\n",
    "                tool_call[\"args\"]\n",
    "            )\n",
    "            outputs.append(\n",
    "                ToolMessage(\n",
    "                    content=json.dumps(tool_result),\n",
    "                    name=tool_call[\"name\"],\n",
    "                    tool_call_id=tool_call[\"id\"],\n",
    "                )\n",
    "            )\n",
    "        return {\"messages\": outputs}"
   ]
  },
  {
   "cell_type": "markdown",
   "id": "d957217d-6f18-4d51-8078-a51fb933fc73",
   "metadata": {},
   "source": [
    "#### **LLM 챗봇 설정**"
   ]
  },
  {
   "cell_type": "code",
   "execution_count": 4,
   "id": "f540a6bb-d1af-4524-964e-6262d5c41b77",
   "metadata": {},
   "outputs": [],
   "source": [
    "from langchain_openai import ChatOpenAI\n",
    "\n",
    "llm = ChatOpenAI(model=\"gpt-4o-mini\")\n",
    "llm_with_tools = llm.bind_tools(tools)\n",
    "\n",
    "def chatbot(state: State):\n",
    "    result = llm_with_tools.invoke(state[\"messages\"])\n",
    "    return {\"messages\": [result]}"
   ]
  },
  {
   "cell_type": "markdown",
   "id": "17a32949-d663-47e0-9304-24a16ee8baad",
   "metadata": {},
   "source": [
    "#### **그래프 구축**"
   ]
  },
  {
   "cell_type": "code",
   "execution_count": 5,
   "id": "517cda6b-cbec-4034-9957-995751f1598f",
   "metadata": {},
   "outputs": [],
   "source": [
    "from langgraph.graph import StateGraph\n",
    "\n",
    "graph_builder = StateGraph(State)\n",
    "\n",
    "graph_builder.add_node(\"chatbot\", chatbot)\n",
    "graph_builder.add_node(\"tools\", tool_node)\n",
    "\n",
    "graph_builder.add_edge(\"tools\", \"chatbot\")\n",
    "graph_builder.add_conditional_edges(\"chatbot\", tools_condition)\n",
    "\n",
    "graph_builder.set_entry_point(\"chatbot\")\n",
    "graph = graph_builder.compile()"
   ]
  },
  {
   "cell_type": "markdown",
   "id": "3532270c-95ee-4f29-b8c8-e6cc3fac4347",
   "metadata": {},
   "source": [
    "**인터넷 검색이 필요한 질문**"
   ]
  },
  {
   "cell_type": "code",
   "execution_count": 6,
   "id": "d261bc3e-cc7a-4c32-8eb4-a61adb5b0e66",
   "metadata": {},
   "outputs": [
    {
     "data": {
      "text/plain": [
       "{'messages': [HumanMessage(content='지금 한국 대통령은 누구야?', additional_kwargs={}, response_metadata={}, id='5dd8f85a-86bb-4fd1-96ef-b1e903c7b86e'),\n",
       "  AIMessage(content='', additional_kwargs={'tool_calls': [{'id': 'call_T70CYAN9vn5scguaD97bMjxw', 'function': {'arguments': '{\"query\":\"현재 한국 대통령\"}', 'name': 'tavily_search_results_json'}, 'type': 'function'}], 'refusal': None}, response_metadata={'token_usage': {'completion_tokens': 21, 'prompt_tokens': 87, 'total_tokens': 108, 'completion_tokens_details': {'accepted_prediction_tokens': 0, 'audio_tokens': 0, 'reasoning_tokens': 0, 'rejected_prediction_tokens': 0}, 'prompt_tokens_details': {'audio_tokens': 0, 'cached_tokens': 0}}, 'model_name': 'gpt-4o-mini-2024-07-18', 'system_fingerprint': 'fp_b376dfbbd5', 'finish_reason': 'tool_calls', 'logprobs': None}, id='run-07f9500a-23f2-4e68-ab9d-00ace0923c03-0', tool_calls=[{'name': 'tavily_search_results_json', 'args': {'query': '현재 한국 대통령'}, 'id': 'call_T70CYAN9vn5scguaD97bMjxw', 'type': 'tool_call'}], usage_metadata={'input_tokens': 87, 'output_tokens': 21, 'total_tokens': 108, 'input_token_details': {'audio': 0, 'cache_read': 0}, 'output_token_details': {'audio': 0, 'reasoning': 0}}),\n",
       "  ToolMessage(content='[{\"title\": \"대한민국 대통령 목록 - 위키백과, 우리 모두의 백과사전\", \"url\": \"https://ko.wikipedia.org/wiki/%EB%8C%80%ED%95%9C%EB%AF%BC%EA%B5%AD_%EB%8C%80%ED%86%B5%EB%A0%B9_%EB%AA%A9%EB%A1%9D\", \"content\": \"1·2·3 이승만\\\\n4 윤보선\\\\n5·6·7·8·9 박정희\\\\n10 최규하\\\\n11·12 전두환\\\\n13 노태우\\\\n\\\\n| \\\\n\\\\n|\\\\n| \\\\n\\\\n14 김영삼\\\\n15 김대중\\\\n16 노무현\\\\n17 이명박\\\\n18 박근혜\\\\n19 문재인\\\\n20 윤석열\\\\n\\\\n|\\\\n| \\\\n\\\\n고조선\\\\n부여\\\\n고구려\\\\n백제\\\\n신라\\\\n가야\\\\n탐라\\\\n발해\\\\n후삼국\\\\n고려\\\\n조선\\\\n대한제국\\\\n일제강점기\\\\n조선 이왕\\\\n대한민국 임시정부\\\\n대한민국\\\\n조선민주주의인민공화국\\\\n\\\\n|\\\\n| \\\\n*   v\\\\n*   t\\\\n*   e\\\\n대한민국의 대통령과 3부요인 및 헌법기관장\\\\n|\\\\n| --- |\\\\n| \\\\n\\\\n대통령(윤석열)\\\\n국회의장(우원식)\\\\n대법원장(조희대)\\\\n헌법재판소장(공석)\\\\n국무총리(한덕수)\\\\n중앙선거관리위원장(노태악)\\\\n\\\\n|\\\\n원본 주소 \\\\\"https://ko.wikipedia.org/w/index.php?title=대한민국_대통령_목록&oldid=38563423\\\\\"\\\\n분류:\\\\n\\\\n대한민국의 대통령\\\\n대한민국 정치에 관한 목록\\\\n대통령 목록\\\\n대한민국 사람 목록\\\\n\\\\n숨은 분류: [...] 이승만, 윤보선, 최규하는 대통령 임기 도중 사임했고, 박정희는 대한민국의 대통령 중 유일하게 임기 도중 암살당했다. 대한민국 최초의 여성 대통령 박근혜는 박근혜-최순실 게이트에 관한 여러 논란으로 탄핵되었으며, 이전에도 노무현에 대한 탄핵소추안이 통과된 사례는 있었지만 당시에는 헌법재판소에 의해 기각되었다.[2] 1960년 4월 허정 외무부장관은 대한민국 역사상 처음으로 이승만의 사임 이후 대통령 권한대행으로 임명되며 대통령의 권한을 대행하는 최초의 선례를 세웠다.[3]\\\\n2022년 5월 10일 취임한 윤석열 대통령이 윤석열 대통령 탄핵소추로 인해 대통령 직무가 정지되었으며, 그 결과 한덕수 국무총리가 권한대행을 맡았다.[4] 그러나 한덕수 국무총리 탄핵소추가 국회에서 가결되며 그의 모든 직무가 정지되었으며, 권한대행 2순위인 기획재정부 장관 최상목이 권한대행을 이어받아 수행하고 있다.[5]\\\\n대통령 목록\\\\n| 번[a] | 초상 | 이름 [...] 자유한국당(2017)\\\\n| 18 | 000000002013-02-25-00002013년 2월 25일 ~ 000000002016-12-09-00002016년 12월 9일[g] | 2012 / 직선 51.55% |\\\\n| 황교안 국무총리 권한대행 000000002016-12-09-00002016년 12월 9일 ~ 000000002017-05-10-00002017년 5월 10일[g] |\\\\n| 12 |  | 문재인\\\\n(b. 1953)\\\\n[31] |  | 더불어민주당(2017~2022) | 19 | 000000002017-05-10-00002017년 5월 10일[h] ~ 000000002022-05-09-00002022년 5월 9일 | 2017 / 직선 41.08% |\\\\n| 13 |  | 윤석열\\\\n(b. 1960)\", \"score\": 0.8190992}, {\"title\": \"대한민국 대통령 - 위키백과, 우리 모두의 백과사전\", \"url\": \"https://ko.wikipedia.org/wiki/%EB%8C%80%ED%95%9C%EB%AF%BC%EA%B5%AD_%EB%8C%80%ED%86%B5%EB%A0%B9\", \"content\": \"\\\\\"대통령은 정치활동 자유보다 선거중립의무 우선” 헌재, 노 대통령 헌법소원 기각, 법률신문, 2008.01.21 Archived 2018년 3월 10일 - 웨이백 머신\\\\n외부 링크[편집]\\\\n 위키미디어 공용에 대한민국 대통령 관련 미디어 분류가 있습니다.\\\\n한국의 대통령 - 두산세계대백과사전\\\\n대통령기록관 - 행정안전부\\\\nvte\\\\n대한민국 역대 대통령(목록)\\\\n1·2·3 이승만4 윤보선5·6·7·8·9 박정희10 최규하11·12 전두환13 노태우\\\\n14 김영삼15 김대중16 노무현17 이명박18 박근혜19 문재인20 윤석열\\\\n고조선부여고구려백제신라가야탐라발해후삼국고려조선대한제국일제강점기조선 이왕대한민국 임시정부대한민국조선민주주의인민공화국\\\\nvte\\\\n대한민국의 역대 대통령 권한대행(목록)\\\\n허정곽상훈허정백낙준박정희\\\\n최규하박충훈고건황교안한덕수최상목\\\\n대통령\\\\n고조선부여고구려백제신라가야탐라발해후삼국고려조선대한제국일제강점기조선 이왕대한민국 임시정부대한민국조선민주주의인민공화국\\\\nvte\\\\n대한민국의 대통령 선거\\\\n제2대 [...] 본문으로 이동\\\\n주 메뉴\\\\n검색\\\\n기부\\\\n계정 만들기\\\\n로그인\\\\n개인 도구\\\\n목차 토글\\\\n대한민국 대통령\\\\n50개 언어\\\\n문서\\\\n토론\\\\n읽기\\\\n편집\\\\n역사 보기\\\\n도구\\\\n위키백과, 우리 모두의 백과사전.\\\\n이 문서는 대한민국의 대통령에 관한 것입니다. 대한민국 대통령 직위를 수행한 인물들의 목록에 대해서는 대한민국 대통령 목록 문서를 참고하십시오.\\\\n대한민국 대통령\\\\n대한민국 대통령의 문장\\\\n대한민국 대통령의 기\\\\n현직:\\\\n윤석열(20대)\\\\n\\xa02022년 5월 10일 취임\\\\n권한대행:\\\\n최상목\\\\n\\xa02024년 12월 27일 취임\\\\n관저  대한민국 대통령실\\\\n임기  5년 (단임제)\\\\n초대  이승만\\\\n설치일 1948년 8월 15일\\\\n웹사이트    http://www.president.go.kr/\\\\n대한민국\\\\n대한민국의 정치\\\\n법\\\\n입법부\\\\n행정부\\\\n사법부\\\\n선거\\\\n정당\\\\n한반도 분쟁\\\\n대외 관계\\\\n대한민국 포털\\\\n다른 나라\\\\nvte [...] 현재 생존하고 있는 전직 대통령은 이명박, 박근혜, 문재인으로 총 3명이지만, 이중 문재인 대통령을 제외한 두 대통령은 전직 대통령에 대한 예우가 박탈되었다. 박근혜는 사면 복권으로 출소하면서 경호 기간내여서 경호 예우는 받게 되었다. 이명박은 구속 수감되었으나, 배우자가 살아있어 경호기간 내에 배우자가 예우에 따른 경호를 계속 받고 있다. 전직 대통령 예우 박탈 사유는 이명박은 재임기간 중 직권남용, 뇌물수수, 대통령기록물법 위반 등 여러 가지 혐의, 박근혜는 탄핵으로 인해 대통령 예우가 각각 박탈되었다.\\\\n장례와 안장[편집]\", \"score\": 0.798077}]', name='tavily_search_results_json', id='47ed6dc5-9736-4e8e-bc94-ea249d04e8d9', tool_call_id='call_T70CYAN9vn5scguaD97bMjxw', artifact={'query': '현재 한국 대통령', 'follow_up_questions': None, 'answer': None, 'images': [], 'results': [{'url': 'https://ko.wikipedia.org/wiki/%EB%8C%80%ED%95%9C%EB%AF%BC%EA%B5%AD_%EB%8C%80%ED%86%B5%EB%A0%B9_%EB%AA%A9%EB%A1%9D', 'title': '대한민국 대통령 목록 - 위키백과, 우리 모두의 백과사전', 'content': '1·2·3 이승만\\n4 윤보선\\n5·6·7·8·9 박정희\\n10 최규하\\n11·12 전두환\\n13 노태우\\n\\n| \\n\\n|\\n| \\n\\n14 김영삼\\n15 김대중\\n16 노무현\\n17 이명박\\n18 박근혜\\n19 문재인\\n20 윤석열\\n\\n|\\n| \\n\\n고조선\\n부여\\n고구려\\n백제\\n신라\\n가야\\n탐라\\n발해\\n후삼국\\n고려\\n조선\\n대한제국\\n일제강점기\\n조선 이왕\\n대한민국 임시정부\\n대한민국\\n조선민주주의인민공화국\\n\\n|\\n| \\n*   v\\n*   t\\n*   e\\n대한민국의 대통령과 3부요인 및 헌법기관장\\n|\\n| --- |\\n| \\n\\n대통령(윤석열)\\n국회의장(우원식)\\n대법원장(조희대)\\n헌법재판소장(공석)\\n국무총리(한덕수)\\n중앙선거관리위원장(노태악)\\n\\n|\\n원본 주소 \"https://ko.wikipedia.org/w/index.php?title=대한민국_대통령_목록&oldid=38563423\"\\n분류:\\n\\n대한민국의 대통령\\n대한민국 정치에 관한 목록\\n대통령 목록\\n대한민국 사람 목록\\n\\n숨은 분류: [...] 이승만, 윤보선, 최규하는 대통령 임기 도중 사임했고, 박정희는 대한민국의 대통령 중 유일하게 임기 도중 암살당했다. 대한민국 최초의 여성 대통령 박근혜는 박근혜-최순실 게이트에 관한 여러 논란으로 탄핵되었으며, 이전에도 노무현에 대한 탄핵소추안이 통과된 사례는 있었지만 당시에는 헌법재판소에 의해 기각되었다.[2] 1960년 4월 허정 외무부장관은 대한민국 역사상 처음으로 이승만의 사임 이후 대통령 권한대행으로 임명되며 대통령의 권한을 대행하는 최초의 선례를 세웠다.[3]\\n2022년 5월 10일 취임한 윤석열 대통령이 윤석열 대통령 탄핵소추로 인해 대통령 직무가 정지되었으며, 그 결과 한덕수 국무총리가 권한대행을 맡았다.[4] 그러나 한덕수 국무총리 탄핵소추가 국회에서 가결되며 그의 모든 직무가 정지되었으며, 권한대행 2순위인 기획재정부 장관 최상목이 권한대행을 이어받아 수행하고 있다.[5]\\n대통령 목록\\n| 번[a] | 초상 | 이름 [...] 자유한국당(2017)\\n| 18 | 000000002013-02-25-00002013년 2월 25일 ~ 000000002016-12-09-00002016년 12월 9일[g] | 2012 / 직선 51.55% |\\n| 황교안 국무총리 권한대행 000000002016-12-09-00002016년 12월 9일 ~ 000000002017-05-10-00002017년 5월 10일[g] |\\n| 12 |  | 문재인\\n(b. 1953)\\n[31] |  | 더불어민주당(2017~2022) | 19 | 000000002017-05-10-00002017년 5월 10일[h] ~ 000000002022-05-09-00002022년 5월 9일 | 2017 / 직선 41.08% |\\n| 13 |  | 윤석열\\n(b. 1960)', 'score': 0.8190992, 'raw_content': None}, {'url': 'https://ko.wikipedia.org/wiki/%EB%8C%80%ED%95%9C%EB%AF%BC%EA%B5%AD_%EB%8C%80%ED%86%B5%EB%A0%B9', 'title': '대한민국 대통령 - 위키백과, 우리 모두의 백과사전', 'content': '\"대통령은 정치활동 자유보다 선거중립의무 우선” 헌재, 노 대통령 헌법소원 기각, 법률신문, 2008.01.21 Archived 2018년 3월 10일 - 웨이백 머신\\n외부 링크[편집]\\n 위키미디어 공용에 대한민국 대통령 관련 미디어 분류가 있습니다.\\n한국의 대통령 - 두산세계대백과사전\\n대통령기록관 - 행정안전부\\nvte\\n대한민국 역대 대통령(목록)\\n1·2·3 이승만4 윤보선5·6·7·8·9 박정희10 최규하11·12 전두환13 노태우\\n14 김영삼15 김대중16 노무현17 이명박18 박근혜19 문재인20 윤석열\\n고조선부여고구려백제신라가야탐라발해후삼국고려조선대한제국일제강점기조선 이왕대한민국 임시정부대한민국조선민주주의인민공화국\\nvte\\n대한민국의 역대 대통령 권한대행(목록)\\n허정곽상훈허정백낙준박정희\\n최규하박충훈고건황교안한덕수최상목\\n대통령\\n고조선부여고구려백제신라가야탐라발해후삼국고려조선대한제국일제강점기조선 이왕대한민국 임시정부대한민국조선민주주의인민공화국\\nvte\\n대한민국의 대통령 선거\\n제2대 [...] 본문으로 이동\\n주 메뉴\\n검색\\n기부\\n계정 만들기\\n로그인\\n개인 도구\\n목차 토글\\n대한민국 대통령\\n50개 언어\\n문서\\n토론\\n읽기\\n편집\\n역사 보기\\n도구\\n위키백과, 우리 모두의 백과사전.\\n이 문서는 대한민국의 대통령에 관한 것입니다. 대한민국 대통령 직위를 수행한 인물들의 목록에 대해서는 대한민국 대통령 목록 문서를 참고하십시오.\\n대한민국 대통령\\n대한민국 대통령의 문장\\n대한민국 대통령의 기\\n현직:\\n윤석열(20대)\\n\\xa02022년 5월 10일 취임\\n권한대행:\\n최상목\\n\\xa02024년 12월 27일 취임\\n관저  대한민국 대통령실\\n임기  5년 (단임제)\\n초대  이승만\\n설치일 1948년 8월 15일\\n웹사이트    http://www.president.go.kr/\\n대한민국\\n대한민국의 정치\\n법\\n입법부\\n행정부\\n사법부\\n선거\\n정당\\n한반도 분쟁\\n대외 관계\\n대한민국 포털\\n다른 나라\\nvte [...] 현재 생존하고 있는 전직 대통령은 이명박, 박근혜, 문재인으로 총 3명이지만, 이중 문재인 대통령을 제외한 두 대통령은 전직 대통령에 대한 예우가 박탈되었다. 박근혜는 사면 복권으로 출소하면서 경호 기간내여서 경호 예우는 받게 되었다. 이명박은 구속 수감되었으나, 배우자가 살아있어 경호기간 내에 배우자가 예우에 따른 경호를 계속 받고 있다. 전직 대통령 예우 박탈 사유는 이명박은 재임기간 중 직권남용, 뇌물수수, 대통령기록물법 위반 등 여러 가지 혐의, 박근혜는 탄핵으로 인해 대통령 예우가 각각 박탈되었다.\\n장례와 안장[편집]', 'score': 0.798077, 'raw_content': None}], 'response_time': 1.25}),\n",
       "  AIMessage(content='현재 대한민국의 대통령은 **윤석열**입니다. 그는 2022년 5월 10일에 취임하였습니다. 추가 정보는 [여기](https://ko.wikipedia.org/wiki/%EB%8C%80%ED%95%9C%EB%AF%BC%EA%B5%AD_%EB%8C%80%ED%86%B5%EB%A0%B9)에서 확인하실 수 있습니다.', additional_kwargs={'refusal': None}, response_metadata={'token_usage': {'completion_tokens': 97, 'prompt_tokens': 2032, 'total_tokens': 2129, 'completion_tokens_details': {'accepted_prediction_tokens': 0, 'audio_tokens': 0, 'reasoning_tokens': 0, 'rejected_prediction_tokens': 0}, 'prompt_tokens_details': {'audio_tokens': 0, 'cached_tokens': 0}}, 'model_name': 'gpt-4o-mini-2024-07-18', 'system_fingerprint': 'fp_b376dfbbd5', 'finish_reason': 'stop', 'logprobs': None}, id='run-1dc68475-10d4-4257-a16a-bf2cd163e154-0', usage_metadata={'input_tokens': 2032, 'output_tokens': 97, 'total_tokens': 2129, 'input_token_details': {'audio': 0, 'cache_read': 0}, 'output_token_details': {'audio': 0, 'reasoning': 0}})]}"
      ]
     },
     "execution_count": 6,
     "metadata": {},
     "output_type": "execute_result"
    }
   ],
   "source": [
    "graph.invoke({\"messages\": {\"role\": \"user\", \"content\": \"지금 한국 대통령은 누구야?\"}})"
   ]
  },
  {
   "cell_type": "markdown",
   "id": "76572368-5cd1-4317-bc3e-247203ff28a5",
   "metadata": {},
   "source": [
    "**LLM이 답할 수 있는 질문**"
   ]
  },
  {
   "cell_type": "code",
   "execution_count": 7,
   "id": "6dd9acc9-84b0-4a30-b07d-cb99ed452c45",
   "metadata": {},
   "outputs": [
    {
     "data": {
      "text/plain": [
       "{'messages': [HumanMessage(content='마이크로소프트가 어떤 회사야?', additional_kwargs={}, response_metadata={}, id='cca5b84c-fb97-4f7c-bf23-1b5afc9e22de'),\n",
       "  AIMessage(content='마이크로소프트(Microsoft)는 미국의 다국적 기술 기업으로, 1975년에 빌 게이츠와 폴 앨런에 의해 설립되었습니다. 본사는 워싱턴주 레드몬드에 위치하고 있으며, 소프트웨어, 하드웨어, 전자 기기 등 다양한 분야에서 활동하고 있습니다.\\n\\n마이크로소프트의 가장 잘 알려진 제품에는 운영 체제인 Windows, 생산성 소프트웨어인 Microsoft Office, 클라우드 서비스인 Azure, 그리고 Xbox 게임 콘솔 등이 있습니다. 또한, 최근에는 인공지능, 머신러닝, 데이터 분석 등 첨단 기술 분야에도 많은 투자를 하고 있습니다.\\n\\n마이크로소프트는 기술 혁신을 통해 개인과 기업에 다양한 솔루션을 제공하며, 전 세계적으로 큰 영향력을 미치고 있는 기업입니다.', additional_kwargs={'refusal': None}, response_metadata={'token_usage': {'completion_tokens': 180, 'prompt_tokens': 89, 'total_tokens': 269, 'completion_tokens_details': {'accepted_prediction_tokens': 0, 'audio_tokens': 0, 'reasoning_tokens': 0, 'rejected_prediction_tokens': 0}, 'prompt_tokens_details': {'audio_tokens': 0, 'cached_tokens': 0}}, 'model_name': 'gpt-4o-mini-2024-07-18', 'system_fingerprint': 'fp_b376dfbbd5', 'finish_reason': 'stop', 'logprobs': None}, id='run-1097f11d-87ea-4b14-826e-febc66cc3745-0', usage_metadata={'input_tokens': 89, 'output_tokens': 180, 'total_tokens': 269, 'input_token_details': {'audio': 0, 'cache_read': 0}, 'output_token_details': {'audio': 0, 'reasoning': 0}})]}"
      ]
     },
     "execution_count": 7,
     "metadata": {},
     "output_type": "execute_result"
    }
   ],
   "source": [
    "graph.invoke({\"messages\": {\"role\": \"user\", \"content\": \"마이크로소프트가 어떤 회사야?\"}})"
   ]
  }
 ],
 "metadata": {
  "kernelspec": {
   "display_name": "Python 3 (ipykernel)",
   "language": "python",
   "name": "python3"
  },
  "language_info": {
   "codemirror_mode": {
    "name": "ipython",
    "version": 3
   },
   "file_extension": ".py",
   "mimetype": "text/x-python",
   "name": "python",
   "nbconvert_exporter": "python",
   "pygments_lexer": "ipython3",
   "version": "3.11.6"
  }
 },
 "nbformat": 4,
 "nbformat_minor": 5
}
