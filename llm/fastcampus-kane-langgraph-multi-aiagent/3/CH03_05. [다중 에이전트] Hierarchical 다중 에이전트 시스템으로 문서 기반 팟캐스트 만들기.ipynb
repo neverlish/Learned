{
 "cells": [
  {
   "cell_type": "code",
   "execution_count": 1,
   "id": "e7d7d308-56a8-4ed8-9729-f08e56b93278",
   "metadata": {},
   "outputs": [
    {
     "name": "stdout",
     "output_type": "stream",
     "text": [
      "Looking in indexes: https://pypi.org/simple, https://pypi.ngc.nvidia.com\n",
      "Requirement already satisfied: pydub in /Users/hyeonjinho/.pyenv/versions/3.11.6/lib/python3.11/site-packages (0.25.1)\n"
     ]
    }
   ],
   "source": [
    "!pip install pydub"
   ]
  },
  {
   "cell_type": "markdown",
   "id": "191ce682-4026-4595-94e3-4cbe4243a23f",
   "metadata": {},
   "source": [
    "#### **API 키 설정**"
   ]
  },
  {
   "cell_type": "markdown",
   "id": "755ecdd3-6bbd-4280-8917-19e23664e9c1",
   "metadata": {},
   "source": [
    "#### **웹 검색과 스크래핑 도구 설정**"
   ]
  },
  {
   "cell_type": "code",
   "execution_count": 2,
   "id": "9cbcc6e7-91e4-4e0d-a912-8f7139f39b85",
   "metadata": {},
   "outputs": [
    {
     "name": "stderr",
     "output_type": "stream",
     "text": [
      "USER_AGENT environment variable not set, consider setting it to identify your requests.\n"
     ]
    }
   ],
   "source": [
    "from typing import Annotated, List\n",
    "\n",
    "from langchain_community.document_loaders import WebBaseLoader\n",
    "from langchain_community.tools.tavily_search import TavilySearchResults\n",
    "from langchain_core.tools import tool\n",
    "\n",
    "tavily_tool = TavilySearchResults(max_results=5)\n",
    "\n",
    "\n",
    "@tool\n",
    "def scrape_webpages(urls: List[str]) -> str:\n",
    "    \"\"\"Use requests and bs4 to scrape the provided web pages for detailed information.\"\"\"\n",
    "    loader = WebBaseLoader(urls)\n",
    "    docs = loader.load()\n",
    "    return \"\\n\\n\".join(\n",
    "        [\n",
    "            f'\\n{doc.page_content}\\n'\n",
    "            for doc in docs\n",
    "        ]\n",
    "    )"
   ]
  },
  {
   "cell_type": "markdown",
   "id": "5a1e5032-0677-42b5-8a5a-43b588ad8ea3",
   "metadata": {},
   "source": [
    "#### **OpenAI의 TTS API를 통한 TTS 도구 설정**"
   ]
  },
  {
   "cell_type": "code",
   "execution_count": 3,
   "id": "faf6df60-20e3-4d58-96c8-78d27ea8190d",
   "metadata": {},
   "outputs": [],
   "source": [
    "from langchain_core.tools import tool\n",
    "from openai import OpenAI\n",
    "from pathlib import Path\n",
    "\n",
    "@tool\n",
    "def text_to_speech(text: str, voice: str, output_filename: str) -> str:\n",
    "    \"\"\"\n",
    "    Converts text to speech using OpenAI's TTS API, saving the audio file locally with a dynamic filename.\n",
    "\n",
    "    Args:\n",
    "        text (str): The text to convert to speech.\n",
    "        voice (str): The voice model to use for speech synthesis. Options include:\n",
    "                     - 'alloy', 'echo', 'fable', 'onyx', 'nova', 'shimmer'.\n",
    "        output_filename (str): The name for the output audio file, including file extension (e.g., 'output.mp3').\n",
    "\n",
    "    Returns:\n",
    "        str: The path to the saved audio file.\n",
    "    \"\"\"\n",
    "    client = OpenAI()\n",
    "    speech_file_path = Path(output_filename)\n",
    "    response = client.audio.speech.create(model=\"tts-1-hd\", voice=voice, input=text)\n",
    "    response.stream_to_file(speech_file_path)\n",
    "    return str(speech_file_path)\n"
   ]
  },
  {
   "cell_type": "markdown",
   "id": "a9ef8a0b-9071-4ddf-bd93-ddb91bb45826",
   "metadata": {},
   "source": [
    "#### **주어진 여러 Segment별 오디오 트랙을 하나의 오디오 파일로 만드는 도구 설정**"
   ]
  },
  {
   "cell_type": "code",
   "execution_count": 4,
   "id": "954ac3b1-6849-4c2b-a2f9-f1ead644dd0a",
   "metadata": {},
   "outputs": [
    {
     "name": "stderr",
     "output_type": "stream",
     "text": [
      "/Users/hyeonjinho/.pyenv/versions/3.11.6/lib/python3.11/site-packages/pydub/utils.py:170: RuntimeWarning: Couldn't find ffmpeg or avconv - defaulting to ffmpeg, but may not work\n",
      "  warn(\"Couldn't find ffmpeg or avconv - defaulting to ffmpeg, but may not work\", RuntimeWarning)\n"
     ]
    }
   ],
   "source": [
    "from langchain_core.tools import tool\n",
    "from pydub import AudioSegment\n",
    "from typing import List\n",
    "\n",
    "@tool\n",
    "def edit_podcast_audio(segments: List[str], pauses_between_segments: int = 100, output_filename: str = \"final_podcast_episode.mp3\") -> str:\n",
    "    \"\"\"\n",
    "    Edits a podcast episode by combining audio segments with specified pauses between them, ensuring consistent volume.\n",
    "\n",
    "    Args:\n",
    "        segments (List[str]): List of paths to audio segment files.\n",
    "        pauses_between_segments (int): Duration of pause between segments in milliseconds. Default is 1000.\n",
    "        output_filename (str): The name for the output podcast file, including file extension (e.g., 'episode.mp3').\n",
    "\n",
    "    Returns:\n",
    "        str: The path to the saved podcast episode.\n",
    "    \"\"\"\n",
    "    podcast_episode = AudioSegment.silent(duration=0)  # Initialize an empty audio segment\n",
    "\n",
    "    for segment_path in segments:\n",
    "        segment = AudioSegment.from_file(segment_path)  # Load the segment\n",
    "        podcast_episode += AudioSegment.silent(duration=pauses_between_segments) + segment  # Append with pause\n",
    "\n",
    "    podcast_episode = podcast_episode.normalize()  # Normalize volume\n",
    "    podcast_episode.export(output_filename, format='mp3')  # Export the edited podcast\n",
    "\n",
    "    return output_filename\n"
   ]
  },
  {
   "cell_type": "markdown",
   "id": "6e8843e6-cf5a-49d1-b0ab-3078fa7beebf",
   "metadata": {},
   "source": [
    "#### **도구 리스트 정의**"
   ]
  },
  {
   "cell_type": "code",
   "execution_count": 5,
   "id": "38d441c7-c19a-4f0c-883b-00bb6e9411e1",
   "metadata": {},
   "outputs": [],
   "source": [
    "# Define the tools we want to use\n",
    "tools = [\n",
    "    tavily_tool,  # Built-in search tool via Tavily\n",
    "    scrape_webpages,\n",
    "    text_to_speech,  # Our custom text to speech tool\n",
    "    edit_podcast_audio # Audio Mix Tool\n",
    "]\n"
   ]
  },
  {
   "cell_type": "markdown",
   "id": "8499a196-9ee3-4fc1-980b-e738e631cb29",
   "metadata": {},
   "source": [
    "#### **하위 에이전트와 Supervisor 에이전트 설정 함수 정의**"
   ]
  },
  {
   "cell_type": "code",
   "execution_count": 6,
   "id": "a105a072-7147-4cbd-9f7d-7373089c28e9",
   "metadata": {},
   "outputs": [],
   "source": [
    "from typing import List, Optional\n",
    "from langchain.output_parsers.openai_functions import JsonOutputFunctionsParser\n",
    "from langchain_core.prompts import ChatPromptTemplate, MessagesPlaceholder\n",
    "from langchain_openai import ChatOpenAI\n",
    "\n",
    "from langgraph.graph import END, StateGraph, START\n",
    "from langchain_core.messages import HumanMessage\n",
    "\n",
    "\n",
    "def agent_node(state, agent, name):\n",
    "    result = agent.invoke(state)\n",
    "    return {\"messages\": [HumanMessage(content=result[\"messages\"][-1].content, name=name)]}\n",
    "\n",
    "\n",
    "def create_team_supervisor(llm: ChatOpenAI, system_prompt, members) -> str:\n",
    "    \"\"\"An LLM-based router.\"\"\"\n",
    "    options = [\"FINISH\"] + members\n",
    "    function_def = {\n",
    "        \"name\": \"route\",\n",
    "        \"description\": \"Select the next role.\",\n",
    "        \"parameters\": {\n",
    "            \"title\": \"routeSchema\",\n",
    "            \"type\": \"object\",\n",
    "            \"properties\": {\n",
    "                \"next\": {\n",
    "                    \"title\": \"Next\",\n",
    "                    \"anyOf\": [\n",
    "                        {\"enum\": options},\n",
    "                    ],\n",
    "                },\n",
    "            },\n",
    "            \"required\": [\"next\"],\n",
    "        },\n",
    "    }\n",
    "    prompt = ChatPromptTemplate.from_messages(\n",
    "        [\n",
    "            (\"system\", system_prompt),\n",
    "            MessagesPlaceholder(variable_name=\"messages\"),\n",
    "            (\n",
    "                \"system\",\n",
    "                \"Given the conversation above, who should act next?\"\n",
    "                \" Or should we FINISH? Select one of: {options}\",\n",
    "            ),\n",
    "        ]\n",
    "    ).partial(options=str(options), team_members=\", \".join(members))\n",
    "    return (\n",
    "        prompt\n",
    "        | llm.bind_functions(functions=[function_def], function_call=\"route\")\n",
    "        | JsonOutputFunctionsParser()\n",
    "    )"
   ]
  },
  {
   "cell_type": "markdown",
   "id": "dd1c708d-29d2-462a-961c-dca891188483",
   "metadata": {},
   "source": [
    "#### **Research Team 구성하기**"
   ]
  },
  {
   "cell_type": "code",
   "execution_count": 7,
   "id": "aa783b58-07b1-42b4-8c17-c076b89aea9d",
   "metadata": {},
   "outputs": [
    {
     "name": "stderr",
     "output_type": "stream",
     "text": [
      "/var/folders/1x/st3vh8xs6715dcgqc1gk2hhh0000gn/T/ipykernel_60878/4061980305.py:48: LangChainDeprecationWarning: The method `BaseChatOpenAI.bind_functions` was deprecated in langchain-openai 0.2.1 and will be removed in 1.0.0. Use :meth:`~langchain_openai.chat_models.base.ChatOpenAI.bind_tools` instead.\n",
      "  | llm.bind_functions(functions=[function_def], function_call=\"route\")\n"
     ]
    }
   ],
   "source": [
    "import functools\n",
    "import operator\n",
    "from typing_extensions import TypedDict\n",
    "\n",
    "from langchain_core.messages import BaseMessage, HumanMessage\n",
    "from langchain_openai.chat_models import ChatOpenAI\n",
    "from langgraph.prebuilt import create_react_agent\n",
    "\n",
    "# ResearchTeam graph state\n",
    "class ResearchTeamState(TypedDict):\n",
    "    # A message is added after each team member finishes\n",
    "    messages: Annotated[List[BaseMessage], operator.add]\n",
    "    # The team members are tracked so they are aware of\n",
    "    # the others' skill-sets\n",
    "    team_members: List[str]\n",
    "    # Used to route work. The supervisor calls a function\n",
    "    # that will update this every time it makes a decision\n",
    "    next: str\n",
    "\n",
    "\n",
    "llm = ChatOpenAI(model=\"gpt-4o-mini\")\n",
    "\n",
    "search_system = \"\"\"\n",
    "You are a search specialist in a research team. \n",
    "Your role is to use the Tavily search tool to find relevant and up-to-date information on the given topic to generate the podcast.\n",
    "\n",
    "Your tasks:\n",
    "1. Analyze the user's request or question.\n",
    "2. Formulate effective search queries based on the request.\n",
    "3. Use the Tavily search tool to find information.\n",
    "4. Summarize the most relevant findings concisely.\n",
    "5. If the search results are insufficient, consider refining your search query and trying again.\n",
    "\n",
    "Always strive for accuracy and relevance in your search results. \n",
    "If you can't find satisfactory information, be honest about the limitations of your search.\n",
    "\"\"\"\n",
    "\n",
    "search_agent = create_react_agent(llm, tools=[tavily_tool], state_modifier=search_system)\n",
    "search_node = functools.partial(agent_node, agent=search_agent, name=\"Search\")\n",
    "\n",
    "webscraper_system = \"\"\"\n",
    "You are a web scraping specialist in a research team. \n",
    "Your role is to extract detailed information from specific web pages using the scrape_webpages tool.\n",
    "\n",
    "Your tasks:\n",
    "1. Analyze the URLs or web pages provided, usually as a result of the Search agent's findings.\n",
    "2. Use the scrape_webpages tool to extract relevant content from these pages.\n",
    "3. Process and summarize the scraped content, focusing on the most pertinent information related to the research topic.\n",
    "4. If the scraped content is not satisfactory, consider requesting different URLs from the Search agent or suggesting refinements to the search query.\n",
    "\n",
    "Ensure that you respect website terms of service and ethical scraping practices. Always summarize and contextualize the information you scrape, don't just return raw data.\n",
    "\"\"\"\n",
    "\n",
    "research_agent = create_react_agent(llm, tools=[scrape_webpages], state_modifier=webscraper_system)\n",
    "research_node = functools.partial(agent_node, agent=research_agent, name=\"WebScraper\")\n",
    "\n",
    "supervisor_agent = create_team_supervisor(\n",
    "    llm,\n",
    "    \"You are a supervisor tasked with managing a conversation between the\"\n",
    "    \" following workers:  Search, WebScraper. Given the following user request,\"\n",
    "    \" respond with the worker to act next. Each worker will perform a\"\n",
    "    \" task and respond with their results and status. When finished,\"\n",
    "    \" respond with FINISH.\",\n",
    "    [\"Search\", \"WebScraper\"],\n",
    ")"
   ]
  },
  {
   "cell_type": "markdown",
   "id": "1a6db0f8-2088-4931-aa05-1893ed921d66",
   "metadata": {},
   "source": [
    "#### **Research Team 그래프 구축 및 상위 레이어와의 연결 Chain 정의**"
   ]
  },
  {
   "cell_type": "code",
   "execution_count": 8,
   "id": "3a7d2341-016a-4a6c-a756-f8995c02970a",
   "metadata": {},
   "outputs": [],
   "source": [
    "research_graph = StateGraph(ResearchTeamState)\n",
    "research_graph.add_node(\"Search\", search_node)\n",
    "research_graph.add_node(\"WebScraper\", research_node)\n",
    "research_graph.add_node(\"supervisor\", supervisor_agent)\n",
    "\n",
    "# Define the control flow\n",
    "research_graph.add_edge(\"Search\", \"supervisor\")\n",
    "research_graph.add_edge(\"WebScraper\", \"supervisor\")\n",
    "research_graph.add_conditional_edges(\n",
    "    \"supervisor\",\n",
    "    lambda x: x[\"next\"],\n",
    "    {\"Search\": \"Search\", \"WebScraper\": \"WebScraper\", \"FINISH\": END},\n",
    ")\n",
    "\n",
    "\n",
    "research_graph.add_edge(START, \"supervisor\")\n",
    "chain = research_graph.compile()\n",
    "\n",
    "\n",
    "# The following functions interoperate between the top level graph state\n",
    "# and the state of the research sub-graph\n",
    "# this makes it so that the states of each graph don't get intermixed\n",
    "def enter_chain(message: str):\n",
    "    results = {\n",
    "        \"messages\": [HumanMessage(content=message)],\n",
    "    }\n",
    "    return results\n",
    "\n",
    "\n",
    "research_chain = enter_chain | chain"
   ]
  },
  {
   "cell_type": "code",
   "execution_count": 9,
   "id": "2bdff963-bbfa-440f-8ede-2c7087214177",
   "metadata": {},
   "outputs": [
    {
     "data": {
      "image/png": "[encoded data removed]",
      "text/plain": [
       "<IPython.core.display.Image object>"
      ]
     },
     "metadata": {},
     "output_type": "display_data"
    }
   ],
   "source": [
    "from IPython.display import Image, display\n",
    "\n",
    "display(Image(chain.get_graph(xray=True).draw_mermaid_png()))"
   ]
  },
  {
   "cell_type": "markdown",
   "id": "4627105b-1297-4c47-a113-a700e8d674f4",
   "metadata": {},
   "source": [
    "#### **Podcast Team 정의**"
   ]
  },
  {
   "cell_type": "code",
   "execution_count": 10,
   "id": "966b68df-0560-4f88-a42e-e279332a7c95",
   "metadata": {},
   "outputs": [],
   "source": [
    "# PodcastTeam 그래프 상태\n",
    "class PodcastTeamState(TypedDict):\n",
    "    messages: Annotated[List[BaseMessage], operator.add]\n",
    "    team_members: List[str]\n",
    "    next: str\n",
    "    script: List[dict]\n",
    "    audio_segments: List[str]\n",
    "\n",
    "podcast_plan_system=\"\"\"\n",
    "You are tasked with creating a structured script for a podcast episode. \n",
    "The script should consist of a series of interactions between the host and the guest based on the provided topic and information from the research.\n",
    "IMPORTANT NOTE: The podcast should have 2 or more speakers to have a conversation.\n",
    "\n",
    "For each part of the dialogue, clearly specify whether it's the host speaking or the guest. Also, assign a suitable voice model for text-to-speech conversion for each segment. Use the following voice models based on the character:\n",
    "\n",
    "- Host segments: Use the 'alloy' voice model.\n",
    "- Guest segments: Use the 'fable' voice model.\n",
    "\n",
    "The output should be a list where each item is a dictionary with keys 'speaker', 'text', and 'voice', indicating the speaker (host or guest), their line of dialogue, and the voice model to use.\n",
    "\n",
    "Example output format:\n",
    "[\n",
    "    {\"speaker\": \"host\", \"text\": \"Welcome to our podcast, where we explore the latest in technology.\", \"voice\": \"alloy\"},\n",
    "    {\"speaker\": \"guest\", \"text\": \"Thank you for having me, it's great to be here to share my experiences.\", \"voice\": \"fable\"},\n",
    "    {\"speaker\": \"host\", \"text\": \"Can you tell us about your current project?\", \"voice\": \"alloy\"},\n",
    "    {\"speaker\": \"guest\", \"text\": \"Certainly! I've been working on a new AI platform that...\", \"voice\": \"fable\"},\n",
    "    ...\n",
    "]\n",
    "\n",
    "Your task is to generate a similar structured script in **KOREAN**,\n",
    "ensuring each dialogue segment between the host and guest is well-defined and allocates the appropriate voice model for the text-to-speech conversion process.\n",
    "\n",
    "\"\"\"\n",
    "podcast_planner_agent = create_react_agent(\n",
    "    llm, state_modifier=podcast_plan_system,tools=[tavily_tool]\n",
    ")\n",
    "podcast_planner_node = functools.partial(agent_node, agent=podcast_planner_agent, name=\"PodcastPlanner\")\n",
    "\n",
    "# AudioProducer 에이전트\n",
    "audio_producer_system=\"\"\"\n",
    "You are responsible for producing the final audio for the podcast episode. \n",
    "Take the structured script provided by the Podcast Planner, which contains segments marked with 'speaker' (either 'host' or 'guest'), the 'text' for each segment, and the 'voice' model to use.\n",
    "\n",
    "For each segment, use the 'text_to_speech' tool to generate audio, specifying the 'text' and 'voice' as provided. \n",
    "Ensure each segment is saved as a separate audio file.\n",
    "\n",
    "After generating all segments, use the 'edit_podcast_audio' tool to combine these audio files into one seamless podcast episode. \n",
    "The audio files should be combined in the order they are provided in the script, with appropriate pauses between segments to simulate a natural conversation flow.\n",
    "\n",
    "Your output should be the path to the final combined podcast episode audio file.\n",
    "\"\"\"\n",
    "audio_producer_agent = create_react_agent(\n",
    "    llm,\n",
    "    [text_to_speech, edit_podcast_audio], state_modifier=audio_producer_system\n",
    ")\n",
    "audio_producer_node = functools.partial(agent_node, agent=audio_producer_agent, name=\"AudioProducer\")\n",
    "\n",
    "# 팀 감독자 생성\n",
    "podcast_supervisor = create_team_supervisor(\n",
    "    llm,\n",
    "    \"\"\"You are a supervisor tasked with managing the podcast creation process.\n",
    "    Your team consists of a PodcastPlanner and an AudioProducer.\n",
    "    Given the current state, decide which team member should act next or if the process is complete.\n",
    "    Respond with 'PodcastPlanner', 'AudioProducer', or 'FINISH'.\"\"\",\n",
    "    [\"PodcastPlanner\", \"AudioProducer\"]\n",
    ")"
   ]
  },
  {
   "cell_type": "markdown",
   "id": "69f703f4-b76d-4eee-911b-2dd23376984c",
   "metadata": {},
   "source": [
    "#### **Podcast Team 그래프 및 상위 레이어와의 연결 Chain 정의**"
   ]
  },
  {
   "cell_type": "code",
   "execution_count": 11,
   "id": "031c0b78-62d0-4a51-a071-ed8350812c1b",
   "metadata": {},
   "outputs": [],
   "source": [
    "podcast_graph = StateGraph(PodcastTeamState)\n",
    "podcast_graph.add_node(\"PodcastPlanner\", podcast_planner_node)\n",
    "podcast_graph.add_node(\"AudioProducer\", audio_producer_node)\n",
    "podcast_graph.add_node(\"supervisor\", podcast_supervisor)\n",
    "\n",
    "# 제어 흐름 정의\n",
    "podcast_graph.add_edge(\"PodcastPlanner\", \"supervisor\")\n",
    "podcast_graph.add_edge(\"AudioProducer\", \"supervisor\")\n",
    "podcast_graph.add_conditional_edges(\n",
    "    \"supervisor\",\n",
    "    lambda x: x[\"next\"],\n",
    "    {\"PodcastPlanner\": \"PodcastPlanner\", \"AudioProducer\": \"AudioProducer\", \"FINISH\": END},\n",
    ")\n",
    "podcast_graph.add_edge(START, \"supervisor\")\n",
    "\n",
    "chain = podcast_graph.compile()\n",
    "\n",
    "# 상위 레벨 그래프 상태와 팟캐스트 서브그래프 상태 간의 상호 운용을 위한 함수\n",
    "def enter_chain(message: str):\n",
    "    results = {\n",
    "        \"messages\": [HumanMessage(content=message)],\n",
    "        \"team_members\": [\"PodcastPlanner\", \"AudioProducer\"],\n",
    "        \"next\": \"\",\n",
    "        \"script\": [],\n",
    "        \"audio_segments\": []\n",
    "    }\n",
    "    return results\n",
    "\n",
    "podcast_chain = enter_chain | chain"
   ]
  },
  {
   "cell_type": "code",
   "execution_count": 12,
   "id": "522df2a1-5d9e-447d-97e8-7034c833e7b2",
   "metadata": {},
   "outputs": [
    {
     "data": {
      "image/png": "[encoded data removed]",
      "text/plain": [
       "<IPython.core.display.Image object>"
      ]
     },
     "metadata": {},
     "output_type": "display_data"
    }
   ],
   "source": [
    "from IPython.display import Image, display\n",
    "\n",
    "display(Image(podcast_chain.get_graph().draw_mermaid_png()))"
   ]
  },
  {
   "cell_type": "markdown",
   "id": "8c10efdf-1283-43e9-8794-d5b8fb687ce5",
   "metadata": {},
   "source": [
    "#### **상위 레이어의 Supervisor 정의하기**"
   ]
  },
  {
   "cell_type": "code",
   "execution_count": 13,
   "id": "e42d7832-8c2b-4061-846b-f9394261ddb2",
   "metadata": {},
   "outputs": [],
   "source": [
    "from langchain_core.messages import BaseMessage\n",
    "from langchain_openai.chat_models import ChatOpenAI\n",
    "\n",
    "llm = ChatOpenAI(model=\"gpt-4o-mini\")\n",
    "\n",
    "supervisor_node = create_team_supervisor(\n",
    "    llm,\n",
    "    \"You are a supervisor tasked with managing a conversation between the\"\n",
    "    \" following teams: {team_members}. Given the following user request,\"\n",
    "    \" respond with the worker to act next. Each worker will perform a\"\n",
    "    \" task and respond with their results and status. When finished,\"\n",
    "    \" respond with FINISH.\",\n",
    "    [\"ResearchTeam\", \"PodcastTeam\"],\n",
    ")"
   ]
  },
  {
   "cell_type": "markdown",
   "id": "66d225a4-c86a-40c9-bce0-54224f5d1bdf",
   "metadata": {},
   "source": [
    "#### **상위 레이어 그래프 구축하기**"
   ]
  },
  {
   "cell_type": "code",
   "execution_count": 14,
   "id": "34a3aaee-453b-48f6-8669-9e4ad41e766e",
   "metadata": {},
   "outputs": [],
   "source": [
    "# Top-level graph state\n",
    "class State(TypedDict):\n",
    "    messages: Annotated[List[BaseMessage], operator.add]\n",
    "    next: str\n",
    "\n",
    "\n",
    "def get_last_message(state: State) -> str:\n",
    "    return state[\"messages\"][-1].content\n",
    "\n",
    "\n",
    "def join_graph(response: dict):\n",
    "    return {\"messages\": [response[\"messages\"][-1]]}\n",
    "\n",
    "\n",
    "# Define the graph.\n",
    "super_graph = StateGraph(State)\n",
    "# First add the nodes, which will do the work\n",
    "super_graph.add_node(\"ResearchTeam\", get_last_message | research_chain | join_graph)\n",
    "super_graph.add_node(\n",
    "    \"PodcastTeam\", get_last_message | podcast_chain | join_graph\n",
    ")\n",
    "super_graph.add_node(\"supervisor\", supervisor_node)\n",
    "\n",
    "# Define the graph connections, which controls how the logic\n",
    "# propagates through the program\n",
    "super_graph.add_edge(\"ResearchTeam\", \"supervisor\")\n",
    "super_graph.add_edge(\"PodcastTeam\", \"supervisor\")\n",
    "super_graph.add_conditional_edges(\n",
    "    \"supervisor\",\n",
    "    lambda x: x[\"next\"],\n",
    "    {\n",
    "        \"PodcastTeam\": \"PodcastTeam\",\n",
    "        \"ResearchTeam\": \"ResearchTeam\",\n",
    "        \"FINISH\": END,\n",
    "    },\n",
    ")\n",
    "super_graph.add_edge(START, \"supervisor\")\n",
    "super_graph = super_graph.compile()"
   ]
  },
  {
   "cell_type": "code",
   "execution_count": 15,
   "id": "68a2fabc-5199-4659-b4aa-325ecf1c59b5",
   "metadata": {},
   "outputs": [
    {
     "data": {
      "image/png": "[encoded data removed]",
      "text/plain": [
       "<IPython.core.display.Image object>"
      ]
     },
     "metadata": {},
     "output_type": "display_data"
    }
   ],
   "source": [
    "from IPython.display import Image, display\n",
    "\n",
    "display(Image(super_graph.get_graph().draw_mermaid_png()))"
   ]
  },
  {
   "cell_type": "code",
   "execution_count": 16,
   "id": "f1055392-881d-4736-af1d-41f58ddf3f37",
   "metadata": {},
   "outputs": [
    {
     "name": "stdout",
     "output_type": "stream",
     "text": [
      "{'supervisor': {'next': 'ResearchTeam'}}\n",
      "---\n",
      "{'ResearchTeam': {'messages': [HumanMessage(content='### OpenAI의 o1 모델과 AI 에이전트 분석\\n\\n#### OpenAI o1 모델\\nOpenAI는 최근에 o1 모델을 발표했습니다. 이 모델은 2024년 9월에 출시될 예정이며, 주요 기능으로는 STEM 분야(과학, 기술, 공학, 수학)의 복잡한 문제 해결을 지원하는 데 초점을 맞추고 있습니다. \\n\\n- **기능 및 기술**: o1 모델은 GPT-4o 기술을 기반으로 하며, \"순차적 괴리\" 기능을 통해 문제가 해결되는 다양한 접근 방식을 지원합니다. 이는 사용자와의 상호작용을 원활하게 만들어, 쉽게 접근하고 커스터마이즈할 수 있게 설계되었습니다.\\n- **API와 개발 환경**: 개발자들은 o1 모델과 API를 통해 다양한 애플리케이션을 개발하고, 이를 통해 ChatGPT와 동일한 방식으로 사용하고 통합할 수 있습니다. API는 사용자가 데이터를 쉽게 다루고, 기능을 구현할 수 있게 돕습니다.\\n\\n#### AI 에이전트\\nOpenAI는 AI 에이전트의 개발에 박차를 가하고 있으며, 이들은 자연어 명령을 이해하고 최소한의 사용자 감독으로 복잡한 작업을 수행하는 능력을 갖추고 있습니다. \\n\\n- **AI 에이전트의 목표 및 기능**: AI 에이전트는 사용자의 다양한 요청을 수행하여 일상 생활의 자동화를 가능하게 하며, 예를 들어 스케줄 정리, 레시피 추천, 금융 관리 등을 지원합니다. 이러한 기능은 결국 사용자에게 보다 맞춤화된 경험을 제공하는 데 기여할 것입니다.\\n- **자금 조달과 개발**: OpenAI는 최근 66억 달러를 조달하여 AI 에이전트의 개발을 가속화하고 있으며, 이는 AI 개발을 위한 컴퓨팅 자원에 대한 접근성을 향상시키기 위한 것입니다.\\n\\n#### 기술적 혁신과 안전성\\nOpenAI는 AI 에이전트의 실제적 적용을 위해 다양한 기술적 혁신을 도입하고 있습니다. 예를 들어, Realtime API, 비전 미세 조정 기능, 모델 증류 등을 통해 AI 에이전트의 성능을 향상시키고 있습니다. 동시에, 이러한 AI 기술의 안전성을 보장하기 위해 인력과의 협력 방안을 모색하고 있습니다.\\n\\n#### 결론\\nOpenAI의 o1 모델과 AI 에이전트 개발은 인공지능 기술의 발전에 큰 영향을 미치고 있습니다. o1 모델은 복잡한 STEM 문제 해결을 위한 새로운 도구를 제공하며, AI 에이전트는 일상에서의 자동화를 통해 사용자의 효율성을 높이는 데 기여할 전망입니다. 그러나 이러한 기술의 빠른 발전은 기술 안전과 윤리에 대한 논의를 더욱 촉진해야 할 필요성을 내포하고 있습니다.', additional_kwargs={}, response_metadata={}, name='WebScraper')]}}\n",
      "---\n",
      "{'supervisor': {'next': 'PodcastTeam'}}\n",
      "---\n",
      "{'PodcastTeam': {'messages': [HumanMessage(content='### OpenAI의 o1 모델과 AI 에이전트 분석\\n\\n#### OpenAI o1 모델\\nOpenAI는 최근에 o1 모델을 발표했습니다. 이 모델은 2024년 9월에 출시될 예정이며, 주요 기능으로는 STEM 분야(과학, 기술, 공학, 수학)의 복잡한 문제 해결을 지원하는 데 초점을 맞추고 있습니다. \\n\\n- **기능 및 기술**: o1 모델은 GPT-4o 기술을 기반으로 하며, \"순차적 괴리\" 기능을 통해 문제가 해결되는 다양한 접근 방식을 지원합니다. 이는 사용자와의 상호작용을 원활하게 만들어, 쉽게 접근하고 커스터마이즈할 수 있게 설계되었습니다.\\n- **API와 개발 환경**: 개발자들은 o1 모델과 API를 통해 다양한 애플리케이션을 개발하고, 이를 통해 ChatGPT와 동일한 방식으로 사용하고 통합할 수 있습니다. API는 사용자가 데이터를 쉽게 다루고, 기능을 구현할 수 있게 돕습니다.\\n\\n#### AI 에이전트\\nOpenAI는 AI 에이전트의 개발에 박차를 가하고 있으며, 이들은 자연어 명령을 이해하고 최소한의 사용자 감독으로 복잡한 작업을 수행하는 능력을 갖추고 있습니다. \\n\\n- **AI 에이전트의 목표 및 기능**: AI 에이전트는 사용자의 다양한 요청을 수행하여 일상 생활의 자동화를 가능하게 하며, 예를 들어 스케줄 정리, 레시피 추천, 금융 관리 등을 지원합니다. 이러한 기능은 결국 사용자에게 보다 맞춤화된 경험을 제공하는 데 기여할 것입니다.\\n- **자금 조달과 개발**: OpenAI는 최근 66억 달러를 조달하여 AI 에이전트의 개발을 가속화하고 있으며, 이는 AI 개발을 위한 컴퓨팅 자원에 대한 접근성을 향상시키기 위한 것입니다.\\n\\n#### 기술적 혁신과 안전성\\nOpenAI는 AI 에이전트의 실제적 적용을 위해 다양한 기술적 혁신을 도입하고 있습니다. 예를 들어, Realtime API, 비전 미세 조정 기능, 모델 증류 등을 통해 AI 에이전트의 성능을 향상시키고 있습니다. 동시에, 이러한 AI 기술의 안전성을 보장하기 위해 인력과의 협력 방안을 모색하고 있습니다.\\n\\n#### 결론\\nOpenAI의 o1 모델과 AI 에이전트 개발은 인공지능 기술의 발전에 큰 영향을 미치고 있습니다. o1 모델은 복잡한 STEM 문제 해결을 위한 새로운 도구를 제공하며, AI 에이전트는 일상에서의 자동화를 통해 사용자의 효율성을 높이는 데 기여할 전망입니다. 그러나 이러한 기술의 빠른 발전은 기술 안전과 윤리에 대한 논의를 더욱 촉진해야 할 필요성을 내포하고 있습니다.', additional_kwargs={}, response_metadata={})]}}\n",
      "---\n",
      "{'supervisor': {'next': 'PodcastTeam'}}\n",
      "---\n",
      "{'PodcastTeam': {'messages': [HumanMessage(content='### OpenAI의 o1 모델과 AI 에이전트 분석\\n\\n#### OpenAI o1 모델\\nOpenAI는 최근에 o1 모델을 발표했습니다. 이 모델은 2024년 9월에 출시될 예정이며, 주요 기능으로는 STEM 분야(과학, 기술, 공학, 수학)의 복잡한 문제 해결을 지원하는 데 초점을 맞추고 있습니다. \\n\\n- **기능 및 기술**: o1 모델은 GPT-4o 기술을 기반으로 하며, \"순차적 괴리\" 기능을 통해 문제가 해결되는 다양한 접근 방식을 지원합니다. 이는 사용자와의 상호작용을 원활하게 만들어, 쉽게 접근하고 커스터마이즈할 수 있게 설계되었습니다.\\n- **API와 개발 환경**: 개발자들은 o1 모델과 API를 통해 다양한 애플리케이션을 개발하고, 이를 통해 ChatGPT와 동일한 방식으로 사용하고 통합할 수 있습니다. API는 사용자가 데이터를 쉽게 다루고, 기능을 구현할 수 있게 돕습니다.\\n\\n#### AI 에이전트\\nOpenAI는 AI 에이전트의 개발에 박차를 가하고 있으며, 이들은 자연어 명령을 이해하고 최소한의 사용자 감독으로 복잡한 작업을 수행하는 능력을 갖추고 있습니다. \\n\\n- **AI 에이전트의 목표 및 기능**: AI 에이전트는 사용자의 다양한 요청을 수행하여 일상 생활의 자동화를 가능하게 하며, 예를 들어 스케줄 정리, 레시피 추천, 금융 관리 등을 지원합니다. 이러한 기능은 결국 사용자에게 보다 맞춤화된 경험을 제공하는 데 기여할 것입니다.\\n- **자금 조달과 개발**: OpenAI는 최근 66억 달러를 조달하여 AI 에이전트의 개발을 가속화하고 있으며, 이는 AI 개발을 위한 컴퓨팅 자원에 대한 접근성을 향상시키기 위한 것입니다.\\n\\n#### 기술적 혁신과 안전성\\nOpenAI는 AI 에이전트의 실제적 적용을 위해 다양한 기술적 혁신을 도입하고 있습니다. 예를 들어, Realtime API, 비전 미세 조정 기능, 모델 증류 등을 통해 AI 에이전트의 성능을 향상시키고 있습니다. 동시에, 이러한 AI 기술의 안전성을 보장하기 위해 인력과의 협력 방안을 모색하고 있습니다.\\n\\n#### 결론\\nOpenAI의 o1 모델과 AI 에이전트 개발은 인공지능 기술의 발전에 큰 영향을 미치고 있습니다. o1 모델은 복잡한 STEM 문제 해결을 위한 새로운 도구를 제공하며, AI 에이전트는 일상에서의 자동화를 통해 사용자의 효율성을 높이는 데 기여할 전망입니다. 그러나 이러한 기술의 빠른 발전은 기술 안전과 윤리에 대한 논의를 더욱 촉진해야 할 필요성을 내포하고 있습니다.', additional_kwargs={}, response_metadata={})]}}\n",
      "---\n",
      "{'supervisor': {'next': 'PodcastTeam'}}\n",
      "---\n",
      "{'PodcastTeam': {'messages': [HumanMessage(content='### OpenAI의 o1 모델과 AI 에이전트 분석\\n\\n#### OpenAI o1 모델\\nOpenAI는 최근에 o1 모델을 발표했습니다. 이 모델은 2024년 9월에 출시될 예정이며, 주요 기능으로는 STEM 분야(과학, 기술, 공학, 수학)의 복잡한 문제 해결을 지원하는 데 초점을 맞추고 있습니다. \\n\\n- **기능 및 기술**: o1 모델은 GPT-4o 기술을 기반으로 하며, \"순차적 괴리\" 기능을 통해 문제가 해결되는 다양한 접근 방식을 지원합니다. 이는 사용자와의 상호작용을 원활하게 만들어, 쉽게 접근하고 커스터마이즈할 수 있게 설계되었습니다.\\n- **API와 개발 환경**: 개발자들은 o1 모델과 API를 통해 다양한 애플리케이션을 개발하고, 이를 통해 ChatGPT와 동일한 방식으로 사용하고 통합할 수 있습니다. API는 사용자가 데이터를 쉽게 다루고, 기능을 구현할 수 있게 돕습니다.\\n\\n#### AI 에이전트\\nOpenAI는 AI 에이전트의 개발에 박차를 가하고 있으며, 이들은 자연어 명령을 이해하고 최소한의 사용자 감독으로 복잡한 작업을 수행하는 능력을 갖추고 있습니다. \\n\\n- **AI 에이전트의 목표 및 기능**: AI 에이전트는 사용자의 다양한 요청을 수행하여 일상 생활의 자동화를 가능하게 하며, 예를 들어 스케줄 정리, 레시피 추천, 금융 관리 등을 지원합니다. 이러한 기능은 결국 사용자에게 보다 맞춤화된 경험을 제공하는 데 기여할 것입니다.\\n- **자금 조달과 개발**: OpenAI는 최근 66억 달러를 조달하여 AI 에이전트의 개발을 가속화하고 있으며, 이는 AI 개발을 위한 컴퓨팅 자원에 대한 접근성을 향상시키기 위한 것입니다.\\n\\n#### 기술적 혁신과 안전성\\nOpenAI는 AI 에이전트의 실제적 적용을 위해 다양한 기술적 혁신을 도입하고 있습니다. 예를 들어, Realtime API, 비전 미세 조정 기능, 모델 증류 등을 통해 AI 에이전트의 성능을 향상시키고 있습니다. 동시에, 이러한 AI 기술의 안전성을 보장하기 위해 인력과의 협력 방안을 모색하고 있습니다.\\n\\n#### 결론\\nOpenAI의 o1 모델과 AI 에이전트 개발은 인공지능 기술의 발전에 큰 영향을 미치고 있습니다. o1 모델은 복잡한 STEM 문제 해결을 위한 새로운 도구를 제공하며, AI 에이전트는 일상에서의 자동화를 통해 사용자의 효율성을 높이는 데 기여할 전망입니다. 그러나 이러한 기술의 빠른 발전은 기술 안전과 윤리에 대한 논의를 더욱 촉진해야 할 필요성을 내포하고 있습니다.', additional_kwargs={}, response_metadata={})]}}\n",
      "---\n",
      "{'supervisor': {'next': 'PodcastTeam'}}\n",
      "---\n",
      "{'PodcastTeam': {'messages': [HumanMessage(content='### OpenAI의 o1 모델과 AI 에이전트 분석\\n\\n#### OpenAI o1 모델\\nOpenAI는 최근에 o1 모델을 발표했습니다. 이 모델은 2024년 9월에 출시될 예정이며, 주요 기능으로는 STEM 분야(과학, 기술, 공학, 수학)의 복잡한 문제 해결을 지원하는 데 초점을 맞추고 있습니다. \\n\\n- **기능 및 기술**: o1 모델은 GPT-4o 기술을 기반으로 하며, \"순차적 괴리\" 기능을 통해 문제가 해결되는 다양한 접근 방식을 지원합니다. 이는 사용자와의 상호작용을 원활하게 만들어, 쉽게 접근하고 커스터마이즈할 수 있게 설계되었습니다.\\n- **API와 개발 환경**: 개발자들은 o1 모델과 API를 통해 다양한 애플리케이션을 개발하고, 이를 통해 ChatGPT와 동일한 방식으로 사용하고 통합할 수 있습니다. API는 사용자가 데이터를 쉽게 다루고, 기능을 구현할 수 있게 돕습니다.\\n\\n#### AI 에이전트\\nOpenAI는 AI 에이전트의 개발에 박차를 가하고 있으며, 이들은 자연어 명령을 이해하고 최소한의 사용자 감독으로 복잡한 작업을 수행하는 능력을 갖추고 있습니다. \\n\\n- **AI 에이전트의 목표 및 기능**: AI 에이전트는 사용자의 다양한 요청을 수행하여 일상 생활의 자동화를 가능하게 하며, 예를 들어 스케줄 정리, 레시피 추천, 금융 관리 등을 지원합니다. 이러한 기능은 결국 사용자에게 보다 맞춤화된 경험을 제공하는 데 기여할 것입니다.\\n- **자금 조달과 개발**: OpenAI는 최근 66억 달러를 조달하여 AI 에이전트의 개발을 가속화하고 있으며, 이는 AI 개발을 위한 컴퓨팅 자원에 대한 접근성을 향상시키기 위한 것입니다.\\n\\n#### 기술적 혁신과 안전성\\nOpenAI는 AI 에이전트의 실제적 적용을 위해 다양한 기술적 혁신을 도입하고 있습니다. 예를 들어, Realtime API, 비전 미세 조정 기능, 모델 증류 등을 통해 AI 에이전트의 성능을 향상시키고 있습니다. 동시에, 이러한 AI 기술의 안전성을 보장하기 위해 인력과의 협력 방안을 모색하고 있습니다.\\n\\n#### 결론\\nOpenAI의 o1 모델과 AI 에이전트 개발은 인공지능 기술의 발전에 큰 영향을 미치고 있습니다. o1 모델은 복잡한 STEM 문제 해결을 위한 새로운 도구를 제공하며, AI 에이전트는 일상에서의 자동화를 통해 사용자의 효율성을 높이는 데 기여할 전망입니다. 그러나 이러한 기술의 빠른 발전은 기술 안전과 윤리에 대한 논의를 더욱 촉진해야 할 필요성을 내포하고 있습니다.', additional_kwargs={}, response_metadata={})]}}\n",
      "---\n",
      "{'supervisor': {'next': 'FINISH'}}\n",
      "---\n"
     ]
    }
   ],
   "source": [
    "for s in super_graph.stream(\n",
    "    {\n",
    "        \"messages\": [\n",
    "            HumanMessage(\n",
    "                content=\"OpenAI가 최근에 출시한 o1 모델과 AI 에이전트\"\n",
    "            )\n",
    "        ],\n",
    "    },\n",
    "    {\"recursion_limit\": 150},\n",
    "):\n",
    "    if \"__end__\" not in s:\n",
    "        print(s)\n",
    "        print(\"---\")"
   ]
  },
  {
   "cell_type": "code",
   "execution_count": 78,
   "id": "a27d60fa-c8f7-42f3-be61-a5fd7ba151fb",
   "metadata": {},
   "outputs": [
    {
     "data": {
      "text/plain": [
       "<bound method Pregel.get_state of <langgraph.graph.state.CompiledStateGraph object at 0x000001A6B33E7CD0>>"
      ]
     },
     "execution_count": 78,
     "metadata": {},
     "output_type": "execute_result"
    }
   ],
   "source": [
    "super_graph.get_state"
   ]
  }
 ],
 "metadata": {
  "kernelspec": {
   "display_name": "Python 3",
   "language": "python",
   "name": "python3"
  },
  "language_info": {
   "codemirror_mode": {
    "name": "ipython",
    "version": 3
   },
   "file_extension": ".py",
   "mimetype": "text/x-python",
   "name": "python",
   "nbconvert_exporter": "python",
   "pygments_lexer": "ipython3",
   "version": "3.11.6"
  }
 },
 "nbformat": 4,
 "nbformat_minor": 5
}
