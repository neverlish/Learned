{
 "cells": [
  {
   "cell_type": "markdown",
   "id": "6046f669-b67a-40a3-90c0-da7ec5f94a0f",
   "metadata": {},
   "source": [
    "### **이미지가 포함된 리포트 생성그래프 만들기**"
   ]
  },
  {
   "cell_type": "code",
   "execution_count": 12,
   "id": "b779efc1-b549-4eaa-bbdf-78d69ad3ceed",
   "metadata": {},
   "outputs": [
    {
     "name": "stdout",
     "output_type": "stream",
     "text": [
      "Looking in indexes: https://pypi.org/simple, https://pypi.ngc.nvidia.com\n",
      "Collecting python-docx\n",
      "  Downloading python_docx-1.1.2-py3-none-any.whl.metadata (2.0 kB)\n",
      "Requirement already satisfied: lxml>=3.1.0 in /Users/hyeonjinho/.pyenv/versions/3.11.6/lib/python3.11/site-packages (from python-docx) (5.3.0)\n",
      "Requirement already satisfied: typing-extensions>=4.9.0 in /Users/hyeonjinho/.pyenv/versions/3.11.6/lib/python3.11/site-packages (from python-docx) (4.12.2)\n",
      "Downloading python_docx-1.1.2-py3-none-any.whl (244 kB)\n",
      "Installing collected packages: python-docx\n",
      "Successfully installed python-docx-1.1.2\n"
     ]
    }
   ],
   "source": [
    "!pip install python-docx"
   ]
  },
  {
   "cell_type": "markdown",
   "id": "92e2cc68-5a34-4031-976a-307790c2e816",
   "metadata": {},
   "source": [
    "#### **API 키 설정** ####"
   ]
  },
  {
   "cell_type": "code",
   "execution_count": null,
   "id": "0bb203c9-7550-4fb3-a67b-ed2f5cb8b324",
   "metadata": {},
   "outputs": [],
   "source": [
    "import warnings\n",
    "warnings.filterwarnings('ignore')"
   ]
  },
  {
   "cell_type": "markdown",
   "id": "42d7515e-a3cd-4c9b-8488-4d4ee6a3926e",
   "metadata": {},
   "source": [
    "#### **Graph State 설정** ####"
   ]
  },
  {
   "cell_type": "code",
   "execution_count": 1,
   "id": "fc702d21-f218-474f-9237-5a4497ed21b3",
   "metadata": {},
   "outputs": [],
   "source": [
    "from typing import Annotated, TypedDict, List, Dict, Sequence\n",
    "from langgraph.graph import StateGraph, START, END\n",
    "from langgraph.graph.message import add_messages\n",
    "from langchain_core.messages import BaseMessage\n",
    "\n",
    "# State definition\n",
    "class State(TypedDict):\n",
    "    messages: Annotated[Sequence[BaseMessage], add_messages]\n",
    "    outline: Dict[str, str]\n",
    "    current_section: int\n",
    "    section_content: str\n",
    "    section_image: str\n",
    "    image_prompt: str\n",
    "    total_sections: int\n",
    "    full_report: List[Dict[str, str]]\n",
    "\n",
    "# Graph builder initialization\n",
    "graph_builder = StateGraph(State)"
   ]
  },
  {
   "cell_type": "markdown",
   "id": "3ae34f4b-d754-4704-8127-fd91840eee37",
   "metadata": {},
   "source": [
    "#### **웹 검색 도구 정의** ####"
   ]
  },
  {
   "cell_type": "code",
   "execution_count": 2,
   "id": "138b96af-ec58-4296-92cb-7a6f6ad936f1",
   "metadata": {},
   "outputs": [],
   "source": [
    "from langchain_community.tools.tavily_search import TavilySearchResults\n",
    "\n",
    "search = TavilySearchResults(max_results=3)"
   ]
  },
  {
   "cell_type": "markdown",
   "id": "eea876bf-ba9b-47a1-9abc-0e501be1871c",
   "metadata": {},
   "source": [
    "#### **개요 작성 에이전트 설정** ####"
   ]
  },
  {
   "cell_type": "markdown",
   "id": "5ce1a159-ecdd-480a-bc12-462f2ffe6406",
   "metadata": {},
   "source": [
    "개요를 담을 Data model 선언"
   ]
  },
  {
   "cell_type": "code",
   "execution_count": 3,
   "id": "5186a34d-a494-4e3e-b608-35e778d93bdc",
   "metadata": {},
   "outputs": [],
   "source": [
    "from pydantic import BaseModel, Field, create_model\n",
    "\n",
    "# 사용자로부터 입력받은 전체 섹션 수에 따라 Data model의 key와 value를 정의하기 위한 함수\n",
    "# create_model 함수는 Pydantic Data model의 이름과 key:value 값을 기반으로 동적인 Data model을 만들 수 있게 보조\n",
    "def create_outline_model(section_count: int):\n",
    "    fields = {f\"section{i}\": \n",
    "              (str, Field(description=f\"Title for section {i}\")) for i in range(1, section_count + 1)}\n",
    "    return create_model(\"DynamicOutline\", **fields)"
   ]
  },
  {
   "cell_type": "code",
   "execution_count": 4,
   "id": "4ba876bd-9d87-4e1d-bdcd-44b54c02b63f",
   "metadata": {},
   "outputs": [
    {
     "name": "stdout",
     "output_type": "stream",
     "text": [
      "key:section1\n",
      "\n",
      "value:annotation=str required=True description='Title for section 1'\n",
      "\n",
      "key:section2\n",
      "\n",
      "value:annotation=str required=True description='Title for section 2'\n",
      "\n",
      "key:section3\n",
      "\n",
      "value:annotation=str required=True description='Title for section 3'\n",
      "\n"
     ]
    }
   ],
   "source": [
    "fields = {f\"section{i}\": \n",
    "              (str, Field(description=f\"Title for section {i}\")) for i in range(1, 3 + 1)}\n",
    "\n",
    "DynamicOutline = create_model(\"DynamicOutline\", **fields)\n",
    "\n",
    "for key, value in DynamicOutline.model_fields.items():\n",
    "    print(f\"key:{key}\\n\")\n",
    "    print(f\"value:{value}\\n\")\n",
    "    "
   ]
  },
  {
   "cell_type": "code",
   "execution_count": 5,
   "id": "57d43aa8-24ec-4e23-ad2b-9d8761752130",
   "metadata": {},
   "outputs": [
    {
     "name": "stdout",
     "output_type": "stream",
     "text": [
      "key:section1\n",
      "\n",
      "value:annotation=str required=True description='Title for section 1'\n",
      "\n",
      "key:section2\n",
      "\n",
      "value:annotation=str required=True description='Title for section 2'\n",
      "\n",
      "key:section3\n",
      "\n",
      "value:annotation=str required=True description='Title for section 3'\n",
      "\n",
      "key:section4\n",
      "\n",
      "value:annotation=str required=True description='Title for section 4'\n",
      "\n",
      "key:section5\n",
      "\n",
      "value:annotation=str required=True description='Title for section 5'\n",
      "\n"
     ]
    }
   ],
   "source": [
    "DynamicOutline = create_outline_model(5)\n",
    "for key, value in DynamicOutline.model_fields.items():\n",
    "    print(f\"key:{key}\\n\")\n",
    "    print(f\"value:{value}\\n\")"
   ]
  },
  {
   "cell_type": "code",
   "execution_count": 6,
   "id": "342108c0-7913-441d-a069-82f3b18e84ca",
   "metadata": {},
   "outputs": [],
   "source": [
    "# Outline generation node\n",
    "def outline_generator(state: State):\n",
    "    DynamicOutline = create_outline_model(state[\"total_sections\"])\n",
    "    outline_parser = JsonOutputParser(pydantic_object=DynamicOutline)\n",
    "\n",
    "    outline_prompt = PromptTemplate(\n",
    "        template=\"\"\"\n",
    "        Create an outline for a detailed report with exactly {section_count} main sections.\n",
    "        {format_instructions}\n",
    "        The topic is: {topic}\n",
    "        \"\"\",\n",
    "        input_variables=[\"section_count\", \"topic\"],\n",
    "        partial_variables={\"format_instructions\": outline_parser.get_format_instructions()},\n",
    "    )\n",
    "    \n",
    "    chain = outline_prompt | llm | outline_parser\n",
    "    \n",
    "    outline = chain.invoke({\n",
    "        \"section_count\": state[\"total_sections\"], \n",
    "        \"topic\": state[\"messages\"][-1].content\n",
    "    })\n",
    "    return {\"outline\": outline}"
   ]
  },
  {
   "cell_type": "markdown",
   "id": "8af431e0-f3f6-422d-98a7-7223419633c5",
   "metadata": {},
   "source": [
    "#### **이미지 생성 에이전트 설정** ####"
   ]
  },
  {
   "cell_type": "code",
   "execution_count": 8,
   "id": "2c573fc3-9996-46de-ae05-f6188bbfe064",
   "metadata": {},
   "outputs": [],
   "source": [
    "from openai import OpenAI\n",
    "from langchain_core.tools import tool\n",
    "\n",
    "client = OpenAI()\n",
    "\n",
    "def generate_image(prompt):\n",
    "    \"\"\"Generate an image using DALL-E based on the given prompt.\"\"\"\n",
    "    response = client.images.generate(\n",
    "        model=\"dall-e-3\",\n",
    "        prompt=prompt,\n",
    "        size=\"1024x1024\",\n",
    "        quality=\"standard\",\n",
    "        n=1\n",
    "    )\n",
    "    return response.data[0].url\n",
    "\n",
    "def image_generator(state: State):\n",
    "\n",
    "    prompt_template = PromptTemplate(\n",
    "        template=\"\"\"\n",
    "        Based on the following section content, create a prompt for generating an infographic that represents this section.\n",
    "        \n",
    "        Section content: \n",
    "        \n",
    "        {section_content}\n",
    "        \n",
    "        Image generation prompt(under 500 characters):\"\"\",\n",
    "        input_variables=[\"section_content\"],\n",
    "    )\n",
    "    \n",
    "    image_prompt = llm.invoke(prompt_template.format(section_content=state[\"section_content\"]))\n",
    "    image_url = generate_image(image_prompt.content)\n",
    "\n",
    "    current_section = {\n",
    "        \"title\": state['outline'][f\"section{state['current_section']}\"],\n",
    "        \"content\": state['section_content'],\n",
    "        \"image_url\": image_url,\n",
    "        \"image_prompt\": image_prompt.content if isinstance(image_prompt, AIMessage) else image_prompt\n",
    "    }\n",
    "\n",
    "    updated_full_report = state.get(\"full_report\", []) + [current_section]\n",
    "\n",
    "    print(f\"Completed section {state['current_section']} of {state['total_sections']}\")\n",
    "\n",
    "    return {\n",
    "        \"image_prompt\": image_prompt.content if isinstance(image_prompt, AIMessage) else image_prompt,\n",
    "        \"section_image\": image_url,\n",
    "        \"current_section\": state[\"current_section\"] + 1,\n",
    "        \"full_report\": updated_full_report\n",
    "    }\n"
   ]
  },
  {
   "cell_type": "markdown",
   "id": "19f05937-978e-476c-ba88-7c151102bce4",
   "metadata": {},
   "source": [
    "#### **LLM 설정** ####"
   ]
  },
  {
   "cell_type": "code",
   "execution_count": 9,
   "id": "661c552b-ac88-4e40-9ecf-79680f488833",
   "metadata": {},
   "outputs": [],
   "source": [
    "from langchain_openai import ChatOpenAI\n",
    "\n",
    "llm = ChatOpenAI(model=\"gpt-4o-mini\")"
   ]
  },
  {
   "cell_type": "markdown",
   "id": "05b530a1-9b9b-4e57-93bd-6b400472c9ed",
   "metadata": {},
   "source": [
    "#### **컨텐츠 작성 에이전트 설정** ####"
   ]
  },
  {
   "cell_type": "code",
   "execution_count": 10,
   "id": "ebedb4f0-9dc1-4351-98f7-417b43ac8b00",
   "metadata": {},
   "outputs": [],
   "source": [
    "from langchain_core.messages import HumanMessage, AIMessage\n",
    "from langchain_core.output_parsers import JsonOutputParser\n",
    "from langchain_core.prompts import PromptTemplate\n",
    "\n",
    "def contents_writer(state: State):\n",
    "    if \"error\" in state:\n",
    "        return {\"messages\": [AIMessage(content=f\"An error occurred: {state['error']}\")]}\n",
    "    \n",
    "    if state[\"current_section\"] > state[\"total_sections\"]:\n",
    "        return {\"messages\": [AIMessage(content=\"Report completed.\")]}\n",
    "        \n",
    "    current_section_key = f\"section{state['current_section']}\"\n",
    "    current_topic = state[\"outline\"][current_section_key]\n",
    "    search_results = search.invoke(current_topic)    \n",
    "    \n",
    "    previous_sections_content = []\n",
    "    for i in range(1, state['current_section']):\n",
    "        section_key = f\"section{i}\"\n",
    "        if section_key in state[\"section_content\"]:\n",
    "            previous_sections_content.append(f\"\"\"\n",
    "            Section {i}: \n",
    "            {state['outline'][section_key]}\n",
    "            {state['section_content'][section_key]}\n",
    "            \"\"\")\n",
    "    \n",
    "    previous_sections = \"\\n\\n\".join(previous_sections_content)\n",
    "    \n",
    "    section_prompt = PromptTemplate(\n",
    "        template=\"\"\"\n",
    "        Write a detailed section for the topic: {topic}. \n",
    "        \n",
    "        Use the following search results for information: {search_results}\n",
    "        \n",
    "        Previous sections:\n",
    "        {previous_sections}\n",
    "        Write only the content for this section, \n",
    "        do not include any image prompts or suggestions.\n",
    "        Detailed statistics or information is needed, \n",
    "        so you should include collected information from search result.\"\"\",\n",
    "        input_variables=[\"topic\", \"search_results\", \"previous_sections\"],\n",
    "    )\n",
    "    section_content = llm.invoke(section_prompt.format(\n",
    "        topic=current_topic,\n",
    "        search_results=search_results,\n",
    "        previous_sections=previous_sections\n",
    "    ))\n",
    "\n",
    "    return {\n",
    "        \"section_content\": section_content.content,\n",
    "        \"current_section\": state[\"current_section\"]\n",
    "    }\n"
   ]
  },
  {
   "cell_type": "markdown",
   "id": "c1fe9ae7-2058-477c-ad0e-d49ec1bc8eb3",
   "metadata": {},
   "source": [
    "#### **워드 생성 에이전트 설정** ####"
   ]
  },
  {
   "cell_type": "code",
   "execution_count": null,
   "id": "2808d1cd-edd9-471d-834f-d9a905e7fde9",
   "metadata": {},
   "outputs": [],
   "source": [
    "from docx import Document\n",
    "from docx.shared import Inches\n",
    "import requests\n",
    "from io import BytesIO\n",
    "\n",
    "def report_generator(state: State):\n",
    "    doc = Document()\n",
    "    doc.add_heading(f\"Report: {state['messages'][0].content}\", 0)\n",
    "\n",
    "    for section in state['full_report']:\n",
    "        doc.add_heading(section['title'], level=1)\n",
    "        doc.add_paragraph(section['content'])\n",
    "        \n",
    "        # 이미지 추가\n",
    "        if section['image_url'] != \"Image generation failed\":\n",
    "            try:\n",
    "                response = requests.get(section['image_url'])\n",
    "                image = BytesIO(response.content)\n",
    "                doc.add_picture(image, width=Inches(6))\n",
    "                doc.add_paragraph(f\"Image prompt: {section['image_prompt']}\")\n",
    "            except Exception as e:\n",
    "                doc.add_paragraph(f\"Failed to add image: {str(e)}\")\n",
    "\n",
    "        doc.add_page_break()\n",
    "\n",
    "    # 보고서 저장\n",
    "    filename = f\"report_{state['messages'][0].content}.docx\".replace(\" \", \"_\")\n",
    "    doc.save(filename)\n",
    "\n",
    "    return {\n",
    "        \"messages\": [AIMessage(content=f\"Report finalized and saved as {filename}.\")],\n",
    "        \"report_file\": filename\n",
    "    }\n"
   ]
  },
  {
   "cell_type": "markdown",
   "id": "3243924a-40e0-4fa8-b32e-ec5ce4ed9ddb",
   "metadata": {},
   "source": [
    "#### **그래프 구축** ####"
   ]
  },
  {
   "cell_type": "code",
   "execution_count": 14,
   "id": "892b0d38-a4c7-4b5a-9177-763724eb1bee",
   "metadata": {},
   "outputs": [],
   "source": [
    "# Add nodes\n",
    "graph_builder.add_node(\"outline_generator\", outline_generator)\n",
    "graph_builder.add_node(\"contents_writer\", contents_writer)\n",
    "graph_builder.add_node(\"image_generator\", image_generator)\n",
    "graph_builder.add_node(\"report_generator\", report_generator)\n",
    "\n",
    "# Add edges\n",
    "graph_builder.add_edge(START, \"outline_generator\")\n",
    "graph_builder.add_edge(\"outline_generator\", \"contents_writer\")\n",
    "graph_builder.add_edge(\"contents_writer\", \"image_generator\")\n",
    "graph_builder.add_edge(\"report_generator\", END)\n",
    "# Add conditional edges\n",
    "def should_continue_writing(state: State):\n",
    "    if state[\"current_section\"] <= state[\"total_sections\"]:\n",
    "        return \"write_section\"\n",
    "    else:\n",
    "        return \"finalize_report\"\n",
    "\n",
    "graph_builder.add_conditional_edges(\n",
    "    \"image_generator\",\n",
    "    should_continue_writing,\n",
    "    {\n",
    "        \"write_section\": \"contents_writer\",\n",
    "        \"finalize_report\": \"report_generator\"\n",
    "    }\n",
    ")\n",
    "\n",
    "# Compile graph\n",
    "graph = graph_builder.compile()"
   ]
  },
  {
   "cell_type": "markdown",
   "id": "704b585d-65b3-4dff-8fc9-1c6aef3b2fd6",
   "metadata": {},
   "source": [
    "#### **그래프 시각화**"
   ]
  },
  {
   "cell_type": "code",
   "execution_count": 15,
   "id": "b49d1986-55a3-4a83-9f4e-3745ff8762cf",
   "metadata": {},
   "outputs": [
    {
     "data": {
      "image/png": "[encoded data removed]",
      "text/plain": [
       "<IPython.core.display.Image object>"
      ]
     },
     "metadata": {},
     "output_type": "display_data"
    }
   ],
   "source": [
    "from IPython.display import Image, display\n",
    "\n",
    "try:\n",
    "    display(Image(graph.get_graph().draw_mermaid_png()))\n",
    "except Exception:\n",
    "    # This requires some extra dependencies and is optional\n",
    "    pass"
   ]
  },
  {
   "cell_type": "markdown",
   "id": "2d5e166f-4a87-4cdd-a79a-7a809482a30f",
   "metadata": {},
   "source": [
    "#### **그래프 실행**"
   ]
  },
  {
   "cell_type": "code",
   "execution_count": 16,
   "id": "9d13bd57-5656-4b53-84a7-ea8e66f32467",
   "metadata": {},
   "outputs": [
    {
     "name": "stdout",
     "output_type": "stream",
     "text": [
      "현재 작업 디렉토리: /Users/hyeonjinho/Desktop/dev/Learned/llm/fastcampus-kane-langgraph-multi-aiagent/3\n"
     ]
    }
   ],
   "source": [
    "import os\n",
    "\n",
    "current_directory = os.getcwd()\n",
    "print(f\"현재 작업 디렉토리: {current_directory}\")"
   ]
  },
  {
   "cell_type": "code",
   "execution_count": 17,
   "id": "53d8c3cc-c119-44cd-a18d-0601871e5e6c",
   "metadata": {},
   "outputs": [
    {
     "name": "stdout",
     "output_type": "stream",
     "text": [
      "Completed section 1 of 1\n",
      "\n",
      "=== 보고서 생성 완료 ===\n"
     ]
    }
   ],
   "source": [
    "from langchain_core.messages import HumanMessage\n",
    "\n",
    "# 사용자 입력 받기\n",
    "topic = input(\"보고서 주제를 입력하세요: \")\n",
    "total_sections = int(input(\"생성할 섹션의 수를 입력하세요: \"))\n",
    "\n",
    "# 초기 상태 설정\n",
    "initial_state = {\n",
    "    \"messages\": [HumanMessage(content=topic)],\n",
    "    \"total_sections\": total_sections,\n",
    "    \"current_section\": 1,\n",
    "}\n",
    "\n",
    "# 그래프 실행\n",
    "for chunk in graph.stream(initial_state,stream_mode=\"update\"):\n",
    "    print(chunk)\n",
    "\n",
    "print(\"\\n=== 보고서 생성 완료 ===\")"
   ]
  },
  {
   "cell_type": "code",
   "execution_count": null,
   "id": "a45e20e8-77be-4deb-9bf3-afdeb134f91a",
   "metadata": {},
   "outputs": [],
   "source": []
  },
  {
   "cell_type": "code",
   "execution_count": null,
   "id": "f9ee6d82-0e27-4e91-ad5e-81f1e0cb2043",
   "metadata": {},
   "outputs": [],
   "source": []
  }
 ],
 "metadata": {
  "kernelspec": {
   "display_name": "Python 3",
   "language": "python",
   "name": "python3"
  },
  "language_info": {
   "codemirror_mode": {
    "name": "ipython",
    "version": 3
   },
   "file_extension": ".py",
   "mimetype": "text/x-python",
   "name": "python",
   "nbconvert_exporter": "python",
   "pygments_lexer": "ipython3",
   "version": "3.11.6"
  }
 },
 "nbformat": 4,
 "nbformat_minor": 5
}
