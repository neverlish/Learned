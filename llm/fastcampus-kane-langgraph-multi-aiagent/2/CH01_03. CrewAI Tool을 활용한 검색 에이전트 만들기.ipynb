{
 "cells": [
  {
   "cell_type": "code",
   "execution_count": 1,
   "id": "1def5aa3-5140-4dea-9f47-e15c760db82d",
   "metadata": {},
   "outputs": [],
   "source": [
    "import os\n",
    "import warnings\n",
    "warnings.filterwarnings('ignore')"
   ]
  },
  {
   "cell_type": "code",
   "execution_count": 2,
   "id": "1791a0d1-6b65-4abf-94c7-215c137ff079",
   "metadata": {},
   "outputs": [
    {
     "name": "stderr",
     "output_type": "stream",
     "text": [
      "/Users/hyeonjinho/.pyenv/versions/3.11.6/lib/python3.11/site-packages/pydantic/_internal/_config.py:295: PydanticDeprecatedSince20: Support for class-based `config` is deprecated, use ConfigDict instead. Deprecated in Pydantic V2.0 to be removed in V3.0. See Pydantic V2 Migration Guide at https://errors.pydantic.dev/2.10/migration/\n",
      "  warnings.warn(DEPRECATION_MESSAGE, DeprecationWarning)\n",
      "/Users/hyeonjinho/.pyenv/versions/3.11.6/lib/python3.11/site-packages/crewai_tools/tools/scrapegraph_scrape_tool/scrapegraph_scrape_tool.py:34: PydanticDeprecatedSince20: Pydantic V1 style `@validator` validators are deprecated. You should migrate to Pydantic V2 style `@field_validator` validators, see the migration guide for more details. Deprecated in Pydantic V2.0 to be removed in V3.0. See Pydantic V2 Migration Guide at https://errors.pydantic.dev/2.10/migration/\n",
      "  @validator(\"website_url\")\n",
      "/Users/hyeonjinho/.pyenv/versions/3.11.6/lib/python3.11/site-packages/crewai_tools/tools/selenium_scraping_tool/selenium_scraping_tool.py:26: PydanticDeprecatedSince20: Pydantic V1 style `@validator` validators are deprecated. You should migrate to Pydantic V2 style `@field_validator` validators, see the migration guide for more details. Deprecated in Pydantic V2.0 to be removed in V3.0. See Pydantic V2 Migration Guide at https://errors.pydantic.dev/2.10/migration/\n",
      "  @validator(\"website_url\")\n",
      "/Users/hyeonjinho/.pyenv/versions/3.11.6/lib/python3.11/site-packages/crewai_tools/tools/vision_tool/vision_tool.py:15: PydanticDeprecatedSince20: Pydantic V1 style `@validator` validators are deprecated. You should migrate to Pydantic V2 style `@field_validator` validators, see the migration guide for more details. Deprecated in Pydantic V2.0 to be removed in V3.0. See Pydantic V2 Migration Guide at https://errors.pydantic.dev/2.10/migration/\n",
      "  @validator(\"image_path_url\")\n"
     ]
    }
   ],
   "source": [
    "from crewai import Agent, Task, Crew, LLM\n",
    "from crewai.process import Process\n",
    "# Importing crewAI tools\n",
    "from crewai_tools import (\n",
    "    SerperDevTool, \n",
    "    WebsiteSearchTool,\n",
    "    ScrapeWebsiteTool\n",
    ")"
   ]
  },
  {
   "cell_type": "code",
   "execution_count": 4,
   "id": "ed5598c0-ccfd-4a01-be45-4f500c19a960",
   "metadata": {},
   "outputs": [
    {
     "data": {
      "text/html": [
       "<pre style=\"white-space:pre;overflow-x:auto;line-height:normal;font-family:Menlo,'DejaVu Sans Mono',consolas,'Courier New',monospace\"><span style=\"color: #008080; text-decoration-color: #008080\">╭──────────────────────────────────────────── Crew Execution Started ─────────────────────────────────────────────╮</span>\n",
       "<span style=\"color: #008080; text-decoration-color: #008080\">│</span>                                                                                                                 <span style=\"color: #008080; text-decoration-color: #008080\">│</span>\n",
       "<span style=\"color: #008080; text-decoration-color: #008080\">│</span>  <span style=\"color: #008080; text-decoration-color: #008080; font-weight: bold\">Crew Execution Started</span>                                                                                         <span style=\"color: #008080; text-decoration-color: #008080\">│</span>\n",
       "<span style=\"color: #008080; text-decoration-color: #008080\">│</span>  <span style=\"color: #c0c0c0; text-decoration-color: #c0c0c0\">Name: </span><span style=\"color: #008080; text-decoration-color: #008080\">crew</span>                                                                                                     <span style=\"color: #008080; text-decoration-color: #008080\">│</span>\n",
       "<span style=\"color: #008080; text-decoration-color: #008080\">│</span>  <span style=\"color: #c0c0c0; text-decoration-color: #c0c0c0\">ID: </span><span style=\"color: #008080; text-decoration-color: #008080\">64eea2ef-2151-4b59-9e01-59a4d636d4ec</span>                                                                       <span style=\"color: #008080; text-decoration-color: #008080\">│</span>\n",
       "<span style=\"color: #008080; text-decoration-color: #008080\">│</span>                                                                                                                 <span style=\"color: #008080; text-decoration-color: #008080\">│</span>\n",
       "<span style=\"color: #008080; text-decoration-color: #008080\">│</span>                                                                                                                 <span style=\"color: #008080; text-decoration-color: #008080\">│</span>\n",
       "<span style=\"color: #008080; text-decoration-color: #008080\">╰─────────────────────────────────────────────────────────────────────────────────────────────────────────────────╯</span>\n",
       "</pre>\n"
      ],
      "text/plain": [
       "\u001b[36m╭─\u001b[0m\u001b[36m───────────────────────────────────────────\u001b[0m\u001b[36m Crew Execution Started \u001b[0m\u001b[36m────────────────────────────────────────────\u001b[0m\u001b[36m─╮\u001b[0m\n",
       "\u001b[36m│\u001b[0m                                                                                                                 \u001b[36m│\u001b[0m\n",
       "\u001b[36m│\u001b[0m  \u001b[1;36mCrew Execution Started\u001b[0m                                                                                         \u001b[36m│\u001b[0m\n",
       "\u001b[36m│\u001b[0m  \u001b[37mName: \u001b[0m\u001b[36mcrew\u001b[0m                                                                                                     \u001b[36m│\u001b[0m\n",
       "\u001b[36m│\u001b[0m  \u001b[37mID: \u001b[0m\u001b[36m64eea2ef-2151-4b59-9e01-59a4d636d4ec\u001b[0m                                                                       \u001b[36m│\u001b[0m\n",
       "\u001b[36m│\u001b[0m                                                                                                                 \u001b[36m│\u001b[0m\n",
       "\u001b[36m│\u001b[0m                                                                                                                 \u001b[36m│\u001b[0m\n",
       "\u001b[36m╰─────────────────────────────────────────────────────────────────────────────────────────────────────────────────╯\u001b[0m\n"
      ]
     },
     "metadata": {},
     "output_type": "display_data"
    },
    {
     "data": {
      "text/html": [
       "<pre style=\"white-space:pre;overflow-x:auto;line-height:normal;font-family:Menlo,'DejaVu Sans Mono',consolas,'Courier New',monospace\">\n",
       "</pre>\n"
      ],
      "text/plain": [
       "\n"
      ]
     },
     "metadata": {},
     "output_type": "display_data"
    },
    {
     "data": {
      "text/html": [
       "<pre style=\"white-space:pre;overflow-x:auto;line-height:normal;font-family:Menlo,'DejaVu Sans Mono',consolas,'Courier New',monospace\"><span style=\"color: #008080; text-decoration-color: #008080; font-weight: bold\">🚀 Crew: crew</span>\n",
       "└── <span style=\"color: #808000; text-decoration-color: #808000; font-weight: bold\">📋 Task: 17461861-ac1d-4142-92f1-da84aa954fc3</span>\n",
       "    <span style=\"color: #c0c0c0; text-decoration-color: #c0c0c0\">   Status: </span><span style=\"color: #bfbf7f; text-decoration-color: #bfbf7f\">Executing Task...</span>\n",
       "</pre>\n"
      ],
      "text/plain": [
       "\u001b[1;36m🚀 Crew: \u001b[0m\u001b[1;36mcrew\u001b[0m\n",
       "└── \u001b[1;33m📋 Task: 17461861-ac1d-4142-92f1-da84aa954fc3\u001b[0m\n",
       "    \u001b[37m   Status: \u001b[0m\u001b[2;33mExecuting Task...\u001b[0m\n"
      ]
     },
     "metadata": {},
     "output_type": "display_data"
    },
    {
     "data": {
      "text/html": [
       "<pre style=\"white-space:pre;overflow-x:auto;line-height:normal;font-family:Menlo,'DejaVu Sans Mono',consolas,'Courier New',monospace\">\n",
       "</pre>\n"
      ],
      "text/plain": [
       "\n"
      ]
     },
     "metadata": {},
     "output_type": "display_data"
    },
    {
     "data": {
      "text/html": [
       "<pre style=\"white-space:pre;overflow-x:auto;line-height:normal;font-family:Menlo,'DejaVu Sans Mono',consolas,'Courier New',monospace\"><span style=\"color: #008080; text-decoration-color: #008080; font-weight: bold\">🚀 Crew: crew</span>\n",
       "└── <span style=\"color: #808000; text-decoration-color: #808000; font-weight: bold\">📋 Task: 17461861-ac1d-4142-92f1-da84aa954fc3</span>\n",
       "    <span style=\"color: #c0c0c0; text-decoration-color: #c0c0c0\">   Status: </span><span style=\"color: #bfbf7f; text-decoration-color: #bfbf7f\">Executing Task...</span>\n",
       "    └── <span style=\"color: #008000; text-decoration-color: #008000; font-weight: bold\">🤖 Agent: </span><span style=\"color: #008000; text-decoration-color: #008000\">테크 트렌드 연구원</span>\n",
       "        <span style=\"color: #c0c0c0; text-decoration-color: #c0c0c0\">    Status: </span><span style=\"color: #008000; text-decoration-color: #008000; font-weight: bold\">In Progress</span>\n",
       "</pre>\n"
      ],
      "text/plain": [
       "\u001b[1;36m🚀 Crew: \u001b[0m\u001b[1;36mcrew\u001b[0m\n",
       "└── \u001b[1;33m📋 Task: 17461861-ac1d-4142-92f1-da84aa954fc3\u001b[0m\n",
       "    \u001b[37m   Status: \u001b[0m\u001b[2;33mExecuting Task...\u001b[0m\n",
       "    └── \u001b[1;32m🤖 Agent: \u001b[0m\u001b[32m테크 트렌드 연구원\u001b[0m\n",
       "        \u001b[37m    Status: \u001b[0m\u001b[1;32mIn Progress\u001b[0m\n"
      ]
     },
     "metadata": {},
     "output_type": "display_data"
    },
    {
     "data": {
      "text/html": [
       "<pre style=\"white-space:pre;overflow-x:auto;line-height:normal;font-family:Menlo,'DejaVu Sans Mono',consolas,'Courier New',monospace\">\n",
       "</pre>\n"
      ],
      "text/plain": [
       "\n"
      ]
     },
     "metadata": {},
     "output_type": "display_data"
    },
    {
     "name": "stdout",
     "output_type": "stream",
     "text": [
      "\u001b[1m\u001b[95m# Agent:\u001b[00m \u001b[1m\u001b[92m테크 트렌드 연구원\u001b[00m\n",
      "\u001b[95m## Task:\u001b[00m \u001b[92mAI 업계의 최신 기술 동향을 조사하고 요약을 제공하세요.\u001b[00m\n"
     ]
    },
    {
     "data": {
      "text/html": [
       "<pre style=\"white-space:pre;overflow-x:auto;line-height:normal;font-family:Menlo,'DejaVu Sans Mono',consolas,'Courier New',monospace\"><span style=\"color: #008080; text-decoration-color: #008080; font-weight: bold\">🚀 Crew: crew</span>\n",
       "└── <span style=\"color: #808000; text-decoration-color: #808000; font-weight: bold\">📋 Task: 17461861-ac1d-4142-92f1-da84aa954fc3</span>\n",
       "    <span style=\"color: #c0c0c0; text-decoration-color: #c0c0c0\">   Status: </span><span style=\"color: #bfbf7f; text-decoration-color: #bfbf7f\">Executing Task...</span>\n",
       "    └── <span style=\"color: #008000; text-decoration-color: #008000; font-weight: bold\">🤖 Agent: </span><span style=\"color: #008000; text-decoration-color: #008000\">테크 트렌드 연구원</span>\n",
       "        <span style=\"color: #c0c0c0; text-decoration-color: #c0c0c0\">    Status: </span><span style=\"color: #008000; text-decoration-color: #008000; font-weight: bold\">In Progress</span>\n",
       "        └── <span style=\"color: #000080; text-decoration-color: #000080; font-weight: bold\">🧠 </span><span style=\"color: #000080; text-decoration-color: #000080\">Thinking...</span>\n",
       "</pre>\n"
      ],
      "text/plain": [
       "\u001b[1;36m🚀 Crew: \u001b[0m\u001b[1;36mcrew\u001b[0m\n",
       "└── \u001b[1;33m📋 Task: 17461861-ac1d-4142-92f1-da84aa954fc3\u001b[0m\n",
       "    \u001b[37m   Status: \u001b[0m\u001b[2;33mExecuting Task...\u001b[0m\n",
       "    └── \u001b[1;32m🤖 Agent: \u001b[0m\u001b[32m테크 트렌드 연구원\u001b[0m\n",
       "        \u001b[37m    Status: \u001b[0m\u001b[1;32mIn Progress\u001b[0m\n",
       "        └── \u001b[1;34m🧠 \u001b[0m\u001b[34mThinking...\u001b[0m\n"
      ]
     },
     "metadata": {},
     "output_type": "display_data"
    },
    {
     "data": {
      "text/html": [
       "<pre style=\"white-space:pre;overflow-x:auto;line-height:normal;font-family:Menlo,'DejaVu Sans Mono',consolas,'Courier New',monospace\">\n",
       "</pre>\n"
      ],
      "text/plain": [
       "\n"
      ]
     },
     "metadata": {},
     "output_type": "display_data"
    },
    {
     "data": {
      "text/html": [
       "<pre style=\"white-space:pre;overflow-x:auto;line-height:normal;font-family:Menlo,'DejaVu Sans Mono',consolas,'Courier New',monospace\"><span style=\"color: #008080; text-decoration-color: #008080; font-weight: bold\">🚀 Crew: crew</span>\n",
       "└── <span style=\"color: #808000; text-decoration-color: #808000; font-weight: bold\">📋 Task: 17461861-ac1d-4142-92f1-da84aa954fc3</span>\n",
       "    <span style=\"color: #c0c0c0; text-decoration-color: #c0c0c0\">   Status: </span><span style=\"color: #bfbf7f; text-decoration-color: #bfbf7f\">Executing Task...</span>\n",
       "    └── <span style=\"color: #008000; text-decoration-color: #008000; font-weight: bold\">🤖 Agent: </span><span style=\"color: #008000; text-decoration-color: #008000\">테크 트렌드 연구원</span>\n",
       "        <span style=\"color: #c0c0c0; text-decoration-color: #c0c0c0\">    Status: </span><span style=\"color: #008000; text-decoration-color: #008000; font-weight: bold\">In Progress</span>\n",
       "</pre>\n"
      ],
      "text/plain": [
       "\u001b[1;36m🚀 Crew: \u001b[0m\u001b[1;36mcrew\u001b[0m\n",
       "└── \u001b[1;33m📋 Task: 17461861-ac1d-4142-92f1-da84aa954fc3\u001b[0m\n",
       "    \u001b[37m   Status: \u001b[0m\u001b[2;33mExecuting Task...\u001b[0m\n",
       "    └── \u001b[1;32m🤖 Agent: \u001b[0m\u001b[32m테크 트렌드 연구원\u001b[0m\n",
       "        \u001b[37m    Status: \u001b[0m\u001b[1;32mIn Progress\u001b[0m\n"
      ]
     },
     "metadata": {},
     "output_type": "display_data"
    },
    {
     "data": {
      "text/html": [
       "<pre style=\"white-space:pre;overflow-x:auto;line-height:normal;font-family:Menlo,'DejaVu Sans Mono',consolas,'Courier New',monospace\">\n",
       "</pre>\n"
      ],
      "text/plain": [
       "\n"
      ]
     },
     "metadata": {},
     "output_type": "display_data"
    },
    {
     "data": {
      "text/html": [
       "<pre style=\"white-space:pre;overflow-x:auto;line-height:normal;font-family:Menlo,'DejaVu Sans Mono',consolas,'Courier New',monospace\"><span style=\"color: #008080; text-decoration-color: #008080; font-weight: bold\">🚀 Crew: crew</span>\n",
       "└── <span style=\"color: #808000; text-decoration-color: #808000; font-weight: bold\">📋 Task: 17461861-ac1d-4142-92f1-da84aa954fc3</span>\n",
       "    <span style=\"color: #c0c0c0; text-decoration-color: #c0c0c0\">   Status: </span><span style=\"color: #bfbf7f; text-decoration-color: #bfbf7f\">Executing Task...</span>\n",
       "    └── <span style=\"color: #008000; text-decoration-color: #008000; font-weight: bold\">🤖 Agent: </span><span style=\"color: #008000; text-decoration-color: #008000\">테크 트렌드 연구원</span>\n",
       "        <span style=\"color: #c0c0c0; text-decoration-color: #c0c0c0\">    Status: </span><span style=\"color: #008000; text-decoration-color: #008000; font-weight: bold\">In Progress</span>\n",
       "        └── <span style=\"color: #808000; text-decoration-color: #808000; font-weight: bold\">🔧 </span><span style=\"color: #808000; text-decoration-color: #808000\">Using Search the internet with Serper (2)</span>\n",
       "</pre>\n"
      ],
      "text/plain": [
       "\u001b[1;36m🚀 Crew: \u001b[0m\u001b[1;36mcrew\u001b[0m\n",
       "└── \u001b[1;33m📋 Task: 17461861-ac1d-4142-92f1-da84aa954fc3\u001b[0m\n",
       "    \u001b[37m   Status: \u001b[0m\u001b[2;33mExecuting Task...\u001b[0m\n",
       "    └── \u001b[1;32m🤖 Agent: \u001b[0m\u001b[32m테크 트렌드 연구원\u001b[0m\n",
       "        \u001b[37m    Status: \u001b[0m\u001b[1;32mIn Progress\u001b[0m\n",
       "        └── \u001b[1;33m🔧 \u001b[0m\u001b[33mUsing Search the internet with Serper (2)\u001b[0m\n"
      ]
     },
     "metadata": {},
     "output_type": "display_data"
    },
    {
     "data": {
      "text/html": [
       "<pre style=\"white-space:pre;overflow-x:auto;line-height:normal;font-family:Menlo,'DejaVu Sans Mono',consolas,'Courier New',monospace\">\n",
       "</pre>\n"
      ],
      "text/plain": [
       "\n"
      ]
     },
     "metadata": {},
     "output_type": "display_data"
    },
    {
     "data": {
      "text/html": [
       "<pre style=\"white-space:pre;overflow-x:auto;line-height:normal;font-family:Menlo,'DejaVu Sans Mono',consolas,'Courier New',monospace\"><span style=\"color: #008080; text-decoration-color: #008080; font-weight: bold\">🚀 Crew: crew</span>\n",
       "└── <span style=\"color: #808000; text-decoration-color: #808000; font-weight: bold\">📋 Task: 17461861-ac1d-4142-92f1-da84aa954fc3</span>\n",
       "    <span style=\"color: #c0c0c0; text-decoration-color: #c0c0c0\">   Status: </span><span style=\"color: #bfbf7f; text-decoration-color: #bfbf7f\">Executing Task...</span>\n",
       "    └── <span style=\"color: #008000; text-decoration-color: #008000; font-weight: bold\">🤖 Agent: </span><span style=\"color: #008000; text-decoration-color: #008000\">테크 트렌드 연구원</span>\n",
       "        <span style=\"color: #c0c0c0; text-decoration-color: #c0c0c0\">    Status: </span><span style=\"color: #008000; text-decoration-color: #008000; font-weight: bold\">In Progress</span>\n",
       "        └── <span style=\"color: #008000; text-decoration-color: #008000; font-weight: bold\">🔧 </span><span style=\"color: #008000; text-decoration-color: #008000\">Used Search the internet with Serper (2)</span>\n",
       "</pre>\n"
      ],
      "text/plain": [
       "\u001b[1;36m🚀 Crew: \u001b[0m\u001b[1;36mcrew\u001b[0m\n",
       "└── \u001b[1;33m📋 Task: 17461861-ac1d-4142-92f1-da84aa954fc3\u001b[0m\n",
       "    \u001b[37m   Status: \u001b[0m\u001b[2;33mExecuting Task...\u001b[0m\n",
       "    └── \u001b[1;32m🤖 Agent: \u001b[0m\u001b[32m테크 트렌드 연구원\u001b[0m\n",
       "        \u001b[37m    Status: \u001b[0m\u001b[1;32mIn Progress\u001b[0m\n",
       "        └── \u001b[1;32m🔧 \u001b[0m\u001b[32mUsed Search the internet with Serper (2)\u001b[0m\n"
      ]
     },
     "metadata": {},
     "output_type": "display_data"
    },
    {
     "data": {
      "text/html": [
       "<pre style=\"white-space:pre;overflow-x:auto;line-height:normal;font-family:Menlo,'DejaVu Sans Mono',consolas,'Courier New',monospace\">\n",
       "</pre>\n"
      ],
      "text/plain": [
       "\n"
      ]
     },
     "metadata": {},
     "output_type": "display_data"
    },
    {
     "name": "stdout",
     "output_type": "stream",
     "text": [
      "\n",
      "\n",
      "\u001b[1m\u001b[95m# Agent:\u001b[00m \u001b[1m\u001b[92m테크 트렌드 연구원\u001b[00m\n",
      "\u001b[95m## Using tool:\u001b[00m \u001b[92mSearch the internet with Serper\u001b[00m\n",
      "\u001b[95m## Tool Input:\u001b[00m \u001b[92m\n",
      "\"{\\\"search_query\\\": \\\"2024 AI technology trends summary\\\"}\"\u001b[00m\n",
      "\u001b[95m## Tool Output:\u001b[00m \u001b[92m\n",
      "{'searchParameters': {'q': '2024 AI technology trends summary', 'type': 'search', 'num': 10, 'engine': 'google'}, 'organic': [{'title': 'McKinsey technology trends outlook 2024', 'link': 'https://www.mckinsey.com/capabilities/mckinsey-digital/our-insights/the-top-trends-in-tech', 'snippet': 'Advancements in AI are ushering in a new era of more capable robots, spurring greater innovation and a wider range of deployments. Research ...', 'position': 1}, {'title': 'AI Pulse: Top AI Trends from 2024 - A Look Back | Trend Micro (US)', 'link': 'https://www.trendmicro.com/en_us/research/25/a/top-ai-trends-from-2024-review.html', 'snippet': \"In this edition of AI Pulse, let's look back at top AI trends from 2024 in the rear view so we can more clearly predicts AI trends for 2025 and beyond.\", 'position': 2}, {'title': '2024 Global Trends in AI - WEKA', 'link': 'https://www.weka.io/resources/analyst-report/2024-global-trends-in-ai/', 'snippet': 'Discover key AI trends in 2024. Explore generative AI, scaling challenges, GPU demand, and sustainable practices. Download the S&P Global report.', 'position': 3}, {'title': 'The most important AI trends in 2024 - IBM', 'link': 'https://www.ibm.com/think/insights/artificial-intelligence-trends', 'snippet': 'Reality check: more realistic expectations · Multimodal AI (and video) · Small(er) language models and open source advancements · GPU shortages and ...', 'position': 4}, {'title': \"What's next for AI in 2024 - MIT Technology Review\", 'link': 'https://www.technologyreview.com/2024/01/04/1086046/whats-next-for-ai-in-2024/', 'snippet': \"We know that large language models will continue to dominate. Regulators will grow bolder. AI's problems—from bias to copyright to doomerism— ...\", 'position': 5}, {'title': 'Five Key Trends in AI and Data Science for 2024', 'link': 'https://sloanreview.mit.edu/article/five-key-trends-in-ai-and-data-science-for-2024/', 'snippet': '1. Generative AI sparkles but needs to deliver value. · 2. Data science is shifting from artisanal to industrial. · 3. Two versions of data ...', 'position': 6}, {'title': 'What is the latest trend in 2024 AI and technology? - Quora', 'link': 'https://www.quora.com/What-is-the-latest-trend-in-2024-AI-and-technology', 'snippet': 'The latest trends in AI and technology in 2024 are diverse and transformative, focusing on enhancing efficiency, personalization, ...', 'position': 7}, {'title': '131 AI Statistics and Trends for 2025 - National University', 'link': 'https://www.nu.edu/blog/ai-statistics-trends/', 'snippet': 'Half of business owners expect AI to improve decision-making processes. 47% anticipate AI improving their business credibility.', 'position': 8, 'sitelinks': [{'title': 'Ai Demographics', 'link': 'https://www.nu.edu/blog/ai-statistics-trends/#:~:text=AI%20Demographics,-Understanding%20the%20demographics%20behind%20AI'}, {'title': 'Ai Jobs And Market', 'link': 'https://www.nu.edu/blog/ai-statistics-trends/#:~:text=AI%20Jobs%20and%20Market'}, {'title': 'Ai And User Trust', 'link': 'https://www.nu.edu/blog/ai-statistics-trends/#:~:text=AI%20and%20User%20Trust'}]}, {'title': '11 New Technologies in AI: All Trends of 2023-2024 - devabit', 'link': 'https://devabit.com/blog/top-11-new-technologies-in-ai-exploring-the-latest-trends/', 'snippet': 'From the remarkable advancements in natural language processing (NLP) and GPT to the impact of AI on the sales and marketing industries, we will explore the ...', 'position': 9, 'sitelinks': [{'title': 'GPT-3.5/GPT-4', 'link': 'https://devabit.com/blog/top-11-new-technologies-in-ai-exploring-the-latest-trends/#new-technologies-in-ai'}, {'title': 'Explainable AI (XAI)', 'link': 'https://devabit.com/blog/top-11-new-technologies-in-ai-exploring-the-latest-trends/#new-technologies-in-ai-explainable-ai-xai'}, {'title': 'Natural Language Processing...', 'link': 'https://devabit.com/blog/top-11-new-technologies-in-ai-exploring-the-latest-trends/#new-technologies-in-ai-natural-language-proces'}, {'title': 'Biometrics', 'link': 'https://devabit.com/blog/top-11-new-technologies-in-ai-exploring-the-latest-trends/#new-technologies-in-ai-biometrics'}]}], 'peopleAlsoAsk': [{'question': 'What is one of the key AI trends for 2024?', 'snippet': \"The 2024 AI trends showed us that AI isn't just an experiment— it's becoming an integral part of our business operations and in our society. Generative AI is now a daily tool, multimodal AI simplifies content creation, and reasoning AI solves real-world problems.\", 'title': 'Top AI Trends in 2024 - Neudesic', 'link': 'https://www.neudesic.com/blog/2024-recap-ai-trends/'}, {'question': 'What is the trending technology in 2024?', 'snippet': 'AI-Powered Cybersecurity This trend reflects the growing recognition that traditional rule-based security approaches are insufficient against modern cyber threats, leading to the adoption of more sophisticated, AI-driven security solutions that can adapt to evolving threat landscapes.', 'title': 'Top 10: Technology Trends of 2024', 'link': 'https://technologymagazine.com/top10/top-10-technology-trends-of-2024'}, {'question': \"How will 2024 be AI's leap forward?\", 'snippet': 'Looking Forward The advances in 2024 point to broader changes ahead. These systems now handle uncertainty with more sophistication, explain their reasoning processes and adapt to new information. They tackle increasingly complex tasks across fields, from scientific research to creative production.', 'title': 'AI Leap Year: Smarter, Sharper and Ready to Reshape Everything', 'link': 'https://www.pymnts.com/news/artificial-intelligence/2024/ais-leap-year-smarter-sharper-and-ready-to-reshape-everything/'}], 'relatedSearches': [{'query': 'Boston Consulting...'}, {'query': '2024 ai technology trends summary pdf'}, {'query': 'Technology trends 2024'}, {'query': 'Top 10 technology trends 2024'}, {'query': 'AI trends 2024'}, {'query': 'McKinsey technology trends Outlook 2024'}, {'query': 'McKinsey technology trends Outlook 2024 PDF'}, {'query': 'Technology trends 2025'}, {'query': 'The state of AI in 2024'}], 'credits': 1}\u001b[00m\n"
     ]
    },
    {
     "data": {
      "text/html": [
       "<pre style=\"white-space:pre;overflow-x:auto;line-height:normal;font-family:Menlo,'DejaVu Sans Mono',consolas,'Courier New',monospace\"><span style=\"color: #008080; text-decoration-color: #008080; font-weight: bold\">🚀 Crew: crew</span>\n",
       "└── <span style=\"color: #808000; text-decoration-color: #808000; font-weight: bold\">📋 Task: 17461861-ac1d-4142-92f1-da84aa954fc3</span>\n",
       "    <span style=\"color: #c0c0c0; text-decoration-color: #c0c0c0\">   Status: </span><span style=\"color: #bfbf7f; text-decoration-color: #bfbf7f\">Executing Task...</span>\n",
       "    └── <span style=\"color: #008000; text-decoration-color: #008000; font-weight: bold\">🤖 Agent: </span><span style=\"color: #008000; text-decoration-color: #008000\">테크 트렌드 연구원</span>\n",
       "        <span style=\"color: #c0c0c0; text-decoration-color: #c0c0c0\">    Status: </span><span style=\"color: #008000; text-decoration-color: #008000; font-weight: bold\">In Progress</span>\n",
       "        ├── <span style=\"color: #008000; text-decoration-color: #008000; font-weight: bold\">🔧 </span><span style=\"color: #008000; text-decoration-color: #008000\">Used Search the internet with Serper (2)</span>\n",
       "        └── <span style=\"color: #000080; text-decoration-color: #000080; font-weight: bold\">🧠 </span><span style=\"color: #000080; text-decoration-color: #000080\">Thinking...</span>\n",
       "</pre>\n"
      ],
      "text/plain": [
       "\u001b[1;36m🚀 Crew: \u001b[0m\u001b[1;36mcrew\u001b[0m\n",
       "└── \u001b[1;33m📋 Task: 17461861-ac1d-4142-92f1-da84aa954fc3\u001b[0m\n",
       "    \u001b[37m   Status: \u001b[0m\u001b[2;33mExecuting Task...\u001b[0m\n",
       "    └── \u001b[1;32m🤖 Agent: \u001b[0m\u001b[32m테크 트렌드 연구원\u001b[0m\n",
       "        \u001b[37m    Status: \u001b[0m\u001b[1;32mIn Progress\u001b[0m\n",
       "        ├── \u001b[1;32m🔧 \u001b[0m\u001b[32mUsed Search the internet with Serper (2)\u001b[0m\n",
       "        └── \u001b[1;34m🧠 \u001b[0m\u001b[34mThinking...\u001b[0m\n"
      ]
     },
     "metadata": {},
     "output_type": "display_data"
    },
    {
     "data": {
      "text/html": [
       "<pre style=\"white-space:pre;overflow-x:auto;line-height:normal;font-family:Menlo,'DejaVu Sans Mono',consolas,'Courier New',monospace\">\n",
       "</pre>\n"
      ],
      "text/plain": [
       "\n"
      ]
     },
     "metadata": {},
     "output_type": "display_data"
    },
    {
     "data": {
      "text/html": [
       "<pre style=\"white-space:pre;overflow-x:auto;line-height:normal;font-family:Menlo,'DejaVu Sans Mono',consolas,'Courier New',monospace\"><span style=\"color: #008080; text-decoration-color: #008080; font-weight: bold\">🚀 Crew: crew</span>\n",
       "└── <span style=\"color: #808000; text-decoration-color: #808000; font-weight: bold\">📋 Task: 17461861-ac1d-4142-92f1-da84aa954fc3</span>\n",
       "    <span style=\"color: #c0c0c0; text-decoration-color: #c0c0c0\">   Status: </span><span style=\"color: #bfbf7f; text-decoration-color: #bfbf7f\">Executing Task...</span>\n",
       "    └── <span style=\"color: #008000; text-decoration-color: #008000; font-weight: bold\">🤖 Agent: </span><span style=\"color: #008000; text-decoration-color: #008000\">테크 트렌드 연구원</span>\n",
       "        <span style=\"color: #c0c0c0; text-decoration-color: #c0c0c0\">    Status: </span><span style=\"color: #008000; text-decoration-color: #008000; font-weight: bold\">In Progress</span>\n",
       "        └── <span style=\"color: #008000; text-decoration-color: #008000; font-weight: bold\">🔧 </span><span style=\"color: #008000; text-decoration-color: #008000\">Used Search the internet with Serper (2)</span>\n",
       "</pre>\n"
      ],
      "text/plain": [
       "\u001b[1;36m🚀 Crew: \u001b[0m\u001b[1;36mcrew\u001b[0m\n",
       "└── \u001b[1;33m📋 Task: 17461861-ac1d-4142-92f1-da84aa954fc3\u001b[0m\n",
       "    \u001b[37m   Status: \u001b[0m\u001b[2;33mExecuting Task...\u001b[0m\n",
       "    └── \u001b[1;32m🤖 Agent: \u001b[0m\u001b[32m테크 트렌드 연구원\u001b[0m\n",
       "        \u001b[37m    Status: \u001b[0m\u001b[1;32mIn Progress\u001b[0m\n",
       "        └── \u001b[1;32m🔧 \u001b[0m\u001b[32mUsed Search the internet with Serper (2)\u001b[0m\n"
      ]
     },
     "metadata": {},
     "output_type": "display_data"
    },
    {
     "data": {
      "text/html": [
       "<pre style=\"white-space:pre;overflow-x:auto;line-height:normal;font-family:Menlo,'DejaVu Sans Mono',consolas,'Courier New',monospace\">\n",
       "</pre>\n"
      ],
      "text/plain": [
       "\n"
      ]
     },
     "metadata": {},
     "output_type": "display_data"
    },
    {
     "data": {
      "text/html": [
       "<pre style=\"white-space:pre;overflow-x:auto;line-height:normal;font-family:Menlo,'DejaVu Sans Mono',consolas,'Courier New',monospace\"><span style=\"color: #008080; text-decoration-color: #008080; font-weight: bold\">🚀 Crew: crew</span>\n",
       "└── <span style=\"color: #808000; text-decoration-color: #808000; font-weight: bold\">📋 Task: 17461861-ac1d-4142-92f1-da84aa954fc3</span>\n",
       "    <span style=\"color: #c0c0c0; text-decoration-color: #c0c0c0\">   Status: </span><span style=\"color: #bfbf7f; text-decoration-color: #bfbf7f\">Executing Task...</span>\n",
       "    └── <span style=\"color: #008000; text-decoration-color: #008000; font-weight: bold\">🤖 Agent: </span><span style=\"color: #008000; text-decoration-color: #008000\">테크 트렌드 연구원</span>\n",
       "        <span style=\"color: #c0c0c0; text-decoration-color: #c0c0c0\">    Status: </span><span style=\"color: #008000; text-decoration-color: #008000; font-weight: bold\">In Progress</span>\n",
       "        ├── <span style=\"color: #008000; text-decoration-color: #008000; font-weight: bold\">🔧 </span><span style=\"color: #008000; text-decoration-color: #008000\">Used Search the internet with Serper (2)</span>\n",
       "        └── <span style=\"color: #808000; text-decoration-color: #808000; font-weight: bold\">🔧 </span><span style=\"color: #808000; text-decoration-color: #808000\">Using Search in a specific website (2)</span>\n",
       "</pre>\n"
      ],
      "text/plain": [
       "\u001b[1;36m🚀 Crew: \u001b[0m\u001b[1;36mcrew\u001b[0m\n",
       "└── \u001b[1;33m📋 Task: 17461861-ac1d-4142-92f1-da84aa954fc3\u001b[0m\n",
       "    \u001b[37m   Status: \u001b[0m\u001b[2;33mExecuting Task...\u001b[0m\n",
       "    └── \u001b[1;32m🤖 Agent: \u001b[0m\u001b[32m테크 트렌드 연구원\u001b[0m\n",
       "        \u001b[37m    Status: \u001b[0m\u001b[1;32mIn Progress\u001b[0m\n",
       "        ├── \u001b[1;32m🔧 \u001b[0m\u001b[32mUsed Search the internet with Serper (2)\u001b[0m\n",
       "        └── \u001b[1;33m🔧 \u001b[0m\u001b[33mUsing Search in a specific website (2)\u001b[0m\n"
      ]
     },
     "metadata": {},
     "output_type": "display_data"
    },
    {
     "data": {
      "text/html": [
       "<pre style=\"white-space:pre;overflow-x:auto;line-height:normal;font-family:Menlo,'DejaVu Sans Mono',consolas,'Courier New',monospace\">\n",
       "</pre>\n"
      ],
      "text/plain": [
       "\n"
      ]
     },
     "metadata": {},
     "output_type": "display_data"
    },
    {
     "name": "stderr",
     "output_type": "stream",
     "text": [
      "Inserting batches in chromadb: 100%|██████████| 1/1 [00:00<00:00,  1.97it/s]\n"
     ]
    },
    {
     "data": {
      "text/html": [
       "<pre style=\"white-space:pre;overflow-x:auto;line-height:normal;font-family:Menlo,'DejaVu Sans Mono',consolas,'Courier New',monospace\"><span style=\"color: #008080; text-decoration-color: #008080; font-weight: bold\">🚀 Crew: crew</span>\n",
       "└── <span style=\"color: #808000; text-decoration-color: #808000; font-weight: bold\">📋 Task: 17461861-ac1d-4142-92f1-da84aa954fc3</span>\n",
       "    <span style=\"color: #c0c0c0; text-decoration-color: #c0c0c0\">   Status: </span><span style=\"color: #bfbf7f; text-decoration-color: #bfbf7f\">Executing Task...</span>\n",
       "    └── <span style=\"color: #008000; text-decoration-color: #008000; font-weight: bold\">🤖 Agent: </span><span style=\"color: #008000; text-decoration-color: #008000\">테크 트렌드 연구원</span>\n",
       "        <span style=\"color: #c0c0c0; text-decoration-color: #c0c0c0\">    Status: </span><span style=\"color: #008000; text-decoration-color: #008000; font-weight: bold\">In Progress</span>\n",
       "        ├── <span style=\"color: #008000; text-decoration-color: #008000; font-weight: bold\">🔧 </span><span style=\"color: #008000; text-decoration-color: #008000\">Used Search the internet with Serper (2)</span>\n",
       "        └── <span style=\"color: #008000; text-decoration-color: #008000; font-weight: bold\">🔧 </span><span style=\"color: #008000; text-decoration-color: #008000\">Used Search in a specific website (2)</span>\n",
       "</pre>\n"
      ],
      "text/plain": [
       "\u001b[1;36m🚀 Crew: \u001b[0m\u001b[1;36mcrew\u001b[0m\n",
       "└── \u001b[1;33m📋 Task: 17461861-ac1d-4142-92f1-da84aa954fc3\u001b[0m\n",
       "    \u001b[37m   Status: \u001b[0m\u001b[2;33mExecuting Task...\u001b[0m\n",
       "    └── \u001b[1;32m🤖 Agent: \u001b[0m\u001b[32m테크 트렌드 연구원\u001b[0m\n",
       "        \u001b[37m    Status: \u001b[0m\u001b[1;32mIn Progress\u001b[0m\n",
       "        ├── \u001b[1;32m🔧 \u001b[0m\u001b[32mUsed Search the internet with Serper (2)\u001b[0m\n",
       "        └── \u001b[1;32m🔧 \u001b[0m\u001b[32mUsed Search in a specific website (2)\u001b[0m\n"
      ]
     },
     "metadata": {},
     "output_type": "display_data"
    },
    {
     "data": {
      "text/html": [
       "<pre style=\"white-space:pre;overflow-x:auto;line-height:normal;font-family:Menlo,'DejaVu Sans Mono',consolas,'Courier New',monospace\">\n",
       "</pre>\n"
      ],
      "text/plain": [
       "\n"
      ]
     },
     "metadata": {},
     "output_type": "display_data"
    },
    {
     "name": "stdout",
     "output_type": "stream",
     "text": [
      "\n",
      "\n",
      "\u001b[1m\u001b[95m# Agent:\u001b[00m \u001b[1m\u001b[92m테크 트렌드 연구원\u001b[00m\n",
      "\u001b[95m## Using tool:\u001b[00m \u001b[92mSearch in a specific website\u001b[00m\n",
      "\u001b[95m## Tool Input:\u001b[00m \u001b[92m\n",
      "\"{\\\"search_query\\\": \\\"2024 AI technology trends\\\", \\\"website\\\": \\\"https://www.mckinsey.com\\\"}\"\u001b[00m\n",
      "\u001b[95m## Tool Output:\u001b[00m \u001b[92m\n",
      "Relevant Content:\n",
      "17개 산업별 2024년 AI 전망 - NVIDIA Blog Korea Skip to content Share Email 엔비디아의 전문가들이 2024년도 AI 트렌드를 발표했습니다. 산업계 전반에서 혁신적인 신기술에 주목하면서 ‘생성형 AI’, ‘사전 훈련된 생성 변환기(GPT)’와 같은 새로운 용어와 함께 ‘대규모 언어 모델(LLM)’, ‘검색 증강 생성(RAG)’도 등장했습니다. 올 한 해는 생성형 AI가 놀라운 주목을 받았으며, 큰 화제를 불러일으켰습니다. 많은 기업이 텍스트, 음성과 비디오를 수집해 생산성, 혁신과 창의성에 혁명을 일으킬 수 있도록 새로운 콘텐츠를 만들어내는 능력을 활용하기 위해 노력하고 있습니다. 기업들은 이러한 추세에 부응하고 있는데요, 맥킨지 & 컴퍼니(McKinsey & Company)에 따르면, 기업 데이터로 훈련된 오픈AI(OpenAI)의 챗GPT(ChatGPT)와 같은 딥러닝 알고리즘은 63개의 비즈니스 사용 사례에서 연간 2조 6천억 달러에서 4조 4천억 달러에 해당하는 가치를 창출할 수 있습니다. 하지만 방대한 양의 내부 데이터 관리는 AI 확장의 가장 큰 걸림돌로 여겨집니다. 일부 엔비디아 AI 전문가들은 2024년에는 클라우드 서비스 제공업체, 데이터 스토리지와 분석 기업, 또는 빅데이터를 효율적으로 처리, 미세 조정, 배포의 노하우를 가진 다른 기업과의 파트너십, 협업을 구축하는 것이 중요해질 것이라고 예측하고 있습니다. 이 모든 것의 중심에는 LLM이 있는데요. 엔비디아 전문가들은 LLM 연구의 발전이 비즈니스와 엔터프라이즈 애플리케이션에 점점 더 많이 적용될 것이라고 예상하고 있습니다. RAG, 자율 지능형 에이전트, 멀티모달 인터랙션과 같은 AI 기능은 거의 모든 플랫폼을 통해 더욱 쉽게 액세스하고 배포할 수 있습니다. 엔비디아 전문가들이 전하는 2024년도 AI 전망은 다음과 같습니다. 마누비르 다스(MANUVIR DAS) 엔터프라이즈 컴퓨팅 부문 부사장 1. 맞춤형 솔루션이 필요하다: 기업에도 커스터마이징이 도입되고 있습니다. 기업들은 한두 개의 생성형 AI 애플리케이션을 보유하는 것이 아니라, 비즈니스의 다양한 부분에 적합한 독점 데이터를 사용해 수백 개의 맞춤형 애플리케이션을 보유하게 됩니다. 프로덕션 단계에서 이러한 맞춤형 LLM이 실행되면 데이터 소스를 생성형 AI 모델에 연결해 보다 정확하고 정보에 입각한 응답을 제공하는 RAG 기능을 갖추게 됩니다. 암독스(Amdocs), 드롭박스(Dropbox), 제넨테크(Genentech), SAP, 서비스나우(ServiceNow), 스노우플레이크(Snowflake)와 같은 선도적인 기업들은 이미 RAG와 LLM을 통해 새로운 생성형 AI 서비스를 구축하고 있습니다. 2. 오픈소스 소프트웨어가 주도하고 있다: 사전 훈련된 오픈소스 모델 덕분에 특정 분야의 문제를 해결하는 생성형 AI 애플리케이션이 기업 운영 전략의 일부가 될 것입니다. 기업이 이러한 선행 모델을 비공개 또는 실시간 데이터와 결합하면 조직 전반에서 생산성과 비용의 이점을 가속화할 수 있습니다. 클라우드 기반 컴퓨팅과 AI 모델 파운드리 서비스부터 데이터센터, 엣지, 데스크톱에 이르기까지 거의 모든 플랫폼에서 AI 컴퓨팅과 소프트웨어에 더욱 쉽게 액세스할 수 있습니다. 상용 AI와 마이크로서비스: 생성형 AI는 개발자가 복잡한 애플리케이션을 더 쉽게 구축할 수 있도록 애플리케이션 프로그래밍 인터페이스(API) 엔드포인트의 채택에 박차를 가했습니다. 2024년에는 개발자가 서비스형 RAG와 같은 AI 마이크로서비스를 통해 상용 AI 모델을 커스터마이징함에 따라 소프트웨어 개발 키트와 API의 수준이 높아질 예정입니다. 따라서 기업은 최신 비즈니스 정보에 액세스할 수 있는 지능형 어시스턴트와 요약 툴을 통해 AI 기반 생산성의 잠재력을 최대한 활용할 수 있습니다. 개발자는 모델과 프레임워크를 지원하는 데 필요한 인프라를 유지 관리할 걱정 없이 이러한 API 엔드포인트를 애플리케이션에 직접 임베드할 수 있습니다. 최종 사용자는 자신의 필요에 맞게 조정되는\n",
      "\n",
      "Global management consulting | McKinsey & Company Skip to main contentUnlocking profitable B2B growth through gen AIGen AI can enhance profitable B2B sales growth. Seven use cases show how leaders can maximize benefits and minimize risks for impact and sustainability with a tailored strategy.Transform your sales strategy TRENDING INSIGHTS1The state of AI: How organizations are rewiring to capture value2Superagency in the workplace: Empowering people to unlock AI’s full potential3Biases in decision-making: A guide for CFOs4Global Private Markets Report 2025: Private equity emerging from the fogHow incumbents can succeed in climate-driven growth investments The race to meet climate goals will open abundant new opportunities to invest in climate technologies. Incumbent companies can play a pivotal role by adopting either a pioneer-scaler or a fast-follower strategy at the right time.Distill lessons learnedAuthor Talks: Face your fear of public speakingIs your public speaking marked by fumbles and foibles? Tech glitches, memory gaps, and more can ruin a good speech. Learn how to master presentation delivery and command your audience—without saying ‘um.’Read exclusively on the Insights appAI, data centers, and the energy equationJoin McKinsey Senior Partners Humayun Tai and Pankaj Sachdeva on Tuesday, Apr 8 at 11:30a.m. EDT / 5:30p.m. CEST as they share how business leaders can navigate complexities, including the emergence of new technologies such as DeepSeek, and respond to potential headwinds from the energy sector.Register nowNew at McKinsey BlogMarch 27, 2025Unlocking Europe’s potential with the power of economic inclusionMarch 25, 2025Scaling Forward: McKinsey.org’s commitment to building people’s skills, confidence, and connectionMarch 24, 2025McKinsey’s Future of NY Summit unveils 12 paths to reinventionMarch 20, 2025McKinsey expands research and efforts on economic mobilityMarch 20, 2025McKinsey’s LegacyX: Rejuvenating legacy infrastructure with agentic AIRead\n",
      "\n",
      "여러 통계에 따르면 일반적인 기업도 대량의 정보를 저장하고 있습니다. 대기업의 경우 그 정보는 수백 페타바이트에 달할 수 있습니다. 하지만 많은 기업이 실행 가능한 인사이트를 얻을 수 있는 데이터의 절반에도 미치지 못하는 정보를 얻어내고 있다고 보고합니다. 2024년부터는 생성형 AI를 사용해 비식별 데이터를 활용, LLM을 구축하고 맞춤화하기 시작할 것입니다. 기업은 AI 기반 슈퍼컴퓨팅을 통해 채팅, 동영상, 코드 등 비정형 데이터를 획득해 생성형 AI 개발을 멀티모달 모델 훈련으로 확장할 것입니다. 이러한 도약으로 표와 기타 정형 데이터를 수집하는 기능을 뛰어넘어 질문에 대한 보다 구체적인 답변을 제공하고 새로운 기회를 찾을 수 있습니다. 여기에는 건강 검진 시 이상 징후 감지, 소매업의 새로운 트렌드 발견, 기업 운영 안전성 향상이 포함됩니다. 아지타 마틴(AZITA MARTIN) 소매와 소비자 패키지 그룹, 퀵 서비스 레스토랑 부문 부사장 14. 생성형 AI 쇼핑 어드바이저: 소매업체는 고객이 원하는 상품과의 연결뿐만 아니라 개개인의 니즈와 선호도에 맞는 수준 높은 인간적인 옴니채널 쇼핑 경험 제공이라는 두 가지 과제를 안고 있습니다. 이러한 목표를 달성하기 위해 소매업체들은 최첨단 생성형 AI 기반 쇼핑 어드바이저 도입을 준비하고 있습니다. 이는 소매업체들의 고유한 브랜드, 제품, 고객 데이터에 대한 세심한 훈련을 거쳐 인간 비서의 전문성을 재현해 브랜드에 적합한 맞춤형 쇼핑 여정을 안내한다. 이러한 혁신적인 접근 방식은 개인 맞춤형 지원을 제공함으로써 브랜드를 차별화하고 고객 충성도를 높이는 데 도움이 됩니다. 15. 안전한 환경 구축: 전 세계적으로 조직화된 소매업 범죄가 점점 더 정교해지고 조직화됨에 따라 소매업체는 더욱 큰 어려움에 직면하고 있습니다. 전미(全美)소매업연합회(The National Retail Federation)는 팬데믹 이후 소매점 절도가 급증하면서부터 소매업 범죄 경험 사례가 26.5% 늘어났다고 보고했습니다. 고객과 직원 모두를 위한 매장 내 경험의 안전과 보안을 강화하기 위해 컴퓨터 비전과 물리적 보안 정보 관리 소프트웨어를 사용해 서로 다른 보안 시스템에서 이벤트를 수집하고 상호 연관성을 파악하기 시작할 것입니다. 이를 통해 AI는 무기 소지나 선반에서 물건을 대량으로 가져가는 것과 같은 비정상적인 행동을 감지할 수 있다. 이로써 범죄 활동을 사전에 차단하고 보다 안전한 쇼핑 환경을 유지할 수 있도록 지원할 것입니다. 레브 레바레디안(REV LEBAREDIAN) 옴니버스(Omniverse) 및 시뮬레이션 기술 부문 부사장 16. 산업 디지털화와 생성형 AI의 만남: 산업 디지털화와 생성형 AI의 융합으로 산업 혁신이 촉진될 전망입니다. 생성형 AI는 기하학, 빛, 물리학, 물질, 행동과 같은 물리적 세계의 측면을 디지털 데이터로 더 쉽게 전환할 수 있도록 지원합니다. 물리적 세계의 디지털화는 산업 기업의 혁신을 가속화해 제품을 보다 효율적으로 설계, 최적화, 제조, 판매할 수 있도록 합니다. 또한 가상 훈련장과 합성 데이터를 보다 쉽게 생성해 자율 로봇, 자율주행차 등 물리적 세계 내에서 상호 작용하고 작동하는 차세대 AI를 훈련할 수 있습니다. 17. 3D 상호 운용성 실현: 드로잉 보드에서 공장 현장까지 최초로 데이터 상호 운용이 가능해질 것입니다. 제조, 제품 디자인, 소매, 전자상거래, 로보틱스 산업에서 세계에서 가장 영향력 있는 소프트웨어와 실무 기업들이 새로 설립된 오픈USD(OpenUSD) 얼라이언스에 참여하고 있습니다. 3D 툴과 데이터 간의 범용 언어인 오픈USD는 데이터 사일로를 허물어 데이터 레이크, 툴 시스템, 전문 팀 간 그 어느 때보다 쉽고 빠른 협업을 지원할 것입니다. 이로써 기존의 번거롭고 수동적이었던 산업 프로세스 디지털화를 가속할 수 있게 된 것입니다. 신저우 우(XINZHOU WU) 오토모티브 부문 부사장 겸 총괄 18. 차량 생산 수명 주기 현대화: 자동차 업계는 생성형 AI를 도입해 차량의 내부와 외부 모습을 정확히 보여주는\u001b[00m\n"
     ]
    },
    {
     "data": {
      "text/html": [
       "<pre style=\"white-space:pre;overflow-x:auto;line-height:normal;font-family:Menlo,'DejaVu Sans Mono',consolas,'Courier New',monospace\"><span style=\"color: #008080; text-decoration-color: #008080; font-weight: bold\">🚀 Crew: crew</span>\n",
       "└── <span style=\"color: #808000; text-decoration-color: #808000; font-weight: bold\">📋 Task: 17461861-ac1d-4142-92f1-da84aa954fc3</span>\n",
       "    <span style=\"color: #c0c0c0; text-decoration-color: #c0c0c0\">   Status: </span><span style=\"color: #bfbf7f; text-decoration-color: #bfbf7f\">Executing Task...</span>\n",
       "    └── <span style=\"color: #008000; text-decoration-color: #008000; font-weight: bold\">🤖 Agent: </span><span style=\"color: #008000; text-decoration-color: #008000\">테크 트렌드 연구원</span>\n",
       "        <span style=\"color: #c0c0c0; text-decoration-color: #c0c0c0\">    Status: </span><span style=\"color: #008000; text-decoration-color: #008000; font-weight: bold\">In Progress</span>\n",
       "        ├── <span style=\"color: #008000; text-decoration-color: #008000; font-weight: bold\">🔧 </span><span style=\"color: #008000; text-decoration-color: #008000\">Used Search the internet with Serper (2)</span>\n",
       "        ├── <span style=\"color: #008000; text-decoration-color: #008000; font-weight: bold\">🔧 </span><span style=\"color: #008000; text-decoration-color: #008000\">Used Search in a specific website (2)</span>\n",
       "        └── <span style=\"color: #000080; text-decoration-color: #000080; font-weight: bold\">🧠 </span><span style=\"color: #000080; text-decoration-color: #000080\">Thinking...</span>\n",
       "</pre>\n"
      ],
      "text/plain": [
       "\u001b[1;36m🚀 Crew: \u001b[0m\u001b[1;36mcrew\u001b[0m\n",
       "└── \u001b[1;33m📋 Task: 17461861-ac1d-4142-92f1-da84aa954fc3\u001b[0m\n",
       "    \u001b[37m   Status: \u001b[0m\u001b[2;33mExecuting Task...\u001b[0m\n",
       "    └── \u001b[1;32m🤖 Agent: \u001b[0m\u001b[32m테크 트렌드 연구원\u001b[0m\n",
       "        \u001b[37m    Status: \u001b[0m\u001b[1;32mIn Progress\u001b[0m\n",
       "        ├── \u001b[1;32m🔧 \u001b[0m\u001b[32mUsed Search the internet with Serper (2)\u001b[0m\n",
       "        ├── \u001b[1;32m🔧 \u001b[0m\u001b[32mUsed Search in a specific website (2)\u001b[0m\n",
       "        └── \u001b[1;34m🧠 \u001b[0m\u001b[34mThinking...\u001b[0m\n"
      ]
     },
     "metadata": {},
     "output_type": "display_data"
    },
    {
     "data": {
      "text/html": [
       "<pre style=\"white-space:pre;overflow-x:auto;line-height:normal;font-family:Menlo,'DejaVu Sans Mono',consolas,'Courier New',monospace\">\n",
       "</pre>\n"
      ],
      "text/plain": [
       "\n"
      ]
     },
     "metadata": {},
     "output_type": "display_data"
    },
    {
     "data": {
      "text/html": [
       "<pre style=\"white-space:pre;overflow-x:auto;line-height:normal;font-family:Menlo,'DejaVu Sans Mono',consolas,'Courier New',monospace\"><span style=\"color: #008080; text-decoration-color: #008080; font-weight: bold\">🚀 Crew: crew</span>\n",
       "└── <span style=\"color: #808000; text-decoration-color: #808000; font-weight: bold\">📋 Task: 17461861-ac1d-4142-92f1-da84aa954fc3</span>\n",
       "    <span style=\"color: #c0c0c0; text-decoration-color: #c0c0c0\">   Status: </span><span style=\"color: #bfbf7f; text-decoration-color: #bfbf7f\">Executing Task...</span>\n",
       "    └── <span style=\"color: #008000; text-decoration-color: #008000; font-weight: bold\">🤖 Agent: </span><span style=\"color: #008000; text-decoration-color: #008000\">테크 트렌드 연구원</span>\n",
       "        <span style=\"color: #c0c0c0; text-decoration-color: #c0c0c0\">    Status: </span><span style=\"color: #008000; text-decoration-color: #008000; font-weight: bold\">In Progress</span>\n",
       "        ├── <span style=\"color: #008000; text-decoration-color: #008000; font-weight: bold\">🔧 </span><span style=\"color: #008000; text-decoration-color: #008000\">Used Search the internet with Serper (2)</span>\n",
       "        └── <span style=\"color: #008000; text-decoration-color: #008000; font-weight: bold\">🔧 </span><span style=\"color: #008000; text-decoration-color: #008000\">Used Search in a specific website (2)</span>\n",
       "</pre>\n"
      ],
      "text/plain": [
       "\u001b[1;36m🚀 Crew: \u001b[0m\u001b[1;36mcrew\u001b[0m\n",
       "└── \u001b[1;33m📋 Task: 17461861-ac1d-4142-92f1-da84aa954fc3\u001b[0m\n",
       "    \u001b[37m   Status: \u001b[0m\u001b[2;33mExecuting Task...\u001b[0m\n",
       "    └── \u001b[1;32m🤖 Agent: \u001b[0m\u001b[32m테크 트렌드 연구원\u001b[0m\n",
       "        \u001b[37m    Status: \u001b[0m\u001b[1;32mIn Progress\u001b[0m\n",
       "        ├── \u001b[1;32m🔧 \u001b[0m\u001b[32mUsed Search the internet with Serper (2)\u001b[0m\n",
       "        └── \u001b[1;32m🔧 \u001b[0m\u001b[32mUsed Search in a specific website (2)\u001b[0m\n"
      ]
     },
     "metadata": {},
     "output_type": "display_data"
    },
    {
     "data": {
      "text/html": [
       "<pre style=\"white-space:pre;overflow-x:auto;line-height:normal;font-family:Menlo,'DejaVu Sans Mono',consolas,'Courier New',monospace\">\n",
       "</pre>\n"
      ],
      "text/plain": [
       "\n"
      ]
     },
     "metadata": {},
     "output_type": "display_data"
    },
    {
     "name": "stdout",
     "output_type": "stream",
     "text": [
      "\n",
      "\n",
      "\u001b[1m\u001b[95m# Agent:\u001b[00m \u001b[1m\u001b[92m테크 트렌드 연구원\u001b[00m\n",
      "\u001b[95m## Final Answer:\u001b[00m \u001b[92m\n",
      "2024년 AI 업계의 최신 기술 동향을 살펴보면 크게 세 가지 주요 트렌드가 주목받고 있습니다. 이들은 '생성형 AI의 발전', '멀티모달 AI의 확산', 그리고 'AI 기반 데이터 전략의 중요성 증대'입니다.\n",
      "\n",
      "1. **생성형 AI의 발전**  \n",
      "   생성형 AI는 AI 프로세스의 혁신을 이끌고 있습니다. 기업들은 텍스트, 음성, 비디오 등의 데이터를 활용하여 새로운 콘텐츠를 생성할 수 있는 능력을 빠르게 발전시키고 있으며, 이는 생산성과 혁신에 혁신적인 변화를 가져오고 있습니다. 한 예로 맥킨지의 보고서에 따르면, 기업 데이터로 훈련된 AI 모델들이 연간 2조 6천억 달러에서 4조 4천억 달러의 가치를 창출할 수 있는 잠재력을 가지고 있습니다. 이러한 생성형 AI는 단순히 정보를 전달하는 것이 아니라, 고객 맞춤형 솔루션을 제공하는 데 중점을 두고 있습니다.\n",
      "\n",
      "2. **멀티모달 AI의 확산**  \n",
      "   멀티모달 AI는 다양한 형태의 데이터를 동시에 처리할 수 있는 능력을 갖추고 있습니다. 이는 서로 다른 형식의 데이터를 통합하여 더 풍부하고 긴밀한 상호작용을 가능하게 합니다. 예를 들어, 고객이 음성으로 요청하고 동시에 AI가 텍스트와 비디오를 분석하여 적절한 반응을 제공하는 방식입니다. 이러한 기술은 상업적 서비스의 질을 향상시켜 소비자 경험을 크게 개선할 것으로 예상됩니다.\n",
      "\n",
      "3. **AI 기반 데이터 전략의 중요성 증대**  \n",
      "   많은 기업들이 AI를 통해 업무 환경의 지능화를 도모하고 있지만, 비즈니스 내 방대한 양의 데이터를 효과적으로 관리하고 이를 실행 가능한 인사이트로 전환하는 것이 여전히 큰 과제로 남아 있습니다. AI 기반의 데이터 전략은 데이터를 효과적으로 수집, 저장, 분석할 수 있도록 지원하며, 이를 통해 기업의 비즈니스 결정을 보다 정확하고 민첩하게 할 수 있게 돕습니다. 특히, 안전한 데이터 관리 및 비즈니스 전략의 맞춤화는 경쟁력을 결정짓는 핵심 요소로 부각되고 있습니다.\n",
      "\n",
      "이와 같은 트렌드들은 앞으로 AI 기술이 기업 및 사회의 전반에 걸쳐 중대한 영향을 미칠 것임을 시사합니다. 기업들은 이러한 기술들을 적절히 통합하고 활용하여 혁신을 이끌어내고, 경쟁력을 강화하는 방향으로 나아가야 할 것입니다.\u001b[00m\n",
      "\n",
      "\n"
     ]
    },
    {
     "data": {
      "text/html": [
       "<pre style=\"white-space:pre;overflow-x:auto;line-height:normal;font-family:Menlo,'DejaVu Sans Mono',consolas,'Courier New',monospace\"><span style=\"color: #008080; text-decoration-color: #008080; font-weight: bold\">🚀 Crew: crew</span>\n",
       "└── <span style=\"color: #808000; text-decoration-color: #808000; font-weight: bold\">📋 Task: 17461861-ac1d-4142-92f1-da84aa954fc3</span>\n",
       "    <span style=\"color: #c0c0c0; text-decoration-color: #c0c0c0\">   Status: </span><span style=\"color: #bfbf7f; text-decoration-color: #bfbf7f\">Executing Task...</span>\n",
       "    └── <span style=\"color: #008000; text-decoration-color: #008000; font-weight: bold\">🤖 Agent: </span><span style=\"color: #008000; text-decoration-color: #008000\">테크 트렌드 연구원</span>\n",
       "        <span style=\"color: #c0c0c0; text-decoration-color: #c0c0c0\">    Status: </span><span style=\"color: #008000; text-decoration-color: #008000; font-weight: bold\">✅ Completed</span>\n",
       "        ├── <span style=\"color: #008000; text-decoration-color: #008000; font-weight: bold\">🔧 </span><span style=\"color: #008000; text-decoration-color: #008000\">Used Search the internet with Serper (2)</span>\n",
       "        └── <span style=\"color: #008000; text-decoration-color: #008000; font-weight: bold\">🔧 </span><span style=\"color: #008000; text-decoration-color: #008000\">Used Search in a specific website (2)</span>\n",
       "</pre>\n"
      ],
      "text/plain": [
       "\u001b[1;36m🚀 Crew: \u001b[0m\u001b[1;36mcrew\u001b[0m\n",
       "└── \u001b[1;33m📋 Task: 17461861-ac1d-4142-92f1-da84aa954fc3\u001b[0m\n",
       "    \u001b[37m   Status: \u001b[0m\u001b[2;33mExecuting Task...\u001b[0m\n",
       "    └── \u001b[1;32m🤖 Agent: \u001b[0m\u001b[32m테크 트렌드 연구원\u001b[0m\n",
       "        \u001b[37m    Status: \u001b[0m\u001b[1;32m✅ Completed\u001b[0m\n",
       "        ├── \u001b[1;32m🔧 \u001b[0m\u001b[32mUsed Search the internet with Serper (2)\u001b[0m\n",
       "        └── \u001b[1;32m🔧 \u001b[0m\u001b[32mUsed Search in a specific website (2)\u001b[0m\n"
      ]
     },
     "metadata": {},
     "output_type": "display_data"
    },
    {
     "data": {
      "text/html": [
       "<pre style=\"white-space:pre;overflow-x:auto;line-height:normal;font-family:Menlo,'DejaVu Sans Mono',consolas,'Courier New',monospace\">\n",
       "</pre>\n"
      ],
      "text/plain": [
       "\n"
      ]
     },
     "metadata": {},
     "output_type": "display_data"
    },
    {
     "data": {
      "text/html": [
       "<pre style=\"white-space:pre;overflow-x:auto;line-height:normal;font-family:Menlo,'DejaVu Sans Mono',consolas,'Courier New',monospace\"><span style=\"color: #008080; text-decoration-color: #008080; font-weight: bold\">🚀 Crew: crew</span>\n",
       "└── <span style=\"color: #008000; text-decoration-color: #008000; font-weight: bold\">📋 Task: 17461861-ac1d-4142-92f1-da84aa954fc3</span>\n",
       "    <span style=\"color: #c0c0c0; text-decoration-color: #c0c0c0\">   Assigned to: </span><span style=\"color: #008000; text-decoration-color: #008000\">테크 트렌드 연구원</span>\n",
       "    <span style=\"color: #c0c0c0; text-decoration-color: #c0c0c0\">   Status: </span><span style=\"color: #008000; text-decoration-color: #008000; font-weight: bold\">✅ Completed</span>\n",
       "    └── <span style=\"color: #008000; text-decoration-color: #008000; font-weight: bold\">🤖 Agent: </span><span style=\"color: #008000; text-decoration-color: #008000\">테크 트렌드 연구원</span>\n",
       "        <span style=\"color: #c0c0c0; text-decoration-color: #c0c0c0\">    Status: </span><span style=\"color: #008000; text-decoration-color: #008000; font-weight: bold\">✅ Completed</span>\n",
       "        ├── <span style=\"color: #008000; text-decoration-color: #008000; font-weight: bold\">🔧 </span><span style=\"color: #008000; text-decoration-color: #008000\">Used Search the internet with Serper (2)</span>\n",
       "        └── <span style=\"color: #008000; text-decoration-color: #008000; font-weight: bold\">🔧 </span><span style=\"color: #008000; text-decoration-color: #008000\">Used Search in a specific website (2)</span>\n",
       "</pre>\n"
      ],
      "text/plain": [
       "\u001b[1;36m🚀 Crew: \u001b[0m\u001b[1;36mcrew\u001b[0m\n",
       "└── \u001b[1;32m📋 Task: 17461861-ac1d-4142-92f1-da84aa954fc3\u001b[0m\n",
       "    \u001b[37m   Assigned to: \u001b[0m\u001b[32m테크 트렌드 연구원\u001b[0m\n",
       "    \u001b[37m   Status: \u001b[0m\u001b[1;32m✅ Completed\u001b[0m\n",
       "    └── \u001b[1;32m🤖 Agent: \u001b[0m\u001b[32m테크 트렌드 연구원\u001b[0m\n",
       "        \u001b[37m    Status: \u001b[0m\u001b[1;32m✅ Completed\u001b[0m\n",
       "        ├── \u001b[1;32m🔧 \u001b[0m\u001b[32mUsed Search the internet with Serper (2)\u001b[0m\n",
       "        └── \u001b[1;32m🔧 \u001b[0m\u001b[32mUsed Search in a specific website (2)\u001b[0m\n"
      ]
     },
     "metadata": {},
     "output_type": "display_data"
    },
    {
     "data": {
      "text/html": [
       "<pre style=\"white-space:pre;overflow-x:auto;line-height:normal;font-family:Menlo,'DejaVu Sans Mono',consolas,'Courier New',monospace\"><span style=\"color: #008000; text-decoration-color: #008000\">╭──────────────────────────────────────────────── Task Completion ────────────────────────────────────────────────╮</span>\n",
       "<span style=\"color: #008000; text-decoration-color: #008000\">│</span>                                                                                                                 <span style=\"color: #008000; text-decoration-color: #008000\">│</span>\n",
       "<span style=\"color: #008000; text-decoration-color: #008000\">│</span>  <span style=\"color: #008000; text-decoration-color: #008000; font-weight: bold\">Task Completed</span>                                                                                                 <span style=\"color: #008000; text-decoration-color: #008000\">│</span>\n",
       "<span style=\"color: #008000; text-decoration-color: #008000\">│</span>  <span style=\"color: #c0c0c0; text-decoration-color: #c0c0c0\">Name: </span><span style=\"color: #008000; text-decoration-color: #008000\">17461861-ac1d-4142-92f1-da84aa954fc3</span>                                                                     <span style=\"color: #008000; text-decoration-color: #008000\">│</span>\n",
       "<span style=\"color: #008000; text-decoration-color: #008000\">│</span>  <span style=\"color: #c0c0c0; text-decoration-color: #c0c0c0\">Agent: </span><span style=\"color: #008000; text-decoration-color: #008000\">테크 트렌드 연구원</span>                                                                                      <span style=\"color: #008000; text-decoration-color: #008000\">│</span>\n",
       "<span style=\"color: #008000; text-decoration-color: #008000\">│</span>                                                                                                                 <span style=\"color: #008000; text-decoration-color: #008000\">│</span>\n",
       "<span style=\"color: #008000; text-decoration-color: #008000\">│</span>                                                                                                                 <span style=\"color: #008000; text-decoration-color: #008000\">│</span>\n",
       "<span style=\"color: #008000; text-decoration-color: #008000\">╰─────────────────────────────────────────────────────────────────────────────────────────────────────────────────╯</span>\n",
       "</pre>\n"
      ],
      "text/plain": [
       "\u001b[32m╭─\u001b[0m\u001b[32m───────────────────────────────────────────────\u001b[0m\u001b[32m Task Completion \u001b[0m\u001b[32m───────────────────────────────────────────────\u001b[0m\u001b[32m─╮\u001b[0m\n",
       "\u001b[32m│\u001b[0m                                                                                                                 \u001b[32m│\u001b[0m\n",
       "\u001b[32m│\u001b[0m  \u001b[1;32mTask Completed\u001b[0m                                                                                                 \u001b[32m│\u001b[0m\n",
       "\u001b[32m│\u001b[0m  \u001b[37mName: \u001b[0m\u001b[32m17461861-ac1d-4142-92f1-da84aa954fc3\u001b[0m                                                                     \u001b[32m│\u001b[0m\n",
       "\u001b[32m│\u001b[0m  \u001b[37mAgent: \u001b[0m\u001b[32m테크 트렌드 연구원\u001b[0m                                                                                      \u001b[32m│\u001b[0m\n",
       "\u001b[32m│\u001b[0m                                                                                                                 \u001b[32m│\u001b[0m\n",
       "\u001b[32m│\u001b[0m                                                                                                                 \u001b[32m│\u001b[0m\n",
       "\u001b[32m╰─────────────────────────────────────────────────────────────────────────────────────────────────────────────────╯\u001b[0m\n"
      ]
     },
     "metadata": {},
     "output_type": "display_data"
    },
    {
     "data": {
      "text/html": [
       "<pre style=\"white-space:pre;overflow-x:auto;line-height:normal;font-family:Menlo,'DejaVu Sans Mono',consolas,'Courier New',monospace\">\n",
       "</pre>\n"
      ],
      "text/plain": [
       "\n"
      ]
     },
     "metadata": {},
     "output_type": "display_data"
    },
    {
     "data": {
      "text/html": [
       "<pre style=\"white-space:pre;overflow-x:auto;line-height:normal;font-family:Menlo,'DejaVu Sans Mono',consolas,'Courier New',monospace\"><span style=\"color: #008080; text-decoration-color: #008080; font-weight: bold\">🚀 Crew: crew</span>\n",
       "├── <span style=\"color: #008000; text-decoration-color: #008000; font-weight: bold\">📋 Task: 17461861-ac1d-4142-92f1-da84aa954fc3</span>\n",
       "│   <span style=\"color: #c0c0c0; text-decoration-color: #c0c0c0\">   Assigned to: </span><span style=\"color: #008000; text-decoration-color: #008000\">테크 트렌드 연구원</span>\n",
       "│   <span style=\"color: #c0c0c0; text-decoration-color: #c0c0c0\">   Status: </span><span style=\"color: #008000; text-decoration-color: #008000; font-weight: bold\">✅ Completed</span>\n",
       "│   └── <span style=\"color: #008000; text-decoration-color: #008000; font-weight: bold\">🤖 Agent: </span><span style=\"color: #008000; text-decoration-color: #008000\">테크 트렌드 연구원</span>\n",
       "│       <span style=\"color: #c0c0c0; text-decoration-color: #c0c0c0\">    Status: </span><span style=\"color: #008000; text-decoration-color: #008000; font-weight: bold\">✅ Completed</span>\n",
       "│       ├── <span style=\"color: #008000; text-decoration-color: #008000; font-weight: bold\">🔧 </span><span style=\"color: #008000; text-decoration-color: #008000\">Used Search the internet with Serper (2)</span>\n",
       "│       └── <span style=\"color: #008000; text-decoration-color: #008000; font-weight: bold\">🔧 </span><span style=\"color: #008000; text-decoration-color: #008000\">Used Search in a specific website (2)</span>\n",
       "└── <span style=\"color: #808000; text-decoration-color: #808000; font-weight: bold\">📋 Task: fc69e65a-c04d-44de-9669-d1a0ef35f6e8</span>\n",
       "    <span style=\"color: #c0c0c0; text-decoration-color: #c0c0c0\">   Status: </span><span style=\"color: #bfbf7f; text-decoration-color: #bfbf7f\">Executing Task...</span>\n",
       "</pre>\n"
      ],
      "text/plain": [
       "\u001b[1;36m🚀 Crew: \u001b[0m\u001b[1;36mcrew\u001b[0m\n",
       "├── \u001b[1;32m📋 Task: 17461861-ac1d-4142-92f1-da84aa954fc3\u001b[0m\n",
       "│   \u001b[37m   Assigned to: \u001b[0m\u001b[32m테크 트렌드 연구원\u001b[0m\n",
       "│   \u001b[37m   Status: \u001b[0m\u001b[1;32m✅ Completed\u001b[0m\n",
       "│   └── \u001b[1;32m🤖 Agent: \u001b[0m\u001b[32m테크 트렌드 연구원\u001b[0m\n",
       "│       \u001b[37m    Status: \u001b[0m\u001b[1;32m✅ Completed\u001b[0m\n",
       "│       ├── \u001b[1;32m🔧 \u001b[0m\u001b[32mUsed Search the internet with Serper (2)\u001b[0m\n",
       "│       └── \u001b[1;32m🔧 \u001b[0m\u001b[32mUsed Search in a specific website (2)\u001b[0m\n",
       "└── \u001b[1;33m📋 Task: fc69e65a-c04d-44de-9669-d1a0ef35f6e8\u001b[0m\n",
       "    \u001b[37m   Status: \u001b[0m\u001b[2;33mExecuting Task...\u001b[0m\n"
      ]
     },
     "metadata": {},
     "output_type": "display_data"
    },
    {
     "data": {
      "text/html": [
       "<pre style=\"white-space:pre;overflow-x:auto;line-height:normal;font-family:Menlo,'DejaVu Sans Mono',consolas,'Courier New',monospace\">\n",
       "</pre>\n"
      ],
      "text/plain": [
       "\n"
      ]
     },
     "metadata": {},
     "output_type": "display_data"
    },
    {
     "data": {
      "text/html": [
       "<pre style=\"white-space:pre;overflow-x:auto;line-height:normal;font-family:Menlo,'DejaVu Sans Mono',consolas,'Courier New',monospace\"><span style=\"color: #008080; text-decoration-color: #008080; font-weight: bold\">🚀 Crew: crew</span>\n",
       "├── <span style=\"color: #008000; text-decoration-color: #008000; font-weight: bold\">📋 Task: 17461861-ac1d-4142-92f1-da84aa954fc3</span>\n",
       "│   <span style=\"color: #c0c0c0; text-decoration-color: #c0c0c0\">   Assigned to: </span><span style=\"color: #008000; text-decoration-color: #008000\">테크 트렌드 연구원</span>\n",
       "│   <span style=\"color: #c0c0c0; text-decoration-color: #c0c0c0\">   Status: </span><span style=\"color: #008000; text-decoration-color: #008000; font-weight: bold\">✅ Completed</span>\n",
       "│   └── <span style=\"color: #008000; text-decoration-color: #008000; font-weight: bold\">🤖 Agent: </span><span style=\"color: #008000; text-decoration-color: #008000\">테크 트렌드 연구원</span>\n",
       "│       <span style=\"color: #c0c0c0; text-decoration-color: #c0c0c0\">    Status: </span><span style=\"color: #008000; text-decoration-color: #008000; font-weight: bold\">✅ Completed</span>\n",
       "│       ├── <span style=\"color: #008000; text-decoration-color: #008000; font-weight: bold\">🔧 </span><span style=\"color: #008000; text-decoration-color: #008000\">Used Search the internet with Serper (2)</span>\n",
       "│       └── <span style=\"color: #008000; text-decoration-color: #008000; font-weight: bold\">🔧 </span><span style=\"color: #008000; text-decoration-color: #008000\">Used Search in a specific website (2)</span>\n",
       "└── <span style=\"color: #808000; text-decoration-color: #808000; font-weight: bold\">📋 Task: fc69e65a-c04d-44de-9669-d1a0ef35f6e8</span>\n",
       "    <span style=\"color: #c0c0c0; text-decoration-color: #c0c0c0\">   Status: </span><span style=\"color: #bfbf7f; text-decoration-color: #bfbf7f\">Executing Task...</span>\n",
       "    └── <span style=\"color: #008000; text-decoration-color: #008000; font-weight: bold\">🤖 Agent: </span><span style=\"color: #008000; text-decoration-color: #008000\">뉴스레터 작성자</span>\n",
       "        <span style=\"color: #c0c0c0; text-decoration-color: #c0c0c0\">    Status: </span><span style=\"color: #008000; text-decoration-color: #008000; font-weight: bold\">In Progress</span>\n",
       "</pre>\n"
      ],
      "text/plain": [
       "\u001b[1;36m🚀 Crew: \u001b[0m\u001b[1;36mcrew\u001b[0m\n",
       "├── \u001b[1;32m📋 Task: 17461861-ac1d-4142-92f1-da84aa954fc3\u001b[0m\n",
       "│   \u001b[37m   Assigned to: \u001b[0m\u001b[32m테크 트렌드 연구원\u001b[0m\n",
       "│   \u001b[37m   Status: \u001b[0m\u001b[1;32m✅ Completed\u001b[0m\n",
       "│   └── \u001b[1;32m🤖 Agent: \u001b[0m\u001b[32m테크 트렌드 연구원\u001b[0m\n",
       "│       \u001b[37m    Status: \u001b[0m\u001b[1;32m✅ Completed\u001b[0m\n",
       "│       ├── \u001b[1;32m🔧 \u001b[0m\u001b[32mUsed Search the internet with Serper (2)\u001b[0m\n",
       "│       └── \u001b[1;32m🔧 \u001b[0m\u001b[32mUsed Search in a specific website (2)\u001b[0m\n",
       "└── \u001b[1;33m📋 Task: fc69e65a-c04d-44de-9669-d1a0ef35f6e8\u001b[0m\n",
       "    \u001b[37m   Status: \u001b[0m\u001b[2;33mExecuting Task...\u001b[0m\n",
       "    └── \u001b[1;32m🤖 Agent: \u001b[0m\u001b[32m뉴스레터 작성자\u001b[0m\n",
       "        \u001b[37m    Status: \u001b[0m\u001b[1;32mIn Progress\u001b[0m\n"
      ]
     },
     "metadata": {},
     "output_type": "display_data"
    },
    {
     "data": {
      "text/html": [
       "<pre style=\"white-space:pre;overflow-x:auto;line-height:normal;font-family:Menlo,'DejaVu Sans Mono',consolas,'Courier New',monospace\">\n",
       "</pre>\n"
      ],
      "text/plain": [
       "\n"
      ]
     },
     "metadata": {},
     "output_type": "display_data"
    },
    {
     "name": "stdout",
     "output_type": "stream",
     "text": [
      "\u001b[1m\u001b[95m# Agent:\u001b[00m \u001b[1m\u001b[92m뉴스레터 작성자\u001b[00m\n",
      "\u001b[95m## Task:\u001b[00m \u001b[92m테크 트렌드 연구원의 요약을 바탕으로 AI 산업에 대한 매력적인 테크 뉴스레터를 작성하세요.\n",
      "    테크 뉴스레터이므로 전문적인 용어를 사용해도 괜찮습니다.\u001b[00m\n"
     ]
    },
    {
     "data": {
      "text/html": [
       "<pre style=\"white-space:pre;overflow-x:auto;line-height:normal;font-family:Menlo,'DejaVu Sans Mono',consolas,'Courier New',monospace\"><span style=\"color: #008080; text-decoration-color: #008080; font-weight: bold\">🚀 Crew: crew</span>\n",
       "├── <span style=\"color: #008000; text-decoration-color: #008000; font-weight: bold\">📋 Task: 17461861-ac1d-4142-92f1-da84aa954fc3</span>\n",
       "│   <span style=\"color: #c0c0c0; text-decoration-color: #c0c0c0\">   Assigned to: </span><span style=\"color: #008000; text-decoration-color: #008000\">테크 트렌드 연구원</span>\n",
       "│   <span style=\"color: #c0c0c0; text-decoration-color: #c0c0c0\">   Status: </span><span style=\"color: #008000; text-decoration-color: #008000; font-weight: bold\">✅ Completed</span>\n",
       "│   └── <span style=\"color: #008000; text-decoration-color: #008000; font-weight: bold\">🤖 Agent: </span><span style=\"color: #008000; text-decoration-color: #008000\">테크 트렌드 연구원</span>\n",
       "│       <span style=\"color: #c0c0c0; text-decoration-color: #c0c0c0\">    Status: </span><span style=\"color: #008000; text-decoration-color: #008000; font-weight: bold\">✅ Completed</span>\n",
       "│       ├── <span style=\"color: #008000; text-decoration-color: #008000; font-weight: bold\">🔧 </span><span style=\"color: #008000; text-decoration-color: #008000\">Used Search the internet with Serper (2)</span>\n",
       "│       └── <span style=\"color: #008000; text-decoration-color: #008000; font-weight: bold\">🔧 </span><span style=\"color: #008000; text-decoration-color: #008000\">Used Search in a specific website (2)</span>\n",
       "└── <span style=\"color: #808000; text-decoration-color: #808000; font-weight: bold\">📋 Task: fc69e65a-c04d-44de-9669-d1a0ef35f6e8</span>\n",
       "    <span style=\"color: #c0c0c0; text-decoration-color: #c0c0c0\">   Status: </span><span style=\"color: #bfbf7f; text-decoration-color: #bfbf7f\">Executing Task...</span>\n",
       "    └── <span style=\"color: #008000; text-decoration-color: #008000; font-weight: bold\">🤖 Agent: </span><span style=\"color: #008000; text-decoration-color: #008000\">뉴스레터 작성자</span>\n",
       "        <span style=\"color: #c0c0c0; text-decoration-color: #c0c0c0\">    Status: </span><span style=\"color: #008000; text-decoration-color: #008000; font-weight: bold\">In Progress</span>\n",
       "        └── <span style=\"color: #000080; text-decoration-color: #000080; font-weight: bold\">🧠 </span><span style=\"color: #000080; text-decoration-color: #000080\">Thinking...</span>\n",
       "</pre>\n"
      ],
      "text/plain": [
       "\u001b[1;36m🚀 Crew: \u001b[0m\u001b[1;36mcrew\u001b[0m\n",
       "├── \u001b[1;32m📋 Task: 17461861-ac1d-4142-92f1-da84aa954fc3\u001b[0m\n",
       "│   \u001b[37m   Assigned to: \u001b[0m\u001b[32m테크 트렌드 연구원\u001b[0m\n",
       "│   \u001b[37m   Status: \u001b[0m\u001b[1;32m✅ Completed\u001b[0m\n",
       "│   └── \u001b[1;32m🤖 Agent: \u001b[0m\u001b[32m테크 트렌드 연구원\u001b[0m\n",
       "│       \u001b[37m    Status: \u001b[0m\u001b[1;32m✅ Completed\u001b[0m\n",
       "│       ├── \u001b[1;32m🔧 \u001b[0m\u001b[32mUsed Search the internet with Serper (2)\u001b[0m\n",
       "│       └── \u001b[1;32m🔧 \u001b[0m\u001b[32mUsed Search in a specific website (2)\u001b[0m\n",
       "└── \u001b[1;33m📋 Task: fc69e65a-c04d-44de-9669-d1a0ef35f6e8\u001b[0m\n",
       "    \u001b[37m   Status: \u001b[0m\u001b[2;33mExecuting Task...\u001b[0m\n",
       "    └── \u001b[1;32m🤖 Agent: \u001b[0m\u001b[32m뉴스레터 작성자\u001b[0m\n",
       "        \u001b[37m    Status: \u001b[0m\u001b[1;32mIn Progress\u001b[0m\n",
       "        └── \u001b[1;34m🧠 \u001b[0m\u001b[34mThinking...\u001b[0m\n"
      ]
     },
     "metadata": {},
     "output_type": "display_data"
    },
    {
     "data": {
      "text/html": [
       "<pre style=\"white-space:pre;overflow-x:auto;line-height:normal;font-family:Menlo,'DejaVu Sans Mono',consolas,'Courier New',monospace\">\n",
       "</pre>\n"
      ],
      "text/plain": [
       "\n"
      ]
     },
     "metadata": {},
     "output_type": "display_data"
    },
    {
     "data": {
      "text/html": [
       "<pre style=\"white-space:pre;overflow-x:auto;line-height:normal;font-family:Menlo,'DejaVu Sans Mono',consolas,'Courier New',monospace\"><span style=\"color: #008080; text-decoration-color: #008080; font-weight: bold\">🚀 Crew: crew</span>\n",
       "├── <span style=\"color: #008000; text-decoration-color: #008000; font-weight: bold\">📋 Task: 17461861-ac1d-4142-92f1-da84aa954fc3</span>\n",
       "│   <span style=\"color: #c0c0c0; text-decoration-color: #c0c0c0\">   Assigned to: </span><span style=\"color: #008000; text-decoration-color: #008000\">테크 트렌드 연구원</span>\n",
       "│   <span style=\"color: #c0c0c0; text-decoration-color: #c0c0c0\">   Status: </span><span style=\"color: #008000; text-decoration-color: #008000; font-weight: bold\">✅ Completed</span>\n",
       "│   └── <span style=\"color: #008000; text-decoration-color: #008000; font-weight: bold\">🤖 Agent: </span><span style=\"color: #008000; text-decoration-color: #008000\">테크 트렌드 연구원</span>\n",
       "│       <span style=\"color: #c0c0c0; text-decoration-color: #c0c0c0\">    Status: </span><span style=\"color: #008000; text-decoration-color: #008000; font-weight: bold\">✅ Completed</span>\n",
       "│       ├── <span style=\"color: #008000; text-decoration-color: #008000; font-weight: bold\">🔧 </span><span style=\"color: #008000; text-decoration-color: #008000\">Used Search the internet with Serper (2)</span>\n",
       "│       └── <span style=\"color: #008000; text-decoration-color: #008000; font-weight: bold\">🔧 </span><span style=\"color: #008000; text-decoration-color: #008000\">Used Search in a specific website (2)</span>\n",
       "└── <span style=\"color: #808000; text-decoration-color: #808000; font-weight: bold\">📋 Task: fc69e65a-c04d-44de-9669-d1a0ef35f6e8</span>\n",
       "    <span style=\"color: #c0c0c0; text-decoration-color: #c0c0c0\">   Status: </span><span style=\"color: #bfbf7f; text-decoration-color: #bfbf7f\">Executing Task...</span>\n",
       "    └── <span style=\"color: #008000; text-decoration-color: #008000; font-weight: bold\">🤖 Agent: </span><span style=\"color: #008000; text-decoration-color: #008000\">뉴스레터 작성자</span>\n",
       "        <span style=\"color: #c0c0c0; text-decoration-color: #c0c0c0\">    Status: </span><span style=\"color: #008000; text-decoration-color: #008000; font-weight: bold\">In Progress</span>\n",
       "</pre>\n"
      ],
      "text/plain": [
       "\u001b[1;36m🚀 Crew: \u001b[0m\u001b[1;36mcrew\u001b[0m\n",
       "├── \u001b[1;32m📋 Task: 17461861-ac1d-4142-92f1-da84aa954fc3\u001b[0m\n",
       "│   \u001b[37m   Assigned to: \u001b[0m\u001b[32m테크 트렌드 연구원\u001b[0m\n",
       "│   \u001b[37m   Status: \u001b[0m\u001b[1;32m✅ Completed\u001b[0m\n",
       "│   └── \u001b[1;32m🤖 Agent: \u001b[0m\u001b[32m테크 트렌드 연구원\u001b[0m\n",
       "│       \u001b[37m    Status: \u001b[0m\u001b[1;32m✅ Completed\u001b[0m\n",
       "│       ├── \u001b[1;32m🔧 \u001b[0m\u001b[32mUsed Search the internet with Serper (2)\u001b[0m\n",
       "│       └── \u001b[1;32m🔧 \u001b[0m\u001b[32mUsed Search in a specific website (2)\u001b[0m\n",
       "└── \u001b[1;33m📋 Task: fc69e65a-c04d-44de-9669-d1a0ef35f6e8\u001b[0m\n",
       "    \u001b[37m   Status: \u001b[0m\u001b[2;33mExecuting Task...\u001b[0m\n",
       "    └── \u001b[1;32m🤖 Agent: \u001b[0m\u001b[32m뉴스레터 작성자\u001b[0m\n",
       "        \u001b[37m    Status: \u001b[0m\u001b[1;32mIn Progress\u001b[0m\n"
      ]
     },
     "metadata": {},
     "output_type": "display_data"
    },
    {
     "data": {
      "text/html": [
       "<pre style=\"white-space:pre;overflow-x:auto;line-height:normal;font-family:Menlo,'DejaVu Sans Mono',consolas,'Courier New',monospace\">\n",
       "</pre>\n"
      ],
      "text/plain": [
       "\n"
      ]
     },
     "metadata": {},
     "output_type": "display_data"
    },
    {
     "name": "stdout",
     "output_type": "stream",
     "text": [
      "\n",
      "\n",
      "\u001b[1m\u001b[95m# Agent:\u001b[00m \u001b[1m\u001b[92m뉴스레터 작성자\u001b[00m\n",
      "\u001b[95m## Final Answer:\u001b[00m \u001b[92m\n",
      "# 📡 2024년 AI 기술 뉴스레터\n",
      "\n",
      "안녕하세요, AI 트렌드를 사랑하는 독자 여러분! 2024년 8월에 접어든 지금, AI 분야는 가히 혁신의 시기를 맞이하고 있습니다. 오늘은 최신 AI 기술 동향 중 눈여겨볼 만한 세 가지 트렌드를 소개해드리겠습니다. 대화의 시작에 불과한 이 흥미로운 여정을 함께 떠나봅시다!\n",
      "\n",
      "## 1. 생성형 AI의 발전 🚀  \n",
      "생성형 AI는 요즘 기업들의 혁신 DNA로 자리 잡고 있습니다. 기업들은 이제 단순한 정보 전달을 넘어, 텍스트, 음성, 비디오 같은 다양한 데이터를 활용하여 독창적인 콘텐츠를 생성하는 데 열을 올리고 있습니다. 맥킨지의 보고서에 따르면, AI 모델들이 생성할 수 있는 연간 가치가 무려 2조 6천억 달러에서 4조 4천억 달러에 달한다고 하니, 이 기술의 영향력은 상상을 초월합니다. 이제는 맞춤형 솔루션이 고객의 마음을 흔드는 시대가 도래했습니다!\n",
      "\n",
      "## 2. 멀티모달 AI의 확산 🌐  \n",
      "다양한 형태의 데이터를 동시에 처리하는 멀티모달 AI가 새롭게 주목받고 있습니다. 생각해보세요, 고객이 음성 인식을 통해 질문을 던지면, AI가 텍스트와 비디오를 분석하여 즉각적으로 적절한 답변을 제공하는 시스템이 바로 그것입니다! 이는 고객 경험을 질적으로 한 단계 끌어올리고, 상업적 서비스의 혁신을 주도할 절호의 기회를 제공합니다. 고객 접점에서의 상호작용이 그 어느 때보다 풍부해지고 있습니다.\n",
      "\n",
      "## 3. AI 기반 데이터 전략의 중요성 증대 📊  \n",
      "비즈니스 세계에 있어서 데이터는 새로운 금광입니다! 하지만 이를 효과적으로 관리하고 인사이트로 전환하는 데 여전히 난관이 존재합니다. AI 기반의 데이터 전략은 이러한 문제를 해결하는 데 필수적입니다. 기업들은 데이터를 수집하고 저장하는 방법을 혁신할 수 있는 기회를 발견하고 있으며, 이는 경쟁력을 결정짓는 중요한 요소로 간주되고 있습니다. 데이터 안전과 맞춤형 전략이 더 이상 선택이 아닌 필수인 시대에 살고 있습니다!\n",
      "\n",
      "이와 같은 트렌드들은 앞으로 AI 기술이 기업과 사회 전반에 걸쳐 끼칠 중대한 영향을 시사합니다. 각 기업은 이러한 혁신 기술을 적극적으로 통합하여 경쟁력을 강화하는 한편, 지속 가능한 미래를 준비해야 할 것입니다. 다음은 어떤 흥미로운 발전이 우리를 기다리고 있을까요? 계속 주목해주세요!\u001b[00m\n",
      "\n",
      "\n"
     ]
    },
    {
     "data": {
      "text/html": [
       "<pre style=\"white-space:pre;overflow-x:auto;line-height:normal;font-family:Menlo,'DejaVu Sans Mono',consolas,'Courier New',monospace\"><span style=\"color: #008080; text-decoration-color: #008080; font-weight: bold\">🚀 Crew: crew</span>\n",
       "├── <span style=\"color: #008000; text-decoration-color: #008000; font-weight: bold\">📋 Task: 17461861-ac1d-4142-92f1-da84aa954fc3</span>\n",
       "│   <span style=\"color: #c0c0c0; text-decoration-color: #c0c0c0\">   Assigned to: </span><span style=\"color: #008000; text-decoration-color: #008000\">테크 트렌드 연구원</span>\n",
       "│   <span style=\"color: #c0c0c0; text-decoration-color: #c0c0c0\">   Status: </span><span style=\"color: #008000; text-decoration-color: #008000; font-weight: bold\">✅ Completed</span>\n",
       "│   └── <span style=\"color: #008000; text-decoration-color: #008000; font-weight: bold\">🤖 Agent: </span><span style=\"color: #008000; text-decoration-color: #008000\">테크 트렌드 연구원</span>\n",
       "│       <span style=\"color: #c0c0c0; text-decoration-color: #c0c0c0\">    Status: </span><span style=\"color: #008000; text-decoration-color: #008000; font-weight: bold\">✅ Completed</span>\n",
       "│       ├── <span style=\"color: #008000; text-decoration-color: #008000; font-weight: bold\">🔧 </span><span style=\"color: #008000; text-decoration-color: #008000\">Used Search the internet with Serper (2)</span>\n",
       "│       └── <span style=\"color: #008000; text-decoration-color: #008000; font-weight: bold\">🔧 </span><span style=\"color: #008000; text-decoration-color: #008000\">Used Search in a specific website (2)</span>\n",
       "└── <span style=\"color: #808000; text-decoration-color: #808000; font-weight: bold\">📋 Task: fc69e65a-c04d-44de-9669-d1a0ef35f6e8</span>\n",
       "    <span style=\"color: #c0c0c0; text-decoration-color: #c0c0c0\">   Status: </span><span style=\"color: #bfbf7f; text-decoration-color: #bfbf7f\">Executing Task...</span>\n",
       "    └── <span style=\"color: #008000; text-decoration-color: #008000; font-weight: bold\">🤖 Agent: </span><span style=\"color: #008000; text-decoration-color: #008000\">뉴스레터 작성자</span>\n",
       "        <span style=\"color: #c0c0c0; text-decoration-color: #c0c0c0\">    Status: </span><span style=\"color: #008000; text-decoration-color: #008000; font-weight: bold\">✅ Completed</span>\n",
       "</pre>\n"
      ],
      "text/plain": [
       "\u001b[1;36m🚀 Crew: \u001b[0m\u001b[1;36mcrew\u001b[0m\n",
       "├── \u001b[1;32m📋 Task: 17461861-ac1d-4142-92f1-da84aa954fc3\u001b[0m\n",
       "│   \u001b[37m   Assigned to: \u001b[0m\u001b[32m테크 트렌드 연구원\u001b[0m\n",
       "│   \u001b[37m   Status: \u001b[0m\u001b[1;32m✅ Completed\u001b[0m\n",
       "│   └── \u001b[1;32m🤖 Agent: \u001b[0m\u001b[32m테크 트렌드 연구원\u001b[0m\n",
       "│       \u001b[37m    Status: \u001b[0m\u001b[1;32m✅ Completed\u001b[0m\n",
       "│       ├── \u001b[1;32m🔧 \u001b[0m\u001b[32mUsed Search the internet with Serper (2)\u001b[0m\n",
       "│       └── \u001b[1;32m🔧 \u001b[0m\u001b[32mUsed Search in a specific website (2)\u001b[0m\n",
       "└── \u001b[1;33m📋 Task: fc69e65a-c04d-44de-9669-d1a0ef35f6e8\u001b[0m\n",
       "    \u001b[37m   Status: \u001b[0m\u001b[2;33mExecuting Task...\u001b[0m\n",
       "    └── \u001b[1;32m🤖 Agent: \u001b[0m\u001b[32m뉴스레터 작성자\u001b[0m\n",
       "        \u001b[37m    Status: \u001b[0m\u001b[1;32m✅ Completed\u001b[0m\n"
      ]
     },
     "metadata": {},
     "output_type": "display_data"
    },
    {
     "data": {
      "text/html": [
       "<pre style=\"white-space:pre;overflow-x:auto;line-height:normal;font-family:Menlo,'DejaVu Sans Mono',consolas,'Courier New',monospace\">\n",
       "</pre>\n"
      ],
      "text/plain": [
       "\n"
      ]
     },
     "metadata": {},
     "output_type": "display_data"
    },
    {
     "data": {
      "text/html": [
       "<pre style=\"white-space:pre;overflow-x:auto;line-height:normal;font-family:Menlo,'DejaVu Sans Mono',consolas,'Courier New',monospace\"><span style=\"color: #008080; text-decoration-color: #008080; font-weight: bold\">🚀 Crew: crew</span>\n",
       "├── <span style=\"color: #008000; text-decoration-color: #008000; font-weight: bold\">📋 Task: 17461861-ac1d-4142-92f1-da84aa954fc3</span>\n",
       "│   <span style=\"color: #c0c0c0; text-decoration-color: #c0c0c0\">   Assigned to: </span><span style=\"color: #008000; text-decoration-color: #008000\">테크 트렌드 연구원</span>\n",
       "│   <span style=\"color: #c0c0c0; text-decoration-color: #c0c0c0\">   Status: </span><span style=\"color: #008000; text-decoration-color: #008000; font-weight: bold\">✅ Completed</span>\n",
       "│   └── <span style=\"color: #008000; text-decoration-color: #008000; font-weight: bold\">🤖 Agent: </span><span style=\"color: #008000; text-decoration-color: #008000\">테크 트렌드 연구원</span>\n",
       "│       <span style=\"color: #c0c0c0; text-decoration-color: #c0c0c0\">    Status: </span><span style=\"color: #008000; text-decoration-color: #008000; font-weight: bold\">✅ Completed</span>\n",
       "│       ├── <span style=\"color: #008000; text-decoration-color: #008000; font-weight: bold\">🔧 </span><span style=\"color: #008000; text-decoration-color: #008000\">Used Search the internet with Serper (2)</span>\n",
       "│       └── <span style=\"color: #008000; text-decoration-color: #008000; font-weight: bold\">🔧 </span><span style=\"color: #008000; text-decoration-color: #008000\">Used Search in a specific website (2)</span>\n",
       "└── <span style=\"color: #008000; text-decoration-color: #008000; font-weight: bold\">📋 Task: fc69e65a-c04d-44de-9669-d1a0ef35f6e8</span>\n",
       "    <span style=\"color: #c0c0c0; text-decoration-color: #c0c0c0\">   Assigned to: </span><span style=\"color: #008000; text-decoration-color: #008000\">뉴스레터 작성자</span>\n",
       "    <span style=\"color: #c0c0c0; text-decoration-color: #c0c0c0\">   Status: </span><span style=\"color: #008000; text-decoration-color: #008000; font-weight: bold\">✅ Completed</span>\n",
       "    └── <span style=\"color: #008000; text-decoration-color: #008000; font-weight: bold\">🤖 Agent: </span><span style=\"color: #008000; text-decoration-color: #008000\">뉴스레터 작성자</span>\n",
       "        <span style=\"color: #c0c0c0; text-decoration-color: #c0c0c0\">    Status: </span><span style=\"color: #008000; text-decoration-color: #008000; font-weight: bold\">✅ Completed</span>\n",
       "</pre>\n"
      ],
      "text/plain": [
       "\u001b[1;36m🚀 Crew: \u001b[0m\u001b[1;36mcrew\u001b[0m\n",
       "├── \u001b[1;32m📋 Task: 17461861-ac1d-4142-92f1-da84aa954fc3\u001b[0m\n",
       "│   \u001b[37m   Assigned to: \u001b[0m\u001b[32m테크 트렌드 연구원\u001b[0m\n",
       "│   \u001b[37m   Status: \u001b[0m\u001b[1;32m✅ Completed\u001b[0m\n",
       "│   └── \u001b[1;32m🤖 Agent: \u001b[0m\u001b[32m테크 트렌드 연구원\u001b[0m\n",
       "│       \u001b[37m    Status: \u001b[0m\u001b[1;32m✅ Completed\u001b[0m\n",
       "│       ├── \u001b[1;32m🔧 \u001b[0m\u001b[32mUsed Search the internet with Serper (2)\u001b[0m\n",
       "│       └── \u001b[1;32m🔧 \u001b[0m\u001b[32mUsed Search in a specific website (2)\u001b[0m\n",
       "└── \u001b[1;32m📋 Task: fc69e65a-c04d-44de-9669-d1a0ef35f6e8\u001b[0m\n",
       "    \u001b[37m   Assigned to: \u001b[0m\u001b[32m뉴스레터 작성자\u001b[0m\n",
       "    \u001b[37m   Status: \u001b[0m\u001b[1;32m✅ Completed\u001b[0m\n",
       "    └── \u001b[1;32m🤖 Agent: \u001b[0m\u001b[32m뉴스레터 작성자\u001b[0m\n",
       "        \u001b[37m    Status: \u001b[0m\u001b[1;32m✅ Completed\u001b[0m\n"
      ]
     },
     "metadata": {},
     "output_type": "display_data"
    },
    {
     "data": {
      "text/html": [
       "<pre style=\"white-space:pre;overflow-x:auto;line-height:normal;font-family:Menlo,'DejaVu Sans Mono',consolas,'Courier New',monospace\"><span style=\"color: #008000; text-decoration-color: #008000\">╭──────────────────────────────────────────────── Task Completion ────────────────────────────────────────────────╮</span>\n",
       "<span style=\"color: #008000; text-decoration-color: #008000\">│</span>                                                                                                                 <span style=\"color: #008000; text-decoration-color: #008000\">│</span>\n",
       "<span style=\"color: #008000; text-decoration-color: #008000\">│</span>  <span style=\"color: #008000; text-decoration-color: #008000; font-weight: bold\">Task Completed</span>                                                                                                 <span style=\"color: #008000; text-decoration-color: #008000\">│</span>\n",
       "<span style=\"color: #008000; text-decoration-color: #008000\">│</span>  <span style=\"color: #c0c0c0; text-decoration-color: #c0c0c0\">Name: </span><span style=\"color: #008000; text-decoration-color: #008000\">fc69e65a-c04d-44de-9669-d1a0ef35f6e8</span>                                                                     <span style=\"color: #008000; text-decoration-color: #008000\">│</span>\n",
       "<span style=\"color: #008000; text-decoration-color: #008000\">│</span>  <span style=\"color: #c0c0c0; text-decoration-color: #c0c0c0\">Agent: </span><span style=\"color: #008000; text-decoration-color: #008000\">뉴스레터 작성자</span>                                                                                         <span style=\"color: #008000; text-decoration-color: #008000\">│</span>\n",
       "<span style=\"color: #008000; text-decoration-color: #008000\">│</span>                                                                                                                 <span style=\"color: #008000; text-decoration-color: #008000\">│</span>\n",
       "<span style=\"color: #008000; text-decoration-color: #008000\">│</span>                                                                                                                 <span style=\"color: #008000; text-decoration-color: #008000\">│</span>\n",
       "<span style=\"color: #008000; text-decoration-color: #008000\">╰─────────────────────────────────────────────────────────────────────────────────────────────────────────────────╯</span>\n",
       "</pre>\n"
      ],
      "text/plain": [
       "\u001b[32m╭─\u001b[0m\u001b[32m───────────────────────────────────────────────\u001b[0m\u001b[32m Task Completion \u001b[0m\u001b[32m───────────────────────────────────────────────\u001b[0m\u001b[32m─╮\u001b[0m\n",
       "\u001b[32m│\u001b[0m                                                                                                                 \u001b[32m│\u001b[0m\n",
       "\u001b[32m│\u001b[0m  \u001b[1;32mTask Completed\u001b[0m                                                                                                 \u001b[32m│\u001b[0m\n",
       "\u001b[32m│\u001b[0m  \u001b[37mName: \u001b[0m\u001b[32mfc69e65a-c04d-44de-9669-d1a0ef35f6e8\u001b[0m                                                                     \u001b[32m│\u001b[0m\n",
       "\u001b[32m│\u001b[0m  \u001b[37mAgent: \u001b[0m\u001b[32m뉴스레터 작성자\u001b[0m                                                                                         \u001b[32m│\u001b[0m\n",
       "\u001b[32m│\u001b[0m                                                                                                                 \u001b[32m│\u001b[0m\n",
       "\u001b[32m│\u001b[0m                                                                                                                 \u001b[32m│\u001b[0m\n",
       "\u001b[32m╰─────────────────────────────────────────────────────────────────────────────────────────────────────────────────╯\u001b[0m\n"
      ]
     },
     "metadata": {},
     "output_type": "display_data"
    },
    {
     "data": {
      "text/html": [
       "<pre style=\"white-space:pre;overflow-x:auto;line-height:normal;font-family:Menlo,'DejaVu Sans Mono',consolas,'Courier New',monospace\">\n",
       "</pre>\n"
      ],
      "text/plain": [
       "\n"
      ]
     },
     "metadata": {},
     "output_type": "display_data"
    },
    {
     "data": {
      "text/html": [
       "<pre style=\"white-space:pre;overflow-x:auto;line-height:normal;font-family:Menlo,'DejaVu Sans Mono',consolas,'Courier New',monospace\"><span style=\"color: #008000; text-decoration-color: #008000\">╭──────────────────────────────────────────────── Crew Completion ────────────────────────────────────────────────╮</span>\n",
       "<span style=\"color: #008000; text-decoration-color: #008000\">│</span>                                                                                                                 <span style=\"color: #008000; text-decoration-color: #008000\">│</span>\n",
       "<span style=\"color: #008000; text-decoration-color: #008000\">│</span>  <span style=\"color: #008000; text-decoration-color: #008000; font-weight: bold\">Crew Execution Completed</span>                                                                                       <span style=\"color: #008000; text-decoration-color: #008000\">│</span>\n",
       "<span style=\"color: #008000; text-decoration-color: #008000\">│</span>  <span style=\"color: #c0c0c0; text-decoration-color: #c0c0c0\">Name: </span><span style=\"color: #008000; text-decoration-color: #008000\">crew</span>                                                                                                     <span style=\"color: #008000; text-decoration-color: #008000\">│</span>\n",
       "<span style=\"color: #008000; text-decoration-color: #008000\">│</span>  <span style=\"color: #c0c0c0; text-decoration-color: #c0c0c0\">ID: </span><span style=\"color: #008000; text-decoration-color: #008000\">64eea2ef-2151-4b59-9e01-59a4d636d4ec</span>                                                                       <span style=\"color: #008000; text-decoration-color: #008000\">│</span>\n",
       "<span style=\"color: #008000; text-decoration-color: #008000\">│</span>                                                                                                                 <span style=\"color: #008000; text-decoration-color: #008000\">│</span>\n",
       "<span style=\"color: #008000; text-decoration-color: #008000\">│</span>                                                                                                                 <span style=\"color: #008000; text-decoration-color: #008000\">│</span>\n",
       "<span style=\"color: #008000; text-decoration-color: #008000\">╰─────────────────────────────────────────────────────────────────────────────────────────────────────────────────╯</span>\n",
       "</pre>\n"
      ],
      "text/plain": [
       "\u001b[32m╭─\u001b[0m\u001b[32m───────────────────────────────────────────────\u001b[0m\u001b[32m Crew Completion \u001b[0m\u001b[32m───────────────────────────────────────────────\u001b[0m\u001b[32m─╮\u001b[0m\n",
       "\u001b[32m│\u001b[0m                                                                                                                 \u001b[32m│\u001b[0m\n",
       "\u001b[32m│\u001b[0m  \u001b[1;32mCrew Execution Completed\u001b[0m                                                                                       \u001b[32m│\u001b[0m\n",
       "\u001b[32m│\u001b[0m  \u001b[37mName: \u001b[0m\u001b[32mcrew\u001b[0m                                                                                                     \u001b[32m│\u001b[0m\n",
       "\u001b[32m│\u001b[0m  \u001b[37mID: \u001b[0m\u001b[32m64eea2ef-2151-4b59-9e01-59a4d636d4ec\u001b[0m                                                                       \u001b[32m│\u001b[0m\n",
       "\u001b[32m│\u001b[0m                                                                                                                 \u001b[32m│\u001b[0m\n",
       "\u001b[32m│\u001b[0m                                                                                                                 \u001b[32m│\u001b[0m\n",
       "\u001b[32m╰─────────────────────────────────────────────────────────────────────────────────────────────────────────────────╯\u001b[0m\n"
      ]
     },
     "metadata": {},
     "output_type": "display_data"
    },
    {
     "data": {
      "text/html": [
       "<pre style=\"white-space:pre;overflow-x:auto;line-height:normal;font-family:Menlo,'DejaVu Sans Mono',consolas,'Courier New',monospace\">\n",
       "</pre>\n"
      ],
      "text/plain": [
       "\n"
      ]
     },
     "metadata": {},
     "output_type": "display_data"
    }
   ],
   "source": [
    "llm = LLM(model = \"openai/gpt-4o-mini\")\n",
    "\n",
    "search_tool = SerperDevTool()\n",
    "web_rag_tool = WebsiteSearchTool()\n",
    "scrap_tool = ScrapeWebsiteTool()\n",
    "\n",
    "researcher = Agent(\n",
    "    role='테크 트렌드 연구원',\n",
    "    goal=\"인공지능 분야의 최신 기술 트렌드를 한국어로 제공합니다. 지금은 2024년 8월입니다.\",\n",
    "    backstory='기술 트렌드에 예리한 안목을 지닌 전문 분석가이자 AI 개발자입니다.',\n",
    "    tools=[search_tool, web_rag_tool],\n",
    "    verbose=True,\n",
    "    max_iter=5,\n",
    "    llm = llm\n",
    ")\n",
    "\n",
    "writer = Agent(\n",
    "    role='뉴스레터 작성자',\n",
    "    goal=\"최신 AI 기술 트렌드에 대한 매력적인 테크 뉴스레터를 한국어로 작성하세요. 지금은 2024년 8월입니다.\",\n",
    "    backstory='기술에 대한 열정을 가진 숙련된 작가입니다.',\n",
    "    verbose=True,\n",
    "    allow_delegation=False,\n",
    "    llm = llm\n",
    ")\n",
    "\n",
    "# Define tasks\n",
    "research = Task(\n",
    "    description='AI 업계의 최신 기술 동향을 조사하고 요약을 제공하세요.',\n",
    "    expected_output='AI 업계에서 가장 주목받는 3대 기술 개발 동향과 그 중요성에 대한 신선한 관점을 요약한 글',\n",
    "    agent=researcher\n",
    ")\n",
    "\n",
    "write = Task(\n",
    "    description=\"\"\"테크 트렌드 연구원의 요약을 바탕으로 AI 산업에 대한 매력적인 테크 뉴스레터를 작성하세요.\n",
    "    테크 뉴스레터이므로 전문적인 용어를 사용해도 괜찮습니다.\"\"\",\n",
    "    expected_output='최신 기술 관련 소식을 재밌는 말투로 소개하는 4문단짜리 마크다운 형식 뉴스레터',\n",
    "    agent=writer,\n",
    "    output_file=r'./new_post.md'  # The final blog post will be saved here\n",
    ")\n",
    "\n",
    "# Assemble a crew with planning enabled\n",
    "crew = Crew(\n",
    "    agents=[researcher, writer],\n",
    "    tasks=[research, write],\n",
    "    verbose=True,\n",
    "    process=Process.sequential\n",
    ")\n",
    "\n",
    "# Execute tasks\n",
    "result = crew.kickoff()"
   ]
  },
  {
   "cell_type": "code",
   "execution_count": 5,
   "id": "2b1121e5-8743-4534-b27c-838443490f90",
   "metadata": {},
   "outputs": [
    {
     "data": {
      "text/markdown": [
       "# 📡 2024년 AI 기술 뉴스레터\n",
       "\n",
       "안녕하세요, AI 트렌드를 사랑하는 독자 여러분! 2024년 8월에 접어든 지금, AI 분야는 가히 혁신의 시기를 맞이하고 있습니다. 오늘은 최신 AI 기술 동향 중 눈여겨볼 만한 세 가지 트렌드를 소개해드리겠습니다. 대화의 시작에 불과한 이 흥미로운 여정을 함께 떠나봅시다!\n",
       "\n",
       "## 1. 생성형 AI의 발전 🚀  \n",
       "생성형 AI는 요즘 기업들의 혁신 DNA로 자리 잡고 있습니다. 기업들은 이제 단순한 정보 전달을 넘어, 텍스트, 음성, 비디오 같은 다양한 데이터를 활용하여 독창적인 콘텐츠를 생성하는 데 열을 올리고 있습니다. 맥킨지의 보고서에 따르면, AI 모델들이 생성할 수 있는 연간 가치가 무려 2조 6천억 달러에서 4조 4천억 달러에 달한다고 하니, 이 기술의 영향력은 상상을 초월합니다. 이제는 맞춤형 솔루션이 고객의 마음을 흔드는 시대가 도래했습니다!\n",
       "\n",
       "## 2. 멀티모달 AI의 확산 🌐  \n",
       "다양한 형태의 데이터를 동시에 처리하는 멀티모달 AI가 새롭게 주목받고 있습니다. 생각해보세요, 고객이 음성 인식을 통해 질문을 던지면, AI가 텍스트와 비디오를 분석하여 즉각적으로 적절한 답변을 제공하는 시스템이 바로 그것입니다! 이는 고객 경험을 질적으로 한 단계 끌어올리고, 상업적 서비스의 혁신을 주도할 절호의 기회를 제공합니다. 고객 접점에서의 상호작용이 그 어느 때보다 풍부해지고 있습니다.\n",
       "\n",
       "## 3. AI 기반 데이터 전략의 중요성 증대 📊  \n",
       "비즈니스 세계에 있어서 데이터는 새로운 금광입니다! 하지만 이를 효과적으로 관리하고 인사이트로 전환하는 데 여전히 난관이 존재합니다. AI 기반의 데이터 전략은 이러한 문제를 해결하는 데 필수적입니다. 기업들은 데이터를 수집하고 저장하는 방법을 혁신할 수 있는 기회를 발견하고 있으며, 이는 경쟁력을 결정짓는 중요한 요소로 간주되고 있습니다. 데이터 안전과 맞춤형 전략이 더 이상 선택이 아닌 필수인 시대에 살고 있습니다!\n",
       "\n",
       "이와 같은 트렌드들은 앞으로 AI 기술이 기업과 사회 전반에 걸쳐 끼칠 중대한 영향을 시사합니다. 각 기업은 이러한 혁신 기술을 적극적으로 통합하여 경쟁력을 강화하는 한편, 지속 가능한 미래를 준비해야 할 것입니다. 다음은 어떤 흥미로운 발전이 우리를 기다리고 있을까요? 계속 주목해주세요!"
      ],
      "text/plain": [
       "<IPython.core.display.Markdown object>"
      ]
     },
     "metadata": {},
     "output_type": "display_data"
    }
   ],
   "source": [
    "from IPython.display import display, Markdown\n",
    "display(Markdown(result.raw))"
   ]
  },
  {
   "cell_type": "code",
   "execution_count": null,
   "id": "b2c3ec09",
   "metadata": {},
   "outputs": [],
   "source": []
  }
 ],
 "metadata": {
  "kernelspec": {
   "display_name": "Python 3",
   "language": "python",
   "name": "python3"
  },
  "language_info": {
   "codemirror_mode": {
    "name": "ipython",
    "version": 3
   },
   "file_extension": ".py",
   "mimetype": "text/x-python",
   "name": "python",
   "nbconvert_exporter": "python",
   "pygments_lexer": "ipython3",
   "version": "3.11.6"
  }
 },
 "nbformat": 4,
 "nbformat_minor": 5
}
