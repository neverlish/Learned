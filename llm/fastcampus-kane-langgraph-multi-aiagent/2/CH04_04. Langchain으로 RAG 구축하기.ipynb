{
 "cells": [
  {
   "cell_type": "markdown",
   "id": "8954ad49-8bc6-4bfa-b4a8-12dc6ddfb97e",
   "metadata": {},
   "source": [
    "### **Document Loader로 문서 불러오기**"
   ]
  },
  {
   "cell_type": "code",
   "execution_count": null,
   "id": "f209b3d8-87e2-40ce-9de4-dd1aeef255b5",
   "metadata": {},
   "outputs": [],
   "source": [
    "#PyPDF 설치\n",
    "!pip install -q pypdf"
   ]
  },
  {
   "cell_type": "code",
   "execution_count": 1,
   "id": "75ac187e-246a-41de-8e70-00b0909f679f",
   "metadata": {},
   "outputs": [],
   "source": [
    "#PyPDFLoader 불러오기\n",
    "from langchain_community.document_loaders import PyPDFLoader\n",
    "\n",
    "# PDF파일 불러올 객체 PyPDFLoader 선언\n",
    "loader = PyPDFLoader(r\"./pdf/Retrieval-Augmented Generation for Knowledge-Intensive NLP Tasks.pdf\")\n",
    "\n",
    "# PDF파일 로드 및 페이지별로 자르기\n",
    "pages = loader.load_and_split()"
   ]
  },
  {
   "cell_type": "code",
   "execution_count": 2,
   "id": "ead91adf-c9be-4d8b-b644-54de918e4056",
   "metadata": {
    "collapsed": true,
    "jupyter": {
     "outputs_hidden": true
    }
   },
   "outputs": [
    {
     "data": {
      "text/plain": [
       "Document(metadata={'producer': 'pdfTeX-1.40.21', 'creator': 'LaTeX with hyperref', 'creationdate': '2021-04-13T00:48:38+00:00', 'author': '', 'keywords': '', 'moddate': '2021-04-13T00:48:38+00:00', 'ptex.fullbanner': 'This is pdfTeX, Version 3.14159265-2.6-1.40.21 (TeX Live 2020) kpathsea version 6.3.2', 'subject': '', 'title': '', 'trapped': '/False', 'source': './pdf/Retrieval-Augmented Generation for Knowledge-Intensive NLP Tasks.pdf', 'total_pages': 19, 'page': 0, 'page_label': '1'}, page_content='Retrieval-Augmented Generation for\\nKnowledge-Intensive NLP Tasks\\nPatrick Lewis†‡, Ethan Perez⋆,\\nAleksandra Piktus†, Fabio Petroni†, Vladimir Karpukhin†, Naman Goyal†, Heinrich Küttler†,\\nMike Lewis†, Wen-tau Yih†, Tim Rocktäschel†‡, Sebastian Riedel†‡, Douwe Kiela†\\n†Facebook AI Research; ‡University College London; ⋆New York University;\\nplewis@fb.com\\nAbstract\\nLarge pre-trained language models have been shown to store factual knowledge\\nin their parameters, and achieve state-of-the-art results when ﬁne-tuned on down-\\nstream NLP tasks. However, their ability to access and precisely manipulate knowl-\\nedge is still limited, and hence on knowledge-intensive tasks, their performance\\nlags behind task-speciﬁc architectures. Additionally, providing provenance for their\\ndecisions and updating their world knowledge remain open research problems. Pre-\\ntrained models with a differentiable access mechanism to explicit non-parametric\\nmemory have so far been only investigated for extractive downstream tasks. We\\nexplore a general-purpose ﬁne-tuning recipe for retrieval-augmented generation\\n(RAG) — models which combine pre-trained parametric and non-parametric mem-\\nory for language generation. We introduce RAG models where the parametric\\nmemory is a pre-trained seq2seq model and the non-parametric memory is a dense\\nvector index of Wikipedia, accessed with a pre-trained neural retriever. We com-\\npare two RAG formulations, one which conditions on the same retrieved passages\\nacross the whole generated sequence, and another which can use different passages\\nper token. We ﬁne-tune and evaluate our models on a wide range of knowledge-\\nintensive NLP tasks and set the state of the art on three open domain QA tasks,\\noutperforming parametric seq2seq models and task-speciﬁc retrieve-and-extract\\narchitectures. For language generation tasks, we ﬁnd that RAG models generate\\nmore speciﬁc, diverse and factual language than a state-of-the-art parametric-only\\nseq2seq baseline.\\n1 Introduction\\nPre-trained neural language models have been shown to learn a substantial amount of in-depth knowl-\\nedge from data [47]. They can do so without any access to an external memory, as a parameterized\\nimplicit knowledge base [51, 52]. While this development is exciting, such models do have down-\\nsides: They cannot easily expand or revise their memory, can’t straightforwardly provide insight into\\ntheir predictions, and may produce “hallucinations” [38]. Hybrid models that combine parametric\\nmemory with non-parametric (i.e., retrieval-based) memories [20, 26, 48] can address some of these\\nissues because knowledge can be directly revised and expanded, and accessed knowledge can be\\ninspected and interpreted. REALM [ 20] and ORQA [ 31], two recently introduced models that\\ncombine masked language models [8] with a differentiable retriever, have shown promising results,\\narXiv:2005.11401v4  [cs.CL]  12 Apr 2021')"
      ]
     },
     "execution_count": 2,
     "metadata": {},
     "output_type": "execute_result"
    }
   ],
   "source": [
    "pages[0]"
   ]
  },
  {
   "cell_type": "code",
   "execution_count": 3,
   "id": "b2197d3a-fa90-4679-8494-b16357ada4de",
   "metadata": {
    "collapsed": true,
    "jupyter": {
     "outputs_hidden": true
    },
    "scrolled": true
   },
   "outputs": [
    {
     "data": {
      "text/plain": [
       "[('Retrieval-Augmented Generation for\\nKnowledge-Intensive NLP Tasks\\nPatrick Lewis†‡, Ethan Perez⋆,\\nAlek',\n",
       "  {'producer': 'pdfTeX-1.40.21',\n",
       "   'creator': 'LaTeX with hyperref',\n",
       "   'creationdate': '2021-04-13T00:48:38+00:00',\n",
       "   'author': '',\n",
       "   'keywords': '',\n",
       "   'moddate': '2021-04-13T00:48:38+00:00',\n",
       "   'ptex.fullbanner': 'This is pdfTeX, Version 3.14159265-2.6-1.40.21 (TeX Live 2020) kpathsea version 6.3.2',\n",
       "   'subject': '',\n",
       "   'title': '',\n",
       "   'trapped': '/False',\n",
       "   'source': './pdf/Retrieval-Augmented Generation for Knowledge-Intensive NLP Tasks.pdf',\n",
       "   'total_pages': 19,\n",
       "   'page': 0,\n",
       "   'page_label': '1'}),\n",
       " ('The\\tDivine\\nComedy\\t(x) q \\nQuery \\nEncoder \\nq(x) \\nMIPS p θ \\nGenerator\\xa0pθ\\n(Parametric) \\nMargin- \\nalize \\n',\n",
       "  {'producer': 'pdfTeX-1.40.21',\n",
       "   'creator': 'LaTeX with hyperref',\n",
       "   'creationdate': '2021-04-13T00:48:38+00:00',\n",
       "   'author': '',\n",
       "   'keywords': '',\n",
       "   'moddate': '2021-04-13T00:48:38+00:00',\n",
       "   'ptex.fullbanner': 'This is pdfTeX, Version 3.14159265-2.6-1.40.21 (TeX Live 2020) kpathsea version 6.3.2',\n",
       "   'subject': '',\n",
       "   'title': '',\n",
       "   'trapped': '/False',\n",
       "   'source': './pdf/Retrieval-Augmented Generation for Knowledge-Intensive NLP Tasks.pdf',\n",
       "   'total_pages': 19,\n",
       "   'page': 1,\n",
       "   'page_label': '2'}),\n",
       " ('the non-parametric memory can be replaced to update the models’ knowledge as the world changes.1\\n2 M',\n",
       "  {'producer': 'pdfTeX-1.40.21',\n",
       "   'creator': 'LaTeX with hyperref',\n",
       "   'creationdate': '2021-04-13T00:48:38+00:00',\n",
       "   'author': '',\n",
       "   'keywords': '',\n",
       "   'moddate': '2021-04-13T00:48:38+00:00',\n",
       "   'ptex.fullbanner': 'This is pdfTeX, Version 3.14159265-2.6-1.40.21 (TeX Live 2020) kpathsea version 6.3.2',\n",
       "   'subject': '',\n",
       "   'title': '',\n",
       "   'trapped': '/False',\n",
       "   'source': './pdf/Retrieval-Augmented Generation for Knowledge-Intensive NLP Tasks.pdf',\n",
       "   'total_pages': 19,\n",
       "   'page': 1,\n",
       "   'page_label': '2'}),\n",
       " ('by θthat generates a current token based on a context of the previous i−1 tokens y1:i−1, the origina',\n",
       "  {'producer': 'pdfTeX-1.40.21',\n",
       "   'creator': 'LaTeX with hyperref',\n",
       "   'creationdate': '2021-04-13T00:48:38+00:00',\n",
       "   'author': '',\n",
       "   'keywords': '',\n",
       "   'moddate': '2021-04-13T00:48:38+00:00',\n",
       "   'ptex.fullbanner': 'This is pdfTeX, Version 3.14159265-2.6-1.40.21 (TeX Live 2020) kpathsea version 6.3.2',\n",
       "   'subject': '',\n",
       "   'title': '',\n",
       "   'trapped': '/False',\n",
       "   'source': './pdf/Retrieval-Augmented Generation for Knowledge-Intensive NLP Tasks.pdf',\n",
       "   'total_pages': 19,\n",
       "   'page': 2,\n",
       "   'page_label': '3'}),\n",
       " ('minimize the negative marginal log-likelihood of each target, ∑\\nj−log p(yj|xj) using stochastic\\ngrad',\n",
       "  {'producer': 'pdfTeX-1.40.21',\n",
       "   'creator': 'LaTeX with hyperref',\n",
       "   'creationdate': '2021-04-13T00:48:38+00:00',\n",
       "   'author': '',\n",
       "   'keywords': '',\n",
       "   'moddate': '2021-04-13T00:48:38+00:00',\n",
       "   'ptex.fullbanner': 'This is pdfTeX, Version 3.14159265-2.6-1.40.21 (TeX Live 2020) kpathsea version 6.3.2',\n",
       "   'subject': '',\n",
       "   'title': '',\n",
       "   'trapped': '/False',\n",
       "   'source': './pdf/Retrieval-Augmented Generation for Knowledge-Intensive NLP Tasks.pdf',\n",
       "   'total_pages': 19,\n",
       "   'page': 3,\n",
       "   'page_label': '4'}),\n",
       " ('RAG models can go beyond simple extractive QA and answer questions with free-form, abstractive\\ntext ',\n",
       "  {'producer': 'pdfTeX-1.40.21',\n",
       "   'creator': 'LaTeX with hyperref',\n",
       "   'creationdate': '2021-04-13T00:48:38+00:00',\n",
       "   'author': '',\n",
       "   'keywords': '',\n",
       "   'moddate': '2021-04-13T00:48:38+00:00',\n",
       "   'ptex.fullbanner': 'This is pdfTeX, Version 3.14159265-2.6-1.40.21 (TeX Live 2020) kpathsea version 6.3.2',\n",
       "   'subject': '',\n",
       "   'title': '',\n",
       "   'trapped': '/False',\n",
       "   'source': './pdf/Retrieval-Augmented Generation for Knowledge-Intensive NLP Tasks.pdf',\n",
       "   'total_pages': 19,\n",
       "   'page': 3,\n",
       "   'page_label': '4'}),\n",
       " ('MSMARCO as an open-domain abstractive QA task. MSMARCO has some questions that cannot be\\nanswered in',\n",
       "  {'producer': 'pdfTeX-1.40.21',\n",
       "   'creator': 'LaTeX with hyperref',\n",
       "   'creationdate': '2021-04-13T00:48:38+00:00',\n",
       "   'author': '',\n",
       "   'keywords': '',\n",
       "   'moddate': '2021-04-13T00:48:38+00:00',\n",
       "   'ptex.fullbanner': 'This is pdfTeX, Version 3.14159265-2.6-1.40.21 (TeX Live 2020) kpathsea version 6.3.2',\n",
       "   'subject': '',\n",
       "   'title': '',\n",
       "   'trapped': '/False',\n",
       "   'source': './pdf/Retrieval-Augmented Generation for Knowledge-Intensive NLP Tasks.pdf',\n",
       "   'total_pages': 19,\n",
       "   'page': 4,\n",
       "   'page_label': '5'}),\n",
       " ('retriever is initialized using DPR’s retriever, which uses retrieval supervision on Natural Question',\n",
       "  {'producer': 'pdfTeX-1.40.21',\n",
       "   'creator': 'LaTeX with hyperref',\n",
       "   'creationdate': '2021-04-13T00:48:38+00:00',\n",
       "   'author': '',\n",
       "   'keywords': '',\n",
       "   'moddate': '2021-04-13T00:48:38+00:00',\n",
       "   'ptex.fullbanner': 'This is pdfTeX, Version 3.14159265-2.6-1.40.21 (TeX Live 2020) kpathsea version 6.3.2',\n",
       "   'subject': '',\n",
       "   'title': '',\n",
       "   'trapped': '/False',\n",
       "   'source': './pdf/Retrieval-Augmented Generation for Knowledge-Intensive NLP Tasks.pdf',\n",
       "   'total_pages': 19,\n",
       "   'page': 4,\n",
       "   'page_label': '5'}),\n",
       " ('Table 1: Open-Domain QA Test Scores. For TQA,\\nleft column uses the standard test set for Open-\\nDomai',\n",
       "  {'producer': 'pdfTeX-1.40.21',\n",
       "   'creator': 'LaTeX with hyperref',\n",
       "   'creationdate': '2021-04-13T00:48:38+00:00',\n",
       "   'author': '',\n",
       "   'keywords': '',\n",
       "   'moddate': '2021-04-13T00:48:38+00:00',\n",
       "   'ptex.fullbanner': 'This is pdfTeX, Version 3.14159265-2.6-1.40.21 (TeX Live 2020) kpathsea version 6.3.2',\n",
       "   'subject': '',\n",
       "   'title': '',\n",
       "   'trapped': '/False',\n",
       "   'source': './pdf/Retrieval-Augmented Generation for Knowledge-Intensive NLP Tasks.pdf',\n",
       "   'total_pages': 19,\n",
       "   'page': 5,\n",
       "   'page_label': '6'}),\n",
       " ('to guide the generation, drawing out speciﬁc knowledge stored in the parametric memory.\\n4.4 Fact Ver',\n",
       "  {'producer': 'pdfTeX-1.40.21',\n",
       "   'creator': 'LaTeX with hyperref',\n",
       "   'creationdate': '2021-04-13T00:48:38+00:00',\n",
       "   'author': '',\n",
       "   'keywords': '',\n",
       "   'moddate': '2021-04-13T00:48:38+00:00',\n",
       "   'ptex.fullbanner': 'This is pdfTeX, Version 3.14159265-2.6-1.40.21 (TeX Live 2020) kpathsea version 6.3.2',\n",
       "   'subject': '',\n",
       "   'title': '',\n",
       "   'trapped': '/False',\n",
       "   'source': './pdf/Retrieval-Augmented Generation for Knowledge-Intensive NLP Tasks.pdf',\n",
       "   'total_pages': 19,\n",
       "   'page': 5,\n",
       "   'page_label': '6'}),\n",
       " ('Document 1: his works are considered classics of American\\nliterature ... His wartime experiences for',\n",
       "  {'producer': 'pdfTeX-1.40.21',\n",
       "   'creator': 'LaTeX with hyperref',\n",
       "   'creationdate': '2021-04-13T00:48:38+00:00',\n",
       "   'author': '',\n",
       "   'keywords': '',\n",
       "   'moddate': '2021-04-13T00:48:38+00:00',\n",
       "   'ptex.fullbanner': 'This is pdfTeX, Version 3.14159265-2.6-1.40.21 (TeX Live 2020) kpathsea version 6.3.2',\n",
       "   'subject': '',\n",
       "   'title': '',\n",
       "   'trapped': '/False',\n",
       "   'source': './pdf/Retrieval-Augmented Generation for Knowledge-Intensive NLP Tasks.pdf',\n",
       "   'total_pages': 19,\n",
       "   'page': 6,\n",
       "   'page_label': '7'}),\n",
       " ('improves results on all other tasks, especially for Open-Domain QA, where it is crucial.\\nIndex hot-s',\n",
       "  {'producer': 'pdfTeX-1.40.21',\n",
       "   'creator': 'LaTeX with hyperref',\n",
       "   'creationdate': '2021-04-13T00:48:38+00:00',\n",
       "   'author': '',\n",
       "   'keywords': '',\n",
       "   'moddate': '2021-04-13T00:48:38+00:00',\n",
       "   'ptex.fullbanner': 'This is pdfTeX, Version 3.14159265-2.6-1.40.21 (TeX Live 2020) kpathsea version 6.3.2',\n",
       "   'subject': '',\n",
       "   'title': '',\n",
       "   'trapped': '/False',\n",
       "   'source': './pdf/Retrieval-Augmented Generation for Knowledge-Intensive NLP Tasks.pdf',\n",
       "   'total_pages': 19,\n",
       "   'page': 6,\n",
       "   'page_label': '7'}),\n",
       " ('Table 4: Human assessments for the Jeopardy\\nQuestion Generation Task.\\nFactuality Speciﬁcity\\nBART bet',\n",
       "  {'producer': 'pdfTeX-1.40.21',\n",
       "   'creator': 'LaTeX with hyperref',\n",
       "   'creationdate': '2021-04-13T00:48:38+00:00',\n",
       "   'author': '',\n",
       "   'keywords': '',\n",
       "   'moddate': '2021-04-13T00:48:38+00:00',\n",
       "   'ptex.fullbanner': 'This is pdfTeX, Version 3.14159265-2.6-1.40.21 (TeX Live 2020) kpathsea version 6.3.2',\n",
       "   'subject': '',\n",
       "   'title': '',\n",
       "   'trapped': '/False',\n",
       "   'source': './pdf/Retrieval-Augmented Generation for Knowledge-Intensive NLP Tasks.pdf',\n",
       "   'total_pages': 19,\n",
       "   'page': 7,\n",
       "   'page_label': '8'}),\n",
       " ('General-Purpose Architectures for NLP Prior work on general-purpose architectures for NLP\\ntasks has ',\n",
       "  {'producer': 'pdfTeX-1.40.21',\n",
       "   'creator': 'LaTeX with hyperref',\n",
       "   'creationdate': '2021-04-13T00:48:38+00:00',\n",
       "   'author': '',\n",
       "   'keywords': '',\n",
       "   'moddate': '2021-04-13T00:48:38+00:00',\n",
       "   'ptex.fullbanner': 'This is pdfTeX, Version 3.14159265-2.6-1.40.21 (TeX Live 2020) kpathsea version 6.3.2',\n",
       "   'subject': '',\n",
       "   'title': '',\n",
       "   'trapped': '/False',\n",
       "   'source': './pdf/Retrieval-Augmented Generation for Knowledge-Intensive NLP Tasks.pdf',\n",
       "   'total_pages': 19,\n",
       "   'page': 8,\n",
       "   'page_label': '9'}),\n",
       " ('can be jointly pre-trained from scratch, either with a denoising objective similar to BART or some\\na',\n",
       "  {'producer': 'pdfTeX-1.40.21',\n",
       "   'creator': 'LaTeX with hyperref',\n",
       "   'creationdate': '2021-04-13T00:48:38+00:00',\n",
       "   'author': '',\n",
       "   'keywords': '',\n",
       "   'moddate': '2021-04-13T00:48:38+00:00',\n",
       "   'ptex.fullbanner': 'This is pdfTeX, Version 3.14159265-2.6-1.40.21 (TeX Live 2020) kpathsea version 6.3.2',\n",
       "   'subject': '',\n",
       "   'title': '',\n",
       "   'trapped': '/False',\n",
       "   'source': './pdf/Retrieval-Augmented Generation for Knowledge-Intensive NLP Tasks.pdf',\n",
       "   'total_pages': 19,\n",
       "   'page': 8,\n",
       "   'page_label': '9'}),\n",
       " ('Broader Impact\\nThis work offers several positive societal beneﬁts over previous work: the fact that ',\n",
       "  {'producer': 'pdfTeX-1.40.21',\n",
       "   'creator': 'LaTeX with hyperref',\n",
       "   'creationdate': '2021-04-13T00:48:38+00:00',\n",
       "   'author': '',\n",
       "   'keywords': '',\n",
       "   'moddate': '2021-04-13T00:48:38+00:00',\n",
       "   'ptex.fullbanner': 'This is pdfTeX, Version 3.14159265-2.6-1.40.21 (TeX Live 2020) kpathsea version 6.3.2',\n",
       "   'subject': '',\n",
       "   'title': '',\n",
       "   'trapped': '/False',\n",
       "   'source': './pdf/Retrieval-Augmented Generation for Knowledge-Intensive NLP Tasks.pdf',\n",
       "   'total_pages': 19,\n",
       "   'page': 9,\n",
       "   'page_label': '10'}),\n",
       " ('[7] Christopher Clark and Matt Gardner. Simple and Effective Multi-Paragraph Reading Compre-\\nhension',\n",
       "  {'producer': 'pdfTeX-1.40.21',\n",
       "   'creator': 'LaTeX with hyperref',\n",
       "   'creationdate': '2021-04-13T00:48:38+00:00',\n",
       "   'author': '',\n",
       "   'keywords': '',\n",
       "   'moddate': '2021-04-13T00:48:38+00:00',\n",
       "   'ptex.fullbanner': 'This is pdfTeX, Version 3.14159265-2.6-1.40.21 (TeX Live 2020) kpathsea version 6.3.2',\n",
       "   'subject': '',\n",
       "   'title': '',\n",
       "   'trapped': '/False',\n",
       "   'source': './pdf/Retrieval-Augmented Generation for Knowledge-Intensive NLP Tasks.pdf',\n",
       "   'total_pages': 19,\n",
       "   'page': 10,\n",
       "   'page_label': '11'}),\n",
       " ('[20] Kelvin Guu, Kenton Lee, Zora Tung, Panupong Pasupat, and Ming-Wei Chang. REALM:\\nRetrieval-augme',\n",
       "  {'producer': 'pdfTeX-1.40.21',\n",
       "   'creator': 'LaTeX with hyperref',\n",
       "   'creationdate': '2021-04-13T00:48:38+00:00',\n",
       "   'author': '',\n",
       "   'keywords': '',\n",
       "   'moddate': '2021-04-13T00:48:38+00:00',\n",
       "   'ptex.fullbanner': 'This is pdfTeX, Version 3.14159265-2.6-1.40.21 (TeX Live 2020) kpathsea version 6.3.2',\n",
       "   'subject': '',\n",
       "   'title': '',\n",
       "   'trapped': '/False',\n",
       "   'source': './pdf/Retrieval-Augmented Generation for Knowledge-Intensive NLP Tasks.pdf',\n",
       "   'total_pages': 19,\n",
       "   'page': 11,\n",
       "   'page_label': '12'}),\n",
       " ('for Computational Linguistics, pages 6086–6096, Florence, Italy, July 2019. Association for\\nComputat',\n",
       "  {'producer': 'pdfTeX-1.40.21',\n",
       "   'creator': 'LaTeX with hyperref',\n",
       "   'creationdate': '2021-04-13T00:48:38+00:00',\n",
       "   'author': '',\n",
       "   'keywords': '',\n",
       "   'moddate': '2021-04-13T00:48:38+00:00',\n",
       "   'ptex.fullbanner': 'This is pdfTeX, Version 3.14159265-2.6-1.40.21 (TeX Live 2020) kpathsea version 6.3.2',\n",
       "   'subject': '',\n",
       "   'title': '',\n",
       "   'trapped': '/False',\n",
       "   'source': './pdf/Retrieval-Augmented Generation for Knowledge-Intensive NLP Tasks.pdf',\n",
       "   'total_pages': 19,\n",
       "   'page': 12,\n",
       "   'page_label': '13'}),\n",
       " ('and Li Deng. MS MARCO: A human generated machine reading comprehension dataset. In\\nTarek Richard Bes',\n",
       "  {'producer': 'pdfTeX-1.40.21',\n",
       "   'creator': 'LaTeX with hyperref',\n",
       "   'creationdate': '2021-04-13T00:48:38+00:00',\n",
       "   'author': '',\n",
       "   'keywords': '',\n",
       "   'moddate': '2021-04-13T00:48:38+00:00',\n",
       "   'ptex.fullbanner': 'This is pdfTeX, Version 3.14159265-2.6-1.40.21 (TeX Live 2020) kpathsea version 6.3.2',\n",
       "   'subject': '',\n",
       "   'title': '',\n",
       "   'trapped': '/False',\n",
       "   'source': './pdf/Retrieval-Augmented Generation for Knowledge-Intensive NLP Tasks.pdf',\n",
       "   'total_pages': 19,\n",
       "   'page': 12,\n",
       "   'page_label': '13'}),\n",
       " ('approaches 2016 co-located with the 30th Annual Conference on Neural Information Processing\\nSystems ',\n",
       "  {'producer': 'pdfTeX-1.40.21',\n",
       "   'creator': 'LaTeX with hyperref',\n",
       "   'creationdate': '2021-04-13T00:48:38+00:00',\n",
       "   'author': '',\n",
       "   'keywords': '',\n",
       "   'moddate': '2021-04-13T00:48:38+00:00',\n",
       "   'ptex.fullbanner': 'This is pdfTeX, Version 3.14159265-2.6-1.40.21 (TeX Live 2020) kpathsea version 6.3.2',\n",
       "   'subject': '',\n",
       "   'title': '',\n",
       "   'trapped': '/False',\n",
       "   'source': './pdf/Retrieval-Augmented Generation for Knowledge-Intensive NLP Tasks.pdf',\n",
       "   'total_pages': 19,\n",
       "   'page': 13,\n",
       "   'page_label': '14'}),\n",
       " ('[56] James Thorne, Andreas Vlachos, Christos Christodoulopoulos, and Arpit Mittal. FEVER: a\\nlarge-sc',\n",
       "  {'producer': 'pdfTeX-1.40.21',\n",
       "   'creator': 'LaTeX with hyperref',\n",
       "   'creationdate': '2021-04-13T00:48:38+00:00',\n",
       "   'author': '',\n",
       "   'keywords': '',\n",
       "   'moddate': '2021-04-13T00:48:38+00:00',\n",
       "   'ptex.fullbanner': 'This is pdfTeX, Version 3.14159265-2.6-1.40.21 (TeX Live 2020) kpathsea version 6.3.2',\n",
       "   'subject': '',\n",
       "   'title': '',\n",
       "   'trapped': '/False',\n",
       "   'source': './pdf/Retrieval-Augmented Generation for Knowledge-Intensive NLP Tasks.pdf',\n",
       "   'total_pages': 19,\n",
       "   'page': 14,\n",
       "   'page_label': '15'}),\n",
       " ('International Workshop on Search-Oriented Conversational AI, pages 87–92, Brussels, Belgium,\\nOctober',\n",
       "  {'producer': 'pdfTeX-1.40.21',\n",
       "   'creator': 'LaTeX with hyperref',\n",
       "   'creationdate': '2021-04-13T00:48:38+00:00',\n",
       "   'author': '',\n",
       "   'keywords': '',\n",
       "   'moddate': '2021-04-13T00:48:38+00:00',\n",
       "   'ptex.fullbanner': 'This is pdfTeX, Version 3.14159265-2.6-1.40.21 (TeX Live 2020) kpathsea version 6.3.2',\n",
       "   'subject': '',\n",
       "   'title': '',\n",
       "   'trapped': '/False',\n",
       "   'source': './pdf/Retrieval-Augmented Generation for Knowledge-Intensive NLP Tasks.pdf',\n",
       "   'total_pages': 19,\n",
       "   'page': 14,\n",
       "   'page_label': '15'}),\n",
       " ('[66] Thomas Wolf, Lysandre Debut, Victor Sanh, Julien Chaumond, Clement Delangue, Anthony\\nMoi, Pierr',\n",
       "  {'producer': 'pdfTeX-1.40.21',\n",
       "   'creator': 'LaTeX with hyperref',\n",
       "   'creationdate': '2021-04-13T00:48:38+00:00',\n",
       "   'author': '',\n",
       "   'keywords': '',\n",
       "   'moddate': '2021-04-13T00:48:38+00:00',\n",
       "   'ptex.fullbanner': 'This is pdfTeX, Version 3.14159265-2.6-1.40.21 (TeX Live 2020) kpathsea version 6.3.2',\n",
       "   'subject': '',\n",
       "   'title': '',\n",
       "   'trapped': '/False',\n",
       "   'source': './pdf/Retrieval-Augmented Generation for Knowledge-Intensive NLP Tasks.pdf',\n",
       "   'total_pages': 19,\n",
       "   'page': 15,\n",
       "   'page_label': '16'}),\n",
       " ('Appendices for Retrieval-Augmented Generation for\\nKnowledge-Intensive NLP Tasks\\nA Implementation Det',\n",
       "  {'producer': 'pdfTeX-1.40.21',\n",
       "   'creator': 'LaTeX with hyperref',\n",
       "   'creationdate': '2021-04-13T00:48:38+00:00',\n",
       "   'author': '',\n",
       "   'keywords': '',\n",
       "   'moddate': '2021-04-13T00:48:38+00:00',\n",
       "   'ptex.fullbanner': 'This is pdfTeX, Version 3.14159265-2.6-1.40.21 (TeX Live 2020) kpathsea version 6.3.2',\n",
       "   'subject': '',\n",
       "   'title': '',\n",
       "   'trapped': '/False',\n",
       "   'source': './pdf/Retrieval-Augmented Generation for Knowledge-Intensive NLP Tasks.pdf',\n",
       "   'total_pages': 19,\n",
       "   'page': 16,\n",
       "   'page_label': '17'}),\n",
       " ('D Further Details on Open-Domain QA\\nFor open-domain QA, multiple answer annotations are often availa',\n",
       "  {'producer': 'pdfTeX-1.40.21',\n",
       "   'creator': 'LaTeX with hyperref',\n",
       "   'creationdate': '2021-04-13T00:48:38+00:00',\n",
       "   'author': '',\n",
       "   'keywords': '',\n",
       "   'moddate': '2021-04-13T00:48:38+00:00',\n",
       "   'ptex.fullbanner': 'This is pdfTeX, Version 3.14159265-2.6-1.40.21 (TeX Live 2020) kpathsea version 6.3.2',\n",
       "   'subject': '',\n",
       "   'title': '',\n",
       "   'trapped': '/False',\n",
       "   'source': './pdf/Retrieval-Augmented Generation for Knowledge-Intensive NLP Tasks.pdf',\n",
       "   'total_pages': 19,\n",
       "   'page': 17,\n",
       "   'page_label': '18'}),\n",
       " ('documents for questions that are less likely to beneﬁt from retrieval, suggesting that null document',\n",
       "  {'producer': 'pdfTeX-1.40.21',\n",
       "   'creator': 'LaTeX with hyperref',\n",
       "   'creationdate': '2021-04-13T00:48:38+00:00',\n",
       "   'author': '',\n",
       "   'keywords': '',\n",
       "   'moddate': '2021-04-13T00:48:38+00:00',\n",
       "   'ptex.fullbanner': 'This is pdfTeX, Version 3.14159265-2.6-1.40.21 (TeX Live 2020) kpathsea version 6.3.2',\n",
       "   'subject': '',\n",
       "   'title': '',\n",
       "   'trapped': '/False',\n",
       "   'source': './pdf/Retrieval-Augmented Generation for Knowledge-Intensive NLP Tasks.pdf',\n",
       "   'total_pages': 19,\n",
       "   'page': 17,\n",
       "   'page_label': '18'}),\n",
       " ('Table 7: Number of instances in the datasets used. *A hidden subset of this data is used for evaluat',\n",
       "  {'producer': 'pdfTeX-1.40.21',\n",
       "   'creator': 'LaTeX with hyperref',\n",
       "   'creationdate': '2021-04-13T00:48:38+00:00',\n",
       "   'author': '',\n",
       "   'keywords': '',\n",
       "   'moddate': '2021-04-13T00:48:38+00:00',\n",
       "   'ptex.fullbanner': 'This is pdfTeX, Version 3.14159265-2.6-1.40.21 (TeX Live 2020) kpathsea version 6.3.2',\n",
       "   'subject': '',\n",
       "   'title': '',\n",
       "   'trapped': '/False',\n",
       "   'source': './pdf/Retrieval-Augmented Generation for Knowledge-Intensive NLP Tasks.pdf',\n",
       "   'total_pages': 19,\n",
       "   'page': 18,\n",
       "   'page_label': '19'})]"
      ]
     },
     "execution_count": 3,
     "metadata": {},
     "output_type": "execute_result"
    }
   ],
   "source": [
    "[(i.page_content[:100], i.metadata) for i in pages]"
   ]
  },
  {
   "cell_type": "code",
   "execution_count": 4,
   "id": "0440f457-d80d-4213-8105-a09ca394a4ff",
   "metadata": {
    "collapsed": true,
    "jupyter": {
     "outputs_hidden": true
    }
   },
   "outputs": [
    {
     "name": "stderr",
     "output_type": "stream",
     "text": [
      "USER_AGENT environment variable not set, consider setting it to identify your requests.\n",
      "/Users/hyeonjinho/.pyenv/versions/3.11.6/lib/python3.11/site-packages/urllib3/connectionpool.py:1099: InsecureRequestWarning: Unverified HTTPS request is being made to host 'www.espn.com'. Adding certificate verification is strongly advised. See: https://urllib3.readthedocs.io/en/latest/advanced-usage.html#tls-warnings\n",
      "  warnings.warn(\n"
     ]
    },
    {
     "data": {
      "text/plain": [
       "[Document(metadata={'source': 'https://www.espn.com/', 'title': 'ESPN - Serving Sports Fans. Anytime. Anywhere.', 'description': 'Visit ESPN for live scores, highlights and sports news. Stream exclusive games on ESPN+ and play fantasy sports.', 'language': 'en'}, page_content=\"\\n\\n\\n\\n\\n\\n\\n\\n\\nESPN - Serving Sports Fans. Anytime. Anywhere.\\n\\n\\n\\n\\n\\n\\n\\n\\n\\n\\n\\n\\n\\n\\n\\n\\n\\n\\n\\n\\n\\n\\n\\n\\n\\n\\n\\n\\n\\n\\n\\n\\n\\n\\n\\n\\n\\n\\n\\n\\n\\n\\n\\n\\n\\n\\n\\n\\n\\n\\n\\n\\n\\n\\n\\n\\n\\n\\n\\n\\n\\n\\n\\n\\n\\n\\n\\n\\n\\n\\n\\n\\n\\n\\n\\n\\n\\n\\n\\n\\n\\n\\n\\n\\n\\n\\n\\n\\n\\n\\n\\n\\n\\n        Skip to main content\\n    \\n\\n        Skip to navigation\\n    \\n\\n\\n\\n\\n\\n\\n\\n\\n\\n\\n\\n\\n\\n\\n\\n\\n\\n\\n\\n\\n\\n\\n\\n\\n\\n\\n\\n\\n\\n\\n\\n\\n\\n<\\n\\n>\\n\\n\\n\\n\\n\\n\\n\\n\\n\\nMenuESPN\\n\\n\\n\\n\\n\\nscores\\n\\n\\n\\nNFLNBANHLNCAAMNCAAWSoccerMLBMore SportsBoxingNCAACricketF1GamingGolfHorseLLWSMMANASCARNLLNBA G LeagueNBA Summer LeagueNCAAFNWSLOlympicsPLLProfessional WrestlingRacingRN BBRN FBRugbySports BettingTennisTGLUFLWNBAX GamesEditionsFantasyWatchESPN BETESPN+\\n\\n\\n\\n\\n\\n\\n\\n\\n\\n\\n\\n\\n\\n\\n\\n  \\n\\nSubscribe Now\\n\\n\\n\\n\\n\\nUFC 314: Volkanovski vs. Lopes (ESPN+ PPV)\\n\\n\\n\\n\\n\\n\\n\\nNHL\\n\\n\\n\\n\\n\\n\\n\\nLALIGA\\n\\n\\n\\n\\n\\n\\n\\nNCAA Baseball\\n\\n\\n\\n\\n\\n\\n\\nNCAA Softball\\n\\n\\nQuick Links\\n\\n\\n\\n\\nMen's NCAA Bracket\\n\\n\\n\\n\\n\\n\\n\\nMen's Tournament Challenge\\n\\n\\n\\n\\n\\n\\n\\nWNBA Draft\\n\\n\\n\\n\\n\\n\\n\\nNFL Free Agency\\n\\n\\n\\n\\n\\n\\n\\nNFL Draft\\n\\n\\n\\n\\n\\n\\n\\nMarch Madness History\\n\\n\\n\\n\\n\\n\\n\\nWhere To Watch\\n\\n\\n\\n\\n\\n\\n\\nMen's TC 2nd Chance\\n\\n\\n\\n\\n\\n\\n\\nToday's Top Odds\\n\\n\\n\\n\\n\\n\\n\\nESPN Radio: Listen Live\\n\\n\\n\\n\\n\\n\\nFavorites\\n\\n\\n\\n\\n\\n\\n      Manage Favorites\\n      \\n\\n\\n\\nCustomize ESPNCreate AccountLog InFantasy\\n\\n\\n\\n\\nFootball\\n\\n\\n\\n\\n\\n\\n\\nBaseball\\n\\n\\n\\n\\n\\n\\n\\nHockey\\n\\n\\n\\n\\n\\n\\n\\nMen's Basketball\\n\\n\\n\\n\\n\\n\\n\\nWomen's Basketball\\n\\n\\nESPN Sites\\n\\n\\n\\n\\nESPN Deportes\\n\\n\\n\\n\\n\\n\\n\\nAndscape\\n\\n\\n\\n\\n\\n\\n\\nespnW\\n\\n\\n\\n\\n\\n\\n\\nESPNFC\\n\\n\\n\\n\\n\\n\\n\\nX Games\\n\\n\\n\\n\\n\\n\\n\\nSEC Network\\n\\n\\nESPN Apps\\n\\n\\n\\n\\nESPN\\n\\n\\n\\n\\n\\n\\n\\nESPN Fantasy\\n\\n\\n\\n\\n\\n\\n\\nTournament Challenge\\n\\n\\nFollow ESPN\\n\\n\\n\\n\\nFacebook\\n\\n\\n\\n\\n\\n\\n\\nX/Twitter\\n\\n\\n\\n\\n\\n\\n\\nInstagram\\n\\n\\n\\n\\n\\n\\n\\nSnapchat\\n\\n\\n\\n\\n\\n\\n\\nTikTok\\n\\n\\n\\n\\n\\n\\n\\nYouTube\\n\\n\\nMen's Basketball Championship - National ChampionshipHouston fails to get a shot off in final seconds as Florida wins national championship7h0:21'We've got Walt': How Clayton Jr. willed Florida to a titleWhether he put up 34 points or 11, Clayton's presence for the Gators was key to their title hopes.7hMyron Medcalf\\n\\n\\n\\nWalter Clayton Jr. finishes through contact for Gators7h0:16\\n\\n\\nJa'Vier Francis elevates for massive poster dunk for Houston7h0:18\\n\\n\\nKelvin Sampson explains what went wrong for Houston on final play6h1:38\\n\\n\\nBilas breaks down how Florida overcame deficit vs. Houston6h2:14\\n\\n\\nGreenberg impressed by Florida's competitiveness in win7h2:04\\n\\n\\nJa'Vier Francis throws down massive putback jam for Houston7h0:16\\n\\n\\nHouston fans erupt after Mylik Wilson's alley-oop slam7h0:19\\n\\n\\n\\nHow Florida beat Houston to win the men's NCAA championship gameNBA stars lead reactions to Florida winning national championshipTOP HEADLINES'Winning time': Florida rallies once again for titleHouston stunned: 'That broke everybody's heart'House settlement inches closer to final approvalOhtani falls double shy of cycle in Dodgers' lossSmith, Carroll have 'unfinished business' in VegasJenkins sues NCAA for limiting pay while at NovaSources: Miami has discovery rights for De BruyneMan admits to selling $250K in fake memorabiliaNFL draft's best at 100 different traitsPEERING INTO THE FUTURE2025-26 men‚Äôs college basketball rankings: Way-too-early top 25Only 210 days until the 2025-26 season -- but Houston is already the favorite at the top.7hJeff BorzelloTrevor Ruszkowski-Imagn ImagesForecasting next season for Houston, Florida and every top tournament teamIt's time to look ahead to 2025-26 for the top NCAA tournament teams.7hJeff Borzello and Myron MedcalfAROUND THE ASSOCIATION28 Luka trades: What every NBA team could have offered the MavsWhat if every team had the chance to trade for Luka? Bobby Marks puts on his GM hat to concoct 28 blockbusters.23hBobby MarksAdam Pantozzi/NBAE via Getty ImagesWolves' late-season surge and Suns' next steps: What's at stake in the wild WestFrom the Suns' future to a potential Thunder-Nuggets showdown, here's what to watch in the West.23hNBA insidersUpdated NBA standingsNBA SCOREBOARD\\uf8ffüìÖ Complete scoreboard‚¨Ü‚¨á Standings‚úç NBA postseason trackerJAYS HOLD ON TO THEIR STARWinners, losers and who could get paid next after Vlad Jr.'s megadeal with Blue JaysToronto finally locked up the face of its franchise. Here's what the deal means for Vlad Jr., the Jays and MLB.1dJorge Castillo, +3 MoreThomas Skrlj/The Canadian Press via APMLB SCOREBOARD\\uf8ffüìÖ Complete scoreboardGET READY FOR MASTERS WEEK!STARTS THURSDAY ON ESPN & ESPN+Masters tiers: Ranking all 96 players from favourites to hopefulsCan Scottie Scheffler repeat? Is this finally Rory McIlroy's year? We break down the Masters field from the clear favourites all the way to the players just looking to make the cut.1dMark SchlabachIllustration by ESPNLatest betting odds: Scheffler, McIlroy favoredWho has won the Masters? An all-time listFull coverage of The MastersSTANLEY CUP PLAYOFF RACENHL playoff watch: The Rangers' path to the postseasonHere's what has to happen for New York to get to the playoffs. Plus, full bracket projections and more.23hESPN StaffBruce Bennett/Getty ImagesNHL SCOREBOARDSee All\\uf8ffüìÖ Complete scoreboard‚¨Ü‚¨á Standings Top Headlines'Winning time': Florida rallies once again for titleHouston stunned: 'That broke everybody's heart'House settlement inches closer to final approvalOhtani falls double shy of cycle in Dodgers' lossSmith, Carroll have 'unfinished business' in VegasJenkins sues NCAA for limiting pay while at NovaSources: Miami has discovery rights for De BruyneMan admits to selling $250K in fake memorabiliaNFL draft's best at 100 different traitsFavorites FantasyManage FavoritesFantasy HomeCustomize ESPNCreate AccountLog InICYMI0:28Rockets coach jaws at Steph heading into halftimeRockets coach Ime Udoka appears to exchange words with Steph Curry before heading into the locker room for halftime. Best of ESPN+Illustration by ESPN2025 NFL mock draft: Yates' pick predictions for Rounds 1-2Field Yates predicts landing spots in Rounds 1-2 of this year's NFL draft, including new homes for five quarterbacks and a few big trades.Joshua Gateley/Getty ImagesNBA Finals contenders' top weakness: Who can exploit them?Even the top NBA teams have a weakness. We look at which opponents could take advantage of that during the playoffs.Denis Poroy/Imagn ImagesMLB Rank 2025: Top snubs, surprises, overrated players, moreOur experts break down who should've made the list, which players will join the top five in years to come and more. Trending NowIllustration by ESPNThe Men's 2025 March Madness Pain IndexSome losses are understandable; others will haunt us forever. Let's rank the 2025 men's NCAA tournament defeats, from least to most devastating.ESPN30 years later: How UConn won its first NCAA title in 1995As the Huskies compete for their 12th national title, it's time to look back at their first, 30 years ago this week.Phil Ellsworth / ESPN Images2025 NFL draft: Shavon Revel went from warehouse job to top prospectAfter struggling at juco and working at Amazon, the ECU corner changed it all at a tryout camp on one hour's sleep. Sign up to play the #1 Fantasy game!Create A LeagueJoin Public LeagueReactivate A LeagueMock Draft NowSign up to play the #1 Fantasy Baseball GameReactivate A LeagueCreate A LeagueJoin a Public LeaguePractice With a Mock DraftSign up for FREE!Reactivate A LeagueCreate A LeagueJoin a Public LeaguePractice With a Mock DraftESPN+ on Disney+Mike Windle/Getty Images for ESPNHow to watch ESPN+ on Disney+: Frequently asked questionsESPN+ is available on Disney+. Check out how to watch NHL, MLB, Pat McAfee, 30 for 30s and other exciting events now. Get a custom ESPN experienceEnjoy the benefits of a personalized accountSelect your favorite leagues, teams and players and get the latest scores, news and updates that matter most to you. \\n\\nESPN+\\n\\n\\n\\n\\nUFC 314: Volkanovski vs. Lopes (ESPN+ PPV)\\n\\n\\n\\n\\n\\n\\n\\nNHL\\n\\n\\n\\n\\n\\n\\n\\nNCAA Softball\\n\\n\\nQuick Links\\n\\n\\n\\n\\nMen's NCAA Bracket\\n\\n\\n\\n\\n\\n\\n\\nMen's Tournament Challenge\\n\\n\\n\\n\\n\\n\\n\\nWNBA Draft\\n\\n\\n\\n\\n\\n\\n\\nNFL Free Agency\\n\\n\\n\\n\\n\\n\\n\\nNFL Draft\\n\\n\\n\\n\\n\\n\\n\\nMarch Madness History\\n\\n\\n\\n\\n\\n\\n\\nWhere To Watch\\n\\n\\n\\n\\n\\n\\n\\nMen's TC 2nd Chance\\n\\n\\n\\n\\n\\n\\n\\nToday's Top Odds\\n\\n\\n\\n\\n\\n\\n\\nESPN Radio: Listen Live\\n\\n\\nFantasy\\n\\n\\n\\n\\nFootball\\n\\n\\n\\n\\n\\n\\n\\nBaseball\\n\\n\\n\\n\\n\\n\\n\\nHockey\\n\\n\\n\\n\\n\\n\\n\\nMen's Basketball\\n\\n\\n\\n\\n\\n\\n\\nWomen's Basketball\\n\\n\\nESPN Sites\\n\\n\\n\\n\\nESPN Deportes\\n\\n\\n\\n\\n\\n\\n\\nAndscape\\n\\n\\n\\n\\n\\n\\n\\nespnW\\n\\n\\n\\n\\n\\n\\n\\nESPNFC\\n\\n\\n\\n\\n\\n\\n\\nX Games\\n\\n\\n\\n\\n\\n\\n\\nSEC Network\\n\\n\\nESPN Apps\\n\\n\\n\\n\\nESPN\\n\\n\\n\\n\\n\\n\\n\\nESPN Fantasy\\n\\n\\n\\n\\n\\n\\n\\nTournament Challenge\\n\\n\\nFollow ESPN\\n\\n\\n\\n\\nFacebook\\n\\n\\n\\n\\n\\n\\n\\nX/Twitter\\n\\n\\n\\n\\n\\n\\n\\nInstagram\\n\\n\\n\\n\\n\\n\\n\\nSnapchat\\n\\n\\n\\n\\n\\n\\n\\nTikTok\\n\\n\\n\\n\\n\\n\\n\\nYouTube\\n\\n\\nTerms of UsePrivacy PolicyInterest-Based Ads¬© ESPN Enterprises, Inc. All rights reserved.\\n\\n\\n\\n\\n\\n\\n\\n\\n\\n\\n\\n\\n\\n\\n\\n\\n\\n\")]"
      ]
     },
     "execution_count": 4,
     "metadata": {},
     "output_type": "execute_result"
    }
   ],
   "source": [
    "from langchain_community.document_loaders import WebBaseLoader\n",
    "#텍스트 추출할 URL 입력\n",
    "loader = WebBaseLoader(\"https://www.espn.com/\")\n",
    "#ssl verification 에러 방지를 위한 코드\n",
    "loader.requests_kwargs = {'verify':False}\n",
    "data = loader.load()\n",
    "data"
   ]
  },
  {
   "cell_type": "code",
   "execution_count": 5,
   "id": "c91c1c02-c9f9-46c9-8b11-1a51143ad97e",
   "metadata": {},
   "outputs": [
    {
     "name": "stderr",
     "output_type": "stream",
     "text": [
      "/Users/hyeonjinho/.pyenv/versions/3.11.6/lib/python3.11/site-packages/urllib3/connectionpool.py:1099: InsecureRequestWarning: Unverified HTTPS request is being made to host 'www.espn.com'. Adding certificate verification is strongly advised. See: https://urllib3.readthedocs.io/en/latest/advanced-usage.html#tls-warnings\n",
      "  warnings.warn(\n"
     ]
    },
    {
     "data": {
      "text/plain": [
       "[Document(metadata={'source': 'https://www.espn.com/'}, page_content=\"'Winning time': Florida rallies once again for titleHouston stunned: 'That broke everybody's heart'House settlement inches closer to final approvalOhtani falls double shy of cycle in Dodgers' lossSmith, Carroll have 'unfinished business' in VegasJenkins sues NCAA for limiting pay while at NovaSources: Miami has discovery rights for De BruyneMan admits to selling $250K in fake memorabiliaNFL draft's best at 100 different traits Top Headlines'Winning time': Florida rallies once again for titleHouston stunned: 'That broke everybody's heart'House settlement inches closer to final approvalOhtani falls double shy of cycle in Dodgers' lossSmith, Carroll have 'unfinished business' in VegasJenkins sues NCAA for limiting pay while at NovaSources: Miami has discovery rights for De BruyneMan admits to selling $250K in fake memorabiliaNFL draft's best at 100 different traits\")]"
      ]
     },
     "execution_count": 5,
     "metadata": {},
     "output_type": "execute_result"
    }
   ],
   "source": [
    "import bs4\n",
    "from langchain_community.document_loaders import WebBaseLoader\n",
    "#텍스트 추출할 URL 입력\n",
    "loader = WebBaseLoader(\"https://www.espn.com/\",\n",
    "                        bs_kwargs=dict(\n",
    "                            parse_only=bs4.SoupStrainer(\n",
    "                                class_=(\"headlineStack top-headlines\")\n",
    "                                                        )\n",
    "                                        )\n",
    "                      )\n",
    "#ssl verification 에러 방지를 위한 코드\n",
    "loader.requests_kwargs = {'verify':False}\n",
    "data = loader.load()\n",
    "data"
   ]
  },
  {
   "cell_type": "markdown",
   "id": "5415a3d1-2305-45a5-b569-038a0051a815",
   "metadata": {},
   "source": [
    "### **Text Splitter로 문서 분할하기**"
   ]
  },
  {
   "cell_type": "code",
   "execution_count": 7,
   "id": "fe197688-b348-4e5f-b814-4e59def032de",
   "metadata": {},
   "outputs": [
    {
     "name": "stdout",
     "output_type": "stream",
     "text": [
      "page_content='AutoGen: Enabling Next-Gen LLM\n",
      "Applications via Multi-Agent Conversation\n",
      "Qingyun Wu†, Gagan Bansal∗, Jieyu Zhang±, Yiran Wu†, Beibin Li∗\n",
      "Erkang Zhu∗, Li Jiang∗, Xiaoyun Zhang∗, Shaokun Zhang†, Jiale Liu∓\n",
      "Ahmed Awadallah∗, Ryen W. White∗, Doug Burger∗, Chi Wang∗1\n",
      "∗Microsoft Research, †Pennsylvania State University\n",
      "±University of Washington,∓Xidian University\n",
      "Agent Customization\n",
      "Conversable agent\n",
      "Flexible Conversation Patterns\n",
      "…\n",
      " …\n",
      "…\n",
      "…\n",
      "…\n",
      "…\n",
      " …\n",
      "Hierarchical chatJoint chat\n",
      "Multi-Agent Conversations\n",
      "… Execute the following code…\n",
      "Got it! Here is the revised code …\n",
      "No, please plot % change!\n",
      "Plot a chart of META and TESLA stock price change YTD.\n",
      " Output:$Month\n",
      "Output:%Month\n",
      "Error package yfinanceis not installed\n",
      "Sorry! Please first pip install yfinanceand then execute the code\n",
      "Installing…\n",
      "Example Agent Chat\n",
      "Figure 1: AutoGen enables diverse LLM-based applications using multi-agent conversations. (Left)\n",
      "AutoGen agents are conversable, customizable, and can be based on LLMs, tools, humans, or even\n",
      "a combination of them. (Top-middle) Agents can converse to solve tasks. (Right) They can form\n",
      "a chat, potentially with humans in the loop. (Bottom-middle) The framework supports flexible\n",
      "conversation patterns.\n",
      "Abstract\n",
      "AutoGen2 is an open-source framework that allows developers to build LLM ap-\n",
      "plications via multiple agents that can converse with each other to accomplish\n",
      "tasks. AutoGen agents are customizable, conversable, and can operate in vari-\n",
      "ous modes that employ combinations of LLMs, human inputs, and tools. Using\n",
      "AutoGen, developers can also flexibly define agent interaction behaviors. Both\n",
      "natural language and computer code can be used to program flexible conversation\n",
      "patterns for different applications. AutoGen serves as a generic framework for\n",
      "building diverse applications of various complexities and LLM capacities. Em-\n",
      "pirical studies demonstrate the effectiveness of the framework in many example\n",
      "applications, with domains ranging from mathematics, coding, question answer-\n",
      "ing, operations research, online decision-making, entertainment, etc.\n",
      "1Corresponding author. Email: auto-gen@outlook.com\n",
      "2https://github.com/microsoft/autogen\n",
      "arXiv:2308.08155v2  [cs.AI]  3 Oct 2023' metadata={'producer': 'pdfTeX-1.40.25', 'creator': 'LaTeX with hyperref', 'creationdate': '2023-10-05T00:07:56+00:00', 'author': '', 'keywords': '', 'moddate': '2023-10-05T00:07:56+00:00', 'ptex.fullbanner': 'This is pdfTeX, Version 3.141592653-2.6-1.40.25 (TeX Live 2023) kpathsea version 6.3.5', 'subject': '', 'title': '', 'trapped': '/False', 'source': './pdf/autogen_paper.pdf', 'total_pages': 43, 'page': 0, 'page_label': '1'}\n"
     ]
    }
   ],
   "source": [
    "#PyPDFium2Loader로 PDF 문서 로드하기\n",
    "from langchain_community.document_loaders import PyPDFLoader\n",
    "loader = PyPDFLoader(r\"./pdf/autogen_paper.pdf\")\n",
    "pages = loader.load()\n",
    "\n",
    "#CharacterTextSplitter 모듈 로드\n",
    "from langchain_text_splitters import CharacterTextSplitter\n",
    "\n",
    "#구분자: 줄넘김, 청크 길이: 500, 청크 오버랩: 100, length_function: 글자수\n",
    "text_splitter = CharacterTextSplitter(\n",
    "    # separator=\"\\n\",\n",
    "    chunk_size=500,\n",
    "    chunk_overlap=100,\n",
    "    length_function=len\n",
    ")\n",
    "#텍스트 분할\n",
    "texts = text_splitter.split_documents(pages)\n",
    "print(texts[0])"
   ]
  },
  {
   "cell_type": "code",
   "execution_count": 8,
   "id": "c1448c97-1935-4309-902f-57b4e4511ce2",
   "metadata": {},
   "outputs": [
    {
     "name": "stdout",
     "output_type": "stream",
     "text": [
      "[2201, 5185, 4423, 3640, 5008, 3522, 3122, 4733, 4610, 4178, 3287, 3324, 2055, 4702, 1733, 4653, 4617, 3405, 3302, 3473, 4284, 4309, 4217, 3837, 4851, 3410, 3994, 2408, 245, 3383, 3410, 4310, 3140, 1705, 2180, 6131, 4213, 3946, 1944, 3621, 4615, 1756, 4859]\n"
     ]
    }
   ],
   "source": [
    "print([len(i.page_content) for i in texts])"
   ]
  },
  {
   "cell_type": "code",
   "execution_count": 10,
   "id": "edfd55bf-16a7-4862-a8a0-db4afeba8882",
   "metadata": {},
   "outputs": [
    {
     "name": "stdout",
     "output_type": "stream",
     "text": [
      "[498, 477, 487, 476, 463, 198, 405, 404, 491, 491, 483, 497, 489, 446, 476, 475, 454, 463, 467, 190, 475, 470, 443, 443, 483, 479, 482, 462, 482, 433, 424, 227, 399, 428, 440, 405, 455, 418, 490, 472, 497, 55, 445, 464, 481, 474, 489, 473, 463, 465, 463, 470, 480, 498, 368, 492, 452, 435, 469, 482, 469, 433, 447, 489, 76, 499, 479, 472, 472, 482, 483, 483, 415, 484, 481, 483, 493, 484, 493, 481, 493, 472, 476, 463, 244, 408, 482, 488, 456, 477, 493, 490, 449, 487, 473, 489, 480, 495, 428, 465, 467, 453, 487, 486, 473, 456, 472, 172, 411, 462, 474, 449, 473, 443, 427, 466, 213, 461, 456, 481, 482, 473, 461, 458, 451, 202, 494, 430, 440, 484, 473, 498, 464, 454, 455, 469, 419, 454, 466, 450, 475, 466, 475, 177, 406, 499, 480, 490, 149, 407, 480, 471, 426, 452, 482, 417, 448, 463, 414, 476, 424, 280, 455, 472, 473, 462, 471, 471, 486, 475, 477, 458, 487, 358, 44, 494, 491, 495, 497, 499, 102, 492, 490, 380, 437, 469, 491, 495, 477, 449, 494, 418, 201, 480, 480, 418, 478, 467, 455, 488, 479, 480, 463, 464, 495, 420, 401, 450, 475, 480, 496, 453, 479, 449, 448, 442, 474, 453, 471, 411, 457, 488, 423, 485, 295, 61, 499, 491, 270, 58, 499, 188, 475, 485, 440, 482, 487, 255, 435, 483, 493, 459, 491, 446, 488, 493, 437, 376, 451, 483, 475, 470, 493, 418, 477, 496, 477, 468, 454, 441, 464, 442, 473, 412, 422, 481, 411, 483, 427, 452, 448, 485, 434, 403, 460, 426, 478, 493, 410, 246, 498, 451, 490, 493, 487, 274, 245, 493, 481, 496, 483, 486, 482, 443, 482, 204, 348, 463, 411, 318, 278, 281, 497, 475, 439, 157, 179, 488, 181, 428, 435, 482, 441, 400, 489, 445, 485, 483, 180, 421, 414, 491, 479, 446, 482, 465, 376, 469, 498, 479, 442, 489, 455, 434, 449, 497, 287, 480, 464, 408, 449, 496, 406, 460, 425, 365, 488, 402, 462, 384, 411, 484, 253, 443, 498, 480, 453, 497, 468, 481, 377, 491, 465, 398, 459, 425, 425, 463, 496, 461, 431, 492, 325, 425, 489, 472, 428, 441, 474, 497, 488, 472, 493, 484, 453, 498, 334, 415, 446, 473, 393, 476, 497, 481, 470, 408, 427, 498, 495, 494, 497, 490, 102, 492, 494, 464, 485, 446, 489, 413, 478, 468, 450, 412, 400]\n"
     ]
    }
   ],
   "source": [
    "from langchain_community.document_loaders import PyPDFium2Loader\n",
    "\n",
    "loader = PyPDFLoader(r\"./pdf/autogen_paper.pdf\")\n",
    "\n",
    "pages = loader.load()\n",
    "\n",
    "from langchain_text_splitters import RecursiveCharacterTextSplitter\n",
    "\n",
    "text_splitter = RecursiveCharacterTextSplitter (\n",
    "    chunk_size=500,\n",
    "    chunk_overlap=100,\n",
    "    length_function=len,\n",
    "    is_separator_regex=False,\n",
    ")\n",
    "\n",
    "texts = text_splitter.split_documents(pages)\n",
    "print([len(i.page_content) for i in texts])"
   ]
  },
  {
   "cell_type": "markdown",
   "id": "3d96c094-acfc-4e7f-8778-23d569f1075e",
   "metadata": {},
   "source": [
    "### **임베딩 모델로 텍스트를 수치화하기**"
   ]
  },
  {
   "cell_type": "code",
   "execution_count": 11,
   "id": "14eca539-920f-4198-ba42-47e187033402",
   "metadata": {},
   "outputs": [
    {
     "data": {
      "text/plain": [
       "(5, 1536)"
      ]
     },
     "execution_count": 11,
     "metadata": {},
     "output_type": "execute_result"
    }
   ],
   "source": [
    "import os\n",
    "from langchain_openai import OpenAIEmbeddings\n",
    "\n",
    "embeddings_model = OpenAIEmbeddings(model = 'text-embedding-3-small')\n",
    "embeddings = embeddings_model.embed_documents(\n",
    "    [\n",
    "        \"Hi there!\",\n",
    "        \"Oh, hello!\",\n",
    "        \"What's your name?\",\n",
    "        \"My friends call me World\",\n",
    "        \"Hello World!\"\n",
    "    ]\n",
    ")\n",
    "len(embeddings), len(embeddings[0])"
   ]
  },
  {
   "cell_type": "code",
   "execution_count": 12,
   "id": "e6cdd9a2-5cfe-43a3-9156-d6a79eb53b90",
   "metadata": {},
   "outputs": [
    {
     "name": "stdout",
     "output_type": "stream",
     "text": [
      "[-0.019144710153341293, -0.03818102926015854, -0.03100006841123104, -0.004633751232177019, -0.035362839698791504, -0.004027434624731541, 0.012959600426256657, 0.05102546140551567, -0.005832836497575045, -0.037259697914123535]\n",
      "--------------------------------------------------\n",
      "임베딩 개수: len(embeddings) \n",
      "임베딩 차원: len(embeddings[0])\n"
     ]
    }
   ],
   "source": [
    "print(embeddings[0][:10])\n",
    "print(\"-\"*50)\n",
    "print(f\"임베딩 개수: len(embeddings) \\n임베딩 차원: len(embeddings[0])\")"
   ]
  },
  {
   "cell_type": "code",
   "execution_count": 14,
   "id": "646b3e02-2613-4304-834d-b2b42beccf81",
   "metadata": {},
   "outputs": [
    {
     "data": {
      "text/plain": [
       "(415, 1536)"
      ]
     },
     "execution_count": 14,
     "metadata": {},
     "output_type": "execute_result"
    }
   ],
   "source": [
    "from langchain_openai import OpenAIEmbeddings\n",
    "from langchain_community.document_loaders import PyPDFLoader\n",
    "from langchain_text_splitters import RecursiveCharacterTextSplitter\n",
    "\n",
    "#임베딩 모델 API 호출\n",
    "embeddings_model = OpenAIEmbeddings(model = 'text-embedding-3-small')\n",
    "\n",
    "#PDF 문서 로드\n",
    "loader = PyPDFLoader(r\"./pdf/autogen_paper.pdf\")\n",
    "pages = loader.load()\n",
    "\n",
    "#PDF 문서를 여러 청크로 분할\n",
    "text_splitter = RecursiveCharacterTextSplitter(\n",
    "    chunk_size=500,\n",
    "    chunk_overlap=100\n",
    ")\n",
    "\n",
    "texts = text_splitter.split_documents(pages)\n",
    "\n",
    "#OpenAI 임베딩 모델로 청크들을 임베딩 변환하기\n",
    "embeddings = embeddings_model.embed_documents([i.page_content for i in texts])\n",
    "len(embeddings), len(embeddings[0])"
   ]
  },
  {
   "cell_type": "markdown",
   "id": "f492bdbd-39a1-41c7-9e1a-44d0dbf5595c",
   "metadata": {},
   "source": [
    "### **벡터 스토어에 저장**"
   ]
  },
  {
   "cell_type": "code",
   "execution_count": null,
   "id": "44084f8b-f232-4444-9d6a-6d2631c8d1c6",
   "metadata": {},
   "outputs": [],
   "source": [
    "# !pip install faiss-cpu"
   ]
  },
  {
   "cell_type": "code",
   "execution_count": 15,
   "id": "1292ab3e-2dca-408a-bde6-812602b1e785",
   "metadata": {},
   "outputs": [],
   "source": [
    "from langchain.vectorstores import FAISS\n",
    "\n",
    "db = FAISS.from_documents(texts, embeddings_model)"
   ]
  },
  {
   "cell_type": "code",
   "execution_count": 16,
   "id": "13cf3fd5-4e0e-4a16-af95-2565dc402a6f",
   "metadata": {},
   "outputs": [
    {
     "data": {
      "text/plain": [
       "[Document(id='9c67d9ba-b26a-4e4a-b064-e3ce731632d4', metadata={'producer': 'pdfTeX-1.40.25', 'creator': 'LaTeX with hyperref', 'creationdate': '2023-10-05T00:07:56+00:00', 'author': '', 'keywords': '', 'moddate': '2023-10-05T00:07:56+00:00', 'ptex.fullbanner': 'This is pdfTeX, Version 3.141592653-2.6-1.40.25 (TeX Live 2023) kpathsea version 6.3.5', 'subject': '', 'title': '', 'trapped': '/False', 'source': './pdf/autogen_paper.pdf', 'total_pages': 43, 'page': 8, 'page_label': '9'}, page_content='applications. AutoGen serves as a general framework for creating and experimenting with multi-\\nagent systems that can easily fulfill various practical requirements, such as reusing, customizing,\\nand extending existing agents, as well as programming conversations between them.\\nOur experiments, as detailed in Section 3, demonstrate that this approach offers numerous benefits.\\nThe adoption of AutoGen has resulted in improved performance (over state-of-the-art approaches),'),\n",
       " Document(id='0ffac167-f1ea-4776-8184-43186c1ecccc', metadata={'producer': 'pdfTeX-1.40.25', 'creator': 'LaTeX with hyperref', 'creationdate': '2023-10-05T00:07:56+00:00', 'author': '', 'keywords': '', 'moddate': '2023-10-05T00:07:56+00:00', 'ptex.fullbanner': 'This is pdfTeX, Version 3.141592653-2.6-1.40.25 (TeX Live 2023) kpathsea version 6.3.5', 'subject': '', 'title': '', 'trapped': '/False', 'source': './pdf/autogen_paper.pdf', 'total_pages': 43, 'page': 16, 'page_label': '17'}, page_content='AutoGen supports could be desirable in many scenarios, a high level of autonomy can also pose\\npotential risks, especially in high-risk applications (Amodei et al., 2016; Weld & Etzioni, 1994). As\\na result, building fail-safes against cascading failures and exploitation, mitigating reward hacking,\\nout of control and undesired behaviors, maintaining effective human oversight of applications built\\nwith AutoGen agents will become important. While AutoGen provides convenient and seamless'),\n",
       " Document(id='4e65178c-b1c0-4dbf-9a21-ea9645ef47e6', metadata={'producer': 'pdfTeX-1.40.25', 'creator': 'LaTeX with hyperref', 'creationdate': '2023-10-05T00:07:56+00:00', 'author': '', 'keywords': '', 'moddate': '2023-10-05T00:07:56+00:00', 'ptex.fullbanner': 'This is pdfTeX, Version 3.141592653-2.6-1.40.25 (TeX Live 2023) kpathsea version 6.3.5', 'subject': '', 'title': '', 'trapped': '/False', 'source': './pdf/autogen_paper.pdf', 'total_pages': 43, 'page': 1, 'page_label': '2'}, page_content='behaviors. AutoGen provides ready-to-use implementations and also allows easy extension and\\nexperimentation for both steps. (Section 2.2)\\n3We refer to Appendix A for a detailed discussion.\\n2'),\n",
       " Document(id='b5dd13f1-592e-4a3a-9a9e-94638a96f42f', metadata={'producer': 'pdfTeX-1.40.25', 'creator': 'LaTeX with hyperref', 'creationdate': '2023-10-05T00:07:56+00:00', 'author': '', 'keywords': '', 'moddate': '2023-10-05T00:07:56+00:00', 'ptex.fullbanner': 'This is pdfTeX, Version 3.141592653-2.6-1.40.25 (TeX Live 2023) kpathsea version 6.3.5', 'subject': '', 'title': '', 'trapped': '/False', 'source': './pdf/autogen_paper.pdf', 'total_pages': 43, 'page': 8, 'page_label': '9'}, page_content='The adoption of AutoGen has resulted in improved performance (over state-of-the-art approaches),\\nreduced development code, and decreased manual burden for existing applications. It offers flex-\\nibility to developers, as demonstrated in A1 (scenario 3), A5, and A6, where AutoGen enables\\nmulti-agent chats to follow a dynamic pattern rather than fixed back-and-forth interactions. It allows\\nhumans to engage in activities alongside multiple AI agents in a conversational manner. Despite the')]"
      ]
     },
     "execution_count": 16,
     "metadata": {},
     "output_type": "execute_result"
    }
   ],
   "source": [
    "retriever = db.as_retriever()\n",
    "\n",
    "query = \"What is autogen\"\n",
    "#유사 문서 검색\n",
    "retriever.invoke(query)"
   ]
  },
  {
   "cell_type": "code",
   "execution_count": 18,
   "id": "bd6a367d-24eb-432d-91d6-f907e58cb053",
   "metadata": {},
   "outputs": [
    {
     "name": "stderr",
     "output_type": "stream",
     "text": [
      "/Users/hyeonjinho/.pyenv/versions/3.11.6/lib/python3.11/site-packages/langsmith/client.py:278: LangSmithMissingAPIKeyWarning: API key must be provided when using hosted LangSmith API\n",
      "  warnings.warn(\n"
     ]
    },
    {
     "data": {
      "text/plain": [
       "'AutoGen is a framework designed for creating and experimenting with multi-agent systems, allowing for the reuse, customization, and extension of existing agents. It facilitates programming interactions between agents and offers ready-to-use implementations while promoting modularity. The framework aims to improve performance in various applications, though it also raises concerns about autonomy and safety in high-risk scenarios.'"
      ]
     },
     "execution_count": 18,
     "metadata": {},
     "output_type": "execute_result"
    }
   ],
   "source": [
    "from langchain import hub\n",
    "from langchain_core.output_parsers import StrOutputParser\n",
    "from langchain_core.runnables import RunnablePassthrough\n",
    "\n",
    "from langchain_openai import ChatOpenAI\n",
    "\n",
    "model = ChatOpenAI(model=\"gpt-4o-mini\")\n",
    "prompt = hub.pull(\"rlm/rag-prompt\")\n",
    "\n",
    "def format_docs(docs):\n",
    "    return \"\\n\\n\".join(doc.page_content for doc in docs)\n",
    "\n",
    "rag_chain = (\n",
    "    {\"context\": retriever | format_docs, \"question\": RunnablePassthrough()}\n",
    "    | prompt\n",
    "    | model\n",
    "    | StrOutputParser()\n",
    ")\n",
    "\n",
    "rag_chain.invoke(\"what is autogen?\")"
   ]
  }
 ],
 "metadata": {
  "kernelspec": {
   "display_name": "Python 3 (ipykernel)",
   "language": "python",
   "name": "python3"
  },
  "language_info": {
   "codemirror_mode": {
    "name": "ipython",
    "version": 3
   },
   "file_extension": ".py",
   "mimetype": "text/x-python",
   "name": "python",
   "nbconvert_exporter": "python",
   "pygments_lexer": "ipython3",
   "version": "3.11.6"
  }
 },
 "nbformat": 4,
 "nbformat_minor": 5
}
