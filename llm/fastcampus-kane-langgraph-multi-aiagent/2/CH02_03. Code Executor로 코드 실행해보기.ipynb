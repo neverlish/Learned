{
 "cells": [
  {
   "cell_type": "code",
   "execution_count": 1,
   "id": "3c6cf6c5-188a-4b13-94b4-8e0cc4a2304d",
   "metadata": {},
   "outputs": [],
   "source": [
    "import os\n",
    "import warnings\n",
    "warnings.filterwarnings('ignore')"
   ]
  },
  {
   "cell_type": "code",
   "execution_count": 2,
   "id": "4f57a513-d6af-4cc1-b1a2-32dbbe3a06a7",
   "metadata": {},
   "outputs": [],
   "source": [
    "import autogen\n",
    "from autogen.coding import LocalCommandLineCodeExecutor\n",
    "\n",
    "\n",
    "config_list = [{\"model\": \"gpt-4o-mini\", \"api_key\": os.environ[\"OPENAI_API_KEY\"]}]"
   ]
  },
  {
   "cell_type": "code",
   "execution_count": 3,
   "id": "3c8e1b8f-188a-429d-9587-fd5de4f56170",
   "metadata": {},
   "outputs": [
    {
     "name": "stdout",
     "output_type": "stream",
     "text": [
      "\u001b[33muser_proxy\u001b[0m (to assistant):\n",
      "\n",
      "100까지 소수가 어떤 것이 있는지 코드로 살펴봐주세요.\n",
      "\n",
      "--------------------------------------------------------------------------------\n",
      "\u001b[33massistant\u001b[0m (to user_proxy):\n",
      "\n",
      "소수를 찾기 위해 1부터 100까지의 숫자를 검사하는 파이썬 코드를 작성하겠습니다. 이 코드는 소수를 판별하는 함수를 사용하여 100 이하의 모든 소수를 출력할 것입니다.\n",
      "\n",
      "아래 코드를 실행해 주세요.\n",
      "\n",
      "```python\n",
      "# filename: find_primes.py\n",
      "def is_prime(n):\n",
      "    if n <= 1:\n",
      "        return False\n",
      "    for i in range(2, int(n**0.5) + 1):\n",
      "        if n % i == 0:\n",
      "            return False\n",
      "    return True\n",
      "\n",
      "primes = [num for num in range(1, 101) if is_prime(num)]\n",
      "print(primes)\n",
      "```\n",
      "\n",
      "코드를 실행한 후 결과를 확인해 주세요.\n",
      "\n",
      "--------------------------------------------------------------------------------\n",
      "\u001b[31m\n",
      ">>>>>>>> EXECUTING CODE BLOCK (inferred language is python)...\u001b[0m\n",
      "\u001b[33muser_proxy\u001b[0m (to assistant):\n",
      "\n",
      "exitcode: 0 (execution succeeded)\n",
      "Code output: [2, 3, 5, 7, 11, 13, 17, 19, 23, 29, 31, 37, 41, 43, 47, 53, 59, 61, 67, 71, 73, 79, 83, 89, 97]\n",
      "\n",
      "\n",
      "--------------------------------------------------------------------------------\n",
      "\u001b[33massistant\u001b[0m (to user_proxy):\n",
      "\n",
      "100 이하의 소수는 다음과 같습니다:\n",
      "\n",
      "\\[2, 3, 5, 7, 11, 13, 17, 19, 23, 29, 31, 37, 41, 43, 47, 53, 59, 61, 67, 71, 73, 79, 83, 89, 97\\]\n",
      "\n",
      "모든 작업이 완료되었습니다. \n",
      "\n",
      "TERMINATE\n",
      "\n",
      "--------------------------------------------------------------------------------\n",
      "\u001b[31m\n",
      ">>>>>>>> TERMINATING RUN (939ca067-d48c-4abe-be40-702ce6fc841b): Termination message condition on agent 'user_proxy' met\u001b[0m\n"
     ]
    }
   ],
   "source": [
    "assistant = autogen.AssistantAgent(\n",
    "    name=\"assistant\",\n",
    "    llm_config={\n",
    "        \"config_list\": config_list,  \n",
    "        \"temperature\": 0,  \n",
    "    }, \n",
    ")\n",
    "\n",
    "user_proxy = autogen.UserProxyAgent(\n",
    "    name=\"user_proxy\",\n",
    "    max_consecutive_auto_reply=10,\n",
    "    is_termination_msg=lambda x: x.get(\"content\", \"\").rstrip().endswith(\"TERMINATE\"),\n",
    "    code_execution_config={\n",
    "        # the executor to run the generated code\n",
    "        \"executor\": LocalCommandLineCodeExecutor(work_dir=\"coding\"),\n",
    "    },\n",
    "    human_input_mode=\"NEVER\",\n",
    ")\n",
    "\n",
    "chat_res = user_proxy.initiate_chat(\n",
    "    assistant,\n",
    "    message=\"\"\"100까지 소수가 어떤 것이 있는지 코드로 살펴봐주세요.\"\"\",\n",
    "    summary_method=\"reflection_with_llm\",\n",
    ")"
   ]
  },
  {
   "cell_type": "code",
   "execution_count": 4,
   "id": "bfd316ca-d3cb-4824-b297-7d855721a7fe",
   "metadata": {},
   "outputs": [
    {
     "name": "stdout",
     "output_type": "stream",
     "text": [
      "Chat history: [{'content': '100까지 소수가 어떤 것이 있는지 코드로 살펴봐주세요.', 'role': 'assistant', 'name': 'user_proxy'}, {'content': '소수를 찾기 위해 1부터 100까지의 숫자를 검사하는 파이썬 코드를 작성하겠습니다. 이 코드는 소수를 판별하는 함수를 사용하여 100 이하의 모든 소수를 출력할 것입니다.\\n\\n아래 코드를 실행해 주세요.\\n\\n```python\\n# filename: find_primes.py\\ndef is_prime(n):\\n    if n <= 1:\\n        return False\\n    for i in range(2, int(n**0.5) + 1):\\n        if n % i == 0:\\n            return False\\n    return True\\n\\nprimes = [num for num in range(1, 101) if is_prime(num)]\\nprint(primes)\\n```\\n\\n코드를 실행한 후 결과를 확인해 주세요.', 'role': 'user', 'name': 'assistant'}, {'content': 'exitcode: 0 (execution succeeded)\\nCode output: [2, 3, 5, 7, 11, 13, 17, 19, 23, 29, 31, 37, 41, 43, 47, 53, 59, 61, 67, 71, 73, 79, 83, 89, 97]\\n', 'role': 'assistant', 'name': 'user_proxy'}, {'content': '100 이하의 소수는 다음과 같습니다:\\n\\n\\\\[2, 3, 5, 7, 11, 13, 17, 19, 23, 29, 31, 37, 41, 43, 47, 53, 59, 61, 67, 71, 73, 79, 83, 89, 97\\\\]\\n\\n모든 작업이 완료되었습니다. \\n\\nTERMINATE', 'role': 'user', 'name': 'assistant'}]\n",
      "--------------------------------------------------\n",
      "Summary: 100 이하의 소수 목록은 2, 3, 5, 7, 11, 13, 17, 19, 23, 29, 31, 37, 41, 43, 47, 53, 59, 61, 67, 71, 73, 79, 83, 89, 97이다.\n",
      "--------------------------------------------------\n",
      "Cost info: {'usage_including_cached_inference': {'total_cost': 0.00044715, 'gpt-4o-mini-2024-07-18': {'cost': 0.00044715, 'prompt_tokens': 1621, 'completion_tokens': 340, 'total_tokens': 1961}}, 'usage_excluding_cached_inference': {'total_cost': 0.00044715, 'gpt-4o-mini-2024-07-18': {'cost': 0.00044715, 'prompt_tokens': 1621, 'completion_tokens': 340, 'total_tokens': 1961}}}\n"
     ]
    }
   ],
   "source": [
    "print(\"Chat history:\", chat_res.chat_history)\n",
    "print(\"-\"*50)\n",
    "print(\"Summary:\", chat_res.summary)\n",
    "print(\"-\"*50)\n",
    "print(\"Cost info:\", chat_res.cost)"
   ]
  },
  {
   "cell_type": "code",
   "execution_count": 5,
   "id": "ef4e47e7-9f3e-401c-91ea-4968ffc8186a",
   "metadata": {},
   "outputs": [
    {
     "name": "stdout",
     "output_type": "stream",
     "text": [
      "\u001b[33muser_proxy\u001b[0m (to assistant):\n",
      "\n",
      "예시 영어 문장을 만들고, 키워드를 추출하세요\n",
      "\n",
      "--------------------------------------------------------------------------------\n",
      "\u001b[33massistant\u001b[0m (to user_proxy):\n",
      "\n",
      "예시 영어 문장을 만들고, 그 문장에서 키워드를 추출하는 파이썬 코드를 작성하겠습니다. 이 코드는 간단한 텍스트 처리 방법을 사용하여 키워드를 추출할 것입니다.\n",
      "\n",
      "아래 코드를 실행해 주세요.\n",
      "\n",
      "```python\n",
      "# filename: extract_keywords.py\n",
      "import re\n",
      "from collections import Counter\n",
      "\n",
      "# 예시 문장\n",
      "text = \"Artificial intelligence is transforming the world by enabling machines to learn from data.\"\n",
      "\n",
      "# 단어 추출 및 소문자 변환\n",
      "words = re.findall(r'\\b\\w+\\b', text.lower())\n",
      "\n",
      "# 키워드 추출 (가장 많이 등장하는 단어 5개)\n",
      "keywords = Counter(words).most_common(5)\n",
      "\n",
      "print(keywords)\n",
      "```\n",
      "\n",
      "코드를 실행한 후 결과를 확인해 주세요.\n",
      "\n",
      "--------------------------------------------------------------------------------\n",
      "\u001b[31m\n",
      ">>>>>>>> EXECUTING CODE BLOCK (inferred language is python)...\u001b[0m\n",
      "\u001b[33muser_proxy\u001b[0m (to assistant):\n",
      "\n",
      "exitcode: 0 (execution succeeded)\n",
      "Code output: [('artificial', 1), ('intelligence', 1), ('is', 1), ('transforming', 1), ('the', 1)]\n",
      "\n",
      "\n",
      "--------------------------------------------------------------------------------\n",
      "\u001b[33massistant\u001b[0m (to user_proxy):\n",
      "\n",
      "추출된 키워드는 다음과 같습니다:\n",
      "\n",
      "1. 'artificial' (1회 등장)\n",
      "2. 'intelligence' (1회 등장)\n",
      "3. 'is' (1회 등장)\n",
      "4. 'transforming' (1회 등장)\n",
      "5. 'the' (1회 등장)\n",
      "\n",
      "모든 작업이 완료되었습니다.\n",
      "\n",
      "TERMINATE\n",
      "\n",
      "--------------------------------------------------------------------------------\n",
      "\u001b[31m\n",
      ">>>>>>>> TERMINATING RUN (76360257-1144-4a70-adc8-8f1d385702b8): Termination message condition on agent 'user_proxy' met\u001b[0m\n"
     ]
    }
   ],
   "source": [
    "# followup of the previous question\n",
    "user_proxy.send(\n",
    "    recipient=assistant,\n",
    "    message=\"\"\"예시 영어 문장을 만들고, 키워드를 추출하세요\"\"\")"
   ]
  }
 ],
 "metadata": {
  "kernelspec": {
   "display_name": "Python 3 (ipykernel)",
   "language": "python",
   "name": "python3"
  },
  "language_info": {
   "codemirror_mode": {
    "name": "ipython",
    "version": 3
   },
   "file_extension": ".py",
   "mimetype": "text/x-python",
   "name": "python",
   "nbconvert_exporter": "python",
   "pygments_lexer": "ipython3",
   "version": "3.11.6"
  }
 },
 "nbformat": 4,
 "nbformat_minor": 5
}
