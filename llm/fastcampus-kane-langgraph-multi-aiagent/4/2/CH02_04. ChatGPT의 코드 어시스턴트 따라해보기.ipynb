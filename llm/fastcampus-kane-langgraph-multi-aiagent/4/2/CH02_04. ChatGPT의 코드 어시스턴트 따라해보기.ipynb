{
 "cells": [
  {
   "cell_type": "markdown",
   "id": "c1da7695-66d1-4a3f-9559-560c82650ab7",
   "metadata": {},
   "source": [
    "### **API 키 설정**"
   ]
  },
  {
   "cell_type": "code",
   "execution_count": null,
   "id": "74a69d7e-ba5c-4103-a64e-b5825c3881b0",
   "metadata": {},
   "outputs": [],
   "source": [
    "from dotenv import load_dotenv\n",
    "load_dotenv()"
   ]
  },
  {
   "cell_type": "markdown",
   "id": "c33e0f0d-f927-42a6-933b-70bdd03ce396",
   "metadata": {},
   "source": [
    "### **필요 라이브러리 호출**"
   ]
  },
  {
   "cell_type": "code",
   "execution_count": 1,
   "id": "3e1dd081-f727-4c2d-bbd5-7308f139ffe0",
   "metadata": {},
   "outputs": [],
   "source": [
    "from datetime import datetime\n",
    "from typing import Annotated, TypedDict\n",
    "from pydantic import BaseModel, Field\n",
    "\n",
    "from langchain_core.messages import SystemMessage\n",
    "from langchain_openai import ChatOpenAI\n",
    "from langchain_core.tools import tool\n",
    "from langchain_core.prompts import ChatPromptTemplate, SystemMessagePromptTemplate, HumanMessagePromptTemplate\n",
    "\n",
    "from openai import OpenAI\n",
    "\n",
    "from langchain_experimental.utilities import PythonREPL\n",
    "from langchain_community.tools.tavily_search import TavilySearchResults\n",
    "\n",
    "from langgraph.graph import StateGraph, START, END\n",
    "from langgraph.graph.message import add_messages\n",
    "from langgraph.prebuilt import ToolNode, tools_condition"
   ]
  },
  {
   "cell_type": "markdown",
   "id": "8b478fab-aa95-4006-a234-114bad69b297",
   "metadata": {},
   "source": [
    "### **이미지 생성 도구 정의**"
   ]
  },
  {
   "cell_type": "code",
   "execution_count": 2,
   "id": "d07ecc9c-bca9-407d-9507-5701a1845f0a",
   "metadata": {},
   "outputs": [],
   "source": [
    "client = OpenAI()\n",
    "\n",
    "# DALL-E 이미지 생성을 위한 스키마 정의\n",
    "class GenImageSchema(BaseModel):\n",
    "    prompt: str = Field(description=\"The prompt for image generation\")\n",
    "\n",
    "# DALL-E 이미지 생성 함수 정의\n",
    "@tool(args_schema=GenImageSchema)\n",
    "def generate_image(prompt: str) -> str:\n",
    "    \"\"\"\n",
    "    Generate an image using DALL-E based on the given prompt.\n",
    "    \"\"\"\n",
    "    response = client.images.generate(\n",
    "        model=\"dall-e-3\",\n",
    "        prompt=prompt,\n",
    "        size=\"1024x1024\",\n",
    "        quality=\"standard\",\n",
    "        n=1\n",
    "    )\n",
    "    return response.data[0].url"
   ]
  },
  {
   "cell_type": "markdown",
   "id": "b23b87fc-0151-41dc-9062-4fb03f7e01de",
   "metadata": {},
   "source": [
    "### **코드 실행 도구 정의**"
   ]
  },
  {
   "cell_type": "code",
   "execution_count": 3,
   "id": "859b17b9-2316-4b25-9fcb-f123704beb63",
   "metadata": {},
   "outputs": [],
   "source": [
    "repl = PythonREPL()\n",
    "\n",
    "@tool\n",
    "def python_repl(\n",
    "    code: Annotated[str, \"The python code to execute to generate your chart.\"],\n",
    "):\n",
    "    \"\"\"Use this to execute python code.\n",
    "    This is visible to the user. Please use ploly to visualize.\"\"\"\n",
    "    try:\n",
    "        result = repl.run(code)\n",
    "    except BaseException as e:\n",
    "        return f\"Failed to execute. Error: {repr(e)}\"\n",
    "    result_str = f\"Successfully executed:\\n```python\\n{code}\\n```\\nStdout: {result}\"\n",
    "    return result_str"
   ]
  },
  {
   "cell_type": "markdown",
   "id": "ca2cbde8-11ab-4ae9-b526-88d5a5f76cd0",
   "metadata": {},
   "source": [
    "### **에이전트 정의**"
   ]
  },
  {
   "cell_type": "code",
   "execution_count": 7,
   "id": "10c18cb8-670c-4669-b65c-ca92e287df79",
   "metadata": {},
   "outputs": [],
   "source": [
    "llm = ChatOpenAI(\n",
    "    model=\"gpt-4o\",\n",
    "    temperature=0\n",
    ")\n",
    "\n",
    "system_prompt = f\"\"\"\n",
    "Today is {datetime.now().strftime(\"%Y-%m-%d\")}\n",
    "You are a helpful AI Assistant that can use web search tool(tavily ai api), image generation tool(DallE API) and code execution tool(Python REPL).\n",
    "You should always answer in same language as user's ask.\n",
    "When user ask about the information that you can't answer, you can call the search tool.\n",
    "When user ask about generating image, you can call the generate_image tool.\n",
    "When user ask about Data analysis, data visualization or code execution image, you can call the python repl tool.\n",
    "\"\"\"\n",
    "\n",
    "prompt = ChatPromptTemplate.from_messages([\n",
    "    SystemMessagePromptTemplate.from_template(system_prompt),\n",
    "    HumanMessagePromptTemplate.from_template(\"{input}\")\n",
    "])\n",
    "\n",
    "search = TavilySearchResults(max_results=5)\n",
    "\n",
    "tools = [search, generate_image, python_repl]\n",
    "llm_with_tools = llm.bind_tools(tools)\n",
    "\n",
    "chain = prompt | llm_with_tools"
   ]
  },
  {
   "cell_type": "code",
   "execution_count": 8,
   "id": "f37deef9-edba-4ee2-aa42-7091421af8fe",
   "metadata": {},
   "outputs": [
    {
     "name": "stdout",
     "output_type": "stream",
     "text": [
      "content='' additional_kwargs={'tool_calls': [{'id': 'call_I2ETKVc99FQd5AhQp8Xb21HT', 'function': {'arguments': '{\"query\":\"대한민국 GDP 추이 2025\"}', 'name': 'tavily_search_results_json'}, 'type': 'function'}], 'refusal': None} response_metadata={'token_usage': {'completion_tokens': 26, 'prompt_tokens': 282, 'total_tokens': 308, 'completion_tokens_details': {'accepted_prediction_tokens': 0, 'audio_tokens': 0, 'reasoning_tokens': 0, 'rejected_prediction_tokens': 0}, 'prompt_tokens_details': {'audio_tokens': 0, 'cached_tokens': 0}}, 'model_name': 'gpt-4o-2024-08-06', 'system_fingerprint': 'fp_432e014d75', 'id': 'chatcmpl-BLA7uDhII7M44jUfZnyNwax0AOgOC', 'finish_reason': 'tool_calls', 'logprobs': None} id='run-095c4c0e-7442-4935-9a61-46841a6b4304-0' tool_calls=[{'name': 'tavily_search_results_json', 'args': {'query': '대한민국 GDP 추이 2025'}, 'id': 'call_I2ETKVc99FQd5AhQp8Xb21HT', 'type': 'tool_call'}] usage_metadata={'input_tokens': 282, 'output_tokens': 26, 'total_tokens': 308, 'input_token_details': {'audio': 0, 'cache_read': 0}, 'output_token_details': {'audio': 0, 'reasoning': 0}}\n"
     ]
    }
   ],
   "source": [
    "result = chain.invoke(\"대한민국 GDP 추이를 그래프로 그려줘\")\n",
    "print(result)"
   ]
  },
  {
   "cell_type": "code",
   "execution_count": 9,
   "id": "58e7aa7b-b515-48c2-91f6-783c30842f13",
   "metadata": {},
   "outputs": [
    {
     "data": {
      "text/plain": [
       "[{'id': 'call_I2ETKVc99FQd5AhQp8Xb21HT',\n",
       "  'function': {'arguments': '{\"query\":\"대한민국 GDP 추이 2025\"}',\n",
       "   'name': 'tavily_search_results_json'},\n",
       "  'type': 'function'}]"
      ]
     },
     "execution_count": 9,
     "metadata": {},
     "output_type": "execute_result"
    }
   ],
   "source": [
    "result.additional_kwargs['tool_calls']"
   ]
  },
  {
   "cell_type": "markdown",
   "id": "49ed2826-e4d5-4742-845a-c61325e583a3",
   "metadata": {},
   "source": [
    "### **그래프 구축**"
   ]
  },
  {
   "cell_type": "code",
   "execution_count": 10,
   "id": "de96dacd-7112-4d69-ae4b-f7b0e4008a1e",
   "metadata": {},
   "outputs": [],
   "source": [
    "from typing import Annotated, TypedDict\n",
    "from langgraph.graph.message import add_messages\n",
    "from langgraph.graph import StateGraph, START, END\n",
    "from langgraph.prebuilt import ToolNode, tools_condition\n",
    "\n",
    "class State(TypedDict):\n",
    "    messages: Annotated[list, add_messages]\n",
    "\n",
    "def chatbot(state: State):\n",
    "    return {\"messages\": [chain.invoke(state[\"messages\"])]}\n",
    "\n",
    "graph_builder = StateGraph(State)\n",
    "\n",
    "graph_builder.add_node(\"chatbot\", chatbot)\n",
    "\n",
    "# 도구 노드 추가\n",
    "tool_node = ToolNode(tools=tools)\n",
    "graph_builder.add_node(\"tools\", tool_node)\n",
    "\n",
    "# 조건부 엣지 추가\n",
    "graph_builder.add_conditional_edges(\n",
    "    \"chatbot\",\n",
    "    tools_condition,\n",
    ")\n",
    "\n",
    "# 도구 호출 후 채팅봇으로 돌아가는 엣지 추가\n",
    "graph_builder.add_edge(\"tools\", \"chatbot\")\n",
    "\n",
    "# 시작점 설정\n",
    "graph_builder.add_edge(START, \"chatbot\")\n",
    "\n",
    "# 그래프 컴파일\n",
    "graph = graph_builder.compile()"
   ]
  },
  {
   "cell_type": "code",
   "execution_count": 11,
   "id": "e3c9565d-ae85-4954-8047-a5dae787765a",
   "metadata": {},
   "outputs": [
    {
     "name": "stdout",
     "output_type": "stream",
     "text": [
      "================================\u001b[1m Human Message \u001b[0m=================================\n",
      "\n",
      "hello\n",
      "==================================\u001b[1m Ai Message \u001b[0m==================================\n",
      "\n",
      "Hello! How can I assist you today?\n"
     ]
    }
   ],
   "source": [
    "# The config is the **second positional argument** to stream() or invoke()!\n",
    "config = {\"configurable\": {\"thread_id\": \"1\"}}\n",
    "\n",
    "events = graph.stream(\n",
    "    {\"messages\": [(\"user\", input(\"User: \"))]}, config, stream_mode=\"values\"\n",
    ")\n",
    "\n",
    "for event in events:\n",
    "    event[\"messages\"][-1].pretty_print()"
   ]
  },
  {
   "cell_type": "code",
   "execution_count": null,
   "id": "a4f6f913-5a23-4c7b-8ab0-cc4ae531b600",
   "metadata": {},
   "outputs": [],
   "source": []
  }
 ],
 "metadata": {
  "kernelspec": {
   "display_name": "Python 3",
   "language": "python",
   "name": "python3"
  },
  "language_info": {
   "codemirror_mode": {
    "name": "ipython",
    "version": 3
   },
   "file_extension": ".py",
   "mimetype": "text/x-python",
   "name": "python",
   "nbconvert_exporter": "python",
   "pygments_lexer": "ipython3",
   "version": "3.11.6"
  }
 },
 "nbformat": 4,
 "nbformat_minor": 5
}
