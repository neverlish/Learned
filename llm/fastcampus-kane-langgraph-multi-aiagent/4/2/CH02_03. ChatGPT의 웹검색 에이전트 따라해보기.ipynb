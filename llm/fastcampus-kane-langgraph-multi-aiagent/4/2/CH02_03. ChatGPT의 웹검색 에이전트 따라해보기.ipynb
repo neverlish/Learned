{
 "cells": [
  {
   "cell_type": "code",
   "execution_count": null,
   "id": "58f7837e-2f72-40d0-a28c-5a0fca0c7bae",
   "metadata": {},
   "outputs": [],
   "source": [
    "from dotenv import load_dotenv\n",
    "load_dotenv()"
   ]
  },
  {
   "cell_type": "markdown",
   "id": "9f2d28e3-8a95-4662-b713-9a75888c658f",
   "metadata": {},
   "source": [
    "### **System message를 통한 더 나은 챗봇 구축**"
   ]
  },
  {
   "cell_type": "code",
   "execution_count": 1,
   "id": "a0d8977c-4acb-4897-9ea8-541f462c547b",
   "metadata": {},
   "outputs": [
    {
     "name": "stdout",
     "output_type": "stream",
     "text": [
      "content='' additional_kwargs={'tool_calls': [{'id': 'call_RpbEj13SN68fIHuqaEOGyJN3', 'function': {'arguments': '{\"query\":\"대한민국 축구 국가대표팀 2025 명단\"}', 'name': 'tavily_search_results_json'}, 'type': 'function'}], 'refusal': None} response_metadata={'token_usage': {'completion_tokens': 30, 'prompt_tokens': 232, 'total_tokens': 262, 'completion_tokens_details': {'accepted_prediction_tokens': 0, 'audio_tokens': 0, 'reasoning_tokens': 0, 'rejected_prediction_tokens': 0}, 'prompt_tokens_details': {'audio_tokens': 0, 'cached_tokens': 0}}, 'model_name': 'gpt-4o-mini-2024-07-18', 'system_fingerprint': 'fp_44added55e', 'id': 'chatcmpl-BL7y02FrZ7atPch66OdJd5IHNT2FM', 'finish_reason': 'tool_calls', 'logprobs': None} id='run-be829a5e-1210-43e5-881e-e706139f9ab3-0' tool_calls=[{'name': 'tavily_search_results_json', 'args': {'query': '대한민국 축구 국가대표팀 2025 명단'}, 'id': 'call_RpbEj13SN68fIHuqaEOGyJN3', 'type': 'tool_call'}] usage_metadata={'input_tokens': 232, 'output_tokens': 30, 'total_tokens': 262, 'input_token_details': {'audio': 0, 'cache_read': 0}, 'output_token_details': {'audio': 0, 'reasoning': 0}}\n"
     ]
    }
   ],
   "source": [
    "from langchain_core.tools import tool\n",
    "from langchain_openai import ChatOpenAI\n",
    "from langchain_core.prompts import ChatPromptTemplate, SystemMessagePromptTemplate, HumanMessagePromptTemplate\n",
    "from datetime import datetime\n",
    "from langchain_community.tools.tavily_search import TavilySearchResults\n",
    "\n",
    "system_prompt = f\"\"\"\n",
    "You are a helpful AI Assistant that can use web search tool(tavily ai api).\n",
    "You should always answer in same language as user's ask.\n",
    "When use ask about the information that you can't answer, you should call the web search tool.\n",
    "\n",
    "web search tool is useful when:\n",
    "- real-time info\n",
    "- local specialized info\n",
    "- metric related info\n",
    "\n",
    "you should use web search tool with the guideline below:\n",
    "- Extract the user query's intent and rephrase the prompt into appropriate search query\n",
    "- web search tool(Tavily AI API) can deal with sentence query. \n",
    "you don't need to limit your querying ability to generating keyword only query.\n",
    "- Today is {datetime.now().strftime(\"%Y-%m-%d\")}\n",
    "\"\"\"\n",
    "\n",
    "prompt = ChatPromptTemplate.from_messages([\n",
    "    SystemMessagePromptTemplate.from_template(system_prompt),\n",
    "    HumanMessagePromptTemplate.from_template(\"{input}\")\n",
    "])\n",
    "\n",
    "\n",
    "# LLM 초기화 시 시스템 프롬프트 설정\n",
    "llm = ChatOpenAI(\n",
    "    model=\"gpt-4o-mini\",\n",
    "    temperature=0\n",
    ")\n",
    "\n",
    "search = TavilySearchResults(max_results=5)\n",
    "\n",
    "tools = [search]\n",
    "llm_with_tools = llm.bind_tools(tools)\n",
    "\n",
    "# 프롬프트 체인 생성\n",
    "chain = prompt | llm_with_tools\n",
    "\n",
    "result = chain.invoke({\"input\": \"대한민국 축구국가대표팀 명단 알려줘\"})\n",
    "print(result)"
   ]
  },
  {
   "cell_type": "code",
   "execution_count": 2,
   "id": "0efca36f-a76e-4d28-ad87-4a79c1050d22",
   "metadata": {},
   "outputs": [
    {
     "name": "stdout",
     "output_type": "stream",
     "text": [
      "{'tool_calls': [{'id': 'call_RpbEj13SN68fIHuqaEOGyJN3', 'function': {'arguments': '{\"query\":\"대한민국 축구 국가대표팀 2025 명단\"}', 'name': 'tavily_search_results_json'}, 'type': 'function'}], 'refusal': None}\n"
     ]
    }
   ],
   "source": [
    "print(result.additional_kwargs)"
   ]
  },
  {
   "cell_type": "code",
   "execution_count": 3,
   "id": "f7eb9869-268b-4172-94e0-cf3a672c7263",
   "metadata": {},
   "outputs": [],
   "source": [
    "from typing import Annotated, TypedDict\n",
    "from langgraph.graph.message import add_messages\n",
    "from langgraph.graph import StateGraph, START, END\n",
    "from langgraph.prebuilt import ToolNode, tools_condition\n",
    "\n",
    "class State(TypedDict):\n",
    "    messages: Annotated[list, add_messages]\n",
    "\n",
    "def chatbot(state: State):\n",
    "    return {\"messages\": [chain.invoke(state[\"messages\"])]}\n",
    "\n",
    "graph_builder = StateGraph(State)\n",
    "\n",
    "graph_builder.add_node(\"chatbot\", chatbot)\n",
    "\n",
    "# 도구 노드 추가\n",
    "tool_node = ToolNode(tools=tools)\n",
    "graph_builder.add_node(\"tools\", tool_node)\n",
    "\n",
    "# 조건부 엣지 추가\n",
    "graph_builder.add_conditional_edges(\n",
    "    \"chatbot\",\n",
    "    tools_condition,\n",
    ")\n",
    "\n",
    "# 도구 호출 후 채팅봇으로 돌아가는 엣지 추가\n",
    "graph_builder.add_edge(\"tools\", \"chatbot\")\n",
    "\n",
    "# 시작점 설정\n",
    "graph_builder.add_edge(START, \"chatbot\")\n",
    "\n",
    "# 그래프 컴파일\n",
    "graph = graph_builder.compile()"
   ]
  },
  {
   "cell_type": "code",
   "execution_count": 4,
   "id": "e63fd899-1ddb-4384-ab79-eeb3acbab852",
   "metadata": {
    "execution": {
     "iopub.execute_input": "2024-10-27T15:34:43.248496Z",
     "iopub.status.busy": "2024-10-27T15:34:43.248496Z",
     "iopub.status.idle": "2024-10-27T15:34:43.674753Z",
     "shell.execute_reply": "2024-10-27T15:34:43.674753Z",
     "shell.execute_reply.started": "2024-10-27T15:34:43.248496Z"
    }
   },
   "outputs": [
    {
     "data": {
      "image/png": "[encoded data removed]",
      "text/plain": [
       "<IPython.core.display.Image object>"
      ]
     },
     "metadata": {},
     "output_type": "display_data"
    }
   ],
   "source": [
    "from IPython.display import Image, display\n",
    "\n",
    "display(Image(graph.get_graph().draw_mermaid_png()))"
   ]
  },
  {
   "cell_type": "code",
   "execution_count": 5,
   "id": "30a7c240-7e3d-4687-9999-184853049d8f",
   "metadata": {
    "execution": {
     "iopub.execute_input": "2024-10-27T15:34:52.003448Z",
     "iopub.status.busy": "2024-10-27T15:34:52.002440Z",
     "iopub.status.idle": "2024-10-27T15:35:09.541657Z",
     "shell.execute_reply": "2024-10-27T15:35:09.540647Z",
     "shell.execute_reply.started": "2024-10-27T15:34:52.003448Z"
    }
   },
   "outputs": [
    {
     "name": "stdout",
     "output_type": "stream",
     "text": [
      "================================\u001b[1m Human Message \u001b[0m=================================\n",
      "\n",
      "hello\n",
      "==================================\u001b[1m Ai Message \u001b[0m==================================\n",
      "\n",
      "Hello! How can I assist you today?\n"
     ]
    }
   ],
   "source": [
    "# The config is the **second positional argument** to stream() or invoke()!\n",
    "config = {\"configurable\": {\"thread_id\": \"1\"}}\n",
    "\n",
    "events = graph.stream(\n",
    "    {\"messages\": [(\"user\", input(\"User: \"))]}, config, stream_mode=\"values\"\n",
    ")\n",
    "for event in events:\n",
    "    event[\"messages\"][-1].pretty_print()"
   ]
  },
  {
   "cell_type": "markdown",
   "id": "7621dbf6-4d24-45c2-a1a7-139da268492f",
   "metadata": {},
   "source": [
    "### **Custom tool 설정을 통한 도구 통제성 향상**"
   ]
  },
  {
   "cell_type": "code",
   "execution_count": 8,
   "id": "b510b559-e47b-4467-a065-835bf63f0ee7",
   "metadata": {},
   "outputs": [
    {
     "data": {
      "text/plain": [
       "False"
      ]
     },
     "execution_count": 8,
     "metadata": {},
     "output_type": "execute_result"
    }
   ],
   "source": [
    "from dotenv import load_dotenv\n",
    "load_dotenv()"
   ]
  },
  {
   "cell_type": "code",
   "execution_count": 10,
   "id": "1e26abc5-07c2-4ec2-a6c5-6f8b48e017c8",
   "metadata": {
    "execution": {
     "iopub.execute_input": "2024-10-27T15:41:10.437416Z",
     "iopub.status.busy": "2024-10-27T15:41:10.437416Z",
     "iopub.status.idle": "2024-10-27T15:41:10.447300Z",
     "shell.execute_reply": "2024-10-27T15:41:10.446294Z",
     "shell.execute_reply.started": "2024-10-27T15:41:10.437416Z"
    }
   },
   "outputs": [],
   "source": [
    "from langchain_core.tools import tool\n",
    "from tavily import TavilyClient\n",
    "\n",
    "@tool\n",
    "def search_news(keyword: str) -> str:\n",
    "    \"\"\"Collect recent news for the given query. \"\"\"\n",
    "    tavily_client = TavilyClient(api_key=os.environ['TAVILY_API_KEY'])\n",
    "    search_results = tavily_client.search(query=keyword, topic=\"news\", days = 30)\n",
    "    return search_results"
   ]
  },
  {
   "cell_type": "code",
   "execution_count": 11,
   "id": "f06bd8f5-87e5-48be-b832-e919824aeb2d",
   "metadata": {
    "execution": {
     "iopub.execute_input": "2024-10-27T15:41:24.123079Z",
     "iopub.status.busy": "2024-10-27T15:41:24.123079Z",
     "iopub.status.idle": "2024-10-27T15:41:24.572955Z",
     "shell.execute_reply": "2024-10-27T15:41:24.572955Z",
     "shell.execute_reply.started": "2024-10-27T15:41:24.123079Z"
    }
   },
   "outputs": [],
   "source": [
    "# LLM 초기화 시 시스템 프롬프트 설정\n",
    "llm = ChatOpenAI(\n",
    "    model=\"gpt-4o-mini\",\n",
    "    temperature=0,\n",
    ")\n",
    "\n",
    "tools = [search_news]\n",
    "llm_with_tools = llm.bind_tools(tools)"
   ]
  },
  {
   "cell_type": "code",
   "execution_count": 12,
   "id": "32483ea3-5c1d-4c01-b118-485f0acd6bc2",
   "metadata": {
    "execution": {
     "iopub.execute_input": "2024-10-27T15:41:28.385947Z",
     "iopub.status.busy": "2024-10-27T15:41:28.384948Z",
     "iopub.status.idle": "2024-10-27T15:41:28.394729Z",
     "shell.execute_reply": "2024-10-27T15:41:28.393721Z",
     "shell.execute_reply.started": "2024-10-27T15:41:28.385947Z"
    }
   },
   "outputs": [],
   "source": [
    "class State(TypedDict):\n",
    "    messages: Annotated[list, add_messages]\n",
    "\n",
    "def chatbot(state: State):\n",
    "    return {\"messages\": [llm_with_tools.invoke(state[\"messages\"])]}\n",
    "\n",
    "graph_builder = StateGraph(State)\n",
    "\n",
    "graph_builder.add_node(\"chatbot\", chatbot)\n",
    "\n",
    "# 도구 노드 추가\n",
    "tool_node = ToolNode(tools=tools)\n",
    "graph_builder.add_node(\"tools\", tool_node)\n",
    "\n",
    "# 조건부 엣지 추가\n",
    "graph_builder.add_conditional_edges(\n",
    "    \"chatbot\",\n",
    "    tools_condition,\n",
    ")\n",
    "\n",
    "# 도구 호출 후 채팅봇으로 돌아가는 엣지 추가\n",
    "graph_builder.add_edge(\"tools\", \"chatbot\")\n",
    "\n",
    "# 시작점 설정\n",
    "graph_builder.add_edge(START, \"chatbot\")\n",
    "\n",
    "# 그래프 컴파일\n",
    "graph = graph_builder.compile()"
   ]
  },
  {
   "cell_type": "code",
   "execution_count": 13,
   "id": "a64f0227-5dd7-4baf-b709-cb13cddb5c7e",
   "metadata": {
    "execution": {
     "iopub.execute_input": "2024-10-27T15:41:30.830003Z",
     "iopub.status.busy": "2024-10-27T15:41:30.830003Z",
     "iopub.status.idle": "2024-10-27T15:41:58.749465Z",
     "shell.execute_reply": "2024-10-27T15:41:58.748452Z",
     "shell.execute_reply.started": "2024-10-27T15:41:30.830003Z"
    }
   },
   "outputs": [
    {
     "name": "stdout",
     "output_type": "stream",
     "text": [
      "================================\u001b[1m Human Message \u001b[0m=================================\n",
      "\n",
      "hello\n",
      "==================================\u001b[1m Ai Message \u001b[0m==================================\n",
      "\n",
      "Hello! How can I assist you today?\n"
     ]
    }
   ],
   "source": [
    "# The config is the **second positional argument** to stream() or invoke()!\n",
    "events = graph.stream(\n",
    "    {\"messages\": [(\"user\", input(\"User: \"))]}, config, stream_mode=\"values\"\n",
    ")\n",
    "for event in events:\n",
    "    event[\"messages\"][-1].pretty_print()"
   ]
  },
  {
   "cell_type": "code",
   "execution_count": null,
   "id": "e27416f6-f058-4ad5-8ecc-d6a39b42a4fa",
   "metadata": {},
   "outputs": [],
   "source": []
  }
 ],
 "metadata": {
  "kernelspec": {
   "display_name": "Python 3",
   "language": "python",
   "name": "python3"
  },
  "language_info": {
   "codemirror_mode": {
    "name": "ipython",
    "version": 3
   },
   "file_extension": ".py",
   "mimetype": "text/x-python",
   "name": "python",
   "nbconvert_exporter": "python",
   "pygments_lexer": "ipython3",
   "version": "3.11.6"
  }
 },
 "nbformat": 4,
 "nbformat_minor": 5
}
