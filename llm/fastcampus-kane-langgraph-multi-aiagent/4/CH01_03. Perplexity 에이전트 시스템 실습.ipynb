{
 "cells": [
  {
   "cell_type": "code",
   "execution_count": null,
   "id": "1eb222a5-81a6-44cd-a4f7-0dd0a88f169e",
   "metadata": {},
   "outputs": [],
   "source": [
    "!pip install youtube-transcript-api"
   ]
  },
  {
   "cell_type": "code",
   "execution_count": null,
   "id": "1b75f08d-f26e-42b2-9dd0-e902dcca9fa7",
   "metadata": {},
   "outputs": [],
   "source": [
    "import warnings\n",
    "warnings.filterwarnings('ignore')"
   ]
  },
  {
   "cell_type": "markdown",
   "id": "68a9ad0c-532b-423c-be67-45ab3065d383",
   "metadata": {},
   "source": [
    "#### **API 키 설정**"
   ]
  },
  {
   "cell_type": "code",
   "execution_count": 1,
   "id": "106c0e65-f83f-4f59-8ba9-e92743d66042",
   "metadata": {},
   "outputs": [],
   "source": [
    "import os\n",
    "\n",
    "os.environ['OPENAI_API_KEY'] = \"YOUR_OPENAI_API_KEY\"\n",
    "os.environ['TAVILY_API_KEY'] = \"YOUR_TAVILY_API_KEY\"\n",
    "os.environ[\"WOLFRAM_ALPHA_APPID\"] = \"WOLFRAM_ALPHA_APPID\""
   ]
  },
  {
   "cell_type": "markdown",
   "id": "1a6e8b11-a0da-4d5b-aa2d-0fa637ae84b8",
   "metadata": {},
   "source": [
    "#### **WolframAlpha API 활용을 위한 비동기 설정**"
   ]
  },
  {
   "cell_type": "code",
   "execution_count": 2,
   "id": "f2d4842c-85f6-4526-a62c-5731e0f5dbcf",
   "metadata": {},
   "outputs": [],
   "source": [
    "import asyncio\n",
    "asyncio.set_event_loop_policy(asyncio.DefaultEventLoopPolicy())\n",
    "\n",
    "import nest_asyncio\n",
    "nest_asyncio.apply()"
   ]
  },
  {
   "cell_type": "code",
   "execution_count": 3,
   "id": "490f6b3f-d393-4624-bf7f-d9eb4a529116",
   "metadata": {},
   "outputs": [],
   "source": [
    "from langchain_community.utilities.wolfram_alpha import WolframAlphaAPIWrapper\n",
    "wolfram = WolframAlphaAPIWrapper()"
   ]
  },
  {
   "cell_type": "markdown",
   "id": "e3df7bdd-3d2a-4fed-9b29-16642f54184c",
   "metadata": {},
   "source": [
    "#### **focus 키 값을 포함한 State 설정**"
   ]
  },
  {
   "cell_type": "code",
   "execution_count": 4,
   "id": "16395dc7-aa9e-43fa-bf0b-8cc5189fb0c0",
   "metadata": {},
   "outputs": [],
   "source": [
    "from typing import Annotated, Literal\n",
    "from typing_extensions import TypedDict\n",
    "from langgraph.graph.message import add_messages\n",
    "\n",
    "class State(TypedDict):\n",
    "    messages: Annotated[list, add_messages]\n",
    "    focus: Literal[\"web\", \"academic\", \"video, math\"]"
   ]
  },
  {
   "cell_type": "markdown",
   "id": "ba3ae2f1-20b4-4298-982b-cfb1dfd60ae2",
   "metadata": {},
   "source": [
    "#### **웹 검색, 논문 검색, 수학 계산 도구 정의** "
   ]
  },
  {
   "cell_type": "code",
   "execution_count": 5,
   "id": "37af1adf-61db-48f2-9477-b97cfb91cc07",
   "metadata": {},
   "outputs": [],
   "source": [
    "from langchain_community.tools.tavily_search import TavilySearchResults\n",
    "from langchain_community.utilities import ArxivAPIWrapper\n",
    "from langchain_community.tools import YouTubeSearchTool\n",
    "from langchain_core.tools import tool\n",
    "from langgraph.prebuilt import ToolNode\n",
    "from langchain_community.utilities.wolfram_alpha import WolframAlphaAPIWrapper\n",
    "import re\n",
    "\n",
    "web_tool = TavilySearchResults(max_results=2)\n",
    "\n",
    "@tool\n",
    "def academic_tool(query:str):\n",
    "    \"\"\"\n",
    "    academic paper search tool\n",
    "    \"\"\"\n",
    "    arxiv = ArxivAPIWrapper()\n",
    "    docs = arxiv.run(query)\n",
    "    return docs\n",
    "\n",
    "@tool\n",
    "def math_tool(query:str):\n",
    "    \"\"\"\n",
    "    math tool\n",
    "    \"\"\"\n",
    "    wolfram = WolframAlphaAPIWrapper()\n",
    "    result = wolfram.run(query)\n",
    "    return result"
   ]
  },
  {
   "cell_type": "code",
   "execution_count": 6,
   "id": "6f682222-ebef-4082-9b9c-080cab6fd6eb",
   "metadata": {},
   "outputs": [
    {
     "data": {
      "text/plain": [
       "\"Published: 2024-08-26\\nTitle: AI Thinking: A framework for rethinking artificial intelligence in practice\\nAuthors: Denis Newman-Griffis\\nSummary: Artificial intelligence is transforming the way we work with information\\nacross disciplines and practical contexts. A growing range of disciplines are\\nnow involved in studying, developing, and assessing the use of AI in practice,\\nbut these disciplines often employ conflicting understandings of what AI is and\\nwhat is involved in its use. New, interdisciplinary approaches are needed to\\nbridge competing conceptualisations of AI in practice and help shape the future\\nof AI use. I propose a novel conceptual framework called AI Thinking, which\\nmodels key decisions and considerations involved in AI use across disciplinary\\nperspectives. The AI Thinking model addresses five practice-based competencies\\ninvolved in applying AI in context: motivating AI use in information processes,\\nformulating AI methods, assessing available tools and technologies, selecting\\nappropriate data, and situating AI in the sociotechnical contexts it is used\\nin. A hypothetical case study is provided to illustrate the application of AI\\nThinking in practice. This article situates AI Thinking in broader\\ncross-disciplinary discourses of AI, including its connections to ongoing\\ndiscussions around AI literacy and AI-driven innovation. AI Thinking can help\\nto bridge divides between academic disciplines and diverse contexts of AI use,\\nand to reshape the future of AI in practice.\\n\\nPublished: 2024-07-26\\nTitle: Intersymbolic AI: Interlinking Symbolic AI and Subsymbolic AI\\nAuthors: André Platzer\\nSummary: This perspective piece calls for the study of the new field of Intersymbolic\\nAI, by which we mean the combination of symbolic AI, whose building blocks have\\ninherent significance/meaning, with subsymbolic AI, whose entirety creates\\nsignificance/effect despite the fact that individual building blocks escape\\nmeaning. Canonical kinds of symbolic AI are logic, games and planning.\\nCanonical kinds of subsymbolic AI are (un)supervised machine and reinforcement\\nlearning. Intersymbolic AI interlinks the worlds of symbolic AI with its\\ncompositional symbolic significance and meaning and of subsymbolic AI with its\\nsummative significance or effect to enable culminations of insights from both\\nworlds by going between and across symbolic AI insights with subsymbolic AI\\ntechniques that are being helped by symbolic AI principles. For example,\\nIntersymbolic AI may start with symbolic AI to understand a dynamic system,\\ncontinue with subsymbolic AI to learn its control, and end with symbolic AI to\\nsafely use the outcome of the learned subsymbolic AI controller in the dynamic\\nsystem. The way Intersymbolic AI combines both symbolic and subsymbolic AI to\\nincrease the effectiveness of AI compared to either kind of AI alone is likened\\nto the way that the combination of both conscious and subconscious thought\\nincreases the effectiveness of human thought compared to either kind of thought\\nalone. Some successful contributions to the Intersymbolic AI paradigm are\\nsurveyed here but many more are considered possible by advancing Intersymbolic\\nAI.\\n\\nPublished: 2024-04-17\\nTitle: Overconfident and Unconfident AI Hinder Human-AI Collaboration\\nAuthors: Jingshu Li, Yitian Yang, Renwen Zhang, Yi-chieh Lee\\nSummary: AI transparency is a central pillar of responsible AI deployment and\\neffective human-AI collaboration. A critical approach is communicating\\nuncertainty, such as displaying AI's confidence level, or its correctness\\nlikelihood (CL), to users. However, these confidence levels are often\\nuncalibrated, either overestimating or underestimating actual CL, posing risks\\nand harms to human-AI collaboration. This study examines the effects of\\nuncalibrated AI confidence on users' trust in AI, AI advice adoption, and\\ncollaboration outcomes. We further examined the impact of increased\\ntransparency, achieved through trust calibration support, on these outcomes.\\nOur results revea\""
      ]
     },
     "execution_count": 6,
     "metadata": {},
     "output_type": "execute_result"
    }
   ],
   "source": [
    "academic_tool.run(\"AI 에이전트\")"
   ]
  },
  {
   "cell_type": "code",
   "execution_count": null,
   "id": "320d69c5-d8bb-4f71-a93a-a1f6c64cf62d",
   "metadata": {},
   "outputs": [],
   "source": [
    "math_tool.run(\"123*123^2\")"
   ]
  },
  {
   "cell_type": "markdown",
   "id": "c978f07f-7501-4309-8d8c-de571dd768ce",
   "metadata": {},
   "source": [
    "#### **Video 검색 도구 정의하기**"
   ]
  },
  {
   "cell_type": "code",
   "execution_count": 8,
   "id": "c0145223-87f5-4041-87bc-dc4c8c9d2a92",
   "metadata": {},
   "outputs": [],
   "source": [
    "from langchain_chroma import Chroma\n",
    "from langchain_openai import OpenAIEmbeddings\n",
    "from langchain_text_splitters import RecursiveCharacterTextSplitter\n",
    "from langchain_community.tools import YouTubeSearchTool\n",
    "from langchain_community.document_loaders import YoutubeLoader\n",
    "from langchain_core.documents import Document\n",
    "import ast\n",
    "\n",
    "youtube_search_tool = YouTubeSearchTool()\n",
    "\n",
    "\n",
    "@tool\n",
    "def video_tool(query:str) -> str:\n",
    "    \"\"\"\n",
    "    Retriever tool for the transcript of a YouTube video.\n",
    "    If user want to find some information, this tool is good to gather youtube video information.\n",
    "    query should be given in string format.\n",
    "    \"\"\"\n",
    "    #query에 해당하는 Youtube 비디오 URL 가져오기\n",
    "    urls = youtube_search_tool.run(query)\n",
    "    urls = ast.literal_eval(urls)\n",
    "    #URL 순회하면서 Document 객체에 내용 담기\n",
    "    docs = []\n",
    "    for url in urls:\n",
    "        loader = YoutubeLoader.from_youtube_url(\n",
    "        url,\n",
    "        add_video_info=True,\n",
    "        language=[\"en\", \"ko\"]\n",
    "        )\n",
    "        scripts = loader.load()\n",
    "        script_content = scripts[0].page_content\n",
    "        title=scripts[0].metadata['title']\n",
    "        author=scripts[0].metadata['author']\n",
    "        doc = Document(page_content=script_content, metadata={\"source\": url, \"title\":title, \"author\":author})\n",
    "        docs.append(doc)\n",
    "\n",
    "    #모든 비디오의 내용을 벡터DB에 담기\n",
    "    text_splitter = RecursiveCharacterTextSplitter(\n",
    "        separators  = [\"\\n\\n\", \"\\n\", \".\", \",\", \" \", \"\"],\n",
    "        chunk_size=1000, \n",
    "        chunk_overlap=0)\n",
    "    texts = text_splitter.split_documents(docs)\n",
    "    embeddings = OpenAIEmbeddings()\n",
    "    db = Chroma.from_documents(texts, embeddings)\n",
    "    retriever = db.as_retriever()\n",
    "    retrieved_docs = retriever.invoke(query)\n",
    "\n",
    "    video_results = []\n",
    "\n",
    "    for doc in retrieved_docs:\n",
    "        title = doc.metadata.get('title', 'No title available')\n",
    "        author = doc.metadata.get('author', 'No author available')\n",
    "        script_content = doc.page_content\n",
    "\n",
    "        video_info = f\"\"\"\n",
    "        Video Information:\n",
    "        ------------------\n",
    "        Title: {title}\n",
    "        Author: {author}\n",
    "        Transcript:\n",
    "        {script_content}\n",
    "        ------------------\n",
    "        \"\"\"\n",
    "        video_results.append(video_info)\n",
    "\n",
    "    # Join all video results into a single string\n",
    "    all_video_results = \"\\n\\n\".join(video_results)\n",
    "\n",
    "    return all_video_results"
   ]
  },
  {
   "cell_type": "code",
   "execution_count": null,
   "id": "f79b65a8-c59f-40b7-9b67-9d51819fd0ea",
   "metadata": {},
   "outputs": [],
   "source": [
    "video_tool.run(\"테디노트가 누구야?\")"
   ]
  },
  {
   "cell_type": "markdown",
   "id": "2bcdd3c3-398d-407c-9d13-bf3365a41d46",
   "metadata": {},
   "source": [
    "#### **각 도구를 개별 ToolNode로 설정**"
   ]
  },
  {
   "cell_type": "code",
   "execution_count": 10,
   "id": "3ffdac19-9972-438d-a380-47a3cc750c66",
   "metadata": {},
   "outputs": [],
   "source": [
    "tools = {\n",
    "    \"web\": [web_tool],\n",
    "    \"academic\": [academic_tool],\n",
    "    \"video\": [video_tool],\n",
    "    \"math\":[math_tool]\n",
    "}\n",
    "\n",
    "tool_nodes = {focus: ToolNode(tools[focus]) for focus in tools}"
   ]
  },
  {
   "cell_type": "code",
   "execution_count": 11,
   "id": "bf512127-055c-4716-a797-4053af44cdf3",
   "metadata": {
    "collapsed": true,
    "jupyter": {
     "outputs_hidden": true
    }
   },
   "outputs": [
    {
     "data": {
      "text/plain": [
       "{'web': tools(tags=None, recurse=True, explode_args=False, func_accepts_config=True, func_accepts={'store': ('__pregel_store', None)}, tools_by_name={'tavily_search_results_json': TavilySearchResults(max_results=2, api_wrapper=TavilySearchAPIWrapper(tavily_api_key=SecretStr('**********')))}, tool_to_state_args={'tavily_search_results_json': {}}, tool_to_store_arg={'tavily_search_results_json': None}, handle_tool_errors=True, messages_key='messages'),\n",
       " 'academic': tools(tags=None, recurse=True, explode_args=False, func_accepts_config=True, func_accepts={'store': ('__pregel_store', None)}, tools_by_name={'academic_tool': StructuredTool(name='academic_tool', description='academic paper search tool', args_schema=<class 'langchain_core.utils.pydantic.academic_tool'>, func=<function academic_tool at 0x113046480>)}, tool_to_state_args={'academic_tool': {}}, tool_to_store_arg={'academic_tool': None}, handle_tool_errors=True, messages_key='messages'),\n",
       " 'video': tools(tags=None, recurse=True, explode_args=False, func_accepts_config=True, func_accepts={'store': ('__pregel_store', None)}, tools_by_name={'video_tool': StructuredTool(name='video_tool', description='Retriever tool for the transcript of a YouTube video.\\nIf user want to find some information, this tool is good to gather youtube video information.\\nquery should be given in string format.', args_schema=<class 'langchain_core.utils.pydantic.video_tool'>, func=<function video_tool at 0x11550e020>)}, tool_to_state_args={'video_tool': {}}, tool_to_store_arg={'video_tool': None}, handle_tool_errors=True, messages_key='messages'),\n",
       " 'math': tools(tags=None, recurse=True, explode_args=False, func_accepts_config=True, func_accepts={'store': ('__pregel_store', None)}, tools_by_name={'math_tool': StructuredTool(name='math_tool', description='math tool', args_schema=<class 'langchain_core.utils.pydantic.math_tool'>, func=<function math_tool at 0x1141e1300>)}, tool_to_state_args={'math_tool': {}}, tool_to_store_arg={'math_tool': None}, handle_tool_errors=True, messages_key='messages')}"
      ]
     },
     "execution_count": 11,
     "metadata": {},
     "output_type": "execute_result"
    }
   ],
   "source": [
    "tool_nodes"
   ]
  },
  {
   "cell_type": "markdown",
   "id": "15d98ea8-dd38-47cd-b695-5201f841b08d",
   "metadata": {},
   "source": [
    "#### **Chatbot 설정**"
   ]
  },
  {
   "cell_type": "code",
   "execution_count": 12,
   "id": "864fd03e-ca63-482f-ad88-736200cf7fa3",
   "metadata": {},
   "outputs": [],
   "source": [
    "from langchain_openai import ChatOpenAI\n",
    "\n",
    "llm = ChatOpenAI(model=\"gpt-4o-mini\")\n",
    "\n",
    "def chatbot(state: State):\n",
    "    llm_with_tools = llm.bind_tools(tools[state[\"focus\"]])\n",
    "    result = llm_with_tools.invoke(state[\"messages\"])\n",
    "    return {\"messages\": [result]}"
   ]
  },
  {
   "cell_type": "markdown",
   "id": "5ccec220-3fc7-4afc-8906-bd6b65ff200d",
   "metadata": {},
   "source": [
    "#### **그래프 구축**"
   ]
  },
  {
   "cell_type": "code",
   "execution_count": 13,
   "id": "60985c1c-e7ca-4532-bff2-15ae5688cb05",
   "metadata": {},
   "outputs": [],
   "source": [
    "from langgraph.graph import StateGraph, END\n",
    "\n",
    "graph_builder = StateGraph(State)\n",
    "\n",
    "graph_builder.add_node(\"chatbot\", chatbot)\n",
    "\n",
    "for focus, tool_node in tool_nodes.items():\n",
    "    graph_builder.add_node(f\"{focus}_tools\", tool_node)\n",
    "\n",
    "def focus_condition(state):\n",
    "    if state[\"messages\"][-1].tool_calls:\n",
    "        return f\"{state['focus']}_tools\"\n",
    "    return END  # END 상수 사용\n",
    "\n",
    "graph_builder.add_conditional_edges(\n",
    "    \"chatbot\",\n",
    "    focus_condition,\n",
    "    {\n",
    "        \"web_tools\": \"web_tools\",\n",
    "        \"academic_tools\": \"academic_tools\",\n",
    "        \"video_tools\": \"video_tools\",\n",
    "        \"math_tools\": \"math_tools\",\n",
    "        END: END\n",
    "    }\n",
    ")\n",
    "\n",
    "for focus in tools:\n",
    "    graph_builder.add_edge(f\"{focus}_tools\", \"chatbot\")\n",
    "\n",
    "graph_builder.set_entry_point(\"chatbot\")\n",
    "graph = graph_builder.compile()"
   ]
  },
  {
   "cell_type": "code",
   "execution_count": 171,
   "id": "ac669f7e-4d34-4bbf-803b-3c363d9c7cbd",
   "metadata": {},
   "outputs": [
    {
     "data": {
      "image/jpeg": "[encoded data removed]",
      "text/plain": [
       "<IPython.core.display.Image object>"
      ]
     },
     "metadata": {},
     "output_type": "display_data"
    }
   ],
   "source": [
    "from IPython.display import Image, display\n",
    "\n",
    "display(Image(graph.get_graph().draw_mermaid_png()))"
   ]
  },
  {
   "cell_type": "code",
   "execution_count": null,
   "id": "a814a30a-314f-4421-8570-bd0ead04e474",
   "metadata": {},
   "outputs": [],
   "source": [
    "# example with a multiple tool calls in succession\n",
    "\n",
    "for chunk in graph.stream({\n",
    "        \"messages\": [{\"role\": \"user\", \"content\": \"AI 에이전트에는 어떤 프레임워크가 있어?\"}],\n",
    "        \"focus\": \"video\"\n",
    "    },\n",
    "    stream_mode=\"values\",\n",
    "):\n",
    "    print(chunk['messages'][-1].content)"
   ]
  }
 ],
 "metadata": {
  "kernelspec": {
   "display_name": "Python 3",
   "language": "python",
   "name": "python3"
  },
  "language_info": {
   "codemirror_mode": {
    "name": "ipython",
    "version": 3
   },
   "file_extension": ".py",
   "mimetype": "text/x-python",
   "name": "python",
   "nbconvert_exporter": "python",
   "pygments_lexer": "ipython3",
   "version": "3.11.6"
  }
 },
 "nbformat": 4,
 "nbformat_minor": 5
}
