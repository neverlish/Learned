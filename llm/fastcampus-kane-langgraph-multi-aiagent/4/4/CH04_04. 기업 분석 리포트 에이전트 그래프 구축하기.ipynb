{
 "cells": [
  {
   "cell_type": "markdown",
   "id": "a7ea7aea-90c2-4a7a-8773-2da3e4db74d6",
   "metadata": {},
   "source": [
    "### **라이브러리 및 API 키 호출**"
   ]
  },
  {
   "cell_type": "code",
   "execution_count": 1,
   "id": "837e98d0-5bb4-44e4-ba3e-1813aaef3894",
   "metadata": {
    "execution": {
     "iopub.execute_input": "2024-10-28T22:04:13.682051Z",
     "iopub.status.busy": "2024-10-28T22:04:13.674051Z",
     "iopub.status.idle": "2024-10-28T22:04:16.844946Z",
     "shell.execute_reply": "2024-10-28T22:04:16.844946Z",
     "shell.execute_reply.started": "2024-10-28T22:04:13.680048Z"
    }
   },
   "outputs": [
    {
     "data": {
      "text/plain": [
       "'2025-04-12'"
      ]
     },
     "execution_count": 1,
     "metadata": {},
     "output_type": "execute_result"
    }
   ],
   "source": [
    "import os\n",
    "from langchain_openai import ChatOpenAI\n",
    "from langchain_anthropic import ChatAnthropic\n",
    "from dotenv import load_dotenv\n",
    "load_dotenv()\n",
    "llm = ChatOpenAI(model=\"gpt-4o-mini\")\n",
    "\n",
    "from datetime import datetime\n",
    "today = datetime.today().date().strftime('%Y-%m-%d')\n",
    "today"
   ]
  },
  {
   "cell_type": "markdown",
   "id": "5f4054af-b5eb-4d0c-9bdb-de044659eb4e",
   "metadata": {},
   "source": [
    "### **사전에 정의해둔 재무, 주식, 시장조사 도구 불러오기**"
   ]
  },
  {
   "cell_type": "code",
   "execution_count": 3,
   "id": "430a7026-c7fd-4bfd-8a8d-eec12c9908f1",
   "metadata": {
    "execution": {
     "iopub.execute_input": "2024-10-28T22:04:58.101888Z",
     "iopub.status.busy": "2024-10-28T22:04:58.101888Z",
     "iopub.status.idle": "2024-10-28T22:05:00.916509Z",
     "shell.execute_reply": "2024-10-28T22:05:00.916509Z",
     "shell.execute_reply.started": "2024-10-28T22:04:58.101888Z"
    }
   },
   "outputs": [
    {
     "name": "stderr",
     "output_type": "stream",
     "text": [
      "USER_AGENT environment variable not set, consider setting it to identify your requests.\n"
     ]
    }
   ],
   "source": [
    "from market_tools import *\n",
    "from analysis_tools import *\n",
    "os.environ['USER_AGENT'] = \"your.email@example.com\""
   ]
  },
  {
   "cell_type": "markdown",
   "id": "687208a9-3fdb-4a54-bb37-159592a8686c",
   "metadata": {},
   "source": [
    "### **Graph State와 에이전트 정의**"
   ]
  },
  {
   "cell_type": "code",
   "execution_count": 4,
   "id": "50dc12b0-3a0d-4608-bbdb-d55e467171e2",
   "metadata": {
    "execution": {
     "iopub.execute_input": "2024-10-28T22:09:53.346937Z",
     "iopub.status.busy": "2024-10-28T22:09:53.345930Z",
     "iopub.status.idle": "2024-10-28T22:09:54.192260Z",
     "shell.execute_reply": "2024-10-28T22:09:54.192260Z",
     "shell.execute_reply.started": "2024-10-28T22:09:53.346937Z"
    }
   },
   "outputs": [],
   "source": [
    "from langgraph.prebuilt import create_react_agent\n",
    "from langchain_core.messages import BaseMessage\n",
    "from typing import TypedDict, Annotated, List\n",
    "import operator\n",
    "from analysis_tools import *\n",
    "from market_tools import *\n",
    "# 2. 상태 정의\n",
    "class AnalysisState(TypedDict):\n",
    "    company: str\n",
    "    messages: Annotated[List[BaseMessage], operator.add]\n",
    "    analyses: Annotated[List[dict], operator.add]  # 분석 결과를 누적\n",
    "    combined_report: str\n",
    "\n",
    "# 3. 분석가 에이전트 프롬프트 및 설정\n",
    "llm = ChatOpenAI(model=\"gpt-4o-mini\")\n",
    "\n",
    "financial_prompt = f\"\"\"\n",
    "오늘은 {today}입니다. \n",
    "당신은 뛰어난 재무 분석가입니다. 아래 임무를 지키면서, 데이터를 분석하고, 차트를 생성 및 저장해야 합니다.\n",
    "당신의 임무는:\n",
    "1. 회사의 재무 성명서를 면밀히 분석하여 숨겨진 통찰력을 발견하는 것\n",
    "2. 주요 재무 비율을 계산하고 그 의미를 명확히 해석하는 것\n",
    "3. 수익, 수익성, 현금 흐름의 추세를 파악하고 그에 따른 전략을 제안하는 것\n",
    "4. 회사의 재무 건강 상태와 지속 가능성을 종합적으로 평가하는 것\n",
    "5. 산업 표준과 비교하여 경쟁력을 분석하는 것\n",
    "\n",
    "당신의 추론을 항상 명확히 설명하고, 특정 지표로 결론을 뒷받침하세요.\n",
    "분석을 철저히 하되, 객관성을 유지하는 것을 잊지 마세요.\"\"\"\n",
    "\n",
    "stock_prompt = f\"\"\"오늘은 {today}입니다. \n",
    "당신은 전문 주식 시장 분석가입니다. 아래 임무를 지키면서, 데이터를 분석하고, 차트를 생성 및 저장해야 합니다.\n",
    "당신의 임무는:\n",
    "1. 역사적 주식 가격 움직임을 분석하여 패턴을 식별하는 것\n",
    "2. 기술 지표와 패턴을 평가하여 미래의 가격 변동을 예측하는 것\n",
    "3. 시장 분위기와 모멘텀을 분석하여 투자 기회를 포착하는 것\n",
    "4. 동료 기업과의 가치 평가 지표를 비교하여 상대적 가치를 판단하는 것\n",
    "5. 주요 가격 동인과 촉매를 식별하여 투자 전략을 수립하는 것\n",
    "\n",
    "분석을 지원하는 구체적인 데이터 포인트와 차트를 제공하세요.\n",
    "기술적 및 근본적 요소를 모두 고려하여 평가하세요.\"\"\"\n",
    "\n",
    "market_prompt = f\"\"\"오늘은 {today}입니다. \n",
    "당신은 전문 시장 연구원입니다. 아래 임무를 지키기 위해 SEC 파일링을 탐색하고, 기업, 경쟁사, 시장에 대한 시장 조사를 수행해주세요.\n",
    "당신의 임무는:\n",
    "1. 회사의 경쟁 위치를 분석하여 강점과 약점을 파악하는 것\n",
    "2. 시장 동향과 산업 역학을 평가하여 기회를 탐색하는 것\n",
    "3. 주요 경쟁사와 그들의 전략을 분석하여 시장 내 위치를 이해하는 것\n",
    "4. 시장 기회와 위협을 평가하여 리스크를 관리하는 것\n",
    "5. 회사의 시장 점유율과 성장 가능성을 분석하여 미래 전략을 제안하는 것\n",
    "\n",
    "결론을 뒷받침하는 구체적인 예시와 데이터를 사용하세요.\n",
    "현재 시장 조건과 미래 동향을 모두 고려하여 분석하세요.\"\"\"\n",
    "\n",
    "# 4. ReAct 에이전트 생성\n",
    "financial_agent = create_react_agent(llm, [get_financial_data, analyze_data, chart_generator], state_modifier = financial_prompt)\n",
    "stock_agent = create_react_agent(llm, [fetch_stock_data, analyze_data, chart_generator], state_modifier = stock_prompt)\n",
    "market_agent = create_react_agent(llm, \n",
    "                                  [get_latest_filing_content, \n",
    "                                   collect_company_news, collect_competitor_news, \n",
    "                                   collect_market_news, scrape_webpages],\n",
    "                                  state_modifier = market_prompt)"
   ]
  },
  {
   "cell_type": "markdown",
   "id": "d394fcc0-7b9a-49c3-8b9a-271ea6ffd500",
   "metadata": {},
   "source": [
    "### **Map-reduce 함수 정의 및 에이전트 노드 설정**"
   ]
  },
  {
   "cell_type": "code",
   "execution_count": 5,
   "id": "5bee57bc-25b1-4bc8-ab86-6358fd7c9a92",
   "metadata": {
    "execution": {
     "iopub.execute_input": "2024-10-28T22:22:25.465408Z",
     "iopub.status.busy": "2024-10-28T22:22:25.464286Z",
     "iopub.status.idle": "2024-10-28T22:22:25.471143Z",
     "shell.execute_reply": "2024-10-28T22:22:25.471143Z",
     "shell.execute_reply.started": "2024-10-28T22:22:25.465408Z"
    }
   },
   "outputs": [],
   "source": [
    "from langgraph.types import Send\n",
    "# 5. Map 함수: 각 분석가에게 작업 할당\n",
    "def map_to_analysts(state: AnalysisState):\n",
    "    company = state[\"company\"]\n",
    "    return [\n",
    "        Send(\"financial_analyst\", {\"company\": company, \"task\": \"financial\"}),\n",
    "        Send(\"stock_analyst\", {\"company\": company, \"task\": \"stock\"}),\n",
    "        Send(\"market_analyst\", {\"company\": company, \"task\": \"market\"})\n",
    "    ]\n",
    "\n",
    "# 6. 각 분석가 노드 함수\n",
    "def analyst_node(state: dict, agent, task_type: str):\n",
    "    \"\"\"각 분석가의 작업을 실행하고 결과를 구조화\"\"\"\n",
    "    company = state[\"company\"]\n",
    "    result = agent.invoke(\n",
    "        {\"messages\": [(\"human\", f\"Analyze {task_type} aspects of {company}\")]})\n",
    "    \n",
    "    return {\n",
    "        \"analyses\": [{\n",
    "            \"type\": task_type,\n",
    "            \"content\": result[\"messages\"][-1].content,\n",
    "            \"timestamp\": datetime.now().isoformat()\n",
    "        }]\n",
    "    }\n",
    "\n",
    "# 7. Reduce 함수: 분석 결과 통합\n",
    "def combine_analyses(state: AnalysisState):\n",
    "    analyses = state[\"analyses\"]\n",
    "    \n",
    "    charts_directory = './charts'\n",
    "    chart_images = [f\"![Chart]({charts_directory}/{file})\" for file in os.listdir(charts_directory) if file.endswith(('.png', '.jpg', '.jpeg'))]\n",
    "    \n",
    "    report_prompt = f\"\"\"\n",
    "    당신은 매우 훌륭한 기업 분석 전문가입니다. 주어진 정보를 종합적으로 이해하고, 풍부한 설명을 통해 기업 분석 보고서를 작성합니다.\n",
    "    포괄적인 기업 분석 보고서를 작성해주세요. (형식: 마크다운, 언어: 한국어)\n",
    "    이 기업 분석 보고서는 가능한 많은 정보를 담아야하며, 다음을 종합하여 작성합니다:\n",
    "\n",
    "    <이전 분석>\n",
    "\n",
    "    {analyses}\n",
    "    \n",
    "    </이전 분석>\n",
    "\n",
    "    <차트>\n",
    "    주어진 차트는 다음과 같습니다.\n",
    "    {chart_images}\n",
    "    주어진 차트의 제목을 고려하여 아래 지침의 각 섹션에 적절하게 삽입하세요.\n",
    "    </차트>\n",
    "\n",
    "    <지침>\n",
    "    보고서는 마크다운 형식으로 작성하며, 주어진 데이터와 조사 결과를 바탕으로 작성합니다.\n",
    "    가능하다면 표나 그래프를 최대한 활용하세요.\n",
    "\n",
    "    보고서에는 다음이 포함되어야 합니다:\n",
    "\n",
    "    1. ## 요약\n",
    "    - 분석 결과의 주요 발견 및 통찰력에 대한 간략한 개요를 제공합니다.\n",
    "\n",
    "    2. ## 재무 분석\n",
    "    - 수익, 순이익, 자산, 부채 및 자본과 같은 상세한 재무 지표를 포함합니다.\n",
    "    - 지난 몇 년간의 추세 및 비교를 논의합니다.\n",
    "\n",
    "    3. ## 주식 성과 분석\n",
    "    - 가격 변화, 변동성 및 시장 지수와의 비교를 포함한 주식 성과 지표를 분석합니다.\n",
    "\n",
    "    4. ## 시장 위치 분석\n",
    "    - 회사의 시장 위치를 평가하고 시장 점유율 및 경쟁 환경을 포함합니다.\n",
    "    - 시장에서 회사의 강점과 약점에 대한 통찰력을 제공합니다.\n",
    "\n",
    "    5. ## 위험 및 기회\n",
    "    - 회사가 직면한 주요 위험과 성장 기회를 식별합니다.\n",
    "    - 분석을 지원하기 위해 정량적 데이터를 사용합니다.\n",
    "\n",
    "    6. ## 투자 권장 사항\n",
    "    - 분석을 바탕으로 명확한 투자 권장 사항을 제공합니다.\n",
    "    - 관련 데이터와 통찰력으로 권장 사항을 정당화합니다.\n",
    "    </지침>\n",
    "\n",
    "    \"\"\"\n",
    "    \n",
    "    combined_report = llm.invoke(report_prompt)\n",
    "    \n",
    "    return {\n",
    "        \"combined_report\": combined_report,\n",
    "        \"messages\": [(\"report\", combined_report)]\n",
    "    }"
   ]
  },
  {
   "cell_type": "markdown",
   "id": "8210b788-0b94-4c8b-978c-4f9ca41b8589",
   "metadata": {},
   "source": [
    "### **그래프 구축**"
   ]
  },
  {
   "cell_type": "code",
   "execution_count": 6,
   "id": "b0976cef-7f4a-49d2-a5a0-72c9b2beeabb",
   "metadata": {
    "execution": {
     "iopub.execute_input": "2024-10-28T22:22:25.710228Z",
     "iopub.status.busy": "2024-10-28T22:22:25.710228Z",
     "iopub.status.idle": "2024-10-28T22:22:25.718442Z",
     "shell.execute_reply": "2024-10-28T22:22:25.717437Z",
     "shell.execute_reply.started": "2024-10-28T22:22:25.710228Z"
    }
   },
   "outputs": [],
   "source": [
    "from langgraph.graph import END, StateGraph, START\n",
    "# 8. 그래프 구성\n",
    "workflow = StateGraph(AnalysisState)\n",
    "\n",
    "# Map 노드 추가\n",
    "workflow.add_node(\"financial_analyst\", \n",
    "                 lambda x: analyst_node(x, financial_agent, \"financial\"))\n",
    "workflow.add_node(\"stock_analyst\", \n",
    "                 lambda x: analyst_node(x, stock_agent, \"stock\"))\n",
    "workflow.add_node(\"market_analyst\", \n",
    "                 lambda x: analyst_node(x, market_agent, \"market\"))\n",
    "\n",
    "# Reduce 노드 추가\n",
    "workflow.add_node(\"combine\", combine_analyses)\n",
    "\n",
    "# START에서 map_to_analysts로 가는 조건부 엣지 추가\n",
    "workflow.add_conditional_edges(\n",
    "    START,\n",
    "    map_to_analysts,\n",
    "    {\n",
    "        \"financial_analyst\": \"financial_analyst\",\n",
    "        \"stock_analyst\": \"stock_analyst\",\n",
    "        \"market_analyst\": \"market_analyst\"\n",
    "    }\n",
    ")\n",
    "\n",
    "# 각 분석가의 결과를 combine으로 연결\n",
    "for analyst in [\"financial_analyst\", \"stock_analyst\", \"market_analyst\"]:\n",
    "    workflow.add_edge(analyst, \"combine\")\n",
    "\n",
    "workflow.add_edge(\"combine\", END)\n",
    "# 9. 그래프 컴파일\n",
    "app = workflow.compile()"
   ]
  },
  {
   "cell_type": "code",
   "execution_count": 7,
   "id": "97fc06d3-de47-4d4d-9a73-b2ea4e5783ef",
   "metadata": {
    "execution": {
     "iopub.execute_input": "2024-10-28T22:22:25.852205Z",
     "iopub.status.busy": "2024-10-28T22:22:25.852205Z",
     "iopub.status.idle": "2024-10-28T22:22:26.301093Z",
     "shell.execute_reply": "2024-10-28T22:22:26.301093Z",
     "shell.execute_reply.started": "2024-10-28T22:22:25.852205Z"
    }
   },
   "outputs": [
    {
     "data": {
      "image/png": "[encoded data removed]",
      "text/plain": [
       "<IPython.core.display.Image object>"
      ]
     },
     "metadata": {},
     "output_type": "display_data"
    }
   ],
   "source": [
    "from IPython.display import Image, display\n",
    "\n",
    "display(Image(app.get_graph().draw_mermaid_png()))"
   ]
  },
  {
   "cell_type": "code",
   "execution_count": 8,
   "id": "da21fd0a-1e45-4937-850e-6c867ee0018a",
   "metadata": {
    "execution": {
     "iopub.execute_input": "2024-10-28T22:22:27.661070Z",
     "iopub.status.busy": "2024-10-28T22:22:27.660072Z",
     "iopub.status.idle": "2024-10-28T22:24:03.293478Z",
     "shell.execute_reply": "2024-10-28T22:24:03.293478Z",
     "shell.execute_reply.started": "2024-10-28T22:22:27.661070Z"
    }
   },
   "outputs": [
    {
     "name": "stdout",
     "output_type": "stream",
     "text": [
      "YF.download() has changed argument auto_adjust default to TrueYF.download() has changed argument auto_adjust default to True\n",
      "\n",
      "{'financial_analyst': {'analyses': [{'type': 'financial', 'content': '현재 Tesla의 재무 데이터를 가져오는 데 문제가 발생했습니다. API 호출이 제한에 도달했기 때문에 데이터를 수집할 수 없습니다. \\n데이터를 수집할 수 없으므로, Tesla의 최근 재무 성과에 대한 정보를 포괄적으로 분석하기 위해 일반적인 재무 비율, 최근 성과 및 업계 동향을 참고하여 설명하겠습니다.\\n\\n### Tesla의 재무 분석\\n\\n1. **수익 및 매출 성장**:\\n   - Tesla는 전 세계적으로 전기차 판매 증가에 힘입어 매출을 크게 성장시켰습니다. 특히, 2019년에 비해 2022년까지 매출이 폭발적으로 증가했습니다. \\n   - 주요 성장 엔진은 Model 3 및 Model Y의 판매 증가이며, 이를 통해 시장 점유율을 확대하고 있습니다.\\n\\n2. **수익성 비율**:\\n   - **총 이익률**: Tesla는 지속적으로 총 이익률을 개선하고 있습니다. 이는 원가 절감 및 생산 효율성을 통해 이루어졌습니다.\\n   - **영업 이익률**: 생산량 증가와 판매 증가 덕분에 영업 이익도 기하급수적으로 증가하고 있습니다.\\n\\n3. **현금 흐름**:\\n   - Tesla는 최근 몇 년 동안 강한 운영 현금 흐름을 기록하고 있으며, 이는 자산 투자 및 R&D 자금 조달 능력을 향상시키는 데 도움이 됩니다.\\n\\n4. **부채 비율**:\\n   - Tesla는 상대적으로 낮은 부채 비율을 보이고 있으며, 이는 재정적 안정성을 유지하는 데 중요한 역할을 합니다. \\n\\n5. **경쟁력 분석**:\\n   - 산업 내에서 Tesla는 시장 점유율이 가장 높은 전기차 제조사이며, 브랜드 인지도와 기술력에서 많은 경쟁 우위를 점하고 있습니다. \\n   - 다른 전기차 제조사(예: 루시드, 리비안 등)와 비교했을 때, Tesla는 생산 및 판매에서 우수한 실적을 보여주고 있습니다.\\n\\n### 전략적 제안\\n- **기술 개발에 지속 투자**: Tesla는 자율주행 기술 및 배터리 기술에 꾸준히 투자하여 장기적인 경쟁력을 강화해야 합니다.\\n- **시장 확장**: 아시아 및 유럽 시장에서의 판매 증가를 위한 전략적 판매 및 마케팅 접근 방식을 모색하는 것이 중요합니다.\\n- **비용 절감**: 공급망의 최적화를 통해 생산 비용을 지속적으로 낮춰야 합니다.\\n\\n### 결론\\nTesla는 재무적으로 매우 건강한 상태에 있으며, 강력한 수익과 성장 잠재력을 보이고 있습니다. 그러나 시장 경쟁이 심화되고 있는 만큼 지속적인 혁신과 확대 전략이 필요합니다. 데이터를 정량적으로 분석하기 위해서는 보다 구체적인 수치가 필요하므로, API 대체 방법을 모색하거나 직접 데이터를 조사할 필요가 있습니다.', 'timestamp': '2025-04-12T11:32:34.431244'}]}}\n",
      "---\n",
      "{'stock_analyst': {'analyses': [{'type': 'stock', 'content': \"It seems there is an issue with fetching the stock data for Tesla and its competitors. Let me analyze alternative aspects of Tesla based on the most recent data and historical performance generally available until my last training cut-off in October 2023.\\n\\n### 1. Historical Price Movement:\\n- Tesla's stock has shown significant volatility since its IPO, reflecting its transition from a niche electric automaker to a mainstream automotive player and technology provider.\\n- Major price movements were often linked to earnings reports, production milestones, and broader market events related to electric vehicles (EVs).\\n\\n### 2. Technical Indicators:\\n- **Moving Averages**: Tesla often trades above its 50-day and 200-day moving averages in bullish phases, indicating strong upward momentum.\\n- **Relative Strength Index (RSI)**: An RSI above 70 typically indicates overbought conditions, while below 30 indicates oversold conditions. Monitoring these indicators can help predict price corrections or continuations.\\n\\n### 3. Market Sentiment and Momentum:\\n- Tesla tends to experience positive momentum around product launches, technological advancements, and news related to the EV market.\\n- Market sentiment is often influenced by CEO Elon Musk's public statements on social media and the company’s performance compared to industry expectations.\\n\\n### 4. Valuation Metrics:\\n- Tesla's P/E ratio has been historically higher than legacy automakers like GM and Ford due to its growth potential and innovation in the EV space.\\n- Comparing forward P/E ratios will help determine whether Tesla is overvalued or undervalued relative to its peers.\\n\\n### 5. Price Drivers and Catalysts:\\n- Key drivers include production capacity increases, demand in major markets (like the U.S. and China), advancements in battery technology, and regulatory changes favoring EV adoption.\\n- Catalysts may include quarterly earnings, announcements about new models, and strategic partnerships.\\n\\n### Conclusion:\\nTo perform a deeper analysis, including visualizing this data and making algorithmic predictions, I would require access to the specific datasets or alternative data sources. If you have any specific metrics or indicators you'd like to focus on, or if you want to analyze different datasets, please let me know!\", 'timestamp': '2025-04-12T11:32:39.899249'}]}}\n",
      "---\n",
      "{'market_analyst': {'analyses': [{'type': 'market', 'content': \"## Tesla Market Analysis\\n\\n### 1. Competitive Position: Strengths and Weaknesses\\n#### Strengths:\\n- **Market Leader**: Tesla remains a leader in the electric vehicle (EV) market with a diverse product range, including Model S, Model 3, Model X, Model Y, and the Cybertruck as well as energy solutions like Powerwall and Megapack.\\n- **Strong Financial Performance**: According to the latest 10-K filing for the fiscal year ending December 31, 2024, Tesla generated $97.69 billion in revenue, with a net income of $7.09 billion, reflecting a 53% increase compared to the previous year.\\n- **Innovation**: Tesla is pioneering the EV sector through advancements in battery technology and autonomous driving features (e.g., Autopilot systems).\\n\\n#### Weaknesses:\\n- **Quality and Reliability Issues**: Recent recalls, including a significant one for nearly all Cybertrucks due to regulatory concerns, indicate potential weaknesses in quality control. This could affect Tesla's reputation and sales.\\n- **Dependence on Elon Musk**: Tesla's brand is heavily associated with Elon Musk, which poses risks regarding leadership continuity and reputation management.\\n  \\n### 2. Market Trends and Industry Dynamics\\n- **Growth in EV Adoption**: The electric vehicle market is expected to continue its growth trajectory as traditional automakers roll out new models and governments implement stricter emissions regulations.\\n- **Competition Intensifying**: Traditional car manufacturers like General Motors (GM) and new entrants are increasing their EV offerings, impacting Tesla's market share. As per recent reports, Tesla's U.S. sales have declined while competitors are gaining traction.\\n- **Technological Advancements**: Developments in battery technology (e.g., solid-state batteries) and autonomous driving technologies are crucial trends that could reshape the competitive landscape.\\n\\n### 3. Major Competitors and Their Strategies\\n- **General Motors (GM)**: With the launch of new EV models, GM is positioning itself as a significant competitor in the electric vehicle market, focusing on affordability and technology.\\n- **Ford**: The Ford Mustang Mach-E and the upcoming electric F-150 are parts of Ford's strategy to capture a larger share of the EV market.\\n- **Rivian and Lucid Motors**: These startups focus on luxury and adventure markets, attracting consumers looking for alternatives to Tesla.\\n\\n### 4. Market Opportunities and Threats\\n#### Opportunities:\\n- **International Expansion**: There are expansive opportunities in emerging markets and Europe as infrastructure for electric vehicles improves.\\n- **Energy Products**: Increased focus on renewable energy could boost Tesla’s energy product sales, such as solar panels and battery storage solutions.\\n\\n#### Threats:\\n- **Regulatory Risks**: Continuous scrutiny regarding vehicle safety features and production practices can lead to significant recalls and legal challenges.\\n- **Economic Conditions**: Economic downturns or inflation could negatively impact consumer purchasing power, particularly in the high-priced segments of the EV market.\\n\\n### 5. Market Share and Growth Potential\\nTesla's current market share in the EV sector remains strong, but with increasing competition, it faces substantial challenges in maintaining its lead. According to recent reports, Tesla's U.S. sales have seen problems, with a reported decline as traditional automakers gain market share. However, with its continued focus on innovation and adapting to market demands, Tesla can leverage its strengths to pursue growth in both existing and new markets.\\n\\n### Future Strategy Recommendations\\n- **Diversification**: Tesla should diversify its product line and explore lower-cost models to attract different customer segments.\\n- **Investment in R&D**: Continued investment in research and development can enhance Tesla’s technological edge.\\n- **Global Strategy**: Focus on international markets, especially where EV infrastructure is being rapidly developed, can bar growth opportunities.\\n\\n---\\n\\n### Recent News Highlights\\nSeveral recent articles provide insight into Tesla's current challenges and strategies:\\n- **Sales Decline**: A March 2025 report highlighted that Tesla's U.S. sales plummeted as competitors gained ground in the EV market (source: NY Times).\\n- **Regulations and Recalls**: Nearly all Cybertrucks were recalled due to regulatory issues, potentially affecting Tesla's reputation (source: AP News).\\n- **Technological Developments**: Tesla is ramping up production for new models and has rolled out updates enhancing vehicle features, indicating a focus on maintaining competitiveness (source: Teslarati).\\n\\nOverall, while Tesla remains a dominant player in the EV market, it must navigate increased competition and regulatory scrutiny to sustain its leadership position.\", 'timestamp': '2025-04-12T11:32:51.647925'}]}}\n",
      "---\n",
      "{'combine': {'combined_report': AIMessage(content='# Tesla 기업 분석 보고서\\n\\n## 1. 요약\\nTesla는 전기차(EV) 시장의 글로벌 리더로 자리잡고 있으며, 재무적 건강과 강력한 매출 성장을 기록하고 있습니다. 최근 몇 년간 Tesla의 수익은 급격히 증가하였으나, 시장에서의 경쟁 압박과 품질 문제 등의 도전 과제가 존재합니다. 본 보고서는 Tesla의 재무 성과, 주식 변동, 시장 위치, 위험 및 기회 요소들을 종합하여 투자 권장 사항을 제시합니다.\\n\\n## 2. 재무 분석\\n### 주요 재무 지표  \\n- **매출**: 2024년 기준 Tesla의 매출은 $97.69 billion으로, 전년 대비 53% 증가하였습니다.\\n- **순이익**: 2024년 순이익은 $7.09 billion으로, 매출 성장에 따라 증가하고 있습니다.\\n- **부채 비율**: Tesla는 낮은 부채 비율을 유지하며, 이는 재정적 안정성을 강화합니다.\\n- **현금 흐름**: 긍정적인 운영 현금 흐름을 기록, 자산 투자 및 R&D 자금 조달에 유리한 상황입니다.\\n\\n| 재무 지표         | 2024년      | 2023년      | 비율 변화 (%) |\\n|-------------------|-------------|-------------|---------------|\\n| 매출              | $97.69B     | $63.89B     | +53%          |\\n| 순이익            | $7.09B      | $4.61B      | +54%          |\\n\\n### 지난 몇 년간 추세 분석\\nTesla는 매년 지속적으로 성장을 거듭하며, Model 3와 Model Y의 판매 증가로 인해 시장 점유율을 확대하고 있습니다. 그러나 최근의 품질 문제와 리콜이 고객 신뢰에 대한 위협이 될 수 있습니다.\\n\\n## 3. 주식 성과 분석\\n### 가격 변화 및 변동성\\nTesla의 주가는 IPO 이후 상당한 변동성을 보였습니다. 주요 가격 이동은 주로 실적 보고서, 생산 성과 milestones, 전반적인 EV 시장 동향과 관련이 있습니다. \\n\\n- **이동 평균**: Tesla는 강세 국면에서 50일 및 200일 이동 평균을 지속적으로 초과하여 거래됩니다.\\n- **상대 강도 지수(RSI)**: RSI가 70을 초과하면 과매도 상태를 나타내며, 30 이하일 경우 과매도 상태를 나타냅니다.\\n\\n![주식 차트](./charts/nvda_stock_price.png)\\n\\n### 시장 지수 비교\\nTesla의 주식 성과는 업계 평균이나 S&P 500 지수와 비교했을 때 상대적으로 높은 변동성을 보입니다. 이러한 특성은 투자자에게 주의가 필요함을 나타냅니다.\\n\\n## 4. 시장 위치 분석\\n### 시장 점유율\\nTesla는 전기차 시장에서 가장 높은 점유율을 보유하고 있으며, 주요 경쟁업체로는 GM, Ford, Rivian, Lucid Motors 등이 있습니다. 최근 Tesla의 U.S. 시장 점유율은 감소하는 추세입니다.\\n\\n### 강점 및 약점\\n#### 강점\\n- **브랜드 인지도 및 기술력**: Tesla는 전기차 브랜드 중 가장 높은 인지도를 가지고 있으며, 혁신적인 기술력을 보유하고 있습니다.\\n- **운영 효율성**: 생산 효율성을 높이기 위한 글로벌 공급망 최적화 및 자동화 기술 도입.\\n\\n#### 약점\\n- **품질 문제**: 최근 Cybertruck에 대한 대규모 리콜 사례가 있었습니다.\\n- **리더십 의존도**: Elon Musk에 대한 높은 의존도가 리스크 요소로 작용할 수 있습니다.\\n\\n## 5. 위험 및 기회\\n### 주요 위험\\n- **경쟁의 심화**: GM, Ford 등의 전통적 자동차 제조업체와 스타트업들이 EV 시장에서 경쟁력을 강화하고 있습니다.\\n- **규제 리스크**: 차량 안전성 및 생산 관행에 대한 규제 강화가 예상됩니다.\\n\\n### 성장 기회\\n- **국제 시장 확장**: 아시아와 유럽에서 전기차 인프라가 발전하고 있어 시장 확대가 가능한 상황입니다.\\n- **재생 에너지 솔루션**: Tesla의 태양광 패널 및 에너지 저장 기술의 판매 증가 가능성.\\n\\n## 6. 투자 권장 사항\\nTesla는 직면해 있는 도전에도 불구하고 여전히 전기차 시장의 리더로서 매력적인 투자처입니다. 다음과 같은 전략을 추천합니다:\\n\\n- **주식 매수**: 경쟁이 치열하더라도 Tesla의 강력한 기술력과 혁신적 접근법은 중장기적으로 긍정적인 미래를 가능하게 합니다.\\n- **R&D 투자 강화**: 자율주행 및 배터리 기술에 대한 추가 투자가 필요합니다.\\n- **신시장 개척**: 기회가 있는 국제 시장에 대한 적극적인 진출을 모색해야 합니다.\\n\\nTesla는 미증시의 상당한 상승 가능성을 가진 기업이므로, 주의 깊게 시장의 동향을 모니터링하고 투자 전략을 조정해야 할 것입니다.', additional_kwargs={'refusal': None}, response_metadata={'token_usage': {'completion_tokens': 1135, 'prompt_tokens': 2650, 'total_tokens': 3785, 'completion_tokens_details': {'accepted_prediction_tokens': 0, 'audio_tokens': 0, 'reasoning_tokens': 0, 'rejected_prediction_tokens': 0}, 'prompt_tokens_details': {'audio_tokens': 0, 'cached_tokens': 0}}, 'model_name': 'gpt-4o-mini-2024-07-18', 'system_fingerprint': 'fp_44added55e', 'id': 'chatcmpl-BLKxn8MzpzrGtSvJjMtmLu1mIbALD', 'finish_reason': 'stop', 'logprobs': None}, id='run-af277fdc-e85e-4d50-a580-9810504f16e9-0', usage_metadata={'input_tokens': 2650, 'output_tokens': 1135, 'total_tokens': 3785, 'input_token_details': {'audio': 0, 'cache_read': 0}, 'output_token_details': {'audio': 0, 'reasoning': 0}}), 'messages': [('report', AIMessage(content='# Tesla 기업 분석 보고서\\n\\n## 1. 요약\\nTesla는 전기차(EV) 시장의 글로벌 리더로 자리잡고 있으며, 재무적 건강과 강력한 매출 성장을 기록하고 있습니다. 최근 몇 년간 Tesla의 수익은 급격히 증가하였으나, 시장에서의 경쟁 압박과 품질 문제 등의 도전 과제가 존재합니다. 본 보고서는 Tesla의 재무 성과, 주식 변동, 시장 위치, 위험 및 기회 요소들을 종합하여 투자 권장 사항을 제시합니다.\\n\\n## 2. 재무 분석\\n### 주요 재무 지표  \\n- **매출**: 2024년 기준 Tesla의 매출은 $97.69 billion으로, 전년 대비 53% 증가하였습니다.\\n- **순이익**: 2024년 순이익은 $7.09 billion으로, 매출 성장에 따라 증가하고 있습니다.\\n- **부채 비율**: Tesla는 낮은 부채 비율을 유지하며, 이는 재정적 안정성을 강화합니다.\\n- **현금 흐름**: 긍정적인 운영 현금 흐름을 기록, 자산 투자 및 R&D 자금 조달에 유리한 상황입니다.\\n\\n| 재무 지표         | 2024년      | 2023년      | 비율 변화 (%) |\\n|-------------------|-------------|-------------|---------------|\\n| 매출              | $97.69B     | $63.89B     | +53%          |\\n| 순이익            | $7.09B      | $4.61B      | +54%          |\\n\\n### 지난 몇 년간 추세 분석\\nTesla는 매년 지속적으로 성장을 거듭하며, Model 3와 Model Y의 판매 증가로 인해 시장 점유율을 확대하고 있습니다. 그러나 최근의 품질 문제와 리콜이 고객 신뢰에 대한 위협이 될 수 있습니다.\\n\\n## 3. 주식 성과 분석\\n### 가격 변화 및 변동성\\nTesla의 주가는 IPO 이후 상당한 변동성을 보였습니다. 주요 가격 이동은 주로 실적 보고서, 생산 성과 milestones, 전반적인 EV 시장 동향과 관련이 있습니다. \\n\\n- **이동 평균**: Tesla는 강세 국면에서 50일 및 200일 이동 평균을 지속적으로 초과하여 거래됩니다.\\n- **상대 강도 지수(RSI)**: RSI가 70을 초과하면 과매도 상태를 나타내며, 30 이하일 경우 과매도 상태를 나타냅니다.\\n\\n![주식 차트](./charts/nvda_stock_price.png)\\n\\n### 시장 지수 비교\\nTesla의 주식 성과는 업계 평균이나 S&P 500 지수와 비교했을 때 상대적으로 높은 변동성을 보입니다. 이러한 특성은 투자자에게 주의가 필요함을 나타냅니다.\\n\\n## 4. 시장 위치 분석\\n### 시장 점유율\\nTesla는 전기차 시장에서 가장 높은 점유율을 보유하고 있으며, 주요 경쟁업체로는 GM, Ford, Rivian, Lucid Motors 등이 있습니다. 최근 Tesla의 U.S. 시장 점유율은 감소하는 추세입니다.\\n\\n### 강점 및 약점\\n#### 강점\\n- **브랜드 인지도 및 기술력**: Tesla는 전기차 브랜드 중 가장 높은 인지도를 가지고 있으며, 혁신적인 기술력을 보유하고 있습니다.\\n- **운영 효율성**: 생산 효율성을 높이기 위한 글로벌 공급망 최적화 및 자동화 기술 도입.\\n\\n#### 약점\\n- **품질 문제**: 최근 Cybertruck에 대한 대규모 리콜 사례가 있었습니다.\\n- **리더십 의존도**: Elon Musk에 대한 높은 의존도가 리스크 요소로 작용할 수 있습니다.\\n\\n## 5. 위험 및 기회\\n### 주요 위험\\n- **경쟁의 심화**: GM, Ford 등의 전통적 자동차 제조업체와 스타트업들이 EV 시장에서 경쟁력을 강화하고 있습니다.\\n- **규제 리스크**: 차량 안전성 및 생산 관행에 대한 규제 강화가 예상됩니다.\\n\\n### 성장 기회\\n- **국제 시장 확장**: 아시아와 유럽에서 전기차 인프라가 발전하고 있어 시장 확대가 가능한 상황입니다.\\n- **재생 에너지 솔루션**: Tesla의 태양광 패널 및 에너지 저장 기술의 판매 증가 가능성.\\n\\n## 6. 투자 권장 사항\\nTesla는 직면해 있는 도전에도 불구하고 여전히 전기차 시장의 리더로서 매력적인 투자처입니다. 다음과 같은 전략을 추천합니다:\\n\\n- **주식 매수**: 경쟁이 치열하더라도 Tesla의 강력한 기술력과 혁신적 접근법은 중장기적으로 긍정적인 미래를 가능하게 합니다.\\n- **R&D 투자 강화**: 자율주행 및 배터리 기술에 대한 추가 투자가 필요합니다.\\n- **신시장 개척**: 기회가 있는 국제 시장에 대한 적극적인 진출을 모색해야 합니다.\\n\\nTesla는 미증시의 상당한 상승 가능성을 가진 기업이므로, 주의 깊게 시장의 동향을 모니터링하고 투자 전략을 조정해야 할 것입니다.', additional_kwargs={'refusal': None}, response_metadata={'token_usage': {'completion_tokens': 1135, 'prompt_tokens': 2650, 'total_tokens': 3785, 'completion_tokens_details': {'accepted_prediction_tokens': 0, 'audio_tokens': 0, 'reasoning_tokens': 0, 'rejected_prediction_tokens': 0}, 'prompt_tokens_details': {'audio_tokens': 0, 'cached_tokens': 0}}, 'model_name': 'gpt-4o-mini-2024-07-18', 'system_fingerprint': 'fp_44added55e', 'id': 'chatcmpl-BLKxn8MzpzrGtSvJjMtmLu1mIbALD', 'finish_reason': 'stop', 'logprobs': None}, id='run-af277fdc-e85e-4d50-a580-9810504f16e9-0', usage_metadata={'input_tokens': 2650, 'output_tokens': 1135, 'total_tokens': 3785, 'input_token_details': {'audio': 0, 'cache_read': 0}, 'output_token_details': {'audio': 0, 'reasoning': 0}}))]}}\n",
      "---\n"
     ]
    }
   ],
   "source": [
    "# 10. 실행 예시\n",
    "config = {\"recursion_limit\": 50}\n",
    "inputs = {\n",
    "    \"company\": \"Tesla\",\n",
    "    \"messages\": [],\n",
    "    \"analyses\": [],\n",
    "    \"combined_report\": \"\"\n",
    "}\n",
    "\n",
    "for output in app.stream(inputs, config):\n",
    "    if \"__end__\" not in output:\n",
    "        print(output)\n",
    "        print(\"---\")"
   ]
  },
  {
   "cell_type": "code",
   "execution_count": 9,
   "id": "c0a8166c",
   "metadata": {
    "execution": {
     "iopub.execute_input": "2024-10-28T22:24:22.148246Z",
     "iopub.status.busy": "2024-10-28T22:24:22.148246Z",
     "iopub.status.idle": "2024-10-28T22:24:22.155601Z",
     "shell.execute_reply": "2024-10-28T22:24:22.155601Z",
     "shell.execute_reply.started": "2024-10-28T22:24:22.148246Z"
    }
   },
   "outputs": [
    {
     "name": "stdout",
     "output_type": "stream",
     "text": [
      "# Tesla (TSLA) 기업 분석 보고서\n",
      "\n",
      "## 1. 요약\n",
      "Tesla는 전기차(EV) 시장에서 선도적인 위치를 차지하고 있으며, 강력한 브랜드 인지도와 다양화된 제품 라인업을 보유하고 있습니다. 최근 재무 분석 결과, Tesla는 견고한 유동성, 안정적인 수익성과 긍정적인 현금 흐름을 보여주고 있습니다. 그러나 생산 문제와 품질 관련 우려가 존재하며, 경쟁 심화가 예상됩니다. 이 보고서는 Tesla의 재무 성과, 주식 성과, 시장 위치, 위험 요소 및 기회를 종합적으로 분석합니다.\n",
      "\n",
      "## 2. 재무 분석\n",
      "### 재무 지표\n",
      "- **수익**: 2024년 3분기 기준, Tesla는 251억 8천만 달러의 수익을 기록하며 전년 대비 8% 증가하였습니다.\n",
      "- **순이익**: 같은 기간 순이익은 21억 7천만 달러로, 17% 증가하였습니다.\n",
      "- **유동성 비율**: 현재 비율은 1.7 이상으로, 단기 채무를 충족할 수 있는 안정적인 유동성 상태를 나타냅니다.\n",
      "- **부채 비율**: 부채 비율은 약 70%로, 적절한 재무 레버리지를 유지하고 있습니다.\n",
      "- **자산 관리 비율**: 총 자산 회전율은 0.195에서 0.248 사이로, 자산을 이용한 수익 창출에 대한 중간 정도의 효율성을 보여줍니다.\n",
      "\n",
      "### 재무 추세\n",
      "- **수익 성장**: Tesla의 수익은 변동성을 보였으나, 전반적으로 회복세를 보이고 있습니다. \n",
      "- **수익성 추세**: 총 이익률과 운영 이익률의 안정성은 수익 변동에도 불구하고 Tesla의 수익성을 유지하고 있음을 시사합니다.\n",
      "\n",
      "## 3. 주식 성과 분석\n",
      "### 가격 변화\n",
      "- **최소 가격**: $108.10\n",
      "- **최대 가격**: $293.34\n",
      "- **평균 가격**: $210.84\n",
      "- **변동성**: 표준 편차는 $37.45로, 상당한 가격 변동성을 나타냅니다.\n",
      "\n",
      "### 기술 지표\n",
      "- **SMA20**: $236.21 (단기 추세)\n",
      "- **SMA50**: $230.57 (장기 추세)\n",
      "- **RSI**: 64.60 (과매수 구역 접근)\n",
      "- **MACD**: 현재 MACD는 1.49로, 긍정적인 모멘텀을 나타냅니다.\n",
      "\n",
      "![Chart](./charts/nvda_stock_price.png)\n",
      "\n",
      "## 4. 시장 위치 분석\n",
      "### 시장 점유율\n",
      "Tesla는 현재 미국 EV 시장에서 약 60%의 점유율을 유지하고 있으나, 경쟁업체의 출현으로 점유율이 감소할 것으로 예상됩니다.\n",
      "\n",
      "### 강점과 약점\n",
      "- **강점**: 혁신적인 기술, 강력한 브랜드 인지도 및 다양한 제품 라인.\n",
      "- **약점**: 생산 지연 및 품질 문제.\n",
      "\n",
      "## 5. 위험 및 기회\n",
      "### 위험 요소\n",
      "- **경쟁 심화**: 전통 자동차 업체와 신규 EV 업체의 출현으로 가격 전쟁 가능성.\n",
      "- **품질 문제**: 고객 불만과 리콜 이슈가 브랜드 이미지에 영향을 미칠 수 있습니다.\n",
      "\n",
      "### 성장 기회\n",
      "- **글로벌 시장 확장**: EV에 대한 정부 지원 증가로 새로운 시장 진출 가능성.\n",
      "- **신제품 출시**: Cybertruck 및 저가형 전기차 출시로 고객층 확대.\n",
      "\n",
      "## 6. 투자 권장 사항\n",
      "Tesla는 높은 성장 잠재력을 가지고 있으나, 변동성이 크고 경쟁 심화로 인해 신중한 접근이 필요합니다. 다음과 같은 투자 권장 사항을 제안합니다:\n",
      "1. **장기 투자 고려**: Tesla의 지속적인 혁신과 시장 리더십을 감안할 때, 장기적인 투자 관점에서 긍정적입니다.\n",
      "2. **시장 동향 모니터링**: 경쟁업체의 움직임과 시장의 변화를 지속적으로 모니터링하여 투자 전략을 조정해야 합니다.\n",
      "3. **리스크 관리**: 고평가된 주식에 대한 리스크를 고려하여 포트폴리오 다각화를 추진해야 합니다.\n",
      "\n",
      "Tesla는 여전히 전기차 시장에서 강력한 입지를 유지하고 있으며, 향후 성장을 위한 전략적 접근이 필요합니다.\n"
     ]
    }
   ],
   "source": [
    "print(\"\"\"# Tesla (TSLA) 기업 분석 보고서\\n\\n## 1. 요약\\nTesla는 전기차(EV) 시장에서 선도적인 위치를 차지하고 있으며, 강력한 브랜드 인지도와 다양화된 제품 라인업을 보유하고 있습니다. 최근 재무 분석 결과, Tesla는 견고한 유동성, 안정적인 수익성과 긍정적인 현금 흐름을 보여주고 있습니다. 그러나 생산 문제와 품질 관련 우려가 존재하며, 경쟁 심화가 예상됩니다. 이 보고서는 Tesla의 재무 성과, 주식 성과, 시장 위치, 위험 요소 및 기회를 종합적으로 분석합니다.\\n\\n## 2. 재무 분석\\n### 재무 지표\\n- **수익**: 2024년 3분기 기준, Tesla는 251억 8천만 달러의 수익을 기록하며 전년 대비 8% 증가하였습니다.\\n- **순이익**: 같은 기간 순이익은 21억 7천만 달러로, 17% 증가하였습니다.\\n- **유동성 비율**: 현재 비율은 1.7 이상으로, 단기 채무를 충족할 수 있는 안정적인 유동성 상태를 나타냅니다.\\n- **부채 비율**: 부채 비율은 약 70%로, 적절한 재무 레버리지를 유지하고 있습니다.\\n- **자산 관리 비율**: 총 자산 회전율은 0.195에서 0.248 사이로, 자산을 이용한 수익 창출에 대한 중간 정도의 효율성을 보여줍니다.\\n\\n### 재무 추세\\n- **수익 성장**: Tesla의 수익은 변동성을 보였으나, 전반적으로 회복세를 보이고 있습니다. \\n- **수익성 추세**: 총 이익률과 운영 이익률의 안정성은 수익 변동에도 불구하고 Tesla의 수익성을 유지하고 있음을 시사합니다.\\n\\n## 3. 주식 성과 분석\\n### 가격 변화\\n- **최소 가격**: $108.10\\n- **최대 가격**: $293.34\\n- **평균 가격**: $210.84\\n- **변동성**: 표준 편차는 $37.45로, 상당한 가격 변동성을 나타냅니다.\\n\\n### 기술 지표\\n- **SMA20**: $236.21 (단기 추세)\\n- **SMA50**: $230.57 (장기 추세)\\n- **RSI**: 64.60 (과매수 구역 접근)\\n- **MACD**: 현재 MACD는 1.49로, 긍정적인 모멘텀을 나타냅니다.\\n\\n![Chart](./charts/nvda_stock_price.png)\\n\\n## 4. 시장 위치 분석\\n### 시장 점유율\\nTesla는 현재 미국 EV 시장에서 약 60%의 점유율을 유지하고 있으나, 경쟁업체의 출현으로 점유율이 감소할 것으로 예상됩니다.\\n\\n### 강점과 약점\\n- **강점**: 혁신적인 기술, 강력한 브랜드 인지도 및 다양한 제품 라인.\\n- **약점**: 생산 지연 및 품질 문제.\\n\\n## 5. 위험 및 기회\\n### 위험 요소\\n- **경쟁 심화**: 전통 자동차 업체와 신규 EV 업체의 출현으로 가격 전쟁 가능성.\\n- **품질 문제**: 고객 불만과 리콜 이슈가 브랜드 이미지에 영향을 미칠 수 있습니다.\\n\\n### 성장 기회\\n- **글로벌 시장 확장**: EV에 대한 정부 지원 증가로 새로운 시장 진출 가능성.\\n- **신제품 출시**: Cybertruck 및 저가형 전기차 출시로 고객층 확대.\\n\\n## 6. 투자 권장 사항\\nTesla는 높은 성장 잠재력을 가지고 있으나, 변동성이 크고 경쟁 심화로 인해 신중한 접근이 필요합니다. 다음과 같은 투자 권장 사항을 제안합니다:\\n1. **장기 투자 고려**: Tesla의 지속적인 혁신과 시장 리더십을 감안할 때, 장기적인 투자 관점에서 긍정적입니다.\\n2. **시장 동향 모니터링**: 경쟁업체의 움직임과 시장의 변화를 지속적으로 모니터링하여 투자 전략을 조정해야 합니다.\\n3. **리스크 관리**: 고평가된 주식에 대한 리스크를 고려하여 포트폴리오 다각화를 추진해야 합니다.\\n\\nTesla는 여전히 전기차 시장에서 강력한 입지를 유지하고 있으며, 향후 성장을 위한 전략적 접근이 필요합니다.\"\"\")"
   ]
  }
 ],
 "metadata": {
  "kernelspec": {
   "display_name": "Python 3 (ipykernel)",
   "language": "python",
   "name": "python3"
  },
  "language_info": {
   "codemirror_mode": {
    "name": "ipython",
    "version": 3
   },
   "file_extension": ".py",
   "mimetype": "text/x-python",
   "name": "python",
   "nbconvert_exporter": "python",
   "pygments_lexer": "ipython3",
   "version": "3.11.6"
  }
 },
 "nbformat": 4,
 "nbformat_minor": 5
}
