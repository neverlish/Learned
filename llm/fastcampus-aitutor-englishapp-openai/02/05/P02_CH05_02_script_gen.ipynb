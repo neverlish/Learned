{
 "cells": [
  {
   "cell_type": "code",
   "execution_count": 1,
   "id": "65b2be14-007d-443b-8a1a-f2e30375bdb0",
   "metadata": {},
   "outputs": [],
   "source": [
    "import json\n",
    "from typing import List\n",
    "\n",
    "from tqdm.notebook import tqdm\n",
    "from langchain_core.prompts import PromptTemplate, ChatPromptTemplate\n",
    "from langchain_core.runnables import RunnableParallel, RunnablePassthrough\n",
    "from langchain_openai import ChatOpenAI\n",
    "from langchain_core.output_parsers import JsonOutputParser\n",
    "from langchain.pydantic_v1 import BaseModel, Field\n",
    "from langchain.schema import HumanMessage, AIMessage, StrOutputParser\n",
    "import pandas as pd"
   ]
  },
  {
   "cell_type": "code",
   "execution_count": 2,
   "id": "7291e563-8f23-4da7-b71b-de8853150347",
   "metadata": {},
   "outputs": [],
   "source": [
    "model = ChatOpenAI(model=\"gpt-3.5-turbo\", temperature=1.0)"
   ]
  },
  {
   "cell_type": "code",
   "execution_count": 3,
   "id": "bf4509ff-b81f-4099-976d-45d5854c4316",
   "metadata": {},
   "outputs": [],
   "source": [
    "class Turn(BaseModel):\n",
    "    role: str = Field(\"사람 이름\")\n",
    "    content: str = Field(\"대화 내용\")\n",
    "    \n",
    "class Conversation(BaseModel):\n",
    "    conversation: List[Turn] = Field(\"두 사람의 대화 내용\")"
   ]
  },
  {
   "cell_type": "code",
   "execution_count": 4,
   "id": "d4c85298-b91a-4488-a94c-ba7ece8f1e72",
   "metadata": {},
   "outputs": [],
   "source": [
    "parser = JsonOutputParser(pydantic_object=Conversation)"
   ]
  },
  {
   "cell_type": "code",
   "execution_count": 5,
   "id": "fb71ecf8-445f-46e8-b4bf-5debd89148f9",
   "metadata": {},
   "outputs": [],
   "source": [
    "format_instruction = parser.get_format_instructions()"
   ]
  },
  {
   "cell_type": "markdown",
   "id": "843c5f07-fd2b-4758-8381-cf6301d80f34",
   "metadata": {},
   "source": [
    "## Fewshot Example 만들기"
   ]
  },
  {
   "cell_type": "code",
   "execution_count": 6,
   "id": "8beda20e-6f9f-42ac-8285-c679a25915a9",
   "metadata": {},
   "outputs": [],
   "source": [
    "prompt_template = PromptTemplate.from_template(template=\"영어 단어'{input}'에 대한 실생활 사용 예시 대화를 만들어줘. 아래 포맷으로 출력해줘.\\n{format_instruction}\",\n",
    "                                               partial_variables={\"format_instruction\": format_instruction})"
   ]
  },
  {
   "cell_type": "code",
   "execution_count": 7,
   "id": "e3ab3d8e-bd80-4b03-aae9-a0fd5967517b",
   "metadata": {},
   "outputs": [],
   "source": [
    "chain = {\"input\": RunnablePassthrough()}| prompt_template | model | parser"
   ]
  },
  {
   "cell_type": "code",
   "execution_count": 8,
   "id": "b7e67897-b44a-46f6-8d3c-f87b5afb1818",
   "metadata": {},
   "outputs": [],
   "source": [
    "example_1 = chain.invoke(\"question\")"
   ]
  },
  {
   "cell_type": "code",
   "execution_count": 9,
   "id": "5e610172-fdee-4c42-8c91-1f08128b25f8",
   "metadata": {},
   "outputs": [
    {
     "data": {
      "text/plain": [
       "{'conversation': [{'role': 'User', 'content': 'Can I ask you a question?'},\n",
       "  {'role': 'Assistant', 'content': 'Of course! What do you need help with?'},\n",
       "  {'role': 'User',\n",
       "   'content': 'I am having trouble understanding this concept.'},\n",
       "  {'role': 'Assistant',\n",
       "   'content': 'Sure! What specific aspect are you having difficulty with?'}]}"
      ]
     },
     "execution_count": 9,
     "metadata": {},
     "output_type": "execute_result"
    }
   ],
   "source": [
    "example_1"
   ]
  },
  {
   "cell_type": "code",
   "execution_count": 10,
   "id": "76c7ded9-a987-4ad4-bbb3-73c6d7d4c3b0",
   "metadata": {},
   "outputs": [],
   "source": [
    "example_2 = chain.invoke(\"occur\")"
   ]
  },
  {
   "cell_type": "code",
   "execution_count": 11,
   "id": "0e568b0d-f656-4589-a674-ad228250665a",
   "metadata": {},
   "outputs": [
    {
     "data": {
      "text/plain": [
       "{'conversation': [{'role': 'Person A',\n",
       "   'content': 'Hey, did you see what happened last night?'},\n",
       "  {'role': 'Person B', 'content': 'No, what occurred?'},\n",
       "  {'role': 'Person A',\n",
       "   'content': 'There was a car accident near the intersection.'},\n",
       "  {'role': 'Person B', 'content': 'Oh no! Did anyone get hurt?'}]}"
      ]
     },
     "execution_count": 11,
     "metadata": {},
     "output_type": "execute_result"
    }
   ],
   "source": [
    "example_2"
   ]
  },
  {
   "cell_type": "markdown",
   "id": "e4f74f61-5ec4-4c9c-9f4c-8967c97d7637",
   "metadata": {},
   "source": [
    "## Fewshot Example 적용해서 샘플링하기"
   ]
  },
  {
   "cell_type": "code",
   "execution_count": 12,
   "id": "df6ed5c0-8444-4c96-ad62-0a0a81e7e8e3",
   "metadata": {},
   "outputs": [],
   "source": [
    "example_1_json = json.dumps(example_1)\n",
    "example_2_json = json.dumps(example_2)"
   ]
  },
  {
   "cell_type": "code",
   "execution_count": 13,
   "id": "6353e5c7-24ed-4135-a381-be99f411914b",
   "metadata": {},
   "outputs": [
    {
     "data": {
      "text/plain": [
       "'{\"conversation\": [{\"role\": \"User\", \"content\": \"Can I ask you a question?\"}, {\"role\": \"Assistant\", \"content\": \"Of course! What do you need help with?\"}, {\"role\": \"User\", \"content\": \"I am having trouble understanding this concept.\"}, {\"role\": \"Assistant\", \"content\": \"Sure! What specific aspect are you having difficulty with?\"}]}'"
      ]
     },
     "execution_count": 13,
     "metadata": {},
     "output_type": "execute_result"
    }
   ],
   "source": [
    "example_1_json"
   ]
  },
  {
   "cell_type": "code",
   "execution_count": 14,
   "id": "e16b4f5b-4d43-4c16-ac73-e7056bfe2ef9",
   "metadata": {},
   "outputs": [
    {
     "data": {
      "text/plain": [
       "'{\"conversation\": [{\"role\": \"Person A\", \"content\": \"Hey, did you see what happened last night?\"}, {\"role\": \"Person B\", \"content\": \"No, what occurred?\"}, {\"role\": \"Person A\", \"content\": \"There was a car accident near the intersection.\"}, {\"role\": \"Person B\", \"content\": \"Oh no! Did anyone get hurt?\"}]}'"
      ]
     },
     "execution_count": 14,
     "metadata": {},
     "output_type": "execute_result"
    }
   ],
   "source": [
    "example_2_json"
   ]
  },
  {
   "cell_type": "code",
   "execution_count": 16,
   "id": "b220dbcc-86b3-4fa5-a941-f702ab7fa00e",
   "metadata": {},
   "outputs": [],
   "source": [
    "msgs = [\n",
    "    (\"human\", \"영어 단어'question'에 대한 실생활 사용 예시 대화를 만들어줘. 아래 포맷으로 출력해줘.\\n{format_instruction}\"),\n",
    "    (\"ai\", \"{example_1_json}\"),\n",
    "    (\"human\", \"영어 단어'occur'에 대한 실생활 사용 예시 대화를 만들어줘. 아래 포맷으로 출력해줘.\\n{format_instruction}\"),\n",
    "    (\"ai\", \"{example_2_json}\"),\n",
    "    (\"human\", \"영어 단어'{input}'에 대한 실생화 사용 예시 대화를 만들어줘. 아래 포맷으로 출력해줘.\\n{format_instruction}\")\n",
    "]"
   ]
  },
  {
   "cell_type": "code",
   "execution_count": 17,
   "id": "34e128cc-3ecb-484c-acbb-9ab650f0ff5c",
   "metadata": {},
   "outputs": [],
   "source": [
    "chat_prompt_template = ChatPromptTemplate.from_messages(msgs)"
   ]
  },
  {
   "cell_type": "code",
   "execution_count": 29,
   "id": "ce42fb2d-ed9e-4485-8fed-07b4afac0f70",
   "metadata": {},
   "outputs": [],
   "source": [
    "fewshot_chain = {\"input\": RunnablePassthrough(),\n",
    "                 \"format_instruction\": lambda _:format_instruction,\n",
    "                 \"example_1_json\": lambda _:example_1_json, \n",
    "                 \"example_2_json\": lambda _:example_2_json}  | chat_prompt_template | model | parser"
   ]
  },
  {
   "cell_type": "code",
   "execution_count": 30,
   "id": "66d8d526-4269-41d2-a89a-8e06653aec5e",
   "metadata": {},
   "outputs": [
    {
     "data": {
      "text/plain": [
       "{'conversation': [{'role': 'Person A',\n",
       "   'content': 'I heard there will be multiple guest speakers at the conference.'},\n",
       "  {'role': 'Person B',\n",
       "   'content': \"That's great! It will provide a diverse range of perspectives.\"},\n",
       "  {'role': 'Person A',\n",
       "   'content': 'Yes, it will be a valuable opportunity to learn from multiple experts in the field.'},\n",
       "  {'role': 'Person B', 'content': \"I'm looking forward to it!\"}]}"
      ]
     },
     "execution_count": 30,
     "metadata": {},
     "output_type": "execute_result"
    }
   ],
   "source": [
    "out = fewshot_chain.invoke(\"multiple\")\n",
    "out"
   ]
  },
  {
   "cell_type": "markdown",
   "id": "d4a23933-7237-4067-a2a3-0ab7c21f84bb",
   "metadata": {},
   "source": [
    "## Load Excel and Save"
   ]
  },
  {
   "cell_type": "code",
   "execution_count": 20,
   "id": "c3cd3198-9823-4fe0-b620-adcdf72c31f6",
   "metadata": {},
   "outputs": [],
   "source": [
    "df = pd.read_excel(\"./words.xlsx\")"
   ]
  },
  {
   "cell_type": "code",
   "execution_count": 25,
   "id": "495a91f0-3037-4d6d-9e76-e3edf0a23b50",
   "metadata": {},
   "outputs": [
    {
     "data": {
      "text/html": [
       "<div>\n",
       "<style scoped>\n",
       "    .dataframe tbody tr th:only-of-type {\n",
       "        vertical-align: middle;\n",
       "    }\n",
       "\n",
       "    .dataframe tbody tr th {\n",
       "        vertical-align: top;\n",
       "    }\n",
       "\n",
       "    .dataframe thead th {\n",
       "        text-align: right;\n",
       "    }\n",
       "</style>\n",
       "<table border=\"1\" class=\"dataframe\">\n",
       "  <thead>\n",
       "    <tr style=\"text-align: right;\">\n",
       "      <th></th>\n",
       "      <th>word</th>\n",
       "      <th>imoj</th>\n",
       "      <th>meaning</th>\n",
       "    </tr>\n",
       "  </thead>\n",
       "  <tbody>\n",
       "    <tr>\n",
       "      <th>0</th>\n",
       "      <td>effort</td>\n",
       "      <td>💪</td>\n",
       "      <td>effort은 노력이나 수고를 의미합니다. 그것은 어떤 일을 이루기 위해 투자한 에...</td>\n",
       "    </tr>\n",
       "    <tr>\n",
       "      <th>1</th>\n",
       "      <td>excitement</td>\n",
       "      <td>🎉</td>\n",
       "      <td>excitement은 흥분이나 설렘을 의미합니다. 어떤 일이나 사건이 특히 기쁘거나...</td>\n",
       "    </tr>\n",
       "    <tr>\n",
       "      <th>2</th>\n",
       "      <td>love</td>\n",
       "      <td>❤️</td>\n",
       "      <td>love은 강한 애정이나 연애, 친밀한 관계를 의미합니다. 또한 사랑은 다른 사람에...</td>\n",
       "    </tr>\n",
       "    <tr>\n",
       "      <th>3</th>\n",
       "      <td>friendship</td>\n",
       "      <td>👫</td>\n",
       "      <td>friendship은 친구 사이의 관계를 의미합니다. 이는 서로 신뢰하고 존중하는 ...</td>\n",
       "    </tr>\n",
       "    <tr>\n",
       "      <th>4</th>\n",
       "      <td>excited</td>\n",
       "      <td>🎉</td>\n",
       "      <td>excited는 흥분한, 들뜬 감정이나 기분을 나타냅니다. 이 단어는 기대했던 일이...</td>\n",
       "    </tr>\n",
       "    <tr>\n",
       "      <th>5</th>\n",
       "      <td>success</td>\n",
       "      <td>🎉</td>\n",
       "      <td>success는 성공을 의미합니다. 어떤 목표를 달성하거나 원하는 결과를 얻었을 때...</td>\n",
       "    </tr>\n",
       "    <tr>\n",
       "      <th>6</th>\n",
       "      <td>success</td>\n",
       "      <td>NaN</td>\n",
       "      <td>success는 성공이나 성취를 의미합니다. 어떤 목표를 달성하거나 원하는 결과를 ...</td>\n",
       "    </tr>\n",
       "    <tr>\n",
       "      <th>7</th>\n",
       "      <td>happy</td>\n",
       "      <td>😃</td>\n",
       "      <td>happy는 기쁨이나 만족감을 의미합니다. 그것은 긍정적인 감정이나 좋은 상태를 표...</td>\n",
       "    </tr>\n",
       "    <tr>\n",
       "      <th>8</th>\n",
       "      <td>success</td>\n",
       "      <td>🎉</td>\n",
       "      <td>success은 성공이나 성취를 의미합니다. 어떤 목표나 업적을 달성하거나 원하는 ...</td>\n",
       "    </tr>\n",
       "    <tr>\n",
       "      <th>9</th>\n",
       "      <td>laughter</td>\n",
       "      <td>😂</td>\n",
       "      <td>laughter는 웃음을 의미합니다. 그것은 기쁨, 유쾌함, 웃기거나 재미있는 것으...</td>\n",
       "    </tr>\n",
       "  </tbody>\n",
       "</table>\n",
       "</div>"
      ],
      "text/plain": [
       "         word imoj                                            meaning\n",
       "0      effort    💪  effort은 노력이나 수고를 의미합니다. 그것은 어떤 일을 이루기 위해 투자한 에...\n",
       "1  excitement    🎉  excitement은 흥분이나 설렘을 의미합니다. 어떤 일이나 사건이 특히 기쁘거나...\n",
       "2        love   ❤️  love은 강한 애정이나 연애, 친밀한 관계를 의미합니다. 또한 사랑은 다른 사람에...\n",
       "3  friendship    👫  friendship은 친구 사이의 관계를 의미합니다. 이는 서로 신뢰하고 존중하는 ...\n",
       "4     excited    🎉  excited는 흥분한, 들뜬 감정이나 기분을 나타냅니다. 이 단어는 기대했던 일이...\n",
       "5     success    🎉  success는 성공을 의미합니다. 어떤 목표를 달성하거나 원하는 결과를 얻었을 때...\n",
       "6     success  NaN  success는 성공이나 성취를 의미합니다. 어떤 목표를 달성하거나 원하는 결과를 ...\n",
       "7       happy    😃  happy는 기쁨이나 만족감을 의미합니다. 그것은 긍정적인 감정이나 좋은 상태를 표...\n",
       "8     success    🎉  success은 성공이나 성취를 의미합니다. 어떤 목표나 업적을 달성하거나 원하는 ...\n",
       "9    laughter    😂  laughter는 웃음을 의미합니다. 그것은 기쁨, 유쾌함, 웃기거나 재미있는 것으..."
      ]
     },
     "execution_count": 25,
     "metadata": {},
     "output_type": "execute_result"
    }
   ],
   "source": [
    "df"
   ]
  },
  {
   "cell_type": "code",
   "execution_count": 34,
   "id": "64f87b82-6f4b-43a6-9d51-6e385c6b7429",
   "metadata": {},
   "outputs": [],
   "source": [
    "fewshot_chain = {\"input\": RunnablePassthrough(),\n",
    "                 \"format_instruction\": lambda _:format_instruction,\n",
    "                 \"example_1_json\": lambda _:example_1_json, \n",
    "                 \"example_2_json\": lambda _:example_2_json}  | chat_prompt_template | model | StrOutputParser() # json그대로 저장 할것이기 때문에 "
   ]
  },
  {
   "cell_type": "code",
   "execution_count": 35,
   "id": "eedac0cd-878f-446a-9ca7-3e6bc8b45dd3",
   "metadata": {},
   "outputs": [],
   "source": [
    "df[\"usage\"] = df.apply(lambda row: fewshot_chain.invoke(row[\"word\"]), axis=1)"
   ]
  },
  {
   "cell_type": "code",
   "execution_count": 36,
   "id": "e108f493-168e-4f69-b2ba-dfed93c748b9",
   "metadata": {},
   "outputs": [],
   "source": [
    "df.to_excel(\"./words.xlsx\", index=False)"
   ]
  },
  {
   "cell_type": "code",
   "execution_count": 37,
   "id": "0ad9f277-0657-446d-9a6a-44c031a9f849",
   "metadata": {},
   "outputs": [
    {
     "data": {
      "text/html": [
       "<div>\n",
       "<style scoped>\n",
       "    .dataframe tbody tr th:only-of-type {\n",
       "        vertical-align: middle;\n",
       "    }\n",
       "\n",
       "    .dataframe tbody tr th {\n",
       "        vertical-align: top;\n",
       "    }\n",
       "\n",
       "    .dataframe thead th {\n",
       "        text-align: right;\n",
       "    }\n",
       "</style>\n",
       "<table border=\"1\" class=\"dataframe\">\n",
       "  <thead>\n",
       "    <tr style=\"text-align: right;\">\n",
       "      <th></th>\n",
       "      <th>word</th>\n",
       "      <th>imoj</th>\n",
       "      <th>meaning</th>\n",
       "      <th>usage</th>\n",
       "    </tr>\n",
       "  </thead>\n",
       "  <tbody>\n",
       "    <tr>\n",
       "      <th>0</th>\n",
       "      <td>effort</td>\n",
       "      <td>💪</td>\n",
       "      <td>effort은 노력이나 수고를 의미합니다. 그것은 어떤 일을 이루기 위해 투자한 에...</td>\n",
       "      <td>{\"conversation\": [{\"role\": \"Person A\", \"conten...</td>\n",
       "    </tr>\n",
       "    <tr>\n",
       "      <th>1</th>\n",
       "      <td>excitement</td>\n",
       "      <td>🎉</td>\n",
       "      <td>excitement은 흥분이나 설렘을 의미합니다. 어떤 일이나 사건이 특히 기쁘거나...</td>\n",
       "      <td>{\"conversation\": [{\"role\": \"Person A\", \"conten...</td>\n",
       "    </tr>\n",
       "    <tr>\n",
       "      <th>2</th>\n",
       "      <td>love</td>\n",
       "      <td>❤️</td>\n",
       "      <td>love은 강한 애정이나 연애, 친밀한 관계를 의미합니다. 또한 사랑은 다른 사람에...</td>\n",
       "      <td>{\"conversation\": [{\"role\": \"Person A\", \"conten...</td>\n",
       "    </tr>\n",
       "    <tr>\n",
       "      <th>3</th>\n",
       "      <td>friendship</td>\n",
       "      <td>👫</td>\n",
       "      <td>friendship은 친구 사이의 관계를 의미합니다. 이는 서로 신뢰하고 존중하는 ...</td>\n",
       "      <td>{\"conversation\": [{\"role\": \"Person A\", \"conten...</td>\n",
       "    </tr>\n",
       "    <tr>\n",
       "      <th>4</th>\n",
       "      <td>excited</td>\n",
       "      <td>🎉</td>\n",
       "      <td>excited는 흥분한, 들뜬 감정이나 기분을 나타냅니다. 이 단어는 기대했던 일이...</td>\n",
       "      <td>{\"conversation\": [{\"role\": \"Person A\", \"conten...</td>\n",
       "    </tr>\n",
       "    <tr>\n",
       "      <th>5</th>\n",
       "      <td>success</td>\n",
       "      <td>🎉</td>\n",
       "      <td>success는 성공을 의미합니다. 어떤 목표를 달성하거나 원하는 결과를 얻었을 때...</td>\n",
       "      <td>{\"conversation\": [{\"role\": \"Person A\", \"conten...</td>\n",
       "    </tr>\n",
       "    <tr>\n",
       "      <th>6</th>\n",
       "      <td>success</td>\n",
       "      <td>NaN</td>\n",
       "      <td>success는 성공이나 성취를 의미합니다. 어떤 목표를 달성하거나 원하는 결과를 ...</td>\n",
       "      <td>{\"conversation\": [{\"role\": \"Person A\", \"conten...</td>\n",
       "    </tr>\n",
       "    <tr>\n",
       "      <th>7</th>\n",
       "      <td>happy</td>\n",
       "      <td>😃</td>\n",
       "      <td>happy는 기쁨이나 만족감을 의미합니다. 그것은 긍정적인 감정이나 좋은 상태를 표...</td>\n",
       "      <td>{\"conversation\": [{\"role\": \"Person A\", \"conten...</td>\n",
       "    </tr>\n",
       "    <tr>\n",
       "      <th>8</th>\n",
       "      <td>success</td>\n",
       "      <td>🎉</td>\n",
       "      <td>success은 성공이나 성취를 의미합니다. 어떤 목표나 업적을 달성하거나 원하는 ...</td>\n",
       "      <td>{\"conversation\": [{\"role\": \"Person A\", \"conten...</td>\n",
       "    </tr>\n",
       "    <tr>\n",
       "      <th>9</th>\n",
       "      <td>laughter</td>\n",
       "      <td>😂</td>\n",
       "      <td>laughter는 웃음을 의미합니다. 그것은 기쁨, 유쾌함, 웃기거나 재미있는 것으...</td>\n",
       "      <td>{\"conversation\": [{\"role\": \"Person A\", \"conten...</td>\n",
       "    </tr>\n",
       "  </tbody>\n",
       "</table>\n",
       "</div>"
      ],
      "text/plain": [
       "         word imoj                                            meaning  \\\n",
       "0      effort    💪  effort은 노력이나 수고를 의미합니다. 그것은 어떤 일을 이루기 위해 투자한 에...   \n",
       "1  excitement    🎉  excitement은 흥분이나 설렘을 의미합니다. 어떤 일이나 사건이 특히 기쁘거나...   \n",
       "2        love   ❤️  love은 강한 애정이나 연애, 친밀한 관계를 의미합니다. 또한 사랑은 다른 사람에...   \n",
       "3  friendship    👫  friendship은 친구 사이의 관계를 의미합니다. 이는 서로 신뢰하고 존중하는 ...   \n",
       "4     excited    🎉  excited는 흥분한, 들뜬 감정이나 기분을 나타냅니다. 이 단어는 기대했던 일이...   \n",
       "5     success    🎉  success는 성공을 의미합니다. 어떤 목표를 달성하거나 원하는 결과를 얻었을 때...   \n",
       "6     success  NaN  success는 성공이나 성취를 의미합니다. 어떤 목표를 달성하거나 원하는 결과를 ...   \n",
       "7       happy    😃  happy는 기쁨이나 만족감을 의미합니다. 그것은 긍정적인 감정이나 좋은 상태를 표...   \n",
       "8     success    🎉  success은 성공이나 성취를 의미합니다. 어떤 목표나 업적을 달성하거나 원하는 ...   \n",
       "9    laughter    😂  laughter는 웃음을 의미합니다. 그것은 기쁨, 유쾌함, 웃기거나 재미있는 것으...   \n",
       "\n",
       "                                               usage  \n",
       "0  {\"conversation\": [{\"role\": \"Person A\", \"conten...  \n",
       "1  {\"conversation\": [{\"role\": \"Person A\", \"conten...  \n",
       "2  {\"conversation\": [{\"role\": \"Person A\", \"conten...  \n",
       "3  {\"conversation\": [{\"role\": \"Person A\", \"conten...  \n",
       "4  {\"conversation\": [{\"role\": \"Person A\", \"conten...  \n",
       "5  {\"conversation\": [{\"role\": \"Person A\", \"conten...  \n",
       "6  {\"conversation\": [{\"role\": \"Person A\", \"conten...  \n",
       "7  {\"conversation\": [{\"role\": \"Person A\", \"conten...  \n",
       "8  {\"conversation\": [{\"role\": \"Person A\", \"conten...  \n",
       "9  {\"conversation\": [{\"role\": \"Person A\", \"conten...  "
      ]
     },
     "execution_count": 37,
     "metadata": {},
     "output_type": "execute_result"
    }
   ],
   "source": [
    "df"
   ]
  },
  {
   "cell_type": "code",
   "execution_count": null,
   "id": "48db85c7-3139-4836-97f5-ef0825ebe8bd",
   "metadata": {},
   "outputs": [],
   "source": []
  }
 ],
 "metadata": {
  "kernelspec": {
   "display_name": "Python 3 (ipykernel)",
   "language": "python",
   "name": "python3"
  },
  "language_info": {
   "codemirror_mode": {
    "name": "ipython",
    "version": 3
   },
   "file_extension": ".py",
   "mimetype": "text/x-python",
   "name": "python",
   "nbconvert_exporter": "python",
   "pygments_lexer": "ipython3",
   "version": "3.11.5"
  }
 },
 "nbformat": 4,
 "nbformat_minor": 5
}
