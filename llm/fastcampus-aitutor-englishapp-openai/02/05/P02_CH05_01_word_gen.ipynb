{
 "cells": [
  {
   "cell_type": "markdown",
   "id": "2d57c34e-fe6c-4817-8f81-7074cf024801",
   "metadata": {},
   "source": [
    "# 오늘의 영어 단어 생성하기"
   ]
  },
  {
   "cell_type": "code",
   "execution_count": 1,
   "id": "d1e44154-89a2-495d-8066-144adfaa660f",
   "metadata": {},
   "outputs": [],
   "source": [
    "import json\n",
    "\n",
    "from tqdm.notebook import tqdm\n",
    "from langchain_core.prompts import PromptTemplate\n",
    "from langchain_openai import ChatOpenAI\n",
    "from langchain_core.output_parsers import JsonOutputParser\n",
    "from langchain.pydantic_v1 import BaseModel, Field\n",
    "from langchain.schema import HumanMessage, AIMessage\n",
    "import pandas as pd"
   ]
  },
  {
   "cell_type": "code",
   "execution_count": 2,
   "id": "559e7cbe-faab-4c5f-8110-27d33981b346",
   "metadata": {},
   "outputs": [],
   "source": [
    "model = ChatOpenAI(model=\"gpt-3.5-turbo\", temperature=1.0)"
   ]
  },
  {
   "cell_type": "code",
   "execution_count": 3,
   "id": "4da16463-e4c9-48d7-9c4c-9ccc7ea343bd",
   "metadata": {},
   "outputs": [],
   "source": [
    "class Word(BaseModel):\n",
    "    word: str = Field(\"영어 단어\")\n",
    "    imoj: str = Field(\"word에 어울리는 적절한 이모지\")\n",
    "    meaning: str = Field(\"word의 의미, 뜻 한국어로\")"
   ]
  },
  {
   "cell_type": "code",
   "execution_count": 4,
   "id": "b2212e45-9dcc-4d4a-a9cd-46f94b36502d",
   "metadata": {},
   "outputs": [],
   "source": [
    "parser = JsonOutputParser(pydantic_object=Word)"
   ]
  },
  {
   "cell_type": "code",
   "execution_count": 5,
   "id": "07337f8a-7e9a-4e39-8b0b-33194a2ee510",
   "metadata": {},
   "outputs": [],
   "source": [
    "format_instruction = parser.get_format_instructions()"
   ]
  },
  {
   "cell_type": "code",
   "execution_count": 6,
   "id": "d3ad55f8-7e43-435d-b6cb-592291f39496",
   "metadata": {},
   "outputs": [],
   "source": [
    "fewshot = [\n",
    "    HumanMessage(content=f\"영어 단어 하나와 그 단어에 어울리는 이모지와 그 뜻을 만들어줘. 포맷은 다음을 따라 만들어줘\\n{format_instruction}\"),\n",
    "    AIMessage(content='{\"word\": \"situation\", \"imoj\": \"🤔\", \"meaning\": \"situation은 어떤 일이 일어나고 있는 특정한 장소나 시간을 말합니다. 또한 그것은 어떤 것의 현재 상태나 조건을 가리킬 수도 있습니다. situation은 문제나 어려움이 발생한 상황을 강조하기 위해 사용될 수 있습니다.\"}'),\n",
    "    HumanMessage(content=f\"영어 단어 하나와 그 단어에 어울리는 이모지와 그 뜻을 만들어줘. 포맷은 다음을 따라 만들어줘\\n{format_instruction}\"),\n",
    "    AIMessage(content='{\"word\": \"concern\", \"imoj\": \"😟\", \"meaning\": \"concern은 걱정이나 근심을 의미합니다. 그것은 누군가에게 감정적으로나 육체적으로 영향을 미칠 수 있는 무언가에 대한 관심이나 걱정을 나타낼 수 있습니다. concern은 또한 중요성이나 관련성을 의미할 수도 있습니다.\"}'),\n",
    "    HumanMessage(content=f\"영어 단어 하나와 그 단어에 어울리는 이모지와 그 뜻을 만들어줘. 포맷은 다음을 따라 만들어줘\\n{format_instruction}\"),\n",
    "]"
   ]
  },
  {
   "cell_type": "code",
   "execution_count": 7,
   "id": "d604982e-f8d1-4d33-8d0d-cf9f5be0d3f9",
   "metadata": {},
   "outputs": [],
   "source": [
    "chain = model | parser"
   ]
  },
  {
   "cell_type": "code",
   "execution_count": 8,
   "id": "5e042fe6-e3c0-465f-baab-e9b8c6d7625b",
   "metadata": {},
   "outputs": [
    {
     "data": {
      "text/plain": [
       "{'word': 'love',\n",
       " 'imoj': '❤️',\n",
       " 'meaning': 'love는 강한 감정적인 애착이나 애정을 의미합니다. 그것은 다른 사람이나 사물에 대한 열정적인 애정이나 관심을 나타낼 수 있습니다. love는 또한 친절하고 배려심 있는 행동, 상대에 대한 관심과 존경을 포함할 수도 있습니다.'}"
      ]
     },
     "execution_count": 8,
     "metadata": {},
     "output_type": "execute_result"
    }
   ],
   "source": [
    "chain.invoke(fewshot)"
   ]
  },
  {
   "cell_type": "code",
   "execution_count": 9,
   "id": "44d5e8fe-1486-408c-bcd2-aa1c70a5f0a8",
   "metadata": {},
   "outputs": [],
   "source": [
    "sample_list = []\n",
    "n_sample = 10\n",
    "for _ in tqdm(range(10), total=n_sample):\n",
    "    sample = chain.invoke(fewshot)\n",
    "    sample_list.append(sample)\n",
    "    "
   ]
  },
  {
   "cell_type": "code",
   "execution_count": 10,
   "id": "653ae5e8-7e7c-41cf-a7f1-fe7840ee51a3",
   "metadata": {},
   "outputs": [],
   "source": [
    "df = pd.DataFrame(sample_list)"
   ]
  },
  {
   "cell_type": "code",
   "execution_count": 11,
   "id": "e5a20560-cf3d-4223-9520-d4a3d3dea5bb",
   "metadata": {},
   "outputs": [],
   "source": [
    "df.to_excel(\"./words.xlsx\", index=False)"
   ]
  },
  {
   "cell_type": "code",
   "execution_count": null,
   "id": "c7bbcd3c-d54d-4725-9ca2-192b1610ca23",
   "metadata": {},
   "outputs": [],
   "source": []
  }
 ],
 "metadata": {
  "kernelspec": {
   "display_name": "Python 3 (ipykernel)",
   "language": "python",
   "name": "python3"
  },
  "language_info": {
   "codemirror_mode": {
    "name": "ipython",
    "version": 3
   },
   "file_extension": ".py",
   "mimetype": "text/x-python",
   "name": "python",
   "nbconvert_exporter": "python",
   "pygments_lexer": "ipython3",
   "version": "3.11.5"
  }
 },
 "nbformat": 4,
 "nbformat_minor": 5
}
