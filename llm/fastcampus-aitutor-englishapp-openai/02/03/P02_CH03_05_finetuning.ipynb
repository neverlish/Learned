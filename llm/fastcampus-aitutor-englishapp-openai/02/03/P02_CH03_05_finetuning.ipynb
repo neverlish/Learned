{
 "cells": [
  {
   "cell_type": "markdown",
   "id": "6579f1d6-a64e-4587-9259-966fb4447848",
   "metadata": {},
   "source": [
    "# Fine-tuning을 이용한 AI에게 인격 부여하기\n",
    "## OpenAI Fine-tuning API로 학습하고 대화하기"
   ]
  },
  {
   "cell_type": "code",
   "execution_count": null,
   "id": "b27d31dc-20de-46cd-aef5-df20eceeb8d7",
   "metadata": {},
   "outputs": [],
   "source": [
    "from openai import OpenAI"
   ]
  },
  {
   "cell_type": "code",
   "execution_count": null,
   "id": "3df5de88-3535-46c2-aa81-7e1de2038155",
   "metadata": {},
   "outputs": [],
   "source": [
    "client = OpenAI()"
   ]
  },
  {
   "cell_type": "markdown",
   "id": "f4d7828f-f971-4fde-bfa4-eaf63f23ccc9",
   "metadata": {},
   "source": [
    "## Upload File"
   ]
  },
  {
   "cell_type": "code",
   "execution_count": null,
   "id": "a97c475c-e64c-4c1c-95c1-4cc3a3c9a6bf",
   "metadata": {},
   "outputs": [],
   "source": [
    "train_file = client.files.create(\n",
    "  file=open(\"train.jsonl\", \"rb\"),\n",
    "  purpose=\"fine-tune\"\n",
    ")"
   ]
  },
  {
   "cell_type": "code",
   "execution_count": null,
   "id": "1633001a-636a-4d42-b34c-1d94e325d0c9",
   "metadata": {},
   "outputs": [],
   "source": [
    "train_file"
   ]
  },
  {
   "cell_type": "code",
   "execution_count": null,
   "id": "735ef446-557a-4a06-a356-ecfd2a9b47d5",
   "metadata": {},
   "outputs": [],
   "source": [
    "train_file.dict()"
   ]
  },
  {
   "cell_type": "code",
   "execution_count": null,
   "id": "d0dac8c1-6446-47ea-9d95-0b617cbcec5e",
   "metadata": {},
   "outputs": [],
   "source": [
    "train_file.id"
   ]
  },
  {
   "cell_type": "code",
   "execution_count": null,
   "id": "5fbbec8a-5fb0-4e29-beb2-38f30d159855",
   "metadata": {},
   "outputs": [],
   "source": [
    "valid_file = client.files.create(\n",
    "  file=open(\"valid.jsonl\", \"rb\"),\n",
    "  purpose=\"fine-tune\"\n",
    ")"
   ]
  },
  {
   "cell_type": "code",
   "execution_count": null,
   "id": "39eeb93f-e294-4e3c-ad75-4c9e2a7cef43",
   "metadata": {},
   "outputs": [],
   "source": [
    "valid_file"
   ]
  },
  {
   "cell_type": "code",
   "execution_count": null,
   "id": "40780f8d-1aa2-4d3e-a30b-5bf2fb272185",
   "metadata": {},
   "outputs": [],
   "source": [
    "valid_file.dict()"
   ]
  },
  {
   "cell_type": "code",
   "execution_count": null,
   "id": "c66de934-7f7e-4d4d-a3c0-1213634e0ea8",
   "metadata": {},
   "outputs": [],
   "source": [
    "valid_file.id"
   ]
  },
  {
   "cell_type": "markdown",
   "id": "13707053-4c8b-4979-bb95-4c6767734af0",
   "metadata": {},
   "source": [
    "## Finetuning"
   ]
  },
  {
   "cell_type": "markdown",
   "id": "f46ff6b2-4b67-47c0-8634-9520f900b8c5",
   "metadata": {},
   "source": [
    "### Finetuning job 제출하기"
   ]
  },
  {
   "cell_type": "code",
   "execution_count": null,
   "id": "ad8bd6ab-6a64-49f9-a541-cc8b6c63f236",
   "metadata": {},
   "outputs": [],
   "source": [
    "job = client.fine_tuning.jobs.create(\n",
    "  training_file=train_file.id,\n",
    "  validation_file=valid_file.id, \n",
    "  model=\"gpt-3.5-turbo-1106\",\n",
    "  hyperparameters={\n",
    "    \"n_epochs\": 1 # default: 3\n",
    "  }\n",
    ")"
   ]
  },
  {
   "cell_type": "code",
   "execution_count": null,
   "id": "6c84852f-9cd6-4aa7-89e2-ffc89b793bbd",
   "metadata": {},
   "outputs": [],
   "source": [
    "job"
   ]
  },
  {
   "cell_type": "code",
   "execution_count": null,
   "id": "0e483009-4d49-420e-8d75-24c88fc00b72",
   "metadata": {},
   "outputs": [],
   "source": [
    "job.dict()"
   ]
  },
  {
   "cell_type": "code",
   "execution_count": null,
   "id": "eef49ad7-f745-4bb0-9f24-54e96fab2295",
   "metadata": {},
   "outputs": [],
   "source": [
    "job.id"
   ]
  },
  {
   "cell_type": "code",
   "execution_count": null,
   "id": "b6c474a0-7d39-4f33-85ee-b77baf70f98b",
   "metadata": {},
   "outputs": [],
   "source": [
    "print(\"Job ID:\", job.id)\n",
    "print(\"Status:\", job.status)"
   ]
  },
  {
   "cell_type": "markdown",
   "id": "8e36e121-8bd6-4273-8540-c132b2970a7e",
   "metadata": {},
   "source": [
    "### Finetuning job들 가져오기"
   ]
  },
  {
   "cell_type": "code",
   "execution_count": null,
   "id": "6c81e496-d1d3-48c5-8951-15e612a4cb0d",
   "metadata": {},
   "outputs": [],
   "source": [
    "resp = client.fine_tuning.jobs.list(limit=10)"
   ]
  },
  {
   "cell_type": "code",
   "execution_count": null,
   "id": "6ccf4d8b-85a5-4992-806f-7b6def93cab9",
   "metadata": {},
   "outputs": [],
   "source": [
    "resp.dict()"
   ]
  },
  {
   "cell_type": "markdown",
   "id": "564f4084-55df-42e9-b90c-6f24457486fd",
   "metadata": {},
   "source": [
    "### 현재 Finetuning 상태 가져오기\n"
   ]
  },
  {
   "cell_type": "code",
   "execution_count": null,
   "id": "24d84aca-ccde-453c-8d64-e0a04a140988",
   "metadata": {},
   "outputs": [],
   "source": [
    "job = client.fine_tuning.jobs.retrieve(job.id)"
   ]
  },
  {
   "cell_type": "code",
   "execution_count": null,
   "id": "e9868cf5-91ad-485f-8ca6-b71b17eb1069",
   "metadata": {},
   "outputs": [],
   "source": [
    "job.dict()"
   ]
  },
  {
   "cell_type": "code",
   "execution_count": null,
   "id": "5efaa8f7-54b9-43a8-85a9-12aabf5f91b1",
   "metadata": {},
   "outputs": [],
   "source": [
    "print(\"Job ID:\", job.id)\n",
    "print(\"Status:\", job.status)"
   ]
  },
  {
   "cell_type": "markdown",
   "id": "5101072f-119b-40bc-b5c1-6654d8cc0990",
   "metadata": {},
   "source": [
    "### Finetuning job 캔슬하기"
   ]
  },
  {
   "cell_type": "code",
   "execution_count": null,
   "id": "7ebd0472-6dae-47ae-af15-e930b2f566ba",
   "metadata": {},
   "outputs": [],
   "source": [
    "# client.fine_tuning.jobs.cancel(job.id)"
   ]
  },
  {
   "cell_type": "markdown",
   "id": "03d9feec-80b8-4ab1-904e-367e850de6ae",
   "metadata": {},
   "source": [
    "### 학습 과정 확인하기"
   ]
  },
  {
   "cell_type": "code",
   "execution_count": null,
   "id": "dd141a4a-4af9-48ce-8d37-56549bf7a373",
   "metadata": {},
   "outputs": [],
   "source": [
    "# List up to 10 events from a fine-tuning job\n",
    "response = client.fine_tuning.jobs.list_events(fine_tuning_job_id=job.id, limit=10)\n",
    "events = response.data\n",
    "events.reverse()\n",
    "\n",
    "for event in events:\n",
    "    print(event.message)"
   ]
  },
  {
   "cell_type": "markdown",
   "id": "d72ba731-4515-42ad-898e-4f74fc1bf699",
   "metadata": {},
   "source": [
    "### Finetuning 모델 삭제하기"
   ]
  },
  {
   "cell_type": "code",
   "execution_count": null,
   "id": "a4189ee5-4271-44d7-8e94-c9ed285936ad",
   "metadata": {},
   "outputs": [],
   "source": [
    "# Delete a fine-tuned model (must be an owner of the org the model was created in)\n",
    "client.models.delete(\"ft:gpt-3.5-turbo:acemeco:suffix:abc123\")"
   ]
  },
  {
   "cell_type": "markdown",
   "id": "53cdfecb-8872-4032-8c3d-78f14c18da1d",
   "metadata": {},
   "source": [
    "# Finetuning된 모델 Inference하기"
   ]
  },
  {
   "cell_type": "code",
   "execution_count": 3,
   "id": "f6986956-a851-4a78-b648-ba70cad1aa38",
   "metadata": {},
   "outputs": [],
   "source": [
    "import os\n",
    "from openai import OpenAI\n",
    "client = OpenAI()"
   ]
  },
  {
   "cell_type": "code",
   "execution_count": 4,
   "id": "40bb7917-27f2-475c-b83b-e6ba11614fd9",
   "metadata": {},
   "outputs": [],
   "source": [
    "system_prompt =\"\"\"\\\n",
    "- 너는 햄버거 가게의 직원이다.\n",
    "- 아래의 단계로 질문을 한다.\n",
    "1. 주문 할 메뉴 묻기\n",
    "2. 더 주문 할 것이 없는지 묻기\n",
    "3. 여기서 먹을지 가져가서 먹을지 질문한다.\n",
    "4. 카드로 계산할지 현금으로 계산할지 질문한다.\n",
    "4. 주문이 완료되면 인사를 하고 [END] 라고 이야기한다.\n",
    "- 너는 영어로 답한다.\"\"\""
   ]
  },
  {
   "cell_type": "code",
   "execution_count": 4,
   "id": "87b69c53-d83b-4edc-9572-0efb6db729d9",
   "metadata": {},
   "outputs": [],
   "source": [
    "model = \"ft:gpt-3.5-turbo-1106:liam::8gr0Gkrs\""
   ]
  },
  {
   "cell_type": "code",
   "execution_count": 6,
   "id": "bb648d60-1deb-44c6-9bd7-a065ee3b113d",
   "metadata": {},
   "outputs": [
    {
     "name": "stdout",
     "output_type": "stream",
     "text": [
      "긍정\n"
     ]
    }
   ],
   "source": [
    "response = client.chat.completions.create(\n",
    "  model=model,\n",
    "  messages=[\n",
    "    {\"role\": \"system\", \"content\": system_prompt},\n",
    "    {\"role\": \"user\", \"content\": \"안녕\"}\n",
    "  ]\n",
    ")\n",
    "print(response.choices[0].message.content)"
   ]
  },
  {
   "cell_type": "code",
   "execution_count": 7,
   "id": "598d21a6-8a67-428e-9b7b-3d6d596949a0",
   "metadata": {},
   "outputs": [],
   "source": [
    "from langchain_openai import ChatOpenAI\n",
    "from langchain.prompts import ChatPromptTemplate\n",
    "from langchain.schema import StrOutputParser"
   ]
  },
  {
   "cell_type": "code",
   "execution_count": 8,
   "id": "777893d3-ca55-4571-9c26-25a0e7abfd4b",
   "metadata": {},
   "outputs": [],
   "source": [
    "llm = ChatOpenAI(model=model)"
   ]
  },
  {
   "cell_type": "code",
   "execution_count": 9,
   "id": "0ed2f5ad-6ae1-42b6-9c91-1704889edb5d",
   "metadata": {},
   "outputs": [],
   "source": [
    "prompt_template = ChatPromptTemplate.from_messages(\n",
    "    [\n",
    "        (\"system\", system_prompt),\n",
    "        (\"human\", \"{input}\" )\n",
    "    ]\n",
    ")"
   ]
  },
  {
   "cell_type": "code",
   "execution_count": 10,
   "id": "af14af53-638d-4d9c-bf05-812644089e6b",
   "metadata": {},
   "outputs": [],
   "source": [
    "chain = prompt_template | llm | StrOutputParser()"
   ]
  },
  {
   "cell_type": "code",
   "execution_count": 12,
   "id": "2bbe1a88-a1b3-4ec5-8ec0-5470df0b291e",
   "metadata": {},
   "outputs": [
    {
     "data": {
      "text/plain": [
       "'부정'"
      ]
     },
     "execution_count": 12,
     "metadata": {},
     "output_type": "execute_result"
    }
   ],
   "source": [
    "chain.invoke({\"input\": \"안녕\"})"
   ]
  },
  {
   "cell_type": "code",
   "execution_count": null,
   "id": "f1022d20-c29a-47ef-aa90-272e046e9354",
   "metadata": {},
   "outputs": [],
   "source": []
  },
  {
   "cell_type": "code",
   "execution_count": null,
   "id": "d5eca5e3-0d6d-4de4-bcb0-9a9a344d4eb8",
   "metadata": {},
   "outputs": [],
   "source": []
  }
 ],
 "metadata": {
  "kernelspec": {
   "display_name": "Python 3 (ipykernel)",
   "language": "python",
   "name": "python3"
  },
  "language_info": {
   "codemirror_mode": {
    "name": "ipython",
    "version": 3
   },
   "file_extension": ".py",
   "mimetype": "text/x-python",
   "name": "python",
   "nbconvert_exporter": "python",
   "pygments_lexer": "ipython3",
   "version": "3.11.5"
  }
 },
 "nbformat": 4,
 "nbformat_minor": 5
}
