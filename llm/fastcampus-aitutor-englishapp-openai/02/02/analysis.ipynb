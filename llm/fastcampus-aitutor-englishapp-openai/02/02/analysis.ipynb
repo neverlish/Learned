{
 "cells": [
  {
   "cell_type": "markdown",
   "id": "4b6ffbf5-be3f-4e62-98eb-f4add112672a",
   "metadata": {},
   "source": [
    "# Chat Completion Streaming"
   ]
  },
  {
   "cell_type": "code",
   "execution_count": 1,
   "id": "92f0d2d2-8730-4c7e-8602-90c9f3f67037",
   "metadata": {},
   "outputs": [],
   "source": [
    "from openai import OpenAI\n",
    "\n",
    "client = OpenAI()"
   ]
  },
  {
   "cell_type": "code",
   "execution_count": 2,
   "id": "e27fc461-8799-478d-ab95-f468bcb4eda4",
   "metadata": {},
   "outputs": [
    {
     "name": "stdout",
     "output_type": "stream",
     "text": [
      "\n",
      "안\n",
      "녕\n",
      "하세요\n",
      "!\n",
      " 무\n",
      "엇\n",
      "을\n",
      " 도\n",
      "와\n",
      "드\n",
      "릴\n",
      "까\n",
      "요\n",
      "?\n",
      "None\n"
     ]
    }
   ],
   "source": [
    "full_response = \"\"\n",
    "for response in client.chat.completions.create(\n",
    "        model=\"gpt-3.5-turbo\",\n",
    "        messages=[{\"role\": \"user\", \"content\": \"안녕\"}],\n",
    "        stream=True,\n",
    "    ):\n",
    "    # print(response)\n",
    "    print(response.choices[0].delta.content)\n",
    "    full_response += (response.choices[0].delta.content or \"\")\n",
    "    "
   ]
  },
  {
   "cell_type": "code",
   "execution_count": 3,
   "id": "76a801b8-f383-4c1e-953f-5a484162f794",
   "metadata": {},
   "outputs": [
    {
     "name": "stdout",
     "output_type": "stream",
     "text": [
      "안녕하세요! 무엇을 도와드릴까요?\n"
     ]
    }
   ],
   "source": [
    "print(full_response)"
   ]
  },
  {
   "cell_type": "code",
   "execution_count": null,
   "id": "80b27516-c214-4265-847c-2b4ce81193d6",
   "metadata": {},
   "outputs": [],
   "source": []
  }
 ],
 "metadata": {
  "kernelspec": {
   "display_name": "Python 3 (ipykernel)",
   "language": "python",
   "name": "python3"
  },
  "language_info": {
   "codemirror_mode": {
    "name": "ipython",
    "version": 3
   },
   "file_extension": ".py",
   "mimetype": "text/x-python",
   "name": "python",
   "nbconvert_exporter": "python",
   "pygments_lexer": "ipython3",
   "version": "3.11.6"
  }
 },
 "nbformat": 4,
 "nbformat_minor": 5
}
