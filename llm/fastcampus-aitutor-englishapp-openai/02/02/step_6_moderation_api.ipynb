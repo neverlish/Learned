{
 "cells": [
  {
   "cell_type": "markdown",
   "id": "c750d25a-8b14-4211-b263-f7bf0a2ef7d7",
   "metadata": {},
   "source": [
    "# Moderation API"
   ]
  },
  {
   "cell_type": "markdown",
   "id": "38e5af29-ff67-4a61-ace4-36df9d3d9480",
   "metadata": {},
   "source": [
    "Moderation API는 콘텐츠가 OpenAI의 사용 정책을 준수하는지 확인하는 데 사용할 수 있는 도구입니다. 따라서 개발자는 사용 정책에서 금지하는 콘텐츠를 식별하고 필터링 등의 조치를 취할 수 있습니다."
   ]
  },
  {
   "cell_type": "code",
   "execution_count": 1,
   "id": "2ebdddea-be07-458a-bd8c-35826a1e0a48",
   "metadata": {},
   "outputs": [],
   "source": [
    "from openai import OpenAI\n",
    "client = OpenAI()"
   ]
  },
  {
   "cell_type": "code",
   "execution_count": 2,
   "id": "75519891-90dd-47f2-a81c-b84629578bee",
   "metadata": {},
   "outputs": [],
   "source": [
    "response = client.moderations.create(input=\"Sample text goes here.\")\n",
    "\n",
    "output = response.results[0]"
   ]
  },
  {
   "cell_type": "code",
   "execution_count": 3,
   "id": "1b1260a6-7ea6-406f-b2e5-e719fb6c522e",
   "metadata": {},
   "outputs": [
    {
     "data": {
      "text/plain": [
       "Moderation(categories=Categories(harassment=False, harassment_threatening=False, hate=False, hate_threatening=False, self_harm=False, self_harm_instructions=False, self_harm_intent=False, sexual=False, sexual_minors=False, violence=False, violence_graphic=False, self-harm=False, sexual/minors=False, hate/threatening=False, violence/graphic=False, self-harm/intent=False, self-harm/instructions=False, harassment/threatening=False), category_scores=CategoryScores(harassment=0.00010559981456026435, harassment_threatening=7.731197229077225e-07, hate=2.9099086532369256e-05, hate_threatening=1.011475276868623e-07, self_harm=1.4513607027311082e-07, self_harm_instructions=1.480306655032848e-09, self_harm_intent=7.134503476891041e-08, sexual=0.0030844826251268387, sexual_minors=6.053529432392679e-06, violence=9.14183838176541e-05, violence_graphic=5.470990913636342e-07, self-harm=1.4513607027311082e-07, sexual/minors=6.053529432392679e-06, hate/threatening=1.011475276868623e-07, violence/graphic=5.470990913636342e-07, self-harm/intent=7.134503476891041e-08, self-harm/instructions=1.480306655032848e-09, harassment/threatening=7.731197229077225e-07), flagged=False)"
      ]
     },
     "execution_count": 3,
     "metadata": {},
     "output_type": "execute_result"
    }
   ],
   "source": [
    "output"
   ]
  },
  {
   "cell_type": "code",
   "execution_count": 5,
   "id": "93d3d5d7-9adf-46db-bdf7-4cedbd450c5f",
   "metadata": {},
   "outputs": [
    {
     "data": {
      "text/plain": [
       "{'categories': {'harassment': False,\n",
       "  'harassment_threatening': False,\n",
       "  'hate': False,\n",
       "  'hate_threatening': False,\n",
       "  'self_harm': False,\n",
       "  'self_harm_instructions': False,\n",
       "  'self_harm_intent': False,\n",
       "  'sexual': False,\n",
       "  'sexual_minors': False,\n",
       "  'violence': False,\n",
       "  'violence_graphic': False,\n",
       "  'self-harm': False,\n",
       "  'sexual/minors': False,\n",
       "  'hate/threatening': False,\n",
       "  'violence/graphic': False,\n",
       "  'self-harm/intent': False,\n",
       "  'self-harm/instructions': False,\n",
       "  'harassment/threatening': False},\n",
       " 'category_scores': {'harassment': 0.00010559981456026435,\n",
       "  'harassment_threatening': 7.731197229077225e-07,\n",
       "  'hate': 2.9099086532369256e-05,\n",
       "  'hate_threatening': 1.011475276868623e-07,\n",
       "  'self_harm': 1.4513607027311082e-07,\n",
       "  'self_harm_instructions': 1.480306655032848e-09,\n",
       "  'self_harm_intent': 7.134503476891041e-08,\n",
       "  'sexual': 0.0030844826251268387,\n",
       "  'sexual_minors': 6.053529432392679e-06,\n",
       "  'violence': 9.14183838176541e-05,\n",
       "  'violence_graphic': 5.470990913636342e-07,\n",
       "  'self-harm': 1.4513607027311082e-07,\n",
       "  'sexual/minors': 6.053529432392679e-06,\n",
       "  'hate/threatening': 1.011475276868623e-07,\n",
       "  'violence/graphic': 5.470990913636342e-07,\n",
       "  'self-harm/intent': 7.134503476891041e-08,\n",
       "  'self-harm/instructions': 1.480306655032848e-09,\n",
       "  'harassment/threatening': 7.731197229077225e-07},\n",
       " 'flagged': False}"
      ]
     },
     "execution_count": 5,
     "metadata": {},
     "output_type": "execute_result"
    }
   ],
   "source": [
    "output.model_dump()"
   ]
  },
  {
   "cell_type": "code",
   "execution_count": 6,
   "id": "0d325050-64f4-4dbf-a062-e0075fecb72f",
   "metadata": {},
   "outputs": [],
   "source": [
    "def analysis(text):\n",
    "    response = client.moderations.create(input=text)\n",
    "    output = response.results[0]\n",
    "    output_dict = output.model_dump()\n",
    "    flagged_list = []\n",
    "    for k, v in output_dict['categories'].items():\n",
    "        if v:\n",
    "            score = output_dict['category_scores'][k]\n",
    "            flagged_list.append((k, score))\n",
    "    return flagged_list"
   ]
  },
  {
   "cell_type": "code",
   "execution_count": 7,
   "id": "2e7481b4-83a4-4c66-bdbd-eb25ac3783ee",
   "metadata": {},
   "outputs": [
    {
     "data": {
      "text/plain": [
       "[('violence', 0.9959982633590698)]"
      ]
     },
     "execution_count": 7,
     "metadata": {},
     "output_type": "execute_result"
    }
   ],
   "source": [
    "analysis(\"I'll kill you\")"
   ]
  },
  {
   "cell_type": "code",
   "execution_count": 8,
   "id": "3f3710e8-88cd-47e6-8c16-db2a93f1185e",
   "metadata": {},
   "outputs": [
    {
     "data": {
      "text/plain": [
       "[('harassment', 0.9409586787223816), ('hate', 0.980320930480957)]"
      ]
     },
     "execution_count": 8,
     "metadata": {},
     "output_type": "execute_result"
    }
   ],
   "source": [
    "analysis(\"I hate asian\")"
   ]
  },
  {
   "cell_type": "code",
   "execution_count": null,
   "id": "9bfdbaea-6c7f-42d1-bbc6-37b52686aaea",
   "metadata": {},
   "outputs": [],
   "source": []
  }
 ],
 "metadata": {
  "kernelspec": {
   "display_name": "Python 3 (ipykernel)",
   "language": "python",
   "name": "python3"
  },
  "language_info": {
   "codemirror_mode": {
    "name": "ipython",
    "version": 3
   },
   "file_extension": ".py",
   "mimetype": "text/x-python",
   "name": "python",
   "nbconvert_exporter": "python",
   "pygments_lexer": "ipython3",
   "version": "3.11.5"
  }
 },
 "nbformat": 4,
 "nbformat_minor": 5
}
