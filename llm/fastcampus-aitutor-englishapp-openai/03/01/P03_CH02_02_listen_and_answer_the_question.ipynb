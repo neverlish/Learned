{
 "cells": [
  {
   "cell_type": "markdown",
   "id": "5f17519d-cf81-4e98-ae09-2bbf1c6dc8ae",
   "metadata": {},
   "source": [
    "# 듣고 질문에 답하기 유형 데이터 만들기"
   ]
  },
  {
   "cell_type": "markdown",
   "id": "0c52b036-59b7-4bda-b7ca-1a14b2f91432",
   "metadata": {},
   "source": [
    "- 질문 생성 만들기\n",
    "- 질문에 대한 오디오 만들기\n"
   ]
  },
  {
   "cell_type": "markdown",
   "id": "d12f34c3-4687-4ff9-a440-ea05c5fe83dd",
   "metadata": {},
   "source": [
    "## 질문 생성 Chain"
   ]
  },
  {
   "cell_type": "code",
   "execution_count": 1,
   "id": "65b2be14-007d-443b-8a1a-f2e30375bdb0",
   "metadata": {},
   "outputs": [],
   "source": [
    "import json\n",
    "from typing import List\n",
    "\n",
    "from tqdm.notebook import tqdm\n",
    "from langchain_core.prompts import PromptTemplate, ChatPromptTemplate\n",
    "from langchain_core.runnables import RunnableParallel, RunnablePassthrough\n",
    "from langchain_openai import ChatOpenAI\n",
    "from langchain_core.output_parsers import JsonOutputParser, CommaSeparatedListOutputParser\n",
    "from langchain.pydantic_v1 import BaseModel, Field\n",
    "from langchain.schema import HumanMessage, AIMessage, StrOutputParser\n",
    "import pandas as pd"
   ]
  },
  {
   "cell_type": "code",
   "execution_count": 2,
   "id": "c4b9cc37-1a4f-48aa-b2e9-7e1a4619f190",
   "metadata": {},
   "outputs": [],
   "source": [
    "model = ChatOpenAI(model=\"gpt-3.5-turbo\")"
   ]
  },
  {
   "cell_type": "markdown",
   "id": "3722780a-d603-4430-87cc-c75b819a0414",
   "metadata": {},
   "source": [
    "### 질문 주제 샘플링하기"
   ]
  },
  {
   "cell_type": "code",
   "execution_count": 3,
   "id": "30bbb308-e95f-474b-93b6-94ddbd917af8",
   "metadata": {},
   "outputs": [],
   "source": [
    "csv_parser = CommaSeparatedListOutputParser()"
   ]
  },
  {
   "cell_type": "code",
   "execution_count": 4,
   "id": "7388bd5d-f8f0-4ad6-a61a-7b02cc4623e7",
   "metadata": {},
   "outputs": [],
   "source": [
    "csv_format_instruction = csv_parser.get_format_instructions()"
   ]
  },
  {
   "cell_type": "code",
   "execution_count": 5,
   "id": "0af1673f-4322-4d9c-8552-568acfab4d48",
   "metadata": {},
   "outputs": [],
   "source": [
    "subjet_prompt_template = PromptTemplate.from_template(template=\"영어 시험에 나올 법한 일상적인 주제를 단어 형식으로 만들어줘.\\n{format_instruction}\",\n",
    "                                                      partial_variables={\"format_instruction\": csv_format_instruction})"
   ]
  },
  {
   "cell_type": "code",
   "execution_count": 6,
   "id": "4dc9142c-143c-4424-bc75-57f4bd38e5fc",
   "metadata": {},
   "outputs": [],
   "source": [
    "subject_chain = subjet_prompt_template | model | csv_parser"
   ]
  },
  {
   "cell_type": "code",
   "execution_count": 10,
   "id": "78815672-f666-46db-a9d9-2d3252274fef",
   "metadata": {},
   "outputs": [
    {
     "data": {
      "text/plain": [
       "['family',\n",
       " 'friends',\n",
       " 'hobbies',\n",
       " 'school',\n",
       " 'work',\n",
       " 'food',\n",
       " 'travel',\n",
       " 'shopping',\n",
       " 'sports',\n",
       " 'movies',\n",
       " 'music',\n",
       " 'books',\n",
       " 'technology',\n",
       " 'health',\n",
       " 'weather',\n",
       " 'fashion',\n",
       " 'pets',\n",
       " 'holidays',\n",
       " 'transportation',\n",
       " 'social media']"
      ]
     },
     "execution_count": 10,
     "metadata": {},
     "output_type": "execute_result"
    }
   ],
   "source": [
    "subject_chain.invoke({})"
   ]
  },
  {
   "cell_type": "code",
   "execution_count": 11,
   "id": "b4e7a56b-4381-496a-97b8-ba0544604782",
   "metadata": {},
   "outputs": [
    {
     "data": {
      "text/plain": [
       "['family',\n",
       " 'school',\n",
       " 'hobbies',\n",
       " 'technology',\n",
       " 'sports',\n",
       " 'travel',\n",
       " 'food',\n",
       " 'music',\n",
       " 'movies',\n",
       " 'fashion',\n",
       " 'health',\n",
       " 'environment']"
      ]
     },
     "execution_count": 11,
     "metadata": {},
     "output_type": "execute_result"
    }
   ],
   "source": [
    "csv_parser.invoke(model.invoke(f\"영어 시험에 나올 법한 일상적인 주제를 단어 형식으로 만들어줘.\\n{csv_format_instruction}\"))"
   ]
  },
  {
   "cell_type": "code",
   "execution_count": 12,
   "id": "75138c2f-1cf7-49d8-850d-0a5f6b92fe70",
   "metadata": {},
   "outputs": [],
   "source": [
    "subject_list = subject_chain.invoke({})"
   ]
  },
  {
   "cell_type": "code",
   "execution_count": 13,
   "id": "96291303-98a4-4fa9-948f-06933663f8d1",
   "metadata": {},
   "outputs": [
    {
     "data": {
      "text/plain": [
       "['family',\n",
       " 'school',\n",
       " 'food',\n",
       " 'sports',\n",
       " 'hobbies',\n",
       " 'travel',\n",
       " 'weather',\n",
       " 'movies',\n",
       " 'music',\n",
       " 'fashion']"
      ]
     },
     "execution_count": 13,
     "metadata": {},
     "output_type": "execute_result"
    }
   ],
   "source": [
    "subject_list"
   ]
  },
  {
   "cell_type": "code",
   "execution_count": 14,
   "id": "895648d1-0b79-4af6-acfa-a2400acf1544",
   "metadata": {},
   "outputs": [],
   "source": [
    "subject_list = subject_list[:4]"
   ]
  },
  {
   "cell_type": "code",
   "execution_count": 15,
   "id": "e545d265-1346-4e3b-8c21-e04d1be47859",
   "metadata": {},
   "outputs": [
    {
     "data": {
      "text/plain": [
       "['family', 'school', 'food', 'sports']"
      ]
     },
     "execution_count": 15,
     "metadata": {},
     "output_type": "execute_result"
    }
   ],
   "source": [
    "subject_list"
   ]
  },
  {
   "cell_type": "markdown",
   "id": "b56f0e3e-7182-4f07-b209-63048b20b228",
   "metadata": {},
   "source": [
    "### 질문 만들기"
   ]
  },
  {
   "cell_type": "code",
   "execution_count": 38,
   "id": "d6bbe725-2971-4760-bbff-649c26f7f83f",
   "metadata": {},
   "outputs": [],
   "source": [
    "model = ChatOpenAI(model=\"gpt-4-1106-preview\")"
   ]
  },
  {
   "cell_type": "code",
   "execution_count": 39,
   "id": "1b568d6a-a69e-4ac6-af71-03d1dacd4e1c",
   "metadata": {},
   "outputs": [],
   "source": [
    "template = \"\"\"\\\n",
    "# 이전 질문들 {prev_questions}\n",
    "- 이전 질문들과는 다른 유형으로 만들어줘\n",
    "- 영어 시험에 나올 법한 {input} 주제에 관한 쉬운 질문 하나 만들어줘.\n",
    "- 상대방과 연관지어 만들어줘\n",
    "- 한 문장만 만들어줘\n",
    "- 여러 예시 만들지마\n",
    "- 영어로\"\"\"\n",
    "\n",
    "question_prompt_template = PromptTemplate.from_template(template=template)"
   ]
  },
  {
   "cell_type": "code",
   "execution_count": 40,
   "id": "ff9e1a6e-376a-445d-bc1c-637757a4abce",
   "metadata": {},
   "outputs": [],
   "source": [
    "question_chain = question_prompt_template | model | StrOutputParser()"
   ]
  },
  {
   "cell_type": "code",
   "execution_count": 43,
   "id": "12fc90c7-7271-4b8b-b984-feff5ee31dc4",
   "metadata": {},
   "outputs": [
    {
     "data": {
      "application/vnd.jupyter.widget-view+json": {
       "model_id": "2edbcf9e3b364e74971e0300d1f83a29",
       "version_major": 2,
       "version_minor": 0
      },
      "text/plain": [
       "  0%|          | 0/4 [00:00<?, ?it/s]"
      ]
     },
     "metadata": {},
     "output_type": "display_data"
    }
   ],
   "source": [
    "question_list = []\n",
    "for subject in tqdm(subject_list):\n",
    "    question_list.append(question_chain.invoke({\"input\": subject, \"prev_questions\": question_list}))\n",
    "    # question_list.append(question_chain.invoke({\"input\": subject}))"
   ]
  },
  {
   "cell_type": "code",
   "execution_count": 44,
   "id": "291aedc9-baac-417d-8d42-ad42161097f3",
   "metadata": {},
   "outputs": [
    {
     "data": {
      "text/plain": [
       "['How many siblings do you have?',\n",
       " 'What is the name of your favorite subject in school?',\n",
       " 'What is your favorite fruit to eat as a snack?',\n",
       " 'Which sport do you prefer to play, soccer or basketball?']"
      ]
     },
     "execution_count": 44,
     "metadata": {},
     "output_type": "execute_result"
    }
   ],
   "source": [
    "question_list"
   ]
  },
  {
   "cell_type": "markdown",
   "id": "994ec6ea-8429-4c25-8508-4fbb9d1ffe04",
   "metadata": {},
   "source": [
    "## 질문에 대한 오디오 파일 만들기"
   ]
  },
  {
   "cell_type": "code",
   "execution_count": 45,
   "id": "99d367cf-101c-493c-bb34-f1c1d232056c",
   "metadata": {},
   "outputs": [],
   "source": [
    "from openai import OpenAI"
   ]
  },
  {
   "cell_type": "code",
   "execution_count": 46,
   "id": "e0544537-ca40-4b70-b41e-5d7c9ccb8e61",
   "metadata": {},
   "outputs": [],
   "source": [
    "client = OpenAI()"
   ]
  },
  {
   "cell_type": "code",
   "execution_count": 47,
   "id": "e0507cc6-1cf7-4f8f-9df2-46163ff89399",
   "metadata": {},
   "outputs": [],
   "source": [
    "def gen_speech_file(text, output_file_path):\n",
    "    response = client.audio.speech.create(\n",
    "        model=\"tts-1\",\n",
    "        voice=\"alloy\", # alloy, echo, fable, onyx, nova, and shimmer\n",
    "        input=text\n",
    "    )\n",
    "    response.stream_to_file(output_file_path)"
   ]
  },
  {
   "cell_type": "code",
   "execution_count": 48,
   "id": "eaf2327c-65f2-419c-a8ad-8e2c28c14e10",
   "metadata": {},
   "outputs": [],
   "source": [
    "!mkdir -p ./data/speaking__listen_and_answer"
   ]
  },
  {
   "cell_type": "code",
   "execution_count": 49,
   "id": "1a7a5ecb-ae17-4958-a26f-27e3a5af8db3",
   "metadata": {},
   "outputs": [],
   "source": [
    "save_dir = \"./data/speaking__listen_and_answer\""
   ]
  },
  {
   "cell_type": "code",
   "execution_count": 50,
   "id": "5a045c8a-41f8-414e-95dd-63d6aa282ffc",
   "metadata": {},
   "outputs": [
    {
     "data": {
      "text/plain": [
       "['How many siblings do you have?',\n",
       " 'What is the name of your favorite subject in school?',\n",
       " 'What is your favorite fruit to eat as a snack?',\n",
       " 'Which sport do you prefer to play, soccer or basketball?']"
      ]
     },
     "execution_count": 50,
     "metadata": {},
     "output_type": "execute_result"
    }
   ],
   "source": [
    "question_list"
   ]
  },
  {
   "cell_type": "code",
   "execution_count": 51,
   "id": "4cce5dbc-7b73-4f1b-9f79-59567bd8bbc4",
   "metadata": {},
   "outputs": [
    {
     "data": {
      "application/vnd.jupyter.widget-view+json": {
       "model_id": "24aa2a79cff1428492a9d225c355cbf8",
       "version_major": 2,
       "version_minor": 0
      },
      "text/plain": [
       "  0%|          | 0/4 [00:00<?, ?it/s]"
      ]
     },
     "metadata": {},
     "output_type": "display_data"
    }
   ],
   "source": [
    "record_list = []\n",
    "\n",
    "for i, q in tqdm(enumerate(question_list), total=len(question_list)):\n",
    "    output_file_path = f\"{save_dir}/question_{i}.wav\"\n",
    "    gen_speech_file(q, output_file_path)\n",
    "\n",
    "    record = {\"question\": q, \"audio_file_path\": output_file_path}\n",
    "    record_list.append(record)"
   ]
  },
  {
   "cell_type": "code",
   "execution_count": 52,
   "id": "df2ab2fd-cede-416d-9ea1-ebf938e0ebea",
   "metadata": {},
   "outputs": [
    {
     "data": {
      "text/html": [
       "<div>\n",
       "<style scoped>\n",
       "    .dataframe tbody tr th:only-of-type {\n",
       "        vertical-align: middle;\n",
       "    }\n",
       "\n",
       "    .dataframe tbody tr th {\n",
       "        vertical-align: top;\n",
       "    }\n",
       "\n",
       "    .dataframe thead th {\n",
       "        text-align: right;\n",
       "    }\n",
       "</style>\n",
       "<table border=\"1\" class=\"dataframe\">\n",
       "  <thead>\n",
       "    <tr style=\"text-align: right;\">\n",
       "      <th></th>\n",
       "      <th>question</th>\n",
       "      <th>audio_file_path</th>\n",
       "    </tr>\n",
       "  </thead>\n",
       "  <tbody>\n",
       "    <tr>\n",
       "      <th>0</th>\n",
       "      <td>How many siblings do you have?</td>\n",
       "      <td>./data/speaking__listen_and_answer/question_0.wav</td>\n",
       "    </tr>\n",
       "    <tr>\n",
       "      <th>1</th>\n",
       "      <td>What is the name of your favorite subject in s...</td>\n",
       "      <td>./data/speaking__listen_and_answer/question_1.wav</td>\n",
       "    </tr>\n",
       "    <tr>\n",
       "      <th>2</th>\n",
       "      <td>What is your favorite fruit to eat as a snack?</td>\n",
       "      <td>./data/speaking__listen_and_answer/question_2.wav</td>\n",
       "    </tr>\n",
       "    <tr>\n",
       "      <th>3</th>\n",
       "      <td>Which sport do you prefer to play, soccer or b...</td>\n",
       "      <td>./data/speaking__listen_and_answer/question_3.wav</td>\n",
       "    </tr>\n",
       "  </tbody>\n",
       "</table>\n",
       "</div>"
      ],
      "text/plain": [
       "                                            question  \\\n",
       "0                     How many siblings do you have?   \n",
       "1  What is the name of your favorite subject in s...   \n",
       "2     What is your favorite fruit to eat as a snack?   \n",
       "3  Which sport do you prefer to play, soccer or b...   \n",
       "\n",
       "                                     audio_file_path  \n",
       "0  ./data/speaking__listen_and_answer/question_0.wav  \n",
       "1  ./data/speaking__listen_and_answer/question_1.wav  \n",
       "2  ./data/speaking__listen_and_answer/question_2.wav  \n",
       "3  ./data/speaking__listen_and_answer/question_3.wav  "
      ]
     },
     "execution_count": 52,
     "metadata": {},
     "output_type": "execute_result"
    }
   ],
   "source": [
    "df = pd.DataFrame(record_list)\n",
    "df"
   ]
  },
  {
   "cell_type": "code",
   "execution_count": 53,
   "id": "ae6887da-0a07-4337-925c-532866bdd6ac",
   "metadata": {},
   "outputs": [],
   "source": [
    "df.to_csv(f\"{save_dir}/question_and_audio.csv\", index=False)"
   ]
  },
  {
   "cell_type": "code",
   "execution_count": 54,
   "id": "52d2f2d4-4ca1-4e27-934c-92121973be5e",
   "metadata": {},
   "outputs": [],
   "source": [
    "from IPython.display import Audio"
   ]
  },
  {
   "cell_type": "code",
   "execution_count": 57,
   "id": "2e37d09f-47cf-4d5e-a9c5-ce85a922165e",
   "metadata": {},
   "outputs": [
    {
     "data": {
      "text/html": [
       "\n",
       "                <audio  controls=\"controls\" >\n",
       "                    <source src=\"data:audio/x-wav;base64,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\" type=\"audio/x-wav\" />\n",
       "                    Your browser does not support the audio element.\n",
       "                </audio>\n",
       "              "
      ],
      "text/plain": [
       "<IPython.lib.display.Audio object>"
      ]
     },
     "execution_count": 57,
     "metadata": {},
     "output_type": "execute_result"
    }
   ],
   "source": [
    "Audio(f\"{save_dir}/question_2.wav\")"
   ]
  },
  {
   "cell_type": "code",
   "execution_count": null,
   "id": "73686419-b949-4a4d-b9f5-6c51d8ee94d8",
   "metadata": {},
   "outputs": [],
   "source": []
  }
 ],
 "metadata": {
  "kernelspec": {
   "display_name": "Python 3 (ipykernel)",
   "language": "python",
   "name": "python3"
  },
  "language_info": {
   "codemirror_mode": {
    "name": "ipython",
    "version": 3
   },
   "file_extension": ".py",
   "mimetype": "text/x-python",
   "name": "python",
   "nbconvert_exporter": "python",
   "pygments_lexer": "ipython3",
   "version": "3.11.5"
  }
 },
 "nbformat": 4,
 "nbformat_minor": 5
}
