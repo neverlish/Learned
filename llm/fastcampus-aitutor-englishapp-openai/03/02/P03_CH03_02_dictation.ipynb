{
 "cells": [
  {
   "cell_type": "markdown",
   "id": "b04f6204-b62f-4ebd-be33-c08100633e39",
   "metadata": {},
   "source": [
    "# 받아쓰기 시험 유형 만들기\n",
    "\n",
    "- 받아쓰기 지문 만들기\n",
    "- 받아쓰기 평가?\n"
   ]
  },
  {
   "cell_type": "code",
   "execution_count": 1,
   "id": "da1d41fb-609c-49a8-a2b7-4c52183abf7f",
   "metadata": {},
   "outputs": [],
   "source": [
    "import json\n",
    "from typing import List\n",
    "\n",
    "from tqdm.notebook import tqdm\n",
    "from langchain_core.prompts import PromptTemplate, ChatPromptTemplate\n",
    "from langchain_core.runnables import RunnableParallel, RunnablePassthrough\n",
    "from langchain_openai import ChatOpenAI\n",
    "from langchain_core.output_parsers import JsonOutputParser, CommaSeparatedListOutputParser\n",
    "from langchain.pydantic_v1 import BaseModel, Field\n",
    "from langchain.schema import HumanMessage, AIMessage, StrOutputParser\n",
    "import pandas as pd"
   ]
  },
  {
   "cell_type": "code",
   "execution_count": 2,
   "id": "67d07d9b-155a-44b6-8870-2271340305f6",
   "metadata": {},
   "outputs": [],
   "source": [
    "model = ChatOpenAI(model=\"gpt-4-1106-preview\", temperature=1.0)"
   ]
  },
  {
   "cell_type": "markdown",
   "id": "1273efa8-da0e-4839-b753-047a53e19682",
   "metadata": {},
   "source": [
    "### 받아쓰기를 위한 문장 샘플링하기 "
   ]
  },
  {
   "cell_type": "code",
   "execution_count": 3,
   "id": "92fc0a40-c5e9-453c-a6c9-1a4045121962",
   "metadata": {},
   "outputs": [],
   "source": [
    "csv_parser = CommaSeparatedListOutputParser()"
   ]
  },
  {
   "cell_type": "code",
   "execution_count": 4,
   "id": "ee626e93-e5bc-4d90-aae0-466b240e8a1c",
   "metadata": {},
   "outputs": [],
   "source": [
    "csv_format_instruction = csv_parser.get_format_instructions()"
   ]
  },
  {
   "cell_type": "code",
   "execution_count": 5,
   "id": "0af1673f-4322-4d9c-8552-568acfab4d48",
   "metadata": {},
   "outputs": [],
   "source": [
    "sent_gen_prompt_template = PromptTemplate.from_template(template=\"영어 받아쓰기 시험에 나올 법한 일상적인 문장들을 10개 나열해줘. 번호나 bulletpoint 없이\\n{format_instruction}\",\n",
    "                                                        partial_variables={\"format_instruction\": csv_format_instruction})"
   ]
  },
  {
   "cell_type": "code",
   "execution_count": 6,
   "id": "4dc9142c-143c-4424-bc75-57f4bd38e5fc",
   "metadata": {},
   "outputs": [],
   "source": [
    "sent_gen_chain = sent_gen_prompt_template | model | csv_parser"
   ]
  },
  {
   "cell_type": "code",
   "execution_count": 7,
   "id": "75138c2f-1cf7-49d8-850d-0a5f6b92fe70",
   "metadata": {},
   "outputs": [
    {
     "data": {
      "text/plain": [
       "['Could you help me find my glasses',\n",
       " \"I'm going to the grocery store later\",\n",
       " 'The weather is really nice today',\n",
       " 'Please turn off the lights when you leave',\n",
       " 'What time is our appointment tomorrow',\n",
       " \"Don't forget to bring your homework\",\n",
       " 'How much does this cost',\n",
       " 'Make sure to water the plants',\n",
       " 'I need to charge my phone',\n",
       " 'Are we out of milk again']"
      ]
     },
     "execution_count": 7,
     "metadata": {},
     "output_type": "execute_result"
    }
   ],
   "source": [
    "sent_list = sent_gen_chain.invoke({})\n",
    "sent_list"
   ]
  },
  {
   "cell_type": "markdown",
   "id": "994ec6ea-8429-4c25-8508-4fbb9d1ffe04",
   "metadata": {},
   "source": [
    "## 문장에 대한 오디오 파일 만들기"
   ]
  },
  {
   "cell_type": "code",
   "execution_count": 8,
   "id": "99d367cf-101c-493c-bb34-f1c1d232056c",
   "metadata": {},
   "outputs": [],
   "source": [
    "from openai import OpenAI"
   ]
  },
  {
   "cell_type": "code",
   "execution_count": 9,
   "id": "e0544537-ca40-4b70-b41e-5d7c9ccb8e61",
   "metadata": {},
   "outputs": [],
   "source": [
    "client = OpenAI()"
   ]
  },
  {
   "cell_type": "code",
   "execution_count": 10,
   "id": "e0507cc6-1cf7-4f8f-9df2-46163ff89399",
   "metadata": {},
   "outputs": [],
   "source": [
    "def gen_speech_file(text, output_file_path):\n",
    "    response = client.audio.speech.create(\n",
    "        model=\"tts-1\",\n",
    "        voice=\"alloy\", # alloy, echo, fable, onyx, nova, and shimmer\n",
    "        input=text\n",
    "    )\n",
    "    response.stream_to_file(output_file_path)"
   ]
  },
  {
   "cell_type": "code",
   "execution_count": 11,
   "id": "c40564c5-11ee-459d-87ff-67bebb8eaa1d",
   "metadata": {},
   "outputs": [],
   "source": [
    "!mkdir -p ./data/writing__dictation"
   ]
  },
  {
   "cell_type": "code",
   "execution_count": 12,
   "id": "1a7a5ecb-ae17-4958-a26f-27e3a5af8db3",
   "metadata": {},
   "outputs": [],
   "source": [
    "save_dir = \"./data/writing__dictation\""
   ]
  },
  {
   "cell_type": "code",
   "execution_count": 13,
   "id": "5a045c8a-41f8-414e-95dd-63d6aa282ffc",
   "metadata": {},
   "outputs": [
    {
     "data": {
      "text/plain": [
       "['Could you help me find my glasses',\n",
       " \"I'm going to the grocery store later\",\n",
       " 'The weather is really nice today',\n",
       " 'Please turn off the lights when you leave',\n",
       " 'What time is our appointment tomorrow',\n",
       " \"Don't forget to bring your homework\",\n",
       " 'How much does this cost',\n",
       " 'Make sure to water the plants',\n",
       " 'I need to charge my phone',\n",
       " 'Are we out of milk again']"
      ]
     },
     "execution_count": 13,
     "metadata": {},
     "output_type": "execute_result"
    }
   ],
   "source": [
    "sent_list"
   ]
  },
  {
   "cell_type": "code",
   "execution_count": 14,
   "id": "4cce5dbc-7b73-4f1b-9f79-59567bd8bbc4",
   "metadata": {},
   "outputs": [
    {
     "data": {
      "application/vnd.jupyter.widget-view+json": {
       "model_id": "c6fbba75e82e45ca8519e86834aa798b",
       "version_major": 2,
       "version_minor": 0
      },
      "text/plain": [
       "  0%|          | 0/10 [00:00<?, ?it/s]"
      ]
     },
     "metadata": {},
     "output_type": "display_data"
    }
   ],
   "source": [
    "record_list = []\n",
    "\n",
    "for i, q in tqdm(enumerate(sent_list), total=len(sent_list)):\n",
    "    output_file_path = f\"{save_dir}/question_{i}.wav\"\n",
    "    gen_speech_file(q, output_file_path)\n",
    "\n",
    "    record = {\"sentence\": q, \"audio_file_path\": output_file_path}\n",
    "    record_list.append(record)"
   ]
  },
  {
   "cell_type": "code",
   "execution_count": 15,
   "id": "df2ab2fd-cede-416d-9ea1-ebf938e0ebea",
   "metadata": {},
   "outputs": [
    {
     "data": {
      "text/html": [
       "<div>\n",
       "<style scoped>\n",
       "    .dataframe tbody tr th:only-of-type {\n",
       "        vertical-align: middle;\n",
       "    }\n",
       "\n",
       "    .dataframe tbody tr th {\n",
       "        vertical-align: top;\n",
       "    }\n",
       "\n",
       "    .dataframe thead th {\n",
       "        text-align: right;\n",
       "    }\n",
       "</style>\n",
       "<table border=\"1\" class=\"dataframe\">\n",
       "  <thead>\n",
       "    <tr style=\"text-align: right;\">\n",
       "      <th></th>\n",
       "      <th>sentence</th>\n",
       "      <th>audio_file_path</th>\n",
       "    </tr>\n",
       "  </thead>\n",
       "  <tbody>\n",
       "    <tr>\n",
       "      <th>0</th>\n",
       "      <td>Could you help me find my glasses</td>\n",
       "      <td>./data/writing__dictation/question_0.wav</td>\n",
       "    </tr>\n",
       "    <tr>\n",
       "      <th>1</th>\n",
       "      <td>I'm going to the grocery store later</td>\n",
       "      <td>./data/writing__dictation/question_1.wav</td>\n",
       "    </tr>\n",
       "    <tr>\n",
       "      <th>2</th>\n",
       "      <td>The weather is really nice today</td>\n",
       "      <td>./data/writing__dictation/question_2.wav</td>\n",
       "    </tr>\n",
       "    <tr>\n",
       "      <th>3</th>\n",
       "      <td>Please turn off the lights when you leave</td>\n",
       "      <td>./data/writing__dictation/question_3.wav</td>\n",
       "    </tr>\n",
       "    <tr>\n",
       "      <th>4</th>\n",
       "      <td>What time is our appointment tomorrow</td>\n",
       "      <td>./data/writing__dictation/question_4.wav</td>\n",
       "    </tr>\n",
       "    <tr>\n",
       "      <th>5</th>\n",
       "      <td>Don't forget to bring your homework</td>\n",
       "      <td>./data/writing__dictation/question_5.wav</td>\n",
       "    </tr>\n",
       "    <tr>\n",
       "      <th>6</th>\n",
       "      <td>How much does this cost</td>\n",
       "      <td>./data/writing__dictation/question_6.wav</td>\n",
       "    </tr>\n",
       "    <tr>\n",
       "      <th>7</th>\n",
       "      <td>Make sure to water the plants</td>\n",
       "      <td>./data/writing__dictation/question_7.wav</td>\n",
       "    </tr>\n",
       "    <tr>\n",
       "      <th>8</th>\n",
       "      <td>I need to charge my phone</td>\n",
       "      <td>./data/writing__dictation/question_8.wav</td>\n",
       "    </tr>\n",
       "    <tr>\n",
       "      <th>9</th>\n",
       "      <td>Are we out of milk again</td>\n",
       "      <td>./data/writing__dictation/question_9.wav</td>\n",
       "    </tr>\n",
       "  </tbody>\n",
       "</table>\n",
       "</div>"
      ],
      "text/plain": [
       "                                    sentence  \\\n",
       "0          Could you help me find my glasses   \n",
       "1       I'm going to the grocery store later   \n",
       "2           The weather is really nice today   \n",
       "3  Please turn off the lights when you leave   \n",
       "4      What time is our appointment tomorrow   \n",
       "5        Don't forget to bring your homework   \n",
       "6                    How much does this cost   \n",
       "7              Make sure to water the plants   \n",
       "8                  I need to charge my phone   \n",
       "9                   Are we out of milk again   \n",
       "\n",
       "                            audio_file_path  \n",
       "0  ./data/writing__dictation/question_0.wav  \n",
       "1  ./data/writing__dictation/question_1.wav  \n",
       "2  ./data/writing__dictation/question_2.wav  \n",
       "3  ./data/writing__dictation/question_3.wav  \n",
       "4  ./data/writing__dictation/question_4.wav  \n",
       "5  ./data/writing__dictation/question_5.wav  \n",
       "6  ./data/writing__dictation/question_6.wav  \n",
       "7  ./data/writing__dictation/question_7.wav  \n",
       "8  ./data/writing__dictation/question_8.wav  \n",
       "9  ./data/writing__dictation/question_9.wav  "
      ]
     },
     "execution_count": 15,
     "metadata": {},
     "output_type": "execute_result"
    }
   ],
   "source": [
    "df = pd.DataFrame(record_list)\n",
    "df"
   ]
  },
  {
   "cell_type": "code",
   "execution_count": 16,
   "id": "ae6887da-0a07-4337-925c-532866bdd6ac",
   "metadata": {},
   "outputs": [],
   "source": [
    "df.to_csv(f\"{save_dir}/sent_and_audio.csv\", index=False)"
   ]
  },
  {
   "cell_type": "markdown",
   "id": "4428aa0a-8e1b-4e57-a897-8a49f9d96b65",
   "metadata": {},
   "source": [
    "## 받아쓰기 평가"
   ]
  },
  {
   "cell_type": "markdown",
   "id": "43b60ae1-c016-456f-8700-83d45cce536c",
   "metadata": {},
   "source": [
    "### 기계적 방법"
   ]
  },
  {
   "cell_type": "markdown",
   "id": "c338a324-2dac-4557-816f-a8fe1fa332af",
   "metadata": {},
   "source": [
    "#### 나이브한 방법"
   ]
  },
  {
   "cell_type": "code",
   "execution_count": 21,
   "id": "10875054-a919-4530-94d1-dea78b3671e1",
   "metadata": {},
   "outputs": [
    {
     "name": "stdout",
     "output_type": "stream",
     "text": [
      "{'correct': 2, 'incorrect': 6, 'missing': 1}\n"
     ]
    }
   ],
   "source": [
    "def grade_dictation(correct_script, student_response):\n",
    "    correct_words = correct_script.split()\n",
    "    student_words = student_response.split()\n",
    "    \n",
    "    correct_count = 0\n",
    "    incorrect_count = 0\n",
    "    missing_count = len(correct_words) - len(student_words)\n",
    "\n",
    "    for i in range(min(len(correct_words), len(student_words))):\n",
    "        if correct_words[i] == student_words[i]:\n",
    "            correct_count += 1\n",
    "        else:\n",
    "            incorrect_count += 1\n",
    "    \n",
    "    if missing_count < 0:\n",
    "        # In case student's response is longer than the correct script\n",
    "        incorrect_count += abs(missing_count)\n",
    "        missing_count = 0\n",
    "\n",
    "    return {\n",
    "        \"correct\": correct_count,\n",
    "        \"incorrect\": incorrect_count,\n",
    "        \"missing\": missing_count\n",
    "    }\n",
    "\n",
    "# Example usage\n",
    "correct_script = \"This is an example of a correct English sentence.\"\n",
    "student_response = \"This is example of a correct English sentence.\"\n",
    "\n",
    "result = grade_dictation(correct_script, student_response)\n",
    "print(result)"
   ]
  },
  {
   "cell_type": "markdown",
   "id": "9471135d-b57a-4190-ab41-2c361e10d791",
   "metadata": {},
   "source": [
    "#### 최장 공통 부분 수열(Longest Common Subsequence, LCS)"
   ]
  },
  {
   "cell_type": "code",
   "execution_count": 22,
   "id": "2737e374-a480-4afd-b422-3a2709a8b6b4",
   "metadata": {},
   "outputs": [
    {
     "name": "stdout",
     "output_type": "stream",
     "text": [
      "{'correct': 5, 'incorrect': 1, 'missing': 4}\n"
     ]
    }
   ],
   "source": [
    "def lcs(X, Y):\n",
    "    m = len(X)\n",
    "    n = len(Y)\n",
    "    L = [[0] * (n+1) for i in range(m+1)]\n",
    "\n",
    "    for i in range(m+1):\n",
    "        for j in range(n+1):\n",
    "            if i == 0 or j == 0:\n",
    "                L[i][j] = 0\n",
    "            elif X[i-1] == Y[j-1]:\n",
    "                L[i][j] = L[i-1][j-1] + 1\n",
    "            else:\n",
    "                L[i][j] = max(L[i-1][j], L[i][j-1])\n",
    "    \n",
    "    return L[m][n]\n",
    "\n",
    "def grade_dictation(correct_script, student_response):\n",
    "    correct_words = correct_script.split()\n",
    "    student_words = student_response.split()\n",
    "\n",
    "    lcs_length = lcs(correct_words, student_words)\n",
    "    correct_count = lcs_length\n",
    "    incorrect_count = len(student_words) - lcs_length\n",
    "    missing_count = len(correct_words) - lcs_length\n",
    "\n",
    "    return {\n",
    "        \"correct\": correct_count,\n",
    "        \"incorrect\": incorrect_count,\n",
    "        \"missing\": missing_count\n",
    "    }\n",
    "\n",
    "# Example usage\n",
    "correct_script = \"This is an example of a correct English sentence.\"\n",
    "student_response = \"This an exampel of correct English\"\n",
    "\n",
    "result = grade_dictation(correct_script, student_response)\n",
    "print(result)"
   ]
  },
  {
   "cell_type": "markdown",
   "id": "d7acdb58-f672-4a69-b489-9c5b3910c037",
   "metadata": {},
   "source": [
    "#### 르벤슈타인 거리(Levenshtein distance)"
   ]
  },
  {
   "cell_type": "code",
   "execution_count": 29,
   "id": "534fb1fe-23d8-4ccc-b873-a2ea9d83ba68",
   "metadata": {},
   "outputs": [
    {
     "name": "stdout",
     "output_type": "stream",
     "text": [
      "{'levenshtein_distance': 2, 'accuracy': 0.6}\n"
     ]
    }
   ],
   "source": [
    "def levenshtein(a, b):\n",
    "    \"Calculates the Levenshtein distance between a and b.\"\n",
    "    n, m = len(a), len(b)\n",
    "    if n > m:\n",
    "        # Make sure n <= m, to use O(min(n,m)) space\n",
    "        a, b = b, a\n",
    "        n, m = m, n\n",
    "\n",
    "    current_row = range(n + 1)\n",
    "    for i in range(1, m + 1):\n",
    "        previous_row, current_row = current_row, [i] + [0] * n\n",
    "        for j in range(1, n + 1):\n",
    "            add, delete, change = previous_row[j] + 1, current_row[j - 1] + 1, previous_row[j - 1]\n",
    "            if a[j - 1] != b[i - 1]:\n",
    "                change += 1\n",
    "            current_row[j] = min(add, delete, change)\n",
    "\n",
    "    return current_row[n]\n",
    "\n",
    "def grade_dictation(correct_script, student_response):\n",
    "    correct_words = correct_script.split()\n",
    "    student_words = student_response.split()\n",
    "\n",
    "    # Compute the Levenshtein distance\n",
    "    distance = levenshtein(correct_words, student_words)\n",
    "\n",
    "    # Calculate total words and accuracy\n",
    "    total_words = max(len(correct_words), len(student_words))\n",
    "    accuracy = (total_words - distance) / total_words\n",
    "\n",
    "    return {\n",
    "        \"levenshtein_distance\": distance,\n",
    "        \"accuracy\": accuracy\n",
    "    }\n",
    "\n",
    "# Example usage\n",
    "correct_script = \"let's go for a picnic\"\n",
    "student_response = \"Let's go for a picnic.\"\n",
    "\n",
    "result = grade_dictation(correct_script, student_response)\n",
    "print(result)\n"
   ]
  },
  {
   "cell_type": "markdown",
   "id": "9b5bd522-1d6a-4876-9bd7-4420a7f4cd5c",
   "metadata": {},
   "source": [
    "### LLM을 사용하는 평가 방법"
   ]
  },
  {
   "cell_type": "code",
   "execution_count": 30,
   "id": "cee15365-8859-4e0e-b15e-319e2429eaaf",
   "metadata": {},
   "outputs": [],
   "source": [
    "from langchain_openai import ChatOpenAI\n",
    "from typing import Union\n",
    "from langchain_core.output_parsers import JsonOutputParser\n",
    "from langchain_core.pydantic_v1 import BaseModel, Field"
   ]
  },
  {
   "cell_type": "code",
   "execution_count": 31,
   "id": "2bddc50c-75bd-4615-90ec-db52faab1251",
   "metadata": {},
   "outputs": [],
   "source": [
    "model = ChatOpenAI(model=\"gpt-4-1106-preview\", temperature=0.8) # CoT 는 다양한 샘플을 만들어야하기 때문에 temperature를 올려야함"
   ]
  },
  {
   "cell_type": "code",
   "execution_count": 32,
   "id": "114e520e-d57a-4894-9b15-27e0c239ae92",
   "metadata": {},
   "outputs": [],
   "source": [
    "class Evaluation(BaseModel):\n",
    "    reason: str = Field(description=\"받아쓰기 평가를 위한 추론\")\n",
    "    score: int = Field(description=\"받아쓰기 점수. 0~10점\")"
   ]
  },
  {
   "cell_type": "code",
   "execution_count": 33,
   "id": "eff86393-6c5e-4fc6-8bb1-a9fa6b438bfe",
   "metadata": {},
   "outputs": [
    {
     "data": {
      "text/plain": [
       "'The output should be formatted as a JSON instance that conforms to the JSON schema below.\\n\\nAs an example, for the schema {\"properties\": {\"foo\": {\"title\": \"Foo\", \"description\": \"a list of strings\", \"type\": \"array\", \"items\": {\"type\": \"string\"}}}, \"required\": [\"foo\"]}\\nthe object {\"foo\": [\"bar\", \"baz\"]} is a well-formatted instance of the schema. The object {\"properties\": {\"foo\": [\"bar\", \"baz\"]}} is not well-formatted.\\n\\nHere is the output schema:\\n```\\n{\"properties\": {\"reason\": {\"title\": \"Reason\", \"description\": \"\\\\ubc1b\\\\uc544\\\\uc4f0\\\\uae30 \\\\ud3c9\\\\uac00\\\\ub97c \\\\uc704\\\\ud55c \\\\ucd94\\\\ub860\", \"type\": \"string\"}, \"score\": {\"title\": \"Score\", \"description\": \"\\\\ubc1b\\\\uc544\\\\uc4f0\\\\uae30 \\\\uc810\\\\uc218. 0~10\\\\uc810\", \"type\": \"integer\"}}, \"required\": [\"reason\", \"score\"]}\\n```'"
      ]
     },
     "execution_count": 33,
     "metadata": {},
     "output_type": "execute_result"
    }
   ],
   "source": [
    "parser = JsonOutputParser(pydantic_object=Evaluation)\n",
    "format_instructions = parser.get_format_instructions()\n",
    "format_instructions"
   ]
  },
  {
   "cell_type": "code",
   "execution_count": 34,
   "id": "e2fa5560-d8e1-4a59-814b-d9599d5d69b1",
   "metadata": {},
   "outputs": [],
   "source": [
    "from langchain_core.prompts import ChatPromptTemplate, HumanMessagePromptTemplate\n",
    "\n",
    "human_prompt_template = HumanMessagePromptTemplate.from_template(\n",
    "                            \"영어 받아쓰기 시험이다. 사용자의 응답을 Reference와 비교하여 평가하라.\\n사용자: {input}\\Reference: {ref}\\n{format_instructions}\",\n",
    "                            partial_variables={\"format_instructions\": format_instructions})\n",
    "\n",
    "prompt = ChatPromptTemplate.from_messages(\n",
    "    [\n",
    "        human_prompt_template,\n",
    "    ])"
   ]
  },
  {
   "cell_type": "code",
   "execution_count": 35,
   "id": "c9500387-f442-4311-8e58-8c674718f87d",
   "metadata": {},
   "outputs": [],
   "source": [
    "eval_chain = prompt | model | parser"
   ]
  },
  {
   "cell_type": "code",
   "execution_count": 36,
   "id": "798f612c-74f9-4399-bee9-0d0c25f8f364",
   "metadata": {},
   "outputs": [
    {
     "data": {
      "text/plain": [
       "{'reason': \"User's response is missing the word 'work' at the end of the sentence.\",\n",
       " 'score': 9}"
      ]
     },
     "execution_count": 36,
     "metadata": {},
     "output_type": "execute_result"
    }
   ],
   "source": [
    "eval_chain.invoke({\"input\": \"I need to go grocery shopping after work\",\n",
    "                   \"ref\": \"I need to go grocery shopping after\"})"
   ]
  },
  {
   "cell_type": "code",
   "execution_count": null,
   "id": "b033c641-e8d9-4dde-b20d-4336188a5732",
   "metadata": {},
   "outputs": [],
   "source": []
  }
 ],
 "metadata": {
  "kernelspec": {
   "display_name": "Python 3 (ipykernel)",
   "language": "python",
   "name": "python3"
  },
  "language_info": {
   "codemirror_mode": {
    "name": "ipython",
    "version": 3
   },
   "file_extension": ".py",
   "mimetype": "text/x-python",
   "name": "python",
   "nbconvert_exporter": "python",
   "pygments_lexer": "ipython3",
   "version": "3.11.5"
  }
 },
 "nbformat": 4,
 "nbformat_minor": 5
}
