{
 "cells": [
  {
   "cell_type": "markdown",
   "id": "c838d854-5c2e-42d7-afef-1439c61d3ddb",
   "metadata": {},
   "source": [
    "# Writing Exams"
   ]
  },
  {
   "cell_type": "markdown",
   "id": "2256504f-a3a5-4fca-9aa9-9125df789b50",
   "metadata": {},
   "source": [
    "- 이메일 답장하기\n",
    "- 제시문 내용 요약하기\n",
    "- 자신의 의견쓰기\n",
    "\n"
   ]
  },
  {
   "cell_type": "code",
   "execution_count": 1,
   "id": "65b2be14-007d-443b-8a1a-f2e30375bdb0",
   "metadata": {},
   "outputs": [],
   "source": [
    "import json\n",
    "from typing import List, Union\n",
    "\n",
    "from tqdm.notebook import tqdm\n",
    "from langchain_core.prompts import PromptTemplate, ChatPromptTemplate, HumanMessagePromptTemplate\n",
    "from langchain_core.runnables import RunnableParallel, RunnablePassthrough\n",
    "from langchain_openai import ChatOpenAI\n",
    "from langchain_core.output_parsers import JsonOutputParser, CommaSeparatedListOutputParser\n",
    "from langchain.pydantic_v1 import BaseModel, Field\n",
    "from langchain.schema import HumanMessage, AIMessage, StrOutputParser\n",
    "import pandas as pd"
   ]
  },
  {
   "cell_type": "code",
   "execution_count": 2,
   "id": "0b2cf8a2-3d8d-4b44-b496-348792ca32c7",
   "metadata": {},
   "outputs": [],
   "source": [
    "model = ChatOpenAI(model=\"gpt-3.5-turbo\")"
   ]
  },
  {
   "cell_type": "markdown",
   "id": "e01f7a9b-9f39-4eb4-9383-898793384fe1",
   "metadata": {},
   "source": [
    "## 이메일 답장하기"
   ]
  },
  {
   "cell_type": "markdown",
   "id": "304b6cab-fe9d-4b76-8c27-bdef3db3be01",
   "metadata": {},
   "source": [
    "### 가상의 이메일 생성하기"
   ]
  },
  {
   "cell_type": "code",
   "execution_count": 4,
   "id": "1c45b78b-0015-4932-834b-17690fe8f92f",
   "metadata": {},
   "outputs": [],
   "source": [
    "def build_text_sampling_chain(desc):\n",
    "    prompt_template = PromptTemplate.from_template(template=desc)\n",
    "    chain = prompt_template | model | StrOutputParser()\n",
    "    return chain"
   ]
  },
  {
   "cell_type": "code",
   "execution_count": 5,
   "id": "31954b57-bdcf-49f1-8cdb-4af6edc41c72",
   "metadata": {},
   "outputs": [],
   "source": [
    "email_gen_chain = build_text_sampling_chain(desc=\"영어 Writing 시험에서 이메일에 답장하기에 등장 할 법한 가상의 영어 이메일 하나 만들어줘. 이름 같은 것들도 가상으로 만들어서 채워줘. 영어로\")"
   ]
  },
  {
   "cell_type": "code",
   "execution_count": 7,
   "id": "443ff459-9f33-4b99-8672-1c8b6eb9d435",
   "metadata": {},
   "outputs": [
    {
     "data": {
      "text/plain": [
       "'Subject: Re: Inquiry about the upcoming conference\\n\\nDear Mr. Johnson,\\n\\nThank you for your email inquiring about the upcoming conference on sustainable development. I appreciate your interest in participating and I am pleased to provide you with the requested information.\\n\\nThe conference, titled \"Sustainable Solutions for a Better Future,\" will be held on November 15th-17th, 2022 at the Green Valley Convention Center in San Francisco. The event aims to bring together industry leaders, policymakers, and experts to discuss and exchange ideas on various topics related to sustainable development.\\n\\nTo register for the conference, please visit our website www.sustainablefutureconference.com and click on the \"Register Now\" button. Early bird registration is available until September 30th, offering a discounted rate. After that, regular registration fees will apply.\\n\\nRegarding accommodation, we have partnered with several hotels in the vicinity of the convention center to offer special rates for conference attendees. Once you have completed your registration, you will receive a confirmation email with instructions on how to avail these discounted rates.\\n\\nIf you are interested in presenting your research or sharing your expertise at the conference, we are accepting abstract submissions until September 15th. Please visit our website for more information on the submission guidelines and topics of interest.\\n\\nShould you have any further questions or require additional information, please do not hesitate to contact me. I am here to assist you.\\n\\nThank you once again for your interest in our conference, and we look forward to welcoming you in San Francisco.\\n\\nKind regards,\\n\\nEmily Thompson\\nConference Coordinator\\nSustainable Solutions for a Better Future Conference'"
      ]
     },
     "execution_count": 7,
     "metadata": {},
     "output_type": "execute_result"
    }
   ],
   "source": [
    "email_gen_chain.invoke({})"
   ]
  },
  {
   "cell_type": "markdown",
   "id": "1c6c8e65-3ee3-4667-ba2e-35a75bcce81e",
   "metadata": {},
   "source": [
    "### 답장 평가하기"
   ]
  },
  {
   "cell_type": "code",
   "execution_count": 8,
   "id": "804a56dc-f6ad-436a-974c-0ca50e1abeab",
   "metadata": {},
   "outputs": [],
   "source": [
    "def build_eval_chain(instruction, reason_desc, score_desc):\n",
    "    class Evaluation(BaseModel):\n",
    "        reason: str = Field(description=reason_desc)\n",
    "        score: int = Field(description=score_desc)\n",
    "    \n",
    "    parser = JsonOutputParser(pydantic_object=Evaluation)\n",
    "    format_instructions = parser.get_format_instructions()\n",
    "    \n",
    "    human_prompt_template = HumanMessagePromptTemplate.from_template(\n",
    "                                \"# Instruction: {instruction}\\n\"\n",
    "                                \"# Context: {context}\\n\"\n",
    "                                \"# User: {input}\\n\"\n",
    "                                \"{format_instructions}\",\n",
    "                                partial_variables={\"instruction\": instruction,\n",
    "                                                   \"format_instructions\": format_instructions})\n",
    "    \n",
    "    prompt = ChatPromptTemplate.from_messages(\n",
    "        [\n",
    "            human_prompt_template,\n",
    "        ])\n",
    "    eval_chain = prompt | model | parser\n",
    "    return eval_chain"
   ]
  },
  {
   "cell_type": "code",
   "execution_count": 9,
   "id": "f79c709e-9708-402a-bb6c-a7209dbf4147",
   "metadata": {},
   "outputs": [],
   "source": [
    "email_eval_chain = build_eval_chain(instruction=\"User의 응답이 Context의 이메일에 대한 적절한 응답인지 추론하고 평가하라\",\n",
    "                                    reason_desc=\"User의 응답이 Context의 이메일에 대한 적절한 응답인지에 대한 추론\",\n",
    "                                    score_desc=\"User의 응답이 Context의 이메일에 대한 적절한 응답인지에 대한 점수, 0~10점\")"
   ]
  },
  {
   "cell_type": "code",
   "execution_count": 10,
   "id": "af70a43a-2ca2-4a00-94a3-f02aa91ac1be",
   "metadata": {},
   "outputs": [],
   "source": [
    "email = email_gen_chain.invoke({})"
   ]
  },
  {
   "cell_type": "code",
   "execution_count": 11,
   "id": "379e6d32-0435-4512-85c5-7da34013cd73",
   "metadata": {},
   "outputs": [
    {
     "data": {
      "text/plain": [
       "'Subject: Inquiry about Upcoming Event\\n\\nDear Mr. Anderson,\\n\\nI hope this email finds you well. My name is Emily Thompson, and I am writing to inquire about the upcoming event that was mentioned in your previous email.\\n\\nFirstly, I would like to express my gratitude for extending an invitation to the event. However, I would appreciate it if you could provide me with some additional details. Could you please let me know the exact date, time, and location of the event? Additionally, if there are any specific requirements or dress codes, it would be helpful to have that information as well.\\n\\nFurthermore, I am interested in knowing the agenda for the event. Will there be any guest speakers or presentations? It would be beneficial for me to have an understanding of the topics that will be covered during the event.\\n\\nLastly, I would like to confirm if there are any registration procedures or RSVP requirements. Kindly inform me if I need to complete any forms or confirm my attendance in advance.\\n\\nThank you for your attention to this matter, Mr. Anderson. I look forward to receiving your prompt response. Should you require any further information from my end, please do not hesitate to reach out.\\n\\nBest regards,\\n\\nEmily Thompson'"
      ]
     },
     "execution_count": 11,
     "metadata": {},
     "output_type": "execute_result"
    }
   ],
   "source": [
    "email"
   ]
  },
  {
   "cell_type": "code",
   "execution_count": 12,
   "id": "a4b44c2d-e1e6-4bad-8361-972c48ecaa7a",
   "metadata": {},
   "outputs": [],
   "source": [
    "user_answer = \"Dear Emily Thompson, I'm pleased to provide the details of our upcoming event, which will be held on March 15th, 6:00 PM at the Grand Hall, Downtown, and includes a formal dress code, engaging presentations by renowned speakers, and kindly requests your RSVP by March 1st\""
   ]
  },
  {
   "cell_type": "code",
   "execution_count": 13,
   "id": "286a07f2-3ea0-419b-a02a-90ede494a54b",
   "metadata": {},
   "outputs": [],
   "source": [
    "eval_result = email_eval_chain.invoke({\"context\": email, \"input\": user_answer})"
   ]
  },
  {
   "cell_type": "code",
   "execution_count": 14,
   "id": "3050acc7-9661-425f-b2c9-2736a6d9244b",
   "metadata": {},
   "outputs": [
    {
     "data": {
      "text/plain": [
       "{'reason': \"The user's response is a suitable and relevant answer to the email inquiry about the upcoming event. It provides the necessary details such as the date, time, location, dress code, guest speakers, and RSVP requirements.\",\n",
       " 'score': 10}"
      ]
     },
     "execution_count": 14,
     "metadata": {},
     "output_type": "execute_result"
    }
   ],
   "source": [
    "eval_result"
   ]
  },
  {
   "cell_type": "markdown",
   "id": "bf584546-6831-40d6-867a-a2bd02d81f4c",
   "metadata": {},
   "source": [
    "## 제시문 내용 요약하기"
   ]
  },
  {
   "cell_type": "markdown",
   "id": "cefd7c46-68fa-4a82-973a-96ac5ee41e83",
   "metadata": {},
   "source": [
    "### 무작위 글 생성"
   ]
  },
  {
   "cell_type": "code",
   "execution_count": 15,
   "id": "e618d179-40db-4ca5-bfe5-8ec0d8a7b832",
   "metadata": {},
   "outputs": [],
   "source": [
    "text_gen_chain = build_text_sampling_chain(desc=\"영어 Writing 시험에서 단락 요약하기에 등장 할 법한 가상의 영어 단락 하나 만들어줘. 이름 같은 것들도 가상으로 만들어서 채워줘. 영어로\")"
   ]
  },
  {
   "cell_type": "code",
   "execution_count": 16,
   "id": "9984eb10-2cf3-4c5e-86ef-c8b083ac60dd",
   "metadata": {},
   "outputs": [
    {
     "data": {
      "text/plain": [
       "'Title: The Rise of Green Energy: A Sustainable Solution for a Brighter Future\\n\\nIn recent years, the global population has become more aware of the pressing need for sustainable energy sources. With the alarming rise in carbon emissions and the detrimental effects of climate change, governments and industries worldwide have been compelled to shift towards green energy alternatives. One such solution gaining momentum is solar power.\\n\\nSolar power harnesses the sun\\'s energy to generate electricity, offering a clean and renewable energy source. Leading the charge in solar innovation is Solaris Energy, a pioneering company that has revolutionized the industry with their cutting-edge solar panels. These panels, made from state-of-the-art materials, have significantly increased the efficiency of solar energy conversion. With their sleek design and exceptional durability, Solaris panels are now a common sight on rooftops around the world.\\n\\nTo further promote the adoption of solar power, governments have introduced various incentives and subsidies. The United States, for instance, offers tax credits to homeowners and businesses that invest in solar energy systems. As a result, individuals like Sarah Reynolds, a small business owner, have taken advantage of these incentives to not only reduce their carbon footprint but also save on energy costs. Sarah\\'s coffee shop, aptly named \"Sunbeam Café,\" proudly runs on solar energy, attracting eco-conscious customers who value sustainability.\\n\\nThe widespread adoption of solar power has had a profound impact on both the environment and the economy. By reducing reliance on fossil fuels, solar energy has significantly decreased carbon emissions, mitigating the adverse effects of climate change. Additionally, the solar industry has created millions of jobs worldwide, providing employment opportunities and economic growth.\\n\\nAs we look towards the future, it is crucial to continue supporting and investing in green energy solutions like solar power. With advancements in technology and increasing public awareness, the transition to a sustainable and renewable energy future is within reach. By embracing solar power, we can pave the way for a brighter and cleaner world for generations to come.'"
      ]
     },
     "execution_count": 16,
     "metadata": {},
     "output_type": "execute_result"
    }
   ],
   "source": [
    "text = text_gen_chain.invoke({})\n",
    "text"
   ]
  },
  {
   "cell_type": "markdown",
   "id": "1c863a97-63ec-45b4-ac29-84635485a9b0",
   "metadata": {},
   "source": [
    "### 요약 평가하기"
   ]
  },
  {
   "cell_type": "code",
   "execution_count": 17,
   "id": "7d6d27f4-5996-48fe-8c80-2450e76d64f0",
   "metadata": {},
   "outputs": [],
   "source": [
    "summarization_eval_chain = build_eval_chain(instruction=\"User의 응답이 Context에 대한 적절한 요약인지 추론하고 평가하라\",\n",
    "                                            reason_desc=\"User의 응답이 Context에 대한 적절한 요약인지에 대한 추론\",\n",
    "                                            score_desc=\"User의 응답이 Context에 대한 적절한 요약인지에 대한 점수, 0~10점\")"
   ]
  },
  {
   "cell_type": "code",
   "execution_count": 18,
   "id": "8c3c40b2-7239-4299-ac88-f7b9c70c02db",
   "metadata": {},
   "outputs": [],
   "source": [
    "user_answer = \"The innovative advancement and increasing adoption of solar power is emerging as a green energy solution for a sustainable future.\""
   ]
  },
  {
   "cell_type": "code",
   "execution_count": 19,
   "id": "d472e8aa-f43a-45d0-a881-aef0f511326b",
   "metadata": {},
   "outputs": [
    {
     "data": {
      "text/plain": [
       "{'reason': \"Yes, the user's response accurately summarizes the context.\",\n",
       " 'score': 9}"
      ]
     },
     "execution_count": 19,
     "metadata": {},
     "output_type": "execute_result"
    }
   ],
   "source": [
    "summarization_eval_chain.invoke({\"context\": text,\n",
    "                                 \"input\": user_answer})"
   ]
  },
  {
   "cell_type": "markdown",
   "id": "35ae29b0-ef90-4bdb-823b-4db10a1db617",
   "metadata": {},
   "source": [
    "## 자신의 의견쓰기"
   ]
  },
  {
   "cell_type": "markdown",
   "id": "6ded8806-0a33-422b-8d49-a1f1b4a39ffd",
   "metadata": {},
   "source": [
    "### 무작위 이슈 생성\n"
   ]
  },
  {
   "cell_type": "code",
   "execution_count": 20,
   "id": "98623d8b-2be0-48ea-9801-4b078ee2ac96",
   "metadata": {},
   "outputs": [],
   "source": [
    "issue_gen_chain = build_text_sampling_chain(desc=\"영어 Writing 시험에서 자신의 의견쓰기에 등장 할 법한 무작위 이슈 영어 단락 하나 만들어줘. 이름 같은 것들도 가상으로 만들어서 채워줘. 영어로\")"
   ]
  },
  {
   "cell_type": "code",
   "execution_count": 21,
   "id": "bdaa18d3-7f04-469a-9b29-88a28f7d515a",
   "metadata": {},
   "outputs": [
    {
     "data": {
      "text/plain": [
       "'One random issue that could be used in an English writing exam for expressing one\\'s opinion is the topic of \"Gender-Neutral Names.\" In recent years, there has been a growing trend of parents choosing gender-neutral names for their children. These names, such as Jordan, Taylor, and Casey, can be given to both boys and girls. Proponents argue that gender-neutral names promote equality and break free from traditional gender stereotypes. They believe that children should have the freedom to define their own identity without being confined to societal expectations. On the other hand, some people believe that gender-neutral names can cause confusion and make it difficult for others to address individuals correctly. They argue that names carry cultural and historical significance, and altering traditional naming conventions may undermine cultural heritage. Overall, the debate surrounding gender-neutral names is an interesting one, as it touches upon the concepts of identity, individuality, and societal norms.'"
      ]
     },
     "execution_count": 21,
     "metadata": {},
     "output_type": "execute_result"
    }
   ],
   "source": [
    "issue = issue_gen_chain.invoke({})\n",
    "issue"
   ]
  },
  {
   "cell_type": "markdown",
   "id": "4412716d-1ccd-4161-9a81-c9bbfc8bf402",
   "metadata": {},
   "source": [
    "### 의견 평가하기"
   ]
  },
  {
   "cell_type": "code",
   "execution_count": 22,
   "id": "ac805f37-446e-473e-95f1-00e5692538cc",
   "metadata": {},
   "outputs": [],
   "source": [
    "opinion_eval_chain = build_eval_chain(instruction=\"User의 응답이 Context에 대한 적절한 의견 주장인지 추론하고 평가하라\",\n",
    "                                      reason_desc=\"User의 응답이 Context에 대한 적절한 의견 주장인지 대한 추론\",\n",
    "                                      score_desc=\"User의 응답이 Context에 대한 적절한 의견 주장인지에 대한 점수, 0~10점\")"
   ]
  },
  {
   "cell_type": "code",
   "execution_count": 23,
   "id": "6559bced-3512-4c68-b484-754ccf33ed72",
   "metadata": {},
   "outputs": [],
   "source": [
    "user_answer = \"Gender-neutral names, while fostering individuality and challenging traditional stereotypes, may also inadvertently obscure cultural heritage and create practical challenges in social interactions.\""
   ]
  },
  {
   "cell_type": "code",
   "execution_count": 24,
   "id": "df576a37-9e63-4de4-8a81-7ab06060cff2",
   "metadata": {},
   "outputs": [
    {
     "data": {
      "text/plain": [
       "{'reason': \"The user's response is a well-reasoned opinion that acknowledges both the positive and negative aspects of gender-neutral names. They mention that gender-neutral names foster individuality and challenge traditional stereotypes, but also highlight the potential issues of obscuring cultural heritage and creating practical challenges in social interactions.\",\n",
       " 'score': 9}"
      ]
     },
     "execution_count": 24,
     "metadata": {},
     "output_type": "execute_result"
    }
   ],
   "source": [
    "opinion_eval_chain.invoke({\"context\": issue,\n",
    "                           \"input\": user_answer})"
   ]
  },
  {
   "cell_type": "code",
   "execution_count": null,
   "id": "7e2cc17d-043d-44a8-826e-4f4a71f6986d",
   "metadata": {},
   "outputs": [],
   "source": []
  },
  {
   "cell_type": "code",
   "execution_count": null,
   "id": "9f6d5154-c797-424a-99fb-83e4d2ed477d",
   "metadata": {},
   "outputs": [],
   "source": []
  }
 ],
 "metadata": {
  "kernelspec": {
   "display_name": "Python 3 (ipykernel)",
   "language": "python",
   "name": "python3"
  },
  "language_info": {
   "codemirror_mode": {
    "name": "ipython",
    "version": 3
   },
   "file_extension": ".py",
   "mimetype": "text/x-python",
   "name": "python",
   "nbconvert_exporter": "python",
   "pygments_lexer": "ipython3",
   "version": "3.11.5"
  }
 },
 "nbformat": 4,
 "nbformat_minor": 5
}
