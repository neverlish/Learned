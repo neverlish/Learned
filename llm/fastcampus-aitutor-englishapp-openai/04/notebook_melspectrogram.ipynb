{
 "cells": [
  {
   "cell_type": "code",
   "execution_count": null,
   "id": "3680298a-07b9-472d-b275-4ecf3ec71016",
   "metadata": {},
   "outputs": [],
   "source": [
    "import torch\n",
    "import torchaudio\n",
    "import matplotlib.pyplot as plt\n",
    "from IPython.display import Audio\n",
    "import librosa\n",
    "import os"
   ]
  },
  {
   "cell_type": "code",
   "execution_count": null,
   "id": "0eed95da-7cee-4e7c-b6bb-dd316e5ebf4e",
   "metadata": {},
   "outputs": [],
   "source": [
    "libri= torchaudio.datasets.LIBRISPEECH('./corpus', url='train-clean-100')"
   ]
  },
  {
   "cell_type": "code",
   "execution_count": null,
   "id": "0242d829-33bd-4c93-a2be-498ab0b46771",
   "metadata": {},
   "outputs": [],
   "source": [
    "libri[0]"
   ]
  },
  {
   "cell_type": "code",
   "execution_count": null,
   "id": "516e44fb-a27b-4ddf-afcf-218232dd2ec8",
   "metadata": {},
   "outputs": [],
   "source": [
    "waveform, sample_rate, transcript, _, _, _ = libri[0]"
   ]
  },
  {
   "cell_type": "code",
   "execution_count": null,
   "id": "158bd38e-ed5c-4ba4-9a80-36ef344df302",
   "metadata": {},
   "outputs": [],
   "source": [
    "Audio(waveform.numpy(), rate=sample_rate)"
   ]
  },
  {
   "cell_type": "code",
   "execution_count": null,
   "id": "54096d37-dec3-4af2-96a5-c01617deadc3",
   "metadata": {},
   "outputs": [],
   "source": [
    "libri.get_metadata(0)"
   ]
  },
  {
   "cell_type": "code",
   "execution_count": null,
   "id": "57a26730-e30e-46b1-ad1f-9b50e3bfe0fc",
   "metadata": {},
   "outputs": [],
   "source": [
    "waveform2, sample_rate2= torchaudio.load(os.path.join('./corpus/LibriSpeech/',libri.get_metadata(0)[0]))"
   ]
  },
  {
   "cell_type": "code",
   "execution_count": null,
   "id": "7f80a1a9-cddd-4902-aeee-8fd11ebf32d4",
   "metadata": {},
   "outputs": [],
   "source": [
    "waveform == waveform2"
   ]
  },
  {
   "cell_type": "code",
   "execution_count": null,
   "id": "ff30f97b-6ede-4df8-9ac3-8ff8149caa81",
   "metadata": {},
   "outputs": [],
   "source": [
    "def plot_waveform(waveform, sample_rate):\n",
    "    waveform = waveform.numpy()\n",
    "\n",
    "    num_channels, num_frames = waveform.shape\n",
    "    time_axis = torch.arange(0, num_frames) / sample_rate\n",
    "\n",
    "    figure, axes = plt.subplots(num_channels, 1)\n",
    "    if num_channels == 1:\n",
    "        axes = [axes]\n",
    "    for c in range(num_channels):\n",
    "        axes[c].plot(time_axis, waveform[c], linewidth=1)\n",
    "        axes[c].grid(True)\n",
    "        if num_channels > 1:\n",
    "            axes[c].set_ylabel(f\"Channel {c+1}\")\n",
    "    figure.suptitle(\"waveform\")"
   ]
  },
  {
   "cell_type": "code",
   "execution_count": null,
   "id": "b74891f5-7e9f-426a-8238-96db1fc482e0",
   "metadata": {},
   "outputs": [],
   "source": [
    "plot_waveform(waveform, sample_rate)"
   ]
  },
  {
   "cell_type": "code",
   "execution_count": null,
   "id": "894a0bab-cef2-4900-a4ff-e1093acb1e44",
   "metadata": {},
   "outputs": [],
   "source": [
    "import torchaudio.transforms as T\n",
    "\n",
    "\n",
    "class MyPipeline(torch.nn.Module):\n",
    "    def __init__(\n",
    "        self,\n",
    "        input_freq=16000,\n",
    "        resample_freq=16000,\n",
    "        n_fft=400,\n",
    "        hop_length=160,\n",
    "        n_mel=80,\n",
    "        stretch_factor=0.8,\n",
    "    ):\n",
    "        super().__init__()\n",
    "        self.resample = T.Resample(orig_freq=input_freq, new_freq=resample_freq)\n",
    "\n",
    "        self.spec = T.Spectrogram(n_fft=n_fft, power=2)\n",
    "        self.mel_scale = T.MelScale(\n",
    "            n_mels=n_mel, sample_rate=resample_freq, n_stft=n_fft // 2 + 1)\n",
    "    def forward(self, waveform: torch.Tensor) -> torch.Tensor:\n",
    "        # Resample the input\n",
    "        resampled = self.resample(waveform)\n",
    "\n",
    "        # Convert to power spectrogram\n",
    "        spec = self.spec(resampled)\n",
    "\n",
    "        # Convert to mel-scale\n",
    "        mel = self.mel_scale(spec)\n",
    "\n",
    "        return mel"
   ]
  },
  {
   "cell_type": "code",
   "execution_count": null,
   "id": "25ea1ea8-a85f-4205-b26a-248bd144dcf9",
   "metadata": {},
   "outputs": [],
   "source": [
    "# Instantiate a pipeline\n",
    "pipeline = MyPipeline()\n",
    "\n",
    "# Perform the transform\n",
    "features = pipeline(waveform)\n"
   ]
  },
  {
   "cell_type": "code",
   "execution_count": null,
   "id": "e7064cfa-b926-4bb5-b936-c66566258550",
   "metadata": {},
   "outputs": [],
   "source": [
    "def plot_spectrogram(specgram, title=None, ylabel=\"freq_bin\", ax=None):\n",
    "    if ax is None:\n",
    "        _, ax = plt.subplots(1, 1)\n",
    "    if title is not None:\n",
    "        ax.set_title(title)\n",
    "    ax.set_ylabel(ylabel)\n",
    "    ax.imshow(librosa.power_to_db(specgram), origin=\"lower\", aspect=\"auto\", interpolation=\"nearest\")\n"
   ]
  },
  {
   "cell_type": "code",
   "execution_count": null,
   "id": "5a4ba1cf-de63-4f2d-9990-0d760a740f59",
   "metadata": {},
   "outputs": [],
   "source": [
    "features"
   ]
  },
  {
   "cell_type": "code",
   "execution_count": null,
   "id": "eb06f78c-e612-4049-a13a-83043ec1d40e",
   "metadata": {},
   "outputs": [],
   "source": [
    "features.shape"
   ]
  },
  {
   "cell_type": "code",
   "execution_count": null,
   "id": "9df08b87-24d3-4882-a02a-747723b48117",
   "metadata": {},
   "outputs": [],
   "source": [
    "plot_spectrogram(features[0])"
   ]
  },
  {
   "cell_type": "code",
   "execution_count": null,
   "id": "7d6ff6ff-c4d3-42c8-9b57-1cb796960233",
   "metadata": {},
   "outputs": [],
   "source": [
    "class MyPipeline2(torch.nn.Module):\n",
    "    def __init__(\n",
    "        self,\n",
    "        input_freq=16000,\n",
    "        resample_freq=16000,\n",
    "        n_fft=400,\n",
    "        hop_length=160,\n",
    "        n_mel=80,\n",
    "        stretch_factor=0.8,\n",
    "    ):\n",
    "        super().__init__()\n",
    "        self.resample = T.Resample(orig_freq=input_freq, new_freq=resample_freq)\n",
    "\n",
    "        self.spec = T.Spectrogram(n_fft=n_fft, power=2)\n",
    "        self.spec_aug = torch.nn.Sequential(\n",
    "            T.TimeStretch(stretch_factor, fixed_rate=True),\n",
    "            T.FrequencyMasking(freq_mask_param=80),\n",
    "            T.TimeMasking(time_mask_param=80),\n",
    "        )\n",
    "        self.mel_scale = T.MelScale(\n",
    "            n_mels=n_mel, sample_rate=resample_freq, n_stft=n_fft // 2 + 1)\n",
    "    def forward(self, waveform: torch.Tensor) -> torch.Tensor:\n",
    "        # Resample the input\n",
    "        resampled = self.resample(waveform)\n",
    "\n",
    "        # Convert to power spectrogram\n",
    "        spec = self.spec(resampled)\n",
    "        \n",
    "        # Apply SpecAugment\n",
    "        spec = self.spec_aug(spec)\n",
    "\n",
    "        # Convert to mel-scale\n",
    "        mel = self.mel_scale(spec)\n",
    "\n",
    "        return mel"
   ]
  },
  {
   "cell_type": "code",
   "execution_count": null,
   "id": "80f9f442-255e-40cc-9315-60b4da0fa3d6",
   "metadata": {},
   "outputs": [],
   "source": [
    "# Instantiate a pipeline\n",
    "pipeline2 = MyPipeline2()\n",
    "\n",
    "# Perform the transform\n",
    "features2 = pipeline2(waveform)"
   ]
  },
  {
   "cell_type": "code",
   "execution_count": null,
   "id": "5a66e528-335f-4303-b871-f83d270c7424",
   "metadata": {},
   "outputs": [],
   "source": [
    "features2.shape"
   ]
  },
  {
   "cell_type": "code",
   "execution_count": null,
   "id": "a1b2e43d-ae4f-4ad1-8bc5-04f3e8898091",
   "metadata": {},
   "outputs": [],
   "source": [
    "plot_spectrogram(features2[0])"
   ]
  },
  {
   "cell_type": "code",
   "execution_count": null,
   "id": "5aa9ee2c-2198-436a-8cd4-ed353740167d",
   "metadata": {},
   "outputs": [],
   "source": []
  }
 ],
 "metadata": {
  "kernelspec": {
   "display_name": "Python 3 (ipykernel)",
   "language": "python",
   "name": "python3"
  },
  "language_info": {
   "codemirror_mode": {
    "name": "ipython",
    "version": 3
   },
   "file_extension": ".py",
   "mimetype": "text/x-python",
   "name": "python",
   "nbconvert_exporter": "python",
   "pygments_lexer": "ipython3",
   "version": "3.8.10"
  }
 },
 "nbformat": 4,
 "nbformat_minor": 5
}
