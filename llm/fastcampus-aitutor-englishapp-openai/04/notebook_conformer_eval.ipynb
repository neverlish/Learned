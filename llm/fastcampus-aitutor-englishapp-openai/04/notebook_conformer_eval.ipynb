{
 "cells": [
  {
   "cell_type": "code",
   "execution_count": null,
   "id": "1c2a77c6-77de-478c-8b65-3d35ed8bec31",
   "metadata": {},
   "outputs": [],
   "source": [
    "import pathlib\n",
    "from argparse import ArgumentParser\n",
    "\n",
    "import sentencepiece as spm\n",
    "\n",
    "import torch\n",
    "import torchaudio\n",
    "from lightning import ConformerRNNTModule\n",
    "from transforms import get_data_module\n",
    "import json\n",
    "from torchaudio.models import Hypothesis, RNNTBeamSearch\n",
    "from typing import List, Tuple\n",
    "import math\n",
    "from IPython.display import Audio\n"
   ]
  },
  {
   "cell_type": "code",
   "execution_count": null,
   "id": "971e1821-d44f-43ff-b654-358ca980223e",
   "metadata": {},
   "outputs": [],
   "source": [
    "sp_model = spm.SentencePieceProcessor(model_file='/home/wonkyum/fc-asr/spm_unigram_1023.model')"
   ]
  },
  {
   "cell_type": "code",
   "execution_count": null,
   "id": "3806519e-65a4-487c-a64b-9db98fafc6b4",
   "metadata": {},
   "outputs": [],
   "source": [
    "checkpoint_path = '/home/wonkyum/fc-asr/exp/checkpoints/epoch=21-step=1451337.ckpt'"
   ]
  },
  {
   "cell_type": "code",
   "execution_count": null,
   "id": "b2089daf-8288-43ba-afe3-e80e6940c82f",
   "metadata": {},
   "outputs": [],
   "source": [
    "sp_model.vocab_size"
   ]
  },
  {
   "cell_type": "code",
   "execution_count": null,
   "id": "cbdbf95a-2fb9-4c44-8d0a-056e327f7d43",
   "metadata": {},
   "outputs": [],
   "source": [
    "rnnt_module = ConformerRNNTModule.load_from_checkpoint(checkpoint_path, sp_model=sp_model).eval()"
   ]
  },
  {
   "cell_type": "code",
   "execution_count": null,
   "id": "1641a21f-dc39-442e-bfe8-20aa029dd831",
   "metadata": {},
   "outputs": [],
   "source": [
    "rnnt_module.model.to(\"cuda\")\n",
    "decoder = RNNTBeamSearch(rnnt_module.model, 1023)"
   ]
  },
  {
   "cell_type": "code",
   "execution_count": null,
   "id": "8f9319b7-d011-4cd8-81d5-bf2a64a86ac8",
   "metadata": {},
   "outputs": [],
   "source": [
    "def post_process_hypos(\n",
    "    hypos: List[Hypothesis], sp_model: spm.SentencePieceProcessor\n",
    ") -> List[Tuple[str, float, List[int], List[int]]]:\n",
    "    tokens_idx = 0\n",
    "    score_idx = 3\n",
    "    post_process_remove_list = [\n",
    "        sp_model.unk_id(),\n",
    "        sp_model.eos_id(),\n",
    "        sp_model.pad_id(),\n",
    "    ]\n",
    "    filtered_hypo_tokens = [\n",
    "        [token_index for token_index in h[tokens_idx][1:] if token_index not in post_process_remove_list] for h in hypos\n",
    "    ]\n",
    "    hypos_str = [sp_model.decode(s) for s in filtered_hypo_tokens]\n",
    "    hypos_ids = [h[tokens_idx][1:] for h in hypos]\n",
    "    hypos_score = [[math.exp(h[score_idx])] for h in hypos]\n",
    "\n",
    "    nbest_batch = list(zip(hypos_str, hypos_score, hypos_ids))\n",
    "\n",
    "    return nbest_batch"
   ]
  },
  {
   "cell_type": "code",
   "execution_count": null,
   "id": "e8e1c109-edab-40af-997a-efe872ea0b81",
   "metadata": {},
   "outputs": [],
   "source": [
    "def _piecewise_linear_log(x):\n",
    "    x = x * _gain\n",
    "    x[x > math.e] = torch.log(x[x > math.e])\n",
    "    x[x <= math.e] = x[x <= math.e] / math.e\n",
    "    return x\n",
    "\n",
    "\n",
    "class FunctionalModule(torch.nn.Module):\n",
    "    def __init__(self, functional):\n",
    "        super().__init__()\n",
    "        self.functional = functional\n",
    "\n",
    "    def forward(self, input):\n",
    "        return self.functional(input)\n",
    "\n",
    "class GlobalStatsNormalization(torch.nn.Module):\n",
    "    def __init__(self, global_stats_path):\n",
    "        super().__init__()\n",
    "\n",
    "        with open(global_stats_path) as f:\n",
    "            blob = json.loads(f.read())\n",
    "\n",
    "        self.mean = torch.tensor(blob[\"mean\"])\n",
    "        self.invstddev = torch.tensor(blob[\"invstddev\"])\n",
    "\n",
    "    def forward(self, input):\n",
    "        return (input - self.mean) * self.invstddev"
   ]
  },
  {
   "cell_type": "code",
   "execution_count": null,
   "id": "91796d9b-e24d-436b-a970-cf3a3776f99c",
   "metadata": {},
   "outputs": [],
   "source": [
    "_decibel = 2 * 20 * math.log10(torch.iinfo(torch.int16).max)\n",
    "_gain = pow(10, 0.05 * _decibel)\n",
    "_spectrogram_transform = torchaudio.transforms.MelSpectrogram(sample_rate=16000, n_fft=400, n_mels=80, hop_length=160)\n",
    "\n",
    "\n",
    "\n",
    "def run_decoder(waveform):\n",
    "    extra_pipeline= torch.nn.Sequential(\n",
    "            FunctionalModule(_piecewise_linear_log),\n",
    "            GlobalStatsNormalization('./global_stats.json'),\n",
    "    )\n",
    "    mel_f = _spectrogram_transform(waveform[0].squeeze()).transpose(1, 0)\n",
    "    mel_f = torch.nn.utils.rnn.pad_sequence(mel_f, batch_first=True)\n",
    "    feats=extra_pipeline(mel_f)\n",
    "    lengths=torch.tensor(feats.shape[0])\n",
    "    hypotheses = decoder(feats.to(\"cuda\"), lengths.to(\"cuda\"), 20)\n",
    "    result=post_process_hypos(hypotheses, sp_model)\n",
    "    return result[0][0]\n",
    "\n",
    "\n",
    "\n",
    "\n"
   ]
  },
  {
   "cell_type": "code",
   "execution_count": null,
   "id": "c5d37f09-e5f2-46c8-b22b-783d34d4b26c",
   "metadata": {},
   "outputs": [],
   "source": [
    "my_wave_form, samplerate=torchaudio.load('/home/wonkyum/speech.wav')\n",
    "Audio(my_wave_form.numpy(), rate=samplerate)"
   ]
  },
  {
   "cell_type": "code",
   "execution_count": null,
   "id": "025276e5-49b9-4065-a60c-3b9587f02c3e",
   "metadata": {},
   "outputs": [],
   "source": [
    "run_decoder(my_wave_form)"
   ]
  },
  {
   "cell_type": "code",
   "execution_count": null,
   "id": "7bcbffd9-a79a-4bc1-b338-c59806ce6dcd",
   "metadata": {},
   "outputs": [],
   "source": []
  }
 ],
 "metadata": {
  "kernelspec": {
   "display_name": "Python 3 (ipykernel)",
   "language": "python",
   "name": "python3"
  },
  "language_info": {
   "codemirror_mode": {
    "name": "ipython",
    "version": 3
   },
   "file_extension": ".py",
   "mimetype": "text/x-python",
   "name": "python",
   "nbconvert_exporter": "python",
   "pygments_lexer": "ipython3",
   "version": "3.8.10"
  }
 },
 "nbformat": 4,
 "nbformat_minor": 5
}
