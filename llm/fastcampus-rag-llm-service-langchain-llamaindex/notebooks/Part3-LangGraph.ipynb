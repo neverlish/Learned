{
 "cells": [
  {
   "cell_type": "markdown",
   "metadata": {},
   "source": [
    "# Tools"
   ]
  },
  {
   "cell_type": "code",
   "execution_count": 1,
   "metadata": {},
   "outputs": [],
   "source": [
    "from langchain_community.document_loaders import DirectoryLoader\n",
    "from langchain_text_splitters import RecursiveCharacterTextSplitter\n",
    "from langchain_community.vectorstores import FAISS\n",
    "from langchain_openai.embeddings import OpenAIEmbeddings"
   ]
  },
  {
   "cell_type": "code",
   "execution_count": 2,
   "metadata": {},
   "outputs": [
    {
     "name": "stderr",
     "output_type": "stream",
     "text": [
      "  0%|          | 0/2 [00:00<?, ?it/s]libmagic is unavailable but assists in filetype detection. Please consider installing libmagic for better results.\n",
      "100%|██████████| 2/2 [00:04<00:00,  2.36s/it]\n"
     ]
    }
   ],
   "source": [
    "loader = DirectoryLoader('../dataset/llamaindex_data', glob=\"*\", show_progress=True)\n",
    "\n",
    "docs = loader.load()\n",
    "\n",
    "text_splitter = RecursiveCharacterTextSplitter(\n",
    "  separators=[\"\\n\\n\", \"\\n\", \" \"],\n",
    "  chunk_size=1024,\n",
    "  chunk_overlap=20,\n",
    "  length_function=len,\n",
    "  is_separator_regex=False,\n",
    ")\n",
    "\n",
    "documents = text_splitter.split_documents(docs)\n",
    "\n",
    "embed_model = OpenAIEmbeddings(\n",
    "  model=\"text-embedding-3-small\",\n",
    ")\n",
    "\n",
    "vector_index = FAISS.from_documents(documents, embed_model)\n",
    "\n",
    "retriever = vector_index.as_retriever(search_type=\"mmr\")"
   ]
  },
  {
   "cell_type": "code",
   "execution_count": 3,
   "metadata": {},
   "outputs": [],
   "source": [
    "vector_index.save_local(\"../models/faiss_chatgpt.json\")"
   ]
  },
  {
   "cell_type": "code",
   "execution_count": 4,
   "metadata": {},
   "outputs": [],
   "source": [
    "from langchain.tools.retriever import create_retriever_tool\n",
    "\n",
    "retriever_tool = create_retriever_tool(\n",
    "  retriever,\n",
    "  \"retriever-llm\",\n",
    "  description=\"You should use this tool for queries related to machine learning. A function for searching documents related to LLM or ML\"\n",
    ")\n",
    "\n"
   ]
  },
  {
   "cell_type": "code",
   "execution_count": 5,
   "metadata": {},
   "outputs": [
    {
     "data": {
      "text/plain": [
       "\"==== Dactyl ==== Developed in 2018, Dactyl uses machine learning to train a Shadow Hand, a human-like robot hand, to manipulate physical objects. It learns entirely in simulation using the same RL algorithms and training code as OpenAI Five. OpenAI tackled the object orientation problem by using domain randomization, a simulation approach which exposes the learner to a variety of experiences rather than trying to fit to reality. The set-up for Dactyl, aside from having motion tracking cameras, also has RGB cameras to allow the robot to manipulate an arbitrary object by seeing it. In 2018, OpenAI showed that the system was able to manipulate a cube and an octagonal prism. In 2019, OpenAI demonstrated that Dactyl could solve a Rubik's Cube. The robot was able to solve the puzzle 60% of the time. Objects like the Rubik's Cube introduce complex physics that is harder to model. OpenAI did this by improving the robustness of Dactyl to perturbations by using Automatic Domain Randomization (ADR), a simulation\\n\\nof GPT-2 and other transformer models. GPT-2's authors argue unsupervised language models to be general-purpose learners, illustrated by GPT-2 achieving state-of-the-art accuracy and perplexity on 7 of 8 zero-shot tasks (i.e. the model was not further trained on any task-specific input-output examples). The corpus it was trained on, called WebText, contains slightly 40 gigabytes of text from URLs shared in Reddit submissions with at least 3 upvotes. It avoids certain issues encoding vocabulary with word tokens by using byte pair encoding. This permits representing any string of characters by encoding both individual characters and multiple-character tokens.\\n\\ntrain its software without permission.\\n\\n(ADR), a simulation approach of generating progressively more difficult environments. ADR differs from manual domain randomization by not needing a human to specify randomization ranges.\""
      ]
     },
     "execution_count": 5,
     "metadata": {},
     "output_type": "execute_result"
    }
   ],
   "source": [
    "retriever_tool.run(\"What is TD learning?\")"
   ]
  },
  {
   "cell_type": "code",
   "execution_count": 6,
   "metadata": {},
   "outputs": [],
   "source": [
    "from langchain_community.tools import WikipediaQueryRun\n",
    "from langchain_community.utilities import WikipediaAPIWrapper\n",
    "\n",
    "api_wrapper = WikipediaAPIWrapper(top_k_results=1, doc_content_chars_max=100)\n",
    "wikipedia_tool = WikipediaQueryRun(api_wrapper=api_wrapper)"
   ]
  },
  {
   "cell_type": "code",
   "execution_count": 7,
   "metadata": {},
   "outputs": [
    {
     "data": {
      "text/plain": [
       "'wikipedia'"
      ]
     },
     "execution_count": 7,
     "metadata": {},
     "output_type": "execute_result"
    }
   ],
   "source": [
    "wikipedia_tool.name"
   ]
  },
  {
   "cell_type": "code",
   "execution_count": 8,
   "metadata": {},
   "outputs": [
    {
     "data": {
      "text/plain": [
       "'A wrapper around Wikipedia. Useful for when you need to answer general questions about people, places, companies, facts, historical events, or other subjects. Input should be a search query.'"
      ]
     },
     "execution_count": 8,
     "metadata": {},
     "output_type": "execute_result"
    }
   ],
   "source": [
    "wikipedia_tool.description"
   ]
  },
  {
   "cell_type": "code",
   "execution_count": 9,
   "metadata": {},
   "outputs": [
    {
     "data": {
      "text/plain": [
       "'Page: User experience design\\nSummary: User experience design (UX design, UXD, UED, or XD), upon whic'"
      ]
     },
     "execution_count": 9,
     "metadata": {},
     "output_type": "execute_result"
    }
   ],
   "source": [
    "wikipedia_tool.run(\"What is UX?\")"
   ]
  },
  {
   "cell_type": "code",
   "execution_count": 10,
   "metadata": {},
   "outputs": [],
   "source": [
    "import re\n",
    "import seaborn as sns\n",
    "\n",
    "from langchain.tools import tool\n",
    "\n",
    "@tool\n",
    "def graph_generator(text):\n",
    "  \"\"\"\n",
    "  Use this function when you need to generate a graph.\n",
    "  input format should be label1|number1,label2|number2\n",
    "  \"\"\"\n",
    "\n",
    "  label, data = list((zip(*re.findall(\"([^\\|,\\\"]+) *\\| *([\\d]+)\", text))))\n",
    "  data = list(map(lambda x: int(x), data))\n",
    "\n",
    "  sns.barplot(x=label, y=data)\n",
    "\n",
    "  return \"I have generated graph for you!\""
   ]
  },
  {
   "cell_type": "code",
   "execution_count": 11,
   "metadata": {},
   "outputs": [
    {
     "data": {
      "text/plain": [
       "'I have generated graph for you!'"
      ]
     },
     "execution_count": 11,
     "metadata": {},
     "output_type": "execute_result"
    },
    {
     "data": {
      "image/png": "[encoded data removed]",
      "text/plain": [
       "<Figure size 640x480 with 1 Axes>"
      ]
     },
     "metadata": {},
     "output_type": "display_data"
    }
   ],
   "source": [
    "graph_generator.invoke(\"GPT-3|175,Llama7b|7\")"
   ]
  },
  {
   "cell_type": "code",
   "execution_count": 12,
   "metadata": {},
   "outputs": [],
   "source": [
    "tools = [retriever_tool, graph_generator]"
   ]
  },
  {
   "cell_type": "markdown",
   "metadata": {},
   "source": [
    "# Agent"
   ]
  },
  {
   "cell_type": "code",
   "execution_count": 13,
   "metadata": {},
   "outputs": [],
   "source": [
    "from langchain_openai import ChatOpenAI\n",
    "\n",
    "llm = ChatOpenAI(model=\"gpt-3.5-turbo\")"
   ]
  },
  {
   "cell_type": "code",
   "execution_count": 14,
   "metadata": {},
   "outputs": [
    {
     "name": "stderr",
     "output_type": "stream",
     "text": [
      "/Users/hyeonjinho/.pyenv/versions/3.11.6/lib/python3.11/site-packages/langsmith/client.py:241: LangSmithMissingAPIKeyWarning: API key must be provided when using hosted LangSmith API\n",
      "  warnings.warn(\n"
     ]
    },
    {
     "data": {
      "text/plain": [
       "ChatPromptTemplate(input_variables=['agent_scratchpad', 'input'], optional_variables=['chat_history'], input_types={'chat_history': list[typing.Annotated[typing.Union[typing.Annotated[langchain_core.messages.ai.AIMessage, Tag(tag='ai')], typing.Annotated[langchain_core.messages.human.HumanMessage, Tag(tag='human')], typing.Annotated[langchain_core.messages.chat.ChatMessage, Tag(tag='chat')], typing.Annotated[langchain_core.messages.system.SystemMessage, Tag(tag='system')], typing.Annotated[langchain_core.messages.function.FunctionMessage, Tag(tag='function')], typing.Annotated[langchain_core.messages.tool.ToolMessage, Tag(tag='tool')], typing.Annotated[langchain_core.messages.ai.AIMessageChunk, Tag(tag='AIMessageChunk')], typing.Annotated[langchain_core.messages.human.HumanMessageChunk, Tag(tag='HumanMessageChunk')], typing.Annotated[langchain_core.messages.chat.ChatMessageChunk, Tag(tag='ChatMessageChunk')], typing.Annotated[langchain_core.messages.system.SystemMessageChunk, Tag(tag='SystemMessageChunk')], typing.Annotated[langchain_core.messages.function.FunctionMessageChunk, Tag(tag='FunctionMessageChunk')], typing.Annotated[langchain_core.messages.tool.ToolMessageChunk, Tag(tag='ToolMessageChunk')]], FieldInfo(annotation=NoneType, required=True, discriminator=Discriminator(discriminator=<function _get_type at 0x119b680e0>, custom_error_type=None, custom_error_message=None, custom_error_context=None))]], 'agent_scratchpad': list[typing.Annotated[typing.Union[typing.Annotated[langchain_core.messages.ai.AIMessage, Tag(tag='ai')], typing.Annotated[langchain_core.messages.human.HumanMessage, Tag(tag='human')], typing.Annotated[langchain_core.messages.chat.ChatMessage, Tag(tag='chat')], typing.Annotated[langchain_core.messages.system.SystemMessage, Tag(tag='system')], typing.Annotated[langchain_core.messages.function.FunctionMessage, Tag(tag='function')], typing.Annotated[langchain_core.messages.tool.ToolMessage, Tag(tag='tool')], typing.Annotated[langchain_core.messages.ai.AIMessageChunk, Tag(tag='AIMessageChunk')], typing.Annotated[langchain_core.messages.human.HumanMessageChunk, Tag(tag='HumanMessageChunk')], typing.Annotated[langchain_core.messages.chat.ChatMessageChunk, Tag(tag='ChatMessageChunk')], typing.Annotated[langchain_core.messages.system.SystemMessageChunk, Tag(tag='SystemMessageChunk')], typing.Annotated[langchain_core.messages.function.FunctionMessageChunk, Tag(tag='FunctionMessageChunk')], typing.Annotated[langchain_core.messages.tool.ToolMessageChunk, Tag(tag='ToolMessageChunk')]], FieldInfo(annotation=NoneType, required=True, discriminator=Discriminator(discriminator=<function _get_type at 0x119b680e0>, custom_error_type=None, custom_error_message=None, custom_error_context=None))]]}, partial_variables={'chat_history': []}, metadata={'lc_hub_owner': 'hwchase17', 'lc_hub_repo': 'openai-functions-agent', 'lc_hub_commit_hash': 'a1655024b06afbd95d17449f21316291e0726f13dcfaf990cc0d18087ad689a5'}, messages=[SystemMessagePromptTemplate(prompt=PromptTemplate(input_variables=[], input_types={}, partial_variables={}, template='You are a helpful assistant'), additional_kwargs={}), MessagesPlaceholder(variable_name='chat_history', optional=True), HumanMessagePromptTemplate(prompt=PromptTemplate(input_variables=['input'], input_types={}, partial_variables={}, template='{input}'), additional_kwargs={}), MessagesPlaceholder(variable_name='agent_scratchpad')])"
      ]
     },
     "execution_count": 14,
     "metadata": {},
     "output_type": "execute_result"
    }
   ],
   "source": [
    "from langchain import hub\n",
    "\n",
    "prompt = hub.pull(\"hwchase17/openai-functions-agent\")\n",
    "prompt"
   ]
  },
  {
   "cell_type": "code",
   "execution_count": 15,
   "metadata": {},
   "outputs": [],
   "source": [
    "from langchain.agents import create_openai_functions_agent, AgentExecutor\n",
    "\n",
    "agent = create_openai_functions_agent(llm, tools, prompt)\n",
    "agent_executor = AgentExecutor(agent=agent, tools=tools, verbose=True)"
   ]
  },
  {
   "cell_type": "code",
   "execution_count": 16,
   "metadata": {},
   "outputs": [
    {
     "name": "stdout",
     "output_type": "stream",
     "text": [
      "\n",
      "\n",
      "\u001b[1m> Entering new AgentExecutor chain...\u001b[0m\n",
      "\u001b[32;1m\u001b[1;3mHello! How can I assist you today?\u001b[0m\n",
      "\n",
      "\u001b[1m> Finished chain.\u001b[0m\n"
     ]
    },
    {
     "data": {
      "text/plain": [
       "{'input': 'hi!', 'output': 'Hello! How can I assist you today?'}"
      ]
     },
     "execution_count": 16,
     "metadata": {},
     "output_type": "execute_result"
    }
   ],
   "source": [
    "agent_executor.invoke({\"input\": \"hi!\"})"
   ]
  },
  {
   "cell_type": "code",
   "execution_count": 17,
   "metadata": {},
   "outputs": [
    {
     "name": "stdout",
     "output_type": "stream",
     "text": [
      "\n",
      "\n",
      "\u001b[1m> Entering new AgentExecutor chain...\u001b[0m\n",
      "\u001b[32;1m\u001b[1;3m\n",
      "Invoking: `retriever-llm` with `{'query': 'What is Mistral AI?'}`\n",
      "\n",
      "\n",
      "\u001b[0m\u001b[36;1m\u001b[1;3m25. 3. 1. 오후 11:31\n",
      "\n",
      "Mistral AI\n",
      "\n",
      "Mistral AI SAS is a French artificial intelligence (AI) startup, headquartered in Paris. It specializes in open-weight large language models (LLMs).[2][3]\n",
      "\n",
      "Namesake\n",
      "\n",
      "The company is named after the mistral, a powerful, cold wind in southern France.[4]\n",
      "\n",
      "History\n",
      "\n",
      "Mistral AI was established in April 2023 by three French AI researchers, Arthur Mensch, Guillaume Lample and Timothée Lacroix.[5]\n",
      "\n",
      "Mensch, an expert in advanced AI systems, is a former employee of Google DeepMind; Lample and Lacroix, meanwhile, are large-scale AI models specialists who had worked for Meta Platforms.[6]\n",
      "\n",
      "The trio originally met during their studies at École Polytechnique.[4]\n",
      "\n",
      "Company operation\n",
      "\n",
      "Philosophy\n",
      "\n",
      "Mistral AI emphasizes openness and innovation in the AI field and positions itself as an alternative to proprietary models.[7]\n",
      "\n",
      "The company has gained prominence as an alternative to proprietary AI systems as it aims to focusing on open-source \"democratize\" AI by innovation.[8]\n",
      "\n",
      "Proprietary\n",
      "\n",
      "Mistral Medium is trained in various languages including English, French, Italian, German, Spanish and code with a score of 8.6 on MT-Bench.[33] It is ranked in performance above Claude and below GPT-4 on the LMSys ELO Arena benchmark.[34] The number of parameters, and architecture of Mistral Medium is not known as Mistral has not published public information about it.[21]\n",
      "\n",
      "Apache 2.0\n",
      "\n",
      "External links\n",
      "\n",
      "Official website (https://mistral.ai/) Official Fan Twitter (https://x.com/LeChatonSol)\n",
      "\n",
      "Retrieved from \"https://en.wikipedia.org/w/index.php?title=Mistral_AI&oldid=1277140258\"\n",
      "\n",
      "https://en.wikipedia.org/wiki/Mistral_AI\n",
      "\n",
      "9/9\n",
      "\n",
      "On 10 December 2023, Mistral AI announced that it had raised €385 million ($428 million) as part of its second fundraising. This round of involves the Californian fund Andreessen Horowitz, BNP Paribas and the software publisher Salesforce.[9]\n",
      "\n",
      "financing\n",
      "\n",
      "In October 2023, Mistral AI raised €385 million.[10]\n",
      "\n",
      "By December 2023, billion.[11][12][13]\n",
      "\n",
      "it was valued at over $2\n",
      "\n",
      "Example of an image generated with Le Chat, the prompt is Generate an image you feel represents yourself, Mistral AI\n",
      "\n",
      "On 16 April 2024, reporting revealed that Mistral was in talks to raise €500 million, a deal that would more than double its current valuation to at least €5 billion.[14]\n",
      "\n",
      "In June 2024, Mistral AI secured a €600 million ($645 million) funding round, elevating its valuation to €5.8 billion ($6.2 billion).[15]\n",
      "\n",
      "Led by venture capital firm General Catalyst,[16] this round resulted in additional contributions from existing investors. The funds aim to support the company's expansion.\u001b[0m\u001b[32;1m\u001b[1;3mMistral AI is a French artificial intelligence startup based in Paris. It specializes in open-weight large language models (LLMs). The company was founded in April 2023 by three French AI researchers: Arthur Mensch, Guillaume Lample, and Timothée Lacroix. Mistral AI emphasizes openness and innovation in the AI field, positioning itself as an alternative to proprietary models. The company has raised significant funding, with the latest funding round in June 2024 elevating its valuation to €5.8 billion ($6.2 billion).\u001b[0m\n",
      "\n",
      "\u001b[1m> Finished chain.\u001b[0m\n"
     ]
    },
    {
     "data": {
      "text/plain": [
       "{'input': 'What is Mistral AI?',\n",
       " 'output': 'Mistral AI is a French artificial intelligence startup based in Paris. It specializes in open-weight large language models (LLMs). The company was founded in April 2023 by three French AI researchers: Arthur Mensch, Guillaume Lample, and Timothée Lacroix. Mistral AI emphasizes openness and innovation in the AI field, positioning itself as an alternative to proprietary models. The company has raised significant funding, with the latest funding round in June 2024 elevating its valuation to €5.8 billion ($6.2 billion).'}"
      ]
     },
     "execution_count": 17,
     "metadata": {},
     "output_type": "execute_result"
    }
   ],
   "source": [
    "agent_executor.invoke({\"input\": \"What is Mistral AI?\"})"
   ]
  },
  {
   "cell_type": "code",
   "execution_count": 18,
   "metadata": {},
   "outputs": [
    {
     "name": "stdout",
     "output_type": "stream",
     "text": [
      "\n",
      "\n",
      "\u001b[1m> Entering new AgentExecutor chain...\u001b[0m\n",
      "\u001b[32;1m\u001b[1;3m\n",
      "Invoking: `retriever-llm` with `{'query': 'Number of parameters in GPT-3, LLaMa(largest), LlaMa2(largest)'}`\n",
      "\n",
      "\n",
      "\u001b[0m\u001b[36;1m\u001b[1;3mMistral 7B\n",
      "\n",
      "Mistral AI claimed in the Mistral 7B release blog post that the model outperforms LLaMA 2 13B on all benchmarks tested, and is on par with LLaMA 34B on many benchmarks tested,[41] despite having only 7 billion parameters, a small size compared to its competitors.\n",
      "\n",
      "Mixtral 8x7B\n",
      "\n",
      "Mistral AI's testing in 2023 shows the model beats both LLaMA 70B, and GPT-3.5 in most benchmarks.[42]\n",
      "\n",
      "In March 2024, a research conducted by Patronus AI comparing performance of LLMs on a 100- question test with prompts to generate text from books protected under U.S. copyright law found that Open AI's GPT-4, Mixtral, Meta AI's LLaMA-2, and Anthropic's Claude 2 generated copyrighted text verbatim in 44%, 22%, 10%, and 8% of responses respectively.[43][44]\n",
      "\n",
      "Mistral Large 2\n",
      "\n",
      "According to Mistral AI, Large 2's performance in benchmarks is competitive with Llama 3.1 405B, particularly in programming-related tasks.[45][46]\n",
      "\n",
      "Codestral 22B\n",
      "\n",
      "==== GPT\n",
      "\n",
      "3 ====\n",
      "\n",
      "First described in May 2020, Generative Pre-trained Transformer 3 (GPT-3) is an unsupervised transformer language model and the successor to GPT-2. OpenAI stated that the full version of GPT-3 contained 175 billion parameters, two orders of magnitude larger than the 1.5 billion in the full version of GPT-2 (although GPT-3 models with as few as 125 million parameters were also trained). OpenAI stated that GPT-3 succeeded at certain \"meta-learning\" tasks and could generalize the purpose of a single input-output pair. The GPT-3 release paper gave examples of translation and cross-linguistic transfer learning between English and Romanian, and between English and German. GPT-3 dramatically improved benchmark results  over GPT-2. OpenAI cautioned that such scaling-up of language models could be approaching or encountering the fundamental capability limitations of predictive language models. Pre-training GPT-3 required several thousand petaflop/s-days of compute, compared to tens of petaflop/s-days for the full\n",
      "\n",
      "==== GPT-4o ==== On May 13, 2024, OpenAI announced and released GPT-4o, which can process and generate text, images and audio. GPT-4o achieved state-of-the-art results in voice, multilingual, and vision benchmarks, setting new records in audio speech recognition and translation. It scored 88.7% on the Massive Multitask Language Understanding (MMLU) benchmark compared to 86.5% by GPT-4. On July 18, 2024, OpenAI released GPT-4o mini, a smaller version of GPT-4o replacing GPT-3.5 Turbo on the ChatGPT interface. Its API costs $0.15 per million input tokens and $0.60 per million output tokens, compared to $5 and $15 respectively for GPT-4o. OpenAI expects it to be particularly useful for enterprises, startups and developers seeking to automate services with AI agents.\n",
      "\n",
      "==== o1 ====\u001b[0m\u001b[32;1m\u001b[1;3mHere are the number of parameters for the requested models:\n",
      "\n",
      "- GPT-3: 175 billion parameters\n",
      "- LLaMa (largest): Not available\n",
      "- LLaMa2 (largest): Not available\u001b[0m\n",
      "\n",
      "\u001b[1m> Finished chain.\u001b[0m\n"
     ]
    },
    {
     "data": {
      "text/plain": [
       "{'input': '\\nRetrieve the number of parameters of GPT-3, LLaMa(largest), LlaMa2(largest) and output them in the following format\\nmodel|number\\n',\n",
       " 'output': 'Here are the number of parameters for the requested models:\\n\\n- GPT-3: 175 billion parameters\\n- LLaMa (largest): Not available\\n- LLaMa2 (largest): Not available'}"
      ]
     },
     "execution_count": 18,
     "metadata": {},
     "output_type": "execute_result"
    }
   ],
   "source": [
    "query = \"\"\"\n",
    "Retrieve the number of parameters of GPT-3, LLaMa(largest), LlaMa2(largest) and output them in the following format\n",
    "model|number\n",
    "\"\"\"\n",
    "\n",
    "agent_executor.invoke({\"input\": query})"
   ]
  },
  {
   "cell_type": "code",
   "execution_count": 19,
   "metadata": {},
   "outputs": [
    {
     "name": "stdout",
     "output_type": "stream",
     "text": [
      "\n",
      "\n",
      "\u001b[1m> Entering new AgentExecutor chain...\u001b[0m\n",
      "\u001b[32;1m\u001b[1;3m\n",
      "Invoking: `graph_generator` with `{'text': 'GPT-3|175,LlaMa(largest)|405,LlaMa2(largest)|70'}`\n",
      "\n",
      "\n",
      "\u001b[0m\u001b[33;1m\u001b[1;3mI have generated graph for you!\u001b[0m\u001b[32;1m\u001b[1;3mI have generated the bar graph for the data you provided.\u001b[0m\n",
      "\n",
      "\u001b[1m> Finished chain.\u001b[0m\n"
     ]
    },
    {
     "data": {
      "text/plain": [
       "{'input': '\\nGiven this data, draw a bar graph\\n\\nGPT-3|175 billion, LLaMa(largest)|405 billion, LlaMa2(largest)|70 billion\\n\\n',\n",
       " 'output': 'I have generated the bar graph for the data you provided.'}"
      ]
     },
     "execution_count": 19,
     "metadata": {},
     "output_type": "execute_result"
    },
    {
     "data": {
      "image/png": "[encoded data removed]",
      "text/plain": [
       "<Figure size 640x480 with 1 Axes>"
      ]
     },
     "metadata": {},
     "output_type": "display_data"
    }
   ],
   "source": [
    "query = \"\"\"\n",
    "Given this data, draw a bar graph\n",
    "\n",
    "GPT-3|175 billion, LLaMa(largest)|405 billion, LlaMa2(largest)|70 billion\n",
    "\n",
    "\"\"\"\n",
    "\n",
    "agent_executor.invoke({\"input\": query})"
   ]
  },
  {
   "cell_type": "markdown",
   "metadata": {},
   "source": [
    "# LangGraph"
   ]
  },
  {
   "cell_type": "code",
   "execution_count": 20,
   "metadata": {},
   "outputs": [],
   "source": [
    "from langgraph.graph import END, MessageGraph\n",
    "\n",
    "graph = MessageGraph()"
   ]
  },
  {
   "cell_type": "code",
   "execution_count": 21,
   "metadata": {},
   "outputs": [],
   "source": [
    "graph.add_node(\"oracle\", llm)\n",
    "graph.add_edge(\"oracle\", END)\n",
    "\n",
    "graph.set_entry_point(\"oracle\")\n",
    "\n",
    "runnable = graph.compile()"
   ]
  },
  {
   "cell_type": "code",
   "execution_count": 22,
   "metadata": {},
   "outputs": [
    {
     "data": {
      "text/plain": [
       "[HumanMessage(content='What is Mistral AI?', additional_kwargs={}, response_metadata={}, id='fbabf22a-991e-49d7-9ef5-a796b9b01f0f'),\n",
       " AIMessage(content='Mistral AI is a British company that specializes in developing artificial intelligence solutions for various industries, including automotive, healthcare, and fintech. They provide AI technology and services to help businesses improve their operations, customer experience, and decision-making processes. Their solutions include machine learning models, natural language processing, computer vision, and predictive analytics.', additional_kwargs={'refusal': None}, response_metadata={'token_usage': {'completion_tokens': 68, 'prompt_tokens': 13, 'total_tokens': 81, 'completion_tokens_details': {'accepted_prediction_tokens': 0, 'audio_tokens': 0, 'reasoning_tokens': 0, 'rejected_prediction_tokens': 0}, 'prompt_tokens_details': {'audio_tokens': 0, 'cached_tokens': 0}}, 'model_name': 'gpt-3.5-turbo-0125', 'system_fingerprint': None, 'finish_reason': 'stop', 'logprobs': None}, id='run-35daaa27-062f-47db-bd34-afddc6553cfe-0', usage_metadata={'input_tokens': 13, 'output_tokens': 68, 'total_tokens': 81, 'input_token_details': {'audio': 0, 'cache_read': 0}, 'output_token_details': {'audio': 0, 'reasoning': 0}})]"
      ]
     },
     "execution_count": 22,
     "metadata": {},
     "output_type": "execute_result"
    }
   ],
   "source": [
    "from langchain_core.messages import HumanMessage\n",
    "\n",
    "runnable.invoke(HumanMessage(\"What is Mistral AI?\"))"
   ]
  },
  {
   "cell_type": "code",
   "execution_count": 26,
   "metadata": {},
   "outputs": [
    {
     "data": {
      "image/png": "[encoded data removed]",
      "text/plain": [
       "<IPython.core.display.Image object>"
      ]
     },
     "execution_count": 26,
     "metadata": {},
     "output_type": "execute_result"
    }
   ],
   "source": [
    "from IPython.display import Image\n",
    "\n",
    "Image(runnable.get_graph().draw_png())"
   ]
  },
  {
   "cell_type": "code",
   "execution_count": 27,
   "metadata": {},
   "outputs": [],
   "source": [
    "from langchain_core.utils.function_calling import convert_to_openai_tool\n",
    "\n",
    "openai_tools = [convert_to_openai_tool(tool) for tool in tools]\n",
    "\n",
    "model_with_tools = llm.bind(tools=openai_tools)"
   ]
  },
  {
   "cell_type": "code",
   "execution_count": 28,
   "metadata": {},
   "outputs": [],
   "source": [
    "def invoke_model(state):\n",
    "  return model_with_tools.invoke(state)"
   ]
  },
  {
   "cell_type": "code",
   "execution_count": 29,
   "metadata": {},
   "outputs": [],
   "source": [
    "graph = MessageGraph()\n",
    "graph.add_node(\"oracle\", invoke_model)\n",
    "graph.add_edge(\"oracle\", END)\n",
    "\n",
    "graph.set_entry_point(\"oracle\")\n",
    "\n",
    "runnable = graph.compile()\n",
    "\n"
   ]
  },
  {
   "cell_type": "code",
   "execution_count": 30,
   "metadata": {},
   "outputs": [
    {
     "data": {
      "text/plain": [
       "[HumanMessage(content='hi', additional_kwargs={}, response_metadata={}, id='899b7b01-586e-4ab9-9e1c-7cbbbe867d8c'),\n",
       " AIMessage(content='Hello! How can I assist you today?', additional_kwargs={'refusal': None}, response_metadata={'token_usage': {'completion_tokens': 11, 'prompt_tokens': 118, 'total_tokens': 129, 'completion_tokens_details': {'accepted_prediction_tokens': 0, 'audio_tokens': 0, 'reasoning_tokens': 0, 'rejected_prediction_tokens': 0}, 'prompt_tokens_details': {'audio_tokens': 0, 'cached_tokens': 0}}, 'model_name': 'gpt-3.5-turbo-0125', 'system_fingerprint': None, 'finish_reason': 'stop', 'logprobs': None}, id='run-ed6b410f-f656-4d1a-a672-70939ad2cb0e-0', usage_metadata={'input_tokens': 118, 'output_tokens': 11, 'total_tokens': 129, 'input_token_details': {'audio': 0, 'cache_read': 0}, 'output_token_details': {'audio': 0, 'reasoning': 0}})]"
      ]
     },
     "execution_count": 30,
     "metadata": {},
     "output_type": "execute_result"
    }
   ],
   "source": [
    "prompt = \"hi\"\n",
    "\n",
    "runnable.invoke(HumanMessage(prompt))"
   ]
  },
  {
   "cell_type": "code",
   "execution_count": 31,
   "metadata": {},
   "outputs": [
    {
     "data": {
      "text/plain": [
       "[HumanMessage(content='Retrieve the number of parameters for GPT-3, LLaMa(largest) and draw a graph', additional_kwargs={}, response_metadata={}, id='d7bffe25-f165-44a5-b9b3-3f0ccf85b360'),\n",
       " AIMessage(content='', additional_kwargs={'tool_calls': [{'id': 'call_w7tutXo8j1rHp2zxKAUU3Erk', 'function': {'arguments': '{\"query\": \"Number of parameters in GPT-3\"}', 'name': 'retriever-llm'}, 'type': 'function'}, {'id': 'call_oyF3WS20zGOAbv1ymUj3tdio', 'function': {'arguments': '{\"query\": \"Number of parameters in LLaMA (largest)\"}', 'name': 'retriever-llm'}, 'type': 'function'}], 'refusal': None}, response_metadata={'token_usage': {'completion_tokens': 69, 'prompt_tokens': 138, 'total_tokens': 207, 'completion_tokens_details': {'accepted_prediction_tokens': 0, 'audio_tokens': 0, 'reasoning_tokens': 0, 'rejected_prediction_tokens': 0}, 'prompt_tokens_details': {'audio_tokens': 0, 'cached_tokens': 0}}, 'model_name': 'gpt-3.5-turbo-0125', 'system_fingerprint': None, 'finish_reason': 'tool_calls', 'logprobs': None}, id='run-1af68d7a-f114-4251-b653-8b9ee1644d2d-0', tool_calls=[{'name': 'retriever-llm', 'args': {'query': 'Number of parameters in GPT-3'}, 'id': 'call_w7tutXo8j1rHp2zxKAUU3Erk', 'type': 'tool_call'}, {'name': 'retriever-llm', 'args': {'query': 'Number of parameters in LLaMA (largest)'}, 'id': 'call_oyF3WS20zGOAbv1ymUj3tdio', 'type': 'tool_call'}], usage_metadata={'input_tokens': 138, 'output_tokens': 69, 'total_tokens': 207, 'input_token_details': {'audio': 0, 'cache_read': 0}, 'output_token_details': {'audio': 0, 'reasoning': 0}})]"
      ]
     },
     "execution_count": 31,
     "metadata": {},
     "output_type": "execute_result"
    }
   ],
   "source": [
    "prompt = \"Retrieve the number of parameters for GPT-3, LLaMa(largest) and draw a graph\"\n",
    "\n",
    "runnable.invoke(HumanMessage(prompt))"
   ]
  },
  {
   "cell_type": "code",
   "execution_count": 32,
   "metadata": {},
   "outputs": [],
   "source": [
    "import json\n",
    "\n",
    "from langchain_core.messages import ToolMessage\n",
    "from langchain_core.tools import tool\n",
    "from langchain_core.utils.function_calling import convert_to_openai_tool\n",
    "from typing import List\n",
    "from langchain_core.messages.base import BaseMessage"
   ]
  },
  {
   "cell_type": "code",
   "execution_count": 33,
   "metadata": {},
   "outputs": [],
   "source": [
    "def router(state):\n",
    "  tool_calls = state[-1].additional_kwargs.get(\"tool_calls\", [])\n",
    "  print(tool_calls)\n",
    "  if tool_calls:\n",
    "    print(\"route to use_tool\")\n",
    "    return \"use_tool\"\n",
    "  else:\n",
    "    print(\"route to end\")\n",
    "    return \"end\""
   ]
  },
  {
   "cell_type": "code",
   "execution_count": 43,
   "metadata": {},
   "outputs": [],
   "source": [
    "tool_dict = {\n",
    "  \"retriever-llm\": retriever_tool,\n",
    "  \"graph_generator\": graph_generator\n",
    "}"
   ]
  },
  {
   "cell_type": "code",
   "execution_count": 44,
   "metadata": {},
   "outputs": [],
   "source": [
    "def use_tools(state):\n",
    "  print(\"use_tool\")\n",
    "  tool_calls = state[-1].additional_kwargs.get(\"tool_calls\", [])\n",
    "  response = []\n",
    "\n",
    "  for tool_call in tool_calls:\n",
    "    function = tool_dict[tool_call['function']['name']]\n",
    "    args = tool_call['function']['arguments']\n",
    "\n",
    "    result = function.invoke(args)\n",
    "\n",
    "    response.append(ToolMessage(\n",
    "      tool_call_id=tool_call['id'],\n",
    "      content=result,\n",
    "      name=tool_call['function']['name'],\n",
    "    ))\n",
    "  \n",
    "  return response"
   ]
  },
  {
   "cell_type": "code",
   "execution_count": 38,
   "metadata": {},
   "outputs": [
    {
     "data": {
      "text/plain": [
       "<langgraph.graph.message.MessageGraph at 0x336d18f10>"
      ]
     },
     "execution_count": 38,
     "metadata": {},
     "output_type": "execute_result"
    }
   ],
   "source": [
    "graph = MessageGraph()\n",
    "\n",
    "graph.add_node(\"oracle\", invoke_model)\n",
    "graph.add_node(\"use_tool\", use_tools)\n",
    "\n",
    "graph.add_conditional_edges(\"oracle\", router, {\n",
    "  \"use_tool\": \"use_tool\",\n",
    "  \"end\": END\n",
    "})\n",
    "\n",
    "graph.add_edge(\"use_tool\", \"oracle\")\n",
    "\n",
    "graph.set_entry_point(\"oracle\")\n",
    "\n",
    "graph.set_entry_point(\"oracle\")\n",
    "\n"
   ]
  },
  {
   "cell_type": "code",
   "execution_count": 39,
   "metadata": {},
   "outputs": [],
   "source": [
    "runnable = graph.compile()"
   ]
  },
  {
   "cell_type": "code",
   "execution_count": 40,
   "metadata": {},
   "outputs": [
    {
     "name": "stdout",
     "output_type": "stream",
     "text": [
      "[]\n",
      "route to end\n"
     ]
    },
    {
     "data": {
      "text/plain": [
       "[HumanMessage(content='hi', additional_kwargs={}, response_metadata={}, id='097cfcad-7318-45d5-ac34-88557f297250'),\n",
       " AIMessage(content='Hello! How can I assist you today?', additional_kwargs={'refusal': None}, response_metadata={'token_usage': {'completion_tokens': 11, 'prompt_tokens': 118, 'total_tokens': 129, 'completion_tokens_details': {'accepted_prediction_tokens': 0, 'audio_tokens': 0, 'reasoning_tokens': 0, 'rejected_prediction_tokens': 0}, 'prompt_tokens_details': {'audio_tokens': 0, 'cached_tokens': 0}}, 'model_name': 'gpt-3.5-turbo-0125', 'system_fingerprint': None, 'finish_reason': 'stop', 'logprobs': None}, id='run-f12ba7da-d34b-4d9d-ae67-4d8cf9155674-0', usage_metadata={'input_tokens': 118, 'output_tokens': 11, 'total_tokens': 129, 'input_token_details': {'audio': 0, 'cache_read': 0}, 'output_token_details': {'audio': 0, 'reasoning': 0}})]"
      ]
     },
     "execution_count": 40,
     "metadata": {},
     "output_type": "execute_result"
    }
   ],
   "source": [
    "prompt = \"hi\"\n",
    "\n",
    "runnable.invoke(HumanMessage(prompt))"
   ]
  },
  {
   "cell_type": "code",
   "execution_count": 41,
   "metadata": {},
   "outputs": [
    {
     "name": "stdout",
     "output_type": "stream",
     "text": [
      "[{'id': 'call_VWHm1FPHMT49SCsOk9JZMVnj', 'function': {'arguments': '{\"query\":\"Number of parameters of GPT-3\"}', 'name': 'retriever-llm'}, 'type': 'function'}]\n",
      "route to use_tool\n",
      "use_tool\n",
      "[]\n",
      "route to end\n"
     ]
    },
    {
     "data": {
      "text/plain": [
       "[HumanMessage(content='What is the number of parameters of GPT-3?', additional_kwargs={}, response_metadata={}, id='2a727b78-de80-468a-9c0e-8a5feeeffb33'),\n",
       " AIMessage(content='', additional_kwargs={'tool_calls': [{'id': 'call_VWHm1FPHMT49SCsOk9JZMVnj', 'function': {'arguments': '{\"query\":\"Number of parameters of GPT-3\"}', 'name': 'retriever-llm'}, 'type': 'function'}], 'refusal': None}, response_metadata={'token_usage': {'completion_tokens': 26, 'prompt_tokens': 129, 'total_tokens': 155, 'completion_tokens_details': {'accepted_prediction_tokens': 0, 'audio_tokens': 0, 'reasoning_tokens': 0, 'rejected_prediction_tokens': 0}, 'prompt_tokens_details': {'audio_tokens': 0, 'cached_tokens': 0}}, 'model_name': 'gpt-3.5-turbo-0125', 'system_fingerprint': None, 'finish_reason': 'tool_calls', 'logprobs': None}, id='run-aee0870a-26e7-44bc-aeeb-2cdfaa30b640-0', tool_calls=[{'name': 'retriever-llm', 'args': {'query': 'Number of parameters of GPT-3'}, 'id': 'call_VWHm1FPHMT49SCsOk9JZMVnj', 'type': 'tool_call'}], usage_metadata={'input_tokens': 129, 'output_tokens': 26, 'total_tokens': 155, 'input_token_details': {'audio': 0, 'cache_read': 0}, 'output_token_details': {'audio': 0, 'reasoning': 0}}),\n",
       " ToolMessage(content='First described in May 2020, Generative Pre-trained Transformer 3 (GPT-3) is an unsupervised transformer language model and the successor to GPT-2. OpenAI stated that the full version of GPT-3 contained 175 billion parameters, two orders of magnitude larger than the 1.5 billion in the full version of GPT-2 (although GPT-3 models with as few as 125 million parameters were also trained). OpenAI stated that GPT-3 succeeded at certain \"meta-learning\" tasks and could generalize the purpose of a single input-output pair. The GPT-3 release paper gave examples of translation and cross-linguistic transfer learning between English and Romanian, and between English and German. GPT-3 dramatically improved benchmark results  over GPT-2. OpenAI cautioned that such scaling-up of language models could be approaching or encountering the fundamental capability limitations of predictive language models. Pre-training GPT-3 required several thousand petaflop/s-days of compute, compared to tens of petaflop/s-days for the full\\n\\n==== GPT\\n\\n3 ====\\n\\nJuly 2024\\n\\nCodestral Mamba 7B\\n\\nJuly 2024\\n\\nMathstral 7B\\n\\nJuly 2024\\n\\nhttps://en.wikipedia.org/wiki/Mistral_AI\\n\\nNumber of Parameters (Billion)\\n\\n24\\n\\n123\\n\\n124\\n\\n8\\n\\n3\\n\\n12\\n\\n123\\n\\n7\\n\\n7\\n\\nLicense\\n\\nApache 2.0\\n\\nMistral Research License\\n\\nMistral Research License\\n\\nMistral Research License\\n\\nProprietary\\n\\nApache 2.0\\n\\nMistral Research License\\n\\nApache 2.0\\n\\nApache 2.0\\n\\nMistral AI - Wikipedia\\n\\nNotes\\n\\nUpon its release in January 2025, Mistral Small 3 is benchmarked as the leader in the \"small\" models category below 70B, featuring 24B parameters and capabilities comparable to those of larger models.[20][21]\\n\\n[21]\\n\\nOn November 19, 2024, the company introduced Pixtral Large, an improvement over Pixtral 12B, integrating a 1-billion-parameter visual encoder coupled with Mistral Large 2. This model has also been enhanced, particularly for long contexts and function calls.[22] [21]\\n\\n[21]\\n\\n[21]\\n\\n[21]\\n\\n==== SearchGPT ====\\n\\nSearchGPT, a prototype search engine developed by OpenAI, was unveiled on July 25, 2024, with an initial limited release to 10,000 test users. It combines traditional search engine features with generative AI capabilities.', name='retriever-llm', id='e261da3f-fe26-4d95-9fb2-003a168536ad', tool_call_id='call_VWHm1FPHMT49SCsOk9JZMVnj'),\n",
       " AIMessage(content='The number of parameters in GPT-3 is 175 billion.', additional_kwargs={'refusal': None}, response_metadata={'token_usage': {'completion_tokens': 16, 'prompt_tokens': 707, 'total_tokens': 723, 'completion_tokens_details': {'accepted_prediction_tokens': 0, 'audio_tokens': 0, 'reasoning_tokens': 0, 'rejected_prediction_tokens': 0}, 'prompt_tokens_details': {'audio_tokens': 0, 'cached_tokens': 0}}, 'model_name': 'gpt-3.5-turbo-0125', 'system_fingerprint': None, 'finish_reason': 'stop', 'logprobs': None}, id='run-a7ddf402-268c-4402-83c4-685aac6d22a4-0', usage_metadata={'input_tokens': 707, 'output_tokens': 16, 'total_tokens': 723, 'input_token_details': {'audio': 0, 'cache_read': 0}, 'output_token_details': {'audio': 0, 'reasoning': 0}})]"
      ]
     },
     "execution_count": 41,
     "metadata": {},
     "output_type": "execute_result"
    }
   ],
   "source": [
    "prompt = \"What is the number of parameters of GPT-3?\"\n",
    "\n",
    "runnable.invoke(HumanMessage(prompt))"
   ]
  },
  {
   "cell_type": "code",
   "execution_count": 45,
   "metadata": {},
   "outputs": [
    {
     "name": "stdout",
     "output_type": "stream",
     "text": [
      "[{'id': 'call_JgTGhZmXkkZgJo8F7SO2NRjD', 'function': {'arguments': '{\"text\":\"GPT-3|175,LLaMa|65,LLaMa2|70\"}', 'name': 'graph_generator'}, 'type': 'function'}]\n",
      "route to use_tool\n",
      "use_tool\n",
      "[]\n",
      "route to end\n"
     ]
    },
    {
     "data": {
      "text/plain": [
       "[HumanMessage(content='\\n\\nGiven this data, draw a line graph\\n\\n|------------|--------------|\\n|GPT-3|175 billion parameters|\\n|LLaMa|65 billion parameters|\\n|LLaMa2|70 billion parameters|\\n', additional_kwargs={}, response_metadata={}, id='dfe4800a-4071-41c7-8d0a-ecee6ba98133'),\n",
       " AIMessage(content='', additional_kwargs={'tool_calls': [{'id': 'call_JgTGhZmXkkZgJo8F7SO2NRjD', 'function': {'arguments': '{\"text\":\"GPT-3|175,LLaMa|65,LLaMa2|70\"}', 'name': 'graph_generator'}, 'type': 'function'}], 'refusal': None}, response_metadata={'token_usage': {'completion_tokens': 33, 'prompt_tokens': 161, 'total_tokens': 194, 'completion_tokens_details': {'accepted_prediction_tokens': 0, 'audio_tokens': 0, 'reasoning_tokens': 0, 'rejected_prediction_tokens': 0}, 'prompt_tokens_details': {'audio_tokens': 0, 'cached_tokens': 0}}, 'model_name': 'gpt-3.5-turbo-0125', 'system_fingerprint': None, 'finish_reason': 'tool_calls', 'logprobs': None}, id='run-492698a5-c0ac-400c-8b48-02db7ed0371d-0', tool_calls=[{'name': 'graph_generator', 'args': {'text': 'GPT-3|175,LLaMa|65,LLaMa2|70'}, 'id': 'call_JgTGhZmXkkZgJo8F7SO2NRjD', 'type': 'tool_call'}], usage_metadata={'input_tokens': 161, 'output_tokens': 33, 'total_tokens': 194, 'input_token_details': {'audio': 0, 'cache_read': 0}, 'output_token_details': {'audio': 0, 'reasoning': 0}}),\n",
       " ToolMessage(content='I have generated graph for you!', name='graph_generator', id='24f5f9c9-184a-45cc-8aa5-085e2a842a13', tool_call_id='call_JgTGhZmXkkZgJo8F7SO2NRjD'),\n",
       " AIMessage(content='The line graph has been generated based on the data provided. If you need any further analysis or details, feel free to ask!', additional_kwargs={'refusal': None}, response_metadata={'token_usage': {'completion_tokens': 28, 'prompt_tokens': 208, 'total_tokens': 236, 'completion_tokens_details': {'accepted_prediction_tokens': 0, 'audio_tokens': 0, 'reasoning_tokens': 0, 'rejected_prediction_tokens': 0}, 'prompt_tokens_details': {'audio_tokens': 0, 'cached_tokens': 0}}, 'model_name': 'gpt-3.5-turbo-0125', 'system_fingerprint': None, 'finish_reason': 'stop', 'logprobs': None}, id='run-fcd545c0-f23f-434c-b721-437f07af567b-0', usage_metadata={'input_tokens': 208, 'output_tokens': 28, 'total_tokens': 236, 'input_token_details': {'audio': 0, 'cache_read': 0}, 'output_token_details': {'audio': 0, 'reasoning': 0}})]"
      ]
     },
     "execution_count": 45,
     "metadata": {},
     "output_type": "execute_result"
    },
    {
     "data": {
      "image/png": "[encoded data removed]",
      "text/plain": [
       "<Figure size 640x480 with 1 Axes>"
      ]
     },
     "metadata": {},
     "output_type": "display_data"
    }
   ],
   "source": [
    "prompt = \"\"\"\n",
    "\n",
    "Given this data, draw a line graph\n",
    "\n",
    "|------------|--------------|\n",
    "|GPT-3|175 billion parameters|\n",
    "|LLaMa|65 billion parameters|\n",
    "|LLaMa2|70 billion parameters|\n",
    "\"\"\"\n",
    "\n",
    "runnable.invoke(HumanMessage(prompt))"
   ]
  },
  {
   "cell_type": "code",
   "execution_count": 46,
   "metadata": {},
   "outputs": [
    {
     "name": "stdout",
     "output_type": "stream",
     "text": [
      "[{'id': 'call_DMe2Xs0XSSBxwWIeyjqDXegO', 'function': {'arguments': '{\"query\": \"Number of parameters in GPT-3\"}', 'name': 'retriever-llm'}, 'type': 'function'}, {'id': 'call_SasCYOZiEmqoYUjVMh7iy9Hy', 'function': {'arguments': '{\"query\": \"Number of parameters in LLaMA (Largest Language Model)\"}', 'name': 'retriever-llm'}, 'type': 'function'}]\n",
      "route to use_tool\n",
      "use_tool\n",
      "[{'id': 'call_QSX89UTt5wxHtAZftQ3KVILx', 'function': {'arguments': '{\"text\":\"GPT-3|175, LLaMA|7\"}', 'name': 'graph_generator'}, 'type': 'function'}]\n",
      "route to use_tool\n",
      "use_tool\n",
      "[]\n",
      "route to end\n"
     ]
    },
    {
     "data": {
      "text/plain": [
       "[HumanMessage(content='Retrieve the number of parameters for GPT-3, LLaMa(largest) and draw a graph', additional_kwargs={}, response_metadata={}, id='e1b9be09-eab1-4741-af12-8a880535a18b'),\n",
       " AIMessage(content='', additional_kwargs={'tool_calls': [{'id': 'call_DMe2Xs0XSSBxwWIeyjqDXegO', 'function': {'arguments': '{\"query\": \"Number of parameters in GPT-3\"}', 'name': 'retriever-llm'}, 'type': 'function'}, {'id': 'call_SasCYOZiEmqoYUjVMh7iy9Hy', 'function': {'arguments': '{\"query\": \"Number of parameters in LLaMA (Largest Language Model)\"}', 'name': 'retriever-llm'}, 'type': 'function'}], 'refusal': None}, response_metadata={'token_usage': {'completion_tokens': 71, 'prompt_tokens': 138, 'total_tokens': 209, 'completion_tokens_details': {'accepted_prediction_tokens': 0, 'audio_tokens': 0, 'reasoning_tokens': 0, 'rejected_prediction_tokens': 0}, 'prompt_tokens_details': {'audio_tokens': 0, 'cached_tokens': 0}}, 'model_name': 'gpt-3.5-turbo-0125', 'system_fingerprint': None, 'finish_reason': 'tool_calls', 'logprobs': None}, id='run-9d1e97fe-04df-4c48-9307-891b33b008f1-0', tool_calls=[{'name': 'retriever-llm', 'args': {'query': 'Number of parameters in GPT-3'}, 'id': 'call_DMe2Xs0XSSBxwWIeyjqDXegO', 'type': 'tool_call'}, {'name': 'retriever-llm', 'args': {'query': 'Number of parameters in LLaMA (Largest Language Model)'}, 'id': 'call_SasCYOZiEmqoYUjVMh7iy9Hy', 'type': 'tool_call'}], usage_metadata={'input_tokens': 138, 'output_tokens': 71, 'total_tokens': 209, 'input_token_details': {'audio': 0, 'cache_read': 0}, 'output_token_details': {'audio': 0, 'reasoning': 0}}),\n",
       " ToolMessage(content='First described in May 2020, Generative Pre-trained Transformer 3 (GPT-3) is an unsupervised transformer language model and the successor to GPT-2. OpenAI stated that the full version of GPT-3 contained 175 billion parameters, two orders of magnitude larger than the 1.5 billion in the full version of GPT-2 (although GPT-3 models with as few as 125 million parameters were also trained). OpenAI stated that GPT-3 succeeded at certain \"meta-learning\" tasks and could generalize the purpose of a single input-output pair. The GPT-3 release paper gave examples of translation and cross-linguistic transfer learning between English and Romanian, and between English and German. GPT-3 dramatically improved benchmark results  over GPT-2. OpenAI cautioned that such scaling-up of language models could be approaching or encountering the fundamental capability limitations of predictive language models. Pre-training GPT-3 required several thousand petaflop/s-days of compute, compared to tens of petaflop/s-days for the full\\n\\n==== GPT\\n\\n3 ====\\n\\nJuly 2024\\n\\nCodestral Mamba 7B\\n\\nJuly 2024\\n\\nMathstral 7B\\n\\nJuly 2024\\n\\nhttps://en.wikipedia.org/wiki/Mistral_AI\\n\\nNumber of Parameters (Billion)\\n\\n24\\n\\n123\\n\\n124\\n\\n8\\n\\n3\\n\\n12\\n\\n123\\n\\n7\\n\\n7\\n\\nLicense\\n\\nApache 2.0\\n\\nMistral Research License\\n\\nMistral Research License\\n\\nMistral Research License\\n\\nProprietary\\n\\nApache 2.0\\n\\nMistral Research License\\n\\nApache 2.0\\n\\nApache 2.0\\n\\nMistral AI - Wikipedia\\n\\nNotes\\n\\nUpon its release in January 2025, Mistral Small 3 is benchmarked as the leader in the \"small\" models category below 70B, featuring 24B parameters and capabilities comparable to those of larger models.[20][21]\\n\\n[21]\\n\\nOn November 19, 2024, the company introduced Pixtral Large, an improvement over Pixtral 12B, integrating a 1-billion-parameter visual encoder coupled with Mistral Large 2. This model has also been enhanced, particularly for long contexts and function calls.[22] [21]\\n\\n[21]\\n\\n[21]\\n\\n[21]\\n\\n==== SearchGPT ====\\n\\nSearchGPT, a prototype search engine developed by OpenAI, was unveiled on July 25, 2024, with an initial limited release to 10,000 test users. It combines traditional search engine features with generative AI capabilities.', name='retriever-llm', id='2652cd15-548e-4e0f-a1f7-45e2f1dc4c7f', tool_call_id='call_DMe2Xs0XSSBxwWIeyjqDXegO'),\n",
       " ToolMessage(content='Mistral 7B\\n\\nMistral AI claimed in the Mistral 7B release blog post that the model outperforms LLaMA 2 13B on all benchmarks tested, and is on par with LLaMA 34B on many benchmarks tested,[41] despite having only 7 billion parameters, a small size compared to its competitors.\\n\\nMixtral 8x7B\\n\\nMistral AI\\'s testing in 2023 shows the model beats both LLaMA 70B, and GPT-3.5 in most benchmarks.[42]\\n\\nIn March 2024, a research conducted by Patronus AI comparing performance of LLMs on a 100- question test with prompts to generate text from books protected under U.S. copyright law found that Open AI\\'s GPT-4, Mixtral, Meta AI\\'s LLaMA-2, and Anthropic\\'s Claude 2 generated copyrighted text verbatim in 44%, 22%, 10%, and 8% of responses respectively.[43][44]\\n\\nMistral Large 2\\n\\nAccording to Mistral AI, Large 2\\'s performance in benchmarks is competitive with Llama 3.1 405B, particularly in programming-related tasks.[45][46]\\n\\nCodestral 22B\\n\\n==== Debate Game ==== In 2018, OpenAI launched the Debate Game, which teaches machines to debate toy problems in front of a human judge. The purpose is to research whether such an approach may assist in auditing AI decisions and in developing explainable AI.\\n\\n==== Microscope ==== Released in 2020, Microscope is a collection of visualizations of every significant layer and neuron of eight neural network models which are often studied in interpretability. Microscope was created to analyze the features that form inside these neural networks easily. The models included are AlexNet, VGG-19, different versions of Inception, and different versions of CLIP Resnet.\\n\\n==== DALL\\n\\nE ====\\n\\nRevealed in 2021, DALL-E is a Transformer model that creates images from textual descriptions. DALL-E uses a 12-billion-parameter version of GPT-3 to interpret natural language inputs (such as \"a green leather purse shaped like a pentagon\" or \"an isometric view of a sad capybara\") and generate corresponding images. It can create images of realistic objects (\"a stained-glass window with an image of a blue strawberry\") as well as objects that do not exist in reality (\"a cube with the texture of a porcupine\"). As of March 2021, no API or code is available.\\n\\n===== DALL-E 2 ===== In April 2022, OpenAI announced DALL-E 2, an updated version of the model with more realistic results. In December 2022, OpenAI published on GitHub software for Point-E, a new rudimentary system for converting a text description into a 3-dimensional model.\\n\\nFirst described in May 2020, Generative Pre-trained Transformer 3 (GPT-3) is an unsupervised transformer language model and the successor to GPT-2. OpenAI stated that the full version of GPT-3 contained 175 billion parameters, two orders of magnitude larger than the 1.5 billion in the full version of GPT-2 (although GPT-3 models with as few as 125 million parameters were also trained). OpenAI stated that GPT-3 succeeded at certain \"meta-learning\" tasks and could generalize the purpose of a single input-output pair. The GPT-3 release paper gave examples of translation and cross-linguistic transfer learning between English and Romanian, and between English and German. GPT-3 dramatically improved benchmark results  over GPT-2. OpenAI cautioned that such scaling-up of language models could be approaching or encountering the fundamental capability limitations of predictive language models. Pre-training GPT-3 required several thousand petaflop/s-days of compute, compared to tens of petaflop/s-days for the full', name='retriever-llm', id='87be59e3-10f1-4f71-ab12-a21231e276b4', tool_call_id='call_SasCYOZiEmqoYUjVMh7iy9Hy'),\n",
       " AIMessage(content='', additional_kwargs={'tool_calls': [{'id': 'call_QSX89UTt5wxHtAZftQ3KVILx', 'function': {'arguments': '{\"text\":\"GPT-3|175, LLaMA|7\"}', 'name': 'graph_generator'}, 'type': 'function'}], 'refusal': None}, response_metadata={'token_usage': {'completion_tokens': 26, 'prompt_tokens': 1661, 'total_tokens': 1687, 'completion_tokens_details': {'accepted_prediction_tokens': 0, 'audio_tokens': 0, 'reasoning_tokens': 0, 'rejected_prediction_tokens': 0}, 'prompt_tokens_details': {'audio_tokens': 0, 'cached_tokens': 0}}, 'model_name': 'gpt-3.5-turbo-0125', 'system_fingerprint': None, 'finish_reason': 'tool_calls', 'logprobs': None}, id='run-d4ceef7f-5e6b-4775-8e88-8ad77918dd2c-0', tool_calls=[{'name': 'graph_generator', 'args': {'text': 'GPT-3|175, LLaMA|7'}, 'id': 'call_QSX89UTt5wxHtAZftQ3KVILx', 'type': 'tool_call'}], usage_metadata={'input_tokens': 1661, 'output_tokens': 26, 'total_tokens': 1687, 'input_token_details': {'audio': 0, 'cache_read': 0}, 'output_token_details': {'audio': 0, 'reasoning': 0}}),\n",
       " ToolMessage(content='I have generated graph for you!', name='graph_generator', id='b90739ad-b39b-45a0-bdec-aa635fccee00', tool_call_id='call_QSX89UTt5wxHtAZftQ3KVILx'),\n",
       " AIMessage(content='The number of parameters for GPT-3 is 175 billion, and for LLaMA (Largest Language Model) is 7 billion. Here is a graph displaying this information.', additional_kwargs={'refusal': None}, response_metadata={'token_usage': {'completion_tokens': 40, 'prompt_tokens': 1701, 'total_tokens': 1741, 'completion_tokens_details': {'accepted_prediction_tokens': 0, 'audio_tokens': 0, 'reasoning_tokens': 0, 'rejected_prediction_tokens': 0}, 'prompt_tokens_details': {'audio_tokens': 0, 'cached_tokens': 0}}, 'model_name': 'gpt-3.5-turbo-0125', 'system_fingerprint': None, 'finish_reason': 'stop', 'logprobs': None}, id='run-2b68b131-850f-451a-9a77-2f05241351e8-0', usage_metadata={'input_tokens': 1701, 'output_tokens': 40, 'total_tokens': 1741, 'input_token_details': {'audio': 0, 'cache_read': 0}, 'output_token_details': {'audio': 0, 'reasoning': 0}})]"
      ]
     },
     "execution_count": 46,
     "metadata": {},
     "output_type": "execute_result"
    },
    {
     "data": {
      "image/png": "[encoded data removed]",
      "text/plain": [
       "<Figure size 640x480 with 1 Axes>"
      ]
     },
     "metadata": {},
     "output_type": "display_data"
    }
   ],
   "source": [
    "prompt = \"Retrieve the number of parameters for GPT-3, LLaMa(largest) and draw a graph\"\n",
    "\n",
    "runnable.invoke(HumanMessage(prompt))"
   ]
  },
  {
   "cell_type": "markdown",
   "metadata": {},
   "source": []
  },
  {
   "cell_type": "code",
   "execution_count": null,
   "metadata": {},
   "outputs": [],
   "source": []
  },
  {
   "cell_type": "code",
   "execution_count": null,
   "metadata": {},
   "outputs": [],
   "source": []
  }
 ],
 "metadata": {
  "kernelspec": {
   "display_name": "Python 3",
   "language": "python",
   "name": "python3"
  },
  "language_info": {
   "codemirror_mode": {
    "name": "ipython",
    "version": 3
   },
   "file_extension": ".py",
   "mimetype": "text/x-python",
   "name": "python",
   "nbconvert_exporter": "python",
   "pygments_lexer": "ipython3",
   "version": "3.11.6"
  }
 },
 "nbformat": 4,
 "nbformat_minor": 2
}
