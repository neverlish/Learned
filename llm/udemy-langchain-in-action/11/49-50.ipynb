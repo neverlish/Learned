{
 "cells": [
  {
   "cell_type": "code",
   "execution_count": 1,
   "id": "100c139f-7abb-4af4-91ca-b91209f8cb40",
   "metadata": {},
   "outputs": [
    {
     "data": {
      "text/plain": [
       "True"
      ]
     },
     "execution_count": 1,
     "metadata": {},
     "output_type": "execute_result"
    }
   ],
   "source": [
    "\n",
    "from dotenv import load_dotenv, find_dotenv\n",
    "\n",
    "load_dotenv(find_dotenv())"
   ]
  },
  {
   "cell_type": "code",
   "execution_count": 2,
   "id": "ef30550b-3787-4dce-a008-cfe887a89f35",
   "metadata": {},
   "outputs": [
    {
     "data": {
      "text/plain": [
       "AIMessage(content=\"I'm just a computer program, so I don't have feelings or emotions. How can I assist you today?\", response_metadata={'token_usage': {'completion_tokens': 23, 'prompt_tokens': 11, 'total_tokens': 34}, 'model_name': 'gpt-3.5-turbo', 'system_fingerprint': 'fp_b28b39ffa8', 'finish_reason': 'stop', 'logprobs': None}, id='run-7f1e4ae9-a964-4996-81c8-3625c7f04707-0')"
      ]
     },
     "execution_count": 2,
     "metadata": {},
     "output_type": "execute_result"
    }
   ],
   "source": [
    "from langchain_openai import ChatOpenAI\n",
    "\n",
    "llm = ChatOpenAI()\n",
    "llm.invoke(\"How are you?\")"
   ]
  },
  {
   "cell_type": "markdown",
   "id": "b377e3bd-9ff8-44c4-bd09-b379f607259d",
   "metadata": {},
   "source": [
    "# Using Langsmith\n"
   ]
  },
  {
   "cell_type": "code",
   "execution_count": 3,
   "id": "f011a81f-b675-4e7e-9926-0627ae1097c3",
   "metadata": {},
   "outputs": [
    {
     "name": "stderr",
     "output_type": "stream",
     "text": [
      "/Users/hyeonjinho/.pyenv/versions/3.9.18/lib/python3.9/site-packages/langchain_core/_api/deprecation.py:117: LangChainDeprecationWarning: The function `predict` was deprecated in LangChain 0.1.7 and will be removed in 0.2.0. Use invoke instead.\n",
      "  warn_deprecated(\n"
     ]
    },
    {
     "data": {
      "text/plain": [
       "'As of 2021, the estimated population of the United States is approximately 331 million people.'"
      ]
     },
     "execution_count": 3,
     "metadata": {},
     "output_type": "execute_result"
    }
   ],
   "source": [
    "from langchain.callbacks.tracers import LangChainTracer\n",
    "\n",
    "tracer = LangChainTracer(project_name=\"My Project\")\n",
    "llm.predict(\"How many people live in USA?\", callbacks=[tracer])"
   ]
  },
  {
   "cell_type": "code",
   "execution_count": 4,
   "id": "d3986b17-cea0-4354-9394-4f4d8c922c12",
   "metadata": {},
   "outputs": [],
   "source": [
    "from langchain.callbacks import tracing_v2_enabled\n",
    "\n",
    "with tracing_v2_enabled(project_name=\"My Project\"):\n",
    "    llm.predict(\"How many people live in Germany?\")"
   ]
  },
  {
   "cell_type": "code",
   "execution_count": 5,
   "id": "d870ff6a-e7a8-4fe1-a9a1-23177eeace12",
   "metadata": {},
   "outputs": [
    {
     "name": "stderr",
     "output_type": "stream",
     "text": [
      "/Users/hyeonjinho/.pyenv/versions/3.9.18/lib/python3.9/site-packages/langchain_core/_api/deprecation.py:117: LangChainDeprecationWarning: The function `__call__` was deprecated in LangChain 0.1.0 and will be removed in 0.2.0. Use invoke instead.\n",
      "  warn_deprecated(\n"
     ]
    },
    {
     "data": {
      "text/plain": [
       "{'input': 'Hello, World!', 'text': 'Hello, World!'}"
      ]
     },
     "execution_count": 5,
     "metadata": {},
     "output_type": "execute_result"
    }
   ],
   "source": [
    "from langchain.chains import LLMChain\n",
    "from langchain_openai import ChatOpenAI\n",
    "from langchain.prompts import PromptTemplate\n",
    "\n",
    "llm = ChatOpenAI(temperature=0, tags=[\"my-llm-tag\"])\n",
    "prompt = PromptTemplate.from_template(\"Say {input}\")\n",
    "chain = LLMChain(llm=llm, prompt=prompt, tags=[\"one-tag\", \"another-tag\"])\n",
    "\n",
    "chain(\"Hello, World!\", tags=[\"shared-tags\"])"
   ]
  },
  {
   "cell_type": "code",
   "execution_count": 6,
   "id": "dcab2664-efbd-47b5-a1a2-2249c15a3b27",
   "metadata": {},
   "outputs": [
    {
     "name": "stderr",
     "output_type": "stream",
     "text": [
      "/Users/hyeonjinho/.pyenv/versions/3.9.18/lib/python3.9/site-packages/langchain_core/_api/deprecation.py:117: LangChainDeprecationWarning: The function `run` was deprecated in LangChain 0.1.0 and will be removed in 0.2.0. Use invoke instead.\n",
      "  warn_deprecated(\n"
     ]
    }
   ],
   "source": [
    "from langchain.callbacks.manager import (\n",
    "    trace_as_chain_group\n",
    ")\n",
    "\n",
    "with trace_as_chain_group(\"my_group_name\") as group_manager:\n",
    "    pass\n",
    "\n",
    "from langchain_openai import ChatOpenAI\n",
    "from langchain.chains import LLMChain\n",
    "from langchain.prompts import PromptTemplate\n",
    "\n",
    "llm = ChatOpenAI(temperature=0.9)\n",
    "prompt = PromptTemplate(\n",
    "    input_variables=[\"question\"],\n",
    "    template=\"What is the answer to {question}?\",\n",
    ")\n",
    "chain = LLMChain(llm=llm, prompt=prompt)\n",
    "with trace_as_chain_group(\"my_group\") as group_manager:\n",
    "    chain.run(question=\"What is your name?\", callbacks=group_manager)\n",
    "    chain.run(question=\"What is your quest?\", callbacks=group_manager)\n",
    "    chain.run(question=\"What is your favorite color?\", callbacks=group_manager)"
   ]
  },
  {
   "cell_type": "code",
   "execution_count": 7,
   "id": "218db2c5-a511-4839-adfa-0044a5dba020",
   "metadata": {},
   "outputs": [
    {
     "data": {
      "text/plain": [
       "<generator object Client.list_runs at 0x11b0586d0>"
      ]
     },
     "execution_count": 7,
     "metadata": {},
     "output_type": "execute_result"
    }
   ],
   "source": [
    "from langsmith import Client\n",
    "\n",
    "client = Client()\n",
    "project_runs = client.list_runs(project_name=\"default\")\n",
    "project_runs"
   ]
  },
  {
   "cell_type": "code",
   "execution_count": 8,
   "id": "c86cee76-7a1f-41eb-93ae-c63ebe3602e7",
   "metadata": {},
   "outputs": [
    {
     "data": {
      "text/plain": [
       "<generator object Client.list_runs at 0x11b058660>"
      ]
     },
     "execution_count": 8,
     "metadata": {},
     "output_type": "execute_result"
    }
   ],
   "source": [
    "from datetime import datetime, timedelta\n",
    "\n",
    "todays_runs = client.list_runs(\n",
    "    project_name=\"default\",\n",
    "    start_time=datetime.now() - timedelta(days=1),\n",
    "    run_type=\"llm\",\n",
    ")\n",
    "todays_runs"
   ]
  },
  {
   "cell_type": "code",
   "execution_count": 9,
   "id": "4fd982e2-b109-4719-9668-7e3ea978bebf",
   "metadata": {},
   "outputs": [
    {
     "name": "stdout",
     "output_type": "stream",
     "text": [
      "id=UUID('dc3c5b4b-b9c0-4d3b-ba21-ac9819a8c574') name='ChatOpenAI' start_time=datetime.datetime(2024, 4, 11, 11, 57, 25, 7306) run_type='llm' end_time=datetime.datetime(2024, 4, 11, 11, 57, 26, 22430) extra={'invocation_params': {'model': 'gpt-3.5-turbo', 'model_name': 'gpt-3.5-turbo', 'stream': False, 'n': 1, 'temperature': 0.9, '_type': 'openai-chat', 'stop': None}, 'options': {'stop': None}, 'batch_size': 1, 'metadata': {'system_fingerprint': 'fp_c2295e73ad'}} error=None serialized=None events=[{'name': 'start', 'time': '2024-04-11T11:57:25.007306+00:00'}, {'name': 'end', 'time': '2024-04-11T11:57:26.022430+00:00'}] inputs={'messages': [{'lc': 1, 'type': 'constructor', 'id': ['langchain', 'schema', 'messages', 'HumanMessage'], 'kwargs': {'content': 'What is the answer to What is your favorite color??'}}]} outputs={'llm_output': {'model_name': 'gpt-3.5-turbo', 'system_fingerprint': 'fp_c2295e73ad'}, 'run': None, 'generations': [{'text': 'My favorite color is blue.', 'generation_info': {'finish_reason': 'stop', 'logprobs': None}, 'type': 'ChatGeneration', 'message': {'lc': 1, 'type': 'constructor', 'id': ['langchain', 'schema', 'messages', 'AIMessage'], 'kwargs': {'content': 'My favorite color is blue.', 'additional_kwargs': {}, 'name': None, 'id': 'run-dc3c5b4b-b9c0-4d3b-ba21-ac9819a8c574-0'}}}]} reference_example_id=None parent_run_id=UUID('b89c4529-dc41-403c-9142-b784a4fa6ba9') tags=[] session_id=UUID('d716b57c-90bf-4484-87da-7371a2ac844e') child_run_ids=None child_runs=None feedback_stats=None app_path='/o/b8e3d81b-c677-504e-9a65-54bc230e8cd2/projects/p/d716b57c-90bf-4484-87da-7371a2ac844e/r/dc3c5b4b-b9c0-4d3b-ba21-ac9819a8c574?trace_id=af727f15-c27c-4c07-980e-c9084d4c1da3&start_time=2024-04-11T11:57:23.311569' manifest_id=None status='success' prompt_tokens=18 completion_tokens=6 total_tokens=24 first_token_time=None total_cost=Decimal('0.000018') prompt_cost=Decimal('0.000009') completion_cost=Decimal('0.000009') parent_run_ids=[UUID('af727f15-c27c-4c07-980e-c9084d4c1da3'), UUID('b89c4529-dc41-403c-9142-b784a4fa6ba9')] trace_id=UUID('af727f15-c27c-4c07-980e-c9084d4c1da3') dotted_order='20240411T115723311569Zaf727f15-c27c-4c07-980e-c9084d4c1da3.20240411T115725004450Zb89c4529-dc41-403c-9142-b784a4fa6ba9.20240411T115725007306Zdc3c5b4b-b9c0-4d3b-ba21-ac9819a8c574' in_dataset=False\n",
      "id=UUID('7cba3eb5-6fc5-43f9-abd8-f49c403a4941') name='ChatOpenAI' start_time=datetime.datetime(2024, 4, 11, 11, 57, 23, 848404) run_type='llm' end_time=datetime.datetime(2024, 4, 11, 11, 57, 25, 1493) extra={'invocation_params': {'model': 'gpt-3.5-turbo', 'model_name': 'gpt-3.5-turbo', 'stream': False, 'n': 1, 'temperature': 0.9, '_type': 'openai-chat', 'stop': None}, 'options': {'stop': None}, 'batch_size': 1, 'metadata': {'system_fingerprint': 'fp_b28b39ffa8'}} error=None serialized=None events=[{'name': 'start', 'time': '2024-04-11T11:57:23.848404+00:00'}, {'name': 'end', 'time': '2024-04-11T11:57:25.001493+00:00'}] inputs={'messages': [{'lc': 1, 'type': 'constructor', 'id': ['langchain', 'schema', 'messages', 'HumanMessage'], 'kwargs': {'content': 'What is the answer to What is your quest??'}}]} outputs={'llm_output': {'model_name': 'gpt-3.5-turbo', 'system_fingerprint': 'fp_b28b39ffa8'}, 'run': None, 'generations': [{'text': 'The answer to \"What is your quest?\" can vary depending on the individual being asked. Some possible answers could be to find happiness, to succeed in their career, to travel the world, to make a difference in the world, to learn as much as possible, etc.', 'generation_info': {'finish_reason': 'stop', 'logprobs': None}, 'type': 'ChatGeneration', 'message': {'lc': 1, 'type': 'constructor', 'id': ['langchain', 'schema', 'messages', 'AIMessage'], 'kwargs': {'content': 'The answer to \"What is your quest?\" can vary depending on the individual being asked. Some possible answers could be to find happiness, to succeed in their career, to travel the world, to make a difference in the world, to learn as much as possible, etc.', 'additional_kwargs': {}, 'name': None, 'id': 'run-7cba3eb5-6fc5-43f9-abd8-f49c403a4941-0'}}}]} reference_example_id=None parent_run_id=UUID('8d161bba-b237-46f6-a9fc-8660796a7c69') tags=[] session_id=UUID('d716b57c-90bf-4484-87da-7371a2ac844e') child_run_ids=None child_runs=None feedback_stats=None app_path='/o/b8e3d81b-c677-504e-9a65-54bc230e8cd2/projects/p/d716b57c-90bf-4484-87da-7371a2ac844e/r/7cba3eb5-6fc5-43f9-abd8-f49c403a4941?trace_id=af727f15-c27c-4c07-980e-c9084d4c1da3&start_time=2024-04-11T11:57:23.311569' manifest_id=None status='success' prompt_tokens=17 completion_tokens=55 total_tokens=72 first_token_time=None total_cost=Decimal('0.000091') prompt_cost=Decimal('0.0000085') completion_cost=Decimal('0.0000825') parent_run_ids=[UUID('af727f15-c27c-4c07-980e-c9084d4c1da3'), UUID('8d161bba-b237-46f6-a9fc-8660796a7c69')] trace_id=UUID('af727f15-c27c-4c07-980e-c9084d4c1da3') dotted_order='20240411T115723311569Zaf727f15-c27c-4c07-980e-c9084d4c1da3.20240411T115723846525Z8d161bba-b237-46f6-a9fc-8660796a7c69.20240411T115723848404Z7cba3eb5-6fc5-43f9-abd8-f49c403a4941' in_dataset=False\n",
      "id=UUID('c564cc35-21cc-44e4-884b-5219cf57b4c7') name='ChatOpenAI' start_time=datetime.datetime(2024, 4, 11, 11, 57, 23, 317211) run_type='llm' end_time=datetime.datetime(2024, 4, 11, 11, 57, 23, 844244) extra={'invocation_params': {'model': 'gpt-3.5-turbo', 'model_name': 'gpt-3.5-turbo', 'stream': False, 'n': 1, 'temperature': 0.9, '_type': 'openai-chat', 'stop': None}, 'options': {'stop': None}, 'batch_size': 1, 'metadata': {'system_fingerprint': 'fp_b28b39ffa8'}} error=None serialized=None events=[{'name': 'start', 'time': '2024-04-11T11:57:23.317211+00:00'}, {'name': 'end', 'time': '2024-04-11T11:57:23.844244+00:00'}] inputs={'messages': [{'lc': 1, 'type': 'constructor', 'id': ['langchain', 'schema', 'messages', 'HumanMessage'], 'kwargs': {'content': 'What is the answer to What is your name??'}}]} outputs={'llm_output': {'model_name': 'gpt-3.5-turbo', 'system_fingerprint': 'fp_b28b39ffa8'}, 'run': None, 'generations': [{'text': 'My name is Assistant.', 'generation_info': {'finish_reason': 'stop', 'logprobs': None}, 'type': 'ChatGeneration', 'message': {'lc': 1, 'type': 'constructor', 'id': ['langchain', 'schema', 'messages', 'AIMessage'], 'kwargs': {'content': 'My name is Assistant.', 'additional_kwargs': {}, 'name': None, 'id': 'run-c564cc35-21cc-44e4-884b-5219cf57b4c7-0'}}}]} reference_example_id=None parent_run_id=UUID('a8861818-a67f-4183-865a-b64bd2962624') tags=[] session_id=UUID('d716b57c-90bf-4484-87da-7371a2ac844e') child_run_ids=None child_runs=None feedback_stats=None app_path='/o/b8e3d81b-c677-504e-9a65-54bc230e8cd2/projects/p/d716b57c-90bf-4484-87da-7371a2ac844e/r/c564cc35-21cc-44e4-884b-5219cf57b4c7?trace_id=af727f15-c27c-4c07-980e-c9084d4c1da3&start_time=2024-04-11T11:57:23.311569' manifest_id=None status='success' prompt_tokens=17 completion_tokens=5 total_tokens=22 first_token_time=None total_cost=Decimal('0.000016') prompt_cost=Decimal('0.0000085') completion_cost=Decimal('0.0000075') parent_run_ids=[UUID('af727f15-c27c-4c07-980e-c9084d4c1da3'), UUID('a8861818-a67f-4183-865a-b64bd2962624')] trace_id=UUID('af727f15-c27c-4c07-980e-c9084d4c1da3') dotted_order='20240411T115723311569Zaf727f15-c27c-4c07-980e-c9084d4c1da3.20240411T115723316499Za8861818-a67f-4183-865a-b64bd2962624.20240411T115723317211Zc564cc35-21cc-44e4-884b-5219cf57b4c7' in_dataset=False\n",
      "id=UUID('19fe15e3-0f20-4fed-8b80-d0514958ea80') name='ChatOpenAI' start_time=datetime.datetime(2024, 4, 11, 11, 57, 14, 785881) run_type='llm' end_time=datetime.datetime(2024, 4, 11, 11, 57, 16, 205447) extra={'invocation_params': {'model': 'gpt-3.5-turbo', 'model_name': 'gpt-3.5-turbo', 'stream': False, 'n': 1, 'temperature': 0.0, '_type': 'openai-chat', 'stop': None}, 'options': {'stop': None}, 'batch_size': 1, 'metadata': {'system_fingerprint': 'fp_b28b39ffa8'}} error=None serialized=None events=[{'name': 'start', 'time': '2024-04-11T11:57:14.785881+00:00'}, {'name': 'end', 'time': '2024-04-11T11:57:16.205447+00:00'}] inputs={'messages': [{'lc': 1, 'type': 'constructor', 'id': ['langchain', 'schema', 'messages', 'HumanMessage'], 'kwargs': {'content': 'Say Hello, World!'}}]} outputs={'llm_output': {'model_name': 'gpt-3.5-turbo', 'system_fingerprint': 'fp_b28b39ffa8'}, 'run': None, 'generations': [{'text': 'Hello, World!', 'generation_info': {'finish_reason': 'stop', 'logprobs': None}, 'type': 'ChatGeneration', 'message': {'lc': 1, 'type': 'constructor', 'id': ['langchain', 'schema', 'messages', 'AIMessage'], 'kwargs': {'content': 'Hello, World!', 'additional_kwargs': {}, 'name': None, 'id': 'run-19fe15e3-0f20-4fed-8b80-d0514958ea80-0'}}}]} reference_example_id=None parent_run_id=UUID('409a78ae-bc7e-4148-bdc0-12d107c6650a') tags=['my-llm-tag', 'shared-tags'] session_id=UUID('d716b57c-90bf-4484-87da-7371a2ac844e') child_run_ids=None child_runs=None feedback_stats=None app_path='/o/b8e3d81b-c677-504e-9a65-54bc230e8cd2/projects/p/d716b57c-90bf-4484-87da-7371a2ac844e/r/19fe15e3-0f20-4fed-8b80-d0514958ea80?trace_id=409a78ae-bc7e-4148-bdc0-12d107c6650a&start_time=2024-04-11T11:57:14.784915' manifest_id=None status='success' prompt_tokens=12 completion_tokens=4 total_tokens=16 first_token_time=None total_cost=Decimal('0.000012') prompt_cost=Decimal('0.000006') completion_cost=Decimal('0.000006') parent_run_ids=[UUID('409a78ae-bc7e-4148-bdc0-12d107c6650a')] trace_id=UUID('409a78ae-bc7e-4148-bdc0-12d107c6650a') dotted_order='20240411T115714784915Z409a78ae-bc7e-4148-bdc0-12d107c6650a.20240411T115714785881Z19fe15e3-0f20-4fed-8b80-d0514958ea80' in_dataset=False\n",
      "id=UUID('7f1e4ae9-a964-4996-81c8-3625c7f04707') name='ChatOpenAI' start_time=datetime.datetime(2024, 4, 11, 11, 56, 20, 973271) run_type='llm' end_time=datetime.datetime(2024, 4, 11, 11, 56, 21, 876311) extra={'invocation_params': {'model': 'gpt-3.5-turbo', 'model_name': 'gpt-3.5-turbo', 'stream': False, 'n': 1, 'temperature': 0.7, '_type': 'openai-chat', 'stop': None}, 'options': {'stop': None}, 'batch_size': 1, 'metadata': {'system_fingerprint': 'fp_b28b39ffa8'}} error=None serialized=None events=[{'name': 'start', 'time': '2024-04-11T11:56:20.973271+00:00'}, {'name': 'end', 'time': '2024-04-11T11:56:21.876311+00:00'}] inputs={'messages': [{'lc': 1, 'type': 'constructor', 'id': ['langchain', 'schema', 'messages', 'HumanMessage'], 'kwargs': {'content': 'How are you?'}}]} outputs={'llm_output': {'model_name': 'gpt-3.5-turbo', 'system_fingerprint': 'fp_b28b39ffa8'}, 'run': None, 'generations': [{'text': \"I'm just a computer program, so I don't have feelings or emotions. How can I assist you today?\", 'generation_info': {'finish_reason': 'stop', 'logprobs': None}, 'type': 'ChatGeneration', 'message': {'lc': 1, 'type': 'constructor', 'id': ['langchain', 'schema', 'messages', 'AIMessage'], 'kwargs': {'content': \"I'm just a computer program, so I don't have feelings or emotions. How can I assist you today?\", 'additional_kwargs': {}, 'name': None, 'id': 'run-7f1e4ae9-a964-4996-81c8-3625c7f04707-0'}}}]} reference_example_id=None parent_run_id=None tags=[] session_id=UUID('d716b57c-90bf-4484-87da-7371a2ac844e') child_run_ids=None child_runs=None feedback_stats=None app_path='/o/b8e3d81b-c677-504e-9a65-54bc230e8cd2/projects/p/d716b57c-90bf-4484-87da-7371a2ac844e/r/7f1e4ae9-a964-4996-81c8-3625c7f04707?trace_id=7f1e4ae9-a964-4996-81c8-3625c7f04707&start_time=2024-04-11T11:56:20.973271' manifest_id=None status='success' prompt_tokens=11 completion_tokens=23 total_tokens=34 first_token_time=None total_cost=Decimal('0.00004') prompt_cost=Decimal('0.0000055') completion_cost=Decimal('0.0000345') parent_run_ids=[] trace_id=UUID('7f1e4ae9-a964-4996-81c8-3625c7f04707') dotted_order='20240411T115620973271Z7f1e4ae9-a964-4996-81c8-3625c7f04707' in_dataset=False\n",
      "id=UUID('335e5674-f97c-46bd-81fd-0e8d3998f98d') name='ChatOpenAI' start_time=datetime.datetime(2024, 4, 11, 11, 55, 3, 274273) run_type='llm' end_time=datetime.datetime(2024, 4, 11, 11, 55, 4, 360213) extra={'invocation_params': {'model': 'gpt-3.5-turbo', 'model_name': 'gpt-3.5-turbo', 'stream': False, 'n': 1, 'temperature': 0.7, '_type': 'openai-chat', 'stop': None}, 'options': {'stop': None}, 'batch_size': 1, 'metadata': {'system_fingerprint': 'fp_b28b39ffa8'}} error=None serialized=None events=[{'name': 'start', 'time': '2024-04-11T11:55:03.274273+00:00'}, {'name': 'end', 'time': '2024-04-11T11:55:04.360213+00:00'}] inputs={'messages': [{'lc': 1, 'type': 'constructor', 'id': ['langchain', 'schema', 'messages', 'HumanMessage'], 'kwargs': {'content': 'How are you?'}}]} outputs={'llm_output': {'model_name': 'gpt-3.5-turbo', 'system_fingerprint': 'fp_b28b39ffa8'}, 'run': None, 'generations': [{'text': \"I'm just a computer program, so I don't have feelings or emotions, but I'm here and ready to assist you with anything you need. How can I help you today?\", 'generation_info': {'finish_reason': 'stop', 'logprobs': None}, 'type': 'ChatGeneration', 'message': {'lc': 1, 'type': 'constructor', 'id': ['langchain', 'schema', 'messages', 'AIMessage'], 'kwargs': {'content': \"I'm just a computer program, so I don't have feelings or emotions, but I'm here and ready to assist you with anything you need. How can I help you today?\", 'additional_kwargs': {}, 'name': None, 'id': 'run-335e5674-f97c-46bd-81fd-0e8d3998f98d-0'}}}]} reference_example_id=None parent_run_id=None tags=[] session_id=UUID('d716b57c-90bf-4484-87da-7371a2ac844e') child_run_ids=None child_runs=None feedback_stats=None app_path='/o/b8e3d81b-c677-504e-9a65-54bc230e8cd2/projects/p/d716b57c-90bf-4484-87da-7371a2ac844e/r/335e5674-f97c-46bd-81fd-0e8d3998f98d?trace_id=335e5674-f97c-46bd-81fd-0e8d3998f98d&start_time=2024-04-11T11:55:03.274273' manifest_id=None status='success' prompt_tokens=11 completion_tokens=37 total_tokens=48 first_token_time=None total_cost=Decimal('0.000061') prompt_cost=Decimal('0.0000055') completion_cost=Decimal('0.0000555') parent_run_ids=[] trace_id=UUID('335e5674-f97c-46bd-81fd-0e8d3998f98d') dotted_order='20240411T115503274273Z335e5674-f97c-46bd-81fd-0e8d3998f98d' in_dataset=False\n"
     ]
    }
   ],
   "source": [
    "for run in todays_runs:\n",
    "    print(run)"
   ]
  },
  {
   "cell_type": "code",
   "execution_count": null,
   "id": "9902be46-a2ed-46c4-8b5c-08b126cf5708",
   "metadata": {},
   "outputs": [],
   "source": []
  },
  {
   "cell_type": "code",
   "execution_count": null,
   "id": "1c99a2ea-5c2b-4c8c-ad03-d6c96ad98fa0",
   "metadata": {},
   "outputs": [],
   "source": []
  }
 ],
 "metadata": {
  "kernelspec": {
   "display_name": "Python 3 (ipykernel)",
   "language": "python",
   "name": "python3"
  },
  "language_info": {
   "codemirror_mode": {
    "name": "ipython",
    "version": 3
   },
   "file_extension": ".py",
   "mimetype": "text/x-python",
   "name": "python",
   "nbconvert_exporter": "python",
   "pygments_lexer": "ipython3",
   "version": "3.9.18"
  }
 },
 "nbformat": 4,
 "nbformat_minor": 5
}
