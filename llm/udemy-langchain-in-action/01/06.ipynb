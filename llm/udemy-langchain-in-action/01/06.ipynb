{
 "cells": [
  {
   "cell_type": "markdown",
   "id": "c7afff70-48b6-4046-a563-79af9aed94ed",
   "metadata": {},
   "source": [
    "# OpenAI API - Chat completions API"
   ]
  },
  {
   "cell_type": "markdown",
   "id": "e88afb52-c615-4513-a95a-b043acc022b9",
   "metadata": {},
   "source": [
    "Chat models process a sequence of messages to generate a single output message, facilitating both multi-turn conversations and single-turn tasks efficiently."
   ]
  },
  {
   "cell_type": "code",
   "execution_count": 2,
   "id": "bd4eb2e4-23b8-4526-a7ee-1f6c2210fd44",
   "metadata": {},
   "outputs": [
    {
     "data": {
      "text/plain": [
       "True"
      ]
     },
     "execution_count": 2,
     "metadata": {},
     "output_type": "execute_result"
    }
   ],
   "source": [
    "from dotenv import load_dotenv, find_dotenv\n",
    "\n",
    "load_dotenv(find_dotenv())"
   ]
  },
  {
   "cell_type": "code",
   "execution_count": 3,
   "id": "1e1cdb85-5e35-4a4b-a4b6-bdd1ab9f00e4",
   "metadata": {},
   "outputs": [],
   "source": [
    "import openai\n",
    "\n",
    "response = openai.chat.completions.create(\n",
    "    model=\"gpt-3.5-turbo\",\n",
    "    messages=[\n",
    "        {\"role\": \"system\", \"content\": \"You are a helpful assistant specialized in providing information about BellaVista Italian Restaurant.\"},\n",
    "        {\"role\": \"user\", \"content\": \"What's on the menu?\"},\n",
    "        {\"role\": \"assistant\", \"content\": \"BellaVista offers a variety of Italian dishes including pasta, pizza, and seafood.\"},\n",
    "        {\"role\": \"user\", \"content\": \"Do you have vegan options?\"}\n",
    "    ]\n",
    ")"
   ]
  },
  {
   "cell_type": "markdown",
   "id": "fec476cb-e99a-42e8-94b1-c9c87c0c4ec8",
   "metadata": {},
   "source": [
    "Let´s look at the structure of the response"
   ]
  },
  {
   "cell_type": "code",
   "execution_count": 4,
   "id": "0641a18e-fe9e-4da3-a95e-3e6c40822d0f",
   "metadata": {},
   "outputs": [
    {
     "name": "stdout",
     "output_type": "stream",
     "text": [
      "ChatCompletion(id='chatcmpl-9AvXQJEZr8YruJzXvhx41RBIQgUIh', choices=[Choice(finish_reason='stop', index=0, logprobs=None, message=ChatCompletionMessage(content='Yes, BellaVista Italian Restaurant offers several vegan options on their menu, such as vegan pasta dishes, salads, and vegan pizza with dairy-free cheese.', role='assistant', function_call=None, tool_calls=None))], created=1712391484, model='gpt-3.5-turbo-0125', object='chat.completion', system_fingerprint='fp_b28b39ffa8', usage=CompletionUsage(completion_tokens=31, prompt_tokens=65, total_tokens=96))\n"
     ]
    }
   ],
   "source": [
    "print(response)"
   ]
  },
  {
   "cell_type": "code",
   "execution_count": 5,
   "id": "fc8e1ae1-6654-474b-a37a-f856e2c28b52",
   "metadata": {},
   "outputs": [
    {
     "name": "stdout",
     "output_type": "stream",
     "text": [
      "Yes, BellaVista Italian Restaurant offers several vegan options on their menu, such as vegan pasta dishes, salads, and vegan pizza with dairy-free cheese.\n"
     ]
    }
   ],
   "source": [
    "print(response.choices[0].message.content)"
   ]
  },
  {
   "cell_type": "code",
   "execution_count": null,
   "id": "c66d1d7a-faac-4e47-9f77-02650f5e14c9",
   "metadata": {},
   "outputs": [],
   "source": []
  }
 ],
 "metadata": {
  "kernelspec": {
   "display_name": "Python 3 (ipykernel)",
   "language": "python",
   "name": "python3"
  },
  "language_info": {
   "codemirror_mode": {
    "name": "ipython",
    "version": 3
   },
   "file_extension": ".py",
   "mimetype": "text/x-python",
   "name": "python",
   "nbconvert_exporter": "python",
   "pygments_lexer": "ipython3",
   "version": "3.9.18"
  }
 },
 "nbformat": 4,
 "nbformat_minor": 5
}
