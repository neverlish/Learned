{
 "cells": [
  {
   "cell_type": "markdown",
   "id": "83ec28b9-6a1d-4b8a-870b-519edfdfb04d",
   "metadata": {},
   "source": [
    "# LLMChains & OutputParsers\n"
   ]
  },
  {
   "cell_type": "markdown",
   "id": "f402e60a-f8b5-44cb-8cb7-9aefff97ce36",
   "metadata": {},
   "source": [
    "Instead of just using models you can combine a model and a prompt. This can be done with the LLMChain class. We will additional, more complex chains in this notebook"
   ]
  },
  {
   "cell_type": "code",
   "execution_count": 1,
   "id": "fdebc2d8-4afc-4607-bc96-292f036d30a6",
   "metadata": {},
   "outputs": [
    {
     "data": {
      "text/plain": [
       "True"
      ]
     },
     "execution_count": 1,
     "metadata": {},
     "output_type": "execute_result"
    }
   ],
   "source": [
    "from dotenv import load_dotenv, find_dotenv\n",
    "\n",
    "load_dotenv(find_dotenv())"
   ]
  },
  {
   "cell_type": "code",
   "execution_count": 2,
   "id": "62436a98-905c-4e18-9ea7-aface67fb9b2",
   "metadata": {},
   "outputs": [],
   "source": [
    "TEMPLATE = \"\"\"\n",
    "Interprete the text and evaluate the text.\n",
    "sentiment: is the text in a positive, neutral or negative sentiment? Sentiment is required.\n",
    "subject: What subject is the text about? Use exactly one word. Use 'None' if no subject was provided.\n",
    "price: How much did the customer pay? Use 'None' if no price was provided.\n",
    "\n",
    "Format the output as JSON with the following keys:\n",
    "sentiment\n",
    "subject\n",
    "price\n",
    "\n",
    "text: {input}\n",
    "\"\"\""
   ]
  },
  {
   "cell_type": "code",
   "execution_count": 3,
   "id": "17ffaa26-5b34-4edd-bbe5-67220672a980",
   "metadata": {},
   "outputs": [
    {
     "data": {
      "text/plain": [
       "{'input': 'I ordered pizza salami from the restaurant Bellavista. It was ok, but the dough could have been a bit more crisp.',\n",
       " 'text': '{\\n    \"sentiment\": \"neutral\",\\n    \"subject\": \"food\",\\n    \"price\": \"None\"\\n}'}"
      ]
     },
     "execution_count": 3,
     "metadata": {},
     "output_type": "execute_result"
    }
   ],
   "source": [
    "from langchain.prompts import ChatPromptTemplate\n",
    "from langchain_openai import ChatOpenAI\n",
    "from langchain.chains import LLMChain\n",
    "\n",
    "llm = ChatOpenAI()\n",
    "\n",
    "prompt_template = ChatPromptTemplate.from_template(template=TEMPLATE)\n",
    "chain = LLMChain(llm=llm, prompt=prompt_template)\n",
    "chain.invoke(input=\"I ordered pizza salami from the restaurant Bellavista. It was ok, but the dough could have been a bit more crisp.\")"
   ]
  }
 ],
 "metadata": {
  "kernelspec": {
   "display_name": "Python 3 (ipykernel)",
   "language": "python",
   "name": "python3"
  },
  "language_info": {
   "codemirror_mode": {
    "name": "ipython",
    "version": 3
   },
   "file_extension": ".py",
   "mimetype": "text/x-python",
   "name": "python",
   "nbconvert_exporter": "python",
   "pygments_lexer": "ipython3",
   "version": "3.9.18"
  }
 },
 "nbformat": 4,
 "nbformat_minor": 5
}
