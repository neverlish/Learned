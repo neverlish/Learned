{
 "cells": [
  {
   "cell_type": "markdown",
   "id": "d3b65012-8b10-4652-b432-70a471c775f9",
   "metadata": {},
   "source": [
    "# Chains with multiple inputs\n"
   ]
  },
  {
   "cell_type": "code",
   "execution_count": 1,
   "id": "ff13a0f8-9854-4639-b8df-b215f9fa1d2f",
   "metadata": {},
   "outputs": [
    {
     "data": {
      "text/plain": [
       "True"
      ]
     },
     "execution_count": 1,
     "metadata": {},
     "output_type": "execute_result"
    }
   ],
   "source": [
    "from dotenv import load_dotenv, find_dotenv\n",
    "\n",
    "load_dotenv(find_dotenv())"
   ]
  },
  {
   "cell_type": "code",
   "execution_count": 2,
   "id": "30e7f907-16f2-442b-8eba-fd1e3b1ee9c4",
   "metadata": {},
   "outputs": [
    {
     "data": {
      "text/plain": [
       "{'input': 'a parrot',\n",
       " 'text': 'Why did the parrot wear a raincoat?\\n\\nBecause he wanted to be polyunsaturated!'}"
      ]
     },
     "execution_count": 2,
     "metadata": {},
     "output_type": "execute_result"
    }
   ],
   "source": [
    "from langchain.prompts.prompt import PromptTemplate\n",
    "from langchain_openai import ChatOpenAI\n",
    "from langchain.chains import LLMChain\n",
    "\n",
    "llm = ChatOpenAI()\n",
    "\n",
    "prompt_template = PromptTemplate(input_variables=[\"input\"], template=\"Tell me a joke about {input}\")\n",
    "chain = LLMChain(llm=llm, prompt=prompt_template)\n",
    "chain.invoke(input=\"a parrot\")"
   ]
  },
  {
   "cell_type": "code",
   "execution_count": 3,
   "id": "2bf39910-598b-488d-bff4-e2db0a97151d",
   "metadata": {},
   "outputs": [
    {
     "data": {
      "text/plain": [
       "{'input': 'a parrot',\n",
       " 'language': 'german',\n",
       " 'text': 'Warum hat der Papagei den Bus verpasst?\\n\\nWeil er noch schnell einen Vogel hatte!'}"
      ]
     },
     "execution_count": 3,
     "metadata": {},
     "output_type": "execute_result"
    }
   ],
   "source": [
    "prompt_template = PromptTemplate(input_variables=[\"input\", \"language\"], template=\"Tell me a joke about {input} in {language}\")\n",
    "chain = LLMChain(llm=llm, prompt=prompt_template)\n",
    "chain.invoke({\"input\": \"a parrot\", \"language\": \"german\"})"
   ]
  },
  {
   "cell_type": "markdown",
   "id": "4978c532-c86a-450a-b6e3-bd5eefcd8d02",
   "metadata": {},
   "source": [
    "Chains can be more complex and not all sequential chains will be as simple as passing a single string as an argument and getting a single string as output for all steps in the chain"
   ]
  },
  {
   "cell_type": "code",
   "execution_count": 4,
   "id": "52ed0fad-ee6d-4443-86aa-b182111cd0c9",
   "metadata": {},
   "outputs": [],
   "source": [
    "from langchain.chains import SequentialChain\n",
    "\n",
    "# This is an LLMChain to write a review given a dish name and the experience.\n",
    "prompt_review = PromptTemplate.from_template(\n",
    "    template=\"You ordered {dish_name} and your experience was {experience}. Write a review: \"\n",
    ")\n",
    "chain_review = LLMChain(llm=llm, prompt=prompt_review, output_key=\"review\")\n",
    "\n",
    "# This is an LLMChain to write a follow-up comment given the restaurant review.\n",
    "prompt_comment = PromptTemplate.from_template(\n",
    "    template=\"Given the restaurant review: {review}, write a follow-up comment: \"\n",
    ")\n",
    "chain_comment = LLMChain(llm=llm, prompt=prompt_comment, output_key=\"comment\")\n",
    "\n",
    "# This is an LLMChain to summarize a review.\n",
    "prompt_summary = PromptTemplate.from_template(\n",
    "    template=\"Summarise the review in one short sentence: \\n\\n {comment}\"\n",
    ")\n",
    "chain_summary = LLMChain(llm=llm, prompt=prompt_summary, output_key=\"summary\")\n",
    "\n",
    "# This is an LLMChain to translate a summary into German.\n",
    "prompt_translation = PromptTemplate.from_template(\n",
    "    template=\"Translate the summary to german: \\n\\n {summary}\"\n",
    ")\n",
    "chain_translation = LLMChain(\n",
    "    llm=llm, prompt=prompt_translation, output_key=\"german_translation\"\n",
    ")"
   ]
  },
  {
   "cell_type": "code",
   "execution_count": 5,
   "id": "e468ee3b-d3cf-4cca-bca1-2de80aaae636",
   "metadata": {},
   "outputs": [
    {
     "data": {
      "text/plain": [
       "{'dish_name': 'Pizza Salami',\n",
       " 'experience': 'It was awful!',\n",
       " 'review': 'I recently ordered the Pizza Salami from this restaurant and I have to say, it was absolutely awful. The pizza arrived cold and soggy, with barely any toppings on it. The salami was barely noticeable and tasted like it had been sitting out for hours.\\n\\nThe crust was overcooked and tasted like cardboard. I was extremely disappointed with the quality of the pizza, especially considering the price I paid for it.\\n\\nOverall, I would not recommend ordering the Pizza Salami from this restaurant. Save your money and go somewhere else for a better pizza experience.',\n",
       " 'comment': \"I had a similar experience when I ordered the Pizza Salami from this restaurant. The quality was definitely not up to par and I was very disappointed. I agree that the toppings were sparse and the salami was barely there.\\n\\nI also found the crust to be overcooked and lacking in flavor. It's a shame because I had heard good things about this place before trying it myself. I definitely won't be ordering from here again and would recommend others to do the same. There are plenty of other pizza places that offer a much better experience for the price.\",\n",
       " 'summary': 'The reviewer had a disappointing experience with the Pizza Salami from this restaurant, citing sparse toppings, barely-there salami, overcooked crust, and lack of flavor, and advises against ordering from here again.',\n",
       " 'german_translation': 'Der Rezensent hatte eine enttäuschende Erfahrung mit der Pizza Salami aus diesem Restaurant, bemängelte spärliche Beläge, kaum vorhandene Salami, überbackenen Teig und mangelnden Geschmack und rät davon ab, hier erneut zu bestellen.'}"
      ]
     },
     "execution_count": 5,
     "metadata": {},
     "output_type": "execute_result"
    }
   ],
   "source": [
    "overall_chain = SequentialChain(\n",
    "    chains=[chain_review, chain_comment, chain_summary, chain_translation],\n",
    "    input_variables=[\"dish_name\", \"experience\"],\n",
    "    output_variables=[\"review\", \"comment\", \"summary\", \"german_translation\"],\n",
    ")\n",
    "\n",
    "overall_chain.invoke({\"dish_name\": \"Pizza Salami\", \"experience\": \"It was awful!\"})"
   ]
  },
  {
   "cell_type": "code",
   "execution_count": null,
   "id": "eb889e5c-744e-43b8-83b6-be11c8d9ed44",
   "metadata": {},
   "outputs": [],
   "source": []
  }
 ],
 "metadata": {
  "kernelspec": {
   "display_name": "Python 3 (ipykernel)",
   "language": "python",
   "name": "python3"
  },
  "language_info": {
   "codemirror_mode": {
    "name": "ipython",
    "version": 3
   },
   "file_extension": ".py",
   "mimetype": "text/x-python",
   "name": "python",
   "nbconvert_exporter": "python",
   "pygments_lexer": "ipython3",
   "version": "3.9.18"
  }
 },
 "nbformat": 4,
 "nbformat_minor": 5
}
