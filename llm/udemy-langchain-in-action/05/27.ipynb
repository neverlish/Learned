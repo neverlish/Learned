{
 "cells": [
  {
   "cell_type": "markdown",
   "id": "55ad56aa-2302-40d7-b27f-a375a802149f",
   "metadata": {},
   "source": [
    "# Callbacks\n"
   ]
  },
  {
   "cell_type": "code",
   "execution_count": 1,
   "id": "9c0c8676-75e1-4d62-85a4-1d56afbb5286",
   "metadata": {},
   "outputs": [
    {
     "data": {
      "text/plain": [
       "True"
      ]
     },
     "execution_count": 1,
     "metadata": {},
     "output_type": "execute_result"
    }
   ],
   "source": [
    "from dotenv import load_dotenv, find_dotenv\n",
    "\n",
    "load_dotenv(find_dotenv())"
   ]
  },
  {
   "cell_type": "code",
   "execution_count": 2,
   "id": "6c9e4c66-20da-40ab-920d-2d6df97139e3",
   "metadata": {},
   "outputs": [
    {
     "data": {
      "text/plain": [
       "{'input': 'rabit',\n",
       " 'text': 'Why did the rabbit bring a carrot to the party? Because he heard they were great for \"hopping\" up the fun!'}"
      ]
     },
     "execution_count": 2,
     "metadata": {},
     "output_type": "execute_result"
    }
   ],
   "source": [
    "from langchain.callbacks import StdOutCallbackHandler\n",
    "from langchain.chains import LLMChain\n",
    "from langchain_openai import ChatOpenAI\n",
    "from langchain.prompts import PromptTemplate\n",
    "\n",
    "\n",
    "llm = ChatOpenAI()\n",
    "prompt_template = PromptTemplate(input_variables=[\"input\"], template=\"Tell me a joke about {input}\")\n",
    "chain = LLMChain(llm=llm, prompt=prompt_template)\n",
    "\n",
    "handler = StdOutCallbackHandler()\n",
    "chain.invoke(input=\"rabit\", callbacks=[handler])"
   ]
  },
  {
   "cell_type": "code",
   "execution_count": 5,
   "id": "78ba4d94-422d-4f62-9432-e2bdd41a3d24",
   "metadata": {},
   "outputs": [],
   "source": [
    "from langchain.callbacks.base import BaseCallbackHandler\n",
    "\n",
    "class MyCustomHandler(BaseCallbackHandler):\n",
    "    def on_llm_end(self, response, **kwargs) -> None:\n",
    "        print(f\"REPONSE: \", response)"
   ]
  },
  {
   "cell_type": "code",
   "execution_count": 6,
   "id": "545fd535-81eb-45fb-8947-d061a1929245",
   "metadata": {},
   "outputs": [
    {
     "data": {
      "text/plain": [
       "{'input': 'rabit',\n",
       " 'text': 'Why did the rabbit go to the barber shop? \\nBecause he wanted a hare-cut!'}"
      ]
     },
     "execution_count": 6,
     "metadata": {},
     "output_type": "execute_result"
    }
   ],
   "source": [
    "chain.invoke(input=\"rabit\", callbacks=[MyCustomHandler()])\n"
   ]
  },
  {
   "cell_type": "markdown",
   "id": "6e599084-986b-4c5a-b145-117ec7d93d54",
   "metadata": {},
   "source": [
    "Langchain has got a convenice context manager function to make it easy to track costs, token usage etc.\n",
    "\n"
   ]
  },
  {
   "cell_type": "code",
   "execution_count": 7,
   "id": "3ae9380f-4935-4eef-8315-7b6e6aa33c09",
   "metadata": {},
   "outputs": [
    {
     "name": "stderr",
     "output_type": "stream",
     "text": [
      "/Users/hyeonjinho/.pyenv/versions/3.9.18/lib/python3.9/site-packages/langchain_core/_api/deprecation.py:117: LangChainDeprecationWarning: The function `run` was deprecated in LangChain 0.1.0 and will be removed in 0.2.0. Use invoke instead.\n",
      "  warn_deprecated(\n"
     ]
    },
    {
     "name": "stdout",
     "output_type": "stream",
     "text": [
      "6.500000000000001e-05\n"
     ]
    }
   ],
   "source": [
    "from langchain.callbacks import get_openai_callback\n",
    "\n",
    "with get_openai_callback() as cb:\n",
    "    chain.run(input=\"rabit\")\n",
    "\n",
    "print(cb.total_cost)"
   ]
  },
  {
   "cell_type": "code",
   "execution_count": null,
   "id": "4a11c507-f5aa-4772-91c4-d11b964e8cf8",
   "metadata": {},
   "outputs": [],
   "source": []
  },
  {
   "cell_type": "code",
   "execution_count": null,
   "id": "f0f0bb7b-7812-41fd-a796-0c3a86bbb3f5",
   "metadata": {},
   "outputs": [],
   "source": []
  }
 ],
 "metadata": {
  "kernelspec": {
   "display_name": "Python 3 (ipykernel)",
   "language": "python",
   "name": "python3"
  },
  "language_info": {
   "codemirror_mode": {
    "name": "ipython",
    "version": 3
   },
   "file_extension": ".py",
   "mimetype": "text/x-python",
   "name": "python",
   "nbconvert_exporter": "python",
   "pygments_lexer": "ipython3",
   "version": "3.9.18"
  }
 },
 "nbformat": 4,
 "nbformat_minor": 5
}
