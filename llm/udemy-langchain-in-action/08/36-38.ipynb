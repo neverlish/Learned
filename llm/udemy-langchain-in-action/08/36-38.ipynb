{
 "cells": [
  {
   "cell_type": "markdown",
   "id": "a028c7cd-f2d9-4709-b360-784d53af9862",
   "metadata": {},
   "source": [
    "# Document Loaders"
   ]
  },
  {
   "cell_type": "code",
   "execution_count": 1,
   "id": "892bd2d1-44b5-44cf-b6af-16e50c3818b2",
   "metadata": {},
   "outputs": [
    {
     "data": {
      "text/plain": [
       "True"
      ]
     },
     "execution_count": 1,
     "metadata": {},
     "output_type": "execute_result"
    }
   ],
   "source": [
    "from dotenv import load_dotenv, find_dotenv\n",
    "\n",
    "load_dotenv(find_dotenv())"
   ]
  },
  {
   "cell_type": "code",
   "execution_count": 3,
   "id": "f90c8f03-4ef3-4391-bce8-533f68eddd5b",
   "metadata": {},
   "outputs": [],
   "source": [
    "from langchain_community.document_loaders import TextLoader\n",
    "\n",
    "loader = TextLoader(\"./bella_vista.txt\")\n",
    "docs = loader.load()"
   ]
  },
  {
   "cell_type": "code",
   "execution_count": 4,
   "id": "1d98c3eb-545b-4a90-9fb8-e7ae0752d672",
   "metadata": {},
   "outputs": [
    {
     "name": "stdout",
     "output_type": "stream",
     "text": [
      "[Document(page_content=\"Q: What are the hours of operation for Bella Vista?\\nA: Bella Vista is open from 11 a.m. to 11 p.m. from Monday to Saturday. On Sundays, we welcome guests from 12 p.m. to 10 p.m.\\n\\nQ: What type of cuisine does Bella Vista serve?\\nA: Bella Vista offers a delightful blend of Mediterranean and contemporary American cuisine. We pride ourselves on using the freshest ingredients, many of which are sourced locally.\\n\\nQ: Do you offer vegetarian or vegan options at Bella Vista?\\nA: Absolutely! Bella Vista boasts a diverse menu that includes a variety of vegetarian and vegan dishes. Our chefs are also happy to customize dishes based on dietary needs.\\n\\nQ: Is Bella Vista family-friendly?\\nA: Yes, Bella Vista is a family-friendly establishment. We have a dedicated kids' menu and offer high chairs and booster seats for our younger guests.\\n\\nQ: Can I book private events at Bella Vista?\\nA: Certainly! Bella Vista has a private dining area perfect for events, parties, or corporate gatherings. We also offer catering services for off-site events.\\n\\nQ: What's the ambiance like at Bella Vista?\\nA: Bella Vista boasts a cozy and elegant setting, with ambient lighting, comfortable seating, and a stunning view of the city skyline. Whether you're looking for a romantic dinner or a casual meal with friends, Bella Vista provides the perfect atmosphere.\\n\\nQ: Do I need a reservation for Bella Vista?\\nA: While walk-ins are always welcome, we recommend making a reservation, especially during weekends and holidays, to ensure a seamless dining experience.\", metadata={'source': './bella_vista.txt'})]\n",
      "1\n"
     ]
    }
   ],
   "source": [
    "print(docs)\n",
    "print(len(docs))"
   ]
  },
  {
   "cell_type": "code",
   "execution_count": 5,
   "id": "c037c89f-5598-441e-b052-0fafedb2a8d9",
   "metadata": {},
   "outputs": [
    {
     "data": {
      "text/plain": [
       "Document(page_content='test', metadata={'important_info': 'hi there'})"
      ]
     },
     "execution_count": 5,
     "metadata": {},
     "output_type": "execute_result"
    }
   ],
   "source": [
    "from langchain.schema import Document\n",
    "\n",
    "example_doc = Document(page_content=\"test\", metadata={\"important_info\": \"hi there\"})\n",
    "example_doc"
   ]
  },
  {
   "cell_type": "markdown",
   "id": "81ddda26-3355-4b21-9c84-b78f51389085",
   "metadata": {},
   "source": [
    "Texts are not loaded 1:1 into the database, but in pieces, so called \"chunks\". You can define the chunk size and the overlap between the chunks.\n",
    "\n",
    "To create multiple documents (chunks), you can use a text splitter."
   ]
  },
  {
   "cell_type": "code",
   "execution_count": 6,
   "id": "d6821ecb-6323-414d-8a41-8c31f158746e",
   "metadata": {},
   "outputs": [],
   "source": [
    "from langchain.text_splitter import RecursiveCharacterTextSplitter\n",
    "\n",
    "text_splitter = RecursiveCharacterTextSplitter(\n",
    "    chunk_size=100,\n",
    "    chunk_overlap=20,\n",
    ")\n",
    "documents = text_splitter.split_documents(docs)"
   ]
  },
  {
   "cell_type": "code",
   "execution_count": 7,
   "id": "f09e1c07-4831-4c7b-8230-ef41edc05c28",
   "metadata": {},
   "outputs": [
    {
     "name": "stdout",
     "output_type": "stream",
     "text": [
      "page_content='Q: What are the hours of operation for Bella Vista?' metadata={'source': './bella_vista.txt'}\n",
      "page_content='A: Bella Vista is open from 11 a.m. to 11 p.m. from Monday to Saturday. On Sundays, we welcome' metadata={'source': './bella_vista.txt'}\n",
      "page_content='Sundays, we welcome guests from 12 p.m. to 10 p.m.' metadata={'source': './bella_vista.txt'}\n",
      "page_content='Q: What type of cuisine does Bella Vista serve?' metadata={'source': './bella_vista.txt'}\n",
      "page_content='A: Bella Vista offers a delightful blend of Mediterranean and contemporary American cuisine. We' metadata={'source': './bella_vista.txt'}\n",
      "page_content='cuisine. We pride ourselves on using the freshest ingredients, many of which are sourced locally.' metadata={'source': './bella_vista.txt'}\n",
      "page_content='Q: Do you offer vegetarian or vegan options at Bella Vista?' metadata={'source': './bella_vista.txt'}\n",
      "page_content='A: Absolutely! Bella Vista boasts a diverse menu that includes a variety of vegetarian and vegan' metadata={'source': './bella_vista.txt'}\n",
      "page_content='and vegan dishes. Our chefs are also happy to customize dishes based on dietary needs.' metadata={'source': './bella_vista.txt'}\n",
      "page_content='Q: Is Bella Vista family-friendly?' metadata={'source': './bella_vista.txt'}\n",
      "page_content=\"A: Yes, Bella Vista is a family-friendly establishment. We have a dedicated kids' menu and offer\" metadata={'source': './bella_vista.txt'}\n",
      "page_content='menu and offer high chairs and booster seats for our younger guests.' metadata={'source': './bella_vista.txt'}\n",
      "page_content='Q: Can I book private events at Bella Vista?' metadata={'source': './bella_vista.txt'}\n",
      "page_content='A: Certainly! Bella Vista has a private dining area perfect for events, parties, or corporate' metadata={'source': './bella_vista.txt'}\n",
      "page_content='or corporate gatherings. We also offer catering services for off-site events.' metadata={'source': './bella_vista.txt'}\n",
      "page_content=\"Q: What's the ambiance like at Bella Vista?\" metadata={'source': './bella_vista.txt'}\n",
      "page_content='A: Bella Vista boasts a cozy and elegant setting, with ambient lighting, comfortable seating, and a' metadata={'source': './bella_vista.txt'}\n",
      "page_content=\"seating, and a stunning view of the city skyline. Whether you're looking for a romantic dinner or a\" metadata={'source': './bella_vista.txt'}\n",
      "page_content='dinner or a casual meal with friends, Bella Vista provides the perfect atmosphere.' metadata={'source': './bella_vista.txt'}\n",
      "page_content='Q: Do I need a reservation for Bella Vista?' metadata={'source': './bella_vista.txt'}\n",
      "page_content='A: While walk-ins are always welcome, we recommend making a reservation, especially during weekends' metadata={'source': './bella_vista.txt'}\n",
      "page_content='during weekends and holidays, to ensure a seamless dining experience.' metadata={'source': './bella_vista.txt'}\n"
     ]
    },
    {
     "data": {
      "text/plain": [
       "22"
      ]
     },
     "execution_count": 7,
     "metadata": {},
     "output_type": "execute_result"
    }
   ],
   "source": [
    "for doc in documents:\n",
    "    print(doc)\n",
    "\n",
    "len(documents)"
   ]
  }
 ],
 "metadata": {
  "kernelspec": {
   "display_name": "Python 3 (ipykernel)",
   "language": "python",
   "name": "python3"
  },
  "language_info": {
   "codemirror_mode": {
    "name": "ipython",
    "version": 3
   },
   "file_extension": ".py",
   "mimetype": "text/x-python",
   "name": "python",
   "nbconvert_exporter": "python",
   "pygments_lexer": "ipython3",
   "version": "3.9.18"
  }
 },
 "nbformat": 4,
 "nbformat_minor": 5
}
