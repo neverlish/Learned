{
 "cells": [
  {
   "cell_type": "markdown",
   "metadata": {},
   "source": [
    "# RAG 데이터 확보\n",
    "- Allganize의 RAG 데이터 중 금융 도메인 데이터 200개 활용"
   ]
  },
  {
   "cell_type": "code",
   "execution_count": 1,
   "metadata": {},
   "outputs": [
    {
     "name": "stderr",
     "output_type": "stream",
     "text": [
      "/Users/hyeonjinho/Desktop/dev/Learned/llm/fastcampus-prompt-engineering-aillm-service/retrieval-augmented-generation/.venv/lib/python3.11/site-packages/tqdm/auto.py:21: TqdmWarning: IProgress not found. Please update jupyter and ipywidgets. See https://ipywidgets.readthedocs.io/en/stable/user_install.html\n",
      "  from .autonotebook import tqdm as notebook_tqdm\n",
      "Fetching 4 files:   0%|          | 0/4 [00:00<?, ?it/s]/Users/hyeonjinho/Desktop/dev/Learned/llm/fastcampus-prompt-engineering-aillm-service/retrieval-augmented-generation/.venv/lib/python3.11/site-packages/huggingface_hub/file_download.py:832: UserWarning: `local_dir_use_symlinks` parameter is deprecated and will be ignored. The process to download files to a local folder has been updated and do not rely on symlinks anymore. You only need to pass a destination folder as`local_dir`.\n",
      "For more details, check out https://huggingface.co/docs/huggingface_hub/main/en/guides/download#download-files-to-local-folder.\n",
      "  warnings.warn(\n",
      "Fetching 4 files: 100%|██████████| 4/4 [00:00<00:00,  5.56it/s]"
     ]
    },
    {
     "name": "stdout",
     "output_type": "stream",
     "text": [
      "\n"
     ]
    },
    {
     "name": "stderr",
     "output_type": "stream",
     "text": [
      "\n"
     ]
    }
   ],
   "source": [
    "# https://huggingface.co/datasets/allganize/rag-ko\n",
    "\n",
    "from huggingface_hub import snapshot_download\n",
    "\n",
    "snapshot_download(\n",
    "    repo_id='allganize/rag-ko',\n",
    "    repo_type='dataset',\n",
    "    local_dir='./res/rag-ko',\n",
    "    local_dir_use_symlinks=False\n",
    ")\n",
    "\n",
    "print()"
   ]
  },
  {
   "cell_type": "markdown",
   "metadata": {},
   "source": [
    "## 데이터 설명\n",
    "- 질문과 정답이 있고, 답변에 필요한 정보(Context)가 질문 별로 3개씩 존재\n",
    "  - 3개의 정보 중 하나가 실제로 필요한 정보이고, 나머지 2개는 필요하지 않은 정보\n",
    "\n",
    "- Column 별 설명\n",
    "  - system: 시스템 프롬프트 (Context 3개가 여기에 있음)\n",
    "  - humman: 질문\n",
    "  - answer_context_summary: 실제로 필요한 Context\n",
    "  - answer_position: 3개의 Context 중 몇 번째가 실제로 필요한 Context인지\n",
    "  - answer: 정답\n"
   ]
  },
  {
   "cell_type": "code",
   "execution_count": 2,
   "metadata": {},
   "outputs": [
    {
     "data": {
      "text/html": [
       "<div>\n",
       "<style scoped>\n",
       "    .dataframe tbody tr th:only-of-type {\n",
       "        vertical-align: middle;\n",
       "    }\n",
       "\n",
       "    .dataframe tbody tr th {\n",
       "        vertical-align: top;\n",
       "    }\n",
       "\n",
       "    .dataframe thead th {\n",
       "        text-align: right;\n",
       "    }\n",
       "</style>\n",
       "<table border=\"1\" class=\"dataframe\">\n",
       "  <thead>\n",
       "    <tr style=\"text-align: right;\">\n",
       "      <th></th>\n",
       "      <th>index</th>\n",
       "      <th>system</th>\n",
       "      <th>human</th>\n",
       "      <th>answer</th>\n",
       "      <th>answer_position</th>\n",
       "      <th>answer_context_title</th>\n",
       "      <th>answer_context_summary</th>\n",
       "    </tr>\n",
       "  </thead>\n",
       "  <tbody>\n",
       "    <tr>\n",
       "      <th>0</th>\n",
       "      <td>0</td>\n",
       "      <td>You are a financial expert.\\nYou are fluent at...</td>\n",
       "      <td>글로벌 저금리 현상이 부각된 원인은 무엇인가요?</td>\n",
       "      <td>글로벌 저금리 현상이 부각된 원인은 여러 가지입니다. 첫째, 2008년 글로벌 금융...</td>\n",
       "      <td>3</td>\n",
       "      <td>132579145651725164_KIFRT2021-02 (2)</td>\n",
       "      <td>2. 뉴노멀의 도래(신 3저의 도래)\\n최근 코로나 사태를 포함하여 2008년 글로...</td>\n",
       "    </tr>\n",
       "    <tr>\n",
       "      <th>1</th>\n",
       "      <td>1</td>\n",
       "      <td>You are a financial expert.\\nYou are fluent at...</td>\n",
       "      <td>고수익-고위험 부문으로의 쏠림현상에 대해 설명해주세요.</td>\n",
       "      <td>고수익-고위험 부문으로의 쏠림현상은 투자자들이 더 높은 수익률을 추구하기 위해 위험...</td>\n",
       "      <td>2</td>\n",
       "      <td>132579145651725164_KIFRT2021-02 (2)</td>\n",
       "      <td>축소되어 자산운용의 어려움이 가중\\n∙ 투자자 입장에서는 원하는 수익률을 얻기 어려...</td>\n",
       "    </tr>\n",
       "    <tr>\n",
       "      <th>2</th>\n",
       "      <td>2</td>\n",
       "      <td>You are a financial expert.\\nYou are fluent at...</td>\n",
       "      <td>20세기 이후 디지털화의 진전이 금융투자업의 사업모형과 산업구조에 어떤 영향을 미쳤...</td>\n",
       "      <td>20세기 이후 디지털화의 진전은 금융투자업의 사업모형과 산업구조에 큰 영향을 미쳤습...</td>\n",
       "      <td>1</td>\n",
       "      <td>132579145651725164_KIFRT2021-02 (2)</td>\n",
       "      <td>1. 디지털화의 진전과 금융투자업의 변화 : 20세기 이후\\n가. 1950~60년대...</td>\n",
       "    </tr>\n",
       "    <tr>\n",
       "      <th>3</th>\n",
       "      <td>3</td>\n",
       "      <td>You are a financial expert.\\nYou are fluent at...</td>\n",
       "      <td>2000년대 이후 글로벌 IB들이 어떤 전략을 추진하였나요?</td>\n",
       "      <td>2000년대 이후 글로벌 IB들은 스스로 전산화를 추진하였으며, 이와 밀접하게 연관...</td>\n",
       "      <td>3</td>\n",
       "      <td>132579145651725164_KIFRT2021-02 (2)</td>\n",
       "      <td>∙ 또한, 투자은행의 명성에 의존하는 대표적인 업무인 IPO, M&amp;A\\n등도 전산화...</td>\n",
       "    </tr>\n",
       "    <tr>\n",
       "      <th>4</th>\n",
       "      <td>4</td>\n",
       "      <td>You are a financial expert.\\nYou are fluent at...</td>\n",
       "      <td>금융시스템 개혁법은 언제 제정되었나요?</td>\n",
       "      <td>금융시스템 개혁법은 1998년에 제정되었습니다.</td>\n",
       "      <td>3</td>\n",
       "      <td>132579145651725164_KIFRT2021-02 (2)</td>\n",
       "      <td>및 일본 내 해외투자 수요를 포용하는데 적극적\\n일련의 변화과정에서 일본 금융당국의...</td>\n",
       "    </tr>\n",
       "    <tr>\n",
       "      <th>...</th>\n",
       "      <td>...</td>\n",
       "      <td>...</td>\n",
       "      <td>...</td>\n",
       "      <td>...</td>\n",
       "      <td>...</td>\n",
       "      <td>...</td>\n",
       "      <td>...</td>\n",
       "    </tr>\n",
       "    <tr>\n",
       "      <th>195</th>\n",
       "      <td>195</td>\n",
       "      <td>You are a financial expert.\\nYou are fluent at...</td>\n",
       "      <td>우리나라 은행들이 기업대출을 통해 외부자금을 필요로 하는 산업에 어떻게 기여하였나요?</td>\n",
       "      <td>우리나라 은행들은 기업대출을 통해 외부자금을 필요로 하는 산업에 자금을 효율적으로 ...</td>\n",
       "      <td>3</td>\n",
       "      <td>132859249008797508_FARPT21-06</td>\n",
       "      <td>... 긍정적인 측면과 부정적인 측면\\n∙ 우리나라 은행의 기업대출이 사업체 수 증...</td>\n",
       "    </tr>\n",
       "    <tr>\n",
       "      <th>196</th>\n",
       "      <td>196</td>\n",
       "      <td>You are a financial expert.\\nYou are fluent at...</td>\n",
       "      <td>은행의 기업대출이 중소기업의 부가가치 성장에 어떻게 기여하였는지 설명해주세요.</td>\n",
       "      <td>은행의 기업대출이 중소기업의 부가가치 성장에 기여하는 방식은 크게 두 가지로 볼 수...</td>\n",
       "      <td>2</td>\n",
       "      <td>132859249008797508_FARPT21-06</td>\n",
       "      <td>... 데\\n은행의 기업대출 대부분도 중소기업대출이어서 과연 은행이 중소기업대출을\\...</td>\n",
       "    </tr>\n",
       "    <tr>\n",
       "      <th>197</th>\n",
       "      <td>197</td>\n",
       "      <td>You are a financial expert.\\nYou are fluent at...</td>\n",
       "      <td>기업 저축의 역설에 대해 설명해주세요.</td>\n",
       "      <td>기업 저축의 역설이란, 기업들이 지나치게 많은 자금을 저축하면서 경제의 역동성이 상...</td>\n",
       "      <td>3</td>\n",
       "      <td>130328682579485000_KIFFS2013-08</td>\n",
       "      <td>... 현재의 기업 저축률은 불필요하게 높은 수준일 가능성을 시사\\n4. 2004년...</td>\n",
       "    </tr>\n",
       "    <tr>\n",
       "      <th>198</th>\n",
       "      <td>198</td>\n",
       "      <td>You are a financial expert.\\nYou are fluent at...</td>\n",
       "      <td>명목 경제 성장률이 높은 것이 경기호황을 의미하는 이유는 무엇인가요?</td>\n",
       "      <td>명목 경제 성장률이 높다는 것은 경기가 호황인 상태를 의미합니다. 이는 경제가 활발...</td>\n",
       "      <td>1</td>\n",
       "      <td>130328682579485000_KIFFS2013-08</td>\n",
       "      <td>...  비해 명목 성장률이 특별히 높았던 기간이 아니었다. 50) 먼저 2001년...</td>\n",
       "    </tr>\n",
       "    <tr>\n",
       "      <th>199</th>\n",
       "      <td>199</td>\n",
       "      <td>You are a financial expert.\\nYou are fluent at...</td>\n",
       "      <td>대기업들의 중소기업에 대한 부당행위를 근절하면 어떤 긍정적인 효과가 있을까요?</td>\n",
       "      <td>대기업들의 중소기업에 대한 부당행위를 근절하면, 중소기업이 받아야 할 몫을 중소기업...</td>\n",
       "      <td>1</td>\n",
       "      <td>130328682579485000_KIFFS2013-08</td>\n",
       "      <td>... \\n여전함을 적나라하게 보여 주고 있다. 62) 이러한 관행은 또한 중소기업...</td>\n",
       "    </tr>\n",
       "  </tbody>\n",
       "</table>\n",
       "<p>200 rows × 7 columns</p>\n",
       "</div>"
      ],
      "text/plain": [
       "     index                                             system  \\\n",
       "0        0  You are a financial expert.\\nYou are fluent at...   \n",
       "1        1  You are a financial expert.\\nYou are fluent at...   \n",
       "2        2  You are a financial expert.\\nYou are fluent at...   \n",
       "3        3  You are a financial expert.\\nYou are fluent at...   \n",
       "4        4  You are a financial expert.\\nYou are fluent at...   \n",
       "..     ...                                                ...   \n",
       "195    195  You are a financial expert.\\nYou are fluent at...   \n",
       "196    196  You are a financial expert.\\nYou are fluent at...   \n",
       "197    197  You are a financial expert.\\nYou are fluent at...   \n",
       "198    198  You are a financial expert.\\nYou are fluent at...   \n",
       "199    199  You are a financial expert.\\nYou are fluent at...   \n",
       "\n",
       "                                                 human  \\\n",
       "0                           글로벌 저금리 현상이 부각된 원인은 무엇인가요?   \n",
       "1                       고수익-고위험 부문으로의 쏠림현상에 대해 설명해주세요.   \n",
       "2    20세기 이후 디지털화의 진전이 금융투자업의 사업모형과 산업구조에 어떤 영향을 미쳤...   \n",
       "3                    2000년대 이후 글로벌 IB들이 어떤 전략을 추진하였나요?   \n",
       "4                                금융시스템 개혁법은 언제 제정되었나요?   \n",
       "..                                                 ...   \n",
       "195    우리나라 은행들이 기업대출을 통해 외부자금을 필요로 하는 산업에 어떻게 기여하였나요?   \n",
       "196        은행의 기업대출이 중소기업의 부가가치 성장에 어떻게 기여하였는지 설명해주세요.   \n",
       "197                              기업 저축의 역설에 대해 설명해주세요.   \n",
       "198             명목 경제 성장률이 높은 것이 경기호황을 의미하는 이유는 무엇인가요?   \n",
       "199        대기업들의 중소기업에 대한 부당행위를 근절하면 어떤 긍정적인 효과가 있을까요?   \n",
       "\n",
       "                                                answer  answer_position  \\\n",
       "0    글로벌 저금리 현상이 부각된 원인은 여러 가지입니다. 첫째, 2008년 글로벌 금융...                3   \n",
       "1    고수익-고위험 부문으로의 쏠림현상은 투자자들이 더 높은 수익률을 추구하기 위해 위험...                2   \n",
       "2    20세기 이후 디지털화의 진전은 금융투자업의 사업모형과 산업구조에 큰 영향을 미쳤습...                1   \n",
       "3    2000년대 이후 글로벌 IB들은 스스로 전산화를 추진하였으며, 이와 밀접하게 연관...                3   \n",
       "4                           금융시스템 개혁법은 1998년에 제정되었습니다.                3   \n",
       "..                                                 ...              ...   \n",
       "195  우리나라 은행들은 기업대출을 통해 외부자금을 필요로 하는 산업에 자금을 효율적으로 ...                3   \n",
       "196  은행의 기업대출이 중소기업의 부가가치 성장에 기여하는 방식은 크게 두 가지로 볼 수...                2   \n",
       "197  기업 저축의 역설이란, 기업들이 지나치게 많은 자금을 저축하면서 경제의 역동성이 상...                3   \n",
       "198  명목 경제 성장률이 높다는 것은 경기가 호황인 상태를 의미합니다. 이는 경제가 활발...                1   \n",
       "199  대기업들의 중소기업에 대한 부당행위를 근절하면, 중소기업이 받아야 할 몫을 중소기업...                1   \n",
       "\n",
       "                    answer_context_title  \\\n",
       "0    132579145651725164_KIFRT2021-02 (2)   \n",
       "1    132579145651725164_KIFRT2021-02 (2)   \n",
       "2    132579145651725164_KIFRT2021-02 (2)   \n",
       "3    132579145651725164_KIFRT2021-02 (2)   \n",
       "4    132579145651725164_KIFRT2021-02 (2)   \n",
       "..                                   ...   \n",
       "195        132859249008797508_FARPT21-06   \n",
       "196        132859249008797508_FARPT21-06   \n",
       "197      130328682579485000_KIFFS2013-08   \n",
       "198      130328682579485000_KIFFS2013-08   \n",
       "199      130328682579485000_KIFFS2013-08   \n",
       "\n",
       "                                answer_context_summary  \n",
       "0    2. 뉴노멀의 도래(신 3저의 도래)\\n최근 코로나 사태를 포함하여 2008년 글로...  \n",
       "1    축소되어 자산운용의 어려움이 가중\\n∙ 투자자 입장에서는 원하는 수익률을 얻기 어려...  \n",
       "2    1. 디지털화의 진전과 금융투자업의 변화 : 20세기 이후\\n가. 1950~60년대...  \n",
       "3    ∙ 또한, 투자은행의 명성에 의존하는 대표적인 업무인 IPO, M&A\\n등도 전산화...  \n",
       "4    및 일본 내 해외투자 수요를 포용하는데 적극적\\n일련의 변화과정에서 일본 금융당국의...  \n",
       "..                                                 ...  \n",
       "195  ... 긍정적인 측면과 부정적인 측면\\n∙ 우리나라 은행의 기업대출이 사업체 수 증...  \n",
       "196  ... 데\\n은행의 기업대출 대부분도 중소기업대출이어서 과연 은행이 중소기업대출을\\...  \n",
       "197  ... 현재의 기업 저축률은 불필요하게 높은 수준일 가능성을 시사\\n4. 2004년...  \n",
       "198  ...  비해 명목 성장률이 특별히 높았던 기간이 아니었다. 50) 먼저 2001년...  \n",
       "199  ... \\n여전함을 적나라하게 보여 주고 있다. 62) 이러한 관행은 또한 중소기업...  \n",
       "\n",
       "[200 rows x 7 columns]"
      ]
     },
     "execution_count": 2,
     "metadata": {},
     "output_type": "execute_result"
    }
   ],
   "source": [
    "import pandas as pd\n",
    "\n",
    "\n",
    "df = pd.read_parquet('./res/rag-ko/data/test-00000-of-00001.parquet')\n",
    "df"
   ]
  },
  {
   "cell_type": "code",
   "execution_count": 3,
   "metadata": {},
   "outputs": [
    {
     "name": "stdout",
     "output_type": "stream",
     "text": [
      "You are a financial expert.\n",
      "You are fluent at Korean.\n",
      "Answer the question to User in CONTEXT.\n",
      "When using information from the CONTEXT, You should always cite the context ID number \"number\" using \"(ID: number)\" format.\n",
      "\n",
      "CONTEXT=\"\"\"\n",
      "(context 1)= Title: 132579145651725164_KIFRT2021-02 (2).pdf\n",
      "... 변화의 동인은 크게 두 가지로 분류할\n",
      "수 있다. 하나는 금융업계 전반에 부각되는 디지털화(digitalization)1)이고\n",
      "다른 하나는 저금리·저성장으로 대표되는 뉴노멀(new normal)이다.  ... . 뉴노멀의 특징으로는 금융투자\n",
      "및 자산운용의 어려움이 가중되는 경향, 고수익-고위험 부문으로의 쏠림\n",
      "현상 등의 위험요인과 함께 자산관리서비스 수요의 증가 등 대응 노력을\n",
      "살펴본다. 제III장은 디지털화 및 뉴노멀에 대응하는 해외 사례들을 살펴본다.  ... 뉴노멀의\n",
      "주요 특징인 저성장, 저금리 등은 일본의 금융투자업계가 30년 전부터 고민해\n",
      "온 문제이기 때문이다.  ... 제III장에서 살펴본 해외\n",
      "사례들에서 살펴본 금융투자업계 변화의 규칙성이 어느 정도 유지될 것이라는\n",
      "1 디지털화(digitalization)에 대한 ...\n",
      "\n",
      "(context 2)= Title: 132599894715831637_KIFFR20201-03 (2).pdf\n",
      "3. 문제점\n",
      "1) 기업신용위험 평가항목의 적정성\n",
      "글로벌 금융위기 이후 저금리 기조가 지속되었고, 최근 추가적으로\n",
      "금리가 하락함에 따라 이자보상배율 등의 지표들이 기업의 부실을\n",
      "측정하는 데 적정한 지표인지에 대한 검토가 필요\n",
      "기업신용위험 정 ... 작용할 것으로 예상\n",
      "저금리 기조가 지속되는 가운데 금융비용이 감소하여 이자보상배\n",
      "율이 기업의 부실을 가늠하는 지표로 적합한지에 대해 의문이\n",
      "발생\n",
      "더불어 코로나19 사태로 인한 중소기업에 대한 금융권 대출 만기\n",
      "연장 및 이자상환 유예조치로 이 ... 는 추세\n",
      "이러한 졸업비율 감소 현상의 원인으로 저조한 경기의 영향이\n",
      "있었던 것으로 추정되지만 개시연도를 기준으로 졸 ...\n",
      "\n",
      "(context 3)= Title: 132579145651725164_KIFRT2021-02 (2)\n",
      "2. 뉴노멀의 도래(신 3저의 도래)\n",
      "최근 코로나 사태를 포함하여 2008년 글로벌 금융위기 이후 전세계적인\n",
      "저금리·저성장 상황\n",
      "∙ 글로벌 금융위기를 극복하는 과정에서 미국, 유럽, 일본 등 주요국의\n",
      "완화적 통화정책으로 글로벌 저금리 현상이 부각\n",
      "∙ 코로나 팬데믹이 진정되더라도 글로벌 저금리 추세가 지속되는 가운\n",
      "데 우리나라의 저금리 기조도 장기화될 가능성이 높음. 이러한 추세는 글로벌 금융위기 이후의 전세계적인 완화적 통화정책과\n",
      "그 이전부터 이어진 경제구조적 요인이 혼재된 결과\n",
      "∙ 선진국의 성장세가 둔화되고, 신흥국이 성장하면서 글로벌 무역 불\n",
      "균형(global imbalance)이 심화되고 저축과잉현상(global savings\n",
      "glut) 발생\n",
      "∙ 기 ... 가.  ...\n",
      "\"\"\"\n",
      "\n"
     ]
    }
   ],
   "source": [
    "print(df.iloc[0]['system'])\n"
   ]
  },
  {
   "cell_type": "code",
   "execution_count": 4,
   "metadata": {},
   "outputs": [
    {
     "name": "stdout",
     "output_type": "stream",
     "text": [
      "2. 뉴노멀의 도래(신 3저의 도래)\n",
      "최근 코로나 사태를 포함하여 2008년 글로벌 금융위기 이후 전세계적인\n",
      "저금리·저성장 상황\n",
      "∙ 글로벌 금융위기를 극복하는 과정에서 미국, 유럽, 일본 등 주요국의\n",
      "완화적 통화정책으로 글로벌 저금리 현상이 부각\n",
      "∙ 코로나 팬데믹이 진정되더라도 글로벌 저금리 추세가 지속되는 가운\n",
      "데 우리나라의 저금리 기조도 장기화될 가능성이 높음. 이러한 추세는 글로벌 금융위기 이후의 전세계적인 완화적 통화정책과\n",
      "그 이전부터 이어진 경제구조적 요인이 혼재된 결과\n",
      "∙ 선진국의 성장세가 둔화되고, 신흥국이 성장하면서 글로벌 무역 불\n",
      "균형(global imbalance)이 심화되고 저축과잉현상(global savings\n",
      "glut) 발생\n",
      "∙ 기 ... 가.  ...\n"
     ]
    }
   ],
   "source": [
    "print(df.iloc[0]['answer_context_summary'])\n"
   ]
  },
  {
   "cell_type": "code",
   "execution_count": 5,
   "metadata": {},
   "outputs": [
    {
     "name": "stdout",
     "output_type": "stream",
     "text": [
      "Context 1:\n",
      "... 변화의 동인은 크게 두 가지로 분류할\n",
      "수 있다. 하나는 금융업계 전반에 부각되는 디지털화(digitalization)1)이고\n",
      "다른 하나는 저금리·저성장으로 대표되는 뉴노멀(new normal)이다.  ... . 뉴노멀의 특징으로는 금융투자\n",
      "및 자산운용의 어려움이 가중되는 경향, 고수익-고위험 부문으로의 쏠림\n",
      "현상 등의 위험요인과 함께 자산관리서비스 수요의 증가 등 대응 노력을\n",
      "살펴본다. 제III장은 디지털화 및 뉴노멀에 대응하는 해외 사례들을 살펴본다.  ... 뉴노멀의\n",
      "주요 특징인 저성장, 저금리 등은 일본의 금융투자업계가 30년 전부터 고민해\n",
      "온 문제이기 때문이다.  ... 제III장에서 살펴본 해외\n",
      "사례들에서 살펴본 금융투자업계 변화의 규칙성이 어느 정도 유지될 것이라는\n",
      "1 디지털화(digitalization)에 대한 ...\n",
      "--------------------------------------------------\n",
      "Context 2:\n",
      "3. 문제점\n",
      "1) 기업신용위험 평가항목의 적정성\n",
      "글로벌 금융위기 이후 저금리 기조가 지속되었고, 최근 추가적으로\n",
      "금리가 하락함에 따라 이자보상배율 등의 지표들이 기업의 부실을\n",
      "측정하는 데 적정한 지표인지에 대한 검토가 필요\n",
      "기업신용위험 정 ... 작용할 것으로 예상\n",
      "저금리 기조가 지속되는 가운데 금융비용이 감소하여 이자보상배\n",
      "율이 기업의 부실을 가늠하는 지표로 적합한지에 대해 의문이\n",
      "발생\n",
      "더불어 코로나19 사태로 인한 중소기업에 대한 금융권 대출 만기\n",
      "연장 및 이자상환 유예조치로 이 ... 는 추세\n",
      "이러한 졸업비율 감소 현상의 원인으로 저조한 경기의 영향이\n",
      "있었던 것으로 추정되지만 개시연도를 기준으로 졸 ...\n",
      "--------------------------------------------------\n",
      "Context 3:\n",
      "2. 뉴노멀의 도래(신 3저의 도래)\n",
      "최근 코로나 사태를 포함하여 2008년 글로벌 금융위기 이후 전세계적인\n",
      "저금리·저성장 상황\n",
      "∙ 글로벌 금융위기를 극복하는 과정에서 미국, 유럽, 일본 등 주요국의\n",
      "완화적 통화정책으로 글로벌 저금리 현상이 부각\n",
      "∙ 코로나 팬데믹이 진정되더라도 글로벌 저금리 추세가 지속되는 가운\n",
      "데 우리나라의 저금리 기조도 장기화될 가능성이 높음. 이러한 추세는 글로벌 금융위기 이후의 전세계적인 완화적 통화정책과\n",
      "그 이전부터 이어진 경제구조적 요인이 혼재된 결과\n",
      "∙ 선진국의 성장세가 둔화되고, 신흥국이 성장하면서 글로벌 무역 불\n",
      "균형(global imbalance)이 심화되고 저축과잉현상(global savings\n",
      "glut) 발생\n",
      "∙ 기 ... 가.  ...\n",
      "--------------------------------------------------\n"
     ]
    }
   ],
   "source": [
    "import re\n",
    "\n",
    "def extract_contexts(system_prompt):\n",
    "    context_match = re.search(r'CONTEXT=\"\"\"\\n(.*?)\"\"\"', system_prompt, re.DOTALL)\n",
    "    if not context_match:\n",
    "        return []\n",
    "\n",
    "    context_text = context_match.group(1)\n",
    "\n",
    "    contexts = re.findall(r'\\(context \\d+\\)=(.*?)(?=\\n\\(context \\d+\\)=|\\Z)', context_text, re.DOTALL)\n",
    "\n",
    "    cleaned_contexts = []\n",
    "    for context in contexts:\n",
    "        lines = context.split('\\n')\n",
    "        cleaned_lines = [line for line in lines if not line.strip().startswith('Title:')]\n",
    "        cleaned_context = '\\n'.join(cleaned_lines).strip()\n",
    "        cleaned_contexts.append(cleaned_context)\n",
    "\n",
    "    return cleaned_contexts\n",
    "\n",
    "system_prompt = df.iloc[0]['system']\n",
    "\n",
    "extracted_contexts = extract_contexts(system_prompt)\n",
    "\n",
    "for i, context in enumerate(extracted_contexts, 1):\n",
    "    print(f\"Context {i}:\")\n",
    "    print(context)\n",
    "    print(\"-\" * 50)"
   ]
  },
  {
   "cell_type": "code",
   "execution_count": 6,
   "metadata": {},
   "outputs": [
    {
     "data": {
      "text/plain": [
       "True"
      ]
     },
     "execution_count": 6,
     "metadata": {},
     "output_type": "execute_result"
    }
   ],
   "source": [
    "extracted_contexts[2] == df.iloc[0]['answer_context_summary']"
   ]
  },
  {
   "cell_type": "code",
   "execution_count": 7,
   "metadata": {},
   "outputs": [],
   "source": [
    "contexts = []\n",
    "for i in range(len(df)):\n",
    "    system_prompt = df.iloc[i]['system']\n",
    "    extracted_contexts = extract_contexts(system_prompt)\n",
    "    contexts.append(extracted_contexts)"
   ]
  },
  {
   "cell_type": "code",
   "execution_count": 8,
   "metadata": {},
   "outputs": [],
   "source": [
    "questions = [df.iloc[i]['human'] for i in range(len(df))]\n",
    "contexts_answers_idxs = [df.iloc[i]['answer_position'] - 1 for i in range(len(df))]\n",
    "contexts_answers = [df.iloc[i]['answer_context_summary'] for i in range(len(df))]\n",
    "answers = [df.iloc[i]['answer'] for i in range(len(df))]"
   ]
  },
  {
   "cell_type": "code",
   "execution_count": 9,
   "metadata": {},
   "outputs": [],
   "source": [
    "import pickle\n",
    "\n",
    "rag_data = {\n",
    "    'questions': questions,\n",
    "    'contexts': contexts,\n",
    "    'contexts_answer_idx': contexts_answers_idxs,\n",
    "    'contexts_answers': contexts_answers,\n",
    "    'answers': answers\n",
    "}\n",
    "\n",
    "with open('./res/rag_data.pkl', 'wb') as f:\n",
    "    pickle.dump(rag_data, f)"
   ]
  },
  {
   "cell_type": "markdown",
   "metadata": {},
   "source": [
    "## Accuracy\n",
    "- 정답이 있는 상황이라 가장 정확한 평가\n",
    "- Reference 또는 정답이 있을 때만 사용 가능\n",
    "  - 실제로는 없는 경우가 대부분\n"
   ]
  },
  {
   "cell_type": "code",
   "execution_count": 11,
   "metadata": {},
   "outputs": [],
   "source": [
    "from utils import get_embedding, cosine_similarity\n",
    "\n",
    "\n",
    "embed_q = get_embedding(questions[0], model='text-embedding-3-large')\n",
    "embed_c0 = get_embedding(contexts[0][0], model='text-embedding-3-large')\n",
    "embed_c1 = get_embedding(contexts[0][1], model='text-embedding-3-large')\n",
    "embed_c2 = get_embedding(contexts[0][2], model='text-embedding-3-large')"
   ]
  },
  {
   "cell_type": "code",
   "execution_count": 12,
   "metadata": {},
   "outputs": [
    {
     "data": {
      "text/plain": [
       "np.float64(0.41007743710361066)"
      ]
     },
     "execution_count": 12,
     "metadata": {},
     "output_type": "execute_result"
    }
   ],
   "source": [
    "cosine_similarity(embed_q, embed_c0)\n"
   ]
  },
  {
   "cell_type": "code",
   "execution_count": 13,
   "metadata": {},
   "outputs": [
    {
     "data": {
      "text/plain": [
       "np.float64(0.39883000680952574)"
      ]
     },
     "execution_count": 13,
     "metadata": {},
     "output_type": "execute_result"
    }
   ],
   "source": [
    "cosine_similarity(embed_q, embed_c1)\n"
   ]
  },
  {
   "cell_type": "code",
   "execution_count": 14,
   "metadata": {},
   "outputs": [
    {
     "data": {
      "text/plain": [
       "np.float64(0.5306790092868816)"
      ]
     },
     "execution_count": 14,
     "metadata": {},
     "output_type": "execute_result"
    }
   ],
   "source": [
    "cosine_similarity(embed_q, embed_c2)\n"
   ]
  },
  {
   "cell_type": "markdown",
   "metadata": {},
   "source": [
    "## RAGAS\n",
    "- 정답이 없는 경우에도 사용이 가능한 평가 라이브러리\n",
    "- 기본으로 제공하는 평가용 System Prompt는 영문 기반이라 엄청 정확하진 않은 편\n"
   ]
  },
  {
   "cell_type": "code",
   "execution_count": 17,
   "metadata": {},
   "outputs": [
    {
     "name": "stderr",
     "output_type": "stream",
     "text": [
      "Evaluating: 100%|██████████| 2/2 [00:08<00:00,  4.00s/it]\n"
     ]
    },
    {
     "data": {
      "text/html": [
       "<div>\n",
       "<style scoped>\n",
       "    .dataframe tbody tr th:only-of-type {\n",
       "        vertical-align: middle;\n",
       "    }\n",
       "\n",
       "    .dataframe tbody tr th {\n",
       "        vertical-align: top;\n",
       "    }\n",
       "\n",
       "    .dataframe thead th {\n",
       "        text-align: right;\n",
       "    }\n",
       "</style>\n",
       "<table border=\"1\" class=\"dataframe\">\n",
       "  <thead>\n",
       "    <tr style=\"text-align: right;\">\n",
       "      <th></th>\n",
       "      <th>user_input</th>\n",
       "      <th>retrieved_contexts</th>\n",
       "      <th>response</th>\n",
       "      <th>reference</th>\n",
       "      <th>context_recall</th>\n",
       "      <th>context_precision</th>\n",
       "    </tr>\n",
       "  </thead>\n",
       "  <tbody>\n",
       "    <tr>\n",
       "      <th>0</th>\n",
       "      <td>글로벌 저금리 현상이 부각된 원인은 무엇인가요?</td>\n",
       "      <td>[... 둔갑하여 발생하였다. 쏠림현상을 해결할 수 있는 방법은, 원론적인 이\\n야...</td>\n",
       "      <td>hi</td>\n",
       "      <td>글로벌 저금리 현상이 부각된 원인은 여러 가지입니다. 첫째, 2008년 글로벌 금융...</td>\n",
       "      <td>0.666667</td>\n",
       "      <td>0.5</td>\n",
       "    </tr>\n",
       "  </tbody>\n",
       "</table>\n",
       "</div>"
      ],
      "text/plain": [
       "                   user_input  \\\n",
       "0  글로벌 저금리 현상이 부각된 원인은 무엇인가요?   \n",
       "\n",
       "                                  retrieved_contexts response  \\\n",
       "0  [... 둔갑하여 발생하였다. 쏠림현상을 해결할 수 있는 방법은, 원론적인 이\\n야...       hi   \n",
       "\n",
       "                                           reference  context_recall  \\\n",
       "0  글로벌 저금리 현상이 부각된 원인은 여러 가지입니다. 첫째, 2008년 글로벌 금융...        0.666667   \n",
       "\n",
       "   context_precision  \n",
       "0                0.5  "
      ]
     },
     "execution_count": 17,
     "metadata": {},
     "output_type": "execute_result"
    }
   ],
   "source": [
    "from datasets import Dataset \n",
    "import os\n",
    "from ragas import evaluate\n",
    "from ragas.metrics import faithfulness, answer_correctness, context_recall, context_precision\n",
    "\n",
    "\n",
    "data_samples = {\n",
    "    'question': [questions[0]],\n",
    "    'answer': ['hi'],\n",
    "    'contexts' : [contexts[1]],\n",
    "    'ground_truth': [df.iloc[0]['answer']]\n",
    "}\n",
    "\n",
    "dataset = Dataset.from_dict(data_samples)\n",
    "\n",
    "score = evaluate(dataset,metrics=[context_recall, context_precision])\n",
    "score.to_pandas()"
   ]
  },
  {
   "cell_type": "code",
   "execution_count": 18,
   "metadata": {},
   "outputs": [
    {
     "data": {
      "text/plain": [
       "['... 변화의 동인은 크게 두 가지로 분류할\\n수 있다. 하나는 금융업계 전반에 부각되는 디지털화(digitalization)1)이고\\n다른 하나는 저금리·저성장으로 대표되는 뉴노멀(new normal)이다.  ... . 뉴노멀의 특징으로는 금융투자\\n및 자산운용의 어려움이 가중되는 경향, 고수익-고위험 부문으로의 쏠림\\n현상 등의 위험요인과 함께 자산관리서비스 수요의 증가 등 대응 노력을\\n살펴본다. 제III장은 디지털화 및 뉴노멀에 대응하는 해외 사례들을 살펴본다.  ... 뉴노멀의\\n주요 특징인 저성장, 저금리 등은 일본의 금융투자업계가 30년 전부터 고민해\\n온 문제이기 때문이다.  ... 제III장에서 살펴본 해외\\n사례들에서 살펴본 금융투자업계 변화의 규칙성이 어느 정도 유지될 것이라는\\n1 디지털화(digitalization)에 대한 ...',\n",
       " '3. 문제점\\n1) 기업신용위험 평가항목의 적정성\\n글로벌 금융위기 이후 저금리 기조가 지속되었고, 최근 추가적으로\\n금리가 하락함에 따라 이자보상배율 등의 지표들이 기업의 부실을\\n측정하는 데 적정한 지표인지에 대한 검토가 필요\\n기업신용위험 정 ... 작용할 것으로 예상\\n저금리 기조가 지속되는 가운데 금융비용이 감소하여 이자보상배\\n율이 기업의 부실을 가늠하는 지표로 적합한지에 대해 의문이\\n발생\\n더불어 코로나19 사태로 인한 중소기업에 대한 금융권 대출 만기\\n연장 및 이자상환 유예조치로 이 ... 는 추세\\n이러한 졸업비율 감소 현상의 원인으로 저조한 경기의 영향이\\n있었던 것으로 추정되지만 개시연도를 기준으로 졸 ...',\n",
       " '2. 뉴노멀의 도래(신 3저의 도래)\\n최근 코로나 사태를 포함하여 2008년 글로벌 금융위기 이후 전세계적인\\n저금리·저성장 상황\\n∙ 글로벌 금융위기를 극복하는 과정에서 미국, 유럽, 일본 등 주요국의\\n완화적 통화정책으로 글로벌 저금리 현상이 부각\\n∙ 코로나 팬데믹이 진정되더라도 글로벌 저금리 추세가 지속되는 가운\\n데 우리나라의 저금리 기조도 장기화될 가능성이 높음. 이러한 추세는 글로벌 금융위기 이후의 전세계적인 완화적 통화정책과\\n그 이전부터 이어진 경제구조적 요인이 혼재된 결과\\n∙ 선진국의 성장세가 둔화되고, 신흥국이 성장하면서 글로벌 무역 불\\n균형(global imbalance)이 심화되고 저축과잉현상(global savings\\nglut) 발생\\n∙ 기 ... 가.  ...']"
      ]
     },
     "execution_count": 18,
     "metadata": {},
     "output_type": "execute_result"
    }
   ],
   "source": [
    "contexts[0]"
   ]
  },
  {
   "cell_type": "code",
   "execution_count": 19,
   "metadata": {},
   "outputs": [
    {
     "data": {
      "text/plain": [
       "'글로벌 저금리 현상이 부각된 원인은 여러 가지입니다. 첫째, 2008년 글로벌 금융위기를 극복하는 과정에서 미국, 유럽, 일본 등 주요국의 완화적 통화정책이 있습니다. 둘째, 선진국의 성장세가 둔화되고, 신흥국이 성장하면서 글로벌 무역 불균형이 심화되고 저축과잉현상이 발생했습니다. 셋째, 기술발전에 따른 자본재 가격 하락과 신기술 혁신에 따른 수익률이 낮아져 경제 전체적인 유효투자가 감소했습니다. 넷째, 세계적인 인구증가율 감소 추세는 유효수요 및 자본의 한계생산성과 투자이익 및 투자증가율을 감소시켰습니다. 따라서 이러한 요인들이 복합적으로 작용하여 글로벌 저금리 현상이 부각되었습니다.'"
      ]
     },
     "execution_count": 19,
     "metadata": {},
     "output_type": "execute_result"
    }
   ],
   "source": [
    "df.iloc[0]['answer']"
   ]
  },
  {
   "cell_type": "code",
   "execution_count": 20,
   "metadata": {},
   "outputs": [
    {
     "data": {
      "text/plain": [
       "'... \\n여전함을 적나라하게 보여 주고 있다. 62) 이러한 관행은 또한 중소기업 부문을 통하여 근로자 내지\\n가계로 흘러가야 했을 소득이 기업저축으로 돌아갔을 가능성을 강하게 시사한다.  ... 은 고질적 관행, 즉 중소기업에 대한 부당행위를 근절하는 것이 선결과제라 할 수\\n있다.  ... 대기업들의 중소기업에 대한 횡포 가운데는 일감 몰아주기처럼 중소기업들이 중견기업으로\\n성장해 나갈 수 있는 기회를 부당하게 박탈하는 사례도 적지 않다.  ... 대기업들의 불공정 관행들을 근절시킴으로써 경제주체들에게 기회의 평등을 보장하는 한편,\\n기업 생태계가 공정하고 다 ...'"
      ]
     },
     "execution_count": 20,
     "metadata": {},
     "output_type": "execute_result"
    }
   ],
   "source": [
    "contexts[i][0]"
   ]
  },
  {
   "cell_type": "code",
   "execution_count": 21,
   "metadata": {},
   "outputs": [
    {
     "data": {
      "text/plain": [
       "'기존 중개업자가 수행하는 업무는 정의에서 제외되어 있기 때문에 기존\\n중개업자가 각각의 분야와 관련된 금융서비스 중개업 등록을 받을 수 없다. 따라서 예를 들어 은행대리업자가 예금 등 매개업무를 업으로 하기 위해서\\n금융서비스중개업 등록을 받을 수 없다.  ... 에서 중개하기 위해 금융서비스중개업자가 될 수는 있다.  ... 한편, 편리한 금융서비스 실현을 목표로 하는 동시에 불공정한 거래나\\n시스템 리스크의 표면화를 미연에 방지하고 법령 준수 및 이용자 보호를\\n금융서비스 중개업자에게 철저히 하기 위해 「금융서비스 중개업」의 보급\\n추진 및 자율규제 기능을 담당하는 ...'"
      ]
     },
     "execution_count": 21,
     "metadata": {},
     "output_type": "execute_result"
    }
   ],
   "source": [
    "contexts[i][1]"
   ]
  },
  {
   "cell_type": "code",
   "execution_count": 22,
   "metadata": {},
   "outputs": [
    {
     "data": {
      "text/plain": [
       "'...  설립된 비영리 사단법인임.\\n∙ 신용카드 관련 개인채무가 급증하고 대출 돌려막기 등의\\n현상이 확대되면서 한 개의 금융회사가 아니라 복수의 금\\n융회사에서 대출을 차입하는 경향이 일반화되자 다중 채무\\n를 한꺼번에 조정할 필요성에 대응하여 신용회복위원회가\\n설립\\n∙ 2016년 9월 『서민의 금융생활 지원에 관한 법률』에 설립근\\n거를 마련하면서 특수법인 신용회복위원회로 재출범하였음.  ... 는데 신용회복위원회 설립 초기에는 연체\\n가 일정 기간 지난 신용대출의 채무조정에 초점을 맞추어진\\n워크아웃제도가 운 ... ∙ 최저생계비 이상의 수입이 있거나 채무상환이 가능하다고\\n신복위 정관에 의해 설치된 심의위원회가 인정하는 자에\\n한하여 채무조정 절차를 진행함.'"
      ]
     },
     "execution_count": 22,
     "metadata": {},
     "output_type": "execute_result"
    }
   ],
   "source": [
    "contexts[i][2]"
   ]
  },
  {
   "cell_type": "code",
   "execution_count": 23,
   "metadata": {},
   "outputs": [
    {
     "data": {
      "text/plain": [
       "\"대기업들의 중소기업에 대한 부당행위를 근절하면, 중소기업이 받아야 할 몫을 중소기업에 돌려주고, 그것이 중소기업을 통해 가계로 흘러가도록 하는 효과가 있습니다. 이는 전체 근로자의 80% 이상을 고용하고 있는 중소기업 부문에 자금이 흘러들어가게 되어, 더 많은 수의 근로자들이 임금상승 기회를 얻게 되며, 이는 '임금 없는 성장'의 해소에도 큰 도움이 됩니다. 또한, 중소기업들이 중견기업으로 성장해 나갈 수 있는 기회를 부당하게 박탈하는 대기업들의 횡포를 막음으로써, 중소기업 근로자들의 고용과 소득이 늘어날 기회를 확보하게 됩니다.\""
      ]
     },
     "execution_count": 23,
     "metadata": {},
     "output_type": "execute_result"
    }
   ],
   "source": [
    "df.iloc[i]['answer']"
   ]
  },
  {
   "cell_type": "code",
   "execution_count": 24,
   "metadata": {},
   "outputs": [
    {
     "name": "stderr",
     "output_type": "stream",
     "text": [
      "Evaluating: 100%|██████████| 2/2 [00:04<00:00,  2.46s/it]\n"
     ]
    },
    {
     "name": "stdout",
     "output_type": "stream",
     "text": [
      "{'context_recall': 0.6667, 'context_precision': 1.0000}\n"
     ]
    },
    {
     "name": "stderr",
     "output_type": "stream",
     "text": [
      "Evaluating: 100%|██████████| 2/2 [00:07<00:00,  3.57s/it]\n"
     ]
    },
    {
     "name": "stdout",
     "output_type": "stream",
     "text": [
      "{'context_recall': 0.5000, 'context_precision': 1.0000}\n"
     ]
    },
    {
     "name": "stderr",
     "output_type": "stream",
     "text": [
      "Evaluating: 100%|██████████| 2/2 [00:11<00:00,  5.59s/it]\n"
     ]
    },
    {
     "name": "stdout",
     "output_type": "stream",
     "text": [
      "{'context_recall': 1.0000, 'context_precision': 1.0000}\n"
     ]
    },
    {
     "name": "stderr",
     "output_type": "stream",
     "text": [
      "Evaluating: 100%|██████████| 2/2 [00:05<00:00,  2.68s/it]\n"
     ]
    },
    {
     "name": "stdout",
     "output_type": "stream",
     "text": [
      "{'context_recall': 1.0000, 'context_precision': 1.0000}\n"
     ]
    },
    {
     "name": "stderr",
     "output_type": "stream",
     "text": [
      "Evaluating: 100%|██████████| 2/2 [00:04<00:00,  2.37s/it]\n"
     ]
    },
    {
     "name": "stdout",
     "output_type": "stream",
     "text": [
      "{'context_recall': 1.0000, 'context_precision': 0.3333}\n"
     ]
    },
    {
     "name": "stderr",
     "output_type": "stream",
     "text": [
      "Evaluating: 100%|██████████| 2/2 [00:04<00:00,  2.27s/it]\n"
     ]
    },
    {
     "name": "stdout",
     "output_type": "stream",
     "text": [
      "{'context_recall': 1.0000, 'context_precision': 0.5833}\n"
     ]
    },
    {
     "name": "stderr",
     "output_type": "stream",
     "text": [
      "Evaluating: 100%|██████████| 2/2 [00:04<00:00,  2.04s/it]\n"
     ]
    },
    {
     "name": "stdout",
     "output_type": "stream",
     "text": [
      "{'context_recall': 1.0000, 'context_precision': 1.0000}\n"
     ]
    },
    {
     "name": "stderr",
     "output_type": "stream",
     "text": [
      "Evaluating: 100%|██████████| 2/2 [00:05<00:00,  2.67s/it]\n"
     ]
    },
    {
     "name": "stdout",
     "output_type": "stream",
     "text": [
      "{'context_recall': 1.0000, 'context_precision': 1.0000}\n"
     ]
    },
    {
     "name": "stderr",
     "output_type": "stream",
     "text": [
      "Evaluating: 100%|██████████| 2/2 [00:05<00:00,  2.65s/it]\n"
     ]
    },
    {
     "name": "stdout",
     "output_type": "stream",
     "text": [
      "{'context_recall': 1.0000, 'context_precision': 1.0000}\n"
     ]
    },
    {
     "name": "stderr",
     "output_type": "stream",
     "text": [
      "Evaluating: 100%|██████████| 2/2 [00:06<00:00,  3.24s/it]\n"
     ]
    },
    {
     "name": "stdout",
     "output_type": "stream",
     "text": [
      "{'context_recall': 1.0000, 'context_precision': 0.5000}\n"
     ]
    }
   ],
   "source": [
    "for i in range(10):\n",
    "    data_samples = {\n",
    "        'question': [questions[i]],\n",
    "        'answer': ['hi'],\n",
    "        'contexts' : [contexts[i]],\n",
    "        'ground_truth': [df.iloc[i]['answer']]\n",
    "    }\n",
    "\n",
    "    dataset = Dataset.from_dict(data_samples)\n",
    "\n",
    "    score = evaluate(dataset,metrics=[context_recall, context_precision])\n",
    "    print(score)"
   ]
  },
  {
   "cell_type": "code",
   "execution_count": null,
   "metadata": {},
   "outputs": [],
   "source": []
  },
  {
   "cell_type": "code",
   "execution_count": null,
   "metadata": {},
   "outputs": [],
   "source": []
  }
 ],
 "metadata": {
  "kernelspec": {
   "display_name": ".venv",
   "language": "python",
   "name": "python3"
  },
  "language_info": {
   "codemirror_mode": {
    "name": "ipython",
    "version": 3
   },
   "file_extension": ".py",
   "mimetype": "text/x-python",
   "name": "python",
   "nbconvert_exporter": "python",
   "pygments_lexer": "ipython3",
   "version": "3.11.6"
  }
 },
 "nbformat": 4,
 "nbformat_minor": 2
}
