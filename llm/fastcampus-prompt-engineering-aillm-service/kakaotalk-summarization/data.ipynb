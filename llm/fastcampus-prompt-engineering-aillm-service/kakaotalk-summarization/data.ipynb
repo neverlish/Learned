{
 "cells": [
  {
   "cell_type": "code",
   "execution_count": 2,
   "metadata": {},
   "outputs": [],
   "source": [
    "import glob\n",
    "import json\n",
    "import pickle"
   ]
  },
  {
   "cell_type": "markdown",
   "metadata": {},
   "source": [
    "총 50개의 평가용 테스트 케이스 확보 예정\n",
    "\n",
    "- 많으면 많을 수록 좋지만 평가 비용(돈, 시간 등) 커지는 이슈 존재\n",
    "- 아래 형식의 평가 데이터 리턴하는 함수 제작하는 것이 이번 노트북의 목표"
   ]
  },
  {
   "cell_type": "code",
   "execution_count": 3,
   "metadata": {},
   "outputs": [],
   "source": [
    "def get_eval_data():\n",
    "    return None"
   ]
  },
  {
   "cell_type": "markdown",
   "metadata": {},
   "source": [
    "2명의 대화 - 20개\n",
    "\n"
   ]
  },
  {
   "cell_type": "code",
   "execution_count": 4,
   "metadata": {},
   "outputs": [
    {
     "data": {
      "text/plain": [
       "20"
      ]
     },
     "execution_count": 4,
     "metadata": {},
     "output_type": "execute_result"
    }
   ],
   "source": [
    "conversations = []\n",
    "\n",
    "paths = glob.glob('./res/297.SNS 데이터 고도화/01-1.정식개방데이터/Validation/02.라벨링데이터/VL/*json')\n",
    "target_count = 20\n",
    "count = 0\n",
    "\n",
    "for path in paths:\n",
    "    with open(path, 'r') as f:\n",
    "        conv_dict = json.load(f)\n",
    "        if conv_dict['header']['dialogueInfo']['numberOfParticipants'] == 2:\n",
    "            if conv_dict['header']['dialogueInfo']['numberOfUtterances'] > 30:\n",
    "                conv_list = []\n",
    "                for d in conv_dict['body']:\n",
    "                    conv_list.append(d['participantID'] + ': ' + d['utterance'])\n",
    "                if conv_list[0] == conv_list[1]:\n",
    "                    print('Repeated Conversations')\n",
    "                    continue\n",
    "                conv_text = '\\n'.join(conv_list)\n",
    "                conversations.append(conv_text)\n",
    "                count += 1\n",
    "                if count == target_count:\n",
    "                    break\n",
    "\n",
    "count"
   ]
  },
  {
   "cell_type": "markdown",
   "metadata": {},
   "source": [
    "3명 이상의 대화 - 30개"
   ]
  },
  {
   "cell_type": "code",
   "execution_count": 5,
   "metadata": {},
   "outputs": [
    {
     "data": {
      "text/plain": [
       "30"
      ]
     },
     "execution_count": 5,
     "metadata": {},
     "output_type": "execute_result"
    }
   ],
   "source": [
    "target_count = 30\n",
    "count = 0\n",
    "\n",
    "for path in paths:\n",
    "    with open(path, 'r') as f:\n",
    "        conv_dict = json.load(f)\n",
    "        if conv_dict['header']['dialogueInfo']['numberOfParticipants'] > 2:\n",
    "            if conv_dict['header']['dialogueInfo']['numberOfUtterances'] > 30:\n",
    "                conv_list = []\n",
    "                for d in conv_dict['body']:\n",
    "                    conv_list.append(d['participantID'] + ': ' + d['utterance'])\n",
    "                if conv_list[0] == conv_list[1]:\n",
    "                    continue\n",
    "                conv_text = '\\n'.join(conv_list)\n",
    "                conversations.append(conv_text)\n",
    "                count += 1\n",
    "                if count == target_count:\n",
    "                    break\n",
    "\n",
    "count"
   ]
  },
  {
   "cell_type": "markdown",
   "metadata": {},
   "source": [
    "3천자 이상의 대화로 변환\n",
    "\n",
    "- 데이터셋에는 3천자를 넘는 데이터가 단 한개도 존재하지 않음\n",
    "- Anthropic Claude 3.5 Sonnet을 사용해서 대화를 주고 앞에 내용을 추측한 내용으로 대화 앞에 붙여서 3천자 이상으로 변환\n",
    "- 변환 Prompt 및 코드는 data_long.ipynb 참고"
   ]
  },
  {
   "cell_type": "code",
   "execution_count": 6,
   "metadata": {},
   "outputs": [
    {
     "data": {
      "text/plain": [
       "['P02: 안녕~ 오늘 날씨 진짜 좋다~ 너희들 뭐하고 있어?',\n",
       " 'P03: 나는 지금 집에서 쉬고 있어~ 날씨가 좋아서 창문 열어두고 있는데 기분이 너무 좋아~',\n",
       " 'P01: 나도 집이야! 오늘 같은 날 밖에 나가고 싶은데 할 일이 너무 많아서 ㅠㅠ',\n",
       " 'P02: 아 그래? 나는 지금 카페에 와있어~ 커피 마시면서 책 읽고 있는데 너무 좋다~',\n",
       " 'P03: 와~ 부럽다~ 나도 카페 가고 싶은데... 시험 준비 때문에 집에만 있어야 해서 ㅠㅠ',\n",
       " 'P01: 맞아 맞아~ 나도 과제랑 시험 준비 때문에 집에만 있어~ 근데 카페에서 공부하면 집중 잘 돼?',\n",
       " 'P02: 응! 나는 오히려 카페에서 공부하는 게 더 집중이 잘 돼~ 집에 있으면 자꾸 누워있게 되더라고~',\n",
       " 'P03: 나도 그래~ 집에 있으면 자꾸 침대로 가게 돼서 공부가 안 돼 ㅋㅋㅋ',\n",
       " 'P01: 아~ 나는 반대야~ 카페에 가면 사람들 구경하느라 집중이 안 돼서 꼭 집에서 공부해~',\n",
       " 'P02: 그렇구나~ 역시 사람마다 다르네~ 근데 너희 요즘 뭐 재밌는 거 없어? 나 심심해 죽겠어~',\n",
       " \"P03: 음... 나는 요즘 넷플릭스로 드라마 보고 있어~ '오징어 게임' 봤어?\",\n",
       " 'P01: 아 나도 그거 봤어! 진짜 재밌더라~ 근데 좀 잔인해서 보다가 눈 감은 적도 있어 ㅋㅋㅋ',\n",
       " 'P02: 나는 아직 못 봤어~ 다들 재밌다고 하던데 나도 한번 봐야겠다~',\n",
       " 'P03: 응 꼭 봐봐~ 진짜 재밌어! 근데 잔인한 장면이 많아서 밤에 보면 무서울 수도 있어~',\n",
       " 'P01: 맞아~ 나는 낮에 봤는데도 무서웠어 ㅋㅋㅋ',\n",
       " 'P02: 그래? 그럼 나는 꼭 낮에 볼게~ 근데 너희 영화는 안 봐?',\n",
       " \"P03: 나는 영화도 좋아해~ 최근에 본 영화 중에 '듄'이라고 있는데 그거 진짜 좋더라~\",\n",
       " 'P01: 아 나도 그거 보고 싶었는데! 어땠어? 재밌었어?',\n",
       " 'P03: 응! 진짜 재밌었어~ 영상미도 너무 좋고 스토리도 탄탄해~ 근데 좀 어려울 수 있어~',\n",
       " 'P02: 나는 그런 SF 영화는 잘 모르겠더라~ 나는 로맨스 코미디가 더 좋아~',\n",
       " 'P01: 아 그래? 나는 장르 가리지 않고 다 좋아하는 편이야~ 근데 요즘은 시간이 없어서 영화 볼 시간이 없네 ㅠㅠ',\n",
       " 'P03: 맞아~ 나도 시험 끝나면 영화 실컷 보고 싶어~',\n",
       " 'P02: 그럼 우리 시험 끝나고 같이 영화 보러 갈까?',\n",
       " 'P01: 오 좋아! 나도 갈래~',\n",
       " 'P03: 나도 좋아! 그때 뭐 볼지 같이 정하자~',\n",
       " 'P02: 그래그래~ 아 그러고 보니 너희 음악은 뭐 듣고 있어?',\n",
       " \"P01: 나는 요즘 아이유 노래 많이 듣고 있어~ '라일락' 진짜 좋더라~\",\n",
       " 'P03: 오 나도 그 노래 좋아해! 근데 나는 요즘 방탄소년단 노래를 많이 듣고 있어~',\n",
       " 'P02: 아 나는 팝송 위주로 듣고 있어~ 요즘 애드 시런 새 앨범이 나왔던데 들어봤어?',\n",
       " 'P01: 아니 나는 못 들어봤어~ 어때? 좋아?',\n",
       " \"P02: 응! 진짜 좋아~ 특히 'Shivers'라는 노래가 진짜 중독성 있어~\",\n",
       " 'P03: 오 나도 한번 들어봐야겠다~ 나는 팝송은 잘 모르는데 ㅋㅋㅋ',\n",
       " 'P01: 나도 그래~ 근데 가끔 팝송 들으면 기분 전환되더라고~',\n",
       " 'P02: 맞아~ 나는 팝송 들으면서 영어 공부도 하고 있어~',\n",
       " 'P03: 오 그거 좋은 방법인 것 같아! 나도 한번 해봐야겠다~',\n",
       " 'P01: 나도! 근데 너희 책은 읽어?',\n",
       " \"P02: 나는 가끔 읽어~ 요즘은 '데미안'이라는 책 읽고 있어~\",\n",
       " 'P03: 아 그거 유명하지~ 나는 요즘 만화책 많이 읽고 있어~',\n",
       " 'P01: 오 만화책? 어떤 거 읽고 있어?',\n",
       " \"P03: 나는 '원피스'랑 '나루토' 이런 거 좋아해~ 너희는?\",\n",
       " 'P02: 나는 만화책은 잘 안 읽어~ 그냥 소설책 위주로 읽는 편이야~',\n",
       " 'P01: 나도 만화책은 잘 안 읽어~ 근데 웹툰은 가끔 봐~',\n",
       " 'P03: 아 그래? 어떤 웹툰 봐?',\n",
       " \"P01: 음... 나는 '여신강림' 이런 거 봐~ 너는?\",\n",
       " \"P03: 나는 '유미의 세포들'이랑 '신의 탑' 이런 거 좋아해~\",\n",
       " 'P02: 아 나는 웹툰도 잘 안 봐~ 그냥 가끔 친구들이 추천해주면 보는 정도?']"
      ]
     },
     "execution_count": 6,
     "metadata": {},
     "output_type": "execute_result"
    }
   ],
   "source": [
    "with open('./res/conv_long.pickle', 'rb') as f:\n",
    "    conv_long = pickle.load(f)\n",
    "\n",
    "conv_long"
   ]
  },
  {
   "cell_type": "code",
   "execution_count": 7,
   "metadata": {},
   "outputs": [],
   "source": [
    "conversations[-2] = '\\n'.join(conv_long) + '\\n' + conversations[-2]"
   ]
  },
  {
   "cell_type": "code",
   "execution_count": 8,
   "metadata": {},
   "outputs": [],
   "source": [
    "with open('./res/eval_data.pickle', 'wb') as f:\n",
    "    pickle.dump(conversations, f)"
   ]
  },
  {
   "cell_type": "code",
   "execution_count": 9,
   "metadata": {},
   "outputs": [],
   "source": [
    "def get_eval_data():\n",
    "    with open('./res/eval_data.pickle', 'rb') as f:\n",
    "        eval_data = pickle.load(f)\n",
    "\n",
    "    return eval_data"
   ]
  },
  {
   "cell_type": "code",
   "execution_count": null,
   "metadata": {},
   "outputs": [],
   "source": []
  },
  {
   "cell_type": "code",
   "execution_count": null,
   "metadata": {},
   "outputs": [],
   "source": []
  }
 ],
 "metadata": {
  "kernelspec": {
   "display_name": ".venv",
   "language": "python",
   "name": "python3"
  },
  "language_info": {
   "codemirror_mode": {
    "name": "ipython",
    "version": 3
   },
   "file_extension": ".py",
   "mimetype": "text/x-python",
   "name": "python",
   "nbconvert_exporter": "python",
   "pygments_lexer": "ipython3",
   "version": "3.9.18"
  }
 },
 "nbformat": 4,
 "nbformat_minor": 2
}
