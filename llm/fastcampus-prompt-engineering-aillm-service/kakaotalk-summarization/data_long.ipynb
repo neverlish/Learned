{
 "cells": [
  {
   "cell_type": "code",
   "execution_count": 2,
   "metadata": {},
   "outputs": [],
   "source": [
    "import glob\n",
    "import json\n",
    "import os\n",
    "\n",
    "import anthropic"
   ]
  },
  {
   "cell_type": "code",
   "execution_count": 3,
   "metadata": {},
   "outputs": [
    {
     "data": {
      "text/plain": [
       "30"
      ]
     },
     "execution_count": 3,
     "metadata": {},
     "output_type": "execute_result"
    }
   ],
   "source": [
    "conversations = []\n",
    "\n",
    "paths = glob.glob('./res/297.SNS 데이터 고도화/01-1.정식개방데이터/Validation/02.라벨링데이터/VL/*json')\n",
    "target_count = 20\n",
    "count = 0\n",
    "\n",
    "for path in paths:\n",
    "    with open(path, 'r') as f:\n",
    "        conv_dict = json.load(f)\n",
    "        if conv_dict['header']['dialogueInfo']['numberOfParticipants'] == 2:\n",
    "            if conv_dict['header']['dialogueInfo']['numberOfUtterances'] > 30:\n",
    "                conv_list = []\n",
    "                for d in conv_dict['body']:\n",
    "                    conv_list.append(d['participantID'] + ': ' + d['utterance'])\n",
    "                if conv_list[0] == conv_list[1]:\n",
    "                    print('Repeated Conversations')\n",
    "                    continue\n",
    "                conv_text = '\\n'.join(conv_list)\n",
    "                conversations.append(conv_text)\n",
    "                count += 1\n",
    "                if count == target_count:\n",
    "                    break\n",
    "\n",
    "target_count = 30\n",
    "count = 0\n",
    "\n",
    "for path in paths:\n",
    "    with open(path, 'r') as f:\n",
    "        conv_dict = json.load(f)\n",
    "        if conv_dict['header']['dialogueInfo']['numberOfParticipants'] > 2:\n",
    "            if conv_dict['header']['dialogueInfo']['numberOfUtterances'] > 30:\n",
    "                conv_list = []\n",
    "                for d in conv_dict['body']:\n",
    "                    conv_list.append(d['participantID'] + ': ' + d['utterance'])\n",
    "                if conv_list[0] == conv_list[1]:           \n",
    "                    continue\n",
    "                conv_text = '\\n'.join(conv_list)\n",
    "                conversations.append(conv_text)\n",
    "                count += 1\n",
    "                if count == target_count:\n",
    "                    break\n",
    "\n",
    "count"
   ]
  },
  {
   "cell_type": "code",
   "execution_count": 4,
   "metadata": {},
   "outputs": [],
   "source": [
    "prompt = f\"\"\"You are given a conversation among three users below. Imagine what the users discussed prior to the conversation.\n",
    "Please write the previous content, strictly following the tone and format of given conversation, with at least 3000 characters.\n",
    "\n",
    "{conversations[-2]}\n",
    "\"\"\""
   ]
  },
  {
   "cell_type": "code",
   "execution_count": 5,
   "metadata": {},
   "outputs": [
    {
     "name": "stdout",
     "output_type": "stream",
     "text": [
      "P01: 웹툰이나 만화 자주 보는 편이야?\n",
      "P02: 나 웹툰은 안 보고 만화는 코난이랑 짱구 슬램덩크 이런 거 좋아해~ 넌?\n",
      "P03: 난 반대로 만화 안보고 웹툰만 엄청 봐 키키\n",
      "P03: 요즘에는 시험 때문에 못 보기는 하는데 끝나면 다 몰아볼 예정이야 후욱후욱\n",
      "P01: 키키 나는 둘 다 안 봄~\n",
      "P01: 중학교 때는 가끔 만화책 빌려서 봐보긴 했는데 그것도 몇 개 안돼...\n",
      "P01: 웹툰 재밌어?\n",
      "P02: 어떤 작가 좋아해?\n",
      "P02: 특별히 좋아하는 웹툰 있어?\n",
      "P03: 이동건이라고 유미의 세포들 그린 작가인데 진짜 캐릭처도 귀엽고 감정선이 정말 여자인 건가 싶을 정도로 세심해요!\n",
      "P03: 재미도 있고 지금도 뭐 신작 나왔더라고!\n",
      "P01: 아 유미의 세포들! 들어보긴 했어~\n",
      "P01: 유명하더라 영화인지 드라마로도 나오는 거 같던데? 김고은이 주인공으로\n",
      "P02: 맞아 드라마 야나? 예고편 같은 거 떴던데~\n",
      "P03: 웅웅 맞아 맞아 그거 웹툰이 엄청 흥행 해서 드라마화 한다고 하더라...\n",
      "P03: 근데 개인적으로 웹툰 기반 드라마화 한 거 그렇게 재미는 없을 것 같아서 딱히 기대는 안 하는 중\n",
      "P01: 맞아 전에 치즈인더트랩도... 별로 였다고 했던 거 같애\n",
      "P02: 그건 드라마 영화 둘 다 이상해 ㅠㅠ 내용은 괜찮은데~\n",
      "P03: 맞아 드라마로 했다가 평 안 좋았어서 영화로도 나왔는데 더 망했던 걸로 기억해 키키\n",
      "P03: 그나마 요번에 한 간 떨어지는 동거 그거는 잘 된 것 같더라고?\n",
      "P01: 아아 장기용이랑 혜리 나온 거? 뭐 구미호 얘기인 거야...?\n",
      "P02: 아 진짜? 그것도 앞에만 보다 말았는데~\n",
      "P03: 웅웅 맞아 맞아 장기용 여기도 나왔네 맞다 키키\n",
      "P03: 혹시 마블 영화 좋아해?\n",
      "P01: 보면 재밌는데 나는 막 챙겨보는 편은 아니야! 좋아해?\n",
      "P02: 안 좋아해~ 다들 재밌다고 해서 맘 잡고 보려고 하는데 눈에 잘 안 들어오더라~ ㅠㅠ\n",
      "P03: 약간 나랑 언니랑 취향 좀 다른 듯 키키\n",
      "P03: 나는 마블 영화 엄청 챙겨 보는데 ㅠ\n",
      "P01: 보면 재밌기는 해!\n",
      "P01: 나는 아예 싹 보고 싶은데 너무 많아서 엄두가 안 나서 못 챙겨보는 중...\n",
      "P02: 마블 중에서 특히 어떤 게 재밌어?\n",
      "P03: 나는 단연 아이언맨이랑 어벤져스!\n",
      "P01: 아항 이번에 무슨... 마블 영화긴한데 중국인들? 아시아계? 히어로물 나오던데 마블 로고 보기 전까지는 그냥 중국 삼류 영화인 줄 알았어 하하\n",
      "P02: 제목이 뭐였어?\n",
      "P02: 난 그 발신 제한 그거 보고 싶었는데 아직 못 봤네\n",
      "P03: 아하 발신 제한 그것도 뭔가 잘된 것 같던데\n"
     ]
    }
   ],
   "source": [
    "print(conversations[-2])"
   ]
  },
  {
   "cell_type": "code",
   "execution_count": 8,
   "metadata": {},
   "outputs": [
    {
     "data": {
      "text/plain": [
       "Usage(input_tokens=1415, output_tokens=2938, cache_creation_input_tokens=0, cache_read_input_tokens=0)"
      ]
     },
     "execution_count": 8,
     "metadata": {},
     "output_type": "execute_result"
    }
   ],
   "source": [
    "client = anthropic.Anthropic(\n",
    "    api_key=os.environ['ANTHROPIC_API_KEY']\n",
    ")\n",
    "\n",
    "message = client.messages.create(\n",
    "    model=\"claude-3-5-sonnet-20240620\",\n",
    "    max_tokens=4096,\n",
    "    temperature=0.0,\n",
    "    messages=[\n",
    "        {\"role\": \"user\", \"content\": prompt}\n",
    "    ]\n",
    ")\n",
    "\n",
    "message.usage  # API 호출 비용 대략 50원"
   ]
  },
  {
   "cell_type": "code",
   "execution_count": 9,
   "metadata": {},
   "outputs": [
    {
     "data": {
      "text/plain": [
       "[\"Here's an imagined previous conversation among the three users, following the tone and format of the given conversation:\",\n",
       " \"P02: 야 너네 요즘 뭐하고 지내?\\nP01: 나? 그냥 평소처럼 학교 다니고 공부하고 그러지 뭐\\nP03: 나도 비슷해~ 요즘 시험기간이라 공부하느라 정신없어\\nP02: 아 맞다 너네 시험기간이었지? 힘내!\\nP01: 고마워~ 너는 뭐하고 지내?\\nP02: 나는 요즘 드라마 보는 재미에 빠졌어\\nP03: 오~ 무슨 드라마 보고 있어?\\nP02: 나는 요즘 '펜트하우스' 보고 있어. 진짜 재밌더라고!\\nP01: 아 그거 엄청 인기 많았던 거 아니야?\\nP03: 맞아맞아! 나도 들어본 것 같아\\nP02: 응응, 시즌 3까지 나왔어. 막장이긴 한데 보다 보면 계속 보게 돼\\nP01: 키키 그런 거 좋아하네~\\nP03: 나는 그런 거 별로 안 좋아해서... 시간 아까워\\nP02: 에이~ 한 번 보면 빠질걸?\\nP03: 글쎄~ 난 그냥 웹툰이나 보는 게 더 재밌어\\nP01: 아 그러고 보니 너 웹툰 좋아하지?\\nP03: 응응, 나 웹툰 엄청 좋아해!\\nP02: 난 웹툰은 잘 안 봐서... 어떤 게 재밌어?\\nP03: 와, 진짜 많은데! '유미의 세포들'이랑 '여신강림' 같은 로맨스부터 '신의 탑' 같은 판타지까지 다양하게 봐\\nP01: 와~ 진짜 많이 보는구나\\nP02: 그렇게 많이 보면 시간은 언제 나?\\nP03: 그냥 틈틈이 보는 거지~ 지하철 타고 갈 때도 보고\\nP01: 아~ 그렇구나. 나는 지하철에서 그냥 음악 듣는데\\nP02: 나도! 음악 들으면서 풍경 구경하는 게 좋더라고\\nP03: 키키 너네 둘이 비슷하네~\\nP01: 그러게~ 취향이 비슷한가?\\nP02: 음악도 취향이 비슷할라나? 어떤 음악 좋아해?\\nP01: 나는 발라드랑 R&B 좋아해\\nP03: 오~ 나는 힙합이랑 아이돌 음악!\\nP02: 난 클래식이랑 재즈 좋아해~\\nP01: 와 다들 취향이 다르네 키키\\nP03: 그러게~ 근데 그게 더 재밌지 않아?\\nP02: 맞아~ 서로 모르는 거 알려줄 수 있잖아\\nP01: 그러고 보니 너네 영화는 어때? 좋아해?\\nP03: 나는 영화 좋아해! 특히 마블 영화 진짜 좋아해\\nP02: 아 그래? 나는 로맨스 영화 좋아하는데\\nP01: 오~ 나는 스릴러나 공포 영화 좋아해\\nP03: 와~ 다들 취향이 다르네 키키\\nP02: 그러게~ 근데 그게 더 재밌지 않아?\\nP01: 맞아~ 서로 모르는 거 알려줄 수 있잖아\\nP03: 그러고 보니 요즘 재밌는 영화 뭐 없었어?\\nP02: 음... 나는 최근에 '미나리' 봤는데 좋더라고\\nP01: 아 그거 아카데미상 받은 거 아니야?\\nP03: 맞아맞아! 윤여정 선생님이 여우조연상 받으셨지\\nP02: 응응, 그래서 더 관심 가지고 봤어\\nP01: 어땠어? 재밌었어?\\nP02: 응, 가족 이야기라 따뜻하고 좋더라고\\nP03: 오~ 나도 한번 봐야겠다\\nP01: 나도! 근데 나는 요즘 넷플릭스에서 '오징어 게임' 봤어\\nP02: 아 그거 엄청 유명하던데! 어때?\\nP01: 진짜 재밌어! 긴장감도 있고 메시지도 있고\\nP03: 나도 봤는데 진짜 재밌더라고!\\nP02: 오~ 그럼 나도 한번 봐야겠다\\nP03: 근데 좀 잔인하니까 주의해야 해\\nP01: 맞아, 좀 자극적인 장면이 많아\\nP02: 아 그래? 그럼 좀 조심해서 봐야겠네\\nP03: 그러고 보니 너네 드라마는 어때? 요즘 뭐 재밌는 거 없어?\\nP01: 음... 나는 요즘 '빈센조' 보고 있어\\nP02: 아 송중기 나오는 거?\\nP01: 응응, 그거야! 진짜 재밌어\\nP03: 나도 들어보긴 했는데 아직 못 봤어\\nP02: 나는 '펜트하우스' 말고 '슬기로운 의사생활' 보고 있어\\nP01: 오~ 그거 시즌 2도 나왔던데?\\nP02: 응응, 지금 시즌 2 보고 있어. 진짜 따뜻하고 좋아\\nP03: 아~ 나도 한번 봐야겠다. 다들 좋다고 하더라고\\nP01: 맞아, 나도 시즌 1은 봤는데 진짜 좋더라고\\nP02: 그치? 의사들 일상을 잘 그려낸 것 같아\\nP03: 오~ 근데 의학 드라마 맞아? 너무 어렵진 않아?\\nP02: 아니야, 의학적인 내용보다는 인간관계에 초점을 맞춰서 괜찮아\\nP01: 맞아, 그래서 더 재밌는 것 같아\\nP03: 그렇구나~ 나도 한번 봐야겠다\\nP01: 응응, 추천해! 근데 너네 예능은 어때?\\nP02: 나는 '런닝맨' 좋아해!\\nP03: 오~ 나도 가끔 보는데 재밌더라고\\nP01: 나는 '1박 2일' 좋아해. 요즘 새 시즌 나왔는데 재밌어\\nP02: 아 그래? 나는 옛날 시즌만 봤는데\\nP03: 나는 '놀면 뭐하니?' 좋아해. 유재석 진행하는 거\\nP01: 아~ 그거 재밌지! 나도 가끔 봐\\nP02: 맞아, 유재석이 진행하는 건 항상 재밌어\\nP03: 그러게~ 역시 국민 MC야\\nP01: 키키 맞아. 근데 너네 요즘 책은 읽어?\\nP02: 나는 가끔 읽어. 최근에 '달러구트 꿈 백화점' 읽었어\\nP03: 오~ 그거 베스트셀러 아니야?\\nP01: 맞아, 나도 들어본 것 같아. 어때?\\nP02: 재밌어! 꿈을 사고파는 가게 이야기인데, 상상력이 풍부해\\nP03: 오~ 나도 한번 읽어봐야겠다\\nP01: 나도! 나는 요즘 '공정하다는 착각' 읽고 있어\\nP02: 오~ 그거 마이클 샌델 쓴 거 아니야?\\nP01: 응응, 맞아! 읽어봤어?\\nP02: 아니, 근데 들어본 적 있어. 어때?\\nP01: 좀 어렵긴 한데 재밌어. 우리 사회에 대해 생각해보게 돼\\nP03: 와~ 너네 둘 다 어려운 책 읽네\\nP02: 키키 그런가? 너는 뭐 읽어?\\nP03: 나는... 음... 만화책? 키키\\nP01: 아하하 역시 너답다\\nP02: 키키 만화책도 좋지! 어떤 만화책 좋아해?\\nP03: 음... 나는 '원피스'랑 '나루토' 같은 거 좋아해\\nP01: 오~ 일본 만화 좋아하는구나\\nP02: 나는 '슬램덩크' 좋아해!\\nP01: 와~ 그거 진짜 유명하지\\nP03: 응응, 나도 알아! 농구 만화지?\\nP02: 맞아! 진짜 재밌어. 한번 읽어봐\\nP01: 웹툰이나 만화 자주 보는 편이야?\"]"
      ]
     },
     "execution_count": 9,
     "metadata": {},
     "output_type": "execute_result"
    }
   ],
   "source": [
    "message.content[0].text.split('\\n\\n')"
   ]
  },
  {
   "cell_type": "code",
   "execution_count": 10,
   "metadata": {},
   "outputs": [],
   "source": [
    "lst = message.content[0].text.split('\\n\\n')[1:-1]\n",
    "for l in lst[:25]:\n",
    "    print(l)"
   ]
  },
  {
   "cell_type": "code",
   "execution_count": 11,
   "metadata": {},
   "outputs": [],
   "source": [
    "for l in lst[25:50]:\n",
    "    print(l)"
   ]
  },
  {
   "cell_type": "code",
   "execution_count": 12,
   "metadata": {},
   "outputs": [
    {
     "name": "stdout",
     "output_type": "stream",
     "text": [
      "2781\n"
     ]
    }
   ],
   "source": [
    "print(len(message.content[0].text.split('\\n\\n')[1]))\n"
   ]
  },
  {
   "cell_type": "code",
   "execution_count": 13,
   "metadata": {},
   "outputs": [
    {
     "data": {
      "text/plain": [
       "[]"
      ]
     },
     "execution_count": 13,
     "metadata": {},
     "output_type": "execute_result"
    }
   ],
   "source": [
    "lst = message.content[0].text.split('\\n\\n')[1:-1]\n",
    "lst"
   ]
  },
  {
   "cell_type": "code",
   "execution_count": 14,
   "metadata": {},
   "outputs": [],
   "source": [
    "import pickle\n",
    "\n",
    "with open('./res/conv_long.pickle', 'wb') as f:\n",
    "    pickle.dump(lst, f)"
   ]
  },
  {
   "cell_type": "code",
   "execution_count": null,
   "metadata": {},
   "outputs": [],
   "source": []
  }
 ],
 "metadata": {
  "kernelspec": {
   "display_name": ".venv",
   "language": "python",
   "name": "python3"
  },
  "language_info": {
   "codemirror_mode": {
    "name": "ipython",
    "version": 3
   },
   "file_extension": ".py",
   "mimetype": "text/x-python",
   "name": "python",
   "nbconvert_exporter": "python",
   "pygments_lexer": "ipython3",
   "version": "3.9.18"
  }
 },
 "nbformat": 4,
 "nbformat_minor": 2
}
