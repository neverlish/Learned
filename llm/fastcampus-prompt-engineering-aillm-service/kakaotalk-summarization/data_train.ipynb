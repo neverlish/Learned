{
 "cells": [
  {
   "cell_type": "code",
   "execution_count": 1,
   "metadata": {},
   "outputs": [],
   "source": [
    "import glob\n",
    "import json\n",
    "import os\n",
    "import pickle"
   ]
  },
  {
   "cell_type": "code",
   "execution_count": 2,
   "metadata": {},
   "outputs": [
    {
     "data": {
      "text/plain": [
       "20"
      ]
     },
     "execution_count": 2,
     "metadata": {},
     "output_type": "execute_result"
    }
   ],
   "source": [
    "conversations = []\n",
    "\n",
    "paths = glob.glob('./res/297.SNS 데이터 고도화/01-1.정식개방데이터/Training/02.라벨링데이터/TL/*json')\n",
    "count = 0\n",
    "target_count = 20\n",
    "\n",
    "for path in paths:\n",
    "    with open(path, 'r') as f:\n",
    "        conv_dict = json.load(f)\n",
    "        if conv_dict['header']['dialogueInfo']['numberOfParticipants'] == 2:\n",
    "            if conv_dict['header']['dialogueInfo']['numberOfUtterances'] > 30:\n",
    "                conv_list = []\n",
    "                for d in conv_dict['body']:\n",
    "                    conv_list.append(d['participantID'] + ': ' + d['utterance'])\n",
    "                if conv_list[0] == conv_list[1]:\n",
    "                    continue\n",
    "                conv_text = '\\n'.join(conv_list)\n",
    "                conversations.append(conv_text)\n",
    "                count += 1\n",
    "                if count == target_count:\n",
    "                    break\n",
    "\n",
    "count"
   ]
  },
  {
   "cell_type": "code",
   "execution_count": 3,
   "metadata": {},
   "outputs": [],
   "source": [
    "with open('./res/train_data.pickle', 'wb') as f:\n",
    "    pickle.dump(conversations, f)"
   ]
  },
  {
   "cell_type": "code",
   "execution_count": null,
   "metadata": {},
   "outputs": [],
   "source": []
  }
 ],
 "metadata": {
  "kernelspec": {
   "display_name": ".venv",
   "language": "python",
   "name": "python3"
  },
  "language_info": {
   "codemirror_mode": {
    "name": "ipython",
    "version": 3
   },
   "file_extension": ".py",
   "mimetype": "text/x-python",
   "name": "python",
   "nbconvert_exporter": "python",
   "pygments_lexer": "ipython3",
   "version": "3.9.18"
  }
 },
 "nbformat": 4,
 "nbformat_minor": 2
}
