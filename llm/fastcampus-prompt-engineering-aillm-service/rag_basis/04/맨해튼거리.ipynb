{
 "cells": [
  {
   "cell_type": "code",
   "execution_count": 1,
   "metadata": {},
   "outputs": [
    {
     "name": "stdout",
     "output_type": "stream",
     "text": [
      "첫번째 포인트 :  (1, 2, 3)\n",
      "두번째 포인트 :  (4, 5, 6)\n"
     ]
    }
   ],
   "source": [
    "from scipy.spatial import distance\n",
    "from scipy.spatial.distance import cityblock\n",
    "\n",
    "a = (1,2,3)\n",
    "b = (4,5,6)\n",
    "\n",
    "print('첫번째 포인트 : ', a)\n",
    "print('두번째 포인트 : ', b)"
   ]
  },
  {
   "cell_type": "code",
   "execution_count": 2,
   "metadata": {},
   "outputs": [
    {
     "name": "stdout",
     "output_type": "stream",
     "text": [
      "유클리드 거리 5.196152422706632\n",
      "\n",
      "맨하튼 거리 9\n"
     ]
    }
   ],
   "source": [
    "euclidean_distance = distance.euclidean(a,b)\n",
    "print('유클리드 거리', euclidean_distance)\n",
    "\n",
    "manhattan_distance = cityblock(a,b)\n",
    "print('\\n맨하튼 거리', manhattan_distance)"
   ]
  },
  {
   "cell_type": "code",
   "execution_count": null,
   "metadata": {},
   "outputs": [],
   "source": []
  }
 ],
 "metadata": {
  "kernelspec": {
   "display_name": "Python 3",
   "language": "python",
   "name": "python3"
  },
  "language_info": {
   "codemirror_mode": {
    "name": "ipython",
    "version": 3
   },
   "file_extension": ".py",
   "mimetype": "text/x-python",
   "name": "python",
   "nbconvert_exporter": "python",
   "pygments_lexer": "ipython3",
   "version": "3.9.18"
  }
 },
 "nbformat": 4,
 "nbformat_minor": 2
}
