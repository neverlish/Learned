{
 "cells": [
  {
   "cell_type": "code",
   "execution_count": 3,
   "metadata": {},
   "outputs": [
    {
     "name": "stdout",
     "output_type": "stream",
     "text": [
      "Hello! How can I assist you today?\n"
     ]
    }
   ],
   "source": [
    "import os\n",
    "\n",
    "from openai import OpenAI\n",
    "\n",
    "OPENAI_API_KEY = os.environ['OPENAI_API_KEY']\n",
    "\n",
    "client = OpenAI(api_key=OPENAI_API_KEY)\n",
    "\n",
    "completion = client.chat.completions.create(\n",
    "  model='gpt-3.5-turbo-0125',\n",
    "  messages=[{'role': 'user', 'content': 'hi'}],\n",
    "  temperature=0.0,\n",
    ")\n",
    "\n",
    "print(completion.choices[0].message.content)\n",
    "\n"
   ]
  },
  {
   "cell_type": "code",
   "execution_count": 4,
   "metadata": {},
   "outputs": [
    {
     "data": {
      "text/plain": [
       "[{'review': '위치는 최상!!!  주차는 ㅠㅠ', 'stars': 4, 'date': '1일 전'},\n",
       " {'review': '호텔 위치가 안녕인사동 건물이라 찾기 쉽고 여행하기 너무 최적의 장소였어요! 그 건물 미피전시회 보러왔다가 너무 편하게 놀다가네요. 호텔 조식 좋아하는데 나쁘진않치만 근처에 먹을데가 너무 많아서 다음엔 신청 안할려구용 ㅋ 침대가 엄청 편하고 호텔이 너무 깨끗했습니다. 체크인이 오래걸리는 문제만 해결되면 재방문 의사있습니다!',\n",
       "  'stars': 5,\n",
       "  'date': '2일 전'},\n",
       " {'review': '위치 굿 \\n객실내 먼지가 좀 많고 건조함 \\n뷰는 크게 기대하지 마세요',\n",
       "  'stars': 4,\n",
       "  'date': '2일 전'}]"
      ]
     },
     "execution_count": 4,
     "metadata": {},
     "output_type": "execute_result"
    }
   ],
   "source": [
    "import json\n",
    "\n",
    "with open('./res/reviews.json') as f:\n",
    "    review_list = json.load(f)\n",
    "\n",
    "\n",
    "review_list[:3]"
   ]
  },
  {
   "cell_type": "code",
   "execution_count": 5,
   "metadata": {},
   "outputs": [
    {
     "data": {
      "text/plain": [
       "(99, 21)"
      ]
     },
     "execution_count": 5,
     "metadata": {},
     "output_type": "execute_result"
    }
   ],
   "source": [
    "good_cnt, bad_cnt = 0, 0\n",
    "\n",
    "for r in review_list:\n",
    "  if r['stars'] == 5:\n",
    "    good_cnt += 1\n",
    "  else:\n",
    "    bad_cnt += 1\n",
    "\n",
    "good_cnt, bad_cnt"
   ]
  },
  {
   "cell_type": "code",
   "execution_count": 7,
   "metadata": {},
   "outputs": [
    {
     "data": {
      "text/plain": [
       "['[REVIEW_START]위치는 최상!!!  주차는 ㅠㅠ[REVIEW_END]',\n",
       " '[REVIEW_START]위치 굿 \\n객실내 먼지가 좀 많고 건조함 \\n뷰는 크게 기대하지 마세요[REVIEW_END]',\n",
       " '[REVIEW_START]너무 번화가 쪽은 아니라서 밤에 조용히 쉬기 좋았어요[REVIEW_END]']"
      ]
     },
     "execution_count": 7,
     "metadata": {},
     "output_type": "execute_result"
    }
   ],
   "source": [
    "reviews_good, reviews_bad = [], []\n",
    "\n",
    "for r in review_list:\n",
    "  if r['stars'] == 5:\n",
    "    reviews_good.append('[REVIEW_START]' + r['review'] + '[REVIEW_END]')\n",
    "  else:\n",
    "    reviews_bad.append('[REVIEW_START]' + r['review'] + '[REVIEW_END]')\n",
    "\n",
    "reviews_bad[:3]"
   ]
  },
  {
   "cell_type": "code",
   "execution_count": 8,
   "metadata": {},
   "outputs": [
    {
     "data": {
      "text/plain": [
       "'[REVIEW_START]위치는 최상!!!  주차는 ㅠㅠ[REVIEW_END]\\n[REVIEW_START]위치 굿 \\n객실내 먼지가 좀 많고 건조함 \\n뷰는 크게 기대하지 마세요[REV'"
      ]
     },
     "execution_count": 8,
     "metadata": {},
     "output_type": "execute_result"
    }
   ],
   "source": [
    "reviews_good_text = '\\n'.join(reviews_good)\n",
    "reviews_bad_text = '\\n'.join(reviews_bad)\n",
    "\n",
    "reviews_bad_text[:100]"
   ]
  },
  {
   "cell_type": "code",
   "execution_count": 9,
   "metadata": {},
   "outputs": [
    {
     "data": {
      "text/plain": [
       "'[REVIEW_START]호텔 위치가 안녕인사동 건물이라 찾기 쉽고 여행하기 너무 최적의 장소였어요! 그 건물 미피전시회 보러왔다가 너무 편하게 놀다가네요. 호텔 조식 좋아하는데 '"
      ]
     },
     "execution_count": 9,
     "metadata": {},
     "output_type": "execute_result"
    }
   ],
   "source": [
    "import datetime\n",
    "from dateutil import parser\n",
    "\n",
    "def preprocess_reviews(path='./res/reviews.json'):\n",
    "  with open(path) as f:\n",
    "    review_list = json.load(f)\n",
    "\n",
    "  reviews_good, reviews_bad = [], []\n",
    "\n",
    "  current_date = datetime.datetime.now()\n",
    "  date_boundary = current_date - datetime.timedelta(days=6*30)\n",
    "\n",
    "  for r in review_list:\n",
    "    review_date = r['date']\n",
    "    try :\n",
    "      review_date = parser.parse(review_date)\n",
    "    except (ValueError, TypeError):\n",
    "      review_date = current_date\n",
    "\n",
    "    if review_date < date_boundary:\n",
    "      continue\n",
    "\n",
    "    if r['stars'] == 5:\n",
    "      reviews_good.append('[REVIEW_START]' + r['review'] + '[REVIEW_END]')\n",
    "    else:\n",
    "      reviews_bad.append('[REVIEW_START]' + r['review'] + '[REVIEW_END]')\n",
    "\n",
    "  reviews_good_text = '\\n'.join(reviews_good)\n",
    "  reviews_bad_text = '\\n'.join(reviews_bad)\n",
    "\n",
    "  return reviews_good_text, reviews_bad_text\n",
    "\n",
    "\n",
    "good, bad = preprocess_reviews()\n",
    "\n",
    "good[:100]"
   ]
  },
  {
   "cell_type": "markdown",
   "metadata": {},
   "source": [
    "# 평가용 함수 작성"
   ]
  },
  {
   "cell_type": "code",
   "execution_count": 10,
   "metadata": {},
   "outputs": [],
   "source": [
    "def pairwise_eval(reviews, answer_a, answer_b):\n",
    "  eval_prompt = f\"\"\"[System]\n",
    "Please act as an impartial judge and evaluate the quality of the Korean summaries provided by two AI assistants to the set of user reviews on accommodations displayed below. You should choose the assistant that follows the user's instructions and answers the user's questions better. Your evaluation should consider factors such as the helpfulness, relevance, accuracy, depth, creativity, and level of detail of their responses. You should focus on who provides a better answer to the second user question. Begin your evaluation by comparing the responses of the two assistants and provide a short explanation. Avoid any position biases and ensure that the order in which the responses were presented does not influence your decision. Do not allow the length of the responses to influence your evaluation. Do not favor certain names of the assistants. Be as objective as possible. After providing your explanation, output your final verdict by strictly following this format: \\\"[[A]]\\\" if assistant A is better, \\\"[[B]]\\\" if assistant B is better, and \\\"[[C]]\\\" for a tie.\n",
    "\n",
    "[User Reviews]\n",
    "{reviews}\n",
    "[The Start of Assistant A's Answer]\n",
    "{answer_a}\n",
    "[The End of Assistant A's Answer]\n",
    "[The Start of Assistant B's Answer]\n",
    "{answer_b}\n",
    "[The End of Assistant B's Answer]\"\"\"\n",
    "  \n",
    "  completion = client.chat.completions.create(\n",
    "    model='gpt-4o-2024-05-13',\n",
    "    messages=[{'role': 'system', 'content': eval_prompt}],\n",
    "    temperature=0.0,\n",
    "  )\n",
    "\n",
    "  return completion"
   ]
  },
  {
   "cell_type": "markdown",
   "metadata": {},
   "source": [
    "## Baseline 모델 개발"
   ]
  },
  {
   "cell_type": "code",
   "execution_count": 11,
   "metadata": {},
   "outputs": [],
   "source": [
    "PROMPT_BASELINE = f\"\"\"아래 숙소 리뷰에 대해 5문장 내로 요약해줘:\"\"\""
   ]
  },
  {
   "cell_type": "code",
   "execution_count": 12,
   "metadata": {},
   "outputs": [
    {
     "name": "stdout",
     "output_type": "stream",
     "text": [
      "1. 인사동에 위치한 호텔로 여행하기에 최적의 장소이며, 깨끗하고 편안한 침대가 좋았다.\n",
      "2. 항상 만족하는 최고의 위치와 객실 상태를 자랑하는 호텔이다.\n",
      "3. 근처 맛집이 많아서 좋았고, 주변 동네가 예쁘고 다양한 관광지가 있었다.\n",
      "4. 침구류가 깨끗하고 주차가 편리하며, 소음 없이 편안한 숙박을 즐길 수 있다.\n",
      "5. 위치가 좋고 깨끗한 숙소 내부와 친절한 직원들이 만족스러운 숙박을 제공한다.\n"
     ]
    }
   ],
   "source": [
    "reviews, _ = preprocess_reviews(path='./res/reviews.json')\n",
    "\n",
    "def summarize(reviews, prompt, temperature=0.0, model='gpt-3.5-turbo-0125'):\n",
    "  prompt = prompt + '\\n\\n' + reviews\n",
    "\n",
    "  completion = client.chat.completions.create(\n",
    "    model=model,\n",
    "    messages=[{'role': 'system', 'content': prompt}],\n",
    "    temperature=temperature,\n",
    "  )\n",
    "\n",
    "  return completion\n",
    "\n",
    "print(summarize(reviews, PROMPT_BASELINE).choices[0].message.content)"
   ]
  },
  {
   "cell_type": "code",
   "execution_count": 13,
   "metadata": {},
   "outputs": [],
   "source": [
    "summary_real_20240526 = '위치가 매우 우수한 숙박시설로, 인사동과 조계사, 경복궁 등 관광지에 도보로 이동할 수 있는 편리한 위치에 있습니다. 객실은 깔끔하며 직원들의 친절한 서비스와 청결한 시설이 인상적입니다. 주위에는 맛집과 편의시설이 많아 편리하며, 교통 접근성도 좋습니다. 전체적으로 만족도가 높고 자주 방문하고 싶은 곳으로 손꼽히는 숙소로 평가됩니다.'"
   ]
  },
  {
   "cell_type": "code",
   "execution_count": 14,
   "metadata": {},
   "outputs": [
    {
     "name": "stdout",
     "output_type": "stream",
     "text": [
      "Assistant A provides a more detailed and comprehensive summary of the user reviews. It highlights specific aspects such as the hotel's location, the comfort of the beds, the cleanliness, and the proximity to tourist attractions and amenities. Assistant A also mentions the issue with the check-in time and the positive feedback about the view and service, which are all relevant points from the reviews.\n",
      "\n",
      "On the other hand, Assistant B's summary is more general and lacks the depth and specific details found in Assistant A's response. While it does mention the location, cleanliness, and friendly service, it does not capture the variety of specific feedback provided in the reviews.\n",
      "\n",
      "Therefore, Assistant A's response is more helpful, relevant, and detailed.\n",
      "\n",
      "[[A]]\n"
     ]
    }
   ],
   "source": [
    "print(pairwise_eval(reviews, summarize(reviews, PROMPT_BASELINE).choices[0].message.content, summary_real_20240526).choices[0].message.content)"
   ]
  },
  {
   "cell_type": "markdown",
   "metadata": {},
   "source": [
    "# 대규모 평가 스크립트\n",
    "\n",
    "- 원래는 많은 수의 다양한 데이터에 대해 평가를 하지만, 동일한 Prompt 에 대해 temperature 높여서 평가 진행"
   ]
  },
  {
   "cell_type": "code",
   "execution_count": 15,
   "metadata": {},
   "outputs": [
    {
     "data": {
      "text/plain": [
       "['1. 인사동에 위치한 깨끗하고 편안한 호텔로, 객실 상태와 위치에 대한 만족도가 높음\\n2. 객실이 깨끗하고 조용하여 휴식하기 좋은 호텔\\n3. 주변 맛집이 많아 위치가 좋은 숙소\\n4. 인사동 분위기를 느낄 수 있는 포근한 숙박이 가능한 곳\\n5. 소파 테이블 부족 등 일부 편의성 부족 사항을 제외하면 전체적으로 만족도가 높음',\n",
       " '1. 인사동에 위치한 호텔로 여행하기에 최적의 장소로 인식되며, 깨끗한 객실과 편안한 침대를 갖추고 있음.\\n2. 최고의 위치와 객실 상태로 항상 만족을 주는 숙소로 평가됨.\\n3. 근처 맛집이 다수 위치해 있어 식사하기 좋은 장소로 인식됨.\\n4. 깔끔하고 예쁜 주변 동네와 함께 편안한 숙박을 제공함.\\n5. 청결하고 위치가 좋아 만족스러운 숙박 경험을 주는 인사동에 위치한 숙소로 추천됨.',\n",
       " '1. 인사동에 위치한 호텔로 위치가 편리하고 깔끔한 숙소.\\n2. 호텔 컨디션과 위치에 만족하는 리뷰.\\n3. 주변 맛집이 많아 위치가 좋다는 의견.\\n4. 조용하고 깔끔한 객실로 편안한 휴식을 취할 수 있는 숙소.\\n5. 호텔이 조용하고 깨끗하며 위치가 좋다는 찬사가 담긴 후기.',\n",
       " '1. 위치가 최적하고 인사동 건물 내에 위치한 호텔이며, 깨끗하고 친절한 서비스를 제공한다.\\n2. 최고의 위치와 객실 상태로 항상 만족스러운 숙박을 경험할 수 있다.\\n3. 근처 맛집이 다양하고 호텔은 깔끔하며 근사한 숙소이다.\\n4. 깨끗하고 예쁜 주변 동네에서 편안한 숙박을 즐길 수 있다.\\n5. 친절한 직원, 깨끗한 객실, 편리한 주차시설 등 다양한 편의시설을 갖춘 호텔이다.',\n",
       " '1. 위치가 좋아서 여행하기 최적이며 미피전시회 근처에 위치하여 놀거리가 풍부하다.\\n2. 호텔은 깨끗하고 침대도 편안하며, 조식은 괜찮지만 주변 맛집이 많아서 재방문할 의사가 있다.\\n3. 인사동 분위기를 느낄 수 있는 포근한 분위기의 숙소로 깔끔하며 좋은 위치에 위치해 있다.\\n4. 친절한 직원과 깨끗한 객실이 인상적이며, 주변 관광 명소와의 접근성이 좋다.\\n5. 조계사 뷰가 멋진 객실로 청결하고 편안한 시설을 제공하며, 레이트 체크아웃이 가능하다.',\n",
       " '1. 호텔 위치가 인사동 건물로 여행하기 최적의 장소였고, 조식은 괜찮았지만 주변 맛집이 많아서 선택의 폭이 좁음.\\n2. 항상 최고의 위치와 객실 상태에 만족하는 곳.\\n3. 주변 맛집이 많고 좋았다.\\n4. 깔끔하고 예쁜 동네에서 숙박. \\n5. 편안한 침대와 청결한 호텔, 체크인 속도만 개선되면 재방문할 의사 있음.',\n",
       " '1. 인사동에 위치한 건물 내 호텔로 여행하기에 최적의 장소로 손색없다.\\n2. 최고의 위치와 객실 상태로 항상 만족을 제공하는 곳이다.\\n3. 근처에는 다양한 맛집이 있어서 좋은 위치에 위치한 숙소이다.\\n4. 깔끔하고 주변이 아름다운 동네에 위치한 숙소로, 편안한 숙박을 제공한다.\\n5. 조계사 뷰를 즐길 수 있는 좋은 입지에 위치하고, 조용하고 깔끔한 숙소로 만족스러운 체험을 한다.',\n",
       " '1. 호텔 위치가 인사동에 있어 찾기 쉽고 여행하기 좋았으며, 조식은 괜찮지만 먹을만한 곳이 많아서 신청을 안 할 듯\\n2. 항상 최고의 위치와 객실 상태에 만족하는 호텔\\n3. 근처 맛집이 많아서 좋음\\n4. 깔끔하고 예쁜 동네에 위치한 포근한 숙소\\n5. 침대도 편안하고 깨끗한 숙소이나 체크인 시간이 오래 걸리는 문제가 있음',\n",
       " '1. 인사동에 위치한 호텔로 여행하기에 최적의 장소이며, 건물이 미피전시회를 보러와서 편안하게 놀 수 있는 곳입니다.\\n2. 항상 최고의 위치와 객실 상태로 만족스러운 경험을 제공하는 호텔입니다.\\n3. 주변 맛집이 풍부하고 좋은 위치에 위치한 숙소라는 평가가 있습니다.\\n4. 깔끔한 숙소 내부와 주변이 아름다운 위치에 위치한 친절한 호텔로서 만족스러운 경험을 제공합니다.\\n5. 숙소가 깨끗하고 위치가 좋아서 만족스러운 숙박이 가능하며, 소음이 조금 있다는 단점이 있습니다.',\n",
       " '1. 인사동에 위치한 호텔로 여행하기 최적의 장소\\n2. 미피전시회 후에 편하게 놀다가 새벽 소음은 살짝\\n3. 깨끗하고 침대 편안, 체크인이 조금 오래걸릴 뿐\\n4. 조계사 뷰가 좋고 레이트 체크아웃 가능\\n5. 위치가 최고이고 직원 친절함, 다음에 다시 방문 의사 있음']"
      ]
     },
     "execution_count": 15,
     "metadata": {},
     "output_type": "execute_result"
    }
   ],
   "source": [
    "eval_count = 10\n",
    "\n",
    "summaries_baseline = [summarize(reviews, PROMPT_BASELINE, temperature=1.0).choices[0].message.content for _ in range(eval_count)]\n",
    "summaries_baseline"
   ]
  },
  {
   "cell_type": "code",
   "execution_count": 16,
   "metadata": {},
   "outputs": [
    {
     "name": "stderr",
     "output_type": "stream",
     "text": [
      "100%|██████████| 10/10 [00:18<00:00,  1.89s/it]"
     ]
    },
    {
     "name": "stdout",
     "output_type": "stream",
     "text": [
      "Wins: 10, Losses: 0, Ties: 0\n"
     ]
    },
    {
     "name": "stderr",
     "output_type": "stream",
     "text": [
      "\n"
     ]
    }
   ],
   "source": [
    "from tqdm import tqdm\n",
    "\n",
    "def pairwise_eval_batch(reviews, answers_a, answers_b):\n",
    "  a_cnt, b_cnt, draw_cnt = 0, 0, 0\n",
    "\n",
    "  for i in tqdm(range(len(answers_a))):\n",
    "    completion = pairwise_eval(reviews, answers_a[i], answers_b[i])\n",
    "    verdict_text = completion.choices[0].message.content\n",
    "    \n",
    "    if '[[A]]' in verdict_text:\n",
    "      a_cnt += 1\n",
    "    elif '[[B]]' in verdict_text:\n",
    "      b_cnt += 1\n",
    "    elif '[[C]]' in verdict_text:\n",
    "      draw_cnt += 1\n",
    "    else:\n",
    "      print('Evaluation Error')\n",
    "\n",
    "  \n",
    "  return a_cnt, b_cnt, draw_cnt\n",
    "\n",
    "wins, losses, ties = pairwise_eval_batch(reviews, summaries_baseline, [summary_real_20240526 for _ in range(len(summaries_baseline))])\n",
    "print(f'Wins: {wins}, Losses: {losses}, Ties: {ties}')"
   ]
  },
  {
   "cell_type": "markdown",
   "metadata": {},
   "source": [
    "## 모델 고도화 1 - 조건들 명시"
   ]
  },
  {
   "cell_type": "markdown",
   "metadata": {},
   "source": []
  },
  {
   "cell_type": "code",
   "execution_count": 17,
   "metadata": {},
   "outputs": [
    {
     "name": "stderr",
     "output_type": "stream",
     "text": [
      "100%|██████████| 10/10 [00:18<00:00,  1.80s/it]"
     ]
    },
    {
     "name": "stdout",
     "output_type": "stream",
     "text": [
      "Wins: 10, Losses: 0, Ties: 0\n"
     ]
    },
    {
     "name": "stderr",
     "output_type": "stream",
     "text": [
      "\n"
     ]
    }
   ],
   "source": [
    "prompt = f\"\"\"당신은 요약 전문가입니다. 사용자 숙소 리뷰들이 주어졌을 때 요약하는 것이 당신의 목표입니다.\n",
    "\n",
    "요약 결과는 다음 조건들을 충족해야 합니다:\n",
    "1. 모든 문장은 항상 존댓말로 끝나야 합니다.\n",
    "2. 숙소에 대해 소개하는 톤앤매너로 작성해주세요.\n",
    "  2-1. 좋은 예시\n",
    "    a) 전반적으로 좋은 숙소였고 방음도 괜찮았다는 평입니다.\n",
    "    b) 재방문 예정이라는 평들이 존재합니다.\n",
    "  2-2. 나쁜 예시\n",
    "    a) 좋은 숙소였고 방음도 괜찮았습니다.\n",
    "    b) 재방문 예정입니다.\n",
    "3. 요약 결과는 최소 2문장, 최대 5문장 사이로 작성해주세요.\n",
    "    \n",
    "아래 숙소 리뷰들에 대해 요약해주세요:\"\"\"\n",
    "\n",
    "eval_count = 10\n",
    "summaries = [summarize(reviews, prompt, temperature=1.0).choices[0].message.content for _ in range(eval_count)]\n",
    "wins, losses, ties = pairwise_eval_batch(reviews, summaries, [summary_real_20240526 for _ in range(len(summaries))])\n",
    "print(f'Wins: {wins}, Losses: {losses}, Ties: {ties}')"
   ]
  },
  {
   "cell_type": "markdown",
   "metadata": {},
   "source": [
    "## 모델 고도화 2 - 입력 데이터의 품질 증가"
   ]
  },
  {
   "cell_type": "code",
   "execution_count": 18,
   "metadata": {},
   "outputs": [],
   "source": [
    "import datetime\n",
    "from dateutil import parser\n",
    "\n",
    "def preprocess_reviews(path='./res/reviews.json'):\n",
    "    with open(path, 'r', encoding='utf-8') as f:\n",
    "        review_list = json.load(f)\n",
    "\n",
    "    reviews_good, reviews_bad = [], []\n",
    "\n",
    "    current_date = datetime.datetime.now()\n",
    "    date_boundary = current_date - datetime.timedelta(days=6*30)\n",
    "\n",
    "    filtered_cnt = 0\n",
    "    for r in review_list:\n",
    "        review_date_str = r['date']\n",
    "        try:\n",
    "            review_date = parser.parse(review_date_str)\n",
    "        except (ValueError, TypeError):\n",
    "            review_date = current_date\n",
    "\n",
    "        if review_date < date_boundary:\n",
    "            continue\n",
    "        if len(r['review']) < 30:\n",
    "            filtered_cnt += 1\n",
    "            continue\n",
    "\n",
    "        if r['stars'] == 5:\n",
    "            reviews_good.append('[REVIEW_START]' + r['review'] + '[REVIEW_END]')\n",
    "        else:\n",
    "            reviews_bad.append('[REVIEW_START]' + r['review'] + '[REVIEW_END]')\n",
    "\n",
    "    reviews_good = reviews_good[:min(len(reviews_good), 50)]\n",
    "    reviews_bad = reviews_bad[:min(len(reviews_bad), 50)]\n",
    "\n",
    "    reviews_good_text = '\\n'.join(reviews_good)\n",
    "    reviews_bad_text = '\\n'.join(reviews_bad)\n",
    "\n",
    "    return reviews_good_text, reviews_bad_text\n",
    "\n",
    "reviews, _ = preprocess_reviews()"
   ]
  },
  {
   "cell_type": "code",
   "execution_count": 19,
   "metadata": {},
   "outputs": [
    {
     "name": "stderr",
     "output_type": "stream",
     "text": [
      "100%|██████████| 10/10 [00:23<00:00,  2.32s/it]"
     ]
    },
    {
     "name": "stdout",
     "output_type": "stream",
     "text": [
      "Wins: 10, Losses: 0, Ties: 0\n"
     ]
    },
    {
     "name": "stderr",
     "output_type": "stream",
     "text": [
      "\n"
     ]
    }
   ],
   "source": [
    "eval_count = 10\n",
    "summaries = [summarize(reviews, prompt, temperature=1.0, model='gpt-3.5-turbo-0125').choices[0].message.content for _ in range(eval_count)]\n",
    "wins, losses, ties = pairwise_eval_batch(reviews, summaries, [summary_real_20240526 for _ in range(len(summaries))])\n",
    "print(f'Wins: {wins}, Losses: {losses}, Ties: {ties}')"
   ]
  },
  {
   "cell_type": "markdown",
   "metadata": {},
   "source": [
    "## 모델 고도화 3 - Few-Shot Prompting"
   ]
  },
  {
   "cell_type": "code",
   "execution_count": 20,
   "metadata": {},
   "outputs": [
    {
     "name": "stderr",
     "output_type": "stream",
     "text": [
      "100%|██████████| 10/10 [00:25<00:00,  2.52s/it]"
     ]
    },
    {
     "name": "stdout",
     "output_type": "stream",
     "text": [
      "Wins: 9, Losses: 1, Ties: 0\n"
     ]
    },
    {
     "name": "stderr",
     "output_type": "stream",
     "text": [
      "\n"
     ]
    }
   ],
   "source": [
    "reviews_1shot, _ = preprocess_reviews('./res/ninetree_pangyo.json')\n",
    "summary_1shot = summarize(reviews_1shot, prompt, temperature=0.0, model='gpt-4-turbo-2024-04-09').choices[0].message.content\n",
    "prompt_1shot = f\"\"\"당신은 요약 전문가입니다. 사용자 숙소 리뷰들이 주어졌을 때 요약하는 것이 당신의 목표입니다.\n",
    "\n",
    "요약 결과는 다음 조건들을 충족해야 합니다:\n",
    "1. 모든 문장은 항상 존댓말로 끝나야 합니다.\n",
    "2. 숙소에 대해 소개하는 톤앤매너로 작성해주세요.\n",
    "  2-1. 좋은 예시\n",
    "    a) 전반적으로 좋은 숙소였고 방음도 괜찮았다는 평입니다.\n",
    "    b) 재방문 예정이라는 평들이 존재합니다.\n",
    "  2-2. 나쁜 예시\n",
    "    a) 좋은 숙소였고 방음도 괜찮았습니다.\n",
    "    b) 재방문 예정입니다.\n",
    "3. 요약 결과는 최소 2문장, 최대 5문장 사이로 작성해주세요.\n",
    "\n",
    "다음은 리뷰들과 요약 예시입니다.\n",
    "예시 리뷰들:\n",
    "{reviews_1shot}\n",
    "예시 요약 결과:\n",
    "{summary_1shot}\n",
    "    \n",
    "아래 숙소 리뷰들에 대해 요약해주세요:\"\"\"\n",
    "\n",
    "summaries = [summarize(reviews, prompt, temperature=1.0, model='gpt-3.5-turbo-0125').choices[0].message.content for _ in range(eval_count)]\n",
    "wins, losses, ties = pairwise_eval_batch(reviews, summaries, [summary_real_20240526 for _ in range(len(summaries))])\n",
    "print(f'Wins: {wins}, Losses: {losses}, Ties: {ties}')"
   ]
  },
  {
   "cell_type": "code",
   "execution_count": 21,
   "metadata": {},
   "outputs": [
    {
     "data": {
      "text/plain": [
       "['한여름 더위에 이른 오후, 안녕인사동 건물 속 감성피트니스 전시회를 즐기며 즐거운 시간을 보내셨던 손님께서 호텔의 편안한 조식과 편안한 침대, 청결한 객실에 만족하셨던 후기를 남기셨습니다. 체크인 속도 문제만 해결된다면 재방문의사가 있다고 합니다. 만족의 말들이어서 기분 좋은 한편인 것 같아요. 위치와 객실 상태 등이 언제나 만족스러웠던 것으로 드러나는 후기입니다. 조계사의 북소리가 크게 들렸지만 여전히 만족하셨다고 하네요. 위치와 서비스, 청결함 등에서 좋은 평을 받은 호텔입니다. 위치가 매우 편리하고 조계사 뷰를 즐기면서 편안한 휴식을 취하셨다는 훌륭한 후기를 남긴 손님도 있습니다. 위치와 친절한 직원, 깨끗한 객실 등 여러 면에서 만족스러운 숙박이었다고 작성한 후기도 있네요.기본 컨디션도 좋았다는 서운이며, 방음과 건조함을 언급하며 다소 아쉬워하는 후기도 있습니다. 호텔의 깔끔함과 위치, 객실 편안함으로 즐거운 여행을 보내신 후기도 있습니다. 인사동과 조계사를 즐기기에 딱 좋은 위치에 있었다는 만족스러운 후기도 있어요. 위치적인 장점이 매력적이라 단점이 더욱 상쇄된다는 긍정적인 평도 있지만, 가격이 조금 낮았으면 더 좋겠다는 솔직한 의견도 보입니다. 숙박 및 놀이를 즐기면서 만족하는 손님들 가운데 하나로 나타나는 좋은 후기입니다. 다양한 단소나 에러걸리나 사소한 불편한점 개선을 희망하는 후기도 있네요. 위치, 청결함, 주변 환경 등에 만족하셨던 손님이 호텔의 깨끗함과 주변 볼거리에 잠시 눈을 환기시킨 후 끝내기 좋다는 후기를 남기십니다.',\n",
       " '이 호텔은 안녕인사동 건물에 위치해 있어 찾기가 쉽고 여행하기에 최적의 장소입니다. 호텔 조식은 나쁘지 않지만 주변 맛집이 많아서 다른 식사장소를 고려할 정도로 편리합니다. 침대는 편안하고 호텔은 매우 깨끗합니다. 체크인 시간이 개선된다면 재방문 의사가 있는 호텔입니다. 이곳은 항상 만족하고 최고의 위치에 위치한 호텔로 늘 만족하는 곳입니다. 위치와 청결도로 만족한 급하게 예약한 것도 누리기 좋았습니다. 호텔은 소음이 없고 친절하며 깔끔하며 가격 대비 훌륭합니다. 인사동과 관광하기 편리한 위치에 있어 모든 면에서 만족스러운 숙박이 가능합니다.',\n",
       " '인사동에 위치한 호텔로 찾기 쉽고 여행하기 최적의 장소입니다. 호텔은 깨끗하고 침대는 편안하며 조식도 괜찮은 수준입니다. 체크인 문제만 해결된다면 재방문 의사가 있습니다. 항상 만족하는 위치와 객실 상태를 자랑합니다. 또한 깨끗하고 좋은 인상을 심어주는 호텔로, 다음에 또 방문할 의향이 있습니다. 위치나 객실 상태 등 전반적인 만족도가 높은 호텔로, 주변 맛집도 즐길 수 있을 만큼 훌륭한 숙박을 경험했습니다. 위치적으로 우수하며, 깨끗한 숙소와 친절한 직원들로 만족스러운 시간을 보낼 수 있었습니다. 그 외에도 객실 청결도와 직원 친절도가 돋보여 이용 후에도 만족스러운 서비스를 경험했습니다. 호텔이 깔끔하고 위치가 좋아 만족스러웠습니다.다양한 가구와 쾌적한 객실 환경을 자랑하며, 주변 여행지에 쉽게 접근 가능한 좋은 위치에 자리하고 있었습니다.',\n",
       " '인사동에 위치한 호텔로, 건물이 안녕한 위치에 있어 찾기 쉽고 여행하기에 최적의 장소입니다. 호텔은 깨끗하고 침대도 편안하여 편히 머물렀습니다. 체크인이 오래 걸리는 문제만 해결되면 재방문하고 싶은 숙소입니다. 주변에 맛집도 많아서 다음에는 조식 대신 외부 식당을 즐기고 싶어요! 숙소는 깨끗하고 직원분들이 친절하여 기분 좋게 머무르기에 좋은 곳입니다. 위치도 중앙에 있어 인사동을 즐기기에 최적이며, 다음에 다시 방문하고 싶은 생각을 했습니다. 위치가 좋고 숙소 상태가 깔끔하여 만족을 느끼며 머물렀습니다. 주변 관광지에도 접근성이 좋아 좋은 추억을 만들었습니다. 호텔은 깨끗하고 직원분들이 친절하여 기분 좋게 머물렀으며, 다음에 다시 방문하고 싶은 생각이 듭니다. 위치적으로도 뛰어나며, 좋은 컨디션의 숙소에서 편안하게 머물렀습니다. 객실은 조용하고 깨끗하며, 도보로 이동하기 편리한 위치에 있습니다. 호텔은 깨끗하고 직원분들도 친절하여 기분 좋게 머물렀습니다. 위치가 편리하고 청결한 숙소에서 좋은 시간을 보낸 후, 서울 방문 시 다시 이용하고 싶은 마음입니다. 위치가 너무 좋고 주변에 많은 볼거리가 있어 매번 잘 이용하고 나가네요. 평일에는 조계사나 인사동 뷰를 선택할 수 있어서 좋았습니다. 마지막 레이트 체크아웃도 가능해 좋았습니다. 호텔은 깨끗하고 객실은 조용하며, 편안한 휴식을 취할 수 있었습니다. 위치가 훌륭하고 호텔 서비스도 만족스러워 다음에 또 방문하고 싶을 정도입니다.',\n",
       " '한남인사동에 위치한 호텔은 찾기 쉬우며 여행하기에 최적의 장소입니다. 호텔은 깨끗하고 침대는 편안하며 조식도 나쁘지 않습니다. 다만, 근처 맛집이 많아서 다음에는 조식을 신청하지 않을 예정입니다. 체크인이 조금 오래 걸리는 문제만 해결된다면 재방문의사가 있습니다. 호텔 위치와 객실 상태에 항상 만족하는 다른 고객들의 리뷰도 있습니다. 여러 군데로 쉽게 이동할 수 있는 입지와 조용한 객실 상태로 만족스러운 투숙이 가능한 것으로 평가되었습니다.',\n",
       " '숙소 위치가 안녕인 사동 건물로 최적의 여행 장소였습니다. 건물 내 미피전시회를 즐기며 편안한 휴식을 즐기셨는데, 침대는 편안하고 호텔은 매우 깨끗했습니다. 체크인 문제만 개선된다면 재방문 의사가 있을 것 같아요! 특히 인사동 분위기를 느낄 수 있는 나인트리 인사동점은 깨끗하고 친절한 서비스로 만족스러웠습니다. 요리할 때 필요한 객실과 침구는 훌륭했고, 위치도 좋아 강력 추천합니다.',\n",
       " '인사동에 위치한 호텔로 위치가 편리하고 주변 관광지를 즐기기에 최적인 곳입니다. 숙소는 깨끗하며 친절한 직원들이 응대해줘 만족스러운 숙박 경험을 선사해주었습니다. 단, 체크인이 조금 오래 걸리는 점을 개선하면 재방문 의사가 높을 것으로 보입니다. 위치적으로도 편리하고 만족스러운 숙소입니다.',\n",
       " '숙소 위치가 안녕인사동 건물로 여행에 최적인 장소로 소개되었습니다. 침대는 편하고 호텔은 깨끗한 편이었으며, 체크인 시간이 개선되면 재방문할 의사가 있다는 후기가 있습니다. 또한, 인사동 분위기를 느낄 수 있는 곳으로 위치한 이 숙소는 객실 상태가 우수하다는 좋은 의견도 있었습니다. 위치나 청결함에 대한 긍정적인 평가가 계속되고 있습니다.',\n",
       " '인사동 건물에 위치한 호텔은 여행하기에 최적의 장소로 손꼽히며, 조식이 괜찮은 편이었지만 근처 맛집이 많아서 다음엔 신청을 삼가고 싶다는 의견도 있었습니다. 침대는 편안하고 숙소는 매우 깨끗했지만 체크인이 조금 오래 걸린다는 문제만 개선된다면 재방문 의사가 있는 것으로 보입니다. 호텔 위치와 객실 상태로 항상 만족하며, 급하게 예약한 숙소를 만난다면 위치와 청결함에 대한 만족이 높을 것입니다. 호텔은 인사동 중앙에 위치해 관광지로도 편리하고 친절한 직원과 깨끗한 객실로 기분 좋게 다녀왔다는 솔직한 후기가 있습니다. 위치적으로 좋고 편리한 숙소로 평가받는 호텔은 방이 깔끔하고 청결함을 잘 유지하며, 재방문하고 싶은 곳으로 손꼽힙니다.',\n",
       " '인사동에 위치한 호텔로, 미피전시회를 보러 오신 여행객들에게 최적의 장소로 소개되는 호텔입니다. 침대가 매우 편안하고 깨끗한 객실을 제공하며, 조식은 만족스러운 편이나 주변 맛집이 많아 특히 인기를 끌고 있습니다. 또한 체크인 시간이 조금 걸리는 불편을 제외하면 재방문 의사가 있는 숙소로서 소음도 거의 없고 주차 또한 가능하여 편리한 숙소로 추천합니다.']"
      ]
     },
     "execution_count": 21,
     "metadata": {},
     "output_type": "execute_result"
    }
   ],
   "source": [
    "summaries"
   ]
  },
  {
   "cell_type": "code",
   "execution_count": 22,
   "metadata": {},
   "outputs": [
    {
     "name": "stderr",
     "output_type": "stream",
     "text": [
      "100%|██████████| 10/10 [00:25<00:00,  2.58s/it]"
     ]
    },
    {
     "name": "stdout",
     "output_type": "stream",
     "text": [
      "Wins: 8, Losses: 2, Ties: 0\n"
     ]
    },
    {
     "name": "stderr",
     "output_type": "stream",
     "text": [
      "\n"
     ]
    }
   ],
   "source": [
    "prompt_1shot = f\"\"\"당신은 요약 전문가입니다. 사용자 숙소 리뷰들이 주어졌을 때 요약하는 것이 당신의 목표입니다. 다음은 리뷰들과 요약 예시입니다.\n",
    "예시 리뷰들:\n",
    "{reviews_1shot}\n",
    "예시 요약 결과:\n",
    "{summary_1shot}\n",
    "    \n",
    "아래 숙소 리뷰들에 대해 요약해주세요:\"\"\"\n",
    "\n",
    "summaries = [summarize(reviews, prompt_1shot, temperature=1.0, model='gpt-3.5-turbo-0125').choices[0].message.content for _ in range(eval_count)]\n",
    "wins, losses, ties = pairwise_eval_batch(reviews, summaries, [summary_real_20240526 for _ in range(len(summaries))])\n",
    "print(f'Wins: {wins}, Losses: {losses}, Ties: {ties}')"
   ]
  },
  {
   "cell_type": "code",
   "execution_count": 23,
   "metadata": {},
   "outputs": [
    {
     "data": {
      "text/plain": [
       "['이 숙소는 인사동에 위치해 있어 관광하기에 최적이며, 객실 상태와 서비스에 대한 만족도가 높게 평가되었습니다. 다수의 리뷰에서 친절한 직원 응대와 깨끗한 객실을 강조하였으며, 주변 맛집과 먹거리가 풍부하다는 점이 언급되었습니다. 그러나 일부 리뷰에서는 체크인 속도나 소음에 대한 언급도 있었습니다. 전반적으로 재방문 의사가 높은 숙소로 평가됩니다.',\n",
       " '이 숙소는 주변 관광지와 가까운 위치에 있어 이동이 편리하며, 객실의 청결도가 높게 평가되었습니다. 직원들의 친절함과 서비스에 대한 만족도도 높았습니다. 다만 일부 리뷰에서는 체크인 과정이 다소 오래 걸린다는 언급이 있었지만, 전반적으로 재방문 의사가 높은 것으로 보입니다.',\n",
       " '이 숙소는 인사동에 위치하여 위치가 매우 우수하며 청결한 객실과 친절한 직원들이 많이 언급되고 있습니다. 또한 수영장 등 부대시설이 만족스럽다는 평가도 많이 받았습니다. 다만, 체크인 속도에 대한 불만이 일부 리뷰에서 언급되었으나, 전반적으로 아주 만족한 이용객이 많아 재방문 의사가 높은 숙소로 평가됩니다.',\n",
       " '이 숙소는 위치가 인사동에 있어 여행하기에 최적이며, 늘 만족스러운 객실 상태와 친절한 직원들로 평가받고 있습니다. 일부 소음이 문제가 될 수 있지만, 전반적으로 청결하고 편리한 숙소로 재방문 의사가 있는 이용객들이 많이 보고 있습니다. 부대시설과 위치면에서 좋은점을 강조하면서도, 체크인 시간의 지연이나 소음으로 인한 불편함에 대해 개선 요청이 있습니다. 다양한 먹거리와 구경할 곳이 주변에 많아 친절한 직원과 청결한 객실 등이 장점으로 인식되고 있습니다.',\n",
       " '이 숙소는 인사동에 위치하여 여행하기에 최적의 장소로 손꼽히고 있습니다. 객실 상태와 위치에 대한 만족도가 높게 평가되었으며, 조식은 나쁘지 않았지만 주변 맛집 다양성으로 인해 신청을 하지 않을 정도라는 의견도 있습니다. 침대의 편안함과 호텔 청결도에 대한 양호한 평가가 잇따르고 있습니다. 다만, 체크인 속도에 대한 불만 사항이 있어 해결되면 재방문의사가 있는 편입니다. 위치적으로 우수한 인프라를 지닌 숙소이며, 소음과 바닥이 오염된 소파를 향한 개선 요청이 있습니다. 전반적으로 만족도가 높은 호텔로 평가됩니다.',\n",
       " '이 호텔은 안녕인사동 위치에 있어서 여행에 최적의 장소로 평가받고 있습니다. 호텔은 깨끗하고 침대는 편안하며, 조식은 나쁘지 않지만 주변 음식점이 많아서 다음에는 신청하지 않을 예정입니다. 체크인 속도가 느린 문제를 제외하고는 재방문 의사가 있는 만족스러운 숙소입니다. 위치적으로 좋고 청결도 높은 호텔로, 직원의 친절함과 쾌적한 환경이 인상적입니다. 그러나 일부 리뷰에서는 체크인 과정의 속도와 수영장 혼잡에 대한 불편을 언급하고 있습니다. 종합적으로 보면 재방문 의사를 밝힌 이용객이 많아 향후 방문을 고려할 수 있는 숙소입니다.',\n",
       " '이 숙소는 위치가 좋아서 관광하기에 최적이며, 깨끗한 객실과 친절한 직원들이 인상적입니다. 다양한 먹거리와 구경할 곳이 주변에 많아 만족스러운 여행이 가능합니다. 하지만 체크인 시간이 오래 걸리는 점이 개선되면 더욱 완벽한 선택지가 될 것으로 보입니다. 위치와 가격 대비로 추천할 만한 숙소로 평가됩니다.',\n",
       " '이 숙소는 위치가 인사동과 인접하여 여행하기에 최적의 장소로 평가받고 있습니다. 객실 상태가 우수하며 청결하며 침대가 매우 편안하다는 리뷰가 많이 있습니다. 또한 직원의 친절함과 주변 맛집 다양성도 만족스러운 편입니다. 그러나 체크인 절차의 지연이 아쉬워하는 의견도 있으며, 구조가 복잡해서 길 찾기가 어려울 수도 있다는 언급이 있습니다. 종합적으로 위치와 서비스에 대한 호평이 많이 나왔으나 개선점도 몇몇 리뷰에서 언급되었습니다.',\n",
       " '이 숙소는 위치가 우수하며 깨끗한 객실과 친절한 직원 서비스로 만족스러운 숙박을 제공합니다. 주변 관광명소에 가깝고 편리한 인프라를 갖추고 있어서 다양한 즐길거리가 있습니다. 다만, 체크인 소요 시간이 긴 문제가 있을 수 있지만, 이를 개선한다면 다시 방문할 의향이 있습니다.',\n",
       " '이 숙소는 안녕인사동에 위치하여 여행하기에 최적의 장소로 평가받고 있습니다. 객실은 깨끗하고 침대는 매우 편안하며, 체크인 절차를 제외하면 다양한 리뷰들에서 만족스러운 숙박 경험이 언급되고 있습니다. 인근 맛집이 많아 조식 신청을 망설이는 이용객도 있지만, 전반적으로 위치, 객실 상태, 직원 서비스 등이 좋다는 의견이 많습니다. 단, 소파 부분의 티테이블 부재와 오염된 소파에 대한 언급도 있습니다. 이 숙소는 조계사 뷰와 인사동 스타일을 즐기기에 충분히 좋은 선택지로 보입니다.']"
      ]
     },
     "execution_count": 23,
     "metadata": {},
     "output_type": "execute_result"
    }
   ],
   "source": [
    "summaries"
   ]
  },
  {
   "cell_type": "code",
   "execution_count": 24,
   "metadata": {},
   "outputs": [],
   "source": [
    "reviews_1shot, _ = preprocess_reviews('./res/ninetree_pangyo.json')\n",
    "summary_1shot = summarize(reviews_1shot, prompt, temperature=0.0, model='gpt-4-turbo-2024-04-09').choices[0].message.content"
   ]
  },
  {
   "cell_type": "code",
   "execution_count": 25,
   "metadata": {},
   "outputs": [
    {
     "name": "stderr",
     "output_type": "stream",
     "text": [
      "100%|██████████| 10/10 [00:23<00:00,  2.40s/it]"
     ]
    },
    {
     "name": "stdout",
     "output_type": "stream",
     "text": [
      "Wins: 10, Losses: 0, Ties: 0\n"
     ]
    },
    {
     "name": "stderr",
     "output_type": "stream",
     "text": [
      "\n"
     ]
    }
   ],
   "source": [
    "reviews_2shot, _ = preprocess_reviews('./res/ninetree_yongsan.json')\n",
    "summary_2shot = summarize(reviews_2shot, prompt_1shot, temperature=0.0, model='gpt-4-turbo-2024-04-09').choices[0].message.content\n",
    "\n",
    "prompt_2shot = f\"\"\"당신은 요약 전문가입니다. 사용자 숙소 리뷰들이 주어졌을 때 요약하는 것이 당신의 목표입니다. 다음은 리뷰들과 요약 예시입니다.\n",
    "\n",
    "예시 리뷰들 1:\n",
    "{reviews_1shot}\n",
    "예시 요약 결과 1:\n",
    "{summary_1shot}\n",
    "\n",
    "예시 리뷰들 2:\n",
    "{reviews_2shot}\n",
    "예시 요약 결과 2:\n",
    "{summary_2shot}\n",
    "    \n",
    "아래 숙소 리뷰들에 대해 요약해주세요:\"\"\"\n",
    "\n",
    "summaries = [summarize(reviews, prompt_2shot, temperature=1.0, model='gpt-3.5-turbo-0125').choices[0].message.content for _ in range(eval_count)]\n",
    "wins, losses, ties = pairwise_eval_batch(reviews, summaries, [summary_real_20240526 for _ in range(len(summaries))])\n",
    "print(f'Wins: {wins}, Losses: {losses}, Ties: {ties}')"
   ]
  },
  {
   "cell_type": "code",
   "execution_count": 26,
   "metadata": {},
   "outputs": [
    {
     "data": {
      "text/plain": [
       "['입력하신 리뷰들을 요약한 결과는 다음과 같습니다:\\n\\n이 숙소는 인사동 건물에 위치하여 여행하기에 최적의 장소로 평가받고 있습니다. 객실은 깨끗하고 침구도 편안하며, 위치가 편리하다는 평가를 받았습니다. 직원은 친절하며, 서울을 탐험하기에 이 숙소가 이상적이라고 말씀하셨습니다. 다만, 체크인 속도가 느리다는 결함이 지적되었습니다. 전반적으로 이용객들은 좋은 위치와 깨끗한 객실 상태로 만족하며, 재방문하고 싶다는 의사를 밝히고 있습니다. 추가로, 조계사 뷰를 선호하는 투숙객들이 있었으나, 소음이 좀 있다는 리뷰도 있었습니다. 전반적으로 숙박 경험에 만족한 리뷰가 많았습니다.',\n",
       " '요약 결과:\\n이 숙소는 주변 관광지와의 접근성이 좋고, 깨끗한 객실과 친절한 직원 서비스로 많은 이용객들에게 만족을 준다. 고객들은 대체로 재방문 의사가 높으며, 조식이나 위치 등 다양한 요소에서 좋은 평가를 받는 편입니다. 그러나 체크인 속도나 약간의 소음, 온도와 먼지 문제 등 몇 가지 개선이 필요한 부분도 언급되어 있습니다. 종합적으로 위치와 객실의 깨끗함, 서비스에 대한 양호한 평가로 추천할만한 숙소로 평가됩니다.',\n",
       " '이 숙소는 위치가 인사동과 가까워서 여행하기에 최적의 장소로 인기가 높습니다. 객실 상태는 깨끗하고 침구도 편안하며, 체크인이 오래 걸리는 점을 빼면 재방문을 원하는 이용객이 많습니다. 주변 맛집이 많아 조식은 선택지가 많은 편이고, 조계사 뷰와 인사동 뷰를 즐길 수 있는 낮은 층수부터 고층 뷰까지 다양한 선택지를 제공합니다. 다만 소음에 조금 민감한 분들은 조심해야할 수도 있습니다. 호텔 직원들의 친절한 응대와 편리한 인프라, 그리고 주변 관광지 접근성 등이 좋은 평가를 받고 있습니다.',\n",
       " '이 숙소는 위치가 인사동 중심이라 여행하기에 최적이었고, 호텔 조식은 만족스러웠지만 인근 먹거리가 다양해서 조식을 추가로 구매할 의향이 적다는 리뷰가 있습니다. 객실은 깨끗하고 침대가 편안하며, 첫 방문 시 체크인 시간이 길어 문제를 겪었지만 바로 해결되면 다시 방문할 의사가 있다는 의견도 있었습니다. 전반적으로 만족스러운 숙박 경험을 한 고객이 많았습니다. 위치나 청결함, 직원 서비스 등이 좋았지만 방음이 조금 부족하거나 건조함이 느껴진다는 부정적인 의견도 일부 있었습니다. 여러 리뷰에서는 별도 요금 없이 고민없이 잘 쉬고 놀 수 있었다는 긍정적인 평가도 있었습니다.',\n",
       " '이 숙소는 안녕인사동의 좋은 위치와 만족스러운 객실 상태로 손님들에게 주로 좋은 평가를 받고 있습니다. 객실은 깨끗하고 편안하며, 직원들의 응대가 친절하다는 평가도 받고 있습니다. 또한, 호텔의 위치가 관광하기에도 편리하다는 점이 강조되고 있습니다. 그러나 일부 리뷰에서는 체크인 절차에 대한 불편함과 소파 등 일부 시설의 불편함이 언급되었습니다. 전반적으로 숙소는 만족스러우며, 재방문 의사를 밝힌 이용객이 많은 것으로 보입니다.',\n",
       " '입력하신 숙소 리뷰들에 대한 요약 결과는 다음과 같습니다:\\n이 숙소는 위치적으로 인사동이나 근처 관광지와의 접근성이 좋아 여행하기에 최적이라고 평가되고 있습니다. 대부분의 이용객들이 객실의 깔끔함과 직원들의 친절함에 만족하며, 침구의 청결도에 대한 양호한 평가를 받고 있습니다. 일부 리뷰에서는 체크인 속도가 다소 느리다는 의견이 나왔으나, 전반적으로 만족스러운 투숙 경험을 한 것으로 보입니다. 종종 고객들은 다음 방문을 염두에 둔다고 언급하면서 전체적으로 숙소를 선호한다는 느낌을 줍니다. 위치, 청결, 서비스, 편의 시설 등이 만족스러워하고 다시 방문할 의사를 가지는 투숙객이 상당히 많이 보이는 특징입니다.',\n",
       " '주변 관광지와의 접근성이 좋고 호텔 내부가 깨끗하며 친절한 직원이 한 편에 위치한 숙소입니다. 몇몇 리뷰들에서는 체크인 시간과 소음에 대한 언급이 있으나 전반적으로 만족도가 높아 재방문 의사가 있는 것으로 보입니다. 다양한 시설과 편의를 갖춘 이 호텔은 양질의 서비스를 제공하는 것으로 평가받고 있습니다.',\n",
       " '입력하신 숙소 리뷰들을 종합한 결과, 이 숙소는 위치가 좋고 청결한 객실 상태로 만족도가 높게 평가되고 있습니다. 직원들의 친절함과 서비스에 대한 긍정적인 평가도 많이 보입니다. 또한, 숙소 주변에 다양한 맛집과 관광지가 있어 편리하며, 주말에는 주차가 가능하다는 점도 장점으로 손꼽힙니다. 다만, 조식 시간대에 사람이 많다거나 체크인 시간이 길다는 등의 일부 부정적인 의견도 있습니다. 종합적으로 이 숙소는 재방문 의사가 높은 만족스러운 숙소로 평가됩니다.',\n",
       " '이 숙소는  주변 인사동의 위치와 청결한 객실에 대한 칭찬이 많이 있습니다. 객실의 침구와 편안함, 직원들의 친절한 응대에 대한 긍정적인 의견이 많이 나타나고 있습니다. 또한, 조식이나 서비스에 대한 만족도도 높게 언급되었습니다. 그러나 체크인 속도는 느리다는 의견과 주말 가격에 대한 불만이 있었습니다. 전체적으로 재방문 의사가 높은 숙소로 평가받았습니다.',\n",
       " '이 숙소는 최적의 위치와 깨끗한 객실로 많은 만족을 이끌어내는 것으로 평가받고 있습니다. 호텔의 청결도와 직원들의 친절도가 높게 평가되며, 특히 인사동과 가까운 위치가 장점으로 손꼽힙니다. 객실 내 조식 서비스가 나쁘지 않다는 의견도 있지만 근처에 다양한 음식점이 있어 조식 선택을 고민한다는 의견도 있습니다. 다만 몇몇 리뷰에서는 체크인 시간이 길다는 단점을 언급하고 있습니다. 전반적으로 이 호텔은 다양한 여행 목적에 적합한 위치와 클린한 객실로 많은 이용객으로부터 호평을 받고 있습니다.']"
      ]
     },
     "execution_count": 26,
     "metadata": {},
     "output_type": "execute_result"
    }
   ],
   "source": [
    "summaries\n"
   ]
  },
  {
   "cell_type": "code",
   "execution_count": null,
   "metadata": {},
   "outputs": [],
   "source": []
  }
 ],
 "metadata": {
  "kernelspec": {
   "display_name": ".venv",
   "language": "python",
   "name": "python3"
  },
  "language_info": {
   "codemirror_mode": {
    "name": "ipython",
    "version": 3
   },
   "file_extension": ".py",
   "mimetype": "text/x-python",
   "name": "python",
   "nbconvert_exporter": "python",
   "pygments_lexer": "ipython3",
   "version": "3.9.18"
  }
 },
 "nbformat": 4,
 "nbformat_minor": 2
}
