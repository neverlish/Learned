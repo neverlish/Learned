{
 "cells": [
  {
   "cell_type": "code",
   "execution_count": 3,
   "metadata": {},
   "outputs": [
    {
     "name": "stdout",
     "output_type": "stream",
     "text": [
      "Hello! How can I assist you today?\n"
     ]
    }
   ],
   "source": [
    "import os\n",
    "\n",
    "from openai import OpenAI\n",
    "\n",
    "OPENAI_API_KEY = os.environ['OPENAI_API_KEY']\n",
    "\n",
    "client = OpenAI(api_key=OPENAI_API_KEY)\n",
    "\n",
    "completion = client.chat.completions.create(\n",
    "  model='gpt-3.5-turbo-0125',\n",
    "  messages=[{'role': 'user', 'content': 'hi'}],\n",
    "  temperature=0.0,\n",
    ")\n",
    "\n",
    "print(completion.choices[0].message.content)\n",
    "\n"
   ]
  },
  {
   "cell_type": "code",
   "execution_count": 4,
   "metadata": {},
   "outputs": [
    {
     "data": {
      "text/plain": [
       "[{'review': '위치는 최상!!!  주차는 ㅠㅠ', 'stars': 4, 'date': '1일 전'},\n",
       " {'review': '호텔 위치가 안녕인사동 건물이라 찾기 쉽고 여행하기 너무 최적의 장소였어요! 그 건물 미피전시회 보러왔다가 너무 편하게 놀다가네요. 호텔 조식 좋아하는데 나쁘진않치만 근처에 먹을데가 너무 많아서 다음엔 신청 안할려구용 ㅋ 침대가 엄청 편하고 호텔이 너무 깨끗했습니다. 체크인이 오래걸리는 문제만 해결되면 재방문 의사있습니다!',\n",
       "  'stars': 5,\n",
       "  'date': '2일 전'},\n",
       " {'review': '위치 굿 \\n객실내 먼지가 좀 많고 건조함 \\n뷰는 크게 기대하지 마세요',\n",
       "  'stars': 4,\n",
       "  'date': '2일 전'}]"
      ]
     },
     "execution_count": 4,
     "metadata": {},
     "output_type": "execute_result"
    }
   ],
   "source": [
    "import json\n",
    "\n",
    "with open('./res/reviews.json') as f:\n",
    "    review_list = json.load(f)\n",
    "\n",
    "\n",
    "review_list[:3]"
   ]
  },
  {
   "cell_type": "code",
   "execution_count": 5,
   "metadata": {},
   "outputs": [
    {
     "data": {
      "text/plain": [
       "(99, 21)"
      ]
     },
     "execution_count": 5,
     "metadata": {},
     "output_type": "execute_result"
    }
   ],
   "source": [
    "good_cnt, bad_cnt = 0, 0\n",
    "\n",
    "for r in review_list:\n",
    "  if r['stars'] == 5:\n",
    "    good_cnt += 1\n",
    "  else:\n",
    "    bad_cnt += 1\n",
    "\n",
    "good_cnt, bad_cnt"
   ]
  },
  {
   "cell_type": "code",
   "execution_count": 7,
   "metadata": {},
   "outputs": [
    {
     "data": {
      "text/plain": [
       "['[REVIEW_START]위치는 최상!!!  주차는 ㅠㅠ[REVIEW_END]',\n",
       " '[REVIEW_START]위치 굿 \\n객실내 먼지가 좀 많고 건조함 \\n뷰는 크게 기대하지 마세요[REVIEW_END]',\n",
       " '[REVIEW_START]너무 번화가 쪽은 아니라서 밤에 조용히 쉬기 좋았어요[REVIEW_END]']"
      ]
     },
     "execution_count": 7,
     "metadata": {},
     "output_type": "execute_result"
    }
   ],
   "source": [
    "reviews_good, reviews_bad = [], []\n",
    "\n",
    "for r in review_list:\n",
    "  if r['stars'] == 5:\n",
    "    reviews_good.append('[REVIEW_START]' + r['review'] + '[REVIEW_END]')\n",
    "  else:\n",
    "    reviews_bad.append('[REVIEW_START]' + r['review'] + '[REVIEW_END]')\n",
    "\n",
    "reviews_bad[:3]"
   ]
  },
  {
   "cell_type": "code",
   "execution_count": 8,
   "metadata": {},
   "outputs": [
    {
     "data": {
      "text/plain": [
       "'[REVIEW_START]위치는 최상!!!  주차는 ㅠㅠ[REVIEW_END]\\n[REVIEW_START]위치 굿 \\n객실내 먼지가 좀 많고 건조함 \\n뷰는 크게 기대하지 마세요[REV'"
      ]
     },
     "execution_count": 8,
     "metadata": {},
     "output_type": "execute_result"
    }
   ],
   "source": [
    "reviews_good_text = '\\n'.join(reviews_good)\n",
    "reviews_bad_text = '\\n'.join(reviews_bad)\n",
    "\n",
    "reviews_bad_text[:100]"
   ]
  },
  {
   "cell_type": "code",
   "execution_count": 9,
   "metadata": {},
   "outputs": [
    {
     "data": {
      "text/plain": [
       "'[REVIEW_START]호텔 위치가 안녕인사동 건물이라 찾기 쉽고 여행하기 너무 최적의 장소였어요! 그 건물 미피전시회 보러왔다가 너무 편하게 놀다가네요. 호텔 조식 좋아하는데 '"
      ]
     },
     "execution_count": 9,
     "metadata": {},
     "output_type": "execute_result"
    }
   ],
   "source": [
    "import datetime\n",
    "from dateutil import parser\n",
    "\n",
    "def preprocess_reviews(path='./res/reviews.json'):\n",
    "  with open(path) as f:\n",
    "    review_list = json.load(f)\n",
    "\n",
    "  reviews_good, reviews_bad = [], []\n",
    "\n",
    "  current_date = datetime.datetime.now()\n",
    "  date_boundary = current_date - datetime.timedelta(days=6*30)\n",
    "\n",
    "  for r in review_list:\n",
    "    review_date = r['date']\n",
    "    try :\n",
    "      review_date = parser.parse(review_date)\n",
    "    except (ValueError, TypeError):\n",
    "      review_date = current_date\n",
    "\n",
    "    if review_date < date_boundary:\n",
    "      continue\n",
    "\n",
    "    if r['stars'] == 5:\n",
    "      reviews_good.append('[REVIEW_START]' + r['review'] + '[REVIEW_END]')\n",
    "    else:\n",
    "      reviews_bad.append('[REVIEW_START]' + r['review'] + '[REVIEW_END]')\n",
    "\n",
    "  reviews_good_text = '\\n'.join(reviews_good)\n",
    "  reviews_bad_text = '\\n'.join(reviews_bad)\n",
    "\n",
    "  return reviews_good_text, reviews_bad_text\n",
    "\n",
    "\n",
    "good, bad = preprocess_reviews()\n",
    "\n",
    "good[:100]"
   ]
  },
  {
   "cell_type": "markdown",
   "metadata": {},
   "source": [
    "# 평가용 함수 작성"
   ]
  },
  {
   "cell_type": "code",
   "execution_count": 10,
   "metadata": {},
   "outputs": [],
   "source": [
    "def pairwise_eval(reviews, answer_a, answer_b):\n",
    "  eval_prompt = f\"\"\"[System]\n",
    "Please act as an impartial judge and evaluate the quality of the Korean summaries provided by two AI assistants to the set of user reviews on accommodations displayed below. You should choose the assistant that follows the user's instructions and answers the user's questions better. Your evaluation should consider factors such as the helpfulness, relevance, accuracy, depth, creativity, and level of detail of their responses. You should focus on who provides a better answer to the second user question. Begin your evaluation by comparing the responses of the two assistants and provide a short explanation. Avoid any position biases and ensure that the order in which the responses were presented does not influence your decision. Do not allow the length of the responses to influence your evaluation. Do not favor certain names of the assistants. Be as objective as possible. After providing your explanation, output your final verdict by strictly following this format: \\\"[[A]]\\\" if assistant A is better, \\\"[[B]]\\\" if assistant B is better, and \\\"[[C]]\\\" for a tie.\n",
    "\n",
    "[User Reviews]\n",
    "{reviews}\n",
    "[The Start of Assistant A's Answer]\n",
    "{answer_a}\n",
    "[The End of Assistant A's Answer]\n",
    "[The Start of Assistant B's Answer]\n",
    "{answer_b}\n",
    "[The End of Assistant B's Answer]\"\"\"\n",
    "  \n",
    "  completion = client.chat.completions.create(\n",
    "    model='gpt-4o-2024-05-13',\n",
    "    messages=[{'role': 'system', 'content': eval_prompt}],\n",
    "    temperature=0.0,\n",
    "  )\n",
    "\n",
    "  return completion"
   ]
  },
  {
   "cell_type": "markdown",
   "metadata": {},
   "source": [
    "## Baseline 모델 개발"
   ]
  },
  {
   "cell_type": "code",
   "execution_count": 11,
   "metadata": {},
   "outputs": [],
   "source": [
    "PROMPT_BASELINE = f\"\"\"아래 숙소 리뷰에 대해 5문장 내로 요약해줘:\"\"\""
   ]
  },
  {
   "cell_type": "code",
   "execution_count": 12,
   "metadata": {},
   "outputs": [
    {
     "name": "stdout",
     "output_type": "stream",
     "text": [
      "1. 인사동에 위치한 호텔로 여행하기에 최적의 장소이며, 깨끗하고 편안한 침대가 좋았다.\n",
      "2. 항상 만족하는 최고의 위치와 객실 상태를 자랑하는 호텔이다.\n",
      "3. 근처 맛집이 많아서 좋았고, 주변 동네가 예쁘고 다양한 관광지가 있었다.\n",
      "4. 침구류가 깨끗하고 주차가 편리하며, 소음 없이 편안한 숙박을 즐길 수 있다.\n",
      "5. 위치가 좋고 깨끗한 숙소 내부와 친절한 직원들이 만족스러운 숙박을 제공한다.\n"
     ]
    }
   ],
   "source": [
    "reviews, _ = preprocess_reviews(path='./res/reviews.json')\n",
    "\n",
    "def summarize(reviews, prompt, temperature=0.0, model='gpt-3.5-turbo-0125'):\n",
    "  prompt = prompt + '\\n\\n' + reviews\n",
    "\n",
    "  completion = client.chat.completions.create(\n",
    "    model=model,\n",
    "    messages=[{'role': 'system', 'content': prompt}],\n",
    "    temperature=temperature,\n",
    "  )\n",
    "\n",
    "  return completion\n",
    "\n",
    "print(summarize(reviews, PROMPT_BASELINE).choices[0].message.content)"
   ]
  },
  {
   "cell_type": "code",
   "execution_count": 13,
   "metadata": {},
   "outputs": [],
   "source": [
    "summary_real_20240526 = '위치가 매우 우수한 숙박시설로, 인사동과 조계사, 경복궁 등 관광지에 도보로 이동할 수 있는 편리한 위치에 있습니다. 객실은 깔끔하며 직원들의 친절한 서비스와 청결한 시설이 인상적입니다. 주위에는 맛집과 편의시설이 많아 편리하며, 교통 접근성도 좋습니다. 전체적으로 만족도가 높고 자주 방문하고 싶은 곳으로 손꼽히는 숙소로 평가됩니다.'"
   ]
  },
  {
   "cell_type": "code",
   "execution_count": 14,
   "metadata": {},
   "outputs": [
    {
     "name": "stdout",
     "output_type": "stream",
     "text": [
      "Assistant A provides a more detailed and comprehensive summary of the user reviews. It highlights specific aspects such as the hotel's location, the comfort of the beds, the cleanliness, and the proximity to tourist attractions and amenities. Assistant A also mentions the issue with the check-in time and the positive feedback about the view and service, which are all relevant points from the reviews.\n",
      "\n",
      "On the other hand, Assistant B's summary is more general and lacks the depth and specific details found in Assistant A's response. While it does mention the location, cleanliness, and friendly service, it does not capture the variety of specific feedback provided in the reviews.\n",
      "\n",
      "Therefore, Assistant A's response is more helpful, relevant, and detailed.\n",
      "\n",
      "[[A]]\n"
     ]
    }
   ],
   "source": [
    "print(pairwise_eval(reviews, summarize(reviews, PROMPT_BASELINE).choices[0].message.content, summary_real_20240526).choices[0].message.content)"
   ]
  },
  {
   "cell_type": "markdown",
   "metadata": {},
   "source": [
    "# 대규모 평가 스크립트\n",
    "\n",
    "- 원래는 많은 수의 다양한 데이터에 대해 평가를 하지만, 동일한 Prompt 에 대해 temperature 높여서 평가 진행"
   ]
  },
  {
   "cell_type": "code",
   "execution_count": 15,
   "metadata": {},
   "outputs": [
    {
     "data": {
      "text/plain": [
       "['1. 인사동에 위치한 깨끗하고 편안한 호텔로, 객실 상태와 위치에 대한 만족도가 높음\\n2. 객실이 깨끗하고 조용하여 휴식하기 좋은 호텔\\n3. 주변 맛집이 많아 위치가 좋은 숙소\\n4. 인사동 분위기를 느낄 수 있는 포근한 숙박이 가능한 곳\\n5. 소파 테이블 부족 등 일부 편의성 부족 사항을 제외하면 전체적으로 만족도가 높음',\n",
       " '1. 인사동에 위치한 호텔로 여행하기에 최적의 장소로 인식되며, 깨끗한 객실과 편안한 침대를 갖추고 있음.\\n2. 최고의 위치와 객실 상태로 항상 만족을 주는 숙소로 평가됨.\\n3. 근처 맛집이 다수 위치해 있어 식사하기 좋은 장소로 인식됨.\\n4. 깔끔하고 예쁜 주변 동네와 함께 편안한 숙박을 제공함.\\n5. 청결하고 위치가 좋아 만족스러운 숙박 경험을 주는 인사동에 위치한 숙소로 추천됨.',\n",
       " '1. 인사동에 위치한 호텔로 위치가 편리하고 깔끔한 숙소.\\n2. 호텔 컨디션과 위치에 만족하는 리뷰.\\n3. 주변 맛집이 많아 위치가 좋다는 의견.\\n4. 조용하고 깔끔한 객실로 편안한 휴식을 취할 수 있는 숙소.\\n5. 호텔이 조용하고 깨끗하며 위치가 좋다는 찬사가 담긴 후기.',\n",
       " '1. 위치가 최적하고 인사동 건물 내에 위치한 호텔이며, 깨끗하고 친절한 서비스를 제공한다.\\n2. 최고의 위치와 객실 상태로 항상 만족스러운 숙박을 경험할 수 있다.\\n3. 근처 맛집이 다양하고 호텔은 깔끔하며 근사한 숙소이다.\\n4. 깨끗하고 예쁜 주변 동네에서 편안한 숙박을 즐길 수 있다.\\n5. 친절한 직원, 깨끗한 객실, 편리한 주차시설 등 다양한 편의시설을 갖춘 호텔이다.',\n",
       " '1. 위치가 좋아서 여행하기 최적이며 미피전시회 근처에 위치하여 놀거리가 풍부하다.\\n2. 호텔은 깨끗하고 침대도 편안하며, 조식은 괜찮지만 주변 맛집이 많아서 재방문할 의사가 있다.\\n3. 인사동 분위기를 느낄 수 있는 포근한 분위기의 숙소로 깔끔하며 좋은 위치에 위치해 있다.\\n4. 친절한 직원과 깨끗한 객실이 인상적이며, 주변 관광 명소와의 접근성이 좋다.\\n5. 조계사 뷰가 멋진 객실로 청결하고 편안한 시설을 제공하며, 레이트 체크아웃이 가능하다.',\n",
       " '1. 호텔 위치가 인사동 건물로 여행하기 최적의 장소였고, 조식은 괜찮았지만 주변 맛집이 많아서 선택의 폭이 좁음.\\n2. 항상 최고의 위치와 객실 상태에 만족하는 곳.\\n3. 주변 맛집이 많고 좋았다.\\n4. 깔끔하고 예쁜 동네에서 숙박. \\n5. 편안한 침대와 청결한 호텔, 체크인 속도만 개선되면 재방문할 의사 있음.',\n",
       " '1. 인사동에 위치한 건물 내 호텔로 여행하기에 최적의 장소로 손색없다.\\n2. 최고의 위치와 객실 상태로 항상 만족을 제공하는 곳이다.\\n3. 근처에는 다양한 맛집이 있어서 좋은 위치에 위치한 숙소이다.\\n4. 깔끔하고 주변이 아름다운 동네에 위치한 숙소로, 편안한 숙박을 제공한다.\\n5. 조계사 뷰를 즐길 수 있는 좋은 입지에 위치하고, 조용하고 깔끔한 숙소로 만족스러운 체험을 한다.',\n",
       " '1. 호텔 위치가 인사동에 있어 찾기 쉽고 여행하기 좋았으며, 조식은 괜찮지만 먹을만한 곳이 많아서 신청을 안 할 듯\\n2. 항상 최고의 위치와 객실 상태에 만족하는 호텔\\n3. 근처 맛집이 많아서 좋음\\n4. 깔끔하고 예쁜 동네에 위치한 포근한 숙소\\n5. 침대도 편안하고 깨끗한 숙소이나 체크인 시간이 오래 걸리는 문제가 있음',\n",
       " '1. 인사동에 위치한 호텔로 여행하기에 최적의 장소이며, 건물이 미피전시회를 보러와서 편안하게 놀 수 있는 곳입니다.\\n2. 항상 최고의 위치와 객실 상태로 만족스러운 경험을 제공하는 호텔입니다.\\n3. 주변 맛집이 풍부하고 좋은 위치에 위치한 숙소라는 평가가 있습니다.\\n4. 깔끔한 숙소 내부와 주변이 아름다운 위치에 위치한 친절한 호텔로서 만족스러운 경험을 제공합니다.\\n5. 숙소가 깨끗하고 위치가 좋아서 만족스러운 숙박이 가능하며, 소음이 조금 있다는 단점이 있습니다.',\n",
       " '1. 인사동에 위치한 호텔로 여행하기 최적의 장소\\n2. 미피전시회 후에 편하게 놀다가 새벽 소음은 살짝\\n3. 깨끗하고 침대 편안, 체크인이 조금 오래걸릴 뿐\\n4. 조계사 뷰가 좋고 레이트 체크아웃 가능\\n5. 위치가 최고이고 직원 친절함, 다음에 다시 방문 의사 있음']"
      ]
     },
     "execution_count": 15,
     "metadata": {},
     "output_type": "execute_result"
    }
   ],
   "source": [
    "eval_count = 10\n",
    "\n",
    "summaries_baseline = [summarize(reviews, PROMPT_BASELINE, temperature=1.0).choices[0].message.content for _ in range(eval_count)]\n",
    "summaries_baseline"
   ]
  },
  {
   "cell_type": "code",
   "execution_count": 16,
   "metadata": {},
   "outputs": [
    {
     "name": "stderr",
     "output_type": "stream",
     "text": [
      "100%|██████████| 10/10 [00:18<00:00,  1.89s/it]"
     ]
    },
    {
     "name": "stdout",
     "output_type": "stream",
     "text": [
      "Wins: 10, Losses: 0, Ties: 0\n"
     ]
    },
    {
     "name": "stderr",
     "output_type": "stream",
     "text": [
      "\n"
     ]
    }
   ],
   "source": [
    "from tqdm import tqdm\n",
    "\n",
    "def pairwise_eval_batch(reviews, answers_a, answers_b):\n",
    "  a_cnt, b_cnt, draw_cnt = 0, 0, 0\n",
    "\n",
    "  for i in tqdm(range(len(answers_a))):\n",
    "    completion = pairwise_eval(reviews, answers_a[i], answers_b[i])\n",
    "    verdict_text = completion.choices[0].message.content\n",
    "    \n",
    "    if '[[A]]' in verdict_text:\n",
    "      a_cnt += 1\n",
    "    elif '[[B]]' in verdict_text:\n",
    "      b_cnt += 1\n",
    "    elif '[[C]]' in verdict_text:\n",
    "      draw_cnt += 1\n",
    "    else:\n",
    "      print('Evaluation Error')\n",
    "\n",
    "  \n",
    "  return a_cnt, b_cnt, draw_cnt\n",
    "\n",
    "wins, losses, ties = pairwise_eval_batch(reviews, summaries_baseline, [summary_real_20240526 for _ in range(len(summaries_baseline))])\n",
    "print(f'Wins: {wins}, Losses: {losses}, Ties: {ties}')"
   ]
  },
  {
   "cell_type": "markdown",
   "metadata": {},
   "source": [
    "## 모델 고도화 1 - 조건들 명시"
   ]
  },
  {
   "cell_type": "markdown",
   "metadata": {},
   "source": []
  },
  {
   "cell_type": "code",
   "execution_count": 17,
   "metadata": {},
   "outputs": [
    {
     "name": "stderr",
     "output_type": "stream",
     "text": [
      "100%|██████████| 10/10 [00:18<00:00,  1.80s/it]"
     ]
    },
    {
     "name": "stdout",
     "output_type": "stream",
     "text": [
      "Wins: 10, Losses: 0, Ties: 0\n"
     ]
    },
    {
     "name": "stderr",
     "output_type": "stream",
     "text": [
      "\n"
     ]
    }
   ],
   "source": [
    "prompt = f\"\"\"당신은 요약 전문가입니다. 사용자 숙소 리뷰들이 주어졌을 때 요약하는 것이 당신의 목표입니다.\n",
    "\n",
    "요약 결과는 다음 조건들을 충족해야 합니다:\n",
    "1. 모든 문장은 항상 존댓말로 끝나야 합니다.\n",
    "2. 숙소에 대해 소개하는 톤앤매너로 작성해주세요.\n",
    "  2-1. 좋은 예시\n",
    "    a) 전반적으로 좋은 숙소였고 방음도 괜찮았다는 평입니다.\n",
    "    b) 재방문 예정이라는 평들이 존재합니다.\n",
    "  2-2. 나쁜 예시\n",
    "    a) 좋은 숙소였고 방음도 괜찮았습니다.\n",
    "    b) 재방문 예정입니다.\n",
    "3. 요약 결과는 최소 2문장, 최대 5문장 사이로 작성해주세요.\n",
    "    \n",
    "아래 숙소 리뷰들에 대해 요약해주세요:\"\"\"\n",
    "\n",
    "eval_count = 10\n",
    "summaries = [summarize(reviews, prompt, temperature=1.0).choices[0].message.content for _ in range(eval_count)]\n",
    "wins, losses, ties = pairwise_eval_batch(reviews, summaries, [summary_real_20240526 for _ in range(len(summaries))])\n",
    "print(f'Wins: {wins}, Losses: {losses}, Ties: {ties}')"
   ]
  },
  {
   "cell_type": "markdown",
   "metadata": {},
   "source": [
    "## 모델 고도화 2 - 입력 데이터의 품질 증가"
   ]
  },
  {
   "cell_type": "code",
   "execution_count": null,
   "metadata": {},
   "outputs": [],
   "source": [
    "import datetime\n",
    "from dateutil import parser\n",
    "\n",
    "def preprocess_reviews(path='./res/reviews.json'):\n",
    "    with open(path, 'r', encoding='utf-8') as f:\n",
    "        review_list = json.load(f)\n",
    "\n",
    "    reviews_good, reviews_bad = [], []\n",
    "\n",
    "    current_date = datetime.datetime.now()\n",
    "    date_boundary = current_date - datetime.timedelta(days=6*30)\n",
    "\n",
    "    filtered_cnt = 0\n",
    "    for r in review_list:\n",
    "        review_date_str = r['date']\n",
    "        try:\n",
    "            review_date = parser.parse(review_date_str)\n",
    "        except (ValueError, TypeError):\n",
    "            review_date = current_date\n",
    "\n",
    "        if review_date < date_boundary:\n",
    "            continue\n",
    "        if len(r['review']) < 30:\n",
    "            filtered_cnt += 1\n",
    "            continue\n",
    "\n",
    "        if r['stars'] == 5:\n",
    "            reviews_good.append('[REVIEW_START]' + r['review'] + '[REVIEW_END]')\n",
    "        else:\n",
    "            reviews_bad.append('[REVIEW_START]' + r['review'] + '[REVIEW_END]')\n",
    "\n",
    "    reviews_good = reviews_good[:min(len(reviews_good), 50)]\n",
    "    reviews_bad = reviews_bad[:min(len(reviews_bad), 50)]\n",
    "\n",
    "    reviews_good_text = '\\n'.join(reviews_good)\n",
    "    reviews_bad_text = '\\n'.join(reviews_bad)\n",
    "\n",
    "    return reviews_good_text, reviews_bad_text\n",
    "\n",
    "reviews, _ = preprocess_reviews()"
   ]
  }
 ],
 "metadata": {
  "kernelspec": {
   "display_name": ".venv",
   "language": "python",
   "name": "python3"
  },
  "language_info": {
   "codemirror_mode": {
    "name": "ipython",
    "version": 3
   },
   "file_extension": ".py",
   "mimetype": "text/x-python",
   "name": "python",
   "nbconvert_exporter": "python",
   "pygments_lexer": "ipython3",
   "version": "3.9.18"
  }
 },
 "nbformat": 4,
 "nbformat_minor": 2
}
