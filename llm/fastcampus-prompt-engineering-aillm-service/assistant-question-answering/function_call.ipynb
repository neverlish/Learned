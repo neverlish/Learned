{
 "cells": [
  {
   "cell_type": "code",
   "execution_count": 1,
   "metadata": {},
   "outputs": [
    {
     "name": "stdout",
     "output_type": "stream",
     "text": [
      "Greetings, young one. How may I assist you today?\n"
     ]
    }
   ],
   "source": [
    "import anthropic\n",
    "\n",
    "client = anthropic.Anthropic()\n",
    "\n",
    "message = client.messages.create(\n",
    "    model=\"claude-3-haiku-20240307\",\n",
    "    max_tokens=1000,\n",
    "    temperature=0.0,\n",
    "    system=\"Respond only in Yoda-speak.\",\n",
    "    messages=[\n",
    "        {\"role\": \"user\", \"content\": \"Hi!\"}\n",
    "    ]\n",
    ")\n",
    "\n",
    "print(message.content[0].text)\n"
   ]
  },
  {
   "cell_type": "code",
   "execution_count": 4,
   "metadata": {},
   "outputs": [],
   "source": [
    "def multiply(a, b):\n",
    "    return a * b"
   ]
  },
  {
   "cell_type": "code",
   "execution_count": 7,
   "metadata": {},
   "outputs": [
    {
     "data": {
      "text/plain": [
       "[TextBlock(text='Here is the result of multiplying 2 and 3:', type='text'),\n",
       " ToolUseBlock(id='toolu_01NgbZHC46JJGzss2u9dJeF7', input={'a': '2', 'b': '3'}, name='multiply', type='tool_use')]"
      ]
     },
     "execution_count": 7,
     "metadata": {},
     "output_type": "execute_result"
    }
   ],
   "source": [
    "response = client.messages.create(\n",
    "    model=\"claude-3-haiku-20240307\",\n",
    "    max_tokens=1024,\n",
    "    tools=[\n",
    "      {\n",
    "        \"name\": \"multiply\",\n",
    "        \"description\": \"Multiply two integers\",\n",
    "        \"input_schema\": {\n",
    "          \"type\": \"object\",\n",
    "          \"properties\": {\n",
    "            \"a\": {\"type\": \"string\", \"description\": \"First number\"},\n",
    "            \"b\": {\"type\": \"string\", \"description\": \"Second number\"}\n",
    "          },\n",
    "          \"required\": [\"a\", \"b\"]\n",
    "        }\n",
    "      }\n",
    "    ],\n",
    "\n",
    "    messages=[\n",
    "        {\"role\": \"user\", \"content\": \"What is result of 2 times 3?\"}\n",
    "    ]\n",
    ")\n",
    "\n",
    "response.content\n",
    "\n"
   ]
  },
  {
   "cell_type": "code",
   "execution_count": 8,
   "metadata": {},
   "outputs": [
    {
     "data": {
      "text/plain": [
       "ToolUseBlock(id='toolu_01NgbZHC46JJGzss2u9dJeF7', input={'a': '2', 'b': '3'}, name='multiply', type='tool_use')"
      ]
     },
     "execution_count": 8,
     "metadata": {},
     "output_type": "execute_result"
    }
   ],
   "source": [
    "tool_use_block = next((block for block in response.content if block.type == \"tool_use\" and block.name == \"multiply\"), None)\n",
    "\n",
    "tool_use_block"
   ]
  },
  {
   "cell_type": "code",
   "execution_count": 9,
   "metadata": {},
   "outputs": [
    {
     "name": "stdout",
     "output_type": "stream",
     "text": [
      "The result of 2 times 3 is 6\n"
     ]
    }
   ],
   "source": [
    "if tool_use_block:\n",
    "  a = int(tool_use_block.input[\"a\"])\n",
    "  b = int(tool_use_block.input[\"b\"])\n",
    "  result = multiply(a, b)\n",
    "  print(f\"The result of {a} times {b} is {result}\")\n",
    "else:\n",
    "  print(\"No valid multiply tool use found in the output\")\n",
    "\n",
    "\n"
   ]
  },
  {
   "cell_type": "code",
   "execution_count": null,
   "metadata": {},
   "outputs": [],
   "source": []
  }
 ],
 "metadata": {
  "kernelspec": {
   "display_name": ".venv",
   "language": "python",
   "name": "python3"
  },
  "language_info": {
   "codemirror_mode": {
    "name": "ipython",
    "version": 3
   },
   "file_extension": ".py",
   "mimetype": "text/x-python",
   "name": "python",
   "nbconvert_exporter": "python",
   "pygments_lexer": "ipython3",
   "version": "3.11.6"
  }
 },
 "nbformat": 4,
 "nbformat_minor": 2
}
