{
 "cells": [
  {
   "cell_type": "code",
   "execution_count": 1,
   "metadata": {},
   "outputs": [],
   "source": [
    "import os\n",
    "\n",
    "from google.oauth2.credentials import Credentials\n",
    "from google_auth_oauthlib.flow import InstalledAppFlow\n",
    "from googleapiclient.discovery import build\n",
    "\n",
    "SCOPES = ['https://www.googleapis.com/auth/calendar']\n",
    "\n",
    "if os.path.exists('./res/token.json'):\n",
    "    creds = Credentials.from_authorized_user_file('./res/token.json', SCOPES)\n",
    "else:\n",
    "    flow = InstalledAppFlow.from_client_secrets_file(\n",
    "        './res/credentials.json',\n",
    "        SCOPES\n",
    "    )\n",
    "\n",
    "    creds = flow.run_local_server(port=0)\n",
    "\n",
    "    with open('./res/token.json', 'w') as token:\n",
    "        token.write(creds.to_json())\n",
    "\n",
    "service = build('calendar', 'v3', credentials=creds)\n",
    "\n",
    "\n"
   ]
  },
  {
   "cell_type": "code",
   "execution_count": 2,
   "metadata": {},
   "outputs": [],
   "source": [
    "import anthropic\n",
    "\n",
    "client = anthropic.Anthropic()\n",
    "\n",
    "response = client.messages.create(\n",
    "    model=\"claude-3-5-sonnet-20240620\",\n",
    "    max_tokens=1024,\n",
    "    messages=[{\"role\": \"user\", \"content\": \"What's the weather in like in San Francisco?\"}],\n",
    ")\n"
   ]
  },
  {
   "cell_type": "code",
   "execution_count": 3,
   "metadata": {},
   "outputs": [
    {
     "data": {
      "text/plain": [
       "[TextBlock(text=\"I apologize, but I don't have access to real-time weather information. Weather conditions can change rapidly, and without current data, I can't provide an accurate report for San Francisco's weather at this moment.\\n\\nHowever, I can tell you that San Francisco generally has a Mediterranean climate with mild temperatures year-round. The city experiences:\\n\\n1. Dry, warm summers (June to October)\\n2. Cool, wet winters (November to May)\\n3. Frequent fog, especially during summer mornings\\n4. Average temperatures ranging from about 50°F (10°C) to 70°F (21°C) throughout the year\\n\\nFor current weather conditions and forecasts, I recommend checking a reliable weather website or app that provides up-to-date information for San Francisco.\", type='text')]"
      ]
     },
     "execution_count": 3,
     "metadata": {},
     "output_type": "execute_result"
    }
   ],
   "source": [
    "response.content"
   ]
  },
  {
   "cell_type": "code",
   "execution_count": 4,
   "metadata": {},
   "outputs": [],
   "source": [
    "response = client.messages.create(\n",
    "  model=\"claude-3-5-sonnet-20240620\",\n",
    "  max_tokens=1024,\n",
    "  tools=[\n",
    "    {\n",
    "      \"name\": \"get_weather\",\n",
    "      \"description\": \"Get the current weather in a given location\",\n",
    "      \"input_schema\": {\n",
    "        \"type\": \"object\",\n",
    "        \"properties\": {\n",
    "          \"location\": {\n",
    "            \"type\": \"string\",\n",
    "            \"description\": \"The city and state, e.g. San Francisco, CA\"\n",
    "          }\n",
    "        },\n",
    "        \"required\": [\"location\"]\n",
    "      }\n",
    "    }\n",
    "  ],\n",
    "  messages=[{'role': 'user', 'content': 'What is the weather in San Francisco?'}]\n",
    ")"
   ]
  },
  {
   "cell_type": "code",
   "execution_count": 5,
   "metadata": {},
   "outputs": [
    {
     "data": {
      "text/plain": [
       "[TextBlock(text=\"Certainly! I can help you get the current weather information for San Francisco. To do this, I'll use the weather tool available to me. Let me fetch that information for you right away.\", type='text'),\n",
       " ToolUseBlock(id='toolu_01JobNpLJVPhDNUUoynTUmZ4', input={'location': 'San Francisco, CA'}, name='get_weather', type='tool_use')]"
      ]
     },
     "execution_count": 5,
     "metadata": {},
     "output_type": "execute_result"
    }
   ],
   "source": [
    "response.content"
   ]
  },
  {
   "cell_type": "markdown",
   "metadata": {},
   "source": [
    "# Function Call + Google Calendar API"
   ]
  },
  {
   "cell_type": "code",
   "execution_count": 6,
   "metadata": {},
   "outputs": [],
   "source": []
  },
  {
   "cell_type": "code",
   "execution_count": 7,
   "metadata": {},
   "outputs": [],
   "source": [
    "tools = [\n",
    "  {\n",
    "    \"name\": \"create_event\",\n",
    "    \"description\": \"Create new Google Calendar event\",\n",
    "    \"input_schema\": {\n",
    "      \"type\": \"object\",\n",
    "      \"properties\": {\n",
    "        \"summary\": {\n",
    "          \"type\": \"string\",\n",
    "          \"description\": \"Name of Google Calendar event\"\n",
    "        },\n",
    "        \"start\": {\n",
    "          \"type\": \"string\",\n",
    "          \"description\": \"Start date of Google Calendar Event in UTC+9 Time i.e. 2024-08-14T09:00:00\"\n",
    "        },\n",
    "        \"end\": {\n",
    "          \"type\": \"string\",\n",
    "          \"description\": \"End date of Google Calendar Event in UTC+9 Time i.e. 2024-08-14T18:00:00\"\n",
    "        },\n",
    "               \n",
    "      },\n",
    "      \"required\": [\"summary\"]\n",
    "    }\n",
    "  }\n",
    "]"
   ]
  },
  {
   "cell_type": "code",
   "execution_count": 8,
   "metadata": {},
   "outputs": [],
   "source": [
    "def create_event(summary, start, end):\n",
    "  event = {\n",
    "    \"summary\": summary,\n",
    "    \"start\": {\n",
    "      \"dateTime\": start,\n",
    "      \"timeZone\": \"Asia/Seoul\"\n",
    "    },\n",
    "    \"end\": {\n",
    "      \"dateTime\": end,\n",
    "      \"timeZone\": \"Asia/Seoul\"\n",
    "    }\n",
    "  }\n",
    "\n",
    "  event = service.events().insert(calendarId='primary', body=event).execute()\n",
    "  print(f\"Event created: %s\", (event.get('htmlLink')))\n",
    "  return event"
   ]
  },
  {
   "cell_type": "code",
   "execution_count": 17,
   "metadata": {},
   "outputs": [],
   "source": [
    "response = client.messages.create(\n",
    "  model=\"claude-3-5-sonnet-20240620\",\n",
    "  max_tokens=1024,\n",
    "  tools=tools,\n",
    "  messages=[{'role': 'user', 'content': 'Create an event called Lunch starting from 2024.08.14 1pm'}],\n",
    ")"
   ]
  },
  {
   "cell_type": "code",
   "execution_count": 18,
   "metadata": {},
   "outputs": [
    {
     "data": {
      "text/plain": [
       "[TextBlock(text='Certainly! I can help you create a Google Calendar event for your lunch using the available tool. Let me set that up for you using the information you provided.', type='text'),\n",
       " ToolUseBlock(id='toolu_01B4zB5RgxU3ey33eq5hhwM7', input={'summary': 'Lunch', 'start': '2024-08-14T13:00:00', 'end': '2024-08-14T14:00:00'}, name='create_event', type='tool_use')]"
      ]
     },
     "execution_count": 18,
     "metadata": {},
     "output_type": "execute_result"
    }
   ],
   "source": [
    "response.content"
   ]
  },
  {
   "cell_type": "code",
   "execution_count": 19,
   "metadata": {},
   "outputs": [
    {
     "data": {
      "text/plain": [
       "{'summary': 'Lunch',\n",
       " 'start': '2024-08-14T13:00:00',\n",
       " 'end': '2024-08-14T14:00:00'}"
      ]
     },
     "execution_count": 19,
     "metadata": {},
     "output_type": "execute_result"
    }
   ],
   "source": [
    "response.content[1].input"
   ]
  },
  {
   "cell_type": "code",
   "execution_count": 20,
   "metadata": {},
   "outputs": [
    {
     "name": "stdout",
     "output_type": "stream",
     "text": [
      "Event created: %s https://www.google.com/calendar/event?eid=YW92NTZtMzdyYmI2cnJkcDFncTFkNW4ycmsgbmV2ZXJsaXNoQG0\n"
     ]
    },
    {
     "data": {
      "text/plain": [
       "{'kind': 'calendar#event',\n",
       " 'etag': '\"3482549379738718\"',\n",
       " 'id': 'aov56m37rbb6rrdp1gq1d5n2rk',\n",
       " 'status': 'confirmed',\n",
       " 'htmlLink': 'https://www.google.com/calendar/event?eid=YW92NTZtMzdyYmI2cnJkcDFncTFkNW4ycmsgbmV2ZXJsaXNoQG0',\n",
       " 'created': '2025-03-06T15:24:49.000Z',\n",
       " 'updated': '2025-03-06T15:24:49.869Z',\n",
       " 'summary': 'Lunch',\n",
       " 'creator': {'email': 'neverlish@gmail.com', 'self': True},\n",
       " 'organizer': {'email': 'neverlish@gmail.com', 'self': True},\n",
       " 'start': {'dateTime': '2024-08-14T13:00:00+09:00', 'timeZone': 'Asia/Seoul'},\n",
       " 'end': {'dateTime': '2024-08-14T14:00:00+09:00', 'timeZone': 'Asia/Seoul'},\n",
       " 'iCalUID': 'aov56m37rbb6rrdp1gq1d5n2rk@google.com',\n",
       " 'sequence': 0,\n",
       " 'reminders': {'useDefault': True},\n",
       " 'eventType': 'default'}"
      ]
     },
     "execution_count": 20,
     "metadata": {},
     "output_type": "execute_result"
    }
   ],
   "source": [
    "summary = response.content[1].input['summary']\n",
    "start = response.content[1].input['start']\n",
    "end = response.content[1].input['end']\n",
    "create_event(summary, start, end)"
   ]
  },
  {
   "cell_type": "markdown",
   "metadata": {},
   "source": [
    "# End-to-End Function Call Workflow"
   ]
  },
  {
   "cell_type": "markdown",
   "metadata": {},
   "source": [
    "1. Function 준비 (또는 작성)\n",
    "2. Tools 정의\n",
    "3. LLM API 호출\n",
    "4. (필요 시) Function 실행 - 일반 발화가 필요한 경우 실행 필요 X\n",
    "5. LLM API 최종 호출"
   ]
  },
  {
   "cell_type": "code",
   "execution_count": null,
   "metadata": {},
   "outputs": [],
   "source": []
  }
 ],
 "metadata": {
  "kernelspec": {
   "display_name": ".venv",
   "language": "python",
   "name": "python3"
  },
  "language_info": {
   "codemirror_mode": {
    "name": "ipython",
    "version": 3
   },
   "file_extension": ".py",
   "mimetype": "text/x-python",
   "name": "python",
   "nbconvert_exporter": "python",
   "pygments_lexer": "ipython3",
   "version": "3.11.6"
  }
 },
 "nbformat": 4,
 "nbformat_minor": 2
}
