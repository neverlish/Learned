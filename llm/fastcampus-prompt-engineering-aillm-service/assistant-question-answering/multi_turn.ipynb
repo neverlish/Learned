{
 "cells": [
  {
   "cell_type": "code",
   "execution_count": 1,
   "metadata": {},
   "outputs": [],
   "source": [
    "import anthropic\n",
    "\n",
    "client = anthropic.Anthropic()"
   ]
  },
  {
   "cell_type": "code",
   "execution_count": 5,
   "metadata": {},
   "outputs": [],
   "source": [
    "import os\n",
    "\n",
    "from google.oauth2.credentials import Credentials\n",
    "from google_auth_oauthlib.flow import InstalledAppFlow\n",
    "from googleapiclient.discovery import build\n",
    "\n",
    "SCOPES = ['https://www.googleapis.com/auth/calendar']\n",
    "\n",
    "if os.path.exists('./res/token.json'):\n",
    "    creds = Credentials.from_authorized_user_file('./res/token.json', SCOPES)\n",
    "else:\n",
    "    flow = InstalledAppFlow.from_client_secrets_file(\n",
    "        './res/credentials.json',\n",
    "        SCOPES\n",
    "    )\n",
    "\n",
    "    creds = flow.run_local_server(port=0)\n",
    "\n",
    "    with open('./res/token.json', 'w') as token:\n",
    "        token.write(creds.to_json())\n",
    "\n",
    "service = build('calendar', 'v3', credentials=creds)\n"
   ]
  },
  {
   "cell_type": "code",
   "execution_count": 2,
   "metadata": {},
   "outputs": [],
   "source": [
    "messages = []\n"
   ]
  },
  {
   "cell_type": "code",
   "execution_count": 6,
   "metadata": {},
   "outputs": [],
   "source": [
    "PROMPT = \"2024년 8월 14일 12시부터 1시간 짜리 점심 일정을 생성해주세요.\"\n",
    "\n",
    "def create_event(summary, start, end):\n",
    "  event = {\n",
    "    \"summary\": summary,\n",
    "    \"start\": {\n",
    "      \"dateTime\": start,\n",
    "      \"timeZone\": \"Asia/Seoul\"\n",
    "    },\n",
    "    \"end\": {\n",
    "      \"dateTime\": end,\n",
    "      \"timeZone\": \"Asia/Seoul\"\n",
    "    }\n",
    "  }\n",
    "\n",
    "  event = service.events().insert(calendarId='primary', body=event).execute()\n",
    "  print(f\"Event created: %s\", (event.get('htmlLink')))\n",
    "  return event"
   ]
  },
  {
   "cell_type": "code",
   "execution_count": 7,
   "metadata": {},
   "outputs": [],
   "source": [
    "tools = [\n",
    "  {\n",
    "    \"name\": \"create_event\",\n",
    "    \"description\": \"Create new Google Calendar event\",\n",
    "    \"input_schema\": {\n",
    "      \"type\": \"object\",\n",
    "      \"properties\": {\n",
    "        \"summary\": {\n",
    "          \"type\": \"string\",\n",
    "          \"description\": \"Name of Google Calendar event\"\n",
    "        },\n",
    "        \"start\": {\n",
    "          \"type\": \"string\",\n",
    "          \"description\": \"Start date of Google Calendar Event in UTC+9 Time i.e. 2024-08-14T09:00:00\"\n",
    "        },\n",
    "        \"end\": {\n",
    "          \"type\": \"string\",\n",
    "          \"description\": \"End date of Google Calendar Event in UTC+9 Time i.e. 2024-08-14T18:00:00\"\n",
    "        },\n",
    "               \n",
    "      },\n",
    "      \"required\": [\"summary\"]\n",
    "    }\n",
    "  }\n",
    "]"
   ]
  },
  {
   "cell_type": "code",
   "execution_count": 9,
   "metadata": {},
   "outputs": [],
   "source": [
    "response = client.messages.create(\n",
    "  model=\"claude-3-5-sonnet-20240620\",\n",
    "  max_tokens=1024,\n",
    "  tools=tools,\n",
    "  messages=[{'role': 'user', 'content': PROMPT}],\n",
    ")"
   ]
  },
  {
   "cell_type": "code",
   "execution_count": 10,
   "metadata": {},
   "outputs": [],
   "source": [
    "messages.append({\"role\": \"user\", \"content\": PROMPT})"
   ]
  },
  {
   "cell_type": "code",
   "execution_count": 11,
   "metadata": {},
   "outputs": [
    {
     "name": "stdout",
     "output_type": "stream",
     "text": [
      "Event created: %s https://www.google.com/calendar/event?eid=aWU3ZjBpY3Z2bGk5bnJzYWdpOG1xN2dlZGMgbmV2ZXJsaXNoQG0\n"
     ]
    }
   ],
   "source": [
    "summary = response.content[1].input['summary']\n",
    "start = response.content[1].input['start']\n",
    "end = response.content[1].input['end']\n",
    "event = create_event(summary, start, end)"
   ]
  },
  {
   "cell_type": "code",
   "execution_count": 12,
   "metadata": {},
   "outputs": [],
   "source": [
    "response = client.messages.create(\n",
    "  model=\"claude-3-5-sonnet-20240620\",\n",
    "  max_tokens=1024,\n",
    "  tools=tools,\n",
    "  messages=[\n",
    "    {\n",
    "      \"role\": \"user\",\n",
    "      \"content\": PROMPT,\n",
    "    },\n",
    "    {\n",
    "      \"role\": \"assistant\",\n",
    "      \"content\": [\n",
    "        {\n",
    "          \"type\": \"text\",\n",
    "          \"text\": PROMPT, \n",
    "        },\n",
    "        {\n",
    "          \"type\": \"tool_use\",\n",
    "          \"id\": response.content[1].id,\n",
    "          \"name\": \"create_event\",\n",
    "          \"input\": {\n",
    "            \"summary\": summary,\n",
    "            \"start\": start,\n",
    "            \"end\": end,\n",
    "          }\n",
    "        }\n",
    "      ],\n",
    "    },\n",
    "    {\n",
    "      \"role\": \"user\",\n",
    "      \"content\": [\n",
    "        {\n",
    "          \"type\": \"tool_result\",\n",
    "          \"tool_use_id\": response.content[1].id,\n",
    "          \"content\": f\"Event created: {event.get('htmlLink')}\",\n",
    "        }\n",
    "      ],\n",
    "    },\n",
    "  ],\n",
    ")\n",
    "messages.append({\"role\": \"assistant\", \"content\": response.content[0].text})\n",
    "\n"
   ]
  },
  {
   "cell_type": "code",
   "execution_count": 13,
   "metadata": {},
   "outputs": [
    {
     "name": "stdout",
     "output_type": "stream",
     "text": [
      "점심 일정이 성공적으로 생성되었습니다. 2024년 8월 14일 오후 12시부터 1시간 동안 \"점심 식사\" 일정이 Google 캘린더에 추가되었습니다. 일정 링크는 다음과 같습니다: https://www.google.com/calendar/event?eid=aWU3ZjBpY3Z2bGk5bnJzYWdpOG1xN2dlZGMgbmV2ZXJsaXNoQG0\n",
      "\n",
      "이 일정을 통해 점심 시간을 효율적으로 관리하실 수 있을 것입니다. 다른 도움이 필요하신가요?\n"
     ]
    }
   ],
   "source": [
    "print(response.content[0].text)"
   ]
  },
  {
   "cell_type": "code",
   "execution_count": 15,
   "metadata": {},
   "outputs": [
    {
     "name": "stdout",
     "output_type": "stream",
     "text": [
      "죄송합니다만, 이전 대화 내용을 볼 수 없어서 귀하께서 어떤 요청을 하셨는지 알 수 없습니다. 저는 각각의 대화를 독립적으로 처리하기 때문에 이전 대화 내용을 기억하지 못합니다. 혹시 이전 요청에 대해 더 자세히 말씀해 주시면 도움을 드릴 수 있을 것 같습니다.\n"
     ]
    }
   ],
   "source": [
    "new_message = \"제가 이전에 어떤 요청을 드렸나요?\"\n",
    "\n",
    "response = client.messages.create(\n",
    "  model=\"claude-3-5-sonnet-20240620\",\n",
    "  max_tokens=1024,\n",
    "  messages=[\n",
    "    {\n",
    "      \"role\": \"user\",\n",
    "      \"content\": new_message,\n",
    "    },\n",
    "  ],\n",
    ")\n",
    "\n",
    "print(response.content[0].text)\n",
    "\n"
   ]
  },
  {
   "cell_type": "code",
   "execution_count": 16,
   "metadata": {},
   "outputs": [
    {
     "name": "stdout",
     "output_type": "stream",
     "text": [
      "귀하의 가장 최근 요청은 \"2024년 8월 14일 12시부터 1시간 짜리 점심 일정을 생성해주세요.\"였습니다.\n"
     ]
    }
   ],
   "source": [
    "new_message = \"저의 가장 최근 요청은 어떤 내용이었나요?\"\n",
    "\n",
    "messages.append({\"role\": \"user\", \"content\": new_message})\n",
    "\n",
    "response = client.messages.create(\n",
    "  model=\"claude-3-5-sonnet-20240620\",\n",
    "  max_tokens=1024,\n",
    "  messages=messages,\n",
    ")\n",
    "\n",
    "print(response.content[0].text)\n",
    "\n"
   ]
  },
  {
   "cell_type": "code",
   "execution_count": null,
   "metadata": {},
   "outputs": [],
   "source": []
  },
  {
   "cell_type": "code",
   "execution_count": null,
   "metadata": {},
   "outputs": [],
   "source": []
  },
  {
   "cell_type": "code",
   "execution_count": null,
   "metadata": {},
   "outputs": [],
   "source": []
  }
 ],
 "metadata": {
  "kernelspec": {
   "display_name": ".venv",
   "language": "python",
   "name": "python3"
  },
  "language_info": {
   "codemirror_mode": {
    "name": "ipython",
    "version": 3
   },
   "file_extension": ".py",
   "mimetype": "text/x-python",
   "name": "python",
   "nbconvert_exporter": "python",
   "pygments_lexer": "ipython3",
   "version": "3.11.6"
  }
 },
 "nbformat": 4,
 "nbformat_minor": 2
}
