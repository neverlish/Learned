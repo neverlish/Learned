{
 "cells": [
  {
   "cell_type": "code",
   "execution_count": 1,
   "metadata": {},
   "outputs": [
    {
     "name": "stdout",
     "output_type": "stream",
     "text": [
      "Please visit this URL to authorize this application: https://accounts.google.com/o/oauth2/auth?response_type=code&client_id=428393026926-b24qj072plhojo9kkiqbsci5cb9jvc29.apps.googleusercontent.com&redirect_uri=http%3A%2F%2Flocalhost%3A57010%2F&scope=https%3A%2F%2Fwww.googleapis.com%2Fauth%2Fcalendar&state=5oiYbzJV9qoFQXGltKh7tpUDx2plgg&access_type=offline\n"
     ]
    }
   ],
   "source": [
    "import os\n",
    "\n",
    "from google.oauth2.credentials import Credentials\n",
    "from google_auth_oauthlib.flow import InstalledAppFlow\n",
    "from googleapiclient.discovery import build\n",
    "\n",
    "SCOPES = ['https://www.googleapis.com/auth/calendar']\n",
    "\n",
    "if os.path.exists('./res/token.json'):\n",
    "    creds = Credentials.from_authorized_user_file('./res/token.json', SCOPES)\n",
    "else:\n",
    "    flow = InstalledAppFlow.from_client_secrets_file(\n",
    "        './res/credentials.json',\n",
    "        SCOPES\n",
    "    )\n",
    "\n",
    "    creds = flow.run_local_server(port=0)\n",
    "\n",
    "    with open('./res/token.json', 'w') as token:\n",
    "        token.write(creds.to_json())\n",
    "\n",
    "service = build('calendar', 'v3', credentials=creds)\n",
    "\n",
    "\n"
   ]
  },
  {
   "cell_type": "markdown",
   "metadata": {},
   "source": [
    "# 캘린더 일정 생성"
   ]
  },
  {
   "cell_type": "code",
   "execution_count": 8,
   "metadata": {},
   "outputs": [
    {
     "name": "stdout",
     "output_type": "stream",
     "text": [
      "Event created: https://www.google.com/calendar/event?eid=MmVhZmk4MWFvZnIwNzVzZHV2cDB1YTdjN2MgbmV2ZXJsaXNoQG0\n"
     ]
    }
   ],
   "source": [
    "event = {\n",
    "  \"summary\": \"패스트캠퍼스 LLM 강의\",\n",
    "  \"location\": \"서울 강남구 테헤란로 231 West동 6층, 7층\",\n",
    "  \"start\": {\n",
    "    \"dateTime\": \"2024-08-14T09:00:00\",\n",
    "    \"timeZone\": \"Asia/Seoul\"\n",
    "  },\n",
    "  \"end\": {\n",
    "    \"dateTime\": \"2024-08-14T18:00:00\",\n",
    "    \"timeZone\": \"Asia/Seoul\"\n",
    "  },\n",
    "}\n",
    "\n",
    "event = service.events().insert(calendarId='primary', body=event).execute()\n",
    "print('Event created: %s' % (event.get('htmlLink')))"
   ]
  },
  {
   "cell_type": "markdown",
   "metadata": {},
   "source": [
    "# 캘린더 일정 조회"
   ]
  },
  {
   "cell_type": "code",
   "execution_count": 6,
   "metadata": {},
   "outputs": [],
   "source": [
    "calendar_id = 'primary'\n",
    "time_min = '2024-08-14T00:00:00+09:00'\n",
    "time_max = '2024-08-14T23:59:59+09:00'\n",
    "max_results = 5\n",
    "is_single_events = True\n",
    "orderBy = 'startTime'\n",
    "\n",
    "events_result = service.events().list(calendarId=calendar_id,\n",
    "                                      timeMin=time_min,\n",
    "                                      timeMax=time_max,\n",
    "                                      maxResults=max_results,\n",
    "                                      singleEvents=is_single_events,\n",
    "                                      orderBy=orderBy).execute()\n"
   ]
  },
  {
   "cell_type": "markdown",
   "metadata": {},
   "source": [
    "# 캘린더 일정 삭제"
   ]
  },
  {
   "cell_type": "code",
   "execution_count": 9,
   "metadata": {},
   "outputs": [
    {
     "name": "stdout",
     "output_type": "stream",
     "text": [
      "Event deleted\n"
     ]
    }
   ],
   "source": [
    "event = service.events().delete(calendarId='primary', eventId=event['id']).execute()\n",
    "print('Event deleted')"
   ]
  },
  {
   "cell_type": "code",
   "execution_count": null,
   "metadata": {},
   "outputs": [],
   "source": []
  },
  {
   "cell_type": "code",
   "execution_count": null,
   "metadata": {},
   "outputs": [],
   "source": []
  },
  {
   "cell_type": "code",
   "execution_count": null,
   "metadata": {},
   "outputs": [],
   "source": []
  }
 ],
 "metadata": {
  "kernelspec": {
   "display_name": ".venv",
   "language": "python",
   "name": "python3"
  },
  "language_info": {
   "codemirror_mode": {
    "name": "ipython",
    "version": 3
   },
   "file_extension": ".py",
   "mimetype": "text/x-python",
   "name": "python",
   "nbconvert_exporter": "python",
   "pygments_lexer": "ipython3",
   "version": "3.11.6"
  }
 },
 "nbformat": 4,
 "nbformat_minor": 2
}
