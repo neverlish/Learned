{
 "cells": [
  {
   "cell_type": "markdown",
   "metadata": {
    "id": "QIw0W9N3ZWQD"
   },
   "source": [
    "# Query Rewrite\n",
    "- 질문 복잡성이 높을 때\n",
    "- 앞단에 라우터 걸어서 복잡성 높은 쿼리에 대한 셀렉터 모듈로 활용될 수 있는 구조"
   ]
  },
  {
   "cell_type": "code",
   "execution_count": 1,
   "metadata": {
    "colab": {
     "base_uri": "https://localhost:8080/"
    },
    "executionInfo": {
     "elapsed": 30277,
     "status": "ok",
     "timestamp": 1722523588784,
     "user": {
      "displayName": "한두솔",
      "userId": "14744311692633150263"
     },
     "user_tz": -540
    },
    "id": "mcN4vCTzZrdo",
    "outputId": "d2c1aa4f-4630-4748-fdd7-3255370f0812"
   },
   "outputs": [
    {
     "name": "stdout",
     "output_type": "stream",
     "text": [
      "Collecting llama_index\n",
      "  Downloading llama_index-0.10.59-py3-none-any.whl.metadata (11 kB)\n",
      "Collecting openai\n",
      "  Downloading openai-1.37.1-py3-none-any.whl.metadata (22 kB)\n",
      "Collecting datasets\n",
      "  Downloading datasets-2.20.0-py3-none-any.whl.metadata (19 kB)\n",
      "Collecting llama-index-agent-openai<0.3.0,>=0.1.4 (from llama_index)\n",
      "  Downloading llama_index_agent_openai-0.2.9-py3-none-any.whl.metadata (729 bytes)\n",
      "Collecting llama-index-cli<0.2.0,>=0.1.2 (from llama_index)\n",
      "  Downloading llama_index_cli-0.1.13-py3-none-any.whl.metadata (1.5 kB)\n",
      "Collecting llama-index-core==0.10.59 (from llama_index)\n",
      "  Downloading llama_index_core-0.10.59-py3-none-any.whl.metadata (2.4 kB)\n",
      "Collecting llama-index-embeddings-openai<0.2.0,>=0.1.5 (from llama_index)\n",
      "  Downloading llama_index_embeddings_openai-0.1.11-py3-none-any.whl.metadata (655 bytes)\n",
      "Collecting llama-index-indices-managed-llama-cloud>=0.2.0 (from llama_index)\n",
      "  Downloading llama_index_indices_managed_llama_cloud-0.2.7-py3-none-any.whl.metadata (3.8 kB)\n",
      "Collecting llama-index-legacy<0.10.0,>=0.9.48 (from llama_index)\n",
      "  Downloading llama_index_legacy-0.9.48-py3-none-any.whl.metadata (8.5 kB)\n",
      "Collecting llama-index-llms-openai<0.2.0,>=0.1.27 (from llama_index)\n",
      "  Downloading llama_index_llms_openai-0.1.27-py3-none-any.whl.metadata (610 bytes)\n",
      "Collecting llama-index-multi-modal-llms-openai<0.2.0,>=0.1.3 (from llama_index)\n",
      "  Downloading llama_index_multi_modal_llms_openai-0.1.8-py3-none-any.whl.metadata (728 bytes)\n",
      "Collecting llama-index-program-openai<0.2.0,>=0.1.3 (from llama_index)\n",
      "  Downloading llama_index_program_openai-0.1.7-py3-none-any.whl.metadata (760 bytes)\n",
      "Collecting llama-index-question-gen-openai<0.2.0,>=0.1.2 (from llama_index)\n",
      "  Downloading llama_index_question_gen_openai-0.1.3-py3-none-any.whl.metadata (785 bytes)\n",
      "Collecting llama-index-readers-file<0.2.0,>=0.1.4 (from llama_index)\n",
      "  Downloading llama_index_readers_file-0.1.32-py3-none-any.whl.metadata (5.4 kB)\n",
      "Collecting llama-index-readers-llama-parse>=0.1.2 (from llama_index)\n",
      "  Downloading llama_index_readers_llama_parse-0.1.6-py3-none-any.whl.metadata (3.6 kB)\n",
      "Requirement already satisfied: PyYAML>=6.0.1 in /usr/local/lib/python3.10/dist-packages (from llama-index-core==0.10.59->llama_index) (6.0.1)\n",
      "Requirement already satisfied: SQLAlchemy>=1.4.49 in /usr/local/lib/python3.10/dist-packages (from SQLAlchemy[asyncio]>=1.4.49->llama-index-core==0.10.59->llama_index) (2.0.31)\n",
      "Requirement already satisfied: aiohttp<4.0.0,>=3.8.6 in /usr/local/lib/python3.10/dist-packages (from llama-index-core==0.10.59->llama_index) (3.9.5)\n",
      "Collecting dataclasses-json (from llama-index-core==0.10.59->llama_index)\n",
      "  Downloading dataclasses_json-0.6.7-py3-none-any.whl.metadata (25 kB)\n",
      "Collecting deprecated>=1.2.9.3 (from llama-index-core==0.10.59->llama_index)\n",
      "  Downloading Deprecated-1.2.14-py2.py3-none-any.whl.metadata (5.4 kB)\n",
      "Collecting dirtyjson<2.0.0,>=1.0.8 (from llama-index-core==0.10.59->llama_index)\n",
      "  Downloading dirtyjson-1.0.8-py3-none-any.whl.metadata (11 kB)\n",
      "Requirement already satisfied: fsspec>=2023.5.0 in /usr/local/lib/python3.10/dist-packages (from llama-index-core==0.10.59->llama_index) (2024.6.1)\n",
      "Collecting httpx (from llama-index-core==0.10.59->llama_index)\n",
      "  Downloading httpx-0.27.0-py3-none-any.whl.metadata (7.2 kB)\n",
      "Requirement already satisfied: nest-asyncio<2.0.0,>=1.5.8 in /usr/local/lib/python3.10/dist-packages (from llama-index-core==0.10.59->llama_index) (1.6.0)\n",
      "Requirement already satisfied: networkx>=3.0 in /usr/local/lib/python3.10/dist-packages (from llama-index-core==0.10.59->llama_index) (3.3)\n",
      "Requirement already satisfied: nltk<4.0.0,>=3.8.1 in /usr/local/lib/python3.10/dist-packages (from llama-index-core==0.10.59->llama_index) (3.8.1)\n",
      "Requirement already satisfied: numpy<2.0.0 in /usr/local/lib/python3.10/dist-packages (from llama-index-core==0.10.59->llama_index) (1.26.4)\n",
      "Requirement already satisfied: pandas in /usr/local/lib/python3.10/dist-packages (from llama-index-core==0.10.59->llama_index) (2.1.4)\n",
      "Requirement already satisfied: pillow>=9.0.0 in /usr/local/lib/python3.10/dist-packages (from llama-index-core==0.10.59->llama_index) (9.4.0)\n",
      "Requirement already satisfied: requests>=2.31.0 in /usr/local/lib/python3.10/dist-packages (from llama-index-core==0.10.59->llama_index) (2.31.0)\n",
      "Collecting tenacity!=8.4.0,<9.0.0,>=8.2.0 (from llama-index-core==0.10.59->llama_index)\n",
      "  Downloading tenacity-8.5.0-py3-none-any.whl.metadata (1.2 kB)\n",
      "Collecting tiktoken>=0.3.3 (from llama-index-core==0.10.59->llama_index)\n",
      "  Downloading tiktoken-0.7.0-cp310-cp310-manylinux_2_17_x86_64.manylinux2014_x86_64.whl.metadata (6.6 kB)\n",
      "Requirement already satisfied: tqdm<5.0.0,>=4.66.1 in /usr/local/lib/python3.10/dist-packages (from llama-index-core==0.10.59->llama_index) (4.66.4)\n",
      "Requirement already satisfied: typing-extensions>=4.5.0 in /usr/local/lib/python3.10/dist-packages (from llama-index-core==0.10.59->llama_index) (4.12.2)\n",
      "Collecting typing-inspect>=0.8.0 (from llama-index-core==0.10.59->llama_index)\n",
      "  Downloading typing_inspect-0.9.0-py3-none-any.whl.metadata (1.5 kB)\n",
      "Requirement already satisfied: wrapt in /usr/local/lib/python3.10/dist-packages (from llama-index-core==0.10.59->llama_index) (1.16.0)\n",
      "Requirement already satisfied: anyio<5,>=3.5.0 in /usr/local/lib/python3.10/dist-packages (from openai) (3.7.1)\n",
      "Requirement already satisfied: distro<2,>=1.7.0 in /usr/lib/python3/dist-packages (from openai) (1.7.0)\n",
      "Requirement already satisfied: pydantic<3,>=1.9.0 in /usr/local/lib/python3.10/dist-packages (from openai) (2.8.2)\n",
      "Requirement already satisfied: sniffio in /usr/local/lib/python3.10/dist-packages (from openai) (1.3.1)\n",
      "Requirement already satisfied: filelock in /usr/local/lib/python3.10/dist-packages (from datasets) (3.15.4)\n",
      "Collecting pyarrow>=15.0.0 (from datasets)\n",
      "  Downloading pyarrow-17.0.0-cp310-cp310-manylinux_2_28_x86_64.whl.metadata (3.3 kB)\n",
      "Requirement already satisfied: pyarrow-hotfix in /usr/local/lib/python3.10/dist-packages (from datasets) (0.6)\n",
      "Collecting dill<0.3.9,>=0.3.0 (from datasets)\n",
      "  Downloading dill-0.3.8-py3-none-any.whl.metadata (10 kB)\n",
      "Collecting requests>=2.31.0 (from llama-index-core==0.10.59->llama_index)\n",
      "  Downloading requests-2.32.3-py3-none-any.whl.metadata (4.6 kB)\n",
      "Collecting xxhash (from datasets)\n",
      "  Downloading xxhash-3.4.1-cp310-cp310-manylinux_2_17_x86_64.manylinux2014_x86_64.whl.metadata (12 kB)\n",
      "Collecting multiprocess (from datasets)\n",
      "  Downloading multiprocess-0.70.16-py310-none-any.whl.metadata (7.2 kB)\n",
      "Collecting fsspec>=2023.5.0 (from llama-index-core==0.10.59->llama_index)\n",
      "  Downloading fsspec-2024.5.0-py3-none-any.whl.metadata (11 kB)\n",
      "Requirement already satisfied: huggingface-hub>=0.21.2 in /usr/local/lib/python3.10/dist-packages (from datasets) (0.23.5)\n",
      "Requirement already satisfied: packaging in /usr/local/lib/python3.10/dist-packages (from datasets) (24.1)\n",
      "Requirement already satisfied: aiosignal>=1.1.2 in /usr/local/lib/python3.10/dist-packages (from aiohttp<4.0.0,>=3.8.6->llama-index-core==0.10.59->llama_index) (1.3.1)\n",
      "Requirement already satisfied: attrs>=17.3.0 in /usr/local/lib/python3.10/dist-packages (from aiohttp<4.0.0,>=3.8.6->llama-index-core==0.10.59->llama_index) (23.2.0)\n",
      "Requirement already satisfied: frozenlist>=1.1.1 in /usr/local/lib/python3.10/dist-packages (from aiohttp<4.0.0,>=3.8.6->llama-index-core==0.10.59->llama_index) (1.4.1)\n",
      "Requirement already satisfied: multidict<7.0,>=4.5 in /usr/local/lib/python3.10/dist-packages (from aiohttp<4.0.0,>=3.8.6->llama-index-core==0.10.59->llama_index) (6.0.5)\n",
      "Requirement already satisfied: yarl<2.0,>=1.0 in /usr/local/lib/python3.10/dist-packages (from aiohttp<4.0.0,>=3.8.6->llama-index-core==0.10.59->llama_index) (1.9.4)\n",
      "Requirement already satisfied: async-timeout<5.0,>=4.0 in /usr/local/lib/python3.10/dist-packages (from aiohttp<4.0.0,>=3.8.6->llama-index-core==0.10.59->llama_index) (4.0.3)\n",
      "Requirement already satisfied: idna>=2.8 in /usr/local/lib/python3.10/dist-packages (from anyio<5,>=3.5.0->openai) (3.7)\n",
      "Requirement already satisfied: exceptiongroup in /usr/local/lib/python3.10/dist-packages (from anyio<5,>=3.5.0->openai) (1.2.2)\n",
      "Requirement already satisfied: certifi in /usr/local/lib/python3.10/dist-packages (from httpx->llama-index-core==0.10.59->llama_index) (2024.7.4)\n",
      "Collecting httpcore==1.* (from httpx->llama-index-core==0.10.59->llama_index)\n",
      "  Downloading httpcore-1.0.5-py3-none-any.whl.metadata (20 kB)\n",
      "Collecting h11<0.15,>=0.13 (from httpcore==1.*->httpx->llama-index-core==0.10.59->llama_index)\n",
      "  Downloading h11-0.14.0-py3-none-any.whl.metadata (8.2 kB)\n",
      "Collecting llama-cloud>=0.0.11 (from llama-index-indices-managed-llama-cloud>=0.2.0->llama_index)\n",
      "  Downloading llama_cloud-0.0.11-py3-none-any.whl.metadata (751 bytes)\n",
      "Requirement already satisfied: beautifulsoup4<5.0.0,>=4.12.3 in /usr/local/lib/python3.10/dist-packages (from llama-index-readers-file<0.2.0,>=0.1.4->llama_index) (4.12.3)\n",
      "Collecting pypdf<5.0.0,>=4.0.1 (from llama-index-readers-file<0.2.0,>=0.1.4->llama_index)\n",
      "  Downloading pypdf-4.3.1-py3-none-any.whl.metadata (7.4 kB)\n",
      "Collecting striprtf<0.0.27,>=0.0.26 (from llama-index-readers-file<0.2.0,>=0.1.4->llama_index)\n",
      "  Downloading striprtf-0.0.26-py3-none-any.whl.metadata (2.1 kB)\n",
      "Collecting llama-parse>=0.4.0 (from llama-index-readers-llama-parse>=0.1.2->llama_index)\n",
      "  Downloading llama_parse-0.4.9-py3-none-any.whl.metadata (4.4 kB)\n",
      "Requirement already satisfied: annotated-types>=0.4.0 in /usr/local/lib/python3.10/dist-packages (from pydantic<3,>=1.9.0->openai) (0.7.0)\n",
      "Requirement already satisfied: pydantic-core==2.20.1 in /usr/local/lib/python3.10/dist-packages (from pydantic<3,>=1.9.0->openai) (2.20.1)\n",
      "Requirement already satisfied: charset-normalizer<4,>=2 in /usr/local/lib/python3.10/dist-packages (from requests>=2.31.0->llama-index-core==0.10.59->llama_index) (3.3.2)\n",
      "Requirement already satisfied: urllib3<3,>=1.21.1 in /usr/local/lib/python3.10/dist-packages (from requests>=2.31.0->llama-index-core==0.10.59->llama_index) (2.0.7)\n",
      "Requirement already satisfied: python-dateutil>=2.8.2 in /usr/local/lib/python3.10/dist-packages (from pandas->llama-index-core==0.10.59->llama_index) (2.8.2)\n",
      "Requirement already satisfied: pytz>=2020.1 in /usr/local/lib/python3.10/dist-packages (from pandas->llama-index-core==0.10.59->llama_index) (2024.1)\n",
      "Requirement already satisfied: tzdata>=2022.1 in /usr/local/lib/python3.10/dist-packages (from pandas->llama-index-core==0.10.59->llama_index) (2024.1)\n",
      "Requirement already satisfied: soupsieve>1.2 in /usr/local/lib/python3.10/dist-packages (from beautifulsoup4<5.0.0,>=4.12.3->llama-index-readers-file<0.2.0,>=0.1.4->llama_index) (2.5)\n",
      "Requirement already satisfied: click in /usr/local/lib/python3.10/dist-packages (from nltk<4.0.0,>=3.8.1->llama-index-core==0.10.59->llama_index) (8.1.7)\n",
      "Requirement already satisfied: joblib in /usr/local/lib/python3.10/dist-packages (from nltk<4.0.0,>=3.8.1->llama-index-core==0.10.59->llama_index) (1.4.2)\n",
      "Requirement already satisfied: regex>=2021.8.3 in /usr/local/lib/python3.10/dist-packages (from nltk<4.0.0,>=3.8.1->llama-index-core==0.10.59->llama_index) (2024.5.15)\n",
      "Requirement already satisfied: six>=1.5 in /usr/local/lib/python3.10/dist-packages (from python-dateutil>=2.8.2->pandas->llama-index-core==0.10.59->llama_index) (1.16.0)\n",
      "Requirement already satisfied: greenlet!=0.4.17 in /usr/local/lib/python3.10/dist-packages (from SQLAlchemy>=1.4.49->SQLAlchemy[asyncio]>=1.4.49->llama-index-core==0.10.59->llama_index) (3.0.3)\n",
      "Collecting mypy-extensions>=0.3.0 (from typing-inspect>=0.8.0->llama-index-core==0.10.59->llama_index)\n",
      "  Downloading mypy_extensions-1.0.0-py3-none-any.whl.metadata (1.1 kB)\n",
      "Collecting marshmallow<4.0.0,>=3.18.0 (from dataclasses-json->llama-index-core==0.10.59->llama_index)\n",
      "  Downloading marshmallow-3.21.3-py3-none-any.whl.metadata (7.1 kB)\n",
      "Downloading llama_index-0.10.59-py3-none-any.whl (6.8 kB)\n",
      "Downloading llama_index_core-0.10.59-py3-none-any.whl (15.5 MB)\n",
      "\u001b[2K   \u001b[90m━━━━━━━━━━━━━━━━━━━━━━━━━━━━━━━━━━━━━━━━\u001b[0m \u001b[32m15.5/15.5 MB\u001b[0m \u001b[31m45.9 MB/s\u001b[0m eta \u001b[36m0:00:00\u001b[0m\n",
      "\u001b[?25hDownloading openai-1.37.1-py3-none-any.whl (337 kB)\n",
      "\u001b[2K   \u001b[90m━━━━━━━━━━━━━━━━━━━━━━━━━━━━━━━━━━━━━━━━\u001b[0m \u001b[32m337.0/337.0 kB\u001b[0m \u001b[31m16.6 MB/s\u001b[0m eta \u001b[36m0:00:00\u001b[0m\n",
      "\u001b[?25hDownloading datasets-2.20.0-py3-none-any.whl (547 kB)\n",
      "\u001b[2K   \u001b[90m━━━━━━━━━━━━━━━━━━━━━━━━━━━━━━━━━━━━━━━━\u001b[0m \u001b[32m547.8/547.8 kB\u001b[0m \u001b[31m19.4 MB/s\u001b[0m eta \u001b[36m0:00:00\u001b[0m\n",
      "\u001b[?25hDownloading dill-0.3.8-py3-none-any.whl (116 kB)\n",
      "\u001b[2K   \u001b[90m━━━━━━━━━━━━━━━━━━━━━━━━━━━━━━━━━━━━━━━━\u001b[0m \u001b[32m116.3/116.3 kB\u001b[0m \u001b[31m6.9 MB/s\u001b[0m eta \u001b[36m0:00:00\u001b[0m\n",
      "\u001b[?25hDownloading fsspec-2024.5.0-py3-none-any.whl (316 kB)\n",
      "\u001b[2K   \u001b[90m━━━━━━━━━━━━━━━━━━━━━━━━━━━━━━━━━━━━━━━━\u001b[0m \u001b[32m316.1/316.1 kB\u001b[0m \u001b[31m16.9 MB/s\u001b[0m eta \u001b[36m0:00:00\u001b[0m\n",
      "\u001b[?25hDownloading httpx-0.27.0-py3-none-any.whl (75 kB)\n",
      "\u001b[2K   \u001b[90m━━━━━━━━━━━━━━━━━━━━━━━━━━━━━━━━━━━━━━━━\u001b[0m \u001b[32m75.6/75.6 kB\u001b[0m \u001b[31m4.8 MB/s\u001b[0m eta \u001b[36m0:00:00\u001b[0m\n",
      "\u001b[?25hDownloading httpcore-1.0.5-py3-none-any.whl (77 kB)\n",
      "\u001b[2K   \u001b[90m━━━━━━━━━━━━━━━━━━━━━━━━━━━━━━━━━━━━━━━━\u001b[0m \u001b[32m77.9/77.9 kB\u001b[0m \u001b[31m5.1 MB/s\u001b[0m eta \u001b[36m0:00:00\u001b[0m\n",
      "\u001b[?25hDownloading llama_index_agent_openai-0.2.9-py3-none-any.whl (13 kB)\n",
      "Downloading llama_index_cli-0.1.13-py3-none-any.whl (27 kB)\n",
      "Downloading llama_index_embeddings_openai-0.1.11-py3-none-any.whl (6.3 kB)\n",
      "Downloading llama_index_indices_managed_llama_cloud-0.2.7-py3-none-any.whl (9.5 kB)\n",
      "Downloading llama_index_legacy-0.9.48-py3-none-any.whl (2.0 MB)\n",
      "\u001b[2K   \u001b[90m━━━━━━━━━━━━━━━━━━━━━━━━━━━━━━━━━━━━━━━━\u001b[0m \u001b[32m2.0/2.0 MB\u001b[0m \u001b[31m37.6 MB/s\u001b[0m eta \u001b[36m0:00:00\u001b[0m\n",
      "\u001b[?25hDownloading llama_index_llms_openai-0.1.27-py3-none-any.whl (11 kB)\n",
      "Downloading llama_index_multi_modal_llms_openai-0.1.8-py3-none-any.whl (5.9 kB)\n",
      "Downloading llama_index_program_openai-0.1.7-py3-none-any.whl (5.3 kB)\n",
      "Downloading llama_index_question_gen_openai-0.1.3-py3-none-any.whl (2.9 kB)\n",
      "Downloading llama_index_readers_file-0.1.32-py3-none-any.whl (38 kB)\n",
      "Downloading llama_index_readers_llama_parse-0.1.6-py3-none-any.whl (2.5 kB)\n",
      "Downloading pyarrow-17.0.0-cp310-cp310-manylinux_2_28_x86_64.whl (39.9 MB)\n",
      "\u001b[2K   \u001b[90m━━━━━━━━━━━━━━━━━━━━━━━━━━━━━━━━━━━━━━━━\u001b[0m \u001b[32m39.9/39.9 MB\u001b[0m \u001b[31m21.3 MB/s\u001b[0m eta \u001b[36m0:00:00\u001b[0m\n",
      "\u001b[?25hDownloading requests-2.32.3-py3-none-any.whl (64 kB)\n",
      "\u001b[2K   \u001b[90m━━━━━━━━━━━━━━━━━━━━━━━━━━━━━━━━━━━━━━━━\u001b[0m \u001b[32m64.9/64.9 kB\u001b[0m \u001b[31m4.3 MB/s\u001b[0m eta \u001b[36m0:00:00\u001b[0m\n",
      "\u001b[?25hDownloading multiprocess-0.70.16-py310-none-any.whl (134 kB)\n",
      "\u001b[2K   \u001b[90m━━━━━━━━━━━━━━━━━━━━━━━━━━━━━━━━━━━━━━━━\u001b[0m \u001b[32m134.8/134.8 kB\u001b[0m \u001b[31m9.0 MB/s\u001b[0m eta \u001b[36m0:00:00\u001b[0m\n",
      "\u001b[?25hDownloading xxhash-3.4.1-cp310-cp310-manylinux_2_17_x86_64.manylinux2014_x86_64.whl (194 kB)\n",
      "\u001b[2K   \u001b[90m━━━━━━━━━━━━━━━━━━━━━━━━━━━━━━━━━━━━━━━━\u001b[0m \u001b[32m194.1/194.1 kB\u001b[0m \u001b[31m13.7 MB/s\u001b[0m eta \u001b[36m0:00:00\u001b[0m\n",
      "\u001b[?25hDownloading Deprecated-1.2.14-py2.py3-none-any.whl (9.6 kB)\n",
      "Downloading dirtyjson-1.0.8-py3-none-any.whl (25 kB)\n",
      "Downloading llama_cloud-0.0.11-py3-none-any.whl (154 kB)\n",
      "\u001b[2K   \u001b[90m━━━━━━━━━━━━━━━━━━━━━━━━━━━━━━━━━━━━━━━━\u001b[0m \u001b[32m154.8/154.8 kB\u001b[0m \u001b[31m8.9 MB/s\u001b[0m eta \u001b[36m0:00:00\u001b[0m\n",
      "\u001b[?25hDownloading llama_parse-0.4.9-py3-none-any.whl (9.4 kB)\n",
      "Downloading pypdf-4.3.1-py3-none-any.whl (295 kB)\n",
      "\u001b[2K   \u001b[90m━━━━━━━━━━━━━━━━━━━━━━━━━━━━━━━━━━━━━━━━\u001b[0m \u001b[32m295.8/295.8 kB\u001b[0m \u001b[31m16.8 MB/s\u001b[0m eta \u001b[36m0:00:00\u001b[0m\n",
      "\u001b[?25hDownloading striprtf-0.0.26-py3-none-any.whl (6.9 kB)\n",
      "Downloading tenacity-8.5.0-py3-none-any.whl (28 kB)\n",
      "Downloading tiktoken-0.7.0-cp310-cp310-manylinux_2_17_x86_64.manylinux2014_x86_64.whl (1.1 MB)\n",
      "\u001b[2K   \u001b[90m━━━━━━━━━━━━━━━━━━━━━━━━━━━━━━━━━━━━━━━━\u001b[0m \u001b[32m1.1/1.1 MB\u001b[0m \u001b[31m30.1 MB/s\u001b[0m eta \u001b[36m0:00:00\u001b[0m\n",
      "\u001b[?25hDownloading typing_inspect-0.9.0-py3-none-any.whl (8.8 kB)\n",
      "Downloading dataclasses_json-0.6.7-py3-none-any.whl (28 kB)\n",
      "Downloading h11-0.14.0-py3-none-any.whl (58 kB)\n",
      "\u001b[2K   \u001b[90m━━━━━━━━━━━━━━━━━━━━━━━━━━━━━━━━━━━━━━━━\u001b[0m \u001b[32m58.3/58.3 kB\u001b[0m \u001b[31m2.9 MB/s\u001b[0m eta \u001b[36m0:00:00\u001b[0m\n",
      "\u001b[?25hDownloading marshmallow-3.21.3-py3-none-any.whl (49 kB)\n",
      "\u001b[2K   \u001b[90m━━━━━━━━━━━━━━━━━━━━━━━━━━━━━━━━━━━━━━━━\u001b[0m \u001b[32m49.2/49.2 kB\u001b[0m \u001b[31m2.6 MB/s\u001b[0m eta \u001b[36m0:00:00\u001b[0m\n",
      "\u001b[?25hDownloading mypy_extensions-1.0.0-py3-none-any.whl (4.7 kB)\n",
      "Installing collected packages: striprtf, dirtyjson, xxhash, tenacity, requests, pypdf, pyarrow, mypy-extensions, marshmallow, h11, fsspec, dill, deprecated, typing-inspect, tiktoken, multiprocess, httpcore, httpx, dataclasses-json, openai, llama-cloud, datasets, llama-index-legacy, llama-index-core, llama-parse, llama-index-readers-file, llama-index-llms-openai, llama-index-indices-managed-llama-cloud, llama-index-embeddings-openai, llama-index-readers-llama-parse, llama-index-multi-modal-llms-openai, llama-index-cli, llama-index-agent-openai, llama-index-program-openai, llama-index-question-gen-openai, llama_index\n",
      "  Attempting uninstall: tenacity\n",
      "    Found existing installation: tenacity 9.0.0\n",
      "    Uninstalling tenacity-9.0.0:\n",
      "      Successfully uninstalled tenacity-9.0.0\n",
      "  Attempting uninstall: requests\n",
      "    Found existing installation: requests 2.31.0\n",
      "    Uninstalling requests-2.31.0:\n",
      "      Successfully uninstalled requests-2.31.0\n",
      "  Attempting uninstall: pyarrow\n",
      "    Found existing installation: pyarrow 14.0.2\n",
      "    Uninstalling pyarrow-14.0.2:\n",
      "      Successfully uninstalled pyarrow-14.0.2\n",
      "  Attempting uninstall: fsspec\n",
      "    Found existing installation: fsspec 2024.6.1\n",
      "    Uninstalling fsspec-2024.6.1:\n",
      "      Successfully uninstalled fsspec-2024.6.1\n",
      "\u001b[31mERROR: pip's dependency resolver does not currently take into account all the packages that are installed. This behaviour is the source of the following dependency conflicts.\n",
      "torch 2.3.1+cu121 requires nvidia-cublas-cu12==12.1.3.1; platform_system == \"Linux\" and platform_machine == \"x86_64\", which is not installed.\n",
      "torch 2.3.1+cu121 requires nvidia-cuda-cupti-cu12==12.1.105; platform_system == \"Linux\" and platform_machine == \"x86_64\", which is not installed.\n",
      "torch 2.3.1+cu121 requires nvidia-cuda-nvrtc-cu12==12.1.105; platform_system == \"Linux\" and platform_machine == \"x86_64\", which is not installed.\n",
      "torch 2.3.1+cu121 requires nvidia-cuda-runtime-cu12==12.1.105; platform_system == \"Linux\" and platform_machine == \"x86_64\", which is not installed.\n",
      "torch 2.3.1+cu121 requires nvidia-cudnn-cu12==8.9.2.26; platform_system == \"Linux\" and platform_machine == \"x86_64\", which is not installed.\n",
      "torch 2.3.1+cu121 requires nvidia-cufft-cu12==11.0.2.54; platform_system == \"Linux\" and platform_machine == \"x86_64\", which is not installed.\n",
      "torch 2.3.1+cu121 requires nvidia-curand-cu12==10.3.2.106; platform_system == \"Linux\" and platform_machine == \"x86_64\", which is not installed.\n",
      "torch 2.3.1+cu121 requires nvidia-cusolver-cu12==11.4.5.107; platform_system == \"Linux\" and platform_machine == \"x86_64\", which is not installed.\n",
      "torch 2.3.1+cu121 requires nvidia-cusparse-cu12==12.1.0.106; platform_system == \"Linux\" and platform_machine == \"x86_64\", which is not installed.\n",
      "torch 2.3.1+cu121 requires nvidia-nccl-cu12==2.20.5; platform_system == \"Linux\" and platform_machine == \"x86_64\", which is not installed.\n",
      "torch 2.3.1+cu121 requires nvidia-nvtx-cu12==12.1.105; platform_system == \"Linux\" and platform_machine == \"x86_64\", which is not installed.\n",
      "cudf-cu12 24.4.1 requires pyarrow<15.0.0a0,>=14.0.1, but you have pyarrow 17.0.0 which is incompatible.\n",
      "gcsfs 2024.6.1 requires fsspec==2024.6.1, but you have fsspec 2024.5.0 which is incompatible.\n",
      "google-colab 1.0.0 requires requests==2.31.0, but you have requests 2.32.3 which is incompatible.\n",
      "ibis-framework 8.0.0 requires pyarrow<16,>=2, but you have pyarrow 17.0.0 which is incompatible.\u001b[0m\u001b[31m\n",
      "\u001b[0mSuccessfully installed dataclasses-json-0.6.7 datasets-2.20.0 deprecated-1.2.14 dill-0.3.8 dirtyjson-1.0.8 fsspec-2024.5.0 h11-0.14.0 httpcore-1.0.5 httpx-0.27.0 llama-cloud-0.0.11 llama-index-agent-openai-0.2.9 llama-index-cli-0.1.13 llama-index-core-0.10.59 llama-index-embeddings-openai-0.1.11 llama-index-indices-managed-llama-cloud-0.2.7 llama-index-legacy-0.9.48 llama-index-llms-openai-0.1.27 llama-index-multi-modal-llms-openai-0.1.8 llama-index-program-openai-0.1.7 llama-index-question-gen-openai-0.1.3 llama-index-readers-file-0.1.32 llama-index-readers-llama-parse-0.1.6 llama-parse-0.4.9 llama_index-0.10.59 marshmallow-3.21.3 multiprocess-0.70.16 mypy-extensions-1.0.0 openai-1.37.1 pyarrow-17.0.0 pypdf-4.3.1 requests-2.32.3 striprtf-0.0.26 tenacity-8.5.0 tiktoken-0.7.0 typing-inspect-0.9.0 xxhash-3.4.1\n"
     ]
    }
   ],
   "source": [
    "!pip install llama_index openai datasets llama-index-retrievers-bm25"
   ]
  },
  {
   "cell_type": "code",
   "execution_count": 1,
   "metadata": {
    "executionInfo": {
     "elapsed": 3929,
     "status": "ok",
     "timestamp": 1722523761611,
     "user": {
      "displayName": "한두솔",
      "userId": "14744311692633150263"
     },
     "user_tz": -540
    },
    "id": "ySojN65-ZWQJ"
   },
   "outputs": [],
   "source": [
    "\n",
    "\n",
    "import logging\n",
    "import sys\n",
    "\n",
    "logging.basicConfig(stream=sys.stdout, level=logging.INFO)\n",
    "logging.getLogger().addHandler(logging.StreamHandler(stream=sys.stdout))\n",
    "\n",
    "from llama_index.core import VectorStoreIndex, SimpleDirectoryReader\n",
    "from llama_index.core.indices.query.query_transform import HyDEQueryTransform\n",
    "from llama_index.core.query_engine import TransformQueryEngine\n",
    "from IPython.display import Markdown, display\n",
    "import pprint\n",
    "from llama_index.llms.openai import OpenAI\n",
    "from llama_index.embeddings.openai import OpenAIEmbedding\n",
    "from llama_index.core import Settings\n",
    "Settings.embed_model = OpenAIEmbedding(\n",
    "    model=\"text-embedding-3-small\"\n",
    ")\n",
    "Settings.llm= OpenAI(model='gpt-4o-mini')"
   ]
  },
  {
   "cell_type": "code",
   "execution_count": 2,
   "metadata": {
    "colab": {
     "base_uri": "https://localhost:8080/",
     "height": 299,
     "referenced_widgets": [
      "dc9c5ee1c7c0407bb5f6fa9d083c3e63",
      "a55999c630364b479a2857457a35bc04",
      "186918a22a09411e94580396be435dde",
      "76cef1b60f864b52a65b6784859ce847",
      "0e86965ec8b34acbb0a82a01f39dfebf",
      "5269649659334dbf91460c94e982d870",
      "b6e136fc04074182b8e26de948f495ab",
      "5ea0167ef82c4a31b48338fe9414bcad",
      "e2739920438f497a87a680e81a063922",
      "c15d197b43de4403bbcf9bf7c1953c93",
      "00f9a1e149bc4deaa045955347bda94e",
      "f62b5d25018540bf98788ba01547ceee",
      "ca4b1c6a880d4b8d9a169976a62522cc",
      "82f53b838808430b9a5388e4bcab0630",
      "73a5600300414178ae5bacf3c349ef19",
      "d7450dbf86134ab7b30b2464da037fc1",
      "34063f699465444a898e69aeae058103",
      "69d3deca4af44b32b01f5d9e9516e13e",
      "53ba4aaa62e545c796cb4034f6c725d1",
      "97ccf1707d78488d8bcd917f9abe19cc",
      "93a94650cba947a39df4ebf4bfe8c654",
      "f90652fe397347c0bec1c8887310079a",
      "4d4f10663fb54d46b67a782fbc9ca8f0",
      "470b21978abf4982aef32c0a39c89f42",
      "a7ea0bd059cc423bac1e9a4d443b0d57",
      "0b06abdaffb8440d9d5b8495a534bbef",
      "e272708f5c1c4c9099bc473dcc0179c4",
      "8084ad251f6949af90b4a1d66ac6477a",
      "b219b6345bc54385a2389e0ab20db001",
      "e5a51a8cbdda40fa8352d9b6f16c3c7f",
      "49120d5072f34a3d97376475087ae572",
      "dcab2b379bb94b3499d265a518736186",
      "e67ecd5780fe4d64843c3407b94fa0a4",
      "58721db330a74320bb1cc94537dd9270",
      "f87b91bf1c724b65b118f1b5d08430c1",
      "dc3fb3843bcf4674a7dc91614dd3f8cd",
      "5afaf99ffe684bc29b68ac3388facf7a",
      "cbfa3718d77942738e4775cd3db94bbc",
      "217a4920934a4df78e0fec7e703c11f0",
      "62d944ce530c486ca4ed04ab180d0809",
      "609806258cb54ef6aa51eb72e4f210ee",
      "0e8aa1b32e87452aa7a844fc73787ab2",
      "a984de3896a54f789781642aed67a6ab",
      "b0974b6a44904a35bf3363df2a3d1008",
      "6900966231d846bda835635e95f8eb10",
      "6c8cf05dd56b4315919223d059522d8a",
      "b0cc6edf8e2940ab9c590368eb4deb01",
      "703983b0fbf64adaa8445ce52e1b4859",
      "410a5903071e4237b058fc91b726cdba",
      "e756a58c4a3d4450a0b80ec64a5d1d8e",
      "6123b9ed8be843e1b1212bd3df2db71f",
      "16b5e5c0e38a4488b3c4fb6a6f69914a",
      "2009dfb093854fa899d86e7b1187fb33",
      "2bfc8ecd42dc4958b6839f9cc6509668",
      "77f61a73a7174419888a8ae9b5497fff"
     ]
    },
    "executionInfo": {
     "elapsed": 191424,
     "status": "ok",
     "timestamp": 1722523958411,
     "user": {
      "displayName": "한두솔",
      "userId": "14744311692633150263"
     },
     "user_tz": -540
    },
    "id": "IcuBev_CZWQM",
    "outputId": "3d267473-5874-4522-c437-a1fe2b237489"
   },
   "outputs": [
    {
     "name": "stdout",
     "output_type": "stream",
     "text": [
      "INFO:numexpr.utils:NumExpr defaulting to 12 threads.\n",
      "NumExpr defaulting to 12 threads.\n",
      "INFO:datasets:PyTorch version 2.6.0 available.\n",
      "PyTorch version 2.6.0 available.\n",
      "INFO:datasets:TensorFlow version 2.19.0 available.\n",
      "TensorFlow version 2.19.0 available.\n"
     ]
    },
    {
     "data": {
      "application/vnd.jupyter.widget-view+json": {
       "model_id": "cff5b06afe2340d68dce883b8858255c",
       "version_major": 2,
       "version_minor": 0
      },
      "text/plain": [
       "Resolving data files:   0%|          | 0/18 [00:00<?, ?it/s]"
      ]
     },
     "metadata": {},
     "output_type": "display_data"
    },
    {
     "data": {
      "application/vnd.jupyter.widget-view+json": {
       "model_id": "83bf6bf776e344e78f6c9ab7f24cb606",
       "version_major": 2,
       "version_minor": 0
      },
      "text/plain": [
       "Resolving data files:   0%|          | 0/18 [00:00<?, ?it/s]"
      ]
     },
     "metadata": {},
     "output_type": "display_data"
    }
   ],
   "source": [
    "# Dataset 로드\n",
    "from datasets import load_dataset\n",
    "\n",
    "ds = load_dataset(\"HAERAE-HUB/KOREAN-WEBTEXT\", split='train[:20]')\n",
    "data = ds.to_pandas()"
   ]
  },
  {
   "cell_type": "code",
   "execution_count": 3,
   "metadata": {
    "colab": {
     "base_uri": "https://localhost:8080/",
     "height": 669
    },
    "executionInfo": {
     "elapsed": 1257,
     "status": "ok",
     "timestamp": 1722523962475,
     "user": {
      "displayName": "한두솔",
      "userId": "14744311692633150263"
     },
     "user_tz": -540
    },
    "id": "jpg2iOBRZWQN",
    "outputId": "ee403e09-08b4-4fe1-a47e-be2549684954"
   },
   "outputs": [
    {
     "data": {
      "text/html": [
       "<div>\n",
       "<style scoped>\n",
       "    .dataframe tbody tr th:only-of-type {\n",
       "        vertical-align: middle;\n",
       "    }\n",
       "\n",
       "    .dataframe tbody tr th {\n",
       "        vertical-align: top;\n",
       "    }\n",
       "\n",
       "    .dataframe thead th {\n",
       "        text-align: right;\n",
       "    }\n",
       "</style>\n",
       "<table border=\"1\" class=\"dataframe\">\n",
       "  <thead>\n",
       "    <tr style=\"text-align: right;\">\n",
       "      <th></th>\n",
       "      <th>text</th>\n",
       "      <th>source</th>\n",
       "      <th>token_count</th>\n",
       "      <th>__index_level_0__</th>\n",
       "    </tr>\n",
       "  </thead>\n",
       "  <tbody>\n",
       "    <tr>\n",
       "      <th>0</th>\n",
       "      <td>사이트의 판매량에 기반하여 판매량 추이를 반영한 인터파크 도서에서의 독립적인 판매 ...</td>\n",
       "      <td>oscar2201</td>\n",
       "      <td>3348</td>\n",
       "      <td>0</td>\n",
       "    </tr>\n",
       "    <tr>\n",
       "      <th>1</th>\n",
       "      <td>“아~아~잊으랴 어찌 우리 이날을 조국의 원수들이 짓밟아 오던 날을~”6·25의 노...</td>\n",
       "      <td>oscar2201</td>\n",
       "      <td>1427</td>\n",
       "      <td>1</td>\n",
       "    </tr>\n",
       "    <tr>\n",
       "      <th>2</th>\n",
       "      <td>일러전쟁의 승패를 가른 쓰시마 해전은 세계 최강으로 평가 받는 발틱함대를 괴멸시켰다...</td>\n",
       "      <td>oscar2201</td>\n",
       "      <td>2458</td>\n",
       "      <td>2</td>\n",
       "    </tr>\n",
       "    <tr>\n",
       "      <th>3</th>\n",
       "      <td>재테크 채널 유튜버이자, 「빚부터 갚아라」, 「원트재무설계 소원을 말해봐」 저자인 ...</td>\n",
       "      <td>oscar2201</td>\n",
       "      <td>2838</td>\n",
       "      <td>3</td>\n",
       "    </tr>\n",
       "    <tr>\n",
       "      <th>4</th>\n",
       "      <td>상급자의 범죄와 비리, 부패를 하급자에게 돌리는 것으로 따지면 타의추종을 불허하는 ...</td>\n",
       "      <td>oscar2201</td>\n",
       "      <td>1628</td>\n",
       "      <td>4</td>\n",
       "    </tr>\n",
       "    <tr>\n",
       "      <th>5</th>\n",
       "      <td>최근 언론보도에 의하면 이재현 CJ그룹 회장이 지난해 말 두 자녀에게 증여하였던 주...</td>\n",
       "      <td>oscar2201</td>\n",
       "      <td>1366</td>\n",
       "      <td>5</td>\n",
       "    </tr>\n",
       "    <tr>\n",
       "      <th>6</th>\n",
       "      <td>나는 노무현의 시대를 살지 않았다. 그러니까, 나는 이 땅의 생명체로 살아있긴 했지...</td>\n",
       "      <td>oscar2201</td>\n",
       "      <td>2017</td>\n",
       "      <td>6</td>\n",
       "    </tr>\n",
       "    <tr>\n",
       "      <th>7</th>\n",
       "      <td>CBRE가 21일 발표한 ‘2021년 2분기 국내 상업용 부동산 시장 보고서’에 따...</td>\n",
       "      <td>oscar2201</td>\n",
       "      <td>1421</td>\n",
       "      <td>7</td>\n",
       "    </tr>\n",
       "    <tr>\n",
       "      <th>8</th>\n",
       "      <td>안녕하세요. 한화솔루션입니다. 지난주, 슬기로운 솔루션 직장생활 2탄에 이어 이번엔...</td>\n",
       "      <td>oscar2201</td>\n",
       "      <td>2143</td>\n",
       "      <td>8</td>\n",
       "    </tr>\n",
       "    <tr>\n",
       "      <th>9</th>\n",
       "      <td>캐나다는 3 년 연속 지구상에서 가장 주목할만한 국가로 선포되었습니다. 일반 타이틀...</td>\n",
       "      <td>oscar2201</td>\n",
       "      <td>1104</td>\n",
       "      <td>9</td>\n",
       "    </tr>\n",
       "    <tr>\n",
       "      <th>10</th>\n",
       "      <td>민선6기 광주시장에 시민활동가 출신이 당선된 이후 시민과 소통하고 시민의 의견을 존...</td>\n",
       "      <td>oscar2201</td>\n",
       "      <td>3104</td>\n",
       "      <td>10</td>\n",
       "    </tr>\n",
       "    <tr>\n",
       "      <th>11</th>\n",
       "      <td>얼마 전 소개해 드린 레고 부스트 17101 기억하시나요? 레고를 통해 만드는 재미...</td>\n",
       "      <td>oscar2201</td>\n",
       "      <td>1627</td>\n",
       "      <td>11</td>\n",
       "    </tr>\n",
       "    <tr>\n",
       "      <th>12</th>\n",
       "      <td>대한민국 근대 도시사는 신도시 역사라 불리울 정도로 우리는 다양한 도시건설 노하우를...</td>\n",
       "      <td>oscar2201</td>\n",
       "      <td>1871</td>\n",
       "      <td>12</td>\n",
       "    </tr>\n",
       "    <tr>\n",
       "      <th>13</th>\n",
       "      <td>피고는 원고 최○○에게 37,474,000원, 원고 박○○에게 33,196,000원...</td>\n",
       "      <td>oscar2201</td>\n",
       "      <td>6648</td>\n",
       "      <td>13</td>\n",
       "    </tr>\n",
       "    <tr>\n",
       "      <th>14</th>\n",
       "      <td>디지털 기술로 산업과 사회 혁신을 추구하는 4차 산업혁명 시대가 도래했다. 디자인 ...</td>\n",
       "      <td>oscar2201</td>\n",
       "      <td>1369</td>\n",
       "      <td>14</td>\n",
       "    </tr>\n",
       "    <tr>\n",
       "      <th>15</th>\n",
       "      <td>법무법인 엘케이비앤파트너스(엘케이비)는 코로나19 시대 의뢰인과 함께하는 전문 법률...</td>\n",
       "      <td>oscar2201</td>\n",
       "      <td>3361</td>\n",
       "      <td>15</td>\n",
       "    </tr>\n",
       "    <tr>\n",
       "      <th>16</th>\n",
       "      <td>익숙하지 않은 것이 주는 낯설고 설레는 경험, 그것을 통해 얻는 영감은 여행을 하는...</td>\n",
       "      <td>oscar2201</td>\n",
       "      <td>1374</td>\n",
       "      <td>16</td>\n",
       "    </tr>\n",
       "    <tr>\n",
       "      <th>17</th>\n",
       "      <td>어제 오후 비가 오심을 의식해 자연의 맑은 비를 흠씬 맞춰 줄 요량으로 서재로부터 ...</td>\n",
       "      <td>oscar2201</td>\n",
       "      <td>1735</td>\n",
       "      <td>17</td>\n",
       "    </tr>\n",
       "    <tr>\n",
       "      <th>18</th>\n",
       "      <td>한국한의학연구원의 유튜브 채널에 최근 사상체질에 대한 김종열 한국한의학연구원장의 강...</td>\n",
       "      <td>oscar2201</td>\n",
       "      <td>1430</td>\n",
       "      <td>18</td>\n",
       "    </tr>\n",
       "    <tr>\n",
       "      <th>19</th>\n",
       "      <td>낙동강에 세워진 8개의 댐(보) 중 5개의 보에서 물이 샙니다. 상주댐에서 물이 새...</td>\n",
       "      <td>oscar2201</td>\n",
       "      <td>1437</td>\n",
       "      <td>19</td>\n",
       "    </tr>\n",
       "  </tbody>\n",
       "</table>\n",
       "</div>"
      ],
      "text/plain": [
       "                                                 text     source  token_count  \\\n",
       "0   사이트의 판매량에 기반하여 판매량 추이를 반영한 인터파크 도서에서의 독립적인 판매 ...  oscar2201         3348   \n",
       "1   “아~아~잊으랴 어찌 우리 이날을 조국의 원수들이 짓밟아 오던 날을~”6·25의 노...  oscar2201         1427   \n",
       "2   일러전쟁의 승패를 가른 쓰시마 해전은 세계 최강으로 평가 받는 발틱함대를 괴멸시켰다...  oscar2201         2458   \n",
       "3   재테크 채널 유튜버이자, 「빚부터 갚아라」, 「원트재무설계 소원을 말해봐」 저자인 ...  oscar2201         2838   \n",
       "4   상급자의 범죄와 비리, 부패를 하급자에게 돌리는 것으로 따지면 타의추종을 불허하는 ...  oscar2201         1628   \n",
       "5   최근 언론보도에 의하면 이재현 CJ그룹 회장이 지난해 말 두 자녀에게 증여하였던 주...  oscar2201         1366   \n",
       "6   나는 노무현의 시대를 살지 않았다. 그러니까, 나는 이 땅의 생명체로 살아있긴 했지...  oscar2201         2017   \n",
       "7   CBRE가 21일 발표한 ‘2021년 2분기 국내 상업용 부동산 시장 보고서’에 따...  oscar2201         1421   \n",
       "8   안녕하세요. 한화솔루션입니다. 지난주, 슬기로운 솔루션 직장생활 2탄에 이어 이번엔...  oscar2201         2143   \n",
       "9   캐나다는 3 년 연속 지구상에서 가장 주목할만한 국가로 선포되었습니다. 일반 타이틀...  oscar2201         1104   \n",
       "10  민선6기 광주시장에 시민활동가 출신이 당선된 이후 시민과 소통하고 시민의 의견을 존...  oscar2201         3104   \n",
       "11  얼마 전 소개해 드린 레고 부스트 17101 기억하시나요? 레고를 통해 만드는 재미...  oscar2201         1627   \n",
       "12  대한민국 근대 도시사는 신도시 역사라 불리울 정도로 우리는 다양한 도시건설 노하우를...  oscar2201         1871   \n",
       "13  피고는 원고 최○○에게 37,474,000원, 원고 박○○에게 33,196,000원...  oscar2201         6648   \n",
       "14  디지털 기술로 산업과 사회 혁신을 추구하는 4차 산업혁명 시대가 도래했다. 디자인 ...  oscar2201         1369   \n",
       "15  법무법인 엘케이비앤파트너스(엘케이비)는 코로나19 시대 의뢰인과 함께하는 전문 법률...  oscar2201         3361   \n",
       "16  익숙하지 않은 것이 주는 낯설고 설레는 경험, 그것을 통해 얻는 영감은 여행을 하는...  oscar2201         1374   \n",
       "17  어제 오후 비가 오심을 의식해 자연의 맑은 비를 흠씬 맞춰 줄 요량으로 서재로부터 ...  oscar2201         1735   \n",
       "18  한국한의학연구원의 유튜브 채널에 최근 사상체질에 대한 김종열 한국한의학연구원장의 강...  oscar2201         1430   \n",
       "19  낙동강에 세워진 8개의 댐(보) 중 5개의 보에서 물이 샙니다. 상주댐에서 물이 새...  oscar2201         1437   \n",
       "\n",
       "    __index_level_0__  \n",
       "0                   0  \n",
       "1                   1  \n",
       "2                   2  \n",
       "3                   3  \n",
       "4                   4  \n",
       "5                   5  \n",
       "6                   6  \n",
       "7                   7  \n",
       "8                   8  \n",
       "9                   9  \n",
       "10                 10  \n",
       "11                 11  \n",
       "12                 12  \n",
       "13                 13  \n",
       "14                 14  \n",
       "15                 15  \n",
       "16                 16  \n",
       "17                 17  \n",
       "18                 18  \n",
       "19                 19  "
      ]
     },
     "execution_count": 3,
     "metadata": {},
     "output_type": "execute_result"
    }
   ],
   "source": [
    "data"
   ]
  },
  {
   "cell_type": "code",
   "execution_count": 4,
   "metadata": {
    "executionInfo": {
     "elapsed": 4,
     "status": "ok",
     "timestamp": 1722523966403,
     "user": {
      "displayName": "한두솔",
      "userId": "14744311692633150263"
     },
     "user_tz": -540
    },
    "id": "XsgQFXekZWQN"
   },
   "outputs": [],
   "source": [
    "# Document 오브젝트로 변환\n",
    "from llama_index.core import Document, VectorStoreIndex\n",
    "docs = []\n",
    "\n",
    "#Iterative하게 Document 만들기\n",
    "for i, row in data.iterrows():\n",
    "    docs.append(Document(\n",
    "        text=row['text'],\n",
    "        # extra_info={'title': row['title']}\n",
    "    ))"
   ]
  },
  {
   "cell_type": "code",
   "execution_count": 5,
   "metadata": {
    "executionInfo": {
     "elapsed": 4537,
     "status": "ok",
     "timestamp": 1722523972957,
     "user": {
      "displayName": "한두솔",
      "userId": "14744311692633150263"
     },
     "user_tz": -540
    },
    "id": "-TP7RpEiZWQO"
   },
   "outputs": [
    {
     "name": "stdout",
     "output_type": "stream",
     "text": [
      "INFO:httpx:HTTP Request: POST https://api.openai.com/v1/embeddings \"HTTP/1.1 200 OK\"\n",
      "HTTP Request: POST https://api.openai.com/v1/embeddings \"HTTP/1.1 200 OK\"\n"
     ]
    }
   ],
   "source": [
    "index = VectorStoreIndex.from_documents(\n",
    "    docs\n",
    ")"
   ]
  },
  {
   "cell_type": "markdown",
   "metadata": {
    "id": "Z5jqZigUZWQO"
   },
   "source": [
    "## 1. 커스텀 프롬프트 활용"
   ]
  },
  {
   "cell_type": "code",
   "execution_count": 6,
   "metadata": {
    "executionInfo": {
     "elapsed": 901,
     "status": "ok",
     "timestamp": 1722524026549,
     "user": {
      "displayName": "한두솔",
      "userId": "14744311692633150263"
     },
     "user_tz": -540
    },
    "id": "koWx3ZLOZWQP"
   },
   "outputs": [],
   "source": [
    "from llama_index.core import PromptTemplate\n",
    "from llama_index.llms.openai import OpenAI\n",
    "\n",
    "\n",
    "\n",
    "query_gen_str = \"\"\"\n",
    "너는 사용자가 대충 쓴 질문에 대해서, 최대한 답변하기 위한 근거를 찾기 위한 다수의 서치 쿼리를 생성해 내야해.\n",
    "생성하는 쿼리 중에 딱 하나는 역으로 된 질문으로 추가해서, 상대적 근거로 활용될 수 있도록 해야해.\n",
    "{num_queries}개의 서치 쿼리를 만들어 내고, 하나당 한줄씩 사용해.\n",
    "Query: {query}\n",
    "Queries:\n",
    "\"\"\"\n",
    "\n",
    "# 프롬프트템플릿화\n",
    "query_gen_prompt = PromptTemplate(query_gen_str)\n",
    "\n",
    "#쿼리 브레이커에 사용할 llm 정의\n",
    "llm = OpenAI(model=\"gpt-4o-mini\")\n",
    "\n",
    "\n",
    "def generate_queries(llm, query: str, num_queries: int = 4):\n",
    "    response = llm.predict(\n",
    "        query_gen_prompt, num_queries=num_queries, query=query\n",
    "    )\n",
    "    queries = response.split(\"\\n\")\n",
    "    queries_str = \"\\n\".join(queries)\n",
    "    print(f\"Generated queries:\\n{queries_str}\")\n",
    "    return queries"
   ]
  },
  {
   "cell_type": "code",
   "execution_count": 7,
   "metadata": {
    "colab": {
     "base_uri": "https://localhost:8080/"
    },
    "executionInfo": {
     "elapsed": 1669,
     "status": "ok",
     "timestamp": 1722524030884,
     "user": {
      "displayName": "한두솔",
      "userId": "14744311692633150263"
     },
     "user_tz": -540
    },
    "id": "O5RUsVRXZWQP",
    "outputId": "3fcf4de6-a17d-43a0-eb3b-480e14e14c7c"
   },
   "outputs": [
    {
     "name": "stdout",
     "output_type": "stream",
     "text": [
      "INFO:httpx:HTTP Request: POST https://api.openai.com/v1/chat/completions \"HTTP/1.1 200 OK\"\n",
      "HTTP Request: POST https://api.openai.com/v1/chat/completions \"HTTP/1.1 200 OK\"\n",
      "Generated queries:\n",
      "1. 프랭키의 인기와 관련된 정보\n",
      "2. 프랭키가 싫어하는 캐릭터나 인물\n",
      "3. 프랭키의 팬층 분석\n",
      "4. 프랭키가 누구에게 인기가 있는가?\n"
     ]
    }
   ],
   "source": [
    "# 잘 답변못했던 질문 확인\n",
    "queries = generate_queries(llm,\"프랭키가 누구한테 인기가 없을까?\")"
   ]
  },
  {
   "cell_type": "code",
   "execution_count": 8,
   "metadata": {
    "colab": {
     "base_uri": "https://localhost:8080/"
    },
    "executionInfo": {
     "elapsed": 453,
     "status": "ok",
     "timestamp": 1722524061636,
     "user": {
      "displayName": "한두솔",
      "userId": "14744311692633150263"
     },
     "user_tz": -540
    },
    "id": "hBTS_bVXZWQQ",
    "outputId": "923fba1a-ffd9-40d3-ce9a-cabde78d7bf5"
   },
   "outputs": [
    {
     "data": {
      "text/plain": [
       "['1. 프랭키의 인기와 관련된 정보',\n",
       " '2. 프랭키가 싫어하는 캐릭터나 인물',\n",
       " '3. 프랭키의 팬층 분석',\n",
       " '4. 프랭키가 누구에게 인기가 있는가?']"
      ]
     },
     "execution_count": 8,
     "metadata": {},
     "output_type": "execute_result"
    }
   ],
   "source": [
    "queries"
   ]
  },
  {
   "cell_type": "code",
   "execution_count": 9,
   "metadata": {
    "executionInfo": {
     "elapsed": 590,
     "status": "ok",
     "timestamp": 1722524084781,
     "user": {
      "displayName": "한두솔",
      "userId": "14744311692633150263"
     },
     "user_tz": -540
    },
    "id": "MiV7l_PVZWQQ"
   },
   "outputs": [],
   "source": [
    "from tqdm.asyncio import tqdm\n",
    "import nest_asyncio\n",
    "nest_asyncio.apply()\n",
    "\n",
    "# 다수의 쿼리를 동시에 날려야 하기 떄문에 async 사용\n",
    "# 사용할 다수 Retriever들의 결과를 합치는 용도\n",
    "async def run_queries(queries, retrievers):\n",
    "    tasks = []\n",
    "    for query in queries:\n",
    "        for i, retriever in enumerate(retrievers):\n",
    "            tasks.append(retriever.aretrieve(query))\n",
    "\n",
    "    task_results = await tqdm.gather(*tasks)\n",
    "\n",
    "    results_dict = {}\n",
    "    for i, (query, query_result) in enumerate(zip(queries, task_results)):\n",
    "        results_dict[(query, i)] = query_result\n",
    "\n",
    "    return results_dict"
   ]
  },
  {
   "cell_type": "code",
   "execution_count": 12,
   "metadata": {
    "colab": {
     "base_uri": "https://localhost:8080/"
    },
    "executionInfo": {
     "elapsed": 3525,
     "status": "ok",
     "timestamp": 1722524199758,
     "user": {
      "displayName": "한두솔",
      "userId": "14744311692633150263"
     },
     "user_tz": -540
    },
    "id": "GKET5VULZWQR",
    "outputId": "ad5cf0ae-a953-41a1-ae91-67f6c0da1115"
   },
   "outputs": [
    {
     "name": "stdout",
     "output_type": "stream",
     "text": [
      "DEBUG:bm25s:Building index from IDs objects\n",
      "Building index from IDs objects\n"
     ]
    }
   ],
   "source": [
    "\n",
    "from llama_index.retrievers.bm25 import BM25Retriever\n",
    "\n",
    "\n",
    "## vector retriever\n",
    "vector_retriever = index.as_retriever(similarity_top_k=2)\n",
    "\n",
    "## bm25 retriever\n",
    "bm25_retriever = BM25Retriever.from_defaults(\n",
    "    docstore=index.docstore, similarity_top_k=2\n",
    ")\n",
    "\n",
    "#query_engine = index.as_query_engine()\n",
    "#response = query_engine.query(query_str)\n",
    "#display(Markdown(f\"{response}\"))"
   ]
  },
  {
   "cell_type": "code",
   "execution_count": 13,
   "metadata": {
    "colab": {
     "base_uri": "https://localhost:8080/"
    },
    "executionInfo": {
     "elapsed": 1095,
     "status": "ok",
     "timestamp": 1722524254587,
     "user": {
      "displayName": "한두솔",
      "userId": "14744311692633150263"
     },
     "user_tz": -540
    },
    "id": "ZM-4X9wnZWQR",
    "outputId": "07ae0ca9-8821-4d07-d156-882a6f65ecd3"
   },
   "outputs": [
    {
     "name": "stderr",
     "output_type": "stream",
     "text": [
      "  0%|          | 0/8 [00:00<?, ?it/s]"
     ]
    },
    {
     "name": "stdout",
     "output_type": "stream",
     "text": [
      "INFO:httpx:HTTP Request: POST https://api.openai.com/v1/embeddings \"HTTP/1.1 200 OK\"\n",
      "HTTP Request: POST https://api.openai.com/v1/embeddings \"HTTP/1.1 200 OK\"\n"
     ]
    },
    {
     "name": "stderr",
     "output_type": "stream",
     "text": [
      " 62%|██████▎   | 5/8 [00:00<00:00, 13.56it/s]"
     ]
    },
    {
     "name": "stdout",
     "output_type": "stream",
     "text": [
      "INFO:httpx:HTTP Request: POST https://api.openai.com/v1/embeddings \"HTTP/1.1 200 OK\"\n",
      "HTTP Request: POST https://api.openai.com/v1/embeddings \"HTTP/1.1 200 OK\"\n",
      "INFO:httpx:HTTP Request: POST https://api.openai.com/v1/embeddings \"HTTP/1.1 200 OK\"\n",
      "HTTP Request: POST https://api.openai.com/v1/embeddings \"HTTP/1.1 200 OK\"\n"
     ]
    },
    {
     "name": "stderr",
     "output_type": "stream",
     "text": [
      " 88%|████████▊ | 7/8 [00:01<00:00,  5.03it/s]"
     ]
    },
    {
     "name": "stdout",
     "output_type": "stream",
     "text": [
      "INFO:httpx:HTTP Request: POST https://api.openai.com/v1/embeddings \"HTTP/1.1 200 OK\"\n",
      "HTTP Request: POST https://api.openai.com/v1/embeddings \"HTTP/1.1 200 OK\"\n"
     ]
    },
    {
     "name": "stderr",
     "output_type": "stream",
     "text": [
      "100%|██████████| 8/8 [00:02<00:00,  2.93it/s]\n"
     ]
    }
   ],
   "source": [
    "results_dict = await run_queries(queries, [vector_retriever, bm25_retriever])"
   ]
  },
  {
   "cell_type": "code",
   "execution_count": 14,
   "metadata": {
    "colab": {
     "base_uri": "https://localhost:8080/"
    },
    "executionInfo": {
     "elapsed": 503,
     "status": "ok",
     "timestamp": 1722524260792,
     "user": {
      "displayName": "한두솔",
      "userId": "14744311692633150263"
     },
     "user_tz": -540
    },
    "id": "IiDQ_fgXZWQS",
    "outputId": "bec39bf2-6b6e-454e-e74d-b189a0b7c21d"
   },
   "outputs": [
    {
     "data": {
      "text/plain": [
       "{('1. 프랭키의 인기와 관련된 정보',\n",
       "  0): [NodeWithScore(node=TextNode(id_='1411cc3f-000c-4e0a-8097-35432e066024', embedding=None, metadata={}, excluded_embed_metadata_keys=[], excluded_llm_metadata_keys=[], relationships={<NodeRelationship.SOURCE: '1'>: RelatedNodeInfo(node_id='0644933e-5cad-4f84-8da0-56662d75181b', node_type='4', metadata={}, hash='abb2bbcf7b87f2b88e8d0705c999c7cae6f603d6abcca99da6df938ea56c8d17'), <NodeRelationship.PREVIOUS: '2'>: RelatedNodeInfo(node_id='f74593c0-7ccd-4d0a-b4b8-29ea91520513', node_type='1', metadata={}, hash='afb22e509851281e67bb9a6fa75623623331a63ccd47b4b66fb627293bdaff0b')}, metadata_template='{key}: {value}', metadata_separator='\\n', text='레고 부스트를 만난 지 2달 정도 되었는데 생각보다 아이들이 잘 따라 만들고 너무 좋아합니다. 직접 움직임을 줄 수 있다는 게 성취감을 높여주는 것 같더라구요. 레고는 모든 아이들이 좋아하는 브릭이기도 하구요. 또 아이와 함께 만들다 보면 자연스럽게 아이들과 더 교감하게 되기도 하구요. 프랭키는 가상의 고양이이지만 애교도 부리고 먹이도 먹는 등 다양한 교감 활동을 할 수 있는데, 단순히 움직이는 코딩이 아니라 교감능력까지 함께 높여줄 수 있는 것 같아서 좋습니다. 특히나 여자아이들이라면 더 좋아할 것 같네요. 애교 많은 재롱둥이 프랭키와 함께 아이들의 상상력과 창의력을 키워 보세요.', mimetype='text/plain', start_char_idx=2475, end_char_idx=2804, metadata_seperator='\\n', text_template='{metadata_str}\\n\\n{content}'), score=0.25498855893657724), NodeWithScore(node=TextNode(id_='30949f33-7039-44b7-a48e-53b66212cadd', embedding=None, metadata={}, excluded_embed_metadata_keys=[], excluded_llm_metadata_keys=[], relationships={<NodeRelationship.SOURCE: '1'>: RelatedNodeInfo(node_id='105e7fcb-11dc-4f37-8afc-d0053986e794', node_type='4', metadata={}, hash='ddb493ff5ade61cde086cfa46cc403c30b06815da335419c4f904e184ce39858'), <NodeRelationship.PREVIOUS: '2'>: RelatedNodeInfo(node_id='6818478a-34a4-4388-ab02-15987e206644', node_type='1', metadata={}, hash='35e1820eb3098b165f19b4d3d6ffa09419e75c00c705808a517e74c0f7919dac'), <NodeRelationship.NEXT: '3'>: RelatedNodeInfo(node_id='53d6d76a-09cd-42cc-865d-acf6e1fcef02', node_type='1', metadata={}, hash='cdcf9e0a8a1743f5bbea833abe868e8f66248db3430d05874304eadff0da06e6')}, metadata_template='{key}: {value}', metadata_separator='\\n', text='일기라는 가장 내밀한 기록 속에 드러나는 세계제국 영국 역사의 치부, 성이라는 가장 사적인 생활에 개입된 계급적 한계가 사회 최상류층이자 최약자로서 찰스와 윌을 통해 구현되면서 소설은 두터운 현실감을 얻는다. 작가 특유의 정교한 구성과 섬세하고 날렵한 문체에 읽는 재미를 더하는 것은 군데군데 숨은 풍자다. 영국 왕위계승 서열을 그대로 따른 주요 인물들의 이름, 저소득층을 상대로 자선을 베푸는 한편 그들을 꾀어 포르노 영화를 찍으며 감상하는 사진가의 이름에 오점, 얼룩(stain)의 뜻이 담긴 점, 아르헨띠나인과 영국의 포클랜드 침략에 관해 대화를 나누면서 윌이 거꾸로 희롱당하는 입장에 처하는 장면 등은 우스꽝스럽게 비틀어 그려낸 사회의 일그러진 면면이다. 『아름다움의 선』에서 “요새 새로 명성을 누리기 시작한 우익의 잘생긴 늙다리 파충류”(335면)로 묘사된 데니스 벡위스가 주인공 윌의 할아버지라는 연결점은 이미 『아름다움의 선』을 읽은 독자들에게 색다른 재미를 줄 것이다. 제목 ‘수영장 도서관’은 사춘기 소년 윌이 최초로 성적 호기심을 만족시킨 장소를 이르던 은어이다. 학창 시절의 풋풋한 욕망을 상징하는 수영장 도서관은 이후 소설 속에서 윌이 거의 매일 드나드는 클럽 코리의 수영장으로, 찰스의 집 지하에 있는 로마 시대 목욕탕으로 변주되며 다양한 욕망의 장소로 드러난다. 『아름다움의 선』이 1983년 당대를 배경으로 한다면 『수영장 도서관』은 폭을 넓혀 제국주의 시대 영국과 1983년 현재를 교차하며 짜낸 사회적 풍경화다. 또한 무모한 젊음의 빛나는 허랑함이 현실에 부딪혀 스스로의 껍질을 부수고 “나 같은 사람들과의 연대의식”(382면)을 느끼는 지점으로 나아가는 한 개인의 성장기이기도 하다. 주인공 윌과 찰스는 출신 학교와 성정체성, 사회적 지위 같은 많은 공통점에도 불구하고 시대의 차이로 인해 살아온 모습이 뚜렷이 다르다. 이는 곧 20세기 영국(뿐만 아니라 대부분의 나라)에서 성소수자들이 당해온 부당한 폭력의 역사이기도 하다.', mimetype='text/plain', start_char_idx=2324, end_char_idx=3309, metadata_seperator='\\n', text_template='{metadata_str}\\n\\n{content}'), score=0.20608156068663436)],\n",
       " ('2. 프랭키가 싫어하는 캐릭터나 인물',\n",
       "  1): [NodeWithScore(node=TextNode(id_='b8437534-f0a0-44c8-b7ef-e6e181f00cc4', embedding=None, metadata={}, excluded_embed_metadata_keys=[], excluded_llm_metadata_keys=[], relationships={<NodeRelationship.SOURCE: '1'>: RelatedNodeInfo(node_id='acdf6378-4163-4262-8122-d0c9e6929ed4', node_type='4', metadata={}, hash='d5a6164e0c16699cf253f8507e745c02c3ddab492335df44f5f482b6a255ec07'), <NodeRelationship.PREVIOUS: '2'>: RelatedNodeInfo(node_id='950adbf8-e1d0-4ce9-bfb7-6b9a3d0a2406', node_type='1', metadata={}, hash='3a430b3c1a75145df544084906da1e4e89d9e13bd45904e65a7fb79db89fecfe')}, metadata_template='{key}: {value}', metadata_separator='\\n', text=\"그리고 누가 짧은 답변에 관심이 있습니까? 해외 유학 그리고 미국의 고등교육 기관, 대학교의 유학을 꿈꾸고 있는 분들을 위한 최적의 정보 사이트입니다! 저희 Study in the USA는 국제 학생들을 위한 최고의 유학 안내 사이트입니다. 'Study in the USA'는 지난 40년 넘게, 국제 학생들과 교육의 기회를 공유해 오고 있습니다. 우리는 오직 우수한 교육을 제공하는 고등 교육기관, 인증된 어학 연수원, 대학교 및 명성있는 교육기관들과 협업하고 있습니다. 저희 검색 툴을 활용하시면 자신에게 맞는 학교를 쉽게 검색할 수 있습니다. 학비, 위치, 전공별로 검색하여 비교해 볼 수 있습니다. 해외 유학 준비는 매우 신나는 일이지만 때로는 힘든 일이 될 수도 있습니다. 저희 사이트에 수록된 학교 소개 정보, 동영상, 블로그 등을 읽어보고 실제 유학생들의 경험을 확인하며, 유학 준비를 시작하세요. 저희 Study in the USA의 전문가들이 여러분의 유학 여정을 안내해 드릴 것입니다.\", mimetype='text/plain', start_char_idx=1655, end_char_idx=2160, metadata_seperator='\\n', text_template='{metadata_str}\\n\\n{content}'), score=2.3834786415100098), NodeWithScore(node=TextNode(id_='a543faee-4513-4b69-b906-7d0fd2a1379d', embedding=None, metadata={}, excluded_embed_metadata_keys=[], excluded_llm_metadata_keys=[], relationships={<NodeRelationship.SOURCE: '1'>: RelatedNodeInfo(node_id='48062a13-cb31-4e3a-ab9d-cb028964b2e1', node_type='4', metadata={}, hash='a2de9c1d38d186bdcba0043fd951159cb8114323ec0a643f2f992e3f7296f3e3'), <NodeRelationship.PREVIOUS: '2'>: RelatedNodeInfo(node_id='81d08e13-0aa4-4013-a1b3-1a49c810b7f8', node_type='1', metadata={}, hash='be5e455e5af040b9fdabe36bad995406be674494c04229295eb96342046ccc69'), <NodeRelationship.NEXT: '3'>: RelatedNodeInfo(node_id='1e5eaf9e-fac0-419c-8176-f52d92141c0a', node_type='1', metadata={}, hash='9d4e9b8753dce1eb2d54609e4a5b41eabfa5c9dd06585824e06bd704b2aae314')}, metadata_template='{key}: {value}', metadata_separator='\\n', text='근로계약서 서면으로 교부하지 않고 최저임금보다 낮은 급여 지급한 사안에서 벌금형 선고한 사례☞ 춘천지법 2016-5-3 선고 2016고정2 판결☞ 사건명 : 최저임금법위반, 근로기준법위반☞ 원심판결 : 판시사항재판요지당사자【피고인】 A【검 사】 정○○(기소), 원○○(공판)주문피고인을 벌금 1,000,000원에 처한다.피고인이 위 벌금을 납입하지 아니하는 경우 100,000원을 1일.. 가전제품 AS업체와 대행계약을 체결한 수리기사들의 근로자성을 인정한 사례☞ 서울고법 2016-4-1 선고 2013나2031913 판결☞ 사건명 : 퇴직금등☞ 원심판결 : 판시사항재판요지수리기사의 업무 수행 건수는 회사의 배정에 따라 정해져 기사들이 독자적으로 거래처나 고객을 개척할 수 없었고, 회사가 기사들의 근무시간과 장소를 지정하고 각종 근무태도와 관련된 지침을 통.. 고용형태는 차별 처우 금지 이유로 정한 ‘사회적 신분’에 해당하므로 무기계약직에 대한 임금 차별은 근기법 위반☞ 서울남부지법 2016-6-10 선고 2014가합3505 판결☞ 사건명 : 임금☞ 원심판결 : 판시사항재판요지당사자【원 고】 별지 기재와 같다.【피 고】 주식회사 ○○방송【변론종결】 2016. 4. 29.주문1. 피고는 가.', mimetype='text/plain', start_char_idx=7839, end_char_idx=8454, metadata_seperator='\\n', text_template='{metadata_str}\\n\\n{content}'), score=1.3890924453735352)],\n",
       " ('3. 프랭키의 팬층 분석',\n",
       "  2): [NodeWithScore(node=TextNode(id_='1411cc3f-000c-4e0a-8097-35432e066024', embedding=None, metadata={}, excluded_embed_metadata_keys=[], excluded_llm_metadata_keys=[], relationships={<NodeRelationship.SOURCE: '1'>: RelatedNodeInfo(node_id='0644933e-5cad-4f84-8da0-56662d75181b', node_type='4', metadata={}, hash='abb2bbcf7b87f2b88e8d0705c999c7cae6f603d6abcca99da6df938ea56c8d17'), <NodeRelationship.PREVIOUS: '2'>: RelatedNodeInfo(node_id='f74593c0-7ccd-4d0a-b4b8-29ea91520513', node_type='1', metadata={}, hash='afb22e509851281e67bb9a6fa75623623331a63ccd47b4b66fb627293bdaff0b')}, metadata_template='{key}: {value}', metadata_separator='\\n', text='레고 부스트를 만난 지 2달 정도 되었는데 생각보다 아이들이 잘 따라 만들고 너무 좋아합니다. 직접 움직임을 줄 수 있다는 게 성취감을 높여주는 것 같더라구요. 레고는 모든 아이들이 좋아하는 브릭이기도 하구요. 또 아이와 함께 만들다 보면 자연스럽게 아이들과 더 교감하게 되기도 하구요. 프랭키는 가상의 고양이이지만 애교도 부리고 먹이도 먹는 등 다양한 교감 활동을 할 수 있는데, 단순히 움직이는 코딩이 아니라 교감능력까지 함께 높여줄 수 있는 것 같아서 좋습니다. 특히나 여자아이들이라면 더 좋아할 것 같네요. 애교 많은 재롱둥이 프랭키와 함께 아이들의 상상력과 창의력을 키워 보세요.', mimetype='text/plain', start_char_idx=2475, end_char_idx=2804, metadata_seperator='\\n', text_template='{metadata_str}\\n\\n{content}'), score=0.3706056698486684), NodeWithScore(node=TextNode(id_='f74593c0-7ccd-4d0a-b4b8-29ea91520513', embedding=None, metadata={}, excluded_embed_metadata_keys=[], excluded_llm_metadata_keys=[], relationships={<NodeRelationship.SOURCE: '1'>: RelatedNodeInfo(node_id='0644933e-5cad-4f84-8da0-56662d75181b', node_type='4', metadata={}, hash='abb2bbcf7b87f2b88e8d0705c999c7cae6f603d6abcca99da6df938ea56c8d17'), <NodeRelationship.PREVIOUS: '2'>: RelatedNodeInfo(node_id='ad6d4d33-ddca-4dbc-aaab-e6670de8a95e', node_type='1', metadata={}, hash='d9ec9a935da460ea94a4de547f4de1a7dad18105a507cca3b85115b6346be7d3'), <NodeRelationship.NEXT: '3'>: RelatedNodeInfo(node_id='1411cc3f-000c-4e0a-8097-35432e066024', node_type='1', metadata={}, hash='f580ee1448514e3e41335d9188ed71640372ad21d372e1adcda528f69ce878f0')}, metadata_template='{key}: {value}', metadata_separator='\\n', text='거리와 색상을 통해 자신이 해야 할 일을 판단하는 거죠. 간단하게 1~2 단계 움직이는 모습을 영상으로 담아 봤는데요. 고양이 울음소리를 내고 감정을 표현하는 게 영락없는 고양이입니다. 맨날 싸우는 우리 아이들이지만 레고 부스트를 만드는 시간만큼은 세상 둘도 없는 오누이입니다. 둘째는 자기가 만들지 못할 것을 아니까 구경하면서 응원하고 첫째가 열심히 만들죠. 지난번에도 그러더니 꼭 친한 척을 하네요. 짠 ~ 다리까지 모두 완성된 프랭키입니다. 귀엽죠? 나름 리본도 매달고 있습니다. 울 따님은 너무 귀엽다며 계속 이방 저방 데리고 다니고 있습니다. 기다란 꼬리를 가지고 있는데, 꼬리까지 살랑살랑 흔들면서 진짜 고양이처럼 교감합니다. 좀 인공적이긴 하지만 애완동물로 손색없네요. 3단계는 케이크 불을 끄고 생일 축하 노래를 부르는데요. 고양이가 부르는 생일 축하 노래 궁금하지 않으세요? 영상을 통해 만나볼 수 있는데, 너무 귀엽네요. 간단히 코딩을 통해 앉아 일어서와 같은 움직임을 주거나 감정 표현을 하게 할 수 있습니다. 기분 좋을 때나 놀랐을 때 혹은 화날 때 각각 다른 울음 소릴 내주는 게 참 디테일하더라구요. 하나의 섹션이 끝나면 응용 섹션으로 넘어갈 수 있는데, 다음에는 하모니카 불기와 노래하기 등의 응용동작 입니다. 스텝을 밟아 가면서 조금 더 복잡하고 응용할 수 있는 동작을 익히고 활용하면서 코딩 교육이 되는 거죠. 물론 프리 모드도 제공돼서 정해진 룰이 아니라 자신만의 룰을 만들어 볼 수도 있습니다. 자신의 목소리를 녹음해서 나오게 할 수도 있는데, 음성을 변조할 수도 있으니 아이들이 너무 좋아 하더라구요. 레고 부스트를 만난 지 2달 정도 되었는데 생각보다 아이들이 잘 따라 만들고 너무 좋아합니다. 직접 움직임을 줄 수 있다는 게 성취감을 높여주는 것 같더라구요. 레고는 모든 아이들이 좋아하는 브릭이기도 하구요. 또 아이와 함께 만들다 보면 자연스럽게 아이들과 더 교감하게 되기도 하구요.', mimetype='text/plain', start_char_idx=1670, end_char_idx=2635, metadata_seperator='\\n', text_template='{metadata_str}\\n\\n{content}'), score=0.27504374238756274)],\n",
       " ('4. 프랭키가 누구에게 인기가 있는가?',\n",
       "  3): [NodeWithScore(node=TextNode(id_='e3362d74-ec56-40d0-b13f-f59a27ae45fc', embedding=None, metadata={}, excluded_embed_metadata_keys=[], excluded_llm_metadata_keys=[], relationships={<NodeRelationship.SOURCE: '1'>: RelatedNodeInfo(node_id='905ad62d-2c56-46f1-8ff8-47906b3247cd', node_type='4', metadata={}, hash='80833157745dc9b73a84e6fab31f05117a01a09ea5918cc87cceaa8aec33e3d4'), <NodeRelationship.PREVIOUS: '2'>: RelatedNodeInfo(node_id='538e09df-741b-4d16-8272-e0343d3a294b', node_type='1', metadata={}, hash='779114c74adfef0b4672a2fcac8f70e04b06033b90b718932b014c31a10e4ca0')}, metadata_template='{key}: {value}', metadata_separator='\\n', text='이는 국민들을 우롱한 처사라고 밖에 보여지지 않습니다. 많은 국민들은 ‘이젠 끝났구나’ 싶었을 것입니다. 심지어 이명박 대통령은 이토록 허술하게 진행한 사업을 두고 ‘옳은 일은 반대가 있어도 해야’ 한다거나 ‘4대강으로 폭우 피해 없어, 국민 깨닫기 시작’했다라는 등 무책임한 말까지 쏟아내고 있습니다. 자신의 무책임한 사업 추진 때문에 국민들은 이제 목숨을 내놓아야 하는 불안한 처지에 놓이게 되었고, 세계적으로 명성을 날리는 국내 유수의 건설사들은 본의 아니게 부실시공의 불명예를 떠안게 되었습니다. 그것도 21세기에 말입니다. 토목공학 전문가들은 정부에서 주장하는 ‘물 비침 현상’이라는 말은 그들이 만들어낸 신조어에 불과하며 ‘누수’가 정확한 표현이라고 말합니다. 그리고 철근 콘크리트 보강 등 근본적인 원인 해결은 이제 불가능하므로 틈이 더 벌어질 것은 자명하다고 합니다. 한국시설안전공단에서 진행한 안전진단은 비파괴검사로써 내부의 구조적인 취약성까지는 파악할 수 없다고 말합니다. 좀 더 정확한 판단을 위해서는 ‘3차원 구조 해석’을 통한 정밀안전진단을 실시해야만 누수의 원인과 댐의 안전성을 알 수 있다고 합니다. 며칠 전 상주댐에서 물이 샌다는 기사를 쓸 때만해도 ‘다른 댐들도 충분히 그럴 수 있다’고 예측했습니다. 똑같은 겨울철에 분할식 타설공법을 썼기 때문입니다. 아니나 다를까 거의 모든 댐에서 같은 현상이 일어나고 있고, 붕괴 위험도 함께 가지고 있는 것입니다. 이는 어느 한 댐이 무너졌을 경우 연쇄적으로 더욱 더 쉽게 무너질 수 있다는 것을 뜻하며 긴급한 상황이 아닐 수 없습니다.', mimetype='text/plain', start_char_idx=1535, end_char_idx=2323, metadata_seperator='\\n', text_template='{metadata_str}\\n\\n{content}'), score=0.0), NodeWithScore(node=TextNode(id_='8725dc66-06f5-4eb4-884b-173557d72f38', embedding=None, metadata={}, excluded_embed_metadata_keys=[], excluded_llm_metadata_keys=[], relationships={<NodeRelationship.SOURCE: '1'>: RelatedNodeInfo(node_id='a73d5e13-8f9a-49dc-890d-2157e585da9c', node_type='4', metadata={}, hash='9c5e4a1f7d5d56b080d27196f48ec478a1a547196603363a4f77e0ae8dd0b653'), <NodeRelationship.PREVIOUS: '2'>: RelatedNodeInfo(node_id='c37f2993-3087-4111-ae71-bc89711032fb', node_type='1', metadata={}, hash='28463802f09877b8e8500feb79efdf8c424ef47fe1c554b31de97eacce658307'), <NodeRelationship.NEXT: '3'>: RelatedNodeInfo(node_id='977773ab-a991-4194-aece-5623f87ec71a', node_type='1', metadata={}, hash='227186f9dfa393478ad81944cf92b644ba7197478e6b7a64003c73ae4181463b')}, metadata_template='{key}: {value}', metadata_separator='\\n', text='물류 시장의 경우 수도권 A급 물류 시장의 평균 임대료가 지난 하반기 대비 약 0.4%, 지난해 동기 대비 약 1.5% 증가한 것으로 조사됐다. 임대료 프리미엄이 있는 자산의 공급과 안정적인 임차 수요를 바탕으로 수도권 A급 물류 시장의 평균 임대료는 완만한 상승세를 지속하고 있는 것으로 분석됐다. 최수혜 CBRE코리아 리서치 부문 이사는 “하반기 금리 인상 가능성이 높아지는 가운데 올해 2분기 기준 서울 A급 오피스 평균 수익률은 3.9% 수준을 유지했다”며 “배송 속도에 민감한 이커머스 및 라스트마일 저온 수요 선호도를 바탕으로 김포 지역의 물류 자산이 견고한 수요를 보이면서 2분기 수도권 A급 물류 자산의 평균 수익률은 전 분기 대비 소폭 하락한 4.4%를 기록했다”고 말했다. 2분기 기준 서울 평균 공실률은 전 분기 대비 1.9% 포인트 하락한 9.1%를 기록했다. 도심권역은 D타워 돈의문, 케이스퀘어시티 등을 중심으로 금융사의 지속적인 이전 수요가 확인됐으며, 강남권역은 전 분기 신규 공급된 센터필드 내 게임사 크래프톤 이전이 완료돼 공실률 하락이 관찰됐다. 여의도권역은 전 분기에 이어 파크원, 포스트타워 등에 국내외 제약·바이오 및 금융사의 ‘플라이트 투 퀄리티(Flight to Quality·대형/신규 자산으로의 이전)’ 이전 수요가 집중된 것으로 나타났다. 2분기 서울 평균 실질 임대료는 제곱미터(㎡)당 2만2671원으로 전 분기 대비 보합세를 보였다. 통계청 자료에 따르면 코로나19 지속에도 지난 1분기 국내 소매 판매액은 93조8000억원을 기록하며 지난해 동기 대비 6.9% 증가했다. 코로나19 장기화로 축적된 경제력을 바탕으로 선택적 소비를 하는 트렌드가 강화하면서 글로벌 명품 브랜드 구찌의 한남동 플래그십 스토어 오픈, 백화점 업계의 명품 전용관 리뉴얼 등 명품 소비 트렌드를 바탕으로 매출 극대화를 모색하는 모습이 나타났다.', mimetype='text/plain', start_char_idx=759, end_char_idx=1695, metadata_seperator='\\n', text_template='{metadata_str}\\n\\n{content}'), score=0.0)]}"
      ]
     },
     "execution_count": 14,
     "metadata": {},
     "output_type": "execute_result"
    }
   ],
   "source": [
    "results_dict"
   ]
  },
  {
   "cell_type": "code",
   "execution_count": 15,
   "metadata": {
    "executionInfo": {
     "elapsed": 480,
     "status": "ok",
     "timestamp": 1722524982381,
     "user": {
      "displayName": "한두솔",
      "userId": "14744311692633150263"
     },
     "user_tz": -540
    },
    "id": "YdHPcDeQZWQS"
   },
   "outputs": [],
   "source": [
    "from typing import List\n",
    "from llama_index.core.schema import NodeWithScore\n",
    "\n",
    "# 여러 Retriever 메서드 사용했기 때문에 결과 퓨전 필요\n",
    "# 기본적인 rrf 사용\n",
    "def fuse_results(results_dict, similarity_top_k: int = 2):\n",
    "    \"\"\"Fuse results.\"\"\"\n",
    "    k = 60.0\n",
    "    fused_scores = {}\n",
    "    text_to_node = {}\n",
    "\n",
    "    for nodes_with_scores in results_dict.values():\n",
    "        for rank, node_with_score in enumerate(\n",
    "            sorted(\n",
    "                nodes_with_scores, key=lambda x: x.score or 0.0, reverse=True\n",
    "            )\n",
    "        ):\n",
    "            text = node_with_score.node.get_content()\n",
    "            text_to_node[text] = node_with_score\n",
    "            if text not in fused_scores:\n",
    "                fused_scores[text] = 0.0\n",
    "            fused_scores[text] += 1.0 / (rank + k)\n",
    "\n",
    "    # fusion 스코어 기반 소팅\n",
    "    reranked_results = dict(\n",
    "        sorted(fused_scores.items(), key=lambda x: x[1], reverse=True)\n",
    "    )\n",
    "    reranked_nodes: List[NodeWithScore] = []\n",
    "    for text, score in reranked_results.items():\n",
    "        reranked_nodes.append(text_to_node[text])\n",
    "        reranked_nodes[-1].score = score\n",
    "\n",
    "    return reranked_nodes[:similarity_top_k]"
   ]
  },
  {
   "cell_type": "code",
   "execution_count": 16,
   "metadata": {
    "executionInfo": {
     "elapsed": 473,
     "status": "ok",
     "timestamp": 1722524985272,
     "user": {
      "displayName": "한두솔",
      "userId": "14744311692633150263"
     },
     "user_tz": -540
    },
    "id": "bU6pmp5QZWQT"
   },
   "outputs": [],
   "source": [
    "final_results = fuse_results(results_dict)"
   ]
  },
  {
   "cell_type": "code",
   "execution_count": 17,
   "metadata": {
    "colab": {
     "base_uri": "https://localhost:8080/"
    },
    "executionInfo": {
     "elapsed": 501,
     "status": "ok",
     "timestamp": 1722525001809,
     "user": {
      "displayName": "한두솔",
      "userId": "14744311692633150263"
     },
     "user_tz": -540
    },
    "id": "lJEb16wBZWQT",
    "outputId": "f44bef9f-b6f3-4928-b46e-2dc44e855f9b"
   },
   "outputs": [
    {
     "name": "stdout",
     "output_type": "stream",
     "text": [
      "0.03333333333333333 \n",
      " 레고 부스트를 만난 지 2달 정도 되었는데 생각보다 아이들이 잘 따라 만들고 너무 좋아합니다. 직접 움직임을 줄 수 있다는 게 성취감을 높여주는 것 같더라구요. 레고는 모든 아이들이 좋아하는 브릭이기도 하구요. 또 아이와 함께 만들다 보면 자연스럽게 아이들과 더 교감하게 되기도 하구요. 프랭키는 가상의 고양이이지만 애교도 부리고 먹이도 먹는 등 다양한 교감 활동을 할 수 있는데, 단순히 움직이는 코딩이 아니라 교감능력까지 함께 높여줄 수 있는 것 같아서 좋습니다. 특히나 여자아이들이라면 더 좋아할 것 같네요. 애교 많은 재롱둥이 프랭키와 함께 아이들의 상상력과 창의력을 키워 보세요. \n",
      "********\n",
      "\n",
      "0.016666666666666666 \n",
      " 그리고 누가 짧은 답변에 관심이 있습니까? 해외 유학 그리고 미국의 고등교육 기관, 대학교의 유학을 꿈꾸고 있는 분들을 위한 최적의 정보 사이트입니다! 저희 Study in the USA는 국제 학생들을 위한 최고의 유학 안내 사이트입니다. 'Study in the USA'는 지난 40년 넘게, 국제 학생들과 교육의 기회를 공유해 오고 있습니다. 우리는 오직 우수한 교육을 제공하는 고등 교육기관, 인증된 어학 연수원, 대학교 및 명성있는 교육기관들과 협업하고 있습니다. 저희 검색 툴을 활용하시면 자신에게 맞는 학교를 쉽게 검색할 수 있습니다. 학비, 위치, 전공별로 검색하여 비교해 볼 수 있습니다. 해외 유학 준비는 매우 신나는 일이지만 때로는 힘든 일이 될 수도 있습니다. 저희 사이트에 수록된 학교 소개 정보, 동영상, 블로그 등을 읽어보고 실제 유학생들의 경험을 확인하며, 유학 준비를 시작하세요. 저희 Study in the USA의 전문가들이 여러분의 유학 여정을 안내해 드릴 것입니다. \n",
      "********\n",
      "\n"
     ]
    }
   ],
   "source": [
    "for n in final_results:\n",
    "    print(n.score, \"\\n\", n.text, \"\\n********\\n\")"
   ]
  },
  {
   "cell_type": "code",
   "execution_count": 18,
   "metadata": {
    "executionInfo": {
     "elapsed": 462,
     "status": "ok",
     "timestamp": 1722525179841,
     "user": {
      "displayName": "한두솔",
      "userId": "14744311692633150263"
     },
     "user_tz": -540
    },
    "id": "nufNyzU9ZWQT"
   },
   "outputs": [],
   "source": [
    "from typing import List\n",
    "\n",
    "from llama_index.core import QueryBundle\n",
    "from llama_index.core.retrievers import BaseRetriever\n",
    "from llama_index.core.schema import NodeWithScore\n",
    "import asyncio\n",
    "\n",
    "# 퓨전리트리버 클래스 정의\n",
    "class FusionRetriever(BaseRetriever):\n",
    "\n",
    "    def __init__(\n",
    "        self,\n",
    "        llm,\n",
    "        retrievers: List[BaseRetriever],\n",
    "        similarity_top_k: int = 2,\n",
    "    ) -> None:\n",
    "        \"\"\"Init params.\"\"\"\n",
    "        self._retrievers = retrievers\n",
    "        self._similarity_top_k = similarity_top_k\n",
    "        self._llm = llm\n",
    "        super().__init__()\n",
    "\n",
    "    def _retrieve(self, query_bundle: QueryBundle) -> List[NodeWithScore]:\n",
    "        \"\"\"Retrieve.\"\"\"\n",
    "        queries = generate_queries(\n",
    "            self._llm, query_bundle.query_str, num_queries=4\n",
    "        )\n",
    "        results = asyncio.run(run_queries(queries, self._retrievers))\n",
    "        final_results = fuse_results(\n",
    "            results, similarity_top_k=self._similarity_top_k\n",
    "        )\n",
    "\n",
    "        return final_results"
   ]
  },
  {
   "cell_type": "code",
   "execution_count": 19,
   "metadata": {
    "executionInfo": {
     "elapsed": 799,
     "status": "ok",
     "timestamp": 1722525200254,
     "user": {
      "displayName": "한두솔",
      "userId": "14744311692633150263"
     },
     "user_tz": -540
    },
    "id": "iWE9WKYUZWQU"
   },
   "outputs": [],
   "source": [
    "from llama_index.core.query_engine import RetrieverQueryEngine\n",
    "\n",
    "fusion_retriever = FusionRetriever(\n",
    "    llm, [vector_retriever, bm25_retriever], similarity_top_k=2\n",
    ")\n",
    "# 퓨전리트리버를 쿼리엔진으로 사용\n",
    "query_engine = RetrieverQueryEngine(fusion_retriever)"
   ]
  },
  {
   "cell_type": "code",
   "execution_count": 20,
   "metadata": {
    "executionInfo": {
     "elapsed": 3,
     "status": "ok",
     "timestamp": 1722525202317,
     "user": {
      "displayName": "한두솔",
      "userId": "14744311692633150263"
     },
     "user_tz": -540
    },
    "id": "rTQFGhRvZWQU"
   },
   "outputs": [],
   "source": [
    "query_str=\"프랭키가 누구한테 인기가 없을까?\""
   ]
  },
  {
   "cell_type": "code",
   "execution_count": 21,
   "metadata": {
    "executionInfo": {
     "elapsed": 2129,
     "status": "ok",
     "timestamp": 1722525207252,
     "user": {
      "displayName": "한두솔",
      "userId": "14744311692633150263"
     },
     "user_tz": -540
    },
    "id": "VGpN4RW0ZWQV"
   },
   "outputs": [
    {
     "name": "stdout",
     "output_type": "stream",
     "text": [
      "INFO:httpx:HTTP Request: POST https://api.openai.com/v1/embeddings \"HTTP/1.1 200 OK\"\n",
      "HTTP Request: POST https://api.openai.com/v1/embeddings \"HTTP/1.1 200 OK\"\n",
      "INFO:httpx:HTTP Request: POST https://api.openai.com/v1/chat/completions \"HTTP/1.1 200 OK\"\n",
      "HTTP Request: POST https://api.openai.com/v1/chat/completions \"HTTP/1.1 200 OK\"\n"
     ]
    }
   ],
   "source": [
    "#naive\n",
    "naive_query_engine = index.as_query_engine()\n",
    "response = naive_query_engine.query(query_str)\n"
   ]
  },
  {
   "cell_type": "code",
   "execution_count": 22,
   "metadata": {
    "colab": {
     "base_uri": "https://localhost:8080/"
    },
    "executionInfo": {
     "elapsed": 495,
     "status": "ok",
     "timestamp": 1722525210746,
     "user": {
      "displayName": "한두솔",
      "userId": "14744311692633150263"
     },
     "user_tz": -540
    },
    "id": "on--eqWqZWQV",
    "outputId": "0120b16a-b208-4527-a007-82f4f158ab35"
   },
   "outputs": [
    {
     "name": "stdout",
     "output_type": "stream",
     "text": [
      "프랭키는 일본 축구에 대한 한국인의 비판적인 시각 속에서 인기가 없을 것으로 보인다. 한국에서 일본 축구에 대한 사실과 다른 인식이 존재하며, 이는 한국인들 사이에서 일본에 대한 열등감과 반일 감정이 고조되고 있는 상황과 관련이 있다.\n"
     ]
    }
   ],
   "source": [
    "print(str(response))"
   ]
  },
  {
   "cell_type": "code",
   "execution_count": 23,
   "metadata": {
    "colab": {
     "base_uri": "https://localhost:8080/"
    },
    "executionInfo": {
     "elapsed": 3523,
     "status": "ok",
     "timestamp": 1722525221004,
     "user": {
      "displayName": "한두솔",
      "userId": "14744311692633150263"
     },
     "user_tz": -540
    },
    "id": "484qwyeqZWQV",
    "outputId": "a3cd3b92-4291-42e7-b81e-61196b20bcc2"
   },
   "outputs": [
    {
     "name": "stdout",
     "output_type": "stream",
     "text": [
      "INFO:httpx:HTTP Request: POST https://api.openai.com/v1/chat/completions \"HTTP/1.1 200 OK\"\n",
      "HTTP Request: POST https://api.openai.com/v1/chat/completions \"HTTP/1.1 200 OK\"\n",
      "Generated queries:\n",
      "1. 프랭키의 인기와 관련된 정보\n",
      "2. 프랭키가 등장하는 작품에서의 캐릭터 평가\n",
      "3. 프랭키에 대한 팬들의 반응과 의견\n",
      "4. 프랭키가 인기 있는 캐릭터가 아닌 이유는 무엇인가?\n"
     ]
    },
    {
     "name": "stderr",
     "output_type": "stream",
     "text": [
      "  0%|          | 0/8 [00:00<?, ?it/s]"
     ]
    },
    {
     "name": "stdout",
     "output_type": "stream",
     "text": [
      "INFO:httpx:HTTP Request: POST https://api.openai.com/v1/embeddings \"HTTP/1.1 200 OK\"\n",
      "HTTP Request: POST https://api.openai.com/v1/embeddings \"HTTP/1.1 200 OK\"\n"
     ]
    },
    {
     "name": "stderr",
     "output_type": "stream",
     "text": [
      " 62%|██████▎   | 5/8 [00:00<00:00, 12.87it/s]"
     ]
    },
    {
     "name": "stdout",
     "output_type": "stream",
     "text": [
      "INFO:httpx:HTTP Request: POST https://api.openai.com/v1/embeddings \"HTTP/1.1 200 OK\"\n",
      "HTTP Request: POST https://api.openai.com/v1/embeddings \"HTTP/1.1 200 OK\"\n",
      "INFO:httpx:HTTP Request: POST https://api.openai.com/v1/embeddings \"HTTP/1.1 200 OK\"\n",
      "HTTP Request: POST https://api.openai.com/v1/embeddings \"HTTP/1.1 200 OK\"\n"
     ]
    },
    {
     "name": "stderr",
     "output_type": "stream",
     "text": [
      " 88%|████████▊ | 7/8 [00:01<00:00,  6.10it/s]"
     ]
    },
    {
     "name": "stdout",
     "output_type": "stream",
     "text": [
      "INFO:httpx:HTTP Request: POST https://api.openai.com/v1/embeddings \"HTTP/1.1 200 OK\"\n",
      "HTTP Request: POST https://api.openai.com/v1/embeddings \"HTTP/1.1 200 OK\"\n"
     ]
    },
    {
     "name": "stderr",
     "output_type": "stream",
     "text": [
      "100%|██████████| 8/8 [00:01<00:00,  6.58it/s]\n"
     ]
    },
    {
     "name": "stdout",
     "output_type": "stream",
     "text": [
      "INFO:httpx:HTTP Request: POST https://api.openai.com/v1/chat/completions \"HTTP/1.1 200 OK\"\n",
      "HTTP Request: POST https://api.openai.com/v1/chat/completions \"HTTP/1.1 200 OK\"\n"
     ]
    }
   ],
   "source": [
    "response2 = query_engine.query(query_str)"
   ]
  },
  {
   "cell_type": "code",
   "execution_count": 24,
   "metadata": {
    "colab": {
     "base_uri": "https://localhost:8080/"
    },
    "executionInfo": {
     "elapsed": 489,
     "status": "ok",
     "timestamp": 1722525224271,
     "user": {
      "displayName": "한두솔",
      "userId": "14744311692633150263"
     },
     "user_tz": -540
    },
    "id": "9GG4mkCXZWQW",
    "outputId": "675226a7-7705-41c2-89c7-7a99c7e182b7"
   },
   "outputs": [
    {
     "name": "stdout",
     "output_type": "stream",
     "text": [
      "프랭키는 특히 남자아이들에게 인기가 없을 것 같습니다.\n"
     ]
    }
   ],
   "source": [
    "print(str(response2))"
   ]
  },
  {
   "cell_type": "code",
   "execution_count": null,
   "metadata": {
    "id": "0pV2yI9bZWQW"
   },
   "outputs": [],
   "source": []
  }
 ],
 "metadata": {
  "colab": {
   "provenance": []
  },
  "kernelspec": {
   "display_name": ".venv",
   "language": "python",
   "name": "python3"
  },
  "language_info": {
   "codemirror_mode": {
    "name": "ipython",
    "version": 3
   },
   "file_extension": ".py",
   "mimetype": "text/x-python",
   "name": "python",
   "nbconvert_exporter": "python",
   "pygments_lexer": "ipython3",
   "version": "3.11.6"
  },
  "widgets": {
   "application/vnd.jupyter.widget-state+json": {
    "00f9a1e149bc4deaa045955347bda94e": {
     "model_module": "@jupyter-widgets/controls",
     "model_module_version": "1.5.0",
     "model_name": "DescriptionStyleModel",
     "state": {
      "_model_module": "@jupyter-widgets/controls",
      "_model_module_version": "1.5.0",
      "_model_name": "DescriptionStyleModel",
      "_view_count": null,
      "_view_module": "@jupyter-widgets/base",
      "_view_module_version": "1.2.0",
      "_view_name": "StyleView",
      "description_width": ""
     }
    },
    "0b06abdaffb8440d9d5b8495a534bbef": {
     "model_module": "@jupyter-widgets/controls",
     "model_module_version": "1.5.0",
     "model_name": "HTMLModel",
     "state": {
      "_dom_classes": [],
      "_model_module": "@jupyter-widgets/controls",
      "_model_module_version": "1.5.0",
      "_model_name": "HTMLModel",
      "_view_count": null,
      "_view_module": "@jupyter-widgets/controls",
      "_view_module_version": "1.5.0",
      "_view_name": "HTMLView",
      "description": "",
      "description_tooltip": null,
      "layout": "IPY_MODEL_dcab2b379bb94b3499d265a518736186",
      "placeholder": "​",
      "style": "IPY_MODEL_e67ecd5780fe4d64843c3407b94fa0a4",
      "value": " 18/18 [00:00&lt;00:00, 522.65it/s]"
     }
    },
    "0e86965ec8b34acbb0a82a01f39dfebf": {
     "model_module": "@jupyter-widgets/base",
     "model_module_version": "1.2.0",
     "model_name": "LayoutModel",
     "state": {
      "_model_module": "@jupyter-widgets/base",
      "_model_module_version": "1.2.0",
      "_model_name": "LayoutModel",
      "_view_count": null,
      "_view_module": "@jupyter-widgets/base",
      "_view_module_version": "1.2.0",
      "_view_name": "LayoutView",
      "align_content": null,
      "align_items": null,
      "align_self": null,
      "border": null,
      "bottom": null,
      "display": null,
      "flex": null,
      "flex_flow": null,
      "grid_area": null,
      "grid_auto_columns": null,
      "grid_auto_flow": null,
      "grid_auto_rows": null,
      "grid_column": null,
      "grid_gap": null,
      "grid_row": null,
      "grid_template_areas": null,
      "grid_template_columns": null,
      "grid_template_rows": null,
      "height": null,
      "justify_content": null,
      "justify_items": null,
      "left": null,
      "margin": null,
      "max_height": null,
      "max_width": null,
      "min_height": null,
      "min_width": null,
      "object_fit": null,
      "object_position": null,
      "order": null,
      "overflow": null,
      "overflow_x": null,
      "overflow_y": null,
      "padding": null,
      "right": null,
      "top": null,
      "visibility": null,
      "width": null
     }
    },
    "0e8aa1b32e87452aa7a844fc73787ab2": {
     "model_module": "@jupyter-widgets/controls",
     "model_module_version": "1.5.0",
     "model_name": "ProgressStyleModel",
     "state": {
      "_model_module": "@jupyter-widgets/controls",
      "_model_module_version": "1.5.0",
      "_model_name": "ProgressStyleModel",
      "_view_count": null,
      "_view_module": "@jupyter-widgets/base",
      "_view_module_version": "1.2.0",
      "_view_name": "StyleView",
      "bar_color": null,
      "description_width": ""
     }
    },
    "16b5e5c0e38a4488b3c4fb6a6f69914a": {
     "model_module": "@jupyter-widgets/base",
     "model_module_version": "1.2.0",
     "model_name": "LayoutModel",
     "state": {
      "_model_module": "@jupyter-widgets/base",
      "_model_module_version": "1.2.0",
      "_model_name": "LayoutModel",
      "_view_count": null,
      "_view_module": "@jupyter-widgets/base",
      "_view_module_version": "1.2.0",
      "_view_name": "LayoutView",
      "align_content": null,
      "align_items": null,
      "align_self": null,
      "border": null,
      "bottom": null,
      "display": null,
      "flex": null,
      "flex_flow": null,
      "grid_area": null,
      "grid_auto_columns": null,
      "grid_auto_flow": null,
      "grid_auto_rows": null,
      "grid_column": null,
      "grid_gap": null,
      "grid_row": null,
      "grid_template_areas": null,
      "grid_template_columns": null,
      "grid_template_rows": null,
      "height": null,
      "justify_content": null,
      "justify_items": null,
      "left": null,
      "margin": null,
      "max_height": null,
      "max_width": null,
      "min_height": null,
      "min_width": null,
      "object_fit": null,
      "object_position": null,
      "order": null,
      "overflow": null,
      "overflow_x": null,
      "overflow_y": null,
      "padding": null,
      "right": null,
      "top": null,
      "visibility": null,
      "width": null
     }
    },
    "186918a22a09411e94580396be435dde": {
     "model_module": "@jupyter-widgets/controls",
     "model_module_version": "1.5.0",
     "model_name": "FloatProgressModel",
     "state": {
      "_dom_classes": [],
      "_model_module": "@jupyter-widgets/controls",
      "_model_module_version": "1.5.0",
      "_model_name": "FloatProgressModel",
      "_view_count": null,
      "_view_module": "@jupyter-widgets/controls",
      "_view_module_version": "1.5.0",
      "_view_name": "ProgressView",
      "bar_style": "success",
      "description": "",
      "description_tooltip": null,
      "layout": "IPY_MODEL_5ea0167ef82c4a31b48338fe9414bcad",
      "max": 3055,
      "min": 0,
      "orientation": "horizontal",
      "style": "IPY_MODEL_e2739920438f497a87a680e81a063922",
      "value": 3055
     }
    },
    "2009dfb093854fa899d86e7b1187fb33": {
     "model_module": "@jupyter-widgets/controls",
     "model_module_version": "1.5.0",
     "model_name": "ProgressStyleModel",
     "state": {
      "_model_module": "@jupyter-widgets/controls",
      "_model_module_version": "1.5.0",
      "_model_name": "ProgressStyleModel",
      "_view_count": null,
      "_view_module": "@jupyter-widgets/base",
      "_view_module_version": "1.2.0",
      "_view_name": "StyleView",
      "bar_color": null,
      "description_width": ""
     }
    },
    "217a4920934a4df78e0fec7e703c11f0": {
     "model_module": "@jupyter-widgets/base",
     "model_module_version": "1.2.0",
     "model_name": "LayoutModel",
     "state": {
      "_model_module": "@jupyter-widgets/base",
      "_model_module_version": "1.2.0",
      "_model_name": "LayoutModel",
      "_view_count": null,
      "_view_module": "@jupyter-widgets/base",
      "_view_module_version": "1.2.0",
      "_view_name": "LayoutView",
      "align_content": null,
      "align_items": null,
      "align_self": null,
      "border": null,
      "bottom": null,
      "display": null,
      "flex": null,
      "flex_flow": null,
      "grid_area": null,
      "grid_auto_columns": null,
      "grid_auto_flow": null,
      "grid_auto_rows": null,
      "grid_column": null,
      "grid_gap": null,
      "grid_row": null,
      "grid_template_areas": null,
      "grid_template_columns": null,
      "grid_template_rows": null,
      "height": null,
      "justify_content": null,
      "justify_items": null,
      "left": null,
      "margin": null,
      "max_height": null,
      "max_width": null,
      "min_height": null,
      "min_width": null,
      "object_fit": null,
      "object_position": null,
      "order": null,
      "overflow": null,
      "overflow_x": null,
      "overflow_y": null,
      "padding": null,
      "right": null,
      "top": null,
      "visibility": null,
      "width": null
     }
    },
    "2bfc8ecd42dc4958b6839f9cc6509668": {
     "model_module": "@jupyter-widgets/base",
     "model_module_version": "1.2.0",
     "model_name": "LayoutModel",
     "state": {
      "_model_module": "@jupyter-widgets/base",
      "_model_module_version": "1.2.0",
      "_model_name": "LayoutModel",
      "_view_count": null,
      "_view_module": "@jupyter-widgets/base",
      "_view_module_version": "1.2.0",
      "_view_name": "LayoutView",
      "align_content": null,
      "align_items": null,
      "align_self": null,
      "border": null,
      "bottom": null,
      "display": null,
      "flex": null,
      "flex_flow": null,
      "grid_area": null,
      "grid_auto_columns": null,
      "grid_auto_flow": null,
      "grid_auto_rows": null,
      "grid_column": null,
      "grid_gap": null,
      "grid_row": null,
      "grid_template_areas": null,
      "grid_template_columns": null,
      "grid_template_rows": null,
      "height": null,
      "justify_content": null,
      "justify_items": null,
      "left": null,
      "margin": null,
      "max_height": null,
      "max_width": null,
      "min_height": null,
      "min_width": null,
      "object_fit": null,
      "object_position": null,
      "order": null,
      "overflow": null,
      "overflow_x": null,
      "overflow_y": null,
      "padding": null,
      "right": null,
      "top": null,
      "visibility": null,
      "width": null
     }
    },
    "34063f699465444a898e69aeae058103": {
     "model_module": "@jupyter-widgets/base",
     "model_module_version": "1.2.0",
     "model_name": "LayoutModel",
     "state": {
      "_model_module": "@jupyter-widgets/base",
      "_model_module_version": "1.2.0",
      "_model_name": "LayoutModel",
      "_view_count": null,
      "_view_module": "@jupyter-widgets/base",
      "_view_module_version": "1.2.0",
      "_view_name": "LayoutView",
      "align_content": null,
      "align_items": null,
      "align_self": null,
      "border": null,
      "bottom": null,
      "display": null,
      "flex": null,
      "flex_flow": null,
      "grid_area": null,
      "grid_auto_columns": null,
      "grid_auto_flow": null,
      "grid_auto_rows": null,
      "grid_column": null,
      "grid_gap": null,
      "grid_row": null,
      "grid_template_areas": null,
      "grid_template_columns": null,
      "grid_template_rows": null,
      "height": null,
      "justify_content": null,
      "justify_items": null,
      "left": null,
      "margin": null,
      "max_height": null,
      "max_width": null,
      "min_height": null,
      "min_width": null,
      "object_fit": null,
      "object_position": null,
      "order": null,
      "overflow": null,
      "overflow_x": null,
      "overflow_y": null,
      "padding": null,
      "right": null,
      "top": null,
      "visibility": null,
      "width": null
     }
    },
    "410a5903071e4237b058fc91b726cdba": {
     "model_module": "@jupyter-widgets/base",
     "model_module_version": "1.2.0",
     "model_name": "LayoutModel",
     "state": {
      "_model_module": "@jupyter-widgets/base",
      "_model_module_version": "1.2.0",
      "_model_name": "LayoutModel",
      "_view_count": null,
      "_view_module": "@jupyter-widgets/base",
      "_view_module_version": "1.2.0",
      "_view_name": "LayoutView",
      "align_content": null,
      "align_items": null,
      "align_self": null,
      "border": null,
      "bottom": null,
      "display": null,
      "flex": null,
      "flex_flow": null,
      "grid_area": null,
      "grid_auto_columns": null,
      "grid_auto_flow": null,
      "grid_auto_rows": null,
      "grid_column": null,
      "grid_gap": null,
      "grid_row": null,
      "grid_template_areas": null,
      "grid_template_columns": null,
      "grid_template_rows": null,
      "height": null,
      "justify_content": null,
      "justify_items": null,
      "left": null,
      "margin": null,
      "max_height": null,
      "max_width": null,
      "min_height": null,
      "min_width": null,
      "object_fit": null,
      "object_position": null,
      "order": null,
      "overflow": null,
      "overflow_x": null,
      "overflow_y": null,
      "padding": null,
      "right": null,
      "top": null,
      "visibility": null,
      "width": null
     }
    },
    "470b21978abf4982aef32c0a39c89f42": {
     "model_module": "@jupyter-widgets/controls",
     "model_module_version": "1.5.0",
     "model_name": "HTMLModel",
     "state": {
      "_dom_classes": [],
      "_model_module": "@jupyter-widgets/controls",
      "_model_module_version": "1.5.0",
      "_model_name": "HTMLModel",
      "_view_count": null,
      "_view_module": "@jupyter-widgets/controls",
      "_view_module_version": "1.5.0",
      "_view_name": "HTMLView",
      "description": "",
      "description_tooltip": null,
      "layout": "IPY_MODEL_8084ad251f6949af90b4a1d66ac6477a",
      "placeholder": "​",
      "style": "IPY_MODEL_b219b6345bc54385a2389e0ab20db001",
      "value": "Resolving data files: 100%"
     }
    },
    "49120d5072f34a3d97376475087ae572": {
     "model_module": "@jupyter-widgets/controls",
     "model_module_version": "1.5.0",
     "model_name": "ProgressStyleModel",
     "state": {
      "_model_module": "@jupyter-widgets/controls",
      "_model_module_version": "1.5.0",
      "_model_name": "ProgressStyleModel",
      "_view_count": null,
      "_view_module": "@jupyter-widgets/base",
      "_view_module_version": "1.2.0",
      "_view_name": "StyleView",
      "bar_color": null,
      "description_width": ""
     }
    },
    "4d4f10663fb54d46b67a782fbc9ca8f0": {
     "model_module": "@jupyter-widgets/controls",
     "model_module_version": "1.5.0",
     "model_name": "HBoxModel",
     "state": {
      "_dom_classes": [],
      "_model_module": "@jupyter-widgets/controls",
      "_model_module_version": "1.5.0",
      "_model_name": "HBoxModel",
      "_view_count": null,
      "_view_module": "@jupyter-widgets/controls",
      "_view_module_version": "1.5.0",
      "_view_name": "HBoxView",
      "box_style": "",
      "children": [
       "IPY_MODEL_470b21978abf4982aef32c0a39c89f42",
       "IPY_MODEL_a7ea0bd059cc423bac1e9a4d443b0d57",
       "IPY_MODEL_0b06abdaffb8440d9d5b8495a534bbef"
      ],
      "layout": "IPY_MODEL_e272708f5c1c4c9099bc473dcc0179c4"
     }
    },
    "5269649659334dbf91460c94e982d870": {
     "model_module": "@jupyter-widgets/base",
     "model_module_version": "1.2.0",
     "model_name": "LayoutModel",
     "state": {
      "_model_module": "@jupyter-widgets/base",
      "_model_module_version": "1.2.0",
      "_model_name": "LayoutModel",
      "_view_count": null,
      "_view_module": "@jupyter-widgets/base",
      "_view_module_version": "1.2.0",
      "_view_name": "LayoutView",
      "align_content": null,
      "align_items": null,
      "align_self": null,
      "border": null,
      "bottom": null,
      "display": null,
      "flex": null,
      "flex_flow": null,
      "grid_area": null,
      "grid_auto_columns": null,
      "grid_auto_flow": null,
      "grid_auto_rows": null,
      "grid_column": null,
      "grid_gap": null,
      "grid_row": null,
      "grid_template_areas": null,
      "grid_template_columns": null,
      "grid_template_rows": null,
      "height": null,
      "justify_content": null,
      "justify_items": null,
      "left": null,
      "margin": null,
      "max_height": null,
      "max_width": null,
      "min_height": null,
      "min_width": null,
      "object_fit": null,
      "object_position": null,
      "order": null,
      "overflow": null,
      "overflow_x": null,
      "overflow_y": null,
      "padding": null,
      "right": null,
      "top": null,
      "visibility": null,
      "width": null
     }
    },
    "53ba4aaa62e545c796cb4034f6c725d1": {
     "model_module": "@jupyter-widgets/base",
     "model_module_version": "1.2.0",
     "model_name": "LayoutModel",
     "state": {
      "_model_module": "@jupyter-widgets/base",
      "_model_module_version": "1.2.0",
      "_model_name": "LayoutModel",
      "_view_count": null,
      "_view_module": "@jupyter-widgets/base",
      "_view_module_version": "1.2.0",
      "_view_name": "LayoutView",
      "align_content": null,
      "align_items": null,
      "align_self": null,
      "border": null,
      "bottom": null,
      "display": null,
      "flex": null,
      "flex_flow": null,
      "grid_area": null,
      "grid_auto_columns": null,
      "grid_auto_flow": null,
      "grid_auto_rows": null,
      "grid_column": null,
      "grid_gap": null,
      "grid_row": null,
      "grid_template_areas": null,
      "grid_template_columns": null,
      "grid_template_rows": null,
      "height": null,
      "justify_content": null,
      "justify_items": null,
      "left": null,
      "margin": null,
      "max_height": null,
      "max_width": null,
      "min_height": null,
      "min_width": null,
      "object_fit": null,
      "object_position": null,
      "order": null,
      "overflow": null,
      "overflow_x": null,
      "overflow_y": null,
      "padding": null,
      "right": null,
      "top": null,
      "visibility": null,
      "width": null
     }
    },
    "58721db330a74320bb1cc94537dd9270": {
     "model_module": "@jupyter-widgets/controls",
     "model_module_version": "1.5.0",
     "model_name": "HBoxModel",
     "state": {
      "_dom_classes": [],
      "_model_module": "@jupyter-widgets/controls",
      "_model_module_version": "1.5.0",
      "_model_name": "HBoxModel",
      "_view_count": null,
      "_view_module": "@jupyter-widgets/controls",
      "_view_module_version": "1.5.0",
      "_view_name": "HBoxView",
      "box_style": "",
      "children": [
       "IPY_MODEL_f87b91bf1c724b65b118f1b5d08430c1",
       "IPY_MODEL_dc3fb3843bcf4674a7dc91614dd3f8cd",
       "IPY_MODEL_5afaf99ffe684bc29b68ac3388facf7a"
      ],
      "layout": "IPY_MODEL_cbfa3718d77942738e4775cd3db94bbc"
     }
    },
    "5afaf99ffe684bc29b68ac3388facf7a": {
     "model_module": "@jupyter-widgets/controls",
     "model_module_version": "1.5.0",
     "model_name": "HTMLModel",
     "state": {
      "_dom_classes": [],
      "_model_module": "@jupyter-widgets/controls",
      "_model_module_version": "1.5.0",
      "_model_name": "HTMLModel",
      "_view_count": null,
      "_view_module": "@jupyter-widgets/controls",
      "_view_module_version": "1.5.0",
      "_view_name": "HTMLView",
      "description": "",
      "description_tooltip": null,
      "layout": "IPY_MODEL_a984de3896a54f789781642aed67a6ab",
      "placeholder": "​",
      "style": "IPY_MODEL_b0974b6a44904a35bf3363df2a3d1008",
      "value": " 18/18 [01:27&lt;00:00,  3.76s/files]"
     }
    },
    "5ea0167ef82c4a31b48338fe9414bcad": {
     "model_module": "@jupyter-widgets/base",
     "model_module_version": "1.2.0",
     "model_name": "LayoutModel",
     "state": {
      "_model_module": "@jupyter-widgets/base",
      "_model_module_version": "1.2.0",
      "_model_name": "LayoutModel",
      "_view_count": null,
      "_view_module": "@jupyter-widgets/base",
      "_view_module_version": "1.2.0",
      "_view_name": "LayoutView",
      "align_content": null,
      "align_items": null,
      "align_self": null,
      "border": null,
      "bottom": null,
      "display": null,
      "flex": null,
      "flex_flow": null,
      "grid_area": null,
      "grid_auto_columns": null,
      "grid_auto_flow": null,
      "grid_auto_rows": null,
      "grid_column": null,
      "grid_gap": null,
      "grid_row": null,
      "grid_template_areas": null,
      "grid_template_columns": null,
      "grid_template_rows": null,
      "height": null,
      "justify_content": null,
      "justify_items": null,
      "left": null,
      "margin": null,
      "max_height": null,
      "max_width": null,
      "min_height": null,
      "min_width": null,
      "object_fit": null,
      "object_position": null,
      "order": null,
      "overflow": null,
      "overflow_x": null,
      "overflow_y": null,
      "padding": null,
      "right": null,
      "top": null,
      "visibility": null,
      "width": null
     }
    },
    "609806258cb54ef6aa51eb72e4f210ee": {
     "model_module": "@jupyter-widgets/base",
     "model_module_version": "1.2.0",
     "model_name": "LayoutModel",
     "state": {
      "_model_module": "@jupyter-widgets/base",
      "_model_module_version": "1.2.0",
      "_model_name": "LayoutModel",
      "_view_count": null,
      "_view_module": "@jupyter-widgets/base",
      "_view_module_version": "1.2.0",
      "_view_name": "LayoutView",
      "align_content": null,
      "align_items": null,
      "align_self": null,
      "border": null,
      "bottom": null,
      "display": null,
      "flex": null,
      "flex_flow": null,
      "grid_area": null,
      "grid_auto_columns": null,
      "grid_auto_flow": null,
      "grid_auto_rows": null,
      "grid_column": null,
      "grid_gap": null,
      "grid_row": null,
      "grid_template_areas": null,
      "grid_template_columns": null,
      "grid_template_rows": null,
      "height": null,
      "justify_content": null,
      "justify_items": null,
      "left": null,
      "margin": null,
      "max_height": null,
      "max_width": null,
      "min_height": null,
      "min_width": null,
      "object_fit": null,
      "object_position": null,
      "order": null,
      "overflow": null,
      "overflow_x": null,
      "overflow_y": null,
      "padding": null,
      "right": null,
      "top": null,
      "visibility": null,
      "width": null
     }
    },
    "6123b9ed8be843e1b1212bd3df2db71f": {
     "model_module": "@jupyter-widgets/controls",
     "model_module_version": "1.5.0",
     "model_name": "DescriptionStyleModel",
     "state": {
      "_model_module": "@jupyter-widgets/controls",
      "_model_module_version": "1.5.0",
      "_model_name": "DescriptionStyleModel",
      "_view_count": null,
      "_view_module": "@jupyter-widgets/base",
      "_view_module_version": "1.2.0",
      "_view_name": "StyleView",
      "description_width": ""
     }
    },
    "62d944ce530c486ca4ed04ab180d0809": {
     "model_module": "@jupyter-widgets/controls",
     "model_module_version": "1.5.0",
     "model_name": "DescriptionStyleModel",
     "state": {
      "_model_module": "@jupyter-widgets/controls",
      "_model_module_version": "1.5.0",
      "_model_name": "DescriptionStyleModel",
      "_view_count": null,
      "_view_module": "@jupyter-widgets/base",
      "_view_module_version": "1.2.0",
      "_view_name": "StyleView",
      "description_width": ""
     }
    },
    "6900966231d846bda835635e95f8eb10": {
     "model_module": "@jupyter-widgets/controls",
     "model_module_version": "1.5.0",
     "model_name": "HBoxModel",
     "state": {
      "_dom_classes": [],
      "_model_module": "@jupyter-widgets/controls",
      "_model_module_version": "1.5.0",
      "_model_name": "HBoxModel",
      "_view_count": null,
      "_view_module": "@jupyter-widgets/controls",
      "_view_module_version": "1.5.0",
      "_view_name": "HBoxView",
      "box_style": "",
      "children": [
       "IPY_MODEL_6c8cf05dd56b4315919223d059522d8a",
       "IPY_MODEL_b0cc6edf8e2940ab9c590368eb4deb01",
       "IPY_MODEL_703983b0fbf64adaa8445ce52e1b4859"
      ],
      "layout": "IPY_MODEL_410a5903071e4237b058fc91b726cdba"
     }
    },
    "69d3deca4af44b32b01f5d9e9516e13e": {
     "model_module": "@jupyter-widgets/controls",
     "model_module_version": "1.5.0",
     "model_name": "DescriptionStyleModel",
     "state": {
      "_model_module": "@jupyter-widgets/controls",
      "_model_module_version": "1.5.0",
      "_model_name": "DescriptionStyleModel",
      "_view_count": null,
      "_view_module": "@jupyter-widgets/base",
      "_view_module_version": "1.2.0",
      "_view_name": "StyleView",
      "description_width": ""
     }
    },
    "6c8cf05dd56b4315919223d059522d8a": {
     "model_module": "@jupyter-widgets/controls",
     "model_module_version": "1.5.0",
     "model_name": "HTMLModel",
     "state": {
      "_dom_classes": [],
      "_model_module": "@jupyter-widgets/controls",
      "_model_module_version": "1.5.0",
      "_model_name": "HTMLModel",
      "_view_count": null,
      "_view_module": "@jupyter-widgets/controls",
      "_view_module_version": "1.5.0",
      "_view_name": "HTMLView",
      "description": "",
      "description_tooltip": null,
      "layout": "IPY_MODEL_e756a58c4a3d4450a0b80ec64a5d1d8e",
      "placeholder": "​",
      "style": "IPY_MODEL_6123b9ed8be843e1b1212bd3df2db71f",
      "value": "Generating train split: 100%"
     }
    },
    "703983b0fbf64adaa8445ce52e1b4859": {
     "model_module": "@jupyter-widgets/controls",
     "model_module_version": "1.5.0",
     "model_name": "HTMLModel",
     "state": {
      "_dom_classes": [],
      "_model_module": "@jupyter-widgets/controls",
      "_model_module_version": "1.5.0",
      "_model_name": "HTMLModel",
      "_view_count": null,
      "_view_module": "@jupyter-widgets/controls",
      "_view_module_version": "1.5.0",
      "_view_name": "HTMLView",
      "description": "",
      "description_tooltip": null,
      "layout": "IPY_MODEL_2bfc8ecd42dc4958b6839f9cc6509668",
      "placeholder": "​",
      "style": "IPY_MODEL_77f61a73a7174419888a8ae9b5497fff",
      "value": " 1284879/1284879 [01:36&lt;00:00, 7184.92 examples/s]"
     }
    },
    "73a5600300414178ae5bacf3c349ef19": {
     "model_module": "@jupyter-widgets/controls",
     "model_module_version": "1.5.0",
     "model_name": "HTMLModel",
     "state": {
      "_dom_classes": [],
      "_model_module": "@jupyter-widgets/controls",
      "_model_module_version": "1.5.0",
      "_model_name": "HTMLModel",
      "_view_count": null,
      "_view_module": "@jupyter-widgets/controls",
      "_view_module_version": "1.5.0",
      "_view_name": "HTMLView",
      "description": "",
      "description_tooltip": null,
      "layout": "IPY_MODEL_93a94650cba947a39df4ebf4bfe8c654",
      "placeholder": "​",
      "style": "IPY_MODEL_f90652fe397347c0bec1c8887310079a",
      "value": " 18/18 [00:00&lt;00:00, 11.23it/s]"
     }
    },
    "76cef1b60f864b52a65b6784859ce847": {
     "model_module": "@jupyter-widgets/controls",
     "model_module_version": "1.5.0",
     "model_name": "HTMLModel",
     "state": {
      "_dom_classes": [],
      "_model_module": "@jupyter-widgets/controls",
      "_model_module_version": "1.5.0",
      "_model_name": "HTMLModel",
      "_view_count": null,
      "_view_module": "@jupyter-widgets/controls",
      "_view_module_version": "1.5.0",
      "_view_name": "HTMLView",
      "description": "",
      "description_tooltip": null,
      "layout": "IPY_MODEL_c15d197b43de4403bbcf9bf7c1953c93",
      "placeholder": "​",
      "style": "IPY_MODEL_00f9a1e149bc4deaa045955347bda94e",
      "value": " 3.06k/3.06k [00:00&lt;00:00, 211kB/s]"
     }
    },
    "77f61a73a7174419888a8ae9b5497fff": {
     "model_module": "@jupyter-widgets/controls",
     "model_module_version": "1.5.0",
     "model_name": "DescriptionStyleModel",
     "state": {
      "_model_module": "@jupyter-widgets/controls",
      "_model_module_version": "1.5.0",
      "_model_name": "DescriptionStyleModel",
      "_view_count": null,
      "_view_module": "@jupyter-widgets/base",
      "_view_module_version": "1.2.0",
      "_view_name": "StyleView",
      "description_width": ""
     }
    },
    "8084ad251f6949af90b4a1d66ac6477a": {
     "model_module": "@jupyter-widgets/base",
     "model_module_version": "1.2.0",
     "model_name": "LayoutModel",
     "state": {
      "_model_module": "@jupyter-widgets/base",
      "_model_module_version": "1.2.0",
      "_model_name": "LayoutModel",
      "_view_count": null,
      "_view_module": "@jupyter-widgets/base",
      "_view_module_version": "1.2.0",
      "_view_name": "LayoutView",
      "align_content": null,
      "align_items": null,
      "align_self": null,
      "border": null,
      "bottom": null,
      "display": null,
      "flex": null,
      "flex_flow": null,
      "grid_area": null,
      "grid_auto_columns": null,
      "grid_auto_flow": null,
      "grid_auto_rows": null,
      "grid_column": null,
      "grid_gap": null,
      "grid_row": null,
      "grid_template_areas": null,
      "grid_template_columns": null,
      "grid_template_rows": null,
      "height": null,
      "justify_content": null,
      "justify_items": null,
      "left": null,
      "margin": null,
      "max_height": null,
      "max_width": null,
      "min_height": null,
      "min_width": null,
      "object_fit": null,
      "object_position": null,
      "order": null,
      "overflow": null,
      "overflow_x": null,
      "overflow_y": null,
      "padding": null,
      "right": null,
      "top": null,
      "visibility": null,
      "width": null
     }
    },
    "82f53b838808430b9a5388e4bcab0630": {
     "model_module": "@jupyter-widgets/controls",
     "model_module_version": "1.5.0",
     "model_name": "FloatProgressModel",
     "state": {
      "_dom_classes": [],
      "_model_module": "@jupyter-widgets/controls",
      "_model_module_version": "1.5.0",
      "_model_name": "FloatProgressModel",
      "_view_count": null,
      "_view_module": "@jupyter-widgets/controls",
      "_view_module_version": "1.5.0",
      "_view_name": "ProgressView",
      "bar_style": "success",
      "description": "",
      "description_tooltip": null,
      "layout": "IPY_MODEL_53ba4aaa62e545c796cb4034f6c725d1",
      "max": 18,
      "min": 0,
      "orientation": "horizontal",
      "style": "IPY_MODEL_97ccf1707d78488d8bcd917f9abe19cc",
      "value": 18
     }
    },
    "93a94650cba947a39df4ebf4bfe8c654": {
     "model_module": "@jupyter-widgets/base",
     "model_module_version": "1.2.0",
     "model_name": "LayoutModel",
     "state": {
      "_model_module": "@jupyter-widgets/base",
      "_model_module_version": "1.2.0",
      "_model_name": "LayoutModel",
      "_view_count": null,
      "_view_module": "@jupyter-widgets/base",
      "_view_module_version": "1.2.0",
      "_view_name": "LayoutView",
      "align_content": null,
      "align_items": null,
      "align_self": null,
      "border": null,
      "bottom": null,
      "display": null,
      "flex": null,
      "flex_flow": null,
      "grid_area": null,
      "grid_auto_columns": null,
      "grid_auto_flow": null,
      "grid_auto_rows": null,
      "grid_column": null,
      "grid_gap": null,
      "grid_row": null,
      "grid_template_areas": null,
      "grid_template_columns": null,
      "grid_template_rows": null,
      "height": null,
      "justify_content": null,
      "justify_items": null,
      "left": null,
      "margin": null,
      "max_height": null,
      "max_width": null,
      "min_height": null,
      "min_width": null,
      "object_fit": null,
      "object_position": null,
      "order": null,
      "overflow": null,
      "overflow_x": null,
      "overflow_y": null,
      "padding": null,
      "right": null,
      "top": null,
      "visibility": null,
      "width": null
     }
    },
    "97ccf1707d78488d8bcd917f9abe19cc": {
     "model_module": "@jupyter-widgets/controls",
     "model_module_version": "1.5.0",
     "model_name": "ProgressStyleModel",
     "state": {
      "_model_module": "@jupyter-widgets/controls",
      "_model_module_version": "1.5.0",
      "_model_name": "ProgressStyleModel",
      "_view_count": null,
      "_view_module": "@jupyter-widgets/base",
      "_view_module_version": "1.2.0",
      "_view_name": "StyleView",
      "bar_color": null,
      "description_width": ""
     }
    },
    "a55999c630364b479a2857457a35bc04": {
     "model_module": "@jupyter-widgets/controls",
     "model_module_version": "1.5.0",
     "model_name": "HTMLModel",
     "state": {
      "_dom_classes": [],
      "_model_module": "@jupyter-widgets/controls",
      "_model_module_version": "1.5.0",
      "_model_name": "HTMLModel",
      "_view_count": null,
      "_view_module": "@jupyter-widgets/controls",
      "_view_module_version": "1.5.0",
      "_view_name": "HTMLView",
      "description": "",
      "description_tooltip": null,
      "layout": "IPY_MODEL_5269649659334dbf91460c94e982d870",
      "placeholder": "​",
      "style": "IPY_MODEL_b6e136fc04074182b8e26de948f495ab",
      "value": "Downloading readme: 100%"
     }
    },
    "a7ea0bd059cc423bac1e9a4d443b0d57": {
     "model_module": "@jupyter-widgets/controls",
     "model_module_version": "1.5.0",
     "model_name": "FloatProgressModel",
     "state": {
      "_dom_classes": [],
      "_model_module": "@jupyter-widgets/controls",
      "_model_module_version": "1.5.0",
      "_model_name": "FloatProgressModel",
      "_view_count": null,
      "_view_module": "@jupyter-widgets/controls",
      "_view_module_version": "1.5.0",
      "_view_name": "ProgressView",
      "bar_style": "success",
      "description": "",
      "description_tooltip": null,
      "layout": "IPY_MODEL_e5a51a8cbdda40fa8352d9b6f16c3c7f",
      "max": 18,
      "min": 0,
      "orientation": "horizontal",
      "style": "IPY_MODEL_49120d5072f34a3d97376475087ae572",
      "value": 18
     }
    },
    "a984de3896a54f789781642aed67a6ab": {
     "model_module": "@jupyter-widgets/base",
     "model_module_version": "1.2.0",
     "model_name": "LayoutModel",
     "state": {
      "_model_module": "@jupyter-widgets/base",
      "_model_module_version": "1.2.0",
      "_model_name": "LayoutModel",
      "_view_count": null,
      "_view_module": "@jupyter-widgets/base",
      "_view_module_version": "1.2.0",
      "_view_name": "LayoutView",
      "align_content": null,
      "align_items": null,
      "align_self": null,
      "border": null,
      "bottom": null,
      "display": null,
      "flex": null,
      "flex_flow": null,
      "grid_area": null,
      "grid_auto_columns": null,
      "grid_auto_flow": null,
      "grid_auto_rows": null,
      "grid_column": null,
      "grid_gap": null,
      "grid_row": null,
      "grid_template_areas": null,
      "grid_template_columns": null,
      "grid_template_rows": null,
      "height": null,
      "justify_content": null,
      "justify_items": null,
      "left": null,
      "margin": null,
      "max_height": null,
      "max_width": null,
      "min_height": null,
      "min_width": null,
      "object_fit": null,
      "object_position": null,
      "order": null,
      "overflow": null,
      "overflow_x": null,
      "overflow_y": null,
      "padding": null,
      "right": null,
      "top": null,
      "visibility": null,
      "width": null
     }
    },
    "b0974b6a44904a35bf3363df2a3d1008": {
     "model_module": "@jupyter-widgets/controls",
     "model_module_version": "1.5.0",
     "model_name": "DescriptionStyleModel",
     "state": {
      "_model_module": "@jupyter-widgets/controls",
      "_model_module_version": "1.5.0",
      "_model_name": "DescriptionStyleModel",
      "_view_count": null,
      "_view_module": "@jupyter-widgets/base",
      "_view_module_version": "1.2.0",
      "_view_name": "StyleView",
      "description_width": ""
     }
    },
    "b0cc6edf8e2940ab9c590368eb4deb01": {
     "model_module": "@jupyter-widgets/controls",
     "model_module_version": "1.5.0",
     "model_name": "FloatProgressModel",
     "state": {
      "_dom_classes": [],
      "_model_module": "@jupyter-widgets/controls",
      "_model_module_version": "1.5.0",
      "_model_name": "FloatProgressModel",
      "_view_count": null,
      "_view_module": "@jupyter-widgets/controls",
      "_view_module_version": "1.5.0",
      "_view_name": "ProgressView",
      "bar_style": "success",
      "description": "",
      "description_tooltip": null,
      "layout": "IPY_MODEL_16b5e5c0e38a4488b3c4fb6a6f69914a",
      "max": 1284879,
      "min": 0,
      "orientation": "horizontal",
      "style": "IPY_MODEL_2009dfb093854fa899d86e7b1187fb33",
      "value": 1284879
     }
    },
    "b219b6345bc54385a2389e0ab20db001": {
     "model_module": "@jupyter-widgets/controls",
     "model_module_version": "1.5.0",
     "model_name": "DescriptionStyleModel",
     "state": {
      "_model_module": "@jupyter-widgets/controls",
      "_model_module_version": "1.5.0",
      "_model_name": "DescriptionStyleModel",
      "_view_count": null,
      "_view_module": "@jupyter-widgets/base",
      "_view_module_version": "1.2.0",
      "_view_name": "StyleView",
      "description_width": ""
     }
    },
    "b6e136fc04074182b8e26de948f495ab": {
     "model_module": "@jupyter-widgets/controls",
     "model_module_version": "1.5.0",
     "model_name": "DescriptionStyleModel",
     "state": {
      "_model_module": "@jupyter-widgets/controls",
      "_model_module_version": "1.5.0",
      "_model_name": "DescriptionStyleModel",
      "_view_count": null,
      "_view_module": "@jupyter-widgets/base",
      "_view_module_version": "1.2.0",
      "_view_name": "StyleView",
      "description_width": ""
     }
    },
    "c15d197b43de4403bbcf9bf7c1953c93": {
     "model_module": "@jupyter-widgets/base",
     "model_module_version": "1.2.0",
     "model_name": "LayoutModel",
     "state": {
      "_model_module": "@jupyter-widgets/base",
      "_model_module_version": "1.2.0",
      "_model_name": "LayoutModel",
      "_view_count": null,
      "_view_module": "@jupyter-widgets/base",
      "_view_module_version": "1.2.0",
      "_view_name": "LayoutView",
      "align_content": null,
      "align_items": null,
      "align_self": null,
      "border": null,
      "bottom": null,
      "display": null,
      "flex": null,
      "flex_flow": null,
      "grid_area": null,
      "grid_auto_columns": null,
      "grid_auto_flow": null,
      "grid_auto_rows": null,
      "grid_column": null,
      "grid_gap": null,
      "grid_row": null,
      "grid_template_areas": null,
      "grid_template_columns": null,
      "grid_template_rows": null,
      "height": null,
      "justify_content": null,
      "justify_items": null,
      "left": null,
      "margin": null,
      "max_height": null,
      "max_width": null,
      "min_height": null,
      "min_width": null,
      "object_fit": null,
      "object_position": null,
      "order": null,
      "overflow": null,
      "overflow_x": null,
      "overflow_y": null,
      "padding": null,
      "right": null,
      "top": null,
      "visibility": null,
      "width": null
     }
    },
    "ca4b1c6a880d4b8d9a169976a62522cc": {
     "model_module": "@jupyter-widgets/controls",
     "model_module_version": "1.5.0",
     "model_name": "HTMLModel",
     "state": {
      "_dom_classes": [],
      "_model_module": "@jupyter-widgets/controls",
      "_model_module_version": "1.5.0",
      "_model_name": "HTMLModel",
      "_view_count": null,
      "_view_module": "@jupyter-widgets/controls",
      "_view_module_version": "1.5.0",
      "_view_name": "HTMLView",
      "description": "",
      "description_tooltip": null,
      "layout": "IPY_MODEL_34063f699465444a898e69aeae058103",
      "placeholder": "​",
      "style": "IPY_MODEL_69d3deca4af44b32b01f5d9e9516e13e",
      "value": "Resolving data files: 100%"
     }
    },
    "cbfa3718d77942738e4775cd3db94bbc": {
     "model_module": "@jupyter-widgets/base",
     "model_module_version": "1.2.0",
     "model_name": "LayoutModel",
     "state": {
      "_model_module": "@jupyter-widgets/base",
      "_model_module_version": "1.2.0",
      "_model_name": "LayoutModel",
      "_view_count": null,
      "_view_module": "@jupyter-widgets/base",
      "_view_module_version": "1.2.0",
      "_view_name": "LayoutView",
      "align_content": null,
      "align_items": null,
      "align_self": null,
      "border": null,
      "bottom": null,
      "display": null,
      "flex": null,
      "flex_flow": null,
      "grid_area": null,
      "grid_auto_columns": null,
      "grid_auto_flow": null,
      "grid_auto_rows": null,
      "grid_column": null,
      "grid_gap": null,
      "grid_row": null,
      "grid_template_areas": null,
      "grid_template_columns": null,
      "grid_template_rows": null,
      "height": null,
      "justify_content": null,
      "justify_items": null,
      "left": null,
      "margin": null,
      "max_height": null,
      "max_width": null,
      "min_height": null,
      "min_width": null,
      "object_fit": null,
      "object_position": null,
      "order": null,
      "overflow": null,
      "overflow_x": null,
      "overflow_y": null,
      "padding": null,
      "right": null,
      "top": null,
      "visibility": null,
      "width": null
     }
    },
    "d7450dbf86134ab7b30b2464da037fc1": {
     "model_module": "@jupyter-widgets/base",
     "model_module_version": "1.2.0",
     "model_name": "LayoutModel",
     "state": {
      "_model_module": "@jupyter-widgets/base",
      "_model_module_version": "1.2.0",
      "_model_name": "LayoutModel",
      "_view_count": null,
      "_view_module": "@jupyter-widgets/base",
      "_view_module_version": "1.2.0",
      "_view_name": "LayoutView",
      "align_content": null,
      "align_items": null,
      "align_self": null,
      "border": null,
      "bottom": null,
      "display": null,
      "flex": null,
      "flex_flow": null,
      "grid_area": null,
      "grid_auto_columns": null,
      "grid_auto_flow": null,
      "grid_auto_rows": null,
      "grid_column": null,
      "grid_gap": null,
      "grid_row": null,
      "grid_template_areas": null,
      "grid_template_columns": null,
      "grid_template_rows": null,
      "height": null,
      "justify_content": null,
      "justify_items": null,
      "left": null,
      "margin": null,
      "max_height": null,
      "max_width": null,
      "min_height": null,
      "min_width": null,
      "object_fit": null,
      "object_position": null,
      "order": null,
      "overflow": null,
      "overflow_x": null,
      "overflow_y": null,
      "padding": null,
      "right": null,
      "top": null,
      "visibility": null,
      "width": null
     }
    },
    "dc3fb3843bcf4674a7dc91614dd3f8cd": {
     "model_module": "@jupyter-widgets/controls",
     "model_module_version": "1.5.0",
     "model_name": "FloatProgressModel",
     "state": {
      "_dom_classes": [],
      "_model_module": "@jupyter-widgets/controls",
      "_model_module_version": "1.5.0",
      "_model_name": "FloatProgressModel",
      "_view_count": null,
      "_view_module": "@jupyter-widgets/controls",
      "_view_module_version": "1.5.0",
      "_view_name": "ProgressView",
      "bar_style": "success",
      "description": "",
      "description_tooltip": null,
      "layout": "IPY_MODEL_609806258cb54ef6aa51eb72e4f210ee",
      "max": 18,
      "min": 0,
      "orientation": "horizontal",
      "style": "IPY_MODEL_0e8aa1b32e87452aa7a844fc73787ab2",
      "value": 18
     }
    },
    "dc9c5ee1c7c0407bb5f6fa9d083c3e63": {
     "model_module": "@jupyter-widgets/controls",
     "model_module_version": "1.5.0",
     "model_name": "HBoxModel",
     "state": {
      "_dom_classes": [],
      "_model_module": "@jupyter-widgets/controls",
      "_model_module_version": "1.5.0",
      "_model_name": "HBoxModel",
      "_view_count": null,
      "_view_module": "@jupyter-widgets/controls",
      "_view_module_version": "1.5.0",
      "_view_name": "HBoxView",
      "box_style": "",
      "children": [
       "IPY_MODEL_a55999c630364b479a2857457a35bc04",
       "IPY_MODEL_186918a22a09411e94580396be435dde",
       "IPY_MODEL_76cef1b60f864b52a65b6784859ce847"
      ],
      "layout": "IPY_MODEL_0e86965ec8b34acbb0a82a01f39dfebf"
     }
    },
    "dcab2b379bb94b3499d265a518736186": {
     "model_module": "@jupyter-widgets/base",
     "model_module_version": "1.2.0",
     "model_name": "LayoutModel",
     "state": {
      "_model_module": "@jupyter-widgets/base",
      "_model_module_version": "1.2.0",
      "_model_name": "LayoutModel",
      "_view_count": null,
      "_view_module": "@jupyter-widgets/base",
      "_view_module_version": "1.2.0",
      "_view_name": "LayoutView",
      "align_content": null,
      "align_items": null,
      "align_self": null,
      "border": null,
      "bottom": null,
      "display": null,
      "flex": null,
      "flex_flow": null,
      "grid_area": null,
      "grid_auto_columns": null,
      "grid_auto_flow": null,
      "grid_auto_rows": null,
      "grid_column": null,
      "grid_gap": null,
      "grid_row": null,
      "grid_template_areas": null,
      "grid_template_columns": null,
      "grid_template_rows": null,
      "height": null,
      "justify_content": null,
      "justify_items": null,
      "left": null,
      "margin": null,
      "max_height": null,
      "max_width": null,
      "min_height": null,
      "min_width": null,
      "object_fit": null,
      "object_position": null,
      "order": null,
      "overflow": null,
      "overflow_x": null,
      "overflow_y": null,
      "padding": null,
      "right": null,
      "top": null,
      "visibility": null,
      "width": null
     }
    },
    "e272708f5c1c4c9099bc473dcc0179c4": {
     "model_module": "@jupyter-widgets/base",
     "model_module_version": "1.2.0",
     "model_name": "LayoutModel",
     "state": {
      "_model_module": "@jupyter-widgets/base",
      "_model_module_version": "1.2.0",
      "_model_name": "LayoutModel",
      "_view_count": null,
      "_view_module": "@jupyter-widgets/base",
      "_view_module_version": "1.2.0",
      "_view_name": "LayoutView",
      "align_content": null,
      "align_items": null,
      "align_self": null,
      "border": null,
      "bottom": null,
      "display": null,
      "flex": null,
      "flex_flow": null,
      "grid_area": null,
      "grid_auto_columns": null,
      "grid_auto_flow": null,
      "grid_auto_rows": null,
      "grid_column": null,
      "grid_gap": null,
      "grid_row": null,
      "grid_template_areas": null,
      "grid_template_columns": null,
      "grid_template_rows": null,
      "height": null,
      "justify_content": null,
      "justify_items": null,
      "left": null,
      "margin": null,
      "max_height": null,
      "max_width": null,
      "min_height": null,
      "min_width": null,
      "object_fit": null,
      "object_position": null,
      "order": null,
      "overflow": null,
      "overflow_x": null,
      "overflow_y": null,
      "padding": null,
      "right": null,
      "top": null,
      "visibility": null,
      "width": null
     }
    },
    "e2739920438f497a87a680e81a063922": {
     "model_module": "@jupyter-widgets/controls",
     "model_module_version": "1.5.0",
     "model_name": "ProgressStyleModel",
     "state": {
      "_model_module": "@jupyter-widgets/controls",
      "_model_module_version": "1.5.0",
      "_model_name": "ProgressStyleModel",
      "_view_count": null,
      "_view_module": "@jupyter-widgets/base",
      "_view_module_version": "1.2.0",
      "_view_name": "StyleView",
      "bar_color": null,
      "description_width": ""
     }
    },
    "e5a51a8cbdda40fa8352d9b6f16c3c7f": {
     "model_module": "@jupyter-widgets/base",
     "model_module_version": "1.2.0",
     "model_name": "LayoutModel",
     "state": {
      "_model_module": "@jupyter-widgets/base",
      "_model_module_version": "1.2.0",
      "_model_name": "LayoutModel",
      "_view_count": null,
      "_view_module": "@jupyter-widgets/base",
      "_view_module_version": "1.2.0",
      "_view_name": "LayoutView",
      "align_content": null,
      "align_items": null,
      "align_self": null,
      "border": null,
      "bottom": null,
      "display": null,
      "flex": null,
      "flex_flow": null,
      "grid_area": null,
      "grid_auto_columns": null,
      "grid_auto_flow": null,
      "grid_auto_rows": null,
      "grid_column": null,
      "grid_gap": null,
      "grid_row": null,
      "grid_template_areas": null,
      "grid_template_columns": null,
      "grid_template_rows": null,
      "height": null,
      "justify_content": null,
      "justify_items": null,
      "left": null,
      "margin": null,
      "max_height": null,
      "max_width": null,
      "min_height": null,
      "min_width": null,
      "object_fit": null,
      "object_position": null,
      "order": null,
      "overflow": null,
      "overflow_x": null,
      "overflow_y": null,
      "padding": null,
      "right": null,
      "top": null,
      "visibility": null,
      "width": null
     }
    },
    "e67ecd5780fe4d64843c3407b94fa0a4": {
     "model_module": "@jupyter-widgets/controls",
     "model_module_version": "1.5.0",
     "model_name": "DescriptionStyleModel",
     "state": {
      "_model_module": "@jupyter-widgets/controls",
      "_model_module_version": "1.5.0",
      "_model_name": "DescriptionStyleModel",
      "_view_count": null,
      "_view_module": "@jupyter-widgets/base",
      "_view_module_version": "1.2.0",
      "_view_name": "StyleView",
      "description_width": ""
     }
    },
    "e756a58c4a3d4450a0b80ec64a5d1d8e": {
     "model_module": "@jupyter-widgets/base",
     "model_module_version": "1.2.0",
     "model_name": "LayoutModel",
     "state": {
      "_model_module": "@jupyter-widgets/base",
      "_model_module_version": "1.2.0",
      "_model_name": "LayoutModel",
      "_view_count": null,
      "_view_module": "@jupyter-widgets/base",
      "_view_module_version": "1.2.0",
      "_view_name": "LayoutView",
      "align_content": null,
      "align_items": null,
      "align_self": null,
      "border": null,
      "bottom": null,
      "display": null,
      "flex": null,
      "flex_flow": null,
      "grid_area": null,
      "grid_auto_columns": null,
      "grid_auto_flow": null,
      "grid_auto_rows": null,
      "grid_column": null,
      "grid_gap": null,
      "grid_row": null,
      "grid_template_areas": null,
      "grid_template_columns": null,
      "grid_template_rows": null,
      "height": null,
      "justify_content": null,
      "justify_items": null,
      "left": null,
      "margin": null,
      "max_height": null,
      "max_width": null,
      "min_height": null,
      "min_width": null,
      "object_fit": null,
      "object_position": null,
      "order": null,
      "overflow": null,
      "overflow_x": null,
      "overflow_y": null,
      "padding": null,
      "right": null,
      "top": null,
      "visibility": null,
      "width": null
     }
    },
    "f62b5d25018540bf98788ba01547ceee": {
     "model_module": "@jupyter-widgets/controls",
     "model_module_version": "1.5.0",
     "model_name": "HBoxModel",
     "state": {
      "_dom_classes": [],
      "_model_module": "@jupyter-widgets/controls",
      "_model_module_version": "1.5.0",
      "_model_name": "HBoxModel",
      "_view_count": null,
      "_view_module": "@jupyter-widgets/controls",
      "_view_module_version": "1.5.0",
      "_view_name": "HBoxView",
      "box_style": "",
      "children": [
       "IPY_MODEL_ca4b1c6a880d4b8d9a169976a62522cc",
       "IPY_MODEL_82f53b838808430b9a5388e4bcab0630",
       "IPY_MODEL_73a5600300414178ae5bacf3c349ef19"
      ],
      "layout": "IPY_MODEL_d7450dbf86134ab7b30b2464da037fc1"
     }
    },
    "f87b91bf1c724b65b118f1b5d08430c1": {
     "model_module": "@jupyter-widgets/controls",
     "model_module_version": "1.5.0",
     "model_name": "HTMLModel",
     "state": {
      "_dom_classes": [],
      "_model_module": "@jupyter-widgets/controls",
      "_model_module_version": "1.5.0",
      "_model_name": "HTMLModel",
      "_view_count": null,
      "_view_module": "@jupyter-widgets/controls",
      "_view_module_version": "1.5.0",
      "_view_name": "HTMLView",
      "description": "",
      "description_tooltip": null,
      "layout": "IPY_MODEL_217a4920934a4df78e0fec7e703c11f0",
      "placeholder": "​",
      "style": "IPY_MODEL_62d944ce530c486ca4ed04ab180d0809",
      "value": "Downloading data: 100%"
     }
    },
    "f90652fe397347c0bec1c8887310079a": {
     "model_module": "@jupyter-widgets/controls",
     "model_module_version": "1.5.0",
     "model_name": "DescriptionStyleModel",
     "state": {
      "_model_module": "@jupyter-widgets/controls",
      "_model_module_version": "1.5.0",
      "_model_name": "DescriptionStyleModel",
      "_view_count": null,
      "_view_module": "@jupyter-widgets/base",
      "_view_module_version": "1.2.0",
      "_view_name": "StyleView",
      "description_width": ""
     }
    }
   }
  }
 },
 "nbformat": 4,
 "nbformat_minor": 0
}
