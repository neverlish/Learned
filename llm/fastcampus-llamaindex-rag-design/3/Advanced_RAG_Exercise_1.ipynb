{
 "cells": [
  {
   "cell_type": "markdown",
   "metadata": {
    "id": "71xAjEpHtgU1"
   },
   "source": [
    "# 쿼리 라우팅 1.\n",
    "- 메타데이터 기반 라우터\n",
    "- 노드레벨 라우팅 기능\n",
    "- 메타데이터 기반 필터로 불필요한 노이즈 감소 (성능 up, 비용 down)"
   ]
  },
  {
   "cell_type": "code",
   "execution_count": null,
   "metadata": {
    "colab": {
     "base_uri": "https://localhost:8080/"
    },
    "executionInfo": {
     "elapsed": 5048,
     "status": "ok",
     "timestamp": 1722512312157,
     "user": {
      "displayName": "한두솔",
      "userId": "14744311692633150263"
     },
     "user_tz": -540
    },
    "id": "MMA3_Q8gtlc1",
    "outputId": "45b271fe-7475-4750-dde8-eacbeb78d213"
   },
   "outputs": [
    {
     "name": "stdout",
     "output_type": "stream",
     "text": [
      "Requirement already satisfied: llama_index in /usr/local/lib/python3.10/dist-packages (0.10.59)\n",
      "Requirement already satisfied: openai in /usr/local/lib/python3.10/dist-packages (1.37.1)\n",
      "Requirement already satisfied: qdrant_client in /usr/local/lib/python3.10/dist-packages (1.10.1)\n",
      "Collecting llama-index-vector-stores-qdrant\n",
      "  Downloading llama_index_vector_stores_qdrant-0.2.14-py3-none-any.whl.metadata (768 bytes)\n",
      "Requirement already satisfied: llama-index-agent-openai<0.3.0,>=0.1.4 in /usr/local/lib/python3.10/dist-packages (from llama_index) (0.2.9)\n",
      "Requirement already satisfied: llama-index-cli<0.2.0,>=0.1.2 in /usr/local/lib/python3.10/dist-packages (from llama_index) (0.1.13)\n",
      "Requirement already satisfied: llama-index-core==0.10.59 in /usr/local/lib/python3.10/dist-packages (from llama_index) (0.10.59)\n",
      "Requirement already satisfied: llama-index-embeddings-openai<0.2.0,>=0.1.5 in /usr/local/lib/python3.10/dist-packages (from llama_index) (0.1.11)\n",
      "Requirement already satisfied: llama-index-indices-managed-llama-cloud>=0.2.0 in /usr/local/lib/python3.10/dist-packages (from llama_index) (0.2.7)\n",
      "Requirement already satisfied: llama-index-legacy<0.10.0,>=0.9.48 in /usr/local/lib/python3.10/dist-packages (from llama_index) (0.9.48)\n",
      "Requirement already satisfied: llama-index-llms-openai<0.2.0,>=0.1.27 in /usr/local/lib/python3.10/dist-packages (from llama_index) (0.1.27)\n",
      "Requirement already satisfied: llama-index-multi-modal-llms-openai<0.2.0,>=0.1.3 in /usr/local/lib/python3.10/dist-packages (from llama_index) (0.1.8)\n",
      "Requirement already satisfied: llama-index-program-openai<0.2.0,>=0.1.3 in /usr/local/lib/python3.10/dist-packages (from llama_index) (0.1.7)\n",
      "Requirement already satisfied: llama-index-question-gen-openai<0.2.0,>=0.1.2 in /usr/local/lib/python3.10/dist-packages (from llama_index) (0.1.3)\n",
      "Requirement already satisfied: llama-index-readers-file<0.2.0,>=0.1.4 in /usr/local/lib/python3.10/dist-packages (from llama_index) (0.1.32)\n",
      "Requirement already satisfied: llama-index-readers-llama-parse>=0.1.2 in /usr/local/lib/python3.10/dist-packages (from llama_index) (0.1.6)\n",
      "Requirement already satisfied: PyYAML>=6.0.1 in /usr/local/lib/python3.10/dist-packages (from llama-index-core==0.10.59->llama_index) (6.0.1)\n",
      "Requirement already satisfied: SQLAlchemy>=1.4.49 in /usr/local/lib/python3.10/dist-packages (from SQLAlchemy[asyncio]>=1.4.49->llama-index-core==0.10.59->llama_index) (2.0.31)\n",
      "Requirement already satisfied: aiohttp<4.0.0,>=3.8.6 in /usr/local/lib/python3.10/dist-packages (from llama-index-core==0.10.59->llama_index) (3.9.5)\n",
      "Requirement already satisfied: dataclasses-json in /usr/local/lib/python3.10/dist-packages (from llama-index-core==0.10.59->llama_index) (0.6.7)\n",
      "Requirement already satisfied: deprecated>=1.2.9.3 in /usr/local/lib/python3.10/dist-packages (from llama-index-core==0.10.59->llama_index) (1.2.14)\n",
      "Requirement already satisfied: dirtyjson<2.0.0,>=1.0.8 in /usr/local/lib/python3.10/dist-packages (from llama-index-core==0.10.59->llama_index) (1.0.8)\n",
      "Requirement already satisfied: fsspec>=2023.5.0 in /usr/local/lib/python3.10/dist-packages (from llama-index-core==0.10.59->llama_index) (2024.6.1)\n",
      "Requirement already satisfied: httpx in /usr/local/lib/python3.10/dist-packages (from llama-index-core==0.10.59->llama_index) (0.27.0)\n",
      "Requirement already satisfied: nest-asyncio<2.0.0,>=1.5.8 in /usr/local/lib/python3.10/dist-packages (from llama-index-core==0.10.59->llama_index) (1.6.0)\n",
      "Requirement already satisfied: networkx>=3.0 in /usr/local/lib/python3.10/dist-packages (from llama-index-core==0.10.59->llama_index) (3.3)\n",
      "Requirement already satisfied: nltk<4.0.0,>=3.8.1 in /usr/local/lib/python3.10/dist-packages (from llama-index-core==0.10.59->llama_index) (3.8.1)\n",
      "Requirement already satisfied: numpy<2.0.0 in /usr/local/lib/python3.10/dist-packages (from llama-index-core==0.10.59->llama_index) (1.26.4)\n",
      "Requirement already satisfied: pandas in /usr/local/lib/python3.10/dist-packages (from llama-index-core==0.10.59->llama_index) (2.1.4)\n",
      "Requirement already satisfied: pillow>=9.0.0 in /usr/local/lib/python3.10/dist-packages (from llama-index-core==0.10.59->llama_index) (9.4.0)\n",
      "Requirement already satisfied: requests>=2.31.0 in /usr/local/lib/python3.10/dist-packages (from llama-index-core==0.10.59->llama_index) (2.31.0)\n",
      "Requirement already satisfied: tenacity!=8.4.0,<9.0.0,>=8.2.0 in /usr/local/lib/python3.10/dist-packages (from llama-index-core==0.10.59->llama_index) (8.5.0)\n",
      "Requirement already satisfied: tiktoken>=0.3.3 in /usr/local/lib/python3.10/dist-packages (from llama-index-core==0.10.59->llama_index) (0.7.0)\n",
      "Requirement already satisfied: tqdm<5.0.0,>=4.66.1 in /usr/local/lib/python3.10/dist-packages (from llama-index-core==0.10.59->llama_index) (4.66.4)\n",
      "Requirement already satisfied: typing-extensions>=4.5.0 in /usr/local/lib/python3.10/dist-packages (from llama-index-core==0.10.59->llama_index) (4.12.2)\n",
      "Requirement already satisfied: typing-inspect>=0.8.0 in /usr/local/lib/python3.10/dist-packages (from llama-index-core==0.10.59->llama_index) (0.9.0)\n",
      "Requirement already satisfied: wrapt in /usr/local/lib/python3.10/dist-packages (from llama-index-core==0.10.59->llama_index) (1.16.0)\n",
      "Requirement already satisfied: anyio<5,>=3.5.0 in /usr/local/lib/python3.10/dist-packages (from openai) (3.7.1)\n",
      "Requirement already satisfied: distro<2,>=1.7.0 in /usr/lib/python3/dist-packages (from openai) (1.7.0)\n",
      "Requirement already satisfied: pydantic<3,>=1.9.0 in /usr/local/lib/python3.10/dist-packages (from openai) (2.8.2)\n",
      "Requirement already satisfied: sniffio in /usr/local/lib/python3.10/dist-packages (from openai) (1.3.1)\n",
      "Requirement already satisfied: grpcio>=1.41.0 in /usr/local/lib/python3.10/dist-packages (from qdrant_client) (1.65.2)\n",
      "Requirement already satisfied: grpcio-tools>=1.41.0 in /usr/local/lib/python3.10/dist-packages (from qdrant_client) (1.65.2)\n",
      "Requirement already satisfied: portalocker<3.0.0,>=2.7.0 in /usr/local/lib/python3.10/dist-packages (from qdrant_client) (2.10.1)\n",
      "Requirement already satisfied: urllib3<3,>=1.26.14 in /usr/local/lib/python3.10/dist-packages (from qdrant_client) (2.0.7)\n",
      "Requirement already satisfied: idna>=2.8 in /usr/local/lib/python3.10/dist-packages (from anyio<5,>=3.5.0->openai) (3.7)\n",
      "Requirement already satisfied: exceptiongroup in /usr/local/lib/python3.10/dist-packages (from anyio<5,>=3.5.0->openai) (1.2.2)\n",
      "Requirement already satisfied: protobuf<6.0dev,>=5.26.1 in /usr/local/lib/python3.10/dist-packages (from grpcio-tools>=1.41.0->qdrant_client) (5.27.3)\n",
      "Requirement already satisfied: setuptools in /usr/local/lib/python3.10/dist-packages (from grpcio-tools>=1.41.0->qdrant_client) (71.0.4)\n",
      "Requirement already satisfied: certifi in /usr/local/lib/python3.10/dist-packages (from httpx->llama-index-core==0.10.59->llama_index) (2024.7.4)\n",
      "Requirement already satisfied: httpcore==1.* in /usr/local/lib/python3.10/dist-packages (from httpx->llama-index-core==0.10.59->llama_index) (1.0.5)\n",
      "Requirement already satisfied: h11<0.15,>=0.13 in /usr/local/lib/python3.10/dist-packages (from httpcore==1.*->httpx->llama-index-core==0.10.59->llama_index) (0.14.0)\n",
      "Requirement already satisfied: h2<5,>=3 in /usr/local/lib/python3.10/dist-packages (from httpx[http2]>=0.20.0->qdrant_client) (4.1.0)\n",
      "Requirement already satisfied: llama-cloud>=0.0.11 in /usr/local/lib/python3.10/dist-packages (from llama-index-indices-managed-llama-cloud>=0.2.0->llama_index) (0.0.11)\n",
      "Requirement already satisfied: beautifulsoup4<5.0.0,>=4.12.3 in /usr/local/lib/python3.10/dist-packages (from llama-index-readers-file<0.2.0,>=0.1.4->llama_index) (4.12.3)\n",
      "Requirement already satisfied: pypdf<5.0.0,>=4.0.1 in /usr/local/lib/python3.10/dist-packages (from llama-index-readers-file<0.2.0,>=0.1.4->llama_index) (4.3.1)\n",
      "Requirement already satisfied: striprtf<0.0.27,>=0.0.26 in /usr/local/lib/python3.10/dist-packages (from llama-index-readers-file<0.2.0,>=0.1.4->llama_index) (0.0.26)\n",
      "Requirement already satisfied: llama-parse>=0.4.0 in /usr/local/lib/python3.10/dist-packages (from llama-index-readers-llama-parse>=0.1.2->llama_index) (0.4.9)\n",
      "Requirement already satisfied: annotated-types>=0.4.0 in /usr/local/lib/python3.10/dist-packages (from pydantic<3,>=1.9.0->openai) (0.7.0)\n",
      "Requirement already satisfied: pydantic-core==2.20.1 in /usr/local/lib/python3.10/dist-packages (from pydantic<3,>=1.9.0->openai) (2.20.1)\n",
      "Requirement already satisfied: aiosignal>=1.1.2 in /usr/local/lib/python3.10/dist-packages (from aiohttp<4.0.0,>=3.8.6->llama-index-core==0.10.59->llama_index) (1.3.1)\n",
      "Requirement already satisfied: attrs>=17.3.0 in /usr/local/lib/python3.10/dist-packages (from aiohttp<4.0.0,>=3.8.6->llama-index-core==0.10.59->llama_index) (23.2.0)\n",
      "Requirement already satisfied: frozenlist>=1.1.1 in /usr/local/lib/python3.10/dist-packages (from aiohttp<4.0.0,>=3.8.6->llama-index-core==0.10.59->llama_index) (1.4.1)\n",
      "Requirement already satisfied: multidict<7.0,>=4.5 in /usr/local/lib/python3.10/dist-packages (from aiohttp<4.0.0,>=3.8.6->llama-index-core==0.10.59->llama_index) (6.0.5)\n",
      "Requirement already satisfied: yarl<2.0,>=1.0 in /usr/local/lib/python3.10/dist-packages (from aiohttp<4.0.0,>=3.8.6->llama-index-core==0.10.59->llama_index) (1.9.4)\n",
      "Requirement already satisfied: async-timeout<5.0,>=4.0 in /usr/local/lib/python3.10/dist-packages (from aiohttp<4.0.0,>=3.8.6->llama-index-core==0.10.59->llama_index) (4.0.3)\n",
      "Requirement already satisfied: soupsieve>1.2 in /usr/local/lib/python3.10/dist-packages (from beautifulsoup4<5.0.0,>=4.12.3->llama-index-readers-file<0.2.0,>=0.1.4->llama_index) (2.5)\n",
      "Requirement already satisfied: hyperframe<7,>=6.0 in /usr/local/lib/python3.10/dist-packages (from h2<5,>=3->httpx[http2]>=0.20.0->qdrant_client) (6.0.1)\n",
      "Requirement already satisfied: hpack<5,>=4.0 in /usr/local/lib/python3.10/dist-packages (from h2<5,>=3->httpx[http2]>=0.20.0->qdrant_client) (4.0.0)\n",
      "Requirement already satisfied: click in /usr/local/lib/python3.10/dist-packages (from nltk<4.0.0,>=3.8.1->llama-index-core==0.10.59->llama_index) (8.1.7)\n",
      "Requirement already satisfied: joblib in /usr/local/lib/python3.10/dist-packages (from nltk<4.0.0,>=3.8.1->llama-index-core==0.10.59->llama_index) (1.4.2)\n",
      "Requirement already satisfied: regex>=2021.8.3 in /usr/local/lib/python3.10/dist-packages (from nltk<4.0.0,>=3.8.1->llama-index-core==0.10.59->llama_index) (2024.5.15)\n",
      "Requirement already satisfied: charset-normalizer<4,>=2 in /usr/local/lib/python3.10/dist-packages (from requests>=2.31.0->llama-index-core==0.10.59->llama_index) (3.3.2)\n",
      "Requirement already satisfied: greenlet!=0.4.17 in /usr/local/lib/python3.10/dist-packages (from SQLAlchemy>=1.4.49->SQLAlchemy[asyncio]>=1.4.49->llama-index-core==0.10.59->llama_index) (3.0.3)\n",
      "Requirement already satisfied: mypy-extensions>=0.3.0 in /usr/local/lib/python3.10/dist-packages (from typing-inspect>=0.8.0->llama-index-core==0.10.59->llama_index) (1.0.0)\n",
      "Requirement already satisfied: marshmallow<4.0.0,>=3.18.0 in /usr/local/lib/python3.10/dist-packages (from dataclasses-json->llama-index-core==0.10.59->llama_index) (3.21.3)\n",
      "Requirement already satisfied: python-dateutil>=2.8.2 in /usr/local/lib/python3.10/dist-packages (from pandas->llama-index-core==0.10.59->llama_index) (2.8.2)\n",
      "Requirement already satisfied: pytz>=2020.1 in /usr/local/lib/python3.10/dist-packages (from pandas->llama-index-core==0.10.59->llama_index) (2024.1)\n",
      "Requirement already satisfied: tzdata>=2022.1 in /usr/local/lib/python3.10/dist-packages (from pandas->llama-index-core==0.10.59->llama_index) (2024.1)\n",
      "Requirement already satisfied: packaging>=17.0 in /usr/local/lib/python3.10/dist-packages (from marshmallow<4.0.0,>=3.18.0->dataclasses-json->llama-index-core==0.10.59->llama_index) (24.1)\n",
      "Requirement already satisfied: six>=1.5 in /usr/local/lib/python3.10/dist-packages (from python-dateutil>=2.8.2->pandas->llama-index-core==0.10.59->llama_index) (1.16.0)\n",
      "Downloading llama_index_vector_stores_qdrant-0.2.14-py3-none-any.whl (10 kB)\n",
      "Installing collected packages: llama-index-vector-stores-qdrant\n",
      "Successfully installed llama-index-vector-stores-qdrant-0.2.14\n"
     ]
    }
   ],
   "source": [
    "!pip install llama_index openai qdrant_client llama-index-vector-stores-qdrant"
   ]
  },
  {
   "cell_type": "code",
   "execution_count": 1,
   "metadata": {
    "id": "V0APRvFHtgU6"
   },
   "outputs": [],
   "source": [
    "import logging\n",
    "import sys\n",
    "\n",
    "logging.basicConfig(stream=sys.stdout, level=logging.INFO)\n",
    "logging.getLogger().addHandler(logging.StreamHandler(stream=sys.stdout))\n",
    "\n",
    "def display_prompt_dict(prompts_dict):\n",
    "    for k, p in prompts_dict.items():\n",
    "        text_md = f\"**Prompt Key**: {k}\" f\"**Text:** \"\n",
    "        display(Markdown(text_md))\n",
    "        print(p.get_template())\n",
    "        display(Markdown(\"\"))"
   ]
  },
  {
   "cell_type": "code",
   "execution_count": 6,
   "metadata": {
    "id": "XLgDacaVtgU9"
   },
   "outputs": [],
   "source": [
    "from llama_index.core.indices.vector_store.base import VectorStoreIndex\n",
    "from llama_index.vector_stores.qdrant import QdrantVectorStore\n",
    "\n",
    "import qdrant_client\n",
    "from qdrant_client import models\n",
    "client = qdrant_client.QdrantClient(\n",
    "    url=\"\",\n",
    "    api_key=\"\",\n",
    ")\n"
   ]
  },
  {
   "cell_type": "code",
   "execution_count": 3,
   "metadata": {
    "id": "t59nNf9QtgU_"
   },
   "outputs": [],
   "source": [
    "from llama_index.core import VectorStoreIndex, StorageContext"
   ]
  },
  {
   "cell_type": "code",
   "execution_count": 4,
   "metadata": {
    "id": "9aKeDDTItgVA"
   },
   "outputs": [],
   "source": [
    "from llama_index.core.schema import TextNode\n",
    "\n",
    "nodes = [\n",
    "    TextNode(\n",
    "        text=(\n",
    "            \"A bunch of scientists bring back dinosaurs and mayhem breaks\"\n",
    "            \" loose\"\n",
    "        ),\n",
    "        metadata={\"year\": 1993, \"rating\": 7.7, \"genre\": \"science fiction\"},\n",
    "    ),\n",
    "    TextNode(\n",
    "        text=(\n",
    "            \"Leo DiCaprio gets lost in a dream within a dream within a dream\"\n",
    "            \" within a ...\"\n",
    "        ),\n",
    "        metadata={\n",
    "            \"year\": 2010,\n",
    "            \"director\": \"Christopher Nolan\",\n",
    "            \"rating\": 8.2,\n",
    "        },\n",
    "    ),\n",
    "    TextNode(\n",
    "        text=(\n",
    "            \"Batman now serves as a under-the-hood hero in Gotham City...\"\n",
    "        ),\n",
    "        metadata={\n",
    "            \"year\": 2008,\n",
    "            \"director\": \"Christopher Nolan\",\n",
    "            \"rating\": 8.9,\n",
    "        },\n",
    "    ),\n",
    "    TextNode(\n",
    "        text=(\n",
    "            \"A psychologist / detective gets lost in a series of dreams within\"\n",
    "            \" dreams within dreams and Inception reused the idea\"\n",
    "        ),\n",
    "        metadata={\"year\": 2006, \"director\": \"Satoshi Kon\", \"rating\": 8.6},\n",
    "    ),\n",
    "    TextNode(\n",
    "        text=(\n",
    "            \"A bunch of normal-sized women are supremely wholesome and some\"\n",
    "            \" men pine after them\"\n",
    "        ),\n",
    "        metadata={\"year\": 2019, \"director\": \"Greta Gerwig\", \"rating\": 8.3},\n",
    "    ),\n",
    "    TextNode(\n",
    "        text=\"Toys come alive and have a blast doing so\",\n",
    "        metadata={\"year\": 1995, \"genre\": \"animated\"},\n",
    "    ),\n",
    "]"
   ]
  },
  {
   "cell_type": "code",
   "execution_count": 5,
   "metadata": {
    "id": "LvxHL8dztgVB"
   },
   "outputs": [],
   "source": [
    "from llama_index.llms.openai import OpenAI\n",
    "from llama_index.embeddings.openai import OpenAIEmbedding\n",
    "from llama_index.core import Settings\n",
    "Settings.embed_model = OpenAIEmbedding(\n",
    "    model=\"text-embedding-3-small\"\n",
    ")\n",
    "Settings.llm= OpenAI(temperature=0,model='gpt-4o-mini')"
   ]
  },
  {
   "cell_type": "code",
   "execution_count": null,
   "metadata": {
    "id": "aSf6Ig_EtgVC"
   },
   "outputs": [],
   "source": [
    "vector_store = QdrantVectorStore(client=client, collection_name=\"metafilter_exercise\")\n",
    "storage_context = StorageContext.from_defaults(vector_store=vector_store)\n"
   ]
  },
  {
   "cell_type": "code",
   "execution_count": null,
   "metadata": {
    "id": "x97lXXTctgVD"
   },
   "outputs": [],
   "source": [
    "index = VectorStoreIndex(nodes, storage_context=storage_context)"
   ]
  },
  {
   "cell_type": "code",
   "execution_count": 9,
   "metadata": {
    "id": "dd-2yddetgVE"
   },
   "outputs": [],
   "source": [
    "from llama_index.core.retrievers import VectorIndexAutoRetriever\n",
    "from llama_index.core.vector_stores import MetadataInfo, VectorStoreInfo\n",
    "\n",
    "vector_store_info = VectorStoreInfo(\n",
    "    content_info=\"Brief summary of a movie\",\n",
    "    metadata_info=[\n",
    "        MetadataInfo(\n",
    "            name=\"genre\",\n",
    "            description=\"The genre of the movie\",\n",
    "            type=\"string or list[string]\",\n",
    "        ),\n",
    "        MetadataInfo(\n",
    "            name=\"year\",\n",
    "            description=\"The year the movie was released\",\n",
    "            type=\"integer\",\n",
    "        ),\n",
    "        MetadataInfo(\n",
    "            name=\"director\",\n",
    "            description=\"The name of the movie director\",\n",
    "            type=\"string\",\n",
    "        ),\n",
    "        MetadataInfo(\n",
    "            name=\"rating\",\n",
    "            description=\"A 1-10 rating for the movie\",\n",
    "            type=\"float\",\n",
    "        ),\n",
    "    ],\n",
    ")\n",
    "retriever = VectorIndexAutoRetriever(\n",
    "    index, vector_store_info=vector_store_info, verbose=True\n",
    ")"
   ]
  },
  {
   "cell_type": "code",
   "execution_count": 10,
   "metadata": {
    "colab": {
     "base_uri": "https://localhost:8080/"
    },
    "executionInfo": {
     "elapsed": 3247,
     "status": "ok",
     "timestamp": 1722512469739,
     "user": {
      "displayName": "한두솔",
      "userId": "14744311692633150263"
     },
     "user_tz": -540
    },
    "id": "n63ezqHOtgVG",
    "outputId": "b674a96c-e63e-4462-9bc9-10f9ae803e8b"
   },
   "outputs": [
    {
     "name": "stdout",
     "output_type": "stream",
     "text": [
      "INFO:httpx:HTTP Request: POST https://api.openai.com/v1/chat/completions \"HTTP/1.1 200 OK\"\n",
      "HTTP Request: POST https://api.openai.com/v1/chat/completions \"HTTP/1.1 200 OK\"\n",
      "INFO:llama_index.core.indices.vector_store.retrievers.auto_retriever.auto_retriever:Using query str: Movies directed by Christopher Nolan\n",
      "Using query str: Movies directed by Christopher Nolan\n",
      "INFO:llama_index.core.indices.vector_store.retrievers.auto_retriever.auto_retriever:Using filters: [('director', '==', 'Christopher Nolan'), ('year', '<', 2010)]\n",
      "Using filters: [('director', '==', 'Christopher Nolan'), ('year', '<', 2010)]\n",
      "Using query str: Movies directed by Christopher Nolan\n",
      "Using filters: [('director', '==', 'Christopher Nolan'), ('year', '<', 2010)]\n",
      "INFO:llama_index.core.indices.vector_store.retrievers.auto_retriever.auto_retriever:Using top_k: 2\n",
      "Using top_k: 2\n",
      "INFO:httpx:HTTP Request: POST https://api.openai.com/v1/embeddings \"HTTP/1.1 200 OK\"\n",
      "HTTP Request: POST https://api.openai.com/v1/embeddings \"HTTP/1.1 200 OK\"\n",
      "INFO:httpx:HTTP Request: POST https://2dbee40a-5d76-4ab5-9f5d-a038db640bba.eu-west-2-0.aws.cloud.qdrant.io:6333/collections/metafilter_exercise/points/search \"HTTP/1.1 200 OK\"\n",
      "HTTP Request: POST https://2dbee40a-5d76-4ab5-9f5d-a038db640bba.eu-west-2-0.aws.cloud.qdrant.io:6333/collections/metafilter_exercise/points/search \"HTTP/1.1 200 OK\"\n"
     ]
    },
    {
     "data": {
      "text/plain": [
       "[NodeWithScore(node=TextNode(id_='e6d6bba9-c898-428d-a584-94fe82f36ee2', embedding=None, metadata={'year': 2008, 'director': 'Christopher Nolan', 'rating': 8.9}, excluded_embed_metadata_keys=[], excluded_llm_metadata_keys=[], relationships={}, metadata_template='{key}: {value}', metadata_separator='\\n', text='Batman now serves as a under-the-hood hero in Gotham City...', mimetype='text/plain', start_char_idx=None, end_char_idx=None, metadata_seperator='\\n', text_template='{metadata_str}\\n\\n{content}'), score=0.5220654)]"
      ]
     },
     "execution_count": 10,
     "metadata": {},
     "output_type": "execute_result"
    }
   ],
   "source": [
    "# 메타데이터 operand 활용하여 1개만 뜨는지 확인\n",
    "retriever.retrieve(\n",
    "    \"What are 2 movies by Christopher Nolan were made before 2010?\"\n",
    ")"
   ]
  },
  {
   "cell_type": "code",
   "execution_count": 11,
   "metadata": {
    "colab": {
     "base_uri": "https://localhost:8080/"
    },
    "executionInfo": {
     "elapsed": 3107,
     "status": "ok",
     "timestamp": 1722512494569,
     "user": {
      "displayName": "한두솔",
      "userId": "14744311692633150263"
     },
     "user_tz": -540
    },
    "id": "PqWkFMXLtgVH",
    "outputId": "7412d1a2-e7e8-40e9-8af5-356cbc89e670"
   },
   "outputs": [
    {
     "name": "stdout",
     "output_type": "stream",
     "text": [
      "INFO:httpx:HTTP Request: POST https://api.openai.com/v1/chat/completions \"HTTP/1.1 200 OK\"\n",
      "HTTP Request: POST https://api.openai.com/v1/chat/completions \"HTTP/1.1 200 OK\"\n",
      "INFO:llama_index.core.indices.vector_store.retrievers.auto_retriever.auto_retriever:Using query str: Movies directed by Christopher Nolan\n",
      "Using query str: Movies directed by Christopher Nolan\n",
      "INFO:llama_index.core.indices.vector_store.retrievers.auto_retriever.auto_retriever:Using filters: [('director', '==', 'Christopher Nolan'), ('year', '<', 2020)]\n",
      "Using filters: [('director', '==', 'Christopher Nolan'), ('year', '<', 2020)]\n",
      "Using query str: Movies directed by Christopher Nolan\n",
      "Using filters: [('director', '==', 'Christopher Nolan'), ('year', '<', 2020)]\n",
      "INFO:llama_index.core.indices.vector_store.retrievers.auto_retriever.auto_retriever:Using top_k: 2\n",
      "Using top_k: 2\n",
      "INFO:httpx:HTTP Request: POST https://api.openai.com/v1/embeddings \"HTTP/1.1 200 OK\"\n",
      "HTTP Request: POST https://api.openai.com/v1/embeddings \"HTTP/1.1 200 OK\"\n",
      "INFO:httpx:HTTP Request: POST https://2dbee40a-5d76-4ab5-9f5d-a038db640bba.eu-west-2-0.aws.cloud.qdrant.io:6333/collections/metafilter_exercise/points/search \"HTTP/1.1 200 OK\"\n",
      "HTTP Request: POST https://2dbee40a-5d76-4ab5-9f5d-a038db640bba.eu-west-2-0.aws.cloud.qdrant.io:6333/collections/metafilter_exercise/points/search \"HTTP/1.1 200 OK\"\n"
     ]
    },
    {
     "data": {
      "text/plain": [
       "[NodeWithScore(node=TextNode(id_='df7ebd00-1ddd-470a-a2d7-e6248e9d599b', embedding=None, metadata={'year': 2010, 'director': 'Christopher Nolan', 'rating': 8.2}, excluded_embed_metadata_keys=[], excluded_llm_metadata_keys=[], relationships={}, metadata_template='{key}: {value}', metadata_separator='\\n', text='Leo DiCaprio gets lost in a dream within a dream within a dream within a ...', mimetype='text/plain', start_char_idx=None, end_char_idx=None, metadata_seperator='\\n', text_template='{metadata_str}\\n\\n{content}'), score=0.53621125),\n",
       " NodeWithScore(node=TextNode(id_='e6d6bba9-c898-428d-a584-94fe82f36ee2', embedding=None, metadata={'year': 2008, 'director': 'Christopher Nolan', 'rating': 8.9}, excluded_embed_metadata_keys=[], excluded_llm_metadata_keys=[], relationships={}, metadata_template='{key}: {value}', metadata_separator='\\n', text='Batman now serves as a under-the-hood hero in Gotham City...', mimetype='text/plain', start_char_idx=None, end_char_idx=None, metadata_seperator='\\n', text_template='{metadata_str}\\n\\n{content}'), score=0.5219945)]"
      ]
     },
     "execution_count": 11,
     "metadata": {},
     "output_type": "execute_result"
    }
   ],
   "source": [
    "# 두개 다 떠야할 경우 확인\n",
    "retriever.retrieve(\n",
    "    \"What are 2 movies by Christopher Nolan were made before 2020?\"\n",
    ")"
   ]
  },
  {
   "cell_type": "code",
   "execution_count": 12,
   "metadata": {
    "colab": {
     "base_uri": "https://localhost:8080/"
    },
    "executionInfo": {
     "elapsed": 2852,
     "status": "ok",
     "timestamp": 1722512566480,
     "user": {
      "displayName": "한두솔",
      "userId": "14744311692633150263"
     },
     "user_tz": -540
    },
    "id": "EPUa97zxtgVI",
    "outputId": "6968d2ee-dbc6-4452-fdfb-ecadad9e9fdc"
   },
   "outputs": [
    {
     "name": "stdout",
     "output_type": "stream",
     "text": [
      "INFO:httpx:HTTP Request: POST https://api.openai.com/v1/chat/completions \"HTTP/1.1 200 OK\"\n",
      "HTTP Request: POST https://api.openai.com/v1/chat/completions \"HTTP/1.1 200 OK\"\n",
      "INFO:llama_index.core.indices.vector_store.retrievers.auto_retriever.auto_retriever:Using query str: Movies directed by Satoshi Kon\n",
      "Using query str: Movies directed by Satoshi Kon\n",
      "INFO:llama_index.core.indices.vector_store.retrievers.auto_retriever.auto_retriever:Using filters: [('director', '==', 'Satoshi Kon'), ('year', '<', '2009')]\n",
      "Using filters: [('director', '==', 'Satoshi Kon'), ('year', '<', '2009')]\n",
      "Using query str: Movies directed by Satoshi Kon\n",
      "Using filters: [('director', '==', 'Satoshi Kon'), ('year', '<', '2009')]\n",
      "INFO:llama_index.core.indices.vector_store.retrievers.auto_retriever.auto_retriever:Using top_k: 2\n",
      "Using top_k: 2\n",
      "INFO:httpx:HTTP Request: POST https://api.openai.com/v1/embeddings \"HTTP/1.1 200 OK\"\n",
      "HTTP Request: POST https://api.openai.com/v1/embeddings \"HTTP/1.1 200 OK\"\n",
      "INFO:httpx:HTTP Request: POST https://2dbee40a-5d76-4ab5-9f5d-a038db640bba.eu-west-2-0.aws.cloud.qdrant.io:6333/collections/metafilter_exercise/points/search \"HTTP/1.1 200 OK\"\n",
      "HTTP Request: POST https://2dbee40a-5d76-4ab5-9f5d-a038db640bba.eu-west-2-0.aws.cloud.qdrant.io:6333/collections/metafilter_exercise/points/search \"HTTP/1.1 200 OK\"\n"
     ]
    },
    {
     "data": {
      "text/plain": [
       "[NodeWithScore(node=TextNode(id_='93000df8-9a77-4e77-ab66-1bbfb1ebb0e5', embedding=None, metadata={'year': 2006, 'director': 'Satoshi Kon', 'rating': 8.6}, excluded_embed_metadata_keys=[], excluded_llm_metadata_keys=[], relationships={}, metadata_template='{key}: {value}', metadata_separator='\\n', text='A psychologist / detective gets lost in a series of dreams within dreams within dreams and Inception reused the idea', mimetype='text/plain', start_char_idx=None, end_char_idx=None, metadata_seperator='\\n', text_template='{metadata_str}\\n\\n{content}'), score=0.5448681)]"
      ]
     },
     "execution_count": 12,
     "metadata": {},
     "output_type": "execute_result"
    }
   ],
   "source": [
    "# 한개 떠야할 경우 확인\n",
    "retriever.retrieve(\n",
    "    \"What are the movies by Satoshi Kon before 2009?\"\n",
    ")"
   ]
  },
  {
   "cell_type": "code",
   "execution_count": 13,
   "metadata": {
    "colab": {
     "base_uri": "https://localhost:8080/"
    },
    "executionInfo": {
     "elapsed": 2316,
     "status": "ok",
     "timestamp": 1722512570423,
     "user": {
      "displayName": "한두솔",
      "userId": "14744311692633150263"
     },
     "user_tz": -540
    },
    "id": "JtoS7l8ttgVI",
    "outputId": "8ba07ad9-70f0-4e0e-8566-6881ae23cab0"
   },
   "outputs": [
    {
     "name": "stdout",
     "output_type": "stream",
     "text": [
      "INFO:httpx:HTTP Request: POST https://api.openai.com/v1/chat/completions \"HTTP/1.1 200 OK\"\n",
      "HTTP Request: POST https://api.openai.com/v1/chat/completions \"HTTP/1.1 200 OK\"\n",
      "INFO:llama_index.core.indices.vector_store.retrievers.auto_retriever.auto_retriever:Using query str: science fiction movies directed by Andrei Tarkovsky\n",
      "Using query str: science fiction movies directed by Andrei Tarkovsky\n",
      "INFO:llama_index.core.indices.vector_store.retrievers.auto_retriever.auto_retriever:Using filters: [('director', '==', 'Andrei Tarkovsky'), ('genre', '==', 'science fiction')]\n",
      "Using filters: [('director', '==', 'Andrei Tarkovsky'), ('genre', '==', 'science fiction')]\n",
      "Using query str: science fiction movies directed by Andrei Tarkovsky\n",
      "Using filters: [('director', '==', 'Andrei Tarkovsky'), ('genre', '==', 'science fiction')]\n",
      "INFO:llama_index.core.indices.vector_store.retrievers.auto_retriever.auto_retriever:Using top_k: 2\n",
      "Using top_k: 2\n",
      "INFO:httpx:HTTP Request: POST https://api.openai.com/v1/embeddings \"HTTP/1.1 200 OK\"\n",
      "HTTP Request: POST https://api.openai.com/v1/embeddings \"HTTP/1.1 200 OK\"\n",
      "INFO:httpx:HTTP Request: POST https://2dbee40a-5d76-4ab5-9f5d-a038db640bba.eu-west-2-0.aws.cloud.qdrant.io:6333/collections/metafilter_exercise/points/search \"HTTP/1.1 200 OK\"\n",
      "HTTP Request: POST https://2dbee40a-5d76-4ab5-9f5d-a038db640bba.eu-west-2-0.aws.cloud.qdrant.io:6333/collections/metafilter_exercise/points/search \"HTTP/1.1 200 OK\"\n"
     ]
    },
    {
     "data": {
      "text/plain": [
       "[]"
      ]
     },
     "execution_count": 13,
     "metadata": {},
     "output_type": "execute_result"
    }
   ],
   "source": [
    "# 아무것도 안떠야 하는 경우 확인\n",
    "retriever.retrieve(\"Has Andrei Tarkovsky directed any science fiction movies\")"
   ]
  },
  {
   "cell_type": "code",
   "execution_count": 14,
   "metadata": {
    "id": "i7iXGOxatgVJ"
   },
   "outputs": [],
   "source": [
    "from llama_index.core import get_response_synthesizer\n",
    "from llama_index.core.query_engine import RetrieverQueryEngine\n",
    "# 쿼리 엔진 붙히기\n",
    "response_synthesizer = get_response_synthesizer()\n",
    "\n",
    "metadata_query_engine = RetrieverQueryEngine(\n",
    "    retriever=retriever,\n",
    "    response_synthesizer=response_synthesizer,\n",
    ")\n"
   ]
  },
  {
   "cell_type": "code",
   "execution_count": 15,
   "metadata": {
    "colab": {
     "base_uri": "https://localhost:8080/"
    },
    "executionInfo": {
     "elapsed": 3850,
     "status": "ok",
     "timestamp": 1722512609488,
     "user": {
      "displayName": "한두솔",
      "userId": "14744311692633150263"
     },
     "user_tz": -540
    },
    "id": "lhaahk2MtgVK",
    "outputId": "019a7c7f-f656-4d84-fa33-bf3a2252c148"
   },
   "outputs": [
    {
     "name": "stdout",
     "output_type": "stream",
     "text": [
      "INFO:httpx:HTTP Request: POST https://api.openai.com/v1/chat/completions \"HTTP/1.1 200 OK\"\n",
      "HTTP Request: POST https://api.openai.com/v1/chat/completions \"HTTP/1.1 200 OK\"\n",
      "INFO:llama_index.core.indices.vector_store.retrievers.auto_retriever.auto_retriever:Using query str: Rating of movies directed by Christopher Nolan\n",
      "Using query str: Rating of movies directed by Christopher Nolan\n",
      "INFO:llama_index.core.indices.vector_store.retrievers.auto_retriever.auto_retriever:Using filters: [('director', '==', 'Christopher Nolan'), ('year', '<', 2010)]\n",
      "Using filters: [('director', '==', 'Christopher Nolan'), ('year', '<', 2010)]\n",
      "Using query str: Rating of movies directed by Christopher Nolan\n",
      "Using filters: [('director', '==', 'Christopher Nolan'), ('year', '<', 2010)]\n",
      "INFO:llama_index.core.indices.vector_store.retrievers.auto_retriever.auto_retriever:Using top_k: 2\n",
      "Using top_k: 2\n",
      "INFO:httpx:HTTP Request: POST https://api.openai.com/v1/embeddings \"HTTP/1.1 200 OK\"\n",
      "HTTP Request: POST https://api.openai.com/v1/embeddings \"HTTP/1.1 200 OK\"\n",
      "INFO:httpx:HTTP Request: POST https://2dbee40a-5d76-4ab5-9f5d-a038db640bba.eu-west-2-0.aws.cloud.qdrant.io:6333/collections/metafilter_exercise/points/search \"HTTP/1.1 200 OK\"\n",
      "HTTP Request: POST https://2dbee40a-5d76-4ab5-9f5d-a038db640bba.eu-west-2-0.aws.cloud.qdrant.io:6333/collections/metafilter_exercise/points/search \"HTTP/1.1 200 OK\"\n",
      "INFO:httpx:HTTP Request: POST https://api.openai.com/v1/chat/completions \"HTTP/1.1 200 OK\"\n",
      "HTTP Request: POST https://api.openai.com/v1/chat/completions \"HTTP/1.1 200 OK\"\n"
     ]
    },
    {
     "data": {
      "text/plain": [
       "Response(response='The rating of the movie by Christopher Nolan made before 2010 is 8.9.', source_nodes=[NodeWithScore(node=TextNode(id_='e6d6bba9-c898-428d-a584-94fe82f36ee2', embedding=None, metadata={'year': 2008, 'director': 'Christopher Nolan', 'rating': 8.9}, excluded_embed_metadata_keys=[], excluded_llm_metadata_keys=[], relationships={}, metadata_template='{key}: {value}', metadata_separator='\\n', text='Batman now serves as a under-the-hood hero in Gotham City...', mimetype='text/plain', start_char_idx=None, end_char_idx=None, metadata_seperator='\\n', text_template='{metadata_str}\\n\\n{content}'), score=0.5815091)], metadata={'e6d6bba9-c898-428d-a584-94fe82f36ee2': {'year': 2008, 'director': 'Christopher Nolan', 'rating': 8.9}})"
      ]
     },
     "execution_count": 15,
     "metadata": {},
     "output_type": "execute_result"
    }
   ],
   "source": [
    "metadata_query_engine.query(\"What was the rating of the movie by Christopher Nolan that were made before 2010?\")"
   ]
  },
  {
   "cell_type": "code",
   "execution_count": 16,
   "metadata": {
    "colab": {
     "base_uri": "https://localhost:8080/"
    },
    "executionInfo": {
     "elapsed": 2625,
     "status": "ok",
     "timestamp": 1722512728240,
     "user": {
      "displayName": "한두솔",
      "userId": "14744311692633150263"
     },
     "user_tz": -540
    },
    "id": "hkH2WD0YtgVL",
    "outputId": "a7cd0681-2f15-449c-8002-6f1990b5ebfa"
   },
   "outputs": [
    {
     "name": "stdout",
     "output_type": "stream",
     "text": [
      "INFO:httpx:HTTP Request: POST https://api.openai.com/v1/chat/completions \"HTTP/1.1 200 OK\"\n",
      "HTTP Request: POST https://api.openai.com/v1/chat/completions \"HTTP/1.1 200 OK\"\n",
      "INFO:llama_index.core.indices.vector_store.retrievers.auto_retriever.auto_retriever:Using query str: science fiction movies directed by Andrei Tarkovsky\n",
      "Using query str: science fiction movies directed by Andrei Tarkovsky\n",
      "INFO:llama_index.core.indices.vector_store.retrievers.auto_retriever.auto_retriever:Using filters: [('director', '==', 'Andrei Tarkovsky'), ('genre', '==', 'science fiction')]\n",
      "Using filters: [('director', '==', 'Andrei Tarkovsky'), ('genre', '==', 'science fiction')]\n",
      "Using query str: science fiction movies directed by Andrei Tarkovsky\n",
      "Using filters: [('director', '==', 'Andrei Tarkovsky'), ('genre', '==', 'science fiction')]\n",
      "INFO:llama_index.core.indices.vector_store.retrievers.auto_retriever.auto_retriever:Using top_k: 2\n",
      "Using top_k: 2\n",
      "INFO:httpx:HTTP Request: POST https://api.openai.com/v1/embeddings \"HTTP/1.1 200 OK\"\n",
      "HTTP Request: POST https://api.openai.com/v1/embeddings \"HTTP/1.1 200 OK\"\n",
      "INFO:httpx:HTTP Request: POST https://2dbee40a-5d76-4ab5-9f5d-a038db640bba.eu-west-2-0.aws.cloud.qdrant.io:6333/collections/metafilter_exercise/points/search \"HTTP/1.1 200 OK\"\n",
      "HTTP Request: POST https://2dbee40a-5d76-4ab5-9f5d-a038db640bba.eu-west-2-0.aws.cloud.qdrant.io:6333/collections/metafilter_exercise/points/search \"HTTP/1.1 200 OK\"\n"
     ]
    },
    {
     "data": {
      "text/plain": [
       "Response(response='Empty Response', source_nodes=[], metadata=None)"
      ]
     },
     "execution_count": 16,
     "metadata": {},
     "output_type": "execute_result"
    }
   ],
   "source": [
    "metadata_query_engine.query(\"Has Andrei Tarkovsky directed any science fiction movies?\")"
   ]
  },
  {
   "cell_type": "code",
   "execution_count": 17,
   "metadata": {
    "id": "YpOBYadxtgVL"
   },
   "outputs": [],
   "source": [
    "# Naive RAG\n",
    "query_engine = index.as_query_engine()"
   ]
  },
  {
   "cell_type": "code",
   "execution_count": 18,
   "metadata": {
    "colab": {
     "base_uri": "https://localhost:8080/"
    },
    "executionInfo": {
     "elapsed": 2304,
     "status": "ok",
     "timestamp": 1722512753926,
     "user": {
      "displayName": "한두솔",
      "userId": "14744311692633150263"
     },
     "user_tz": -540
    },
    "id": "mpcHSX4qtgVM",
    "outputId": "5768b789-dea4-4996-e4ce-b25ccf7ad3ab"
   },
   "outputs": [
    {
     "name": "stdout",
     "output_type": "stream",
     "text": [
      "INFO:httpx:HTTP Request: POST https://api.openai.com/v1/embeddings \"HTTP/1.1 200 OK\"\n",
      "HTTP Request: POST https://api.openai.com/v1/embeddings \"HTTP/1.1 200 OK\"\n",
      "INFO:httpx:HTTP Request: POST https://2dbee40a-5d76-4ab5-9f5d-a038db640bba.eu-west-2-0.aws.cloud.qdrant.io:6333/collections/metafilter_exercise/points/search \"HTTP/1.1 200 OK\"\n",
      "HTTP Request: POST https://2dbee40a-5d76-4ab5-9f5d-a038db640bba.eu-west-2-0.aws.cloud.qdrant.io:6333/collections/metafilter_exercise/points/search \"HTTP/1.1 200 OK\"\n",
      "INFO:httpx:HTTP Request: POST https://api.openai.com/v1/chat/completions \"HTTP/1.1 200 OK\"\n",
      "HTTP Request: POST https://api.openai.com/v1/chat/completions \"HTTP/1.1 200 OK\"\n"
     ]
    },
    {
     "data": {
      "text/plain": [
       "Response(response='The rating of the movie by Christopher Nolan that was made before 2010 is 8.9.', source_nodes=[NodeWithScore(node=TextNode(id_='df7ebd00-1ddd-470a-a2d7-e6248e9d599b', embedding=None, metadata={'year': 2010, 'director': 'Christopher Nolan', 'rating': 8.2}, excluded_embed_metadata_keys=[], excluded_llm_metadata_keys=[], relationships={}, metadata_template='{key}: {value}', metadata_separator='\\n', text='Leo DiCaprio gets lost in a dream within a dream within a dream within a ...', mimetype='text/plain', start_char_idx=None, end_char_idx=None, metadata_seperator='\\n', text_template='{metadata_str}\\n\\n{content}'), score=0.5586288), NodeWithScore(node=TextNode(id_='e6d6bba9-c898-428d-a584-94fe82f36ee2', embedding=None, metadata={'year': 2008, 'director': 'Christopher Nolan', 'rating': 8.9}, excluded_embed_metadata_keys=[], excluded_llm_metadata_keys=[], relationships={}, metadata_template='{key}: {value}', metadata_separator='\\n', text='Batman now serves as a under-the-hood hero in Gotham City...', mimetype='text/plain', start_char_idx=None, end_char_idx=None, metadata_seperator='\\n', text_template='{metadata_str}\\n\\n{content}'), score=0.54837286)], metadata={'df7ebd00-1ddd-470a-a2d7-e6248e9d599b': {'year': 2010, 'director': 'Christopher Nolan', 'rating': 8.2}, 'e6d6bba9-c898-428d-a584-94fe82f36ee2': {'year': 2008, 'director': 'Christopher Nolan', 'rating': 8.9}})"
      ]
     },
     "execution_count": 18,
     "metadata": {},
     "output_type": "execute_result"
    }
   ],
   "source": [
    "query_engine.query(\"What was the rating of the movie by Christopher Nolan that were made before 2010?\")\n",
    "# 메타데이터 필터 없이는 무조건 top-2로 retrieve되어 노이즈로써 컨텍스트 참고하게 됨."
   ]
  },
  {
   "cell_type": "code",
   "execution_count": 19,
   "metadata": {
    "colab": {
     "base_uri": "https://localhost:8080/"
    },
    "executionInfo": {
     "elapsed": 3016,
     "status": "ok",
     "timestamp": 1722512783278,
     "user": {
      "displayName": "한두솔",
      "userId": "14744311692633150263"
     },
     "user_tz": -540
    },
    "id": "q8I1bWy6tgVM",
    "outputId": "01d2e8fb-fde0-441e-910c-f0e5e91458a7"
   },
   "outputs": [
    {
     "name": "stdout",
     "output_type": "stream",
     "text": [
      "INFO:httpx:HTTP Request: POST https://api.openai.com/v1/embeddings \"HTTP/1.1 200 OK\"\n",
      "HTTP Request: POST https://api.openai.com/v1/embeddings \"HTTP/1.1 200 OK\"\n",
      "INFO:httpx:HTTP Request: POST https://2dbee40a-5d76-4ab5-9f5d-a038db640bba.eu-west-2-0.aws.cloud.qdrant.io:6333/collections/metafilter_exercise/points/search \"HTTP/1.1 200 OK\"\n",
      "HTTP Request: POST https://2dbee40a-5d76-4ab5-9f5d-a038db640bba.eu-west-2-0.aws.cloud.qdrant.io:6333/collections/metafilter_exercise/points/search \"HTTP/1.1 200 OK\"\n",
      "INFO:httpx:HTTP Request: POST https://api.openai.com/v1/chat/completions \"HTTP/1.1 200 OK\"\n",
      "HTTP Request: POST https://api.openai.com/v1/chat/completions \"HTTP/1.1 200 OK\"\n"
     ]
    },
    {
     "data": {
      "text/plain": [
       "Response(response='There is no information provided regarding Andrei Tarkovsky or his filmography in the context. Therefore, it cannot be determined if he has directed any science fiction movies.', source_nodes=[NodeWithScore(node=TextNode(id_='93000df8-9a77-4e77-ab66-1bbfb1ebb0e5', embedding=None, metadata={'year': 2006, 'director': 'Satoshi Kon', 'rating': 8.6}, excluded_embed_metadata_keys=[], excluded_llm_metadata_keys=[], relationships={}, metadata_template='{key}: {value}', metadata_separator='\\n', text='A psychologist / detective gets lost in a series of dreams within dreams within dreams and Inception reused the idea', mimetype='text/plain', start_char_idx=None, end_char_idx=None, metadata_seperator='\\n', text_template='{metadata_str}\\n\\n{content}'), score=0.30951488), NodeWithScore(node=TextNode(id_='24878131-4641-499c-ae2b-655b86a75ecb', embedding=None, metadata={'year': 1993, 'rating': 7.7, 'genre': 'science fiction'}, excluded_embed_metadata_keys=[], excluded_llm_metadata_keys=[], relationships={}, metadata_template='{key}: {value}', metadata_separator='\\n', text='A bunch of scientists bring back dinosaurs and mayhem breaks loose', mimetype='text/plain', start_char_idx=None, end_char_idx=None, metadata_seperator='\\n', text_template='{metadata_str}\\n\\n{content}'), score=0.2667281)], metadata={'93000df8-9a77-4e77-ab66-1bbfb1ebb0e5': {'year': 2006, 'director': 'Satoshi Kon', 'rating': 8.6}, '24878131-4641-499c-ae2b-655b86a75ecb': {'year': 1993, 'rating': 7.7, 'genre': 'science fiction'}})"
      ]
     },
     "execution_count": 19,
     "metadata": {},
     "output_type": "execute_result"
    }
   ],
   "source": [
    "query_engine.query(\"Has Andrei Tarkovsky directed any science fiction movies?\")\n",
    "# 메타데이터 필터 없이는 무조건 top-2로 retrieve되어 노이즈로써 컨텍스트 참고하게 됨."
   ]
  },
  {
   "cell_type": "markdown",
   "metadata": {
    "id": "Qa2_5Hrzw58d"
   },
   "source": [
    "# Do It Yourself"
   ]
  },
  {
   "cell_type": "code",
   "execution_count": 20,
   "metadata": {
    "id": "eOPmxQBvtgVN"
   },
   "outputs": [],
   "source": [
    "# 예시 2\n",
    "nodes = [\n",
    "    TextNode(\n",
    "        text=\"The Shawshank Redemption\",\n",
    "        metadata={\n",
    "            \"author\": \"Stephen King\",\n",
    "            \"theme\": \"Friendship\",\n",
    "            \"year\": 1994,\n",
    "        },\n",
    "    ),\n",
    "    TextNode(\n",
    "        text=\"The Godfather\",\n",
    "        metadata={\n",
    "            \"director\": \"Francis Ford Coppola\",\n",
    "            \"theme\": \"Mafia\",\n",
    "            \"year\": 1972,\n",
    "        },\n",
    "    ),\n",
    "    TextNode(\n",
    "        text=\"Inception\",\n",
    "        metadata={\n",
    "            \"director\": \"Christopher Nolan\",\n",
    "            \"theme\": \"Fiction\",\n",
    "            \"year\": 2010,\n",
    "        },\n",
    "    ),\n",
    "    TextNode(\n",
    "        text=\"To Kill a Mockingbird\",\n",
    "        metadata={\n",
    "            \"author\": \"Harper Lee\",\n",
    "            \"theme\": \"Fiction\",\n",
    "            \"year\": 1960,\n",
    "        },\n",
    "    ),\n",
    "    TextNode(\n",
    "        text=\"1984\",\n",
    "        metadata={\n",
    "            \"author\": \"George Orwell\",\n",
    "            \"theme\": \"Totalitarianism\",\n",
    "            \"year\": 1949,\n",
    "        },\n",
    "    ),\n",
    "    TextNode(\n",
    "        text=\"The Great Gatsby\",\n",
    "        metadata={\n",
    "            \"author\": \"F. Scott Fitzgerald\",\n",
    "            \"theme\": \"The American Dream\",\n",
    "            \"year\": 1925,\n",
    "        },\n",
    "    ),\n",
    "    TextNode(\n",
    "        text=\"Harry Potter and the Sorcerer's Stone\",\n",
    "        metadata={\n",
    "            \"author\": \"J.K. Rowling\",\n",
    "            \"theme\": \"Fiction\",\n",
    "            \"year\": 1997,\n",
    "        },\n",
    "    ),\n",
    "]"
   ]
  },
  {
   "cell_type": "code",
   "execution_count": 21,
   "metadata": {
    "id": "cHlYz1pStgVO"
   },
   "outputs": [
    {
     "name": "stdout",
     "output_type": "stream",
     "text": [
      "INFO:httpx:HTTP Request: GET https://2dbee40a-5d76-4ab5-9f5d-a038db640bba.eu-west-2-0.aws.cloud.qdrant.io:6333/collections/metafilter_exercise2/exists \"HTTP/1.1 200 OK\"\n",
      "HTTP Request: GET https://2dbee40a-5d76-4ab5-9f5d-a038db640bba.eu-west-2-0.aws.cloud.qdrant.io:6333/collections/metafilter_exercise2/exists \"HTTP/1.1 200 OK\"\n",
      "INFO:httpx:HTTP Request: POST https://api.openai.com/v1/embeddings \"HTTP/1.1 200 OK\"\n",
      "HTTP Request: POST https://api.openai.com/v1/embeddings \"HTTP/1.1 200 OK\"\n",
      "INFO:httpx:HTTP Request: PUT https://2dbee40a-5d76-4ab5-9f5d-a038db640bba.eu-west-2-0.aws.cloud.qdrant.io:6333/collections/metafilter_exercise2 \"HTTP/1.1 200 OK\"\n",
      "HTTP Request: PUT https://2dbee40a-5d76-4ab5-9f5d-a038db640bba.eu-west-2-0.aws.cloud.qdrant.io:6333/collections/metafilter_exercise2 \"HTTP/1.1 200 OK\"\n",
      "INFO:httpx:HTTP Request: PUT https://2dbee40a-5d76-4ab5-9f5d-a038db640bba.eu-west-2-0.aws.cloud.qdrant.io:6333/collections/metafilter_exercise2/index?wait=true \"HTTP/1.1 200 OK\"\n",
      "HTTP Request: PUT https://2dbee40a-5d76-4ab5-9f5d-a038db640bba.eu-west-2-0.aws.cloud.qdrant.io:6333/collections/metafilter_exercise2/index?wait=true \"HTTP/1.1 200 OK\"\n",
      "INFO:httpx:HTTP Request: GET https://2dbee40a-5d76-4ab5-9f5d-a038db640bba.eu-west-2-0.aws.cloud.qdrant.io:6333/collections/metafilter_exercise2 \"HTTP/1.1 200 OK\"\n",
      "HTTP Request: GET https://2dbee40a-5d76-4ab5-9f5d-a038db640bba.eu-west-2-0.aws.cloud.qdrant.io:6333/collections/metafilter_exercise2 \"HTTP/1.1 200 OK\"\n",
      "INFO:httpx:HTTP Request: PUT https://2dbee40a-5d76-4ab5-9f5d-a038db640bba.eu-west-2-0.aws.cloud.qdrant.io:6333/collections/metafilter_exercise2/points?wait=true \"HTTP/1.1 200 OK\"\n",
      "HTTP Request: PUT https://2dbee40a-5d76-4ab5-9f5d-a038db640bba.eu-west-2-0.aws.cloud.qdrant.io:6333/collections/metafilter_exercise2/points?wait=true \"HTTP/1.1 200 OK\"\n"
     ]
    }
   ],
   "source": [
    "vector_store = QdrantVectorStore(client=client, collection_name=\"metafilter_exercise2\")\n",
    "storage_context = StorageContext.from_defaults(vector_store=vector_store)\n",
    "\n",
    "index2 = VectorStoreIndex(nodes, storage_context=storage_context)"
   ]
  },
  {
   "cell_type": "code",
   "execution_count": 22,
   "metadata": {
    "id": "ZhGvf7BvtgVO"
   },
   "outputs": [],
   "source": [
    "from llama_index.core.retrievers import VectorIndexAutoRetriever\n",
    "from llama_index.core.vector_stores import MetadataInfo, VectorStoreInfo\n",
    "\n",
    "\n",
    "vector_store_info = VectorStoreInfo(\n",
    "    content_info=\"famous books and movies\",\n",
    "    metadata_info=[\n",
    "        MetadataInfo(\n",
    "            name=\"director\",\n",
    "            type=\"str\",\n",
    "            description=(\"Name of the director\"),\n",
    "        ),\n",
    "        MetadataInfo(\n",
    "            name=\"theme\",\n",
    "            type=\"str\",\n",
    "            description=(\"Theme of the book/movie\"),\n",
    "        ),\n",
    "        MetadataInfo(\n",
    "            name=\"year\",\n",
    "            type=\"int\",\n",
    "            description=(\"Year of the book/movie\"),\n",
    "        ),\n",
    "    ],\n",
    ")\n",
    "retriever = VectorIndexAutoRetriever(\n",
    "    index2,\n",
    "    vector_store_info=vector_store_info,\n",
    "    verbose=True,\n",
    ")"
   ]
  },
  {
   "cell_type": "code",
   "execution_count": 23,
   "metadata": {
    "colab": {
     "base_uri": "https://localhost:8080/"
    },
    "executionInfo": {
     "elapsed": 2785,
     "status": "ok",
     "timestamp": 1722512978658,
     "user": {
      "displayName": "한두솔",
      "userId": "14744311692633150263"
     },
     "user_tz": -540
    },
    "id": "F0aHxZMntgVP",
    "outputId": "e58d926a-2e55-481e-b760-55655a70d574"
   },
   "outputs": [
    {
     "name": "stdout",
     "output_type": "stream",
     "text": [
      "INFO:httpx:HTTP Request: POST https://api.openai.com/v1/chat/completions \"HTTP/1.1 200 OK\"\n",
      "HTTP Request: POST https://api.openai.com/v1/chat/completions \"HTTP/1.1 200 OK\"\n",
      "INFO:llama_index.core.indices.vector_store.retrievers.auto_retriever.auto_retriever:Using query str: books or movies\n",
      "Using query str: books or movies\n",
      "INFO:llama_index.core.indices.vector_store.retrievers.auto_retriever.auto_retriever:Using filters: [('year', '>', '2000')]\n",
      "Using filters: [('year', '>', '2000')]\n",
      "Using query str: books or movies\n",
      "Using filters: [('year', '>', '2000')]\n",
      "INFO:llama_index.core.indices.vector_store.retrievers.auto_retriever.auto_retriever:Using top_k: 2\n",
      "Using top_k: 2\n",
      "INFO:httpx:HTTP Request: POST https://api.openai.com/v1/embeddings \"HTTP/1.1 200 OK\"\n",
      "HTTP Request: POST https://api.openai.com/v1/embeddings \"HTTP/1.1 200 OK\"\n",
      "INFO:httpx:HTTP Request: POST https://2dbee40a-5d76-4ab5-9f5d-a038db640bba.eu-west-2-0.aws.cloud.qdrant.io:6333/collections/metafilter_exercise2/points/search \"HTTP/1.1 200 OK\"\n",
      "HTTP Request: POST https://2dbee40a-5d76-4ab5-9f5d-a038db640bba.eu-west-2-0.aws.cloud.qdrant.io:6333/collections/metafilter_exercise2/points/search \"HTTP/1.1 200 OK\"\n"
     ]
    }
   ],
   "source": [
    "nodes = retriever.retrieve(\n",
    "    \"Tell me about some books/movies after the year 2000\"\n",
    ")"
   ]
  },
  {
   "cell_type": "code",
   "execution_count": 24,
   "metadata": {
    "colab": {
     "base_uri": "https://localhost:8080/"
    },
    "executionInfo": {
     "elapsed": 521,
     "status": "ok",
     "timestamp": 1722512981100,
     "user": {
      "displayName": "한두솔",
      "userId": "14744311692633150263"
     },
     "user_tz": -540
    },
    "id": "6jxbQBUPtgVP",
    "outputId": "350bd641-1a9f-4a79-9c7e-2dbcc3433abc"
   },
   "outputs": [
    {
     "name": "stdout",
     "output_type": "stream",
     "text": [
      "Inception\n",
      "{'director': 'Christopher Nolan', 'theme': 'Fiction', 'year': 2010}\n"
     ]
    }
   ],
   "source": [
    "for node in nodes:\n",
    "    print(node.text)\n",
    "    print(node.metadata)"
   ]
  },
  {
   "cell_type": "code",
   "execution_count": 25,
   "metadata": {
    "colab": {
     "base_uri": "https://localhost:8080/"
    },
    "executionInfo": {
     "elapsed": 2217,
     "status": "ok",
     "timestamp": 1722512997729,
     "user": {
      "displayName": "한두솔",
      "userId": "14744311692633150263"
     },
     "user_tz": -540
    },
    "id": "yqbwX2F4tgVP",
    "outputId": "7642156a-ea54-4060-a332-960ec9999d08"
   },
   "outputs": [
    {
     "name": "stdout",
     "output_type": "stream",
     "text": [
      "INFO:httpx:HTTP Request: POST https://api.openai.com/v1/chat/completions \"HTTP/1.1 200 OK\"\n",
      "HTTP Request: POST https://api.openai.com/v1/chat/completions \"HTTP/1.1 200 OK\"\n",
      "INFO:llama_index.core.indices.vector_store.retrievers.auto_retriever.auto_retriever:Using query str: books that are Fiction\n",
      "Using query str: books that are Fiction\n",
      "INFO:llama_index.core.indices.vector_store.retrievers.auto_retriever.auto_retriever:Using filters: []\n",
      "Using filters: []\n",
      "Using query str: books that are Fiction\n",
      "Using filters: []\n",
      "INFO:llama_index.core.indices.vector_store.retrievers.auto_retriever.auto_retriever:Using top_k: 2\n",
      "Using top_k: 2\n",
      "INFO:httpx:HTTP Request: POST https://api.openai.com/v1/embeddings \"HTTP/1.1 200 OK\"\n",
      "HTTP Request: POST https://api.openai.com/v1/embeddings \"HTTP/1.1 200 OK\"\n",
      "INFO:httpx:HTTP Request: POST https://2dbee40a-5d76-4ab5-9f5d-a038db640bba.eu-west-2-0.aws.cloud.qdrant.io:6333/collections/metafilter_exercise2/points/search \"HTTP/1.1 200 OK\"\n",
      "HTTP Request: POST https://2dbee40a-5d76-4ab5-9f5d-a038db640bba.eu-west-2-0.aws.cloud.qdrant.io:6333/collections/metafilter_exercise2/points/search \"HTTP/1.1 200 OK\"\n"
     ]
    }
   ],
   "source": [
    "nodes = retriever.retrieve(\"Tell me about some books that are Fiction\")"
   ]
  },
  {
   "cell_type": "code",
   "execution_count": 26,
   "metadata": {
    "colab": {
     "base_uri": "https://localhost:8080/"
    },
    "executionInfo": {
     "elapsed": 526,
     "status": "ok",
     "timestamp": 1722513035097,
     "user": {
      "displayName": "한두솔",
      "userId": "14744311692633150263"
     },
     "user_tz": -540
    },
    "id": "De9NHBqdtgVQ",
    "outputId": "ea834a42-ace2-45e1-b054-6bf7728b30e9"
   },
   "outputs": [
    {
     "name": "stdout",
     "output_type": "stream",
     "text": [
      "Harry Potter and the Sorcerer's Stone\n",
      "{'author': 'J.K. Rowling', 'theme': 'Fiction', 'year': 1997}\n",
      "To Kill a Mockingbird\n",
      "{'author': 'Harper Lee', 'theme': 'Fiction', 'year': 1960}\n"
     ]
    }
   ],
   "source": [
    "for node in nodes:\n",
    "    print(node.text)\n",
    "    print(node.metadata)"
   ]
  },
  {
   "cell_type": "code",
   "execution_count": 27,
   "metadata": {
    "colab": {
     "base_uri": "https://localhost:8080/"
    },
    "executionInfo": {
     "elapsed": 2846,
     "status": "ok",
     "timestamp": 1722513058101,
     "user": {
      "displayName": "한두솔",
      "userId": "14744311692633150263"
     },
     "user_tz": -540
    },
    "id": "P17tAvMwtgVR",
    "outputId": "d93e5fc1-0229-4b47-f463-8e1b32242352"
   },
   "outputs": [
    {
     "name": "stdout",
     "output_type": "stream",
     "text": [
      "INFO:httpx:HTTP Request: POST https://api.openai.com/v1/chat/completions \"HTTP/1.1 200 OK\"\n",
      "HTTP Request: POST https://api.openai.com/v1/chat/completions \"HTTP/1.1 200 OK\"\n",
      "INFO:llama_index.core.indices.vector_store.retrievers.auto_retriever.auto_retriever:Using query str: mafia-themed books\n",
      "Using query str: mafia-themed books\n",
      "INFO:llama_index.core.indices.vector_store.retrievers.auto_retriever.auto_retriever:Using filters: []\n",
      "Using filters: []\n",
      "Using query str: mafia-themed books\n",
      "Using filters: []\n",
      "INFO:llama_index.core.indices.vector_store.retrievers.auto_retriever.auto_retriever:Using top_k: 2\n",
      "Using top_k: 2\n",
      "INFO:httpx:HTTP Request: POST https://api.openai.com/v1/embeddings \"HTTP/1.1 200 OK\"\n",
      "HTTP Request: POST https://api.openai.com/v1/embeddings \"HTTP/1.1 200 OK\"\n",
      "INFO:httpx:HTTP Request: POST https://2dbee40a-5d76-4ab5-9f5d-a038db640bba.eu-west-2-0.aws.cloud.qdrant.io:6333/collections/metafilter_exercise2/points/search \"HTTP/1.1 200 OK\"\n",
      "HTTP Request: POST https://2dbee40a-5d76-4ab5-9f5d-a038db640bba.eu-west-2-0.aws.cloud.qdrant.io:6333/collections/metafilter_exercise2/points/search \"HTTP/1.1 200 OK\"\n"
     ]
    }
   ],
   "source": [
    "nodes = retriever.retrieve(\"Tell me about some books that are mafia-themed\")"
   ]
  },
  {
   "cell_type": "markdown",
   "metadata": {
    "id": "yadyUvXnx7Wu"
   },
   "source": [
    "# 개선 방안\n",
    "- 프롬프트에서 기대하는 자연어 -> 필터가 자연스럽게 연결 안될때는 메타필터 변환 프롬프트를 강화해 주면 됨"
   ]
  },
  {
   "cell_type": "code",
   "execution_count": 28,
   "metadata": {
    "colab": {
     "base_uri": "https://localhost:8080/",
     "height": 1000
    },
    "executionInfo": {
     "elapsed": 557,
     "status": "ok",
     "timestamp": 1722513147596,
     "user": {
      "displayName": "한두솔",
      "userId": "14744311692633150263"
     },
     "user_tz": -540
    },
    "id": "9R9-ZKX6tgVS",
    "outputId": "d660c6b6-e2f3-4919-95dc-dd0e6c286a6d"
   },
   "outputs": [
    {
     "data": {
      "text/markdown": [
       "**Prompt Key**: prompt<br>**Text:** <br>"
      ],
      "text/plain": [
       "<IPython.core.display.Markdown object>"
      ]
     },
     "metadata": {},
     "output_type": "display_data"
    },
    {
     "name": "stdout",
     "output_type": "stream",
     "text": [
      "Your goal is to structure the user's query to match the request schema provided below.\n",
      "\n",
      "<< Structured Request Schema >>\n",
      "When responding use a markdown code snippet with a JSON object formatted in the following schema:\n",
      "\n",
      "{schema_str}\n",
      "\n",
      "The query string should contain only text that is expected to match the contents of documents. Any conditions in the filter should not be mentioned in the query as well.\n",
      "\n",
      "Make sure that filters only refer to attributes that exist in the data source.\n",
      "Make sure that filters take into account the descriptions of attributes.\n",
      "Make sure that filters are only used as needed. If there are no filters that should be applied return [] for the filter value.\n",
      "If the user's query explicitly mentions number of documents to retrieve, set top_k to that number, otherwise do not set top_k.\n",
      "\n",
      "<< Example 1. >>\n",
      "Data Source:\n",
      "```json\n",
      "{{\n",
      "    \"metadata_info\": [\n",
      "        {{\n",
      "            \"name\": \"artist\",\n",
      "            \"type\": \"str\",\n",
      "            \"description\": \"Name of the song artist\"\n",
      "        }},\n",
      "        {{\n",
      "            \"name\": \"genre\",\n",
      "            \"type\": \"str\",\n",
      "            \"description\": \"The song genre, one of \\\"pop\\\", \\\"rock\\\" or \\\"rap\\\"\"\n",
      "        }}\n",
      "    ],\n",
      "    \"content_info\": \"Lyrics of a song\"\n",
      "}}\n",
      "```\n",
      "\n",
      "User Query:\n",
      "What are songs by Taylor Swift or Katy Perry in the dance pop genre\n",
      "\n",
      "Structured Request:\n",
      "```json\n",
      "{{\"query\":\"teenager love\",\"filters\":[{{\"key\":\"artist\",\"value\":\"Taylor Swift\",\"operator\":\"==\"}},{{\"key\":\"artist\",\"value\":\"Katy Perry\",\"operator\":\"==\"}},{{\"key\":\"genre\",\"value\":\"pop\",\"operator\":\"==\"}}],\"top_k\":null}}\n",
      "\n",
      "\n",
      "<< Example 2. >>\n",
      "Data Source:\n",
      "```json\n",
      "{{\n",
      "    \"metadata_info\": [\n",
      "        {{\n",
      "            \"name\": \"author\",\n",
      "            \"type\": \"str\",\n",
      "            \"description\": \"Author name\"\n",
      "        }},\n",
      "        {{\n",
      "            \"name\": \"book_title\",\n",
      "            \"type\": \"str\",\n",
      "            \"description\": \"Book title\"\n",
      "        }},\n",
      "        {{\n",
      "            \"name\": \"year\",\n",
      "            \"type\": \"int\",\n",
      "            \"description\": \"Year Published\"\n",
      "        }},\n",
      "        {{\n",
      "            \"name\": \"pages\",\n",
      "            \"type\": \"int\",\n",
      "            \"description\": \"Number of pages\"\n",
      "        }},\n",
      "        {{\n",
      "            \"name\": \"summary\",\n",
      "            \"type\": \"str\",\n",
      "            \"description\": \"A short summary of the book\"\n",
      "        }}\n",
      "    ],\n",
      "    \"content_info\": \"Classic literature\"\n",
      "}}\n",
      "```\n",
      "\n",
      "User Query:\n",
      "What are some books by Jane Austen published after 1813 that explore the theme of marriage for social standing?\n",
      "\n",
      "Structured Request:\n",
      "```json\n",
      "{{\"query\":\"Books related to theme of marriage for social standing\",\"filters\":[{{\"key\":\"year\",\"value\":\"1813\",\"operator\":\">\"}},{{\"key\":\"author\",\"value\":\"Jane Austen\",\"operator\":\"==\"}}],\"top_k\":null}}\n",
      "\n",
      "```\n",
      "\n",
      "<< Example 3. >>\n",
      "Data Source:\n",
      "```json\n",
      "{info_str}\n",
      "```\n",
      "\n",
      "User Query:\n",
      "{query_str}\n",
      "\n",
      "Structured Request:\n",
      "\n"
     ]
    },
    {
     "data": {
      "text/markdown": [
       "<br><br>"
      ],
      "text/plain": [
       "<IPython.core.display.Markdown object>"
      ]
     },
     "metadata": {},
     "output_type": "display_data"
    },
    {
     "data": {
      "text/plain": [
       "['schema_str', 'info_str', 'query_str']"
      ]
     },
     "execution_count": 28,
     "metadata": {},
     "output_type": "execute_result"
    }
   ],
   "source": [
    "from llama_index.core.prompts import display_prompt_dict\n",
    "from llama_index.core import PromptTemplate\n",
    "prompts_dict = retriever.get_prompts()\n",
    "display_prompt_dict(prompts_dict)\n",
    "prompts_dict[\"prompt\"].template_vars"
   ]
  },
  {
   "cell_type": "code",
   "execution_count": 29,
   "metadata": {
    "id": "YWNqJ5X1tgVS"
   },
   "outputs": [],
   "source": [
    "# 프롬프트 템플릿 수정\n",
    "\n",
    "prompt_tmpl_str = \"\"\"\\\n",
    "Your goal is to structure the user's query to match the request schema provided below.\n",
    "\n",
    "<< Structured Request Schema >>\n",
    "When responding use a markdown code snippet with a JSON object formatted in the following schema:\n",
    "\n",
    "{schema_str}\n",
    "\n",
    "The query string should contain only text that is expected to match the contents of documents. Any conditions in the filter should not be mentioned in the query as well.\n",
    "\n",
    "Make sure that filters only refer to attributes that exist in the data source.\n",
    "Make sure that filters take into account the descriptions of attributes.\n",
    "Make sure that filters are only used as needed. If there are no filters that should be applied return [] for the filter value.\n",
    "If the user's query explicitly mentions number of documents to retrieve, set top_k to that number, otherwise do not set top_k.\n",
    "Do NOT EVER infer a null value for a filter. This will break the downstream program. Instead, don't include the filter.\n",
    "\n",
    "<< Example 1. >>\n",
    "Data Source:\n",
    "```json\n",
    "{{\n",
    "    \"metadata_info\": [\n",
    "        {{\n",
    "            \"name\": \"author\",\n",
    "            \"type\": \"str\",\n",
    "            \"description\": \"Author name\"\n",
    "        }},\n",
    "        {{\n",
    "            \"name\": \"book_title\",\n",
    "            \"type\": \"str\",\n",
    "            \"description\": \"Book title\"\n",
    "        }},\n",
    "        {{\n",
    "            \"name\": \"year\",\n",
    "            \"type\": \"int\",\n",
    "            \"description\": \"Year Published\"\n",
    "        }},\n",
    "        {{\n",
    "            \"name\": \"pages\",\n",
    "            \"type\": \"int\",\n",
    "            \"description\": \"Number of pages\"\n",
    "        }},\n",
    "        {{\n",
    "            \"name\": \"summary\",\n",
    "            \"type\": \"str\",\n",
    "            \"description\": \"A short summary of the book\"\n",
    "        }}\n",
    "    ],\n",
    "    \"content_info\": \"Classic literature\"\n",
    "}}\n",
    "```\n",
    "\n",
    "User Query:\n",
    "What are some books by Jane Austen published after 1813 that explore the theme of marriage for social standing?\n",
    "\n",
    "Additional Instructions:\n",
    "None\n",
    "\n",
    "Structured Request:\n",
    "```json\n",
    "{{\"query\": \"Books related to theme of marriage for social standing\", \"filters\": [{{\"key\": \"year\", \"value\": \"1813\", \"operator\": \">\"}}, {{\"key\": \"author\", \"value\": \"Jane Austen\", \"operator\": \"==\"}}], \"top_k\": null}}\n",
    "\n",
    "```\n",
    "\n",
    "<< Example 2. >>\n",
    "Data Source:\n",
    "```json\n",
    "{info_str}\n",
    "```\n",
    "\n",
    "User Query:\n",
    "{query_str}\n",
    "\n",
    "Additional Instructions:\n",
    "{additional_instructions}\n",
    "\n",
    "Structured Request:\n",
    "\"\"\""
   ]
  },
  {
   "cell_type": "code",
   "execution_count": 30,
   "metadata": {
    "id": "nkIsgNgXtgVU"
   },
   "outputs": [],
   "source": [
    "prompt_tmpl = PromptTemplate(prompt_tmpl_str)"
   ]
  },
  {
   "cell_type": "code",
   "execution_count": null,
   "metadata": {
    "id": "s_8hDdyutgVU"
   },
   "outputs": [],
   "source": []
  },
  {
   "cell_type": "code",
   "execution_count": 31,
   "metadata": {
    "id": "sL3V2B8EysLt"
   },
   "outputs": [],
   "source": [
    "# Additional Instructions에 강화 프롬프트 포함\n",
    "add_instrs = \"\"\"\\\n",
    "If input is given as 'something-themed', it means the theme is something, and you should filter it accordingly.\\\n",
    "\"\"\"\n",
    "prompt_tmpl = prompt_tmpl.partial_format(additional_instructions=add_instrs)"
   ]
  },
  {
   "cell_type": "code",
   "execution_count": 32,
   "metadata": {
    "id": "TN6v4nk4tgVV"
   },
   "outputs": [],
   "source": [
    "retriever.update_prompts({\"prompt\": prompt_tmpl})"
   ]
  },
  {
   "cell_type": "code",
   "execution_count": 33,
   "metadata": {
    "colab": {
     "base_uri": "https://localhost:8080/"
    },
    "executionInfo": {
     "elapsed": 2767,
     "status": "ok",
     "timestamp": 1722513310215,
     "user": {
      "displayName": "한두솔",
      "userId": "14744311692633150263"
     },
     "user_tz": -540
    },
    "id": "P1UNl8yMtgVW",
    "outputId": "9c64cd23-1027-4e68-ad73-424eb6371573"
   },
   "outputs": [
    {
     "name": "stdout",
     "output_type": "stream",
     "text": [
      "INFO:httpx:HTTP Request: POST https://api.openai.com/v1/chat/completions \"HTTP/1.1 200 OK\"\n",
      "HTTP Request: POST https://api.openai.com/v1/chat/completions \"HTTP/1.1 200 OK\"\n",
      "INFO:llama_index.core.indices.vector_store.retrievers.auto_retriever.auto_retriever:Using query str: Books that are mafia-themed\n",
      "Using query str: Books that are mafia-themed\n",
      "INFO:llama_index.core.indices.vector_store.retrievers.auto_retriever.auto_retriever:Using filters: [('theme', '==', 'mafia')]\n",
      "Using filters: [('theme', '==', 'mafia')]\n",
      "Using query str: Books that are mafia-themed\n",
      "Using filters: [('theme', '==', 'mafia')]\n",
      "INFO:llama_index.core.indices.vector_store.retrievers.auto_retriever.auto_retriever:Using top_k: 2\n",
      "Using top_k: 2\n",
      "INFO:httpx:HTTP Request: POST https://api.openai.com/v1/embeddings \"HTTP/1.1 200 OK\"\n",
      "HTTP Request: POST https://api.openai.com/v1/embeddings \"HTTP/1.1 200 OK\"\n",
      "INFO:httpx:HTTP Request: POST https://2dbee40a-5d76-4ab5-9f5d-a038db640bba.eu-west-2-0.aws.cloud.qdrant.io:6333/collections/metafilter_exercise2/points/search \"HTTP/1.1 200 OK\"\n",
      "HTTP Request: POST https://2dbee40a-5d76-4ab5-9f5d-a038db640bba.eu-west-2-0.aws.cloud.qdrant.io:6333/collections/metafilter_exercise2/points/search \"HTTP/1.1 200 OK\"\n"
     ]
    }
   ],
   "source": [
    "nodes = retriever.retrieve(\"Tell me about some books that are mafia-themed\")\n",
    "for node in nodes:\n",
    "    print(node.text)\n",
    "    print(node.metadata)"
   ]
  },
  {
   "cell_type": "code",
   "execution_count": 34,
   "metadata": {
    "colab": {
     "base_uri": "https://localhost:8080/"
    },
    "executionInfo": {
     "elapsed": 6,
     "status": "ok",
     "timestamp": 1722513321900,
     "user": {
      "displayName": "한두솔",
      "userId": "14744311692633150263"
     },
     "user_tz": -540
    },
    "id": "0CVVNKM3tgVX",
    "outputId": "629dd104-89e2-40b7-aec9-ea68ad65ccfb"
   },
   "outputs": [
    {
     "data": {
      "text/plain": [
       "[]"
      ]
     },
     "execution_count": 34,
     "metadata": {},
     "output_type": "execute_result"
    }
   ],
   "source": [
    "nodes"
   ]
  },
  {
   "cell_type": "code",
   "execution_count": 35,
   "metadata": {
    "id": "ROc9dmdkzAxB"
   },
   "outputs": [],
   "source": [
    "# 고쳐야 할 부분 고쳐보자\n",
    "add_instrs = \"\"\"\\\n",
    "If input is given as 'something-themed', it means the theme is something, and you should filter it accordingly.\n",
    "Also, always convert the first character of the searching theme string to upper case.\\\n",
    "\"\"\"\n",
    "prompt_tmpl = prompt_tmpl.partial_format(additional_instructions=add_instrs)\n",
    "retriever.update_prompts({\"prompt\": prompt_tmpl})"
   ]
  },
  {
   "cell_type": "code",
   "execution_count": 36,
   "metadata": {
    "colab": {
     "base_uri": "https://localhost:8080/"
    },
    "executionInfo": {
     "elapsed": 3123,
     "status": "ok",
     "timestamp": 1722513428262,
     "user": {
      "displayName": "한두솔",
      "userId": "14744311692633150263"
     },
     "user_tz": -540
    },
    "id": "wIei2prlzPNO",
    "outputId": "720824dc-46ee-42a8-ca25-8fa954c0cb64"
   },
   "outputs": [
    {
     "name": "stdout",
     "output_type": "stream",
     "text": [
      "INFO:httpx:HTTP Request: POST https://api.openai.com/v1/chat/completions \"HTTP/1.1 200 OK\"\n",
      "HTTP Request: POST https://api.openai.com/v1/chat/completions \"HTTP/1.1 200 OK\"\n",
      "INFO:llama_index.core.indices.vector_store.retrievers.auto_retriever.auto_retriever:Using query str: Books related to theme of Mafia\n",
      "Using query str: Books related to theme of Mafia\n",
      "INFO:llama_index.core.indices.vector_store.retrievers.auto_retriever.auto_retriever:Using filters: [('theme', '==', 'Mafia')]\n",
      "Using filters: [('theme', '==', 'Mafia')]\n",
      "Using query str: Books related to theme of Mafia\n",
      "Using filters: [('theme', '==', 'Mafia')]\n",
      "INFO:llama_index.core.indices.vector_store.retrievers.auto_retriever.auto_retriever:Using top_k: 2\n",
      "Using top_k: 2\n",
      "INFO:httpx:HTTP Request: POST https://api.openai.com/v1/embeddings \"HTTP/1.1 200 OK\"\n",
      "HTTP Request: POST https://api.openai.com/v1/embeddings \"HTTP/1.1 200 OK\"\n",
      "INFO:httpx:HTTP Request: POST https://2dbee40a-5d76-4ab5-9f5d-a038db640bba.eu-west-2-0.aws.cloud.qdrant.io:6333/collections/metafilter_exercise2/points/search \"HTTP/1.1 200 OK\"\n",
      "HTTP Request: POST https://2dbee40a-5d76-4ab5-9f5d-a038db640bba.eu-west-2-0.aws.cloud.qdrant.io:6333/collections/metafilter_exercise2/points/search \"HTTP/1.1 200 OK\"\n",
      "The Godfather\n",
      "{'director': 'Francis Ford Coppola', 'theme': 'Mafia', 'year': 1972}\n"
     ]
    }
   ],
   "source": [
    "# 같은 쿼리 재시도\n",
    "nodes = retriever.retrieve(\"Tell me about some books that are mafia-themed\")\n",
    "for node in nodes:\n",
    "    print(node.text)\n",
    "    print(node.metadata)"
   ]
  },
  {
   "cell_type": "code",
   "execution_count": 37,
   "metadata": {
    "colab": {
     "base_uri": "https://localhost:8080/"
    },
    "executionInfo": {
     "elapsed": 2735,
     "status": "ok",
     "timestamp": 1722513452779,
     "user": {
      "displayName": "한두솔",
      "userId": "14744311692633150263"
     },
     "user_tz": -540
    },
    "id": "-qplpxyCtgVX",
    "outputId": "7c990c90-1d02-4c52-9dd9-c5b40dcadf95"
   },
   "outputs": [
    {
     "name": "stdout",
     "output_type": "stream",
     "text": [
      "INFO:httpx:HTTP Request: POST https://api.openai.com/v1/chat/completions \"HTTP/1.1 200 OK\"\n",
      "HTTP Request: POST https://api.openai.com/v1/chat/completions \"HTTP/1.1 200 OK\"\n",
      "INFO:llama_index.core.indices.vector_store.retrievers.auto_retriever.auto_retriever:Using query str: Books that are Fiction\n",
      "Using query str: Books that are Fiction\n",
      "INFO:llama_index.core.indices.vector_store.retrievers.auto_retriever.auto_retriever:Using filters: [('theme', '==', 'Fiction')]\n",
      "Using filters: [('theme', '==', 'Fiction')]\n",
      "Using query str: Books that are Fiction\n",
      "Using filters: [('theme', '==', 'Fiction')]\n",
      "INFO:llama_index.core.indices.vector_store.retrievers.auto_retriever.auto_retriever:Using top_k: 2\n",
      "Using top_k: 2\n",
      "INFO:httpx:HTTP Request: POST https://api.openai.com/v1/embeddings \"HTTP/1.1 200 OK\"\n",
      "HTTP Request: POST https://api.openai.com/v1/embeddings \"HTTP/1.1 200 OK\"\n",
      "INFO:httpx:HTTP Request: POST https://2dbee40a-5d76-4ab5-9f5d-a038db640bba.eu-west-2-0.aws.cloud.qdrant.io:6333/collections/metafilter_exercise2/points/search \"HTTP/1.1 200 OK\"\n",
      "HTTP Request: POST https://2dbee40a-5d76-4ab5-9f5d-a038db640bba.eu-west-2-0.aws.cloud.qdrant.io:6333/collections/metafilter_exercise2/points/search \"HTTP/1.1 200 OK\"\n",
      "Harry Potter and the Sorcerer's Stone\n",
      "{'author': 'J.K. Rowling', 'theme': 'Fiction', 'year': 1997}\n",
      "To Kill a Mockingbird\n",
      "{'author': 'Harper Lee', 'theme': 'Fiction', 'year': 1960}\n"
     ]
    }
   ],
   "source": [
    "#다른 문제 있었던 쿼리\n",
    "nodes = retriever.retrieve(\"Tell me about some books that are Fiction\")\n",
    "for node in nodes:\n",
    "    print(node.text)\n",
    "    print(node.metadata)"
   ]
  },
  {
   "cell_type": "code",
   "execution_count": 38,
   "metadata": {
    "id": "r8D_kAlmzY3O"
   },
   "outputs": [],
   "source": [
    "# 테마를 명시하지 않아도 필터될수 있는 구조로 프롬프트 강화해보자\n",
    "add_instrs = \"\"\"\\\n",
    "If input is given as 'something-themed', it means the theme is something, and you should filter it accordingly.\n",
    "Also, always convert the first character of the searching theme string to upper case.\n",
    "Also, if the input is something like 'book that are 'something'', then it means something is the theme, and you should filter it accordingly.\\\n",
    "\"\"\"\n",
    "prompt_tmpl = prompt_tmpl.partial_format(additional_instructions=add_instrs)\n",
    "retriever.update_prompts({\"prompt\": prompt_tmpl})"
   ]
  },
  {
   "cell_type": "code",
   "execution_count": 39,
   "metadata": {
    "colab": {
     "base_uri": "https://localhost:8080/"
    },
    "executionInfo": {
     "elapsed": 2884,
     "status": "ok",
     "timestamp": 1722513524296,
     "user": {
      "displayName": "한두솔",
      "userId": "14744311692633150263"
     },
     "user_tz": -540
    },
    "id": "1k2MHRQUzk3F",
    "outputId": "ddc85e4e-4739-4373-8830-65f222d0d510"
   },
   "outputs": [
    {
     "name": "stdout",
     "output_type": "stream",
     "text": [
      "INFO:httpx:HTTP Request: POST https://api.openai.com/v1/chat/completions \"HTTP/1.1 200 OK\"\n",
      "HTTP Request: POST https://api.openai.com/v1/chat/completions \"HTTP/1.1 200 OK\"\n",
      "INFO:llama_index.core.indices.vector_store.retrievers.auto_retriever.auto_retriever:Using query str: Books that are Fiction\n",
      "Using query str: Books that are Fiction\n",
      "INFO:llama_index.core.indices.vector_store.retrievers.auto_retriever.auto_retriever:Using filters: [('theme', '==', 'Fiction')]\n",
      "Using filters: [('theme', '==', 'Fiction')]\n",
      "Using query str: Books that are Fiction\n",
      "Using filters: [('theme', '==', 'Fiction')]\n",
      "INFO:llama_index.core.indices.vector_store.retrievers.auto_retriever.auto_retriever:Using top_k: 2\n",
      "Using top_k: 2\n",
      "INFO:httpx:HTTP Request: POST https://api.openai.com/v1/embeddings \"HTTP/1.1 200 OK\"\n",
      "HTTP Request: POST https://api.openai.com/v1/embeddings \"HTTP/1.1 200 OK\"\n",
      "INFO:httpx:HTTP Request: POST https://2dbee40a-5d76-4ab5-9f5d-a038db640bba.eu-west-2-0.aws.cloud.qdrant.io:6333/collections/metafilter_exercise2/points/search \"HTTP/1.1 200 OK\"\n",
      "HTTP Request: POST https://2dbee40a-5d76-4ab5-9f5d-a038db640bba.eu-west-2-0.aws.cloud.qdrant.io:6333/collections/metafilter_exercise2/points/search \"HTTP/1.1 200 OK\"\n",
      "Harry Potter and the Sorcerer's Stone\n",
      "{'author': 'J.K. Rowling', 'theme': 'Fiction', 'year': 1997}\n",
      "To Kill a Mockingbird\n",
      "{'author': 'Harper Lee', 'theme': 'Fiction', 'year': 1960}\n"
     ]
    }
   ],
   "source": [
    "#업데이트된 프롬프트로 다시 시도\n",
    "nodes = retriever.retrieve(\"Tell me about some books that are Fiction\")\n",
    "for node in nodes:\n",
    "    print(node.text)\n",
    "    print(node.metadata)"
   ]
  },
  {
   "cell_type": "code",
   "execution_count": null,
   "metadata": {
    "id": "dbxlMOHqtgVY"
   },
   "outputs": [],
   "source": []
  }
 ],
 "metadata": {
  "colab": {
   "provenance": []
  },
  "kernelspec": {
   "display_name": ".venv",
   "language": "python",
   "name": "python3"
  },
  "language_info": {
   "codemirror_mode": {
    "name": "ipython",
    "version": 3
   },
   "file_extension": ".py",
   "mimetype": "text/x-python",
   "name": "python",
   "nbconvert_exporter": "python",
   "pygments_lexer": "ipython3",
   "version": "3.11.6"
  }
 },
 "nbformat": 4,
 "nbformat_minor": 0
}
