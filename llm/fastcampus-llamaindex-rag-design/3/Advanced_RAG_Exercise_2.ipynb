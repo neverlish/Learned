{
 "cells": [
  {
   "cell_type": "markdown",
   "metadata": {
    "id": "DFz1DT--71Bq"
   },
   "source": [
    "# 쿼리 라우팅 2.\n",
    "- 리트리버/쿼리 레벨 라우팅 기능\n",
    "- 대표적 사용새: 요약용 서치엔진 + 일반 본문 시맨틱 서치엔진 나누어서 입력 쿼리 형식이 뭔지에 따라 가변적으로 작동하도록 함."
   ]
  },
  {
   "cell_type": "code",
   "execution_count": null,
   "metadata": {
    "colab": {
     "base_uri": "https://localhost:8080/"
    },
    "executionInfo": {
     "elapsed": 43679,
     "status": "ok",
     "timestamp": 1722515917735,
     "user": {
      "displayName": "한두솔",
      "userId": "14744311692633150263"
     },
     "user_tz": -540
    },
    "id": "YOEtJpv78VMe",
    "outputId": "2cd7a7d9-2aeb-441d-9c41-9dbf913f2060"
   },
   "outputs": [
    {
     "name": "stdout",
     "output_type": "stream",
     "text": [
      "Collecting openai\n",
      "  Downloading openai-1.37.1-py3-none-any.whl.metadata (22 kB)\n",
      "Collecting llama_index\n",
      "  Downloading llama_index-0.10.59-py3-none-any.whl.metadata (11 kB)\n",
      "Collecting qdrant_client\n",
      "  Downloading qdrant_client-1.10.1-py3-none-any.whl.metadata (10 kB)\n",
      "Collecting llama-index-vector-stores-qdrant\n",
      "  Downloading llama_index_vector_stores_qdrant-0.2.14-py3-none-any.whl.metadata (768 bytes)\n",
      "Requirement already satisfied: anyio<5,>=3.5.0 in /usr/local/lib/python3.10/dist-packages (from openai) (3.7.1)\n",
      "Requirement already satisfied: distro<2,>=1.7.0 in /usr/lib/python3/dist-packages (from openai) (1.7.0)\n",
      "Collecting httpx<1,>=0.23.0 (from openai)\n",
      "  Downloading httpx-0.27.0-py3-none-any.whl.metadata (7.2 kB)\n",
      "Requirement already satisfied: pydantic<3,>=1.9.0 in /usr/local/lib/python3.10/dist-packages (from openai) (2.8.2)\n",
      "Requirement already satisfied: sniffio in /usr/local/lib/python3.10/dist-packages (from openai) (1.3.1)\n",
      "Requirement already satisfied: tqdm>4 in /usr/local/lib/python3.10/dist-packages (from openai) (4.66.4)\n",
      "Requirement already satisfied: typing-extensions<5,>=4.7 in /usr/local/lib/python3.10/dist-packages (from openai) (4.12.2)\n",
      "Collecting llama-index-agent-openai<0.3.0,>=0.1.4 (from llama_index)\n",
      "  Downloading llama_index_agent_openai-0.2.9-py3-none-any.whl.metadata (729 bytes)\n",
      "Collecting llama-index-cli<0.2.0,>=0.1.2 (from llama_index)\n",
      "  Downloading llama_index_cli-0.1.13-py3-none-any.whl.metadata (1.5 kB)\n",
      "Collecting llama-index-core==0.10.59 (from llama_index)\n",
      "  Downloading llama_index_core-0.10.59-py3-none-any.whl.metadata (2.4 kB)\n",
      "Collecting llama-index-embeddings-openai<0.2.0,>=0.1.5 (from llama_index)\n",
      "  Downloading llama_index_embeddings_openai-0.1.11-py3-none-any.whl.metadata (655 bytes)\n",
      "Collecting llama-index-indices-managed-llama-cloud>=0.2.0 (from llama_index)\n",
      "  Downloading llama_index_indices_managed_llama_cloud-0.2.7-py3-none-any.whl.metadata (3.8 kB)\n",
      "Collecting llama-index-legacy<0.10.0,>=0.9.48 (from llama_index)\n",
      "  Downloading llama_index_legacy-0.9.48-py3-none-any.whl.metadata (8.5 kB)\n",
      "Collecting llama-index-llms-openai<0.2.0,>=0.1.27 (from llama_index)\n",
      "  Downloading llama_index_llms_openai-0.1.27-py3-none-any.whl.metadata (610 bytes)\n",
      "Collecting llama-index-multi-modal-llms-openai<0.2.0,>=0.1.3 (from llama_index)\n",
      "  Downloading llama_index_multi_modal_llms_openai-0.1.8-py3-none-any.whl.metadata (728 bytes)\n",
      "Collecting llama-index-program-openai<0.2.0,>=0.1.3 (from llama_index)\n",
      "  Downloading llama_index_program_openai-0.1.7-py3-none-any.whl.metadata (760 bytes)\n",
      "Collecting llama-index-question-gen-openai<0.2.0,>=0.1.2 (from llama_index)\n",
      "  Downloading llama_index_question_gen_openai-0.1.3-py3-none-any.whl.metadata (785 bytes)\n",
      "Collecting llama-index-readers-file<0.2.0,>=0.1.4 (from llama_index)\n",
      "  Downloading llama_index_readers_file-0.1.32-py3-none-any.whl.metadata (5.4 kB)\n",
      "Collecting llama-index-readers-llama-parse>=0.1.2 (from llama_index)\n",
      "  Downloading llama_index_readers_llama_parse-0.1.6-py3-none-any.whl.metadata (3.6 kB)\n",
      "Requirement already satisfied: PyYAML>=6.0.1 in /usr/local/lib/python3.10/dist-packages (from llama-index-core==0.10.59->llama_index) (6.0.1)\n",
      "Requirement already satisfied: SQLAlchemy>=1.4.49 in /usr/local/lib/python3.10/dist-packages (from SQLAlchemy[asyncio]>=1.4.49->llama-index-core==0.10.59->llama_index) (2.0.31)\n",
      "Requirement already satisfied: aiohttp<4.0.0,>=3.8.6 in /usr/local/lib/python3.10/dist-packages (from llama-index-core==0.10.59->llama_index) (3.9.5)\n",
      "Collecting dataclasses-json (from llama-index-core==0.10.59->llama_index)\n",
      "  Downloading dataclasses_json-0.6.7-py3-none-any.whl.metadata (25 kB)\n",
      "Collecting deprecated>=1.2.9.3 (from llama-index-core==0.10.59->llama_index)\n",
      "  Downloading Deprecated-1.2.14-py2.py3-none-any.whl.metadata (5.4 kB)\n",
      "Collecting dirtyjson<2.0.0,>=1.0.8 (from llama-index-core==0.10.59->llama_index)\n",
      "  Downloading dirtyjson-1.0.8-py3-none-any.whl.metadata (11 kB)\n",
      "Requirement already satisfied: fsspec>=2023.5.0 in /usr/local/lib/python3.10/dist-packages (from llama-index-core==0.10.59->llama_index) (2024.6.1)\n",
      "Requirement already satisfied: nest-asyncio<2.0.0,>=1.5.8 in /usr/local/lib/python3.10/dist-packages (from llama-index-core==0.10.59->llama_index) (1.6.0)\n",
      "Requirement already satisfied: networkx>=3.0 in /usr/local/lib/python3.10/dist-packages (from llama-index-core==0.10.59->llama_index) (3.3)\n",
      "Requirement already satisfied: nltk<4.0.0,>=3.8.1 in /usr/local/lib/python3.10/dist-packages (from llama-index-core==0.10.59->llama_index) (3.8.1)\n",
      "Requirement already satisfied: numpy<2.0.0 in /usr/local/lib/python3.10/dist-packages (from llama-index-core==0.10.59->llama_index) (1.26.4)\n",
      "Requirement already satisfied: pandas in /usr/local/lib/python3.10/dist-packages (from llama-index-core==0.10.59->llama_index) (2.1.4)\n",
      "Requirement already satisfied: pillow>=9.0.0 in /usr/local/lib/python3.10/dist-packages (from llama-index-core==0.10.59->llama_index) (9.4.0)\n",
      "Requirement already satisfied: requests>=2.31.0 in /usr/local/lib/python3.10/dist-packages (from llama-index-core==0.10.59->llama_index) (2.31.0)\n",
      "Collecting tenacity!=8.4.0,<9.0.0,>=8.2.0 (from llama-index-core==0.10.59->llama_index)\n",
      "  Downloading tenacity-8.5.0-py3-none-any.whl.metadata (1.2 kB)\n",
      "Collecting tiktoken>=0.3.3 (from llama-index-core==0.10.59->llama_index)\n",
      "  Downloading tiktoken-0.7.0-cp310-cp310-manylinux_2_17_x86_64.manylinux2014_x86_64.whl.metadata (6.6 kB)\n",
      "Collecting typing-inspect>=0.8.0 (from llama-index-core==0.10.59->llama_index)\n",
      "  Downloading typing_inspect-0.9.0-py3-none-any.whl.metadata (1.5 kB)\n",
      "Requirement already satisfied: wrapt in /usr/local/lib/python3.10/dist-packages (from llama-index-core==0.10.59->llama_index) (1.16.0)\n",
      "Requirement already satisfied: grpcio>=1.41.0 in /usr/local/lib/python3.10/dist-packages (from qdrant_client) (1.64.1)\n",
      "Collecting grpcio-tools>=1.41.0 (from qdrant_client)\n",
      "  Downloading grpcio_tools-1.65.2-cp310-cp310-manylinux_2_17_x86_64.manylinux2014_x86_64.whl.metadata (5.3 kB)\n",
      "Collecting portalocker<3.0.0,>=2.7.0 (from qdrant_client)\n",
      "  Downloading portalocker-2.10.1-py3-none-any.whl.metadata (8.5 kB)\n",
      "Requirement already satisfied: urllib3<3,>=1.26.14 in /usr/local/lib/python3.10/dist-packages (from qdrant_client) (2.0.7)\n",
      "Requirement already satisfied: idna>=2.8 in /usr/local/lib/python3.10/dist-packages (from anyio<5,>=3.5.0->openai) (3.7)\n",
      "Requirement already satisfied: exceptiongroup in /usr/local/lib/python3.10/dist-packages (from anyio<5,>=3.5.0->openai) (1.2.2)\n",
      "Collecting protobuf<6.0dev,>=5.26.1 (from grpcio-tools>=1.41.0->qdrant_client)\n",
      "  Downloading protobuf-5.27.3-cp38-abi3-manylinux2014_x86_64.whl.metadata (592 bytes)\n",
      "Collecting grpcio>=1.41.0 (from qdrant_client)\n",
      "  Downloading grpcio-1.65.2-cp310-cp310-manylinux_2_17_x86_64.manylinux2014_x86_64.whl.metadata (3.3 kB)\n",
      "Requirement already satisfied: setuptools in /usr/local/lib/python3.10/dist-packages (from grpcio-tools>=1.41.0->qdrant_client) (71.0.4)\n",
      "Requirement already satisfied: certifi in /usr/local/lib/python3.10/dist-packages (from httpx<1,>=0.23.0->openai) (2024.7.4)\n",
      "Collecting httpcore==1.* (from httpx<1,>=0.23.0->openai)\n",
      "  Downloading httpcore-1.0.5-py3-none-any.whl.metadata (20 kB)\n",
      "Collecting h11<0.15,>=0.13 (from httpcore==1.*->httpx<1,>=0.23.0->openai)\n",
      "  Downloading h11-0.14.0-py3-none-any.whl.metadata (8.2 kB)\n",
      "Collecting h2<5,>=3 (from httpx[http2]>=0.20.0->qdrant_client)\n",
      "  Downloading h2-4.1.0-py3-none-any.whl.metadata (3.6 kB)\n",
      "Collecting llama-cloud>=0.0.11 (from llama-index-indices-managed-llama-cloud>=0.2.0->llama_index)\n",
      "  Downloading llama_cloud-0.0.11-py3-none-any.whl.metadata (751 bytes)\n",
      "Requirement already satisfied: beautifulsoup4<5.0.0,>=4.12.3 in /usr/local/lib/python3.10/dist-packages (from llama-index-readers-file<0.2.0,>=0.1.4->llama_index) (4.12.3)\n",
      "Collecting pypdf<5.0.0,>=4.0.1 (from llama-index-readers-file<0.2.0,>=0.1.4->llama_index)\n",
      "  Downloading pypdf-4.3.1-py3-none-any.whl.metadata (7.4 kB)\n",
      "Collecting striprtf<0.0.27,>=0.0.26 (from llama-index-readers-file<0.2.0,>=0.1.4->llama_index)\n",
      "  Downloading striprtf-0.0.26-py3-none-any.whl.metadata (2.1 kB)\n",
      "Collecting llama-parse>=0.4.0 (from llama-index-readers-llama-parse>=0.1.2->llama_index)\n",
      "  Downloading llama_parse-0.4.9-py3-none-any.whl.metadata (4.4 kB)\n",
      "Requirement already satisfied: annotated-types>=0.4.0 in /usr/local/lib/python3.10/dist-packages (from pydantic<3,>=1.9.0->openai) (0.7.0)\n",
      "Requirement already satisfied: pydantic-core==2.20.1 in /usr/local/lib/python3.10/dist-packages (from pydantic<3,>=1.9.0->openai) (2.20.1)\n",
      "Requirement already satisfied: aiosignal>=1.1.2 in /usr/local/lib/python3.10/dist-packages (from aiohttp<4.0.0,>=3.8.6->llama-index-core==0.10.59->llama_index) (1.3.1)\n",
      "Requirement already satisfied: attrs>=17.3.0 in /usr/local/lib/python3.10/dist-packages (from aiohttp<4.0.0,>=3.8.6->llama-index-core==0.10.59->llama_index) (23.2.0)\n",
      "Requirement already satisfied: frozenlist>=1.1.1 in /usr/local/lib/python3.10/dist-packages (from aiohttp<4.0.0,>=3.8.6->llama-index-core==0.10.59->llama_index) (1.4.1)\n",
      "Requirement already satisfied: multidict<7.0,>=4.5 in /usr/local/lib/python3.10/dist-packages (from aiohttp<4.0.0,>=3.8.6->llama-index-core==0.10.59->llama_index) (6.0.5)\n",
      "Requirement already satisfied: yarl<2.0,>=1.0 in /usr/local/lib/python3.10/dist-packages (from aiohttp<4.0.0,>=3.8.6->llama-index-core==0.10.59->llama_index) (1.9.4)\n",
      "Requirement already satisfied: async-timeout<5.0,>=4.0 in /usr/local/lib/python3.10/dist-packages (from aiohttp<4.0.0,>=3.8.6->llama-index-core==0.10.59->llama_index) (4.0.3)\n",
      "Requirement already satisfied: soupsieve>1.2 in /usr/local/lib/python3.10/dist-packages (from beautifulsoup4<5.0.0,>=4.12.3->llama-index-readers-file<0.2.0,>=0.1.4->llama_index) (2.5)\n",
      "Collecting hyperframe<7,>=6.0 (from h2<5,>=3->httpx[http2]>=0.20.0->qdrant_client)\n",
      "  Downloading hyperframe-6.0.1-py3-none-any.whl.metadata (2.7 kB)\n",
      "Collecting hpack<5,>=4.0 (from h2<5,>=3->httpx[http2]>=0.20.0->qdrant_client)\n",
      "  Downloading hpack-4.0.0-py3-none-any.whl.metadata (2.5 kB)\n",
      "Requirement already satisfied: click in /usr/local/lib/python3.10/dist-packages (from nltk<4.0.0,>=3.8.1->llama-index-core==0.10.59->llama_index) (8.1.7)\n",
      "Requirement already satisfied: joblib in /usr/local/lib/python3.10/dist-packages (from nltk<4.0.0,>=3.8.1->llama-index-core==0.10.59->llama_index) (1.4.2)\n",
      "Requirement already satisfied: regex>=2021.8.3 in /usr/local/lib/python3.10/dist-packages (from nltk<4.0.0,>=3.8.1->llama-index-core==0.10.59->llama_index) (2024.5.15)\n",
      "Requirement already satisfied: charset-normalizer<4,>=2 in /usr/local/lib/python3.10/dist-packages (from requests>=2.31.0->llama-index-core==0.10.59->llama_index) (3.3.2)\n",
      "Requirement already satisfied: greenlet!=0.4.17 in /usr/local/lib/python3.10/dist-packages (from SQLAlchemy>=1.4.49->SQLAlchemy[asyncio]>=1.4.49->llama-index-core==0.10.59->llama_index) (3.0.3)\n",
      "Collecting mypy-extensions>=0.3.0 (from typing-inspect>=0.8.0->llama-index-core==0.10.59->llama_index)\n",
      "  Downloading mypy_extensions-1.0.0-py3-none-any.whl.metadata (1.1 kB)\n",
      "Collecting marshmallow<4.0.0,>=3.18.0 (from dataclasses-json->llama-index-core==0.10.59->llama_index)\n",
      "  Downloading marshmallow-3.21.3-py3-none-any.whl.metadata (7.1 kB)\n",
      "Requirement already satisfied: python-dateutil>=2.8.2 in /usr/local/lib/python3.10/dist-packages (from pandas->llama-index-core==0.10.59->llama_index) (2.8.2)\n",
      "Requirement already satisfied: pytz>=2020.1 in /usr/local/lib/python3.10/dist-packages (from pandas->llama-index-core==0.10.59->llama_index) (2024.1)\n",
      "Requirement already satisfied: tzdata>=2022.1 in /usr/local/lib/python3.10/dist-packages (from pandas->llama-index-core==0.10.59->llama_index) (2024.1)\n",
      "Requirement already satisfied: packaging>=17.0 in /usr/local/lib/python3.10/dist-packages (from marshmallow<4.0.0,>=3.18.0->dataclasses-json->llama-index-core==0.10.59->llama_index) (24.1)\n",
      "Requirement already satisfied: six>=1.5 in /usr/local/lib/python3.10/dist-packages (from python-dateutil>=2.8.2->pandas->llama-index-core==0.10.59->llama_index) (1.16.0)\n",
      "Downloading openai-1.37.1-py3-none-any.whl (337 kB)\n",
      "\u001b[2K   \u001b[90m━━━━━━━━━━━━━━━━━━━━━━━━━━━━━━━━━━━━━━━━\u001b[0m \u001b[32m337.0/337.0 kB\u001b[0m \u001b[31m8.5 MB/s\u001b[0m eta \u001b[36m0:00:00\u001b[0m\n",
      "\u001b[?25hDownloading llama_index-0.10.59-py3-none-any.whl (6.8 kB)\n",
      "Downloading llama_index_core-0.10.59-py3-none-any.whl (15.5 MB)\n",
      "\u001b[2K   \u001b[90m━━━━━━━━━━━━━━━━━━━━━━━━━━━━━━━━━━━━━━━━\u001b[0m \u001b[32m15.5/15.5 MB\u001b[0m \u001b[31m52.8 MB/s\u001b[0m eta \u001b[36m0:00:00\u001b[0m\n",
      "\u001b[?25hDownloading qdrant_client-1.10.1-py3-none-any.whl (254 kB)\n",
      "\u001b[2K   \u001b[90m━━━━━━━━━━━━━━━━━━━━━━━━━━━━━━━━━━━━━━━━\u001b[0m \u001b[32m254.1/254.1 kB\u001b[0m \u001b[31m13.5 MB/s\u001b[0m eta \u001b[36m0:00:00\u001b[0m\n",
      "\u001b[?25hDownloading llama_index_vector_stores_qdrant-0.2.14-py3-none-any.whl (10 kB)\n",
      "Downloading grpcio_tools-1.65.2-cp310-cp310-manylinux_2_17_x86_64.manylinux2014_x86_64.whl (2.3 MB)\n",
      "\u001b[2K   \u001b[90m━━━━━━━━━━━━━━━━━━━━━━━━━━━━━━━━━━━━━━━━\u001b[0m \u001b[32m2.3/2.3 MB\u001b[0m \u001b[31m48.7 MB/s\u001b[0m eta \u001b[36m0:00:00\u001b[0m\n",
      "\u001b[?25hDownloading grpcio-1.65.2-cp310-cp310-manylinux_2_17_x86_64.manylinux2014_x86_64.whl (5.7 MB)\n",
      "\u001b[2K   \u001b[90m━━━━━━━━━━━━━━━━━━━━━━━━━━━━━━━━━━━━━━━━\u001b[0m \u001b[32m5.7/5.7 MB\u001b[0m \u001b[31m55.4 MB/s\u001b[0m eta \u001b[36m0:00:00\u001b[0m\n",
      "\u001b[?25hDownloading httpx-0.27.0-py3-none-any.whl (75 kB)\n",
      "\u001b[2K   \u001b[90m━━━━━━━━━━━━━━━━━━━━━━━━━━━━━━━━━━━━━━━━\u001b[0m \u001b[32m75.6/75.6 kB\u001b[0m \u001b[31m5.5 MB/s\u001b[0m eta \u001b[36m0:00:00\u001b[0m\n",
      "\u001b[?25hDownloading httpcore-1.0.5-py3-none-any.whl (77 kB)\n",
      "\u001b[2K   \u001b[90m━━━━━━━━━━━━━━━━━━━━━━━━━━━━━━━━━━━━━━━━\u001b[0m \u001b[32m77.9/77.9 kB\u001b[0m \u001b[31m4.7 MB/s\u001b[0m eta \u001b[36m0:00:00\u001b[0m\n",
      "\u001b[?25hDownloading llama_index_agent_openai-0.2.9-py3-none-any.whl (13 kB)\n",
      "Downloading llama_index_cli-0.1.13-py3-none-any.whl (27 kB)\n",
      "Downloading llama_index_embeddings_openai-0.1.11-py3-none-any.whl (6.3 kB)\n",
      "Downloading llama_index_indices_managed_llama_cloud-0.2.7-py3-none-any.whl (9.5 kB)\n",
      "Downloading llama_index_legacy-0.9.48-py3-none-any.whl (2.0 MB)\n",
      "\u001b[2K   \u001b[90m━━━━━━━━━━━━━━━━━━━━━━━━━━━━━━━━━━━━━━━━\u001b[0m \u001b[32m2.0/2.0 MB\u001b[0m \u001b[31m50.7 MB/s\u001b[0m eta \u001b[36m0:00:00\u001b[0m\n",
      "\u001b[?25hDownloading llama_index_llms_openai-0.1.27-py3-none-any.whl (11 kB)\n",
      "Downloading llama_index_multi_modal_llms_openai-0.1.8-py3-none-any.whl (5.9 kB)\n",
      "Downloading llama_index_program_openai-0.1.7-py3-none-any.whl (5.3 kB)\n",
      "Downloading llama_index_question_gen_openai-0.1.3-py3-none-any.whl (2.9 kB)\n",
      "Downloading llama_index_readers_file-0.1.32-py3-none-any.whl (38 kB)\n",
      "Downloading llama_index_readers_llama_parse-0.1.6-py3-none-any.whl (2.5 kB)\n",
      "Downloading portalocker-2.10.1-py3-none-any.whl (18 kB)\n",
      "Downloading Deprecated-1.2.14-py2.py3-none-any.whl (9.6 kB)\n",
      "Downloading dirtyjson-1.0.8-py3-none-any.whl (25 kB)\n",
      "Downloading h2-4.1.0-py3-none-any.whl (57 kB)\n",
      "\u001b[2K   \u001b[90m━━━━━━━━━━━━━━━━━━━━━━━━━━━━━━━━━━━━━━━━\u001b[0m \u001b[32m57.5/57.5 kB\u001b[0m \u001b[31m4.2 MB/s\u001b[0m eta \u001b[36m0:00:00\u001b[0m\n",
      "\u001b[?25hDownloading llama_cloud-0.0.11-py3-none-any.whl (154 kB)\n",
      "\u001b[2K   \u001b[90m━━━━━━━━━━━━━━━━━━━━━━━━━━━━━━━━━━━━━━━━\u001b[0m \u001b[32m154.8/154.8 kB\u001b[0m \u001b[31m11.4 MB/s\u001b[0m eta \u001b[36m0:00:00\u001b[0m\n",
      "\u001b[?25hDownloading llama_parse-0.4.9-py3-none-any.whl (9.4 kB)\n",
      "Downloading protobuf-5.27.3-cp38-abi3-manylinux2014_x86_64.whl (309 kB)\n",
      "\u001b[2K   \u001b[90m━━━━━━━━━━━━━━━━━━━━━━━━━━━━━━━━━━━━━━━━\u001b[0m \u001b[32m309.3/309.3 kB\u001b[0m \u001b[31m19.3 MB/s\u001b[0m eta \u001b[36m0:00:00\u001b[0m\n",
      "\u001b[?25hDownloading pypdf-4.3.1-py3-none-any.whl (295 kB)\n",
      "\u001b[2K   \u001b[90m━━━━━━━━━━━━━━━━━━━━━━━━━━━━━━━━━━━━━━━━\u001b[0m \u001b[32m295.8/295.8 kB\u001b[0m \u001b[31m17.4 MB/s\u001b[0m eta \u001b[36m0:00:00\u001b[0m\n",
      "\u001b[?25hDownloading striprtf-0.0.26-py3-none-any.whl (6.9 kB)\n",
      "Downloading tenacity-8.5.0-py3-none-any.whl (28 kB)\n",
      "Downloading tiktoken-0.7.0-cp310-cp310-manylinux_2_17_x86_64.manylinux2014_x86_64.whl (1.1 MB)\n",
      "\u001b[2K   \u001b[90m━━━━━━━━━━━━━━━━━━━━━━━━━━━━━━━━━━━━━━━━\u001b[0m \u001b[32m1.1/1.1 MB\u001b[0m \u001b[31m38.8 MB/s\u001b[0m eta \u001b[36m0:00:00\u001b[0m\n",
      "\u001b[?25hDownloading typing_inspect-0.9.0-py3-none-any.whl (8.8 kB)\n",
      "Downloading dataclasses_json-0.6.7-py3-none-any.whl (28 kB)\n",
      "Downloading h11-0.14.0-py3-none-any.whl (58 kB)\n",
      "\u001b[2K   \u001b[90m━━━━━━━━━━━━━━━━━━━━━━━━━━━━━━━━━━━━━━━━\u001b[0m \u001b[32m58.3/58.3 kB\u001b[0m \u001b[31m3.7 MB/s\u001b[0m eta \u001b[36m0:00:00\u001b[0m\n",
      "\u001b[?25hDownloading hpack-4.0.0-py3-none-any.whl (32 kB)\n",
      "Downloading hyperframe-6.0.1-py3-none-any.whl (12 kB)\n",
      "Downloading marshmallow-3.21.3-py3-none-any.whl (49 kB)\n",
      "\u001b[2K   \u001b[90m━━━━━━━━━━━━━━━━━━━━━━━━━━━━━━━━━━━━━━━━\u001b[0m \u001b[32m49.2/49.2 kB\u001b[0m \u001b[31m3.0 MB/s\u001b[0m eta \u001b[36m0:00:00\u001b[0m\n",
      "\u001b[?25hDownloading mypy_extensions-1.0.0-py3-none-any.whl (4.7 kB)\n",
      "Installing collected packages: striprtf, dirtyjson, tenacity, pypdf, protobuf, portalocker, mypy-extensions, marshmallow, hyperframe, hpack, h11, grpcio, deprecated, typing-inspect, tiktoken, httpcore, h2, grpcio-tools, httpx, dataclasses-json, openai, llama-cloud, qdrant_client, llama-index-legacy, llama-index-core, llama-parse, llama-index-vector-stores-qdrant, llama-index-readers-file, llama-index-llms-openai, llama-index-indices-managed-llama-cloud, llama-index-embeddings-openai, llama-index-readers-llama-parse, llama-index-multi-modal-llms-openai, llama-index-cli, llama-index-agent-openai, llama-index-program-openai, llama-index-question-gen-openai, llama_index\n",
      "  Attempting uninstall: tenacity\n",
      "    Found existing installation: tenacity 9.0.0\n",
      "    Uninstalling tenacity-9.0.0:\n",
      "      Successfully uninstalled tenacity-9.0.0\n",
      "  Attempting uninstall: protobuf\n",
      "    Found existing installation: protobuf 3.20.3\n",
      "    Uninstalling protobuf-3.20.3:\n",
      "      Successfully uninstalled protobuf-3.20.3\n",
      "  Attempting uninstall: grpcio\n",
      "    Found existing installation: grpcio 1.64.1\n",
      "    Uninstalling grpcio-1.64.1:\n",
      "      Successfully uninstalled grpcio-1.64.1\n",
      "\u001b[31mERROR: pip's dependency resolver does not currently take into account all the packages that are installed. This behaviour is the source of the following dependency conflicts.\n",
      "cudf-cu12 24.4.1 requires protobuf<5,>=3.20, but you have protobuf 5.27.3 which is incompatible.\n",
      "google-ai-generativelanguage 0.6.6 requires protobuf!=3.20.0,!=3.20.1,!=4.21.0,!=4.21.1,!=4.21.2,!=4.21.3,!=4.21.4,!=4.21.5,<5.0.0dev,>=3.19.5, but you have protobuf 5.27.3 which is incompatible.\n",
      "google-cloud-aiplatform 1.59.0 requires protobuf!=3.20.0,!=3.20.1,!=4.21.0,!=4.21.1,!=4.21.2,!=4.21.3,!=4.21.4,!=4.21.5,<5.0.0dev,>=3.19.5, but you have protobuf 5.27.3 which is incompatible.\n",
      "google-cloud-bigquery-storage 2.25.0 requires protobuf!=3.20.0,!=3.20.1,!=4.21.0,!=4.21.1,!=4.21.2,!=4.21.3,!=4.21.4,!=4.21.5,<5.0.0dev,>=3.19.5, but you have protobuf 5.27.3 which is incompatible.\n",
      "google-cloud-datastore 2.19.0 requires protobuf!=3.20.0,!=3.20.1,!=4.21.0,!=4.21.1,!=4.21.2,!=4.21.3,!=4.21.4,!=4.21.5,<5.0.0dev,>=3.19.5, but you have protobuf 5.27.3 which is incompatible.\n",
      "google-cloud-firestore 2.16.1 requires protobuf!=3.20.0,!=3.20.1,!=4.21.0,!=4.21.1,!=4.21.2,!=4.21.3,!=4.21.4,!=4.21.5,<5.0.0dev,>=3.19.5, but you have protobuf 5.27.3 which is incompatible.\n",
      "tensorboard 2.17.0 requires protobuf!=4.24.0,<5.0.0,>=3.19.6, but you have protobuf 5.27.3 which is incompatible.\n",
      "tensorflow 2.17.0 requires protobuf!=4.21.0,!=4.21.1,!=4.21.2,!=4.21.3,!=4.21.4,!=4.21.5,<5.0.0dev,>=3.20.3, but you have protobuf 5.27.3 which is incompatible.\n",
      "tensorflow-metadata 1.15.0 requires protobuf<4.21,>=3.20.3; python_version < \"3.11\", but you have protobuf 5.27.3 which is incompatible.\u001b[0m\u001b[31m\n",
      "\u001b[0mSuccessfully installed dataclasses-json-0.6.7 deprecated-1.2.14 dirtyjson-1.0.8 grpcio-1.65.2 grpcio-tools-1.65.2 h11-0.14.0 h2-4.1.0 hpack-4.0.0 httpcore-1.0.5 httpx-0.27.0 hyperframe-6.0.1 llama-cloud-0.0.11 llama-index-agent-openai-0.2.9 llama-index-cli-0.1.13 llama-index-core-0.10.59 llama-index-embeddings-openai-0.1.11 llama-index-indices-managed-llama-cloud-0.2.7 llama-index-legacy-0.9.48 llama-index-llms-openai-0.1.27 llama-index-multi-modal-llms-openai-0.1.8 llama-index-program-openai-0.1.7 llama-index-question-gen-openai-0.1.3 llama-index-readers-file-0.1.32 llama-index-readers-llama-parse-0.1.6 llama-index-vector-stores-qdrant-0.2.14 llama-parse-0.4.9 llama_index-0.10.59 marshmallow-3.21.3 mypy-extensions-1.0.0 openai-1.37.1 portalocker-2.10.1 protobuf-5.27.3 pypdf-4.3.1 qdrant_client-1.10.1 striprtf-0.0.26 tenacity-8.5.0 tiktoken-0.7.0 typing-inspect-0.9.0\n"
     ]
    }
   ],
   "source": [
    "!pip install openai llama_index qdrant_client llama-index-vector-stores-qdrant"
   ]
  },
  {
   "cell_type": "code",
   "execution_count": 1,
   "metadata": {
    "id": "KtCSd9Q771Bv"
   },
   "outputs": [],
   "source": [
    "\n",
    "import nest_asyncio\n",
    "\n",
    "nest_asyncio.apply()"
   ]
  },
  {
   "cell_type": "code",
   "execution_count": 2,
   "metadata": {
    "id": "0zgAPWrp71Bx"
   },
   "outputs": [],
   "source": [
    "from llama_index.core.indices.vector_store.base import VectorStoreIndex\n",
    "from llama_index.vector_stores.qdrant import QdrantVectorStore\n",
    "\n",
    "import qdrant_client\n",
    "from qdrant_client import models\n",
    "client = qdrant_client.QdrantClient(\n",
    "    url=\"\",\n",
    "    api_key=\"\",\n",
    ")\n",
    "from llama_index.llms.openai import OpenAI\n",
    "from llama_index.embeddings.openai import OpenAIEmbedding\n",
    "from llama_index.core import Settings\n",
    "Settings.embed_model = OpenAIEmbedding(\n",
    "    model=\"text-embedding-3-small\"\n",
    ")\n",
    "Settings.llm= OpenAI(temperature=0,model='gpt-4o-mini')"
   ]
  },
  {
   "cell_type": "code",
   "execution_count": 4,
   "metadata": {
    "id": "lRjERMm371By"
   },
   "outputs": [],
   "source": [
    "from llama_index.core import SimpleDirectoryReader\n",
    "\n",
    "# Paul Graham 에세이 다큐먼트 로딩\n",
    "documents = SimpleDirectoryReader(\"./content/pg\").load_data()"
   ]
  },
  {
   "cell_type": "code",
   "execution_count": 5,
   "metadata": {
    "id": "i85WWUrI71Bz"
   },
   "outputs": [],
   "source": [
    "# 청크사이즈 조정\n",
    "Settings.chunk_size = 1024\n",
    "nodes = Settings.node_parser.get_nodes_from_documents(documents)"
   ]
  },
  {
   "cell_type": "code",
   "execution_count": null,
   "metadata": {
    "id": "ayVy9Iat71Bz"
   },
   "outputs": [],
   "source": []
  },
  {
   "cell_type": "code",
   "execution_count": 6,
   "metadata": {
    "id": "GhkWyF9B71B0"
   },
   "outputs": [],
   "source": [
    "from llama_index.core import StorageContext\n",
    "vector_store = QdrantVectorStore(client=client, collection_name=\"routing_exercise\")\n",
    "storage_context = StorageContext.from_defaults(vector_store=vector_store)\n"
   ]
  },
  {
   "cell_type": "code",
   "execution_count": 7,
   "metadata": {
    "id": "UXOOWyE-71B0"
   },
   "outputs": [],
   "source": [
    "from llama_index.core import SummaryIndex\n",
    "from llama_index.core import VectorStoreIndex\n",
    "from llama_index.core import StorageContext\n",
    "\n",
    "#Summary Index: 서머리 담는 용도의 인덱스타입\n",
    "summary_index = SummaryIndex(nodes, storage_context=storage_context)\n",
    "\n",
    "#VectorStoreIndex: 일반적인 덴스임베딩 + 메타 담는곳\n",
    "vector_index = VectorStoreIndex(nodes, storage_context=storage_context)"
   ]
  },
  {
   "cell_type": "code",
   "execution_count": 8,
   "metadata": {
    "id": "lDrWJGG-71B0"
   },
   "outputs": [],
   "source": [
    "\n",
    "# as_query_engine의 response_synthesize 방식으로 tree_summarize 사용.\n",
    "# Tree_summarize: retrieved chunk들을 tree구조로 계층적 summarize하여 결과 response 생성하는 방식\n",
    "list_query_engine = summary_index.as_query_engine(\n",
    "    response_mode=\"tree_summarize\"\n",
    ")\n",
    "vector_query_engine = vector_index.as_query_engine()"
   ]
  },
  {
   "cell_type": "code",
   "execution_count": 9,
   "metadata": {
    "id": "3eHe64rm71B1"
   },
   "outputs": [],
   "source": [
    "from llama_index.core.tools import QueryEngineTool\n",
    "\n",
    "# 쿼리 엔진 툴로 양 인덱스 각각 등록 및 설명란에 LLM Selector가 셀렉팅 기준 참고용으로 작성\n",
    "list_tool = QueryEngineTool.from_defaults(\n",
    "    query_engine=list_query_engine,\n",
    "    description=(\n",
    "        \"Useful for summarization questions related to Paul Graham eassy on\"\n",
    "        \" What I Worked On.\"\n",
    "    ),\n",
    ")\n",
    "\n",
    "vector_tool = QueryEngineTool.from_defaults(\n",
    "    query_engine=vector_query_engine,\n",
    "    description=(\n",
    "        \"Useful for retrieving specific context from Paul Graham essay on What\"\n",
    "        \" I Worked On.\"\n",
    "    ),\n",
    ")"
   ]
  },
  {
   "cell_type": "markdown",
   "metadata": {
    "id": "IctJkUlJ71B1"
   },
   "source": [
    "## Pydantic Selector\n",
    "쿼리엔진 셀렉터\n",
    "\n",
    "LLM Selector : LLM으로 하여금 쿼리엔진툴 description 보고 어느걸 선택해야 하는지에 대한 최종 분류결과를 JSON으로 내뱉게 하고, 이후 이 JSON 바탕으로 쿼리엔진툴 셀렉팅을 하는 느낌.\n",
    "\n",
    "Pydantic Selector: raw JSON 대신 OpenAI의 Function Call API 대신 활용해서 셀렉션 테스크 수행.\n",
    "\n",
    "SingleSelector, MultiSelector 옵션으로 활용 가능"
   ]
  },
  {
   "cell_type": "code",
   "execution_count": 10,
   "metadata": {
    "id": "jo2EATp271B1"
   },
   "outputs": [],
   "source": [
    "\n",
    "from llama_index.core.query_engine import RouterQueryEngine\n",
    "from llama_index.core.selectors import LLMSingleSelector, LLMMultiSelector\n",
    "from llama_index.core.selectors import (\n",
    "    PydanticMultiSelector,\n",
    "    PydanticSingleSelector,\n",
    ")\n",
    "\n",
    "# 쿼리엔진툴들을 묶음으로 상위 쿼리엔진인 라우터쿼리엔진 사용.\n",
    "query_engine = RouterQueryEngine(\n",
    "    selector=PydanticSingleSelector.from_defaults(),\n",
    "    query_engine_tools=[\n",
    "        list_tool,\n",
    "        vector_tool,\n",
    "    ],\n",
    ")"
   ]
  },
  {
   "cell_type": "code",
   "execution_count": 11,
   "metadata": {
    "colab": {
     "base_uri": "https://localhost:8080/"
    },
    "executionInfo": {
     "elapsed": 11321,
     "status": "ok",
     "timestamp": 1722516932539,
     "user": {
      "displayName": "한두솔",
      "userId": "14744311692633150263"
     },
     "user_tz": -540
    },
    "id": "LcxCY0lx71B2",
    "outputId": "649887dc-3d26-4be4-f38c-ad4aacae1923"
   },
   "outputs": [
    {
     "name": "stdout",
     "output_type": "stream",
     "text": [
      "The document is a personal essay detailing the author's journey through writing, programming, and the evolution of their career, particularly in the fields of artificial intelligence, software development, and entrepreneurship. It begins with the author's early experiences with writing short stories and programming on early computers, leading to a shift from philosophy to artificial intelligence in college. The narrative continues through their graduate studies, the realization of the limitations of AI at the time, and a pivot towards Lisp programming.\n",
      "\n",
      "The author recounts their transition from academia to the tech industry, including the founding of Viaweb, an early e-commerce platform, and its eventual acquisition by Yahoo. The essay reflects on the challenges and lessons learned during this period, including the importance of growth rates in startups and the dynamics of venture capital.\n",
      "\n",
      "After a period of personal reflection and a desire to return to painting, the author co-founded Y Combinator, a startup accelerator, which revolutionized seed funding for startups. The essay discusses the unique aspects of Y Combinator, including its batch model and the supportive community it fostered among founders.\n",
      "\n",
      "The author also shares insights on the creative process, the significance of writing essays, and the development of a new Lisp dialect called Bel. The narrative concludes with a contemplation of personal and professional fulfillment, emphasizing the value of pursuing work that may not be prestigious but is meaningful and engaging. Overall, the document captures a journey of exploration, innovation, and the interplay between technology and creativity.\n"
     ]
    }
   ],
   "source": [
    "# 요약에 관련된 질문\n",
    "response = query_engine.query(\"What is the summary of the document?\")\n",
    "print(str(response))"
   ]
  },
  {
   "cell_type": "code",
   "execution_count": 12,
   "metadata": {
    "colab": {
     "base_uri": "https://localhost:8080/"
    },
    "executionInfo": {
     "elapsed": 393,
     "status": "ok",
     "timestamp": 1722517062550,
     "user": {
      "displayName": "한두솔",
      "userId": "14744311692633150263"
     },
     "user_tz": -540
    },
    "id": "rYLRVPSTAsrc",
    "outputId": "9bd81a4b-b61e-4979-af89-f2b738a2f918"
   },
   "outputs": [
    {
     "name": "stdout",
     "output_type": "stream",
     "text": [
      "selections=[SingleSelection(index=0, reason='The question asks for a summary of the document, which aligns with the first choice that is specifically useful for summarization.')]\n"
     ]
    }
   ],
   "source": [
    "# 싱글셀렉터가 선택한 쿼리엔진 확인\n",
    "print(str(response.metadata[\"selector_result\"]))"
   ]
  },
  {
   "cell_type": "code",
   "execution_count": 13,
   "metadata": {
    "colab": {
     "base_uri": "https://localhost:8080/"
    },
    "executionInfo": {
     "elapsed": 17568,
     "status": "ok",
     "timestamp": 1722517141030,
     "user": {
      "displayName": "한두솔",
      "userId": "14744311692633150263"
     },
     "user_tz": -540
    },
    "id": "4mUU0uT171B2",
    "outputId": "a8cdc4e2-41ef-44d1-ee76-d4021add2e8e"
   },
   "outputs": [
    {
     "name": "stdout",
     "output_type": "stream",
     "text": [
      "After RISD, Paul Graham dropped out and moved to New York City, where he lived in a rent-controlled apartment and identified as a New York artist. He was concerned about money due to the decline of Interleaf and the rarity of freelance Lisp hacking work. To address this, he decided to write another book on Lisp, aiming for it to be popular and potentially used as a textbook. During this time, he also became the de facto studio assistant for Idelle Weber, a painter he had previously studied under.\n"
     ]
    }
   ],
   "source": [
    "# 이번엔 구체적인 질문을 날려보기\n",
    "response = query_engine.query(\"What did Paul Graham do after RICS?\")\n",
    "print(str(response))"
   ]
  },
  {
   "cell_type": "code",
   "execution_count": 14,
   "metadata": {
    "colab": {
     "base_uri": "https://localhost:8080/"
    },
    "executionInfo": {
     "elapsed": 7,
     "status": "ok",
     "timestamp": 1722517144903,
     "user": {
      "displayName": "한두솔",
      "userId": "14744311692633150263"
     },
     "user_tz": -540
    },
    "id": "nNaqVYq_71B3",
    "outputId": "29399a4f-92fa-454a-8106-1df5b96e3530"
   },
   "outputs": [
    {
     "name": "stdout",
     "output_type": "stream",
     "text": [
      "selections=[SingleSelection(index=1, reason=\"The question asks for specific context regarding Paul Graham's actions after RICS, which aligns with retrieving specific information from the essay.\")]\n"
     ]
    }
   ],
   "source": [
    "print(str(response.metadata[\"selector_result\"]))"
   ]
  },
  {
   "cell_type": "code",
   "execution_count": 15,
   "metadata": {
    "id": "gY6n8baL71B3"
   },
   "outputs": [],
   "source": [
    "# LLM 싱글셀렉터\n",
    "query_engine = RouterQueryEngine(\n",
    "    selector=LLMSingleSelector.from_defaults(),\n",
    "    query_engine_tools=[\n",
    "        list_tool,\n",
    "        vector_tool,\n",
    "    ],\n",
    ")"
   ]
  },
  {
   "cell_type": "code",
   "execution_count": 16,
   "metadata": {
    "colab": {
     "base_uri": "https://localhost:8080/"
    },
    "executionInfo": {
     "elapsed": 37914,
     "status": "ok",
     "timestamp": 1722517245141,
     "user": {
      "displayName": "한두솔",
      "userId": "14744311692633150263"
     },
     "user_tz": -540
    },
    "id": "qx2qda7k71B4",
    "outputId": "21c4f5a0-342d-415c-db20-87dec44d9d74"
   },
   "outputs": [
    {
     "name": "stdout",
     "output_type": "stream",
     "text": [
      "The document is a personal essay detailing the author's journey through writing, programming, and the evolution of their career, particularly in the fields of artificial intelligence, software development, and entrepreneurship. It begins with the author's early experiences with writing short stories and programming on early computers, leading to a shift from philosophy to artificial intelligence in college. The narrative continues through their graduate studies, the realization of the limitations of AI at the time, and a pivot towards Lisp programming.\n",
      "\n",
      "The author recounts their transition from academia to the tech industry, including the founding of Viaweb, an early e-commerce platform, which was later acquired by Yahoo. The essay reflects on the challenges and lessons learned during this period, including the importance of growth rates in startups and the dynamics of venture capital.\n",
      "\n",
      "After leaving Yahoo, the author explores painting and art, eventually returning to technology and co-founding Y Combinator, a startup accelerator. The essay discusses the innovative approach of funding startups in batches and the community that developed around it. The author also shares insights on the evolution of their interests, the impact of their experiences on their work, and the significance of writing essays as a means of expression and exploration.\n",
      "\n",
      "Ultimately, the document highlights the author's diverse experiences, the interplay between technology and creativity, and the importance of pursuing work that resonates personally, regardless of its perceived prestige.\n"
     ]
    }
   ],
   "source": [
    "response = query_engine.query(\"What is the summary of the document?\")\n",
    "print(str(response))"
   ]
  },
  {
   "cell_type": "code",
   "execution_count": 17,
   "metadata": {
    "colab": {
     "base_uri": "https://localhost:8080/"
    },
    "executionInfo": {
     "elapsed": 337,
     "status": "ok",
     "timestamp": 1722517269007,
     "user": {
      "displayName": "한두솔",
      "userId": "14744311692633150263"
     },
     "user_tz": -540
    },
    "id": "fM2PPk-bB54B",
    "outputId": "6963787c-205d-4ff6-e84d-214cd9812cd0"
   },
   "outputs": [
    {
     "name": "stdout",
     "output_type": "stream",
     "text": [
      "selections=[SingleSelection(index=0, reason='The question asks for a summary of the document, which aligns with the purpose of choice 1 that is useful for summarization.')]\n"
     ]
    }
   ],
   "source": [
    "print(str(response.metadata[\"selector_result\"]))"
   ]
  },
  {
   "cell_type": "code",
   "execution_count": 18,
   "metadata": {
    "colab": {
     "base_uri": "https://localhost:8080/"
    },
    "executionInfo": {
     "elapsed": 5506,
     "status": "ok",
     "timestamp": 1722517308441,
     "user": {
      "displayName": "한두솔",
      "userId": "14744311692633150263"
     },
     "user_tz": -540
    },
    "id": "7jmrD6PS71B4",
    "outputId": "a06cf62d-e0cb-4a0b-8f23-f0a67da3f40b"
   },
   "outputs": [
    {
     "name": "stdout",
     "output_type": "stream",
     "text": [
      "After RISD, Paul Graham dropped out and moved to New York City, where he lived in a rent-controlled apartment and identified as a New York artist. He was concerned about money due to the decline of Interleaf and the rarity of freelance Lisp hacking work. To address this, he decided to write another book on Lisp, aiming for it to be popular and potentially used as a textbook. During this time, he also became the de facto studio assistant for Idelle Weber, a painter he had previously studied under.\n"
     ]
    }
   ],
   "source": [
    "response = query_engine.query(\"What did Paul Graham do after RICS?\")\n",
    "print(str(response))"
   ]
  },
  {
   "cell_type": "code",
   "execution_count": 19,
   "metadata": {
    "colab": {
     "base_uri": "https://localhost:8080/"
    },
    "executionInfo": {
     "elapsed": 354,
     "status": "ok",
     "timestamp": 1722517311200,
     "user": {
      "displayName": "한두솔",
      "userId": "14744311692633150263"
     },
     "user_tz": -540
    },
    "id": "ItPelr9pCDJR",
    "outputId": "fb8ed045-0741-43f4-f4fa-a2c6fcc33809"
   },
   "outputs": [
    {
     "name": "stdout",
     "output_type": "stream",
     "text": [
      "selections=[SingleSelection(index=1, reason=\"The question asks for specific context regarding Paul Graham's actions after RICS, which aligns with retrieving specific information from the essay.\")]\n"
     ]
    }
   ],
   "source": [
    "print(str(response.metadata[\"selector_result\"]))"
   ]
  },
  {
   "cell_type": "markdown",
   "metadata": {
    "id": "9i-9a5cC71B4"
   },
   "source": [
    "- Multi 셀렉터 (인덱스 여러개 참조해서 리트리브 해야될 경우)"
   ]
  },
  {
   "cell_type": "code",
   "execution_count": 20,
   "metadata": {
    "id": "lNs5vCsG71B5"
   },
   "outputs": [],
   "source": [
    "from llama_index.core import SimpleKeywordTableIndex\n",
    "\n",
    "# 요약, 구체성에 더해, 이번엔 키워드 기반 추출 엔진도 정의해보자\n",
    "keyword_index = SimpleKeywordTableIndex(nodes, storage_context=storage_context)\n",
    "\n",
    "keyword_tool = QueryEngineTool.from_defaults(\n",
    "    query_engine=vector_query_engine,\n",
    "    description=(\n",
    "        \"Useful for retrieving specific context using keywords from Paul\"\n",
    "        \" Graham essay on What I Worked On.\"\n",
    "    ),\n",
    ")"
   ]
  },
  {
   "cell_type": "code",
   "execution_count": 21,
   "metadata": {
    "id": "cff-O52A71B5"
   },
   "outputs": [],
   "source": [
    "query_engine = RouterQueryEngine(\n",
    "    selector=PydanticMultiSelector.from_defaults(),\n",
    "    query_engine_tools=[\n",
    "        list_tool,\n",
    "        vector_tool,\n",
    "        keyword_tool,\n",
    "    ],\n",
    ")"
   ]
  },
  {
   "cell_type": "code",
   "execution_count": 22,
   "metadata": {
    "colab": {
     "base_uri": "https://localhost:8080/"
    },
    "executionInfo": {
     "elapsed": 18160,
     "status": "ok",
     "timestamp": 1722517400999,
     "user": {
      "displayName": "한두솔",
      "userId": "14744311692633150263"
     },
     "user_tz": -540
    },
    "id": "qSiiTDSJ71B5",
    "outputId": "d20833e9-8551-460c-dbba-8bf1cb896bb3"
   },
   "outputs": [
    {
     "name": "stdout",
     "output_type": "stream",
     "text": [
      "During the author's time at YC, several notable events and individuals emerged. A significant milestone was the establishment of the Summer Founders Program, which attracted 225 applications and resulted in the selection of 8 startups, including Reddit, Twitch founders Justin Kan and Emmett Shear, Aaron Swartz, and Sam Altman, who later became the second president of YC. This program aimed to provide undergraduates with the opportunity to start their own companies during the summer, proving to be a successful model for funding startups in batches.\n",
      "\n",
      "The author also noted the transition of YC into a fund in 2009 due to its growth, although it later reverted to being self-funded following the acquisition of Heroku. The importance of community among startups was highlighted, with alumni actively supporting current batches, fostering a collaborative environment. The humorous concept of \"YC GDP\" illustrated how startups within the same batch often became customers of one another, showcasing the interconnectedness created by the batch model.\n",
      "\n",
      "Additionally, the author's personal connection with Jessica Livingston was emphasized as a significant aspect of their experience, marking an emotional impact upon leaving YC after their close collaboration.\n"
     ]
    }
   ],
   "source": [
    "# 설명이 같은 두개의 툴들(벡터툴, 키워드툴) 멀티셀렉션하는지 확인\n",
    "response = query_engine.query(\n",
    "    \"What were noteable events and people from the authors time at Interleaf\"\n",
    "    \" and YC?\"\n",
    ")\n",
    "print(str(response))"
   ]
  },
  {
   "cell_type": "code",
   "execution_count": 23,
   "metadata": {
    "colab": {
     "base_uri": "https://localhost:8080/"
    },
    "executionInfo": {
     "elapsed": 340,
     "status": "ok",
     "timestamp": 1722517413926,
     "user": {
      "displayName": "한두솔",
      "userId": "14744311692633150263"
     },
     "user_tz": -540
    },
    "id": "lsN1-w_M71B6",
    "outputId": "eeb93ca7-3a5e-48b2-8792-31bdc9a4e710"
   },
   "outputs": [
    {
     "name": "stdout",
     "output_type": "stream",
     "text": [
      "selections=[SingleSelection(index=1, reason=\"This choice is useful for retrieving specific context related to notable events and people from the author's time at Interleaf and YC.\"), SingleSelection(index=2, reason='This choice allows for retrieving specific context using keywords, which can help in identifying notable events and people.')]\n"
     ]
    }
   ],
   "source": [
    "\n",
    "print(str(response.metadata[\"selector_result\"]))"
   ]
  },
  {
   "cell_type": "markdown",
   "metadata": {
    "id": "yklD3JpLC4OY"
   },
   "source": [
    "# Do It Yourself"
   ]
  },
  {
   "cell_type": "code",
   "execution_count": null,
   "metadata": {
    "colab": {
     "base_uri": "https://localhost:8080/"
    },
    "executionInfo": {
     "elapsed": 6419,
     "status": "ok",
     "timestamp": 1722517638579,
     "user": {
      "displayName": "한두솔",
      "userId": "14744311692633150263"
     },
     "user_tz": -540
    },
    "id": "4HJoFc1JC9JJ",
    "outputId": "bf19d548-beb9-4769-ebdf-dfc87d73843f"
   },
   "outputs": [
    {
     "name": "stdout",
     "output_type": "stream",
     "text": [
      "Requirement already satisfied: datasets in /usr/local/lib/python3.10/dist-packages (2.20.0)\n",
      "Requirement already satisfied: filelock in /usr/local/lib/python3.10/dist-packages (from datasets) (3.15.4)\n",
      "Requirement already satisfied: numpy>=1.17 in /usr/local/lib/python3.10/dist-packages (from datasets) (1.26.4)\n",
      "Requirement already satisfied: pyarrow>=15.0.0 in /usr/local/lib/python3.10/dist-packages (from datasets) (17.0.0)\n",
      "Requirement already satisfied: pyarrow-hotfix in /usr/local/lib/python3.10/dist-packages (from datasets) (0.6)\n",
      "Requirement already satisfied: dill<0.3.9,>=0.3.0 in /usr/local/lib/python3.10/dist-packages (from datasets) (0.3.8)\n",
      "Requirement already satisfied: pandas in /usr/local/lib/python3.10/dist-packages (from datasets) (2.1.4)\n",
      "Requirement already satisfied: requests>=2.32.2 in /usr/local/lib/python3.10/dist-packages (from datasets) (2.32.3)\n",
      "Requirement already satisfied: tqdm>=4.66.3 in /usr/local/lib/python3.10/dist-packages (from datasets) (4.66.4)\n",
      "Requirement already satisfied: xxhash in /usr/local/lib/python3.10/dist-packages (from datasets) (3.4.1)\n",
      "Requirement already satisfied: multiprocess in /usr/local/lib/python3.10/dist-packages (from datasets) (0.70.16)\n",
      "Requirement already satisfied: fsspec<=2024.5.0,>=2023.1.0 in /usr/local/lib/python3.10/dist-packages (from fsspec[http]<=2024.5.0,>=2023.1.0->datasets) (2024.5.0)\n",
      "Requirement already satisfied: aiohttp in /usr/local/lib/python3.10/dist-packages (from datasets) (3.9.5)\n",
      "Requirement already satisfied: huggingface-hub>=0.21.2 in /usr/local/lib/python3.10/dist-packages (from datasets) (0.23.5)\n",
      "Requirement already satisfied: packaging in /usr/local/lib/python3.10/dist-packages (from datasets) (24.1)\n",
      "Requirement already satisfied: pyyaml>=5.1 in /usr/local/lib/python3.10/dist-packages (from datasets) (6.0.1)\n",
      "Requirement already satisfied: aiosignal>=1.1.2 in /usr/local/lib/python3.10/dist-packages (from aiohttp->datasets) (1.3.1)\n",
      "Requirement already satisfied: attrs>=17.3.0 in /usr/local/lib/python3.10/dist-packages (from aiohttp->datasets) (23.2.0)\n",
      "Requirement already satisfied: frozenlist>=1.1.1 in /usr/local/lib/python3.10/dist-packages (from aiohttp->datasets) (1.4.1)\n",
      "Requirement already satisfied: multidict<7.0,>=4.5 in /usr/local/lib/python3.10/dist-packages (from aiohttp->datasets) (6.0.5)\n",
      "Requirement already satisfied: yarl<2.0,>=1.0 in /usr/local/lib/python3.10/dist-packages (from aiohttp->datasets) (1.9.4)\n",
      "Requirement already satisfied: async-timeout<5.0,>=4.0 in /usr/local/lib/python3.10/dist-packages (from aiohttp->datasets) (4.0.3)\n",
      "Requirement already satisfied: typing-extensions>=3.7.4.3 in /usr/local/lib/python3.10/dist-packages (from huggingface-hub>=0.21.2->datasets) (4.12.2)\n",
      "Requirement already satisfied: charset-normalizer<4,>=2 in /usr/local/lib/python3.10/dist-packages (from requests>=2.32.2->datasets) (3.3.2)\n",
      "Requirement already satisfied: idna<4,>=2.5 in /usr/local/lib/python3.10/dist-packages (from requests>=2.32.2->datasets) (3.7)\n",
      "Requirement already satisfied: urllib3<3,>=1.21.1 in /usr/local/lib/python3.10/dist-packages (from requests>=2.32.2->datasets) (2.0.7)\n",
      "Requirement already satisfied: certifi>=2017.4.17 in /usr/local/lib/python3.10/dist-packages (from requests>=2.32.2->datasets) (2024.7.4)\n",
      "Requirement already satisfied: python-dateutil>=2.8.2 in /usr/local/lib/python3.10/dist-packages (from pandas->datasets) (2.8.2)\n",
      "Requirement already satisfied: pytz>=2020.1 in /usr/local/lib/python3.10/dist-packages (from pandas->datasets) (2024.1)\n",
      "Requirement already satisfied: tzdata>=2022.1 in /usr/local/lib/python3.10/dist-packages (from pandas->datasets) (2024.1)\n",
      "Requirement already satisfied: six>=1.5 in /usr/local/lib/python3.10/dist-packages (from python-dateutil>=2.8.2->pandas->datasets) (1.16.0)\n"
     ]
    }
   ],
   "source": [
    "!pip install datasets"
   ]
  },
  {
   "cell_type": "code",
   "execution_count": 24,
   "metadata": {
    "colab": {
     "base_uri": "https://localhost:8080/",
     "height": 299,
     "referenced_widgets": [
      "0d59b13d80c74d3ab1d98fedc0b0cc11",
      "8d58440837784826aabfdaa7aada674b",
      "a3ce6cc5a564456c8fa773249918c08b",
      "d3428f055c3c416389995db1ef0b8021",
      "9a6ea4cbdcd74703a36239ec61190615",
      "b11ab1218efc4b2bb7da015eeca28480",
      "cd1c8f0042414692b03f0ff060c258a1",
      "6f73da9e1ca146379ed64c8d11b85f09",
      "47b83e0fb2e647d59cb1c8d1bcb6ea74",
      "91414592663e4ea29e13dcc2b4b2c38f",
      "e3fa304bb44a453abca30c15cfe1cc75",
      "714cdc88c69d42e7bfff77abf17acd52",
      "94e40c3742644c68869b85f289b9c47c",
      "c8bbf442453146a29ef2a629054f744b",
      "3a49a4e061a5432ea5f2a71db4529c15",
      "752a1a7cf5874ddbb287fd9fc500e710",
      "05ac80d0ada9475ea0207553234be279",
      "f057696318ef4c3a98e4206271d418e5",
      "39e5ce57aefa4d6f98017b62dcfc7ec4",
      "80197025590f4abdb74d037876a07941",
      "54c983f0454943859ca7457535ecd5cf",
      "b71423a24ae34ed2bfca93707dadd0b8",
      "69acc55d157248ffaa8c4ac2c47a3ca1",
      "5e77789561174a7492540e8e0dae90f9",
      "c3daef5804c24fae9825468d046e6b97",
      "c06068bd12bc46178b9fcd60744e5680",
      "0120c38f39244fe7904fa1e8c6b02ad7",
      "e6c51d99e4a44165994a5f8b898e5897",
      "16917617b9fb4ed2a8b9ffc41bafd80b",
      "397deaf70c1c4773853507004eef8a58",
      "13918ddf02bb4b0b943011bc37c86ff4",
      "20a6f59e769a4a758550abb361b3a199",
      "6a76608c24264732a599afb5478ced6e",
      "a3bcfce79d2c4513b6da84a65e4ca621",
      "524f2cf3a65c4e459aa894edee3faa47",
      "e56bd8656c6b4699a62a67e530e82fd6",
      "5a9807117aed40f69e57bd3084f5fdba",
      "5ce6fcdacc7d4968807a519fdb80d1bf",
      "91a6574eecec449494b353e8c01e8885",
      "9586f2eb01684516b0b63c4067600e55",
      "4abad483024b4a3abfb11d694c13ada5",
      "4b5cea7358b743869a79779dfac37d91",
      "78ea73f373844a1e9620e76e7bf31222",
      "0246565166104c02b7a44e06b41e1c8c",
      "6107b3234c58414f88b275ce0574e7b1",
      "f5b0786bc90d4c94bf7294cc1f2c9aa7",
      "9b939a82e69c4679b5bf02dc6f1bf741",
      "ee1c5f9310eb4d5fbd6e88774877c767",
      "c5898092d18140c08d011a207238f48f",
      "768f0e01c15849fd807d58b6a42c7e55",
      "b4034fc5112d41dc97a11ebf24f9e5ff",
      "25f7bede968747e9b133104eda8f9c16",
      "b1869b5c31ad41b79ca3f8730e04f31c",
      "0d9a81300db0460599e9a04a71ebc85c",
      "323f222a13d94155b3ac7858e2ee9c02"
     ]
    },
    "executionInfo": {
     "elapsed": 163431,
     "status": "ok",
     "timestamp": 1722517803807,
     "user": {
      "displayName": "한두솔",
      "userId": "14744311692633150263"
     },
     "user_tz": -540
    },
    "id": "2MpZI3jU71B6",
    "outputId": "e60f28c0-882d-4bc3-ff47-c13e9d5b31ce"
   },
   "outputs": [
    {
     "data": {
      "application/vnd.jupyter.widget-view+json": {
       "model_id": "d539076679ac41ac979f8fe71e0b95d7",
       "version_major": 2,
       "version_minor": 0
      },
      "text/plain": [
       "README.md:   0%|          | 0.00/3.06k [00:00<?, ?B/s]"
      ]
     },
     "metadata": {},
     "output_type": "display_data"
    },
    {
     "data": {
      "application/vnd.jupyter.widget-view+json": {
       "model_id": "1f13d5f5e0ba4b8899e55891d41798fe",
       "version_major": 2,
       "version_minor": 0
      },
      "text/plain": [
       "Resolving data files:   0%|          | 0/18 [00:00<?, ?it/s]"
      ]
     },
     "metadata": {},
     "output_type": "display_data"
    },
    {
     "data": {
      "application/vnd.jupyter.widget-view+json": {
       "model_id": "047016ba8e234c3cac78ff2b85b6d13a",
       "version_major": 2,
       "version_minor": 0
      },
      "text/plain": [
       "Resolving data files:   0%|          | 0/18 [00:00<?, ?it/s]"
      ]
     },
     "metadata": {},
     "output_type": "display_data"
    },
    {
     "data": {
      "application/vnd.jupyter.widget-view+json": {
       "model_id": "4cf9ad2642f54178929d27e19fdb4508",
       "version_major": 2,
       "version_minor": 0
      },
      "text/plain": [
       "Downloading data:   0%|          | 0/18 [00:00<?, ?files/s]"
      ]
     },
     "metadata": {},
     "output_type": "display_data"
    },
    {
     "data": {
      "application/vnd.jupyter.widget-view+json": {
       "model_id": "cade8c15441d47e7a09695b3863516ea",
       "version_major": 2,
       "version_minor": 0
      },
      "text/plain": [
       "train-00000-of-00018.parquet:   0%|          | 0.00/411M [00:00<?, ?B/s]"
      ]
     },
     "metadata": {},
     "output_type": "display_data"
    },
    {
     "data": {
      "application/vnd.jupyter.widget-view+json": {
       "model_id": "8a37cb32ba2c407d905cc0b803714077",
       "version_major": 2,
       "version_minor": 0
      },
      "text/plain": [
       "train-00001-of-00018.parquet:   0%|          | 0.00/419M [00:00<?, ?B/s]"
      ]
     },
     "metadata": {},
     "output_type": "display_data"
    },
    {
     "data": {
      "application/vnd.jupyter.widget-view+json": {
       "model_id": "b7ae86f5769e4513bc4aa36925db1ede",
       "version_major": 2,
       "version_minor": 0
      },
      "text/plain": [
       "train-00002-of-00018.parquet:   0%|          | 0.00/359M [00:00<?, ?B/s]"
      ]
     },
     "metadata": {},
     "output_type": "display_data"
    },
    {
     "data": {
      "application/vnd.jupyter.widget-view+json": {
       "model_id": "5fe145b5185a4e0b8e8661b9b3d5df4a",
       "version_major": 2,
       "version_minor": 0
      },
      "text/plain": [
       "train-00003-of-00018.parquet:   0%|          | 0.00/364M [00:00<?, ?B/s]"
      ]
     },
     "metadata": {},
     "output_type": "display_data"
    },
    {
     "data": {
      "application/vnd.jupyter.widget-view+json": {
       "model_id": "2275aa0cb95b4296a92875cbfe3e55b2",
       "version_major": 2,
       "version_minor": 0
      },
      "text/plain": [
       "train-00004-of-00018.parquet:   0%|          | 0.00/347M [00:00<?, ?B/s]"
      ]
     },
     "metadata": {},
     "output_type": "display_data"
    },
    {
     "data": {
      "application/vnd.jupyter.widget-view+json": {
       "model_id": "58557283826448a6a072f0f6d9a35587",
       "version_major": 2,
       "version_minor": 0
      },
      "text/plain": [
       "train-00005-of-00018.parquet:   0%|          | 0.00/196M [00:00<?, ?B/s]"
      ]
     },
     "metadata": {},
     "output_type": "display_data"
    },
    {
     "data": {
      "application/vnd.jupyter.widget-view+json": {
       "model_id": "3681c0d8ed0a433298aa9bcddf10a65d",
       "version_major": 2,
       "version_minor": 0
      },
      "text/plain": [
       "train-00006-of-00018.parquet:   0%|          | 0.00/199M [00:00<?, ?B/s]"
      ]
     },
     "metadata": {},
     "output_type": "display_data"
    },
    {
     "data": {
      "application/vnd.jupyter.widget-view+json": {
       "model_id": "94207dde28e34f839fa6bff72db91ffd",
       "version_major": 2,
       "version_minor": 0
      },
      "text/plain": [
       "train-00007-of-00018.parquet:   0%|          | 0.00/199M [00:00<?, ?B/s]"
      ]
     },
     "metadata": {},
     "output_type": "display_data"
    },
    {
     "data": {
      "application/vnd.jupyter.widget-view+json": {
       "model_id": "36897d6237094989a2680bcf5bf41bec",
       "version_major": 2,
       "version_minor": 0
      },
      "text/plain": [
       "train-00008-of-00018.parquet:   0%|          | 0.00/199M [00:00<?, ?B/s]"
      ]
     },
     "metadata": {},
     "output_type": "display_data"
    },
    {
     "data": {
      "application/vnd.jupyter.widget-view+json": {
       "model_id": "9138962a100c4b229e6b7728fcd7071c",
       "version_major": 2,
       "version_minor": 0
      },
      "text/plain": [
       "train-00009-of-00018.parquet:   0%|          | 0.00/198M [00:00<?, ?B/s]"
      ]
     },
     "metadata": {},
     "output_type": "display_data"
    },
    {
     "data": {
      "application/vnd.jupyter.widget-view+json": {
       "model_id": "c3ef5a09b03e4fefb945ed402865a318",
       "version_major": 2,
       "version_minor": 0
      },
      "text/plain": [
       "train-00010-of-00018.parquet:   0%|          | 0.00/198M [00:00<?, ?B/s]"
      ]
     },
     "metadata": {},
     "output_type": "display_data"
    },
    {
     "data": {
      "application/vnd.jupyter.widget-view+json": {
       "model_id": "5b30a0d1507d4c41a2216968c91d4832",
       "version_major": 2,
       "version_minor": 0
      },
      "text/plain": [
       "train-00011-of-00018.parquet:   0%|          | 0.00/199M [00:00<?, ?B/s]"
      ]
     },
     "metadata": {},
     "output_type": "display_data"
    },
    {
     "data": {
      "application/vnd.jupyter.widget-view+json": {
       "model_id": "8af42a1aca6a4f44b18f2a6cfec8add0",
       "version_major": 2,
       "version_minor": 0
      },
      "text/plain": [
       "train-00012-of-00018.parquet:   0%|          | 0.00/201M [00:00<?, ?B/s]"
      ]
     },
     "metadata": {},
     "output_type": "display_data"
    },
    {
     "data": {
      "application/vnd.jupyter.widget-view+json": {
       "model_id": "46a3bfa29a6e43f5915b71008bf42cd7",
       "version_major": 2,
       "version_minor": 0
      },
      "text/plain": [
       "train-00013-of-00018.parquet:   0%|          | 0.00/199M [00:00<?, ?B/s]"
      ]
     },
     "metadata": {},
     "output_type": "display_data"
    },
    {
     "data": {
      "application/vnd.jupyter.widget-view+json": {
       "model_id": "69ef53a9675f41c0aee9f401b50d6255",
       "version_major": 2,
       "version_minor": 0
      },
      "text/plain": [
       "train-00014-of-00018.parquet:   0%|          | 0.00/196M [00:00<?, ?B/s]"
      ]
     },
     "metadata": {},
     "output_type": "display_data"
    },
    {
     "data": {
      "application/vnd.jupyter.widget-view+json": {
       "model_id": "267def59957e47ef826948ad0011c3d3",
       "version_major": 2,
       "version_minor": 0
      },
      "text/plain": [
       "train-00015-of-00018.parquet:   0%|          | 0.00/194M [00:00<?, ?B/s]"
      ]
     },
     "metadata": {},
     "output_type": "display_data"
    },
    {
     "data": {
      "application/vnd.jupyter.widget-view+json": {
       "model_id": "5c30a601d8cc43a3a0a26465cdc48080",
       "version_major": 2,
       "version_minor": 0
      },
      "text/plain": [
       "train-00016-of-00018.parquet:   0%|          | 0.00/197M [00:00<?, ?B/s]"
      ]
     },
     "metadata": {},
     "output_type": "display_data"
    },
    {
     "data": {
      "application/vnd.jupyter.widget-view+json": {
       "model_id": "b297099bcd69415ebf94cbd3e1178a2b",
       "version_major": 2,
       "version_minor": 0
      },
      "text/plain": [
       "train-00017-of-00018.parquet:   0%|          | 0.00/197M [00:00<?, ?B/s]"
      ]
     },
     "metadata": {},
     "output_type": "display_data"
    },
    {
     "data": {
      "application/vnd.jupyter.widget-view+json": {
       "model_id": "6584fd78acdc44f29ba6e0017fc33cac",
       "version_major": 2,
       "version_minor": 0
      },
      "text/plain": [
       "Generating train split:   0%|          | 0/1284879 [00:00<?, ? examples/s]"
      ]
     },
     "metadata": {},
     "output_type": "display_data"
    }
   ],
   "source": [
    "# Dataset 로드\n",
    "from datasets import load_dataset\n",
    "\n",
    "ds = load_dataset(\"HAERAE-HUB/KOREAN-WEBTEXT\", split='train[:20]')\n",
    "data = ds.to_pandas()"
   ]
  },
  {
   "cell_type": "code",
   "execution_count": 25,
   "metadata": {
    "id": "mGXQzOeYC6u5"
   },
   "outputs": [],
   "source": [
    "# Document 오브젝트로 변환\n",
    "from llama_index.core import Document, VectorStoreIndex\n",
    "docs = []\n",
    "\n",
    "#Iterative하게 Document 만들기\n",
    "for i, row in data.iterrows():\n",
    "    docs.append(Document(\n",
    "        text=row['text'],\n",
    "        # extra_info={'title': row ['title']}\n",
    "    ))"
   ]
  },
  {
   "cell_type": "code",
   "execution_count": 26,
   "metadata": {
    "id": "5k1BaEK3EFO5"
   },
   "outputs": [],
   "source": [
    "Settings.chunk_size = 1024\n",
    "\n",
    "# 노드로 닥스 분할\n",
    "nodes = Settings.node_parser.get_nodes_from_documents(docs)"
   ]
  },
  {
   "cell_type": "code",
   "execution_count": 27,
   "metadata": {
    "id": "jXuzqdi-EMQR"
   },
   "outputs": [],
   "source": [
    "from llama_index.core import SummaryIndex\n",
    "from llama_index.core import VectorStoreIndex\n",
    "from llama_index.core import StorageContext\n",
    "from llama_index.core import SimpleKeywordTableIndex\n",
    "# 쿼드란트 벡터스토어 컬렉션 생성\n",
    "vector_store = QdrantVectorStore(client=client, collection_name=\"routing_exercise2\")\n",
    "\n",
    "# 스토리지 컨텍스트에 백엔드로 쿼드란트 벡터스토어 연결\n",
    "storage_context = StorageContext.from_defaults(vector_store=vector_store)"
   ]
  },
  {
   "cell_type": "code",
   "execution_count": 28,
   "metadata": {
    "id": "oqnPEY5wE-wS"
   },
   "outputs": [],
   "source": [
    "#Summary Index: 서머리 담는 용도의 인덱스타입\n",
    "summary_index = SummaryIndex(nodes, storage_context=storage_context)\n",
    "\n",
    "#VectorStoreIndex: 일반적인 덴스임베딩 + 메타 담는곳\n",
    "vector_index = VectorStoreIndex(nodes, storage_context=storage_context)\n",
    "\n",
    "#키워드 인덱스\n",
    "keyword_index = SimpleKeywordTableIndex(nodes, storage_context=storage_context)"
   ]
  },
  {
   "cell_type": "code",
   "execution_count": null,
   "metadata": {
    "id": "fxKkQ1wIGYAQ"
   },
   "outputs": [],
   "source": []
  },
  {
   "cell_type": "code",
   "execution_count": 29,
   "metadata": {
    "id": "vtQk-ZT5FKp-"
   },
   "outputs": [],
   "source": [
    "list_query_engine = summary_index.as_query_engine(\n",
    "    response_mode=\"tree_summarize\"\n",
    ")\n",
    "vector_query_engine = vector_index.as_query_engine()\n",
    "\n",
    "keyword_index_query_engine = keyword_index.as_query_engine()"
   ]
  },
  {
   "cell_type": "code",
   "execution_count": 30,
   "metadata": {
    "id": "jZ3rzwlhF1rO"
   },
   "outputs": [],
   "source": [
    "from llama_index.core.tools import QueryEngineTool\n",
    "\n",
    "\n",
    "# 쿼리 엔진 툴로 양 인덱스 각각 등록 및 설명란에 LLM Selector가 셀렉팅 기준 참고용으로 작성\n",
    "list_tool = QueryEngineTool.from_defaults(\n",
    "    query_engine=list_query_engine,\n",
    "    description=(\n",
    "        \"Useful for summarization questions\"\n",
    "    ),\n",
    ")\n",
    "\n",
    "vector_tool = QueryEngineTool.from_defaults(\n",
    "    query_engine=vector_query_engine,\n",
    "    description=(\n",
    "        \"Useful for retrieving specific context\"\n",
    "    ),\n",
    ")\n",
    "\n",
    "\n",
    "keyword_tool = QueryEngineTool.from_defaults(\n",
    "    query_engine=keyword_index_query_engine,\n",
    "    description=(\n",
    "        \"Useful for retrieving specific context using keywords\"\n",
    "    ),\n",
    ")"
   ]
  },
  {
   "cell_type": "code",
   "execution_count": 31,
   "metadata": {
    "id": "8buoza-aHAWx"
   },
   "outputs": [],
   "source": [
    "\n",
    "from llama_index.core.query_engine import RouterQueryEngine\n",
    "from llama_index.core.selectors import LLMSingleSelector, LLMMultiSelector\n",
    "from llama_index.core.selectors import (\n",
    "    PydanticMultiSelector,\n",
    "    PydanticSingleSelector,\n",
    ")\n",
    "# 라우터쿼리엔진(멀티셀렉터)으로 묶어주기\n",
    "query_engine = RouterQueryEngine(\n",
    "    selector=PydanticMultiSelector.from_defaults(),\n",
    "    query_engine_tools=[\n",
    "        list_tool,\n",
    "        vector_tool,\n",
    "        keyword_tool,\n",
    "    ],\n",
    ")"
   ]
  },
  {
   "cell_type": "code",
   "execution_count": 32,
   "metadata": {
    "colab": {
     "base_uri": "https://localhost:8080/",
     "height": 669
    },
    "executionInfo": {
     "elapsed": 404,
     "status": "ok",
     "timestamp": 1722518753777,
     "user": {
      "displayName": "한두솔",
      "userId": "14744311692633150263"
     },
     "user_tz": -540
    },
    "id": "IAmZGTUtHis0",
    "outputId": "d32ccd97-155e-42b1-e894-8665a6eee2c0"
   },
   "outputs": [
    {
     "data": {
      "text/html": [
       "<div>\n",
       "<style scoped>\n",
       "    .dataframe tbody tr th:only-of-type {\n",
       "        vertical-align: middle;\n",
       "    }\n",
       "\n",
       "    .dataframe tbody tr th {\n",
       "        vertical-align: top;\n",
       "    }\n",
       "\n",
       "    .dataframe thead th {\n",
       "        text-align: right;\n",
       "    }\n",
       "</style>\n",
       "<table border=\"1\" class=\"dataframe\">\n",
       "  <thead>\n",
       "    <tr style=\"text-align: right;\">\n",
       "      <th></th>\n",
       "      <th>text</th>\n",
       "      <th>source</th>\n",
       "      <th>token_count</th>\n",
       "      <th>__index_level_0__</th>\n",
       "    </tr>\n",
       "  </thead>\n",
       "  <tbody>\n",
       "    <tr>\n",
       "      <th>0</th>\n",
       "      <td>사이트의 판매량에 기반하여 판매량 추이를 반영한 인터파크 도서에서의 독립적인 판매 ...</td>\n",
       "      <td>oscar2201</td>\n",
       "      <td>3348</td>\n",
       "      <td>0</td>\n",
       "    </tr>\n",
       "    <tr>\n",
       "      <th>1</th>\n",
       "      <td>“아~아~잊으랴 어찌 우리 이날을 조국의 원수들이 짓밟아 오던 날을~”6·25의 노...</td>\n",
       "      <td>oscar2201</td>\n",
       "      <td>1427</td>\n",
       "      <td>1</td>\n",
       "    </tr>\n",
       "    <tr>\n",
       "      <th>2</th>\n",
       "      <td>일러전쟁의 승패를 가른 쓰시마 해전은 세계 최강으로 평가 받는 발틱함대를 괴멸시켰다...</td>\n",
       "      <td>oscar2201</td>\n",
       "      <td>2458</td>\n",
       "      <td>2</td>\n",
       "    </tr>\n",
       "    <tr>\n",
       "      <th>3</th>\n",
       "      <td>재테크 채널 유튜버이자, 「빚부터 갚아라」, 「원트재무설계 소원을 말해봐」 저자인 ...</td>\n",
       "      <td>oscar2201</td>\n",
       "      <td>2838</td>\n",
       "      <td>3</td>\n",
       "    </tr>\n",
       "    <tr>\n",
       "      <th>4</th>\n",
       "      <td>상급자의 범죄와 비리, 부패를 하급자에게 돌리는 것으로 따지면 타의추종을 불허하는 ...</td>\n",
       "      <td>oscar2201</td>\n",
       "      <td>1628</td>\n",
       "      <td>4</td>\n",
       "    </tr>\n",
       "    <tr>\n",
       "      <th>5</th>\n",
       "      <td>최근 언론보도에 의하면 이재현 CJ그룹 회장이 지난해 말 두 자녀에게 증여하였던 주...</td>\n",
       "      <td>oscar2201</td>\n",
       "      <td>1366</td>\n",
       "      <td>5</td>\n",
       "    </tr>\n",
       "    <tr>\n",
       "      <th>6</th>\n",
       "      <td>나는 노무현의 시대를 살지 않았다. 그러니까, 나는 이 땅의 생명체로 살아있긴 했지...</td>\n",
       "      <td>oscar2201</td>\n",
       "      <td>2017</td>\n",
       "      <td>6</td>\n",
       "    </tr>\n",
       "    <tr>\n",
       "      <th>7</th>\n",
       "      <td>CBRE가 21일 발표한 ‘2021년 2분기 국내 상업용 부동산 시장 보고서’에 따...</td>\n",
       "      <td>oscar2201</td>\n",
       "      <td>1421</td>\n",
       "      <td>7</td>\n",
       "    </tr>\n",
       "    <tr>\n",
       "      <th>8</th>\n",
       "      <td>안녕하세요. 한화솔루션입니다. 지난주, 슬기로운 솔루션 직장생활 2탄에 이어 이번엔...</td>\n",
       "      <td>oscar2201</td>\n",
       "      <td>2143</td>\n",
       "      <td>8</td>\n",
       "    </tr>\n",
       "    <tr>\n",
       "      <th>9</th>\n",
       "      <td>캐나다는 3 년 연속 지구상에서 가장 주목할만한 국가로 선포되었습니다. 일반 타이틀...</td>\n",
       "      <td>oscar2201</td>\n",
       "      <td>1104</td>\n",
       "      <td>9</td>\n",
       "    </tr>\n",
       "    <tr>\n",
       "      <th>10</th>\n",
       "      <td>민선6기 광주시장에 시민활동가 출신이 당선된 이후 시민과 소통하고 시민의 의견을 존...</td>\n",
       "      <td>oscar2201</td>\n",
       "      <td>3104</td>\n",
       "      <td>10</td>\n",
       "    </tr>\n",
       "    <tr>\n",
       "      <th>11</th>\n",
       "      <td>얼마 전 소개해 드린 레고 부스트 17101 기억하시나요? 레고를 통해 만드는 재미...</td>\n",
       "      <td>oscar2201</td>\n",
       "      <td>1627</td>\n",
       "      <td>11</td>\n",
       "    </tr>\n",
       "    <tr>\n",
       "      <th>12</th>\n",
       "      <td>대한민국 근대 도시사는 신도시 역사라 불리울 정도로 우리는 다양한 도시건설 노하우를...</td>\n",
       "      <td>oscar2201</td>\n",
       "      <td>1871</td>\n",
       "      <td>12</td>\n",
       "    </tr>\n",
       "    <tr>\n",
       "      <th>13</th>\n",
       "      <td>피고는 원고 최○○에게 37,474,000원, 원고 박○○에게 33,196,000원...</td>\n",
       "      <td>oscar2201</td>\n",
       "      <td>6648</td>\n",
       "      <td>13</td>\n",
       "    </tr>\n",
       "    <tr>\n",
       "      <th>14</th>\n",
       "      <td>디지털 기술로 산업과 사회 혁신을 추구하는 4차 산업혁명 시대가 도래했다. 디자인 ...</td>\n",
       "      <td>oscar2201</td>\n",
       "      <td>1369</td>\n",
       "      <td>14</td>\n",
       "    </tr>\n",
       "    <tr>\n",
       "      <th>15</th>\n",
       "      <td>법무법인 엘케이비앤파트너스(엘케이비)는 코로나19 시대 의뢰인과 함께하는 전문 법률...</td>\n",
       "      <td>oscar2201</td>\n",
       "      <td>3361</td>\n",
       "      <td>15</td>\n",
       "    </tr>\n",
       "    <tr>\n",
       "      <th>16</th>\n",
       "      <td>익숙하지 않은 것이 주는 낯설고 설레는 경험, 그것을 통해 얻는 영감은 여행을 하는...</td>\n",
       "      <td>oscar2201</td>\n",
       "      <td>1374</td>\n",
       "      <td>16</td>\n",
       "    </tr>\n",
       "    <tr>\n",
       "      <th>17</th>\n",
       "      <td>어제 오후 비가 오심을 의식해 자연의 맑은 비를 흠씬 맞춰 줄 요량으로 서재로부터 ...</td>\n",
       "      <td>oscar2201</td>\n",
       "      <td>1735</td>\n",
       "      <td>17</td>\n",
       "    </tr>\n",
       "    <tr>\n",
       "      <th>18</th>\n",
       "      <td>한국한의학연구원의 유튜브 채널에 최근 사상체질에 대한 김종열 한국한의학연구원장의 강...</td>\n",
       "      <td>oscar2201</td>\n",
       "      <td>1430</td>\n",
       "      <td>18</td>\n",
       "    </tr>\n",
       "    <tr>\n",
       "      <th>19</th>\n",
       "      <td>낙동강에 세워진 8개의 댐(보) 중 5개의 보에서 물이 샙니다. 상주댐에서 물이 새...</td>\n",
       "      <td>oscar2201</td>\n",
       "      <td>1437</td>\n",
       "      <td>19</td>\n",
       "    </tr>\n",
       "  </tbody>\n",
       "</table>\n",
       "</div>"
      ],
      "text/plain": [
       "                                                 text     source  token_count  \\\n",
       "0   사이트의 판매량에 기반하여 판매량 추이를 반영한 인터파크 도서에서의 독립적인 판매 ...  oscar2201         3348   \n",
       "1   “아~아~잊으랴 어찌 우리 이날을 조국의 원수들이 짓밟아 오던 날을~”6·25의 노...  oscar2201         1427   \n",
       "2   일러전쟁의 승패를 가른 쓰시마 해전은 세계 최강으로 평가 받는 발틱함대를 괴멸시켰다...  oscar2201         2458   \n",
       "3   재테크 채널 유튜버이자, 「빚부터 갚아라」, 「원트재무설계 소원을 말해봐」 저자인 ...  oscar2201         2838   \n",
       "4   상급자의 범죄와 비리, 부패를 하급자에게 돌리는 것으로 따지면 타의추종을 불허하는 ...  oscar2201         1628   \n",
       "5   최근 언론보도에 의하면 이재현 CJ그룹 회장이 지난해 말 두 자녀에게 증여하였던 주...  oscar2201         1366   \n",
       "6   나는 노무현의 시대를 살지 않았다. 그러니까, 나는 이 땅의 생명체로 살아있긴 했지...  oscar2201         2017   \n",
       "7   CBRE가 21일 발표한 ‘2021년 2분기 국내 상업용 부동산 시장 보고서’에 따...  oscar2201         1421   \n",
       "8   안녕하세요. 한화솔루션입니다. 지난주, 슬기로운 솔루션 직장생활 2탄에 이어 이번엔...  oscar2201         2143   \n",
       "9   캐나다는 3 년 연속 지구상에서 가장 주목할만한 국가로 선포되었습니다. 일반 타이틀...  oscar2201         1104   \n",
       "10  민선6기 광주시장에 시민활동가 출신이 당선된 이후 시민과 소통하고 시민의 의견을 존...  oscar2201         3104   \n",
       "11  얼마 전 소개해 드린 레고 부스트 17101 기억하시나요? 레고를 통해 만드는 재미...  oscar2201         1627   \n",
       "12  대한민국 근대 도시사는 신도시 역사라 불리울 정도로 우리는 다양한 도시건설 노하우를...  oscar2201         1871   \n",
       "13  피고는 원고 최○○에게 37,474,000원, 원고 박○○에게 33,196,000원...  oscar2201         6648   \n",
       "14  디지털 기술로 산업과 사회 혁신을 추구하는 4차 산업혁명 시대가 도래했다. 디자인 ...  oscar2201         1369   \n",
       "15  법무법인 엘케이비앤파트너스(엘케이비)는 코로나19 시대 의뢰인과 함께하는 전문 법률...  oscar2201         3361   \n",
       "16  익숙하지 않은 것이 주는 낯설고 설레는 경험, 그것을 통해 얻는 영감은 여행을 하는...  oscar2201         1374   \n",
       "17  어제 오후 비가 오심을 의식해 자연의 맑은 비를 흠씬 맞춰 줄 요량으로 서재로부터 ...  oscar2201         1735   \n",
       "18  한국한의학연구원의 유튜브 채널에 최근 사상체질에 대한 김종열 한국한의학연구원장의 강...  oscar2201         1430   \n",
       "19  낙동강에 세워진 8개의 댐(보) 중 5개의 보에서 물이 샙니다. 상주댐에서 물이 새...  oscar2201         1437   \n",
       "\n",
       "    __index_level_0__  \n",
       "0                   0  \n",
       "1                   1  \n",
       "2                   2  \n",
       "3                   3  \n",
       "4                   4  \n",
       "5                   5  \n",
       "6                   6  \n",
       "7                   7  \n",
       "8                   8  \n",
       "9                   9  \n",
       "10                 10  \n",
       "11                 11  \n",
       "12                 12  \n",
       "13                 13  \n",
       "14                 14  \n",
       "15                 15  \n",
       "16                 16  \n",
       "17                 17  \n",
       "18                 18  \n",
       "19                 19  "
      ]
     },
     "execution_count": 32,
     "metadata": {},
     "output_type": "execute_result"
    }
   ],
   "source": [
    "ds.to_pandas()"
   ]
  },
  {
   "cell_type": "code",
   "execution_count": 33,
   "metadata": {
    "colab": {
     "base_uri": "https://localhost:8080/"
    },
    "executionInfo": {
     "elapsed": 8716,
     "status": "ok",
     "timestamp": 1722519620443,
     "user": {
      "displayName": "한두솔",
      "userId": "14744311692633150263"
     },
     "user_tz": -540
    },
    "id": "j97bQL1LHNor",
    "outputId": "5620c832-085f-4711-b11b-05520f6737fb"
   },
   "outputs": [
    {
     "name": "stdout",
     "output_type": "stream",
     "text": [
      "캐나다가 3년 연속 지구상에서 가장 주목할 만한 국가로 선포된 이유는 우수한 교육 프로그램, 경이로운 자연, 다문화 사회, 그리고 저렴한 생활비를 제공하기 때문입니다. 이러한 요소들은 국제 학생들에게 매력적인 유학 목적지로 자리 잡게 하였으며, 캐나다의 교육 시스템은 안전하고 개방적이며 관용적인 환경을 갖추고 있습니다.\n"
     ]
    }
   ],
   "source": [
    "# 요약 질문해보기\n",
    "response = query_engine.query(\n",
    "    \"캐나다가 3년 연속 지구상에서 가장 주목할만한 국가로 선포된 이유에 대해서 요약해봐\"\n",
    ")\n",
    "print(str(response))"
   ]
  },
  {
   "cell_type": "code",
   "execution_count": 34,
   "metadata": {
    "colab": {
     "base_uri": "https://localhost:8080/"
    },
    "executionInfo": {
     "elapsed": 10,
     "status": "ok",
     "timestamp": 1722519621721,
     "user": {
      "displayName": "한두솔",
      "userId": "14744311692633150263"
     },
     "user_tz": -540
    },
    "id": "8Qj92z-fHrPk",
    "outputId": "36c2573f-7484-4340-9b06-a81bd5f6a72d"
   },
   "outputs": [
    {
     "name": "stdout",
     "output_type": "stream",
     "text": [
      "selections=[SingleSelection(index=0, reason='The question asks for a summary of why Canada has been declared the most remarkable country for three consecutive years.')]\n"
     ]
    }
   ],
   "source": [
    "print(str(response.metadata[\"selector_result\"]))"
   ]
  },
  {
   "cell_type": "code",
   "execution_count": 35,
   "metadata": {
    "colab": {
     "base_uri": "https://localhost:8080/"
    },
    "executionInfo": {
     "elapsed": 3608,
     "status": "ok",
     "timestamp": 1722519844826,
     "user": {
      "displayName": "한두솔",
      "userId": "14744311692633150263"
     },
     "user_tz": -540
    },
    "id": "NMf3PTUGHvRV",
    "outputId": "704e0f33-6682-46ab-bf2f-8ddbc8eb041c"
   },
   "outputs": [
    {
     "name": "stdout",
     "output_type": "stream",
     "text": [
      "일러전쟁입니다.\n"
     ]
    }
   ],
   "source": [
    "# 질문해보기\n",
    "response = query_engine.query(\n",
    "    \"발틱함대가 격파된 전쟁 이름이 뭐지?\"\n",
    ")\n",
    "print(str(response))"
   ]
  },
  {
   "cell_type": "code",
   "execution_count": 36,
   "metadata": {
    "colab": {
     "base_uri": "https://localhost:8080/"
    },
    "executionInfo": {
     "elapsed": 327,
     "status": "ok",
     "timestamp": 1722519846708,
     "user": {
      "displayName": "한두솔",
      "userId": "14744311692633150263"
     },
     "user_tz": -540
    },
    "id": "Q6BlYC-BH4iS",
    "outputId": "abbaf1a2-5d13-4a5c-ff89-1f0565b6b105"
   },
   "outputs": [
    {
     "name": "stdout",
     "output_type": "stream",
     "text": [
      "selections=[SingleSelection(index=1, reason='The question asks for a specific historical event, which requires retrieving specific context.'), SingleSelection(index=2, reason='The question can be answered by retrieving specific context using keywords related to the Baltic Fleet and the war.')]\n"
     ]
    }
   ],
   "source": [
    "print(str(response.metadata[\"selector_result\"]))"
   ]
  },
  {
   "cell_type": "code",
   "execution_count": 37,
   "metadata": {
    "colab": {
     "base_uri": "https://localhost:8080/"
    },
    "executionInfo": {
     "elapsed": 5630,
     "status": "ok",
     "timestamp": 1722519714952,
     "user": {
      "displayName": "한두솔",
      "userId": "14744311692633150263"
     },
     "user_tz": -540
    },
    "id": "66z9HB5nH8IW",
    "outputId": "d18d8353-4bdd-4703-f567-5566b1088ebf"
   },
   "outputs": [
    {
     "name": "stdout",
     "output_type": "stream",
     "text": [
      "낙동강에 세워진 댐은 8개입니다.\n"
     ]
    }
   ],
   "source": [
    "# 질문해보기\n",
    "response = query_engine.query(\n",
    "    \"낙동강 댐 개수\"\n",
    ")\n",
    "print(str(response))"
   ]
  },
  {
   "cell_type": "code",
   "execution_count": 38,
   "metadata": {
    "colab": {
     "base_uri": "https://localhost:8080/"
    },
    "executionInfo": {
     "elapsed": 369,
     "status": "ok",
     "timestamp": 1722519717302,
     "user": {
      "displayName": "한두솔",
      "userId": "14744311692633150263"
     },
     "user_tz": -540
    },
    "id": "yf3oHG_pIFM8",
    "outputId": "103d3127-c7e5-41f8-d27e-3fc4b2b8d0ab"
   },
   "outputs": [
    {
     "name": "stdout",
     "output_type": "stream",
     "text": [
      "selections=[SingleSelection(index=1, reason='The question asks for specific information about the number of 낙동강 dams, which requires retrieving specific context.'), SingleSelection(index=2, reason='The question can also be addressed by retrieving specific context using keywords related to 낙동강 dams.')]\n"
     ]
    }
   ],
   "source": [
    "print(str(response.metadata[\"selector_result\"]))"
   ]
  },
  {
   "cell_type": "code",
   "execution_count": 39,
   "metadata": {
    "colab": {
     "base_uri": "https://localhost:8080/"
    },
    "executionInfo": {
     "elapsed": 344,
     "status": "ok",
     "timestamp": 1722520285840,
     "user": {
      "displayName": "한두솔",
      "userId": "14744311692633150263"
     },
     "user_tz": -540
    },
    "id": "pACVs4ceIGau",
    "outputId": "1b5272c2-f978-408f-958d-b02288010f52"
   },
   "outputs": [
    {
     "data": {
      "text/plain": [
       "Response(response='낙동강에 세워진 댐은 8개입니다.', source_nodes=[NodeWithScore(node=TextNode(id_='1c88eddd-b53b-4c62-a363-9b929a07491d', embedding=None, metadata={}, excluded_embed_metadata_keys=[], excluded_llm_metadata_keys=[], relationships={<NodeRelationship.SOURCE: '1'>: RelatedNodeInfo(node_id='8ab634b1-fa01-47f8-9dab-2f7727d4e921', node_type='4', metadata={}, hash='80833157745dc9b73a84e6fab31f05117a01a09ea5918cc87cceaa8aec33e3d4'), <NodeRelationship.NEXT: '3'>: RelatedNodeInfo(node_id='36a31e48-c63a-48d3-9829-f539e605be3f', node_type='1', metadata={}, hash='779114c74adfef0b4672a2fcac8f70e04b06033b90b718932b014c31a10e4ca0')}, metadata_template='{key}: {value}', metadata_separator='\\n', text='낙동강에 세워진 8개의 댐(보) 중 5개의 보에서 물이 샙니다. 상주댐에서 물이 새는 것을 확인한 뒤 다른 댐들도 확인해보니 아니나 다를까 물이 새고 있었던 것입니다! 어처구니가 없어도 이럴수가 있습니까! 나라를 잘 다스려 달라고 모은 세금을, 70%의 반대에도 불구하고 서둘러 추진하더니, 완공을 바로 앞둔 시점에 70%가 부실이라니요! 물이 새는 댐은 상주댐, 구미댐, 강정고령댐(전 강정댐), 합천창녕댐(전 합천댐), 창녕함안댐(전 함안댐) 등 입니다. 그 뿐 아니라 구미댐은 용꼬리 구조물(날개벽)이 내려앉았고, 칠곡댐도 댐 앞의 구조물들이 쓸려나갔다고 합니다. 아직까지 문제가 알려지지 않은 낙단댐과 달성댐도 의심이 갈 수밖에 없습니다. 만약 그곳에서도 부실이 확인된다면 수조원을 들여 만든 댐들이 하나도 빠짐없이 부실이 되는 것입니다! 처음 이를 발견한 것은 지난 10월 상주댐에서 입니다. 사실 그 때 발견했다기보다 그 때 현장에서 찍은 사진을 보니 물이 새고 있었던 것입니다. 시공사에서는 그 때부터 미리 알고있었던 것을 한달이나 지난 뒤 한국일보 취재에 의해 밝혀지게 됐습니다. 다른 댐들도 이미 물이 새고 있었지만 어느 한 곳도 국민들에게 알리지 않고 ‘땜빵’으로 덮는데 급급했습니다. | 시간이 지나면 지날 수록 더 많은 곳에서 물이 새 나오고 있습니다. 단순히 ‘그럴 수 있다’고 넘겨서는 안될 심각한 문제로 보입니다. | 댐 우안 둔치보호공입니다. 1/3 부분까지 물에 젖은 것처럼 보이는데요. 안쪽에서 지하수가 스며들고 있는 것입니다. 과도한 준설로 인해 강수위가 지하수위보다 낮아져 생긴 현상입니다. | 물이 새는 틈 사이로 발포우레탄을 열심히 주입하고 있습니다. 이는 ‘땜빵’ 수준으로 물은 계속 계속 흘러나옵니다. | 구미댐 좌안 부분입니다. 고정댐 부분 하단부위에서 상주댐과 같은 식으로 물이 새어나오고 있습니다. 댐 안은 물이 비워져 있는 상태로 담수를 한다면 상부까지 물이 샐 가능성이 있습니다. 자세히 보면 물이 흘렀던 흔적이 있습니다.', mimetype='text/plain', start_char_idx=0, end_char_idx=993, metadata_seperator='\\n', text_template='{metadata_str}\\n\\n{content}'), score=0.5793997), NodeWithScore(node=TextNode(id_='c5184c75-a507-45e3-aacd-bbd82d33883c', embedding=None, metadata={}, excluded_embed_metadata_keys=[], excluded_llm_metadata_keys=[], relationships={<NodeRelationship.SOURCE: '1'>: RelatedNodeInfo(node_id='8ab634b1-fa01-47f8-9dab-2f7727d4e921', node_type='4', metadata={}, hash='80833157745dc9b73a84e6fab31f05117a01a09ea5918cc87cceaa8aec33e3d4'), <NodeRelationship.PREVIOUS: '2'>: RelatedNodeInfo(node_id='36a31e48-c63a-48d3-9829-f539e605be3f', node_type='1', metadata={}, hash='779114c74adfef0b4672a2fcac8f70e04b06033b90b718932b014c31a10e4ca0')}, metadata_template='{key}: {value}', metadata_separator='\\n', text='이는 국민들을 우롱한 처사라고 밖에 보여지지 않습니다. 많은 국민들은 ‘이젠 끝났구나’ 싶었을 것입니다. 심지어 이명박 대통령은 이토록 허술하게 진행한 사업을 두고 ‘옳은 일은 반대가 있어도 해야’ 한다거나 ‘4대강으로 폭우 피해 없어, 국민 깨닫기 시작’했다라는 등 무책임한 말까지 쏟아내고 있습니다. 자신의 무책임한 사업 추진 때문에 국민들은 이제 목숨을 내놓아야 하는 불안한 처지에 놓이게 되었고, 세계적으로 명성을 날리는 국내 유수의 건설사들은 본의 아니게 부실시공의 불명예를 떠안게 되었습니다. 그것도 21세기에 말입니다. 토목공학 전문가들은 정부에서 주장하는 ‘물 비침 현상’이라는 말은 그들이 만들어낸 신조어에 불과하며 ‘누수’가 정확한 표현이라고 말합니다. 그리고 철근 콘크리트 보강 등 근본적인 원인 해결은 이제 불가능하므로 틈이 더 벌어질 것은 자명하다고 합니다. 한국시설안전공단에서 진행한 안전진단은 비파괴검사로써 내부의 구조적인 취약성까지는 파악할 수 없다고 말합니다. 좀 더 정확한 판단을 위해서는 ‘3차원 구조 해석’을 통한 정밀안전진단을 실시해야만 누수의 원인과 댐의 안전성을 알 수 있다고 합니다. 며칠 전 상주댐에서 물이 샌다는 기사를 쓸 때만해도 ‘다른 댐들도 충분히 그럴 수 있다’고 예측했습니다. 똑같은 겨울철에 분할식 타설공법을 썼기 때문입니다. 아니나 다를까 거의 모든 댐에서 같은 현상이 일어나고 있고, 붕괴 위험도 함께 가지고 있는 것입니다. 이는 어느 한 댐이 무너졌을 경우 연쇄적으로 더욱 더 쉽게 무너질 수 있다는 것을 뜻하며 긴급한 상황이 아닐 수 없습니다.', mimetype='text/plain', start_char_idx=1535, end_char_idx=2323, metadata_seperator='\\n', text_template='{metadata_str}\\n\\n{content}'), score=0.36942142), NodeWithScore(node=TextNode(id_='1c88eddd-b53b-4c62-a363-9b929a07491d', embedding=None, metadata={}, excluded_embed_metadata_keys=[], excluded_llm_metadata_keys=[], relationships={<NodeRelationship.SOURCE: '1'>: RelatedNodeInfo(node_id='8ab634b1-fa01-47f8-9dab-2f7727d4e921', node_type='4', metadata={}, hash='80833157745dc9b73a84e6fab31f05117a01a09ea5918cc87cceaa8aec33e3d4'), <NodeRelationship.NEXT: '3'>: RelatedNodeInfo(node_id='36a31e48-c63a-48d3-9829-f539e605be3f', node_type='1', metadata={}, hash='779114c74adfef0b4672a2fcac8f70e04b06033b90b718932b014c31a10e4ca0')}, metadata_template='{key}: {value}', metadata_separator='\\n', text='낙동강에 세워진 8개의 댐(보) 중 5개의 보에서 물이 샙니다. 상주댐에서 물이 새는 것을 확인한 뒤 다른 댐들도 확인해보니 아니나 다를까 물이 새고 있었던 것입니다! 어처구니가 없어도 이럴수가 있습니까! 나라를 잘 다스려 달라고 모은 세금을, 70%의 반대에도 불구하고 서둘러 추진하더니, 완공을 바로 앞둔 시점에 70%가 부실이라니요! 물이 새는 댐은 상주댐, 구미댐, 강정고령댐(전 강정댐), 합천창녕댐(전 합천댐), 창녕함안댐(전 함안댐) 등 입니다. 그 뿐 아니라 구미댐은 용꼬리 구조물(날개벽)이 내려앉았고, 칠곡댐도 댐 앞의 구조물들이 쓸려나갔다고 합니다. 아직까지 문제가 알려지지 않은 낙단댐과 달성댐도 의심이 갈 수밖에 없습니다. 만약 그곳에서도 부실이 확인된다면 수조원을 들여 만든 댐들이 하나도 빠짐없이 부실이 되는 것입니다! 처음 이를 발견한 것은 지난 10월 상주댐에서 입니다. 사실 그 때 발견했다기보다 그 때 현장에서 찍은 사진을 보니 물이 새고 있었던 것입니다. 시공사에서는 그 때부터 미리 알고있었던 것을 한달이나 지난 뒤 한국일보 취재에 의해 밝혀지게 됐습니다. 다른 댐들도 이미 물이 새고 있었지만 어느 한 곳도 국민들에게 알리지 않고 ‘땜빵’으로 덮는데 급급했습니다. | 시간이 지나면 지날 수록 더 많은 곳에서 물이 새 나오고 있습니다. 단순히 ‘그럴 수 있다’고 넘겨서는 안될 심각한 문제로 보입니다. | 댐 우안 둔치보호공입니다. 1/3 부분까지 물에 젖은 것처럼 보이는데요. 안쪽에서 지하수가 스며들고 있는 것입니다. 과도한 준설로 인해 강수위가 지하수위보다 낮아져 생긴 현상입니다. | 물이 새는 틈 사이로 발포우레탄을 열심히 주입하고 있습니다. 이는 ‘땜빵’ 수준으로 물은 계속 계속 흘러나옵니다. | 구미댐 좌안 부분입니다. 고정댐 부분 하단부위에서 상주댐과 같은 식으로 물이 새어나오고 있습니다. 댐 안은 물이 비워져 있는 상태로 담수를 한다면 상부까지 물이 샐 가능성이 있습니다. 자세히 보면 물이 흘렀던 흔적이 있습니다.', mimetype='text/plain', start_char_idx=0, end_char_idx=993, metadata_seperator='\\n', text_template='{metadata_str}\\n\\n{content}'), score=None)], metadata={'selector_result': MultiSelection(selections=[SingleSelection(index=1, reason='The question asks for specific information about the number of 낙동강 dams, which requires retrieving specific context.'), SingleSelection(index=2, reason='The question can also be addressed by retrieving specific context using keywords related to 낙동강 dams.')])})"
      ]
     },
     "execution_count": 39,
     "metadata": {},
     "output_type": "execute_result"
    }
   ],
   "source": [
    "response"
   ]
  },
  {
   "cell_type": "code",
   "execution_count": null,
   "metadata": {
    "id": "D0dK-DBVNQif"
   },
   "outputs": [],
   "source": []
  }
 ],
 "metadata": {
  "colab": {
   "provenance": []
  },
  "kernelspec": {
   "display_name": ".venv",
   "language": "python",
   "name": "python3"
  },
  "language_info": {
   "codemirror_mode": {
    "name": "ipython",
    "version": 3
   },
   "file_extension": ".py",
   "mimetype": "text/x-python",
   "name": "python",
   "nbconvert_exporter": "python",
   "pygments_lexer": "ipython3",
   "version": "3.11.6"
  },
  "widgets": {
   "application/vnd.jupyter.widget-state+json": {
    "0120c38f39244fe7904fa1e8c6b02ad7": {
     "model_module": "@jupyter-widgets/base",
     "model_module_version": "1.2.0",
     "model_name": "LayoutModel",
     "state": {
      "_model_module": "@jupyter-widgets/base",
      "_model_module_version": "1.2.0",
      "_model_name": "LayoutModel",
      "_view_count": null,
      "_view_module": "@jupyter-widgets/base",
      "_view_module_version": "1.2.0",
      "_view_name": "LayoutView",
      "align_content": null,
      "align_items": null,
      "align_self": null,
      "border": null,
      "bottom": null,
      "display": null,
      "flex": null,
      "flex_flow": null,
      "grid_area": null,
      "grid_auto_columns": null,
      "grid_auto_flow": null,
      "grid_auto_rows": null,
      "grid_column": null,
      "grid_gap": null,
      "grid_row": null,
      "grid_template_areas": null,
      "grid_template_columns": null,
      "grid_template_rows": null,
      "height": null,
      "justify_content": null,
      "justify_items": null,
      "left": null,
      "margin": null,
      "max_height": null,
      "max_width": null,
      "min_height": null,
      "min_width": null,
      "object_fit": null,
      "object_position": null,
      "order": null,
      "overflow": null,
      "overflow_x": null,
      "overflow_y": null,
      "padding": null,
      "right": null,
      "top": null,
      "visibility": null,
      "width": null
     }
    },
    "0246565166104c02b7a44e06b41e1c8c": {
     "model_module": "@jupyter-widgets/controls",
     "model_module_version": "1.5.0",
     "model_name": "DescriptionStyleModel",
     "state": {
      "_model_module": "@jupyter-widgets/controls",
      "_model_module_version": "1.5.0",
      "_model_name": "DescriptionStyleModel",
      "_view_count": null,
      "_view_module": "@jupyter-widgets/base",
      "_view_module_version": "1.2.0",
      "_view_name": "StyleView",
      "description_width": ""
     }
    },
    "05ac80d0ada9475ea0207553234be279": {
     "model_module": "@jupyter-widgets/base",
     "model_module_version": "1.2.0",
     "model_name": "LayoutModel",
     "state": {
      "_model_module": "@jupyter-widgets/base",
      "_model_module_version": "1.2.0",
      "_model_name": "LayoutModel",
      "_view_count": null,
      "_view_module": "@jupyter-widgets/base",
      "_view_module_version": "1.2.0",
      "_view_name": "LayoutView",
      "align_content": null,
      "align_items": null,
      "align_self": null,
      "border": null,
      "bottom": null,
      "display": null,
      "flex": null,
      "flex_flow": null,
      "grid_area": null,
      "grid_auto_columns": null,
      "grid_auto_flow": null,
      "grid_auto_rows": null,
      "grid_column": null,
      "grid_gap": null,
      "grid_row": null,
      "grid_template_areas": null,
      "grid_template_columns": null,
      "grid_template_rows": null,
      "height": null,
      "justify_content": null,
      "justify_items": null,
      "left": null,
      "margin": null,
      "max_height": null,
      "max_width": null,
      "min_height": null,
      "min_width": null,
      "object_fit": null,
      "object_position": null,
      "order": null,
      "overflow": null,
      "overflow_x": null,
      "overflow_y": null,
      "padding": null,
      "right": null,
      "top": null,
      "visibility": null,
      "width": null
     }
    },
    "0d59b13d80c74d3ab1d98fedc0b0cc11": {
     "model_module": "@jupyter-widgets/controls",
     "model_module_version": "1.5.0",
     "model_name": "HBoxModel",
     "state": {
      "_dom_classes": [],
      "_model_module": "@jupyter-widgets/controls",
      "_model_module_version": "1.5.0",
      "_model_name": "HBoxModel",
      "_view_count": null,
      "_view_module": "@jupyter-widgets/controls",
      "_view_module_version": "1.5.0",
      "_view_name": "HBoxView",
      "box_style": "",
      "children": [
       "IPY_MODEL_8d58440837784826aabfdaa7aada674b",
       "IPY_MODEL_a3ce6cc5a564456c8fa773249918c08b",
       "IPY_MODEL_d3428f055c3c416389995db1ef0b8021"
      ],
      "layout": "IPY_MODEL_9a6ea4cbdcd74703a36239ec61190615"
     }
    },
    "0d9a81300db0460599e9a04a71ebc85c": {
     "model_module": "@jupyter-widgets/base",
     "model_module_version": "1.2.0",
     "model_name": "LayoutModel",
     "state": {
      "_model_module": "@jupyter-widgets/base",
      "_model_module_version": "1.2.0",
      "_model_name": "LayoutModel",
      "_view_count": null,
      "_view_module": "@jupyter-widgets/base",
      "_view_module_version": "1.2.0",
      "_view_name": "LayoutView",
      "align_content": null,
      "align_items": null,
      "align_self": null,
      "border": null,
      "bottom": null,
      "display": null,
      "flex": null,
      "flex_flow": null,
      "grid_area": null,
      "grid_auto_columns": null,
      "grid_auto_flow": null,
      "grid_auto_rows": null,
      "grid_column": null,
      "grid_gap": null,
      "grid_row": null,
      "grid_template_areas": null,
      "grid_template_columns": null,
      "grid_template_rows": null,
      "height": null,
      "justify_content": null,
      "justify_items": null,
      "left": null,
      "margin": null,
      "max_height": null,
      "max_width": null,
      "min_height": null,
      "min_width": null,
      "object_fit": null,
      "object_position": null,
      "order": null,
      "overflow": null,
      "overflow_x": null,
      "overflow_y": null,
      "padding": null,
      "right": null,
      "top": null,
      "visibility": null,
      "width": null
     }
    },
    "13918ddf02bb4b0b943011bc37c86ff4": {
     "model_module": "@jupyter-widgets/controls",
     "model_module_version": "1.5.0",
     "model_name": "ProgressStyleModel",
     "state": {
      "_model_module": "@jupyter-widgets/controls",
      "_model_module_version": "1.5.0",
      "_model_name": "ProgressStyleModel",
      "_view_count": null,
      "_view_module": "@jupyter-widgets/base",
      "_view_module_version": "1.2.0",
      "_view_name": "StyleView",
      "bar_color": null,
      "description_width": ""
     }
    },
    "16917617b9fb4ed2a8b9ffc41bafd80b": {
     "model_module": "@jupyter-widgets/controls",
     "model_module_version": "1.5.0",
     "model_name": "DescriptionStyleModel",
     "state": {
      "_model_module": "@jupyter-widgets/controls",
      "_model_module_version": "1.5.0",
      "_model_name": "DescriptionStyleModel",
      "_view_count": null,
      "_view_module": "@jupyter-widgets/base",
      "_view_module_version": "1.2.0",
      "_view_name": "StyleView",
      "description_width": ""
     }
    },
    "20a6f59e769a4a758550abb361b3a199": {
     "model_module": "@jupyter-widgets/base",
     "model_module_version": "1.2.0",
     "model_name": "LayoutModel",
     "state": {
      "_model_module": "@jupyter-widgets/base",
      "_model_module_version": "1.2.0",
      "_model_name": "LayoutModel",
      "_view_count": null,
      "_view_module": "@jupyter-widgets/base",
      "_view_module_version": "1.2.0",
      "_view_name": "LayoutView",
      "align_content": null,
      "align_items": null,
      "align_self": null,
      "border": null,
      "bottom": null,
      "display": null,
      "flex": null,
      "flex_flow": null,
      "grid_area": null,
      "grid_auto_columns": null,
      "grid_auto_flow": null,
      "grid_auto_rows": null,
      "grid_column": null,
      "grid_gap": null,
      "grid_row": null,
      "grid_template_areas": null,
      "grid_template_columns": null,
      "grid_template_rows": null,
      "height": null,
      "justify_content": null,
      "justify_items": null,
      "left": null,
      "margin": null,
      "max_height": null,
      "max_width": null,
      "min_height": null,
      "min_width": null,
      "object_fit": null,
      "object_position": null,
      "order": null,
      "overflow": null,
      "overflow_x": null,
      "overflow_y": null,
      "padding": null,
      "right": null,
      "top": null,
      "visibility": null,
      "width": null
     }
    },
    "25f7bede968747e9b133104eda8f9c16": {
     "model_module": "@jupyter-widgets/base",
     "model_module_version": "1.2.0",
     "model_name": "LayoutModel",
     "state": {
      "_model_module": "@jupyter-widgets/base",
      "_model_module_version": "1.2.0",
      "_model_name": "LayoutModel",
      "_view_count": null,
      "_view_module": "@jupyter-widgets/base",
      "_view_module_version": "1.2.0",
      "_view_name": "LayoutView",
      "align_content": null,
      "align_items": null,
      "align_self": null,
      "border": null,
      "bottom": null,
      "display": null,
      "flex": null,
      "flex_flow": null,
      "grid_area": null,
      "grid_auto_columns": null,
      "grid_auto_flow": null,
      "grid_auto_rows": null,
      "grid_column": null,
      "grid_gap": null,
      "grid_row": null,
      "grid_template_areas": null,
      "grid_template_columns": null,
      "grid_template_rows": null,
      "height": null,
      "justify_content": null,
      "justify_items": null,
      "left": null,
      "margin": null,
      "max_height": null,
      "max_width": null,
      "min_height": null,
      "min_width": null,
      "object_fit": null,
      "object_position": null,
      "order": null,
      "overflow": null,
      "overflow_x": null,
      "overflow_y": null,
      "padding": null,
      "right": null,
      "top": null,
      "visibility": null,
      "width": null
     }
    },
    "323f222a13d94155b3ac7858e2ee9c02": {
     "model_module": "@jupyter-widgets/controls",
     "model_module_version": "1.5.0",
     "model_name": "DescriptionStyleModel",
     "state": {
      "_model_module": "@jupyter-widgets/controls",
      "_model_module_version": "1.5.0",
      "_model_name": "DescriptionStyleModel",
      "_view_count": null,
      "_view_module": "@jupyter-widgets/base",
      "_view_module_version": "1.2.0",
      "_view_name": "StyleView",
      "description_width": ""
     }
    },
    "397deaf70c1c4773853507004eef8a58": {
     "model_module": "@jupyter-widgets/base",
     "model_module_version": "1.2.0",
     "model_name": "LayoutModel",
     "state": {
      "_model_module": "@jupyter-widgets/base",
      "_model_module_version": "1.2.0",
      "_model_name": "LayoutModel",
      "_view_count": null,
      "_view_module": "@jupyter-widgets/base",
      "_view_module_version": "1.2.0",
      "_view_name": "LayoutView",
      "align_content": null,
      "align_items": null,
      "align_self": null,
      "border": null,
      "bottom": null,
      "display": null,
      "flex": null,
      "flex_flow": null,
      "grid_area": null,
      "grid_auto_columns": null,
      "grid_auto_flow": null,
      "grid_auto_rows": null,
      "grid_column": null,
      "grid_gap": null,
      "grid_row": null,
      "grid_template_areas": null,
      "grid_template_columns": null,
      "grid_template_rows": null,
      "height": null,
      "justify_content": null,
      "justify_items": null,
      "left": null,
      "margin": null,
      "max_height": null,
      "max_width": null,
      "min_height": null,
      "min_width": null,
      "object_fit": null,
      "object_position": null,
      "order": null,
      "overflow": null,
      "overflow_x": null,
      "overflow_y": null,
      "padding": null,
      "right": null,
      "top": null,
      "visibility": null,
      "width": null
     }
    },
    "39e5ce57aefa4d6f98017b62dcfc7ec4": {
     "model_module": "@jupyter-widgets/base",
     "model_module_version": "1.2.0",
     "model_name": "LayoutModel",
     "state": {
      "_model_module": "@jupyter-widgets/base",
      "_model_module_version": "1.2.0",
      "_model_name": "LayoutModel",
      "_view_count": null,
      "_view_module": "@jupyter-widgets/base",
      "_view_module_version": "1.2.0",
      "_view_name": "LayoutView",
      "align_content": null,
      "align_items": null,
      "align_self": null,
      "border": null,
      "bottom": null,
      "display": null,
      "flex": null,
      "flex_flow": null,
      "grid_area": null,
      "grid_auto_columns": null,
      "grid_auto_flow": null,
      "grid_auto_rows": null,
      "grid_column": null,
      "grid_gap": null,
      "grid_row": null,
      "grid_template_areas": null,
      "grid_template_columns": null,
      "grid_template_rows": null,
      "height": null,
      "justify_content": null,
      "justify_items": null,
      "left": null,
      "margin": null,
      "max_height": null,
      "max_width": null,
      "min_height": null,
      "min_width": null,
      "object_fit": null,
      "object_position": null,
      "order": null,
      "overflow": null,
      "overflow_x": null,
      "overflow_y": null,
      "padding": null,
      "right": null,
      "top": null,
      "visibility": null,
      "width": null
     }
    },
    "3a49a4e061a5432ea5f2a71db4529c15": {
     "model_module": "@jupyter-widgets/controls",
     "model_module_version": "1.5.0",
     "model_name": "HTMLModel",
     "state": {
      "_dom_classes": [],
      "_model_module": "@jupyter-widgets/controls",
      "_model_module_version": "1.5.0",
      "_model_name": "HTMLModel",
      "_view_count": null,
      "_view_module": "@jupyter-widgets/controls",
      "_view_module_version": "1.5.0",
      "_view_name": "HTMLView",
      "description": "",
      "description_tooltip": null,
      "layout": "IPY_MODEL_54c983f0454943859ca7457535ecd5cf",
      "placeholder": "​",
      "style": "IPY_MODEL_b71423a24ae34ed2bfca93707dadd0b8",
      "value": " 18/18 [00:00&lt;00:00, 82.26it/s]"
     }
    },
    "47b83e0fb2e647d59cb1c8d1bcb6ea74": {
     "model_module": "@jupyter-widgets/controls",
     "model_module_version": "1.5.0",
     "model_name": "ProgressStyleModel",
     "state": {
      "_model_module": "@jupyter-widgets/controls",
      "_model_module_version": "1.5.0",
      "_model_name": "ProgressStyleModel",
      "_view_count": null,
      "_view_module": "@jupyter-widgets/base",
      "_view_module_version": "1.2.0",
      "_view_name": "StyleView",
      "bar_color": null,
      "description_width": ""
     }
    },
    "4abad483024b4a3abfb11d694c13ada5": {
     "model_module": "@jupyter-widgets/base",
     "model_module_version": "1.2.0",
     "model_name": "LayoutModel",
     "state": {
      "_model_module": "@jupyter-widgets/base",
      "_model_module_version": "1.2.0",
      "_model_name": "LayoutModel",
      "_view_count": null,
      "_view_module": "@jupyter-widgets/base",
      "_view_module_version": "1.2.0",
      "_view_name": "LayoutView",
      "align_content": null,
      "align_items": null,
      "align_self": null,
      "border": null,
      "bottom": null,
      "display": null,
      "flex": null,
      "flex_flow": null,
      "grid_area": null,
      "grid_auto_columns": null,
      "grid_auto_flow": null,
      "grid_auto_rows": null,
      "grid_column": null,
      "grid_gap": null,
      "grid_row": null,
      "grid_template_areas": null,
      "grid_template_columns": null,
      "grid_template_rows": null,
      "height": null,
      "justify_content": null,
      "justify_items": null,
      "left": null,
      "margin": null,
      "max_height": null,
      "max_width": null,
      "min_height": null,
      "min_width": null,
      "object_fit": null,
      "object_position": null,
      "order": null,
      "overflow": null,
      "overflow_x": null,
      "overflow_y": null,
      "padding": null,
      "right": null,
      "top": null,
      "visibility": null,
      "width": null
     }
    },
    "4b5cea7358b743869a79779dfac37d91": {
     "model_module": "@jupyter-widgets/controls",
     "model_module_version": "1.5.0",
     "model_name": "ProgressStyleModel",
     "state": {
      "_model_module": "@jupyter-widgets/controls",
      "_model_module_version": "1.5.0",
      "_model_name": "ProgressStyleModel",
      "_view_count": null,
      "_view_module": "@jupyter-widgets/base",
      "_view_module_version": "1.2.0",
      "_view_name": "StyleView",
      "bar_color": null,
      "description_width": ""
     }
    },
    "524f2cf3a65c4e459aa894edee3faa47": {
     "model_module": "@jupyter-widgets/controls",
     "model_module_version": "1.5.0",
     "model_name": "HTMLModel",
     "state": {
      "_dom_classes": [],
      "_model_module": "@jupyter-widgets/controls",
      "_model_module_version": "1.5.0",
      "_model_name": "HTMLModel",
      "_view_count": null,
      "_view_module": "@jupyter-widgets/controls",
      "_view_module_version": "1.5.0",
      "_view_name": "HTMLView",
      "description": "",
      "description_tooltip": null,
      "layout": "IPY_MODEL_91a6574eecec449494b353e8c01e8885",
      "placeholder": "​",
      "style": "IPY_MODEL_9586f2eb01684516b0b63c4067600e55",
      "value": "Downloading data: 100%"
     }
    },
    "54c983f0454943859ca7457535ecd5cf": {
     "model_module": "@jupyter-widgets/base",
     "model_module_version": "1.2.0",
     "model_name": "LayoutModel",
     "state": {
      "_model_module": "@jupyter-widgets/base",
      "_model_module_version": "1.2.0",
      "_model_name": "LayoutModel",
      "_view_count": null,
      "_view_module": "@jupyter-widgets/base",
      "_view_module_version": "1.2.0",
      "_view_name": "LayoutView",
      "align_content": null,
      "align_items": null,
      "align_self": null,
      "border": null,
      "bottom": null,
      "display": null,
      "flex": null,
      "flex_flow": null,
      "grid_area": null,
      "grid_auto_columns": null,
      "grid_auto_flow": null,
      "grid_auto_rows": null,
      "grid_column": null,
      "grid_gap": null,
      "grid_row": null,
      "grid_template_areas": null,
      "grid_template_columns": null,
      "grid_template_rows": null,
      "height": null,
      "justify_content": null,
      "justify_items": null,
      "left": null,
      "margin": null,
      "max_height": null,
      "max_width": null,
      "min_height": null,
      "min_width": null,
      "object_fit": null,
      "object_position": null,
      "order": null,
      "overflow": null,
      "overflow_x": null,
      "overflow_y": null,
      "padding": null,
      "right": null,
      "top": null,
      "visibility": null,
      "width": null
     }
    },
    "5a9807117aed40f69e57bd3084f5fdba": {
     "model_module": "@jupyter-widgets/controls",
     "model_module_version": "1.5.0",
     "model_name": "HTMLModel",
     "state": {
      "_dom_classes": [],
      "_model_module": "@jupyter-widgets/controls",
      "_model_module_version": "1.5.0",
      "_model_name": "HTMLModel",
      "_view_count": null,
      "_view_module": "@jupyter-widgets/controls",
      "_view_module_version": "1.5.0",
      "_view_name": "HTMLView",
      "description": "",
      "description_tooltip": null,
      "layout": "IPY_MODEL_78ea73f373844a1e9620e76e7bf31222",
      "placeholder": "​",
      "style": "IPY_MODEL_0246565166104c02b7a44e06b41e1c8c",
      "value": " 18/18 [00:51&lt;00:00,  2.21s/files]"
     }
    },
    "5ce6fcdacc7d4968807a519fdb80d1bf": {
     "model_module": "@jupyter-widgets/base",
     "model_module_version": "1.2.0",
     "model_name": "LayoutModel",
     "state": {
      "_model_module": "@jupyter-widgets/base",
      "_model_module_version": "1.2.0",
      "_model_name": "LayoutModel",
      "_view_count": null,
      "_view_module": "@jupyter-widgets/base",
      "_view_module_version": "1.2.0",
      "_view_name": "LayoutView",
      "align_content": null,
      "align_items": null,
      "align_self": null,
      "border": null,
      "bottom": null,
      "display": null,
      "flex": null,
      "flex_flow": null,
      "grid_area": null,
      "grid_auto_columns": null,
      "grid_auto_flow": null,
      "grid_auto_rows": null,
      "grid_column": null,
      "grid_gap": null,
      "grid_row": null,
      "grid_template_areas": null,
      "grid_template_columns": null,
      "grid_template_rows": null,
      "height": null,
      "justify_content": null,
      "justify_items": null,
      "left": null,
      "margin": null,
      "max_height": null,
      "max_width": null,
      "min_height": null,
      "min_width": null,
      "object_fit": null,
      "object_position": null,
      "order": null,
      "overflow": null,
      "overflow_x": null,
      "overflow_y": null,
      "padding": null,
      "right": null,
      "top": null,
      "visibility": null,
      "width": null
     }
    },
    "5e77789561174a7492540e8e0dae90f9": {
     "model_module": "@jupyter-widgets/controls",
     "model_module_version": "1.5.0",
     "model_name": "HTMLModel",
     "state": {
      "_dom_classes": [],
      "_model_module": "@jupyter-widgets/controls",
      "_model_module_version": "1.5.0",
      "_model_name": "HTMLModel",
      "_view_count": null,
      "_view_module": "@jupyter-widgets/controls",
      "_view_module_version": "1.5.0",
      "_view_name": "HTMLView",
      "description": "",
      "description_tooltip": null,
      "layout": "IPY_MODEL_e6c51d99e4a44165994a5f8b898e5897",
      "placeholder": "​",
      "style": "IPY_MODEL_16917617b9fb4ed2a8b9ffc41bafd80b",
      "value": "Resolving data files: 100%"
     }
    },
    "6107b3234c58414f88b275ce0574e7b1": {
     "model_module": "@jupyter-widgets/controls",
     "model_module_version": "1.5.0",
     "model_name": "HBoxModel",
     "state": {
      "_dom_classes": [],
      "_model_module": "@jupyter-widgets/controls",
      "_model_module_version": "1.5.0",
      "_model_name": "HBoxModel",
      "_view_count": null,
      "_view_module": "@jupyter-widgets/controls",
      "_view_module_version": "1.5.0",
      "_view_name": "HBoxView",
      "box_style": "",
      "children": [
       "IPY_MODEL_f5b0786bc90d4c94bf7294cc1f2c9aa7",
       "IPY_MODEL_9b939a82e69c4679b5bf02dc6f1bf741",
       "IPY_MODEL_ee1c5f9310eb4d5fbd6e88774877c767"
      ],
      "layout": "IPY_MODEL_c5898092d18140c08d011a207238f48f"
     }
    },
    "69acc55d157248ffaa8c4ac2c47a3ca1": {
     "model_module": "@jupyter-widgets/controls",
     "model_module_version": "1.5.0",
     "model_name": "HBoxModel",
     "state": {
      "_dom_classes": [],
      "_model_module": "@jupyter-widgets/controls",
      "_model_module_version": "1.5.0",
      "_model_name": "HBoxModel",
      "_view_count": null,
      "_view_module": "@jupyter-widgets/controls",
      "_view_module_version": "1.5.0",
      "_view_name": "HBoxView",
      "box_style": "",
      "children": [
       "IPY_MODEL_5e77789561174a7492540e8e0dae90f9",
       "IPY_MODEL_c3daef5804c24fae9825468d046e6b97",
       "IPY_MODEL_c06068bd12bc46178b9fcd60744e5680"
      ],
      "layout": "IPY_MODEL_0120c38f39244fe7904fa1e8c6b02ad7"
     }
    },
    "6a76608c24264732a599afb5478ced6e": {
     "model_module": "@jupyter-widgets/controls",
     "model_module_version": "1.5.0",
     "model_name": "DescriptionStyleModel",
     "state": {
      "_model_module": "@jupyter-widgets/controls",
      "_model_module_version": "1.5.0",
      "_model_name": "DescriptionStyleModel",
      "_view_count": null,
      "_view_module": "@jupyter-widgets/base",
      "_view_module_version": "1.2.0",
      "_view_name": "StyleView",
      "description_width": ""
     }
    },
    "6f73da9e1ca146379ed64c8d11b85f09": {
     "model_module": "@jupyter-widgets/base",
     "model_module_version": "1.2.0",
     "model_name": "LayoutModel",
     "state": {
      "_model_module": "@jupyter-widgets/base",
      "_model_module_version": "1.2.0",
      "_model_name": "LayoutModel",
      "_view_count": null,
      "_view_module": "@jupyter-widgets/base",
      "_view_module_version": "1.2.0",
      "_view_name": "LayoutView",
      "align_content": null,
      "align_items": null,
      "align_self": null,
      "border": null,
      "bottom": null,
      "display": null,
      "flex": null,
      "flex_flow": null,
      "grid_area": null,
      "grid_auto_columns": null,
      "grid_auto_flow": null,
      "grid_auto_rows": null,
      "grid_column": null,
      "grid_gap": null,
      "grid_row": null,
      "grid_template_areas": null,
      "grid_template_columns": null,
      "grid_template_rows": null,
      "height": null,
      "justify_content": null,
      "justify_items": null,
      "left": null,
      "margin": null,
      "max_height": null,
      "max_width": null,
      "min_height": null,
      "min_width": null,
      "object_fit": null,
      "object_position": null,
      "order": null,
      "overflow": null,
      "overflow_x": null,
      "overflow_y": null,
      "padding": null,
      "right": null,
      "top": null,
      "visibility": null,
      "width": null
     }
    },
    "714cdc88c69d42e7bfff77abf17acd52": {
     "model_module": "@jupyter-widgets/controls",
     "model_module_version": "1.5.0",
     "model_name": "HBoxModel",
     "state": {
      "_dom_classes": [],
      "_model_module": "@jupyter-widgets/controls",
      "_model_module_version": "1.5.0",
      "_model_name": "HBoxModel",
      "_view_count": null,
      "_view_module": "@jupyter-widgets/controls",
      "_view_module_version": "1.5.0",
      "_view_name": "HBoxView",
      "box_style": "",
      "children": [
       "IPY_MODEL_94e40c3742644c68869b85f289b9c47c",
       "IPY_MODEL_c8bbf442453146a29ef2a629054f744b",
       "IPY_MODEL_3a49a4e061a5432ea5f2a71db4529c15"
      ],
      "layout": "IPY_MODEL_752a1a7cf5874ddbb287fd9fc500e710"
     }
    },
    "752a1a7cf5874ddbb287fd9fc500e710": {
     "model_module": "@jupyter-widgets/base",
     "model_module_version": "1.2.0",
     "model_name": "LayoutModel",
     "state": {
      "_model_module": "@jupyter-widgets/base",
      "_model_module_version": "1.2.0",
      "_model_name": "LayoutModel",
      "_view_count": null,
      "_view_module": "@jupyter-widgets/base",
      "_view_module_version": "1.2.0",
      "_view_name": "LayoutView",
      "align_content": null,
      "align_items": null,
      "align_self": null,
      "border": null,
      "bottom": null,
      "display": null,
      "flex": null,
      "flex_flow": null,
      "grid_area": null,
      "grid_auto_columns": null,
      "grid_auto_flow": null,
      "grid_auto_rows": null,
      "grid_column": null,
      "grid_gap": null,
      "grid_row": null,
      "grid_template_areas": null,
      "grid_template_columns": null,
      "grid_template_rows": null,
      "height": null,
      "justify_content": null,
      "justify_items": null,
      "left": null,
      "margin": null,
      "max_height": null,
      "max_width": null,
      "min_height": null,
      "min_width": null,
      "object_fit": null,
      "object_position": null,
      "order": null,
      "overflow": null,
      "overflow_x": null,
      "overflow_y": null,
      "padding": null,
      "right": null,
      "top": null,
      "visibility": null,
      "width": null
     }
    },
    "768f0e01c15849fd807d58b6a42c7e55": {
     "model_module": "@jupyter-widgets/base",
     "model_module_version": "1.2.0",
     "model_name": "LayoutModel",
     "state": {
      "_model_module": "@jupyter-widgets/base",
      "_model_module_version": "1.2.0",
      "_model_name": "LayoutModel",
      "_view_count": null,
      "_view_module": "@jupyter-widgets/base",
      "_view_module_version": "1.2.0",
      "_view_name": "LayoutView",
      "align_content": null,
      "align_items": null,
      "align_self": null,
      "border": null,
      "bottom": null,
      "display": null,
      "flex": null,
      "flex_flow": null,
      "grid_area": null,
      "grid_auto_columns": null,
      "grid_auto_flow": null,
      "grid_auto_rows": null,
      "grid_column": null,
      "grid_gap": null,
      "grid_row": null,
      "grid_template_areas": null,
      "grid_template_columns": null,
      "grid_template_rows": null,
      "height": null,
      "justify_content": null,
      "justify_items": null,
      "left": null,
      "margin": null,
      "max_height": null,
      "max_width": null,
      "min_height": null,
      "min_width": null,
      "object_fit": null,
      "object_position": null,
      "order": null,
      "overflow": null,
      "overflow_x": null,
      "overflow_y": null,
      "padding": null,
      "right": null,
      "top": null,
      "visibility": null,
      "width": null
     }
    },
    "78ea73f373844a1e9620e76e7bf31222": {
     "model_module": "@jupyter-widgets/base",
     "model_module_version": "1.2.0",
     "model_name": "LayoutModel",
     "state": {
      "_model_module": "@jupyter-widgets/base",
      "_model_module_version": "1.2.0",
      "_model_name": "LayoutModel",
      "_view_count": null,
      "_view_module": "@jupyter-widgets/base",
      "_view_module_version": "1.2.0",
      "_view_name": "LayoutView",
      "align_content": null,
      "align_items": null,
      "align_self": null,
      "border": null,
      "bottom": null,
      "display": null,
      "flex": null,
      "flex_flow": null,
      "grid_area": null,
      "grid_auto_columns": null,
      "grid_auto_flow": null,
      "grid_auto_rows": null,
      "grid_column": null,
      "grid_gap": null,
      "grid_row": null,
      "grid_template_areas": null,
      "grid_template_columns": null,
      "grid_template_rows": null,
      "height": null,
      "justify_content": null,
      "justify_items": null,
      "left": null,
      "margin": null,
      "max_height": null,
      "max_width": null,
      "min_height": null,
      "min_width": null,
      "object_fit": null,
      "object_position": null,
      "order": null,
      "overflow": null,
      "overflow_x": null,
      "overflow_y": null,
      "padding": null,
      "right": null,
      "top": null,
      "visibility": null,
      "width": null
     }
    },
    "80197025590f4abdb74d037876a07941": {
     "model_module": "@jupyter-widgets/controls",
     "model_module_version": "1.5.0",
     "model_name": "ProgressStyleModel",
     "state": {
      "_model_module": "@jupyter-widgets/controls",
      "_model_module_version": "1.5.0",
      "_model_name": "ProgressStyleModel",
      "_view_count": null,
      "_view_module": "@jupyter-widgets/base",
      "_view_module_version": "1.2.0",
      "_view_name": "StyleView",
      "bar_color": null,
      "description_width": ""
     }
    },
    "8d58440837784826aabfdaa7aada674b": {
     "model_module": "@jupyter-widgets/controls",
     "model_module_version": "1.5.0",
     "model_name": "HTMLModel",
     "state": {
      "_dom_classes": [],
      "_model_module": "@jupyter-widgets/controls",
      "_model_module_version": "1.5.0",
      "_model_name": "HTMLModel",
      "_view_count": null,
      "_view_module": "@jupyter-widgets/controls",
      "_view_module_version": "1.5.0",
      "_view_name": "HTMLView",
      "description": "",
      "description_tooltip": null,
      "layout": "IPY_MODEL_b11ab1218efc4b2bb7da015eeca28480",
      "placeholder": "​",
      "style": "IPY_MODEL_cd1c8f0042414692b03f0ff060c258a1",
      "value": "Downloading readme: 100%"
     }
    },
    "91414592663e4ea29e13dcc2b4b2c38f": {
     "model_module": "@jupyter-widgets/base",
     "model_module_version": "1.2.0",
     "model_name": "LayoutModel",
     "state": {
      "_model_module": "@jupyter-widgets/base",
      "_model_module_version": "1.2.0",
      "_model_name": "LayoutModel",
      "_view_count": null,
      "_view_module": "@jupyter-widgets/base",
      "_view_module_version": "1.2.0",
      "_view_name": "LayoutView",
      "align_content": null,
      "align_items": null,
      "align_self": null,
      "border": null,
      "bottom": null,
      "display": null,
      "flex": null,
      "flex_flow": null,
      "grid_area": null,
      "grid_auto_columns": null,
      "grid_auto_flow": null,
      "grid_auto_rows": null,
      "grid_column": null,
      "grid_gap": null,
      "grid_row": null,
      "grid_template_areas": null,
      "grid_template_columns": null,
      "grid_template_rows": null,
      "height": null,
      "justify_content": null,
      "justify_items": null,
      "left": null,
      "margin": null,
      "max_height": null,
      "max_width": null,
      "min_height": null,
      "min_width": null,
      "object_fit": null,
      "object_position": null,
      "order": null,
      "overflow": null,
      "overflow_x": null,
      "overflow_y": null,
      "padding": null,
      "right": null,
      "top": null,
      "visibility": null,
      "width": null
     }
    },
    "91a6574eecec449494b353e8c01e8885": {
     "model_module": "@jupyter-widgets/base",
     "model_module_version": "1.2.0",
     "model_name": "LayoutModel",
     "state": {
      "_model_module": "@jupyter-widgets/base",
      "_model_module_version": "1.2.0",
      "_model_name": "LayoutModel",
      "_view_count": null,
      "_view_module": "@jupyter-widgets/base",
      "_view_module_version": "1.2.0",
      "_view_name": "LayoutView",
      "align_content": null,
      "align_items": null,
      "align_self": null,
      "border": null,
      "bottom": null,
      "display": null,
      "flex": null,
      "flex_flow": null,
      "grid_area": null,
      "grid_auto_columns": null,
      "grid_auto_flow": null,
      "grid_auto_rows": null,
      "grid_column": null,
      "grid_gap": null,
      "grid_row": null,
      "grid_template_areas": null,
      "grid_template_columns": null,
      "grid_template_rows": null,
      "height": null,
      "justify_content": null,
      "justify_items": null,
      "left": null,
      "margin": null,
      "max_height": null,
      "max_width": null,
      "min_height": null,
      "min_width": null,
      "object_fit": null,
      "object_position": null,
      "order": null,
      "overflow": null,
      "overflow_x": null,
      "overflow_y": null,
      "padding": null,
      "right": null,
      "top": null,
      "visibility": null,
      "width": null
     }
    },
    "94e40c3742644c68869b85f289b9c47c": {
     "model_module": "@jupyter-widgets/controls",
     "model_module_version": "1.5.0",
     "model_name": "HTMLModel",
     "state": {
      "_dom_classes": [],
      "_model_module": "@jupyter-widgets/controls",
      "_model_module_version": "1.5.0",
      "_model_name": "HTMLModel",
      "_view_count": null,
      "_view_module": "@jupyter-widgets/controls",
      "_view_module_version": "1.5.0",
      "_view_name": "HTMLView",
      "description": "",
      "description_tooltip": null,
      "layout": "IPY_MODEL_05ac80d0ada9475ea0207553234be279",
      "placeholder": "​",
      "style": "IPY_MODEL_f057696318ef4c3a98e4206271d418e5",
      "value": "Resolving data files: 100%"
     }
    },
    "9586f2eb01684516b0b63c4067600e55": {
     "model_module": "@jupyter-widgets/controls",
     "model_module_version": "1.5.0",
     "model_name": "DescriptionStyleModel",
     "state": {
      "_model_module": "@jupyter-widgets/controls",
      "_model_module_version": "1.5.0",
      "_model_name": "DescriptionStyleModel",
      "_view_count": null,
      "_view_module": "@jupyter-widgets/base",
      "_view_module_version": "1.2.0",
      "_view_name": "StyleView",
      "description_width": ""
     }
    },
    "9a6ea4cbdcd74703a36239ec61190615": {
     "model_module": "@jupyter-widgets/base",
     "model_module_version": "1.2.0",
     "model_name": "LayoutModel",
     "state": {
      "_model_module": "@jupyter-widgets/base",
      "_model_module_version": "1.2.0",
      "_model_name": "LayoutModel",
      "_view_count": null,
      "_view_module": "@jupyter-widgets/base",
      "_view_module_version": "1.2.0",
      "_view_name": "LayoutView",
      "align_content": null,
      "align_items": null,
      "align_self": null,
      "border": null,
      "bottom": null,
      "display": null,
      "flex": null,
      "flex_flow": null,
      "grid_area": null,
      "grid_auto_columns": null,
      "grid_auto_flow": null,
      "grid_auto_rows": null,
      "grid_column": null,
      "grid_gap": null,
      "grid_row": null,
      "grid_template_areas": null,
      "grid_template_columns": null,
      "grid_template_rows": null,
      "height": null,
      "justify_content": null,
      "justify_items": null,
      "left": null,
      "margin": null,
      "max_height": null,
      "max_width": null,
      "min_height": null,
      "min_width": null,
      "object_fit": null,
      "object_position": null,
      "order": null,
      "overflow": null,
      "overflow_x": null,
      "overflow_y": null,
      "padding": null,
      "right": null,
      "top": null,
      "visibility": null,
      "width": null
     }
    },
    "9b939a82e69c4679b5bf02dc6f1bf741": {
     "model_module": "@jupyter-widgets/controls",
     "model_module_version": "1.5.0",
     "model_name": "FloatProgressModel",
     "state": {
      "_dom_classes": [],
      "_model_module": "@jupyter-widgets/controls",
      "_model_module_version": "1.5.0",
      "_model_name": "FloatProgressModel",
      "_view_count": null,
      "_view_module": "@jupyter-widgets/controls",
      "_view_module_version": "1.5.0",
      "_view_name": "ProgressView",
      "bar_style": "success",
      "description": "",
      "description_tooltip": null,
      "layout": "IPY_MODEL_25f7bede968747e9b133104eda8f9c16",
      "max": 1284879,
      "min": 0,
      "orientation": "horizontal",
      "style": "IPY_MODEL_b1869b5c31ad41b79ca3f8730e04f31c",
      "value": 1284879
     }
    },
    "a3bcfce79d2c4513b6da84a65e4ca621": {
     "model_module": "@jupyter-widgets/controls",
     "model_module_version": "1.5.0",
     "model_name": "HBoxModel",
     "state": {
      "_dom_classes": [],
      "_model_module": "@jupyter-widgets/controls",
      "_model_module_version": "1.5.0",
      "_model_name": "HBoxModel",
      "_view_count": null,
      "_view_module": "@jupyter-widgets/controls",
      "_view_module_version": "1.5.0",
      "_view_name": "HBoxView",
      "box_style": "",
      "children": [
       "IPY_MODEL_524f2cf3a65c4e459aa894edee3faa47",
       "IPY_MODEL_e56bd8656c6b4699a62a67e530e82fd6",
       "IPY_MODEL_5a9807117aed40f69e57bd3084f5fdba"
      ],
      "layout": "IPY_MODEL_5ce6fcdacc7d4968807a519fdb80d1bf"
     }
    },
    "a3ce6cc5a564456c8fa773249918c08b": {
     "model_module": "@jupyter-widgets/controls",
     "model_module_version": "1.5.0",
     "model_name": "FloatProgressModel",
     "state": {
      "_dom_classes": [],
      "_model_module": "@jupyter-widgets/controls",
      "_model_module_version": "1.5.0",
      "_model_name": "FloatProgressModel",
      "_view_count": null,
      "_view_module": "@jupyter-widgets/controls",
      "_view_module_version": "1.5.0",
      "_view_name": "ProgressView",
      "bar_style": "success",
      "description": "",
      "description_tooltip": null,
      "layout": "IPY_MODEL_6f73da9e1ca146379ed64c8d11b85f09",
      "max": 3055,
      "min": 0,
      "orientation": "horizontal",
      "style": "IPY_MODEL_47b83e0fb2e647d59cb1c8d1bcb6ea74",
      "value": 3055
     }
    },
    "b11ab1218efc4b2bb7da015eeca28480": {
     "model_module": "@jupyter-widgets/base",
     "model_module_version": "1.2.0",
     "model_name": "LayoutModel",
     "state": {
      "_model_module": "@jupyter-widgets/base",
      "_model_module_version": "1.2.0",
      "_model_name": "LayoutModel",
      "_view_count": null,
      "_view_module": "@jupyter-widgets/base",
      "_view_module_version": "1.2.0",
      "_view_name": "LayoutView",
      "align_content": null,
      "align_items": null,
      "align_self": null,
      "border": null,
      "bottom": null,
      "display": null,
      "flex": null,
      "flex_flow": null,
      "grid_area": null,
      "grid_auto_columns": null,
      "grid_auto_flow": null,
      "grid_auto_rows": null,
      "grid_column": null,
      "grid_gap": null,
      "grid_row": null,
      "grid_template_areas": null,
      "grid_template_columns": null,
      "grid_template_rows": null,
      "height": null,
      "justify_content": null,
      "justify_items": null,
      "left": null,
      "margin": null,
      "max_height": null,
      "max_width": null,
      "min_height": null,
      "min_width": null,
      "object_fit": null,
      "object_position": null,
      "order": null,
      "overflow": null,
      "overflow_x": null,
      "overflow_y": null,
      "padding": null,
      "right": null,
      "top": null,
      "visibility": null,
      "width": null
     }
    },
    "b1869b5c31ad41b79ca3f8730e04f31c": {
     "model_module": "@jupyter-widgets/controls",
     "model_module_version": "1.5.0",
     "model_name": "ProgressStyleModel",
     "state": {
      "_model_module": "@jupyter-widgets/controls",
      "_model_module_version": "1.5.0",
      "_model_name": "ProgressStyleModel",
      "_view_count": null,
      "_view_module": "@jupyter-widgets/base",
      "_view_module_version": "1.2.0",
      "_view_name": "StyleView",
      "bar_color": null,
      "description_width": ""
     }
    },
    "b4034fc5112d41dc97a11ebf24f9e5ff": {
     "model_module": "@jupyter-widgets/controls",
     "model_module_version": "1.5.0",
     "model_name": "DescriptionStyleModel",
     "state": {
      "_model_module": "@jupyter-widgets/controls",
      "_model_module_version": "1.5.0",
      "_model_name": "DescriptionStyleModel",
      "_view_count": null,
      "_view_module": "@jupyter-widgets/base",
      "_view_module_version": "1.2.0",
      "_view_name": "StyleView",
      "description_width": ""
     }
    },
    "b71423a24ae34ed2bfca93707dadd0b8": {
     "model_module": "@jupyter-widgets/controls",
     "model_module_version": "1.5.0",
     "model_name": "DescriptionStyleModel",
     "state": {
      "_model_module": "@jupyter-widgets/controls",
      "_model_module_version": "1.5.0",
      "_model_name": "DescriptionStyleModel",
      "_view_count": null,
      "_view_module": "@jupyter-widgets/base",
      "_view_module_version": "1.2.0",
      "_view_name": "StyleView",
      "description_width": ""
     }
    },
    "c06068bd12bc46178b9fcd60744e5680": {
     "model_module": "@jupyter-widgets/controls",
     "model_module_version": "1.5.0",
     "model_name": "HTMLModel",
     "state": {
      "_dom_classes": [],
      "_model_module": "@jupyter-widgets/controls",
      "_model_module_version": "1.5.0",
      "_model_name": "HTMLModel",
      "_view_count": null,
      "_view_module": "@jupyter-widgets/controls",
      "_view_module_version": "1.5.0",
      "_view_name": "HTMLView",
      "description": "",
      "description_tooltip": null,
      "layout": "IPY_MODEL_20a6f59e769a4a758550abb361b3a199",
      "placeholder": "​",
      "style": "IPY_MODEL_6a76608c24264732a599afb5478ced6e",
      "value": " 18/18 [00:00&lt;00:00, 219.80it/s]"
     }
    },
    "c3daef5804c24fae9825468d046e6b97": {
     "model_module": "@jupyter-widgets/controls",
     "model_module_version": "1.5.0",
     "model_name": "FloatProgressModel",
     "state": {
      "_dom_classes": [],
      "_model_module": "@jupyter-widgets/controls",
      "_model_module_version": "1.5.0",
      "_model_name": "FloatProgressModel",
      "_view_count": null,
      "_view_module": "@jupyter-widgets/controls",
      "_view_module_version": "1.5.0",
      "_view_name": "ProgressView",
      "bar_style": "success",
      "description": "",
      "description_tooltip": null,
      "layout": "IPY_MODEL_397deaf70c1c4773853507004eef8a58",
      "max": 18,
      "min": 0,
      "orientation": "horizontal",
      "style": "IPY_MODEL_13918ddf02bb4b0b943011bc37c86ff4",
      "value": 18
     }
    },
    "c5898092d18140c08d011a207238f48f": {
     "model_module": "@jupyter-widgets/base",
     "model_module_version": "1.2.0",
     "model_name": "LayoutModel",
     "state": {
      "_model_module": "@jupyter-widgets/base",
      "_model_module_version": "1.2.0",
      "_model_name": "LayoutModel",
      "_view_count": null,
      "_view_module": "@jupyter-widgets/base",
      "_view_module_version": "1.2.0",
      "_view_name": "LayoutView",
      "align_content": null,
      "align_items": null,
      "align_self": null,
      "border": null,
      "bottom": null,
      "display": null,
      "flex": null,
      "flex_flow": null,
      "grid_area": null,
      "grid_auto_columns": null,
      "grid_auto_flow": null,
      "grid_auto_rows": null,
      "grid_column": null,
      "grid_gap": null,
      "grid_row": null,
      "grid_template_areas": null,
      "grid_template_columns": null,
      "grid_template_rows": null,
      "height": null,
      "justify_content": null,
      "justify_items": null,
      "left": null,
      "margin": null,
      "max_height": null,
      "max_width": null,
      "min_height": null,
      "min_width": null,
      "object_fit": null,
      "object_position": null,
      "order": null,
      "overflow": null,
      "overflow_x": null,
      "overflow_y": null,
      "padding": null,
      "right": null,
      "top": null,
      "visibility": null,
      "width": null
     }
    },
    "c8bbf442453146a29ef2a629054f744b": {
     "model_module": "@jupyter-widgets/controls",
     "model_module_version": "1.5.0",
     "model_name": "FloatProgressModel",
     "state": {
      "_dom_classes": [],
      "_model_module": "@jupyter-widgets/controls",
      "_model_module_version": "1.5.0",
      "_model_name": "FloatProgressModel",
      "_view_count": null,
      "_view_module": "@jupyter-widgets/controls",
      "_view_module_version": "1.5.0",
      "_view_name": "ProgressView",
      "bar_style": "success",
      "description": "",
      "description_tooltip": null,
      "layout": "IPY_MODEL_39e5ce57aefa4d6f98017b62dcfc7ec4",
      "max": 18,
      "min": 0,
      "orientation": "horizontal",
      "style": "IPY_MODEL_80197025590f4abdb74d037876a07941",
      "value": 18
     }
    },
    "cd1c8f0042414692b03f0ff060c258a1": {
     "model_module": "@jupyter-widgets/controls",
     "model_module_version": "1.5.0",
     "model_name": "DescriptionStyleModel",
     "state": {
      "_model_module": "@jupyter-widgets/controls",
      "_model_module_version": "1.5.0",
      "_model_name": "DescriptionStyleModel",
      "_view_count": null,
      "_view_module": "@jupyter-widgets/base",
      "_view_module_version": "1.2.0",
      "_view_name": "StyleView",
      "description_width": ""
     }
    },
    "d3428f055c3c416389995db1ef0b8021": {
     "model_module": "@jupyter-widgets/controls",
     "model_module_version": "1.5.0",
     "model_name": "HTMLModel",
     "state": {
      "_dom_classes": [],
      "_model_module": "@jupyter-widgets/controls",
      "_model_module_version": "1.5.0",
      "_model_name": "HTMLModel",
      "_view_count": null,
      "_view_module": "@jupyter-widgets/controls",
      "_view_module_version": "1.5.0",
      "_view_name": "HTMLView",
      "description": "",
      "description_tooltip": null,
      "layout": "IPY_MODEL_91414592663e4ea29e13dcc2b4b2c38f",
      "placeholder": "​",
      "style": "IPY_MODEL_e3fa304bb44a453abca30c15cfe1cc75",
      "value": " 3.06k/3.06k [00:00&lt;00:00, 8.34kB/s]"
     }
    },
    "e3fa304bb44a453abca30c15cfe1cc75": {
     "model_module": "@jupyter-widgets/controls",
     "model_module_version": "1.5.0",
     "model_name": "DescriptionStyleModel",
     "state": {
      "_model_module": "@jupyter-widgets/controls",
      "_model_module_version": "1.5.0",
      "_model_name": "DescriptionStyleModel",
      "_view_count": null,
      "_view_module": "@jupyter-widgets/base",
      "_view_module_version": "1.2.0",
      "_view_name": "StyleView",
      "description_width": ""
     }
    },
    "e56bd8656c6b4699a62a67e530e82fd6": {
     "model_module": "@jupyter-widgets/controls",
     "model_module_version": "1.5.0",
     "model_name": "FloatProgressModel",
     "state": {
      "_dom_classes": [],
      "_model_module": "@jupyter-widgets/controls",
      "_model_module_version": "1.5.0",
      "_model_name": "FloatProgressModel",
      "_view_count": null,
      "_view_module": "@jupyter-widgets/controls",
      "_view_module_version": "1.5.0",
      "_view_name": "ProgressView",
      "bar_style": "success",
      "description": "",
      "description_tooltip": null,
      "layout": "IPY_MODEL_4abad483024b4a3abfb11d694c13ada5",
      "max": 18,
      "min": 0,
      "orientation": "horizontal",
      "style": "IPY_MODEL_4b5cea7358b743869a79779dfac37d91",
      "value": 18
     }
    },
    "e6c51d99e4a44165994a5f8b898e5897": {
     "model_module": "@jupyter-widgets/base",
     "model_module_version": "1.2.0",
     "model_name": "LayoutModel",
     "state": {
      "_model_module": "@jupyter-widgets/base",
      "_model_module_version": "1.2.0",
      "_model_name": "LayoutModel",
      "_view_count": null,
      "_view_module": "@jupyter-widgets/base",
      "_view_module_version": "1.2.0",
      "_view_name": "LayoutView",
      "align_content": null,
      "align_items": null,
      "align_self": null,
      "border": null,
      "bottom": null,
      "display": null,
      "flex": null,
      "flex_flow": null,
      "grid_area": null,
      "grid_auto_columns": null,
      "grid_auto_flow": null,
      "grid_auto_rows": null,
      "grid_column": null,
      "grid_gap": null,
      "grid_row": null,
      "grid_template_areas": null,
      "grid_template_columns": null,
      "grid_template_rows": null,
      "height": null,
      "justify_content": null,
      "justify_items": null,
      "left": null,
      "margin": null,
      "max_height": null,
      "max_width": null,
      "min_height": null,
      "min_width": null,
      "object_fit": null,
      "object_position": null,
      "order": null,
      "overflow": null,
      "overflow_x": null,
      "overflow_y": null,
      "padding": null,
      "right": null,
      "top": null,
      "visibility": null,
      "width": null
     }
    },
    "ee1c5f9310eb4d5fbd6e88774877c767": {
     "model_module": "@jupyter-widgets/controls",
     "model_module_version": "1.5.0",
     "model_name": "HTMLModel",
     "state": {
      "_dom_classes": [],
      "_model_module": "@jupyter-widgets/controls",
      "_model_module_version": "1.5.0",
      "_model_name": "HTMLModel",
      "_view_count": null,
      "_view_module": "@jupyter-widgets/controls",
      "_view_module_version": "1.5.0",
      "_view_name": "HTMLView",
      "description": "",
      "description_tooltip": null,
      "layout": "IPY_MODEL_0d9a81300db0460599e9a04a71ebc85c",
      "placeholder": "​",
      "style": "IPY_MODEL_323f222a13d94155b3ac7858e2ee9c02",
      "value": " 1284879/1284879 [01:43&lt;00:00, 17276.04 examples/s]"
     }
    },
    "f057696318ef4c3a98e4206271d418e5": {
     "model_module": "@jupyter-widgets/controls",
     "model_module_version": "1.5.0",
     "model_name": "DescriptionStyleModel",
     "state": {
      "_model_module": "@jupyter-widgets/controls",
      "_model_module_version": "1.5.0",
      "_model_name": "DescriptionStyleModel",
      "_view_count": null,
      "_view_module": "@jupyter-widgets/base",
      "_view_module_version": "1.2.0",
      "_view_name": "StyleView",
      "description_width": ""
     }
    },
    "f5b0786bc90d4c94bf7294cc1f2c9aa7": {
     "model_module": "@jupyter-widgets/controls",
     "model_module_version": "1.5.0",
     "model_name": "HTMLModel",
     "state": {
      "_dom_classes": [],
      "_model_module": "@jupyter-widgets/controls",
      "_model_module_version": "1.5.0",
      "_model_name": "HTMLModel",
      "_view_count": null,
      "_view_module": "@jupyter-widgets/controls",
      "_view_module_version": "1.5.0",
      "_view_name": "HTMLView",
      "description": "",
      "description_tooltip": null,
      "layout": "IPY_MODEL_768f0e01c15849fd807d58b6a42c7e55",
      "placeholder": "​",
      "style": "IPY_MODEL_b4034fc5112d41dc97a11ebf24f9e5ff",
      "value": "Generating train split: 100%"
     }
    }
   }
  }
 },
 "nbformat": 4,
 "nbformat_minor": 0
}
