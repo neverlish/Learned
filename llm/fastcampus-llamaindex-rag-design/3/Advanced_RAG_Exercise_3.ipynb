{
 "cells": [
  {
   "cell_type": "markdown",
   "metadata": {
    "id": "OC-lqR7VO00a"
   },
   "source": [
    "# HyDE\n",
    "\n",
    "쿼리에 대한 hallucinated answer 의도적으로 생성해서 , 그 답안과 비슷한 문서 찾기."
   ]
  },
  {
   "cell_type": "code",
   "execution_count": 2,
   "metadata": {
    "colab": {
     "base_uri": "https://localhost:8080/"
    },
    "executionInfo": {
     "elapsed": 25565,
     "status": "ok",
     "timestamp": 1722521858426,
     "user": {
      "displayName": "한두솔",
      "userId": "14744311692633150263"
     },
     "user_tz": -540
    },
    "id": "95NrYghvO3ea",
    "outputId": "b27c29f4-ceaa-4e19-91d2-91d4c9c6893c"
   },
   "outputs": [
    {
     "name": "stdout",
     "output_type": "stream",
     "text": [
      "Collecting llama-index\n",
      "  Downloading llama_index-0.10.59-py3-none-any.whl.metadata (11 kB)\n",
      "Collecting datasets\n",
      "  Downloading datasets-2.20.0-py3-none-any.whl.metadata (19 kB)\n",
      "Collecting openai\n",
      "  Downloading openai-1.37.1-py3-none-any.whl.metadata (22 kB)\n",
      "Collecting llama-index-agent-openai<0.3.0,>=0.1.4 (from llama-index)\n",
      "  Downloading llama_index_agent_openai-0.2.9-py3-none-any.whl.metadata (729 bytes)\n",
      "Collecting llama-index-cli<0.2.0,>=0.1.2 (from llama-index)\n",
      "  Downloading llama_index_cli-0.1.13-py3-none-any.whl.metadata (1.5 kB)\n",
      "Collecting llama-index-core==0.10.59 (from llama-index)\n",
      "  Downloading llama_index_core-0.10.59-py3-none-any.whl.metadata (2.4 kB)\n",
      "Collecting llama-index-embeddings-openai<0.2.0,>=0.1.5 (from llama-index)\n",
      "  Downloading llama_index_embeddings_openai-0.1.11-py3-none-any.whl.metadata (655 bytes)\n",
      "Collecting llama-index-indices-managed-llama-cloud>=0.2.0 (from llama-index)\n",
      "  Downloading llama_index_indices_managed_llama_cloud-0.2.7-py3-none-any.whl.metadata (3.8 kB)\n",
      "Collecting llama-index-legacy<0.10.0,>=0.9.48 (from llama-index)\n",
      "  Downloading llama_index_legacy-0.9.48-py3-none-any.whl.metadata (8.5 kB)\n",
      "Collecting llama-index-llms-openai<0.2.0,>=0.1.27 (from llama-index)\n",
      "  Downloading llama_index_llms_openai-0.1.27-py3-none-any.whl.metadata (610 bytes)\n",
      "Collecting llama-index-multi-modal-llms-openai<0.2.0,>=0.1.3 (from llama-index)\n",
      "  Downloading llama_index_multi_modal_llms_openai-0.1.8-py3-none-any.whl.metadata (728 bytes)\n",
      "Collecting llama-index-program-openai<0.2.0,>=0.1.3 (from llama-index)\n",
      "  Downloading llama_index_program_openai-0.1.7-py3-none-any.whl.metadata (760 bytes)\n",
      "Collecting llama-index-question-gen-openai<0.2.0,>=0.1.2 (from llama-index)\n",
      "  Downloading llama_index_question_gen_openai-0.1.3-py3-none-any.whl.metadata (785 bytes)\n",
      "Collecting llama-index-readers-file<0.2.0,>=0.1.4 (from llama-index)\n",
      "  Downloading llama_index_readers_file-0.1.32-py3-none-any.whl.metadata (5.4 kB)\n",
      "Collecting llama-index-readers-llama-parse>=0.1.2 (from llama-index)\n",
      "  Downloading llama_index_readers_llama_parse-0.1.6-py3-none-any.whl.metadata (3.6 kB)\n",
      "Requirement already satisfied: PyYAML>=6.0.1 in /usr/local/lib/python3.10/dist-packages (from llama-index-core==0.10.59->llama-index) (6.0.1)\n",
      "Requirement already satisfied: SQLAlchemy>=1.4.49 in /usr/local/lib/python3.10/dist-packages (from SQLAlchemy[asyncio]>=1.4.49->llama-index-core==0.10.59->llama-index) (2.0.31)\n",
      "Requirement already satisfied: aiohttp<4.0.0,>=3.8.6 in /usr/local/lib/python3.10/dist-packages (from llama-index-core==0.10.59->llama-index) (3.9.5)\n",
      "Collecting dataclasses-json (from llama-index-core==0.10.59->llama-index)\n",
      "  Downloading dataclasses_json-0.6.7-py3-none-any.whl.metadata (25 kB)\n",
      "Collecting deprecated>=1.2.9.3 (from llama-index-core==0.10.59->llama-index)\n",
      "  Downloading Deprecated-1.2.14-py2.py3-none-any.whl.metadata (5.4 kB)\n",
      "Collecting dirtyjson<2.0.0,>=1.0.8 (from llama-index-core==0.10.59->llama-index)\n",
      "  Downloading dirtyjson-1.0.8-py3-none-any.whl.metadata (11 kB)\n",
      "Requirement already satisfied: fsspec>=2023.5.0 in /usr/local/lib/python3.10/dist-packages (from llama-index-core==0.10.59->llama-index) (2024.6.1)\n",
      "Collecting httpx (from llama-index-core==0.10.59->llama-index)\n",
      "  Downloading httpx-0.27.0-py3-none-any.whl.metadata (7.2 kB)\n",
      "Requirement already satisfied: nest-asyncio<2.0.0,>=1.5.8 in /usr/local/lib/python3.10/dist-packages (from llama-index-core==0.10.59->llama-index) (1.6.0)\n",
      "Requirement already satisfied: networkx>=3.0 in /usr/local/lib/python3.10/dist-packages (from llama-index-core==0.10.59->llama-index) (3.3)\n",
      "Requirement already satisfied: nltk<4.0.0,>=3.8.1 in /usr/local/lib/python3.10/dist-packages (from llama-index-core==0.10.59->llama-index) (3.8.1)\n",
      "Requirement already satisfied: numpy<2.0.0 in /usr/local/lib/python3.10/dist-packages (from llama-index-core==0.10.59->llama-index) (1.26.4)\n",
      "Requirement already satisfied: pandas in /usr/local/lib/python3.10/dist-packages (from llama-index-core==0.10.59->llama-index) (2.1.4)\n",
      "Requirement already satisfied: pillow>=9.0.0 in /usr/local/lib/python3.10/dist-packages (from llama-index-core==0.10.59->llama-index) (9.4.0)\n",
      "Requirement already satisfied: requests>=2.31.0 in /usr/local/lib/python3.10/dist-packages (from llama-index-core==0.10.59->llama-index) (2.31.0)\n",
      "Collecting tenacity!=8.4.0,<9.0.0,>=8.2.0 (from llama-index-core==0.10.59->llama-index)\n",
      "  Downloading tenacity-8.5.0-py3-none-any.whl.metadata (1.2 kB)\n",
      "Collecting tiktoken>=0.3.3 (from llama-index-core==0.10.59->llama-index)\n",
      "  Downloading tiktoken-0.7.0-cp310-cp310-manylinux_2_17_x86_64.manylinux2014_x86_64.whl.metadata (6.6 kB)\n",
      "Requirement already satisfied: tqdm<5.0.0,>=4.66.1 in /usr/local/lib/python3.10/dist-packages (from llama-index-core==0.10.59->llama-index) (4.66.4)\n",
      "Requirement already satisfied: typing-extensions>=4.5.0 in /usr/local/lib/python3.10/dist-packages (from llama-index-core==0.10.59->llama-index) (4.12.2)\n",
      "Collecting typing-inspect>=0.8.0 (from llama-index-core==0.10.59->llama-index)\n",
      "  Downloading typing_inspect-0.9.0-py3-none-any.whl.metadata (1.5 kB)\n",
      "Requirement already satisfied: wrapt in /usr/local/lib/python3.10/dist-packages (from llama-index-core==0.10.59->llama-index) (1.16.0)\n",
      "Requirement already satisfied: filelock in /usr/local/lib/python3.10/dist-packages (from datasets) (3.15.4)\n",
      "Collecting pyarrow>=15.0.0 (from datasets)\n",
      "  Downloading pyarrow-17.0.0-cp310-cp310-manylinux_2_28_x86_64.whl.metadata (3.3 kB)\n",
      "Requirement already satisfied: pyarrow-hotfix in /usr/local/lib/python3.10/dist-packages (from datasets) (0.6)\n",
      "Collecting dill<0.3.9,>=0.3.0 (from datasets)\n",
      "  Downloading dill-0.3.8-py3-none-any.whl.metadata (10 kB)\n",
      "Collecting requests>=2.31.0 (from llama-index-core==0.10.59->llama-index)\n",
      "  Downloading requests-2.32.3-py3-none-any.whl.metadata (4.6 kB)\n",
      "Collecting xxhash (from datasets)\n",
      "  Downloading xxhash-3.4.1-cp310-cp310-manylinux_2_17_x86_64.manylinux2014_x86_64.whl.metadata (12 kB)\n",
      "Collecting multiprocess (from datasets)\n",
      "  Downloading multiprocess-0.70.16-py310-none-any.whl.metadata (7.2 kB)\n",
      "Collecting fsspec>=2023.5.0 (from llama-index-core==0.10.59->llama-index)\n",
      "  Downloading fsspec-2024.5.0-py3-none-any.whl.metadata (11 kB)\n",
      "Requirement already satisfied: huggingface-hub>=0.21.2 in /usr/local/lib/python3.10/dist-packages (from datasets) (0.23.5)\n",
      "Requirement already satisfied: packaging in /usr/local/lib/python3.10/dist-packages (from datasets) (24.1)\n",
      "Requirement already satisfied: anyio<5,>=3.5.0 in /usr/local/lib/python3.10/dist-packages (from openai) (3.7.1)\n",
      "Requirement already satisfied: distro<2,>=1.7.0 in /usr/lib/python3/dist-packages (from openai) (1.7.0)\n",
      "Requirement already satisfied: pydantic<3,>=1.9.0 in /usr/local/lib/python3.10/dist-packages (from openai) (2.8.2)\n",
      "Requirement already satisfied: sniffio in /usr/local/lib/python3.10/dist-packages (from openai) (1.3.1)\n",
      "Requirement already satisfied: aiosignal>=1.1.2 in /usr/local/lib/python3.10/dist-packages (from aiohttp<4.0.0,>=3.8.6->llama-index-core==0.10.59->llama-index) (1.3.1)\n",
      "Requirement already satisfied: attrs>=17.3.0 in /usr/local/lib/python3.10/dist-packages (from aiohttp<4.0.0,>=3.8.6->llama-index-core==0.10.59->llama-index) (23.2.0)\n",
      "Requirement already satisfied: frozenlist>=1.1.1 in /usr/local/lib/python3.10/dist-packages (from aiohttp<4.0.0,>=3.8.6->llama-index-core==0.10.59->llama-index) (1.4.1)\n",
      "Requirement already satisfied: multidict<7.0,>=4.5 in /usr/local/lib/python3.10/dist-packages (from aiohttp<4.0.0,>=3.8.6->llama-index-core==0.10.59->llama-index) (6.0.5)\n",
      "Requirement already satisfied: yarl<2.0,>=1.0 in /usr/local/lib/python3.10/dist-packages (from aiohttp<4.0.0,>=3.8.6->llama-index-core==0.10.59->llama-index) (1.9.4)\n",
      "Requirement already satisfied: async-timeout<5.0,>=4.0 in /usr/local/lib/python3.10/dist-packages (from aiohttp<4.0.0,>=3.8.6->llama-index-core==0.10.59->llama-index) (4.0.3)\n",
      "Requirement already satisfied: idna>=2.8 in /usr/local/lib/python3.10/dist-packages (from anyio<5,>=3.5.0->openai) (3.7)\n",
      "Requirement already satisfied: exceptiongroup in /usr/local/lib/python3.10/dist-packages (from anyio<5,>=3.5.0->openai) (1.2.2)\n",
      "Requirement already satisfied: certifi in /usr/local/lib/python3.10/dist-packages (from httpx->llama-index-core==0.10.59->llama-index) (2024.7.4)\n",
      "Collecting httpcore==1.* (from httpx->llama-index-core==0.10.59->llama-index)\n",
      "  Downloading httpcore-1.0.5-py3-none-any.whl.metadata (20 kB)\n",
      "Collecting h11<0.15,>=0.13 (from httpcore==1.*->httpx->llama-index-core==0.10.59->llama-index)\n",
      "  Downloading h11-0.14.0-py3-none-any.whl.metadata (8.2 kB)\n",
      "Collecting llama-cloud>=0.0.11 (from llama-index-indices-managed-llama-cloud>=0.2.0->llama-index)\n",
      "  Downloading llama_cloud-0.0.11-py3-none-any.whl.metadata (751 bytes)\n",
      "Requirement already satisfied: beautifulsoup4<5.0.0,>=4.12.3 in /usr/local/lib/python3.10/dist-packages (from llama-index-readers-file<0.2.0,>=0.1.4->llama-index) (4.12.3)\n",
      "Collecting pypdf<5.0.0,>=4.0.1 (from llama-index-readers-file<0.2.0,>=0.1.4->llama-index)\n",
      "  Downloading pypdf-4.3.1-py3-none-any.whl.metadata (7.4 kB)\n",
      "Collecting striprtf<0.0.27,>=0.0.26 (from llama-index-readers-file<0.2.0,>=0.1.4->llama-index)\n",
      "  Downloading striprtf-0.0.26-py3-none-any.whl.metadata (2.1 kB)\n",
      "Collecting llama-parse>=0.4.0 (from llama-index-readers-llama-parse>=0.1.2->llama-index)\n",
      "  Downloading llama_parse-0.4.9-py3-none-any.whl.metadata (4.4 kB)\n",
      "Requirement already satisfied: annotated-types>=0.4.0 in /usr/local/lib/python3.10/dist-packages (from pydantic<3,>=1.9.0->openai) (0.7.0)\n",
      "Requirement already satisfied: pydantic-core==2.20.1 in /usr/local/lib/python3.10/dist-packages (from pydantic<3,>=1.9.0->openai) (2.20.1)\n",
      "Requirement already satisfied: charset-normalizer<4,>=2 in /usr/local/lib/python3.10/dist-packages (from requests>=2.31.0->llama-index-core==0.10.59->llama-index) (3.3.2)\n",
      "Requirement already satisfied: urllib3<3,>=1.21.1 in /usr/local/lib/python3.10/dist-packages (from requests>=2.31.0->llama-index-core==0.10.59->llama-index) (2.0.7)\n",
      "Requirement already satisfied: python-dateutil>=2.8.2 in /usr/local/lib/python3.10/dist-packages (from pandas->llama-index-core==0.10.59->llama-index) (2.8.2)\n",
      "Requirement already satisfied: pytz>=2020.1 in /usr/local/lib/python3.10/dist-packages (from pandas->llama-index-core==0.10.59->llama-index) (2024.1)\n",
      "Requirement already satisfied: tzdata>=2022.1 in /usr/local/lib/python3.10/dist-packages (from pandas->llama-index-core==0.10.59->llama-index) (2024.1)\n",
      "Requirement already satisfied: soupsieve>1.2 in /usr/local/lib/python3.10/dist-packages (from beautifulsoup4<5.0.0,>=4.12.3->llama-index-readers-file<0.2.0,>=0.1.4->llama-index) (2.5)\n",
      "Requirement already satisfied: click in /usr/local/lib/python3.10/dist-packages (from nltk<4.0.0,>=3.8.1->llama-index-core==0.10.59->llama-index) (8.1.7)\n",
      "Requirement already satisfied: joblib in /usr/local/lib/python3.10/dist-packages (from nltk<4.0.0,>=3.8.1->llama-index-core==0.10.59->llama-index) (1.4.2)\n",
      "Requirement already satisfied: regex>=2021.8.3 in /usr/local/lib/python3.10/dist-packages (from nltk<4.0.0,>=3.8.1->llama-index-core==0.10.59->llama-index) (2024.5.15)\n",
      "Requirement already satisfied: six>=1.5 in /usr/local/lib/python3.10/dist-packages (from python-dateutil>=2.8.2->pandas->llama-index-core==0.10.59->llama-index) (1.16.0)\n",
      "Requirement already satisfied: greenlet!=0.4.17 in /usr/local/lib/python3.10/dist-packages (from SQLAlchemy>=1.4.49->SQLAlchemy[asyncio]>=1.4.49->llama-index-core==0.10.59->llama-index) (3.0.3)\n",
      "Collecting mypy-extensions>=0.3.0 (from typing-inspect>=0.8.0->llama-index-core==0.10.59->llama-index)\n",
      "  Downloading mypy_extensions-1.0.0-py3-none-any.whl.metadata (1.1 kB)\n",
      "Collecting marshmallow<4.0.0,>=3.18.0 (from dataclasses-json->llama-index-core==0.10.59->llama-index)\n",
      "  Downloading marshmallow-3.21.3-py3-none-any.whl.metadata (7.1 kB)\n",
      "Downloading llama_index-0.10.59-py3-none-any.whl (6.8 kB)\n",
      "Downloading llama_index_core-0.10.59-py3-none-any.whl (15.5 MB)\n",
      "\u001b[2K   \u001b[90m━━━━━━━━━━━━━━━━━━━━━━━━━━━━━━━━━━━━━━━━\u001b[0m \u001b[32m15.5/15.5 MB\u001b[0m \u001b[31m80.1 MB/s\u001b[0m eta \u001b[36m0:00:00\u001b[0m\n",
      "\u001b[?25hDownloading datasets-2.20.0-py3-none-any.whl (547 kB)\n",
      "\u001b[2K   \u001b[90m━━━━━━━━━━━━━━━━━━━━━━━━━━━━━━━━━━━━━━━━\u001b[0m \u001b[32m547.8/547.8 kB\u001b[0m \u001b[31m32.0 MB/s\u001b[0m eta \u001b[36m0:00:00\u001b[0m\n",
      "\u001b[?25hDownloading openai-1.37.1-py3-none-any.whl (337 kB)\n",
      "\u001b[2K   \u001b[90m━━━━━━━━━━━━━━━━━━━━━━━━━━━━━━━━━━━━━━━━\u001b[0m \u001b[32m337.0/337.0 kB\u001b[0m \u001b[31m23.1 MB/s\u001b[0m eta \u001b[36m0:00:00\u001b[0m\n",
      "\u001b[?25hDownloading dill-0.3.8-py3-none-any.whl (116 kB)\n",
      "\u001b[2K   \u001b[90m━━━━━━━━━━━━━━━━━━━━━━━━━━━━━━━━━━━━━━━━\u001b[0m \u001b[32m116.3/116.3 kB\u001b[0m \u001b[31m8.7 MB/s\u001b[0m eta \u001b[36m0:00:00\u001b[0m\n",
      "\u001b[?25hDownloading fsspec-2024.5.0-py3-none-any.whl (316 kB)\n",
      "\u001b[2K   \u001b[90m━━━━━━━━━━━━━━━━━━━━━━━━━━━━━━━━━━━━━━━━\u001b[0m \u001b[32m316.1/316.1 kB\u001b[0m \u001b[31m21.5 MB/s\u001b[0m eta \u001b[36m0:00:00\u001b[0m\n",
      "\u001b[?25hDownloading httpx-0.27.0-py3-none-any.whl (75 kB)\n",
      "\u001b[2K   \u001b[90m━━━━━━━━━━━━━━━━━━━━━━━━━━━━━━━━━━━━━━━━\u001b[0m \u001b[32m75.6/75.6 kB\u001b[0m \u001b[31m6.1 MB/s\u001b[0m eta \u001b[36m0:00:00\u001b[0m\n",
      "\u001b[?25hDownloading httpcore-1.0.5-py3-none-any.whl (77 kB)\n",
      "\u001b[2K   \u001b[90m━━━━━━━━━━━━━━━━━━━━━━━━━━━━━━━━━━━━━━━━\u001b[0m \u001b[32m77.9/77.9 kB\u001b[0m \u001b[31m6.1 MB/s\u001b[0m eta \u001b[36m0:00:00\u001b[0m\n",
      "\u001b[?25hDownloading llama_index_agent_openai-0.2.9-py3-none-any.whl (13 kB)\n",
      "Downloading llama_index_cli-0.1.13-py3-none-any.whl (27 kB)\n",
      "Downloading llama_index_embeddings_openai-0.1.11-py3-none-any.whl (6.3 kB)\n",
      "Downloading llama_index_indices_managed_llama_cloud-0.2.7-py3-none-any.whl (9.5 kB)\n",
      "Downloading llama_index_legacy-0.9.48-py3-none-any.whl (2.0 MB)\n",
      "\u001b[2K   \u001b[90m━━━━━━━━━━━━━━━━━━━━━━━━━━━━━━━━━━━━━━━━\u001b[0m \u001b[32m2.0/2.0 MB\u001b[0m \u001b[31m54.6 MB/s\u001b[0m eta \u001b[36m0:00:00\u001b[0m\n",
      "\u001b[?25hDownloading llama_index_llms_openai-0.1.27-py3-none-any.whl (11 kB)\n",
      "Downloading llama_index_multi_modal_llms_openai-0.1.8-py3-none-any.whl (5.9 kB)\n",
      "Downloading llama_index_program_openai-0.1.7-py3-none-any.whl (5.3 kB)\n",
      "Downloading llama_index_question_gen_openai-0.1.3-py3-none-any.whl (2.9 kB)\n",
      "Downloading llama_index_readers_file-0.1.32-py3-none-any.whl (38 kB)\n",
      "Downloading llama_index_readers_llama_parse-0.1.6-py3-none-any.whl (2.5 kB)\n",
      "Downloading pyarrow-17.0.0-cp310-cp310-manylinux_2_28_x86_64.whl (39.9 MB)\n",
      "\u001b[2K   \u001b[90m━━━━━━━━━━━━━━━━━━━━━━━━━━━━━━━━━━━━━━━━\u001b[0m \u001b[32m39.9/39.9 MB\u001b[0m \u001b[31m23.2 MB/s\u001b[0m eta \u001b[36m0:00:00\u001b[0m\n",
      "\u001b[?25hDownloading requests-2.32.3-py3-none-any.whl (64 kB)\n",
      "\u001b[2K   \u001b[90m━━━━━━━━━━━━━━━━━━━━━━━━━━━━━━━━━━━━━━━━\u001b[0m \u001b[32m64.9/64.9 kB\u001b[0m \u001b[31m5.0 MB/s\u001b[0m eta \u001b[36m0:00:00\u001b[0m\n",
      "\u001b[?25hDownloading multiprocess-0.70.16-py310-none-any.whl (134 kB)\n",
      "\u001b[2K   \u001b[90m━━━━━━━━━━━━━━━━━━━━━━━━━━━━━━━━━━━━━━━━\u001b[0m \u001b[32m134.8/134.8 kB\u001b[0m \u001b[31m9.9 MB/s\u001b[0m eta \u001b[36m0:00:00\u001b[0m\n",
      "\u001b[?25hDownloading xxhash-3.4.1-cp310-cp310-manylinux_2_17_x86_64.manylinux2014_x86_64.whl (194 kB)\n",
      "\u001b[2K   \u001b[90m━━━━━━━━━━━━━━━━━━━━━━━━━━━━━━━━━━━━━━━━\u001b[0m \u001b[32m194.1/194.1 kB\u001b[0m \u001b[31m8.8 MB/s\u001b[0m eta \u001b[36m0:00:00\u001b[0m\n",
      "\u001b[?25hDownloading Deprecated-1.2.14-py2.py3-none-any.whl (9.6 kB)\n",
      "Downloading dirtyjson-1.0.8-py3-none-any.whl (25 kB)\n",
      "Downloading llama_cloud-0.0.11-py3-none-any.whl (154 kB)\n",
      "\u001b[2K   \u001b[90m━━━━━━━━━━━━━━━━━━━━━━━━━━━━━━━━━━━━━━━━\u001b[0m \u001b[32m154.8/154.8 kB\u001b[0m \u001b[31m11.6 MB/s\u001b[0m eta \u001b[36m0:00:00\u001b[0m\n",
      "\u001b[?25hDownloading llama_parse-0.4.9-py3-none-any.whl (9.4 kB)\n",
      "Downloading pypdf-4.3.1-py3-none-any.whl (295 kB)\n",
      "\u001b[2K   \u001b[90m━━━━━━━━━━━━━━━━━━━━━━━━━━━━━━━━━━━━━━━━\u001b[0m \u001b[32m295.8/295.8 kB\u001b[0m \u001b[31m21.0 MB/s\u001b[0m eta \u001b[36m0:00:00\u001b[0m\n",
      "\u001b[?25hDownloading striprtf-0.0.26-py3-none-any.whl (6.9 kB)\n",
      "Downloading tenacity-8.5.0-py3-none-any.whl (28 kB)\n",
      "Downloading tiktoken-0.7.0-cp310-cp310-manylinux_2_17_x86_64.manylinux2014_x86_64.whl (1.1 MB)\n",
      "\u001b[2K   \u001b[90m━━━━━━━━━━━━━━━━━━━━━━━━━━━━━━━━━━━━━━━━\u001b[0m \u001b[32m1.1/1.1 MB\u001b[0m \u001b[31m47.4 MB/s\u001b[0m eta \u001b[36m0:00:00\u001b[0m\n",
      "\u001b[?25hDownloading typing_inspect-0.9.0-py3-none-any.whl (8.8 kB)\n",
      "Downloading dataclasses_json-0.6.7-py3-none-any.whl (28 kB)\n",
      "Downloading h11-0.14.0-py3-none-any.whl (58 kB)\n",
      "\u001b[2K   \u001b[90m━━━━━━━━━━━━━━━━━━━━━━━━━━━━━━━━━━━━━━━━\u001b[0m \u001b[32m58.3/58.3 kB\u001b[0m \u001b[31m4.2 MB/s\u001b[0m eta \u001b[36m0:00:00\u001b[0m\n",
      "\u001b[?25hDownloading marshmallow-3.21.3-py3-none-any.whl (49 kB)\n",
      "\u001b[2K   \u001b[90m━━━━━━━━━━━━━━━━━━━━━━━━━━━━━━━━━━━━━━━━\u001b[0m \u001b[32m49.2/49.2 kB\u001b[0m \u001b[31m3.2 MB/s\u001b[0m eta \u001b[36m0:00:00\u001b[0m\n",
      "\u001b[?25hDownloading mypy_extensions-1.0.0-py3-none-any.whl (4.7 kB)\n",
      "Installing collected packages: striprtf, dirtyjson, xxhash, tenacity, requests, pypdf, pyarrow, mypy-extensions, marshmallow, h11, fsspec, dill, deprecated, typing-inspect, tiktoken, multiprocess, httpcore, httpx, dataclasses-json, openai, llama-cloud, datasets, llama-index-legacy, llama-index-core, llama-parse, llama-index-readers-file, llama-index-llms-openai, llama-index-indices-managed-llama-cloud, llama-index-embeddings-openai, llama-index-readers-llama-parse, llama-index-multi-modal-llms-openai, llama-index-cli, llama-index-agent-openai, llama-index-program-openai, llama-index-question-gen-openai, llama-index\n",
      "  Attempting uninstall: tenacity\n",
      "    Found existing installation: tenacity 9.0.0\n",
      "    Uninstalling tenacity-9.0.0:\n",
      "      Successfully uninstalled tenacity-9.0.0\n",
      "  Attempting uninstall: requests\n",
      "    Found existing installation: requests 2.31.0\n",
      "    Uninstalling requests-2.31.0:\n",
      "      Successfully uninstalled requests-2.31.0\n",
      "  Attempting uninstall: pyarrow\n",
      "    Found existing installation: pyarrow 14.0.2\n",
      "    Uninstalling pyarrow-14.0.2:\n",
      "      Successfully uninstalled pyarrow-14.0.2\n",
      "  Attempting uninstall: fsspec\n",
      "    Found existing installation: fsspec 2024.6.1\n",
      "    Uninstalling fsspec-2024.6.1:\n",
      "      Successfully uninstalled fsspec-2024.6.1\n",
      "\u001b[31mERROR: pip's dependency resolver does not currently take into account all the packages that are installed. This behaviour is the source of the following dependency conflicts.\n",
      "torch 2.3.1+cu121 requires nvidia-cublas-cu12==12.1.3.1; platform_system == \"Linux\" and platform_machine == \"x86_64\", which is not installed.\n",
      "torch 2.3.1+cu121 requires nvidia-cuda-cupti-cu12==12.1.105; platform_system == \"Linux\" and platform_machine == \"x86_64\", which is not installed.\n",
      "torch 2.3.1+cu121 requires nvidia-cuda-nvrtc-cu12==12.1.105; platform_system == \"Linux\" and platform_machine == \"x86_64\", which is not installed.\n",
      "torch 2.3.1+cu121 requires nvidia-cuda-runtime-cu12==12.1.105; platform_system == \"Linux\" and platform_machine == \"x86_64\", which is not installed.\n",
      "torch 2.3.1+cu121 requires nvidia-cudnn-cu12==8.9.2.26; platform_system == \"Linux\" and platform_machine == \"x86_64\", which is not installed.\n",
      "torch 2.3.1+cu121 requires nvidia-cufft-cu12==11.0.2.54; platform_system == \"Linux\" and platform_machine == \"x86_64\", which is not installed.\n",
      "torch 2.3.1+cu121 requires nvidia-curand-cu12==10.3.2.106; platform_system == \"Linux\" and platform_machine == \"x86_64\", which is not installed.\n",
      "torch 2.3.1+cu121 requires nvidia-cusolver-cu12==11.4.5.107; platform_system == \"Linux\" and platform_machine == \"x86_64\", which is not installed.\n",
      "torch 2.3.1+cu121 requires nvidia-cusparse-cu12==12.1.0.106; platform_system == \"Linux\" and platform_machine == \"x86_64\", which is not installed.\n",
      "torch 2.3.1+cu121 requires nvidia-nccl-cu12==2.20.5; platform_system == \"Linux\" and platform_machine == \"x86_64\", which is not installed.\n",
      "torch 2.3.1+cu121 requires nvidia-nvtx-cu12==12.1.105; platform_system == \"Linux\" and platform_machine == \"x86_64\", which is not installed.\n",
      "cudf-cu12 24.4.1 requires pyarrow<15.0.0a0,>=14.0.1, but you have pyarrow 17.0.0 which is incompatible.\n",
      "gcsfs 2024.6.1 requires fsspec==2024.6.1, but you have fsspec 2024.5.0 which is incompatible.\n",
      "google-colab 1.0.0 requires requests==2.31.0, but you have requests 2.32.3 which is incompatible.\n",
      "ibis-framework 8.0.0 requires pyarrow<16,>=2, but you have pyarrow 17.0.0 which is incompatible.\u001b[0m\u001b[31m\n",
      "\u001b[0mSuccessfully installed dataclasses-json-0.6.7 datasets-2.20.0 deprecated-1.2.14 dill-0.3.8 dirtyjson-1.0.8 fsspec-2024.5.0 h11-0.14.0 httpcore-1.0.5 httpx-0.27.0 llama-cloud-0.0.11 llama-index-0.10.59 llama-index-agent-openai-0.2.9 llama-index-cli-0.1.13 llama-index-core-0.10.59 llama-index-embeddings-openai-0.1.11 llama-index-indices-managed-llama-cloud-0.2.7 llama-index-legacy-0.9.48 llama-index-llms-openai-0.1.27 llama-index-multi-modal-llms-openai-0.1.8 llama-index-program-openai-0.1.7 llama-index-question-gen-openai-0.1.3 llama-index-readers-file-0.1.32 llama-index-readers-llama-parse-0.1.6 llama-parse-0.4.9 marshmallow-3.21.3 multiprocess-0.70.16 mypy-extensions-1.0.0 openai-1.37.1 pyarrow-17.0.0 pypdf-4.3.1 requests-2.32.3 striprtf-0.0.26 tenacity-8.5.0 tiktoken-0.7.0 typing-inspect-0.9.0 xxhash-3.4.1\n"
     ]
    }
   ],
   "source": [
    "!pip install llama-index datasets openai"
   ]
  },
  {
   "cell_type": "code",
   "execution_count": 1,
   "metadata": {
    "executionInfo": {
     "elapsed": 6569,
     "status": "ok",
     "timestamp": 1722521895613,
     "user": {
      "displayName": "한두솔",
      "userId": "14744311692633150263"
     },
     "user_tz": -540
    },
    "id": "rYbWp54MO00g"
   },
   "outputs": [],
   "source": [
    "import logging\n",
    "import sys\n",
    "\n",
    "logging.basicConfig(stream=sys.stdout, level=logging.INFO)\n",
    "logging.getLogger().addHandler(logging.StreamHandler(stream=sys.stdout))\n",
    "\n",
    "from llama_index.core import VectorStoreIndex, SimpleDirectoryReader\n",
    "from llama_index.core.indices.query.query_transform import HyDEQueryTransform\n",
    "from llama_index.core.query_engine import TransformQueryEngine\n",
    "from IPython.display import Markdown, display\n",
    "import pprint\n",
    "from llama_index.llms.openai import OpenAI\n",
    "from llama_index.embeddings.openai import OpenAIEmbedding\n",
    "from llama_index.core import Settings\n",
    "Settings.embed_model = OpenAIEmbedding(\n",
    "    model=\"text-embedding-3-small\"\n",
    ")\n",
    "Settings.llm= OpenAI(model='gpt-4o-mini')"
   ]
  },
  {
   "cell_type": "code",
   "execution_count": 2,
   "metadata": {
    "colab": {
     "base_uri": "https://localhost:8080/",
     "height": 299,
     "referenced_widgets": [
      "6e6527c5fbe34ed9bbf5b76adf643bb3",
      "cda4be095e0c4f698b31a89ebec8d08b",
      "374ebd75bf8a4b7493f74cd08b7cdc2c",
      "b24b556111864f1e82f2a7210f94f917",
      "9d88719a82d647b8bacf5e77a83cd411",
      "c7bdd44e22a74abd80a30496bf9bc847",
      "4d99e3c650ea486b97467059379ceeb4",
      "c7fa40ddccdf4278afe5e460009b722c",
      "68d6cf8f872d436382d639f50886c035",
      "b577c87d415e4e0dad87c0104d54a26f",
      "346c9833465a41888dad1615db635138",
      "5906bb581ed34fd48dfeb38c79e758c6",
      "69c011f3e69e4494a06c8e71828ac9bd",
      "b61c40d604094034ac296d83d20eccc2",
      "976c000d635440c396894395fa5e3189",
      "4f60a127f17046a5a32a98f36db17948",
      "28f951239db94937916f9dcb13f0dead",
      "9de9b2d6b68b4e14bb66cda7dbe27c84",
      "18e8af20098449679a144983774da7dc",
      "e21953a033a24285af6dfd810ac2dd40",
      "86c711a8e44a4ec2bdeb54178e2bc5b8",
      "22f4cb3b49ae4f61a0f370d4791ca094",
      "678c8ded4874481f82aa34aad4e62490",
      "2108319fb4be42ffa56ab40407a8634c",
      "a2407bb37a2341e08d78876229d09347",
      "5fb10d01f72f422bb43d68aa6c555895",
      "4f13efc25ae84e02a148912370ca4bf7",
      "c0e0ea4f5a55461ca74c619b0e06b4e9",
      "57547682f1744a97829624cf9999a832",
      "8acc075c64d040ecbd475fc554c7d78f",
      "34007c76bde145ac9a3728eef0e2ff9b",
      "c66f0d9058e54a9db9607ede54d8cd20",
      "a883de37021841f08aedb6380b7f393c",
      "f8866e07f9d8497d92466af452da96e9",
      "e32e8f16b4494b4b95ea74b79b5f8f9a",
      "ad7ca5ca19ae443c88238b3736455e3b",
      "13cb5d86d37f4bb4bfab3cc3baf6d9c4",
      "98f86901c7f448f8a43509003637c10a",
      "b7657b9625f64f4499b94fe4fa06fcd4",
      "4286d47549af4211acbf4094ec9b1927",
      "8602f0d892c64d40b1279c9a4f052831",
      "4209c313dcaa43ba84215545e633746c",
      "40a6e53745cb4bdeb52093fc3b4665c0",
      "2c05fff3f937486ca9bff6f0f2f3a508",
      "1c24484563cb4acabc4051b9b2f08d5a",
      "39ccd364d8d1404bb2237d1a29252466",
      "e01b5daf68664f1b86719c2e4b6043ef",
      "018302744ce645db85b227ef3971678c",
      "0e97912d33944fb983de1c9387a914d7",
      "345d794c4390413598c6aed57e6e02b7",
      "a7deb334960545c698e19b0813ac09a9",
      "6fe586a47beb4956a13c5d46181e9c29",
      "61b70751118e4b32bbcdb148eb6e9d5e",
      "ceb4a1cd67c6478180d981d2144965ac",
      "bd322e8aac034032a333fe0f38cefc6c"
     ]
    },
    "executionInfo": {
     "elapsed": 290534,
     "status": "ok",
     "timestamp": 1722522191825,
     "user": {
      "displayName": "한두솔",
      "userId": "14744311692633150263"
     },
     "user_tz": -540
    },
    "id": "s_Q8yoOlO00i",
    "outputId": "efe85376-f7da-4be1-b633-fe734553432c"
   },
   "outputs": [
    {
     "name": "stdout",
     "output_type": "stream",
     "text": [
      "INFO:numexpr.utils:NumExpr defaulting to 12 threads.\n",
      "NumExpr defaulting to 12 threads.\n",
      "INFO:datasets:PyTorch version 2.6.0 available.\n",
      "PyTorch version 2.6.0 available.\n",
      "INFO:datasets:TensorFlow version 2.19.0 available.\n",
      "TensorFlow version 2.19.0 available.\n"
     ]
    },
    {
     "data": {
      "application/vnd.jupyter.widget-view+json": {
       "model_id": "f5a33029de7740009afae6f9e11956b0",
       "version_major": 2,
       "version_minor": 0
      },
      "text/plain": [
       "Resolving data files:   0%|          | 0/18 [00:00<?, ?it/s]"
      ]
     },
     "metadata": {},
     "output_type": "display_data"
    },
    {
     "data": {
      "application/vnd.jupyter.widget-view+json": {
       "model_id": "52c4ceb1fc6941cea509e28d5c1b9518",
       "version_major": 2,
       "version_minor": 0
      },
      "text/plain": [
       "Resolving data files:   0%|          | 0/18 [00:00<?, ?it/s]"
      ]
     },
     "metadata": {},
     "output_type": "display_data"
    }
   ],
   "source": [
    "# Dataset 로드\n",
    "from datasets import load_dataset\n",
    "\n",
    "ds = load_dataset(\"HAERAE-HUB/KOREAN-WEBTEXT\", split='train[:20]')"
   ]
  },
  {
   "cell_type": "code",
   "execution_count": 3,
   "metadata": {
    "executionInfo": {
     "elapsed": 635,
     "status": "ok",
     "timestamp": 1722522211118,
     "user": {
      "displayName": "한두솔",
      "userId": "14744311692633150263"
     },
     "user_tz": -540
    },
    "id": "Jf75a8D_O00i"
   },
   "outputs": [],
   "source": [
    "data = ds.to_pandas()"
   ]
  },
  {
   "cell_type": "code",
   "execution_count": 4,
   "metadata": {
    "colab": {
     "base_uri": "https://localhost:8080/",
     "height": 669
    },
    "executionInfo": {
     "elapsed": 11,
     "status": "ok",
     "timestamp": 1722522212350,
     "user": {
      "displayName": "한두솔",
      "userId": "14744311692633150263"
     },
     "user_tz": -540
    },
    "id": "5PRlNrQLO00j",
    "outputId": "f717a9f8-605f-44d7-feae-c9346658a20c"
   },
   "outputs": [
    {
     "data": {
      "text/html": [
       "<div>\n",
       "<style scoped>\n",
       "    .dataframe tbody tr th:only-of-type {\n",
       "        vertical-align: middle;\n",
       "    }\n",
       "\n",
       "    .dataframe tbody tr th {\n",
       "        vertical-align: top;\n",
       "    }\n",
       "\n",
       "    .dataframe thead th {\n",
       "        text-align: right;\n",
       "    }\n",
       "</style>\n",
       "<table border=\"1\" class=\"dataframe\">\n",
       "  <thead>\n",
       "    <tr style=\"text-align: right;\">\n",
       "      <th></th>\n",
       "      <th>text</th>\n",
       "      <th>source</th>\n",
       "      <th>token_count</th>\n",
       "      <th>__index_level_0__</th>\n",
       "    </tr>\n",
       "  </thead>\n",
       "  <tbody>\n",
       "    <tr>\n",
       "      <th>0</th>\n",
       "      <td>사이트의 판매량에 기반하여 판매량 추이를 반영한 인터파크 도서에서의 독립적인 판매 ...</td>\n",
       "      <td>oscar2201</td>\n",
       "      <td>3348</td>\n",
       "      <td>0</td>\n",
       "    </tr>\n",
       "    <tr>\n",
       "      <th>1</th>\n",
       "      <td>“아~아~잊으랴 어찌 우리 이날을 조국의 원수들이 짓밟아 오던 날을~”6·25의 노...</td>\n",
       "      <td>oscar2201</td>\n",
       "      <td>1427</td>\n",
       "      <td>1</td>\n",
       "    </tr>\n",
       "    <tr>\n",
       "      <th>2</th>\n",
       "      <td>일러전쟁의 승패를 가른 쓰시마 해전은 세계 최강으로 평가 받는 발틱함대를 괴멸시켰다...</td>\n",
       "      <td>oscar2201</td>\n",
       "      <td>2458</td>\n",
       "      <td>2</td>\n",
       "    </tr>\n",
       "    <tr>\n",
       "      <th>3</th>\n",
       "      <td>재테크 채널 유튜버이자, 「빚부터 갚아라」, 「원트재무설계 소원을 말해봐」 저자인 ...</td>\n",
       "      <td>oscar2201</td>\n",
       "      <td>2838</td>\n",
       "      <td>3</td>\n",
       "    </tr>\n",
       "    <tr>\n",
       "      <th>4</th>\n",
       "      <td>상급자의 범죄와 비리, 부패를 하급자에게 돌리는 것으로 따지면 타의추종을 불허하는 ...</td>\n",
       "      <td>oscar2201</td>\n",
       "      <td>1628</td>\n",
       "      <td>4</td>\n",
       "    </tr>\n",
       "    <tr>\n",
       "      <th>5</th>\n",
       "      <td>최근 언론보도에 의하면 이재현 CJ그룹 회장이 지난해 말 두 자녀에게 증여하였던 주...</td>\n",
       "      <td>oscar2201</td>\n",
       "      <td>1366</td>\n",
       "      <td>5</td>\n",
       "    </tr>\n",
       "    <tr>\n",
       "      <th>6</th>\n",
       "      <td>나는 노무현의 시대를 살지 않았다. 그러니까, 나는 이 땅의 생명체로 살아있긴 했지...</td>\n",
       "      <td>oscar2201</td>\n",
       "      <td>2017</td>\n",
       "      <td>6</td>\n",
       "    </tr>\n",
       "    <tr>\n",
       "      <th>7</th>\n",
       "      <td>CBRE가 21일 발표한 ‘2021년 2분기 국내 상업용 부동산 시장 보고서’에 따...</td>\n",
       "      <td>oscar2201</td>\n",
       "      <td>1421</td>\n",
       "      <td>7</td>\n",
       "    </tr>\n",
       "    <tr>\n",
       "      <th>8</th>\n",
       "      <td>안녕하세요. 한화솔루션입니다. 지난주, 슬기로운 솔루션 직장생활 2탄에 이어 이번엔...</td>\n",
       "      <td>oscar2201</td>\n",
       "      <td>2143</td>\n",
       "      <td>8</td>\n",
       "    </tr>\n",
       "    <tr>\n",
       "      <th>9</th>\n",
       "      <td>캐나다는 3 년 연속 지구상에서 가장 주목할만한 국가로 선포되었습니다. 일반 타이틀...</td>\n",
       "      <td>oscar2201</td>\n",
       "      <td>1104</td>\n",
       "      <td>9</td>\n",
       "    </tr>\n",
       "    <tr>\n",
       "      <th>10</th>\n",
       "      <td>민선6기 광주시장에 시민활동가 출신이 당선된 이후 시민과 소통하고 시민의 의견을 존...</td>\n",
       "      <td>oscar2201</td>\n",
       "      <td>3104</td>\n",
       "      <td>10</td>\n",
       "    </tr>\n",
       "    <tr>\n",
       "      <th>11</th>\n",
       "      <td>얼마 전 소개해 드린 레고 부스트 17101 기억하시나요? 레고를 통해 만드는 재미...</td>\n",
       "      <td>oscar2201</td>\n",
       "      <td>1627</td>\n",
       "      <td>11</td>\n",
       "    </tr>\n",
       "    <tr>\n",
       "      <th>12</th>\n",
       "      <td>대한민국 근대 도시사는 신도시 역사라 불리울 정도로 우리는 다양한 도시건설 노하우를...</td>\n",
       "      <td>oscar2201</td>\n",
       "      <td>1871</td>\n",
       "      <td>12</td>\n",
       "    </tr>\n",
       "    <tr>\n",
       "      <th>13</th>\n",
       "      <td>피고는 원고 최○○에게 37,474,000원, 원고 박○○에게 33,196,000원...</td>\n",
       "      <td>oscar2201</td>\n",
       "      <td>6648</td>\n",
       "      <td>13</td>\n",
       "    </tr>\n",
       "    <tr>\n",
       "      <th>14</th>\n",
       "      <td>디지털 기술로 산업과 사회 혁신을 추구하는 4차 산업혁명 시대가 도래했다. 디자인 ...</td>\n",
       "      <td>oscar2201</td>\n",
       "      <td>1369</td>\n",
       "      <td>14</td>\n",
       "    </tr>\n",
       "    <tr>\n",
       "      <th>15</th>\n",
       "      <td>법무법인 엘케이비앤파트너스(엘케이비)는 코로나19 시대 의뢰인과 함께하는 전문 법률...</td>\n",
       "      <td>oscar2201</td>\n",
       "      <td>3361</td>\n",
       "      <td>15</td>\n",
       "    </tr>\n",
       "    <tr>\n",
       "      <th>16</th>\n",
       "      <td>익숙하지 않은 것이 주는 낯설고 설레는 경험, 그것을 통해 얻는 영감은 여행을 하는...</td>\n",
       "      <td>oscar2201</td>\n",
       "      <td>1374</td>\n",
       "      <td>16</td>\n",
       "    </tr>\n",
       "    <tr>\n",
       "      <th>17</th>\n",
       "      <td>어제 오후 비가 오심을 의식해 자연의 맑은 비를 흠씬 맞춰 줄 요량으로 서재로부터 ...</td>\n",
       "      <td>oscar2201</td>\n",
       "      <td>1735</td>\n",
       "      <td>17</td>\n",
       "    </tr>\n",
       "    <tr>\n",
       "      <th>18</th>\n",
       "      <td>한국한의학연구원의 유튜브 채널에 최근 사상체질에 대한 김종열 한국한의학연구원장의 강...</td>\n",
       "      <td>oscar2201</td>\n",
       "      <td>1430</td>\n",
       "      <td>18</td>\n",
       "    </tr>\n",
       "    <tr>\n",
       "      <th>19</th>\n",
       "      <td>낙동강에 세워진 8개의 댐(보) 중 5개의 보에서 물이 샙니다. 상주댐에서 물이 새...</td>\n",
       "      <td>oscar2201</td>\n",
       "      <td>1437</td>\n",
       "      <td>19</td>\n",
       "    </tr>\n",
       "  </tbody>\n",
       "</table>\n",
       "</div>"
      ],
      "text/plain": [
       "                                                 text     source  token_count  \\\n",
       "0   사이트의 판매량에 기반하여 판매량 추이를 반영한 인터파크 도서에서의 독립적인 판매 ...  oscar2201         3348   \n",
       "1   “아~아~잊으랴 어찌 우리 이날을 조국의 원수들이 짓밟아 오던 날을~”6·25의 노...  oscar2201         1427   \n",
       "2   일러전쟁의 승패를 가른 쓰시마 해전은 세계 최강으로 평가 받는 발틱함대를 괴멸시켰다...  oscar2201         2458   \n",
       "3   재테크 채널 유튜버이자, 「빚부터 갚아라」, 「원트재무설계 소원을 말해봐」 저자인 ...  oscar2201         2838   \n",
       "4   상급자의 범죄와 비리, 부패를 하급자에게 돌리는 것으로 따지면 타의추종을 불허하는 ...  oscar2201         1628   \n",
       "5   최근 언론보도에 의하면 이재현 CJ그룹 회장이 지난해 말 두 자녀에게 증여하였던 주...  oscar2201         1366   \n",
       "6   나는 노무현의 시대를 살지 않았다. 그러니까, 나는 이 땅의 생명체로 살아있긴 했지...  oscar2201         2017   \n",
       "7   CBRE가 21일 발표한 ‘2021년 2분기 국내 상업용 부동산 시장 보고서’에 따...  oscar2201         1421   \n",
       "8   안녕하세요. 한화솔루션입니다. 지난주, 슬기로운 솔루션 직장생활 2탄에 이어 이번엔...  oscar2201         2143   \n",
       "9   캐나다는 3 년 연속 지구상에서 가장 주목할만한 국가로 선포되었습니다. 일반 타이틀...  oscar2201         1104   \n",
       "10  민선6기 광주시장에 시민활동가 출신이 당선된 이후 시민과 소통하고 시민의 의견을 존...  oscar2201         3104   \n",
       "11  얼마 전 소개해 드린 레고 부스트 17101 기억하시나요? 레고를 통해 만드는 재미...  oscar2201         1627   \n",
       "12  대한민국 근대 도시사는 신도시 역사라 불리울 정도로 우리는 다양한 도시건설 노하우를...  oscar2201         1871   \n",
       "13  피고는 원고 최○○에게 37,474,000원, 원고 박○○에게 33,196,000원...  oscar2201         6648   \n",
       "14  디지털 기술로 산업과 사회 혁신을 추구하는 4차 산업혁명 시대가 도래했다. 디자인 ...  oscar2201         1369   \n",
       "15  법무법인 엘케이비앤파트너스(엘케이비)는 코로나19 시대 의뢰인과 함께하는 전문 법률...  oscar2201         3361   \n",
       "16  익숙하지 않은 것이 주는 낯설고 설레는 경험, 그것을 통해 얻는 영감은 여행을 하는...  oscar2201         1374   \n",
       "17  어제 오후 비가 오심을 의식해 자연의 맑은 비를 흠씬 맞춰 줄 요량으로 서재로부터 ...  oscar2201         1735   \n",
       "18  한국한의학연구원의 유튜브 채널에 최근 사상체질에 대한 김종열 한국한의학연구원장의 강...  oscar2201         1430   \n",
       "19  낙동강에 세워진 8개의 댐(보) 중 5개의 보에서 물이 샙니다. 상주댐에서 물이 새...  oscar2201         1437   \n",
       "\n",
       "    __index_level_0__  \n",
       "0                   0  \n",
       "1                   1  \n",
       "2                   2  \n",
       "3                   3  \n",
       "4                   4  \n",
       "5                   5  \n",
       "6                   6  \n",
       "7                   7  \n",
       "8                   8  \n",
       "9                   9  \n",
       "10                 10  \n",
       "11                 11  \n",
       "12                 12  \n",
       "13                 13  \n",
       "14                 14  \n",
       "15                 15  \n",
       "16                 16  \n",
       "17                 17  \n",
       "18                 18  \n",
       "19                 19  "
      ]
     },
     "execution_count": 4,
     "metadata": {},
     "output_type": "execute_result"
    }
   ],
   "source": [
    "data"
   ]
  },
  {
   "cell_type": "code",
   "execution_count": 5,
   "metadata": {
    "executionInfo": {
     "elapsed": 458,
     "status": "ok",
     "timestamp": 1722522236193,
     "user": {
      "displayName": "한두솔",
      "userId": "14744311692633150263"
     },
     "user_tz": -540
    },
    "id": "P-U4Y2NkO00j"
   },
   "outputs": [],
   "source": [
    "# Document 오브젝트로 변환\n",
    "from llama_index.core import Document, VectorStoreIndex\n",
    "docs = []\n",
    "\n",
    "#Iterative하게 Document 만들기\n",
    "for i, row in data.iterrows():\n",
    "    docs.append(Document(\n",
    "        text=row['text'],\n",
    "        # extra_info={'title': row['title']}\n",
    "    ))"
   ]
  },
  {
   "cell_type": "code",
   "execution_count": 6,
   "metadata": {
    "executionInfo": {
     "elapsed": 4363,
     "status": "ok",
     "timestamp": 1722522252510,
     "user": {
      "displayName": "한두솔",
      "userId": "14744311692633150263"
     },
     "user_tz": -540
    },
    "id": "vnjAyUFwO00k"
   },
   "outputs": [
    {
     "name": "stdout",
     "output_type": "stream",
     "text": [
      "INFO:httpx:HTTP Request: POST https://api.openai.com/v1/embeddings \"HTTP/1.1 200 OK\"\n",
      "HTTP Request: POST https://api.openai.com/v1/embeddings \"HTTP/1.1 200 OK\"\n"
     ]
    }
   ],
   "source": [
    "index = VectorStoreIndex.from_documents(docs)"
   ]
  },
  {
   "cell_type": "code",
   "execution_count": 7,
   "metadata": {
    "colab": {
     "base_uri": "https://localhost:8080/"
    },
    "executionInfo": {
     "elapsed": 703,
     "status": "ok",
     "timestamp": 1722522258429,
     "user": {
      "displayName": "한두솔",
      "userId": "14744311692633150263"
     },
     "user_tz": -540
    },
    "id": "plcnL9UiO00k",
    "outputId": "d84db436-3ed2-4c1f-9be2-fe263070d9d6"
   },
   "outputs": [
    {
     "name": "stdout",
     "output_type": "stream",
     "text": [
      "('얼마 전 소개해 드린 레고 부스트 17101 기억하시나요? 레고를 통해 만드는 재미는 물론 코딩을 통해 직접 움직이고 다양한 게임도 '\n",
      " '즐기고 즐거움을 주는 코딩 브릭인데요. 아이들에게 쉽고 재밌게 코딩 교육을 해 줄 수 있기 때문에 많은 사람들이 선물로 혹은 코딩 교육의 '\n",
      " '목적으로 선택하고 있습니다. 지난번에는 움직이는 로봇 버니를 통해 간단한 레고 부스트 소개와 코딩의 기초를 보여 드렸는데요. 오늘은 '\n",
      " '귀염둥이 고양이 프랭키를 통해 교감하는 애완동물을 만들어 보도록 하겠습니다. 레고 부스트는 하나로 5가지를 만들 수 있는 5-in-1 '\n",
      " '제품이라 다양한 방식으로 체험할 수 있기 때문에 단순히 만들고 분해하기를 반복하는 것보다 더 흥미 유발이 되더라구요. 버니를 분해해야 '\n",
      " '한다고 하니 많이 아쉬워 하긴 하더라구요. 하나를 만들고 나면 다시 분해해서 다른 것을 만들어야 하기 때문에 부품의 분실이나 보관에 '\n",
      " '신경을 써야 하는데요. 이런저런 방법을 생각하다가 일단 락앤락 보관 통을 이용해 봤습니다. 하나만 있어도 꽉 차게 들어가긴 하는데, 너무 '\n",
      " '꽉 차면 만들 때 불편하고 완전히 분해하면 한 통으로 모자라기 때문에 2개 정도 준비해 주는 게 좋습니다. 저는 기본적으론 색깔별로 '\n",
      " '분리하고, 연결 부품 따로 넓은 것 혹은 긴것 이런 식으로 모아 놓으니까 찾기도 편하고 만들기가 쉽더라구요. 레고 부스트는 다른 레고와 '\n",
      " '다르게 스마트폰이나 태블릿을 이용해 설명서를 보면서 만들도록 되어 있습니다. 나중에 다 만들고 나면 코딩까지 연계하기 위한 방법인데, '\n",
      " '자유롭게 확대와 축소가 가능하고 훼손 가능성도 적으니 다른 레고도 이렇게 설명서를 제공해 주면 좋겠다는 생각이 들 정도로 상당히 '\n",
      " '편리합니다. 물론 스마트폰보다는 화면이 큰 태블릿이 보기 편한데, 안드로이드와 아이폰 모두 지원하고 버전별로 호환 가능 여부가 다르니 '\n",
      " '아래 링크에서 확인할 수 있습니다. 지난번 움직이는 로봇 버니를 만들어 봐서 그런지 이번에는 별로 물어보지 않고 혼자서 착착 만들어 '\n",
      " '가더라구요. 그래도 중간중간 좀 복잡한 부분도 있으니 그럴때만 가끔 도와주면 별로 어렵지 않게 만들어 갑니다. 처음에는 봉투에 넣어 둔 '\n",
      " '것을 꺼내 순서대로 만들어서 쉽고 빠르게 만들었지만 이번에는 분해해 둔 브릭에서 찾아서 만들어야 하니 시간이 좀 더 걸리긴 하더라구요. '\n",
      " '그래도 나름 나눠놓은 방식이 효율적이었는지 아들녀석이 잘 찾아서 만들어 주고 있습니다. 프랭키도 움직이는 로봇 버니처럼 단계별로 몸부터 '\n",
      " '시작해서 완성해 나가는 방식인데요. 하나의 단계를 클리어해야 다음 단계로 넘어갈 수 있기 때문에 Step By Step으로 단계를 밟아 '\n",
      " '나가게 됩니다. 처음에는 머리와 몸을 만드는데, 아들이 초등학교 2학년인데 어렵지 않게 잘 만들어 나가더라구요. 어른인 제가 봐도 상당히 '\n",
      " '디테일하고 재미나 보이던데, 레고 설계하시는 분들은 진정한 능력자 이신 듯. 1단계는 우유 혹은 생선 먹이기입니다. 아직 다리가 없으니 '\n",
      " '간단한 감정 표현만 할 수 있죠. 코딩도 처음부터 어렵게 여러 가지가 있는 게 아니라 기본적인 룰이 있고 단계를 넘어가면서 배우게되기 '\n",
      " '때문에 원리를 쉽게 파악할 수 있습니다. 2단계는 꼬리를 붙이고 간단한 감정 표현을 하게 해 줄 수 있습니다. 레고 부스트에는 3가지 '\n",
      " '핵심 장치가 있는데 그중에 하나가 색상/거리 센서입니다. 이 센서를 통해 물체를 감지하는 역할을 하는데 쓰다듬는 동작을 하면 기분 좋은 '\n",
      " '소리를 내면서 반응합니다. 거리와 색상을 통해 자신이 해야 할 일을 판단하는 거죠. 간단하게 1~2 단계 움직이는 모습을 영상으로 담아 '\n",
      " '봤는데요. 고양이 울음소리를 내고 감정을 표현하는 게 영락없는 고양이입니다. 맨날 싸우는 우리 아이들이지만 레고 부스트를 만드는 '\n",
      " '시간만큼은 세상 둘도 없는 오누이입니다. 둘째는 자기가 만들지 못할 것을 아니까 구경하면서 응원하고 첫째가 열심히 만들죠. 지난번에도 '\n",
      " '그러더니 꼭 친한 척을 하네요. 짠 ~ 다리까지 모두 완성된 프랭키입니다. 귀엽죠? 나름 리본도 매달고 있습니다. 울 따님은 너무 '\n",
      " '귀엽다며 계속 이방 저방 데리고 다니고 있습니다. 기다란 꼬리를 가지고 있는데, 꼬리까지 살랑살랑 흔들면서 진짜 고양이처럼 교감합니다. '\n",
      " '좀 인공적이긴 하지만 애완동물로 손색없네요. 3단계는 케이크 불을 끄고 생일 축하 노래를 부르는데요. 고양이가 부르는 생일 축하 노래 '\n",
      " '궁금하지 않으세요? 영상을 통해 만나볼 수 있는데, 너무 귀엽네요. 간단히 코딩을 통해 앉아 일어서와 같은 움직임을 주거나 감정 표현을 '\n",
      " '하게 할 수 있습니다. 기분 좋을 때나 놀랐을 때 혹은 화날 때 각각 다른 울음 소릴 내주는 게 참 디테일하더라구요. 하나의 섹션이 '\n",
      " '끝나면 응용 섹션으로 넘어갈 수 있는데, 다음에는 하모니카 불기와 노래하기 등의 응용동작 입니다. 스텝을 밟아 가면서 조금 더 복잡하고 '\n",
      " '응용할 수 있는 동작을 익히고 활용하면서 코딩 교육이 되는 거죠. 물론 프리 모드도 제공돼서 정해진 룰이 아니라 자신만의 룰을 만들어 볼 '\n",
      " '수도 있습니다. 자신의 목소리를 녹음해서 나오게 할 수도 있는데, 음성을 변조할 수도 있으니 아이들이 너무 좋아 하더라구요. 레고 '\n",
      " '부스트를 만난 지 2달 정도 되었는데 생각보다 아이들이 잘 따라 만들고 너무 좋아합니다. 직접 움직임을 줄 수 있다는 게 성취감을 '\n",
      " '높여주는 것 같더라구요. 레고는 모든 아이들이 좋아하는 브릭이기도 하구요. 또 아이와 함께 만들다 보면 자연스럽게 아이들과 더 교감하게 '\n",
      " '되기도 하구요. 프랭키는 가상의 고양이이지만 애교도 부리고 먹이도 먹는 등 다양한 교감 활동을 할 수 있는데, 단순히 움직이는 코딩이 '\n",
      " '아니라 교감능력까지 함께 높여줄 수 있는 것 같아서 좋습니다. 특히나 여자아이들이라면 더 좋아할 것 같네요. 애교 많은 재롱둥이 프랭키와 '\n",
      " '함께 아이들의 상상력과 창의력을 키워 보세요.')\n"
     ]
    }
   ],
   "source": [
    "pprint.pprint(data.iloc[11,0])"
   ]
  },
  {
   "cell_type": "code",
   "execution_count": 8,
   "metadata": {
    "executionInfo": {
     "elapsed": 436,
     "status": "ok",
     "timestamp": 1722522272761,
     "user": {
      "displayName": "한두솔",
      "userId": "14744311692633150263"
     },
     "user_tz": -540
    },
    "id": "G3G-gycCO00k"
   },
   "outputs": [],
   "source": [
    "# Example: 청크 컨텍스트를 기반으로 2차적인 Reasoning이 필요할 때\n",
    "query_str = \"프랭키가 누구한테 인기가 없을까?\""
   ]
  },
  {
   "cell_type": "code",
   "execution_count": 9,
   "metadata": {
    "colab": {
     "base_uri": "https://localhost:8080/",
     "height": 63
    },
    "executionInfo": {
     "elapsed": 2753,
     "status": "ok",
     "timestamp": 1722522278741,
     "user": {
      "displayName": "한두솔",
      "userId": "14744311692633150263"
     },
     "user_tz": -540
    },
    "id": "psZcSenqO00l",
    "outputId": "5b50f6c9-fdf0-4031-9341-7257e35466e7"
   },
   "outputs": [
    {
     "name": "stdout",
     "output_type": "stream",
     "text": [
      "INFO:httpx:HTTP Request: POST https://api.openai.com/v1/embeddings \"HTTP/1.1 200 OK\"\n",
      "HTTP Request: POST https://api.openai.com/v1/embeddings \"HTTP/1.1 200 OK\"\n",
      "INFO:httpx:HTTP Request: POST https://api.openai.com/v1/chat/completions \"HTTP/1.1 200 OK\"\n",
      "HTTP Request: POST https://api.openai.com/v1/chat/completions \"HTTP/1.1 200 OK\"\n"
     ]
    },
    {
     "data": {
      "text/markdown": [
       "프랭키는 일본 축구에 대한 한국인의 인식 속에서 인기가 없을 것으로 보인다. 한국에서는 일본 축구에 대한 사실과 다른 인식이 존재하며, 이는 한국인들의 열등감과 관련이 있을 수 있다."
      ],
      "text/plain": [
       "<IPython.core.display.Markdown object>"
      ]
     },
     "metadata": {},
     "output_type": "display_data"
    }
   ],
   "source": [
    "query_engine = index.as_query_engine()\n",
    "response = query_engine.query(query_str)\n",
    "display(Markdown(f\"{response}\"))"
   ]
  },
  {
   "cell_type": "code",
   "execution_count": 10,
   "metadata": {
    "colab": {
     "base_uri": "https://localhost:8080/",
     "height": 46
    },
    "executionInfo": {
     "elapsed": 7136,
     "status": "ok",
     "timestamp": 1722522310682,
     "user": {
      "displayName": "한두솔",
      "userId": "14744311692633150263"
     },
     "user_tz": -540
    },
    "id": "qI_Wm7nqO00l",
    "outputId": "3846ef4b-985f-42ca-c888-227a7e03aa11"
   },
   "outputs": [
    {
     "name": "stdout",
     "output_type": "stream",
     "text": [
      "INFO:httpx:HTTP Request: POST https://api.openai.com/v1/chat/completions \"HTTP/1.1 200 OK\"\n",
      "HTTP Request: POST https://api.openai.com/v1/chat/completions \"HTTP/1.1 200 OK\"\n",
      "INFO:httpx:HTTP Request: POST https://api.openai.com/v1/embeddings \"HTTP/1.1 200 OK\"\n",
      "HTTP Request: POST https://api.openai.com/v1/embeddings \"HTTP/1.1 200 OK\"\n",
      "INFO:httpx:HTTP Request: POST https://api.openai.com/v1/embeddings \"HTTP/1.1 200 OK\"\n",
      "HTTP Request: POST https://api.openai.com/v1/embeddings \"HTTP/1.1 200 OK\"\n",
      "INFO:httpx:HTTP Request: POST https://api.openai.com/v1/chat/completions \"HTTP/1.1 200 OK\"\n",
      "HTTP Request: POST https://api.openai.com/v1/chat/completions \"HTTP/1.1 200 OK\"\n"
     ]
    },
    {
     "data": {
      "text/markdown": [
       "프랭키는 가상의 고양이로, 특히 여자아이들에게 인기가 있을 것으로 보입니다. 따라서 다른 성별의 아이들, 특히 남자아이들에게는 상대적으로 인기가 없을 수 있습니다."
      ],
      "text/plain": [
       "<IPython.core.display.Markdown object>"
      ]
     },
     "metadata": {},
     "output_type": "display_data"
    }
   ],
   "source": [
    "# HyDE 적용\n",
    "hyde = HyDEQueryTransform(include_original=True)\n",
    "hyde_query_engine = TransformQueryEngine(query_engine, hyde)\n",
    "response = hyde_query_engine.query(query_str)\n",
    "display(Markdown(f\"{response}\"))"
   ]
  },
  {
   "cell_type": "code",
   "execution_count": 11,
   "metadata": {
    "colab": {
     "base_uri": "https://localhost:8080/",
     "height": 103
    },
    "executionInfo": {
     "elapsed": 5079,
     "status": "ok",
     "timestamp": 1722522350265,
     "user": {
      "displayName": "한두솔",
      "userId": "14744311692633150263"
     },
     "user_tz": -540
    },
    "id": "kNEH8kntO00m",
    "outputId": "2502190d-ef8a-4169-ec49-8d6194f17ca1"
   },
   "outputs": [
    {
     "name": "stdout",
     "output_type": "stream",
     "text": [
      "INFO:httpx:HTTP Request: POST https://api.openai.com/v1/chat/completions \"HTTP/1.1 200 OK\"\n",
      "HTTP Request: POST https://api.openai.com/v1/chat/completions \"HTTP/1.1 200 OK\"\n"
     ]
    },
    {
     "data": {
      "text/plain": [
       "'프랭키는 학교에서 인기가 없는 학생 중 한 명입니다. 그의 외모는 일반적이지 않고, 독특한 스타일을 가지고 있어 다른 학생들과 잘 어울리지 못하는 경우가 많습니다. 또한, 프랭키는 내성적인 성격을 가지고 있어 친구를 사귀는 데 어려움을 겪습니다. 그는 종종 혼자 있는 모습을 보이며, 다른 학생들이 그를 무시하거나 따돌리는 경우도 있습니다.\\n\\n프랭키는 취미로 만화를 그리거나 비디오 게임을 즐기지만, 이러한 관심사가 다른 학생들과의 대화 주제로 이어지지 않아 소외감을 느끼곤 합니다. 또한, 그는 유머 감각이 부족해 농담을 할 때 다른 친구들이 웃지 않거나 어색한 분위기가 만들어지기도 합니다. 이러한 이유로 프랭키는 종종 친구가 없는 외로운 학생으로 여겨집니다.\\n\\n그럼에도 불구하고, 프랭키는 자신의 개성을 잃지 않으려 노력하며, 자신과 비슷한 관심사를 가진 소수의 친구들과의 관계를 소중히 여기고 있습니다. 하지만 전반적으로 그는 학교 생활에서 인기가 없는 학생으로 남아 있습니다.'"
      ]
     },
     "execution_count": 11,
     "metadata": {},
     "output_type": "execute_result"
    }
   ],
   "source": [
    "# HyDE로 생성된 가상의 문서 확인\n",
    "query_bundle = hyde(query_str)\n",
    "hyde_doc = query_bundle.embedding_strs[0]\n",
    "hyde_doc"
   ]
  },
  {
   "cell_type": "code",
   "execution_count": 12,
   "metadata": {
    "colab": {
     "base_uri": "https://localhost:8080/"
    },
    "executionInfo": {
     "elapsed": 472,
     "status": "ok",
     "timestamp": 1722522361798,
     "user": {
      "displayName": "한두솔",
      "userId": "14744311692633150263"
     },
     "user_tz": -540
    },
    "id": "NDbr4oPuO00m",
    "outputId": "2a4a71fc-f122-4a66-d4bc-56199cf4e058"
   },
   "outputs": [
    {
     "name": "stdout",
     "output_type": "stream",
     "text": [
      "('대한민국 근대 도시사는 신도시 역사라 불리울 정도로 우리는 다양한 도시건설 노하우를 축적해왔다. 신도시 개발사에 1세대(분당, 일산, '\n",
      " '평촌 등), 2세대(광교, 판교, 위례, 동탄 등) 등의 수식어가 붙을 정도다. 많은 포토폴리오를 쌓은 한국의 신도시 건설업체들은 수십년 '\n",
      " '전부터 개발도상국으로 눈을 돌렸다. 그런데 어디에도 제대로된 한국적 신도시 성공담이 들리지 않는다. 오히려 고전을 면치못하는 게 '\n",
      " '현실이다. 해외에서 한국 건설사가 가장 많이 진출한 베트남에 현재 3개의 신도시 (D사의 하노이 레이크뷰시티, P사의 하노이 스플랜도라, '\n",
      " 'G사의 호치민시 나베신도시)는 사업시작한지 10년 – 20년이 경과되었음에도 불구하고 아직 첫삽을 뜨지도 못했거나 1단계에서 '\n",
      " '지지부진하다. 왜 그럴까? 이 해답에 자신있게 대답을 할 수 없다면 해외신도시 사업은 재고하기 바란다. 주저앉은 베트남 신도시 사업을 '\n",
      " '분석해보면 다음과 같은 문제점이 발견된다. 첫째, 로컬파트너와의 긴밀한 협력 부재로 인허가 및 보상에서 수년이 지체되는 과정을 겪었다. '\n",
      " '베트남의 인허가 과정은 한국과는 전혀 다르다. 오랜 시간 정부 관계자와 친분을 쌓아야 하고 보이지 않는 전 방위적인 로비 문화가 있어 그 '\n",
      " '구조를 파악하는 대도 시간이 꽤 걸린다. 이쪽 구조에 밝고 신뢰가 쌓인 로컬파트너 없이는 불가능하다고 보면 된다. 한국 건설사들이 신도시 '\n",
      " '사업 시 100% 단독 지분구조를 언론을 통해 자랑처럼 얘기하지만 결국 그것이 발목을 잡는다. 어설픈 대행사를 끼고 단독으로 진행하다 '\n",
      " '인허가 과정에서 스케줄이 지연되고 더 많은 인허가 자금이 들어가는 등 매우 비생산적이고 비효율적인 사업으로 흘러간다. 토지 보상도 '\n",
      " '마찬가지이다. 사회주의라 정부가 공권력 동원해서 대거 강제 철거해버릴 것 같지만 민주주의보다 더 힘든것이 베트남에서의 보상 및 주민 이주 '\n",
      " '절차이다. 개발업자가 정부에 보상금을 지불하고 정부가 주민과 적정선에서 협상하면서 이주와 동시에 사업이 시작되어야 정상인데 정부가 주민들 '\n",
      " '눈치를 살피거나 혹은 주민과 결탁되어서 더 큰 보상금을 요구하면서 허송세월만 보내는 경우가 허다하다. 이때도 역시 이 지역정서에 밝은 '\n",
      " '로컬 파트너의 코디네이터 역활이 매우 중요하다. 사실 로컬 개발업자도 보상 이슈는 피하고 싶어하는데 외국인들은 감당이 되겠는가? 둘째, '\n",
      " '인허가 및 토지 보상을 너머 사업이 착수되더라도 1단계 사업에서 부터 진행이 지지부진해진다. 이유는 초기 로컬 주택시장의 세밀한 분석없이 '\n",
      " '무리한 고가의 럭셔리 주거상품 위주로 공급해서이다. 미분양 사태가 속출할수 밖에 없는 포토폴리오다. 1인달 GDP가 이제 2300불인 '\n",
      " '베트남에서 한국건설사들은 1단계 사업부터 10억 이상 호가하는 호화 빌라위주로 주택을 판매하다보니 미분양이 속출했다. 자금 순환이 어렵기 '\n",
      " '때문에 대부분 2단계로 이어지지 못하고 수년 째 정체된다. 재미있는 현상은 이 고가의 주택을 구매한 사람들은 한 채만 구매하는 것이 '\n",
      " '아니라, 수채 혹은 10채 이상을 사들였는데도 불구하고 보유만 하고 있을 뿐 이주를 한다든가 애써 임대를 주진 않는다는 것이다. 주인은 '\n",
      " '있는데 아무도 살지 않는 고스트 빌리지가 된 곳이 많다. 수억의 고가 주택 구매자들은 이미 주택을 보유한 사람들이고 오갈데 없는 현금을 '\n",
      " '묶어 두는 수단으로 부동산을 구매하는 것이다. 사람이 살지 않는 동네이다 보니 커뮤니티가 생길리 만무하니 1단계 한국의 신도시 지역엔 '\n",
      " '생기가 돌지 않는다. 문제에 답이 있다. 베트남의 주택시장에 20년전부터 선구적 붐을 이끌었고 대만의 호치민시 푸미흥 신도시 개발사례를 '\n",
      " '들어 설명해보겠다. 첫째는 로컬파트너와 사업 지분 쉐어를 통해 파이를 키우는 중장기적 비전을 가져야 한다. 대만 푸미흥사는 호치민시 산하 '\n",
      " 'TTIPC사와 조인트 벤처(7:3)로 시행사를 1997년에 설립하면서 시의 전폭적인 지원에 힘입어 초기 사업을 거침없이 진행했다. 매우 '\n",
      " '보수적인 베트남 공무원 기질을 감안한다면 베트남 근대 역사상 처음으로 진행된 신도시가 이렇게 원활히 진행될줄은 몰랐다. 확실한 '\n",
      " '로컬파트너와 파이를 나눴기 때문에 시너지가 생겨 파이전체가 어마어마하게 커진것이다. 일종의 생산적이고 효율적인 민관협동사업(Public '\n",
      " 'Private Partnership)이라 할수 있겠다. 둘째는 로컬 주택시장의 현실과 전망을 세밀하게 분석해서 다양한 주택 공급 '\n",
      " '포토폴리오를 수립해야한다. 이를 가능케 하기 위해선 시행과 시공을 분리해서 사업구조를 짜는게 매우 중요하다. 우리나라 건설사가 수행하는 '\n",
      " '베트남의 신도시 사업 대부분은 시공사가 시행을 주도하는 구조다. 시공쪽에서 사업의 주도권을 쥐다보니 시장이 원하는 상품을 공급하기 보다는 '\n",
      " '시공이익이 극대화되는 기형적인 형태로 흘러가 첫단추에서 미분양 사태가 속출한다. 푸미흥사는 시행만 하는 회사라 치밀한 시장분석을 통해서 '\n",
      " '다양한 주택 상품 포토폴리오를 구성했고 설계 시공은 포토폴리오에 맞는 수준에 각각 맡겨졌다. 초기 분양상품은 한채 약 7만불 내외의 흥붕 '\n",
      " '및 스카이가든 아파트였고 분양은 매우 성공적이었다. 많은 사람들이 베트남에서 아파트문화를 새롭게 정의하는데 주도적 역활을 했다. 이후에 '\n",
      " '중고가 아파트 분양도 매우 성공적이었다. 많은 이들이 정주해 살면서 새로운 커뮤니티가 형성되었고 미국 영국 호주 등의 유명 국제학교, '\n",
      " '대형 쇼핑몰, 프랑스 합작 국제병원 등의 입지로 이어졌다. 개발이 탄력을 받아 부동산 개발의 선순환 구도가 잡힌것이다. 신도시 개발시 '\n",
      " '초기 분양 성공이 얼마나 중요한지를 보여주는 교훈이다. 핵심은 시행과 시공이 분리되어야 거시적 미시적 경제상황에 따라 급변하는 주택시장에 '\n",
      " '탄력적으로 대응할 수 있는 주택상품을 기획할수 있다는 것이다. 우리나라가 아무리 국내에서 많은 신도시를 지었다고 해도 해외신도시개발은 '\n",
      " '다른 얘기다. 결코 만만하게 봐서는 안될것이다. 로마에 가면 로마법을 따라야하듯 해외에서 국내식 접근은 잊기 바란다. 로컬을 잘 이해하는 '\n",
      " '것이 성공의 첩경이다. 진출할 도시의 사람, 문화, 시장, 관계, 제도 등을 잘 이해하는 것이 큰 사업의 가장 기초이자 성공의 '\n",
      " '결정요인이다. 1915년 스코틀랜드의 저명한 도시계획가 Patrick Geddes 는 “ Think Globally, Act '\n",
      " 'locally” 라는 유명한 말을 남겼다. 베트남으로 향하는 개발사업자들이 마음속에 깊이 새겨야 할 100년전의 슬로건이다.')\n"
     ]
    }
   ],
   "source": [
    "\n",
    "pprint.pprint(data.iloc[12,0])"
   ]
  },
  {
   "cell_type": "code",
   "execution_count": 13,
   "metadata": {
    "executionInfo": {
     "elapsed": 455,
     "status": "ok",
     "timestamp": 1722522375887,
     "user": {
      "displayName": "한두솔",
      "userId": "14744311692633150263"
     },
     "user_tz": -540
    },
    "id": "2Dyiei13O00m"
   },
   "outputs": [],
   "source": [
    "# Example: 청크 컨텍스트와 간접적으로 유사한 표현으로 물어봤을 때\n",
    "query_str = \"분당과 같은 도시가 외국에서도 통하려면 어떻게해야되?\""
   ]
  },
  {
   "cell_type": "code",
   "execution_count": 14,
   "metadata": {
    "colab": {
     "base_uri": "https://localhost:8080/",
     "height": 63
    },
    "executionInfo": {
     "elapsed": 3235,
     "status": "ok",
     "timestamp": 1722522386272,
     "user": {
      "displayName": "한두솔",
      "userId": "14744311692633150263"
     },
     "user_tz": -540
    },
    "id": "1qwtOCwMO00n",
    "outputId": "a3c9774d-d680-4325-fdfe-aba314261da8"
   },
   "outputs": [
    {
     "name": "stdout",
     "output_type": "stream",
     "text": [
      "INFO:httpx:HTTP Request: POST https://api.openai.com/v1/embeddings \"HTTP/1.1 200 OK\"\n",
      "HTTP Request: POST https://api.openai.com/v1/embeddings \"HTTP/1.1 200 OK\"\n",
      "INFO:httpx:HTTP Request: POST https://api.openai.com/v1/chat/completions \"HTTP/1.1 200 OK\"\n",
      "HTTP Request: POST https://api.openai.com/v1/chat/completions \"HTTP/1.1 200 OK\"\n"
     ]
    },
    {
     "data": {
      "text/markdown": [
       "외국에서 분당과 같은 도시가 성공적으로 통하려면, 해당 지역의 사람, 문화, 시장, 관계, 제도 등을 깊이 이해하는 것이 중요합니다. 또한, 시행과 시공이 분리되어야 하며, 거시적 및 미시적 경제 상황에 따라 유연하게 대응할 수 있는 주택 상품을 기획해야 합니다. 로컬의 특성을 잘 반영하고, 현지의 법과 관습을 존중하는 접근이 필요합니다."
      ],
      "text/plain": [
       "<IPython.core.display.Markdown object>"
      ]
     },
     "metadata": {},
     "output_type": "display_data"
    }
   ],
   "source": [
    "#Naive RAG\n",
    "query_engine = index.as_query_engine()\n",
    "response = query_engine.query(query_str)\n",
    "display(Markdown(f\"{response}\"))"
   ]
  },
  {
   "cell_type": "code",
   "execution_count": 15,
   "metadata": {
    "colab": {
     "base_uri": "https://localhost:8080/",
     "height": 80
    },
    "executionInfo": {
     "elapsed": 9634,
     "status": "ok",
     "timestamp": 1722522409420,
     "user": {
      "displayName": "한두솔",
      "userId": "14744311692633150263"
     },
     "user_tz": -540
    },
    "id": "yxpof3h9O00n",
    "outputId": "a7e2eca9-d194-4072-8431-92340f6abf89"
   },
   "outputs": [
    {
     "name": "stdout",
     "output_type": "stream",
     "text": [
      "INFO:httpx:HTTP Request: POST https://api.openai.com/v1/chat/completions \"HTTP/1.1 200 OK\"\n",
      "HTTP Request: POST https://api.openai.com/v1/chat/completions \"HTTP/1.1 200 OK\"\n",
      "INFO:httpx:HTTP Request: POST https://api.openai.com/v1/embeddings \"HTTP/1.1 200 OK\"\n",
      "HTTP Request: POST https://api.openai.com/v1/embeddings \"HTTP/1.1 200 OK\"\n",
      "INFO:httpx:HTTP Request: POST https://api.openai.com/v1/embeddings \"HTTP/1.1 200 OK\"\n",
      "HTTP Request: POST https://api.openai.com/v1/embeddings \"HTTP/1.1 200 OK\"\n",
      "INFO:httpx:HTTP Request: POST https://api.openai.com/v1/chat/completions \"HTTP/1.1 200 OK\"\n",
      "HTTP Request: POST https://api.openai.com/v1/chat/completions \"HTTP/1.1 200 OK\"\n"
     ]
    },
    {
     "data": {
      "text/markdown": [
       "외국에서 분당과 같은 도시가 성공적으로 자리 잡기 위해서는 현지 문화와 시장을 깊이 이해하고, 로컬 파트너와의 긴밀한 협력이 필수적입니다. 또한, 현지의 인허가 절차와 보상 시스템을 충분히 파악하여 적절한 대응 전략을 마련해야 합니다. 단독 지분 구조에 의존하기보다는 신뢰할 수 있는 로컬 파트너와 협력하여 효율적인 사업 진행이 이루어져야 하며, 현지 주민과의 관계를 잘 구축하는 것이 중요합니다. 이러한 접근 방식이 성공적인 도시 개발의 기초가 될 것입니다."
      ],
      "text/plain": [
       "<IPython.core.display.Markdown object>"
      ]
     },
     "metadata": {},
     "output_type": "display_data"
    }
   ],
   "source": [
    "#HyDE\n",
    "hyde = HyDEQueryTransform(include_original=True)\n",
    "hyde_query_engine = TransformQueryEngine(query_engine, hyde)\n",
    "response = hyde_query_engine.query(query_str)\n",
    "display(Markdown(f\"{response}\"))"
   ]
  },
  {
   "cell_type": "code",
   "execution_count": 16,
   "metadata": {
    "colab": {
     "base_uri": "https://localhost:8080/",
     "height": 120
    },
    "executionInfo": {
     "elapsed": 7055,
     "status": "ok",
     "timestamp": 1722522449360,
     "user": {
      "displayName": "한두솔",
      "userId": "14744311692633150263"
     },
     "user_tz": -540
    },
    "id": "ZFne8ypgO00o",
    "outputId": "eccda797-9f94-4c8a-d781-11d31160ef87"
   },
   "outputs": [
    {
     "name": "stdout",
     "output_type": "stream",
     "text": [
      "INFO:httpx:HTTP Request: POST https://api.openai.com/v1/chat/completions \"HTTP/1.1 200 OK\"\n",
      "HTTP Request: POST https://api.openai.com/v1/chat/completions \"HTTP/1.1 200 OK\"\n"
     ]
    },
    {
     "data": {
      "text/plain": [
       "'분당과 같은 도시가 외국에서도 통하려면 여러 가지 전략과 접근 방식이 필요합니다. 첫째, 도시의 독특한 특성과 강점을 강조해야 합니다. 분당은 첨단 기술 산업, 교육 기관, 그리고 쾌적한 주거 환경으로 유명합니다. 이러한 요소들을 국제적으로 홍보하여 외국인 투자자와 관광객의 관심을 끌 수 있습니다.\\n\\n둘째, 국제적인 네트워크를 구축하는 것이 중요합니다. 해외 도시와의 자매결연, 국제 컨퍼런스 및 박람회에 참여하여 분당의 이미지를 알리고, 글로벌 파트너십을 형성해야 합니다. 이를 통해 외국 기업과의 협력 기회를 창출하고, 외국인 인재를 유치할 수 있습니다.\\n\\n셋째, 문화 교류 프로그램을 활성화해야 합니다. 분당의 문화와 전통을 세계에 알리고, 외국 문화와의 융합을 통해 다양한 문화적 경험을 제공함으로써 외국인들이 분당에 매력을 느끼도록 해야 합니다.\\n\\n넷째, 외국어 교육과 다문화 이해를 증진시켜야 합니다. 외국인 주민과 관광객이 편안하게 생활하고 소통할 수 있도록 다양한 언어로 서비스와 정보를 제공하고, 지역 주민들이 다문화 사회에 대한 이해를 높일 수 있는 교육 프로그램을 마련해야 합니다.\\n\\n마지막으로, 지속 가능한 발전과 환경 보호를 고려한 도시 계획이 필요합니다. 친환경적인 도시 인프라와 교통 시스템을 구축하여 외국인들이 분당을 방문하고 거주하는 데 매력을 느끼도록 해야 합니다. 이러한 다양한 접근 방식을 통해 분당은 국제적으로 통용되는 도시로 성장할 수 있을 것입니다.'"
      ]
     },
     "execution_count": 16,
     "metadata": {},
     "output_type": "execute_result"
    }
   ],
   "source": [
    "# 가상의 문서 확인\n",
    "query_bundle = hyde(query_str)\n",
    "hyde_doc = query_bundle.embedding_strs[0]\n",
    "hyde_doc"
   ]
  },
  {
   "cell_type": "code",
   "execution_count": 17,
   "metadata": {
    "colab": {
     "base_uri": "https://localhost:8080/"
    },
    "executionInfo": {
     "elapsed": 513,
     "status": "ok",
     "timestamp": 1722522479065,
     "user": {
      "displayName": "한두솔",
      "userId": "14744311692633150263"
     },
     "user_tz": -540
    },
    "id": "o85-rW8-O00o",
    "outputId": "99d9803c-2f31-4c5f-d60b-71ca8f72847b"
   },
   "outputs": [
    {
     "name": "stdout",
     "output_type": "stream",
     "text": [
      "('법무법인 엘케이비앤파트너스(엘케이비)는 코로나19 시대 의뢰인과 함께하는 전문 법률서비스를 제공하고 있다. 서울 서초동에선 엘케이비를 '\n",
      " '두고 “판검사나 변호사 등 프로들이 자기 사건을 맡기는 로펌”이라는 평이 많다. 2012년 설립 이래 탄탄한 송무 역량으로 법률시장을 '\n",
      " '주도하고 있다. 최근 엘케이비는 기업법무, 공정거래, 조세, 행정, 금융, 재건축·재개발, 노무, 지식재산권, 회생·파산, '\n",
      " 'M&A(인수합병) 등 분야에서 종합적인 법률 솔루션을 제시하고 있다. 엘케이비의 가장 큰 강점은 베테랑 변호사들의 꼼꼼한 법률서비스. '\n",
      " '김강대 대표변호사는 “우리 로펌의 대표변호사들은 수임 사건에 대해 서면부터 재판 출석, 변론까지 모든 업무를 직접 챙긴다. 그 덕에 높은 '\n",
      " '승소율을 보이고 있다”며 “엘케이비는 최상의 법률서비스로 의뢰인과 동고동락하는 한편, 사회적공헌 활동(상자기사 참조)을 통해 국내 대표 '\n",
      " '로펌으로서 책임도 다할 것”이라고 말했다. 공정거래, 기업회생·M&A, 자본시장법, 은행·금융 분야 사건에서 최고 전문성을 지닌 엘케이비 '\n",
      " '대표변호사들을 만나 최근 법적 분쟁 양상과 승소 노하우를 들어봤다. 북한산 석탄을 러시아산으로 위장해 판매하던 A업체. 국내 B은행은 '\n",
      " '이런 사실을 모르고 해당 업체에 신용장(발행은행이 수입업자를 대신해 수출업자 앞으로 발행하는 문서)을 개설해줬다. 또 다른 C은행이 '\n",
      " '수익자(수출업자)로부터 신용장을 매입했다. 뒤늦게 해당 업체가 수입한 석탄이 미국의 대북 세컨더리 보이콧(secondary '\n",
      " 'boycott) 대상인 북한산(産)으로 밝혀졌다. “특약에 따라 신용장 대금을 지급할 수 없다”는 B은행과 “국제규범인 '\n",
      " '‘신용장통일규칙’의 지급 의무를 지켜라”는 C은행 간 법적 공방이 벌어졌다. B은행 측 변호인으로 사건을 맡았던 이화용 '\n",
      " '대표변호사(사법연수원 26기)는 비슷한 사례를 찾았으나 여의치 않았다. 정치적으로 민감한 국제사회의 대북제재와 은행 간 이해관계가 얽힌 '\n",
      " '복잡한 사건. 이렇다 할 전례조차 없었으나 돌파구를 찾아내 승소했다. 이 변호사는 “이 사건 신용장에는 “국제제재에 반하는 내용이 포함된 '\n",
      " '경우 대금 지급 의무를 면한다”는 특약이 있었다. 이 특약의 효력을 두고 공방이 오갔다. “신용장통일규칙이 적용돼도 계약자유의 원칙에 '\n",
      " '따라 특약사항이 우선한다”는 취지의 대법원 판례를 찾은 것이 주효했다”고 설명했다. 이 변호사는 공정거래 분야 전문가다. 창원지방법원을 '\n",
      " '시작으로 서울중앙지방법원·서울고등법원 판사, 대전지방법원 논산지원장, 의정부지방법원 부장판사로 근무했다. 서울고등법원 근무 당시 공정거래 '\n",
      " '전담재판부 판사로 일했고, 의정부지방법원 부장판사 시절인 2014년부터 약 2년간 금융위원회 소속 금융정보분석원(FIU) 초대 심의위원을 '\n",
      " '지냈다. 엘케이비는 이 변호사 등 공정거래 분야에 해박한 구성원들을 통해 부당 내부거래 및 공정거래위원회 조사·심사 대응·신고업무 대리 '\n",
      " '서비스를 제공하고 있다. 코로나19 사태는 기업 활동에 직격탄을 날렸다. 대법원 통계에 따르면 지난해 법인 파산 신청 건수(1069건)는 '\n",
      " '전년 대비 14.8% 증가했다. 2006년 ‘통합도산법’(채무자 회생 및 파산에 관한 법률) 제정 후 최대치다. 반면 법인회생을 신청한 '\n",
      " '기업은 892곳에 그쳐 2019년보다 11% 줄었다. 경영위기 속 재기의 희망을 노리는 기업보다 아예 파산을 신청하는 곳이 더 많은 '\n",
      " '것이다. 이에 대해 기업회생·M&A 분야 사건을 다수 수임한 김종복 대표변호사(31기)는 “대기업은 코로나19 위기를 비교적 잘 '\n",
      " '극복했다. 반면 중소기업은 우수한 기술을 가졌음에도 일시적 자금난을 견디지 못해 파산하는 경우가 많다”고 짚었다. 김 변호사는 '\n",
      " '서울중앙지방법원, 수원지방법원(법인회생) 등에서 근무했고, 대법원 사법정책심의관을 지냈다. 그는 “법인회생 제도는 기업에게 다시 한 번 '\n",
      " '기회를 주는 것이다. 법원 결정으로 회생 절차가 시작되면 회사는 계속 영업할 토대를 마련할 수 있다”며 “영업이익으로 부채를 분할 '\n",
      " '변제하면 채권자와 상생할 수도 있다. 중소기업의 법인회생을 적극 지원하고 있다”고 말했다. 엘케이비 기업법무 그룹은 기업이 직면한 법률 '\n",
      " '이슈에 대해 폭넓은 서비스를 제공한다. 노동·산업재해 등 노사관계, 지식재산권, 국제상거래 관련 자문에 이르기까지 다양하다. 기업법무 '\n",
      " '그룹의 또 다른 주요 분야는 M&A. 올해 상반기 세계 M&A 시장 규모는 1조7400억 달러(약 2077조5600억 원)로 추산된다. '\n",
      " '지난해 같은 때(1조2800억 달러)보다 36% 증가해 1980년 관련 통계 작성 이래 최대 규모다. 국내시장에서도 기업 경영권이 활발히 '\n",
      " '거래되고 있다. 이를 두고 김 변호사는 “최근 사모펀드의 기업 인수합병이 활발하다. 그 자체로는 정당한 활동이나, 국내 중견·중소기업은 '\n",
      " '계약·협의에 어려움을 겪는 경우가 많다. 엘케이비는 국내 기업에 최상의 법률서비스를 제공할 수 있도록 노력하고 있다”고 말했다. 김희준 '\n",
      " '대표변호사(22기) 사무실로 의뢰인 수십 명이 들이닥쳤다. 지난해 불거진 사모펀드 옵티머스자산운용(옵티머스) 피해자들이었다. 옵티머스는 '\n",
      " '“공공기관 매출채권에 투자하기 때문에 안정적이고 높은 이윤을 낸다”며 투자금 1조3500억 원을 모집했다. 하지만 실제로는 부실기업 투자 '\n",
      " '및 ‘펀드 돌려막기’에 나선 것으로 알려졌다. 현재 투자금을 변제받지 못한 피해자는 3200여 명, 피해금액은 5500억 원으로 '\n",
      " '추산된다. 옵티머스 펀드는 시중은행과 증권사 등을 통해 판매됐다. 그중 NH투자증권이 가장 많은 4300억 원 상당의 펀드를 팔았다. 김 '\n",
      " '변호사 사무실 문을 두드린 피해자들도 NH투자증권을 통해 옵티머스 펀드에 투자했다. NH투자증권 측은 “우리도 옵티머스에 속았다”고 '\n",
      " '나섰다. 법정 공방이 예상되는 상황. 사건을 맡은 김 변호사는 ‘착오에 의한 계약 취소’(민법 제109조)라는 법리로 난관을 돌파했다. '\n",
      " '“펀드 판매사 측이 상품 안전성을 제대로 확인하지 않아 투자자의 착오를 유발했으므로 ‘착오에 의한 계약 취소’에 해당해 투자금 전액을 '\n",
      " '반환해야 한다”는 논리였다. 4월 금융감독원 금융분쟁조정위원회는 피해자 손을 들어줬다. “NH투자증권은 옵티먼스 펀드 피해자들에게 투자 '\n",
      " '원금 전액을 반환하라”는 취지의 결정을 내린 것이다. 김 변호사는 “저금리 기조에서 투자자들은 비교적 높은 수익률을 내세운 옵티머스 '\n",
      " '펀드에 혹했다. NH투자증권 등 판매사가 “공공기관 확정매출채권에 투자하기 때문에 예금채권처럼 안전하다”고 설명한 것도 한몫했다“며 '\n",
      " '”당시 증권사는 옵티머스 상품을 팔면 높은 수수료를 받을 수 있었다. 상품 안전성을 제대로 확인하지 않은 채 수익 내기에만 골몰한 것으로 '\n",
      " '보인다”고 짚었다. 옵티머스 피해자는 대부분 평범한 은퇴자, 샐러리맨이다. 김 변호사는 “답답한 마음에 우리 로펌을 찾은 피해자들을 '\n",
      " '비교적 낮은 수임료를 받고 지원했다. 사모펀드 관련 소송에서 처음으로 전액 반환 결정을 받아낸 의미 있는 사건이라고 자평한다”고 말했다. '\n",
      " '엘케이비는 사모펀드 시장 규모가 커지는 데 발맞춰 자본시장법(자본시장과 금융투자업에 관한 법률) 관련 서비스를 확충하고 있다. '\n",
      " '서울중앙지검 강력부장, 대검찰청 범죄정보기획관실 연구관 등 23년간 검사로 봉직한 김 변호사 등 전문가들이 주축이다. 김 변호사는 검사 '\n",
      " '시절 금융, 특수, 조직범죄, 마약 수사 등에서 두각을 나타낸 베테랑으로 영화 ‘공공의 적 2’ 주인공 검사의 실제 모델이기도 하다. '\n",
      " '엘케이비는 급변하는 금융시장에도 발 빠르게 대처하고 있다. 대표적 분야가 디지털 가상자산(암호화폐)시장이다. 국내 가상자산 거래량은 하루 '\n",
      " '21조 원 규모로 세계 3위 수준이다. 4차 산업혁명 시대의 총아라는 상찬과 실질 가치가 없는 투기라는 우려가 교차한다. 가상자산을 '\n",
      " '둘러싼 법적 분쟁도 많아지고 있다. 최근 관련 사건을 다수 맡은 장일혁 대표변호사(24기)는 “9월 24일부터 관련법(특정 금융거래정보의 '\n",
      " '보고 및 이용 등에 관한 법률 시행령 개정안)이 시행되면서 여러 소송이 벌어지고 있다. 손해를 본 개인투자자가 가상자산 상품을 영업한 '\n",
      " '이를 사기죄로 고소한 경우가 적잖다. 가상자산 발행인을 상대로는 손해배상 청구 소송이 많다”고 전했다. 장 변호사는 서울고등법원 판사, '\n",
      " '청주지방법원 제천지원장, 서울중앙지방법원 부장판사 등을 지냈다. 대학에서 지식재산권, 4차 산업혁명 분야의 법률 쟁점을 연구한 전문성을 '\n",
      " '바탕으로 가상자산시장 사건을 여럿 수임했다. 가상자산시장 규제에 따라 정보보호관리체계 인증, 은행 실명 입출금 계정을 얻은 4대 '\n",
      " '거래소(업비트, 빗썸, 코인원, 코빗) 말고는 과거처럼 원화로 코인을 매매하는 영업이 불가능해졌다. 기존에 거래소들이 투자자 유치에 '\n",
      " '활용한 ‘벌집계좌’(일반 법인계좌에 불특정 다수의 개인 계좌를 운영하는 것) 사용이 막힌 것이다. 장 변호사는 가상자산 관련 분쟁에서 '\n",
      " '시중은행 측을 대리해 이례적 승소를 이끌어냈다. 해당 사건에 대해 그는 다음과 같이 설명했다. 일부 부실 가상자산 거래소의 경우 투자금만 '\n",
      " '오갈 뿐 실제 코인이 없는 경우도 허다하다. 중남미 소국에 본사 주소만 둔 페이퍼 컴퍼니가 적잖다. 프로그램 개발은 우크라이나에서, '\n",
      " '판촉은 베트남에서 하는 식이다. 별도 영업팀을 꾸려 투자자에게 장밋빛 전망을 보여주기에 혹하기 쉽다. 불법 가상자산 거래는 형사적으로 '\n",
      " '대개 3가지 죄명이 적용될 수 있다. 형법상 사기죄, 방판법(방문판매 등에 관한 법률) 위반, 유사수신행위 혐의다. 이에 대해 장 '\n",
      " '변호사는 “국내 가상자산시장의 문제는 단기간에 많은 암호화폐가 생겼다는 점이다. 그중 일부는 과연 경제적 가치를 인정받을 수 있을지, '\n",
      " '사기는 아닌지 의심이 갈 정도”라며 “문제를 일으키는 부실 암호화폐는 사실상 불법 다단계 상품과 같다. 투자자에게 다시 영업을 맡겨 '\n",
      " '아랫돌을 빼 윗돌을 괴는 식으로 운영한다”며 주의를 당부했다. 9월 10일 서울 서초구 법무법인 엘케이비앤파트너스 사무실에서 '\n",
      " '‘자립준비청년’ 근로장학금 전달식이 열렸다. [사진 제공 · 엘케이비앤파트너스] 법무법인 엘케이비앤파트너스(엘케이비)는 장학금 전달 등 '\n",
      " '미래세대를 위한 공헌에 적극 나서고 있다. 9월 10일 엘케이비는 아동양육시설이나 공동생활가정에서 생활하다 자립을 앞둔 '\n",
      " '‘자립준비청년’(보호종료아동)을 위한 근로장학금 1100만 원을 국제구호개발 NGO(비정부기구) 기쁨나눔재단에 전달했다. 이 장학금은 '\n",
      " '일시적 금전 지원이 아닌, 자립준비청년이 직업훈련을 거쳐 사회 구성원으로 자립하는 데 쓰일 예정이다. 엘케이비 측은 향후 자립준비청년을 '\n",
      " '위한 지원을 이어갈 계획이다. 장학금 전달식에 참석한 장인종 대표변호사는 “자립준비청년 중에서도 특히 어려운 처지에 놓인 경계선 '\n",
      " '지적·지능 장애청년들에게 실질적인 도움을 줄 수 있도록 노력할 것”이라고 말했다. 엘케이비의 사회공헌 활동은 이번이 처음은 아니다. '\n",
      " '엘케이비는 아름다운재단을 통한 지역사회 자립 역량 지원사업, 자립준비청년 결연을 통한 멘토 활동에도 나선 바 있다.')\n"
     ]
    }
   ],
   "source": [
    "\n",
    "pprint.pprint(data.iloc[15,0])"
   ]
  },
  {
   "cell_type": "code",
   "execution_count": 18,
   "metadata": {
    "executionInfo": {
     "elapsed": 460,
     "status": "ok",
     "timestamp": 1722522484073,
     "user": {
      "displayName": "한두솔",
      "userId": "14744311692633150263"
     },
     "user_tz": -540
    },
    "id": "1C-qcw-tO00o"
   },
   "outputs": [],
   "source": [
    "# 필요 없는 경우: 질문을 잘 했을 때\n",
    "query_str = \"법인회생을 신청한 기업이 몇고이고, 2019년 대비 몇% 줄었어?\""
   ]
  },
  {
   "cell_type": "code",
   "execution_count": 19,
   "metadata": {
    "colab": {
     "base_uri": "https://localhost:8080/",
     "height": 46
    },
    "executionInfo": {
     "elapsed": 1698,
     "status": "ok",
     "timestamp": 1722522488119,
     "user": {
      "displayName": "한두솔",
      "userId": "14744311692633150263"
     },
     "user_tz": -540
    },
    "id": "IjVwiWO5O00o",
    "outputId": "b1893d8b-bb54-4815-ec92-58c81e37803c"
   },
   "outputs": [
    {
     "name": "stdout",
     "output_type": "stream",
     "text": [
      "INFO:httpx:HTTP Request: POST https://api.openai.com/v1/embeddings \"HTTP/1.1 200 OK\"\n",
      "HTTP Request: POST https://api.openai.com/v1/embeddings \"HTTP/1.1 200 OK\"\n",
      "INFO:httpx:HTTP Request: POST https://api.openai.com/v1/chat/completions \"HTTP/1.1 200 OK\"\n",
      "HTTP Request: POST https://api.openai.com/v1/chat/completions \"HTTP/1.1 200 OK\"\n"
     ]
    },
    {
     "data": {
      "text/markdown": [
       "법인회생을 신청한 기업은 892곳이며, 2019년 대비 11% 줄었습니다."
      ],
      "text/plain": [
       "<IPython.core.display.Markdown object>"
      ]
     },
     "metadata": {},
     "output_type": "display_data"
    }
   ],
   "source": [
    "query_engine = index.as_query_engine()\n",
    "response = query_engine.query(query_str)\n",
    "display(Markdown(f\"{response}\"))"
   ]
  },
  {
   "cell_type": "code",
   "execution_count": 20,
   "metadata": {
    "colab": {
     "base_uri": "https://localhost:8080/",
     "height": 46
    },
    "executionInfo": {
     "elapsed": 6173,
     "status": "ok",
     "timestamp": 1722522498503,
     "user": {
      "displayName": "한두솔",
      "userId": "14744311692633150263"
     },
     "user_tz": -540
    },
    "id": "3WYUOyzyO00p",
    "outputId": "999efc11-e55c-480a-e6de-7cd8f1d9756f"
   },
   "outputs": [
    {
     "name": "stdout",
     "output_type": "stream",
     "text": [
      "INFO:httpx:HTTP Request: POST https://api.openai.com/v1/chat/completions \"HTTP/1.1 200 OK\"\n",
      "HTTP Request: POST https://api.openai.com/v1/chat/completions \"HTTP/1.1 200 OK\"\n",
      "INFO:httpx:HTTP Request: POST https://api.openai.com/v1/embeddings \"HTTP/1.1 200 OK\"\n",
      "HTTP Request: POST https://api.openai.com/v1/embeddings \"HTTP/1.1 200 OK\"\n",
      "INFO:httpx:HTTP Request: POST https://api.openai.com/v1/embeddings \"HTTP/1.1 200 OK\"\n",
      "HTTP Request: POST https://api.openai.com/v1/embeddings \"HTTP/1.1 200 OK\"\n",
      "INFO:httpx:HTTP Request: POST https://api.openai.com/v1/chat/completions \"HTTP/1.1 200 OK\"\n",
      "HTTP Request: POST https://api.openai.com/v1/chat/completions \"HTTP/1.1 200 OK\"\n"
     ]
    },
    {
     "data": {
      "text/markdown": [
       "법인회생을 신청한 기업은 892곳이며, 2019년 대비 11% 줄었습니다."
      ],
      "text/plain": [
       "<IPython.core.display.Markdown object>"
      ]
     },
     "metadata": {},
     "output_type": "display_data"
    }
   ],
   "source": [
    "hyde = HyDEQueryTransform(include_original=True)\n",
    "hyde_query_engine = TransformQueryEngine(query_engine, hyde)\n",
    "response = hyde_query_engine.query(query_str)\n",
    "display(Markdown(f\"{response}\"))"
   ]
  },
  {
   "cell_type": "code",
   "execution_count": 21,
   "metadata": {
    "colab": {
     "base_uri": "https://localhost:8080/",
     "height": 69
    },
    "executionInfo": {
     "elapsed": 3418,
     "status": "ok",
     "timestamp": 1722522525470,
     "user": {
      "displayName": "한두솔",
      "userId": "14744311692633150263"
     },
     "user_tz": -540
    },
    "id": "bFksoelbO00p",
    "outputId": "8733c493-22d1-4b5c-abd4-9de2859b6b77"
   },
   "outputs": [
    {
     "name": "stdout",
     "output_type": "stream",
     "text": [
      "INFO:httpx:HTTP Request: POST https://api.openai.com/v1/chat/completions \"HTTP/1.1 200 OK\"\n",
      "HTTP Request: POST https://api.openai.com/v1/chat/completions \"HTTP/1.1 200 OK\"\n"
     ]
    },
    {
     "data": {
      "text/plain": [
       "'법인회생을 신청한 기업의 수는 2023년 기준으로 약 1,200건에 이르며, 이는 2019년에 비해 약 30% 감소한 수치입니다. 2019년에는 약 1,700건의 법인회생 신청이 있었으나, 이후 경제 회복과 정부의 지원 정책, 그리고 기업들의 경영 개선 노력 등이 맞물리면서 신청 건수가 줄어들었습니다. 특히, 코로나19 팬데믹 이후 많은 기업들이 어려움을 겪었지만, 정부의 재정 지원과 다양한 구조조정 프로그램이 효과를 발휘하여 법인회생 신청이 감소하는 추세를 보이고 있습니다. 이러한 변화는 기업들이 보다 안정적인 경영 환경을 구축하고 있다는 긍정적인 신호로 해석될 수 있습니다.'"
      ]
     },
     "execution_count": 21,
     "metadata": {},
     "output_type": "execute_result"
    }
   ],
   "source": [
    "# HyDE로 생성된 가상의 문서 확인\n",
    "query_bundle = hyde(query_str)\n",
    "hyde_doc = query_bundle.embedding_strs[0]\n",
    "hyde_doc"
   ]
  },
  {
   "cell_type": "code",
   "execution_count": null,
   "metadata": {
    "id": "hVCzAYLCWv9J"
   },
   "outputs": [],
   "source": []
  }
 ],
 "metadata": {
  "colab": {
   "provenance": []
  },
  "kernelspec": {
   "display_name": ".venv",
   "language": "python",
   "name": "python3"
  },
  "language_info": {
   "codemirror_mode": {
    "name": "ipython",
    "version": 3
   },
   "file_extension": ".py",
   "mimetype": "text/x-python",
   "name": "python",
   "nbconvert_exporter": "python",
   "pygments_lexer": "ipython3",
   "version": "3.11.6"
  },
  "widgets": {
   "application/vnd.jupyter.widget-state+json": {
    "018302744ce645db85b227ef3971678c": {
     "model_module": "@jupyter-widgets/controls",
     "model_module_version": "1.5.0",
     "model_name": "HTMLModel",
     "state": {
      "_dom_classes": [],
      "_model_module": "@jupyter-widgets/controls",
      "_model_module_version": "1.5.0",
      "_model_name": "HTMLModel",
      "_view_count": null,
      "_view_module": "@jupyter-widgets/controls",
      "_view_module_version": "1.5.0",
      "_view_name": "HTMLView",
      "description": "",
      "description_tooltip": null,
      "layout": "IPY_MODEL_ceb4a1cd67c6478180d981d2144965ac",
      "placeholder": "​",
      "style": "IPY_MODEL_bd322e8aac034032a333fe0f38cefc6c",
      "value": " 1284879/1284879 [01:40&lt;00:00, 14671.31 examples/s]"
     }
    },
    "0e97912d33944fb983de1c9387a914d7": {
     "model_module": "@jupyter-widgets/base",
     "model_module_version": "1.2.0",
     "model_name": "LayoutModel",
     "state": {
      "_model_module": "@jupyter-widgets/base",
      "_model_module_version": "1.2.0",
      "_model_name": "LayoutModel",
      "_view_count": null,
      "_view_module": "@jupyter-widgets/base",
      "_view_module_version": "1.2.0",
      "_view_name": "LayoutView",
      "align_content": null,
      "align_items": null,
      "align_self": null,
      "border": null,
      "bottom": null,
      "display": null,
      "flex": null,
      "flex_flow": null,
      "grid_area": null,
      "grid_auto_columns": null,
      "grid_auto_flow": null,
      "grid_auto_rows": null,
      "grid_column": null,
      "grid_gap": null,
      "grid_row": null,
      "grid_template_areas": null,
      "grid_template_columns": null,
      "grid_template_rows": null,
      "height": null,
      "justify_content": null,
      "justify_items": null,
      "left": null,
      "margin": null,
      "max_height": null,
      "max_width": null,
      "min_height": null,
      "min_width": null,
      "object_fit": null,
      "object_position": null,
      "order": null,
      "overflow": null,
      "overflow_x": null,
      "overflow_y": null,
      "padding": null,
      "right": null,
      "top": null,
      "visibility": null,
      "width": null
     }
    },
    "13cb5d86d37f4bb4bfab3cc3baf6d9c4": {
     "model_module": "@jupyter-widgets/controls",
     "model_module_version": "1.5.0",
     "model_name": "HTMLModel",
     "state": {
      "_dom_classes": [],
      "_model_module": "@jupyter-widgets/controls",
      "_model_module_version": "1.5.0",
      "_model_name": "HTMLModel",
      "_view_count": null,
      "_view_module": "@jupyter-widgets/controls",
      "_view_module_version": "1.5.0",
      "_view_name": "HTMLView",
      "description": "",
      "description_tooltip": null,
      "layout": "IPY_MODEL_40a6e53745cb4bdeb52093fc3b4665c0",
      "placeholder": "​",
      "style": "IPY_MODEL_2c05fff3f937486ca9bff6f0f2f3a508",
      "value": " 18/18 [03:02&lt;00:00,  8.36s/files]"
     }
    },
    "18e8af20098449679a144983774da7dc": {
     "model_module": "@jupyter-widgets/base",
     "model_module_version": "1.2.0",
     "model_name": "LayoutModel",
     "state": {
      "_model_module": "@jupyter-widgets/base",
      "_model_module_version": "1.2.0",
      "_model_name": "LayoutModel",
      "_view_count": null,
      "_view_module": "@jupyter-widgets/base",
      "_view_module_version": "1.2.0",
      "_view_name": "LayoutView",
      "align_content": null,
      "align_items": null,
      "align_self": null,
      "border": null,
      "bottom": null,
      "display": null,
      "flex": null,
      "flex_flow": null,
      "grid_area": null,
      "grid_auto_columns": null,
      "grid_auto_flow": null,
      "grid_auto_rows": null,
      "grid_column": null,
      "grid_gap": null,
      "grid_row": null,
      "grid_template_areas": null,
      "grid_template_columns": null,
      "grid_template_rows": null,
      "height": null,
      "justify_content": null,
      "justify_items": null,
      "left": null,
      "margin": null,
      "max_height": null,
      "max_width": null,
      "min_height": null,
      "min_width": null,
      "object_fit": null,
      "object_position": null,
      "order": null,
      "overflow": null,
      "overflow_x": null,
      "overflow_y": null,
      "padding": null,
      "right": null,
      "top": null,
      "visibility": null,
      "width": null
     }
    },
    "1c24484563cb4acabc4051b9b2f08d5a": {
     "model_module": "@jupyter-widgets/controls",
     "model_module_version": "1.5.0",
     "model_name": "HBoxModel",
     "state": {
      "_dom_classes": [],
      "_model_module": "@jupyter-widgets/controls",
      "_model_module_version": "1.5.0",
      "_model_name": "HBoxModel",
      "_view_count": null,
      "_view_module": "@jupyter-widgets/controls",
      "_view_module_version": "1.5.0",
      "_view_name": "HBoxView",
      "box_style": "",
      "children": [
       "IPY_MODEL_39ccd364d8d1404bb2237d1a29252466",
       "IPY_MODEL_e01b5daf68664f1b86719c2e4b6043ef",
       "IPY_MODEL_018302744ce645db85b227ef3971678c"
      ],
      "layout": "IPY_MODEL_0e97912d33944fb983de1c9387a914d7"
     }
    },
    "2108319fb4be42ffa56ab40407a8634c": {
     "model_module": "@jupyter-widgets/controls",
     "model_module_version": "1.5.0",
     "model_name": "HTMLModel",
     "state": {
      "_dom_classes": [],
      "_model_module": "@jupyter-widgets/controls",
      "_model_module_version": "1.5.0",
      "_model_name": "HTMLModel",
      "_view_count": null,
      "_view_module": "@jupyter-widgets/controls",
      "_view_module_version": "1.5.0",
      "_view_name": "HTMLView",
      "description": "",
      "description_tooltip": null,
      "layout": "IPY_MODEL_c0e0ea4f5a55461ca74c619b0e06b4e9",
      "placeholder": "​",
      "style": "IPY_MODEL_57547682f1744a97829624cf9999a832",
      "value": "Resolving data files: 100%"
     }
    },
    "22f4cb3b49ae4f61a0f370d4791ca094": {
     "model_module": "@jupyter-widgets/controls",
     "model_module_version": "1.5.0",
     "model_name": "DescriptionStyleModel",
     "state": {
      "_model_module": "@jupyter-widgets/controls",
      "_model_module_version": "1.5.0",
      "_model_name": "DescriptionStyleModel",
      "_view_count": null,
      "_view_module": "@jupyter-widgets/base",
      "_view_module_version": "1.2.0",
      "_view_name": "StyleView",
      "description_width": ""
     }
    },
    "28f951239db94937916f9dcb13f0dead": {
     "model_module": "@jupyter-widgets/base",
     "model_module_version": "1.2.0",
     "model_name": "LayoutModel",
     "state": {
      "_model_module": "@jupyter-widgets/base",
      "_model_module_version": "1.2.0",
      "_model_name": "LayoutModel",
      "_view_count": null,
      "_view_module": "@jupyter-widgets/base",
      "_view_module_version": "1.2.0",
      "_view_name": "LayoutView",
      "align_content": null,
      "align_items": null,
      "align_self": null,
      "border": null,
      "bottom": null,
      "display": null,
      "flex": null,
      "flex_flow": null,
      "grid_area": null,
      "grid_auto_columns": null,
      "grid_auto_flow": null,
      "grid_auto_rows": null,
      "grid_column": null,
      "grid_gap": null,
      "grid_row": null,
      "grid_template_areas": null,
      "grid_template_columns": null,
      "grid_template_rows": null,
      "height": null,
      "justify_content": null,
      "justify_items": null,
      "left": null,
      "margin": null,
      "max_height": null,
      "max_width": null,
      "min_height": null,
      "min_width": null,
      "object_fit": null,
      "object_position": null,
      "order": null,
      "overflow": null,
      "overflow_x": null,
      "overflow_y": null,
      "padding": null,
      "right": null,
      "top": null,
      "visibility": null,
      "width": null
     }
    },
    "2c05fff3f937486ca9bff6f0f2f3a508": {
     "model_module": "@jupyter-widgets/controls",
     "model_module_version": "1.5.0",
     "model_name": "DescriptionStyleModel",
     "state": {
      "_model_module": "@jupyter-widgets/controls",
      "_model_module_version": "1.5.0",
      "_model_name": "DescriptionStyleModel",
      "_view_count": null,
      "_view_module": "@jupyter-widgets/base",
      "_view_module_version": "1.2.0",
      "_view_name": "StyleView",
      "description_width": ""
     }
    },
    "34007c76bde145ac9a3728eef0e2ff9b": {
     "model_module": "@jupyter-widgets/controls",
     "model_module_version": "1.5.0",
     "model_name": "ProgressStyleModel",
     "state": {
      "_model_module": "@jupyter-widgets/controls",
      "_model_module_version": "1.5.0",
      "_model_name": "ProgressStyleModel",
      "_view_count": null,
      "_view_module": "@jupyter-widgets/base",
      "_view_module_version": "1.2.0",
      "_view_name": "StyleView",
      "bar_color": null,
      "description_width": ""
     }
    },
    "345d794c4390413598c6aed57e6e02b7": {
     "model_module": "@jupyter-widgets/base",
     "model_module_version": "1.2.0",
     "model_name": "LayoutModel",
     "state": {
      "_model_module": "@jupyter-widgets/base",
      "_model_module_version": "1.2.0",
      "_model_name": "LayoutModel",
      "_view_count": null,
      "_view_module": "@jupyter-widgets/base",
      "_view_module_version": "1.2.0",
      "_view_name": "LayoutView",
      "align_content": null,
      "align_items": null,
      "align_self": null,
      "border": null,
      "bottom": null,
      "display": null,
      "flex": null,
      "flex_flow": null,
      "grid_area": null,
      "grid_auto_columns": null,
      "grid_auto_flow": null,
      "grid_auto_rows": null,
      "grid_column": null,
      "grid_gap": null,
      "grid_row": null,
      "grid_template_areas": null,
      "grid_template_columns": null,
      "grid_template_rows": null,
      "height": null,
      "justify_content": null,
      "justify_items": null,
      "left": null,
      "margin": null,
      "max_height": null,
      "max_width": null,
      "min_height": null,
      "min_width": null,
      "object_fit": null,
      "object_position": null,
      "order": null,
      "overflow": null,
      "overflow_x": null,
      "overflow_y": null,
      "padding": null,
      "right": null,
      "top": null,
      "visibility": null,
      "width": null
     }
    },
    "346c9833465a41888dad1615db635138": {
     "model_module": "@jupyter-widgets/controls",
     "model_module_version": "1.5.0",
     "model_name": "DescriptionStyleModel",
     "state": {
      "_model_module": "@jupyter-widgets/controls",
      "_model_module_version": "1.5.0",
      "_model_name": "DescriptionStyleModel",
      "_view_count": null,
      "_view_module": "@jupyter-widgets/base",
      "_view_module_version": "1.2.0",
      "_view_name": "StyleView",
      "description_width": ""
     }
    },
    "374ebd75bf8a4b7493f74cd08b7cdc2c": {
     "model_module": "@jupyter-widgets/controls",
     "model_module_version": "1.5.0",
     "model_name": "FloatProgressModel",
     "state": {
      "_dom_classes": [],
      "_model_module": "@jupyter-widgets/controls",
      "_model_module_version": "1.5.0",
      "_model_name": "FloatProgressModel",
      "_view_count": null,
      "_view_module": "@jupyter-widgets/controls",
      "_view_module_version": "1.5.0",
      "_view_name": "ProgressView",
      "bar_style": "success",
      "description": "",
      "description_tooltip": null,
      "layout": "IPY_MODEL_c7fa40ddccdf4278afe5e460009b722c",
      "max": 3055,
      "min": 0,
      "orientation": "horizontal",
      "style": "IPY_MODEL_68d6cf8f872d436382d639f50886c035",
      "value": 3055
     }
    },
    "39ccd364d8d1404bb2237d1a29252466": {
     "model_module": "@jupyter-widgets/controls",
     "model_module_version": "1.5.0",
     "model_name": "HTMLModel",
     "state": {
      "_dom_classes": [],
      "_model_module": "@jupyter-widgets/controls",
      "_model_module_version": "1.5.0",
      "_model_name": "HTMLModel",
      "_view_count": null,
      "_view_module": "@jupyter-widgets/controls",
      "_view_module_version": "1.5.0",
      "_view_name": "HTMLView",
      "description": "",
      "description_tooltip": null,
      "layout": "IPY_MODEL_345d794c4390413598c6aed57e6e02b7",
      "placeholder": "​",
      "style": "IPY_MODEL_a7deb334960545c698e19b0813ac09a9",
      "value": "Generating train split: 100%"
     }
    },
    "40a6e53745cb4bdeb52093fc3b4665c0": {
     "model_module": "@jupyter-widgets/base",
     "model_module_version": "1.2.0",
     "model_name": "LayoutModel",
     "state": {
      "_model_module": "@jupyter-widgets/base",
      "_model_module_version": "1.2.0",
      "_model_name": "LayoutModel",
      "_view_count": null,
      "_view_module": "@jupyter-widgets/base",
      "_view_module_version": "1.2.0",
      "_view_name": "LayoutView",
      "align_content": null,
      "align_items": null,
      "align_self": null,
      "border": null,
      "bottom": null,
      "display": null,
      "flex": null,
      "flex_flow": null,
      "grid_area": null,
      "grid_auto_columns": null,
      "grid_auto_flow": null,
      "grid_auto_rows": null,
      "grid_column": null,
      "grid_gap": null,
      "grid_row": null,
      "grid_template_areas": null,
      "grid_template_columns": null,
      "grid_template_rows": null,
      "height": null,
      "justify_content": null,
      "justify_items": null,
      "left": null,
      "margin": null,
      "max_height": null,
      "max_width": null,
      "min_height": null,
      "min_width": null,
      "object_fit": null,
      "object_position": null,
      "order": null,
      "overflow": null,
      "overflow_x": null,
      "overflow_y": null,
      "padding": null,
      "right": null,
      "top": null,
      "visibility": null,
      "width": null
     }
    },
    "4209c313dcaa43ba84215545e633746c": {
     "model_module": "@jupyter-widgets/controls",
     "model_module_version": "1.5.0",
     "model_name": "ProgressStyleModel",
     "state": {
      "_model_module": "@jupyter-widgets/controls",
      "_model_module_version": "1.5.0",
      "_model_name": "ProgressStyleModel",
      "_view_count": null,
      "_view_module": "@jupyter-widgets/base",
      "_view_module_version": "1.2.0",
      "_view_name": "StyleView",
      "bar_color": null,
      "description_width": ""
     }
    },
    "4286d47549af4211acbf4094ec9b1927": {
     "model_module": "@jupyter-widgets/controls",
     "model_module_version": "1.5.0",
     "model_name": "DescriptionStyleModel",
     "state": {
      "_model_module": "@jupyter-widgets/controls",
      "_model_module_version": "1.5.0",
      "_model_name": "DescriptionStyleModel",
      "_view_count": null,
      "_view_module": "@jupyter-widgets/base",
      "_view_module_version": "1.2.0",
      "_view_name": "StyleView",
      "description_width": ""
     }
    },
    "4d99e3c650ea486b97467059379ceeb4": {
     "model_module": "@jupyter-widgets/controls",
     "model_module_version": "1.5.0",
     "model_name": "DescriptionStyleModel",
     "state": {
      "_model_module": "@jupyter-widgets/controls",
      "_model_module_version": "1.5.0",
      "_model_name": "DescriptionStyleModel",
      "_view_count": null,
      "_view_module": "@jupyter-widgets/base",
      "_view_module_version": "1.2.0",
      "_view_name": "StyleView",
      "description_width": ""
     }
    },
    "4f13efc25ae84e02a148912370ca4bf7": {
     "model_module": "@jupyter-widgets/base",
     "model_module_version": "1.2.0",
     "model_name": "LayoutModel",
     "state": {
      "_model_module": "@jupyter-widgets/base",
      "_model_module_version": "1.2.0",
      "_model_name": "LayoutModel",
      "_view_count": null,
      "_view_module": "@jupyter-widgets/base",
      "_view_module_version": "1.2.0",
      "_view_name": "LayoutView",
      "align_content": null,
      "align_items": null,
      "align_self": null,
      "border": null,
      "bottom": null,
      "display": null,
      "flex": null,
      "flex_flow": null,
      "grid_area": null,
      "grid_auto_columns": null,
      "grid_auto_flow": null,
      "grid_auto_rows": null,
      "grid_column": null,
      "grid_gap": null,
      "grid_row": null,
      "grid_template_areas": null,
      "grid_template_columns": null,
      "grid_template_rows": null,
      "height": null,
      "justify_content": null,
      "justify_items": null,
      "left": null,
      "margin": null,
      "max_height": null,
      "max_width": null,
      "min_height": null,
      "min_width": null,
      "object_fit": null,
      "object_position": null,
      "order": null,
      "overflow": null,
      "overflow_x": null,
      "overflow_y": null,
      "padding": null,
      "right": null,
      "top": null,
      "visibility": null,
      "width": null
     }
    },
    "4f60a127f17046a5a32a98f36db17948": {
     "model_module": "@jupyter-widgets/base",
     "model_module_version": "1.2.0",
     "model_name": "LayoutModel",
     "state": {
      "_model_module": "@jupyter-widgets/base",
      "_model_module_version": "1.2.0",
      "_model_name": "LayoutModel",
      "_view_count": null,
      "_view_module": "@jupyter-widgets/base",
      "_view_module_version": "1.2.0",
      "_view_name": "LayoutView",
      "align_content": null,
      "align_items": null,
      "align_self": null,
      "border": null,
      "bottom": null,
      "display": null,
      "flex": null,
      "flex_flow": null,
      "grid_area": null,
      "grid_auto_columns": null,
      "grid_auto_flow": null,
      "grid_auto_rows": null,
      "grid_column": null,
      "grid_gap": null,
      "grid_row": null,
      "grid_template_areas": null,
      "grid_template_columns": null,
      "grid_template_rows": null,
      "height": null,
      "justify_content": null,
      "justify_items": null,
      "left": null,
      "margin": null,
      "max_height": null,
      "max_width": null,
      "min_height": null,
      "min_width": null,
      "object_fit": null,
      "object_position": null,
      "order": null,
      "overflow": null,
      "overflow_x": null,
      "overflow_y": null,
      "padding": null,
      "right": null,
      "top": null,
      "visibility": null,
      "width": null
     }
    },
    "57547682f1744a97829624cf9999a832": {
     "model_module": "@jupyter-widgets/controls",
     "model_module_version": "1.5.0",
     "model_name": "DescriptionStyleModel",
     "state": {
      "_model_module": "@jupyter-widgets/controls",
      "_model_module_version": "1.5.0",
      "_model_name": "DescriptionStyleModel",
      "_view_count": null,
      "_view_module": "@jupyter-widgets/base",
      "_view_module_version": "1.2.0",
      "_view_name": "StyleView",
      "description_width": ""
     }
    },
    "5906bb581ed34fd48dfeb38c79e758c6": {
     "model_module": "@jupyter-widgets/controls",
     "model_module_version": "1.5.0",
     "model_name": "HBoxModel",
     "state": {
      "_dom_classes": [],
      "_model_module": "@jupyter-widgets/controls",
      "_model_module_version": "1.5.0",
      "_model_name": "HBoxModel",
      "_view_count": null,
      "_view_module": "@jupyter-widgets/controls",
      "_view_module_version": "1.5.0",
      "_view_name": "HBoxView",
      "box_style": "",
      "children": [
       "IPY_MODEL_69c011f3e69e4494a06c8e71828ac9bd",
       "IPY_MODEL_b61c40d604094034ac296d83d20eccc2",
       "IPY_MODEL_976c000d635440c396894395fa5e3189"
      ],
      "layout": "IPY_MODEL_4f60a127f17046a5a32a98f36db17948"
     }
    },
    "5fb10d01f72f422bb43d68aa6c555895": {
     "model_module": "@jupyter-widgets/controls",
     "model_module_version": "1.5.0",
     "model_name": "HTMLModel",
     "state": {
      "_dom_classes": [],
      "_model_module": "@jupyter-widgets/controls",
      "_model_module_version": "1.5.0",
      "_model_name": "HTMLModel",
      "_view_count": null,
      "_view_module": "@jupyter-widgets/controls",
      "_view_module_version": "1.5.0",
      "_view_name": "HTMLView",
      "description": "",
      "description_tooltip": null,
      "layout": "IPY_MODEL_c66f0d9058e54a9db9607ede54d8cd20",
      "placeholder": "​",
      "style": "IPY_MODEL_a883de37021841f08aedb6380b7f393c",
      "value": " 18/18 [00:00&lt;00:00, 998.46it/s]"
     }
    },
    "61b70751118e4b32bbcdb148eb6e9d5e": {
     "model_module": "@jupyter-widgets/controls",
     "model_module_version": "1.5.0",
     "model_name": "ProgressStyleModel",
     "state": {
      "_model_module": "@jupyter-widgets/controls",
      "_model_module_version": "1.5.0",
      "_model_name": "ProgressStyleModel",
      "_view_count": null,
      "_view_module": "@jupyter-widgets/base",
      "_view_module_version": "1.2.0",
      "_view_name": "StyleView",
      "bar_color": null,
      "description_width": ""
     }
    },
    "678c8ded4874481f82aa34aad4e62490": {
     "model_module": "@jupyter-widgets/controls",
     "model_module_version": "1.5.0",
     "model_name": "HBoxModel",
     "state": {
      "_dom_classes": [],
      "_model_module": "@jupyter-widgets/controls",
      "_model_module_version": "1.5.0",
      "_model_name": "HBoxModel",
      "_view_count": null,
      "_view_module": "@jupyter-widgets/controls",
      "_view_module_version": "1.5.0",
      "_view_name": "HBoxView",
      "box_style": "",
      "children": [
       "IPY_MODEL_2108319fb4be42ffa56ab40407a8634c",
       "IPY_MODEL_a2407bb37a2341e08d78876229d09347",
       "IPY_MODEL_5fb10d01f72f422bb43d68aa6c555895"
      ],
      "layout": "IPY_MODEL_4f13efc25ae84e02a148912370ca4bf7"
     }
    },
    "68d6cf8f872d436382d639f50886c035": {
     "model_module": "@jupyter-widgets/controls",
     "model_module_version": "1.5.0",
     "model_name": "ProgressStyleModel",
     "state": {
      "_model_module": "@jupyter-widgets/controls",
      "_model_module_version": "1.5.0",
      "_model_name": "ProgressStyleModel",
      "_view_count": null,
      "_view_module": "@jupyter-widgets/base",
      "_view_module_version": "1.2.0",
      "_view_name": "StyleView",
      "bar_color": null,
      "description_width": ""
     }
    },
    "69c011f3e69e4494a06c8e71828ac9bd": {
     "model_module": "@jupyter-widgets/controls",
     "model_module_version": "1.5.0",
     "model_name": "HTMLModel",
     "state": {
      "_dom_classes": [],
      "_model_module": "@jupyter-widgets/controls",
      "_model_module_version": "1.5.0",
      "_model_name": "HTMLModel",
      "_view_count": null,
      "_view_module": "@jupyter-widgets/controls",
      "_view_module_version": "1.5.0",
      "_view_name": "HTMLView",
      "description": "",
      "description_tooltip": null,
      "layout": "IPY_MODEL_28f951239db94937916f9dcb13f0dead",
      "placeholder": "​",
      "style": "IPY_MODEL_9de9b2d6b68b4e14bb66cda7dbe27c84",
      "value": "Resolving data files: 100%"
     }
    },
    "6e6527c5fbe34ed9bbf5b76adf643bb3": {
     "model_module": "@jupyter-widgets/controls",
     "model_module_version": "1.5.0",
     "model_name": "HBoxModel",
     "state": {
      "_dom_classes": [],
      "_model_module": "@jupyter-widgets/controls",
      "_model_module_version": "1.5.0",
      "_model_name": "HBoxModel",
      "_view_count": null,
      "_view_module": "@jupyter-widgets/controls",
      "_view_module_version": "1.5.0",
      "_view_name": "HBoxView",
      "box_style": "",
      "children": [
       "IPY_MODEL_cda4be095e0c4f698b31a89ebec8d08b",
       "IPY_MODEL_374ebd75bf8a4b7493f74cd08b7cdc2c",
       "IPY_MODEL_b24b556111864f1e82f2a7210f94f917"
      ],
      "layout": "IPY_MODEL_9d88719a82d647b8bacf5e77a83cd411"
     }
    },
    "6fe586a47beb4956a13c5d46181e9c29": {
     "model_module": "@jupyter-widgets/base",
     "model_module_version": "1.2.0",
     "model_name": "LayoutModel",
     "state": {
      "_model_module": "@jupyter-widgets/base",
      "_model_module_version": "1.2.0",
      "_model_name": "LayoutModel",
      "_view_count": null,
      "_view_module": "@jupyter-widgets/base",
      "_view_module_version": "1.2.0",
      "_view_name": "LayoutView",
      "align_content": null,
      "align_items": null,
      "align_self": null,
      "border": null,
      "bottom": null,
      "display": null,
      "flex": null,
      "flex_flow": null,
      "grid_area": null,
      "grid_auto_columns": null,
      "grid_auto_flow": null,
      "grid_auto_rows": null,
      "grid_column": null,
      "grid_gap": null,
      "grid_row": null,
      "grid_template_areas": null,
      "grid_template_columns": null,
      "grid_template_rows": null,
      "height": null,
      "justify_content": null,
      "justify_items": null,
      "left": null,
      "margin": null,
      "max_height": null,
      "max_width": null,
      "min_height": null,
      "min_width": null,
      "object_fit": null,
      "object_position": null,
      "order": null,
      "overflow": null,
      "overflow_x": null,
      "overflow_y": null,
      "padding": null,
      "right": null,
      "top": null,
      "visibility": null,
      "width": null
     }
    },
    "8602f0d892c64d40b1279c9a4f052831": {
     "model_module": "@jupyter-widgets/base",
     "model_module_version": "1.2.0",
     "model_name": "LayoutModel",
     "state": {
      "_model_module": "@jupyter-widgets/base",
      "_model_module_version": "1.2.0",
      "_model_name": "LayoutModel",
      "_view_count": null,
      "_view_module": "@jupyter-widgets/base",
      "_view_module_version": "1.2.0",
      "_view_name": "LayoutView",
      "align_content": null,
      "align_items": null,
      "align_self": null,
      "border": null,
      "bottom": null,
      "display": null,
      "flex": null,
      "flex_flow": null,
      "grid_area": null,
      "grid_auto_columns": null,
      "grid_auto_flow": null,
      "grid_auto_rows": null,
      "grid_column": null,
      "grid_gap": null,
      "grid_row": null,
      "grid_template_areas": null,
      "grid_template_columns": null,
      "grid_template_rows": null,
      "height": null,
      "justify_content": null,
      "justify_items": null,
      "left": null,
      "margin": null,
      "max_height": null,
      "max_width": null,
      "min_height": null,
      "min_width": null,
      "object_fit": null,
      "object_position": null,
      "order": null,
      "overflow": null,
      "overflow_x": null,
      "overflow_y": null,
      "padding": null,
      "right": null,
      "top": null,
      "visibility": null,
      "width": null
     }
    },
    "86c711a8e44a4ec2bdeb54178e2bc5b8": {
     "model_module": "@jupyter-widgets/base",
     "model_module_version": "1.2.0",
     "model_name": "LayoutModel",
     "state": {
      "_model_module": "@jupyter-widgets/base",
      "_model_module_version": "1.2.0",
      "_model_name": "LayoutModel",
      "_view_count": null,
      "_view_module": "@jupyter-widgets/base",
      "_view_module_version": "1.2.0",
      "_view_name": "LayoutView",
      "align_content": null,
      "align_items": null,
      "align_self": null,
      "border": null,
      "bottom": null,
      "display": null,
      "flex": null,
      "flex_flow": null,
      "grid_area": null,
      "grid_auto_columns": null,
      "grid_auto_flow": null,
      "grid_auto_rows": null,
      "grid_column": null,
      "grid_gap": null,
      "grid_row": null,
      "grid_template_areas": null,
      "grid_template_columns": null,
      "grid_template_rows": null,
      "height": null,
      "justify_content": null,
      "justify_items": null,
      "left": null,
      "margin": null,
      "max_height": null,
      "max_width": null,
      "min_height": null,
      "min_width": null,
      "object_fit": null,
      "object_position": null,
      "order": null,
      "overflow": null,
      "overflow_x": null,
      "overflow_y": null,
      "padding": null,
      "right": null,
      "top": null,
      "visibility": null,
      "width": null
     }
    },
    "8acc075c64d040ecbd475fc554c7d78f": {
     "model_module": "@jupyter-widgets/base",
     "model_module_version": "1.2.0",
     "model_name": "LayoutModel",
     "state": {
      "_model_module": "@jupyter-widgets/base",
      "_model_module_version": "1.2.0",
      "_model_name": "LayoutModel",
      "_view_count": null,
      "_view_module": "@jupyter-widgets/base",
      "_view_module_version": "1.2.0",
      "_view_name": "LayoutView",
      "align_content": null,
      "align_items": null,
      "align_self": null,
      "border": null,
      "bottom": null,
      "display": null,
      "flex": null,
      "flex_flow": null,
      "grid_area": null,
      "grid_auto_columns": null,
      "grid_auto_flow": null,
      "grid_auto_rows": null,
      "grid_column": null,
      "grid_gap": null,
      "grid_row": null,
      "grid_template_areas": null,
      "grid_template_columns": null,
      "grid_template_rows": null,
      "height": null,
      "justify_content": null,
      "justify_items": null,
      "left": null,
      "margin": null,
      "max_height": null,
      "max_width": null,
      "min_height": null,
      "min_width": null,
      "object_fit": null,
      "object_position": null,
      "order": null,
      "overflow": null,
      "overflow_x": null,
      "overflow_y": null,
      "padding": null,
      "right": null,
      "top": null,
      "visibility": null,
      "width": null
     }
    },
    "976c000d635440c396894395fa5e3189": {
     "model_module": "@jupyter-widgets/controls",
     "model_module_version": "1.5.0",
     "model_name": "HTMLModel",
     "state": {
      "_dom_classes": [],
      "_model_module": "@jupyter-widgets/controls",
      "_model_module_version": "1.5.0",
      "_model_name": "HTMLModel",
      "_view_count": null,
      "_view_module": "@jupyter-widgets/controls",
      "_view_module_version": "1.5.0",
      "_view_name": "HTMLView",
      "description": "",
      "description_tooltip": null,
      "layout": "IPY_MODEL_86c711a8e44a4ec2bdeb54178e2bc5b8",
      "placeholder": "​",
      "style": "IPY_MODEL_22f4cb3b49ae4f61a0f370d4791ca094",
      "value": " 18/18 [00:00&lt;00:00,  5.00it/s]"
     }
    },
    "98f86901c7f448f8a43509003637c10a": {
     "model_module": "@jupyter-widgets/base",
     "model_module_version": "1.2.0",
     "model_name": "LayoutModel",
     "state": {
      "_model_module": "@jupyter-widgets/base",
      "_model_module_version": "1.2.0",
      "_model_name": "LayoutModel",
      "_view_count": null,
      "_view_module": "@jupyter-widgets/base",
      "_view_module_version": "1.2.0",
      "_view_name": "LayoutView",
      "align_content": null,
      "align_items": null,
      "align_self": null,
      "border": null,
      "bottom": null,
      "display": null,
      "flex": null,
      "flex_flow": null,
      "grid_area": null,
      "grid_auto_columns": null,
      "grid_auto_flow": null,
      "grid_auto_rows": null,
      "grid_column": null,
      "grid_gap": null,
      "grid_row": null,
      "grid_template_areas": null,
      "grid_template_columns": null,
      "grid_template_rows": null,
      "height": null,
      "justify_content": null,
      "justify_items": null,
      "left": null,
      "margin": null,
      "max_height": null,
      "max_width": null,
      "min_height": null,
      "min_width": null,
      "object_fit": null,
      "object_position": null,
      "order": null,
      "overflow": null,
      "overflow_x": null,
      "overflow_y": null,
      "padding": null,
      "right": null,
      "top": null,
      "visibility": null,
      "width": null
     }
    },
    "9d88719a82d647b8bacf5e77a83cd411": {
     "model_module": "@jupyter-widgets/base",
     "model_module_version": "1.2.0",
     "model_name": "LayoutModel",
     "state": {
      "_model_module": "@jupyter-widgets/base",
      "_model_module_version": "1.2.0",
      "_model_name": "LayoutModel",
      "_view_count": null,
      "_view_module": "@jupyter-widgets/base",
      "_view_module_version": "1.2.0",
      "_view_name": "LayoutView",
      "align_content": null,
      "align_items": null,
      "align_self": null,
      "border": null,
      "bottom": null,
      "display": null,
      "flex": null,
      "flex_flow": null,
      "grid_area": null,
      "grid_auto_columns": null,
      "grid_auto_flow": null,
      "grid_auto_rows": null,
      "grid_column": null,
      "grid_gap": null,
      "grid_row": null,
      "grid_template_areas": null,
      "grid_template_columns": null,
      "grid_template_rows": null,
      "height": null,
      "justify_content": null,
      "justify_items": null,
      "left": null,
      "margin": null,
      "max_height": null,
      "max_width": null,
      "min_height": null,
      "min_width": null,
      "object_fit": null,
      "object_position": null,
      "order": null,
      "overflow": null,
      "overflow_x": null,
      "overflow_y": null,
      "padding": null,
      "right": null,
      "top": null,
      "visibility": null,
      "width": null
     }
    },
    "9de9b2d6b68b4e14bb66cda7dbe27c84": {
     "model_module": "@jupyter-widgets/controls",
     "model_module_version": "1.5.0",
     "model_name": "DescriptionStyleModel",
     "state": {
      "_model_module": "@jupyter-widgets/controls",
      "_model_module_version": "1.5.0",
      "_model_name": "DescriptionStyleModel",
      "_view_count": null,
      "_view_module": "@jupyter-widgets/base",
      "_view_module_version": "1.2.0",
      "_view_name": "StyleView",
      "description_width": ""
     }
    },
    "a2407bb37a2341e08d78876229d09347": {
     "model_module": "@jupyter-widgets/controls",
     "model_module_version": "1.5.0",
     "model_name": "FloatProgressModel",
     "state": {
      "_dom_classes": [],
      "_model_module": "@jupyter-widgets/controls",
      "_model_module_version": "1.5.0",
      "_model_name": "FloatProgressModel",
      "_view_count": null,
      "_view_module": "@jupyter-widgets/controls",
      "_view_module_version": "1.5.0",
      "_view_name": "ProgressView",
      "bar_style": "success",
      "description": "",
      "description_tooltip": null,
      "layout": "IPY_MODEL_8acc075c64d040ecbd475fc554c7d78f",
      "max": 18,
      "min": 0,
      "orientation": "horizontal",
      "style": "IPY_MODEL_34007c76bde145ac9a3728eef0e2ff9b",
      "value": 18
     }
    },
    "a7deb334960545c698e19b0813ac09a9": {
     "model_module": "@jupyter-widgets/controls",
     "model_module_version": "1.5.0",
     "model_name": "DescriptionStyleModel",
     "state": {
      "_model_module": "@jupyter-widgets/controls",
      "_model_module_version": "1.5.0",
      "_model_name": "DescriptionStyleModel",
      "_view_count": null,
      "_view_module": "@jupyter-widgets/base",
      "_view_module_version": "1.2.0",
      "_view_name": "StyleView",
      "description_width": ""
     }
    },
    "a883de37021841f08aedb6380b7f393c": {
     "model_module": "@jupyter-widgets/controls",
     "model_module_version": "1.5.0",
     "model_name": "DescriptionStyleModel",
     "state": {
      "_model_module": "@jupyter-widgets/controls",
      "_model_module_version": "1.5.0",
      "_model_name": "DescriptionStyleModel",
      "_view_count": null,
      "_view_module": "@jupyter-widgets/base",
      "_view_module_version": "1.2.0",
      "_view_name": "StyleView",
      "description_width": ""
     }
    },
    "ad7ca5ca19ae443c88238b3736455e3b": {
     "model_module": "@jupyter-widgets/controls",
     "model_module_version": "1.5.0",
     "model_name": "FloatProgressModel",
     "state": {
      "_dom_classes": [],
      "_model_module": "@jupyter-widgets/controls",
      "_model_module_version": "1.5.0",
      "_model_name": "FloatProgressModel",
      "_view_count": null,
      "_view_module": "@jupyter-widgets/controls",
      "_view_module_version": "1.5.0",
      "_view_name": "ProgressView",
      "bar_style": "success",
      "description": "",
      "description_tooltip": null,
      "layout": "IPY_MODEL_8602f0d892c64d40b1279c9a4f052831",
      "max": 18,
      "min": 0,
      "orientation": "horizontal",
      "style": "IPY_MODEL_4209c313dcaa43ba84215545e633746c",
      "value": 18
     }
    },
    "b24b556111864f1e82f2a7210f94f917": {
     "model_module": "@jupyter-widgets/controls",
     "model_module_version": "1.5.0",
     "model_name": "HTMLModel",
     "state": {
      "_dom_classes": [],
      "_model_module": "@jupyter-widgets/controls",
      "_model_module_version": "1.5.0",
      "_model_name": "HTMLModel",
      "_view_count": null,
      "_view_module": "@jupyter-widgets/controls",
      "_view_module_version": "1.5.0",
      "_view_name": "HTMLView",
      "description": "",
      "description_tooltip": null,
      "layout": "IPY_MODEL_b577c87d415e4e0dad87c0104d54a26f",
      "placeholder": "​",
      "style": "IPY_MODEL_346c9833465a41888dad1615db635138",
      "value": " 3.06k/3.06k [00:00&lt;00:00, 64.8kB/s]"
     }
    },
    "b577c87d415e4e0dad87c0104d54a26f": {
     "model_module": "@jupyter-widgets/base",
     "model_module_version": "1.2.0",
     "model_name": "LayoutModel",
     "state": {
      "_model_module": "@jupyter-widgets/base",
      "_model_module_version": "1.2.0",
      "_model_name": "LayoutModel",
      "_view_count": null,
      "_view_module": "@jupyter-widgets/base",
      "_view_module_version": "1.2.0",
      "_view_name": "LayoutView",
      "align_content": null,
      "align_items": null,
      "align_self": null,
      "border": null,
      "bottom": null,
      "display": null,
      "flex": null,
      "flex_flow": null,
      "grid_area": null,
      "grid_auto_columns": null,
      "grid_auto_flow": null,
      "grid_auto_rows": null,
      "grid_column": null,
      "grid_gap": null,
      "grid_row": null,
      "grid_template_areas": null,
      "grid_template_columns": null,
      "grid_template_rows": null,
      "height": null,
      "justify_content": null,
      "justify_items": null,
      "left": null,
      "margin": null,
      "max_height": null,
      "max_width": null,
      "min_height": null,
      "min_width": null,
      "object_fit": null,
      "object_position": null,
      "order": null,
      "overflow": null,
      "overflow_x": null,
      "overflow_y": null,
      "padding": null,
      "right": null,
      "top": null,
      "visibility": null,
      "width": null
     }
    },
    "b61c40d604094034ac296d83d20eccc2": {
     "model_module": "@jupyter-widgets/controls",
     "model_module_version": "1.5.0",
     "model_name": "FloatProgressModel",
     "state": {
      "_dom_classes": [],
      "_model_module": "@jupyter-widgets/controls",
      "_model_module_version": "1.5.0",
      "_model_name": "FloatProgressModel",
      "_view_count": null,
      "_view_module": "@jupyter-widgets/controls",
      "_view_module_version": "1.5.0",
      "_view_name": "ProgressView",
      "bar_style": "success",
      "description": "",
      "description_tooltip": null,
      "layout": "IPY_MODEL_18e8af20098449679a144983774da7dc",
      "max": 18,
      "min": 0,
      "orientation": "horizontal",
      "style": "IPY_MODEL_e21953a033a24285af6dfd810ac2dd40",
      "value": 18
     }
    },
    "b7657b9625f64f4499b94fe4fa06fcd4": {
     "model_module": "@jupyter-widgets/base",
     "model_module_version": "1.2.0",
     "model_name": "LayoutModel",
     "state": {
      "_model_module": "@jupyter-widgets/base",
      "_model_module_version": "1.2.0",
      "_model_name": "LayoutModel",
      "_view_count": null,
      "_view_module": "@jupyter-widgets/base",
      "_view_module_version": "1.2.0",
      "_view_name": "LayoutView",
      "align_content": null,
      "align_items": null,
      "align_self": null,
      "border": null,
      "bottom": null,
      "display": null,
      "flex": null,
      "flex_flow": null,
      "grid_area": null,
      "grid_auto_columns": null,
      "grid_auto_flow": null,
      "grid_auto_rows": null,
      "grid_column": null,
      "grid_gap": null,
      "grid_row": null,
      "grid_template_areas": null,
      "grid_template_columns": null,
      "grid_template_rows": null,
      "height": null,
      "justify_content": null,
      "justify_items": null,
      "left": null,
      "margin": null,
      "max_height": null,
      "max_width": null,
      "min_height": null,
      "min_width": null,
      "object_fit": null,
      "object_position": null,
      "order": null,
      "overflow": null,
      "overflow_x": null,
      "overflow_y": null,
      "padding": null,
      "right": null,
      "top": null,
      "visibility": null,
      "width": null
     }
    },
    "bd322e8aac034032a333fe0f38cefc6c": {
     "model_module": "@jupyter-widgets/controls",
     "model_module_version": "1.5.0",
     "model_name": "DescriptionStyleModel",
     "state": {
      "_model_module": "@jupyter-widgets/controls",
      "_model_module_version": "1.5.0",
      "_model_name": "DescriptionStyleModel",
      "_view_count": null,
      "_view_module": "@jupyter-widgets/base",
      "_view_module_version": "1.2.0",
      "_view_name": "StyleView",
      "description_width": ""
     }
    },
    "c0e0ea4f5a55461ca74c619b0e06b4e9": {
     "model_module": "@jupyter-widgets/base",
     "model_module_version": "1.2.0",
     "model_name": "LayoutModel",
     "state": {
      "_model_module": "@jupyter-widgets/base",
      "_model_module_version": "1.2.0",
      "_model_name": "LayoutModel",
      "_view_count": null,
      "_view_module": "@jupyter-widgets/base",
      "_view_module_version": "1.2.0",
      "_view_name": "LayoutView",
      "align_content": null,
      "align_items": null,
      "align_self": null,
      "border": null,
      "bottom": null,
      "display": null,
      "flex": null,
      "flex_flow": null,
      "grid_area": null,
      "grid_auto_columns": null,
      "grid_auto_flow": null,
      "grid_auto_rows": null,
      "grid_column": null,
      "grid_gap": null,
      "grid_row": null,
      "grid_template_areas": null,
      "grid_template_columns": null,
      "grid_template_rows": null,
      "height": null,
      "justify_content": null,
      "justify_items": null,
      "left": null,
      "margin": null,
      "max_height": null,
      "max_width": null,
      "min_height": null,
      "min_width": null,
      "object_fit": null,
      "object_position": null,
      "order": null,
      "overflow": null,
      "overflow_x": null,
      "overflow_y": null,
      "padding": null,
      "right": null,
      "top": null,
      "visibility": null,
      "width": null
     }
    },
    "c66f0d9058e54a9db9607ede54d8cd20": {
     "model_module": "@jupyter-widgets/base",
     "model_module_version": "1.2.0",
     "model_name": "LayoutModel",
     "state": {
      "_model_module": "@jupyter-widgets/base",
      "_model_module_version": "1.2.0",
      "_model_name": "LayoutModel",
      "_view_count": null,
      "_view_module": "@jupyter-widgets/base",
      "_view_module_version": "1.2.0",
      "_view_name": "LayoutView",
      "align_content": null,
      "align_items": null,
      "align_self": null,
      "border": null,
      "bottom": null,
      "display": null,
      "flex": null,
      "flex_flow": null,
      "grid_area": null,
      "grid_auto_columns": null,
      "grid_auto_flow": null,
      "grid_auto_rows": null,
      "grid_column": null,
      "grid_gap": null,
      "grid_row": null,
      "grid_template_areas": null,
      "grid_template_columns": null,
      "grid_template_rows": null,
      "height": null,
      "justify_content": null,
      "justify_items": null,
      "left": null,
      "margin": null,
      "max_height": null,
      "max_width": null,
      "min_height": null,
      "min_width": null,
      "object_fit": null,
      "object_position": null,
      "order": null,
      "overflow": null,
      "overflow_x": null,
      "overflow_y": null,
      "padding": null,
      "right": null,
      "top": null,
      "visibility": null,
      "width": null
     }
    },
    "c7bdd44e22a74abd80a30496bf9bc847": {
     "model_module": "@jupyter-widgets/base",
     "model_module_version": "1.2.0",
     "model_name": "LayoutModel",
     "state": {
      "_model_module": "@jupyter-widgets/base",
      "_model_module_version": "1.2.0",
      "_model_name": "LayoutModel",
      "_view_count": null,
      "_view_module": "@jupyter-widgets/base",
      "_view_module_version": "1.2.0",
      "_view_name": "LayoutView",
      "align_content": null,
      "align_items": null,
      "align_self": null,
      "border": null,
      "bottom": null,
      "display": null,
      "flex": null,
      "flex_flow": null,
      "grid_area": null,
      "grid_auto_columns": null,
      "grid_auto_flow": null,
      "grid_auto_rows": null,
      "grid_column": null,
      "grid_gap": null,
      "grid_row": null,
      "grid_template_areas": null,
      "grid_template_columns": null,
      "grid_template_rows": null,
      "height": null,
      "justify_content": null,
      "justify_items": null,
      "left": null,
      "margin": null,
      "max_height": null,
      "max_width": null,
      "min_height": null,
      "min_width": null,
      "object_fit": null,
      "object_position": null,
      "order": null,
      "overflow": null,
      "overflow_x": null,
      "overflow_y": null,
      "padding": null,
      "right": null,
      "top": null,
      "visibility": null,
      "width": null
     }
    },
    "c7fa40ddccdf4278afe5e460009b722c": {
     "model_module": "@jupyter-widgets/base",
     "model_module_version": "1.2.0",
     "model_name": "LayoutModel",
     "state": {
      "_model_module": "@jupyter-widgets/base",
      "_model_module_version": "1.2.0",
      "_model_name": "LayoutModel",
      "_view_count": null,
      "_view_module": "@jupyter-widgets/base",
      "_view_module_version": "1.2.0",
      "_view_name": "LayoutView",
      "align_content": null,
      "align_items": null,
      "align_self": null,
      "border": null,
      "bottom": null,
      "display": null,
      "flex": null,
      "flex_flow": null,
      "grid_area": null,
      "grid_auto_columns": null,
      "grid_auto_flow": null,
      "grid_auto_rows": null,
      "grid_column": null,
      "grid_gap": null,
      "grid_row": null,
      "grid_template_areas": null,
      "grid_template_columns": null,
      "grid_template_rows": null,
      "height": null,
      "justify_content": null,
      "justify_items": null,
      "left": null,
      "margin": null,
      "max_height": null,
      "max_width": null,
      "min_height": null,
      "min_width": null,
      "object_fit": null,
      "object_position": null,
      "order": null,
      "overflow": null,
      "overflow_x": null,
      "overflow_y": null,
      "padding": null,
      "right": null,
      "top": null,
      "visibility": null,
      "width": null
     }
    },
    "cda4be095e0c4f698b31a89ebec8d08b": {
     "model_module": "@jupyter-widgets/controls",
     "model_module_version": "1.5.0",
     "model_name": "HTMLModel",
     "state": {
      "_dom_classes": [],
      "_model_module": "@jupyter-widgets/controls",
      "_model_module_version": "1.5.0",
      "_model_name": "HTMLModel",
      "_view_count": null,
      "_view_module": "@jupyter-widgets/controls",
      "_view_module_version": "1.5.0",
      "_view_name": "HTMLView",
      "description": "",
      "description_tooltip": null,
      "layout": "IPY_MODEL_c7bdd44e22a74abd80a30496bf9bc847",
      "placeholder": "​",
      "style": "IPY_MODEL_4d99e3c650ea486b97467059379ceeb4",
      "value": "Downloading readme: 100%"
     }
    },
    "ceb4a1cd67c6478180d981d2144965ac": {
     "model_module": "@jupyter-widgets/base",
     "model_module_version": "1.2.0",
     "model_name": "LayoutModel",
     "state": {
      "_model_module": "@jupyter-widgets/base",
      "_model_module_version": "1.2.0",
      "_model_name": "LayoutModel",
      "_view_count": null,
      "_view_module": "@jupyter-widgets/base",
      "_view_module_version": "1.2.0",
      "_view_name": "LayoutView",
      "align_content": null,
      "align_items": null,
      "align_self": null,
      "border": null,
      "bottom": null,
      "display": null,
      "flex": null,
      "flex_flow": null,
      "grid_area": null,
      "grid_auto_columns": null,
      "grid_auto_flow": null,
      "grid_auto_rows": null,
      "grid_column": null,
      "grid_gap": null,
      "grid_row": null,
      "grid_template_areas": null,
      "grid_template_columns": null,
      "grid_template_rows": null,
      "height": null,
      "justify_content": null,
      "justify_items": null,
      "left": null,
      "margin": null,
      "max_height": null,
      "max_width": null,
      "min_height": null,
      "min_width": null,
      "object_fit": null,
      "object_position": null,
      "order": null,
      "overflow": null,
      "overflow_x": null,
      "overflow_y": null,
      "padding": null,
      "right": null,
      "top": null,
      "visibility": null,
      "width": null
     }
    },
    "e01b5daf68664f1b86719c2e4b6043ef": {
     "model_module": "@jupyter-widgets/controls",
     "model_module_version": "1.5.0",
     "model_name": "FloatProgressModel",
     "state": {
      "_dom_classes": [],
      "_model_module": "@jupyter-widgets/controls",
      "_model_module_version": "1.5.0",
      "_model_name": "FloatProgressModel",
      "_view_count": null,
      "_view_module": "@jupyter-widgets/controls",
      "_view_module_version": "1.5.0",
      "_view_name": "ProgressView",
      "bar_style": "success",
      "description": "",
      "description_tooltip": null,
      "layout": "IPY_MODEL_6fe586a47beb4956a13c5d46181e9c29",
      "max": 1284879,
      "min": 0,
      "orientation": "horizontal",
      "style": "IPY_MODEL_61b70751118e4b32bbcdb148eb6e9d5e",
      "value": 1284879
     }
    },
    "e21953a033a24285af6dfd810ac2dd40": {
     "model_module": "@jupyter-widgets/controls",
     "model_module_version": "1.5.0",
     "model_name": "ProgressStyleModel",
     "state": {
      "_model_module": "@jupyter-widgets/controls",
      "_model_module_version": "1.5.0",
      "_model_name": "ProgressStyleModel",
      "_view_count": null,
      "_view_module": "@jupyter-widgets/base",
      "_view_module_version": "1.2.0",
      "_view_name": "StyleView",
      "bar_color": null,
      "description_width": ""
     }
    },
    "e32e8f16b4494b4b95ea74b79b5f8f9a": {
     "model_module": "@jupyter-widgets/controls",
     "model_module_version": "1.5.0",
     "model_name": "HTMLModel",
     "state": {
      "_dom_classes": [],
      "_model_module": "@jupyter-widgets/controls",
      "_model_module_version": "1.5.0",
      "_model_name": "HTMLModel",
      "_view_count": null,
      "_view_module": "@jupyter-widgets/controls",
      "_view_module_version": "1.5.0",
      "_view_name": "HTMLView",
      "description": "",
      "description_tooltip": null,
      "layout": "IPY_MODEL_b7657b9625f64f4499b94fe4fa06fcd4",
      "placeholder": "​",
      "style": "IPY_MODEL_4286d47549af4211acbf4094ec9b1927",
      "value": "Downloading data: 100%"
     }
    },
    "f8866e07f9d8497d92466af452da96e9": {
     "model_module": "@jupyter-widgets/controls",
     "model_module_version": "1.5.0",
     "model_name": "HBoxModel",
     "state": {
      "_dom_classes": [],
      "_model_module": "@jupyter-widgets/controls",
      "_model_module_version": "1.5.0",
      "_model_name": "HBoxModel",
      "_view_count": null,
      "_view_module": "@jupyter-widgets/controls",
      "_view_module_version": "1.5.0",
      "_view_name": "HBoxView",
      "box_style": "",
      "children": [
       "IPY_MODEL_e32e8f16b4494b4b95ea74b79b5f8f9a",
       "IPY_MODEL_ad7ca5ca19ae443c88238b3736455e3b",
       "IPY_MODEL_13cb5d86d37f4bb4bfab3cc3baf6d9c4"
      ],
      "layout": "IPY_MODEL_98f86901c7f448f8a43509003637c10a"
     }
    }
   }
  }
 },
 "nbformat": 4,
 "nbformat_minor": 0
}
