{
 "cells": [
  {
   "cell_type": "code",
   "execution_count": 1,
   "metadata": {},
   "outputs": [
    {
     "data": {
      "application/vnd.jupyter.widget-view+json": {
       "model_id": "3c8abb4328784d06807a217353c48ba1",
       "version_major": 2,
       "version_minor": 0
      },
      "text/plain": [
       "README.md:   0%|          | 0.00/126 [00:00<?, ?B/s]"
      ]
     },
     "metadata": {},
     "output_type": "display_data"
    },
    {
     "data": {
      "application/vnd.jupyter.widget-view+json": {
       "model_id": "c0f8c0ff2da84db38a94fb61e6762eb8",
       "version_major": 2,
       "version_minor": 0
      },
      "text/plain": [
       "dataset_infos.json:   0%|          | 0.00/1.34k [00:00<?, ?B/s]"
      ]
     },
     "metadata": {},
     "output_type": "display_data"
    },
    {
     "data": {
      "application/vnd.jupyter.widget-view+json": {
       "model_id": "6dfa1991a05441bf8eb872c831c9f6f3",
       "version_major": 2,
       "version_minor": 0
      },
      "text/plain": [
       "(…)-00000-of-00003-5e185e7810b7f219.parquet:   0%|          | 0.00/375M [00:00<?, ?B/s]"
      ]
     },
     "metadata": {},
     "output_type": "display_data"
    },
    {
     "data": {
      "application/vnd.jupyter.widget-view+json": {
       "model_id": "5c328be4f87c40bfaa4d7449dba05e26",
       "version_major": 2,
       "version_minor": 0
      },
      "text/plain": [
       "(…)-00001-of-00003-720e78aa4bed8e20.parquet:   0%|          | 0.00/188M [00:00<?, ?B/s]"
      ]
     },
     "metadata": {},
     "output_type": "display_data"
    },
    {
     "data": {
      "application/vnd.jupyter.widget-view+json": {
       "model_id": "f76aaebef7ba41558ff0b9d8e99a79f7",
       "version_major": 2,
       "version_minor": 0
      },
      "text/plain": [
       "(…)-00002-of-00003-c095d292e5e00c0d.parquet:   0%|          | 0.00/162M [00:00<?, ?B/s]"
      ]
     },
     "metadata": {},
     "output_type": "display_data"
    },
    {
     "data": {
      "application/vnd.jupyter.widget-view+json": {
       "model_id": "a5d2834e60964e55a7ca562d5dd4e366",
       "version_major": 2,
       "version_minor": 0
      },
      "text/plain": [
       "Generating train split:   0%|          | 0/607256 [00:00<?, ? examples/s]"
      ]
     },
     "metadata": {},
     "output_type": "display_data"
    }
   ],
   "source": [
    "# 한글 위키피디아 허깅페이스 데이터 로드\n",
    "from datasets import load_dataset\n",
    "ds = load_dataset(\"lcw99/wikipedia-korean-20221001\", split='train[-20:]')"
   ]
  },
  {
   "cell_type": "code",
   "execution_count": 2,
   "metadata": {},
   "outputs": [
    {
     "data": {
      "text/plain": [
       "Dataset({\n",
       "    features: ['id', 'url', 'title', 'text'],\n",
       "    num_rows: 20\n",
       "})"
      ]
     },
     "execution_count": 2,
     "metadata": {},
     "output_type": "execute_result"
    }
   ],
   "source": [
    "# 데이터셋 메타 확인\n",
    "ds"
   ]
  },
  {
   "cell_type": "code",
   "execution_count": 3,
   "metadata": {},
   "outputs": [
    {
     "data": {
      "text/html": [
       "<div>\n",
       "<style scoped>\n",
       "    .dataframe tbody tr th:only-of-type {\n",
       "        vertical-align: middle;\n",
       "    }\n",
       "\n",
       "    .dataframe tbody tr th {\n",
       "        vertical-align: top;\n",
       "    }\n",
       "\n",
       "    .dataframe thead th {\n",
       "        text-align: right;\n",
       "    }\n",
       "</style>\n",
       "<table border=\"1\" class=\"dataframe\">\n",
       "  <thead>\n",
       "    <tr style=\"text-align: right;\">\n",
       "      <th></th>\n",
       "      <th>id</th>\n",
       "      <th>text</th>\n",
       "      <th>title</th>\n",
       "    </tr>\n",
       "  </thead>\n",
       "  <tbody>\n",
       "    <tr>\n",
       "      <th>0</th>\n",
       "      <td>3291900</td>\n",
       "      <td>CRUX는 숙련된 리눅스 사용자들을 대상으로 하는 경량의 x86-64에 최적화된 리...</td>\n",
       "      <td>CRUX</td>\n",
       "    </tr>\n",
       "    <tr>\n",
       "      <th>1</th>\n",
       "      <td>3291901</td>\n",
       "      <td>다쓰에정(立江町)은 도쿠시마현 나카군에 설치된 정이다. \\n\\n도쿠시마현의 폐지된 ...</td>\n",
       "      <td>다쓰에정</td>\n",
       "    </tr>\n",
       "    <tr>\n",
       "      <th>2</th>\n",
       "      <td>3291902</td>\n",
       "      <td>다카라다촌(宝田村)은 도쿠시마현 나카군에 설치된 촌이다. \\n\\n도쿠시마현의 폐지된...</td>\n",
       "      <td>다카라다촌 (도쿠시마현)</td>\n",
       "    </tr>\n",
       "    <tr>\n",
       "      <th>3</th>\n",
       "      <td>3291903</td>\n",
       "      <td>나가이케촌(長生村)은 도쿠시마현 나카군에 설치된 촌이다. \\n\\n도쿠시마현의 폐지된...</td>\n",
       "      <td>나가이케촌 (도쿠시마현)</td>\n",
       "    </tr>\n",
       "    <tr>\n",
       "      <th>4</th>\n",
       "      <td>3291904</td>\n",
       "      <td>오노촌(大野村)은 도쿠시마현 나카군에 설치된 촌이다. \\n\\n도쿠시마현의 폐지된 시...</td>\n",
       "      <td>오노촌 (도쿠시마현)</td>\n",
       "    </tr>\n",
       "  </tbody>\n",
       "</table>\n",
       "</div>"
      ],
      "text/plain": [
       "        id                                               text          title\n",
       "0  3291900  CRUX는 숙련된 리눅스 사용자들을 대상으로 하는 경량의 x86-64에 최적화된 리...           CRUX\n",
       "1  3291901  다쓰에정(立江町)은 도쿠시마현 나카군에 설치된 정이다. \\n\\n도쿠시마현의 폐지된 ...           다쓰에정\n",
       "2  3291902  다카라다촌(宝田村)은 도쿠시마현 나카군에 설치된 촌이다. \\n\\n도쿠시마현의 폐지된...  다카라다촌 (도쿠시마현)\n",
       "3  3291903  나가이케촌(長生村)은 도쿠시마현 나카군에 설치된 촌이다. \\n\\n도쿠시마현의 폐지된...  나가이케촌 (도쿠시마현)\n",
       "4  3291904  오노촌(大野村)은 도쿠시마현 나카군에 설치된 촌이다. \\n\\n도쿠시마현의 폐지된 시...    오노촌 (도쿠시마현)"
      ]
     },
     "execution_count": 3,
     "metadata": {},
     "output_type": "execute_result"
    }
   ],
   "source": [
    "# 허깅페이스 데이터셋 판다스 데이터프레임으로 변환 \n",
    "data = ds.to_pandas()[['id', 'text', 'title']]\n",
    "data.head()"
   ]
  },
  {
   "cell_type": "code",
   "execution_count": 5,
   "metadata": {},
   "outputs": [],
   "source": [
    "# Dataframe의 새 컬럼으로 임베딩 미리 계산해서 넣어주기\n",
    "from openai import OpenAI\n",
    "client = OpenAI()\n",
    "\n",
    "def get_embedding(text, model=\"text-embedding-3-small\"):\n",
    "   text = text.replace(\"\\n\", \" \")\n",
    "   return client.embeddings.create(input = [text], model=model).data[0].embedding\n",
    "\n",
    "data['embedding'] = data['text'].apply(lambda x: get_embedding(x))"
   ]
  },
  {
   "cell_type": "code",
   "execution_count": 6,
   "metadata": {},
   "outputs": [
    {
     "data": {
      "text/html": [
       "<div>\n",
       "<style scoped>\n",
       "    .dataframe tbody tr th:only-of-type {\n",
       "        vertical-align: middle;\n",
       "    }\n",
       "\n",
       "    .dataframe tbody tr th {\n",
       "        vertical-align: top;\n",
       "    }\n",
       "\n",
       "    .dataframe thead th {\n",
       "        text-align: right;\n",
       "    }\n",
       "</style>\n",
       "<table border=\"1\" class=\"dataframe\">\n",
       "  <thead>\n",
       "    <tr style=\"text-align: right;\">\n",
       "      <th></th>\n",
       "      <th>id</th>\n",
       "      <th>text</th>\n",
       "      <th>title</th>\n",
       "      <th>embedding</th>\n",
       "    </tr>\n",
       "  </thead>\n",
       "  <tbody>\n",
       "    <tr>\n",
       "      <th>0</th>\n",
       "      <td>3291900</td>\n",
       "      <td>CRUX는 숙련된 리눅스 사용자들을 대상으로 하는 경량의 x86-64에 최적화된 리...</td>\n",
       "      <td>CRUX</td>\n",
       "      <td>[-0.04342331737279892, 0.05970706045627594, 0....</td>\n",
       "    </tr>\n",
       "    <tr>\n",
       "      <th>1</th>\n",
       "      <td>3291901</td>\n",
       "      <td>다쓰에정(立江町)은 도쿠시마현 나카군에 설치된 정이다. \\n\\n도쿠시마현의 폐지된 ...</td>\n",
       "      <td>다쓰에정</td>\n",
       "      <td>[-0.010090213268995285, -0.032098300755023956,...</td>\n",
       "    </tr>\n",
       "    <tr>\n",
       "      <th>2</th>\n",
       "      <td>3291902</td>\n",
       "      <td>다카라다촌(宝田村)은 도쿠시마현 나카군에 설치된 촌이다. \\n\\n도쿠시마현의 폐지된...</td>\n",
       "      <td>다카라다촌 (도쿠시마현)</td>\n",
       "      <td>[0.0006361052510328591, -0.02656451426446438, ...</td>\n",
       "    </tr>\n",
       "    <tr>\n",
       "      <th>3</th>\n",
       "      <td>3291903</td>\n",
       "      <td>나가이케촌(長生村)은 도쿠시마현 나카군에 설치된 촌이다. \\n\\n도쿠시마현의 폐지된...</td>\n",
       "      <td>나가이케촌 (도쿠시마현)</td>\n",
       "      <td>[0.023921508342027664, -0.006965169683098793, ...</td>\n",
       "    </tr>\n",
       "    <tr>\n",
       "      <th>4</th>\n",
       "      <td>3291904</td>\n",
       "      <td>오노촌(大野村)은 도쿠시마현 나카군에 설치된 촌이다. \\n\\n도쿠시마현의 폐지된 시...</td>\n",
       "      <td>오노촌 (도쿠시마현)</td>\n",
       "      <td>[0.01605633646249771, -0.013267251662909985, 0...</td>\n",
       "    </tr>\n",
       "    <tr>\n",
       "      <th>5</th>\n",
       "      <td>3291905</td>\n",
       "      <td>울프럼 리서치(Wolfram Research)는 연산 기술을 개발하는 미국의 다국적...</td>\n",
       "      <td>울프럼 리서치</td>\n",
       "      <td>[-0.036400407552719116, -0.016310442239046097,...</td>\n",
       "    </tr>\n",
       "    <tr>\n",
       "      <th>6</th>\n",
       "      <td>3291908</td>\n",
       "      <td>와이어스(Wyeth)는 미국의 제약 회사이다. 이 기업은 1860년 펜실베이니아주 ...</td>\n",
       "      <td>와이어스</td>\n",
       "      <td>[0.003992738202214241, -0.007662554271519184, ...</td>\n",
       "    </tr>\n",
       "    <tr>\n",
       "      <th>7</th>\n",
       "      <td>3291911</td>\n",
       "      <td>야시 라지 필름스(Yash Raj Films, YRF)는 인도의 영화 제작 및 배급...</td>\n",
       "      <td>야시 라지 필름스</td>\n",
       "      <td>[-0.027178488671779633, 0.044034477323293686, ...</td>\n",
       "    </tr>\n",
       "    <tr>\n",
       "      <th>8</th>\n",
       "      <td>3291912</td>\n",
       "      <td>가모다니촌(加茂谷村)은 도쿠시마현 나카군에 설치된 촌이다. \\n\\n도쿠시마현의 폐지...</td>\n",
       "      <td>가모다니촌</td>\n",
       "      <td>[0.023635979741811752, 0.015080899931490421, 0...</td>\n",
       "    </tr>\n",
       "    <tr>\n",
       "      <th>9</th>\n",
       "      <td>3291925</td>\n",
       "      <td>《Ornette!》은 1962년 2월 애틀랜틱 레코드에서 발매된 미국의 알토 색소폰...</td>\n",
       "      <td>Ornette!</td>\n",
       "      <td>[0.01614939421415329, 8.841833914630115e-05, -...</td>\n",
       "    </tr>\n",
       "    <tr>\n",
       "      <th>10</th>\n",
       "      <td>3291927</td>\n",
       "      <td>잘란도(Zalando)는 독일의 신발, 패션, 뷰티 부문의 온라인 소매 기업이다. ...</td>\n",
       "      <td>잘란도</td>\n",
       "      <td>[0.04567074030637741, 0.03487435728311539, -0....</td>\n",
       "    </tr>\n",
       "    <tr>\n",
       "      <th>11</th>\n",
       "      <td>3291932</td>\n",
       "      <td>미노바야시촌(見能林村)은 도쿠시마현 나카군에 설치된 촌이다. \\n\\n도쿠시마현의 폐...</td>\n",
       "      <td>미노바야시촌 (도쿠시마현)</td>\n",
       "      <td>[-0.002505488693714142, -0.019076144322752953,...</td>\n",
       "    </tr>\n",
       "    <tr>\n",
       "      <th>12</th>\n",
       "      <td>3291933</td>\n",
       "      <td>아라타노촌(新野町)은 도쿠시마현 나카군에 설치된 촌이다. \\n\\n도쿠시마현의 폐지된...</td>\n",
       "      <td>아라타노촌 (도쿠시마현)</td>\n",
       "      <td>[-0.00916602835059166, -0.03361794725060463, 0...</td>\n",
       "    </tr>\n",
       "    <tr>\n",
       "      <th>13</th>\n",
       "      <td>3291934</td>\n",
       "      <td>바스타 신주쿠() 또는 신주쿠 미나미구치 교통 터미널()은 도쿄도 시부야구 신주쿠역...</td>\n",
       "      <td>바스타 신주쿠</td>\n",
       "      <td>[-0.05093755945563316, -0.04287152364850044, 0...</td>\n",
       "    </tr>\n",
       "    <tr>\n",
       "      <th>14</th>\n",
       "      <td>3291935</td>\n",
       "      <td>후쿠이촌(福井村)은 도쿠시마현 나카군에 설치된 촌이다. \\n\\n도쿠시마현의 폐지된 ...</td>\n",
       "      <td>후쿠이촌 (도쿠시마현)</td>\n",
       "      <td>[-0.04804481193423271, -0.019344357773661613, ...</td>\n",
       "    </tr>\n",
       "    <tr>\n",
       "      <th>15</th>\n",
       "      <td>3291937</td>\n",
       "      <td>웹민(Webmin)은 유닉스 계열 시스템을 위한 강력하고 유연한 웹 기반 서버 관리...</td>\n",
       "      <td>웹민</td>\n",
       "      <td>[-0.0866929218173027, 0.049990806728601456, -0...</td>\n",
       "    </tr>\n",
       "    <tr>\n",
       "      <th>16</th>\n",
       "      <td>3291941</td>\n",
       "      <td>사카슈촌(坂州村)은 도쿠시마현 나카군에 설치된 촌이다. \\n\\n도쿠시마현의 폐지된 ...</td>\n",
       "      <td>사카슈촌</td>\n",
       "      <td>[0.009581709280610085, -0.021797694265842438, ...</td>\n",
       "    </tr>\n",
       "    <tr>\n",
       "      <th>17</th>\n",
       "      <td>3291942</td>\n",
       "      <td>Zope은 파이썬으로 작성된 자유-오픈 소스 웹 애플리케이션 서버이자 관련 온라인 ...</td>\n",
       "      <td>Zope</td>\n",
       "      <td>[0.005262866150587797, 0.040248267352581024, -...</td>\n",
       "    </tr>\n",
       "    <tr>\n",
       "      <th>18</th>\n",
       "      <td>3291943</td>\n",
       "      <td>레이시 내친왕 (, 분에이 7년 9월 19일 (1270년 10월 5일) - 도쿠지 ...</td>\n",
       "      <td>레이시 내친왕 (1270년)</td>\n",
       "      <td>[0.018740525469183922, 0.020807495340704918, -...</td>\n",
       "    </tr>\n",
       "    <tr>\n",
       "      <th>19</th>\n",
       "      <td>3291948</td>\n",
       "      <td>넘겨주기 츠치커우역</td>\n",
       "      <td>츠치커우역 (동음이의)</td>\n",
       "      <td>[-0.013791078701615334, -0.035549797117710114,...</td>\n",
       "    </tr>\n",
       "  </tbody>\n",
       "</table>\n",
       "</div>"
      ],
      "text/plain": [
       "         id                                               text  \\\n",
       "0   3291900  CRUX는 숙련된 리눅스 사용자들을 대상으로 하는 경량의 x86-64에 최적화된 리...   \n",
       "1   3291901  다쓰에정(立江町)은 도쿠시마현 나카군에 설치된 정이다. \\n\\n도쿠시마현의 폐지된 ...   \n",
       "2   3291902  다카라다촌(宝田村)은 도쿠시마현 나카군에 설치된 촌이다. \\n\\n도쿠시마현의 폐지된...   \n",
       "3   3291903  나가이케촌(長生村)은 도쿠시마현 나카군에 설치된 촌이다. \\n\\n도쿠시마현의 폐지된...   \n",
       "4   3291904  오노촌(大野村)은 도쿠시마현 나카군에 설치된 촌이다. \\n\\n도쿠시마현의 폐지된 시...   \n",
       "5   3291905  울프럼 리서치(Wolfram Research)는 연산 기술을 개발하는 미국의 다국적...   \n",
       "6   3291908  와이어스(Wyeth)는 미국의 제약 회사이다. 이 기업은 1860년 펜실베이니아주 ...   \n",
       "7   3291911  야시 라지 필름스(Yash Raj Films, YRF)는 인도의 영화 제작 및 배급...   \n",
       "8   3291912  가모다니촌(加茂谷村)은 도쿠시마현 나카군에 설치된 촌이다. \\n\\n도쿠시마현의 폐지...   \n",
       "9   3291925  《Ornette!》은 1962년 2월 애틀랜틱 레코드에서 발매된 미국의 알토 색소폰...   \n",
       "10  3291927  잘란도(Zalando)는 독일의 신발, 패션, 뷰티 부문의 온라인 소매 기업이다. ...   \n",
       "11  3291932  미노바야시촌(見能林村)은 도쿠시마현 나카군에 설치된 촌이다. \\n\\n도쿠시마현의 폐...   \n",
       "12  3291933  아라타노촌(新野町)은 도쿠시마현 나카군에 설치된 촌이다. \\n\\n도쿠시마현의 폐지된...   \n",
       "13  3291934  바스타 신주쿠() 또는 신주쿠 미나미구치 교통 터미널()은 도쿄도 시부야구 신주쿠역...   \n",
       "14  3291935  후쿠이촌(福井村)은 도쿠시마현 나카군에 설치된 촌이다. \\n\\n도쿠시마현의 폐지된 ...   \n",
       "15  3291937  웹민(Webmin)은 유닉스 계열 시스템을 위한 강력하고 유연한 웹 기반 서버 관리...   \n",
       "16  3291941  사카슈촌(坂州村)은 도쿠시마현 나카군에 설치된 촌이다. \\n\\n도쿠시마현의 폐지된 ...   \n",
       "17  3291942  Zope은 파이썬으로 작성된 자유-오픈 소스 웹 애플리케이션 서버이자 관련 온라인 ...   \n",
       "18  3291943  레이시 내친왕 (, 분에이 7년 9월 19일 (1270년 10월 5일) - 도쿠지 ...   \n",
       "19  3291948                                         넘겨주기 츠치커우역   \n",
       "\n",
       "              title                                          embedding  \n",
       "0              CRUX  [-0.04342331737279892, 0.05970706045627594, 0....  \n",
       "1              다쓰에정  [-0.010090213268995285, -0.032098300755023956,...  \n",
       "2     다카라다촌 (도쿠시마현)  [0.0006361052510328591, -0.02656451426446438, ...  \n",
       "3     나가이케촌 (도쿠시마현)  [0.023921508342027664, -0.006965169683098793, ...  \n",
       "4       오노촌 (도쿠시마현)  [0.01605633646249771, -0.013267251662909985, 0...  \n",
       "5           울프럼 리서치  [-0.036400407552719116, -0.016310442239046097,...  \n",
       "6              와이어스  [0.003992738202214241, -0.007662554271519184, ...  \n",
       "7         야시 라지 필름스  [-0.027178488671779633, 0.044034477323293686, ...  \n",
       "8             가모다니촌  [0.023635979741811752, 0.015080899931490421, 0...  \n",
       "9          Ornette!  [0.01614939421415329, 8.841833914630115e-05, -...  \n",
       "10              잘란도  [0.04567074030637741, 0.03487435728311539, -0....  \n",
       "11   미노바야시촌 (도쿠시마현)  [-0.002505488693714142, -0.019076144322752953,...  \n",
       "12    아라타노촌 (도쿠시마현)  [-0.00916602835059166, -0.03361794725060463, 0...  \n",
       "13          바스타 신주쿠  [-0.05093755945563316, -0.04287152364850044, 0...  \n",
       "14     후쿠이촌 (도쿠시마현)  [-0.04804481193423271, -0.019344357773661613, ...  \n",
       "15               웹민  [-0.0866929218173027, 0.049990806728601456, -0...  \n",
       "16             사카슈촌  [0.009581709280610085, -0.021797694265842438, ...  \n",
       "17             Zope  [0.005262866150587797, 0.040248267352581024, -...  \n",
       "18  레이시 내친왕 (1270년)  [0.018740525469183922, 0.020807495340704918, -...  \n",
       "19     츠치커우역 (동음이의)  [-0.013791078701615334, -0.035549797117710114,...  "
      ]
     },
     "execution_count": 6,
     "metadata": {},
     "output_type": "execute_result"
    }
   ],
   "source": [
    "# 데이터 확인\n",
    "data"
   ]
  },
  {
   "cell_type": "code",
   "execution_count": 7,
   "metadata": {},
   "outputs": [
    {
     "data": {
      "text/plain": [
       "1536"
      ]
     },
     "execution_count": 7,
     "metadata": {},
     "output_type": "execute_result"
    }
   ],
   "source": [
    "# 임베딩 차원 수 확인\n",
    "\n",
    "len(data['embedding'][0])"
   ]
  },
  {
   "cell_type": "code",
   "execution_count": 8,
   "metadata": {},
   "outputs": [
    {
     "data": {
      "text/plain": [
       "CollectionsResponse(collections=[])"
      ]
     },
     "execution_count": 8,
     "metadata": {},
     "output_type": "execute_result"
    }
   ],
   "source": [
    "# Qdrant 클라이은트 설정\n",
    "from qdrant_client import QdrantClient, models\n",
    "\n",
    "qdrant_client = QdrantClient(\n",
    "    url=\"\", \n",
    "    api_key=\"\",\n",
    ")\n",
    "\n",
    "# 생성된 콜렉션 확인해보기\n",
    "\n",
    "qdrant_client.get_collections()"
   ]
  },
  {
   "cell_type": "code",
   "execution_count": 9,
   "metadata": {},
   "outputs": [
    {
     "name": "stderr",
     "output_type": "stream",
     "text": [
      "/var/folders/1x/st3vh8xs6715dcgqc1gk2hhh0000gn/T/ipykernel_79059/27906353.py:2: DeprecationWarning: `recreate_collection` method is deprecated and will be removed in the future. Use `collection_exists` to check collection existence and `create_collection` instead.\n",
      "  qdrant_client.recreate_collection(\n"
     ]
    },
    {
     "data": {
      "text/plain": [
       "True"
      ]
     },
     "execution_count": 9,
     "metadata": {},
     "output_type": "execute_result"
    }
   ],
   "source": [
    "# 콜렉션 생성 및 기본 컨피그 설정\n",
    "qdrant_client.recreate_collection(\n",
    "    collection_name=\"wiki_sample\",\n",
    "    vectors_config=models.VectorParams(\n",
    "        size=1536, \n",
    "        distance=models.Distance.COSINE,\n",
    "    ),\n",
    ")"
   ]
  },
  {
   "cell_type": "code",
   "execution_count": 10,
   "metadata": {},
   "outputs": [],
   "source": [
    "# 생성된 임베딩 벡터 업서트\n",
    "qdrant_client.upload_points(\n",
    "    collection_name=\"wiki_sample\",\n",
    "    points=[\n",
    "        models.PointStruct(\n",
    "            id=int(row.id), vector=row['embedding'], payload={\"title\": row['title'], \"text\": row['text']}\n",
    "        )\n",
    "        for index, row in data.iterrows()\n",
    "    ],\n",
    ")"
   ]
  },
  {
   "cell_type": "code",
   "execution_count": 12,
   "metadata": {},
   "outputs": [
    {
     "name": "stderr",
     "output_type": "stream",
     "text": [
      "/var/folders/1x/st3vh8xs6715dcgqc1gk2hhh0000gn/T/ipykernel_79059/323532732.py:2: DeprecationWarning: `recreate_collection` method is deprecated and will be removed in the future. Use `collection_exists` to check collection existence and `create_collection` instead.\n",
      "  qdrant_client.recreate_collection(\n"
     ]
    }
   ],
   "source": [
    "# 인덱싱 퀀타이즈 걸어서 하기\n",
    "qdrant_client.recreate_collection(\n",
    "    collection_name=\"wiki_sample_sq\",\n",
    "    vectors_config=models.VectorParams(\n",
    "        size=1536, \n",
    "        distance=models.Distance.COSINE,\n",
    "    ),\n",
    "    quantization_config=models.ScalarQuantization(\n",
    "        scalar=models.ScalarQuantizationConfig(\n",
    "            type=models.ScalarType.INT8,\n",
    "            quantile=0.99,\n",
    "            always_ram=True,\n",
    "        ),\n",
    "    ),\n",
    ")\n",
    "\n",
    "# 퀀타이즈드 콜렉션에 동일한 데이터 업로드\n",
    "qdrant_client.upload_points(\n",
    "    collection_name=\"wiki_sample_sq\",\n",
    "    points=[\n",
    "        models.PointStruct(\n",
    "            id=int(row.id), vector=row['embedding'], payload={\"title\": row['title'], \"text\": row['text']}\n",
    "        )\n",
    "        for index, row in data.iterrows()\n",
    "    ],\n",
    ")"
   ]
  },
  {
   "cell_type": "code",
   "execution_count": 13,
   "metadata": {},
   "outputs": [
    {
     "name": "stdout",
     "output_type": "stream",
     "text": [
      "{'title': 'Zope', 'text': 'Zope은 파이썬으로 작성된 자유-오픈 소스 웹 애플리케이션 서버이자 관련 온라인 커뮤니티의 이름이다. Zope은 \"Z Object Publishing Environment\"을 의미하며 현재 흔히 쓰이는 웹의 객체 게시 방식을 사용한 최초의 시스템이었다. Zope은 파이썬이 조명을 받는데 크게 도움을 준 애플리케이션이자 파이썬 킬러 앱으로 불리고 있다.\\n\\nZope 버전 \\n Zope 2\\n BlueBream\\n Zope Toolkit\\n Grok\\n Zope 4\\n Zope 5\\n\\nZope 페이지 템플릿 예시 \\n<div tal:condition=\"...\">\\n  ...\\n</div>\\n\\nZope을 사용하는 저명한 소프트웨어 \\n 스쿨툴은 Zope을 사용하는 오픈 소스 학생 정보 시스템이다. 플론은 Zope을 사용하는 오픈 소스 저작물 관리 시스템이다.\\n\\n같이 보기 \\n Pylons\\n 장고 (웹 프레임워크)\\n web2py\\n 콘텐츠 관리\\n 저작물 관리 시스템\\n 플론\\n 트위스티드 (소프트웨어)\\n\\n각주\\n\\n외부 링크 \\n \\n\\n크로스 플랫폼 자유 소프트웨어\\n자유 저작물 관리 시스템\\n파이썬으로 작성된 자유 소프트웨어\\n파이썬 웹 프레임워크\\n웹 개발 소프트웨어\\n미국의 소프트웨어 기업'} score: 0.37440223\n",
      "{'title': '웹민', 'text': '웹민(Webmin)은 유닉스 계열 시스템을 위한 강력하고 유연한 웹 기반 서버 관리 제어판이다. 웹민을 통해 사용자는 사용자, 디스크 할당량, 서비스, 구성 파일 등 운영 체제의 내부 부분을 구성하고 아파치 HTTP 서버, PHP, MySQL 등의 오픈 소스 앱들을 수정하고 제어할 수 있다.\\n\\n개요 \\n웹민은 대부분 펄에 기반을 두며 자체 프로세스와 웹 서버로서 실행된다. TCP 포트 10000을 기본값으로 사용한다. OpenSSL이 추가 필요 펄 모듈들과 함께 설치된 경우 SSL을 사용하도록 구성할 수 있다.\\n\\n같이 보기 \\n YaST\\n\\n각주\\n\\n외부 링크 \\n \\n Webmin documentation wiki\\n\\n펄 소프트웨어\\nBSD 라이선스 소프트웨어'} score: 0.2526292\n",
      "{'title': '울프럼 리서치', 'text': \"울프럼 리서치(Wolfram Research)는 연산 기술을 개발하는 미국의 다국적 기업이다. 울프럼의 대표 제품은 기술 컴퓨팅 프로그램인 울프럼 매스매티카이며 1988년 6월 23일 처음 출시되었다. 다른 제품들로는 울프럼 알파, 울프럼 시스템모델러, 울프럼 워크벤치, gridMathematica, 울프럼 파이낸스 플랫폼(Wolfram Finance Platform), webMathematica, 울프럼 클라우드 울프럼 프로그래밍 랩이 있다. 울프럼의 최고경영자(CEO)는 창립자 스티븐 울프럼이다. 이 기업의 본사는 미국 일리노이주 섐페인에 위치해 있다.\\n\\n같이 보기 \\n 에릭 웨이스타인\\n\\n각주\\n\\n외부 링크 \\n \\n Official Wolfram Research Twitter Account\\n Hoovers Fact Sheet on Wolfram Research, Inc.\\n The Mathematics Behind NUMB3RS, Wolfram's site on NUMB3RS mathematics.\\n\\n섐페인 (일리노이주)\\n클라우드 컴퓨팅 제공자\\n수학 소프트웨어\\n미국의 다국적 기업\\n미국의 소프트웨어 기업\"} score: 0.24317504\n"
     ]
    }
   ],
   "source": [
    "# 생성된 콜렉션 기반 top_3 서치 function 테스팅\n",
    "text = \"파이썬 오픈소스\"\n",
    "hits = qdrant_client.search(\n",
    "    collection_name=\"wiki_sample_sq\",\n",
    "    query_vector=client.embeddings.create(input = [text], model='text-embedding-3-small').data[0].embedding,\n",
    "    limit=3,\n",
    ")\n",
    "for hit in hits:\n",
    "    print(hit.payload, \"score:\", hit.score)"
   ]
  },
  {
   "cell_type": "code",
   "execution_count": null,
   "metadata": {},
   "outputs": [],
   "source": []
  },
  {
   "cell_type": "code",
   "execution_count": 14,
   "metadata": {},
   "outputs": [
    {
     "name": "stdout",
     "output_type": "stream",
     "text": [
      "{'title': 'Zope', 'text': 'Zope은 파이썬으로 작성된 자유-오픈 소스 웹 애플리케이션 서버이자 관련 온라인 커뮤니티의 이름이다. Zope은 \"Z Object Publishing Environment\"을 의미하며 현재 흔히 쓰이는 웹의 객체 게시 방식을 사용한 최초의 시스템이었다. Zope은 파이썬이 조명을 받는데 크게 도움을 준 애플리케이션이자 파이썬 킬러 앱으로 불리고 있다.\\n\\nZope 버전 \\n Zope 2\\n BlueBream\\n Zope Toolkit\\n Grok\\n Zope 4\\n Zope 5\\n\\nZope 페이지 템플릿 예시 \\n<div tal:condition=\"...\">\\n  ...\\n</div>\\n\\nZope을 사용하는 저명한 소프트웨어 \\n 스쿨툴은 Zope을 사용하는 오픈 소스 학생 정보 시스템이다. 플론은 Zope을 사용하는 오픈 소스 저작물 관리 시스템이다.\\n\\n같이 보기 \\n Pylons\\n 장고 (웹 프레임워크)\\n web2py\\n 콘텐츠 관리\\n 저작물 관리 시스템\\n 플론\\n 트위스티드 (소프트웨어)\\n\\n각주\\n\\n외부 링크 \\n \\n\\n크로스 플랫폼 자유 소프트웨어\\n자유 저작물 관리 시스템\\n파이썬으로 작성된 자유 소프트웨어\\n파이썬 웹 프레임워크\\n웹 개발 소프트웨어\\n미국의 소프트웨어 기업'} score: 0.37425217\n",
      "{'title': '웹민', 'text': '웹민(Webmin)은 유닉스 계열 시스템을 위한 강력하고 유연한 웹 기반 서버 관리 제어판이다. 웹민을 통해 사용자는 사용자, 디스크 할당량, 서비스, 구성 파일 등 운영 체제의 내부 부분을 구성하고 아파치 HTTP 서버, PHP, MySQL 등의 오픈 소스 앱들을 수정하고 제어할 수 있다.\\n\\n개요 \\n웹민은 대부분 펄에 기반을 두며 자체 프로세스와 웹 서버로서 실행된다. TCP 포트 10000을 기본값으로 사용한다. OpenSSL이 추가 필요 펄 모듈들과 함께 설치된 경우 SSL을 사용하도록 구성할 수 있다.\\n\\n같이 보기 \\n YaST\\n\\n각주\\n\\n외부 링크 \\n \\n Webmin documentation wiki\\n\\n펄 소프트웨어\\nBSD 라이선스 소프트웨어'} score: 0.252576\n",
      "{'title': '울프럼 리서치', 'text': \"울프럼 리서치(Wolfram Research)는 연산 기술을 개발하는 미국의 다국적 기업이다. 울프럼의 대표 제품은 기술 컴퓨팅 프로그램인 울프럼 매스매티카이며 1988년 6월 23일 처음 출시되었다. 다른 제품들로는 울프럼 알파, 울프럼 시스템모델러, 울프럼 워크벤치, gridMathematica, 울프럼 파이낸스 플랫폼(Wolfram Finance Platform), webMathematica, 울프럼 클라우드 울프럼 프로그래밍 랩이 있다. 울프럼의 최고경영자(CEO)는 창립자 스티븐 울프럼이다. 이 기업의 본사는 미국 일리노이주 섐페인에 위치해 있다.\\n\\n같이 보기 \\n 에릭 웨이스타인\\n\\n각주\\n\\n외부 링크 \\n \\n Official Wolfram Research Twitter Account\\n Hoovers Fact Sheet on Wolfram Research, Inc.\\n The Mathematics Behind NUMB3RS, Wolfram's site on NUMB3RS mathematics.\\n\\n섐페인 (일리노이주)\\n클라우드 컴퓨팅 제공자\\n수학 소프트웨어\\n미국의 다국적 기업\\n미국의 소프트웨어 기업\"} score: 0.24307251\n"
     ]
    }
   ],
   "source": [
    "# SQ 버전 콜렉션에도 동일하게 진행\n",
    "text = \"파이썬 오픈소스\"\n",
    "hits = qdrant_client.search(\n",
    "    collection_name=\"wiki_sample_sq\",\n",
    "    query_vector=client.embeddings.create(input = [text], model='text-embedding-3-small').data[0].embedding,\n",
    "    limit=3,\n",
    ")\n",
    "for hit in hits:\n",
    "    print(hit.payload, \"score:\", hit.score)"
   ]
  },
  {
   "cell_type": "code",
   "execution_count": null,
   "metadata": {},
   "outputs": [],
   "source": []
  }
 ],
 "metadata": {
  "kernelspec": {
   "display_name": ".venv",
   "language": "python",
   "name": "python3"
  },
  "language_info": {
   "codemirror_mode": {
    "name": "ipython",
    "version": 3
   },
   "file_extension": ".py",
   "mimetype": "text/x-python",
   "name": "python",
   "nbconvert_exporter": "python",
   "pygments_lexer": "ipython3",
   "version": "3.11.6"
  }
 },
 "nbformat": 4,
 "nbformat_minor": 2
}
