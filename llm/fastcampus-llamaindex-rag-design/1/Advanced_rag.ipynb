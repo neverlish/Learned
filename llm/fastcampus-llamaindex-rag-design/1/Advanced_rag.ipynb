{
 "cells": [
  {
   "cell_type": "markdown",
   "metadata": {},
   "source": [
    "# Advanced RAG 간단구성 - 쿼리 익스펜션\n",
    "\n",
    "- 관련 패키지 임포트\n",
    "- 활용 LLM api정보 설정\n",
    "- RAG 파이프라인 글로벌 세팅 설정\n",
    "- 기준 데이터셋 로드\n",
    "- 기준 데이터셋 전처리\n",
    "- 벡터스토어인덱스 설정\n",
    "- 베이스 쿼리 엔진 설정\n",
    "- 어드벤스드 쿼리 엔진(서브쿼리엔진) 설정"
   ]
  },
  {
   "cell_type": "code",
   "execution_count": 1,
   "metadata": {},
   "outputs": [],
   "source": [
    "# 관련 패키지 임포트\n",
    "import os\n",
    "from datasets import load_dataset \n",
    "from llama_index.core.tools import QueryEngineTool, ToolMetadata\n",
    "from llama_index.core.query_engine import SubQuestionQueryEngine\n",
    "from llama_index.core import Document\n",
    "from llama_index.core import VectorStoreIndex\n",
    "from llama_index.core.settings import Settings\n",
    "from llama_index.llms.openai import OpenAI\n",
    "from llama_index.embeddings.openai import OpenAIEmbedding\n",
    "import nest_asyncio\n",
    "\n",
    "nest_asyncio.apply()"
   ]
  },
  {
   "cell_type": "code",
   "execution_count": 2,
   "metadata": {},
   "outputs": [],
   "source": [
    "# RAG 파이프라인 글로벌 설정\n",
    "Settings.embed_model = OpenAIEmbedding(\n",
    "    model=\"text-embedding-3-small\"\n",
    ")\n",
    "\n",
    "Settings.llm=OpenAI(model='gpt-3.5-turbo',temperature=0)"
   ]
  },
  {
   "cell_type": "code",
   "execution_count": 3,
   "metadata": {},
   "outputs": [],
   "source": [
    "# 기준 데이터셋 로드 - \n",
    "ds = load_dataset(\"lcw99/wikipedia-korean-20240501\", split='train[-10:]')"
   ]
  },
  {
   "cell_type": "code",
   "execution_count": 4,
   "metadata": {},
   "outputs": [
    {
     "data": {
      "text/html": [
       "<div>\n",
       "<style scoped>\n",
       "    .dataframe tbody tr th:only-of-type {\n",
       "        vertical-align: middle;\n",
       "    }\n",
       "\n",
       "    .dataframe tbody tr th {\n",
       "        vertical-align: top;\n",
       "    }\n",
       "\n",
       "    .dataframe thead th {\n",
       "        text-align: right;\n",
       "    }\n",
       "</style>\n",
       "<table border=\"1\" class=\"dataframe\">\n",
       "  <thead>\n",
       "    <tr style=\"text-align: right;\">\n",
       "      <th></th>\n",
       "      <th>title</th>\n",
       "      <th>text</th>\n",
       "    </tr>\n",
       "  </thead>\n",
       "  <tbody>\n",
       "    <tr>\n",
       "      <th>0</th>\n",
       "      <td>학도요</td>\n",
       "      <td>'''학도요'''(, )는 도요목 도요과에 속하는 나그네새이다.\\n부리와 다리가 길...</td>\n",
       "    </tr>\n",
       "    <tr>\n",
       "      <th>1</th>\n",
       "      <td>뒷부리도요</td>\n",
       "      <td>'''뒷부리도요'''(, )는 도요목 도요과에 속하는 나그네새이다.\\n부리가 길고 ...</td>\n",
       "    </tr>\n",
       "    <tr>\n",
       "      <th>2</th>\n",
       "      <td>칼 스벤손</td>\n",
       "      <td>'''칼 빌헬름 스벤손'''(, 1984년 3월 21일, 옌셰핑 주 옌셰핑 ~)은 ...</td>\n",
       "    </tr>\n",
       "    <tr>\n",
       "      <th>3</th>\n",
       "      <td>노랑발도요</td>\n",
       "      <td>'''노랑발도요'''(, )는 도요목 도요과에 속하는 나그네새이다.\\n다리는 비교적...</td>\n",
       "    </tr>\n",
       "    <tr>\n",
       "      <th>4</th>\n",
       "      <td>신창균</td>\n",
       "      <td>'''신창균'''(申昌均, 1908년~2003년 3월 5일)은 대한민국의 독립운동이...</td>\n",
       "    </tr>\n",
       "  </tbody>\n",
       "</table>\n",
       "</div>"
      ],
      "text/plain": [
       "   title                                               text\n",
       "0    학도요  '''학도요'''(, )는 도요목 도요과에 속하는 나그네새이다.\\n부리와 다리가 길...\n",
       "1  뒷부리도요  '''뒷부리도요'''(, )는 도요목 도요과에 속하는 나그네새이다.\\n부리가 길고 ...\n",
       "2  칼 스벤손  '''칼 빌헬름 스벤손'''(, 1984년 3월 21일, 옌셰핑 주 옌셰핑 ~)은 ...\n",
       "3  노랑발도요  '''노랑발도요'''(, )는 도요목 도요과에 속하는 나그네새이다.\\n다리는 비교적...\n",
       "4    신창균  '''신창균'''(申昌均, 1908년~2003년 3월 5일)은 대한민국의 독립운동이..."
      ]
     },
     "execution_count": 4,
     "metadata": {},
     "output_type": "execute_result"
    }
   ],
   "source": [
    "# 기준 데이터셋 전처리\n",
    "data = ds.to_pandas()[['title', 'text']]\n",
    "data.drop_duplicates(subset='text', keep='first', inplace=True)\n",
    "data.head()"
   ]
  },
  {
   "cell_type": "code",
   "execution_count": 5,
   "metadata": {},
   "outputs": [],
   "source": [
    "# 데이터셋 라마인덱스 다큐먼트 오브젝트로 변환\n",
    "docs = []\n",
    "\n",
    "for i, row in data.iterrows():\n",
    "    docs.append(Document(\n",
    "        text=row['text'],\n",
    "        extra_info={'title': row['title']}\n",
    "    ))"
   ]
  },
  {
   "cell_type": "code",
   "execution_count": 6,
   "metadata": {},
   "outputs": [
    {
     "data": {
      "text/plain": [
       "[Document(id_='85aab55c-fda7-459e-bdc4-f9d2999e0a9d', embedding=None, metadata={'title': '학도요'}, excluded_embed_metadata_keys=[], excluded_llm_metadata_keys=[], relationships={}, metadata_template='{key}: {value}', metadata_separator='\\n', text_resource=MediaResource(embeddings=None, data=None, text=\"'''학도요'''(, )는 도요목 도요과에 속하는 나그네새이다.\\n부리와 다리가 길고 아랫부리의 절반이 붉은색이다. \\n=== 여름깃 ===\\n전체적으로 검은색이고 몸윗면에 흰 반점이 흩어져 있다. \\n=== 겨울깃 ===\\n전체적으로 회갈색이고 흰색 눈썹선이 명확하다. 몸아랫면은 흰색이며 가슴과 옆구리에 엷은 회갈색 기운이 있다.\\n무논, 습지, 하구, 갯벌 등에서 무리지어 생활한다. 유라시아대륙 북부에서 번식하고 유럽 남부, 아프리카, 인도, 동남아시아에서 월동한다.\\n분류:도요과\\n분류:한국의 새\\n분류:한국의 나그네새\\n분류:유럽의 새\\n분류:아프리카의 새\\n분류:인도의 새\\n분류:동남아시아의 새\", path=None, url=None, mimetype=None), image_resource=None, audio_resource=None, video_resource=None, text_template='{metadata_str}\\n\\n{content}'),\n",
       " Document(id_='a8b6cd5b-e015-4e60-a7a2-52beb77a2215', embedding=None, metadata={'title': '뒷부리도요'}, excluded_embed_metadata_keys=[], excluded_llm_metadata_keys=[], relationships={}, metadata_template='{key}: {value}', metadata_separator='\\n', text_resource=MediaResource(embeddings=None, data=None, text=\"'''뒷부리도요'''(, )는 도요목 도요과에 속하는 나그네새이다.\\n부리가 길고 위로 굽었으며 기부가 엷은 주황색이다. 다리는 노랗고 비교적 짧다.\\n=== 여름깃 ===\\n몸윗면은 회갈색이고 어깨깃 일부에 검은 줄무늬가 있다.\\n=== 겨울깃 ===\\n어깨깃의 검은 줄무늬가 거의 사라진다.\\n해안 갯벌, 하구, 하천에서 서식한다, 유라시아대륙 북부에서 번식하고 아프리카, 인도, 동남아시아, 중동, 오스트레일리아 등에서 월동한다.\\n분류:도요과\\n분류:한국의 새\\n분류:한국의 나그네새\\n분류:아프리카의 새\\n분류:인도의 새\\n분류:동남아시아의 새\\n분류:오스트레일리아의 새\", path=None, url=None, mimetype=None), image_resource=None, audio_resource=None, video_resource=None, text_template='{metadata_str}\\n\\n{content}'),\n",
       " Document(id_='3d919858-15c2-449c-a3bf-e89a42082d0e', embedding=None, metadata={'title': '칼 스벤손'}, excluded_embed_metadata_keys=[], excluded_llm_metadata_keys=[], relationships={}, metadata_template='{key}: {value}', metadata_separator='\\n', text_resource=MediaResource(embeddings=None, data=None, text=\"'''칼 빌헬름 스벤손'''(, 1984년 3월 21일, 옌셰핑 주 옌셰핑 ~)은 스웨덴의 전직 프로 축구 선수로, 현역 시절 옌셰핑스 셰드라, IFK, 레인저스, 그리고 캉에서 중앙 수비수로 활약했다. 그는 스웨덴 국가대표팀에 1번 출전했고, 2006년 월드컵에 자국을 대표로 출전했다.\\n=== 초기 경력 ===\\n칼 스벤손은 유년 시절에 속했던 옌셰핑스 셰드라 소속으로 프로 무대 신고식을 치럿고, 2003년 알스벤스칸 시즌을 앞두고 IFK로 이적했다. 그는 2004년 시즌에 IFK 일원으로 스벤스카 쿠펜 결승전에 올랐지만, 유르고르덴에 1-3으로 패했다. 스벤손은 이 결승전에서 경고 누적으로 퇴장당했다.\\n=== 레인저스 ===\\n스벤손은 2006년 5월 26일에 스코틀랜드 글래스고 연고의 레인저스와 비공개 이적료로 3년 계약을 체결했다. 이적료는 £600,000 정도인 것으로 보도되었다. 그는 2-1로 이긴 마더웰과의 스코티시 프리미어리그 첫 경기에서 레인저스 이적 후 첫 경기를 치렀다. 그는 레인저스 소속으로 총 27번의 스코티시 프리미어리그 경기에 출전했지만, 2007년 2월을 기점으로 출전 기회가 크게 줄어들었다.\\n=== 캉 ===\\n2007년 6월 27일, 스벤손은 프랑스 리그 1의 승격 새내기 캉과 3년 계약을 체결했다. 그러나, 그는 프랑스 무대에서 잦은 부상으로 그리 많은 출전 기회를 잡지 못했다.\\n=== 스웨덴 무대 복귀 ===\\n2009년 1월 19일, 스벤손은 전 소속 구단 IFK와 4년 계약을 체결했다. 2011년 12월 23일, 그는 스웨덴 2부 리그인 수페레탄에 속한 친정 구단 옌셰핑스 셰드라와 3년 계약을 맺었다. 스벤손은 2014년 수페레탄 시즌이 끝난 뒤 현역에서 은퇴했다.\\nU-17, U-19, 그리고 U-21 연령대의 스웨덴 국가대표팀에서 활약한 스벤손은 2006년 1월에 사우디아라비아를 상대로 처음이자 마지막으로 스웨덴 국가대표팀 경기를 치렀다. 그는 2006년 월드컵에 스웨덴 선수단 일원으로 승선했지만, 한 경기도 출전하지 못했다.\\n*  칼 스벤손 - 프랑스 프로축구연맹 \\n*\\n* #2 칼 스벤손 - ''ifkdb.com''\\n분류:1984년 출생\\n분류:살아있는 사람\\n분류:스웨덴의 남자 축구 선수\\n분류:남자 축구 센터백\\n분류:스웨덴 남자 축구 국가대표팀 선수\\n분류:스웨덴 남자 청소년 축구 국가대표팀 선수\\n분류:스웨덴 남자 U-21 축구 국가대표팀 선수\\n분류:2006년 FIFA 월드컵 참가 선수\\n분류:리그 1의 축구 선수\\n분류:알스벤스칸의 축구 선수\\n분류:옌셰핑스 셰드라 IF의 축구 선수\\n분류:IFK 예테보리의 축구 선수\\n분류:레인저스 FC의 축구 선수\\n분류:SM 캉의 축구 선수\\n분류:스코티시 프리미어리그의 축구 선수\\n분류:스웨덴의 해외 진출 남자 축구 선수\\n분류:스코틀랜드의 외국인 남자 축구 선수\\n분류:스코틀랜드에 거주한 스웨덴인\\n분류:프랑스의 외국인 남자 축구 선수\\n분류:프랑스에 거주한 스웨덴인\\n분류:옌셰핑 출신\\n분류:옌셰핑주 출신 축구 선수\", path=None, url=None, mimetype=None), image_resource=None, audio_resource=None, video_resource=None, text_template='{metadata_str}\\n\\n{content}'),\n",
       " Document(id_='98f10a65-0e8f-4725-9a0d-6645be927dd3', embedding=None, metadata={'title': '노랑발도요'}, excluded_embed_metadata_keys=[], excluded_llm_metadata_keys=[], relationships={}, metadata_template='{key}: {value}', metadata_separator='\\n', text_resource=MediaResource(embeddings=None, data=None, text=\"'''노랑발도요'''(, )는 도요목 도요과에 속하는 나그네새이다.\\n다리는 비교적 짧은 노란색이며 몸윗면이 진한 회갈색이고 흰 눈썹선이 있다. \\n=== 여름깃 ===\\n멱, 가슴, 옆구리에 흑갈색 물결무늬가 있다. \\n=== 겨울깃 ===\\n몸아랫면에 줄무늬가 없어진다.\\n갯벌, 하구, 백사장, 바위 해변에서 서식한다. 시베리아 동북부에서 번식하고 동남아시아, 뉴기니, 오스트레일리아 등에서 월동한다.\\n분류:도요과\\n분류:한국의 새\\n분류:한국의 나그네새\\n분류:러시아의 새\\n분류:동남아시아의 새\\n분류:오스트레일리아의 새\", path=None, url=None, mimetype=None), image_resource=None, audio_resource=None, video_resource=None, text_template='{metadata_str}\\n\\n{content}'),\n",
       " Document(id_='eb1ed335-fddf-4d83-a666-a0c96fbaaf0b', embedding=None, metadata={'title': '신창균'}, excluded_embed_metadata_keys=[], excluded_llm_metadata_keys=[], relationships={}, metadata_template='{key}: {value}', metadata_separator='\\n', text_resource=MediaResource(embeddings=None, data=None, text=\"'''신창균'''(申昌均, 1908년~2003년 3월 5일)은 대한민국의 독립운동이자 민주화운동가, 통일운동가이다. 호는 송암(松岩)이다.\\n1908년, 충청북도 영동에서 태어난 그는 12살의 어린 나이에 3.1운동에 참가했다가 일본 경찰에 체포되었지만 당시 나이가 어렸기에 매만 맞고 풀려나게 되었다.\\n1940년 6월에는 중국으로 망명해 대한민국 임시정부의 마카오 연락책으로 활동하면서 임시정부에 독립자금을 제공하며 중국 내 일본군의 움직임을 보고하는 일을 맡았다. 해방 이후에는 한국독립당의 중앙집행위원·연락부장·재정부장·재정위원장 등으로 활동했으며, 1948년 4월에는 북측의 단독정부 수립을 막기 위해 한국독립당 대표 8인 중 한 명으로 평양에 가 김일성과 회담을 가졌다.\\n이후 진보당사건 및 5.16군사정변에 연류되어 수감생활을 하였고, 풀려난 뒤에는 군사독재 종식을 위한 민주화운동 및 통일운동에 전념했다.*《가시밭길에서도 느끼는 행복》* \\n분류:1908년 출생\\n분류:2003년 사망\\n분류:20세기 한국 사람\\n분류:20세기 대한민국 사람\\n분류:21세기 대한민국 사람\\n분류:일제강점기의 교사\\n분류:한국의 독립운동가\\n분류:대한민국의 민주주의 운동가\\n분류:대한민국의 통일운동가\\n분류:한국독립당의 당원\\n분류:영동군 출신\\n분류:3·1 운동 관련자\", path=None, url=None, mimetype=None), image_resource=None, audio_resource=None, video_resource=None, text_template='{metadata_str}\\n\\n{content}'),\n",
       " Document(id_='c6f7a450-8dc7-43a7-962d-0d839efabb72', embedding=None, metadata={'title': '송곳부리도요'}, excluded_embed_metadata_keys=[], excluded_llm_metadata_keys=[], relationships={}, metadata_template='{key}: {value}', metadata_separator='\\n', text_resource=MediaResource(embeddings=None, data=None, text=\"'''송곳부리도요'''(, )는 도요목 도요과에 속하는 나그네새이다.\\n흰 눈썹선과 머리옆선이 있고 부리가 길고 폭 넓으며 끝부분이 아래로 굽은 것이 특징이다.\\n갯벌, 하구, 모래갯벌, 무논에서 서식하고 스칸디나비아반도 북부와 러시아 서북부, 시베리아 동북부에서 번식하며 중동, 인도, 동남아시아, 오스트레일리아에서 월동한다.\\n분류:도요과\\n분류:한국의 새\\n분류:한국의 나그네새\\n분류:러시아의 새\\n분류:인도의 새\\n분류:동남아시아의 새\\n분류:오스트레일리아의 새\", path=None, url=None, mimetype=None), image_resource=None, audio_resource=None, video_resource=None, text_template='{metadata_str}\\n\\n{content}'),\n",
       " Document(id_='3ced0ffc-010a-4341-9e2f-1c0ce38fe64e', embedding=None, metadata={'title': '흑양'}, excluded_embed_metadata_keys=[], excluded_llm_metadata_keys=[], relationships={}, metadata_template='{key}: {value}', metadata_separator='\\n', text_resource=MediaResource(embeddings=None, data=None, text=\"'''흑양'''(黑楊. ''Populus nigra'')은 유럽, 서남아시아 및 중앙아시아, 서북아프리카가 원산인 사시나무속 아이기로스''(Aigeiros'')절의 모식종이다.\\n흑양은 중대형 낙엽 교목으로 높이가 20~30m에 달하고 수고가 40m에 이른다. 잎은 다이아몬드 모양 또는 삼각형이고 길이는 5~8cm이다. 폭은 6~8cm이고 잎의 양면이 녹색이다. 보통 원줄기의 흉고직경은 1.5m DBH이나 프랑스의 일부 특이 개체목의 경우 훨씬 더 두꺼운 흉고를 가질 정도로 오래되었다.\\n흑양은 자웅이주이며, 꼬리 형태(catkin)로 꽃차례가 길게 늘어지고 풍매수분에 의지한다. 흑양은 물을 좋아해 습한 저지대에 서식한다. 대부분의 다른 개척종과 마찬가지로 속성수(빠르게 자라는 나무)인 것이 특징이며 개활지에서 빠르게 활착이 가능하다.\\n흑양 종자 다발\\n=== 아종 ===\\n아종이 세 종 있으며 일부 식물학자들은 네 번째 아종을 따로 두기도 한다. \\n* 흑양(''P.n.'' subsp. ''nigra''): 유럽 중부와 동부가 원산지이다. 잎과 순에는 털이 없다. 수피는 회갈색이고 두껍고 주름이 있다.\\n스코틀랜드 에어셔에 있는 흑양(베툴리폴리아 아종)의 수피와 거스러미.\\n* ''P.n.'' subsp ''betulifolia'' (Pursh) W.Wettst. 서유럽( 프랑스, 영국, 아일랜드)이 원산지이다. 잎맥과 새순은 가늘은 솜털 모양이다. 수피는 회갈색이고, 두껍고 고랑이 있으며, 종종 두꺼운 거스러미가 있다. 원줄기는 종종 심하게 기울어져 있다.\\n* ''P.n.'' subsp ''caudina'' (10.) Bugała. 지중해가 원산지이다. 서남아시아도 포함된다. var. ''afganica''의 경우에는 불분명하다.\\n* ''P.n.'' var. ''afganica'' Aitch. & Hemsl. (동종이명 ''P. n.'' var. ''thevestina'' (Dode) Bean). 서남아시아가 원산지이다. 많은 식물학자들이 ''P. nigra''의 품종으로 간주하였고, 다른 식물학자들은 별개의 종인 ''P. afghanica'' 로 취급하고 있다.  껍질은 매끄럽고 겅과 순이 거의 흰색이다. ''caudina'' 아종은 잎과 순이 하얗다. (아래의 품종 참조).\\n아종 ''P.n. betulifolia''는 영국과 아일랜드에서 가장 희귀한 수종 중 하나이며, 약 7,000그루의 나무만이 서식 중이며, 그 중 암그루로 확인된 나무는 약 600그루 뿐이다. \\n=== 재배품종 ===\\n여러 재배품종이 교배되어 왔다. 품종은 삽목 재배로 손쉽게 번식이 가능하다.\\n* ‘Italica’는 17세기 이탈리아 북부 롬바르디아에서 교배한 진짜 '''양버들'''(Lombardy poplar)이다. 이 나무의 성장은 매우 좁은 수관을 형성하는 빗자루 수형을 보이고 있다. 지중해 지역이 원산지이며 덥고 건조한 여름에 적응하고 습한 환경에서는 잘 자라지 않으며 곰팡이병으로 인해 수명이 짧다. 수그루 복제 개체이다. 약 40~50년이 지나면 가지가 떨어지기 시작하고 강풍에 휩쓸릴 가능성이 매우 높으며, 일렬로 나열된 나무는 각각 이웃 나무를 노출시켜 도미노 효과를 만들어 낸다.\\n파일:Populus_nigra-bekes.jpg|섬네일|헝가리의 ''Plantierensis'' 그룹에 속하는 빗자루 형태의 흑양 재배종.\\n* ''Plantierensis'' 그룹의 복제품종은 ''P. nigra'' ssp. ''betulifolia''와 Italica를 교배하여 나온 교잡품종이다. 1884년 프랑스 메츠 근처 Plantières 보육원에 있는  Italica 품종과 헷갈릴 정도로 종종 오해받는다. 이 품종은 수관이 약간 더 넓고, 양버들이 잘 자라지 않는 북서부 유럽의 시원하고 습한 기후에 더 잘 적응한다. 수그루와 암그루 복제품종 모두 생장한다. 이것은 영국과 아일랜드에서 '''양버들'''이라는 이름으로 가장 많이 재배하는 나무이기도 하다. \\n* 'Manchester'는 ''P. nigra'' subsp..''betulifolia''의 재배품종으로 잉글랜드 북서부에 널리 심어져 있는데, 수그루 복제품종만 존재하며 현재 포플러류 더뎅이병으로 인해 심각한 위협을 받고 있다.  \\n* 'Gigantea'는 기원이 알려지지 않은 또 다른 빗자루형 클론으로 'Italica'보다 더 넓고 강세한 수관을 가지고 있습니다. 암그루 복제품종이다. \\n* 'Afghanica'(동의어 'Thevestina'): 전부는 아니지만 대부분의 표본이 단일 클론이므로 많은 식물학자들은 이를 식물 품종이 아닌 품종으로 취급한다. 이는 'Italica'와 유사하지만 눈에 띄는 흰색 수피를 가지고 있으며 단단하다. 암그루 복제품종이라는 점에서도 'Italica'와 다르다. 이것은 오스만 제국 시대에 서남아시아로 도입되었으며 동남유럽(발칸 반도)에서도 흔히 보이는 사시나무류이다. \\n''Populus nigra'' 'Italica'는 왕립원예협회(Royal Horticultural Society)의 정원공로상(Award of Garden Merit)을 수상했다. \\n흑양은 유럽 전역에 넓게 자리하고 있으며 북아프리카와 중앙아시아 및 서아시아에서도 발견된다. 분포 지역은 위도 약 64° 즈음에서 지중해 남부~북부 사이에 위치하고 있고, 서쪽의 브리튼 제도에서 동쪽의 카자흐스탄 과 중국에까지 이른다. 분포 지역에는 코카서스와 중동의 대다수 지역도 포함된다. \\n*  (프랑스어) ''Populus nigra'' 유전자원 보존\\n*  ''Populus nigra'' - 분포 지도, 유전자 보존 단위 및 관련 자원. 유럽 산림 유전자원 프로그램 (EUFORGEN)\\n분류:칼 폰 린네가 명명한 분류군\\n분류:1753년 기재된 식물\\n분류:관상수\\n분류:유럽의 나무\\n분류:유럽의 식물상\\n분류:사시나무속\\n분류:IUCN 적색 목록 정보부족종\", path=None, url=None, mimetype=None), image_resource=None, audio_resource=None, video_resource=None, text_template='{metadata_str}\\n\\n{content}'),\n",
       " Document(id_='8fb0f820-3b22-40e6-ac9e-cd59fbef237a', embedding=None, metadata={'title': '니시하타 유키오'}, excluded_embed_metadata_keys=[], excluded_llm_metadata_keys=[], relationships={}, metadata_template='{key}: {value}', metadata_separator='\\n', text_resource=MediaResource(embeddings=None, data=None, text=\"'''니시하타 유키오'''(, 1946년~)는 일본의 언어학자이다.\\n* 「고대 조선어로 일본의 고전은 읽을 수 있을까」\\u30001991년\\n=== 공저 ===\\n* 『앞으로의 일본문학』(마루야마 류토쿠, 히로타 가즈미, 미우라 슌스케) 2001년*  『勝てる推薦入試』著者紹介\\n분류:1946년 출생\\n분류:살아있는 사람\\n분류:20세기 일본 사람\\n분류:21세기 일본 사람\\n분류:일본의 언어학자\\n분류:일본의 대학 교수\\n분류:일본어학자\\n분류:시가현 출신\\n분류:시가 대학 동문\\n분류:오사카 시립대학 동문\\n분류:나라 여자대학 동문\", path=None, url=None, mimetype=None), image_resource=None, audio_resource=None, video_resource=None, text_template='{metadata_str}\\n\\n{content}'),\n",
       " Document(id_='4d2bcaf7-12e9-4b2f-b123-7c9535dd53c8', embedding=None, metadata={'title': '안드리 스타드니크'}, excluded_embed_metadata_keys=[], excluded_llm_metadata_keys=[], relationships={}, metadata_template='{key}: {value}', metadata_separator='\\n', text_resource=MediaResource(embeddings=None, data=None, text=\"'''안드리 볼로디미로비치 스타드니크'''(, 1982년 4월 15일~)는 우크라이나의 레슬링 선수, 지도자이다. 2008년 하계 올림픽에서 남자 자유형 라이트급 은메달을 획득했으며 세계 레슬링 선수권 대회에서 동메달 1개를 획득했다.\\n아내인 마리야는 아제르바이잔 레슬링 국가대표 선수이며 여동생인 야나는 영국 국가대표 레슬링 선수로 활동했다.\\n*   안드리 스타드니크 - Foeldeak Wrestling Database\\n*   안드리 스타드니크 - Olympedia\\n*   안드리 스타드니크 - Sports Reference\\n분류:1982년 출생\\n분류:살아있는 사람\\n분류:20세기 우크라이나 사람\\n분류:21세기 우크라이나 사람\\n분류:우크라이나의 남자 레슬링 선수\\n분류:우크라이나의 올림픽 은메달리스트\\n분류:올림픽 레슬링 메달리스트\\n분류:2008년 하계 올림픽 메달리스트\\n분류:우크라이나의 올림픽 레슬링 참가 선수\\n분류:2008년 하계 올림픽 레슬링 참가 선수\\n분류:세계 레슬링 선수권 대회 메달리스트\\n분류:흐멜니츠키주 출신\", path=None, url=None, mimetype=None), image_resource=None, audio_resource=None, video_resource=None, text_template='{metadata_str}\\n\\n{content}'),\n",
       " Document(id_='f07b1f4b-91bb-48f6-84c4-3e3709b5751c', embedding=None, metadata={'title': '타라스 단코'}, excluded_embed_metadata_keys=[], excluded_llm_metadata_keys=[], relationships={}, metadata_template='{key}: {value}', metadata_separator='\\n', text_resource=MediaResource(embeddings=None, data=None, text=\"'''타라스 흐리호리요비치 단코'''(, 1980년 7월 3일~)는 우크라이나의 전직 레슬링 선수이다. 2008년 하계 올림픽에서 남자 자유형 미들급 동메달을 획득했으며 세계 레슬링 선수권 대회에서 메달 1개를 획득했다.\\n소련 국가대표 선수 출신 레슬링 지도자인 흐리호리 단코의 아들이다. 흐리호리는 타라스의 개인 코치를 맡았다.\\n*   타라스 단코 - Foeldeak Wrestling Database\\n*   타라스 단코 - Olympedia\\n*   타라스 단코 - Sports Reference\\n분류:1980년 출생\\n분류:살아있는 사람\\n분류:20세기 우크라이나 사람\\n분류:21세기 우크라이나 사람\\n분류:우크라이나의 남자 레슬링 선수\\n분류:우크라이나의 올림픽 동메달리스트\\n분류:올림픽 레슬링 메달리스트\\n분류:2008년 하계 올림픽 메달리스트\\n분류:우크라이나의 올림픽 레슬링 참가 선수\\n분류:2004년 하계 올림픽 레슬링 참가 선수\\n분류:2008년 하계 올림픽 레슬링 참가 선수\\n분류:세계 레슬링 선수권 대회 메달리스트\\n분류:키이우 출신\", path=None, url=None, mimetype=None), image_resource=None, audio_resource=None, video_resource=None, text_template='{metadata_str}\\n\\n{content}')]"
      ]
     },
     "execution_count": 6,
     "metadata": {},
     "output_type": "execute_result"
    }
   ],
   "source": [
    "docs"
   ]
  },
  {
   "cell_type": "code",
   "execution_count": 7,
   "metadata": {},
   "outputs": [],
   "source": [
    "# 벡터스토어 인덱스 설정\n",
    "vector_index = VectorStoreIndex.from_documents(\n",
    "    docs,\n",
    "    use_asnyc=True\n",
    "    )"
   ]
  },
  {
   "cell_type": "code",
   "execution_count": 8,
   "metadata": {},
   "outputs": [],
   "source": [
    "# 쿼리 엔진 설정\n",
    "vector_query_engine = vector_index.as_query_engine(similarity_top_k=2)"
   ]
  },
  {
   "cell_type": "code",
   "execution_count": 9,
   "metadata": {},
   "outputs": [],
   "source": [
    "# 어드벤스트 쿼리 엔진(서브퀘스천쿼리엔진)\n",
    "query_engine_tools = [\n",
    "    QueryEngineTool(\n",
    "        query_engine=vector_query_engine,\n",
    "        metadata=ToolMetadata(\n",
    "            name=\"wikipedia\",\n",
    "            description=\"사용자 질문에 대답할 때 사용\",\n",
    "        ),\n",
    "    ),\n",
    "]\n",
    "\n",
    "query_engine = SubQuestionQueryEngine.from_defaults(\n",
    "    query_engine_tools=query_engine_tools,\n",
    "    use_async=True,\n",
    ")"
   ]
  },
  {
   "cell_type": "markdown",
   "metadata": {},
   "source": [
    "- 구축된 Naive-RAG 파이프라인 이용한 기본적인 Q&A 테스팅"
   ]
  },
  {
   "cell_type": "code",
   "execution_count": 10,
   "metadata": {},
   "outputs": [
    {
     "name": "stdout",
     "output_type": "stream",
     "text": [
      "Generated 1 sub questions.\n",
      "\u001b[1;3;38;2;237;90;200m[wikipedia] Q: Who is Karl Svenonius?\n",
      "\u001b[0m\u001b[1;3;38;2;237;90;200m[wikipedia] A: Karl Svenonius is a former professional football player from Sweden who played as a central defender for clubs such as Yenshaping Shidra, IFK, Rangers, and Caen. He also made one appearance for the Sweden national team and participated in the 2006 World Cup representing his country.\n",
      "\u001b[0m"
     ]
    }
   ],
   "source": [
    "response = query_engine.query('칼 스벤손이 누구야?')"
   ]
  },
  {
   "cell_type": "code",
   "execution_count": 11,
   "metadata": {},
   "outputs": [
    {
     "data": {
      "text/plain": [
       "'Karl Svenonius는 스웨덴 출신의 전직 프로 축구 선수로, Yenshaping Shidra, IFK, Rangers, Caen 등의 클럽에서 중앙 수비수로 활약했습니다. 또한 스웨덴 대표팀에서 한 번 출전하였으며, 2006년 월드컵에 출전하여 국가를 대표했습니다.'"
      ]
     },
     "execution_count": 11,
     "metadata": {},
     "output_type": "execute_result"
    }
   ],
   "source": [
    "# 검색에 대한 답변\n",
    "response.response"
   ]
  },
  {
   "cell_type": "code",
   "execution_count": 13,
   "metadata": {},
   "outputs": [
    {
     "data": {
      "text/plain": [
       "[NodeWithScore(node=TextNode(id_='86cfa888-dfc6-4fd3-b33b-0501054dd847', embedding=None, metadata={}, excluded_embed_metadata_keys=[], excluded_llm_metadata_keys=[], relationships={}, metadata_template='{key}: {value}', metadata_separator='\\n', text='Sub question: Who is Karl Svenonius?\\nResponse: Karl Svenonius is a former professional football player from Sweden who played as a central defender for clubs such as Yenshaping Shidra, IFK, Rangers, and Caen. He also made one appearance for the Sweden national team and participated in the 2006 World Cup representing his country.', mimetype='text/plain', start_char_idx=None, end_char_idx=None, metadata_seperator='\\n', text_template='{metadata_str}\\n\\n{content}'), score=None),\n",
       " NodeWithScore(node=TextNode(id_='00f8e70e-32f1-4c3c-aa20-c710683d16f5', embedding=None, metadata={'title': '칼 스벤손'}, excluded_embed_metadata_keys=[], excluded_llm_metadata_keys=[], relationships={<NodeRelationship.SOURCE: '1'>: RelatedNodeInfo(node_id='3d919858-15c2-449c-a3bf-e89a42082d0e', node_type='4', metadata={'title': '칼 스벤손'}, hash='24375ee09ce40fe2b26fd57705dfcef1891e02850fcd38366c2377027f5804fd'), <NodeRelationship.NEXT: '3'>: RelatedNodeInfo(node_id='34f11a21-bc4c-4131-9bfe-1ea535779413', node_type='1', metadata={}, hash='86abd8eb7c0c274d8503f1dd1f0c68adb544b999039c534d13adb6d7da0d3eba')}, metadata_template='{key}: {value}', metadata_separator='\\n', text=\"'''칼 빌헬름 스벤손'''(, 1984년 3월 21일, 옌셰핑 주 옌셰핑 ~)은 스웨덴의 전직 프로 축구 선수로, 현역 시절 옌셰핑스 셰드라, IFK, 레인저스, 그리고 캉에서 중앙 수비수로 활약했다. 그는 스웨덴 국가대표팀에 1번 출전했고, 2006년 월드컵에 자국을 대표로 출전했다.\\n=== 초기 경력 ===\\n칼 스벤손은 유년 시절에 속했던 옌셰핑스 셰드라 소속으로 프로 무대 신고식을 치럿고, 2003년 알스벤스칸 시즌을 앞두고 IFK로 이적했다. 그는 2004년 시즌에 IFK 일원으로 스벤스카 쿠펜 결승전에 올랐지만, 유르고르덴에 1-3으로 패했다. 스벤손은 이 결승전에서 경고 누적으로 퇴장당했다.\\n=== 레인저스 ===\\n스벤손은 2006년 5월 26일에 스코틀랜드 글래스고 연고의 레인저스와 비공개 이적료로 3년 계약을 체결했다. 이적료는 £600,000 정도인 것으로 보도되었다. 그는 2-1로 이긴 마더웰과의 스코티시 프리미어리그 첫 경기에서 레인저스 이적 후 첫 경기를 치렀다. 그는 레인저스 소속으로 총 27번의 스코티시 프리미어리그 경기에 출전했지만, 2007년 2월을 기점으로 출전 기회가 크게 줄어들었다.\\n=== 캉 ===\\n2007년 6월 27일, 스벤손은 프랑스 리그 1의 승격 새내기 캉과 3년 계약을 체결했다. 그러나, 그는 프랑스 무대에서 잦은 부상으로 그리 많은 출전 기회를 잡지 못했다.\\n=== 스웨덴 무대 복귀 ===\\n2009년 1월 19일, 스벤손은 전 소속 구단 IFK와 4년 계약을 체결했다. 2011년 12월 23일, 그는 스웨덴 2부 리그인 수페레탄에 속한 친정 구단 옌셰핑스 셰드라와 3년 계약을 맺었다. 스벤손은 2014년 수페레탄 시즌이 끝난 뒤 현역에서 은퇴했다.\\nU-17, U-19, 그리고 U-21 연령대의 스웨덴 국가대표팀에서 활약한 스벤손은 2006년 1월에 사우디아라비아를 상대로 처음이자 마지막으로 스웨덴 국가대표팀 경기를 치렀다.\", mimetype='text/plain', start_char_idx=0, end_char_idx=950, metadata_seperator='\\n', text_template='{metadata_str}\\n\\n{content}'), score=0.22168312995591083),\n",
       " NodeWithScore(node=TextNode(id_='34f11a21-bc4c-4131-9bfe-1ea535779413', embedding=None, metadata={'title': '칼 스벤손'}, excluded_embed_metadata_keys=[], excluded_llm_metadata_keys=[], relationships={<NodeRelationship.SOURCE: '1'>: RelatedNodeInfo(node_id='3d919858-15c2-449c-a3bf-e89a42082d0e', node_type='4', metadata={'title': '칼 스벤손'}, hash='24375ee09ce40fe2b26fd57705dfcef1891e02850fcd38366c2377027f5804fd'), <NodeRelationship.PREVIOUS: '2'>: RelatedNodeInfo(node_id='00f8e70e-32f1-4c3c-aa20-c710683d16f5', node_type='1', metadata={'title': '칼 스벤손'}, hash='d73b7e6831856b60cb82b3971af5b8af0883a64351fc4cbf194189cbf6f4cc81')}, metadata_template='{key}: {value}', metadata_separator='\\n', text=\"스벤손은 2014년 수페레탄 시즌이 끝난 뒤 현역에서 은퇴했다.\\nU-17, U-19, 그리고 U-21 연령대의 스웨덴 국가대표팀에서 활약한 스벤손은 2006년 1월에 사우디아라비아를 상대로 처음이자 마지막으로 스웨덴 국가대표팀 경기를 치렀다. 그는 2006년 월드컵에 스웨덴 선수단 일원으로 승선했지만, 한 경기도 출전하지 못했다.\\n*  칼 스벤손 - 프랑스 프로축구연맹 \\n*\\n* #2 칼 스벤손 - ''ifkdb.com''\\n분류:1984년 출생\\n분류:살아있는 사람\\n분류:스웨덴의 남자 축구 선수\\n분류:남자 축구 센터백\\n분류:스웨덴 남자 축구 국가대표팀 선수\\n분류:스웨덴 남자 청소년 축구 국가대표팀 선수\\n분류:스웨덴 남자 U-21 축구 국가대표팀 선수\\n분류:2006년 FIFA 월드컵 참가 선수\\n분류:리그 1의 축구 선수\\n분류:알스벤스칸의 축구 선수\\n분류:옌셰핑스 셰드라 IF의 축구 선수\\n분류:IFK 예테보리의 축구 선수\\n분류:레인저스 FC의 축구 선수\\n분류:SM 캉의 축구 선수\\n분류:스코티시 프리미어리그의 축구 선수\\n분류:스웨덴의 해외 진출 남자 축구 선수\\n분류:스코틀랜드의 외국인 남자 축구 선수\\n분류:스코틀랜드에 거주한 스웨덴인\\n분류:프랑스의 외국인 남자 축구 선수\\n분류:프랑스에 거주한 스웨덴인\\n분류:옌셰핑 출신\\n분류:옌셰핑주 출신 축구 선수\", mimetype='text/plain', start_char_idx=815, end_char_idx=1461, metadata_seperator='\\n', text_template='{metadata_str}\\n\\n{content}'), score=0.20515683552526848)]"
      ]
     },
     "execution_count": 13,
     "metadata": {},
     "output_type": "execute_result"
    }
   ],
   "source": [
    "# 소스노드 구조\n",
    "response.source_nodes"
   ]
  },
  {
   "cell_type": "code",
   "execution_count": 12,
   "metadata": {},
   "outputs": [
    {
     "name": "stdout",
     "output_type": "stream",
     "text": [
      "0.22168312995591083\n",
      "0.20515683552526848\n"
     ]
    }
   ],
   "source": [
    "print(response.source_nodes[1].score)\n",
    "print(response.source_nodes[2].score)"
   ]
  },
  {
   "cell_type": "code",
   "execution_count": 14,
   "metadata": {},
   "outputs": [
    {
     "name": "stdout",
     "output_type": "stream",
     "text": [
      "0\n",
      "950\n",
      "950\n"
     ]
    }
   ],
   "source": [
    "# 참조 청크의 사이즈(글자수)\n",
    "print(response.source_nodes[1].node.start_char_idx)\n",
    "print(response.source_nodes[1].node.end_char_idx)\n",
    "print(response.source_nodes[1].node.end_char_idx-response.source_nodes[1].node.start_char_idx)"
   ]
  },
  {
   "cell_type": "code",
   "execution_count": 15,
   "metadata": {},
   "outputs": [
    {
     "name": "stdout",
     "output_type": "stream",
     "text": [
      "Generated 2 sub questions.\n",
      "\u001b[1;3;38;2;237;90;200m[wikipedia] Q: When was Karl Svensson born?\n",
      "\u001b[0m\u001b[1;3;38;2;90;149;237m[wikipedia] Q: Which World Cup did Karl Svensson participate in?\n",
      "\u001b[0m\u001b[1;3;38;2;237;90;200m[wikipedia] A: Karl Svensson was born in 1984.\n",
      "\u001b[0m\u001b[1;3;38;2;90;149;237m[wikipedia] A: Karl Svensson participated in the 2006 World Cup.\n",
      "\u001b[0m"
     ]
    }
   ],
   "source": [
    "# 다른 질문\n",
    "response = query_engine.query('칼 스벤손이 언제 태어났고, 어떤 월드컵에 참가했지?')"
   ]
  },
  {
   "cell_type": "code",
   "execution_count": 16,
   "metadata": {},
   "outputs": [
    {
     "data": {
      "text/plain": [
       "'Karl Svensson was born in 1984 and participated in the 2006 World Cup.'"
      ]
     },
     "execution_count": 16,
     "metadata": {},
     "output_type": "execute_result"
    }
   ],
   "source": [
    "response.response"
   ]
  },
  {
   "cell_type": "code",
   "execution_count": 17,
   "metadata": {},
   "outputs": [
    {
     "data": {
      "text/plain": [
       "[NodeWithScore(node=TextNode(id_='0736ff86-5bb7-4dc7-88a7-d85156091d57', embedding=None, metadata={}, excluded_embed_metadata_keys=[], excluded_llm_metadata_keys=[], relationships={}, metadata_template='{key}: {value}', metadata_separator='\\n', text='Sub question: When was Karl Svensson born?\\nResponse: Karl Svensson was born in 1984.', mimetype='text/plain', start_char_idx=None, end_char_idx=None, metadata_seperator='\\n', text_template='{metadata_str}\\n\\n{content}'), score=None),\n",
       " NodeWithScore(node=TextNode(id_='3d01b75e-0e4b-4fd5-97a0-7b5792c599c7', embedding=None, metadata={}, excluded_embed_metadata_keys=[], excluded_llm_metadata_keys=[], relationships={}, metadata_template='{key}: {value}', metadata_separator='\\n', text='Sub question: Which World Cup did Karl Svensson participate in?\\nResponse: Karl Svensson participated in the 2006 World Cup.', mimetype='text/plain', start_char_idx=None, end_char_idx=None, metadata_seperator='\\n', text_template='{metadata_str}\\n\\n{content}'), score=None),\n",
       " NodeWithScore(node=TextNode(id_='00f8e70e-32f1-4c3c-aa20-c710683d16f5', embedding=None, metadata={'title': '칼 스벤손'}, excluded_embed_metadata_keys=[], excluded_llm_metadata_keys=[], relationships={<NodeRelationship.SOURCE: '1'>: RelatedNodeInfo(node_id='3d919858-15c2-449c-a3bf-e89a42082d0e', node_type='4', metadata={'title': '칼 스벤손'}, hash='24375ee09ce40fe2b26fd57705dfcef1891e02850fcd38366c2377027f5804fd'), <NodeRelationship.NEXT: '3'>: RelatedNodeInfo(node_id='34f11a21-bc4c-4131-9bfe-1ea535779413', node_type='1', metadata={}, hash='86abd8eb7c0c274d8503f1dd1f0c68adb544b999039c534d13adb6d7da0d3eba')}, metadata_template='{key}: {value}', metadata_separator='\\n', text=\"'''칼 빌헬름 스벤손'''(, 1984년 3월 21일, 옌셰핑 주 옌셰핑 ~)은 스웨덴의 전직 프로 축구 선수로, 현역 시절 옌셰핑스 셰드라, IFK, 레인저스, 그리고 캉에서 중앙 수비수로 활약했다. 그는 스웨덴 국가대표팀에 1번 출전했고, 2006년 월드컵에 자국을 대표로 출전했다.\\n=== 초기 경력 ===\\n칼 스벤손은 유년 시절에 속했던 옌셰핑스 셰드라 소속으로 프로 무대 신고식을 치럿고, 2003년 알스벤스칸 시즌을 앞두고 IFK로 이적했다. 그는 2004년 시즌에 IFK 일원으로 스벤스카 쿠펜 결승전에 올랐지만, 유르고르덴에 1-3으로 패했다. 스벤손은 이 결승전에서 경고 누적으로 퇴장당했다.\\n=== 레인저스 ===\\n스벤손은 2006년 5월 26일에 스코틀랜드 글래스고 연고의 레인저스와 비공개 이적료로 3년 계약을 체결했다. 이적료는 £600,000 정도인 것으로 보도되었다. 그는 2-1로 이긴 마더웰과의 스코티시 프리미어리그 첫 경기에서 레인저스 이적 후 첫 경기를 치렀다. 그는 레인저스 소속으로 총 27번의 스코티시 프리미어리그 경기에 출전했지만, 2007년 2월을 기점으로 출전 기회가 크게 줄어들었다.\\n=== 캉 ===\\n2007년 6월 27일, 스벤손은 프랑스 리그 1의 승격 새내기 캉과 3년 계약을 체결했다. 그러나, 그는 프랑스 무대에서 잦은 부상으로 그리 많은 출전 기회를 잡지 못했다.\\n=== 스웨덴 무대 복귀 ===\\n2009년 1월 19일, 스벤손은 전 소속 구단 IFK와 4년 계약을 체결했다. 2011년 12월 23일, 그는 스웨덴 2부 리그인 수페레탄에 속한 친정 구단 옌셰핑스 셰드라와 3년 계약을 맺었다. 스벤손은 2014년 수페레탄 시즌이 끝난 뒤 현역에서 은퇴했다.\\nU-17, U-19, 그리고 U-21 연령대의 스웨덴 국가대표팀에서 활약한 스벤손은 2006년 1월에 사우디아라비아를 상대로 처음이자 마지막으로 스웨덴 국가대표팀 경기를 치렀다.\", mimetype='text/plain', start_char_idx=0, end_char_idx=950, metadata_seperator='\\n', text_template='{metadata_str}\\n\\n{content}'), score=0.2831968119272654),\n",
       " NodeWithScore(node=TextNode(id_='34f11a21-bc4c-4131-9bfe-1ea535779413', embedding=None, metadata={'title': '칼 스벤손'}, excluded_embed_metadata_keys=[], excluded_llm_metadata_keys=[], relationships={<NodeRelationship.SOURCE: '1'>: RelatedNodeInfo(node_id='3d919858-15c2-449c-a3bf-e89a42082d0e', node_type='4', metadata={'title': '칼 스벤손'}, hash='24375ee09ce40fe2b26fd57705dfcef1891e02850fcd38366c2377027f5804fd'), <NodeRelationship.PREVIOUS: '2'>: RelatedNodeInfo(node_id='00f8e70e-32f1-4c3c-aa20-c710683d16f5', node_type='1', metadata={'title': '칼 스벤손'}, hash='d73b7e6831856b60cb82b3971af5b8af0883a64351fc4cbf194189cbf6f4cc81')}, metadata_template='{key}: {value}', metadata_separator='\\n', text=\"스벤손은 2014년 수페레탄 시즌이 끝난 뒤 현역에서 은퇴했다.\\nU-17, U-19, 그리고 U-21 연령대의 스웨덴 국가대표팀에서 활약한 스벤손은 2006년 1월에 사우디아라비아를 상대로 처음이자 마지막으로 스웨덴 국가대표팀 경기를 치렀다. 그는 2006년 월드컵에 스웨덴 선수단 일원으로 승선했지만, 한 경기도 출전하지 못했다.\\n*  칼 스벤손 - 프랑스 프로축구연맹 \\n*\\n* #2 칼 스벤손 - ''ifkdb.com''\\n분류:1984년 출생\\n분류:살아있는 사람\\n분류:스웨덴의 남자 축구 선수\\n분류:남자 축구 센터백\\n분류:스웨덴 남자 축구 국가대표팀 선수\\n분류:스웨덴 남자 청소년 축구 국가대표팀 선수\\n분류:스웨덴 남자 U-21 축구 국가대표팀 선수\\n분류:2006년 FIFA 월드컵 참가 선수\\n분류:리그 1의 축구 선수\\n분류:알스벤스칸의 축구 선수\\n분류:옌셰핑스 셰드라 IF의 축구 선수\\n분류:IFK 예테보리의 축구 선수\\n분류:레인저스 FC의 축구 선수\\n분류:SM 캉의 축구 선수\\n분류:스코티시 프리미어리그의 축구 선수\\n분류:스웨덴의 해외 진출 남자 축구 선수\\n분류:스코틀랜드의 외국인 남자 축구 선수\\n분류:스코틀랜드에 거주한 스웨덴인\\n분류:프랑스의 외국인 남자 축구 선수\\n분류:프랑스에 거주한 스웨덴인\\n분류:옌셰핑 출신\\n분류:옌셰핑주 출신 축구 선수\", mimetype='text/plain', start_char_idx=815, end_char_idx=1461, metadata_seperator='\\n', text_template='{metadata_str}\\n\\n{content}'), score=0.243683587919506),\n",
       " NodeWithScore(node=TextNode(id_='00f8e70e-32f1-4c3c-aa20-c710683d16f5', embedding=None, metadata={'title': '칼 스벤손'}, excluded_embed_metadata_keys=[], excluded_llm_metadata_keys=[], relationships={<NodeRelationship.SOURCE: '1'>: RelatedNodeInfo(node_id='3d919858-15c2-449c-a3bf-e89a42082d0e', node_type='4', metadata={'title': '칼 스벤손'}, hash='24375ee09ce40fe2b26fd57705dfcef1891e02850fcd38366c2377027f5804fd'), <NodeRelationship.NEXT: '3'>: RelatedNodeInfo(node_id='34f11a21-bc4c-4131-9bfe-1ea535779413', node_type='1', metadata={}, hash='86abd8eb7c0c274d8503f1dd1f0c68adb544b999039c534d13adb6d7da0d3eba')}, metadata_template='{key}: {value}', metadata_separator='\\n', text=\"'''칼 빌헬름 스벤손'''(, 1984년 3월 21일, 옌셰핑 주 옌셰핑 ~)은 스웨덴의 전직 프로 축구 선수로, 현역 시절 옌셰핑스 셰드라, IFK, 레인저스, 그리고 캉에서 중앙 수비수로 활약했다. 그는 스웨덴 국가대표팀에 1번 출전했고, 2006년 월드컵에 자국을 대표로 출전했다.\\n=== 초기 경력 ===\\n칼 스벤손은 유년 시절에 속했던 옌셰핑스 셰드라 소속으로 프로 무대 신고식을 치럿고, 2003년 알스벤스칸 시즌을 앞두고 IFK로 이적했다. 그는 2004년 시즌에 IFK 일원으로 스벤스카 쿠펜 결승전에 올랐지만, 유르고르덴에 1-3으로 패했다. 스벤손은 이 결승전에서 경고 누적으로 퇴장당했다.\\n=== 레인저스 ===\\n스벤손은 2006년 5월 26일에 스코틀랜드 글래스고 연고의 레인저스와 비공개 이적료로 3년 계약을 체결했다. 이적료는 £600,000 정도인 것으로 보도되었다. 그는 2-1로 이긴 마더웰과의 스코티시 프리미어리그 첫 경기에서 레인저스 이적 후 첫 경기를 치렀다. 그는 레인저스 소속으로 총 27번의 스코티시 프리미어리그 경기에 출전했지만, 2007년 2월을 기점으로 출전 기회가 크게 줄어들었다.\\n=== 캉 ===\\n2007년 6월 27일, 스벤손은 프랑스 리그 1의 승격 새내기 캉과 3년 계약을 체결했다. 그러나, 그는 프랑스 무대에서 잦은 부상으로 그리 많은 출전 기회를 잡지 못했다.\\n=== 스웨덴 무대 복귀 ===\\n2009년 1월 19일, 스벤손은 전 소속 구단 IFK와 4년 계약을 체결했다. 2011년 12월 23일, 그는 스웨덴 2부 리그인 수페레탄에 속한 친정 구단 옌셰핑스 셰드라와 3년 계약을 맺었다. 스벤손은 2014년 수페레탄 시즌이 끝난 뒤 현역에서 은퇴했다.\\nU-17, U-19, 그리고 U-21 연령대의 스웨덴 국가대표팀에서 활약한 스벤손은 2006년 1월에 사우디아라비아를 상대로 처음이자 마지막으로 스웨덴 국가대표팀 경기를 치렀다.\", mimetype='text/plain', start_char_idx=0, end_char_idx=950, metadata_seperator='\\n', text_template='{metadata_str}\\n\\n{content}'), score=0.36156709484904465),\n",
       " NodeWithScore(node=TextNode(id_='34f11a21-bc4c-4131-9bfe-1ea535779413', embedding=None, metadata={'title': '칼 스벤손'}, excluded_embed_metadata_keys=[], excluded_llm_metadata_keys=[], relationships={<NodeRelationship.SOURCE: '1'>: RelatedNodeInfo(node_id='3d919858-15c2-449c-a3bf-e89a42082d0e', node_type='4', metadata={'title': '칼 스벤손'}, hash='24375ee09ce40fe2b26fd57705dfcef1891e02850fcd38366c2377027f5804fd'), <NodeRelationship.PREVIOUS: '2'>: RelatedNodeInfo(node_id='00f8e70e-32f1-4c3c-aa20-c710683d16f5', node_type='1', metadata={'title': '칼 스벤손'}, hash='d73b7e6831856b60cb82b3971af5b8af0883a64351fc4cbf194189cbf6f4cc81')}, metadata_template='{key}: {value}', metadata_separator='\\n', text=\"스벤손은 2014년 수페레탄 시즌이 끝난 뒤 현역에서 은퇴했다.\\nU-17, U-19, 그리고 U-21 연령대의 스웨덴 국가대표팀에서 활약한 스벤손은 2006년 1월에 사우디아라비아를 상대로 처음이자 마지막으로 스웨덴 국가대표팀 경기를 치렀다. 그는 2006년 월드컵에 스웨덴 선수단 일원으로 승선했지만, 한 경기도 출전하지 못했다.\\n*  칼 스벤손 - 프랑스 프로축구연맹 \\n*\\n* #2 칼 스벤손 - ''ifkdb.com''\\n분류:1984년 출생\\n분류:살아있는 사람\\n분류:스웨덴의 남자 축구 선수\\n분류:남자 축구 센터백\\n분류:스웨덴 남자 축구 국가대표팀 선수\\n분류:스웨덴 남자 청소년 축구 국가대표팀 선수\\n분류:스웨덴 남자 U-21 축구 국가대표팀 선수\\n분류:2006년 FIFA 월드컵 참가 선수\\n분류:리그 1의 축구 선수\\n분류:알스벤스칸의 축구 선수\\n분류:옌셰핑스 셰드라 IF의 축구 선수\\n분류:IFK 예테보리의 축구 선수\\n분류:레인저스 FC의 축구 선수\\n분류:SM 캉의 축구 선수\\n분류:스코티시 프리미어리그의 축구 선수\\n분류:스웨덴의 해외 진출 남자 축구 선수\\n분류:스코틀랜드의 외국인 남자 축구 선수\\n분류:스코틀랜드에 거주한 스웨덴인\\n분류:프랑스의 외국인 남자 축구 선수\\n분류:프랑스에 거주한 스웨덴인\\n분류:옌셰핑 출신\\n분류:옌셰핑주 출신 축구 선수\", mimetype='text/plain', start_char_idx=815, end_char_idx=1461, metadata_seperator='\\n', text_template='{metadata_str}\\n\\n{content}'), score=0.3565489633343606)]"
      ]
     },
     "execution_count": 17,
     "metadata": {},
     "output_type": "execute_result"
    }
   ],
   "source": [
    "# 소스노드 구조\n",
    "response.source_nodes"
   ]
  },
  {
   "cell_type": "code",
   "execution_count": 18,
   "metadata": {},
   "outputs": [
    {
     "data": {
      "text/plain": [
       "[Document(id_='85aab55c-fda7-459e-bdc4-f9d2999e0a9d', embedding=None, metadata={'title': '학도요'}, excluded_embed_metadata_keys=[], excluded_llm_metadata_keys=[], relationships={}, metadata_template='{key}: {value}', metadata_separator='\\n', text_resource=MediaResource(embeddings=None, data=None, text=\"'''학도요'''(, )는 도요목 도요과에 속하는 나그네새이다.\\n부리와 다리가 길고 아랫부리의 절반이 붉은색이다. \\n=== 여름깃 ===\\n전체적으로 검은색이고 몸윗면에 흰 반점이 흩어져 있다. \\n=== 겨울깃 ===\\n전체적으로 회갈색이고 흰색 눈썹선이 명확하다. 몸아랫면은 흰색이며 가슴과 옆구리에 엷은 회갈색 기운이 있다.\\n무논, 습지, 하구, 갯벌 등에서 무리지어 생활한다. 유라시아대륙 북부에서 번식하고 유럽 남부, 아프리카, 인도, 동남아시아에서 월동한다.\\n분류:도요과\\n분류:한국의 새\\n분류:한국의 나그네새\\n분류:유럽의 새\\n분류:아프리카의 새\\n분류:인도의 새\\n분류:동남아시아의 새\", path=None, url=None, mimetype=None), image_resource=None, audio_resource=None, video_resource=None, text_template='{metadata_str}\\n\\n{content}'),\n",
       " Document(id_='a8b6cd5b-e015-4e60-a7a2-52beb77a2215', embedding=None, metadata={'title': '뒷부리도요'}, excluded_embed_metadata_keys=[], excluded_llm_metadata_keys=[], relationships={}, metadata_template='{key}: {value}', metadata_separator='\\n', text_resource=MediaResource(embeddings=None, data=None, text=\"'''뒷부리도요'''(, )는 도요목 도요과에 속하는 나그네새이다.\\n부리가 길고 위로 굽었으며 기부가 엷은 주황색이다. 다리는 노랗고 비교적 짧다.\\n=== 여름깃 ===\\n몸윗면은 회갈색이고 어깨깃 일부에 검은 줄무늬가 있다.\\n=== 겨울깃 ===\\n어깨깃의 검은 줄무늬가 거의 사라진다.\\n해안 갯벌, 하구, 하천에서 서식한다, 유라시아대륙 북부에서 번식하고 아프리카, 인도, 동남아시아, 중동, 오스트레일리아 등에서 월동한다.\\n분류:도요과\\n분류:한국의 새\\n분류:한국의 나그네새\\n분류:아프리카의 새\\n분류:인도의 새\\n분류:동남아시아의 새\\n분류:오스트레일리아의 새\", path=None, url=None, mimetype=None), image_resource=None, audio_resource=None, video_resource=None, text_template='{metadata_str}\\n\\n{content}'),\n",
       " Document(id_='3d919858-15c2-449c-a3bf-e89a42082d0e', embedding=None, metadata={'title': '칼 스벤손'}, excluded_embed_metadata_keys=[], excluded_llm_metadata_keys=[], relationships={}, metadata_template='{key}: {value}', metadata_separator='\\n', text_resource=MediaResource(embeddings=None, data=None, text=\"'''칼 빌헬름 스벤손'''(, 1984년 3월 21일, 옌셰핑 주 옌셰핑 ~)은 스웨덴의 전직 프로 축구 선수로, 현역 시절 옌셰핑스 셰드라, IFK, 레인저스, 그리고 캉에서 중앙 수비수로 활약했다. 그는 스웨덴 국가대표팀에 1번 출전했고, 2006년 월드컵에 자국을 대표로 출전했다.\\n=== 초기 경력 ===\\n칼 스벤손은 유년 시절에 속했던 옌셰핑스 셰드라 소속으로 프로 무대 신고식을 치럿고, 2003년 알스벤스칸 시즌을 앞두고 IFK로 이적했다. 그는 2004년 시즌에 IFK 일원으로 스벤스카 쿠펜 결승전에 올랐지만, 유르고르덴에 1-3으로 패했다. 스벤손은 이 결승전에서 경고 누적으로 퇴장당했다.\\n=== 레인저스 ===\\n스벤손은 2006년 5월 26일에 스코틀랜드 글래스고 연고의 레인저스와 비공개 이적료로 3년 계약을 체결했다. 이적료는 £600,000 정도인 것으로 보도되었다. 그는 2-1로 이긴 마더웰과의 스코티시 프리미어리그 첫 경기에서 레인저스 이적 후 첫 경기를 치렀다. 그는 레인저스 소속으로 총 27번의 스코티시 프리미어리그 경기에 출전했지만, 2007년 2월을 기점으로 출전 기회가 크게 줄어들었다.\\n=== 캉 ===\\n2007년 6월 27일, 스벤손은 프랑스 리그 1의 승격 새내기 캉과 3년 계약을 체결했다. 그러나, 그는 프랑스 무대에서 잦은 부상으로 그리 많은 출전 기회를 잡지 못했다.\\n=== 스웨덴 무대 복귀 ===\\n2009년 1월 19일, 스벤손은 전 소속 구단 IFK와 4년 계약을 체결했다. 2011년 12월 23일, 그는 스웨덴 2부 리그인 수페레탄에 속한 친정 구단 옌셰핑스 셰드라와 3년 계약을 맺었다. 스벤손은 2014년 수페레탄 시즌이 끝난 뒤 현역에서 은퇴했다.\\nU-17, U-19, 그리고 U-21 연령대의 스웨덴 국가대표팀에서 활약한 스벤손은 2006년 1월에 사우디아라비아를 상대로 처음이자 마지막으로 스웨덴 국가대표팀 경기를 치렀다. 그는 2006년 월드컵에 스웨덴 선수단 일원으로 승선했지만, 한 경기도 출전하지 못했다.\\n*  칼 스벤손 - 프랑스 프로축구연맹 \\n*\\n* #2 칼 스벤손 - ''ifkdb.com''\\n분류:1984년 출생\\n분류:살아있는 사람\\n분류:스웨덴의 남자 축구 선수\\n분류:남자 축구 센터백\\n분류:스웨덴 남자 축구 국가대표팀 선수\\n분류:스웨덴 남자 청소년 축구 국가대표팀 선수\\n분류:스웨덴 남자 U-21 축구 국가대표팀 선수\\n분류:2006년 FIFA 월드컵 참가 선수\\n분류:리그 1의 축구 선수\\n분류:알스벤스칸의 축구 선수\\n분류:옌셰핑스 셰드라 IF의 축구 선수\\n분류:IFK 예테보리의 축구 선수\\n분류:레인저스 FC의 축구 선수\\n분류:SM 캉의 축구 선수\\n분류:스코티시 프리미어리그의 축구 선수\\n분류:스웨덴의 해외 진출 남자 축구 선수\\n분류:스코틀랜드의 외국인 남자 축구 선수\\n분류:스코틀랜드에 거주한 스웨덴인\\n분류:프랑스의 외국인 남자 축구 선수\\n분류:프랑스에 거주한 스웨덴인\\n분류:옌셰핑 출신\\n분류:옌셰핑주 출신 축구 선수\", path=None, url=None, mimetype=None), image_resource=None, audio_resource=None, video_resource=None, text_template='{metadata_str}\\n\\n{content}'),\n",
       " Document(id_='98f10a65-0e8f-4725-9a0d-6645be927dd3', embedding=None, metadata={'title': '노랑발도요'}, excluded_embed_metadata_keys=[], excluded_llm_metadata_keys=[], relationships={}, metadata_template='{key}: {value}', metadata_separator='\\n', text_resource=MediaResource(embeddings=None, data=None, text=\"'''노랑발도요'''(, )는 도요목 도요과에 속하는 나그네새이다.\\n다리는 비교적 짧은 노란색이며 몸윗면이 진한 회갈색이고 흰 눈썹선이 있다. \\n=== 여름깃 ===\\n멱, 가슴, 옆구리에 흑갈색 물결무늬가 있다. \\n=== 겨울깃 ===\\n몸아랫면에 줄무늬가 없어진다.\\n갯벌, 하구, 백사장, 바위 해변에서 서식한다. 시베리아 동북부에서 번식하고 동남아시아, 뉴기니, 오스트레일리아 등에서 월동한다.\\n분류:도요과\\n분류:한국의 새\\n분류:한국의 나그네새\\n분류:러시아의 새\\n분류:동남아시아의 새\\n분류:오스트레일리아의 새\", path=None, url=None, mimetype=None), image_resource=None, audio_resource=None, video_resource=None, text_template='{metadata_str}\\n\\n{content}'),\n",
       " Document(id_='eb1ed335-fddf-4d83-a666-a0c96fbaaf0b', embedding=None, metadata={'title': '신창균'}, excluded_embed_metadata_keys=[], excluded_llm_metadata_keys=[], relationships={}, metadata_template='{key}: {value}', metadata_separator='\\n', text_resource=MediaResource(embeddings=None, data=None, text=\"'''신창균'''(申昌均, 1908년~2003년 3월 5일)은 대한민국의 독립운동이자 민주화운동가, 통일운동가이다. 호는 송암(松岩)이다.\\n1908년, 충청북도 영동에서 태어난 그는 12살의 어린 나이에 3.1운동에 참가했다가 일본 경찰에 체포되었지만 당시 나이가 어렸기에 매만 맞고 풀려나게 되었다.\\n1940년 6월에는 중국으로 망명해 대한민국 임시정부의 마카오 연락책으로 활동하면서 임시정부에 독립자금을 제공하며 중국 내 일본군의 움직임을 보고하는 일을 맡았다. 해방 이후에는 한국독립당의 중앙집행위원·연락부장·재정부장·재정위원장 등으로 활동했으며, 1948년 4월에는 북측의 단독정부 수립을 막기 위해 한국독립당 대표 8인 중 한 명으로 평양에 가 김일성과 회담을 가졌다.\\n이후 진보당사건 및 5.16군사정변에 연류되어 수감생활을 하였고, 풀려난 뒤에는 군사독재 종식을 위한 민주화운동 및 통일운동에 전념했다.*《가시밭길에서도 느끼는 행복》* \\n분류:1908년 출생\\n분류:2003년 사망\\n분류:20세기 한국 사람\\n분류:20세기 대한민국 사람\\n분류:21세기 대한민국 사람\\n분류:일제강점기의 교사\\n분류:한국의 독립운동가\\n분류:대한민국의 민주주의 운동가\\n분류:대한민국의 통일운동가\\n분류:한국독립당의 당원\\n분류:영동군 출신\\n분류:3·1 운동 관련자\", path=None, url=None, mimetype=None), image_resource=None, audio_resource=None, video_resource=None, text_template='{metadata_str}\\n\\n{content}'),\n",
       " Document(id_='c6f7a450-8dc7-43a7-962d-0d839efabb72', embedding=None, metadata={'title': '송곳부리도요'}, excluded_embed_metadata_keys=[], excluded_llm_metadata_keys=[], relationships={}, metadata_template='{key}: {value}', metadata_separator='\\n', text_resource=MediaResource(embeddings=None, data=None, text=\"'''송곳부리도요'''(, )는 도요목 도요과에 속하는 나그네새이다.\\n흰 눈썹선과 머리옆선이 있고 부리가 길고 폭 넓으며 끝부분이 아래로 굽은 것이 특징이다.\\n갯벌, 하구, 모래갯벌, 무논에서 서식하고 스칸디나비아반도 북부와 러시아 서북부, 시베리아 동북부에서 번식하며 중동, 인도, 동남아시아, 오스트레일리아에서 월동한다.\\n분류:도요과\\n분류:한국의 새\\n분류:한국의 나그네새\\n분류:러시아의 새\\n분류:인도의 새\\n분류:동남아시아의 새\\n분류:오스트레일리아의 새\", path=None, url=None, mimetype=None), image_resource=None, audio_resource=None, video_resource=None, text_template='{metadata_str}\\n\\n{content}'),\n",
       " Document(id_='3ced0ffc-010a-4341-9e2f-1c0ce38fe64e', embedding=None, metadata={'title': '흑양'}, excluded_embed_metadata_keys=[], excluded_llm_metadata_keys=[], relationships={}, metadata_template='{key}: {value}', metadata_separator='\\n', text_resource=MediaResource(embeddings=None, data=None, text=\"'''흑양'''(黑楊. ''Populus nigra'')은 유럽, 서남아시아 및 중앙아시아, 서북아프리카가 원산인 사시나무속 아이기로스''(Aigeiros'')절의 모식종이다.\\n흑양은 중대형 낙엽 교목으로 높이가 20~30m에 달하고 수고가 40m에 이른다. 잎은 다이아몬드 모양 또는 삼각형이고 길이는 5~8cm이다. 폭은 6~8cm이고 잎의 양면이 녹색이다. 보통 원줄기의 흉고직경은 1.5m DBH이나 프랑스의 일부 특이 개체목의 경우 훨씬 더 두꺼운 흉고를 가질 정도로 오래되었다.\\n흑양은 자웅이주이며, 꼬리 형태(catkin)로 꽃차례가 길게 늘어지고 풍매수분에 의지한다. 흑양은 물을 좋아해 습한 저지대에 서식한다. 대부분의 다른 개척종과 마찬가지로 속성수(빠르게 자라는 나무)인 것이 특징이며 개활지에서 빠르게 활착이 가능하다.\\n흑양 종자 다발\\n=== 아종 ===\\n아종이 세 종 있으며 일부 식물학자들은 네 번째 아종을 따로 두기도 한다. \\n* 흑양(''P.n.'' subsp. ''nigra''): 유럽 중부와 동부가 원산지이다. 잎과 순에는 털이 없다. 수피는 회갈색이고 두껍고 주름이 있다.\\n스코틀랜드 에어셔에 있는 흑양(베툴리폴리아 아종)의 수피와 거스러미.\\n* ''P.n.'' subsp ''betulifolia'' (Pursh) W.Wettst. 서유럽( 프랑스, 영국, 아일랜드)이 원산지이다. 잎맥과 새순은 가늘은 솜털 모양이다. 수피는 회갈색이고, 두껍고 고랑이 있으며, 종종 두꺼운 거스러미가 있다. 원줄기는 종종 심하게 기울어져 있다.\\n* ''P.n.'' subsp ''caudina'' (10.) Bugała. 지중해가 원산지이다. 서남아시아도 포함된다. var. ''afganica''의 경우에는 불분명하다.\\n* ''P.n.'' var. ''afganica'' Aitch. & Hemsl. (동종이명 ''P. n.'' var. ''thevestina'' (Dode) Bean). 서남아시아가 원산지이다. 많은 식물학자들이 ''P. nigra''의 품종으로 간주하였고, 다른 식물학자들은 별개의 종인 ''P. afghanica'' 로 취급하고 있다.  껍질은 매끄럽고 겅과 순이 거의 흰색이다. ''caudina'' 아종은 잎과 순이 하얗다. (아래의 품종 참조).\\n아종 ''P.n. betulifolia''는 영국과 아일랜드에서 가장 희귀한 수종 중 하나이며, 약 7,000그루의 나무만이 서식 중이며, 그 중 암그루로 확인된 나무는 약 600그루 뿐이다. \\n=== 재배품종 ===\\n여러 재배품종이 교배되어 왔다. 품종은 삽목 재배로 손쉽게 번식이 가능하다.\\n* ‘Italica’는 17세기 이탈리아 북부 롬바르디아에서 교배한 진짜 '''양버들'''(Lombardy poplar)이다. 이 나무의 성장은 매우 좁은 수관을 형성하는 빗자루 수형을 보이고 있다. 지중해 지역이 원산지이며 덥고 건조한 여름에 적응하고 습한 환경에서는 잘 자라지 않으며 곰팡이병으로 인해 수명이 짧다. 수그루 복제 개체이다. 약 40~50년이 지나면 가지가 떨어지기 시작하고 강풍에 휩쓸릴 가능성이 매우 높으며, 일렬로 나열된 나무는 각각 이웃 나무를 노출시켜 도미노 효과를 만들어 낸다.\\n파일:Populus_nigra-bekes.jpg|섬네일|헝가리의 ''Plantierensis'' 그룹에 속하는 빗자루 형태의 흑양 재배종.\\n* ''Plantierensis'' 그룹의 복제품종은 ''P. nigra'' ssp. ''betulifolia''와 Italica를 교배하여 나온 교잡품종이다. 1884년 프랑스 메츠 근처 Plantières 보육원에 있는  Italica 품종과 헷갈릴 정도로 종종 오해받는다. 이 품종은 수관이 약간 더 넓고, 양버들이 잘 자라지 않는 북서부 유럽의 시원하고 습한 기후에 더 잘 적응한다. 수그루와 암그루 복제품종 모두 생장한다. 이것은 영국과 아일랜드에서 '''양버들'''이라는 이름으로 가장 많이 재배하는 나무이기도 하다. \\n* 'Manchester'는 ''P. nigra'' subsp..''betulifolia''의 재배품종으로 잉글랜드 북서부에 널리 심어져 있는데, 수그루 복제품종만 존재하며 현재 포플러류 더뎅이병으로 인해 심각한 위협을 받고 있다.  \\n* 'Gigantea'는 기원이 알려지지 않은 또 다른 빗자루형 클론으로 'Italica'보다 더 넓고 강세한 수관을 가지고 있습니다. 암그루 복제품종이다. \\n* 'Afghanica'(동의어 'Thevestina'): 전부는 아니지만 대부분의 표본이 단일 클론이므로 많은 식물학자들은 이를 식물 품종이 아닌 품종으로 취급한다. 이는 'Italica'와 유사하지만 눈에 띄는 흰색 수피를 가지고 있으며 단단하다. 암그루 복제품종이라는 점에서도 'Italica'와 다르다. 이것은 오스만 제국 시대에 서남아시아로 도입되었으며 동남유럽(발칸 반도)에서도 흔히 보이는 사시나무류이다. \\n''Populus nigra'' 'Italica'는 왕립원예협회(Royal Horticultural Society)의 정원공로상(Award of Garden Merit)을 수상했다. \\n흑양은 유럽 전역에 넓게 자리하고 있으며 북아프리카와 중앙아시아 및 서아시아에서도 발견된다. 분포 지역은 위도 약 64° 즈음에서 지중해 남부~북부 사이에 위치하고 있고, 서쪽의 브리튼 제도에서 동쪽의 카자흐스탄 과 중국에까지 이른다. 분포 지역에는 코카서스와 중동의 대다수 지역도 포함된다. \\n*  (프랑스어) ''Populus nigra'' 유전자원 보존\\n*  ''Populus nigra'' - 분포 지도, 유전자 보존 단위 및 관련 자원. 유럽 산림 유전자원 프로그램 (EUFORGEN)\\n분류:칼 폰 린네가 명명한 분류군\\n분류:1753년 기재된 식물\\n분류:관상수\\n분류:유럽의 나무\\n분류:유럽의 식물상\\n분류:사시나무속\\n분류:IUCN 적색 목록 정보부족종\", path=None, url=None, mimetype=None), image_resource=None, audio_resource=None, video_resource=None, text_template='{metadata_str}\\n\\n{content}'),\n",
       " Document(id_='8fb0f820-3b22-40e6-ac9e-cd59fbef237a', embedding=None, metadata={'title': '니시하타 유키오'}, excluded_embed_metadata_keys=[], excluded_llm_metadata_keys=[], relationships={}, metadata_template='{key}: {value}', metadata_separator='\\n', text_resource=MediaResource(embeddings=None, data=None, text=\"'''니시하타 유키오'''(, 1946년~)는 일본의 언어학자이다.\\n* 「고대 조선어로 일본의 고전은 읽을 수 있을까」\\u30001991년\\n=== 공저 ===\\n* 『앞으로의 일본문학』(마루야마 류토쿠, 히로타 가즈미, 미우라 슌스케) 2001년*  『勝てる推薦入試』著者紹介\\n분류:1946년 출생\\n분류:살아있는 사람\\n분류:20세기 일본 사람\\n분류:21세기 일본 사람\\n분류:일본의 언어학자\\n분류:일본의 대학 교수\\n분류:일본어학자\\n분류:시가현 출신\\n분류:시가 대학 동문\\n분류:오사카 시립대학 동문\\n분류:나라 여자대학 동문\", path=None, url=None, mimetype=None), image_resource=None, audio_resource=None, video_resource=None, text_template='{metadata_str}\\n\\n{content}'),\n",
       " Document(id_='4d2bcaf7-12e9-4b2f-b123-7c9535dd53c8', embedding=None, metadata={'title': '안드리 스타드니크'}, excluded_embed_metadata_keys=[], excluded_llm_metadata_keys=[], relationships={}, metadata_template='{key}: {value}', metadata_separator='\\n', text_resource=MediaResource(embeddings=None, data=None, text=\"'''안드리 볼로디미로비치 스타드니크'''(, 1982년 4월 15일~)는 우크라이나의 레슬링 선수, 지도자이다. 2008년 하계 올림픽에서 남자 자유형 라이트급 은메달을 획득했으며 세계 레슬링 선수권 대회에서 동메달 1개를 획득했다.\\n아내인 마리야는 아제르바이잔 레슬링 국가대표 선수이며 여동생인 야나는 영국 국가대표 레슬링 선수로 활동했다.\\n*   안드리 스타드니크 - Foeldeak Wrestling Database\\n*   안드리 스타드니크 - Olympedia\\n*   안드리 스타드니크 - Sports Reference\\n분류:1982년 출생\\n분류:살아있는 사람\\n분류:20세기 우크라이나 사람\\n분류:21세기 우크라이나 사람\\n분류:우크라이나의 남자 레슬링 선수\\n분류:우크라이나의 올림픽 은메달리스트\\n분류:올림픽 레슬링 메달리스트\\n분류:2008년 하계 올림픽 메달리스트\\n분류:우크라이나의 올림픽 레슬링 참가 선수\\n분류:2008년 하계 올림픽 레슬링 참가 선수\\n분류:세계 레슬링 선수권 대회 메달리스트\\n분류:흐멜니츠키주 출신\", path=None, url=None, mimetype=None), image_resource=None, audio_resource=None, video_resource=None, text_template='{metadata_str}\\n\\n{content}'),\n",
       " Document(id_='f07b1f4b-91bb-48f6-84c4-3e3709b5751c', embedding=None, metadata={'title': '타라스 단코'}, excluded_embed_metadata_keys=[], excluded_llm_metadata_keys=[], relationships={}, metadata_template='{key}: {value}', metadata_separator='\\n', text_resource=MediaResource(embeddings=None, data=None, text=\"'''타라스 흐리호리요비치 단코'''(, 1980년 7월 3일~)는 우크라이나의 전직 레슬링 선수이다. 2008년 하계 올림픽에서 남자 자유형 미들급 동메달을 획득했으며 세계 레슬링 선수권 대회에서 메달 1개를 획득했다.\\n소련 국가대표 선수 출신 레슬링 지도자인 흐리호리 단코의 아들이다. 흐리호리는 타라스의 개인 코치를 맡았다.\\n*   타라스 단코 - Foeldeak Wrestling Database\\n*   타라스 단코 - Olympedia\\n*   타라스 단코 - Sports Reference\\n분류:1980년 출생\\n분류:살아있는 사람\\n분류:20세기 우크라이나 사람\\n분류:21세기 우크라이나 사람\\n분류:우크라이나의 남자 레슬링 선수\\n분류:우크라이나의 올림픽 동메달리스트\\n분류:올림픽 레슬링 메달리스트\\n분류:2008년 하계 올림픽 메달리스트\\n분류:우크라이나의 올림픽 레슬링 참가 선수\\n분류:2004년 하계 올림픽 레슬링 참가 선수\\n분류:2008년 하계 올림픽 레슬링 참가 선수\\n분류:세계 레슬링 선수권 대회 메달리스트\\n분류:키이우 출신\", path=None, url=None, mimetype=None), image_resource=None, audio_resource=None, video_resource=None, text_template='{metadata_str}\\n\\n{content}')]"
      ]
     },
     "execution_count": 18,
     "metadata": {},
     "output_type": "execute_result"
    }
   ],
   "source": [
    "docs"
   ]
  },
  {
   "cell_type": "code",
   "execution_count": 19,
   "metadata": {},
   "outputs": [],
   "source": [
    "# 다른 질문 - naive engine\n",
    "response = vector_query_engine.query('신창균과 칼 스벤손에 대해서 알려줘')"
   ]
  },
  {
   "cell_type": "code",
   "execution_count": 20,
   "metadata": {},
   "outputs": [
    {
     "data": {
      "text/plain": [
       "'신창균과 칼 스벤손은 모두 축구 선수이다. 신창균에 대한 추가 정보는 제공되지 않았으나, 칼 스벤손은 스웨덴의 전직 프로 축구 선수로, 중앙 수비수로 활약했으며 스웨덴 국가대표팀에도 출전한 경력이 있다. 스벤손은 IFK, 레인저스, 캉 등에서 뛰었으며 프랑스와 스웨덴을 넘나들며 활약한 선수이다.'"
      ]
     },
     "execution_count": 20,
     "metadata": {},
     "output_type": "execute_result"
    }
   ],
   "source": [
    "response.response"
   ]
  },
  {
   "cell_type": "code",
   "execution_count": 21,
   "metadata": {},
   "outputs": [
    {
     "name": "stdout",
     "output_type": "stream",
     "text": [
      "Generated 2 sub questions.\n",
      "\u001b[1;3;38;2;237;90;200m[wikipedia] Q: 신창균에 대한 정보\n",
      "\u001b[0m\u001b[1;3;38;2;90;149;237m[wikipedia] Q: 칼 스벤손에 대한 정보\n",
      "\u001b[0m\u001b[1;3;38;2;237;90;200m[wikipedia] A: 신창균은 대한민국의 독립운동, 민주화운동, 그리고 통일운동에 참여한 인물로, 1908년 충청북도 영동에서 태어났습니다. 어린 나이에 3.1운동에 참가하다가 체포되었지만 매만 맞고 풀려났으며, 이후 중국으로 망명하여 대한민국 임시정부와 협력하였습니다. 한국독립당의 활동가로 활발히 활동하였고, 북측의 단독정부 수립을 막기 위해 김일성과 회담도 가졌습니다. 그 이후에는 진보당사건 및 5.16군사정변에 연루되어 수감생활을 하였고, 풀려난 뒤에는 군사독재 종식을 위한 민주화운동 및 통일운동에 헌신하였습니다.\n",
      "\u001b[0m\u001b[1;3;38;2;90;149;237m[wikipedia] A: 칼 빌헬름 스벤손은 스웨덴의 전직 프로 축구 선수로, 중앙 수비수로 활약했으며, 옌셰핑스 셰드라, IFK, 레인저스, 캉에서 뛰었습니다. 그는 스웨덴 국가대표팀에 1번 출전했고, 2006년 월드컵에 출전한 경력을 가지고 있습니다. 스벤손은 2014년에 현역에서 은퇴했으며, U-17, U-19, 그리고 U-21 연령대의 스웨덴 국가대표팀에서도 활약했습니다.\n",
      "\u001b[0m"
     ]
    }
   ],
   "source": [
    "# 다른 질문 - query expander\n",
    "response = query_engine.query('신창균과 칼 스벤손에 대해서 알려줘')"
   ]
  },
  {
   "cell_type": "code",
   "execution_count": 22,
   "metadata": {},
   "outputs": [
    {
     "data": {
      "text/plain": [
       "'신창균은 대한민국의 독립운동, 민주화운동, 그리고 통일운동에 참여한 인물로, 1908년 충청북도 영동에서 태어났습니다. 어린 나이에 3.1운동에 참가하다가 체포되었지만 매만 맞고 풀려났으며, 이후 중국으로 망명하여 대한민국 임시정부와 협력하였습니다. 한국독립당의 활동가로 활발히 활동하였고, 북측의 단독정부 수립을 막기 위해 김일성과 회담도 가졌습니다. 그 이후에는 진보당사건 및 5.16군사정변에 연루되어 수감생활을 하였고, 풀려난 뒤에는 군사독재 종식을 위한 민주화운동 및 통일운동에 헌신하였습니다.\\n\\n칼 빌헬름 스벤손은 스웨덴의 전직 프로 축구 선수로, 중앙 수비수로 활약했으며, 옌셰핑스 셰드라, IFK, 레인저스, 캉에서 뛰었습니다. 그는 스웨덴 국가대표팀에 1번 출전했고, 2006년 월드컵에 출전한 경력을 가지고 있습니다. 스벤손은 2014년에 현역에서 은퇴했으며, U-17, U-19, 그리고 U-21 연령대의 스웨덴 국가대표팀에서도 활약했습니다.'"
      ]
     },
     "execution_count": 22,
     "metadata": {},
     "output_type": "execute_result"
    }
   ],
   "source": [
    "response.response"
   ]
  },
  {
   "cell_type": "code",
   "execution_count": null,
   "metadata": {},
   "outputs": [],
   "source": []
  }
 ],
 "metadata": {
  "kernelspec": {
   "display_name": ".venv",
   "language": "python",
   "name": "python3"
  },
  "language_info": {
   "codemirror_mode": {
    "name": "ipython",
    "version": 3
   },
   "file_extension": ".py",
   "mimetype": "text/x-python",
   "name": "python",
   "nbconvert_exporter": "python",
   "pygments_lexer": "ipython3",
   "version": "3.11.6"
  }
 },
 "nbformat": 4,
 "nbformat_minor": 2
}
