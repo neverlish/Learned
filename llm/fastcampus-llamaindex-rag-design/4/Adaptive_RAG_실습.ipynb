{
 "cells": [
  {
   "cell_type": "markdown",
   "metadata": {
    "id": "9OyiNEwNq-zC"
   },
   "source": [
    "# Adaptive RAG\n",
    "\n",
    "PDF 테이블 정보에 대한 Recursive Retrieval 전략\n",
    "- 다수의 CSV 테이블 대상으로 검색 chunk와 답변 생성 chunk 분리해보기\n",
    "- 테이블 검색용 Chunk 대상으로 User Query에 대해 Adaptive하게 retrieval 가져가보기\n"
   ]
  },
  {
   "cell_type": "code",
   "execution_count": 39,
   "metadata": {
    "executionInfo": {
     "elapsed": 5544,
     "status": "ok",
     "timestamp": 1728722960597,
     "user": {
      "displayName": "한두솔",
      "userId": "14744311692633150263"
     },
     "user_tz": -540
    },
    "id": "DJlOhrfy3WQW"
   },
   "outputs": [],
   "source": [
    "import camelot\n",
    "\n",
    "from llama_index.core import VectorStoreIndex\n",
    "from llama_index.core.query_engine import PandasQueryEngine\n",
    "from llama_index.core.schema import IndexNode\n",
    "# from llama_index.llms.openai import OpenAI\n",
    "from llama_index.llms.openai import OpenAI\n",
    "\n",
    "from llama_index.readers.file import PyMuPDFReader\n",
    "from typing import List"
   ]
  },
  {
   "cell_type": "code",
   "execution_count": 40,
   "metadata": {
    "executionInfo": {
     "elapsed": 324,
     "status": "ok",
     "timestamp": 1728722966510,
     "user": {
      "displayName": "한두솔",
      "userId": "14744311692633150263"
     },
     "user_tz": -540
    },
    "id": "9VxZeTuM4H5O"
   },
   "outputs": [],
   "source": [
    "from llama_index.embeddings.openai import OpenAIEmbedding\n",
    "from llama_index.llms.openai import OpenAI\n",
    "from llama_index.core import Settings\n",
    "\n",
    "# 추후 사용할 llm, 임베딩 모델 클래스 정의\n",
    "Settings.llm = OpenAI(model=\"gpt-4o-mini\", temperature=0)\n",
    "Settings.embed_model = OpenAIEmbedding(model=\"text-embedding-3-small\")"
   ]
  },
  {
   "cell_type": "code",
   "execution_count": 41,
   "metadata": {
    "executionInfo": {
     "elapsed": 334,
     "status": "ok",
     "timestamp": 1728722974650,
     "user": {
      "displayName": "한두솔",
      "userId": "14744311692633150263"
     },
     "user_tz": -540
    },
    "id": "wxyb04mj4J4V"
   },
   "outputs": [],
   "source": [
    "# 파싱할 파일 경로 설정\n",
    "file_path = \"./billionaires_page.pdf\""
   ]
  },
  {
   "cell_type": "code",
   "execution_count": 42,
   "metadata": {
    "executionInfo": {
     "elapsed": 322,
     "status": "ok",
     "timestamp": 1728722987688,
     "user": {
      "displayName": "한두솔",
      "userId": "14744311692633150263"
     },
     "user_tz": -540
    },
    "id": "cONRosvi4NmW"
   },
   "outputs": [],
   "source": [
    "# PDF파서 정의\n",
    "reader = PyMuPDFReader()"
   ]
  },
  {
   "cell_type": "code",
   "execution_count": 43,
   "metadata": {
    "executionInfo": {
     "elapsed": 680,
     "status": "ok",
     "timestamp": 1728722998821,
     "user": {
      "displayName": "한두솔",
      "userId": "14744311692633150263"
     },
     "user_tz": -540
    },
    "id": "n6u6nrur4Ojl"
   },
   "outputs": [],
   "source": [
    "# 업로드된 경로에서 로딩스테이지 진행한 후 다큐먼트 단위로 저장\n",
    "docs =reader.load(file_path)"
   ]
  },
  {
   "cell_type": "code",
   "execution_count": 44,
   "metadata": {
    "colab": {
     "base_uri": "https://localhost:8080/"
    },
    "executionInfo": {
     "elapsed": 426,
     "status": "ok",
     "timestamp": 1728723001674,
     "user": {
      "displayName": "한두솔",
      "userId": "14744311692633150263"
     },
     "user_tz": -540
    },
    "id": "Mm5zH5vFMTyb",
    "outputId": "5fb7d8d7-6efe-470f-e844-8b4f2c2d83ce"
   },
   "outputs": [
    {
     "data": {
      "text/plain": [
       "[Document(id_='359fcdd1-5cfc-4eca-b40d-40ec0b67ac93', embedding=None, metadata={'total_pages': 32, 'file_path': './billionaires_page.pdf', 'source': '1'}, excluded_embed_metadata_keys=[], excluded_llm_metadata_keys=[], relationships={}, metadata_template='{key}: {value}', metadata_separator='\\n', text_resource=MediaResource(embeddings=None, data=None, text=\"29/09/2023, 10:17\\nThe World's Billionaires - Wikipedia\\nhttps://en.wikipedia.org/wiki/The_World%27s_Billionaires\\n1/32\\nThe World's Billionaires\\nList of the world's billionaires, ranked in order of net worth\\nThe net worth of the world's billionaires increased from\\nless than US$1 trillion in 2000 to over $7 trillion in 2015.\\nPublication details\\nPublisher\\nWhale Media Investments\\nForbes family\\nPublication\\nForbes\\nFirst published\\nMarch 1987[1]\\nLatest publication\\nApril 4, 2023\\nCurrent list details (2023)[2]\\nWealthiest\\nBernard Arnault\\nNet worth (1st)\\n\\xa0US$211\\xa0billion\\nNumber of\\nbillionaires\\n\\xa02,640 (from 2668)\\nTotal list net worth\\nvalue\\n\\xa0US$12.2\\xa0trillion (from US$ 12.7\\ntrillion)\\nNumber of women\\n\\xa0337\\nNew members to the\\nlist\\n\\xa0150\\nForbes: The World's Billionaires website (https://www.forb\\nes.com/billionaires/)\\nThe World's Billionaires\\nThe World's Billionaires is an annual\\nranking of people who are billionaires, i.e,\\nthey are considered to have a net worth of\\n$1 billion or more, by the American\\nbusiness magazine Forbes. The list was first\\npublished in March 1987.[1] The total net\\nworth of each individual on the list is\\nestimated and is cited in United States\\ndollars, based on their documented assets\\nand accounting for debt and other factors.\\nRoyalty and dictators whose wealth comes\\nfrom their positions are excluded from\\nthese lists.[3] This ranking is an index of the\\nwealthiest \\ndocumented \\nindividuals,\\nexcluding any ranking of those with wealth\\nthat \\nis \\nnot \\nable \\nto \\nbe \\ncompletely\\nascertained.[4]\\nIn 2018, Amazon founder Jeff Bezos was\\nranked at the top for the first time and\\nbecame the first centibillionaire included in\\nthe \\nranking,[5] \\nsurpassing \\nMicrosoft\\nfounder Bill Gates, who had topped the list\\n18 of the previous 24 years. In 2022, after\\ntopping the list for four years, Bezos was\\nsurpassed by Elon Musk.[6] In 2023, Musk\\nwas \\nin \\nturn \\nsurpassed \\nby \\nFrench\\nbusinessman Bernard Arnault, after topping\\nthe list for just a year. Arnault became the\\nfirst French person to top the list.[2]\\nEach year, Forbes employs a team of over\\n50 reporters from a variety of countries to\\ntrack the activity of the world's wealthiest\\nindividuals[7] and sometimes groups or\\nfamilies – who share wealth. Preliminary\\nsurveys are sent to those who may qualify\\nfor the list. According to Forbes, they received three types of responses\\xa0– some people try to inflate\\ntheir wealth, others cooperate but leave out details, and some refuse to answer any questions.[8]\\nBusiness deals are then scrutinized and estimates of valuable assets\\xa0 – land, homes, vehicles,\\nartwork, etc.\\xa0– are made. Interviews are conducted to vet the figures and improve the estimate of\\nan individual's holdings. Finally, positions in a publicly traded stock are priced to market on a date\\nroughly a month before publication. Privately held companies are priced by the prevailing price-\\nto-sales or price-to-earnings ratios. Known debt is subtracted from assets to get a final estimate of\\nMethodology\\n\", path=None, url=None, mimetype=None), image_resource=None, audio_resource=None, video_resource=None, text_template='{metadata_str}\\n\\n{content}'),\n",
       " Document(id_='aeb35988-3bc1-4eee-9b44-dd9da497c9bb', embedding=None, metadata={'total_pages': 32, 'file_path': './billionaires_page.pdf', 'source': '2'}, excluded_embed_metadata_keys=[], excluded_llm_metadata_keys=[], relationships={}, metadata_template='{key}: {value}', metadata_separator='\\n', text_resource=MediaResource(embeddings=None, data=None, text='29/09/2023, 10:17\\nThe World\\'s Billionaires - Wikipedia\\nhttps://en.wikipedia.org/wiki/The_World%27s_Billionaires\\n2/32\\nan individual\\'s estimated worth in United States dollars. Since stock prices fluctuate rapidly, an\\nindividual\\'s true wealth and ranking at the time of publication may vary from their situation when\\nthe list was compiled.[7]\\nWhen a living individual has dispersed his or her wealth to immediate family members it is\\nincluded under a single listing (as a single \"family fortune\") provided that individual (the grantor)\\nis still living. However, if a deceased billionaire\\'s fortune has been dispersed, it will not appear as a\\nsingle listing, and each recipient will only appear if his or her own total net worth is over a $Billion\\n(his or her net worth will not be combined with family members\\')[7] Royal families and dictators\\nthat have their wealth contingent on a position are always excluded from these lists.[9]\\nThe rankings are published annually in March, so the net worths listed are snapshots taken at that\\ntime. These lists only show the top 10 wealthiest billionaires for each year.\\nIcon\\nDescription\\nHas not changed from the previous ranking.\\nHas increased from the previous ranking.\\nHas decreased from the previous ranking.\\nIn the 37th annual Forbes list of the world\\'s billionaires, the list included 2,640 billionaires with a\\ntotal net wealth of $12.2 trillion, down 28 members and $500 billion from 2022. Over half of the\\nlist is poorer than the previous year, including Elon Musk, who fell from No. 1 to No. 2.[2] The list\\nalso marks for the first time a French citizen was in the top position as well as a non-American for\\nthe first time since 2013 when the Mexican Carlos Slim Helu was the world\\'s richest person. The\\nlist, like in 2022, counted 15 under 30 billionaires with the richest of them being Red Bull heir\\nMark Mateschitz with a net worth of $34.7 billion. The youngest of the lot were Clemente Del\\nVecchio, heir to the Luxottica fortune shared with his six siblings and stepmother, and Kim Jung-\\nyang, whose fortune lies in Japanese-South Korean gaming giant Nexon, both under-20s.[10]\\nAnnual rankings\\nLegend\\n2023\\n', path=None, url=None, mimetype=None), image_resource=None, audio_resource=None, video_resource=None, text_template='{metadata_str}\\n\\n{content}'),\n",
       " Document(id_='c4c8f52b-748c-4c10-8d27-3f795fc046f6', embedding=None, metadata={'total_pages': 32, 'file_path': './billionaires_page.pdf', 'source': '3'}, excluded_embed_metadata_keys=[], excluded_llm_metadata_keys=[], relationships={}, metadata_template='{key}: {value}', metadata_separator='\\n', text_resource=MediaResource(embeddings=None, data=None, text=\"29/09/2023, 10:17\\nThe World's Billionaires - Wikipedia\\nhttps://en.wikipedia.org/wiki/The_World%27s_Billionaires\\n3/32\\nNo.\\nName\\nNet worth\\n(USD)\\nAge\\nNationality\\nPrimary source(s) of\\nwealth\\n1 \\nBernard Arnault &\\nfamily\\n$211\\xa0billion\\xa0\\n74\\n\\xa0France\\nLVMH\\n2 \\nElon Musk\\n$180\\xa0billion\\xa0\\n51\\n\\xa0United\\nStates\\nTesla, SpaceX\\n3 \\nJeff Bezos\\n$114\\xa0billion\\xa0\\n59\\n\\xa0United\\nStates\\nAmazon\\n4 \\nLarry Ellison\\n$107\\xa0billion\\xa0\\n78\\n\\xa0United\\nStates\\nOracle Corporation\\n5 \\nWarren Buffett\\n$106\\xa0billion\\xa0\\n92\\n\\xa0United\\nStates\\nBerkshire Hathaway\\n6 \\nBill Gates\\n$104\\xa0billion\\xa0\\n67\\n\\xa0United\\nStates\\nMicrosoft\\n7 \\nMichael Bloomberg\\n$94.5\\xa0billion\\xa0\\n81\\n\\xa0United\\nStates\\nBloomberg L.P.\\n8 \\nCarlos Slim & family\\n$93\\xa0billion\\xa0\\n83\\n\\xa0Mexico\\nTelmex, América Móvil, Grupo\\nCarso\\n9 \\nMukesh Ambani\\n$83.4\\xa0billion \\n65\\n\\xa0India\\nReliance Industries\\n10 \\nSteve Ballmer\\n$80.7\\xa0billion\\xa0\\n67\\n\\xa0United\\nStates\\nMicrosoft\\nIn the 36th annual Forbes list of the world's billionaires, the list included 2,668 billionaires with a\\ntotal net wealth of $12.7 trillion, down 97 members from 2021.[6]\\n2022\\n\", path=None, url=None, mimetype=None), image_resource=None, audio_resource=None, video_resource=None, text_template='{metadata_str}\\n\\n{content}'),\n",
       " Document(id_='c5ffa53e-5c0a-4982-a8a8-eaf3055f19ed', embedding=None, metadata={'total_pages': 32, 'file_path': './billionaires_page.pdf', 'source': '4'}, excluded_embed_metadata_keys=[], excluded_llm_metadata_keys=[], relationships={}, metadata_template='{key}: {value}', metadata_separator='\\n', text_resource=MediaResource(embeddings=None, data=None, text=\"29/09/2023, 10:17\\nThe World's Billionaires - Wikipedia\\nhttps://en.wikipedia.org/wiki/The_World%27s_Billionaires\\n4/32\\nNo.\\nName\\nNet worth\\n(USD)\\nAge\\nNationality\\nPrimary source(s) of\\nwealth\\n1 \\nElon Musk\\n$219\\xa0billion\\xa0\\n50\\n\\xa0United\\nStates\\nTesla, SpaceX\\n2 \\nJeff Bezos\\n$177\\xa0billion\\xa0\\n58\\n\\xa0United\\nStates\\nAmazon\\n3 \\nBernard Arnault &\\nfamily\\n$158\\xa0billion\\xa0\\n73\\n\\xa0France\\nLVMH\\n4 \\nBill Gates\\n$129\\xa0billion\\xa0\\n66\\n\\xa0United\\nStates\\nMicrosoft\\n5 \\nWarren Buffett\\n$118\\xa0billion\\xa0\\n91\\n\\xa0United\\nStates\\nBerkshire Hathaway\\n6 \\nLarry Page\\n$111\\xa0billion\\xa0\\n49\\n\\xa0United\\nStates\\nGoogle\\n7 \\nSergey Brin\\n$107\\xa0billion\\xa0\\n48\\n\\xa0United\\nStates\\nGoogle\\n8 \\nLarry Ellison\\n$106\\xa0billion\\xa0\\n77\\n\\xa0United\\nStates\\nOracle Corporation\\n9 \\nSteve Ballmer\\n$91.4\\xa0billion\\xa0\\n66\\n\\xa0United\\nStates\\nMicrosoft\\n10 \\nMukesh Ambani\\n$90.7\\xa0billion \\n64\\n\\xa0India\\nReliance Industries\\nIn the 35th annual Forbes list of the world's billionaires, the list included 2,755 billionaires with a\\ntotal net wealth of $13.1 trillion, up 660 members from 2020; 86% of these billionaires had more\\nwealth than they possessed last year.[11][12]\\nNo.\\nName\\nNet worth (USD)\\nAge\\nNationality\\nSource(s) of wealth\\n1 \\nJeff Bezos\\n$177\\xa0billion\\xa0\\n57\\n\\xa0United States\\nAmazon\\n2 \\nElon Musk\\n$151\\xa0billion\\xa0\\n49\\n\\xa0United States\\nTesla, SpaceX\\n3 \\nBernard Arnault & family\\n$150\\xa0billion\\xa0\\n72\\n\\xa0France\\nLVMH\\n4 \\nBill Gates\\n$124\\xa0billion\\xa0\\n65\\n\\xa0United States\\nMicrosoft\\n5 \\nMark Zuckerberg\\n$97\\xa0billion\\xa0\\n36\\n\\xa0United States\\nMeta Platforms\\n6 \\nWarren Buffett\\n$96\\xa0billion\\xa0\\n90\\n\\xa0United States\\nBerkshire Hathaway\\n7 \\nLarry Ellison\\n$93\\xa0billion\\xa0\\n76\\n\\xa0United States\\nOracle Corporation\\n8 \\nLarry Page\\n$91.5\\xa0billion\\xa0\\n48\\n\\xa0United States\\nGoogle\\n9 \\nSergey Brin\\n$89\\xa0billion\\xa0\\n47\\n\\xa0United States\\nGoogle\\n10 \\nMukesh Ambani\\n$84.5\\xa0billion \\n63\\n\\xa0India\\nReliance Industries\\nIn the 34th annual Forbes list of the world's billionaires, the list included 2,095 billionaires with a\\ntotal net wealth of $8 trillion, down 58 members and $700 billion from 2019; 51% of these\\nbillionaires had less wealth than they possessed last year.[13] The list was finalized as of 18 March,\\n2021\\n2020\\n\", path=None, url=None, mimetype=None), image_resource=None, audio_resource=None, video_resource=None, text_template='{metadata_str}\\n\\n{content}'),\n",
       " Document(id_='9e13379d-a185-4125-87fe-5eb3010d89bf', embedding=None, metadata={'total_pages': 32, 'file_path': './billionaires_page.pdf', 'source': '5'}, excluded_embed_metadata_keys=[], excluded_llm_metadata_keys=[], relationships={}, metadata_template='{key}: {value}', metadata_separator='\\n', text_resource=MediaResource(embeddings=None, data=None, text=\"29/09/2023, 10:17\\nThe World's Billionaires - Wikipedia\\nhttps://en.wikipedia.org/wiki/The_World%27s_Billionaires\\n5/32\\nthus was already partially influenced by the COVID-19 pandemic.[13]\\nNo.\\nName\\nNet worth (USD)\\nAge\\nNationality\\nSource(s) of wealth\\n1 \\nJeff Bezos\\n$113\\xa0billion\\xa0\\n56\\n\\xa0United States\\nAmazon\\n2 \\nBill Gates\\n$98\\xa0billion\\xa0\\n64\\n\\xa0United States\\nMicrosoft\\n3 \\nBernard Arnault & family\\n$76\\xa0billion\\xa0\\n71\\n\\xa0France\\nLVMH\\n4 \\nWarren Buffett\\n$67.5\\xa0billion\\xa0\\n89\\n\\xa0United States\\nBerkshire Hathaway\\n5 \\nLarry Ellison\\n$59\\xa0billion\\xa0\\n75\\n\\xa0United States\\nOracle Corporation\\n6 \\nAmancio Ortega\\n$55.1\\xa0billion\\xa0\\n84\\n\\xa0Spain\\nInditex, Zara\\n7 \\nMark Zuckerberg\\n$54.7\\xa0billion\\xa0\\n35\\n\\xa0United States\\nFacebook, Inc.\\n8 \\nJim Walton\\n$54.6\\xa0billion\\xa0\\n71\\n\\xa0United States\\nWalmart\\n9 \\nAlice Walton\\n$54.4\\xa0billion\\xa0\\n70\\n\\xa0United States\\nWalmart\\n10 \\nS. Robson Walton\\n$54.1\\xa0billion\\xa0\\n77\\n\\xa0United States\\nWalmart\\nIn the 33rd annual Forbes list of the world's billionaires, the list included 2,153 billionaires with a\\ntotal net wealth of $8.7 trillion, down 55 members and $400 billion from 2018.[14] The U.S.\\ncontinued to have the most billionaires in the world, with a record of 609, while China dropped to\\n324 (when not including Hong Kong, Macau and Taiwan).[14]\\nNo.\\nName\\nNet worth (USD)\\nAge\\nNationality\\nSource(s) of wealth\\n1 \\nJeff Bezos\\n$131\\xa0billion\\xa0\\n55\\n\\xa0United States\\nAmazon\\n2 \\nBill Gates\\n$96.5\\xa0billion\\xa0\\n63\\n\\xa0United States\\nMicrosoft\\n3 \\nWarren Buffett\\n$82.5\\xa0billion\\xa0\\n88\\n\\xa0United States\\nBerkshire Hathaway\\n4 \\nBernard Arnault\\n$76\\xa0billion\\xa0\\n70\\n\\xa0France\\nLVMH\\n5 \\nCarlos Slim\\n$64\\xa0billion\\xa0\\n79\\n\\xa0Mexico\\nAmérica Móvil, Grupo Carso\\n6 \\nAmancio Ortega\\n$62.7\\xa0billion\\xa0\\n82\\n\\xa0Spain\\nInditex, Zara\\n7 \\nLarry Ellison\\n$62.5\\xa0billion\\xa0\\n74\\n\\xa0United States\\nOracle Corporation\\n8 \\nMark Zuckerberg\\n$62.3\\xa0billion\\xa0\\n34\\n\\xa0United States\\nFacebook, Inc.\\n9 \\nMichael Bloomberg\\n$55.5\\xa0billion\\xa0\\n77\\n\\xa0United States\\nBloomberg L.P.\\n10 \\nLarry Page\\n$50.8\\xa0billion\\xa0\\n45\\n\\xa0United States\\nGoogle\\nIn the 32nd annual Forbes list of the world's billionaires, the aggregate wealth of the top 20 richest\\npeople on Earth amounted to about 13 percent of all billionaires' fortunes combined.[15] A record\\nof 2,208 billionaires were in the ranking and the total wealth was $9.1 trillion, up 18% since 2017.\\nFor the first time, Jeff Bezos was listed as the top billionaire due to Amazon's rising stock price\\nthat resulted in one person's biggest one-year gain in wealth ($35 billion) since Forbes started\\ntracking in 1987.[15] The U.S. had the most billionaires in the world, with 585, while China was\\n2019\\n2018\\n\", path=None, url=None, mimetype=None), image_resource=None, audio_resource=None, video_resource=None, text_template='{metadata_str}\\n\\n{content}'),\n",
       " Document(id_='2ba8514a-4b32-4930-bb18-2310a2a9ec06', embedding=None, metadata={'total_pages': 32, 'file_path': './billionaires_page.pdf', 'source': '6'}, excluded_embed_metadata_keys=[], excluded_llm_metadata_keys=[], relationships={}, metadata_template='{key}: {value}', metadata_separator='\\n', text_resource=MediaResource(embeddings=None, data=None, text=\"29/09/2023, 10:17\\nThe World's Billionaires - Wikipedia\\nhttps://en.wikipedia.org/wiki/The_World%27s_Billionaires\\n6/32\\ncatching up with 476 when including Hong Kong, Macau and Taiwan; it had 372 when excluding\\nthose three places.[15] Forbes excluded Al-Walid bin Talal and all other Saudi billionaires due to\\nthe absence of accurate wealth estimations as a result of the 2017–19 Saudi Arabian purge.[16]\\nNo.\\nName\\nNet worth (USD)\\nAge\\nNationality\\nSource(s) of wealth\\n1 \\nJeff Bezos\\n$112\\xa0billion\\xa0\\n54\\n\\xa0United States\\nAmazon\\n2 \\nBill Gates\\n$90\\xa0billion\\xa0\\n62\\n\\xa0United States\\nMicrosoft\\n3 \\nWarren Buffett\\n$84\\xa0billion\\xa0\\n87\\n\\xa0United States\\nBerkshire Hathaway\\n4 \\nBernard Arnault\\n$72\\xa0billion\\xa0\\n69\\n\\xa0France\\nLVMH\\n5 \\nMark Zuckerberg\\n$71 billion\\xa0\\n33\\n\\xa0United States\\nFacebook, Inc.\\n6 \\nAmancio Ortega\\n$70\\xa0billion\\xa0\\n81\\n\\xa0Spain\\nInditex, Zara\\n7 \\nCarlos Slim\\n$67.1\\xa0billion\\xa0\\n78\\n\\xa0Mexico\\nAmérica Móvil, Grupo Carso\\n8 \\nCharles Koch\\n$60\\xa0billion\\xa0\\n82\\n\\xa0United States\\nKoch Industries\\n8 \\nDavid Koch\\n$60\\xa0billion\\xa0\\n77\\n\\xa0United States\\nKoch Industries\\n10 \\nLarry Ellison\\n$58.5\\xa0billion\\xa0\\n73\\n\\xa0United States\\nOracle Corporation\\nOn the 30th anniversary of the Forbes list of the world's billionaires, for the fourth year in a row,\\nBill Gates was named the richest man in the world.[5] In 2017, there was a record of 2,043 people\\non the list, which is the first time over 2,000 people were listed. This included 195 newcomers of\\nwhom 76 were from China and 25 from the U.S.; there were 56 people under 40 and it had a\\nrecord of 227 women.[17] The number of billionaires increased 13% to 2,043 from 1,810 in 2016;\\nthis was the biggest change in over 30 years of tracking billionaires globally.[5] Added together, the\\ntotal net worth for 2017's billionaires was US$7.67\\xa0trillion, up from US$7.1\\xa0trillion in 2015.[5][18]\\nThis was the first time after 12 years that Carlos Slim was not within the top five. The U.S. had the\\nmost billionaires in the world, with a record of 565. China had 319 (not including Hong Kong,\\nTaiwan or Macau), Germany had 114, and India had the fourth most with 101; India reached over\\n100 billionaires for its first time.\\n2017\\n\", path=None, url=None, mimetype=None), image_resource=None, audio_resource=None, video_resource=None, text_template='{metadata_str}\\n\\n{content}'),\n",
       " Document(id_='b0aab1d7-87b0-419a-b3ad-01658f20bd89', embedding=None, metadata={'total_pages': 32, 'file_path': './billionaires_page.pdf', 'source': '7'}, excluded_embed_metadata_keys=[], excluded_llm_metadata_keys=[], relationships={}, metadata_template='{key}: {value}', metadata_separator='\\n', text_resource=MediaResource(embeddings=None, data=None, text=\"29/09/2023, 10:17\\nThe World's Billionaires - Wikipedia\\nhttps://en.wikipedia.org/wiki/The_World%27s_Billionaires\\n7/32\\nNo.\\nName\\nNet worth (USD)\\nAge\\nNationality\\nSource(s) of wealth\\n1 \\nBill Gates\\n$86.0\\xa0billion\\xa0\\n61\\n\\xa0United States\\nMicrosoft\\n2 \\nWarren Buffett\\n$75.6\\xa0billion\\xa0\\n86\\n\\xa0United States\\nBerkshire Hathaway\\n3 \\nJeff Bezos\\n$72.8\\xa0billion\\xa0\\n53\\n\\xa0United States\\nAmazon\\n4 \\nAmancio Ortega\\n$71.3\\xa0billion\\xa0\\n80\\n\\xa0Spain\\nInditex, Zara\\n5 \\nMark Zuckerberg\\n$56.0\\xa0billion\\xa0\\n32\\n\\xa0United States\\nFacebook, Inc.\\n6 \\nCarlos Slim\\n$54.5\\xa0billion\\xa0\\n77\\n\\xa0Mexico\\nAmérica Móvil, Grupo Carso\\n7 \\nLarry Ellison\\n$52.2\\xa0billion\\xa0\\n72\\n\\xa0United States\\nOracle Corporation\\n8 \\nCharles Koch\\n$48.3\\xa0billion\\xa0\\n81\\n\\xa0United States\\nKoch Industries\\n8 \\nDavid Koch\\n$48.3\\xa0billion\\xa0\\n76\\n\\xa0United States\\nKoch Industries\\n10 \\nMichael Bloomberg\\n$47.5\\xa0billion\\xa0\\n75\\n\\xa0United States\\nBloomberg L.P.\\nFor the third year in a row, Bill Gates was named the richest man in the world by Forbes' 2016 list\\nof the world's billionaires.[19] This is the 17th time that the founder of Microsoft had claimed the\\ntop spot. Amancio Ortega rose from last year's position of number four to second.[20] Warren\\nBuffett of Berkshire Hathaway came in third for the second consecutive time,[21] while Mexican\\ntelecommunication mogul Carlos Slim slipped from last year's second position to fourth. Jeff\\nBezos of Amazon,[22] Mark Zuckerberg of Facebook[23] and Michael Bloomberg of Bloomberg\\nL.P.,[24] appeared for the first time on the Forbes top 10 billionaires list, coming at fifth, sixth and\\neighth positions, respectively. Zuckerberg became the youngest top 10 billionaire this year at the\\nage of 31. Larry Ellison, Charles Koch and David Koch also slipped from their previous year's\\npositions, with Ellison dropping to seventh from fifth, and the Kochs falling to ninth position from\\nsixth.\\nNo.\\nName\\nNet worth (USD)\\nAge\\nNationality\\nSource(s) of wealth\\n1 \\nBill Gates\\n$75.0\\xa0billion\\xa0\\n60\\n\\xa0United States\\nMicrosoft\\n2 \\nAmancio Ortega\\n$67.0\\xa0billion\\xa0\\n79\\n\\xa0Spain\\nInditex\\n3 \\nWarren Buffett\\n$60.8\\xa0billion\\xa0\\n85\\n\\xa0United States\\nBerkshire Hathaway\\n4 \\nCarlos Slim\\n$50.0\\xa0billion\\xa0\\n76\\n\\xa0Mexico\\nAmérica Móvil, Grupo Carso\\n5 \\nJeff Bezos\\n$45.2\\xa0billion\\xa0\\n52\\n\\xa0United States\\nAmazon\\n6 \\nMark Zuckerberg\\n$44.6\\xa0billion\\xa0\\n31\\n\\xa0United States\\nFacebook, Inc.\\n7 \\nLarry Ellison\\n$43.6\\xa0billion\\xa0\\n71\\n\\xa0United States\\nOracle Corporation\\n8 \\nMichael Bloomberg\\n$40.0\\xa0billion\\xa0\\n74\\n\\xa0United States\\nBloomberg L.P.\\n9 \\nCharles Koch\\n$39.6\\xa0billion\\xa0\\n80\\n\\xa0United States\\nKoch Industries\\n9 \\nDavid Koch\\n$39.6\\xa0billion\\xa0\\n75\\n\\xa0United States\\nKoch Industries\\nIn the 29th annual Forbes list of global billionaires, a record 1,826 billionaires were named with an\\naggregated net worth of $7.1 trillion compared to $6.4 trillion in the previous year. 46 of the\\nbillionaires in this list were under the age of 40. A record number of 290 people joined the list for\\n2016\\n2015\\n\", path=None, url=None, mimetype=None), image_resource=None, audio_resource=None, video_resource=None, text_template='{metadata_str}\\n\\n{content}'),\n",
       " Document(id_='86360bf2-7795-4841-b5f3-375bfedac406', embedding=None, metadata={'total_pages': 32, 'file_path': './billionaires_page.pdf', 'source': '8'}, excluded_embed_metadata_keys=[], excluded_llm_metadata_keys=[], relationships={}, metadata_template='{key}: {value}', metadata_separator='\\n', text_resource=MediaResource(embeddings=None, data=None, text=\"29/09/2023, 10:17\\nThe World's Billionaires - Wikipedia\\nhttps://en.wikipedia.org/wiki/The_World%27s_Billionaires\\n8/32\\nthe first time, of whom 25 percent hailed from China, which produced a world-leading 71\\nnewcomers. The United States came in second, with 57; followed by India, with 28; and Germany,\\nwith 23.[25] The United States had the largest number of billionaires with 526. Russia went down\\nto 88 from 111 in 2014. Russia was placed behind China, Germany and India by the number of\\nbillionaires. Self-made billionaires made up the largest number of people on the list with 1,191\\npositions (over 65 percent), while just 230 (under 13 percent) had wealth through inheritance. The\\nnumber of billionaires who inherited a portion but were still working to increase their fortunes is\\n405.[26]\\nBill Gates was named the richest man in the world by Forbes' annual list of the world's billionaires.\\nThis was the 16th time that the founder of Microsoft claimed the top spot. Carlos Slim came in\\nsecond for the second consecutive time. Warren Buffett of Berkshire Hathaway placed third, while\\nAmancio Ortega of Spain, slipped down a position from the previous year to number four. Larry\\nEllison, the founder of Oracle, rounded off the top five. Christy Walton was the highest-ranking\\nfemale at number eight. America's Evan Spiegel, co-founder of photo messaging app Snapchat,\\nbecame the youngest billionaire this year at age 24. At age 99, David Rockefeller maintained his\\nposition as the oldest billionaire included in the list.[27] Mark Zuckerberg, the founder of\\nFacebook, rose to number 16 with $33.4 billion. Iceland had a billionaire, Thor Bjorgolfsson, in the\\nlist after a gap of five years. Guatemala had a billionaire, Mario Lopez Estrada, for the first time in\\nits history.[28]\\nNo.\\nName\\nNet worth (USD)\\nAge\\nNationality\\nSource(s) of wealth\\n1 \\nBill Gates\\n$79.2\\xa0billion\\xa0\\n59\\n\\xa0United States\\nMicrosoft\\n2 \\nCarlos Slim\\n$77.1\\xa0billion\\xa0\\n75\\n\\xa0Mexico\\nAmérica Móvil, Grupo Carso\\n3 \\nWarren Buffett\\n$72.7\\xa0billion\\xa0\\n84\\n\\xa0United States\\nBerkshire Hathaway\\n4 \\nAmancio Ortega\\n$64.5\\xa0billion\\xa0\\n78\\n\\xa0Spain\\nInditex\\n5 \\nLarry Ellison\\n$54.3\\xa0billion\\xa0\\n70\\n\\xa0United States\\nOracle Corporation\\n6 \\nCharles Koch\\n$42.9\\xa0billion\\xa0\\n79\\n\\xa0United States\\nKoch Industries\\n6 \\nDavid Koch\\n$42.9\\xa0billion\\xa0\\n74\\n\\xa0United States\\nKoch Industries\\n8 \\nChristy Walton\\n$41.7\\xa0billion\\xa0\\n66\\n\\xa0United States\\nWalmart\\n9 \\nJim Walton\\n$40.6\\xa0billion\\xa0\\n66\\n\\xa0United States\\nWalmart\\n10 \\nLiliane Bettencourt\\n$40.1\\xa0billion\\xa0\\n92\\n\\xa0France\\nL'Oreal\\nGates added $9 billion to his fortune since 2013 and topped the Forbes 2014 billionaire list. He\\nhad topped the list in 15 of the previous 20 years, but his previous number one ranking was in\\n2009.[29] Mexican telecommunication mogul Carlos Slim came in second place after being number\\none the previous four years. Zara founder Amancio Ortega placed third for the second consecutive\\nyear. American investor Warren Buffett was in the top five for the 20th consecutive year, placing\\nfourth.[30] America's Christy Walton was the highest ranking woman, placing ninth overall.[1]\\nAliko Dangote of Nigeria became the first African to enter the top 25, with an estimated net worth\\nof $25 billion.[3]\\nA total of 1,645 people made the 2014 billionaire list, representing a combined wealth of $6.4\\ntrillion.[30] Of those, a record 268 were newcomers, surpassing 2008's 226 newcomers.[1] 100\\npeople listed in 2013 failed to make the list.[30] The number of women on the list rose to a record\\n2014\\n\", path=None, url=None, mimetype=None), image_resource=None, audio_resource=None, video_resource=None, text_template='{metadata_str}\\n\\n{content}'),\n",
       " Document(id_='2b1c18d3-a40c-4213-b37d-c38930776872', embedding=None, metadata={'total_pages': 32, 'file_path': './billionaires_page.pdf', 'source': '9'}, excluded_embed_metadata_keys=[], excluded_llm_metadata_keys=[], relationships={}, metadata_template='{key}: {value}', metadata_separator='\\n', text_resource=MediaResource(embeddings=None, data=None, text='29/09/2023, 10:17\\nThe World\\'s Billionaires - Wikipedia\\nhttps://en.wikipedia.org/wiki/The_World%27s_Billionaires\\n9/32\\n172 in 2014.[1] Approximately 66 percent of the list were self-made, 13 percent achieved their\\nwealth through inheritance alone, and 21 percent through a mixture of the two.[3]\\nThe United States had 492 billionaires on the list, the most of any country.[30] It also had the most\\nnewcomers with 50, and women with 54.[1] China had the second most billionaires with 152, while\\nRussia was third with 111.[30] Algeria, Lithuania, Tanzania, and Uganda were all represented on\\nthe list for the first time. Turkey saw the most people drop off the list, 19, due to a period of high\\ninflation in the country.[3]\\nNo.\\nName\\nNet worth\\n(USD)\\nAge\\nNationality\\nSource(s) of wealth\\n1 \\nBill Gates\\n$76.0\\xa0billion\\xa0\\n58\\n\\xa0United\\nStates\\nMicrosoft\\n2 \\nCarlos Slim & family\\n$72.0\\xa0billion\\xa0\\n74\\n\\xa0Mexico\\nAmérica Móvil, Grupo\\nCarso\\n3 \\nAmancio Ortega\\n$64.0\\xa0billion\\xa0\\n77\\n\\xa0Spain\\nInditex\\n4 \\nWarren Buffett\\n$58.2\\xa0billion\\xa0\\n83\\n\\xa0United\\nStates\\nBerkshire Hathaway\\n5 \\nLarry Ellison\\n$48.0\\xa0billion\\xa0\\n70\\n\\xa0United\\nStates\\nOracle Corporation\\n6 \\nCharles Koch\\n$40.0\\xa0billion\\xa0\\n78\\n\\xa0United\\nStates\\nKoch Industries\\n6 \\nDavid Koch\\n$40.0\\xa0billion\\xa0\\n73\\n\\xa0United\\nStates\\nKoch Industries\\n8 \\nSheldon Adelson\\n$38.0\\xa0billion\\xa0\\n80\\n\\xa0United\\nStates\\nLas Vegas Sands\\n9 \\nChristy Walton &\\nfamily\\n$36.7\\xa0billion\\xa0\\n65\\n\\xa0United\\nStates\\nWalmart\\n10 \\nJim Walton\\n$34.7\\xa0billion\\xa0\\n65\\n\\xa0United\\nStates\\nWalmart\\nCarlos Slim topped the 2013 billionaire list, marking his fourth consecutive year at the top. Gates\\nremained in second, while Amancio Ortega moved up to third. Ortega\\'s gain of $19.5 billion was\\nthe largest of anyone on the list.[31] Warren Buffett failed to make the top three for the first time\\nsince 2000, placing fourth. Diesel founder Renzo Rosso was among the top newcomers, debuting\\nwith an estimate net worth of $3 billion.[32]\\nA global rise in asset prices led Forbes editor Randall Lane to declare \"It [was] a very good year to\\nbe a billionaire\". However, it was not a good year to be Eike Batista, who fell from seventh to\\n100th, suffering the largest net loss of anyone on the list.[31] Overall, net gainers outnumbered net\\nlosers by 4:1.[32]\\nA record total of 1,426 people made the 2013 list, representing $5.4 trillion of assets.[33] Of those,\\n442 billionaires hailed from the United States.[31] The Asian-Pacific region had 386 billionaires\\nand Europe 366. The list also featured a record number of newcomers, 210, representing 42\\ncountries. 60 people from the 2012 list fell below a billion dollars of assets in 2013, and eight\\nothers from the 2012 list died. The Asia-Pacific region had the most drop-offs, with 29, followed by\\nthe United States with 16. The 2013 list featured 138 women, of which 50 came from the United\\nStates. A majority of the list (961 individuals, 67 percent) were entirely self-made; 184 (13 percent)\\n2013\\n', path=None, url=None, mimetype=None), image_resource=None, audio_resource=None, video_resource=None, text_template='{metadata_str}\\n\\n{content}'),\n",
       " Document(id_='9c64609e-551b-4ed0-9f93-6d9a5b1d3bde', embedding=None, metadata={'total_pages': 32, 'file_path': './billionaires_page.pdf', 'source': '10'}, excluded_embed_metadata_keys=[], excluded_llm_metadata_keys=[], relationships={}, metadata_template='{key}: {value}', metadata_separator='\\n', text_resource=MediaResource(embeddings=None, data=None, text='29/09/2023, 10:17\\nThe World\\'s Billionaires - Wikipedia\\nhttps://en.wikipedia.org/wiki/The_World%27s_Billionaires\\n10/32\\ninherited their wealth, and 281 (20 percent) achieved their fortune through a combination of\\ninheritance and business acumen.[33] Vietnam\\'s Phạm Nhật Vượng was the first person from that\\ncountry to be included in this list.\\nNo.\\nName\\nNet worth\\n(USD)\\nAge\\nNationality\\nSource(s) of wealth\\n1 \\nCarlos Slim & family\\n$73.0\\xa0billion\\xa0\\n73\\n\\xa0Mexico\\nAmérica Móvil, Grupo\\nCarso\\n2 \\nBill Gates\\n$67.0\\xa0billion\\xa0\\n57\\n\\xa0United\\nStates\\nMicrosoft\\n3 \\nAmancio Ortega\\n$57.0\\xa0billion\\xa0\\n76\\n\\xa0Spain\\nInditex Group\\n4 \\nWarren Buffett\\n$53.5\\xa0billion\\xa0\\n82\\n\\xa0United\\nStates\\nBerkshire Hathaway\\n5 \\nLarry Ellison\\n$43.0\\xa0billion\\xa0\\n68\\n\\xa0United\\nStates\\nOracle Corporation\\n6 \\nCharles Koch\\n$34.0\\xa0billion\\xa0\\n77\\n\\xa0United\\nStates\\nKoch Industries\\n6 \\nDavid Koch\\n$34.0\\xa0billion\\xa0\\n72\\n\\xa0United\\nStates\\nKoch Industries\\n8 \\nLi Ka-shing\\n$31.0\\xa0billion\\xa0\\n84\\n\\xa0Hong Kong\\nCheung Kong Holdings\\n9 \\nLiliane Bettencourt &\\nfamily\\n$30.0\\xa0billion\\xa0\\n90\\n\\xa0France\\nL\\'Oréal\\n10 \\nBernard Arnault\\n$29.0\\xa0billion\\xa0\\n63\\n\\xa0France\\nLVMH\\nCarlos Slim topped the 2012 list, marking this third consecutive year at the top. Gates placed\\nsecond but narrowed the gap from 2011 as Slim\\'s fortune fell $5 billion while Gates\\' rose $5 billion.\\nWarren Buffett remained in third place. Bernard Arnault of France was the top-ranking European\\non the list, placing fourth.[34] Ricardo Salinas Pliego was the greatest gainer in terms of dollars,\\nadding $9.2 billion to his fortune and moving up to number 37 overall.[34] Making her debut on\\nthe list at age 41, Spanx founder Sara Blakely became the youngest self-made female billionaire\\never.[35] Colombia\\'s Alejandro Santo Domingo was the highest-ranked newcomer, inheriting a\\n$9.5 billion stake in Santo Domingo Group from his father.[34] India\\'s Lakshmi Mittal was the\\nlargest loser as his fortune dropped from $31.1 billion to $20.7 billion as the price of steelmaker\\nArcelorMittal fell sharply.[34] As a result, he failed to make the top 10 for the first time since 2004\\nand lost his title of richest Asian to Hong Kong\\'s Li Ka-shing.[36]\\nA record total of 1,226 people made the 2012 list, representing 58 countries. Of those, 126 were\\nnewcomers to the list and 104 were women. The United States had the greatest number of\\nbillionaires with 425. Russia had 96 people on the list, while China had 95.[34] Georgia, Morocco,\\nand Peru were newly represented on the list. Falling stock prices in Asia contributed to 117 former\\nbillionaires falling from the list worldwide. Twelve others listed in 2011 died. Overall, net gainers\\n(460) barely outnumbered net losers (441).[36]\\nTo coincide with the release of the 2012 list, Forbes announced a then-new \"Billionaire Real-Time\\nTicker\" updating the wealth of the world\\'s top 50 billionaires in real time.[34]\\n2012\\n', path=None, url=None, mimetype=None), image_resource=None, audio_resource=None, video_resource=None, text_template='{metadata_str}\\n\\n{content}'),\n",
       " Document(id_='39b68fe4-3c96-4dee-9ac1-5086309e85eb', embedding=None, metadata={'total_pages': 32, 'file_path': './billionaires_page.pdf', 'source': '11'}, excluded_embed_metadata_keys=[], excluded_llm_metadata_keys=[], relationships={}, metadata_template='{key}: {value}', metadata_separator='\\n', text_resource=MediaResource(embeddings=None, data=None, text='29/09/2023, 10:17\\nThe World\\'s Billionaires - Wikipedia\\nhttps://en.wikipedia.org/wiki/The_World%27s_Billionaires\\n11/32\\nNo.\\nName\\nNet worth\\n(USD)\\nAge\\nNationality\\nSource(s) of wealth\\n1 \\nCarlos Slim &\\nfamily\\n$69.0\\xa0billion\\xa0\\n72\\n\\xa0Mexico\\nAmérica Móvil, Grupo Carso\\n2 \\nBill Gates\\n$61.0\\xa0billion\\xa0\\n56\\n\\xa0United\\nStates\\nMicrosoft\\n3 \\nWarren Buffett\\n$44.0\\xa0billion\\xa0\\n81\\n\\xa0United\\nStates\\nBerkshire Hathaway\\n4 \\nBernard Arnault\\n$41.0\\xa0billion\\xa0\\n63\\n\\xa0France\\nLVMH Moët Hennessy • Louis\\nVuitton\\n5 \\nAmancio Ortega\\n$37.5\\xa0billion\\xa0\\n75\\n\\xa0Spain\\nInditex Group\\n6 \\nLarry Ellison\\n$36.0\\xa0billion\\xa0\\n67\\n\\xa0United\\nStates\\nOracle Corporation\\n7 \\nEike Batista\\n$30.0\\xa0billion\\xa0\\n55\\n\\xa0Brazil\\nEBX Group\\n8 \\nStefan Persson\\n$26.0\\xa0billion\\xa0\\n64\\n\\xa0Sweden\\nH&M\\n9 \\nLi Ka-shing\\n$25.5\\xa0billion\\xa0\\n83\\n\\xa0Hong Kong\\nCheung Kong Holdings\\n10 \\nKarl Albrecht\\n$25.4\\xa0billion\\xa0\\n92\\n\\xa0Germany\\nAldi\\nIn the 25th annual Forbes list of global billionaires, Slim added $20.5 billion to his fortune, the\\nmost of anyone, and retained his number one ranking with a total fortune of $74 billion. Gates\\nremained in second place with $56 billion, while Warren Buffett was third with $50 billion. The\\ntop 10 had a combined wealth of $406 billion, up from $342 billion in 2010. According to Forbes\\neditor Kerry Dolan, \"media and technology billionaires definitely benefited from a stronger stock\\nmarket and a growing enthusiasm for all things social\" since the 2010 list.[37] However, Nigerian\\ncommodity mogul Aliko Dangote was the greatest gainer on a percentage basis as his fortune\\nincreased 557 percent to $13.5 billion. Mark Zuckerberg was one of seven Facebook-related\\nbillionaires on the list, as he added $9.5 billion to his net worth to move up to 52nd. Facebook co-\\nfounder Dustin Moskovitz was the youngest person on the list. Aged 26, eight days younger than\\nZuckerberg, he debuted at number 420 with an estimated fortune of $2.7 billion. IKEA founder\\nIngvar Kamprad was the largest loser as he saw his fortune plummet from $23 billion to $6 billion,\\ndropping him from 11th to 162nd overall.\\nA record 1,210 billionaires made the 2011 list, representing a combined wealth of $4.5 trillion, up\\nfrom $3.6 trillion the previous year.[38] One third of the world\\'s billionaires, 413, came from the\\nUnited States. China had the second most billionaires with 115, while Russia was third with 101.\\nAsia moved up to 332 billionaires, passing Europe as a region for the first time since the 1990s.\\nThe 2011 list included 214 newcomers and the average net worth of those on it increased to $3.7\\nbillion.[37]\\n2011\\n', path=None, url=None, mimetype=None), image_resource=None, audio_resource=None, video_resource=None, text_template='{metadata_str}\\n\\n{content}'),\n",
       " Document(id_='5a450c96-7b7e-49d9-aeaa-dbe5153cc761', embedding=None, metadata={'total_pages': 32, 'file_path': './billionaires_page.pdf', 'source': '12'}, excluded_embed_metadata_keys=[], excluded_llm_metadata_keys=[], relationships={}, metadata_template='{key}: {value}', metadata_separator='\\n', text_resource=MediaResource(embeddings=None, data=None, text=\"29/09/2023, 10:17\\nThe World's Billionaires - Wikipedia\\nhttps://en.wikipedia.org/wiki/The_World%27s_Billionaires\\n12/32\\nNo.\\nName\\nNet worth\\n(USD)\\nAge\\nNationality\\nSource(s) of wealth\\n1 \\nCarlos Slim\\n$74.0\\xa0billion\\xa0\\n71\\n\\xa0Mexico\\nAmérica Móvil, Grupo Carso\\n2 \\nBill Gates\\n$56.0\\xa0billion\\xa0\\n55\\n\\xa0United\\nStates\\nMicrosoft\\n3 \\nWarren Buffett\\n$50.0\\xa0billion\\xa0\\n80\\n\\xa0United\\nStates\\nBerkshire Hathaway\\n4 \\nBernard Arnault\\n$41.0\\xa0billion\\xa0\\n62\\n\\xa0France\\nLVMH Moët Hennessy • Louis\\nVuitton\\n5 \\nLarry Ellison\\n$39.5\\xa0billion\\xa0\\n66\\n\\xa0United\\nStates\\nOracle Corporation\\n6 \\nLakshmi Mittal\\n$31.1\\xa0billion\\xa0\\n60\\n\\xa0India\\nArcelor Mittal\\n7 \\nAmancio Ortega\\n$31.0\\xa0billion\\xa0\\n74\\n\\xa0Spain\\nInditex Group\\n8 \\nEike Batista\\n$30.0\\xa0billion\\xa0\\n53\\n\\xa0Brazil\\nEBX Group\\n9 \\nMukesh Ambani\\n$27.0\\xa0billion \\n54\\n\\xa0India\\nReliance Industries\\n10 \\nChristy Walton &\\nfamily\\n$26.5\\xa0billion\\xa0\\n62\\n\\xa0United\\nStates\\nWalmart\\nSlim narrowly eclipsed Gates to top the billionaire list for the first time. Slim saw his estimated\\nworth surge $18.5 billion to $53.5 billion as shares of America Movil rose 35 percent. Gates'\\nestimated wealth rose $13 billion to $53 billion, placing him second. Warren Buffett was third with\\n$47 billion.[39] Christy Walton was the highest-ranking woman, placing 12th overall, with an\\ninherited fortune of $22.5 billion.[40] At age 25, Mark Zuckerberg continued to be the world's\\nyoungest self-made billionaire.[8] American Isaac Perlmutter was among the newcomers with an\\nestimated fortune of $4 billion largely acquired in his sale of Marvel Entertainment to Disney.[39]\\nA total of 1,011 people made the 2010 list. The United States accounted for 403 billionaires,\\nfollowed by China with 89 and Russia with 62.[40] It was the first time China, while including\\nHong Kong, placed second.[39] A total of 55 countries were represented on the 2010 list, including\\nFinland and Pakistan which claimed their first billionaires.[40] Eighty-nine women made the list,\\nbut only 14 of them were self-made.[40] The combined net worth of the list was $3.6 trillion, up 50\\npercent from 2009's $2.4 trillion, while the average net worth was $3.5 billion.[8]\\nThe 2010 list featured 164 re-entries and 97 true newcomers.[8] Asia accounted for more than 100\\nof the new entrants. Overall, just 12 percent of the list lost wealth since 2009, and 30 people fell off\\nthe list. 13 others died.[39] Of the 89 women, 12 were newcomers in 2010. Steve Forbes said the\\ngrowing number of billionaires was a clear sign that the world's economy was recovering from\\n2009's global financial crisis.[8]\\nIn June 2010, Gates and Buffett announced the Giving Pledge, a promise to give the majority of\\ntheir wealth to philanthropic causes. As of 2017, the pledge had 158 signatories, but some of the\\nsignatories have since died. Most of the signers of the pledge are billionaires, and their pledges\\ntotal over $365 billion.[41]\\n2010\\n\", path=None, url=None, mimetype=None), image_resource=None, audio_resource=None, video_resource=None, text_template='{metadata_str}\\n\\n{content}'),\n",
       " Document(id_='b3399fc7-4561-44a1-9c90-e364310ffbee', embedding=None, metadata={'total_pages': 32, 'file_path': './billionaires_page.pdf', 'source': '13'}, excluded_embed_metadata_keys=[], excluded_llm_metadata_keys=[], relationships={}, metadata_template='{key}: {value}', metadata_separator='\\n', text_resource=MediaResource(embeddings=None, data=None, text=\"29/09/2023, 10:17\\nThe World's Billionaires - Wikipedia\\nhttps://en.wikipedia.org/wiki/The_World%27s_Billionaires\\n13/32\\nNo.\\nName\\nNet worth\\n(USD)\\nAge\\nNationality\\nSource(s) of wealth\\n1 \\nCarlos Slim &\\nfamily\\n$53.5\\xa0billion\\xa0\\n70\\n\\xa0Mexico\\nAmérica Móvil, Grupo Carso\\n2 \\nBill Gates\\n$53.0\\xa0billion\\xa0\\n54\\n\\xa0United\\nStates\\nMicrosoft\\n3 \\nWarren Buffett\\n$47.0\\xa0billion\\xa0\\n79\\n\\xa0United\\nStates\\nBerkshire Hathaway\\n4 \\nMukesh Ambani\\n$29.0\\xa0billion\\xa0\\n53\\n\\xa0India\\nReliance Industries\\n5 \\nLakshmi Mittal\\n$28.7\\xa0billion\\xa0\\n60\\n\\xa0India\\nArcelor Mittal\\n6 \\nLarry Ellison\\n$28.0\\xa0billion\\xa0\\n66\\n\\xa0United\\nStates\\nOracle Corporation\\n7 \\nBernard Arnault\\n$27.5\\xa0billion\\xa0\\n61\\n\\xa0France\\nLVMH Moët Hennessy • Louis\\nVuitton\\n8 \\nEike Batista\\n$27.0\\xa0billion\\xa0\\n53\\n\\xa0Brazil\\nEBX Group\\n9 \\nAmancio Ortega\\n$25.0\\xa0billion\\xa0\\n74\\n\\xa0Spain\\nInditex Group\\n10 \\nKarl Albrecht\\n$23.5\\xa0billion\\xa0\\n90\\n\\xa0Germany\\nAldi Süd\\nIn the wake of the Financial crisis of 2007–2008, the world's billionaires lost $2 trillion in net\\nworth and the list became 30% smaller than the previous year's list.[42]\\nNo.\\nName\\nNet worth (USD)\\nAge\\nNationality\\nSource(s) of wealth\\n1 \\nBill Gates\\n$40.0\\xa0billion\\xa0\\n53\\n\\xa0United States\\nMicrosoft\\n2 \\nWarren Buffett\\n$37.0\\xa0billion\\xa0\\n78\\n\\xa0United States\\nBerkshire Hathaway\\n3 \\nCarlos Slim\\n$35.0\\xa0billion\\xa0\\n69\\n\\xa0Mexico\\nAmérica Móvil, Grupo Carso\\n4 \\nLarry Ellison\\n$22.5\\xa0billion\\xa0\\n64\\n\\xa0United States\\nOracle Corporation\\n5 \\nIngvar Kamprad\\n$22.0\\xa0billion\\xa0\\n83\\n\\xa0Sweden\\nIKEA\\n6 \\nKarl Albrecht\\n$21.5\\xa0billion\\xa0\\n89\\n\\xa0Germany\\nAldi Süd\\n7 \\nMukesh Ambani\\n$19.5\\xa0billion\\xa0\\n52\\n\\xa0India\\nReliance Industries\\n8 \\nLakshmi Mittal\\n$19.3\\xa0billion\\xa0\\n58\\n\\xa0India\\nArcelor Mittal\\n9 \\nTheo Albrecht\\n$18.8\\xa0billion\\xa0\\n87\\n\\xa0Germany\\nAldi Nord, Trader Joe's\\n10 \\nAmancio Ortega\\n$18.3\\xa0billion\\xa0\\n73\\n\\xa0Spain\\nInditex Group\\nFacebook founder Mark Zuckerberg, four years after starting the company, joined the list at 23 to\\nbecome the youngest self-made billionaire.\\n2009\\n2008\\n\", path=None, url=None, mimetype=None), image_resource=None, audio_resource=None, video_resource=None, text_template='{metadata_str}\\n\\n{content}'),\n",
       " Document(id_='fa438763-03ca-4bd4-b9b7-2f737fbd8a59', embedding=None, metadata={'total_pages': 32, 'file_path': './billionaires_page.pdf', 'source': '14'}, excluded_embed_metadata_keys=[], excluded_llm_metadata_keys=[], relationships={}, metadata_template='{key}: {value}', metadata_separator='\\n', text_resource=MediaResource(embeddings=None, data=None, text=\"29/09/2023, 10:17\\nThe World's Billionaires - Wikipedia\\nhttps://en.wikipedia.org/wiki/The_World%27s_Billionaires\\n14/32\\nNo.\\nName\\nNet worth (USD)\\nAge\\nNationality\\nSource(s) of wealth\\n1 \\nWarren Buffett\\n$62.0\\xa0billion\\xa0\\n77\\n\\xa0United States\\nBerkshire Hathaway\\n2 \\nCarlos Slim\\n$60.0\\xa0billion\\xa0\\n68\\n\\xa0Mexico\\nAmérica Móvil, Grupo Carso\\n3 \\nBill Gates\\n$58.0\\xa0billion\\xa0\\n52\\n\\xa0United States\\nMicrosoft\\n4 \\nLakshmi Mittal\\n$45.0\\xa0billion\\xa0\\n57\\n\\xa0India\\nArcelor Mittal\\n5 \\nMukesh Ambani\\n$43.0\\xa0billion\\xa0\\n51\\n\\xa0India\\nReliance Industries\\n6 \\nAnil Ambani\\n$42.0\\xa0billion\\xa0\\n48\\n\\xa0India\\nAnil Dhirubhai Ambani Group\\n7 \\nIngvar Kamprad\\n$31.0\\xa0billion\\xa0\\n81\\n\\xa0Sweden\\nIKEA\\n8 \\nKushal Pal Singh\\n$30.0\\xa0billion\\xa0\\n76\\n\\xa0India\\nDLF Group\\n9 \\nOleg Deripaska\\n$28.0\\xa0billion\\xa0\\n40\\n\\xa0Russia\\nRusal\\n10 \\nKarl Albrecht\\n$27.0\\xa0billion\\xa0\\n88\\n\\xa0Germany\\nAldi Süd\\nForbes recorded a then record of 946 billionaires. There were 178 newcomers, as well as the first\\nbillionaires from Cyprus, Oman, Romania and Serbia. Over 66% of the previous year's billionaires\\nbecame richer. The billionaires' net worth increased in 2007 by $900 billion to $3.5 trillion.[43]\\nNo.\\nName\\nNet worth\\n(USD)\\nAge\\nNationality\\nSource(s) of wealth\\n1 \\nBill Gates\\n$56.0\\xa0billion\\xa0\\n51\\n\\xa0United\\nStates\\nMicrosoft\\n2 \\nWarren Buffett\\n$52.0\\xa0billion\\xa0\\n76\\n\\xa0United\\nStates\\nBerkshire Hathaway\\n3 \\nCarlos Slim\\n$49.0\\xa0billion\\xa0\\n67\\n\\xa0Mexico\\nAmérica Móvil, Grupo Carso\\n4 \\nIngvar\\nKamprad\\n$33.0\\xa0billion\\xa0\\n80\\n\\xa0Sweden\\nIKEA\\n5 \\nLakshmi Mittal\\n$32.0\\xa0billion\\xa0\\n56\\n\\xa0India\\nArcelor Mittal\\n6 \\nSheldon\\nAdelson\\n$26.5\\xa0billion\\xa0\\n73\\n\\xa0United\\nStates\\nLas Vegas Sands\\n7 \\nBernard\\nArnault\\n$26.0\\xa0billion\\xa0\\n58\\n\\xa0France\\nLVMH\\n8 \\nAmancio\\nOrtega\\n$24.0\\xa0billion\\xa0\\n71\\n\\xa0Spain\\nInditex Group\\n9 \\nLi Ka-shing\\n$23.0\\xa0billion\\xa0\\n78\\n\\xa0Hong Kong\\nCheung Kong Holdings, Hutchison\\nWhampoa\\n10 \\nDavid\\nThomson\\n$22.0\\xa0billion\\xa0\\n49\\n\\xa0Canada\\nThomson Corporation\\nFree cash used by consumers from home equity extraction, known as the real estate bubble created\\na total of nearly $5\\xa0trillion in 2005, contributing to economic growth worldwide.[44]\\n2007\\n2006\\n\", path=None, url=None, mimetype=None), image_resource=None, audio_resource=None, video_resource=None, text_template='{metadata_str}\\n\\n{content}'),\n",
       " Document(id_='d56c6b32-1dac-4476-95f9-6a6612902ac7', embedding=None, metadata={'total_pages': 32, 'file_path': './billionaires_page.pdf', 'source': '15'}, excluded_embed_metadata_keys=[], excluded_llm_metadata_keys=[], relationships={}, metadata_template='{key}: {value}', metadata_separator='\\n', text_resource=MediaResource(embeddings=None, data=None, text=\"29/09/2023, 10:17\\nThe World's Billionaires - Wikipedia\\nhttps://en.wikipedia.org/wiki/The_World%27s_Billionaires\\n15/32\\nNo.\\nName\\nNet worth\\n(USD)\\nAge\\nNationality\\nSource(s) of wealth\\n1 \\nBill Gates\\n$52.0\\xa0billion \\n50\\n\\xa0United\\nStates\\nMicrosoft\\n2 \\nWarren Buffett\\n$42.0\\xa0billion \\n75\\n\\xa0United\\nStates\\nBerkshire Hathaway\\n3 \\nCarlos Slim\\n$30.0\\xa0billion \\n66\\n\\xa0Mexico\\nAmérica Móvil, Grupo Carso\\n4 \\nIngvar Kamprad\\n$28.0\\xa0billion \\n79\\n\\xa0Sweden\\nIKEA\\n5 \\nLakshmi Mittal\\n$23.5\\xa0billion \\n55\\n\\xa0India\\nMittal Steel Company\\n6 \\nPaul Allen\\n$22.0\\xa0billion \\n53\\n\\xa0United\\nStates\\nMicrosoft\\n7 \\nBernard Arnault\\n$21.5\\xa0billion \\n57\\n\\xa0France\\nLVMH Moët Hennessy • Louis\\nVuitton\\n8 \\nAl-Waleed bin\\nTalal\\n$20.0\\xa0billion \\n49\\n\\xa0Saudi\\nArabia\\nKingdom Holding Company\\n9 \\nKenneth\\nThomson\\n$19.6\\xa0billion \\n82\\n\\xa0Canada\\nThomson Corporation\\n10 \\nLi Ka-shing\\n$18.8\\xa0billion \\n77\\n\\xa0Hong Kong\\nCheung Kong Group, Hutchison\\nWhampoa\\nThe net worth of 2005's 691 billionaires was $2.2 trillion. More than half of them had self-made\\nfortunes.[45]\\nNo.\\nName\\nNet worth (USD)\\nAge\\nNationality\\nSource(s) of wealth\\n1 \\nBill Gates\\n$46.5\\xa0billion \\n49\\n\\xa0United States\\nMicrosoft\\n2 \\nWarren Buffett\\n$44.0\\xa0billion \\n74\\n\\xa0United States\\nBerkshire Hathaway\\n3 \\nLakshmi Mittal\\n$25.0\\xa0billion \\n54\\n\\xa0India\\nMittal Steel Company\\n4 \\nCarlos Slim\\n$23.8\\xa0billion \\n65\\n\\xa0Mexico\\nAmérica Móvil, Grupo Carso\\n5 \\nAl-Waleed bin Talal\\n$23.7\\xa0billion \\n49\\n\\xa0Saudi Arabia\\nKingdom Holding Company\\n6 \\nIngvar Kamprad\\n$23.0\\xa0billion \\n79\\n\\xa0Sweden\\nIKEA\\n7 \\nPaul Allen\\n$21.0\\xa0billion \\n52\\n\\xa0United States\\nMicrosoft\\n8 \\nKarl Albrecht\\n$18.5\\xa0billion\\xa0\\n85\\n\\xa0Germany\\nAldi Süd\\n9 \\nLarry Ellison\\n$18.4\\xa0billion\\xa0\\n60\\n\\xa0United States\\nOracle Corporation\\n10 \\nS. Robson Walton\\n$18.3\\xa0billion\\xa0\\n61\\n\\xa0United States\\nWalmart\\nThe founders of Google, Sergey Brin and Larry Page, became billionaires at age 30.\\n2005\\n2004\\n\", path=None, url=None, mimetype=None), image_resource=None, audio_resource=None, video_resource=None, text_template='{metadata_str}\\n\\n{content}'),\n",
       " Document(id_='b8699e87-13e8-4750-b8c3-e0983fa0d30e', embedding=None, metadata={'total_pages': 32, 'file_path': './billionaires_page.pdf', 'source': '16'}, excluded_embed_metadata_keys=[], excluded_llm_metadata_keys=[], relationships={}, metadata_template='{key}: {value}', metadata_separator='\\n', text_resource=MediaResource(embeddings=None, data=None, text=\"29/09/2023, 10:17\\nThe World's Billionaires - Wikipedia\\nhttps://en.wikipedia.org/wiki/The_World%27s_Billionaires\\n16/32\\nNo.\\nName\\nNet worth (USD)\\nAge\\nNationality\\nSource(s) of wealth\\n1 \\nBill Gates\\n$46.6\\xa0billion \\n48\\n\\xa0United States\\nMicrosoft\\n2 \\nWarren Buffett\\n$42.9\\xa0billion \\n73\\n\\xa0United States\\nBerkshire Hathaway\\n3 \\nKarl Albrecht\\n$23.0\\xa0billion\\xa0\\n84\\n\\xa0Germany\\nAldi Süd\\n4 \\nAl-Waleed bin Talal\\n$21.5\\xa0billion \\n47\\n\\xa0Saudi Arabia\\nKingdom Holding Company\\n5 \\nPaul Allen\\n$21.0\\xa0billion \\n51\\n\\xa0United States\\nMicrosoft\\n6 \\nAlice Walton*\\n$20.0\\xa0billion \\n55\\n\\xa0United States\\nWal-Mart\\n6 \\nHelen Walton*\\n$20.0\\xa0billion \\n84\\n\\xa0United States\\nWal-Mart\\n6 \\nJim Walton*\\n$20.0\\xa0billion \\n56\\n\\xa0United States\\nWal-Mart\\n6 \\nJohn Walton*\\n$20.0\\xa0billion \\n58\\n\\xa0United States\\nWal-Mart\\n6 \\nS. Robson Walton*\\n$20.0\\xa0billion \\n60\\n\\xa0United States\\nWal-Mart\\n* Each hold an essentially equal share in Walmart.\\nOprah Winfrey became the first female African-American billionaire.\\nNo.\\nName\\nNet worth\\n(USD)\\nAge\\nNationality\\nSource(s) of wealth\\n1 \\nBill Gates\\n$40.7\\xa0billion \\n47\\n\\xa0United\\nStates\\nMicrosoft\\n2 \\nWarren Buffett\\n$30.5\\xa0billion \\n72\\n\\xa0United\\nStates\\nBerkshire Hathaway\\n3 \\nKarl and Theo\\nAlbrecht\\n$25.6\\xa0billion\\xa0\\n83\\n\\xa0Germany\\nAldi Süd\\n4 \\nPaul Allen\\n$20.1\\xa0billion \\n50\\n\\xa0United\\nStates\\nMicrosoft\\n5 \\nAl-Waleed bin Talal\\n$17.7\\xa0billion \\n46\\n\\xa0Saudi Arabia\\nKingdom Holding\\nCompany\\n6 \\nLarry Ellison\\n$16.6\\xa0billion\\xa0\\n58\\n\\xa0United\\nStates\\nOracle Corporation\\n7 \\nAlice Walton*\\n$16.5\\xa0billion \\n54\\n\\xa0United\\nStates\\nWal-Mart\\n7 \\nHelen Walton*\\n$16.5\\xa0billion \\n83\\n\\xa0United\\nStates\\nWal-Mart\\n7 \\nJim Walton*\\n$16.5\\xa0billion \\n55\\n\\xa0United\\nStates\\nWal-Mart\\n7 \\nJohn Walton*\\n$16.5\\xa0billion \\n57\\n\\xa0United\\nStates\\nWal-Mart\\n7 \\nS. Robson Walton*\\n$16.5\\xa0billion \\n59\\n\\xa0United\\nStates\\nWal-Mart\\n2003\\n\", path=None, url=None, mimetype=None), image_resource=None, audio_resource=None, video_resource=None, text_template='{metadata_str}\\n\\n{content}'),\n",
       " Document(id_='55159fb9-1410-440b-b8ce-304f2c084dc2', embedding=None, metadata={'total_pages': 32, 'file_path': './billionaires_page.pdf', 'source': '17'}, excluded_embed_metadata_keys=[], excluded_llm_metadata_keys=[], relationships={}, metadata_template='{key}: {value}', metadata_separator='\\n', text_resource=MediaResource(embeddings=None, data=None, text=\"29/09/2023, 10:17\\nThe World's Billionaires - Wikipedia\\nhttps://en.wikipedia.org/wiki/The_World%27s_Billionaires\\n17/32\\n* Each hold an essentially equal share in Walmart.\\nAs a result of the market crash caused by the Dot-com bubble, 83 billionaires dropped off the list\\nfrom the previous year.\\nNo.\\nName\\nNet worth (USD)\\nAge\\nNationality\\nSource(s) of wealth\\n1 \\nBill Gates\\n$52.8\\xa0billion \\n46\\n\\xa0United States\\nMicrosoft\\n2 \\nWarren Buffett\\n$35.0\\xa0billion \\n71\\n\\xa0United States\\nBerkshire Hathaway\\n3 \\nKarl and Theo Albrecht\\n$26.8\\xa0billion\\xa0\\n82\\n\\xa0Germany\\nAldi Süd\\n4 \\nPaul Allen\\n$25.2\\xa0billion \\n49\\n\\xa0United States\\nMicrosoft\\n5 \\nLarry Ellison\\n$23.5\\xa0billion\\xa0\\n57\\n\\xa0United States\\nOracle Corporation\\n6 \\nJim Walton*\\n$20.8\\xa0billion \\n54\\n\\xa0United States\\nWal-Mart\\n7 \\nJohn Walton*\\n$20.7\\xa0billion \\n56\\n\\xa0United States\\nWal-Mart\\n8 \\nAlice Walton*\\n$20.5\\xa0billion \\n53\\n\\xa0United States\\nWal-Mart\\n8 \\nS. Robson Walton*\\n$20.5\\xa0billion \\n58\\n\\xa0United States\\nWal-Mart\\n8 \\nHelen Walton*\\n$20.5\\xa0billion \\n82\\n\\xa0United States\\nWal-Mart\\n* Each hold an essentially equal share in Walmart.\\nIn 2001, BET founder Robert L. Johnson became the first ever African-American billionaire.[46]\\n2002\\n2001\\n\", path=None, url=None, mimetype=None), image_resource=None, audio_resource=None, video_resource=None, text_template='{metadata_str}\\n\\n{content}'),\n",
       " Document(id_='06d53cef-119b-4cee-b6f7-34daecdd4d21', embedding=None, metadata={'total_pages': 32, 'file_path': './billionaires_page.pdf', 'source': '18'}, excluded_embed_metadata_keys=[], excluded_llm_metadata_keys=[], relationships={}, metadata_template='{key}: {value}', metadata_separator='\\n', text_resource=MediaResource(embeddings=None, data=None, text=\"29/09/2023, 10:17\\nThe World's Billionaires - Wikipedia\\nhttps://en.wikipedia.org/wiki/The_World%27s_Billionaires\\n18/32\\nNo.\\nName\\nNet worth\\n(USD)\\nAge\\nNationality\\nSource(s) of wealth\\n1 \\nBill Gates\\n$58.7\\xa0billion \\n45\\n\\xa0United\\nStates\\nMicrosoft\\n2 \\nWarren Buffett\\n$32.3\\xa0billion \\n70\\n\\xa0United\\nStates\\nBerkshire Hathaway\\n3 \\nPaul Allen\\n$30.4\\xa0billion \\n48\\n\\xa0United\\nStates\\nMicrosoft\\n4 \\nLarry Ellison\\n$26.0\\xa0billion\\xa0\\n56\\n\\xa0United\\nStates\\nOracle Corporation\\n5 \\nKarl and Theo\\nAlbrecht\\n$25.0\\xa0billion\\xa0\\n81\\n\\xa0Germany\\nAldi\\n6 \\nAl-Waleed bin Talal\\n$20.0\\xa0billion \\n44\\n\\xa0Saudi Arabia\\nKingdom Holding\\nCompany\\n7 \\nJim Walton*\\n$18.8\\xa0billion \\n53\\n\\xa0United\\nStates\\nWal-Mart\\n8 \\nJohn Walton*\\n$18.7\\xa0billion \\n55\\n\\xa0United\\nStates\\nWal-Mart\\n9 \\nS. Robson Walton*\\n$18.6\\xa0billion \\n57\\n\\xa0United\\nStates\\nWal-Mart\\n10 \\nAlice Walton*\\n$18.5\\xa0billion \\n52\\n\\xa0United\\nStates\\nWal-Mart\\n10 \\nHelen Walton*\\n$18.5\\xa0billion \\n81\\n\\xa0United\\nStates\\nWal-Mart\\n* Each hold an essentially equal share in Wal-Mart. Had he been alive in 2001, Sam Walton would\\nhave been the world's wealthiest person.\\nGates became the first American to take the top spot of the world's billionaires in 1995 with a net\\nworth of $12.5 billion, and he remained there during the dot-com bubble's height in 1999 when his\\nfortune peaked at $90 billion. After the dot-com bubble started to collapse in 2000, his wealth\\ndropped to $60 billion, although he remained at the top of the list.\\n2000\\n\", path=None, url=None, mimetype=None), image_resource=None, audio_resource=None, video_resource=None, text_template='{metadata_str}\\n\\n{content}'),\n",
       " Document(id_='cb70002b-4829-4b7f-bea7-550b9a8c0971', embedding=None, metadata={'total_pages': 32, 'file_path': './billionaires_page.pdf', 'source': '19'}, excluded_embed_metadata_keys=[], excluded_llm_metadata_keys=[], relationships={}, metadata_template='{key}: {value}', metadata_separator='\\n', text_resource=MediaResource(embeddings=None, data=None, text=\"29/09/2023, 10:17\\nThe World's Billionaires - Wikipedia\\nhttps://en.wikipedia.org/wiki/The_World%27s_Billionaires\\n19/32\\nNo.\\nName\\nNet worth\\n(USD)\\nAge\\nNationality\\nSource(s) of wealth\\n1 \\nBill Gates\\n$60.0\\xa0billion \\n44\\n\\xa0United\\nStates\\nMicrosoft\\n2 \\nLarry Ellison\\n$47.0\\xa0billion\\xa0 \\n55\\n\\xa0United\\nStates\\nOracle Corporation\\n3 \\nPaul Allen\\n$28.0\\xa0billion \\n47\\n\\xa0United\\nStates\\nMicrosoft\\n4 \\nWarren Buffett\\n$25.6\\xa0billion \\n69\\n\\xa0United\\nStates\\nBerkshire Hathaway\\n5 \\nKarl and Theo\\nAlbrecht\\n$20.0\\xa0billion\\xa0 \\n80\\n\\xa0Germany\\nAldi Süd\\n6 \\nAl-Waleed bin Talal\\n$20.0\\xa0billion \\n43\\n\\xa0Saudi Arabia\\nKingdom Holding Company\\n7 \\nS. Robson Walton\\n$20.0\\xa0billion \\n57\\n\\xa0United\\nStates\\nWal-Mart\\n8 \\nMasayoshi Son\\n$19.4\\xa0billion \\n43\\n\\xa0Japan\\nSoftbank Capital, SoftBank\\nMobile\\n9 \\nMichael Dell\\n$19.1\\xa0billion \\n35\\n\\xa0United\\nStates\\nDell\\n10 \\nKenneth Thomson\\n$16.1\\xa0billion \\n77\\n\\xa0Canada\\nThe Thomson Corporation\\nNo.[47]\\nName\\nNet worth\\n(USD)\\nAge\\nNationality\\nSource(s) of wealth\\n1 \\nBill Gates\\n$90.0\\xa0billion \\n43\\n\\xa0United\\nStates\\nMicrosoft\\n2 \\nWarren Buffett\\n$36.0\\xa0billion \\n68\\n\\xa0United\\nStates\\nBerkshire Hathaway\\n3 \\nPaul Allen\\n$30.0\\xa0billion \\n46\\n\\xa0United\\nStates\\nMicrosoft\\n4 \\nSteven Ballmer\\n$19.5\\xa0billion\\xa0\\n43\\n\\xa0United\\nStates\\nMicrosoft\\n5 \\nPhilip Anschutz\\n$16.5\\xa0billion\\xa0\\n59\\n\\xa0United\\nStates\\nThe Anschutz Corporation\\n6 \\nMichael Dell\\n$16.5\\xa0billion \\n34\\n\\xa0United\\nStates\\nDell\\n7 \\nS. Robson Walton\\n$15.8\\xa0billion\\n55\\n\\xa0United\\nStates\\nWal-Mart\\n8 \\nAl-Waleed Bin Talal\\n$15.0\\xa0billion \\n42\\n\\xa0Saudi Arabia\\nKingdom Holding\\nCompany\\n9 \\nKarl and Theo\\nAlbrecht\\n$13.6\\xa0billion \\n79\\n\\xa0Germany\\nAldi Süd\\n10 \\nLi Ka-shing & family\\n$12.6\\xa0billion \\n71\\n\\xa0Hong Kong\\nCK Asset Holdings[48]\\n1999\\n1998\\n\", path=None, url=None, mimetype=None), image_resource=None, audio_resource=None, video_resource=None, text_template='{metadata_str}\\n\\n{content}'),\n",
       " Document(id_='9a832cad-2a79-40bd-85fc-574e2714548b', embedding=None, metadata={'total_pages': 32, 'file_path': './billionaires_page.pdf', 'source': '20'}, excluded_embed_metadata_keys=[], excluded_llm_metadata_keys=[], relationships={}, metadata_template='{key}: {value}', metadata_separator='\\n', text_resource=MediaResource(embeddings=None, data=None, text=\"29/09/2023, 10:17\\nThe World's Billionaires - Wikipedia\\nhttps://en.wikipedia.org/wiki/The_World%27s_Billionaires\\n20/32\\nNo.[47]\\nName\\nNet worth\\n(USD)\\nAge\\nNationality\\nSource(s) of wealth\\n1 \\nBill Gates\\n$51.0\\xa0billion \\n43\\n\\xa0United\\nStates\\nMicrosoft\\n2 \\nWalton family\\n$48.0\\xa0billion \\n_\\n\\xa0United\\nStates\\nWal-Mart\\n3 \\nWarren Buffett\\n$33.0\\xa0billion \\n67\\n\\xa0United\\nStates\\nBerkshire Hathaway\\n4 \\nPaul Allen\\n$21.0\\xa0billion\\xa0\\n45\\n\\xa0United\\nStates\\nMicrosoft\\n5 \\nKenneth Thomson\\n$14.4\\xa0billion\\xa0\\n74\\n\\xa0Canada\\nWoodbridge Co. Ltd.[49]\\n6 \\nJay and Robert\\nPritzker\\n$13.5\\xa0billion \\n_\\n\\xa0United\\nStates\\nHyatt[50]\\n7 \\nForrest Mars Sr. &\\nfamily\\n$13.5\\xa0billion \\n94\\n\\xa0United\\nStates\\nMars, Inc.[51]\\n8 \\nAl-Waleed Bin Talal\\n$13.3\\xa0billion \\n41\\n\\xa0Saudi\\nArabia\\nKingdom Holding Company\\n9 \\nLee Shau-kee\\n$12.7\\xa0billion \\n70\\n\\xa0Hong Kong\\nHenderson Land\\nDevelopment[52]\\n10 \\nKarl and Theo\\nAlbrecht\\n$11.7\\xa0billion \\n78\\n\\xa0Germany\\nAldi Süd\\nNo.[47]\\nName\\nNet worth\\n(USD)\\nAge\\nNationality\\nSource(s) of wealth\\n1 \\nBill Gates\\n$36.4\\xa0billion \\n42\\n\\xa0United\\nStates\\nMicrosoft\\n2 \\nWalton family\\n$27.6\\xa0billion \\n_\\n\\xa0United\\nStates\\nWal-Mart\\n3 \\nWarren Buffett\\n$23.2\\xa0billion \\n66\\n\\xa0United\\nStates\\nBerkshire Hathaway\\n4 \\nLee Shau-kee\\n$14.7\\xa0billion\\xa0\\n69\\n\\xa0Hong Kong\\nHenderson Land\\nDevelopment[52]\\n5 \\nPaul Allen\\n$14.1\\xa0billion\\xa0\\n44\\n\\xa0United\\nStates\\nMicrosoft\\n6 \\nKwok brothers\\n$12.3\\xa0billion \\n48\\n\\xa0Hong Kong\\nSun Hung Kai Properties[53]\\n7 \\nHaas family\\n$12.3\\xa0billion \\n_\\n\\xa0United\\nStates\\nLevi Strauss & Co[54]\\n8 \\nForrest Mars Sr. &\\nfamily\\n$12.0\\xa0billion \\n93\\n\\xa0United\\nStates\\nMars, Inc.[51]\\n9 \\nKarl and Theo\\nAlbrecht\\n$11.5\\xa0billion \\n77\\n\\xa0Germany\\nAldi Süd\\n10 \\nTsai Wan-lin &\\nfamily\\n$11.3\\xa0billion \\n73\\n\\xa0Taiwan\\nCathay Life Insurance[55]\\n1997\\n1996\\n\", path=None, url=None, mimetype=None), image_resource=None, audio_resource=None, video_resource=None, text_template='{metadata_str}\\n\\n{content}'),\n",
       " Document(id_='369909bc-4edc-43bd-b50f-c1fa6705e883', embedding=None, metadata={'total_pages': 32, 'file_path': './billionaires_page.pdf', 'source': '21'}, excluded_embed_metadata_keys=[], excluded_llm_metadata_keys=[], relationships={}, metadata_template='{key}: {value}', metadata_separator='\\n', text_resource=MediaResource(embeddings=None, data=None, text=\"29/09/2023, 10:17\\nThe World's Billionaires - Wikipedia\\nhttps://en.wikipedia.org/wiki/The_World%27s_Billionaires\\n21/32\\nNo.[47]\\nName\\nNet worth\\n(USD)\\nAge\\nNationality\\nSource(s) of wealth\\n1 \\nWalton family\\n$22.9\\xa0billion \\n_\\n\\xa0United\\nStates\\nWal-Mart\\n2 \\nBill Gates\\n$18.0\\xa0billion \\n41\\n\\xa0United\\nStates\\nMicrosoft\\n3 \\nWarren Buffett\\n$15.3\\xa0billion \\n65\\n\\xa0United\\nStates\\nBerkshire Hathaway\\n4 \\nOeri, Hoffman & Sacher\\nfamilies\\n$13.1\\xa0billion\\xa0\\n_\\n\\xa0\\xa0Switzerland\\nRoche[56]\\n5 \\nLee Shau-kee\\n$12.7\\xa0billion\\xa0\\n68\\n\\xa0Hong Kong\\nHenderson Land\\nDevelopment[52]\\n6 \\nTsai Wan-lin & family\\n$12.2\\xa0billion \\n72\\n\\xa0Taiwan\\nCathay Life Insurance[55]\\n7 \\nKwok brothers\\n$11.2\\xa0billion \\n_\\n\\xa0Hong Kong\\nSun Hung Kai\\nProperties[53]\\n8 \\nLi Ka-shing & family\\n$10.6\\xa0billion \\n68\\n\\xa0Hong Kong\\nCK Asset Holdings[48]\\n9 \\nYoshiaki Tsutsumi\\n$9.2\\xa0billion \\n62\\n\\xa0Japan\\nSeibu Railway[57]\\n10 \\nKarl and Theo Albrecht\\n$9.0\\xa0billion \\n76\\n\\xa0Germany\\nAldi Süd[58]\\nNo.[47]\\nName\\nNet worth (USD)\\nNationality\\n1 \\nWalton family\\n$23.5\\xa0billion \\n\\xa0United States\\n2 \\nBill Gates\\n$12.9\\xa0billion \\n\\xa0United States\\n3 \\nWarren Buffett\\n$10.7\\xa0billion \\n\\xa0United States\\n4 \\nHans and Gad Rausing\\n$9.0\\xa0billion\\xa0\\n\\xa0Sweden\\n5 \\nYoshiaki Tsutsumi\\n$9.0\\xa0billion\\xa0\\n\\xa0Japan\\n6 \\nPaul Sacher & Hoffman family\\n$8.6\\xa0billion \\n\\xa0\\xa0Switzerland\\n7 \\nTsai Wan-lin & family\\n$8.5\\xa0billion \\n\\xa0Taiwan\\n8 \\nKenneth Thomson\\n$6.5\\xa0billion \\n\\xa0Canada\\n9 \\nLee Shau-kee\\n$6.5\\xa0billion\\n\\xa0Hong Kong\\n10 \\nChung Ju-yung\\n$6.2\\xa0billion\\n\\xa0South Korea\\nNo.[47]\\nName\\nNet worth (USD)\\nNationality\\n1 \\nWalton family\\n$22.6\\xa0billion \\n\\xa0United States\\n2 \\ndu Pont family\\n$9.0\\xa0billion \\n\\xa0United States\\n3 \\nHans and Gad Rausing\\n$9.0\\xa0billion \\n\\xa0Sweden\\n4 \\nYoshiaki Tsutsumi\\n$8.5\\xa0billion\\xa0\\n\\xa0Japan\\n5 \\nBill Gates\\n$8.2\\xa0billion\\xa0\\n\\xa0United States\\n1995\\n1994\\n\", path=None, url=None, mimetype=None), image_resource=None, audio_resource=None, video_resource=None, text_template='{metadata_str}\\n\\n{content}'),\n",
       " Document(id_='4a08111c-5d04-4cab-988a-f41ad3cf2caa', embedding=None, metadata={'total_pages': 32, 'file_path': './billionaires_page.pdf', 'source': '22'}, excluded_embed_metadata_keys=[], excluded_llm_metadata_keys=[], relationships={}, metadata_template='{key}: {value}', metadata_separator='\\n', text_resource=MediaResource(embeddings=None, data=None, text=\"29/09/2023, 10:17\\nThe World's Billionaires - Wikipedia\\nhttps://en.wikipedia.org/wiki/The_World%27s_Billionaires\\n22/32\\nNo.[47]\\nName\\nNet worth (USD)\\nNationality\\n6 \\nWarren Buffett\\n$7.9\\xa0billion \\n\\xa0United States\\n7 \\nPaul Sacher & Hoffman family\\n$7.8\\xa0billion \\n\\xa0\\xa0Switzerland\\n8 \\nTsai Wan-lin & family\\n$7.5\\xa0billion \\n\\xa0Taiwan\\n9 \\nKarl and Theo Albrecht\\n$7.3\\xa0billion \\n\\xa0Germany\\n10 \\nCarlos Slim\\n$6.6\\xa0billion \\n\\xa0Mexico\\nNo.[47]\\nName\\nNet worth (USD)\\nNationality\\n1 \\nWalton family\\n$25.3\\xa0billion \\n\\xa0United States\\n2 \\nMars family\\n$9.2\\xa0billion \\n\\xa0United States\\n3 \\nYoshiaki Tsutsumi\\n$9.0\\xa0billion \\n\\xa0Japan\\n4 \\ndu Pont family\\n$8.6\\xa0billion\\xa0\\n\\xa0United States\\n5 \\nMinoru and Akira Mori\\n$7.5\\xa0billion\\xa0\\n\\xa0Japan\\n6 \\nBill Gates\\n$7.4\\xa0billion \\n\\xa0United States\\n7 \\nSamuel and Donald Newhouse\\n$7.0\\xa0billion \\n\\xa0United States\\n8 \\nSid and Lee Bass & brothers\\n$6.8\\xa0billion \\n\\xa0United States\\n9 \\nWarren Buffett\\n$6.6\\xa0billion \\n\\xa0United States\\n10 \\nErivan Haub\\n$6.2\\xa0billion \\n\\xa0Germany\\nNo.[47]\\nName\\nNet worth (USD)\\nNationality\\n1 \\nWalton family\\n$23.8\\xa0billion \\n\\xa0United States\\n2 \\nTaikichiro Mori\\n$13.0\\xa0billion \\n\\xa0Japan\\n3 \\nYoshiaki Tsutsumi\\n$10.0\\xa0billion \\n\\xa0Japan\\n4 \\nHans and Gad Rausing\\n$7.0\\xa0billion\\xa0\\n\\xa0Sweden\\n5 \\nErivan Haub\\n$6.9\\xa0billion\\xa0\\n\\xa0Germany\\n6 \\nHaniel family\\n$6.4\\xa0billion \\n\\xa0Germany\\n7 \\nBill Gates\\n$6.4\\xa0billion \\n\\xa0United States\\n8 \\nDavid Sainsbury & family\\n$6.2\\xa0billion \\n\\xa0United Kingdom\\n9 \\nKenneth Thomson\\n$6.2\\xa0billion \\n\\xa0Canada\\n10 \\nShin Kyuk-ho\\n$6.0\\xa0billion \\n\\xa0South Korea\\n1993\\n1992\\n1991\\n\", path=None, url=None, mimetype=None), image_resource=None, audio_resource=None, video_resource=None, text_template='{metadata_str}\\n\\n{content}'),\n",
       " Document(id_='b84a574d-cff6-4b74-8593-80bae925d7bc', embedding=None, metadata={'total_pages': 32, 'file_path': './billionaires_page.pdf', 'source': '23'}, excluded_embed_metadata_keys=[], excluded_llm_metadata_keys=[], relationships={}, metadata_template='{key}: {value}', metadata_separator='\\n', text_resource=MediaResource(embeddings=None, data=None, text=\"29/09/2023, 10:17\\nThe World's Billionaires - Wikipedia\\nhttps://en.wikipedia.org/wiki/The_World%27s_Billionaires\\n23/32\\nNo.[47]\\nName\\nNet worth (USD)\\nNationality\\n1 \\nWalton family\\n$18.5\\xa0billion \\n\\xa0United States\\n2 \\nTaikichiro Mori\\n$15.0\\xa0billion \\n\\xa0Japan\\n3 \\nYoshiaki Tsutsumi\\n$14.0\\xa0billion \\n\\xa0Japan\\n4 \\ndu Pont family\\n$10.0\\xa0billion\\xa0\\n\\xa0United States\\n5 \\nHans and Gad Rausing\\n$9.0\\xa0billion\\xa0\\n\\xa0Sweden\\n6 \\nKitaro Watanabe\\n$7.7\\xa0billion \\n\\xa0Japan\\n7 \\nPaul Reichmann & brothers\\n$7.1\\xa0billion \\n\\xa0Canada\\n8 \\nKenneth Thomson\\n$6.8\\xa0billion \\n\\xa0Canada\\n9 \\nKenkichi Nakajima\\n$6.1\\xa0billion \\n\\xa0Japan\\n10 \\nShin Kyuk-ho\\n$6.0\\xa0billion \\n\\xa0South Korea\\nNo.[47]\\nName\\nNet worth (USD)\\nNationality\\n1 \\nYoshiaki Tsutsumi\\n$16.0\\xa0billion \\n\\xa0Japan\\n2 \\nTaikichiro Mori\\n$14.6\\xa0billion \\n\\xa0Japan\\n3 \\nWalton family\\n$13.5\\xa0billion \\n\\xa0United States\\n4 \\ndu Pont family\\n$10.0\\xa0billion\\xa0 \\n\\xa0United States\\n5 \\nHans and Gad Rausing\\n$9.6\\xa0billion\\xa0 \\n\\xa0Sweden\\n6 \\nKitaro Watanabe\\n$9.2\\xa0billion \\n\\xa0Japan\\n7 \\nPaul Reichmann & brothers\\n$9.0\\xa0billion \\n\\xa0Canada\\n8 \\nKenkichi Nakajima\\n$8.4\\xa0billion \\n\\xa0Japan\\n9 \\nShin Kyuk-ho\\n$7.5\\xa0billion \\n\\xa0South Korea\\n10 \\nEitaro Itoyama\\n$5.8\\xa0billion \\n\\xa0Japan\\nNo.[59]\\nName\\nNet worth (USD)\\nNationality\\n1 \\nYoshiaki Tsutsumi\\n$15.0\\xa0billion \\n\\xa0Japan\\n2 \\nTaikichiro Mori\\n$14.2\\xa0billion \\n\\xa0Japan\\n3 \\nSam Walton & family\\n$8.7\\xa0billion \\n\\xa0United States\\n4 \\nReichmann brothers\\n$8.0\\xa0billion\\xa0 \\n\\xa0Canada\\n4 \\nShin Kyuk-ho\\n$8.0\\xa0billion\\xa0 \\n\\xa0South Korea\\n6 \\nHirotomo Takei & family\\n$7.8\\xa0billion \\n\\xa0Japan\\n7 \\nKitaro Watanabe\\n$7.0\\xa0billion+ \\n\\xa0Japan\\n8 \\nHaruhiko Yoshimoto& family\\n$7.0\\xa0billion \\n\\xa0Japan\\n8 \\nHans and Gad Rausing\\n$7.0\\xa0billion \\n\\xa0Sweden\\n1990\\n1989\\n\", path=None, url=None, mimetype=None), image_resource=None, audio_resource=None, video_resource=None, text_template='{metadata_str}\\n\\n{content}'),\n",
       " Document(id_='d0ca1c97-38ba-45b8-aa51-00eec68bc1ff', embedding=None, metadata={'total_pages': 32, 'file_path': './billionaires_page.pdf', 'source': '24'}, excluded_embed_metadata_keys=[], excluded_llm_metadata_keys=[], relationships={}, metadata_template='{key}: {value}', metadata_separator='\\n', text_resource=MediaResource(embeddings=None, data=None, text=\"29/09/2023, 10:17\\nThe World's Billionaires - Wikipedia\\nhttps://en.wikipedia.org/wiki/The_World%27s_Billionaires\\n24/32\\nNo.[59]\\nName\\nNet worth (USD)\\nNationality\\n10 \\nEitaro Itoyama\\n$6.6\\xa0billion \\n\\xa0Japan\\nNo.[60]\\nName\\nNet worth (USD)\\nNationality\\n1\\nYoshiaki Tsutsumi\\n$18.9\\xa0billion\\n\\xa0Japan\\n2\\nTaikichiro Mori\\n$18.0\\xa0billion\\n\\xa0Japan\\n3\\nReichmann brothers\\n$9.0\\xa0billion\\n\\xa0Canada\\n4\\nShin Kyuk-ho\\n$8.0\\xa0billion\\xa0\\n\\xa0South Korea\\n4\\nK. C. Irving\\n$8.0\\xa0billion\\xa0\\n\\xa0Canada\\n6\\nHaruhiko Yoshimoto\\n$7.8\\xa0billion\\n\\xa0Japan\\n7\\nSam Walton\\n$6.5\\xa0billion\\n\\xa0United States\\n8\\nTsai Wan-lin\\n$5.6\\xa0billion\\n\\xa0Taiwan\\n9\\nEitaro Itoyama\\n$5.0\\xa0billion+\\n\\xa0Japan\\n10\\nKitaro Watanabe\\n$5.2\\xa0billion\\n\\xa0Japan\\nNo.[61]\\nName\\nNet worth (USD)\\nNationality\\n1\\nYoshiaki Tsutsumi\\n$20\\xa0billion\\n\\xa0Japan\\n2\\nTaikichiro Mori\\n$15\\xa0billion\\n\\xa0Japan\\n3\\nShigeru Kobayashi\\n$7.5\\xa0billion\\n\\xa0Japan\\n4\\nHaruhiko Yoshimoto\\n$7.0\\xa0billion\\n\\xa0Japan\\n5\\nSalim Ahmed Bin Mahfouz\\n$6.2\\xa0billion\\n\\xa0Saudi Arabia\\n6\\nHans and Gad Rausing\\n$6.0\\xa0billion\\n\\xa0Sweden\\n7\\nPaul Reichmann\\n$6.0\\xa0billion\\n\\xa0Canada\\n8\\nYohachiro Iwasaki\\n$5.6\\xa0billion\\n\\xa0Japan\\n9\\nKenneth Thomson\\n$5.4\\xa0billion\\xa0\\n\\xa0Canada\\n10\\nKeizo Saji\\n$4.0\\xa0billion\\n\\xa0Japan\\nThe dot-com bubble created the most paper wealth for some billionaires. However, once the\\ndotcom bubble burst the new rich saw their fortunes disappear.[62] Billionaires' fortunes were hit\\neven harder by the global financial crisis; 2009 was the first time in five years that the world had a\\nnet loss in the number of billionaires.[63] The strong performance of the financial markets and\\nglobal economic recovery have erased financial assets losses. Most of the richest people in the\\nworld saw their fortunes soar in the early 2010s.[64][65]\\n1988\\n1987\\nStatistics\\n\", path=None, url=None, mimetype=None), image_resource=None, audio_resource=None, video_resource=None, text_template='{metadata_str}\\n\\n{content}'),\n",
       " Document(id_='2c2fa55b-ec4e-4ec6-83e7-e89a28e617ec', embedding=None, metadata={'total_pages': 32, 'file_path': './billionaires_page.pdf', 'source': '25'}, excluded_embed_metadata_keys=[], excluded_llm_metadata_keys=[], relationships={}, metadata_template='{key}: {value}', metadata_separator='\\n', text_resource=MediaResource(embeddings=None, data=None, text=\"29/09/2023, 10:17\\nThe World's Billionaires - Wikipedia\\nhttps://en.wikipedia.org/wiki/The_World%27s_Billionaires\\n25/32\\nNumber and combined net worth of billionaires by year[66]\\nYear\\nNumber of billionaires\\nGroup's combined net worth\\n2023[2]\\n2,640\\n$12.2 trillion\\n2022[6]\\n2,668\\n$12.7 trillion\\n2021[11]\\n2,755\\n$13.1 trillion\\n2020\\n2,095\\n$8.0 trillion\\n2019\\n2,153\\n$8.7 trillion\\n2018\\n2,208\\n$9.1 trillion\\n2017\\n2,043\\n$7.7 trillion\\n2016\\n1,810\\n$6.5 trillion\\n2015[18]\\n1,826\\n$7.1 trillion\\n2014[67]\\n1,645\\n$6.4 trillion\\n2013[68]\\n1,426\\n$5.4 trillion\\n2012\\n1,226\\n$4.6 trillion\\n2011\\n1,210\\n$4.5 trillion\\n2010\\n1,011\\n$3.6 trillion\\n2009\\n793\\n$2.4 trillion\\n2008\\n1,125\\n$4.4 trillion\\n2007\\n946\\n$3.5 trillion\\n2006\\n793\\n$2.6 trillion\\n2005\\n691\\n$2.2 trillion\\n2004\\n587\\n$1.9 trillion\\n2003\\n476\\n$1.4 trillion\\n2002\\n497\\n$1.5 trillion\\n2001\\n538\\n$1.8 trillion\\n2000\\n470\\n$898 billion\\nSources: Forbes.[18][67][66][68]\\nBiography portal\\nEconomics portal\\nWorld portal\\nBloomberg Billionaires Index\\nList of centibillionaires\\nList of cities by number of billionaires\\nList of countries by number of billionaires\\nList of wealthiest animals\\nList of wealthiest families\\nSee also\\n\", path=None, url=None, mimetype=None), image_resource=None, audio_resource=None, video_resource=None, text_template='{metadata_str}\\n\\n{content}'),\n",
       " Document(id_='d314bf85-9c41-4f33-9387-d522fc3d465e', embedding=None, metadata={'total_pages': 32, 'file_path': './billionaires_page.pdf', 'source': '26'}, excluded_embed_metadata_keys=[], excluded_llm_metadata_keys=[], relationships={}, metadata_template='{key}: {value}', metadata_separator='\\n', text_resource=MediaResource(embeddings=None, data=None, text='29/09/2023, 10:17\\nThe World\\'s Billionaires - Wikipedia\\nhttps://en.wikipedia.org/wiki/The_World%27s_Billionaires\\n26/32\\nList of wealthiest religious organizations\\n1. Kollmeyer, Barbara (4 March 2014). \"Bill Gates back on top, WhatsApp founders and more\\nwomen in Forbes\\' billionaire rankings\" (https://web.archive.org/web/20170831173331/http://blo\\ngs.marketwatch.com/thetell/2014/03/04/bill-gates-back-on-top-whatsapp-founders-and-more-w\\nomen-in-forbes-billionaire-rankings/). Market Watch, The Wall Street Journal. Archived from\\nthe original (http://blogs.marketwatch.com/thetell/2014/03/04/bill-gates-back-on-top-whatsapp-f\\nounders-and-more-women-in-forbes-billionaire-rankings/) on 31 August 2017. Retrieved\\n5 March 2014.\\n2. Peterson-Withorn, Chase (4 April 2023). \"Forbes\\' 37th Annual World\\'s Billionaires List: Facts\\nAnd Figures 2023\" (https://www.forbes.com/sites/chasewithorn/2023/04/04/forbes-37th-annual\\n-worlds-billionaires-list-facts-and-figures-2023/). Forbes. Archived (https://web.archive.org/web/\\n20220408082704/https://www.forbes.com/sites/chasewithorn/2023/04/04/forbes-37th-annual-w\\norlds-billionaires-list-facts-and-figures-2023/) from the original on 8 April 2022. Retrieved\\n5 April 2023.\\n3. Gore, Leada (4 March 2014). \"Youngest, oldest and one who can body slam you: More on\\nForbes list of the ultra-rich\" (http://www.al.com/business/index.ssf/2014/03/youngest_oldest_an\\nd_one_who_ca.html). AL.com. Alabama Media Group. Archived (https://web.archive.org/web/2\\n0180628233402/https://www.al.com/business/index.ssf/2014/03/youngest_oldest_and_one_w\\nho_ca.html) from the original on 28 June 2018. Retrieved 5 March 2014.\\n4. \"Why Putin Isn\\'t on \\'Forbes\\' Billionaires List\" (http://www.newsweek.com/why-putin-isnt-forbes-\\nbillionaires-list-310818). Forbes. 2 March 2015. Archived (https://web.archive.org/web/201710\\n20091119/http://www.newsweek.com/why-putin-isnt-forbes-billionaires-list-310818) from the\\noriginal on 20 October 2017. Retrieved 17 November 2017.\\n5. Kroll, Luisa. \"Forbes 2017 billionaires list: Meet the richest people on the planet\" (https://www.\\nmsn.com/en-us/money/savingandinvesting/forbes-2017-billionaires-list-meet-the-richest-peopl\\ne-on-the-planet/ar-BByqKfX). Forbes. Archived (https://web.archive.org/web/20170321160341/\\nhttp://www.msn.com/en-us/money/savingandinvesting/forbes-2017-billionaires-list-meet-the-ric\\nhest-people-on-the-planet/ar-BByqKfX) from the original on 21 March 2017. Retrieved\\n21 March 2017.\\n6. Peterson-Withorn, Chase (5 April 2022). \"Forbes\\' 36th Annual World\\'s Billionaires List: Facts\\nAnd Figures 2022\" (https://www.forbes.com/sites/chasewithorn/2022/04/05/forbes-36th-annual\\n-worlds-billionaires-list-facts-and-figures-2022/). Forbes. Archived (https://web.archive.org/web/\\n20220408082704/https://www.forbes.com/sites/chasewithorn/2022/04/05/forbes-36th-annual-w\\norlds-billionaires-list-facts-and-figures-2022/) from the original on 8 April 2022. Retrieved\\n8 April 2022.\\n7. Dolan, Kerry A. (7 March 2012). \"Methodology: How We Crunch The Numbers\" (https://www.fo\\nrbes.com/sites/kerryadolan/2012/03/07/methodology-how-we-crunch-the-numbers/). Forbes.\\nArchived (https://web.archive.org/web/20130103091005/http://www.forbes.com/sites/kerryadol\\nan/2012/03/07/methodology-how-we-crunch-the-numbers/) from the original on 3 January\\n2013. Retrieved 4 January 2013.\\n8. Krastev, Nikola (11 March 2010). \"Forbes\\' Rich List: Number Of New Billionaires Reflects\\nGlobal Recovery\" (http://www.rferl.org/content/Forbes_Rich_List_Number_Of_New_Billionaire\\ns_Reflects_Global_Recovery/1980413.html). Radio Free Europe Radio Liberty. Archived (http\\ns://web.archive.org/web/20140326024704/http://www.rferl.org/content/Forbes_Rich_List_Num\\nber_Of_New_Billionaires_Reflects_Global_Recovery/1980413.html) from the original on 26\\nMarch 2014. Retrieved 25 March 2014.\\nReferences\\nSpecific\\n', path=None, url=None, mimetype=None), image_resource=None, audio_resource=None, video_resource=None, text_template='{metadata_str}\\n\\n{content}'),\n",
       " Document(id_='d6720e8f-c737-4576-91a1-172ee7f627fc', embedding=None, metadata={'total_pages': 32, 'file_path': './billionaires_page.pdf', 'source': '27'}, excluded_embed_metadata_keys=[], excluded_llm_metadata_keys=[], relationships={}, metadata_template='{key}: {value}', metadata_separator='\\n', text_resource=MediaResource(embeddings=None, data=None, text='29/09/2023, 10:17\\nThe World\\'s Billionaires - Wikipedia\\nhttps://en.wikipedia.org/wiki/The_World%27s_Billionaires\\n27/32\\n9. Fortunes Of Kings, Queens And Dictators (https://www.forbes.com/2006/05/04/rich-kings-dictat\\nors_cz_lk_0504royals.html) Archived (https://web.archive.org/web/20110219084918/http://ww\\nw.forbes.com/2006/05/04/rich-kings-dictators_cz_lk_0504royals.html) 19 February 2011 at the\\nWayback Machine Forbes, 5 May 2006\\n10. Liu, Phoebe (4 April 2023). \"The World\\'s Youngest Billionaires 2023\" (https://www.forbes.com/s\\nites/phoebeliu/2023/04/04/the-worlds-youngest-billionaires-2023/?sh=2dd4fdce7575). Forbes.\\nRetrieved 6 April 2023.\\n11. Dolan, Kerry A. (6 April 2021). \"Forbes World\\'s Billionaires List - The Richest in 2021\" (https://w\\nww.forbes.com/billionaires/). www.forbes.com. Archived (https://web.archive.org/web/2022021\\n7164331/https://www.forbes.com/billionaires/) from the original on 17 February 2022.\\nRetrieved 18 February 2022.\\n12. Dolan, Kerry A. \"Forbes\\' 35th Annual World\\'s Billionaires List: Facts And Figures 2021\" (https://\\nwww.forbes.com/sites/kerryadolan/2021/04/06/forbes-35th-annual-worlds-billionaires-list-facts-\\nand-figures-2021/). Forbes. Archived (https://web.archive.org/web/20210409230211/https://ww\\nw.forbes.com/sites/kerryadolan/2021/04/06/forbes-35th-annual-worlds-billionaires-list-facts-an\\nd-figures-2021/) from the original on 9 April 2021. Retrieved 10 April 2021.\\n13. Dolan, Kerry A. (2020). \"Forbes Billionaires 2020\" (https://www.forbes.com/billionaires/).\\nForbes. Archived (https://web.archive.org/web/20190104180124/https://www.forbes.com/billion\\naires/list/3/) from the original on 4 January 2019. Retrieved 7 April 2020.\\n14. \"Billionaires 2019\" (https://web.archive.org/web/20190701053757/https://www.forbes.com/billio\\nnaires/). Forbes. 5 March 2019. Archived from the original (https://www.forbes.com/billionaires/\\n#698401a8251c) on 1 July 2019. Retrieved 13 March 2019.\\n15. Kroll, Luisa (6 March 2018). \"Forbes Billionaires 2018: Meet The Richest People On The\\nPlanet\" (https://www.forbes.com/sites/luisakroll/2018/03/06/forbes-billionaires-2018-meet-the-ri\\nchest-people-on-the-planet/). Forbes. Archived (https://web.archive.org/web/20180308165924/\\nhttps://www.forbes.com/sites/luisakroll/2018/03/06/forbes-billionaires-2018-meet-the-richest-pe\\nople-on-the-planet/) from the original on 8 March 2018. Retrieved 6 March 2018.\\n16. Dolan, Kerry A. \"Why No Saudi Arabians Made The Forbes Billionaires List This Year\" (https://\\nwww.forbes.com/sites/kerryadolan/2018/03/06/no-saudi-arabian-billionaires-forbes-list-2018-al\\nwaleed-alamoudi/). Forbes. Archived (https://web.archive.org/web/20180306150806/https://ww\\nw.forbes.com/sites/kerryadolan/2018/03/06/no-saudi-arabian-billionaires-forbes-list-2018-alwal\\need-alamoudi/) from the original on 6 March 2018. Retrieved 21 October 2019.\\n17. \"The World\\'s Billionaires List\" (https://www.forbes.com/billionaires/list/#version:static_tab:wome\\nn). Forbes. 23 March 2017. Archived (https://web.archive.org/web/20190304152923/https://ww\\nw.forbes.com/billionaires/list/#version:static_tab:women) from the original on 4 March 2019.\\nRetrieved 21 March 2017.\\n18. Dolan, Kerry A.; Kroll, Luisa (2 March 2015). \"Inside The 2015 Forbes Billionaires List: Facts\\nAnd Figures\" (https://www.forbes.com/sites/kerryadolan/2015/03/02/inside-the-2015-forbes-billi\\nonaires-list-facts-and-figures/). Forbes. Archived (https://web.archive.org/web/2018062820530\\n5/https://www.forbes.com/sites/kerryadolan/2015/03/02/inside-the-2015-forbes-billionaires-list-f\\nacts-and-figures/) from the original on 28 June 2018. Retrieved 31 May 2015.\\n19. \"#1 Bill Gates\" (https://web.archive.org/web/20150304235759/http://www.forbes.com/profile/bill\\n-gates/?list=billionaires). Forbes. Archived from the original (https://www.forbes.com/profile/bill-\\ngates/?list=billionaires) on 4 March 2015. Retrieved 2 January 2016.\\n20. \"Amancio Ortega\" (https://www.forbes.com/profile/amancio-ortega/?list=billionaires). Forbes.\\n27 January 2016. Archived (https://web.archive.org/web/20190903053752/https://www.forbes.c\\nom/profile/amancio-ortega/?list=billionaires) from the original on 3 September 2019. Retrieved\\n27 January 2016.\\n21. \"The World\\'s Billionaires\\xa0: Warren Buffett\" (https://www.forbes.com/profile/warren-buffett/).\\nForbes. Archived (https://web.archive.org/web/20200815130703/https://www.forbes.com/profil\\ne/warren-buffett/) from the original on 15 August 2020. Retrieved 3 November 2015.\\n', path=None, url=None, mimetype=None), image_resource=None, audio_resource=None, video_resource=None, text_template='{metadata_str}\\n\\n{content}'),\n",
       " Document(id_='30453b1a-0a89-4fef-b59a-803ddf4202ba', embedding=None, metadata={'total_pages': 32, 'file_path': './billionaires_page.pdf', 'source': '28'}, excluded_embed_metadata_keys=[], excluded_llm_metadata_keys=[], relationships={}, metadata_template='{key}: {value}', metadata_separator='\\n', text_resource=MediaResource(embeddings=None, data=None, text='29/09/2023, 10:17\\nThe World\\'s Billionaires - Wikipedia\\nhttps://en.wikipedia.org/wiki/The_World%27s_Billionaires\\n28/32\\n22. \"Jeff Bezos\" (https://www.forbes.com/profile/jeff-bezos/). Forbes. Archived (https://archive.toda\\ny/20210130021706/https://www.forbes.com/profile/jeff-bezos/?sh=3c149a3a1b23) from the\\noriginal on 30 January 2021. Retrieved 27 October 2015.\\n23. \"The World\\'s Billionaires - Mark Zuckerberg\" (https://www.forbes.com/profile/mark-zuckerber\\ng/?list=billionaires). Forbes. 1 March 2016. Archived (https://web.archive.org/web/2019032012\\n2956/https://www.forbes.com/profile/mark-zuckerberg/?list=billionaires) from the original on 20\\nMarch 2019. Retrieved 21 March 2016.\\n24. \"The World\\'s Billionaires - Michael Bloomberg\" (https://www.forbes.com/profile/michael-bloomb\\nerg/?list=billionaires). Forbes. 1 March 2016. Archived (https://web.archive.org/web/201710110\\n33351/https://www.forbes.com/profile/michael-bloomberg/?list=billionaires) from the original on\\n11 October 2017. Retrieved 21 March 2016.\\n25. Alexander, Dan (2 March 2015). \"Record 290 Newcomers Join Forbes Billionaires List,\\nIncluding Michael Jordan\" (https://www.forbes.com/sites/danalexander/2015/03/02/record-290-\\nnewcomers-join-forbes-billionaires-list-including-michael-jordan). Forbes. Archived (https://we\\nb.archive.org/web/20170921085316/https://www.forbes.com/sites/danalexander/2015/03/02/re\\ncord-290-newcomers-join-forbes-billionaires-list-including-michael-jordan/) from the original on\\n21 September 2017. Retrieved 16 September 2017.\\n26. Dolan, Kerry A. \"The World\\'s Billionaires\" (https://www.forbes.com/sites/kerryadolan/2015/03/0\\n2/inside-the-2015-forbes-billionaires-list-facts-and-figures). Forbes. Archived (https://web.archi\\nve.org/web/20150303053520/http://www.forbes.com/sites/kerryadolan/2015/03/02/inside-the-2\\n015-forbes-billionaires-list-facts-and-figures/) from the original on 3 March 2015. Retrieved\\n2 March 2015.\\n27. \"The World\\'s Billionaires\" (https://www.forbes.com/billionaires/list/#version:static). Forbes. 3\\nMarch 2015. Archived (https://web.archive.org/web/20190304152923/https://www.forbes.com/\\nbillionaires/list/#version:static) from the original on 4 March 2019. Retrieved 2 March 2015.\\n28. \"Mario Lopez Estrada\" (https://www.forbes.com/profile/mario-lopez-estrada/). Forbes: The\\nWorld\\'s Billionaires. Archived (https://web.archive.org/web/20150829055113/http://www.forbes.\\ncom/profile/mario-lopez-estrada/) from the original on 29 August 2015. Retrieved 19 August\\n2015.\\n29. Dolan, Kerry A.; Kroll, Luisa (3 March 2014). \"Inside The 2014 Forbes Billionaires List: Facts\\nAnd Figures\" (https://www.forbes.com/sites/luisakroll/2014/03/03/inside-the-2014-forbes-billion\\naires-list-facts-and-figures/). Forbes. Archived (https://web.archive.org/web/20140602005842/h\\nttp://www.forbes.com/sites/luisakroll/2014/03/03/inside-the-2014-forbes-billionaires-list-facts-an\\nd-figures/) from the original on 2 June 2014. Retrieved 2 June 2014.\\n30. Barber, Elizabeth (4 March 2014). \"Forbes\\' richest people: number of billionaires up\\nsignificantly\" (http://www.csmonitor.com/USA/USA-Update/2014/0303/Forbes-richest-people-n\\number-of-billionaires-up-significantly-video). Christian Science Monitor. Archived (https://web.a\\nrchive.org/web/20140304010932/http://www.csmonitor.com/USA/USA-Update/2014/0303/Forb\\nes-richest-people-number-of-billionaires-up-significantly-video) from the original on 4 March\\n2014. Retrieved 4 March 2014.\\n31. Hickman, Martin (4 March 2013). \"2013 Forbes Billionaires list: Record number of new entries\\nappear on rich list, but Carlos Slim and Bill Gates still top the charts\" (https://www.independent.\\nco.uk/news/business/news/2013-forbes-billionaires-list-record-number-of-new-entries-appear-o\\nn-rich-list-but-carlos-slim-and-bill-gates-still-top-the-charts-8519568.html). The Independent.\\nArchived (https://web.archive.org/web/20150925065726/http://www.independent.co.uk/news/b\\nusiness/news/2013-forbes-billionaires-list-record-number-of-new-entries-appear-on-rich-list-but\\n-carlos-slim-and-bill-gates-still-top-the-charts-8519568.html) from the original on 25 September\\n2015. Retrieved 5 March 2014.\\n32. Kollmeyer, Barbara (4 March 2013). \"Forbes billionaire list 2013: Mr. Slim wins it again\" (http\\ns://web.archive.org/web/20140306042959/http://blogs.marketwatch.com/thetell/2013/03/04/for\\nbes-billionaire-list-2013-mr-slim-wins-it-again/). Market Watch, Wall Street Journal. Archived\\nfrom the original (http://blogs.marketwatch.com/thetell/2013/03/04/forbes-billionaire-list-2013-m\\nr-slim-wins-it-again/) on 6 March 2014. Retrieved 5 March 2014.\\n', path=None, url=None, mimetype=None), image_resource=None, audio_resource=None, video_resource=None, text_template='{metadata_str}\\n\\n{content}'),\n",
       " Document(id_='edf56029-3153-4dc3-a242-ff57aeaabdd8', embedding=None, metadata={'total_pages': 32, 'file_path': './billionaires_page.pdf', 'source': '29'}, excluded_embed_metadata_keys=[], excluded_llm_metadata_keys=[], relationships={}, metadata_template='{key}: {value}', metadata_separator='\\n', text_resource=MediaResource(embeddings=None, data=None, text='29/09/2023, 10:17\\nThe World\\'s Billionaires - Wikipedia\\nhttps://en.wikipedia.org/wiki/The_World%27s_Billionaires\\n29/32\\n33. Reaney, Patricia (4 March 2013). \"Factbox: Record number of billionaires make Forbes 2013\\nlist\" (https://www.reuters.com/article/us-billionaires-list-factbox-idUSBRE9230EJ20130304).\\nReuters. Archived (https://web.archive.org/web/20160102223329/http://www.reuters.com/articl\\ne/us-billionaires-list-factbox-idUSBRE9230EJ20130304) from the original on 2 January 2016.\\nRetrieved 5 March 2014.\\n34. \"Forbes rich list 2012: Carlos Slim tops rich list for third year\" (https://www.telegraph.co.uk/fina\\nnce/9130301/Forbes-rich-list-2012-Carlos-Slim-tops-rich-list-for-third-year.html). The\\nTelegraph. 8 March 2012. Archived (https://ghostarchive.org/archive/20220110/https://www.tele\\ngraph.co.uk/finance/9130301/Forbes-rich-list-2012-Carlos-Slim-tops-rich-list-for-third-year.htm\\nl) from the original on 10 January 2022. Retrieved 8 March 2014.\\n35. \"Spanx creator Sara Blakely becomes youngest woman on Forbes Billionaires List\" (http://ww\\nw.foxnews.com/entertainment/2012/03/08/spanx-creator-sara-blakely-becomes-youngest-wom\\nan-on-forbes-billionaires-list/). Fox News Channel. 8 March 2012. Archived (https://web.archiv\\ne.org/web/20160305084814/http://www.foxnews.com/entertainment/2012/03/08/spanx-creator-\\nsara-blakely-becomes-youngest-woman-on-forbes-billionaires-list/) from the original on 5\\nMarch 2016. Retrieved 8 March 2014.\\n36. Kroll, Luisa (7 March 2014). \"Forbes World\\'s Billionaires 2012\" (https://www.forbes.com/sites/lu\\nisakroll/2012/03/07/forbes-worlds-billionaires-2012/). Forbes. Archived (https://web.archive.org/\\nweb/20120308052054/http://www.forbes.com/sites/luisakroll/2012/03/07/forbes-worlds-billionai\\nres-2012/) from the original on 8 March 2012. Retrieved 8 March 2014.\\n37. Georg Szalai (9 March 2011). \"Steven Spielberg, Oprah Winfrey Drop in Forbes Billionaire\\nRanking\" (https://www.hollywoodreporter.com/news/steven-spielberg-oprah-winfrey-drop-1661\\n28). The Hollywood Reporter. Archived (https://web.archive.org/web/20140520043115/http://w\\nww.hollywoodreporter.com/news/steven-spielberg-oprah-winfrey-drop-166128) from the\\noriginal on 20 May 2014. Retrieved 15 March 2014.\\n38. Herbert, Geoff (10 March 2011). \"Forbes\\' 2011 list of \\'World\\'s Billionaires\\' is biggest ever\" (htt\\np://www.syracuse.com/news/index.ssf/2011/03/forbes_2011_list_of_worlds_bil.html). Syracuse\\nPost-Standard. Archived (https://web.archive.org/web/20140315190048/http://www.syracuse.c\\nom/news/index.ssf/2011/03/forbes_2011_list_of_worlds_bil.html) from the original on 15 March\\n2014. Retrieved 15 March 2014.\\n39. Miller, Matthew; Kroll, Luisa (10 March 2010). \"Bill Gates No Longer World\\'s Richest Man\" (http\\ns://www.forbes.com/2010/03/09/worlds-richest-people-slim-gates-buffett-billionaires-2010-intro.\\nhtml). Forbes. Archived (https://web.archive.org/web/20110926014457/http://www.forbes.com/\\n2010/03/09/worlds-richest-people-slim-gates-buffett-billionaires-2010-intro.html) from the\\noriginal on 26 September 2011. Retrieved 25 March 2014.\\n40. \"China ranks No 2 on Forbes billionaires list\" (http://www.chinadaily.com.cn/business/2010-03/\\n11/content_9575101.htm). China Daily. 11 March 2010. Archived (https://web.archive.org/web/\\n20140318074632/http://www.chinadaily.com.cn/business/2010-03/11/content_9575101.htm)\\nfrom the original on 18 March 2014. Retrieved 17 March 2014.\\n41. \"The Giving Pledge List Reaches $365 Billion\" (http://www.insatiablefox.com/data-blog/the-givi\\nng-pledge-list). Insatiable Fox. Archived (https://web.archive.org/web/20180720155347/http://w\\nww.insatiablefox.com/data-blog/the-giving-pledge-list) from the original on 20 July 2018.\\nRetrieved 23 April 2016.\\n42. Confer Thomas Philippon. \"The future of the financial industry\" (https://pages.stern.nyu.edu/~st\\nernfin/crisis). Finance Department of the New York University Stern School of Business.\\nArchived (https://web.archive.org/web/20170302000900/http://pages.stern.nyu.edu/~sternfin/cr\\nisis/) from the original on 2 March 2017. Retrieved 5 April 2018.\\n43. The World\\'s Richest People (https://www.forbes.com/2007/03/06/billionaires-new-richest_07bill\\nionaires_cz_lk_af_0308billieintro.html#54034616b6fe) Archived (https://web.archive.org/web/2\\n0190105094304/https://www.forbes.com/2007/03/06/billionaires-new-richest_07billionaires_cz\\n_lk_af_0308billieintro.html#54034616b6fe) 5 January 2019 at the Wayback Machine Forbes, 8\\nMarch 2007\\n', path=None, url=None, mimetype=None), image_resource=None, audio_resource=None, video_resource=None, text_template='{metadata_str}\\n\\n{content}'),\n",
       " Document(id_='a3d5fdc5-60d1-48a9-9fa8-86efecb97f06', embedding=None, metadata={'total_pages': 32, 'file_path': './billionaires_page.pdf', 'source': '30'}, excluded_embed_metadata_keys=[], excluded_llm_metadata_keys=[], relationships={}, metadata_template='{key}: {value}', metadata_separator='\\n', text_resource=MediaResource(embeddings=None, data=None, text='29/09/2023, 10:17\\nThe World\\'s Billionaires - Wikipedia\\nhttps://en.wikipedia.org/wiki/The_World%27s_Billionaires\\n30/32\\n44. \"Greenspan Kennedy Report – Table 2 – Sources and Uses of Equity Extracted from Homes\"\\n(https://www.federalreserve.gov/pubs/feds/2007/200720/200720pap.pdf) (PDF). Archived (http\\ns://web.archive.org/web/20120711034417/http://www.federalreserve.gov/pubs/feds/2007/2007\\n20/200720pap.pdf) (PDF) from the original on 11 July 2012. Retrieved 1 May 2010.\\n45. \"The World\\'s Richest people\" (https://web.archive.org/web/20060428045945/https://www.forbe\\ns.com/billionaires/2005/03/10/cz_lk_lg_0310billintro_bill05.html/). Forbes. 10 March 2005.\\nArchived from the original (https://www.forbes.com/billionaires/2005/03/10/cz_lk_lg_0310billintr\\no_bill05.html/) on 28 April 2006. Retrieved 28 April 2006.\\n46. Miller, Matthew (6 May 2009). \"The Wealthiest Black Americans\" (https://web.archive.org/web/\\n20191215190412/https://www.forbes.com/2009/05/06/richest-African-americans-busienss-billio\\nnaires-richest-black-americans.html). Forbes Magazine. Archived from the original (https://ww\\nw.forbes.com/2009/05/06/richest-African-americans-busienss-billionaires-richest-black-america\\nns.html) on 15 December 2019. Retrieved 21 September 2013.\\n47. Dolan, Kerry A., ed. (5 July 1999). \"200 Global Billionaires\". Forbes. Vol.\\xa0164, no.\\xa01. pp.\\xa0153–\\n155. EBSCOhost\\xa01966292 (http://search.ebscohost.com/login.aspx?direct=true&AN=196629\\n2).\\n48. \"How Li Ka Shing became richest man in Hong Kong\" (https://www.businessinsider.com/heres-\\nhow-li-ka-shing-became-the-richest-man-in-hong-kong-2015-6?r=US&IR=T). Business Insider.\\n20 August 2019. Archived (https://web.archive.org/web/20211201150701/https://www.businessi\\nnsider.com/heres-how-li-ka-shing-became-the-richest-man-in-hong-kong-2015-6?r=US&IR=T)\\nfrom the original on 1 December 2021. Retrieved 1 December 2021.\\n49. Thomson.com. Management (http://www.thomson.com/common/view_biography.jsp?body_incl\\nude=/cms/management/biographies/corporate/thomson_kenneth.jsp&page_name=/cms/mana\\ngement/biographies/corporate/thomson_kenneth.jsp&management_path_list=/cms/manageme\\nnt/biographies/corporate/thomson_kenneth&page_mode=full&host=&section=corp&subsection\\n=about&secondary=management&tertiary=) Archived (https://web.archive.org/web/202204230\\n92021/https://www.thomsonreuters.com/en.html) 23 April 2022 at the Wayback Machine.\\nAccessed 23 March 2006.\\n50. New York Times: \"Jay Pritzker, Who Built Chain Of Hyatt Hotels, Is Dead at 76\" By ANTHONY\\nRAMIREZ (https://www.nytimes.com/1999/01/25/business/jay-pritzker-who-built-chain-of-hyatt-\\nhotels-is-dead-at-76.html?pagewanted=print&src=pm) Archived (https://web.archive.org/web/2\\n0211202030557/https://www.nytimes.com/1999/01/25/business/jay-pritzker-who-built-chain-of-\\nhyatt-hotels-is-dead-at-76.html?pagewanted=print&src=pm) 2 December 2021 at the Wayback\\nMachine 25 January 1999\\n51. Brenner, Joel Glenn (26 July 1992). \"Life on Mars: The Mars family saga has all the classic\\nelements\" (https://www.independent.co.uk/arts-entertainment/life-on-mars-the-mars-family-sag\\na-has-all-the-classic-elements-exacting-father-prodigal-son-who-fled-to-slough-thrusting-grand\\nchildren-and-the-reversal-of-traditional-values-one-of-the-worlds-richest-companies-the-bar-tha\\nt-made-them-famous-arrived-60-years-ago-this-week-1535722.html). The Independent.\\nArchived (https://web.archive.org/web/20100718170800/http://www.independent.co.uk/arts-ent\\nertainment/life-on-mars-the-mars-family-saga-has-all-the-classic-elements-exacting-father-pro\\ndigal-son-who-fled-to-slough-thrusting-grandchildren-and-the-reversal-of-traditional-values-one\\n-of-the-worlds-richest-companies-the-bar-that-made-them-famous-arrived-60-years-ago-this-w\\neek-1535722.html) from the original on 18 July 2010. Retrieved 25 February 2011.\\n52. \"Forbes Profile: Lee Shau Kee\" (https://www.forbes.com/profile/lee-shau-kee/?list=hong-kong-\\nbillionaires&sh=2786801d1083). Forbes. 11 June 2021. Archived (https://web.archive.org/web/\\n20211202031734/https://www.forbes.com/profile/lee-shau-kee/?list=hong-kong-billionaires&sh\\n=2786801d1083) from the original on 2 December 2021. Retrieved 2 December 2021.\\n53. Ramzy, Austin (22 October 2018). \"NY Times Article: Walter Kwok\" (https://www.nytimes.com/2\\n018/10/22/world/asia/walter-kwok-dead-hong-kong.html). The New York Times. Archived (http\\ns://web.archive.org/web/20220102041340/https://www.nytimes.com/2018/10/22/world/asia/wal\\nter-kwok-dead-hong-kong.html) from the original on 2 January 2022. Retrieved 2 January\\n2022.\\n', path=None, url=None, mimetype=None), image_resource=None, audio_resource=None, video_resource=None, text_template='{metadata_str}\\n\\n{content}'),\n",
       " Document(id_='7a3e151c-9962-47ca-b4df-209f0a74bdea', embedding=None, metadata={'total_pages': 32, 'file_path': './billionaires_page.pdf', 'source': '31'}, excluded_embed_metadata_keys=[], excluded_llm_metadata_keys=[], relationships={}, metadata_template='{key}: {value}', metadata_separator='\\n', text_resource=MediaResource(embeddings=None, data=None, text='29/09/2023, 10:17\\nThe World\\'s Billionaires - Wikipedia\\nhttps://en.wikipedia.org/wiki/The_World%27s_Billionaires\\n31/32\\n54. Kenneth N. Gilpin (22 September 1995). \"Walter A. Haas Jr., 79, Leader Of Family Behind Levi\\nStrauss\" (https://www.nytimes.com/1995/09/22/obituaries/walter-a-haas-jr-79-leader-of-family-\\nbehind-levi-strauss.html). The New York Times. p.\\xa0B7. Archived (https://web.archive.org/web/2\\n0211027054618/https://www.nytimes.com/1995/09/22/obituaries/walter-a-haas-jr-79-leader-of-f\\namily-behind-levi-strauss.html) from the original on 27 October 2021. Retrieved 2 January\\n2022.\\n55. \"Tsai Wan-lin\" (http://articles.chicagotribune.com/2004-10-02/news/0410020212_1_tsai-wan-lin\\n-taiwan-richest). Chicago Tribune. 29 September 2004. Retrieved 6 December 2014.\\n56. \"Switzerland\\'s Biggest Family Fortune Has Prospered for 124 Years\" (https://www.bloomberg.c\\nom/news/features/2020-08-06/switzerland-s-biggest-family-fortune-has-prospered-for-124-year\\ns). Bloomberg.com. 6 August 2020.\\n57. Tsutsumi was the richest man on earth during 1987-94, says Forbes (https://www.washingtonp\\nost.com/archive/business/1995/07/05/bill-gates-tops-forbess-list-of-worlds-richest/d6fa8522-2c\\ncb-4635-b722-0b0b6b31bbd3/)\\n58. \"The World\\'s Billionaires (2012): No. 10 Karl Albrecht\" (https://www.forbes.com/profile/karl-albr\\necht/). Forbes. 3 March 2010. Retrieved 20 February 2011.\\n59. \"Japanese businessman tops Forbes billionaires list again\" (https://www.newspapers.com/clip/\\n86455728/the-burlington-free-press/). Business Monday. The Burlington Free Press.\\nAssociated Press. 10 July 1989. p.\\xa012. Archived (https://web.archive.org/web/2021100601503\\n5/https://www.newspapers.com/clip/86455728/the-burlington-free-press/) from the original on 6\\nOctober 2021. Retrieved 6 October 2021 – via Newspapers.com.\\n60. \"Japanese rail executive tops billionaires list again\" (https://www.newspapers.com/clip/865734\\n92/the-baltimore-sun/). Business. The Sun. Associated Press. 8 July 1988. p.\\xa03E. Archived (htt\\nps://web.archive.org/web/20211006015035/https://www.newspapers.com/clip/86573492/the-ba\\nltimore-sun/) from the original on 6 October 2021. Retrieved 6 October 2021 – via\\nNewspapers.com.\\n61. Kilachand, Sean. \"Forbes History: The Original 1987 List Of International Billionaires\" (https://w\\nww.forbes.com/sites/seankilachand/2012/03/21/forbes-history-the-original-1987-list-of-internati\\nonal-billionaires/). Forbes. Archived (https://web.archive.org/web/20200227010730/https://ww\\nw.forbes.com/sites/seankilachand/2012/03/21/forbes-history-the-original-1987-list-of-internatio\\nnal-billionaires/) from the original on 27 February 2020. Retrieved 17 October 2021.\\n62. \"Special Report on The New Rich\" (http://www.economist.com/node/654053). The Economist.\\n14 June 2001. Archived (https://web.archive.org/web/20150226011652/http://www.economist.c\\nom/node/654053) from the original on 26 February 2015. Retrieved 21 March 2012.\\n63. \"Special Report on The Rich\" (http://www.economist.com/node/13356686). The Economist. 4\\nApril 2009. Archived (https://web.archive.org/web/20110112194744/http://www.economist.com/\\nnode/13356686) from the original on 12 January 2011. Retrieved 19 March 2012.\\n64. \"Global Wealth Report 2011\" (https://web.archive.org/web/20150923212754/http://www.dasinv\\nestment.com/fileadmin/images/pictures/0907/BCG_2011_0106_Global_Wealth_Report_client_\\nversion_May2011.pdf) (PDF). The Boston Consulting Group. 31 May 2011. Archived from the\\noriginal (http://www.dasinvestment.com/fileadmin/images/pictures/0907/BCG_2011_0106_Glo\\nbal_Wealth_Report_client_version_May2011.pdf) (PDF) on 23 September 2015.\\n65. \"World Wealth Report 2011\" (https://web.archive.org/web/20111103030847/http://ml.com/medi\\na/114235.pdf) (PDF). Capgemini and Merrill Lynch. 22 June 2011. Archived from the original (h\\nttp://www.ml.com/media/114235.pdf) (PDF) on 3 November 2011.\\n66. \"Billionaires 25th Anniversary Timeline – Forbes\" (https://www.forbes.com/special-report/2012/\\nbillionaires-25th-anniversary-timeline.html). Forbes. Archived (https://web.archive.org/web/201\\n40131061616/http://www.forbes.com/special-report/2012/billionaires-25th-anniversary-timeline.\\nhtml) from the original on 31 January 2014. Retrieved 31 May 2015.\\n', path=None, url=None, mimetype=None), image_resource=None, audio_resource=None, video_resource=None, text_template='{metadata_str}\\n\\n{content}'),\n",
       " Document(id_='7f4a0b7d-ec01-491e-b020-457d1d0426cb', embedding=None, metadata={'total_pages': 32, 'file_path': './billionaires_page.pdf', 'source': '32'}, excluded_embed_metadata_keys=[], excluded_llm_metadata_keys=[], relationships={}, metadata_template='{key}: {value}', metadata_separator='\\n', text_resource=MediaResource(embeddings=None, data=None, text='29/09/2023, 10:17\\nThe World\\'s Billionaires - Wikipedia\\nhttps://en.wikipedia.org/wiki/The_World%27s_Billionaires\\n32/32\\n67. Dolan, Kerry A.; Kroll, Luisa (3 March 2014). \"Inside The 2014 Forbes Billionaires List: Facts\\nAnd Figures\" (https://www.forbes.com/sites/luisakroll/2014/03/03/inside-the-2014-forbes-billion\\naires-list-facts-and-figures/). Forbes. Archived (https://web.archive.org/web/20150524020855/h\\nttp://www.forbes.com/sites/luisakroll/2014/03/03/inside-the-2014-forbes-billionaires-list-facts-an\\nd-figures/) from the original on 24 May 2015. Retrieved 31 May 2015.\\n68. Kroll, Luisa (4 March 2013). \"Inside The 2013 Billionaires List: Facts and Figures\" (https://www.\\nforbes.com/sites/luisakroll/2013/03/04/inside-the-2013-billionaires-list-facts-and-figures/).\\nForbes. Archived (https://web.archive.org/web/20180713175059/https://www.forbes.com/sites/l\\nuisakroll/2013/03/04/inside-the-2013-billionaires-list-facts-and-figures/) from the original on 13\\nJuly 2018. Retrieved 31 May 2015.\\n2000–2010 Top 10s: Rogers, Simon (11 March 2010). \"Forbes rich list: ten years of top tens\"\\n(https://www.theguardian.com/news/datablog/2010/mar/11/forbes-rich-list-top-ten-carlos-slim).\\nThe Guardian.\\n2011 Top 10: \"The World\\'s Billionaires 2011\" (https://www.forbes.com/lists/2011/10/billionaires_\\n2011.html). Forbes.\\n2012 Top 10: \"Forbes rich list 2012: top 50\" (https://www.telegraph.co.uk/finance/9130322/Forb\\nes-rich-list-2012-top-50.html). The Telegraph. 8 March 2012. Archived (https://ghostarchive.or\\ng/archive/20220110/https://www.telegraph.co.uk/finance/9130322/Forbes-rich-list-2012-top-50.\\nhtml) from the original on 10 January 2022.\\n2013 Top 10: Durgy, Edwin (4 March 2013). \"The World\\'s Richest Billionaires: Full List Of The\\nTop 500\" (https://www.forbes.com/sites/edwindurgy/2013/03/04/the-worlds-richest-billionaires-f\\null-list-of-the-top-500/). Forbes.\\n2014 Top 10: \"Forbes Releases 28th Annual World\\'s Billionaires Issue\" (https://www.forbes.co\\nm/sites/forbespr/2014/03/03/forbes-releases-28th-annual-worlds-billionaires-issue/). Forbes. 3\\nMarch 2014. Retrieved 3 March 2014.\\n2015 Top 10: \"Forbes\\' 29th Annual World\\'s Billionaires Issue\" (https://www.forbes.com/sites/for\\nbespr/2015/03/02/forbes-29th-annual-worlds-billionaires-issue/). Forbes. 2 March 2015.\\nRetrieved 12 March 2015.\\nForbes: \"The World\\'s Billionaires\" (https://www.forbes.com/billionaires/)\\nForbes: Real-Time Billionaires (https://www.forbes.com/real-time-billionaires/)\\nRetrieved from \"https://en.wikipedia.org/w/index.php?title=The_World%27s_Billionaires&oldid=1174714377\"\\nGeneral\\nExternal links\\n', path=None, url=None, mimetype=None), image_resource=None, audio_resource=None, video_resource=None, text_template='{metadata_str}\\n\\n{content}')]"
      ]
     },
     "execution_count": 44,
     "metadata": {},
     "output_type": "execute_result"
    }
   ],
   "source": [
    "# 도큐먼트 정보 확인\n",
    "docs"
   ]
  },
  {
   "cell_type": "code",
   "execution_count": 45,
   "metadata": {
    "executionInfo": {
     "elapsed": 357,
     "status": "ok",
     "timestamp": 1728723029010,
     "user": {
      "displayName": "한두솔",
      "userId": "14744311692633150263"
     },
     "user_tz": -540
    },
    "id": "Mmu4gEzsv2-E"
   },
   "outputs": [],
   "source": [
    "from llama_index.core import Settings\n",
    "#노드변환 및 파싱\n",
    "doc_nodes =Settings.node_parser.get_nodes_from_documents(docs)"
   ]
  },
  {
   "cell_type": "code",
   "execution_count": 46,
   "metadata": {
    "executionInfo": {
     "elapsed": 1173,
     "status": "ok",
     "timestamp": 1728723055831,
     "user": {
      "displayName": "한두솔",
      "userId": "14744311692633150263"
     },
     "user_tz": -540
    },
    "id": "vhjFY59tv2wG"
   },
   "outputs": [
    {
     "name": "stdout",
     "output_type": "stream",
     "text": [
      "INFO:httpx:HTTP Request: POST https://api.openai.com/v1/embeddings \"HTTP/1.1 200 OK\"\n",
      "HTTP Request: POST https://api.openai.com/v1/embeddings \"HTTP/1.1 200 OK\"\n"
     ]
    }
   ],
   "source": [
    "# 비교를 위한 Naive-RAG 구성\n",
    "vector_index0 =VectorStoreIndex(doc_nodes)\n",
    "vector_query_engine0 = vector_index0.as_query_engine()"
   ]
  },
  {
   "cell_type": "code",
   "execution_count": 47,
   "metadata": {
    "executionInfo": {
     "elapsed": 1549,
     "status": "ok",
     "timestamp": 1728723071146,
     "user": {
      "displayName": "한두솔",
      "userId": "14744311692633150263"
     },
     "user_tz": -540
    },
    "id": "4a9gx3kKv2m7"
   },
   "outputs": [
    {
     "name": "stdout",
     "output_type": "stream",
     "text": [
      "INFO:httpx:HTTP Request: POST https://api.openai.com/v1/embeddings \"HTTP/1.1 200 OK\"\n",
      "HTTP Request: POST https://api.openai.com/v1/embeddings \"HTTP/1.1 200 OK\"\n",
      "INFO:httpx:HTTP Request: POST https://api.openai.com/v1/chat/completions \"HTTP/1.1 200 OK\"\n",
      "HTTP Request: POST https://api.openai.com/v1/chat/completions \"HTTP/1.1 200 OK\"\n"
     ]
    }
   ],
   "source": [
    "\n",
    "response = vector_query_engine0.query(\n",
    "    \"How many billionaires were there in 2009\"\n",
    ")"
   ]
  },
  {
   "cell_type": "code",
   "execution_count": 48,
   "metadata": {
    "colab": {
     "base_uri": "https://localhost:8080/"
    },
    "executionInfo": {
     "elapsed": 345,
     "status": "ok",
     "timestamp": 1728723078948,
     "user": {
      "displayName": "한두솔",
      "userId": "14744311692633150263"
     },
     "user_tz": -540
    },
    "id": "lQL2n1DQwihe",
    "outputId": "e26a7b44-8215-47df-b831-98f281c3d344"
   },
   "outputs": [
    {
     "name": "stdout",
     "output_type": "stream",
     "text": [
      "29/09/2023, 10:17\n",
      "The World's Billionaires - Wikipedia\n",
      "https://en.wikipedia.org/wiki/The_World%27s_Billionaires\n",
      "12/32\n",
      "No.\n",
      "Name\n",
      "Net worth\n",
      "(USD)\n",
      "Age\n",
      "Nationality\n",
      "Source(s) of wealth\n",
      "1 \n",
      "Carlos Slim\n",
      "$74.0 billion \n",
      "71\n",
      " Mexico\n",
      "América Móvil, Grupo Carso\n",
      "2 \n",
      "Bill Gates\n",
      "$56.0 billion \n",
      "55\n",
      " United\n",
      "States\n",
      "Microsoft\n",
      "3 \n",
      "Warren Buffett\n",
      "$50.0 billion \n",
      "80\n",
      " United\n",
      "States\n",
      "Berkshire Hathaway\n",
      "4 \n",
      "Bernard Arnault\n",
      "$41.0 billion \n",
      "62\n",
      " France\n",
      "LVMH Moët Hennessy • Louis\n",
      "Vuitton\n",
      "5 \n",
      "Larry Ellison\n",
      "$39.5 billion \n",
      "66\n",
      " United\n",
      "States\n",
      "Oracle Corporation\n",
      "6 \n",
      "Lakshmi Mittal\n",
      "$31.1 billion \n",
      "60\n",
      " India\n",
      "Arcelor Mittal\n",
      "7 \n",
      "Amancio Ortega\n",
      "$31.0 billion \n",
      "74\n",
      " Spain\n",
      "Inditex Group\n",
      "8 \n",
      "Eike Batista\n",
      "$30.0 billion \n",
      "53\n",
      " Brazil\n",
      "EBX Group\n",
      "9 \n",
      "Mukesh Ambani\n",
      "$27.0 billion \n",
      "54\n",
      " India\n",
      "Reliance Industries\n",
      "10 \n",
      "Christy Walton &\n",
      "family\n",
      "$26.5 billion \n",
      "62\n",
      " United\n",
      "States\n",
      "Walmart\n",
      "Slim narrowly eclipsed Gates to top the billionaire list for the first time. Slim saw his estimated\n",
      "worth surge $18.5 billion to $53.5 billion as shares of America Movil rose 35 percent. Gates'\n",
      "estimated wealth rose $13 billion to $53 billion, placing him second. Warren Buffett was third with\n",
      "$47 billion.[39] Christy Walton was the highest-ranking woman, placing 12th overall, with an\n",
      "inherited fortune of $22.5 billion.[40] At age 25, Mark Zuckerberg continued to be the world's\n",
      "youngest self-made billionaire.[8] American Isaac Perlmutter was among the newcomers with an\n",
      "estimated fortune of $4 billion largely acquired in his sale of Marvel Entertainment to Disney.[39]\n",
      "A total of 1,011 people made the 2010 list. The United States accounted for 403 billionaires,\n",
      "followed by China with 89 and Russia with 62.[40] It was the first time China, while including\n",
      "Hong Kong, placed second.[39] A total of 55 countries were represented on the 2010 list, including\n",
      "Finland and Pakistan which claimed their first billionaires.[40] Eighty-nine women made the list,\n",
      "but only 14 of them were self-made.[40] The combined net worth of the list was $3.6 trillion, up 50\n",
      "percent from 2009's $2.4 trillion, while the average net worth was $3.5 billion.[8]\n",
      "The 2010 list featured 164 re-entries and 97 true newcomers.[8] Asia accounted for more than 100\n",
      "of the new entrants. Overall, just 12 percent of the list lost wealth since 2009, and 30 people fell off\n",
      "the list. 13 others died.[39] Of the 89 women, 12 were newcomers in 2010. Steve Forbes said the\n",
      "growing number of billionaires was a clear sign that the world's economy was recovering from\n",
      "2009's global financial crisis.[8]\n",
      "In June 2010, Gates and Buffett announced the Giving Pledge, a promise to give the majority of\n",
      "their wealth to philanthropic causes. As of 2017, the pledge had 158 signatories, but some of the\n",
      "signatories have since died. Most of the signers of the pledge are billionaires, and their pledges\n",
      "total over $365 billion.[41]\n",
      "2010\n"
     ]
    }
   ],
   "source": [
    "print(response.source_nodes[0].node.get_content())"
   ]
  },
  {
   "cell_type": "code",
   "execution_count": 49,
   "metadata": {
    "colab": {
     "base_uri": "https://localhost:8080/"
    },
    "executionInfo": {
     "elapsed": 318,
     "status": "ok",
     "timestamp": 1728723092481,
     "user": {
      "displayName": "한두솔",
      "userId": "14744311692633150263"
     },
     "user_tz": -540
    },
    "id": "-a7oeurlwyBI",
    "outputId": "a6622de6-127d-459a-8480-95a4bad2c664"
   },
   "outputs": [
    {
     "name": "stdout",
     "output_type": "stream",
     "text": [
      "In 2009, there were a total of 1,011 billionaires.\n"
     ]
    }
   ],
   "source": [
    "print(str(response))"
   ]
  },
  {
   "cell_type": "code",
   "execution_count": 50,
   "metadata": {
    "colab": {
     "base_uri": "https://localhost:8080/"
    },
    "executionInfo": {
     "elapsed": 1242,
     "status": "ok",
     "timestamp": 1728723133465,
     "user": {
      "displayName": "한두솔",
      "userId": "14744311692633150263"
     },
     "user_tz": -540
    },
    "id": "eu-457Wow5si",
    "outputId": "54497aae-4242-4570-b6bb-2560d6156dc7"
   },
   "outputs": [
    {
     "name": "stdout",
     "output_type": "stream",
     "text": [
      "INFO:httpx:HTTP Request: POST https://api.openai.com/v1/embeddings \"HTTP/1.1 200 OK\"\n",
      "HTTP Request: POST https://api.openai.com/v1/embeddings \"HTTP/1.1 200 OK\"\n",
      "INFO:httpx:HTTP Request: POST https://api.openai.com/v1/chat/completions \"HTTP/1.1 200 OK\"\n",
      "HTTP Request: POST https://api.openai.com/v1/chat/completions \"HTTP/1.1 200 OK\"\n",
      "The net worth of the second richest billionaire in 2023 is $98 billion.\n"
     ]
    }
   ],
   "source": [
    "response = vector_query_engine0.query(\n",
    "    \"What's the net worth of the second richest billionaire in 2023?\"\n",
    ")\n",
    "print(str(response))"
   ]
  },
  {
   "cell_type": "code",
   "execution_count": 51,
   "metadata": {
    "id": "nVr2YU4ZxJod"
   },
   "outputs": [
    {
     "name": "stdout",
     "output_type": "stream",
     "text": [
      "\n"
     ]
    }
   ],
   "source": [
    "print()"
   ]
  },
  {
   "cell_type": "markdown",
   "metadata": {
    "id": "oIwAKSUyxUi9"
   },
   "source": [
    "- 기본적인 PDF파싱모듈로는 테이블 등 Text-Only 가 아닌 문서에 대한 정보 해석력이 떨어지는 것을 확인\n",
    "- Table정보를 따로 추출하여 답하는 방식은 어떨지?"
   ]
  },
  {
   "cell_type": "code",
   "execution_count": 52,
   "metadata": {
    "executionInfo": {
     "elapsed": 351,
     "status": "ok",
     "timestamp": 1728723253311,
     "user": {
      "displayName": "한두솔",
      "userId": "14744311692633150263"
     },
     "user_tz": -540
    },
    "id": "UZqmYOK34nzI"
   },
   "outputs": [],
   "source": [
    "# pdf의 테이블파싱하기 - camelot 활용\n",
    "def get_tables(path: str, pages: List[int]):\n",
    "    table_dfs = []\n",
    "    for page in pages:\n",
    "        table_list = camelot.read_pdf(path, pages=str(page))\n",
    "        for table in table_list:\n",
    "            table_df = table.df\n",
    "            table_df = (\n",
    "                table_df.rename(columns=table_df.iloc[0])\n",
    "                .drop(table_df.index[0])\n",
    "                .reset_index(drop=True)\n",
    "            )\n",
    "            table_dfs.append(table_df)\n",
    "    return table_dfs"
   ]
  },
  {
   "cell_type": "code",
   "execution_count": 53,
   "metadata": {
    "executionInfo": {
     "elapsed": 6443,
     "status": "ok",
     "timestamp": 1728723276443,
     "user": {
      "displayName": "한두솔",
      "userId": "14744311692633150263"
     },
     "user_tz": -540
    },
    "id": "AjNpfgAu4qe3"
   },
   "outputs": [
    {
     "name": "stdout",
     "output_type": "stream",
     "text": [
      "WARNING:pdfminer.pdfpage:CropBox missing from /Page, defaulting to MediaBox\n",
      "CropBox missing from /Page, defaulting to MediaBox\n",
      "WARNING:pdfminer.pdfpage:CropBox missing from /Page, defaulting to MediaBox\n",
      "CropBox missing from /Page, defaulting to MediaBox\n"
     ]
    },
    {
     "name": "stderr",
     "output_type": "stream",
     "text": [
      "2025-05-02T00:06:18 - INFO - Processing page-3\n"
     ]
    },
    {
     "name": "stdout",
     "output_type": "stream",
     "text": [
      "INFO:camelot:Processing page-3\n",
      "Processing page-3\n",
      "WARNING:pdfminer.pdfpage:CropBox missing from /Page, defaulting to MediaBox\n",
      "CropBox missing from /Page, defaulting to MediaBox\n",
      "WARNING:pdfminer.pdfpage:CropBox missing from /Page, defaulting to MediaBox\n",
      "CropBox missing from /Page, defaulting to MediaBox\n"
     ]
    },
    {
     "name": "stderr",
     "output_type": "stream",
     "text": [
      "2025-05-02T00:06:19 - INFO - Processing page-4\n"
     ]
    },
    {
     "name": "stdout",
     "output_type": "stream",
     "text": [
      "INFO:camelot:Processing page-4\n",
      "Processing page-4\n",
      "WARNING:pdfminer.pdfpage:CropBox missing from /Page, defaulting to MediaBox\n",
      "CropBox missing from /Page, defaulting to MediaBox\n",
      "WARNING:pdfminer.pdfpage:CropBox missing from /Page, defaulting to MediaBox\n",
      "CropBox missing from /Page, defaulting to MediaBox\n"
     ]
    },
    {
     "name": "stderr",
     "output_type": "stream",
     "text": [
      "2025-05-02T00:06:20 - INFO - Processing page-24\n"
     ]
    },
    {
     "name": "stdout",
     "output_type": "stream",
     "text": [
      "INFO:camelot:Processing page-24\n",
      "Processing page-24\n"
     ]
    }
   ],
   "source": [
    "table_dfs = get_tables(file_path, pages=[3,4,24])"
   ]
  },
  {
   "cell_type": "code",
   "execution_count": 54,
   "metadata": {
    "colab": {
     "base_uri": "https://localhost:8080/"
    },
    "executionInfo": {
     "elapsed": 318,
     "status": "ok",
     "timestamp": 1728723282250,
     "user": {
      "displayName": "한두솔",
      "userId": "14744311692633150263"
     },
     "user_tz": -540
    },
    "id": "kBfOwQpFtsRv",
    "outputId": "2e2a2723-fca0-41c2-e9b1-591e916b6f1c"
   },
   "outputs": [
    {
     "data": {
      "text/plain": [
       "5"
      ]
     },
     "execution_count": 54,
     "metadata": {},
     "output_type": "execute_result"
    }
   ],
   "source": [
    "#파싱된 테이블 개수확인\n",
    "len(table_dfs)"
   ]
  },
  {
   "cell_type": "code",
   "execution_count": 55,
   "metadata": {
    "colab": {
     "base_uri": "https://localhost:8080/",
     "height": 363
    },
    "executionInfo": {
     "elapsed": 353,
     "status": "ok",
     "timestamp": 1728723286811,
     "user": {
      "displayName": "한두솔",
      "userId": "14744311692633150263"
     },
     "user_tz": -540
    },
    "id": "6n1RZ9eR4r4u",
    "outputId": "4fef01e0-accf-4c9d-be09-1d2ca3772357"
   },
   "outputs": [
    {
     "data": {
      "text/html": [
       "<div>\n",
       "<style scoped>\n",
       "    .dataframe tbody tr th:only-of-type {\n",
       "        vertical-align: middle;\n",
       "    }\n",
       "\n",
       "    .dataframe tbody tr th {\n",
       "        vertical-align: top;\n",
       "    }\n",
       "\n",
       "    .dataframe thead th {\n",
       "        text-align: right;\n",
       "    }\n",
       "</style>\n",
       "<table border=\"1\" class=\"dataframe\">\n",
       "  <thead>\n",
       "    <tr style=\"text-align: right;\">\n",
       "      <th></th>\n",
       "      <th>No.</th>\n",
       "      <th>Name</th>\n",
       "      <th>Net worth\\n(USD)</th>\n",
       "      <th>Age</th>\n",
       "      <th>Nationality</th>\n",
       "      <th>Primary source(s) of\\nwealth</th>\n",
       "    </tr>\n",
       "  </thead>\n",
       "  <tbody>\n",
       "    <tr>\n",
       "      <th>0</th>\n",
       "      <td>1</td>\n",
       "      <td>Bernard Arnault &amp;\\nfamily</td>\n",
       "      <td>$211 billion</td>\n",
       "      <td>74</td>\n",
       "      <td>France</td>\n",
       "      <td>LVMH</td>\n",
       "    </tr>\n",
       "    <tr>\n",
       "      <th>1</th>\n",
       "      <td>2</td>\n",
       "      <td>Elon Musk</td>\n",
       "      <td>$180 billion</td>\n",
       "      <td>51</td>\n",
       "      <td>United\\nStates</td>\n",
       "      <td>Tesla, SpaceX</td>\n",
       "    </tr>\n",
       "    <tr>\n",
       "      <th>2</th>\n",
       "      <td>3</td>\n",
       "      <td>Jeff Bezos</td>\n",
       "      <td>$114 billion</td>\n",
       "      <td>59</td>\n",
       "      <td>United\\nStates</td>\n",
       "      <td>Amazon</td>\n",
       "    </tr>\n",
       "    <tr>\n",
       "      <th>3</th>\n",
       "      <td>4</td>\n",
       "      <td>Larry Ellison</td>\n",
       "      <td>$107 billion</td>\n",
       "      <td>78</td>\n",
       "      <td>United\\nStates</td>\n",
       "      <td>Oracle Corporation</td>\n",
       "    </tr>\n",
       "    <tr>\n",
       "      <th>4</th>\n",
       "      <td>5</td>\n",
       "      <td>Warren Buffett</td>\n",
       "      <td>$106 billion</td>\n",
       "      <td>92</td>\n",
       "      <td>United\\nStates</td>\n",
       "      <td>Berkshire Hathaway</td>\n",
       "    </tr>\n",
       "    <tr>\n",
       "      <th>5</th>\n",
       "      <td>6</td>\n",
       "      <td>Bill Gates</td>\n",
       "      <td>$104 billion</td>\n",
       "      <td>67</td>\n",
       "      <td>United\\nStates</td>\n",
       "      <td>Microsoft</td>\n",
       "    </tr>\n",
       "    <tr>\n",
       "      <th>6</th>\n",
       "      <td>7</td>\n",
       "      <td>Michael Bloomberg</td>\n",
       "      <td>$94.5 billion</td>\n",
       "      <td>81</td>\n",
       "      <td>United\\nStates</td>\n",
       "      <td>Bloomberg L.P.</td>\n",
       "    </tr>\n",
       "    <tr>\n",
       "      <th>7</th>\n",
       "      <td>8</td>\n",
       "      <td>Carlos Slim &amp; family</td>\n",
       "      <td>$93 billion</td>\n",
       "      <td>83</td>\n",
       "      <td>Mexico</td>\n",
       "      <td>Telmex, América Móvil, Grupo\\nCarso</td>\n",
       "    </tr>\n",
       "    <tr>\n",
       "      <th>8</th>\n",
       "      <td>9</td>\n",
       "      <td>Mukesh Ambani</td>\n",
       "      <td>$83.4 billion</td>\n",
       "      <td>65</td>\n",
       "      <td>India</td>\n",
       "      <td>Reliance Industries</td>\n",
       "    </tr>\n",
       "    <tr>\n",
       "      <th>9</th>\n",
       "      <td>10</td>\n",
       "      <td>Steve Ballmer</td>\n",
       "      <td>$80.7 billion</td>\n",
       "      <td>67</td>\n",
       "      <td>United\\nStates</td>\n",
       "      <td>Microsoft</td>\n",
       "    </tr>\n",
       "  </tbody>\n",
       "</table>\n",
       "</div>"
      ],
      "text/plain": [
       "  No.                       Name Net worth\\n(USD) Age     Nationality  \\\n",
       "0   1  Bernard Arnault &\\nfamily     $211 billion  74          France   \n",
       "1   2                  Elon Musk     $180 billion  51  United\\nStates   \n",
       "2   3                 Jeff Bezos     $114 billion  59  United\\nStates   \n",
       "3   4              Larry Ellison     $107 billion  78  United\\nStates   \n",
       "4   5             Warren Buffett     $106 billion  92  United\\nStates   \n",
       "5   6                 Bill Gates     $104 billion  67  United\\nStates   \n",
       "6   7          Michael Bloomberg    $94.5 billion  81  United\\nStates   \n",
       "7   8       Carlos Slim & family      $93 billion  83          Mexico   \n",
       "8   9              Mukesh Ambani    $83.4 billion  65           India   \n",
       "9  10              Steve Ballmer    $80.7 billion  67  United\\nStates   \n",
       "\n",
       "          Primary source(s) of\\nwealth  \n",
       "0                                 LVMH  \n",
       "1                        Tesla, SpaceX  \n",
       "2                               Amazon  \n",
       "3                   Oracle Corporation  \n",
       "4                   Berkshire Hathaway  \n",
       "5                            Microsoft  \n",
       "6                       Bloomberg L.P.  \n",
       "7  Telmex, América Móvil, Grupo\\nCarso  \n",
       "8                  Reliance Industries  \n",
       "9                            Microsoft  "
      ]
     },
     "execution_count": 55,
     "metadata": {},
     "output_type": "execute_result"
    }
   ],
   "source": [
    "#파싱 결과 확인\n",
    "table_dfs[0]"
   ]
  },
  {
   "cell_type": "code",
   "execution_count": 56,
   "metadata": {
    "colab": {
     "base_uri": "https://localhost:8080/",
     "height": 363
    },
    "executionInfo": {
     "elapsed": 343,
     "status": "ok",
     "timestamp": 1728723304828,
     "user": {
      "displayName": "한두솔",
      "userId": "14744311692633150263"
     },
     "user_tz": -540
    },
    "id": "-Yu4kglM6Fbo",
    "outputId": "e8779990-48fb-47b8-9e42-401a4c75795a"
   },
   "outputs": [
    {
     "data": {
      "text/html": [
       "<div>\n",
       "<style scoped>\n",
       "    .dataframe tbody tr th:only-of-type {\n",
       "        vertical-align: middle;\n",
       "    }\n",
       "\n",
       "    .dataframe tbody tr th {\n",
       "        vertical-align: top;\n",
       "    }\n",
       "\n",
       "    .dataframe thead th {\n",
       "        text-align: right;\n",
       "    }\n",
       "</style>\n",
       "<table border=\"1\" class=\"dataframe\">\n",
       "  <thead>\n",
       "    <tr style=\"text-align: right;\">\n",
       "      <th></th>\n",
       "      <th>No.</th>\n",
       "      <th>Name</th>\n",
       "      <th>Net worth\\n(USD)</th>\n",
       "      <th>Age</th>\n",
       "      <th>Nationality</th>\n",
       "      <th>Primary source(s) of\\nwealth</th>\n",
       "    </tr>\n",
       "  </thead>\n",
       "  <tbody>\n",
       "    <tr>\n",
       "      <th>0</th>\n",
       "      <td>1</td>\n",
       "      <td>Elon Musk</td>\n",
       "      <td>$219 billion</td>\n",
       "      <td>50</td>\n",
       "      <td>United\\nStates</td>\n",
       "      <td>Tesla, SpaceX</td>\n",
       "    </tr>\n",
       "    <tr>\n",
       "      <th>1</th>\n",
       "      <td>2</td>\n",
       "      <td>Jeff Bezos</td>\n",
       "      <td>$177 billion</td>\n",
       "      <td>58</td>\n",
       "      <td>United\\nStates</td>\n",
       "      <td>Amazon</td>\n",
       "    </tr>\n",
       "    <tr>\n",
       "      <th>2</th>\n",
       "      <td>3</td>\n",
       "      <td>Bernard Arnault &amp;\\nfamily</td>\n",
       "      <td>$158 billion</td>\n",
       "      <td>73</td>\n",
       "      <td>France</td>\n",
       "      <td>LVMH</td>\n",
       "    </tr>\n",
       "    <tr>\n",
       "      <th>3</th>\n",
       "      <td>4</td>\n",
       "      <td>Bill Gates</td>\n",
       "      <td>$129 billion</td>\n",
       "      <td>66</td>\n",
       "      <td>United\\nStates</td>\n",
       "      <td>Microsoft</td>\n",
       "    </tr>\n",
       "    <tr>\n",
       "      <th>4</th>\n",
       "      <td>5</td>\n",
       "      <td>Warren Buffett</td>\n",
       "      <td>$118 billion</td>\n",
       "      <td>91</td>\n",
       "      <td>United\\nStates</td>\n",
       "      <td>Berkshire Hathaway</td>\n",
       "    </tr>\n",
       "    <tr>\n",
       "      <th>5</th>\n",
       "      <td>6</td>\n",
       "      <td>Larry Page</td>\n",
       "      <td>$111 billion</td>\n",
       "      <td>49</td>\n",
       "      <td>United\\nStates</td>\n",
       "      <td>Google</td>\n",
       "    </tr>\n",
       "    <tr>\n",
       "      <th>6</th>\n",
       "      <td>7</td>\n",
       "      <td>Sergey Brin</td>\n",
       "      <td>$107 billion</td>\n",
       "      <td>48</td>\n",
       "      <td>United\\nStates</td>\n",
       "      <td>Google</td>\n",
       "    </tr>\n",
       "    <tr>\n",
       "      <th>7</th>\n",
       "      <td>8</td>\n",
       "      <td>Larry Ellison</td>\n",
       "      <td>$106 billion</td>\n",
       "      <td>77</td>\n",
       "      <td>United\\nStates</td>\n",
       "      <td>Oracle Corporation</td>\n",
       "    </tr>\n",
       "    <tr>\n",
       "      <th>8</th>\n",
       "      <td>9</td>\n",
       "      <td>Steve Ballmer</td>\n",
       "      <td>$91.4 billion</td>\n",
       "      <td>66</td>\n",
       "      <td>United\\nStates</td>\n",
       "      <td>Microsoft</td>\n",
       "    </tr>\n",
       "    <tr>\n",
       "      <th>9</th>\n",
       "      <td>10</td>\n",
       "      <td>Mukesh Ambani</td>\n",
       "      <td>$90.7 billion</td>\n",
       "      <td>64</td>\n",
       "      <td>India</td>\n",
       "      <td>Reliance Industries</td>\n",
       "    </tr>\n",
       "  </tbody>\n",
       "</table>\n",
       "</div>"
      ],
      "text/plain": [
       "  No.                       Name Net worth\\n(USD) Age     Nationality  \\\n",
       "0   1                  Elon Musk     $219 billion  50  United\\nStates   \n",
       "1   2                 Jeff Bezos     $177 billion  58  United\\nStates   \n",
       "2   3  Bernard Arnault &\\nfamily     $158 billion  73          France   \n",
       "3   4                 Bill Gates     $129 billion  66  United\\nStates   \n",
       "4   5             Warren Buffett     $118 billion  91  United\\nStates   \n",
       "5   6                 Larry Page     $111 billion  49  United\\nStates   \n",
       "6   7                Sergey Brin     $107 billion  48  United\\nStates   \n",
       "7   8              Larry Ellison     $106 billion  77  United\\nStates   \n",
       "8   9              Steve Ballmer    $91.4 billion  66  United\\nStates   \n",
       "9  10              Mukesh Ambani    $90.7 billion  64           India   \n",
       "\n",
       "  Primary source(s) of\\nwealth  \n",
       "0                Tesla, SpaceX  \n",
       "1                       Amazon  \n",
       "2                         LVMH  \n",
       "3                    Microsoft  \n",
       "4           Berkshire Hathaway  \n",
       "5                       Google  \n",
       "6                       Google  \n",
       "7           Oracle Corporation  \n",
       "8                    Microsoft  \n",
       "9          Reliance Industries  "
      ]
     },
     "execution_count": 56,
     "metadata": {},
     "output_type": "execute_result"
    }
   ],
   "source": [
    "#파싱 결과 확인\n",
    "table_dfs[1]"
   ]
  },
  {
   "cell_type": "code",
   "execution_count": 57,
   "metadata": {
    "colab": {
     "base_uri": "https://localhost:8080/",
     "height": 833
    },
    "executionInfo": {
     "elapsed": 345,
     "status": "ok",
     "timestamp": 1728723315774,
     "user": {
      "displayName": "한두솔",
      "userId": "14744311692633150263"
     },
     "user_tz": -540
    },
    "id": "w5T7CKfbslDi",
    "outputId": "19461cec-bd73-450b-9b21-23ba538e8903"
   },
   "outputs": [
    {
     "data": {
      "text/html": [
       "<div>\n",
       "<style scoped>\n",
       "    .dataframe tbody tr th:only-of-type {\n",
       "        vertical-align: middle;\n",
       "    }\n",
       "\n",
       "    .dataframe tbody tr th {\n",
       "        vertical-align: top;\n",
       "    }\n",
       "\n",
       "    .dataframe thead th {\n",
       "        text-align: right;\n",
       "    }\n",
       "</style>\n",
       "<table border=\"1\" class=\"dataframe\">\n",
       "  <thead>\n",
       "    <tr style=\"text-align: right;\">\n",
       "      <th></th>\n",
       "      <th>No.[61]</th>\n",
       "      <th>Name</th>\n",
       "      <th>Net worth (USD)</th>\n",
       "      <th>Nationality</th>\n",
       "    </tr>\n",
       "  </thead>\n",
       "  <tbody>\n",
       "    <tr>\n",
       "      <th>0</th>\n",
       "      <td>1</td>\n",
       "      <td>Yoshiaki Tsutsumi</td>\n",
       "      <td>$20 billion</td>\n",
       "      <td>Japan</td>\n",
       "    </tr>\n",
       "    <tr>\n",
       "      <th>1</th>\n",
       "      <td>2</td>\n",
       "      <td>Taikichiro Mori</td>\n",
       "      <td>$15 billion</td>\n",
       "      <td>Japan</td>\n",
       "    </tr>\n",
       "    <tr>\n",
       "      <th>2</th>\n",
       "      <td>3</td>\n",
       "      <td>Shigeru Kobayashi</td>\n",
       "      <td>$7.5 billion</td>\n",
       "      <td>Japan</td>\n",
       "    </tr>\n",
       "    <tr>\n",
       "      <th>3</th>\n",
       "      <td>4</td>\n",
       "      <td>Haruhiko Yoshimoto</td>\n",
       "      <td>$7.0 billion</td>\n",
       "      <td>Japan</td>\n",
       "    </tr>\n",
       "    <tr>\n",
       "      <th>4</th>\n",
       "      <td>5</td>\n",
       "      <td>Salim Ahmed Bin Mahfouz</td>\n",
       "      <td>$6.2 billion</td>\n",
       "      <td>Saudi Arabia</td>\n",
       "    </tr>\n",
       "    <tr>\n",
       "      <th>5</th>\n",
       "      <td>6</td>\n",
       "      <td>Hans and Gad Rausing</td>\n",
       "      <td>$6.0 billion</td>\n",
       "      <td>Sweden</td>\n",
       "    </tr>\n",
       "    <tr>\n",
       "      <th>6</th>\n",
       "      <td>7</td>\n",
       "      <td>Paul Reichmann</td>\n",
       "      <td>$6.0 billion</td>\n",
       "      <td>Canada</td>\n",
       "    </tr>\n",
       "    <tr>\n",
       "      <th>7</th>\n",
       "      <td>8</td>\n",
       "      <td>Yohachiro Iwasaki</td>\n",
       "      <td>$5.6 billion</td>\n",
       "      <td>Japan</td>\n",
       "    </tr>\n",
       "    <tr>\n",
       "      <th>8</th>\n",
       "      <td>9</td>\n",
       "      <td>Kenneth Thomson</td>\n",
       "      <td>$5.4 billion</td>\n",
       "      <td>Canada</td>\n",
       "    </tr>\n",
       "    <tr>\n",
       "      <th>9</th>\n",
       "      <td>10</td>\n",
       "      <td>Keizo Saji</td>\n",
       "      <td>$4.0 billion</td>\n",
       "      <td>Japan</td>\n",
       "    </tr>\n",
       "  </tbody>\n",
       "</table>\n",
       "</div>"
      ],
      "text/plain": [
       "  No.[61]                     Name Net worth (USD)   Nationality\n",
       "0       1        Yoshiaki Tsutsumi     $20 billion         Japan\n",
       "1       2          Taikichiro Mori     $15 billion         Japan\n",
       "2       3        Shigeru Kobayashi    $7.5 billion         Japan\n",
       "3       4       Haruhiko Yoshimoto    $7.0 billion         Japan\n",
       "4       5  Salim Ahmed Bin Mahfouz    $6.2 billion  Saudi Arabia\n",
       "5       6     Hans and Gad Rausing    $6.0 billion        Sweden\n",
       "6       7           Paul Reichmann    $6.0 billion        Canada\n",
       "7       8        Yohachiro Iwasaki    $5.6 billion         Japan\n",
       "8       9          Kenneth Thomson    $5.4 billion        Canada\n",
       "9      10               Keizo Saji    $4.0 billion         Japan"
      ]
     },
     "execution_count": 57,
     "metadata": {},
     "output_type": "execute_result"
    }
   ],
   "source": [
    "#파싱 결과 확인\n",
    "table_dfs[-1]"
   ]
  },
  {
   "cell_type": "markdown",
   "metadata": {
    "id": "JtU0KdVGueIP"
   },
   "source": [
    "이제 테이블을 다 파싱해왔는데,\n",
    "이것들을 기반으로 질문에 바로 답할수 있도록 만들려면 만들수도 있겠지만,\n",
    "테이블이 지금과 다르게 수천 수만개일때, 모든 유저 쿼리에 대해 수만개의 테이블을 매번 조회하는 것은 실용성 없는 Naive한 접근방식(자원은 무한하지 않다).\n",
    "\n",
    "그렇기 때문에,\n",
    "1. 사용자의 질문과 관련된 테이블을 먼저 찾고\n",
    "2. 찾은 테이블을 기준으로 사용자의 질문에 답할 수 있는 정보를 발췌하여 답해보자.\n",
    "\n",
    "일단은 각 테이블별로 답해주는 담당 라마인덱스 쿼리엔진을 만들어주자.\n",
    "\n",
    "(지난 주 커버한 쿼리엔진 라우터(AdaptiveRAG))"
   ]
  },
  {
   "cell_type": "code",
   "execution_count": 58,
   "metadata": {
    "executionInfo": {
     "elapsed": 6083,
     "status": "ok",
     "timestamp": 1728723471865,
     "user": {
      "displayName": "한두솔",
      "userId": "14744311692633150263"
     },
     "user_tz": -540
    },
    "id": "StvfC4Zf6Zcx"
   },
   "outputs": [],
   "source": [
    "from llama_index.experimental.query_engine import PandasQueryEngine\n",
    "\n",
    "llm = OpenAI(model=\"gpt-4o-mini\")\n",
    "\n",
    "#table을 기준으로 하는 query engine(PandasQueryEngine) 각 추출 테이블별로 만들고 리스트화\n",
    "df_query_engines = [\n",
    "    PandasQueryEngine(table_df, llm=llm) for table_df in table_dfs\n",
    "]"
   ]
  },
  {
   "cell_type": "code",
   "execution_count": 59,
   "metadata": {
    "colab": {
     "base_uri": "https://localhost:8080/"
    },
    "executionInfo": {
     "elapsed": 321,
     "status": "ok",
     "timestamp": 1728723474042,
     "user": {
      "displayName": "한두솔",
      "userId": "14744311692633150263"
     },
     "user_tz": -540
    },
    "id": "PrP_7zWeiF1M",
    "outputId": "1c4134c2-668e-4059-ff80-8a575a444af7"
   },
   "outputs": [
    {
     "data": {
      "text/plain": [
       "[<llama_index.experimental.query_engine.pandas.pandas_query_engine.PandasQueryEngine at 0x3666b6110>,\n",
       " <llama_index.experimental.query_engine.pandas.pandas_query_engine.PandasQueryEngine at 0x15956add0>,\n",
       " <llama_index.experimental.query_engine.pandas.pandas_query_engine.PandasQueryEngine at 0x366217dd0>,\n",
       " <llama_index.experimental.query_engine.pandas.pandas_query_engine.PandasQueryEngine at 0x16917b390>,\n",
       " <llama_index.experimental.query_engine.pandas.pandas_query_engine.PandasQueryEngine at 0x3658faa90>]"
      ]
     },
     "execution_count": 59,
     "metadata": {},
     "output_type": "execute_result"
    }
   ],
   "source": [
    "df_query_engines"
   ]
  },
  {
   "cell_type": "code",
   "execution_count": 60,
   "metadata": {
    "colab": {
     "base_uri": "https://localhost:8080/"
    },
    "executionInfo": {
     "elapsed": 1060,
     "status": "ok",
     "timestamp": 1728723515797,
     "user": {
      "displayName": "한두솔",
      "userId": "14744311692633150263"
     },
     "user_tz": -540
    },
    "id": "J7Ycg0GC6nUW",
    "outputId": "5c8606cb-504e-4491-f080-c7ba02c82da4"
   },
   "outputs": [
    {
     "name": "stdout",
     "output_type": "stream",
     "text": [
      "INFO:httpx:HTTP Request: POST https://api.openai.com/v1/chat/completions \"HTTP/1.1 200 OK\"\n",
      "HTTP Request: POST https://api.openai.com/v1/chat/completions \"HTTP/1.1 200 OK\"\n",
      "180.0\n"
     ]
    }
   ],
   "source": [
    "# 상응하는 테이블 직접 지정해서 답변 요구\n",
    "response = df_query_engines[0].query(\n",
    "    \"What's the net worth of the second richest billionaire in 2023?\"\n",
    ")\n",
    "print(str(response))"
   ]
  },
  {
   "cell_type": "code",
   "execution_count": 61,
   "metadata": {
    "colab": {
     "base_uri": "https://localhost:8080/"
    },
    "executionInfo": {
     "elapsed": 1090,
     "status": "ok",
     "timestamp": 1728723540325,
     "user": {
      "displayName": "한두솔",
      "userId": "14744311692633150263"
     },
     "user_tz": -540
    },
    "id": "7UbXZKfLipEy",
    "outputId": "de27d216-69ad-4c60-80e4-42fc791d39d8"
   },
   "outputs": [
    {
     "name": "stdout",
     "output_type": "stream",
     "text": [
      "INFO:httpx:HTTP Request: POST https://api.openai.com/v1/chat/completions \"HTTP/1.1 200 OK\"\n",
      "HTTP Request: POST https://api.openai.com/v1/chat/completions \"HTTP/1.1 200 OK\"\n",
      "Bernard Arnault &\n",
      "family\n"
     ]
    }
   ],
   "source": [
    "# 상응하는 테이블 직접 지정해서 답변 요구\n",
    "response = df_query_engines[0].query(\n",
    "    \"Who is the richest guy in the world in 2023?\"\n",
    ")\n",
    "print(str(response))"
   ]
  },
  {
   "cell_type": "code",
   "execution_count": 62,
   "metadata": {
    "colab": {
     "base_uri": "https://localhost:8080/",
     "height": 363
    },
    "executionInfo": {
     "elapsed": 334,
     "status": "ok",
     "timestamp": 1728723544798,
     "user": {
      "displayName": "한두솔",
      "userId": "14744311692633150263"
     },
     "user_tz": -540
    },
    "id": "9494Vqr5ij4R",
    "outputId": "69cc9408-e203-4491-ec46-4163263e95c9"
   },
   "outputs": [
    {
     "data": {
      "text/html": [
       "<div>\n",
       "<style scoped>\n",
       "    .dataframe tbody tr th:only-of-type {\n",
       "        vertical-align: middle;\n",
       "    }\n",
       "\n",
       "    .dataframe tbody tr th {\n",
       "        vertical-align: top;\n",
       "    }\n",
       "\n",
       "    .dataframe thead th {\n",
       "        text-align: right;\n",
       "    }\n",
       "</style>\n",
       "<table border=\"1\" class=\"dataframe\">\n",
       "  <thead>\n",
       "    <tr style=\"text-align: right;\">\n",
       "      <th></th>\n",
       "      <th>No.</th>\n",
       "      <th>Name</th>\n",
       "      <th>Net worth\\n(USD)</th>\n",
       "      <th>Age</th>\n",
       "      <th>Nationality</th>\n",
       "      <th>Primary source(s) of\\nwealth</th>\n",
       "    </tr>\n",
       "  </thead>\n",
       "  <tbody>\n",
       "    <tr>\n",
       "      <th>0</th>\n",
       "      <td>1</td>\n",
       "      <td>Bernard Arnault &amp;\\nfamily</td>\n",
       "      <td>$211 billion</td>\n",
       "      <td>74</td>\n",
       "      <td>France</td>\n",
       "      <td>LVMH</td>\n",
       "    </tr>\n",
       "    <tr>\n",
       "      <th>1</th>\n",
       "      <td>2</td>\n",
       "      <td>Elon Musk</td>\n",
       "      <td>$180 billion</td>\n",
       "      <td>51</td>\n",
       "      <td>United\\nStates</td>\n",
       "      <td>Tesla, SpaceX</td>\n",
       "    </tr>\n",
       "    <tr>\n",
       "      <th>2</th>\n",
       "      <td>3</td>\n",
       "      <td>Jeff Bezos</td>\n",
       "      <td>$114 billion</td>\n",
       "      <td>59</td>\n",
       "      <td>United\\nStates</td>\n",
       "      <td>Amazon</td>\n",
       "    </tr>\n",
       "    <tr>\n",
       "      <th>3</th>\n",
       "      <td>4</td>\n",
       "      <td>Larry Ellison</td>\n",
       "      <td>$107 billion</td>\n",
       "      <td>78</td>\n",
       "      <td>United\\nStates</td>\n",
       "      <td>Oracle Corporation</td>\n",
       "    </tr>\n",
       "    <tr>\n",
       "      <th>4</th>\n",
       "      <td>5</td>\n",
       "      <td>Warren Buffett</td>\n",
       "      <td>$106 billion</td>\n",
       "      <td>92</td>\n",
       "      <td>United\\nStates</td>\n",
       "      <td>Berkshire Hathaway</td>\n",
       "    </tr>\n",
       "    <tr>\n",
       "      <th>5</th>\n",
       "      <td>6</td>\n",
       "      <td>Bill Gates</td>\n",
       "      <td>$104 billion</td>\n",
       "      <td>67</td>\n",
       "      <td>United\\nStates</td>\n",
       "      <td>Microsoft</td>\n",
       "    </tr>\n",
       "    <tr>\n",
       "      <th>6</th>\n",
       "      <td>7</td>\n",
       "      <td>Michael Bloomberg</td>\n",
       "      <td>$94.5 billion</td>\n",
       "      <td>81</td>\n",
       "      <td>United\\nStates</td>\n",
       "      <td>Bloomberg L.P.</td>\n",
       "    </tr>\n",
       "    <tr>\n",
       "      <th>7</th>\n",
       "      <td>8</td>\n",
       "      <td>Carlos Slim &amp; family</td>\n",
       "      <td>$93 billion</td>\n",
       "      <td>83</td>\n",
       "      <td>Mexico</td>\n",
       "      <td>Telmex, América Móvil, Grupo\\nCarso</td>\n",
       "    </tr>\n",
       "    <tr>\n",
       "      <th>8</th>\n",
       "      <td>9</td>\n",
       "      <td>Mukesh Ambani</td>\n",
       "      <td>$83.4 billion</td>\n",
       "      <td>65</td>\n",
       "      <td>India</td>\n",
       "      <td>Reliance Industries</td>\n",
       "    </tr>\n",
       "    <tr>\n",
       "      <th>9</th>\n",
       "      <td>10</td>\n",
       "      <td>Steve Ballmer</td>\n",
       "      <td>$80.7 billion</td>\n",
       "      <td>67</td>\n",
       "      <td>United\\nStates</td>\n",
       "      <td>Microsoft</td>\n",
       "    </tr>\n",
       "  </tbody>\n",
       "</table>\n",
       "</div>"
      ],
      "text/plain": [
       "  No.                       Name Net worth\\n(USD) Age     Nationality  \\\n",
       "0   1  Bernard Arnault &\\nfamily     $211 billion  74          France   \n",
       "1   2                  Elon Musk     $180 billion  51  United\\nStates   \n",
       "2   3                 Jeff Bezos     $114 billion  59  United\\nStates   \n",
       "3   4              Larry Ellison     $107 billion  78  United\\nStates   \n",
       "4   5             Warren Buffett     $106 billion  92  United\\nStates   \n",
       "5   6                 Bill Gates     $104 billion  67  United\\nStates   \n",
       "6   7          Michael Bloomberg    $94.5 billion  81  United\\nStates   \n",
       "7   8       Carlos Slim & family      $93 billion  83          Mexico   \n",
       "8   9              Mukesh Ambani    $83.4 billion  65           India   \n",
       "9  10              Steve Ballmer    $80.7 billion  67  United\\nStates   \n",
       "\n",
       "          Primary source(s) of\\nwealth  \n",
       "0                                 LVMH  \n",
       "1                        Tesla, SpaceX  \n",
       "2                               Amazon  \n",
       "3                   Oracle Corporation  \n",
       "4                   Berkshire Hathaway  \n",
       "5                            Microsoft  \n",
       "6                       Bloomberg L.P.  \n",
       "7  Telmex, América Móvil, Grupo\\nCarso  \n",
       "8                  Reliance Industries  \n",
       "9                            Microsoft  "
      ]
     },
     "execution_count": 62,
     "metadata": {},
     "output_type": "execute_result"
    }
   ],
   "source": [
    "table_dfs[0]"
   ]
  },
  {
   "cell_type": "code",
   "execution_count": 63,
   "metadata": {
    "colab": {
     "base_uri": "https://localhost:8080/"
    },
    "executionInfo": {
     "elapsed": 1506,
     "status": "ok",
     "timestamp": 1728723591403,
     "user": {
      "displayName": "한두솔",
      "userId": "14744311692633150263"
     },
     "user_tz": -540
    },
    "id": "Pa-Y88s2uGCD",
    "outputId": "b9c03bde-9134-41e4-c2f0-3ba37807f296"
   },
   "outputs": [
    {
     "name": "stdout",
     "output_type": "stream",
     "text": [
      "INFO:httpx:HTTP Request: POST https://api.openai.com/v1/chat/completions \"HTTP/1.1 200 OK\"\n",
      "HTTP Request: POST https://api.openai.com/v1/chat/completions \"HTTP/1.1 200 OK\"\n",
      "151.0\n"
     ]
    }
   ],
   "source": [
    "# 상응하는 테이블 지정해서 답변 요구\n",
    "response = df_query_engines[2].query(\n",
    "    \"What's the net worth of the second richest billionaire in 2021?\"\n",
    ")\n",
    "print(str(response))"
   ]
  },
  {
   "cell_type": "code",
   "execution_count": 64,
   "metadata": {
    "colab": {
     "base_uri": "https://localhost:8080/"
    },
    "executionInfo": {
     "elapsed": 1399,
     "status": "ok",
     "timestamp": 1728723618220,
     "user": {
      "displayName": "한두솔",
      "userId": "14744311692633150263"
     },
     "user_tz": -540
    },
    "id": "WQXFZpjQiwhR",
    "outputId": "0297e190-7d03-4519-fd33-3d7213f75dd4"
   },
   "outputs": [
    {
     "name": "stdout",
     "output_type": "stream",
     "text": [
      "INFO:httpx:HTTP Request: POST https://api.openai.com/v1/chat/completions \"HTTP/1.1 200 OK\"\n",
      "HTTP Request: POST https://api.openai.com/v1/chat/completions \"HTTP/1.1 200 OK\"\n",
      "Amazon\n"
     ]
    }
   ],
   "source": [
    "# 상응하는 테이블 지정해서 답변 요구\n",
    "response = df_query_engines[2].query(\n",
    "    \"where does this Jeff Bezos guy gets money from?\"\n",
    ")\n",
    "print(str(response))"
   ]
  },
  {
   "cell_type": "code",
   "execution_count": 65,
   "metadata": {
    "id": "faCPRCgsi53B"
   },
   "outputs": [
    {
     "data": {
      "text/html": [
       "<div>\n",
       "<style scoped>\n",
       "    .dataframe tbody tr th:only-of-type {\n",
       "        vertical-align: middle;\n",
       "    }\n",
       "\n",
       "    .dataframe tbody tr th {\n",
       "        vertical-align: top;\n",
       "    }\n",
       "\n",
       "    .dataframe thead th {\n",
       "        text-align: right;\n",
       "    }\n",
       "</style>\n",
       "<table border=\"1\" class=\"dataframe\">\n",
       "  <thead>\n",
       "    <tr style=\"text-align: right;\">\n",
       "      <th></th>\n",
       "      <th>No.</th>\n",
       "      <th>Name</th>\n",
       "      <th>Net worth (USD)</th>\n",
       "      <th>Age</th>\n",
       "      <th>Nationality</th>\n",
       "      <th>Source(s) of wealth</th>\n",
       "    </tr>\n",
       "  </thead>\n",
       "  <tbody>\n",
       "    <tr>\n",
       "      <th>0</th>\n",
       "      <td>1</td>\n",
       "      <td>Jeff Bezos</td>\n",
       "      <td>$177 billion</td>\n",
       "      <td>57</td>\n",
       "      <td>United States</td>\n",
       "      <td>Amazon</td>\n",
       "    </tr>\n",
       "    <tr>\n",
       "      <th>1</th>\n",
       "      <td>2</td>\n",
       "      <td>Elon Musk</td>\n",
       "      <td>$151 billion</td>\n",
       "      <td>49</td>\n",
       "      <td>United States</td>\n",
       "      <td>Tesla, SpaceX</td>\n",
       "    </tr>\n",
       "    <tr>\n",
       "      <th>2</th>\n",
       "      <td>3</td>\n",
       "      <td>Bernard Arnault &amp; family</td>\n",
       "      <td>$150 billion</td>\n",
       "      <td>72</td>\n",
       "      <td>France</td>\n",
       "      <td>LVMH</td>\n",
       "    </tr>\n",
       "    <tr>\n",
       "      <th>3</th>\n",
       "      <td>4</td>\n",
       "      <td>Bill Gates</td>\n",
       "      <td>$124 billion</td>\n",
       "      <td>65</td>\n",
       "      <td>United States</td>\n",
       "      <td>Microsoft</td>\n",
       "    </tr>\n",
       "    <tr>\n",
       "      <th>4</th>\n",
       "      <td>5</td>\n",
       "      <td>Mark Zuckerberg</td>\n",
       "      <td>$97 billion</td>\n",
       "      <td>36</td>\n",
       "      <td>United States</td>\n",
       "      <td>Meta Platforms</td>\n",
       "    </tr>\n",
       "    <tr>\n",
       "      <th>5</th>\n",
       "      <td>6</td>\n",
       "      <td>Warren Buffett</td>\n",
       "      <td>$96 billion</td>\n",
       "      <td>90</td>\n",
       "      <td>United States</td>\n",
       "      <td>Berkshire Hathaway</td>\n",
       "    </tr>\n",
       "    <tr>\n",
       "      <th>6</th>\n",
       "      <td>7</td>\n",
       "      <td>Larry Ellison</td>\n",
       "      <td>$93 billion</td>\n",
       "      <td>76</td>\n",
       "      <td>United States</td>\n",
       "      <td>Oracle Corporation</td>\n",
       "    </tr>\n",
       "    <tr>\n",
       "      <th>7</th>\n",
       "      <td>8</td>\n",
       "      <td>Larry Page</td>\n",
       "      <td>$91.5 billion</td>\n",
       "      <td>48</td>\n",
       "      <td>United States</td>\n",
       "      <td>Google</td>\n",
       "    </tr>\n",
       "    <tr>\n",
       "      <th>8</th>\n",
       "      <td>9</td>\n",
       "      <td>Sergey Brin</td>\n",
       "      <td>$89 billion</td>\n",
       "      <td>47</td>\n",
       "      <td>United States</td>\n",
       "      <td>Google</td>\n",
       "    </tr>\n",
       "    <tr>\n",
       "      <th>9</th>\n",
       "      <td>10</td>\n",
       "      <td>Mukesh Ambani</td>\n",
       "      <td>$84.5 billion</td>\n",
       "      <td>63</td>\n",
       "      <td>India</td>\n",
       "      <td>Reliance Industries</td>\n",
       "    </tr>\n",
       "  </tbody>\n",
       "</table>\n",
       "</div>"
      ],
      "text/plain": [
       "  No.                      Name Net worth (USD) Age    Nationality  \\\n",
       "0   1                Jeff Bezos    $177 billion  57  United States   \n",
       "1   2                 Elon Musk    $151 billion  49  United States   \n",
       "2   3  Bernard Arnault & family    $150 billion  72         France   \n",
       "3   4                Bill Gates    $124 billion  65  United States   \n",
       "4   5           Mark Zuckerberg     $97 billion  36  United States   \n",
       "5   6            Warren Buffett     $96 billion  90  United States   \n",
       "6   7             Larry Ellison     $93 billion  76  United States   \n",
       "7   8                Larry Page   $91.5 billion  48  United States   \n",
       "8   9               Sergey Brin     $89 billion  47  United States   \n",
       "9  10             Mukesh Ambani   $84.5 billion  63          India   \n",
       "\n",
       "   Source(s) of wealth  \n",
       "0               Amazon  \n",
       "1        Tesla, SpaceX  \n",
       "2                 LVMH  \n",
       "3            Microsoft  \n",
       "4       Meta Platforms  \n",
       "5   Berkshire Hathaway  \n",
       "6   Oracle Corporation  \n",
       "7               Google  \n",
       "8               Google  \n",
       "9  Reliance Industries  "
      ]
     },
     "execution_count": 65,
     "metadata": {},
     "output_type": "execute_result"
    }
   ],
   "source": [
    "table_dfs[2]"
   ]
  },
  {
   "cell_type": "code",
   "execution_count": 66,
   "metadata": {
    "colab": {
     "base_uri": "https://localhost:8080/"
    },
    "executionInfo": {
     "elapsed": 708,
     "status": "ok",
     "timestamp": 1728723649569,
     "user": {
      "displayName": "한두솔",
      "userId": "14744311692633150263"
     },
     "user_tz": -540
    },
    "id": "ebG04J6b682-",
    "outputId": "1a5231a3-fee0-4486-df57-65ef2d9fe75b"
   },
   "outputs": [
    {
     "name": "stdout",
     "output_type": "stream",
     "text": [
      "INFO:httpx:HTTP Request: POST https://api.openai.com/v1/chat/completions \"HTTP/1.1 200 OK\"\n",
      "HTTP Request: POST https://api.openai.com/v1/chat/completions \"HTTP/1.1 200 OK\"\n",
      "There was an error running the output as Python code. Error message: 'Year'\n"
     ]
    },
    {
     "name": "stderr",
     "output_type": "stream",
     "text": [
      "Traceback (most recent call last):\n",
      "  File \"/Users/hyeonjinho/.pyenv/versions/3.11.6/lib/python3.11/site-packages/pandas/core/indexes/base.py\", line 3805, in get_loc\n",
      "    return self._engine.get_loc(casted_key)\n",
      "           ^^^^^^^^^^^^^^^^^^^^^^^^^^^^^^^^\n",
      "  File \"index.pyx\", line 167, in pandas._libs.index.IndexEngine.get_loc\n",
      "  File \"index.pyx\", line 196, in pandas._libs.index.IndexEngine.get_loc\n",
      "  File \"pandas/_libs/hashtable_class_helper.pxi\", line 7081, in pandas._libs.hashtable.PyObjectHashTable.get_item\n",
      "  File \"pandas/_libs/hashtable_class_helper.pxi\", line 7089, in pandas._libs.hashtable.PyObjectHashTable.get_item\n",
      "KeyError: 'Year'\n",
      "\n",
      "The above exception was the direct cause of the following exception:\n",
      "\n",
      "Traceback (most recent call last):\n",
      "  File \"/Users/hyeonjinho/.pyenv/versions/3.11.6/lib/python3.11/site-packages/llama_index/experimental/query_engine/pandas/output_parser.py\", line 63, in default_output_processor\n",
      "    output_str = str(safe_eval(module_end_str, global_vars, local_vars))\n",
      "                     ^^^^^^^^^^^^^^^^^^^^^^^^^^^^^^^^^^^^^^^^^^^^^^^^^^\n",
      "  File \"/Users/hyeonjinho/.pyenv/versions/3.11.6/lib/python3.11/site-packages/llama_index/experimental/exec_utils.py\", line 159, in safe_eval\n",
      "    return eval(__source, _get_restricted_globals(__globals), __locals)\n",
      "           ^^^^^^^^^^^^^^^^^^^^^^^^^^^^^^^^^^^^^^^^^^^^^^^^^^^^^^^^^^^^\n",
      "  File \"<string>\", line 1, in <module>\n",
      "  File \"/Users/hyeonjinho/.pyenv/versions/3.11.6/lib/python3.11/site-packages/pandas/core/frame.py\", line 4102, in __getitem__\n",
      "    indexer = self.columns.get_loc(key)\n",
      "              ^^^^^^^^^^^^^^^^^^^^^^^^^\n",
      "  File \"/Users/hyeonjinho/.pyenv/versions/3.11.6/lib/python3.11/site-packages/pandas/core/indexes/base.py\", line 3812, in get_loc\n",
      "    raise KeyError(key) from err\n",
      "KeyError: 'Year'\n"
     ]
    }
   ],
   "source": [
    "response = df_query_engines[4].query(\n",
    "    \"How many billionaires were there in 2009?\"\n",
    ")\n",
    "print(str(response))"
   ]
  },
  {
   "cell_type": "code",
   "execution_count": 67,
   "metadata": {
    "colab": {
     "base_uri": "https://localhost:8080/"
    },
    "executionInfo": {
     "elapsed": 1291,
     "status": "ok",
     "timestamp": 1728723698494,
     "user": {
      "displayName": "한두솔",
      "userId": "14744311692633150263"
     },
     "user_tz": -540
    },
    "id": "xWNq9tL5jBHB",
    "outputId": "4f4ec737-0e67-49db-8484-03b88f4c1a8e"
   },
   "outputs": [
    {
     "name": "stdout",
     "output_type": "stream",
     "text": [
      "INFO:httpx:HTTP Request: POST https://api.openai.com/v1/chat/completions \"HTTP/1.1 200 OK\"\n",
      "HTTP Request: POST https://api.openai.com/v1/chat/completions \"HTTP/1.1 200 OK\"\n",
      "There was an error running the output as Python code. Error message: could not convert string to float: '$20'\n"
     ]
    },
    {
     "name": "stderr",
     "output_type": "stream",
     "text": [
      "Traceback (most recent call last):\n",
      "  File \"/Users/hyeonjinho/.pyenv/versions/3.11.6/lib/python3.11/site-packages/llama_index/experimental/query_engine/pandas/output_parser.py\", line 63, in default_output_processor\n",
      "    output_str = str(safe_eval(module_end_str, global_vars, local_vars))\n",
      "                     ^^^^^^^^^^^^^^^^^^^^^^^^^^^^^^^^^^^^^^^^^^^^^^^^^^\n",
      "  File \"/Users/hyeonjinho/.pyenv/versions/3.11.6/lib/python3.11/site-packages/llama_index/experimental/exec_utils.py\", line 159, in safe_eval\n",
      "    return eval(__source, _get_restricted_globals(__globals), __locals)\n",
      "           ^^^^^^^^^^^^^^^^^^^^^^^^^^^^^^^^^^^^^^^^^^^^^^^^^^^^^^^^^^^^\n",
      "  File \"<string>\", line 1, in <module>\n",
      "  File \"/Users/hyeonjinho/.pyenv/versions/3.11.6/lib/python3.11/site-packages/pandas/core/generic.py\", line 6643, in astype\n",
      "    new_data = self._mgr.astype(dtype=dtype, copy=copy, errors=errors)\n",
      "               ^^^^^^^^^^^^^^^^^^^^^^^^^^^^^^^^^^^^^^^^^^^^^^^^^^^^^^^\n",
      "  File \"/Users/hyeonjinho/.pyenv/versions/3.11.6/lib/python3.11/site-packages/pandas/core/internals/managers.py\", line 430, in astype\n",
      "    return self.apply(\n",
      "           ^^^^^^^^^^^\n",
      "  File \"/Users/hyeonjinho/.pyenv/versions/3.11.6/lib/python3.11/site-packages/pandas/core/internals/managers.py\", line 363, in apply\n",
      "    applied = getattr(b, f)(**kwargs)\n",
      "              ^^^^^^^^^^^^^^^^^^^^^^^\n",
      "  File \"/Users/hyeonjinho/.pyenv/versions/3.11.6/lib/python3.11/site-packages/pandas/core/internals/blocks.py\", line 758, in astype\n",
      "    new_values = astype_array_safe(values, dtype, copy=copy, errors=errors)\n",
      "                 ^^^^^^^^^^^^^^^^^^^^^^^^^^^^^^^^^^^^^^^^^^^^^^^^^^^^^^^^^^\n",
      "  File \"/Users/hyeonjinho/.pyenv/versions/3.11.6/lib/python3.11/site-packages/pandas/core/dtypes/astype.py\", line 237, in astype_array_safe\n",
      "    new_values = astype_array(values, dtype, copy=copy)\n",
      "                 ^^^^^^^^^^^^^^^^^^^^^^^^^^^^^^^^^^^^^^\n",
      "  File \"/Users/hyeonjinho/.pyenv/versions/3.11.6/lib/python3.11/site-packages/pandas/core/dtypes/astype.py\", line 182, in astype_array\n",
      "    values = _astype_nansafe(values, dtype, copy=copy)\n",
      "             ^^^^^^^^^^^^^^^^^^^^^^^^^^^^^^^^^^^^^^^^^\n",
      "  File \"/Users/hyeonjinho/.pyenv/versions/3.11.6/lib/python3.11/site-packages/pandas/core/dtypes/astype.py\", line 133, in _astype_nansafe\n",
      "    return arr.astype(dtype, copy=True)\n",
      "           ^^^^^^^^^^^^^^^^^^^^^^^^^^^^\n",
      "ValueError: could not convert string to float: '$20'\n"
     ]
    }
   ],
   "source": [
    "response = df_query_engines[4].query(\n",
    "    \"How much is the 2009 billionaires' combined net worth?\"\n",
    ")\n",
    "print(str(response))"
   ]
  },
  {
   "cell_type": "code",
   "execution_count": 68,
   "metadata": {
    "id": "5HznXILii9vS"
   },
   "outputs": [
    {
     "data": {
      "text/html": [
       "<div>\n",
       "<style scoped>\n",
       "    .dataframe tbody tr th:only-of-type {\n",
       "        vertical-align: middle;\n",
       "    }\n",
       "\n",
       "    .dataframe tbody tr th {\n",
       "        vertical-align: top;\n",
       "    }\n",
       "\n",
       "    .dataframe thead th {\n",
       "        text-align: right;\n",
       "    }\n",
       "</style>\n",
       "<table border=\"1\" class=\"dataframe\">\n",
       "  <thead>\n",
       "    <tr style=\"text-align: right;\">\n",
       "      <th></th>\n",
       "      <th>No.[61]</th>\n",
       "      <th>Name</th>\n",
       "      <th>Net worth (USD)</th>\n",
       "      <th>Nationality</th>\n",
       "    </tr>\n",
       "  </thead>\n",
       "  <tbody>\n",
       "    <tr>\n",
       "      <th>0</th>\n",
       "      <td>1</td>\n",
       "      <td>Yoshiaki Tsutsumi</td>\n",
       "      <td>$20 billion</td>\n",
       "      <td>Japan</td>\n",
       "    </tr>\n",
       "    <tr>\n",
       "      <th>1</th>\n",
       "      <td>2</td>\n",
       "      <td>Taikichiro Mori</td>\n",
       "      <td>$15 billion</td>\n",
       "      <td>Japan</td>\n",
       "    </tr>\n",
       "    <tr>\n",
       "      <th>2</th>\n",
       "      <td>3</td>\n",
       "      <td>Shigeru Kobayashi</td>\n",
       "      <td>$7.5 billion</td>\n",
       "      <td>Japan</td>\n",
       "    </tr>\n",
       "    <tr>\n",
       "      <th>3</th>\n",
       "      <td>4</td>\n",
       "      <td>Haruhiko Yoshimoto</td>\n",
       "      <td>$7.0 billion</td>\n",
       "      <td>Japan</td>\n",
       "    </tr>\n",
       "    <tr>\n",
       "      <th>4</th>\n",
       "      <td>5</td>\n",
       "      <td>Salim Ahmed Bin Mahfouz</td>\n",
       "      <td>$6.2 billion</td>\n",
       "      <td>Saudi Arabia</td>\n",
       "    </tr>\n",
       "    <tr>\n",
       "      <th>5</th>\n",
       "      <td>6</td>\n",
       "      <td>Hans and Gad Rausing</td>\n",
       "      <td>$6.0 billion</td>\n",
       "      <td>Sweden</td>\n",
       "    </tr>\n",
       "    <tr>\n",
       "      <th>6</th>\n",
       "      <td>7</td>\n",
       "      <td>Paul Reichmann</td>\n",
       "      <td>$6.0 billion</td>\n",
       "      <td>Canada</td>\n",
       "    </tr>\n",
       "    <tr>\n",
       "      <th>7</th>\n",
       "      <td>8</td>\n",
       "      <td>Yohachiro Iwasaki</td>\n",
       "      <td>$5.6 billion</td>\n",
       "      <td>Japan</td>\n",
       "    </tr>\n",
       "    <tr>\n",
       "      <th>8</th>\n",
       "      <td>9</td>\n",
       "      <td>Kenneth Thomson</td>\n",
       "      <td>$5.4 billion</td>\n",
       "      <td>Canada</td>\n",
       "    </tr>\n",
       "    <tr>\n",
       "      <th>9</th>\n",
       "      <td>10</td>\n",
       "      <td>Keizo Saji</td>\n",
       "      <td>$4.0 billion</td>\n",
       "      <td>Japan</td>\n",
       "    </tr>\n",
       "  </tbody>\n",
       "</table>\n",
       "</div>"
      ],
      "text/plain": [
       "  No.[61]                     Name Net worth (USD)   Nationality\n",
       "0       1        Yoshiaki Tsutsumi     $20 billion         Japan\n",
       "1       2          Taikichiro Mori     $15 billion         Japan\n",
       "2       3        Shigeru Kobayashi    $7.5 billion         Japan\n",
       "3       4       Haruhiko Yoshimoto    $7.0 billion         Japan\n",
       "4       5  Salim Ahmed Bin Mahfouz    $6.2 billion  Saudi Arabia\n",
       "5       6     Hans and Gad Rausing    $6.0 billion        Sweden\n",
       "6       7           Paul Reichmann    $6.0 billion        Canada\n",
       "7       8        Yohachiro Iwasaki    $5.6 billion         Japan\n",
       "8       9          Kenneth Thomson    $5.4 billion        Canada\n",
       "9      10               Keizo Saji    $4.0 billion         Japan"
      ]
     },
     "execution_count": 68,
     "metadata": {},
     "output_type": "execute_result"
    }
   ],
   "source": [
    "table_dfs[4]"
   ]
  },
  {
   "cell_type": "markdown",
   "metadata": {
    "id": "qTO4d7YBuPed"
   },
   "source": [
    "질문별로 담당하는 쿼리엔진을 부여하는 것으로 heuristic하게 서칭 스페이스를 줄이고 시작할 수 있는 것 확인"
   ]
  },
  {
   "cell_type": "code",
   "execution_count": 69,
   "metadata": {
    "executionInfo": {
     "elapsed": 353,
     "status": "ok",
     "timestamp": 1728723764176,
     "user": {
      "displayName": "한두솔",
      "userId": "14744311692633150263"
     },
     "user_tz": -540
    },
    "id": "IV3WkyE87Piq"
   },
   "outputs": [],
   "source": [
    "# 쿼리엔진 요약문 생성\n",
    "summaries = [\n",
    "    (\n",
    "        \"This node provides information about the world's richest billionaires\"\n",
    "        \" in 2023\"\n",
    "    ),\n",
    "    (\n",
    "        \"This node provides information about the world's richest billionaires\"\n",
    "        \" in 2022\"\n",
    "    ),\n",
    "    (\n",
    "        \"This node provides information about the world's richest billionaires\"\n",
    "        \" in 2021\"\n",
    "    ),\n",
    "    (\n",
    "        \"This node provides information about the world's richest billionaires\"\n",
    "        \" in 2020\"\n",
    "    ),\n",
    "    (\n",
    "        \"This node provides information on the number of billionaires and\"\n",
    "        \" their combined net worth from 2000 to 2023.\"\n",
    "    ),\n",
    "]\n",
    "\n",
    "#생성된 요약문 별 노드단위 생성\n",
    "df_nodes = [\n",
    "    IndexNode(text=summary, index_id=f\"pandas{idx}\")\n",
    "    for idx, summary in enumerate(summaries)\n",
    "]\n",
    "\n",
    "#요약노드 <-> 쿼리엔진 매핑\n",
    "df_id_query_engine_mapping = {\n",
    "    f\"pandas{idx}\": df_query_engine\n",
    "    for idx, df_query_engine in enumerate(df_query_engines)\n",
    "}"
   ]
  },
  {
   "cell_type": "code",
   "execution_count": 70,
   "metadata": {
    "colab": {
     "base_uri": "https://localhost:8080/"
    },
    "executionInfo": {
     "elapsed": 316,
     "status": "ok",
     "timestamp": 1728723767802,
     "user": {
      "displayName": "한두솔",
      "userId": "14744311692633150263"
     },
     "user_tz": -540
    },
    "id": "W9r6sgnC-aCz",
    "outputId": "23aaf754-22e5-4cad-9d5c-276d8c950d7b"
   },
   "outputs": [
    {
     "data": {
      "text/plain": [
       "IndexNode(id_='e5a07043-d7c6-419b-9914-c4a4a9a96ff2', embedding=None, metadata={}, excluded_embed_metadata_keys=[], excluded_llm_metadata_keys=[], relationships={}, metadata_template='{key}: {value}', metadata_separator='\\n', text=\"This node provides information about the world's richest billionaires in 2023\", mimetype='text/plain', start_char_idx=None, end_char_idx=None, metadata_seperator='\\n', text_template='{metadata_str}\\n\\n{content}', index_id='pandas0', obj=None)"
      ]
     },
     "execution_count": 70,
     "metadata": {},
     "output_type": "execute_result"
    }
   ],
   "source": [
    "#생성된 노드 확인\n",
    "df_nodes[0]"
   ]
  },
  {
   "cell_type": "code",
   "execution_count": 71,
   "metadata": {
    "executionInfo": {
     "elapsed": 332,
     "status": "ok",
     "timestamp": 1728723829982,
     "user": {
      "displayName": "한두솔",
      "userId": "14744311692633150263"
     },
     "user_tz": -540
    },
    "id": "DkDkhtbT7at5"
   },
   "outputs": [
    {
     "name": "stdout",
     "output_type": "stream",
     "text": [
      "INFO:httpx:HTTP Request: POST https://api.openai.com/v1/embeddings \"HTTP/1.1 200 OK\"\n",
      "HTTP Request: POST https://api.openai.com/v1/embeddings \"HTTP/1.1 200 OK\"\n"
     ]
    }
   ],
   "source": [
    "#상위레벨 벡터스토어인덱스 정의\n",
    "vector_index = VectorStoreIndex(df_nodes)\n",
    "vector_retriever = vector_index.as_retriever(similarity_top_k=1)"
   ]
  },
  {
   "cell_type": "markdown",
   "metadata": {
    "id": "FoHFSBEVjnpn"
   },
   "source": [
    "RecursiveRetriever 활용한 Adaptive Engine Selection\n",
    "- Pydantic Selector과 다르게 LLM 기반의 Function Calling이 아닌 2 step retrieval.\n",
    "- chunk retrieve 하듯이 쿼리엔진별 description 대상으로 1차 거리계산 retrieve(top_k=1), 이후 retrieve 된 description을 가진 쿼리 엔진을 이용하여 쿼리 답안 생성"
   ]
  },
  {
   "cell_type": "code",
   "execution_count": 72,
   "metadata": {
    "executionInfo": {
     "elapsed": 321,
     "status": "ok",
     "timestamp": 1728723956970,
     "user": {
      "displayName": "한두솔",
      "userId": "14744311692633150263"
     },
     "user_tz": -540
    },
    "id": "I8GJ2buh7seZ"
   },
   "outputs": [],
   "source": [
    "from llama_index.core.retrievers import RecursiveRetriever\n",
    "\n",
    "from llama_index.core.query_engine import RetrieverQueryEngine\n",
    "from llama_index.core import get_response_synthesizer\n",
    "\n",
    "recursive_retriever = RecursiveRetriever(\n",
    "    \"vector\",\n",
    "    retriever_dict={\"vector\": vector_retriever},\n",
    "    query_engine_dict=df_id_query_engine_mapping,\n",
    "    verbose=True,\n",
    ")\n",
    "\n",
    "response_synthesizer = get_response_synthesizer(response_mode=\"compact\")\n",
    "\n",
    "query_engine = RetrieverQueryEngine.from_args(\n",
    "    recursive_retriever, response_synthesizer=response_synthesizer\n",
    ")"
   ]
  },
  {
   "cell_type": "code",
   "execution_count": 73,
   "metadata": {
    "colab": {
     "base_uri": "https://localhost:8080/"
    },
    "executionInfo": {
     "elapsed": 1311,
     "status": "ok",
     "timestamp": 1728723977699,
     "user": {
      "displayName": "한두솔",
      "userId": "14744311692633150263"
     },
     "user_tz": -540
    },
    "id": "mwXbaAE68DSg",
    "outputId": "65e03d88-2242-43fe-aa78-dbdc8ec099e3"
   },
   "outputs": [
    {
     "name": "stdout",
     "output_type": "stream",
     "text": [
      "\u001b[1;3;34mRetrieving with query id None: What's the net worth of the second richest billionaire in 2023?\n",
      "\u001b[0mINFO:httpx:HTTP Request: POST https://api.openai.com/v1/embeddings \"HTTP/1.1 200 OK\"\n",
      "HTTP Request: POST https://api.openai.com/v1/embeddings \"HTTP/1.1 200 OK\"\n",
      "\u001b[1;3;38;5;200mRetrieved node with id, entering: pandas0\n",
      "\u001b[0m\u001b[1;3;34mRetrieving with query id pandas0: What's the net worth of the second richest billionaire in 2023?\n",
      "\u001b[0mINFO:httpx:HTTP Request: POST https://api.openai.com/v1/chat/completions \"HTTP/1.1 200 OK\"\n",
      "HTTP Request: POST https://api.openai.com/v1/chat/completions \"HTTP/1.1 200 OK\"\n",
      "\u001b[1;3;32mGot response: 180.0\n",
      "\u001b[0mINFO:httpx:HTTP Request: POST https://api.openai.com/v1/chat/completions \"HTTP/1.1 200 OK\"\n",
      "HTTP Request: POST https://api.openai.com/v1/chat/completions \"HTTP/1.1 200 OK\"\n"
     ]
    }
   ],
   "source": [
    "response = query_engine.query(\n",
    "    \"What's the net worth of the second richest billionaire in 2023?\"\n",
    ")"
   ]
  },
  {
   "cell_type": "code",
   "execution_count": 74,
   "metadata": {
    "colab": {
     "base_uri": "https://localhost:8080/",
     "height": 35
    },
    "executionInfo": {
     "elapsed": 331,
     "status": "ok",
     "timestamp": 1728724017799,
     "user": {
      "displayName": "한두솔",
      "userId": "14744311692633150263"
     },
     "user_tz": -540
    },
    "id": "Ro7CvuDL8Eu8",
    "outputId": "e0dba2b6-72a4-435b-9ba2-da0de40d2438"
   },
   "outputs": [
    {
     "data": {
      "text/plain": [
       "\"Query: What's the net worth of the second richest billionaire in 2023?\\nResponse: 180.0\""
      ]
     },
     "execution_count": 74,
     "metadata": {},
     "output_type": "execute_result"
    }
   ],
   "source": [
    "# 하위 리트리버의 response\n",
    "response.source_nodes[0].node.get_content()"
   ]
  },
  {
   "cell_type": "code",
   "execution_count": 75,
   "metadata": {
    "colab": {
     "base_uri": "https://localhost:8080/",
     "height": 35
    },
    "executionInfo": {
     "elapsed": 354,
     "status": "ok",
     "timestamp": 1728724022434,
     "user": {
      "displayName": "한두솔",
      "userId": "14744311692633150263"
     },
     "user_tz": -540
    },
    "id": "e6RdeFFD8Wyp",
    "outputId": "5af0c739-482c-4c42-b3d8-15c3ddc776c5"
   },
   "outputs": [
    {
     "data": {
      "text/plain": [
       "'180.0'"
      ]
     },
     "execution_count": 75,
     "metadata": {},
     "output_type": "execute_result"
    }
   ],
   "source": [
    "# 그걸 전달받은 상위 리트리버의 최종 답안\n",
    "str(response)"
   ]
  },
  {
   "cell_type": "code",
   "execution_count": 76,
   "metadata": {
    "colab": {
     "base_uri": "https://localhost:8080/"
    },
    "executionInfo": {
     "elapsed": 1652,
     "status": "ok",
     "timestamp": 1728724035894,
     "user": {
      "displayName": "한두솔",
      "userId": "14744311692633150263"
     },
     "user_tz": -540
    },
    "id": "0TlIRMVL8b2k",
    "outputId": "485fa7e6-eadf-41d4-d699-8a904be2d997"
   },
   "outputs": [
    {
     "name": "stdout",
     "output_type": "stream",
     "text": [
      "\u001b[1;3;34mRetrieving with query id None: How many billionaires were there in 2009?\n",
      "\u001b[0mINFO:httpx:HTTP Request: POST https://api.openai.com/v1/embeddings \"HTTP/1.1 200 OK\"\n",
      "HTTP Request: POST https://api.openai.com/v1/embeddings \"HTTP/1.1 200 OK\"\n",
      "\u001b[1;3;38;5;200mRetrieved node with id, entering: pandas4\n",
      "\u001b[0m\u001b[1;3;34mRetrieving with query id pandas4: How many billionaires were there in 2009?\n",
      "\u001b[0mINFO:httpx:HTTP Request: POST https://api.openai.com/v1/chat/completions \"HTTP/1.1 200 OK\"\n",
      "HTTP Request: POST https://api.openai.com/v1/chat/completions \"HTTP/1.1 200 OK\"\n",
      "\u001b[1;3;32mGot response: There was an error running the output as Python code. Error message: 'Year'\n",
      "\u001b[0m"
     ]
    },
    {
     "name": "stderr",
     "output_type": "stream",
     "text": [
      "Traceback (most recent call last):\n",
      "  File \"/Users/hyeonjinho/.pyenv/versions/3.11.6/lib/python3.11/site-packages/pandas/core/indexes/base.py\", line 3805, in get_loc\n",
      "    return self._engine.get_loc(casted_key)\n",
      "           ^^^^^^^^^^^^^^^^^^^^^^^^^^^^^^^^\n",
      "  File \"index.pyx\", line 167, in pandas._libs.index.IndexEngine.get_loc\n",
      "  File \"index.pyx\", line 196, in pandas._libs.index.IndexEngine.get_loc\n",
      "  File \"pandas/_libs/hashtable_class_helper.pxi\", line 7081, in pandas._libs.hashtable.PyObjectHashTable.get_item\n",
      "  File \"pandas/_libs/hashtable_class_helper.pxi\", line 7089, in pandas._libs.hashtable.PyObjectHashTable.get_item\n",
      "KeyError: 'Year'\n",
      "\n",
      "The above exception was the direct cause of the following exception:\n",
      "\n",
      "Traceback (most recent call last):\n",
      "  File \"/Users/hyeonjinho/.pyenv/versions/3.11.6/lib/python3.11/site-packages/llama_index/experimental/query_engine/pandas/output_parser.py\", line 63, in default_output_processor\n",
      "    output_str = str(safe_eval(module_end_str, global_vars, local_vars))\n",
      "                     ^^^^^^^^^^^^^^^^^^^^^^^^^^^^^^^^^^^^^^^^^^^^^^^^^^\n",
      "  File \"/Users/hyeonjinho/.pyenv/versions/3.11.6/lib/python3.11/site-packages/llama_index/experimental/exec_utils.py\", line 159, in safe_eval\n",
      "    return eval(__source, _get_restricted_globals(__globals), __locals)\n",
      "           ^^^^^^^^^^^^^^^^^^^^^^^^^^^^^^^^^^^^^^^^^^^^^^^^^^^^^^^^^^^^\n",
      "  File \"<string>\", line 1, in <module>\n",
      "  File \"/Users/hyeonjinho/.pyenv/versions/3.11.6/lib/python3.11/site-packages/pandas/core/frame.py\", line 4102, in __getitem__\n",
      "    indexer = self.columns.get_loc(key)\n",
      "              ^^^^^^^^^^^^^^^^^^^^^^^^^\n",
      "  File \"/Users/hyeonjinho/.pyenv/versions/3.11.6/lib/python3.11/site-packages/pandas/core/indexes/base.py\", line 3812, in get_loc\n",
      "    raise KeyError(key) from err\n",
      "KeyError: 'Year'\n"
     ]
    },
    {
     "name": "stdout",
     "output_type": "stream",
     "text": [
      "INFO:httpx:HTTP Request: POST https://api.openai.com/v1/chat/completions \"HTTP/1.1 200 OK\"\n",
      "HTTP Request: POST https://api.openai.com/v1/chat/completions \"HTTP/1.1 200 OK\"\n"
     ]
    }
   ],
   "source": [
    "response = query_engine.query(\"How many billionaires were there in 2009?\")"
   ]
  },
  {
   "cell_type": "code",
   "execution_count": 77,
   "metadata": {
    "colab": {
     "base_uri": "https://localhost:8080/",
     "height": 35
    },
    "executionInfo": {
     "elapsed": 327,
     "status": "ok",
     "timestamp": 1728724054265,
     "user": {
      "displayName": "한두솔",
      "userId": "14744311692633150263"
     },
     "user_tz": -540
    },
    "id": "5qqxJrrh8rrR",
    "outputId": "51920cc5-5ce3-460c-e27a-0506ca3a9e12"
   },
   "outputs": [
    {
     "data": {
      "text/plain": [
       "'There was an error in retrieving the information regarding the number of billionaires in 2009.'"
      ]
     },
     "execution_count": 77,
     "metadata": {},
     "output_type": "execute_result"
    }
   ],
   "source": [
    "str(response)"
   ]
  },
  {
   "cell_type": "markdown",
   "metadata": {
    "id": "00QrGe3KklLw"
   },
   "source": [
    "DO IT YOURSELF\n",
    "- 손흥민 위키피디아 pdf 코랩 환경에 업로드\n",
    "- 위 exercise와 마찬가지로, camelot으로 pdf 내 테이블 파싱\n",
    "- 파싱된 테이블별 pandas query engine 구축\n",
    "- query engine별 연관 질문 해보기\n",
    "- recursive retrieval 활용하여 상위레벨 쿼리엔진 구조 완성 하여 손흥민 AdaptiveRAG 구현해보기"
   ]
  },
  {
   "cell_type": "code",
   "execution_count": 90,
   "metadata": {
    "executionInfo": {
     "elapsed": 331,
     "status": "ok",
     "timestamp": 1728724088375,
     "user": {
      "displayName": "한두솔",
      "userId": "14744311692633150263"
     },
     "user_tz": -540
    },
    "id": "oCHzGEDV7HGG"
   },
   "outputs": [],
   "source": [
    "# 파싱할 파일 경로 설정\n",
    "file_path = \"./son.pdf\""
   ]
  },
  {
   "cell_type": "markdown",
   "metadata": {
    "id": "L3961CVtk-8K"
   },
   "source": []
  },
  {
   "cell_type": "code",
   "execution_count": 91,
   "metadata": {
    "executionInfo": {
     "elapsed": 3517,
     "status": "ok",
     "timestamp": 1728724113778,
     "user": {
      "displayName": "한두솔",
      "userId": "14744311692633150263"
     },
     "user_tz": -540
    },
    "id": "GESOVVi77oVn"
   },
   "outputs": [],
   "source": [
    "# PDF파서 정의\n",
    "reader = PyMuPDFReader()\n",
    "# 업로드된 경로에서 로딩스테이지 진행한 후 다큐먼트 단위로 저장\n",
    "docs = reader.load(file_path)"
   ]
  },
  {
   "cell_type": "code",
   "execution_count": 92,
   "metadata": {
    "executionInfo": {
     "elapsed": 322,
     "status": "ok",
     "timestamp": 1728724119040,
     "user": {
      "displayName": "한두솔",
      "userId": "14744311692633150263"
     },
     "user_tz": -540
    },
    "id": "a-j-drgQ7p2J"
   },
   "outputs": [],
   "source": [
    "doc_nodes = Settings.node_parser.get_nodes_from_documents(docs)"
   ]
  },
  {
   "cell_type": "code",
   "execution_count": 93,
   "metadata": {
    "executionInfo": {
     "elapsed": 1417,
     "status": "ok",
     "timestamp": 1728724139684,
     "user": {
      "displayName": "한두솔",
      "userId": "14744311692633150263"
     },
     "user_tz": -540
    },
    "id": "0pZOvsHb78e2"
   },
   "outputs": [
    {
     "name": "stdout",
     "output_type": "stream",
     "text": [
      "INFO:httpx:HTTP Request: POST https://api.openai.com/v1/embeddings \"HTTP/1.1 200 OK\"\n",
      "HTTP Request: POST https://api.openai.com/v1/embeddings \"HTTP/1.1 200 OK\"\n"
     ]
    }
   ],
   "source": [
    "# 비교를 위한 Naive-RAG 구성\n",
    "vector_index0 = VectorStoreIndex(doc_nodes)\n",
    "vector_query_engine0 = vector_index0.as_query_engine()\n"
   ]
  },
  {
   "cell_type": "code",
   "execution_count": 94,
   "metadata": {
    "executionInfo": {
     "elapsed": 1331,
     "status": "ok",
     "timestamp": 1728724163725,
     "user": {
      "displayName": "한두솔",
      "userId": "14744311692633150263"
     },
     "user_tz": -540
    },
    "id": "sq9e75S98ELN"
   },
   "outputs": [
    {
     "name": "stdout",
     "output_type": "stream",
     "text": [
      "INFO:httpx:HTTP Request: POST https://api.openai.com/v1/embeddings \"HTTP/1.1 200 OK\"\n",
      "HTTP Request: POST https://api.openai.com/v1/embeddings \"HTTP/1.1 200 OK\"\n",
      "INFO:httpx:HTTP Request: POST https://api.openai.com/v1/chat/completions \"HTTP/1.1 200 OK\"\n",
      "HTTP Request: POST https://api.openai.com/v1/chat/completions \"HTTP/1.1 200 OK\"\n"
     ]
    }
   ],
   "source": [
    "#질문1: 손흥민이 소속된 구단이 어디야?\n",
    "response = vector_query_engine0.query('손흥민이 소속된 구단이 어디야?')"
   ]
  },
  {
   "cell_type": "code",
   "execution_count": 95,
   "metadata": {
    "colab": {
     "base_uri": "https://localhost:8080/"
    },
    "executionInfo": {
     "elapsed": 331,
     "status": "ok",
     "timestamp": 1728724166600,
     "user": {
      "displayName": "한두솔",
      "userId": "14744311692633150263"
     },
     "user_tz": -540
    },
    "id": "D7MDJoHN8IwH",
    "outputId": "694cfda9-a036-4a82-b5d1-c25f99e6ed8c"
   },
   "outputs": [
    {
     "name": "stdout",
     "output_type": "stream",
     "text": [
      "손흥민은 토트넘 홋스퍼 소속입니다.\n"
     ]
    }
   ],
   "source": [
    "print(str(response))"
   ]
  },
  {
   "cell_type": "code",
   "execution_count": 96,
   "metadata": {
    "colab": {
     "base_uri": "https://localhost:8080/"
    },
    "executionInfo": {
     "elapsed": 343,
     "status": "ok",
     "timestamp": 1728724175562,
     "user": {
      "displayName": "한두솔",
      "userId": "14744311692633150263"
     },
     "user_tz": -540
    },
    "id": "PmH7ZWF18Laz",
    "outputId": "7671271b-9e90-4065-ba45-6eb688ff8cb9"
   },
   "outputs": [
    {
     "name": "stdout",
     "output_type": "stream",
     "text": [
      "[184] 이에 해외에서는 \"손흥민의 슈팅이 정확한 줄은 알았는데 저 정도였을 줄이야\"라는 우스갯소리도 나오고 있다.\n",
      "[185] 훈련 성적 상위 5명에게 주는 상이다.\n",
      "[186] 물론 엄밀히 따지면 예비군훈련과 민방위가 있지만, 손흥민이 해외에 계속 체류한다는 전제하에 예비군훈련과 민방위는\n",
      "자동으로 면제된다.\n",
      "이 저작물은 CC BY-NC-SA 2.0 KR에 따라 이용할 수 있습니다. (단, 라이선스가 명시된 일부 문서 및 삽화 제외)\n",
      "기여하신 문서의 저작권은 각 기여자에게 있으며, 각 기여자는 기여하신 부분의 저작권을 갖습니다.\n",
      "25. 5. 2. 오전 12:17\n",
      "손흥민 - 나무위키\n",
      "https://namu.wiki/w/손흥민\n",
      "32/33\n"
     ]
    }
   ],
   "source": [
    "print(response.source_nodes[0].node.get_content())"
   ]
  },
  {
   "cell_type": "code",
   "execution_count": 97,
   "metadata": {
    "executionInfo": {
     "elapsed": 1646,
     "status": "ok",
     "timestamp": 1728724212485,
     "user": {
      "displayName": "한두솔",
      "userId": "14744311692633150263"
     },
     "user_tz": -540
    },
    "id": "nsdApQ0C8Pu7"
   },
   "outputs": [
    {
     "name": "stdout",
     "output_type": "stream",
     "text": [
      "INFO:httpx:HTTP Request: POST https://api.openai.com/v1/embeddings \"HTTP/1.1 200 OK\"\n",
      "HTTP Request: POST https://api.openai.com/v1/embeddings \"HTTP/1.1 200 OK\"\n",
      "INFO:httpx:HTTP Request: POST https://api.openai.com/v1/chat/completions \"HTTP/1.1 200 OK\"\n",
      "HTTP Request: POST https://api.openai.com/v1/chat/completions \"HTTP/1.1 200 OK\"\n"
     ]
    }
   ],
   "source": [
    "# 질문2: 손흥민이 리그에서 23골을 넣었던 시즌이 언제야?\n",
    "response = vector_query_engine0.query(\n",
    "    \"손흥민이 리그에서 23골을 넣었던 시즌이 언제야?\"\n",
    ")"
   ]
  },
  {
   "cell_type": "code",
   "execution_count": 98,
   "metadata": {
    "colab": {
     "base_uri": "https://localhost:8080/"
    },
    "executionInfo": {
     "elapsed": 341,
     "status": "ok",
     "timestamp": 1728724214949,
     "user": {
      "displayName": "한두솔",
      "userId": "14744311692633150263"
     },
     "user_tz": -540
    },
    "id": "SKARJXBp8d80",
    "outputId": "71c19cf9-dbea-47db-a299-b6043a1097ae"
   },
   "outputs": [
    {
     "name": "stdout",
     "output_type": "stream",
     "text": [
      "손흥민이 리그에서 23골을 넣었던 시즌은 2021-22 시즌이다.\n"
     ]
    }
   ],
   "source": [
    "print(str(response))"
   ]
  },
  {
   "cell_type": "code",
   "execution_count": 99,
   "metadata": {
    "colab": {
     "base_uri": "https://localhost:8080/"
    },
    "executionInfo": {
     "elapsed": 340,
     "status": "ok",
     "timestamp": 1728724221187,
     "user": {
      "displayName": "한두솔",
      "userId": "14744311692633150263"
     },
     "user_tz": -540
    },
    "id": "mBUXzHp78fQU",
    "outputId": "bdfe4ea1-8651-4daa-cba2-c5f73a2a82db"
   },
   "outputs": [
    {
     "name": "stdout",
     "output_type": "stream",
     "text": [
      "[118] 2019-20 시즌 FK 츠르베나 즈베즈다. 황희찬, 메흐디 타레미와 공동 최다 기록.\n",
      "[119] 플레이오프 2골까지 포함하면 21골.\n",
      "[120] 2019-20 시즌. 타레미와 공동 최다 기록.\n",
      "[121] 2019-20 시즌. 타레미와 공동 최다 기록.\n",
      "[122] 2024-25 시즌 FK 츠르베나 즈베즈다. 메흐디 타레미, 황희찬과 공동 최다 기록.\n",
      "[123] 통산 9회. 2014-15시즌 조별리그 2 · 4라운드, 2016-17시즌 조별리그 2라운드, 2017-18시즌 조별리그 4라운드, 2\n",
      "018-19시즌 8강 1 · 2차전, 2019-20시즌 조별리그 3 · 4라운드, 2022-23시즌 조별리그 4라운드\n",
      "[124] 통산 8회. 2014-15시즌 조별리그 2 · 4라운드, 2017-18시즌 16강 2차전, 2018-19시즌 8강 1 · 2차전, 2019-20시\n",
      "즌 조별리그 3 · 4라운드, 2022-23시즌 조별리그 4라운드\n",
      "[125] 2022-23 시즌 조별리그 4차전, 메흐디 타레미와 더불어 둘뿐인 수상\n",
      "[126] 2018-19시즌, 첫번째는 박지성\n",
      "[127] 2021-22 시즌. 현재 손흥민의 한 시즌 개인 최다 골\n",
      "[128] 2020-21 시즌\n",
      "[129] 2020-21 시즌\n",
      "[130] 2010-11 시즌 ~ 진행중\n",
      "[131] 2016-17시즌 ~ 진행 중\n",
      "[132] 2012-13시즌 부터 진행 중(2015-16시즌 제외)\n",
      "[133] 2016-17시즌 ~ 진행 중\n",
      "[134] 본인이 세웠던 기록인 22위를 경신했다.\n",
      "[135] 유효표를 받은 것은 확실하게 기록되어 있으나 정확히 몇 표를 받은 것인지는 나오지 않았다.\n"
     ]
    }
   ],
   "source": [
    "print(response.source_nodes[0].node.get_content())"
   ]
  },
  {
   "cell_type": "code",
   "execution_count": 100,
   "metadata": {
    "colab": {
     "base_uri": "https://localhost:8080/"
    },
    "executionInfo": {
     "elapsed": 2,
     "status": "ok",
     "timestamp": 1728724230889,
     "user": {
      "displayName": "한두솔",
      "userId": "14744311692633150263"
     },
     "user_tz": -540
    },
    "id": "y3ue93MZ8gvi",
    "outputId": "a6c34991-00f9-468d-b5c7-149f470ba766"
   },
   "outputs": [
    {
     "name": "stdout",
     "output_type": "stream",
     "text": [
      "3시즌\n",
      "합계\n",
      "6\n",
      "2\n",
      "21\n",
      "6\n",
      "6\n",
      "3\n",
      "1\n",
      "-\n",
      "-\n",
      "-\n",
      "19\n",
      "5\n",
      "3\n",
      "8\n",
      "7\n",
      "29\n",
      "1\n",
      "0\n",
      "시즌\n",
      "구단\n",
      "리그\n",
      "FA컵\n",
      "EFL컵\n",
      "대륙 대항전\n",
      "총합\n",
      "경\n",
      "기\n",
      "득점\n",
      "도\n",
      "움\n",
      "경\n",
      "기\n",
      "득점\n",
      "도\n",
      "움\n",
      "경\n",
      "기\n",
      "득\n",
      "점\n",
      "도\n",
      "움\n",
      "경기\n",
      "득점\n",
      "도움\n",
      "경\n",
      "기\n",
      "득점\n",
      "도\n",
      "움\n",
      "15-1\n",
      "6[79]\n",
      "토트넘\n",
      "홋스퍼\n",
      "2\n",
      "8\n",
      "4\n",
      "1\n",
      "4\n",
      "1\n",
      "1\n",
      "1\n",
      "0\n",
      "0\n",
      "7\n",
      "[80]\n",
      "3\n",
      "3\n",
      "4\n",
      "0\n",
      "8\n",
      "5\n",
      "16-1\n",
      "7\n",
      "3\n",
      "4\n",
      "14\n",
      "6\n",
      "5\n",
      "6\n",
      "[81]\n",
      "1\n",
      "-\n",
      "-\n",
      "-\n",
      "8\n",
      "[82]\n",
      "1\n",
      "[83]\n",
      "0\n",
      "4\n",
      "7\n",
      "21\n",
      "7\n",
      "17-1\n",
      "8\n",
      "3\n",
      "7\n",
      "12\n",
      "6\n",
      "7\n",
      "2\n",
      "3\n",
      "2\n",
      "0\n",
      "2\n",
      "7\n",
      "[84]\n",
      "4\n",
      "0\n",
      "5\n",
      "3\n",
      "18\n",
      "11\n",
      "18-1\n",
      "9\n",
      "3\n",
      "1\n",
      "12\n",
      "6\n",
      "1\n",
      "1\n",
      "2\n",
      "4\n",
      "3\n",
      "0\n",
      "12\n",
      "[85]\n",
      "4\n",
      "1\n",
      "4\n",
      "8\n",
      "20\n",
      "9\n",
      "19-2\n",
      "0\n",
      "3\n",
      "0\n",
      "11\n",
      "1\n",
      "0\n",
      "4\n",
      "2\n",
      "0\n",
      "1\n",
      "0\n",
      "0\n",
      "6\n",
      "[86]\n",
      "5\n",
      "1\n",
      "4\n",
      "1\n",
      "18\n",
      "11\n",
      "20-2\n",
      "1\n",
      "3\n",
      "7\n",
      "17\n",
      "1\n",
      "0\n",
      "2\n",
      "0\n",
      "4\n",
      "3\n",
      "1\n",
      "0\n",
      "9\n",
      "[87]\n",
      "4\n",
      "[88]\n",
      "3\n",
      "[89]\n",
      "5\n",
      "1\n",
      "22\n",
      "1\n",
      "7\n",
      "21-2\n",
      "2\n",
      "3\n",
      "5\n",
      "23\n",
      "[90]\n",
      "7\n",
      "2\n",
      "0\n",
      "0\n",
      "4\n",
      "0\n",
      "0\n",
      "4\n",
      "[91]\n",
      "1\n",
      "[92]\n",
      "1\n",
      "[93]\n",
      "4\n",
      "5\n",
      "24\n",
      "8\n",
      "22-2\n",
      "3\n",
      "3\n",
      "6\n",
      "10\n",
      "6\n",
      "3\n",
      "2\n",
      "0\n",
      "-\n",
      "-\n",
      "-\n",
      "8\n",
      "[94]\n",
      "2\n",
      "0\n",
      "4\n",
      "7\n",
      "14\n",
      "6\n",
      "23-2\n",
      "4\n",
      "3\n",
      "5\n",
      "17\n",
      "1\n",
      "0\n",
      "-\n",
      "-\n",
      "-\n",
      "1\n",
      "0\n",
      "0\n",
      "-\n",
      "-\n",
      "-\n",
      "3\n",
      "6\n",
      "17\n",
      "1\n",
      "0\n",
      "24-2\n",
      "5\n",
      "2\n",
      "8\n",
      "7\n",
      "9\n",
      "2\n",
      "0\n",
      "1\n",
      "4\n",
      "1\n",
      "0\n",
      "9\n",
      "3\n",
      "2\n",
      "4\n",
      "3\n",
      "11\n",
      "1\n",
      "2\n",
      "10시\n",
      "즌\n",
      "합계\n",
      "3\n",
      "3\n",
      "1\n",
      "127\n",
      "7\n",
      "1\n",
      "3\n",
      "0\n",
      "14\n",
      "1\n",
      "2\n",
      "2\n",
      "0\n",
      "5\n",
      "2\n",
      "70\n",
      "27\n",
      "10\n",
      "4\n",
      "5\n",
      "1\n",
      "173\n",
      "9\n",
      "6\n",
      "통산\n",
      "4\n",
      "6\n",
      "6\n",
      "168\n",
      "8\n",
      "0\n",
      "4\n",
      "1\n",
      "17\n",
      "1\n",
      "3\n",
      "2\n",
      "0\n",
      "5\n",
      "2\n",
      "88\n",
      "32\n",
      "14\n",
      "6\n",
      "1\n",
      "6\n",
      "222\n",
      "[95]\n",
      "1\n",
      "0\n",
      "9\n",
      "[A] 진한 부분은 리그 최고 득점 기록이다\n",
      "7.4.2. 국가대표\n",
      "2025년 3월 25일 기준\n",
      "25. 5. 2. 오전 12:17\n",
      "손흥민 - 나무위키\n",
      "https://namu.wiki/w/손흥민\n",
      "11/33\n"
     ]
    }
   ],
   "source": [
    "print(response.source_nodes[1].node.get_content())"
   ]
  },
  {
   "cell_type": "code",
   "execution_count": 109,
   "metadata": {
    "executionInfo": {
     "elapsed": 12108,
     "status": "ok",
     "timestamp": 1728724330061,
     "user": {
      "displayName": "한두솔",
      "userId": "14744311692633150263"
     },
     "user_tz": -540
    },
    "id": "WWsS8nev8jor"
   },
   "outputs": [
    {
     "name": "stdout",
     "output_type": "stream",
     "text": [
      "WARNING:pdfminer.pdfpage:CropBox missing from /Page, defaulting to MediaBox\n",
      "CropBox missing from /Page, defaulting to MediaBox\n",
      "WARNING:pdfminer.pdfpage:CropBox missing from /Page, defaulting to MediaBox\n",
      "CropBox missing from /Page, defaulting to MediaBox\n"
     ]
    },
    {
     "name": "stderr",
     "output_type": "stream",
     "text": [
      "2025-05-02T00:19:09 - INFO - Processing page-10\n"
     ]
    },
    {
     "name": "stdout",
     "output_type": "stream",
     "text": [
      "INFO:camelot:Processing page-10\n",
      "Processing page-10\n",
      "WARNING:pdfminer.pdfpage:CropBox missing from /Page, defaulting to MediaBox\n",
      "CropBox missing from /Page, defaulting to MediaBox\n",
      "WARNING:pdfminer.pdfpage:CropBox missing from /Page, defaulting to MediaBox\n",
      "CropBox missing from /Page, defaulting to MediaBox\n"
     ]
    },
    {
     "name": "stderr",
     "output_type": "stream",
     "text": [
      "2025-05-02T00:19:10 - INFO - Processing page-11\n"
     ]
    },
    {
     "name": "stdout",
     "output_type": "stream",
     "text": [
      "INFO:camelot:Processing page-11\n",
      "Processing page-11\n",
      "WARNING:pdfminer.pdfpage:CropBox missing from /Page, defaulting to MediaBox\n",
      "CropBox missing from /Page, defaulting to MediaBox\n",
      "WARNING:pdfminer.pdfpage:CropBox missing from /Page, defaulting to MediaBox\n",
      "CropBox missing from /Page, defaulting to MediaBox\n"
     ]
    },
    {
     "name": "stderr",
     "output_type": "stream",
     "text": [
      "2025-05-02T00:19:11 - INFO - Processing page-14\n"
     ]
    },
    {
     "name": "stdout",
     "output_type": "stream",
     "text": [
      "INFO:camelot:Processing page-14\n",
      "Processing page-14\n",
      "WARNING:pdfminer.pdfpage:CropBox missing from /Page, defaulting to MediaBox\n",
      "CropBox missing from /Page, defaulting to MediaBox\n",
      "WARNING:pdfminer.pdfpage:CropBox missing from /Page, defaulting to MediaBox\n",
      "CropBox missing from /Page, defaulting to MediaBox\n"
     ]
    },
    {
     "name": "stderr",
     "output_type": "stream",
     "text": [
      "2025-05-02T00:19:13 - INFO - Processing page-15\n"
     ]
    },
    {
     "name": "stdout",
     "output_type": "stream",
     "text": [
      "INFO:camelot:Processing page-15\n",
      "Processing page-15\n",
      "WARNING:pdfminer.pdfpage:CropBox missing from /Page, defaulting to MediaBox\n",
      "CropBox missing from /Page, defaulting to MediaBox\n",
      "WARNING:pdfminer.pdfpage:CropBox missing from /Page, defaulting to MediaBox\n",
      "CropBox missing from /Page, defaulting to MediaBox\n"
     ]
    },
    {
     "name": "stderr",
     "output_type": "stream",
     "text": [
      "2025-05-02T00:19:14 - INFO - Processing page-19\n"
     ]
    },
    {
     "name": "stdout",
     "output_type": "stream",
     "text": [
      "INFO:camelot:Processing page-19\n",
      "Processing page-19\n"
     ]
    }
   ],
   "source": [
    "# 성능고도화를 위해 get_tables 함수로 camelot라이브러리 활용한 테이블 파싱(페이지 14, 15, 19)\n",
    "table_dfs = get_tables(file_path, pages=[10,11,14,15,19])"
   ]
  },
  {
   "cell_type": "code",
   "execution_count": 110,
   "metadata": {
    "colab": {
     "base_uri": "https://localhost:8080/"
    },
    "executionInfo": {
     "elapsed": 321,
     "status": "ok",
     "timestamp": 1728724331659,
     "user": {
      "displayName": "한두솔",
      "userId": "14744311692633150263"
     },
     "user_tz": -540
    },
    "id": "1eg2_YuA8nUG",
    "outputId": "24f2b48d-e154-4692-f612-4c8ebb3d4c7a"
   },
   "outputs": [
    {
     "data": {
      "text/plain": [
       "4"
      ]
     },
     "execution_count": 110,
     "metadata": {},
     "output_type": "execute_result"
    }
   ],
   "source": [
    "len(table_dfs)"
   ]
  },
  {
   "cell_type": "code",
   "execution_count": 111,
   "metadata": {
    "colab": {
     "base_uri": "https://localhost:8080/",
     "height": 707
    },
    "executionInfo": {
     "elapsed": 426,
     "status": "ok",
     "timestamp": 1728724337364,
     "user": {
      "displayName": "한두솔",
      "userId": "14744311692633150263"
     },
     "user_tz": -540
    },
    "id": "CsMLlf0N9gtA",
    "outputId": "74aaea5f-d874-4376-b4c2-d2893f30afcc"
   },
   "outputs": [
    {
     "data": {
      "text/html": [
       "<div>\n",
       "<style scoped>\n",
       "    .dataframe tbody tr th:only-of-type {\n",
       "        vertical-align: middle;\n",
       "    }\n",
       "\n",
       "    .dataframe tbody tr th {\n",
       "        vertical-align: top;\n",
       "    }\n",
       "\n",
       "    .dataframe thead th {\n",
       "        text-align: right;\n",
       "    }\n",
       "</style>\n",
       "<table border=\"1\" class=\"dataframe\">\n",
       "  <thead>\n",
       "    <tr style=\"text-align: right;\">\n",
       "      <th></th>\n",
       "      <th>7 3\\n3 0\\n2 7\\n리그\\nDFB 포칼\\n-\\n대륙 대항전\\n총합\\n시즌\\n구단\\n10-11\\n11-12\\n함부르크\\n12-1\\n3\\n3시즌\\n합계\\n리그\\nDFB 포칼\\n-\\n대륙 대항전\\n총합\\n시즌\\n구단\\n13-1\\n4[74]\\n14-1\\n레버쿠젠\\n5</th>\n",
       "      <th></th>\n",
       "      <th></th>\n",
       "      <th></th>\n",
       "      <th></th>\n",
       "      <th></th>\n",
       "      <th></th>\n",
       "      <th></th>\n",
       "      <th></th>\n",
       "      <th></th>\n",
       "      <th></th>\n",
       "      <th></th>\n",
       "      <th></th>\n",
       "      <th></th>\n",
       "      <th></th>\n",
       "      <th></th>\n",
       "      <th></th>\n",
       "    </tr>\n",
       "  </thead>\n",
       "  <tbody>\n",
       "    <tr>\n",
       "      <th>0</th>\n",
       "      <td></td>\n",
       "      <td></td>\n",
       "      <td>경 기</td>\n",
       "      <td>득점\\n3</td>\n",
       "      <td>도 움</td>\n",
       "      <td>경 기</td>\n",
       "      <td>득점\\n0</td>\n",
       "      <td>도 움</td>\n",
       "      <td>경 기</td>\n",
       "      <td>득 점\\n-</td>\n",
       "      <td>도 움</td>\n",
       "      <td>경기</td>\n",
       "      <td>득점\\n-</td>\n",
       "      <td>도움</td>\n",
       "      <td>경 기</td>\n",
       "      <td>득점\\n3</td>\n",
       "      <td>도 움\\n0</td>\n",
       "    </tr>\n",
       "    <tr>\n",
       "      <th>1</th>\n",
       "      <td></td>\n",
       "      <td></td>\n",
       "      <td>1 3</td>\n",
       "      <td></td>\n",
       "      <td>0</td>\n",
       "      <td>1</td>\n",
       "      <td></td>\n",
       "      <td>0</td>\n",
       "      <td>-</td>\n",
       "      <td></td>\n",
       "      <td>-</td>\n",
       "      <td>-</td>\n",
       "      <td></td>\n",
       "      <td>-</td>\n",
       "      <td>1 4</td>\n",
       "      <td></td>\n",
       "      <td></td>\n",
       "    </tr>\n",
       "    <tr>\n",
       "      <th>2</th>\n",
       "      <td></td>\n",
       "      <td></td>\n",
       "      <td></td>\n",
       "      <td>5</td>\n",
       "      <td>1\\n3</td>\n",
       "      <td></td>\n",
       "      <td>0</td>\n",
       "      <td>0\\n-</td>\n",
       "      <td></td>\n",
       "      <td>-</td>\n",
       "      <td>-\\n-</td>\n",
       "      <td></td>\n",
       "      <td>-</td>\n",
       "      <td>3 0\\n-</td>\n",
       "      <td></td>\n",
       "      <td>5</td>\n",
       "      <td>1</td>\n",
       "    </tr>\n",
       "    <tr>\n",
       "      <th>3</th>\n",
       "      <td></td>\n",
       "      <td></td>\n",
       "      <td>3 3</td>\n",
       "      <td>12\\n20</td>\n",
       "      <td>2\\n3\\n5</td>\n",
       "      <td>1</td>\n",
       "      <td>0\\n0</td>\n",
       "      <td>0\\n0\\n-</td>\n",
       "      <td>-</td>\n",
       "      <td>-\\n-</td>\n",
       "      <td>-\\n-\\n-</td>\n",
       "      <td>-</td>\n",
       "      <td>-\\n-</td>\n",
       "      <td>7 8\\n-\\n-</td>\n",
       "      <td>3 4</td>\n",
       "      <td>12\\n20</td>\n",
       "      <td>2\\n3</td>\n",
       "    </tr>\n",
       "    <tr>\n",
       "      <th>4</th>\n",
       "      <td></td>\n",
       "      <td></td>\n",
       "      <td></td>\n",
       "      <td></td>\n",
       "      <td></td>\n",
       "      <td></td>\n",
       "      <td></td>\n",
       "      <td></td>\n",
       "      <td></td>\n",
       "      <td></td>\n",
       "      <td></td>\n",
       "      <td></td>\n",
       "      <td></td>\n",
       "      <td></td>\n",
       "      <td></td>\n",
       "      <td></td>\n",
       "      <td></td>\n",
       "    </tr>\n",
       "    <tr>\n",
       "      <th>5</th>\n",
       "      <td></td>\n",
       "      <td></td>\n",
       "      <td></td>\n",
       "      <td></td>\n",
       "      <td></td>\n",
       "      <td></td>\n",
       "      <td></td>\n",
       "      <td></td>\n",
       "      <td></td>\n",
       "      <td></td>\n",
       "      <td></td>\n",
       "      <td></td>\n",
       "      <td></td>\n",
       "      <td></td>\n",
       "      <td></td>\n",
       "      <td></td>\n",
       "      <td></td>\n",
       "    </tr>\n",
       "    <tr>\n",
       "      <th>6</th>\n",
       "      <td></td>\n",
       "      <td></td>\n",
       "      <td>경 기</td>\n",
       "      <td>득점\\n10</td>\n",
       "      <td>도 움</td>\n",
       "      <td>경 기</td>\n",
       "      <td>득점\\n2</td>\n",
       "      <td>도 움</td>\n",
       "      <td>경 기</td>\n",
       "      <td>득 점\\n-</td>\n",
       "      <td>도 움</td>\n",
       "      <td>경기</td>\n",
       "      <td>득점\\n0</td>\n",
       "      <td>도움</td>\n",
       "      <td>경 기</td>\n",
       "      <td>득점\\n12</td>\n",
       "      <td>도 움\\n7</td>\n",
       "    </tr>\n",
       "    <tr>\n",
       "      <th>7</th>\n",
       "      <td></td>\n",
       "      <td></td>\n",
       "      <td>3 1</td>\n",
       "      <td></td>\n",
       "      <td>4</td>\n",
       "      <td>4</td>\n",
       "      <td></td>\n",
       "      <td>1</td>\n",
       "      <td>-</td>\n",
       "      <td></td>\n",
       "      <td>-</td>\n",
       "      <td>8</td>\n",
       "      <td></td>\n",
       "      <td>2</td>\n",
       "      <td>4 3</td>\n",
       "      <td></td>\n",
       "      <td></td>\n",
       "    </tr>\n",
       "    <tr>\n",
       "      <th>8</th>\n",
       "      <td></td>\n",
       "      <td></td>\n",
       "      <td></td>\n",
       "      <td>11</td>\n",
       "      <td>2\\n2</td>\n",
       "      <td></td>\n",
       "      <td>1</td>\n",
       "      <td>0\\n-</td>\n",
       "      <td></td>\n",
       "      <td>-</td>\n",
       "      <td>10\\n-\\n[75]</td>\n",
       "      <td></td>\n",
       "      <td>5\\n[76]</td>\n",
       "      <td>4 2\\n1\\n[77]</td>\n",
       "      <td></td>\n",
       "      <td>17</td>\n",
       "      <td>3</td>\n",
       "    </tr>\n",
       "    <tr>\n",
       "      <th>9</th>\n",
       "      <td>15-1\\n1\\n6</td>\n",
       "      <td></td>\n",
       "      <td></td>\n",
       "      <td>0</td>\n",
       "      <td>0\\n-</td>\n",
       "      <td></td>\n",
       "      <td>-</td>\n",
       "      <td>-\\n-</td>\n",
       "      <td></td>\n",
       "      <td>-</td>\n",
       "      <td>1\\n-\\n[78]</td>\n",
       "      <td></td>\n",
       "      <td>0</td>\n",
       "      <td>0\\n2</td>\n",
       "      <td></td>\n",
       "      <td>0</td>\n",
       "      <td>0</td>\n",
       "    </tr>\n",
       "  </tbody>\n",
       "</table>\n",
       "</div>"
      ],
      "text/plain": [
       "  7 3\\n3 0\\n2 7\\n리그\\nDFB 포칼\\n-\\n대륙 대항전\\n총합\\n시즌\\n구단\\n10-11\\n11-12\\n함부르크\\n12-1\\n3\\n3시즌\\n합계\\n리그\\nDFB 포칼\\n-\\n대륙 대항전\\n총합\\n시즌\\n구단\\n13-1\\n4[74]\\n14-1\\n레버쿠젠\\n5  \\\n",
       "0                                                                                                                                                         \n",
       "1                                                                                                                                                         \n",
       "2                                                                                                                                                         \n",
       "3                                                                                                                                                         \n",
       "4                                                                                                                                                         \n",
       "5                                                                                                                                                         \n",
       "6                                                                                                                                                         \n",
       "7                                                                                                                                                         \n",
       "8                                                                                                                                                         \n",
       "9                                         15-1\\n1\\n6                                                                                                      \n",
       "\n",
       "                                                                              \\\n",
       "0    경 기   득점\\n3      도 움  경 기  득점\\n0      도 움  경 기  득 점\\n-          도 움  경기   \n",
       "1    1 3                0    1               0    -                    -   -   \n",
       "2              5     1\\n3           0     0\\n-            -         -\\n-       \n",
       "3    3 3  12\\n20  2\\n3\\n5    1   0\\n0  0\\n0\\n-    -    -\\n-      -\\n-\\n-   -   \n",
       "4                                                                              \n",
       "5                                                                              \n",
       "6    경 기  득점\\n10      도 움  경 기  득점\\n2      도 움  경 기  득 점\\n-          도 움  경기   \n",
       "7    3 1                4    4               1    -                    -   8   \n",
       "8             11     2\\n2           1     0\\n-            -  10\\n-\\n[75]       \n",
       "9              0     0\\n-           -     -\\n-            -   1\\n-\\n[78]       \n",
       "\n",
       "                                               \n",
       "0    득점\\n-            도움  경 기   득점\\n3  도 움\\n0  \n",
       "1                      -  1 4                  \n",
       "2        -        3 0\\n-            5       1  \n",
       "3     -\\n-     7 8\\n-\\n-  3 4  12\\n20    2\\n3  \n",
       "4                                              \n",
       "5                                              \n",
       "6    득점\\n0            도움  경 기  득점\\n12  도 움\\n7  \n",
       "7                      2  4 3                  \n",
       "8  5\\n[76]  4 2\\n1\\n[77]           17       3  \n",
       "9        0          0\\n2            0       0  "
      ]
     },
     "execution_count": 111,
     "metadata": {},
     "output_type": "execute_result"
    }
   ],
   "source": [
    "#파싱 결과 확인\n",
    "table_dfs[0]"
   ]
  },
  {
   "cell_type": "code",
   "execution_count": 112,
   "metadata": {
    "colab": {
     "base_uri": "https://localhost:8080/"
    },
    "executionInfo": {
     "elapsed": 343,
     "status": "ok",
     "timestamp": 1728724361528,
     "user": {
      "displayName": "한두솔",
      "userId": "14744311692633150263"
     },
     "user_tz": -540
    },
    "id": "uVa1BO3XbmGn",
    "outputId": "4f6ca444-bf12-4eb9-c31b-dc849b8e7fec"
   },
   "outputs": [
    {
     "ename": "KeyError",
     "evalue": "'클럽'",
     "output_type": "error",
     "traceback": [
      "\u001b[31m---------------------------------------------------------------------------\u001b[39m",
      "\u001b[31mKeyError\u001b[39m                                  Traceback (most recent call last)",
      "\u001b[36mFile \u001b[39m\u001b[32m~/.pyenv/versions/3.11.6/lib/python3.11/site-packages/pandas/core/indexes/base.py:3805\u001b[39m, in \u001b[36mIndex.get_loc\u001b[39m\u001b[34m(self, key)\u001b[39m\n\u001b[32m   3804\u001b[39m \u001b[38;5;28;01mtry\u001b[39;00m:\n\u001b[32m-> \u001b[39m\u001b[32m3805\u001b[39m     \u001b[38;5;28;01mreturn\u001b[39;00m \u001b[38;5;28;43mself\u001b[39;49m\u001b[43m.\u001b[49m\u001b[43m_engine\u001b[49m\u001b[43m.\u001b[49m\u001b[43mget_loc\u001b[49m\u001b[43m(\u001b[49m\u001b[43mcasted_key\u001b[49m\u001b[43m)\u001b[49m\n\u001b[32m   3806\u001b[39m \u001b[38;5;28;01mexcept\u001b[39;00m \u001b[38;5;167;01mKeyError\u001b[39;00m \u001b[38;5;28;01mas\u001b[39;00m err:\n",
      "\u001b[36mFile \u001b[39m\u001b[32mindex.pyx:167\u001b[39m, in \u001b[36mpandas._libs.index.IndexEngine.get_loc\u001b[39m\u001b[34m()\u001b[39m\n",
      "\u001b[36mFile \u001b[39m\u001b[32mindex.pyx:191\u001b[39m, in \u001b[36mpandas._libs.index.IndexEngine.get_loc\u001b[39m\u001b[34m()\u001b[39m\n",
      "\u001b[36mFile \u001b[39m\u001b[32mindex.pyx:234\u001b[39m, in \u001b[36mpandas._libs.index.IndexEngine._get_loc_duplicates\u001b[39m\u001b[34m()\u001b[39m\n",
      "\u001b[36mFile \u001b[39m\u001b[32mindex.pyx:242\u001b[39m, in \u001b[36mpandas._libs.index.IndexEngine._maybe_get_bool_indexer\u001b[39m\u001b[34m()\u001b[39m\n",
      "\u001b[36mFile \u001b[39m\u001b[32mindex.pyx:134\u001b[39m, in \u001b[36mpandas._libs.index._unpack_bool_indexer\u001b[39m\u001b[34m()\u001b[39m\n",
      "\u001b[31mKeyError\u001b[39m: '클럽'",
      "\nThe above exception was the direct cause of the following exception:\n",
      "\u001b[31mKeyError\u001b[39m                                  Traceback (most recent call last)",
      "\u001b[36mCell\u001b[39m\u001b[36m \u001b[39m\u001b[32mIn[112]\u001b[39m\u001b[32m, line 4\u001b[39m\n\u001b[32m      1\u001b[39m \u001b[38;5;28;01mimport\u001b[39;00m\u001b[38;5;250m \u001b[39m\u001b[34;01mpandas\u001b[39;00m\u001b[38;5;250m \u001b[39m\u001b[38;5;28;01mas\u001b[39;00m\u001b[38;5;250m \u001b[39m\u001b[34;01mpd\u001b[39;00m\n\u001b[32m      2\u001b[39m df = table_dfs[\u001b[32m0\u001b[39m].replace(\u001b[33m'\u001b[39m\u001b[38;5;130;01m\\n\u001b[39;00m\u001b[33m'\u001b[39m, \u001b[33m'\u001b[39m\u001b[33m'\u001b[39m, regex=\u001b[38;5;28;01mTrue\u001b[39;00m)\n\u001b[32m----> \u001b[39m\u001b[32m4\u001b[39m df[\u001b[33m'\u001b[39m\u001b[33m클럽\u001b[39m\u001b[33m'\u001b[39m] = \u001b[43mdf\u001b[49m\u001b[43m[\u001b[49m\u001b[33;43m'\u001b[39;49m\u001b[33;43m클럽\u001b[39;49m\u001b[33;43m'\u001b[39;49m\u001b[43m]\u001b[49m.replace(\u001b[33m'\u001b[39m\u001b[33m'\u001b[39m, pd.NA).fillna(method=\u001b[33m'\u001b[39m\u001b[33mffill\u001b[39m\u001b[33m'\u001b[39m)\n\u001b[32m      5\u001b[39m df[\u001b[33m'\u001b[39m\u001b[33m시즌\u001b[39m\u001b[33m'\u001b[39m] = df[\u001b[33m'\u001b[39m\u001b[33m시즌\u001b[39m\u001b[33m'\u001b[39m].replace(\u001b[33m'\u001b[39m\u001b[33m'\u001b[39m, pd.NA).fillna(method=\u001b[33m'\u001b[39m\u001b[33mffill\u001b[39m\u001b[33m'\u001b[39m)\n\u001b[32m      7\u001b[39m df.columns = [\n\u001b[32m      8\u001b[39m     \u001b[33m'\u001b[39m\u001b[33m클럽\u001b[39m\u001b[33m'\u001b[39m, \u001b[33m'\u001b[39m\u001b[33m시즌\u001b[39m\u001b[33m'\u001b[39m, \u001b[33m'\u001b[39m\u001b[33m리그\u001b[39m\u001b[33m'\u001b[39m, \u001b[33m'\u001b[39m\u001b[33m리그_경기\u001b[39m\u001b[33m'\u001b[39m, \u001b[33m'\u001b[39m\u001b[33m리그_골\u001b[39m\u001b[33m'\u001b[39m, \u001b[33m'\u001b[39m\u001b[33m리그_도움\u001b[39m\u001b[33m'\u001b[39m,\n\u001b[32m      9\u001b[39m     \u001b[33m'\u001b[39m\u001b[33m국내컵_경기\u001b[39m\u001b[33m'\u001b[39m, \u001b[33m'\u001b[39m\u001b[33m국내컵_골\u001b[39m\u001b[33m'\u001b[39m, \u001b[33m'\u001b[39m\u001b[33m국내컵_도움\u001b[39m\u001b[33m'\u001b[39m, \u001b[33m'\u001b[39m\u001b[33m리그컵_경기\u001b[39m\u001b[33m'\u001b[39m,\n\u001b[32m     10\u001b[39m     \u001b[33m'\u001b[39m\u001b[33m리그컵_골\u001b[39m\u001b[33m'\u001b[39m, \u001b[33m'\u001b[39m\u001b[33m리그컵_도움\u001b[39m\u001b[33m'\u001b[39m, \u001b[33m'\u001b[39m\u001b[33mUEFA_경기\u001b[39m\u001b[33m'\u001b[39m, \u001b[33m'\u001b[39m\u001b[33mUEFA_골\u001b[39m\u001b[33m'\u001b[39m, \u001b[33m'\u001b[39m\u001b[33mUEFA_도움\u001b[39m\u001b[33m'\u001b[39m,\n\u001b[32m     11\u001b[39m     \u001b[33m'\u001b[39m\u001b[33m합계_경기\u001b[39m\u001b[33m'\u001b[39m, \u001b[33m'\u001b[39m\u001b[33m합계_골\u001b[39m\u001b[33m'\u001b[39m, \u001b[33m'\u001b[39m\u001b[33m합계_도움\u001b[39m\u001b[33m'\u001b[39m\n\u001b[32m     12\u001b[39m ]\n",
      "\u001b[36mFile \u001b[39m\u001b[32m~/.pyenv/versions/3.11.6/lib/python3.11/site-packages/pandas/core/frame.py:4102\u001b[39m, in \u001b[36mDataFrame.__getitem__\u001b[39m\u001b[34m(self, key)\u001b[39m\n\u001b[32m   4100\u001b[39m \u001b[38;5;28;01mif\u001b[39;00m \u001b[38;5;28mself\u001b[39m.columns.nlevels > \u001b[32m1\u001b[39m:\n\u001b[32m   4101\u001b[39m     \u001b[38;5;28;01mreturn\u001b[39;00m \u001b[38;5;28mself\u001b[39m._getitem_multilevel(key)\n\u001b[32m-> \u001b[39m\u001b[32m4102\u001b[39m indexer = \u001b[38;5;28;43mself\u001b[39;49m\u001b[43m.\u001b[49m\u001b[43mcolumns\u001b[49m\u001b[43m.\u001b[49m\u001b[43mget_loc\u001b[49m\u001b[43m(\u001b[49m\u001b[43mkey\u001b[49m\u001b[43m)\u001b[49m\n\u001b[32m   4103\u001b[39m \u001b[38;5;28;01mif\u001b[39;00m is_integer(indexer):\n\u001b[32m   4104\u001b[39m     indexer = [indexer]\n",
      "\u001b[36mFile \u001b[39m\u001b[32m~/.pyenv/versions/3.11.6/lib/python3.11/site-packages/pandas/core/indexes/base.py:3812\u001b[39m, in \u001b[36mIndex.get_loc\u001b[39m\u001b[34m(self, key)\u001b[39m\n\u001b[32m   3807\u001b[39m     \u001b[38;5;28;01mif\u001b[39;00m \u001b[38;5;28misinstance\u001b[39m(casted_key, \u001b[38;5;28mslice\u001b[39m) \u001b[38;5;129;01mor\u001b[39;00m (\n\u001b[32m   3808\u001b[39m         \u001b[38;5;28misinstance\u001b[39m(casted_key, abc.Iterable)\n\u001b[32m   3809\u001b[39m         \u001b[38;5;129;01mand\u001b[39;00m \u001b[38;5;28many\u001b[39m(\u001b[38;5;28misinstance\u001b[39m(x, \u001b[38;5;28mslice\u001b[39m) \u001b[38;5;28;01mfor\u001b[39;00m x \u001b[38;5;129;01min\u001b[39;00m casted_key)\n\u001b[32m   3810\u001b[39m     ):\n\u001b[32m   3811\u001b[39m         \u001b[38;5;28;01mraise\u001b[39;00m InvalidIndexError(key)\n\u001b[32m-> \u001b[39m\u001b[32m3812\u001b[39m     \u001b[38;5;28;01mraise\u001b[39;00m \u001b[38;5;167;01mKeyError\u001b[39;00m(key) \u001b[38;5;28;01mfrom\u001b[39;00m\u001b[38;5;250m \u001b[39m\u001b[34;01merr\u001b[39;00m\n\u001b[32m   3813\u001b[39m \u001b[38;5;28;01mexcept\u001b[39;00m \u001b[38;5;167;01mTypeError\u001b[39;00m:\n\u001b[32m   3814\u001b[39m     \u001b[38;5;66;03m# If we have a listlike key, _check_indexing_error will raise\u001b[39;00m\n\u001b[32m   3815\u001b[39m     \u001b[38;5;66;03m#  InvalidIndexError. Otherwise we fall through and re-raise\u001b[39;00m\n\u001b[32m   3816\u001b[39m     \u001b[38;5;66;03m#  the TypeError.\u001b[39;00m\n\u001b[32m   3817\u001b[39m     \u001b[38;5;28mself\u001b[39m._check_indexing_error(key)\n",
      "\u001b[31mKeyError\u001b[39m: '클럽'"
     ]
    }
   ],
   "source": [
    "import pandas as pd\n",
    "df = table_dfs[0].replace('\\n', '', regex=True)\n",
    "\n",
    "df['클럽'] = df['클럽'].replace('', pd.NA).fillna(method='ffill')\n",
    "df['시즌'] = df['시즌'].replace('', pd.NA).fillna(method='ffill')\n",
    "\n",
    "df.columns = [\n",
    "    '클럽', '시즌', '리그', '리그_경기', '리그_골', '리그_도움',\n",
    "    '국내컵_경기', '국내컵_골', '국내컵_도움', '리그컵_경기',\n",
    "    '리그컵_골', '리그컵_도움', 'UEFA_경기', 'UEFA_골', 'UEFA_도움',\n",
    "    '합계_경기', '합계_골', '합계_도움'\n",
    "]\n",
    "\n",
    "df = df.replace('—', pd.NA)\n",
    "\n",
    "numeric_columns = [\n",
    "    '리그_경기', '리그_골', '리그_도움',\n",
    "    '국내컵_경기', '국내컵_골', '국내컵_도움',\n",
    "    '리그컵_경기', '리그컵_골', '리그컵_도움',\n",
    "    'UEFA_경기', 'UEFA_골', 'UEFA_도움',\n",
    "    '합계_경기', '합계_골', '합계_도움'\n",
    "]\n",
    "\n",
    "df[numeric_columns] = df[numeric_columns].apply(pd.to_numeric, errors='coerce')\n",
    "df = df.drop(index=0)\n",
    "\n",
    "df = df.reset_index(drop=True)\n",
    "table_dfs[0] = df"
   ]
  },
  {
   "cell_type": "code",
   "execution_count": 56,
   "metadata": {
    "colab": {
     "base_uri": "https://localhost:8080/",
     "height": 988
    },
    "executionInfo": {
     "elapsed": 365,
     "status": "ok",
     "timestamp": 1728724364836,
     "user": {
      "displayName": "한두솔",
      "userId": "14744311692633150263"
     },
     "user_tz": -540
    },
    "id": "NAES3irrbrlx",
    "outputId": "12af880c-579e-4a4a-8a5a-56aee347ae4b"
   },
   "outputs": [
    {
     "data": {
      "application/vnd.google.colaboratory.intrinsic+json": {
       "summary": "{\n  \"name\": \"df\",\n  \"rows\": 20,\n  \"fields\": [\n    {\n      \"column\": \"\\ud074\\ub7fd\",\n      \"properties\": {\n        \"dtype\": \"category\",\n        \"num_unique_values\": 5,\n        \"samples\": [\n          \"\\ud568\\ubd80\\ub974\\ud06c SV\",\n          \"\\ud074\\ub7fd \\uacbd\\ub825 \\ud1b5\\uc0b0\",\n          \"\\ubc14\\uc774\\uc5b404 \\ub808\\ubc84\\ucfe0\\uc820\"\n        ],\n        \"semantic_type\": \"\",\n        \"description\": \"\"\n      }\n    },\n    {\n      \"column\": \"\\uc2dc\\uc98c\",\n      \"properties\": {\n        \"dtype\": \"string\",\n        \"num_unique_values\": 16,\n        \"samples\": [\n          \"2009-10\",\n          \"2010-11\",\n          \"2013-14\"\n        ],\n        \"semantic_type\": \"\",\n        \"description\": \"\"\n      }\n    },\n    {\n      \"column\": \"\\ub9ac\\uadf8\",\n      \"properties\": {\n        \"dtype\": \"category\",\n        \"num_unique_values\": 4,\n        \"samples\": [\n          \"\\ubd84\\ub370\\uc2a4\\ub9ac\\uac00\",\n          \"\\ud504\\ub9ac\\ubbf8\\uc5b4\\ub9ac\\uadf8\",\n          \"\\ub808\\uae30\\uc624\\ub0a0\\ub9ac\\uac00\\ub178\\ub4dc\"\n        ],\n        \"semantic_type\": \"\",\n        \"description\": \"\"\n      }\n    },\n    {\n      \"column\": \"\\ub9ac\\uadf8_\\uacbd\\uae30\",\n      \"properties\": {\n        \"dtype\": \"number\",\n        \"std\": 105.4576991773928,\n        \"min\": 1.0,\n        \"max\": 428.0,\n        \"num_unique_values\": 17,\n        \"samples\": [\n          6.0,\n          13.0,\n          31.0\n        ],\n        \"semantic_type\": \"\",\n        \"description\": \"\"\n      }\n    },\n    {\n      \"column\": \"\\ub9ac\\uadf8_\\uace8\",\n      \"properties\": {\n        \"dtype\": \"number\",\n        \"std\": 40.30472742286665,\n        \"min\": 0.0,\n        \"max\": 158.0,\n        \"num_unique_values\": 15,\n        \"samples\": [\n          4.0,\n          17.0,\n          1.0\n        ],\n        \"semantic_type\": \"\",\n        \"description\": \"\"\n      }\n    },\n    {\n      \"column\": \"\\ub9ac\\uadf8_\\ub3c4\\uc6c0\",\n      \"properties\": {\n        \"dtype\": \"number\",\n        \"std\": 18.843608437541054,\n        \"min\": 0.0,\n        \"max\": 69.0,\n        \"num_unique_values\": 11,\n        \"samples\": [\n          6.0,\n          0.0,\n          60.0\n        ],\n        \"semantic_type\": \"\",\n        \"description\": \"\"\n      }\n    },\n    {\n      \"column\": \"\\uad6d\\ub0b4\\ucef5_\\uacbd\\uae30\",\n      \"properties\": {\n        \"dtype\": \"number\",\n        \"std\": 10.001461881449226,\n        \"min\": 0.0,\n        \"max\": 39.0,\n        \"num_unique_values\": 10,\n        \"samples\": [\n          28.0,\n          3.0,\n          0.0\n        ],\n        \"semantic_type\": \"\",\n        \"description\": \"\"\n      }\n    },\n    {\n      \"column\": \"\\uad6d\\ub0b4\\ucef5_\\uace8\",\n      \"properties\": {\n        \"dtype\": \"number\",\n        \"std\": 4.784844495080824,\n        \"min\": 0.0,\n        \"max\": 17.0,\n        \"num_unique_values\": 7,\n        \"samples\": [\n          0.0,\n          2.0,\n          14.0\n        ],\n        \"semantic_type\": \"\",\n        \"description\": \"\"\n      }\n    },\n    {\n      \"column\": \"\\uad6d\\ub0b4\\ucef5_\\ub3c4\\uc6c0\",\n      \"properties\": {\n        \"dtype\": \"number\",\n        \"std\": 3.57296541703737,\n        \"min\": 0.0,\n        \"max\": 12.0,\n        \"num_unique_values\": 7,\n        \"samples\": [\n          0.0,\n          1.0,\n          11.0\n        ],\n        \"semantic_type\": \"\",\n        \"description\": \"\"\n      }\n    },\n    {\n      \"column\": \"\\ub9ac\\uadf8\\ucef5_\\uacbd\\uae30\",\n      \"properties\": {\n        \"dtype\": \"number\",\n        \"std\": 5.9206879207187955,\n        \"min\": 0.0,\n        \"max\": 16.0,\n        \"num_unique_values\": 6,\n        \"samples\": [\n          1.0,\n          0.0,\n          16.0\n        ],\n        \"semantic_type\": \"\",\n        \"description\": \"\"\n      }\n    },\n    {\n      \"column\": \"\\ub9ac\\uadf8\\ucef5_\\uace8\",\n      \"properties\": {\n        \"dtype\": \"number\",\n        \"std\": 1.7002673586554236,\n        \"min\": 0.0,\n        \"max\": 4.0,\n        \"num_unique_values\": 4,\n        \"samples\": [\n          3.0,\n          4.0,\n          0.0\n        ],\n        \"semantic_type\": \"\",\n        \"description\": \"\"\n      }\n    },\n    {\n      \"column\": \"\\ub9ac\\uadf8\\ucef5_\\ub3c4\\uc6c0\",\n      \"properties\": {\n        \"dtype\": \"number\",\n        \"std\": 0.9341987329938275,\n        \"min\": 0.0,\n        \"max\": 2.0,\n        \"num_unique_values\": 2,\n        \"samples\": [\n          2.0,\n          0.0\n        ],\n        \"semantic_type\": \"\",\n        \"description\": \"\"\n      }\n    },\n    {\n      \"column\": \"UEFA_\\uacbd\\uae30\",\n      \"properties\": {\n        \"dtype\": \"number\",\n        \"std\": 35.004285451927174,\n        \"min\": 0.0,\n        \"max\": 80.0,\n        \"num_unique_values\": 5,\n        \"samples\": [\n          8.0,\n          80.0\n        ],\n        \"semantic_type\": \"\",\n        \"description\": \"\"\n      }\n    },\n    {\n      \"column\": \"UEFA_\\uace8\",\n      \"properties\": {\n        \"dtype\": \"number\",\n        \"std\": 8.661903452969874,\n        \"min\": 0.0,\n        \"max\": 29.0,\n        \"num_unique_values\": 8,\n        \"samples\": [\n          5.0,\n          2.0\n        ],\n        \"semantic_type\": \"\",\n        \"description\": \"\"\n      }\n    },\n    {\n      \"column\": \"UEFA_\\ub3c4\\uc6c0\",\n      \"properties\": {\n        \"dtype\": \"number\",\n        \"std\": 4.178174584330202,\n        \"min\": 0.0,\n        \"max\": 14.0,\n        \"num_unique_values\": 7,\n        \"samples\": [\n          2.0,\n          1.0\n        ],\n        \"semantic_type\": \"\",\n        \"description\": \"\"\n      }\n    },\n    {\n      \"column\": \"\\ud569\\uacc4_\\uacbd\\uae30\",\n      \"properties\": {\n        \"dtype\": \"number\",\n        \"std\": 139.43377035635763,\n        \"min\": 2.0,\n        \"max\": 563.0,\n        \"num_unique_values\": 19,\n        \"samples\": [\n          6.0,\n          43.0\n        ],\n        \"semantic_type\": \"\",\n        \"description\": \"\"\n      }\n    },\n    {\n      \"column\": \"\\ud569\\uacc4_\\uace8\",\n      \"properties\": {\n        \"dtype\": \"number\",\n        \"std\": 53.24805407860361,\n        \"min\": 0.0,\n        \"max\": 208.0,\n        \"num_unique_values\": 16,\n        \"samples\": [\n          1.0,\n          3.0\n        ],\n        \"semantic_type\": \"\",\n        \"description\": \"\"\n      }\n    },\n    {\n      \"column\": \"\\ud569\\uacc4_\\ub3c4\\uc6c0\",\n      \"properties\": {\n        \"dtype\": \"number\",\n        \"std\": 26.444529829337803,\n        \"min\": 0.0,\n        \"max\": 97.0,\n        \"num_unique_values\": 14,\n        \"samples\": [\n          12.0,\n          8.0\n        ],\n        \"semantic_type\": \"\",\n        \"description\": \"\"\n      }\n    }\n  ]\n}",
       "type": "dataframe",
       "variable_name": "df"
      },
      "text/html": [
       "\n",
       "  <div id=\"df-8635231e-1087-436c-ac32-849bc2fe184f\" class=\"colab-df-container\">\n",
       "    <div>\n",
       "<style scoped>\n",
       "    .dataframe tbody tr th:only-of-type {\n",
       "        vertical-align: middle;\n",
       "    }\n",
       "\n",
       "    .dataframe tbody tr th {\n",
       "        vertical-align: top;\n",
       "    }\n",
       "\n",
       "    .dataframe thead th {\n",
       "        text-align: right;\n",
       "    }\n",
       "</style>\n",
       "<table border=\"1\" class=\"dataframe\">\n",
       "  <thead>\n",
       "    <tr style=\"text-align: right;\">\n",
       "      <th></th>\n",
       "      <th>클럽</th>\n",
       "      <th>시즌</th>\n",
       "      <th>리그</th>\n",
       "      <th>리그_경기</th>\n",
       "      <th>리그_골</th>\n",
       "      <th>리그_도움</th>\n",
       "      <th>국내컵_경기</th>\n",
       "      <th>국내컵_골</th>\n",
       "      <th>국내컵_도움</th>\n",
       "      <th>리그컵_경기</th>\n",
       "      <th>리그컵_골</th>\n",
       "      <th>리그컵_도움</th>\n",
       "      <th>UEFA_경기</th>\n",
       "      <th>UEFA_골</th>\n",
       "      <th>UEFA_도움</th>\n",
       "      <th>합계_경기</th>\n",
       "      <th>합계_골</th>\n",
       "      <th>합계_도움</th>\n",
       "    </tr>\n",
       "  </thead>\n",
       "  <tbody>\n",
       "    <tr>\n",
       "      <th>0</th>\n",
       "      <td>함부르크 SVII</td>\n",
       "      <td>2009-10</td>\n",
       "      <td>레기오날리가노드</td>\n",
       "      <td>6.0</td>\n",
       "      <td>1.0</td>\n",
       "      <td>0.0</td>\n",
       "      <td>NaN</td>\n",
       "      <td>NaN</td>\n",
       "      <td>NaN</td>\n",
       "      <td>NaN</td>\n",
       "      <td>NaN</td>\n",
       "      <td>NaN</td>\n",
       "      <td>NaN</td>\n",
       "      <td>NaN</td>\n",
       "      <td>NaN</td>\n",
       "      <td>6.0</td>\n",
       "      <td>1.0</td>\n",
       "      <td>0.0</td>\n",
       "    </tr>\n",
       "    <tr>\n",
       "      <th>1</th>\n",
       "      <td>함부르크 SV</td>\n",
       "      <td>2010-11</td>\n",
       "      <td>분데스리가</td>\n",
       "      <td>13.0</td>\n",
       "      <td>3.0</td>\n",
       "      <td>0.0</td>\n",
       "      <td>1.0</td>\n",
       "      <td>0.0</td>\n",
       "      <td>0.0</td>\n",
       "      <td>NaN</td>\n",
       "      <td>NaN</td>\n",
       "      <td>NaN</td>\n",
       "      <td>NaN</td>\n",
       "      <td>NaN</td>\n",
       "      <td>NaN</td>\n",
       "      <td>14.0</td>\n",
       "      <td>3.0</td>\n",
       "      <td>0.0</td>\n",
       "    </tr>\n",
       "    <tr>\n",
       "      <th>2</th>\n",
       "      <td>함부르크 SV</td>\n",
       "      <td>2011-12</td>\n",
       "      <td></td>\n",
       "      <td>27.0</td>\n",
       "      <td>5.0</td>\n",
       "      <td>1.0</td>\n",
       "      <td>3.0</td>\n",
       "      <td>0.0</td>\n",
       "      <td>0.0</td>\n",
       "      <td>NaN</td>\n",
       "      <td>NaN</td>\n",
       "      <td>NaN</td>\n",
       "      <td>NaN</td>\n",
       "      <td>NaN</td>\n",
       "      <td>NaN</td>\n",
       "      <td>30.0</td>\n",
       "      <td>5.0</td>\n",
       "      <td>1.0</td>\n",
       "    </tr>\n",
       "    <tr>\n",
       "      <th>3</th>\n",
       "      <td>함부르크 SV</td>\n",
       "      <td>2012-13</td>\n",
       "      <td></td>\n",
       "      <td>33.0</td>\n",
       "      <td>12.0</td>\n",
       "      <td>2.0</td>\n",
       "      <td>1.0</td>\n",
       "      <td>0.0</td>\n",
       "      <td>0.0</td>\n",
       "      <td>NaN</td>\n",
       "      <td>NaN</td>\n",
       "      <td>NaN</td>\n",
       "      <td>NaN</td>\n",
       "      <td>NaN</td>\n",
       "      <td>NaN</td>\n",
       "      <td>34.0</td>\n",
       "      <td>12.0</td>\n",
       "      <td>2.0</td>\n",
       "    </tr>\n",
       "    <tr>\n",
       "      <th>4</th>\n",
       "      <td>함부르크 SV</td>\n",
       "      <td>합계</td>\n",
       "      <td></td>\n",
       "      <td>73.0</td>\n",
       "      <td>20.0</td>\n",
       "      <td>3.0</td>\n",
       "      <td>5.0</td>\n",
       "      <td>0.0</td>\n",
       "      <td>0.0</td>\n",
       "      <td>NaN</td>\n",
       "      <td>NaN</td>\n",
       "      <td>NaN</td>\n",
       "      <td>NaN</td>\n",
       "      <td>NaN</td>\n",
       "      <td>NaN</td>\n",
       "      <td>78.0</td>\n",
       "      <td>20.0</td>\n",
       "      <td>3.0</td>\n",
       "    </tr>\n",
       "    <tr>\n",
       "      <th>5</th>\n",
       "      <td>바이어04 레버쿠젠</td>\n",
       "      <td>2013-14</td>\n",
       "      <td>분데스리가</td>\n",
       "      <td>31.0</td>\n",
       "      <td>10.0</td>\n",
       "      <td>4.0</td>\n",
       "      <td>4.0</td>\n",
       "      <td>2.0</td>\n",
       "      <td>1.0</td>\n",
       "      <td>NaN</td>\n",
       "      <td>NaN</td>\n",
       "      <td>NaN</td>\n",
       "      <td>NaN</td>\n",
       "      <td>0.0</td>\n",
       "      <td>2.0</td>\n",
       "      <td>43.0</td>\n",
       "      <td>12.0</td>\n",
       "      <td>7.0</td>\n",
       "    </tr>\n",
       "    <tr>\n",
       "      <th>6</th>\n",
       "      <td>바이어04 레버쿠젠</td>\n",
       "      <td>2014-15</td>\n",
       "      <td></td>\n",
       "      <td>30.0</td>\n",
       "      <td>11.0</td>\n",
       "      <td>2.0</td>\n",
       "      <td>2.0</td>\n",
       "      <td>1.0</td>\n",
       "      <td>0.0</td>\n",
       "      <td>NaN</td>\n",
       "      <td>NaN</td>\n",
       "      <td>NaN</td>\n",
       "      <td>NaN</td>\n",
       "      <td>5.0</td>\n",
       "      <td>1.0</td>\n",
       "      <td>42.0</td>\n",
       "      <td>17.0</td>\n",
       "      <td>3.0</td>\n",
       "    </tr>\n",
       "    <tr>\n",
       "      <th>7</th>\n",
       "      <td>바이어04 레버쿠젠</td>\n",
       "      <td>2015-16</td>\n",
       "      <td></td>\n",
       "      <td>1.0</td>\n",
       "      <td>0.0</td>\n",
       "      <td>0.0</td>\n",
       "      <td>0.0</td>\n",
       "      <td>0.0</td>\n",
       "      <td>0.0</td>\n",
       "      <td>NaN</td>\n",
       "      <td>NaN</td>\n",
       "      <td>NaN</td>\n",
       "      <td>NaN</td>\n",
       "      <td>0.0</td>\n",
       "      <td>0.0</td>\n",
       "      <td>2.0</td>\n",
       "      <td>0.0</td>\n",
       "      <td>0.0</td>\n",
       "    </tr>\n",
       "    <tr>\n",
       "      <th>8</th>\n",
       "      <td>바이어04 레버쿠젠</td>\n",
       "      <td>합계</td>\n",
       "      <td></td>\n",
       "      <td>62.0</td>\n",
       "      <td>21.0</td>\n",
       "      <td>6.0</td>\n",
       "      <td>6.0</td>\n",
       "      <td>3.0</td>\n",
       "      <td>1.0</td>\n",
       "      <td>NaN</td>\n",
       "      <td>NaN</td>\n",
       "      <td>NaN</td>\n",
       "      <td>19.0</td>\n",
       "      <td>5.0</td>\n",
       "      <td>3.0</td>\n",
       "      <td>87.0</td>\n",
       "      <td>29.0</td>\n",
       "      <td>10.0</td>\n",
       "    </tr>\n",
       "    <tr>\n",
       "      <th>9</th>\n",
       "      <td>토트넘홋스퍼</td>\n",
       "      <td>2015-16</td>\n",
       "      <td>프리미어리그</td>\n",
       "      <td>28.0</td>\n",
       "      <td>4.0</td>\n",
       "      <td>1.0</td>\n",
       "      <td>4.0</td>\n",
       "      <td>1.0</td>\n",
       "      <td>1.0</td>\n",
       "      <td>1.0</td>\n",
       "      <td>0.0</td>\n",
       "      <td>0.0</td>\n",
       "      <td>NaN</td>\n",
       "      <td>3.0</td>\n",
       "      <td>4.0</td>\n",
       "      <td>40.0</td>\n",
       "      <td>8.0</td>\n",
       "      <td>6.0</td>\n",
       "    </tr>\n",
       "    <tr>\n",
       "      <th>10</th>\n",
       "      <td>토트넘홋스퍼</td>\n",
       "      <td>2016-17</td>\n",
       "      <td></td>\n",
       "      <td>34.0</td>\n",
       "      <td>14.0</td>\n",
       "      <td>6.0</td>\n",
       "      <td>5.0</td>\n",
       "      <td>6.0</td>\n",
       "      <td>1.0</td>\n",
       "      <td>0.0</td>\n",
       "      <td>0.0</td>\n",
       "      <td>0.0</td>\n",
       "      <td>NaN</td>\n",
       "      <td>1.0</td>\n",
       "      <td>0.0</td>\n",
       "      <td>47.0</td>\n",
       "      <td>21.0</td>\n",
       "      <td>7.0</td>\n",
       "    </tr>\n",
       "    <tr>\n",
       "      <th>11</th>\n",
       "      <td>토트넘홋스퍼</td>\n",
       "      <td>2017-18</td>\n",
       "      <td></td>\n",
       "      <td>37.0</td>\n",
       "      <td>12.0</td>\n",
       "      <td>6.0</td>\n",
       "      <td>7.0</td>\n",
       "      <td>2.0</td>\n",
       "      <td>3.0</td>\n",
       "      <td>2.0</td>\n",
       "      <td>0.0</td>\n",
       "      <td>2.0</td>\n",
       "      <td>NaN</td>\n",
       "      <td>4.0</td>\n",
       "      <td>0.0</td>\n",
       "      <td>53.0</td>\n",
       "      <td>18.0</td>\n",
       "      <td>11.0</td>\n",
       "    </tr>\n",
       "    <tr>\n",
       "      <th>12</th>\n",
       "      <td>토트넘홋스퍼</td>\n",
       "      <td>2018-19</td>\n",
       "      <td></td>\n",
       "      <td>31.0</td>\n",
       "      <td>12.0</td>\n",
       "      <td>6.0</td>\n",
       "      <td>1.0</td>\n",
       "      <td>1.0</td>\n",
       "      <td>2.0</td>\n",
       "      <td>4.0</td>\n",
       "      <td>3.0</td>\n",
       "      <td>0.0</td>\n",
       "      <td>NaN</td>\n",
       "      <td>4.0</td>\n",
       "      <td>1.0</td>\n",
       "      <td>48.0</td>\n",
       "      <td>20.0</td>\n",
       "      <td>9.0</td>\n",
       "    </tr>\n",
       "    <tr>\n",
       "      <th>13</th>\n",
       "      <td>토트넘홋스퍼</td>\n",
       "      <td>2019-20</td>\n",
       "      <td></td>\n",
       "      <td>30.0</td>\n",
       "      <td>11.0</td>\n",
       "      <td>10.0</td>\n",
       "      <td>4.0</td>\n",
       "      <td>2.0</td>\n",
       "      <td>0.0</td>\n",
       "      <td>1.0</td>\n",
       "      <td>0.0</td>\n",
       "      <td>0.0</td>\n",
       "      <td>NaN</td>\n",
       "      <td>5.0</td>\n",
       "      <td>2.0</td>\n",
       "      <td>41.0</td>\n",
       "      <td>18.0</td>\n",
       "      <td>12.0</td>\n",
       "    </tr>\n",
       "    <tr>\n",
       "      <th>14</th>\n",
       "      <td>토트넘홋스퍼</td>\n",
       "      <td>2020-21</td>\n",
       "      <td></td>\n",
       "      <td>37.0</td>\n",
       "      <td>17.0</td>\n",
       "      <td>10.0</td>\n",
       "      <td>2.0</td>\n",
       "      <td>0.0</td>\n",
       "      <td>4.0</td>\n",
       "      <td>3.0</td>\n",
       "      <td>1.0</td>\n",
       "      <td>0.0</td>\n",
       "      <td>NaN</td>\n",
       "      <td>4.0</td>\n",
       "      <td>3.0</td>\n",
       "      <td>51.0</td>\n",
       "      <td>22.0</td>\n",
       "      <td>17.0</td>\n",
       "    </tr>\n",
       "    <tr>\n",
       "      <th>15</th>\n",
       "      <td>토트넘홋스퍼</td>\n",
       "      <td>2021-22</td>\n",
       "      <td></td>\n",
       "      <td>35.0</td>\n",
       "      <td>23.0</td>\n",
       "      <td>7.0</td>\n",
       "      <td>2.0</td>\n",
       "      <td>0.0</td>\n",
       "      <td>0.0</td>\n",
       "      <td>4.0</td>\n",
       "      <td>0.0</td>\n",
       "      <td>0.0</td>\n",
       "      <td>NaN</td>\n",
       "      <td>1.0</td>\n",
       "      <td>1.0</td>\n",
       "      <td>45.0</td>\n",
       "      <td>24.0</td>\n",
       "      <td>8.0</td>\n",
       "    </tr>\n",
       "    <tr>\n",
       "      <th>16</th>\n",
       "      <td>토트넘홋스퍼</td>\n",
       "      <td>2022-23</td>\n",
       "      <td></td>\n",
       "      <td>36.0</td>\n",
       "      <td>10.0</td>\n",
       "      <td>6.0</td>\n",
       "      <td>3.0</td>\n",
       "      <td>2.0</td>\n",
       "      <td>0.0</td>\n",
       "      <td>0.0</td>\n",
       "      <td>0.0</td>\n",
       "      <td>0.0</td>\n",
       "      <td>8.0</td>\n",
       "      <td>2.0</td>\n",
       "      <td>0.0</td>\n",
       "      <td>47.0</td>\n",
       "      <td>14.0</td>\n",
       "      <td>6.0</td>\n",
       "    </tr>\n",
       "    <tr>\n",
       "      <th>17</th>\n",
       "      <td>토트넘홋스퍼</td>\n",
       "      <td>2023-24</td>\n",
       "      <td></td>\n",
       "      <td>32.0</td>\n",
       "      <td>17.0</td>\n",
       "      <td>8.0</td>\n",
       "      <td>0.0</td>\n",
       "      <td>0.0</td>\n",
       "      <td>0.0</td>\n",
       "      <td>1.0</td>\n",
       "      <td>0.0</td>\n",
       "      <td>0.0</td>\n",
       "      <td>0.0</td>\n",
       "      <td>0.0</td>\n",
       "      <td>0.0</td>\n",
       "      <td>26.0</td>\n",
       "      <td>14.0</td>\n",
       "      <td>8.0</td>\n",
       "    </tr>\n",
       "    <tr>\n",
       "      <th>18</th>\n",
       "      <td>토트넘홋스퍼</td>\n",
       "      <td>합계</td>\n",
       "      <td></td>\n",
       "      <td>300.0</td>\n",
       "      <td>120.0</td>\n",
       "      <td>60.0</td>\n",
       "      <td>28.0</td>\n",
       "      <td>14.0</td>\n",
       "      <td>11.0</td>\n",
       "      <td>16.0</td>\n",
       "      <td>4.0</td>\n",
       "      <td>2.0</td>\n",
       "      <td>61.0</td>\n",
       "      <td>24.0</td>\n",
       "      <td>11.0</td>\n",
       "      <td>398.0</td>\n",
       "      <td>159.0</td>\n",
       "      <td>84.0</td>\n",
       "    </tr>\n",
       "    <tr>\n",
       "      <th>19</th>\n",
       "      <td>클럽 경력 통산</td>\n",
       "      <td>합계</td>\n",
       "      <td></td>\n",
       "      <td>428.0</td>\n",
       "      <td>158.0</td>\n",
       "      <td>69.0</td>\n",
       "      <td>39.0</td>\n",
       "      <td>17.0</td>\n",
       "      <td>12.0</td>\n",
       "      <td>16.0</td>\n",
       "      <td>4.0</td>\n",
       "      <td>2.0</td>\n",
       "      <td>80.0</td>\n",
       "      <td>29.0</td>\n",
       "      <td>14.0</td>\n",
       "      <td>563.0</td>\n",
       "      <td>208.0</td>\n",
       "      <td>97.0</td>\n",
       "    </tr>\n",
       "  </tbody>\n",
       "</table>\n",
       "</div>\n",
       "    <div class=\"colab-df-buttons\">\n",
       "\n",
       "  <div class=\"colab-df-container\">\n",
       "    <button class=\"colab-df-convert\" onclick=\"convertToInteractive('df-8635231e-1087-436c-ac32-849bc2fe184f')\"\n",
       "            title=\"Convert this dataframe to an interactive table.\"\n",
       "            style=\"display:none;\">\n",
       "\n",
       "  <svg xmlns=\"http://www.w3.org/2000/svg\" height=\"24px\" viewBox=\"0 -960 960 960\">\n",
       "    <path d=\"M120-120v-720h720v720H120Zm60-500h600v-160H180v160Zm220 220h160v-160H400v160Zm0 220h160v-160H400v160ZM180-400h160v-160H180v160Zm440 0h160v-160H620v160ZM180-180h160v-160H180v160Zm440 0h160v-160H620v160Z\"/>\n",
       "  </svg>\n",
       "    </button>\n",
       "\n",
       "  <style>\n",
       "    .colab-df-container {\n",
       "      display:flex;\n",
       "      gap: 12px;\n",
       "    }\n",
       "\n",
       "    .colab-df-convert {\n",
       "      background-color: #E8F0FE;\n",
       "      border: none;\n",
       "      border-radius: 50%;\n",
       "      cursor: pointer;\n",
       "      display: none;\n",
       "      fill: #1967D2;\n",
       "      height: 32px;\n",
       "      padding: 0 0 0 0;\n",
       "      width: 32px;\n",
       "    }\n",
       "\n",
       "    .colab-df-convert:hover {\n",
       "      background-color: #E2EBFA;\n",
       "      box-shadow: 0px 1px 2px rgba(60, 64, 67, 0.3), 0px 1px 3px 1px rgba(60, 64, 67, 0.15);\n",
       "      fill: #174EA6;\n",
       "    }\n",
       "\n",
       "    .colab-df-buttons div {\n",
       "      margin-bottom: 4px;\n",
       "    }\n",
       "\n",
       "    [theme=dark] .colab-df-convert {\n",
       "      background-color: #3B4455;\n",
       "      fill: #D2E3FC;\n",
       "    }\n",
       "\n",
       "    [theme=dark] .colab-df-convert:hover {\n",
       "      background-color: #434B5C;\n",
       "      box-shadow: 0px 1px 3px 1px rgba(0, 0, 0, 0.15);\n",
       "      filter: drop-shadow(0px 1px 2px rgba(0, 0, 0, 0.3));\n",
       "      fill: #FFFFFF;\n",
       "    }\n",
       "  </style>\n",
       "\n",
       "    <script>\n",
       "      const buttonEl =\n",
       "        document.querySelector('#df-8635231e-1087-436c-ac32-849bc2fe184f button.colab-df-convert');\n",
       "      buttonEl.style.display =\n",
       "        google.colab.kernel.accessAllowed ? 'block' : 'none';\n",
       "\n",
       "      async function convertToInteractive(key) {\n",
       "        const element = document.querySelector('#df-8635231e-1087-436c-ac32-849bc2fe184f');\n",
       "        const dataTable =\n",
       "          await google.colab.kernel.invokeFunction('convertToInteractive',\n",
       "                                                    [key], {});\n",
       "        if (!dataTable) return;\n",
       "\n",
       "        const docLinkHtml = 'Like what you see? Visit the ' +\n",
       "          '<a target=\"_blank\" href=https://colab.research.google.com/notebooks/data_table.ipynb>data table notebook</a>'\n",
       "          + ' to learn more about interactive tables.';\n",
       "        element.innerHTML = '';\n",
       "        dataTable['output_type'] = 'display_data';\n",
       "        await google.colab.output.renderOutput(dataTable, element);\n",
       "        const docLink = document.createElement('div');\n",
       "        docLink.innerHTML = docLinkHtml;\n",
       "        element.appendChild(docLink);\n",
       "      }\n",
       "    </script>\n",
       "  </div>\n",
       "\n",
       "\n",
       "<div id=\"df-c2fe23d8-a98c-42a6-a644-e2443c1232d4\">\n",
       "  <button class=\"colab-df-quickchart\" onclick=\"quickchart('df-c2fe23d8-a98c-42a6-a644-e2443c1232d4')\"\n",
       "            title=\"Suggest charts\"\n",
       "            style=\"display:none;\">\n",
       "\n",
       "<svg xmlns=\"http://www.w3.org/2000/svg\" height=\"24px\"viewBox=\"0 0 24 24\"\n",
       "     width=\"24px\">\n",
       "    <g>\n",
       "        <path d=\"M19 3H5c-1.1 0-2 .9-2 2v14c0 1.1.9 2 2 2h14c1.1 0 2-.9 2-2V5c0-1.1-.9-2-2-2zM9 17H7v-7h2v7zm4 0h-2V7h2v10zm4 0h-2v-4h2v4z\"/>\n",
       "    </g>\n",
       "</svg>\n",
       "  </button>\n",
       "\n",
       "<style>\n",
       "  .colab-df-quickchart {\n",
       "      --bg-color: #E8F0FE;\n",
       "      --fill-color: #1967D2;\n",
       "      --hover-bg-color: #E2EBFA;\n",
       "      --hover-fill-color: #174EA6;\n",
       "      --disabled-fill-color: #AAA;\n",
       "      --disabled-bg-color: #DDD;\n",
       "  }\n",
       "\n",
       "  [theme=dark] .colab-df-quickchart {\n",
       "      --bg-color: #3B4455;\n",
       "      --fill-color: #D2E3FC;\n",
       "      --hover-bg-color: #434B5C;\n",
       "      --hover-fill-color: #FFFFFF;\n",
       "      --disabled-bg-color: #3B4455;\n",
       "      --disabled-fill-color: #666;\n",
       "  }\n",
       "\n",
       "  .colab-df-quickchart {\n",
       "    background-color: var(--bg-color);\n",
       "    border: none;\n",
       "    border-radius: 50%;\n",
       "    cursor: pointer;\n",
       "    display: none;\n",
       "    fill: var(--fill-color);\n",
       "    height: 32px;\n",
       "    padding: 0;\n",
       "    width: 32px;\n",
       "  }\n",
       "\n",
       "  .colab-df-quickchart:hover {\n",
       "    background-color: var(--hover-bg-color);\n",
       "    box-shadow: 0 1px 2px rgba(60, 64, 67, 0.3), 0 1px 3px 1px rgba(60, 64, 67, 0.15);\n",
       "    fill: var(--button-hover-fill-color);\n",
       "  }\n",
       "\n",
       "  .colab-df-quickchart-complete:disabled,\n",
       "  .colab-df-quickchart-complete:disabled:hover {\n",
       "    background-color: var(--disabled-bg-color);\n",
       "    fill: var(--disabled-fill-color);\n",
       "    box-shadow: none;\n",
       "  }\n",
       "\n",
       "  .colab-df-spinner {\n",
       "    border: 2px solid var(--fill-color);\n",
       "    border-color: transparent;\n",
       "    border-bottom-color: var(--fill-color);\n",
       "    animation:\n",
       "      spin 1s steps(1) infinite;\n",
       "  }\n",
       "\n",
       "  @keyframes spin {\n",
       "    0% {\n",
       "      border-color: transparent;\n",
       "      border-bottom-color: var(--fill-color);\n",
       "      border-left-color: var(--fill-color);\n",
       "    }\n",
       "    20% {\n",
       "      border-color: transparent;\n",
       "      border-left-color: var(--fill-color);\n",
       "      border-top-color: var(--fill-color);\n",
       "    }\n",
       "    30% {\n",
       "      border-color: transparent;\n",
       "      border-left-color: var(--fill-color);\n",
       "      border-top-color: var(--fill-color);\n",
       "      border-right-color: var(--fill-color);\n",
       "    }\n",
       "    40% {\n",
       "      border-color: transparent;\n",
       "      border-right-color: var(--fill-color);\n",
       "      border-top-color: var(--fill-color);\n",
       "    }\n",
       "    60% {\n",
       "      border-color: transparent;\n",
       "      border-right-color: var(--fill-color);\n",
       "    }\n",
       "    80% {\n",
       "      border-color: transparent;\n",
       "      border-right-color: var(--fill-color);\n",
       "      border-bottom-color: var(--fill-color);\n",
       "    }\n",
       "    90% {\n",
       "      border-color: transparent;\n",
       "      border-bottom-color: var(--fill-color);\n",
       "    }\n",
       "  }\n",
       "</style>\n",
       "\n",
       "  <script>\n",
       "    async function quickchart(key) {\n",
       "      const quickchartButtonEl =\n",
       "        document.querySelector('#' + key + ' button');\n",
       "      quickchartButtonEl.disabled = true;  // To prevent multiple clicks.\n",
       "      quickchartButtonEl.classList.add('colab-df-spinner');\n",
       "      try {\n",
       "        const charts = await google.colab.kernel.invokeFunction(\n",
       "            'suggestCharts', [key], {});\n",
       "      } catch (error) {\n",
       "        console.error('Error during call to suggestCharts:', error);\n",
       "      }\n",
       "      quickchartButtonEl.classList.remove('colab-df-spinner');\n",
       "      quickchartButtonEl.classList.add('colab-df-quickchart-complete');\n",
       "    }\n",
       "    (() => {\n",
       "      let quickchartButtonEl =\n",
       "        document.querySelector('#df-c2fe23d8-a98c-42a6-a644-e2443c1232d4 button');\n",
       "      quickchartButtonEl.style.display =\n",
       "        google.colab.kernel.accessAllowed ? 'block' : 'none';\n",
       "    })();\n",
       "  </script>\n",
       "</div>\n",
       "\n",
       "  <div id=\"id_5b03b9a4-44f7-4830-aa4e-830b08bdaf0a\">\n",
       "    <style>\n",
       "      .colab-df-generate {\n",
       "        background-color: #E8F0FE;\n",
       "        border: none;\n",
       "        border-radius: 50%;\n",
       "        cursor: pointer;\n",
       "        display: none;\n",
       "        fill: #1967D2;\n",
       "        height: 32px;\n",
       "        padding: 0 0 0 0;\n",
       "        width: 32px;\n",
       "      }\n",
       "\n",
       "      .colab-df-generate:hover {\n",
       "        background-color: #E2EBFA;\n",
       "        box-shadow: 0px 1px 2px rgba(60, 64, 67, 0.3), 0px 1px 3px 1px rgba(60, 64, 67, 0.15);\n",
       "        fill: #174EA6;\n",
       "      }\n",
       "\n",
       "      [theme=dark] .colab-df-generate {\n",
       "        background-color: #3B4455;\n",
       "        fill: #D2E3FC;\n",
       "      }\n",
       "\n",
       "      [theme=dark] .colab-df-generate:hover {\n",
       "        background-color: #434B5C;\n",
       "        box-shadow: 0px 1px 3px 1px rgba(0, 0, 0, 0.15);\n",
       "        filter: drop-shadow(0px 1px 2px rgba(0, 0, 0, 0.3));\n",
       "        fill: #FFFFFF;\n",
       "      }\n",
       "    </style>\n",
       "    <button class=\"colab-df-generate\" onclick=\"generateWithVariable('df')\"\n",
       "            title=\"Generate code using this dataframe.\"\n",
       "            style=\"display:none;\">\n",
       "\n",
       "  <svg xmlns=\"http://www.w3.org/2000/svg\" height=\"24px\"viewBox=\"0 0 24 24\"\n",
       "       width=\"24px\">\n",
       "    <path d=\"M7,19H8.4L18.45,9,17,7.55,7,17.6ZM5,21V16.75L18.45,3.32a2,2,0,0,1,2.83,0l1.4,1.43a1.91,1.91,0,0,1,.58,1.4,1.91,1.91,0,0,1-.58,1.4L9.25,21ZM18.45,9,17,7.55Zm-12,3A5.31,5.31,0,0,0,4.9,8.1,5.31,5.31,0,0,0,1,6.5,5.31,5.31,0,0,0,4.9,4.9,5.31,5.31,0,0,0,6.5,1,5.31,5.31,0,0,0,8.1,4.9,5.31,5.31,0,0,0,12,6.5,5.46,5.46,0,0,0,6.5,12Z\"/>\n",
       "  </svg>\n",
       "    </button>\n",
       "    <script>\n",
       "      (() => {\n",
       "      const buttonEl =\n",
       "        document.querySelector('#id_5b03b9a4-44f7-4830-aa4e-830b08bdaf0a button.colab-df-generate');\n",
       "      buttonEl.style.display =\n",
       "        google.colab.kernel.accessAllowed ? 'block' : 'none';\n",
       "\n",
       "      buttonEl.onclick = () => {\n",
       "        google.colab.notebook.generateWithVariable('df');\n",
       "      }\n",
       "      })();\n",
       "    </script>\n",
       "  </div>\n",
       "\n",
       "    </div>\n",
       "  </div>\n"
      ],
      "text/plain": [
       "            클럽       시즌        리그  리그_경기   리그_골  리그_도움  국내컵_경기  국내컵_골  국내컵_도움  \\\n",
       "0    함부르크 SVII  2009-10  레기오날리가노드    6.0    1.0    0.0     NaN    NaN     NaN   \n",
       "1      함부르크 SV  2010-11     분데스리가   13.0    3.0    0.0     1.0    0.0     0.0   \n",
       "2      함부르크 SV  2011-12             27.0    5.0    1.0     3.0    0.0     0.0   \n",
       "3      함부르크 SV  2012-13             33.0   12.0    2.0     1.0    0.0     0.0   \n",
       "4      함부르크 SV       합계             73.0   20.0    3.0     5.0    0.0     0.0   \n",
       "5   바이어04 레버쿠젠  2013-14     분데스리가   31.0   10.0    4.0     4.0    2.0     1.0   \n",
       "6   바이어04 레버쿠젠  2014-15             30.0   11.0    2.0     2.0    1.0     0.0   \n",
       "7   바이어04 레버쿠젠  2015-16              1.0    0.0    0.0     0.0    0.0     0.0   \n",
       "8   바이어04 레버쿠젠       합계             62.0   21.0    6.0     6.0    3.0     1.0   \n",
       "9       토트넘홋스퍼  2015-16    프리미어리그   28.0    4.0    1.0     4.0    1.0     1.0   \n",
       "10      토트넘홋스퍼  2016-17             34.0   14.0    6.0     5.0    6.0     1.0   \n",
       "11      토트넘홋스퍼  2017-18             37.0   12.0    6.0     7.0    2.0     3.0   \n",
       "12      토트넘홋스퍼  2018-19             31.0   12.0    6.0     1.0    1.0     2.0   \n",
       "13      토트넘홋스퍼  2019-20             30.0   11.0   10.0     4.0    2.0     0.0   \n",
       "14      토트넘홋스퍼  2020-21             37.0   17.0   10.0     2.0    0.0     4.0   \n",
       "15      토트넘홋스퍼  2021-22             35.0   23.0    7.0     2.0    0.0     0.0   \n",
       "16      토트넘홋스퍼  2022-23             36.0   10.0    6.0     3.0    2.0     0.0   \n",
       "17      토트넘홋스퍼  2023-24             32.0   17.0    8.0     0.0    0.0     0.0   \n",
       "18      토트넘홋스퍼       합계            300.0  120.0   60.0    28.0   14.0    11.0   \n",
       "19    클럽 경력 통산       합계            428.0  158.0   69.0    39.0   17.0    12.0   \n",
       "\n",
       "    리그컵_경기  리그컵_골  리그컵_도움  UEFA_경기  UEFA_골  UEFA_도움  합계_경기   합계_골  합계_도움  \n",
       "0      NaN    NaN     NaN      NaN     NaN      NaN    6.0    1.0    0.0  \n",
       "1      NaN    NaN     NaN      NaN     NaN      NaN   14.0    3.0    0.0  \n",
       "2      NaN    NaN     NaN      NaN     NaN      NaN   30.0    5.0    1.0  \n",
       "3      NaN    NaN     NaN      NaN     NaN      NaN   34.0   12.0    2.0  \n",
       "4      NaN    NaN     NaN      NaN     NaN      NaN   78.0   20.0    3.0  \n",
       "5      NaN    NaN     NaN      NaN     0.0      2.0   43.0   12.0    7.0  \n",
       "6      NaN    NaN     NaN      NaN     5.0      1.0   42.0   17.0    3.0  \n",
       "7      NaN    NaN     NaN      NaN     0.0      0.0    2.0    0.0    0.0  \n",
       "8      NaN    NaN     NaN     19.0     5.0      3.0   87.0   29.0   10.0  \n",
       "9      1.0    0.0     0.0      NaN     3.0      4.0   40.0    8.0    6.0  \n",
       "10     0.0    0.0     0.0      NaN     1.0      0.0   47.0   21.0    7.0  \n",
       "11     2.0    0.0     2.0      NaN     4.0      0.0   53.0   18.0   11.0  \n",
       "12     4.0    3.0     0.0      NaN     4.0      1.0   48.0   20.0    9.0  \n",
       "13     1.0    0.0     0.0      NaN     5.0      2.0   41.0   18.0   12.0  \n",
       "14     3.0    1.0     0.0      NaN     4.0      3.0   51.0   22.0   17.0  \n",
       "15     4.0    0.0     0.0      NaN     1.0      1.0   45.0   24.0    8.0  \n",
       "16     0.0    0.0     0.0      8.0     2.0      0.0   47.0   14.0    6.0  \n",
       "17     1.0    0.0     0.0      0.0     0.0      0.0   26.0   14.0    8.0  \n",
       "18    16.0    4.0     2.0     61.0    24.0     11.0  398.0  159.0   84.0  \n",
       "19    16.0    4.0     2.0     80.0    29.0     14.0  563.0  208.0   97.0  "
      ]
     },
     "execution_count": 56,
     "metadata": {},
     "output_type": "execute_result"
    }
   ],
   "source": [
    "table_dfs[0]"
   ]
  },
  {
   "cell_type": "code",
   "execution_count": 57,
   "metadata": {
    "colab": {
     "base_uri": "https://localhost:8080/",
     "height": 331
    },
    "executionInfo": {
     "elapsed": 334,
     "status": "ok",
     "timestamp": 1728724382428,
     "user": {
      "displayName": "한두솔",
      "userId": "14744311692633150263"
     },
     "user_tz": -540
    },
    "id": "Ft_PwUk6bzeP",
    "outputId": "c4d77f5f-46e0-4cc3-c053-1f24e649f77c"
   },
   "outputs": [
    {
     "data": {
      "application/vnd.google.colaboratory.intrinsic+json": {
       "summary": "{\n  \"name\": \"table_dfs[1]\",\n  \"rows\": 9,\n  \"fields\": [\n    {\n      \"column\": \"\\uc0c1\\ub300\\ud300\",\n      \"properties\": {\n        \"dtype\": \"string\",\n        \"num_unique_values\": 9,\n        \"samples\": [\n          \"\\ubc88\\ub9ac FC\",\n          \"\\ub808\\uc2a4\\ud130 \\uc2dc\\ud2f0 FC\",\n          \"\\ub9ac\\ubc84\\ud480 FC\"\n        ],\n        \"semantic_type\": \"\",\n        \"description\": \"\"\n      }\n    },\n    {\n      \"column\": \"\\uace8 \\uc218\",\n      \"properties\": {\n        \"dtype\": \"category\",\n        \"num_unique_values\": 4,\n        \"samples\": [\n          \"9\",\n          \"6\",\n          \"10\"\n        ],\n        \"semantic_type\": \"\",\n        \"description\": \"\"\n      }\n    },\n    {\n      \"column\": \"\\ub0a0\\uc9dc\",\n      \"properties\": {\n        \"dtype\": \"string\",\n        \"num_unique_values\": 9,\n        \"samples\": [\n          \"2017, 04, 01\\n2019, 12, 07\\n2020, 10, 27\\n2023, 09, 02\",\n          \"2017, 05, 19\\n2018, 12, 09\\n2019, 02, 10\\n2022, 05, 01\\n2022, 09, 18\",\n          \"2017, 10, 23\\n2020, 12, 17\\n2021, 12, 20\\n2022, 05, 08\\n2023, 04, 30\\n2023, 10, 01\"\n        ],\n        \"semantic_type\": \"\",\n        \"description\": \"\"\n      }\n    }\n  ]\n}",
       "type": "dataframe"
      },
      "text/html": [
       "\n",
       "  <div id=\"df-9febefee-c189-46ef-99e0-9fae8a8b4754\" class=\"colab-df-container\">\n",
       "    <div>\n",
       "<style scoped>\n",
       "    .dataframe tbody tr th:only-of-type {\n",
       "        vertical-align: middle;\n",
       "    }\n",
       "\n",
       "    .dataframe tbody tr th {\n",
       "        vertical-align: top;\n",
       "    }\n",
       "\n",
       "    .dataframe thead th {\n",
       "        text-align: right;\n",
       "    }\n",
       "</style>\n",
       "<table border=\"1\" class=\"dataframe\">\n",
       "  <thead>\n",
       "    <tr style=\"text-align: right;\">\n",
       "      <th></th>\n",
       "      <th>상대팀</th>\n",
       "      <th>골 수</th>\n",
       "      <th>날짜</th>\n",
       "    </tr>\n",
       "  </thead>\n",
       "  <tbody>\n",
       "    <tr>\n",
       "      <th>0</th>\n",
       "      <td>사우샘프턴 FC</td>\n",
       "      <td>10</td>\n",
       "      <td>2016, 05, 08\\n2016, 12, 29\\n2017, 12, 26\\n2018...</td>\n",
       "    </tr>\n",
       "    <tr>\n",
       "      <th>1</th>\n",
       "      <td>레스터 시티 FC</td>\n",
       "      <td>9</td>\n",
       "      <td>2017, 05, 19\\n2018, 12, 09\\n2019, 02, 10\\n2022...</td>\n",
       "    </tr>\n",
       "    <tr>\n",
       "      <th>2</th>\n",
       "      <td>크리스탈 팰리스 FC</td>\n",
       "      <td>9</td>\n",
       "      <td>2015, 09, 20\\n2017, 11, 05\\n2019, 04, 04\\n2019...</td>\n",
       "    </tr>\n",
       "    <tr>\n",
       "      <th>3</th>\n",
       "      <td>AFC 본머스</td>\n",
       "      <td>7</td>\n",
       "      <td>2017, 04, 15\\n2018, 03, 12\\n2018, 12, 27\\n2023...</td>\n",
       "    </tr>\n",
       "    <tr>\n",
       "      <th>4</th>\n",
       "      <td>왓퍼드 FC</td>\n",
       "      <td>6</td>\n",
       "      <td>2015, 12, 29\\n2017, 04, 08\\n2017, 12, 03\\n2019...</td>\n",
       "    </tr>\n",
       "    <tr>\n",
       "      <th>5</th>\n",
       "      <td>리버풀 FC</td>\n",
       "      <td>6</td>\n",
       "      <td>2017, 10, 23\\n2020, 12, 17\\n2021, 12, 20\\n2022...</td>\n",
       "    </tr>\n",
       "    <tr>\n",
       "      <th>6</th>\n",
       "      <td>웨스트햄 유나이티드 FC</td>\n",
       "      <td>6</td>\n",
       "      <td>2018, 01, 05\\n2019, 11, 23\\n2020, 10, 19\\n2022...</td>\n",
       "    </tr>\n",
       "    <tr>\n",
       "      <th>7</th>\n",
       "      <td>번리 FC</td>\n",
       "      <td>6</td>\n",
       "      <td>2017, 04, 01\\n2019, 12, 07\\n2020, 10, 27\\n2023...</td>\n",
       "    </tr>\n",
       "    <tr>\n",
       "      <th>8</th>\n",
       "      <td>아스널 FC</td>\n",
       "      <td>6</td>\n",
       "      <td>2020, 07, 13\\n2020, 12, 07\\n2021, 09, 27</td>\n",
       "    </tr>\n",
       "  </tbody>\n",
       "</table>\n",
       "</div>\n",
       "    <div class=\"colab-df-buttons\">\n",
       "\n",
       "  <div class=\"colab-df-container\">\n",
       "    <button class=\"colab-df-convert\" onclick=\"convertToInteractive('df-9febefee-c189-46ef-99e0-9fae8a8b4754')\"\n",
       "            title=\"Convert this dataframe to an interactive table.\"\n",
       "            style=\"display:none;\">\n",
       "\n",
       "  <svg xmlns=\"http://www.w3.org/2000/svg\" height=\"24px\" viewBox=\"0 -960 960 960\">\n",
       "    <path d=\"M120-120v-720h720v720H120Zm60-500h600v-160H180v160Zm220 220h160v-160H400v160Zm0 220h160v-160H400v160ZM180-400h160v-160H180v160Zm440 0h160v-160H620v160ZM180-180h160v-160H180v160Zm440 0h160v-160H620v160Z\"/>\n",
       "  </svg>\n",
       "    </button>\n",
       "\n",
       "  <style>\n",
       "    .colab-df-container {\n",
       "      display:flex;\n",
       "      gap: 12px;\n",
       "    }\n",
       "\n",
       "    .colab-df-convert {\n",
       "      background-color: #E8F0FE;\n",
       "      border: none;\n",
       "      border-radius: 50%;\n",
       "      cursor: pointer;\n",
       "      display: none;\n",
       "      fill: #1967D2;\n",
       "      height: 32px;\n",
       "      padding: 0 0 0 0;\n",
       "      width: 32px;\n",
       "    }\n",
       "\n",
       "    .colab-df-convert:hover {\n",
       "      background-color: #E2EBFA;\n",
       "      box-shadow: 0px 1px 2px rgba(60, 64, 67, 0.3), 0px 1px 3px 1px rgba(60, 64, 67, 0.15);\n",
       "      fill: #174EA6;\n",
       "    }\n",
       "\n",
       "    .colab-df-buttons div {\n",
       "      margin-bottom: 4px;\n",
       "    }\n",
       "\n",
       "    [theme=dark] .colab-df-convert {\n",
       "      background-color: #3B4455;\n",
       "      fill: #D2E3FC;\n",
       "    }\n",
       "\n",
       "    [theme=dark] .colab-df-convert:hover {\n",
       "      background-color: #434B5C;\n",
       "      box-shadow: 0px 1px 3px 1px rgba(0, 0, 0, 0.15);\n",
       "      filter: drop-shadow(0px 1px 2px rgba(0, 0, 0, 0.3));\n",
       "      fill: #FFFFFF;\n",
       "    }\n",
       "  </style>\n",
       "\n",
       "    <script>\n",
       "      const buttonEl =\n",
       "        document.querySelector('#df-9febefee-c189-46ef-99e0-9fae8a8b4754 button.colab-df-convert');\n",
       "      buttonEl.style.display =\n",
       "        google.colab.kernel.accessAllowed ? 'block' : 'none';\n",
       "\n",
       "      async function convertToInteractive(key) {\n",
       "        const element = document.querySelector('#df-9febefee-c189-46ef-99e0-9fae8a8b4754');\n",
       "        const dataTable =\n",
       "          await google.colab.kernel.invokeFunction('convertToInteractive',\n",
       "                                                    [key], {});\n",
       "        if (!dataTable) return;\n",
       "\n",
       "        const docLinkHtml = 'Like what you see? Visit the ' +\n",
       "          '<a target=\"_blank\" href=https://colab.research.google.com/notebooks/data_table.ipynb>data table notebook</a>'\n",
       "          + ' to learn more about interactive tables.';\n",
       "        element.innerHTML = '';\n",
       "        dataTable['output_type'] = 'display_data';\n",
       "        await google.colab.output.renderOutput(dataTable, element);\n",
       "        const docLink = document.createElement('div');\n",
       "        docLink.innerHTML = docLinkHtml;\n",
       "        element.appendChild(docLink);\n",
       "      }\n",
       "    </script>\n",
       "  </div>\n",
       "\n",
       "\n",
       "<div id=\"df-d0913719-cf5b-4ef7-beb4-d581e6bb99e3\">\n",
       "  <button class=\"colab-df-quickchart\" onclick=\"quickchart('df-d0913719-cf5b-4ef7-beb4-d581e6bb99e3')\"\n",
       "            title=\"Suggest charts\"\n",
       "            style=\"display:none;\">\n",
       "\n",
       "<svg xmlns=\"http://www.w3.org/2000/svg\" height=\"24px\"viewBox=\"0 0 24 24\"\n",
       "     width=\"24px\">\n",
       "    <g>\n",
       "        <path d=\"M19 3H5c-1.1 0-2 .9-2 2v14c0 1.1.9 2 2 2h14c1.1 0 2-.9 2-2V5c0-1.1-.9-2-2-2zM9 17H7v-7h2v7zm4 0h-2V7h2v10zm4 0h-2v-4h2v4z\"/>\n",
       "    </g>\n",
       "</svg>\n",
       "  </button>\n",
       "\n",
       "<style>\n",
       "  .colab-df-quickchart {\n",
       "      --bg-color: #E8F0FE;\n",
       "      --fill-color: #1967D2;\n",
       "      --hover-bg-color: #E2EBFA;\n",
       "      --hover-fill-color: #174EA6;\n",
       "      --disabled-fill-color: #AAA;\n",
       "      --disabled-bg-color: #DDD;\n",
       "  }\n",
       "\n",
       "  [theme=dark] .colab-df-quickchart {\n",
       "      --bg-color: #3B4455;\n",
       "      --fill-color: #D2E3FC;\n",
       "      --hover-bg-color: #434B5C;\n",
       "      --hover-fill-color: #FFFFFF;\n",
       "      --disabled-bg-color: #3B4455;\n",
       "      --disabled-fill-color: #666;\n",
       "  }\n",
       "\n",
       "  .colab-df-quickchart {\n",
       "    background-color: var(--bg-color);\n",
       "    border: none;\n",
       "    border-radius: 50%;\n",
       "    cursor: pointer;\n",
       "    display: none;\n",
       "    fill: var(--fill-color);\n",
       "    height: 32px;\n",
       "    padding: 0;\n",
       "    width: 32px;\n",
       "  }\n",
       "\n",
       "  .colab-df-quickchart:hover {\n",
       "    background-color: var(--hover-bg-color);\n",
       "    box-shadow: 0 1px 2px rgba(60, 64, 67, 0.3), 0 1px 3px 1px rgba(60, 64, 67, 0.15);\n",
       "    fill: var(--button-hover-fill-color);\n",
       "  }\n",
       "\n",
       "  .colab-df-quickchart-complete:disabled,\n",
       "  .colab-df-quickchart-complete:disabled:hover {\n",
       "    background-color: var(--disabled-bg-color);\n",
       "    fill: var(--disabled-fill-color);\n",
       "    box-shadow: none;\n",
       "  }\n",
       "\n",
       "  .colab-df-spinner {\n",
       "    border: 2px solid var(--fill-color);\n",
       "    border-color: transparent;\n",
       "    border-bottom-color: var(--fill-color);\n",
       "    animation:\n",
       "      spin 1s steps(1) infinite;\n",
       "  }\n",
       "\n",
       "  @keyframes spin {\n",
       "    0% {\n",
       "      border-color: transparent;\n",
       "      border-bottom-color: var(--fill-color);\n",
       "      border-left-color: var(--fill-color);\n",
       "    }\n",
       "    20% {\n",
       "      border-color: transparent;\n",
       "      border-left-color: var(--fill-color);\n",
       "      border-top-color: var(--fill-color);\n",
       "    }\n",
       "    30% {\n",
       "      border-color: transparent;\n",
       "      border-left-color: var(--fill-color);\n",
       "      border-top-color: var(--fill-color);\n",
       "      border-right-color: var(--fill-color);\n",
       "    }\n",
       "    40% {\n",
       "      border-color: transparent;\n",
       "      border-right-color: var(--fill-color);\n",
       "      border-top-color: var(--fill-color);\n",
       "    }\n",
       "    60% {\n",
       "      border-color: transparent;\n",
       "      border-right-color: var(--fill-color);\n",
       "    }\n",
       "    80% {\n",
       "      border-color: transparent;\n",
       "      border-right-color: var(--fill-color);\n",
       "      border-bottom-color: var(--fill-color);\n",
       "    }\n",
       "    90% {\n",
       "      border-color: transparent;\n",
       "      border-bottom-color: var(--fill-color);\n",
       "    }\n",
       "  }\n",
       "</style>\n",
       "\n",
       "  <script>\n",
       "    async function quickchart(key) {\n",
       "      const quickchartButtonEl =\n",
       "        document.querySelector('#' + key + ' button');\n",
       "      quickchartButtonEl.disabled = true;  // To prevent multiple clicks.\n",
       "      quickchartButtonEl.classList.add('colab-df-spinner');\n",
       "      try {\n",
       "        const charts = await google.colab.kernel.invokeFunction(\n",
       "            'suggestCharts', [key], {});\n",
       "      } catch (error) {\n",
       "        console.error('Error during call to suggestCharts:', error);\n",
       "      }\n",
       "      quickchartButtonEl.classList.remove('colab-df-spinner');\n",
       "      quickchartButtonEl.classList.add('colab-df-quickchart-complete');\n",
       "    }\n",
       "    (() => {\n",
       "      let quickchartButtonEl =\n",
       "        document.querySelector('#df-d0913719-cf5b-4ef7-beb4-d581e6bb99e3 button');\n",
       "      quickchartButtonEl.style.display =\n",
       "        google.colab.kernel.accessAllowed ? 'block' : 'none';\n",
       "    })();\n",
       "  </script>\n",
       "</div>\n",
       "\n",
       "    </div>\n",
       "  </div>\n"
      ],
      "text/plain": [
       "             상대팀 골 수                                                 날짜\n",
       "0       사우샘프턴 FC  10  2016, 05, 08\\n2016, 12, 29\\n2017, 12, 26\\n2018...\n",
       "1      레스터 시티 FC   9  2017, 05, 19\\n2018, 12, 09\\n2019, 02, 10\\n2022...\n",
       "2    크리스탈 팰리스 FC   9  2015, 09, 20\\n2017, 11, 05\\n2019, 04, 04\\n2019...\n",
       "3        AFC 본머스   7  2017, 04, 15\\n2018, 03, 12\\n2018, 12, 27\\n2023...\n",
       "4         왓퍼드 FC   6  2015, 12, 29\\n2017, 04, 08\\n2017, 12, 03\\n2019...\n",
       "5         리버풀 FC   6  2017, 10, 23\\n2020, 12, 17\\n2021, 12, 20\\n2022...\n",
       "6  웨스트햄 유나이티드 FC   6  2018, 01, 05\\n2019, 11, 23\\n2020, 10, 19\\n2022...\n",
       "7          번리 FC   6  2017, 04, 01\\n2019, 12, 07\\n2020, 10, 27\\n2023...\n",
       "8         아스널 FC   6           2020, 07, 13\\n2020, 12, 07\\n2021, 09, 27"
      ]
     },
     "execution_count": 57,
     "metadata": {},
     "output_type": "execute_result"
    }
   ],
   "source": [
    "table_dfs[1]"
   ]
  },
  {
   "cell_type": "code",
   "execution_count": 58,
   "metadata": {
    "colab": {
     "base_uri": "https://localhost:8080/",
     "height": 613
    },
    "executionInfo": {
     "elapsed": 340,
     "status": "ok",
     "timestamp": 1728724386178,
     "user": {
      "displayName": "한두솔",
      "userId": "14744311692633150263"
     },
     "user_tz": -540
    },
    "id": "eN4JqKJ_b2WC",
    "outputId": "a6d7aafd-c222-400a-bc49-f752849eeed0"
   },
   "outputs": [
    {
     "data": {
      "application/vnd.google.colaboratory.intrinsic+json": {
       "summary": "{\n  \"name\": \"table_dfs[2]\",\n  \"rows\": 18,\n  \"fields\": [\n    {\n      \"column\": \"#\",\n      \"properties\": {\n        \"dtype\": \"string\",\n        \"num_unique_values\": 18,\n        \"samples\": [\n          \"1\",\n          \"2\",\n          \"11\"\n        ],\n        \"semantic_type\": \"\",\n        \"description\": \"\"\n      }\n    },\n    {\n      \"column\": \"\\uc77c\\uc2dc\",\n      \"properties\": {\n        \"dtype\": \"string\",\n        \"num_unique_values\": 18,\n        \"samples\": [\n          \"2011\\ub144 1\\uc6d4\\n18\\uc77c\",\n          \"2013\\ub144 3\\uc6d4\\n26\\uc77c\",\n          \"2015\\ub144 6\\uc6d4\\n16\\uc77c\"\n        ],\n        \"semantic_type\": \"\",\n        \"description\": \"\"\n      }\n    },\n    {\n      \"column\": \"\\uc7a5\\uc18c\",\n      \"properties\": {\n        \"dtype\": \"string\",\n        \"num_unique_values\": 16,\n        \"samples\": [\n          \"\\uce74\\ud0c0\\ub974 \\ub3c4\\ud558 \\ud0c0\\ub2c8 \\ube48 \\uc790\\uc2ec \\uc2a4\\ud0c0\\ub514\\n\\uc6c0\",\n          \"\\ub300\\ud55c\\ubbfc\\uad6d \\uc11c\\uc6b8 \\uc11c\\uc6b8\\uc6d4\\ub4dc\\ucef5\\uacbd\\uae30\\uc7a5\",\n          \"\\ube0c\\ub77c\\uc9c8 \\ud3ec\\ub974\\ud22c\\uc54c\\ub808\\uadf8\\ub9ac \\uc774\\uc2a4\\ud0c0\\uc9c0\\n\\uc6b0 \\ubca0\\uc774\\ub77c\\ud788\\uc6b0\"\n        ],\n        \"semantic_type\": \"\",\n        \"description\": \"\"\n      }\n    },\n    {\n      \"column\": \"\\uc0c1\\ub300 \\uad6d\\uac00\",\n      \"properties\": {\n        \"dtype\": \"string\",\n        \"num_unique_values\": 15,\n        \"samples\": [\n          \"\\ub77c\\uc624\\uc2a4\",\n          \"\\ucf5c\\ub86c\\ube44\\uc544\",\n          \"\\uc778\\ub3c4\"\n        ],\n        \"semantic_type\": \"\",\n        \"description\": \"\"\n      }\n    },\n    {\n      \"column\": \"\\ub4dd\\uc810\",\n      \"properties\": {\n        \"dtype\": \"string\",\n        \"num_unique_values\": 13,\n        \"samples\": [\n          \"1-2\",\n          \"3-2\",\n          \"4-1\"\n        ],\n        \"semantic_type\": \"\",\n        \"description\": \"\"\n      }\n    },\n    {\n      \"column\": \"\\uacb0 \\uacfc\",\n      \"properties\": {\n        \"dtype\": \"string\",\n        \"num_unique_values\": 10,\n        \"samples\": [\n          \"3-2\",\n          \"2-1\",\n          \"1-2\"\n        ],\n        \"semantic_type\": \"\",\n        \"description\": \"\"\n      }\n    },\n    {\n      \"column\": \"\\ub9e4\\uce58 \\ud615\\uc2dd\",\n      \"properties\": {\n        \"dtype\": \"category\",\n        \"num_unique_values\": 8,\n        \"samples\": [\n          \"2014\\ub144 FIFA \\uc6d4\\ub4dc\\ucef5 \\uc544\\uc2dc\\uc544\\n\\uc9c0\\uc5ed 4\\ucc28 \\uc608\\uc120\",\n          \"2018\\ub144 FIFA \\uc6d4\\ub4dc\\ucef5 \\uc544\\uc2dc\\uc544\\n\\uc9c0\\uc5ed 2\\ucc28 \\uc608\\uc120\",\n          \"2011\\ub144 AFC \\uc544\\uc2dc\\uc548\\ucef5\"\n        ],\n        \"semantic_type\": \"\",\n        \"description\": \"\"\n      }\n    }\n  ]\n}",
       "type": "dataframe"
      },
      "text/html": [
       "\n",
       "  <div id=\"df-c133e0ff-f59a-4ec7-9131-686b0e02e84f\" class=\"colab-df-container\">\n",
       "    <div>\n",
       "<style scoped>\n",
       "    .dataframe tbody tr th:only-of-type {\n",
       "        vertical-align: middle;\n",
       "    }\n",
       "\n",
       "    .dataframe tbody tr th {\n",
       "        vertical-align: top;\n",
       "    }\n",
       "\n",
       "    .dataframe thead th {\n",
       "        text-align: right;\n",
       "    }\n",
       "</style>\n",
       "<table border=\"1\" class=\"dataframe\">\n",
       "  <thead>\n",
       "    <tr style=\"text-align: right;\">\n",
       "      <th></th>\n",
       "      <th>#</th>\n",
       "      <th>일시</th>\n",
       "      <th>장소</th>\n",
       "      <th>상대 국가</th>\n",
       "      <th>득점</th>\n",
       "      <th>결 과</th>\n",
       "      <th>매치 형식</th>\n",
       "    </tr>\n",
       "  </thead>\n",
       "  <tbody>\n",
       "    <tr>\n",
       "      <th>0</th>\n",
       "      <td>1</td>\n",
       "      <td>2011년 1월\\n18일</td>\n",
       "      <td>카타르 도하 타니 빈 자심 스타디\\n움</td>\n",
       "      <td>인도</td>\n",
       "      <td>4-1</td>\n",
       "      <td>4-1</td>\n",
       "      <td>2011년 AFC 아시안컵</td>\n",
       "    </tr>\n",
       "    <tr>\n",
       "      <th>1</th>\n",
       "      <td>2</td>\n",
       "      <td>2013년 3월\\n26일</td>\n",
       "      <td>대한민국 서울 서울월드컵경기장</td>\n",
       "      <td>카타르</td>\n",
       "      <td>2-1</td>\n",
       "      <td>2-1</td>\n",
       "      <td>2014년 FIFA 월드컵 아시아\\n지역 4차 예선</td>\n",
       "    </tr>\n",
       "    <tr>\n",
       "      <th>2</th>\n",
       "      <td>3\\n4</td>\n",
       "      <td>2013년 9월 6\\n일</td>\n",
       "      <td>대한민국 인천 인천축구전용경기\\n장</td>\n",
       "      <td>아이티</td>\n",
       "      <td>1-0\\n4-1</td>\n",
       "      <td>4-1</td>\n",
       "      <td>친선경기</td>\n",
       "    </tr>\n",
       "    <tr>\n",
       "      <th>3</th>\n",
       "      <td>5</td>\n",
       "      <td>2013년 10월\\n15일</td>\n",
       "      <td>대한민국 천안 천안종합운동장</td>\n",
       "      <td>말리</td>\n",
       "      <td>2-1</td>\n",
       "      <td>3-1</td>\n",
       "      <td>친선경기</td>\n",
       "    </tr>\n",
       "    <tr>\n",
       "      <th>4</th>\n",
       "      <td>6</td>\n",
       "      <td>2014년 3월 5\\n일</td>\n",
       "      <td>그리스 아테네 카라이스카키스\\n스타디움</td>\n",
       "      <td>그리스</td>\n",
       "      <td>2-0</td>\n",
       "      <td>2-0</td>\n",
       "      <td>친선경기</td>\n",
       "    </tr>\n",
       "    <tr>\n",
       "      <th>5</th>\n",
       "      <td>7</td>\n",
       "      <td>2014년 6월\\n22일</td>\n",
       "      <td>브라질 포르투알레그리 이스타지\\n우 베이라히우</td>\n",
       "      <td>알제리</td>\n",
       "      <td>1-3</td>\n",
       "      <td>2-4</td>\n",
       "      <td>2014년 FIFA 월드컵</td>\n",
       "    </tr>\n",
       "    <tr>\n",
       "      <th>6</th>\n",
       "      <td>8\\n9</td>\n",
       "      <td>2015년 1월\\n22일</td>\n",
       "      <td>오스트레일리아 멜버른 멜버른\\n렉탱귤러 스타디움</td>\n",
       "      <td>우즈베키\\n스탄</td>\n",
       "      <td>1-0\\n2-0</td>\n",
       "      <td>2-0</td>\n",
       "      <td>2015년 AFC 아시안컵</td>\n",
       "    </tr>\n",
       "    <tr>\n",
       "      <th>7</th>\n",
       "      <td>10</td>\n",
       "      <td>2015년 1월\\n31일</td>\n",
       "      <td>오스트레일리아 시드니 스타디움\\n오스트레일리아</td>\n",
       "      <td>오스트레\\n일리아</td>\n",
       "      <td>1-1</td>\n",
       "      <td>1-2</td>\n",
       "      <td>2015년 AFC 아시안컵</td>\n",
       "    </tr>\n",
       "    <tr>\n",
       "      <th>8</th>\n",
       "      <td>11</td>\n",
       "      <td>2015년 6월\\n16일</td>\n",
       "      <td>태국 방콕 라차망칼라 스타디움</td>\n",
       "      <td>미얀마</td>\n",
       "      <td>2-0</td>\n",
       "      <td>2-0</td>\n",
       "      <td>2018년 FIFA 월드컵 아시아\\n지역 2차 예선</td>\n",
       "    </tr>\n",
       "    <tr>\n",
       "      <th>9</th>\n",
       "      <td>12\\n13\\n14</td>\n",
       "      <td>2015년 9월 3\\n일</td>\n",
       "      <td>대한민국 화성 화성종합경기타운</td>\n",
       "      <td>라오스</td>\n",
       "      <td>2-0\\n5-0\\n7-0</td>\n",
       "      <td>8-0</td>\n",
       "      <td>2018년 FIFA 월드컵 아시아\\n지역 2차 예선</td>\n",
       "    </tr>\n",
       "    <tr>\n",
       "      <th>10</th>\n",
       "      <td>15\\n16</td>\n",
       "      <td>2015년 11월\\n17일</td>\n",
       "      <td>라오스 비엔티안 라오스 신국립\\n경기장</td>\n",
       "      <td>라오스</td>\n",
       "      <td>3-0\\n5-0</td>\n",
       "      <td>5-0</td>\n",
       "      <td>2018년 FIFA 월드컵 아시아\\n지역 2차 예선</td>\n",
       "    </tr>\n",
       "    <tr>\n",
       "      <th>11</th>\n",
       "      <td>17</td>\n",
       "      <td>2016년 10월\\n6일</td>\n",
       "      <td>대한민국 수원 수원월드컵경기장</td>\n",
       "      <td>카타르</td>\n",
       "      <td>3-2</td>\n",
       "      <td>3-2</td>\n",
       "      <td>2018년 FIFA 월드컵 아시아\\n지역 3차 예선</td>\n",
       "    </tr>\n",
       "    <tr>\n",
       "      <th>12</th>\n",
       "      <td>18</td>\n",
       "      <td>2017년 10월\\n10일</td>\n",
       "      <td>스위스 빌/비엔 티쏘 아레나</td>\n",
       "      <td>모로코</td>\n",
       "      <td>1-3</td>\n",
       "      <td>1-3</td>\n",
       "      <td>친선경기</td>\n",
       "    </tr>\n",
       "    <tr>\n",
       "      <th>13</th>\n",
       "      <td>19\\n20</td>\n",
       "      <td>2017년 11월\\n10일</td>\n",
       "      <td>대한민국 수원 수원월드컵경기장</td>\n",
       "      <td>콜롬비아</td>\n",
       "      <td>1-0\\n2-0</td>\n",
       "      <td>2-1</td>\n",
       "      <td>친선경기</td>\n",
       "    </tr>\n",
       "    <tr>\n",
       "      <th>14</th>\n",
       "      <td>21</td>\n",
       "      <td>2018년 5월\\n28일</td>\n",
       "      <td>대한민국 대구 대구스타디움</td>\n",
       "      <td>온두라스</td>\n",
       "      <td>1-0</td>\n",
       "      <td>2-0</td>\n",
       "      <td>친선경기</td>\n",
       "    </tr>\n",
       "    <tr>\n",
       "      <th>15</th>\n",
       "      <td>22</td>\n",
       "      <td>2018년 6월\\n23일</td>\n",
       "      <td>러시아 로스토프 로스토프 아레\\n나</td>\n",
       "      <td>멕시코</td>\n",
       "      <td>1-2</td>\n",
       "      <td>1-2</td>\n",
       "      <td>2018년 FIFA 월드컵</td>\n",
       "    </tr>\n",
       "    <tr>\n",
       "      <th>16</th>\n",
       "      <td>23</td>\n",
       "      <td>2018년 6월\\n27일</td>\n",
       "      <td>러시아 카잔 카잔 아레나</td>\n",
       "      <td>독일</td>\n",
       "      <td>2-\\n0[69]</td>\n",
       "      <td>2-0</td>\n",
       "      <td>2018년 FIFA 월드컵</td>\n",
       "    </tr>\n",
       "    <tr>\n",
       "      <th>17</th>\n",
       "      <td>24</td>\n",
       "      <td>2019년 3월\\n26일</td>\n",
       "      <td>대한민국 서울 서울월드컵경기장</td>\n",
       "      <td>콜롬비아</td>\n",
       "      <td>1-0</td>\n",
       "      <td>2-1</td>\n",
       "      <td>친선경기</td>\n",
       "    </tr>\n",
       "  </tbody>\n",
       "</table>\n",
       "</div>\n",
       "    <div class=\"colab-df-buttons\">\n",
       "\n",
       "  <div class=\"colab-df-container\">\n",
       "    <button class=\"colab-df-convert\" onclick=\"convertToInteractive('df-c133e0ff-f59a-4ec7-9131-686b0e02e84f')\"\n",
       "            title=\"Convert this dataframe to an interactive table.\"\n",
       "            style=\"display:none;\">\n",
       "\n",
       "  <svg xmlns=\"http://www.w3.org/2000/svg\" height=\"24px\" viewBox=\"0 -960 960 960\">\n",
       "    <path d=\"M120-120v-720h720v720H120Zm60-500h600v-160H180v160Zm220 220h160v-160H400v160Zm0 220h160v-160H400v160ZM180-400h160v-160H180v160Zm440 0h160v-160H620v160ZM180-180h160v-160H180v160Zm440 0h160v-160H620v160Z\"/>\n",
       "  </svg>\n",
       "    </button>\n",
       "\n",
       "  <style>\n",
       "    .colab-df-container {\n",
       "      display:flex;\n",
       "      gap: 12px;\n",
       "    }\n",
       "\n",
       "    .colab-df-convert {\n",
       "      background-color: #E8F0FE;\n",
       "      border: none;\n",
       "      border-radius: 50%;\n",
       "      cursor: pointer;\n",
       "      display: none;\n",
       "      fill: #1967D2;\n",
       "      height: 32px;\n",
       "      padding: 0 0 0 0;\n",
       "      width: 32px;\n",
       "    }\n",
       "\n",
       "    .colab-df-convert:hover {\n",
       "      background-color: #E2EBFA;\n",
       "      box-shadow: 0px 1px 2px rgba(60, 64, 67, 0.3), 0px 1px 3px 1px rgba(60, 64, 67, 0.15);\n",
       "      fill: #174EA6;\n",
       "    }\n",
       "\n",
       "    .colab-df-buttons div {\n",
       "      margin-bottom: 4px;\n",
       "    }\n",
       "\n",
       "    [theme=dark] .colab-df-convert {\n",
       "      background-color: #3B4455;\n",
       "      fill: #D2E3FC;\n",
       "    }\n",
       "\n",
       "    [theme=dark] .colab-df-convert:hover {\n",
       "      background-color: #434B5C;\n",
       "      box-shadow: 0px 1px 3px 1px rgba(0, 0, 0, 0.15);\n",
       "      filter: drop-shadow(0px 1px 2px rgba(0, 0, 0, 0.3));\n",
       "      fill: #FFFFFF;\n",
       "    }\n",
       "  </style>\n",
       "\n",
       "    <script>\n",
       "      const buttonEl =\n",
       "        document.querySelector('#df-c133e0ff-f59a-4ec7-9131-686b0e02e84f button.colab-df-convert');\n",
       "      buttonEl.style.display =\n",
       "        google.colab.kernel.accessAllowed ? 'block' : 'none';\n",
       "\n",
       "      async function convertToInteractive(key) {\n",
       "        const element = document.querySelector('#df-c133e0ff-f59a-4ec7-9131-686b0e02e84f');\n",
       "        const dataTable =\n",
       "          await google.colab.kernel.invokeFunction('convertToInteractive',\n",
       "                                                    [key], {});\n",
       "        if (!dataTable) return;\n",
       "\n",
       "        const docLinkHtml = 'Like what you see? Visit the ' +\n",
       "          '<a target=\"_blank\" href=https://colab.research.google.com/notebooks/data_table.ipynb>data table notebook</a>'\n",
       "          + ' to learn more about interactive tables.';\n",
       "        element.innerHTML = '';\n",
       "        dataTable['output_type'] = 'display_data';\n",
       "        await google.colab.output.renderOutput(dataTable, element);\n",
       "        const docLink = document.createElement('div');\n",
       "        docLink.innerHTML = docLinkHtml;\n",
       "        element.appendChild(docLink);\n",
       "      }\n",
       "    </script>\n",
       "  </div>\n",
       "\n",
       "\n",
       "<div id=\"df-063b0876-a099-4dbd-a530-ab81d6ff6dc3\">\n",
       "  <button class=\"colab-df-quickchart\" onclick=\"quickchart('df-063b0876-a099-4dbd-a530-ab81d6ff6dc3')\"\n",
       "            title=\"Suggest charts\"\n",
       "            style=\"display:none;\">\n",
       "\n",
       "<svg xmlns=\"http://www.w3.org/2000/svg\" height=\"24px\"viewBox=\"0 0 24 24\"\n",
       "     width=\"24px\">\n",
       "    <g>\n",
       "        <path d=\"M19 3H5c-1.1 0-2 .9-2 2v14c0 1.1.9 2 2 2h14c1.1 0 2-.9 2-2V5c0-1.1-.9-2-2-2zM9 17H7v-7h2v7zm4 0h-2V7h2v10zm4 0h-2v-4h2v4z\"/>\n",
       "    </g>\n",
       "</svg>\n",
       "  </button>\n",
       "\n",
       "<style>\n",
       "  .colab-df-quickchart {\n",
       "      --bg-color: #E8F0FE;\n",
       "      --fill-color: #1967D2;\n",
       "      --hover-bg-color: #E2EBFA;\n",
       "      --hover-fill-color: #174EA6;\n",
       "      --disabled-fill-color: #AAA;\n",
       "      --disabled-bg-color: #DDD;\n",
       "  }\n",
       "\n",
       "  [theme=dark] .colab-df-quickchart {\n",
       "      --bg-color: #3B4455;\n",
       "      --fill-color: #D2E3FC;\n",
       "      --hover-bg-color: #434B5C;\n",
       "      --hover-fill-color: #FFFFFF;\n",
       "      --disabled-bg-color: #3B4455;\n",
       "      --disabled-fill-color: #666;\n",
       "  }\n",
       "\n",
       "  .colab-df-quickchart {\n",
       "    background-color: var(--bg-color);\n",
       "    border: none;\n",
       "    border-radius: 50%;\n",
       "    cursor: pointer;\n",
       "    display: none;\n",
       "    fill: var(--fill-color);\n",
       "    height: 32px;\n",
       "    padding: 0;\n",
       "    width: 32px;\n",
       "  }\n",
       "\n",
       "  .colab-df-quickchart:hover {\n",
       "    background-color: var(--hover-bg-color);\n",
       "    box-shadow: 0 1px 2px rgba(60, 64, 67, 0.3), 0 1px 3px 1px rgba(60, 64, 67, 0.15);\n",
       "    fill: var(--button-hover-fill-color);\n",
       "  }\n",
       "\n",
       "  .colab-df-quickchart-complete:disabled,\n",
       "  .colab-df-quickchart-complete:disabled:hover {\n",
       "    background-color: var(--disabled-bg-color);\n",
       "    fill: var(--disabled-fill-color);\n",
       "    box-shadow: none;\n",
       "  }\n",
       "\n",
       "  .colab-df-spinner {\n",
       "    border: 2px solid var(--fill-color);\n",
       "    border-color: transparent;\n",
       "    border-bottom-color: var(--fill-color);\n",
       "    animation:\n",
       "      spin 1s steps(1) infinite;\n",
       "  }\n",
       "\n",
       "  @keyframes spin {\n",
       "    0% {\n",
       "      border-color: transparent;\n",
       "      border-bottom-color: var(--fill-color);\n",
       "      border-left-color: var(--fill-color);\n",
       "    }\n",
       "    20% {\n",
       "      border-color: transparent;\n",
       "      border-left-color: var(--fill-color);\n",
       "      border-top-color: var(--fill-color);\n",
       "    }\n",
       "    30% {\n",
       "      border-color: transparent;\n",
       "      border-left-color: var(--fill-color);\n",
       "      border-top-color: var(--fill-color);\n",
       "      border-right-color: var(--fill-color);\n",
       "    }\n",
       "    40% {\n",
       "      border-color: transparent;\n",
       "      border-right-color: var(--fill-color);\n",
       "      border-top-color: var(--fill-color);\n",
       "    }\n",
       "    60% {\n",
       "      border-color: transparent;\n",
       "      border-right-color: var(--fill-color);\n",
       "    }\n",
       "    80% {\n",
       "      border-color: transparent;\n",
       "      border-right-color: var(--fill-color);\n",
       "      border-bottom-color: var(--fill-color);\n",
       "    }\n",
       "    90% {\n",
       "      border-color: transparent;\n",
       "      border-bottom-color: var(--fill-color);\n",
       "    }\n",
       "  }\n",
       "</style>\n",
       "\n",
       "  <script>\n",
       "    async function quickchart(key) {\n",
       "      const quickchartButtonEl =\n",
       "        document.querySelector('#' + key + ' button');\n",
       "      quickchartButtonEl.disabled = true;  // To prevent multiple clicks.\n",
       "      quickchartButtonEl.classList.add('colab-df-spinner');\n",
       "      try {\n",
       "        const charts = await google.colab.kernel.invokeFunction(\n",
       "            'suggestCharts', [key], {});\n",
       "      } catch (error) {\n",
       "        console.error('Error during call to suggestCharts:', error);\n",
       "      }\n",
       "      quickchartButtonEl.classList.remove('colab-df-spinner');\n",
       "      quickchartButtonEl.classList.add('colab-df-quickchart-complete');\n",
       "    }\n",
       "    (() => {\n",
       "      let quickchartButtonEl =\n",
       "        document.querySelector('#df-063b0876-a099-4dbd-a530-ab81d6ff6dc3 button');\n",
       "      quickchartButtonEl.style.display =\n",
       "        google.colab.kernel.accessAllowed ? 'block' : 'none';\n",
       "    })();\n",
       "  </script>\n",
       "</div>\n",
       "\n",
       "    </div>\n",
       "  </div>\n"
      ],
      "text/plain": [
       "             #              일시                          장소      상대 국가  \\\n",
       "0            1   2011년 1월\\n18일       카타르 도하 타니 빈 자심 스타디\\n움         인도   \n",
       "1            2   2013년 3월\\n26일            대한민국 서울 서울월드컵경기장        카타르   \n",
       "2         3\\n4   2013년 9월 6\\n일         대한민국 인천 인천축구전용경기\\n장        아이티   \n",
       "3            5  2013년 10월\\n15일             대한민국 천안 천안종합운동장         말리   \n",
       "4            6   2014년 3월 5\\n일       그리스 아테네 카라이스카키스\\n스타디움        그리스   \n",
       "5            7   2014년 6월\\n22일   브라질 포르투알레그리 이스타지\\n우 베이라히우        알제리   \n",
       "6         8\\n9   2015년 1월\\n22일  오스트레일리아 멜버른 멜버른\\n렉탱귤러 스타디움   우즈베키\\n스탄   \n",
       "7           10   2015년 1월\\n31일   오스트레일리아 시드니 스타디움\\n오스트레일리아  오스트레\\n일리아   \n",
       "8           11   2015년 6월\\n16일            태국 방콕 라차망칼라 스타디움        미얀마   \n",
       "9   12\\n13\\n14   2015년 9월 3\\n일            대한민국 화성 화성종합경기타운        라오스   \n",
       "10      15\\n16  2015년 11월\\n17일       라오스 비엔티안 라오스 신국립\\n경기장        라오스   \n",
       "11          17   2016년 10월\\n6일            대한민국 수원 수원월드컵경기장        카타르   \n",
       "12          18  2017년 10월\\n10일             스위스 빌/비엔 티쏘 아레나        모로코   \n",
       "13      19\\n20  2017년 11월\\n10일            대한민국 수원 수원월드컵경기장       콜롬비아   \n",
       "14          21   2018년 5월\\n28일              대한민국 대구 대구스타디움       온두라스   \n",
       "15          22   2018년 6월\\n23일         러시아 로스토프 로스토프 아레\\n나        멕시코   \n",
       "16          23   2018년 6월\\n27일               러시아 카잔 카잔 아레나         독일   \n",
       "17          24   2019년 3월\\n26일            대한민국 서울 서울월드컵경기장       콜롬비아   \n",
       "\n",
       "               득점  결 과                         매치 형식  \n",
       "0             4-1  4-1                2011년 AFC 아시안컵  \n",
       "1             2-1  2-1  2014년 FIFA 월드컵 아시아\\n지역 4차 예선  \n",
       "2        1-0\\n4-1  4-1                          친선경기  \n",
       "3             2-1  3-1                          친선경기  \n",
       "4             2-0  2-0                          친선경기  \n",
       "5             1-3  2-4                2014년 FIFA 월드컵  \n",
       "6        1-0\\n2-0  2-0                2015년 AFC 아시안컵  \n",
       "7             1-1  1-2                2015년 AFC 아시안컵  \n",
       "8             2-0  2-0  2018년 FIFA 월드컵 아시아\\n지역 2차 예선  \n",
       "9   2-0\\n5-0\\n7-0  8-0  2018년 FIFA 월드컵 아시아\\n지역 2차 예선  \n",
       "10       3-0\\n5-0  5-0  2018년 FIFA 월드컵 아시아\\n지역 2차 예선  \n",
       "11            3-2  3-2  2018년 FIFA 월드컵 아시아\\n지역 3차 예선  \n",
       "12            1-3  1-3                          친선경기  \n",
       "13       1-0\\n2-0  2-1                          친선경기  \n",
       "14            1-0  2-0                          친선경기  \n",
       "15            1-2  1-2                2018년 FIFA 월드컵  \n",
       "16      2-\\n0[69]  2-0                2018년 FIFA 월드컵  \n",
       "17            1-0  2-1                          친선경기  "
      ]
     },
     "execution_count": 58,
     "metadata": {},
     "output_type": "execute_result"
    }
   ],
   "source": [
    "table_dfs[2]"
   ]
  },
  {
   "cell_type": "code",
   "execution_count": null,
   "metadata": {
    "id": "-aBkS84gczlR"
   },
   "outputs": [],
   "source": []
  },
  {
   "cell_type": "code",
   "execution_count": 59,
   "metadata": {
    "executionInfo": {
     "elapsed": 329,
     "status": "ok",
     "timestamp": 1728724426345,
     "user": {
      "displayName": "한두솔",
      "userId": "14744311692633150263"
     },
     "user_tz": -540
    },
    "id": "83YlXyr5adbw"
   },
   "outputs": [],
   "source": [
    "# 파싱된 DF별 판다스쿼리엔진 assign\n",
    "df_query_engines = [\n",
    "    PandasQueryEngine(table_df, llm=llm) for table_df in table_dfs\n",
    "]"
   ]
  },
  {
   "cell_type": "code",
   "execution_count": 60,
   "metadata": {
    "colab": {
     "base_uri": "https://localhost:8080/"
    },
    "executionInfo": {
     "elapsed": 1139,
     "status": "ok",
     "timestamp": 1728724440820,
     "user": {
      "displayName": "한두솔",
      "userId": "14744311692633150263"
     },
     "user_tz": -540
    },
    "id": "DIDR2E5o9iab",
    "outputId": "8166222f-c8e8-49fa-ceb3-0420ad731b21"
   },
   "outputs": [
    {
     "name": "stdout",
     "output_type": "stream",
     "text": [
      "2021-22\n"
     ]
    }
   ],
   "source": [
    "# 질문: \"손흥민이 리그에서 23골을 넣었던 시즌이 언제야?\"\n",
    "response = df_query_engines[0].query(\n",
    "    \"손흥민이 리그에서 23골을 넣었던 시즌이 언제야?\"\n",
    ")\n",
    "print(str(response))"
   ]
  },
  {
   "cell_type": "code",
   "execution_count": 61,
   "metadata": {
    "colab": {
     "base_uri": "https://localhost:8080/"
    },
    "executionInfo": {
     "elapsed": 1170,
     "status": "ok",
     "timestamp": 1728724473785,
     "user": {
      "displayName": "한두솔",
      "userId": "14744311692633150263"
     },
     "user_tz": -540
    },
    "id": "2vgSJKJGanvD",
    "outputId": "78e6cd39-59d2-4d26-c2d2-42704ba17c76"
   },
   "outputs": [
    {
     "name": "stdout",
     "output_type": "stream",
     "text": [
      "6\n"
     ]
    }
   ],
   "source": [
    "# 질문: \"손흥민이 상대팀 리버풀 상대로 몇골 넣었지?\"\n",
    "response = df_query_engines[1].query(\n",
    "    \"손흥민이 상대팀 리버풀 상대로 몇골 넣었지?\"\n",
    ")\n",
    "print(str(response))"
   ]
  },
  {
   "cell_type": "code",
   "execution_count": 62,
   "metadata": {
    "colab": {
     "base_uri": "https://localhost:8080/"
    },
    "executionInfo": {
     "elapsed": 1101,
     "status": "ok",
     "timestamp": 1728724512475,
     "user": {
      "displayName": "한두솔",
      "userId": "14744311692633150263"
     },
     "user_tz": -540
    },
    "id": "Oys29FyXbQuf",
    "outputId": "ceff596a-2abe-466e-dbf7-cde43c8735cb"
   },
   "outputs": [
    {
     "name": "stdout",
     "output_type": "stream",
     "text": [
      "사우샘프턴 FC\n"
     ]
    }
   ],
   "source": [
    "# 질문: \"손흥민이 어떤 팀 상대로 가장 많은 골을 넣었지?\"\n",
    "response = df_query_engines[1].query(\n",
    "    \"손흥민이 어떤 팀 상대로 가장 많은 골을 넣었지?\"\n",
    ")\n",
    "print(str(response))"
   ]
  },
  {
   "cell_type": "code",
   "execution_count": 63,
   "metadata": {
    "colab": {
     "base_uri": "https://localhost:8080/"
    },
    "executionInfo": {
     "elapsed": 724,
     "status": "ok",
     "timestamp": 1728724534651,
     "user": {
      "displayName": "한두솔",
      "userId": "14744311692633150263"
     },
     "user_tz": -540
    },
    "id": "XExIBphrbVg-",
    "outputId": "80c2f6fc-85b5-423b-be9b-070a502a9d98"
   },
   "outputs": [
    {
     "name": "stdout",
     "output_type": "stream",
     "text": [
      "15    멕시코\n",
      "16     독일\n",
      "Name: 상대 국가, dtype: object\n"
     ]
    }
   ],
   "source": [
    "# 질문: \"2018 FIFA 월드컵에서 어떤 팀들 상대로 골 넣었었지?\"\n",
    "response = df_query_engines[2].query(\n",
    "    \"2018 FIFA 월드컵에서 어떤 팀들 상대로 골 넣었었지?\"\n",
    ")\n",
    "print(str(response))"
   ]
  },
  {
   "cell_type": "code",
   "execution_count": 64,
   "metadata": {
    "colab": {
     "base_uri": "https://localhost:8080/",
     "height": 613
    },
    "executionInfo": {
     "elapsed": 386,
     "status": "ok",
     "timestamp": 1728724553697,
     "user": {
      "displayName": "한두솔",
      "userId": "14744311692633150263"
     },
     "user_tz": -540
    },
    "id": "FsCpnDWKfNQc",
    "outputId": "67fa5988-48a7-4f1d-a76b-31db7e6c3c3f"
   },
   "outputs": [
    {
     "data": {
      "application/vnd.google.colaboratory.intrinsic+json": {
       "summary": "{\n  \"name\": \"table_dfs[2]\",\n  \"rows\": 18,\n  \"fields\": [\n    {\n      \"column\": \"#\",\n      \"properties\": {\n        \"dtype\": \"string\",\n        \"num_unique_values\": 18,\n        \"samples\": [\n          \"1\",\n          \"2\",\n          \"11\"\n        ],\n        \"semantic_type\": \"\",\n        \"description\": \"\"\n      }\n    },\n    {\n      \"column\": \"\\uc77c\\uc2dc\",\n      \"properties\": {\n        \"dtype\": \"string\",\n        \"num_unique_values\": 18,\n        \"samples\": [\n          \"2011\\ub144 1\\uc6d4\\n18\\uc77c\",\n          \"2013\\ub144 3\\uc6d4\\n26\\uc77c\",\n          \"2015\\ub144 6\\uc6d4\\n16\\uc77c\"\n        ],\n        \"semantic_type\": \"\",\n        \"description\": \"\"\n      }\n    },\n    {\n      \"column\": \"\\uc7a5\\uc18c\",\n      \"properties\": {\n        \"dtype\": \"string\",\n        \"num_unique_values\": 16,\n        \"samples\": [\n          \"\\uce74\\ud0c0\\ub974 \\ub3c4\\ud558 \\ud0c0\\ub2c8 \\ube48 \\uc790\\uc2ec \\uc2a4\\ud0c0\\ub514\\n\\uc6c0\",\n          \"\\ub300\\ud55c\\ubbfc\\uad6d \\uc11c\\uc6b8 \\uc11c\\uc6b8\\uc6d4\\ub4dc\\ucef5\\uacbd\\uae30\\uc7a5\",\n          \"\\ube0c\\ub77c\\uc9c8 \\ud3ec\\ub974\\ud22c\\uc54c\\ub808\\uadf8\\ub9ac \\uc774\\uc2a4\\ud0c0\\uc9c0\\n\\uc6b0 \\ubca0\\uc774\\ub77c\\ud788\\uc6b0\"\n        ],\n        \"semantic_type\": \"\",\n        \"description\": \"\"\n      }\n    },\n    {\n      \"column\": \"\\uc0c1\\ub300 \\uad6d\\uac00\",\n      \"properties\": {\n        \"dtype\": \"string\",\n        \"num_unique_values\": 15,\n        \"samples\": [\n          \"\\ub77c\\uc624\\uc2a4\",\n          \"\\ucf5c\\ub86c\\ube44\\uc544\",\n          \"\\uc778\\ub3c4\"\n        ],\n        \"semantic_type\": \"\",\n        \"description\": \"\"\n      }\n    },\n    {\n      \"column\": \"\\ub4dd\\uc810\",\n      \"properties\": {\n        \"dtype\": \"string\",\n        \"num_unique_values\": 13,\n        \"samples\": [\n          \"1-2\",\n          \"3-2\",\n          \"4-1\"\n        ],\n        \"semantic_type\": \"\",\n        \"description\": \"\"\n      }\n    },\n    {\n      \"column\": \"\\uacb0 \\uacfc\",\n      \"properties\": {\n        \"dtype\": \"string\",\n        \"num_unique_values\": 10,\n        \"samples\": [\n          \"3-2\",\n          \"2-1\",\n          \"1-2\"\n        ],\n        \"semantic_type\": \"\",\n        \"description\": \"\"\n      }\n    },\n    {\n      \"column\": \"\\ub9e4\\uce58 \\ud615\\uc2dd\",\n      \"properties\": {\n        \"dtype\": \"category\",\n        \"num_unique_values\": 8,\n        \"samples\": [\n          \"2014\\ub144 FIFA \\uc6d4\\ub4dc\\ucef5 \\uc544\\uc2dc\\uc544\\n\\uc9c0\\uc5ed 4\\ucc28 \\uc608\\uc120\",\n          \"2018\\ub144 FIFA \\uc6d4\\ub4dc\\ucef5 \\uc544\\uc2dc\\uc544\\n\\uc9c0\\uc5ed 2\\ucc28 \\uc608\\uc120\",\n          \"2011\\ub144 AFC \\uc544\\uc2dc\\uc548\\ucef5\"\n        ],\n        \"semantic_type\": \"\",\n        \"description\": \"\"\n      }\n    }\n  ]\n}",
       "type": "dataframe"
      },
      "text/html": [
       "\n",
       "  <div id=\"df-e7d6cabc-0d3c-473d-b4d6-be0f7c4dde4b\" class=\"colab-df-container\">\n",
       "    <div>\n",
       "<style scoped>\n",
       "    .dataframe tbody tr th:only-of-type {\n",
       "        vertical-align: middle;\n",
       "    }\n",
       "\n",
       "    .dataframe tbody tr th {\n",
       "        vertical-align: top;\n",
       "    }\n",
       "\n",
       "    .dataframe thead th {\n",
       "        text-align: right;\n",
       "    }\n",
       "</style>\n",
       "<table border=\"1\" class=\"dataframe\">\n",
       "  <thead>\n",
       "    <tr style=\"text-align: right;\">\n",
       "      <th></th>\n",
       "      <th>#</th>\n",
       "      <th>일시</th>\n",
       "      <th>장소</th>\n",
       "      <th>상대 국가</th>\n",
       "      <th>득점</th>\n",
       "      <th>결 과</th>\n",
       "      <th>매치 형식</th>\n",
       "    </tr>\n",
       "  </thead>\n",
       "  <tbody>\n",
       "    <tr>\n",
       "      <th>0</th>\n",
       "      <td>1</td>\n",
       "      <td>2011년 1월\\n18일</td>\n",
       "      <td>카타르 도하 타니 빈 자심 스타디\\n움</td>\n",
       "      <td>인도</td>\n",
       "      <td>4-1</td>\n",
       "      <td>4-1</td>\n",
       "      <td>2011년 AFC 아시안컵</td>\n",
       "    </tr>\n",
       "    <tr>\n",
       "      <th>1</th>\n",
       "      <td>2</td>\n",
       "      <td>2013년 3월\\n26일</td>\n",
       "      <td>대한민국 서울 서울월드컵경기장</td>\n",
       "      <td>카타르</td>\n",
       "      <td>2-1</td>\n",
       "      <td>2-1</td>\n",
       "      <td>2014년 FIFA 월드컵 아시아\\n지역 4차 예선</td>\n",
       "    </tr>\n",
       "    <tr>\n",
       "      <th>2</th>\n",
       "      <td>3\\n4</td>\n",
       "      <td>2013년 9월 6\\n일</td>\n",
       "      <td>대한민국 인천 인천축구전용경기\\n장</td>\n",
       "      <td>아이티</td>\n",
       "      <td>1-0\\n4-1</td>\n",
       "      <td>4-1</td>\n",
       "      <td>친선경기</td>\n",
       "    </tr>\n",
       "    <tr>\n",
       "      <th>3</th>\n",
       "      <td>5</td>\n",
       "      <td>2013년 10월\\n15일</td>\n",
       "      <td>대한민국 천안 천안종합운동장</td>\n",
       "      <td>말리</td>\n",
       "      <td>2-1</td>\n",
       "      <td>3-1</td>\n",
       "      <td>친선경기</td>\n",
       "    </tr>\n",
       "    <tr>\n",
       "      <th>4</th>\n",
       "      <td>6</td>\n",
       "      <td>2014년 3월 5\\n일</td>\n",
       "      <td>그리스 아테네 카라이스카키스\\n스타디움</td>\n",
       "      <td>그리스</td>\n",
       "      <td>2-0</td>\n",
       "      <td>2-0</td>\n",
       "      <td>친선경기</td>\n",
       "    </tr>\n",
       "    <tr>\n",
       "      <th>5</th>\n",
       "      <td>7</td>\n",
       "      <td>2014년 6월\\n22일</td>\n",
       "      <td>브라질 포르투알레그리 이스타지\\n우 베이라히우</td>\n",
       "      <td>알제리</td>\n",
       "      <td>1-3</td>\n",
       "      <td>2-4</td>\n",
       "      <td>2014년 FIFA 월드컵</td>\n",
       "    </tr>\n",
       "    <tr>\n",
       "      <th>6</th>\n",
       "      <td>8\\n9</td>\n",
       "      <td>2015년 1월\\n22일</td>\n",
       "      <td>오스트레일리아 멜버른 멜버른\\n렉탱귤러 스타디움</td>\n",
       "      <td>우즈베키\\n스탄</td>\n",
       "      <td>1-0\\n2-0</td>\n",
       "      <td>2-0</td>\n",
       "      <td>2015년 AFC 아시안컵</td>\n",
       "    </tr>\n",
       "    <tr>\n",
       "      <th>7</th>\n",
       "      <td>10</td>\n",
       "      <td>2015년 1월\\n31일</td>\n",
       "      <td>오스트레일리아 시드니 스타디움\\n오스트레일리아</td>\n",
       "      <td>오스트레\\n일리아</td>\n",
       "      <td>1-1</td>\n",
       "      <td>1-2</td>\n",
       "      <td>2015년 AFC 아시안컵</td>\n",
       "    </tr>\n",
       "    <tr>\n",
       "      <th>8</th>\n",
       "      <td>11</td>\n",
       "      <td>2015년 6월\\n16일</td>\n",
       "      <td>태국 방콕 라차망칼라 스타디움</td>\n",
       "      <td>미얀마</td>\n",
       "      <td>2-0</td>\n",
       "      <td>2-0</td>\n",
       "      <td>2018년 FIFA 월드컵 아시아\\n지역 2차 예선</td>\n",
       "    </tr>\n",
       "    <tr>\n",
       "      <th>9</th>\n",
       "      <td>12\\n13\\n14</td>\n",
       "      <td>2015년 9월 3\\n일</td>\n",
       "      <td>대한민국 화성 화성종합경기타운</td>\n",
       "      <td>라오스</td>\n",
       "      <td>2-0\\n5-0\\n7-0</td>\n",
       "      <td>8-0</td>\n",
       "      <td>2018년 FIFA 월드컵 아시아\\n지역 2차 예선</td>\n",
       "    </tr>\n",
       "    <tr>\n",
       "      <th>10</th>\n",
       "      <td>15\\n16</td>\n",
       "      <td>2015년 11월\\n17일</td>\n",
       "      <td>라오스 비엔티안 라오스 신국립\\n경기장</td>\n",
       "      <td>라오스</td>\n",
       "      <td>3-0\\n5-0</td>\n",
       "      <td>5-0</td>\n",
       "      <td>2018년 FIFA 월드컵 아시아\\n지역 2차 예선</td>\n",
       "    </tr>\n",
       "    <tr>\n",
       "      <th>11</th>\n",
       "      <td>17</td>\n",
       "      <td>2016년 10월\\n6일</td>\n",
       "      <td>대한민국 수원 수원월드컵경기장</td>\n",
       "      <td>카타르</td>\n",
       "      <td>3-2</td>\n",
       "      <td>3-2</td>\n",
       "      <td>2018년 FIFA 월드컵 아시아\\n지역 3차 예선</td>\n",
       "    </tr>\n",
       "    <tr>\n",
       "      <th>12</th>\n",
       "      <td>18</td>\n",
       "      <td>2017년 10월\\n10일</td>\n",
       "      <td>스위스 빌/비엔 티쏘 아레나</td>\n",
       "      <td>모로코</td>\n",
       "      <td>1-3</td>\n",
       "      <td>1-3</td>\n",
       "      <td>친선경기</td>\n",
       "    </tr>\n",
       "    <tr>\n",
       "      <th>13</th>\n",
       "      <td>19\\n20</td>\n",
       "      <td>2017년 11월\\n10일</td>\n",
       "      <td>대한민국 수원 수원월드컵경기장</td>\n",
       "      <td>콜롬비아</td>\n",
       "      <td>1-0\\n2-0</td>\n",
       "      <td>2-1</td>\n",
       "      <td>친선경기</td>\n",
       "    </tr>\n",
       "    <tr>\n",
       "      <th>14</th>\n",
       "      <td>21</td>\n",
       "      <td>2018년 5월\\n28일</td>\n",
       "      <td>대한민국 대구 대구스타디움</td>\n",
       "      <td>온두라스</td>\n",
       "      <td>1-0</td>\n",
       "      <td>2-0</td>\n",
       "      <td>친선경기</td>\n",
       "    </tr>\n",
       "    <tr>\n",
       "      <th>15</th>\n",
       "      <td>22</td>\n",
       "      <td>2018년 6월\\n23일</td>\n",
       "      <td>러시아 로스토프 로스토프 아레\\n나</td>\n",
       "      <td>멕시코</td>\n",
       "      <td>1-2</td>\n",
       "      <td>1-2</td>\n",
       "      <td>2018년 FIFA 월드컵</td>\n",
       "    </tr>\n",
       "    <tr>\n",
       "      <th>16</th>\n",
       "      <td>23</td>\n",
       "      <td>2018년 6월\\n27일</td>\n",
       "      <td>러시아 카잔 카잔 아레나</td>\n",
       "      <td>독일</td>\n",
       "      <td>2-\\n0[69]</td>\n",
       "      <td>2-0</td>\n",
       "      <td>2018년 FIFA 월드컵</td>\n",
       "    </tr>\n",
       "    <tr>\n",
       "      <th>17</th>\n",
       "      <td>24</td>\n",
       "      <td>2019년 3월\\n26일</td>\n",
       "      <td>대한민국 서울 서울월드컵경기장</td>\n",
       "      <td>콜롬비아</td>\n",
       "      <td>1-0</td>\n",
       "      <td>2-1</td>\n",
       "      <td>친선경기</td>\n",
       "    </tr>\n",
       "  </tbody>\n",
       "</table>\n",
       "</div>\n",
       "    <div class=\"colab-df-buttons\">\n",
       "\n",
       "  <div class=\"colab-df-container\">\n",
       "    <button class=\"colab-df-convert\" onclick=\"convertToInteractive('df-e7d6cabc-0d3c-473d-b4d6-be0f7c4dde4b')\"\n",
       "            title=\"Convert this dataframe to an interactive table.\"\n",
       "            style=\"display:none;\">\n",
       "\n",
       "  <svg xmlns=\"http://www.w3.org/2000/svg\" height=\"24px\" viewBox=\"0 -960 960 960\">\n",
       "    <path d=\"M120-120v-720h720v720H120Zm60-500h600v-160H180v160Zm220 220h160v-160H400v160Zm0 220h160v-160H400v160ZM180-400h160v-160H180v160Zm440 0h160v-160H620v160ZM180-180h160v-160H180v160Zm440 0h160v-160H620v160Z\"/>\n",
       "  </svg>\n",
       "    </button>\n",
       "\n",
       "  <style>\n",
       "    .colab-df-container {\n",
       "      display:flex;\n",
       "      gap: 12px;\n",
       "    }\n",
       "\n",
       "    .colab-df-convert {\n",
       "      background-color: #E8F0FE;\n",
       "      border: none;\n",
       "      border-radius: 50%;\n",
       "      cursor: pointer;\n",
       "      display: none;\n",
       "      fill: #1967D2;\n",
       "      height: 32px;\n",
       "      padding: 0 0 0 0;\n",
       "      width: 32px;\n",
       "    }\n",
       "\n",
       "    .colab-df-convert:hover {\n",
       "      background-color: #E2EBFA;\n",
       "      box-shadow: 0px 1px 2px rgba(60, 64, 67, 0.3), 0px 1px 3px 1px rgba(60, 64, 67, 0.15);\n",
       "      fill: #174EA6;\n",
       "    }\n",
       "\n",
       "    .colab-df-buttons div {\n",
       "      margin-bottom: 4px;\n",
       "    }\n",
       "\n",
       "    [theme=dark] .colab-df-convert {\n",
       "      background-color: #3B4455;\n",
       "      fill: #D2E3FC;\n",
       "    }\n",
       "\n",
       "    [theme=dark] .colab-df-convert:hover {\n",
       "      background-color: #434B5C;\n",
       "      box-shadow: 0px 1px 3px 1px rgba(0, 0, 0, 0.15);\n",
       "      filter: drop-shadow(0px 1px 2px rgba(0, 0, 0, 0.3));\n",
       "      fill: #FFFFFF;\n",
       "    }\n",
       "  </style>\n",
       "\n",
       "    <script>\n",
       "      const buttonEl =\n",
       "        document.querySelector('#df-e7d6cabc-0d3c-473d-b4d6-be0f7c4dde4b button.colab-df-convert');\n",
       "      buttonEl.style.display =\n",
       "        google.colab.kernel.accessAllowed ? 'block' : 'none';\n",
       "\n",
       "      async function convertToInteractive(key) {\n",
       "        const element = document.querySelector('#df-e7d6cabc-0d3c-473d-b4d6-be0f7c4dde4b');\n",
       "        const dataTable =\n",
       "          await google.colab.kernel.invokeFunction('convertToInteractive',\n",
       "                                                    [key], {});\n",
       "        if (!dataTable) return;\n",
       "\n",
       "        const docLinkHtml = 'Like what you see? Visit the ' +\n",
       "          '<a target=\"_blank\" href=https://colab.research.google.com/notebooks/data_table.ipynb>data table notebook</a>'\n",
       "          + ' to learn more about interactive tables.';\n",
       "        element.innerHTML = '';\n",
       "        dataTable['output_type'] = 'display_data';\n",
       "        await google.colab.output.renderOutput(dataTable, element);\n",
       "        const docLink = document.createElement('div');\n",
       "        docLink.innerHTML = docLinkHtml;\n",
       "        element.appendChild(docLink);\n",
       "      }\n",
       "    </script>\n",
       "  </div>\n",
       "\n",
       "\n",
       "<div id=\"df-06237e7e-08c3-404e-8214-03ba7f9785ff\">\n",
       "  <button class=\"colab-df-quickchart\" onclick=\"quickchart('df-06237e7e-08c3-404e-8214-03ba7f9785ff')\"\n",
       "            title=\"Suggest charts\"\n",
       "            style=\"display:none;\">\n",
       "\n",
       "<svg xmlns=\"http://www.w3.org/2000/svg\" height=\"24px\"viewBox=\"0 0 24 24\"\n",
       "     width=\"24px\">\n",
       "    <g>\n",
       "        <path d=\"M19 3H5c-1.1 0-2 .9-2 2v14c0 1.1.9 2 2 2h14c1.1 0 2-.9 2-2V5c0-1.1-.9-2-2-2zM9 17H7v-7h2v7zm4 0h-2V7h2v10zm4 0h-2v-4h2v4z\"/>\n",
       "    </g>\n",
       "</svg>\n",
       "  </button>\n",
       "\n",
       "<style>\n",
       "  .colab-df-quickchart {\n",
       "      --bg-color: #E8F0FE;\n",
       "      --fill-color: #1967D2;\n",
       "      --hover-bg-color: #E2EBFA;\n",
       "      --hover-fill-color: #174EA6;\n",
       "      --disabled-fill-color: #AAA;\n",
       "      --disabled-bg-color: #DDD;\n",
       "  }\n",
       "\n",
       "  [theme=dark] .colab-df-quickchart {\n",
       "      --bg-color: #3B4455;\n",
       "      --fill-color: #D2E3FC;\n",
       "      --hover-bg-color: #434B5C;\n",
       "      --hover-fill-color: #FFFFFF;\n",
       "      --disabled-bg-color: #3B4455;\n",
       "      --disabled-fill-color: #666;\n",
       "  }\n",
       "\n",
       "  .colab-df-quickchart {\n",
       "    background-color: var(--bg-color);\n",
       "    border: none;\n",
       "    border-radius: 50%;\n",
       "    cursor: pointer;\n",
       "    display: none;\n",
       "    fill: var(--fill-color);\n",
       "    height: 32px;\n",
       "    padding: 0;\n",
       "    width: 32px;\n",
       "  }\n",
       "\n",
       "  .colab-df-quickchart:hover {\n",
       "    background-color: var(--hover-bg-color);\n",
       "    box-shadow: 0 1px 2px rgba(60, 64, 67, 0.3), 0 1px 3px 1px rgba(60, 64, 67, 0.15);\n",
       "    fill: var(--button-hover-fill-color);\n",
       "  }\n",
       "\n",
       "  .colab-df-quickchart-complete:disabled,\n",
       "  .colab-df-quickchart-complete:disabled:hover {\n",
       "    background-color: var(--disabled-bg-color);\n",
       "    fill: var(--disabled-fill-color);\n",
       "    box-shadow: none;\n",
       "  }\n",
       "\n",
       "  .colab-df-spinner {\n",
       "    border: 2px solid var(--fill-color);\n",
       "    border-color: transparent;\n",
       "    border-bottom-color: var(--fill-color);\n",
       "    animation:\n",
       "      spin 1s steps(1) infinite;\n",
       "  }\n",
       "\n",
       "  @keyframes spin {\n",
       "    0% {\n",
       "      border-color: transparent;\n",
       "      border-bottom-color: var(--fill-color);\n",
       "      border-left-color: var(--fill-color);\n",
       "    }\n",
       "    20% {\n",
       "      border-color: transparent;\n",
       "      border-left-color: var(--fill-color);\n",
       "      border-top-color: var(--fill-color);\n",
       "    }\n",
       "    30% {\n",
       "      border-color: transparent;\n",
       "      border-left-color: var(--fill-color);\n",
       "      border-top-color: var(--fill-color);\n",
       "      border-right-color: var(--fill-color);\n",
       "    }\n",
       "    40% {\n",
       "      border-color: transparent;\n",
       "      border-right-color: var(--fill-color);\n",
       "      border-top-color: var(--fill-color);\n",
       "    }\n",
       "    60% {\n",
       "      border-color: transparent;\n",
       "      border-right-color: var(--fill-color);\n",
       "    }\n",
       "    80% {\n",
       "      border-color: transparent;\n",
       "      border-right-color: var(--fill-color);\n",
       "      border-bottom-color: var(--fill-color);\n",
       "    }\n",
       "    90% {\n",
       "      border-color: transparent;\n",
       "      border-bottom-color: var(--fill-color);\n",
       "    }\n",
       "  }\n",
       "</style>\n",
       "\n",
       "  <script>\n",
       "    async function quickchart(key) {\n",
       "      const quickchartButtonEl =\n",
       "        document.querySelector('#' + key + ' button');\n",
       "      quickchartButtonEl.disabled = true;  // To prevent multiple clicks.\n",
       "      quickchartButtonEl.classList.add('colab-df-spinner');\n",
       "      try {\n",
       "        const charts = await google.colab.kernel.invokeFunction(\n",
       "            'suggestCharts', [key], {});\n",
       "      } catch (error) {\n",
       "        console.error('Error during call to suggestCharts:', error);\n",
       "      }\n",
       "      quickchartButtonEl.classList.remove('colab-df-spinner');\n",
       "      quickchartButtonEl.classList.add('colab-df-quickchart-complete');\n",
       "    }\n",
       "    (() => {\n",
       "      let quickchartButtonEl =\n",
       "        document.querySelector('#df-06237e7e-08c3-404e-8214-03ba7f9785ff button');\n",
       "      quickchartButtonEl.style.display =\n",
       "        google.colab.kernel.accessAllowed ? 'block' : 'none';\n",
       "    })();\n",
       "  </script>\n",
       "</div>\n",
       "\n",
       "    </div>\n",
       "  </div>\n"
      ],
      "text/plain": [
       "             #              일시                          장소      상대 국가  \\\n",
       "0            1   2011년 1월\\n18일       카타르 도하 타니 빈 자심 스타디\\n움         인도   \n",
       "1            2   2013년 3월\\n26일            대한민국 서울 서울월드컵경기장        카타르   \n",
       "2         3\\n4   2013년 9월 6\\n일         대한민국 인천 인천축구전용경기\\n장        아이티   \n",
       "3            5  2013년 10월\\n15일             대한민국 천안 천안종합운동장         말리   \n",
       "4            6   2014년 3월 5\\n일       그리스 아테네 카라이스카키스\\n스타디움        그리스   \n",
       "5            7   2014년 6월\\n22일   브라질 포르투알레그리 이스타지\\n우 베이라히우        알제리   \n",
       "6         8\\n9   2015년 1월\\n22일  오스트레일리아 멜버른 멜버른\\n렉탱귤러 스타디움   우즈베키\\n스탄   \n",
       "7           10   2015년 1월\\n31일   오스트레일리아 시드니 스타디움\\n오스트레일리아  오스트레\\n일리아   \n",
       "8           11   2015년 6월\\n16일            태국 방콕 라차망칼라 스타디움        미얀마   \n",
       "9   12\\n13\\n14   2015년 9월 3\\n일            대한민국 화성 화성종합경기타운        라오스   \n",
       "10      15\\n16  2015년 11월\\n17일       라오스 비엔티안 라오스 신국립\\n경기장        라오스   \n",
       "11          17   2016년 10월\\n6일            대한민국 수원 수원월드컵경기장        카타르   \n",
       "12          18  2017년 10월\\n10일             스위스 빌/비엔 티쏘 아레나        모로코   \n",
       "13      19\\n20  2017년 11월\\n10일            대한민국 수원 수원월드컵경기장       콜롬비아   \n",
       "14          21   2018년 5월\\n28일              대한민국 대구 대구스타디움       온두라스   \n",
       "15          22   2018년 6월\\n23일         러시아 로스토프 로스토프 아레\\n나        멕시코   \n",
       "16          23   2018년 6월\\n27일               러시아 카잔 카잔 아레나         독일   \n",
       "17          24   2019년 3월\\n26일            대한민국 서울 서울월드컵경기장       콜롬비아   \n",
       "\n",
       "               득점  결 과                         매치 형식  \n",
       "0             4-1  4-1                2011년 AFC 아시안컵  \n",
       "1             2-1  2-1  2014년 FIFA 월드컵 아시아\\n지역 4차 예선  \n",
       "2        1-0\\n4-1  4-1                          친선경기  \n",
       "3             2-1  3-1                          친선경기  \n",
       "4             2-0  2-0                          친선경기  \n",
       "5             1-3  2-4                2014년 FIFA 월드컵  \n",
       "6        1-0\\n2-0  2-0                2015년 AFC 아시안컵  \n",
       "7             1-1  1-2                2015년 AFC 아시안컵  \n",
       "8             2-0  2-0  2018년 FIFA 월드컵 아시아\\n지역 2차 예선  \n",
       "9   2-0\\n5-0\\n7-0  8-0  2018년 FIFA 월드컵 아시아\\n지역 2차 예선  \n",
       "10       3-0\\n5-0  5-0  2018년 FIFA 월드컵 아시아\\n지역 2차 예선  \n",
       "11            3-2  3-2  2018년 FIFA 월드컵 아시아\\n지역 3차 예선  \n",
       "12            1-3  1-3                          친선경기  \n",
       "13       1-0\\n2-0  2-1                          친선경기  \n",
       "14            1-0  2-0                          친선경기  \n",
       "15            1-2  1-2                2018년 FIFA 월드컵  \n",
       "16      2-\\n0[69]  2-0                2018년 FIFA 월드컵  \n",
       "17            1-0  2-1                          친선경기  "
      ]
     },
     "execution_count": 64,
     "metadata": {},
     "output_type": "execute_result"
    }
   ],
   "source": [
    "table_dfs[2]"
   ]
  },
  {
   "cell_type": "code",
   "execution_count": 113,
   "metadata": {
    "executionInfo": {
     "elapsed": 303,
     "status": "ok",
     "timestamp": 1728724649992,
     "user": {
      "displayName": "한두솔",
      "userId": "14744311692633150263"
     },
     "user_tz": -540
    },
    "id": "d-6gRXv9evL-"
   },
   "outputs": [],
   "source": [
    "# 쿼리엔진 요약문 생성\n",
    "summaries = [\n",
    "    (\n",
    "        \"This node provides information about 손흥민의 시즌별 통산 득점 기록\"\n",
    "    ),\n",
    "    (\n",
    "        \"This node provides information about 손흥민의 상대팀별 기록\"\n",
    "    ),\n",
    "    (\n",
    "        \"This node provides information about 손흥민의 국가대표팀 득점 기록\"\n",
    "    ),\n",
    "]\n",
    "\n",
    "#생성된 요약문 별 노드단위 생성\n",
    "df_nodes = [\n",
    "    IndexNode(text=summary, index_id=f\"pandas{idx}\")\n",
    "    for idx, summary in enumerate(summaries)\n",
    "]\n",
    "\n",
    "#요약노드 <-> 쿼리엔진 매핑\n",
    "df_id_query_engine_mapping = {\n",
    "    f\"pandas{idx}\": df_query_engine\n",
    "    for idx, df_query_engine in enumerate(df_query_engines)\n",
    "}"
   ]
  },
  {
   "cell_type": "code",
   "execution_count": 114,
   "metadata": {
    "executionInfo": {
     "elapsed": 641,
     "status": "ok",
     "timestamp": 1728724678880,
     "user": {
      "displayName": "한두솔",
      "userId": "14744311692633150263"
     },
     "user_tz": -540
    },
    "id": "xkLP-RW3fpnU"
   },
   "outputs": [
    {
     "name": "stdout",
     "output_type": "stream",
     "text": [
      "INFO:httpx:HTTP Request: POST https://api.openai.com/v1/embeddings \"HTTP/1.1 200 OK\"\n",
      "HTTP Request: POST https://api.openai.com/v1/embeddings \"HTTP/1.1 200 OK\"\n"
     ]
    }
   ],
   "source": [
    "#상위레벨 벡터스토어인덱스 정의\n",
    "vector_index = VectorStoreIndex(df_nodes)\n",
    "vector_retriever = vector_index.as_retriever(similarity_top_k=1)"
   ]
  },
  {
   "cell_type": "code",
   "execution_count": 115,
   "metadata": {
    "executionInfo": {
     "elapsed": 460,
     "status": "ok",
     "timestamp": 1728724686375,
     "user": {
      "displayName": "한두솔",
      "userId": "14744311692633150263"
     },
     "user_tz": -540
    },
    "id": "9V7me2lWf3qb"
   },
   "outputs": [],
   "source": [
    "recursive_retriever = RecursiveRetriever(\n",
    "    \"vector\",\n",
    "    retriever_dict={\"vector\": vector_retriever},\n",
    "    query_engine_dict=df_id_query_engine_mapping,\n",
    "    verbose=True,\n",
    ")\n",
    "\n",
    "response_synthesizer = get_response_synthesizer(response_mode=\"compact\")\n",
    "\n",
    "query_engine = RetrieverQueryEngine.from_args(\n",
    "    recursive_retriever, response_synthesizer=response_synthesizer\n",
    ")"
   ]
  },
  {
   "cell_type": "code",
   "execution_count": 116,
   "metadata": {
    "colab": {
     "base_uri": "https://localhost:8080/"
    },
    "executionInfo": {
     "elapsed": 1372,
     "status": "ok",
     "timestamp": 1728724709564,
     "user": {
      "displayName": "한두솔",
      "userId": "14744311692633150263"
     },
     "user_tz": -540
    },
    "id": "0EVA1ohmf-xl",
    "outputId": "63c3fecc-b624-4748-c70e-611e727f163b"
   },
   "outputs": [
    {
     "name": "stdout",
     "output_type": "stream",
     "text": [
      "\u001b[1;3;34mRetrieving with query id None: 손흥민이 상대팀 리버풀 상대로 몇골 넣었지?\n",
      "\u001b[0mINFO:httpx:HTTP Request: POST https://api.openai.com/v1/embeddings \"HTTP/1.1 200 OK\"\n",
      "HTTP Request: POST https://api.openai.com/v1/embeddings \"HTTP/1.1 200 OK\"\n",
      "\u001b[1;3;38;5;200mRetrieved node with id, entering: pandas1\n",
      "\u001b[0m\u001b[1;3;34mRetrieving with query id pandas1: 손흥민이 상대팀 리버풀 상대로 몇골 넣었지?\n",
      "\u001b[0mINFO:httpx:HTTP Request: POST https://api.openai.com/v1/chat/completions \"HTTP/1.1 200 OK\"\n",
      "HTTP Request: POST https://api.openai.com/v1/chat/completions \"HTTP/1.1 200 OK\"\n",
      "\u001b[1;3;32mGot response: 0\n",
      "\u001b[0mINFO:httpx:HTTP Request: POST https://api.openai.com/v1/chat/completions \"HTTP/1.1 200 OK\"\n",
      "HTTP Request: POST https://api.openai.com/v1/chat/completions \"HTTP/1.1 200 OK\"\n",
      "0\n"
     ]
    }
   ],
   "source": [
    "#질문: \"손흥민이 상대팀 리버풀 상대로 몇골 넣었지?\"\n",
    "response = query_engine.query(\"손흥민이 상대팀 리버풀 상대로 몇골 넣었지?\")\n",
    "print(str(response))"
   ]
  },
  {
   "cell_type": "code",
   "execution_count": 117,
   "metadata": {
    "colab": {
     "base_uri": "https://localhost:8080/"
    },
    "executionInfo": {
     "elapsed": 2098,
     "status": "ok",
     "timestamp": 1728724734516,
     "user": {
      "displayName": "한두솔",
      "userId": "14744311692633150263"
     },
     "user_tz": -540
    },
    "id": "8G1AyUA1gEnW",
    "outputId": "9400db34-08df-4a16-ff74-676353d486e4"
   },
   "outputs": [
    {
     "name": "stdout",
     "output_type": "stream",
     "text": [
      "\u001b[1;3;34mRetrieving with query id None: 손흥민이 리그에서 23골을 넣었던 시즌이 언제야?\n",
      "\u001b[0mINFO:httpx:HTTP Request: POST https://api.openai.com/v1/embeddings \"HTTP/1.1 200 OK\"\n",
      "HTTP Request: POST https://api.openai.com/v1/embeddings \"HTTP/1.1 200 OK\"\n",
      "\u001b[1;3;38;5;200mRetrieved node with id, entering: pandas0\n",
      "\u001b[0m\u001b[1;3;34mRetrieving with query id pandas0: 손흥민이 리그에서 23골을 넣었던 시즌이 언제야?\n",
      "\u001b[0mINFO:httpx:HTTP Request: POST https://api.openai.com/v1/chat/completions \"HTTP/1.1 200 OK\"\n",
      "HTTP Request: POST https://api.openai.com/v1/chat/completions \"HTTP/1.1 200 OK\"\n",
      "\u001b[1;3;32mGot response: There was an error running the output as Python code. Error message: attempt to get argmax of an empty sequence\n",
      "\u001b[0m"
     ]
    },
    {
     "name": "stderr",
     "output_type": "stream",
     "text": [
      "Traceback (most recent call last):\n",
      "  File \"/Users/hyeonjinho/.pyenv/versions/3.11.6/lib/python3.11/site-packages/llama_index/experimental/query_engine/pandas/output_parser.py\", line 63, in default_output_processor\n",
      "    output_str = str(safe_eval(module_end_str, global_vars, local_vars))\n",
      "                     ^^^^^^^^^^^^^^^^^^^^^^^^^^^^^^^^^^^^^^^^^^^^^^^^^^\n",
      "  File \"/Users/hyeonjinho/.pyenv/versions/3.11.6/lib/python3.11/site-packages/llama_index/experimental/exec_utils.py\", line 159, in safe_eval\n",
      "    return eval(__source, _get_restricted_globals(__globals), __locals)\n",
      "           ^^^^^^^^^^^^^^^^^^^^^^^^^^^^^^^^^^^^^^^^^^^^^^^^^^^^^^^^^^^^\n",
      "  File \"<string>\", line 1, in <module>\n",
      "  File \"/Users/hyeonjinho/.pyenv/versions/3.11.6/lib/python3.11/site-packages/pandas/core/series.py\", line 2761, in idxmax\n",
      "    i = self.argmax(axis, skipna, *args, **kwargs)\n",
      "        ^^^^^^^^^^^^^^^^^^^^^^^^^^^^^^^^^^^^^^^^^^\n",
      "  File \"/Users/hyeonjinho/.pyenv/versions/3.11.6/lib/python3.11/site-packages/pandas/core/base.py\", line 751, in argmax\n",
      "    result = nanops.nanargmax(delegate, skipna=skipna)\n",
      "             ^^^^^^^^^^^^^^^^^^^^^^^^^^^^^^^^^^^^^^^^^\n",
      "  File \"/Users/hyeonjinho/.pyenv/versions/3.11.6/lib/python3.11/site-packages/pandas/core/nanops.py\", line 1148, in nanargmax\n",
      "    result = values.argmax(axis)\n",
      "             ^^^^^^^^^^^^^^^^^^^\n",
      "ValueError: attempt to get argmax of an empty sequence\n"
     ]
    },
    {
     "name": "stdout",
     "output_type": "stream",
     "text": [
      "INFO:httpx:HTTP Request: POST https://api.openai.com/v1/chat/completions \"HTTP/1.1 200 OK\"\n",
      "HTTP Request: POST https://api.openai.com/v1/chat/completions \"HTTP/1.1 200 OK\"\n",
      "손흥민이 리그에서 23골을 넣었던 시즌은 2021-2022 시즌입니다.\n"
     ]
    }
   ],
   "source": [
    "#질문: \"손흥민이 리그에서 23골을 넣었던 시즌이 언제야?\"\n",
    "response =query_engine.query(\"손흥민이 리그에서 23골을 넣었던 시즌이 언제야?\")\n",
    "print(str(response))"
   ]
  },
  {
   "cell_type": "code",
   "execution_count": 118,
   "metadata": {
    "colab": {
     "base_uri": "https://localhost:8080/"
    },
    "executionInfo": {
     "elapsed": 2066,
     "status": "ok",
     "timestamp": 1728724759327,
     "user": {
      "displayName": "한두솔",
      "userId": "14744311692633150263"
     },
     "user_tz": -540
    },
    "id": "4WKJBGmdg_r5",
    "outputId": "73bb6023-086c-4e9a-c63b-b5d1d2b5254a"
   },
   "outputs": [
    {
     "name": "stdout",
     "output_type": "stream",
     "text": [
      "\u001b[1;3;34mRetrieving with query id None: 손흥민이 어떤 팀 상대로 가장 많은 골을 넣었지?\n",
      "\u001b[0mINFO:httpx:HTTP Request: POST https://api.openai.com/v1/embeddings \"HTTP/1.1 200 OK\"\n",
      "HTTP Request: POST https://api.openai.com/v1/embeddings \"HTTP/1.1 200 OK\"\n",
      "\u001b[1;3;38;5;200mRetrieved node with id, entering: pandas1\n",
      "\u001b[0m\u001b[1;3;34mRetrieving with query id pandas1: 손흥민이 어떤 팀 상대로 가장 많은 골을 넣었지?\n",
      "\u001b[0mINFO:httpx:HTTP Request: POST https://api.openai.com/v1/chat/completions \"HTTP/1.1 200 OK\"\n",
      "HTTP Request: POST https://api.openai.com/v1/chat/completions \"HTTP/1.1 200 OK\"\n",
      "\u001b[1;3;32mGot response: There was an error running the output as Python code. Error message: attempt to get argmax of an empty sequence\n",
      "\u001b[0m"
     ]
    },
    {
     "name": "stderr",
     "output_type": "stream",
     "text": [
      "Traceback (most recent call last):\n",
      "  File \"/Users/hyeonjinho/.pyenv/versions/3.11.6/lib/python3.11/site-packages/llama_index/experimental/query_engine/pandas/output_parser.py\", line 63, in default_output_processor\n",
      "    output_str = str(safe_eval(module_end_str, global_vars, local_vars))\n",
      "                     ^^^^^^^^^^^^^^^^^^^^^^^^^^^^^^^^^^^^^^^^^^^^^^^^^^\n",
      "  File \"/Users/hyeonjinho/.pyenv/versions/3.11.6/lib/python3.11/site-packages/llama_index/experimental/exec_utils.py\", line 159, in safe_eval\n",
      "    return eval(__source, _get_restricted_globals(__globals), __locals)\n",
      "           ^^^^^^^^^^^^^^^^^^^^^^^^^^^^^^^^^^^^^^^^^^^^^^^^^^^^^^^^^^^^\n",
      "  File \"<string>\", line 1, in <module>\n",
      "  File \"/Users/hyeonjinho/.pyenv/versions/3.11.6/lib/python3.11/site-packages/pandas/core/series.py\", line 2761, in idxmax\n",
      "    i = self.argmax(axis, skipna, *args, **kwargs)\n",
      "        ^^^^^^^^^^^^^^^^^^^^^^^^^^^^^^^^^^^^^^^^^^\n",
      "  File \"/Users/hyeonjinho/.pyenv/versions/3.11.6/lib/python3.11/site-packages/pandas/core/base.py\", line 751, in argmax\n",
      "    result = nanops.nanargmax(delegate, skipna=skipna)\n",
      "             ^^^^^^^^^^^^^^^^^^^^^^^^^^^^^^^^^^^^^^^^^\n",
      "  File \"/Users/hyeonjinho/.pyenv/versions/3.11.6/lib/python3.11/site-packages/pandas/core/nanops.py\", line 1148, in nanargmax\n",
      "    result = values.argmax(axis)\n",
      "             ^^^^^^^^^^^^^^^^^^^\n",
      "ValueError: attempt to get argmax of an empty sequence\n"
     ]
    },
    {
     "name": "stdout",
     "output_type": "stream",
     "text": [
      "INFO:httpx:HTTP Request: POST https://api.openai.com/v1/chat/completions \"HTTP/1.1 200 OK\"\n",
      "HTTP Request: POST https://api.openai.com/v1/chat/completions \"HTTP/1.1 200 OK\"\n",
      "손흥민이 가장 많은 골을 넣은 팀은 번리입니다.\n"
     ]
    }
   ],
   "source": [
    "#질문: \"손흥민이 어떤 팀 상대로 가장 많은 골을 넣었지?\"\n",
    "response =query_engine.query(\"손흥민이 어떤 팀 상대로 가장 많은 골을 넣었지?\")\n",
    "print(str(response))\n"
   ]
  },
  {
   "cell_type": "code",
   "execution_count": 119,
   "metadata": {
    "colab": {
     "base_uri": "https://localhost:8080/"
    },
    "executionInfo": {
     "elapsed": 1687,
     "status": "ok",
     "timestamp": 1728724776445,
     "user": {
      "displayName": "한두솔",
      "userId": "14744311692633150263"
     },
     "user_tz": -540
    },
    "id": "Rlruht0OhV9f",
    "outputId": "66aefdeb-e78b-4f74-adb4-1ac63ab1e789"
   },
   "outputs": [
    {
     "name": "stdout",
     "output_type": "stream",
     "text": [
      "\u001b[1;3;34mRetrieving with query id None: 2018 FIFA 월드컵에서 어떤 팀들 상대로 골 넣었었지?\n",
      "\u001b[0mINFO:httpx:HTTP Request: POST https://api.openai.com/v1/embeddings \"HTTP/1.1 200 OK\"\n",
      "HTTP Request: POST https://api.openai.com/v1/embeddings \"HTTP/1.1 200 OK\"\n",
      "\u001b[1;3;38;5;200mRetrieved node with id, entering: pandas2\n",
      "\u001b[0m\u001b[1;3;34mRetrieving with query id pandas2: 2018 FIFA 월드컵에서 어떤 팀들 상대로 골 넣었었지?\n",
      "\u001b[0mINFO:httpx:HTTP Request: POST https://api.openai.com/v1/chat/completions \"HTTP/1.1 200 OK\"\n",
      "HTTP Request: POST https://api.openai.com/v1/chat/completions \"HTTP/1.1 200 OK\"\n",
      "\u001b[1;3;32mGot response: Series([], Name: Name, dtype: object)\n",
      "\u001b[0mINFO:httpx:HTTP Request: POST https://api.openai.com/v1/chat/completions \"HTTP/1.1 200 OK\"\n",
      "HTTP Request: POST https://api.openai.com/v1/chat/completions \"HTTP/1.1 200 OK\"\n",
      "골을 넣은 팀에 대한 정보는 제공되지 않았습니다.\n"
     ]
    }
   ],
   "source": [
    "#질문: \"2018 FIFA 월드컵에서 어떤 팀들 상대로 골 넣었었지?\"\n",
    "response =query_engine.query(\"2018 FIFA 월드컵에서 어떤 팀들 상대로 골 넣었었지?\")\n",
    "print(str(response))\n"
   ]
  },
  {
   "cell_type": "code",
   "execution_count": null,
   "metadata": {
    "id": "ozZNmi6fhvk4"
   },
   "outputs": [],
   "source": []
  }
 ],
 "metadata": {
  "colab": {
   "authorship_tag": "ABX9TyNgijOCfzIZLbOfQjeBtntG",
   "provenance": [
    {
     "file_id": "1awJ8TrVmfsrLxokJN6yYhC8AaTU7ZQPm",
     "timestamp": 1723180010495
    }
   ]
  },
  "kernelspec": {
   "display_name": "Python 3",
   "name": "python3"
  },
  "language_info": {
   "codemirror_mode": {
    "name": "ipython",
    "version": 3
   },
   "file_extension": ".py",
   "mimetype": "text/x-python",
   "name": "python",
   "nbconvert_exporter": "python",
   "pygments_lexer": "ipython3",
   "version": "3.11.6"
  }
 },
 "nbformat": 4,
 "nbformat_minor": 0
}
