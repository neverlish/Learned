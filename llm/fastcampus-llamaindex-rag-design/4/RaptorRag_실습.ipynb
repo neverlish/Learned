{
 "cells": [
  {
   "cell_type": "markdown",
   "metadata": {
    "id": "Wnawmk39mzJu"
   },
   "source": [
    "# Modular RAG  - Raptor RAG (2024, Stanford Univ.)\n",
    "\n",
    "- Tackling Problem: RAG에 들어가는 문서 수가 많아질수록, 그리고 답안에 필요한 정보량이 long-tail로 방대해야 할때 Retrieval 성능이 너무 좋지 않아진다\n",
    "\n",
    "- 제안 방법론: 정보들을 단계적 추상화를 통해 enrich시켜서 질문에서 요구하는 context의 뎁스에 알맞는 청크가 뽑히도록 하자.\n",
    "\n",
    "- (인덱싱 프로세스) Text Chunk를 의미적으로 유사한 다른 Chunk들과 군집화 시키고 -> 군집별 요약문 생성하여 정보 압축 -> 요약문에 대한 임베딩 생성 (전체 프로세스 n번 반복하여 계층적 트리구조 생성)\n",
    "\n",
    "- (검색 프로세스) Query와 가장 유사한 정보를 Root Node(Layer)에서 찾고, 그 root node가 생성한 요약문이 기반으로 두는 child summary를 찾고, 반복하며 최종적으로 사용자가 지정한 n개의 top-k 유사한 노드가 뽑힐때까지 트리 구조를 traverse함."
   ]
  },
  {
   "cell_type": "markdown",
   "metadata": {
    "id": "xx1bRAlxmzJy"
   },
   "source": [
    "# RAPTOR RAG 구조"
   ]
  },
  {
   "cell_type": "markdown",
   "metadata": {
    "id": "Ut0ggMTWmzJz"
   },
   "source": [
    "### Indexing 구조\n",
    "\n",
    "- 특이점은, GMM기반의 군집화를 하기 때문에 클러스터별 해당하는 노드의 개수가 다르고, 각 차일드노드가 속할 수 있는 패런트노드도 1대다수 관계일 수 있는데, 정보체계라는걸 생각해보면 이 클러스터링 알고리즘이 굉장히 적합한 것으로 사료됨."
   ]
  },
  {
   "cell_type": "markdown",
   "metadata": {
    "id": "ijE-nIuzmzJz"
   },
   "source": [
    "# Modular RAG(RAPTOR) 간단구성\n",
    "\n",
    "- 관련 패키지 임포트\n",
    "- 활용 LLM api정보 설정\n",
    "- RAG 파이프라인 글로벌 세팅 설정\n",
    "- 기준 데이터셋 로드\n",
    "- 기준 데이터셋 전처리\n",
    "- (베이스RAG)벡터스토어인덱스 설정\n",
    "- (베이스RAG)쿼리 엔진 설정\n",
    "- (RAPTOR RAG) 크로마DB 설정\n",
    "- (RAPTOR RAG) 쿼리 엔진 설정"
   ]
  },
  {
   "cell_type": "code",
   "execution_count": 2,
   "metadata": {
    "executionInfo": {
     "elapsed": 34950,
     "status": "ok",
     "timestamp": 1728727623693,
     "user": {
      "displayName": "한두솔",
      "userId": "14744311692633150263"
     },
     "user_tz": -540
    },
    "id": "TU1xHYE9mzJ0"
   },
   "outputs": [],
   "source": [
    "# 관련 패키지 임포트\n",
    "from llama_index.core import (\n",
    "    SimpleDirectoryReader,\n",
    "    VectorStoreIndex\n",
    ")\n",
    "import os\n",
    "from llama_index.embeddings.openai import OpenAIEmbedding\n",
    "from llama_index.core.node_parser import SentenceSplitter\n",
    "from llama_index.core.ingestion import IngestionPipeline\n",
    "from llama_index.core.settings import Settings\n",
    "from llama_index.llms.openai import OpenAI\n",
    "from llama_index.core.node_parser import SentenceSplitter\n",
    "from llama_index.vector_stores.chroma import ChromaVectorStore\n",
    "import chromadb\n",
    "from llama_index.packs.raptor import RaptorPack\n",
    "from llama_index.core.query_engine import RetrieverQueryEngine\n",
    "import nest_asyncio\n",
    "nest_asyncio.apply()"
   ]
  },
  {
   "cell_type": "code",
   "execution_count": 3,
   "metadata": {
    "executionInfo": {
     "elapsed": 1,
     "status": "ok",
     "timestamp": 1728727623693,
     "user": {
      "displayName": "한두솔",
      "userId": "14744311692633150263"
     },
     "user_tz": -540
    },
    "id": "oXQakfUlmzJ2"
   },
   "outputs": [],
   "source": [
    "# RAG 파이프라인 글로벌 설정\n",
    "Settings.llm=OpenAI(model='gpt-4o-mini',temperature=0)\n",
    "Settings.embed_model=OpenAIEmbedding(model='text-embedding-3-small')"
   ]
  },
  {
   "cell_type": "code",
   "execution_count": 4,
   "metadata": {
    "executionInfo": {
     "elapsed": 317,
     "status": "ok",
     "timestamp": 1728727648565,
     "user": {
      "displayName": "한두솔",
      "userId": "14744311692633150263"
     },
     "user_tz": -540
    },
    "id": "GlC-cGnhmzJ2"
   },
   "outputs": [],
   "source": [
    "# 데이터 로드\n",
    "dataset = SimpleDirectoryReader(input_files=['./cinderella.txt']).load_data()"
   ]
  },
  {
   "cell_type": "code",
   "execution_count": 5,
   "metadata": {
    "executionInfo": {
     "elapsed": 312,
     "status": "ok",
     "timestamp": 1728727685796,
     "user": {
      "displayName": "한두솔",
      "userId": "14744311692633150263"
     },
     "user_tz": -540
    },
    "id": "IUrrHdY1mzJ2"
   },
   "outputs": [],
   "source": [
    "# 청크사이즈 전처리 파이프라인 생성\n",
    "pipeline_200 = IngestionPipeline(\n",
    "    transformations=[\n",
    "        SentenceSplitter(chunk_size=300, chunk_overlap=0)\n",
    "    ]\n",
    ")\n",
    "\n",
    "# 설정한 파이프라인 설정으로 기준 다큐먼트 노드 오브젝트로 변경\n",
    "nodes_200 = pipeline_200.run(documents=dataset)"
   ]
  },
  {
   "cell_type": "code",
   "execution_count": 6,
   "metadata": {
    "colab": {
     "base_uri": "https://localhost:8080/"
    },
    "executionInfo": {
     "elapsed": 325,
     "status": "ok",
     "timestamp": 1728727695540,
     "user": {
      "displayName": "한두솔",
      "userId": "14744311692633150263"
     },
     "user_tz": -540
    },
    "id": "xfmLZavUmzJ2",
    "outputId": "d1629d96-80ec-4ca2-952f-529750313a5c"
   },
   "outputs": [
    {
     "data": {
      "text/plain": [
       "[TextNode(id_='d9504d46-e0cd-4bec-b1e2-5edffe3e83dd', embedding=None, metadata={'file_path': 'cinderella.txt', 'file_name': 'cinderella.txt', 'file_type': 'text/plain', 'file_size': 20547, 'creation_date': '2025-05-01', 'last_modified_date': '2025-05-01'}, excluded_embed_metadata_keys=['file_name', 'file_type', 'file_size', 'creation_date', 'last_modified_date', 'last_accessed_date'], excluded_llm_metadata_keys=['file_name', 'file_type', 'file_size', 'creation_date', 'last_modified_date', 'last_accessed_date'], relationships={<NodeRelationship.SOURCE: '1'>: RelatedNodeInfo(node_id='c370b4a9-168a-4c6d-bb35-101ac1cd9a0c', node_type=<ObjectType.DOCUMENT: '4'>, metadata={'file_path': 'cinderella.txt', 'file_name': 'cinderella.txt', 'file_type': 'text/plain', 'file_size': 20547, 'creation_date': '2025-05-01', 'last_modified_date': '2025-05-01'}, hash='f7ccb35b5e68f7e345e47d667a2ca3f87603fe7a8959cbd416d7a832f1a8f277'), <NodeRelationship.NEXT: '3'>: RelatedNodeInfo(node_id='6f2ef8da-6d33-4d33-aaf5-29917c010432', node_type=<ObjectType.TEXT: '1'>, metadata={}, hash='0a93829bb6d3ed0c9f5f73777bf88c86cc8895b7e2ce61101c1da964d797101d')}, metadata_template='{key}: {value}', metadata_separator='\\n', text='There once lived a gentleman and his wife, who were the parents of a\\nlovely little daughter.\\n\\nWhen this child was only nine years of age, her mother fell sick.\\nFinding her death coming on, she called her child to her and said to\\nher, \"My child, always be good; bear every thing that happens to you\\nwith patience, and whatever evil and troubles you may suffer, you will\\nbe happy in the end if you are so.\" Then the poor lady died, and her\\ndaughter was full of great grief at the loss of a mother so good and\\nkind.\\n\\nThe father too was unhappy, but he sought to get rid of his sorrow by\\nmarrying another wife, and he looked out for some prudent lady who might\\nbe a second mother to his child, and a companion to himself. His choice\\nfell on a widow lady, of a proud and tyrannical temper, who had two\\ndaughters by a former marriage, both as haughty and bad-tempered as\\ntheir mother. No sooner was the wedding over, than the step-mother began\\nto show her bad temper. She could not bear her step-daughter\\'s good\\nqualities, that only showed up her daughters\\' unamiable ones still more\\nobviously, and she accordingly compelled the poor girl to do all the\\ndrudgery of the household.', mimetype='text/plain', start_char_idx=0, end_char_idx=1173, metadata_seperator='\\n', text_template='{metadata_str}\\n\\n{content}'),\n",
       " TextNode(id_='6f2ef8da-6d33-4d33-aaf5-29917c010432', embedding=None, metadata={'file_path': 'cinderella.txt', 'file_name': 'cinderella.txt', 'file_type': 'text/plain', 'file_size': 20547, 'creation_date': '2025-05-01', 'last_modified_date': '2025-05-01'}, excluded_embed_metadata_keys=['file_name', 'file_type', 'file_size', 'creation_date', 'last_modified_date', 'last_accessed_date'], excluded_llm_metadata_keys=['file_name', 'file_type', 'file_size', 'creation_date', 'last_modified_date', 'last_accessed_date'], relationships={<NodeRelationship.SOURCE: '1'>: RelatedNodeInfo(node_id='c370b4a9-168a-4c6d-bb35-101ac1cd9a0c', node_type=<ObjectType.DOCUMENT: '4'>, metadata={'file_path': 'cinderella.txt', 'file_name': 'cinderella.txt', 'file_type': 'text/plain', 'file_size': 20547, 'creation_date': '2025-05-01', 'last_modified_date': '2025-05-01'}, hash='f7ccb35b5e68f7e345e47d667a2ca3f87603fe7a8959cbd416d7a832f1a8f277'), <NodeRelationship.PREVIOUS: '2'>: RelatedNodeInfo(node_id='d9504d46-e0cd-4bec-b1e2-5edffe3e83dd', node_type=<ObjectType.TEXT: '1'>, metadata={'file_path': 'cinderella.txt', 'file_name': 'cinderella.txt', 'file_type': 'text/plain', 'file_size': 20547, 'creation_date': '2025-05-01', 'last_modified_date': '2025-05-01'}, hash='00ef52d9ea38b5f8528acd52ad674e83b2f12a46d5e4f578aba67f3a8a42a1f6'), <NodeRelationship.NEXT: '3'>: RelatedNodeInfo(node_id='821a2b32-c9b9-4381-a07c-0e2a503aba97', node_type=<ObjectType.TEXT: '1'>, metadata={}, hash='73bb4c079a19b9b74c98566887fab2a0512421b24128361356873cab8af2a42b')}, metadata_template='{key}: {value}', metadata_separator='\\n', text=\"It was she who washed the dishes, and\\nscrubbed down the stairs, and polished the floors in my lady's chamber\\nand in those of the two pert misses, her daughters; and while the latter\\nslept on good feather beds in elegant rooms, furnished with full-length\\nlooking-glasses, their sister lay in a wretched garret on an old straw\\nmattress. Yet the poor thing bore this ill treatment very meekly, and\\ndid not dare complain to her father, who thought so much of his wife\\nthat he would only have scolded her.\\n\\nWhen her work was done, she used to sit in the chimney-corner amongst\\nthe cinders, which had caused the nickname of _Cinderella_ to be given\\nher by the family; yet, for all her shabby clothes, Cinderella was a\\nhundred times prettier than her sisters, let them be dressed ever so\\nmagnificently.\\n\\nThe poor little Cinder-wench! this harsh stepmother was a sore trial to\\nher; and how often, as she sate sadly by herself, did she feel that\\nthere is no mother like our own, the dear parent whose flesh and blood\\nwe are, and who bears all our little cares and sorrows tenderly as in\\nthe apple of her eye!\", mimetype='text/plain', start_char_idx=1174, end_char_idx=2273, metadata_seperator='\\n', text_template='{metadata_str}\\n\\n{content}'),\n",
       " TextNode(id_='821a2b32-c9b9-4381-a07c-0e2a503aba97', embedding=None, metadata={'file_path': 'cinderella.txt', 'file_name': 'cinderella.txt', 'file_type': 'text/plain', 'file_size': 20547, 'creation_date': '2025-05-01', 'last_modified_date': '2025-05-01'}, excluded_embed_metadata_keys=['file_name', 'file_type', 'file_size', 'creation_date', 'last_modified_date', 'last_accessed_date'], excluded_llm_metadata_keys=['file_name', 'file_type', 'file_size', 'creation_date', 'last_modified_date', 'last_accessed_date'], relationships={<NodeRelationship.SOURCE: '1'>: RelatedNodeInfo(node_id='c370b4a9-168a-4c6d-bb35-101ac1cd9a0c', node_type=<ObjectType.DOCUMENT: '4'>, metadata={'file_path': 'cinderella.txt', 'file_name': 'cinderella.txt', 'file_type': 'text/plain', 'file_size': 20547, 'creation_date': '2025-05-01', 'last_modified_date': '2025-05-01'}, hash='f7ccb35b5e68f7e345e47d667a2ca3f87603fe7a8959cbd416d7a832f1a8f277'), <NodeRelationship.PREVIOUS: '2'>: RelatedNodeInfo(node_id='6f2ef8da-6d33-4d33-aaf5-29917c010432', node_type=<ObjectType.TEXT: '1'>, metadata={'file_path': 'cinderella.txt', 'file_name': 'cinderella.txt', 'file_type': 'text/plain', 'file_size': 20547, 'creation_date': '2025-05-01', 'last_modified_date': '2025-05-01'}, hash='ae07b1f7704da7ebbaaf0f2fd96914fcf9228582e7ddd19b720466602e05afa2'), <NodeRelationship.NEXT: '3'>: RelatedNodeInfo(node_id='af351c23-f4f7-40cb-a895-72fa4e7407ed', node_type=<ObjectType.TEXT: '1'>, metadata={}, hash='c0a478d0baf61291d1a3072116ff5bc653ed94b37ab87a204b0ebe9a5625450e')}, metadata_template='{key}: {value}', metadata_separator='\\n', text='It happened that the king\\'s son gave a ball, to which he invited all the\\nnobility; and, as our two young ladies made a great figure in the world,\\nthey were included in the list of invitations. So they began to be very\\nbusy choosing what head-dress and which gown would be the most becoming.\\nHere was fresh work for poor Cinderella: for it was she, forsooth, who\\nwas to starch and get up their ruffles, and iron all their fine linen;\\nand nothing but dress was talked about for days together. \"I,\" said the\\neldest, \"shall put on my red velvet dress, with my point-lace\\ntrimmings.\" \"And I,\" said the younger sister, \"shall wear my usual\\npetticoat, but shall set it off with my gold brocaded train and my\\ncirclet of diamonds.\"\\n\\nThey sent for a clever tire-woman to prepare the double rows of quilling\\nfor their caps, and they purchased a quantity of fashionably cut\\npatches. They called in Cinderella to take her advice, as she had such\\ngood taste, and Cinderella not only advised them  well,  but offered to\\ndress their hair, which they were pleased to accept.', mimetype='text/plain', start_char_idx=2275, end_char_idx=3332, metadata_seperator='\\n', text_template='{metadata_str}\\n\\n{content}'),\n",
       " TextNode(id_='af351c23-f4f7-40cb-a895-72fa4e7407ed', embedding=None, metadata={'file_path': 'cinderella.txt', 'file_name': 'cinderella.txt', 'file_type': 'text/plain', 'file_size': 20547, 'creation_date': '2025-05-01', 'last_modified_date': '2025-05-01'}, excluded_embed_metadata_keys=['file_name', 'file_type', 'file_size', 'creation_date', 'last_modified_date', 'last_accessed_date'], excluded_llm_metadata_keys=['file_name', 'file_type', 'file_size', 'creation_date', 'last_modified_date', 'last_accessed_date'], relationships={<NodeRelationship.SOURCE: '1'>: RelatedNodeInfo(node_id='c370b4a9-168a-4c6d-bb35-101ac1cd9a0c', node_type=<ObjectType.DOCUMENT: '4'>, metadata={'file_path': 'cinderella.txt', 'file_name': 'cinderella.txt', 'file_type': 'text/plain', 'file_size': 20547, 'creation_date': '2025-05-01', 'last_modified_date': '2025-05-01'}, hash='f7ccb35b5e68f7e345e47d667a2ca3f87603fe7a8959cbd416d7a832f1a8f277'), <NodeRelationship.PREVIOUS: '2'>: RelatedNodeInfo(node_id='821a2b32-c9b9-4381-a07c-0e2a503aba97', node_type=<ObjectType.TEXT: '1'>, metadata={'file_path': 'cinderella.txt', 'file_name': 'cinderella.txt', 'file_type': 'text/plain', 'file_size': 20547, 'creation_date': '2025-05-01', 'last_modified_date': '2025-05-01'}, hash='ea2d504a9cffdfac2f774d9c779b467dbd883adc8581c578c5fb374501e416dc'), <NodeRelationship.NEXT: '3'>: RelatedNodeInfo(node_id='2be621d7-5616-495d-9c90-247b8f53ba7a', node_type=<ObjectType.TEXT: '1'>, metadata={}, hash='e3b566cebbd518af87dcb72de2cdf9b679dc2cffce3cf011a7949ccf46d0167d')}, metadata_template='{key}: {value}', metadata_separator='\\n', text='While she was thus\\nbusied, the sisters said to her: \"And pray, Cinderella, would you like\\nto go to the ball?\"\\n\\n\"Nay, you are mocking me,\" replied the poor girl; \"it is not for such as\\nI to go to balls.\" \"True enough,\" rejoined they; \"folks would laugh to\\nsee a Cinderella at a court ball.\"\\n\\nThese two step-sisters were very cruel to Cinderella, and ill-used her\\nmuch. Ah! what sweet friends are our own born sisters!--there can be no\\nsubstitutes like them in the whole wide world.\\n\\nAny other but Cinderella would have dressed their hair awry to punish\\nthem for their impertinence, but she was so good-natured that she\\ndressed them most becomingly. Although they disdained her, and while\\nthey would themselves make a great figure in the world, sought to\\ndegrade and lower her, see how the lovely disposition of Cinderella\\nshines out. Although she was not allowed to go to the ball of the king\\'s\\nson, she not only advised them well how they could array themselves to\\nappear to the best advantage, but she even--what greatness of heart to\\ndo that!--with her own hands dresses their hair, and in the most\\nbecoming manner her delicate taste can suggest.', mimetype='text/plain', start_char_idx=3333, end_char_idx=4481, metadata_seperator='\\n', text_template='{metadata_str}\\n\\n{content}'),\n",
       " TextNode(id_='2be621d7-5616-495d-9c90-247b8f53ba7a', embedding=None, metadata={'file_path': 'cinderella.txt', 'file_name': 'cinderella.txt', 'file_type': 'text/plain', 'file_size': 20547, 'creation_date': '2025-05-01', 'last_modified_date': '2025-05-01'}, excluded_embed_metadata_keys=['file_name', 'file_type', 'file_size', 'creation_date', 'last_modified_date', 'last_accessed_date'], excluded_llm_metadata_keys=['file_name', 'file_type', 'file_size', 'creation_date', 'last_modified_date', 'last_accessed_date'], relationships={<NodeRelationship.SOURCE: '1'>: RelatedNodeInfo(node_id='c370b4a9-168a-4c6d-bb35-101ac1cd9a0c', node_type=<ObjectType.DOCUMENT: '4'>, metadata={'file_path': 'cinderella.txt', 'file_name': 'cinderella.txt', 'file_type': 'text/plain', 'file_size': 20547, 'creation_date': '2025-05-01', 'last_modified_date': '2025-05-01'}, hash='f7ccb35b5e68f7e345e47d667a2ca3f87603fe7a8959cbd416d7a832f1a8f277'), <NodeRelationship.PREVIOUS: '2'>: RelatedNodeInfo(node_id='af351c23-f4f7-40cb-a895-72fa4e7407ed', node_type=<ObjectType.TEXT: '1'>, metadata={'file_path': 'cinderella.txt', 'file_name': 'cinderella.txt', 'file_type': 'text/plain', 'file_size': 20547, 'creation_date': '2025-05-01', 'last_modified_date': '2025-05-01'}, hash='82e29133e4b86afa0008871a8a63509e21c06fafec13d4687d02e6ebbf8ad4d0'), <NodeRelationship.NEXT: '3'>: RelatedNodeInfo(node_id='a89fbab6-ca8f-44ba-a1a2-18215588e1b7', node_type=<ObjectType.TEXT: '1'>, metadata={}, hash='6eb68fbac083feb46708fbc25e05509e31ca7ec61e327802cf55bbc21e85b635')}, metadata_template='{key}: {value}', metadata_separator='\\n', text='The two sisters were so delighted, that they scarcely ate a morsel for a\\ncouple of days. They spent their whole time before a looking-glass, and\\nthey would be laced so tight, to make their waists as slender as\\npossible, that more than a dozen stay-laces were broken in the attempt.\\n\\nThe long-wished-for evening came at last, and these proud misses stepped\\ninto the carriage and drove away to the palace. Cinderella looked after\\nthe coach as far as she could see, and then returned to the kitchen in\\ntears; where, for the first time, she bewailed her hard and cruel\\ndegradation. She continued sobbing in the corner of the chimney, until a\\nrapping at the kitchen-door roused her, and she got up to see what had\\noccasioned, it. She found a little old beggar-woman hobbling on\\ncrutches, who besought her to give her some food. \"I have only part of\\nmy own supper for you, Goody, which is no better than a dry crust. But\\nif you like to step in and warm yourself, you can do so, and welcome.\"\\n\"Thank you, my dear,\" said the old woman in a feeble, croaking voice.\\nShe then hobbled in and took her seat by the fire.\\n\\n\"Hey!', mimetype='text/plain', start_char_idx=4483, end_char_idx=5596, metadata_seperator='\\n', text_template='{metadata_str}\\n\\n{content}'),\n",
       " TextNode(id_='a89fbab6-ca8f-44ba-a1a2-18215588e1b7', embedding=None, metadata={'file_path': 'cinderella.txt', 'file_name': 'cinderella.txt', 'file_type': 'text/plain', 'file_size': 20547, 'creation_date': '2025-05-01', 'last_modified_date': '2025-05-01'}, excluded_embed_metadata_keys=['file_name', 'file_type', 'file_size', 'creation_date', 'last_modified_date', 'last_accessed_date'], excluded_llm_metadata_keys=['file_name', 'file_type', 'file_size', 'creation_date', 'last_modified_date', 'last_accessed_date'], relationships={<NodeRelationship.SOURCE: '1'>: RelatedNodeInfo(node_id='c370b4a9-168a-4c6d-bb35-101ac1cd9a0c', node_type=<ObjectType.DOCUMENT: '4'>, metadata={'file_path': 'cinderella.txt', 'file_name': 'cinderella.txt', 'file_type': 'text/plain', 'file_size': 20547, 'creation_date': '2025-05-01', 'last_modified_date': '2025-05-01'}, hash='f7ccb35b5e68f7e345e47d667a2ca3f87603fe7a8959cbd416d7a832f1a8f277'), <NodeRelationship.PREVIOUS: '2'>: RelatedNodeInfo(node_id='2be621d7-5616-495d-9c90-247b8f53ba7a', node_type=<ObjectType.TEXT: '1'>, metadata={'file_path': 'cinderella.txt', 'file_name': 'cinderella.txt', 'file_type': 'text/plain', 'file_size': 20547, 'creation_date': '2025-05-01', 'last_modified_date': '2025-05-01'}, hash='124a88a1be1184c322896a38c008c32ecf5c637f2f88eaa05d7aeb3349fd0a29'), <NodeRelationship.NEXT: '3'>: RelatedNodeInfo(node_id='9f4e4bad-6028-4761-b50c-b3b979f9e45d', node_type=<ObjectType.TEXT: '1'>, metadata={}, hash='0e940efbc7179719a5d99afa9658ec6a79d396b65aee6e5c3f3383e3c1933828')}, metadata_template='{key}: {value}', metadata_separator='\\n', text='dearee me! what are all these tears, my child?\" said the old\\nwoman. And then Cinderella told the old woman all her griefs; how her\\nsisters had gone to the ball, and how she wished to go too, but had no\\nclothes, or means to do so.\\n\\n\"But you _shall_ go, my darling,\" said the old woman, \"or I am not\\nQueen of the Faëries or your Godmother. Dry up your tears like a good\\ngod-daughter and do as I bid you, and you shall have clothes and horses\\nfiner than any one.\"\\n\\nCinderella had heard her father often talk of her godmother, and tell\\nher that she was one of those good faëries who protect children. Her\\nspirits revived, and she wiped away her tears.\\n\\nThe faëry took Cinderella by the hand, and said, \"Now, my dear, go into\\nthe garden and fetch me a pumpkin.\" Cinderella bounded lightly to\\nexecute her commands, and returned with one of the finest and largest\\npumpkins she could meet with. It was as big as a beer barrel, and\\nCinderella trundled it into the kitchen, wondering what her godmother\\nwould do with it.', mimetype='text/plain', start_char_idx=5597, end_char_idx=6607, metadata_seperator='\\n', text_template='{metadata_str}\\n\\n{content}'),\n",
       " TextNode(id_='9f4e4bad-6028-4761-b50c-b3b979f9e45d', embedding=None, metadata={'file_path': 'cinderella.txt', 'file_name': 'cinderella.txt', 'file_type': 'text/plain', 'file_size': 20547, 'creation_date': '2025-05-01', 'last_modified_date': '2025-05-01'}, excluded_embed_metadata_keys=['file_name', 'file_type', 'file_size', 'creation_date', 'last_modified_date', 'last_accessed_date'], excluded_llm_metadata_keys=['file_name', 'file_type', 'file_size', 'creation_date', 'last_modified_date', 'last_accessed_date'], relationships={<NodeRelationship.SOURCE: '1'>: RelatedNodeInfo(node_id='c370b4a9-168a-4c6d-bb35-101ac1cd9a0c', node_type=<ObjectType.DOCUMENT: '4'>, metadata={'file_path': 'cinderella.txt', 'file_name': 'cinderella.txt', 'file_type': 'text/plain', 'file_size': 20547, 'creation_date': '2025-05-01', 'last_modified_date': '2025-05-01'}, hash='f7ccb35b5e68f7e345e47d667a2ca3f87603fe7a8959cbd416d7a832f1a8f277'), <NodeRelationship.PREVIOUS: '2'>: RelatedNodeInfo(node_id='a89fbab6-ca8f-44ba-a1a2-18215588e1b7', node_type=<ObjectType.TEXT: '1'>, metadata={'file_path': 'cinderella.txt', 'file_name': 'cinderella.txt', 'file_type': 'text/plain', 'file_size': 20547, 'creation_date': '2025-05-01', 'last_modified_date': '2025-05-01'}, hash='34bc091bc8d502e7687a0096a6e906bedd07eabf29278d583c7acba26d48ca12'), <NodeRelationship.NEXT: '3'>: RelatedNodeInfo(node_id='546ae9ad-3b47-49d2-a02e-3f2a1166c44b', node_type=<ObjectType.TEXT: '1'>, metadata={}, hash='082ccf3b3fa32a05704396a65c40c8084d9e8cee1d6b61d898c3e15979d9b032')}, metadata_template='{key}: {value}', metadata_separator='\\n', text='Her godmother took the pumpkin, and scooped out the\\ninside of it, leaving nothing but rind; she then struck it with her\\nwand, and it instantly became one of the most elegant gilt carriages\\never seen.\\n\\nShe next sent Cinderella into the pantry for the mouse-trap, bidding her\\nbring six little mice alive which she would find in the trap. Cinderella\\nhastened to the pantry, and there found the mice as the faëry had said,\\nwhich she brought to the old lady, who told her to lift up the door of\\nthe trap but a little way and very gently, so that only one of the mice\\nmight go out at a time.\\n\\nCinderella raised the mouse-trap door, and as the mice came out one by\\none, the old woman touched them with her wand, and transformed them into\\nfine prancing dapple-gray carriage horses with long manes and tails,\\nwhich were tied up with light-blue ribands.\\n\\n\"Now, my dear good child,\" said the faëry, \"here you have a coach and\\nhorses, much handsomer than your sisters\\', to say the least of them; but\\nas we have neither a postilion nor a coachman to take care of them, run\\nquickly to the stable, where the rat-trap is placed, and bring it to\\nme.\"', mimetype='text/plain', start_char_idx=6608, end_char_idx=7741, metadata_seperator='\\n', text_template='{metadata_str}\\n\\n{content}'),\n",
       " TextNode(id_='546ae9ad-3b47-49d2-a02e-3f2a1166c44b', embedding=None, metadata={'file_path': 'cinderella.txt', 'file_name': 'cinderella.txt', 'file_type': 'text/plain', 'file_size': 20547, 'creation_date': '2025-05-01', 'last_modified_date': '2025-05-01'}, excluded_embed_metadata_keys=['file_name', 'file_type', 'file_size', 'creation_date', 'last_modified_date', 'last_accessed_date'], excluded_llm_metadata_keys=['file_name', 'file_type', 'file_size', 'creation_date', 'last_modified_date', 'last_accessed_date'], relationships={<NodeRelationship.SOURCE: '1'>: RelatedNodeInfo(node_id='c370b4a9-168a-4c6d-bb35-101ac1cd9a0c', node_type=<ObjectType.DOCUMENT: '4'>, metadata={'file_path': 'cinderella.txt', 'file_name': 'cinderella.txt', 'file_type': 'text/plain', 'file_size': 20547, 'creation_date': '2025-05-01', 'last_modified_date': '2025-05-01'}, hash='f7ccb35b5e68f7e345e47d667a2ca3f87603fe7a8959cbd416d7a832f1a8f277'), <NodeRelationship.PREVIOUS: '2'>: RelatedNodeInfo(node_id='9f4e4bad-6028-4761-b50c-b3b979f9e45d', node_type=<ObjectType.TEXT: '1'>, metadata={'file_path': 'cinderella.txt', 'file_name': 'cinderella.txt', 'file_type': 'text/plain', 'file_size': 20547, 'creation_date': '2025-05-01', 'last_modified_date': '2025-05-01'}, hash='a139a6565e49b5f0d3e24a87721fb3380ce1df41e1014f1735fb60bb1bec4bcb'), <NodeRelationship.NEXT: '3'>: RelatedNodeInfo(node_id='6995de17-4d66-4a05-92fc-76dfd2c4e2c1', node_type=<ObjectType.TEXT: '1'>, metadata={}, hash='89e688962d0f0c219681f3225e376a350ae125aee8cd7791cf6936820aac3d41')}, metadata_template='{key}: {value}', metadata_separator='\\n', text='Cinderella was full of joy, and did not lose a moment; and soon returned\\nwith the trap, in which there were two fine large rats. These, too, were\\ntouched with the wand, and immediately the one was changed into a smart\\npostilion, and the other into a jolly-looking coachman in full finery.\\n\\nHer godmother then said, \"My dear Cinderella, you must go to the garden\\nagain before I can complete your equipage; when you get there, keep to\\nthe right side, and close to the wall you will see the watering-pot\\nstanding; look behind it, and there you will find six lizards, which you\\nmust bring to me immediately.\"\\n\\nCinderella hastened to the garden as she was desired, and found the six\\nlizards, which she put into her apron and brought to the faëry. Another\\ntouch of the wonderful wand soon converted them into six spruce footmen\\nin dashing liveries, with powdered hair and pig-tails, three-cornered\\ncocked hats and gold-headed canes, who immediately jumped up behind the\\ncarriage as nimbly as if they had been footmen and nothing else all\\ntheir lives.', mimetype='text/plain', start_char_idx=7743, end_char_idx=8787, metadata_seperator='\\n', text_template='{metadata_str}\\n\\n{content}'),\n",
       " TextNode(id_='6995de17-4d66-4a05-92fc-76dfd2c4e2c1', embedding=None, metadata={'file_path': 'cinderella.txt', 'file_name': 'cinderella.txt', 'file_type': 'text/plain', 'file_size': 20547, 'creation_date': '2025-05-01', 'last_modified_date': '2025-05-01'}, excluded_embed_metadata_keys=['file_name', 'file_type', 'file_size', 'creation_date', 'last_modified_date', 'last_accessed_date'], excluded_llm_metadata_keys=['file_name', 'file_type', 'file_size', 'creation_date', 'last_modified_date', 'last_accessed_date'], relationships={<NodeRelationship.SOURCE: '1'>: RelatedNodeInfo(node_id='c370b4a9-168a-4c6d-bb35-101ac1cd9a0c', node_type=<ObjectType.DOCUMENT: '4'>, metadata={'file_path': 'cinderella.txt', 'file_name': 'cinderella.txt', 'file_type': 'text/plain', 'file_size': 20547, 'creation_date': '2025-05-01', 'last_modified_date': '2025-05-01'}, hash='f7ccb35b5e68f7e345e47d667a2ca3f87603fe7a8959cbd416d7a832f1a8f277'), <NodeRelationship.PREVIOUS: '2'>: RelatedNodeInfo(node_id='546ae9ad-3b47-49d2-a02e-3f2a1166c44b', node_type=<ObjectType.TEXT: '1'>, metadata={'file_path': 'cinderella.txt', 'file_name': 'cinderella.txt', 'file_type': 'text/plain', 'file_size': 20547, 'creation_date': '2025-05-01', 'last_modified_date': '2025-05-01'}, hash='9d6ff70748d18fa5f037052508d4d20a3af6b5ca22a94f537931195926599c69'), <NodeRelationship.NEXT: '3'>: RelatedNodeInfo(node_id='2a29a9fc-3a19-47a0-9562-220b31af9877', node_type=<ObjectType.TEXT: '1'>, metadata={}, hash='548cac4b2a97b31978faeda589898da9fe5559f04047bae284ce89dbbb2804fe')}, metadata_template='{key}: {value}', metadata_separator='\\n', text='The coachman and postilion having likewise taken their places, the faëry\\nsaid to Cinderella, \"Well, my dear girl, is not this as fine an equipage\\nas you could desire to go to the ball with? Tell me, now, are you\\npleased with it?\"\\n\\n\"O yes, dear godmother,\" replied Cinderella; and then, with a good deal\\nof hesitation, added, \"but how can I make my appearance among so many\\nfinely-dressed people in these mean-looking clothes?\"\\n\\n\"Give yourself no uneasiness about that, my dear; the most laborious\\npart of our task is already accomplished, and it will be hard if I\\ncannot make your dress correspond with your coach and servants.\"\\n\\nOn saying this, the old woman, assuming her character of Queen of the\\nFaëries, touched Cinderella with the magic wand, and her clothes were\\ninstantly changed into a most magnificent ball dress, ornamented with\\nthe most costly jewels. The faëry took from her pocket a beautiful pair\\nof elastic glass slippers, which she caused Cinderella to put on, and\\nthen desired her to get into the carriage with all expedition, as the\\nball had already commenced.\\n\\nTwo footmen opened the carriage door, and assisted the now beautifully\\ndressed Cinderella into it.', mimetype='text/plain', start_char_idx=8789, end_char_idx=9968, metadata_seperator='\\n', text_template='{metadata_str}\\n\\n{content}'),\n",
       " TextNode(id_='2a29a9fc-3a19-47a0-9562-220b31af9877', embedding=None, metadata={'file_path': 'cinderella.txt', 'file_name': 'cinderella.txt', 'file_type': 'text/plain', 'file_size': 20547, 'creation_date': '2025-05-01', 'last_modified_date': '2025-05-01'}, excluded_embed_metadata_keys=['file_name', 'file_type', 'file_size', 'creation_date', 'last_modified_date', 'last_accessed_date'], excluded_llm_metadata_keys=['file_name', 'file_type', 'file_size', 'creation_date', 'last_modified_date', 'last_accessed_date'], relationships={<NodeRelationship.SOURCE: '1'>: RelatedNodeInfo(node_id='c370b4a9-168a-4c6d-bb35-101ac1cd9a0c', node_type=<ObjectType.DOCUMENT: '4'>, metadata={'file_path': 'cinderella.txt', 'file_name': 'cinderella.txt', 'file_type': 'text/plain', 'file_size': 20547, 'creation_date': '2025-05-01', 'last_modified_date': '2025-05-01'}, hash='f7ccb35b5e68f7e345e47d667a2ca3f87603fe7a8959cbd416d7a832f1a8f277'), <NodeRelationship.PREVIOUS: '2'>: RelatedNodeInfo(node_id='6995de17-4d66-4a05-92fc-76dfd2c4e2c1', node_type=<ObjectType.TEXT: '1'>, metadata={'file_path': 'cinderella.txt', 'file_name': 'cinderella.txt', 'file_type': 'text/plain', 'file_size': 20547, 'creation_date': '2025-05-01', 'last_modified_date': '2025-05-01'}, hash='159ab96654bfe7a5aae7af6563f7249b6bd08cdd2f2c3f024dff73f1641a178b'), <NodeRelationship.NEXT: '3'>: RelatedNodeInfo(node_id='f480f91b-38c6-4bf4-a15d-a16013fd9a4e', node_type=<ObjectType.TEXT: '1'>, metadata={}, hash='d16c6ac9ef84e806c9b2c0a866b739bf9093685f1c7f2120827458459ccb87c5')}, metadata_template='{key}: {value}', metadata_separator='\\n', text='Her godmother, before she took leave,\\nstrictly charged her, on no account whatever to stay at the ball after\\nthe clock had struck twelve; and then added, that if she stopped but a\\nsingle moment beyond that time, her fine coach, horses, coachman,\\npostilion, and footmen, and fine apparel, would all return to their\\noriginal shapes of pumpkin, mice, rats, lizards, and mean-looking\\nclothes.\\n\\nCinderella promised faithfully to attend to every thing that the faëry\\nhad mentioned; and then, quite overjoyed, gave the direction to the\\nfootman, who bawled out in a loud and commanding tone to the coachman,\\n\"To the Royal Palace.\" The coachman touched his prancing horses lightly\\nwith his whip, and swiftly the carriage started off, and in a short time\\nreached the palace.\\n\\nThe arrival of so splendid an equipage as Cinderella\\'s could not fail to\\nattract general notice at the palace gates; and as it drove up to the\\nmarble portico, the servants in great numbers came out to see it.\\nInformation was quickly taken to the king\\'s son, that a beautiful young\\nlady, evidently some princess, was in waiting. His Royal Highness\\nhastened to the door, welcomed Cinderella, and handed her out of the\\ncarriage.', mimetype='text/plain', start_char_idx=9969, end_char_idx=11160, metadata_seperator='\\n', text_template='{metadata_str}\\n\\n{content}'),\n",
       " TextNode(id_='f480f91b-38c6-4bf4-a15d-a16013fd9a4e', embedding=None, metadata={'file_path': 'cinderella.txt', 'file_name': 'cinderella.txt', 'file_type': 'text/plain', 'file_size': 20547, 'creation_date': '2025-05-01', 'last_modified_date': '2025-05-01'}, excluded_embed_metadata_keys=['file_name', 'file_type', 'file_size', 'creation_date', 'last_modified_date', 'last_accessed_date'], excluded_llm_metadata_keys=['file_name', 'file_type', 'file_size', 'creation_date', 'last_modified_date', 'last_accessed_date'], relationships={<NodeRelationship.SOURCE: '1'>: RelatedNodeInfo(node_id='c370b4a9-168a-4c6d-bb35-101ac1cd9a0c', node_type=<ObjectType.DOCUMENT: '4'>, metadata={'file_path': 'cinderella.txt', 'file_name': 'cinderella.txt', 'file_type': 'text/plain', 'file_size': 20547, 'creation_date': '2025-05-01', 'last_modified_date': '2025-05-01'}, hash='f7ccb35b5e68f7e345e47d667a2ca3f87603fe7a8959cbd416d7a832f1a8f277'), <NodeRelationship.PREVIOUS: '2'>: RelatedNodeInfo(node_id='2a29a9fc-3a19-47a0-9562-220b31af9877', node_type=<ObjectType.TEXT: '1'>, metadata={'file_path': 'cinderella.txt', 'file_name': 'cinderella.txt', 'file_type': 'text/plain', 'file_size': 20547, 'creation_date': '2025-05-01', 'last_modified_date': '2025-05-01'}, hash='cba497d2b6adbbcd1263e4b14ae08b41b000662c701265b676a8ee2e2bfeb6bb'), <NodeRelationship.NEXT: '3'>: RelatedNodeInfo(node_id='8f07784d-dd18-443b-8fc2-6e0bfee5933b', node_type=<ObjectType.TEXT: '1'>, metadata={}, hash='ae6b5396072c35d8b546a1d10976b04bd368fb83de386d7609572d140ea316ce')}, metadata_template='{key}: {value}', metadata_separator='\\n', text='He then led her gracefully into the ball-room, and introduced\\nher to his father, the king. The moment she appeared, all conversation\\nwas hushed, the violins ceased playing, and the dancing stopped short,\\nso great was the sensation produced by the stranger\\'s beauty. A confused\\nmurmur of admiration fluttered through the crowd, and each was fain to\\nexclaim, \"How surpassingly lovely she is!\" The ladies were all busy\\nexamining her head-dress and her clothes, in order to get similar ones\\nthe very next day, if, indeed, they could meet with stuffs of such rich\\npatterns, and find workwomen clever enough to make them up. \"What a\\nlovely creature! so fair!--so beautiful!--What a handsome figure!--how\\nelegantly she is dressed!\" Even the prince\\'s father, old as he was,\\ncould not behold her with indifference, but wiped his eye-glass and used\\nit very much, and said very often to the queen, that he had never seen\\nso sweet a being.\\n\\nThe king\\'s son handed Cinderella to one of the most distinguished seats\\non the daïs at the top of the Hall, and begged she would allow him to\\nhand her some refreshments. Cinderella received them with great grace.', mimetype='text/plain', start_char_idx=11161, end_char_idx=12302, metadata_seperator='\\n', text_template='{metadata_str}\\n\\n{content}'),\n",
       " TextNode(id_='8f07784d-dd18-443b-8fc2-6e0bfee5933b', embedding=None, metadata={'file_path': 'cinderella.txt', 'file_name': 'cinderella.txt', 'file_type': 'text/plain', 'file_size': 20547, 'creation_date': '2025-05-01', 'last_modified_date': '2025-05-01'}, excluded_embed_metadata_keys=['file_name', 'file_type', 'file_size', 'creation_date', 'last_modified_date', 'last_accessed_date'], excluded_llm_metadata_keys=['file_name', 'file_type', 'file_size', 'creation_date', 'last_modified_date', 'last_accessed_date'], relationships={<NodeRelationship.SOURCE: '1'>: RelatedNodeInfo(node_id='c370b4a9-168a-4c6d-bb35-101ac1cd9a0c', node_type=<ObjectType.DOCUMENT: '4'>, metadata={'file_path': 'cinderella.txt', 'file_name': 'cinderella.txt', 'file_type': 'text/plain', 'file_size': 20547, 'creation_date': '2025-05-01', 'last_modified_date': '2025-05-01'}, hash='f7ccb35b5e68f7e345e47d667a2ca3f87603fe7a8959cbd416d7a832f1a8f277'), <NodeRelationship.PREVIOUS: '2'>: RelatedNodeInfo(node_id='f480f91b-38c6-4bf4-a15d-a16013fd9a4e', node_type=<ObjectType.TEXT: '1'>, metadata={'file_path': 'cinderella.txt', 'file_name': 'cinderella.txt', 'file_type': 'text/plain', 'file_size': 20547, 'creation_date': '2025-05-01', 'last_modified_date': '2025-05-01'}, hash='21ed9ca7adb281c50737d043ca17694088f0492c1d0bc84f629526e9b9b2f74a'), <NodeRelationship.NEXT: '3'>: RelatedNodeInfo(node_id='c6cde7ce-e899-487f-a58a-87f6f148287d', node_type=<ObjectType.TEXT: '1'>, metadata={}, hash='c5ecc86817c2a61bf26c8cce4d2467073c11ab624666ea0cf073570a08e15b8f')}, metadata_template='{key}: {value}', metadata_separator='\\n', text='When this was over, the prince requested to have the honour of dancing\\nwith her. Cinderella smiled consent; and the delighted prince\\nimmediately led her out to the head of the dance, just about to\\ncommence. The eyes of the whole company were fixed upon the beautiful\\npair.\\n\\nThe trumpets sounded and the music struck up, and the dance commenced;\\nbut if Cinderella\\'s beauty, elegant figure, and the splendor of her\\ndress, had before drawn the attention of the whole room, the\\nastonishment at her dancing was still greater.\\n\\nGracefulness seemed to play in all her motions; the airy lightness with\\nwhich she floated along--as buoyant as thistle-down--drew forth a\\ngeneral murmur of admiration. The hall rang with the loudest\\nacclamations of applause, and the company, all in one voice, pronounced\\nher the most elegant creature that had ever been seen. And this was the\\nlittle girl who had passed a great part of her life in the kitchen, and\\nhad always been called a \"Cinder-wench.\"\\n\\nWhen the dance was ended, a magnificent feast was served up, consisting\\nof all delicacies: so much was the young prince engaged with Cinderella,\\nthat he did not eat one morsel of the supper.', mimetype='text/plain', start_char_idx=12303, end_char_idx=13472, metadata_seperator='\\n', text_template='{metadata_str}\\n\\n{content}'),\n",
       " TextNode(id_='c6cde7ce-e899-487f-a58a-87f6f148287d', embedding=None, metadata={'file_path': 'cinderella.txt', 'file_name': 'cinderella.txt', 'file_type': 'text/plain', 'file_size': 20547, 'creation_date': '2025-05-01', 'last_modified_date': '2025-05-01'}, excluded_embed_metadata_keys=['file_name', 'file_type', 'file_size', 'creation_date', 'last_modified_date', 'last_accessed_date'], excluded_llm_metadata_keys=['file_name', 'file_type', 'file_size', 'creation_date', 'last_modified_date', 'last_accessed_date'], relationships={<NodeRelationship.SOURCE: '1'>: RelatedNodeInfo(node_id='c370b4a9-168a-4c6d-bb35-101ac1cd9a0c', node_type=<ObjectType.DOCUMENT: '4'>, metadata={'file_path': 'cinderella.txt', 'file_name': 'cinderella.txt', 'file_type': 'text/plain', 'file_size': 20547, 'creation_date': '2025-05-01', 'last_modified_date': '2025-05-01'}, hash='f7ccb35b5e68f7e345e47d667a2ca3f87603fe7a8959cbd416d7a832f1a8f277'), <NodeRelationship.PREVIOUS: '2'>: RelatedNodeInfo(node_id='8f07784d-dd18-443b-8fc2-6e0bfee5933b', node_type=<ObjectType.TEXT: '1'>, metadata={'file_path': 'cinderella.txt', 'file_name': 'cinderella.txt', 'file_type': 'text/plain', 'file_size': 20547, 'creation_date': '2025-05-01', 'last_modified_date': '2025-05-01'}, hash='0893d68abeecd6719984246b3af21f20e92b41caac7b536f8a95f71dcbec4a77'), <NodeRelationship.NEXT: '3'>: RelatedNodeInfo(node_id='cbb7f298-23b2-41df-8db1-4f3c67527c18', node_type=<ObjectType.TEXT: '1'>, metadata={}, hash='f929ee34d89b65d04fb565820f17680896786b640f9f19d293b89ef33da9703d')}, metadata_template='{key}: {value}', metadata_separator='\\n', text=\"Cinderella drew near her sisters, and frequently spoke to them; and in\\nher goodness of heart she offered them the delicacies which she had\\nreceived from the prince:  but they did not know she was their sister.\\n\\nWhen Cinderella heard the clock strike three-quarters past eleven, she\\nmade a low courtesy to the whole assembly and retired in haste.\\n\\nYou see how fortune befriends the good-hearted, and even out of such\\nunpromising material as a pumpkin and mice, can make a coach and six,\\nwith which to honor her worthy favorite. So Cinderella goes to the ball;\\nbut to teach her to be diligent and faithful in her engagements, her\\nfaëry godmother enjoins upon her that she return home at twelve. Native\\nbeauty and grace attract the princely heart; and while the king's son\\npays no heed to her pretentious sisters, he is all grace and\\ncondescension to little Cinderella. Obedient to her engagement with her\\ngodmother, she returns in all the splendor and honor of the coach and\\nsix.\\n\\nOn reaching home, she found her godmother; and after thanking her for\\nthe treat she had enjoyed, she ventured to express a wish to return to\\nthe ball on the following evening, as the prince had requested her to\\ndo.\", mimetype='text/plain', start_char_idx=13474, end_char_idx=14667, metadata_seperator='\\n', text_template='{metadata_str}\\n\\n{content}'),\n",
       " TextNode(id_='cbb7f298-23b2-41df-8db1-4f3c67527c18', embedding=None, metadata={'file_path': 'cinderella.txt', 'file_name': 'cinderella.txt', 'file_type': 'text/plain', 'file_size': 20547, 'creation_date': '2025-05-01', 'last_modified_date': '2025-05-01'}, excluded_embed_metadata_keys=['file_name', 'file_type', 'file_size', 'creation_date', 'last_modified_date', 'last_accessed_date'], excluded_llm_metadata_keys=['file_name', 'file_type', 'file_size', 'creation_date', 'last_modified_date', 'last_accessed_date'], relationships={<NodeRelationship.SOURCE: '1'>: RelatedNodeInfo(node_id='c370b4a9-168a-4c6d-bb35-101ac1cd9a0c', node_type=<ObjectType.DOCUMENT: '4'>, metadata={'file_path': 'cinderella.txt', 'file_name': 'cinderella.txt', 'file_type': 'text/plain', 'file_size': 20547, 'creation_date': '2025-05-01', 'last_modified_date': '2025-05-01'}, hash='f7ccb35b5e68f7e345e47d667a2ca3f87603fe7a8959cbd416d7a832f1a8f277'), <NodeRelationship.PREVIOUS: '2'>: RelatedNodeInfo(node_id='c6cde7ce-e899-487f-a58a-87f6f148287d', node_type=<ObjectType.TEXT: '1'>, metadata={'file_path': 'cinderella.txt', 'file_name': 'cinderella.txt', 'file_type': 'text/plain', 'file_size': 20547, 'creation_date': '2025-05-01', 'last_modified_date': '2025-05-01'}, hash='2ddcc4aa380814010bb722770337c156244d3ebf671cf4897f125d4b8d53e054'), <NodeRelationship.NEXT: '3'>: RelatedNodeInfo(node_id='fc940746-c65f-478f-8364-cd376d5adb85', node_type=<ObjectType.TEXT: '1'>, metadata={}, hash='1ab25c79ac8d59b45bedb74d88af27d26aaf35ade43723b54ee5e5c478af7ffc')}, metadata_template='{key}: {value}', metadata_separator='\\n', text='She was still relating to her godmother all that had happened at court,\\nwhen her two sisters knocked at the door. Cinderella went and let them\\nin, pretending to yawn and stretch herself, and rub her eyes, and\\nsaying, \"How late you are!\" just as if she was waked up out of a nap,\\nthough, truth to say, she had never felt less disposed to sleep in her\\nlife. \"If you had been to the ball,\" said one of the sisters, \"you would\\nnot have thought it late. There came the most beautiful princess ever\\nseen, who loaded us with polite attentions, and gave us oranges and\\ncitrons.\"\\n\\nCinderella could scarcely contain her delight, and inquired the name of\\nthe princess. But they replied that nobody knew her name, and that the\\nking\\'s son was in great trouble about her, and would give the world to\\nknow who she could be. \"Is she, then, so very beautiful?\" said\\nCinderella, smiling. \"Oh, my! how I should like to see her! Oh, do, my\\nLady Javotte, lend me the yellow dress you wear every day, that I may go\\nto the ball and have a peep at this wonderful princess.\" \"A likely\\nstory, indeed!\"', mimetype='text/plain', start_char_idx=14669, end_char_idx=15744, metadata_seperator='\\n', text_template='{metadata_str}\\n\\n{content}'),\n",
       " TextNode(id_='fc940746-c65f-478f-8364-cd376d5adb85', embedding=None, metadata={'file_path': 'cinderella.txt', 'file_name': 'cinderella.txt', 'file_type': 'text/plain', 'file_size': 20547, 'creation_date': '2025-05-01', 'last_modified_date': '2025-05-01'}, excluded_embed_metadata_keys=['file_name', 'file_type', 'file_size', 'creation_date', 'last_modified_date', 'last_accessed_date'], excluded_llm_metadata_keys=['file_name', 'file_type', 'file_size', 'creation_date', 'last_modified_date', 'last_accessed_date'], relationships={<NodeRelationship.SOURCE: '1'>: RelatedNodeInfo(node_id='c370b4a9-168a-4c6d-bb35-101ac1cd9a0c', node_type=<ObjectType.DOCUMENT: '4'>, metadata={'file_path': 'cinderella.txt', 'file_name': 'cinderella.txt', 'file_type': 'text/plain', 'file_size': 20547, 'creation_date': '2025-05-01', 'last_modified_date': '2025-05-01'}, hash='f7ccb35b5e68f7e345e47d667a2ca3f87603fe7a8959cbd416d7a832f1a8f277'), <NodeRelationship.PREVIOUS: '2'>: RelatedNodeInfo(node_id='cbb7f298-23b2-41df-8db1-4f3c67527c18', node_type=<ObjectType.TEXT: '1'>, metadata={'file_path': 'cinderella.txt', 'file_name': 'cinderella.txt', 'file_type': 'text/plain', 'file_size': 20547, 'creation_date': '2025-05-01', 'last_modified_date': '2025-05-01'}, hash='291a7bda482091d2730015c97bd41d157bf60260677396a70d9d0d08b107884e'), <NodeRelationship.NEXT: '3'>: RelatedNodeInfo(node_id='ab326db6-490e-4bf7-8056-b91ff5b07111', node_type=<ObjectType.TEXT: '1'>, metadata={}, hash='bd5d1cf27ebb340768524039781d55d85f8b1e04a1c0fbabad4a08972cd68975')}, metadata_template='{key}: {value}', metadata_separator='\\n', text='cried Javotte, tossing her head disdainfully, \"that I\\nshould lend my clothes to a dirty Cinderella like you!\"\\n\\nCinderella expected to be refused, and was not sorry for it, as she\\nwould have been puzzled what to do, had her sister really lent her the\\ndress she begged to have.\\n\\nOn the following evening the sisters again went to the  court ball, and\\nso did Cinderella, dressed even more magnificently than before. The\\nking\\'s son never left her side, and kept paying her the most flattering\\nattentions. The young lady was nothing loth to listen to him; so it came\\nto pass that she forgot her godmother\\'s injunctions, and, indeed, lost\\nher reckoning so completely, that before she deemed it could be eleven\\no\\'clock, she was startled at hearing the first stroke of midnight. She\\nrose hastily, and flew away like a startled fawn. The prince attempted\\nto follow her, but she was too swift for him; only, as she flew she\\ndropped one of her glass slippers, which he picked up very eagerly.', mimetype='text/plain', start_char_idx=15745, end_char_idx=16726, metadata_seperator='\\n', text_template='{metadata_str}\\n\\n{content}'),\n",
       " TextNode(id_='ab326db6-490e-4bf7-8056-b91ff5b07111', embedding=None, metadata={'file_path': 'cinderella.txt', 'file_name': 'cinderella.txt', 'file_type': 'text/plain', 'file_size': 20547, 'creation_date': '2025-05-01', 'last_modified_date': '2025-05-01'}, excluded_embed_metadata_keys=['file_name', 'file_type', 'file_size', 'creation_date', 'last_modified_date', 'last_accessed_date'], excluded_llm_metadata_keys=['file_name', 'file_type', 'file_size', 'creation_date', 'last_modified_date', 'last_accessed_date'], relationships={<NodeRelationship.SOURCE: '1'>: RelatedNodeInfo(node_id='c370b4a9-168a-4c6d-bb35-101ac1cd9a0c', node_type=<ObjectType.DOCUMENT: '4'>, metadata={'file_path': 'cinderella.txt', 'file_name': 'cinderella.txt', 'file_type': 'text/plain', 'file_size': 20547, 'creation_date': '2025-05-01', 'last_modified_date': '2025-05-01'}, hash='f7ccb35b5e68f7e345e47d667a2ca3f87603fe7a8959cbd416d7a832f1a8f277'), <NodeRelationship.PREVIOUS: '2'>: RelatedNodeInfo(node_id='fc940746-c65f-478f-8364-cd376d5adb85', node_type=<ObjectType.TEXT: '1'>, metadata={'file_path': 'cinderella.txt', 'file_name': 'cinderella.txt', 'file_type': 'text/plain', 'file_size': 20547, 'creation_date': '2025-05-01', 'last_modified_date': '2025-05-01'}, hash='93f0cecff35af43995d3eaa3f01b4e5cdd92cabeb13e2d8ddc167d13eb87a457'), <NodeRelationship.NEXT: '3'>: RelatedNodeInfo(node_id='6225f96d-c81c-49c7-b4fb-46e90fd4c5b2', node_type=<ObjectType.TEXT: '1'>, metadata={}, hash='d977ac1bfeac2ff0cfd7c03334ade0f6f32fd371005c54026aa93fe221a61e84')}, metadata_template='{key}: {value}', metadata_separator='\\n', text=\"Cinderella reached home quite out of breath, without either coach or\\nfootmen, and with only her shabby clothes on her back; nothing, in\\nshort, remained of her recent magnificence, save a little glass slipper,\\nthe fellow to the one she had lost.\\n\\nThe sentinels at the palace gate were closely questioned as to whether\\nthey had not seen a princess coming out; but they answered they had seen\\nno one except a shabbily dressed girl, who appeared to be a peasant\\nrather than a young lady.\\n\\nOn this second night, as you have taken notice, dazzled by worldly show\\nand the pleasing flattery of her royal lover, Cinderella over-stays her\\ntime, and is compelled to make her way back to her father's house on\\nfoot and in rags--an everlasting lesson to all the pretty little\\nCinderellas in the world to keep their word, and to act in good faith by\\nsuch as befriend them. Never mind--her heart is in the right place--she\\nis a charming good creature; and although virtue goes home in rags, it\\nwill leave some token behind--some foot-print by which it can be known\\nand traced wherever it has once walked. We shall hear from that little\\nlost glass slipper again!\", mimetype='text/plain', start_char_idx=16727, end_char_idx=17873, metadata_seperator='\\n', text_template='{metadata_str}\\n\\n{content}'),\n",
       " TextNode(id_='6225f96d-c81c-49c7-b4fb-46e90fd4c5b2', embedding=None, metadata={'file_path': 'cinderella.txt', 'file_name': 'cinderella.txt', 'file_type': 'text/plain', 'file_size': 20547, 'creation_date': '2025-05-01', 'last_modified_date': '2025-05-01'}, excluded_embed_metadata_keys=['file_name', 'file_type', 'file_size', 'creation_date', 'last_modified_date', 'last_accessed_date'], excluded_llm_metadata_keys=['file_name', 'file_type', 'file_size', 'creation_date', 'last_modified_date', 'last_accessed_date'], relationships={<NodeRelationship.SOURCE: '1'>: RelatedNodeInfo(node_id='c370b4a9-168a-4c6d-bb35-101ac1cd9a0c', node_type=<ObjectType.DOCUMENT: '4'>, metadata={'file_path': 'cinderella.txt', 'file_name': 'cinderella.txt', 'file_type': 'text/plain', 'file_size': 20547, 'creation_date': '2025-05-01', 'last_modified_date': '2025-05-01'}, hash='f7ccb35b5e68f7e345e47d667a2ca3f87603fe7a8959cbd416d7a832f1a8f277'), <NodeRelationship.PREVIOUS: '2'>: RelatedNodeInfo(node_id='ab326db6-490e-4bf7-8056-b91ff5b07111', node_type=<ObjectType.TEXT: '1'>, metadata={'file_path': 'cinderella.txt', 'file_name': 'cinderella.txt', 'file_type': 'text/plain', 'file_size': 20547, 'creation_date': '2025-05-01', 'last_modified_date': '2025-05-01'}, hash='3bb8133c461b07164897978ed612a6ebf82940e7789f767d87afa1330097e270'), <NodeRelationship.NEXT: '3'>: RelatedNodeInfo(node_id='07191e5b-1682-4f7f-8752-6fc91844f052', node_type=<ObjectType.TEXT: '1'>, metadata={}, hash='f8bf6c3b31e51aeb6acda6755faf86d7cc7cd0860f0352a5c7f5ca0e8189be37')}, metadata_template='{key}: {value}', metadata_separator='\\n', text='When the two sisters returned from the ball, Cinderella asked them\\nwhether they had been well entertained; and whether the beautiful lady\\nwas there? They replied, that she was; but that she had run away as soon\\nas midnight had struck, and so quickly as to drop one of her dainty\\nglass slippers, which the king\\'s son had picked up, and was looking at\\nmost fondly during the remainder of the ball; indeed, it seemed beyond a\\ndoubt that he was deeply enamored of the beautiful creature to whom it\\nbelonged.\\n\\nThey spoke truly enough; for, a few days afterwards, the king\\'s son\\ncaused a proclamation to be made, by sound of trumpet all over the\\nkingdom, to the effect that he would marry her whose foot should be\\nfound to fit the slipper exactly. So the slipper was first tried on by\\nall the princesses; then by all the duchesses; and next by all the\\npersons belonging to the court; but in vain. It was then carried to the\\ntwo sisters, who tried with all their might to force their feet into its\\ndelicate proportions, but with no better success. Cinderella, who was\\npresent, and recognized her slipper, now laughed, and said, \"Suppose I\\nwere to try?\"', mimetype='text/plain', start_char_idx=17875, end_char_idx=19020, metadata_seperator='\\n', text_template='{metadata_str}\\n\\n{content}'),\n",
       " TextNode(id_='07191e5b-1682-4f7f-8752-6fc91844f052', embedding=None, metadata={'file_path': 'cinderella.txt', 'file_name': 'cinderella.txt', 'file_type': 'text/plain', 'file_size': 20547, 'creation_date': '2025-05-01', 'last_modified_date': '2025-05-01'}, excluded_embed_metadata_keys=['file_name', 'file_type', 'file_size', 'creation_date', 'last_modified_date', 'last_accessed_date'], excluded_llm_metadata_keys=['file_name', 'file_type', 'file_size', 'creation_date', 'last_modified_date', 'last_accessed_date'], relationships={<NodeRelationship.SOURCE: '1'>: RelatedNodeInfo(node_id='c370b4a9-168a-4c6d-bb35-101ac1cd9a0c', node_type=<ObjectType.DOCUMENT: '4'>, metadata={'file_path': 'cinderella.txt', 'file_name': 'cinderella.txt', 'file_type': 'text/plain', 'file_size': 20547, 'creation_date': '2025-05-01', 'last_modified_date': '2025-05-01'}, hash='f7ccb35b5e68f7e345e47d667a2ca3f87603fe7a8959cbd416d7a832f1a8f277'), <NodeRelationship.PREVIOUS: '2'>: RelatedNodeInfo(node_id='6225f96d-c81c-49c7-b4fb-46e90fd4c5b2', node_type=<ObjectType.TEXT: '1'>, metadata={'file_path': 'cinderella.txt', 'file_name': 'cinderella.txt', 'file_type': 'text/plain', 'file_size': 20547, 'creation_date': '2025-05-01', 'last_modified_date': '2025-05-01'}, hash='7577dcd1171a651370c1a507d58112c63cbe4502ba7b7869a4fb2e1766d553c4'), <NodeRelationship.NEXT: '3'>: RelatedNodeInfo(node_id='2922161f-1358-473c-bbd0-cb4ab2410fab', node_type=<ObjectType.TEXT: '1'>, metadata={}, hash='b5b88920a909ef585b706962b93f748aa8154297afb7f465b827363022f81b24')}, metadata_template='{key}: {value}', metadata_separator='\\n', text=\"Her sisters ridiculed such an idea; but the gentleman who\\nwas appointed to try the slipper, having looked attentively at\\nCinderella, and perceived how beautiful she was, said that it was but\\nfair she should do so, as he had orders to try it on every young maiden\\nin the kingdom. Accordingly, having requested Cinderella to sit down,\\nshe no sooner put her little foot to the slipper, than she drew it on,\\nand it fitted like wax. The sisters were quite amazed; but their\\nastonishment increased tenfold when Cinderella drew the fellow slipper\\nout of her pocket, and put it on. Her godmother then made her\\nappearance; and, having touched Cinderella's clothes with her wand, made\\nthem still more magnificent than those she had previously worn.\\n\\nHer two sisters now recognized her for the beautiful stranger they had\\nseen at the ball; and, falling at her feet, implored her forgiveness for\\ntheir unworthy treatment, and all the insults they had heaped upon her\\nhead. Cinderella raised them, saying, as she embraced them, that she not\\nonly forgave them with all her heart, but wished for their affection.\\nShe was then taken to the palace of the young prince, in whose eyes she\\nappeared yet more lovely than before, and who married her shortly after.\", mimetype='text/plain', start_char_idx=19021, end_char_idx=20263, metadata_seperator='\\n', text_template='{metadata_str}\\n\\n{content}'),\n",
       " TextNode(id_='2922161f-1358-473c-bbd0-cb4ab2410fab', embedding=None, metadata={'file_path': 'cinderella.txt', 'file_name': 'cinderella.txt', 'file_type': 'text/plain', 'file_size': 20547, 'creation_date': '2025-05-01', 'last_modified_date': '2025-05-01'}, excluded_embed_metadata_keys=['file_name', 'file_type', 'file_size', 'creation_date', 'last_modified_date', 'last_accessed_date'], excluded_llm_metadata_keys=['file_name', 'file_type', 'file_size', 'creation_date', 'last_modified_date', 'last_accessed_date'], relationships={<NodeRelationship.SOURCE: '1'>: RelatedNodeInfo(node_id='c370b4a9-168a-4c6d-bb35-101ac1cd9a0c', node_type=<ObjectType.DOCUMENT: '4'>, metadata={'file_path': 'cinderella.txt', 'file_name': 'cinderella.txt', 'file_type': 'text/plain', 'file_size': 20547, 'creation_date': '2025-05-01', 'last_modified_date': '2025-05-01'}, hash='f7ccb35b5e68f7e345e47d667a2ca3f87603fe7a8959cbd416d7a832f1a8f277'), <NodeRelationship.PREVIOUS: '2'>: RelatedNodeInfo(node_id='07191e5b-1682-4f7f-8752-6fc91844f052', node_type=<ObjectType.TEXT: '1'>, metadata={'file_path': 'cinderella.txt', 'file_name': 'cinderella.txt', 'file_type': 'text/plain', 'file_size': 20547, 'creation_date': '2025-05-01', 'last_modified_date': '2025-05-01'}, hash='6069812b3b79dd452b004f164f9d5591ed83e4aad919316cc76bab1d6ec9df57')}, metadata_template='{key}: {value}', metadata_separator='\\n', text='Cinderella, who was as good as she was beautiful, allowed her sisters to\\nlodge in the palace, and gave them in marriage, that same day, to two\\nlords belonging to the court.\\n\\nThe amiable qualities of Cinderella were as conspicuous after as they\\nhad been before marriage.', mimetype='text/plain', start_char_idx=20265, end_char_idx=20534, metadata_seperator='\\n', text_template='{metadata_str}\\n\\n{content}')]"
      ]
     },
     "execution_count": 6,
     "metadata": {},
     "output_type": "execute_result"
    }
   ],
   "source": [
    "#기준 데이터 확인\n",
    "nodes_200"
   ]
  },
  {
   "cell_type": "markdown",
   "metadata": {
    "id": "IJw56_9VmzJ3"
   },
   "source": [
    "# Naive-RAG 로 베이스 모델 구축"
   ]
  },
  {
   "cell_type": "code",
   "execution_count": 7,
   "metadata": {
    "executionInfo": {
     "elapsed": 605,
     "status": "ok",
     "timestamp": 1728727718156,
     "user": {
      "displayName": "한두솔",
      "userId": "14744311692633150263"
     },
     "user_tz": -540
    },
    "id": "MpKpfrgImzJ4"
   },
   "outputs": [],
   "source": [
    "# 벡터스토어 인덱스 설정\n",
    "vector_index_200 = VectorStoreIndex(nodes_200)\n",
    "\n",
    "# 쿼리 엔진 설정\n",
    "query_engine_200 = vector_index_200.as_query_engine(similarity_top_k=2)"
   ]
  },
  {
   "cell_type": "code",
   "execution_count": 8,
   "metadata": {
    "executionInfo": {
     "elapsed": 296,
     "status": "ok",
     "timestamp": 1728727719526,
     "user": {
      "displayName": "한두솔",
      "userId": "14744311692633150263"
     },
     "user_tz": -540
    },
    "id": "UV8Q58EqmzJ4"
   },
   "outputs": [],
   "source": [
    "from pprint import pprint"
   ]
  },
  {
   "cell_type": "code",
   "execution_count": 9,
   "metadata": {
    "executionInfo": {
     "elapsed": 2105,
     "status": "ok",
     "timestamp": 1728727734267,
     "user": {
      "displayName": "한두솔",
      "userId": "14744311692633150263"
     },
     "user_tz": -540
    },
    "id": "H92EBElDmzJ4"
   },
   "outputs": [],
   "source": [
    "#질문: \"How does Cinderella find a happy ending?\"\n",
    "response = query_engine_200.query(\"How does Cinderella find a happy ending?\")\n"
   ]
  },
  {
   "cell_type": "code",
   "execution_count": 10,
   "metadata": {
    "colab": {
     "base_uri": "https://localhost:8080/"
    },
    "executionInfo": {
     "elapsed": 296,
     "status": "ok",
     "timestamp": 1728727736126,
     "user": {
      "displayName": "한두솔",
      "userId": "14744311692633150263"
     },
     "user_tz": -540
    },
    "id": "46SJ3oF7mzJ5",
    "outputId": "2c2a7032-e2ca-4789-a1af-b673b50510b3"
   },
   "outputs": [
    {
     "name": "stdout",
     "output_type": "stream",
     "text": [
      "('Cinderella finds a happy ending through her kindness and virtue, which '\n",
      " 'ultimately lead to her being recognized by the prince. Despite her initial '\n",
      " 'hardships and the challenges posed by her stepsisters, her good heart and '\n",
      " 'the magical assistance of her fairy godmother allow her to attend the ball, '\n",
      " \"where she captures the prince's attention. The story suggests that her true \"\n",
      " 'worth is acknowledged, and the little glass slipper serves as a symbol of '\n",
      " 'her identity and connection to the prince, paving the way for their reunion '\n",
      " 'and a joyful conclusion to her struggles.')\n"
     ]
    }
   ],
   "source": [
    "pprint(response.response)"
   ]
  },
  {
   "cell_type": "code",
   "execution_count": 11,
   "metadata": {
    "colab": {
     "base_uri": "https://localhost:8080/"
    },
    "executionInfo": {
     "elapsed": 299,
     "status": "ok",
     "timestamp": 1728727770621,
     "user": {
      "displayName": "한두솔",
      "userId": "14744311692633150263"
     },
     "user_tz": -540
    },
    "id": "iPh6qHl7mzJ5",
    "outputId": "803ba3fc-e1b7-4253-f516-c7123cfc2bf6"
   },
   "outputs": [
    {
     "name": "stdout",
     "output_type": "stream",
     "text": [
      "('Cinderella reached home quite out of breath, without either coach or\\n'\n",
      " 'footmen, and with only her shabby clothes on her back; nothing, in\\n'\n",
      " 'short, remained of her recent magnificence, save a little glass slipper,\\n'\n",
      " 'the fellow to the one she had lost.\\n'\n",
      " '\\n'\n",
      " 'The sentinels at the palace gate were closely questioned as to whether\\n'\n",
      " 'they had not seen a princess coming out; but they answered they had seen\\n'\n",
      " 'no one except a shabbily dressed girl, who appeared to be a peasant\\n'\n",
      " 'rather than a young lady.\\n'\n",
      " '\\n'\n",
      " 'On this second night, as you have taken notice, dazzled by worldly show\\n'\n",
      " 'and the pleasing flattery of her royal lover, Cinderella over-stays her\\n'\n",
      " \"time, and is compelled to make her way back to her father's house on\\n\"\n",
      " 'foot and in rags--an everlasting lesson to all the pretty little\\n'\n",
      " 'Cinderellas in the world to keep their word, and to act in good faith by\\n'\n",
      " 'such as befriend them. Never mind--her heart is in the right place--she\\n'\n",
      " 'is a charming good creature; and although virtue goes home in rags, it\\n'\n",
      " 'will leave some token behind--some foot-print by which it can be known\\n'\n",
      " 'and traced wherever it has once walked. We shall hear from that little\\n'\n",
      " 'lost glass slipper again!')\n",
      "('Cinderella drew near her sisters, and frequently spoke to them; and in\\n'\n",
      " 'her goodness of heart she offered them the delicacies which she had\\n'\n",
      " 'received from the prince:  but they did not know she was their sister.\\n'\n",
      " '\\n'\n",
      " 'When Cinderella heard the clock strike three-quarters past eleven, she\\n'\n",
      " 'made a low courtesy to the whole assembly and retired in haste.\\n'\n",
      " '\\n'\n",
      " 'You see how fortune befriends the good-hearted, and even out of such\\n'\n",
      " 'unpromising material as a pumpkin and mice, can make a coach and six,\\n'\n",
      " 'with which to honor her worthy favorite. So Cinderella goes to the ball;\\n'\n",
      " 'but to teach her to be diligent and faithful in her engagements, her\\n'\n",
      " 'faëry godmother enjoins upon her that she return home at twelve. Native\\n'\n",
      " \"beauty and grace attract the princely heart; and while the king's son\\n\"\n",
      " 'pays no heed to her pretentious sisters, he is all grace and\\n'\n",
      " 'condescension to little Cinderella. Obedient to her engagement with her\\n'\n",
      " 'godmother, she returns in all the splendor and honor of the coach and\\n'\n",
      " 'six.\\n'\n",
      " '\\n'\n",
      " 'On reaching home, she found her godmother; and after thanking her for\\n'\n",
      " 'the treat she had enjoyed, she ventured to express a wish to return to\\n'\n",
      " 'the ball on the following evening, as the prince had requested her to\\n'\n",
      " 'do.')\n"
     ]
    }
   ],
   "source": [
    "# hallucination이 없을까?\n",
    "# 참조 컨텍스트 확인\n",
    "pprint(response.source_nodes[0].text)\n",
    "pprint(response.source_nodes[1].text)"
   ]
  },
  {
   "cell_type": "code",
   "execution_count": 12,
   "metadata": {
    "executionInfo": {
     "elapsed": 2456,
     "status": "ok",
     "timestamp": 1728727818672,
     "user": {
      "displayName": "한두솔",
      "userId": "14744311692633150263"
     },
     "user_tz": -540
    },
    "id": "mKUpNG7pmzJ5"
   },
   "outputs": [],
   "source": [
    "# 일단 retrieved context로만 답하게 만들어보자\n",
    "response = query_engine_200.query(\"\"\" You have a long term memory issue. You are not able to answer anything unless the context is provided. When user asks the question, you will be provided with 2 context chunks that are relevant to answer the questions.\n",
    "                                  answer the question based on the context provided strictly.\n",
    "\n",
    "                                  Question:\n",
    "                                  How does Cinderella find a happy ending?\n",
    "                                  Answer:\n",
    "                                  \"\"\")"
   ]
  },
  {
   "cell_type": "code",
   "execution_count": 13,
   "metadata": {
    "colab": {
     "base_uri": "https://localhost:8080/"
    },
    "executionInfo": {
     "elapsed": 294,
     "status": "ok",
     "timestamp": 1728727828036,
     "user": {
      "displayName": "한두솔",
      "userId": "14744311692633150263"
     },
     "user_tz": -540
    },
    "id": "RAfN-tksmzJ6",
    "outputId": "fd725cc4-e095-494f-a6a1-c9769191b411"
   },
   "outputs": [
    {
     "name": "stdout",
     "output_type": "stream",
     "text": [
      "(\"Cinderella's journey leads her to a happy ending through the recognition of \"\n",
      " 'her true worth and the eventual discovery of the glass slipper she left '\n",
      " 'behind. Despite her hardships and the rags she wears, her virtue and '\n",
      " 'kindness shine through, ultimately allowing her to be reunited with her '\n",
      " 'royal lover, who is searching for the mysterious princess. The glass slipper '\n",
      " 'serves as a token of her identity, ensuring that she is traced back to her '\n",
      " 'rightful place.')\n"
     ]
    }
   ],
   "source": [
    "pprint(response.response)"
   ]
  },
  {
   "cell_type": "code",
   "execution_count": 14,
   "metadata": {
    "colab": {
     "base_uri": "https://localhost:8080/"
    },
    "executionInfo": {
     "elapsed": 316,
     "status": "ok",
     "timestamp": 1728727833068,
     "user": {
      "displayName": "한두솔",
      "userId": "14744311692633150263"
     },
     "user_tz": -540
    },
    "id": "sIDThaJXmzJ6",
    "outputId": "deebf631-c091-49f9-faf8-2b131d6b070a"
   },
   "outputs": [
    {
     "name": "stdout",
     "output_type": "stream",
     "text": [
      "('Cinderella reached home quite out of breath, without either coach or\\n'\n",
      " 'footmen, and with only her shabby clothes on her back; nothing, in\\n'\n",
      " 'short, remained of her recent magnificence, save a little glass slipper,\\n'\n",
      " 'the fellow to the one she had lost.\\n'\n",
      " '\\n'\n",
      " 'The sentinels at the palace gate were closely questioned as to whether\\n'\n",
      " 'they had not seen a princess coming out; but they answered they had seen\\n'\n",
      " 'no one except a shabbily dressed girl, who appeared to be a peasant\\n'\n",
      " 'rather than a young lady.\\n'\n",
      " '\\n'\n",
      " 'On this second night, as you have taken notice, dazzled by worldly show\\n'\n",
      " 'and the pleasing flattery of her royal lover, Cinderella over-stays her\\n'\n",
      " \"time, and is compelled to make her way back to her father's house on\\n\"\n",
      " 'foot and in rags--an everlasting lesson to all the pretty little\\n'\n",
      " 'Cinderellas in the world to keep their word, and to act in good faith by\\n'\n",
      " 'such as befriend them. Never mind--her heart is in the right place--she\\n'\n",
      " 'is a charming good creature; and although virtue goes home in rags, it\\n'\n",
      " 'will leave some token behind--some foot-print by which it can be known\\n'\n",
      " 'and traced wherever it has once walked. We shall hear from that little\\n'\n",
      " 'lost glass slipper again!')\n",
      "('She was still relating to her godmother all that had happened at court,\\n'\n",
      " 'when her two sisters knocked at the door. Cinderella went and let them\\n'\n",
      " 'in, pretending to yawn and stretch herself, and rub her eyes, and\\n'\n",
      " 'saying, \"How late you are!\" just as if she was waked up out of a nap,\\n'\n",
      " 'though, truth to say, she had never felt less disposed to sleep in her\\n'\n",
      " 'life. \"If you had been to the ball,\" said one of the sisters, \"you would\\n'\n",
      " 'not have thought it late. There came the most beautiful princess ever\\n'\n",
      " 'seen, who loaded us with polite attentions, and gave us oranges and\\n'\n",
      " 'citrons.\"\\n'\n",
      " '\\n'\n",
      " 'Cinderella could scarcely contain her delight, and inquired the name of\\n'\n",
      " 'the princess. But they replied that nobody knew her name, and that the\\n'\n",
      " \"king's son was in great trouble about her, and would give the world to\\n\"\n",
      " 'know who she could be. \"Is she, then, so very beautiful?\" said\\n'\n",
      " 'Cinderella, smiling. \"Oh, my! how I should like to see her! Oh, do, my\\n'\n",
      " 'Lady Javotte, lend me the yellow dress you wear every day, that I may go\\n'\n",
      " 'to the ball and have a peep at this wonderful princess.\" \"A likely\\n'\n",
      " 'story, indeed!\"')\n"
     ]
    }
   ],
   "source": [
    "# 참조 컨텍스트 확인\n",
    "pprint(response.source_nodes[0].text)\n",
    "pprint(response.source_nodes[1].text)"
   ]
  },
  {
   "cell_type": "markdown",
   "metadata": {
    "id": "-35DgCU0mzJ7"
   },
   "source": [
    "# RAPTOR RAG로 QA 성능 고도화"
   ]
  },
  {
   "cell_type": "code",
   "execution_count": 15,
   "metadata": {
    "executionInfo": {
     "elapsed": 590,
     "status": "ok",
     "timestamp": 1728727908163,
     "user": {
      "displayName": "한두솔",
      "userId": "14744311692633150263"
     },
     "user_tz": -540
    },
    "id": "lR_MDegKmzJ7"
   },
   "outputs": [],
   "source": [
    "# RAPTOR RAG 구현용 크로마DB 활용\n",
    "client = chromadb.PersistentClient(path=\"./cinderella_db\")\n",
    "collection = client.get_or_create_collection('cinderella')\n",
    "\n",
    "vector_store = ChromaVectorStore(chroma_collection=collection)"
   ]
  },
  {
   "cell_type": "code",
   "execution_count": 16,
   "metadata": {
    "colab": {
     "base_uri": "https://localhost:8080/"
    },
    "executionInfo": {
     "elapsed": 30430,
     "status": "ok",
     "timestamp": 1728728020927,
     "user": {
      "displayName": "한두솔",
      "userId": "14744311692633150263"
     },
     "user_tz": -540
    },
    "id": "kkZa-GrdmzJ7",
    "outputId": "41f974d9-697c-4c7f-8a5c-f211e31ad90b"
   },
   "outputs": [
    {
     "name": "stdout",
     "output_type": "stream",
     "text": [
      "Generating embeddings for level 0.\n",
      "Performing clustering for level 0.\n"
     ]
    },
    {
     "name": "stderr",
     "output_type": "stream",
     "text": [
      "/Users/hyeonjinho/.pyenv/versions/3.11.6/lib/python3.11/site-packages/sklearn/utils/deprecation.py:151: FutureWarning: 'force_all_finite' was renamed to 'ensure_all_finite' in 1.6 and will be removed in 1.8.\n",
      "  warnings.warn(\n",
      "OMP: Info #276: omp_set_nested routine deprecated, please use omp_set_max_active_levels instead.\n"
     ]
    },
    {
     "name": "stdout",
     "output_type": "stream",
     "text": [
      "Generating summaries for level 0 with 4 clusters.\n",
      "Level 0 created summaries/clusters: 4\n",
      "Generating embeddings for level 1.\n",
      "Performing clustering for level 1.\n",
      "Generating summaries for level 1 with 1 clusters.\n",
      "Level 1 created summaries/clusters: 1\n",
      "Generating embeddings for level 2.\n",
      "Performing clustering for level 2.\n",
      "Generating summaries for level 2 with 1 clusters.\n",
      "Level 2 created summaries/clusters: 1\n"
     ]
    }
   ],
   "source": [
    "# 라마인덱스 랩터팩(통합팩) 사용하여 아키 세팅\n",
    "raptor_pack = RaptorPack(\n",
    "    dataset, #llamaindex document\n",
    "    embed_model=OpenAIEmbedding(model='text-embedding-3-small'), #cluster별 summary text 임베딩 시 활용 모델\n",
    "    llm=OpenAI(model='gpt-4o-mini', temperature=0), #Cluster별 Summary Text 생성할 LLM\n",
    "    vector_store=vector_store, #기반 벡터스토어\n",
    "    similarity_top_k=2, #추후 Retrieve 시 옵션\n",
    "    mode=\"collapsed\", #Tree구조, Collapse구조 선택\n",
    "    transformations=[\n",
    "        SentenceSplitter(chunk_size=300, chunk_overlap=0)\n",
    "    ],\n",
    ")"
   ]
  },
  {
   "cell_type": "code",
   "execution_count": 17,
   "metadata": {
    "executionInfo": {
     "elapsed": 291,
     "status": "ok",
     "timestamp": 1728728054126,
     "user": {
      "displayName": "한두솔",
      "userId": "14744311692633150263"
     },
     "user_tz": -540
    },
    "id": "2zeZ1AFrmzJ8"
   },
   "outputs": [],
   "source": [
    "# 생성된 인덱스 기반 Raptor Retriever 엔진 정의\n",
    "raptor_retriever = raptor_pack.retriever\n",
    "\n",
    "raptor_query_engine = RetrieverQueryEngine.from_args(\n",
    "    raptor_retriever, llm=OpenAI(model=\"gpt-4o-mini\", temperature=0)\n",
    ")"
   ]
  },
  {
   "cell_type": "code",
   "execution_count": 18,
   "metadata": {
    "executionInfo": {
     "elapsed": 2167,
     "status": "ok",
     "timestamp": 1728728062426,
     "user": {
      "displayName": "한두솔",
      "userId": "14744311692633150263"
     },
     "user_tz": -540
    },
    "id": "lm4Vvmm-mzJ8"
   },
   "outputs": [],
   "source": [
    "#질문: \"How does Cinderella find a happy ending?\"\n",
    "response =raptor_query_engine.query(\"How does Cinderella find a happy ending?\")"
   ]
  },
  {
   "cell_type": "code",
   "execution_count": 19,
   "metadata": {
    "colab": {
     "base_uri": "https://localhost:8080/"
    },
    "executionInfo": {
     "elapsed": 310,
     "status": "ok",
     "timestamp": 1728728064849,
     "user": {
      "displayName": "한두솔",
      "userId": "14744311692633150263"
     },
     "user_tz": -540
    },
    "id": "lej4MBcemzJ8",
    "outputId": "05d350b1-b950-4429-a1c7-908d49124aeb"
   },
   "outputs": [
    {
     "name": "stdout",
     "output_type": "stream",
     "text": [
      "('Cinderella finds a happy ending by marrying the prince after enchanting him '\n",
      " 'at the royal ball. Despite the mistreatment from her stepmother and '\n",
      " 'stepsisters, she remains kind-hearted and forgiving. After the prince vows '\n",
      " 'to find the owner of the glass slipper she dropped, only Cinderella can wear '\n",
      " 'it perfectly. She reveals the matching slipper she had hidden, which leads '\n",
      " 'to her transformation into an even more magnificent version of herself. In a '\n",
      " 'display of her gracious nature, she forgives her stepsisters and allows them '\n",
      " 'to live in the palace, marrying them off to two lords. This culmination of '\n",
      " 'events highlights her virtue and kindness, leading to her joyful union with '\n",
      " 'the prince.')\n"
     ]
    }
   ],
   "source": [
    "pprint(response.response)"
   ]
  },
  {
   "cell_type": "code",
   "execution_count": 20,
   "metadata": {
    "colab": {
     "base_uri": "https://localhost:8080/"
    },
    "executionInfo": {
     "elapsed": 320,
     "status": "ok",
     "timestamp": 1728728079768,
     "user": {
      "displayName": "한두솔",
      "userId": "14744311692633150263"
     },
     "user_tz": -540
    },
    "id": "jjmx_EWZmzJ9",
    "outputId": "963f6349-9668-49e1-fc7d-a6248c7aa636"
   },
   "outputs": [
    {
     "name": "stdout",
     "output_type": "stream",
     "text": [
      "('Cinderella is a kind young woman who endures mistreatment from her cruel '\n",
      " \"stepmother and stepsisters after her mother's death. Forced to do all the \"\n",
      " 'household chores while her stepsisters enjoy luxury, she remains patient and '\n",
      " \"good-natured. When the king's son hosts a royal ball, Cinderella is mocked \"\n",
      " 'and excluded but helps her stepsisters prepare. She confides in her fairy '\n",
      " 'godmother, who magically transforms a pumpkin into a carriage and gives her '\n",
      " 'a beautiful gown and glass slippers, with a warning to return by midnight.\\n'\n",
      " '\\n'\n",
      " 'At the ball, Cinderella enchants the prince but leaves at midnight, '\n",
      " \"accidentally dropping a glass slipper. The prince vows to find the slipper's \"\n",
      " \"owner. Despite her stepsisters' attempts, only Cinderella can wear it \"\n",
      " 'perfectly. She reveals the matching slipper she had hidden, transforming '\n",
      " 'into an even more magnificent version of herself. Her stepsisters ask for '\n",
      " 'forgiveness, which she graciously grants. Ultimately, Cinderella marries the '\n",
      " 'prince and allows her sisters to live in the palace, marrying them off to '\n",
      " 'two lords, highlighting her kind nature. The story emphasizes themes of '\n",
      " 'kindness, virtue, and the contrast between appearance and true worth.')\n",
      "('Cinderella is a kind-hearted young woman mistreated by her cruel stepmother '\n",
      " 'and stepsisters. After her mother’s death, she is forced to do all the '\n",
      " 'household chores while her stepsisters enjoy a life of luxury. Despite their '\n",
      " \"cruelty, she remains patient and good-natured. When the king's son hosts a \"\n",
      " 'royal ball, Cinderella is mocked and excluded but helps her stepsisters '\n",
      " 'prepare. Feeling sad, she confides in her fairy godmother, who magically '\n",
      " 'transforms a pumpkin into a carriage, mice into horses, and gives Cinderella '\n",
      " 'a beautiful gown and glass slippers, warning her to return by midnight.\\n'\n",
      " '\\n'\n",
      " 'At the ball, Cinderella captivates the prince but leaves at midnight, '\n",
      " 'accidentally dropping a glass slipper. The prince vows to find the owner of '\n",
      " \"the slipper. Despite her stepsisters' attempts, only Cinderella can wear it \"\n",
      " 'perfectly. She reveals the matching slipper she had hidden and is '\n",
      " 'transformed into an even more magnificent version of herself. Her '\n",
      " 'stepsisters beg for forgiveness, which she graciously grants. Ultimately, '\n",
      " 'Cinderella marries the prince and allows her sisters to live in the palace, '\n",
      " 'marrying them off to two lords, showcasing her kind nature. The story '\n",
      " 'emphasizes themes of kindness, virtue, and the contrast between appearance '\n",
      " 'and true worth.')\n"
     ]
    }
   ],
   "source": [
    "# 참조 컨텍스트 확인\n",
    "pprint(response.source_nodes[0].text)\n",
    "pprint(response.source_nodes[1].text)"
   ]
  },
  {
   "cell_type": "markdown",
   "metadata": {
    "id": "ICn5qTSJuIUe"
   },
   "source": [
    "# DO IT YOURSELF\n",
    "- korean_webtext.csv 데이터 사용\n",
    "- RaptorRAG Pipeline 구성"
   ]
  },
  {
   "cell_type": "code",
   "execution_count": 22,
   "metadata": {
    "executionInfo": {
     "elapsed": 320,
     "status": "ok",
     "timestamp": 1728728169545,
     "user": {
      "displayName": "한두솔",
      "userId": "14744311692633150263"
     },
     "user_tz": -540
    },
    "id": "xhfkizTOmzJ9"
   },
   "outputs": [],
   "source": [
    "import pandas as pd\n",
    "data = pd.read_csv('./korean_webtext.csv').iloc[:,1:]\n",
    "\n",
    "# Document 오브젝트로 변환\n",
    "from llama_index.core import Document, VectorStoreIndex\n",
    "documents = []\n",
    "\n",
    "#Iterative하게 Document 만들기\n",
    "for i, row in data.iterrows():\n",
    "    documents.append(Document(\n",
    "        text=row['text'],\n",
    "        # extra_info={'title': row['title']}\n",
    "    ))"
   ]
  },
  {
   "cell_type": "code",
   "execution_count": 23,
   "metadata": {
    "executionInfo": {
     "elapsed": 643,
     "status": "ok",
     "timestamp": 1728728216552,
     "user": {
      "displayName": "한두솔",
      "userId": "14744311692633150263"
     },
     "user_tz": -540
    },
    "id": "stjkSsTcmzJ9"
   },
   "outputs": [],
   "source": [
    "# RAPTOR RAG 구현용 크로마DB\n",
    "client = chromadb.PersistentClient(path=\"./wiki_db\")\n",
    "collection = client.get_or_create_collection(\"wiki\")\n",
    "\n",
    "vector_store = ChromaVectorStore(chroma_collection=collection)"
   ]
  },
  {
   "cell_type": "code",
   "execution_count": null,
   "metadata": {
    "colab": {
     "base_uri": "https://localhost:8080/"
    },
    "executionInfo": {
     "elapsed": 382408,
     "status": "ok",
     "timestamp": 1728728672382,
     "user": {
      "displayName": "한두솔",
      "userId": "14744311692633150263"
     },
     "user_tz": -540
    },
    "id": "TUE0g8EKmzJ-",
    "outputId": "c54d4c90-c6df-4e22-a2a4-efff0459ba24"
   },
   "outputs": [],
   "source": [
    "# 라마인덱스 랩터팩(통합팩) 사용하여 아키 세팅\n",
    "raptor_pack = RaptorPack(\n",
    "    documents, #llamaindex document\n",
    "    embed_model=OpenAIEmbedding(model=\"text-embedding-3-small\"), #cluster별 summary text 임베딩 시 활용 모델\n",
    "    llm= OpenAI(model=\"gpt-4o-mini\",temperature=0), #Cluster별 Summary Text 생성할 LLM\n",
    "    vector_store=vector_store, #기반 벡터스토어\n",
    "    similarity_top_k=2, #추후 Retrieve 시 옵션\n",
    "    mode=\"collapsed\", #Tree구조, Collapse구조 선택\n",
    "    transformations=[\n",
    "        SentenceSplitter(chunk_size=200, chunk_overlap=0)\n",
    "    ],\n",
    ")"
   ]
  },
  {
   "cell_type": "code",
   "execution_count": 25,
   "metadata": {
    "executionInfo": {
     "elapsed": 402,
     "status": "ok",
     "timestamp": 1728728731983,
     "user": {
      "displayName": "한두솔",
      "userId": "14744311692633150263"
     },
     "user_tz": -540
    },
    "id": "iG6Gm7y7mzJ-"
   },
   "outputs": [],
   "source": [
    "# 생성된 인덱스 기반 Raptor Retriever 및 쿼리엔진 연결\n",
    "raptor_retriever = raptor_pack.retriever\n",
    "\n",
    "raptor_query_engine = RetrieverQueryEngine.from_args(\n",
    "    raptor_retriever, llm=OpenAI(model='gpt-4o-mini', temperature=0)\n",
    ")"
   ]
  },
  {
   "cell_type": "code",
   "execution_count": 26,
   "metadata": {
    "executionInfo": {
     "elapsed": 290,
     "status": "ok",
     "timestamp": 1728728752674,
     "user": {
      "displayName": "한두솔",
      "userId": "14744311692633150263"
     },
     "user_tz": -540
    },
    "id": "z3WCgisemzJ_"
   },
   "outputs": [],
   "source": [
    "#Naive RAG용\n",
    "# 청크사이즈 전처리 파이프라인 생성\n",
    "pipeline_200 = IngestionPipeline(\n",
    "    transformations=[\n",
    "        SentenceSplitter(chunk_size=200, chunk_overlap=0)\n",
    "    ]\n",
    ")\n",
    "\n",
    "# 설정한 파이프라인 설정으로 기준 다큐먼트 노드 오브젝트로 변경\n",
    "nodes_200 = pipeline_200.run(documents=documents)"
   ]
  },
  {
   "cell_type": "code",
   "execution_count": 27,
   "metadata": {
    "executionInfo": {
     "elapsed": 5861,
     "status": "ok",
     "timestamp": 1728728763516,
     "user": {
      "displayName": "한두솔",
      "userId": "14744311692633150263"
     },
     "user_tz": -540
    },
    "id": "dmpkCOwsmzKA"
   },
   "outputs": [],
   "source": [
    "# 벡터스토어 인덱스 설정\n",
    "vector_index_200 = VectorStoreIndex(nodes_200)\n",
    "\n",
    "# 쿼리 엔진 설정\n",
    "query_engine_200 = vector_index_200.as_query_engine(similarity_top_k=2)"
   ]
  },
  {
   "cell_type": "code",
   "execution_count": 28,
   "metadata": {
    "executionInfo": {
     "elapsed": 2324,
     "status": "ok",
     "timestamp": 1728728789199,
     "user": {
      "displayName": "한두솔",
      "userId": "14744311692633150263"
     },
     "user_tz": -540
    },
    "id": "6Z8KraFrmzKB"
   },
   "outputs": [],
   "source": [
    "# Naive RAG 답안 뽑기:\"분당과 같은 신도시가 해외에서도 성공할 수 없는 이유가 뭘까?\"\n",
    "naive_response = query_engine_200.query(\"분당과 같은 신도시가 해외에서도 성공할 수 없는 이유가 뭘까?\")"
   ]
  },
  {
   "cell_type": "code",
   "execution_count": 29,
   "metadata": {
    "colab": {
     "base_uri": "https://localhost:8080/"
    },
    "executionInfo": {
     "elapsed": 1,
     "status": "ok",
     "timestamp": 1728728791348,
     "user": {
      "displayName": "한두솔",
      "userId": "14744311692633150263"
     },
     "user_tz": -540
    },
    "id": "vmLLOoJomzKB",
    "outputId": "8d3f3fd9-451a-4df4-805a-209a836565ad"
   },
   "outputs": [
    {
     "name": "stdout",
     "output_type": "stream",
     "text": [
      "('해외에서 분당과 같은 신도시가 성공하기 어려운 이유는 현지의 문화, 시장, 사람들, 관계, 제도 등을 충분히 이해하지 못하기 때문입니다. '\n",
      " '국내식 접근 방식으로는 로컬 환경에 적합하지 않으며, 각 지역의 특성을 반영한 맞춤형 전략이 필요합니다. 성공적인 신도시 개발은 이러한 '\n",
      " '로컬 이해를 바탕으로 이루어져야 합니다.')\n"
     ]
    }
   ],
   "source": [
    "pprint(naive_response.response)"
   ]
  },
  {
   "cell_type": "code",
   "execution_count": 30,
   "metadata": {
    "colab": {
     "base_uri": "https://localhost:8080/"
    },
    "executionInfo": {
     "elapsed": 287,
     "status": "ok",
     "timestamp": 1728728797703,
     "user": {
      "displayName": "한두솔",
      "userId": "14744311692633150263"
     },
     "user_tz": -540
    },
    "id": "Iw5pAiBjmzKB",
    "outputId": "18bf006a-5803-4b9c-ad36-7a0fdd2aa2a7"
   },
   "outputs": [
    {
     "name": "stdout",
     "output_type": "stream",
     "text": [
      "'그런데 어디에도 제대로된 한국적 신도시 성공담이 들리지 않는다. 오히려 고전을 면치못하는 게 현실이다.'\n",
      "('우리나라가 아무리 국내에서 많은 신도시를 지었다고 해도 해외신도시개발은 다른 얘기다. 결코 만만하게 봐서는 안될것이다. 로마에 가면 '\n",
      " '로마법을 따라야하듯 해외에서 국내식 접근은 잊기 바란다. 로컬을 잘 이해하는 것이 성공의 첩경이다. 진출할 도시의 사람, 문화, 시장, '\n",
      " '관계, 제도 등을 잘 이해하는 것이 큰 사업의 가장 기초이자 성공의 결정요인이다.')\n"
     ]
    }
   ],
   "source": [
    "pprint(naive_response.source_nodes[0].text)\n",
    "pprint(naive_response.source_nodes[1].text)"
   ]
  },
  {
   "cell_type": "code",
   "execution_count": 31,
   "metadata": {
    "executionInfo": {
     "elapsed": 2373,
     "status": "ok",
     "timestamp": 1728728822670,
     "user": {
      "displayName": "한두솔",
      "userId": "14744311692633150263"
     },
     "user_tz": -540
    },
    "id": "GdXRMbw6mzKC"
   },
   "outputs": [],
   "source": [
    "# RAPTOR RAG 답안 뽑기:\"분당과 같은 신도시가 해외에서도 성공할 수 없는 이유가 뭘까?\"\n",
    "response =raptor_query_engine.query(\"분당과 같은 신도시가 해외에서도 성공할 수 없는 이유가 뭘까?\")"
   ]
  },
  {
   "cell_type": "code",
   "execution_count": 32,
   "metadata": {
    "colab": {
     "base_uri": "https://localhost:8080/"
    },
    "executionInfo": {
     "elapsed": 287,
     "status": "ok",
     "timestamp": 1728728824823,
     "user": {
      "displayName": "한두솔",
      "userId": "14744311692633150263"
     },
     "user_tz": -540
    },
    "id": "kByOizV3mzKC",
    "outputId": "99edd6ff-ef3b-408d-dab0-7d98720bf706"
   },
   "outputs": [
    {
     "name": "stdout",
     "output_type": "stream",
     "text": [
      "('해외에서 분당과 같은 신도시가 성공하기 어려운 이유는 현지의 사람, 문화, 시장, 관계, 제도 등을 충분히 이해하지 못하기 때문입니다. '\n",
      " '국내식 접근 방식으로는 로컬 환경에 적합한 해결책을 찾기 힘들고, 각 지역의 특성을 반영하지 않으면 성공적인 개발이 어렵습니다.')\n"
     ]
    }
   ],
   "source": [
    "pprint(response.response)"
   ]
  },
  {
   "cell_type": "code",
   "execution_count": 33,
   "metadata": {
    "colab": {
     "base_uri": "https://localhost:8080/"
    },
    "executionInfo": {
     "elapsed": 285,
     "status": "ok",
     "timestamp": 1728728832432,
     "user": {
      "displayName": "한두솔",
      "userId": "14744311692633150263"
     },
     "user_tz": -540
    },
    "id": "HEXAvroEmzKD",
    "outputId": "2dfc4f65-090b-4646-b6d5-c9d5a144a800"
   },
   "outputs": [
    {
     "name": "stdout",
     "output_type": "stream",
     "text": [
      "'그런데 어디에도 제대로된 한국적 신도시 성공담이 들리지 않는다. 오히려 고전을 면치못하는 게 현실이다.'\n",
      "('우리나라가 아무리 국내에서 많은 신도시를 지었다고 해도 해외신도시개발은 다른 얘기다. 결코 만만하게 봐서는 안될것이다. 로마에 가면 '\n",
      " '로마법을 따라야하듯 해외에서 국내식 접근은 잊기 바란다. 로컬을 잘 이해하는 것이 성공의 첩경이다. 진출할 도시의 사람, 문화, 시장, '\n",
      " '관계, 제도 등을 잘 이해하는 것이 큰 사업의 가장 기초이자 성공의 결정요인이다.')\n"
     ]
    }
   ],
   "source": [
    "# 참조 컨텍스트 확인\n",
    "pprint(response.source_nodes[0].text)\n",
    "pprint(response.source_nodes[1].text)"
   ]
  },
  {
   "cell_type": "code",
   "execution_count": 34,
   "metadata": {
    "executionInfo": {
     "elapsed": 2229,
     "status": "ok",
     "timestamp": 1728728892850,
     "user": {
      "displayName": "한두솔",
      "userId": "14744311692633150263"
     },
     "user_tz": -540
    },
    "id": "GOfqxSOSmzKE"
   },
   "outputs": [],
   "source": [
    "# Naive RAG 답안 뽑기:\"캐나다가 주목받는 국가인 이유에 대해 알려줘\"\n",
    "naive_response = query_engine_200.query(\"캐나다가 주목받는 국가인 이유에 대해 알려줘\")"
   ]
  },
  {
   "cell_type": "code",
   "execution_count": 35,
   "metadata": {
    "colab": {
     "base_uri": "https://localhost:8080/"
    },
    "executionInfo": {
     "elapsed": 305,
     "status": "ok",
     "timestamp": 1728728896145,
     "user": {
      "displayName": "한두솔",
      "userId": "14744311692633150263"
     },
     "user_tz": -540
    },
    "id": "GWNEW_v2mzKE",
    "outputId": "0d3bf240-9e9e-4be3-bb9e-e10b355d0af2"
   },
   "outputs": [
    {
     "name": "stdout",
     "output_type": "stream",
     "text": [
      "('캐나다는 살기 좋은 나라와 유학하기 가장 좋은 나라로 높은 평가를 받고 있으며, 일, 방문, 생활 측면에서도 최고의 국가로 자리매김하고 '\n",
      " '있습니다. 이러한 이유로 많은 사람들이 캐나다를 주목하고 있습니다. 또한, 캐나다의 우수한 교육 프로그램, 아름다운 자연, 다문화 사회, '\n",
      " '저렴한 생활비 등이 유학생들에게 매력적으로 작용하고 있습니다.')\n"
     ]
    }
   ],
   "source": [
    "pprint(naive_response.response)"
   ]
  },
  {
   "cell_type": "code",
   "execution_count": 36,
   "metadata": {
    "colab": {
     "base_uri": "https://localhost:8080/"
    },
    "executionInfo": {
     "elapsed": 296,
     "status": "ok",
     "timestamp": 1728728900297,
     "user": {
      "displayName": "한두솔",
      "userId": "14744311692633150263"
     },
     "user_tz": -540
    },
    "id": "v7WAyHezmzKF",
    "outputId": "3be9202f-db2a-427a-dbd1-68157df23e8f"
   },
   "outputs": [
    {
     "name": "stdout",
     "output_type": "stream",
     "text": [
      "('캐나다는 3 년 연속 지구상에서 가장 주목할만한 국가로 선포되었습니다. 일반 타이틀을 집으로 가져 왔을뿐만 아니라 캐나다는 \"살기 좋은 '\n",
      " '나라\"에서 \"유학하기 가장 좋은 나라\"로 분류하는 데있어 최고의 자리를 보장하는 동시에 최고의 국가 일, 방문 및 생활로 자리 '\n",
      " '매김했습니다. 당신의 배낭에 단풍잎을 꿰매는 진정한 동기를 찾고 있습니까?')\n",
      "('그러나 최근 몇 년 동안 점점 더 인기를 얻고있는 한 가지 선택이 있습니다. 캐나다 대학에서 교육을 추구하는 것입니다. 많은 유학생들이 '\n",
      " '캐나다를 유학 목적지로 선택하고 있으며 그 이유는 당연합니다. 캐나다는 우수한 교육 프로그램, 경이로운 자연, 다문화 사회 및 저렴한 '\n",
      " '생활비를 제공합니다.')\n"
     ]
    }
   ],
   "source": [
    "pprint(naive_response.source_nodes[0].text)\n",
    "pprint(naive_response.source_nodes[1].text)"
   ]
  },
  {
   "cell_type": "code",
   "execution_count": 37,
   "metadata": {
    "executionInfo": {
     "elapsed": 2346,
     "status": "ok",
     "timestamp": 1728728916287,
     "user": {
      "displayName": "한두솔",
      "userId": "14744311692633150263"
     },
     "user_tz": -540
    },
    "id": "5cr3H9mtmzKF"
   },
   "outputs": [],
   "source": [
    "# RAPTOR RAG 답안 뽑기:\"캐나다가 주목받는 국가인 이유에 대해 알려줘\"\n",
    "response =raptor_query_engine.query(\"캐나다가 주목받는 국가인 이유에 대해 알려줘\")"
   ]
  },
  {
   "cell_type": "code",
   "execution_count": 38,
   "metadata": {
    "colab": {
     "base_uri": "https://localhost:8080/"
    },
    "executionInfo": {
     "elapsed": 285,
     "status": "ok",
     "timestamp": 1728728926465,
     "user": {
      "displayName": "한두솔",
      "userId": "14744311692633150263"
     },
     "user_tz": -540
    },
    "id": "TNpgjMYgmzKF",
    "outputId": "f31ff6dd-3fe2-485a-fe43-90319b4788e6"
   },
   "outputs": [
    {
     "name": "stdout",
     "output_type": "stream",
     "text": [
      "('캐나다는 3년 연속 세계에서 가장 주목할 만한 국가로 선정되었으며, \"살기 좋은 나라\"와 \"유학하기 가장 좋은 나라\"로도 높은 평가를 '\n",
      " '받고 있습니다. 이러한 평가는 캐나다의 교육 시스템이 세계적으로 인정받고 있고, 약 96개의 대학이 국제 교육을 고려하는 학생들에게 '\n",
      " '매력적인 선택지로 자리 잡고 있기 때문입니다. 또한, 캐나다는 다양한 국제 커뮤니티와의 연결이 중요하며, 공식 언어로 영어와 프랑스어를 '\n",
      " '사용하고 있습니다.')\n"
     ]
    }
   ],
   "source": [
    "pprint(response.response)"
   ]
  },
  {
   "cell_type": "code",
   "execution_count": 39,
   "metadata": {
    "colab": {
     "base_uri": "https://localhost:8080/"
    },
    "executionInfo": {
     "elapsed": 293,
     "status": "ok",
     "timestamp": 1728728931283,
     "user": {
      "displayName": "한두솔",
      "userId": "14744311692633150263"
     },
     "user_tz": -540
    },
    "id": "ihBSdoAkmzKG",
    "outputId": "65bda95c-2175-4f43-a4ba-ced779b6b954"
   },
   "outputs": [
    {
     "name": "stdout",
     "output_type": "stream",
     "text": [
      "('캐나다는 3 년 연속 지구상에서 가장 주목할만한 국가로 선포되었습니다. 일반 타이틀을 집으로 가져 왔을뿐만 아니라 캐나다는 \"살기 좋은 '\n",
      " '나라\"에서 \"유학하기 가장 좋은 나라\"로 분류하는 데있어 최고의 자리를 보장하는 동시에 최고의 국가 일, 방문 및 생활로 자리 '\n",
      " '매김했습니다. 당신의 배낭에 단풍잎을 꿰매는 진정한 동기를 찾고 있습니까?')\n",
      "('캐나다는 3년 연속 세계에서 가장 주목할 만한 국가로 선정되었으며, \"살기 좋은 나라\"와 \"유학하기 가장 좋은 나라\"로도 높은 평가를 '\n",
      " '받고 있습니다. 캐나다에는 약 96개의 대학이 있으며, 국제 교육을 고려하는 학생들에게 매력적인 선택지로 자리 잡고 있습니다. 캐나다의 '\n",
      " '교육 시스템은 세계적으로 인정받고 있으며, 2018년에는 세계에서 가장 국제적인 200개 대학 중 7개가 캐나다 대학으로 포함되었습니다. '\n",
      " '캐나다의 공식 언어는 영어와 프랑스어이며, 각각의 모국어 사용 비율은 56.9%와 21.3%입니다. 학생들은 두 언어를 모두 알 필요는 '\n",
      " '없지만, 다양한 국제 커뮤니티와의 연결이 중요할 수 있습니다.')\n"
     ]
    }
   ],
   "source": [
    "# 참조 컨텍스트 확인\n",
    "pprint(response.source_nodes[0].text)\n",
    "pprint(response.source_nodes[1].text)"
   ]
  },
  {
   "cell_type": "code",
   "execution_count": 40,
   "metadata": {
    "executionInfo": {
     "elapsed": 4183,
     "status": "ok",
     "timestamp": 1728728979125,
     "user": {
      "displayName": "한두솔",
      "userId": "14744311692633150263"
     },
     "user_tz": -540
    },
    "id": "z5TzG33omzKG"
   },
   "outputs": [],
   "source": [
    "# Naive RAG 답안 뽑기:\"한국과 일본의 유명한 해군 제독에 대해 알려줘\"\n",
    "naive_response =query_engine_200.query(\"한국과 일본의 유명한 해군 제독에 대해 알려줘\")"
   ]
  },
  {
   "cell_type": "code",
   "execution_count": 41,
   "metadata": {
    "colab": {
     "base_uri": "https://localhost:8080/"
    },
    "executionInfo": {
     "elapsed": 306,
     "status": "ok",
     "timestamp": 1728728980698,
     "user": {
      "displayName": "한두솔",
      "userId": "14744311692633150263"
     },
     "user_tz": -540
    },
    "id": "mAWy1XenmzKG",
    "outputId": "6406faa4-a54a-4e52-a679-887e5ab18713"
   },
   "outputs": [
    {
     "name": "stdout",
     "output_type": "stream",
     "text": [
      "('한국과 일본의 유명한 해군 제독에 대한 정보는 제공되지 않았습니다. 다만, 일본의 해군 제독 중 한 명인 마카로프 제독이 언급되었으며, '\n",
      " '그는 러시아 해군의 전략가로서 1904년 일러전쟁 중에 전사한 사례가 있습니다. 한국과 일본의 해군 제독에 대한 구체적인 정보는 포함되어 '\n",
      " '있지 않습니다.')\n"
     ]
    }
   ],
   "source": [
    "pprint(naive_response.response)"
   ]
  },
  {
   "cell_type": "code",
   "execution_count": 42,
   "metadata": {
    "colab": {
     "base_uri": "https://localhost:8080/"
    },
    "executionInfo": {
     "elapsed": 304,
     "status": "ok",
     "timestamp": 1728728982036,
     "user": {
      "displayName": "한두솔",
      "userId": "14744311692633150263"
     },
     "user_tz": -540
    },
    "id": "ApsGgaC-mzKH",
    "outputId": "5849185c-7f9d-468a-b9ea-9646bb27fa43"
   },
   "outputs": [
    {
     "name": "stdout",
     "output_type": "stream",
     "text": [
      "('일본으로부터 막대한 영향을 받고 영향을 주기도 하며 서로가 공존하는 모습을 두고 한국은 선, 일본은 악이라는 이분법적 조센징의 머가리 '\n",
      " '구조가 우스꽝 스러워 보일뿐이다.')\n",
      "('당시 러시아는 세계에서 영국에 이은 해군 강국으로 해군의 어뢰정 운용과 전술에 있어 최고로 인정 받고 있었으며, 해군 전술 전략에 있어 '\n",
      " '세계적으로 존경을 받고 있는 마카로프 제독과 같은 전략가가 있었다. 마카로프 제독은 1904년 일러전쟁 발발 직 후 여순항 해전 중 일본 '\n",
      " '연함 함대를 발견하고 쫓아가다 기뢰에 걸려 파편에 맞아 즉사했다.')\n"
     ]
    }
   ],
   "source": [
    "# 참조 컨텍스트 확인\n",
    "pprint(naive_response.source_nodes[0].text)\n",
    "pprint(naive_response.source_nodes[1].text)"
   ]
  },
  {
   "cell_type": "code",
   "execution_count": 43,
   "metadata": {
    "executionInfo": {
     "elapsed": 63470,
     "status": "ok",
     "timestamp": 1728729064287,
     "user": {
      "displayName": "한두솔",
      "userId": "14744311692633150263"
     },
     "user_tz": -540
    },
    "id": "prn6ktzEmzKH"
   },
   "outputs": [],
   "source": [
    "# RAPTOR RAG 답안 뽑기:\"한국과 일본의 유명한 해군 제독에 대해 알려줘\"\n",
    "response =raptor_query_engine.query(\"한국과 일본의 유명한 해군 제독에 대해 알려줘\")"
   ]
  },
  {
   "cell_type": "code",
   "execution_count": 44,
   "metadata": {
    "colab": {
     "base_uri": "https://localhost:8080/"
    },
    "executionInfo": {
     "elapsed": 316,
     "status": "ok",
     "timestamp": 1728729068886,
     "user": {
      "displayName": "한두솔",
      "userId": "14744311692633150263"
     },
     "user_tz": -540
    },
    "id": "J7I9gsbBmzKH",
    "outputId": "47be7827-39d8-46ad-8ca3-7237312901b3"
   },
   "outputs": [
    {
     "name": "stdout",
     "output_type": "stream",
     "text": [
      "('한국과 일본의 유명한 해군 제독으로는 이순신과 도고 헤이하치로가 있습니다. 이순신은 임진왜란 동안 한국 해군을 이끌며 한산도 해전에서 '\n",
      " \"일본에 결정적인 승리를 거두었습니다. 그의 독창적인 전투 형식인 '학익진'은 이 전투에서 큰 역할을 했습니다. 반면, 도고 헤이하치로는 \"\n",
      " '러일 전쟁에서 일본 해군을 이끌며 발틱 함대를 크게 무찌른 전투로 유명합니다. 그는 이순신의 전술을 존경하며, 일본 해군의 현대화에 '\n",
      " '이순신의 전략을 연구했습니다. 두 제독 모두 각국의 해군 역사에서 중요한 인물로 평가받고 있습니다.')\n"
     ]
    }
   ],
   "source": [
    "pprint(response.response)"
   ]
  },
  {
   "cell_type": "code",
   "execution_count": 45,
   "metadata": {
    "colab": {
     "base_uri": "https://localhost:8080/"
    },
    "executionInfo": {
     "elapsed": 329,
     "status": "ok",
     "timestamp": 1728729083440,
     "user": {
      "displayName": "한두솔",
      "userId": "14744311692633150263"
     },
     "user_tz": -540
    },
    "id": "poUrPKcmmzKI",
    "outputId": "605b9443-2d98-4d0d-aee1-e4e1b622851c"
   },
   "outputs": [
    {
     "name": "stdout",
     "output_type": "stream",
     "text": [
      "('The text covers several historical and contemporary aspects of Japan and '\n",
      " 'South Korea, focusing on military history, economic comparisons, and '\n",
      " 'cultural influences. \\n'\n",
      " '\\n'\n",
      " 'The Tsushima Naval Battle during the Russo-Japanese War marked a significant '\n",
      " 'victory for Japan, showcasing its military prowess by decimating the Russian '\n",
      " 'Baltic Fleet. Japan suffered minimal casualties compared to Russia, which '\n",
      " \"lost a substantial number of ships and personnel. Admiral Togo Heihachiro's \"\n",
      " 'innovative tactics, inspired by Admiral Yi Sun-sin of Korea, are noted as '\n",
      " 'foundational in modern naval warfare.\\n'\n",
      " '\\n'\n",
      " 'In contrast, during the Imjin War, Admiral Yi Sun-sin led the Korean navy to '\n",
      " 'a decisive victory against Japan, employing the effective \"crane wing '\n",
      " 'formation.\" Despite his contributions, Yi\\'s legacy was largely overlooked '\n",
      " 'in Korea, while Japan revered him, studying his strategies to enhance their '\n",
      " 'naval capabilities.\\n'\n",
      " '\\n'\n",
      " 'The text also addresses the perceived inferiority complex of some South '\n",
      " 'Koreans towards Japan, particularly in sports and economic status. It '\n",
      " \"highlights Japan's economic strength, suggesting it surpasses South Korea's, \"\n",
      " 'and critiques the tendency of South Koreans to downplay their own '\n",
      " \"achievements while exaggerating Japan's. The cultural exchange is \"\n",
      " 'acknowledged, with South Korea drawing from Japanese influences in various '\n",
      " 'fields, including media.\\n'\n",
      " '\\n'\n",
      " 'Additionally, the text discusses the decline of South Korean football '\n",
      " \"compared to Japan's success, noting Japan's superior performance in the \"\n",
      " 'Asian Cup and FIFA rankings since the 1990s. The rivalry in football is '\n",
      " 'portrayed as less significant in reflecting national power or status.\\n'\n",
      " '\\n'\n",
      " 'Overall, the text emphasizes the complex historical relationship between the '\n",
      " 'two nations, their mutual influences, and the ongoing cultural and economic '\n",
      " 'dynamics.')\n",
      "('During the Imjin War, Japan effectively abandoned naval warfare following '\n",
      " 'the decisive victory of Admiral Yi Sun-sin at the Battle of Hansando, where '\n",
      " 'the Korean navy suffered minimal casualties while inflicting heavy losses on '\n",
      " 'the Japanese fleet. The battle resulted in the sinking of 47 Japanese ships, '\n",
      " \"the capture of 12, and the loss of 9,000 soldiers. Yi Sun-sin's unique \"\n",
      " 'battle formation, the \"crane wing formation,\" was pivotal to this success.\\n'\n",
      " '\\n'\n",
      " \"Despite his significant contributions, Yi Sun-sin's legacy was largely \"\n",
      " 'forgotten in Korea, while in Japan, he was revered. The Japanese navy '\n",
      " 'studied his strategies extensively, particularly during the Meiji period '\n",
      " 'when they established a modern navy. Notably, the Japanese naval officer '\n",
      " 'Kawada Isao praised Yi Sun-sin for his integrity, loyalty, and tactical '\n",
      " 'genius in his book \"Through the Shellfire.\" \\n'\n",
      " '\\n'\n",
      " 'Admiral Togo Heihachiro, a hero of the Russo-Japanese War, also expressed '\n",
      " 'deep respect for Yi Sun-sin, considering him a guiding figure. Togo, who '\n",
      " 'studied British naval tactics, regularly visited the shrine dedicated to Yi '\n",
      " 'Sun-sin and incorporated rituals honoring him into Japanese naval practices, '\n",
      " 'seeking his blessings for victories against adversaries like the Russian '\n",
      " 'Baltic Fleet.')\n"
     ]
    }
   ],
   "source": [
    "# 참조 컨텍스트 확인\n",
    "pprint(response.source_nodes[0].text)\n",
    "pprint(response.source_nodes[1].text)"
   ]
  },
  {
   "cell_type": "code",
   "execution_count": null,
   "metadata": {
    "id": "g7Zvs07CSGsu"
   },
   "outputs": [],
   "source": []
  }
 ],
 "metadata": {
  "colab": {
   "provenance": [
    {
     "file_id": "1h0a4wrS75rJQSUMOmTh63KuIL3ETG1f6",
     "timestamp": 1723182812155
    }
   ]
  },
  "kernelspec": {
   "display_name": "Python 3",
   "language": "python",
   "name": "python3"
  },
  "language_info": {
   "codemirror_mode": {
    "name": "ipython",
    "version": 3
   },
   "file_extension": ".py",
   "mimetype": "text/x-python",
   "name": "python",
   "nbconvert_exporter": "python",
   "pygments_lexer": "ipython3",
   "version": "3.11.6"
  }
 },
 "nbformat": 4,
 "nbformat_minor": 0
}
