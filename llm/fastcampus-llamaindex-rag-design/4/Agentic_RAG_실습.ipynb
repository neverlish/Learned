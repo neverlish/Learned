{
 "cells": [
  {
   "cell_type": "code",
   "execution_count": 2,
   "metadata": {
    "executionInfo": {
     "elapsed": 6498,
     "status": "ok",
     "timestamp": 1728734061175,
     "user": {
      "displayName": "한두솔",
      "userId": "14744311692633150263"
     },
     "user_tz": -540
    },
    "id": "DkqSL3Xp1IDe"
   },
   "outputs": [],
   "source": [
    "from llama_index.embeddings.openai import OpenAIEmbedding\n",
    "from llama_index.llms.openai import OpenAI\n",
    "from llama_index.core import Settings\n",
    "import os\n",
    "\n",
    "# 추후 사용할 llm, 임베딩 모델 클래스 정의\n",
    "Settings.llm = OpenAI(model=\"gpt-4o-mini\", temperature=0)\n",
    "Settings.embed_model = OpenAIEmbedding(model=\"text-embedding-3-small\")"
   ]
  },
  {
   "cell_type": "code",
   "execution_count": 4,
   "metadata": {
    "executionInfo": {
     "elapsed": 5932,
     "status": "ok",
     "timestamp": 1728734069160,
     "user": {
      "displayName": "한두솔",
      "userId": "14744311692633150263"
     },
     "user_tz": -540
    },
    "id": "L9z_s__x13yw"
   },
   "outputs": [
    {
     "name": "stdout",
     "output_type": "stream",
     "text": [
      "  % Total    % Received % Xferd  Average Speed   Time    Time     Time  Current\n",
      "                                 Dload  Upload   Total   Spent    Left  Speed\n",
      "100    17  100    17    0     0     35      0 --:--:-- --:--:-- --:--:--    35\n",
      "curl: (6) Could not resolve host: .\n",
      "  % Total    % Received % Xferd  Average Speed   Time    Time     Time  Current\n",
      "                                 Dload  Upload   Total   Spent    Left  Speed\n",
      "100    17  100    17    0     0     31      0 --:--:-- --:--:-- --:--:--    31\n",
      "curl: (6) Could not resolve host: .\n",
      "  % Total    % Received % Xferd  Average Speed   Time    Time     Time  Current\n",
      "                                 Dload  Upload   Total   Spent    Left  Speed\n",
      "100    17  100    17    0     0     30      0 --:--:-- --:--:-- --:--:--    30\n",
      "curl: (6) Could not resolve host: .\n"
     ]
    }
   ],
   "source": [
    "!curl -XGET \"https://www.dropbox.com/scl/fi/ywc29qvt66s8i97h1taci/lyft-10k-2020.pdf?rlkey=d7bru2jno7398imeirn09fey5&dl=0\" -q -O ./lyft_10k_2020.pdf\n",
    "!curl -XGET \"https://www.dropbox.com/scl/fi/lpmmki7a9a14s1l5ef7ep/lyft-10k-2021.pdf?rlkey=ud5cwlfotrii6r5jjag1o3hvm&dl=0\" -q -O ./lyft_10k_2021.pdf\n",
    "!curl -XGET \"https://www.dropbox.com/scl/fi/iffbbnbw9h7shqnnot5es/lyft-10k-2022.pdf?rlkey=grkdgxcrib60oegtp4jn8hpl8&dl=0\" -q -O ./lyft_10k_2022.pdf\n"
   ]
  },
  {
   "cell_type": "code",
   "execution_count": 8,
   "metadata": {
    "executionInfo": {
     "elapsed": 71862,
     "status": "ok",
     "timestamp": 1728734279850,
     "user": {
      "displayName": "한두솔",
      "userId": "14744311692633150263"
     },
     "user_tz": -540
    },
    "id": "0_vza3FN4wE7"
   },
   "outputs": [],
   "source": [
    "from llama_index.core import SimpleDirectoryReader, VectorStoreIndex\n",
    "#naive engine 구성\n",
    "lyft_2020_docs = SimpleDirectoryReader(input_files=['./lyft-10k-2020.pdf']).load_data()\n",
    "lyft_2020_index = VectorStoreIndex.from_documents(lyft_2020_docs)\n",
    "lyft_2020_engine = lyft_2020_index.as_query_engine()\n",
    "\n",
    "lyft_2021_docs = SimpleDirectoryReader(input_files=['./lyft-10k-2021.pdf']).load_data()\n",
    "lyft_2021_index = VectorStoreIndex.from_documents(lyft_2021_docs)\n",
    "lyft_2021_engine =lyft_2021_index.as_query_engine()\n",
    "\n",
    "lyft_2022_docs = SimpleDirectoryReader(input_files=['./lyft-10k-2022.pdf']).load_data()\n",
    "lyft_2022_index = VectorStoreIndex.from_documents(lyft_2022_docs)\n",
    "lyft_2022_engine =lyft_2022_index.as_query_engine()"
   ]
  },
  {
   "cell_type": "code",
   "execution_count": 9,
   "metadata": {
    "colab": {
     "base_uri": "https://localhost:8080/"
    },
    "executionInfo": {
     "elapsed": 1797,
     "status": "ok",
     "timestamp": 1728734285812,
     "user": {
      "displayName": "한두솔",
      "userId": "14744311692633150263"
     },
     "user_tz": -540
    },
    "id": "ZcLkwbKs99dI",
    "outputId": "9a7f6804-f7de-4ded-e396-3fef3915dee2"
   },
   "outputs": [
    {
     "name": "stdout",
     "output_type": "stream",
     "text": [
      "Lyft reported a net loss of $1,584,511,000 in 2022.\n"
     ]
    }
   ],
   "source": [
    "response = lyft_2022_engine.query(\"What was Lyft's profit in 2022?\")\n",
    "print(response)"
   ]
  },
  {
   "cell_type": "markdown",
   "metadata": {
    "id": "h9_bhdulBGRw"
   },
   "source": [
    "\n",
    " - Agent가 활용할 수 있는 툴들을 정의 필요\n",
    " - 방금 만든 쿼리 엔진들을 툴화 시키면 됨.\n",
    " - 툴 화 시킬때는 각 툴들이 언제 사용되어야 하는지를 자연어로 태깅 필요.\n",
    " - 그런 다음 LLM(에이전트)이 해당 자연어를 토대로 classification 수행."
   ]
  },
  {
   "cell_type": "code",
   "execution_count": 10,
   "metadata": {
    "executionInfo": {
     "elapsed": 269,
     "status": "ok",
     "timestamp": 1728734357339,
     "user": {
      "displayName": "한두솔",
      "userId": "14744311692633150263"
     },
     "user_tz": -540
    },
    "id": "YRgh_EI_A9Hn"
   },
   "outputs": [],
   "source": [
    "from llama_index.core.tools import QueryEngineTool, ToolMetadata\n",
    "\n",
    "query_engine_tools = [\n",
    "    QueryEngineTool(\n",
    "        query_engine=lyft_2020_engine,\n",
    "        metadata=ToolMetadata(\n",
    "            name=\"lyft_2020_10k_form\",\n",
    "            description=\"Annual report of Lyft's financial activities in 2020\",\n",
    "        ),\n",
    "    ),\n",
    "    QueryEngineTool(\n",
    "        query_engine=lyft_2021_engine,\n",
    "        metadata=ToolMetadata(\n",
    "            name=\"lyft_2021_10k_form\",\n",
    "            description=\"Annual report of Lyft's financial activities in 2021\",\n",
    "        ),\n",
    "    ),\n",
    "    QueryEngineTool(\n",
    "        query_engine=lyft_2022_engine,\n",
    "        metadata=ToolMetadata(\n",
    "            name=\"lyft_2022_10k_form\",\n",
    "            description=\"Annual report of Lyft's financial activities in 2022\",\n",
    "        ),\n",
    "    ),\n",
    "]"
   ]
  },
  {
   "cell_type": "markdown",
   "metadata": {
    "id": "wlzh_39lBU8T"
   },
   "source": [
    "\n",
    "\n",
    "- 이제 agent를 생성시켜줄 차례\n",
    "- agent가 스탭바이스탭으로 쿼리를 더 심플한 구조로 변환(트랜스폼)해서 자료를 찾은 다음, 모아서 원래의 복잡한 쿼리에 대한 답안으로 도출시킴"
   ]
  },
  {
   "cell_type": "code",
   "execution_count": 11,
   "metadata": {
    "colab": {
     "base_uri": "https://localhost:8080/"
    },
    "executionInfo": {
     "elapsed": 8987,
     "status": "ok",
     "timestamp": 1728734447966,
     "user": {
      "displayName": "한두솔",
      "userId": "14744311692633150263"
     },
     "user_tz": -540
    },
    "id": "zeb7QGjSBVpc",
    "outputId": "d39252cb-fe1d-4189-8d00-c6887ff8be36"
   },
   "outputs": [
    {
     "name": "stdout",
     "output_type": "stream",
     "text": [
      "> Running step bbc721b7-429a-4f88-b4d4-18d9d74c0c0e. Step input: What are the risk factors in 2022?\n",
      "\u001b[1;3;38;5;200mThought: The current language of the user is: English. I need to use a tool to help me answer the question.\n",
      "Action: lyft_2022_10k_form\n",
      "Action Input: {'input': 'What are the risk factors in 2022?'}\n",
      "\u001b[0m\u001b[1;3;34mObservation: The risk factors in 2022 include a variety of general economic and operational challenges. General economic factors encompass the impact of the COVID-19 pandemic, macroeconomic conditions, natural disasters, economic downturns, public health crises, and political crises. Operational factors involve risks related to limited operating history, financial performance and profitability, competition, unpredictability of results, the ability to attract and retain drivers and riders, insurance coverage adequacy, reputation and brand management, illegal activities on the platform, background check accuracy, pricing practices, growth and quality of Light Vehicles, management of growth, development of autonomous vehicle technology, security and privacy breaches, reliance on third parties, operation of rental programs, and the management of new offerings and complexities associated with expansion. Additionally, natural disasters and geopolitical events could disrupt operations and affect supply and demand dynamics.\n",
      "\u001b[0m> Running step f7c3267a-f48b-47fd-93af-c19096b72610. Step input: None\n",
      "\u001b[1;3;38;5;200mThought: I can answer without using any more tools. I'll use the user's language to answer.\n",
      "Answer: The risk factors for Lyft in 2022 include various economic and operational challenges. Economic factors involve the impact of the COVID-19 pandemic, macroeconomic conditions, natural disasters, economic downturns, public health crises, and political crises. Operational risks include limited operating history, financial performance and profitability, competition, unpredictability of results, the ability to attract and retain drivers and riders, adequacy of insurance coverage, reputation and brand management, illegal activities on the platform, accuracy of background checks, pricing practices, growth and quality of Light Vehicles, management of growth, development of autonomous vehicle technology, security and privacy breaches, reliance on third parties, operation of rental programs, and managing new offerings and complexities associated with expansion. Additionally, natural disasters and geopolitical events could disrupt operations and affect supply and demand dynamics.\n",
      "\u001b[0mThe risk factors for Lyft in 2022 include various economic and operational challenges. Economic factors involve the impact of the COVID-19 pandemic, macroeconomic conditions, natural disasters, economic downturns, public health crises, and political crises. Operational risks include limited operating history, financial performance and profitability, competition, unpredictability of results, the ability to attract and retain drivers and riders, adequacy of insurance coverage, reputation and brand management, illegal activities on the platform, accuracy of background checks, pricing practices, growth and quality of Light Vehicles, management of growth, development of autonomous vehicle technology, security and privacy breaches, reliance on third parties, operation of rental programs, and managing new offerings and complexities associated with expansion. Additionally, natural disasters and geopolitical events could disrupt operations and affect supply and demand dynamics.\n"
     ]
    }
   ],
   "source": [
    "from llama_index.core.agent import ReActAgent\n",
    "\n",
    "#agent 생성\n",
    "lyft_agent = ReActAgent.from_tools(query_engine_tools, verbose=True)\n",
    "response = lyft_agent.chat(\"What are the risk factors in 2022?\")\n",
    "print(response)"
   ]
  },
  {
   "cell_type": "code",
   "execution_count": 12,
   "metadata": {
    "colab": {
     "base_uri": "https://localhost:8080/"
    },
    "executionInfo": {
     "elapsed": 8244,
     "status": "ok",
     "timestamp": 1728734607465,
     "user": {
      "displayName": "한두솔",
      "userId": "14744311692633150263"
     },
     "user_tz": -540
    },
    "id": "7t2qxUyABcQd",
    "outputId": "6223ecc3-23f7-44ae-e883-e92ddae8c7a2"
   },
   "outputs": [
    {
     "name": "stdout",
     "output_type": "stream",
     "text": [
      "> Running step db2d3763-35ca-4e62-a087-064cb01899ea. Step input: What is Lyft's profit in 2022 vs 2020? Generate only one step at a time. Use existing tools.\n",
      "\u001b[1;3;38;5;200mThought: The current language of the user is: English. I need to use a tool to help me answer the question about Lyft's profit in 2022 and 2020.\n",
      "Action: tool\n",
      "Action Input: {'input': \"Lyft's profit in 2022\"}\n",
      "\u001b[0m\u001b[1;3;34mObservation: Error: No such tool named `tool`.\n",
      "\u001b[0m> Running step 8394acff-5a1e-4a08-bf8e-638d41ce3db8. Step input: None\n",
      "\u001b[1;3;38;5;200mThought: I need to gather Lyft's financial information for both 2022 and 2020 to compare their profits. I will first check the 2022 financial report.\n",
      "Action: lyft_2022_10k_form\n",
      "Action Input: {'input': \"Lyft's profit in 2022\"}\n",
      "\u001b[0m\u001b[1;3;34mObservation: Lyft reported a net loss of $1,584,511,000 for the year ended December 31, 2022.\n",
      "\u001b[0m> Running step 29806436-e7a7-4318-ab76-f3c0dca88a8c. Step input: None\n",
      "\u001b[1;3;38;5;200mThought: I have the profit information for 2022. Now, I need to check the financial report for 2020 to find Lyft's profit for that year.\n",
      "Action: lyft_2020_10k_form\n",
      "Action Input: {'input': \"Lyft's profit in 2020\"}\n",
      "\u001b[0m\u001b[1;3;34mObservation: Lyft reported a net loss of $1,752,857,000 for the year ended December 31, 2020.\n",
      "\u001b[0m> Running step ccdb3f4e-de41-41b2-ad40-4a84a96d1438. Step input: None\n",
      "\u001b[1;3;38;5;200mThought: I can answer without using any more tools. I'll use the user's language to answer.\n",
      "Answer: In 2022, Lyft reported a net loss of $1,584,511,000, while in 2020, the net loss was $1,752,857,000. This indicates that Lyft's losses decreased from 2020 to 2022.\n",
      "\u001b[0mIn 2022, Lyft reported a net loss of $1,584,511,000, while in 2020, the net loss was $1,752,857,000. This indicates that Lyft's losses decreased from 2020 to 2022.\n"
     ]
    }
   ],
   "source": [
    "#질문 : What is Lyft's profit in 2022 vs 2020? Generate only one step at a time. Use existing tools.\n",
    "response = lyft_agent.chat(\"What is Lyft's profit in 2022 vs 2020? Generate only one step at a time. Use existing tools.\")\n",
    "print(response)"
   ]
  },
  {
   "cell_type": "code",
   "execution_count": 13,
   "metadata": {
    "colab": {
     "base_uri": "https://localhost:8080/"
    },
    "executionInfo": {
     "elapsed": 8468,
     "status": "ok",
     "timestamp": 1728734694554,
     "user": {
      "displayName": "한두솔",
      "userId": "14744311692633150263"
     },
     "user_tz": -540
    },
    "id": "BLtJ16GdBqxB",
    "outputId": "f06d2687-62d8-4ddd-86ce-7067976036cb"
   },
   "outputs": [
    {
     "name": "stdout",
     "output_type": "stream",
     "text": [
      "> Running step a37b3a3c-63db-4a4d-9443-85c1322adf61. Step input: Lyft의 2022년과 2020년의 경영상황이 어떻게 되?\n",
      "\u001b[1;3;38;5;200mThought: 사용자의 언어는 한국어입니다. 정보를 얻기 위해 도구를 사용해야 합니다.\n",
      "Action: tool\n",
      "Action Input: {'input': '경영상황'}\n",
      "\u001b[0m\u001b[1;3;34mObservation: Error: No such tool named `tool`.\n",
      "\u001b[0m> Running step 7a25fe4a-97bc-49f3-b31f-194f1422c9b5. Step input: None\n",
      "\u001b[1;3;38;5;200mThought: 사용자의 언어는 한국어입니다. Lyft의 2022년과 2020년의 경영상황에 대한 정보를 얻기 위해 도구를 사용해야 합니다.\n",
      "Action: lyft_2022_10k_form\n",
      "Action Input: {'input': '경영상황'}\n",
      "\u001b[0m\u001b[1;3;34mObservation: 경영상황은 COVID-19 팬데믹의 영향으로 인해 여행 수요의 변화와 경제 회복의 지연으로 어려움을 겪고 있습니다. 드라이버와 라이더의 수요 불균형, 원격 근무 정책, 비용 절감 조치 등이 경영에 부정적인 영향을 미치고 있으며, 이러한 상황은 기업의 재무 상태와 운영 결과에 악영향을 미칠 수 있습니다. 또한, 전반적인 거시경제 조건의 악화는 소비자 지출 감소와 운영 비용 증가로 이어져, 기업의 성장과 수익성에 추가적인 압박을 가할 수 있습니다.\n",
      "\u001b[0m> Running step bc898ffe-8475-40a2-87d9-ca90be92d7b7. Step input: None\n",
      "\u001b[1;3;38;5;200mThought: Lyft의 2022년 경영상황에 대한 정보를 얻었습니다. 이제 2020년의 경영상황에 대한 정보를 얻기 위해 도구를 사용해야 합니다.\n",
      "Action: lyft_2020_10k_form\n",
      "Action Input: {'input': '경영상황'}\n",
      "\u001b[0m\u001b[1;3;34mObservation: 경영상황은 여러 가지 요인에 의해 영향을 받을 수 있습니다. 특히, 미국 및 운영 중인 다른 시장의 경제적 조건이 악화될 경우, 소비자들의 재량 지출이 감소하고 ridesharing에 대한 수요가 줄어들 수 있습니다. 이러한 경제적 침체는 수익에 부정적인 영향을 미칠 수 있습니다. \n",
      "\n",
      "또한, 운영 역사와 비즈니스의 진화로 인해 미래 전망과 직면할 수 있는 위험을 평가하기 어려운 상황입니다. 수익 예측, 비용 관리, 신규 드라이버 및 라이더 유치, 법규 준수, COVID-19 팬데믹의 영향 관리 등 다양한 도전 과제가 존재합니다. \n",
      "\n",
      "이와 함께, COVID-19로 인한 수요 감소는 드라이버들이 렌탈 요금을 지불하는 능력에 영향을 미치고, 이에 따라 렌탈 프로그램 운영에도 부정적인 영향을 미칠 수 있습니다. 이러한 여러 요인들은 기업의 재무 상태와 운영 결과에 악영향을 미칠 수 있습니다.\n",
      "\u001b[0m> Running step e0847cba-7019-42a3-8672-636257ab2552. Step input: None\n",
      "\u001b[1;3;38;5;200mThought: 2022년과 2020년의 경영상황에 대한 정보를 모두 얻었습니다. 이제 이를 바탕으로 답변을 제공할 수 있습니다.\n",
      "Answer: Lyft의 2022년 경영상황은 COVID-19 팬데믹의 영향으로 여행 수요의 변화와 경제 회복의 지연으로 어려움을 겪고 있으며, 드라이버와 라이더의 수요 불균형, 원격 근무 정책, 비용 절감 조치 등이 부정적인 영향을 미치고 있습니다. 반면, 2020년 경영상황은 미국 및 운영 중인 다른 시장의 경제적 조건 악화로 인해 소비자들의 재량 지출 감소와 ridesharing 수요 감소가 우려되었으며, COVID-19로 인한 수요 감소가 드라이버들의 렌탈 요금 지불 능력에 영향을 미쳤습니다. 두 해 모두 COVID-19의 영향이 주요한 경영상황의 요인으로 작용했습니다.\n",
      "\u001b[0mLyft의 2022년 경영상황은 COVID-19 팬데믹의 영향으로 여행 수요의 변화와 경제 회복의 지연으로 어려움을 겪고 있으며, 드라이버와 라이더의 수요 불균형, 원격 근무 정책, 비용 절감 조치 등이 부정적인 영향을 미치고 있습니다. 반면, 2020년 경영상황은 미국 및 운영 중인 다른 시장의 경제적 조건 악화로 인해 소비자들의 재량 지출 감소와 ridesharing 수요 감소가 우려되었으며, COVID-19로 인한 수요 감소가 드라이버들의 렌탈 요금 지불 능력에 영향을 미쳤습니다. 두 해 모두 COVID-19의 영향이 주요한 경영상황의 요인으로 작용했습니다.\n"
     ]
    }
   ],
   "source": [
    "#질문: Lyft의 2022년과 2020년의 경영상황이 어떻게 되?\n",
    "response = lyft_agent.chat(\"Lyft의 2022년과 2020년의 경영상황이 어떻게 되?\")\n",
    "print(response)"
   ]
  },
  {
   "cell_type": "code",
   "execution_count": 14,
   "metadata": {
    "colab": {
     "base_uri": "https://localhost:8080/"
    },
    "executionInfo": {
     "elapsed": 10007,
     "status": "ok",
     "timestamp": 1728734745944,
     "user": {
      "displayName": "한두솔",
      "userId": "14744311692633150263"
     },
     "user_tz": -540
    },
    "id": "wOOcu2gSB5OU",
    "outputId": "e785a23c-16bc-47e8-807e-10667e7ef340"
   },
   "outputs": [
    {
     "name": "stdout",
     "output_type": "stream",
     "text": [
      "> Running step 9545b19a-edab-4d8d-a4a6-3d4726460093. Step input: What did Lyft do in R&D in 2022 versus 2021? Generate only one step at a time. Use existing tools.\n",
      "\u001b[1;3;38;5;200mThought: The current language of the user is: English. I need to use a tool to help me answer the question.\n",
      "Action: tool\n",
      "Action Input: {'input': 'R&D activities in 2022'}\n",
      "\u001b[0m\u001b[1;3;34mObservation: Error: No such tool named `tool`.\n",
      "\u001b[0m> Running step da885af8-bd19-4ffc-9a9c-2d7a40b2addb. Step input: None\n",
      "\u001b[1;3;38;5;200mThought: I need to gather information about Lyft's R&D activities in 2022 first. I will use the appropriate tool for the 2021 report to compare later.\n",
      "Action: lyft_2021_10k_form\n",
      "Action Input: {'input': 'R&D activities in 2021'}\n",
      "\u001b[0m\u001b[1;3;34mObservation: Research and development expenses in 2021 amounted to $911.9 million, showing a slight increase of $2.8 million compared to the previous year. This increase was primarily due to a rise of $51.6 million in stock-based compensation. However, it was partially offset by a $37.5 million decrease in personnel-related costs and a $4.6 million decrease in costs associated with autonomous vehicle research. Additionally, there was a $25.4 million benefit from a restructuring event in the second quarter of 2020, which did not recur in 2021.\n",
      "\u001b[0m> Running step 86279fa1-0f4b-497d-bf80-f58527134f69. Step input: None\n",
      "\u001b[1;3;38;5;200mThought: I now have the information about Lyft's R&D activities in 2021. Next, I need to gather information about R&D activities in 2022.\n",
      "Action: lyft_2022_10k_form\n",
      "Action Input: {'input': 'R&D activities in 2022'}\n",
      "\u001b[0m\u001b[1;3;34mObservation: Research and development expenses in 2022 totaled $856.8 million, reflecting a decrease of $55.2 million, or 6%, compared to 2021. This decline was primarily attributed to a $32.4 million reduction in personnel-related costs and a $26.2 million decrease in stock-based compensation, largely due to a reduced headcount following a transaction with Woven Planet in the third quarter of 2021. Additionally, there were lower Level 5 costs, including decreases of $7.9 million in web hosting fees and $7.5 million in autonomous vehicle research costs, along with a $9.1 million reduction in consulting and advisory costs. However, these decreases were partially offset by $29.0 million in restructuring costs related to a restructuring event in the fourth quarter of 2022, which included impairment costs, severance and benefits costs, and stock-based compensation.\n",
      "\u001b[0m> Running step df8d131b-620f-46a6-917b-7e991c0ec4d1. Step input: None\n",
      "\u001b[1;3;38;5;200mThought: I can now compare Lyft's R&D activities in 2022 versus 2021.\n",
      "Answer: In 2021, Lyft's research and development expenses amounted to $911.9 million, which was a slight increase from the previous year. In contrast, in 2022, R&D expenses totaled $856.8 million, reflecting a decrease of $55.2 million, or 6%. The decline in 2022 was primarily due to reductions in personnel-related costs and stock-based compensation, as well as lower costs associated with autonomous vehicle research.\n",
      "\u001b[0mIn 2021, Lyft's research and development expenses amounted to $911.9 million, which was a slight increase from the previous year. In contrast, in 2022, R&D expenses totaled $856.8 million, reflecting a decrease of $55.2 million, or 6%. The decline in 2022 was primarily due to reductions in personnel-related costs and stock-based compensation, as well as lower costs associated with autonomous vehicle research.\n"
     ]
    }
   ],
   "source": [
    "response = lyft_agent.chat(\"What did Lyft do in R&D in 2022 versus 2021? Generate only one step at a time. Use existing tools.\")\n",
    "print(response)"
   ]
  },
  {
   "cell_type": "code",
   "execution_count": 16,
   "metadata": {
    "colab": {
     "base_uri": "https://localhost:8080/"
    },
    "executionInfo": {
     "elapsed": 2210,
     "status": "ok",
     "timestamp": 1728734791246,
     "user": {
      "displayName": "한두솔",
      "userId": "14744311692633150263"
     },
     "user_tz": -540
    },
    "id": "NBxozG0HCfo6",
    "outputId": "128cadf9-ccb8-4b2b-fe43-596987816af3"
   },
   "outputs": [
    {
     "name": "stdout",
     "output_type": "stream",
     "text": [
      "> Running step bdf630b5-ba67-4642-9948-07b51cc4f09c. Step input: 2020년은?\n",
      "\u001b[1;3;38;5;200mThought: (Implicit) I can answer without any more tools!\n",
      "Answer: Lyft의 2020년 연구 및 개발(R&D) 비용은 약 1억 1,200만 달러였습니다. 이는 2021년과 비교했을 때 상대적으로 낮은 수치로, COVID-19 팬데믹의 영향으로 인해 R&D 투자에 대한 조정이 있었음을 나타냅니다. 2020년에는 팬데믹으로 인한 경제적 불확실성이 R&D 지출에 영향을 미쳤습니다.\n",
      "\u001b[0mLyft의 2020년 연구 및 개발(R&D) 비용은 약 1억 1,200만 달러였습니다. 이는 2021년과 비교했을 때 상대적으로 낮은 수치로, COVID-19 팬데믹의 영향으로 인해 R&D 투자에 대한 조정이 있었음을 나타냅니다. 2020년에는 팬데믹으로 인한 경제적 불확실성이 R&D 지출에 영향을 미쳤습니다.\n"
     ]
    }
   ],
   "source": [
    "response = lyft_agent.chat(\"2020년은?\")\n",
    "print(response)"
   ]
  },
  {
   "cell_type": "markdown",
   "metadata": {
    "id": "BcNRHJ0FWMvI"
   },
   "source": [
    "# DO IT YOURSELF\n",
    "- korean_webtext 문서를 활용해서 문서별 queryengine 정의\n",
    "- react agent가 담당 쿼리엔진을 잘 찾을 수 있도록 llm 활용하여 metadata generation 해보기\n",
    "- 이후 테스트 해보면서 메타데이터 생성 프롬프트 수정해보기"
   ]
  },
  {
   "cell_type": "code",
   "execution_count": 17,
   "metadata": {
    "executionInfo": {
     "elapsed": 290,
     "status": "ok",
     "timestamp": 1728734872514,
     "user": {
      "displayName": "한두솔",
      "userId": "14744311692633150263"
     },
     "user_tz": -540
    },
    "id": "Xd6zbSieCzr-"
   },
   "outputs": [],
   "source": [
    "# 파일 로드\n",
    "import pandas as pd\n",
    "data = pd.read_csv('./korean_webtext.csv').iloc[:,1:]\n",
    "\n"
   ]
  },
  {
   "cell_type": "code",
   "execution_count": 18,
   "metadata": {
    "executionInfo": {
     "elapsed": 280,
     "status": "ok",
     "timestamp": 1728734875746,
     "user": {
      "displayName": "한두솔",
      "userId": "14744311692633150263"
     },
     "user_tz": -540
    },
    "id": "BojcB4vUCDSs"
   },
   "outputs": [],
   "source": [
    "# 메타데이터 생성용 llm\n",
    "llm = OpenAI(model=\"gpt-4o-mini\")"
   ]
  },
  {
   "cell_type": "code",
   "execution_count": 19,
   "metadata": {
    "colab": {
     "base_uri": "https://localhost:8080/",
     "height": 676
    },
    "executionInfo": {
     "elapsed": 385,
     "status": "ok",
     "timestamp": 1728734938506,
     "user": {
      "displayName": "한두솔",
      "userId": "14744311692633150263"
     },
     "user_tz": -540
    },
    "id": "g01aMZ1vobSa",
    "outputId": "1e288cd0-e6d8-494b-ba14-2b2dee15aabe"
   },
   "outputs": [
    {
     "data": {
      "text/html": [
       "<div>\n",
       "<style scoped>\n",
       "    .dataframe tbody tr th:only-of-type {\n",
       "        vertical-align: middle;\n",
       "    }\n",
       "\n",
       "    .dataframe tbody tr th {\n",
       "        vertical-align: top;\n",
       "    }\n",
       "\n",
       "    .dataframe thead th {\n",
       "        text-align: right;\n",
       "    }\n",
       "</style>\n",
       "<table border=\"1\" class=\"dataframe\">\n",
       "  <thead>\n",
       "    <tr style=\"text-align: right;\">\n",
       "      <th></th>\n",
       "      <th>text</th>\n",
       "      <th>source</th>\n",
       "      <th>token_count</th>\n",
       "      <th>__index_level_0__</th>\n",
       "    </tr>\n",
       "  </thead>\n",
       "  <tbody>\n",
       "    <tr>\n",
       "      <th>0</th>\n",
       "      <td>사이트의 판매량에 기반하여 판매량 추이를 반영한 인터파크 도서에서의 독립적인 판매 ...</td>\n",
       "      <td>oscar2201</td>\n",
       "      <td>3348</td>\n",
       "      <td>0</td>\n",
       "    </tr>\n",
       "    <tr>\n",
       "      <th>1</th>\n",
       "      <td>“아~아~잊으랴 어찌 우리 이날을 조국의 원수들이 짓밟아 오던 날을~”6·25의 노...</td>\n",
       "      <td>oscar2201</td>\n",
       "      <td>1427</td>\n",
       "      <td>1</td>\n",
       "    </tr>\n",
       "    <tr>\n",
       "      <th>2</th>\n",
       "      <td>일러전쟁의 승패를 가른 쓰시마 해전은 세계 최강으로 평가 받는 발틱함대를 괴멸시켰다...</td>\n",
       "      <td>oscar2201</td>\n",
       "      <td>2458</td>\n",
       "      <td>2</td>\n",
       "    </tr>\n",
       "    <tr>\n",
       "      <th>3</th>\n",
       "      <td>재테크 채널 유튜버이자, 「빚부터 갚아라」, 「원트재무설계 소원을 말해봐」 저자인 ...</td>\n",
       "      <td>oscar2201</td>\n",
       "      <td>2838</td>\n",
       "      <td>3</td>\n",
       "    </tr>\n",
       "    <tr>\n",
       "      <th>4</th>\n",
       "      <td>상급자의 범죄와 비리, 부패를 하급자에게 돌리는 것으로 따지면 타의추종을 불허하는 ...</td>\n",
       "      <td>oscar2201</td>\n",
       "      <td>1628</td>\n",
       "      <td>4</td>\n",
       "    </tr>\n",
       "    <tr>\n",
       "      <th>5</th>\n",
       "      <td>최근 언론보도에 의하면 이재현 CJ그룹 회장이 지난해 말 두 자녀에게 증여하였던 주...</td>\n",
       "      <td>oscar2201</td>\n",
       "      <td>1366</td>\n",
       "      <td>5</td>\n",
       "    </tr>\n",
       "    <tr>\n",
       "      <th>6</th>\n",
       "      <td>나는 노무현의 시대를 살지 않았다. 그러니까, 나는 이 땅의 생명체로 살아있긴 했지...</td>\n",
       "      <td>oscar2201</td>\n",
       "      <td>2017</td>\n",
       "      <td>6</td>\n",
       "    </tr>\n",
       "    <tr>\n",
       "      <th>7</th>\n",
       "      <td>CBRE가 21일 발표한 ‘2021년 2분기 국내 상업용 부동산 시장 보고서’에 따...</td>\n",
       "      <td>oscar2201</td>\n",
       "      <td>1421</td>\n",
       "      <td>7</td>\n",
       "    </tr>\n",
       "    <tr>\n",
       "      <th>8</th>\n",
       "      <td>안녕하세요. 한화솔루션입니다. 지난주, 슬기로운 솔루션 직장생활 2탄에 이어 이번엔...</td>\n",
       "      <td>oscar2201</td>\n",
       "      <td>2143</td>\n",
       "      <td>8</td>\n",
       "    </tr>\n",
       "    <tr>\n",
       "      <th>9</th>\n",
       "      <td>캐나다는 3 년 연속 지구상에서 가장 주목할만한 국가로 선포되었습니다. 일반 타이틀...</td>\n",
       "      <td>oscar2201</td>\n",
       "      <td>1104</td>\n",
       "      <td>9</td>\n",
       "    </tr>\n",
       "    <tr>\n",
       "      <th>10</th>\n",
       "      <td>민선6기 광주시장에 시민활동가 출신이 당선된 이후 시민과 소통하고 시민의 의견을 존...</td>\n",
       "      <td>oscar2201</td>\n",
       "      <td>3104</td>\n",
       "      <td>10</td>\n",
       "    </tr>\n",
       "    <tr>\n",
       "      <th>11</th>\n",
       "      <td>얼마 전 소개해 드린 레고 부스트 17101 기억하시나요? 레고를 통해 만드는 재미...</td>\n",
       "      <td>oscar2201</td>\n",
       "      <td>1627</td>\n",
       "      <td>11</td>\n",
       "    </tr>\n",
       "    <tr>\n",
       "      <th>12</th>\n",
       "      <td>대한민국 근대 도시사는 신도시 역사라 불리울 정도로 우리는 다양한 도시건설 노하우를...</td>\n",
       "      <td>oscar2201</td>\n",
       "      <td>1871</td>\n",
       "      <td>12</td>\n",
       "    </tr>\n",
       "    <tr>\n",
       "      <th>13</th>\n",
       "      <td>피고는 원고 최○○에게 37,474,000원, 원고 박○○에게 33,196,000원...</td>\n",
       "      <td>oscar2201</td>\n",
       "      <td>6648</td>\n",
       "      <td>13</td>\n",
       "    </tr>\n",
       "    <tr>\n",
       "      <th>14</th>\n",
       "      <td>디지털 기술로 산업과 사회 혁신을 추구하는 4차 산업혁명 시대가 도래했다. 디자인 ...</td>\n",
       "      <td>oscar2201</td>\n",
       "      <td>1369</td>\n",
       "      <td>14</td>\n",
       "    </tr>\n",
       "    <tr>\n",
       "      <th>15</th>\n",
       "      <td>법무법인 엘케이비앤파트너스(엘케이비)는 코로나19 시대 의뢰인과 함께하는 전문 법률...</td>\n",
       "      <td>oscar2201</td>\n",
       "      <td>3361</td>\n",
       "      <td>15</td>\n",
       "    </tr>\n",
       "    <tr>\n",
       "      <th>16</th>\n",
       "      <td>익숙하지 않은 것이 주는 낯설고 설레는 경험, 그것을 통해 얻는 영감은 여행을 하는...</td>\n",
       "      <td>oscar2201</td>\n",
       "      <td>1374</td>\n",
       "      <td>16</td>\n",
       "    </tr>\n",
       "    <tr>\n",
       "      <th>17</th>\n",
       "      <td>어제 오후 비가 오심을 의식해 자연의 맑은 비를 흠씬 맞춰 줄 요량으로 서재로부터 ...</td>\n",
       "      <td>oscar2201</td>\n",
       "      <td>1735</td>\n",
       "      <td>17</td>\n",
       "    </tr>\n",
       "    <tr>\n",
       "      <th>18</th>\n",
       "      <td>한국한의학연구원의 유튜브 채널에 최근 사상체질에 대한 김종열 한국한의학연구원장의 강...</td>\n",
       "      <td>oscar2201</td>\n",
       "      <td>1430</td>\n",
       "      <td>18</td>\n",
       "    </tr>\n",
       "    <tr>\n",
       "      <th>19</th>\n",
       "      <td>낙동강에 세워진 8개의 댐(보) 중 5개의 보에서 물이 샙니다. 상주댐에서 물이 새...</td>\n",
       "      <td>oscar2201</td>\n",
       "      <td>1437</td>\n",
       "      <td>19</td>\n",
       "    </tr>\n",
       "  </tbody>\n",
       "</table>\n",
       "</div>"
      ],
      "text/plain": [
       "                                                 text     source  token_count  \\\n",
       "0   사이트의 판매량에 기반하여 판매량 추이를 반영한 인터파크 도서에서의 독립적인 판매 ...  oscar2201         3348   \n",
       "1   “아~아~잊으랴 어찌 우리 이날을 조국의 원수들이 짓밟아 오던 날을~”6·25의 노...  oscar2201         1427   \n",
       "2   일러전쟁의 승패를 가른 쓰시마 해전은 세계 최강으로 평가 받는 발틱함대를 괴멸시켰다...  oscar2201         2458   \n",
       "3   재테크 채널 유튜버이자, 「빚부터 갚아라」, 「원트재무설계 소원을 말해봐」 저자인 ...  oscar2201         2838   \n",
       "4   상급자의 범죄와 비리, 부패를 하급자에게 돌리는 것으로 따지면 타의추종을 불허하는 ...  oscar2201         1628   \n",
       "5   최근 언론보도에 의하면 이재현 CJ그룹 회장이 지난해 말 두 자녀에게 증여하였던 주...  oscar2201         1366   \n",
       "6   나는 노무현의 시대를 살지 않았다. 그러니까, 나는 이 땅의 생명체로 살아있긴 했지...  oscar2201         2017   \n",
       "7   CBRE가 21일 발표한 ‘2021년 2분기 국내 상업용 부동산 시장 보고서’에 따...  oscar2201         1421   \n",
       "8   안녕하세요. 한화솔루션입니다. 지난주, 슬기로운 솔루션 직장생활 2탄에 이어 이번엔...  oscar2201         2143   \n",
       "9   캐나다는 3 년 연속 지구상에서 가장 주목할만한 국가로 선포되었습니다. 일반 타이틀...  oscar2201         1104   \n",
       "10  민선6기 광주시장에 시민활동가 출신이 당선된 이후 시민과 소통하고 시민의 의견을 존...  oscar2201         3104   \n",
       "11  얼마 전 소개해 드린 레고 부스트 17101 기억하시나요? 레고를 통해 만드는 재미...  oscar2201         1627   \n",
       "12  대한민국 근대 도시사는 신도시 역사라 불리울 정도로 우리는 다양한 도시건설 노하우를...  oscar2201         1871   \n",
       "13  피고는 원고 최○○에게 37,474,000원, 원고 박○○에게 33,196,000원...  oscar2201         6648   \n",
       "14  디지털 기술로 산업과 사회 혁신을 추구하는 4차 산업혁명 시대가 도래했다. 디자인 ...  oscar2201         1369   \n",
       "15  법무법인 엘케이비앤파트너스(엘케이비)는 코로나19 시대 의뢰인과 함께하는 전문 법률...  oscar2201         3361   \n",
       "16  익숙하지 않은 것이 주는 낯설고 설레는 경험, 그것을 통해 얻는 영감은 여행을 하는...  oscar2201         1374   \n",
       "17  어제 오후 비가 오심을 의식해 자연의 맑은 비를 흠씬 맞춰 줄 요량으로 서재로부터 ...  oscar2201         1735   \n",
       "18  한국한의학연구원의 유튜브 채널에 최근 사상체질에 대한 김종열 한국한의학연구원장의 강...  oscar2201         1430   \n",
       "19  낙동강에 세워진 8개의 댐(보) 중 5개의 보에서 물이 샙니다. 상주댐에서 물이 새...  oscar2201         1437   \n",
       "\n",
       "    __index_level_0__  \n",
       "0                   0  \n",
       "1                   1  \n",
       "2                   2  \n",
       "3                   3  \n",
       "4                   4  \n",
       "5                   5  \n",
       "6                   6  \n",
       "7                   7  \n",
       "8                   8  \n",
       "9                   9  \n",
       "10                 10  \n",
       "11                 11  \n",
       "12                 12  \n",
       "13                 13  \n",
       "14                 14  \n",
       "15                 15  \n",
       "16                 16  \n",
       "17                 17  \n",
       "18                 18  \n",
       "19                 19  "
      ]
     },
     "execution_count": 19,
     "metadata": {},
     "output_type": "execute_result"
    }
   ],
   "source": [
    "data"
   ]
  },
  {
   "cell_type": "code",
   "execution_count": 20,
   "metadata": {
    "executionInfo": {
     "elapsed": 35188,
     "status": "ok",
     "timestamp": 1728735122626,
     "user": {
      "displayName": "한두솔",
      "userId": "14744311692633150263"
     },
     "user_tz": -540
    },
    "id": "ReOarWqgBf1y"
   },
   "outputs": [],
   "source": [
    "data['topic'] = data['text'].apply(lambda x: llm.complete(\n",
    "    f\"text의 내용을 분석하고 이 문서에서 사용자가 물어볼만한 대표키워드들을 추출해줘. 다른 글자 없이 키워드들만 return해줘.text:{x} 키워드:\"))"
   ]
  },
  {
   "cell_type": "code",
   "execution_count": 21,
   "metadata": {
    "colab": {
     "base_uri": "https://localhost:8080/",
     "height": 676
    },
    "executionInfo": {
     "elapsed": 384,
     "status": "ok",
     "timestamp": 1728735139918,
     "user": {
      "displayName": "한두솔",
      "userId": "14744311692633150263"
     },
     "user_tz": -540
    },
    "id": "O0rKJInABPcm",
    "outputId": "f37cd407-ebb6-419a-90ba-e8ab863f5206"
   },
   "outputs": [
    {
     "data": {
      "text/html": [
       "<div>\n",
       "<style scoped>\n",
       "    .dataframe tbody tr th:only-of-type {\n",
       "        vertical-align: middle;\n",
       "    }\n",
       "\n",
       "    .dataframe tbody tr th {\n",
       "        vertical-align: top;\n",
       "    }\n",
       "\n",
       "    .dataframe thead th {\n",
       "        text-align: right;\n",
       "    }\n",
       "</style>\n",
       "<table border=\"1\" class=\"dataframe\">\n",
       "  <thead>\n",
       "    <tr style=\"text-align: right;\">\n",
       "      <th></th>\n",
       "      <th>text</th>\n",
       "      <th>topic</th>\n",
       "    </tr>\n",
       "  </thead>\n",
       "  <tbody>\n",
       "    <tr>\n",
       "      <th>0</th>\n",
       "      <td>사이트의 판매량에 기반하여 판매량 추이를 반영한 인터파크 도서에서의 독립적인 판매 ...</td>\n",
       "      <td>판매량, 인터파크, 독립적인 판매 지수, 앨런 홀링허스트, 수영장 도서관, 동성애,...</td>\n",
       "    </tr>\n",
       "    <tr>\n",
       "      <th>1</th>\n",
       "      <td>“아~아~잊으랴 어찌 우리 이날을 조국의 원수들이 짓밟아 오던 날을~”6·25의 노...</td>\n",
       "      <td>6·25 전쟁, 1950년, 인명피해, 국민대회, 대구집회, 용산 군인교회, 집회,...</td>\n",
       "    </tr>\n",
       "    <tr>\n",
       "      <th>2</th>\n",
       "      <td>일러전쟁의 승패를 가른 쓰시마 해전은 세계 최강으로 평가 받는 발틱함대를 괴멸시켰다...</td>\n",
       "      <td>일러전쟁, 쓰시마 해전, 발틱함대, 도고 헤이아치로, 마카로프 제독, 일본 해군, ...</td>\n",
       "    </tr>\n",
       "    <tr>\n",
       "      <th>3</th>\n",
       "      <td>재테크 채널 유튜버이자, 「빚부터 갚아라」, 「원트재무설계 소원을 말해봐」 저자인 ...</td>\n",
       "      <td>재테크, 통장 관리, 월급, 저축, 투자, 비상예비자금, 예비비, 생활비, 재테크 ...</td>\n",
       "    </tr>\n",
       "    <tr>\n",
       "      <th>4</th>\n",
       "      <td>상급자의 범죄와 비리, 부패를 하급자에게 돌리는 것으로 따지면 타의추종을 불허하는 ...</td>\n",
       "      <td>국방부, 상급자, 하급자, 성범죄, 부패, 유신시대, 성욕, 계획, 훈련, 병사, ...</td>\n",
       "    </tr>\n",
       "    <tr>\n",
       "      <th>5</th>\n",
       "      <td>최근 언론보도에 의하면 이재현 CJ그룹 회장이 지난해 말 두 자녀에게 증여하였던 주...</td>\n",
       "      <td>이재현, CJ그룹, 증여, 재증여, 증여세, 절세, 주식, 경제환경, 기업승계, 자...</td>\n",
       "    </tr>\n",
       "    <tr>\n",
       "      <th>6</th>\n",
       "      <td>나는 노무현의 시대를 살지 않았다. 그러니까, 나는 이 땅의 생명체로 살아있긴 했지...</td>\n",
       "      <td>노무현, 시대, 정치, 독재정권, 서거, 굴욕, 신자유주의, 한나 아렌트, 소년이 ...</td>\n",
       "    </tr>\n",
       "    <tr>\n",
       "      <th>7</th>\n",
       "      <td>CBRE가 21일 발표한 ‘2021년 2분기 국내 상업용 부동산 시장 보고서’에 따...</td>\n",
       "      <td>상업용 부동산, 투자 시장, 임동수, 물류 투자, 오피스 시장, 공실률, 리테일 시...</td>\n",
       "    </tr>\n",
       "    <tr>\n",
       "      <th>8</th>\n",
       "      <td>안녕하세요. 한화솔루션입니다. 지난주, 슬기로운 솔루션 직장생활 2탄에 이어 이번엔...</td>\n",
       "      <td>한화솔루션, 조아라 대리, 직장생활, 워라밸, 기술영업, 경영혁신팀, 공시업무, 스...</td>\n",
       "    </tr>\n",
       "    <tr>\n",
       "      <th>9</th>\n",
       "      <td>캐나다는 3 년 연속 지구상에서 가장 주목할만한 국가로 선포되었습니다. 일반 타이틀...</td>\n",
       "      <td>캐나다, 유학, 교육 시스템, 국제 학생, 대학, 다문화 사회, 생활비, 입학, 영...</td>\n",
       "    </tr>\n",
       "    <tr>\n",
       "      <th>10</th>\n",
       "      <td>민선6기 광주시장에 시민활동가 출신이 당선된 이후 시민과 소통하고 시민의 의견을 존...</td>\n",
       "      <td>민선6기, 광주시장, 시민활동가, 윤장현, 시민소통, 민주적 커뮤니케이션, 광주전남...</td>\n",
       "    </tr>\n",
       "    <tr>\n",
       "      <th>11</th>\n",
       "      <td>얼마 전 소개해 드린 레고 부스트 17101 기억하시나요? 레고를 통해 만드는 재미...</td>\n",
       "      <td>레고 부스트, 코딩 교육, 고양이 프랭키, 움직이는 로봇, 5-in-1 제품, 부품...</td>\n",
       "    </tr>\n",
       "    <tr>\n",
       "      <th>12</th>\n",
       "      <td>대한민국 근대 도시사는 신도시 역사라 불리울 정도로 우리는 다양한 도시건설 노하우를...</td>\n",
       "      <td>신도시, 대한민국, 도시사, 개발사, 베트남, 로컬파트너, 인허가, 보상, 주택시장...</td>\n",
       "    </tr>\n",
       "    <tr>\n",
       "      <th>13</th>\n",
       "      <td>피고는 원고 최○○에게 37,474,000원, 원고 박○○에게 33,196,000원...</td>\n",
       "      <td>피고, 원고, 임금삭감제도, 취업규칙, 동의, 근로자, 법원, 민사소송법, 직급정년...</td>\n",
       "    </tr>\n",
       "    <tr>\n",
       "      <th>14</th>\n",
       "      <td>디지털 기술로 산업과 사회 혁신을 추구하는 4차 산업혁명 시대가 도래했다. 디자인 ...</td>\n",
       "      <td>4차 산업혁명, 디자인코리아 페스티벌 2019, 디지털 트랜스포메이션, DX, 디자...</td>\n",
       "    </tr>\n",
       "    <tr>\n",
       "      <th>15</th>\n",
       "      <td>법무법인 엘케이비앤파트너스(엘케이비)는 코로나19 시대 의뢰인과 함께하는 전문 법률...</td>\n",
       "      <td>법무법인 엘케이비앤파트너스, 코로나19, 전문 법률서비스, 송무 역량, 기업법무, ...</td>\n",
       "    </tr>\n",
       "    <tr>\n",
       "      <th>16</th>\n",
       "      <td>익숙하지 않은 것이 주는 낯설고 설레는 경험, 그것을 통해 얻는 영감은 여행을 하는...</td>\n",
       "      <td>여행, 제주 롯데 아트빌라스, 리조트, 건축가, 프리미엄, 숙소, 펜트하우스, 커뮤...</td>\n",
       "    </tr>\n",
       "    <tr>\n",
       "      <th>17</th>\n",
       "      <td>어제 오후 비가 오심을 의식해 자연의 맑은 비를 흠씬 맞춰 줄 요량으로 서재로부터 ...</td>\n",
       "      <td>비, 야생 산삼, 서재, 햇살, 성장, 적응력, 자연, 계절, 가을, 식생, 알밤,...</td>\n",
       "    </tr>\n",
       "    <tr>\n",
       "      <th>18</th>\n",
       "      <td>한국한의학연구원의 유튜브 채널에 최근 사상체질에 대한 김종열 한국한의학연구원장의 강...</td>\n",
       "      <td>사상체질, 한국한의학연구원, 김종열, 체질진단, 이제마, 태양인, 태음인, 소양인,...</td>\n",
       "    </tr>\n",
       "    <tr>\n",
       "      <th>19</th>\n",
       "      <td>낙동강에 세워진 8개의 댐(보) 중 5개의 보에서 물이 샙니다. 상주댐에서 물이 새...</td>\n",
       "      <td>낙동강, 댐, 물이 새는 현상, 상주댐, 구미댐, 강정고령댐, 합천창녕댐, 창녕함안...</td>\n",
       "    </tr>\n",
       "  </tbody>\n",
       "</table>\n",
       "</div>"
      ],
      "text/plain": [
       "                                                 text  \\\n",
       "0   사이트의 판매량에 기반하여 판매량 추이를 반영한 인터파크 도서에서의 독립적인 판매 ...   \n",
       "1   “아~아~잊으랴 어찌 우리 이날을 조국의 원수들이 짓밟아 오던 날을~”6·25의 노...   \n",
       "2   일러전쟁의 승패를 가른 쓰시마 해전은 세계 최강으로 평가 받는 발틱함대를 괴멸시켰다...   \n",
       "3   재테크 채널 유튜버이자, 「빚부터 갚아라」, 「원트재무설계 소원을 말해봐」 저자인 ...   \n",
       "4   상급자의 범죄와 비리, 부패를 하급자에게 돌리는 것으로 따지면 타의추종을 불허하는 ...   \n",
       "5   최근 언론보도에 의하면 이재현 CJ그룹 회장이 지난해 말 두 자녀에게 증여하였던 주...   \n",
       "6   나는 노무현의 시대를 살지 않았다. 그러니까, 나는 이 땅의 생명체로 살아있긴 했지...   \n",
       "7   CBRE가 21일 발표한 ‘2021년 2분기 국내 상업용 부동산 시장 보고서’에 따...   \n",
       "8   안녕하세요. 한화솔루션입니다. 지난주, 슬기로운 솔루션 직장생활 2탄에 이어 이번엔...   \n",
       "9   캐나다는 3 년 연속 지구상에서 가장 주목할만한 국가로 선포되었습니다. 일반 타이틀...   \n",
       "10  민선6기 광주시장에 시민활동가 출신이 당선된 이후 시민과 소통하고 시민의 의견을 존...   \n",
       "11  얼마 전 소개해 드린 레고 부스트 17101 기억하시나요? 레고를 통해 만드는 재미...   \n",
       "12  대한민국 근대 도시사는 신도시 역사라 불리울 정도로 우리는 다양한 도시건설 노하우를...   \n",
       "13  피고는 원고 최○○에게 37,474,000원, 원고 박○○에게 33,196,000원...   \n",
       "14  디지털 기술로 산업과 사회 혁신을 추구하는 4차 산업혁명 시대가 도래했다. 디자인 ...   \n",
       "15  법무법인 엘케이비앤파트너스(엘케이비)는 코로나19 시대 의뢰인과 함께하는 전문 법률...   \n",
       "16  익숙하지 않은 것이 주는 낯설고 설레는 경험, 그것을 통해 얻는 영감은 여행을 하는...   \n",
       "17  어제 오후 비가 오심을 의식해 자연의 맑은 비를 흠씬 맞춰 줄 요량으로 서재로부터 ...   \n",
       "18  한국한의학연구원의 유튜브 채널에 최근 사상체질에 대한 김종열 한국한의학연구원장의 강...   \n",
       "19  낙동강에 세워진 8개의 댐(보) 중 5개의 보에서 물이 샙니다. 상주댐에서 물이 새...   \n",
       "\n",
       "                                                topic  \n",
       "0   판매량, 인터파크, 독립적인 판매 지수, 앨런 홀링허스트, 수영장 도서관, 동성애,...  \n",
       "1   6·25 전쟁, 1950년, 인명피해, 국민대회, 대구집회, 용산 군인교회, 집회,...  \n",
       "2   일러전쟁, 쓰시마 해전, 발틱함대, 도고 헤이아치로, 마카로프 제독, 일본 해군, ...  \n",
       "3   재테크, 통장 관리, 월급, 저축, 투자, 비상예비자금, 예비비, 생활비, 재테크 ...  \n",
       "4   국방부, 상급자, 하급자, 성범죄, 부패, 유신시대, 성욕, 계획, 훈련, 병사, ...  \n",
       "5   이재현, CJ그룹, 증여, 재증여, 증여세, 절세, 주식, 경제환경, 기업승계, 자...  \n",
       "6   노무현, 시대, 정치, 독재정권, 서거, 굴욕, 신자유주의, 한나 아렌트, 소년이 ...  \n",
       "7   상업용 부동산, 투자 시장, 임동수, 물류 투자, 오피스 시장, 공실률, 리테일 시...  \n",
       "8   한화솔루션, 조아라 대리, 직장생활, 워라밸, 기술영업, 경영혁신팀, 공시업무, 스...  \n",
       "9   캐나다, 유학, 교육 시스템, 국제 학생, 대학, 다문화 사회, 생활비, 입학, 영...  \n",
       "10  민선6기, 광주시장, 시민활동가, 윤장현, 시민소통, 민주적 커뮤니케이션, 광주전남...  \n",
       "11  레고 부스트, 코딩 교육, 고양이 프랭키, 움직이는 로봇, 5-in-1 제품, 부품...  \n",
       "12  신도시, 대한민국, 도시사, 개발사, 베트남, 로컬파트너, 인허가, 보상, 주택시장...  \n",
       "13  피고, 원고, 임금삭감제도, 취업규칙, 동의, 근로자, 법원, 민사소송법, 직급정년...  \n",
       "14  4차 산업혁명, 디자인코리아 페스티벌 2019, 디지털 트랜스포메이션, DX, 디자...  \n",
       "15  법무법인 엘케이비앤파트너스, 코로나19, 전문 법률서비스, 송무 역량, 기업법무, ...  \n",
       "16  여행, 제주 롯데 아트빌라스, 리조트, 건축가, 프리미엄, 숙소, 펜트하우스, 커뮤...  \n",
       "17  비, 야생 산삼, 서재, 햇살, 성장, 적응력, 자연, 계절, 가을, 식생, 알밤,...  \n",
       "18  사상체질, 한국한의학연구원, 김종열, 체질진단, 이제마, 태양인, 태음인, 소양인,...  \n",
       "19  낙동강, 댐, 물이 새는 현상, 상주댐, 구미댐, 강정고령댐, 합천창녕댐, 창녕함안...  "
      ]
     },
     "execution_count": 21,
     "metadata": {},
     "output_type": "execute_result"
    }
   ],
   "source": [
    "data[['text','topic']]"
   ]
  },
  {
   "cell_type": "code",
   "execution_count": 22,
   "metadata": {
    "executionInfo": {
     "elapsed": 280,
     "status": "ok",
     "timestamp": 1728735178115,
     "user": {
      "displayName": "한두솔",
      "userId": "14744311692633150263"
     },
     "user_tz": -540
    },
    "id": "Ux_7ToNZA_4H"
   },
   "outputs": [],
   "source": [
    "# Document 오브젝트로 변환\n",
    "from llama_index.core import Document, VectorStoreIndex\n",
    "documents = []\n",
    "\n",
    "#Iterative하게 Document 만들기\n",
    "for i, row in data.iterrows():\n",
    "    documents.append(Document(\n",
    "        text=row['text'],\n",
    "        extra_info={'topic': row['topic'].text}\n",
    "    ))"
   ]
  },
  {
   "cell_type": "code",
   "execution_count": 23,
   "metadata": {
    "executionInfo": {
     "elapsed": 8462,
     "status": "ok",
     "timestamp": 1728735221270,
     "user": {
      "displayName": "한두솔",
      "userId": "14744311692633150263"
     },
     "user_tz": -540
    },
    "id": "qL1Gh9KJNOeo"
   },
   "outputs": [
    {
     "name": "stderr",
     "output_type": "stream",
     "text": [
      "/var/folders/1x/st3vh8xs6715dcgqc1gk2hhh0000gn/T/ipykernel_29452/3529196375.py:12: DeprecationWarning: Call to deprecated function (or staticmethod) extra_info. ('extra_info' is deprecated, use 'metadata' instead.) -- Deprecated since version 0.12.2.\n",
      "  description=f\"{doc.extra_info['topic']}와 관련된 내용이 있는 문서\")))\n"
     ]
    }
   ],
   "source": [
    "query_engine_tools = []\n",
    "i = 0\n",
    "for doc in documents:\n",
    "    i += 1\n",
    "    index = VectorStoreIndex.from_documents(documents=[doc])\n",
    "    engine = index.as_query_engine()\n",
    "    query_engine_tools.append(\n",
    "        QueryEngineTool(\n",
    "            query_engine=engine,\n",
    "            metadata=ToolMetadata(\n",
    "                name=f\"tool_{i}\",\n",
    "                description=f\"{doc.extra_info['topic']}와 관련된 내용이 있는 문서\")))\n"
   ]
  },
  {
   "cell_type": "code",
   "execution_count": 24,
   "metadata": {
    "colab": {
     "base_uri": "https://localhost:8080/"
    },
    "executionInfo": {
     "elapsed": 2,
     "status": "ok",
     "timestamp": 1728735237699,
     "user": {
      "displayName": "한두솔",
      "userId": "14744311692633150263"
     },
     "user_tz": -540
    },
    "id": "TNGnBbL2pjdG",
    "outputId": "ef577c6e-7ee6-4097-94ff-6270b8abc710"
   },
   "outputs": [
    {
     "data": {
      "text/plain": [
       "ToolMetadata(description='신도시, 대한민국, 도시사, 개발사, 베트남, 로컬파트너, 인허가, 보상, 주택시장, 포토폴리오, 미분양, 럭셔리 주거상품, 커뮤니티, 민관협동사업, 시장분석, 시행, 시공, 부동산 개발, 성공담, 문화, 제도, Patrick Geddes와 관련된 내용이 있는 문서', name='tool_13', fn_schema=<class 'llama_index.core.tools.types.DefaultToolFnSchema'>, return_direct=False)"
      ]
     },
     "execution_count": 24,
     "metadata": {},
     "output_type": "execute_result"
    }
   ],
   "source": [
    "query_engine_tools[12].metadata"
   ]
  },
  {
   "cell_type": "code",
   "execution_count": 25,
   "metadata": {
    "executionInfo": {
     "elapsed": 293,
     "status": "ok",
     "timestamp": 1728735275182,
     "user": {
      "displayName": "한두솔",
      "userId": "14744311692633150263"
     },
     "user_tz": -540
    },
    "id": "n7DpIAyjRLAs"
   },
   "outputs": [],
   "source": [
    "#ReActAgent 생성된 쿼리 엔진 툴스에 연결\n",
    "wiki_agent = ReActAgent.from_tools(query_engine_tools, verbose=True)\n"
   ]
  },
  {
   "cell_type": "markdown",
   "metadata": {
    "id": "RkxrPWXKZBO6"
   },
   "source": [
    "# 이제 아래 쿼리들에 대해 답안을 받아보시고, 결과가 잘 안나오면 위로 다시 돌아가서 메타데이터 생성 방식을 바꿔보세요!"
   ]
  },
  {
   "cell_type": "code",
   "execution_count": 26,
   "metadata": {
    "colab": {
     "base_uri": "https://localhost:8080/"
    },
    "executionInfo": {
     "elapsed": 8946,
     "status": "ok",
     "timestamp": 1728735312792,
     "user": {
      "displayName": "한두솔",
      "userId": "14744311692633150263"
     },
     "user_tz": -540
    },
    "id": "nhEFQZOWRNrS",
    "outputId": "1f53f13c-719c-4a61-ef93-f17ac2dbe9a4"
   },
   "outputs": [
    {
     "name": "stdout",
     "output_type": "stream",
     "text": [
      "> Running step 3f3a8e78-92dd-47e6-b736-a99a088c12c6. Step input: 분당과 같은 신도시가 해외에서도 성공할 수 없는 이유가 뭘까? Always consider one of the existing tools to answer the question.\n",
      "\u001b[1;3;38;5;200mThought: The current language of the user is: Korean. I need to use a tool to help me answer the question.\n",
      "Action: tool_13\n",
      "Action Input: {'input': '분당과 같은 신도시가 해외에서도 성공할 수 없는 이유'}\n",
      "\u001b[0m\u001b[1;3;34mObservation: 해외에서 분당과 같은 신도시가 성공하기 어려운 이유는 여러 가지가 있습니다. 첫째, 로컬파트너와의 협력이 부족하여 인허가 및 보상 과정에서 지연이 발생합니다. 각국의 인허가 절차는 상이하며, 특히 베트남과 같은 개발도상국에서는 정부 관계자와의 신뢰 구축이 필수적입니다. 둘째, 현지 주택시장의 현실과 전망을 면밀히 분석하지 않고, 시장이 원하는 상품을 공급하지 못하는 경우가 많습니다. 한국 건설사들이 시행과 시공을 통합하여 진행하는 구조는 시공 이익을 극대화하는 방향으로 흐르기 쉬워, 결과적으로 미분양 사태를 초래할 수 있습니다. 이러한 요소들이 결합되어 해외 신도시 개발이 성공하기 어려운 환경을 조성합니다.\n",
      "\u001b[0m> Running step 5399beb1-40d4-4f0f-9172-b2f2636ef92f. Step input: None\n",
      "\u001b[1;3;38;5;200mThought: I can answer without using any more tools. I'll use the user's language to answer.\n",
      "Answer: 분당과 같은 신도시가 해외에서 성공하기 어려운 이유는 여러 가지가 있습니다. 첫째, 로컬파트너와의 협력이 부족하여 인허가 및 보상 과정에서 지연이 발생합니다. 각국의 인허가 절차는 상이하며, 특히 개발도상국에서는 정부 관계자와의 신뢰 구축이 필수적입니다. 둘째, 현지 주택시장의 현실과 전망을 면밀히 분석하지 않고 시장이 원하는 상품을 공급하지 못하는 경우가 많습니다. 한국 건설사들이 시행과 시공을 통합하여 진행하는 구조는 시공 이익을 극대화하는 방향으로 흐르기 쉬워, 결과적으로 미분양 사태를 초래할 수 있습니다. 이러한 요소들이 결합되어 해외 신도시 개발이 성공하기 어려운 환경을 조성합니다.\n",
      "\u001b[0m분당과 같은 신도시가 해외에서 성공하기 어려운 이유는 여러 가지가 있습니다. 첫째, 로컬파트너와의 협력이 부족하여 인허가 및 보상 과정에서 지연이 발생합니다. 각국의 인허가 절차는 상이하며, 특히 개발도상국에서는 정부 관계자와의 신뢰 구축이 필수적입니다. 둘째, 현지 주택시장의 현실과 전망을 면밀히 분석하지 않고 시장이 원하는 상품을 공급하지 못하는 경우가 많습니다. 한국 건설사들이 시행과 시공을 통합하여 진행하는 구조는 시공 이익을 극대화하는 방향으로 흐르기 쉬워, 결과적으로 미분양 사태를 초래할 수 있습니다. 이러한 요소들이 결합되어 해외 신도시 개발이 성공하기 어려운 환경을 조성합니다.\n"
     ]
    }
   ],
   "source": [
    "response = wiki_agent.chat(\"분당과 같은 신도시가 해외에서도 성공할 수 없는 이유가 뭘까? Always consider one of the existing tools to answer the question.\")\n",
    "print(response)"
   ]
  },
  {
   "cell_type": "code",
   "execution_count": 27,
   "metadata": {
    "colab": {
     "base_uri": "https://localhost:8080/"
    },
    "executionInfo": {
     "elapsed": 8492,
     "status": "ok",
     "timestamp": 1728735379022,
     "user": {
      "displayName": "한두솔",
      "userId": "14744311692633150263"
     },
     "user_tz": -540
    },
    "id": "qYAZ1Z0HRRvF",
    "outputId": "37403d66-ce5b-445b-bd55-83af310119fc"
   },
   "outputs": [
    {
     "name": "stdout",
     "output_type": "stream",
     "text": [
      "> Running step ba0addaf-349e-4621-ae73-f2e319869598. Step input: 이번에는 캐나다가 주목받는 국가인 이유에 대해 알려줘. Always consider one of the existing tools to answer the question.\n",
      "\u001b[1;3;38;5;200mThought: The current language of the user is: Korean. I need to use a tool to help me answer the question.\n",
      "Action: tool_10\n",
      "Action Input: {'input': '캐나다, 유학, 교육 시스템, 국제 학생, 대학, 다문화 사회, 생활비, 입학, 영어, 프랑스어, 고등교육, Study in the USA, 유학 준비, 학비, 전공, 캠퍼스, 기숙사, 안전, 개방성, 관용.'}\n",
      "\u001b[0m\u001b[1;3;34mObservation: 캐나다는 약 96개의 대학을 보유하고 있으며, 세계 최고의 교육 시스템 중 하나로 평가받고 있습니다. 국제 학생들에게 다양한 교육 기회를 제공하며, 영어와 프랑스어가 공식 언어로 사용됩니다. 유학 준비 과정에서는 학비, 전공, 캠퍼스 생활, 기숙사 선택 등 여러 요소를 고려해야 합니다. 또한, 다문화 사회로서 다양한 커뮤니티와 안전한 환경을 제공하여 학생들이 편안하게 생활할 수 있도록 지원합니다.\n",
      "\u001b[0m> Running step 92423145-04d4-4050-a5fa-cc38fce020f2. Step input: None\n",
      "\u001b[1;3;38;5;200mThought: I can answer without using any more tools. I'll use the user's language to answer.\n",
      "Answer: 캐나다가 주목받는 이유는 여러 가지가 있습니다. 첫째, 캐나다는 세계 최고의 교육 시스템 중 하나로 평가받고 있으며, 약 96개의 대학이 있습니다. 둘째, 국제 학생들에게 다양한 교육 기회를 제공하고, 영어와 프랑스어가 공식 언어로 사용되어 다국적 학생들이 쉽게 적응할 수 있습니다. 셋째, 캐나다는 다문화 사회로서 다양한 커뮤니티와 안전한 환경을 제공하여 학생들이 편안하게 생활할 수 있도록 지원합니다. 이러한 요소들이 캐나다를 주목받는 국가로 만들고 있습니다.\n",
      "\u001b[0m캐나다가 주목받는 이유는 여러 가지가 있습니다. 첫째, 캐나다는 세계 최고의 교육 시스템 중 하나로 평가받고 있으며, 약 96개의 대학이 있습니다. 둘째, 국제 학생들에게 다양한 교육 기회를 제공하고, 영어와 프랑스어가 공식 언어로 사용되어 다국적 학생들이 쉽게 적응할 수 있습니다. 셋째, 캐나다는 다문화 사회로서 다양한 커뮤니티와 안전한 환경을 제공하여 학생들이 편안하게 생활할 수 있도록 지원합니다. 이러한 요소들이 캐나다를 주목받는 국가로 만들고 있습니다.\n"
     ]
    }
   ],
   "source": [
    "response = wiki_agent.chat(\"이번에는 캐나다가 주목받는 국가인 이유에 대해 알려줘. Always consider one of the existing tools to answer the question.\")\n",
    "print(response)"
   ]
  },
  {
   "cell_type": "code",
   "execution_count": 28,
   "metadata": {
    "colab": {
     "base_uri": "https://localhost:8080/"
    },
    "executionInfo": {
     "elapsed": 4787,
     "status": "ok",
     "timestamp": 1728735421092,
     "user": {
      "displayName": "한두솔",
      "userId": "14744311692633150263"
     },
     "user_tz": -540
    },
    "id": "E-1C_OELU2kZ",
    "outputId": "897bc2c5-61eb-4944-e8e3-b34f20612f37"
   },
   "outputs": [
    {
     "name": "stdout",
     "output_type": "stream",
     "text": [
      "> Running step 3979b9ae-24a0-4ab4-a208-b5ce0611237b. Step input: 한국과 일본의 유명한 해군 제독에 대해 알려줘. Always consider one of the existing tools to answer the question.\n",
      "\u001b[1;3;38;5;200mThought: The current language of the user is: Korean. I need to use a tool to help me answer the question.\n",
      "Action: tool_3\n",
      "Action Input: {'input': '한국과 일본의 유명한 해군 제독에 대해 알려줘.'}\n",
      "\u001b[0m\u001b[1;3;34mObservation: 한국과 일본의 유명한 해군 제독으로는 이순신 장군과 도고 헤이아치로가 있습니다. 이순신 장군은 조선시대의 해군 제독으로, 한산도 대첩 등에서의 전투로 유명하며, 일본의 침략에 맞서 싸운 인물입니다. 반면, 도고 헤이아치로는 일본 제국 해군의 제독으로, 일러전쟁 중 쓰시마 해전에서의 승리로 잘 알려져 있습니다. 두 인물은 각국의 해양 역사에서 중요한 역할을 한 인물들입니다.\n",
      "\u001b[0m> Running step 05bfb471-d4ba-4c93-a6ad-4bf3ceb69f41. Step input: None\n",
      "\u001b[1;3;38;5;200mThought: I can answer without using any more tools. I'll use the user's language to answer.\n",
      "Answer: 한국과 일본의 유명한 해군 제독으로는 이순신 장군과 도고 헤이아치로가 있습니다. 이순신 장군은 조선시대의 해군 제독으로, 한산도 대첩 등에서의 전투로 유명하며, 일본의 침략에 맞서 싸운 인물입니다. 반면, 도고 헤이아치로는 일본 제국 해군의 제독으로, 일러전쟁 중 쓰시마 해전에서의 승리로 잘 알려져 있습니다. 두 인물은 각국의 해양 역사에서 중요한 역할을 한 인물들입니다.\n",
      "\u001b[0m한국과 일본의 유명한 해군 제독으로는 이순신 장군과 도고 헤이아치로가 있습니다. 이순신 장군은 조선시대의 해군 제독으로, 한산도 대첩 등에서의 전투로 유명하며, 일본의 침략에 맞서 싸운 인물입니다. 반면, 도고 헤이아치로는 일본 제국 해군의 제독으로, 일러전쟁 중 쓰시마 해전에서의 승리로 잘 알려져 있습니다. 두 인물은 각국의 해양 역사에서 중요한 역할을 한 인물들입니다.\n"
     ]
    }
   ],
   "source": [
    "wiki_agent = ReActAgent.from_tools(query_engine_tools, verbose=True)\n",
    "response = wiki_agent.chat(\"한국과 일본의 유명한 해군 제독에 대해 알려줘. Always consider one of the existing tools to answer the question.\")\n",
    "print(response)"
   ]
  },
  {
   "cell_type": "code",
   "execution_count": 29,
   "metadata": {
    "colab": {
     "base_uri": "https://localhost:8080/"
    },
    "executionInfo": {
     "elapsed": 4710,
     "status": "ok",
     "timestamp": 1728735449097,
     "user": {
      "displayName": "한두솔",
      "userId": "14744311692633150263"
     },
     "user_tz": -540
    },
    "id": "QWPgCGYLVhiy",
    "outputId": "bcafcd0b-71b0-4e77-f586-c648c36e41f3"
   },
   "outputs": [
    {
     "name": "stdout",
     "output_type": "stream",
     "text": [
      "> Running step b2528bbb-2ed9-4f7f-9508-25d2b53cda6f. Step input: 프랭키가 누구한테 인기가 없을것 같아? Always consider one of the existing tools to answer the question.\n",
      "\u001b[1;3;38;5;200mThought: 현재 사용자의 질문은 \"프랭키\"라는 캐릭터에 대한 인기에 관한 것이며, 관련된 도구가 필요할 것 같다.\n",
      "Action: tool_12\n",
      "Action Input: {'input': '프랭키, 인기도, 캐릭터, 고양이, 움직이는 로봇, 아이들, 성취감, 창의력, 상상력'}\n",
      "\u001b[0m\u001b[1;3;34mObservation: 프랭키는 고양이 캐릭터로, 아이들에게 큰 인기를 끌고 있습니다. 이 움직이는 로봇은 아이들이 직접 코딩을 통해 다양한 동작을 구현할 수 있게 하여 성취감을 느끼게 해줍니다. 또한, 프랭키와의 교감 활동은 아이들의 창의력과 상상력을 키우는 데 도움을 줍니다. 아이들은 프랭키와 함께 놀면서 자연스럽게 코딩을 배우고, 감정 표현을 통해 더욱 풍부한 경험을 하게 됩니다.\n",
      "\u001b[0m> Running step 6de5ec87-5d10-4864-b1f6-6af956f16c8f. Step input: None\n",
      "\u001b[1;3;38;5;200mThought: 프랭키는 아이들에게 큰 인기를 끌고 있으며, 그와의 교감 활동이 아이들의 창의력과 상상력을 키우는 데 도움을 준다. 따라서 인기가 없을 것 같은 대상은 아이들이 아닐 것이다.\n",
      "Answer: 프랭키는 주로 아이들에게 인기가 많기 때문에, 인기가 없을 것 같은 대상은 성인이나 어린이와의 교감 활동에 관심이 적은 사람들일 수 있습니다.\n",
      "\u001b[0m프랭키는 주로 아이들에게 인기가 많기 때문에, 인기가 없을 것 같은 대상은 성인이나 어린이와의 교감 활동에 관심이 적은 사람들일 수 있습니다.\n"
     ]
    }
   ],
   "source": [
    "response = wiki_agent.chat(\"프랭키가 누구한테 인기가 없을것 같아? Always consider one of the existing tools to answer the question.\")\n",
    "print(response)"
   ]
  },
  {
   "cell_type": "code",
   "execution_count": 30,
   "metadata": {
    "colab": {
     "base_uri": "https://localhost:8080/"
    },
    "executionInfo": {
     "elapsed": 8143,
     "status": "ok",
     "timestamp": 1728735487624,
     "user": {
      "displayName": "한두솔",
      "userId": "14744311692633150263"
     },
     "user_tz": -540
    },
    "id": "9a5nLMluVx2J",
    "outputId": "86b26041-fb48-40ee-8600-9f0fac5b832e"
   },
   "outputs": [
    {
     "name": "stdout",
     "output_type": "stream",
     "text": [
      "> Running step 09e96dd9-580a-4926-b47a-ff6d14cbc7cd. Step input: 프랭키가 누구한테 인기가 있을것 같아? Always consider one of the existing tools to answer the question.\n",
      "\u001b[1;3;38;5;200mThought: The current language of the user is: Korean. I need to use a tool to help me answer the question.\n",
      "Action: tool_12\n",
      "Action Input: {'input': '프랭키, 고양이, 움직이는 로봇, 아이들, 창의력, 상상력, 성취감, 애완동물'}\n",
      "\u001b[0m\u001b[1;3;34mObservation: 프랭키는 아이들이 창의력과 상상력을 키울 수 있는 움직이는 로봇입니다. 이 고양이 로봇은 다양한 감정 표현과 움직임을 통해 아이들에게 성취감을 제공합니다. 아이들은 프랭키와 함께 놀면서 애완동물과의 교감을 경험할 수 있으며, 코딩을 통해 직접 움직임을 조정하는 재미를 느낄 수 있습니다. 이러한 활동은 아이들이 즐겁게 배우고, 상상력을 발휘할 수 있는 기회를 제공합니다.\n",
      "\u001b[0m> Running step 0728da6c-6211-40c8-b6ea-373e82160254. Step input: None\n",
      "\u001b[1;3;38;5;200mThought: I can answer without using any more tools. I'll use the user's language to answer.\n",
      "Answer: 프랭키는 주로 아이들에게 인기가 있을 것 같습니다. 아이들은 프랭키와 함께 놀면서 창의력과 상상력을 발휘할 수 있고, 다양한 감정 표현과 움직임을 통해 성취감을 느낄 수 있습니다. 또한, 코딩을 통해 직접 움직임을 조정하는 재미도 있어 아이들에게 매력적입니다.\n",
      "\u001b[0m프랭키는 주로 아이들에게 인기가 있을 것 같습니다. 아이들은 프랭키와 함께 놀면서 창의력과 상상력을 발휘할 수 있고, 다양한 감정 표현과 움직임을 통해 성취감을 느낄 수 있습니다. 또한, 코딩을 통해 직접 움직임을 조정하는 재미도 있어 아이들에게 매력적입니다.\n"
     ]
    }
   ],
   "source": [
    "response = wiki_agent.chat(\"프랭키가 누구한테 인기가 있을것 같아? Always consider one of the existing tools to answer the question.\")\n",
    "print(response)"
   ]
  },
  {
   "cell_type": "code",
   "execution_count": 31,
   "metadata": {
    "colab": {
     "base_uri": "https://localhost:8080/"
    },
    "executionInfo": {
     "elapsed": 8637,
     "status": "ok",
     "timestamp": 1728735474673,
     "user": {
      "displayName": "한두솔",
      "userId": "14744311692633150263"
     },
     "user_tz": -540
    },
    "id": "E0PPcM_KV4It",
    "outputId": "d944a17c-43d5-43cf-8f90-c4639f334eda"
   },
   "outputs": [
    {
     "name": "stdout",
     "output_type": "stream",
     "text": [
      "> Running step 20147fd1-4878-449b-9133-f98fcf0ec883. Step input: 동양권 국가와 서양권 국가간의 전쟁에 대해 알려줘. Always consider one of the existing tools to answer the question.\n",
      "\u001b[1;3;38;5;200mThought: The current language of the user is: Korean. I need to use a tool to help me answer the question.\n",
      "Action: tool_3\n",
      "Action Input: {'input': '동양권 국가와 서양권 국가간의 전쟁'}\n",
      "\u001b[0m\u001b[1;3;34mObservation: 동양권 국가와 서양권 국가 간의 전쟁은 역사적으로 여러 차례 발생했습니다. 이러한 전쟁들은 종종 문화적, 경제적, 정치적 갈등에서 비롯되었으며, 각국의 군사력과 전략이 중요한 역할을 했습니다. 예를 들어, 일러전쟁과 같은 사건은 동양과 서양 간의 군사적 충돌을 보여주는 사례로, 당시 일본 해군의 발전과 서양 열강과의 관계를 반영합니다. 이러한 전쟁들은 각국의 국민성과 문화적 배경에 따라 다양한 양상으로 전개되었으며, 전후에는 국가 간의 교류와 협력의 필요성이 강조되기도 했습니다.\n",
      "\u001b[0m> Running step ae33faa7-f6b8-416d-973d-e8b484bc2988. Step input: None\n",
      "\u001b[1;3;38;5;200mThought: I can answer without using any more tools. I'll use the user's language to answer.\n",
      "Answer: 동양권 국가와 서양권 국가 간의 전쟁은 역사적으로 여러 차례 발생했습니다. 이러한 전쟁들은 종종 문화적, 경제적, 정치적 갈등에서 비롯되었으며, 각국의 군사력과 전략이 중요한 역할을 했습니다. 예를 들어, 일러전쟁과 같은 사건은 동양과 서양 간의 군사적 충돌을 보여주는 사례로, 당시 일본 해군의 발전과 서양 열강과의 관계를 반영합니다. 이러한 전쟁들은 각국의 국민성과 문화적 배경에 따라 다양한 양상으로 전개되었으며, 전후에는 국가 간의 교류와 협력의 필요성이 강조되기도 했습니다.\n",
      "\u001b[0m동양권 국가와 서양권 국가 간의 전쟁은 역사적으로 여러 차례 발생했습니다. 이러한 전쟁들은 종종 문화적, 경제적, 정치적 갈등에서 비롯되었으며, 각국의 군사력과 전략이 중요한 역할을 했습니다. 예를 들어, 일러전쟁과 같은 사건은 동양과 서양 간의 군사적 충돌을 보여주는 사례로, 당시 일본 해군의 발전과 서양 열강과의 관계를 반영합니다. 이러한 전쟁들은 각국의 국민성과 문화적 배경에 따라 다양한 양상으로 전개되었으며, 전후에는 국가 간의 교류와 협력의 필요성이 강조되기도 했습니다.\n"
     ]
    }
   ],
   "source": [
    "response = wiki_agent.chat(\"동양권 국가와 서양권 국가간의 전쟁에 대해 알려줘. Always consider one of the existing tools to answer the question.\")\n",
    "print(response)"
   ]
  },
  {
   "cell_type": "code",
   "execution_count": null,
   "metadata": {
    "id": "zrzTzKaSWAjz"
   },
   "outputs": [],
   "source": []
  }
 ],
 "metadata": {
  "colab": {
   "authorship_tag": "ABX9TyOFxzjJDMAINmDd7OTW4miI",
   "provenance": [
    {
     "file_id": "1p3PyRPH1RDMWjV7xN6_OvNWO310z8nu8",
     "timestamp": 1723193845979
    }
   ]
  },
  "kernelspec": {
   "display_name": "Python 3",
   "name": "python3"
  },
  "language_info": {
   "codemirror_mode": {
    "name": "ipython",
    "version": 3
   },
   "file_extension": ".py",
   "mimetype": "text/x-python",
   "name": "python",
   "nbconvert_exporter": "python",
   "pygments_lexer": "ipython3",
   "version": "3.11.6"
  }
 },
 "nbformat": 4,
 "nbformat_minor": 0
}
