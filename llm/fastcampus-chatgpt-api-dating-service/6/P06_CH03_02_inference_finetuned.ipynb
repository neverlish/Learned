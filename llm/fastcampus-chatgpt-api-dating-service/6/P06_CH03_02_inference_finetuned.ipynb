{
 "cells": [
  {
   "cell_type": "markdown",
   "id": "53cdfecb-8872-4032-8c3d-78f14c18da1d",
   "metadata": {},
   "source": [
    "# Finetuning된 모델 Inference하기"
   ]
  },
  {
   "cell_type": "code",
   "execution_count": 1,
   "id": "f6986956-a851-4a78-b648-ba70cad1aa38",
   "metadata": {},
   "outputs": [],
   "source": [
    "import os\n",
    "from openai import OpenAI\n",
    "client = OpenAI()"
   ]
  },
  {
   "cell_type": "code",
   "execution_count": 6,
   "id": "87b69c53-d83b-4edc-9572-0efb6db729d9",
   "metadata": {},
   "outputs": [],
   "source": [
    "model = \"ft:gpt-3.5-turbo-1106:personal::SOMETHING\""
   ]
  },
  {
   "cell_type": "code",
   "execution_count": null,
   "id": "bb648d60-1deb-44c6-9bd7-a065ee3b113d",
   "metadata": {},
   "outputs": [
    {
     "name": "stdout",
     "output_type": "stream",
     "text": [
      "긍정\n"
     ]
    }
   ],
   "source": [
    "response = client.chat.completions.create(\n",
    "  model=model,\n",
    "  messages=[\n",
    "    {\"role\": \"system\", \"content\": \"user의 문장을 긍정 또는 부정으로 응답하라.\"},\n",
    "    {\"role\": \"user\", \"content\": \"지금봐도 전혀 촌스럽지 않고 재미있는 작품\"}\n",
    "  ]s\n",
    ")\n",
    "print(response.choices[0].message.content)"
   ]
  },
  {
   "cell_type": "code",
   "execution_count": 8,
   "id": "598d21a6-8a67-428e-9b7b-3d6d596949a0",
   "metadata": {},
   "outputs": [],
   "source": [
    "from langchain_openai import ChatOpenAI\n",
    "from langchain.prompts import ChatPromptTemplate\n",
    "from langchain.schema import StrOutputParser"
   ]
  },
  {
   "cell_type": "code",
   "execution_count": 9,
   "id": "777893d3-ca55-4571-9c26-25a0e7abfd4b",
   "metadata": {},
   "outputs": [],
   "source": [
    "llm = ChatOpenAI(model=model)"
   ]
  },
  {
   "cell_type": "code",
   "execution_count": 10,
   "id": "0ed2f5ad-6ae1-42b6-9c91-1704889edb5d",
   "metadata": {},
   "outputs": [],
   "source": [
    "sentiment_prompt_template = ChatPromptTemplate.from_messages(\n",
    "    [\n",
    "        (\"system\", \"user의 문장을 긍정 또는 부정으로 응답하라.\"),\n",
    "        (\"human\", \"{input}\" )\n",
    "    ]\n",
    ")"
   ]
  },
  {
   "cell_type": "code",
   "execution_count": 11,
   "id": "af14af53-638d-4d9c-bf05-812644089e6b",
   "metadata": {},
   "outputs": [],
   "source": [
    "sentiment_chain = sentiment_prompt_template | llm | StrOutputParser()"
   ]
  },
  {
   "cell_type": "code",
   "execution_count": 12,
   "id": "2bbe1a88-a1b3-4ec5-8ec0-5470df0b291e",
   "metadata": {},
   "outputs": [
    {
     "data": {
      "text/plain": [
       "'부정'"
      ]
     },
     "execution_count": 12,
     "metadata": {},
     "output_type": "execute_result"
    }
   ],
   "source": [
    "sentiment_chain.invoke({\"input\": \"이 영화 너무 재미없어\"})"
   ]
  },
  {
   "cell_type": "code",
   "execution_count": null,
   "id": "f1022d20-c29a-47ef-aa90-272e046e9354",
   "metadata": {},
   "outputs": [],
   "source": []
  }
 ],
 "metadata": {
  "kernelspec": {
   "display_name": "Python 3 (ipykernel)",
   "language": "python",
   "name": "python3"
  },
  "language_info": {
   "codemirror_mode": {
    "name": "ipython",
    "version": 3
   },
   "file_extension": ".py",
   "mimetype": "text/x-python",
   "name": "python",
   "nbconvert_exporter": "python",
   "pygments_lexer": "ipython3",
   "version": "3.11.6"
  }
 },
 "nbformat": 4,
 "nbformat_minor": 5
}
