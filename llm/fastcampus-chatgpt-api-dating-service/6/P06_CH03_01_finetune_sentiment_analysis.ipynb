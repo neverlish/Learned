{
 "cells": [
  {
   "cell_type": "markdown",
   "id": "6579f1d6-a64e-4587-9259-966fb4447848",
   "metadata": {},
   "source": [
    "# Finetuning API를 통해 감성 분석 학습해보기"
   ]
  },
  {
   "cell_type": "code",
   "execution_count": 1,
   "id": "b27d31dc-20de-46cd-aef5-df20eceeb8d7",
   "metadata": {},
   "outputs": [],
   "source": [
    "from openai import OpenAI"
   ]
  },
  {
   "cell_type": "code",
   "execution_count": 2,
   "id": "3df5de88-3535-46c2-aa81-7e1de2038155",
   "metadata": {},
   "outputs": [],
   "source": [
    "client = OpenAI()"
   ]
  },
  {
   "cell_type": "markdown",
   "id": "f4d7828f-f971-4fde-bfa4-eaf63f23ccc9",
   "metadata": {},
   "source": [
    "## Upload File"
   ]
  },
  {
   "cell_type": "code",
   "execution_count": 3,
   "id": "a97c475c-e64c-4c1c-95c1-4cc3a3c9a6bf",
   "metadata": {},
   "outputs": [],
   "source": [
    "train_file = client.files.create(\n",
    "  file=open(\"nsmc_train.jsonl\", \"rb\"),\n",
    "  purpose=\"fine-tune\"\n",
    ")"
   ]
  },
  {
   "cell_type": "code",
   "execution_count": 4,
   "id": "1633001a-636a-4d42-b34c-1d94e325d0c9",
   "metadata": {},
   "outputs": [
    {
     "data": {
      "text/plain": [
       "FileObject(id='file-WCctoMYTp5nY9DMhBZpgKF', bytes=27351, created_at=1744632282, filename='nsmc_train.jsonl', object='file', purpose='fine-tune', status='processed', expires_at=None, status_details=None)"
      ]
     },
     "execution_count": 4,
     "metadata": {},
     "output_type": "execute_result"
    }
   ],
   "source": [
    "train_file"
   ]
  },
  {
   "cell_type": "code",
   "execution_count": 5,
   "id": "735ef446-557a-4a06-a356-ecfd2a9b47d5",
   "metadata": {},
   "outputs": [
    {
     "name": "stderr",
     "output_type": "stream",
     "text": [
      "/var/folders/1x/st3vh8xs6715dcgqc1gk2hhh0000gn/T/ipykernel_70467/2243376447.py:1: PydanticDeprecatedSince20: The `dict` method is deprecated; use `model_dump` instead. Deprecated in Pydantic V2.0 to be removed in V3.0. See Pydantic V2 Migration Guide at https://errors.pydantic.dev/2.10/migration/\n",
      "  train_file.dict()\n"
     ]
    },
    {
     "data": {
      "text/plain": [
       "{'id': 'file-WCctoMYTp5nY9DMhBZpgKF',\n",
       " 'bytes': 27351,\n",
       " 'created_at': 1744632282,\n",
       " 'filename': 'nsmc_train.jsonl',\n",
       " 'object': 'file',\n",
       " 'purpose': 'fine-tune',\n",
       " 'status': 'processed',\n",
       " 'expires_at': None,\n",
       " 'status_details': None}"
      ]
     },
     "execution_count": 5,
     "metadata": {},
     "output_type": "execute_result"
    }
   ],
   "source": [
    "train_file.dict()"
   ]
  },
  {
   "cell_type": "code",
   "execution_count": 6,
   "id": "d0dac8c1-6446-47ea-9d95-0b617cbcec5e",
   "metadata": {},
   "outputs": [
    {
     "data": {
      "text/plain": [
       "'file-WCctoMYTp5nY9DMhBZpgKF'"
      ]
     },
     "execution_count": 6,
     "metadata": {},
     "output_type": "execute_result"
    }
   ],
   "source": [
    "train_file.id"
   ]
  },
  {
   "cell_type": "code",
   "execution_count": 7,
   "id": "5fbbec8a-5fb0-4e29-beb2-38f30d159855",
   "metadata": {},
   "outputs": [],
   "source": [
    "valid_file = client.files.create(\n",
    "  file=open(\"nsmc_valid.jsonl\", \"rb\"),\n",
    "  purpose=\"fine-tune\"\n",
    ")"
   ]
  },
  {
   "cell_type": "code",
   "execution_count": 8,
   "id": "39eeb93f-e294-4e3c-ad75-4c9e2a7cef43",
   "metadata": {},
   "outputs": [
    {
     "data": {
      "text/plain": [
       "FileObject(id='file-8idbvccPD3Lb1JXG7phjfY', bytes=8338, created_at=1744632288, filename='nsmc_valid.jsonl', object='file', purpose='fine-tune', status='processed', expires_at=None, status_details=None)"
      ]
     },
     "execution_count": 8,
     "metadata": {},
     "output_type": "execute_result"
    }
   ],
   "source": [
    "valid_file"
   ]
  },
  {
   "cell_type": "code",
   "execution_count": 9,
   "id": "40780f8d-1aa2-4d3e-a30b-5bf2fb272185",
   "metadata": {},
   "outputs": [
    {
     "name": "stderr",
     "output_type": "stream",
     "text": [
      "/var/folders/1x/st3vh8xs6715dcgqc1gk2hhh0000gn/T/ipykernel_70467/267935741.py:1: PydanticDeprecatedSince20: The `dict` method is deprecated; use `model_dump` instead. Deprecated in Pydantic V2.0 to be removed in V3.0. See Pydantic V2 Migration Guide at https://errors.pydantic.dev/2.10/migration/\n",
      "  valid_file.dict()\n"
     ]
    },
    {
     "data": {
      "text/plain": [
       "{'id': 'file-8idbvccPD3Lb1JXG7phjfY',\n",
       " 'bytes': 8338,\n",
       " 'created_at': 1744632288,\n",
       " 'filename': 'nsmc_valid.jsonl',\n",
       " 'object': 'file',\n",
       " 'purpose': 'fine-tune',\n",
       " 'status': 'processed',\n",
       " 'expires_at': None,\n",
       " 'status_details': None}"
      ]
     },
     "execution_count": 9,
     "metadata": {},
     "output_type": "execute_result"
    }
   ],
   "source": [
    "valid_file.dict()"
   ]
  },
  {
   "cell_type": "code",
   "execution_count": 10,
   "id": "c66de934-7f7e-4d4d-a3c0-1213634e0ea8",
   "metadata": {},
   "outputs": [
    {
     "data": {
      "text/plain": [
       "'file-8idbvccPD3Lb1JXG7phjfY'"
      ]
     },
     "execution_count": 10,
     "metadata": {},
     "output_type": "execute_result"
    }
   ],
   "source": [
    "valid_file.id"
   ]
  },
  {
   "cell_type": "markdown",
   "id": "13707053-4c8b-4979-bb95-4c6767734af0",
   "metadata": {},
   "source": [
    "## Finetuning"
   ]
  },
  {
   "cell_type": "markdown",
   "id": "f46ff6b2-4b67-47c0-8634-9520f900b8c5",
   "metadata": {},
   "source": [
    "### Finetuning job 제출하기"
   ]
  },
  {
   "cell_type": "code",
   "execution_count": 11,
   "id": "ad8bd6ab-6a64-49f9-a541-cc8b6c63f236",
   "metadata": {},
   "outputs": [],
   "source": [
    "job = client.fine_tuning.jobs.create(\n",
    "  training_file=train_file.id,\n",
    "  validation_file=valid_file.id, \n",
    "  model=\"gpt-3.5-turbo-1106\",\n",
    "  hyperparameters={\n",
    "    \"n_epochs\": 1 # default: 3\n",
    "  }\n",
    ")"
   ]
  },
  {
   "cell_type": "code",
   "execution_count": 12,
   "id": "6c84852f-9cd6-4aa7-89e2-ffc89b793bbd",
   "metadata": {},
   "outputs": [
    {
     "data": {
      "text/plain": [
       "FineTuningJob(id='ftjob-zRnS7Vg3c06VvhCq6BEakRiW', created_at=1744632296, error=Error(code=None, message=None, param=None), fine_tuned_model=None, finished_at=None, hyperparameters=Hyperparameters(batch_size='auto', learning_rate_multiplier='auto', n_epochs=1), model='gpt-3.5-turbo-1106', object='fine_tuning.job', organization_id='org-qzBJNqx2R9Pz1HmKd4Zh0Dmj', result_files=[], seed=845720967, status='validating_files', trained_tokens=None, training_file='file-WCctoMYTp5nY9DMhBZpgKF', validation_file='file-8idbvccPD3Lb1JXG7phjfY', estimated_finish=None, integrations=[], metadata=None, method=Method(dpo=None, supervised=MethodSupervised(hyperparameters=MethodSupervisedHyperparameters(batch_size='auto', learning_rate_multiplier='auto', n_epochs=1)), type='supervised'), user_provided_suffix=None)"
      ]
     },
     "execution_count": 12,
     "metadata": {},
     "output_type": "execute_result"
    }
   ],
   "source": [
    "job"
   ]
  },
  {
   "cell_type": "code",
   "execution_count": 13,
   "id": "0e483009-4d49-420e-8d75-24c88fc00b72",
   "metadata": {},
   "outputs": [
    {
     "name": "stderr",
     "output_type": "stream",
     "text": [
      "/var/folders/1x/st3vh8xs6715dcgqc1gk2hhh0000gn/T/ipykernel_70467/127413622.py:1: PydanticDeprecatedSince20: The `dict` method is deprecated; use `model_dump` instead. Deprecated in Pydantic V2.0 to be removed in V3.0. See Pydantic V2 Migration Guide at https://errors.pydantic.dev/2.10/migration/\n",
      "  job.dict()\n"
     ]
    },
    {
     "data": {
      "text/plain": [
       "{'id': 'ftjob-zRnS7Vg3c06VvhCq6BEakRiW',\n",
       " 'created_at': 1744632296,\n",
       " 'error': {'code': None, 'message': None, 'param': None},\n",
       " 'fine_tuned_model': None,\n",
       " 'finished_at': None,\n",
       " 'hyperparameters': {'batch_size': 'auto',\n",
       "  'learning_rate_multiplier': 'auto',\n",
       "  'n_epochs': 1},\n",
       " 'model': 'gpt-3.5-turbo-1106',\n",
       " 'object': 'fine_tuning.job',\n",
       " 'organization_id': 'org-qzBJNqx2R9Pz1HmKd4Zh0Dmj',\n",
       " 'result_files': [],\n",
       " 'seed': 845720967,\n",
       " 'status': 'validating_files',\n",
       " 'trained_tokens': None,\n",
       " 'training_file': 'file-WCctoMYTp5nY9DMhBZpgKF',\n",
       " 'validation_file': 'file-8idbvccPD3Lb1JXG7phjfY',\n",
       " 'estimated_finish': None,\n",
       " 'integrations': [],\n",
       " 'metadata': None,\n",
       " 'method': {'dpo': None,\n",
       "  'supervised': {'hyperparameters': {'batch_size': 'auto',\n",
       "    'learning_rate_multiplier': 'auto',\n",
       "    'n_epochs': 1}},\n",
       "  'type': 'supervised'},\n",
       " 'user_provided_suffix': None}"
      ]
     },
     "execution_count": 13,
     "metadata": {},
     "output_type": "execute_result"
    }
   ],
   "source": [
    "job.dict()"
   ]
  },
  {
   "cell_type": "code",
   "execution_count": 14,
   "id": "eef49ad7-f745-4bb0-9f24-54e96fab2295",
   "metadata": {},
   "outputs": [
    {
     "data": {
      "text/plain": [
       "'ftjob-zRnS7Vg3c06VvhCq6BEakRiW'"
      ]
     },
     "execution_count": 14,
     "metadata": {},
     "output_type": "execute_result"
    }
   ],
   "source": [
    "job.id"
   ]
  },
  {
   "cell_type": "code",
   "execution_count": 15,
   "id": "b6c474a0-7d39-4f33-85ee-b77baf70f98b",
   "metadata": {},
   "outputs": [
    {
     "name": "stdout",
     "output_type": "stream",
     "text": [
      "Job ID: ftjob-zRnS7Vg3c06VvhCq6BEakRiW\n",
      "Status: validating_files\n"
     ]
    }
   ],
   "source": [
    "print(\"Job ID:\", job.id)\n",
    "print(\"Status:\", job.status)"
   ]
  },
  {
   "cell_type": "markdown",
   "id": "8e36e121-8bd6-4273-8540-c132b2970a7e",
   "metadata": {},
   "source": [
    "### Finetuning job들 가져오기"
   ]
  },
  {
   "cell_type": "code",
   "execution_count": 16,
   "id": "6c81e496-d1d3-48c5-8951-15e612a4cb0d",
   "metadata": {},
   "outputs": [],
   "source": [
    "resp = client.fine_tuning.jobs.list(limit=10)"
   ]
  },
  {
   "cell_type": "code",
   "execution_count": 17,
   "id": "6ccf4d8b-85a5-4992-806f-7b6def93cab9",
   "metadata": {},
   "outputs": [
    {
     "name": "stderr",
     "output_type": "stream",
     "text": [
      "/var/folders/1x/st3vh8xs6715dcgqc1gk2hhh0000gn/T/ipykernel_70467/3483486788.py:1: PydanticDeprecatedSince20: The `dict` method is deprecated; use `model_dump` instead. Deprecated in Pydantic V2.0 to be removed in V3.0. See Pydantic V2 Migration Guide at https://errors.pydantic.dev/2.10/migration/\n",
      "  resp.dict()\n"
     ]
    },
    {
     "data": {
      "text/plain": [
       "{'data': [{'id': 'ftjob-zRnS7Vg3c06VvhCq6BEakRiW',\n",
       "   'created_at': 1744632296,\n",
       "   'error': {'code': None, 'message': None, 'param': None},\n",
       "   'fine_tuned_model': None,\n",
       "   'finished_at': None,\n",
       "   'hyperparameters': {'batch_size': 'auto',\n",
       "    'learning_rate_multiplier': 'auto',\n",
       "    'n_epochs': 1},\n",
       "   'model': 'gpt-3.5-turbo-1106',\n",
       "   'object': 'fine_tuning.job',\n",
       "   'organization_id': 'org-qzBJNqx2R9Pz1HmKd4Zh0Dmj',\n",
       "   'result_files': [],\n",
       "   'seed': 845720967,\n",
       "   'status': 'validating_files',\n",
       "   'trained_tokens': None,\n",
       "   'training_file': 'file-WCctoMYTp5nY9DMhBZpgKF',\n",
       "   'validation_file': 'file-8idbvccPD3Lb1JXG7phjfY',\n",
       "   'estimated_finish': None,\n",
       "   'integrations': [],\n",
       "   'metadata': None,\n",
       "   'method': {'dpo': None,\n",
       "    'supervised': {'hyperparameters': {'batch_size': 'auto',\n",
       "      'learning_rate_multiplier': 'auto',\n",
       "      'n_epochs': 1}},\n",
       "    'type': 'supervised'},\n",
       "   'user_provided_suffix': None}],\n",
       " 'has_more': False,\n",
       " 'object': 'list'}"
      ]
     },
     "execution_count": 17,
     "metadata": {},
     "output_type": "execute_result"
    }
   ],
   "source": [
    "resp.dict()"
   ]
  },
  {
   "cell_type": "markdown",
   "id": "564f4084-55df-42e9-b90c-6f24457486fd",
   "metadata": {},
   "source": [
    "### 현재 Finetuning 상태 가져오기\n"
   ]
  },
  {
   "cell_type": "code",
   "execution_count": 18,
   "id": "24d84aca-ccde-453c-8d64-e0a04a140988",
   "metadata": {},
   "outputs": [],
   "source": [
    "job = client.fine_tuning.jobs.retrieve(job.id)"
   ]
  },
  {
   "cell_type": "code",
   "execution_count": 19,
   "id": "e9868cf5-91ad-485f-8ca6-b71b17eb1069",
   "metadata": {},
   "outputs": [
    {
     "name": "stderr",
     "output_type": "stream",
     "text": [
      "/var/folders/1x/st3vh8xs6715dcgqc1gk2hhh0000gn/T/ipykernel_70467/127413622.py:1: PydanticDeprecatedSince20: The `dict` method is deprecated; use `model_dump` instead. Deprecated in Pydantic V2.0 to be removed in V3.0. See Pydantic V2 Migration Guide at https://errors.pydantic.dev/2.10/migration/\n",
      "  job.dict()\n"
     ]
    },
    {
     "data": {
      "text/plain": [
       "{'id': 'ftjob-zRnS7Vg3c06VvhCq6BEakRiW',\n",
       " 'created_at': 1744632296,\n",
       " 'error': {'code': None, 'message': None, 'param': None},\n",
       " 'fine_tuned_model': None,\n",
       " 'finished_at': None,\n",
       " 'hyperparameters': {'batch_size': 'auto',\n",
       "  'learning_rate_multiplier': 'auto',\n",
       "  'n_epochs': 1},\n",
       " 'model': 'gpt-3.5-turbo-1106',\n",
       " 'object': 'fine_tuning.job',\n",
       " 'organization_id': 'org-qzBJNqx2R9Pz1HmKd4Zh0Dmj',\n",
       " 'result_files': [],\n",
       " 'seed': 845720967,\n",
       " 'status': 'validating_files',\n",
       " 'trained_tokens': None,\n",
       " 'training_file': 'file-WCctoMYTp5nY9DMhBZpgKF',\n",
       " 'validation_file': 'file-8idbvccPD3Lb1JXG7phjfY',\n",
       " 'estimated_finish': None,\n",
       " 'integrations': [],\n",
       " 'metadata': None,\n",
       " 'method': {'dpo': None,\n",
       "  'supervised': {'hyperparameters': {'batch_size': 'auto',\n",
       "    'learning_rate_multiplier': 'auto',\n",
       "    'n_epochs': 1}},\n",
       "  'type': 'supervised'},\n",
       " 'user_provided_suffix': None}"
      ]
     },
     "execution_count": 19,
     "metadata": {},
     "output_type": "execute_result"
    }
   ],
   "source": [
    "job.dict()"
   ]
  },
  {
   "cell_type": "code",
   "execution_count": 20,
   "id": "5efaa8f7-54b9-43a8-85a9-12aabf5f91b1",
   "metadata": {},
   "outputs": [
    {
     "name": "stdout",
     "output_type": "stream",
     "text": [
      "Job ID: ftjob-zRnS7Vg3c06VvhCq6BEakRiW\n",
      "Status: validating_files\n"
     ]
    }
   ],
   "source": [
    "print(\"Job ID:\", job.id)\n",
    "print(\"Status:\", job.status)"
   ]
  },
  {
   "cell_type": "markdown",
   "id": "5101072f-119b-40bc-b5c1-6654d8cc0990",
   "metadata": {},
   "source": [
    "### Finetuning job 캔슬하기"
   ]
  },
  {
   "cell_type": "code",
   "execution_count": null,
   "id": "7ebd0472-6dae-47ae-af15-e930b2f566ba",
   "metadata": {},
   "outputs": [],
   "source": [
    "# client.fine_tuning.jobs.cancel(job.id)"
   ]
  },
  {
   "cell_type": "markdown",
   "id": "03d9feec-80b8-4ab1-904e-367e850de6ae",
   "metadata": {},
   "source": [
    "### 학습 과정 확인하기"
   ]
  },
  {
   "cell_type": "code",
   "execution_count": 21,
   "id": "dd141a4a-4af9-48ce-8d37-56549bf7a373",
   "metadata": {},
   "outputs": [
    {
     "name": "stdout",
     "output_type": "stream",
     "text": [
      "Created fine-tuning job: ftjob-zRnS7Vg3c06VvhCq6BEakRiW\n",
      "Validating training file: file-WCctoMYTp5nY9DMhBZpgKF and validation file: file-8idbvccPD3Lb1JXG7phjfY\n"
     ]
    }
   ],
   "source": [
    "# List up to 10 events from a fine-tuning job\n",
    "response = client.fine_tuning.jobs.list_events(fine_tuning_job_id=job.id, limit=10)\n",
    "events = response.data\n",
    "events.reverse()\n",
    "\n",
    "for event in events:\n",
    "    print(event.message)"
   ]
  },
  {
   "cell_type": "markdown",
   "id": "d72ba731-4515-42ad-898e-4f74fc1bf699",
   "metadata": {},
   "source": [
    "### Finetuning 모델 삭제하기"
   ]
  },
  {
   "cell_type": "code",
   "execution_count": 22,
   "id": "a4189ee5-4271-44d7-8e94-c9ed285936ad",
   "metadata": {},
   "outputs": [
    {
     "ename": "NotFoundError",
     "evalue": "Error code: 404 - {'error': {'message': \"The model 'ft:gpt-3.5-turbo:acemeco:suffix:abc123' does not exist\", 'type': 'invalid_request_error', 'param': 'model', 'code': 'model_not_found'}}",
     "output_type": "error",
     "traceback": [
      "\u001b[0;31m---------------------------------------------------------------------------\u001b[0m",
      "\u001b[0;31mNotFoundError\u001b[0m                             Traceback (most recent call last)",
      "Cell \u001b[0;32mIn[22], line 2\u001b[0m\n\u001b[1;32m      1\u001b[0m \u001b[38;5;66;03m# Delete a fine-tuned model (must be an owner of the org the model was created in)\u001b[39;00m\n\u001b[0;32m----> 2\u001b[0m \u001b[43mclient\u001b[49m\u001b[38;5;241;43m.\u001b[39;49m\u001b[43mmodels\u001b[49m\u001b[38;5;241;43m.\u001b[39;49m\u001b[43mdelete\u001b[49m\u001b[43m(\u001b[49m\u001b[38;5;124;43m\"\u001b[39;49m\u001b[38;5;124;43mft:gpt-3.5-turbo:acemeco:suffix:abc123\u001b[39;49m\u001b[38;5;124;43m\"\u001b[39;49m\u001b[43m)\u001b[49m\n",
      "File \u001b[0;32m~/.pyenv/versions/3.11.6/lib/python3.11/site-packages/openai/resources/models.py:127\u001b[0m, in \u001b[0;36mModels.delete\u001b[0;34m(self, model, extra_headers, extra_query, extra_body, timeout)\u001b[0m\n\u001b[1;32m    125\u001b[0m \u001b[38;5;28;01mif\u001b[39;00m \u001b[38;5;129;01mnot\u001b[39;00m model:\n\u001b[1;32m    126\u001b[0m     \u001b[38;5;28;01mraise\u001b[39;00m \u001b[38;5;167;01mValueError\u001b[39;00m(\u001b[38;5;124mf\u001b[39m\u001b[38;5;124m\"\u001b[39m\u001b[38;5;124mExpected a non-empty value for `model` but received \u001b[39m\u001b[38;5;132;01m{\u001b[39;00mmodel\u001b[38;5;132;01m!r}\u001b[39;00m\u001b[38;5;124m\"\u001b[39m)\n\u001b[0;32m--> 127\u001b[0m \u001b[38;5;28;01mreturn\u001b[39;00m \u001b[38;5;28;43mself\u001b[39;49m\u001b[38;5;241;43m.\u001b[39;49m\u001b[43m_delete\u001b[49m\u001b[43m(\u001b[49m\n\u001b[1;32m    128\u001b[0m \u001b[43m    \u001b[49m\u001b[38;5;124;43mf\u001b[39;49m\u001b[38;5;124;43m\"\u001b[39;49m\u001b[38;5;124;43m/models/\u001b[39;49m\u001b[38;5;132;43;01m{\u001b[39;49;00m\u001b[43mmodel\u001b[49m\u001b[38;5;132;43;01m}\u001b[39;49;00m\u001b[38;5;124;43m\"\u001b[39;49m\u001b[43m,\u001b[49m\n\u001b[1;32m    129\u001b[0m \u001b[43m    \u001b[49m\u001b[43moptions\u001b[49m\u001b[38;5;241;43m=\u001b[39;49m\u001b[43mmake_request_options\u001b[49m\u001b[43m(\u001b[49m\n\u001b[1;32m    130\u001b[0m \u001b[43m        \u001b[49m\u001b[43mextra_headers\u001b[49m\u001b[38;5;241;43m=\u001b[39;49m\u001b[43mextra_headers\u001b[49m\u001b[43m,\u001b[49m\u001b[43m \u001b[49m\u001b[43mextra_query\u001b[49m\u001b[38;5;241;43m=\u001b[39;49m\u001b[43mextra_query\u001b[49m\u001b[43m,\u001b[49m\u001b[43m \u001b[49m\u001b[43mextra_body\u001b[49m\u001b[38;5;241;43m=\u001b[39;49m\u001b[43mextra_body\u001b[49m\u001b[43m,\u001b[49m\u001b[43m \u001b[49m\u001b[43mtimeout\u001b[49m\u001b[38;5;241;43m=\u001b[39;49m\u001b[43mtimeout\u001b[49m\n\u001b[1;32m    131\u001b[0m \u001b[43m    \u001b[49m\u001b[43m)\u001b[49m\u001b[43m,\u001b[49m\n\u001b[1;32m    132\u001b[0m \u001b[43m    \u001b[49m\u001b[43mcast_to\u001b[49m\u001b[38;5;241;43m=\u001b[39;49m\u001b[43mModelDeleted\u001b[49m\u001b[43m,\u001b[49m\n\u001b[1;32m    133\u001b[0m \u001b[43m\u001b[49m\u001b[43m)\u001b[49m\n",
      "File \u001b[0;32m~/.pyenv/versions/3.11.6/lib/python3.11/site-packages/openai/_base_client.py:1278\u001b[0m, in \u001b[0;36mSyncAPIClient.delete\u001b[0;34m(self, path, cast_to, body, options)\u001b[0m\n\u001b[1;32m   1269\u001b[0m \u001b[38;5;28;01mdef\u001b[39;00m \u001b[38;5;21mdelete\u001b[39m(\n\u001b[1;32m   1270\u001b[0m     \u001b[38;5;28mself\u001b[39m,\n\u001b[1;32m   1271\u001b[0m     path: \u001b[38;5;28mstr\u001b[39m,\n\u001b[0;32m   (...)\u001b[0m\n\u001b[1;32m   1275\u001b[0m     options: RequestOptions \u001b[38;5;241m=\u001b[39m {},\n\u001b[1;32m   1276\u001b[0m ) \u001b[38;5;241m-\u001b[39m\u001b[38;5;241m>\u001b[39m ResponseT:\n\u001b[1;32m   1277\u001b[0m     opts \u001b[38;5;241m=\u001b[39m FinalRequestOptions\u001b[38;5;241m.\u001b[39mconstruct(method\u001b[38;5;241m=\u001b[39m\u001b[38;5;124m\"\u001b[39m\u001b[38;5;124mdelete\u001b[39m\u001b[38;5;124m\"\u001b[39m, url\u001b[38;5;241m=\u001b[39mpath, json_data\u001b[38;5;241m=\u001b[39mbody, \u001b[38;5;241m*\u001b[39m\u001b[38;5;241m*\u001b[39moptions)\n\u001b[0;32m-> 1278\u001b[0m     \u001b[38;5;28;01mreturn\u001b[39;00m \u001b[38;5;28;43mself\u001b[39;49m\u001b[38;5;241;43m.\u001b[39;49m\u001b[43mrequest\u001b[49m\u001b[43m(\u001b[49m\u001b[43mcast_to\u001b[49m\u001b[43m,\u001b[49m\u001b[43m \u001b[49m\u001b[43mopts\u001b[49m\u001b[43m)\u001b[49m\n",
      "File \u001b[0;32m~/.pyenv/versions/3.11.6/lib/python3.11/site-packages/openai/_base_client.py:919\u001b[0m, in \u001b[0;36mSyncAPIClient.request\u001b[0;34m(self, cast_to, options, remaining_retries, stream, stream_cls)\u001b[0m\n\u001b[1;32m    916\u001b[0m \u001b[38;5;28;01melse\u001b[39;00m:\n\u001b[1;32m    917\u001b[0m     retries_taken \u001b[38;5;241m=\u001b[39m \u001b[38;5;241m0\u001b[39m\n\u001b[0;32m--> 919\u001b[0m \u001b[38;5;28;01mreturn\u001b[39;00m \u001b[38;5;28;43mself\u001b[39;49m\u001b[38;5;241;43m.\u001b[39;49m\u001b[43m_request\u001b[49m\u001b[43m(\u001b[49m\n\u001b[1;32m    920\u001b[0m \u001b[43m    \u001b[49m\u001b[43mcast_to\u001b[49m\u001b[38;5;241;43m=\u001b[39;49m\u001b[43mcast_to\u001b[49m\u001b[43m,\u001b[49m\n\u001b[1;32m    921\u001b[0m \u001b[43m    \u001b[49m\u001b[43moptions\u001b[49m\u001b[38;5;241;43m=\u001b[39;49m\u001b[43moptions\u001b[49m\u001b[43m,\u001b[49m\n\u001b[1;32m    922\u001b[0m \u001b[43m    \u001b[49m\u001b[43mstream\u001b[49m\u001b[38;5;241;43m=\u001b[39;49m\u001b[43mstream\u001b[49m\u001b[43m,\u001b[49m\n\u001b[1;32m    923\u001b[0m \u001b[43m    \u001b[49m\u001b[43mstream_cls\u001b[49m\u001b[38;5;241;43m=\u001b[39;49m\u001b[43mstream_cls\u001b[49m\u001b[43m,\u001b[49m\n\u001b[1;32m    924\u001b[0m \u001b[43m    \u001b[49m\u001b[43mretries_taken\u001b[49m\u001b[38;5;241;43m=\u001b[39;49m\u001b[43mretries_taken\u001b[49m\u001b[43m,\u001b[49m\n\u001b[1;32m    925\u001b[0m \u001b[43m\u001b[49m\u001b[43m)\u001b[49m\n",
      "File \u001b[0;32m~/.pyenv/versions/3.11.6/lib/python3.11/site-packages/openai/_base_client.py:1023\u001b[0m, in \u001b[0;36mSyncAPIClient._request\u001b[0;34m(self, cast_to, options, retries_taken, stream, stream_cls)\u001b[0m\n\u001b[1;32m   1020\u001b[0m         err\u001b[38;5;241m.\u001b[39mresponse\u001b[38;5;241m.\u001b[39mread()\n\u001b[1;32m   1022\u001b[0m     log\u001b[38;5;241m.\u001b[39mdebug(\u001b[38;5;124m\"\u001b[39m\u001b[38;5;124mRe-raising status error\u001b[39m\u001b[38;5;124m\"\u001b[39m)\n\u001b[0;32m-> 1023\u001b[0m     \u001b[38;5;28;01mraise\u001b[39;00m \u001b[38;5;28mself\u001b[39m\u001b[38;5;241m.\u001b[39m_make_status_error_from_response(err\u001b[38;5;241m.\u001b[39mresponse) \u001b[38;5;28;01mfrom\u001b[39;00m \u001b[38;5;28;01mNone\u001b[39;00m\n\u001b[1;32m   1025\u001b[0m \u001b[38;5;28;01mreturn\u001b[39;00m \u001b[38;5;28mself\u001b[39m\u001b[38;5;241m.\u001b[39m_process_response(\n\u001b[1;32m   1026\u001b[0m     cast_to\u001b[38;5;241m=\u001b[39mcast_to,\n\u001b[1;32m   1027\u001b[0m     options\u001b[38;5;241m=\u001b[39moptions,\n\u001b[0;32m   (...)\u001b[0m\n\u001b[1;32m   1031\u001b[0m     retries_taken\u001b[38;5;241m=\u001b[39mretries_taken,\n\u001b[1;32m   1032\u001b[0m )\n",
      "\u001b[0;31mNotFoundError\u001b[0m: Error code: 404 - {'error': {'message': \"The model 'ft:gpt-3.5-turbo:acemeco:suffix:abc123' does not exist\", 'type': 'invalid_request_error', 'param': 'model', 'code': 'model_not_found'}}"
     ]
    }
   ],
   "source": [
    "# Delete a fine-tuned model (must be an owner of the org the model was created in)\n",
    "client.models.delete(\"ft:gpt-3.5-turbo:acemeco:suffix:abc123\")"
   ]
  },
  {
   "cell_type": "code",
   "execution_count": null,
   "id": "d5eca5e3-0d6d-4de4-bcb0-9a9a344d4eb8",
   "metadata": {},
   "outputs": [],
   "source": []
  }
 ],
 "metadata": {
  "kernelspec": {
   "display_name": "Python 3 (ipykernel)",
   "language": "python",
   "name": "python3"
  },
  "language_info": {
   "codemirror_mode": {
    "name": "ipython",
    "version": 3
   },
   "file_extension": ".py",
   "mimetype": "text/x-python",
   "name": "python",
   "nbconvert_exporter": "python",
   "pygments_lexer": "ipython3",
   "version": "3.11.6"
  }
 },
 "nbformat": 4,
 "nbformat_minor": 5
}
