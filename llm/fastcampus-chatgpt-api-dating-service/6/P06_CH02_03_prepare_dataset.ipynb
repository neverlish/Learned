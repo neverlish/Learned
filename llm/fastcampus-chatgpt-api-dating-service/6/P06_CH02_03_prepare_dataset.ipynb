{
 "cells": [
  {
   "cell_type": "markdown",
   "id": "63c1d7c3-e71d-4d70-ac6d-613c82380b10",
   "metadata": {},
   "source": [
    "# OpenAI Fine-tuning API 학습을 위해 데이터셋 만들기\n",
    "\n",
    "- jsonline 포맷\n",
    "- 예시\n",
    "```json\n",
    "{\"messages\": [{\"role\": \"system\", \"content\": \"Marv is a factual chatbot that is also sarcastic.\"}, {\"role\": \"user\", \"content\": \"What's the capital of France?\"}, {\"role\": \"assistant\", \"content\": \"Paris, as if everyone doesn't know that already.\"}]}\n",
    "{\"messages\": [{\"role\": \"system\", \"content\": \"Marv is a factual chatbot that is also sarcastic.\"}, {\"role\": \"user\", \"content\": \"Who wrote 'Romeo and Juliet'?\"}, {\"role\": \"assistant\", \"content\": \"Oh, just some guy named William Shakespeare. Ever heard of him?\"}]}\n",
    "{\"messages\": [{\"role\": \"system\", \"content\": \"Marv is a factual chatbot that is also sarcastic.\"}, {\"role\": \"user\", \"content\": \"How far is the Moon from Earth?\"}, {\"role\": \"assistant\", \"content\": \"Around 384,400 kilometers. Give or take a few, like that really matters.\"}]}\n",
    "```"
   ]
  },
  {
   "cell_type": "code",
   "execution_count": 1,
   "id": "83cbc7f1-f9e7-44c7-9f21-70e00c156dce",
   "metadata": {},
   "outputs": [],
   "source": [
    "import json\n",
    "from datasets import load_dataset"
   ]
  },
  {
   "cell_type": "code",
   "execution_count": 2,
   "id": "5c20b929-d83b-4093-88ff-e310d5bca1c4",
   "metadata": {},
   "outputs": [],
   "source": [
    "dataset = load_dataset(\"nsmc\")"
   ]
  },
  {
   "cell_type": "code",
   "execution_count": 3,
   "id": "d4422368-b09e-4805-acce-baab26577610",
   "metadata": {},
   "outputs": [],
   "source": [
    "train_valid_ds = dataset['train'].train_test_split(test_size=30)"
   ]
  },
  {
   "cell_type": "code",
   "execution_count": 4,
   "id": "1c7bfdfc-2e5a-4fec-8e7d-7e6cb6dbaac5",
   "metadata": {},
   "outputs": [],
   "source": [
    "train_df = train_valid_ds['train'].to_pandas()\n",
    "valid_df = train_valid_ds['test'].to_pandas()"
   ]
  },
  {
   "cell_type": "code",
   "execution_count": 5,
   "id": "1ad45be6-b6ac-469a-bea1-83856573fe96",
   "metadata": {},
   "outputs": [
    {
     "data": {
      "text/plain": [
       "(149970, 30)"
      ]
     },
     "execution_count": 5,
     "metadata": {},
     "output_type": "execute_result"
    }
   ],
   "source": [
    "len(train_df), len(valid_df)"
   ]
  },
  {
   "cell_type": "code",
   "execution_count": 6,
   "id": "981e1161-4901-4725-af79-53e7bbcd255c",
   "metadata": {},
   "outputs": [],
   "source": [
    "# 실습을 위한 학습 시간을 줄이기 위해 샘플을 줄임, 일반적으로 많을 수록 좋음\n",
    "train_df = train_df.sample(100) "
   ]
  },
  {
   "cell_type": "code",
   "execution_count": 7,
   "id": "fd9e556e-82d3-4bee-8f61-6936c23d6268",
   "metadata": {},
   "outputs": [
    {
     "data": {
      "text/html": [
       "<div>\n",
       "<style scoped>\n",
       "    .dataframe tbody tr th:only-of-type {\n",
       "        vertical-align: middle;\n",
       "    }\n",
       "\n",
       "    .dataframe tbody tr th {\n",
       "        vertical-align: top;\n",
       "    }\n",
       "\n",
       "    .dataframe thead th {\n",
       "        text-align: right;\n",
       "    }\n",
       "</style>\n",
       "<table border=\"1\" class=\"dataframe\">\n",
       "  <thead>\n",
       "    <tr style=\"text-align: right;\">\n",
       "      <th></th>\n",
       "      <th>id</th>\n",
       "      <th>document</th>\n",
       "      <th>label</th>\n",
       "    </tr>\n",
       "  </thead>\n",
       "  <tbody>\n",
       "    <tr>\n",
       "      <th>87690</th>\n",
       "      <td>8967787</td>\n",
       "      <td>영화의 꿈과 감동을 주는 영화의 역사,영화를 위한 영화의 영화</td>\n",
       "      <td>1</td>\n",
       "    </tr>\n",
       "    <tr>\n",
       "      <th>120061</th>\n",
       "      <td>9461567</td>\n",
       "      <td>아....공포스럽습니다...목욕바구니가...그리무서울줄이야....이번년도...마지막...</td>\n",
       "      <td>1</td>\n",
       "    </tr>\n",
       "    <tr>\n",
       "      <th>36810</th>\n",
       "      <td>8850393</td>\n",
       "      <td>소재만 대박이고 완벽하게 망한 영화 진짜 이 영화도 명품 도자기 가져다가 개밥그릇으...</td>\n",
       "      <td>0</td>\n",
       "    </tr>\n",
       "    <tr>\n",
       "      <th>83693</th>\n",
       "      <td>471166</td>\n",
       "      <td>아름답고 감동적인 이야기</td>\n",
       "      <td>1</td>\n",
       "    </tr>\n",
       "    <tr>\n",
       "      <th>120099</th>\n",
       "      <td>238991</td>\n",
       "      <td>좋다</td>\n",
       "      <td>1</td>\n",
       "    </tr>\n",
       "    <tr>\n",
       "      <th>...</th>\n",
       "      <td>...</td>\n",
       "      <td>...</td>\n",
       "      <td>...</td>\n",
       "    </tr>\n",
       "    <tr>\n",
       "      <th>137385</th>\n",
       "      <td>10190703</td>\n",
       "      <td>스스로가 대견하다. 영화관에서 보지 않고 집에서 본 것이 대견하고, 영화를 끝까지 ...</td>\n",
       "      <td>0</td>\n",
       "    </tr>\n",
       "    <tr>\n",
       "      <th>123652</th>\n",
       "      <td>8024536</td>\n",
       "      <td>전문 더빙 불렀으면 내가 10점은 준다 어휴</td>\n",
       "      <td>0</td>\n",
       "    </tr>\n",
       "    <tr>\n",
       "      <th>93780</th>\n",
       "      <td>9249676</td>\n",
       "      <td>어바웃타임, 비긴어게인 보다도 더 감동적이고 여운을 주는 영화.비긴어게인은 성시경 ...</td>\n",
       "      <td>1</td>\n",
       "    </tr>\n",
       "    <tr>\n",
       "      <th>8651</th>\n",
       "      <td>8111946</td>\n",
       "      <td>최고다 최고다...무혁아..</td>\n",
       "      <td>1</td>\n",
       "    </tr>\n",
       "    <tr>\n",
       "      <th>149297</th>\n",
       "      <td>9754603</td>\n",
       "      <td>결말이 궁금해서 끝까지 봤는데..정말 괜히봤다... 교훈을 얻고싶은데~강지환은 변해...</td>\n",
       "      <td>0</td>\n",
       "    </tr>\n",
       "  </tbody>\n",
       "</table>\n",
       "<p>100 rows × 3 columns</p>\n",
       "</div>"
      ],
      "text/plain": [
       "              id                                           document  label\n",
       "87690    8967787                 영화의 꿈과 감동을 주는 영화의 역사,영화를 위한 영화의 영화      1\n",
       "120061   9461567  아....공포스럽습니다...목욕바구니가...그리무서울줄이야....이번년도...마지막...      1\n",
       "36810    8850393  소재만 대박이고 완벽하게 망한 영화 진짜 이 영화도 명품 도자기 가져다가 개밥그릇으...      0\n",
       "83693     471166                                      아름답고 감동적인 이야기      1\n",
       "120099    238991                                                 좋다      1\n",
       "...          ...                                                ...    ...\n",
       "137385  10190703  스스로가 대견하다. 영화관에서 보지 않고 집에서 본 것이 대견하고, 영화를 끝까지 ...      0\n",
       "123652   8024536                           전문 더빙 불렀으면 내가 10점은 준다 어휴      0\n",
       "93780    9249676  어바웃타임, 비긴어게인 보다도 더 감동적이고 여운을 주는 영화.비긴어게인은 성시경 ...      1\n",
       "8651     8111946                                    최고다 최고다...무혁아..      1\n",
       "149297   9754603  결말이 궁금해서 끝까지 봤는데..정말 괜히봤다... 교훈을 얻고싶은데~강지환은 변해...      0\n",
       "\n",
       "[100 rows x 3 columns]"
      ]
     },
     "execution_count": 7,
     "metadata": {},
     "output_type": "execute_result"
    }
   ],
   "source": [
    "train_df"
   ]
  },
  {
   "cell_type": "code",
   "execution_count": 8,
   "id": "df6cf4a3-9fd3-4803-ac82-30a3e3a7c293",
   "metadata": {},
   "outputs": [],
   "source": [
    "# JSONL 파일 생성 함수\n",
    "def create_jsonl(df, filename):\n",
    "    with open(filename, 'w', encoding='utf-8') as f:\n",
    "        for i, item in df.iterrows():\n",
    "            doc = item['document']\n",
    "            label = '긍정' if item['label'] == 1 else '부정'\n",
    "            json_line = json.dumps({\"messages\": [{\"role\": \"system\", \"content\": \"user의 문장을 긍정 또는 부정으로 응답하라.\"},\n",
    "                                                 {\"role\": \"user\", \"content\": doc},\n",
    "                                                 {\"role\": \"assistant\", \"content\": label}\n",
    "                                                ],\n",
    "                                    }\n",
    "                                  ,ensure_ascii=False)\n",
    "            f.write(json_line + '\\n')"
   ]
  },
  {
   "cell_type": "code",
   "execution_count": 9,
   "id": "a8fa4c95-f60d-4a0e-83a3-be9202763ea7",
   "metadata": {},
   "outputs": [],
   "source": [
    "# 훈련 및 검증 데이터셋을 JSONL 파일로 변환\n",
    "create_jsonl(train_df, 'nsmc_train.jsonl')\n",
    "create_jsonl(valid_df, 'nsmc_valid.jsonl')"
   ]
  },
  {
   "cell_type": "code",
   "execution_count": null,
   "id": "174dc7bf-b32c-41ab-a5ce-9b5810495011",
   "metadata": {},
   "outputs": [],
   "source": []
  }
 ],
 "metadata": {
  "kernelspec": {
   "display_name": "Python 3 (ipykernel)",
   "language": "python",
   "name": "python3"
  },
  "language_info": {
   "codemirror_mode": {
    "name": "ipython",
    "version": 3
   },
   "file_extension": ".py",
   "mimetype": "text/x-python",
   "name": "python",
   "nbconvert_exporter": "python",
   "pygments_lexer": "ipython3",
   "version": "3.11.6"
  }
 },
 "nbformat": 4,
 "nbformat_minor": 5
}
