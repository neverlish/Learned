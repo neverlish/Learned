{
 "cells": [
  {
   "cell_type": "markdown",
   "id": "f87e5ff0-13c7-4aa5-b2e2-807b0808b0e2",
   "metadata": {},
   "source": [
    "# 프로필에서 키워드 추출하기"
   ]
  },
  {
   "cell_type": "markdown",
   "id": "14e3a829-00e4-40b0-84cd-936966c48de4",
   "metadata": {},
   "source": [
    "주어진 문서에서 키워드 추출하기"
   ]
  },
  {
   "cell_type": "code",
   "execution_count": 1,
   "id": "d649f177-0fc4-4c40-a1ef-89e4e1222670",
   "metadata": {},
   "outputs": [
    {
     "name": "stderr",
     "output_type": "stream",
     "text": [
      "/Users/hyeonjinho/.pyenv/versions/3.11.6/lib/python3.11/site-packages/IPython/core/interactiveshell.py:3577: LangChainDeprecationWarning: As of langchain-core 0.3.0, LangChain uses pydantic v2 internally. The langchain_core.pydantic_v1 module was a compatibility shim for pydantic v1, and should no longer be used. Please update the code to import from Pydantic directly.\n",
      "\n",
      "For example, replace imports like: `from langchain_core.pydantic_v1 import BaseModel`\n",
      "with: `from pydantic import BaseModel`\n",
      "or the v1 compatibility namespace if you are working in a code base that has not been fully upgraded to pydantic 2 yet. \tfrom pydantic.v1 import BaseModel\n",
      "\n",
      "  exec(code_obj, self.user_global_ns, self.user_ns)\n"
     ]
    }
   ],
   "source": [
    "from typing import List\n",
    "\n",
    "from langchain_openai import ChatOpenAI\n",
    "from langchain_core.prompts import ChatPromptTemplate, HumanMessagePromptTemplate\n",
    "from langchain_core.output_parsers import JsonOutputParser\n",
    "from langchain_core.pydantic_v1 import BaseModel, Field"
   ]
  },
  {
   "cell_type": "code",
   "execution_count": 2,
   "id": "6607492b-ef33-4c3f-a8b1-781d8d00db15",
   "metadata": {},
   "outputs": [],
   "source": [
    "model = ChatOpenAI(model=\"gpt-3.5-turbo\", temperature=0.8)"
   ]
  },
  {
   "cell_type": "code",
   "execution_count": 3,
   "id": "e77c95aa-c8a3-4b01-bc0c-a93787fdfd16",
   "metadata": {},
   "outputs": [],
   "source": [
    "class Keywords(BaseModel):\n",
    "    keyword_list: List[str] = Field(description=\"키워드 리스트\")"
   ]
  },
  {
   "cell_type": "code",
   "execution_count": 4,
   "id": "d1b902b8-a22f-435c-9960-b6031a085018",
   "metadata": {},
   "outputs": [
    {
     "data": {
      "text/plain": [
       "'The output should be formatted as a JSON instance that conforms to the JSON schema below.\\n\\nAs an example, for the schema {\"properties\": {\"foo\": {\"title\": \"Foo\", \"description\": \"a list of strings\", \"type\": \"array\", \"items\": {\"type\": \"string\"}}}, \"required\": [\"foo\"]}\\nthe object {\"foo\": [\"bar\", \"baz\"]} is a well-formatted instance of the schema. The object {\"properties\": {\"foo\": [\"bar\", \"baz\"]}} is not well-formatted.\\n\\nHere is the output schema:\\n```\\n{\"properties\": {\"keyword_list\": {\"title\": \"Keyword List\", \"description\": \"키워드 리스트\", \"type\": \"array\", \"items\": {\"type\": \"string\"}}}, \"required\": [\"keyword_list\"]}\\n```'"
      ]
     },
     "execution_count": 4,
     "metadata": {},
     "output_type": "execute_result"
    }
   ],
   "source": [
    "parser = JsonOutputParser(pydantic_object=Keywords)\n",
    "format_instructions = parser.get_format_instructions()\n",
    "format_instructions"
   ]
  },
  {
   "cell_type": "markdown",
   "id": "a3ef98ff-7838-4839-9f29-e2f4572ca5fe",
   "metadata": {},
   "source": [
    "\n",
    "### partials의 사용법 변경\n",
    "\n",
    "#### langchain==0.1.0 langchain-core==0.1.7\n",
    "\n",
    "```python\n",
    "human_prompt_template = HumanMessagePromptTemplate.from_template(\n",
    "                            \"{doc}\\n{format_instructions}\",\n",
    "                            partial_variables={\"format_instructions\": format_instructions})\n",
    "\n",
    "prompt = ChatPromptTemplate.from_messages(\n",
    "    [\n",
    "        human_prompt_template,\n",
    "    ])\n",
    "```\n",
    "\n",
    "#### langchain=0.1.9 langchain-core==0.1.26\n",
    "\n",
    "```python\n",
    "human_prompt_template = HumanMessagePromptTemplate.from_template(\n",
    "                            \"{doc}\\n{format_instructions}\")\n",
    "\n",
    "prompt = ChatPromptTemplate.from_messages(\n",
    "    [\n",
    "        human_prompt_template,\n",
    "    ])\n",
    "prompt = prompt.partial(format_instructions=format_instructions)\n",
    "```"
   ]
  },
  {
   "cell_type": "code",
   "execution_count": 5,
   "id": "79e9186f-bcb0-4831-8661-1e22851170a6",
   "metadata": {},
   "outputs": [],
   "source": [
    "human_prompt_template = HumanMessagePromptTemplate.from_template(\n",
    "                            \"{doc}\\n위 자기소개에서 키워드를 추출해줘\\n{format_instructions}\")\n",
    "\n",
    "prompt = ChatPromptTemplate.from_messages(\n",
    "    [\n",
    "        human_prompt_template,\n",
    "    ])\n",
    "prompt = prompt.partial(format_instructions=format_instructions)"
   ]
  },
  {
   "cell_type": "code",
   "execution_count": 6,
   "id": "8af74cd5-9bb9-43cd-88f2-712396a262bb",
   "metadata": {},
   "outputs": [],
   "source": [
    "extract_keyword_chain = prompt | model | parser"
   ]
  },
  {
   "cell_type": "code",
   "execution_count": 7,
   "id": "839b7a37-3373-4d60-9791-bbe321608efa",
   "metadata": {},
   "outputs": [
    {
     "name": "stdout",
     "output_type": "stream",
     "text": [
      "안녕하세요! 저는 20대 평범한 직장인으로서 일상적인 업무를 열심히 수행하며 조직 내에서 소통과 협업을 중요시하는 직장인입니다. 전공과 관련된 분야에서 근무하고 있으며, 열정적이고 책임감 있는 태도로 업무에 임하고 있습니다. 항상 새로운 것을 배우고 성장하기 위해 노력하며, 동료들과 함께 일하는 것을 즐기고 있습니다. 현재의 직무에서 더 나은 결과를 이루기 위해 노력하며, 조직의 발전에 기여하기 위해 노력하고 있습니다. 함께 일하게 된다면 긍정적이고 협력적인 모습을 보여드리겠습니다. 감사합니다.\n"
     ]
    }
   ],
   "source": [
    "profile = model.invoke(\"20대 평범한 직장인 자기소개 하나 만들어줘\").content\n",
    "print(profile)"
   ]
  },
  {
   "cell_type": "code",
   "execution_count": 8,
   "id": "a73c8dfe-4fdf-427d-836e-0bb65a70d785",
   "metadata": {},
   "outputs": [
    {
     "data": {
      "text/plain": [
       "{'keyword_list': ['20대',\n",
       "  '평범한 직장인',\n",
       "  '일상적인 업무',\n",
       "  '조직 내',\n",
       "  '소통',\n",
       "  '협업',\n",
       "  '전공',\n",
       "  '근무',\n",
       "  '열정적',\n",
       "  '책임감',\n",
       "  '새로운 것',\n",
       "  '배우기',\n",
       "  '성장',\n",
       "  '노력',\n",
       "  '동료들',\n",
       "  '즐기기',\n",
       "  '직무',\n",
       "  '더 나은 결과',\n",
       "  '조직의 발전',\n",
       "  '긍정적',\n",
       "  '협력적']}"
      ]
     },
     "execution_count": 8,
     "metadata": {},
     "output_type": "execute_result"
    }
   ],
   "source": [
    "extract_keyword_chain.invoke({'doc': profile})"
   ]
  },
  {
   "cell_type": "code",
   "execution_count": null,
   "id": "b33fe046-31cd-4c37-a4a2-99a7a752b36c",
   "metadata": {},
   "outputs": [],
   "source": []
  }
 ],
 "metadata": {
  "kernelspec": {
   "display_name": "Python 3 (ipykernel)",
   "language": "python",
   "name": "python3"
  },
  "language_info": {
   "codemirror_mode": {
    "name": "ipython",
    "version": 3
   },
   "file_extension": ".py",
   "mimetype": "text/x-python",
   "name": "python",
   "nbconvert_exporter": "python",
   "pygments_lexer": "ipython3",
   "version": "3.11.6"
  }
 },
 "nbformat": 4,
 "nbformat_minor": 5
}
