{
 "cells": [
  {
   "cell_type": "markdown",
   "id": "e718323b-fea6-4d05-9d18-7a51593c348c",
   "metadata": {},
   "source": [
    "# 키워드 기반 매칭 프로필 검색"
   ]
  },
  {
   "cell_type": "markdown",
   "id": "74fd9600-6951-4afc-9da5-00ee85f8213a",
   "metadata": {},
   "source": [
    "## 실습을 위한 프로필 데이터베이스 만들기"
   ]
  },
  {
   "cell_type": "code",
   "execution_count": 1,
   "id": "bafc34f8-a63d-4c7d-a39d-cbd2b143e177",
   "metadata": {},
   "outputs": [
    {
     "name": "stderr",
     "output_type": "stream",
     "text": [
      "/Users/hyeonjinho/.pyenv/versions/3.11.6/lib/python3.11/site-packages/IPython/core/interactiveshell.py:3577: LangChainDeprecationWarning: As of langchain-core 0.3.0, LangChain uses pydantic v2 internally. The langchain_core.pydantic_v1 module was a compatibility shim for pydantic v1, and should no longer be used. Please update the code to import from Pydantic directly.\n",
      "\n",
      "For example, replace imports like: `from langchain_core.pydantic_v1 import BaseModel`\n",
      "with: `from pydantic import BaseModel`\n",
      "or the v1 compatibility namespace if you are working in a code base that has not been fully upgraded to pydantic 2 yet. \tfrom pydantic.v1 import BaseModel\n",
      "\n",
      "  exec(code_obj, self.user_global_ns, self.user_ns)\n"
     ]
    }
   ],
   "source": [
    "from typing import List\n",
    "import json\n",
    "\n",
    "import pandas as pd\n",
    "from tqdm.auto import tqdm\n",
    "from langchain_openai import ChatOpenAI\n",
    "from langchain_core.prompts import ChatPromptTemplate, HumanMessagePromptTemplate\n",
    "from langchain_core.output_parsers import JsonOutputParser\n",
    "from langchain_core.pydantic_v1 import BaseModel, Field"
   ]
  },
  {
   "cell_type": "code",
   "execution_count": 2,
   "id": "ca207417-1839-485f-b61f-3111cc01fcce",
   "metadata": {},
   "outputs": [],
   "source": [
    "model = ChatOpenAI(model=\"gpt-4-turbo-preview\", temperature=0.8)"
   ]
  },
  {
   "cell_type": "code",
   "execution_count": 3,
   "id": "dd561b74-4861-43a6-acf4-9db6d5606883",
   "metadata": {},
   "outputs": [],
   "source": [
    "class Profile(BaseModel):\n",
    "    name: str = Field(description=\"이름\")\n",
    "    age: int = Field(description=\"나이, 20~40\")\n",
    "    gender: str = Field(description=\"성별: '남자' 또는 '여자'\")\n",
    "    job: int = Field(description=\"직업\")\n",
    "    bio: str = Field(description=\"자기소개\")\n",
    "    keywords: List[str] = Field(description=\"profile을 설명하는 키워드들\")"
   ]
  },
  {
   "cell_type": "code",
   "execution_count": 4,
   "id": "47ca21d1-ce6f-4d14-974a-7eb81d9a9927",
   "metadata": {},
   "outputs": [],
   "source": [
    "class ProfileList(BaseModel):\n",
    "    profile_list: List[Profile] = Field(description=\"소개팅 프로필\")"
   ]
  },
  {
   "cell_type": "code",
   "execution_count": 5,
   "id": "ab35b3a7-c03a-4126-a90b-78f71e995814",
   "metadata": {},
   "outputs": [
    {
     "data": {
      "text/plain": [
       "'The output should be formatted as a JSON instance that conforms to the JSON schema below.\\n\\nAs an example, for the schema {\"properties\": {\"foo\": {\"title\": \"Foo\", \"description\": \"a list of strings\", \"type\": \"array\", \"items\": {\"type\": \"string\"}}}, \"required\": [\"foo\"]}\\nthe object {\"foo\": [\"bar\", \"baz\"]} is a well-formatted instance of the schema. The object {\"properties\": {\"foo\": [\"bar\", \"baz\"]}} is not well-formatted.\\n\\nHere is the output schema:\\n```\\n{\"properties\": {\"profile_list\": {\"title\": \"Profile List\", \"description\": \"소개팅 프로필\", \"type\": \"array\", \"items\": {\"$ref\": \"#/definitions/Profile\"}}}, \"required\": [\"profile_list\"], \"definitions\": {\"Profile\": {\"title\": \"Profile\", \"type\": \"object\", \"properties\": {\"name\": {\"title\": \"Name\", \"description\": \"이름\", \"type\": \"string\"}, \"age\": {\"title\": \"Age\", \"description\": \"나이, 20~40\", \"type\": \"integer\"}, \"gender\": {\"title\": \"Gender\", \"description\": \"성별: \\'남자\\' 또는 \\'여자\\'\", \"type\": \"string\"}, \"job\": {\"title\": \"Job\", \"description\": \"직업\", \"type\": \"integer\"}, \"bio\": {\"title\": \"Bio\", \"description\": \"자기소개\", \"type\": \"string\"}, \"keywords\": {\"title\": \"Keywords\", \"description\": \"profile을 설명하는 키워드들\", \"type\": \"array\", \"items\": {\"type\": \"string\"}}}, \"required\": [\"name\", \"age\", \"gender\", \"job\", \"bio\", \"keywords\"]}}}\\n```'"
      ]
     },
     "execution_count": 5,
     "metadata": {},
     "output_type": "execute_result"
    }
   ],
   "source": [
    "parser = JsonOutputParser(pydantic_object=ProfileList)\n",
    "format_instructions = parser.get_format_instructions()\n",
    "format_instructions"
   ]
  },
  {
   "cell_type": "code",
   "execution_count": 6,
   "id": "bb9db603-afbf-435e-bc65-968ba543750c",
   "metadata": {},
   "outputs": [
    {
     "data": {
      "text/plain": [
       "'{\"name\": \"박지민\", \"age\": 25, \"gender\": \"여자\", \"job\": \"마케터\", \"bio\": \"안녕하세요. 25살 박지민입니다. 저는 마케터로 일하고 있어요. 새로운 아이디어를 내는 것을 좋아하고, 사람들과 소통하는 것을 즐깁니다. 영화, 독서가 취미입니다.\", \"keywords\": [\"아이디어\", \"소통\", \"영화\", \"독서\"]}'"
      ]
     },
     "execution_count": 6,
     "metadata": {},
     "output_type": "execute_result"
    }
   ],
   "source": [
    "example = {\"name\":\"박지민\",\n",
    "           \"age\":25,\n",
    "           \"gender\":\"여자\",\n",
    "           \"job\":\"마케터\",\n",
    "           \"bio\":\"안녕하세요. 25살 박지민입니다. 저는 마케터로 일하고 있어요. 새로운 아이디어를 내는 것을 좋아하고, 사람들과 소통하는 것을 즐깁니다. 영화, 독서가 취미입니다.\",\n",
    "           \"keywords\":[\"아이디어\",\"소통\",\"영화\", \"독서\"]}\n",
    "example_text = json.dumps(example, ensure_ascii=False)\n",
    "example_text"
   ]
  },
  {
   "cell_type": "code",
   "execution_count": 7,
   "id": "d3ca4a29-09e1-4c95-9ad3-f7a2494c2b5c",
   "metadata": {},
   "outputs": [],
   "source": [
    "human_prompt_template = HumanMessagePromptTemplate.from_template(\n",
    "                            \"소개팅 프로필 {number}개 만들어줘. bio를 작성 할 때는 기존 것들과 비슷하지 않고 다양한 형식으로 만들어줘.\\n\"\n",
    "                            \"# 예시\\n\"\n",
    "                            \"{example}\\n\"\n",
    "                            \"{format_instructions}\")\n",
    "\n",
    "prompt = ChatPromptTemplate.from_messages(\n",
    "    [\n",
    "        human_prompt_template,\n",
    "    ])\n",
    "prompt = prompt.partial(example=example_text, format_instructions=format_instructions)"
   ]
  },
  {
   "cell_type": "code",
   "execution_count": 8,
   "id": "12a2a9f5-f86d-43d3-8fd2-a823c6205353",
   "metadata": {},
   "outputs": [],
   "source": [
    "profile_gen_chain = prompt | model | parser"
   ]
  },
  {
   "cell_type": "code",
   "execution_count": 9,
   "id": "4ea733cd-4cbe-422f-885c-b31eb0b3715f",
   "metadata": {},
   "outputs": [
    {
     "data": {
      "text/plain": [
       "[{'name': '이태준',\n",
       "  'age': 30,\n",
       "  'gender': '남자',\n",
       "  'job': '소프트웨어 엔지니어',\n",
       "  'bio': '코드와 함께하는 삶을 즐기는 이태준입니다. 문제를 해결하는 것에 큰 보람을 느끼고, 항상 새로운 기술을 배우는 것에 열정적입니다. 여행과 사진 찍기를 좋아하며, 자연 속에서 영감을 받아 새로운 프로젝트를 구상하기도 합니다.',\n",
       "  'keywords': ['코딩', '문제 해결', '학습', '여행', '사진']},\n",
       " {'name': '정은지',\n",
       "  'age': 27,\n",
       "  'gender': '여자',\n",
       "  'job': '디자이너',\n",
       "  'bio': '세상을 아름답게 만드는 것이 저의 꿈, 정은지입니다. 디테일에 집중하는 디자이너로서, 사용자 경험을 최우선으로 생각합니다. 미술관 방문을 취미로 삼고 있으며, 여가 시간에는 요가와 명상을 통해 내면의 평화를 찾습니다.',\n",
       "  'keywords': ['디자인', '사용자 경험', '미술관', '요가', '명상']}]"
      ]
     },
     "execution_count": 9,
     "metadata": {},
     "output_type": "execute_result"
    }
   ],
   "source": [
    "profile_obj = profile_gen_chain.invoke({\"number\": 2})\n",
    "profile_obj['profile_list']"
   ]
  },
  {
   "cell_type": "code",
   "execution_count": 10,
   "id": "a5ce981f-194d-418e-9a04-25b74c23d297",
   "metadata": {},
   "outputs": [
    {
     "data": {
      "application/vnd.jupyter.widget-view+json": {
       "model_id": "7952ea022da64b60bd075c46e32d731c",
       "version_major": 2,
       "version_minor": 0
      },
      "text/plain": [
       "  0%|          | 0/3 [00:00<?, ?it/s]"
      ]
     },
     "metadata": {},
     "output_type": "display_data"
    }
   ],
   "source": [
    "n_iter = 3\n",
    "profile_list = []\n",
    "for _ in tqdm(range(n_iter)):\n",
    "    profile_obj = profile_gen_chain.invoke({\"number\": 10})\n",
    "    profile_list.extend(profile_obj['profile_list'])"
   ]
  },
  {
   "cell_type": "code",
   "execution_count": 11,
   "id": "c25bbbb1-6270-4672-887e-962966968041",
   "metadata": {},
   "outputs": [],
   "source": [
    "df = pd.DataFrame(profile_list)"
   ]
  },
  {
   "cell_type": "code",
   "execution_count": 12,
   "id": "78e4a97b-cf34-4f28-bc1a-96fd586dcd8c",
   "metadata": {},
   "outputs": [],
   "source": [
    "df.to_json(\"profile_db.jsonl\", orient='records', lines=True, force_ascii=False)"
   ]
  },
  {
   "cell_type": "code",
   "execution_count": 13,
   "id": "9fbade29-ee82-451a-8c22-aeea488396a0",
   "metadata": {},
   "outputs": [
    {
     "data": {
      "text/plain": [
       "{'profile_list': [{'name': '김태영',\n",
       "   'age': 30,\n",
       "   'gender': '남자',\n",
       "   'job': '소프트웨어 엔지니어',\n",
       "   'bio': '코드 한 줄로 세상을 바꾸는 꿈을 꾸는 개발자입니다. 새로운 기술에 대한 호기심이 많고, 여행을 통해 영감을 얻습니다.',\n",
       "   'keywords': ['코딩', '여행', '기술']},\n",
       "  {'name': '이소윤',\n",
       "   'age': 27,\n",
       "   'gender': '여자',\n",
       "   'job': '그래픽 디자이너',\n",
       "   'bio': '색채와 무늬로 세상에 아름다움을 더하고 싶은 디자이너. 캔버스에 그림을 그리는 것처럼 삶을 아름답게 그려나가고 있습니다.',\n",
       "   'keywords': ['디자인', '미술', '창조']},\n",
       "  {'name': '정민수',\n",
       "   'age': 32,\n",
       "   'gender': '남자',\n",
       "   'job': '운동선수',\n",
       "   'bio': '모든 순간을 열정적으로 살아내는 운동선수입니다. 스포츠를 통해 배운 팀워크와 도전 정신을 중요하게 생각합니다.',\n",
       "   'keywords': ['운동', '팀워크', '도전']},\n",
       "  {'name': '류하나',\n",
       "   'age': 29,\n",
       "   'gender': '여자',\n",
       "   'job': '요리사',\n",
       "   'bio': '맛있는 음식으로 사람들의 마음을 따뜻하게 해주는 요리사입니다. 음식을 통해 전하는 사랑을 믿습니다.',\n",
       "   'keywords': ['요리', '음식', '사랑']},\n",
       "  {'name': '박준혁',\n",
       "   'age': 34,\n",
       "   'gender': '남자',\n",
       "   'job': '자영업자',\n",
       "   'bio': '새로운 아이디어로 끊임없이 도전하는 창업가. 성공과 실패를 넘어서는 것이 진정한 배움이라 믿습니다.',\n",
       "   'keywords': ['창업', '도전', '배움']},\n",
       "  {'name': '최윤아',\n",
       "   'age': 26,\n",
       "   'gender': '여자',\n",
       "   'job': '사진작가',\n",
       "   'bio': '세상의 순간들을 영원히 기록하는 것에 행복을 느끼는 사진작가. 삶의 아름다운 순간을 카메라에 담고 싶습니다.',\n",
       "   'keywords': ['사진', '예술', '기록']},\n",
       "  {'name': '한지훈',\n",
       "   'age': 28,\n",
       "   'gender': '남자',\n",
       "   'job': '경찰관',\n",
       "   'bio': '사회의 안전과 정의를 위해 헌신하는 경찰관입니다. 법과 원칙을 지키며, 언제나 시민의 편에 서고자 합니다.',\n",
       "   'keywords': ['정의', '안전', '헌신']},\n",
       "  {'name': '김서연',\n",
       "   'age': 31,\n",
       "   'gender': '여자',\n",
       "   'job': '작가',\n",
       "   'bio': '말보다는 글로 세상과 소통하는 작가. 새로운 이야기를 창조하며, 독서와 글쓰기를 통해 삶을 이해하려 합니다.',\n",
       "   'keywords': ['글쓰기', '독서', '창조']},\n",
       "  {'name': '오민석',\n",
       "   'age': 35,\n",
       "   'gender': '남자',\n",
       "   'job': '교사',\n",
       "   'bio': '지식을 나누며 미래 세대를 양성하는 교사입니다. 학생들의 꿈과 미래를 위해 최선을 다하고 있습니다.',\n",
       "   'keywords': ['교육', '미래', '지식']},\n",
       "  {'name': '송지은',\n",
       "   'age': 24,\n",
       "   'gender': '여자',\n",
       "   'job': '대학생',\n",
       "   'bio': '세상에 대한 호기심으로 가득 찬 대학생입니다. 다양한 경험을 통해 스스로를 발전시키고자 합니다.',\n",
       "   'keywords': ['호기심', '경험', '발전']}]}"
      ]
     },
     "execution_count": 13,
     "metadata": {},
     "output_type": "execute_result"
    }
   ],
   "source": [
    "profile_obj"
   ]
  },
  {
   "cell_type": "code",
   "execution_count": null,
   "id": "a1950a6a-fbe0-46b7-ae49-e4bd85501f85",
   "metadata": {},
   "outputs": [],
   "source": []
  }
 ],
 "metadata": {
  "kernelspec": {
   "display_name": "Python 3 (ipykernel)",
   "language": "python",
   "name": "python3"
  },
  "language_info": {
   "codemirror_mode": {
    "name": "ipython",
    "version": 3
   },
   "file_extension": ".py",
   "mimetype": "text/x-python",
   "name": "python",
   "nbconvert_exporter": "python",
   "pygments_lexer": "ipython3",
   "version": "3.11.6"
  }
 },
 "nbformat": 4,
 "nbformat_minor": 5
}
