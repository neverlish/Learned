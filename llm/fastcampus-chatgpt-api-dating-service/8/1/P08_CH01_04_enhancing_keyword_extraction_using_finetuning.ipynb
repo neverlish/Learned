{
 "cells": [
  {
   "cell_type": "markdown",
   "id": "6579f1d6-a64e-4587-9259-966fb4447848",
   "metadata": {},
   "source": [
    "# Finetuning을 통해 키워드 추출 고도화 하기"
   ]
  },
  {
   "cell_type": "markdown",
   "id": "25865677-6a8d-4e4e-b495-86a27e51cc19",
   "metadata": {},
   "source": [
    "Keyword extraction 성능 고도화 방법\n",
    "- 정제된 데이터로 학습\n",
    "- Knowledge Distillation\n",
    "  - Knowledge Distillation from Teacher model\n",
    "  - In Context Distillation "
   ]
  },
  {
   "cell_type": "code",
   "execution_count": 1,
   "id": "47311672-2cb9-4908-8e89-cb4d3ce0f896",
   "metadata": {},
   "outputs": [
    {
     "name": "stderr",
     "output_type": "stream",
     "text": [
      "/Users/hyeonjinho/.pyenv/versions/3.11.6/lib/python3.11/site-packages/IPython/core/interactiveshell.py:3577: LangChainDeprecationWarning: As of langchain-core 0.3.0, LangChain uses pydantic v2 internally. The langchain_core.pydantic_v1 module was a compatibility shim for pydantic v1, and should no longer be used. Please update the code to import from Pydantic directly.\n",
      "\n",
      "For example, replace imports like: `from langchain_core.pydantic_v1 import BaseModel`\n",
      "with: `from pydantic import BaseModel`\n",
      "or the v1 compatibility namespace if you are working in a code base that has not been fully upgraded to pydantic 2 yet. \tfrom pydantic.v1 import BaseModel\n",
      "\n",
      "  exec(code_obj, self.user_global_ns, self.user_ns)\n"
     ]
    }
   ],
   "source": [
    "from typing import List, Dict\n",
    "from collections import Counter\n",
    "import random\n",
    "import json\n",
    "\n",
    "import pandas as pd\n",
    "from tqdm.auto import tqdm\n",
    "from langchain_openai import ChatOpenAI\n",
    "from langchain_core.prompts import ChatPromptTemplate, HumanMessagePromptTemplate\n",
    "from langchain_core.output_parsers import JsonOutputParser\n",
    "from langchain_core.pydantic_v1 import BaseModel, Field"
   ]
  },
  {
   "cell_type": "code",
   "execution_count": 2,
   "id": "566b4b19-0f3d-423e-acac-8a3c752ab6b3",
   "metadata": {},
   "outputs": [],
   "source": [
    "model_3_5 = ChatOpenAI(model=\"gpt-3.5-turbo\", temperature=0)\n",
    "model_4 = ChatOpenAI(model=\"gpt-4-turbo-preview\", temperature=0)"
   ]
  },
  {
   "cell_type": "markdown",
   "id": "512d4a52-d075-435d-abf3-68ea986f7d3e",
   "metadata": {},
   "source": [
    "## gpt-4-turbo vs gpt-3.5-turbo의 키워드 추출 성능 비교"
   ]
  },
  {
   "cell_type": "code",
   "execution_count": 3,
   "id": "11abc1f8-e0fb-451f-a8b5-5ba69c911540",
   "metadata": {},
   "outputs": [],
   "source": [
    "class Keywords(BaseModel):\n",
    "    keyword_list: List[str] = Field(description=\"키워드 리스트\")\n",
    "\n",
    "parser = JsonOutputParser(pydantic_object=Keywords)\n",
    "format_instructions = parser.get_format_instructions()\n",
    "\n",
    "human_prompt_template = HumanMessagePromptTemplate.from_template(\n",
    "                            \"{doc}\\n{format_instructions}\")\n",
    "\n",
    "prompt = ChatPromptTemplate.from_messages(\n",
    "    [\n",
    "        human_prompt_template,\n",
    "    ])\n",
    "\n",
    "prompt = prompt.partial(format_instructions=format_instructions)\n",
    "\n",
    "extract_keyword_chain_3_5 = prompt | model_3_5 | parser\n",
    "extract_keyword_chain_4 = prompt | model_4| parser"
   ]
  },
  {
   "cell_type": "code",
   "execution_count": 4,
   "id": "9942e9fa-0d06-4e50-b6d1-a6d3502719d9",
   "metadata": {},
   "outputs": [],
   "source": [
    "profile =\"\"\"\\\n",
    "이름: 김지훈\n",
    "나이: 29\n",
    "성별: 남자\n",
    "직업: 소프트웨어 엔지니어\n",
    "자기소개: 안녕하세요! 저는 김지훈이라고 합니다. 현재 나이는 29살이고, 성별은 남자입니다. 제 직업은 소프트웨어 엔지니어로, 코드를 짜는 것뿐만 아니라 커피 한 잔과 함께 새로운 기술을 탐구하는 것을 매우 좋아합니다. 개발자로서의 제 삶은 항상 새로운 것을 배우고, 문제를 해결하는 과정에서 큰 만족감을 느낍니다.\\n\\n저는 개발자로서의 삶 외에도 개인적인 취미를 가지고 있습니다. 특히 주말이 되면, 도시의 분주함을 벗어나 자연 속으로 들어가는 것을 좋아합니다. \n",
    "\"\"\""
   ]
  },
  {
   "cell_type": "code",
   "execution_count": 5,
   "id": "c4cbc17a-da58-4c37-93c2-1e20e18d21ab",
   "metadata": {},
   "outputs": [
    {
     "data": {
      "text/plain": [
       "{'keyword_list': ['이름', '나이', '성별', '직업', '자기소개']}"
      ]
     },
     "execution_count": 5,
     "metadata": {},
     "output_type": "execute_result"
    }
   ],
   "source": [
    "extract_keyword_chain_3_5.invoke({'doc': profile})"
   ]
  },
  {
   "cell_type": "code",
   "execution_count": 6,
   "id": "fc13868b-16ca-451b-ba0d-4a961d614ba3",
   "metadata": {},
   "outputs": [
    {
     "data": {
      "text/plain": [
       "{'keyword_list': ['김지훈',\n",
       "  '29',\n",
       "  '남자',\n",
       "  '소프트웨어 엔지니어',\n",
       "  '코드',\n",
       "  '커피',\n",
       "  '새로운 기술',\n",
       "  '개발자',\n",
       "  '학습',\n",
       "  '문제 해결',\n",
       "  '자연',\n",
       "  '주말']}"
      ]
     },
     "execution_count": 6,
     "metadata": {},
     "output_type": "execute_result"
    }
   ],
   "source": [
    "extract_keyword_chain_4.invoke({'doc': profile})"
   ]
  },
  {
   "cell_type": "markdown",
   "id": "7862b9f8-a40a-42e5-8123-5ad003ef1f3d",
   "metadata": {},
   "source": [
    "## Distillation 데이터셋 만들기"
   ]
  },
  {
   "cell_type": "code",
   "execution_count": 7,
   "id": "6bf7ac19-436a-4d78-830d-5c3e185e9352",
   "metadata": {},
   "outputs": [],
   "source": [
    "df = pd.read_json(\"./profile_db.jsonl\", orient=\"records\", lines=True)"
   ]
  },
  {
   "cell_type": "code",
   "execution_count": 8,
   "id": "452afe5a-d30d-4da0-9db3-09c790c337e8",
   "metadata": {},
   "outputs": [
    {
     "data": {
      "text/html": [
       "<div>\n",
       "<style scoped>\n",
       "    .dataframe tbody tr th:only-of-type {\n",
       "        vertical-align: middle;\n",
       "    }\n",
       "\n",
       "    .dataframe tbody tr th {\n",
       "        vertical-align: top;\n",
       "    }\n",
       "\n",
       "    .dataframe thead th {\n",
       "        text-align: right;\n",
       "    }\n",
       "</style>\n",
       "<table border=\"1\" class=\"dataframe\">\n",
       "  <thead>\n",
       "    <tr style=\"text-align: right;\">\n",
       "      <th></th>\n",
       "      <th>name</th>\n",
       "      <th>age</th>\n",
       "      <th>gender</th>\n",
       "      <th>job</th>\n",
       "      <th>bio</th>\n",
       "      <th>keywords</th>\n",
       "    </tr>\n",
       "  </thead>\n",
       "  <tbody>\n",
       "    <tr>\n",
       "      <th>0</th>\n",
       "      <td>김태현</td>\n",
       "      <td>28</td>\n",
       "      <td>남자</td>\n",
       "      <td>개발자</td>\n",
       "      <td>코드 한 줄로 세상을 바꾸려 노력하는 개발자입니다. 여행을 좋아하고, 새로운 기술을...</td>\n",
       "      <td>[코딩, 여행, 기술]</td>\n",
       "    </tr>\n",
       "    <tr>\n",
       "      <th>1</th>\n",
       "      <td>이하은</td>\n",
       "      <td>26</td>\n",
       "      <td>여자</td>\n",
       "      <td>디자이너</td>\n",
       "      <td>오늘보다 나은 내일을 디자인합니다. 삶의 모든 순간에서 영감을 받고, 그것을 나의 ...</td>\n",
       "      <td>[디자인, 영감, 창작]</td>\n",
       "    </tr>\n",
       "    <tr>\n",
       "      <th>2</th>\n",
       "      <td>정민수</td>\n",
       "      <td>30</td>\n",
       "      <td>남자</td>\n",
       "      <td>교사</td>\n",
       "      <td>아이들에게 꿈을 심어주는 초등학교 교사입니다. 책 읽기와 산책을 즐깁니다. 세상 모...</td>\n",
       "      <td>[교육, 독서, 산책]</td>\n",
       "    </tr>\n",
       "    <tr>\n",
       "      <th>3</th>\n",
       "      <td>조아라</td>\n",
       "      <td>27</td>\n",
       "      <td>여자</td>\n",
       "      <td>작가</td>\n",
       "      <td>마음을 움직이는 이야기를 쓰는 작가입니다. 사람들의 이야기에 귀 기울이며, 그것을 ...</td>\n",
       "      <td>[글쓰기, 독서, 이야기]</td>\n",
       "    </tr>\n",
       "    <tr>\n",
       "      <th>4</th>\n",
       "      <td>한지용</td>\n",
       "      <td>32</td>\n",
       "      <td>남자</td>\n",
       "      <td>운동선수</td>\n",
       "      <td>몸을 움직이는 것을 좋아하는 운동선수입니다. 목표를 향해 끊임없이 도전하는 것을 즐...</td>\n",
       "      <td>[운동, 도전, 목표]</td>\n",
       "    </tr>\n",
       "    <tr>\n",
       "      <th>5</th>\n",
       "      <td>유서연</td>\n",
       "      <td>29</td>\n",
       "      <td>여자</td>\n",
       "      <td>연구원</td>\n",
       "      <td>새로운 발견에 항상 흥미를 느끼는 연구원입니다. 실험실에서 보내는 시간 외에도, 새...</td>\n",
       "      <td>[연구, 문화, 발견]</td>\n",
       "    </tr>\n",
       "    <tr>\n",
       "      <th>6</th>\n",
       "      <td>박준호</td>\n",
       "      <td>31</td>\n",
       "      <td>남자</td>\n",
       "      <td>사진작가</td>\n",
       "      <td>세상의 아름다운 순간들을 카메라에 담는 사진작가입니다. 여행을 통해 새로운 풍경과 ...</td>\n",
       "      <td>[사진, 여행, 풍경]</td>\n",
       "    </tr>\n",
       "    <tr>\n",
       "      <th>7</th>\n",
       "      <td>손희주</td>\n",
       "      <td>24</td>\n",
       "      <td>여자</td>\n",
       "      <td>간호사</td>\n",
       "      <td>사람들의 건강을 돌보는 것에 큰 자부심을 느끼는 간호사입니다. 여가 시간에는 요가와...</td>\n",
       "      <td>[건강, 요가, 돌봄]</td>\n",
       "    </tr>\n",
       "    <tr>\n",
       "      <th>8</th>\n",
       "      <td>오창민</td>\n",
       "      <td>34</td>\n",
       "      <td>남자</td>\n",
       "      <td>엔지니어</td>\n",
       "      <td>복잡한 문제를 해결하는 것을 즐기는 엔지니어입니다. 기계와 기술에 대한 열정을 가지...</td>\n",
       "      <td>[문제해결, 기술, 자동차]</td>\n",
       "    </tr>\n",
       "    <tr>\n",
       "      <th>9</th>\n",
       "      <td>김혜진</td>\n",
       "      <td>35</td>\n",
       "      <td>여자</td>\n",
       "      <td>마케터</td>\n",
       "      <td>브랜드의 이야기를 전하는 것을 좋아하는 마케터입니다. 소셜 미디어와 디지털 컨텐츠에...</td>\n",
       "      <td>[브랜딩, 소셜미디어, 요리]</td>\n",
       "    </tr>\n",
       "    <tr>\n",
       "      <th>10</th>\n",
       "      <td>김태현</td>\n",
       "      <td>30</td>\n",
       "      <td>남자</td>\n",
       "      <td>개발자</td>\n",
       "      <td>코드와 함께 살아가는 개발자입니다. 새로운 기술을 배우는 것을 좋아하며, 주말엔 산...</td>\n",
       "      <td>[코딩, 등산, 학습욕구]</td>\n",
       "    </tr>\n",
       "    <tr>\n",
       "      <th>11</th>\n",
       "      <td>이영은</td>\n",
       "      <td>28</td>\n",
       "      <td>여자</td>\n",
       "      <td>디자이너</td>\n",
       "      <td>세상을 아름답게 만드는 디자이너, 감성과 아이디어로 삶에 색을 칠합니다. 카페 탐방...</td>\n",
       "      <td>[디자인, 카페, 사진]</td>\n",
       "    </tr>\n",
       "    <tr>\n",
       "      <th>12</th>\n",
       "      <td>조민수</td>\n",
       "      <td>32</td>\n",
       "      <td>남자</td>\n",
       "      <td>의사</td>\n",
       "      <td>사람을 치유하는 것은 제 삶의 보람입니다. 책을 읽거나 음악을 듣는 것으로 하루를 ...</td>\n",
       "      <td>[의료, 독서, 음악]</td>\n",
       "    </tr>\n",
       "    <tr>\n",
       "      <th>13</th>\n",
       "      <td>박서영</td>\n",
       "      <td>26</td>\n",
       "      <td>여자</td>\n",
       "      <td>교사</td>\n",
       "      <td>미래를 밝히는 어린이들과 함께하는 교사입니다. 요리와 베이킹으로 스트레스를 풀죠.</td>\n",
       "      <td>[교육, 요리, 베이킹]</td>\n",
       "    </tr>\n",
       "    <tr>\n",
       "      <th>14</th>\n",
       "      <td>윤대현</td>\n",
       "      <td>34</td>\n",
       "      <td>남자</td>\n",
       "      <td>경영자</td>\n",
       "      <td>도전을 두려워하지 않는 스타트업 경영자. 새로운 사람을 만나는 것을 좋아하며, 여행...</td>\n",
       "      <td>[스타트업, 네트워킹, 여행]</td>\n",
       "    </tr>\n",
       "    <tr>\n",
       "      <th>15</th>\n",
       "      <td>황지아</td>\n",
       "      <td>29</td>\n",
       "      <td>여자</td>\n",
       "      <td>작가</td>\n",
       "      <td>말보다는 글로 소통하는 작가. 삶의 다양한 순간들을 글로 남기며, 고양이와 산책하는...</td>\n",
       "      <td>[글쓰기, 독서, 고양이]</td>\n",
       "    </tr>\n",
       "    <tr>\n",
       "      <th>16</th>\n",
       "      <td>정태원</td>\n",
       "      <td>27</td>\n",
       "      <td>남자</td>\n",
       "      <td>피트니스 트레이너</td>\n",
       "      <td>몸과 마음의 건강을 중요하게 생각하는 피트니스 트레이너. 일과 취미가 일치해 행복합...</td>\n",
       "      <td>[건강, 운동, 야외활동]</td>\n",
       "    </tr>\n",
       "    <tr>\n",
       "      <th>17</th>\n",
       "      <td>서혜린</td>\n",
       "      <td>31</td>\n",
       "      <td>여자</td>\n",
       "      <td>바리스타</td>\n",
       "      <td>커피 한 잔에 정성을 담는 바리스타, 사람들의 이야기를 듣는 것을 좋아합니다. 취미...</td>\n",
       "      <td>[커피, 대화, 시]</td>\n",
       "    </tr>\n",
       "    <tr>\n",
       "      <th>18</th>\n",
       "      <td>한지민</td>\n",
       "      <td>35</td>\n",
       "      <td>남자</td>\n",
       "      <td>요리사</td>\n",
       "      <td>세계 각국의 맛을 탐험하는 요리사. 새로운 레시피 개발에 열정이 많으며, 와인에 대...</td>\n",
       "      <td>[요리, 레시피, 와인]</td>\n",
       "    </tr>\n",
       "    <tr>\n",
       "      <th>19</th>\n",
       "      <td>강소라</td>\n",
       "      <td>24</td>\n",
       "      <td>여자</td>\n",
       "      <td>프리랜서</td>\n",
       "      <td>자유를 사랑하는 프리랜서. 작업의 효율을 최대로 끌어올리는 방법을 고민하며, 여행을...</td>\n",
       "      <td>[자유, 효율성, 여행]</td>\n",
       "    </tr>\n",
       "    <tr>\n",
       "      <th>20</th>\n",
       "      <td>김태영</td>\n",
       "      <td>30</td>\n",
       "      <td>남자</td>\n",
       "      <td>소프트웨어 엔지니어</td>\n",
       "      <td>코드 한 줄로 세상을 바꾸는 꿈을 꾸는 개발자입니다. 새로운 기술에 대한 호기심이 ...</td>\n",
       "      <td>[코딩, 여행, 기술]</td>\n",
       "    </tr>\n",
       "    <tr>\n",
       "      <th>21</th>\n",
       "      <td>이소윤</td>\n",
       "      <td>27</td>\n",
       "      <td>여자</td>\n",
       "      <td>그래픽 디자이너</td>\n",
       "      <td>색채와 무늬로 세상에 아름다움을 더하고 싶은 디자이너. 캔버스에 그림을 그리는 것처...</td>\n",
       "      <td>[디자인, 미술, 창조]</td>\n",
       "    </tr>\n",
       "    <tr>\n",
       "      <th>22</th>\n",
       "      <td>정민수</td>\n",
       "      <td>32</td>\n",
       "      <td>남자</td>\n",
       "      <td>운동선수</td>\n",
       "      <td>모든 순간을 열정적으로 살아내는 운동선수입니다. 스포츠를 통해 배운 팀워크와 도전 ...</td>\n",
       "      <td>[운동, 팀워크, 도전]</td>\n",
       "    </tr>\n",
       "    <tr>\n",
       "      <th>23</th>\n",
       "      <td>류하나</td>\n",
       "      <td>29</td>\n",
       "      <td>여자</td>\n",
       "      <td>요리사</td>\n",
       "      <td>맛있는 음식으로 사람들의 마음을 따뜻하게 해주는 요리사입니다. 음식을 통해 전하는 ...</td>\n",
       "      <td>[요리, 음식, 사랑]</td>\n",
       "    </tr>\n",
       "    <tr>\n",
       "      <th>24</th>\n",
       "      <td>박준혁</td>\n",
       "      <td>34</td>\n",
       "      <td>남자</td>\n",
       "      <td>자영업자</td>\n",
       "      <td>새로운 아이디어로 끊임없이 도전하는 창업가. 성공과 실패를 넘어서는 것이 진정한 배...</td>\n",
       "      <td>[창업, 도전, 배움]</td>\n",
       "    </tr>\n",
       "    <tr>\n",
       "      <th>25</th>\n",
       "      <td>최윤아</td>\n",
       "      <td>26</td>\n",
       "      <td>여자</td>\n",
       "      <td>사진작가</td>\n",
       "      <td>세상의 순간들을 영원히 기록하는 것에 행복을 느끼는 사진작가. 삶의 아름다운 순간을...</td>\n",
       "      <td>[사진, 예술, 기록]</td>\n",
       "    </tr>\n",
       "    <tr>\n",
       "      <th>26</th>\n",
       "      <td>한지훈</td>\n",
       "      <td>28</td>\n",
       "      <td>남자</td>\n",
       "      <td>경찰관</td>\n",
       "      <td>사회의 안전과 정의를 위해 헌신하는 경찰관입니다. 법과 원칙을 지키며, 언제나 시민...</td>\n",
       "      <td>[정의, 안전, 헌신]</td>\n",
       "    </tr>\n",
       "    <tr>\n",
       "      <th>27</th>\n",
       "      <td>김서연</td>\n",
       "      <td>31</td>\n",
       "      <td>여자</td>\n",
       "      <td>작가</td>\n",
       "      <td>말보다는 글로 세상과 소통하는 작가. 새로운 이야기를 창조하며, 독서와 글쓰기를 통...</td>\n",
       "      <td>[글쓰기, 독서, 창조]</td>\n",
       "    </tr>\n",
       "    <tr>\n",
       "      <th>28</th>\n",
       "      <td>오민석</td>\n",
       "      <td>35</td>\n",
       "      <td>남자</td>\n",
       "      <td>교사</td>\n",
       "      <td>지식을 나누며 미래 세대를 양성하는 교사입니다. 학생들의 꿈과 미래를 위해 최선을 ...</td>\n",
       "      <td>[교육, 미래, 지식]</td>\n",
       "    </tr>\n",
       "    <tr>\n",
       "      <th>29</th>\n",
       "      <td>송지은</td>\n",
       "      <td>24</td>\n",
       "      <td>여자</td>\n",
       "      <td>대학생</td>\n",
       "      <td>세상에 대한 호기심으로 가득 찬 대학생입니다. 다양한 경험을 통해 스스로를 발전시키...</td>\n",
       "      <td>[호기심, 경험, 발전]</td>\n",
       "    </tr>\n",
       "  </tbody>\n",
       "</table>\n",
       "</div>"
      ],
      "text/plain": [
       "   name  age gender         job  \\\n",
       "0   김태현   28     남자         개발자   \n",
       "1   이하은   26     여자        디자이너   \n",
       "2   정민수   30     남자          교사   \n",
       "3   조아라   27     여자          작가   \n",
       "4   한지용   32     남자        운동선수   \n",
       "5   유서연   29     여자         연구원   \n",
       "6   박준호   31     남자        사진작가   \n",
       "7   손희주   24     여자         간호사   \n",
       "8   오창민   34     남자        엔지니어   \n",
       "9   김혜진   35     여자         마케터   \n",
       "10  김태현   30     남자         개발자   \n",
       "11  이영은   28     여자        디자이너   \n",
       "12  조민수   32     남자          의사   \n",
       "13  박서영   26     여자          교사   \n",
       "14  윤대현   34     남자         경영자   \n",
       "15  황지아   29     여자          작가   \n",
       "16  정태원   27     남자   피트니스 트레이너   \n",
       "17  서혜린   31     여자        바리스타   \n",
       "18  한지민   35     남자         요리사   \n",
       "19  강소라   24     여자        프리랜서   \n",
       "20  김태영   30     남자  소프트웨어 엔지니어   \n",
       "21  이소윤   27     여자    그래픽 디자이너   \n",
       "22  정민수   32     남자        운동선수   \n",
       "23  류하나   29     여자         요리사   \n",
       "24  박준혁   34     남자        자영업자   \n",
       "25  최윤아   26     여자        사진작가   \n",
       "26  한지훈   28     남자         경찰관   \n",
       "27  김서연   31     여자          작가   \n",
       "28  오민석   35     남자          교사   \n",
       "29  송지은   24     여자         대학생   \n",
       "\n",
       "                                                  bio          keywords  \n",
       "0   코드 한 줄로 세상을 바꾸려 노력하는 개발자입니다. 여행을 좋아하고, 새로운 기술을...      [코딩, 여행, 기술]  \n",
       "1   오늘보다 나은 내일을 디자인합니다. 삶의 모든 순간에서 영감을 받고, 그것을 나의 ...     [디자인, 영감, 창작]  \n",
       "2   아이들에게 꿈을 심어주는 초등학교 교사입니다. 책 읽기와 산책을 즐깁니다. 세상 모...      [교육, 독서, 산책]  \n",
       "3   마음을 움직이는 이야기를 쓰는 작가입니다. 사람들의 이야기에 귀 기울이며, 그것을 ...    [글쓰기, 독서, 이야기]  \n",
       "4   몸을 움직이는 것을 좋아하는 운동선수입니다. 목표를 향해 끊임없이 도전하는 것을 즐...      [운동, 도전, 목표]  \n",
       "5   새로운 발견에 항상 흥미를 느끼는 연구원입니다. 실험실에서 보내는 시간 외에도, 새...      [연구, 문화, 발견]  \n",
       "6   세상의 아름다운 순간들을 카메라에 담는 사진작가입니다. 여행을 통해 새로운 풍경과 ...      [사진, 여행, 풍경]  \n",
       "7   사람들의 건강을 돌보는 것에 큰 자부심을 느끼는 간호사입니다. 여가 시간에는 요가와...      [건강, 요가, 돌봄]  \n",
       "8   복잡한 문제를 해결하는 것을 즐기는 엔지니어입니다. 기계와 기술에 대한 열정을 가지...   [문제해결, 기술, 자동차]  \n",
       "9   브랜드의 이야기를 전하는 것을 좋아하는 마케터입니다. 소셜 미디어와 디지털 컨텐츠에...  [브랜딩, 소셜미디어, 요리]  \n",
       "10  코드와 함께 살아가는 개발자입니다. 새로운 기술을 배우는 것을 좋아하며, 주말엔 산...    [코딩, 등산, 학습욕구]  \n",
       "11  세상을 아름답게 만드는 디자이너, 감성과 아이디어로 삶에 색을 칠합니다. 카페 탐방...     [디자인, 카페, 사진]  \n",
       "12  사람을 치유하는 것은 제 삶의 보람입니다. 책을 읽거나 음악을 듣는 것으로 하루를 ...      [의료, 독서, 음악]  \n",
       "13      미래를 밝히는 어린이들과 함께하는 교사입니다. 요리와 베이킹으로 스트레스를 풀죠.     [교육, 요리, 베이킹]  \n",
       "14  도전을 두려워하지 않는 스타트업 경영자. 새로운 사람을 만나는 것을 좋아하며, 여행...  [스타트업, 네트워킹, 여행]  \n",
       "15  말보다는 글로 소통하는 작가. 삶의 다양한 순간들을 글로 남기며, 고양이와 산책하는...    [글쓰기, 독서, 고양이]  \n",
       "16  몸과 마음의 건강을 중요하게 생각하는 피트니스 트레이너. 일과 취미가 일치해 행복합...    [건강, 운동, 야외활동]  \n",
       "17  커피 한 잔에 정성을 담는 바리스타, 사람들의 이야기를 듣는 것을 좋아합니다. 취미...       [커피, 대화, 시]  \n",
       "18  세계 각국의 맛을 탐험하는 요리사. 새로운 레시피 개발에 열정이 많으며, 와인에 대...     [요리, 레시피, 와인]  \n",
       "19  자유를 사랑하는 프리랜서. 작업의 효율을 최대로 끌어올리는 방법을 고민하며, 여행을...     [자유, 효율성, 여행]  \n",
       "20  코드 한 줄로 세상을 바꾸는 꿈을 꾸는 개발자입니다. 새로운 기술에 대한 호기심이 ...      [코딩, 여행, 기술]  \n",
       "21  색채와 무늬로 세상에 아름다움을 더하고 싶은 디자이너. 캔버스에 그림을 그리는 것처...     [디자인, 미술, 창조]  \n",
       "22  모든 순간을 열정적으로 살아내는 운동선수입니다. 스포츠를 통해 배운 팀워크와 도전 ...     [운동, 팀워크, 도전]  \n",
       "23  맛있는 음식으로 사람들의 마음을 따뜻하게 해주는 요리사입니다. 음식을 통해 전하는 ...      [요리, 음식, 사랑]  \n",
       "24  새로운 아이디어로 끊임없이 도전하는 창업가. 성공과 실패를 넘어서는 것이 진정한 배...      [창업, 도전, 배움]  \n",
       "25  세상의 순간들을 영원히 기록하는 것에 행복을 느끼는 사진작가. 삶의 아름다운 순간을...      [사진, 예술, 기록]  \n",
       "26  사회의 안전과 정의를 위해 헌신하는 경찰관입니다. 법과 원칙을 지키며, 언제나 시민...      [정의, 안전, 헌신]  \n",
       "27  말보다는 글로 세상과 소통하는 작가. 새로운 이야기를 창조하며, 독서와 글쓰기를 통...     [글쓰기, 독서, 창조]  \n",
       "28  지식을 나누며 미래 세대를 양성하는 교사입니다. 학생들의 꿈과 미래를 위해 최선을 ...      [교육, 미래, 지식]  \n",
       "29  세상에 대한 호기심으로 가득 찬 대학생입니다. 다양한 경험을 통해 스스로를 발전시키...     [호기심, 경험, 발전]  "
      ]
     },
     "execution_count": 8,
     "metadata": {},
     "output_type": "execute_result"
    }
   ],
   "source": [
    "df"
   ]
  },
  {
   "cell_type": "code",
   "execution_count": null,
   "id": "eb2bd8d8-6d59-452c-b2c0-8cc46a7b49eb",
   "metadata": {},
   "outputs": [],
   "source": []
  },
  {
   "cell_type": "code",
   "execution_count": 9,
   "id": "7947fa63-90e4-44a1-9f62-c8b02269f6bf",
   "metadata": {},
   "outputs": [],
   "source": [
    "def sample_to_messages(sample):\n",
    "    bio = sample['bio']\n",
    "    keywords = \", \".join(sample['keywords'])\n",
    "    \n",
    "    msgs = {\"messages\": [{\"role\": \"system\", \"content\": \"유저의 자기소개글에서 키워드 csv형식으로 추출해줘\"},\n",
    "                          {\"role\": \"user\", \"content\": bio},\n",
    "                          {\"role\": \"assistant\", \"content\": keywords}\n",
    "                         ]}\n",
    "    return msgs"
   ]
  },
  {
   "cell_type": "code",
   "execution_count": 10,
   "id": "f2a40248-91a6-48ea-bbd7-a90c59e435f5",
   "metadata": {},
   "outputs": [],
   "source": [
    "msgs_list = []\n",
    "\n",
    "for _, sample in df.iterrows():\n",
    "    msgs = sample_to_messages(sample)\n",
    "    msgs_list.append(msgs)"
   ]
  },
  {
   "cell_type": "code",
   "execution_count": 11,
   "id": "5447ad77-0903-4c98-865b-0efb89f9ad72",
   "metadata": {},
   "outputs": [
    {
     "data": {
      "text/plain": [
       "{'messages': [{'role': 'system', 'content': '유저의 자기소개글에서 키워드 csv형식으로 추출해줘'},\n",
       "  {'role': 'user',\n",
       "   'content': '코드 한 줄로 세상을 바꾸려 노력하는 개발자입니다. 여행을 좋아하고, 새로운 기술을 배우는 것에 항상 열려 있습니다.'},\n",
       "  {'role': 'assistant', 'content': '코딩, 여행, 기술'}]}"
      ]
     },
     "execution_count": 11,
     "metadata": {},
     "output_type": "execute_result"
    }
   ],
   "source": [
    "msgs_list[0]"
   ]
  },
  {
   "cell_type": "code",
   "execution_count": 12,
   "id": "8d1f0d57-5e93-4029-af83-8d91fafee372",
   "metadata": {},
   "outputs": [],
   "source": [
    "# JSONL 파일 생성 함수\n",
    "def create_jsonl(msgs_list, filename):\n",
    "    with open(filename, 'w', encoding='utf-8') as f:\n",
    "        for msgs in msgs_list:\n",
    "            json_line = json.dumps(msgs, ensure_ascii=False)\n",
    "            f.write(json_line + '\\n')"
   ]
  },
  {
   "cell_type": "code",
   "execution_count": 13,
   "id": "389da814-93e7-4453-91cc-ebc6d3fdd81d",
   "metadata": {},
   "outputs": [],
   "source": [
    "n_total = len(msgs_list)\n",
    "n_train = int(n_total * 0.6)\n",
    "n_valid = int(n_total*0.2)"
   ]
  },
  {
   "cell_type": "code",
   "execution_count": 14,
   "id": "dbbcf47a-4454-4bcd-b885-ba6473f858f9",
   "metadata": {},
   "outputs": [],
   "source": [
    "train_msgs_list = msgs_list[:n_train]\n",
    "valid_msgs_list = msgs_list[n_train:n_train + n_valid]\n",
    "test_msgs_list = msgs_list[n_train + n_valid:]\n"
   ]
  },
  {
   "cell_type": "code",
   "execution_count": 15,
   "id": "0a3d78ed-c44c-40f1-b095-4bb86a3a11bf",
   "metadata": {},
   "outputs": [
    {
     "data": {
      "text/plain": [
       "(18, 6, 6)"
      ]
     },
     "execution_count": 15,
     "metadata": {},
     "output_type": "execute_result"
    }
   ],
   "source": [
    "len(train_msgs_list), len(valid_msgs_list), len(test_msgs_list)"
   ]
  },
  {
   "cell_type": "code",
   "execution_count": 16,
   "id": "6461c6a2-6a9c-4834-8d02-635a3fb73e2b",
   "metadata": {},
   "outputs": [],
   "source": [
    "# 훈련 및 검증 데이터셋을 JSONL 파일로 변환\n",
    "create_jsonl(train_msgs_list, 'keyword_train.jsonl')\n",
    "create_jsonl(valid_msgs_list, 'keyword_valid.jsonl')\n",
    "create_jsonl(test_msgs_list, 'keyword_test.jsonl')"
   ]
  },
  {
   "cell_type": "markdown",
   "id": "38bb99a2-bd1b-4b3e-a560-9282dcfae0eb",
   "metadata": {},
   "source": [
    "## 모델 Finetuning 하기"
   ]
  },
  {
   "cell_type": "code",
   "execution_count": 17,
   "id": "b27d31dc-20de-46cd-aef5-df20eceeb8d7",
   "metadata": {},
   "outputs": [],
   "source": [
    "from openai import OpenAI"
   ]
  },
  {
   "cell_type": "code",
   "execution_count": 18,
   "id": "3df5de88-3535-46c2-aa81-7e1de2038155",
   "metadata": {},
   "outputs": [],
   "source": [
    "client = OpenAI()"
   ]
  },
  {
   "cell_type": "markdown",
   "id": "f4d7828f-f971-4fde-bfa4-eaf63f23ccc9",
   "metadata": {},
   "source": [
    "## Upload File"
   ]
  },
  {
   "cell_type": "code",
   "execution_count": 19,
   "id": "a97c475c-e64c-4c1c-95c1-4cc3a3c9a6bf",
   "metadata": {},
   "outputs": [],
   "source": [
    "# 최소 10개 샘플 이상 필요\n",
    "train_file = client.files.create(\n",
    "  file=open(\"keyword_train.jsonl\", \"rb\"),\n",
    "  purpose=\"fine-tune\"\n",
    ")"
   ]
  },
  {
   "cell_type": "code",
   "execution_count": 20,
   "id": "d0dac8c1-6446-47ea-9d95-0b617cbcec5e",
   "metadata": {},
   "outputs": [
    {
     "data": {
      "text/plain": [
       "'file-JMXVjZRocWV4gB3HS1amLd'"
      ]
     },
     "execution_count": 20,
     "metadata": {},
     "output_type": "execute_result"
    }
   ],
   "source": [
    "train_file.id"
   ]
  },
  {
   "cell_type": "code",
   "execution_count": 21,
   "id": "5fbbec8a-5fb0-4e29-beb2-38f30d159855",
   "metadata": {},
   "outputs": [],
   "source": [
    "valid_file = client.files.create(\n",
    "  file=open(\"keyword_valid.jsonl\", \"rb\"),\n",
    "  purpose=\"fine-tune\"\n",
    ")"
   ]
  },
  {
   "cell_type": "code",
   "execution_count": 22,
   "id": "c66de934-7f7e-4d4d-a3c0-1213634e0ea8",
   "metadata": {},
   "outputs": [
    {
     "data": {
      "text/plain": [
       "'file-7cRLKqJ9LxmyVJb34Lo1iy'"
      ]
     },
     "execution_count": 22,
     "metadata": {},
     "output_type": "execute_result"
    }
   ],
   "source": [
    "valid_file.id"
   ]
  },
  {
   "cell_type": "markdown",
   "id": "13707053-4c8b-4979-bb95-4c6767734af0",
   "metadata": {},
   "source": [
    "## Finetuning"
   ]
  },
  {
   "cell_type": "markdown",
   "id": "f46ff6b2-4b67-47c0-8634-9520f900b8c5",
   "metadata": {},
   "source": [
    "### Finetuning job 제출하기"
   ]
  },
  {
   "cell_type": "code",
   "execution_count": 23,
   "id": "ad8bd6ab-6a64-49f9-a541-cc8b6c63f236",
   "metadata": {},
   "outputs": [],
   "source": [
    "job = client.fine_tuning.jobs.create(\n",
    "  training_file=train_file.id,\n",
    "  validation_file=valid_file.id, \n",
    "  model=\"gpt-3.5-turbo-1106\",\n",
    "  hyperparameters={\n",
    "    \"n_epochs\": 3 # default: 3\n",
    "  }\n",
    ")"
   ]
  },
  {
   "cell_type": "code",
   "execution_count": 24,
   "id": "eef49ad7-f745-4bb0-9f24-54e96fab2295",
   "metadata": {},
   "outputs": [
    {
     "data": {
      "text/plain": [
       "'ftjob-SND2gA9Mv5aW1xAmXZaLXfPx'"
      ]
     },
     "execution_count": 24,
     "metadata": {},
     "output_type": "execute_result"
    }
   ],
   "source": [
    "job.id"
   ]
  },
  {
   "cell_type": "code",
   "execution_count": 25,
   "id": "b6c474a0-7d39-4f33-85ee-b77baf70f98b",
   "metadata": {},
   "outputs": [
    {
     "name": "stdout",
     "output_type": "stream",
     "text": [
      "Job ID: ftjob-SND2gA9Mv5aW1xAmXZaLXfPx\n",
      "Status: validating_files\n"
     ]
    }
   ],
   "source": [
    "print(\"Job ID:\", job.id)\n",
    "print(\"Status:\", job.status)"
   ]
  },
  {
   "cell_type": "markdown",
   "id": "564f4084-55df-42e9-b90c-6f24457486fd",
   "metadata": {},
   "source": [
    "### 현재 Finetuning 상태 가져오기\n"
   ]
  },
  {
   "cell_type": "code",
   "execution_count": 26,
   "id": "24d84aca-ccde-453c-8d64-e0a04a140988",
   "metadata": {},
   "outputs": [],
   "source": [
    "job = client.fine_tuning.jobs.retrieve(job.id)"
   ]
  },
  {
   "cell_type": "code",
   "execution_count": 27,
   "id": "e9868cf5-91ad-485f-8ca6-b71b17eb1069",
   "metadata": {},
   "outputs": [
    {
     "name": "stderr",
     "output_type": "stream",
     "text": [
      "/var/folders/1x/st3vh8xs6715dcgqc1gk2hhh0000gn/T/ipykernel_41702/127413622.py:1: PydanticDeprecatedSince20: The `dict` method is deprecated; use `model_dump` instead. Deprecated in Pydantic V2.0 to be removed in V3.0. See Pydantic V2 Migration Guide at https://errors.pydantic.dev/2.10/migration/\n",
      "  job.dict()\n"
     ]
    },
    {
     "data": {
      "text/plain": [
       "{'id': 'ftjob-SND2gA9Mv5aW1xAmXZaLXfPx',\n",
       " 'created_at': 1744704910,\n",
       " 'error': {'code': None, 'message': None, 'param': None},\n",
       " 'fine_tuned_model': None,\n",
       " 'finished_at': None,\n",
       " 'hyperparameters': {'batch_size': 'auto',\n",
       "  'learning_rate_multiplier': 'auto',\n",
       "  'n_epochs': 3},\n",
       " 'model': 'gpt-3.5-turbo-1106',\n",
       " 'object': 'fine_tuning.job',\n",
       " 'organization_id': 'org-qzBJNqx2R9Pz1HmKd4Zh0Dmj',\n",
       " 'result_files': [],\n",
       " 'seed': 1222546874,\n",
       " 'status': 'validating_files',\n",
       " 'trained_tokens': None,\n",
       " 'training_file': 'file-JMXVjZRocWV4gB3HS1amLd',\n",
       " 'validation_file': 'file-7cRLKqJ9LxmyVJb34Lo1iy',\n",
       " 'estimated_finish': None,\n",
       " 'integrations': [],\n",
       " 'metadata': None,\n",
       " 'method': {'dpo': None,\n",
       "  'supervised': {'hyperparameters': {'batch_size': 'auto',\n",
       "    'learning_rate_multiplier': 'auto',\n",
       "    'n_epochs': 3}},\n",
       "  'type': 'supervised'},\n",
       " 'user_provided_suffix': None}"
      ]
     },
     "execution_count": 27,
     "metadata": {},
     "output_type": "execute_result"
    }
   ],
   "source": [
    "job.dict()"
   ]
  },
  {
   "cell_type": "code",
   "execution_count": 28,
   "id": "5efaa8f7-54b9-43a8-85a9-12aabf5f91b1",
   "metadata": {},
   "outputs": [
    {
     "name": "stdout",
     "output_type": "stream",
     "text": [
      "Job ID: ftjob-SND2gA9Mv5aW1xAmXZaLXfPx\n",
      "Status: validating_files\n"
     ]
    }
   ],
   "source": [
    "print(\"Job ID:\", job.id)\n",
    "print(\"Status:\", job.status)"
   ]
  },
  {
   "cell_type": "markdown",
   "id": "03d9feec-80b8-4ab1-904e-367e850de6ae",
   "metadata": {},
   "source": [
    "### 학습 과정 확인"
   ]
  },
  {
   "cell_type": "code",
   "execution_count": 29,
   "id": "dd141a4a-4af9-48ce-8d37-56549bf7a373",
   "metadata": {},
   "outputs": [
    {
     "name": "stdout",
     "output_type": "stream",
     "text": [
      "Created fine-tuning job: ftjob-SND2gA9Mv5aW1xAmXZaLXfPx\n",
      "Validating training file: file-JMXVjZRocWV4gB3HS1amLd and validation file: file-7cRLKqJ9LxmyVJb34Lo1iy\n"
     ]
    }
   ],
   "source": [
    "# List up to 10 events from a fine-tuning job\n",
    "response = client.fine_tuning.jobs.list_events(fine_tuning_job_id=job.id, limit=10)\n",
    "events = response.data\n",
    "events.reverse()\n",
    "\n",
    "for event in events:\n",
    "    print(event.message)"
   ]
  },
  {
   "cell_type": "markdown",
   "id": "664c83de-963b-4117-a136-b74ae47051d6",
   "metadata": {},
   "source": [
    "## Finetuning된 모델 Inference하기"
   ]
  },
  {
   "cell_type": "code",
   "execution_count": 30,
   "id": "598d21a6-8a67-428e-9b7b-3d6d596949a0",
   "metadata": {},
   "outputs": [],
   "source": [
    "from langchain_openai import ChatOpenAI\n",
    "from langchain.prompts import ChatPromptTemplate\n",
    "from langchain.schema import StrOutputParser"
   ]
  },
  {
   "cell_type": "code",
   "execution_count": 37,
   "id": "87b69c53-d83b-4edc-9572-0efb6db729d9",
   "metadata": {},
   "outputs": [],
   "source": [
    "infer_model = \"ft:gpt-3.5-turbo-1106:personal::SOMETHING\""
   ]
  },
  {
   "cell_type": "code",
   "execution_count": 38,
   "id": "777893d3-ca55-4571-9c26-25a0e7abfd4b",
   "metadata": {},
   "outputs": [],
   "source": [
    "llm = ChatOpenAI(model=infer_model)"
   ]
  },
  {
   "cell_type": "code",
   "execution_count": 33,
   "id": "a0986991-c0e4-4eb4-9fb5-6bfaf820bdb6",
   "metadata": {},
   "outputs": [],
   "source": [
    "example_bio = \"\"\"\\\n",
    "안녕하세요. 30대 초반의 그래픽 디자이너입니다.\n",
    "저는 디자인에 대한 열정을 갖고 있으며, 새로운 아이디어를 발굴하고 시각적으로 표현하는 것을 즐깁니다.\n",
    "음악을 사랑하고, 감성적인 시간을 중요시하는 사람입니다.\n",
    "\"\"\""
   ]
  },
  {
   "cell_type": "code",
   "execution_count": 34,
   "id": "0ed2f5ad-6ae1-42b6-9c91-1704889edb5d",
   "metadata": {},
   "outputs": [],
   "source": [
    "keyword_prompt_template = ChatPromptTemplate.from_messages(\n",
    "    [\n",
    "        (\"system\", \"유저의 자기소개글에서 키워드 csv형식으로 추출해줘\"),\n",
    "        (\"human\", \"{input}\" )\n",
    "    ]\n",
    ")"
   ]
  },
  {
   "cell_type": "code",
   "execution_count": 39,
   "id": "af14af53-638d-4d9c-bf05-812644089e6b",
   "metadata": {},
   "outputs": [],
   "source": [
    "extract_keyword_chain = keyword_prompt_template | llm | StrOutputParser()"
   ]
  },
  {
   "cell_type": "code",
   "execution_count": 40,
   "id": "2bbe1a88-a1b3-4ec5-8ec0-5470df0b291e",
   "metadata": {},
   "outputs": [
    {
     "data": {
      "text/plain": [
       "'30대, 그래픽 디자이너, 디자인, 열정, 새로운 아이디어, 시각적 표현, 음악, 감성적'"
      ]
     },
     "execution_count": 40,
     "metadata": {},
     "output_type": "execute_result"
    }
   ],
   "source": [
    "extract_keyword_chain.invoke({\"input\": example_bio})"
   ]
  },
  {
   "cell_type": "code",
   "execution_count": null,
   "id": "d25a59ee-bb39-4e05-b31e-761cad7432cb",
   "metadata": {},
   "outputs": [],
   "source": []
  }
 ],
 "metadata": {
  "kernelspec": {
   "display_name": "Python 3 (ipykernel)",
   "language": "python",
   "name": "python3"
  },
  "language_info": {
   "codemirror_mode": {
    "name": "ipython",
    "version": 3
   },
   "file_extension": ".py",
   "mimetype": "text/x-python",
   "name": "python",
   "nbconvert_exporter": "python",
   "pygments_lexer": "ipython3",
   "version": "3.11.6"
  }
 },
 "nbformat": 4,
 "nbformat_minor": 5
}
