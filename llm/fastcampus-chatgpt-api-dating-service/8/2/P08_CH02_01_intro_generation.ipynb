{
 "cells": [
  {
   "cell_type": "markdown",
   "id": "e718323b-fea6-4d05-9d18-7a51593c348c",
   "metadata": {},
   "source": [
    "# 데이팅 앱 유저들의 관심을 가질 만한 인사말 설명 생성"
   ]
  },
  {
   "cell_type": "code",
   "execution_count": 1,
   "id": "bafc34f8-a63d-4c7d-a39d-cbd2b143e177",
   "metadata": {},
   "outputs": [
    {
     "name": "stderr",
     "output_type": "stream",
     "text": [
      "/Users/hyeonjinho/.pyenv/versions/3.11.6/lib/python3.11/site-packages/IPython/core/interactiveshell.py:3577: LangChainDeprecationWarning: As of langchain-core 0.3.0, LangChain uses pydantic v2 internally. The langchain_core.pydantic_v1 module was a compatibility shim for pydantic v1, and should no longer be used. Please update the code to import from Pydantic directly.\n",
      "\n",
      "For example, replace imports like: `from langchain_core.pydantic_v1 import BaseModel`\n",
      "with: `from pydantic import BaseModel`\n",
      "or the v1 compatibility namespace if you are working in a code base that has not been fully upgraded to pydantic 2 yet. \tfrom pydantic.v1 import BaseModel\n",
      "\n",
      "  exec(code_obj, self.user_global_ns, self.user_ns)\n"
     ]
    }
   ],
   "source": [
    "from typing import List\n",
    "import random\n",
    "\n",
    "import pandas as pd\n",
    "from langchain_openai import ChatOpenAI\n",
    "from langchain_core.prompts import ChatPromptTemplate, HumanMessagePromptTemplate\n",
    "from langchain_core.output_parsers import JsonOutputParser\n",
    "from langchain_core.pydantic_v1 import BaseModel, Field"
   ]
  },
  {
   "cell_type": "code",
   "execution_count": 2,
   "id": "ca207417-1839-485f-b61f-3111cc01fcce",
   "metadata": {},
   "outputs": [],
   "source": [
    "model = ChatOpenAI(model=\"gpt-4-turbo-preview\", temperature=0.8)"
   ]
  },
  {
   "cell_type": "code",
   "execution_count": 3,
   "id": "5be0d891-7823-457b-9fa3-b4d12da4bcab",
   "metadata": {},
   "outputs": [],
   "source": [
    "class InstroList(BaseModel):\n",
    "    intro_list: List[str] = Field(description=\"소개팅 인삿말 후보 리스트\")"
   ]
  },
  {
   "cell_type": "code",
   "execution_count": 4,
   "id": "ab35b3a7-c03a-4126-a90b-78f71e995814",
   "metadata": {},
   "outputs": [
    {
     "data": {
      "text/plain": [
       "'The output should be formatted as a JSON instance that conforms to the JSON schema below.\\n\\nAs an example, for the schema {\"properties\": {\"foo\": {\"title\": \"Foo\", \"description\": \"a list of strings\", \"type\": \"array\", \"items\": {\"type\": \"string\"}}}, \"required\": [\"foo\"]}\\nthe object {\"foo\": [\"bar\", \"baz\"]} is a well-formatted instance of the schema. The object {\"properties\": {\"foo\": [\"bar\", \"baz\"]}} is not well-formatted.\\n\\nHere is the output schema:\\n```\\n{\"properties\": {\"intro_list\": {\"title\": \"Intro List\", \"description\": \"소개팅 인삿말 후보 리스트\", \"type\": \"array\", \"items\": {\"type\": \"string\"}}}, \"required\": [\"intro_list\"]}\\n```'"
      ]
     },
     "execution_count": 4,
     "metadata": {},
     "output_type": "execute_result"
    }
   ],
   "source": [
    "parser = JsonOutputParser(pydantic_object=InstroList)\n",
    "format_instructions = parser.get_format_instructions()\n",
    "format_instructions"
   ]
  },
  {
   "cell_type": "code",
   "execution_count": 5,
   "id": "d3ca4a29-09e1-4c95-9ad3-f7a2494c2b5c",
   "metadata": {},
   "outputs": [],
   "source": [
    "human_prompt_template = HumanMessagePromptTemplate.from_template(\n",
    "                            \"이름: {name}, 나이: {age}, 성별: {gender}, 직업: {job}, 자기소개: {bio}\\n\"\n",
    "                            \"위 프로필을 참고해서 소개팅 앱에서 사용 할 것 같은 소개팅에 어울리는 멋진 인삿말 만들어줘, 짧고 간결하게\\n{format_instructions}\")\n",
    "\n",
    "prompt_template = ChatPromptTemplate.from_messages(\n",
    "    [\n",
    "        human_prompt_template,\n",
    "    ])\n",
    "prompt_template = prompt_template.partial(format_instructions=format_instructions)"
   ]
  },
  {
   "cell_type": "code",
   "execution_count": 6,
   "id": "12a2a9f5-f86d-43d3-8fd2-a823c6205353",
   "metadata": {},
   "outputs": [],
   "source": [
    "intro_gen_chain = prompt_template | model | parser"
   ]
  },
  {
   "cell_type": "code",
   "execution_count": 7,
   "id": "d5e90f85-d5b7-4589-b8c0-13491489c777",
   "metadata": {},
   "outputs": [],
   "source": [
    "profile = {\"name\":\"임사라\",\n",
    "           \"age\":27,\n",
    "           \"gender\":\"여자\",\n",
    "           \"job\":\"배우\",\n",
    "           \"bio\":\"안녕하세요, 임사라입니다. 27살에 연기하는 것을 직업으로 삼고 있어요. 일상에서 벗어나 다양한 캐릭터를 통해 새로운 경험을 하고, 감성적인 순간들을 매우 소중히 여깁니다. 연기를 통해 사람들과 깊이 있는 감정을 공유하고, 그 속에서 진정한 자신을 발견하는 것을 좋아해요. 이렇게 새로운 사람을 만나는 것도, 저에게는 또 다른 무대 같아요. 기대되고 설레는 마음으로 여기에 있습니다.\"}"
   ]
  },
  {
   "cell_type": "code",
   "execution_count": 8,
   "id": "6125473f-f2d1-4917-99ea-5802feee8fd5",
   "metadata": {},
   "outputs": [
    {
     "data": {
      "text/plain": [
       "{'intro_list': ['안녕하세요, 새로운 역할을 찾아 헤매는 배우 임사라입니다. 여기서도 새로운 이야기를 시작해보고 싶어요.',\n",
       "  '반가워요, 연기로 수많은 인생을 살아 who는 임사라입니다.f 여기서는 진ssss심log myou신과의 이 soss기를 만들고 싶ss요.',\n",
       "  ': ']}"
      ]
     },
     "execution_count": 8,
     "metadata": {},
     "output_type": "execute_result"
    }
   ],
   "source": [
    "intro_gen_chain.invoke(profile)"
   ]
  },
  {
   "cell_type": "code",
   "execution_count": null,
   "id": "8189e22c-24bc-4d04-8bd2-924b611b4ddd",
   "metadata": {},
   "outputs": [],
   "source": []
  }
 ],
 "metadata": {
  "kernelspec": {
   "display_name": "Python 3 (ipykernel)",
   "language": "python",
   "name": "python3"
  },
  "language_info": {
   "codemirror_mode": {
    "name": "ipython",
    "version": 3
   },
   "file_extension": ".py",
   "mimetype": "text/x-python",
   "name": "python",
   "nbconvert_exporter": "python",
   "pygments_lexer": "ipython3",
   "version": "3.11.6"
  }
 },
 "nbformat": 4,
 "nbformat_minor": 5
}
