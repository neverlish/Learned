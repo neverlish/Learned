{
 "cells": [
  {
   "cell_type": "markdown",
   "id": "42ac73e2-392c-4279-a9f8-53d7adff62a3",
   "metadata": {},
   "source": [
    "# Finetuning을 통해 좋아요가 많이 눌린 프로필 데이터를 활용해 더 좋은 프로필 만들기"
   ]
  },
  {
   "cell_type": "markdown",
   "id": "faf036ca-a9b0-48aa-8817-ff1d4ee8a393",
   "metadata": {},
   "source": [
    "### 전략\n",
    "- self-learning\n",
    "  - 유저의 feedback을 반영하여 스스로 개선하는 시스템\n",
    "- liked를 많이 받은 자기소개를 gold 데이터로하여 프로필 정보가 들어오면 liked 가 많이 눌린 자기소개를 만들 수 있도록 finetuning 한다."
   ]
  },
  {
   "cell_type": "markdown",
   "id": "5f0d5f43-c2b2-4ad7-bcaa-7dadb8bc7f43",
   "metadata": {},
   "source": [
    "## Pseudo Data 만들기"
   ]
  },
  {
   "cell_type": "code",
   "execution_count": 1,
   "id": "769a947c-3f0e-458e-93af-529cef3d7fa7",
   "metadata": {},
   "outputs": [],
   "source": [
    "import pandas as pd\n",
    "import random\n",
    "import json"
   ]
  },
  {
   "cell_type": "code",
   "execution_count": 2,
   "id": "070741ed-a323-4ff9-b9ff-4e838e9c2ec6",
   "metadata": {},
   "outputs": [],
   "source": [
    "df = pd.read_json(\"./profile_db.jsonl\", orient='records', lines=True)"
   ]
  },
  {
   "cell_type": "code",
   "execution_count": 3,
   "id": "854532e4-0714-4671-974a-d89e4df0b363",
   "metadata": {},
   "outputs": [
    {
     "data": {
      "text/html": [
       "<div>\n",
       "<style scoped>\n",
       "    .dataframe tbody tr th:only-of-type {\n",
       "        vertical-align: middle;\n",
       "    }\n",
       "\n",
       "    .dataframe tbody tr th {\n",
       "        vertical-align: top;\n",
       "    }\n",
       "\n",
       "    .dataframe thead th {\n",
       "        text-align: right;\n",
       "    }\n",
       "</style>\n",
       "<table border=\"1\" class=\"dataframe\">\n",
       "  <thead>\n",
       "    <tr style=\"text-align: right;\">\n",
       "      <th></th>\n",
       "      <th>name</th>\n",
       "      <th>age</th>\n",
       "      <th>gender</th>\n",
       "      <th>job</th>\n",
       "      <th>bio</th>\n",
       "      <th>keywords</th>\n",
       "    </tr>\n",
       "  </thead>\n",
       "  <tbody>\n",
       "    <tr>\n",
       "      <th>0</th>\n",
       "      <td>김태현</td>\n",
       "      <td>30</td>\n",
       "      <td>남자</td>\n",
       "      <td>소프트웨어 엔지니어</td>\n",
       "      <td>코드와 커피를 사랑하는 개발자입니다. 일상에서 영감을 받아 새로운 프로젝트를 만드는...</td>\n",
       "      <td>[코딩, 커피, 여행, 사진]</td>\n",
       "    </tr>\n",
       "    <tr>\n",
       "      <th>1</th>\n",
       "      <td>이수민</td>\n",
       "      <td>28</td>\n",
       "      <td>여자</td>\n",
       "      <td>그래픽 디자이너</td>\n",
       "      <td>색감과 디자인으로 세상을 아름답게 만드는 것을 꿈꾸는 디자이너입니다. 예술과 음악,...</td>\n",
       "      <td>[디자인, 예술, 음악, 독서]</td>\n",
       "    </tr>\n",
       "    <tr>\n",
       "      <th>2</th>\n",
       "      <td>정민호</td>\n",
       "      <td>32</td>\n",
       "      <td>남자</td>\n",
       "      <td>의사</td>\n",
       "      <td>사람들의 건강을 책임지는 의사입니다. 일이 아닐 때는 다양한 스포츠를 즐기며 건강을...</td>\n",
       "      <td>[건강, 스포츠, 독서, 여행]</td>\n",
       "    </tr>\n",
       "    <tr>\n",
       "      <th>3</th>\n",
       "      <td>최유리</td>\n",
       "      <td>26</td>\n",
       "      <td>여자</td>\n",
       "      <td>영어 강사</td>\n",
       "      <td>언어를 통해 세상과 소통하는 것을 좋아합니다. 여행을 다니며 새로운 문화를 경험하는...</td>\n",
       "      <td>[언어, 소통, 여행, 문화]</td>\n",
       "    </tr>\n",
       "    <tr>\n",
       "      <th>4</th>\n",
       "      <td>박준수</td>\n",
       "      <td>34</td>\n",
       "      <td>남자</td>\n",
       "      <td>마케팅 매니저</td>\n",
       "      <td>브랜드의 가치를 높이는 일에 흥미를 느낍니다. 책과 영화를 통해 마케팅에 대한 영감...</td>\n",
       "      <td>[마케팅, 책, 영화, 브랜딩]</td>\n",
       "    </tr>\n",
       "  </tbody>\n",
       "</table>\n",
       "</div>"
      ],
      "text/plain": [
       "  name  age gender         job  \\\n",
       "0  김태현   30     남자  소프트웨어 엔지니어   \n",
       "1  이수민   28     여자    그래픽 디자이너   \n",
       "2  정민호   32     남자          의사   \n",
       "3  최유리   26     여자       영어 강사   \n",
       "4  박준수   34     남자     마케팅 매니저   \n",
       "\n",
       "                                                 bio           keywords  \n",
       "0  코드와 커피를 사랑하는 개발자입니다. 일상에서 영감을 받아 새로운 프로젝트를 만드는...   [코딩, 커피, 여행, 사진]  \n",
       "1  색감과 디자인으로 세상을 아름답게 만드는 것을 꿈꾸는 디자이너입니다. 예술과 음악,...  [디자인, 예술, 음악, 독서]  \n",
       "2  사람들의 건강을 책임지는 의사입니다. 일이 아닐 때는 다양한 스포츠를 즐기며 건강을...  [건강, 스포츠, 독서, 여행]  \n",
       "3  언어를 통해 세상과 소통하는 것을 좋아합니다. 여행을 다니며 새로운 문화를 경험하는...   [언어, 소통, 여행, 문화]  \n",
       "4  브랜드의 가치를 높이는 일에 흥미를 느낍니다. 책과 영화를 통해 마케팅에 대한 영감...  [마케팅, 책, 영화, 브랜딩]  "
      ]
     },
     "execution_count": 3,
     "metadata": {},
     "output_type": "execute_result"
    }
   ],
   "source": [
    "df.head()"
   ]
  },
  {
   "cell_type": "code",
   "execution_count": 4,
   "id": "d0382f76-541e-4eb9-9c49-0785acec2a23",
   "metadata": {},
   "outputs": [],
   "source": [
    "df['liked'] = df.apply(lambda row: random.randint(0, 100), axis=1)"
   ]
  },
  {
   "cell_type": "code",
   "execution_count": 5,
   "id": "e120f38b-417d-4a85-a6dd-38fefebc920a",
   "metadata": {},
   "outputs": [
    {
     "data": {
      "text/html": [
       "<div>\n",
       "<style scoped>\n",
       "    .dataframe tbody tr th:only-of-type {\n",
       "        vertical-align: middle;\n",
       "    }\n",
       "\n",
       "    .dataframe tbody tr th {\n",
       "        vertical-align: top;\n",
       "    }\n",
       "\n",
       "    .dataframe thead th {\n",
       "        text-align: right;\n",
       "    }\n",
       "</style>\n",
       "<table border=\"1\" class=\"dataframe\">\n",
       "  <thead>\n",
       "    <tr style=\"text-align: right;\">\n",
       "      <th></th>\n",
       "      <th>name</th>\n",
       "      <th>age</th>\n",
       "      <th>gender</th>\n",
       "      <th>job</th>\n",
       "      <th>bio</th>\n",
       "      <th>keywords</th>\n",
       "      <th>liked</th>\n",
       "    </tr>\n",
       "  </thead>\n",
       "  <tbody>\n",
       "    <tr>\n",
       "      <th>0</th>\n",
       "      <td>김태현</td>\n",
       "      <td>30</td>\n",
       "      <td>남자</td>\n",
       "      <td>소프트웨어 엔지니어</td>\n",
       "      <td>코드와 커피를 사랑하는 개발자입니다. 일상에서 영감을 받아 새로운 프로젝트를 만드는...</td>\n",
       "      <td>[코딩, 커피, 여행, 사진]</td>\n",
       "      <td>88</td>\n",
       "    </tr>\n",
       "    <tr>\n",
       "      <th>1</th>\n",
       "      <td>이수민</td>\n",
       "      <td>28</td>\n",
       "      <td>여자</td>\n",
       "      <td>그래픽 디자이너</td>\n",
       "      <td>색감과 디자인으로 세상을 아름답게 만드는 것을 꿈꾸는 디자이너입니다. 예술과 음악,...</td>\n",
       "      <td>[디자인, 예술, 음악, 독서]</td>\n",
       "      <td>40</td>\n",
       "    </tr>\n",
       "    <tr>\n",
       "      <th>2</th>\n",
       "      <td>정민호</td>\n",
       "      <td>32</td>\n",
       "      <td>남자</td>\n",
       "      <td>의사</td>\n",
       "      <td>사람들의 건강을 책임지는 의사입니다. 일이 아닐 때는 다양한 스포츠를 즐기며 건강을...</td>\n",
       "      <td>[건강, 스포츠, 독서, 여행]</td>\n",
       "      <td>68</td>\n",
       "    </tr>\n",
       "    <tr>\n",
       "      <th>3</th>\n",
       "      <td>최유리</td>\n",
       "      <td>26</td>\n",
       "      <td>여자</td>\n",
       "      <td>영어 강사</td>\n",
       "      <td>언어를 통해 세상과 소통하는 것을 좋아합니다. 여행을 다니며 새로운 문화를 경험하는...</td>\n",
       "      <td>[언어, 소통, 여행, 문화]</td>\n",
       "      <td>89</td>\n",
       "    </tr>\n",
       "    <tr>\n",
       "      <th>4</th>\n",
       "      <td>박준수</td>\n",
       "      <td>34</td>\n",
       "      <td>남자</td>\n",
       "      <td>마케팅 매니저</td>\n",
       "      <td>브랜드의 가치를 높이는 일에 흥미를 느낍니다. 책과 영화를 통해 마케팅에 대한 영감...</td>\n",
       "      <td>[마케팅, 책, 영화, 브랜딩]</td>\n",
       "      <td>48</td>\n",
       "    </tr>\n",
       "  </tbody>\n",
       "</table>\n",
       "</div>"
      ],
      "text/plain": [
       "  name  age gender         job  \\\n",
       "0  김태현   30     남자  소프트웨어 엔지니어   \n",
       "1  이수민   28     여자    그래픽 디자이너   \n",
       "2  정민호   32     남자          의사   \n",
       "3  최유리   26     여자       영어 강사   \n",
       "4  박준수   34     남자     마케팅 매니저   \n",
       "\n",
       "                                                 bio           keywords  liked  \n",
       "0  코드와 커피를 사랑하는 개발자입니다. 일상에서 영감을 받아 새로운 프로젝트를 만드는...   [코딩, 커피, 여행, 사진]     88  \n",
       "1  색감과 디자인으로 세상을 아름답게 만드는 것을 꿈꾸는 디자이너입니다. 예술과 음악,...  [디자인, 예술, 음악, 독서]     40  \n",
       "2  사람들의 건강을 책임지는 의사입니다. 일이 아닐 때는 다양한 스포츠를 즐기며 건강을...  [건강, 스포츠, 독서, 여행]     68  \n",
       "3  언어를 통해 세상과 소통하는 것을 좋아합니다. 여행을 다니며 새로운 문화를 경험하는...   [언어, 소통, 여행, 문화]     89  \n",
       "4  브랜드의 가치를 높이는 일에 흥미를 느낍니다. 책과 영화를 통해 마케팅에 대한 영감...  [마케팅, 책, 영화, 브랜딩]     48  "
      ]
     },
     "execution_count": 5,
     "metadata": {},
     "output_type": "execute_result"
    }
   ],
   "source": [
    "df.head()"
   ]
  },
  {
   "cell_type": "code",
   "execution_count": 6,
   "id": "b624f022-6772-44e6-87d6-3ea38e06a77e",
   "metadata": {},
   "outputs": [
    {
     "data": {
      "text/html": [
       "<div>\n",
       "<style scoped>\n",
       "    .dataframe tbody tr th:only-of-type {\n",
       "        vertical-align: middle;\n",
       "    }\n",
       "\n",
       "    .dataframe tbody tr th {\n",
       "        vertical-align: top;\n",
       "    }\n",
       "\n",
       "    .dataframe thead th {\n",
       "        text-align: right;\n",
       "    }\n",
       "</style>\n",
       "<table border=\"1\" class=\"dataframe\">\n",
       "  <thead>\n",
       "    <tr style=\"text-align: right;\">\n",
       "      <th></th>\n",
       "      <th>name</th>\n",
       "      <th>age</th>\n",
       "      <th>gender</th>\n",
       "      <th>job</th>\n",
       "      <th>bio</th>\n",
       "      <th>keywords</th>\n",
       "      <th>liked</th>\n",
       "    </tr>\n",
       "  </thead>\n",
       "  <tbody>\n",
       "    <tr>\n",
       "      <th>27</th>\n",
       "      <td>유진아</td>\n",
       "      <td>30</td>\n",
       "      <td>여자</td>\n",
       "      <td>의사</td>\n",
       "      <td>사람의 몸과 마음을 치유하는 것에 가치를 두는 의사입니다. 건강한 생활, 요가와 명...</td>\n",
       "      <td>[건강, 치유, 요가, 명상]</td>\n",
       "      <td>98</td>\n",
       "    </tr>\n",
       "    <tr>\n",
       "      <th>13</th>\n",
       "      <td>한지은</td>\n",
       "      <td>26</td>\n",
       "      <td>여자</td>\n",
       "      <td>간호사</td>\n",
       "      <td>바쁜 병원 생활 속에서도 웃음을 잃지 않는 간호사입니다. 여행과 사진 찍기를 통해 ...</td>\n",
       "      <td>[간호, 여행, 사진]</td>\n",
       "      <td>96</td>\n",
       "    </tr>\n",
       "    <tr>\n",
       "      <th>16</th>\n",
       "      <td>서준호</td>\n",
       "      <td>35</td>\n",
       "      <td>남자</td>\n",
       "      <td>사업가</td>\n",
       "      <td>도전을 두려워하지 않는 사업가입니다. 와인과 좋은 음악은 저의 취미이자 휴식입니다.</td>\n",
       "      <td>[사업, 도전, 와인, 음악]</td>\n",
       "      <td>94</td>\n",
       "    </tr>\n",
       "    <tr>\n",
       "      <th>29</th>\n",
       "      <td>오민아</td>\n",
       "      <td>33</td>\n",
       "      <td>여자</td>\n",
       "      <td>연구원</td>\n",
       "      <td>세상을 바꾸는 새로운 발견에 기여하고 싶은 연구원입니다. 과학적 호기심과 탐구 정신...</td>\n",
       "      <td>[연구, 호기심, 등산, 독서]</td>\n",
       "      <td>93</td>\n",
       "    </tr>\n",
       "    <tr>\n",
       "      <th>12</th>\n",
       "      <td>정민수</td>\n",
       "      <td>31</td>\n",
       "      <td>남자</td>\n",
       "      <td>교사</td>\n",
       "      <td>아이들에게 꿈을 심어주는 초등학교 선생님입니다. 책 읽기와 글쓰기로 하루를 마무리하...</td>\n",
       "      <td>[교육, 독서, 글쓰기]</td>\n",
       "      <td>91</td>\n",
       "    </tr>\n",
       "  </tbody>\n",
       "</table>\n",
       "</div>"
      ],
      "text/plain": [
       "   name  age gender  job                                                bio  \\\n",
       "27  유진아   30     여자   의사  사람의 몸과 마음을 치유하는 것에 가치를 두는 의사입니다. 건강한 생활, 요가와 명...   \n",
       "13  한지은   26     여자  간호사  바쁜 병원 생활 속에서도 웃음을 잃지 않는 간호사입니다. 여행과 사진 찍기를 통해 ...   \n",
       "16  서준호   35     남자  사업가     도전을 두려워하지 않는 사업가입니다. 와인과 좋은 음악은 저의 취미이자 휴식입니다.   \n",
       "29  오민아   33     여자  연구원  세상을 바꾸는 새로운 발견에 기여하고 싶은 연구원입니다. 과학적 호기심과 탐구 정신...   \n",
       "12  정민수   31     남자   교사  아이들에게 꿈을 심어주는 초등학교 선생님입니다. 책 읽기와 글쓰기로 하루를 마무리하...   \n",
       "\n",
       "             keywords  liked  \n",
       "27   [건강, 치유, 요가, 명상]     98  \n",
       "13       [간호, 여행, 사진]     96  \n",
       "16   [사업, 도전, 와인, 음악]     94  \n",
       "29  [연구, 호기심, 등산, 독서]     93  \n",
       "12      [교육, 독서, 글쓰기]     91  "
      ]
     },
     "execution_count": 6,
     "metadata": {},
     "output_type": "execute_result"
    }
   ],
   "source": [
    "df_sorted = df.sort_values(by=[\"liked\"], ascending=False)\n",
    "df_sorted.head()"
   ]
  },
  {
   "cell_type": "code",
   "execution_count": 7,
   "id": "9d13615d-5057-4711-92f6-0e34557be280",
   "metadata": {},
   "outputs": [],
   "source": [
    "# select top 20\n",
    "df_top = df_sorted[:20]"
   ]
  },
  {
   "cell_type": "code",
   "execution_count": 8,
   "id": "8f47a5ea-992e-4d16-8cf7-2f03ad11bcd6",
   "metadata": {},
   "outputs": [],
   "source": [
    "def sample_to_messages(sample):\n",
    "    s = sample\n",
    "    profile = f\"이름: {s['name']}\\n나이: {s['age']}\\n성별: {s['gender']}\\n직업: {s['job']}\\n키워드: {', '.join(s['keywords'])}\"\n",
    "    bio = sample['bio']\n",
    "    \n",
    "    msgs = {\"messages\": [{\"role\": \"system\", \"content\": \"유저의 프로필을 참고해서 소개팅에 어울리는 멋진 자기소개 만들어줘\"},\n",
    "                          {\"role\": \"user\", \"content\": profile},\n",
    "                          {\"role\": \"assistant\", \"content\": bio}\n",
    "                         ]}\n",
    "    return msgs"
   ]
  },
  {
   "cell_type": "code",
   "execution_count": 9,
   "id": "c2fde1dd-567c-4dcd-a8a7-d0184ea5145c",
   "metadata": {},
   "outputs": [],
   "source": [
    "msgs_list = []\n",
    "\n",
    "for _, sample in df_top.iterrows():\n",
    "    msgs = sample_to_messages(sample)\n",
    "    msgs_list.append(msgs)"
   ]
  },
  {
   "cell_type": "code",
   "execution_count": 10,
   "id": "367fd5e0-352a-44d5-a662-92f9f3c9f1cc",
   "metadata": {},
   "outputs": [
    {
     "data": {
      "text/plain": [
       "{'messages': [{'role': 'system',\n",
       "   'content': '유저의 프로필을 참고해서 소개팅에 어울리는 멋진 자기소개 만들어줘'},\n",
       "  {'role': 'user',\n",
       "   'content': '이름: 유진아\\n나이: 30\\n성별: 여자\\n직업: 의사\\n키워드: 건강, 치유, 요가, 명상'},\n",
       "  {'role': 'assistant',\n",
       "   'content': '사람의 몸과 마음을 치유하는 것에 가치를 두는 의사입니다. 건강한 생활, 요가와 명상을 일상에 녹여내며, 사람들과의 깊은 대화를 즐깁니다.'}]}"
      ]
     },
     "execution_count": 10,
     "metadata": {},
     "output_type": "execute_result"
    }
   ],
   "source": [
    "msgs_list[0]"
   ]
  },
  {
   "cell_type": "code",
   "execution_count": 11,
   "id": "136dbe56-96b6-4d53-b9f1-ec072c7fbb82",
   "metadata": {},
   "outputs": [],
   "source": [
    "# JSONL 파일 생성 함수\n",
    "def create_jsonl(msgs_list, filename):\n",
    "    with open(filename, 'w', encoding='utf-8') as f:\n",
    "        for msgs in msgs_list:\n",
    "            json_line = json.dumps(msgs, ensure_ascii=False)\n",
    "            f.write(json_line + '\\n')"
   ]
  },
  {
   "cell_type": "code",
   "execution_count": 12,
   "id": "3d70ced8-8699-415c-ae3e-b3d8148e804f",
   "metadata": {},
   "outputs": [],
   "source": [
    "n_total = len(msgs_list)\n",
    "n_train = int(n_total * 0.6)\n",
    "n_valid = int(n_total*0.2)"
   ]
  },
  {
   "cell_type": "code",
   "execution_count": 13,
   "id": "d939b7f2-95d0-41e7-9c4c-5cfb9e7823d0",
   "metadata": {},
   "outputs": [],
   "source": [
    "train_msgs_list = msgs_list[:n_train]\n",
    "valid_msgs_list = msgs_list[n_train:n_train + n_valid]\n",
    "test_msgs_list = msgs_list[n_train + n_valid:]"
   ]
  },
  {
   "cell_type": "code",
   "execution_count": 14,
   "id": "d37c1c5a-b40a-4cfd-a584-043820c875b0",
   "metadata": {},
   "outputs": [
    {
     "data": {
      "text/plain": [
       "(12, 4, 4)"
      ]
     },
     "execution_count": 14,
     "metadata": {},
     "output_type": "execute_result"
    }
   ],
   "source": [
    "len(train_msgs_list), len(valid_msgs_list), len(test_msgs_list)"
   ]
  },
  {
   "cell_type": "code",
   "execution_count": 15,
   "id": "fcd6380c-ebcb-4aa3-ac9b-3e9e0ed9580b",
   "metadata": {},
   "outputs": [],
   "source": [
    "# 훈련 및 검증 데이터셋을 JSONL 파일로 변환\n",
    "create_jsonl(train_msgs_list, 'profile_gen_train.jsonl')\n",
    "create_jsonl(valid_msgs_list, 'profile_gen_valid.jsonl')\n",
    "create_jsonl(test_msgs_list, 'profile_gen_test.jsonl')"
   ]
  },
  {
   "cell_type": "markdown",
   "id": "38bb99a2-bd1b-4b3e-a560-9282dcfae0eb",
   "metadata": {},
   "source": [
    "## 모델 Finetuning 하기"
   ]
  },
  {
   "cell_type": "code",
   "execution_count": 16,
   "id": "b27d31dc-20de-46cd-aef5-df20eceeb8d7",
   "metadata": {},
   "outputs": [],
   "source": [
    "from openai import OpenAI"
   ]
  },
  {
   "cell_type": "code",
   "execution_count": 17,
   "id": "3df5de88-3535-46c2-aa81-7e1de2038155",
   "metadata": {},
   "outputs": [],
   "source": [
    "client = OpenAI()"
   ]
  },
  {
   "cell_type": "markdown",
   "id": "f4d7828f-f971-4fde-bfa4-eaf63f23ccc9",
   "metadata": {},
   "source": [
    "## Upload File"
   ]
  },
  {
   "cell_type": "code",
   "execution_count": 18,
   "id": "a97c475c-e64c-4c1c-95c1-4cc3a3c9a6bf",
   "metadata": {},
   "outputs": [],
   "source": [
    "# 최소 10개 샘플 이상 필요\n",
    "train_file = client.files.create(\n",
    "  file=open(\"profile_gen_train.jsonl\", \"rb\"),\n",
    "  purpose=\"fine-tune\"\n",
    ")"
   ]
  },
  {
   "cell_type": "code",
   "execution_count": 19,
   "id": "d0dac8c1-6446-47ea-9d95-0b617cbcec5e",
   "metadata": {},
   "outputs": [
    {
     "data": {
      "text/plain": [
       "'file-Ts9akwRVBQKq5aaXDcqmGk'"
      ]
     },
     "execution_count": 19,
     "metadata": {},
     "output_type": "execute_result"
    }
   ],
   "source": [
    "train_file.id"
   ]
  },
  {
   "cell_type": "code",
   "execution_count": 20,
   "id": "5fbbec8a-5fb0-4e29-beb2-38f30d159855",
   "metadata": {},
   "outputs": [],
   "source": [
    "valid_file = client.files.create(\n",
    "  file=open(\"profile_gen_valid.jsonl\", \"rb\"),\n",
    "  purpose=\"fine-tune\"\n",
    ")"
   ]
  },
  {
   "cell_type": "code",
   "execution_count": 21,
   "id": "c66de934-7f7e-4d4d-a3c0-1213634e0ea8",
   "metadata": {},
   "outputs": [
    {
     "data": {
      "text/plain": [
       "'file-H5c2qx7vhHZUgBg2Nfs3n7'"
      ]
     },
     "execution_count": 21,
     "metadata": {},
     "output_type": "execute_result"
    }
   ],
   "source": [
    "valid_file.id"
   ]
  },
  {
   "cell_type": "markdown",
   "id": "13707053-4c8b-4979-bb95-4c6767734af0",
   "metadata": {},
   "source": [
    "## Finetuning"
   ]
  },
  {
   "cell_type": "markdown",
   "id": "f46ff6b2-4b67-47c0-8634-9520f900b8c5",
   "metadata": {},
   "source": [
    "### Finetuning job 제출하기"
   ]
  },
  {
   "cell_type": "code",
   "execution_count": 22,
   "id": "ad8bd6ab-6a64-49f9-a541-cc8b6c63f236",
   "metadata": {},
   "outputs": [],
   "source": [
    "job = client.fine_tuning.jobs.create(\n",
    "  training_file=train_file.id,\n",
    "  validation_file=valid_file.id, \n",
    "  model=\"gpt-3.5-turbo-1106\",\n",
    "  hyperparameters={\n",
    "    \"n_epochs\": 3 # default: 3\n",
    "  }\n",
    ")"
   ]
  },
  {
   "cell_type": "code",
   "execution_count": 23,
   "id": "eef49ad7-f745-4bb0-9f24-54e96fab2295",
   "metadata": {},
   "outputs": [
    {
     "data": {
      "text/plain": [
       "'ftjob-TfThlnKS3kg0ftUeYsIpdxr4'"
      ]
     },
     "execution_count": 23,
     "metadata": {},
     "output_type": "execute_result"
    }
   ],
   "source": [
    "job.id"
   ]
  },
  {
   "cell_type": "code",
   "execution_count": 24,
   "id": "b6c474a0-7d39-4f33-85ee-b77baf70f98b",
   "metadata": {},
   "outputs": [
    {
     "name": "stdout",
     "output_type": "stream",
     "text": [
      "Job ID: ftjob-TfThlnKS3kg0ftUeYsIpdxr4\n",
      "Status: validating_files\n"
     ]
    }
   ],
   "source": [
    "print(\"Job ID:\", job.id)\n",
    "print(\"Status:\", job.status)"
   ]
  },
  {
   "cell_type": "markdown",
   "id": "564f4084-55df-42e9-b90c-6f24457486fd",
   "metadata": {},
   "source": [
    "### 현재 Finetuning 상태 가져오기\n"
   ]
  },
  {
   "cell_type": "code",
   "execution_count": 25,
   "id": "24d84aca-ccde-453c-8d64-e0a04a140988",
   "metadata": {},
   "outputs": [],
   "source": [
    "job = client.fine_tuning.jobs.retrieve(job.id)"
   ]
  },
  {
   "cell_type": "code",
   "execution_count": 26,
   "id": "e9868cf5-91ad-485f-8ca6-b71b17eb1069",
   "metadata": {},
   "outputs": [
    {
     "name": "stderr",
     "output_type": "stream",
     "text": [
      "/var/folders/1x/st3vh8xs6715dcgqc1gk2hhh0000gn/T/ipykernel_43414/127413622.py:1: PydanticDeprecatedSince20: The `dict` method is deprecated; use `model_dump` instead. Deprecated in Pydantic V2.0 to be removed in V3.0. See Pydantic V2 Migration Guide at https://errors.pydantic.dev/2.10/migration/\n",
      "  job.dict()\n"
     ]
    },
    {
     "data": {
      "text/plain": [
       "{'id': 'ftjob-TfThlnKS3kg0ftUeYsIpdxr4',\n",
       " 'created_at': 1744705680,\n",
       " 'error': {'code': None, 'message': None, 'param': None},\n",
       " 'fine_tuned_model': None,\n",
       " 'finished_at': None,\n",
       " 'hyperparameters': {'batch_size': 'auto',\n",
       "  'learning_rate_multiplier': 'auto',\n",
       "  'n_epochs': 3},\n",
       " 'model': 'gpt-3.5-turbo-1106',\n",
       " 'object': 'fine_tuning.job',\n",
       " 'organization_id': 'org-qzBJNqx2R9Pz1HmKd4Zh0Dmj',\n",
       " 'result_files': [],\n",
       " 'seed': 110332418,\n",
       " 'status': 'validating_files',\n",
       " 'trained_tokens': None,\n",
       " 'training_file': 'file-Ts9akwRVBQKq5aaXDcqmGk',\n",
       " 'validation_file': 'file-H5c2qx7vhHZUgBg2Nfs3n7',\n",
       " 'estimated_finish': None,\n",
       " 'integrations': [],\n",
       " 'metadata': None,\n",
       " 'method': {'dpo': None,\n",
       "  'supervised': {'hyperparameters': {'batch_size': 'auto',\n",
       "    'learning_rate_multiplier': 'auto',\n",
       "    'n_epochs': 3}},\n",
       "  'type': 'supervised'},\n",
       " 'user_provided_suffix': None}"
      ]
     },
     "execution_count": 26,
     "metadata": {},
     "output_type": "execute_result"
    }
   ],
   "source": [
    "job.dict()"
   ]
  },
  {
   "cell_type": "code",
   "execution_count": 27,
   "id": "5efaa8f7-54b9-43a8-85a9-12aabf5f91b1",
   "metadata": {},
   "outputs": [
    {
     "name": "stdout",
     "output_type": "stream",
     "text": [
      "Job ID: ftjob-TfThlnKS3kg0ftUeYsIpdxr4\n",
      "Status: validating_files\n"
     ]
    }
   ],
   "source": [
    "print(\"Job ID:\", job.id)\n",
    "print(\"Status:\", job.status)"
   ]
  },
  {
   "cell_type": "markdown",
   "id": "03d9feec-80b8-4ab1-904e-367e850de6ae",
   "metadata": {},
   "source": [
    "### 학습 과정 확인"
   ]
  },
  {
   "cell_type": "code",
   "execution_count": 28,
   "id": "dd141a4a-4af9-48ce-8d37-56549bf7a373",
   "metadata": {},
   "outputs": [
    {
     "name": "stdout",
     "output_type": "stream",
     "text": [
      "Created fine-tuning job: ftjob-TfThlnKS3kg0ftUeYsIpdxr4\n",
      "Validating training file: file-Ts9akwRVBQKq5aaXDcqmGk and validation file: file-H5c2qx7vhHZUgBg2Nfs3n7\n"
     ]
    }
   ],
   "source": [
    "# List up to 10 events from a fine-tuning job\n",
    "response = client.fine_tuning.jobs.list_events(fine_tuning_job_id=job.id, limit=10)\n",
    "events = response.data\n",
    "events.reverse()\n",
    "\n",
    "for event in events:\n",
    "    print(event.message)"
   ]
  },
  {
   "cell_type": "markdown",
   "id": "664c83de-963b-4117-a136-b74ae47051d6",
   "metadata": {},
   "source": [
    "## Finetuning된 모델 Inference하기"
   ]
  },
  {
   "cell_type": "code",
   "execution_count": 29,
   "id": "598d21a6-8a67-428e-9b7b-3d6d596949a0",
   "metadata": {},
   "outputs": [],
   "source": [
    "from langchain_openai import ChatOpenAI\n",
    "from langchain.prompts import ChatPromptTemplate\n",
    "from langchain.schema import StrOutputParser"
   ]
  },
  {
   "cell_type": "code",
   "execution_count": 30,
   "id": "87b69c53-d83b-4edc-9572-0efb6db729d9",
   "metadata": {},
   "outputs": [],
   "source": [
    "infer_model = \"ft:gpt-3.5-turbo-1106:personal::SOMETHING\""
   ]
  },
  {
   "cell_type": "code",
   "execution_count": 31,
   "id": "777893d3-ca55-4571-9c26-25a0e7abfd4b",
   "metadata": {},
   "outputs": [],
   "source": [
    "llm = ChatOpenAI(model=infer_model)"
   ]
  },
  {
   "cell_type": "code",
   "execution_count": 32,
   "id": "a0986991-c0e4-4eb4-9fb5-6bfaf820bdb6",
   "metadata": {},
   "outputs": [],
   "source": [
    "example_profile = \"\"\"\\\n",
    "이름: 김태현\n",
    "나이: 27\n",
    "성별: 남자\n",
    "직업: 프로그래머\n",
    "키워드: 코딩, 등산, 커피\"\"\"\n",
    "    "
   ]
  },
  {
   "cell_type": "code",
   "execution_count": 33,
   "id": "0ed2f5ad-6ae1-42b6-9c91-1704889edb5d",
   "metadata": {},
   "outputs": [],
   "source": [
    "keyword_prompt_template = ChatPromptTemplate.from_messages(\n",
    "    [\n",
    "        (\"system\", \"유저의 프로필을 참고해서 소개팅에 어울리는 멋진 자기소개 만들어줘\"),\n",
    "        (\"human\", \"{input}\" )\n",
    "    ]\n",
    ")"
   ]
  },
  {
   "cell_type": "code",
   "execution_count": 34,
   "id": "af14af53-638d-4d9c-bf05-812644089e6b",
   "metadata": {},
   "outputs": [],
   "source": [
    "extract_keyword_chain = keyword_prompt_template | llm | StrOutputParser()"
   ]
  },
  {
   "cell_type": "code",
   "execution_count": 35,
   "id": "2bbe1a88-a1b3-4ec5-8ec0-5470df0b291e",
   "metadata": {},
   "outputs": [
    {
     "data": {
      "text/plain": [
       "'안녕하세요, 저는 김태현이라고 합니다. 프로그래머로 일하고 있는 27살 남성입니다. 코딩을 좋아하며 주말에는 등산을 즐깁니다. 커피를 사랑하며 새로운 카페를 찾아다니는 것을 취미로 삼고 있어요. 지적인 호흡을 공유하며 함께 새로운 경험을 만들어 나가고 싶습니다. 같이 코딩하고 커피마시며 여행가면서 등산하는 친구를 찾고 있어요. 함께 새로운 경험을 만들어보고 싶은 분이 계시다면 저를 찾아주세요!'"
      ]
     },
     "execution_count": 35,
     "metadata": {},
     "output_type": "execute_result"
    }
   ],
   "source": [
    "extract_keyword_chain.invoke({\"input\": example_profile})"
   ]
  },
  {
   "cell_type": "code",
   "execution_count": null,
   "id": "dd082e06-9bc6-4ccc-a556-c42d9b1f8f0c",
   "metadata": {},
   "outputs": [],
   "source": []
  }
 ],
 "metadata": {
  "kernelspec": {
   "display_name": "Python 3 (ipykernel)",
   "language": "python",
   "name": "python3"
  },
  "language_info": {
   "codemirror_mode": {
    "name": "ipython",
    "version": 3
   },
   "file_extension": ".py",
   "mimetype": "text/x-python",
   "name": "python",
   "nbconvert_exporter": "python",
   "pygments_lexer": "ipython3",
   "version": "3.11.6"
  }
 },
 "nbformat": 4,
 "nbformat_minor": 5
}
