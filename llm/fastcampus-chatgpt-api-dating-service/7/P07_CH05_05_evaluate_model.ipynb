{
 "cells": [
  {
   "cell_type": "markdown",
   "id": "ad193300-5c53-44f9-ac81-fc8ff83dc5fc",
   "metadata": {},
   "source": [
    "# 감성 분석 모델 평가하기"
   ]
  },
  {
   "cell_type": "markdown",
   "id": "f1944b16-a3d0-416a-b9d1-843b9a504ce4",
   "metadata": {},
   "source": [
    "## 데이터 로드하기"
   ]
  },
  {
   "cell_type": "code",
   "execution_count": 1,
   "id": "347bc9bb-42b3-4aa5-9d67-5d8f3070392e",
   "metadata": {},
   "outputs": [],
   "source": [
    "import pandas as pd"
   ]
  },
  {
   "cell_type": "code",
   "execution_count": 2,
   "id": "6786792d-7bfb-4002-8136-cb4ad562bf54",
   "metadata": {},
   "outputs": [],
   "source": [
    "df = pd.read_json(\"./conv_sent_test.jsonl\", orient='record', lines=True)"
   ]
  },
  {
   "cell_type": "code",
   "execution_count": 3,
   "id": "f8ba6187-bb4e-42ba-8d3e-1967d001aef9",
   "metadata": {},
   "outputs": [
    {
     "data": {
      "text/html": [
       "<div>\n",
       "<style scoped>\n",
       "    .dataframe tbody tr th:only-of-type {\n",
       "        vertical-align: middle;\n",
       "    }\n",
       "\n",
       "    .dataframe tbody tr th {\n",
       "        vertical-align: top;\n",
       "    }\n",
       "\n",
       "    .dataframe thead th {\n",
       "        text-align: right;\n",
       "    }\n",
       "</style>\n",
       "<table border=\"1\" class=\"dataframe\">\n",
       "  <thead>\n",
       "    <tr style=\"text-align: right;\">\n",
       "      <th></th>\n",
       "      <th>messages</th>\n",
       "    </tr>\n",
       "  </thead>\n",
       "  <tbody>\n",
       "    <tr>\n",
       "      <th>0</th>\n",
       "      <td>[{'role': 'system', 'content': '다음 대화의 내용에 대해 ...</td>\n",
       "    </tr>\n",
       "    <tr>\n",
       "      <th>1</th>\n",
       "      <td>[{'role': 'system', 'content': '다음 대화의 내용에 대해 ...</td>\n",
       "    </tr>\n",
       "    <tr>\n",
       "      <th>2</th>\n",
       "      <td>[{'role': 'system', 'content': '다음 대화의 내용에 대해 ...</td>\n",
       "    </tr>\n",
       "    <tr>\n",
       "      <th>3</th>\n",
       "      <td>[{'role': 'system', 'content': '다음 대화의 내용에 대해 ...</td>\n",
       "    </tr>\n",
       "    <tr>\n",
       "      <th>4</th>\n",
       "      <td>[{'role': 'system', 'content': '다음 대화의 내용에 대해 ...</td>\n",
       "    </tr>\n",
       "  </tbody>\n",
       "</table>\n",
       "</div>"
      ],
      "text/plain": [
       "                                            messages\n",
       "0  [{'role': 'system', 'content': '다음 대화의 내용에 대해 ...\n",
       "1  [{'role': 'system', 'content': '다음 대화의 내용에 대해 ...\n",
       "2  [{'role': 'system', 'content': '다음 대화의 내용에 대해 ...\n",
       "3  [{'role': 'system', 'content': '다음 대화의 내용에 대해 ...\n",
       "4  [{'role': 'system', 'content': '다음 대화의 내용에 대해 ..."
      ]
     },
     "execution_count": 3,
     "metadata": {},
     "output_type": "execute_result"
    }
   ],
   "source": [
    "df"
   ]
  },
  {
   "cell_type": "code",
   "execution_count": 4,
   "id": "62c7a1fa-e02d-486e-b214-15745ac89eed",
   "metadata": {},
   "outputs": [
    {
     "data": {
      "text/plain": [
       "[{'role': 'system', 'content': \"다음 대화의 내용에 대해 '긍정' 또는 '부정'으로 감성 분석해줘.\"},\n",
       " {'role': 'user',\n",
       "  'content': '철수: 안녕하세요? 평소에 어떤 취미로 시간을 보내세요?\\n영희: 안녕하세요, 보통 책 읽거나 영화 보는 걸 좋아해요. 당신은요?\\n철수: 저는 주로 운동을 좋아해요. 특히 등산이요.\\n영희: 아, 저와는 잘 안 맞을 것 같네요. 저는 운동하는 걸 별로 좋아하지 않아서요.'},\n",
       " {'role': 'assistant', 'content': '부정'}]"
      ]
     },
     "execution_count": 4,
     "metadata": {},
     "output_type": "execute_result"
    }
   ],
   "source": [
    "df.iloc[0]['messages']"
   ]
  },
  {
   "cell_type": "code",
   "execution_count": 5,
   "id": "5423ee82-d8fc-45e2-876f-23742710ab31",
   "metadata": {},
   "outputs": [],
   "source": [
    "df['conv_text'] = df.apply(lambda row: row['messages'][1]['content'], axis=1)"
   ]
  },
  {
   "cell_type": "code",
   "execution_count": 6,
   "id": "671eaf94-0b3d-4fc7-8064-4e3d3c09203b",
   "metadata": {},
   "outputs": [],
   "source": [
    "df['gold'] = df.apply(lambda row: row['messages'][2]['content'], axis=1)"
   ]
  },
  {
   "cell_type": "code",
   "execution_count": 7,
   "id": "6eca77a4-d573-4050-a012-2ee8a36b9194",
   "metadata": {},
   "outputs": [
    {
     "data": {
      "text/html": [
       "<div>\n",
       "<style scoped>\n",
       "    .dataframe tbody tr th:only-of-type {\n",
       "        vertical-align: middle;\n",
       "    }\n",
       "\n",
       "    .dataframe tbody tr th {\n",
       "        vertical-align: top;\n",
       "    }\n",
       "\n",
       "    .dataframe thead th {\n",
       "        text-align: right;\n",
       "    }\n",
       "</style>\n",
       "<table border=\"1\" class=\"dataframe\">\n",
       "  <thead>\n",
       "    <tr style=\"text-align: right;\">\n",
       "      <th></th>\n",
       "      <th>conv_text</th>\n",
       "      <th>gold</th>\n",
       "    </tr>\n",
       "  </thead>\n",
       "  <tbody>\n",
       "    <tr>\n",
       "      <th>0</th>\n",
       "      <td>철수: 안녕하세요? 평소에 어떤 취미로 시간을 보내세요?\\n영희: 안녕하세요, 보통...</td>\n",
       "      <td>부정</td>\n",
       "    </tr>\n",
       "    <tr>\n",
       "      <th>1</th>\n",
       "      <td>지훈: 안녕하세요, 지훈이라고 합니다. 취미로는 주로 사진 찍는 걸 좋아해요. 여러...</td>\n",
       "      <td>긍정</td>\n",
       "    </tr>\n",
       "    <tr>\n",
       "      <th>2</th>\n",
       "      <td>지훈: 그래서, 너 평소에 무슨 취미로 시간 보내?\\n혜수: 나? 음... 사실 별...</td>\n",
       "      <td>부정</td>\n",
       "    </tr>\n",
       "    <tr>\n",
       "      <th>3</th>\n",
       "      <td>지훈: 안녕하세요, 손지훈입니다. 요즘에는 여가 시간에 뭐 하시나요?\\n은지: 안녕...</td>\n",
       "      <td>긍정</td>\n",
       "    </tr>\n",
       "    <tr>\n",
       "      <th>4</th>\n",
       "      <td>김민준: 요즘에는 무슨 취미로 시간을 보내세요?\\n이하늘: 음, 그냥 집에서 푹 쉬...</td>\n",
       "      <td>부정</td>\n",
       "    </tr>\n",
       "  </tbody>\n",
       "</table>\n",
       "</div>"
      ],
      "text/plain": [
       "                                           conv_text gold\n",
       "0  철수: 안녕하세요? 평소에 어떤 취미로 시간을 보내세요?\\n영희: 안녕하세요, 보통...   부정\n",
       "1  지훈: 안녕하세요, 지훈이라고 합니다. 취미로는 주로 사진 찍는 걸 좋아해요. 여러...   긍정\n",
       "2  지훈: 그래서, 너 평소에 무슨 취미로 시간 보내?\\n혜수: 나? 음... 사실 별...   부정\n",
       "3  지훈: 안녕하세요, 손지훈입니다. 요즘에는 여가 시간에 뭐 하시나요?\\n은지: 안녕...   긍정\n",
       "4  김민준: 요즘에는 무슨 취미로 시간을 보내세요?\\n이하늘: 음, 그냥 집에서 푹 쉬...   부정"
      ]
     },
     "execution_count": 7,
     "metadata": {},
     "output_type": "execute_result"
    }
   ],
   "source": [
    "df = df.drop(columns='messages')\n",
    "df"
   ]
  },
  {
   "cell_type": "markdown",
   "id": "af4b0b57-87f3-4e13-a1c7-3cb46587777f",
   "metadata": {},
   "source": [
    "## Inference 해서 Prediction 만들기"
   ]
  },
  {
   "cell_type": "code",
   "execution_count": 8,
   "id": "598d21a6-8a67-428e-9b7b-3d6d596949a0",
   "metadata": {},
   "outputs": [],
   "source": [
    "from langchain_openai import ChatOpenAI\n",
    "from langchain.prompts import ChatPromptTemplate\n",
    "from langchain.schema import StrOutputParser"
   ]
  },
  {
   "cell_type": "code",
   "execution_count": 11,
   "id": "87b69c53-d83b-4edc-9572-0efb6db729d9",
   "metadata": {},
   "outputs": [],
   "source": [
    "infer_model = \"ft:gpt-3.5-turbo-1106:personal::SOMETHING\""
   ]
  },
  {
   "cell_type": "code",
   "execution_count": 12,
   "id": "777893d3-ca55-4571-9c26-25a0e7abfd4b",
   "metadata": {},
   "outputs": [],
   "source": [
    "llm = ChatOpenAI(model=infer_model)"
   ]
  },
  {
   "cell_type": "code",
   "execution_count": 13,
   "id": "a0986991-c0e4-4eb4-9fb5-6bfaf820bdb6",
   "metadata": {},
   "outputs": [],
   "source": [
    "example_conv_text = \"\"\"\\\n",
    "김민준: 안녕하세요, 처음 뵙겠습니다. 김민준이라고 해요.\n",
    "이서연: 네, 안녕하세요. 이서연입니다. \n",
    "김민준: 요즘 어떻게 지내세요? 취미가 뭐에요?\n",
    "이서연: 그냥 그래요. 별로 특별한 취미는 없고요, 여기 와서 할 이야기가 그게 전부인가요?\n",
    "김민준: 아니, 그게... 좀 더 서로를 알아가는 과정이라 생각해서요.\n",
    "이서연: 솔직히 말해서 여기 오는 것 자체가 별로였어요. 죄송하지만 저는 이만 가볼게요.\n",
    "\"\"\""
   ]
  },
  {
   "cell_type": "code",
   "execution_count": 14,
   "id": "0ed2f5ad-6ae1-42b6-9c91-1704889edb5d",
   "metadata": {},
   "outputs": [],
   "source": [
    "sentiment_prompt_template = ChatPromptTemplate.from_messages(\n",
    "    [\n",
    "        (\"system\", \"다음 대화의 내용에 대해 '긍정' 또는 '부정'으로 감성 분석해줘.\"),\n",
    "        (\"human\", \"{input}\" )\n",
    "    ]\n",
    ")"
   ]
  },
  {
   "cell_type": "code",
   "execution_count": 15,
   "id": "af14af53-638d-4d9c-bf05-812644089e6b",
   "metadata": {},
   "outputs": [],
   "source": [
    "sentiment_chain = sentiment_prompt_template | llm | StrOutputParser()"
   ]
  },
  {
   "cell_type": "code",
   "execution_count": 16,
   "id": "2bbe1a88-a1b3-4ec5-8ec0-5470df0b291e",
   "metadata": {},
   "outputs": [
    {
     "data": {
      "text/plain": [
       "'부정'"
      ]
     },
     "execution_count": 16,
     "metadata": {},
     "output_type": "execute_result"
    }
   ],
   "source": [
    "sentiment_chain.invoke({\"input\": example_conv_text})"
   ]
  },
  {
   "cell_type": "code",
   "execution_count": 17,
   "id": "bbea8d0f-cc79-419c-a7d5-eaedcfa4e6cf",
   "metadata": {},
   "outputs": [],
   "source": [
    "df['pred'] = df.apply(lambda row: sentiment_chain.invoke({\"input\": row['conv_text']}), axis=1) "
   ]
  },
  {
   "cell_type": "code",
   "execution_count": 18,
   "id": "f71917f1-1198-473a-b702-8f3d945e7543",
   "metadata": {},
   "outputs": [
    {
     "data": {
      "text/html": [
       "<div>\n",
       "<style scoped>\n",
       "    .dataframe tbody tr th:only-of-type {\n",
       "        vertical-align: middle;\n",
       "    }\n",
       "\n",
       "    .dataframe tbody tr th {\n",
       "        vertical-align: top;\n",
       "    }\n",
       "\n",
       "    .dataframe thead th {\n",
       "        text-align: right;\n",
       "    }\n",
       "</style>\n",
       "<table border=\"1\" class=\"dataframe\">\n",
       "  <thead>\n",
       "    <tr style=\"text-align: right;\">\n",
       "      <th></th>\n",
       "      <th>conv_text</th>\n",
       "      <th>gold</th>\n",
       "      <th>pred</th>\n",
       "    </tr>\n",
       "  </thead>\n",
       "  <tbody>\n",
       "    <tr>\n",
       "      <th>0</th>\n",
       "      <td>철수: 안녕하세요? 평소에 어떤 취미로 시간을 보내세요?\\n영희: 안녕하세요, 보통...</td>\n",
       "      <td>부정</td>\n",
       "      <td>부정</td>\n",
       "    </tr>\n",
       "    <tr>\n",
       "      <th>1</th>\n",
       "      <td>지훈: 안녕하세요, 지훈이라고 합니다. 취미로는 주로 사진 찍는 걸 좋아해요. 여러...</td>\n",
       "      <td>긍정</td>\n",
       "      <td>긍정</td>\n",
       "    </tr>\n",
       "    <tr>\n",
       "      <th>2</th>\n",
       "      <td>지훈: 그래서, 너 평소에 무슨 취미로 시간 보내?\\n혜수: 나? 음... 사실 별...</td>\n",
       "      <td>부정</td>\n",
       "      <td>부정</td>\n",
       "    </tr>\n",
       "    <tr>\n",
       "      <th>3</th>\n",
       "      <td>지훈: 안녕하세요, 손지훈입니다. 요즘에는 여가 시간에 뭐 하시나요?\\n은지: 안녕...</td>\n",
       "      <td>긍정</td>\n",
       "      <td>긍정</td>\n",
       "    </tr>\n",
       "    <tr>\n",
       "      <th>4</th>\n",
       "      <td>김민준: 요즘에는 무슨 취미로 시간을 보내세요?\\n이하늘: 음, 그냥 집에서 푹 쉬...</td>\n",
       "      <td>부정</td>\n",
       "      <td>부정</td>\n",
       "    </tr>\n",
       "  </tbody>\n",
       "</table>\n",
       "</div>"
      ],
      "text/plain": [
       "                                           conv_text gold pred\n",
       "0  철수: 안녕하세요? 평소에 어떤 취미로 시간을 보내세요?\\n영희: 안녕하세요, 보통...   부정   부정\n",
       "1  지훈: 안녕하세요, 지훈이라고 합니다. 취미로는 주로 사진 찍는 걸 좋아해요. 여러...   긍정   긍정\n",
       "2  지훈: 그래서, 너 평소에 무슨 취미로 시간 보내?\\n혜수: 나? 음... 사실 별...   부정   부정\n",
       "3  지훈: 안녕하세요, 손지훈입니다. 요즘에는 여가 시간에 뭐 하시나요?\\n은지: 안녕...   긍정   긍정\n",
       "4  김민준: 요즘에는 무슨 취미로 시간을 보내세요?\\n이하늘: 음, 그냥 집에서 푹 쉬...   부정   부정"
      ]
     },
     "execution_count": 18,
     "metadata": {},
     "output_type": "execute_result"
    }
   ],
   "source": [
    "df"
   ]
  },
  {
   "cell_type": "code",
   "execution_count": null,
   "id": "a83191e9-8285-4c1d-bbf0-f7235cc3a416",
   "metadata": {},
   "outputs": [],
   "source": []
  },
  {
   "cell_type": "markdown",
   "id": "42547eca-3d5b-4b26-a7da-ca9517e82fe6",
   "metadata": {},
   "source": [
    "## 평가하기"
   ]
  },
  {
   "cell_type": "code",
   "execution_count": 19,
   "id": "94f4aefa-a43c-47a4-825e-77fc5c1ac2b5",
   "metadata": {},
   "outputs": [],
   "source": [
    "import numpy as np\n",
    "import matplotlib.pyplot as plt\n",
    "from sklearn.metrics import confusion_matrix, precision_recall_fscore_support, accuracy_score\n",
    "import seaborn as sns"
   ]
  },
  {
   "cell_type": "code",
   "execution_count": 20,
   "id": "eec43350-7b2a-468b-b985-5b6a1f622f62",
   "metadata": {},
   "outputs": [],
   "source": [
    "y_true = [1 if sentiment == '긍정' else 0 for sentiment in df['gold']]\n",
    "y_pred = [1 if sentiment == '긍정' else 0 for sentiment in df['pred']]  # 예측 레이블"
   ]
  },
  {
   "cell_type": "code",
   "execution_count": 21,
   "id": "7406b739-175c-48fe-aecc-1dee2e9acd4a",
   "metadata": {},
   "outputs": [
    {
     "data": {
      "text/plain": [
       "[0, 1, 0, 1, 0]"
      ]
     },
     "execution_count": 21,
     "metadata": {},
     "output_type": "execute_result"
    }
   ],
   "source": [
    "y_true"
   ]
  },
  {
   "cell_type": "code",
   "execution_count": 22,
   "id": "71ca7b62-20f0-4b45-96b9-d0a55908aae9",
   "metadata": {},
   "outputs": [
    {
     "data": {
      "text/plain": [
       "[0, 1, 0, 1, 0]"
      ]
     },
     "execution_count": 22,
     "metadata": {},
     "output_type": "execute_result"
    }
   ],
   "source": [
    "y_pred"
   ]
  },
  {
   "cell_type": "code",
   "execution_count": 23,
   "id": "3527cc7c-b151-42dd-b766-060a3211b167",
   "metadata": {},
   "outputs": [
    {
     "data": {
      "text/plain": [
       "(1.0,\n",
       " 1.0,\n",
       " 1.0,\n",
       " array([[3, 0],\n",
       "        [0, 2]]))"
      ]
     },
     "execution_count": 23,
     "metadata": {},
     "output_type": "execute_result"
    }
   ],
   "source": [
    "# 메트릭 계산\n",
    "precision, recall, f_score, _ = precision_recall_fscore_support(y_true, y_pred, average='binary')\n",
    "accuracy = accuracy_score(y_true, y_pred)\n",
    "\n",
    "# 혼동 행렬 계산\n",
    "conf_matrix = confusion_matrix(y_true, y_pred)\n",
    "\n",
    "(precision, recall, accuracy, conf_matrix)"
   ]
  },
  {
   "cell_type": "code",
   "execution_count": 24,
   "id": "9ac66d83-669b-4a3c-a775-69d3b83aeec3",
   "metadata": {},
   "outputs": [
    {
     "data": {
      "image/png": "[encoded data removed]",
      "text/plain": [
       "<Figure size 1000x700 with 1 Axes>"
      ]
     },
     "metadata": {},
     "output_type": "display_data"
    },
    {
     "data": {
      "image/png": "[encoded data removed]",
      "text/plain": [
       "<Figure size 800x500 with 1 Axes>"
      ]
     },
     "metadata": {},
     "output_type": "display_data"
    }
   ],
   "source": [
    "# 혼동 행렬 시각화\n",
    "plt.figure(figsize=(10, 7))\n",
    "sns.heatmap(conf_matrix, annot=True, fmt='d', cmap='Blues', cbar=False)\n",
    "plt.xlabel('Predicted Label')\n",
    "plt.ylabel('True Label')\n",
    "plt.title('Confusion Matrix')\n",
    "plt.show()\n",
    "\n",
    "# 메트릭 시각화\n",
    "metrics = ['Precision', 'Recall', 'Accuracy']\n",
    "values = [precision, recall, accuracy]\n",
    "\n",
    "plt.figure(figsize=(8, 5))\n",
    "sns.barplot(x=metrics, y=values)\n",
    "plt.ylim(0, 1)\n",
    "plt.title('Classification Metrics')\n",
    "plt.ylabel('Value')\n",
    "plt.show()"
   ]
  },
  {
   "cell_type": "code",
   "execution_count": null,
   "id": "15f3fde1-ab2d-4a0e-80a5-1c28aaea7f48",
   "metadata": {},
   "outputs": [],
   "source": []
  },
  {
   "cell_type": "code",
   "execution_count": null,
   "id": "5cca0f14-03c5-4e43-a7ea-b4750f255d42",
   "metadata": {},
   "outputs": [],
   "source": []
  }
 ],
 "metadata": {
  "kernelspec": {
   "display_name": "Python 3 (ipykernel)",
   "language": "python",
   "name": "python3"
  },
  "language_info": {
   "codemirror_mode": {
    "name": "ipython",
    "version": 3
   },
   "file_extension": ".py",
   "mimetype": "text/x-python",
   "name": "python",
   "nbconvert_exporter": "python",
   "pygments_lexer": "ipython3",
   "version": "3.11.6"
  }
 },
 "nbformat": 4,
 "nbformat_minor": 5
}
