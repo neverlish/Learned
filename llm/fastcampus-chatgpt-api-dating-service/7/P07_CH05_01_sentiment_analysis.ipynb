{
 "cells": [
  {
   "cell_type": "markdown",
   "id": "ad7c38af-baa6-47b2-a85e-98ad97979ad6",
   "metadata": {},
   "source": [
    "# ChatGPT API를 이용해 기본적인 감성 분석"
   ]
  },
  {
   "cell_type": "code",
   "execution_count": 1,
   "id": "3f066580-29ce-4c14-af39-31967c81dc9d",
   "metadata": {},
   "outputs": [],
   "source": [
    "from langchain_openai import ChatOpenAI\n",
    "from langchain_core.prompts import ChatPromptTemplate, HumanMessagePromptTemplate\n",
    "from langchain_core.output_parsers import StrOutputParser"
   ]
  },
  {
   "cell_type": "code",
   "execution_count": 2,
   "id": "3088269a-e6b0-4e79-b791-0420523b4347",
   "metadata": {},
   "outputs": [],
   "source": [
    "model = ChatOpenAI(model=\"gpt-3.5-turbo\", temperature=0)"
   ]
  },
  {
   "cell_type": "code",
   "execution_count": 3,
   "id": "b1f3dd1b-3731-4799-a01d-b9f47102e40c",
   "metadata": {},
   "outputs": [],
   "source": [
    "human_prompt_template = HumanMessagePromptTemplate.from_template(\n",
    "                            \"다음의 문장이 긍정인지 부정인지 Positive 또는 Negative 로만 대답해줘.\\n\"\n",
    "                            \"{input}\")\n",
    "\n",
    "prompt = ChatPromptTemplate.from_messages(\n",
    "    [\n",
    "        human_prompt_template,\n",
    "    ])"
   ]
  },
  {
   "cell_type": "code",
   "execution_count": 4,
   "id": "2a45ca93-b369-4eb6-9dba-5d19114b59b3",
   "metadata": {},
   "outputs": [],
   "source": [
    "sentiment_analysis_chain = prompt | model | StrOutputParser()"
   ]
  },
  {
   "cell_type": "code",
   "execution_count": 5,
   "id": "87ada190-1e77-47c9-bf53-506d7e6f27be",
   "metadata": {},
   "outputs": [
    {
     "data": {
      "text/plain": [
       "'Positive'"
      ]
     },
     "execution_count": 5,
     "metadata": {},
     "output_type": "execute_result"
    }
   ],
   "source": [
    "sentiment_analysis_chain.invoke({\"input\": \"이 영화 재밌다\"})"
   ]
  },
  {
   "cell_type": "code",
   "execution_count": 6,
   "id": "7c10d3a6-38d7-45d6-860b-ddd4c66fef44",
   "metadata": {},
   "outputs": [
    {
     "data": {
      "text/plain": [
       "'Negative'"
      ]
     },
     "execution_count": 6,
     "metadata": {},
     "output_type": "execute_result"
    }
   ],
   "source": [
    "sentiment_analysis_chain.invoke({\"input\": \"이 영화 재미없다\"})"
   ]
  },
  {
   "cell_type": "code",
   "execution_count": null,
   "id": "7bae7300-8c74-464c-a40c-f57d380b6957",
   "metadata": {},
   "outputs": [],
   "source": []
  }
 ],
 "metadata": {
  "kernelspec": {
   "display_name": "Python 3 (ipykernel)",
   "language": "python",
   "name": "python3"
  },
  "language_info": {
   "codemirror_mode": {
    "name": "ipython",
    "version": 3
   },
   "file_extension": ".py",
   "mimetype": "text/x-python",
   "name": "python",
   "nbconvert_exporter": "python",
   "pygments_lexer": "ipython3",
   "version": "3.11.6"
  }
 },
 "nbformat": 4,
 "nbformat_minor": 5
}
