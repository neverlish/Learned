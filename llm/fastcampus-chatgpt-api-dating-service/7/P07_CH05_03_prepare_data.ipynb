{
 "cells": [
  {
   "cell_type": "markdown",
   "id": "63c1d7c3-e71d-4d70-ac6d-613c82380b10",
   "metadata": {},
   "source": [
    "# Finetuning을 통해 분류 성능 올리기 - 데이터 준비하기\n"
   ]
  },
  {
   "cell_type": "markdown",
   "id": "d526d0d3-e9a6-476d-a58d-3c931f312fbd",
   "metadata": {},
   "source": [
    "## 데이터 생성 Chain 만들기"
   ]
  },
  {
   "cell_type": "code",
   "execution_count": 1,
   "id": "7ccd9890-db5c-4399-8801-85512f75b271",
   "metadata": {},
   "outputs": [
    {
     "name": "stderr",
     "output_type": "stream",
     "text": [
      "/Users/hyeonjinho/.pyenv/versions/3.11.6/lib/python3.11/site-packages/IPython/core/interactiveshell.py:3577: LangChainDeprecationWarning: As of langchain-core 0.3.0, LangChain uses pydantic v2 internally. The langchain_core.pydantic_v1 module was a compatibility shim for pydantic v1, and should no longer be used. Please update the code to import from Pydantic directly.\n",
      "\n",
      "For example, replace imports like: `from langchain_core.pydantic_v1 import BaseModel`\n",
      "with: `from pydantic import BaseModel`\n",
      "or the v1 compatibility namespace if you are working in a code base that has not been fully upgraded to pydantic 2 yet. \tfrom pydantic.v1 import BaseModel\n",
      "\n",
      "  exec(code_obj, self.user_global_ns, self.user_ns)\n"
     ]
    }
   ],
   "source": [
    "from typing import List\n",
    "import random\n",
    "import json\n",
    "\n",
    "from langchain_openai import ChatOpenAI\n",
    "from langchain_core.prompts import ChatPromptTemplate, HumanMessagePromptTemplate\n",
    "from langchain_core.output_parsers import JsonOutputParser\n",
    "from langchain_core.pydantic_v1 import BaseModel, Field\n",
    "\n",
    "from tqdm.auto import tqdm"
   ]
  },
  {
   "cell_type": "code",
   "execution_count": 2,
   "id": "f81f7992-74df-450b-aced-d790d4267503",
   "metadata": {},
   "outputs": [],
   "source": [
    "model = ChatOpenAI(model='gpt-4-turbo-preview', temperature=1.)"
   ]
  },
  {
   "cell_type": "code",
   "execution_count": 3,
   "id": "30387832-4017-4c1f-a52f-c94772fd8597",
   "metadata": {},
   "outputs": [],
   "source": [
    "class Turn(BaseModel):\n",
    "    name: str = Field(description=\"이름\")\n",
    "    content: str = Field(description=\"발화\")"
   ]
  },
  {
   "cell_type": "code",
   "execution_count": 4,
   "id": "0d0a8a24-f5a7-4c7e-8f61-f5f113de21a1",
   "metadata": {},
   "outputs": [],
   "source": [
    "class Conversation(BaseModel):\n",
    "    subject: str = Field(description=\"대화 주제\")\n",
    "    turn_list: List[Turn] = Field(description=\"subject와 sentiment를 기반으로한 소개팅 상황에서의 대화. tunr_list의 최대 길이는 4.\")"
   ]
  },
  {
   "cell_type": "code",
   "execution_count": 5,
   "id": "8f6bf139-6d01-4f8f-b9ed-d64f05debfe3",
   "metadata": {
    "scrolled": true
   },
   "outputs": [
    {
     "data": {
      "text/plain": [
       "'The output should be formatted as a JSON instance that conforms to the JSON schema below.\\n\\nAs an example, for the schema {\"properties\": {\"foo\": {\"title\": \"Foo\", \"description\": \"a list of strings\", \"type\": \"array\", \"items\": {\"type\": \"string\"}}}, \"required\": [\"foo\"]}\\nthe object {\"foo\": [\"bar\", \"baz\"]} is a well-formatted instance of the schema. The object {\"properties\": {\"foo\": [\"bar\", \"baz\"]}} is not well-formatted.\\n\\nHere is the output schema:\\n```\\n{\"properties\": {\"subject\": {\"title\": \"Subject\", \"description\": \"대화 주제\", \"type\": \"string\"}, \"turn_list\": {\"title\": \"Turn List\", \"description\": \"subject와 sentiment를 기반으로한 소개팅 상황에서의 대화. tunr_list의 최대 길이는 4.\", \"type\": \"array\", \"items\": {\"$ref\": \"#/definitions/Turn\"}}}, \"required\": [\"subject\", \"turn_list\"], \"definitions\": {\"Turn\": {\"title\": \"Turn\", \"type\": \"object\", \"properties\": {\"name\": {\"title\": \"Name\", \"description\": \"이름\", \"type\": \"string\"}, \"content\": {\"title\": \"Content\", \"description\": \"발화\", \"type\": \"string\"}}, \"required\": [\"name\", \"content\"]}}}\\n```'"
      ]
     },
     "execution_count": 5,
     "metadata": {},
     "output_type": "execute_result"
    }
   ],
   "source": [
    "parser = JsonOutputParser(pydantic_object=Conversation)\n",
    "format_instructions = parser.get_format_instructions()\n",
    "format_instructions"
   ]
  },
  {
   "cell_type": "code",
   "execution_count": 6,
   "id": "0d6736bf-ac35-477f-ae67-0c465aa0e5ff",
   "metadata": {},
   "outputs": [],
   "source": [
    "human_prompt_template = HumanMessagePromptTemplate.from_template(\n",
    "                            \"두명의 한국인의 소개팅 상황에서의 대화를 만들어줘\\n대화의 감정: {sentiment}\\n{format_instructions}\")\n",
    "\n",
    "prompt = ChatPromptTemplate.from_messages(\n",
    "    [\n",
    "        human_prompt_template\n",
    "    ])\n",
    "prompt = prompt.partial(format_instructions=format_instructions)"
   ]
  },
  {
   "cell_type": "code",
   "execution_count": 7,
   "id": "fb2c8def-69de-4f96-8e95-4f8bf8fd04c3",
   "metadata": {},
   "outputs": [],
   "source": [
    "conv_gen_chain = prompt | model | parser"
   ]
  },
  {
   "cell_type": "code",
   "execution_count": 8,
   "id": "324a8110-8043-489a-b2c4-d2cb5b879ea6",
   "metadata": {},
   "outputs": [
    {
     "data": {
      "text/plain": [
       "{'subject': '취미와 관심사 공유하기',\n",
       " 'turn_list': [{'name': '지훈',\n",
       "   'content': '안녕하세요, 지훈입니다. 취미로 사진 찍는 걸 정말 좋아해요. 혹시 취미가 있으신가요?'},\n",
       "  {'name': '소영',\n",
       "   'content': '안녕하세요, 소영이에요. 저는 여행 다니면서 새로운 문화를 체험하는 걸 좋아해요. 사진 찍는 것도 여행 중 꼭 하는 건데, 우리 취미가 잘 맞는 것 같아요!'},\n",
       "  {'name': '지훈', 'content': '정말요? 그럼 다음에 같이 사진 찍으러 다녀보는 건 어떨까요?'},\n",
       "  {'name': '소영', 'content': '좋아요! 기대됩니다.'}]}"
      ]
     },
     "execution_count": 8,
     "metadata": {},
     "output_type": "execute_result"
    }
   ],
   "source": [
    "conv_gen_chain.invoke({\"sentiment\": \"긍정\"})"
   ]
  },
  {
   "cell_type": "code",
   "execution_count": 9,
   "id": "141cde45-61c9-43d4-8d24-4a45c89e7af8",
   "metadata": {},
   "outputs": [],
   "source": [
    "n_sample = 20"
   ]
  },
  {
   "cell_type": "code",
   "execution_count": 10,
   "id": "6802c9d1-c053-4723-8570-780033442284",
   "metadata": {},
   "outputs": [
    {
     "data": {
      "application/vnd.jupyter.widget-view+json": {
       "model_id": "ddfe644c82104078bdc911042f13db92",
       "version_major": 2,
       "version_minor": 0
      },
      "text/plain": [
       "  0%|          | 0/20 [00:00<?, ?it/s]"
      ]
     },
     "metadata": {},
     "output_type": "display_data"
    },
    {
     "name": "stdout",
     "output_type": "stream",
     "text": [
      "'NoneType' object does not support item assignment\n"
     ]
    }
   ],
   "source": [
    "sample_list = []\n",
    "\n",
    "for _ in tqdm(range(n_sample), total=n_sample):\n",
    "    try:\n",
    "        sentiment = \"긍정\" if random.random() < 0.5 else \"부정\"\n",
    "        \n",
    "        out = conv_gen_chain.invoke({\"sentiment\": sentiment})\n",
    "        out['sentiment'] = sentiment\n",
    "        sample_list.append(out)\n",
    "    except Exception as e:\n",
    "        print(e)"
   ]
  },
  {
   "cell_type": "code",
   "execution_count": 11,
   "id": "6773b3be-cf88-48d6-bbf7-d70c4fb28fa0",
   "metadata": {},
   "outputs": [
    {
     "data": {
      "text/plain": [
       "19"
      ]
     },
     "execution_count": 11,
     "metadata": {},
     "output_type": "execute_result"
    }
   ],
   "source": [
    "len(sample_list)"
   ]
  },
  {
   "cell_type": "code",
   "execution_count": 12,
   "id": "f06f5a9a-a26d-4ff5-a986-603f0f8f3a4d",
   "metadata": {},
   "outputs": [
    {
     "data": {
      "text/plain": [
       "{'subject': '취미 공유하기',\n",
       " 'turn_list': [{'name': '지훈',\n",
       "   'content': '안녕하세요, 지훈이에요. 요즘에는 어떤 취미로 시간을 보내세요?'},\n",
       "  {'name': '하은',\n",
       "   'content': '안녕하세요, 하은입니다. 저는 요즘에 사진 찍는 걸로 취미 생활을 하고 있어요. 지훈 씨는요?'},\n",
       "  {'name': '지훈',\n",
       "   'content': '오, 사진 찍기 정말 멋진 취미네요. 저는 등산을 좋아해요. 자연을 느끼면서 운동도 되니까요.'},\n",
       "  {'name': '하은',\n",
       "   'content': '등산이요? 저도 가끔 산책 겸 가벼운 등산을 즐겨요. 같이 등산 가기도 좋을 것 같네요.'}],\n",
       " 'sentiment': '긍정'}"
      ]
     },
     "execution_count": 12,
     "metadata": {},
     "output_type": "execute_result"
    }
   ],
   "source": [
    "sample_list[3]"
   ]
  },
  {
   "cell_type": "markdown",
   "id": "c1f1f1c0-aa78-4327-a274-fca4ebbffc51",
   "metadata": {},
   "source": [
    "## OpenAI finetuning 스타일 포맷 변경\n",
    "\n",
    "- jsonline 포맷\n",
    "- 예시\n",
    "```json\n",
    "{\"messages\": [{\"role\": \"system\", \"content\": \"Marv is a factual chatbot that is also sarcastic.\"}, {\"role\": \"user\", \"content\": \"What's the capital of France?\"}, {\"role\": \"assistant\", \"content\": \"Paris, as if everyone doesn't know that already.\"}]}\n",
    "{\"messages\": [{\"role\": \"system\", \"content\": \"Marv is a factual chatbot that is also sarcastic.\"}, {\"role\": \"user\", \"content\": \"Who wrote 'Romeo and Juliet'?\"}, {\"role\": \"assistant\", \"content\": \"Oh, just some guy named William Shakespeare. Ever heard of him?\"}]}\n",
    "{\"messages\": [{\"role\": \"system\", \"content\": \"Marv is a factual chatbot that is also sarcastic.\"}, {\"role\": \"user\", \"content\": \"How far is the Moon from Earth?\"}, {\"role\": \"assistant\", \"content\": \"Around 384,400 kilometers. Give or take a few, like that really matters.\"}]}\n",
    "```"
   ]
  },
  {
   "cell_type": "code",
   "execution_count": 13,
   "id": "8c6998f5-1d95-4cfe-a6f9-e529fea094a7",
   "metadata": {},
   "outputs": [],
   "source": [
    "def cvt_turn_list_to_conv_text(turn_list):\n",
    "    conv_text = \"\"\n",
    "    \n",
    "    for turn in turn_list:\n",
    "        conv_text += f\"{turn['name']}: {turn['content']}\\n\"\n",
    "    return conv_text.rstrip()"
   ]
  },
  {
   "cell_type": "code",
   "execution_count": 14,
   "id": "93f985ef-ed19-4ee1-b8bd-cfa5ee45bbb1",
   "metadata": {},
   "outputs": [],
   "source": [
    "def sample_to_messages(sample):\n",
    "    conv_text = cvt_turn_list_to_conv_text(sample['turn_list'])\n",
    "    sentiment = sample['sentiment']\n",
    "    \n",
    "    msgs = {\"messages\": [{\"role\": \"system\", \"content\": \"다음 대화의 내용에 대해 '긍정' 또는 '부정'으로 감성 분석해줘.\"},\n",
    "                          {\"role\": \"user\", \"content\": conv_text},\n",
    "                          {\"role\": \"assistant\", \"content\": sentiment}\n",
    "                         ]}\n",
    "    return msgs"
   ]
  },
  {
   "cell_type": "code",
   "execution_count": 15,
   "id": "df6cf4a3-9fd3-4803-ac82-30a3e3a7c293",
   "metadata": {},
   "outputs": [],
   "source": [
    "# JSONL 파일 생성 함수\n",
    "def create_jsonl(msgs_list, filename):\n",
    "    with open(filename, 'w', encoding='utf-8') as f:\n",
    "        for msgs in msgs_list:\n",
    "            json_line = json.dumps(msgs, ensure_ascii=False)\n",
    "            f.write(json_line + '\\n')"
   ]
  },
  {
   "cell_type": "code",
   "execution_count": 16,
   "id": "77a4f04c-2b9e-4ee1-b2f7-529ab302fc6f",
   "metadata": {},
   "outputs": [
    {
     "data": {
      "text/plain": [
       "{'subject': '취미 공유',\n",
       " 'turn_list': [{'name': '지훈', 'content': '안녕하세요, 만나서 반가워요. 취미가 뭐에요?'},\n",
       "  {'name': '은지', 'content': '안녕하세요! 저는 등산을 좋아해요. 지훈 씨는요?'},\n",
       "  {'name': '지훈', 'content': '저도 자연을 좋아해서 종종 등산하곤 해요. 같은 취미를 가지고 있어서 반가워요.'},\n",
       "  {'name': '은지', 'content': '정말요? 같이 등산하기 좋은 곳으로 가보고 싶네요.'}],\n",
       " 'sentiment': '긍정'}"
      ]
     },
     "execution_count": 16,
     "metadata": {},
     "output_type": "execute_result"
    }
   ],
   "source": [
    "sample_list[0]"
   ]
  },
  {
   "cell_type": "code",
   "execution_count": 17,
   "id": "2f284069-9031-4b19-8b45-973bf2ceb8c0",
   "metadata": {},
   "outputs": [],
   "source": [
    "msgs_list = [sample_to_messages(sample) for sample in sample_list]"
   ]
  },
  {
   "cell_type": "code",
   "execution_count": 18,
   "id": "a66a4ee7-8cfb-4be0-8fc2-7dcdca9aef5c",
   "metadata": {},
   "outputs": [
    {
     "data": {
      "text/plain": [
       "{'messages': [{'role': 'system',\n",
       "   'content': \"다음 대화의 내용에 대해 '긍정' 또는 '부정'으로 감성 분석해줘.\"},\n",
       "  {'role': 'user',\n",
       "   'content': '지훈: 안녕하세요, 만나서 반가워요. 취미가 뭐에요?\\n은지: 안녕하세요! 저는 등산을 좋아해요. 지훈 씨는요?\\n지훈: 저도 자연을 좋아해서 종종 등산하곤 해요. 같은 취미를 가지고 있어서 반가워요.\\n은지: 정말요? 같이 등산하기 좋은 곳으로 가보고 싶네요.'},\n",
       "  {'role': 'assistant', 'content': '긍정'}]}"
      ]
     },
     "execution_count": 18,
     "metadata": {},
     "output_type": "execute_result"
    }
   ],
   "source": [
    "msgs_list[0]"
   ]
  },
  {
   "cell_type": "code",
   "execution_count": 19,
   "id": "6eb7e053-3669-4f69-ad6c-4811be264c29",
   "metadata": {},
   "outputs": [],
   "source": [
    "n_total = len(msgs_list)\n",
    "n_train = int(n_total * 0.6)\n",
    "n_valid = int(n_total*0.2)"
   ]
  },
  {
   "cell_type": "code",
   "execution_count": 20,
   "id": "064941a4-60a5-4ad2-b58d-291f8791e8e3",
   "metadata": {},
   "outputs": [],
   "source": [
    "train_msgs_list = msgs_list[:n_train]\n",
    "valid_msgs_list = msgs_list[n_train:n_train + n_valid]\n",
    "test_msgs_list = msgs_list[n_train + n_valid:]\n"
   ]
  },
  {
   "cell_type": "code",
   "execution_count": 21,
   "id": "4ae26211-3d42-4fbb-b97a-28f0024ab4c7",
   "metadata": {},
   "outputs": [
    {
     "data": {
      "text/plain": [
       "(11, 3, 5)"
      ]
     },
     "execution_count": 21,
     "metadata": {},
     "output_type": "execute_result"
    }
   ],
   "source": [
    "len(train_msgs_list), len(valid_msgs_list), len(test_msgs_list)"
   ]
  },
  {
   "cell_type": "code",
   "execution_count": 22,
   "id": "a8fa4c95-f60d-4a0e-83a3-be9202763ea7",
   "metadata": {},
   "outputs": [],
   "source": [
    "# 훈련 및 검증 데이터셋을 JSONL 파일로 변환\n",
    "create_jsonl(train_msgs_list, 'conv_sent_train.jsonl')\n",
    "create_jsonl(valid_msgs_list, 'conv_sent_valid.jsonl')\n",
    "create_jsonl(test_msgs_list, 'conv_sent_test.jsonl')"
   ]
  }
 ],
 "metadata": {
  "kernelspec": {
   "display_name": "Python 3 (ipykernel)",
   "language": "python",
   "name": "python3"
  },
  "language_info": {
   "codemirror_mode": {
    "name": "ipython",
    "version": 3
   },
   "file_extension": ".py",
   "mimetype": "text/x-python",
   "name": "python",
   "nbconvert_exporter": "python",
   "pygments_lexer": "ipython3",
   "version": "3.11.6"
  }
 },
 "nbformat": 4,
 "nbformat_minor": 5
}
