{
 "cells": [
  {
   "cell_type": "markdown",
   "id": "6579f1d6-a64e-4587-9259-966fb4447848",
   "metadata": {},
   "source": [
    "# Finetuning을 통해 분류 성능 올리기 - 데이터 학습하고 추론하기"
   ]
  },
  {
   "cell_type": "code",
   "execution_count": 1,
   "id": "b27d31dc-20de-46cd-aef5-df20eceeb8d7",
   "metadata": {},
   "outputs": [],
   "source": [
    "from openai import OpenAI"
   ]
  },
  {
   "cell_type": "code",
   "execution_count": 2,
   "id": "3df5de88-3535-46c2-aa81-7e1de2038155",
   "metadata": {},
   "outputs": [],
   "source": [
    "client = OpenAI()"
   ]
  },
  {
   "cell_type": "markdown",
   "id": "f4d7828f-f971-4fde-bfa4-eaf63f23ccc9",
   "metadata": {},
   "source": [
    "## Upload File"
   ]
  },
  {
   "cell_type": "code",
   "execution_count": 3,
   "id": "a97c475c-e64c-4c1c-95c1-4cc3a3c9a6bf",
   "metadata": {},
   "outputs": [],
   "source": [
    "# 최소 10개 샘플 이상 필요\n",
    "train_file = client.files.create(\n",
    "  file=open(\"conv_sent_train.jsonl\", \"rb\"),\n",
    "  purpose=\"fine-tune\"\n",
    ")"
   ]
  },
  {
   "cell_type": "code",
   "execution_count": 4,
   "id": "d0dac8c1-6446-47ea-9d95-0b617cbcec5e",
   "metadata": {},
   "outputs": [
    {
     "data": {
      "text/plain": [
       "'file-GeSKdjaiHQ7X6MpWPfTwPA'"
      ]
     },
     "execution_count": 4,
     "metadata": {},
     "output_type": "execute_result"
    }
   ],
   "source": [
    "train_file.id"
   ]
  },
  {
   "cell_type": "code",
   "execution_count": 5,
   "id": "5fbbec8a-5fb0-4e29-beb2-38f30d159855",
   "metadata": {},
   "outputs": [],
   "source": [
    "valid_file = client.files.create(\n",
    "  file=open(\"conv_sent_valid.jsonl\", \"rb\"),\n",
    "  purpose=\"fine-tune\"\n",
    ")"
   ]
  },
  {
   "cell_type": "code",
   "execution_count": 6,
   "id": "c66de934-7f7e-4d4d-a3c0-1213634e0ea8",
   "metadata": {},
   "outputs": [
    {
     "data": {
      "text/plain": [
       "'file-22UJQN3kPJ14Ubd2mfkXwJ'"
      ]
     },
     "execution_count": 6,
     "metadata": {},
     "output_type": "execute_result"
    }
   ],
   "source": [
    "valid_file.id"
   ]
  },
  {
   "cell_type": "markdown",
   "id": "13707053-4c8b-4979-bb95-4c6767734af0",
   "metadata": {},
   "source": [
    "## Finetuning"
   ]
  },
  {
   "cell_type": "markdown",
   "id": "f46ff6b2-4b67-47c0-8634-9520f900b8c5",
   "metadata": {},
   "source": [
    "### Finetuning job 제출하기"
   ]
  },
  {
   "cell_type": "code",
   "execution_count": 7,
   "id": "ad8bd6ab-6a64-49f9-a541-cc8b6c63f236",
   "metadata": {},
   "outputs": [],
   "source": [
    "job = client.fine_tuning.jobs.create(\n",
    "  training_file=train_file.id,\n",
    "  validation_file=valid_file.id, \n",
    "  model=\"gpt-3.5-turbo-1106\",\n",
    "  hyperparameters={\n",
    "    \"n_epochs\": 3 # default: 3\n",
    "  }\n",
    ")"
   ]
  },
  {
   "cell_type": "code",
   "execution_count": 8,
   "id": "eef49ad7-f745-4bb0-9f24-54e96fab2295",
   "metadata": {},
   "outputs": [
    {
     "data": {
      "text/plain": [
       "'ftjob-TWMZQDujEHH5wHGcB4uNlIQ0'"
      ]
     },
     "execution_count": 8,
     "metadata": {},
     "output_type": "execute_result"
    }
   ],
   "source": [
    "job.id"
   ]
  },
  {
   "cell_type": "code",
   "execution_count": 9,
   "id": "b6c474a0-7d39-4f33-85ee-b77baf70f98b",
   "metadata": {},
   "outputs": [
    {
     "name": "stdout",
     "output_type": "stream",
     "text": [
      "Job ID: ftjob-TWMZQDujEHH5wHGcB4uNlIQ0\n",
      "Status: validating_files\n"
     ]
    }
   ],
   "source": [
    "print(\"Job ID:\", job.id)\n",
    "print(\"Status:\", job.status)"
   ]
  },
  {
   "cell_type": "markdown",
   "id": "564f4084-55df-42e9-b90c-6f24457486fd",
   "metadata": {},
   "source": [
    "### 현재 Finetuning 상태 가져오기\n"
   ]
  },
  {
   "cell_type": "code",
   "execution_count": 10,
   "id": "24d84aca-ccde-453c-8d64-e0a04a140988",
   "metadata": {},
   "outputs": [],
   "source": [
    "job = client.fine_tuning.jobs.retrieve(job.id)"
   ]
  },
  {
   "cell_type": "code",
   "execution_count": 11,
   "id": "e9868cf5-91ad-485f-8ca6-b71b17eb1069",
   "metadata": {},
   "outputs": [
    {
     "name": "stderr",
     "output_type": "stream",
     "text": [
      "/var/folders/1x/st3vh8xs6715dcgqc1gk2hhh0000gn/T/ipykernel_37197/127413622.py:1: PydanticDeprecatedSince20: The `dict` method is deprecated; use `model_dump` instead. Deprecated in Pydantic V2.0 to be removed in V3.0. See Pydantic V2 Migration Guide at https://errors.pydantic.dev/2.10/migration/\n",
      "  job.dict()\n"
     ]
    },
    {
     "data": {
      "text/plain": [
       "{'id': 'ftjob-TWMZQDujEHH5wHGcB4uNlIQ0',\n",
       " 'created_at': 1744703039,\n",
       " 'error': {'code': None, 'message': None, 'param': None},\n",
       " 'fine_tuned_model': None,\n",
       " 'finished_at': None,\n",
       " 'hyperparameters': {'batch_size': 'auto',\n",
       "  'learning_rate_multiplier': 'auto',\n",
       "  'n_epochs': 3},\n",
       " 'model': 'gpt-3.5-turbo-1106',\n",
       " 'object': 'fine_tuning.job',\n",
       " 'organization_id': 'org-qzBJNqx2R9Pz1HmKd4Zh0Dmj',\n",
       " 'result_files': [],\n",
       " 'seed': 1770077225,\n",
       " 'status': 'validating_files',\n",
       " 'trained_tokens': None,\n",
       " 'training_file': 'file-GeSKdjaiHQ7X6MpWPfTwPA',\n",
       " 'validation_file': 'file-22UJQN3kPJ14Ubd2mfkXwJ',\n",
       " 'estimated_finish': None,\n",
       " 'integrations': [],\n",
       " 'metadata': None,\n",
       " 'method': {'dpo': None,\n",
       "  'supervised': {'hyperparameters': {'batch_size': 'auto',\n",
       "    'learning_rate_multiplier': 'auto',\n",
       "    'n_epochs': 3}},\n",
       "  'type': 'supervised'},\n",
       " 'user_provided_suffix': None}"
      ]
     },
     "execution_count": 11,
     "metadata": {},
     "output_type": "execute_result"
    }
   ],
   "source": [
    "job.dict()"
   ]
  },
  {
   "cell_type": "code",
   "execution_count": 12,
   "id": "5efaa8f7-54b9-43a8-85a9-12aabf5f91b1",
   "metadata": {},
   "outputs": [
    {
     "name": "stdout",
     "output_type": "stream",
     "text": [
      "Job ID: ftjob-TWMZQDujEHH5wHGcB4uNlIQ0\n",
      "Status: validating_files\n"
     ]
    }
   ],
   "source": [
    "print(\"Job ID:\", job.id)\n",
    "print(\"Status:\", job.status)"
   ]
  },
  {
   "cell_type": "markdown",
   "id": "03d9feec-80b8-4ab1-904e-367e850de6ae",
   "metadata": {},
   "source": [
    "### 학습 과정 확인"
   ]
  },
  {
   "cell_type": "code",
   "execution_count": 13,
   "id": "dd141a4a-4af9-48ce-8d37-56549bf7a373",
   "metadata": {},
   "outputs": [
    {
     "name": "stdout",
     "output_type": "stream",
     "text": [
      "Created fine-tuning job: ftjob-TWMZQDujEHH5wHGcB4uNlIQ0\n",
      "Validating training file: file-GeSKdjaiHQ7X6MpWPfTwPA and validation file: file-22UJQN3kPJ14Ubd2mfkXwJ\n"
     ]
    }
   ],
   "source": [
    "# List up to 10 events from a fine-tuning job\n",
    "response = client.fine_tuning.jobs.list_events(fine_tuning_job_id=job.id, limit=10)\n",
    "events = response.data\n",
    "events.reverse()\n",
    "\n",
    "for event in events:\n",
    "    print(event.message)"
   ]
  },
  {
   "cell_type": "markdown",
   "id": "664c83de-963b-4117-a136-b74ae47051d6",
   "metadata": {},
   "source": [
    "## Finetuning된 모델 Inference하기"
   ]
  },
  {
   "cell_type": "code",
   "execution_count": 14,
   "id": "598d21a6-8a67-428e-9b7b-3d6d596949a0",
   "metadata": {},
   "outputs": [],
   "source": [
    "from langchain_openai import ChatOpenAI\n",
    "from langchain.prompts import ChatPromptTemplate\n",
    "from langchain.schema import StrOutputParser"
   ]
  },
  {
   "cell_type": "code",
   "execution_count": 15,
   "id": "87b69c53-d83b-4edc-9572-0efb6db729d9",
   "metadata": {},
   "outputs": [],
   "source": [
    "infer_model = \"ft:gpt-3.5-turbo-1106:personal::SOMETHING\""
   ]
  },
  {
   "cell_type": "code",
   "execution_count": 16,
   "id": "777893d3-ca55-4571-9c26-25a0e7abfd4b",
   "metadata": {},
   "outputs": [],
   "source": [
    "llm = ChatOpenAI(model=infer_model)"
   ]
  },
  {
   "cell_type": "code",
   "execution_count": 17,
   "id": "a0986991-c0e4-4eb4-9fb5-6bfaf820bdb6",
   "metadata": {},
   "outputs": [],
   "source": [
    "example_conv_text = \"\"\"\\\n",
    "김민준: 안녕하세요, 처음 뵙겠습니다. 김민준이라고 해요.\n",
    "이서연: 네, 안녕하세요. 이서연입니다. \n",
    "김민준: 요즘 어떻게 지내세요? 취미가 뭐에요?\n",
    "이서연: 그냥 그래요. 별로 특별한 취미는 없고요, 여기 와서 할 이야기가 그게 전부인가요?\n",
    "김민준: 아니, 그게... 좀 더 서로를 알아가는 과정이라 생각해서요.\n",
    "이서연: 솔직히 말해서 여기 오는 것 자체가 별로였어요. 죄송하지만 저는 이만 가볼게요.\n",
    "\"\"\""
   ]
  },
  {
   "cell_type": "code",
   "execution_count": 18,
   "id": "0ed2f5ad-6ae1-42b6-9c91-1704889edb5d",
   "metadata": {},
   "outputs": [],
   "source": [
    "sentiment_prompt_template = ChatPromptTemplate.from_messages(\n",
    "    [\n",
    "        (\"system\", \"다음 대화의 내용에 대해 '긍정' 또는 '부정'으로 감성 분석해줘.\"),\n",
    "        (\"human\", \"{input}\" )\n",
    "    ]\n",
    ")"
   ]
  },
  {
   "cell_type": "code",
   "execution_count": 19,
   "id": "af14af53-638d-4d9c-bf05-812644089e6b",
   "metadata": {},
   "outputs": [],
   "source": [
    "sentiment_chain = sentiment_prompt_template | llm | StrOutputParser()"
   ]
  },
  {
   "cell_type": "code",
   "execution_count": 20,
   "id": "2bbe1a88-a1b3-4ec5-8ec0-5470df0b291e",
   "metadata": {},
   "outputs": [
    {
     "data": {
      "text/plain": [
       "'부정'"
      ]
     },
     "execution_count": 20,
     "metadata": {},
     "output_type": "execute_result"
    }
   ],
   "source": [
    "sentiment_chain.invoke({\"input\": example_conv_text})"
   ]
  },
  {
   "cell_type": "code",
   "execution_count": null,
   "id": "9dc28e88-a8fb-459f-a2e3-20fe6e28c2d6",
   "metadata": {},
   "outputs": [],
   "source": []
  }
 ],
 "metadata": {
  "kernelspec": {
   "display_name": "Python 3 (ipykernel)",
   "language": "python",
   "name": "python3"
  },
  "language_info": {
   "codemirror_mode": {
    "name": "ipython",
    "version": 3
   },
   "file_extension": ".py",
   "mimetype": "text/x-python",
   "name": "python",
   "nbconvert_exporter": "python",
   "pygments_lexer": "ipython3",
   "version": "3.11.6"
  }
 },
 "nbformat": 4,
 "nbformat_minor": 5
}
