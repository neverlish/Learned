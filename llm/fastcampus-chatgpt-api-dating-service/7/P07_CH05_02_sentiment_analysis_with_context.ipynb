{
 "cells": [
  {
   "cell_type": "markdown",
   "id": "ad7c38af-baa6-47b2-a85e-98ad97979ad6",
   "metadata": {},
   "source": [
    "# LangChain & Prompt Engineering을 이용하여 감성 분석과 맥락을 통해 근거 추론하기"
   ]
  },
  {
   "cell_type": "code",
   "execution_count": 1,
   "id": "3f066580-29ce-4c14-af39-31967c81dc9d",
   "metadata": {},
   "outputs": [
    {
     "name": "stderr",
     "output_type": "stream",
     "text": [
      "/Users/hyeonjinho/.pyenv/versions/3.11.6/lib/python3.11/site-packages/IPython/core/interactiveshell.py:3577: LangChainDeprecationWarning: As of langchain-core 0.3.0, LangChain uses pydantic v2 internally. The langchain_core.pydantic_v1 module was a compatibility shim for pydantic v1, and should no longer be used. Please update the code to import from Pydantic directly.\n",
      "\n",
      "For example, replace imports like: `from langchain_core.pydantic_v1 import BaseModel`\n",
      "with: `from pydantic import BaseModel`\n",
      "or the v1 compatibility namespace if you are working in a code base that has not been fully upgraded to pydantic 2 yet. \tfrom pydantic.v1 import BaseModel\n",
      "\n",
      "  exec(code_obj, self.user_global_ns, self.user_ns)\n"
     ]
    }
   ],
   "source": [
    "from langchain_openai import ChatOpenAI\n",
    "from langchain_core.prompts import ChatPromptTemplate, HumanMessagePromptTemplate\n",
    "from langchain_core.output_parsers import JsonOutputParser\n",
    "from langchain_core.pydantic_v1 import BaseModel, Field"
   ]
  },
  {
   "cell_type": "code",
   "execution_count": 4,
   "id": "3088269a-e6b0-4e79-b791-0420523b4347",
   "metadata": {},
   "outputs": [],
   "source": [
    "model = ChatOpenAI(model=\"gpt-4-turbo-preview\", temperature=0)"
   ]
  },
  {
   "cell_type": "code",
   "execution_count": 5,
   "id": "986647c7-ede5-438a-8232-cb799b7feea2",
   "metadata": {},
   "outputs": [],
   "source": [
    "conversation = [{\n",
    "  \"content\": \"안녕하세요! 처음 뵙겠습니다.\",\n",
    "  \"name\": \"지한\"\n",
    "},\n",
    "{\n",
    "  \"content\": \"안녕하세요! 처음 만나서 반갑습니다. 커피 한 잔 어떠세요?\",\n",
    "  \"name\": \"수아\"\n",
    "},\n",
    "{\n",
    "  \"content\": \"안녕하세요! 저도 처음 만나서 반갑습니다. 네, 커피 한 잔 같이 마시면 좋겠네요. 어떤 커피가 좋으세요?\",\n",
    "  \"name\": \"지한\"\n",
    "},\n",
    "{\n",
    "  \"content\": \"저는 보통 아메리카노나 카페 라떼를 좋아해요. 하지만 여러분의 취향에 맞춰서 골라도 괜찮아요. 어떤 커피를 좋아하시나요?\",\n",
    "  \"name\": \"수아\"\n",
    "},\n",
    "{\n",
    "  \"content\": \"아메리카노와 카페 라떼 중에 한 가지를 고르는 것도 좋을 것 같아요. 저는 보통 아메리카노를 주로 마시는 편이에요. 그래도 제게는 별로 상관없어요. 함께 고민하면서 결정해도 될까요?\",\n",
    "  \"name\": \"지한\"\n",
    "},\n",
    "{\n",
    "  \"content\": \"네, 함께 결정하면서 고민해도 되요! 그러면 저는 카페 라떼로 주문하겠습니다. 그래도 제게는 상관없어요. 커피 주문하러 가볼까요?\",\n",
    "  \"name\": \"수아\"\n",
    "},\n",
    "{\n",
    "  \"content\": \"네, 그렇게 해요. 카페 라떼로 주문할게요. 커피 주문하러 가볼까요? 커피 맛을 즐기면서 이야기도 나눌 수 있어서 좋네요.\",\n",
    "  \"name\": \"지한\"\n",
    "},\n",
    "{\n",
    "  \"content\": \"그래요, 커피 주문하러 가요. 커피 맛을 즐기면서 이야기도 나누는 건 정말 좋은 방법이에요. 커피가 나오면서 우리가 좀 더 편하게 대화할 수 있겠죠. 여기 커피 맛집인 것 같아요. 주문하러 가볼까요?\",\n",
    "  \"name\": \"수아\"\n",
    "}]\n"
   ]
  },
  {
   "cell_type": "code",
   "execution_count": 6,
   "id": "d184821d-4ba0-4424-b033-3c73f119c7d6",
   "metadata": {},
   "outputs": [],
   "source": [
    "conv_text = \"\"\n",
    "\n",
    "for turn in conversation:\n",
    "    conv_text += f\"{turn['name']}: {turn['content']}\\n\""
   ]
  },
  {
   "cell_type": "code",
   "execution_count": 7,
   "id": "62b0236a-9466-46f5-a056-12d9e375da10",
   "metadata": {},
   "outputs": [
    {
     "name": "stdout",
     "output_type": "stream",
     "text": [
      "지한: 안녕하세요! 처음 뵙겠습니다.\n",
      "수아: 안녕하세요! 처음 만나서 반갑습니다. 커피 한 잔 어떠세요?\n",
      "지한: 안녕하세요! 저도 처음 만나서 반갑습니다. 네, 커피 한 잔 같이 마시면 좋겠네요. 어떤 커피가 좋으세요?\n",
      "수아: 저는 보통 아메리카노나 카페 라떼를 좋아해요. 하지만 여러분의 취향에 맞춰서 골라도 괜찮아요. 어떤 커피를 좋아하시나요?\n",
      "지한: 아메리카노와 카페 라떼 중에 한 가지를 고르는 것도 좋을 것 같아요. 저는 보통 아메리카노를 주로 마시는 편이에요. 그래도 제게는 별로 상관없어요. 함께 고민하면서 결정해도 될까요?\n",
      "수아: 네, 함께 결정하면서 고민해도 되요! 그러면 저는 카페 라떼로 주문하겠습니다. 그래도 제게는 상관없어요. 커피 주문하러 가볼까요?\n",
      "지한: 네, 그렇게 해요. 카페 라떼로 주문할게요. 커피 주문하러 가볼까요? 커피 맛을 즐기면서 이야기도 나눌 수 있어서 좋네요.\n",
      "수아: 그래요, 커피 주문하러 가요. 커피 맛을 즐기면서 이야기도 나누는 건 정말 좋은 방법이에요. 커피가 나오면서 우리가 좀 더 편하게 대화할 수 있겠죠. 여기 커피 맛집인 것 같아요. 주문하러 가볼까요?\n",
      "\n"
     ]
    }
   ],
   "source": [
    "print(conv_text)"
   ]
  },
  {
   "cell_type": "code",
   "execution_count": 8,
   "id": "0d0a8a24-f5a7-4c7e-8f61-f5f113de21a1",
   "metadata": {},
   "outputs": [],
   "source": [
    "class Sentiment(BaseModel):\n",
    "    thought: str = Field(description=\"Sentiment를 판단하기 위한 근거\")\n",
    "    sentiment: str = Field(description=\"Sentiment: Positive | Negative\")"
   ]
  },
  {
   "cell_type": "code",
   "execution_count": 9,
   "id": "8f6bf139-6d01-4f8f-b9ed-d64f05debfe3",
   "metadata": {},
   "outputs": [
    {
     "data": {
      "text/plain": [
       "'The output should be formatted as a JSON instance that conforms to the JSON schema below.\\n\\nAs an example, for the schema {\"properties\": {\"foo\": {\"title\": \"Foo\", \"description\": \"a list of strings\", \"type\": \"array\", \"items\": {\"type\": \"string\"}}}, \"required\": [\"foo\"]}\\nthe object {\"foo\": [\"bar\", \"baz\"]} is a well-formatted instance of the schema. The object {\"properties\": {\"foo\": [\"bar\", \"baz\"]}} is not well-formatted.\\n\\nHere is the output schema:\\n```\\n{\"properties\": {\"thought\": {\"title\": \"Thought\", \"description\": \"Sentiment를 판단하기 위한 근거\", \"type\": \"string\"}, \"sentiment\": {\"title\": \"Sentiment\", \"description\": \"Sentiment: Positive | Negative\", \"type\": \"string\"}}, \"required\": [\"thought\", \"sentiment\"]}\\n```'"
      ]
     },
     "execution_count": 9,
     "metadata": {},
     "output_type": "execute_result"
    }
   ],
   "source": [
    "parser = JsonOutputParser(pydantic_object=Sentiment)\n",
    "format_instructions = parser.get_format_instructions()\n",
    "format_instructions"
   ]
  },
  {
   "cell_type": "code",
   "execution_count": 10,
   "id": "b1f3dd1b-3731-4799-a01d-b9f47102e40c",
   "metadata": {},
   "outputs": [],
   "source": [
    "human_prompt_template = HumanMessagePromptTemplate.from_template(\n",
    "                            \"다음 대화의 내용에 대해 감성분석해줘.\\n{input}\\n{format_instructions}\")\n",
    "\n",
    "prompt = ChatPromptTemplate.from_messages(\n",
    "    [\n",
    "        human_prompt_template\n",
    "    ])\n",
    "prompt = prompt.partial(format_instructions=format_instructions)"
   ]
  },
  {
   "cell_type": "code",
   "execution_count": 11,
   "id": "2a45ca93-b369-4eb6-9dba-5d19114b59b3",
   "metadata": {},
   "outputs": [],
   "source": [
    "sentiment_analysis_chain = prompt | model | parser"
   ]
  },
  {
   "cell_type": "code",
   "execution_count": 12,
   "id": "87ada190-1e77-47c9-bf53-506d7e6f27be",
   "metadata": {},
   "outputs": [
    {
     "data": {
      "text/plain": [
       "{'thought': '대화 내용은 서로 반갑게 인사하고 커피를 함께 마시기로 하는 긍정적인 분위기를 담고 있습니다. 서로의 커피 취향을 공유하며, 함께 결정하는 과정에서 상호 존중과 배려가 느껴집니다.',\n",
       " 'sentiment': 'Positive'}"
      ]
     },
     "execution_count": 12,
     "metadata": {},
     "output_type": "execute_result"
    }
   ],
   "source": [
    "sentiment_analysis_chain.invoke({\"input\": conv_text})"
   ]
  },
  {
   "cell_type": "code",
   "execution_count": null,
   "id": "befafd21-b1b9-4761-9207-cbe067110ef2",
   "metadata": {},
   "outputs": [],
   "source": []
  }
 ],
 "metadata": {
  "kernelspec": {
   "display_name": "Python 3 (ipykernel)",
   "language": "python",
   "name": "python3"
  },
  "language_info": {
   "codemirror_mode": {
    "name": "ipython",
    "version": 3
   },
   "file_extension": ".py",
   "mimetype": "text/x-python",
   "name": "python",
   "nbconvert_exporter": "python",
   "pygments_lexer": "ipython3",
   "version": "3.11.6"
  }
 },
 "nbformat": 4,
 "nbformat_minor": 5
}
