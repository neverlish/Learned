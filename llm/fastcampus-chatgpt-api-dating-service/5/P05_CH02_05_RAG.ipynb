{
 "cells": [
  {
   "cell_type": "markdown",
   "id": "99ad6b2f-a9f9-449b-89c6-0fac4704deee",
   "metadata": {},
   "source": [
    "# RAG"
   ]
  },
  {
   "cell_type": "code",
   "execution_count": null,
   "id": "e0955bb7-c77a-4c4a-8f6c-9fd29db7ba22",
   "metadata": {},
   "outputs": [],
   "source": [
    "!pip install --upgrade --quiet langchain langchain-openai faiss-cpu tiktoken"
   ]
  },
  {
   "cell_type": "code",
   "execution_count": 1,
   "id": "c4ea949b-bad9-4a69-8b7f-b7b6dbc9d518",
   "metadata": {},
   "outputs": [],
   "source": [
    "from operator import itemgetter\n",
    "\n",
    "from langchain_community.vectorstores import FAISS\n",
    "from langchain_core.output_parsers import StrOutputParser\n",
    "from langchain_core.prompts import ChatPromptTemplate\n",
    "from langchain_core.runnables import RunnableLambda, RunnablePassthrough\n",
    "from langchain_openai import ChatOpenAI, OpenAIEmbeddings"
   ]
  },
  {
   "cell_type": "code",
   "execution_count": 2,
   "id": "922f57b7-2e16-4991-8ce5-5a86ac2f08ad",
   "metadata": {},
   "outputs": [],
   "source": [
    "vectorstore = FAISS.from_texts(\n",
    "    [\"피터는 구글에서 일합니다\", \"핸리는 켄쇼에서 일합니다\", \"로버트는 메타에서 일합니다.\"], embedding=OpenAIEmbeddings()\n",
    ")\n",
    "retriever = vectorstore.as_retriever()"
   ]
  },
  {
   "cell_type": "code",
   "execution_count": 3,
   "id": "e1c91c02-0e90-464f-afd4-995cacf8be48",
   "metadata": {},
   "outputs": [
    {
     "data": {
      "text/plain": [
       "[Document(id='bf25889b-7f82-47d1-9f61-15ece2867b88', metadata={}, page_content='로버트는 메타에서 일합니다.'),\n",
       " Document(id='351694df-18e4-4287-a633-5809f8bfdf9b', metadata={}, page_content='피터는 구글에서 일합니다'),\n",
       " Document(id='6f62834e-59bb-41a1-8254-94855a7a07e5', metadata={}, page_content='핸리는 켄쇼에서 일합니다')]"
      ]
     },
     "execution_count": 3,
     "metadata": {},
     "output_type": "execute_result"
    }
   ],
   "source": [
    "retriever.invoke(\"로버트는 어디서 일해?\")"
   ]
  },
  {
   "cell_type": "code",
   "execution_count": 4,
   "id": "960e5d57-9728-4c7a-b987-60dfa85e587d",
   "metadata": {},
   "outputs": [],
   "source": [
    "template = \"\"\"다음 문맥에만 근거하여 문제에 답하세요:\n",
    "{context}\n",
    "\n",
    "질문: {question}\n",
    "\"\"\"\n",
    "prompt = ChatPromptTemplate.from_template(template)\n",
    "\n",
    "model = ChatOpenAI()"
   ]
  },
  {
   "cell_type": "code",
   "execution_count": 5,
   "id": "8451a5a0-6541-4baf-8f12-520ed01b1651",
   "metadata": {},
   "outputs": [],
   "source": [
    "chain = (\n",
    "    {\"context\": retriever, \"question\": RunnablePassthrough()}\n",
    "    | prompt\n",
    "    | model\n",
    "    | StrOutputParser()\n",
    ")"
   ]
  },
  {
   "cell_type": "code",
   "execution_count": 6,
   "id": "3402b529-b685-48ed-9aba-128db98c6045",
   "metadata": {},
   "outputs": [
    {
     "data": {
      "text/plain": [
       "'로버트는 메타에서 일합니다.'"
      ]
     },
     "execution_count": 6,
     "metadata": {},
     "output_type": "execute_result"
    }
   ],
   "source": [
    "chain.invoke(\"로버트는 어디서 일해?\")"
   ]
  },
  {
   "cell_type": "code",
   "execution_count": 7,
   "id": "27c43d81-f95f-4829-8b02-38f2e3150b07",
   "metadata": {},
   "outputs": [],
   "source": [
    "template = \"\"\"다음 문맥에만 근거하여 문제에 답하세요:\n",
    "{context}\n",
    "\n",
    "질문: {question}\n",
    "\n",
    "답은 다음의 언어로 대답하세요.: {language}\n",
    "\"\"\"\n",
    "prompt = ChatPromptTemplate.from_template(template)\n",
    "\n",
    "chain = (\n",
    "    {\n",
    "        \"context\": itemgetter(\"question\") | retriever,\n",
    "        \"question\": itemgetter(\"question\"),\n",
    "        \"language\": itemgetter(\"language\"),\n",
    "    }\n",
    "    | prompt\n",
    "    | model\n",
    "    | StrOutputParser()\n",
    ")"
   ]
  },
  {
   "cell_type": "code",
   "execution_count": 8,
   "id": "87e1bd69-021e-4d26-acfd-1d060c81847f",
   "metadata": {},
   "outputs": [
    {
     "data": {
      "text/plain": [
       "'Peter works at Google.'"
      ]
     },
     "execution_count": 8,
     "metadata": {},
     "output_type": "execute_result"
    }
   ],
   "source": [
    "chain.invoke({\"question\": \"피터는 어디서 일해?\", \"language\": \"english\"})"
   ]
  },
  {
   "cell_type": "code",
   "execution_count": null,
   "id": "1acca0a4-a791-4f1d-99c2-526cbcd7b841",
   "metadata": {},
   "outputs": [],
   "source": []
  }
 ],
 "metadata": {
  "kernelspec": {
   "display_name": "Python 3 (ipykernel)",
   "language": "python",
   "name": "python3"
  },
  "language_info": {
   "codemirror_mode": {
    "name": "ipython",
    "version": 3
   },
   "file_extension": ".py",
   "mimetype": "text/x-python",
   "name": "python",
   "nbconvert_exporter": "python",
   "pygments_lexer": "ipython3",
   "version": "3.11.6"
  }
 },
 "nbformat": 4,
 "nbformat_minor": 5
}
