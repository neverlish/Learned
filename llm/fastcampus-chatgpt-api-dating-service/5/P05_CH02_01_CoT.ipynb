{
 "cells": [
  {
   "cell_type": "markdown",
   "id": "f87e5ff0-13c7-4aa5-b2e2-807b0808b0e2",
   "metadata": {},
   "source": [
    "# Chain of Thought"
   ]
  },
  {
   "cell_type": "markdown",
   "id": "14e3a829-00e4-40b0-84cd-936966c48de4",
   "metadata": {},
   "source": [
    "LLM에게 추론 단계를 거치게하여 주어 정답 확률을 높이는 방법"
   ]
  },
  {
   "cell_type": "code",
   "execution_count": 1,
   "id": "d649f177-0fc4-4c40-a1ef-89e4e1222670",
   "metadata": {},
   "outputs": [],
   "source": [
    "from langchain_openai import ChatOpenAI"
   ]
  },
  {
   "cell_type": "code",
   "execution_count": 2,
   "id": "6d50294a-ae7f-4375-90ce-b1a377b26302",
   "metadata": {},
   "outputs": [],
   "source": [
    "llm = ChatOpenAI(model=\"gpt-3.5-turbo\", temperature=0)"
   ]
  },
  {
   "cell_type": "code",
   "execution_count": 5,
   "id": "2599b3f8-260b-4b78-b1cf-724aa4dbcfbd",
   "metadata": {},
   "outputs": [],
   "source": [
    "question = \"(123 + 49) * 20 + 293 + 1 = \""
   ]
  },
  {
   "cell_type": "code",
   "execution_count": 6,
   "id": "18a9a04a-c00e-4083-87ac-1a5988f14d3c",
   "metadata": {},
   "outputs": [
    {
     "data": {
      "text/plain": [
       "3734"
      ]
     },
     "execution_count": 6,
     "metadata": {},
     "output_type": "execute_result"
    }
   ],
   "source": [
    "(123 + 49) * 20 + 293 + 1"
   ]
  },
  {
   "cell_type": "code",
   "execution_count": 7,
   "id": "5041bcb9-b052-41b6-8403-7d1073cca4c5",
   "metadata": {},
   "outputs": [],
   "source": [
    "ans = llm.invoke(question)"
   ]
  },
  {
   "cell_type": "code",
   "execution_count": 8,
   "id": "7a13cec3-c7f6-4f97-94bc-ed666e3bfe15",
   "metadata": {},
   "outputs": [
    {
     "data": {
      "text/plain": [
       "AIMessage(content='(123 + 49) * 20 + 293 + 1 = 172 * 20 + 293 + 1 = 3440 + 293 + 1 = 3734', additional_kwargs={'refusal': None}, response_metadata={'token_usage': {'completion_tokens': 42, 'prompt_tokens': 24, 'total_tokens': 66, 'completion_tokens_details': {'accepted_prediction_tokens': 0, 'audio_tokens': 0, 'reasoning_tokens': 0, 'rejected_prediction_tokens': 0}, 'prompt_tokens_details': {'audio_tokens': 0, 'cached_tokens': 0}}, 'model_name': 'gpt-3.5-turbo-0125', 'system_fingerprint': None, 'id': 'chatcmpl-BMC9aDiJrZnjSMD1wluWZbJ3fmtQf', 'finish_reason': 'stop', 'logprobs': None}, id='run-8fbe2eb3-1817-4d81-a3f1-36c1d221f57b-0', usage_metadata={'input_tokens': 24, 'output_tokens': 42, 'total_tokens': 66, 'input_token_details': {'audio': 0, 'cache_read': 0}, 'output_token_details': {'audio': 0, 'reasoning': 0}})"
      ]
     },
     "execution_count": 8,
     "metadata": {},
     "output_type": "execute_result"
    }
   ],
   "source": [
    "ans"
   ]
  },
  {
   "cell_type": "code",
   "execution_count": 9,
   "id": "b002cbf7-f185-40a7-bed7-31be2a568c7c",
   "metadata": {},
   "outputs": [],
   "source": [
    "ans = llm.invoke(question + \"\\nLet's think step by step.\")"
   ]
  },
  {
   "cell_type": "code",
   "execution_count": 10,
   "id": "33dcd1e7-8116-4a9d-94d8-46ec50faa374",
   "metadata": {},
   "outputs": [
    {
     "data": {
      "text/plain": [
       "AIMessage(content=\"First, let's solve the expression inside the parentheses:\\n\\n123 + 49 = 172\\n\\nNow, let's multiply the result by 20:\\n\\n172 * 20 = 3440\\n\\nNext, let's add 293 to the result:\\n\\n3440 + 293 = 3733\\n\\nFinally, let's add 1 to the result:\\n\\n3733 + 1 = 3734\\n\\nTherefore, (123 + 49) * 20 + 293 + 1 = 3734.\", additional_kwargs={'refusal': None}, response_metadata={'token_usage': {'completion_tokens': 104, 'prompt_tokens': 31, 'total_tokens': 135, 'completion_tokens_details': {'accepted_prediction_tokens': 0, 'audio_tokens': 0, 'reasoning_tokens': 0, 'rejected_prediction_tokens': 0}, 'prompt_tokens_details': {'audio_tokens': 0, 'cached_tokens': 0}}, 'model_name': 'gpt-3.5-turbo-0125', 'system_fingerprint': None, 'id': 'chatcmpl-BMC9dIlcyvCRvEFwzJYD2gMlTieAq', 'finish_reason': 'stop', 'logprobs': None}, id='run-c5703f31-5d1e-4107-b70d-e70a35b68891-0', usage_metadata={'input_tokens': 31, 'output_tokens': 104, 'total_tokens': 135, 'input_token_details': {'audio': 0, 'cache_read': 0}, 'output_token_details': {'audio': 0, 'reasoning': 0}})"
      ]
     },
     "execution_count": 10,
     "metadata": {},
     "output_type": "execute_result"
    }
   ],
   "source": [
    "ans"
   ]
  },
  {
   "cell_type": "code",
   "execution_count": null,
   "id": "f430c81f-15fc-4418-bb33-0817ca502f9a",
   "metadata": {},
   "outputs": [],
   "source": []
  }
 ],
 "metadata": {
  "kernelspec": {
   "display_name": "Python 3 (ipykernel)",
   "language": "python",
   "name": "python3"
  },
  "language_info": {
   "codemirror_mode": {
    "name": "ipython",
    "version": 3
   },
   "file_extension": ".py",
   "mimetype": "text/x-python",
   "name": "python",
   "nbconvert_exporter": "python",
   "pygments_lexer": "ipython3",
   "version": "3.11.6"
  }
 },
 "nbformat": 4,
 "nbformat_minor": 5
}
