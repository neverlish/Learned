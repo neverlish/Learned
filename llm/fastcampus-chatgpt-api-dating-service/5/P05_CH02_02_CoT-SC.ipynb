{
 "cells": [
  {
   "cell_type": "markdown",
   "id": "f87e5ff0-13c7-4aa5-b2e2-807b0808b0e2",
   "metadata": {},
   "source": [
    "# Chain of Thought Self-Consistency"
   ]
  },
  {
   "cell_type": "markdown",
   "id": "14e3a829-00e4-40b0-84cd-936966c48de4",
   "metadata": {},
   "source": [
    "CoT를 여러번 수행 후 투표하여 가장 많은 점수 or 투표를 받은 정답을 선택하는 방법"
   ]
  },
  {
   "cell_type": "code",
   "execution_count": 1,
   "id": "d649f177-0fc4-4c40-a1ef-89e4e1222670",
   "metadata": {},
   "outputs": [
    {
     "name": "stderr",
     "output_type": "stream",
     "text": [
      "/Users/hyeonjinho/.pyenv/versions/3.11.6/lib/python3.11/site-packages/IPython/core/interactiveshell.py:3577: LangChainDeprecationWarning: As of langchain-core 0.3.0, LangChain uses pydantic v2 internally. The langchain_core.pydantic_v1 module was a compatibility shim for pydantic v1, and should no longer be used. Please update the code to import from Pydantic directly.\n",
      "\n",
      "For example, replace imports like: `from langchain_core.pydantic_v1 import BaseModel`\n",
      "with: `from pydantic import BaseModel`\n",
      "or the v1 compatibility namespace if you are working in a code base that has not been fully upgraded to pydantic 2 yet. \tfrom pydantic.v1 import BaseModel\n",
      "\n",
      "  exec(code_obj, self.user_global_ns, self.user_ns)\n"
     ]
    }
   ],
   "source": [
    "from langchain_openai import ChatOpenAI\n",
    "from typing import Union\n",
    "from langchain_core.output_parsers import JsonOutputParser\n",
    "from langchain_core.pydantic_v1 import BaseModel, Field"
   ]
  },
  {
   "cell_type": "code",
   "execution_count": 2,
   "id": "6607492b-ef33-4c3f-a8b1-781d8d00db15",
   "metadata": {},
   "outputs": [],
   "source": [
    "model = ChatOpenAI(model=\"gpt-3.5-turbo\", temperature=0.8) # CoT 는 다양한 샘플을 만들어야하기 때문에 temperature를 올려야함"
   ]
  },
  {
   "cell_type": "code",
   "execution_count": 3,
   "id": "e77c95aa-c8a3-4b01-bc0c-a93787fdfd16",
   "metadata": {},
   "outputs": [],
   "source": [
    "class CoT(BaseModel):\n",
    "    thought: str = Field(description=\"Step-by-Step Thought Process\")\n",
    "    answer: Union[int, float] = Field(description=\"Answer\")"
   ]
  },
  {
   "cell_type": "code",
   "execution_count": 4,
   "id": "d1b902b8-a22f-435c-9960-b6031a085018",
   "metadata": {},
   "outputs": [
    {
     "data": {
      "text/plain": [
       "'The output should be formatted as a JSON instance that conforms to the JSON schema below.\\n\\nAs an example, for the schema {\"properties\": {\"foo\": {\"title\": \"Foo\", \"description\": \"a list of strings\", \"type\": \"array\", \"items\": {\"type\": \"string\"}}}, \"required\": [\"foo\"]}\\nthe object {\"foo\": [\"bar\", \"baz\"]} is a well-formatted instance of the schema. The object {\"properties\": {\"foo\": [\"bar\", \"baz\"]}} is not well-formatted.\\n\\nHere is the output schema:\\n```\\n{\"properties\": {\"thought\": {\"title\": \"Thought\", \"description\": \"Step-by-Step Thought Process\", \"type\": \"string\"}, \"answer\": {\"title\": \"Answer\", \"description\": \"Answer\", \"anyOf\": [{\"type\": \"integer\"}, {\"type\": \"number\"}]}}, \"required\": [\"thought\", \"answer\"]}\\n```'"
      ]
     },
     "execution_count": 4,
     "metadata": {},
     "output_type": "execute_result"
    }
   ],
   "source": [
    "parser = JsonOutputParser(pydantic_object=CoT)\n",
    "format_instructions = parser.get_format_instructions()\n",
    "format_instructions"
   ]
  },
  {
   "cell_type": "code",
   "execution_count": 5,
   "id": "79e9186f-bcb0-4831-8661-1e22851170a6",
   "metadata": {},
   "outputs": [],
   "source": [
    "from langchain_core.prompts import ChatPromptTemplate, HumanMessagePromptTemplate\n",
    "\n",
    "human_prompt_template = HumanMessagePromptTemplate.from_template(\n",
    "                            \"problem: {input}\\n{format_instructions}\",\n",
    "                            partial_variables={\"format_instructions\": format_instructions})\n",
    "\n",
    "prompt = ChatPromptTemplate.from_messages(\n",
    "    [\n",
    "        human_prompt_template,\n",
    "    ])"
   ]
  },
  {
   "cell_type": "code",
   "execution_count": 6,
   "id": "8af74cd5-9bb9-43cd-88f2-712396a262bb",
   "metadata": {},
   "outputs": [],
   "source": [
    "cot_chain = prompt | model | parser"
   ]
  },
  {
   "cell_type": "code",
   "execution_count": 7,
   "id": "a73c8dfe-4fdf-427d-836e-0bb65a70d785",
   "metadata": {},
   "outputs": [],
   "source": [
    "query = \"(123 + 49) * 20 + 293 + 1 =\""
   ]
  },
  {
   "cell_type": "code",
   "execution_count": 8,
   "id": "88d1fcf9-9797-4d0b-b57b-ba7735d41fd9",
   "metadata": {},
   "outputs": [],
   "source": [
    "result = cot_chain.invoke({\"input\": query})"
   ]
  },
  {
   "cell_type": "code",
   "execution_count": 9,
   "id": "f07e5f9d-2123-4622-a872-a775974d2431",
   "metadata": {},
   "outputs": [
    {
     "data": {
      "text/plain": [
       "{'thought': '(123 + 49) * 20 + 293 + 1', 'answer': 3061}"
      ]
     },
     "execution_count": 9,
     "metadata": {},
     "output_type": "execute_result"
    }
   ],
   "source": [
    "result"
   ]
  },
  {
   "cell_type": "code",
   "execution_count": 10,
   "id": "af6f3112-3108-4282-9ffd-9a3e33f61aff",
   "metadata": {},
   "outputs": [
    {
     "data": {
      "text/plain": [
       "3061"
      ]
     },
     "execution_count": 10,
     "metadata": {},
     "output_type": "execute_result"
    }
   ],
   "source": [
    "result['answer']"
   ]
  },
  {
   "cell_type": "code",
   "execution_count": 11,
   "id": "392a9a9c-1a1c-4a58-8624-aee2842d4cdd",
   "metadata": {},
   "outputs": [],
   "source": [
    "n_sample = 10"
   ]
  },
  {
   "cell_type": "code",
   "execution_count": 12,
   "id": "66dda042-90c5-4194-b6b6-f0c48540c771",
   "metadata": {},
   "outputs": [
    {
     "data": {
      "text/plain": [
       "[{'input': '(123 + 49) * 20 + 293 + 1 ='},\n",
       " {'input': '(123 + 49) * 20 + 293 + 1 ='},\n",
       " {'input': '(123 + 49) * 20 + 293 + 1 ='},\n",
       " {'input': '(123 + 49) * 20 + 293 + 1 ='},\n",
       " {'input': '(123 + 49) * 20 + 293 + 1 ='},\n",
       " {'input': '(123 + 49) * 20 + 293 + 1 ='},\n",
       " {'input': '(123 + 49) * 20 + 293 + 1 ='},\n",
       " {'input': '(123 + 49) * 20 + 293 + 1 ='},\n",
       " {'input': '(123 + 49) * 20 + 293 + 1 ='},\n",
       " {'input': '(123 + 49) * 20 + 293 + 1 ='}]"
      ]
     },
     "execution_count": 12,
     "metadata": {},
     "output_type": "execute_result"
    }
   ],
   "source": [
    "[{\"input\": query}] * n_sample"
   ]
  },
  {
   "cell_type": "code",
   "execution_count": 13,
   "id": "cbcd5a7b-e46c-4ee5-b07c-d093e4a10691",
   "metadata": {},
   "outputs": [],
   "source": [
    "answers = cot_chain.batch([{\"input\": query}] * n_sample)"
   ]
  },
  {
   "cell_type": "code",
   "execution_count": 14,
   "id": "14e3bea8-9c18-406b-bcd7-cdb1af4d8e7f",
   "metadata": {},
   "outputs": [
    {
     "data": {
      "text/plain": [
       "10"
      ]
     },
     "execution_count": 14,
     "metadata": {},
     "output_type": "execute_result"
    }
   ],
   "source": [
    "len(answers)"
   ]
  },
  {
   "cell_type": "code",
   "execution_count": 15,
   "id": "9516b0ff-9116-4ee7-ba07-bb87d0905816",
   "metadata": {},
   "outputs": [
    {
     "data": {
      "text/plain": [
       "[{'thought': 'First, perform the addition operation within the parentheses: 123 + 49 = 172. Then, multiply the result by 20: 172 * 20 = 3440. Finally, add 293 and 1 to get the final answer: 3440 + 293 + 1 = 3734.',\n",
       "  'answer': 3734},\n",
       " {'thought': '(123 + 49) * 20 + 293 + 1', 'answer': 3011},\n",
       " {'thought': '(123 + 49) * 20 + 293 + 1', 'answer': 3151}]"
      ]
     },
     "execution_count": 15,
     "metadata": {},
     "output_type": "execute_result"
    }
   ],
   "source": [
    "answers[:3]"
   ]
  },
  {
   "cell_type": "code",
   "execution_count": 16,
   "id": "43ef1ed1-c7e6-42e8-9f85-0457884ab353",
   "metadata": {},
   "outputs": [],
   "source": [
    "import pandas as pd"
   ]
  },
  {
   "cell_type": "code",
   "execution_count": 17,
   "id": "f75ba24a-07ee-4458-8915-9b80a35f3e67",
   "metadata": {},
   "outputs": [],
   "source": [
    "df = pd.DataFrame(answers)"
   ]
  },
  {
   "cell_type": "code",
   "execution_count": 18,
   "id": "546787d4-06d3-4788-a818-583e81f600bb",
   "metadata": {},
   "outputs": [
    {
     "data": {
      "text/html": [
       "<div>\n",
       "<style scoped>\n",
       "    .dataframe tbody tr th:only-of-type {\n",
       "        vertical-align: middle;\n",
       "    }\n",
       "\n",
       "    .dataframe tbody tr th {\n",
       "        vertical-align: top;\n",
       "    }\n",
       "\n",
       "    .dataframe thead th {\n",
       "        text-align: right;\n",
       "    }\n",
       "</style>\n",
       "<table border=\"1\" class=\"dataframe\">\n",
       "  <thead>\n",
       "    <tr style=\"text-align: right;\">\n",
       "      <th></th>\n",
       "      <th>thought</th>\n",
       "      <th>answer</th>\n",
       "    </tr>\n",
       "  </thead>\n",
       "  <tbody>\n",
       "    <tr>\n",
       "      <th>0</th>\n",
       "      <td>First, perform the addition operation within t...</td>\n",
       "      <td>3734</td>\n",
       "    </tr>\n",
       "    <tr>\n",
       "      <th>1</th>\n",
       "      <td>(123 + 49) * 20 + 293 + 1</td>\n",
       "      <td>3011</td>\n",
       "    </tr>\n",
       "    <tr>\n",
       "      <th>2</th>\n",
       "      <td>(123 + 49) * 20 + 293 + 1</td>\n",
       "      <td>3151</td>\n",
       "    </tr>\n",
       "    <tr>\n",
       "      <th>3</th>\n",
       "      <td>First, calculate the sum of 123 + 49 which equ...</td>\n",
       "      <td>3440</td>\n",
       "    </tr>\n",
       "    <tr>\n",
       "      <th>4</th>\n",
       "      <td>First, perform the calculation inside the pare...</td>\n",
       "      <td>3734</td>\n",
       "    </tr>\n",
       "    <tr>\n",
       "      <th>5</th>\n",
       "      <td>(123 + 49) * 20 + 293 + 1</td>\n",
       "      <td>3224</td>\n",
       "    </tr>\n",
       "    <tr>\n",
       "      <th>6</th>\n",
       "      <td>(123 + 49) * 20 + 293 + 1</td>\n",
       "      <td>3074</td>\n",
       "    </tr>\n",
       "    <tr>\n",
       "      <th>7</th>\n",
       "      <td>(123 + 49) * 20 + 293 + 1</td>\n",
       "      <td>2663</td>\n",
       "    </tr>\n",
       "    <tr>\n",
       "      <th>8</th>\n",
       "      <td>(123 + 49) * 20 + 293 + 1</td>\n",
       "      <td>2754</td>\n",
       "    </tr>\n",
       "    <tr>\n",
       "      <th>9</th>\n",
       "      <td>(123 + 49) * 20 + 293 + 1</td>\n",
       "      <td>2881</td>\n",
       "    </tr>\n",
       "  </tbody>\n",
       "</table>\n",
       "</div>"
      ],
      "text/plain": [
       "                                             thought  answer\n",
       "0  First, perform the addition operation within t...    3734\n",
       "1                          (123 + 49) * 20 + 293 + 1    3011\n",
       "2                          (123 + 49) * 20 + 293 + 1    3151\n",
       "3  First, calculate the sum of 123 + 49 which equ...    3440\n",
       "4  First, perform the calculation inside the pare...    3734\n",
       "5                          (123 + 49) * 20 + 293 + 1    3224\n",
       "6                          (123 + 49) * 20 + 293 + 1    3074\n",
       "7                          (123 + 49) * 20 + 293 + 1    2663\n",
       "8                          (123 + 49) * 20 + 293 + 1    2754\n",
       "9                          (123 + 49) * 20 + 293 + 1    2881"
      ]
     },
     "execution_count": 18,
     "metadata": {},
     "output_type": "execute_result"
    }
   ],
   "source": [
    "df"
   ]
  },
  {
   "cell_type": "code",
   "execution_count": 19,
   "id": "76c8452e-5ed7-4530-bff7-f57d882ff0a5",
   "metadata": {},
   "outputs": [
    {
     "data": {
      "text/plain": [
       "0    3734\n",
       "Name: answer, dtype: int64"
      ]
     },
     "execution_count": 19,
     "metadata": {},
     "output_type": "execute_result"
    }
   ],
   "source": [
    "df['answer'].mode()"
   ]
  },
  {
   "cell_type": "code",
   "execution_count": null,
   "id": "c750ce5a-282c-400e-bc26-8996f0715f06",
   "metadata": {},
   "outputs": [],
   "source": []
  }
 ],
 "metadata": {
  "kernelspec": {
   "display_name": "Python 3 (ipykernel)",
   "language": "python",
   "name": "python3"
  },
  "language_info": {
   "codemirror_mode": {
    "name": "ipython",
    "version": 3
   },
   "file_extension": ".py",
   "mimetype": "text/x-python",
   "name": "python",
   "nbconvert_exporter": "python",
   "pygments_lexer": "ipython3",
   "version": "3.11.6"
  }
 },
 "nbformat": 4,
 "nbformat_minor": 5
}
