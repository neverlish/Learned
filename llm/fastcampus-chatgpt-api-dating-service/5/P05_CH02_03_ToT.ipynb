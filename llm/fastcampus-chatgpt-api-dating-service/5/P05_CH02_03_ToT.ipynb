{
 "cells": [
  {
   "cell_type": "markdown",
   "id": "f87e5ff0-13c7-4aa5-b2e2-807b0808b0e2",
   "metadata": {},
   "source": [
    "# Tree-of-Thought"
   ]
  },
  {
   "cell_type": "markdown",
   "id": "14e3a829-00e4-40b0-84cd-936966c48de4",
   "metadata": {},
   "source": [
    "- 원래의 ToT 논문은 Game of 24, Mini Crossword, 4개의 문장을 인위적으로 뽑아 글을 작성하도록 하는 태스크\n",
    "- 현실 어플리케이션이 아니라 AI의 지적능력을 확인하고 싶었던 것이기에 실제 사용하려면 응용이 필요함ㅇ"
   ]
  },
  {
   "cell_type": "code",
   "execution_count": 1,
   "id": "d649f177-0fc4-4c40-a1ef-89e4e1222670",
   "metadata": {},
   "outputs": [
    {
     "name": "stderr",
     "output_type": "stream",
     "text": [
      "/Users/hyeonjinho/.pyenv/versions/3.11.6/lib/python3.11/site-packages/IPython/core/interactiveshell.py:3577: LangChainDeprecationWarning: As of langchain-core 0.3.0, LangChain uses pydantic v2 internally. The langchain_core.pydantic_v1 module was a compatibility shim for pydantic v1, and should no longer be used. Please update the code to import from Pydantic directly.\n",
      "\n",
      "For example, replace imports like: `from langchain_core.pydantic_v1 import BaseModel`\n",
      "with: `from pydantic import BaseModel`\n",
      "or the v1 compatibility namespace if you are working in a code base that has not been fully upgraded to pydantic 2 yet. \tfrom pydantic.v1 import BaseModel\n",
      "\n",
      "  exec(code_obj, self.user_global_ns, self.user_ns)\n"
     ]
    }
   ],
   "source": [
    "from typing import Union\n",
    "from langchain_openai import ChatOpenAI\n",
    "from langchain.prompts import PromptTemplate\n",
    "from langchain_core.output_parsers import JsonOutputParser, StrOutputParser\n",
    "from langchain_core.pydantic_v1 import BaseModel, Field\n",
    "from langchain_core.prompts import ChatPromptTemplate, HumanMessagePromptTemplate\n",
    "import pandas as pd"
   ]
  },
  {
   "cell_type": "code",
   "execution_count": 2,
   "id": "6607492b-ef33-4c3f-a8b1-781d8d00db15",
   "metadata": {},
   "outputs": [],
   "source": [
    "eval_model = ChatOpenAI(model=\"gpt-4-1106-preview\", temperature=0.8) # CoT 는 다양한 샘플을 만들어야하기 때문에 temperature를 올려야함\n",
    "basic_model = ChatOpenAI(model=\"gpt-3.5-turbo\", temperature=0.8) # CoT 는 다양한 샘플을 만들어야하기 때문에 temperature를 올려야함"
   ]
  },
  {
   "cell_type": "markdown",
   "id": "01f7e6ab-a9fb-4116-97ec-b3dad80f525e",
   "metadata": {},
   "source": [
    "## PlanGenerationChain"
   ]
  },
  {
   "cell_type": "code",
   "execution_count": 3,
   "id": "42231056-de59-4278-9f96-1d478c698ecf",
   "metadata": {},
   "outputs": [],
   "source": [
    "plan_gen_prompt = ChatPromptTemplate.from_messages(\n",
    "    [\n",
    "        ('human', \"{subject}에 대한 에세이를 쓰고싶어. 이 주제에 대해 에세이를 쓰기 위해 계획을 세워줘\"),\n",
    "    ])"
   ]
  },
  {
   "cell_type": "code",
   "execution_count": 4,
   "id": "caf61414-c885-409c-8f12-8d28d0b8fddf",
   "metadata": {},
   "outputs": [],
   "source": [
    "plan_gen_chain = plan_gen_prompt | basic_model | StrOutputParser()"
   ]
  },
  {
   "cell_type": "code",
   "execution_count": 5,
   "id": "61413063-e1fe-4f2f-826c-4639077b955a",
   "metadata": {},
   "outputs": [
    {
     "name": "stdout",
     "output_type": "stream",
     "text": [
      "제목: AI로 인한 데이팅 업계의 혁신과 도전\n",
      "\n",
      "1. 소개\n",
      "- 데이팅 업계는 인간 간의 관계 형성을 돕는 중요한 산업으로 발전해왔다. 그러나 최근 AI 기술의 발전으로 데이팅 업계는 새로운 변화를 맞이하고 있다.\n",
      "- 본 에세이에서는 AI로 인한 데이팅 업계의 혁신과 도전에 대해 탐구하고자 한다.\n",
      "\n",
      "2. AI의 역할과 혁신\n",
      "- AI 기술은 데이팅 앱과 웹사이트에서 많은 혁신을 이끌어내고 있다. 예를 들어, AI 기반의 매칭 알고리즘을 통해 사용자들에게 더욱 정확한 매칭을 제공하고 있다.\n",
      "- 또한, AI는 사용자들의 행동과 취향을 분석하여 개인 맞춤형 서비스를 제공하고, 대화 시뮬레이션을 통해 데이트 전략을 개선하는 등 다양한 분야에서 활약하고 있다.\n",
      "\n",
      "3. 도전과 해결책\n",
      "- 한편, AI로 인한 데이팅 업계의 발전은 도전과 함께 따르고 있다. 예를 들어, 개인정보 보호 문제와 AI가 인간의 감정을 이해하는 한계 등이 있다.\n",
      "- 이러한 도전에 대처하기 위해서는 AI 개발자와 업체들이 더욱 더 윤리적인 AI를 개발하고, 사용자들의 프라이버시를 존중하는 방향으로 나아가야 한다.\n",
      "\n",
      "4. 결론\n",
      "- AI로 인한 데이팅 업계의 혁신은 데이팅 경험을 더욱 풍요롭고 효율적으로 만들어주고 있다. 그러나 동시에 도전도 함께 따르고 있어 해결해야 할 과제들이 많이 남아있다.\n",
      "- 따라서, AI 기술의 발전과 데이팅 업계의 혁신을 위해 우리는 윤리적이고 안전한 AI를 발전시키는 노력을 계속해야 한다.\n",
      "\n",
      "5. 참고문헌\n",
      "- 관련 논문, 보고서, 기사 등을 인용하여 보다 신뢰성 있는 에세이를 완성한다.\n"
     ]
    }
   ],
   "source": [
    "plan = plan_gen_chain.invoke({\"subject\": \"AI로 인한 데이팅 업계의 변화\"})\n",
    "print(plan)"
   ]
  },
  {
   "cell_type": "markdown",
   "id": "53ea6b0e-ae17-4129-9c44-f65ce421593e",
   "metadata": {},
   "source": [
    "## Voting Chain"
   ]
  },
  {
   "cell_type": "code",
   "execution_count": 6,
   "id": "2db5809b-6cdc-4cd1-92a9-04cd23c9dc62",
   "metadata": {},
   "outputs": [],
   "source": [
    "class VoteCoT(BaseModel):\n",
    "    thought: str = Field(description=\"voting number를 선택한 이유에 대해 자세히 넣어주세요.\")\n",
    "    voting_num: int = Field(description=\"voting number\")"
   ]
  },
  {
   "cell_type": "code",
   "execution_count": 7,
   "id": "d1b902b8-a22f-435c-9960-b6031a085018",
   "metadata": {},
   "outputs": [
    {
     "data": {
      "text/plain": [
       "'The output should be formatted as a JSON instance that conforms to the JSON schema below.\\n\\nAs an example, for the schema {\"properties\": {\"foo\": {\"title\": \"Foo\", \"description\": \"a list of strings\", \"type\": \"array\", \"items\": {\"type\": \"string\"}}}, \"required\": [\"foo\"]}\\nthe object {\"foo\": [\"bar\", \"baz\"]} is a well-formatted instance of the schema. The object {\"properties\": {\"foo\": [\"bar\", \"baz\"]}} is not well-formatted.\\n\\nHere is the output schema:\\n```\\n{\"properties\": {\"thought\": {\"title\": \"Thought\", \"description\": \"voting number를 선택한 이유에 대해 자세히 넣어주세요.\", \"type\": \"string\"}, \"voting_num\": {\"title\": \"Voting Num\", \"description\": \"voting number\", \"type\": \"integer\"}}, \"required\": [\"thought\", \"voting_num\"]}\\n```'"
      ]
     },
     "execution_count": 7,
     "metadata": {},
     "output_type": "execute_result"
    }
   ],
   "source": [
    "parser = JsonOutputParser(pydantic_object=VoteCoT)\n",
    "format_instructions = parser.get_format_instructions()\n",
    "format_instructions"
   ]
  },
  {
   "cell_type": "code",
   "execution_count": 8,
   "id": "79e9186f-bcb0-4831-8661-1e22851170a6",
   "metadata": {},
   "outputs": [],
   "source": [
    "voting_prompt_template = HumanMessagePromptTemplate.from_template(\n",
    "                            \"아래는 에세이 작성을 위한 계획 또는 에세이 글이다. 아래의 후보 중 가장 좋은 것을 추론 과정과 함께 투표 번호를 응답해.\\n {candidates}\\n{format_instructions}\",\n",
    "                            partial_variables={\"format_instructions\": format_instructions})\n",
    "\n",
    "voting_prompt = ChatPromptTemplate.from_messages(\n",
    "    [\n",
    "        voting_prompt_template,\n",
    "    ])"
   ]
  },
  {
   "cell_type": "code",
   "execution_count": 9,
   "id": "8af74cd5-9bb9-43cd-88f2-712396a262bb",
   "metadata": {},
   "outputs": [],
   "source": [
    "voting_chain = voting_prompt | eval_model | parser"
   ]
  },
  {
   "cell_type": "code",
   "execution_count": 10,
   "id": "272e22b8-f6cf-468e-a4dd-248bcd483915",
   "metadata": {},
   "outputs": [],
   "source": [
    "plan_list = plan_gen_chain.batch([{\"subject\": \"AI로 인한 데이팅 업계의 변화\"}] * 2)\n"
   ]
  },
  {
   "cell_type": "code",
   "execution_count": 11,
   "id": "7559cc8e-518c-44b3-9d18-b058050eeef1",
   "metadata": {},
   "outputs": [
    {
     "name": "stdout",
     "output_type": "stream",
     "text": [
      "에세이를 쓰기 위해 다음과 같은 계획을 세울 수 있을 것입니다.\n",
      "\n",
      "1. 서론\n",
      "- 데이팅 업계의 중요성과 인기 이유 소개\n",
      "- AI 기술의 발전으로 인한 데이팅 업계의 변화 소개\n",
      "\n",
      "2. 데이팅 업계의 전통적인 모습\n",
      "- 데이팅 앱과 웹사이트의 등장과 성공적인 사례 소개\n",
      "- 온라인 데이팅의 장단점과 사용자들의 반응 분석\n",
      "\n",
      "3. AI가 데이팅 업계에 미친 영향\n",
      "- AI 기술을 활용한 매칭 알고리즘의 등장과 효과 소개\n",
      "- AI를 통해 개인 맞춤형 데이팅 서비스 제공 가능성 분석\n",
      "\n",
      "4. AI로 인한 데이팅 업계의 변화와 이슈\n",
      "- AI를 통한 데이팅 시스템의 효율성과 정확도 분석\n",
      "- AI가 데이팅 업계에 미치는 사회적, 윤리적 문제 등에 대한 논의\n",
      "\n",
      "5. 결론\n",
      "- AI가 데이팅 업계에 미친 변화와 영향 정리\n",
      "- 데이팅 업계의 미래 전망 및 AI 기술의 활용 가능성에 대한 전망과 제언\n",
      "\n",
      "이러한 계획을 바탕으로 흥미로운 주제와 깊은 분석을 통해 AI가 데이팅 업계에 미친 변화에 대해 포괄적으로 다룬 에세이를 작성할 수 있을 것입니다.\n"
     ]
    }
   ],
   "source": [
    "print(plan_list[0])"
   ]
  },
  {
   "cell_type": "code",
   "execution_count": 12,
   "id": "45b49036-e99e-4150-9a20-0a60c7f8de4d",
   "metadata": {},
   "outputs": [
    {
     "name": "stdout",
     "output_type": "stream",
     "text": [
      "1. 소개: AI 기술이 빠르게 발전하면서 데이팅 업계에도 큰 변화가 일어나고 있다. 이전에는 사람들이 직접 만남을 찾아야 했지만, 이제는 AI가 매칭을 도와주고 상대방을 추천해주는 시대가 되었다. 이에 대한 장단점을 살펴보고자 한다.\n",
      "\n",
      "2. AI의 역할: AI는 사용자의 프로필을 분석하여 적합한 상대방을 추천해주는 역할을 한다. 또한, 사용자의 취향이나 성향을 파악하여 맞춤형 데이트 아이디어를 제공하기도 한다. 이를 통해 보다 효율적인 데이팅이 가능해지고, 시간과 에너지를 절약할 수 있다.\n",
      "\n",
      "3. 장점: AI를 통한 데이팅은 더 많은 사람들과 소통할 수 있는 기회를 제공한다. 또한, AI는 객관적인 정보를 제공하기 때문에 주관적인 판단을 배제할 수 있어 효율적인 결정을 내릴 수 있다. 또한, AI는 사용자의 성향을 파악하여 적합한 상대방을 추천하기 때문에 보다 더 깊은 관계를 형성할 수 있다.\n",
      "\n",
      "4. 단점: 하지만, AI를 통한 데이팅은 사람 간의 진짜 소통을 대신할 수는 없다. 인간적인 감정과 상호작용은 AI로 대체할 수 없기 때문에 완전히 의존하면 안된다. 또한, AI가 사용자의 정보를 수집하고 분석하기 때문에 개인정보 보호 문제도 고려해야 한다.\n",
      "\n",
      "5. 결론: AI가 데이팅 업계에 미치는 영향은 두 가지 면에서 볼 수 있다. 한편으로는 효율적인 매칭과 맞춤형 서비스를 제공하여 사용자들에게 편의성을 제공한다. 다른 한편으로는 인간적인 소통과 감정을 대체할 수 없기 때문에 조심스럽게 활용해야 한다. 최종적으로, AI를 통한 데이팅은 보다 다양하고 효율적인 만남을 찾을 수 있는 새로운 방법이 될 수 있을 것이다.\n"
     ]
    }
   ],
   "source": [
    "print(plan_list[1])"
   ]
  },
  {
   "cell_type": "code",
   "execution_count": 13,
   "id": "4f6c721c-6ea5-4626-b5dd-f39775c07b5e",
   "metadata": {},
   "outputs": [],
   "source": [
    "candidates = \"\\n\\n\".join([f\"후보 {i}.\\n{plan}\" for i, plan in enumerate(plan_list)])"
   ]
  },
  {
   "cell_type": "code",
   "execution_count": 14,
   "id": "114d17d3-0aa5-40d2-8446-e9085bbf5810",
   "metadata": {
    "scrolled": true
   },
   "outputs": [
    {
     "name": "stdout",
     "output_type": "stream",
     "text": [
      "후보 0.\n",
      "에세이를 쓰기 위해 다음과 같은 계획을 세울 수 있을 것입니다.\n",
      "\n",
      "1. 서론\n",
      "- 데이팅 업계의 중요성과 인기 이유 소개\n",
      "- AI 기술의 발전으로 인한 데이팅 업계의 변화 소개\n",
      "\n",
      "2. 데이팅 업계의 전통적인 모습\n",
      "- 데이팅 앱과 웹사이트의 등장과 성공적인 사례 소개\n",
      "- 온라인 데이팅의 장단점과 사용자들의 반응 분석\n",
      "\n",
      "3. AI가 데이팅 업계에 미친 영향\n",
      "- AI 기술을 활용한 매칭 알고리즘의 등장과 효과 소개\n",
      "- AI를 통해 개인 맞춤형 데이팅 서비스 제공 가능성 분석\n",
      "\n",
      "4. AI로 인한 데이팅 업계의 변화와 이슈\n",
      "- AI를 통한 데이팅 시스템의 효율성과 정확도 분석\n",
      "- AI가 데이팅 업계에 미치는 사회적, 윤리적 문제 등에 대한 논의\n",
      "\n",
      "5. 결론\n",
      "- AI가 데이팅 업계에 미친 변화와 영향 정리\n",
      "- 데이팅 업계의 미래 전망 및 AI 기술의 활용 가능성에 대한 전망과 제언\n",
      "\n",
      "이러한 계획을 바탕으로 흥미로운 주제와 깊은 분석을 통해 AI가 데이팅 업계에 미친 변화에 대해 포괄적으로 다룬 에세이를 작성할 수 있을 것입니다.\n",
      "\n",
      "후보 1.\n",
      "1. 소개: AI 기술이 빠르게 발전하면서 데이팅 업계에도 큰 변화가 일어나고 있다. 이전에는 사람들이 직접 만남을 찾아야 했지만, 이제는 AI가 매칭을 도와주고 상대방을 추천해주는 시대가 되었다. 이에 대한 장단점을 살펴보고자 한다.\n",
      "\n",
      "2. AI의 역할: AI는 사용자의 프로필을 분석하여 적합한 상대방을 추천해주는 역할을 한다. 또한, 사용자의 취향이나 성향을 파악하여 맞춤형 데이트 아이디어를 제공하기도 한다. 이를 통해 보다 효율적인 데이팅이 가능해지고, 시간과 에너지를 절약할 수 있다.\n",
      "\n",
      "3. 장점: AI를 통한 데이팅은 더 많은 사람들과 소통할 수 있는 기회를 제공한다. 또한, AI는 객관적인 정보를 제공하기 때문에 주관적인 판단을 배제할 수 있어 효율적인 결정을 내릴 수 있다. 또한, AI는 사용자의 성향을 파악하여 적합한 상대방을 추천하기 때문에 보다 더 깊은 관계를 형성할 수 있다.\n",
      "\n",
      "4. 단점: 하지만, AI를 통한 데이팅은 사람 간의 진짜 소통을 대신할 수는 없다. 인간적인 감정과 상호작용은 AI로 대체할 수 없기 때문에 완전히 의존하면 안된다. 또한, AI가 사용자의 정보를 수집하고 분석하기 때문에 개인정보 보호 문제도 고려해야 한다.\n",
      "\n",
      "5. 결론: AI가 데이팅 업계에 미치는 영향은 두 가지 면에서 볼 수 있다. 한편으로는 효율적인 매칭과 맞춤형 서비스를 제공하여 사용자들에게 편의성을 제공한다. 다른 한편으로는 인간적인 소통과 감정을 대체할 수 없기 때문에 조심스럽게 활용해야 한다. 최종적으로, AI를 통한 데이팅은 보다 다양하고 효율적인 만남을 찾을 수 있는 새로운 방법이 될 수 있을 것이다.\n"
     ]
    }
   ],
   "source": [
    "print(candidates)"
   ]
  },
  {
   "cell_type": "code",
   "execution_count": 15,
   "id": "232a0830-2314-48fd-b41d-c3c8af8eb28a",
   "metadata": {},
   "outputs": [],
   "source": [
    "vote = voting_chain.invoke({\"candidates\": candidates})"
   ]
  },
  {
   "cell_type": "code",
   "execution_count": 16,
   "id": "707714cc-98fe-4ff1-97ca-cfba8f9e7233",
   "metadata": {},
   "outputs": [
    {
     "data": {
      "text/plain": [
       "{'thought': 'Candidate 0 provides a more detailed and structured plan for the essay, with a clear introduction, analysis of the traditional dating industry, impact of AI, and a comprehensive conclusion that includes societal and ethical considerations. This thorough approach seems likely to result in a more in-depth and well-rounded essay.',\n",
       " 'voting_num': 0}"
      ]
     },
     "execution_count": 16,
     "metadata": {},
     "output_type": "execute_result"
    }
   ],
   "source": [
    "vote"
   ]
  },
  {
   "cell_type": "markdown",
   "id": "da9485cb-823d-45bd-84cb-337d6575d0b2",
   "metadata": {},
   "source": [
    "## Essay Generation Chain"
   ]
  },
  {
   "cell_type": "code",
   "execution_count": 17,
   "id": "9b7d1ba8-de33-4e8d-8c2d-9f75c647f94d",
   "metadata": {},
   "outputs": [],
   "source": [
    "essay_gen_prompt = ChatPromptTemplate.from_messages(\n",
    "    [\n",
    "        ('human', \"{plan}에 대해 제목과 함께 1000자 내외의 에세이를 작성해줘.\"),\n",
    "    ])\n",
    "essay_gen_chain = essay_gen_prompt | basic_model | StrOutputParser()"
   ]
  },
  {
   "cell_type": "code",
   "execution_count": 18,
   "id": "9cba903b-7ae3-46f5-9d7e-542fb9b39ba7",
   "metadata": {},
   "outputs": [
    {
     "name": "stdout",
     "output_type": "stream",
     "text": [
      "데이팅 업계는 사람들이 새로운 인연을 만들고 소통하는 중요한 플랫폼으로 자리 잡고 있다. 그러나 최근 AI 기술의 발전으로 데이팅 업계는 새로운 혁신과 도전을 맞이하고 있다. \n",
      "\n",
      "AI 기술은 데이팅 앱과 웹사이트에서 많은 혁신을 가져오고 있다. AI 기반의 매칭 알고리즘을 통해 사용자들에게 더욱 정확한 매칭을 제공함으로써 데이팅 경험을 개선하고 있다. 또한, AI는 사용자들의 행동과 취향을 분석하여 개인 맞춤형 서비스를 제공하고, 대화 시뮬레이션을 통해 데이트 전략을 개선하는 등의 다양한 방법으로 데이팅 업계를 혁신하고 있다.\n",
      "\n",
      "그러나 AI로 인한 데이팅 업계의 발전은 도전과 함께 따라오고 있다. 개인정보 보호 문제와 AI가 인간의 감정을 완벽하게 이해하는 한계 등의 문제가 있다. 이러한 도전에 대처하기 위해서는 윤리적인 AI 개발과 사용자 프라이버시를 존중하는 노력이 필요하다.\n",
      "\n",
      "AI로 인한 데이팅 업계의 혁신은 데이팅 경험을 더욱 풍요롭고 효율적으로 만들어주고 있다. 그러나 도전도 함께 따르고 있어 해결해야 할 과제들이 많이 남아있다. 따라서, AI 기술의 발전과 데이팅 업계의 혁신을 위해 우리는 윤리적이고 안전한 AI를 발전시키는 노력을 계속해야 한다. 이를 통해 더 나은 데이팅 경험과 건강한 데이팅 문화를 만들어 나갈 수 있을 것이다.\n"
     ]
    }
   ],
   "source": [
    "essay = essay_gen_chain.invoke({\"plan\": plan})\n",
    "print(essay)"
   ]
  },
  {
   "cell_type": "markdown",
   "id": "1c201409-4a1b-4d7b-a6e6-d8f3398d8cda",
   "metadata": {},
   "source": [
    "## ToT Pipeline"
   ]
  },
  {
   "cell_type": "code",
   "execution_count": 19,
   "id": "1d9088c8-f76b-4123-9838-fcf62e361384",
   "metadata": {},
   "outputs": [],
   "source": [
    "# subject 정하기\n",
    "subject = \"AI로 인한 데이팅 업계의 변화\""
   ]
  },
  {
   "cell_type": "code",
   "execution_count": 20,
   "id": "cd8ff7e1-a2ef-4c80-b5ba-a4fc46c698b4",
   "metadata": {},
   "outputs": [],
   "source": [
    "# plan 5개 샘플\n",
    "plan_list = plan_gen_chain.batch([{\"subject\": subject}]*5)"
   ]
  },
  {
   "cell_type": "code",
   "execution_count": 21,
   "id": "aa98b2a1-4ad3-4d44-93e9-cf675afba18a",
   "metadata": {},
   "outputs": [],
   "source": [
    "# vote 5개로 plan 중 가장 좋은것 고르기\n",
    "candidates = \"\\n\\n\".join([f\"후보 {i}.\\n{plan}\" for i, plan in enumerate(plan_list)])\n",
    "vote_list = voting_chain.batch([{\"candidates\": candidates}]*5)"
   ]
  },
  {
   "cell_type": "code",
   "execution_count": 22,
   "id": "3504d6db-33c1-4a2c-a95a-3b30f4b4683e",
   "metadata": {},
   "outputs": [],
   "source": [
    "df = pd.DataFrame(vote_list)"
   ]
  },
  {
   "cell_type": "code",
   "execution_count": 23,
   "id": "025d0f4e-d3a6-41f4-a8ac-b2d28d827066",
   "metadata": {},
   "outputs": [
    {
     "data": {
      "text/html": [
       "<div>\n",
       "<style scoped>\n",
       "    .dataframe tbody tr th:only-of-type {\n",
       "        vertical-align: middle;\n",
       "    }\n",
       "\n",
       "    .dataframe tbody tr th {\n",
       "        vertical-align: top;\n",
       "    }\n",
       "\n",
       "    .dataframe thead th {\n",
       "        text-align: right;\n",
       "    }\n",
       "</style>\n",
       "<table border=\"1\" class=\"dataframe\">\n",
       "  <thead>\n",
       "    <tr style=\"text-align: right;\">\n",
       "      <th></th>\n",
       "      <th>thought</th>\n",
       "      <th>voting_num</th>\n",
       "    </tr>\n",
       "  </thead>\n",
       "  <tbody>\n",
       "    <tr>\n",
       "      <th>0</th>\n",
       "      <td>후보 2를 선택했습니다. 이 계획은 에세이의 기본적인 흐름을 잘 파악하고 있으며, ...</td>\n",
       "      <td>2</td>\n",
       "    </tr>\n",
       "    <tr>\n",
       "      <th>1</th>\n",
       "      <td>후보 2 is the most comprehensive and balanced pl...</td>\n",
       "      <td>2</td>\n",
       "    </tr>\n",
       "    <tr>\n",
       "      <th>2</th>\n",
       "      <td>I chose 후보 2 as it provides a comprehensive pl...</td>\n",
       "      <td>2</td>\n",
       "    </tr>\n",
       "    <tr>\n",
       "      <th>3</th>\n",
       "      <td>후보 0의 에세이 계획은 소개부터 결론까지 AI 기술이 데이팅 업계에 미친 영향을 ...</td>\n",
       "      <td>0</td>\n",
       "    </tr>\n",
       "    <tr>\n",
       "      <th>4</th>\n",
       "      <td>Candidate 0 was chosen because it presents a b...</td>\n",
       "      <td>0</td>\n",
       "    </tr>\n",
       "  </tbody>\n",
       "</table>\n",
       "</div>"
      ],
      "text/plain": [
       "                                             thought  voting_num\n",
       "0  후보 2를 선택했습니다. 이 계획은 에세이의 기본적인 흐름을 잘 파악하고 있으며, ...           2\n",
       "1  후보 2 is the most comprehensive and balanced pl...           2\n",
       "2  I chose 후보 2 as it provides a comprehensive pl...           2\n",
       "3  후보 0의 에세이 계획은 소개부터 결론까지 AI 기술이 데이팅 업계에 미친 영향을 ...           0\n",
       "4  Candidate 0 was chosen because it presents a b...           0"
      ]
     },
     "execution_count": 23,
     "metadata": {},
     "output_type": "execute_result"
    }
   ],
   "source": [
    "df"
   ]
  },
  {
   "cell_type": "code",
   "execution_count": 24,
   "id": "f3ef526a-95c3-48a0-a094-d66a7d556288",
   "metadata": {},
   "outputs": [
    {
     "data": {
      "text/plain": [
       "2"
      ]
     },
     "execution_count": 24,
     "metadata": {},
     "output_type": "execute_result"
    }
   ],
   "source": [
    "best_candi_num = df['voting_num'].mode()[0]\n",
    "best_candi_num"
   ]
  },
  {
   "cell_type": "code",
   "execution_count": 25,
   "id": "7d64fa58-858c-47b4-9b24-ced35faba84d",
   "metadata": {},
   "outputs": [],
   "source": [
    "best_plan = plan_list[best_candi_num]"
   ]
  },
  {
   "cell_type": "code",
   "execution_count": 26,
   "id": "6a247a28-cdaa-4f37-a291-2c607b213d0b",
   "metadata": {},
   "outputs": [],
   "source": [
    "# best plan으로 essay generation\n",
    "essay_list = essay_gen_chain.batch([{\"plan\": best_plan}]*5)"
   ]
  },
  {
   "cell_type": "code",
   "execution_count": 27,
   "id": "fd482019-3c48-44ba-a4c3-3350abcc729c",
   "metadata": {},
   "outputs": [],
   "source": [
    "# vote 5개로 essay 중 가장 좋은것 고르기\n",
    "candidates = \"\\n\\n\".join([f\"후보 {i}.\\n{essay}\" for i, essay in enumerate(essay_list)])\n",
    "vote_list = voting_chain.batch([{\"candidates\": candidates}]*5)"
   ]
  },
  {
   "cell_type": "code",
   "execution_count": 28,
   "id": "bdd24bb8-9994-4214-b669-a960ba777940",
   "metadata": {},
   "outputs": [
    {
     "data": {
      "text/html": [
       "<div>\n",
       "<style scoped>\n",
       "    .dataframe tbody tr th:only-of-type {\n",
       "        vertical-align: middle;\n",
       "    }\n",
       "\n",
       "    .dataframe tbody tr th {\n",
       "        vertical-align: top;\n",
       "    }\n",
       "\n",
       "    .dataframe thead th {\n",
       "        text-align: right;\n",
       "    }\n",
       "</style>\n",
       "<table border=\"1\" class=\"dataframe\">\n",
       "  <thead>\n",
       "    <tr style=\"text-align: right;\">\n",
       "      <th></th>\n",
       "      <th>thought</th>\n",
       "      <th>voting_num</th>\n",
       "    </tr>\n",
       "  </thead>\n",
       "  <tbody>\n",
       "    <tr>\n",
       "      <th>0</th>\n",
       "      <td>후보 0 was chosen based on its clear structure, ...</td>\n",
       "      <td>0</td>\n",
       "    </tr>\n",
       "    <tr>\n",
       "      <th>1</th>\n",
       "      <td>후보들의 글을 비교했을 때, 후보 0이 가장 잘 구성된 글로 보입니다. 후보 0은 ...</td>\n",
       "      <td>0</td>\n",
       "    </tr>\n",
       "    <tr>\n",
       "      <th>2</th>\n",
       "      <td>I selected Voting Number 0 because it offers a...</td>\n",
       "      <td>0</td>\n",
       "    </tr>\n",
       "    <tr>\n",
       "      <th>3</th>\n",
       "      <td>후보들의 에세이는 모두 AI 기술의 발전이 데이팅 업계에 미치는 영향에 대해 다루고...</td>\n",
       "      <td>0</td>\n",
       "    </tr>\n",
       "    <tr>\n",
       "      <th>4</th>\n",
       "      <td>후보 0는 AI 기술의 발전과 데이팅 업계의 변화를 잘 설명하고 있습니다. 과거, ...</td>\n",
       "      <td>0</td>\n",
       "    </tr>\n",
       "  </tbody>\n",
       "</table>\n",
       "</div>"
      ],
      "text/plain": [
       "                                             thought  voting_num\n",
       "0  후보 0 was chosen based on its clear structure, ...           0\n",
       "1  후보들의 글을 비교했을 때, 후보 0이 가장 잘 구성된 글로 보입니다. 후보 0은 ...           0\n",
       "2  I selected Voting Number 0 because it offers a...           0\n",
       "3  후보들의 에세이는 모두 AI 기술의 발전이 데이팅 업계에 미치는 영향에 대해 다루고...           0\n",
       "4  후보 0는 AI 기술의 발전과 데이팅 업계의 변화를 잘 설명하고 있습니다. 과거, ...           0"
      ]
     },
     "execution_count": 28,
     "metadata": {},
     "output_type": "execute_result"
    }
   ],
   "source": [
    "df = pd.DataFrame(vote_list)\n",
    "df"
   ]
  },
  {
   "cell_type": "code",
   "execution_count": 29,
   "id": "6839bcbf-d763-4c11-aa0b-6493ea78b3ec",
   "metadata": {},
   "outputs": [
    {
     "data": {
      "text/plain": [
       "0"
      ]
     },
     "execution_count": 29,
     "metadata": {},
     "output_type": "execute_result"
    }
   ],
   "source": [
    "best_candi_num = df['voting_num'].mode()[0]\n",
    "best_candi_num"
   ]
  },
  {
   "cell_type": "code",
   "execution_count": 30,
   "id": "af6ccd22-5286-438c-a52d-2dcd24a13877",
   "metadata": {},
   "outputs": [],
   "source": [
    "best_essay = essay_list[best_candi_num]"
   ]
  },
  {
   "cell_type": "code",
   "execution_count": 31,
   "id": "d7c1fc31-c537-4079-a30a-84defb23477c",
   "metadata": {},
   "outputs": [
    {
     "name": "stdout",
     "output_type": "stream",
     "text": [
      "AI 기술의 발전과 데이팅 업계\n",
      "\n",
      "과거와 현재, 그리고 미래\n",
      "\n",
      "요즘은 AI 기술의 발전으로 인해 우리의 일상이 많이 변화하고 있다. 특히 데이팅 업계에서도 AI 기술이 큰 변화를 가져오고 있다. 과거에는 데이팅이 소개팅이나 소모임을 통해 이뤄졌지만, 현재는 데이팅 앱과 서비스를 통해 손쉽게 데이트 상대를 만날 수 있다. 이러한 변화는 AI 기술의 발전과 함께 더욱 가속화되고 있으며, 데이팅 경험을 혁신적으로 변화시키고 있다.\n",
      "\n",
      "과거에는 데이팅이 상대를 직접 만나서 대화를 나누는 것이 중요했지만, AI 기술이 등장함으로써 데이팅 앱은 사용자의 프로필과 행동 패턴을 분석하여 적합한 상대를 추천해주는 기능을 제공한다. 이를 통해 사용자들은 더욱 쉽고 빠르게 자신과 잘 맞는 상대를 찾을 수 있게 되었다. 또한 AI 기술은 대화를 자연스럽게 이끌어주는 챗봇을 통해 데이팅 경험을 더욱 풍부하고 흥미롭게 만들어주고 있다.\n",
      "\n",
      "하지만 AI를 통한 데이팅 경험에는 몇 가지 단점도 존재한다. 예를 들어, 사용자의 개인정보가 AI 알고리즘에 의해 분석되고 활용되는 것에 대한 우려가 있으며, 또한 자기 표현이나 인간적인 요소가 부족해지는 경우도 있다. 이러한 부분은 사용자들에게 불편함을 느끼게 할 수 있지만, 이러한 단점을 극복하고 긍정적인 면을 최대화하기 위해 계속해서 기술과 서비스의 발전이 이루어져야 한다.\n",
      "\n",
      "앞으로 AI 기술의 발전이 데이팅 업계에 미칠 영향은 더욱 커질 것으로 예상된다. 머신 러닝과 딥 러닝 기술의 발전으로 인해 더욱 정확하고 개인화된 매칭 시스템이 구축될 것이며, 가상 현실과 홀로그램 기술을 통해 사용자들은 더욱 현실적이고 다채로운 데이팅 경험을 할 수 있을 것이다.\n",
      "\n",
      "결론적으로, AI 기술의 발전으로 데이팅 업계는 큰 변화를 겪고 있으며, 앞으로 더욱 혁신적인 변화가 예상된다. 사용자들은 AI를 통해 보다 쉽고 효율적으로 데이트 상대를 찾을 수 있게 되었지만, 동시에 AI에 대한 우려도 존재한다. 이러한 문제를 극복하고 긍정적인 측면을 최대화하며, 사용자들에게 더 나은 데이팅 경험을 제공하기 위해 계속해서 기술과 서비스의 발전이 이루어져야 한다.\n"
     ]
    }
   ],
   "source": [
    "print(best_essay)"
   ]
  },
  {
   "cell_type": "code",
   "execution_count": null,
   "id": "5d88a2cc-a576-493d-9679-9f6dac92a493",
   "metadata": {},
   "outputs": [],
   "source": []
  }
 ],
 "metadata": {
  "kernelspec": {
   "display_name": "Python 3 (ipykernel)",
   "language": "python",
   "name": "python3"
  },
  "language_info": {
   "codemirror_mode": {
    "name": "ipython",
    "version": 3
   },
   "file_extension": ".py",
   "mimetype": "text/x-python",
   "name": "python",
   "nbconvert_exporter": "python",
   "pygments_lexer": "ipython3",
   "version": "3.11.6"
  }
 },
 "nbformat": 4,
 "nbformat_minor": 5
}
