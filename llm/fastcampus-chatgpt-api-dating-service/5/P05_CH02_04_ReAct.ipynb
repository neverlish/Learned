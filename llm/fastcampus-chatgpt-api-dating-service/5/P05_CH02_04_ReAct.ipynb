{
 "cells": [
  {
   "cell_type": "markdown",
   "id": "957a656e-b489-4554-a8c0-61e457a70e69",
   "metadata": {},
   "source": [
    "# ReAct"
   ]
  },
  {
   "cell_type": "code",
   "execution_count": 1,
   "id": "c48ddb26-f28e-4506-a00c-99b162be3d65",
   "metadata": {},
   "outputs": [],
   "source": [
    "from langchain import hub\n",
    "from langchain_openai import OpenAI\n",
    "from langchain.agents import AgentExecutor, create_react_agent\n",
    "from langchain.agents import load_tools, get_all_tool_names\n",
    "from langchain_experimental.tools import PythonREPLTool\n",
    "from langchain.memory import ConversationBufferMemory\n"
   ]
  },
  {
   "cell_type": "code",
   "execution_count": 2,
   "id": "c6519ae3-d263-46fd-b5a2-9a6a6a000a2c",
   "metadata": {},
   "outputs": [],
   "source": [
    "llm = OpenAI()"
   ]
  },
  {
   "cell_type": "code",
   "execution_count": 3,
   "id": "58946484-6b0c-410c-89b9-73b1809becab",
   "metadata": {},
   "outputs": [
    {
     "data": {
      "text/plain": [
       "'gpt-3.5-turbo-instruct'"
      ]
     },
     "execution_count": 3,
     "metadata": {},
     "output_type": "execute_result"
    }
   ],
   "source": [
    "llm.model_name"
   ]
  },
  {
   "cell_type": "code",
   "execution_count": 4,
   "id": "2f254e9f-87c4-44da-b7f5-c9337307ce50",
   "metadata": {},
   "outputs": [
    {
     "name": "stderr",
     "output_type": "stream",
     "text": [
      "/Users/hyeonjinho/.pyenv/versions/3.11.6/lib/python3.11/site-packages/langsmith/client.py:278: LangSmithMissingAPIKeyWarning: API key must be provided when using hosted LangSmith API\n",
      "  warnings.warn(\n"
     ]
    }
   ],
   "source": [
    "prompt = hub.pull(\"hwchase17/react-chat\")"
   ]
  },
  {
   "cell_type": "code",
   "execution_count": 5,
   "id": "60b63265-224f-4a62-b636-3ea702e0e0ea",
   "metadata": {},
   "outputs": [
    {
     "name": "stdout",
     "output_type": "stream",
     "text": [
      "Assistant is a large language model trained by OpenAI.\n",
      "\n",
      "Assistant is designed to be able to assist with a wide range of tasks, from answering simple questions to providing in-depth explanations and discussions on a wide range of topics. As a language model, Assistant is able to generate human-like text based on the input it receives, allowing it to engage in natural-sounding conversations and provide responses that are coherent and relevant to the topic at hand.\n",
      "\n",
      "Assistant is constantly learning and improving, and its capabilities are constantly evolving. It is able to process and understand large amounts of text, and can use this knowledge to provide accurate and informative responses to a wide range of questions. Additionally, Assistant is able to generate its own text based on the input it receives, allowing it to engage in discussions and provide explanations and descriptions on a wide range of topics.\n",
      "\n",
      "Overall, Assistant is a powerful tool that can help with a wide range of tasks and provide valuable insights and information on a wide range of topics. Whether you need help with a specific question or just want to have a conversation about a particular topic, Assistant is here to assist.\n",
      "\n",
      "TOOLS:\n",
      "------\n",
      "\n",
      "Assistant has access to the following tools:\n",
      "\n",
      "{tools}\n",
      "\n",
      "To use a tool, please use the following format:\n",
      "\n",
      "```\n",
      "Thought: Do I need to use a tool? Yes\n",
      "Action: the action to take, should be one of [{tool_names}]\n",
      "Action Input: the input to the action\n",
      "Observation: the result of the action\n",
      "```\n",
      "\n",
      "When you have a response to say to the Human, or if you do not need to use a tool, you MUST use the format:\n",
      "\n",
      "```\n",
      "Thought: Do I need to use a tool? No\n",
      "Final Answer: [your response here]\n",
      "```\n",
      "\n",
      "Begin!\n",
      "\n",
      "Previous conversation history:\n",
      "{chat_history}\n",
      "\n",
      "New input: {input}\n",
      "{agent_scratchpad}\n"
     ]
    }
   ],
   "source": [
    "print(prompt.template)"
   ]
  },
  {
   "cell_type": "code",
   "execution_count": 6,
   "id": "827b41b8-1584-4c12-8cfb-eb1ff6fa5130",
   "metadata": {},
   "outputs": [],
   "source": [
    "tools = load_tools([\"ddg-search\"])"
   ]
  },
  {
   "cell_type": "code",
   "execution_count": 7,
   "id": "2addbab5-660b-449a-b670-11dcb618111e",
   "metadata": {},
   "outputs": [],
   "source": [
    "tools.append(PythonREPLTool())"
   ]
  },
  {
   "cell_type": "code",
   "execution_count": 8,
   "id": "fac3e83b-a2b1-4943-8c70-2c8ce8808fbe",
   "metadata": {},
   "outputs": [
    {
     "name": "stderr",
     "output_type": "stream",
     "text": [
      "/var/folders/1x/st3vh8xs6715dcgqc1gk2hhh0000gn/T/ipykernel_66480/1566233304.py:2: LangChainDeprecationWarning: Please see the migration guide at: https://python.langchain.com/docs/versions/migrating_memory/\n",
      "  memory = ConversationBufferMemory(memory_key=\"chat_history\", return_messages=True)\n"
     ]
    }
   ],
   "source": [
    "# Construct the ReAct agent\n",
    "memory = ConversationBufferMemory(memory_key=\"chat_history\", return_messages=True)\n",
    "agent = create_react_agent(llm, tools, prompt)\n",
    "agent_executor = AgentExecutor(agent=agent, memory=memory, tools=tools, verbose=True)"
   ]
  },
  {
   "cell_type": "code",
   "execution_count": 9,
   "id": "15e7f232-cd18-41a9-9102-101f4ffc8ee3",
   "metadata": {},
   "outputs": [
    {
     "name": "stdout",
     "output_type": "stream",
     "text": [
      "\n",
      "\n",
      "\u001b[1m> Entering new AgentExecutor chain...\u001b[0m\n",
      "\u001b[32;1m\u001b[1;3m\n",
      "Thought: Do I need to use a tool? Yes\n",
      "Action: duckduckgo_search\n",
      "Action Input: IU age\u001b[0m\u001b[36;1m\u001b[1;3mDetails on her age, boyfriend. IU is one of the most famous South Korea singers' of all time, often referred to as 'Nation's Little Sister.' Details on her age, boyfriend. If you know K-pop, you know IU. The singer-actress, whose real name is Lee Ji-eun, is one of the most famous stars in South Korea and is often referred to as the \"Nation's... Introduction: IU Age. IU, born Lee Ji-eun on May 16, 1993, is a South Korean singer-songwriter and actress who has captivated audiences with her incredible talent, heartfelt music, and impressive acting performances.As of 2024, IU is 31 years old and continues to be one of the most influential and beloved figures in the Korean entertainment industry. . This article delves into IU's life ... IU - Net Worth 2024. Moving on, she has a net worth of approximately $15 million at such a young age. The Beginning of Her Career. Later in her middle school years, IU realized her passion for singing. She was also applauded for a performance at her school's sports competition. This made her decide to become a singer. iu于1993年5月16日生于韩国 首尔，家庭成員有父母及弟弟，父母曾開名為寶物島的文具店。iu上小學時期，家庭經濟狀況惡化 [14] ，父母因替他人作擔保而欠下巨債 [15] ，一家人被迫分開生活。iu與奶奶及表姐同住在一間小公寓，度過了一年多的貧困生活 [16] [17] 。 IU, whose real name is Ji-eun Lee, is one of the most successful solo singers of her generation. In January 2021, Lee won Song of the Year for \"Blueming\" at the prestigious Golden Disc Awards.\u001b[0m"
     ]
    },
    {
     "name": "stderr",
     "output_type": "stream",
     "text": [
      "Python REPL can execute arbitrary code. Use with caution.\n"
     ]
    },
    {
     "name": "stdout",
     "output_type": "stream",
     "text": [
      "\u001b[32;1m\u001b[1;3m Do I need to use a tool? Yes\n",
      "Action: Python_REPL\n",
      "Action Input: pow(31,3)\u001b[0m\u001b[33;1m\u001b[1;3m\u001b[0m\u001b[32;1m\u001b[1;3m Do I need to use a tool? No\n",
      "Final Answer: 29791\u001b[0m\n",
      "\n",
      "\u001b[1m> Finished chain.\u001b[0m\n"
     ]
    },
    {
     "data": {
      "text/plain": [
       "{'input': '아이유 나이 검색해서 3제곱 해줘',\n",
       " 'chat_history': [HumanMessage(content='아이유 나이 검색해서 3제곱 해줘', additional_kwargs={}, response_metadata={}),\n",
       "  AIMessage(content='29791', additional_kwargs={}, response_metadata={})],\n",
       " 'output': '29791'}"
      ]
     },
     "execution_count": 9,
     "metadata": {},
     "output_type": "execute_result"
    }
   ],
   "source": [
    "agent_executor.invoke({\"input\": \"아이유 나이 검색해서 3제곱 해줘\"})"
   ]
  },
  {
   "cell_type": "code",
   "execution_count": null,
   "id": "0a016ab8-e6a7-4991-b260-cd5217fd7b67",
   "metadata": {},
   "outputs": [],
   "source": []
  }
 ],
 "metadata": {
  "kernelspec": {
   "display_name": "Python 3 (ipykernel)",
   "language": "python",
   "name": "python3"
  },
  "language_info": {
   "codemirror_mode": {
    "name": "ipython",
    "version": 3
   },
   "file_extension": ".py",
   "mimetype": "text/x-python",
   "name": "python",
   "nbconvert_exporter": "python",
   "pygments_lexer": "ipython3",
   "version": "3.11.6"
  }
 },
 "nbformat": 4,
 "nbformat_minor": 5
}
