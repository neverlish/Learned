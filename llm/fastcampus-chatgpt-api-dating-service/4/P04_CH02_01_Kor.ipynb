{
 "cells": [
  {
   "cell_type": "markdown",
   "id": "a034e1f0-9aae-429c-96b3-e82193cb364b",
   "metadata": {},
   "source": [
    "# Kor"
   ]
  },
  {
   "cell_type": "markdown",
   "id": "0ee8697e-a08d-4ba9-9231-3e78aab8b628",
   "metadata": {},
   "source": [
    "- Kor는 구조화된 데이터를 LLMs(대규모 언어 모델)을 사용하여 추출하는 것을 돕는 LLMs 위의 얇은 래퍼입니다.\n",
    "- Kor를 사용하려면 추출해야 할 데이터의 스키마를 지정하고 일부 추출 예제를 제공해야합니다.\n",
    "- LLM도 출력이 완벽하지 않을 때가 있기 때문에 추출은 완벽하지 않은 경우가 있습니다."
   ]
  },
  {
   "cell_type": "code",
   "execution_count": 1,
   "id": "fe604d04-5b33-45b5-9454-d49b332d194d",
   "metadata": {},
   "outputs": [
    {
     "name": "stdout",
     "output_type": "stream",
     "text": [
      "\u001b[31mERROR: pip's dependency resolver does not currently take into account all the packages that are installed. This behaviour is the source of the following dependency conflicts.\n",
      "open-webui 0.5.16 requires chromadb==0.6.2, but you have chromadb 0.6.3 which is incompatible.\n",
      "open-webui 0.5.16 requires duckduckgo-search~=7.3.2, but you have duckduckgo-search 8.0.0 which is incompatible.\n",
      "open-webui 0.5.16 requires fastapi==0.115.7, but you have fastapi 0.115.9 which is incompatible.\n",
      "open-webui 0.5.16 requires google-generativeai==0.7.2, but you have google-generativeai 0.8.4 which is incompatible.\n",
      "open-webui 0.5.16 requires langchain==0.3.7, but you have langchain 0.3.23 which is incompatible.\n",
      "open-webui 0.5.16 requires langchain-community==0.3.7, but you have langchain-community 0.3.21 which is incompatible.\n",
      "open-webui 0.5.16 requires pandas==2.2.3, but you have pandas 1.5.3 which is incompatible.\n",
      "open-webui 0.5.16 requires psycopg2-binary==2.9.9, but you have psycopg2-binary 2.9.10 which is incompatible.\n",
      "open-webui 0.5.16 requires pypdf==4.3.1, but you have pypdf 5.3.0 which is incompatible.\n",
      "embedchain 0.1.128 requires chromadb<0.6.0,>=0.5.10, but you have chromadb 0.6.3 which is incompatible.\n",
      "embedchain 0.1.128 requires langchain-openai<0.3.0,>=0.2.1, but you have langchain-openai 0.3.12 which is incompatible.\n",
      "pymilvus 2.5.0 requires grpcio<=1.67.1,>=1.49.1, but you have grpcio 1.71.0 which is incompatible.\n",
      "unstructured-inference 0.8.7 requires pdfminer-six==20240706, but you have pdfminer-six 20250327 which is incompatible.\u001b[0m\u001b[31m\n",
      "\u001b[0m"
     ]
    }
   ],
   "source": [
    "!pip install -U --quiet kor==1.0.0"
   ]
  },
  {
   "cell_type": "markdown",
   "id": "1a99412a-f985-43d5-b736-a8ba98acd8ca",
   "metadata": {},
   "source": [
    "## Schema\n",
    "\n",
    "Kor는 원하는 내용을 구문 분석하려면 분석하고자 하는 데이터의 스키마를 지정해야 합니다.ㅇ"
   ]
  },
  {
   "cell_type": "code",
   "execution_count": 2,
   "id": "ce4a40e5-b0c2-4760-9b88-1719266e5639",
   "metadata": {},
   "outputs": [],
   "source": [
    "from kor.extraction import create_extraction_chain\n",
    "from kor.nodes import Object, Text, Number\n",
    "from langchain.chat_models import ChatOpenAI"
   ]
  },
  {
   "cell_type": "code",
   "execution_count": 3,
   "id": "21db812a-891f-4353-b96e-fe894350ebdc",
   "metadata": {},
   "outputs": [],
   "source": [
    "schema = Object(\n",
    "    id=\"person\",\n",
    "    description=\"개인 정보\",\n",
    "    examples=[\n",
    "        (\"김철수와 홍길동은 친구입니다\", [{\"first_name\": \"철수\"}, {\"first_name\": \"길동\"}])\n",
    "    ],\n",
    "    attributes=[\n",
    "        Text(\n",
    "            id=\"first_name\",\n",
    "            description=\"사람의 이름.\",\n",
    "        )\n",
    "    ],\n",
    "    many=True,\n",
    ")"
   ]
  },
  {
   "cell_type": "markdown",
   "id": "2a593d46-1143-4244-ba2e-bb235e2720a6",
   "metadata": {},
   "source": [
    "- 위의 스키마는 'first_name'이라는 단일 텍스트 속성을 포함하는 하나의 객체 노드로 구성됩니다.\n",
    "- 이 객체는 여러번 반복될 수 있으므로, 텍스트에 여러 개의 이름이 포함된 경우 여러 객체가 추출될 것입니다.\n",
    "- 스키마의 일부로, 우리는 추출하고자 하는 내용의 설명과 2개의 예제를 명시했습니다.\n",
    "- 설명과 예제를 모두 포함하는 것은 성능 향상에 도움이 됩니다."
   ]
  },
  {
   "cell_type": "markdown",
   "id": "3c10d527-6e72-46a3-8522-79d390b7e822",
   "metadata": {},
   "source": [
    "## Langchain"
   ]
  },
  {
   "cell_type": "code",
   "execution_count": 4,
   "id": "1e4e83eb-856e-45c8-bc0e-938a1424cfb6",
   "metadata": {},
   "outputs": [],
   "source": [
    "from langchain_openai.chat_models import ChatOpenAI"
   ]
  },
  {
   "cell_type": "code",
   "execution_count": 5,
   "id": "fc7abd37-e54d-4ff7-b8e1-51d11448d744",
   "metadata": {},
   "outputs": [],
   "source": [
    "llm = ChatOpenAI(\n",
    "    model_name=\"gpt-3.5-turbo\",\n",
    "    temperature=0,\n",
    "    max_tokens=2000\n",
    ")"
   ]
  },
  {
   "cell_type": "code",
   "execution_count": 6,
   "id": "cd14019f-8a66-44d2-8964-552ad1667d91",
   "metadata": {},
   "outputs": [
    {
     "name": "stderr",
     "output_type": "stream",
     "text": [
      "/Users/hyeonjinho/.pyenv/versions/3.11.6/lib/python3.11/site-packages/kor/extraction/api.py:110: LangChainDeprecationWarning: The class `LLMChain` was deprecated in LangChain 0.1.17 and will be removed in 1.0. Use :meth:`~RunnableSequence, e.g., `prompt | llm`` instead.\n",
      "  return LLMChain(\n"
     ]
    }
   ],
   "source": [
    "chain = create_extraction_chain(llm, schema)"
   ]
  },
  {
   "cell_type": "markdown",
   "id": "f865572d-6d6a-45a2-8320-91f56834bf61",
   "metadata": {},
   "source": [
    "## 응답 파싱"
   ]
  },
  {
   "cell_type": "code",
   "execution_count": 7,
   "id": "95deee01-2d29-46ab-94a1-9351c59a3146",
   "metadata": {},
   "outputs": [
    {
     "data": {
      "text/plain": [
       "AIMessage(content='1. 김지영\\n2. 이승우', additional_kwargs={'refusal': None}, response_metadata={'token_usage': {'completion_tokens': 16, 'prompt_tokens': 25, 'total_tokens': 41, 'completion_tokens_details': {'accepted_prediction_tokens': 0, 'audio_tokens': 0, 'reasoning_tokens': 0, 'rejected_prediction_tokens': 0}, 'prompt_tokens_details': {'audio_tokens': 0, 'cached_tokens': 0}}, 'model_name': 'gpt-3.5-turbo-0125', 'system_fingerprint': None, 'id': 'chatcmpl-BMBF716KCfpb07uaxbsZhALaczbuB', 'finish_reason': 'stop', 'logprobs': None}, id='run-a8f54475-e41c-4d41-b0e0-73eecd72f4c3-0', usage_metadata={'input_tokens': 25, 'output_tokens': 16, 'total_tokens': 41, 'input_token_details': {'audio': 0, 'cache_read': 0}, 'output_token_details': {'audio': 0, 'reasoning': 0}})"
      ]
     },
     "execution_count": 7,
     "metadata": {},
     "output_type": "execute_result"
    }
   ],
   "source": [
    "llm.invoke(\"랜덤한 한국인 이름 두개 만들어줘\")"
   ]
  },
  {
   "cell_type": "code",
   "execution_count": 8,
   "id": "d15b519f-63c7-4b5d-907d-20edc0d795c4",
   "metadata": {},
   "outputs": [
    {
     "name": "stderr",
     "output_type": "stream",
     "text": [
      "/var/folders/1x/st3vh8xs6715dcgqc1gk2hhh0000gn/T/ipykernel_59171/2860592876.py:1: LangChainDeprecationWarning: The method `Chain.run` was deprecated in langchain 0.1.0 and will be removed in 1.0. Use :meth:`~invoke` instead.\n",
      "  chain.run(\"학생들의 이름은 김지영, 이민호이다\")[\"data\"]\n"
     ]
    },
    {
     "data": {
      "text/plain": [
       "{'person': [{'first_name': '지영'}, {'first_name': '민호'}]}"
      ]
     },
     "execution_count": 8,
     "metadata": {},
     "output_type": "execute_result"
    }
   ],
   "source": [
    "chain.run(\"학생들의 이름은 김지영, 이민호이다\")[\"data\"]"
   ]
  },
  {
   "cell_type": "code",
   "execution_count": 8,
   "id": "382fa0ea-eb03-4ee8-98f0-c9a6d4e4bda5",
   "metadata": {},
   "outputs": [
    {
     "name": "stderr",
     "output_type": "stream",
     "text": [
      "/opt/homebrew/Caskroom/miniconda/base/envs/fc-aitutor-prepare-2312/lib/python3.11/site-packages/langchain_core/_api/deprecation.py:189: LangChainDeprecationWarning: The function `run` was deprecated in LangChain 0.1.0 and will be removed in 0.2.0. Use invoke instead.\n",
      "  warn_deprecated(\n",
      "/opt/homebrew/Caskroom/miniconda/base/envs/fc-aitutor-prepare-2312/lib/python3.11/site-packages/langchain_core/_api/deprecation.py:189: LangChainDeprecationWarning: The function `__call__` was deprecated in LangChain 0.1.0 and will be removed in 0.2.0. Use invoke instead.\n",
      "  warn_deprecated(\n"
     ]
    },
    {
     "data": {
      "text/plain": [
       "{'data': {'person': [{'first_name': '지영'}, {'first_name': '민호'}]},\n",
       " 'raw': 'first_name\\n지영\\n민호',\n",
       " 'errors': [],\n",
       " 'validated_data': {}}"
      ]
     },
     "execution_count": 8,
     "metadata": {},
     "output_type": "execute_result"
    }
   ],
   "source": [
    "chain.run(\"학생들의 이름은 김지영, 이민호이다\")"
   ]
  },
  {
   "cell_type": "markdown",
   "id": "5be8e489-ff49-4266-802c-4a9d1c0dd684",
   "metadata": {},
   "source": [
    "## 원리 - Prompt Engineering"
   ]
  },
  {
   "cell_type": "code",
   "execution_count": 9,
   "id": "4911f14c-e9c4-4d5e-a743-0cff7078bb9c",
   "metadata": {},
   "outputs": [
    {
     "name": "stdout",
     "output_type": "stream",
     "text": [
      "Your goal is to extract structured information from the user's input that matches the form described below. When extracting information please make sure it matches the type information exactly. Do not add any attributes that do not appear in the schema shown below.\n",
      "\n",
      "```TypeScript\n",
      "\n",
      "person: Array<{ // 개인 정보\n",
      " first_name: string // 사람의 이름.\n",
      "}>\n",
      "```\n",
      "\n",
      "\n",
      "Please output the extracted information in CSV format in Excel dialect. Please use a | as the delimiter. \n",
      " Do NOT add any clarifying information. Output MUST follow the schema above. Do NOT add any additional columns that do not appear in the schema.\n",
      "\n",
      "\n",
      "\n",
      "Input: 김철수와 홍길동은 친구입니다\n",
      "Output: first_name\n",
      "철수\n",
      "길동\n",
      "\n",
      "Input: [user input]\n",
      "Output:\n"
     ]
    }
   ],
   "source": [
    "print(chain.prompt.format_prompt(text=\"[user input]\").to_string())"
   ]
  },
  {
   "cell_type": "markdown",
   "id": "89c920c6-51a1-4416-923e-ba50c21f0b1c",
   "metadata": {},
   "source": [
    "## With pydantic"
   ]
  },
  {
   "cell_type": "code",
   "execution_count": 10,
   "id": "0ef7ece8-eafb-48ae-8de9-7d0731efda26",
   "metadata": {},
   "outputs": [],
   "source": [
    "from kor import from_pydantic\n",
    "from pydantic import BaseModel, Field"
   ]
  },
  {
   "cell_type": "code",
   "execution_count": 11,
   "id": "d2dbe48e-fa7f-498d-bb84-c64c9f027c86",
   "metadata": {},
   "outputs": [],
   "source": [
    "class Person(BaseModel):\n",
    "    first_name: str = Field(description=\"사람 이름\")"
   ]
  },
  {
   "cell_type": "code",
   "execution_count": 12,
   "id": "ab7fe8df-5004-47ca-86ca-cc91a771be3f",
   "metadata": {},
   "outputs": [],
   "source": [
    "schema, validator = from_pydantic(\n",
    "    Person,\n",
    "    description=\"개인정보\",  # <-- 설명\n",
    "    examples=[  # <-- 예제\n",
    "        (\"김철수와 홍길동은 친구입니다\", [{\"first_name\": \"철수\"}, {\"first_name\": \"길동\"}])\n",
    "    ],\n",
    "    many=True,  # <-- 여러개 일 수 있다는 정보\n",
    ")\n",
    "\n",
    "chain = create_extraction_chain(llm, schema, encoder_or_encoder_class=\"json\", validator=validator)"
   ]
  },
  {
   "cell_type": "code",
   "execution_count": 13,
   "id": "bafd8b2a-fb0b-4a6f-b228-089ad6e7fafa",
   "metadata": {},
   "outputs": [
    {
     "name": "stdout",
     "output_type": "stream",
     "text": [
      "Your goal is to extract structured information from the user's input that matches the form described below. When extracting information please make sure it matches the type information exactly. Do not add any attributes that do not appear in the schema shown below.\n",
      "\n",
      "```TypeScript\n",
      "\n",
      "person: Array<{ // 개인정보\n",
      " first_name: string // 사람 이름\n",
      "}>\n",
      "```\n",
      "\n",
      "\n",
      "Please output the extracted information in JSON format. Do not output anything except for the extracted information. Do not add any clarifying information. Do not add any fields that are not in the schema. If the text contains attributes that do not appear in the schema, please ignore them. All output must be in JSON format and follow the schema specified above. Wrap the JSON in <json> tags.\n",
      "\n",
      "\n",
      "\n",
      "Input: 김철수와 홍길동은 친구입니다\n",
      "Output: <json>{\"person\": [{\"first_name\": \"철수\"}, {\"first_name\": \"길동\"}]}</json>\n",
      "Input: [user input]\n",
      "Output:\n"
     ]
    }
   ],
   "source": [
    "print(chain.prompt.format_prompt(text=\"[user input]\").to_string())"
   ]
  },
  {
   "cell_type": "code",
   "execution_count": 14,
   "id": "0112606d-f2a1-4108-9f50-ca025f635432",
   "metadata": {},
   "outputs": [
    {
     "data": {
      "text/plain": [
       "{'data': {'person': [{'first_name': '지영'}, {'first_name': '민호'}]},\n",
       " 'raw': '<json>{\"person\": [{\"first_name\": \"지영\"}, {\"first_name\": \"민호\"}]}</json>',\n",
       " 'errors': [],\n",
       " 'validated_data': [Person(first_name='지영'), Person(first_name='민호')]}"
      ]
     },
     "execution_count": 14,
     "metadata": {},
     "output_type": "execute_result"
    }
   ],
   "source": [
    "chain.run(\"학생들의 이름은 김지영, 이민호이다\")"
   ]
  },
  {
   "cell_type": "code",
   "execution_count": 16,
   "id": "7292150d-7bff-448f-b93b-322264238b61",
   "metadata": {},
   "outputs": [],
   "source": [
    "chain = create_extraction_chain(llm, schema, encoder_or_encoder_class=\"csv\", validator=validator)"
   ]
  },
  {
   "cell_type": "code",
   "execution_count": 17,
   "id": "8eb90460-7459-4b06-a901-e2718d0464c4",
   "metadata": {},
   "outputs": [
    {
     "name": "stdout",
     "output_type": "stream",
     "text": [
      "Your goal is to extract structured information from the user's input that matches the form described below. When extracting information please make sure it matches the type information exactly. Do not add any attributes that do not appear in the schema shown below.\n",
      "\n",
      "```TypeScript\n",
      "\n",
      "person: Array<{ // 개인정보\n",
      " first_name: string // 사람 이름\n",
      "}>\n",
      "```\n",
      "\n",
      "\n",
      "Please output the extracted information in CSV format in Excel dialect. Please use a | as the delimiter. \n",
      " Do NOT add any clarifying information. Output MUST follow the schema above. Do NOT add any additional columns that do not appear in the schema.\n",
      "\n",
      "\n",
      "\n",
      "Input: 김철수와 홍길동은 친구입니다\n",
      "Output: first_name\n",
      "철수\n",
      "길동\n",
      "\n",
      "Input: [user input]\n",
      "Output:\n"
     ]
    }
   ],
   "source": [
    "print(chain.prompt.format_prompt(text=\"[user input]\").to_string())"
   ]
  },
  {
   "cell_type": "code",
   "execution_count": 18,
   "id": "146632b7-65e7-4f34-837a-e93edb77e3fe",
   "metadata": {},
   "outputs": [
    {
     "data": {
      "text/plain": [
       "{'data': {'person': [{'first_name': '지영'}, {'first_name': '민호'}]},\n",
       " 'raw': 'first_name\\n지영\\n민호',\n",
       " 'errors': [],\n",
       " 'validated_data': [Person(first_name='지영'), Person(first_name='민호')]}"
      ]
     },
     "execution_count": 18,
     "metadata": {},
     "output_type": "execute_result"
    }
   ],
   "source": [
    "chain.run(\"학생들의 이름은 김지영, 이민호이다\")"
   ]
  },
  {
   "cell_type": "code",
   "execution_count": null,
   "id": "291d0a85-ae2d-488e-b15a-acaecff59062",
   "metadata": {},
   "outputs": [],
   "source": []
  }
 ],
 "metadata": {
  "kernelspec": {
   "display_name": "Python 3 (ipykernel)",
   "language": "python",
   "name": "python3"
  },
  "language_info": {
   "codemirror_mode": {
    "name": "ipython",
    "version": 3
   },
   "file_extension": ".py",
   "mimetype": "text/x-python",
   "name": "python",
   "nbconvert_exporter": "python",
   "pygments_lexer": "ipython3",
   "version": "3.11.6"
  }
 },
 "nbformat": 4,
 "nbformat_minor": 5
}
