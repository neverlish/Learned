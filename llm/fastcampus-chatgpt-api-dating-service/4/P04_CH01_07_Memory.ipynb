{
 "cells": [
  {
   "cell_type": "markdown",
   "id": "1ef023f8-41b2-41a3-b0cc-0717b99fe256",
   "metadata": {},
   "source": [
    "# Memory"
   ]
  },
  {
   "cell_type": "markdown",
   "id": "1abc53b8-4a61-4320-a8c7-27980c66e10e",
   "metadata": {},
   "source": [
    "## ChatMessageHistory"
   ]
  },
  {
   "cell_type": "code",
   "execution_count": 1,
   "id": "730053b3-adbd-42e3-869f-6095491aeec2",
   "metadata": {},
   "outputs": [],
   "source": [
    "from langchain.memory import ChatMessageHistory"
   ]
  },
  {
   "cell_type": "code",
   "execution_count": 2,
   "id": "e36b5518-e098-4a55-bbea-9aa9d5eefabc",
   "metadata": {},
   "outputs": [
    {
     "data": {
      "text/plain": [
       "InMemoryChatMessageHistory(messages=[])"
      ]
     },
     "execution_count": 2,
     "metadata": {},
     "output_type": "execute_result"
    }
   ],
   "source": [
    "history = ChatMessageHistory()\n",
    "history"
   ]
  },
  {
   "cell_type": "code",
   "execution_count": 3,
   "id": "16a98ccd-29d6-498b-92f9-1d41c527748f",
   "metadata": {},
   "outputs": [
    {
     "data": {
      "text/plain": [
       "InMemoryChatMessageHistory(messages=[HumanMessage(content='hi!', additional_kwargs={}, response_metadata={})])"
      ]
     },
     "execution_count": 3,
     "metadata": {},
     "output_type": "execute_result"
    }
   ],
   "source": [
    "history.add_user_message(\"hi!\")\n",
    "history"
   ]
  },
  {
   "cell_type": "code",
   "execution_count": 4,
   "id": "281e5172-a36a-4841-a9ef-203e3654ba50",
   "metadata": {},
   "outputs": [
    {
     "data": {
      "text/plain": [
       "InMemoryChatMessageHistory(messages=[HumanMessage(content='hi!', additional_kwargs={}, response_metadata={}), AIMessage(content='whats up?', additional_kwargs={}, response_metadata={})])"
      ]
     },
     "execution_count": 4,
     "metadata": {},
     "output_type": "execute_result"
    }
   ],
   "source": [
    "history.add_ai_message(\"whats up?\")\n",
    "history"
   ]
  },
  {
   "cell_type": "markdown",
   "id": "321a94fe-64a0-4cc8-99c9-3bf0d3e3b139",
   "metadata": {},
   "source": [
    "## ConversationBufferMemory"
   ]
  },
  {
   "cell_type": "code",
   "execution_count": 5,
   "id": "fb7c066c-aeea-4fa0-9adc-3b1cd765fa87",
   "metadata": {},
   "outputs": [],
   "source": [
    "from langchain.memory import ConversationBufferMemory"
   ]
  },
  {
   "cell_type": "code",
   "execution_count": 6,
   "id": "5160985c-0f95-4213-8a79-17913798c278",
   "metadata": {},
   "outputs": [
    {
     "name": "stderr",
     "output_type": "stream",
     "text": [
      "/var/folders/1x/st3vh8xs6715dcgqc1gk2hhh0000gn/T/ipykernel_57612/150238617.py:1: LangChainDeprecationWarning: Please see the migration guide at: https://python.langchain.com/docs/versions/migrating_memory/\n",
      "  memory = ConversationBufferMemory()\n"
     ]
    }
   ],
   "source": [
    "memory = ConversationBufferMemory()\n",
    "memory.chat_memory.add_user_message(\"안녕\")\n",
    "memory.chat_memory.add_ai_message(\"안녕하세요 무엇을 도와드릴까요?\")"
   ]
  },
  {
   "cell_type": "code",
   "execution_count": 7,
   "id": "205d3775-f32d-4e8c-91d0-d4af710da106",
   "metadata": {},
   "outputs": [
    {
     "data": {
      "text/plain": [
       "{'history': 'Human: 안녕\\nAI: 안녕하세요 무엇을 도와드릴까요?'}"
      ]
     },
     "execution_count": 7,
     "metadata": {},
     "output_type": "execute_result"
    }
   ],
   "source": [
    "memory.load_memory_variables({})"
   ]
  },
  {
   "cell_type": "code",
   "execution_count": 8,
   "id": "47318432-2902-4645-b9b9-d486219f5e89",
   "metadata": {},
   "outputs": [
    {
     "data": {
      "text/plain": [
       "ConversationBufferMemory(chat_memory=InMemoryChatMessageHistory(messages=[HumanMessage(content='안녕', additional_kwargs={}, response_metadata={}), AIMessage(content='안녕하세요 무엇을 도와드릴까요?', additional_kwargs={}, response_metadata={})]))"
      ]
     },
     "execution_count": 8,
     "metadata": {},
     "output_type": "execute_result"
    }
   ],
   "source": [
    "memory"
   ]
  },
  {
   "cell_type": "markdown",
   "id": "0613f34e-1682-41eb-96eb-14d602757f92",
   "metadata": {},
   "source": [
    "### memory_key\n",
    "Memory에 이름을 부여"
   ]
  },
  {
   "cell_type": "code",
   "execution_count": 9,
   "id": "789c8ee4-ac25-4b02-b27c-9369833e02e7",
   "metadata": {},
   "outputs": [],
   "source": [
    "memory = ConversationBufferMemory(memory_key=\"chat_history\")\n",
    "memory.chat_memory.add_user_message(\"안녕\")\n",
    "memory.chat_memory.add_ai_message(\"안녕하세요 무엇을 도와드릴까요?\")"
   ]
  },
  {
   "cell_type": "code",
   "execution_count": 10,
   "id": "45e05ab8-63eb-4e6a-a8f4-7546879e46af",
   "metadata": {},
   "outputs": [
    {
     "data": {
      "text/plain": [
       "{'chat_history': 'Human: 안녕\\nAI: 안녕하세요 무엇을 도와드릴까요?'}"
      ]
     },
     "execution_count": 10,
     "metadata": {},
     "output_type": "execute_result"
    }
   ],
   "source": [
    "memory.load_memory_variables({})"
   ]
  },
  {
   "cell_type": "markdown",
   "id": "aaf0828b-7404-4b30-8767-484a06e5b60c",
   "metadata": {},
   "source": [
    "Return Type을 messages로 바꿀 수도 있음"
   ]
  },
  {
   "cell_type": "code",
   "execution_count": 11,
   "id": "d796f4b1-9cbb-4fff-9252-cec84ffd3baa",
   "metadata": {},
   "outputs": [],
   "source": [
    "memory = ConversationBufferMemory(return_messages=True)\n",
    "memory.chat_memory.add_user_message(\"안녕\")\n",
    "memory.chat_memory.add_ai_message(\"안녕하세요 무엇을 도와드릴까요?\")"
   ]
  },
  {
   "cell_type": "code",
   "execution_count": 12,
   "id": "325b8f94-cd70-4819-bc42-0604a78f9a2b",
   "metadata": {},
   "outputs": [
    {
     "data": {
      "text/plain": [
       "{'history': [HumanMessage(content='안녕', additional_kwargs={}, response_metadata={}),\n",
       "  AIMessage(content='안녕하세요 무엇을 도와드릴까요?', additional_kwargs={}, response_metadata={})]}"
      ]
     },
     "execution_count": 12,
     "metadata": {},
     "output_type": "execute_result"
    }
   ],
   "source": [
    "memory.load_memory_variables({})"
   ]
  },
  {
   "cell_type": "markdown",
   "id": "324347e8-a2b2-471d-b882-d96e858e9482",
   "metadata": {},
   "source": [
    "## ConversationBufferWindowMemory"
   ]
  },
  {
   "cell_type": "code",
   "execution_count": 13,
   "id": "4aa68058-2c41-443c-af2c-fdacdb5f7722",
   "metadata": {},
   "outputs": [],
   "source": [
    "from langchain.memory import ConversationBufferWindowMemory"
   ]
  },
  {
   "cell_type": "code",
   "execution_count": 14,
   "id": "fe4b7989-62b8-4560-910d-ee7a8e764b10",
   "metadata": {},
   "outputs": [
    {
     "name": "stderr",
     "output_type": "stream",
     "text": [
      "/var/folders/1x/st3vh8xs6715dcgqc1gk2hhh0000gn/T/ipykernel_57612/3925694220.py:1: LangChainDeprecationWarning: Please see the migration guide at: https://python.langchain.com/docs/versions/migrating_memory/\n",
      "  memory = ConversationBufferWindowMemory(k=1, return_messages=True)\n"
     ]
    }
   ],
   "source": [
    "memory = ConversationBufferWindowMemory(k=1, return_messages=True)"
   ]
  },
  {
   "cell_type": "code",
   "execution_count": 15,
   "id": "89063eb1-e904-4f6a-a781-8f4a089fe443",
   "metadata": {},
   "outputs": [
    {
     "data": {
      "text/plain": [
       "ConversationBufferWindowMemory(chat_memory=InMemoryChatMessageHistory(messages=[HumanMessage(content='hi', additional_kwargs={}, response_metadata={}), AIMessage(content='whats up', additional_kwargs={}, response_metadata={})]), return_messages=True, k=1)"
      ]
     },
     "execution_count": 15,
     "metadata": {},
     "output_type": "execute_result"
    }
   ],
   "source": [
    "memory.save_context({\"input\": \"hi\"}, {\"output\": \"whats up\"})\n",
    "memory"
   ]
  },
  {
   "cell_type": "code",
   "execution_count": 16,
   "id": "e05ff587-1aa8-4d85-b365-0dbfff759d5e",
   "metadata": {},
   "outputs": [
    {
     "data": {
      "text/plain": [
       "ConversationBufferWindowMemory(chat_memory=InMemoryChatMessageHistory(messages=[HumanMessage(content='hi', additional_kwargs={}, response_metadata={}), AIMessage(content='whats up', additional_kwargs={}, response_metadata={}), HumanMessage(content='not much you', additional_kwargs={}, response_metadata={}), AIMessage(content='not much', additional_kwargs={}, response_metadata={})]), return_messages=True, k=1)"
      ]
     },
     "execution_count": 16,
     "metadata": {},
     "output_type": "execute_result"
    }
   ],
   "source": [
    "memory.save_context({\"input\": \"not much you\"}, {\"output\": \"not much\"})\n",
    "memory"
   ]
  },
  {
   "cell_type": "code",
   "execution_count": 17,
   "id": "78edf720-ccbd-450d-9bfb-842879011ef7",
   "metadata": {},
   "outputs": [
    {
     "data": {
      "text/plain": [
       "{'history': [HumanMessage(content='not much you', additional_kwargs={}, response_metadata={}),\n",
       "  AIMessage(content='not much', additional_kwargs={}, response_metadata={})]}"
      ]
     },
     "execution_count": 17,
     "metadata": {},
     "output_type": "execute_result"
    }
   ],
   "source": [
    "memory.load_memory_variables({})"
   ]
  },
  {
   "cell_type": "markdown",
   "id": "142e8d20-9bc1-4737-870e-7d58b75f0681",
   "metadata": {},
   "source": [
    "# LangChain으로 대화 관리하기"
   ]
  },
  {
   "cell_type": "code",
   "execution_count": 18,
   "id": "7b939e2b-fb09-4339-b77e-2b2469e1fca9",
   "metadata": {},
   "outputs": [],
   "source": [
    "from langchain_openai.chat_models import ChatOpenAI\n",
    "from langchain.prompts import (\n",
    "    ChatPromptTemplate,\n",
    "    MessagesPlaceholder,\n",
    "    SystemMessagePromptTemplate,\n",
    "    HumanMessagePromptTemplate,\n",
    ")\n",
    "from langchain.chains import LLMChain\n",
    "from langchain.memory import ConversationBufferMemory"
   ]
  },
  {
   "cell_type": "code",
   "execution_count": 19,
   "id": "7fffebce-474d-49c2-8cec-11d391e45883",
   "metadata": {},
   "outputs": [
    {
     "name": "stderr",
     "output_type": "stream",
     "text": [
      "/var/folders/1x/st3vh8xs6715dcgqc1gk2hhh0000gn/T/ipykernel_57612/819824388.py:15: LangChainDeprecationWarning: The class `LLMChain` was deprecated in LangChain 0.1.17 and will be removed in 1.0. Use :meth:`~RunnableSequence, e.g., `prompt | llm`` instead.\n",
      "  conversation = LLMChain(\n"
     ]
    }
   ],
   "source": [
    "llm = ChatOpenAI()\n",
    "prompt = ChatPromptTemplate(\n",
    "    messages=[\n",
    "        SystemMessagePromptTemplate.from_template(\n",
    "            \"너는 친절한 어시스턴트야.\"\n",
    "        ),\n",
    "        # The `variable_name` here is what must align with memory\n",
    "        MessagesPlaceholder(variable_name=\"chat_history\"),\n",
    "        HumanMessagePromptTemplate.from_template(\"{user_text}\")\n",
    "    ]\n",
    ")\n",
    "# Notice that we `return_messages=True` to fit into the MessagesPlaceholder\n",
    "# Notice that `\"chat_history\"` aligns with the MessagesPlaceholder name.\n",
    "memory = ConversationBufferMemory(memory_key=\"chat_history\", return_messages=True)\n",
    "conversation = LLMChain(\n",
    "    llm=llm,\n",
    "    prompt=prompt,\n",
    "    verbose=True,\n",
    "    memory=memory\n",
    ")"
   ]
  },
  {
   "cell_type": "code",
   "execution_count": 20,
   "id": "8dd47537-22ed-4053-b045-9aaf1a99a958",
   "metadata": {},
   "outputs": [
    {
     "name": "stdout",
     "output_type": "stream",
     "text": [
      "\n",
      "\n",
      "\u001b[1m> Entering new LLMChain chain...\u001b[0m\n",
      "Prompt after formatting:\n",
      "\u001b[32;1m\u001b[1;3mSystem: 너는 친절한 어시스턴트야.\n",
      "Human: 안녕\u001b[0m\n",
      "\n",
      "\u001b[1m> Finished chain.\u001b[0m\n"
     ]
    },
    {
     "data": {
      "text/plain": [
       "{'user_text': '안녕',\n",
       " 'chat_history': [HumanMessage(content='안녕', additional_kwargs={}, response_metadata={}),\n",
       "  AIMessage(content='안녕하세요! 무엇을 도와드릴까요?👋', additional_kwargs={}, response_metadata={})],\n",
       " 'text': '안녕하세요! 무엇을 도와드릴까요?👋'}"
      ]
     },
     "execution_count": 20,
     "metadata": {},
     "output_type": "execute_result"
    }
   ],
   "source": [
    "conversation.invoke({\"user_text\": \"안녕\"})"
   ]
  },
  {
   "cell_type": "code",
   "execution_count": 21,
   "id": "f0362c3d-cb6a-4cc4-8836-2c3c2ca12d7d",
   "metadata": {},
   "outputs": [
    {
     "name": "stdout",
     "output_type": "stream",
     "text": [
      "\n",
      "\n",
      "\u001b[1m> Entering new LLMChain chain...\u001b[0m\n",
      "Prompt after formatting:\n",
      "\u001b[32;1m\u001b[1;3mSystem: 너는 친절한 어시스턴트야.\n",
      "Human: 안녕\n",
      "AI: 안녕하세요! 무엇을 도와드릴까요?👋\n",
      "Human: 배고파\u001b[0m\n",
      "\n",
      "\u001b[1m> Finished chain.\u001b[0m\n"
     ]
    },
    {
     "data": {
      "text/plain": [
       "{'user_text': '배고파',\n",
       " 'chat_history': [HumanMessage(content='안녕', additional_kwargs={}, response_metadata={}),\n",
       "  AIMessage(content='안녕하세요! 무엇을 도와드릴까요?👋', additional_kwargs={}, response_metadata={}),\n",
       "  HumanMessage(content='배고파', additional_kwargs={}, response_metadata={}),\n",
       "  AIMessage(content='배고프시다면 무엇을 먹을지 고민 중이신가요? 영양가 있는 식사를 즐기는 건 중요하니, 드시고 싶은 음식이 있으면 추천해 드릴게요! 🍽️✨', additional_kwargs={}, response_metadata={})],\n",
       " 'text': '배고프시다면 무엇을 먹을지 고민 중이신가요? 영양가 있는 식사를 즐기는 건 중요하니, 드시고 싶은 음식이 있으면 추천해 드릴게요! 🍽️✨'}"
      ]
     },
     "execution_count": 21,
     "metadata": {},
     "output_type": "execute_result"
    }
   ],
   "source": [
    "conversation.invoke({\"user_text\": \"배고파\"})"
   ]
  },
  {
   "cell_type": "code",
   "execution_count": null,
   "id": "4029915b-5892-4a59-a488-956671c83b12",
   "metadata": {},
   "outputs": [],
   "source": []
  }
 ],
 "metadata": {
  "kernelspec": {
   "display_name": "Python 3 (ipykernel)",
   "language": "python",
   "name": "python3"
  },
  "language_info": {
   "codemirror_mode": {
    "name": "ipython",
    "version": 3
   },
   "file_extension": ".py",
   "mimetype": "text/x-python",
   "name": "python",
   "nbconvert_exporter": "python",
   "pygments_lexer": "ipython3",
   "version": "3.11.6"
  }
 },
 "nbformat": 4,
 "nbformat_minor": 5
}
