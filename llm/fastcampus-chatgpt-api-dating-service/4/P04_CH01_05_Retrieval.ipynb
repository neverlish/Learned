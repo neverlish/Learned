{
 "cells": [
  {
   "cell_type": "markdown",
   "id": "2e8e061a-b2ac-434c-a46e-125c9c4c4737",
   "metadata": {},
   "source": [
    "# Retrieval"
   ]
  },
  {
   "cell_type": "markdown",
   "id": "969ecee2-b7c4-43cc-a312-a4db951f2d3f",
   "metadata": {},
   "source": [
    "## 검색 할 파일 불러오기"
   ]
  },
  {
   "cell_type": "markdown",
   "id": "146f3a8d-fc46-4198-94f0-c55ed0804756",
   "metadata": {},
   "source": [
    "### txt 파일"
   ]
  },
  {
   "cell_type": "code",
   "execution_count": 4,
   "id": "61e48e53-0a5b-48d4-9fe9-b0bfbe95b661",
   "metadata": {},
   "outputs": [],
   "source": [
    "from langchain_community.document_loaders import TextLoader\n",
    "\n",
    "loader = TextLoader(\"./langchain/docs/docs/tutorials/index.mdx\")"
   ]
  },
  {
   "cell_type": "code",
   "execution_count": 5,
   "id": "5e90a14c-f8cb-46b8-bf65-555229231b71",
   "metadata": {},
   "outputs": [],
   "source": [
    "docs = loader.load()"
   ]
  },
  {
   "cell_type": "code",
   "execution_count": 3,
   "id": "56df2c70-905c-4e49-9019-52370dff083b",
   "metadata": {},
   "outputs": [
    {
     "data": {
      "text/plain": [
       "1"
      ]
     },
     "execution_count": 3,
     "metadata": {},
     "output_type": "execute_result"
    }
   ],
   "source": [
    "len(docs)"
   ]
  },
  {
   "cell_type": "code",
   "execution_count": 6,
   "id": "b781782e-5e68-49a6-9286-ed3403dc8b01",
   "metadata": {},
   "outputs": [
    {
     "data": {
      "text/plain": [
       "[Document(metadata={'source': './langchain/docs/docs/tutorials/index.mdx'}, page_content=\"---\\nsidebar_position: 0\\nsidebar_class_name: hidden\\n---\\n# Tutorials\\n\\nNew to LangChain or LLM app development in general? Read this material to quickly get up and running building your first applications.\\n\\n## Get started\\n\\nFamiliarize yourself with LangChain's open-source components by building simple applications.\\n\\nIf you're looking to get started with [chat models](/docs/integrations/chat/), [vector stores](/docs/integrations/vectorstores/),\\nor other LangChain components from a specific provider, check out our supported [integrations](/docs/integrations/providers/).\\n\\n- [Chat models and prompts](/docs/tutorials/llm_chain): Build a simple LLM application with [prompt templates](/docs/concepts/prompt_templates) and [chat models](/docs/concepts/chat_models).\\n- [Semantic search](/docs/tutorials/retrievers): Build a semantic search engine over a PDF with [document loaders](/docs/concepts/document_loaders), [embedding models](/docs/concepts/embedding_models/), and [vector stores](/docs/concepts/vectorstores/).\\n- [Classification](/docs/tutorials/classification): Classify text into categories or labels using [chat models](/docs/concepts/chat_models) with [structured outputs](/docs/concepts/structured_outputs/).\\n- [Extraction](/docs/tutorials/extraction): Extract structured data from text and other unstructured media using [chat models](/docs/concepts/chat_models) and [few-shot examples](/docs/concepts/few_shot_prompting/).\\n\\nRefer to the [how-to guides](/docs/how_to) for more detail on using all LangChain components.\\n\\n## Orchestration\\n\\nGet started using [LangGraph](https://langchain-ai.github.io/langgraph/) to assemble LangChain components into full-featured applications.\\n\\n- [Chatbots](/docs/tutorials/chatbot): Build a chatbot that incorporates memory.\\n- [Agents](/docs/tutorials/agents): Build an agent that interacts with external tools.\\n- [Retrieval Augmented Generation (RAG) Part 1](/docs/tutorials/rag): Build an application that uses your own documents to inform its responses.\\n- [Retrieval Augmented Generation (RAG) Part 2](/docs/tutorials/qa_chat_history): Build a RAG application that incorporates a memory of its user interactions and multi-step retrieval.\\n- [Question-Answering with SQL](/docs/tutorials/sql_qa): Build a question-answering system that executes SQL queries to inform its responses.\\n- [Summarization](/docs/tutorials/summarization): Generate summaries of (potentially long) texts.\\n- [Question-Answering with Graph Databases](/docs/tutorials/graph): Build a question-answering system that queries a graph database to inform its responses.\\n\\n## LangSmith\\n\\nLangSmith allows you to closely trace, monitor and evaluate your LLM application.\\nIt seamlessly integrates with LangChain, and you can use it to inspect and debug individual steps of your chains as you build.\\n\\nLangSmith documentation is hosted on a separate site.\\nYou can peruse [LangSmith tutorials here](https://docs.smith.langchain.com/tutorials/).\\n\\n### Evaluation\\n\\nLangSmith helps you evaluate the performance of your LLM applications. The tutorial below is a great way to get started:\\n\\n- [Evaluate your LLM application](https://docs.smith.langchain.com/tutorials/Developers/evaluation)\\n\")]"
      ]
     },
     "execution_count": 6,
     "metadata": {},
     "output_type": "execute_result"
    }
   ],
   "source": [
    "docs"
   ]
  },
  {
   "cell_type": "markdown",
   "id": "99cc6c80-d84f-4455-840c-3778228fcde3",
   "metadata": {},
   "source": [
    "### 디렉토리 파일들"
   ]
  },
  {
   "cell_type": "code",
   "execution_count": 1,
   "id": "c69fc97e-3bbb-489f-8896-323c2e62251c",
   "metadata": {
    "collapsed": true,
    "jupyter": {
     "outputs_hidden": true
    },
    "scrolled": true
   },
   "outputs": [
    {
     "name": "stdout",
     "output_type": "stream",
     "text": [
      "Looking in indexes: https://pypi.org/simple, https://pypi.ngc.nvidia.com\n",
      "Requirement already satisfied: unstructured in /Users/hyeonjinho/.pyenv/versions/3.11.6/lib/python3.11/site-packages (0.16.17)\n",
      "Requirement already satisfied: chardet in /Users/hyeonjinho/.pyenv/versions/3.11.6/lib/python3.11/site-packages (from unstructured) (5.2.0)\n",
      "Requirement already satisfied: filetype in /Users/hyeonjinho/.pyenv/versions/3.11.6/lib/python3.11/site-packages (from unstructured) (1.2.0)\n",
      "Requirement already satisfied: python-magic in /Users/hyeonjinho/.pyenv/versions/3.11.6/lib/python3.11/site-packages (from unstructured) (0.4.27)\n",
      "Requirement already satisfied: lxml in /Users/hyeonjinho/.pyenv/versions/3.11.6/lib/python3.11/site-packages (from unstructured) (5.3.0)\n",
      "Requirement already satisfied: nltk in /Users/hyeonjinho/.pyenv/versions/3.11.6/lib/python3.11/site-packages (from unstructured) (3.9.1)\n",
      "Requirement already satisfied: requests in /Users/hyeonjinho/.pyenv/versions/3.11.6/lib/python3.11/site-packages (from unstructured) (2.32.3)\n",
      "Requirement already satisfied: beautifulsoup4 in /Users/hyeonjinho/.pyenv/versions/3.11.6/lib/python3.11/site-packages (from unstructured) (4.12.3)\n",
      "Requirement already satisfied: emoji in /Users/hyeonjinho/.pyenv/versions/3.11.6/lib/python3.11/site-packages (from unstructured) (2.14.1)\n",
      "Requirement already satisfied: dataclasses-json in /Users/hyeonjinho/.pyenv/versions/3.11.6/lib/python3.11/site-packages (from unstructured) (0.6.7)\n",
      "Requirement already satisfied: python-iso639 in /Users/hyeonjinho/.pyenv/versions/3.11.6/lib/python3.11/site-packages (from unstructured) (2025.2.18)\n",
      "Requirement already satisfied: langdetect in /Users/hyeonjinho/.pyenv/versions/3.11.6/lib/python3.11/site-packages (from unstructured) (1.0.9)\n",
      "Requirement already satisfied: numpy<2 in /Users/hyeonjinho/.pyenv/versions/3.11.6/lib/python3.11/site-packages (from unstructured) (1.26.4)\n",
      "Requirement already satisfied: rapidfuzz in /Users/hyeonjinho/.pyenv/versions/3.11.6/lib/python3.11/site-packages (from unstructured) (3.12.1)\n",
      "Requirement already satisfied: backoff in /Users/hyeonjinho/.pyenv/versions/3.11.6/lib/python3.11/site-packages (from unstructured) (2.2.1)\n",
      "Requirement already satisfied: typing-extensions in /Users/hyeonjinho/.pyenv/versions/3.11.6/lib/python3.11/site-packages (from unstructured) (4.12.2)\n",
      "Requirement already satisfied: unstructured-client in /Users/hyeonjinho/.pyenv/versions/3.11.6/lib/python3.11/site-packages (from unstructured) (0.30.4)\n",
      "Requirement already satisfied: wrapt in /Users/hyeonjinho/.pyenv/versions/3.11.6/lib/python3.11/site-packages (from unstructured) (1.17.2)\n",
      "Requirement already satisfied: tqdm in /Users/hyeonjinho/.pyenv/versions/3.11.6/lib/python3.11/site-packages (from unstructured) (4.67.0)\n",
      "Requirement already satisfied: psutil in /Users/hyeonjinho/.pyenv/versions/3.11.6/lib/python3.11/site-packages (from unstructured) (6.1.0)\n",
      "Requirement already satisfied: python-oxmsg in /Users/hyeonjinho/.pyenv/versions/3.11.6/lib/python3.11/site-packages (from unstructured) (0.0.2)\n",
      "Requirement already satisfied: html5lib in /Users/hyeonjinho/.pyenv/versions/3.11.6/lib/python3.11/site-packages (from unstructured) (1.1)\n",
      "Requirement already satisfied: markdown in /Users/hyeonjinho/.pyenv/versions/3.11.6/lib/python3.11/site-packages (from unstructured[md]) (3.7)\n",
      "Requirement already satisfied: soupsieve>1.2 in /Users/hyeonjinho/.pyenv/versions/3.11.6/lib/python3.11/site-packages (from beautifulsoup4->unstructured) (2.6)\n",
      "Requirement already satisfied: marshmallow<4.0.0,>=3.18.0 in /Users/hyeonjinho/.pyenv/versions/3.11.6/lib/python3.11/site-packages (from dataclasses-json->unstructured) (3.26.0)\n",
      "Requirement already satisfied: typing-inspect<1,>=0.4.0 in /Users/hyeonjinho/.pyenv/versions/3.11.6/lib/python3.11/site-packages (from dataclasses-json->unstructured) (0.9.0)\n",
      "Requirement already satisfied: six>=1.9 in /Users/hyeonjinho/.pyenv/versions/3.11.6/lib/python3.11/site-packages (from html5lib->unstructured) (1.16.0)\n",
      "Requirement already satisfied: webencodings in /Users/hyeonjinho/.pyenv/versions/3.11.6/lib/python3.11/site-packages (from html5lib->unstructured) (0.5.1)\n",
      "Requirement already satisfied: click in /Users/hyeonjinho/.pyenv/versions/3.11.6/lib/python3.11/site-packages (from nltk->unstructured) (8.1.8)\n",
      "Requirement already satisfied: joblib in /Users/hyeonjinho/.pyenv/versions/3.11.6/lib/python3.11/site-packages (from nltk->unstructured) (1.4.2)\n",
      "Requirement already satisfied: regex>=2021.8.3 in /Users/hyeonjinho/.pyenv/versions/3.11.6/lib/python3.11/site-packages (from nltk->unstructured) (2024.11.6)\n",
      "Requirement already satisfied: olefile in /Users/hyeonjinho/.pyenv/versions/3.11.6/lib/python3.11/site-packages (from python-oxmsg->unstructured) (0.47)\n",
      "Requirement already satisfied: charset-normalizer<4,>=2 in /Users/hyeonjinho/.pyenv/versions/3.11.6/lib/python3.11/site-packages (from requests->unstructured) (3.4.0)\n",
      "Requirement already satisfied: idna<4,>=2.5 in /Users/hyeonjinho/.pyenv/versions/3.11.6/lib/python3.11/site-packages (from requests->unstructured) (3.10)\n",
      "Requirement already satisfied: urllib3<3,>=1.21.1 in /Users/hyeonjinho/.pyenv/versions/3.11.6/lib/python3.11/site-packages (from requests->unstructured) (2.2.3)\n",
      "Requirement already satisfied: certifi>=2017.4.17 in /Users/hyeonjinho/.pyenv/versions/3.11.6/lib/python3.11/site-packages (from requests->unstructured) (2024.8.30)\n",
      "Requirement already satisfied: aiofiles>=24.1.0 in /Users/hyeonjinho/.pyenv/versions/3.11.6/lib/python3.11/site-packages (from unstructured-client->unstructured) (24.1.0)\n",
      "Requirement already satisfied: cryptography>=3.1 in /Users/hyeonjinho/.pyenv/versions/3.11.6/lib/python3.11/site-packages (from unstructured-client->unstructured) (44.0.1)\n",
      "Requirement already satisfied: eval-type-backport>=0.2.0 in /Users/hyeonjinho/.pyenv/versions/3.11.6/lib/python3.11/site-packages (from unstructured-client->unstructured) (0.2.2)\n",
      "Requirement already satisfied: httpx>=0.27.0 in /Users/hyeonjinho/.pyenv/versions/3.11.6/lib/python3.11/site-packages (from unstructured-client->unstructured) (0.28.1)\n",
      "Requirement already satisfied: nest-asyncio>=1.6.0 in /Users/hyeonjinho/.pyenv/versions/3.11.6/lib/python3.11/site-packages (from unstructured-client->unstructured) (1.6.0)\n",
      "Requirement already satisfied: pydantic>=2.10.3 in /Users/hyeonjinho/.pyenv/versions/3.11.6/lib/python3.11/site-packages (from unstructured-client->unstructured) (2.10.6)\n",
      "Requirement already satisfied: pypdf>=4.0 in /Users/hyeonjinho/.pyenv/versions/3.11.6/lib/python3.11/site-packages (from unstructured-client->unstructured) (5.3.0)\n",
      "Requirement already satisfied: python-dateutil>=2.8.2 in /Users/hyeonjinho/.pyenv/versions/3.11.6/lib/python3.11/site-packages (from unstructured-client->unstructured) (2.9.0.post0)\n",
      "Requirement already satisfied: requests-toolbelt>=1.0.0 in /Users/hyeonjinho/.pyenv/versions/3.11.6/lib/python3.11/site-packages (from unstructured-client->unstructured) (1.0.0)\n",
      "Requirement already satisfied: cffi>=1.12 in /Users/hyeonjinho/.pyenv/versions/3.11.6/lib/python3.11/site-packages (from cryptography>=3.1->unstructured-client->unstructured) (1.17.1)\n",
      "Requirement already satisfied: anyio in /Users/hyeonjinho/.pyenv/versions/3.11.6/lib/python3.11/site-packages (from httpx>=0.27.0->unstructured-client->unstructured) (4.6.2.post1)\n",
      "Requirement already satisfied: httpcore==1.* in /Users/hyeonjinho/.pyenv/versions/3.11.6/lib/python3.11/site-packages (from httpx>=0.27.0->unstructured-client->unstructured) (1.0.6)\n",
      "Requirement already satisfied: h11<0.15,>=0.13 in /Users/hyeonjinho/.pyenv/versions/3.11.6/lib/python3.11/site-packages (from httpcore==1.*->httpx>=0.27.0->unstructured-client->unstructured) (0.14.0)\n",
      "Requirement already satisfied: packaging>=17.0 in /Users/hyeonjinho/.pyenv/versions/3.11.6/lib/python3.11/site-packages (from marshmallow<4.0.0,>=3.18.0->dataclasses-json->unstructured) (24.2)\n",
      "Requirement already satisfied: annotated-types>=0.6.0 in /Users/hyeonjinho/.pyenv/versions/3.11.6/lib/python3.11/site-packages (from pydantic>=2.10.3->unstructured-client->unstructured) (0.7.0)\n",
      "Requirement already satisfied: pydantic-core==2.27.2 in /Users/hyeonjinho/.pyenv/versions/3.11.6/lib/python3.11/site-packages (from pydantic>=2.10.3->unstructured-client->unstructured) (2.27.2)\n",
      "Requirement already satisfied: mypy-extensions>=0.3.0 in /Users/hyeonjinho/.pyenv/versions/3.11.6/lib/python3.11/site-packages (from typing-inspect<1,>=0.4.0->dataclasses-json->unstructured) (1.0.0)\n",
      "Requirement already satisfied: pycparser in /Users/hyeonjinho/.pyenv/versions/3.11.6/lib/python3.11/site-packages (from cffi>=1.12->cryptography>=3.1->unstructured-client->unstructured) (2.22)\n",
      "Requirement already satisfied: sniffio>=1.1 in /Users/hyeonjinho/.pyenv/versions/3.11.6/lib/python3.11/site-packages (from anyio->httpx>=0.27.0->unstructured-client->unstructured) (1.3.1)\n"
     ]
    }
   ],
   "source": [
    "!pip install unstructured \"unstructured[md]\""
   ]
  },
  {
   "cell_type": "code",
   "execution_count": 7,
   "id": "5732c518-625c-4cfc-b3e2-39669403649e",
   "metadata": {},
   "outputs": [],
   "source": [
    "from langchain_community.document_loaders import DirectoryLoader"
   ]
  },
  {
   "cell_type": "code",
   "execution_count": 8,
   "id": "3618e0c6-bc51-49b2-9cce-3e6119b8f0ff",
   "metadata": {},
   "outputs": [],
   "source": [
    "loader = DirectoryLoader('./langchain/docs/docs/', glob=\"**/*.md\")"
   ]
  },
  {
   "cell_type": "code",
   "execution_count": 9,
   "id": "2184d19e-67f7-45f3-a74c-f953ab25f94a",
   "metadata": {},
   "outputs": [
    {
     "name": "stderr",
     "output_type": "stream",
     "text": [
      "libmagic is unavailable but assists in filetype detection. Please consider installing libmagic for better results.\n",
      "libmagic is unavailable but assists in filetype detection. Please consider installing libmagic for better results.\n",
      "libmagic is unavailable but assists in filetype detection. Please consider installing libmagic for better results.\n",
      "libmagic is unavailable but assists in filetype detection. Please consider installing libmagic for better results.\n",
      "libmagic is unavailable but assists in filetype detection. Please consider installing libmagic for better results.\n",
      "libmagic is unavailable but assists in filetype detection. Please consider installing libmagic for better results.\n",
      "libmagic is unavailable but assists in filetype detection. Please consider installing libmagic for better results.\n",
      "libmagic is unavailable but assists in filetype detection. Please consider installing libmagic for better results.\n",
      "libmagic is unavailable but assists in filetype detection. Please consider installing libmagic for better results.\n",
      "libmagic is unavailable but assists in filetype detection. Please consider installing libmagic for better results.\n",
      "libmagic is unavailable but assists in filetype detection. Please consider installing libmagic for better results.\n",
      "libmagic is unavailable but assists in filetype detection. Please consider installing libmagic for better results.\n",
      "libmagic is unavailable but assists in filetype detection. Please consider installing libmagic for better results.\n",
      "libmagic is unavailable but assists in filetype detection. Please consider installing libmagic for better results.\n",
      "libmagic is unavailable but assists in filetype detection. Please consider installing libmagic for better results.\n",
      "libmagic is unavailable but assists in filetype detection. Please consider installing libmagic for better results.\n",
      "libmagic is unavailable but assists in filetype detection. Please consider installing libmagic for better results.\n",
      "libmagic is unavailable but assists in filetype detection. Please consider installing libmagic for better results.\n",
      "libmagic is unavailable but assists in filetype detection. Please consider installing libmagic for better results.\n",
      "libmagic is unavailable but assists in filetype detection. Please consider installing libmagic for better results.\n",
      "libmagic is unavailable but assists in filetype detection. Please consider installing libmagic for better results.\n",
      "libmagic is unavailable but assists in filetype detection. Please consider installing libmagic for better results.\n",
      "libmagic is unavailable but assists in filetype detection. Please consider installing libmagic for better results.\n",
      "libmagic is unavailable but assists in filetype detection. Please consider installing libmagic for better results.\n"
     ]
    }
   ],
   "source": [
    "docs = loader.load()"
   ]
  },
  {
   "cell_type": "code",
   "execution_count": 10,
   "id": "3cd95113-d6b5-46e4-afbf-347be7886604",
   "metadata": {},
   "outputs": [
    {
     "data": {
      "text/plain": [
       "24"
      ]
     },
     "execution_count": 10,
     "metadata": {},
     "output_type": "execute_result"
    }
   ],
   "source": [
    "len(docs)"
   ]
  },
  {
   "cell_type": "code",
   "execution_count": 11,
   "id": "fbebfe11-343c-4885-b603-30a0c54e12a6",
   "metadata": {},
   "outputs": [
    {
     "data": {
      "text/plain": [
       "Document(metadata={'source': 'langchain/docs/docs/how_to/pydantic_compatibility.md'}, page_content=\"How to use LangChain with different Pydantic versions\\n\\nAs of the 0.3 release, LangChain uses Pydantic 2 internally.\\n\\nUsers should install Pydantic 2 and are advised to avoid using the pydantic.v1 namespace of Pydantic 2 with LangChain APIs.\\n\\nIf you're working with prior versions of LangChain, please see the following guide on Pydantic compatibility.\")"
      ]
     },
     "execution_count": 11,
     "metadata": {},
     "output_type": "execute_result"
    }
   ],
   "source": [
    "docs[0]"
   ]
  },
  {
   "cell_type": "markdown",
   "id": "66751269-0880-4034-a9c8-555e432ad1e7",
   "metadata": {},
   "source": [
    "### PDF"
   ]
  },
  {
   "cell_type": "code",
   "execution_count": null,
   "id": "5712cf37-2e9a-4786-99c8-724f8fe8c8ec",
   "metadata": {},
   "outputs": [],
   "source": [
    "!pip install pypdf"
   ]
  },
  {
   "cell_type": "code",
   "execution_count": 12,
   "id": "f4c529c6-2533-4ee4-a446-c768a0c13c65",
   "metadata": {},
   "outputs": [],
   "source": [
    "from langchain_community.document_loaders import PyPDFLoader\n",
    "\n",
    "loader = PyPDFLoader(\"./langchain/libs/community/tests/examples/layout-parser-paper.pdf\")\n",
    "pages = loader.load_and_split()"
   ]
  },
  {
   "cell_type": "code",
   "execution_count": 13,
   "id": "a7e483d6-3b68-477b-ad8c-585582c85aa9",
   "metadata": {},
   "outputs": [
    {
     "data": {
      "text/plain": [
       "16"
      ]
     },
     "execution_count": 13,
     "metadata": {},
     "output_type": "execute_result"
    }
   ],
   "source": [
    "len(pages)"
   ]
  },
  {
   "cell_type": "code",
   "execution_count": 14,
   "id": "4cbe93bd-8f63-49c0-be20-ee41653811fc",
   "metadata": {},
   "outputs": [
    {
     "data": {
      "text/plain": [
       "Document(metadata={'producer': 'pdfTeX-1.40.21', 'creator': 'LaTeX with hyperref', 'creationdate': '2021-06-22T01:27:10+00:00', 'author': '', 'keywords': '', 'moddate': '2021-06-22T01:27:10+00:00', 'ptex.fullbanner': 'This is pdfTeX, Version 3.14159265-2.6-1.40.21 (TeX Live 2020) kpathsea version 6.3.2', 'subject': '', 'title': '', 'trapped': '/False', 'source': './langchain/libs/community/tests/examples/layout-parser-paper.pdf', 'total_pages': 16, 'page': 0, 'page_label': '1'}, page_content='LayoutParser: A Uniﬁed Toolkit for Deep\\nLearning Based Document Image Analysis\\nZejiang Shen1 (\\x00 ), Ruochen Zhang2, Melissa Dell3, Benjamin Charles Germain\\nLee4, Jacob Carlson3, and Weining Li5\\n1 Allen Institute for AI\\nshannons@allenai.org\\n2 Brown University\\nruochen zhang@brown.edu\\n3 Harvard University\\n{melissadell,jacob carlson}@fas.harvard.edu\\n4 University of Washington\\nbcgl@cs.washington.edu\\n5 University of Waterloo\\nw422li@uwaterloo.ca\\nAbstract. Recent advances in document image analysis (DIA) have been\\nprimarily driven by the application of neural networks. Ideally, research\\noutcomes could be easily deployed in production and extended for further\\ninvestigation. However, various factors like loosely organized codebases\\nand sophisticated model conﬁgurations complicate the easy reuse of im-\\nportant innovations by a wide audience. Though there have been on-going\\neﬀorts to improve reusability and simplify deep learning (DL) model\\ndevelopment in disciplines like natural language processing and computer\\nvision, none of them are optimized for challenges in the domain of DIA.\\nThis represents a major gap in the existing toolkit, as DIA is central to\\nacademic research across a wide range of disciplines in the social sciences\\nand humanities. This paper introduces LayoutParser, an open-source\\nlibrary for streamlining the usage of DL in DIA research and applica-\\ntions. The core LayoutParser library comes with a set of simple and\\nintuitive interfaces for applying and customizing DL models for layout de-\\ntection, character recognition, and many other document processing tasks.\\nTo promote extensibility, LayoutParser also incorporates a community\\nplatform for sharing both pre-trained models and full document digiti-\\nzation pipelines. We demonstrate that LayoutParser is helpful for both\\nlightweight and large-scale digitization pipelines in real-word use cases.\\nThe library is publicly available at https://layout-parser.github.io.\\nKeywords: Document Image Analysis · Deep Learning · Layout Analysis\\n· Character Recognition · Open Source library · Toolkit.\\n1 Introduction\\nDeep Learning(DL)-based approaches are the state-of-the-art for a wide range of\\ndocument image analysis (DIA) tasks including document image classiﬁcation [11,\\narXiv:2103.15348v2  [cs.CV]  21 Jun 2021')"
      ]
     },
     "execution_count": 14,
     "metadata": {},
     "output_type": "execute_result"
    }
   ],
   "source": [
    "pages[0]"
   ]
  },
  {
   "cell_type": "markdown",
   "id": "bdc4b2bc-3b6a-4b22-8dc1-d705d2e6053a",
   "metadata": {},
   "source": [
    "## 검색하기"
   ]
  },
  {
   "cell_type": "code",
   "execution_count": null,
   "id": "0288168f-4b4c-44c2-a868-8cc99037aa1b",
   "metadata": {},
   "outputs": [],
   "source": [
    "!pip install tiktoken faiss-cpu"
   ]
  },
  {
   "cell_type": "code",
   "execution_count": 15,
   "id": "14c7754a-a721-4aab-b089-a7392b4a1ae7",
   "metadata": {},
   "outputs": [],
   "source": [
    "from langchain.text_splitter import CharacterTextSplitter\n",
    "from langchain_community.embeddings import OpenAIEmbeddings\n",
    "from langchain_community.vectorstores import FAISS"
   ]
  },
  {
   "cell_type": "code",
   "execution_count": 16,
   "id": "142586c9-ab06-4205-8eef-edfc317e0155",
   "metadata": {},
   "outputs": [],
   "source": [
    "loader = PyPDFLoader(\"./data/소개팅_나무위키.pdf\")"
   ]
  },
  {
   "cell_type": "code",
   "execution_count": 17,
   "id": "175168bb-20a1-47de-9de5-5b6becae668e",
   "metadata": {},
   "outputs": [],
   "source": [
    "pages = loader.load_and_split()"
   ]
  },
  {
   "cell_type": "code",
   "execution_count": 18,
   "id": "3374956b-bc3c-464e-9f90-4f87fecfc6da",
   "metadata": {},
   "outputs": [
    {
     "data": {
      "text/plain": [
       "18"
      ]
     },
     "execution_count": 18,
     "metadata": {},
     "output_type": "execute_result"
    }
   ],
   "source": [
    "len(pages)"
   ]
  },
  {
   "cell_type": "code",
   "execution_count": 19,
   "id": "33ee3b55-5be9-421f-a44b-344f0666588b",
   "metadata": {},
   "outputs": [
    {
     "data": {
      "text/plain": [
       "Document(metadata={'producer': 'Skia/PDF m120', 'creator': 'Mozilla/5.0 (Macintosh; Intel Mac OS X 10_15_7) AppleWebKit/537.36 (KHTML, like Gecko) Chrome/120.0.0.0 Safari/537.36', 'creationdate': '2024-01-07T04:32:12+00:00', 'moddate': '2024-01-07T04:32:12+00:00', 'source': './data/소개팅_나무위키.pdf', 'total_pages': 18, 'page': 2, 'page_label': '3'}, page_content=\"24. 1. 7. 오후  1:32 소개팅  - 나무위키\\nhttps://namu.wiki/w/ 소개팅 3/18\\n\\uf3d0\\n\\uf3d0\\n니더라도  적극적인  대시를  받아  이미  상위  50% 에  속하는  귀여운  남성과  연애를  하고  있을  가능성이  높고 , 설령  소개팅  시장에\\n나오더라도  한두  번  만에  적극적인  대시를  받아  금방  품절이  되고  만다 . 사전에  얼굴과  키  등  대략적인  정보를  교환하고  만남이\\n성사  되더라도 , 소개팅을  줄곧  하고  있는  여성은  슬프게도  사진과는  괴리감이  있는  모습일  확률이  높다 . 이는  소개팅에서  남자\\n들의  성에  차지  않는  대상이  되고  만다 .\\n남성의  경우도  키크고  잘생긴  경우  여자들이  주변에  많아  소개팅에  나오는  경우가  별로  없다 . 여성에게  앞서  얘기한  여러  가지\\n종합적인  평가를  받으므로 , 소개팅에서  상대방에게  이를  최대한  어필하게  된다 . 이  과정에서  언어  능력이  떨어지는  일부  남자들\\n은  약간의  밑천이  드러나기도  한다 . 단시간에  매력을  발산해야  하는  소개팅이란  시스템에서  사실  언어  능력이  취약한  남자는  자\\n신을  잘  포장하지  못하거나  마이너스  요소를  드러내기  쉽다 . 가령  자신의  관심사만  얘기한다거나 ... 대화가  끊기거나  상대방의\\n호감을  떨어뜨리는  불필요한  말을  하게  된다 . 그  결과  여성은  ‘ 멋진 ’ 남자가  아니라는  결론에  도달한다 . ( 사실  주선자에  의해  비\\n슷한  수준의  남녀가  만날  확률이  높음에도  불구하고 )\\n즉  ' 멋진 ' 은  생물학적  요인에  의해  다른  의미라  보이지만 , 남자의  입장에서  ' 예쁜 ' 으로  여자의  입장에서  ' 언어  등의  센스가  좋은\\n매너남 ' 정도로  대체될  수  있다 .\\n3.1.1. 긍정론\\n멋진  남녀  중  이미  괜찮은  사람들은  소개팅  따위  안  하고  미리  연애를  하고  있을  확률이  높다 . 마음만  먹으면  주변에서  항상  멋\\n진  이성들이  계속해서  들이대기  때문에  소개팅에  나올  이유가  딱히  없다 . 동아리 , 동호회 , 대학교 , 회사  동료  등  멋진  남녀들이\\n선택할  수  있는  인맥의  풀은  매우  넓다 . 따라서  소개팅에서  이상형을  예쁘고  잘  생기고  젊고  재력  있는  사람을  만날  것이다 . 같\\n은  기대는  별로  하지  말아야  한다 . 이런  기대를  하면서  소개팅에  나가면  실패한다 . 우연히  괜찮은  사람인데 , 나이가  어리거나  연\\n애  경험이  없거나  쑥맥이라  이성을  못  만나본  케이스가  그나마  괜찮은  케이스라  볼  수  있다 .\\n소개를  해  주는  입장에서도  사실  어느  정도  부족한  점을  감안해서  비슷한  급의  사람을  소개해준다고  보면  된다 . 외모든 , 성격이\\n든 , 종교적인  차이든  소개해  주는  쪽에서는  이런  문제들을  대체로  숨기니까  소개팅  하는  남녀들은  소개팅  전  최대한  정보를  확\\n보해야만  한다 . \\uf22e2012 년  신문기사에서 , 여자  입장에서의  불만은  ' 정말  괜찮은  사람은  소개팅에  안  나온다 '(67.3%), ' 주선자\\n는  눈이  높으면서  정작  별로인  상대를  소개한다 '(39.8%), ' 소개팅  성공  여부는  만난  지  3 초  만에  결정된다 '(31.1%) 등이  많았\\n다 . 아무래도  여자  쪽에서  눈에  차지  않아서  거절하는  경우가  많다는  뜻이다 .\\n다만 , 시기상  봄에  들어오는  소개팅의  경우  그나마  괜찮은  상대를  만날  확률이  다른  계절에  비해  크다고  한다 . 왜냐하면  봄에는\\n신학기의  시작 , 또는  회사  등의  연수와  입사[3]가  본격적으로  이뤄지면서  환경이  급변하다  보니 , 연애를  생각하는  사람들도  많고\\n결혼  적령기  커플들  중에  깨지는  경우가  많기  때문이다 . 늦가을부터  연말까지의  시기에도  괜찮은  사람들이  나올  확률이  큰데 ,\\n크리스마스와  연말  시즌을  앞두고  별로  연애  생각이  없거나  휴식기를  가지던  사람들도  연애  욕구가  솟아오르기  십상이며 , 또  역\\n설적으로  이때가  커플들이  많이  깨지는  격동의  시기이기도  하기에  ( 연말과  크리스마스가  다가오는데  설레지  않고  행복하지  않\\n다고  느끼는  경우 ) 소개팅을  하지  않거나  할  수  없었던  사람들도  많이  나오기  마련이다 .\\n그래도  가뭄에  콩나듯  괜찮은  상대가  소개팅에  나오는  경우도  없진  않은데 , 역설적인  건  이런  상대들은  연애에  관심이  없는  초\\n식계 (초식남 또는  건어물녀) 거나  소개팅  자체에  관심이  없다가  주위의  압력이나  주선자의  간절한  부탁으로  그냥  가볍게  나온\\n경우가  의외로  많다 .\\n이런  초식계  케이스는  연애  초보자인지라  소개팅에서  일반적인  사람들과  다른  행동을  해서  마음에  안  들거나  깨질  확률이  매우\\n높다 . 더욱  황당한  건  이런  사람들이  막상  소개팅에서  상대를  좋아해도  연애  초보자이기  때문에  하지  말아야  할  실수를  평소보\\n다  더  많이  해서  깨질  확률이  또  올라간다는  게  딜레마 .\\n3.1.2. 부정론\\n하지만  이에  대한  반론도  있다 .\")"
      ]
     },
     "execution_count": 19,
     "metadata": {},
     "output_type": "execute_result"
    }
   ],
   "source": [
    "pages[2]"
   ]
  },
  {
   "cell_type": "code",
   "execution_count": 20,
   "id": "8ea94c92-d75f-4560-a1a5-adb61cbb50f3",
   "metadata": {},
   "outputs": [],
   "source": [
    "text_splitter = CharacterTextSplitter(separator=\"\\n\", chunk_size=100, chunk_overlap=0, length_function=len)\n",
    "texts = text_splitter.split_documents(pages)"
   ]
  },
  {
   "cell_type": "code",
   "execution_count": 21,
   "id": "82dd53d5-12fd-449d-be42-2bc0ef460321",
   "metadata": {},
   "outputs": [
    {
     "data": {
      "text/plain": [
       "586"
      ]
     },
     "execution_count": 21,
     "metadata": {},
     "output_type": "execute_result"
    }
   ],
   "source": [
    "len(texts)"
   ]
  },
  {
   "cell_type": "code",
   "execution_count": 22,
   "id": "cbed9893-8a04-470b-8f6e-e7e6263fc95c",
   "metadata": {},
   "outputs": [
    {
     "data": {
      "text/plain": [
       "Document(metadata={'producer': 'Skia/PDF m120', 'creator': 'Mozilla/5.0 (Macintosh; Intel Mac OS X 10_15_7) AppleWebKit/537.36 (KHTML, like Gecko) Chrome/120.0.0.0 Safari/537.36', 'creationdate': '2024-01-07T04:32:12+00:00', 'moddate': '2024-01-07T04:32:12+00:00', 'source': './data/소개팅_나무위키.pdf', 'total_pages': 18, 'page': 1, 'page_label': '2'}, page_content='남녀의  성향이나  조건을  미리  탐색해  대충  비슷한  레벨의  남녀를  매칭시키는데 , 서구권에는  거의  없는  문화이며 , 유독  동북아권')"
      ]
     },
     "execution_count": 22,
     "metadata": {},
     "output_type": "execute_result"
    }
   ],
   "source": [
    "texts[10]"
   ]
  },
  {
   "cell_type": "code",
   "execution_count": 23,
   "id": "8e2b768a-8724-478b-b161-3465a9735dc9",
   "metadata": {},
   "outputs": [
    {
     "name": "stderr",
     "output_type": "stream",
     "text": [
      "/var/folders/1x/st3vh8xs6715dcgqc1gk2hhh0000gn/T/ipykernel_52004/3282250844.py:1: LangChainDeprecationWarning: The class `OpenAIEmbeddings` was deprecated in LangChain 0.0.9 and will be removed in 1.0. An updated version of the class exists in the :class:`~langchain-openai package and should be used instead. To use it run `pip install -U :class:`~langchain-openai` and import as `from :class:`~langchain_openai import OpenAIEmbeddings``.\n",
      "  embeddings = OpenAIEmbeddings()\n"
     ]
    }
   ],
   "source": [
    "embeddings = OpenAIEmbeddings()\n",
    "db = FAISS.from_documents(texts, embeddings)"
   ]
  },
  {
   "cell_type": "code",
   "execution_count": 24,
   "id": "9ffaeb17-4019-4c71-9ede-5e7a224a7ed7",
   "metadata": {},
   "outputs": [],
   "source": [
    "retriever = db.as_retriever(search_kwargs={\"k\": 10})"
   ]
  },
  {
   "cell_type": "code",
   "execution_count": 25,
   "id": "beee1712-9916-4ba6-878b-df73a03d3682",
   "metadata": {},
   "outputs": [
    {
     "name": "stderr",
     "output_type": "stream",
     "text": [
      "/var/folders/1x/st3vh8xs6715dcgqc1gk2hhh0000gn/T/ipykernel_52004/2187620379.py:1: LangChainDeprecationWarning: The method `BaseRetriever.get_relevant_documents` was deprecated in langchain-core 0.1.46 and will be removed in 1.0. Use :meth:`~invoke` instead.\n",
      "  rel_docs = retriever.get_relevant_documents(\"주선자의 역할\")\n"
     ]
    }
   ],
   "source": [
    "rel_docs = retriever.get_relevant_documents(\"주선자의 역할\")"
   ]
  },
  {
   "cell_type": "code",
   "execution_count": 26,
   "id": "b70975b8-7005-4383-98bc-23f2fae30cec",
   "metadata": {},
   "outputs": [
    {
     "data": {
      "text/plain": [
       "Document(id='564e9c03-a07b-491a-86b6-814cbb54b12c', metadata={'producer': 'Skia/PDF m120', 'creator': 'Mozilla/5.0 (Macintosh; Intel Mac OS X 10_15_7) AppleWebKit/537.36 (KHTML, like Gecko) Chrome/120.0.0.0 Safari/537.36', 'creationdate': '2024-01-07T04:32:12+00:00', 'moddate': '2024-01-07T04:32:12+00:00', 'source': './data/소개팅_나무위키.pdf', 'total_pages': 18, 'page': 1, 'page_label': '2'}, page_content='2. 주선자와  그  역할\\n과거에는  주선자가  대상  남녀가  만날  장소까지  주선해  주고  잠시  동석하여  각자  소개  및  대화를  잠깐  이끌어  주었다가  자리를')"
      ]
     },
     "execution_count": 26,
     "metadata": {},
     "output_type": "execute_result"
    }
   ],
   "source": [
    "rel_docs[0]"
   ]
  },
  {
   "cell_type": "code",
   "execution_count": 27,
   "id": "2934fba9-22a6-494c-9735-4bf8dff104cb",
   "metadata": {},
   "outputs": [
    {
     "data": {
      "text/plain": [
       "[Document(id='564e9c03-a07b-491a-86b6-814cbb54b12c', metadata={'producer': 'Skia/PDF m120', 'creator': 'Mozilla/5.0 (Macintosh; Intel Mac OS X 10_15_7) AppleWebKit/537.36 (KHTML, like Gecko) Chrome/120.0.0.0 Safari/537.36', 'creationdate': '2024-01-07T04:32:12+00:00', 'moddate': '2024-01-07T04:32:12+00:00', 'source': './data/소개팅_나무위키.pdf', 'total_pages': 18, 'page': 1, 'page_label': '2'}, page_content='2. 주선자와  그  역할\\n과거에는  주선자가  대상  남녀가  만날  장소까지  주선해  주고  잠시  동석하여  각자  소개  및  대화를  잠깐  이끌어  주었다가  자리를'),\n",
       " Document(id='1ecf2bc2-6938-430a-8f1b-e91e3e805894', metadata={'producer': 'Skia/PDF m120', 'creator': 'Mozilla/5.0 (Macintosh; Intel Mac OS X 10_15_7) AppleWebKit/537.36 (KHTML, like Gecko) Chrome/120.0.0.0 Safari/537.36', 'creationdate': '2024-01-07T04:32:12+00:00', 'moddate': '2024-01-07T04:32:12+00:00', 'source': './data/소개팅_나무위키.pdf', 'total_pages': 18, 'page': 1, 'page_label': '2'}, page_content='주선자의  역할이  줄어들다  보니 , 아예  주선자조차  남녀를  둘  다  알지  못하는  한다리  건너식  소개팅  양상도  늘어났다 . 예컨대  A'),\n",
       " Document(id='51295511-b162-4b8d-9ca4-718e2d67e024', metadata={'producer': 'Skia/PDF m120', 'creator': 'Mozilla/5.0 (Macintosh; Intel Mac OS X 10_15_7) AppleWebKit/537.36 (KHTML, like Gecko) Chrome/120.0.0.0 Safari/537.36', 'creationdate': '2024-01-07T04:32:12+00:00', 'moddate': '2024-01-07T04:32:12+00:00', 'source': './data/소개팅_나무위키.pdf', 'total_pages': 18, 'page': 1, 'page_label': '2'}, page_content='는  주선자  역할인  a 는  A 와  b 만  잘  알  뿐  정작  소개팅  상대녀인  B 에  대한  정보는  한다리  건너서만  아는  식 .')]"
      ]
     },
     "execution_count": 27,
     "metadata": {},
     "output_type": "execute_result"
    }
   ],
   "source": [
    "rel_docs[:3]"
   ]
  },
  {
   "cell_type": "code",
   "execution_count": 28,
   "id": "2a146e30-03b3-43fe-b31b-874a99cea73d",
   "metadata": {},
   "outputs": [
    {
     "data": {
      "text/plain": [
       "10"
      ]
     },
     "execution_count": 28,
     "metadata": {},
     "output_type": "execute_result"
    }
   ],
   "source": [
    "len(rel_docs)"
   ]
  },
  {
   "cell_type": "code",
   "execution_count": 29,
   "id": "30dda61b-c517-488d-bec3-81410de78c75",
   "metadata": {},
   "outputs": [
    {
     "name": "stdout",
     "output_type": "stream",
     "text": [
      "주선자의  역할이  줄어들다  보니 , 아예  주선자조차  남녀를  둘  다  알지  못하는  한다리  건너식  소개팅  양상도  늘어났다 . 예컨대  A\n"
     ]
    }
   ],
   "source": [
    "print(rel_docs[1].page_content)"
   ]
  },
  {
   "cell_type": "code",
   "execution_count": null,
   "id": "01f5479c-c87a-4278-b0f4-6bcf58c10aa1",
   "metadata": {},
   "outputs": [],
   "source": []
  }
 ],
 "metadata": {
  "kernelspec": {
   "display_name": "Python 3 (ipykernel)",
   "language": "python",
   "name": "python3"
  },
  "language_info": {
   "codemirror_mode": {
    "name": "ipython",
    "version": 3
   },
   "file_extension": ".py",
   "mimetype": "text/x-python",
   "name": "python",
   "nbconvert_exporter": "python",
   "pygments_lexer": "ipython3",
   "version": "3.11.6"
  }
 },
 "nbformat": 4,
 "nbformat_minor": 5
}
