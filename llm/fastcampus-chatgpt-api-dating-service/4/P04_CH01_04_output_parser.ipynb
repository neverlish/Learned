{
 "cells": [
  {
   "cell_type": "markdown",
   "id": "69c72d7e-03c7-42ac-8dad-01951e6ec897",
   "metadata": {},
   "source": [
    "## Output Parser"
   ]
  },
  {
   "cell_type": "code",
   "execution_count": 1,
   "id": "93a28662-2e28-493a-a5f2-30e55b16009e",
   "metadata": {
    "collapsed": true,
    "jupyter": {
     "outputs_hidden": true
    },
    "scrolled": true
   },
   "outputs": [
    {
     "name": "stdout",
     "output_type": "stream",
     "text": [
      "Requirement already satisfied: langchain_openai in /opt/homebrew/Caskroom/miniconda/base/envs/fc-aitutor-prepare-2312/lib/python3.11/site-packages (0.0.2)\n",
      "Requirement already satisfied: langchain-core<0.2,>=0.1.7 in /opt/homebrew/Caskroom/miniconda/base/envs/fc-aitutor-prepare-2312/lib/python3.11/site-packages (from langchain_openai) (0.1.7)\n",
      "Requirement already satisfied: numpy<2,>=1 in /opt/homebrew/Caskroom/miniconda/base/envs/fc-aitutor-prepare-2312/lib/python3.11/site-packages (from langchain_openai) (1.26.2)\n",
      "Requirement already satisfied: openai<2.0.0,>=1.6.1 in /opt/homebrew/Caskroom/miniconda/base/envs/fc-aitutor-prepare-2312/lib/python3.11/site-packages (from langchain_openai) (1.6.1)\n",
      "Requirement already satisfied: tiktoken<0.6.0,>=0.5.2 in /opt/homebrew/Caskroom/miniconda/base/envs/fc-aitutor-prepare-2312/lib/python3.11/site-packages (from langchain_openai) (0.5.2)\n",
      "Requirement already satisfied: PyYAML>=5.3 in /opt/homebrew/Caskroom/miniconda/base/envs/fc-aitutor-prepare-2312/lib/python3.11/site-packages (from langchain-core<0.2,>=0.1.7->langchain_openai) (6.0.1)\n",
      "Requirement already satisfied: anyio<5,>=3 in /opt/homebrew/Caskroom/miniconda/base/envs/fc-aitutor-prepare-2312/lib/python3.11/site-packages (from langchain-core<0.2,>=0.1.7->langchain_openai) (3.7.1)\n",
      "Requirement already satisfied: jsonpatch<2.0,>=1.33 in /opt/homebrew/Caskroom/miniconda/base/envs/fc-aitutor-prepare-2312/lib/python3.11/site-packages (from langchain-core<0.2,>=0.1.7->langchain_openai) (1.33)\n",
      "Requirement already satisfied: langsmith<0.1.0,>=0.0.63 in /opt/homebrew/Caskroom/miniconda/base/envs/fc-aitutor-prepare-2312/lib/python3.11/site-packages (from langchain-core<0.2,>=0.1.7->langchain_openai) (0.0.77)\n",
      "Requirement already satisfied: packaging<24.0,>=23.2 in /opt/homebrew/Caskroom/miniconda/base/envs/fc-aitutor-prepare-2312/lib/python3.11/site-packages (from langchain-core<0.2,>=0.1.7->langchain_openai) (23.2)\n",
      "Requirement already satisfied: pydantic<3,>=1 in /opt/homebrew/Caskroom/miniconda/base/envs/fc-aitutor-prepare-2312/lib/python3.11/site-packages (from langchain-core<0.2,>=0.1.7->langchain_openai) (2.5.2)\n",
      "Requirement already satisfied: requests<3,>=2 in /opt/homebrew/Caskroom/miniconda/base/envs/fc-aitutor-prepare-2312/lib/python3.11/site-packages (from langchain-core<0.2,>=0.1.7->langchain_openai) (2.31.0)\n",
      "Requirement already satisfied: tenacity<9.0.0,>=8.1.0 in /opt/homebrew/Caskroom/miniconda/base/envs/fc-aitutor-prepare-2312/lib/python3.11/site-packages (from langchain-core<0.2,>=0.1.7->langchain_openai) (8.2.3)\n",
      "Requirement already satisfied: distro<2,>=1.7.0 in /opt/homebrew/Caskroom/miniconda/base/envs/fc-aitutor-prepare-2312/lib/python3.11/site-packages (from openai<2.0.0,>=1.6.1->langchain_openai) (1.8.0)\n",
      "Requirement already satisfied: httpx<1,>=0.23.0 in /opt/homebrew/Caskroom/miniconda/base/envs/fc-aitutor-prepare-2312/lib/python3.11/site-packages (from openai<2.0.0,>=1.6.1->langchain_openai) (0.25.2)\n",
      "Requirement already satisfied: sniffio in /opt/homebrew/Caskroom/miniconda/base/envs/fc-aitutor-prepare-2312/lib/python3.11/site-packages (from openai<2.0.0,>=1.6.1->langchain_openai) (1.3.0)\n",
      "Requirement already satisfied: tqdm>4 in /opt/homebrew/Caskroom/miniconda/base/envs/fc-aitutor-prepare-2312/lib/python3.11/site-packages (from openai<2.0.0,>=1.6.1->langchain_openai) (4.66.1)\n",
      "Requirement already satisfied: typing-extensions<5,>=4.7 in /opt/homebrew/Caskroom/miniconda/base/envs/fc-aitutor-prepare-2312/lib/python3.11/site-packages (from openai<2.0.0,>=1.6.1->langchain_openai) (4.8.0)\n",
      "Requirement already satisfied: regex>=2022.1.18 in /opt/homebrew/Caskroom/miniconda/base/envs/fc-aitutor-prepare-2312/lib/python3.11/site-packages (from tiktoken<0.6.0,>=0.5.2->langchain_openai) (2023.12.25)\n",
      "Requirement already satisfied: idna>=2.8 in /opt/homebrew/Caskroom/miniconda/base/envs/fc-aitutor-prepare-2312/lib/python3.11/site-packages (from anyio<5,>=3->langchain-core<0.2,>=0.1.7->langchain_openai) (3.6)\n",
      "Requirement already satisfied: certifi in /opt/homebrew/Caskroom/miniconda/base/envs/fc-aitutor-prepare-2312/lib/python3.11/site-packages (from httpx<1,>=0.23.0->openai<2.0.0,>=1.6.1->langchain_openai) (2023.11.17)\n",
      "Requirement already satisfied: httpcore==1.* in /opt/homebrew/Caskroom/miniconda/base/envs/fc-aitutor-prepare-2312/lib/python3.11/site-packages (from httpx<1,>=0.23.0->openai<2.0.0,>=1.6.1->langchain_openai) (1.0.2)\n",
      "Requirement already satisfied: h11<0.15,>=0.13 in /opt/homebrew/Caskroom/miniconda/base/envs/fc-aitutor-prepare-2312/lib/python3.11/site-packages (from httpcore==1.*->httpx<1,>=0.23.0->openai<2.0.0,>=1.6.1->langchain_openai) (0.14.0)\n",
      "Requirement already satisfied: jsonpointer>=1.9 in /opt/homebrew/Caskroom/miniconda/base/envs/fc-aitutor-prepare-2312/lib/python3.11/site-packages (from jsonpatch<2.0,>=1.33->langchain-core<0.2,>=0.1.7->langchain_openai) (2.4)\n",
      "Requirement already satisfied: annotated-types>=0.4.0 in /opt/homebrew/Caskroom/miniconda/base/envs/fc-aitutor-prepare-2312/lib/python3.11/site-packages (from pydantic<3,>=1->langchain-core<0.2,>=0.1.7->langchain_openai) (0.6.0)\n",
      "Requirement already satisfied: pydantic-core==2.14.5 in /opt/homebrew/Caskroom/miniconda/base/envs/fc-aitutor-prepare-2312/lib/python3.11/site-packages (from pydantic<3,>=1->langchain-core<0.2,>=0.1.7->langchain_openai) (2.14.5)\n",
      "Requirement already satisfied: charset-normalizer<4,>=2 in /opt/homebrew/Caskroom/miniconda/base/envs/fc-aitutor-prepare-2312/lib/python3.11/site-packages (from requests<3,>=2->langchain-core<0.2,>=0.1.7->langchain_openai) (3.3.2)\n",
      "Requirement already satisfied: urllib3<3,>=1.21.1 in /opt/homebrew/Caskroom/miniconda/base/envs/fc-aitutor-prepare-2312/lib/python3.11/site-packages (from requests<3,>=2->langchain-core<0.2,>=0.1.7->langchain_openai) (2.1.0)\n"
     ]
    }
   ],
   "source": [
    "!pip install langchain_openai"
   ]
  },
  {
   "cell_type": "code",
   "execution_count": 1,
   "id": "3a150c91-35fc-4e21-91d6-d1d5cb9858c9",
   "metadata": {},
   "outputs": [],
   "source": [
    "from langchain_openai import ChatOpenAI\n",
    "# 계속 선언 방법이 업데이트 중\n",
    "# from langchain.chat_models import ChatOpenAI\n",
    "# from langchain_community.chat_models import ChatOpenAI\n",
    "\n",
    "from langchain.prompts.chat import (\n",
    "    ChatPromptTemplate,\n",
    "    HumanMessagePromptTemplate,\n",
    ")"
   ]
  },
  {
   "cell_type": "code",
   "execution_count": 2,
   "id": "fc9d7617-fa78-4b48-8313-e28a8c4a55d5",
   "metadata": {},
   "outputs": [],
   "source": [
    "model = ChatOpenAI(temperature=0)"
   ]
  },
  {
   "cell_type": "markdown",
   "id": "b408713d-c56c-40fc-b434-b71475428daf",
   "metadata": {},
   "source": [
    "### StrOutputParser"
   ]
  },
  {
   "cell_type": "code",
   "execution_count": 3,
   "id": "94e00bfd-6058-4f85-bb2a-8f735dbb81c7",
   "metadata": {},
   "outputs": [],
   "source": [
    "from langchain.schema import StrOutputParser"
   ]
  },
  {
   "cell_type": "code",
   "execution_count": 4,
   "id": "b02947c3-c4f8-4650-80ea-e6efab85908b",
   "metadata": {},
   "outputs": [],
   "source": [
    "# 요약 template\n",
    "human_message_prompt = \"'{text}' 여기서 키워드를 뽑아서 콤마로 구분해줘\"\n",
    "human_message_prompt_template = HumanMessagePromptTemplate.from_template(human_message_prompt)\n",
    "chat_prompt_template = ChatPromptTemplate.from_messages([human_message_prompt_template])"
   ]
  },
  {
   "cell_type": "code",
   "execution_count": 5,
   "id": "30cee8f6-9f11-49d0-8fb7-3841d3bbc53c",
   "metadata": {},
   "outputs": [],
   "source": [
    "chain_with_output_parser = chat_prompt_template | model | StrOutputParser()"
   ]
  },
  {
   "cell_type": "code",
   "execution_count": 6,
   "id": "10a9be50-d119-47d4-996a-2d7fb2bf17d5",
   "metadata": {},
   "outputs": [],
   "source": [
    "out = chain_with_output_parser.invoke({\"text\": \"LangChain is a framework for developing applications powered by language models.\"})"
   ]
  },
  {
   "cell_type": "code",
   "execution_count": 7,
   "id": "8e764660-2d90-4b50-9c02-0a3fa4fb7761",
   "metadata": {},
   "outputs": [
    {
     "data": {
      "text/plain": [
       "'LangChain, framework, developing applications, language models'"
      ]
     },
     "execution_count": 7,
     "metadata": {},
     "output_type": "execute_result"
    }
   ],
   "source": [
    "out"
   ]
  },
  {
   "cell_type": "code",
   "execution_count": 8,
   "id": "31639cf1-0564-450b-ba78-7e2a5293e031",
   "metadata": {},
   "outputs": [
    {
     "data": {
      "text/plain": [
       "str"
      ]
     },
     "execution_count": 8,
     "metadata": {},
     "output_type": "execute_result"
    }
   ],
   "source": [
    "type(out)"
   ]
  },
  {
   "cell_type": "markdown",
   "id": "70e49f69-ca32-460c-b5b0-7d183519d2df",
   "metadata": {},
   "source": [
    "### CSV Parser"
   ]
  },
  {
   "cell_type": "code",
   "execution_count": 9,
   "id": "d0595e76-83c6-452d-acf4-81ca2f9b7d0c",
   "metadata": {},
   "outputs": [],
   "source": [
    "from langchain.output_parsers import CommaSeparatedListOutputParser\n",
    "from langchain.prompts import PromptTemplate"
   ]
  },
  {
   "cell_type": "code",
   "execution_count": 10,
   "id": "a16c3512-cc03-4c67-a1a3-40fd5add5df1",
   "metadata": {},
   "outputs": [],
   "source": [
    "output_parser = CommaSeparatedListOutputParser()\n",
    "\n",
    "format_instructions = output_parser.get_format_instructions()"
   ]
  },
  {
   "cell_type": "code",
   "execution_count": 11,
   "id": "949ae263-2854-46e3-8cd5-68ebeb538100",
   "metadata": {},
   "outputs": [
    {
     "data": {
      "text/plain": [
       "'Your response should be a list of comma separated values, eg: `foo, bar, baz` or `foo,bar,baz`'"
      ]
     },
     "execution_count": 11,
     "metadata": {},
     "output_type": "execute_result"
    }
   ],
   "source": [
    "format_instructions"
   ]
  },
  {
   "cell_type": "code",
   "execution_count": 12,
   "id": "e611eb5d-7141-4d2a-9931-1e341bb51f4d",
   "metadata": {},
   "outputs": [],
   "source": [
    "prompt = PromptTemplate(\n",
    "    template=\"{subject}에 대한 키워드를 추출해줘.\\n{format_instructions}\",\n",
    "    input_variables=[\"subject\"],\n",
    "    partial_variables={\"format_instructions\": format_instructions},\n",
    ")"
   ]
  },
  {
   "cell_type": "code",
   "execution_count": 13,
   "id": "97d8fad0-2590-4c7f-89c3-ba243bdb201e",
   "metadata": {},
   "outputs": [],
   "source": [
    "p = prompt.invoke({\"subject\": \"LangChain is a framework for developing applications powered by language models.\"})"
   ]
  },
  {
   "cell_type": "code",
   "execution_count": 14,
   "id": "be194a40-1af7-488e-897a-9a2a26ee79e2",
   "metadata": {},
   "outputs": [
    {
     "data": {
      "text/plain": [
       "StringPromptValue(text='LangChain is a framework for developing applications powered by language models.에 대한 키워드를 추출해줘.\\nYour response should be a list of comma separated values, eg: `foo, bar, baz` or `foo,bar,baz`')"
      ]
     },
     "execution_count": 14,
     "metadata": {},
     "output_type": "execute_result"
    }
   ],
   "source": [
    "p"
   ]
  },
  {
   "cell_type": "code",
   "execution_count": 15,
   "id": "64d32c32-33cb-4cb5-9abe-53e0d678dd8e",
   "metadata": {},
   "outputs": [
    {
     "data": {
      "text/plain": [
       "[HumanMessage(content='LangChain is a framework for developing applications powered by language models.에 대한 키워드를 추출해줘.\\nYour response should be a list of comma separated values, eg: `foo, bar, baz` or `foo,bar,baz`', additional_kwargs={}, response_metadata={})]"
      ]
     },
     "execution_count": 15,
     "metadata": {},
     "output_type": "execute_result"
    }
   ],
   "source": [
    "p.to_messages()"
   ]
  },
  {
   "cell_type": "code",
   "execution_count": 16,
   "id": "3d396c41-46d3-4024-b03c-6c46773c089b",
   "metadata": {},
   "outputs": [],
   "source": [
    "chain = prompt | model | output_parser"
   ]
  },
  {
   "cell_type": "code",
   "execution_count": 17,
   "id": "1968136a-7024-41cc-ab01-07ea7548a4b4",
   "metadata": {},
   "outputs": [],
   "source": [
    "out = chain.invoke({\"subject\": \"LangChain is a framework for developing applications powered by language models.\"})"
   ]
  },
  {
   "cell_type": "code",
   "execution_count": 18,
   "id": "df854226-332d-4068-b8b7-7c761553262a",
   "metadata": {},
   "outputs": [
    {
     "data": {
      "text/plain": [
       "['framework', 'developing applications', 'language models']"
      ]
     },
     "execution_count": 18,
     "metadata": {},
     "output_type": "execute_result"
    }
   ],
   "source": [
    "out"
   ]
  },
  {
   "cell_type": "code",
   "execution_count": 19,
   "id": "a24ffa04-1a07-4259-906e-3296a147fbe2",
   "metadata": {},
   "outputs": [
    {
     "data": {
      "text/plain": [
       "list"
      ]
     },
     "execution_count": 19,
     "metadata": {},
     "output_type": "execute_result"
    }
   ],
   "source": [
    "type(out)"
   ]
  },
  {
   "cell_type": "code",
   "execution_count": 20,
   "id": "cec97dac-0914-4b53-addf-f6eff6cd9427",
   "metadata": {},
   "outputs": [
    {
     "data": {
      "text/plain": [
       "'framework'"
      ]
     },
     "execution_count": 20,
     "metadata": {},
     "output_type": "execute_result"
    }
   ],
   "source": [
    "out[0]"
   ]
  },
  {
   "cell_type": "markdown",
   "id": "fa5731c6-6c6d-4998-ba0c-3ea5f6869c95",
   "metadata": {},
   "source": [
    "### 데이터 형식 정의하기"
   ]
  },
  {
   "cell_type": "code",
   "execution_count": 21,
   "id": "01db2e35-6267-4c28-bf5b-b4720c1d44a3",
   "metadata": {},
   "outputs": [
    {
     "name": "stderr",
     "output_type": "stream",
     "text": [
      "/Users/hyeonjinho/.pyenv/versions/3.11.6/lib/python3.11/site-packages/IPython/core/interactiveshell.py:3577: LangChainDeprecationWarning: As of langchain-core 0.3.0, LangChain uses pydantic v2 internally. The langchain_core.pydantic_v1 module was a compatibility shim for pydantic v1, and should no longer be used. Please update the code to import from Pydantic directly.\n",
      "\n",
      "For example, replace imports like: `from langchain_core.pydantic_v1 import BaseModel`\n",
      "with: `from pydantic import BaseModel`\n",
      "or the v1 compatibility namespace if you are working in a code base that has not been fully upgraded to pydantic 2 yet. \tfrom pydantic.v1 import BaseModel\n",
      "\n",
      "  exec(code_obj, self.user_global_ns, self.user_ns)\n"
     ]
    }
   ],
   "source": [
    "from langchain.prompts import PromptTemplate\n",
    "from langchain_core.output_parsers import JsonOutputParser\n",
    "from langchain_core.pydantic_v1 import BaseModel, Field"
   ]
  },
  {
   "cell_type": "code",
   "execution_count": 22,
   "id": "6091935f-35fe-4b61-9217-a2e405a4b829",
   "metadata": {},
   "outputs": [],
   "source": [
    "model = ChatOpenAI(temperature=0)"
   ]
  },
  {
   "cell_type": "code",
   "execution_count": 23,
   "id": "09ade594-4903-4a29-b4a7-344c09edf52c",
   "metadata": {},
   "outputs": [],
   "source": [
    "# Define your desired data structure.\n",
    "\n",
    "class Translation(BaseModel):\n",
    "    translated_text: str = Field(description=\"번역된 텍스트\")"
   ]
  },
  {
   "cell_type": "code",
   "execution_count": 24,
   "id": "874a516f-b578-44d5-b5b5-eaa28b15eeed",
   "metadata": {},
   "outputs": [
    {
     "data": {
      "text/plain": [
       "'The output should be formatted as a JSON instance that conforms to the JSON schema below.\\n\\nAs an example, for the schema {\"properties\": {\"foo\": {\"title\": \"Foo\", \"description\": \"a list of strings\", \"type\": \"array\", \"items\": {\"type\": \"string\"}}}, \"required\": [\"foo\"]}\\nthe object {\"foo\": [\"bar\", \"baz\"]} is a well-formatted instance of the schema. The object {\"properties\": {\"foo\": [\"bar\", \"baz\"]}} is not well-formatted.\\n\\nHere is the output schema:\\n```\\n{\"properties\": {\"translated_text\": {\"title\": \"Translated Text\", \"description\": \"번역된 텍스트\", \"type\": \"string\"}}, \"required\": [\"translated_text\"]}\\n```'"
      ]
     },
     "execution_count": 24,
     "metadata": {},
     "output_type": "execute_result"
    }
   ],
   "source": [
    "# And a query intented to prompt a language model to populate the data structure.\n",
    "query = \"안녕 세상\"\n",
    "\n",
    "# Set up a parser + inject instructions into the prompt template.\n",
    "parser = JsonOutputParser(pydantic_object=Translation)\n",
    "from_instruction = parser.get_format_instructions()\n",
    "from_instruction"
   ]
  },
  {
   "cell_type": "code",
   "execution_count": 25,
   "id": "af68715f-c6d3-4224-b68b-3d72aed89fb9",
   "metadata": {},
   "outputs": [],
   "source": [
    "prompt = PromptTemplate(\n",
    "    template=\"{format_instructions}\\n아래 내용을 번역해라\\n{query}\",\n",
    "    input_variables=[\"query\"],\n",
    "    partial_variables={\"format_instructions\": from_instruction},\n",
    ")"
   ]
  },
  {
   "cell_type": "code",
   "execution_count": 26,
   "id": "95155512-88b2-48df-ba57-44668fcd2237",
   "metadata": {},
   "outputs": [
    {
     "data": {
      "text/plain": [
       "[HumanMessage(content='The output should be formatted as a JSON instance that conforms to the JSON schema below.\\n\\nAs an example, for the schema {\"properties\": {\"foo\": {\"title\": \"Foo\", \"description\": \"a list of strings\", \"type\": \"array\", \"items\": {\"type\": \"string\"}}}, \"required\": [\"foo\"]}\\nthe object {\"foo\": [\"bar\", \"baz\"]} is a well-formatted instance of the schema. The object {\"properties\": {\"foo\": [\"bar\", \"baz\"]}} is not well-formatted.\\n\\nHere is the output schema:\\n```\\n{\"properties\": {\"translated_text\": {\"title\": \"Translated Text\", \"description\": \"번역된 텍스트\", \"type\": \"string\"}}, \"required\": [\"translated_text\"]}\\n```\\n아래 내용을 번역해라\\n안녕 세상', additional_kwargs={}, response_metadata={})]"
      ]
     },
     "execution_count": 26,
     "metadata": {},
     "output_type": "execute_result"
    }
   ],
   "source": [
    "prompt.invoke({\"query\": query}).to_messages()"
   ]
  },
  {
   "cell_type": "code",
   "execution_count": 27,
   "id": "b92b7534-d8e9-40b7-984f-1a3d0308cabf",
   "metadata": {},
   "outputs": [],
   "source": [
    "chain = prompt | model | parser\n",
    "\n",
    "out = chain.invoke({\"query\": query})"
   ]
  },
  {
   "cell_type": "code",
   "execution_count": 28,
   "id": "ecdb8a67-495a-4448-8cc1-d9755293abbe",
   "metadata": {},
   "outputs": [
    {
     "data": {
      "text/plain": [
       "dict"
      ]
     },
     "execution_count": 28,
     "metadata": {},
     "output_type": "execute_result"
    }
   ],
   "source": [
    "type(out)"
   ]
  },
  {
   "cell_type": "code",
   "execution_count": 29,
   "id": "4c7c5710-1d42-4f24-9cee-c22818b623f7",
   "metadata": {},
   "outputs": [
    {
     "data": {
      "text/plain": [
       "'Hello World'"
      ]
     },
     "execution_count": 29,
     "metadata": {},
     "output_type": "execute_result"
    }
   ],
   "source": [
    "out['translated_text']"
   ]
  },
  {
   "cell_type": "markdown",
   "id": "3a6a4dc0-bf84-47bc-84b5-70b03ad9518d",
   "metadata": {},
   "source": [
    "### Custom output Parser"
   ]
  },
  {
   "cell_type": "code",
   "execution_count": 30,
   "id": "47fe0538-4bab-4bff-aeed-f124a304c991",
   "metadata": {},
   "outputs": [],
   "source": [
    "from langchain.schema import BaseOutputParser\n",
    "\n",
    "class CommaSeparatedListOutputParser(BaseOutputParser):\n",
    "    \"\"\"Parse the output of an LLM call to a comma-separated list.\"\"\"\n",
    "\n",
    "    def parse(self, text):\n",
    "        \"\"\"Parse the output of an LLM call.\"\"\"\n",
    "        return text.strip().split(\", \")"
   ]
  },
  {
   "cell_type": "code",
   "execution_count": 31,
   "id": "1a46f9c5-1516-4894-b4bd-2fb4531d9647",
   "metadata": {},
   "outputs": [],
   "source": [
    "chain_with_comma_parser = chat_prompt_template | model | CommaSeparatedListOutputParser()"
   ]
  },
  {
   "cell_type": "code",
   "execution_count": 32,
   "id": "2acd2dd4-b3a4-44f7-945f-6246498ac43e",
   "metadata": {},
   "outputs": [],
   "source": [
    "out = chain_with_comma_parser.invoke({\"text\": \"LangChain is a framework for developing applications powered by language models.\"})"
   ]
  },
  {
   "cell_type": "code",
   "execution_count": 33,
   "id": "38147433-4d9f-40f1-9a3c-e77dc6b51e91",
   "metadata": {},
   "outputs": [
    {
     "data": {
      "text/plain": [
       "['LangChain', 'framework', 'developing applications', 'language models']"
      ]
     },
     "execution_count": 33,
     "metadata": {},
     "output_type": "execute_result"
    }
   ],
   "source": [
    "out"
   ]
  },
  {
   "cell_type": "code",
   "execution_count": 34,
   "id": "c4116ad7-6aae-450e-8fad-8308f4c13ac1",
   "metadata": {},
   "outputs": [
    {
     "name": "stdout",
     "output_type": "stream",
     "text": [
      "LangChain\n",
      "framework\n",
      "developing applications\n",
      "language models\n"
     ]
    }
   ],
   "source": [
    "for keyword in out:\n",
    "    print(keyword)"
   ]
  },
  {
   "cell_type": "code",
   "execution_count": null,
   "id": "d53a74ca-2447-4a3b-831e-09c6228ea2e6",
   "metadata": {},
   "outputs": [],
   "source": []
  }
 ],
 "metadata": {
  "kernelspec": {
   "display_name": "Python 3 (ipykernel)",
   "language": "python",
   "name": "python3"
  },
  "language_info": {
   "codemirror_mode": {
    "name": "ipython",
    "version": 3
   },
   "file_extension": ".py",
   "mimetype": "text/x-python",
   "name": "python",
   "nbconvert_exporter": "python",
   "pygments_lexer": "ipython3",
   "version": "3.11.6"
  }
 },
 "nbformat": 4,
 "nbformat_minor": 5
}
