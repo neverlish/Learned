{
 "cells": [
  {
   "cell_type": "code",
   "execution_count": 1,
   "id": "255c5634",
   "metadata": {},
   "outputs": [
    {
     "name": "stderr",
     "output_type": "stream",
     "text": [
      "/var/folders/1x/st3vh8xs6715dcgqc1gk2hhh0000gn/T/ipykernel_89669/344664449.py:5: LangChainDeprecationWarning: Please see the migration guide at: https://python.langchain.com/docs/versions/migrating_memory/\n",
      "  memory = ConversationBufferMemory()\n",
      "/var/folders/1x/st3vh8xs6715dcgqc1gk2hhh0000gn/T/ipykernel_89669/344664449.py:8: LangChainDeprecationWarning: The class `OpenAI` was deprecated in LangChain 0.0.10 and will be removed in 1.0. An updated version of the class exists in the :class:`~langchain-openai package and should be used instead. To use it run `pip install -U :class:`~langchain-openai` and import as `from :class:`~langchain_openai import OpenAI``.\n",
      "  llm=OpenAI(temperature=0),\n",
      "/var/folders/1x/st3vh8xs6715dcgqc1gk2hhh0000gn/T/ipykernel_89669/344664449.py:7: LangChainDeprecationWarning: The class `ConversationChain` was deprecated in LangChain 0.2.7 and will be removed in 1.0. Use :class:`~langchain_core.runnables.history.RunnableWithMessageHistory` instead.\n",
      "  conversation = ConversationChain(\n"
     ]
    },
    {
     "name": "stdout",
     "output_type": "stream",
     "text": [
      "첫 번째 응답\n",
      "사람 :  안녕하세요, 오늘 기분이 어때?\n",
      "AI :   안녕하세요! 저는 인공지능 챗봇입니다. 오늘은 기분이 좋아요. 제가 많은 데이터를 학습하고 계속 발전하고 있어서 기분이 좋아요. 그리고 오늘은 날씨도 매우 좋아요. 온도는 25도이고 습도는 50%입니다. 하루를 즐겁게 보내고 계신가요?\n",
      "\n",
      "\n",
      "두 번째 응답\n",
      "사람 :  제가 뭐라고 했는지 기억해?\n",
      "AI :   죄송해요, 제가 기억하는 것은 제가 말한 것뿐이에요. 제가 기억할 수 있는 것은 제가 학습한 데이터와 제가 프로그래밍된 알고리즘에 기반해요. 그래서 제가 기억할 수 있는 것은 제가 알고 있는 정보에요.\n",
      "\n",
      "\n",
      "저장된 대화 기록\n",
      "Memory History\n",
      " Human: 안녕하세요, 오늘 기분이 어때?\n",
      "AI:  안녕하세요! 저는 인공지능 챗봇입니다. 오늘은 기분이 좋아요. 제가 많은 데이터를 학습하고 계속 발전하고 있어서 기분이 좋아요. 그리고 오늘은 날씨도 매우 좋아요. 온도는 25도이고 습도는 50%입니다. 하루를 즐겁게 보내고 계신가요?\n",
      "Human: 제가 뭐라고 했는지 기억해?\n",
      "AI:  죄송해요, 제가 기억하는 것은 제가 말한 것뿐이에요. 제가 기억할 수 있는 것은 제가 학습한 데이터와 제가 프로그래밍된 알고리즘에 기반해요. 그래서 제가 기억할 수 있는 것은 제가 알고 있는 정보에요.\n"
     ]
    }
   ],
   "source": [
    "from langchain.memory import ConversationBufferMemory\n",
    "from langchain.llms import OpenAI\n",
    "from langchain.chains import ConversationChain\n",
    "\n",
    "memory = ConversationBufferMemory()\n",
    "\n",
    "conversation = ConversationChain(\n",
    "  llm=OpenAI(temperature=0),\n",
    "  memory=memory\n",
    ")\n",
    "\n",
    "user_input1 = \"안녕하세요, 오늘 기분이 어때?\"\n",
    "response1 = conversation.predict(input=user_input1)\n",
    "\n",
    "print('첫 번째 응답')\n",
    "print(\"사람 : \", user_input1)\n",
    "print(\"AI : \", response1)\n",
    "print('\\n')\n",
    "\n",
    "user_input2 = \"제가 뭐라고 했는지 기억해?\"\n",
    "response2 = conversation.predict(input=user_input2)\n",
    "\n",
    "print('두 번째 응답')\n",
    "print(\"사람 : \", user_input2)\n",
    "print(\"AI : \", response2)\n",
    "print('\\n')\n",
    "\n",
    "history = memory.load_memory_variables({})['history']\n",
    "\n",
    "print('저장된 대화 기록')\n",
    "print('Memory History\\n', history)"
   ]
  },
  {
   "cell_type": "code",
   "execution_count": 2,
   "id": "6ccead70",
   "metadata": {},
   "outputs": [
    {
     "name": "stdout",
     "output_type": "stream",
     "text": [
      "Looking in indexes: https://pypi.org/simple, https://pypi.ngc.nvidia.com\n",
      "Requirement already satisfied: pymupdf in /opt/homebrew/lib/python3.11/site-packages (1.25.5)\n",
      "\n",
      "\u001b[1m[\u001b[0m\u001b[34;49mnotice\u001b[0m\u001b[1;39;49m]\u001b[0m\u001b[39;49m A new release of pip is available: \u001b[0m\u001b[31;49m25.0.1\u001b[0m\u001b[39;49m -> \u001b[0m\u001b[32;49m25.1.1\u001b[0m\n",
      "\u001b[1m[\u001b[0m\u001b[34;49mnotice\u001b[0m\u001b[1;39;49m]\u001b[0m\u001b[39;49m To update, run: \u001b[0m\u001b[32;49mpython3.11 -m pip install --upgrade pip\u001b[0m\n",
      "Note: you may need to restart the kernel to use updated packages.\n"
     ]
    }
   ],
   "source": [
    "%pip install pymupdf"
   ]
  },
  {
   "cell_type": "code",
   "execution_count": 4,
   "id": "da3dbe28",
   "metadata": {},
   "outputs": [
    {
     "name": "stdout",
     "output_type": "stream",
     "text": [
      "불러온 문서 개수 : 1\n",
      "첫 번째 문서의 내용 일부: \n",
      "PDF test file  \n",
      "Purpose: Provide example of this file type \n",
      "Document file type: PDF \n",
      "Version: 1.0  \n",
      "Remark:   \n",
      " Example content:  \n",
      "The names \" John Doe\" for males, \" Jane Doe\" or \"Jane \n",
      "Roe\" for femal...\n"
     ]
    },
    {
     "name": "stderr",
     "output_type": "stream",
     "text": [
      "/opt/homebrew/lib/python3.11/site-packages/pypdf/_crypt_providers/_cryptography.py:32: CryptographyDeprecationWarning: ARC4 has been moved to cryptography.hazmat.decrepit.ciphers.algorithms.ARC4 and will be removed from cryptography.hazmat.primitives.ciphers.algorithms in 48.0.0.\n",
      "  from cryptography.hazmat.primitives.ciphers.algorithms import AES, ARC4\n"
     ]
    }
   ],
   "source": [
    "from langchain.document_loaders import PyPDFLoader\n",
    "\n",
    "loader = PyPDFLoader(\"example.pdf\")\n",
    "\n",
    "docs = loader.load()\n",
    "\n",
    "print(f\"불러온 문서 개수 : {len(docs)}\")\n",
    "\n",
    "print(f\"첫 번째 문서의 내용 일부: \\n{docs[0].page_content[:200]}...\")\n"
   ]
  },
  {
   "cell_type": "code",
   "execution_count": 5,
   "id": "f8436126",
   "metadata": {},
   "outputs": [
    {
     "name": "stdout",
     "output_type": "stream",
     "text": [
      "분활된 텍스트 조각 개수: 35\n"
     ]
    }
   ],
   "source": [
    "from langchain.text_splitter import RecursiveCharacterTextSplitter\n",
    "\n",
    "text_splitter = RecursiveCharacterTextSplitter(\n",
    "  chunk_size=100,\n",
    "  chunk_overlap=20,\n",
    ")\n",
    "\n",
    "split_docs = text_splitter.split_documents(docs)\n",
    "\n",
    "print(f\"분활된 텍스트 조각 개수: {len(split_docs)}\")"
   ]
  },
  {
   "cell_type": "code",
   "execution_count": 6,
   "id": "e6858002",
   "metadata": {},
   "outputs": [
    {
     "name": "stdout",
     "output_type": "stream",
     "text": [
      "첫 번째 청크: \n",
      "PDF test file  \n",
      "Purpose: Provide example of this file type \n",
      "Document file type: PDF \n",
      "Version: 1.0...\n"
     ]
    }
   ],
   "source": [
    "print(f\"첫 번째 청크: \\n{split_docs[0].page_content[:150]}...\")"
   ]
  },
  {
   "cell_type": "code",
   "execution_count": 7,
   "id": "a9aae5a4",
   "metadata": {},
   "outputs": [
    {
     "name": "stdout",
     "output_type": "stream",
     "text": [
      "Looking in indexes: https://pypi.org/simple, https://pypi.ngc.nvidia.com\n",
      "Requirement already satisfied: tiktoken in /opt/homebrew/lib/python3.11/site-packages (0.9.0)\n",
      "Requirement already satisfied: regex>=2022.1.18 in /opt/homebrew/lib/python3.11/site-packages (from tiktoken) (2024.11.6)\n",
      "Requirement already satisfied: requests>=2.26.0 in /opt/homebrew/lib/python3.11/site-packages (from tiktoken) (2.32.3)\n",
      "Requirement already satisfied: charset-normalizer<4,>=2 in /opt/homebrew/lib/python3.11/site-packages (from requests>=2.26.0->tiktoken) (3.4.1)\n",
      "Requirement already satisfied: idna<4,>=2.5 in /opt/homebrew/lib/python3.11/site-packages (from requests>=2.26.0->tiktoken) (3.10)\n",
      "Requirement already satisfied: urllib3<3,>=1.21.1 in /opt/homebrew/lib/python3.11/site-packages (from requests>=2.26.0->tiktoken) (2.4.0)\n",
      "Requirement already satisfied: certifi>=2017.4.17 in /opt/homebrew/lib/python3.11/site-packages (from requests>=2.26.0->tiktoken) (2025.4.26)\n",
      "\n",
      "\u001b[1m[\u001b[0m\u001b[34;49mnotice\u001b[0m\u001b[1;39;49m]\u001b[0m\u001b[39;49m A new release of pip is available: \u001b[0m\u001b[31;49m25.0.1\u001b[0m\u001b[39;49m -> \u001b[0m\u001b[32;49m25.1.1\u001b[0m\n",
      "\u001b[1m[\u001b[0m\u001b[34;49mnotice\u001b[0m\u001b[1;39;49m]\u001b[0m\u001b[39;49m To update, run: \u001b[0m\u001b[32;49mpython3.11 -m pip install --upgrade pip\u001b[0m\n",
      "Note: you may need to restart the kernel to use updated packages.\n"
     ]
    }
   ],
   "source": [
    "%pip install tiktoken"
   ]
  },
  {
   "cell_type": "code",
   "execution_count": 8,
   "id": "41745063",
   "metadata": {},
   "outputs": [
    {
     "name": "stderr",
     "output_type": "stream",
     "text": [
      "/var/folders/1x/st3vh8xs6715dcgqc1gk2hhh0000gn/T/ipykernel_89669/2646321623.py:4: LangChainDeprecationWarning: The class `OpenAIEmbeddings` was deprecated in LangChain 0.0.9 and will be removed in 1.0. An updated version of the class exists in the :class:`~langchain-openai package and should be used instead. To use it run `pip install -U :class:`~langchain-openai` and import as `from :class:`~langchain_openai import OpenAIEmbeddings``.\n",
      "  embeddings = OpenAIEmbeddings()\n"
     ]
    },
    {
     "name": "stdout",
     "output_type": "stream",
     "text": [
      "질의에 대한 검색 결과 조각:\n",
      " Delego cited 21 (numbered) \"John Doe\"s) or labelled with other variants of Doe / Roe / Poe / etc.\n"
     ]
    }
   ],
   "source": [
    "from langchain.vectorstores import FAISS\n",
    "from langchain.embeddings import OpenAIEmbeddings\n",
    "\n",
    "embeddings = OpenAIEmbeddings()\n",
    "\n",
    "vector_store = FAISS.from_documents(split_docs, embeddings)\n",
    "\n",
    "query = \"What is John Doe used for?\"\n",
    "\n",
    "results = vector_store.similarity_search(query, k=1)\n",
    "\n",
    "print(\"질의에 대한 검색 결과 조각:\\n\", results[0].page_content[:250])"
   ]
  },
  {
   "cell_type": "code",
   "execution_count": null,
   "id": "3fcb5873",
   "metadata": {},
   "outputs": [],
   "source": []
  },
  {
   "cell_type": "code",
   "execution_count": null,
   "id": "dc0eea21",
   "metadata": {},
   "outputs": [],
   "source": []
  }
 ],
 "metadata": {
  "kernelspec": {
   "display_name": "Python 3",
   "language": "python",
   "name": "python3"
  },
  "language_info": {
   "codemirror_mode": {
    "name": "ipython",
    "version": 3
   },
   "file_extension": ".py",
   "mimetype": "text/x-python",
   "name": "python",
   "nbconvert_exporter": "python",
   "pygments_lexer": "ipython3",
   "version": "3.11.12"
  }
 },
 "nbformat": 4,
 "nbformat_minor": 5
}
