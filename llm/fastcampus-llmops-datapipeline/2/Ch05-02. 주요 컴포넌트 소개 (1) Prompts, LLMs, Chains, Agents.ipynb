{
 "cells": [
  {
   "cell_type": "code",
   "execution_count": 1,
   "id": "38879757",
   "metadata": {},
   "outputs": [
    {
     "name": "stdout",
     "output_type": "stream",
     "text": [
      "LangChain에 대해 설명해줘\n"
     ]
    }
   ],
   "source": [
    "from langchain.prompts import PromptTemplate\n",
    "\n",
    "prompt = PromptTemplate(\n",
    "  input_variables=[\"topic\"],\n",
    "  template=\"{topic}에 대해 설명해줘\"\n",
    ")\n",
    "\n",
    "print(prompt.format(topic=\"LangChain\"))"
   ]
  },
  {
   "cell_type": "code",
   "execution_count": 2,
   "id": "3ab0cc3d",
   "metadata": {},
   "outputs": [
    {
     "name": "stderr",
     "output_type": "stream",
     "text": [
      "/var/folders/1x/st3vh8xs6715dcgqc1gk2hhh0000gn/T/ipykernel_85912/2240103738.py:3: LangChainDeprecationWarning: The class `ChatOpenAI` was deprecated in LangChain 0.0.10 and will be removed in 1.0. An updated version of the class exists in the :class:`~langchain-openai package and should be used instead. To use it run `pip install -U :class:`~langchain-openai` and import as `from :class:`~langchain_openai import ChatOpenAI``.\n",
      "  llm = ChatOpenAI(\n",
      "/var/folders/1x/st3vh8xs6715dcgqc1gk2hhh0000gn/T/ipykernel_85912/2240103738.py:9: LangChainDeprecationWarning: The method `BaseChatModel.predict` was deprecated in langchain-core 0.1.7 and will be removed in 1.0. Use :meth:`~invoke` instead.\n",
      "  response = llm.predict(\"LangChain이 무엇인가요?\")\n"
     ]
    },
    {
     "name": "stdout",
     "output_type": "stream",
     "text": [
      "LangChain은 언어 및 커뮤니케이션 기술을 개발하고 연구하는 기업이며, 다양한 언어 및 문화 간의 소통을 원활하게 하기 위한 기술을 개발하고 있습니다. LangChain은 인공지능과 자연어 처리 기술을 활용하여 다국어 번역, 음성인식, 자동번역, 감정분석 등의 기술을 개발하고 있습니다. 해당 기술은 다국어로의 번역, 음성인식, 감정분석 등을 통해 인간의 언어 및 커뮤니케이션 능력을 향상시키는 데 사용될 수 있습니다.\n"
     ]
    }
   ],
   "source": [
    "from langchain.chat_models import ChatOpenAI\n",
    "\n",
    "llm = ChatOpenAI(\n",
    "  model_name=\"gpt-3.5-turbo\",\n",
    "  temperature=0.7,\n",
    "  max_tokens=512,\n",
    ")\n",
    "\n",
    "response = llm.predict(\"LangChain이 무엇인가요?\")\n",
    "\n",
    "print(response)"
   ]
  },
  {
   "cell_type": "code",
   "execution_count": null,
   "id": "c7ac97a4",
   "metadata": {},
   "outputs": [
    {
     "name": "stderr",
     "output_type": "stream",
     "text": [
      "/var/folders/1x/st3vh8xs6715dcgqc1gk2hhh0000gn/T/ipykernel_85912/3449046822.py:9: LangChainDeprecationWarning: The class `LLMChain` was deprecated in LangChain 0.1.17 and will be removed in 1.0. Use :meth:`~RunnableSequence, e.g., `prompt | llm`` instead.\n",
      "  chain = LLMChain(\n",
      "/var/folders/1x/st3vh8xs6715dcgqc1gk2hhh0000gn/T/ipykernel_85912/3449046822.py:14: LangChainDeprecationWarning: The method `Chain.run` was deprecated in langchain 0.1.0 and will be removed in 1.0. Use :meth:`~invoke` instead.\n",
      "  response = chain.run(\"LangChain이 무엇인가요?\")\n"
     ]
    },
    {
     "name": "stdout",
     "output_type": "stream",
     "text": [
      "LangChain은 언어 간 상호 운용성을 제공하기 위해 설계된 블록체인 기술입니다. 이 기술은 다양한 언어 간 커뮤니케이션을 원활하게 하고, 언어 장벽을 극복하여 글로벌 비즈니스 및 커뮤니케이션을 쉽게 할 수 있도록 도와줍니다. 또한 LangChain은 스마트 계약의 실행 및 데이터 교환을 보다 효율적으로 처리할 수 있도록 지원합니다. 이를 통해 언어에 관한 제약을 극복하고 다양한 언어와 문화 간 소통을 원할하게 할 수 있습니다.\n"
     ]
    }
   ],
   "source": [
    "from langchain.chains import LLMChain\n",
    "from langchain.prompts import PromptTemplate\n",
    "\n",
    "prompt = PromptTemplate(\n",
    "  input_variables=[\"question\"],\n",
    "  template=\"{question}에 대해 설명해줘\"\n",
    ")\n",
    "\n",
    "chain = LLMChain(\n",
    "  llm=llm,\n",
    "  prompt=prompt,\n",
    ")\n",
    "\n",
    "response = chain.run(\"LangChain이 무엇인가요?\")\n",
    "\n",
    "print(response)\n"
   ]
  },
  {
   "cell_type": "code",
   "execution_count": 4,
   "id": "90322a7b",
   "metadata": {},
   "outputs": [
    {
     "name": "stderr",
     "output_type": "stream",
     "text": [
      "/var/folders/1x/st3vh8xs6715dcgqc1gk2hhh0000gn/T/ipykernel_85912/2078269372.py:15: LangChainDeprecationWarning: LangChain agents will continue to be supported, but it is recommended for new use cases to be built with LangGraph. LangGraph offers a more flexible and full-featured framework for building agents, including support for tool-calling, persistence of state, and human-in-the-loop workflows. For details, refer to the `LangGraph documentation <https://langchain-ai.github.io/langgraph/>`_ as well as guides for `Migrating from AgentExecutor <https://python.langchain.com/docs/how_to/migrate_agent/>`_ and LangGraph's `Pre-built ReAct agent <https://langchain-ai.github.io/langgraph/how-tos/create-react-agent/>`_.\n",
      "  agent = initialize_agent(\n"
     ]
    },
    {
     "name": "stdout",
     "output_type": "stream",
     "text": [
      "\n",
      "\n",
      "\u001b[1m> Entering new AgentExecutor chain...\u001b[0m\n",
      "\u001b[32;1m\u001b[1;3mLangChain에 대한 정보를 얻을 수 있는 Fake API를 사용해야 합니다.\n",
      "Action: Fake API\n",
      "Action Input: LangChain\u001b[0m\n",
      "Observation: \u001b[36;1m\u001b[1;3mAPI에서 가져온 정보: LangChain 관련 데이터\u001b[0m\n",
      "Thought:\u001b[32;1m\u001b[1;3m이 정보를 기반으로 LangChain이 무엇인지 파악할 수 있을 것입니다.\n",
      "Final Answer: LangChain은 언어 간 상호 운용성을 제공하는 블록체인 플랫폼입니다.\u001b[0m\n",
      "\n",
      "\u001b[1m> Finished chain.\u001b[0m\n",
      "LangChain은 언어 간 상호 운용성을 제공하는 블록체인 플랫폼입니다.\n"
     ]
    }
   ],
   "source": [
    "from langchain.agents import initialize_agent, AgentType\n",
    "from langchain.tools import Tool\n",
    "\n",
    "def fake_api(query):\n",
    "  return f\"API에서 가져온 정보: {query} 관련 데이터\"\n",
    "\n",
    "tools = [\n",
    "  Tool(\n",
    "    name=\"Fake API\",\n",
    "    func=fake_api,\n",
    "    description=\"사용자의 질문과 관련된 데이터를 API에서 가져옵니다.\"\n",
    "  )\n",
    "]\n",
    "\n",
    "agent = initialize_agent(\n",
    "  tools,\n",
    "  llm,\n",
    "  agent=AgentType.ZERO_SHOT_REACT_DESCRIPTION,\n",
    "  verbose=True,\n",
    ")\n",
    "\n",
    "response = agent.run(\"LangChain이 무엇인가요?\")\n",
    "\n",
    "print(response)"
   ]
  },
  {
   "cell_type": "code",
   "execution_count": null,
   "id": "a8ac0d8c",
   "metadata": {},
   "outputs": [],
   "source": []
  }
 ],
 "metadata": {
  "kernelspec": {
   "display_name": "Python 3",
   "language": "python",
   "name": "python3"
  },
  "language_info": {
   "codemirror_mode": {
    "name": "ipython",
    "version": 3
   },
   "file_extension": ".py",
   "mimetype": "text/x-python",
   "name": "python",
   "nbconvert_exporter": "python",
   "pygments_lexer": "ipython3",
   "version": "3.11.12"
  }
 },
 "nbformat": 4,
 "nbformat_minor": 5
}
