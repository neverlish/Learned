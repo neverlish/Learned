{
 "cells": [
  {
   "cell_type": "code",
   "execution_count": 1,
   "id": "a361957a",
   "metadata": {},
   "outputs": [],
   "source": [
    "from langchain.document_loaders import CSVLoader\n",
    "from langchain.text_splitter import CharacterTextSplitter\n",
    "from langchain.embeddings.openai import OpenAIEmbeddings\n",
    "from langchain.vectorstores import FAISS\n",
    "from langchain.llms import OpenAI\n",
    "from langchain.chains import RetrievalQA, ConversationalRetrievalChain\n",
    "from langchain.memory import ConversationBufferMemory"
   ]
  },
  {
   "cell_type": "code",
   "execution_count": 3,
   "id": "808604a5",
   "metadata": {},
   "outputs": [],
   "source": [
    "loader = CSVLoader(\n",
    "  file_path = \"sample_data/울산광역시_동구_작은도서관_대출현황관리_20250306.csv\",\n",
    "  encoding = \"cp949\"\n",
    ")"
   ]
  },
  {
   "cell_type": "code",
   "execution_count": 4,
   "id": "565237f0",
   "metadata": {},
   "outputs": [
    {
     "name": "stdout",
     "output_type": "stream",
     "text": [
      "Loaded 17983 documents from CSV.\n"
     ]
    }
   ],
   "source": [
    "documents = loader.load()\n",
    "print(f\"Loaded {len(documents)} documents from CSV.\")"
   ]
  },
  {
   "cell_type": "code",
   "execution_count": 5,
   "id": "ceeb6670",
   "metadata": {},
   "outputs": [
    {
     "name": "stdout",
     "output_type": "stream",
     "text": [
      "첫 번째 문서 내용 일부:\n",
      "대출일: 2025-02-08 15:38:00\n",
      "반납일: 2025-02-20 09:35:00\n",
      "분류기호: 813.7\n",
      "등록번호: HA0000028556\n",
      "서명: 소년이 온다 : 한강 장편소설\n",
      "작가: 한강 지음\n",
      "출판사: 창비\n",
      "연체일수: 0\n",
      "작업장: KLAS\n",
      "작성일자: 2025-02-08\n",
      "기준일자: 2025-03-06...\n"
     ]
    }
   ],
   "source": [
    "print(\"첫 번째 문서 내용 일부:\")\n",
    "print(documents[0].page_content[:200] + \"...\")"
   ]
  },
  {
   "cell_type": "code",
   "execution_count": 6,
   "id": "89787b94",
   "metadata": {},
   "outputs": [
    {
     "name": "stdout",
     "output_type": "stream",
     "text": [
      "Split into 17983 text chunks\n"
     ]
    }
   ],
   "source": [
    "text_splitter = CharacterTextSplitter(\n",
    "  chunk_size=1000,\n",
    "  chunk_overlap=100\n",
    ")\n",
    "\n",
    "docs = text_splitter.split_documents(documents)\n",
    "\n",
    "print(f\"Split into {len(docs)} text chunks\")"
   ]
  },
  {
   "cell_type": "code",
   "execution_count": 7,
   "id": "ea0a3044",
   "metadata": {},
   "outputs": [
    {
     "name": "stdout",
     "output_type": "stream",
     "text": [
      "대출일: 2025-02-08 15:38:00\n",
      "반납일: 2025-02-20 09:35:00\n",
      "분류기호: 813.7\n",
      "등록번호: HA0000028556\n",
      "서명: 소년이 온다 : 한강 장편소설\n",
      "작가: 한강 지음\n",
      "출판사: 창비\n",
      "연체일수: 0\n",
      "작업장: KLAS\n",
      "작성일자: 2025-02-08\n",
      "기준일자: 2025-03-06...\n"
     ]
    }
   ],
   "source": [
    "print(docs[0].page_content[:200] + \"...\")"
   ]
  },
  {
   "cell_type": "code",
   "execution_count": null,
   "id": "5bcbb6eb",
   "metadata": {},
   "outputs": [
    {
     "name": "stderr",
     "output_type": "stream",
     "text": [
      "/var/folders/1x/st3vh8xs6715dcgqc1gk2hhh0000gn/T/ipykernel_90083/2497576997.py:1: LangChainDeprecationWarning: The class `OpenAIEmbeddings` was deprecated in LangChain 0.0.9 and will be removed in 1.0. An updated version of the class exists in the :class:`~langchain-openai package and should be used instead. To use it run `pip install -U :class:`~langchain-openai` and import as `from :class:`~langchain_openai import OpenAIEmbeddings``.\n",
      "  embeddings = OpenAIEmbeddings()\n"
     ]
    }
   ],
   "source": [
    "embeddings = OpenAIEmbeddings()"
   ]
  },
  {
   "cell_type": "code",
   "execution_count": 9,
   "id": "0eda5938",
   "metadata": {},
   "outputs": [],
   "source": [
    "vector_store = FAISS.from_documents(docs, embeddings)"
   ]
  },
  {
   "cell_type": "code",
   "execution_count": 10,
   "id": "e482dd2e",
   "metadata": {},
   "outputs": [
    {
     "name": "stdout",
     "output_type": "stream",
     "text": [
      "Total vectors: 17983\n"
     ]
    }
   ],
   "source": [
    "print(f\"Total vectors: {vector_store.index.ntotal}\")"
   ]
  },
  {
   "cell_type": "code",
   "execution_count": 11,
   "id": "e411f69e",
   "metadata": {},
   "outputs": [],
   "source": [
    "query = \"(흔한남매) 수수께끼 어드벤처. 5 도서의 작가는 누구야?\""
   ]
  },
  {
   "cell_type": "code",
   "execution_count": 12,
   "id": "04bf4df6",
   "metadata": {},
   "outputs": [],
   "source": [
    "results = vector_store.similarity_search(query, k=3)"
   ]
  },
  {
   "cell_type": "code",
   "execution_count": 13,
   "id": "e424332c",
   "metadata": {},
   "outputs": [
    {
     "name": "stdout",
     "output_type": "stream",
     "text": [
      "Found 3 relevant pieces of data.\n",
      "1. 대출일: 2025-02-28 11:22:00 반납일:  분류기호: 31 등록번호: DN0000029651 서명: (흔한남매) 수수께끼 어드벤처. 5 작가: 흔한남매 원작 ; 노지영...\n",
      "2. 대출일: 2025-02-26 17:23:00 반납일:  분류기호: 388.6 등록번호: AM0000023448 서명: (흔한남매) 수수께끼 어드벤처. 5 작가: 흔한남매 원작 ; ...\n",
      "3. 대출일: 2025-02-18 15:24:00 반납일:  분류기호: 31 등록번호: DN0000026908 서명: (흔한남매) 수수께끼 어드벤처. 4 작가: 흔한남매 원작 ; 노지영...\n"
     ]
    }
   ],
   "source": [
    "if len(results) == 0:\n",
    "  print(\"관련 데이터를 찾지 못했습니다.\")\n",
    "else:\n",
    "  print(f\"Found {len(results)} relevant pieces of data.\")\n",
    "\n",
    "  for i, res in enumerate(results, start=1):\n",
    "    snippet = res.page_content[:100].replace(\"\\n\", \" \")\n",
    "    print(f\"{i}. {snippet}...\")"
   ]
  },
  {
   "cell_type": "code",
   "execution_count": 14,
   "id": "2f8c9e42",
   "metadata": {},
   "outputs": [
    {
     "name": "stderr",
     "output_type": "stream",
     "text": [
      "/var/folders/1x/st3vh8xs6715dcgqc1gk2hhh0000gn/T/ipykernel_90083/805822090.py:1: LangChainDeprecationWarning: The class `OpenAI` was deprecated in LangChain 0.0.10 and will be removed in 1.0. An updated version of the class exists in the :class:`~langchain-openai package and should be used instead. To use it run `pip install -U :class:`~langchain-openai` and import as `from :class:`~langchain_openai import OpenAI``.\n",
      "  llm = OpenAI(\n",
      "/var/folders/1x/st3vh8xs6715dcgqc1gk2hhh0000gn/T/ipykernel_90083/805822090.py:11: LangChainDeprecationWarning: The method `Chain.run` was deprecated in langchain 0.1.0 and will be removed in 1.0. Use :meth:`~invoke` instead.\n",
      "  answer = qa_chain.run(query)\n"
     ]
    },
    {
     "name": "stdout",
     "output_type": "stream",
     "text": [
      "Answer:   흔한남매 원작 ; 노지영 글 ; 도니패밀리 그림\n"
     ]
    }
   ],
   "source": [
    "llm = OpenAI(\n",
    "  temperature=0\n",
    ")\n",
    "\n",
    "qa_chain = RetrievalQA.from_chain_type(\n",
    "  llm=llm,\n",
    "  chain_type=\"stuff\",\n",
    "  retriever=vector_store.as_retriever()\n",
    ")\n",
    "\n",
    "answer = qa_chain.run(query)\n",
    "\n",
    "print(\"Answer: \", answer)"
   ]
  },
  {
   "cell_type": "code",
   "execution_count": 15,
   "id": "d48580a2",
   "metadata": {},
   "outputs": [
    {
     "name": "stderr",
     "output_type": "stream",
     "text": [
      "/var/folders/1x/st3vh8xs6715dcgqc1gk2hhh0000gn/T/ipykernel_90083/2919174396.py:1: LangChainDeprecationWarning: Please see the migration guide at: https://python.langchain.com/docs/versions/migrating_memory/\n",
      "  memory = ConversationBufferMemory(\n"
     ]
    },
    {
     "name": "stdout",
     "output_type": "stream",
     "text": [
      "Answer 1:   흔한남매 원작 ; 노지영 글 ; 도니패밀리 그림\n",
      "Answer 2:   미래엔아이세움\n"
     ]
    }
   ],
   "source": [
    "memory = ConversationBufferMemory(\n",
    "  memory_key='chat_history',\n",
    "  return_messages=True\n",
    ")\n",
    "\n",
    "conv_chain = ConversationalRetrievalChain.from_llm(\n",
    "  llm=llm,\n",
    "  retriever=vector_store.as_retriever(),\n",
    "  memory=memory\n",
    ")\n",
    "\n",
    "result1 = conv_chain.invoke({\"question\": \"(흔한남매) 수수께끼 어드벤처. 5 도서의 작가는 누구야?\"})\n",
    "print(\"Answer 1: \", result1['answer'])\n",
    "\n",
    "result2 = conv_chain.invoke({\"question\": \"출판사는 어디야?\"})\n",
    "print(\"Answer 2: \", result2['answer'])"
   ]
  },
  {
   "cell_type": "code",
   "execution_count": null,
   "id": "91704a26",
   "metadata": {},
   "outputs": [],
   "source": []
  },
  {
   "cell_type": "code",
   "execution_count": null,
   "id": "9d413526",
   "metadata": {},
   "outputs": [],
   "source": []
  }
 ],
 "metadata": {
  "kernelspec": {
   "display_name": "Python 3",
   "language": "python",
   "name": "python3"
  },
  "language_info": {
   "codemirror_mode": {
    "name": "ipython",
    "version": 3
   },
   "file_extension": ".py",
   "mimetype": "text/x-python",
   "name": "python",
   "nbconvert_exporter": "python",
   "pygments_lexer": "ipython3",
   "version": "3.11.12"
  }
 },
 "nbformat": 4,
 "nbformat_minor": 5
}
