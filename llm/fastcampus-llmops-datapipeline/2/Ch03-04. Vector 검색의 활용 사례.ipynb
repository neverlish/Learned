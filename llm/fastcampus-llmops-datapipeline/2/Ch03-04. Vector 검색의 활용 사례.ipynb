{
 "cells": [
  {
   "cell_type": "code",
   "execution_count": 1,
   "id": "9fd96566",
   "metadata": {},
   "outputs": [
    {
     "name": "stdout",
     "output_type": "stream",
     "text": [
      "Looking in indexes: https://pypi.org/simple, https://pypi.ngc.nvidia.com\n",
      "Requirement already satisfied: faiss-cpu in /opt/homebrew/lib/python3.11/site-packages (1.11.0.post1)\n",
      "Requirement already satisfied: numpy<3.0,>=1.25.0 in /opt/homebrew/lib/python3.11/site-packages (from faiss-cpu) (2.2.5)\n",
      "Requirement already satisfied: packaging in /Users/hyeonjinho/Library/Python/3.11/lib/python/site-packages (from faiss-cpu) (24.2)\n",
      "\n",
      "\u001b[1m[\u001b[0m\u001b[34;49mnotice\u001b[0m\u001b[1;39;49m]\u001b[0m\u001b[39;49m A new release of pip is available: \u001b[0m\u001b[31;49m25.0.1\u001b[0m\u001b[39;49m -> \u001b[0m\u001b[32;49m25.1.1\u001b[0m\n",
      "\u001b[1m[\u001b[0m\u001b[34;49mnotice\u001b[0m\u001b[1;39;49m]\u001b[0m\u001b[39;49m To update, run: \u001b[0m\u001b[32;49mpython3.11 -m pip install --upgrade pip\u001b[0m\n",
      "Note: you may need to restart the kernel to use updated packages.\n"
     ]
    }
   ],
   "source": [
    "%pip install faiss-cpu"
   ]
  },
  {
   "cell_type": "code",
   "execution_count": 2,
   "id": "1f1e50a6",
   "metadata": {},
   "outputs": [],
   "source": [
    "import faiss\n",
    "import numpy as np\n",
    "\n"
   ]
  },
  {
   "cell_type": "code",
   "execution_count": null,
   "id": "139dcdcb",
   "metadata": {},
   "outputs": [],
   "source": [
    "# 랜덤 벡터 데이터 생성\n",
    "np.random.seed(42)\n",
    "\n",
    "data_vectors = np.random.rand(1000, 128).astype('float32')"
   ]
  },
  {
   "cell_type": "code",
   "execution_count": null,
   "id": "5a5575b2",
   "metadata": {},
   "outputs": [],
   "source": [
    "# 벡터 DB(Index) 생성 및 벡터 추가\n",
    "index = faiss.IndexFlatL2(128)\n",
    "index.add(data_vectors)"
   ]
  },
  {
   "cell_type": "code",
   "execution_count": null,
   "id": "e536605d",
   "metadata": {},
   "outputs": [],
   "source": [
    "# 검색할 쿼리 벡터 생성\n",
    "query_vector = np.random.rand(1, 128).astype('float32')\n"
   ]
  },
  {
   "cell_type": "code",
   "execution_count": 9,
   "id": "56a30877",
   "metadata": {},
   "outputs": [],
   "source": [
    "# 벡터 검색 실행\n",
    "k = 5\n",
    "D, I = index.search(query_vector, k)"
   ]
  },
  {
   "cell_type": "code",
   "execution_count": 10,
   "id": "eecc7565",
   "metadata": {},
   "outputs": [
    {
     "name": "stdout",
     "output_type": "stream",
     "text": [
      "쿼리 벡터와 가장 유사한 5개의 인덱스 :  [[468 771  12 475 284]]\n",
      "각 벡터의 커리 :  [[15.3513   16.348877 16.365719 16.400562 16.520393]]\n"
     ]
    }
   ],
   "source": [
    "# 검색 결과 출력\n",
    "\n",
    "print(\"쿼리 벡터와 가장 유사한 5개의 인덱스 : \", I)\n",
    "print(\"각 벡터의 커리 : \", D)"
   ]
  },
  {
   "cell_type": "code",
   "execution_count": null,
   "id": "b89599e8",
   "metadata": {},
   "outputs": [],
   "source": []
  }
 ],
 "metadata": {
  "kernelspec": {
   "display_name": "Python 3",
   "language": "python",
   "name": "python3"
  },
  "language_info": {
   "codemirror_mode": {
    "name": "ipython",
    "version": 3
   },
   "file_extension": ".py",
   "mimetype": "text/x-python",
   "name": "python",
   "nbconvert_exporter": "python",
   "pygments_lexer": "ipython3",
   "version": "3.11.12"
  }
 },
 "nbformat": 4,
 "nbformat_minor": 5
}
