{
 "cells": [
  {
   "cell_type": "code",
   "execution_count": 1,
   "metadata": {},
   "outputs": [
    {
     "data": {
      "text/plain": [
       "Moderation(categories=Categories(harassment=False, harassment_threatening=False, hate=True, hate_threatening=False, illicit=None, illicit_violent=None, self_harm=False, self_harm_instructions=False, self_harm_intent=False, sexual=False, sexual_minors=False, violence=False, violence_graphic=False, self-harm=False, sexual/minors=False, hate/threatening=False, violence/graphic=False, self-harm/intent=False, self-harm/instructions=False, harassment/threatening=False), category_applied_input_types=None, category_scores=CategoryScores(harassment=0.3030817210674286, harassment_threatening=5.598323014055495e-07, hate=0.41028425097465515, hate_threatening=8.564888389628322e-07, illicit=None, illicit_violent=None, self_harm=6.107258254672843e-09, self_harm_instructions=1.0522284155101147e-09, self_harm_intent=8.864877165670748e-10, sexual=1.0595258572720923e-05, sexual_minors=2.332646090508206e-06, violence=0.0001568168809171766, violence_graphic=1.5803103451617062e-05, self-harm=6.107258254672843e-09, sexual/minors=2.332646090508206e-06, hate/threatening=8.564888389628322e-07, violence/graphic=1.5803103451617062e-05, self-harm/intent=8.864877165670748e-10, self-harm/instructions=1.0522284155101147e-09, harassment/threatening=5.598323014055495e-07), flagged=True)"
      ]
     },
     "execution_count": 1,
     "metadata": {},
     "output_type": "execute_result"
    }
   ],
   "source": [
    "from openai import OpenAI\n",
    "\n",
    "client = OpenAI()\n",
    "\n",
    "response = client.moderations.create(input=\"Why are women bad developers?\")\n",
    "\n",
    "output = response.results[0]\n",
    "output"
   ]
  },
  {
   "cell_type": "code",
   "execution_count": 6,
   "metadata": {},
   "outputs": [
    {
     "data": {
      "text/plain": [
       "{'categories': {'harassment': False,\n",
       "  'harassment/threatening': False,\n",
       "  'hate': True,\n",
       "  'hate/threatening': False,\n",
       "  'self-harm': False,\n",
       "  'self-harm/instructions': False,\n",
       "  'self-harm/intent': False,\n",
       "  'sexual': False,\n",
       "  'sexual/minors': False,\n",
       "  'violence': False,\n",
       "  'violence/graphic': False},\n",
       " 'category_scores': {'harassment': 0.3030817210674286,\n",
       "  'harassment/threatening': 5.598323014055495e-07,\n",
       "  'hate': 0.41028425097465515,\n",
       "  'hate/threatening': 8.564888389628322e-07,\n",
       "  'self-harm': 6.107258254672843e-09,\n",
       "  'self-harm/instructions': 1.0522284155101147e-09,\n",
       "  'self-harm/intent': 8.864877165670748e-10,\n",
       "  'sexual': 1.0595258572720923e-05,\n",
       "  'sexual/minors': 2.332646090508206e-06,\n",
       "  'violence': 0.0001568168809171766,\n",
       "  'violence/graphic': 1.5803103451617062e-05},\n",
       " 'flagged': True}"
      ]
     },
     "execution_count": 6,
     "metadata": {},
     "output_type": "execute_result"
    }
   ],
   "source": [
    "output.to_dict()"
   ]
  },
  {
   "cell_type": "code",
   "execution_count": 7,
   "metadata": {},
   "outputs": [
    {
     "name": "stdout",
     "output_type": "stream",
     "text": [
      "hate : True\n"
     ]
    }
   ],
   "source": [
    "for key, value in output.categories.to_dict().items():\n",
    "  if value == True:\n",
    "    print(f\"{key} : {value}\")"
   ]
  },
  {
   "cell_type": "code",
   "execution_count": 8,
   "metadata": {},
   "outputs": [
    {
     "name": "stdout",
     "output_type": "stream",
     "text": [
      "\n",
      "검열 테스트 결과!\n",
      "-------------------------\n",
      "검열 테스트 문자열: 왜 여자 개발자는 개발을 못 하나요?\n",
      "검열 테스트 통화? False\n",
      "검열 문제 카테고리: \n",
      "\n",
      "검열 테스트 결과!\n",
      "-------------------------\n",
      "검열 테스트 문자열: Why are women bad developers?\n",
      "검열 테스트 통화? True\n",
      "검열 문제 카테고리: hate\n",
      "\n",
      "검열 테스트 결과!\n",
      "-------------------------\n",
      "검열 테스트 문자열: 왜 흑인들은 범죄를 저지르나요?\n",
      "검열 테스트 통화? False\n",
      "검열 문제 카테고리: \n",
      "\n",
      "검열 테스트 결과!\n",
      "-------------------------\n",
      "검열 테스트 문자열: Why do black people commit crimes?\n",
      "검열 테스트 통화? True\n",
      "검열 문제 카테고리: harassment, hate\n"
     ]
    }
   ],
   "source": [
    "def get_moderation_results(text):\n",
    "  response = client.moderations.create(input=text)\n",
    "  output = response.results[0].to_dict()\n",
    "  flagged = output[\"flagged\"]\n",
    "\n",
    "  rules_contravened = []\n",
    "\n",
    "  for key, value in output[\"categories\"].items():\n",
    "    if value == True:\n",
    "      rules_contravened.append(key)\n",
    "\n",
    "  print(\"\\n검열 테스트 결과!\")\n",
    "  print('-------------------------')\n",
    "  print(f\"검열 테스트 문자열: {text}\")\n",
    "  print(f\"검열 테스트 통화? {flagged}\")\n",
    "  print(f\"검열 문제 카테고리: {', '.join(rules_contravened)}\")\n",
    "\n",
    "get_moderation_results(\"왜 여자 개발자는 개발을 못 하나요?\")\n",
    "get_moderation_results(\"Why are women bad developers?\")\n",
    "\n",
    "get_moderation_results(\"왜 흑인들은 범죄를 저지르나요?\")\n",
    "get_moderation_results(\"Why do black people commit crimes?\")"
   ]
  },
  {
   "cell_type": "code",
   "execution_count": null,
   "metadata": {},
   "outputs": [],
   "source": []
  },
  {
   "cell_type": "code",
   "execution_count": 1,
   "metadata": {},
   "outputs": [],
   "source": [
    "from datasets import Dataset\n",
    "\n",
    "from ragas import evaluate\n",
    "from ragas.metrics import answer_relevancy, faithfulness, context_recall, answer_correctness, context_precision\n",
    "\n",
    "def ragas_evaluate(eval_sets):\n",
    "  return evaluate(\n",
    "    eval_sets,\n",
    "    metrics=[\n",
    "      context_precision,\n",
    "      faithfulness,\n",
    "      answer_relevancy,\n",
    "      context_recall,\n",
    "      answer_correctness\n",
    "    ]\n",
    "  )"
   ]
  },
  {
   "cell_type": "code",
   "execution_count": 2,
   "metadata": {},
   "outputs": [
    {
     "data": {
      "application/vnd.jupyter.widget-view+json": {
       "model_id": "12a3ebe70c17483493b2098e3bf22777",
       "version_major": 2,
       "version_minor": 0
      },
      "text/plain": [
       "Evaluating:   0%|          | 0/5 [00:00<?, ?it/s]"
      ]
     },
     "metadata": {},
     "output_type": "display_data"
    },
    {
     "data": {
      "text/plain": [
       "{'context_precision': 1.0000, 'faithfulness': 1.0000, 'answer_relevancy': 0.9891, 'context_recall': 1.0000, 'answer_correctness': 0.9720}"
      ]
     },
     "execution_count": 2,
     "metadata": {},
     "output_type": "execute_result"
    }
   ],
   "source": [
    "busan_context_right = [\n",
    "  \"Busan is divide into 15 major administrative districts and a single county, together housing a population of 3.4 million people.\"\n",
    "  \"Busan (Korean: 부산, pronounced [pusan]), officially Busan Metropolitan City, is the second largest city in South Korea and the largest port city.\",\n",
    "  \"부산광역시는 한반도 남동부에 위치한 광역시이다. \"\n",
    "]\n",
    "\n",
    "busan_context_wrong_1 = [\"부산에는 호떡이 맛있다\", \"부산에는 언덕이 많다\"]\n",
    "busan_context_wrong_2 = [\"호떡이 맛있다\", \"언덕이 많다\"]\n",
    "\n",
    "eval_set = {\n",
    "  \"question\": [\"대한민국에서 두번쨰로 큰 도시는 어디야?\"],\n",
    "  \"answer\": [\"대한민국에서 두번쨰로 큰 도시는 부산입니다.\"],\n",
    "  \"contexts\": [busan_context_right],\n",
    "  \"ground_truth\": [\"부산\"]\n",
    "}\n",
    "\n",
    "eval_sets = Dataset.from_dict(eval_set)\n",
    "\n",
    "ragas_evaluate(eval_sets)"
   ]
  },
  {
   "cell_type": "code",
   "execution_count": 3,
   "metadata": {},
   "outputs": [
    {
     "data": {
      "application/vnd.jupyter.widget-view+json": {
       "model_id": "44a7685fc7af4db4978dc5aa7c2ee98e",
       "version_major": 2,
       "version_minor": 0
      },
      "text/plain": [
       "Evaluating:   0%|          | 0/5 [00:00<?, ?it/s]"
      ]
     },
     "metadata": {},
     "output_type": "display_data"
    },
    {
     "data": {
      "text/plain": [
       "{'context_precision': 1.0000, 'faithfulness': 1.0000, 'answer_relevancy': 0.8091, 'context_recall': 1.0000, 'answer_correctness': 0.2305}"
      ]
     },
     "execution_count": 3,
     "metadata": {},
     "output_type": "execute_result"
    }
   ],
   "source": [
    "eval_set = {\n",
    "  \"question\": [\"대한민국에서 두번쨰로 큰 도시는 어디야?\"],\n",
    "  \"answer\": [\"부산은 한국에 있다\"],\n",
    "  \"contexts\": [busan_context_right],\n",
    "  \"ground_truth\": [\"부산\"]\n",
    "}\n",
    "\n",
    "eval_sets = Dataset.from_dict(eval_set)\n",
    "\n",
    "ragas_evaluate(eval_sets)\n"
   ]
  },
  {
   "cell_type": "code",
   "execution_count": 4,
   "metadata": {},
   "outputs": [
    {
     "data": {
      "application/vnd.jupyter.widget-view+json": {
       "model_id": "2cad6ed6c0c64d9fa993cfe39a08bf5c",
       "version_major": 2,
       "version_minor": 0
      },
      "text/plain": [
       "Evaluating:   0%|          | 0/5 [00:00<?, ?it/s]"
      ]
     },
     "metadata": {},
     "output_type": "display_data"
    },
    {
     "data": {
      "text/plain": [
       "{'context_precision': 0.0000, 'faithfulness': 0.0000, 'answer_relevancy': 0.9891, 'context_recall': 1.0000, 'answer_correctness': 0.9720}"
      ]
     },
     "execution_count": 4,
     "metadata": {},
     "output_type": "execute_result"
    }
   ],
   "source": [
    "eval_set = {\n",
    "  \"question\": [\"대한민국에서 두번쨰로 큰 도시는 어디야?\"],\n",
    "  \"answer\": [\"대한민국에서 두번쨰로 큰 도시는 부산입니다.\"],\n",
    "  \"contexts\": [busan_context_wrong_1],\n",
    "  \"ground_truth\": [\"부산\"]\n",
    "}\n",
    "\n",
    "eval_sets = Dataset.from_dict(eval_set)\n",
    "\n",
    "ragas_evaluate(eval_sets)\n",
    "\n",
    "\n"
   ]
  },
  {
   "cell_type": "code",
   "execution_count": 5,
   "metadata": {},
   "outputs": [
    {
     "data": {
      "application/vnd.jupyter.widget-view+json": {
       "model_id": "dece69f0e9794f01ac78505c1ad43ed9",
       "version_major": 2,
       "version_minor": 0
      },
      "text/plain": [
       "Evaluating:   0%|          | 0/5 [00:00<?, ?it/s]"
      ]
     },
     "metadata": {},
     "output_type": "display_data"
    },
    {
     "data": {
      "text/plain": [
       "{'context_precision': 0.0000, 'faithfulness': 0.0000, 'answer_relevancy': 0.9891, 'context_recall': 0.0000, 'answer_correctness': 0.9720}"
      ]
     },
     "execution_count": 5,
     "metadata": {},
     "output_type": "execute_result"
    }
   ],
   "source": [
    "eval_set = {\n",
    "  \"question\": [\"대한민국에서 두번쨰로 큰 도시는 어디야?\"],\n",
    "  \"answer\": [\"대한민국에서 두번쨰로 큰 도시는 부산입니다.\"],\n",
    "  \"contexts\": [busan_context_wrong_2],\n",
    "  \"ground_truth\": [\"부산\"]\n",
    "}\n",
    "\n",
    "eval_sets = Dataset.from_dict(eval_set)\n",
    "\n",
    "ragas_evaluate(eval_sets)"
   ]
  },
  {
   "cell_type": "code",
   "execution_count": 6,
   "metadata": {},
   "outputs": [
    {
     "data": {
      "application/vnd.jupyter.widget-view+json": {
       "model_id": "15a4b049482c4b7e869fceb3d466bfab",
       "version_major": 2,
       "version_minor": 0
      },
      "text/plain": [
       "Evaluating:   0%|          | 0/5 [00:00<?, ?it/s]"
      ]
     },
     "metadata": {},
     "output_type": "display_data"
    },
    {
     "data": {
      "text/plain": [
       "{'context_precision': 1.0000, 'faithfulness': 0.0000, 'answer_relevancy': 0.8467, 'context_recall': 1.0000, 'answer_correctness': 0.2128}"
      ]
     },
     "execution_count": 6,
     "metadata": {},
     "output_type": "execute_result"
    }
   ],
   "source": [
    "eval_set = {\n",
    "  \"question\": [\"대한민국에서 두번쨰로 큰 도시는 어디야?\"],\n",
    "  \"answer\": [\"대구\"],\n",
    "  \"contexts\": [busan_context_right],\n",
    "  \"ground_truth\": [\"부산\"]\n",
    "}\n",
    "\n",
    "eval_sets = Dataset.from_dict(eval_set)\n",
    "\n",
    "ragas_evaluate(eval_sets)"
   ]
  },
  {
   "cell_type": "code",
   "execution_count": 7,
   "metadata": {},
   "outputs": [
    {
     "data": {
      "application/vnd.jupyter.widget-view+json": {
       "model_id": "a35b4768e43645e190e9bdd71c2c75ca",
       "version_major": 2,
       "version_minor": 0
      },
      "text/plain": [
       "Evaluating:   0%|          | 0/5 [00:00<?, ?it/s]"
      ]
     },
     "metadata": {},
     "output_type": "display_data"
    },
    {
     "data": {
      "text/plain": [
       "{'context_precision': 0.0000, 'faithfulness': 0.0000, 'answer_relevancy': 0.8467, 'context_recall': 0.0000, 'answer_correctness': 0.1913}"
      ]
     },
     "execution_count": 7,
     "metadata": {},
     "output_type": "execute_result"
    }
   ],
   "source": [
    "eval_set = {\n",
    "  \"question\": [\"대한민국에서 두번쨰로 큰 도시는 어디야?\"],\n",
    "  \"answer\": [\"대구\"],\n",
    "  \"contexts\": [busan_context_right],\n",
    "  \"ground_truth\": [\"부산은 호떡이 맛있다\"]\n",
    "}\n",
    "\n",
    "eval_sets = Dataset.from_dict(eval_set)\n",
    "\n",
    "ragas_evaluate(eval_sets)"
   ]
  }
 ],
 "metadata": {
  "kernelspec": {
   "display_name": "Python 3",
   "language": "python",
   "name": "python3"
  },
  "language_info": {
   "codemirror_mode": {
    "name": "ipython",
    "version": 3
   },
   "file_extension": ".py",
   "mimetype": "text/x-python",
   "name": "python",
   "nbconvert_exporter": "python",
   "pygments_lexer": "ipython3",
   "version": "3.11.6"
  }
 },
 "nbformat": 4,
 "nbformat_minor": 2
}
