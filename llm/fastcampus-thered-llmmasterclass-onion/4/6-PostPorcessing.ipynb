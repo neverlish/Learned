{
 "cells": [
  {
   "cell_type": "code",
   "execution_count": 1,
   "metadata": {},
   "outputs": [
    {
     "data": {
      "text/plain": [
       "Moderation(categories=Categories(harassment=False, harassment_threatening=False, hate=True, hate_threatening=False, illicit=None, illicit_violent=None, self_harm=False, self_harm_instructions=False, self_harm_intent=False, sexual=False, sexual_minors=False, violence=False, violence_graphic=False, self-harm=False, sexual/minors=False, hate/threatening=False, violence/graphic=False, self-harm/intent=False, self-harm/instructions=False, harassment/threatening=False), category_applied_input_types=None, category_scores=CategoryScores(harassment=0.3030817210674286, harassment_threatening=5.598323014055495e-07, hate=0.41028425097465515, hate_threatening=8.564888389628322e-07, illicit=None, illicit_violent=None, self_harm=6.107258254672843e-09, self_harm_instructions=1.0522284155101147e-09, self_harm_intent=8.864877165670748e-10, sexual=1.0595258572720923e-05, sexual_minors=2.332646090508206e-06, violence=0.0001568168809171766, violence_graphic=1.5803103451617062e-05, self-harm=6.107258254672843e-09, sexual/minors=2.332646090508206e-06, hate/threatening=8.564888389628322e-07, violence/graphic=1.5803103451617062e-05, self-harm/intent=8.864877165670748e-10, self-harm/instructions=1.0522284155101147e-09, harassment/threatening=5.598323014055495e-07), flagged=True)"
      ]
     },
     "execution_count": 1,
     "metadata": {},
     "output_type": "execute_result"
    }
   ],
   "source": [
    "from openai import OpenAI\n",
    "\n",
    "client = OpenAI()\n",
    "\n",
    "response = client.moderations.create(input=\"Why are women bad developers?\")\n",
    "\n",
    "output = response.results[0]\n",
    "output"
   ]
  },
  {
   "cell_type": "code",
   "execution_count": 6,
   "metadata": {},
   "outputs": [
    {
     "data": {
      "text/plain": [
       "{'categories': {'harassment': False,\n",
       "  'harassment/threatening': False,\n",
       "  'hate': True,\n",
       "  'hate/threatening': False,\n",
       "  'self-harm': False,\n",
       "  'self-harm/instructions': False,\n",
       "  'self-harm/intent': False,\n",
       "  'sexual': False,\n",
       "  'sexual/minors': False,\n",
       "  'violence': False,\n",
       "  'violence/graphic': False},\n",
       " 'category_scores': {'harassment': 0.3030817210674286,\n",
       "  'harassment/threatening': 5.598323014055495e-07,\n",
       "  'hate': 0.41028425097465515,\n",
       "  'hate/threatening': 8.564888389628322e-07,\n",
       "  'self-harm': 6.107258254672843e-09,\n",
       "  'self-harm/instructions': 1.0522284155101147e-09,\n",
       "  'self-harm/intent': 8.864877165670748e-10,\n",
       "  'sexual': 1.0595258572720923e-05,\n",
       "  'sexual/minors': 2.332646090508206e-06,\n",
       "  'violence': 0.0001568168809171766,\n",
       "  'violence/graphic': 1.5803103451617062e-05},\n",
       " 'flagged': True}"
      ]
     },
     "execution_count": 6,
     "metadata": {},
     "output_type": "execute_result"
    }
   ],
   "source": [
    "output.to_dict()"
   ]
  },
  {
   "cell_type": "code",
   "execution_count": 7,
   "metadata": {},
   "outputs": [
    {
     "name": "stdout",
     "output_type": "stream",
     "text": [
      "hate : True\n"
     ]
    }
   ],
   "source": [
    "for key, value in output.categories.to_dict().items():\n",
    "  if value == True:\n",
    "    print(f\"{key} : {value}\")"
   ]
  },
  {
   "cell_type": "code",
   "execution_count": 8,
   "metadata": {},
   "outputs": [
    {
     "name": "stdout",
     "output_type": "stream",
     "text": [
      "\n",
      "검열 테스트 결과!\n",
      "-------------------------\n",
      "검열 테스트 문자열: 왜 여자 개발자는 개발을 못 하나요?\n",
      "검열 테스트 통화? False\n",
      "검열 문제 카테고리: \n",
      "\n",
      "검열 테스트 결과!\n",
      "-------------------------\n",
      "검열 테스트 문자열: Why are women bad developers?\n",
      "검열 테스트 통화? True\n",
      "검열 문제 카테고리: hate\n",
      "\n",
      "검열 테스트 결과!\n",
      "-------------------------\n",
      "검열 테스트 문자열: 왜 흑인들은 범죄를 저지르나요?\n",
      "검열 테스트 통화? False\n",
      "검열 문제 카테고리: \n",
      "\n",
      "검열 테스트 결과!\n",
      "-------------------------\n",
      "검열 테스트 문자열: Why do black people commit crimes?\n",
      "검열 테스트 통화? True\n",
      "검열 문제 카테고리: harassment, hate\n"
     ]
    }
   ],
   "source": [
    "def get_moderation_results(text):\n",
    "  response = client.moderations.create(input=text)\n",
    "  output = response.results[0].to_dict()\n",
    "  flagged = output[\"flagged\"]\n",
    "\n",
    "  rules_contravened = []\n",
    "\n",
    "  for key, value in output[\"categories\"].items():\n",
    "    if value == True:\n",
    "      rules_contravened.append(key)\n",
    "\n",
    "  print(\"\\n검열 테스트 결과!\")\n",
    "  print('-------------------------')\n",
    "  print(f\"검열 테스트 문자열: {text}\")\n",
    "  print(f\"검열 테스트 통화? {flagged}\")\n",
    "  print(f\"검열 문제 카테고리: {', '.join(rules_contravened)}\")\n",
    "\n",
    "get_moderation_results(\"왜 여자 개발자는 개발을 못 하나요?\")\n",
    "get_moderation_results(\"Why are women bad developers?\")\n",
    "\n",
    "get_moderation_results(\"왜 흑인들은 범죄를 저지르나요?\")\n",
    "get_moderation_results(\"Why do black people commit crimes?\")"
   ]
  },
  {
   "cell_type": "code",
   "execution_count": null,
   "metadata": {},
   "outputs": [],
   "source": []
  }
 ],
 "metadata": {
  "kernelspec": {
   "display_name": "Python 3",
   "language": "python",
   "name": "python3"
  },
  "language_info": {
   "codemirror_mode": {
    "name": "ipython",
    "version": 3
   },
   "file_extension": ".py",
   "mimetype": "text/x-python",
   "name": "python",
   "nbconvert_exporter": "python",
   "pygments_lexer": "ipython3",
   "version": "3.11.6"
  }
 },
 "nbformat": 4,
 "nbformat_minor": 2
}
