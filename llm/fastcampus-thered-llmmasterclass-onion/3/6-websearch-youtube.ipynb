{
 "cells": [
  {
   "cell_type": "code",
   "execution_count": 1,
   "metadata": {},
   "outputs": [
    {
     "data": {
      "text/plain": [
       "\"The White House, official residence of the president of the United States The president of the United States is the head of state and head of government of the United States, [1] indirectly elected to a four-year term via the Electoral College. [2] Under the U.S. Constitution, the officeholder leads the executive branch of the federal government and is the commander-in-chief of the United ... Barack Obama, the 44th President of the United States, broke barriers as the first African-American president and implemented significant healthcare reforms during his tenure. Obama's Last Name refers to a misconception held by certain individuals that former United States president Barack Obama's first name is Obama and not Barack. Starting in mid-2019, memes speculating on what Obama's last name could be and imagining it being a well-guarded secret gained significant popularity in meme communities. Barack Obama served as the 44th president of the United States (2009-17) and was the first African American to hold that post. A member of the Democratic Party, Obama previously represented Illinois in the U.S. Senate from 2005 to 2008. He was honoured with the Nobel Peace Prize in 2009. Former President Barack Obama was born in Hawaii. But nearly eight years since he left office, some social media users c\""
      ]
     },
     "execution_count": 1,
     "metadata": {},
     "output_type": "execute_result"
    }
   ],
   "source": [
    "from langchain_community.tools import DuckDuckGoSearchRun\n",
    "\n",
    "search = DuckDuckGoSearchRun()\n",
    "\n",
    "search.run(\"Obama's first name?\")"
   ]
  },
  {
   "cell_type": "code",
   "execution_count": 2,
   "metadata": {},
   "outputs": [
    {
     "data": {
      "text/plain": [
       "'이순신(李舜臣)은 조선 중기의 명장으로, 1545년 4월 28일 한성부 건천동에서 태어났다. 이순신은 무과에 급제하여 군사적 역량을 발휘한 뒤, 전라좌도 수군절도사와 삼도수군통제사를 역임하며 임진왜란 중 일본의 침략에 맞서 싸웠다. 출생 : 1545년 4월 28일 한성부 (현재 서울특별시)에서 태어났습니다. 가문 : 본관은 덕수이며, 조선 중기의 몰락한 양반 가문에서 태어났습니다. 그의 조상은 학문과 선비정신을 중시했지만, 가문은 재정적으로 어려움을 겪고 있었습니다. 유년 시절 : 어려운 환경 속에서도 성리학과 무예를 배우며 자랐고, 특히 청렴과 정의를 중요하게 여겼습니다. 그는 학문과 무예를 병행하며 성장했습니다. 특히 활쏘기와 말을 다루는 기술에서 뛰어난 재능을 보였으며, 장군으로서의 기초를 다졌습니다. 1576년 (명종 31년), 32세에 무과에 급제하며 군 관직에 진출했습니다. 늦은 나이에 합격했으나, 뛰어난 능력으로 주목받았습니다. 이순신 장군의 탄신일은 1545년 4월 28일입니다. 달력에 보시면 4월 28에 충우공탄신일이라고 쓰여져 있지요. 공휴일은 아니지만 법정기념일에 해당하는 날이구요. 1545년 4월 28일 수도인 한성 건천동에서 태어났습니다. 돌아가신 것은 1598년 11월 19일 노량해전에서 왜적이 쏜 유탄으로 운명하셨다고 되어 있습니다. 이순신 장군은 언제 태어나신 건가요? - 안녕하세요 이순신 장군은 임진왜란에서 수많은 왜구를 물리쳐 우리나라를 구하신 분이고 세계적으로도 매우 뛰어난 장수로 알려져 있는데요 이 이순신 장군은 언제 태어나신 건가요? 이순신 장군은 1545년 3월 8일 서울 건천동에서 태어났습니다. 그는 조선시대의 무신으로, 어린 시절부터 무예에 뛰어난 재능을 보였습니다. 1572년, 그는 훈련원에서 별과 시험에 응시했으나 불합격하였습니다. 그럼에도 불구하고 그는 군사적 재능을 인정받아 점차 승진하게 됩니다. 이순신은 북방 오랑캐를 방어하는 데 활약하며, 일찍부터 장수로서의 능력을 인정받았습니다. 이순신 장군의 생애는 단순히 군사적 경력에 국한되지 않습니다. 그는 자신의 신념과 원칙을 지키며, 조국을 위해 헌신한 인물입니다. 그의 삶은 많은 이들에게 영감을 주었고, 오늘날에도 여전히 많은 사람들이 그의 정신을 기리고 있습니다. 이순신은 1545년 봄에 서울 건천동 부근에서 태어났다. 이곳은 지금의 서울특별시 중구 인현동 일대이며, 때문에 이 근처에 충무로라는 이름을 붙였다. 맹인인 친구를 속여서 바로 그 친구네 집 동아를 서리하게 하는 등의 일화로 보아 어려서는 상당한 악동이었던 모양이다. 22세 즈음에 처음으로 무예를 배우기 시작하였다. 위인전에는 낙마한 직후 시험장 안에서 자란 버드나무 가지를 꺾어 그 껍질로 다리를 동여매고 시험을 속개했으나 결국 탈락했다고 묘사되어 있다. 권지훈련원봉사로 관직생활을 시작한다. 일종의 간부 기초 교육 과정을 이행한 걸로 보인다.'"
      ]
     },
     "execution_count": 2,
     "metadata": {},
     "output_type": "execute_result"
    }
   ],
   "source": [
    "search.run(\"이순신 장군이 언제 태어나셨어?\")"
   ]
  },
  {
   "cell_type": "code",
   "execution_count": 8,
   "metadata": {},
   "outputs": [
    {
     "data": {
      "text/plain": [
       "\"['https://www.youtube.com/watch?v=Gb0h8ZKvJW4&pp=ygULY29sZCBzaG93ZXI%3D', 'https://www.youtube.com/watch?v=HsonXuJs8-s&pp=ygULY29sZCBzaG93ZXI%3D']\""
      ]
     },
     "execution_count": 8,
     "metadata": {},
     "output_type": "execute_result"
    }
   ],
   "source": [
    "from langchain_community.tools import YouTubeSearchTool\n",
    "\n",
    "tool = YouTubeSearchTool()\n",
    "tool.run(\"cold shower\")"
   ]
  },
  {
   "cell_type": "markdown",
   "metadata": {},
   "source": []
  },
  {
   "cell_type": "code",
   "execution_count": 9,
   "metadata": {},
   "outputs": [
    {
     "name": "stderr",
     "output_type": "stream",
     "text": [
      "/var/folders/1x/st3vh8xs6715dcgqc1gk2hhh0000gn/T/ipykernel_76724/206443730.py:30: LangChainDeprecationWarning: The method `Chain.__call__` was deprecated in langchain 0.1.0 and will be removed in 1.0. Use :meth:`~invoke` instead.\n",
      "  result = qa({\"query\": query})\n"
     ]
    },
    {
     "name": "stdout",
     "output_type": "stream",
     "text": [
      "('Cold showers can bring several benefits, including improved circulation, '\n",
      " 'increased alertness, and improved immune system function. They can also help '\n",
      " 'boost mood and energy levels, as well as promote resilience to stress and '\n",
      " 'discomfort. Additionally, taking cold showers regularly can help build '\n",
      " 'mental toughness and discipline, as discussed in the context provided.')\n"
     ]
    }
   ],
   "source": [
    "from langchain.document_loaders import YoutubeLoader\n",
    "from langchain.embeddings import OpenAIEmbeddings\n",
    "from langchain.vectorstores import FAISS\n",
    "from langchain.chains import RetrievalQA\n",
    "from langchain_openai import ChatOpenAI\n",
    "from pprint import pprint\n",
    "\n",
    "embeddings = OpenAIEmbeddings()\n",
    "\n",
    "loader = YoutubeLoader.from_youtube_url(\n",
    "  \"https://www.youtube.com/watch?v=Gb0h8ZKvJW4\"\n",
    ")\n",
    "\n",
    "documents = loader.load()\n",
    "\n",
    "db = FAISS.from_documents(documents, embeddings)\n",
    "retriever = db.as_retriever()\n",
    "\n",
    "llm = ChatOpenAI()\n",
    "\n",
    "qa = RetrievalQA.from_chain_type(\n",
    "  llm=llm,\n",
    "  # chain_type=\"stuff\",\n",
    "  retriever=retriever,\n",
    "  return_source_documents=True\n",
    ")\n",
    "\n",
    "query = \"What are the benefits of cold showers\"\n",
    "\n",
    "result = qa({\"query\": query})\n",
    "\n",
    "pprint(result['result'])\n",
    "\n"
   ]
  },
  {
   "cell_type": "code",
   "execution_count": 10,
   "metadata": {},
   "outputs": [
    {
     "name": "stdout",
     "output_type": "stream",
     "text": [
      "('차가운 샤워의 이점은 다양하며 개인에 따라 달라질 수 있습니다. 차가운 샤워를 취하는 것으로 인해 혈액순환이 증가하고 피로감을 줄일 수 '\n",
      " '있으며 피부와 머리카락에도 도움을 줄 수 있습니다. 또한 면역체계 강화, 체지방 감소, 스트레스 감소 등의 잠재적인 이점이 있을 수 '\n",
      " '있습니다. 그러나 차가운 샤워의 실질적인 이점은 개인의 경험과 목표에 따라 다를 수 있으므로 차가운 샤워를 취하는 것이 항상 필수적인 '\n",
      " '것은 아닙니다.')\n"
     ]
    }
   ],
   "source": [
    "query = \"What are the benefits of cold showers? 한국말로 답해줘\"\n",
    "\n",
    "result = qa({\"query\": query})\n",
    "\n",
    "pprint(result['result'])\n",
    "\n",
    "\n",
    "\n"
   ]
  },
  {
   "cell_type": "code",
   "execution_count": 11,
   "metadata": {},
   "outputs": [
    {
     "name": "stdout",
     "output_type": "stream",
     "text": [
      "('이 글은 한 사람이 길게 말하면서, 추워지는 샤워를 시키는 챌린지를 받았고, 초반에는 거부감과 두려움을 느꼈지만, 그것을 극복하고 '\n",
      " '긍정적으로 생각하는 방법을 배운 이야기입니다. 샤워를 하면서 느끼는 거부감과 두려움을 극복하고자 하는 내용이 담겨 있습니다.')\n"
     ]
    }
   ],
   "source": [
    "\n",
    "loader = YoutubeLoader.from_youtube_url(\n",
    "  \"https://www.youtube.com/watch?v=Gb0h8ZKvJW4\",\n",
    "  language=\"ko\"\n",
    ")\n",
    "\n",
    "documents = loader.load()\n",
    "\n",
    "db = FAISS.from_documents(documents, embeddings)\n",
    "retriever = db.as_retriever()\n",
    "\n",
    "llm = ChatOpenAI()\n",
    "\n",
    "qa = RetrievalQA.from_chain_type(\n",
    "  llm=llm,\n",
    "  chain_type=\"stuff\",\n",
    "  retriever=retriever,\n",
    "  return_source_documents=True\n",
    ")\n",
    "\n",
    "query = \"대강 무슨 내용이야?\"\n",
    "\n",
    "result = qa({\"query\": query})\n",
    "\n",
    "pprint(result['result'])\n"
   ]
  },
  {
   "cell_type": "code",
   "execution_count": 12,
   "metadata": {},
   "outputs": [],
   "source": [
    "def ask_youtube(url, q, language=\"en\"):\n",
    "  loader = YoutubeLoader.from_youtube_url(\n",
    "    url,\n",
    "    language=language\n",
    "  )\n",
    "\n",
    "  documents = loader.load()\n",
    "\n",
    "  db = FAISS.from_documents(documents, embeddings)\n",
    "  retriever = db.as_retriever()\n",
    "\n",
    "  llm = ChatOpenAI()\n",
    "\n",
    "  qa = RetrievalQA.from_chain_type(\n",
    "    llm=llm,\n",
    "    chain_type=\"stuff\",\n",
    "    retriever=retriever,\n",
    "    return_source_documents=True\n",
    "  )\n",
    "\n",
    "  return qa({\"query\": q})\n",
    "\n",
    "  \n"
   ]
  },
  {
   "cell_type": "code",
   "execution_count": 13,
   "metadata": {},
   "outputs": [
    {
     "name": "stdout",
     "output_type": "stream",
     "text": [
      "{'query': '왜 CCP가 비혼 여성을 싫어하는데?',\n",
      " 'result': 'CCP가 비혼 여성을 싫어하는 이유는 주로 인구 문제와 사회 안정을 위해 출생률을 높이려는 목적이 있습니다. 중국의 '\n",
      "           '인구 감소로 인한 인구 구조 변화로 인해 출생률이 감소하고 있는데, 이는 미래에 문제를 일으킬 수 있기 때문에 CCP가 '\n",
      "           '이에 대해 우려하고 있습니다. 따라서 CCP는 젊은이들의 결혼 및 출산 관점에 관해 지원 및 가이드라인을 제공하고자 '\n",
      "           '하고 있습니다.',\n",
      " 'source_documents': [Document(id='3c8c1503-713c-4674-b026-4176ee50c8b6', metadata={'source': '_uN0xp-5lBE'}, page_content=\"Love—is not in the air! As China’s\\xa0\\neconomy sputters, fewer people are\\xa0\\xa0 getting married and having kids. But the Chinese\\xa0\\nCommunist Party doesn’t believe no means no.\\xa0 Welcome to China Uncensored, I’m Chris Chappell. More Chinese women are choosing to stay single. And stay tuned till the end\\xa0\\nbecause I’ll tell you how\\xa0 that could have devastating consequences\\xa0\\nfor the Chinese Communist Party. Now first of all I’m focusing on\\xa0\\nChinese women choosing to stay single, Because Chinese men don’t have a choice.\\nThere are 30 million more men than women in China. It’s particularly bad in rural areas. There’s almost 475 unmarried men\\xa0\\nfor every 100 unmarried women. The reason for this gender imbalance is because\\xa0\\nfor decades, China had a one child policy. Since\\xa0\\xa0 boys were preferred, that led to a huge amount\\xa0\\nof sex selective abortions. In other words,\\xa0\\xa0 since the Communist Party only allowed you\\xa0\\nto have one child, baby girls were killed,\\xa0\\xa0 so families could try again for a boy. Communism does wonderful things for a society. But why are *women* choosing to stay single?\\xa0\\nRather than just having their pick of the men? According to Reuters, “a growing number\\xa0\\nof educated women, facing unprecedented\\xa0\\xa0 insecurity amid record youth unemployment and an\\xa0\\neconomic downturn, are espousing ‘singleism.’” And the numbers are shocking. According to official data, in 2021 China’s single\\xa0\\npopulation over 15 years of age hit a record 239\\xa0\\xa0 million. Marriage registrations hit a historic low\\xa0\\nin 2022, only rebounding slightly after pandemic\\xa0\\xa0 lockdowns ended. And a 2021 Communist Youth League\\xa0\\nsurvey found 44% of women do not plan to marry Part of the problem is just how\\xa0\\nbad China’s economy has gotten. As China’s real estate sector, which\\xa0\\nmakes up a third of China’s GDP collapses, And youth unemployment hit record highs People are doing some crazy things just to get by. Some are choosing to be full time children, paid\\xa0\\nby their parents to do chores and live at home. Which might be more appealing than the search for\\xa0 Bedmates, which is where young\\xa0\\nChinese people literally have to\\xa0\\xa0 share a room and a bed with strangers just\\xa0\\nto afford to live in China’s megacities.\\xa0 So for many, marriage, and—what’s\\xa0\\nreally important to the Communist\\xa0\\xa0 Party—children, are just out of the picture. We’re seeing the singleism\\xa0\\ntrend on Chinese social media. Posts with the hashtags “No marriage, no\\xa0\\nchildren” from female influencers often in\\xa0\\xa0 their thirties or forties on Xiaohongshu, China’s\\xa0\\nInstagram, regularly gain thousands of likes.\\xa0 One anti-marriage forum on Douban, another\\xa0\\nsocial media platform, has 9,200 members,\\xa0\\xa0 while another dedicated to “singleism” has\\xa0\\xa0 3,600 members who discuss collective\\xa0\\nretirement plans, among other topics. Singleism is also tying into other\\xa0\\nsocial movements among Chinese youth.\\xa0 Like the lying flat movement. It was a popular hashtag on Chinese social\\xa0\\nmedia that basically encouraged young people\\xa0\\xa0 to give up on the intense struggle\\xa0\\nof Chinese society and just…lie flat. Or the Let it Rot movement.\\xa0 Which is like lying flat but\\xa0\\nwith an added level of cynicism. “‘Let it rot’ means to let things that\\xa0\\nare already beyond repair deteriorate.” Sounds like things are going great in China.\\xa0 One of these women who is choosing\\xa0\\nto stay single told Reuters,\\xa0\\xa0 “Many who got married in previous\\xa0\\ngenerations, especially women,\\xa0\\xa0 sacrificed themselves and their career\\xa0\\ndevelopment, and didn’t get the happy\\xa0\\xa0 life they were promised. Living my own\\xa0\\nlife well is difficult enough nowadays.” Another said, “I think it’s\\xa0\\nokay to date or cohabit,\\xa0\\xa0 but children are a huge asset\\xa0\\ninvestment with minimal returns.” Wow, can you imagine—a Communist\\xa0\\nsociety doesn’t value family. Another woman told the Wall Street\\xa0\\nJournal, “the demands of caring for\\xa0\\xa0 aging relatives and her job as an exhibition\\xa0\\ndesigner in Shenzhen leave no room for kids\\xa0\\xa0 or a husband. All she wants to do in her free\\xa0\\nmoments is read or scroll through pet videos.” Wow. Hashtag relatable. But while you might think the decision of whether\\xa0\\nor not to get married is just a matter of personal\\xa0\\xa0 choice, the Chinese Communist Party has a little\\xa0\\nless friendly attitude toward personal choice.\\xa0 I’ll tell you more after the break. Welcome back. So more and more Chinese women\\xa0\\nare choosing to stay single.\\xa0 But while you may see an individual\\xa0\\nwith individual choices, the Chinese\\xa0\\xa0 Communist Party sees a baby making factory.\\xa0 And production is falling behind. According to official numbers,\\xa0\\xa0 even after the end of the one-Child\\xa0\\npolicy, birth rates continued to drop. In 2012, there were 16 million births.\\xa0\\xa0 Just a decade later that number\\xa0\\nfell to less than 10 million. The Wall Street Journal says, “China is headed\\xa0\\ntoward a demographic collapse. China’s population,\\xa0\\xa0 now around 1.4 billion, is likely to drop\\xa0\\nto just around half a billion by 2100,\\xa0\\xa0 according to some projections.\\xa0\\nWomen are taking the blame.” The Party saw this coming—that’s why it ended the\\xa0\\nOne Child policy, first allowing people to have\\xa0\\xa0 two, then three kids. Yes, they still haven’t\\xa0\\ngiven up control, they just allow three kids. But so the Party prepared for a huge baby boom. But people didn’t bite.\\xa0 “New maternity wards were built\\xa0\\nonly to close a few years later.” “Sales of baby-care products, including\\xa0\\nformula and diapers, have dropped.” “Businesses that focused on\\xa0\\nbabies now target seniors.”\\xa0 New preschools built to make\\xa0\\nchild-rearing more affordable\\xa0\\xa0 struggle to fill classrooms and many have closed.” So this is a problem. But the solution is just a little bit of Communist\\xa0\\nParty intervention in people’s lives! I mean,\\xa0\\xa0 a decade ago they were forcing women to\\xa0\\nhave abortions and sterilizations. So\\xa0\\xa0 what’s wrong with doing a complete 180\\xa0\\nand encouraging a little baby making? Xi Jinping has been talking about the need to,\\xa0\\n“actively cultivate a new culture of marriage\\xa0\\xa0 and childbearing and strengthen guidance on young\\xa0\\npeople's view on marriage, childbirth and family.” You see young people might have the wrong views,\\xa0\\xa0 so they need the Communist Party to\\xa0\\nguide them to the right thinking. Chinese Premier Li Qiang has being talking\\xa0\\nabout, “working towards a birth-friendly society”\\xa0 Xi even gave a speech at the\\xa0\\nAll-China Women’s Federation,\\xa0\\xa0 the Chinese Communist Party’s\\xa0\\nofficial feminist organization.\\xa0 Yes. Let that sink in. According to an official print out of his speech Xi said told the feminist organization to\\xa0\\n“prevent and resolve risks in the women’s field.” What does that mean? Well according to Clyde\\xa0\\nYicheng Wang, an assistant professor of\\xa0\\xa0 politics at Washington and Lee University\\xa0\\nwho studies Chinese government propaganda “It’s clear that he was not\\xa0\\ntalking about risks faced by\\xa0\\xa0 women but considering women as a\\xa0\\nmajor threat to social stability.” That could be why the All-China Women’s\\xa0\\nFederation—again, China’s official feminist\\xa0\\xa0 organization—coined the term leftover women,\\xa0\\xa0 women who didn’t get married before\\xa0\\nthe age of 27 and now are too old Here’s something they wrote in March 2011,\\xa0\\nright after International Women’s Day: Pretty girls don’t need a lot of education\\xa0\\nto marry into a rich and powerful family,\\xa0\\xa0 but girls with an average or ugly appearance\\xa0\\nwill find it difficult. These kinds of girls\\xa0\\xa0 hope to further their education in order to\\xa0\\nincrease their competitiveness. The tragedy is,\\xa0\\xa0 they don’t realize that as women\\xa0\\nage, they are worth less and less,\\xa0\\xa0 so by the time they get their M.A. or Ph.D.,\\xa0\\nthey are already old, like yellowed pearls. CHINA’S OFFICIAL FEMINIST ORGANIZATION. But the Communist Party is\\xa0\\ntaking more direct action.\\xa0 For instance, government-organized\\xa0\\nmatchmaking events. And government\\xa0\\xa0 Valentine Day messages such\\xa0\\nas, “Wishing you sweet love\\xa0\\xa0 and marriage at an appropriate age.\\xa0\\nLet’s extend the Chinese bloodline.” If that doesn’t get you in the\\xa0\\nmood, I don’t know what will! Though people apparently\\xa0\\ndidn’t respond well to that. “The message drew a backlash on social\\xa0\\nmedia. ‘My mother-in-law doesn’t even\\xa0\\xa0 push me to have a second child,’\\xa0\\none person wrote. ‘I guess next,\\xa0\\xa0 arranged marriages will come\\xa0\\nback,’ another commented.” You know…I wouldn’t be surprised. Remember,\\xa0\\xa0 the CCP forced women to have\\xa0\\nabortions and sterilizations.\\xa0 We may already be seeing the beginning of that. “In 2021, the city of Luanzhou asked\\xa0\\nunmarried people to sign up for a\\xa0\\xa0 government-sponsored dating initiative that\\xa0\\nuses big data to find matches citywide.” If birthrates don’t go up, what do you\\xa0\\nthink the CCP will do with that data? Now as I mentioned earlier, people have\\xa0\\nbeen posting on Chinese social media\\xa0\\xa0 about singleism. And there’s\\xa0\\nalready a crackdown on that. The All-China Women’s Federation is\\xa0\\nactively preventing gender related\\xa0\\xa0 topics from going viral. In fact, they\\xa0\\n“paid more to a tech company to police\\xa0\\xa0 social-media comments than its\\xa0\\nbudget for women’s advocacy.” CHINA’S OFFICIAL FEMINIST ORGANIZATION. And China’s official internet watchdog\\xa0\\nis policing content that they say is,\\xa0\\xa0 “spreading wrong values…and spreading\\xa0\\nincorrect views on marriage and relationships,\\xa0\\xa0 and deliberately creating gender opposition.” Yes, by saying women have a choice\\xa0\\nin getting married and having kids. Again, keep in mind that just a few years ago,\\xa0\\nwomen having a second child had to run and\\xa0\\xa0 hide from the government lest they murder their\\xa0\\nchild and force the parents to pay huge fines.\\xa0 That would make me want to lie flat too The Chinese Communist Party would love to keep all\\xa0\\xa0 this underwraps. That’s why\\xa0\\nthey hate China Uncensored.\\xa0 They even wrote about me in state-run\\xa0\\nmedia, calling China Uncensored\\xa0\\xa0 “disgraceful anti-China garbage.”\\nBut with YouTube suppressing the show,\\xa0\\xa0 I can’t afford to keep making China Uncensored.\\xa0\\nMaking the show and paying my staff isn’t cheap,\\xa0\\xa0 and the CCP would love it if\\xa0\\nI had to shut down the show.\\xa0 That’s why I need your help. All it takes is a dollar or more an\\xa0\\nepisode on patreon.com/chinauncensored. I make about 16 episodes a month,\\xa0\\nbut if that’s too much for you, You can set a monthly limit. So you could ensure\\xa0\\xa0 I can keep uncensoring China\\xa0\\nfor even a dollar a month. And as a thank you to everyone who\\xa0\\ngives on Patreon, I’l answer one\\xa0\\xa0 of your questions at the end of these episodes. Today’s question comes from, long time supporter\\xa0\\nJames Wallberg “Chris, When the CCP falls will\\xa0\\xa0 you still dislike Panda's? Do think the new\\xa0\\ngovernment would continue Panda Politics? Ahh, now that’s a great question.\\xa0\\nSo I have a running gag on the show\\xa0\\xa0 that I hate pandas. But also secretly love them. That joke comes from how the Party has\\xa0\\nused pandas—what’s actually called Panda\\xa0\\xa0 diplomacy. China may lend out pandas to\\xa0\\nother countries—and they aren’t cheap “A zoo will have spent $10\\xa0\\nmillion renting one panda.” And if they have babies? “China charges a cub tax of\\xa0\\n$400,000. And those little\\xa0\\xa0 cuties have to be shipped back\\xa0\\nto China when they turn three.” But say a country does something the CCP doesn’t\\xa0\\nlike. Then the Party will take back those pandas.\\xa0 Like when China took back a US panda because\\xa0\\nthen President Obama met with the Dalai Lama. So what happens if the CCP falls? Will\\xa0\\nI begrudgingly admit I love pandas and\\xa0\\xa0 their stupid cute adorable little faces? Let me put it this way. If I can call\\xa0\\na panda a fellow American, you bet.\\xa0 But as long as that black and white coat covers\\xa0\\na dirty red, then you can forget about it. Thanks for your question and again, your long\\xa0\\ntime support James. I loved that question. Join James in making the CCP furious by\\xa0\\nsupporting China Uncensored on Patreon,\\xa0\\xa0 just click on that orange button. And if you didn’t know I have a new gaming\\xa0\\nchannel called Gamers Unbeaten. Check out\\xa0\\xa0 the latest episode, a tribute to Akira Toriyama\\xa0\\nand Dragon Ball. Let me know what you think.\\xa0\\xa0 Once again I’m Chris Chappell, see you next time.\")]}\n"
     ]
    }
   ],
   "source": [
    "pprint(ask_youtube(\"https://www.youtube.com/watch?v=_uN0xp-5lBE\", \"왜 CCP가 비혼 여성을 싫어하는데?\"))"
   ]
  },
  {
   "cell_type": "code",
   "execution_count": null,
   "metadata": {},
   "outputs": [],
   "source": []
  }
 ],
 "metadata": {
  "kernelspec": {
   "display_name": "Python 3",
   "language": "python",
   "name": "python3"
  },
  "language_info": {
   "codemirror_mode": {
    "name": "ipython",
    "version": 3
   },
   "file_extension": ".py",
   "mimetype": "text/x-python",
   "name": "python",
   "nbconvert_exporter": "python",
   "pygments_lexer": "ipython3",
   "version": "3.11.6"
  }
 },
 "nbformat": 4,
 "nbformat_minor": 2
}
