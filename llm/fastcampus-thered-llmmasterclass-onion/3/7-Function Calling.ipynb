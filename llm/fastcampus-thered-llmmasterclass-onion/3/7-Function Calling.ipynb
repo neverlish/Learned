{
 "cells": [
  {
   "cell_type": "code",
   "execution_count": 3,
   "metadata": {},
   "outputs": [
    {
     "name": "stdout",
     "output_type": "stream",
     "text": [
      "{\n",
      "    \"color\": \"빨간(red)\"\n",
      "}\n"
     ]
    }
   ],
   "source": [
    "import openai\n",
    "\n",
    "client = openai.OpenAI()\n",
    "\n",
    "content = \"\"\"다음 문장에서 색깔 정보가 있으면 그것을 추출하여 영어로 번역하고 json 포맷으로 만들어서 출력해라.\n",
    "\n",
    "문장: \\\"나는 빨간사과가 좋더라\\\"\"\"\"\n",
    "\n",
    "response = client.chat.completions.create(\n",
    "  model=\"gpt-3.5-turbo-0125\",\n",
    "  messages=[\n",
    "    {\"role\": \"user\", \"content\": content}\n",
    "  ]\n",
    ")\n",
    "\n",
    "print(response.choices[0].message.content)\n"
   ]
  },
  {
   "cell_type": "code",
   "execution_count": 4,
   "metadata": {},
   "outputs": [
    {
     "name": "stdout",
     "output_type": "stream",
     "text": [
      "{\n",
      "  \"color\": \"인간적으로\",\n",
      "  \"translated\": \"humanely\"\n",
      "}\n"
     ]
    }
   ],
   "source": [
    "content = \"\"\"다음 문장에서 색깔 정보가 있으면 그것을 추출하여 영어로 번역하고 json 포맷으로 만들어서 출력해라.\n",
    "\n",
    "문장: \\\"아침에는 인간적으로 커피 한 잔 주고 뭐라 하자\\\"\"\"\"\n",
    "\n",
    "response = client.chat.completions.create(\n",
    "  model=\"gpt-3.5-turbo-0125\",\n",
    "  messages=[\n",
    "    {\"role\": \"user\", \"content\": content}\n",
    "  ]\n",
    ")\n",
    "\n",
    "print(response.choices[0].message.content)\n"
   ]
  },
  {
   "cell_type": "code",
   "execution_count": 5,
   "metadata": {},
   "outputs": [
    {
     "name": "stdout",
     "output_type": "stream",
     "text": [
      "{\n",
      "    \"color\": \"빨간(red)\"\n",
      "}\n"
     ]
    }
   ],
   "source": [
    "schema = {\n",
    "  \"$schema\": \"http://json-schema.org/draft-07/schema\",\n",
    "  \"type\": \"object\",\n",
    "  \"properties\": {\n",
    "    \"color\": {\n",
    "      \"type\": \"string\",\n",
    "    }\n",
    "  },\n",
    "  \"required\": [\"color\"]\n",
    "}\n",
    "\n",
    "content = \"\"\"다음 문장에서 색깔 정보가 있으면 그것을 추출하여 영어로 번역하고 json 포맷으로 만들어서 출력해라.\n",
    "\n",
    "문장: '나는 빨간 사과가 좋더라'\n",
    "\n",
    "json schema 정보는 다음과 같다: {schema}\n",
    "\n",
    "색깔 정보가 없으면 no color로 대신해라\n",
    "\"\"\"\n",
    "\n",
    "response = client.chat.completions.create(\n",
    "  model=\"gpt-3.5-turbo-0125\",\n",
    "  messages=[\n",
    "    {\"role\": \"user\", \"content\": content}\n",
    "  ]\n",
    ")\n",
    "\n",
    "print(response.choices[0].message.content)\n"
   ]
  },
  {
   "cell_type": "code",
   "execution_count": 6,
   "metadata": {},
   "outputs": [
    {
     "name": "stdout",
     "output_type": "stream",
     "text": [
      "ChatCompletionMessage(content=None, refusal=None, role='assistant', annotations=[], audio=None, function_call=FunctionCall(arguments='{\"color\":\"노란색\"}', name='color_extractor'), tool_calls=None)\n"
     ]
    }
   ],
   "source": [
    "response = client.chat.completions.create(\n",
    "  model=\"gpt-4o-mini\",\n",
    "  messages=[\n",
    "    {\"role\": \"user\", \"content\": '나는 노란색이 좋더라'}\n",
    "  ],\n",
    "  functions=[\n",
    "    {\n",
    "      \"name\": \"color_extractor\",\n",
    "      \"description\": \"사용자의 선호 색깔을 찾아서 영어로 번역하고 영어 단어를 출력함\",\n",
    "      \"parameters\": {\n",
    "        \"type\": \"object\",\n",
    "        \"properties\": {\n",
    "          \"color\": {\n",
    "            \"type\": \"string\",\n",
    "            \"description\": \"색깔 정보를 빼내와서 그에 해당하는 영어 단어를 출력함\"\n",
    "          }\n",
    "        },\n",
    "        \"required\": [\"color\"]\n",
    "      }\n",
    "    }\n",
    "  ]\n",
    ")\n",
    "\n",
    "print(response.choices[0].message)\n"
   ]
  },
  {
   "cell_type": "code",
   "execution_count": 7,
   "metadata": {},
   "outputs": [
    {
     "name": "stdout",
     "output_type": "stream",
     "text": [
      "{\"color\":\"노란색\"}\n"
     ]
    }
   ],
   "source": [
    "print(response.choices[0].message.function_call.arguments)"
   ]
  },
  {
   "cell_type": "code",
   "execution_count": 8,
   "metadata": {},
   "outputs": [
    {
     "name": "stdout",
     "output_type": "stream",
     "text": [
      "ChatCompletionMessage(content='퇴근 후에도 업무 관련 연락을 받는 건 정말 스트레스죠. 휴식 시간은 정말 소중한데, 그런 경우에는 \"현재 퇴근 중이라 후에 확인하겠습니다\" 라고 간단히 답장하는 것도 좋을 것 같아요. 이런 상황에서 어떻게 대응하면 좋을지 도움이 필요하시면 말씀해 주세요!', refusal=None, role='assistant', annotations=[], audio=None, function_call=None, tool_calls=None)\n"
     ]
    }
   ],
   "source": [
    "response = client.chat.completions.create(\n",
    "  model=\"gpt-4o-mini\",\n",
    "  messages=[\n",
    "    {\"role\": \"user\", \"content\": '퇴근했는데 업무 톡 날리는 양심 없는 인간'}\n",
    "  ],\n",
    "  functions=[\n",
    "    {\n",
    "      \"name\": \"color_extractor\",\n",
    "      \"description\": \"사용자의 선호 색깔을 찾아서 영어로 번역하고 영어 단어를 출력함\",\n",
    "      \"parameters\": {\n",
    "        \"type\": \"object\",\n",
    "        \"properties\": {\n",
    "          \"color\": {\n",
    "            \"type\": \"string\",\n",
    "            \"description\": \"색깔 정보를 빼내와서 그에 해당하는 영어 단어를 출력함\"\n",
    "          }\n",
    "        },\n",
    "        \"required\": [\"color\"]\n",
    "      }\n",
    "    }\n",
    "  ]\n",
    ")\n",
    "\n",
    "print(response.choices[0].message)\n"
   ]
  },
  {
   "cell_type": "code",
   "execution_count": 9,
   "metadata": {},
   "outputs": [
    {
     "name": "stdout",
     "output_type": "stream",
     "text": [
      "ChatCompletionMessage(content=None, refusal=None, role='assistant', annotations=[], audio=None, function_call=FunctionCall(arguments='{\"quantity1\":3,\"quantity2\":4}', name='apple_add'), tool_calls=None)\n"
     ]
    }
   ],
   "source": [
    "response = client.chat.completions.create(\n",
    "  model=\"gpt-4o-mini\",\n",
    "  messages=[\n",
    "    {\"role\": \"user\", \"content\": '아침에 세 개 저녁에 네 개'}\n",
    "  ],\n",
    "  functions=[\n",
    "    {\n",
    "      \"name\": \"apple_add\",\n",
    "      \"description\": \"사과 숫자를 더함\",\n",
    "      \"parameters\": {\n",
    "        \"type\": \"object\",\n",
    "        \"properties\": {\n",
    "          \"quantity1\": {\n",
    "            \"type\": \"integer\",\n",
    "            \"description\": \"첫번째 숫자\"\n",
    "          },\n",
    "          \"quantity2\": {\n",
    "            \"type\": \"integer\",\n",
    "            \"description\": \"두번째 숫자\"\n",
    "          }\n",
    "        },\n",
    "        \"required\": [\"quantity1\", \"quantity2\"]\n",
    "      }\n",
    "    }\n",
    "  ],\n",
    "  function_call=\"auto\"\n",
    ")\n",
    "\n",
    "print(response.choices[0].message)\n"
   ]
  },
  {
   "cell_type": "code",
   "execution_count": 10,
   "metadata": {},
   "outputs": [
    {
     "name": "stdout",
     "output_type": "stream",
     "text": [
      "FunctionCall(arguments='{\"quantity1\":3,\"quantity2\":4}', name='apple_add')\n"
     ]
    }
   ],
   "source": [
    "def apple_add(q1, q2):\n",
    "  return str(q1 + q2)\n",
    "\n",
    "message = response.choices[0].message\n",
    "\n",
    "print(response.choices[0].message.function_call)\n",
    "\n",
    "\n"
   ]
  },
  {
   "cell_type": "code",
   "execution_count": 12,
   "metadata": {},
   "outputs": [
    {
     "name": "stdout",
     "output_type": "stream",
     "text": [
      "ChatCompletion(id='chatcmpl-BOPEvMJymuKivUNuEdV0sTTYrhKjc', choices=[Choice(finish_reason='function_call', index=0, logprobs=None, message=ChatCompletionMessage(content=None, refusal=None, role='assistant', annotations=[], audio=None, function_call=FunctionCall(arguments='{\"query\":\"George Clooney birthday\"}', name='duck_search'), tool_calls=None))], created=1745156593, model='gpt-4o-mini-2024-07-18', object='chat.completion', service_tier='default', system_fingerprint='fp_0392822090', usage=CompletionUsage(completion_tokens=19, prompt_tokens=76, total_tokens=95, completion_tokens_details=CompletionTokensDetails(accepted_prediction_tokens=0, audio_tokens=0, reasoning_tokens=0, rejected_prediction_tokens=0), prompt_tokens_details=PromptTokensDetails(audio_tokens=0, cached_tokens=0)))\n"
     ]
    }
   ],
   "source": [
    "from duckpy import Client\n",
    "\n",
    "duckduckgo_client = Client()\n",
    "\n",
    "def duck_search(query) -> str:\n",
    "  output = duckduckgo_client.search(query)\n",
    "  return str(output)\n",
    "\n",
    "completion = client.chat.completions.create(\n",
    "  model=\"gpt-4o-mini\",\n",
    "  temperature=0,\n",
    "  functions=[\n",
    "    {\n",
    "      \"name\": \"duck_search\",\n",
    "      \"description\": \"'Used to search online\",\n",
    "      \"parameters\": {\n",
    "        \"type\": \"object\",\n",
    "        \"properties\": {\n",
    "          \"query\": {\n",
    "            \"type\": \"string\",\n",
    "            \"description\": \"Translate the Korean content into English input query\"\n",
    "          }\n",
    "        },\n",
    "        \"required\": [\"query\"]\n",
    "      }\n",
    "    }\n",
    "  ],\n",
    "  messages=[\n",
    "    {\"role\": \"system\", \"content\": \"You must use `duck_search` function to get information\"},\n",
    "    {\"role\": \"user\", \"content\": \"조지 클루니 생일이 언제야?\"}\n",
    "  ]\n",
    ")\n",
    "\n",
    "print(completion)\n",
    "\n"
   ]
  },
  {
   "cell_type": "code",
   "execution_count": 15,
   "metadata": {},
   "outputs": [
    {
     "name": "stdout",
     "output_type": "stream",
     "text": [
      "{'query': 'George Clooney birthday'}\n",
      "[{'title': 'George Clooney - Wikipedia', 'description': 'George Timothy Clooney[2] (born May 6, 1961) is an American actor, filmmaker, and philanthropist. Known for his leading man roles on screen in both blockbuster and independent films, Clooney has received numerous accolades, including two Academy Awards, a BAFTA Award and four Golden Globe Awards as well as nominations for three Primetime Emmy Awards. His honors include the Cecil B. DeMille ...', 'url': 'https://en.wikipedia.org/wiki/George_Clooney'}, {'title': 'George Clooney: Biography, Actor, Oscar Winner', 'description': \"Oscar winner George Clooney is known for 'Syriana\\ufeff,' 'The Descendants,' and the 'Ocean's' franchise. Read about his movies, TV shows, kids, wife, and more.\", 'url': 'https://www.biography.com/actors/george-clooney'}, {'title': 'George Clooney - Age, Family, Bio | Famous Birthdays', 'description': \"George Clooney is a movie actor, director, writer, and producer who was born on May 6, 1961 in Lexington, KY. He has won an Oscar for Best Supporting Actor and starred in ER, Ocean's Eleven, and Catch-22.\", 'url': 'https://www.famousbirthdays.com/people/george-clooney.html'}, {'title': 'George Clooney - Biography - IMDb', 'description': 'George Clooney. Actor: Michael Clayton. George Timothy Clooney was born on May 6, 1961, in Lexington, Kentucky, to Nina Bruce (née Warren), a former beauty pageant queen, and Nick Clooney, a former anchorman and television host (who was also the brother of singer Rosemary Clooney). He has Irish, English, and German ancestry. Clooney spent most of his youth in Ohio and Kentucky, and graduated ...', 'url': 'https://www.imdb.com/name/nm0000123/bio/'}, {'title': 'George Clooney Turns 63: All About His Life Now - People.com', 'description': \"As George Clooney celebrates his 63rd birthday on Monday, May 6, PEOPLE dives into what the actor and director's life looks like now, both at home with wife Amal, and work with friend Brad Pitt.\", 'url': 'https://people.com/george-clooney-63rd-birthday-life-now-wife-amal-clooney-twins-reuniting-brad-pitt-8643809'}, {'title': 'George Clooney | Broadway, TV Shows, Movies, & Facts | Britannica', 'description': \"George Clooney is an American actor and filmmaker who was a popular leading man and a respected director and screenwriter. His movies included Three Kings (1999), O Brother, Where Art Thou? (2000), Ocean's Eleven (2001), Syriana (2005), Up in the Air (2009), The Descendants (2011), and Gravity (2013).\", 'url': 'https://www.britannica.com/biography/George-Clooney'}, {'title': 'George Clooney Birthday - National Today', 'description': 'George Clooney, born on May 6, 1961, is an American actor, director, producer, and screenwriter. He is well-known for his outstanding performances in the medical drama \"ER,\" as well as other top-performing movies like \"Ocean\\'s Eleven,\" \"Ocean\\'s Twelve,\" and \"Ocean\\'s Thirteen.\" He has won multiple awards for his acting, directing, and screenwriting skills. Clooney is a ...', 'url': 'https://nationaltoday.com/birthday/george-clooney/'}, {'title': 'George Clooney - Celebrity biography, zodiac sign and famous quotes', 'description': \"George Clooney's birthday and biography. Career: George Clooney is an American actor, director, producer who initially rose to fame for his role in the medical drama television series ER, which opened...\", 'url': 'https://www.thefamousbirthdays.com/people/george-clooney'}, {'title': 'George Clooney - Net Worth 2024, Age, Height, Bio, Birthday, Wiki ...', 'description': \"George Clooney: explore George Clooney's birthday, net worth 2024, birthday, height, age, bio, salary 2024, family life, fun trivia facts, popularity rankings, and more.\", 'url': 'https://celebrity-birthdays.com/people/george-clooney'}, {'title': \"George Clooney's birthday (May 6th, 1961) | Days Of The Year\", 'description': 'Learn about the life and achievements of George Clooney, a renowned actor and filmmaker, who was born on May 6, 1961 in Lexington, Kentucky. Find out his interesting facts, humanitarian work, and filmography on this web page.', 'url': 'https://www.daysoftheyear.com/birthdays/george-clooney/'}]\n",
      "조지 클루니의 생일은 1961년 5월 6일입니다.\n"
     ]
    }
   ],
   "source": [
    "message = completion.choices[0].message\n",
    "\n",
    "import ast\n",
    "\n",
    "if message.function_call:\n",
    "  function_name = message.function_call.name\n",
    "  args = ast.literal_eval(message.function_call.arguments)\n",
    "\n",
    "  function_response = duck_search(\n",
    "    query = args.get(\"query\")\n",
    "  )\n",
    "\n",
    "  print(function_response)\n",
    "\n",
    "  completion_final = client.chat.completions.create(\n",
    "    model=\"gpt-4o-mini\",\n",
    "    messages=[\n",
    "      {\"role\": \"user\", \"content\": '조지클루니 생일이 언제야'},\n",
    "      message,\n",
    "      {\n",
    "        \"role\": \"function\",\n",
    "        \"name\": function_name,\n",
    "        \"content\": function_response\n",
    "      }\n",
    "    ]\n",
    "  )\n",
    "\n",
    "  print(completion_final.choices[0].message.content)\n",
    "  "
   ]
  },
  {
   "cell_type": "code",
   "execution_count": 16,
   "metadata": {},
   "outputs": [
    {
     "name": "stdout",
     "output_type": "stream",
     "text": [
      "{\"response_up\":\"런던의 날씨가 좋지 않다고 하더라고요. 비가 오거나 흐린 날이 많아서 외출할 때 주의가 필요할 것 같습니다.\",\"response_down\":\"런던 날씨가 별로래. 비 오거나 흐린 날이 많아서 나가기 조심해야 할듯.\"}\n"
     ]
    }
   ],
   "source": [
    "example_user_input = \"런던 날씨가 안 좋다면서\"\n",
    "\n",
    "completion = client.chat.completions.create(\n",
    "  model=\"gpt-4o-mini\",\n",
    "  messages=[\n",
    "    {\"role\": \"user\", \"content\": example_user_input}\n",
    "  ],\n",
    "  functions=[\n",
    "    {\n",
    "      \"name\": \"get_different_responses\",\n",
    "      \"description\": \"답변을 여러가지 말투로 하기\",\n",
    "      \"parameters\": {\n",
    "        \"type\": \"object\",\n",
    "        \"properties\": {\n",
    "          \"response_up\": {\n",
    "            \"type\": \"string\",\n",
    "            \"description\": \"답변을 높임말로 바꿈\"\n",
    "          },\n",
    "          \"response_down\": {\n",
    "            \"type\": \"string\",\n",
    "            \"description\": \"답변을 반말루 바꿈\"\n",
    "          }\n",
    "        },\n",
    "        \"required\": [\"response_up\", \"response_down\"]\n",
    "      }\n",
    "    }\n",
    "  ],\n",
    "  function_call={\"name\": \"get_different_responses\"}\n",
    ")\n",
    "\n",
    "reply_content = completion.choices[0].message\n",
    "\n",
    "print(reply_content.function_call.arguments)"
   ]
  },
  {
   "cell_type": "code",
   "execution_count": null,
   "metadata": {},
   "outputs": [],
   "source": []
  }
 ],
 "metadata": {
  "kernelspec": {
   "display_name": "Python 3",
   "language": "python",
   "name": "python3"
  },
  "language_info": {
   "codemirror_mode": {
    "name": "ipython",
    "version": 3
   },
   "file_extension": ".py",
   "mimetype": "text/x-python",
   "name": "python",
   "nbconvert_exporter": "python",
   "pygments_lexer": "ipython3",
   "version": "3.11.6"
  }
 },
 "nbformat": 4,
 "nbformat_minor": 2
}
