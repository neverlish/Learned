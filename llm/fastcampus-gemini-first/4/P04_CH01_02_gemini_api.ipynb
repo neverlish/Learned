{
 "cells": [
  {
   "cell_type": "markdown",
   "id": "8e9ed572-b060-4de7-b572-7eb045fe8db0",
   "metadata": {},
   "source": [
    "# Gemini API 자연어 호출 사용하기"
   ]
  },
  {
   "cell_type": "markdown",
   "id": "a1d1fac5-a494-460e-a6a0-e135580d4531",
   "metadata": {
    "id": "wFNV1e3ASJha"
   },
   "source": [
    "### Install the Python SDK"
   ]
  },
  {
   "cell_type": "code",
   "execution_count": 1,
   "id": "9e26faa6-476f-4ed1-80d0-ef364b929e3f",
   "metadata": {
    "id": "9OEoeosRTv-5"
   },
   "outputs": [
    {
     "name": "stdout",
     "output_type": "stream",
     "text": [
      "\u001b[31mERROR: pip's dependency resolver does not currently take into account all the packages that are installed. This behaviour is the source of the following dependency conflicts.\n",
      "open-webui 0.5.16 requires chromadb==0.6.2, but you have chromadb 0.6.3 which is incompatible.\n",
      "open-webui 0.5.16 requires fastapi==0.115.7, but you have fastapi 0.115.9 which is incompatible.\n",
      "open-webui 0.5.16 requires google-generativeai==0.7.2, but you have google-generativeai 0.8.4 which is incompatible.\n",
      "open-webui 0.5.16 requires langchain==0.3.7, but you have langchain 0.3.23 which is incompatible.\n",
      "open-webui 0.5.16 requires langchain-community==0.3.7, but you have langchain-community 0.3.21 which is incompatible.\n",
      "open-webui 0.5.16 requires psycopg2-binary==2.9.9, but you have psycopg2-binary 2.9.10 which is incompatible.\n",
      "open-webui 0.5.16 requires pypdf==4.3.1, but you have pypdf 5.3.0 which is incompatible.\u001b[0m\u001b[31m\n",
      "\u001b[0m"
     ]
    }
   ],
   "source": [
    "!pip install -q -U google-generativeai"
   ]
  },
  {
   "cell_type": "markdown",
   "id": "bd1ad506-31b1-4601-b1ee-f73f31865a3d",
   "metadata": {
    "id": "KCFF5VSTbcAR"
   },
   "source": [
    "### Import packages & Helpers"
   ]
  },
  {
   "cell_type": "code",
   "execution_count": 2,
   "id": "b368e896-384c-47f5-bc1a-164e55a2f367",
   "metadata": {
    "id": "TS9l5igubpHO"
   },
   "outputs": [],
   "source": [
    "import pathlib\n",
    "import textwrap\n",
    "\n",
    "import google.generativeai as genai\n",
    "\n",
    "from IPython.display import display\n",
    "from IPython.display import Markdown\n",
    "\n",
    "# Helpers\n",
    "def to_markdown(text):\n",
    "  text = text.replace('•', '  *')\n",
    "  return Markdown(textwrap.indent(text, '> ', predicate=lambda _: True))"
   ]
  },
  {
   "cell_type": "markdown",
   "id": "7be39877-ae0c-4e2c-9f1e-55739f1c3334",
   "metadata": {
    "id": "gHYFrFPjSGNq"
   },
   "source": [
    "### Setup your API key\n",
    "\n",
    "<a class=\"button button-primary\" href=\"https://makersuite.google.com/app/apikey\" target=\"_blank\" rel=\"noopener noreferrer\">Get an API key</a>\n"
   ]
  },
  {
   "cell_type": "markdown",
   "id": "d0931946-5d73-40ff-a94d-9c1e249870f5",
   "metadata": {
    "id": "VmSlTHXxb5pV"
   },
   "source": [
    "GEMINI API를 설정하는 방법은 두가지가 있습니다.\n",
    "\n",
    "* `GOOGLE_API_KEY` 환경변수에 API KEY 등록하기\n",
    "* `genai.configure(api_key=...)`를 통해 API KEY 등록하기\n"
   ]
  },
  {
   "cell_type": "code",
   "execution_count": 3,
   "id": "eaa9e578-031c-4a9d-ba51-9456db131247",
   "metadata": {
    "id": "ab9ASynfcIZn"
   },
   "outputs": [],
   "source": [
    "# Or use `os.getenv('GOOGLE_API_KEY')` to fetch an environment variable.\n",
    "# GOOGLE_API_KEY=\"<YOUR GOOGLE API KEY>\"\n",
    "import os\n",
    "import google.generativeai as genai\n",
    "\n",
    "GOOGLE_API_KEY = os.getenv('GOOGLE_API_KEY')\n",
    "genai.configure(api_key=GOOGLE_API_KEY)"
   ]
  },
  {
   "cell_type": "markdown",
   "id": "46235c94-52ab-4ed8-a5fa-2e81152937ac",
   "metadata": {
    "id": "8ssbTMNVSMd-"
   },
   "source": [
    "## List models\n",
    "\n",
    "`list_models`를 사용하여 사용 가능한 제미니 모델을 확인 할 수 있습니다\n",
    "\n",
    "- `gemini-pro`: 텍스트 전용 프롬프트에 최적화됨.\n",
    "- `gemini-pro-vision`: 텍스트와 이미지 프롬프트에 최적화됨."
   ]
  },
  {
   "cell_type": "code",
   "execution_count": 4,
   "id": "1479783f-65dd-4566-9af1-6e8832e36f28",
   "metadata": {
    "id": "QvvWFy08e5c5"
   },
   "outputs": [
    {
     "name": "stdout",
     "output_type": "stream",
     "text": [
      "models/gemini-1.0-pro-vision-latest\n",
      "models/gemini-pro-vision\n",
      "models/gemini-1.5-pro-latest\n",
      "models/gemini-1.5-pro-001\n",
      "models/gemini-1.5-pro-002\n",
      "models/gemini-1.5-pro\n",
      "models/gemini-1.5-flash-latest\n",
      "models/gemini-1.5-flash-001\n",
      "models/gemini-1.5-flash-001-tuning\n",
      "models/gemini-1.5-flash\n",
      "models/gemini-1.5-flash-002\n",
      "models/gemini-1.5-flash-8b\n",
      "models/gemini-1.5-flash-8b-001\n",
      "models/gemini-1.5-flash-8b-latest\n",
      "models/gemini-1.5-flash-8b-exp-0827\n",
      "models/gemini-1.5-flash-8b-exp-0924\n",
      "models/gemini-2.5-pro-exp-03-25\n",
      "models/gemini-2.5-pro-preview-03-25\n",
      "models/gemini-2.0-flash-exp\n",
      "models/gemini-2.0-flash\n",
      "models/gemini-2.0-flash-001\n",
      "models/gemini-2.0-flash-exp-image-generation\n",
      "models/gemini-2.0-flash-lite-001\n",
      "models/gemini-2.0-flash-lite\n",
      "models/gemini-2.0-flash-lite-preview-02-05\n",
      "models/gemini-2.0-flash-lite-preview\n",
      "models/gemini-2.0-pro-exp\n",
      "models/gemini-2.0-pro-exp-02-05\n",
      "models/gemini-exp-1206\n",
      "models/gemini-2.0-flash-thinking-exp-01-21\n",
      "models/gemini-2.0-flash-thinking-exp\n",
      "models/gemini-2.0-flash-thinking-exp-1219\n",
      "models/learnlm-1.5-pro-experimental\n",
      "models/gemma-3-1b-it\n",
      "models/gemma-3-4b-it\n",
      "models/gemma-3-12b-it\n",
      "models/gemma-3-27b-it\n"
     ]
    }
   ],
   "source": [
    "for m in genai.list_models():\n",
    "  if 'generateContent' in m.supported_generation_methods:\n",
    "    print(m.name)"
   ]
  },
  {
   "cell_type": "markdown",
   "id": "f4515596-a145-48d2-a1cc-5c7497519dc7",
   "metadata": {
    "id": "FTl5NjtrhA0J"
   },
   "source": [
    "Note: 가능한 모델이나 rate limit은 [Gemini models](https://ai.google.dev/models/gemini)를 참조하세요. [rate limit increases](https://ai.google.dev/docs/increase_quota).에서 약식을 작성하면 rate limit 상향이 가능합니다."
   ]
  },
  {
   "cell_type": "markdown",
   "id": "0bd0a6f0-9d8b-4cc5-96c9-8e9f4dd4da80",
   "metadata": {
    "id": "LZfoK3I3hu6V"
   },
   "source": [
    "## 텍스트 생성하기\n"
   ]
  },
  {
   "cell_type": "code",
   "execution_count": 7,
   "id": "f01ca553-c492-4f5e-8fec-03a00e3faffa",
   "metadata": {
    "id": "2bcfnGEviwTI"
   },
   "outputs": [],
   "source": [
    "model = genai.GenerativeModel('gemini-1.5-pro')"
   ]
  },
  {
   "cell_type": "code",
   "execution_count": 8,
   "id": "8db6fc46-5381-4289-9efe-a4ae27249495",
   "metadata": {
    "id": "he-OfzBbhACQ",
    "outputId": "3f3c93a9-136f-4952-b56f-a898f934550c"
   },
   "outputs": [
    {
     "name": "stdout",
     "output_type": "stream",
     "text": [
      "CPU times: user 5.79 ms, sys: 4.6 ms, total: 10.4 ms\n",
      "Wall time: 8.94 s\n"
     ]
    }
   ],
   "source": [
    "%%time\n",
    "response = model.generate_content(\"인생의 의미가 뭐야?\")"
   ]
  },
  {
   "cell_type": "markdown",
   "id": "d55cac95-d385-48af-bfb2-ad4cfcf4c7d4",
   "metadata": {
    "id": "FbrR-n_qlpFd"
   },
   "source": [
    "In simple cases, the `response.text` accessor is all you need. To display formatted Markdown text, use the `to_markdown` function:"
   ]
  },
  {
   "cell_type": "code",
   "execution_count": 9,
   "id": "addadd54-76de-4172-97dc-d34820cf6e3d",
   "metadata": {},
   "outputs": [
    {
     "data": {
      "text/plain": [
       "response:\n",
       "GenerateContentResponse(\n",
       "    done=True,\n",
       "    iterator=None,\n",
       "    result=protos.GenerateContentResponse({\n",
       "      \"candidates\": [\n",
       "        {\n",
       "          \"content\": {\n",
       "            \"parts\": [\n",
       "              {\n",
       "                \"text\": \"\\uc778\\uc0dd\\uc758 \\uc758\\ubbf8\\ub294 \\uc8fc\\uad00\\uc801\\uc774\\uba70 \\ubcf4\\ud3b8\\uc801\\uc778 \\ub2f5\\uc740 \\uc5c6\\uc2b5\\ub2c8\\ub2e4. \\uac01 \\uac1c\\uc778\\uc774 \\uc790\\uc2e0\\uc758 \\uacbd\\ud5d8, \\uac00\\uce58\\uad00, \\uc2e0\\ub150\\uc744 \\ubc14\\ud0d5\\uc73c\\ub85c \\uc2a4\\uc2a4\\ub85c \\ucc3e\\uc544\\uac00\\ub294 \\uac83\\uc785\\ub2c8\\ub2e4. \\n\\n\\ub2e4\\ub9cc, \\ub2e4\\uc591\\ud55c \\uad00\\uc810\\uc5d0\\uc11c \\uc778\\uc0dd\\uc758 \\uc758\\ubbf8\\ub97c \\uc0dd\\uac01\\ud574 \\ubcfc \\uc218 \\uc788\\uc2b5\\ub2c8\\ub2e4:\\n\\n* **\\ucf8c\\ub77d\\uc8fc\\uc758:** \\uc990\\uac70\\uc6c0\\uacfc \\ud589\\ubcf5\\uc744 \\ucd94\\uad6c\\ud558\\ub294 \\uac83\\n* **\\uc774\\ud0c0\\uc8fc\\uc758:** \\ud0c0\\uc778\\uc5d0\\uac8c \\ubd09\\uc0ac\\ud558\\uace0 \\uc138\\uc0c1\\uc744 \\ub354 \\ub098\\uc740 \\uacf3\\uc73c\\ub85c \\ub9cc\\ub4dc\\ub294 \\uac83\\n* **\\uc790\\uc544\\uc2e4\\ud604:** \\uc790\\uc2e0\\uc758 \\uc7a0\\uc7ac\\ub825\\uc744 \\ucd5c\\ub300\\ud55c \\ubc1c\\ud718\\ud558\\uace0 \\uc131\\uc7a5\\ud558\\ub294 \\uac83\\n* **\\uc720\\uc758\\ubbf8\\ud55c \\uad00\\uacc4 \\ud615\\uc131:** \\uc0ac\\ub791\\ud558\\ub294 \\uc0ac\\ub78c\\ub4e4\\uacfc \\uae4a\\uc740 \\uc720\\ub300\\uac10\\uc744 \\uac16\\ub294 \\uac83\\n* **\\ucc3d\\uc870\\uc640 \\uae30\\uc5ec:** \\uc608\\uc220, \\uacfc\\ud559, \\uc0ac\\ud68c \\ub4f1 \\ub2e4\\uc591\\ud55c \\ubd84\\uc57c\\uc5d0\\uc11c \\uc0c8\\ub85c\\uc6b4 \\uac83\\uc744 \\ucc3d\\uc870\\ud558\\uace0 \\uae30\\uc5ec\\ud558\\ub294 \\uac83\\n* **\\uc601\\uc801 \\ud0d0\\uad6c:** \\uc0b6\\uc758 \\uadfc\\ubcf8\\uc801\\uc778 \\uc9c8\\ubb38\\uc5d0 \\ub300\\ud55c \\ub2f5\\uc744 \\ucc3e\\uace0 \\uc601\\uc801\\uc778 \\uc131\\uc7a5\\uc744 \\ucd94\\uad6c\\ud558\\ub294 \\uac83\\n* **\\uacbd\\ud5d8 \\ucd94\\uad6c:** \\ub2e4\\uc591\\ud55c \\uacbd\\ud5d8\\uc744 \\ud1b5\\ud574 \\uc138\\uc0c1\\uc744 \\ubc30\\uc6b0\\uace0 \\uc774\\ud574\\ud558\\ub294 \\uac83\\n* **\\ub2e8\\uc21c\\ud55c \\uc874\\uc7ac:** \\uc0b6 \\uadf8 \\uc790\\uccb4\\ub97c \\uc788\\ub294 \\uadf8\\ub300\\ub85c \\ubc1b\\uc544\\ub4e4\\uc774\\uace0 \\uac10\\uc0ac\\ud558\\ub294 \\uac83\\n\\n\\uc774 \\uc678\\uc5d0\\ub3c4 \\uc218\\ub9ce\\uc740 \\uad00\\uc810\\uc774 \\uc874\\uc7ac\\ud569\\ub2c8\\ub2e4. \\uc911\\uc694\\ud55c \\uac83\\uc740 \\uc790\\uc2e0\\uc5d0\\uac8c \\ub9de\\ub294 \\uc758\\ubbf8\\ub97c \\ucc3e\\uace0, \\uadf8\\uc5d0 \\ub530\\ub77c \\uc0b6\\uc744 \\uc0b4\\uc544\\uac00\\ub294 \\uac83\\uc785\\ub2c8\\ub2e4.  \\uc778\\uc0dd\\uc758 \\uc758\\ubbf8\\ub97c \\ucc3e\\ub294 \\uacfc\\uc815\\uc740 \\ub04a\\uc784\\uc5c6\\ub294 \\uc9c8\\ubb38\\uacfc \\uc131\\ucc30\\uc744 \\ud1b5\\ud574 \\uc774\\ub8e8\\uc5b4\\uc9d1\\ub2c8\\ub2e4.  \\uc2a4\\uc2a4\\ub85c\\uc5d0\\uac8c \\ub2e4\\uc74c\\uacfc \\uac19\\uc740 \\uc9c8\\ubb38\\uc744 \\ub358\\uc838\\ubcf4\\ub294 \\uac83\\uc774 \\ub3c4\\uc6c0\\uc774 \\ub420 \\uc218 \\uc788\\uc2b5\\ub2c8\\ub2e4.\\n\\n* \\ub098\\ub294 \\ubb34\\uc5c7\\uc744 \\ud560 \\ub54c \\uac00\\uc7a5 \\ud589\\ubcf5\\ud55c\\uac00?\\n* \\ub098\\uc5d0\\uac8c \\uac00\\uc7a5 \\uc911\\uc694\\ud55c \\uac00\\uce58\\ub294 \\ubb34\\uc5c7\\uc778\\uac00?\\n* \\ub098\\ub294 \\uc138\\uc0c1\\uc5d0 \\uc5b4\\ub5a4 \\uc601\\ud5a5\\uc744 \\uc8fc\\uace0 \\uc2f6\\uc740\\uac00?\\n* \\ub098\\uc758 \\uac15\\uc810\\uacfc \\uc7ac\\ub2a5\\uc740 \\ubb34\\uc5c7\\uc778\\uac00?\\n* \\ub098\\ub294 \\uc5b4\\ub5a4 \\uc0ac\\ub78c\\uc73c\\ub85c \\uae30\\uc5b5\\ub418\\uace0 \\uc2f6\\uc740\\uac00?\\n\\n\\uc774\\ub7ec\\ud55c \\uc9c8\\ubb38\\uc5d0 \\ub300\\ud55c \\ub2f5\\uc744 \\ucc3e\\uc544\\uac00\\ub294 \\uacfc\\uc815\\uc5d0\\uc11c \\uc790\\uc2e0\\ub9cc\\uc758 \\uc778\\uc0dd\\uc758 \\uc758\\ubbf8\\ub97c \\ubc1c\\uacac\\ud560 \\uc218 \\uc788\\uc744 \\uac83\\uc785\\ub2c8\\ub2e4.  \\uc815\\ub2f5\\uc740 \\uc5c6\\uc73c\\uba70, \\ub04a\\uc784\\uc5c6\\uc774 \\ubcc0\\ud654\\ud558\\uace0 \\ubc1c\\uc804\\ud560 \\uc218 \\uc788\\ub2e4\\ub294 \\uac83\\uc744 \\uae30\\uc5b5\\ud558\\uc138\\uc694.\\n\"\n",
       "              }\n",
       "            ],\n",
       "            \"role\": \"model\"\n",
       "          },\n",
       "          \"finish_reason\": \"STOP\",\n",
       "          \"avg_logprobs\": -0.1336074920289545\n",
       "        }\n",
       "      ],\n",
       "      \"usage_metadata\": {\n",
       "        \"prompt_token_count\": 9,\n",
       "        \"candidates_token_count\": 502,\n",
       "        \"total_token_count\": 511\n",
       "      },\n",
       "      \"model_version\": \"gemini-1.5-pro-002\"\n",
       "    }),\n",
       ")"
      ]
     },
     "execution_count": 9,
     "metadata": {},
     "output_type": "execute_result"
    }
   ],
   "source": [
    "response"
   ]
  },
  {
   "cell_type": "code",
   "execution_count": 10,
   "id": "3eea255f-b963-4cb3-83ce-7b88098a07e1",
   "metadata": {},
   "outputs": [
    {
     "data": {
      "text/plain": [
       "'인생의 의미는 주관적이며 보편적인 답은 없습니다. 각 개인이 자신의 경험, 가치관, 신념을 바탕으로 스스로 찾아가는 것입니다. \\n\\n다만, 다양한 관점에서 인생의 의미를 생각해 볼 수 있습니다:\\n\\n* **쾌락주의:** 즐거움과 행복을 추구하는 것\\n* **이타주의:** 타인에게 봉사하고 세상을 더 나은 곳으로 만드는 것\\n* **자아실현:** 자신의 잠재력을 최대한 발휘하고 성장하는 것\\n* **유의미한 관계 형성:** 사랑하는 사람들과 깊은 유대감을 갖는 것\\n* **창조와 기여:** 예술, 과학, 사회 등 다양한 분야에서 새로운 것을 창조하고 기여하는 것\\n* **영적 탐구:** 삶의 근본적인 질문에 대한 답을 찾고 영적인 성장을 추구하는 것\\n* **경험 추구:** 다양한 경험을 통해 세상을 배우고 이해하는 것\\n* **단순한 존재:** 삶 그 자체를 있는 그대로 받아들이고 감사하는 것\\n\\n이 외에도 수많은 관점이 존재합니다. 중요한 것은 자신에게 맞는 의미를 찾고, 그에 따라 삶을 살아가는 것입니다.  인생의 의미를 찾는 과정은 끊임없는 질문과 성찰을 통해 이루어집니다.  스스로에게 다음과 같은 질문을 던져보는 것이 도움이 될 수 있습니다.\\n\\n* 나는 무엇을 할 때 가장 행복한가?\\n* 나에게 가장 중요한 가치는 무엇인가?\\n* 나는 세상에 어떤 영향을 주고 싶은가?\\n* 나의 강점과 재능은 무엇인가?\\n* 나는 어떤 사람으로 기억되고 싶은가?\\n\\n이러한 질문에 대한 답을 찾아가는 과정에서 자신만의 인생의 의미를 발견할 수 있을 것입니다.  정답은 없으며, 끊임없이 변화하고 발전할 수 있다는 것을 기억하세요.\\n'"
      ]
     },
     "execution_count": 10,
     "metadata": {},
     "output_type": "execute_result"
    }
   ],
   "source": [
    "response.text"
   ]
  },
  {
   "cell_type": "code",
   "execution_count": 11,
   "id": "4e04646c-4111-4561-9e76-1977565afdc4",
   "metadata": {
    "id": "G-zBkueElVEO",
    "outputId": "3e521cc5-09b2-4368-d3b9-61b7aef02be4"
   },
   "outputs": [
    {
     "data": {
      "text/markdown": [
       "> 인생의 의미는 주관적이며 보편적인 답은 없습니다. 각 개인이 자신의 경험, 가치관, 신념을 바탕으로 스스로 찾아가는 것입니다. \n",
       "> \n",
       "> 다만, 다양한 관점에서 인생의 의미를 생각해 볼 수 있습니다:\n",
       "> \n",
       "> * **쾌락주의:** 즐거움과 행복을 추구하는 것\n",
       "> * **이타주의:** 타인에게 봉사하고 세상을 더 나은 곳으로 만드는 것\n",
       "> * **자아실현:** 자신의 잠재력을 최대한 발휘하고 성장하는 것\n",
       "> * **유의미한 관계 형성:** 사랑하는 사람들과 깊은 유대감을 갖는 것\n",
       "> * **창조와 기여:** 예술, 과학, 사회 등 다양한 분야에서 새로운 것을 창조하고 기여하는 것\n",
       "> * **영적 탐구:** 삶의 근본적인 질문에 대한 답을 찾고 영적인 성장을 추구하는 것\n",
       "> * **경험 추구:** 다양한 경험을 통해 세상을 배우고 이해하는 것\n",
       "> * **단순한 존재:** 삶 그 자체를 있는 그대로 받아들이고 감사하는 것\n",
       "> \n",
       "> 이 외에도 수많은 관점이 존재합니다. 중요한 것은 자신에게 맞는 의미를 찾고, 그에 따라 삶을 살아가는 것입니다.  인생의 의미를 찾는 과정은 끊임없는 질문과 성찰을 통해 이루어집니다.  스스로에게 다음과 같은 질문을 던져보는 것이 도움이 될 수 있습니다.\n",
       "> \n",
       "> * 나는 무엇을 할 때 가장 행복한가?\n",
       "> * 나에게 가장 중요한 가치는 무엇인가?\n",
       "> * 나는 세상에 어떤 영향을 주고 싶은가?\n",
       "> * 나의 강점과 재능은 무엇인가?\n",
       "> * 나는 어떤 사람으로 기억되고 싶은가?\n",
       "> \n",
       "> 이러한 질문에 대한 답을 찾아가는 과정에서 자신만의 인생의 의미를 발견할 수 있을 것입니다.  정답은 없으며, 끊임없이 변화하고 발전할 수 있다는 것을 기억하세요.\n"
      ],
      "text/plain": [
       "<IPython.core.display.Markdown object>"
      ]
     },
     "execution_count": 11,
     "metadata": {},
     "output_type": "execute_result"
    }
   ],
   "source": [
    "to_markdown(response.text)"
   ]
  },
  {
   "cell_type": "markdown",
   "id": "b56b858c-ce38-4751-99dc-0ba9c10a7c50",
   "metadata": {
    "id": "UZPpoKMQoru8"
   },
   "source": [
    "만약 API가 실패한다면 `GenerateContentRespose.prompt_feedback`을 보면 Gemini의 어떤 정책을 어겻는지 확인 할 수 있습니다."
   ]
  },
  {
   "cell_type": "code",
   "execution_count": 12,
   "id": "8cfe648e-697a-4598-9d05-9735feb7c5ea",
   "metadata": {
    "id": "eIQdU8AGoraT",
    "outputId": "169ad02f-04d0-405c-f4bf-9d040dec4581"
   },
   "outputs": [
    {
     "data": {
      "text/plain": []
     },
     "execution_count": 12,
     "metadata": {},
     "output_type": "execute_result"
    }
   ],
   "source": [
    "response.prompt_feedback"
   ]
  },
  {
   "cell_type": "markdown",
   "id": "a67a56bc-1edf-4101-9264-ef01bb468640",
   "metadata": {
    "id": "BEJupEDUo6Xj"
   },
   "source": [
    "Gemini는 하나의 프롬프트에 대해 여러 개의 가능한 응답을 생성할 수 있습니다. 이러한 가능한 응답을 `candidates`라고 하며, 이를 검토하여 가장 적합한 응답을 선택할 수 있습니다.\n",
    "\n",
    "`GenerateContentResponse.candidates`로 응답 후보를 볼 수 있습니다:"
   ]
  },
  {
   "cell_type": "code",
   "execution_count": 13,
   "id": "05283ed4-b984-4b57-90b9-1c0acef0ce01",
   "metadata": {
    "id": "QoGYz-I7o5wF",
    "outputId": "7ce8cc95-0726-40aa-8feb-693481022120"
   },
   "outputs": [
    {
     "data": {
      "text/plain": [
       "[content {\n",
       "  parts {\n",
       "    text: \"인생의 의미는 주관적이며 보편적인 답은 없습니다. 각 개인이 자신의 경험, 가치관, 신념을 바탕으로 스스로 찾아가는 것입니다. \\n\\n다만, 다양한 관점에서 인생의 의미를 생각해 볼 수 있습니다:\\n\\n* **쾌락주의:** 즐거움과 행복을 추구하는 것\\n* **이타주의:** 타인에게 봉사하고 세상을 더 나은 곳으로 만드는 것\\n* **자아실현:** 자신의 잠재력을 최대한 발휘하고 성장하는 것\\n* **유의미한 관계 형성:** 사랑하는 사람들과 깊은 유대감을 갖는 것\\n* **창조와 기여:** 예술, 과학, 사회 등 다양한 분야에서 새로운 것을 창조하고 기여하는 것\\n* **영적 탐구:** 삶의 근본적인 질문에 대한 답을 찾고 영적인 성장을 추구하는 것\\n* **경험 추구:** 다양한 경험을 통해 세상을 배우고 이해하는 것\\n* **단순한 존재:** 삶 그 자체를 있는 그대로 받아들이고 감사하는 것\\n\\n이 외에도 수많은 관점이 존재합니다. 중요한 것은 자신에게 맞는 의미를 찾고, 그에 따라 삶을 살아가는 것입니다.  인생의 의미를 찾는 과정은 끊임없는 질문과 성찰을 통해 이루어집니다.  스스로에게 다음과 같은 질문을 던져보는 것이 도움이 될 수 있습니다.\\n\\n* 나는 무엇을 할 때 가장 행복한가?\\n* 나에게 가장 중요한 가치는 무엇인가?\\n* 나는 세상에 어떤 영향을 주고 싶은가?\\n* 나의 강점과 재능은 무엇인가?\\n* 나는 어떤 사람으로 기억되고 싶은가?\\n\\n이러한 질문에 대한 답을 찾아가는 과정에서 자신만의 인생의 의미를 발견할 수 있을 것입니다.  정답은 없으며, 끊임없이 변화하고 발전할 수 있다는 것을 기억하세요.\\n\"\n",
       "  }\n",
       "  role: \"model\"\n",
       "}\n",
       "finish_reason: STOP\n",
       "avg_logprobs: -0.1336074920289545\n",
       "]"
      ]
     },
     "execution_count": 13,
     "metadata": {},
     "output_type": "execute_result"
    }
   ],
   "source": [
    "response.candidates"
   ]
  },
  {
   "cell_type": "markdown",
   "id": "26ca8189-772e-4d22-b37e-2e2f8b9c3435",
   "metadata": {},
   "source": [
    "## Generation Config"
   ]
  },
  {
   "cell_type": "code",
   "execution_count": 14,
   "id": "fc04a9c5-73c6-4743-bc93-2e4e63e58f4d",
   "metadata": {},
   "outputs": [],
   "source": [
    "# Set up the model\n",
    "generation_config = {\n",
    "  \"temperature\": 0.9,\n",
    "  \"max_output_tokens\": 512,\n",
    "}"
   ]
  },
  {
   "cell_type": "code",
   "execution_count": 15,
   "id": "ea8d5eb8-c697-42c3-bd6e-204fcd2b1e6b",
   "metadata": {},
   "outputs": [
    {
     "name": "stdout",
     "output_type": "stream",
     "text": [
      "CPU times: user 6.53 ms, sys: 5.38 ms, total: 11.9 ms\n",
      "Wall time: 8.95 s\n"
     ]
    }
   ],
   "source": [
    "%%time\n",
    "response = model.generate_content(\"인생의 의미가 뭐야?\", generation_config=generation_config)"
   ]
  },
  {
   "cell_type": "code",
   "execution_count": 16,
   "id": "a93312a5-75b4-413f-9929-396a32d63891",
   "metadata": {},
   "outputs": [
    {
     "data": {
      "text/markdown": [
       "> 인생의 의미는 매우 주관적인 질문이며, 정해진 답은 없습니다. 각 개인이 자신의 경험, 가치관, 신념에 따라 의미를 찾아가는 여정이라고 할 수 있습니다. \n",
       "> \n",
       "> 다음은 사람들이 인생의 의미를 찾는 다양한 관점의 예시입니다:\n",
       "> \n",
       "> * **행복 추구:**  즐거움, 만족감, 성취감 등을 통해 행복을 느끼는 것.\n",
       "> * **관계 맺기:** 사랑하는 사람들과의 유대감, 소속감, 공동체 의식을 통해 의미를 찾는 것.\n",
       "> * **성장과 발전:** 지식, 기술, 인격 등을 계속해서 발전시키고 성장하는 것.\n",
       "> * **기여와 봉사:** 사회에 공헌하고 타인을 돕는 것을 통해 의미를 찾는 것.\n",
       "> * **창조와 표현:** 예술, 학문, 사업 등을 통해 자신의 창의성을 발휘하고 표현하는 것.\n",
       "> * **경험과 탐험:** 새로운 경험을 하고 세상을 탐험하며 자신을 발견하는 것.\n",
       "> * **유산 남기기:** 후대에 영향을 미치거나 기억될 만한 업적을 남기는 것.\n",
       "> * **영적 깨달음:** 종교, 철학, 명상 등을 통해 삶의 본질을 탐구하고 깨달음을 얻는 것.\n",
       "> \n",
       "> 중요한 것은 이러한 관점 중 하나를 선택하거나 모두를 포괄하는 것이 아니라, **자신에게 맞는 의미를 찾는 것**입니다. 스스로에게 질문하고, 경험하고, 성찰하는 과정을 통해 자신만의 답을 찾아가는 것이 인생의 여정일 것입니다.\n",
       "> \n",
       "> 인생의 의미를 찾는 데 어려움을 느낀다면, 다음과 같은 방법을 시도해 볼 수 있습니다:\n",
       "> \n",
       "> * **자신의 가치관과 신념을 탐구하기:** 무엇이 나에게 중요한지, 어떤 삶을 살고 싶은지 생각해보세요.\n",
       "> * **다양한 경험을 해보기:** 새로운 활동, 취미, 사람들을 만나면서 자신에게 맞는 것을"
      ],
      "text/plain": [
       "<IPython.core.display.Markdown object>"
      ]
     },
     "execution_count": 16,
     "metadata": {},
     "output_type": "execute_result"
    }
   ],
   "source": [
    "to_markdown(response.text)"
   ]
  },
  {
   "cell_type": "markdown",
   "id": "fd85f6d7-e4e4-4239-a1f6-065407f4a968",
   "metadata": {},
   "source": [
    "## Streaming"
   ]
  },
  {
   "cell_type": "markdown",
   "id": "23226589-aeda-470f-ad1d-c51c6637c091",
   "metadata": {
    "id": "EJrwllLnHlBb"
   },
   "source": [
    "기본적으로 모델은 전체 생성 프로세스를 완료한 후 응답을 반환합니다. 또한 응답이 생성되는 동안 응답을 스트리밍할 수 있으며, 모델은 응답이 생성되는 즉시 청크를 반환합니다.\n",
    "\n",
    "응답을 스트리밍하려면 `GenerativeModel.generate_content(..., stream=True)`를 사용합니다."
   ]
  },
  {
   "cell_type": "code",
   "execution_count": 17,
   "id": "71503a3b-1cde-4bc3-bc5f-cb6c92c14770",
   "metadata": {
    "id": "Z7n59b3hHo6-",
    "outputId": "68af1dd2-33ad-4b87-c036-8ac539072f4f"
   },
   "outputs": [
    {
     "name": "stdout",
     "output_type": "stream",
     "text": [
      "CPU times: user 3.35 ms, sys: 2.86 ms, total: 6.21 ms\n",
      "Wall time: 660 ms\n"
     ]
    }
   ],
   "source": [
    "%%time\n",
    "response = model.generate_content(\"인생의 의미가 뭐야?\", stream=True)"
   ]
  },
  {
   "cell_type": "code",
   "execution_count": 18,
   "id": "ecb9a329-c570-405f-8d74-023df90b2391",
   "metadata": {
    "id": "2jt0d0GCIUhg",
    "outputId": "e3ebbbe7-2604-4cde-f0ce-3e56ed45b8bd"
   },
   "outputs": [
    {
     "name": "stdout",
     "output_type": "stream",
     "text": [
      "인\n",
      "________________________________________________________________________________\n",
      "생의 의미\n",
      "________________________________________________________________________________\n",
      "는 개인마다 다르고, 정해진 답은 없습니다.\n",
      "________________________________________________________________________________\n",
      " 어떤 사람에게는 행복을 추구하는 것이 인생의 의미\n",
      "________________________________________________________________________________\n",
      "일 수 있고, 다른 사람에게는 업적을 남기는 것이 중요할 수도 있습니다. 또 어떤 사람들은 사랑, 지식,\n",
      "________________________________________________________________________________\n",
      " 성장, 봉사 등을 인생의 의미로 여길 수도 있습니다.\n",
      "\n",
      "다음은 인생의 의미를 찾는 데 도움이\n",
      "________________________________________________________________________________\n",
      " 될 수 있는 몇 가지 관점입니다.\n",
      "\n",
      "* **내면의 목소리에 귀 기울이기:** 자신에게 진정으로 중요한 가치는 무엇인지, 무엇을 할 때 가장 행복\n",
      "________________________________________________________________________________\n",
      "하고 만족감을 느끼는지 스스로에게 질문해 보세요. 명상, 일기 쓰기 등이 도움이 될 수 있습니다.\n",
      "* **다양한 경험:** 새로운 것을 배우고\n",
      "________________________________________________________________________________\n",
      " 경험하면서 자신이 진정으로 원하는 것이 무엇인지 발견할 수 있습니다. 여행, 독서, 새로운 사람들과의 만남 등을 통해 시야를 넓혀보세요.\n",
      "* **타인과의 관계:** 사랑하는 사람들과의 관계를 통해\n",
      "________________________________________________________________________________\n",
      " 삶의 의미와 기쁨을 찾을 수 있습니다. 가족, 친구, 연인 등 주변 사람들과의 관계를 소중히 여기세요.\n",
      "* **세상에 기여하기:** 다른 사람을 돕거나 세상에 긍정적인 영향을 주는\n",
      "________________________________________________________________________________\n",
      " 것은 삶에 의미를 부여할 수 있습니다. 봉사활동, 재능 기부 등을 통해 세상에 기여하는 방법을 찾아보세요.\n",
      "* **개인적인 성장:** 끊임없이 배우고 성장하는 것은 삶을 풍요롭게\n",
      "________________________________________________________________________________\n",
      " 만들어줍니다. 새로운 기술을 배우거나, 자신의 약점을 극복하기 위해 노력하는 과정에서 성취감을 느낄 수 있습니다.\n",
      "* **현재 순간에 집중하기:** 과거에 대한 후회나 미래에 대한 걱정보다는 현재\n",
      "________________________________________________________________________________\n",
      "에 충실하며 삶의 작은 기쁨을 발견하는 것이 중요합니다.\n",
      "\n",
      "인생의 의미는 정해진 답이 없기 때문에 스스로 찾아가는 과정이 중요합니다. 끊임없이 질문하고, 탐구하고, 경험하면서\n",
      "________________________________________________________________________________\n",
      " 자신만의 답을 찾아가세요.  그리고 그 답은 시간이 지남에 따라 변할 수 있다는 것도 기억하세요. 중요한 것은 삶의 여정을 즐기고 의미를 부여하려는 노력 자체입니다.\n",
      "\n",
      "________________________________________________________________________________\n"
     ]
    }
   ],
   "source": [
    "for chunk in response:\n",
    "  print(chunk.text)\n",
    "  print(\"_\"*80)"
   ]
  },
  {
   "cell_type": "markdown",
   "id": "7c72dc9a-9ffc-4602-bb32-13f6d2874f7c",
   "metadata": {
    "id": "zsIZmCYVTDHD"
   },
   "source": [
    "## Chat conversations\n",
    "\n",
    "Gemini를 사용하면 여러 차례에 걸쳐 자유로운 형식의 대화를 할 수 있습니다. ChatSession 클래스는 대화의 상태를 관리하여 프로세스를 간소화하므로 generate_content와 달리 대화 기록을 목록으로 저장할 필요가 없습니다."
   ]
  },
  {
   "cell_type": "code",
   "execution_count": 19,
   "id": "cdb58e41-d999-4370-b97c-dfac81ddbb3d",
   "metadata": {
    "id": "y8B9Mwo-TCr2",
    "outputId": "38fa3da1-0b49-4fa7-c355-2a6273d584ec"
   },
   "outputs": [
    {
     "data": {
      "text/plain": [
       "ChatSession(\n",
       "    model=genai.GenerativeModel(\n",
       "        model_name='models/gemini-1.5-pro',\n",
       "        generation_config={},\n",
       "        safety_settings={},\n",
       "        tools=None,\n",
       "        system_instruction=None,\n",
       "        cached_content=None\n",
       "    ),\n",
       "    history=[]\n",
       ")"
      ]
     },
     "execution_count": 19,
     "metadata": {},
     "output_type": "execute_result"
    }
   ],
   "source": [
    "model = genai.GenerativeModel('gemini-1.5-pro')\n",
    "chat = model.start_chat(history=[])\n",
    "chat"
   ]
  },
  {
   "cell_type": "markdown",
   "id": "980b0913-fa6b-44e6-b9ec-1631b333195c",
   "metadata": {
    "id": "88Il02N-km9j"
   },
   "source": [
    "Note: `gemini-pro-vision`은 멀티턴 챗에 최적화되진 않았습니다."
   ]
  },
  {
   "cell_type": "markdown",
   "id": "ba16eb45-3c74-4e23-a95f-ddf748155314",
   "metadata": {
    "id": "5odluV7kKbgr"
   },
   "source": [
    "`ChatSession.send_message` 메서드는 `GenerativeModel.generate_content`와 동일한 `GenerateContentResponse` 유형을 반환합니다. 또한 메시지와 응답을 채팅 기록에 추가합니다:"
   ]
  },
  {
   "cell_type": "code",
   "execution_count": 20,
   "id": "088eb8ae-5066-4f0d-bf7d-a533f7af20bb",
   "metadata": {
    "id": "b72zbOEjKRxP",
    "outputId": "587f8b4c-8f0c-41c7-a1a1-07d126765ced"
   },
   "outputs": [
    {
     "data": {
      "text/markdown": [
       "> 컴퓨터는 여러 가지 일을 하도록 지시하는 일련의 지침을 따르는 아주 빠른 계산기입니다.\n"
      ],
      "text/plain": [
       "<IPython.core.display.Markdown object>"
      ]
     },
     "execution_count": 20,
     "metadata": {},
     "output_type": "execute_result"
    }
   ],
   "source": [
    "response = chat.send_message(\"어린 아이에게 컴퓨터가 어떻게 작동하는지 한 문장으로 설명해줘\")\n",
    "to_markdown(response.text)"
   ]
  },
  {
   "cell_type": "code",
   "execution_count": 25,
   "id": "fa81d0ad-e1d7-4931-beaf-08b2ab10a142",
   "metadata": {
    "id": "5-5HS2bTOTU9",
    "outputId": "d0a95077-b459-4a88-b8ca-37d8353a2c57"
   },
   "outputs": [
    {
     "data": {
      "text/plain": [
       "[parts {\n",
       "   text: \"어린 아이에게 컴퓨터가 어떻게 작동하는지 한 문장으로 설명해줘\"\n",
       " }\n",
       " role: \"user\",\n",
       " parts {\n",
       "   text: \"컴퓨터는 사람들에게 게임을 하고, 책을 읽고, 그림을 그리고, 노래를 부르는 것을 도와주는 전자 머신이다.\"\n",
       " }\n",
       " role: \"model\"]"
      ]
     },
     "execution_count": 25,
     "metadata": {},
     "output_type": "execute_result"
    }
   ],
   "source": [
    "chat.history"
   ]
  },
  {
   "cell_type": "markdown",
   "id": "39efffd3-8c8e-4a04-baa1-186bf558d638",
   "metadata": {
    "id": "7JaiFSIvOcVb"
   },
   "source": [
    "You can keep sending messages to continue the conversation. Use the `stream=True` argument to stream the chat:"
   ]
  },
  {
   "cell_type": "code",
   "execution_count": 21,
   "id": "92513e35-15dc-424e-840f-50a1e823293e",
   "metadata": {
    "id": "Vxku7mzSObfZ",
    "outputId": "214b1054-a4d5-4067-8ded-e599b9c2d597"
   },
   "outputs": [
    {
     "name": "stdout",
     "output_type": "stream",
     "text": [
      "컴\n",
      "________________________________________________________________________________\n",
      "퓨터는\n",
      "________________________________________________________________________________\n",
      " 사용자가 제공하는 입력을 받아들여 미리 정의된 지침\n",
      "________________________________________________________________________________\n",
      "(프로그램) 세트에 따라 처리한 다음 출력을 생성하는 복잡한\n",
      "________________________________________________________________________________\n",
      " 기계입니다. 본질적으로 컴퓨터는 정보를 비트(0 또는 1) 형태로 저장하고 처리합니다. 이러한\n",
      "________________________________________________________________________________\n",
      " 비트는 여러 구성 요소 간에 정보를 전달하기 위해 전기 신호를 통해 조작됩니다.\n",
      "\n",
      "컴퓨터의 중심\n",
      "________________________________________________________________________________\n",
      "에는 정보 처리를 처리하는 중앙 처리 장치(CPU)가 있습니다. CPU는 컴퓨터의 기본 작업 메모리인 RAM(Random Access Memory)과 밀접하게 연동하여 작동합니다.\n",
      "________________________________________________________________________________\n",
      " RAM은 CPU가 현재 작업 중인 프로그램과 데이터를 저장합니다. 하드 드라이브 또는 SSD와 같은 보조 저장소 장치는 프로그램과 파일을 장기간 저장하는 데 사용됩니다.\n",
      "\n",
      "프로그램이 실행되면\n",
      "________________________________________________________________________________\n",
      " 해당 지침이 RAM에 로드되고 CPU에서 하나씩 가져와서 실행합니다. CPU는 산술 및 논리 연산, 데이터 이동 및 프로그램 흐름 제어를 수행할 수 있습니다. CPU는 마더보드를 통해 다른 구성 요소와 통신합니다.\n",
      "________________________________________________________________________________\n",
      " 마더보드는 모든 것을 연결하는 회로 기판입니다.\n",
      "\n",
      "입력 장치(예: 키보드 및 마우스)는 컴퓨터에 데이터를 입력할 수 있게 해주며, 출력 장치(예: 모니터 및 프린터)는 처리된\n",
      "________________________________________________________________________________\n",
      " 정보를 사용자에게 표시합니다. 주변 장치는 그래픽 카드, 사운드 카드, 네트워크 인터페이스와 같은 추가 기능을 제공합니다.\n",
      "\n",
      "소프트웨어, 운영 체제 및 응용 프로그램을 포함하여 컴퓨터가 하드웨어\n",
      "________________________________________________________________________________\n",
      "와 상호 작용하는 방식을 지정합니다. 운영 체제는 시스템 리소스를 관리하고 하드웨어와 소프트웨어 사이의 인터페이스 역할을 하는 반면, 응용 프로그램은 사용자가 특정 작업을 수행할 수 있게\n",
      "________________________________________________________________________________\n",
      " 해줍니다.\n",
      "\n",
      "요약하면 컴퓨터는 CPU, 메모리, 저장소, 입력/출력 장치 및 소프트웨어의 조정된 상호 작용을 통해 정보를 처리하고 다양한 작업을 수행하는 정교한 시스템입니다.\n",
      "\n",
      "________________________________________________________________________________\n"
     ]
    }
   ],
   "source": [
    "response = chat.send_message(\"고등학생 수준으로 설명해줘\", stream=True)\n",
    "\n",
    "for chunk in response:\n",
    "  print(chunk.text)\n",
    "  print(\"_\"*80)"
   ]
  },
  {
   "cell_type": "code",
   "execution_count": 22,
   "id": "8532494f-5020-4abb-885c-7c1133c3f20c",
   "metadata": {
    "id": "WvyTmbC2d0k3",
    "outputId": "b7a07ab1-508c-4630-be88-4ed1f70db9a8"
   },
   "outputs": [
    {
     "data": {
      "text/markdown": [
       "> **user**: 어린 아이에게 컴퓨터가 어떻게 작동하는지 한 문장으로 설명해줘"
      ],
      "text/plain": [
       "<IPython.core.display.Markdown object>"
      ]
     },
     "metadata": {},
     "output_type": "display_data"
    },
    {
     "data": {
      "text/markdown": [
       "> **model**: 컴퓨터는 여러 가지 일을 하도록 지시하는 일련의 지침을 따르는 아주 빠른 계산기입니다.\n"
      ],
      "text/plain": [
       "<IPython.core.display.Markdown object>"
      ]
     },
     "metadata": {},
     "output_type": "display_data"
    },
    {
     "data": {
      "text/markdown": [
       "> **user**: 고등학생 수준으로 설명해줘"
      ],
      "text/plain": [
       "<IPython.core.display.Markdown object>"
      ]
     },
     "metadata": {},
     "output_type": "display_data"
    },
    {
     "data": {
      "text/markdown": [
       "> **model**: 컴퓨터는 사용자가 제공하는 입력을 받아들여 미리 정의된 지침(프로그램) 세트에 따라 처리한 다음 출력을 생성하는 복잡한 기계입니다. 본질적으로 컴퓨터는 정보를 비트(0 또는 1) 형태로 저장하고 처리합니다. 이러한 비트는 여러 구성 요소 간에 정보를 전달하기 위해 전기 신호를 통해 조작됩니다.\n",
       "> \n",
       "> 컴퓨터의 중심에는 정보 처리를 처리하는 중앙 처리 장치(CPU)가 있습니다. CPU는 컴퓨터의 기본 작업 메모리인 RAM(Random Access Memory)과 밀접하게 연동하여 작동합니다. RAM은 CPU가 현재 작업 중인 프로그램과 데이터를 저장합니다. 하드 드라이브 또는 SSD와 같은 보조 저장소 장치는 프로그램과 파일을 장기간 저장하는 데 사용됩니다.\n",
       "> \n",
       "> 프로그램이 실행되면 해당 지침이 RAM에 로드되고 CPU에서 하나씩 가져와서 실행합니다. CPU는 산술 및 논리 연산, 데이터 이동 및 프로그램 흐름 제어를 수행할 수 있습니다. CPU는 마더보드를 통해 다른 구성 요소와 통신합니다. 마더보드는 모든 것을 연결하는 회로 기판입니다.\n",
       "> \n",
       "> 입력 장치(예: 키보드 및 마우스)는 컴퓨터에 데이터를 입력할 수 있게 해주며, 출력 장치(예: 모니터 및 프린터)는 처리된 정보를 사용자에게 표시합니다. 주변 장치는 그래픽 카드, 사운드 카드, 네트워크 인터페이스와 같은 추가 기능을 제공합니다.\n",
       "> \n",
       "> 소프트웨어, 운영 체제 및 응용 프로그램을 포함하여 컴퓨터가 하드웨어와 상호 작용하는 방식을 지정합니다. 운영 체제는 시스템 리소스를 관리하고 하드웨어와 소프트웨어 사이의 인터페이스 역할을 하는 반면, 응용 프로그램은 사용자가 특정 작업을 수행할 수 있게 해줍니다.\n",
       "> \n",
       "> 요약하면 컴퓨터는 CPU, 메모리, 저장소, 입력/출력 장치 및 소프트웨어의 조정된 상호 작용을 통해 정보를 처리하고 다양한 작업을 수행하는 정교한 시스템입니다.\n"
      ],
      "text/plain": [
       "<IPython.core.display.Markdown object>"
      ]
     },
     "metadata": {},
     "output_type": "display_data"
    }
   ],
   "source": [
    "for message in chat.history:\n",
    "  display(to_markdown(f'**{message.role}**: {message.parts[0].text}'))"
   ]
  },
  {
   "cell_type": "markdown",
   "id": "3a514c88-91b8-4eb5-986c-052cd5ad3094",
   "metadata": {
    "id": "AEgVOYu0pAr4"
   },
   "source": [
    "## Count tokens"
   ]
  },
  {
   "cell_type": "code",
   "execution_count": 23,
   "id": "1ca4b3b7-7fb9-41fa-ad49-f87de888b232",
   "metadata": {
    "id": "eLjBmPCLpElk",
    "outputId": "0f0b2047-a38f-4b8c-97f5-bf61010ecd91"
   },
   "outputs": [
    {
     "data": {
      "text/plain": [
       "total_tokens: 12"
      ]
     },
     "execution_count": 23,
     "metadata": {},
     "output_type": "execute_result"
    }
   ],
   "source": [
    "model.count_tokens(\"AI가 뭔지 한문장으로 말해줘\")"
   ]
  },
  {
   "cell_type": "markdown",
   "id": "3116a27f-477c-4028-b60c-fd18cb12094e",
   "metadata": {
    "id": "oM2_U8pmpHQA"
   },
   "source": [
    "마찬가지로 '채팅 세션ChatSession'의 `token_count'도 확인할 수 있습니다."
   ]
  },
  {
   "cell_type": "code",
   "execution_count": 24,
   "id": "370ef68e-71ed-4358-9f3c-aa4fd4037973",
   "metadata": {
    "id": "i0MUU4BZpG4_",
    "outputId": "c38832b2-719a-41e8-d87b-b3b038ce78f9"
   },
   "outputs": [
    {
     "data": {
      "text/plain": [
       "total_tokens: 593"
      ]
     },
     "execution_count": 24,
     "metadata": {},
     "output_type": "execute_result"
    }
   ],
   "source": [
    "model.count_tokens(chat.history)"
   ]
  },
  {
   "cell_type": "code",
   "execution_count": null,
   "id": "3d39c4f6-986f-44fe-9792-d73da7e683ae",
   "metadata": {},
   "outputs": [],
   "source": []
  }
 ],
 "metadata": {
  "kernelspec": {
   "display_name": "Python 3 (ipykernel)",
   "language": "python",
   "name": "python3"
  },
  "language_info": {
   "codemirror_mode": {
    "name": "ipython",
    "version": 3
   },
   "file_extension": ".py",
   "mimetype": "text/x-python",
   "name": "python",
   "nbconvert_exporter": "python",
   "pygments_lexer": "ipython3",
   "version": "3.11.6"
  }
 },
 "nbformat": 4,
 "nbformat_minor": 5
}
