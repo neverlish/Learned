{
 "cells": [
  {
   "cell_type": "markdown",
   "id": "b22f8f99-c0cd-4528-bc73-4277a291d89d",
   "metadata": {
    "id": "b22f8f99-c0cd-4528-bc73-4277a291d89d"
   },
   "source": [
    "# Retrieval 성능 측정 하기 - MRR, Recall at K"
   ]
  },
  {
   "cell_type": "code",
   "execution_count": 1,
   "id": "01549abb-ba92-447d-bcdd-a426cae01cfe",
   "metadata": {
    "id": "01549abb-ba92-447d-bcdd-a426cae01cfe"
   },
   "outputs": [],
   "source": [
    "import numpy as np\n",
    "# from langchain_openai import OpenAIEmbeddings\n",
    "from langchain_google_genai import GoogleGenerativeAIEmbeddings"
   ]
  },
  {
   "cell_type": "code",
   "execution_count": 2,
   "id": "21008b74-8b4c-42ea-a7e9-666a069ec71d",
   "metadata": {
    "id": "21008b74-8b4c-42ea-a7e9-666a069ec71d"
   },
   "outputs": [],
   "source": [
    "# embeddings_client = OpenAIEmbeddings()\n",
    "embeddings_client = GoogleGenerativeAIEmbeddings(model='models/embedding-001')\n",
    "\n",
    "# 예제 데이터셋 (질문과 이에 대응하는 답변)\n",
    "questions = [\n",
    "    \"What is the capital of France?\",\n",
    "    \"How many continents are there?\",\n",
    "    \"What is the largest ocean?\",\n",
    "    \"Who wrote 'Hamlet'?\",\n",
    "    \"What is the chemical symbol for gold?\",\n",
    "    \"How long is the Great Wall of China?\",\n",
    "    \"What is the speed of light?\",\n",
    "    \"Who painted the Mona Lisa?\",\n",
    "    \"What is the smallest planet in our solar system?\",\n",
    "    \"What is the largest country by area?\",\n",
    "    \"What year did the Titanic sink?\",\n",
    "    \"Who is known as the father of computers?\",\n",
    "    \"What is the capital of Japan?\",\n",
    "    \"How many elements are in the periodic table?\",\n",
    "    \"What is the hardest natural substance on Earth?\",\n",
    "    \"What is the longest river in the world?\",\n",
    "    \"What is the main ingredient in glass?\",\n",
    "    \"What planet is known as the Red Planet?\",\n",
    "    \"Who discovered penicillin?\",\n",
    "    \"What is the capital of Australia?\"\n",
    "]\n",
    "\n",
    "answers = [\n",
    "    \"Paris\",\n",
    "    \"7\",\n",
    "    \"Pacific Ocean\",\n",
    "    \"William Shakespeare\",\n",
    "    \"Au\",\n",
    "    \"Approximately 21,196 kilometers\",\n",
    "    \"299,792,458 meters per second\",\n",
    "    \"Leonardo da Vinci\",\n",
    "    \"Mercury\",\n",
    "    \"Russia\",\n",
    "    \"1912\",\n",
    "    \"Charles Babbage\",\n",
    "    \"Tokyo\",\n",
    "    \"118\",\n",
    "    \"Diamond\",\n",
    "    \"The Nile River\",\n",
    "    \"Silicon dioxide\",\n",
    "    \"Mars\",\n",
    "    \"Alexander Fleming\",\n",
    "    \"Canberra\"\n",
    "]"
   ]
  },
  {
   "cell_type": "code",
   "execution_count": 3,
   "id": "c1b0a779-8847-4152-8e16-cf6cce7683a9",
   "metadata": {
    "id": "c1b0a779-8847-4152-8e16-cf6cce7683a9"
   },
   "outputs": [],
   "source": [
    "# 임베딩 생성\n",
    "question_embeddings = embeddings_client.embed_documents(questions)\n",
    "answer_embeddings = embeddings_client.embed_documents(answers)"
   ]
  },
  {
   "cell_type": "code",
   "execution_count": 4,
   "id": "e6a87b84-e52f-4124-a77b-39a980b8b679",
   "metadata": {
    "id": "e6a87b84-e52f-4124-a77b-39a980b8b679",
    "scrolled": true
   },
   "outputs": [],
   "source": [
    "question_embeddings = np.array(question_embeddings)\n",
    "answer_embeddings = np.array(answer_embeddings)"
   ]
  },
  {
   "cell_type": "code",
   "execution_count": 5,
   "id": "fe0464c7-6a76-4cde-bb8e-daed38a1a07f",
   "metadata": {
    "id": "fe0464c7-6a76-4cde-bb8e-daed38a1a07f"
   },
   "outputs": [
    {
     "data": {
      "text/plain": [
       "(20, 768)"
      ]
     },
     "execution_count": 5,
     "metadata": {},
     "output_type": "execute_result"
    }
   ],
   "source": [
    "question_embeddings.shape"
   ]
  },
  {
   "cell_type": "code",
   "execution_count": 6,
   "id": "b98ce621-d95b-4b69-bef6-9c6a6249f2f4",
   "metadata": {
    "id": "b98ce621-d95b-4b69-bef6-9c6a6249f2f4"
   },
   "outputs": [
    {
     "data": {
      "text/plain": [
       "(20, 768)"
      ]
     },
     "execution_count": 6,
     "metadata": {},
     "output_type": "execute_result"
    }
   ],
   "source": [
    "answer_embeddings.shape"
   ]
  },
  {
   "cell_type": "code",
   "execution_count": 7,
   "id": "048f5912-da42-4d30-9f7f-cb21b5d20af4",
   "metadata": {
    "id": "048f5912-da42-4d30-9f7f-cb21b5d20af4"
   },
   "outputs": [],
   "source": [
    "def compute_mrr(gt_indices, pred_indices):\n",
    "    \"\"\"Mean Reciprocal Rank 계산\"\"\"\n",
    "    reciprocal_ranks = []\n",
    "    for gt_idx, pred_idx in zip(gt_indices, pred_indices):\n",
    "        rank = pred_idx.index(gt_idx) + 1\n",
    "        reciprocal_ranks.append(1 / rank)\n",
    "    return np.mean(reciprocal_ranks)\n",
    "\n",
    "def compute_recall_at_k(gt_indices, pred_indices, k=1):\n",
    "    \"\"\"Recall at K 계산\"\"\"\n",
    "    hits = 0\n",
    "    for gt_idx, pred_idx in zip(gt_indices, pred_indices):\n",
    "        if gt_idx in pred_idx[:k]:\n",
    "            hits += 1\n",
    "    return hits / len(gt_indices)"
   ]
  },
  {
   "cell_type": "code",
   "execution_count": 8,
   "id": "c9b89e56-b248-4c2e-b818-5dbd81ebd111",
   "metadata": {
    "id": "c9b89e56-b248-4c2e-b818-5dbd81ebd111"
   },
   "outputs": [],
   "source": [
    "# 유사도 계산 및 정렬 (여기서는 단순 유사도로 정렬)\n",
    "similarity_matrix = np.dot(question_embeddings, answer_embeddings.T)\n",
    "pred_indices = np.argsort(-similarity_matrix, axis=1)\n",
    "gt_indices = list(range(len(questions)))  # 각 질문에 대한 정답 인덱스"
   ]
  },
  {
   "cell_type": "code",
   "execution_count": 9,
   "id": "997a7208-4245-4553-a314-9b14c6d22e47",
   "metadata": {
    "id": "997a7208-4245-4553-a314-9b14c6d22e47",
    "scrolled": true
   },
   "outputs": [
    {
     "data": {
      "text/plain": [
       "array([[ 0, 12,  9,  5, 19, 17,  4,  6,  3, 11, 13, 14,  1,  7, 15,  2,\n",
       "         8, 10, 18, 16],\n",
       "       [ 5,  2,  6,  9, 17, 15,  0, 12,  1,  3,  7,  4, 13, 19, 14, 11,\n",
       "         8, 18, 10, 16],\n",
       "       [ 2,  5,  6, 15,  9, 14, 17,  4,  3,  7, 13,  0, 12,  1,  8, 18,\n",
       "        11, 19, 16, 10],\n",
       "       [ 3,  7, 11, 18,  0,  9, 17, 13,  4, 14, 10,  5,  6, 12,  1, 19,\n",
       "         8, 15,  2, 16],\n",
       "       [14,  8, 18,  6, 16, 17,  4,  9,  7,  0,  2, 13, 12,  3, 11,  1,\n",
       "        10, 19, 15,  5],\n",
       "       [ 5,  6,  7,  9,  0,  3, 15, 13,  1, 12,  2,  4, 11, 17, 19, 10,\n",
       "        14, 18, 16,  8],\n",
       "       [ 6,  5,  7,  1, 14, 13,  4,  3, 17,  0,  9, 11, 12, 15,  8,  2,\n",
       "        10, 18, 16, 19],\n",
       "       [ 7,  3,  0, 11,  4, 14, 18,  9,  6, 12, 17,  1, 13, 15, 10,  2,\n",
       "         5, 19,  8, 16],\n",
       "       [17,  8,  6,  2,  5,  1,  4, 14,  9, 13,  7, 15, 19,  0,  3, 11,\n",
       "        12, 16, 18, 10],\n",
       "       [ 5,  9,  6,  4,  2, 13, 12,  1, 17,  0, 19, 14, 15,  3,  7,  8,\n",
       "        10, 11, 18, 16],\n",
       "       [10,  2,  3,  9,  6, 14,  0,  7,  4, 15,  5, 11, 12, 17, 18, 13,\n",
       "         1, 19,  8, 16],\n",
       "       [11,  7,  3, 18,  6,  9, 10,  0,  4, 14, 12, 17, 15, 13, 19,  1,\n",
       "         5, 16,  2,  8],\n",
       "       [12,  0,  9, 19,  2,  5,  4, 17,  6, 14, 13, 10,  1, 11,  8,  7,\n",
       "         3, 15, 18, 16],\n",
       "       [14, 13,  1,  6,  8, 17, 18,  5,  3,  9,  7, 16, 11,  0,  4,  2,\n",
       "        12, 15, 10, 19],\n",
       "       [16, 14, 17,  6,  7,  9,  8, 15,  2,  3,  4,  0, 12,  1,  5, 13,\n",
       "        18, 19, 11, 10],\n",
       "       [15,  5,  6,  2,  3,  9,  0,  7, 17,  4, 12, 13, 14, 18, 11, 10,\n",
       "        19,  1,  8, 16],\n",
       "       [16, 14,  7,  3, 18,  8, 17,  9, 11,  4,  0,  6,  2, 12,  1, 13,\n",
       "         5, 15, 10, 19],\n",
       "       [17,  8,  6,  9,  7, 14, 15,  0,  2,  4, 18,  5, 12,  3, 11, 16,\n",
       "        19,  1, 13, 10],\n",
       "       [18, 11,  3,  7,  9, 14,  0,  4, 10, 17, 12, 16,  8, 19, 13, 15,\n",
       "         1,  2,  6,  5],\n",
       "       [19,  4,  5, 12,  9,  0,  2, 17,  6, 14, 13,  3, 15, 11, 10,  1,\n",
       "         8, 18,  7, 16]])"
      ]
     },
     "execution_count": 9,
     "metadata": {},
     "output_type": "execute_result"
    }
   ],
   "source": [
    "pred_indices"
   ]
  },
  {
   "cell_type": "code",
   "execution_count": 10,
   "id": "f526ca4d-11b9-42fe-91d5-d89cfe19ce44",
   "metadata": {
    "id": "f526ca4d-11b9-42fe-91d5-d89cfe19ce44"
   },
   "outputs": [],
   "source": [
    "# MRR 및 Recall@k 계산\n",
    "mrr = compute_mrr(gt_indices, pred_indices.tolist())\n",
    "recall_at_1 = compute_recall_at_k(gt_indices, pred_indices.tolist(), k=1)\n",
    "recall_at_3 = compute_recall_at_k(gt_indices, pred_indices.tolist(), k=3)"
   ]
  },
  {
   "cell_type": "code",
   "execution_count": 11,
   "id": "4f27791a-66c2-443c-b43e-a374e62d97e4",
   "metadata": {
    "id": "4f27791a-66c2-443c-b43e-a374e62d97e4"
   },
   "outputs": [
    {
     "name": "stdout",
     "output_type": "stream",
     "text": [
      "MRR: 0.8126984126984127\n",
      "Recall@1: 0.7\n",
      "Recall@3: 0.9\n"
     ]
    }
   ],
   "source": [
    "print(f\"MRR: {mrr}\")\n",
    "print(f\"Recall@1: {recall_at_1}\")\n",
    "print(f\"Recall@3: {recall_at_3}\")"
   ]
  }
 ],
 "metadata": {
  "colab": {
   "provenance": []
  },
  "kernelspec": {
   "display_name": "Python 3 (ipykernel)",
   "language": "python",
   "name": "python3"
  },
  "language_info": {
   "codemirror_mode": {
    "name": "ipython",
    "version": 3
   },
   "file_extension": ".py",
   "mimetype": "text/x-python",
   "name": "python",
   "nbconvert_exporter": "python",
   "pygments_lexer": "ipython3",
   "version": "3.11.6"
  }
 },
 "nbformat": 4,
 "nbformat_minor": 5
}
