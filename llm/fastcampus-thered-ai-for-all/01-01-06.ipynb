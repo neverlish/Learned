{
  "cells": [
    {
      "cell_type": "markdown",
      "id": "dcb26451-4c0d-4f67-8387-54dda2262c00",
      "metadata": {
        "id": "dcb26451-4c0d-4f67-8387-54dda2262c00"
      },
      "source": [
        "# AI가 문맥을 파악하는 원리\n",
        "\n",
        "AI는 어떻게 단어를 인식하고, 어떻게 단어 사이의 관계를 파악하며, 어떻게 이를 수정하는지에 대해서 학습 알고리즘 등의 내용은 모두 제외하고 개념만 쉽게 설명해 보겠습니다. 이를 위해서 컴퓨터는 다음의 세 가지가 가능해야 합니다.\n",
        "\n",
        "1. 컴퓨터가 알아들어야 한다.\n",
        "2. 단어 사이의 관계를 파악해야 한다.\n",
        "3. 단어 사이의 관계를 수정해야 한다."
      ]
    },
    {
      "cell_type": "markdown",
      "id": "c99f9846-28a3-413a-8de9-14369e22b3eb",
      "metadata": {
        "id": "c99f9846-28a3-413a-8de9-14369e22b3eb"
      },
      "source": [
        "---\n",
        "\n",
        "**첫째, 컴퓨터가 알아들어야 한다.**\n",
        "\n",
        "이중 먼저 컴퓨터가 알아듣게 하는 과정을 **단어의 임베딩**이라고 합니다. 임베딩은 단어를 컴퓨터가 알아들을 수 있는 긴 숫자의 배열로 대체하는 것입니다(5교시, 6교시).\n",
        "여기서는 임베딩을 아주 간단히 바꾸어 두 개의 숫자로 몇몇 단어를 임베딩해 보겠습니다.\n"
      ]
    },
    {
      "cell_type": "code",
      "execution_count": 1,
      "id": "db84aa8e-3657-4160-b91c-8300cb4a2c0a",
      "metadata": {
        "id": "db84aa8e-3657-4160-b91c-8300cb4a2c0a",
        "outputId": "88e2fd6f-4541-4db0-f499-336435af1b34"
      },
      "outputs": [
        {
          "name": "stdout",
          "output_type": "stream",
          "text": [
            "단어와 임베딩 벡터:\n",
            "귤: [0 6]\n",
            "딸기: [0 5]\n",
            "수박: [1 6]\n",
            "미소짓다: [6 1]\n",
            "화내다: [6 0]\n",
            "웃다: [5 0]\n"
          ]
        }
      ],
      "source": [
        "import numpy as np\n",
        "\n",
        "# 단어와 임베딩 벡터 정의\n",
        "word_embeddings = {\n",
        "    '귤': np.array([0, 6]),\n",
        "    '딸기': np.array([0, 5]),\n",
        "    '수박': np.array([1, 6]),\n",
        "    '미소짓다': np.array([6, 1]),\n",
        "    '화내다': np.array([6, 0]),\n",
        "    '웃다': np.array([5, 0])\n",
        "}\n",
        "\n",
        "# 단어와 임베딩 벡터 출력\n",
        "print(\"단어와 임베딩 벡터:\")\n",
        "for word, vec in word_embeddings.items():\n",
        "    print(f\"{word}: {vec}\")"
      ]
    },
    {
      "cell_type": "markdown",
      "id": "81df126d-7d8b-46bd-acf4-100cd5b9dfc7",
      "metadata": {
        "id": "81df126d-7d8b-46bd-acf4-100cd5b9dfc7"
      },
      "source": [
        "이것을 그래프로 표현해 보겠습니다."
      ]
    },
    {
      "cell_type": "code",
      "execution_count": 2,
      "id": "e588bee1-a7c4-4a6e-9c68-79c424b794cd",
      "metadata": {
        "id": "e588bee1-a7c4-4a6e-9c68-79c424b794cd",
        "outputId": "d03262c9-939b-445e-ab3d-738b663494e6"
      },
      "outputs": [
        {
          "name": "stderr",
          "output_type": "stream",
          "text": [
            "/Users/hyeonjinho/.pyenv/versions/3.11.6/lib/python3.11/site-packages/IPython/core/pylabtools.py:170: UserWarning: Glyph 44516 (\\N{HANGUL SYLLABLE GYUL}) missing from font(s) DejaVu Sans.\n",
            "  fig.canvas.print_figure(bytes_io, **kw)\n",
            "/Users/hyeonjinho/.pyenv/versions/3.11.6/lib/python3.11/site-packages/IPython/core/pylabtools.py:170: UserWarning: Glyph 46392 (\\N{HANGUL SYLLABLE DDAL}) missing from font(s) DejaVu Sans.\n",
            "  fig.canvas.print_figure(bytes_io, **kw)\n",
            "/Users/hyeonjinho/.pyenv/versions/3.11.6/lib/python3.11/site-packages/IPython/core/pylabtools.py:170: UserWarning: Glyph 44592 (\\N{HANGUL SYLLABLE GI}) missing from font(s) DejaVu Sans.\n",
            "  fig.canvas.print_figure(bytes_io, **kw)\n",
            "/Users/hyeonjinho/.pyenv/versions/3.11.6/lib/python3.11/site-packages/IPython/core/pylabtools.py:170: UserWarning: Glyph 49688 (\\N{HANGUL SYLLABLE SU}) missing from font(s) DejaVu Sans.\n",
            "  fig.canvas.print_figure(bytes_io, **kw)\n",
            "/Users/hyeonjinho/.pyenv/versions/3.11.6/lib/python3.11/site-packages/IPython/core/pylabtools.py:170: UserWarning: Glyph 48149 (\\N{HANGUL SYLLABLE BAG}) missing from font(s) DejaVu Sans.\n",
            "  fig.canvas.print_figure(bytes_io, **kw)\n",
            "/Users/hyeonjinho/.pyenv/versions/3.11.6/lib/python3.11/site-packages/IPython/core/pylabtools.py:170: UserWarning: Glyph 48120 (\\N{HANGUL SYLLABLE MI}) missing from font(s) DejaVu Sans.\n",
            "  fig.canvas.print_figure(bytes_io, **kw)\n",
            "/Users/hyeonjinho/.pyenv/versions/3.11.6/lib/python3.11/site-packages/IPython/core/pylabtools.py:170: UserWarning: Glyph 49548 (\\N{HANGUL SYLLABLE SO}) missing from font(s) DejaVu Sans.\n",
            "  fig.canvas.print_figure(bytes_io, **kw)\n",
            "/Users/hyeonjinho/.pyenv/versions/3.11.6/lib/python3.11/site-packages/IPython/core/pylabtools.py:170: UserWarning: Glyph 51667 (\\N{HANGUL SYLLABLE JIS}) missing from font(s) DejaVu Sans.\n",
            "  fig.canvas.print_figure(bytes_io, **kw)\n",
            "/Users/hyeonjinho/.pyenv/versions/3.11.6/lib/python3.11/site-packages/IPython/core/pylabtools.py:170: UserWarning: Glyph 45796 (\\N{HANGUL SYLLABLE DA}) missing from font(s) DejaVu Sans.\n",
            "  fig.canvas.print_figure(bytes_io, **kw)\n",
            "/Users/hyeonjinho/.pyenv/versions/3.11.6/lib/python3.11/site-packages/IPython/core/pylabtools.py:170: UserWarning: Glyph 54868 (\\N{HANGUL SYLLABLE HWA}) missing from font(s) DejaVu Sans.\n",
            "  fig.canvas.print_figure(bytes_io, **kw)\n",
            "/Users/hyeonjinho/.pyenv/versions/3.11.6/lib/python3.11/site-packages/IPython/core/pylabtools.py:170: UserWarning: Glyph 45236 (\\N{HANGUL SYLLABLE NAE}) missing from font(s) DejaVu Sans.\n",
            "  fig.canvas.print_figure(bytes_io, **kw)\n",
            "/Users/hyeonjinho/.pyenv/versions/3.11.6/lib/python3.11/site-packages/IPython/core/pylabtools.py:170: UserWarning: Glyph 50883 (\\N{HANGUL SYLLABLE US}) missing from font(s) DejaVu Sans.\n",
            "  fig.canvas.print_figure(bytes_io, **kw)\n"
          ]
        },
        {
          "data": {
            "image/png": "[encoded data removed]",
            "text/plain": [
              "<Figure size 400x400 with 1 Axes>"
            ]
          },
          "metadata": {},
          "output_type": "display_data"
        }
      ],
      "source": [
        "import matplotlib.pyplot as plt\n",
        "\n",
        "# 단어 임베딩 시각화\n",
        "plt.figure(figsize=(4, 4))\n",
        "for word, vec in word_embeddings.items():\n",
        "    plt.scatter(*vec)\n",
        "    plt.text(vec[0] + 0.1, vec[1], word)\n",
        "plt.show()"
      ]
    },
    {
      "cell_type": "markdown",
      "id": "cec0ed02-e789-42ed-9430-be77e936dfd4",
      "metadata": {
        "id": "cec0ed02-e789-42ed-9430-be77e936dfd4"
      },
      "source": [
        "<p style=\"font-size:small;\">\n",
        "    (한글이 깨진다면 제일 하단의 코드를 먼저 실행시켜 주세요.)\n",
        "</p>\n",
        "<br>\n",
        "\n",
        "---\n",
        "\n",
        "**둘째, 단어 사이의 관계를 파악해야 한다.**\n",
        "\n",
        "임베딩 된 두 단어 사이의 관계는 **내적**을 사용해 파악할 수 있습니다.\n",
        "두 벡터 `(a1,a2)`, `(b1,b2)` 사이의 내적 구하기: `(a1 ⋅ b1) + (a2 ⋅ b2)`"
      ]
    },
    {
      "cell_type": "code",
      "execution_count": 3,
      "id": "51355935-11f8-47ef-83ea-5e77b2a3b1e3",
      "metadata": {
        "id": "51355935-11f8-47ef-83ea-5e77b2a3b1e3",
        "outputId": "3954cbb3-abc1-476b-c5e2-249331d954c5"
      },
      "outputs": [
        {
          "name": "stdout",
          "output_type": "stream",
          "text": [
            "귤 • 딸기: 30\n",
            "귤 • 수박: 36\n",
            "수박 • 웃다: 5\n",
            "딸기• 화내다: 0\n"
          ]
        }
      ],
      "source": [
        "def dot_product(vec1, vec2):\n",
        "    return np.dot(vec1, vec2)\n",
        "\n",
        "# 예제 단어들 사이의 내적 계산\n",
        "print(\"귤 • 딸기:\", dot_product(word_embeddings['귤'], word_embeddings['딸기']))\n",
        "print(\"귤 • 수박:\", dot_product(word_embeddings['귤'], word_embeddings['수박']))\n",
        "print(\"수박 • 웃다:\", dot_product(word_embeddings['수박'], word_embeddings['웃다']))\n",
        "print(\"딸기• 화내다:\", dot_product(word_embeddings['딸기'], word_embeddings['화내다']))\n"
      ]
    },
    {
      "cell_type": "markdown",
      "id": "99392a8a-fbb6-444e-b0de-3f12c3d16316",
      "metadata": {
        "id": "99392a8a-fbb6-444e-b0de-3f12c3d16316"
      },
      "source": [
        "---\n",
        "\n",
        "**셋째, 단어 사이의 관계를 수정해야 한다.**\n",
        "\n",
        "이때 처음 보는 단어 '사과'가 입력되었다고 합시다. 그런데 이 사과가 과일 사과인지, 무언가 잘못을 비는 행위의 사과를 의미하는지 아직 모릅니다.\n",
        "이럴때 사용하는 방법은 일단 랜덤하게 위치를 시키고 적절히 수정하는 것입니다.\n",
        "예를 들어 과일을 가리키는 단어 '귤'과 행위를 가리키는 단어 '어제일'을 예를 들어 가지고와서 각각 임베딩을 해보겠습니다."
      ]
    },
    {
      "cell_type": "code",
      "execution_count": 4,
      "id": "dba2bb55-8017-4d11-804e-5489015cd677",
      "metadata": {
        "id": "dba2bb55-8017-4d11-804e-5489015cd677",
        "outputId": "b8044408-61b2-41fd-bcd1-0b2ca4304b61"
      },
      "outputs": [
        {
          "name": "stderr",
          "output_type": "stream",
          "text": [
            "/Users/hyeonjinho/.pyenv/versions/3.11.6/lib/python3.11/site-packages/IPython/core/pylabtools.py:170: UserWarning: Glyph 50612 (\\N{HANGUL SYLLABLE EO}) missing from font(s) DejaVu Sans.\n",
            "  fig.canvas.print_figure(bytes_io, **kw)\n",
            "/Users/hyeonjinho/.pyenv/versions/3.11.6/lib/python3.11/site-packages/IPython/core/pylabtools.py:170: UserWarning: Glyph 51228 (\\N{HANGUL SYLLABLE JE}) missing from font(s) DejaVu Sans.\n",
            "  fig.canvas.print_figure(bytes_io, **kw)\n",
            "/Users/hyeonjinho/.pyenv/versions/3.11.6/lib/python3.11/site-packages/IPython/core/pylabtools.py:170: UserWarning: Glyph 51068 (\\N{HANGUL SYLLABLE IL}) missing from font(s) DejaVu Sans.\n",
            "  fig.canvas.print_figure(bytes_io, **kw)\n",
            "/Users/hyeonjinho/.pyenv/versions/3.11.6/lib/python3.11/site-packages/IPython/core/pylabtools.py:170: UserWarning: Glyph 49324 (\\N{HANGUL SYLLABLE SA}) missing from font(s) DejaVu Sans.\n",
            "  fig.canvas.print_figure(bytes_io, **kw)\n",
            "/Users/hyeonjinho/.pyenv/versions/3.11.6/lib/python3.11/site-packages/IPython/core/pylabtools.py:170: UserWarning: Glyph 44284 (\\N{HANGUL SYLLABLE GWA}) missing from font(s) DejaVu Sans.\n",
            "  fig.canvas.print_figure(bytes_io, **kw)\n"
          ]
        },
        {
          "data": {
            "image/png": "[encoded data removed]",
            "text/plain": [
              "<Figure size 400x400 with 1 Axes>"
            ]
          },
          "metadata": {},
          "output_type": "display_data"
        }
      ],
      "source": [
        "# 귤, 어제일의 벡터값 설정\n",
        "귤 = np.array([0, 6])\n",
        "어제일 = np.array([6, 0])\n",
        "\n",
        "# 사과의 초기 벡터값 설정\n",
        "사과 = np.array([3, 3])\n",
        "\n",
        "# 초기 벡터 시각화\n",
        "word_embeddings = {\n",
        "    \"귤\": 귤,\n",
        "    \"어제일\": 어제일,\n",
        "    \"사과?\": 사과\n",
        "}\n",
        "\n",
        "plt.figure(figsize=(4, 4))\n",
        "for word, vec in word_embeddings.items():\n",
        "    plt.scatter(*vec)\n",
        "    plt.text(vec[0], vec[1], word, fontsize=12)\n",
        "plt.show()\n"
      ]
    },
    {
      "cell_type": "markdown",
      "id": "e5c4b237-bda4-48b6-a9f5-43718272a604",
      "metadata": {
        "id": "e5c4b237-bda4-48b6-a9f5-43718272a604"
      },
      "source": [
        "---\n",
        "AI의 공부는 여기서 부터 시작입니다. 주어진 단어들, 입력된 자료들을 가지고 AI는 스스로 학습을 시작합니다. 이때 사용하는 알고리즘을 **딥러닝**이라고 합니다. <br>딥러닝을 이용해서 학습하면 주어진 사과가 과일인지 행위인지 파악하고 그 값을 적절히 위치시킬 수 있습니다. <br><br> 딥러닝의 실행을 위해 우리가 알아야 할 부분은 **신경망의 기초**(Part2: 1교시, 2교시), **실제 데이터를 사용한 모델링의 기초**(Part2: 3교시), **신경망의 활용**(Part2: 4교시, 5교시), 그리고 **어텐션과 트랜스포머**(Part2: 6교시)입니다. <br><br> 지금은 Part1, 개념을 파악하는 시간이므로, 학습된 결과를 숫자로 바꾸고, 학습을 진행하는 부분을 간단한 코드로 대체하겠습니다."
      ]
    },
    {
      "cell_type": "code",
      "execution_count": 5,
      "id": "928d1b33-23ad-4681-b6f9-e6868577b3d2",
      "metadata": {
        "id": "928d1b33-23ad-4681-b6f9-e6868577b3d2",
        "outputId": "abc4eeef-c89c-4498-dbe1-846f86d89263"
      },
      "outputs": [
        {
          "name": "stdout",
          "output_type": "stream",
          "text": [
            "귤 • 사과?: 18\n",
            "어제일 • 사과?: 18\n",
            "업데이트된 사과 벡터 (사과_과일): [1.2 4.8]\n",
            "업데이트된 사과 벡터 (사과_행위): [4.35 1.65]\n",
            "귤 • 사과_과일: 28.799999999999997\n",
            "어제일 • 사과_행위: 26.099999999999998\n"
          ]
        }
      ],
      "source": [
        "# 학습 이전의 단어들 사이의 내적 계산\n",
        "print(\"귤 • 사과?:\", dot_product(word_embeddings['귤'], word_embeddings['사과?']))\n",
        "print(\"어제일 • 사과?:\", dot_product(word_embeddings['어제일'], word_embeddings['사과?']))\n",
        "\n",
        "\n",
        "# '사과' 벡터와 '귤'과의 관계를 학습한 결과\n",
        "attention_result1 = 0.6\n",
        "#--> 이 부분은 주어진 입력 데이터를 가지고 학습한 결과로 대체됩니다. 지금은 예시 값을 임시로 가지고 왔습니다.\n",
        "\n",
        "# '사과' 벡터와 '어제일'과의 관계를 학습한 결과\n",
        "attention_result2 = 0.45\n",
        "#--> 이 부분 역시 주어진 입력 데이터를 가지고 학습한 결과로 대체됩니다. 지금은 예시 값을 임시로 가지고 왔습니다.\n",
        "\n",
        "# 벡터 업데이트 함수\n",
        "def update_vector(vec, target_vec, attention_result):\n",
        "    new_vector = vec + attention_result * (target_vec - vec)\n",
        "    return new_vector\n",
        " #--> 이 부분은 단어 사이의 문맥을 파악하고 단어 간의 관계를 수정해 주는 역할을 할 것이며,\n",
        " #--> 주로 어텐션, 트랜스포머를 활용하는 코드로 대체될 것입니다.\n",
        "\n",
        "# '사과' 벡터와 '귤'사이의 거리 업데이트\n",
        "사과_과일 = update_vector(사과, 귤, attention_result1)\n",
        "print(f\"업데이트된 사과 벡터 (사과_과일): {사과_과일}\")\n",
        "\n",
        "# '사과' 벡터와 '어제일'사이의 거리 업데이트\n",
        "사과_행위 = update_vector(사과, 어제일, attention_result2)\n",
        "print(f\"업데이트된 사과 벡터 (사과_행위): {사과_행위}\")\n",
        "\n",
        "\n",
        "# 업데이트된 word_embeddings 설정\n",
        "word_embeddings[\"사과_과일\"] = 사과_과일\n",
        "word_embeddings[\"사과_행위\"] = 사과_행위\n",
        "\n",
        "# 학습 이후의 단어들 사이의 내적 계산\n",
        "print(\"귤 • 사과_과일:\", dot_product(word_embeddings['귤'], word_embeddings['사과_과일']))\n",
        "print(\"어제일 • 사과_행위:\", dot_product(word_embeddings['어제일'], word_embeddings['사과_행위']))\n",
        "\n"
      ]
    },
    {
      "cell_type": "markdown",
      "id": "fcfbe110-fc84-4712-b78d-b1f97455dd2b",
      "metadata": {
        "id": "fcfbe110-fc84-4712-b78d-b1f97455dd2b"
      },
      "source": [
        "위 내용을 그래프로 옮겨 보면 다음과 같습니다."
      ]
    },
    {
      "cell_type": "code",
      "execution_count": 6,
      "id": "c80b516f-e767-49de-b5b8-6a79f285bd27",
      "metadata": {
        "id": "c80b516f-e767-49de-b5b8-6a79f285bd27",
        "outputId": "a11d5fc7-f287-4347-d071-fb5592309eb8"
      },
      "outputs": [
        {
          "name": "stderr",
          "output_type": "stream",
          "text": [
            "/Users/hyeonjinho/.pyenv/versions/3.11.6/lib/python3.11/site-packages/IPython/core/pylabtools.py:170: UserWarning: Glyph 54665 (\\N{HANGUL SYLLABLE HAENG}) missing from font(s) DejaVu Sans.\n",
            "  fig.canvas.print_figure(bytes_io, **kw)\n",
            "/Users/hyeonjinho/.pyenv/versions/3.11.6/lib/python3.11/site-packages/IPython/core/pylabtools.py:170: UserWarning: Glyph 50948 (\\N{HANGUL SYLLABLE WI}) missing from font(s) DejaVu Sans.\n",
            "  fig.canvas.print_figure(bytes_io, **kw)\n"
          ]
        },
        {
          "data": {
            "image/png": "[encoded data removed]",
            "text/plain": [
              "<Figure size 400x400 with 1 Axes>"
            ]
          },
          "metadata": {},
          "output_type": "display_data"
        }
      ],
      "source": [
        "\n",
        "# 단어 임베딩 시각화\n",
        "word_embeddings = {\n",
        "    \"귤\": 귤,\n",
        "    \"어제일\": 어제일,\n",
        "    \"사과_과일\": 사과_과일,\n",
        "    \"사과_행위\": 사과_행위\n",
        "}\n",
        "\n",
        "plt.figure(figsize=(4, 4))\n",
        "for word, vec in word_embeddings.items():\n",
        "    plt.scatter(*vec)\n",
        "    plt.text(vec[0] + 0.1, vec[1], word, fontsize=12)\n",
        "\n",
        "plt.show()"
      ]
    },
    {
      "cell_type": "markdown",
      "id": "b54f8d0a-3869-4769-9509-7a66f32914a9",
      "metadata": {
        "id": "b54f8d0a-3869-4769-9509-7a66f32914a9"
      },
      "source": [
        "\n",
        "---\n",
        "\n",
        "**Part2**에서 배울 내용:\n",
        "\n",
        "1교시: 일단 도전하는 나의 첫 딥러닝\n",
        "- <실습> 딥러닝의 기초\n",
        "\n",
        "2교시: 딥러닝이 잘되는 이유를 이해하기\n",
        "- <실습> 데이터 처리 기법\n",
        "\n",
        "3교시: 이론이 실제 모델이 되기까지\n",
        "- <실습> 실데이터로 도전하는 모델\n",
        "\n",
        "4교시: 제대로 도전하는 딥러닝\n",
        "- <실습> 컨볼루션 신경망 실행하기\n",
        "- <실습> 전이학습 실행하기\n",
        "\n",
        "5교시: 조금씩 맛보는 고급 딥러닝\n",
        "- <실습> 설명 가능한 딥러닝 모델 만들기\n",
        "- <실습> 생성형 이미지 딥러닝 실행\n",
        "\n",
        "6교시: 챗GPT의 원리, 트랜스포머 이해하기\n",
        "- <실습> 어텐션의 핵심 원리\n",
        "- <실습> 트랜스포머의 기초\n"
      ]
    },
    {
      "cell_type": "markdown",
      "id": "ab4cef8e-f090-45be-989a-556a3dce4b53",
      "metadata": {
        "id": "ab4cef8e-f090-45be-989a-556a3dce4b53"
      },
      "source": [
        "<br><br><br><br><br>"
      ]
    },
    {
      "cell_type": "markdown",
      "id": "181bb3c3-f653-42ef-8026-622ab6bdf45b",
      "metadata": {
        "id": "181bb3c3-f653-42ef-8026-622ab6bdf45b"
      },
      "source": [
        "<p style=\"font-size:small;\">아래 코드는 폰트 실행에 이상이 생길때만 실행해 주세요. (구글 코랩 사용시) </p>\n"
      ]
    },
    {
      "cell_type": "code",
      "execution_count": 8,
      "id": "b2148e46-e8c2-4481-bfe2-1d39a5fb4c50",
      "metadata": {
        "id": "b2148e46-e8c2-4481-bfe2-1d39a5fb4c50"
      },
      "outputs": [
        {
          "name": "stdout",
          "output_type": "stream",
          "text": [
            "zsh:1: command not found: wget\n"
          ]
        },
        {
          "name": "stderr",
          "output_type": "stream",
          "text": [
            "/Users/hyeonjinho/.pyenv/versions/3.11.6/lib/python3.11/site-packages/IPython/core/pylabtools.py:170: UserWarning: Glyph 53580 (\\N{HANGUL SYLLABLE TE}) missing from font(s) DejaVu Sans.\n",
            "  fig.canvas.print_figure(bytes_io, **kw)\n",
            "/Users/hyeonjinho/.pyenv/versions/3.11.6/lib/python3.11/site-packages/IPython/core/pylabtools.py:170: UserWarning: Glyph 49828 (\\N{HANGUL SYLLABLE SEU}) missing from font(s) DejaVu Sans.\n",
            "  fig.canvas.print_figure(bytes_io, **kw)\n",
            "/Users/hyeonjinho/.pyenv/versions/3.11.6/lib/python3.11/site-packages/IPython/core/pylabtools.py:170: UserWarning: Glyph 53944 (\\N{HANGUL SYLLABLE TEU}) missing from font(s) DejaVu Sans.\n",
            "  fig.canvas.print_figure(bytes_io, **kw)\n",
            "/Users/hyeonjinho/.pyenv/versions/3.11.6/lib/python3.11/site-packages/IPython/core/pylabtools.py:170: UserWarning: Glyph 54620 (\\N{HANGUL SYLLABLE HAN}) missing from font(s) DejaVu Sans.\n",
            "  fig.canvas.print_figure(bytes_io, **kw)\n",
            "/Users/hyeonjinho/.pyenv/versions/3.11.6/lib/python3.11/site-packages/IPython/core/pylabtools.py:170: UserWarning: Glyph 44544 (\\N{HANGUL SYLLABLE GEUL}) missing from font(s) DejaVu Sans.\n",
            "  fig.canvas.print_figure(bytes_io, **kw)\n",
            "/Users/hyeonjinho/.pyenv/versions/3.11.6/lib/python3.11/site-packages/IPython/core/pylabtools.py:170: UserWarning: Glyph 54256 (\\N{HANGUL SYLLABLE PON}) missing from font(s) DejaVu Sans.\n",
            "  fig.canvas.print_figure(bytes_io, **kw)\n"
          ]
        },
        {
          "data": {
            "image/png": "[encoded data removed]",
            "text/plain": [
              "<Figure size 640x480 with 1 Axes>"
            ]
          },
          "metadata": {},
          "output_type": "display_data"
        }
      ],
      "source": [
        "import matplotlib.pyplot as plt\n",
        "import matplotlib.font_manager as fm\n",
        "import platform\n",
        "import requests\n",
        "\n",
        "# 나눔고딕 폰트 다운로드\n",
        "!wget https://github.com/scarsty/malware_analysis/releases/download/0.0.1/NanumGothic.ttf\n",
        "\n",
        "# 나눔고딕 폰트 설정\n",
        "# font_path = '/content/NanumGothic.ttf'\n",
        "# font_name = fm.FontProperties(fname=font_path).get_name()\n",
        "# plt.rcParams['font.family'] = font_name\n",
        "\n",
        "# 테스트: 한글 텍스트 표시\n",
        "plt.text(0.5, 0.5, '테스트: 한글 폰트', ha='center', va='center', fontsize=20)\n",
        "plt.show()\n"
      ]
    },
    {
      "cell_type": "markdown",
      "id": "7837902e-81ab-459e-8a25-e15f9a18b036",
      "metadata": {
        "id": "7837902e-81ab-459e-8a25-e15f9a18b036"
      },
      "source": [
        "<p style=\"font-size:small;\">아래 코드는 폰트 실행에 이상이 생길때만 실행해 주세요. (윈도우 사용시)</p>"
      ]
    },
    {
      "cell_type": "code",
      "execution_count": 9,
      "id": "824af58e-fa97-4b96-86b2-9af042611e5b",
      "metadata": {
        "id": "824af58e-fa97-4b96-86b2-9af042611e5b"
      },
      "outputs": [
        {
          "data": {
            "image/png": "[encoded data removed]",
            "text/plain": [
              "<Figure size 640x480 with 1 Axes>"
            ]
          },
          "metadata": {},
          "output_type": "display_data"
        }
      ],
      "source": [
        "import matplotlib.pyplot as plt\n",
        "import matplotlib.font_manager as fm\n",
        "import platform\n",
        "\n",
        "# 한글 폰트 설정\n",
        "if platform.system() == 'Windows':\n",
        "    # Windows 시스템에서는 설치된 Gulim 폰트를 불러옵니다.\n",
        "    # font_path = 'C:/Windows/Fonts/gulim.ttc'\n",
        "    font_path = 'C:/Windows/Fonts/malgun.ttf'\n",
        "    font_name = fm.FontProperties(fname=font_path).get_name()\n",
        "    plt.rcParams['font.family'] = font_name\n",
        "\n",
        "# 테스트: 한글 텍스트 표시\n",
        "plt.text(0.5, 0.5, '테스트: 한글 폰트', ha='center', va='center', fontsize=20)\n",
        "plt.show()\n"
      ]
    }
  ],
  "metadata": {
    "colab": {
      "provenance": []
    },
    "kernelspec": {
      "display_name": "Python 3 (ipykernel)",
      "language": "python",
      "name": "python3"
    },
    "language_info": {
      "codemirror_mode": {
        "name": "ipython",
        "version": 3
      },
      "file_extension": ".py",
      "mimetype": "text/x-python",
      "name": "python",
      "nbconvert_exporter": "python",
      "pygments_lexer": "ipython3",
      "version": "3.11.6"
    }
  },
  "nbformat": 4,
  "nbformat_minor": 5
}
