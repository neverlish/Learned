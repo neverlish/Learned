{
 "cells": [
  {
   "cell_type": "code",
   "execution_count": 1,
   "metadata": {
    "collapsed": true
   },
   "outputs": [],
   "source": [
    "import numpy as np\n",
    "import pandas as pd"
   ]
  },
  {
   "cell_type": "markdown",
   "metadata": {},
   "source": [
    "## Prerequisites"
   ]
  },
  {
   "cell_type": "code",
   "execution_count": 2,
   "metadata": {},
   "outputs": [
    {
     "name": "stdout",
     "output_type": "stream",
     "text": [
      "Requirement already satisfied: tensorflow in /Library/Frameworks/Python.framework/Versions/2.7/lib/python2.7/site-packages\n",
      "Requirement already satisfied: protobuf>=3.2.0 in /Library/Frameworks/Python.framework/Versions/2.7/lib/python2.7/site-packages (from tensorflow)\n",
      "Requirement already satisfied: bleach==1.5.0 in /Library/Frameworks/Python.framework/Versions/2.7/lib/python2.7/site-packages (from tensorflow)\n",
      "Requirement already satisfied: numpy>=1.11.0 in /Library/Frameworks/Python.framework/Versions/2.7/lib/python2.7/site-packages (from tensorflow)\n",
      "Requirement already satisfied: wheel in /Library/Frameworks/Python.framework/Versions/2.7/lib/python2.7/site-packages (from tensorflow)\n",
      "Requirement already satisfied: mock>=2.0.0 in /Library/Frameworks/Python.framework/Versions/2.7/lib/python2.7/site-packages (from tensorflow)\n",
      "Requirement already satisfied: six>=1.10.0 in /Library/Frameworks/Python.framework/Versions/2.7/lib/python2.7/site-packages (from tensorflow)\n",
      "Requirement already satisfied: html5lib==0.9999999 in /Library/Frameworks/Python.framework/Versions/2.7/lib/python2.7/site-packages (from tensorflow)\n",
      "Requirement already satisfied: markdown>=2.6.8 in /Library/Frameworks/Python.framework/Versions/2.7/lib/python2.7/site-packages (from tensorflow)\n",
      "Requirement already satisfied: werkzeug>=0.11.10 in /Library/Frameworks/Python.framework/Versions/2.7/lib/python2.7/site-packages (from tensorflow)\n",
      "Requirement already satisfied: backports.weakref==1.0rc1 in /Library/Frameworks/Python.framework/Versions/2.7/lib/python2.7/site-packages (from tensorflow)\n",
      "Requirement already satisfied: setuptools in /Library/Frameworks/Python.framework/Versions/2.7/lib/python2.7/site-packages (from protobuf>=3.2.0->tensorflow)\n",
      "Requirement already satisfied: funcsigs>=1; python_version < \"3.3\" in /Library/Frameworks/Python.framework/Versions/2.7/lib/python2.7/site-packages (from mock>=2.0.0->tensorflow)\n",
      "Requirement already satisfied: pbr>=0.11 in /Library/Frameworks/Python.framework/Versions/2.7/lib/python2.7/site-packages (from mock>=2.0.0->tensorflow)\n",
      "\u001b[33mYou are using pip version 9.0.1, however version 18.0 is available.\n",
      "You should consider upgrading via the 'pip install --upgrade pip' command.\u001b[0m\n"
     ]
    }
   ],
   "source": [
    "# 파이썬을 아나콘다로 설치한 경우, 아래 명령어 대신 아나콘다 네비게이터(Anaconda Navigator)를 실행한 뒤\n",
    "# 좌측의 환경(Environment) 탭에서 설치할 수 있습니다.\n",
    "!pip install tensorflow"
   ]
  },
  {
   "cell_type": "code",
   "execution_count": 3,
   "metadata": {},
   "outputs": [
    {
     "name": "stdout",
     "output_type": "stream",
     "text": [
      "Collecting keras\n",
      "  Could not fetch URL https://pypi.python.org/simple/keras/: There was a problem confirming the ssl certificate: [SSL: TLSV1_ALERT_PROTOCOL_VERSION] tlsv1 alert protocol version (_ssl.c:661) - skipping\n",
      "\u001b[31m  Could not find a version that satisfies the requirement keras (from versions: )\u001b[0m\n",
      "\u001b[31mNo matching distribution found for keras\u001b[0m\n",
      "\u001b[33mYou are using pip version 9.0.1, however version 18.0 is available.\n",
      "You should consider upgrading via the 'pip install --upgrade pip' command.\u001b[0m\n"
     ]
    }
   ],
   "source": [
    "# 파이썬을 아나콘다로 설치한 경우, 아래 명령어 대신 아나콘다 네비게이터(Anaconda Navigator)를 실행한 뒤\n",
    "# 좌측의 환경(Environment) 탭에서 설치할 수 있습니다.\n",
    "!pip install keras"
   ]
  },
  {
   "cell_type": "markdown",
   "metadata": {},
   "source": [
    "## MNIST Dataset\n",
    "\n",
    "이번 과제는 [MNIST 필기체 데이터셋](http://yann.lecun.com/exdb/mnist/)을 활용하여 필기체 이미지를 인식하는 이미지 인식 알고리즘을 Multi-layer Neural Network로 작성합니다.\n",
    "\n",
    "가로 28px, 세로 28px의 필기체 이미지가 주어지며, 필기체는 숫자 0부터 9까지 총 10개의 Label로 구성되어 있습니다. 이미지는 컬러가 없는 흑백 데이터이며, 한 픽셀의 값은 0 ~ 255 입니다. (0일수록 어둡고, 255일수록 밝습니다)\n",
    "\n",
    "데이터는 60,000개의 Train 데이터와 10,000개의 Test 데이터가 주어지는데, Train 데이터로 Multi-layer Neural Network를 학습한 뒤 Test 데이터로 정확도(accuracy)를 측정합니다. 각 변수의 세부 정보는 다음과 같습니다.\n",
    "\n",
    "  * **X_train**: **Train 데이터의 Feature** 입니다. 가로 28px, 세로 28px, 총 60,000개의 데이터로 구성되어 있습니다. 픽셀 하나의 값은 0 ~ 255 입니다. (0일수록 어둡고, 255일수록 밝습니다)\n",
    "  * **y_train**: **Train 데이터의 Label** 입니다. 총 60,000 개이며, 이미지가 어떤 숫자를 나타내는지가 적혀 있습니다. 값은 0부터 9까지 입니다.\n",
    "  * **X_test**: **Test 데이터의 Feature** 입니다. 가로 28px, 세로 28px, 총 10,000개의 데이터로 구성되어 있습니다. 픽셀 하나의 값은 0 ~ 255 입니다. (0일수록 어둡고, 255일수록 밝습니다)\n",
    "  * **y_test**: **Test 데이터의 Label** 입니다. 총 10,000 개이며, 이미지가 어떤 숫자를 나타내는지가 적혀 있습니다. 값은 0부터 9까지 입니다.\n",
    "  \n",
    "** 주의 사항 **\n",
    "  * 이전에 XOR data를 풀었던 코드를 조금만 응용하면 매우 쉽게 MNIST 데이터셋 문제를 풀 수 있습니다.\n",
    "  * accuracy가 잘 올라가지 않고 그 이유를 잘 모르겠다면, Loss Function(=Cross Entropy)를 병행해서 사용해보세요. 앞서 언급드린대로 Loss Function은 \"학습이 잘 될수록 0에 수렵하고, 학습이 잘 되지 않을수록 무한대로 발산합니다.\" 즉, Loss Function을 사용할 결과가 무한대로 발산하고 있다면 무언가 제대로 풀리지 않고 있다는 것입니다.\n",
    "  * loss가 제대로 떨어지지 않는다면 문제는 크게 두 가지입니다. 1) weight의 초기값이 좋지 않거나, 2) learning rate가 너무 높거나 낮아서 생기는 문제입니다. loss가 떨어지지 않는다면 weight의 초기값과 learning rate를 바꿔보세요."
   ]
  },
  {
   "cell_type": "code",
   "execution_count": 4,
   "metadata": {},
   "outputs": [
    {
     "name": "stderr",
     "output_type": "stream",
     "text": [
      "Using TensorFlow backend.\n"
     ]
    },
    {
     "name": "stdout",
     "output_type": "stream",
     "text": [
      "(60000, 28, 28) (10000, 28, 28)\n",
      "(60000,) (10000,)\n"
     ]
    }
   ],
   "source": [
    "from keras.datasets import mnist\n",
    "\n",
    "((X_train, y_train), (X_test, y_test)) = mnist.load_data()\n",
    "\n",
    "print(X_train.shape, X_test.shape)\n",
    "print(y_train.shape, y_test.shape)"
   ]
  },
  {
   "cell_type": "code",
   "execution_count": 5,
   "metadata": {},
   "outputs": [
    {
     "name": "stdout",
     "output_type": "stream",
     "text": [
      "[5 0 4 1 9 2 1 3 1 4]\n"
     ]
    },
    {
     "data": {
      "text/plain": [
       "<matplotlib.image.AxesImage at 0x1248e5ac8>"
      ]
     },
     "execution_count": 5,
     "metadata": {},
     "output_type": "execute_result"
    },
    {
     "data": {
      "text/plain": [
       "<matplotlib.figure.Figure at 0x1212542b0>"
      ]
     },
     "metadata": {},
     "output_type": "display_data"
    },
    {
     "data": {
      "image/png": "[encoded data removed]",
      "text/plain": [
       "<matplotlib.figure.Figure at 0x121302a90>"
      ]
     },
     "metadata": {},
     "output_type": "display_data"
    }
   ],
   "source": [
    "%matplotlib inline\n",
    "import matplotlib.pyplot as plt\n",
    "\n",
    "plt.gray()\n",
    "\n",
    "print(y_train[0:10])\n",
    "\n",
    "figures, axes = plt.subplots(nrows=2, ncols=5)\n",
    "figures.set_size_inches(18, 8)\n",
    "\n",
    "axes[0][0].matshow(X_train[0])\n",
    "axes[0][1].matshow(X_train[1])\n",
    "axes[0][2].matshow(X_train[2])\n",
    "axes[0][3].matshow(X_train[3])\n",
    "axes[0][4].matshow(X_train[4])\n",
    "axes[1][0].matshow(X_train[5])\n",
    "axes[1][1].matshow(X_train[6])\n",
    "axes[1][2].matshow(X_train[7])\n",
    "axes[1][3].matshow(X_train[8])\n",
    "axes[1][4].matshow(X_train[9])"
   ]
  },
  {
   "cell_type": "markdown",
   "metadata": {},
   "source": [
    "## Preprocessing"
   ]
  },
  {
   "cell_type": "code",
   "execution_count": 6,
   "metadata": {},
   "outputs": [
    {
     "name": "stdout",
     "output_type": "stream",
     "text": [
      "(60000, 784) (10000, 784)\n"
     ]
    }
   ],
   "source": [
    "X_train = X_train.reshape(60000, 28 * 28)\n",
    "X_test = X_test.reshape(10000, 28 * 28)\n",
    "\n",
    "print(X_train.shape, X_test.shape)"
   ]
  },
  {
   "cell_type": "code",
   "execution_count": 7,
   "metadata": {},
   "outputs": [
    {
     "name": "stdout",
     "output_type": "stream",
     "text": [
      "(60000, 10)\n",
      "(10000, 10)\n"
     ]
    }
   ],
   "source": [
    "from keras.utils import to_categorical\n",
    "\n",
    "# One hot encoding을 합니다.\n",
    "# np.eye(10)[y_train]과 동일합니다.\n",
    "y_train_hot = to_categorical(y_train)\n",
    "\n",
    "# np.eye(10)[y_test]와 동일합니다.\n",
    "y_test_hot = to_categorical(y_test)\n",
    "\n",
    "print(y_train_hot.shape)\n",
    "print(y_test_hot.shape)"
   ]
  },
  {
   "cell_type": "markdown",
   "metadata": {},
   "source": [
    "### Define Sigmoid"
   ]
  },
  {
   "cell_type": "code",
   "execution_count": 8,
   "metadata": {
    "collapsed": true
   },
   "outputs": [],
   "source": [
    "def sigmoid(n):\n",
    "    return 1 / (1 + np.exp(-n))"
   ]
  },
  {
   "cell_type": "code",
   "execution_count": 9,
   "metadata": {},
   "outputs": [
    {
     "data": {
      "text/plain": [
       "[<matplotlib.lines.Line2D at 0x1252cb5f8>]"
      ]
     },
     "execution_count": 9,
     "metadata": {},
     "output_type": "execute_result"
    },
    {
     "data": {
      "image/png": "[encoded data removed]",
      "text/plain": [
       "<matplotlib.figure.Figure at 0x11d65eef0>"
      ]
     },
     "metadata": {},
     "output_type": "display_data"
    }
   ],
   "source": [
    "xx = np.linspace(-10, 10)\n",
    "yy = sigmoid(xx)\n",
    "\n",
    "plt.plot(xx, yy)"
   ]
  },
  {
   "cell_type": "markdown",
   "metadata": {},
   "source": [
    "### Define Cross Entropy"
   ]
  },
  {
   "cell_type": "code",
   "execution_count": null,
   "metadata": {
    "collapsed": true
   },
   "outputs": [],
   "source": [
    "def cross_entropy(actual, predict, eps=1e-15):\n",
    "    actual = np.array(actual)\n",
    "    predict = np.array(predict)\n",
    "\n",
    "    clipped_predict = np.minimum(np.maximum(predict, eps), 1 - eps)\n",
    "\n",
    "    loss = actual * np.log(clipped_predict) + (1 - actual) * np.log(1 - clipped_predict)\n",
    "    \n",
    "    return -1.0 * loss.mean()"
   ]
  },
  {
   "cell_type": "markdown",
   "metadata": {},
   "source": [
    "### Solving MNIST problem using Single-layer Neural Network"
   ]
  },
  {
   "cell_type": "code",
   "execution_count": null,
   "metadata": {},
   "outputs": [
    {
     "name": "stderr",
     "output_type": "stream",
     "text": [
      "/Users/jinhohyeon/anaconda/lib/python3.6/site-packages/ipykernel/__main__.py:2: RuntimeWarning: overflow encountered in exp\n",
      "  from ipykernel import kernelapp as app\n"
     ]
    },
    {
     "name": "stdout",
     "output_type": "stream",
     "text": [
      " 0 accuracy = 0.10607, loss = 18.06346\n",
      "10 accuracy = 0.69435, loss = 2.79165\n",
      "20 accuracy = 0.74805, loss = 1.97651\n",
      "30 accuracy = 0.66805, loss = 2.00155\n",
      "40 accuracy = 0.77535, loss = 1.62490\n",
      "50 accuracy = 0.75258, loss = 1.43424\n"
     ]
    }
   ],
   "source": [
    "num_epoch = 100\n",
    "learning_rate = 0.1\n",
    "\n",
    "w = np.random.uniform(low=-1.0, high=1.0, size=(784, 10))\n",
    "b = np.random.uniform(low=-1.0, high=1.0, size=10)\n",
    "\n",
    "for epoch in range(num_epoch):\n",
    "    y_predict_hot = X_train.dot(w) + b\n",
    "    y_predict_hot = sigmoid(y_predict_hot)\n",
    "    \n",
    "    y_predict = np.argmax(y_predict_hot, axis=1)\n",
    "    accuracy = (y_predict == y_train).mean()\n",
    "    if accuracy > 0.8:\n",
    "        break\n",
    "\n",
    "    loss = cross_entropy(y_train_hot, y_predict_hot)\n",
    "\n",
    "    if epoch % 10 == 0:\n",
    "        print(\"{0:2} accuracy = {1:.5f}, loss = {2:.5f}\".format(epoch, accuracy, loss))\n",
    "\n",
    "    w = w - learning_rate * X_train.T.dot(y_predict_hot - y_train_hot)\n",
    "    b = b - learning_rate * (y_predict_hot - y_train_hot).mean(axis=0)\n",
    "\n",
    "\n",
    "print(\"----\" * 10)\n",
    "print(\"{0:2} accuracy = {1:.5f}, loss = {2:.5f}\".format(epoch, accuracy, loss))"
   ]
  },
  {
   "cell_type": "markdown",
   "metadata": {},
   "source": [
    "## Evaluate"
   ]
  },
  {
   "cell_type": "markdown",
   "metadata": {},
   "source": [
    "### Train"
   ]
  },
  {
   "cell_type": "code",
   "execution_count": null,
   "metadata": {},
   "outputs": [],
   "source": [
    "y_predict_hot = X_train.dot(w) + b\n",
    "y_predict_hot = sigmoid(y_predict_hot)\n",
    "y_predict = np.argmax(y_predict_hot, axis=1)\n",
    "\n",
    "train_result = pd.DataFrame({'actual': y_train, 'predict': y_predict})\n",
    "\n",
    "train_accuracy = (train_result[\"actual\"] == train_result[\"predict\"]).mean()\n",
    "\n",
    "print(\"Accuracy(train) = {0:.5f}\".format(train_accuracy))\n",
    "\n",
    "print(train_result.shape)\n",
    "train_result.head(10)"
   ]
  },
  {
   "cell_type": "markdown",
   "metadata": {
    "collapsed": true
   },
   "source": [
    "### Test"
   ]
  },
  {
   "cell_type": "code",
   "execution_count": null,
   "metadata": {},
   "outputs": [],
   "source": [
    "y_predict_hot = X_test.dot(w) + b\n",
    "y_predict_hot = sigmoid(y_predict_hot)\n",
    "y_predict = np.argmax(y_predict_hot, axis=1)\n",
    "\n",
    "test_result = pd.DataFrame({'actual': y_test, 'predict': y_predict})\n",
    "\n",
    "test_accuracy = (test_result[\"actual\"] == test_result[\"predict\"]).mean()\n",
    "\n",
    "print(\"Accuracy(test) = {0:.5f}\".format(test_accuracy))\n",
    "\n",
    "print(test_result.shape)\n",
    "test_result.head(10)"
   ]
  },
  {
   "cell_type": "markdown",
   "metadata": {
    "collapsed": true
   },
   "source": [
    "### Solving MNIST problem using Multi-layer Neural Network"
   ]
  },
  {
   "cell_type": "code",
   "execution_count": null,
   "metadata": {},
   "outputs": [],
   "source": [
    "num_epoch = 300\n",
    "learning_rate = 0.000001\n",
    "\n",
    "w1 = np.random.uniform(low=-0.057, high=0.057, size=(784, 1000))\n",
    "w2 = np.random.uniform(low=-0.077, high=0.077, size=(1000, 10))\n",
    "\n",
    "b1 = np.zeros((1, 1000))\n",
    "b2 = np.zeros((1, 10))\n",
    "\n",
    "for epoch in range(num_epoch):\n",
    "    z1 = X_train.dot(w1) + b1\n",
    "    a1 = sigmoid(z1)\n",
    "    z2 = a1.dot(w2) + b2\n",
    "    a2 = sigmoid(z2)\n",
    "\n",
    "    y_predict_hot = a2\n",
    "    y_predict = np.argmax(y_predict_hot, axis=1)\n",
    "    accuracy = (y_predict == y_train).mean()\n",
    "    if accuracy > 0.9:\n",
    "        break\n",
    "\n",
    "    loss = cross_entropy(y_train_hot, y_predict_hot)\n",
    "\n",
    "    if epoch % 10 == 0:\n",
    "        print(\"{0:2} accuracy = {1:.5f}, loss = {2:.5f}\".format(epoch, accuracy, loss))\n",
    "\n",
    "    d2 = a2 - y_train_hot\n",
    "    d1 = d2.dot(w2.T) * a1 * (1 - a1)\n",
    "\n",
    "    w2 = w2 - learn`ing_rate * a1.T.dot(d2)\n",
    "    w1 = w1 - learning_rate * X_train.T.dot(d1)\n",
    "\n",
    "    b2 = b2 - learning_rate * d2.mean(axis=0)\n",
    "    b1 = b1 - learning_rate * d1.mean(axis=0)\n",
    "\n",
    "print(\"----\" * 10)\n",
    "print(\"{0:2} accuracy = {1:.5f}, loss = {2:.5f}\".format(epoch, accuracy, loss))"
   ]
  },
  {
   "cell_type": "markdown",
   "metadata": {},
   "source": [
    "### Train (Result)"
   ]
  },
  {
   "cell_type": "code",
   "execution_count": null,
   "metadata": {},
   "outputs": [],
   "source": [
    "z1 = X_train.dot(w1) + b1\n",
    "a1 = sigmoid(z1)\n",
    "z2 = a1.dot(w2) + b2\n",
    "a2 = sigmoid(z2)\n",
    "\n",
    "y_predict_hot = a2\n",
    "y_predict = np.argmax(y_predict_hot, axis=1)\n",
    "\n",
    "train_result = pd.DataFrame({'actual': y_train, 'predict': y_predict})\n",
    "\n",
    "train_accuracy = (train_result[\"actual\"] == train_result[\"predict\"]).mean()\n",
    "\n",
    "print(\"Accuracy(train) = {0:.5f}\".format(train_accuracy))\n",
    "\n",
    "print(train_result.shape)\n",
    "train_result.head(10)"
   ]
  },
  {
   "cell_type": "markdown",
   "metadata": {},
   "source": [
    "### Test (Result)"
   ]
  },
  {
   "cell_type": "code",
   "execution_count": null,
   "metadata": {},
   "outputs": [],
   "source": [
    "z1 = X_test.dot(w1) + b1\n",
    "a1 = sigmoid(z1)\n",
    "z2 = a1.dot(w2) + b2\n",
    "a2 = sigmoid(z2)\n",
    "\n",
    "y_predict_hot = a2\n",
    "y_predict = np.argmax(y_predict_hot, axis=1)\n",
    "\n",
    "test_result = pd.DataFrame({'actual': y_test, 'predict': y_predict})\n",
    "\n",
    "test_accuracy = (test_result[\"actual\"] == test_result[\"predict\"]).mean()\n",
    "\n",
    "print(\"Accuracy(test) = {0:.5f}\".format(test_accuracy))\n",
    "\n",
    "print(test_result.shape)\n",
    "test_result.head(10)"
   ]
  },
  {
   "cell_type": "code",
   "execution_count": null,
   "metadata": {
    "collapsed": true
   },
   "outputs": [],
   "source": []
  },
  {
   "cell_type": "code",
   "execution_count": null,
   "metadata": {
    "collapsed": true
   },
   "outputs": [],
   "source": []
  }
 ],
 "metadata": {
  "kernelspec": {
   "display_name": "Python 3",
   "language": "python",
   "name": "python3"
  },
  "language_info": {
   "codemirror_mode": {
    "name": "ipython",
    "version": 3
   },
   "file_extension": ".py",
   "mimetype": "text/x-python",
   "name": "python",
   "nbconvert_exporter": "python",
   "pygments_lexer": "ipython3",
   "version": "3.6.0"
  }
 },
 "nbformat": 4,
 "nbformat_minor": 1
}
