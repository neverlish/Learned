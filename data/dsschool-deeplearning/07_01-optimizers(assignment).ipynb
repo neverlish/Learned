{
 "cells": [
  {
   "cell_type": "code",
   "execution_count": 1,
   "metadata": {
    "collapsed": true
   },
   "outputs": [],
   "source": [
    "%matplotlib inline\n",
    "import numpy as np\n",
    "import pandas as pd\n",
    "import matplotlib.pyplot as plt"
   ]
  },
  {
   "cell_type": "markdown",
   "metadata": {},
   "source": [
    "## Load Dataset"
   ]
  },
  {
   "cell_type": "code",
   "execution_count": 2,
   "metadata": {
    "collapsed": true
   },
   "outputs": [],
   "source": [
    "from sklearn.datasets import load_digits\n",
    "\n",
    "digits = load_digits()"
   ]
  },
  {
   "cell_type": "code",
   "execution_count": 3,
   "metadata": {},
   "outputs": [
    {
     "name": "stdout",
     "output_type": "stream",
     "text": [
      "(1797, 64)\n"
     ]
    },
    {
     "data": {
      "text/plain": [
       "array([[  0.,   0.,   5., ...,   0.,   0.,   0.],\n",
       "       [  0.,   0.,   0., ...,  10.,   0.,   0.],\n",
       "       [  0.,   0.,   0., ...,  16.,   9.,   0.],\n",
       "       ..., \n",
       "       [  0.,   0.,   1., ...,   6.,   0.,   0.],\n",
       "       [  0.,   0.,   2., ...,  12.,   0.,   0.],\n",
       "       [  0.,   0.,  10., ...,  12.,   1.,   0.]])"
      ]
     },
     "execution_count": 3,
     "metadata": {},
     "output_type": "execute_result"
    }
   ],
   "source": [
    "X = digits[\"data\"]\n",
    "\n",
    "print(X.shape)\n",
    "X"
   ]
  },
  {
   "cell_type": "markdown",
   "metadata": {},
   "source": [
    "### Visualize"
   ]
  },
  {
   "cell_type": "code",
   "execution_count": 4,
   "metadata": {},
   "outputs": [
    {
     "data": {
      "text/plain": [
       "<matplotlib.image.AxesImage at 0x10e25b470>"
      ]
     },
     "execution_count": 4,
     "metadata": {},
     "output_type": "execute_result"
    },
    {
     "data": {
      "text/plain": [
       "<matplotlib.figure.Figure at 0x10f57db38>"
      ]
     },
     "metadata": {},
     "output_type": "display_data"
    },
    {
     "data": {
      "image/png": "[encoded data removed]",
      "text/plain": [
       "<matplotlib.figure.Figure at 0x11929c0f0>"
      ]
     },
     "metadata": {},
     "output_type": "display_data"
    }
   ],
   "source": [
    "%matplotlib inline\n",
    "import matplotlib.pyplot as plt\n",
    "\n",
    "plt.gray()\n",
    "\n",
    "figure, axes = plt.subplots(nrows=2, ncols=5)\n",
    "figure.set_size_inches(18, 8)\n",
    "\n",
    "axes[0][0].matshow(X[0].reshape(8, 8))\n",
    "axes[0][1].matshow(X[1].reshape(8, 8))\n",
    "axes[0][2].matshow(X[2].reshape(8, 8))\n",
    "axes[0][3].matshow(X[3].reshape(8, 8))\n",
    "axes[0][4].matshow(X[4].reshape(8, 8))\n",
    "axes[1][0].matshow(X[5].reshape(8, 8))\n",
    "axes[1][1].matshow(X[6].reshape(8, 8))\n",
    "axes[1][2].matshow(X[7].reshape(8, 8))\n",
    "axes[1][3].matshow(X[8].reshape(8, 8))\n",
    "axes[1][4].matshow(X[9].reshape(8, 8))"
   ]
  },
  {
   "cell_type": "code",
   "execution_count": 5,
   "metadata": {},
   "outputs": [
    {
     "name": "stdout",
     "output_type": "stream",
     "text": [
      "(1797,)\n"
     ]
    },
    {
     "data": {
      "text/plain": [
       "array([0, 1, 2, ..., 8, 9, 8])"
      ]
     },
     "execution_count": 5,
     "metadata": {},
     "output_type": "execute_result"
    }
   ],
   "source": [
    "y = digits[\"target\"]\n",
    "\n",
    "print(y.shape)\n",
    "y"
   ]
  },
  {
   "cell_type": "markdown",
   "metadata": {},
   "source": [
    "## Preprocessing"
   ]
  },
  {
   "cell_type": "code",
   "execution_count": 6,
   "metadata": {},
   "outputs": [
    {
     "data": {
      "text/plain": [
       "(8.995463126623417e-17, -4.8841645798553142, 11.115835420144686)"
      ]
     },
     "execution_count": 6,
     "metadata": {},
     "output_type": "execute_result"
    }
   ],
   "source": [
    "X_mean = X.mean()\n",
    "\n",
    "X = X - X_mean\n",
    "\n",
    "X.mean(), X.min(), X.max()"
   ]
  },
  {
   "cell_type": "code",
   "execution_count": 7,
   "metadata": {},
   "outputs": [
    {
     "name": "stderr",
     "output_type": "stream",
     "text": [
      "Using TensorFlow backend.\n"
     ]
    },
    {
     "name": "stdout",
     "output_type": "stream",
     "text": [
      "(1797,) (1797, 10)\n"
     ]
    }
   ],
   "source": [
    "from keras.utils import to_categorical\n",
    "\n",
    "y_hot = to_categorical(y)\n",
    "\n",
    "print(y.shape, y_hot.shape)"
   ]
  },
  {
   "cell_type": "markdown",
   "metadata": {},
   "source": [
    "## Define Activation"
   ]
  },
  {
   "cell_type": "markdown",
   "metadata": {},
   "source": [
    "### Sigmoid"
   ]
  },
  {
   "cell_type": "code",
   "execution_count": 8,
   "metadata": {},
   "outputs": [
    {
     "data": {
      "text/plain": [
       "[<matplotlib.lines.Line2D at 0x12ad43748>]"
      ]
     },
     "execution_count": 8,
     "metadata": {},
     "output_type": "execute_result"
    },
    {
     "data": {
      "image/png": "[encoded data removed]",
      "text/plain": [
       "<matplotlib.figure.Figure at 0x12acdd4a8>"
      ]
     },
     "metadata": {},
     "output_type": "display_data"
    }
   ],
   "source": [
    "def sigmoid(n):\n",
    "    return 1 / (1 + np.exp(-n))\n",
    "\n",
    "xx = np.linspace(start=-9, stop=+9)\n",
    "yy = sigmoid(xx)\n",
    "\n",
    "plt.plot(xx, yy)"
   ]
  },
  {
   "cell_type": "code",
   "execution_count": 9,
   "metadata": {},
   "outputs": [
    {
     "data": {
      "text/plain": [
       "[<matplotlib.lines.Line2D at 0x12ae84588>]"
      ]
     },
     "execution_count": 9,
     "metadata": {},
     "output_type": "execute_result"
    },
    {
     "data": {
      "image/png": "[encoded data removed]",
      "text/plain": [
       "<matplotlib.figure.Figure at 0x12ad5b3c8>"
      ]
     },
     "metadata": {},
     "output_type": "display_data"
    }
   ],
   "source": [
    "def sigmoid_derivative(n):\n",
    "    return sigmoid(n) * (1 - sigmoid(n))\n",
    "\n",
    "xx = np.linspace(start=-9, stop=+9)\n",
    "yy = sigmoid_derivative(xx)\n",
    "\n",
    "plt.plot(xx, yy)"
   ]
  },
  {
   "cell_type": "markdown",
   "metadata": {},
   "source": [
    "## Define Cross Entropy"
   ]
  },
  {
   "cell_type": "code",
   "execution_count": 10,
   "metadata": {
    "collapsed": true
   },
   "outputs": [],
   "source": [
    "def cross_entropy(actual, predict, eps=1e-5):\n",
    "    actual = np.array(actual)\n",
    "    predict = np.array(predict)\n",
    "\n",
    "    clipped_predict = np.minimum(np.maximum(predict, eps), 1 - eps)\n",
    "\n",
    "    loss = actual * np.log(clipped_predict) + (1 - actual) * np.log(1 - clipped_predict)\n",
    "    \n",
    "    return -1.0 * loss.mean()"
   ]
  },
  {
   "cell_type": "markdown",
   "metadata": {},
   "source": [
    "## Build a Model"
   ]
  },
  {
   "cell_type": "code",
   "execution_count": 11,
   "metadata": {
    "collapsed": true
   },
   "outputs": [],
   "source": [
    "from time import time\n",
    "\n",
    "def train(X, y, num_epoch, learning_rate, update_method):\n",
    "    history = []\n",
    "\n",
    "    start = time()\n",
    "\n",
    "    w1 = np.random.uniform(low=-np.sqrt(6 / (64+100)),\n",
    "                           high=+np.sqrt(6 / (64+100)),\n",
    "                           size=(64, 100))\n",
    "\n",
    "    w2 = np.random.uniform(low=-np.sqrt(6 / (100+10)),\n",
    "                           high=+np.sqrt(6 / (100+10)),\n",
    "                           size=(100, 10))\n",
    "\n",
    "    for epoch in range(num_epoch):\n",
    "        # Forward Propagation\n",
    "        z1 = X.dot(w1)\n",
    "        a1 = sigmoid(z1)\n",
    "        z2 = a1.dot(w2)\n",
    "        a2 = sigmoid(z2)\n",
    "\n",
    "        y_predict = np.argmax(a2, axis=1)\n",
    "\n",
    "        accuracy = (y_predict == y).mean()\n",
    "        loss = cross_entropy(a2, y_hot)\n",
    "\n",
    "        if epoch % (num_epoch // 10) == 0:\n",
    "            print(\"{0:3} accuracy = {1:.5f}, loss = {2:.5f}\".format(epoch, accuracy, loss))\n",
    "\n",
    "        history.append({\n",
    "            'epoch': epoch,\n",
    "            'elapsed': time() - start,\n",
    "            'accuracy': accuracy,\n",
    "            'loss': loss,\n",
    "        })\n",
    "\n",
    "        # Backpropagation\n",
    "        d2 = (a2 - y_hot)\n",
    "        d1 = d2.dot(w2.T) * sigmoid_derivative(z1)\n",
    "\n",
    "        # Weight gradients\n",
    "        dw2 = a1.T.dot(d2)\n",
    "        dw1 = X.T.dot(d1)\n",
    "\n",
    "        w1, w2 = update_method(epoch, learning_rate, w1, w2, dw1, dw2)\n",
    "\n",
    "    print(\"----\" * 10)\n",
    "    print(\"{0:3} accuracy = {1:.5f}, loss = {2:.5f}\".format(epoch, accuracy, loss))\n",
    "    \n",
    "    history = pd.DataFrame(history)\n",
    "    history = history[[\"epoch\", \"elapsed\", \"accuracy\", \"loss\"]]\n",
    "\n",
    "    return history"
   ]
  },
  {
   "cell_type": "markdown",
   "metadata": {
    "collapsed": true
   },
   "source": [
    "### Stochastic Gradient Descent"
   ]
  },
  {
   "cell_type": "code",
   "execution_count": 12,
   "metadata": {},
   "outputs": [
    {
     "name": "stdout",
     "output_type": "stream",
     "text": [
      "  0 accuracy = 0.07568, loss = 5.58334\n",
      " 10 accuracy = 0.84085, loss = 1.64853\n",
      " 20 accuracy = 0.90818, loss = 1.29857\n",
      " 30 accuracy = 0.93155, loss = 1.07193\n",
      " 40 accuracy = 0.94491, loss = 0.91358\n",
      " 50 accuracy = 0.95326, loss = 0.79718\n",
      " 60 accuracy = 0.96105, loss = 0.70793\n",
      " 70 accuracy = 0.96661, loss = 0.63710\n",
      " 80 accuracy = 0.97106, loss = 0.57949\n",
      " 90 accuracy = 0.97329, loss = 0.53174\n",
      "----------------------------------------\n",
      " 99 accuracy = 0.97551, loss = 0.49529\n"
     ]
    },
    {
     "data": {
      "text/html": [
       "<div>\n",
       "<style scoped>\n",
       "    .dataframe tbody tr th:only-of-type {\n",
       "        vertical-align: middle;\n",
       "    }\n",
       "\n",
       "    .dataframe tbody tr th {\n",
       "        vertical-align: top;\n",
       "    }\n",
       "\n",
       "    .dataframe thead th {\n",
       "        text-align: right;\n",
       "    }\n",
       "</style>\n",
       "<table border=\"1\" class=\"dataframe\">\n",
       "  <thead>\n",
       "    <tr style=\"text-align: right;\">\n",
       "      <th></th>\n",
       "      <th>epoch</th>\n",
       "      <th>elapsed</th>\n",
       "      <th>accuracy</th>\n",
       "      <th>loss</th>\n",
       "    </tr>\n",
       "  </thead>\n",
       "  <tbody>\n",
       "    <tr>\n",
       "      <th>0</th>\n",
       "      <td>0</td>\n",
       "      <td>0.009683</td>\n",
       "      <td>0.075682</td>\n",
       "      <td>5.583337</td>\n",
       "    </tr>\n",
       "    <tr>\n",
       "      <th>1</th>\n",
       "      <td>1</td>\n",
       "      <td>0.024208</td>\n",
       "      <td>0.207568</td>\n",
       "      <td>1.692206</td>\n",
       "    </tr>\n",
       "    <tr>\n",
       "      <th>2</th>\n",
       "      <td>2</td>\n",
       "      <td>0.034226</td>\n",
       "      <td>0.392877</td>\n",
       "      <td>1.836360</td>\n",
       "    </tr>\n",
       "    <tr>\n",
       "      <th>3</th>\n",
       "      <td>3</td>\n",
       "      <td>0.042098</td>\n",
       "      <td>0.512521</td>\n",
       "      <td>1.895939</td>\n",
       "    </tr>\n",
       "    <tr>\n",
       "      <th>4</th>\n",
       "      <td>4</td>\n",
       "      <td>0.050459</td>\n",
       "      <td>0.606010</td>\n",
       "      <td>1.895760</td>\n",
       "    </tr>\n",
       "    <tr>\n",
       "      <th>5</th>\n",
       "      <td>5</td>\n",
       "      <td>0.059184</td>\n",
       "      <td>0.682248</td>\n",
       "      <td>1.865722</td>\n",
       "    </tr>\n",
       "    <tr>\n",
       "      <th>6</th>\n",
       "      <td>6</td>\n",
       "      <td>0.067682</td>\n",
       "      <td>0.734558</td>\n",
       "      <td>1.824308</td>\n",
       "    </tr>\n",
       "    <tr>\n",
       "      <th>7</th>\n",
       "      <td>7</td>\n",
       "      <td>0.075515</td>\n",
       "      <td>0.781302</td>\n",
       "      <td>1.779858</td>\n",
       "    </tr>\n",
       "    <tr>\n",
       "      <th>8</th>\n",
       "      <td>8</td>\n",
       "      <td>0.083853</td>\n",
       "      <td>0.807457</td>\n",
       "      <td>1.735295</td>\n",
       "    </tr>\n",
       "    <tr>\n",
       "      <th>9</th>\n",
       "      <td>9</td>\n",
       "      <td>0.091678</td>\n",
       "      <td>0.826934</td>\n",
       "      <td>1.691442</td>\n",
       "    </tr>\n",
       "  </tbody>\n",
       "</table>\n",
       "</div>"
      ],
      "text/plain": [
       "   epoch   elapsed  accuracy      loss\n",
       "0      0  0.009683  0.075682  5.583337\n",
       "1      1  0.024208  0.207568  1.692206\n",
       "2      2  0.034226  0.392877  1.836360\n",
       "3      3  0.042098  0.512521  1.895939\n",
       "4      4  0.050459  0.606010  1.895760\n",
       "5      5  0.059184  0.682248  1.865722\n",
       "6      6  0.067682  0.734558  1.824308\n",
       "7      7  0.075515  0.781302  1.779858\n",
       "8      8  0.083853  0.807457  1.735295\n",
       "9      9  0.091678  0.826934  1.691442"
      ]
     },
     "execution_count": 12,
     "metadata": {},
     "output_type": "execute_result"
    }
   ],
   "source": [
    "# Write your code here!\n",
    "\n",
    "def update_sgd(epoch, learning_rate, w1, w2, dw1, dw2):\n",
    "    w2 = w2 - learning_rate * dw2\n",
    "    w1 = w1 - learning_rate * dw1\n",
    "    \n",
    "    return w1, w2\n",
    "\n",
    "num_epoch = 100\n",
    "learning_rate = 0.0001\n",
    "\n",
    "history_sgd = train(X, y, num_epoch, learning_rate,\n",
    "                    update_method = update_sgd)\n",
    "\n",
    "history_sgd.head(10)"
   ]
  },
  {
   "cell_type": "code",
   "execution_count": 13,
   "metadata": {},
   "outputs": [
    {
     "data": {
      "text/plain": [
       "<matplotlib.legend.Legend at 0x12aeb28d0>"
      ]
     },
     "execution_count": 13,
     "metadata": {},
     "output_type": "execute_result"
    },
    {
     "data": {
      "image/png": "[encoded data removed]",
      "text/plain": [
       "<matplotlib.figure.Figure at 0x12aeb27b8>"
      ]
     },
     "metadata": {},
     "output_type": "display_data"
    }
   ],
   "source": [
    "plt.plot(history_sgd['elapsed'], history_sgd['accuracy'], label='sgd')\n",
    "\n",
    "plt.legend()"
   ]
  },
  {
   "cell_type": "markdown",
   "metadata": {},
   "source": [
    "### Momentum"
   ]
  },
  {
   "cell_type": "code",
   "execution_count": 14,
   "metadata": {},
   "outputs": [
    {
     "name": "stdout",
     "output_type": "stream",
     "text": [
      "  0 accuracy = 0.18475, loss = 6.27621\n",
      " 10 accuracy = 0.79577, loss = 2.11660\n",
      " 20 accuracy = 0.89816, loss = 1.02100\n",
      " 30 accuracy = 0.94658, loss = 0.56393\n",
      " 40 accuracy = 0.96884, loss = 0.36361\n",
      " 50 accuracy = 0.98164, loss = 0.27009\n",
      " 60 accuracy = 0.98553, loss = 0.21502\n",
      " 70 accuracy = 0.98887, loss = 0.18221\n",
      " 80 accuracy = 0.99165, loss = 0.15920\n",
      " 90 accuracy = 0.99332, loss = 0.14213\n",
      "----------------------------------------\n",
      " 99 accuracy = 0.99332, loss = 0.12976\n"
     ]
    },
    {
     "data": {
      "text/html": [
       "<div>\n",
       "<style scoped>\n",
       "    .dataframe tbody tr th:only-of-type {\n",
       "        vertical-align: middle;\n",
       "    }\n",
       "\n",
       "    .dataframe tbody tr th {\n",
       "        vertical-align: top;\n",
       "    }\n",
       "\n",
       "    .dataframe thead th {\n",
       "        text-align: right;\n",
       "    }\n",
       "</style>\n",
       "<table border=\"1\" class=\"dataframe\">\n",
       "  <thead>\n",
       "    <tr style=\"text-align: right;\">\n",
       "      <th></th>\n",
       "      <th>epoch</th>\n",
       "      <th>elapsed</th>\n",
       "      <th>accuracy</th>\n",
       "      <th>loss</th>\n",
       "    </tr>\n",
       "  </thead>\n",
       "  <tbody>\n",
       "    <tr>\n",
       "      <th>0</th>\n",
       "      <td>0</td>\n",
       "      <td>0.005315</td>\n",
       "      <td>0.184752</td>\n",
       "      <td>6.276213</td>\n",
       "    </tr>\n",
       "    <tr>\n",
       "      <th>1</th>\n",
       "      <td>1</td>\n",
       "      <td>0.017017</td>\n",
       "      <td>0.282693</td>\n",
       "      <td>1.622018</td>\n",
       "    </tr>\n",
       "    <tr>\n",
       "      <th>2</th>\n",
       "      <td>2</td>\n",
       "      <td>0.028016</td>\n",
       "      <td>0.302170</td>\n",
       "      <td>1.228058</td>\n",
       "    </tr>\n",
       "    <tr>\n",
       "      <th>3</th>\n",
       "      <td>3</td>\n",
       "      <td>0.036249</td>\n",
       "      <td>0.323873</td>\n",
       "      <td>1.198835</td>\n",
       "    </tr>\n",
       "    <tr>\n",
       "      <th>4</th>\n",
       "      <td>4</td>\n",
       "      <td>0.046920</td>\n",
       "      <td>0.356149</td>\n",
       "      <td>1.238601</td>\n",
       "    </tr>\n",
       "    <tr>\n",
       "      <th>5</th>\n",
       "      <td>5</td>\n",
       "      <td>0.055589</td>\n",
       "      <td>0.372287</td>\n",
       "      <td>1.353465</td>\n",
       "    </tr>\n",
       "    <tr>\n",
       "      <th>6</th>\n",
       "      <td>6</td>\n",
       "      <td>0.064031</td>\n",
       "      <td>0.416806</td>\n",
       "      <td>1.553810</td>\n",
       "    </tr>\n",
       "    <tr>\n",
       "      <th>7</th>\n",
       "      <td>7</td>\n",
       "      <td>0.072128</td>\n",
       "      <td>0.474124</td>\n",
       "      <td>1.829706</td>\n",
       "    </tr>\n",
       "    <tr>\n",
       "      <th>8</th>\n",
       "      <td>8</td>\n",
       "      <td>0.079974</td>\n",
       "      <td>0.641068</td>\n",
       "      <td>2.105618</td>\n",
       "    </tr>\n",
       "    <tr>\n",
       "      <th>9</th>\n",
       "      <td>9</td>\n",
       "      <td>0.088103</td>\n",
       "      <td>0.786311</td>\n",
       "      <td>2.235140</td>\n",
       "    </tr>\n",
       "  </tbody>\n",
       "</table>\n",
       "</div>"
      ],
      "text/plain": [
       "   epoch   elapsed  accuracy      loss\n",
       "0      0  0.005315  0.184752  6.276213\n",
       "1      1  0.017017  0.282693  1.622018\n",
       "2      2  0.028016  0.302170  1.228058\n",
       "3      3  0.036249  0.323873  1.198835\n",
       "4      4  0.046920  0.356149  1.238601\n",
       "5      5  0.055589  0.372287  1.353465\n",
       "6      6  0.064031  0.416806  1.553810\n",
       "7      7  0.072128  0.474124  1.829706\n",
       "8      8  0.079974  0.641068  2.105618\n",
       "9      9  0.088103  0.786311  2.235140"
      ]
     },
     "execution_count": 14,
     "metadata": {},
     "output_type": "execute_result"
    }
   ],
   "source": [
    "# Write your code here!\n",
    "\n",
    "mu = 0.9\n",
    "\n",
    "cache_dw1, cache_dw2 = 0, 0\n",
    "\n",
    "def update_momentum(epoch, learning_rate, w1, w2, dw1, dw2):\n",
    "    global cache_dw1, cache_dw2\n",
    "    \n",
    "    cache_dw2 = mu * cache_dw2 - learning_rate * dw2\n",
    "    w2 = w2 + cache_dw2\n",
    "    \n",
    "    cache_dw1 = mu * cache_dw1 - learning_rate * dw1\n",
    "    w1 = w1 + cache_dw1\n",
    "    \n",
    "    return w1, w2\n",
    "\n",
    "num_epoch = 100\n",
    "learning_rate = 0.0001\n",
    "\n",
    "history_momentum = train(X, y, num_epoch, learning_rate,\n",
    "                         update_method = update_momentum)\n",
    "    \n",
    "history_momentum.head(10)"
   ]
  },
  {
   "cell_type": "code",
   "execution_count": 15,
   "metadata": {},
   "outputs": [
    {
     "data": {
      "text/plain": [
       "<matplotlib.legend.Legend at 0x12cfa63c8>"
      ]
     },
     "execution_count": 15,
     "metadata": {},
     "output_type": "execute_result"
    },
    {
     "data": {
      "image/png": "[encoded data removed]",
      "text/plain": [
       "<matplotlib.figure.Figure at 0x12cfe9470>"
      ]
     },
     "metadata": {},
     "output_type": "display_data"
    }
   ],
   "source": [
    "plt.plot(history_sgd['elapsed'], history_sgd['accuracy'], label='sgd')\n",
    "plt.plot(history_momentum['elapsed'], history_momentum['accuracy'], label='momentum')\n",
    "\n",
    "plt.legend()"
   ]
  },
  {
   "cell_type": "markdown",
   "metadata": {},
   "source": [
    "### Nesterov Momentum"
   ]
  },
  {
   "cell_type": "code",
   "execution_count": 16,
   "metadata": {},
   "outputs": [
    {
     "name": "stdout",
     "output_type": "stream",
     "text": [
      "  0 accuracy = 0.09683, loss = 5.74303\n",
      " 10 accuracy = 0.88036, loss = 1.25833\n",
      " 20 accuracy = 0.94936, loss = 0.60960\n",
      " 30 accuracy = 0.96995, loss = 0.34195\n",
      " 40 accuracy = 0.98609, loss = 0.23259\n",
      " 50 accuracy = 0.98887, loss = 0.17851\n",
      " 60 accuracy = 0.99221, loss = 0.14675\n",
      " 70 accuracy = 0.99444, loss = 0.12637\n",
      " 80 accuracy = 0.99499, loss = 0.11137\n",
      " 90 accuracy = 0.99499, loss = 0.09979\n",
      "----------------------------------------\n",
      " 99 accuracy = 0.99555, loss = 0.09138\n"
     ]
    },
    {
     "data": {
      "text/html": [
       "<div>\n",
       "<style scoped>\n",
       "    .dataframe tbody tr th:only-of-type {\n",
       "        vertical-align: middle;\n",
       "    }\n",
       "\n",
       "    .dataframe tbody tr th {\n",
       "        vertical-align: top;\n",
       "    }\n",
       "\n",
       "    .dataframe thead th {\n",
       "        text-align: right;\n",
       "    }\n",
       "</style>\n",
       "<table border=\"1\" class=\"dataframe\">\n",
       "  <thead>\n",
       "    <tr style=\"text-align: right;\">\n",
       "      <th></th>\n",
       "      <th>epoch</th>\n",
       "      <th>elapsed</th>\n",
       "      <th>accuracy</th>\n",
       "      <th>loss</th>\n",
       "    </tr>\n",
       "  </thead>\n",
       "  <tbody>\n",
       "    <tr>\n",
       "      <th>0</th>\n",
       "      <td>0</td>\n",
       "      <td>0.005255</td>\n",
       "      <td>0.096828</td>\n",
       "      <td>5.743032</td>\n",
       "    </tr>\n",
       "    <tr>\n",
       "      <th>1</th>\n",
       "      <td>1</td>\n",
       "      <td>0.016009</td>\n",
       "      <td>0.109627</td>\n",
       "      <td>1.273479</td>\n",
       "    </tr>\n",
       "    <tr>\n",
       "      <th>2</th>\n",
       "      <td>2</td>\n",
       "      <td>0.027003</td>\n",
       "      <td>0.153033</td>\n",
       "      <td>1.305051</td>\n",
       "    </tr>\n",
       "    <tr>\n",
       "      <th>3</th>\n",
       "      <td>3</td>\n",
       "      <td>0.037689</td>\n",
       "      <td>0.272120</td>\n",
       "      <td>1.460711</td>\n",
       "    </tr>\n",
       "    <tr>\n",
       "      <th>4</th>\n",
       "      <td>4</td>\n",
       "      <td>0.045952</td>\n",
       "      <td>0.380078</td>\n",
       "      <td>1.675385</td>\n",
       "    </tr>\n",
       "    <tr>\n",
       "      <th>5</th>\n",
       "      <td>5</td>\n",
       "      <td>0.054947</td>\n",
       "      <td>0.499165</td>\n",
       "      <td>1.795231</td>\n",
       "    </tr>\n",
       "    <tr>\n",
       "      <th>6</th>\n",
       "      <td>6</td>\n",
       "      <td>0.063079</td>\n",
       "      <td>0.654981</td>\n",
       "      <td>1.810989</td>\n",
       "    </tr>\n",
       "    <tr>\n",
       "      <th>7</th>\n",
       "      <td>7</td>\n",
       "      <td>0.071460</td>\n",
       "      <td>0.697830</td>\n",
       "      <td>1.674761</td>\n",
       "    </tr>\n",
       "    <tr>\n",
       "      <th>8</th>\n",
       "      <td>8</td>\n",
       "      <td>0.079493</td>\n",
       "      <td>0.736784</td>\n",
       "      <td>1.505719</td>\n",
       "    </tr>\n",
       "    <tr>\n",
       "      <th>9</th>\n",
       "      <td>9</td>\n",
       "      <td>0.087697</td>\n",
       "      <td>0.818030</td>\n",
       "      <td>1.365389</td>\n",
       "    </tr>\n",
       "  </tbody>\n",
       "</table>\n",
       "</div>"
      ],
      "text/plain": [
       "   epoch   elapsed  accuracy      loss\n",
       "0      0  0.005255  0.096828  5.743032\n",
       "1      1  0.016009  0.109627  1.273479\n",
       "2      2  0.027003  0.153033  1.305051\n",
       "3      3  0.037689  0.272120  1.460711\n",
       "4      4  0.045952  0.380078  1.675385\n",
       "5      5  0.054947  0.499165  1.795231\n",
       "6      6  0.063079  0.654981  1.810989\n",
       "7      7  0.071460  0.697830  1.674761\n",
       "8      8  0.079493  0.736784  1.505719\n",
       "9      9  0.087697  0.818030  1.365389"
      ]
     },
     "execution_count": 16,
     "metadata": {},
     "output_type": "execute_result"
    }
   ],
   "source": [
    "# Write your code here!\n",
    "\n",
    "mu = 0.9\n",
    "\n",
    "cache_dw1, cache_dw2 = 0, 0\n",
    "\n",
    "def update_nesterov(epoch, learning_rate, w1, w2, dw1, dw2):\n",
    "    global cache_dw1, cache_dw2\n",
    "    \n",
    "    dw2_prev = cache_dw2\n",
    "    cache_dw2 = mu * cache_dw2 - learning_rate * dw2\n",
    "    w2 = w2 + (-mu * dw2_prev) + (1 + mu) * cache_dw2\n",
    "    \n",
    "    dw1_prev = cache_dw1\n",
    "    cache_dw1 = mu * cache_dw1 - learning_rate * dw1\n",
    "    w1 = w1 + (-mu * dw1_prev) + (1 + mu) * cache_dw1\n",
    "    \n",
    "    return w1, w2\n",
    "\n",
    "num_epoch = 100\n",
    "learning_rate = 0.0001\n",
    "\n",
    "history_nesterov = train(X, y, num_epoch, learning_rate,\n",
    "                         update_method = update_nesterov)\n",
    "\n",
    "history_nesterov.head(10)"
   ]
  },
  {
   "cell_type": "code",
   "execution_count": 17,
   "metadata": {},
   "outputs": [
    {
     "data": {
      "text/plain": [
       "<matplotlib.legend.Legend at 0x12d0dea90>"
      ]
     },
     "execution_count": 17,
     "metadata": {},
     "output_type": "execute_result"
    },
    {
     "data": {
      "image/png": "[encoded data removed]",
      "text/plain": [
       "<matplotlib.figure.Figure at 0x12d0b6e80>"
      ]
     },
     "metadata": {},
     "output_type": "display_data"
    }
   ],
   "source": [
    "plt.plot(history_sgd['elapsed'], history_sgd['accuracy'], label='sgd')\n",
    "plt.plot(history_momentum['elapsed'], history_momentum['accuracy'], label='momentum')\n",
    "plt.plot(history_nesterov['elapsed'], history_nesterov['accuracy'], label='nesterov')\n",
    "\n",
    "\n",
    "plt.legend()"
   ]
  },
  {
   "cell_type": "markdown",
   "metadata": {
    "collapsed": true
   },
   "source": [
    "### AdaGrad"
   ]
  },
  {
   "cell_type": "code",
   "execution_count": 18,
   "metadata": {},
   "outputs": [
    {
     "name": "stdout",
     "output_type": "stream",
     "text": [
      "  0 accuracy = 0.09850, loss = 5.05303\n",
      " 10 accuracy = 0.84363, loss = 1.77944\n",
      " 20 accuracy = 0.89649, loss = 1.51760\n",
      " 30 accuracy = 0.91597, loss = 1.33541\n",
      " 40 accuracy = 0.93155, loss = 1.20084\n",
      " 50 accuracy = 0.94213, loss = 1.09480\n",
      " 60 accuracy = 0.95159, loss = 1.00900\n",
      " 70 accuracy = 0.95437, loss = 0.93618\n",
      " 80 accuracy = 0.96160, loss = 0.87384\n",
      " 90 accuracy = 0.96605, loss = 0.82097\n",
      "----------------------------------------\n",
      " 99 accuracy = 0.96661, loss = 0.77977\n"
     ]
    },
    {
     "data": {
      "text/html": [
       "<div>\n",
       "<style scoped>\n",
       "    .dataframe tbody tr th:only-of-type {\n",
       "        vertical-align: middle;\n",
       "    }\n",
       "\n",
       "    .dataframe tbody tr th {\n",
       "        vertical-align: top;\n",
       "    }\n",
       "\n",
       "    .dataframe thead th {\n",
       "        text-align: right;\n",
       "    }\n",
       "</style>\n",
       "<table border=\"1\" class=\"dataframe\">\n",
       "  <thead>\n",
       "    <tr style=\"text-align: right;\">\n",
       "      <th></th>\n",
       "      <th>epoch</th>\n",
       "      <th>elapsed</th>\n",
       "      <th>accuracy</th>\n",
       "      <th>loss</th>\n",
       "    </tr>\n",
       "  </thead>\n",
       "  <tbody>\n",
       "    <tr>\n",
       "      <th>0</th>\n",
       "      <td>0</td>\n",
       "      <td>0.005062</td>\n",
       "      <td>0.098497</td>\n",
       "      <td>5.053033</td>\n",
       "    </tr>\n",
       "    <tr>\n",
       "      <th>1</th>\n",
       "      <td>1</td>\n",
       "      <td>0.017001</td>\n",
       "      <td>0.200890</td>\n",
       "      <td>3.005381</td>\n",
       "    </tr>\n",
       "    <tr>\n",
       "      <th>2</th>\n",
       "      <td>2</td>\n",
       "      <td>0.027792</td>\n",
       "      <td>0.329994</td>\n",
       "      <td>2.479846</td>\n",
       "    </tr>\n",
       "    <tr>\n",
       "      <th>3</th>\n",
       "      <td>3</td>\n",
       "      <td>0.039045</td>\n",
       "      <td>0.462437</td>\n",
       "      <td>2.241579</td>\n",
       "    </tr>\n",
       "    <tr>\n",
       "      <th>4</th>\n",
       "      <td>4</td>\n",
       "      <td>0.047074</td>\n",
       "      <td>0.580968</td>\n",
       "      <td>2.104131</td>\n",
       "    </tr>\n",
       "    <tr>\n",
       "      <th>5</th>\n",
       "      <td>5</td>\n",
       "      <td>0.057179</td>\n",
       "      <td>0.658876</td>\n",
       "      <td>2.015764</td>\n",
       "    </tr>\n",
       "    <tr>\n",
       "      <th>6</th>\n",
       "      <td>6</td>\n",
       "      <td>0.065217</td>\n",
       "      <td>0.729549</td>\n",
       "      <td>1.948677</td>\n",
       "    </tr>\n",
       "    <tr>\n",
       "      <th>7</th>\n",
       "      <td>7</td>\n",
       "      <td>0.073134</td>\n",
       "      <td>0.774624</td>\n",
       "      <td>1.897547</td>\n",
       "    </tr>\n",
       "    <tr>\n",
       "      <th>8</th>\n",
       "      <td>8</td>\n",
       "      <td>0.081240</td>\n",
       "      <td>0.802449</td>\n",
       "      <td>1.852573</td>\n",
       "    </tr>\n",
       "    <tr>\n",
       "      <th>9</th>\n",
       "      <td>9</td>\n",
       "      <td>0.089365</td>\n",
       "      <td>0.826377</td>\n",
       "      <td>1.814819</td>\n",
       "    </tr>\n",
       "  </tbody>\n",
       "</table>\n",
       "</div>"
      ],
      "text/plain": [
       "   epoch   elapsed  accuracy      loss\n",
       "0      0  0.005062  0.098497  5.053033\n",
       "1      1  0.017001  0.200890  3.005381\n",
       "2      2  0.027792  0.329994  2.479846\n",
       "3      3  0.039045  0.462437  2.241579\n",
       "4      4  0.047074  0.580968  2.104131\n",
       "5      5  0.057179  0.658876  2.015764\n",
       "6      6  0.065217  0.729549  1.948677\n",
       "7      7  0.073134  0.774624  1.897547\n",
       "8      8  0.081240  0.802449  1.852573\n",
       "9      9  0.089365  0.826377  1.814819"
      ]
     },
     "execution_count": 18,
     "metadata": {},
     "output_type": "execute_result"
    }
   ],
   "source": [
    "# Write your code here!\n",
    "\n",
    "eps = 0.000000000001\n",
    "cache_dw1, cache_dw2 = 0, 0\n",
    "\n",
    "def update_adagrad(epoch, learning_rate, w1, w2, dw1, dw2):\n",
    "    global cache_dw1, cache_dw2\n",
    "    \n",
    "    cache_dw2 = cache_dw2 + dw2 ** 2\n",
    "    w2 = w2 - learning_rate * dw2 / (np.sqrt(cache_dw2) + eps)\n",
    "    \n",
    "    cache_dw1 = cache_dw1 + dw1 ** 2\n",
    "    w1 = w1 - learning_rate * dw1 / (np.sqrt(cache_dw1) + eps)\n",
    "    \n",
    "    return w1, w2\n",
    "\n",
    "num_epoch = 100\n",
    "learning_rate = 0.01\n",
    "\n",
    "history_adagrad = train(X, y, num_epoch, learning_rate,\n",
    "                         update_method = update_adagrad)\n",
    "\n",
    "history_adagrad.head(10)"
   ]
  },
  {
   "cell_type": "code",
   "execution_count": 19,
   "metadata": {},
   "outputs": [
    {
     "data": {
      "text/plain": [
       "<matplotlib.legend.Legend at 0x12d2fcc88>"
      ]
     },
     "execution_count": 19,
     "metadata": {},
     "output_type": "execute_result"
    },
    {
     "data": {
      "image/png": "[encoded data removed]",
      "text/plain": [
       "<matplotlib.figure.Figure at 0x12d1e9828>"
      ]
     },
     "metadata": {},
     "output_type": "display_data"
    }
   ],
   "source": [
    "plt.plot(history_sgd['elapsed'], history_sgd['accuracy'], label='sgd')\n",
    "plt.plot(history_momentum['elapsed'], history_momentum['accuracy'], label='momentum')\n",
    "plt.plot(history_nesterov['elapsed'], history_nesterov['accuracy'], label='nesterov')\n",
    "plt.plot(history_adagrad['elapsed'], history_adagrad['accuracy'], label='adagrad')\n",
    "\n",
    "plt.legend()"
   ]
  },
  {
   "cell_type": "markdown",
   "metadata": {},
   "source": [
    "### RMSProp"
   ]
  },
  {
   "cell_type": "code",
   "execution_count": 20,
   "metadata": {},
   "outputs": [
    {
     "name": "stdout",
     "output_type": "stream",
     "text": [
      "  0 accuracy = 0.07513, loss = 6.09293\n",
      " 10 accuracy = 0.88203, loss = 1.36482\n",
      " 20 accuracy = 0.95270, loss = 0.97050\n",
      " 30 accuracy = 0.97273, loss = 0.75346\n",
      " 40 accuracy = 0.97830, loss = 0.60527\n",
      " 50 accuracy = 0.98219, loss = 0.50566\n",
      " 60 accuracy = 0.98442, loss = 0.43196\n",
      " 70 accuracy = 0.98720, loss = 0.37740\n",
      " 80 accuracy = 0.98943, loss = 0.33524\n",
      " 90 accuracy = 0.98998, loss = 0.30083\n",
      "----------------------------------------\n",
      " 99 accuracy = 0.99110, loss = 0.27670\n"
     ]
    },
    {
     "data": {
      "text/html": [
       "<div>\n",
       "<style scoped>\n",
       "    .dataframe tbody tr th:only-of-type {\n",
       "        vertical-align: middle;\n",
       "    }\n",
       "\n",
       "    .dataframe tbody tr th {\n",
       "        vertical-align: top;\n",
       "    }\n",
       "\n",
       "    .dataframe thead th {\n",
       "        text-align: right;\n",
       "    }\n",
       "</style>\n",
       "<table border=\"1\" class=\"dataframe\">\n",
       "  <thead>\n",
       "    <tr style=\"text-align: right;\">\n",
       "      <th></th>\n",
       "      <th>epoch</th>\n",
       "      <th>elapsed</th>\n",
       "      <th>accuracy</th>\n",
       "      <th>loss</th>\n",
       "    </tr>\n",
       "  </thead>\n",
       "  <tbody>\n",
       "    <tr>\n",
       "      <th>0</th>\n",
       "      <td>0</td>\n",
       "      <td>0.007604</td>\n",
       "      <td>0.075125</td>\n",
       "      <td>6.092929</td>\n",
       "    </tr>\n",
       "    <tr>\n",
       "      <th>1</th>\n",
       "      <td>1</td>\n",
       "      <td>0.021787</td>\n",
       "      <td>0.100167</td>\n",
       "      <td>1.675017</td>\n",
       "    </tr>\n",
       "    <tr>\n",
       "      <th>2</th>\n",
       "      <td>2</td>\n",
       "      <td>0.038743</td>\n",
       "      <td>0.461324</td>\n",
       "      <td>2.105069</td>\n",
       "    </tr>\n",
       "    <tr>\n",
       "      <th>3</th>\n",
       "      <td>3</td>\n",
       "      <td>0.051145</td>\n",
       "      <td>0.688370</td>\n",
       "      <td>1.787316</td>\n",
       "    </tr>\n",
       "    <tr>\n",
       "      <th>4</th>\n",
       "      <td>4</td>\n",
       "      <td>0.062274</td>\n",
       "      <td>0.750139</td>\n",
       "      <td>1.847006</td>\n",
       "    </tr>\n",
       "    <tr>\n",
       "      <th>5</th>\n",
       "      <td>5</td>\n",
       "      <td>0.073713</td>\n",
       "      <td>0.747913</td>\n",
       "      <td>1.671113</td>\n",
       "    </tr>\n",
       "    <tr>\n",
       "      <th>6</th>\n",
       "      <td>6</td>\n",
       "      <td>0.084579</td>\n",
       "      <td>0.824708</td>\n",
       "      <td>1.650450</td>\n",
       "    </tr>\n",
       "    <tr>\n",
       "      <th>7</th>\n",
       "      <td>7</td>\n",
       "      <td>0.095771</td>\n",
       "      <td>0.788536</td>\n",
       "      <td>1.604008</td>\n",
       "    </tr>\n",
       "    <tr>\n",
       "      <th>8</th>\n",
       "      <td>8</td>\n",
       "      <td>0.105293</td>\n",
       "      <td>0.858653</td>\n",
       "      <td>1.481873</td>\n",
       "    </tr>\n",
       "    <tr>\n",
       "      <th>9</th>\n",
       "      <td>9</td>\n",
       "      <td>0.115791</td>\n",
       "      <td>0.835281</td>\n",
       "      <td>1.512350</td>\n",
       "    </tr>\n",
       "  </tbody>\n",
       "</table>\n",
       "</div>"
      ],
      "text/plain": [
       "   epoch   elapsed  accuracy      loss\n",
       "0      0  0.007604  0.075125  6.092929\n",
       "1      1  0.021787  0.100167  1.675017\n",
       "2      2  0.038743  0.461324  2.105069\n",
       "3      3  0.051145  0.688370  1.787316\n",
       "4      4  0.062274  0.750139  1.847006\n",
       "5      5  0.073713  0.747913  1.671113\n",
       "6      6  0.084579  0.824708  1.650450\n",
       "7      7  0.095771  0.788536  1.604008\n",
       "8      8  0.105293  0.858653  1.481873\n",
       "9      9  0.115791  0.835281  1.512350"
      ]
     },
     "execution_count": 20,
     "metadata": {},
     "output_type": "execute_result"
    }
   ],
   "source": [
    "# Write your code here!\n",
    "\n",
    "decay = 0.995\n",
    "eps = 0.000000000001\n",
    "cache_dw1, cache_dw2 = 0, 0\n",
    "\n",
    "def update_rmsprop(epoch, learning_rate, w1, w2, dw1, dw2):\n",
    "    global cache_dw1, cache_dw2\n",
    "    \n",
    "    cache_dw2 = decay * cache_dw2 + (1 - decay) * dw2 ** 2\n",
    "    w2 = w2 - learning_rate * dw2 / (np.sqrt(cache_dw2) + eps)\n",
    "    \n",
    "    cache_dw1 = decay * cache_dw1 + (1 - decay) * dw1 ** 2\n",
    "    w1 = w1 - learning_rate * dw1 / (np.sqrt(cache_dw1) + eps)\n",
    "    \n",
    "    return w1, w2\n",
    "\n",
    "num_epoch = 100\n",
    "learning_rate = 0.003\n",
    "\n",
    "history_rmsprop = train(X, y, num_epoch, learning_rate,\n",
    "                        update_method = update_rmsprop)\n",
    "\n",
    "history_rmsprop.head(10)"
   ]
  },
  {
   "cell_type": "code",
   "execution_count": 21,
   "metadata": {
    "scrolled": true
   },
   "outputs": [
    {
     "data": {
      "text/plain": [
       "<matplotlib.legend.Legend at 0x12d451b00>"
      ]
     },
     "execution_count": 21,
     "metadata": {},
     "output_type": "execute_result"
    },
    {
     "data": {
      "image/png": "[encoded data removed]",
      "text/plain": [
       "<matplotlib.figure.Figure at 0x12d3280b8>"
      ]
     },
     "metadata": {},
     "output_type": "display_data"
    }
   ],
   "source": [
    "plt.plot(history_sgd['elapsed'], history_sgd['accuracy'], label='sgd')\n",
    "plt.plot(history_momentum['elapsed'], history_momentum['accuracy'], label='momentum')\n",
    "plt.plot(history_nesterov['elapsed'], history_nesterov['accuracy'], label='nesterov')\n",
    "plt.plot(history_adagrad['elapsed'], history_adagrad['accuracy'], label='adagrad')\n",
    "plt.plot(history_rmsprop['elapsed'], history_rmsprop['accuracy'], label='rmsprop')\n",
    "\n",
    "plt.legend()"
   ]
  },
  {
   "cell_type": "markdown",
   "metadata": {},
   "source": [
    "### Adam"
   ]
  },
  {
   "cell_type": "code",
   "execution_count": 28,
   "metadata": {},
   "outputs": [
    {
     "name": "stdout",
     "output_type": "stream",
     "text": [
      "  0 accuracy = 0.20590, loss = 5.59424\n",
      " 10 accuracy = 0.74012, loss = 1.47707\n",
      " 20 accuracy = 0.89482, loss = 1.44458\n",
      " 30 accuracy = 0.93322, loss = 1.05725\n",
      " 40 accuracy = 0.94602, loss = 0.82127\n",
      " 50 accuracy = 0.96327, loss = 0.65025\n",
      " 60 accuracy = 0.97774, loss = 0.52102\n",
      " 70 accuracy = 0.98219, loss = 0.42101\n",
      " 80 accuracy = 0.98609, loss = 0.34646\n",
      " 90 accuracy = 0.98943, loss = 0.29119\n",
      "----------------------------------------\n",
      " 99 accuracy = 0.99110, loss = 0.25322\n"
     ]
    },
    {
     "data": {
      "text/html": [
       "<div>\n",
       "<style scoped>\n",
       "    .dataframe tbody tr th:only-of-type {\n",
       "        vertical-align: middle;\n",
       "    }\n",
       "\n",
       "    .dataframe tbody tr th {\n",
       "        vertical-align: top;\n",
       "    }\n",
       "\n",
       "    .dataframe thead th {\n",
       "        text-align: right;\n",
       "    }\n",
       "</style>\n",
       "<table border=\"1\" class=\"dataframe\">\n",
       "  <thead>\n",
       "    <tr style=\"text-align: right;\">\n",
       "      <th></th>\n",
       "      <th>epoch</th>\n",
       "      <th>elapsed</th>\n",
       "      <th>accuracy</th>\n",
       "      <th>loss</th>\n",
       "    </tr>\n",
       "  </thead>\n",
       "  <tbody>\n",
       "    <tr>\n",
       "      <th>0</th>\n",
       "      <td>0</td>\n",
       "      <td>0.004512</td>\n",
       "      <td>0.205899</td>\n",
       "      <td>5.594240</td>\n",
       "    </tr>\n",
       "    <tr>\n",
       "      <th>1</th>\n",
       "      <td>1</td>\n",
       "      <td>0.016223</td>\n",
       "      <td>0.286589</td>\n",
       "      <td>3.456232</td>\n",
       "    </tr>\n",
       "    <tr>\n",
       "      <th>2</th>\n",
       "      <td>2</td>\n",
       "      <td>0.027398</td>\n",
       "      <td>0.398998</td>\n",
       "      <td>2.291069</td>\n",
       "    </tr>\n",
       "    <tr>\n",
       "      <th>3</th>\n",
       "      <td>3</td>\n",
       "      <td>0.037300</td>\n",
       "      <td>0.461324</td>\n",
       "      <td>1.798690</td>\n",
       "    </tr>\n",
       "    <tr>\n",
       "      <th>4</th>\n",
       "      <td>4</td>\n",
       "      <td>0.046952</td>\n",
       "      <td>0.598776</td>\n",
       "      <td>1.595736</td>\n",
       "    </tr>\n",
       "    <tr>\n",
       "      <th>5</th>\n",
       "      <td>5</td>\n",
       "      <td>0.057733</td>\n",
       "      <td>0.664997</td>\n",
       "      <td>1.509912</td>\n",
       "    </tr>\n",
       "    <tr>\n",
       "      <th>6</th>\n",
       "      <td>6</td>\n",
       "      <td>0.069214</td>\n",
       "      <td>0.616583</td>\n",
       "      <td>1.475392</td>\n",
       "    </tr>\n",
       "    <tr>\n",
       "      <th>7</th>\n",
       "      <td>7</td>\n",
       "      <td>0.078429</td>\n",
       "      <td>0.587090</td>\n",
       "      <td>1.464597</td>\n",
       "    </tr>\n",
       "    <tr>\n",
       "      <th>8</th>\n",
       "      <td>8</td>\n",
       "      <td>0.089505</td>\n",
       "      <td>0.609905</td>\n",
       "      <td>1.465218</td>\n",
       "    </tr>\n",
       "    <tr>\n",
       "      <th>9</th>\n",
       "      <td>9</td>\n",
       "      <td>0.099062</td>\n",
       "      <td>0.674457</td>\n",
       "      <td>1.470733</td>\n",
       "    </tr>\n",
       "  </tbody>\n",
       "</table>\n",
       "</div>"
      ],
      "text/plain": [
       "   epoch   elapsed  accuracy      loss\n",
       "0      0  0.004512  0.205899  5.594240\n",
       "1      1  0.016223  0.286589  3.456232\n",
       "2      2  0.027398  0.398998  2.291069\n",
       "3      3  0.037300  0.461324  1.798690\n",
       "4      4  0.046952  0.598776  1.595736\n",
       "5      5  0.057733  0.664997  1.509912\n",
       "6      6  0.069214  0.616583  1.475392\n",
       "7      7  0.078429  0.587090  1.464597\n",
       "8      8  0.089505  0.609905  1.465218\n",
       "9      9  0.099062  0.674457  1.470733"
      ]
     },
     "execution_count": 28,
     "metadata": {},
     "output_type": "execute_result"
    }
   ],
   "source": [
    "## Write your code here!\n",
    "\n",
    "eps = 0.000000000001\n",
    "beta1 = 0.9\n",
    "beta2 = 0.99\n",
    "\n",
    "dw1m, dw2m = 0, 0\n",
    "dw1v, dw2v = 0, 0\n",
    "\n",
    "def update_adam(epoch, learning_rate, w1, w2, dw1, dw2):\n",
    "    global dw1m, dw2m\n",
    "    global dw1v, dw2v\n",
    "    \n",
    "    dw2m = beta1 * dw2m + (1 - beta1) * dw2\n",
    "    dw2v = beta2 * dw2v + (1 - beta2) * (dw2 ** 2)\n",
    "    dw2mb = dw2m / (1 - beta1 ** (1 + epoch))\n",
    "    dw2vb = dw2v / (1 - beta2 ** (1 + epoch))\n",
    "    w2 = w2 - learning_rate * dw2mb / (np.sqrt(dw2vb) + eps)\n",
    "    \n",
    "    dw1m = beta1 * dw1m + (1 - beta1) * dw1\n",
    "    dw1v = beta2 * dw1v + (1 - beta2) * (dw1 ** 2)\n",
    "    dw1mb = dw1m / (1 - beta1 ** (1 + epoch))\n",
    "    dw1vb = dw1v / (1 - beta2 ** (1 + epoch))\n",
    "    w1 = w1 - learning_rate * dw1mb / (np.sqrt(dw1vb) + eps)\n",
    "    \n",
    "    return w1, w2\n",
    "\n",
    "num_epoch = 100\n",
    "learning_rate = 0.01\n",
    "\n",
    "history_adam = train(X, y, num_epoch, learning_rate,\n",
    "                        update_method = update_adam)\n",
    "\n",
    "history_adam.head(10)"
   ]
  },
  {
   "cell_type": "code",
   "execution_count": 30,
   "metadata": {
    "scrolled": true
   },
   "outputs": [
    {
     "data": {
      "text/plain": [
       "<matplotlib.legend.Legend at 0x12def9e10>"
      ]
     },
     "execution_count": 30,
     "metadata": {},
     "output_type": "execute_result"
    },
    {
     "data": {
      "image/png": "[encoded data removed]",
      "text/plain": [
       "<matplotlib.figure.Figure at 0x12ddc8c18>"
      ]
     },
     "metadata": {},
     "output_type": "display_data"
    }
   ],
   "source": [
    "plt.plot(history_sgd['elapsed'], history_sgd['accuracy'], label='sgd')\n",
    "plt.plot(history_momentum['elapsed'], history_momentum['accuracy'], label='momentum')\n",
    "plt.plot(history_nesterov['elapsed'], history_nesterov['accuracy'], label='nesterov')\n",
    "plt.plot(history_adagrad['elapsed'], history_adagrad['accuracy'], label='adagrad')\n",
    "plt.plot(history_rmsprop['elapsed'], history_rmsprop['accuracy'], label='rmsprop')\n",
    "plt.plot(history_adam['elapsed'], history_adam['accuracy'], label='adam')\n",
    "\n",
    "plt.legend()"
   ]
  }
 ],
 "metadata": {
  "kernelspec": {
   "display_name": "Python 3",
   "language": "python",
   "name": "python3"
  },
  "language_info": {
   "codemirror_mode": {
    "name": "ipython",
    "version": 3
   },
   "file_extension": ".py",
   "mimetype": "text/x-python",
   "name": "python",
   "nbconvert_exporter": "python",
   "pygments_lexer": "ipython3",
   "version": "3.6.0"
  }
 },
 "nbformat": 4,
 "nbformat_minor": 2
}
