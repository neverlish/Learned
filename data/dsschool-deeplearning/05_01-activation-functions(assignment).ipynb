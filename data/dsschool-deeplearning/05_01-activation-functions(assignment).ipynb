{
 "cells": [
  {
   "cell_type": "code",
   "execution_count": 1,
   "metadata": {
    "collapsed": true
   },
   "outputs": [],
   "source": [
    "%matplotlib inline\n",
    "\n",
    "import numpy as np\n",
    "import matplotlib.pyplot as plt"
   ]
  },
  {
   "cell_type": "markdown",
   "metadata": {},
   "source": [
    "## Load Dataset"
   ]
  },
  {
   "cell_type": "code",
   "execution_count": 2,
   "metadata": {
    "collapsed": true
   },
   "outputs": [],
   "source": [
    "from sklearn.datasets import load_digits\n",
    "\n",
    "mnist = load_digits()"
   ]
  },
  {
   "cell_type": "code",
   "execution_count": 3,
   "metadata": {},
   "outputs": [
    {
     "name": "stdout",
     "output_type": "stream",
     "text": [
      "(1797, 64)\n"
     ]
    },
    {
     "data": {
      "text/plain": [
       "array([[  0.,   0.,   5., ...,   0.,   0.,   0.],\n",
       "       [  0.,   0.,   0., ...,  10.,   0.,   0.],\n",
       "       [  0.,   0.,   0., ...,  16.,   9.,   0.],\n",
       "       ..., \n",
       "       [  0.,   0.,   1., ...,   6.,   0.,   0.],\n",
       "       [  0.,   0.,   2., ...,  12.,   0.,   0.],\n",
       "       [  0.,   0.,  10., ...,  12.,   1.,   0.]])"
      ]
     },
     "execution_count": 3,
     "metadata": {},
     "output_type": "execute_result"
    }
   ],
   "source": [
    "X = mnist[\"data\"]\n",
    "\n",
    "print(X.shape)\n",
    "X"
   ]
  },
  {
   "cell_type": "code",
   "execution_count": 4,
   "metadata": {},
   "outputs": [
    {
     "name": "stdout",
     "output_type": "stream",
     "text": [
      "(1797,)\n"
     ]
    },
    {
     "data": {
      "text/plain": [
       "array([0, 1, 2, ..., 8, 9, 8])"
      ]
     },
     "execution_count": 4,
     "metadata": {},
     "output_type": "execute_result"
    }
   ],
   "source": [
    "y = mnist[\"target\"]\n",
    "\n",
    "print(y.shape)\n",
    "y"
   ]
  },
  {
   "cell_type": "markdown",
   "metadata": {},
   "source": [
    "## Preprocessing"
   ]
  },
  {
   "cell_type": "code",
   "execution_count": 5,
   "metadata": {},
   "outputs": [
    {
     "name": "stderr",
     "output_type": "stream",
     "text": [
      "Using TensorFlow backend.\n"
     ]
    },
    {
     "name": "stdout",
     "output_type": "stream",
     "text": [
      "(1797, 10)\n"
     ]
    },
    {
     "data": {
      "text/plain": [
       "array([[ 1.,  0.,  0., ...,  0.,  0.,  0.],\n",
       "       [ 0.,  1.,  0., ...,  0.,  0.,  0.],\n",
       "       [ 0.,  0.,  1., ...,  0.,  0.,  0.],\n",
       "       ..., \n",
       "       [ 0.,  0.,  0., ...,  0.,  1.,  0.],\n",
       "       [ 0.,  0.,  0., ...,  0.,  0.,  1.],\n",
       "       [ 0.,  0.,  0., ...,  0.,  1.,  0.]], dtype=float32)"
      ]
     },
     "execution_count": 5,
     "metadata": {},
     "output_type": "execute_result"
    }
   ],
   "source": [
    "from keras.utils import to_categorical\n",
    "\n",
    "y_hot = to_categorical(y)\n",
    "\n",
    "print(y_hot.shape)\n",
    "y_hot"
   ]
  },
  {
   "cell_type": "markdown",
   "metadata": {},
   "source": [
    "## Activate Functions"
   ]
  },
  {
   "cell_type": "markdown",
   "metadata": {},
   "source": [
    "### Sigmoid"
   ]
  },
  {
   "cell_type": "code",
   "execution_count": 6,
   "metadata": {},
   "outputs": [
    {
     "data": {
      "text/plain": [
       "[<matplotlib.lines.Line2D at 0x1289abc18>]"
      ]
     },
     "execution_count": 6,
     "metadata": {},
     "output_type": "execute_result"
    },
    {
     "data": {
      "image/png": "[encoded data removed]",
      "text/plain": [
       "<matplotlib.figure.Figure at 0x12562a278>"
      ]
     },
     "metadata": {},
     "output_type": "display_data"
    }
   ],
   "source": [
    "# Write your code here!\n",
    "\n",
    "def sigmoid(n):\n",
    "    return 1 / (1 + np.exp(-n))\n",
    "\n",
    "xx = np.linspace(start=-9, stop=+9)\n",
    "yy = sigmoid(xx)\n",
    "\n",
    "plt.plot(xx, yy)"
   ]
  },
  {
   "cell_type": "code",
   "execution_count": 7,
   "metadata": {},
   "outputs": [
    {
     "data": {
      "text/plain": [
       "[<matplotlib.lines.Line2D at 0x128ae0c18>]"
      ]
     },
     "execution_count": 7,
     "metadata": {},
     "output_type": "execute_result"
    },
    {
     "data": {
      "image/png": "[encoded data removed]",
      "text/plain": [
       "<matplotlib.figure.Figure at 0x12562a320>"
      ]
     },
     "metadata": {},
     "output_type": "display_data"
    }
   ],
   "source": [
    "def sigmoid_derivative(n):\n",
    "    return sigmoid(n) * (1 - sigmoid(n))\n",
    "\n",
    "xx = np.linspace(start=-9, stop=+9)\n",
    "yy = sigmoid_derivative(xx)\n",
    "\n",
    "plt.plot(xx, yy)"
   ]
  },
  {
   "cell_type": "markdown",
   "metadata": {},
   "source": [
    "### ReLU"
   ]
  },
  {
   "cell_type": "code",
   "execution_count": 8,
   "metadata": {},
   "outputs": [
    {
     "data": {
      "text/plain": [
       "[<matplotlib.lines.Line2D at 0x128be5208>]"
      ]
     },
     "execution_count": 8,
     "metadata": {},
     "output_type": "execute_result"
    },
    {
     "data": {
      "image/png": "[encoded data removed]",
      "text/plain": [
       "<matplotlib.figure.Figure at 0x128af7668>"
      ]
     },
     "metadata": {},
     "output_type": "display_data"
    }
   ],
   "source": [
    "# Write your code here!\n",
    "\n",
    "def relu(n):\n",
    "    return n * (n > 0)\n",
    "\n",
    "xx = np.linspace(start=-9, stop=+9)\n",
    "yy = relu(xx)\n",
    "\n",
    "plt.plot(xx, yy)"
   ]
  },
  {
   "cell_type": "code",
   "execution_count": 9,
   "metadata": {},
   "outputs": [
    {
     "data": {
      "text/plain": [
       "[<matplotlib.lines.Line2D at 0x128cc6c18>]"
      ]
     },
     "execution_count": 9,
     "metadata": {},
     "output_type": "execute_result"
    },
    {
     "data": {
      "image/png": "[encoded data removed]",
      "text/plain": [
       "<matplotlib.figure.Figure at 0x128bf6a20>"
      ]
     },
     "metadata": {},
     "output_type": "display_data"
    }
   ],
   "source": [
    "def relu_derivative(n):\n",
    "    return 1 * (n > 0)\n",
    "\n",
    "xx = np.linspace(start=-9, stop=+9)\n",
    "yy = relu_derivative(xx)\n",
    "\n",
    "plt.plot(xx, yy)"
   ]
  },
  {
   "cell_type": "markdown",
   "metadata": {},
   "source": [
    "## Benchmark"
   ]
  },
  {
   "cell_type": "code",
   "execution_count": 10,
   "metadata": {},
   "outputs": [
    {
     "name": "stdout",
     "output_type": "stream",
     "text": [
      "CPU times: user 1.89 s, sys: 25.9 ms, total: 1.91 s\n",
      "Wall time: 1.92 s\n",
      "CPU times: user 4.18 s, sys: 41.5 ms, total: 4.22 s\n",
      "Wall time: 4.23 s\n"
     ]
    }
   ],
   "source": [
    "%time tmp = [sigmoid(i) for i in range(1000000)]\n",
    "%time tmp = [sigmoid_derivative(i) for i in range(1000000)]"
   ]
  },
  {
   "cell_type": "code",
   "execution_count": 11,
   "metadata": {},
   "outputs": [
    {
     "name": "stdout",
     "output_type": "stream",
     "text": [
      "CPU times: user 214 ms, sys: 22.6 ms, total: 237 ms\n",
      "Wall time: 236 ms\n",
      "CPU times: user 197 ms, sys: 10.3 ms, total: 208 ms\n",
      "Wall time: 208 ms\n"
     ]
    }
   ],
   "source": [
    "%time tmp = [relu(i) for i in range(1000000)]\n",
    "%time tmp = [relu_derivative(i) for i in range(1000000)]"
   ]
  },
  {
   "cell_type": "markdown",
   "metadata": {},
   "source": [
    "## Train"
   ]
  },
  {
   "cell_type": "code",
   "execution_count": 12,
   "metadata": {
    "collapsed": true
   },
   "outputs": [],
   "source": [
    "import time\n",
    "\n",
    "def train(X, y, y_hot, num_epoch, learning_rate, activation, activation_derivative):\n",
    "    num_input = X.shape[1]\n",
    "    num_output = y_hot.shape[1]\n",
    "\n",
    "    w1 = np.random.uniform(low=-np.sqrt(6 / (num_input + 100)), high=np.sqrt(6 / (num_input + 100)), size=(num_input, 100))\n",
    "    w2 = np.random.uniform(low=-np.sqrt(6 / (100 + 100)), high=np.sqrt(6 / (100 + 100)), size=(100, 100))\n",
    "    w3 = np.random.uniform(low=-np.sqrt(6 / (100 + num_output)), high=np.sqrt(6 / (100 + 10)), size=(100, num_output))\n",
    "\n",
    "    history = []\n",
    "\n",
    "    start = time.time()\n",
    "\n",
    "    for epoch in range(num_epoch):\n",
    "        z1 = X.dot(w1)\n",
    "        a1 = activation(z1)\n",
    "        z2 = a1.dot(w2)\n",
    "        a2 = activation(z2)\n",
    "        z3 = a2.dot(w3)\n",
    "        a3 = sigmoid(z3)\n",
    "\n",
    "        y_predict = np.argmax(a3, axis=1)    \n",
    "        error = (y != y_predict).mean()\n",
    "\n",
    "        if epoch % 10 == 0:\n",
    "            print(\"{0:2} error = {1:.5f}\".format(epoch, error))\n",
    "\n",
    "        end = time.time()\n",
    "        history.append({\n",
    "            'time': end - start,\n",
    "            'error': error\n",
    "        })\n",
    "\n",
    "        d3 = a3 - y_hot\n",
    "        d2 = d3.dot(w3.T) * activation_derivative(a2)\n",
    "        d1 = d2.dot(w2.T) * activation_derivative(a1)\n",
    "\n",
    "        w3 = w3 - learning_rate * a2.T.dot(d3)\n",
    "        w2 = w2 - learning_rate * a1.T.dot(d2)\n",
    "        w1 = w1 - learning_rate * X.T.dot(d1)\n",
    "\n",
    "    end = time.time()\n",
    "    elapsed = end - start\n",
    "\n",
    "    return history, error, elapsed"
   ]
  },
  {
   "cell_type": "markdown",
   "metadata": {},
   "source": [
    "### Sigmoid"
   ]
  },
  {
   "cell_type": "code",
   "execution_count": 19,
   "metadata": {},
   "outputs": [
    {
     "name": "stdout",
     "output_type": "stream",
     "text": [
      " 0 error = 0.90317\n",
      "10 error = 0.39622\n",
      "20 error = 0.32332\n",
      "30 error = 0.29549\n",
      "40 error = 0.27935\n",
      "50 error = 0.20979\n",
      "60 error = 0.18865\n",
      "70 error = 0.16694\n",
      "80 error = 0.16750\n",
      "90 error = 0.15748\n",
      "----------------------------------------\n",
      "[sigmoid] Elapsed 1.69 seconds, Error = 0.15303\n"
     ]
    }
   ],
   "source": [
    "# Write your code here!\n",
    "\n",
    "num_epoch = 100\n",
    "learning_rate = 0.0003\n",
    "\n",
    "sigmoid_history, error, elapsed = train(X, y, y_hot, num_epoch, learning_rate,\n",
    "                                        activation = sigmoid,\n",
    "                                        activation_derivative = sigmoid_derivative)\n",
    "\n",
    "print('----' * 10)\n",
    "print(f'[sigmoid] Elapsed {elapsed:.2f} seconds, Error = {error:.5f}')"
   ]
  },
  {
   "cell_type": "markdown",
   "metadata": {},
   "source": [
    "### ReLU"
   ]
  },
  {
   "cell_type": "code",
   "execution_count": 20,
   "metadata": {},
   "outputs": [
    {
     "name": "stdout",
     "output_type": "stream",
     "text": [
      " 0 error = 0.94825\n",
      "10 error = 0.27991\n",
      "20 error = 0.14079\n",
      "30 error = 0.09683\n",
      "40 error = 0.07513\n",
      "50 error = 0.06511\n",
      "60 error = 0.05565\n",
      "70 error = 0.05008\n",
      "80 error = 0.04563\n",
      "90 error = 0.04118\n",
      "----------------------------------------\n",
      "[sigmoid] Elapsed 0.65 seconds, Error = 0.03561\n"
     ]
    }
   ],
   "source": [
    "# Write your code here!\n",
    "\n",
    "num_epoch = 100\n",
    "learning_rate = 0.00001\n",
    "\n",
    "relu_history, error, elapsed = train(X, y, y_hot, num_epoch, learning_rate,\n",
    "                                        activation = relu,\n",
    "                                        activation_derivative = relu_derivative)\n",
    "\n",
    "print('----' * 10)\n",
    "print(f'[sigmoid] Elapsed {elapsed:.2f} seconds, Error = {error:.5f}')"
   ]
  },
  {
   "cell_type": "markdown",
   "metadata": {},
   "source": [
    "## Comparison"
   ]
  },
  {
   "cell_type": "code",
   "execution_count": 21,
   "metadata": {
    "scrolled": true
   },
   "outputs": [
    {
     "data": {
      "text/plain": [
       "<matplotlib.legend.Legend at 0x128dfac18>"
      ]
     },
     "execution_count": 21,
     "metadata": {},
     "output_type": "execute_result"
    },
    {
     "data": {
      "image/png": "[encoded data removed]",
      "text/plain": [
       "<matplotlib.figure.Figure at 0x10cf29080>"
      ]
     },
     "metadata": {},
     "output_type": "display_data"
    }
   ],
   "source": [
    "import pandas as pd\n",
    "\n",
    "sigmoid_history = pd.DataFrame(sigmoid_history)\n",
    "relu_history = pd.DataFrame(relu_history)\n",
    "\n",
    "plt.plot(sigmoid_history['time'], sigmoid_history['error'], label='sigmoid')\n",
    "plt.plot(relu_history['time'], relu_history['error'], label='ReLU')\n",
    "\n",
    "plt.legend()"
   ]
  }
 ],
 "metadata": {
  "kernelspec": {
   "display_name": "Python 3",
   "language": "python",
   "name": "python3"
  },
  "language_info": {
   "codemirror_mode": {
    "name": "ipython",
    "version": 3
   },
   "file_extension": ".py",
   "mimetype": "text/x-python",
   "name": "python",
   "nbconvert_exporter": "python",
   "pygments_lexer": "ipython3",
   "version": "3.6.0"
  }
 },
 "nbformat": 4,
 "nbformat_minor": 2
}
