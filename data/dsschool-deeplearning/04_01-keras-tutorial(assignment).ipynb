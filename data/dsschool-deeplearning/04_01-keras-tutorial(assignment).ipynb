{
 "cells": [
  {
   "cell_type": "markdown",
   "metadata": {},
   "source": [
    "## Prerequisites"
   ]
  },
  {
   "cell_type": "code",
   "execution_count": 1,
   "metadata": {},
   "outputs": [
    {
     "name": "stdout",
     "output_type": "stream",
     "text": [
      "Collecting keras\n",
      "  Could not fetch URL https://pypi.python.org/simple/keras/: There was a problem confirming the ssl certificate: [SSL: TLSV1_ALERT_PROTOCOL_VERSION] tlsv1 alert protocol version (_ssl.c:661) - skipping\n",
      "\u001b[31m  Could not find a version that satisfies the requirement keras (from versions: )\u001b[0m\n",
      "\u001b[31mNo matching distribution found for keras\u001b[0m\n",
      "\u001b[33mYou are using pip version 9.0.1, however version 18.0 is available.\n",
      "You should consider upgrading via the 'pip install --upgrade pip' command.\u001b[0m\n"
     ]
    }
   ],
   "source": [
    "!pip install keras"
   ]
  },
  {
   "cell_type": "code",
   "execution_count": 2,
   "metadata": {},
   "outputs": [
    {
     "name": "stderr",
     "output_type": "stream",
     "text": [
      "Using TensorFlow backend.\n"
     ]
    }
   ],
   "source": [
    "import keras\n",
    "import numpy as np\n",
    "import pandas as pd"
   ]
  },
  {
   "cell_type": "markdown",
   "metadata": {},
   "source": [
    "## Load Dataset"
   ]
  },
  {
   "cell_type": "code",
   "execution_count": 3,
   "metadata": {},
   "outputs": [
    {
     "name": "stdout",
     "output_type": "stream",
     "text": [
      "(60000, 28, 28) (60000,)\n",
      "(10000, 28, 28) (10000,)\n"
     ]
    }
   ],
   "source": [
    "from keras.datasets import mnist\n",
    "\n",
    "((X_train, y_train), (X_test, y_test)) = mnist.load_data()\n",
    " \n",
    "print(X_train.shape, y_train.shape)\n",
    "print(X_test.shape, y_test.shape)"
   ]
  },
  {
   "cell_type": "markdown",
   "metadata": {},
   "source": [
    "### Visualize"
   ]
  },
  {
   "cell_type": "code",
   "execution_count": 4,
   "metadata": {},
   "outputs": [
    {
     "name": "stdout",
     "output_type": "stream",
     "text": [
      "[5 0 4 1 9 2 1 3 1 4]\n"
     ]
    },
    {
     "data": {
      "text/plain": [
       "<matplotlib.image.AxesImage at 0x12e3b0588>"
      ]
     },
     "execution_count": 4,
     "metadata": {},
     "output_type": "execute_result"
    },
    {
     "data": {
      "text/plain": [
       "<matplotlib.figure.Figure at 0x12ad2a550>"
      ]
     },
     "metadata": {},
     "output_type": "display_data"
    },
    {
     "data": {
      "image/png": "[encoded data removed]",
      "text/plain": [
       "<matplotlib.figure.Figure at 0x12ad71e10>"
      ]
     },
     "metadata": {},
     "output_type": "display_data"
    }
   ],
   "source": [
    "%matplotlib inline\n",
    "import matplotlib.pyplot as plt\n",
    "\n",
    "plt.gray()\n",
    "\n",
    "print(y_train[0:10])\n",
    "\n",
    "figures, axes = plt.subplots(nrows=2, ncols=5)\n",
    "figures.set_size_inches(18, 8)\n",
    "\n",
    "axes[0][0].matshow(X_train[0])\n",
    "axes[0][1].matshow(X_train[1])\n",
    "axes[0][2].matshow(X_train[2])\n",
    "axes[0][3].matshow(X_train[3])\n",
    "axes[0][4].matshow(X_train[4])\n",
    "axes[1][0].matshow(X_train[5])\n",
    "axes[1][1].matshow(X_train[6])\n",
    "axes[1][2].matshow(X_train[7])\n",
    "axes[1][3].matshow(X_train[8])\n",
    "axes[1][4].matshow(X_train[9])"
   ]
  },
  {
   "cell_type": "markdown",
   "metadata": {},
   "source": [
    "## Single-layer & Multi-layer Neural Network"
   ]
  },
  {
   "cell_type": "markdown",
   "metadata": {},
   "source": [
    "### Preprocessing"
   ]
  },
  {
   "cell_type": "code",
   "execution_count": 5,
   "metadata": {},
   "outputs": [
    {
     "name": "stdout",
     "output_type": "stream",
     "text": [
      "(60000, 784) (10000, 784)\n"
     ]
    }
   ],
   "source": [
    "X_train = X_train.reshape(60000, 28 * 28)\n",
    "X_test = X_test.reshape(10000, 28 * 28)\n",
    "\n",
    "print(X_train.shape, X_test.shape)"
   ]
  },
  {
   "cell_type": "code",
   "execution_count": 6,
   "metadata": {},
   "outputs": [
    {
     "name": "stdout",
     "output_type": "stream",
     "text": [
      "(60000, 10) (10000, 10)\n"
     ]
    }
   ],
   "source": [
    "from keras.utils import to_categorical\n",
    "\n",
    "# One hot encoding을 합니다.\n",
    "# np.eye(10)[y_train]과 동일합니다.\n",
    "y_train_hot = to_categorical(y_train)\n",
    "\n",
    "# np.eye(10)[y_test]와 동일합니다.\n",
    "y_test_hot = to_categorical(y_test)\n",
    "\n",
    "print(y_train_hot.shape, y_test_hot.shape)"
   ]
  },
  {
   "cell_type": "markdown",
   "metadata": {},
   "source": [
    "### Build a Single-layer Neural Network"
   ]
  },
  {
   "cell_type": "code",
   "execution_count": 7,
   "metadata": {
    "scrolled": true
   },
   "outputs": [
    {
     "name": "stdout",
     "output_type": "stream",
     "text": [
      "_________________________________________________________________\n",
      "Layer (type)                 Output Shape              Param #   \n",
      "=================================================================\n",
      "dense_1 (Dense)              (None, 10)                7850      \n",
      "=================================================================\n",
      "Total params: 7,850\n",
      "Trainable params: 7,850\n",
      "Non-trainable params: 0\n",
      "_________________________________________________________________\n"
     ]
    }
   ],
   "source": [
    "# Write your code here!\n",
    "\n",
    "from keras.models import Sequential\n",
    "from keras.layers import Dense\n",
    "from keras.initializers import RandomUniform\n",
    "\n",
    "model = Sequential()\n",
    "model.add(Dense(units = 10, \n",
    "                activation = 'sigmoid',\n",
    "                kernel_initializer = RandomUniform(minval=-0.001, maxval=0.001),\n",
    "                input_shape = (784,)))\n",
    "\n",
    "model.summary()"
   ]
  },
  {
   "cell_type": "code",
   "execution_count": 8,
   "metadata": {},
   "outputs": [],
   "source": [
    "from keras.optimizers import SGD\n",
    "\n",
    "optimizer = SGD(lr=0.00001)\n",
    "\n",
    "model.compile(optimizer = optimizer,\n",
    "              loss = 'categorical_crossentropy',\n",
    "              metrics = ['accuracy'])"
   ]
  },
  {
   "cell_type": "code",
   "execution_count": 9,
   "metadata": {},
   "outputs": [
    {
     "name": "stdout",
     "output_type": "stream",
     "text": [
      "Train on 60000 samples, validate on 10000 samples\n",
      "Epoch 1/20\n",
      "60000/60000 [==============================] - 2s 28us/step - loss: 0.4189 - acc: 0.8781 - val_loss: 0.3309 - val_acc: 0.9074\n",
      "Epoch 2/20\n",
      "60000/60000 [==============================] - 2s 26us/step - loss: 0.3443 - acc: 0.9043 - val_loss: 0.3776 - val_acc: 0.8921\n",
      "Epoch 3/20\n",
      "60000/60000 [==============================] - 2s 26us/step - loss: 0.3315 - acc: 0.9088 - val_loss: 0.3424 - val_acc: 0.9057\n",
      "Epoch 4/20\n",
      "60000/60000 [==============================] - 2s 32us/step - loss: 0.3220 - acc: 0.9102 - val_loss: 0.3511 - val_acc: 0.8986\n",
      "Epoch 5/20\n",
      "60000/60000 [==============================] - 2s 33us/step - loss: 0.3151 - acc: 0.9127 - val_loss: 0.3090 - val_acc: 0.9169\n",
      "Epoch 6/20\n",
      "60000/60000 [==============================] - 2s 28us/step - loss: 0.3104 - acc: 0.9137 - val_loss: 0.3033 - val_acc: 0.9174\n",
      "Epoch 7/20\n",
      "60000/60000 [==============================] - 2s 31us/step - loss: 0.3098 - acc: 0.9140 - val_loss: 0.3695 - val_acc: 0.8982\n",
      "Epoch 8/20\n",
      "60000/60000 [==============================] - 2s 31us/step - loss: 0.3048 - acc: 0.9147 - val_loss: 0.3146 - val_acc: 0.9164\n",
      "Epoch 9/20\n",
      "60000/60000 [==============================] - 2s 29us/step - loss: 0.3018 - acc: 0.9154 - val_loss: 0.3476 - val_acc: 0.9054\n",
      "Epoch 10/20\n",
      "60000/60000 [==============================] - 2s 28us/step - loss: 0.2988 - acc: 0.9167 - val_loss: 0.3238 - val_acc: 0.9147\n",
      "Epoch 11/20\n",
      "60000/60000 [==============================] - 2s 29us/step - loss: 0.2999 - acc: 0.9157 - val_loss: 0.3135 - val_acc: 0.9158\n",
      "Epoch 12/20\n",
      "60000/60000 [==============================] - 2s 27us/step - loss: 0.2955 - acc: 0.9180 - val_loss: 0.3165 - val_acc: 0.9164\n",
      "Epoch 13/20\n",
      "60000/60000 [==============================] - 2s 26us/step - loss: 0.2940 - acc: 0.9177 - val_loss: 0.3296 - val_acc: 0.9143\n",
      "Epoch 14/20\n",
      "60000/60000 [==============================] - 2s 28us/step - loss: 0.2944 - acc: 0.9169 - val_loss: 0.3077 - val_acc: 0.9182\n",
      "Epoch 15/20\n",
      "60000/60000 [==============================] - 2s 28us/step - loss: 0.2921 - acc: 0.9193 - val_loss: 0.3184 - val_acc: 0.9143\n",
      "Epoch 16/20\n",
      "60000/60000 [==============================] - 2s 29us/step - loss: 0.2909 - acc: 0.9178 - val_loss: 0.3091 - val_acc: 0.9174\n",
      "Epoch 17/20\n",
      "60000/60000 [==============================] - 2s 28us/step - loss: 0.2904 - acc: 0.9192 - val_loss: 0.3072 - val_acc: 0.9187\n",
      "Epoch 18/20\n",
      "60000/60000 [==============================] - 2s 28us/step - loss: 0.2889 - acc: 0.9191 - val_loss: 0.3012 - val_acc: 0.9214\n",
      "Epoch 19/20\n",
      "60000/60000 [==============================] - 2s 28us/step - loss: 0.2880 - acc: 0.9194 - val_loss: 0.3210 - val_acc: 0.9107\n",
      "Epoch 20/20\n",
      "60000/60000 [==============================] - 2s 29us/step - loss: 0.2878 - acc: 0.9198 - val_loss: 0.3103 - val_acc: 0.9176\n"
     ]
    },
    {
     "data": {
      "text/plain": [
       "<keras.callbacks.History at 0x1270ea6d8>"
      ]
     },
     "execution_count": 9,
     "metadata": {},
     "output_type": "execute_result"
    }
   ],
   "source": [
    "model.fit(X_train,\n",
    "          y_train_hot,\n",
    "          epochs = 20,\n",
    "          validation_data = (X_test, y_test_hot))"
   ]
  },
  {
   "cell_type": "markdown",
   "metadata": {},
   "source": [
    "### Build a Multi-layer Neural Network"
   ]
  },
  {
   "cell_type": "code",
   "execution_count": 10,
   "metadata": {},
   "outputs": [
    {
     "name": "stdout",
     "output_type": "stream",
     "text": [
      "_________________________________________________________________\n",
      "Layer (type)                 Output Shape              Param #   \n",
      "=================================================================\n",
      "dense_2 (Dense)              (None, 10)                7850      \n",
      "_________________________________________________________________\n",
      "dense_3 (Dense)              (None, 10)                110       \n",
      "=================================================================\n",
      "Total params: 7,960\n",
      "Trainable params: 7,960\n",
      "Non-trainable params: 0\n",
      "_________________________________________________________________\n"
     ]
    }
   ],
   "source": [
    "# Write your code here!\n",
    "\n",
    "# Write your code here!\n",
    "\n",
    "from keras.models import Sequential\n",
    "from keras.layers import Dense\n",
    "from keras.initializers import RandomUniform\n",
    "\n",
    "model = Sequential()\n",
    "model.add(Dense(units = 10, \n",
    "                activation = 'sigmoid',\n",
    "                kernel_initializer = RandomUniform(minval=-0.001, maxval=0.001),\n",
    "                input_shape = (784,)))\n",
    "\n",
    "model.add(Dense(units = 10,\n",
    "                activation = 'sigmoid',\n",
    "                kernel_initializer = RandomUniform(minval=-0.001, maxval=0.001)))\n",
    "\n",
    "model.summary()"
   ]
  },
  {
   "cell_type": "code",
   "execution_count": 11,
   "metadata": {
    "collapsed": true
   },
   "outputs": [],
   "source": [
    "from keras.optimizers import SGD\n",
    "\n",
    "optimizer = SGD(lr=0.00001)\n",
    "\n",
    "model.compile(optimizer = optimizer,\n",
    "              loss = 'categorical_crossentropy',\n",
    "              metrics = ['accuracy'])"
   ]
  },
  {
   "cell_type": "code",
   "execution_count": 12,
   "metadata": {},
   "outputs": [
    {
     "name": "stdout",
     "output_type": "stream",
     "text": [
      "Train on 60000 samples, validate on 10000 samples\n",
      "Epoch 1/10\n",
      "60000/60000 [==============================] - 2s 31us/step - loss: 2.3025 - acc: 0.1413 - val_loss: 2.3025 - val_acc: 0.1849\n",
      "Epoch 2/10\n",
      "60000/60000 [==============================] - 2s 28us/step - loss: 2.3024 - acc: 0.2168 - val_loss: 2.3024 - val_acc: 0.2488\n",
      "Epoch 3/10\n",
      "60000/60000 [==============================] - 2s 29us/step - loss: 2.3023 - acc: 0.2631 - val_loss: 2.3023 - val_acc: 0.2834\n",
      "Epoch 4/10\n",
      "60000/60000 [==============================] - 2s 28us/step - loss: 2.3022 - acc: 0.2976 - val_loss: 2.3021 - val_acc: 0.3165\n",
      "Epoch 5/10\n",
      "60000/60000 [==============================] - 2s 29us/step - loss: 2.3020 - acc: 0.3279 - val_loss: 2.3019 - val_acc: 0.3477\n",
      "Epoch 6/10\n",
      "60000/60000 [==============================] - 2s 28us/step - loss: 2.3018 - acc: 0.3641 - val_loss: 2.3017 - val_acc: 0.3780\n",
      "Epoch 7/10\n",
      "60000/60000 [==============================] - 2s 29us/step - loss: 2.3016 - acc: 0.3911 - val_loss: 2.3014 - val_acc: 0.4067\n",
      "Epoch 8/10\n",
      "60000/60000 [==============================] - 2s 29us/step - loss: 2.3013 - acc: 0.4140 - val_loss: 2.3011 - val_acc: 0.4254\n",
      "Epoch 9/10\n",
      "60000/60000 [==============================] - 2s 29us/step - loss: 2.3010 - acc: 0.4285 - val_loss: 2.3008 - val_acc: 0.4373\n",
      "Epoch 10/10\n",
      "60000/60000 [==============================] - 2s 29us/step - loss: 2.3007 - acc: 0.4371 - val_loss: 2.3004 - val_acc: 0.4457\n"
     ]
    },
    {
     "data": {
      "text/plain": [
       "<keras.callbacks.History at 0x12ef78198>"
      ]
     },
     "execution_count": 12,
     "metadata": {},
     "output_type": "execute_result"
    }
   ],
   "source": [
    "model.fit(X_train,\n",
    "          y_train_hot,\n",
    "          epochs = 10,\n",
    "          validation_data = (X_test, y_test_hot))"
   ]
  },
  {
   "cell_type": "markdown",
   "metadata": {},
   "source": [
    "## Convolutional Neural Network"
   ]
  },
  {
   "cell_type": "markdown",
   "metadata": {},
   "source": [
    "## Preprocessing"
   ]
  },
  {
   "cell_type": "code",
   "execution_count": 13,
   "metadata": {},
   "outputs": [
    {
     "name": "stdout",
     "output_type": "stream",
     "text": [
      "(60000, 28, 28, 1) (10000, 28, 28, 1)\n"
     ]
    }
   ],
   "source": [
    "X_train = X_train.reshape(60000, 28, 28, 1)\n",
    "X_test = X_test.reshape(10000, 28, 28, 1)\n",
    "\n",
    "print(X_train.shape, X_test.shape)"
   ]
  },
  {
   "cell_type": "markdown",
   "metadata": {},
   "source": [
    "## Build a Model"
   ]
  },
  {
   "cell_type": "markdown",
   "metadata": {},
   "source": [
    "### Convolutional Neural Network"
   ]
  },
  {
   "cell_type": "code",
   "execution_count": 19,
   "metadata": {},
   "outputs": [
    {
     "name": "stdout",
     "output_type": "stream",
     "text": [
      "_________________________________________________________________\n",
      "Layer (type)                 Output Shape              Param #   \n",
      "=================================================================\n",
      "conv2d_4 (Conv2D)            (None, 24, 24, 6)         156       \n",
      "_________________________________________________________________\n",
      "max_pooling2d_4 (MaxPooling2 (None, 12, 12, 6)         0         \n",
      "_________________________________________________________________\n",
      "conv2d_5 (Conv2D)            (None, 8, 8, 12)          1812      \n",
      "_________________________________________________________________\n",
      "max_pooling2d_5 (MaxPooling2 (None, 4, 4, 12)          0         \n",
      "_________________________________________________________________\n",
      "flatten_1 (Flatten)          (None, 192)               0         \n",
      "_________________________________________________________________\n",
      "dense_4 (Dense)              (None, 128)               24704     \n",
      "_________________________________________________________________\n",
      "dense_5 (Dense)              (None, 10)                1290      \n",
      "=================================================================\n",
      "Total params: 27,962\n",
      "Trainable params: 27,962\n",
      "Non-trainable params: 0\n",
      "_________________________________________________________________\n"
     ]
    }
   ],
   "source": [
    "# Write your code here!\n",
    "\n",
    "from keras.models import Sequential\n",
    "from keras.layers import Dense, Conv2D, MaxPooling2D\n",
    "from keras.initializers import RandomUniform\n",
    "\n",
    "model = Sequential()\n",
    "model.add(Conv2D(filters = 6,\n",
    "                 kernel_size = (5, 5),\n",
    "                 kernel_initializer = 'random_uniform',\n",
    "                 activation = 'sigmoid',\n",
    "                 input_shape = (28, 28, 1)))\n",
    "\n",
    "model.add(MaxPooling2D(pool_size = (2, 2),\n",
    "                       strides = (2, 2)))\n",
    "\n",
    "model.add(Conv2D(filters = 12,\n",
    "                 kernel_size = (5, 5),\n",
    "                 kernel_initializer = 'random_uniform',\n",
    "                 activation = 'sigmoid'))\n",
    "\n",
    "model.add(MaxPooling2D(pool_size = (2, 2), \n",
    "                       strides = (2, 2)))\n",
    "\n",
    "from keras.layers import Flatten\n",
    "\n",
    "model.add(Flatten())\n",
    "\n",
    "model.add(Dense(units = 128,\n",
    "                activation = 'sigmoid',\n",
    "                kernel_initializer = 'random_uniform',\n",
    "                input_shape = (784, )))\n",
    "\n",
    "model.add(Dense(units = 10,\n",
    "                activation = 'sigmoid',\n",
    "                kernel_initializer = 'random_uniform'))\n",
    "\n",
    "model.summary()"
   ]
  },
  {
   "cell_type": "code",
   "execution_count": 20,
   "metadata": {
    "collapsed": true
   },
   "outputs": [],
   "source": [
    "from keras.optimizers import SGD\n",
    "\n",
    "optimizer = SGD(lr=1.0)\n",
    "\n",
    "model.compile(optimizer = optimizer,\n",
    "              loss = 'categorical_crossentropy',\n",
    "              metrics = ['accuracy'])"
   ]
  },
  {
   "cell_type": "code",
   "execution_count": 21,
   "metadata": {},
   "outputs": [
    {
     "name": "stdout",
     "output_type": "stream",
     "text": [
      "Train on 60000 samples, validate on 10000 samples\n",
      "Epoch 1/10\n",
      "60000/60000 [==============================] - 18s 293us/step - loss: 2.0889 - acc: 0.1888 - val_loss: 0.4135 - val_acc: 0.8674\n",
      "Epoch 2/10\n",
      "60000/60000 [==============================] - 17s 284us/step - loss: 0.2127 - acc: 0.9340 - val_loss: 0.1307 - val_acc: 0.9583\n",
      "Epoch 3/10\n",
      "60000/60000 [==============================] - 17s 286us/step - loss: 0.1195 - acc: 0.9617 - val_loss: 0.0818 - val_acc: 0.9729\n",
      "Epoch 4/10\n",
      "60000/60000 [==============================] - 17s 288us/step - loss: 0.0902 - acc: 0.9712 - val_loss: 0.0791 - val_acc: 0.9754\n",
      "Epoch 5/10\n",
      "60000/60000 [==============================] - 18s 294us/step - loss: 0.0877 - acc: 0.9725 - val_loss: 0.0689 - val_acc: 0.9772\n",
      "Epoch 6/10\n",
      "60000/60000 [==============================] - 18s 292us/step - loss: 0.0739 - acc: 0.9765 - val_loss: 0.0729 - val_acc: 0.9759\n",
      "Epoch 7/10\n",
      "60000/60000 [==============================] - 17s 289us/step - loss: 0.0659 - acc: 0.9785 - val_loss: 0.0820 - val_acc: 0.9710\n",
      "Epoch 8/10\n",
      "60000/60000 [==============================] - 17s 287us/step - loss: 0.0694 - acc: 0.9781 - val_loss: 0.0618 - val_acc: 0.9815\n",
      "Epoch 9/10\n",
      "60000/60000 [==============================] - 17s 287us/step - loss: 0.0572 - acc: 0.9821 - val_loss: 0.0580 - val_acc: 0.9827\n",
      "Epoch 10/10\n",
      "60000/60000 [==============================] - 17s 287us/step - loss: 0.0497 - acc: 0.9839 - val_loss: 0.0577 - val_acc: 0.9821\n"
     ]
    },
    {
     "data": {
      "text/plain": [
       "<keras.callbacks.History at 0x12f8e6908>"
      ]
     },
     "execution_count": 21,
     "metadata": {},
     "output_type": "execute_result"
    }
   ],
   "source": [
    "model.fit(X_train,\n",
    "          y_train_hot,\n",
    "          epochs = 10,\n",
    "          validation_data = (X_test, y_test_hot))"
   ]
  },
  {
   "cell_type": "code",
   "execution_count": null,
   "metadata": {
    "collapsed": true
   },
   "outputs": [],
   "source": []
  }
 ],
 "metadata": {
  "kernelspec": {
   "display_name": "Python 3",
   "language": "python",
   "name": "python3"
  },
  "language_info": {
   "codemirror_mode": {
    "name": "ipython",
    "version": 3
   },
   "file_extension": ".py",
   "mimetype": "text/x-python",
   "name": "python",
   "nbconvert_exporter": "python",
   "pygments_lexer": "ipython3",
   "version": "3.6.0"
  }
 },
 "nbformat": 4,
 "nbformat_minor": 2
}
