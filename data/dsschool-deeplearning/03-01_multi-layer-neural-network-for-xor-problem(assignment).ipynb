{
 "cells": [
  {
   "cell_type": "code",
   "execution_count": 1,
   "metadata": {
    "collapsed": true
   },
   "outputs": [],
   "source": [
    "%matplotlib inline\n",
    "import numpy as np\n",
    "import pandas as pd\n",
    "import matplotlib.pyplot as plt"
   ]
  },
  {
   "cell_type": "markdown",
   "metadata": {},
   "source": [
    "## Generate Dataset"
   ]
  },
  {
   "cell_type": "code",
   "execution_count": 2,
   "metadata": {},
   "outputs": [
    {
     "name": "stdout",
     "output_type": "stream",
     "text": [
      "(4, 3)\n"
     ]
    },
    {
     "data": {
      "text/html": [
       "<div>\n",
       "<style scoped>\n",
       "    .dataframe tbody tr th:only-of-type {\n",
       "        vertical-align: middle;\n",
       "    }\n",
       "\n",
       "    .dataframe tbody tr th {\n",
       "        vertical-align: top;\n",
       "    }\n",
       "\n",
       "    .dataframe thead th {\n",
       "        text-align: right;\n",
       "    }\n",
       "</style>\n",
       "<table border=\"1\" class=\"dataframe\">\n",
       "  <thead>\n",
       "    <tr style=\"text-align: right;\">\n",
       "      <th></th>\n",
       "      <th>x1</th>\n",
       "      <th>x2</th>\n",
       "      <th>y</th>\n",
       "    </tr>\n",
       "  </thead>\n",
       "  <tbody>\n",
       "    <tr>\n",
       "      <th>0</th>\n",
       "      <td>0</td>\n",
       "      <td>0</td>\n",
       "      <td>0</td>\n",
       "    </tr>\n",
       "    <tr>\n",
       "      <th>1</th>\n",
       "      <td>1</td>\n",
       "      <td>0</td>\n",
       "      <td>0</td>\n",
       "    </tr>\n",
       "    <tr>\n",
       "      <th>2</th>\n",
       "      <td>0</td>\n",
       "      <td>1</td>\n",
       "      <td>0</td>\n",
       "    </tr>\n",
       "    <tr>\n",
       "      <th>3</th>\n",
       "      <td>1</td>\n",
       "      <td>1</td>\n",
       "      <td>1</td>\n",
       "    </tr>\n",
       "  </tbody>\n",
       "</table>\n",
       "</div>"
      ],
      "text/plain": [
       "   x1  x2  y\n",
       "0   0   0  0\n",
       "1   1   0  0\n",
       "2   0   1  0\n",
       "3   1   1  1"
      ]
     },
     "execution_count": 2,
     "metadata": {},
     "output_type": "execute_result"
    },
    {
     "data": {
      "image/png": "[encoded data removed]",
      "text/plain": [
       "<matplotlib.figure.Figure at 0x10ed072e8>"
      ]
     },
     "metadata": {},
     "output_type": "display_data"
    }
   ],
   "source": [
    "and_data = [\n",
    "    {'x1': 0, 'x2': 0, 'y' : 0},\n",
    "    {'x1': 1, 'x2': 0, 'y' : 0},\n",
    "    {'x1': 0, 'x2': 1, 'y' : 0},\n",
    "    {'x1': 1, 'x2': 1, 'y' : 1},\n",
    "]\n",
    "\n",
    "and_data = pd.DataFrame.from_dict(and_data)\n",
    "\n",
    "plt.scatter(and_data['x1'], and_data['x2'], c=and_data['y'])\n",
    "\n",
    "print(and_data.shape)\n",
    "and_data.head()"
   ]
  },
  {
   "cell_type": "code",
   "execution_count": 3,
   "metadata": {},
   "outputs": [
    {
     "name": "stdout",
     "output_type": "stream",
     "text": [
      "(4, 3)\n"
     ]
    },
    {
     "data": {
      "text/html": [
       "<div>\n",
       "<style scoped>\n",
       "    .dataframe tbody tr th:only-of-type {\n",
       "        vertical-align: middle;\n",
       "    }\n",
       "\n",
       "    .dataframe tbody tr th {\n",
       "        vertical-align: top;\n",
       "    }\n",
       "\n",
       "    .dataframe thead th {\n",
       "        text-align: right;\n",
       "    }\n",
       "</style>\n",
       "<table border=\"1\" class=\"dataframe\">\n",
       "  <thead>\n",
       "    <tr style=\"text-align: right;\">\n",
       "      <th></th>\n",
       "      <th>x1</th>\n",
       "      <th>x2</th>\n",
       "      <th>y</th>\n",
       "    </tr>\n",
       "  </thead>\n",
       "  <tbody>\n",
       "    <tr>\n",
       "      <th>0</th>\n",
       "      <td>0</td>\n",
       "      <td>0</td>\n",
       "      <td>0</td>\n",
       "    </tr>\n",
       "    <tr>\n",
       "      <th>1</th>\n",
       "      <td>1</td>\n",
       "      <td>0</td>\n",
       "      <td>1</td>\n",
       "    </tr>\n",
       "    <tr>\n",
       "      <th>2</th>\n",
       "      <td>0</td>\n",
       "      <td>1</td>\n",
       "      <td>1</td>\n",
       "    </tr>\n",
       "    <tr>\n",
       "      <th>3</th>\n",
       "      <td>1</td>\n",
       "      <td>1</td>\n",
       "      <td>1</td>\n",
       "    </tr>\n",
       "  </tbody>\n",
       "</table>\n",
       "</div>"
      ],
      "text/plain": [
       "   x1  x2  y\n",
       "0   0   0  0\n",
       "1   1   0  1\n",
       "2   0   1  1\n",
       "3   1   1  1"
      ]
     },
     "execution_count": 3,
     "metadata": {},
     "output_type": "execute_result"
    },
    {
     "data": {
      "image/png": "[encoded data removed]",
      "text/plain": [
       "<matplotlib.figure.Figure at 0x1128c2eb8>"
      ]
     },
     "metadata": {},
     "output_type": "display_data"
    }
   ],
   "source": [
    "or_data = [\n",
    "    {'x1': 0, 'x2': 0, 'y' : 0},\n",
    "    {'x1': 1, 'x2': 0, 'y' : 1},\n",
    "    {'x1': 0, 'x2': 1, 'y' : 1},\n",
    "    {'x1': 1, 'x2': 1, 'y' : 1},\n",
    "]\n",
    "\n",
    "or_data = pd.DataFrame.from_dict(or_data)\n",
    "\n",
    "plt.scatter(or_data['x1'], or_data['x2'], c=or_data['y'])\n",
    "\n",
    "print(or_data.shape)\n",
    "or_data.head()"
   ]
  },
  {
   "cell_type": "code",
   "execution_count": 4,
   "metadata": {},
   "outputs": [
    {
     "name": "stdout",
     "output_type": "stream",
     "text": [
      "(4, 3)\n"
     ]
    },
    {
     "data": {
      "text/html": [
       "<div>\n",
       "<style scoped>\n",
       "    .dataframe tbody tr th:only-of-type {\n",
       "        vertical-align: middle;\n",
       "    }\n",
       "\n",
       "    .dataframe tbody tr th {\n",
       "        vertical-align: top;\n",
       "    }\n",
       "\n",
       "    .dataframe thead th {\n",
       "        text-align: right;\n",
       "    }\n",
       "</style>\n",
       "<table border=\"1\" class=\"dataframe\">\n",
       "  <thead>\n",
       "    <tr style=\"text-align: right;\">\n",
       "      <th></th>\n",
       "      <th>x1</th>\n",
       "      <th>x2</th>\n",
       "      <th>y</th>\n",
       "    </tr>\n",
       "  </thead>\n",
       "  <tbody>\n",
       "    <tr>\n",
       "      <th>0</th>\n",
       "      <td>0</td>\n",
       "      <td>0</td>\n",
       "      <td>0</td>\n",
       "    </tr>\n",
       "    <tr>\n",
       "      <th>1</th>\n",
       "      <td>1</td>\n",
       "      <td>0</td>\n",
       "      <td>1</td>\n",
       "    </tr>\n",
       "    <tr>\n",
       "      <th>2</th>\n",
       "      <td>0</td>\n",
       "      <td>1</td>\n",
       "      <td>1</td>\n",
       "    </tr>\n",
       "    <tr>\n",
       "      <th>3</th>\n",
       "      <td>1</td>\n",
       "      <td>1</td>\n",
       "      <td>0</td>\n",
       "    </tr>\n",
       "  </tbody>\n",
       "</table>\n",
       "</div>"
      ],
      "text/plain": [
       "   x1  x2  y\n",
       "0   0   0  0\n",
       "1   1   0  1\n",
       "2   0   1  1\n",
       "3   1   1  0"
      ]
     },
     "execution_count": 4,
     "metadata": {},
     "output_type": "execute_result"
    },
    {
     "data": {
      "image/png": "[encoded data removed]",
      "text/plain": [
       "<matplotlib.figure.Figure at 0x11728ce10>"
      ]
     },
     "metadata": {},
     "output_type": "display_data"
    }
   ],
   "source": [
    "xor_data = [\n",
    "    {'x1': 0, 'x2': 0, 'y' : 0},\n",
    "    {'x1': 1, 'x2': 0, 'y' : 1},\n",
    "    {'x1': 0, 'x2': 1, 'y' : 1},\n",
    "    {'x1': 1, 'x2': 1, 'y' : 0},\n",
    "]\n",
    "\n",
    "xor_data = pd.DataFrame.from_dict(xor_data)\n",
    "\n",
    "plt.scatter(xor_data['x1'], xor_data['x2'], c=xor_data['y'])\n",
    "\n",
    "print(xor_data.shape)\n",
    "xor_data.head()"
   ]
  },
  {
   "cell_type": "markdown",
   "metadata": {},
   "source": [
    "### Define Sigmoid"
   ]
  },
  {
   "cell_type": "code",
   "execution_count": 5,
   "metadata": {
    "collapsed": true
   },
   "outputs": [],
   "source": [
    "def sigmoid(n):\n",
    "    return 1 / (1 + np.exp(-n))"
   ]
  },
  {
   "cell_type": "code",
   "execution_count": 6,
   "metadata": {},
   "outputs": [
    {
     "data": {
      "text/plain": [
       "[<matplotlib.lines.Line2D at 0x11744ae80>]"
      ]
     },
     "execution_count": 6,
     "metadata": {},
     "output_type": "execute_result"
    },
    {
     "data": {
      "image/png": "[encoded data removed]",
      "text/plain": [
       "<matplotlib.figure.Figure at 0x10ecf9cf8>"
      ]
     },
     "metadata": {},
     "output_type": "display_data"
    }
   ],
   "source": [
    "xx = np.linspace(-10, 10)\n",
    "yy = sigmoid(xx)\n",
    "\n",
    "plt.plot(xx, yy)"
   ]
  },
  {
   "cell_type": "markdown",
   "metadata": {},
   "source": [
    "### Single layer Neural Network"
   ]
  },
  {
   "cell_type": "code",
   "execution_count": 7,
   "metadata": {
    "collapsed": true
   },
   "outputs": [],
   "source": [
    "def gradient_descent(X, y, num_epoch=100, learning_rate=1.0):\n",
    "    num_features = X.shape[1]\n",
    "\n",
    "    w = np.random.uniform(low=-1.0, high=1.0, size=num_features)\n",
    "    b = np.random.uniform(low=-1.0, high=1.0)\n",
    "\n",
    "    for epoch in range(num_epoch):\n",
    "        y_predict = X.dot(w) + b\n",
    "        y_predict = sigmoid(y_predict)\n",
    "\n",
    "        predict = y_predict >= 0.5\n",
    "        accuracy = (predict == y).mean()\n",
    "\n",
    "        print(\"{0} accuracy = {1:.5f}\".format(epoch, accuracy))\n",
    "\n",
    "        if accuracy == 1.00:\n",
    "            break\n",
    "\n",
    "        w = w - learning_rate * (y_predict - y).dot(X)\n",
    "        b = b - learning_rate * (y_predict - y).mean()\n",
    "\n",
    "    return w, b, accuracy"
   ]
  },
  {
   "cell_type": "markdown",
   "metadata": {},
   "source": [
    "### And Data"
   ]
  },
  {
   "cell_type": "code",
   "execution_count": 8,
   "metadata": {
    "scrolled": true
   },
   "outputs": [
    {
     "name": "stdout",
     "output_type": "stream",
     "text": [
      "0 accuracy = 0.75000\n",
      "1 accuracy = 0.75000\n",
      "2 accuracy = 0.75000\n",
      "3 accuracy = 0.75000\n",
      "4 accuracy = 1.00000\n",
      "----------------------------------------\n",
      "Accuracy = 1.000000\n"
     ]
    }
   ],
   "source": [
    "# Write your code here!\n",
    "\n",
    "data = and_data.copy()\n",
    "\n",
    "X = data[['x1', 'x2']].values\n",
    "y = data['y'].values\n",
    "\n",
    "w, b, accuracy = gradient_descent(X, y, num_epoch=100, learning_rate=1.0)\n",
    "\n",
    "print('----' * 10)\n",
    "print(f'Accuracy = {accuracy:.6f}')"
   ]
  },
  {
   "cell_type": "code",
   "execution_count": 9,
   "metadata": {},
   "outputs": [
    {
     "data": {
      "text/plain": [
       "[<matplotlib.lines.Line2D at 0x117373160>]"
      ]
     },
     "execution_count": 9,
     "metadata": {},
     "output_type": "execute_result"
    },
    {
     "data": {
      "image/png": "[encoded data removed]",
      "text/plain": [
       "<matplotlib.figure.Figure at 0x117373898>"
      ]
     },
     "metadata": {},
     "output_type": "display_data"
    }
   ],
   "source": [
    "w1, w2 = w[0], w[1]\n",
    "xx = np.linspace(start=0.0, stop=1.0)\n",
    "yy = -1.0 * (w1 * xx + b) / w2\n",
    "\n",
    "plt.scatter(data['x1'], data['x2'], c=data['y'])\n",
    "plt.plot(xx, yy, c='r')"
   ]
  },
  {
   "cell_type": "markdown",
   "metadata": {},
   "source": [
    "### Or Data"
   ]
  },
  {
   "cell_type": "code",
   "execution_count": 10,
   "metadata": {
    "scrolled": false
   },
   "outputs": [
    {
     "name": "stdout",
     "output_type": "stream",
     "text": [
      "0 accuracy = 0.50000\n",
      "1 accuracy = 1.00000\n",
      "----------------------------------------\n",
      "Accuracy = 1.000000\n"
     ]
    }
   ],
   "source": [
    "# Write your code here!\n",
    "\n",
    "data = or_data.copy()\n",
    "\n",
    "X = data[['x1', 'x2']].values\n",
    "y = data['y'].values\n",
    "\n",
    "w, b, accuracy = gradient_descent(X, y, num_epoch=100, learning_rate=1.0)\n",
    "\n",
    "print('----' * 10)\n",
    "print(f'Accuracy = {accuracy:.6f}')"
   ]
  },
  {
   "cell_type": "code",
   "execution_count": 11,
   "metadata": {},
   "outputs": [
    {
     "data": {
      "text/plain": [
       "[<matplotlib.lines.Line2D at 0x117579358>]"
      ]
     },
     "execution_count": 11,
     "metadata": {},
     "output_type": "execute_result"
    },
    {
     "data": {
      "image/png": "[encoded data removed]",
      "text/plain": [
       "<matplotlib.figure.Figure at 0x117579278>"
      ]
     },
     "metadata": {},
     "output_type": "display_data"
    }
   ],
   "source": [
    "w1, w2 = w[0], w[1]\n",
    "xx = np.linspace(start=0.0, stop=1.0)\n",
    "yy = -1.0 * (w1 * xx + b) / w2\n",
    "\n",
    "plt.scatter(data['x1'], data['x2'], c=data['y'])\n",
    "plt.plot(xx, yy, c='r')"
   ]
  },
  {
   "cell_type": "markdown",
   "metadata": {},
   "source": [
    "### XOR Data"
   ]
  },
  {
   "cell_type": "code",
   "execution_count": 12,
   "metadata": {
    "scrolled": false
   },
   "outputs": [
    {
     "name": "stdout",
     "output_type": "stream",
     "text": [
      "0 accuracy = 0.50000\n",
      "1 accuracy = 0.50000\n",
      "2 accuracy = 0.50000\n",
      "3 accuracy = 0.50000\n",
      "4 accuracy = 0.50000\n",
      "5 accuracy = 0.50000\n",
      "6 accuracy = 0.50000\n",
      "7 accuracy = 0.50000\n",
      "8 accuracy = 0.25000\n",
      "9 accuracy = 0.25000\n",
      "10 accuracy = 0.25000\n",
      "11 accuracy = 0.25000\n",
      "12 accuracy = 0.25000\n",
      "13 accuracy = 0.25000\n",
      "14 accuracy = 0.25000\n",
      "15 accuracy = 0.25000\n",
      "16 accuracy = 0.25000\n",
      "17 accuracy = 0.25000\n",
      "18 accuracy = 0.25000\n",
      "19 accuracy = 0.25000\n",
      "20 accuracy = 0.25000\n",
      "21 accuracy = 0.25000\n",
      "22 accuracy = 0.25000\n",
      "23 accuracy = 0.25000\n",
      "24 accuracy = 0.25000\n",
      "25 accuracy = 0.25000\n",
      "26 accuracy = 0.25000\n",
      "27 accuracy = 0.25000\n",
      "28 accuracy = 0.25000\n",
      "29 accuracy = 0.25000\n",
      "30 accuracy = 0.25000\n",
      "31 accuracy = 0.25000\n",
      "32 accuracy = 0.25000\n",
      "33 accuracy = 0.25000\n",
      "34 accuracy = 0.25000\n",
      "35 accuracy = 0.25000\n",
      "36 accuracy = 0.25000\n",
      "37 accuracy = 0.25000\n",
      "38 accuracy = 0.25000\n",
      "39 accuracy = 0.25000\n",
      "40 accuracy = 0.25000\n",
      "41 accuracy = 0.25000\n",
      "42 accuracy = 0.25000\n",
      "43 accuracy = 0.25000\n",
      "44 accuracy = 0.25000\n",
      "45 accuracy = 0.25000\n",
      "46 accuracy = 0.25000\n",
      "47 accuracy = 0.25000\n",
      "48 accuracy = 0.25000\n",
      "49 accuracy = 0.25000\n",
      "50 accuracy = 0.25000\n",
      "51 accuracy = 0.25000\n",
      "52 accuracy = 0.25000\n",
      "53 accuracy = 0.25000\n",
      "54 accuracy = 0.25000\n",
      "55 accuracy = 0.25000\n",
      "56 accuracy = 0.25000\n",
      "57 accuracy = 0.25000\n",
      "58 accuracy = 0.25000\n",
      "59 accuracy = 0.25000\n",
      "60 accuracy = 0.25000\n",
      "61 accuracy = 0.25000\n",
      "62 accuracy = 0.25000\n",
      "63 accuracy = 0.25000\n",
      "64 accuracy = 0.25000\n",
      "65 accuracy = 0.25000\n",
      "66 accuracy = 0.25000\n",
      "67 accuracy = 0.25000\n",
      "68 accuracy = 0.25000\n",
      "69 accuracy = 0.25000\n",
      "70 accuracy = 0.25000\n",
      "71 accuracy = 0.25000\n",
      "72 accuracy = 0.25000\n",
      "73 accuracy = 0.25000\n",
      "74 accuracy = 0.25000\n",
      "75 accuracy = 0.25000\n",
      "76 accuracy = 0.25000\n",
      "77 accuracy = 0.25000\n",
      "78 accuracy = 0.25000\n",
      "79 accuracy = 0.25000\n",
      "80 accuracy = 0.25000\n",
      "81 accuracy = 0.25000\n",
      "82 accuracy = 0.25000\n",
      "83 accuracy = 0.25000\n",
      "84 accuracy = 0.25000\n",
      "85 accuracy = 0.25000\n",
      "86 accuracy = 0.25000\n",
      "87 accuracy = 0.25000\n",
      "88 accuracy = 0.25000\n",
      "89 accuracy = 0.25000\n",
      "90 accuracy = 0.25000\n",
      "91 accuracy = 0.25000\n",
      "92 accuracy = 0.25000\n",
      "93 accuracy = 0.25000\n",
      "94 accuracy = 0.25000\n",
      "95 accuracy = 0.25000\n",
      "96 accuracy = 0.25000\n",
      "97 accuracy = 0.25000\n",
      "98 accuracy = 0.25000\n",
      "99 accuracy = 0.25000\n",
      "----------------------------------------\n",
      "Accuracy = 0.250000\n"
     ]
    }
   ],
   "source": [
    "# Write your code here!# Write your code here!\n",
    "\n",
    "data = xor_data.copy()\n",
    "\n",
    "X = data[['x1', 'x2']].values\n",
    "y = data['y'].values\n",
    "\n",
    "w, b, accuracy = gradient_descent(X, y, num_epoch=100, learning_rate=1.0)\n",
    "\n",
    "print('----' * 10)\n",
    "print(f'Accuracy = {accuracy:.6f}')"
   ]
  },
  {
   "cell_type": "code",
   "execution_count": 13,
   "metadata": {
    "scrolled": true
   },
   "outputs": [
    {
     "data": {
      "text/plain": [
       "[<matplotlib.lines.Line2D at 0x116d5f780>]"
      ]
     },
     "execution_count": 13,
     "metadata": {},
     "output_type": "execute_result"
    },
    {
     "data": {
      "image/png": "[encoded data removed]",
      "text/plain": [
       "<matplotlib.figure.Figure at 0x117379048>"
      ]
     },
     "metadata": {},
     "output_type": "display_data"
    }
   ],
   "source": [
    "w1, w2 = w[0], w[1]\n",
    "xx = np.linspace(start=0.0, stop=1.0)\n",
    "yy = -1.0 * (w1 * xx + b) / w2\n",
    "\n",
    "plt.scatter(data['x1'], data['x2'], c=data['y'])\n",
    "plt.plot(xx, yy, c='r')"
   ]
  },
  {
   "cell_type": "markdown",
   "metadata": {},
   "source": [
    "### XOR data (transformed)"
   ]
  },
  {
   "cell_type": "code",
   "execution_count": 22,
   "metadata": {},
   "outputs": [
    {
     "data": {
      "text/html": [
       "<div>\n",
       "<style scoped>\n",
       "    .dataframe tbody tr th:only-of-type {\n",
       "        vertical-align: middle;\n",
       "    }\n",
       "\n",
       "    .dataframe tbody tr th {\n",
       "        vertical-align: top;\n",
       "    }\n",
       "\n",
       "    .dataframe thead th {\n",
       "        text-align: right;\n",
       "    }\n",
       "</style>\n",
       "<table border=\"1\" class=\"dataframe\">\n",
       "  <thead>\n",
       "    <tr style=\"text-align: right;\">\n",
       "      <th></th>\n",
       "      <th>x1</th>\n",
       "      <th>x2</th>\n",
       "      <th>y</th>\n",
       "    </tr>\n",
       "  </thead>\n",
       "  <tbody>\n",
       "    <tr>\n",
       "      <th>0</th>\n",
       "      <td>0</td>\n",
       "      <td>0</td>\n",
       "      <td>0</td>\n",
       "    </tr>\n",
       "    <tr>\n",
       "      <th>1</th>\n",
       "      <td>0</td>\n",
       "      <td>1</td>\n",
       "      <td>1</td>\n",
       "    </tr>\n",
       "    <tr>\n",
       "      <th>2</th>\n",
       "      <td>1</td>\n",
       "      <td>0</td>\n",
       "      <td>1</td>\n",
       "    </tr>\n",
       "    <tr>\n",
       "      <th>3</th>\n",
       "      <td>0</td>\n",
       "      <td>0</td>\n",
       "      <td>0</td>\n",
       "    </tr>\n",
       "  </tbody>\n",
       "</table>\n",
       "</div>"
      ],
      "text/plain": [
       "   x1  x2  y\n",
       "0   0   0  0\n",
       "1   0   1  1\n",
       "2   1   0  1\n",
       "3   0   0  0"
      ]
     },
     "execution_count": 22,
     "metadata": {},
     "output_type": "execute_result"
    }
   ],
   "source": [
    "# Write your code here!\n",
    "\n",
    "data = xor_data.copy()\n",
    "\n",
    "x1 = data['x1'].values\n",
    "x2 = data['x2'].values\n",
    "\n",
    "x1_flipped = (x1 == 0).astype('int')\n",
    "x2_flipped = (x2 == 0).astype('int')\n",
    "\n",
    "new_x1 = x1_flipped & x2\n",
    "new_x2 = x1 & x2_flipped\n",
    "\n",
    "new_xor_data = pd.DataFrame({'x1': new_x1, 'x2': new_x2, 'y': y})\n",
    "new_xor_data"
   ]
  },
  {
   "cell_type": "code",
   "execution_count": null,
   "metadata": {
    "collapsed": true
   },
   "outputs": [],
   "source": []
  },
  {
   "cell_type": "code",
   "execution_count": 25,
   "metadata": {},
   "outputs": [
    {
     "name": "stdout",
     "output_type": "stream",
     "text": [
      "0 accuracy = 1.00000\n",
      "----------------------------------------\n",
      "Accuracy = 1.000000\n"
     ]
    },
    {
     "data": {
      "text/plain": [
       "[<matplotlib.lines.Line2D at 0x1175b22e8>]"
      ]
     },
     "execution_count": 25,
     "metadata": {},
     "output_type": "execute_result"
    },
    {
     "data": {
      "image/png": "[encoded data removed]",
      "text/plain": [
       "<matplotlib.figure.Figure at 0x1177ab908>"
      ]
     },
     "metadata": {},
     "output_type": "display_data"
    }
   ],
   "source": [
    "data = new_xor_data.copy()\n",
    "\n",
    "X = data[['x1', 'x2']].values\n",
    "y = data['y'].values\n",
    "\n",
    "w, b, accuracy = gradient_descent(X, y, num_epoch=100, learning_rate=1.0)\n",
    "\n",
    "print('----' * 10)\n",
    "print(f'Accuracy = {accuracy:.6f}')\n",
    "\n",
    "w1, w2 = w[0], w[1]\n",
    "xx = np.linspace(start=0.0, stop=1.0)\n",
    "yy = -1.0 * (w1 * xx + b) / w2\n",
    "\n",
    "plt.scatter(data['x1'], data['x2'], c=data['y'])\n",
    "plt.plot(xx, yy, c='r')"
   ]
  },
  {
   "cell_type": "markdown",
   "metadata": {},
   "source": [
    "### XOR data (Polynomial)"
   ]
  },
  {
   "cell_type": "code",
   "execution_count": 30,
   "metadata": {},
   "outputs": [
    {
     "data": {
      "text/html": [
       "<div>\n",
       "<style scoped>\n",
       "    .dataframe tbody tr th:only-of-type {\n",
       "        vertical-align: middle;\n",
       "    }\n",
       "\n",
       "    .dataframe tbody tr th {\n",
       "        vertical-align: top;\n",
       "    }\n",
       "\n",
       "    .dataframe thead th {\n",
       "        text-align: right;\n",
       "    }\n",
       "</style>\n",
       "<table border=\"1\" class=\"dataframe\">\n",
       "  <thead>\n",
       "    <tr style=\"text-align: right;\">\n",
       "      <th></th>\n",
       "      <th>x1</th>\n",
       "      <th>x2</th>\n",
       "      <th>x3</th>\n",
       "      <th>x4</th>\n",
       "      <th>x5</th>\n",
       "      <th>y</th>\n",
       "    </tr>\n",
       "  </thead>\n",
       "  <tbody>\n",
       "    <tr>\n",
       "      <th>0</th>\n",
       "      <td>0</td>\n",
       "      <td>0</td>\n",
       "      <td>0</td>\n",
       "      <td>0</td>\n",
       "      <td>0</td>\n",
       "      <td>0</td>\n",
       "    </tr>\n",
       "    <tr>\n",
       "      <th>1</th>\n",
       "      <td>1</td>\n",
       "      <td>0</td>\n",
       "      <td>1</td>\n",
       "      <td>0</td>\n",
       "      <td>0</td>\n",
       "      <td>1</td>\n",
       "    </tr>\n",
       "    <tr>\n",
       "      <th>2</th>\n",
       "      <td>0</td>\n",
       "      <td>1</td>\n",
       "      <td>0</td>\n",
       "      <td>0</td>\n",
       "      <td>1</td>\n",
       "      <td>1</td>\n",
       "    </tr>\n",
       "    <tr>\n",
       "      <th>3</th>\n",
       "      <td>1</td>\n",
       "      <td>1</td>\n",
       "      <td>1</td>\n",
       "      <td>1</td>\n",
       "      <td>1</td>\n",
       "      <td>0</td>\n",
       "    </tr>\n",
       "  </tbody>\n",
       "</table>\n",
       "</div>"
      ],
      "text/plain": [
       "   x1  x2  x3  x4  x5  y\n",
       "0   0   0   0   0   0  0\n",
       "1   1   0   1   0   0  1\n",
       "2   0   1   0   0   1  1\n",
       "3   1   1   1   1   1  0"
      ]
     },
     "execution_count": 30,
     "metadata": {},
     "output_type": "execute_result"
    }
   ],
   "source": [
    "# Write your code here!\n",
    "data = xor_data.copy()\n",
    "\n",
    "x1 = data['x1'].values\n",
    "x2 = data['x2'].values\n",
    "x3 = x1 * x1\n",
    "x4 = x1 * x2\n",
    "x5 = x2 * x2\n",
    "\n",
    "y = data['y'].values\n",
    "\n",
    "polynomial_xor_data = pd.DataFrame({'x1': x1, 'x2': x2, 'x3': x3, 'x4': x4, 'x5': x5, 'y': y})\n",
    "polynomial_xor_data"
   ]
  },
  {
   "cell_type": "code",
   "execution_count": 32,
   "metadata": {},
   "outputs": [
    {
     "name": "stdout",
     "output_type": "stream",
     "text": [
      "0 accuracy = 0.25000\n",
      "1 accuracy = 0.50000\n",
      "2 accuracy = 0.25000\n",
      "3 accuracy = 0.50000\n",
      "4 accuracy = 1.00000\n",
      "----------------------------------------\n",
      "Accuracy = 1.000000\n"
     ]
    }
   ],
   "source": [
    "data = polynomial_xor_data.copy()\n",
    "\n",
    "X = data[['x1', 'x2', 'x3', 'x4', 'x5']].values\n",
    "y = data['y'].values\n",
    "\n",
    "w, b, accuracy = gradient_descent(X, y, num_epoch=100, learning_rate=1.0)\n",
    "\n",
    "print('----' * 10)\n",
    "print(f'Accuracy = {accuracy:.6f}')"
   ]
  },
  {
   "cell_type": "markdown",
   "metadata": {},
   "source": [
    "### Multi-layer Neural Network"
   ]
  },
  {
   "cell_type": "code",
   "execution_count": 35,
   "metadata": {},
   "outputs": [],
   "source": [
    "# Write your code here!\n",
    "data = xor_data.copy()\n",
    "\n",
    "X = data[['x1', 'x2']].values\n",
    "y = data['y'].values\n",
    "\n",
    "y = y.reshape(4, 1)"
   ]
  },
  {
   "cell_type": "code",
   "execution_count": 39,
   "metadata": {},
   "outputs": [
    {
     "name": "stdout",
     "output_type": "stream",
     "text": [
      "  0 accuracy = 0.500000\n",
      " 10 accuracy = 0.250000\n",
      " 20 accuracy = 0.250000\n",
      " 30 accuracy = 0.500000\n",
      " 40 accuracy = 0.500000\n",
      " 50 accuracy = 0.500000\n",
      " 60 accuracy = 0.500000\n",
      " 70 accuracy = 0.500000\n",
      " 80 accuracy = 0.500000\n",
      " 90 accuracy = 0.750000\n",
      "100 accuracy = 0.750000\n",
      "110 accuracy = 0.750000\n",
      "120 accuracy = 0.750000\n",
      "130 accuracy = 0.750000\n",
      "140 accuracy = 0.750000\n",
      "150 accuracy = 0.750000\n",
      "160 accuracy = 0.750000\n",
      "170 accuracy = 0.750000\n",
      "----------------------------------------\n",
      "176 accuracy = 1.000000\n"
     ]
    }
   ],
   "source": [
    "num_epoch = 300\n",
    "learning_rate = 1.0\n",
    "\n",
    "w1 = np.random.uniform(low=-1.0, high=1.0, size=(2, 3))\n",
    "b1 = np.random.uniform(low=-1.0, high=1.0, size=(1, 3))\n",
    "\n",
    "w2 = np.random.uniform(low=-1.0, high=1.0, size=(3, 1))\n",
    "b2 = np.random.uniform(low=-1.0, high=1.0, size=(1, 1))\n",
    "\n",
    "for epoch in range(num_epoch):\n",
    "    z1 = X.dot(w1) + b1\n",
    "    a1 = sigmoid(z1)\n",
    "    z2 = a1.dot(w2) + b2\n",
    "    a2 = sigmoid(z2)\n",
    "    \n",
    "    y_predict = (a2 >= 0.5).astype('int')\n",
    "    accuracy = (y_predict == y).mean()\n",
    "    \n",
    "    if epoch % 10 == 0:\n",
    "        print(f'{epoch:3} accuracy = {accuracy:.6f}')\n",
    "        \n",
    "    if accuracy == 1.0:\n",
    "        break\n",
    "    \n",
    "    # Back propogation\n",
    "    d2 = a2 - y\n",
    "    d1 = (a2 - y).dot(w2.T) * a1 * (1 - a1)\n",
    "    \n",
    "    w2 = w2 - learning_rate * a1.T.dot(d2)\n",
    "    w1 = w1 - learning_rate * X.T.dot(d1)\n",
    "    \n",
    "    b2 = b2 - learning_rate * d2.mean(axis=0)\n",
    "    b1 = b1 - learning_rate * d1.mean(axis=0)\n",
    "    \n",
    "print('----' * 10)\n",
    "print(f'{epoch:3} accuracy = {accuracy:.6f}')"
   ]
  },
  {
   "cell_type": "code",
   "execution_count": null,
   "metadata": {
    "collapsed": true
   },
   "outputs": [],
   "source": []
  }
 ],
 "metadata": {
  "kernelspec": {
   "display_name": "Python 3",
   "language": "python",
   "name": "python3"
  },
  "language_info": {
   "codemirror_mode": {
    "name": "ipython",
    "version": 3
   },
   "file_extension": ".py",
   "mimetype": "text/x-python",
   "name": "python",
   "nbconvert_exporter": "python",
   "pygments_lexer": "ipython3",
   "version": "3.6.0"
  }
 },
 "nbformat": 4,
 "nbformat_minor": 2
}
