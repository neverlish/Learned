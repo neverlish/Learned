{
 "cells": [
  {
   "cell_type": "markdown",
   "metadata": {},
   "source": [
    "[![Open In Colab](https://colab.research.google.com/assets/colab-badge.svg)](https://bit.ly/open-data-02-store-input)\n",
    "\n",
    "## 상가(상권)정보 분석하기\n",
    "* 데이터 출처 : [공공데이터포털](https://www.data.go.kr/dataset/15012005/fileData.do)\n",
    "* 소상공인 상권정보 상가업소 데이터\n",
    "* 영상에 사용한 데이터셋 다운로드 : http://bit.ly/open-data-set-folder\n",
    "\n",
    "### 데이터셋을 엑셀에서 열어보는 방법\n",
    "\n",
    "```\n",
    "MS엑셀(Excel)에서 UTF-8로 된 CSV파일 불러오기 \n",
    " ◦  기존 euc-kr 데이터 추출형식으로 인해 업소명 오류가 발견되었으며 이를 개선하고자 UTF-8 형식으로 추출하였습니다.\n",
    " ◦ 개발자가 아닌 일반사용자의 경우 euc-kr(UTF-8 이나 UTF-16)이 아닌 CSV파일을 엑셀에서 바로 열면 한글이 모두 깨지게 됩니다.\n",
    " \n",
    " ◦ 바로 열지 마시고 다음 절차를 거치시기 바랍니다. \n",
    "   - 엑셀을 실행하고 데이터 → 텍스트를 선택합니다.\n",
    "   - 가져올 파일을 선택하고 확인을 클릭합니다.\n",
    "   - 콤보 박스에서 적절한 코드 타입이 선택됐는지 확인합니다. \n",
    "     * UTF-8의 코드 페이지 넘버는 65001입니다.\n",
    " \n",
    "   - 원본 데이터 파일 유형을 ‘구분 기호로 분리됨’ 선택합니다. \n",
    "   - 기타 ‘|’(파이프) 입력, 3단계 텍스트로 선택합니다.  \n",
    "     * 단, 지번코드, 건물관리번호, 신우편번호, 경도, 위도 등 행마다 텍스트 선택   \n",
    "  \n",
    "``` \n",
    "\n",
    "### 데이터셋 분류 지역\n",
    "* 이 튜토리얼에서는 1번 파일만 사용합니다.\n",
    "\n",
    "```\n",
    "※ 파일데이터 분류 지역 \n",
    "1 : 서울, 부산\n",
    "2 : 대구, 인천, 광주, 대전, 울산\n",
    "3 : 경기, 강원, 충북\n",
    "4 : 충남, 전북, 전남, 경북, 경남, 제주\n",
    "```"
   ]
  },
  {
   "cell_type": "markdown",
   "metadata": {},
   "source": [
    "## 라이브러리 로드"
   ]
  },
  {
   "cell_type": "code",
   "execution_count": 2,
   "metadata": {},
   "outputs": [],
   "source": [
    "# 라이브러리를 로드합니다.\n",
    "\n",
    "import pandas as pd\n",
    "import seaborn as sns\n",
    "import matplotlib.pyplot as plt\n",
    "\n",
    "%matplotlib inline"
   ]
  },
  {
   "cell_type": "code",
   "execution_count": 3,
   "metadata": {},
   "outputs": [],
   "source": [
    "## 한글폰트 설정\n",
    "\n",
    "plt.rc('font', family='AppleGothic')\n",
    "plt.rc('axes', unicode_minus=False)"
   ]
  },
  {
   "cell_type": "code",
   "execution_count": 4,
   "metadata": {},
   "outputs": [
    {
     "data": {
      "text/plain": [
       "<matplotlib.axes._subplots.AxesSubplot at 0x1119f5b70>"
      ]
     },
     "execution_count": 4,
     "metadata": {},
     "output_type": "execute_result"
    },
    {
     "data": {
      "image/png": "[encoded data removed]",
      "text/plain": [
       "<matplotlib.figure.Figure at 0x1061db240>"
      ]
     },
     "metadata": {},
     "output_type": "display_data"
    }
   ],
   "source": [
    "# 레티나 디스플레이로 폰트가 선명하게 표시되도록 합니다.\n",
    "\n",
    "from IPython.display import set_matplotlib_formats\n",
    "set_matplotlib_formats(\"retina\")"
   ]
  },
  {
   "cell_type": "markdown",
   "metadata": {},
   "source": [
    "### 한글폰트 설정 확인"
   ]
  },
  {
   "cell_type": "code",
   "execution_count": null,
   "metadata": {
    "collapsed": true
   },
   "outputs": [],
   "source": [
    "pd.Series([-4, 1, 0, 3, -2, 4, 5]).plot(title='한글폰트 설정')"
   ]
  }
 ],
 "metadata": {
  "kernelspec": {
   "display_name": "Python 3",
   "language": "python",
   "name": "python3"
  },
  "language_info": {
   "codemirror_mode": {
    "name": "ipython",
    "version": 3
   },
   "file_extension": ".py",
   "mimetype": "text/x-python",
   "name": "python",
   "nbconvert_exporter": "python",
   "pygments_lexer": "ipython3",
   "version": "3.5.2"
  }
 },
 "nbformat": 4,
 "nbformat_minor": 2
}
