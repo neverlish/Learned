{
 "cells": [
  {
   "cell_type": "markdown",
   "metadata": {},
   "source": [
    "[![Open In Colab](https://colab.research.google.com/assets/colab-badge.svg)](https://bit.ly/open-data-05-park-input)\n",
    "\n",
    "\n",
    "# 전국 도시 공원 표준 데이터\n",
    "https://www.data.go.kr/dataset/15012890/standard.do\n",
    "* 전국 도시 공원 표준데이터에는 데이터를 전처리 해보기에 좋은 데이터가 많습니다.\n",
    "* 시간, 결측치, 이상치, 수치형, 범주형 데이터를 고르게 볼 수 있으며 다양한 텍스트 데이터 처리를 해볼 수 있습니다.\n",
    "* 또 정규표현식을 활용해서 텍스트 데이터 전처리와 데이터 마스킹 기법에 대해 다룹니다.\n",
    "* 그리고 이렇게 전처리한 내용을 바탕으로 전국 도시공원에 대한 분포를 시각화해 봅니다.\n",
    "* 어떤 공원이 어느 지역에 어떻게 분포되어 있는지를 위경도로 표현해 봅니다.\n",
    "\n",
    "## 이번 챕터에서 설치가 필요한 도구\n",
    "\n",
    "* 별도의 설치가 필요합니다.(folium 을 설치했던 것 처럼 따로 설치해야지만 사용할 수 있습니다.)\n",
    "\n",
    "* 윈도우\n",
    "    * <font color=\"red\">주피터 노트북 상에서 설치가 되지 않으니</font> anaconda prompt 를 열어서 설치해 주세요.\n",
    "    * <font color=\"red\">관리자 권한</font>으로 아나콘다를 설치하셨다면 다음의 방법으로 anaconda prompt 를 열어 주세요.\n",
    "    <img src=\"https://i.imgur.com/GhoLwsd.png\">\n",
    "* 맥\n",
    "    * terminal 프로그램을 열어 설치해 주세요. \n",
    "\n",
    "\n",
    "### Pandas Profiling\n",
    "* [pandas-profiling/pandas-profiling: Create HTML profiling reports from pandas DataFrame objects](https://github.com/pandas-profiling/pandas-profiling)\n",
    "\n",
    "* 2020년 4월 기준 판다스 1.0 이상 버전을 지원하지 않습니다.\n",
    "* 아나콘다로 주피터를 설치했다면 : `conda install -c conda-forge pandas-profiling`\n",
    "* pip로 주피터를 설치했다면 : `pip install pandas-profiling`\n",
    "\n",
    "### 워드클라우드\n",
    "[amueller/word_cloud: A little word cloud generator in Python](https://github.com/amueller/word_cloud)\n",
    "\n",
    "* 다음 명령어로 설치가 가능합니다. conda prompt 혹은 터미널을 열어 설치해 주세요.\n",
    "\n",
    "* conda : `conda install -c conda-forge wordcloud`\n",
    "* pip : `pip install wordcloud`\n"
   ]
  },
  {
   "cell_type": "markdown",
   "metadata": {},
   "source": [
    "## 분석에 사용할 도구를 불러옵니다."
   ]
  },
  {
   "cell_type": "code",
   "execution_count": 1,
   "metadata": {
    "collapsed": true
   },
   "outputs": [],
   "source": [
    "# 필요한 라이브러리를 로드합니다.\n",
    "# pandas, numpy, seaborn, matplotlib\n",
    "\n",
    "import pandas as pd\n",
    "import numpy as np\n",
    "import seaborn as sns\n",
    "import matplotlib.pyplot as plt\n",
    "\n",
    "%matplotlib inline"
   ]
  },
  {
   "cell_type": "markdown",
   "metadata": {},
   "source": [
    "## Seaborn 설정으로 시각화의 스타일, 폰트 설정하기\n",
    "* [matplotlib.pyplot.rc — Matplotlib 3.1.3 documentation](https://matplotlib.org/3.1.3/api/_as_gen/matplotlib.pyplot.rc.html)"
   ]
  },
  {
   "cell_type": "code",
   "execution_count": 2,
   "metadata": {
    "collapsed": true
   },
   "outputs": [],
   "source": [
    "# seaborn 의 set 기능을 통해 폰트, 마이너스 폰트 설정, 스타일 설정을 합니다.\n",
    "# Wind : \"Malgun Gothic\", MAC:\"AppleGothic\"\n",
    "\n",
    "sns.set(\n",
    "    font=\"AppleGothic\", \n",
    "    style=\"darkgrid\",\n",
    "    rc={'axes.unicode_minus': False}\n",
    ")"
   ]
  },
  {
   "cell_type": "code",
   "execution_count": 3,
   "metadata": {},
   "outputs": [
    {
     "data": {
      "text/plain": [
       "<matplotlib.axes._subplots.AxesSubplot at 0x11c69ac50>"
      ]
     },
     "execution_count": 3,
     "metadata": {},
     "output_type": "execute_result"
    },
    {
     "data": {
      "image/png": "[encoded data removed]",
      "text/plain": [
       "<Figure size 432x288 with 1 Axes>"
      ]
     },
     "metadata": {},
     "output_type": "display_data"
    }
   ],
   "source": [
    "# 한글폰트 설정 확인을 합니다.\n",
    "\n",
    "pd.Series([1, -1, 0, 5, -5]).plot(title='한글폰트')"
   ]
  },
  {
   "cell_type": "code",
   "execution_count": 4,
   "metadata": {
    "collapsed": true
   },
   "outputs": [],
   "source": [
    "# 그래프가 선명하게 표시되도록 합니다.\n",
    "\n",
    "from IPython.display import set_matplotlib_formats\n",
    "set_matplotlib_formats(\"retina\")"
   ]
  },
  {
   "cell_type": "markdown",
   "metadata": {},
   "source": [
    "## 데이터 로드"
   ]
  },
  {
   "cell_type": "code",
   "execution_count": 5,
   "metadata": {},
   "outputs": [
    {
     "data": {
      "text/plain": [
       "(18137, 20)"
      ]
     },
     "execution_count": 5,
     "metadata": {},
     "output_type": "execute_result"
    }
   ],
   "source": [
    "# 데이터를 로드해서 df 라는 변수에 담습니다.\n",
    "\n",
    "df = pd.read_csv('data/전국도시공원표준데이터.csv', encoding='cp949')\n",
    "df.shape"
   ]
  },
  {
   "cell_type": "code",
   "execution_count": 6,
   "metadata": {},
   "outputs": [
    {
     "data": {
      "text/html": [
       "<div>\n",
       "<style scoped>\n",
       "    .dataframe tbody tr th:only-of-type {\n",
       "        vertical-align: middle;\n",
       "    }\n",
       "\n",
       "    .dataframe tbody tr th {\n",
       "        vertical-align: top;\n",
       "    }\n",
       "\n",
       "    .dataframe thead th {\n",
       "        text-align: right;\n",
       "    }\n",
       "</style>\n",
       "<table border=\"1\" class=\"dataframe\">\n",
       "  <thead>\n",
       "    <tr style=\"text-align: right;\">\n",
       "      <th></th>\n",
       "      <th>관리번호</th>\n",
       "      <th>공원명</th>\n",
       "      <th>공원구분</th>\n",
       "      <th>소재지도로명주소</th>\n",
       "      <th>소재지지번주소</th>\n",
       "      <th>위도</th>\n",
       "      <th>경도</th>\n",
       "      <th>공원면적</th>\n",
       "      <th>공원보유시설(운동시설)</th>\n",
       "      <th>공원보유시설(유희시설)</th>\n",
       "      <th>공원보유시설(편익시설)</th>\n",
       "      <th>공원보유시설(교양시설)</th>\n",
       "      <th>공원보유시설(기타시설)</th>\n",
       "      <th>지정고시일</th>\n",
       "      <th>관리기관명</th>\n",
       "      <th>전화번호</th>\n",
       "      <th>데이터기준일자</th>\n",
       "      <th>제공기관코드</th>\n",
       "      <th>제공기관명</th>\n",
       "      <th>Unnamed: 19</th>\n",
       "    </tr>\n",
       "  </thead>\n",
       "  <tbody>\n",
       "    <tr>\n",
       "      <th>0</th>\n",
       "      <td>26440-00001</td>\n",
       "      <td>구랑공원</td>\n",
       "      <td>문화공원</td>\n",
       "      <td>NaN</td>\n",
       "      <td>부산광역시 강서구 구랑동 1199-7</td>\n",
       "      <td>35.157215</td>\n",
       "      <td>128.854935</td>\n",
       "      <td>9137.0</td>\n",
       "      <td>4</td>\n",
       "      <td>NaN</td>\n",
       "      <td>화장실</td>\n",
       "      <td>NaN</td>\n",
       "      <td>팔각정자, 파고라2, 평의자6, 앉음벽14.38m, 축구장(골대2), 컨테이너, 안...</td>\n",
       "      <td>2011-09-02</td>\n",
       "      <td>부산광역시 강서구청 녹지공원과</td>\n",
       "      <td>051-970-4536</td>\n",
       "      <td>2019-05-02</td>\n",
       "      <td>3360000</td>\n",
       "      <td>부산광역시 강서구</td>\n",
       "      <td>NaN</td>\n",
       "    </tr>\n",
       "    <tr>\n",
       "      <th>1</th>\n",
       "      <td>26440-00002</td>\n",
       "      <td>압곡공원</td>\n",
       "      <td>근린공원</td>\n",
       "      <td>NaN</td>\n",
       "      <td>부산광역시 강서구 구랑동 1219</td>\n",
       "      <td>35.154655</td>\n",
       "      <td>128.854727</td>\n",
       "      <td>33756.0</td>\n",
       "      <td>4</td>\n",
       "      <td>NaN</td>\n",
       "      <td>NaN</td>\n",
       "      <td>NaN</td>\n",
       "      <td>배드민턴장, 족구장, 파고라4, 안내판, 볼라드7, 데크435.11㎡, 데크계단19...</td>\n",
       "      <td>2008-02-28</td>\n",
       "      <td>부산광역시 강서구청 녹지공원과</td>\n",
       "      <td>051-970-4536</td>\n",
       "      <td>2019-05-02</td>\n",
       "      <td>3360000</td>\n",
       "      <td>부산광역시 강서구</td>\n",
       "      <td>NaN</td>\n",
       "    </tr>\n",
       "    <tr>\n",
       "      <th>2</th>\n",
       "      <td>26440-00003</td>\n",
       "      <td>서연정공원</td>\n",
       "      <td>소공원</td>\n",
       "      <td>NaN</td>\n",
       "      <td>부산광역시 강서구 대저1동 1330-7</td>\n",
       "      <td>35.216183</td>\n",
       "      <td>128.969558</td>\n",
       "      <td>646.0</td>\n",
       "      <td>7</td>\n",
       "      <td>NaN</td>\n",
       "      <td>NaN</td>\n",
       "      <td>NaN</td>\n",
       "      <td>앉음벽13.57m, 트렐리스3, 안내판2, 플랜트2, 파고라, 평의자4</td>\n",
       "      <td>2013-01-23</td>\n",
       "      <td>부산광역시 강서구청 녹지공원과</td>\n",
       "      <td>051-970-4536</td>\n",
       "      <td>2019-05-02</td>\n",
       "      <td>3360000</td>\n",
       "      <td>부산광역시 강서구</td>\n",
       "      <td>NaN</td>\n",
       "    </tr>\n",
       "    <tr>\n",
       "      <th>3</th>\n",
       "      <td>26440-00004</td>\n",
       "      <td>용두공원</td>\n",
       "      <td>어린이공원</td>\n",
       "      <td>NaN</td>\n",
       "      <td>부산광역시 강서구 대저2동 1870-67</td>\n",
       "      <td>35.183679</td>\n",
       "      <td>128.956007</td>\n",
       "      <td>1620.0</td>\n",
       "      <td>NaN</td>\n",
       "      <td>조합놀이기구, 그네</td>\n",
       "      <td>NaN</td>\n",
       "      <td>NaN</td>\n",
       "      <td>정자, 농구장, 평의자6</td>\n",
       "      <td>1998-07-25</td>\n",
       "      <td>부산광역시 강서구청 녹지공원과</td>\n",
       "      <td>051-970-4536</td>\n",
       "      <td>2019-05-02</td>\n",
       "      <td>3360000</td>\n",
       "      <td>부산광역시 강서구</td>\n",
       "      <td>NaN</td>\n",
       "    </tr>\n",
       "    <tr>\n",
       "      <th>4</th>\n",
       "      <td>26440-00005</td>\n",
       "      <td>새동내공원</td>\n",
       "      <td>어린이공원</td>\n",
       "      <td>NaN</td>\n",
       "      <td>부산광역시 강서구 대저2동 2407-1</td>\n",
       "      <td>35.174568</td>\n",
       "      <td>128.950612</td>\n",
       "      <td>1009.0</td>\n",
       "      <td>8</td>\n",
       "      <td>조합놀이기구, 그네, 흔들놀이기구2</td>\n",
       "      <td>NaN</td>\n",
       "      <td>NaN</td>\n",
       "      <td>정자, 평의자14, 트렐리스2, 안내판, 볼라드</td>\n",
       "      <td>1995-04-07</td>\n",
       "      <td>부산광역시 강서구청 녹지공원과</td>\n",
       "      <td>051-970-4536</td>\n",
       "      <td>2019-05-02</td>\n",
       "      <td>3360000</td>\n",
       "      <td>부산광역시 강서구</td>\n",
       "      <td>NaN</td>\n",
       "    </tr>\n",
       "  </tbody>\n",
       "</table>\n",
       "</div>"
      ],
      "text/plain": [
       "          관리번호    공원명   공원구분 소재지도로명주소                 소재지지번주소         위도  \\\n",
       "0  26440-00001   구랑공원   문화공원      NaN    부산광역시 강서구 구랑동 1199-7  35.157215   \n",
       "1  26440-00002   압곡공원   근린공원      NaN      부산광역시 강서구 구랑동 1219  35.154655   \n",
       "2  26440-00003  서연정공원    소공원      NaN   부산광역시 강서구 대저1동 1330-7  35.216183   \n",
       "3  26440-00004   용두공원  어린이공원      NaN  부산광역시 강서구 대저2동 1870-67  35.183679   \n",
       "4  26440-00005  새동내공원  어린이공원      NaN   부산광역시 강서구 대저2동 2407-1  35.174568   \n",
       "\n",
       "           경도     공원면적 공원보유시설(운동시설)         공원보유시설(유희시설) 공원보유시설(편익시설)  \\\n",
       "0  128.854935   9137.0            4                  NaN          화장실   \n",
       "1  128.854727  33756.0            4                  NaN          NaN   \n",
       "2  128.969558    646.0            7                  NaN          NaN   \n",
       "3  128.956007   1620.0          NaN           조합놀이기구, 그네          NaN   \n",
       "4  128.950612   1009.0            8  조합놀이기구, 그네, 흔들놀이기구2          NaN   \n",
       "\n",
       "  공원보유시설(교양시설)                                       공원보유시설(기타시설)       지정고시일  \\\n",
       "0          NaN  팔각정자, 파고라2, 평의자6, 앉음벽14.38m, 축구장(골대2), 컨테이너, 안...  2011-09-02   \n",
       "1          NaN  배드민턴장, 족구장, 파고라4, 안내판, 볼라드7, 데크435.11㎡, 데크계단19...  2008-02-28   \n",
       "2          NaN            앉음벽13.57m, 트렐리스3, 안내판2, 플랜트2, 파고라, 평의자4  2013-01-23   \n",
       "3          NaN                                      정자, 농구장, 평의자6  1998-07-25   \n",
       "4          NaN                         정자, 평의자14, 트렐리스2, 안내판, 볼라드  1995-04-07   \n",
       "\n",
       "              관리기관명          전화번호     데이터기준일자   제공기관코드      제공기관명  Unnamed: 19  \n",
       "0  부산광역시 강서구청 녹지공원과  051-970-4536  2019-05-02  3360000  부산광역시 강서구          NaN  \n",
       "1  부산광역시 강서구청 녹지공원과  051-970-4536  2019-05-02  3360000  부산광역시 강서구          NaN  \n",
       "2  부산광역시 강서구청 녹지공원과  051-970-4536  2019-05-02  3360000  부산광역시 강서구          NaN  \n",
       "3  부산광역시 강서구청 녹지공원과  051-970-4536  2019-05-02  3360000  부산광역시 강서구          NaN  \n",
       "4  부산광역시 강서구청 녹지공원과  051-970-4536  2019-05-02  3360000  부산광역시 강서구          NaN  "
      ]
     },
     "execution_count": 6,
     "metadata": {},
     "output_type": "execute_result"
    }
   ],
   "source": [
    "# 미리보기를 합니다.\n",
    "\n",
    "df.head()"
   ]
  },
  {
   "cell_type": "markdown",
   "metadata": {},
   "source": [
    "## Pandas Profiling\n",
    "* [pandas-profiling/pandas-profiling: Create HTML profiling reports from pandas DataFrame objects](https://github.com/pandas-profiling/pandas-profiling)\n",
    "\n",
    "* 별도의 설치가 필요합니다.(folium 을 설치했던 것 처럼 따로 설치해야지만 사용할 수 있습니다.)\n",
    "* conda : `conda install -c conda-forge pandas-profiling`\n",
    "* pip : `pip install pandas-profiling`"
   ]
  },
  {
   "cell_type": "code",
   "execution_count": 8,
   "metadata": {},
   "outputs": [
    {
     "data": {
      "text/plain": [
       "'2.4.0'"
      ]
     },
     "execution_count": 8,
     "metadata": {},
     "output_type": "execute_result"
    }
   ],
   "source": [
    "# 버전에 따라 기능의 차이가 있습니다. \n",
    "# 이 강좌에서 사용하는 버전은 다음과 같습니다.\n",
    "\n",
    "import pandas_profiling\n",
    "\n",
    "pandas_profiling.__version__"
   ]
  },
  {
   "cell_type": "markdown",
   "metadata": {},
   "source": [
    "* 미리 생성해 놓은 리포트 보기 : https://corazzon.github.io/open-data-analysis-basic/05-park_pandas_profile.html"
   ]
  },
  {
   "cell_type": "code",
   "execution_count": 10,
   "metadata": {},
   "outputs": [
    {
     "name": "stdout",
     "output_type": "stream",
     "text": [
      "CPU times: user 1min 1s, sys: 6.41 s, total: 1min 8s\n",
      "Wall time: 51.5 s\n"
     ]
    }
   ],
   "source": [
    "# pandas_profiling 의 ProfileReport 를 불러와 표현합니다.\n",
    "# 이 때 title은 \"도시공원 표준 데이터\" 로 하고 주피터 노트북에서 바로 보면 iframe을 통해 화면이 작게 보이기 때문에\n",
    "# 별도의 html 파일로 생성해서 그려보세요.\n",
    "\n",
    "from pandas_profiling import ProfileReport\n",
    "\n",
    "%time profile = ProfileReport(df, title='도시공원 표준 데이터')\n",
    "\n",
    "profile.to_file(output_file='05-park_pandas_profile.html')"
   ]
  },
  {
   "cell_type": "code",
   "execution_count": null,
   "metadata": {
    "collapsed": true
   },
   "outputs": [],
   "source": []
  }
 ],
 "metadata": {
  "kernelspec": {
   "display_name": "Python 3",
   "language": "python",
   "name": "python3"
  },
  "language_info": {
   "codemirror_mode": {
    "name": "ipython",
    "version": 3
   },
   "file_extension": ".py",
   "mimetype": "text/x-python",
   "name": "python",
   "nbconvert_exporter": "python",
   "pygments_lexer": "ipython3",
   "version": "3.5.2"
  }
 },
 "nbformat": 4,
 "nbformat_minor": 2
}
