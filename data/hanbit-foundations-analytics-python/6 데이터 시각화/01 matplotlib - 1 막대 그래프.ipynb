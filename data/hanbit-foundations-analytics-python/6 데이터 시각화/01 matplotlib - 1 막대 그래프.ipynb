{
 "cells": [
  {
   "cell_type": "code",
   "execution_count": null,
   "metadata": {},
   "outputs": [],
   "source": [
    "import matplotlib.pyplot as plt\n",
    "\n",
    "plt.style.use('ggplot')"
   ]
  },
  {
   "cell_type": "code",
   "execution_count": null,
   "metadata": {},
   "outputs": [],
   "source": [
    "customers = ['ABC', 'DEF', 'GHI', 'JKL', 'MNO']\n",
    "customers_index = range(len(customers))\n",
    "\n",
    "sale_amounts = [127, 90, 201, 111, 232]"
   ]
  },
  {
   "cell_type": "code",
   "execution_count": null,
   "metadata": {},
   "outputs": [],
   "source": [
    "fig = plt.figure()\n",
    "\n",
    "ax1 = fig.add_subplot(1, 1, 1)\n",
    "ax1.bar(customers_index, sale_amounts, align='center', color='darkblue')\n",
    "ax1.xaxis.set_ticks_position('bottom')\n",
    "ax1.yaxis.set_ticks_position('left')\n",
    "\n",
    "plt.xticks(customers_index, customers, rotation=0, fontsize='small')\n",
    "plt.xlabel('Customer Name')\n",
    "plt.ylabel('Sale Amount')\n",
    "plt.title('Sale Amount per Customer')\n",
    "plt.savefig('./output_files/01-1 bar_plot.png', dpi=400, bbox_inches='tight')\n",
    "plt.show()"
   ]
  },
  {
   "cell_type": "code",
   "execution_count": null,
   "metadata": {},
   "outputs": [],
   "source": []
  }
 ],
 "metadata": {
  "kernelspec": {
   "display_name": "Python 3",
   "language": "python",
   "name": "python3"
  },
  "language_info": {
   "codemirror_mode": {
    "name": "ipython",
    "version": 3
   },
   "file_extension": ".py",
   "mimetype": "text/x-python",
   "name": "python",
   "nbconvert_exporter": "python",
   "pygments_lexer": "ipython3",
   "version": "3.7.3"
  }
 },
 "nbformat": 4,
 "nbformat_minor": 2
}
