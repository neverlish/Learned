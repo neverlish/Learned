{
 "cells": [
  {
   "cell_type": "code",
   "execution_count": 1,
   "metadata": {},
   "outputs": [],
   "source": [
    "import csv\n",
    "import glob\n",
    "import os"
   ]
  },
  {
   "cell_type": "code",
   "execution_count": 2,
   "metadata": {},
   "outputs": [],
   "source": [
    "input_path = './data/'\n",
    "output_file = './output_files/10-1 output.csv'"
   ]
  },
  {
   "cell_type": "code",
   "execution_count": 5,
   "metadata": {},
   "outputs": [
    {
     "name": "stdout",
     "output_type": "stream",
     "text": [
      "sales_january_2014.csv\n",
      "sales_march_2014.csv\n",
      "sales_february_2014.csv\n"
     ]
    }
   ],
   "source": [
    "first_file = True\n",
    "\n",
    "for input_file in glob.glob(os.path.join(input_path, 'sales_*')):\n",
    "    print(os.path.basename(input_file))\n",
    "    with open(input_file, 'r', newline='') as csv_in_file:\n",
    "        with open(output_file, 'a', newline='') as csv_out_file:\n",
    "            filereader = csv.reader(csv_in_file)\n",
    "            filewriter = csv.writer(csv_out_file)\n",
    "            if first_file:\n",
    "                for row in filereader:\n",
    "                    filewriter.writerow(row)\n",
    "                first_file = False\n",
    "            else:\n",
    "                header = next(filereader)\n",
    "                for row in filereader:\n",
    "                    filewriter.writerow(row)"
   ]
  },
  {
   "cell_type": "code",
   "execution_count": null,
   "metadata": {},
   "outputs": [],
   "source": []
  }
 ],
 "metadata": {
  "kernelspec": {
   "display_name": "Python 3",
   "language": "python",
   "name": "python3"
  },
  "language_info": {
   "codemirror_mode": {
    "name": "ipython",
    "version": 3
   },
   "file_extension": ".py",
   "mimetype": "text/x-python",
   "name": "python",
   "nbconvert_exporter": "python",
   "pygments_lexer": "ipython3",
   "version": "3.7.3"
  }
 },
 "nbformat": 4,
 "nbformat_minor": 2
}
