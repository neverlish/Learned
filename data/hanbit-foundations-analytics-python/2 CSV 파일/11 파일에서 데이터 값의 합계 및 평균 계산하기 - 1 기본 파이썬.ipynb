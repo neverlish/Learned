{
 "cells": [
  {
   "cell_type": "code",
   "execution_count": 1,
   "metadata": {},
   "outputs": [],
   "source": [
    "import csv\n",
    "import glob\n",
    "import os"
   ]
  },
  {
   "cell_type": "code",
   "execution_count": 2,
   "metadata": {},
   "outputs": [],
   "source": [
    "input_path = './data/'\n",
    "output_file = './output_files/11-1 output.csv'"
   ]
  },
  {
   "cell_type": "code",
   "execution_count": 3,
   "metadata": {},
   "outputs": [],
   "source": [
    "output_header_list = ['filename', 'total_sales', 'average_sales']"
   ]
  },
  {
   "cell_type": "code",
   "execution_count": 4,
   "metadata": {},
   "outputs": [],
   "source": [
    "csv_out_file = open(output_file, 'a', newline='')"
   ]
  },
  {
   "cell_type": "code",
   "execution_count": 5,
   "metadata": {},
   "outputs": [
    {
     "data": {
      "text/plain": [
       "36"
      ]
     },
     "execution_count": 5,
     "metadata": {},
     "output_type": "execute_result"
    }
   ],
   "source": [
    "filewriter = csv.writer(csv_out_file)\n",
    "filewriter.writerow(output_header_list)"
   ]
  },
  {
   "cell_type": "code",
   "execution_count": 6,
   "metadata": {},
   "outputs": [],
   "source": [
    "for input_file in glob.glob(os.path.join(input_path, 'sales_*')):\n",
    "    with open(input_file, 'r', newline='') as csv_in_file:\n",
    "        filereader = csv.reader(csv_in_file)\n",
    "        output_list = []\n",
    "        output_list.append(os.path.basename(input_file))\n",
    "        header = next(filereader)\n",
    "        total_sales = 0.0\n",
    "        number_of_sales = 0.0\n",
    "        for row in filereader:\n",
    "            sale_amount = row[3]\n",
    "            total_sales += float(str(sale_amount).strip('$').replace(',', ''))\n",
    "            number_of_sales += 1.0\n",
    "        average_sales = '{0:.2f}'.format(total_sales / number_of_sales)\n",
    "        output_list.append(total_sales)\n",
    "        output_list.append(average_sales)\n",
    "        filewriter.writerow(output_list)\n",
    "csv_out_file.close()"
   ]
  },
  {
   "cell_type": "code",
   "execution_count": null,
   "metadata": {},
   "outputs": [],
   "source": []
  },
  {
   "cell_type": "code",
   "execution_count": null,
   "metadata": {},
   "outputs": [],
   "source": []
  }
 ],
 "metadata": {
  "kernelspec": {
   "display_name": "Python 3",
   "language": "python",
   "name": "python3"
  },
  "language_info": {
   "codemirror_mode": {
    "name": "ipython",
    "version": 3
   },
   "file_extension": ".py",
   "mimetype": "text/x-python",
   "name": "python",
   "nbconvert_exporter": "python",
   "pygments_lexer": "ipython3",
   "version": "3.7.3"
  }
 },
 "nbformat": 4,
 "nbformat_minor": 2
}
