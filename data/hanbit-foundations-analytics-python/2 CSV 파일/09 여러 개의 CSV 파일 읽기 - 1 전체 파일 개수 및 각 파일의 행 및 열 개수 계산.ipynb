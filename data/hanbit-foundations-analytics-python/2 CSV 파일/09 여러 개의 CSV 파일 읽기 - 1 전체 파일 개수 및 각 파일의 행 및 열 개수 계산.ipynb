{
 "cells": [
  {
   "cell_type": "code",
   "execution_count": 1,
   "metadata": {},
   "outputs": [],
   "source": [
    "import csv\n",
    "import glob\n",
    "import os"
   ]
  },
  {
   "cell_type": "code",
   "execution_count": 2,
   "metadata": {},
   "outputs": [
    {
     "name": "stdout",
     "output_type": "stream",
     "text": [
      "sales_january_2014.csv: \t7 rows \t5 columns\n",
      "sales_march_2014.csv: \t7 rows \t5 columns\n",
      "sales_february_2014.csv: \t7 rows \t5 columns\n",
      "Number of files: 3\n"
     ]
    }
   ],
   "source": [
    "input_path = './data/'\n",
    "\n",
    "file_counter = 0\n",
    "\n",
    "for input_file in glob.glob(os.path.join(input_path, 'sales_*')):\n",
    "    row_counter = 1\n",
    "    with open(input_file, 'r', newline='') as csv_in_file:\n",
    "        filereader = csv.reader(csv_in_file)\n",
    "        header = next(filereader)\n",
    "        for row in filereader:\n",
    "            row_counter += 1\n",
    "    print('{0!s}: \\t{1:d} rows \\t{2:d} columns'.format(os.path.basename(input_file), row_counter, len(header)))\n",
    "    file_counter += 1\n",
    "print('Number of files: {0:d}'.format(file_counter))"
   ]
  },
  {
   "cell_type": "code",
   "execution_count": null,
   "metadata": {},
   "outputs": [],
   "source": []
  }
 ],
 "metadata": {
  "kernelspec": {
   "display_name": "Python 3",
   "language": "python",
   "name": "python3"
  },
  "language_info": {
   "codemirror_mode": {
    "name": "ipython",
    "version": 3
   },
   "file_extension": ".py",
   "mimetype": "text/x-python",
   "name": "python",
   "nbconvert_exporter": "python",
   "pygments_lexer": "ipython3",
   "version": "3.7.3"
  }
 },
 "nbformat": 4,
 "nbformat_minor": 2
}
