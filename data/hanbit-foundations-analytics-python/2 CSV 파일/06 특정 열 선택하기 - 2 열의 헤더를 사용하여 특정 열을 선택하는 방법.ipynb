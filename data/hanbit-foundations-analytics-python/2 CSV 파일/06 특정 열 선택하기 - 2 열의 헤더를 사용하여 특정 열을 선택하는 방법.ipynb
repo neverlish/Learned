{
 "cells": [
  {
   "cell_type": "markdown",
   "metadata": {},
   "source": [
    "## 기본 파이썬"
   ]
  },
  {
   "cell_type": "code",
   "execution_count": 1,
   "metadata": {},
   "outputs": [],
   "source": [
    "import csv\n",
    "\n",
    "input_file = './data/supplier_data.csv'\n",
    "output_file = './output_files/06-2 output.csv'"
   ]
  },
  {
   "cell_type": "code",
   "execution_count": 5,
   "metadata": {},
   "outputs": [],
   "source": [
    "my_columns = ['Invoice Number', 'Purchase Date']\n",
    "my_columns_index = []"
   ]
  },
  {
   "cell_type": "code",
   "execution_count": 6,
   "metadata": {},
   "outputs": [],
   "source": [
    "with open(input_file, 'r', newline='') as csv_in_file:\n",
    "    with open(output_file, 'w', newline='') as csv_out_file:\n",
    "        filereader = csv.reader(csv_in_file)\n",
    "        filewriter = csv.writer(csv_out_file)\n",
    "        header = next(filereader)\n",
    "        for index_value in range(len(header)):\n",
    "            if header[index_value] in my_columns:\n",
    "                my_columns_index.append(index_value)\n",
    "        filewriter.writerow(my_columns)\n",
    "        for row_list in filereader:\n",
    "            row_list_output = []\n",
    "            for index_value in my_columns_index:\n",
    "                row_list_output.append(row_list[index_value])\n",
    "            filewriter.writerow(row_list_output)"
   ]
  },
  {
   "cell_type": "markdown",
   "metadata": {},
   "source": [
    "## 팬더스"
   ]
  },
  {
   "cell_type": "code",
   "execution_count": 7,
   "metadata": {},
   "outputs": [],
   "source": [
    "import pandas as pd\n",
    "\n",
    "output_file = './output_files/06-2 pandas_output.csv'"
   ]
  },
  {
   "cell_type": "code",
   "execution_count": 8,
   "metadata": {},
   "outputs": [],
   "source": [
    "data_frame = pd.read_csv(input_file)\n",
    "data_frame_column_by_name = data_frame.loc[:, ['Invoice Number', 'Purchase Date']]\n",
    "data_frame_column_by_name.to_csv(output_file, index=False)"
   ]
  },
  {
   "cell_type": "code",
   "execution_count": null,
   "metadata": {},
   "outputs": [],
   "source": []
  }
 ],
 "metadata": {
  "kernelspec": {
   "display_name": "Python 3",
   "language": "python",
   "name": "python3"
  },
  "language_info": {
   "codemirror_mode": {
    "name": "ipython",
    "version": 3
   },
   "file_extension": ".py",
   "mimetype": "text/x-python",
   "name": "python",
   "nbconvert_exporter": "python",
   "pygments_lexer": "ipython3",
   "version": "3.7.3"
  }
 },
 "nbformat": 4,
 "nbformat_minor": 2
}
