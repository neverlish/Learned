{
 "cells": [
  {
   "cell_type": "markdown",
   "metadata": {},
   "source": [
    "1. 조건, 집합, 또는 정규 표현식에 따라 행을 필터링하는 스크립트 중 하나를 수정하여 예제에서 필터링한 것과 다른 행을 출력하고, 출력 파일을 작성해보라."
   ]
  },
  {
   "cell_type": "markdown",
   "metadata": {},
   "source": [
    "2. 인덱스 값 또는 열 헤더를 기반으로 열을 필터링하는 스크립트 중 하나를 수정하여 예제에서 필터링한 것과 다른 열을 출력하고, 출력 파일을 작성해보라."
   ]
  },
  {
   "cell_type": "markdown",
   "metadata": {},
   "source": [
    "3. 우선 폴더에 새로운 CSV 입력 파일들을 만들고, 별도의 출력 폴더를 만든다. 여러 개의 파일을 처리하는 스크립트 중 하나를 사용하여 새로운 입력 파일들을 처리하고 그 결과를 출력 파일로 만들어 해당 출력 폴더에 저장해보라."
   ]
  }
 ],
 "metadata": {
  "kernelspec": {
   "display_name": "Python 3",
   "language": "python",
   "name": "python3"
  },
  "language_info": {
   "codemirror_mode": {
    "name": "ipython",
    "version": 3
   },
   "file_extension": ".py",
   "mimetype": "text/x-python",
   "name": "python",
   "nbconvert_exporter": "python",
   "pygments_lexer": "ipython3",
   "version": "3.7.3"
  }
 },
 "nbformat": 4,
 "nbformat_minor": 2
}
