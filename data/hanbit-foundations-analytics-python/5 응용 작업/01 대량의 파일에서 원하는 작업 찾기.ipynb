{
 "cells": [
  {
   "cell_type": "code",
   "execution_count": 1,
   "metadata": {},
   "outputs": [],
   "source": [
    "import csv\n",
    "import glob\n",
    "import os\n",
    "from datetime import date\n",
    "from xlrd import open_workbook, xldate_as_tuple"
   ]
  },
  {
   "cell_type": "code",
   "execution_count": 2,
   "metadata": {},
   "outputs": [],
   "source": [
    "item_numbers_file = './data/item_numbers_to_find.csv'\n",
    "path_to_folder = 'historical_files/'\n",
    "output_file = './output_files/01 output.csv'"
   ]
  },
  {
   "cell_type": "code",
   "execution_count": 3,
   "metadata": {},
   "outputs": [],
   "source": [
    "item_numbers_to_find = []\n",
    "\n",
    "with open(item_numbers_file, 'r', newline='') as item_numbers_csv_file:\n",
    "    filereader = csv.reader(item_numbers_csv_file)\n",
    "    for row in filereader:\n",
    "        item_numbers_to_find.append(row[0])"
   ]
  },
  {
   "cell_type": "code",
   "execution_count": 4,
   "metadata": {},
   "outputs": [
    {
     "name": "stdout",
     "output_type": "stream",
     "text": [
      "Number of files: 3\n",
      "Number of lines: 50\n",
      "Number of item numbers: 25\n"
     ]
    }
   ],
   "source": [
    "filewriter = csv.writer(open(output_file, 'a', newline=''))\n",
    "\n",
    "file_counter = 0\n",
    "line_counter = 0\n",
    "count_of_item_numbers = 0\n",
    "for input_file in glob.glob(os.path.join(path_to_folder, '*.*')):\n",
    "    file_counter += 1\n",
    "    if input_file.split('.')[1] == 'csv':\n",
    "        with open(input_file, 'r', newline='') as csv_in_file:\n",
    "            filereader = csv.reader(csv_in_file)\n",
    "            header = next(filereader)\n",
    "            for row in filereader:\n",
    "                row_of_output = []\n",
    "                for column in range(len(header)):\n",
    "                    if column < 3:\n",
    "                        cell_value = str(row[column]).strip()\n",
    "                        row_of_output.append(cell_value)\n",
    "                    elif column == 3:\n",
    "                        cell_value = str(row[column]).lstrip('$').replace(',', '').split('.')[0].strip()\n",
    "                        row_of_output.append(cell_value)\n",
    "                    else:\n",
    "                        cell_value = str(row[column]).strip()\n",
    "                        row_of_output.append(cell_value)\n",
    "                row_of_output.append(os.path.basename(input_file))\n",
    "                if row[0] in item_numbers_to_find:\n",
    "                    filewriter.writerow(row_of_output)\n",
    "                    count_of_item_numbers += 1\n",
    "                line_counter += 1\n",
    "    elif input_file.split('.')[1] == 'xls' or input_file.split('.')[1] == 'xlsx':\n",
    "        workbook = open_workbook(input_file)\n",
    "        for worksheet in workbook.sheets():\n",
    "            try:\n",
    "                header = worksheet.row_values(0)\n",
    "            except IndexError:\n",
    "                pass\n",
    "            for row in range(1, worksheet.nrows):\n",
    "                row_of_output = []\n",
    "                for column in range(len(header)):\n",
    "                    if column < 3:\n",
    "                        cell_value = str(worksheet.cell_value(row, column)).strip()\n",
    "                        row_of_output.append(cell_value)\n",
    "                    elif column == 3:\n",
    "                        cell_value = str(worksheet.cell_value(row, column)).split('.')[0].strip()\n",
    "                        row_of_output.append(cell_value)\n",
    "                    else:\n",
    "                        cell_value = xldate_as_tuple(worksheet.cell(row, column).value, workbook.datemode)\n",
    "                        cell_value = str(date(*cell_value[0:3])).strip()\n",
    "                        row_of_output.append(cell_value)\n",
    "                row_of_output.append(os.path.basename(input_file))\n",
    "                row_of_output.append(worksheet.name)\n",
    "                if str(worksheet.cell(row, 0).value).split('.')[0].strip() in item_numbers_to_find:\n",
    "                    filewriter.writerow(row_of_output)\n",
    "                    count_of_item_numbers += 1\n",
    "                line_counter += 1\n",
    "print('Number of files: {}'.format(file_counter))\n",
    "print('Number of lines: {}'.format(line_counter))\n",
    "print('Number of item numbers: {}'.format(count_of_item_numbers))"
   ]
  },
  {
   "cell_type": "code",
   "execution_count": null,
   "metadata": {},
   "outputs": [],
   "source": []
  }
 ],
 "metadata": {
  "kernelspec": {
   "display_name": "Python 3",
   "language": "python",
   "name": "python3"
  },
  "language_info": {
   "codemirror_mode": {
    "name": "ipython",
    "version": 3
   },
   "file_extension": ".py",
   "mimetype": "text/x-python",
   "name": "python",
   "nbconvert_exporter": "python",
   "pygments_lexer": "ipython3",
   "version": "3.7.3"
  }
 },
 "nbformat": 4,
 "nbformat_minor": 2
}
