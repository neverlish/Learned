{
 "cells": [
  {
   "cell_type": "markdown",
   "metadata": {},
   "source": [
    "1. 첫 번째 애플리케이션은 입력 파일을 특정 폴더에서 검색한다. 그러나 때로는 입력 파일들이 여러 중첩된 폴더에 저장된다. 첫 번째 애플리케이션의 코드를 수정하여 중첩된 폴더들을 탐색하고 이 모든 폴더에 포함된 데이터를 처리해보자. 힌트를 주자면, python os walk를 인터넷에 검색해보자."
   ]
  },
  {
   "cell_type": "markdown",
   "metadata": {},
   "source": [
    "2. 두 번째 애플리케이션을 수정하여 Bronze, Silver, Gold 패키지를 이용한 고객들로부터 얻은 수익 금액을 계산해보자. Bronze 패키지의 수익금은 20달러/월, Silver 패키지의 수익은 40달러/월, Gold 패키지의 수익금은 50달러/월이다."
   ]
  },
  {
   "cell_type": "markdown",
   "metadata": {},
   "source": [
    "3. 딕셔너리를 사용하여 데이터를 고유 카테고리로 분류하거나 그룹화하자. 예를 들어 데이터를 엑셀 워크시트나 CSV 파일의 데이터를 딕셔너리로 파싱하여 입력 파일의 각 열이 딕셔너리의 키-값 쌍이 되도록 하자. 다시 말해 각 열의 헤더는 딕셔너리의 키가 되고 이에 해당하는 값 리스트는 해당 열에 대한 데이터이다"
   ]
  }
 ],
 "metadata": {
  "kernelspec": {
   "display_name": "Python 3",
   "language": "python",
   "name": "python3"
  },
  "language_info": {
   "codemirror_mode": {
    "name": "ipython",
    "version": 3
   },
   "file_extension": ".py",
   "mimetype": "text/x-python",
   "name": "python",
   "nbconvert_exporter": "python",
   "pygments_lexer": "ipython3",
   "version": "3.7.3"
  }
 },
 "nbformat": 4,
 "nbformat_minor": 2
}
