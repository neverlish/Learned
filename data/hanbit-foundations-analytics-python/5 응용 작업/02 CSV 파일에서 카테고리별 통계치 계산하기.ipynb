{
 "cells": [
  {
   "cell_type": "code",
   "execution_count": 1,
   "metadata": {},
   "outputs": [],
   "source": [
    "import csv\n",
    "import os\n",
    "from datetime import date, datetime"
   ]
  },
  {
   "cell_type": "code",
   "execution_count": 2,
   "metadata": {},
   "outputs": [],
   "source": [
    "def date_diff(date1, date2):\n",
    "    try:\n",
    "        diff = str(datetime.strptime(date1, '%m/%d/%Y') - datetime.strptime(date2, '%m/%d/%Y')).split()[0]\n",
    "    except:\n",
    "        diff = 0\n",
    "    if diff == '0:00:00':\n",
    "        diff = 0\n",
    "    return diff"
   ]
  },
  {
   "cell_type": "code",
   "execution_count": 3,
   "metadata": {},
   "outputs": [],
   "source": [
    "input_file = './data/customer_category_history.csv'\n",
    "output_file = './output_files/02 output.csv'"
   ]
  },
  {
   "cell_type": "code",
   "execution_count": 4,
   "metadata": {},
   "outputs": [],
   "source": [
    "packages = {}\n",
    "previous_name = 'N/A'\n",
    "previous_package = 'N/A'\n",
    "previous_package_date = 'N/A'\n",
    "first_row = True\n",
    "today = date.today().strftime('%m/%d/%Y')"
   ]
  },
  {
   "cell_type": "code",
   "execution_count": 5,
   "metadata": {},
   "outputs": [],
   "source": [
    "with open(input_file, 'r', newline='') as input_csv_file:\n",
    "    filereader = csv.reader(input_csv_file)\n",
    "    header = next(filereader)\n",
    "    for row in filereader:\n",
    "        current_name = row[0]\n",
    "        current_package = row[1]\n",
    "        current_package_date = row[3]\n",
    "        \n",
    "        if current_name not in packages:\n",
    "            packages[current_name] = {}\n",
    "        if current_package not in packages[current_name]:\n",
    "            packages[current_name][current_package] = 0\n",
    "        if current_name != previous_name:\n",
    "            if first_row:\n",
    "                first_row = False\n",
    "            else:\n",
    "                diff = date_diff(today, previous_package_date)\n",
    "                if previous_package not in packages[previous_name]:\n",
    "                    packages[previous_name][previous_package] = int(diff)\n",
    "                else:\n",
    "                    packages[previous_name][previous_package] += int(diff)\n",
    "        else:\n",
    "            diff = date_diff(current_package_date, previous_package_date)\n",
    "            packages[previous_name][previous_package] += int(diff)\n",
    "        previous_name = current_name\n",
    "        previous_package = current_package\n",
    "        previous_package_date = current_package_date"
   ]
  },
  {
   "cell_type": "code",
   "execution_count": 6,
   "metadata": {},
   "outputs": [
    {
     "name": "stdout",
     "output_type": "stream",
     "text": [
      "John Smith Bronze 70\n",
      "John Smith Silver 39\n",
      "John Smith Gold 1934\n",
      "Mary Yu Silver 72\n",
      "Mary Yu Gold 1959\n",
      "Wayne Thompson Bronze 167\n",
      "Wayne Thompson Silver 1885\n",
      "Bruce Johnson Bronze 77\n",
      "Bruce Johnson Silver 60\n",
      "Bruce Johnson Gold 1888\n",
      "Annie Lee Bronze 26\n",
      "Annie Lee Silver 44\n",
      "Annie Lee Gold 1920\n",
      "Priya Patel Silver 99\n",
      "Priya Patel Gold 54\n"
     ]
    }
   ],
   "source": [
    "header = ['Customer Name', 'Category', 'Total Time (in Days)']\n",
    "\n",
    "with open(output_file, 'w', newline='') as output_csv_file:\n",
    "    filewriter = csv.writer(output_csv_file)\n",
    "    filewriter.writerow(header)\n",
    "    for customer_name, customer_name_value in packages.items():\n",
    "        for package_category, package_category_value in packages[customer_name].items():\n",
    "            row_of_output = []\n",
    "            print(customer_name, package_category, package_category_value)\n",
    "            row_of_output.append(customer_name)\n",
    "            row_of_output.append(package_category)\n",
    "            row_of_output.append(package_category_value)\n",
    "            filewriter.writerow(row_of_output)"
   ]
  }
 ],
 "metadata": {
  "kernelspec": {
   "display_name": "Python 3",
   "language": "python",
   "name": "python3"
  },
  "language_info": {
   "codemirror_mode": {
    "name": "ipython",
    "version": 3
   },
   "file_extension": ".py",
   "mimetype": "text/x-python",
   "name": "python",
   "nbconvert_exporter": "python",
   "pygments_lexer": "ipython3",
   "version": "3.7.3"
  }
 },
 "nbformat": 4,
 "nbformat_minor": 2
}
