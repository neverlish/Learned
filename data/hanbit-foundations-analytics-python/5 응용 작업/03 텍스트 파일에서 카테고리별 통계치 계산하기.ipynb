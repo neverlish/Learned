{
 "cells": [
  {
   "cell_type": "code",
   "execution_count": 1,
   "metadata": {},
   "outputs": [],
   "source": [
    "import sys\n",
    "\n",
    "input_file = './data/mysql_server_error_log.txt'\n",
    "output_file = './output_files/03 output.csv'"
   ]
  },
  {
   "cell_type": "code",
   "execution_count": 2,
   "metadata": {},
   "outputs": [
    {
     "name": "stdout",
     "output_type": "stream",
     "text": [
      "Date,InnoDB: Compressed tables use zlib 1.2.3,InnoDB: Using atomics to ref count buffer pool pages,InnoDB: 5.6.16 started; log sequence number 1234567,/usr/local/mysql/bin/mysqld: Shutdown complete,InnoDB: Completed initialization of buffer pool,InnoDB: IPv6 is available.\n",
      "\n",
      "2014-02-03,2,2,1,1,0,0\n",
      "\n",
      "2014-03-07,3,1,1,1,0,0\n",
      "\n",
      "2014-10-27,0,0,1,1,2,2\n",
      "\n"
     ]
    }
   ],
   "source": [
    "messages = {}\n",
    "notes = []\n",
    "\n",
    "with open(input_file, 'r', newline='') as text_file:\n",
    "    for row in text_file:\n",
    "        if '[Note]' in row:\n",
    "            row_list = row.split(' ', 4)\n",
    "            day = row_list[0].strip()\n",
    "            note = row_list[4].strip('\\n').strip()\n",
    "            if note not in notes:\n",
    "                notes.append(note)\n",
    "            if day not in messages:\n",
    "                messages[day] = {}\n",
    "            if note not in messages[day]:\n",
    "                messages[day][note] = 1\n",
    "            else:\n",
    "                messages[day][note] += 1\n",
    "                \n",
    "filewriter = open(output_file, 'w', newline='')\n",
    "header = ['Date']\n",
    "header.extend(notes)\n",
    "\n",
    "header = ','.join(map(str, header)) + '\\n'\n",
    "print(header)\n",
    "\n",
    "filewriter.write(header)\n",
    "\n",
    "for day, day_value in messages.items():\n",
    "    row_of_output = []\n",
    "    row_of_output.append(day)\n",
    "    for index in range(len(notes)):\n",
    "        if notes[index] in day_value.keys():\n",
    "            row_of_output.append(day_value[notes[index]])\n",
    "        else:\n",
    "            row_of_output.append(0)\n",
    "    output = ','.join(map(str, row_of_output)) + '\\n'\n",
    "    print(output)\n",
    "    filewriter.write(output)\n",
    "filewriter.close()"
   ]
  },
  {
   "cell_type": "code",
   "execution_count": null,
   "metadata": {},
   "outputs": [],
   "source": []
  }
 ],
 "metadata": {
  "kernelspec": {
   "display_name": "Python 3",
   "language": "python",
   "name": "python3"
  },
  "language_info": {
   "codemirror_mode": {
    "name": "ipython",
    "version": 3
   },
   "file_extension": ".py",
   "mimetype": "text/x-python",
   "name": "python",
   "nbconvert_exporter": "python",
   "pygments_lexer": "ipython3",
   "version": "3.7.3"
  }
 },
 "nbformat": 4,
 "nbformat_minor": 2
}
