{
 "cells": [
  {
   "cell_type": "markdown",
   "metadata": {},
   "source": [
    "## 1 기술통계"
   ]
  },
  {
   "cell_type": "code",
   "execution_count": 1,
   "metadata": {},
   "outputs": [
    {
     "name": "stderr",
     "output_type": "stream",
     "text": [
      "/anaconda3/lib/python3.7/importlib/_bootstrap.py:219: RuntimeWarning: numpy.ufunc size changed, may indicate binary incompatibility. Expected 192 from C header, got 216 from PyObject\n",
      "  return f(*args, **kwds)\n",
      "/anaconda3/lib/python3.7/importlib/_bootstrap.py:219: RuntimeWarning: numpy.ufunc size changed, may indicate binary incompatibility. Expected 192 from C header, got 216 from PyObject\n",
      "  return f(*args, **kwds)\n",
      "/anaconda3/lib/python3.7/importlib/_bootstrap.py:219: RuntimeWarning: numpy.ufunc size changed, may indicate binary incompatibility. Expected 192 from C header, got 216 from PyObject\n",
      "  return f(*args, **kwds)\n"
     ]
    }
   ],
   "source": [
    "import numpy as np\n",
    "import pandas as pd\n",
    "import seaborn as sns\n",
    "import matplotlib.pyplot as plt\n",
    "import statsmodels.api as sm\n",
    "import statsmodels.formula.api as smf\n",
    "from statsmodels.formula.api import ols, glm"
   ]
  },
  {
   "cell_type": "code",
   "execution_count": 2,
   "metadata": {},
   "outputs": [
    {
     "name": "stdout",
     "output_type": "stream",
     "text": [
      "  type  fixed_acidity  volatile_acidity  citric_acid  residual_sugar  chlorides  free_sulfur_dioxide  total_sulfur_dioxide  density    pH  sulphates  alcohol  quality\n",
      "0  red            7.4              0.70         0.00             1.9      0.076                 11.0                  34.0   0.9978  3.51       0.56      9.4        5\n",
      "1  red            7.8              0.88         0.00             2.6      0.098                 25.0                  67.0   0.9968  3.20       0.68      9.8        5\n",
      "2  red            7.8              0.76         0.04             2.3      0.092                 15.0                  54.0   0.9970  3.26       0.65      9.8        5\n",
      "3  red           11.2              0.28         0.56             1.9      0.075                 17.0                  60.0   0.9980  3.16       0.58      9.8        6\n",
      "4  red            7.4              0.70         0.00             1.9      0.076                 11.0                  34.0   0.9978  3.51       0.56      9.4        5\n"
     ]
    }
   ],
   "source": [
    "wine = pd.read_csv('./data/winequality-both.csv', sep=',', header=0)\n",
    "wine.columns = wine.columns.str.replace(' ', '_')\n",
    "\n",
    "print(wine.head())"
   ]
  },
  {
   "cell_type": "code",
   "execution_count": 3,
   "metadata": {},
   "outputs": [
    {
     "name": "stdout",
     "output_type": "stream",
     "text": [
      "       fixed_acidity  volatile_acidity  citric_acid  residual_sugar    chlorides  free_sulfur_dioxide  total_sulfur_dioxide      density           pH    sulphates      alcohol      quality\n",
      "count    6497.000000       6497.000000  6497.000000     6497.000000  6497.000000          6497.000000           6497.000000  6497.000000  6497.000000  6497.000000  6497.000000  6497.000000\n",
      "mean        7.215307          0.339666     0.318633        5.443235     0.056034            30.525319            115.744574     0.994697     3.218501     0.531268    10.491801     5.818378\n",
      "std         1.296434          0.164636     0.145318        4.757804     0.035034            17.749400             56.521855     0.002999     0.160787     0.148806     1.192712     0.873255\n",
      "min         3.800000          0.080000     0.000000        0.600000     0.009000             1.000000              6.000000     0.987110     2.720000     0.220000     8.000000     3.000000\n",
      "25%         6.400000          0.230000     0.250000        1.800000     0.038000            17.000000             77.000000     0.992340     3.110000     0.430000     9.500000     5.000000\n",
      "50%         7.000000          0.290000     0.310000        3.000000     0.047000            29.000000            118.000000     0.994890     3.210000     0.510000    10.300000     6.000000\n",
      "75%         7.700000          0.400000     0.390000        8.100000     0.065000            41.000000            156.000000     0.996990     3.320000     0.600000    11.300000     6.000000\n",
      "max        15.900000          1.580000     1.660000       65.800000     0.611000           289.000000            440.000000     1.038980     4.010000     2.000000    14.900000     9.000000\n"
     ]
    }
   ],
   "source": [
    "print(wine.describe())"
   ]
  },
  {
   "cell_type": "code",
   "execution_count": 4,
   "metadata": {},
   "outputs": [
    {
     "name": "stdout",
     "output_type": "stream",
     "text": [
      "[3, 4, 5, 6, 7, 8, 9]\n"
     ]
    }
   ],
   "source": [
    "print(sorted(wine.quality.unique()))"
   ]
  },
  {
   "cell_type": "code",
   "execution_count": 5,
   "metadata": {},
   "outputs": [
    {
     "name": "stdout",
     "output_type": "stream",
     "text": [
      "6    2836\n",
      "5    2138\n",
      "7    1079\n",
      "4     216\n",
      "8     193\n",
      "3      30\n",
      "9       5\n",
      "Name: quality, dtype: int64\n"
     ]
    }
   ],
   "source": [
    "print(wine.quality.value_counts())"
   ]
  },
  {
   "cell_type": "markdown",
   "metadata": {},
   "source": [
    "## 2 그룹화, 히스토그램, t 검정"
   ]
  },
  {
   "cell_type": "code",
   "execution_count": 8,
   "metadata": {},
   "outputs": [
    {
     "name": "stdout",
     "output_type": "stream",
     "text": [
      "                type \n",
      "quality  count  red      1599.000000\n",
      "                white    4898.000000\n",
      "         mean   red         5.636023\n",
      "                white       5.877909\n",
      "         std    red         0.807569\n",
      "                white       0.885639\n",
      "         min    red         3.000000\n",
      "                white       3.000000\n",
      "         25%    red         5.000000\n",
      "                white       5.000000\n",
      "         50%    red         6.000000\n",
      "                white       6.000000\n",
      "         75%    red         6.000000\n",
      "                white       6.000000\n",
      "         max    red         8.000000\n",
      "                white       9.000000\n",
      "dtype: float64\n"
     ]
    }
   ],
   "source": [
    "print(wine.groupby('type')[['quality']].describe().unstack('type'))"
   ]
  },
  {
   "cell_type": "code",
   "execution_count": 9,
   "metadata": {},
   "outputs": [
    {
     "name": "stdout",
     "output_type": "stream",
     "text": [
      "     quality      \n",
      "type     red white\n",
      "0.25     5.0   5.0\n",
      "0.75     6.0   6.0\n"
     ]
    }
   ],
   "source": [
    "print(wine.groupby('type')[['quality']].quantile([0.25, 0.75]).unstack('type'))"
   ]
  },
  {
   "cell_type": "code",
   "execution_count": 16,
   "metadata": {},
   "outputs": [
    {
     "name": "stderr",
     "output_type": "stream",
     "text": [
      "/anaconda3/lib/python3.7/site-packages/ipykernel_launcher.py:1: FutureWarning: \n",
      ".ix is deprecated. Please use\n",
      ".loc for label based indexing or\n",
      ".iloc for positional indexing\n",
      "\n",
      "See the documentation here:\n",
      "http://pandas.pydata.org/pandas-docs/stable/user_guide/indexing.html#ix-indexer-is-deprecated\n",
      "  \"\"\"Entry point for launching an IPython kernel.\n",
      "/anaconda3/lib/python3.7/site-packages/pandas/core/indexing.py:961: FutureWarning: \n",
      ".ix is deprecated. Please use\n",
      ".loc for label based indexing or\n",
      ".iloc for positional indexing\n",
      "\n",
      "See the documentation here:\n",
      "http://pandas.pydata.org/pandas-docs/stable/user_guide/indexing.html#ix-indexer-is-deprecated\n",
      "  return getattr(section, self.name)[new_key]\n",
      "/anaconda3/lib/python3.7/site-packages/ipykernel_launcher.py:2: FutureWarning: \n",
      ".ix is deprecated. Please use\n",
      ".loc for label based indexing or\n",
      ".iloc for positional indexing\n",
      "\n",
      "See the documentation here:\n",
      "http://pandas.pydata.org/pandas-docs/stable/user_guide/indexing.html#ix-indexer-is-deprecated\n",
      "  \n"
     ]
    },
    {
     "name": "stdout",
     "output_type": "stream",
     "text": [
      "AxesSubplot(0.125,0.125;0.775x0.755)\n",
      "AxesSubplot(0.125,0.125;0.775x0.755)\n"
     ]
    },
    {
     "data": {
      "image/png": "[encoded data removed]",
      "text/plain": [
       "<Figure size 432x288 with 1 Axes>"
      ]
     },
     "metadata": {},
     "output_type": "display_data"
    },
    {
     "name": "stdout",
     "output_type": "stream",
     "text": [
      "        quality          \n",
      "            std      mean\n",
      "type                     \n",
      "red    0.807569  5.636023\n",
      "white  0.885639  5.877909\n",
      "tstat: -9.686 pvalue: 0.0000\n"
     ]
    }
   ],
   "source": [
    "red_wine = wine.ix[wine['type'] == 'red', 'quality']\n",
    "white_wine = wine.ix[wine['type'] == 'white', 'quality']\n",
    "\n",
    "sns.set_style('dark')\n",
    "\n",
    "print(sns.distplot(red_wine, norm_hist=True, kde=False, color='red', label='Red wine'))\n",
    "\n",
    "print(sns.distplot(white_wine, norm_hist=True, kde=False, color='white', label='White wine'))\n",
    "\n",
    "plt.xlabel('Quality Score')\n",
    "plt.ylabel('Density')\n",
    "plt.title('Distribution of Quality by wine Type')\n",
    "plt.legend()\n",
    "plt.show()\n",
    "\n",
    "print(wine.groupby(['type'])[['quality']].agg(['std', 'mean']))\n",
    "tstat, pvalue, df = sm.stats.ttest_ind(red_wine, white_wine)\n",
    "print('tstat: %.3f pvalue: %.4f' % (tstat, pvalue))"
   ]
  },
  {
   "cell_type": "markdown",
   "metadata": {},
   "source": [
    "## 3 상관관계 분석"
   ]
  },
  {
   "cell_type": "code",
   "execution_count": 17,
   "metadata": {},
   "outputs": [
    {
     "name": "stdout",
     "output_type": "stream",
     "text": [
      "                      fixed_acidity  volatile_acidity  citric_acid  residual_sugar  chlorides  free_sulfur_dioxide  total_sulfur_dioxide   density        pH  sulphates   alcohol   quality\n",
      "fixed_acidity              1.000000          0.219008     0.324436       -0.111981   0.298195            -0.282735             -0.329054  0.458910 -0.252700   0.299568 -0.095452 -0.076743\n",
      "volatile_acidity           0.219008          1.000000    -0.377981       -0.196011   0.377124            -0.352557             -0.414476  0.271296  0.261454   0.225984 -0.037640 -0.265699\n",
      "citric_acid                0.324436         -0.377981     1.000000        0.142451   0.038998             0.133126              0.195242  0.096154 -0.329808   0.056197 -0.010493  0.085532\n",
      "residual_sugar            -0.111981         -0.196011     0.142451        1.000000  -0.128940             0.402871              0.495482  0.552517 -0.267320  -0.185927 -0.359415 -0.036980\n",
      "chlorides                  0.298195          0.377124     0.038998       -0.128940   1.000000            -0.195045             -0.279630  0.362615  0.044708   0.395593 -0.256916 -0.200666\n",
      "free_sulfur_dioxide       -0.282735         -0.352557     0.133126        0.402871  -0.195045             1.000000              0.720934  0.025717 -0.145854  -0.188457 -0.179838  0.055463\n",
      "total_sulfur_dioxide      -0.329054         -0.414476     0.195242        0.495482  -0.279630             0.720934              1.000000  0.032395 -0.238413  -0.275727 -0.265740 -0.041385\n",
      "density                    0.458910          0.271296     0.096154        0.552517   0.362615             0.025717              0.032395  1.000000  0.011686   0.259478 -0.686745 -0.305858\n",
      "pH                        -0.252700          0.261454    -0.329808       -0.267320   0.044708            -0.145854             -0.238413  0.011686  1.000000   0.192123  0.121248  0.019506\n",
      "sulphates                  0.299568          0.225984     0.056197       -0.185927   0.395593            -0.188457             -0.275727  0.259478  0.192123   1.000000 -0.003029  0.038485\n",
      "alcohol                   -0.095452         -0.037640    -0.010493       -0.359415  -0.256916            -0.179838             -0.265740 -0.686745  0.121248  -0.003029  1.000000  0.444319\n",
      "quality                   -0.076743         -0.265699     0.085532       -0.036980  -0.200666             0.055463             -0.041385 -0.305858  0.019506   0.038485  0.444319  1.000000\n"
     ]
    }
   ],
   "source": [
    "print(wine.corr())"
   ]
  },
  {
   "cell_type": "code",
   "execution_count": 19,
   "metadata": {},
   "outputs": [],
   "source": [
    "def take_sample(data_frame, replace=False, n=200):\n",
    "    return data_frame.loc[np.random.choice(data_frame.index, replace=replace, size=n)]\n",
    "\n",
    "reds_sample = take_sample(wine.loc[wine['type'] == 'red', :])\n",
    "whites_sample = take_sample(wine.loc[wine['type'] == 'white', :])"
   ]
  },
  {
   "cell_type": "code",
   "execution_count": 20,
   "metadata": {},
   "outputs": [
    {
     "name": "stdout",
     "output_type": "stream",
     "text": [
      "type        red  white   All\n",
      "in_sample                   \n",
      "0.0        1399   4698  6097\n",
      "1.0         200    200   400\n",
      "All        1599   4898  6497\n"
     ]
    }
   ],
   "source": [
    "wine_sample = pd.concat([reds_sample, whites_sample])\n",
    "\n",
    "wine['in_sample'] = np.where(wine.index.isin(wine_sample.index), 1., 0.)\n",
    "\n",
    "print(pd.crosstab(wine.in_sample, wine.type, margins=True))"
   ]
  },
  {
   "cell_type": "code",
   "execution_count": 22,
   "metadata": {},
   "outputs": [
    {
     "name": "stdout",
     "output_type": "stream",
     "text": [
      "<seaborn.axisgrid.PairGrid object at 0x12b2e8908>\n"
     ]
    },
    {
     "data": {
      "image/png": "[encoded data removed]",
      "text/plain": [
       "<Figure size 599.375x540 with 12 Axes>"
      ]
     },
     "metadata": {},
     "output_type": "display_data"
    }
   ],
   "source": [
    "sns.set_style('dark')\n",
    "\n",
    "g = sns.pairplot(wine_sample, kind='reg', plot_kws={'ci': False, 'x_jitter': 0.25, 'y_jitter': 0.25},\n",
    "                hue='type', diag_kind='hist', diag_kws={'bins': 10, 'alpha': 1.0},\n",
    "                palette=dict(red='red', white='white'),\n",
    "                markers=['o', 's'], vars=['quality', 'alcohol', 'residual_sugar'])\n",
    "print(g)\n",
    "\n",
    "plt.suptitle('Histograms and Scatter Plots of Quality, Alcohol, and Residual Sugar', fontsize=14, \n",
    "             horizontalalignment='center', verticalalignment='top', x=0.5, y=0.999)\n",
    "\n",
    "plt.show()"
   ]
  },
  {
   "cell_type": "markdown",
   "metadata": {},
   "source": [
    "## 4 최소제곱법을 이용한 선형회귀분석"
   ]
  },
  {
   "cell_type": "code",
   "execution_count": 25,
   "metadata": {},
   "outputs": [
    {
     "name": "stdout",
     "output_type": "stream",
     "text": [
      "                            OLS Regression Results                            \n",
      "==============================================================================\n",
      "Dep. Variable:                quality   R-squared:                       0.292\n",
      "Model:                            OLS   Adj. R-squared:                  0.291\n",
      "Method:                 Least Squares   F-statistic:                     243.3\n",
      "Date:                Tue, 27 Aug 2019   Prob (F-statistic):               0.00\n",
      "Time:                        23:29:16   Log-Likelihood:                -7215.5\n",
      "No. Observations:                6497   AIC:                         1.445e+04\n",
      "Df Residuals:                    6485   BIC:                         1.454e+04\n",
      "Df Model:                          11                                         \n",
      "Covariance Type:            nonrobust                                         \n",
      "========================================================================================\n",
      "                           coef    std err          t      P>|t|      [0.025      0.975]\n",
      "----------------------------------------------------------------------------------------\n",
      "Intercept               55.7627     11.894      4.688      0.000      32.447      79.079\n",
      "alcohol                  0.2670      0.017     15.963      0.000       0.234       0.300\n",
      "chlorides               -0.4837      0.333     -1.454      0.146      -1.136       0.168\n",
      "citric_acid             -0.1097      0.080     -1.377      0.168      -0.266       0.046\n",
      "density                -54.9669     12.137     -4.529      0.000     -78.760     -31.173\n",
      "fixed_acidity            0.0677      0.016      4.346      0.000       0.037       0.098\n",
      "free_sulfur_dioxide      0.0060      0.001      7.948      0.000       0.004       0.007\n",
      "pH                       0.4393      0.090      4.861      0.000       0.262       0.616\n",
      "residual_sugar           0.0436      0.005      8.449      0.000       0.033       0.054\n",
      "sulphates                0.7683      0.076     10.092      0.000       0.619       0.917\n",
      "total_sulfur_dioxide    -0.0025      0.000     -8.969      0.000      -0.003      -0.002\n",
      "volatile_acidity        -1.3279      0.077    -17.162      0.000      -1.480      -1.176\n",
      "==============================================================================\n",
      "Omnibus:                      144.075   Durbin-Watson:                   1.646\n",
      "Prob(Omnibus):                  0.000   Jarque-Bera (JB):              324.712\n",
      "Skew:                          -0.006   Prob(JB):                     3.09e-71\n",
      "Kurtosis:                       4.095   Cond. No.                     2.49e+05\n",
      "==============================================================================\n",
      "\n",
      "Warnings:\n",
      "[1] Standard Errors assume that the covariance matrix of the errors is correctly specified.\n",
      "[2] The condition number is large, 2.49e+05. This might indicate that there are\n",
      "strong multicollinearity or other numerical problems.\n",
      "\n",
      "Quantities you can extract from the result:\n",
      "['HC0_se', 'HC1_se', 'HC2_se', 'HC3_se', '_HCCM', '__class__', '__delattr__', '__dict__', '__dir__', '__doc__', '__eq__', '__format__', '__ge__', '__getattribute__', '__gt__', '__hash__', '__init__', '__init_subclass__', '__le__', '__lt__', '__module__', '__ne__', '__new__', '__reduce__', '__reduce_ex__', '__repr__', '__setattr__', '__sizeof__', '__str__', '__subclasshook__', '__weakref__', '_cache', '_data_attr', '_get_robustcov_results', '_is_nested', '_wexog_singular_values', 'aic', 'bic', 'bse', 'centered_tss', 'compare_f_test', 'compare_lm_test', 'compare_lr_test', 'condition_number', 'conf_int', 'conf_int_el', 'cov_HC0', 'cov_HC1', 'cov_HC2', 'cov_HC3', 'cov_kwds', 'cov_params', 'cov_type', 'df_model', 'df_resid', 'diagn', 'eigenvals', 'el_test', 'ess', 'f_pvalue', 'f_test', 'fittedvalues', 'fvalue', 'get_influence', 'get_prediction', 'get_robustcov_results', 'initialize', 'k_constant', 'llf', 'load', 'model', 'mse_model', 'mse_resid', 'mse_total', 'nobs', 'normalized_cov_params', 'outlier_test', 'params', 'predict', 'pvalues', 'remove_data', 'resid', 'resid_pearson', 'rsquared', 'rsquared_adj', 'save', 'scale', 'ssr', 'summary', 'summary2', 't_test', 't_test_pairwise', 'tvalues', 'uncentered_tss', 'use_t', 'wald_test', 'wald_test_terms', 'wresid']\n",
      "\n",
      "Coefficients:\n",
      "Intercept               55.762750\n",
      "alcohol                  0.267030\n",
      "chlorides               -0.483714\n",
      "citric_acid             -0.109657\n",
      "density                -54.966942\n",
      "fixed_acidity            0.067684\n",
      "free_sulfur_dioxide      0.005970\n",
      "pH                       0.439296\n",
      "residual_sugar           0.043559\n",
      "sulphates                0.768252\n",
      "total_sulfur_dioxide    -0.002481\n",
      "volatile_acidity        -1.327892\n",
      "dtype: float64\n",
      "\n",
      "Coefficient Std Errors:\n",
      "Intercept               11.893899\n",
      "alcohol                  0.016728\n",
      "chlorides                0.332683\n",
      "citric_acid              0.079619\n",
      "density                 12.137473\n",
      "fixed_acidity            0.015573\n",
      "free_sulfur_dioxide      0.000751\n",
      "pH                       0.090371\n",
      "residual_sugar           0.005156\n",
      "sulphates                0.076123\n",
      "total_sulfur_dioxide     0.000277\n",
      "volatile_acidity         0.077373\n",
      "dtype: float64\n",
      "\n",
      "Adj. R-squared:\n",
      "0.29\n",
      "\n",
      "F-statistic: 243.3 P-value: 0.00\n",
      "\n",
      "Number of obs: 6497 Number of fitted values: 6497\n"
     ]
    }
   ],
   "source": [
    "my_formula = 'quality ~ alcohol + chlorides + citric_acid + density + fixed_acidity + free_sulfur_dioxide + pH + residual_sugar + sulphates + total_sulfur_dioxide + volatile_acidity'\n",
    "\n",
    "lm = ols(my_formula, data=wine).fit()\n",
    "\n",
    "print(lm.summary())\n",
    "print('\\nQuantities you can extract from the result:\\n%s' % dir(lm))\n",
    "print('\\nCoefficients:\\n%s' % lm.params)\n",
    "print('\\nCoefficient Std Errors:\\n%s' % lm.bse)\n",
    "print('\\nAdj. R-squared:\\n%.2f' % lm.rsquared_adj)\n",
    "print('\\nF-statistic: %.1f P-value: %.2f' % (lm.fvalue, lm.f_pvalue))\n",
    "print('\\nNumber of obs: %d Number of fitted values: %s' % (lm.nobs, len(lm.fittedvalues)))"
   ]
  },
  {
   "cell_type": "markdown",
   "metadata": {},
   "source": [
    "## 6 독립변수의 표준화"
   ]
  },
  {
   "cell_type": "code",
   "execution_count": 27,
   "metadata": {},
   "outputs": [],
   "source": [
    "dependent_variable = wine['quality']\n",
    "independent_variables = wine[wine.columns.difference(['quality', 'type', 'in_sample'])]\n",
    "independent_variables_standardized = (independent_variables - independent_variables.mean()) / independent_variables.std()\n",
    "wine_standardized = pd.concat([dependent_variable, independent_variables_standardized], axis=1)"
   ]
  },
  {
   "cell_type": "code",
   "execution_count": 28,
   "metadata": {},
   "outputs": [
    {
     "name": "stdout",
     "output_type": "stream",
     "text": [
      "                            OLS Regression Results                            \n",
      "==============================================================================\n",
      "Dep. Variable:                quality   R-squared:                       0.292\n",
      "Model:                            OLS   Adj. R-squared:                  0.291\n",
      "Method:                 Least Squares   F-statistic:                     243.3\n",
      "Date:                Tue, 27 Aug 2019   Prob (F-statistic):               0.00\n",
      "Time:                        23:32:04   Log-Likelihood:                -7215.5\n",
      "No. Observations:                6497   AIC:                         1.445e+04\n",
      "Df Residuals:                    6485   BIC:                         1.454e+04\n",
      "Df Model:                          11                                         \n",
      "Covariance Type:            nonrobust                                         \n",
      "========================================================================================\n",
      "                           coef    std err          t      P>|t|      [0.025      0.975]\n",
      "----------------------------------------------------------------------------------------\n",
      "Intercept                5.8184      0.009    637.785      0.000       5.800       5.836\n",
      "alcohol                  0.3185      0.020     15.963      0.000       0.279       0.358\n",
      "chlorides               -0.0169      0.012     -1.454      0.146      -0.040       0.006\n",
      "citric_acid             -0.0159      0.012     -1.377      0.168      -0.039       0.007\n",
      "density                 -0.1648      0.036     -4.529      0.000      -0.236      -0.093\n",
      "fixed_acidity            0.0877      0.020      4.346      0.000       0.048       0.127\n",
      "free_sulfur_dioxide      0.1060      0.013      7.948      0.000       0.080       0.132\n",
      "pH                       0.0706      0.015      4.861      0.000       0.042       0.099\n",
      "residual_sugar           0.2072      0.025      8.449      0.000       0.159       0.255\n",
      "sulphates                0.1143      0.011     10.092      0.000       0.092       0.137\n",
      "total_sulfur_dioxide    -0.1402      0.016     -8.969      0.000      -0.171      -0.110\n",
      "volatile_acidity        -0.2186      0.013    -17.162      0.000      -0.244      -0.194\n",
      "==============================================================================\n",
      "Omnibus:                      144.075   Durbin-Watson:                   1.646\n",
      "Prob(Omnibus):                  0.000   Jarque-Bera (JB):              324.712\n",
      "Skew:                          -0.006   Prob(JB):                     3.09e-71\n",
      "Kurtosis:                       4.095   Cond. No.                         9.61\n",
      "==============================================================================\n",
      "\n",
      "Warnings:\n",
      "[1] Standard Errors assume that the covariance matrix of the errors is correctly specified.\n"
     ]
    }
   ],
   "source": [
    "lm_standardized = ols(my_formula, data=wine_standardized).fit()\n",
    "print(lm_standardized.summary())"
   ]
  },
  {
   "cell_type": "markdown",
   "metadata": {},
   "source": [
    "## 7 예측하기"
   ]
  },
  {
   "cell_type": "code",
   "execution_count": 29,
   "metadata": {},
   "outputs": [
    {
     "name": "stdout",
     "output_type": "stream",
     "text": [
      "[5.0, 4.92, 5.03, 5.68, 5.0, 5.04, 5.02, 5.3, 5.24, 5.69]\n"
     ]
    },
    {
     "name": "stderr",
     "output_type": "stream",
     "text": [
      "/anaconda3/lib/python3.7/site-packages/ipykernel_launcher.py:1: FutureWarning: \n",
      ".ix is deprecated. Please use\n",
      ".loc for label based indexing or\n",
      ".iloc for positional indexing\n",
      "\n",
      "See the documentation here:\n",
      "http://pandas.pydata.org/pandas-docs/stable/user_guide/indexing.html#ix-indexer-is-deprecated\n",
      "  \"\"\"Entry point for launching an IPython kernel.\n",
      "/anaconda3/lib/python3.7/site-packages/pandas/core/indexing.py:822: FutureWarning: \n",
      ".ix is deprecated. Please use\n",
      ".loc for label based indexing or\n",
      ".iloc for positional indexing\n",
      "\n",
      "See the documentation here:\n",
      "http://pandas.pydata.org/pandas-docs/stable/user_guide/indexing.html#ix-indexer-is-deprecated\n",
      "  retval = getattr(retval, self.name)._getitem_axis(key, axis=i)\n"
     ]
    }
   ],
   "source": [
    "new_observations = wine.ix[wine.index.isin(range(10)), independent_variables.columns]\n",
    "y_predicted = lm.predict(new_observations)\n",
    "y_predicted_rounded = [round(score, 2) for score in y_predicted]\n",
    "print(y_predicted_rounded)"
   ]
  },
  {
   "cell_type": "code",
   "execution_count": null,
   "metadata": {},
   "outputs": [],
   "source": []
  }
 ],
 "metadata": {
  "kernelspec": {
   "display_name": "Python 3",
   "language": "python",
   "name": "python3"
  },
  "language_info": {
   "codemirror_mode": {
    "name": "ipython",
    "version": 3
   },
   "file_extension": ".py",
   "mimetype": "text/x-python",
   "name": "python",
   "nbconvert_exporter": "python",
   "pygments_lexer": "ipython3",
   "version": "3.7.3"
  }
 },
 "nbformat": 4,
 "nbformat_minor": 2
}
