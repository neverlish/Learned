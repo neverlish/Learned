{
 "cells": [
  {
   "cell_type": "code",
   "execution_count": 2,
   "metadata": {},
   "outputs": [
    {
     "name": "stdout",
     "output_type": "stream",
     "text": [
      "  state  account_length  area_code     phone intl_plan vmail_plan  \\\n",
      "0    KS             128        415  382-4657        no        yes   \n",
      "1    OH             107        415  371-7191        no        yes   \n",
      "2    NJ             137        415  358-1921        no         no   \n",
      "3    OH              84        408  375-9999       yes         no   \n",
      "4    OK              75        415  330-6626       yes         no   \n",
      "\n",
      "   vmail_message  day_mins  day_calls  day_charge  ...  eve_charge  \\\n",
      "0             25     265.1        110       45.07  ...       16.78   \n",
      "1             26     161.6        123       27.47  ...       16.62   \n",
      "2              0     243.4        114       41.38  ...       10.30   \n",
      "3              0     299.4         71       50.90  ...        5.26   \n",
      "4              0     166.7        113       28.34  ...       12.61   \n",
      "\n",
      "   night_mins  night_calls  night_charge  intl_mins  intl_calls  intl_charge  \\\n",
      "0       244.7           91         11.01       10.0           3         2.70   \n",
      "1       254.4          103         11.45       13.7           3         3.70   \n",
      "2       162.6          104          7.32       12.2           5         3.29   \n",
      "3       196.9           89          8.86        6.6           7         1.78   \n",
      "4       186.9          121          8.41       10.1           3         2.73   \n",
      "\n",
      "   custserv_calls   churn  churn01  \n",
      "0               1  False.      0.0  \n",
      "1               1  False.      0.0  \n",
      "2               0  False.      0.0  \n",
      "3               2  False.      0.0  \n",
      "4               3  False.      0.0  \n",
      "\n",
      "[5 rows x 22 columns]\n"
     ]
    }
   ],
   "source": [
    "import numpy as np\n",
    "import pandas as pd\n",
    "import seaborn as sns\n",
    "import matplotlib.pyplot as plt\n",
    "import statsmodels.api as sm\n",
    "import statsmodels.formula.api as smf\n",
    "\n",
    "churn = pd.read_csv('./data/churn.csv', sep=',', header=0)\n",
    "\n",
    "churn.columns = [heading.lower() for heading in churn.columns.str.replace(' ', '_').str.replace(\"\\'\", \"\").str.strip('?')]\n",
    "\n",
    "churn['churn01'] = np.where(churn['churn'] == 'True.', 1., 0.)\n",
    "print(churn.head())"
   ]
  },
  {
   "cell_type": "code",
   "execution_count": 3,
   "metadata": {},
   "outputs": [
    {
     "name": "stdout",
     "output_type": "stream",
     "text": [
      "       day_charge                       eve_charge                       \\\n",
      "            count       mean        std      count       mean       std   \n",
      "churn                                                                     \n",
      "False.       2850  29.780421   8.530835       2850  16.918909  4.274863   \n",
      "True.         483  35.175921  11.729710        483  18.054969  4.396762   \n",
      "\n",
      "       night_charge                     intl_charge                      \\\n",
      "              count      mean       std       count      mean       std   \n",
      "churn                                                                     \n",
      "False.         2850  9.006074  2.299768        2850  2.743404  0.751784   \n",
      "True.           483  9.235528  2.121081         483  2.889545  0.754152   \n",
      "\n",
      "       account_length                       custserv_calls                      \n",
      "                count        mean       std          count      mean       std  \n",
      "churn                                                                           \n",
      "False.           2850  100.793684  39.88235           2850  1.449825  1.163883  \n",
      "True.             483  102.664596  39.46782            483  2.229814  1.853275  \n"
     ]
    }
   ],
   "source": [
    "print(churn.groupby(['churn'])\n",
    "      [['day_charge', 'eve_charge', 'night_charge', 'intl_charge', 'account_length', 'custserv_calls']]\n",
    "      .agg(['count', 'mean', 'std']))"
   ]
  },
  {
   "cell_type": "code",
   "execution_count": 4,
   "metadata": {},
   "outputs": [
    {
     "name": "stdout",
     "output_type": "stream",
     "text": [
      "       day_charge            eve_charge           night_charge            \\\n",
      "             mean        std       mean       std         mean       std   \n",
      "churn                                                                      \n",
      "False.  29.780421   8.530835  16.918909  4.274863     9.006074  2.299768   \n",
      "True.   35.175921  11.729710  18.054969  4.396762     9.235528  2.121081   \n",
      "\n",
      "       intl_charge           account_length          custserv_calls          \n",
      "              mean       std          count min  max          count min max  \n",
      "churn                                                                        \n",
      "False.    2.743404  0.751784           2850   1  243           2850   0   8  \n",
      "True.     2.889545  0.754152            483   1  225            483   0   9  \n"
     ]
    }
   ],
   "source": [
    "print(churn.groupby(['churn']).agg({'day_charge': ['mean', 'std'],\n",
    "                                   'eve_charge': ['mean', 'std'],\n",
    "                                   'night_charge': ['mean', 'std'],\n",
    "                                   'intl_charge': ['mean', 'std'],\n",
    "                                   'account_length': ['count', 'min', 'max'],\n",
    "                                   'custserv_calls': ['count', 'min', 'max']}))"
   ]
  },
  {
   "cell_type": "code",
   "execution_count": 5,
   "metadata": {},
   "outputs": [
    {
     "name": "stdout",
     "output_type": "stream",
     "text": [
      "                min  max   count      mean       std\n",
      "total_charges                                       \n",
      "(22.86, 37.57]  0.0  5.0    70.0  1.528571  1.348337\n",
      "(37.57, 52.22]  0.0  7.0   742.0  1.564690  1.305234\n",
      "(52.22, 66.86]  0.0  9.0  1726.0  1.581692  1.326646\n",
      "(66.86, 81.51]  0.0  9.0   735.0  1.523810  1.295209\n",
      "(81.51, 96.15]  0.0  5.0    60.0  1.516667  1.359108\n"
     ]
    }
   ],
   "source": [
    "churn['total_charges'] = churn['day_charge'] + churn['eve_charge'] + churn['night_charge'] + churn['intl_charge']\n",
    "\n",
    "factor_cut = pd.cut(churn.total_charges, 5, precision=2)\n",
    "\n",
    "def get_stats(group):\n",
    "    return {'min': group.min(), 'max': group.max(), \n",
    "            'count': group.count(), 'mean': group.mean(),\n",
    "            'std': group.std()}\n",
    "\n",
    "grouped = churn.custserv_calls.groupby(factor_cut)\n",
    "print(grouped.apply(get_stats).unstack())"
   ]
  },
  {
   "cell_type": "code",
   "execution_count": 6,
   "metadata": {},
   "outputs": [
    {
     "name": "stdout",
     "output_type": "stream",
     "text": [
      "                min  max  count      mean       std\n",
      "account_length                                     \n",
      "(0.999, 74.0]   0.0  9.0  857.0  1.506418  1.251268\n",
      "(74.0, 101.0]   0.0  7.0  847.0  1.604486  1.359888\n",
      "(101.0, 127.0]  0.0  8.0  803.0  1.652553  1.358479\n",
      "(127.0, 243.0]  0.0  9.0  826.0  1.491525  1.286970\n"
     ]
    }
   ],
   "source": [
    "factor_qcut = pd.qcut(churn.account_length, [0., 0.25, 0.5, 0.75, 1.])\n",
    "grouped = churn.custserv_calls.groupby(factor_qcut)\n",
    "print(grouped.apply(get_stats).unstack())"
   ]
  },
  {
   "cell_type": "code",
   "execution_count": 7,
   "metadata": {},
   "outputs": [
    {
     "name": "stdout",
     "output_type": "stream",
     "text": [
      "    churn  intl_plan_no  intl_plan_yes  vmail_plan_no  vmail_plan_yes\n",
      "0  False.             1              0              0               1\n",
      "1  False.             1              0              0               1\n",
      "2  False.             1              0              1               0\n",
      "3  False.             0              1              1               0\n",
      "4  False.             0              1              1               0\n"
     ]
    }
   ],
   "source": [
    "intl_dummies = pd.get_dummies(churn['intl_plan'], prefix='intl_plan')\n",
    "vmail_dummies = pd.get_dummies(churn['vmail_plan'], prefix='vmail_plan')\n",
    "churn_with_dummies = churn[['churn']].join([intl_dummies, vmail_dummies])\n",
    "print(churn_with_dummies.head())"
   ]
  },
  {
   "cell_type": "code",
   "execution_count": 8,
   "metadata": {},
   "outputs": [
    {
     "name": "stdout",
     "output_type": "stream",
     "text": [
      "  state  account_length  area_code     phone intl_plan vmail_plan  \\\n",
      "0    KS             128        415  382-4657        no        yes   \n",
      "1    OH             107        415  371-7191        no        yes   \n",
      "2    NJ             137        415  358-1921        no         no   \n",
      "3    OH              84        408  375-9999       yes         no   \n",
      "4    OK              75        415  330-6626       yes         no   \n",
      "\n",
      "   vmail_message  day_mins  day_calls  day_charge  ...  intl_calls  \\\n",
      "0             25     265.1        110       45.07  ...           3   \n",
      "1             26     161.6        123       27.47  ...           3   \n",
      "2              0     243.4        114       41.38  ...           5   \n",
      "3              0     299.4         71       50.90  ...           7   \n",
      "4              0     166.7        113       28.34  ...           3   \n",
      "\n",
      "   intl_charge  custserv_calls   churn  churn01  total_charges  \\\n",
      "0         2.70               1  False.      0.0          75.56   \n",
      "1         3.70               1  False.      0.0          59.24   \n",
      "2         3.29               0  False.      0.0          62.29   \n",
      "3         1.78               2  False.      0.0          66.80   \n",
      "4         2.73               3  False.      0.0          52.09   \n",
      "\n",
      "   total_charges_1st_quartile  total_charges_2nd_quartile  \\\n",
      "0                           0                           0   \n",
      "1                           0                           1   \n",
      "2                           0                           0   \n",
      "3                           0                           0   \n",
      "4                           1                           0   \n",
      "\n",
      "   total_charges_3rd_quartile  total_charges_4rd_quartile  \n",
      "0                           0                           1  \n",
      "1                           0                           0  \n",
      "2                           1                           0  \n",
      "3                           0                           1  \n",
      "4                           0                           0  \n",
      "\n",
      "[5 rows x 27 columns]\n"
     ]
    }
   ],
   "source": [
    "qcut_names = ['1st_quartile', '2nd_quartile', '3rd_quartile', '4rd_quartile']\n",
    "total_charges_quartiles = pd.qcut(churn.total_charges, 4, labels=qcut_names)\n",
    "dummies = pd.get_dummies(total_charges_quartiles, prefix='total_charges')\n",
    "churn_with_dummies = churn.join(dummies)\n",
    "print(churn_with_dummies.head())"
   ]
  },
  {
   "cell_type": "code",
   "execution_count": 9,
   "metadata": {},
   "outputs": [
    {
     "name": "stdout",
     "output_type": "stream",
     "text": [
      "                       total_charges\n",
      "churn  custserv_calls               \n",
      "False. 0                   58.429752\n",
      "       1                   58.164391\n",
      "       2                   57.534241\n",
      "       3                   58.797195\n",
      "       4                   64.318000\n",
      "       5                   66.303077\n",
      "       6                   62.150000\n",
      "       7                   64.677500\n",
      "       8                   64.670000\n",
      "True.  0                   69.601087\n",
      "       1                   70.723443\n",
      "       2                   69.399080\n",
      "       3                   68.931136\n",
      "       4                   55.374474\n",
      "       5                   52.845500\n",
      "       6                   49.714286\n",
      "       7                   50.578000\n",
      "       8                   52.730000\n",
      "       9                   70.390000\n"
     ]
    }
   ],
   "source": [
    "print(churn.pivot_table(['total_charges'], index=['churn', 'custserv_calls']))"
   ]
  },
  {
   "cell_type": "code",
   "execution_count": 10,
   "metadata": {},
   "outputs": [
    {
     "name": "stdout",
     "output_type": "stream",
     "text": [
      "               total_charges                                              \\\n",
      "custserv_calls             0          1          2          3          4   \n",
      "churn                                                                      \n",
      "False.             58.429752  58.164391  57.534241  58.797195  64.318000   \n",
      "True.              69.601087  70.723443  69.399080  68.931136  55.374474   \n",
      "\n",
      "                                                             \n",
      "custserv_calls          5          6        7      8      9  \n",
      "churn                                                        \n",
      "False.          66.303077  62.150000  64.6775  64.67    NaN  \n",
      "True.           52.845500  49.714286  50.5780  52.73  70.39  \n"
     ]
    }
   ],
   "source": [
    "print(churn.pivot_table(['total_charges'], index=['churn'], columns=['custserv_calls']))"
   ]
  },
  {
   "cell_type": "code",
   "execution_count": 11,
   "metadata": {},
   "outputs": [
    {
     "name": "stdout",
     "output_type": "stream",
     "text": [
      "               total_charges                      \n",
      "churn                 False.      True.        All\n",
      "custserv_calls                                    \n",
      "0                    58.4298  69.601087  59.904304\n",
      "1                    58.1644  70.723443  59.461770\n",
      "2                    57.5342  69.399080  58.894242\n",
      "3                    58.7972  68.931136  59.836573\n",
      "4                     64.318  55.374474  60.223373\n",
      "5                    66.3031  52.845500  58.146970\n",
      "6                      62.15  49.714286  54.236364\n",
      "7                    64.6775  50.578000  56.844444\n",
      "8                      64.67  52.730000  58.700000\n",
      "9                        NaN  70.390000  70.390000\n",
      "All                  58.4488  65.355963  59.449754\n"
     ]
    }
   ],
   "source": [
    "print(churn.pivot_table(['total_charges'], index=['custserv_calls'], columns=['churn'], aggfunc='mean', fill_value='NaN', margins=True))"
   ]
  },
  {
   "cell_type": "markdown",
   "metadata": {},
   "source": [
    "## 1 로지스틱 회귀분석"
   ]
  },
  {
   "cell_type": "code",
   "execution_count": 12,
   "metadata": {},
   "outputs": [
    {
     "name": "stdout",
     "output_type": "stream",
     "text": [
      "Optimization terminated successfully.\n",
      "         Current function value: 0.363480\n",
      "         Iterations 7\n",
      "                           Logit Regression Results                           \n",
      "==============================================================================\n",
      "Dep. Variable:                churn01   No. Observations:                 3333\n",
      "Model:                          Logit   Df Residuals:                     3329\n",
      "Method:                           MLE   Df Model:                            3\n",
      "Date:                Tue, 27 Aug 2019   Pseudo R-squ.:                  0.1216\n",
      "Time:                        23:45:29   Log-Likelihood:                -1211.5\n",
      "converged:                       True   LL-Null:                       -1379.1\n",
      "Covariance Type:            nonrobust   LLR p-value:                 2.234e-72\n",
      "==================================================================================\n",
      "                     coef    std err          z      P>|z|      [0.025      0.975]\n",
      "----------------------------------------------------------------------------------\n",
      "const             -7.2205      0.394    -18.309      0.000      -7.993      -6.448\n",
      "account_length     0.0012      0.001      0.927      0.354      -0.001       0.004\n",
      "custserv_calls     0.4443      0.037     12.129      0.000       0.373       0.516\n",
      "total_charges      0.0729      0.005     13.448      0.000       0.062       0.084\n",
      "==================================================================================\n",
      "\n",
      "Quantities you can extract from the result:\n",
      "['__class__', '__delattr__', '__dict__', '__dir__', '__doc__', '__eq__', '__format__', '__ge__', '__getattribute__', '__getstate__', '__gt__', '__hash__', '__init__', '__init_subclass__', '__le__', '__lt__', '__module__', '__ne__', '__new__', '__reduce__', '__reduce_ex__', '__repr__', '__setattr__', '__sizeof__', '__str__', '__subclasshook__', '__weakref__', '_cache', '_data_attr', '_get_endog_name', '_get_robustcov_results', 'aic', 'bic', 'bse', 'conf_int', 'cov_kwds', 'cov_params', 'cov_type', 'df_model', 'df_resid', 'f_test', 'fittedvalues', 'get_margeff', 'initialize', 'k_constant', 'llf', 'llnull', 'llr', 'llr_pvalue', 'load', 'mle_retvals', 'mle_settings', 'model', 'nobs', 'normalized_cov_params', 'params', 'pred_table', 'predict', 'prsquared', 'pvalues', 'remove_data', 'resid_dev', 'resid_generalized', 'resid_pearson', 'resid_response', 'save', 'scale', 'set_null_options', 'summary', 'summary2', 't_test', 't_test_pairwise', 'tvalues', 'use_t', 'wald_test', 'wald_test_terms']\n",
      "\n",
      "Coefficients:\n",
      "const            -7.220520\n",
      "account_length    0.001222\n",
      "custserv_calls    0.444323\n",
      "total_charges     0.072914\n",
      "dtype: float64\n",
      "\n",
      "Coefficient Std Errors:\n",
      "const             0.394363\n",
      "account_length    0.001317\n",
      "custserv_calls    0.036633\n",
      "total_charges     0.005422\n",
      "dtype: float64\n"
     ]
    },
    {
     "name": "stderr",
     "output_type": "stream",
     "text": [
      "/anaconda3/lib/python3.7/site-packages/numpy/core/fromnumeric.py:2495: FutureWarning: Method .ptp is deprecated and will be removed in a future version. Use numpy.ptp instead.\n",
      "  return ptp(axis=axis, out=out, **kwargs)\n"
     ]
    }
   ],
   "source": [
    "dependent_variable = churn['churn01']\n",
    "independent_variables = churn[['account_length', 'custserv_calls', 'total_charges']]\n",
    "independent_variables_with_constant = sm.add_constant(independent_variables, prepend=True)\n",
    "logit_model = sm.Logit(dependent_variable, independent_variables_with_constant).fit()\n",
    "\n",
    "print(logit_model.summary())\n",
    "print('\\nQuantities you can extract from the result:\\n%s' % dir(logit_model))\n",
    "print('\\nCoefficients:\\n%s' % logit_model.params)\n",
    "print('\\nCoefficient Std Errors:\\n%s' % logit_model.bse)"
   ]
  },
  {
   "cell_type": "code",
   "execution_count": null,
   "metadata": {},
   "outputs": [],
   "source": []
  }
 ],
 "metadata": {
  "kernelspec": {
   "display_name": "Python 3",
   "language": "python",
   "name": "python3"
  },
  "language_info": {
   "codemirror_mode": {
    "name": "ipython",
    "version": 3
   },
   "file_extension": ".py",
   "mimetype": "text/x-python",
   "name": "python",
   "nbconvert_exporter": "python",
   "pygments_lexer": "ipython3",
   "version": "3.7.3"
  }
 },
 "nbformat": 4,
 "nbformat_minor": 2
}
