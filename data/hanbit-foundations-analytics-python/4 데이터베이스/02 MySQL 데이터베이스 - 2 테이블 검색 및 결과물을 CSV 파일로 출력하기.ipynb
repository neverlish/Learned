{
 "cells": [
  {
   "cell_type": "code",
   "execution_count": 1,
   "metadata": {},
   "outputs": [],
   "source": [
    "import csv\n",
    "import MySQLdb\n",
    "\n",
    "output_file = './output_files/02-2 output.csv'"
   ]
  },
  {
   "cell_type": "code",
   "execution_count": 2,
   "metadata": {},
   "outputs": [],
   "source": [
    "con = MySQLdb.connect(host='localhost', port=3306, db='my_suppliers', user='root')\n",
    "c = con.cursor()"
   ]
  },
  {
   "cell_type": "code",
   "execution_count": 11,
   "metadata": {},
   "outputs": [
    {
     "name": "stdout",
     "output_type": "stream",
     "text": [
      "('Supplier X', '001-1001', '5467', 750.0, datetime.date(2014, 1, 20))\n",
      "('Supplier X', '001-1001', '5467', 750.0, datetime.date(2014, 1, 20))\n"
     ]
    }
   ],
   "source": [
    "with open(output_file, 'w', newline='') as csv_out_file:\n",
    "    filewriter = csv.writer(csv_out_file, delimiter=',')\n",
    "    header = ['Supplier Name', 'Invoice Number', 'Part Number', 'Cost', 'Purchase Date']\n",
    "    filewriter.writerow(header)\n",
    "\n",
    "    c.execute(\"SELECT * FROM Suppliers WHERE Cost > 700.0;\")\n",
    "\n",
    "    rows = c.fetchall()\n",
    "    for row in rows:\n",
    "        print(row)\n",
    "        filewriter.writerow(row)"
   ]
  },
  {
   "cell_type": "code",
   "execution_count": null,
   "metadata": {},
   "outputs": [],
   "source": []
  },
  {
   "cell_type": "code",
   "execution_count": null,
   "metadata": {},
   "outputs": [],
   "source": []
  }
 ],
 "metadata": {
  "kernelspec": {
   "display_name": "Python 3",
   "language": "python",
   "name": "python3"
  },
  "language_info": {
   "codemirror_mode": {
    "name": "ipython",
    "version": 3
   },
   "file_extension": ".py",
   "mimetype": "text/x-python",
   "name": "python",
   "nbconvert_exporter": "python",
   "pygments_lexer": "ipython3",
   "version": "3.7.3"
  }
 },
 "nbformat": 4,
 "nbformat_minor": 2
}
