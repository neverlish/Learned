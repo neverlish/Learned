{
 "cells": [
  {
   "cell_type": "code",
   "execution_count": 1,
   "metadata": {},
   "outputs": [],
   "source": [
    "import csv\n",
    "import sqlite3\n",
    "\n",
    "input_file = './data/data_for_updating.csv'"
   ]
  },
  {
   "cell_type": "code",
   "execution_count": 2,
   "metadata": {},
   "outputs": [],
   "source": [
    "con = sqlite3.connect(':memory:')\n",
    "\n",
    "query = \"\"\"\n",
    "CREATE TABLE IF NOT EXISTS sales(\n",
    "    customer VARCHAR(20),\n",
    "    product VARCHAR(40),\n",
    "    amount FLOAT,\n",
    "    date DATE\n",
    ");\"\"\"\n",
    "\n",
    "con.execute(query)\n",
    "\n",
    "con.commit()"
   ]
  },
  {
   "cell_type": "code",
   "execution_count": 3,
   "metadata": {},
   "outputs": [],
   "source": [
    "data = [\n",
    "    ('Richard Lucas', 'Notepad', 2.50, '2014-01-02'),\n",
    "    ('Jenny Kim', 'Binder', 4.15, '2014-01-15'),\n",
    "    ('Svetlana Crow', 'Printer', 155.75, '2014-02-03'),\n",
    "    ('Stephen Randolph', 'Computer', 679.40, '2014-02-20'),\n",
    "]\n",
    "\n",
    "statement = \"INSERT INTO sales VALUES(?, ?, ?, ?)\"\n",
    "con.executemany(statement, data)\n",
    "con.commit()"
   ]
  },
  {
   "cell_type": "code",
   "execution_count": 6,
   "metadata": {},
   "outputs": [
    {
     "name": "stdout",
     "output_type": "stream",
     "text": [
      "['4.25', '5/11/2014', 'Richard Lucas']\n",
      "['6.75', '5/12/2014', 'Jenny Kim']\n"
     ]
    }
   ],
   "source": [
    "file_reader = csv.reader(open(input_file, 'r'), delimiter=',')\n",
    "\n",
    "header = next(file_reader, None)\n",
    "\n",
    "for row in file_reader:\n",
    "    data = []\n",
    "    for column_index in range(len(header)):\n",
    "        data.append(row[column_index])\n",
    "    print(data)\n",
    "    con.execute(\"UPDATE sales SET amount=?, date=? WHERE customer=?;\", data)\n",
    "con.commit()"
   ]
  },
  {
   "cell_type": "code",
   "execution_count": 7,
   "metadata": {},
   "outputs": [
    {
     "name": "stdout",
     "output_type": "stream",
     "text": [
      "['Richard Lucas', 'Notepad', '4.25', '5/11/2014']\n",
      "['Jenny Kim', 'Binder', '6.75', '5/12/2014']\n",
      "['Svetlana Crow', 'Printer', '155.75', '2014-02-03']\n",
      "['Stephen Randolph', 'Computer', '679.4', '2014-02-20']\n"
     ]
    }
   ],
   "source": [
    "cursor = con.execute(\"SELECT * FROM sales\")\n",
    "rows = cursor.fetchall()\n",
    "\n",
    "for row in rows:\n",
    "    output = []\n",
    "    for column_index in range(len(row)):\n",
    "        output.append(str(row[column_index]))\n",
    "    print(output)"
   ]
  },
  {
   "cell_type": "code",
   "execution_count": null,
   "metadata": {},
   "outputs": [],
   "source": []
  }
 ],
 "metadata": {
  "kernelspec": {
   "display_name": "Python 3",
   "language": "python",
   "name": "python3"
  },
  "language_info": {
   "codemirror_mode": {
    "name": "ipython",
    "version": 3
   },
   "file_extension": ".py",
   "mimetype": "text/x-python",
   "name": "python",
   "nbconvert_exporter": "python",
   "pygments_lexer": "ipython3",
   "version": "3.7.3"
  }
 },
 "nbformat": 4,
 "nbformat_minor": 2
}
