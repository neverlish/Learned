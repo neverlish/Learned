{
 "cells": [
  {
   "cell_type": "markdown",
   "metadata": {},
   "source": [
    "1. CSV 파일의 데이터를 데이터베이스 테이블에 입력하는 것을 연습해보자. 이를 위해 새로운 테이블과 입력 파일을 만들고, 입력 데이터를 SQLite3나 MySQL 데이터베이스 테이블에 입력하는 새로운 스크립트를 작성하자."
   ]
  },
  {
   "cell_type": "markdown",
   "metadata": {},
   "source": [
    "2. SQLite3나 MySQL 데이터베이스 테이블에 쿼리를 보내고 그 결과를 CSV 파일로 출력하는 것을 연습하자. 새로 만든 테이블 중 하나로부터 데이터를 추출하는 쿼리를 포함한 새로운 파이썬 스크립트를 만들자. 적합한 헤더 행과 데이터를 출력 파일에 작성하는 방법을 다룬 예제들의 코드를 통합하고 수정해야 할 것이다."
   ]
  },
  {
   "cell_type": "markdown",
   "metadata": {},
   "source": [
    "3. SQLite3나 MySQL 데이터베이스 테이블에 있는 레코드들을 CSV 파일의 데이터로 갱신하는 것을 연습하자. 먼저 새로운 데이터베이스 테이블을 만들고 이 테이블에 데이터를 입력하자. 그다음 테이블에서 갱신할 특정 레코드의 데이터가 포함된 새로운 CSV 파일을 만들고, 테이블의 특정 레코드를 CSV 파일의 데이터로 갱신하는 새로운 파이썬 스크립트를 만들자."
   ]
  },
  {
   "cell_type": "code",
   "execution_count": null,
   "metadata": {},
   "outputs": [],
   "source": []
  }
 ],
 "metadata": {
  "kernelspec": {
   "display_name": "Python 3",
   "language": "python",
   "name": "python3"
  },
  "language_info": {
   "codemirror_mode": {
    "name": "ipython",
    "version": 3
   },
   "file_extension": ".py",
   "mimetype": "text/x-python",
   "name": "python",
   "nbconvert_exporter": "python",
   "pygments_lexer": "ipython3",
   "version": "3.7.3"
  }
 },
 "nbformat": 4,
 "nbformat_minor": 2
}
