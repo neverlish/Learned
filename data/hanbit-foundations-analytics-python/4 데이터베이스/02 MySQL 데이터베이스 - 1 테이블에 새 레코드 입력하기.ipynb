{
 "cells": [
  {
   "cell_type": "code",
   "execution_count": 1,
   "metadata": {},
   "outputs": [],
   "source": [
    "import csv\n",
    "import MySQLdb\n",
    "from datetime import datetime, date"
   ]
  },
  {
   "cell_type": "code",
   "execution_count": 2,
   "metadata": {},
   "outputs": [],
   "source": [
    "input_file = './data/supplier_data.csv'"
   ]
  },
  {
   "cell_type": "code",
   "execution_count": 3,
   "metadata": {},
   "outputs": [],
   "source": [
    "con = MySQLdb.connect(host='localhost', port=3306, db='my_suppliers', user='root')\n",
    "c = con.cursor()"
   ]
  },
  {
   "cell_type": "code",
   "execution_count": 9,
   "metadata": {},
   "outputs": [
    {
     "name": "stdout",
     "output_type": "stream",
     "text": [
      "['Supplier X', '001-1001', '2341', '500.00', '2014-01-20']\n",
      "['Supplier X', '001-1001', '2341', '500.00', '2014-01-20']\n",
      "['Supplier X', '001-1001', '5467', '750.00', '2014-01-20']\n",
      "['Supplier X', '001-1001', '5467', '750.00', '2014-01-20']\n",
      "['Supplier Y', '50-9501', '7009', '250.00', '2014-01-30']\n",
      "['Supplier Y', '50-9501', '7009', '250.00', '2014-01-30']\n",
      "['Supplier Y', '50-9505', '6650', '125.00', '2014-02-03']\n",
      "['Supplier Y', '50-9505', '6650', '125.00', '2014-02-03']\n",
      "['Supplier Z', '920-4803', '3321', '615.00', '2014-02-03']\n",
      "['Supplier Z', '920-4804', '3321', '615.00', '2014-02-10']\n",
      "['Supplier Z', '920-4805', '3321', '615.00', '2014-02-17']\n",
      "['Supplier Z', '920-4806', '3321', '615.00', '2014-02-24']\n",
      "\n"
     ]
    }
   ],
   "source": [
    "file_reader = csv.reader(open(input_file, 'r'), delimiter=',')\n",
    "\n",
    "header = next(file_reader)\n",
    "\n",
    "for row in file_reader:\n",
    "    data = []\n",
    "    for column_index in range(len(header)):\n",
    "        if column_index < 4:\n",
    "            data.append(str(row[column_index]).lstrip('$').replace(',', '').strip())\n",
    "        else:\n",
    "            a_date = datetime.date(datetime.strptime(str(row[column_index]), '%m/%d/%y'))\n",
    "            a_date = a_date.strftime('%Y-%m-%d')\n",
    "            data.append(a_date)\n",
    "    print(data)\n",
    "    c.execute(\"INSERT INTO Suppliers VALUES (%s, %s, %s, %s, %s);\", data)\n",
    "con.commit()\n",
    "print('')"
   ]
  },
  {
   "cell_type": "code",
   "execution_count": 10,
   "metadata": {},
   "outputs": [
    {
     "name": "stdout",
     "output_type": "stream",
     "text": [
      "['Supplier X', '001-1001', '2341', '500.0', '2014-01-20']\n",
      "['Supplier X', '001-1001', '2341', '500.0', '2014-01-20']\n",
      "['Supplier X', '001-1001', '5467', '750.0', '2014-01-20']\n",
      "['Supplier X', '001-1001', '5467', '750.0', '2014-01-20']\n",
      "['Supplier Y', '50-9501', '7009', '250.0', '2014-01-30']\n",
      "['Supplier Y', '50-9501', '7009', '250.0', '2014-01-30']\n",
      "['Supplier Y', '50-9505', '6650', '125.0', '2014-02-03']\n",
      "['Supplier Y', '50-9505', '6650', '125.0', '2014-02-03']\n",
      "['Supplier Z', '920-4803', '3321', '615.0', '2014-02-03']\n",
      "['Supplier Z', '920-4804', '3321', '615.0', '2014-02-10']\n",
      "['Supplier Z', '920-4805', '3321', '615.0', '2014-02-17']\n",
      "['Supplier Z', '920-4806', '3321', '615.0', '2014-02-24']\n"
     ]
    }
   ],
   "source": [
    "c.execute(\"SELECT * FROM Suppliers\")\n",
    "rows = c.fetchall()\n",
    "\n",
    "for row in rows:\n",
    "    row_list_output = []\n",
    "    for column_index in range(len(row)):\n",
    "        row_list_output.append(str(row[column_index]))\n",
    "    print(row_list_output)"
   ]
  },
  {
   "cell_type": "code",
   "execution_count": null,
   "metadata": {},
   "outputs": [],
   "source": []
  }
 ],
 "metadata": {
  "kernelspec": {
   "display_name": "Python 3",
   "language": "python",
   "name": "python3"
  },
  "language_info": {
   "codemirror_mode": {
    "name": "ipython",
    "version": 3
   },
   "file_extension": ".py",
   "mimetype": "text/x-python",
   "name": "python",
   "nbconvert_exporter": "python",
   "pygments_lexer": "ipython3",
   "version": "3.7.3"
  }
 },
 "nbformat": 4,
 "nbformat_minor": 2
}
