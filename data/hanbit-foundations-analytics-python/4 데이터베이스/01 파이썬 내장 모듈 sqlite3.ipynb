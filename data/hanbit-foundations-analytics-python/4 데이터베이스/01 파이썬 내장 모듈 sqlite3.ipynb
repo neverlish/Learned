{
 "cells": [
  {
   "cell_type": "code",
   "execution_count": 1,
   "metadata": {},
   "outputs": [],
   "source": [
    "import sqlite3"
   ]
  },
  {
   "cell_type": "code",
   "execution_count": 2,
   "metadata": {},
   "outputs": [],
   "source": [
    "con = sqlite3.connect(':memory:')\n",
    "\n",
    "query = \"\"\"\n",
    "CREATE TABLE sales(\n",
    "    customer VARCHAR(20),\n",
    "    product VARCHAR(40),\n",
    "    amount FLOAT,\n",
    "    date DATE\n",
    ");\"\"\"\n",
    "\n",
    "con.execute(query)\n",
    "\n",
    "con.commit()"
   ]
  },
  {
   "cell_type": "code",
   "execution_count": 3,
   "metadata": {},
   "outputs": [
    {
     "name": "stdout",
     "output_type": "stream",
     "text": [
      "('Richard Lucas', 'Notepad', 2.5, '2014-01-02')\n",
      "('Jenny Kim', 'Binder', 4.15, '2014-01-15')\n",
      "('Svetlana Crow', 'Printer', 155.75, '2014-02-03')\n",
      "('Stephen Randolph', 'Computer', 679.4, '2014-02-20')\n",
      "Number of rows: 4\n"
     ]
    }
   ],
   "source": [
    "data = [\n",
    "    ('Richard Lucas', 'Notepad', 2.50, '2014-01-02'),\n",
    "    ('Jenny Kim', 'Binder', 4.15, '2014-01-15'),\n",
    "    ('Svetlana Crow', 'Printer', 155.75, '2014-02-03'),\n",
    "    ('Stephen Randolph', 'Computer', 679.40, '2014-02-20'),\n",
    "]\n",
    "\n",
    "statement = \"INSERT INTO sales VALUES(?, ?, ?, ?)\"\n",
    "con.executemany(statement, data)\n",
    "con.commit()\n",
    "\n",
    "cursor = con.execute(\"SELECT * FROM sales\")\n",
    "rows = cursor.fetchall()\n",
    "\n",
    "row_counter = 0\n",
    "for row in rows:\n",
    "    print(row)\n",
    "    row_counter += 1\n",
    "    \n",
    "print('Number of rows: {}'.format(row_counter))"
   ]
  },
  {
   "cell_type": "code",
   "execution_count": null,
   "metadata": {},
   "outputs": [],
   "source": []
  }
 ],
 "metadata": {
  "kernelspec": {
   "display_name": "Python 3",
   "language": "python",
   "name": "python3"
  },
  "language_info": {
   "codemirror_mode": {
    "name": "ipython",
    "version": 3
   },
   "file_extension": ".py",
   "mimetype": "text/x-python",
   "name": "python",
   "nbconvert_exporter": "python",
   "pygments_lexer": "ipython3",
   "version": "3.7.3"
  }
 },
 "nbformat": 4,
 "nbformat_minor": 2
}
