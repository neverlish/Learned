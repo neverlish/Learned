{
 "cells": [
  {
   "cell_type": "code",
   "execution_count": 1,
   "metadata": {},
   "outputs": [],
   "source": [
    "import csv\n",
    "import sqlite3\n",
    "\n",
    "input_file = './data/supplier_data.csv'"
   ]
  },
  {
   "cell_type": "code",
   "execution_count": 2,
   "metadata": {},
   "outputs": [],
   "source": [
    "con = sqlite3.connect('Suppliers.db')\n",
    "\n",
    "c = con.cursor()\n",
    "\n",
    "create_table = \"\"\"\n",
    "CREATE TABLE IF NOT EXISTS Suppliers (\n",
    "    Supplier_name VARCHAR(20),\n",
    "    Invoice_Number VARCHAR(20),\n",
    "    Part_Number VARCHAR(20),\n",
    "    Cost FLOAT,\n",
    "    Purchase_Date DATE\n",
    ");\"\"\"\n",
    "\n",
    "c.execute(create_table)\n",
    "\n",
    "con.commit()"
   ]
  },
  {
   "cell_type": "code",
   "execution_count": 3,
   "metadata": {},
   "outputs": [
    {
     "name": "stdout",
     "output_type": "stream",
     "text": [
      "['Supplier X', '001-1001', '2341', '$500.00', '1/20/14']\n",
      "['Supplier X', '001-1001', '2341', '$500.00', '1/20/14']\n",
      "['Supplier X', '001-1001', '5467', '$750.00', '1/20/14']\n",
      "['Supplier X', '001-1001', '5467', '$750.00', '1/20/14']\n",
      "['Supplier Y', '50-9501', '7009', '$250.00', '1/30/14']\n",
      "['Supplier Y', '50-9501', '7009', '$250.00', '1/30/14']\n",
      "['Supplier Y', '50-9505', '6650', '$125.00', '2/3/14']\n",
      "['Supplier Y', '50-9505', '6650', '$125.00', '2/3/14']\n",
      "['Supplier Z', '920-4803', '3321', '$615.00', '2/3/14']\n",
      "['Supplier Z', '920-4804', '3321', '$615.00', '2/10/14']\n",
      "['Supplier Z', '920-4805', '3321', '$615.00', '2/17/14']\n",
      "['Supplier Z', '920-4806', '3321', '$615.00', '2/24/14']\n",
      "\n"
     ]
    }
   ],
   "source": [
    "file_reader = csv.reader(open(input_file, 'r'), delimiter=',')\n",
    "\n",
    "header = next(file_reader, None)\n",
    "\n",
    "for row in file_reader:\n",
    "    data = []\n",
    "    for column_index in range(len(header)):\n",
    "        data.append(row[column_index])\n",
    "    print(data)\n",
    "    c.execute(\"INSERT INTO Suppliers VALUES (?, ?, ?, ?, ?);\", data)\n",
    "con.commit()\n",
    "print('')"
   ]
  },
  {
   "cell_type": "code",
   "execution_count": 4,
   "metadata": {},
   "outputs": [
    {
     "name": "stdout",
     "output_type": "stream",
     "text": [
      "['Supplier X', '001-1001', '2341', '$500.00', '1/20/14']\n",
      "['Supplier X', '001-1001', '2341', '$500.00', '1/20/14']\n",
      "['Supplier X', '001-1001', '5467', '$750.00', '1/20/14']\n",
      "['Supplier X', '001-1001', '5467', '$750.00', '1/20/14']\n",
      "['Supplier Y', '50-9501', '7009', '$250.00', '1/30/14']\n",
      "['Supplier Y', '50-9501', '7009', '$250.00', '1/30/14']\n",
      "['Supplier Y', '50-9505', '6650', '$125.00', '2/3/14']\n",
      "['Supplier Y', '50-9505', '6650', '$125.00', '2/3/14']\n",
      "['Supplier Z', '920-4803', '3321', '$615.00', '2/3/14']\n",
      "['Supplier Z', '920-4804', '3321', '$615.00', '2/10/14']\n",
      "['Supplier Z', '920-4805', '3321', '$615.00', '2/17/14']\n",
      "['Supplier Z', '920-4806', '3321', '$615.00', '2/24/14']\n"
     ]
    }
   ],
   "source": [
    "output = c.execute(\"SELECT * FROM Suppliers\")\n",
    "rows = output.fetchall()\n",
    "\n",
    "for row in rows:\n",
    "    output = []\n",
    "    for column_index in range(len(row)):\n",
    "        output.append(str(row[column_index]))\n",
    "    print(output)"
   ]
  }
 ],
 "metadata": {
  "kernelspec": {
   "display_name": "Python 3",
   "language": "python",
   "name": "python3"
  },
  "language_info": {
   "codemirror_mode": {
    "name": "ipython",
    "version": 3
   },
   "file_extension": ".py",
   "mimetype": "text/x-python",
   "name": "python",
   "nbconvert_exporter": "python",
   "pygments_lexer": "ipython3",
   "version": "3.7.3"
  }
 },
 "nbformat": 4,
 "nbformat_minor": 2
}
