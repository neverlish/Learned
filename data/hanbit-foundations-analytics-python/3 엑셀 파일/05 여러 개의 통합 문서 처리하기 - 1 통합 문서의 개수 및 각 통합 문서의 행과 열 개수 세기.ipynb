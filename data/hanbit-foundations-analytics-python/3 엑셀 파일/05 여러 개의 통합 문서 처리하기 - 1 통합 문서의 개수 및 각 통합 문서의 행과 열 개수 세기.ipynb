{
 "cells": [
  {
   "cell_type": "code",
   "execution_count": 1,
   "metadata": {},
   "outputs": [],
   "source": [
    "import glob\n",
    "import os\n",
    "from xlrd import open_workbook"
   ]
  },
  {
   "cell_type": "code",
   "execution_count": 2,
   "metadata": {},
   "outputs": [],
   "source": [
    "input_directory = './data/'"
   ]
  },
  {
   "cell_type": "code",
   "execution_count": 3,
   "metadata": {},
   "outputs": [
    {
     "name": "stdout",
     "output_type": "stream",
     "text": [
      "Workbook: sales_2014.xlsx\n",
      "Number of worksheets: 3\n",
      "Worksheet name: january_2014 \tRows: 7 \tColumns: 5\n",
      "Worksheet name: february_2014 \tRows: 7 \tColumns: 5\n",
      "Worksheet name: march_2014 \tRows: 7 \tColumns: 5\n",
      "Workbook: sales_2015.xlsx\n",
      "Number of worksheets: 3\n",
      "Worksheet name: january_2015 \tRows: 7 \tColumns: 5\n",
      "Worksheet name: february_2015 \tRows: 7 \tColumns: 5\n",
      "Worksheet name: march_2015 \tRows: 7 \tColumns: 5\n",
      "Workbook: sales_2013.xlsx\n",
      "Number of worksheets: 3\n",
      "Worksheet name: january_2013 \tRows: 7 \tColumns: 5\n",
      "Worksheet name: february_2013 \tRows: 7 \tColumns: 5\n",
      "Worksheet name: march_2013 \tRows: 7 \tColumns: 5\n",
      "Number of Excel workbooks: 3\n"
     ]
    }
   ],
   "source": [
    "workbook_counter = 0\n",
    "\n",
    "for input_file in glob.glob(os.path.join(input_directory, '*.xls*')):\n",
    "    workbook = open_workbook(input_file)\n",
    "    print('Workbook: {}'.format(os.path.basename(input_file)))\n",
    "    print('Number of worksheets: {}'.format(workbook.nsheets))\n",
    "    for worksheet in workbook.sheets():\n",
    "        print('Worksheet name:', worksheet.name, '\\tRows:', worksheet.nrows, '\\tColumns:', worksheet.ncols)\n",
    "    workbook_counter += 1\n",
    "print('Number of Excel workbooks: {}'.format(workbook_counter))"
   ]
  },
  {
   "cell_type": "code",
   "execution_count": null,
   "metadata": {},
   "outputs": [],
   "source": []
  }
 ],
 "metadata": {
  "kernelspec": {
   "display_name": "Python 3",
   "language": "python",
   "name": "python3"
  },
  "language_info": {
   "codemirror_mode": {
    "name": "ipython",
    "version": 3
   },
   "file_extension": ".py",
   "mimetype": "text/x-python",
   "name": "python",
   "nbconvert_exporter": "python",
   "pygments_lexer": "ipython3",
   "version": "3.7.3"
  }
 },
 "nbformat": 4,
 "nbformat_minor": 2
}
