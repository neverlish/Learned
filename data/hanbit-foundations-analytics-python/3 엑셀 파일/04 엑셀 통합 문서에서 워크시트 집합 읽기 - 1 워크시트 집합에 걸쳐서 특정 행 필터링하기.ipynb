{
 "cells": [
  {
   "cell_type": "markdown",
   "metadata": {},
   "source": [
    "## 기본 파이썬 "
   ]
  },
  {
   "cell_type": "code",
   "execution_count": 1,
   "metadata": {},
   "outputs": [],
   "source": [
    "from datetime import date\n",
    "from xlrd import open_workbook, xldate_as_tuple\n",
    "from xlwt import Workbook"
   ]
  },
  {
   "cell_type": "code",
   "execution_count": 2,
   "metadata": {},
   "outputs": [],
   "source": [
    "input_file = './data/sales_2013.xlsx'\n",
    "output_file = './output_files/04-1 output.xls'"
   ]
  },
  {
   "cell_type": "code",
   "execution_count": 3,
   "metadata": {},
   "outputs": [],
   "source": [
    "output_workbook = Workbook()\n",
    "output_worksheet = output_workbook.add_sheet('set_of_worksheets')"
   ]
  },
  {
   "cell_type": "code",
   "execution_count": 4,
   "metadata": {},
   "outputs": [],
   "source": [
    "my_sheets = [0, 1]\n",
    "threshold = 1900.0\n",
    "sales_column_index = 3"
   ]
  },
  {
   "cell_type": "code",
   "execution_count": 6,
   "metadata": {},
   "outputs": [],
   "source": [
    "first_worksheet = True\n",
    "\n",
    "with open_workbook(input_file) as workbook:\n",
    "    data = []\n",
    "    for sheet_index in range(workbook.nsheets):\n",
    "        if sheet_index in my_sheets:\n",
    "            worksheet = workbook.sheet_by_index(sheet_index)\n",
    "            if first_worksheet:\n",
    "                header_row = worksheet.row_values(0)\n",
    "                data.append(header_row)\n",
    "                first_worksheet = False\n",
    "            for row_index in range(1, worksheet.nrows):\n",
    "                row_list = []\n",
    "                sale_amount = worksheet.cell_value(row_index, sales_column_index)\n",
    "                if sale_amount > threshold:\n",
    "                    for column_index in range(worksheet.ncols):\n",
    "                        cell_value = worksheet.cell_value(row_index, column_index)\n",
    "                        cell_type = worksheet.cell_type(row_index, column_index)\n",
    "                        if cell_type == 3:\n",
    "                            date_cell = xldate_as_tuple(cell_value, workbook.datemode)\n",
    "                            date_cell = date(*date_cell[0:3]).strftime('%m/%d/%Y')\n",
    "                            row_list.append(date_cell)\n",
    "                        else:\n",
    "                            row_list.append(cell_value)    \n",
    "                if row_list:\n",
    "                    data.append(row_list)\n",
    "    for list_index, output_list in enumerate(data):\n",
    "        for element_index, element in enumerate(output_list):\n",
    "            output_worksheet.write(list_index, element_index, element)\n",
    "output_workbook.save(output_file)"
   ]
  },
  {
   "cell_type": "markdown",
   "metadata": {},
   "source": [
    "## 팬더스"
   ]
  },
  {
   "cell_type": "code",
   "execution_count": 7,
   "metadata": {},
   "outputs": [],
   "source": [
    "import pandas as pd\n",
    "\n",
    "output_file = './output_files/04-1 pandas_output.xls'"
   ]
  },
  {
   "cell_type": "code",
   "execution_count": 8,
   "metadata": {},
   "outputs": [],
   "source": [
    "data_frame = pd.read_excel(input_file, sheet_name=my_sheets, index_col=None)\n",
    "\n",
    "row_list = []\n",
    "\n",
    "for worksheet_name, data in data_frame.items():\n",
    "    row_list.append(data[data['Sale Amount'].astype(float) > threshold])\n",
    "filtered_rows = pd.concat(row_list, axis=0, ignore_index=True)"
   ]
  },
  {
   "cell_type": "code",
   "execution_count": 10,
   "metadata": {},
   "outputs": [],
   "source": [
    "writer = pd.ExcelWriter(output_file)\n",
    "\n",
    "filtered_rows.to_excel(writer, sheet_name='set_of_worksheets', index=False)\n",
    "\n",
    "writer.save()"
   ]
  }
 ],
 "metadata": {
  "kernelspec": {
   "display_name": "Python 3",
   "language": "python",
   "name": "python3"
  },
  "language_info": {
   "codemirror_mode": {
    "name": "ipython",
    "version": 3
   },
   "file_extension": ".py",
   "mimetype": "text/x-python",
   "name": "python",
   "nbconvert_exporter": "python",
   "pygments_lexer": "ipython3",
   "version": "3.7.3"
  }
 },
 "nbformat": 4,
 "nbformat_minor": 2
}
