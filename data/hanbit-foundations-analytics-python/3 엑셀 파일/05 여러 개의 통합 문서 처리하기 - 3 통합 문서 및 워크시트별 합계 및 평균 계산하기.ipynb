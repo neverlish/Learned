{
 "cells": [
  {
   "cell_type": "markdown",
   "metadata": {},
   "source": [
    "## 기본 파이썬"
   ]
  },
  {
   "cell_type": "code",
   "execution_count": 1,
   "metadata": {},
   "outputs": [],
   "source": [
    "import glob\n",
    "import os\n",
    "from datetime import date\n",
    "from xlrd import open_workbook, xldate_as_tuple\n",
    "from xlwt import Workbook"
   ]
  },
  {
   "cell_type": "code",
   "execution_count": 2,
   "metadata": {},
   "outputs": [],
   "source": [
    "input_folder = './data/'\n",
    "output_file = './output_files/05-3 output.xls'"
   ]
  },
  {
   "cell_type": "code",
   "execution_count": 3,
   "metadata": {},
   "outputs": [],
   "source": [
    "output_workbook = Workbook()\n",
    "output_worksheet = output_workbook.add_sheet('sums_and_averages')"
   ]
  },
  {
   "cell_type": "code",
   "execution_count": 4,
   "metadata": {},
   "outputs": [],
   "source": [
    "all_data = []\n",
    "sales_column_index = 3\n",
    "\n",
    "header = ['workbook', 'worksheet', 'worksheet_total', 'worksheet_average', 'workbook_total', 'workbook_average']\n",
    "\n",
    "all_data.append(header)"
   ]
  },
  {
   "cell_type": "code",
   "execution_count": 5,
   "metadata": {},
   "outputs": [],
   "source": [
    "for input_file in glob.glob(os.path.join(input_folder, '*.xls*')):\n",
    "    with open_workbook(input_file) as workbook:\n",
    "        list_of_totals = []\n",
    "        list_of_numbers = []\n",
    "        workbook_output = []\n",
    "        \n",
    "        for worksheet in workbook.sheets():\n",
    "            total_sales = 0\n",
    "            number_of_sales = 0\n",
    "            worksheet_list = []\n",
    "            worksheet_list.append(os.path.basename(input_file))\n",
    "            worksheet_list.append(worksheet.name)\n",
    "            for row_index in range(1, worksheet.nrows):\n",
    "                try:\n",
    "                    total_sales += float(str(worksheet.cell_value(row_index, sales_column_index)).strip('$').replace(',', ''))\n",
    "                    number_of_sales += 1.\n",
    "                except:\n",
    "                    total_sales += 0.\n",
    "                    number_of_sales += 0.\n",
    "            average_sales = '%.2f' % (total_sales / number_of_sales)\n",
    "            worksheet_list.append(total_sales)\n",
    "            worksheet_list.append(float(average_sales))\n",
    "            list_of_totals.append(total_sales)\n",
    "            list_of_numbers.append(float(number_of_sales))\n",
    "            workbook_output.append(worksheet_list)\n",
    "        workbook_total = sum(list_of_totals)\n",
    "        workbook_average = sum(list_of_totals) / sum(list_of_numbers)\n",
    "        for list_element in workbook_output:\n",
    "            list_element.append(workbook_total)\n",
    "            list_element.append(workbook_average)\n",
    "        all_data.extend(workbook_output)\n",
    "for list_index, output_list in enumerate(all_data):\n",
    "    for element_index, element in enumerate(output_list):\n",
    "        output_worksheet.write(list_index, element_index, element)\n",
    "output_workbook.save(output_file)"
   ]
  },
  {
   "cell_type": "markdown",
   "metadata": {},
   "source": [
    "## 팬더스"
   ]
  },
  {
   "cell_type": "code",
   "execution_count": 6,
   "metadata": {},
   "outputs": [],
   "source": [
    "import pandas as pd\n",
    "\n",
    "output_file = './output_files/05-3 pandas_output.xls'"
   ]
  },
  {
   "cell_type": "code",
   "execution_count": 7,
   "metadata": {},
   "outputs": [],
   "source": [
    "all_workbooks = glob.glob(os.path.join(input_folder, '*.xls*'))\n",
    "\n",
    "data_frames = []"
   ]
  },
  {
   "cell_type": "code",
   "execution_count": 10,
   "metadata": {},
   "outputs": [],
   "source": [
    "for workbook in all_workbooks:\n",
    "    all_worksheets = pd.read_excel(workbook, sheet_name=None, index_col=None)\n",
    "    workbook_total_sales = []\n",
    "    workbook_number_of_sales = []\n",
    "    worksheet_data_frames = []\n",
    "    worksheets_data_frame = None\n",
    "    workbook_data_frame = None\n",
    "    for worksheet_name, data in all_worksheets.items():\n",
    "        total_sales = pd.DataFrame([float(str(value).strip('$').replace(',','')) for value in data.loc[:, 'Sale Amount']]).sum()\n",
    "        number_of_sales = len(data.loc[:, 'Sale Amount'])\n",
    "        average_sales = pd.DataFrame(total_sales / number_of_sales)\n",
    "        \n",
    "        workbook_total_sales.append(total_sales)\n",
    "        workbook_number_of_sales.append(number_of_sales)\n",
    "        \n",
    "        data = {\n",
    "            'workbook': os.path.basename(workbook),\n",
    "            'worksheet': worksheet_name,\n",
    "            'worksheet_total': total_sales,\n",
    "            'worksheet_average': average_sales\n",
    "        }\n",
    "        \n",
    "        worksheet_data_frames.append(pd.DataFrame([data], columns=['workbook', 'worksheet', 'worksheet_total', 'worksheet_average']))\n",
    "    worksheets_data_frame = pd.concat(worksheet_data_frames, axis=0, ignore_index=True)\n",
    "    workbook_total = pd.DataFrame(workbook_total_sales).sum()\n",
    "    workbook_total_number_of_sales = pd.DataFrame(workbook_number_of_sales).sum()\n",
    "    workbook_average = pd.DataFrame(workbook_total / workbook_total_number_of_sales)\n",
    "    workbook_stats = {\n",
    "        'workbook': os.path.basename(workbook),\n",
    "        'workbook_total': workbook_total,\n",
    "        'workbook_average': workbook_average\n",
    "    }\n",
    "    workbook_stats = pd.DataFrame([workbook_stats], columns=['workbook', 'workbook_total', 'workbook_average'])\n",
    "    workbook_data_frame = pd.merge(worksheets_data_frame, workbook_stats, on='workbook', how='left')\n",
    "    data_frames.append(workbook_data_frame)\n",
    "\n",
    "all_data_concetenated = pd.concat(data_frames, axis=0, ignore_index=True)"
   ]
  },
  {
   "cell_type": "code",
   "execution_count": 11,
   "metadata": {},
   "outputs": [],
   "source": [
    "writer = pd.ExcelWriter(output_file)\n",
    "\n",
    "all_data_concetenated.to_excel(writer, sheet_name='all_data_all_workbooks', index=False)\n",
    "\n",
    "writer.save()"
   ]
  },
  {
   "cell_type": "code",
   "execution_count": null,
   "metadata": {},
   "outputs": [],
   "source": []
  }
 ],
 "metadata": {
  "kernelspec": {
   "display_name": "Python 3",
   "language": "python",
   "name": "python3"
  },
  "language_info": {
   "codemirror_mode": {
    "name": "ipython",
    "version": 3
   },
   "file_extension": ".py",
   "mimetype": "text/x-python",
   "name": "python",
   "nbconvert_exporter": "python",
   "pygments_lexer": "ipython3",
   "version": "3.7.3"
  }
 },
 "nbformat": 4,
 "nbformat_minor": 2
}
