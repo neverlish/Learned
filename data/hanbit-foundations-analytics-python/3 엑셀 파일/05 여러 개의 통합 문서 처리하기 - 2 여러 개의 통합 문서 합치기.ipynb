{
 "cells": [
  {
   "cell_type": "markdown",
   "metadata": {},
   "source": [
    "## 기본 파이썬"
   ]
  },
  {
   "cell_type": "code",
   "execution_count": 1,
   "metadata": {},
   "outputs": [],
   "source": [
    "import glob\n",
    "import os\n",
    "from datetime import date\n",
    "from xlrd import open_workbook, xldate_as_tuple\n",
    "from xlwt import Workbook"
   ]
  },
  {
   "cell_type": "code",
   "execution_count": 2,
   "metadata": {},
   "outputs": [],
   "source": [
    "input_folder = './data/'\n",
    "output_file = './output_files/05-2 output.xls'"
   ]
  },
  {
   "cell_type": "code",
   "execution_count": 3,
   "metadata": {},
   "outputs": [],
   "source": [
    "output_workbook = Workbook()\n",
    "output_worksheet = output_workbook.add_sheet('all_data_all_workbooks')"
   ]
  },
  {
   "cell_type": "code",
   "execution_count": 4,
   "metadata": {},
   "outputs": [
    {
     "name": "stdout",
     "output_type": "stream",
     "text": [
      "sales_2014.xlsx\n",
      "sales_2015.xlsx\n",
      "sales_2013.xlsx\n"
     ]
    }
   ],
   "source": [
    "data = []\n",
    "\n",
    "first_worksheet = True\n",
    "\n",
    "for input_file in glob.glob(os.path.join(input_folder, '*.xls*')):\n",
    "    print(os.path.basename(input_file))\n",
    "    with open_workbook(input_file) as workbook:\n",
    "        for worksheet in workbook.sheets():\n",
    "            if first_worksheet:\n",
    "                header_row = worksheet.row_values(0)\n",
    "                data.append(header_row)\n",
    "                first_worksheet = False\n",
    "            for row_index in range(1, worksheet.nrows):\n",
    "                row_list = []\n",
    "                for column_index in range(worksheet.ncols):\n",
    "                    cell_value = worksheet.cell_value(row_index, column_index)\n",
    "                    cell_type = worksheet.cell_type(row_index, column_index)\n",
    "                    if cell_type == 3:\n",
    "                        date_cell = xldate_as_tuple(cell_value, workbook.datemode)\n",
    "                        date_cell = date(*date_cell[0:3]).strftime('%m/%d/%Y')\n",
    "                        row_list.append(date_cell)\n",
    "                    else:\n",
    "                        row_list.append(cell_value)    \n",
    "                data.append(row_list)\n",
    "for list_index, output_list in enumerate(data):\n",
    "    for element_index, element in enumerate(output_list):\n",
    "        output_worksheet.write(list_index, element_index, element)\n",
    "output_workbook.save(output_file)"
   ]
  },
  {
   "cell_type": "markdown",
   "metadata": {},
   "source": [
    "## 팬더스"
   ]
  },
  {
   "cell_type": "code",
   "execution_count": 5,
   "metadata": {},
   "outputs": [],
   "source": [
    "import pandas as pd\n",
    "\n",
    "output_file = './output_files/05-2 pandas_output.xls'"
   ]
  },
  {
   "cell_type": "code",
   "execution_count": 6,
   "metadata": {},
   "outputs": [],
   "source": [
    "all_workbooks = glob.glob(os.path.join(input_folder, '*.xls*'))\n",
    "\n",
    "data_frames = []\n",
    "\n",
    "for workbook in all_workbooks:\n",
    "    all_worksheets = pd.read_excel(workbook, sheet_name=None, index_col=None)\n",
    "    for workbook_name, data in all_worksheets.items():\n",
    "        data_frames.append(data)\n",
    "all_data_concatenated = pd.concat(data_frames, axis=0, ignore_index=True)"
   ]
  },
  {
   "cell_type": "code",
   "execution_count": 7,
   "metadata": {},
   "outputs": [],
   "source": [
    "writer = pd.ExcelWriter(output_file)\n",
    "\n",
    "all_data_concatenated.to_excel(writer, sheet_name='all_data_all_workbooks', index=False)\n",
    "\n",
    "writer.save()"
   ]
  },
  {
   "cell_type": "code",
   "execution_count": null,
   "metadata": {},
   "outputs": [],
   "source": []
  }
 ],
 "metadata": {
  "kernelspec": {
   "display_name": "Python 3",
   "language": "python",
   "name": "python3"
  },
  "language_info": {
   "codemirror_mode": {
    "name": "ipython",
    "version": 3
   },
   "file_extension": ".py",
   "mimetype": "text/x-python",
   "name": "python",
   "nbconvert_exporter": "python",
   "pygments_lexer": "ipython3",
   "version": "3.7.3"
  }
 },
 "nbformat": 4,
 "nbformat_minor": 2
}
