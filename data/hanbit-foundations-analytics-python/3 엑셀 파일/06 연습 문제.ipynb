{
 "cells": [
  {
   "cell_type": "markdown",
   "metadata": {},
   "source": [
    "1. 조건, 집합, 정규 표현식을 기반으로 행을 필터링하는 스크립트 중 하나를 수정하여 예제에서 필터링한 행 집합과 다른 조건의 행 집합을 출력하고 출력 파일에 써보자."
   ]
  },
  {
   "cell_type": "markdown",
   "metadata": {},
   "source": [
    "2. 인덱스 값 또는 열 헤더를 기준으로 특정 열을 필터링하는 스크립트 중 하나를 수정하여 예제에서 필터링한 것과 다른 열 집합을 출력하고 출력 파일에 써보자."
   ]
  },
  {
   "cell_type": "markdown",
   "metadata": {},
   "source": [
    "3. 행이나 열을 필터링하는 스크립트 중 한 코드와 여러 통합 문서의 데이터를 결합하여 출력 파일을 생성하는 스크립트의 코드를 합쳐 새로운 파이썬 스크립트를 작성하라."
   ]
  }
 ],
 "metadata": {
  "kernelspec": {
   "display_name": "Python 3",
   "language": "python",
   "name": "python3"
  },
  "language_info": {
   "codemirror_mode": {
    "name": "ipython",
    "version": 3
   },
   "file_extension": ".py",
   "mimetype": "text/x-python",
   "name": "python",
   "nbconvert_exporter": "python",
   "pygments_lexer": "ipython3",
   "version": "3.7.3"
  }
 },
 "nbformat": 4,
 "nbformat_minor": 2
}
