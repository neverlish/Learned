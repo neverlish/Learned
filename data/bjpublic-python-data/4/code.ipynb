{
 "cells": [
  {
   "cell_type": "markdown",
   "metadata": {},
   "source": [
    "## Selenium 사용하기"
   ]
  },
  {
   "cell_type": "code",
   "execution_count": 1,
   "metadata": {},
   "outputs": [],
   "source": [
    "from selenium import webdriver"
   ]
  },
  {
   "cell_type": "code",
   "execution_count": 2,
   "metadata": {
    "scrolled": true
   },
   "outputs": [],
   "source": [
    "driver = webdriver.Chrome('./chromedriver')\n",
    "driver.get('http://naver.com')"
   ]
  },
  {
   "cell_type": "code",
   "execution_count": 3,
   "metadata": {},
   "outputs": [
    {
     "name": "stderr",
     "output_type": "stream",
     "text": [
      "/anaconda3/lib/python3.7/site-packages/selenium/webdriver/remote/webdriver.py:1031: UserWarning: name used for saved screenshot does not match file type. It should end with a `.png` extension\n",
      "  \"type. It should end with a `.png` extension\", UserWarning)\n"
     ]
    },
    {
     "data": {
      "text/plain": [
       "True"
      ]
     },
     "execution_count": 3,
     "metadata": {},
     "output_type": "execute_result"
    }
   ],
   "source": [
    "driver.save_screenshot('./001.jpg')"
   ]
  },
  {
   "cell_type": "code",
   "execution_count": 4,
   "metadata": {},
   "outputs": [],
   "source": [
    "import os\n",
    "\n",
    "driver.get('https://nid.naver.com/nidlogin.login?mode=form&url=https%3A%2F%2Fwww.naver.com')\n",
    "\n",
    "elem_login = driver.find_element_by_id('id')\n",
    "elem_login.clear()\n",
    "elem_login.send_keys(os.environ['NAVER_ID'])\n",
    "\n",
    "elem_login = driver.find_element_by_id('pw')\n",
    "elem_login.clear()\n",
    "elem_login.send_keys(os.environ['NAVER_PASSWORD'])"
   ]
  },
  {
   "cell_type": "code",
   "execution_count": 5,
   "metadata": {},
   "outputs": [],
   "source": [
    "xpath = '''//*[@id=\"frmNIDLogin\"]/fieldset/input'''\n",
    "driver.find_element_by_xpath(xpath).click()"
   ]
  },
  {
   "cell_type": "code",
   "execution_count": 10,
   "metadata": {},
   "outputs": [],
   "source": [
    "driver.get('http://mail.naver.com')"
   ]
  },
  {
   "cell_type": "code",
   "execution_count": 11,
   "metadata": {},
   "outputs": [],
   "source": [
    "from bs4 import BeautifulSoup\n",
    "\n",
    "html = driver.page_source\n",
    "soup = BeautifulSoup(html, 'html.parser')"
   ]
  },
  {
   "cell_type": "code",
   "execution_count": 12,
   "metadata": {},
   "outputs": [
    {
     "data": {
      "text/plain": [
       "[<div class=\"name _ccr(lst.from)\"><span class=\"blind\">보낸 이:</span><a class=\"_c1(myContextMenu|showSenderContextLayer|list|1367) _stopDefault\" href=\"#\" title='\"네이버\" &lt;help@help.naver.com&gt;'>네이버</a></div>,\n",
       " <div class=\"name _ccr(lst.from)\"><span class=\"blind\">보낸 이:</span><a class=\"_c1(myContextMenu|showSenderContextLayer|list|1366) _stopDefault\" href=\"#\" title='\"네이버\" &lt;help@help.naver.com&gt;'>네이버</a></div>,\n",
       " <div class=\"name _ccr(lst.from)\"><span class=\"blind\">보낸 이:</span><a class=\"_c1(myContextMenu|showSenderContextLayer|list|1364) _stopDefault\" href=\"#\" title='\"(주)KRT여행사\" &lt;webmaster@krt.co.kr&gt;'>(주)KRT여행사</a></div>,\n",
       " <div class=\"name _ccr(lst.from)\"><span class=\"blind\">보낸 이:</span><a class=\"_c1(myContextMenu|showSenderContextLayer|list|1363) _stopDefault\" href=\"#\" title='\"(주)KRT여행사\" &lt;webmaster@krt.co.kr&gt;'>(주)KRT여행사</a></div>,\n",
       " <div class=\"name _ccr(lst.from)\"><span class=\"blind\">보낸 이:</span><a class=\"_c1(myContextMenu|showSenderContextLayer|list|1362) _stopDefault\" href=\"#\" title='\"Twitter\" &lt;info@twitter.com&gt;'>Twitter</a></div>,\n",
       " <div class=\"name _ccr(lst.from)\"><span class=\"blind\">보낸 이:</span><a class=\"_c1(myContextMenu|showSenderContextLayer|list|1353) _stopDefault\" href=\"#\" title='\"edwith - Course Staff\" &lt;no-reply@edwith.org&gt;'>edwith - Course Staf..</a></div>,\n",
       " <div class=\"name _ccr(lst.from)\"><span class=\"blind\">보낸 이:</span><a class=\"_c1(myContextMenu|showSenderContextLayer|list|1350) _stopDefault\" href=\"#\" title='\"edwith - Course Staff\" &lt;no-reply@edwith.org&gt;'>edwith - Course Staf..</a></div>,\n",
       " <div class=\"name _ccr(lst.from)\"><span class=\"blind\">보낸 이:</span><a class=\"_c1(myContextMenu|showSenderContextLayer|list|1349) _stopDefault\" href=\"#\" title='\"(주)KRT여행사\" &lt;webmaster@krt.co.kr&gt;'>(주)KRT여행사</a></div>,\n",
       " <div class=\"name _ccr(lst.from)\"><span class=\"blind\">보낸 이:</span><a class=\"_c1(myContextMenu|showSenderContextLayer|list|1347) _stopDefault\" href=\"#\" title='\"아마존웹서비스\" &lt;aws-korea-marketing@amazon.com&gt;'>아마존웹서비스</a></div>,\n",
       " <div class=\"name _ccr(lst.from)\"><span class=\"blind\">보낸 이:</span><a class=\"_c1(myContextMenu|showSenderContextLayer|list|1346) _stopDefault\" href=\"#\" title='\"(주)KRT여행사\" &lt;webmaster@krt.co.kr&gt;'>(주)KRT여행사</a></div>,\n",
       " <div class=\"name _ccr(lst.from)\"><span class=\"blind\">보낸 이:</span><a class=\"_c1(myContextMenu|showSenderContextLayer|list|1345) _stopDefault\" href=\"#\" title='\"Twitter\" &lt;info@twitter.com&gt;'>Twitter</a></div>,\n",
       " <div class=\"name _ccr(lst.from)\"><span class=\"blind\">보낸 이:</span><a class=\"_c1(myContextMenu|showSenderContextLayer|list|1344) _stopDefault\" href=\"#\" title='\"Microsoft\" &lt;msa@communication.microsoft.com&gt;'>Microsoft</a></div>,\n",
       " <div class=\"name _ccr(lst.from)\"><span class=\"blind\">보낸 이:</span><a class=\"_c1(myContextMenu|showSenderContextLayer|list|1343) _stopDefault\" href=\"#\" title='\"edwith - Course Staff\" &lt;no-reply@edwith.org&gt;'>edwith - Course Staf..</a></div>,\n",
       " <div class=\"name _ccr(lst.from)\"><span class=\"blind\">보낸 이:</span><a class=\"_c1(myContextMenu|showSenderContextLayer|list|1342) _stopDefault\" href=\"#\" title='\"edwith - Course Staff\" &lt;no-reply@edwith.org&gt;'>edwith - Course Staf..</a></div>,\n",
       " <div class=\"name _ccr(lst.from)\"><span class=\"blind\">보낸 이:</span><a class=\"_c1(myContextMenu|showSenderContextLayer|list|1341) _stopDefault\" href=\"#\" title='\"(주)KRT여행사\" &lt;webmaster@krt.co.kr&gt;'>(주)KRT여행사</a></div>]"
      ]
     },
     "execution_count": 12,
     "metadata": {},
     "output_type": "execute_result"
    }
   ],
   "source": [
    "raw_list = soup.find_all('div', 'name _ccr(lst.from)')\n",
    "raw_list"
   ]
  },
  {
   "cell_type": "code",
   "execution_count": 13,
   "metadata": {
    "scrolled": true
   },
   "outputs": [
    {
     "data": {
      "text/plain": [
       "['네이버',\n",
       " '네이버',\n",
       " '(주)KRT여행사',\n",
       " '(주)KRT여행사',\n",
       " 'Twitter',\n",
       " 'edwith - Course Staf..',\n",
       " 'edwith - Course Staf..',\n",
       " '(주)KRT여행사',\n",
       " '아마존웹서비스',\n",
       " '(주)KRT여행사',\n",
       " 'Twitter',\n",
       " 'Microsoft',\n",
       " 'edwith - Course Staf..',\n",
       " 'edwith - Course Staf..',\n",
       " '(주)KRT여행사']"
      ]
     },
     "execution_count": 13,
     "metadata": {},
     "output_type": "execute_result"
    }
   ],
   "source": [
    "send_list = [raw_list[n].find('a').get_text() for n in range(0, len(raw_list))]\n",
    "send_list"
   ]
  },
  {
   "cell_type": "code",
   "execution_count": 14,
   "metadata": {},
   "outputs": [],
   "source": [
    "driver.close()"
   ]
  }
 ],
 "metadata": {
  "kernelspec": {
   "display_name": "Python 3",
   "language": "python",
   "name": "python3"
  },
  "language_info": {
   "codemirror_mode": {
    "name": "ipython",
    "version": 3
   },
   "file_extension": ".py",
   "mimetype": "text/x-python",
   "name": "python",
   "nbconvert_exporter": "python",
   "pygments_lexer": "ipython3",
   "version": "3.7.3"
  }
 },
 "nbformat": 4,
 "nbformat_minor": 2
}
