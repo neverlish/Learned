{
 "cells": [
  {
   "cell_type": "markdown",
   "metadata": {},
   "source": [
    "## Selenium 사용하기"
   ]
  },
  {
   "cell_type": "code",
   "execution_count": 1,
   "metadata": {},
   "outputs": [],
   "source": [
    "from selenium import webdriver"
   ]
  },
  {
   "cell_type": "code",
   "execution_count": 2,
   "metadata": {
    "scrolled": true
   },
   "outputs": [],
   "source": [
    "driver = webdriver.Chrome('./chromedriver')\n",
    "driver.get('http://naver.com')"
   ]
  },
  {
   "cell_type": "code",
   "execution_count": 3,
   "metadata": {},
   "outputs": [
    {
     "name": "stderr",
     "output_type": "stream",
     "text": [
      "/anaconda3/lib/python3.7/site-packages/selenium/webdriver/remote/webdriver.py:1031: UserWarning: name used for saved screenshot does not match file type. It should end with a `.png` extension\n",
      "  \"type. It should end with a `.png` extension\", UserWarning)\n"
     ]
    },
    {
     "data": {
      "text/plain": [
       "True"
      ]
     },
     "execution_count": 3,
     "metadata": {},
     "output_type": "execute_result"
    }
   ],
   "source": [
    "driver.save_screenshot('./001.jpg')"
   ]
  },
  {
   "cell_type": "code",
   "execution_count": 4,
   "metadata": {},
   "outputs": [],
   "source": [
    "import os\n",
    "\n",
    "driver.get('https://nid.naver.com/nidlogin.login?mode=form&url=https%3A%2F%2Fwww.naver.com')\n",
    "\n",
    "elem_login = driver.find_element_by_id('id')\n",
    "elem_login.clear()\n",
    "elem_login.send_keys(os.environ['NAVER_ID'])\n",
    "\n",
    "elem_login = driver.find_element_by_id('pw')\n",
    "elem_login.clear()\n",
    "elem_login.send_keys(os.environ['NAVER_PASSWORD'])"
   ]
  },
  {
   "cell_type": "code",
   "execution_count": 5,
   "metadata": {},
   "outputs": [],
   "source": [
    "xpath = '''//*[@id=\"frmNIDLogin\"]/fieldset/input'''\n",
    "driver.find_element_by_xpath(xpath).click()"
   ]
  },
  {
   "cell_type": "code",
   "execution_count": 10,
   "metadata": {},
   "outputs": [],
   "source": [
    "driver.get('http://mail.naver.com')"
   ]
  },
  {
   "cell_type": "code",
   "execution_count": 11,
   "metadata": {},
   "outputs": [],
   "source": [
    "from bs4 import BeautifulSoup\n",
    "\n",
    "html = driver.page_source\n",
    "soup = BeautifulSoup(html, 'html.parser')"
   ]
  },
  {
   "cell_type": "code",
   "execution_count": 12,
   "metadata": {},
   "outputs": [
    {
     "data": {
      "text/plain": [
       "[<div class=\"name _ccr(lst.from)\"><span class=\"blind\">보낸 이:</span><a class=\"_c1(myContextMenu|showSenderContextLayer|list|1367) _stopDefault\" href=\"#\" title='\"네이버\" &lt;help@help.naver.com&gt;'>네이버</a></div>,\n",
       " <div class=\"name _ccr(lst.from)\"><span class=\"blind\">보낸 이:</span><a class=\"_c1(myContextMenu|showSenderContextLayer|list|1366) _stopDefault\" href=\"#\" title='\"네이버\" &lt;help@help.naver.com&gt;'>네이버</a></div>,\n",
       " <div class=\"name _ccr(lst.from)\"><span class=\"blind\">보낸 이:</span><a class=\"_c1(myContextMenu|showSenderContextLayer|list|1364) _stopDefault\" href=\"#\" title='\"(주)KRT여행사\" &lt;webmaster@krt.co.kr&gt;'>(주)KRT여행사</a></div>,\n",
       " <div class=\"name _ccr(lst.from)\"><span class=\"blind\">보낸 이:</span><a class=\"_c1(myContextMenu|showSenderContextLayer|list|1363) _stopDefault\" href=\"#\" title='\"(주)KRT여행사\" &lt;webmaster@krt.co.kr&gt;'>(주)KRT여행사</a></div>,\n",
       " <div class=\"name _ccr(lst.from)\"><span class=\"blind\">보낸 이:</span><a class=\"_c1(myContextMenu|showSenderContextLayer|list|1362) _stopDefault\" href=\"#\" title='\"Twitter\" &lt;info@twitter.com&gt;'>Twitter</a></div>,\n",
       " <div class=\"name _ccr(lst.from)\"><span class=\"blind\">보낸 이:</span><a class=\"_c1(myContextMenu|showSenderContextLayer|list|1353) _stopDefault\" href=\"#\" title='\"edwith - Course Staff\" &lt;no-reply@edwith.org&gt;'>edwith - Course Staf..</a></div>,\n",
       " <div class=\"name _ccr(lst.from)\"><span class=\"blind\">보낸 이:</span><a class=\"_c1(myContextMenu|showSenderContextLayer|list|1350) _stopDefault\" href=\"#\" title='\"edwith - Course Staff\" &lt;no-reply@edwith.org&gt;'>edwith - Course Staf..</a></div>,\n",
       " <div class=\"name _ccr(lst.from)\"><span class=\"blind\">보낸 이:</span><a class=\"_c1(myContextMenu|showSenderContextLayer|list|1349) _stopDefault\" href=\"#\" title='\"(주)KRT여행사\" &lt;webmaster@krt.co.kr&gt;'>(주)KRT여행사</a></div>,\n",
       " <div class=\"name _ccr(lst.from)\"><span class=\"blind\">보낸 이:</span><a class=\"_c1(myContextMenu|showSenderContextLayer|list|1347) _stopDefault\" href=\"#\" title='\"아마존웹서비스\" &lt;aws-korea-marketing@amazon.com&gt;'>아마존웹서비스</a></div>,\n",
       " <div class=\"name _ccr(lst.from)\"><span class=\"blind\">보낸 이:</span><a class=\"_c1(myContextMenu|showSenderContextLayer|list|1346) _stopDefault\" href=\"#\" title='\"(주)KRT여행사\" &lt;webmaster@krt.co.kr&gt;'>(주)KRT여행사</a></div>,\n",
       " <div class=\"name _ccr(lst.from)\"><span class=\"blind\">보낸 이:</span><a class=\"_c1(myContextMenu|showSenderContextLayer|list|1345) _stopDefault\" href=\"#\" title='\"Twitter\" &lt;info@twitter.com&gt;'>Twitter</a></div>,\n",
       " <div class=\"name _ccr(lst.from)\"><span class=\"blind\">보낸 이:</span><a class=\"_c1(myContextMenu|showSenderContextLayer|list|1344) _stopDefault\" href=\"#\" title='\"Microsoft\" &lt;msa@communication.microsoft.com&gt;'>Microsoft</a></div>,\n",
       " <div class=\"name _ccr(lst.from)\"><span class=\"blind\">보낸 이:</span><a class=\"_c1(myContextMenu|showSenderContextLayer|list|1343) _stopDefault\" href=\"#\" title='\"edwith - Course Staff\" &lt;no-reply@edwith.org&gt;'>edwith - Course Staf..</a></div>,\n",
       " <div class=\"name _ccr(lst.from)\"><span class=\"blind\">보낸 이:</span><a class=\"_c1(myContextMenu|showSenderContextLayer|list|1342) _stopDefault\" href=\"#\" title='\"edwith - Course Staff\" &lt;no-reply@edwith.org&gt;'>edwith - Course Staf..</a></div>,\n",
       " <div class=\"name _ccr(lst.from)\"><span class=\"blind\">보낸 이:</span><a class=\"_c1(myContextMenu|showSenderContextLayer|list|1341) _stopDefault\" href=\"#\" title='\"(주)KRT여행사\" &lt;webmaster@krt.co.kr&gt;'>(주)KRT여행사</a></div>]"
      ]
     },
     "execution_count": 12,
     "metadata": {},
     "output_type": "execute_result"
    }
   ],
   "source": [
    "raw_list = soup.find_all('div', 'name _ccr(lst.from)')\n",
    "raw_list"
   ]
  },
  {
   "cell_type": "code",
   "execution_count": 13,
   "metadata": {
    "scrolled": true
   },
   "outputs": [
    {
     "data": {
      "text/plain": [
       "['네이버',\n",
       " '네이버',\n",
       " '(주)KRT여행사',\n",
       " '(주)KRT여행사',\n",
       " 'Twitter',\n",
       " 'edwith - Course Staf..',\n",
       " 'edwith - Course Staf..',\n",
       " '(주)KRT여행사',\n",
       " '아마존웹서비스',\n",
       " '(주)KRT여행사',\n",
       " 'Twitter',\n",
       " 'Microsoft',\n",
       " 'edwith - Course Staf..',\n",
       " 'edwith - Course Staf..',\n",
       " '(주)KRT여행사']"
      ]
     },
     "execution_count": 13,
     "metadata": {},
     "output_type": "execute_result"
    }
   ],
   "source": [
    "send_list = [raw_list[n].find('a').get_text() for n in range(0, len(raw_list))]\n",
    "send_list"
   ]
  },
  {
   "cell_type": "code",
   "execution_count": 14,
   "metadata": {},
   "outputs": [],
   "source": [
    "driver.close()"
   ]
  },
  {
   "cell_type": "markdown",
   "metadata": {},
   "source": [
    "## 서울시 구별 주유소 가격 정보 얻기"
   ]
  },
  {
   "cell_type": "code",
   "execution_count": 48,
   "metadata": {},
   "outputs": [],
   "source": [
    "driver = webdriver.Chrome('./chromedriver')\n",
    "driver.get(\"https://www.opinet.co.kr/searRgSelect.do\")\n",
    "driver.get(\"https://www.opinet.co.kr/searRgSelect.do\")"
   ]
  },
  {
   "cell_type": "code",
   "execution_count": 49,
   "metadata": {},
   "outputs": [],
   "source": [
    "gu_list_raw = driver.find_element_by_xpath('//*[@id=\"SIGUNGU_NM0\"]')\n",
    "gu_list = gu_list_raw.find_elements_by_tag_name('option')"
   ]
  },
  {
   "cell_type": "code",
   "execution_count": 50,
   "metadata": {},
   "outputs": [
    {
     "data": {
      "text/plain": [
       "['강남구',\n",
       " '강동구',\n",
       " '강북구',\n",
       " '강서구',\n",
       " '관악구',\n",
       " '광진구',\n",
       " '구로구',\n",
       " '금천구',\n",
       " '노원구',\n",
       " '도봉구',\n",
       " '동대문구',\n",
       " '동작구',\n",
       " '마포구',\n",
       " '서대문구',\n",
       " '서초구',\n",
       " '성동구',\n",
       " '성북구',\n",
       " '송파구',\n",
       " '양천구',\n",
       " '영등포구',\n",
       " '용산구',\n",
       " '은평구',\n",
       " '종로구',\n",
       " '중구',\n",
       " '중랑구']"
      ]
     },
     "execution_count": 50,
     "metadata": {},
     "output_type": "execute_result"
    }
   ],
   "source": [
    "gu_names = [option.get_attribute('value') for option in gu_list]\n",
    "gu_names.remove('')\n",
    "gu_names"
   ]
  },
  {
   "cell_type": "code",
   "execution_count": 51,
   "metadata": {},
   "outputs": [],
   "source": [
    "element = driver.find_element_by_id('SIGUNGU_NM0')\n",
    "element.send_keys(gu_names[0])"
   ]
  },
  {
   "cell_type": "code",
   "execution_count": 52,
   "metadata": {},
   "outputs": [],
   "source": [
    "xpath = '//*[@id=\"searRgSelect\"]'\n",
    "element_sel_gu = driver.find_element_by_xpath(xpath).click()"
   ]
  },
  {
   "cell_type": "code",
   "execution_count": 53,
   "metadata": {},
   "outputs": [],
   "source": [
    "xpath = '//*[@id=\"glopopd_excel\"]'\n",
    "element_get_excel = driver.find_element_by_xpath(xpath).click()"
   ]
  },
  {
   "cell_type": "code",
   "execution_count": 54,
   "metadata": {},
   "outputs": [
    {
     "data": {
      "application/vnd.jupyter.widget-view+json": {
       "model_id": "52426352553747fc800a3a44fa37c0b1",
       "version_major": 2,
       "version_minor": 0
      },
      "text/plain": [
       "HBox(children=(IntProgress(value=0, max=25), HTML(value='')))"
      ]
     },
     "metadata": {},
     "output_type": "display_data"
    }
   ],
   "source": [
    "import time\n",
    "from tqdm import tqdm_notebook\n",
    "\n",
    "for gu in tqdm_notebook(gu_names):\n",
    "    element = driver.find_element_by_id(\"SIGUNGU_NM0\")\n",
    "    element.send_keys(gu)\n",
    "    \n",
    "    time.sleep(2)\n",
    "    \n",
    "    element_sel_gu = driver.find_element_by_xpath('//*[@id=\"searRgSelect\"]').click()\n",
    "    \n",
    "    time.sleep(1)\n",
    "    \n",
    "    element_get_excel = driver.find_element_by_xpath('//*[@id=\"glopopd_excel\"]').click()\n",
    "    \n",
    "    time.sleep(1)"
   ]
  },
  {
   "cell_type": "markdown",
   "metadata": {},
   "source": [
    "## 구별 주유 가격에 대한 데이터의 정리"
   ]
  },
  {
   "cell_type": "code",
   "execution_count": 55,
   "metadata": {},
   "outputs": [],
   "source": [
    "import pandas as pd\n",
    "from glob import glob"
   ]
  },
  {
   "cell_type": "code",
   "execution_count": 57,
   "metadata": {},
   "outputs": [
    {
     "data": {
      "text/plain": [
       "['./지역_위치별(주유소) (9).xls',\n",
       " './지역_위치별(주유소) (12).xls',\n",
       " './지역_위치별(주유소) (5).xls',\n",
       " './지역_위치별(주유소) (24).xls',\n",
       " './지역_위치별(주유소) (25).xls',\n",
       " './지역_위치별(주유소) (4).xls',\n",
       " './지역_위치별(주유소) (13).xls',\n",
       " './지역_위치별(주유소) (8).xls',\n",
       " './지역_위치별(주유소) (3).xls',\n",
       " './지역_위치별(주유소) (18).xls',\n",
       " './지역_위치별(주유소) (22).xls',\n",
       " './지역_위치별(주유소) (14).xls',\n",
       " './지역_위치별(주유소) (15).xls',\n",
       " './지역_위치별(주유소) (23).xls',\n",
       " './지역_위치별(주유소) (19).xls',\n",
       " './지역_위치별(주유소) (2).xls',\n",
       " './지역_위치별(주유소) (20).xls',\n",
       " './지역_위치별(주유소) (1).xls',\n",
       " './지역_위치별(주유소) (16).xls',\n",
       " './지역_위치별(주유소) (17).xls',\n",
       " './지역_위치별(주유소) (21).xls',\n",
       " './지역_위치별(주유소) (10).xls',\n",
       " './지역_위치별(주유소) (7).xls',\n",
       " './지역_위치별(주유소) (6).xls',\n",
       " './지역_위치별(주유소) (11).xls']"
      ]
     },
     "execution_count": 57,
     "metadata": {},
     "output_type": "execute_result"
    }
   ],
   "source": [
    "glob('./지역*.xls')"
   ]
  },
  {
   "cell_type": "code",
   "execution_count": 58,
   "metadata": {},
   "outputs": [
    {
     "data": {
      "text/plain": [
       "['./지역_위치별(주유소) (9).xls',\n",
       " './지역_위치별(주유소) (12).xls',\n",
       " './지역_위치별(주유소) (5).xls',\n",
       " './지역_위치별(주유소) (24).xls',\n",
       " './지역_위치별(주유소) (25).xls',\n",
       " './지역_위치별(주유소) (4).xls',\n",
       " './지역_위치별(주유소) (13).xls',\n",
       " './지역_위치별(주유소) (8).xls',\n",
       " './지역_위치별(주유소) (3).xls',\n",
       " './지역_위치별(주유소) (18).xls',\n",
       " './지역_위치별(주유소) (22).xls',\n",
       " './지역_위치별(주유소) (14).xls',\n",
       " './지역_위치별(주유소) (15).xls',\n",
       " './지역_위치별(주유소) (23).xls',\n",
       " './지역_위치별(주유소) (19).xls',\n",
       " './지역_위치별(주유소) (2).xls',\n",
       " './지역_위치별(주유소) (20).xls',\n",
       " './지역_위치별(주유소) (1).xls',\n",
       " './지역_위치별(주유소) (16).xls',\n",
       " './지역_위치별(주유소) (17).xls',\n",
       " './지역_위치별(주유소) (21).xls',\n",
       " './지역_위치별(주유소) (10).xls',\n",
       " './지역_위치별(주유소) (7).xls',\n",
       " './지역_위치별(주유소) (6).xls',\n",
       " './지역_위치별(주유소) (11).xls']"
      ]
     },
     "execution_count": 58,
     "metadata": {},
     "output_type": "execute_result"
    }
   ],
   "source": [
    "station_files = glob('./지역*.xls')\n",
    "station_files"
   ]
  },
  {
   "cell_type": "code",
   "execution_count": 59,
   "metadata": {},
   "outputs": [],
   "source": [
    "tmp_raw = []\n",
    "\n",
    "for file_name in station_files:\n",
    "    tmp = pd.read_excel(file_name, header=2)\n",
    "    tmp_raw.append(tmp)\n",
    "    \n",
    "station_raw = pd.concat(tmp_raw)"
   ]
  },
  {
   "cell_type": "code",
   "execution_count": 60,
   "metadata": {},
   "outputs": [
    {
     "name": "stdout",
     "output_type": "stream",
     "text": [
      "<class 'pandas.core.frame.DataFrame'>\n",
      "Int64Index: 506 entries, 0 to 21\n",
      "Data columns (total 10 columns):\n",
      "지역       506 non-null object\n",
      "상호       506 non-null object\n",
      "주소       506 non-null object\n",
      "상표       506 non-null object\n",
      "전화번호     506 non-null object\n",
      "셀프여부     506 non-null object\n",
      "고급휘발유    506 non-null object\n",
      "휘발유      506 non-null object\n",
      "경유       506 non-null object\n",
      "실내등유     506 non-null object\n",
      "dtypes: object(10)\n",
      "memory usage: 43.5+ KB\n"
     ]
    }
   ],
   "source": [
    "station_raw.info()"
   ]
  },
  {
   "cell_type": "code",
   "execution_count": 61,
   "metadata": {},
   "outputs": [
    {
     "data": {
      "text/html": [
       "<div>\n",
       "<style scoped>\n",
       "    .dataframe tbody tr th:only-of-type {\n",
       "        vertical-align: middle;\n",
       "    }\n",
       "\n",
       "    .dataframe tbody tr th {\n",
       "        vertical-align: top;\n",
       "    }\n",
       "\n",
       "    .dataframe thead th {\n",
       "        text-align: right;\n",
       "    }\n",
       "</style>\n",
       "<table border=\"1\" class=\"dataframe\">\n",
       "  <thead>\n",
       "    <tr style=\"text-align: right;\">\n",
       "      <th></th>\n",
       "      <th>지역</th>\n",
       "      <th>상호</th>\n",
       "      <th>주소</th>\n",
       "      <th>상표</th>\n",
       "      <th>전화번호</th>\n",
       "      <th>셀프여부</th>\n",
       "      <th>고급휘발유</th>\n",
       "      <th>휘발유</th>\n",
       "      <th>경유</th>\n",
       "      <th>실내등유</th>\n",
       "    </tr>\n",
       "  </thead>\n",
       "  <tbody>\n",
       "    <tr>\n",
       "      <th>0</th>\n",
       "      <td>서울특별시</td>\n",
       "      <td>월계주유소</td>\n",
       "      <td>서울 노원구 월계로 252 (월계동)</td>\n",
       "      <td>GS칼텍스</td>\n",
       "      <td>02-917-7650</td>\n",
       "      <td>Y</td>\n",
       "      <td>-</td>\n",
       "      <td>1487</td>\n",
       "      <td>1357</td>\n",
       "      <td>1099</td>\n",
       "    </tr>\n",
       "    <tr>\n",
       "      <th>1</th>\n",
       "      <td>서울특별시</td>\n",
       "      <td>삼육주유소</td>\n",
       "      <td>서울 노원구 화랑로 822 (공릉동)</td>\n",
       "      <td>SK에너지</td>\n",
       "      <td>02-949-3677</td>\n",
       "      <td>Y</td>\n",
       "      <td>-</td>\n",
       "      <td>1495</td>\n",
       "      <td>1370</td>\n",
       "      <td>1100</td>\n",
       "    </tr>\n",
       "    <tr>\n",
       "      <th>2</th>\n",
       "      <td>서울특별시</td>\n",
       "      <td>(주)소모에너지엔테크놀러지 수락산주유소</td>\n",
       "      <td>서울 노원구 동일로 1772</td>\n",
       "      <td>GS칼텍스</td>\n",
       "      <td>02-3392-5656</td>\n",
       "      <td>Y</td>\n",
       "      <td>-</td>\n",
       "      <td>1496</td>\n",
       "      <td>1369</td>\n",
       "      <td>1190</td>\n",
       "    </tr>\n",
       "    <tr>\n",
       "      <th>3</th>\n",
       "      <td>서울특별시</td>\n",
       "      <td>태릉솔밭주유소</td>\n",
       "      <td>서울 노원구 노원로 49 (공릉동)</td>\n",
       "      <td>S-OIL</td>\n",
       "      <td>02-976-5189</td>\n",
       "      <td>Y</td>\n",
       "      <td>1648</td>\n",
       "      <td>1498</td>\n",
       "      <td>1358</td>\n",
       "      <td>-</td>\n",
       "    </tr>\n",
       "    <tr>\n",
       "      <th>4</th>\n",
       "      <td>서울특별시</td>\n",
       "      <td>(주)이엠배꽃나라주유소</td>\n",
       "      <td>서울 노원구 화랑로 466 (공릉동)</td>\n",
       "      <td>GS칼텍스</td>\n",
       "      <td>02-973-5172</td>\n",
       "      <td>Y</td>\n",
       "      <td>1738</td>\n",
       "      <td>1498</td>\n",
       "      <td>1358</td>\n",
       "      <td>1050</td>\n",
       "    </tr>\n",
       "  </tbody>\n",
       "</table>\n",
       "</div>"
      ],
      "text/plain": [
       "      지역                     상호                    주소     상표          전화번호  \\\n",
       "0  서울특별시                  월계주유소  서울 노원구 월계로 252 (월계동)  GS칼텍스   02-917-7650   \n",
       "1  서울특별시                  삼육주유소  서울 노원구 화랑로 822 (공릉동)  SK에너지   02-949-3677   \n",
       "2  서울특별시  (주)소모에너지엔테크놀러지 수락산주유소       서울 노원구 동일로 1772  GS칼텍스  02-3392-5656   \n",
       "3  서울특별시                태릉솔밭주유소   서울 노원구 노원로 49 (공릉동)  S-OIL   02-976-5189   \n",
       "4  서울특별시           (주)이엠배꽃나라주유소  서울 노원구 화랑로 466 (공릉동)  GS칼텍스   02-973-5172   \n",
       "\n",
       "  셀프여부 고급휘발유   휘발유    경유  실내등유  \n",
       "0    Y     -  1487  1357  1099  \n",
       "1    Y     -  1495  1370  1100  \n",
       "2    Y     -  1496  1369  1190  \n",
       "3    Y  1648  1498  1358     -  \n",
       "4    Y  1738  1498  1358  1050  "
      ]
     },
     "execution_count": 61,
     "metadata": {},
     "output_type": "execute_result"
    }
   ],
   "source": [
    "station_raw.head()"
   ]
  },
  {
   "cell_type": "code",
   "execution_count": 62,
   "metadata": {},
   "outputs": [
    {
     "data": {
      "text/html": [
       "<div>\n",
       "<style scoped>\n",
       "    .dataframe tbody tr th:only-of-type {\n",
       "        vertical-align: middle;\n",
       "    }\n",
       "\n",
       "    .dataframe tbody tr th {\n",
       "        vertical-align: top;\n",
       "    }\n",
       "\n",
       "    .dataframe thead th {\n",
       "        text-align: right;\n",
       "    }\n",
       "</style>\n",
       "<table border=\"1\" class=\"dataframe\">\n",
       "  <thead>\n",
       "    <tr style=\"text-align: right;\">\n",
       "      <th></th>\n",
       "      <th>Oil_store</th>\n",
       "      <th>주소</th>\n",
       "      <th>가격</th>\n",
       "      <th>셀프</th>\n",
       "      <th>상표</th>\n",
       "    </tr>\n",
       "  </thead>\n",
       "  <tbody>\n",
       "    <tr>\n",
       "      <th>0</th>\n",
       "      <td>월계주유소</td>\n",
       "      <td>서울 노원구 월계로 252 (월계동)</td>\n",
       "      <td>1487</td>\n",
       "      <td>Y</td>\n",
       "      <td>GS칼텍스</td>\n",
       "    </tr>\n",
       "    <tr>\n",
       "      <th>1</th>\n",
       "      <td>삼육주유소</td>\n",
       "      <td>서울 노원구 화랑로 822 (공릉동)</td>\n",
       "      <td>1495</td>\n",
       "      <td>Y</td>\n",
       "      <td>SK에너지</td>\n",
       "    </tr>\n",
       "    <tr>\n",
       "      <th>2</th>\n",
       "      <td>(주)소모에너지엔테크놀러지 수락산주유소</td>\n",
       "      <td>서울 노원구 동일로 1772</td>\n",
       "      <td>1496</td>\n",
       "      <td>Y</td>\n",
       "      <td>GS칼텍스</td>\n",
       "    </tr>\n",
       "    <tr>\n",
       "      <th>3</th>\n",
       "      <td>태릉솔밭주유소</td>\n",
       "      <td>서울 노원구 노원로 49 (공릉동)</td>\n",
       "      <td>1498</td>\n",
       "      <td>Y</td>\n",
       "      <td>S-OIL</td>\n",
       "    </tr>\n",
       "    <tr>\n",
       "      <th>4</th>\n",
       "      <td>(주)이엠배꽃나라주유소</td>\n",
       "      <td>서울 노원구 화랑로 466 (공릉동)</td>\n",
       "      <td>1498</td>\n",
       "      <td>Y</td>\n",
       "      <td>GS칼텍스</td>\n",
       "    </tr>\n",
       "  </tbody>\n",
       "</table>\n",
       "</div>"
      ],
      "text/plain": [
       "               Oil_store                    주소    가격 셀프     상표\n",
       "0                  월계주유소  서울 노원구 월계로 252 (월계동)  1487  Y  GS칼텍스\n",
       "1                  삼육주유소  서울 노원구 화랑로 822 (공릉동)  1495  Y  SK에너지\n",
       "2  (주)소모에너지엔테크놀러지 수락산주유소       서울 노원구 동일로 1772  1496  Y  GS칼텍스\n",
       "3                태릉솔밭주유소   서울 노원구 노원로 49 (공릉동)  1498  Y  S-OIL\n",
       "4           (주)이엠배꽃나라주유소  서울 노원구 화랑로 466 (공릉동)  1498  Y  GS칼텍스"
      ]
     },
     "execution_count": 62,
     "metadata": {},
     "output_type": "execute_result"
    }
   ],
   "source": [
    "stations = pd.DataFrame({'Oil_store': station_raw['상호'],\n",
    "                        '주소': station_raw['주소'],\n",
    "                        '가격': station_raw['휘발유'],\n",
    "                        '셀프': station_raw['셀프여부'],\n",
    "                        '상표': station_raw['상표']})\n",
    "\n",
    "stations.head()"
   ]
  },
  {
   "cell_type": "code",
   "execution_count": 63,
   "metadata": {},
   "outputs": [
    {
     "data": {
      "text/html": [
       "<div>\n",
       "<style scoped>\n",
       "    .dataframe tbody tr th:only-of-type {\n",
       "        vertical-align: middle;\n",
       "    }\n",
       "\n",
       "    .dataframe tbody tr th {\n",
       "        vertical-align: top;\n",
       "    }\n",
       "\n",
       "    .dataframe thead th {\n",
       "        text-align: right;\n",
       "    }\n",
       "</style>\n",
       "<table border=\"1\" class=\"dataframe\">\n",
       "  <thead>\n",
       "    <tr style=\"text-align: right;\">\n",
       "      <th></th>\n",
       "      <th>Oil_store</th>\n",
       "      <th>주소</th>\n",
       "      <th>가격</th>\n",
       "      <th>셀프</th>\n",
       "      <th>상표</th>\n",
       "      <th>구</th>\n",
       "    </tr>\n",
       "  </thead>\n",
       "  <tbody>\n",
       "    <tr>\n",
       "      <th>0</th>\n",
       "      <td>월계주유소</td>\n",
       "      <td>서울 노원구 월계로 252 (월계동)</td>\n",
       "      <td>1487</td>\n",
       "      <td>Y</td>\n",
       "      <td>GS칼텍스</td>\n",
       "      <td>노원구</td>\n",
       "    </tr>\n",
       "    <tr>\n",
       "      <th>1</th>\n",
       "      <td>삼육주유소</td>\n",
       "      <td>서울 노원구 화랑로 822 (공릉동)</td>\n",
       "      <td>1495</td>\n",
       "      <td>Y</td>\n",
       "      <td>SK에너지</td>\n",
       "      <td>노원구</td>\n",
       "    </tr>\n",
       "    <tr>\n",
       "      <th>2</th>\n",
       "      <td>(주)소모에너지엔테크놀러지 수락산주유소</td>\n",
       "      <td>서울 노원구 동일로 1772</td>\n",
       "      <td>1496</td>\n",
       "      <td>Y</td>\n",
       "      <td>GS칼텍스</td>\n",
       "      <td>노원구</td>\n",
       "    </tr>\n",
       "    <tr>\n",
       "      <th>3</th>\n",
       "      <td>태릉솔밭주유소</td>\n",
       "      <td>서울 노원구 노원로 49 (공릉동)</td>\n",
       "      <td>1498</td>\n",
       "      <td>Y</td>\n",
       "      <td>S-OIL</td>\n",
       "      <td>노원구</td>\n",
       "    </tr>\n",
       "    <tr>\n",
       "      <th>4</th>\n",
       "      <td>(주)이엠배꽃나라주유소</td>\n",
       "      <td>서울 노원구 화랑로 466 (공릉동)</td>\n",
       "      <td>1498</td>\n",
       "      <td>Y</td>\n",
       "      <td>GS칼텍스</td>\n",
       "      <td>노원구</td>\n",
       "    </tr>\n",
       "  </tbody>\n",
       "</table>\n",
       "</div>"
      ],
      "text/plain": [
       "               Oil_store                    주소    가격 셀프     상표    구\n",
       "0                  월계주유소  서울 노원구 월계로 252 (월계동)  1487  Y  GS칼텍스  노원구\n",
       "1                  삼육주유소  서울 노원구 화랑로 822 (공릉동)  1495  Y  SK에너지  노원구\n",
       "2  (주)소모에너지엔테크놀러지 수락산주유소       서울 노원구 동일로 1772  1496  Y  GS칼텍스  노원구\n",
       "3                태릉솔밭주유소   서울 노원구 노원로 49 (공릉동)  1498  Y  S-OIL  노원구\n",
       "4           (주)이엠배꽃나라주유소  서울 노원구 화랑로 466 (공릉동)  1498  Y  GS칼텍스  노원구"
      ]
     },
     "execution_count": 63,
     "metadata": {},
     "output_type": "execute_result"
    }
   ],
   "source": [
    "stations['구'] = [eachAddress.split()[1] for eachAddress in stations['주소']]\n",
    "stations.head()"
   ]
  },
  {
   "cell_type": "code",
   "execution_count": 64,
   "metadata": {},
   "outputs": [
    {
     "data": {
      "text/plain": [
       "array(['노원구', '동작구', '관악구', '중구', '중랑구', '강서구', '마포구', '금천구', '강북구',\n",
       "       '송파구', '은평구', '서대문구', '서초구', '종로구', '양천구', '강동구', '영등포구', '강남구',\n",
       "       '성동구', '성북구', '용산구', '도봉구', '구로구', '광진구', '동대문구'], dtype=object)"
      ]
     },
     "execution_count": 64,
     "metadata": {},
     "output_type": "execute_result"
    }
   ],
   "source": [
    "stations['구'].unique()"
   ]
  },
  {
   "cell_type": "code",
   "execution_count": 65,
   "metadata": {},
   "outputs": [
    {
     "data": {
      "text/html": [
       "<div>\n",
       "<style scoped>\n",
       "    .dataframe tbody tr th:only-of-type {\n",
       "        vertical-align: middle;\n",
       "    }\n",
       "\n",
       "    .dataframe tbody tr th {\n",
       "        vertical-align: top;\n",
       "    }\n",
       "\n",
       "    .dataframe thead th {\n",
       "        text-align: right;\n",
       "    }\n",
       "</style>\n",
       "<table border=\"1\" class=\"dataframe\">\n",
       "  <thead>\n",
       "    <tr style=\"text-align: right;\">\n",
       "      <th></th>\n",
       "      <th>Oil_store</th>\n",
       "      <th>주소</th>\n",
       "      <th>가격</th>\n",
       "      <th>셀프</th>\n",
       "      <th>상표</th>\n",
       "      <th>구</th>\n",
       "    </tr>\n",
       "  </thead>\n",
       "  <tbody>\n",
       "  </tbody>\n",
       "</table>\n",
       "</div>"
      ],
      "text/plain": [
       "Empty DataFrame\n",
       "Columns: [Oil_store, 주소, 가격, 셀프, 상표, 구]\n",
       "Index: []"
      ]
     },
     "execution_count": 65,
     "metadata": {},
     "output_type": "execute_result"
    }
   ],
   "source": [
    "stations[stations['구'] == '서울특별시']"
   ]
  },
  {
   "cell_type": "code",
   "execution_count": 66,
   "metadata": {},
   "outputs": [
    {
     "data": {
      "text/plain": [
       "array(['노원구', '동작구', '관악구', '중구', '중랑구', '강서구', '마포구', '금천구', '강북구',\n",
       "       '송파구', '은평구', '서대문구', '서초구', '종로구', '양천구', '강동구', '영등포구', '강남구',\n",
       "       '성동구', '성북구', '용산구', '도봉구', '구로구', '광진구', '동대문구'], dtype=object)"
      ]
     },
     "execution_count": 66,
     "metadata": {},
     "output_type": "execute_result"
    }
   ],
   "source": [
    "stations.loc[stations['구'] == '서울특별시', '구'] = '성동구'\n",
    "stations['구'].unique()"
   ]
  },
  {
   "cell_type": "code",
   "execution_count": 67,
   "metadata": {},
   "outputs": [
    {
     "data": {
      "text/html": [
       "<div>\n",
       "<style scoped>\n",
       "    .dataframe tbody tr th:only-of-type {\n",
       "        vertical-align: middle;\n",
       "    }\n",
       "\n",
       "    .dataframe tbody tr th {\n",
       "        vertical-align: top;\n",
       "    }\n",
       "\n",
       "    .dataframe thead th {\n",
       "        text-align: right;\n",
       "    }\n",
       "</style>\n",
       "<table border=\"1\" class=\"dataframe\">\n",
       "  <thead>\n",
       "    <tr style=\"text-align: right;\">\n",
       "      <th></th>\n",
       "      <th>Oil_store</th>\n",
       "      <th>주소</th>\n",
       "      <th>가격</th>\n",
       "      <th>셀프</th>\n",
       "      <th>상표</th>\n",
       "      <th>구</th>\n",
       "    </tr>\n",
       "  </thead>\n",
       "  <tbody>\n",
       "  </tbody>\n",
       "</table>\n",
       "</div>"
      ],
      "text/plain": [
       "Empty DataFrame\n",
       "Columns: [Oil_store, 주소, 가격, 셀프, 상표, 구]\n",
       "Index: []"
      ]
     },
     "execution_count": 67,
     "metadata": {},
     "output_type": "execute_result"
    }
   ],
   "source": [
    "stations[stations['구'] == '특별시']"
   ]
  },
  {
   "cell_type": "code",
   "execution_count": 68,
   "metadata": {},
   "outputs": [
    {
     "data": {
      "text/plain": [
       "array(['노원구', '동작구', '관악구', '중구', '중랑구', '강서구', '마포구', '금천구', '강북구',\n",
       "       '송파구', '은평구', '서대문구', '서초구', '종로구', '양천구', '강동구', '영등포구', '강남구',\n",
       "       '성동구', '성북구', '용산구', '도봉구', '구로구', '광진구', '동대문구'], dtype=object)"
      ]
     },
     "execution_count": 68,
     "metadata": {},
     "output_type": "execute_result"
    }
   ],
   "source": [
    "stations.loc[stations['구'] == '특별시', '구'] = '성동구'\n",
    "stations['구'].unique()"
   ]
  },
  {
   "cell_type": "code",
   "execution_count": 69,
   "metadata": {},
   "outputs": [
    {
     "data": {
      "text/html": [
       "<div>\n",
       "<style scoped>\n",
       "    .dataframe tbody tr th:only-of-type {\n",
       "        vertical-align: middle;\n",
       "    }\n",
       "\n",
       "    .dataframe tbody tr th {\n",
       "        vertical-align: top;\n",
       "    }\n",
       "\n",
       "    .dataframe thead th {\n",
       "        text-align: right;\n",
       "    }\n",
       "</style>\n",
       "<table border=\"1\" class=\"dataframe\">\n",
       "  <thead>\n",
       "    <tr style=\"text-align: right;\">\n",
       "      <th></th>\n",
       "      <th>Oil_store</th>\n",
       "      <th>주소</th>\n",
       "      <th>가격</th>\n",
       "      <th>셀프</th>\n",
       "      <th>상표</th>\n",
       "      <th>구</th>\n",
       "    </tr>\n",
       "  </thead>\n",
       "  <tbody>\n",
       "    <tr>\n",
       "      <th>11</th>\n",
       "      <td>망원동주유소</td>\n",
       "      <td>서울 마포구 월드컵로 119 (망원동)</td>\n",
       "      <td>-</td>\n",
       "      <td>N</td>\n",
       "      <td>SK에너지</td>\n",
       "      <td>마포구</td>\n",
       "    </tr>\n",
       "    <tr>\n",
       "      <th>12</th>\n",
       "      <td>(주)승지 염리동주유소</td>\n",
       "      <td>서울 마포구 백범로 126 (염리동)</td>\n",
       "      <td>-</td>\n",
       "      <td>N</td>\n",
       "      <td>현대오일뱅크</td>\n",
       "      <td>마포구</td>\n",
       "    </tr>\n",
       "    <tr>\n",
       "      <th>13</th>\n",
       "      <td>서강주유소</td>\n",
       "      <td>서울 마포구 독막로 134 (창전동)</td>\n",
       "      <td>-</td>\n",
       "      <td>N</td>\n",
       "      <td>SK에너지</td>\n",
       "      <td>마포구</td>\n",
       "    </tr>\n",
       "    <tr>\n",
       "      <th>17</th>\n",
       "      <td>삼융주유소</td>\n",
       "      <td>서울 은평구 수색로 299 (수색동)</td>\n",
       "      <td>-</td>\n",
       "      <td>N</td>\n",
       "      <td>SK에너지</td>\n",
       "      <td>은평구</td>\n",
       "    </tr>\n",
       "    <tr>\n",
       "      <th>25</th>\n",
       "      <td>현대오일뱅크(주)직영 양천셀프주유소</td>\n",
       "      <td>서울 양천구 목동로 17 (신정동)</td>\n",
       "      <td>-</td>\n",
       "      <td>Y</td>\n",
       "      <td>현대오일뱅크</td>\n",
       "      <td>양천구</td>\n",
       "    </tr>\n",
       "    <tr>\n",
       "      <th>40</th>\n",
       "      <td>삼성주유소</td>\n",
       "      <td>서울 강남구 삼성로 521 (삼성동)</td>\n",
       "      <td>-</td>\n",
       "      <td>N</td>\n",
       "      <td>SK에너지</td>\n",
       "      <td>강남구</td>\n",
       "    </tr>\n",
       "    <tr>\n",
       "      <th>41</th>\n",
       "      <td>동우주유소</td>\n",
       "      <td>서울특별시 강남구  봉은사로 311 (논현동)</td>\n",
       "      <td>-</td>\n",
       "      <td>N</td>\n",
       "      <td>SK에너지</td>\n",
       "      <td>강남구</td>\n",
       "    </tr>\n",
       "    <tr>\n",
       "      <th>22</th>\n",
       "      <td>KR누리(주) 종암주유소</td>\n",
       "      <td>서울 성북구 종암로 145 (종암동)</td>\n",
       "      <td>-</td>\n",
       "      <td>N</td>\n",
       "      <td>SK에너지</td>\n",
       "      <td>성북구</td>\n",
       "    </tr>\n",
       "  </tbody>\n",
       "</table>\n",
       "</div>"
      ],
      "text/plain": [
       "              Oil_store                         주소 가격 셀프      상표    구\n",
       "11               망원동주유소      서울 마포구 월드컵로 119 (망원동)  -  N   SK에너지  마포구\n",
       "12         (주)승지 염리동주유소       서울 마포구 백범로 126 (염리동)  -  N  현대오일뱅크  마포구\n",
       "13                서강주유소       서울 마포구 독막로 134 (창전동)  -  N   SK에너지  마포구\n",
       "17                삼융주유소       서울 은평구 수색로 299 (수색동)  -  N   SK에너지  은평구\n",
       "25  현대오일뱅크(주)직영 양천셀프주유소        서울 양천구 목동로 17 (신정동)  -  Y  현대오일뱅크  양천구\n",
       "40                삼성주유소       서울 강남구 삼성로 521 (삼성동)  -  N   SK에너지  강남구\n",
       "41                동우주유소  서울특별시 강남구  봉은사로 311 (논현동)  -  N   SK에너지  강남구\n",
       "22        KR누리(주) 종암주유소       서울 성북구 종암로 145 (종암동)  -  N   SK에너지  성북구"
      ]
     },
     "execution_count": 69,
     "metadata": {},
     "output_type": "execute_result"
    }
   ],
   "source": [
    "stations[stations['가격'] == '-']"
   ]
  },
  {
   "cell_type": "code",
   "execution_count": 70,
   "metadata": {},
   "outputs": [
    {
     "data": {
      "text/html": [
       "<div>\n",
       "<style scoped>\n",
       "    .dataframe tbody tr th:only-of-type {\n",
       "        vertical-align: middle;\n",
       "    }\n",
       "\n",
       "    .dataframe tbody tr th {\n",
       "        vertical-align: top;\n",
       "    }\n",
       "\n",
       "    .dataframe thead th {\n",
       "        text-align: right;\n",
       "    }\n",
       "</style>\n",
       "<table border=\"1\" class=\"dataframe\">\n",
       "  <thead>\n",
       "    <tr style=\"text-align: right;\">\n",
       "      <th></th>\n",
       "      <th>Oil_store</th>\n",
       "      <th>주소</th>\n",
       "      <th>가격</th>\n",
       "      <th>셀프</th>\n",
       "      <th>상표</th>\n",
       "      <th>구</th>\n",
       "    </tr>\n",
       "  </thead>\n",
       "  <tbody>\n",
       "    <tr>\n",
       "      <th>0</th>\n",
       "      <td>월계주유소</td>\n",
       "      <td>서울 노원구 월계로 252 (월계동)</td>\n",
       "      <td>1487</td>\n",
       "      <td>Y</td>\n",
       "      <td>GS칼텍스</td>\n",
       "      <td>노원구</td>\n",
       "    </tr>\n",
       "    <tr>\n",
       "      <th>1</th>\n",
       "      <td>삼육주유소</td>\n",
       "      <td>서울 노원구 화랑로 822 (공릉동)</td>\n",
       "      <td>1495</td>\n",
       "      <td>Y</td>\n",
       "      <td>SK에너지</td>\n",
       "      <td>노원구</td>\n",
       "    </tr>\n",
       "    <tr>\n",
       "      <th>2</th>\n",
       "      <td>(주)소모에너지엔테크놀러지 수락산주유소</td>\n",
       "      <td>서울 노원구 동일로 1772</td>\n",
       "      <td>1496</td>\n",
       "      <td>Y</td>\n",
       "      <td>GS칼텍스</td>\n",
       "      <td>노원구</td>\n",
       "    </tr>\n",
       "    <tr>\n",
       "      <th>3</th>\n",
       "      <td>태릉솔밭주유소</td>\n",
       "      <td>서울 노원구 노원로 49 (공릉동)</td>\n",
       "      <td>1498</td>\n",
       "      <td>Y</td>\n",
       "      <td>S-OIL</td>\n",
       "      <td>노원구</td>\n",
       "    </tr>\n",
       "    <tr>\n",
       "      <th>4</th>\n",
       "      <td>(주)이엠배꽃나라주유소</td>\n",
       "      <td>서울 노원구 화랑로 466 (공릉동)</td>\n",
       "      <td>1498</td>\n",
       "      <td>Y</td>\n",
       "      <td>GS칼텍스</td>\n",
       "      <td>노원구</td>\n",
       "    </tr>\n",
       "  </tbody>\n",
       "</table>\n",
       "</div>"
      ],
      "text/plain": [
       "               Oil_store                    주소    가격 셀프     상표    구\n",
       "0                  월계주유소  서울 노원구 월계로 252 (월계동)  1487  Y  GS칼텍스  노원구\n",
       "1                  삼육주유소  서울 노원구 화랑로 822 (공릉동)  1495  Y  SK에너지  노원구\n",
       "2  (주)소모에너지엔테크놀러지 수락산주유소       서울 노원구 동일로 1772  1496  Y  GS칼텍스  노원구\n",
       "3                태릉솔밭주유소   서울 노원구 노원로 49 (공릉동)  1498  Y  S-OIL  노원구\n",
       "4           (주)이엠배꽃나라주유소  서울 노원구 화랑로 466 (공릉동)  1498  Y  GS칼텍스  노원구"
      ]
     },
     "execution_count": 70,
     "metadata": {},
     "output_type": "execute_result"
    }
   ],
   "source": [
    "stations = stations[stations['가격'] != '-']\n",
    "stations.head()"
   ]
  },
  {
   "cell_type": "code",
   "execution_count": 71,
   "metadata": {},
   "outputs": [
    {
     "name": "stderr",
     "output_type": "stream",
     "text": [
      "/anaconda3/lib/python3.7/site-packages/ipykernel_launcher.py:1: SettingWithCopyWarning: \n",
      "A value is trying to be set on a copy of a slice from a DataFrame.\n",
      "Try using .loc[row_indexer,col_indexer] = value instead\n",
      "\n",
      "See the caveats in the documentation: http://pandas.pydata.org/pandas-docs/stable/user_guide/indexing.html#returning-a-view-versus-a-copy\n",
      "  \"\"\"Entry point for launching an IPython kernel.\n"
     ]
    }
   ],
   "source": [
    "stations['가격'] = [float(value) for value in stations['가격']]"
   ]
  },
  {
   "cell_type": "code",
   "execution_count": 72,
   "metadata": {},
   "outputs": [],
   "source": [
    "stations.reset_index(inplace=True)\n",
    "del stations['index']"
   ]
  },
  {
   "cell_type": "code",
   "execution_count": 73,
   "metadata": {},
   "outputs": [
    {
     "name": "stdout",
     "output_type": "stream",
     "text": [
      "<class 'pandas.core.frame.DataFrame'>\n",
      "RangeIndex: 498 entries, 0 to 497\n",
      "Data columns (total 6 columns):\n",
      "Oil_store    498 non-null object\n",
      "주소           498 non-null object\n",
      "가격           498 non-null float64\n",
      "셀프           498 non-null object\n",
      "상표           498 non-null object\n",
      "구            498 non-null object\n",
      "dtypes: float64(1), object(5)\n",
      "memory usage: 23.5+ KB\n"
     ]
    }
   ],
   "source": [
    "stations.info()"
   ]
  }
 ],
 "metadata": {
  "kernelspec": {
   "display_name": "Python 3",
   "language": "python",
   "name": "python3"
  },
  "language_info": {
   "codemirror_mode": {
    "name": "ipython",
    "version": 3
   },
   "file_extension": ".py",
   "mimetype": "text/x-python",
   "name": "python",
   "nbconvert_exporter": "python",
   "pygments_lexer": "ipython3",
   "version": "3.7.3"
  }
 },
 "nbformat": 4,
 "nbformat_minor": 2
}
